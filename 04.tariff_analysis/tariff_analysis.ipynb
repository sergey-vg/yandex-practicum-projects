{
 "cells": [
  {
   "cell_type": "markdown",
   "metadata": {},
   "source": [
    "# Определение перспективного тарифа для телеком-компании"
   ]
  },
  {
   "cell_type": "markdown",
   "metadata": {},
   "source": [
    "## Введение"
   ]
  },
  {
   "cell_type": "markdown",
   "metadata": {},
   "source": [
    "###### Описание проекта"
   ]
  },
  {
   "cell_type": "markdown",
   "metadata": {},
   "source": [
    "Вы аналитик компании «Мегалайн» — федерального оператора сотовой связи. Клиентам предлагают два тарифных плана: «Смарт» и «Ультра». Чтобы скорректировать рекламный бюджет, коммерческий департамент хочет понять, какой тариф приносит больше денег.\n",
    "Вам предстоит сделать предварительный анализ тарифов на небольшой выборке клиентов. В вашем распоряжении данные 500 пользователей «Мегалайна»: кто они, откуда, каким тарифом пользуются, сколько звонков и сообщений каждый отправил за 2018 год. Нужно проанализировать поведение клиентов и сделать вывод — какой тариф лучше."
   ]
  },
  {
   "cell_type": "markdown",
   "metadata": {},
   "source": [
    "Импорт необходимых библиотек"
   ]
  },
  {
   "cell_type": "code",
   "execution_count": 1,
   "metadata": {},
   "outputs": [],
   "source": [
    "import pandas as pd\n",
    "import numpy as np\n",
    "import math as mh\n",
    "from scipy import stats as st\n",
    "from matplotlib import pyplot as plt"
   ]
  },
  {
   "cell_type": "markdown",
   "metadata": {},
   "source": [
    "Открываем файлы и сохраняем данные в датафреймы"
   ]
  },
  {
   "cell_type": "code",
   "execution_count": 2,
   "metadata": {},
   "outputs": [],
   "source": [
    "df_users = pd.read_csv('/datasets/users.csv')\n",
    "df_tariffs = pd.read_csv('/datasets/tariffs.csv')\n",
    "df_calls = pd.read_csv('/datasets/calls.csv')\n",
    "df_messages = pd.read_csv('/datasets/messages.csv')\n",
    "df_internet = pd.read_csv('/datasets/internet.csv')"
   ]
  },
  {
   "cell_type": "markdown",
   "metadata": {},
   "source": [
    "## Изучение, проверка и корректировка данных в датфреймах"
   ]
  },
  {
   "cell_type": "markdown",
   "metadata": {},
   "source": [
    "### Таблица users"
   ]
  },
  {
   "cell_type": "markdown",
   "metadata": {},
   "source": [
    "#### Общая информация"
   ]
  },
  {
   "cell_type": "markdown",
   "metadata": {},
   "source": [
    "Таблица `users` (информация о пользователях):\n",
    "* `user_id` — уникальный идентификатор пользователя\n",
    "* `first_name` — имя пользователя\n",
    "* `last_name` — фамилия пользователя\n",
    "* `age` — возраст пользователя (годы)\n",
    "* `reg_date` — дата подключения тарифа (день, месяц, год)\n",
    "* `churn_date` — дата прекращения пользования тарифом (если значение пропущено, то тариф ещё действовал на момент выгрузки данных)\n",
    "* `city` — город проживания пользователя\n",
    "* `tarif` — название тарифного плана"
   ]
  },
  {
   "cell_type": "code",
   "execution_count": 3,
   "metadata": {},
   "outputs": [
    {
     "name": "stdout",
     "output_type": "stream",
     "text": [
      "<class 'pandas.core.frame.DataFrame'>\n",
      "RangeIndex: 500 entries, 0 to 499\n",
      "Data columns (total 8 columns):\n",
      "user_id       500 non-null int64\n",
      "age           500 non-null int64\n",
      "churn_date    38 non-null object\n",
      "city          500 non-null object\n",
      "first_name    500 non-null object\n",
      "last_name     500 non-null object\n",
      "reg_date      500 non-null object\n",
      "tariff        500 non-null object\n",
      "dtypes: int64(2), object(6)\n",
      "memory usage: 31.4+ KB\n"
     ]
    }
   ],
   "source": [
    "df_users.info()"
   ]
  },
  {
   "cell_type": "code",
   "execution_count": 4,
   "metadata": {},
   "outputs": [
    {
     "data": {
      "text/html": [
       "<div>\n",
       "<style scoped>\n",
       "    .dataframe tbody tr th:only-of-type {\n",
       "        vertical-align: middle;\n",
       "    }\n",
       "\n",
       "    .dataframe tbody tr th {\n",
       "        vertical-align: top;\n",
       "    }\n",
       "\n",
       "    .dataframe thead th {\n",
       "        text-align: right;\n",
       "    }\n",
       "</style>\n",
       "<table border=\"1\" class=\"dataframe\">\n",
       "  <thead>\n",
       "    <tr style=\"text-align: right;\">\n",
       "      <th></th>\n",
       "      <th>user_id</th>\n",
       "      <th>age</th>\n",
       "      <th>churn_date</th>\n",
       "      <th>city</th>\n",
       "      <th>first_name</th>\n",
       "      <th>last_name</th>\n",
       "      <th>reg_date</th>\n",
       "      <th>tariff</th>\n",
       "    </tr>\n",
       "  </thead>\n",
       "  <tbody>\n",
       "    <tr>\n",
       "      <td>0</td>\n",
       "      <td>1000</td>\n",
       "      <td>52</td>\n",
       "      <td>NaN</td>\n",
       "      <td>Краснодар</td>\n",
       "      <td>Рафаил</td>\n",
       "      <td>Верещагин</td>\n",
       "      <td>2018-05-25</td>\n",
       "      <td>ultra</td>\n",
       "    </tr>\n",
       "    <tr>\n",
       "      <td>1</td>\n",
       "      <td>1001</td>\n",
       "      <td>41</td>\n",
       "      <td>NaN</td>\n",
       "      <td>Москва</td>\n",
       "      <td>Иван</td>\n",
       "      <td>Ежов</td>\n",
       "      <td>2018-11-01</td>\n",
       "      <td>smart</td>\n",
       "    </tr>\n",
       "    <tr>\n",
       "      <td>2</td>\n",
       "      <td>1002</td>\n",
       "      <td>59</td>\n",
       "      <td>NaN</td>\n",
       "      <td>Стерлитамак</td>\n",
       "      <td>Евгений</td>\n",
       "      <td>Абрамович</td>\n",
       "      <td>2018-06-17</td>\n",
       "      <td>smart</td>\n",
       "    </tr>\n",
       "    <tr>\n",
       "      <td>3</td>\n",
       "      <td>1003</td>\n",
       "      <td>23</td>\n",
       "      <td>NaN</td>\n",
       "      <td>Москва</td>\n",
       "      <td>Белла</td>\n",
       "      <td>Белякова</td>\n",
       "      <td>2018-08-17</td>\n",
       "      <td>ultra</td>\n",
       "    </tr>\n",
       "    <tr>\n",
       "      <td>4</td>\n",
       "      <td>1004</td>\n",
       "      <td>68</td>\n",
       "      <td>NaN</td>\n",
       "      <td>Новокузнецк</td>\n",
       "      <td>Татьяна</td>\n",
       "      <td>Авдеенко</td>\n",
       "      <td>2018-05-14</td>\n",
       "      <td>ultra</td>\n",
       "    </tr>\n",
       "    <tr>\n",
       "      <td>5</td>\n",
       "      <td>1005</td>\n",
       "      <td>67</td>\n",
       "      <td>NaN</td>\n",
       "      <td>Набережные Челны</td>\n",
       "      <td>Афанасий</td>\n",
       "      <td>Горлов</td>\n",
       "      <td>2018-01-25</td>\n",
       "      <td>smart</td>\n",
       "    </tr>\n",
       "    <tr>\n",
       "      <td>6</td>\n",
       "      <td>1006</td>\n",
       "      <td>21</td>\n",
       "      <td>NaN</td>\n",
       "      <td>Ульяновск</td>\n",
       "      <td>Леонид</td>\n",
       "      <td>Ермолаев</td>\n",
       "      <td>2018-02-26</td>\n",
       "      <td>smart</td>\n",
       "    </tr>\n",
       "    <tr>\n",
       "      <td>7</td>\n",
       "      <td>1007</td>\n",
       "      <td>65</td>\n",
       "      <td>NaN</td>\n",
       "      <td>Москва</td>\n",
       "      <td>Юна</td>\n",
       "      <td>Березина</td>\n",
       "      <td>2018-04-19</td>\n",
       "      <td>smart</td>\n",
       "    </tr>\n",
       "    <tr>\n",
       "      <td>8</td>\n",
       "      <td>1008</td>\n",
       "      <td>63</td>\n",
       "      <td>NaN</td>\n",
       "      <td>Челябинск</td>\n",
       "      <td>Рустэм</td>\n",
       "      <td>Пономарёв</td>\n",
       "      <td>2018-12-19</td>\n",
       "      <td>smart</td>\n",
       "    </tr>\n",
       "    <tr>\n",
       "      <td>9</td>\n",
       "      <td>1009</td>\n",
       "      <td>24</td>\n",
       "      <td>NaN</td>\n",
       "      <td>Пермь</td>\n",
       "      <td>Василиса</td>\n",
       "      <td>Блинова</td>\n",
       "      <td>2018-03-22</td>\n",
       "      <td>smart</td>\n",
       "    </tr>\n",
       "  </tbody>\n",
       "</table>\n",
       "</div>"
      ],
      "text/plain": [
       "   user_id  age churn_date              city first_name  last_name  \\\n",
       "0     1000   52        NaN         Краснодар     Рафаил  Верещагин   \n",
       "1     1001   41        NaN            Москва       Иван       Ежов   \n",
       "2     1002   59        NaN       Стерлитамак    Евгений  Абрамович   \n",
       "3     1003   23        NaN            Москва      Белла   Белякова   \n",
       "4     1004   68        NaN       Новокузнецк    Татьяна   Авдеенко   \n",
       "5     1005   67        NaN  Набережные Челны   Афанасий     Горлов   \n",
       "6     1006   21        NaN         Ульяновск     Леонид   Ермолаев   \n",
       "7     1007   65        NaN            Москва        Юна   Березина   \n",
       "8     1008   63        NaN         Челябинск     Рустэм  Пономарёв   \n",
       "9     1009   24        NaN             Пермь   Василиса    Блинова   \n",
       "\n",
       "     reg_date tariff  \n",
       "0  2018-05-25  ultra  \n",
       "1  2018-11-01  smart  \n",
       "2  2018-06-17  smart  \n",
       "3  2018-08-17  ultra  \n",
       "4  2018-05-14  ultra  \n",
       "5  2018-01-25  smart  \n",
       "6  2018-02-26  smart  \n",
       "7  2018-04-19  smart  \n",
       "8  2018-12-19  smart  \n",
       "9  2018-03-22  smart  "
      ]
     },
     "execution_count": 4,
     "metadata": {},
     "output_type": "execute_result"
    }
   ],
   "source": [
    "df_users.head(10)"
   ]
  },
  {
   "cell_type": "markdown",
   "metadata": {},
   "source": [
    "Проверим столбцы `age` и `tariff` на некорректные данные"
   ]
  },
  {
   "cell_type": "code",
   "execution_count": 5,
   "metadata": {},
   "outputs": [
    {
     "data": {
      "text/plain": [
       "0"
      ]
     },
     "execution_count": 5,
     "metadata": {},
     "output_type": "execute_result"
    }
   ],
   "source": [
    "df_users.query('age < 18 or age > 100')['age'].count()"
   ]
  },
  {
   "cell_type": "code",
   "execution_count": 6,
   "metadata": {},
   "outputs": [
    {
     "data": {
      "text/plain": [
       "smart    351\n",
       "ultra    149\n",
       "Name: tariff, dtype: int64"
      ]
     },
     "execution_count": 6,
     "metadata": {},
     "output_type": "execute_result"
    }
   ],
   "source": [
    "df_users['tariff'].value_counts()"
   ]
  },
  {
   "cell_type": "markdown",
   "metadata": {},
   "source": [
    "###### Вывод\n",
    "\n",
    "* ошибок в данных не обнаруженно\n",
    "* есть пропуске в столбце `churn_date`, они означают: что тариф ещё действовал на момент выгрузки данных, поэтому не будем от них избавляться"
   ]
  },
  {
   "cell_type": "markdown",
   "metadata": {},
   "source": [
    "#### Создания словаря"
   ]
  },
  {
   "cell_type": "markdown",
   "metadata": {},
   "source": [
    "Создадим словарь со столбцами `user_id`, `city` и `tariff`"
   ]
  },
  {
   "cell_type": "code",
   "execution_count": 7,
   "metadata": {},
   "outputs": [],
   "source": [
    "df_users_tariff = df_users[['user_id','city', 'tariff']]"
   ]
  },
  {
   "cell_type": "code",
   "execution_count": 8,
   "metadata": {},
   "outputs": [
    {
     "name": "stdout",
     "output_type": "stream",
     "text": [
      "<class 'pandas.core.frame.DataFrame'>\n",
      "RangeIndex: 500 entries, 0 to 499\n",
      "Data columns (total 3 columns):\n",
      "user_id    500 non-null int64\n",
      "city       500 non-null object\n",
      "tariff     500 non-null object\n",
      "dtypes: int64(1), object(2)\n",
      "memory usage: 11.8+ KB\n"
     ]
    }
   ],
   "source": [
    "df_users_tariff.info()"
   ]
  },
  {
   "cell_type": "code",
   "execution_count": 9,
   "metadata": {},
   "outputs": [
    {
     "data": {
      "text/html": [
       "<div>\n",
       "<style scoped>\n",
       "    .dataframe tbody tr th:only-of-type {\n",
       "        vertical-align: middle;\n",
       "    }\n",
       "\n",
       "    .dataframe tbody tr th {\n",
       "        vertical-align: top;\n",
       "    }\n",
       "\n",
       "    .dataframe thead th {\n",
       "        text-align: right;\n",
       "    }\n",
       "</style>\n",
       "<table border=\"1\" class=\"dataframe\">\n",
       "  <thead>\n",
       "    <tr style=\"text-align: right;\">\n",
       "      <th></th>\n",
       "      <th>user_id</th>\n",
       "      <th>city</th>\n",
       "      <th>tariff</th>\n",
       "    </tr>\n",
       "  </thead>\n",
       "  <tbody>\n",
       "    <tr>\n",
       "      <td>0</td>\n",
       "      <td>1000</td>\n",
       "      <td>Краснодар</td>\n",
       "      <td>ultra</td>\n",
       "    </tr>\n",
       "    <tr>\n",
       "      <td>1</td>\n",
       "      <td>1001</td>\n",
       "      <td>Москва</td>\n",
       "      <td>smart</td>\n",
       "    </tr>\n",
       "    <tr>\n",
       "      <td>2</td>\n",
       "      <td>1002</td>\n",
       "      <td>Стерлитамак</td>\n",
       "      <td>smart</td>\n",
       "    </tr>\n",
       "    <tr>\n",
       "      <td>3</td>\n",
       "      <td>1003</td>\n",
       "      <td>Москва</td>\n",
       "      <td>ultra</td>\n",
       "    </tr>\n",
       "    <tr>\n",
       "      <td>4</td>\n",
       "      <td>1004</td>\n",
       "      <td>Новокузнецк</td>\n",
       "      <td>ultra</td>\n",
       "    </tr>\n",
       "  </tbody>\n",
       "</table>\n",
       "</div>"
      ],
      "text/plain": [
       "   user_id         city tariff\n",
       "0     1000    Краснодар  ultra\n",
       "1     1001       Москва  smart\n",
       "2     1002  Стерлитамак  smart\n",
       "3     1003       Москва  ultra\n",
       "4     1004  Новокузнецк  ultra"
      ]
     },
     "execution_count": 9,
     "metadata": {},
     "output_type": "execute_result"
    }
   ],
   "source": [
    "df_users_tariff.head()"
   ]
  },
  {
   "cell_type": "markdown",
   "metadata": {},
   "source": [
    "### Таблица tariffs"
   ]
  },
  {
   "cell_type": "markdown",
   "metadata": {},
   "source": [
    "#### Общая информация"
   ]
  },
  {
   "cell_type": "markdown",
   "metadata": {},
   "source": [
    "Таблица `tariffs` (информация о тарифах):\n",
    "* `tariff_name` — название тарифа\n",
    "* `rub_monthly_fee` — ежемесячная абонентская плата в рублях\n",
    "* `minutes_included` — количество минут разговора в месяц, включённых в абонентскую плату\n",
    "* `messages_included` — количество сообщений в месяц, включённых в абонентскую плату\n",
    "* `mb_per_month_included` — объём интернет-трафика, включённого в абонентскую плату (в мегабайтах)\n",
    "* `rub_per_minute` — стоимость минуты разговора сверх тарифного пакета (например, если в тарифе 100 минут разговора в месяц, то со 101 минуты будет взиматься плата)\n",
    "* `rub_per_message` — стоимость отправки сообщения сверх тарифного пакета\n",
    "* `rub_per_gb` — стоимость дополнительного гигабайта интернет-трафика сверх тарифного пакета (1 гигабайт = 1024 мегабайта)"
   ]
  },
  {
   "cell_type": "code",
   "execution_count": 10,
   "metadata": {},
   "outputs": [
    {
     "name": "stdout",
     "output_type": "stream",
     "text": [
      "<class 'pandas.core.frame.DataFrame'>\n",
      "RangeIndex: 2 entries, 0 to 1\n",
      "Data columns (total 8 columns):\n",
      "messages_included        2 non-null int64\n",
      "mb_per_month_included    2 non-null int64\n",
      "minutes_included         2 non-null int64\n",
      "rub_monthly_fee          2 non-null int64\n",
      "rub_per_gb               2 non-null int64\n",
      "rub_per_message          2 non-null int64\n",
      "rub_per_minute           2 non-null int64\n",
      "tariff_name              2 non-null object\n",
      "dtypes: int64(7), object(1)\n",
      "memory usage: 256.0+ bytes\n"
     ]
    }
   ],
   "source": [
    "df_tariffs.info()"
   ]
  },
  {
   "cell_type": "code",
   "execution_count": 11,
   "metadata": {},
   "outputs": [
    {
     "data": {
      "text/html": [
       "<div>\n",
       "<style scoped>\n",
       "    .dataframe tbody tr th:only-of-type {\n",
       "        vertical-align: middle;\n",
       "    }\n",
       "\n",
       "    .dataframe tbody tr th {\n",
       "        vertical-align: top;\n",
       "    }\n",
       "\n",
       "    .dataframe thead th {\n",
       "        text-align: right;\n",
       "    }\n",
       "</style>\n",
       "<table border=\"1\" class=\"dataframe\">\n",
       "  <thead>\n",
       "    <tr style=\"text-align: right;\">\n",
       "      <th></th>\n",
       "      <th>messages_included</th>\n",
       "      <th>mb_per_month_included</th>\n",
       "      <th>minutes_included</th>\n",
       "      <th>rub_monthly_fee</th>\n",
       "      <th>rub_per_gb</th>\n",
       "      <th>rub_per_message</th>\n",
       "      <th>rub_per_minute</th>\n",
       "      <th>tariff_name</th>\n",
       "    </tr>\n",
       "  </thead>\n",
       "  <tbody>\n",
       "    <tr>\n",
       "      <td>0</td>\n",
       "      <td>50</td>\n",
       "      <td>15360</td>\n",
       "      <td>500</td>\n",
       "      <td>550</td>\n",
       "      <td>200</td>\n",
       "      <td>3</td>\n",
       "      <td>3</td>\n",
       "      <td>smart</td>\n",
       "    </tr>\n",
       "    <tr>\n",
       "      <td>1</td>\n",
       "      <td>1000</td>\n",
       "      <td>30720</td>\n",
       "      <td>3000</td>\n",
       "      <td>1950</td>\n",
       "      <td>150</td>\n",
       "      <td>1</td>\n",
       "      <td>1</td>\n",
       "      <td>ultra</td>\n",
       "    </tr>\n",
       "  </tbody>\n",
       "</table>\n",
       "</div>"
      ],
      "text/plain": [
       "   messages_included  mb_per_month_included  minutes_included  \\\n",
       "0                 50                  15360               500   \n",
       "1               1000                  30720              3000   \n",
       "\n",
       "   rub_monthly_fee  rub_per_gb  rub_per_message  rub_per_minute tariff_name  \n",
       "0              550         200                3               3       smart  \n",
       "1             1950         150                1               1       ultra  "
      ]
     },
     "execution_count": 11,
     "metadata": {},
     "output_type": "execute_result"
    }
   ],
   "source": [
    "df_tariffs.head()"
   ]
  },
  {
   "cell_type": "markdown",
   "metadata": {},
   "source": [
    "###### Вывод\n",
    "\n",
    "* пропусков и ошибок в данных не обнаруженно\n",
    "* для удобства переведём интернет трафик из MB в GB"
   ]
  },
  {
   "cell_type": "markdown",
   "metadata": {},
   "source": [
    "#### Предобработка данных"
   ]
  },
  {
   "cell_type": "markdown",
   "metadata": {},
   "source": [
    "Переведём интернет трафик из MB в GB"
   ]
  },
  {
   "cell_type": "code",
   "execution_count": 12,
   "metadata": {},
   "outputs": [],
   "source": [
    "df_tariffs['mb_per_month_included'] = (df_tariffs['mb_per_month_included'] / 1024).astype(int)\n",
    "df_tariffs = df_tariffs.rename(columns={\"mb_per_month_included\": \"gb_per_month_included\"})"
   ]
  },
  {
   "cell_type": "code",
   "execution_count": 13,
   "metadata": {},
   "outputs": [
    {
     "data": {
      "text/html": [
       "<div>\n",
       "<style scoped>\n",
       "    .dataframe tbody tr th:only-of-type {\n",
       "        vertical-align: middle;\n",
       "    }\n",
       "\n",
       "    .dataframe tbody tr th {\n",
       "        vertical-align: top;\n",
       "    }\n",
       "\n",
       "    .dataframe thead th {\n",
       "        text-align: right;\n",
       "    }\n",
       "</style>\n",
       "<table border=\"1\" class=\"dataframe\">\n",
       "  <thead>\n",
       "    <tr style=\"text-align: right;\">\n",
       "      <th></th>\n",
       "      <th>messages_included</th>\n",
       "      <th>gb_per_month_included</th>\n",
       "      <th>minutes_included</th>\n",
       "      <th>rub_monthly_fee</th>\n",
       "      <th>rub_per_gb</th>\n",
       "      <th>rub_per_message</th>\n",
       "      <th>rub_per_minute</th>\n",
       "      <th>tariff_name</th>\n",
       "    </tr>\n",
       "  </thead>\n",
       "  <tbody>\n",
       "    <tr>\n",
       "      <td>0</td>\n",
       "      <td>50</td>\n",
       "      <td>15</td>\n",
       "      <td>500</td>\n",
       "      <td>550</td>\n",
       "      <td>200</td>\n",
       "      <td>3</td>\n",
       "      <td>3</td>\n",
       "      <td>smart</td>\n",
       "    </tr>\n",
       "    <tr>\n",
       "      <td>1</td>\n",
       "      <td>1000</td>\n",
       "      <td>30</td>\n",
       "      <td>3000</td>\n",
       "      <td>1950</td>\n",
       "      <td>150</td>\n",
       "      <td>1</td>\n",
       "      <td>1</td>\n",
       "      <td>ultra</td>\n",
       "    </tr>\n",
       "  </tbody>\n",
       "</table>\n",
       "</div>"
      ],
      "text/plain": [
       "   messages_included  gb_per_month_included  minutes_included  \\\n",
       "0                 50                     15               500   \n",
       "1               1000                     30              3000   \n",
       "\n",
       "   rub_monthly_fee  rub_per_gb  rub_per_message  rub_per_minute tariff_name  \n",
       "0              550         200                3               3       smart  \n",
       "1             1950         150                1               1       ultra  "
      ]
     },
     "execution_count": 13,
     "metadata": {},
     "output_type": "execute_result"
    }
   ],
   "source": [
    "df_tariffs.head()"
   ]
  },
  {
   "cell_type": "markdown",
   "metadata": {},
   "source": [
    "### Таблица calls"
   ]
  },
  {
   "cell_type": "markdown",
   "metadata": {},
   "source": [
    "#### Общая информация"
   ]
  },
  {
   "cell_type": "markdown",
   "metadata": {},
   "source": [
    "Таблица `calls` (информация о звонках):\n",
    "* `id` — уникальный номер звонка\n",
    "* `call_date` — дата звонка\n",
    "* `duration` — длительность звонка в минутах\n",
    "* `user_id` — идентификатор пользователя, сделавшего звонок"
   ]
  },
  {
   "cell_type": "code",
   "execution_count": 14,
   "metadata": {},
   "outputs": [
    {
     "name": "stdout",
     "output_type": "stream",
     "text": [
      "<class 'pandas.core.frame.DataFrame'>\n",
      "RangeIndex: 202607 entries, 0 to 202606\n",
      "Data columns (total 4 columns):\n",
      "id           202607 non-null object\n",
      "call_date    202607 non-null object\n",
      "duration     202607 non-null float64\n",
      "user_id      202607 non-null int64\n",
      "dtypes: float64(1), int64(1), object(2)\n",
      "memory usage: 6.2+ MB\n"
     ]
    }
   ],
   "source": [
    "df_calls.info()"
   ]
  },
  {
   "cell_type": "code",
   "execution_count": 15,
   "metadata": {},
   "outputs": [
    {
     "data": {
      "text/html": [
       "<div>\n",
       "<style scoped>\n",
       "    .dataframe tbody tr th:only-of-type {\n",
       "        vertical-align: middle;\n",
       "    }\n",
       "\n",
       "    .dataframe tbody tr th {\n",
       "        vertical-align: top;\n",
       "    }\n",
       "\n",
       "    .dataframe thead th {\n",
       "        text-align: right;\n",
       "    }\n",
       "</style>\n",
       "<table border=\"1\" class=\"dataframe\">\n",
       "  <thead>\n",
       "    <tr style=\"text-align: right;\">\n",
       "      <th></th>\n",
       "      <th>id</th>\n",
       "      <th>call_date</th>\n",
       "      <th>duration</th>\n",
       "      <th>user_id</th>\n",
       "    </tr>\n",
       "  </thead>\n",
       "  <tbody>\n",
       "    <tr>\n",
       "      <td>0</td>\n",
       "      <td>1000_0</td>\n",
       "      <td>2018-07-25</td>\n",
       "      <td>0.00</td>\n",
       "      <td>1000</td>\n",
       "    </tr>\n",
       "    <tr>\n",
       "      <td>1</td>\n",
       "      <td>1000_1</td>\n",
       "      <td>2018-08-17</td>\n",
       "      <td>0.00</td>\n",
       "      <td>1000</td>\n",
       "    </tr>\n",
       "    <tr>\n",
       "      <td>2</td>\n",
       "      <td>1000_2</td>\n",
       "      <td>2018-06-11</td>\n",
       "      <td>2.85</td>\n",
       "      <td>1000</td>\n",
       "    </tr>\n",
       "    <tr>\n",
       "      <td>3</td>\n",
       "      <td>1000_3</td>\n",
       "      <td>2018-09-21</td>\n",
       "      <td>13.80</td>\n",
       "      <td>1000</td>\n",
       "    </tr>\n",
       "    <tr>\n",
       "      <td>4</td>\n",
       "      <td>1000_4</td>\n",
       "      <td>2018-12-15</td>\n",
       "      <td>5.18</td>\n",
       "      <td>1000</td>\n",
       "    </tr>\n",
       "    <tr>\n",
       "      <td>5</td>\n",
       "      <td>1000_5</td>\n",
       "      <td>2018-11-02</td>\n",
       "      <td>0.00</td>\n",
       "      <td>1000</td>\n",
       "    </tr>\n",
       "    <tr>\n",
       "      <td>6</td>\n",
       "      <td>1000_6</td>\n",
       "      <td>2018-10-18</td>\n",
       "      <td>0.00</td>\n",
       "      <td>1000</td>\n",
       "    </tr>\n",
       "    <tr>\n",
       "      <td>7</td>\n",
       "      <td>1000_7</td>\n",
       "      <td>2018-08-22</td>\n",
       "      <td>18.31</td>\n",
       "      <td>1000</td>\n",
       "    </tr>\n",
       "    <tr>\n",
       "      <td>8</td>\n",
       "      <td>1000_8</td>\n",
       "      <td>2018-09-15</td>\n",
       "      <td>18.44</td>\n",
       "      <td>1000</td>\n",
       "    </tr>\n",
       "    <tr>\n",
       "      <td>9</td>\n",
       "      <td>1000_9</td>\n",
       "      <td>2018-08-15</td>\n",
       "      <td>0.00</td>\n",
       "      <td>1000</td>\n",
       "    </tr>\n",
       "  </tbody>\n",
       "</table>\n",
       "</div>"
      ],
      "text/plain": [
       "       id   call_date  duration  user_id\n",
       "0  1000_0  2018-07-25      0.00     1000\n",
       "1  1000_1  2018-08-17      0.00     1000\n",
       "2  1000_2  2018-06-11      2.85     1000\n",
       "3  1000_3  2018-09-21     13.80     1000\n",
       "4  1000_4  2018-12-15      5.18     1000\n",
       "5  1000_5  2018-11-02      0.00     1000\n",
       "6  1000_6  2018-10-18      0.00     1000\n",
       "7  1000_7  2018-08-22     18.31     1000\n",
       "8  1000_8  2018-09-15     18.44     1000\n",
       "9  1000_9  2018-08-15      0.00     1000"
      ]
     },
     "execution_count": 15,
     "metadata": {},
     "output_type": "execute_result"
    }
   ],
   "source": [
    "df_calls.head(10)"
   ]
  },
  {
   "cell_type": "markdown",
   "metadata": {},
   "source": [
    "Проверим длительность звонков, на некорректные значения"
   ]
  },
  {
   "cell_type": "code",
   "execution_count": 16,
   "metadata": {},
   "outputs": [
    {
     "data": {
      "text/plain": [
       "0"
      ]
     },
     "execution_count": 16,
     "metadata": {},
     "output_type": "execute_result"
    }
   ],
   "source": [
    "df_calls.query('duration < 0 or duration > 1000')['duration'].count()"
   ]
  },
  {
   "cell_type": "markdown",
   "metadata": {},
   "source": [
    "###### Вывод\n",
    "\n",
    "* пропусков и ошибок в данных не обнаруженно\n",
    "* необходимо длительность звонков округлить до целых чисел, исходя из правил тарификации, и перевсти данный столбец в тип int\n",
    "* необходимо создать столбец с месяцом звонка\n",
    "* в таблице обнаружены нули в продолжительности звонков, нулями обозначены пропущенные звонки, поэтому их не нужно удалять. Они нам не помешают, так как мы будем суммировать звонки за месяц и нули исчезнут."
   ]
  },
  {
   "cell_type": "markdown",
   "metadata": {},
   "source": [
    "#### Предобработка данных"
   ]
  },
  {
   "cell_type": "markdown",
   "metadata": {},
   "source": [
    "Округлим длительность звонков до целых чисел (в большую сторону) и переведем столбец 'duration' в тип int"
   ]
  },
  {
   "cell_type": "code",
   "execution_count": 17,
   "metadata": {},
   "outputs": [],
   "source": [
    "df_calls['duration'] = np.ceil(df_calls.duration).astype(int)"
   ]
  },
  {
   "cell_type": "code",
   "execution_count": 18,
   "metadata": {},
   "outputs": [
    {
     "data": {
      "text/html": [
       "<div>\n",
       "<style scoped>\n",
       "    .dataframe tbody tr th:only-of-type {\n",
       "        vertical-align: middle;\n",
       "    }\n",
       "\n",
       "    .dataframe tbody tr th {\n",
       "        vertical-align: top;\n",
       "    }\n",
       "\n",
       "    .dataframe thead th {\n",
       "        text-align: right;\n",
       "    }\n",
       "</style>\n",
       "<table border=\"1\" class=\"dataframe\">\n",
       "  <thead>\n",
       "    <tr style=\"text-align: right;\">\n",
       "      <th></th>\n",
       "      <th>id</th>\n",
       "      <th>call_date</th>\n",
       "      <th>duration</th>\n",
       "      <th>user_id</th>\n",
       "    </tr>\n",
       "  </thead>\n",
       "  <tbody>\n",
       "    <tr>\n",
       "      <td>0</td>\n",
       "      <td>1000_0</td>\n",
       "      <td>2018-07-25</td>\n",
       "      <td>0</td>\n",
       "      <td>1000</td>\n",
       "    </tr>\n",
       "    <tr>\n",
       "      <td>1</td>\n",
       "      <td>1000_1</td>\n",
       "      <td>2018-08-17</td>\n",
       "      <td>0</td>\n",
       "      <td>1000</td>\n",
       "    </tr>\n",
       "    <tr>\n",
       "      <td>2</td>\n",
       "      <td>1000_2</td>\n",
       "      <td>2018-06-11</td>\n",
       "      <td>3</td>\n",
       "      <td>1000</td>\n",
       "    </tr>\n",
       "    <tr>\n",
       "      <td>3</td>\n",
       "      <td>1000_3</td>\n",
       "      <td>2018-09-21</td>\n",
       "      <td>14</td>\n",
       "      <td>1000</td>\n",
       "    </tr>\n",
       "    <tr>\n",
       "      <td>4</td>\n",
       "      <td>1000_4</td>\n",
       "      <td>2018-12-15</td>\n",
       "      <td>6</td>\n",
       "      <td>1000</td>\n",
       "    </tr>\n",
       "    <tr>\n",
       "      <td>5</td>\n",
       "      <td>1000_5</td>\n",
       "      <td>2018-11-02</td>\n",
       "      <td>0</td>\n",
       "      <td>1000</td>\n",
       "    </tr>\n",
       "    <tr>\n",
       "      <td>6</td>\n",
       "      <td>1000_6</td>\n",
       "      <td>2018-10-18</td>\n",
       "      <td>0</td>\n",
       "      <td>1000</td>\n",
       "    </tr>\n",
       "    <tr>\n",
       "      <td>7</td>\n",
       "      <td>1000_7</td>\n",
       "      <td>2018-08-22</td>\n",
       "      <td>19</td>\n",
       "      <td>1000</td>\n",
       "    </tr>\n",
       "    <tr>\n",
       "      <td>8</td>\n",
       "      <td>1000_8</td>\n",
       "      <td>2018-09-15</td>\n",
       "      <td>19</td>\n",
       "      <td>1000</td>\n",
       "    </tr>\n",
       "    <tr>\n",
       "      <td>9</td>\n",
       "      <td>1000_9</td>\n",
       "      <td>2018-08-15</td>\n",
       "      <td>0</td>\n",
       "      <td>1000</td>\n",
       "    </tr>\n",
       "  </tbody>\n",
       "</table>\n",
       "</div>"
      ],
      "text/plain": [
       "       id   call_date  duration  user_id\n",
       "0  1000_0  2018-07-25         0     1000\n",
       "1  1000_1  2018-08-17         0     1000\n",
       "2  1000_2  2018-06-11         3     1000\n",
       "3  1000_3  2018-09-21        14     1000\n",
       "4  1000_4  2018-12-15         6     1000\n",
       "5  1000_5  2018-11-02         0     1000\n",
       "6  1000_6  2018-10-18         0     1000\n",
       "7  1000_7  2018-08-22        19     1000\n",
       "8  1000_8  2018-09-15        19     1000\n",
       "9  1000_9  2018-08-15         0     1000"
      ]
     },
     "execution_count": 18,
     "metadata": {},
     "output_type": "execute_result"
    }
   ],
   "source": [
    "df_calls.head(10)"
   ]
  },
  {
   "cell_type": "markdown",
   "metadata": {},
   "source": [
    "#### Добавление новых столбцов"
   ]
  },
  {
   "cell_type": "markdown",
   "metadata": {},
   "source": [
    "Добавим столбец с месяцем совершения звонка"
   ]
  },
  {
   "cell_type": "code",
   "execution_count": 19,
   "metadata": {},
   "outputs": [],
   "source": [
    "df_calls['month'] = pd.DatetimeIndex(df_calls.call_date).month"
   ]
  },
  {
   "cell_type": "markdown",
   "metadata": {},
   "source": [
    "#### Агригирование таблицы"
   ]
  },
  {
   "cell_type": "markdown",
   "metadata": {},
   "source": [
    "Посчитаем для каждого пользователя,количество сделанных звонков и израсходованных минут разговора по месяцам"
   ]
  },
  {
   "cell_type": "code",
   "execution_count": 20,
   "metadata": {},
   "outputs": [
    {
     "data": {
      "text/html": [
       "<div>\n",
       "<style scoped>\n",
       "    .dataframe tbody tr th:only-of-type {\n",
       "        vertical-align: middle;\n",
       "    }\n",
       "\n",
       "    .dataframe tbody tr th {\n",
       "        vertical-align: top;\n",
       "    }\n",
       "\n",
       "    .dataframe thead th {\n",
       "        text-align: right;\n",
       "    }\n",
       "</style>\n",
       "<table border=\"1\" class=\"dataframe\">\n",
       "  <thead>\n",
       "    <tr style=\"text-align: right;\">\n",
       "      <th></th>\n",
       "      <th>user_id</th>\n",
       "      <th>month</th>\n",
       "      <th>duration</th>\n",
       "    </tr>\n",
       "  </thead>\n",
       "  <tbody>\n",
       "    <tr>\n",
       "      <td>0</td>\n",
       "      <td>1000</td>\n",
       "      <td>5</td>\n",
       "      <td>159</td>\n",
       "    </tr>\n",
       "    <tr>\n",
       "      <td>1</td>\n",
       "      <td>1000</td>\n",
       "      <td>6</td>\n",
       "      <td>172</td>\n",
       "    </tr>\n",
       "    <tr>\n",
       "      <td>2</td>\n",
       "      <td>1000</td>\n",
       "      <td>7</td>\n",
       "      <td>340</td>\n",
       "    </tr>\n",
       "    <tr>\n",
       "      <td>3</td>\n",
       "      <td>1000</td>\n",
       "      <td>8</td>\n",
       "      <td>408</td>\n",
       "    </tr>\n",
       "    <tr>\n",
       "      <td>4</td>\n",
       "      <td>1000</td>\n",
       "      <td>9</td>\n",
       "      <td>466</td>\n",
       "    </tr>\n",
       "  </tbody>\n",
       "</table>\n",
       "</div>"
      ],
      "text/plain": [
       "   user_id  month  duration\n",
       "0     1000      5       159\n",
       "1     1000      6       172\n",
       "2     1000      7       340\n",
       "3     1000      8       408\n",
       "4     1000      9       466"
      ]
     },
     "execution_count": 20,
     "metadata": {},
     "output_type": "execute_result"
    }
   ],
   "source": [
    "df_calls_sum = df_calls.pivot_table(index=['user_id', 'month'], values='duration', aggfunc='sum').reset_index().copy()\n",
    "df_calls_sum.head()"
   ]
  },
  {
   "cell_type": "markdown",
   "metadata": {},
   "source": [
    "### Таблица messages"
   ]
  },
  {
   "cell_type": "markdown",
   "metadata": {},
   "source": [
    "#### Общая информация"
   ]
  },
  {
   "cell_type": "markdown",
   "metadata": {},
   "source": [
    "Таблица `messages` (информация о сообщениях):\n",
    "* `id` — уникальный номер сообщения\n",
    "* `message_date` — дата сообщения\n",
    "* `user_id` — идентификатор пользователя, отправившего сообщение"
   ]
  },
  {
   "cell_type": "code",
   "execution_count": 21,
   "metadata": {},
   "outputs": [
    {
     "name": "stdout",
     "output_type": "stream",
     "text": [
      "<class 'pandas.core.frame.DataFrame'>\n",
      "RangeIndex: 123036 entries, 0 to 123035\n",
      "Data columns (total 3 columns):\n",
      "id              123036 non-null object\n",
      "message_date    123036 non-null object\n",
      "user_id         123036 non-null int64\n",
      "dtypes: int64(1), object(2)\n",
      "memory usage: 2.8+ MB\n"
     ]
    }
   ],
   "source": [
    "df_messages.info()"
   ]
  },
  {
   "cell_type": "code",
   "execution_count": 22,
   "metadata": {},
   "outputs": [
    {
     "data": {
      "text/html": [
       "<div>\n",
       "<style scoped>\n",
       "    .dataframe tbody tr th:only-of-type {\n",
       "        vertical-align: middle;\n",
       "    }\n",
       "\n",
       "    .dataframe tbody tr th {\n",
       "        vertical-align: top;\n",
       "    }\n",
       "\n",
       "    .dataframe thead th {\n",
       "        text-align: right;\n",
       "    }\n",
       "</style>\n",
       "<table border=\"1\" class=\"dataframe\">\n",
       "  <thead>\n",
       "    <tr style=\"text-align: right;\">\n",
       "      <th></th>\n",
       "      <th>id</th>\n",
       "      <th>message_date</th>\n",
       "      <th>user_id</th>\n",
       "    </tr>\n",
       "  </thead>\n",
       "  <tbody>\n",
       "    <tr>\n",
       "      <td>0</td>\n",
       "      <td>1000_0</td>\n",
       "      <td>2018-06-27</td>\n",
       "      <td>1000</td>\n",
       "    </tr>\n",
       "    <tr>\n",
       "      <td>1</td>\n",
       "      <td>1000_1</td>\n",
       "      <td>2018-10-08</td>\n",
       "      <td>1000</td>\n",
       "    </tr>\n",
       "    <tr>\n",
       "      <td>2</td>\n",
       "      <td>1000_2</td>\n",
       "      <td>2018-08-04</td>\n",
       "      <td>1000</td>\n",
       "    </tr>\n",
       "    <tr>\n",
       "      <td>3</td>\n",
       "      <td>1000_3</td>\n",
       "      <td>2018-06-16</td>\n",
       "      <td>1000</td>\n",
       "    </tr>\n",
       "    <tr>\n",
       "      <td>4</td>\n",
       "      <td>1000_4</td>\n",
       "      <td>2018-12-05</td>\n",
       "      <td>1000</td>\n",
       "    </tr>\n",
       "    <tr>\n",
       "      <td>5</td>\n",
       "      <td>1000_5</td>\n",
       "      <td>2018-06-20</td>\n",
       "      <td>1000</td>\n",
       "    </tr>\n",
       "    <tr>\n",
       "      <td>6</td>\n",
       "      <td>1000_6</td>\n",
       "      <td>2018-11-19</td>\n",
       "      <td>1000</td>\n",
       "    </tr>\n",
       "    <tr>\n",
       "      <td>7</td>\n",
       "      <td>1000_7</td>\n",
       "      <td>2018-10-29</td>\n",
       "      <td>1000</td>\n",
       "    </tr>\n",
       "    <tr>\n",
       "      <td>8</td>\n",
       "      <td>1000_8</td>\n",
       "      <td>2018-06-25</td>\n",
       "      <td>1000</td>\n",
       "    </tr>\n",
       "    <tr>\n",
       "      <td>9</td>\n",
       "      <td>1000_9</td>\n",
       "      <td>2018-12-18</td>\n",
       "      <td>1000</td>\n",
       "    </tr>\n",
       "  </tbody>\n",
       "</table>\n",
       "</div>"
      ],
      "text/plain": [
       "       id message_date  user_id\n",
       "0  1000_0   2018-06-27     1000\n",
       "1  1000_1   2018-10-08     1000\n",
       "2  1000_2   2018-08-04     1000\n",
       "3  1000_3   2018-06-16     1000\n",
       "4  1000_4   2018-12-05     1000\n",
       "5  1000_5   2018-06-20     1000\n",
       "6  1000_6   2018-11-19     1000\n",
       "7  1000_7   2018-10-29     1000\n",
       "8  1000_8   2018-06-25     1000\n",
       "9  1000_9   2018-12-18     1000"
      ]
     },
     "execution_count": 22,
     "metadata": {},
     "output_type": "execute_result"
    }
   ],
   "source": [
    "df_messages.head(10)"
   ]
  },
  {
   "cell_type": "markdown",
   "metadata": {},
   "source": [
    "###### Вывод\n",
    "\n",
    "* пропусков и ошибок в данных не обнаруженно\n",
    "* необходимо создать столбец с месяцем отправки сообщения"
   ]
  },
  {
   "cell_type": "markdown",
   "metadata": {},
   "source": [
    "#### Добавление новых столбцов"
   ]
  },
  {
   "cell_type": "markdown",
   "metadata": {},
   "source": [
    "Добавим столбец с месяцем отправки сообщения"
   ]
  },
  {
   "cell_type": "code",
   "execution_count": 23,
   "metadata": {},
   "outputs": [],
   "source": [
    "df_messages['month'] = pd.DatetimeIndex(df_messages.message_date).month"
   ]
  },
  {
   "cell_type": "markdown",
   "metadata": {},
   "source": [
    "#### Агригирование таблицы"
   ]
  },
  {
   "cell_type": "markdown",
   "metadata": {},
   "source": [
    "Посчитаем для каждого пользователя,количество отправленных сообщений по месяцам"
   ]
  },
  {
   "cell_type": "code",
   "execution_count": 24,
   "metadata": {},
   "outputs": [],
   "source": [
    "df_messages_sum = df_calls.pivot_table(index=['user_id', 'month'], values='id', aggfunc='count').reset_index().copy()"
   ]
  },
  {
   "cell_type": "markdown",
   "metadata": {},
   "source": [
    "Переименуем столбец"
   ]
  },
  {
   "cell_type": "code",
   "execution_count": 25,
   "metadata": {},
   "outputs": [
    {
     "data": {
      "text/html": [
       "<div>\n",
       "<style scoped>\n",
       "    .dataframe tbody tr th:only-of-type {\n",
       "        vertical-align: middle;\n",
       "    }\n",
       "\n",
       "    .dataframe tbody tr th {\n",
       "        vertical-align: top;\n",
       "    }\n",
       "\n",
       "    .dataframe thead th {\n",
       "        text-align: right;\n",
       "    }\n",
       "</style>\n",
       "<table border=\"1\" class=\"dataframe\">\n",
       "  <thead>\n",
       "    <tr style=\"text-align: right;\">\n",
       "      <th></th>\n",
       "      <th>user_id</th>\n",
       "      <th>month</th>\n",
       "      <th>count_messages</th>\n",
       "    </tr>\n",
       "  </thead>\n",
       "  <tbody>\n",
       "    <tr>\n",
       "      <td>0</td>\n",
       "      <td>1000</td>\n",
       "      <td>5</td>\n",
       "      <td>22</td>\n",
       "    </tr>\n",
       "    <tr>\n",
       "      <td>1</td>\n",
       "      <td>1000</td>\n",
       "      <td>6</td>\n",
       "      <td>43</td>\n",
       "    </tr>\n",
       "    <tr>\n",
       "      <td>2</td>\n",
       "      <td>1000</td>\n",
       "      <td>7</td>\n",
       "      <td>47</td>\n",
       "    </tr>\n",
       "    <tr>\n",
       "      <td>3</td>\n",
       "      <td>1000</td>\n",
       "      <td>8</td>\n",
       "      <td>52</td>\n",
       "    </tr>\n",
       "    <tr>\n",
       "      <td>4</td>\n",
       "      <td>1000</td>\n",
       "      <td>9</td>\n",
       "      <td>58</td>\n",
       "    </tr>\n",
       "  </tbody>\n",
       "</table>\n",
       "</div>"
      ],
      "text/plain": [
       "   user_id  month  count_messages\n",
       "0     1000      5              22\n",
       "1     1000      6              43\n",
       "2     1000      7              47\n",
       "3     1000      8              52\n",
       "4     1000      9              58"
      ]
     },
     "execution_count": 25,
     "metadata": {},
     "output_type": "execute_result"
    }
   ],
   "source": [
    "df_messages_sum = df_messages_sum.rename(columns={\"id\": \"count_messages\"})\n",
    "df_messages_sum.head()"
   ]
  },
  {
   "cell_type": "markdown",
   "metadata": {},
   "source": [
    "### Таблица internet"
   ]
  },
  {
   "cell_type": "markdown",
   "metadata": {},
   "source": [
    "#### Общая информация"
   ]
  },
  {
   "cell_type": "markdown",
   "metadata": {},
   "source": [
    "Таблица `internet` (информация об интернет-сессиях):\n",
    "* `id` — уникальный номер сессии\n",
    "* `mb_used` — объём потраченного за сессию интернет-трафика (в мегабайтах)\n",
    "* `session_date` — дата интернет-сессии\n",
    "* `user_id` — идентификатор пользователя"
   ]
  },
  {
   "cell_type": "code",
   "execution_count": 26,
   "metadata": {
    "scrolled": true
   },
   "outputs": [
    {
     "name": "stdout",
     "output_type": "stream",
     "text": [
      "<class 'pandas.core.frame.DataFrame'>\n",
      "RangeIndex: 149396 entries, 0 to 149395\n",
      "Data columns (total 5 columns):\n",
      "Unnamed: 0      149396 non-null int64\n",
      "id              149396 non-null object\n",
      "mb_used         149396 non-null float64\n",
      "session_date    149396 non-null object\n",
      "user_id         149396 non-null int64\n",
      "dtypes: float64(1), int64(2), object(2)\n",
      "memory usage: 5.7+ MB\n"
     ]
    }
   ],
   "source": [
    "df_internet.info()"
   ]
  },
  {
   "cell_type": "code",
   "execution_count": 27,
   "metadata": {},
   "outputs": [
    {
     "data": {
      "text/html": [
       "<div>\n",
       "<style scoped>\n",
       "    .dataframe tbody tr th:only-of-type {\n",
       "        vertical-align: middle;\n",
       "    }\n",
       "\n",
       "    .dataframe tbody tr th {\n",
       "        vertical-align: top;\n",
       "    }\n",
       "\n",
       "    .dataframe thead th {\n",
       "        text-align: right;\n",
       "    }\n",
       "</style>\n",
       "<table border=\"1\" class=\"dataframe\">\n",
       "  <thead>\n",
       "    <tr style=\"text-align: right;\">\n",
       "      <th></th>\n",
       "      <th>Unnamed: 0</th>\n",
       "      <th>id</th>\n",
       "      <th>mb_used</th>\n",
       "      <th>session_date</th>\n",
       "      <th>user_id</th>\n",
       "    </tr>\n",
       "  </thead>\n",
       "  <tbody>\n",
       "    <tr>\n",
       "      <td>0</td>\n",
       "      <td>0</td>\n",
       "      <td>1000_0</td>\n",
       "      <td>112.95</td>\n",
       "      <td>2018-11-25</td>\n",
       "      <td>1000</td>\n",
       "    </tr>\n",
       "    <tr>\n",
       "      <td>1</td>\n",
       "      <td>1</td>\n",
       "      <td>1000_1</td>\n",
       "      <td>1052.81</td>\n",
       "      <td>2018-09-07</td>\n",
       "      <td>1000</td>\n",
       "    </tr>\n",
       "    <tr>\n",
       "      <td>2</td>\n",
       "      <td>2</td>\n",
       "      <td>1000_2</td>\n",
       "      <td>1197.26</td>\n",
       "      <td>2018-06-25</td>\n",
       "      <td>1000</td>\n",
       "    </tr>\n",
       "    <tr>\n",
       "      <td>3</td>\n",
       "      <td>3</td>\n",
       "      <td>1000_3</td>\n",
       "      <td>550.27</td>\n",
       "      <td>2018-08-22</td>\n",
       "      <td>1000</td>\n",
       "    </tr>\n",
       "    <tr>\n",
       "      <td>4</td>\n",
       "      <td>4</td>\n",
       "      <td>1000_4</td>\n",
       "      <td>302.56</td>\n",
       "      <td>2018-09-24</td>\n",
       "      <td>1000</td>\n",
       "    </tr>\n",
       "    <tr>\n",
       "      <td>5</td>\n",
       "      <td>5</td>\n",
       "      <td>1000_5</td>\n",
       "      <td>399.97</td>\n",
       "      <td>2018-10-02</td>\n",
       "      <td>1000</td>\n",
       "    </tr>\n",
       "    <tr>\n",
       "      <td>6</td>\n",
       "      <td>6</td>\n",
       "      <td>1000_6</td>\n",
       "      <td>540.08</td>\n",
       "      <td>2018-09-07</td>\n",
       "      <td>1000</td>\n",
       "    </tr>\n",
       "    <tr>\n",
       "      <td>7</td>\n",
       "      <td>7</td>\n",
       "      <td>1000_7</td>\n",
       "      <td>415.70</td>\n",
       "      <td>2018-07-11</td>\n",
       "      <td>1000</td>\n",
       "    </tr>\n",
       "    <tr>\n",
       "      <td>8</td>\n",
       "      <td>8</td>\n",
       "      <td>1000_8</td>\n",
       "      <td>505.40</td>\n",
       "      <td>2018-10-08</td>\n",
       "      <td>1000</td>\n",
       "    </tr>\n",
       "    <tr>\n",
       "      <td>9</td>\n",
       "      <td>9</td>\n",
       "      <td>1000_9</td>\n",
       "      <td>345.54</td>\n",
       "      <td>2018-09-03</td>\n",
       "      <td>1000</td>\n",
       "    </tr>\n",
       "  </tbody>\n",
       "</table>\n",
       "</div>"
      ],
      "text/plain": [
       "   Unnamed: 0      id  mb_used session_date  user_id\n",
       "0           0  1000_0   112.95   2018-11-25     1000\n",
       "1           1  1000_1  1052.81   2018-09-07     1000\n",
       "2           2  1000_2  1197.26   2018-06-25     1000\n",
       "3           3  1000_3   550.27   2018-08-22     1000\n",
       "4           4  1000_4   302.56   2018-09-24     1000\n",
       "5           5  1000_5   399.97   2018-10-02     1000\n",
       "6           6  1000_6   540.08   2018-09-07     1000\n",
       "7           7  1000_7   415.70   2018-07-11     1000\n",
       "8           8  1000_8   505.40   2018-10-08     1000\n",
       "9           9  1000_9   345.54   2018-09-03     1000"
      ]
     },
     "execution_count": 27,
     "metadata": {},
     "output_type": "execute_result"
    }
   ],
   "source": [
    "df_internet.head(10)"
   ]
  },
  {
   "cell_type": "markdown",
   "metadata": {},
   "source": [
    "Проверка данных на некорректные значения"
   ]
  },
  {
   "cell_type": "code",
   "execution_count": 28,
   "metadata": {},
   "outputs": [
    {
     "data": {
      "text/plain": [
       "0"
      ]
     },
     "execution_count": 28,
     "metadata": {},
     "output_type": "execute_result"
    }
   ],
   "source": [
    "df_internet.query('mb_used < 0')['mb_used'].count()"
   ]
  },
  {
   "cell_type": "markdown",
   "metadata": {},
   "source": [
    "###### Вывод\n",
    "\n",
    "* пропусков и ошибок в данных не обнаруженно\n",
    "* обнаружен столбец дублирующий индекс, удалять его не будем, так как нам необходимо агрегировать таблицу и его уже в ней не будет\n",
    "* необходимо создать столбец с месяцем использования интернет сессии"
   ]
  },
  {
   "cell_type": "markdown",
   "metadata": {},
   "source": [
    "#### Добавление новых столбцов"
   ]
  },
  {
   "cell_type": "markdown",
   "metadata": {},
   "source": [
    "Добавим столбец с месяцем использования интернет сессии"
   ]
  },
  {
   "cell_type": "code",
   "execution_count": 29,
   "metadata": {},
   "outputs": [],
   "source": [
    "df_internet['month'] = pd.DatetimeIndex(df_internet.session_date).month"
   ]
  },
  {
   "cell_type": "markdown",
   "metadata": {},
   "source": [
    "#### Агригирование таблицы"
   ]
  },
  {
   "cell_type": "markdown",
   "metadata": {},
   "source": [
    "Посчитаем для каждого пользователя,количество интернет трафика по месяцам и переведём это значение в ГБ"
   ]
  },
  {
   "cell_type": "code",
   "execution_count": 30,
   "metadata": {},
   "outputs": [
    {
     "data": {
      "text/html": [
       "<div>\n",
       "<style scoped>\n",
       "    .dataframe tbody tr th:only-of-type {\n",
       "        vertical-align: middle;\n",
       "    }\n",
       "\n",
       "    .dataframe tbody tr th {\n",
       "        vertical-align: top;\n",
       "    }\n",
       "\n",
       "    .dataframe thead th {\n",
       "        text-align: right;\n",
       "    }\n",
       "</style>\n",
       "<table border=\"1\" class=\"dataframe\">\n",
       "  <thead>\n",
       "    <tr style=\"text-align: right;\">\n",
       "      <th></th>\n",
       "      <th>user_id</th>\n",
       "      <th>month</th>\n",
       "      <th>gb_used</th>\n",
       "    </tr>\n",
       "  </thead>\n",
       "  <tbody>\n",
       "    <tr>\n",
       "      <td>0</td>\n",
       "      <td>1000</td>\n",
       "      <td>5</td>\n",
       "      <td>3</td>\n",
       "    </tr>\n",
       "    <tr>\n",
       "      <td>1</td>\n",
       "      <td>1000</td>\n",
       "      <td>6</td>\n",
       "      <td>23</td>\n",
       "    </tr>\n",
       "    <tr>\n",
       "      <td>2</td>\n",
       "      <td>1000</td>\n",
       "      <td>7</td>\n",
       "      <td>14</td>\n",
       "    </tr>\n",
       "    <tr>\n",
       "      <td>3</td>\n",
       "      <td>1000</td>\n",
       "      <td>8</td>\n",
       "      <td>14</td>\n",
       "    </tr>\n",
       "    <tr>\n",
       "      <td>4</td>\n",
       "      <td>1000</td>\n",
       "      <td>9</td>\n",
       "      <td>15</td>\n",
       "    </tr>\n",
       "  </tbody>\n",
       "</table>\n",
       "</div>"
      ],
      "text/plain": [
       "   user_id  month  gb_used\n",
       "0     1000      5        3\n",
       "1     1000      6       23\n",
       "2     1000      7       14\n",
       "3     1000      8       14\n",
       "4     1000      9       15"
      ]
     },
     "execution_count": 30,
     "metadata": {},
     "output_type": "execute_result"
    }
   ],
   "source": [
    "df_internet_sum = df_internet.pivot_table(index=['user_id', 'month'], values='mb_used', aggfunc='sum').reset_index().copy()\n",
    "df_internet_sum['mb_used'] /= 1024\n",
    "df_internet_sum['mb_used'] = np.ceil(df_internet_sum.mb_used).astype(int)\n",
    "df_internet_sum = df_internet_sum.rename(columns={\"mb_used\": \"gb_used\"})\n",
    "df_internet_sum.head()"
   ]
  },
  {
   "cell_type": "markdown",
   "metadata": {},
   "source": [
    "### Объединение таблиц"
   ]
  },
  {
   "cell_type": "markdown",
   "metadata": {},
   "source": [
    "Объеденим таблицы: `df_calls_sum`, `df_messages_sum`, `df_internet_sum` и `df_users_tariff` в одну таблицу"
   ]
  },
  {
   "cell_type": "code",
   "execution_count": 31,
   "metadata": {},
   "outputs": [],
   "source": [
    "df_connection_month = pd.merge(\n",
    "    df_calls_sum, df_messages_sum, how='outer'\n",
    ").merge(df_internet_sum, how='outer').merge(df_users_tariff, how='inner')"
   ]
  },
  {
   "cell_type": "code",
   "execution_count": 32,
   "metadata": {
    "scrolled": true
   },
   "outputs": [
    {
     "name": "stdout",
     "output_type": "stream",
     "text": [
      "<class 'pandas.core.frame.DataFrame'>\n",
      "Int64Index: 3214 entries, 0 to 3213\n",
      "Data columns (total 7 columns):\n",
      "user_id           3214 non-null int64\n",
      "month             3214 non-null int64\n",
      "duration          3174 non-null float64\n",
      "count_messages    3174 non-null float64\n",
      "gb_used           3203 non-null float64\n",
      "city              3214 non-null object\n",
      "tariff            3214 non-null object\n",
      "dtypes: float64(3), int64(2), object(2)\n",
      "memory usage: 200.9+ KB\n"
     ]
    }
   ],
   "source": [
    "df_connection_month.info()"
   ]
  },
  {
   "cell_type": "markdown",
   "metadata": {},
   "source": [
    "Заполним пропуски нулями, так возможно часть пользователей, используют телефон без доступа в интернет или наоборот используют сим-карту, только для выхода в интернет. Сменим тип float на int"
   ]
  },
  {
   "cell_type": "code",
   "execution_count": 33,
   "metadata": {},
   "outputs": [],
   "source": [
    "df_connection_month = df_connection_month.fillna(0)\n",
    "df_connection_month[['duration', 'count_messages', 'gb_used']] = df_connection_month[['duration', 'count_messages', 'gb_used']].astype('int')"
   ]
  },
  {
   "cell_type": "code",
   "execution_count": 34,
   "metadata": {},
   "outputs": [
    {
     "name": "stdout",
     "output_type": "stream",
     "text": [
      "<class 'pandas.core.frame.DataFrame'>\n",
      "Int64Index: 3214 entries, 0 to 3213\n",
      "Data columns (total 7 columns):\n",
      "user_id           3214 non-null int64\n",
      "month             3214 non-null int64\n",
      "duration          3214 non-null int64\n",
      "count_messages    3214 non-null int64\n",
      "gb_used           3214 non-null int64\n",
      "city              3214 non-null object\n",
      "tariff            3214 non-null object\n",
      "dtypes: int64(5), object(2)\n",
      "memory usage: 200.9+ KB\n"
     ]
    }
   ],
   "source": [
    "df_connection_month.info()"
   ]
  },
  {
   "cell_type": "code",
   "execution_count": 35,
   "metadata": {},
   "outputs": [
    {
     "data": {
      "text/html": [
       "<div>\n",
       "<style scoped>\n",
       "    .dataframe tbody tr th:only-of-type {\n",
       "        vertical-align: middle;\n",
       "    }\n",
       "\n",
       "    .dataframe tbody tr th {\n",
       "        vertical-align: top;\n",
       "    }\n",
       "\n",
       "    .dataframe thead th {\n",
       "        text-align: right;\n",
       "    }\n",
       "</style>\n",
       "<table border=\"1\" class=\"dataframe\">\n",
       "  <thead>\n",
       "    <tr style=\"text-align: right;\">\n",
       "      <th></th>\n",
       "      <th>user_id</th>\n",
       "      <th>month</th>\n",
       "      <th>duration</th>\n",
       "      <th>count_messages</th>\n",
       "      <th>gb_used</th>\n",
       "      <th>city</th>\n",
       "      <th>tariff</th>\n",
       "    </tr>\n",
       "  </thead>\n",
       "  <tbody>\n",
       "    <tr>\n",
       "      <td>0</td>\n",
       "      <td>1000</td>\n",
       "      <td>5</td>\n",
       "      <td>159</td>\n",
       "      <td>22</td>\n",
       "      <td>3</td>\n",
       "      <td>Краснодар</td>\n",
       "      <td>ultra</td>\n",
       "    </tr>\n",
       "    <tr>\n",
       "      <td>1</td>\n",
       "      <td>1000</td>\n",
       "      <td>6</td>\n",
       "      <td>172</td>\n",
       "      <td>43</td>\n",
       "      <td>23</td>\n",
       "      <td>Краснодар</td>\n",
       "      <td>ultra</td>\n",
       "    </tr>\n",
       "    <tr>\n",
       "      <td>2</td>\n",
       "      <td>1000</td>\n",
       "      <td>7</td>\n",
       "      <td>340</td>\n",
       "      <td>47</td>\n",
       "      <td>14</td>\n",
       "      <td>Краснодар</td>\n",
       "      <td>ultra</td>\n",
       "    </tr>\n",
       "    <tr>\n",
       "      <td>3</td>\n",
       "      <td>1000</td>\n",
       "      <td>8</td>\n",
       "      <td>408</td>\n",
       "      <td>52</td>\n",
       "      <td>14</td>\n",
       "      <td>Краснодар</td>\n",
       "      <td>ultra</td>\n",
       "    </tr>\n",
       "    <tr>\n",
       "      <td>4</td>\n",
       "      <td>1000</td>\n",
       "      <td>9</td>\n",
       "      <td>466</td>\n",
       "      <td>58</td>\n",
       "      <td>15</td>\n",
       "      <td>Краснодар</td>\n",
       "      <td>ultra</td>\n",
       "    </tr>\n",
       "  </tbody>\n",
       "</table>\n",
       "</div>"
      ],
      "text/plain": [
       "   user_id  month  duration  count_messages  gb_used       city tariff\n",
       "0     1000      5       159              22        3  Краснодар  ultra\n",
       "1     1000      6       172              43       23  Краснодар  ultra\n",
       "2     1000      7       340              47       14  Краснодар  ultra\n",
       "3     1000      8       408              52       14  Краснодар  ultra\n",
       "4     1000      9       466              58       15  Краснодар  ultra"
      ]
     },
     "execution_count": 35,
     "metadata": {},
     "output_type": "execute_result"
    }
   ],
   "source": [
    "df_connection_month.head()"
   ]
  },
  {
   "cell_type": "markdown",
   "metadata": {},
   "source": [
    "### Таблица connection_month"
   ]
  },
  {
   "cell_type": "markdown",
   "metadata": {},
   "source": [
    "Создадим функцию, которая считает помесячную выручку с каждого пользователя"
   ]
  },
  {
   "cell_type": "code",
   "execution_count": 36,
   "metadata": {},
   "outputs": [],
   "source": [
    "def revenue(connection_month, tariffs):\n",
    "    tariff_name = connection_month['tariff']\n",
    "    tariff = tariffs.query('tariff_name == @tariff_name').reset_index().loc[0]\n",
    "    revenue_sum = tariff['rub_monthly_fee']\n",
    "    \n",
    "    if connection_month['duration'] > tariff['minutes_included']:\n",
    "        revenue_sum = revenue_sum + (connection_month['duration'] - tariff['minutes_included']) * tariff['rub_per_minute']\n",
    "    \n",
    "    if connection_month['count_messages'] > tariff['messages_included']:\n",
    "        revenue_sum = revenue_sum + (connection_month['count_messages'] - tariff['messages_included']) * tariff['rub_per_message']\n",
    "    \n",
    "    if connection_month['gb_used'] > tariff['gb_per_month_included']:\n",
    "        revenue_sum = revenue_sum + (connection_month['gb_used'] - tariff['gb_per_month_included']) * tariff['rub_per_gb']\n",
    "    \n",
    "    return revenue_sum"
   ]
  },
  {
   "cell_type": "markdown",
   "metadata": {},
   "source": [
    "Добавим столбец с помесячной выручкой в таблицу `df_connection_month`"
   ]
  },
  {
   "cell_type": "code",
   "execution_count": 37,
   "metadata": {},
   "outputs": [],
   "source": [
    "df_connection_month['revenue'] = df_connection_month.apply(lambda x: revenue(x, df_tariffs), axis=1)"
   ]
  },
  {
   "cell_type": "code",
   "execution_count": 38,
   "metadata": {},
   "outputs": [
    {
     "name": "stdout",
     "output_type": "stream",
     "text": [
      "<class 'pandas.core.frame.DataFrame'>\n",
      "Int64Index: 3214 entries, 0 to 3213\n",
      "Data columns (total 8 columns):\n",
      "user_id           3214 non-null int64\n",
      "month             3214 non-null int64\n",
      "duration          3214 non-null int64\n",
      "count_messages    3214 non-null int64\n",
      "gb_used           3214 non-null int64\n",
      "city              3214 non-null object\n",
      "tariff            3214 non-null object\n",
      "revenue           3214 non-null int64\n",
      "dtypes: int64(6), object(2)\n",
      "memory usage: 226.0+ KB\n"
     ]
    }
   ],
   "source": [
    "df_connection_month.info()"
   ]
  },
  {
   "cell_type": "code",
   "execution_count": 39,
   "metadata": {},
   "outputs": [
    {
     "data": {
      "text/html": [
       "<div>\n",
       "<style scoped>\n",
       "    .dataframe tbody tr th:only-of-type {\n",
       "        vertical-align: middle;\n",
       "    }\n",
       "\n",
       "    .dataframe tbody tr th {\n",
       "        vertical-align: top;\n",
       "    }\n",
       "\n",
       "    .dataframe thead th {\n",
       "        text-align: right;\n",
       "    }\n",
       "</style>\n",
       "<table border=\"1\" class=\"dataframe\">\n",
       "  <thead>\n",
       "    <tr style=\"text-align: right;\">\n",
       "      <th></th>\n",
       "      <th>user_id</th>\n",
       "      <th>month</th>\n",
       "      <th>duration</th>\n",
       "      <th>count_messages</th>\n",
       "      <th>gb_used</th>\n",
       "      <th>city</th>\n",
       "      <th>tariff</th>\n",
       "      <th>revenue</th>\n",
       "    </tr>\n",
       "  </thead>\n",
       "  <tbody>\n",
       "    <tr>\n",
       "      <td>0</td>\n",
       "      <td>1000</td>\n",
       "      <td>5</td>\n",
       "      <td>159</td>\n",
       "      <td>22</td>\n",
       "      <td>3</td>\n",
       "      <td>Краснодар</td>\n",
       "      <td>ultra</td>\n",
       "      <td>1950</td>\n",
       "    </tr>\n",
       "    <tr>\n",
       "      <td>1</td>\n",
       "      <td>1000</td>\n",
       "      <td>6</td>\n",
       "      <td>172</td>\n",
       "      <td>43</td>\n",
       "      <td>23</td>\n",
       "      <td>Краснодар</td>\n",
       "      <td>ultra</td>\n",
       "      <td>1950</td>\n",
       "    </tr>\n",
       "    <tr>\n",
       "      <td>2</td>\n",
       "      <td>1000</td>\n",
       "      <td>7</td>\n",
       "      <td>340</td>\n",
       "      <td>47</td>\n",
       "      <td>14</td>\n",
       "      <td>Краснодар</td>\n",
       "      <td>ultra</td>\n",
       "      <td>1950</td>\n",
       "    </tr>\n",
       "    <tr>\n",
       "      <td>3</td>\n",
       "      <td>1000</td>\n",
       "      <td>8</td>\n",
       "      <td>408</td>\n",
       "      <td>52</td>\n",
       "      <td>14</td>\n",
       "      <td>Краснодар</td>\n",
       "      <td>ultra</td>\n",
       "      <td>1950</td>\n",
       "    </tr>\n",
       "    <tr>\n",
       "      <td>4</td>\n",
       "      <td>1000</td>\n",
       "      <td>9</td>\n",
       "      <td>466</td>\n",
       "      <td>58</td>\n",
       "      <td>15</td>\n",
       "      <td>Краснодар</td>\n",
       "      <td>ultra</td>\n",
       "      <td>1950</td>\n",
       "    </tr>\n",
       "    <tr>\n",
       "      <td>5</td>\n",
       "      <td>1000</td>\n",
       "      <td>10</td>\n",
       "      <td>350</td>\n",
       "      <td>57</td>\n",
       "      <td>15</td>\n",
       "      <td>Краснодар</td>\n",
       "      <td>ultra</td>\n",
       "      <td>1950</td>\n",
       "    </tr>\n",
       "    <tr>\n",
       "      <td>6</td>\n",
       "      <td>1000</td>\n",
       "      <td>11</td>\n",
       "      <td>338</td>\n",
       "      <td>43</td>\n",
       "      <td>15</td>\n",
       "      <td>Краснодар</td>\n",
       "      <td>ultra</td>\n",
       "      <td>1950</td>\n",
       "    </tr>\n",
       "    <tr>\n",
       "      <td>7</td>\n",
       "      <td>1000</td>\n",
       "      <td>12</td>\n",
       "      <td>333</td>\n",
       "      <td>46</td>\n",
       "      <td>10</td>\n",
       "      <td>Краснодар</td>\n",
       "      <td>ultra</td>\n",
       "      <td>1950</td>\n",
       "    </tr>\n",
       "    <tr>\n",
       "      <td>8</td>\n",
       "      <td>1001</td>\n",
       "      <td>11</td>\n",
       "      <td>430</td>\n",
       "      <td>59</td>\n",
       "      <td>18</td>\n",
       "      <td>Москва</td>\n",
       "      <td>smart</td>\n",
       "      <td>1177</td>\n",
       "    </tr>\n",
       "    <tr>\n",
       "      <td>9</td>\n",
       "      <td>1001</td>\n",
       "      <td>12</td>\n",
       "      <td>414</td>\n",
       "      <td>63</td>\n",
       "      <td>14</td>\n",
       "      <td>Москва</td>\n",
       "      <td>smart</td>\n",
       "      <td>589</td>\n",
       "    </tr>\n",
       "  </tbody>\n",
       "</table>\n",
       "</div>"
      ],
      "text/plain": [
       "   user_id  month  duration  count_messages  gb_used       city tariff  \\\n",
       "0     1000      5       159              22        3  Краснодар  ultra   \n",
       "1     1000      6       172              43       23  Краснодар  ultra   \n",
       "2     1000      7       340              47       14  Краснодар  ultra   \n",
       "3     1000      8       408              52       14  Краснодар  ultra   \n",
       "4     1000      9       466              58       15  Краснодар  ultra   \n",
       "5     1000     10       350              57       15  Краснодар  ultra   \n",
       "6     1000     11       338              43       15  Краснодар  ultra   \n",
       "7     1000     12       333              46       10  Краснодар  ultra   \n",
       "8     1001     11       430              59       18     Москва  smart   \n",
       "9     1001     12       414              63       14     Москва  smart   \n",
       "\n",
       "   revenue  \n",
       "0     1950  \n",
       "1     1950  \n",
       "2     1950  \n",
       "3     1950  \n",
       "4     1950  \n",
       "5     1950  \n",
       "6     1950  \n",
       "7     1950  \n",
       "8     1177  \n",
       "9      589  "
      ]
     },
     "execution_count": 39,
     "metadata": {},
     "output_type": "execute_result"
    }
   ],
   "source": [
    "df_connection_month.head(10)"
   ]
  },
  {
   "cell_type": "markdown",
   "metadata": {},
   "source": [
    "## Анализ данных"
   ]
  },
  {
   "cell_type": "markdown",
   "metadata": {},
   "source": [
    "Разделим таблицу `df_connection_month`на две выборки, в оду добавим пользователей с тарифом ultra, а в другую с тарифом smart"
   ]
  },
  {
   "cell_type": "code",
   "execution_count": 40,
   "metadata": {},
   "outputs": [],
   "source": [
    "connection_month_ultra = df_connection_month.query('tariff == \"ultra\"').copy()\n",
    "connection_month_smart = df_connection_month.query('tariff == \"smart\"').copy()"
   ]
  },
  {
   "cell_type": "markdown",
   "metadata": {},
   "source": [
    "### Пользователи с тарифом Ultra"
   ]
  },
  {
   "cell_type": "markdown",
   "metadata": {},
   "source": [
    "#### Метрики"
   ]
  },
  {
   "cell_type": "markdown",
   "metadata": {},
   "source": [
    "Найдем средние значение и стандартное отклонение для: звонков, сообщений и интернет трафика"
   ]
  },
  {
   "cell_type": "code",
   "execution_count": 41,
   "metadata": {},
   "outputs": [
    {
     "data": {
      "text/html": [
       "<div>\n",
       "<style scoped>\n",
       "    .dataframe tbody tr th:only-of-type {\n",
       "        vertical-align: middle;\n",
       "    }\n",
       "\n",
       "    .dataframe tbody tr th {\n",
       "        vertical-align: top;\n",
       "    }\n",
       "\n",
       "    .dataframe thead th {\n",
       "        text-align: right;\n",
       "    }\n",
       "</style>\n",
       "<table border=\"1\" class=\"dataframe\">\n",
       "  <thead>\n",
       "    <tr style=\"text-align: right;\">\n",
       "      <th></th>\n",
       "      <th>duration</th>\n",
       "      <th>count_messages</th>\n",
       "      <th>gb_used</th>\n",
       "      <th>revenue</th>\n",
       "    </tr>\n",
       "  </thead>\n",
       "  <tbody>\n",
       "    <tr>\n",
       "      <td>count</td>\n",
       "      <td>985.000000</td>\n",
       "      <td>985.000000</td>\n",
       "      <td>985.000000</td>\n",
       "      <td>985.000000</td>\n",
       "    </tr>\n",
       "    <tr>\n",
       "      <td>mean</td>\n",
       "      <td>526.623350</td>\n",
       "      <td>73.392893</td>\n",
       "      <td>19.494416</td>\n",
       "      <td>2070.152284</td>\n",
       "    </tr>\n",
       "    <tr>\n",
       "      <td>std</td>\n",
       "      <td>317.606098</td>\n",
       "      <td>43.916853</td>\n",
       "      <td>9.853511</td>\n",
       "      <td>376.187114</td>\n",
       "    </tr>\n",
       "    <tr>\n",
       "      <td>min</td>\n",
       "      <td>0.000000</td>\n",
       "      <td>0.000000</td>\n",
       "      <td>0.000000</td>\n",
       "      <td>1950.000000</td>\n",
       "    </tr>\n",
       "    <tr>\n",
       "      <td>25%</td>\n",
       "      <td>284.000000</td>\n",
       "      <td>41.000000</td>\n",
       "      <td>12.000000</td>\n",
       "      <td>1950.000000</td>\n",
       "    </tr>\n",
       "    <tr>\n",
       "      <td>50%</td>\n",
       "      <td>518.000000</td>\n",
       "      <td>74.000000</td>\n",
       "      <td>19.000000</td>\n",
       "      <td>1950.000000</td>\n",
       "    </tr>\n",
       "    <tr>\n",
       "      <td>75%</td>\n",
       "      <td>752.000000</td>\n",
       "      <td>104.000000</td>\n",
       "      <td>27.000000</td>\n",
       "      <td>1950.000000</td>\n",
       "    </tr>\n",
       "    <tr>\n",
       "      <td>max</td>\n",
       "      <td>1673.000000</td>\n",
       "      <td>244.000000</td>\n",
       "      <td>49.000000</td>\n",
       "      <td>4800.000000</td>\n",
       "    </tr>\n",
       "  </tbody>\n",
       "</table>\n",
       "</div>"
      ],
      "text/plain": [
       "          duration  count_messages     gb_used      revenue\n",
       "count   985.000000      985.000000  985.000000   985.000000\n",
       "mean    526.623350       73.392893   19.494416  2070.152284\n",
       "std     317.606098       43.916853    9.853511   376.187114\n",
       "min       0.000000        0.000000    0.000000  1950.000000\n",
       "25%     284.000000       41.000000   12.000000  1950.000000\n",
       "50%     518.000000       74.000000   19.000000  1950.000000\n",
       "75%     752.000000      104.000000   27.000000  1950.000000\n",
       "max    1673.000000      244.000000   49.000000  4800.000000"
      ]
     },
     "execution_count": 41,
     "metadata": {},
     "output_type": "execute_result"
    }
   ],
   "source": [
    "connection_month_ultra[['duration', 'count_messages', 'gb_used', 'revenue']].describe()"
   ]
  },
  {
   "cell_type": "markdown",
   "metadata": {},
   "source": [
    "Найдем дисперсию для: звонков, сообщений и интернет трафика"
   ]
  },
  {
   "cell_type": "code",
   "execution_count": 43,
   "metadata": {},
   "outputs": [
    {
     "data": {
      "text/plain": [
       "duration          100771.223617\n",
       "count_messages      1926.731929\n",
       "gb_used               96.993116\n",
       "revenue           141373.073256\n",
       "dtype: float64"
      ]
     },
     "execution_count": 43,
     "metadata": {},
     "output_type": "execute_result"
    }
   ],
   "source": [
    "np.var(connection_month_ultra[['duration', 'count_messages', 'gb_used', 'revenue']])"
   ]
  },
  {
   "cell_type": "markdown",
   "metadata": {},
   "source": [
    "###### Вывод\n",
    "* В среднем пользователям на тарифе Ultra, требуется: 527 минут (стандартное отклонение 318 минут), 73 сообщения (стандартное отклонение 39 сообщений), 19 ГБ интернета (стандартное отклонение 10 ГБ);\n",
    "* В среднем пользователи на тарифе Ultra тратят по 2070 р. в месяц (стандартное отклонение 376 р.)."
   ]
  },
  {
   "cell_type": "markdown",
   "metadata": {},
   "source": [
    "#### Гистограммы"
   ]
  },
  {
   "cell_type": "markdown",
   "metadata": {},
   "source": [
    "##### Звонки"
   ]
  },
  {
   "cell_type": "code",
   "execution_count": 44,
   "metadata": {},
   "outputs": [
    {
     "data": {
      "text/plain": [
       "Text(0, 0.5, 'Кол-во пользователей')"
      ]
     },
     "execution_count": 44,
     "metadata": {},
     "output_type": "execute_result"
    },
    {
     "data": {
      "image/png": "[encoded data removed]",
      "text/plain": [
       "<Figure size 864x360 with 1 Axes>"
      ]
     },
     "metadata": {
      "needs_background": "light"
     },
     "output_type": "display_data"
    }
   ],
   "source": [
    "connection_month_ultra['duration'].plot(bins=50, figsize=(12, 5), title='Звонки', kind='hist', grid=True)\n",
    "plt.xlabel(\"Кол-во использованных минут за месяц\")\n",
    "plt.ylabel(\"Кол-во пользователей\")"
   ]
  },
  {
   "cell_type": "markdown",
   "metadata": {},
   "source": [
    "Данные распределенны нормально, но иммеют небольшую скошенность в право. Так же присутствую выбивающиеся значения: 0 и выше 1500 минут."
   ]
  },
  {
   "cell_type": "markdown",
   "metadata": {},
   "source": [
    "##### Сообщения"
   ]
  },
  {
   "cell_type": "code",
   "execution_count": 45,
   "metadata": {},
   "outputs": [
    {
     "data": {
      "text/plain": [
       "Text(0, 0.5, 'Кол-во пользователей')"
      ]
     },
     "execution_count": 45,
     "metadata": {},
     "output_type": "execute_result"
    },
    {
     "data": {
      "image/png": "[encoded data removed]",
      "text/plain": [
       "<Figure size 864x360 with 1 Axes>"
      ]
     },
     "metadata": {
      "needs_background": "light"
     },
     "output_type": "display_data"
    }
   ],
   "source": [
    "connection_month_ultra['count_messages'].plot(bins=50, figsize=(12, 5), title='Сообщения', kind='hist', grid=True)\n",
    "plt.xlabel(\"Кол-во использованных сообщений за месяц\")\n",
    "plt.ylabel(\"Кол-во пользователей\")"
   ]
  },
  {
   "cell_type": "markdown",
   "metadata": {},
   "source": [
    "Данные распределенны нормально, но иммеют небольшую скошенность в право. Так же присутствую выбивающиеся значения: 0 и выше 200 сообщений."
   ]
  },
  {
   "cell_type": "markdown",
   "metadata": {},
   "source": [
    "##### Интернет"
   ]
  },
  {
   "cell_type": "code",
   "execution_count": 46,
   "metadata": {},
   "outputs": [
    {
     "data": {
      "text/plain": [
       "Text(0, 0.5, 'Кол-во пользователей')"
      ]
     },
     "execution_count": 46,
     "metadata": {},
     "output_type": "execute_result"
    },
    {
     "data": {
      "image/png": "[encoded data removed]",
      "text/plain": [
       "<Figure size 864x360 with 1 Axes>"
      ]
     },
     "metadata": {
      "needs_background": "light"
     },
     "output_type": "display_data"
    }
   ],
   "source": [
    "connection_month_ultra['gb_used'].plot(bins=50, figsize=(12, 5), title='Интернет', kind='hist', grid=True)\n",
    "plt.xlabel(\"Кол-во использованных ГБ интернета за месяц\")\n",
    "plt.ylabel(\"Кол-во пользователей\")"
   ]
  },
  {
   "cell_type": "markdown",
   "metadata": {},
   "source": [
    "Данные распределенны нормально."
   ]
  },
  {
   "cell_type": "markdown",
   "metadata": {},
   "source": [
    "##### Выручка"
   ]
  },
  {
   "cell_type": "code",
   "execution_count": 47,
   "metadata": {},
   "outputs": [
    {
     "data": {
      "text/plain": [
       "Text(0, 0.5, 'Кол-во пользователей')"
      ]
     },
     "execution_count": 47,
     "metadata": {},
     "output_type": "execute_result"
    },
    {
     "data": {
      "image/png": "[encoded data removed]",
      "text/plain": [
       "<Figure size 864x360 with 1 Axes>"
      ]
     },
     "metadata": {
      "needs_background": "light"
     },
     "output_type": "display_data"
    }
   ],
   "source": [
    "connection_month_ultra['revenue'].plot(bins=7, figsize=(12, 5), title='Выручка', kind='hist', grid=True)\n",
    "plt.xlabel(\"Выручка от каждого пользователя в месяц, руб.\")\n",
    "plt.ylabel(\"Кол-во пользователей\")"
   ]
  },
  {
   "cell_type": "markdown",
   "metadata": {},
   "source": [
    "Выборка распределенна нормально, но имеет сильную скошенность в право"
   ]
  },
  {
   "cell_type": "markdown",
   "metadata": {},
   "source": [
    "### Пользователи с тарифом Smart"
   ]
  },
  {
   "cell_type": "markdown",
   "metadata": {},
   "source": [
    "#### Метрики"
   ]
  },
  {
   "cell_type": "markdown",
   "metadata": {},
   "source": [
    "Найдем средние значение и стандартное отклонение для: звонков, сообщений и интернет трафика"
   ]
  },
  {
   "cell_type": "code",
   "execution_count": 48,
   "metadata": {},
   "outputs": [
    {
     "data": {
      "text/html": [
       "<div>\n",
       "<style scoped>\n",
       "    .dataframe tbody tr th:only-of-type {\n",
       "        vertical-align: middle;\n",
       "    }\n",
       "\n",
       "    .dataframe tbody tr th {\n",
       "        vertical-align: top;\n",
       "    }\n",
       "\n",
       "    .dataframe thead th {\n",
       "        text-align: right;\n",
       "    }\n",
       "</style>\n",
       "<table border=\"1\" class=\"dataframe\">\n",
       "  <thead>\n",
       "    <tr style=\"text-align: right;\">\n",
       "      <th></th>\n",
       "      <th>duration</th>\n",
       "      <th>count_messages</th>\n",
       "      <th>gb_used</th>\n",
       "      <th>revenue</th>\n",
       "    </tr>\n",
       "  </thead>\n",
       "  <tbody>\n",
       "    <tr>\n",
       "      <td>count</td>\n",
       "      <td>2229.000000</td>\n",
       "      <td>2229.000000</td>\n",
       "      <td>2229.000000</td>\n",
       "      <td>2229.000000</td>\n",
       "    </tr>\n",
       "    <tr>\n",
       "      <td>mean</td>\n",
       "      <td>417.934948</td>\n",
       "      <td>58.463437</td>\n",
       "      <td>16.328847</td>\n",
       "      <td>1318.608793</td>\n",
       "    </tr>\n",
       "    <tr>\n",
       "      <td>std</td>\n",
       "      <td>190.313730</td>\n",
       "      <td>25.939858</td>\n",
       "      <td>5.747061</td>\n",
       "      <td>837.746263</td>\n",
       "    </tr>\n",
       "    <tr>\n",
       "      <td>min</td>\n",
       "      <td>0.000000</td>\n",
       "      <td>0.000000</td>\n",
       "      <td>0.000000</td>\n",
       "      <td>550.000000</td>\n",
       "    </tr>\n",
       "    <tr>\n",
       "      <td>25%</td>\n",
       "      <td>282.000000</td>\n",
       "      <td>40.000000</td>\n",
       "      <td>13.000000</td>\n",
       "      <td>583.000000</td>\n",
       "    </tr>\n",
       "    <tr>\n",
       "      <td>50%</td>\n",
       "      <td>422.000000</td>\n",
       "      <td>60.000000</td>\n",
       "      <td>17.000000</td>\n",
       "      <td>1079.000000</td>\n",
       "    </tr>\n",
       "    <tr>\n",
       "      <td>75%</td>\n",
       "      <td>545.000000</td>\n",
       "      <td>76.000000</td>\n",
       "      <td>20.000000</td>\n",
       "      <td>1792.000000</td>\n",
       "    </tr>\n",
       "    <tr>\n",
       "      <td>max</td>\n",
       "      <td>1435.000000</td>\n",
       "      <td>198.000000</td>\n",
       "      <td>38.000000</td>\n",
       "      <td>6920.000000</td>\n",
       "    </tr>\n",
       "  </tbody>\n",
       "</table>\n",
       "</div>"
      ],
      "text/plain": [
       "          duration  count_messages      gb_used      revenue\n",
       "count  2229.000000     2229.000000  2229.000000  2229.000000\n",
       "mean    417.934948       58.463437    16.328847  1318.608793\n",
       "std     190.313730       25.939858     5.747061   837.746263\n",
       "min       0.000000        0.000000     0.000000   550.000000\n",
       "25%     282.000000       40.000000    13.000000   583.000000\n",
       "50%     422.000000       60.000000    17.000000  1079.000000\n",
       "75%     545.000000       76.000000    20.000000  1792.000000\n",
       "max    1435.000000      198.000000    38.000000  6920.000000"
      ]
     },
     "execution_count": 48,
     "metadata": {},
     "output_type": "execute_result"
    }
   ],
   "source": [
    "connection_month_smart[['duration', 'count_messages', 'gb_used', 'revenue']].describe()"
   ]
  },
  {
   "cell_type": "markdown",
   "metadata": {},
   "source": [
    "Найдем дисперсию для: звонков, сообщений и интернет трафика"
   ]
  },
  {
   "cell_type": "code",
   "execution_count": 49,
   "metadata": {},
   "outputs": [
    {
     "data": {
      "text/plain": [
       "duration           36203.066652\n",
       "count_messages       672.574370\n",
       "gb_used               33.013887\n",
       "revenue           701503.942964\n",
       "dtype: float64"
      ]
     },
     "execution_count": 49,
     "metadata": {},
     "output_type": "execute_result"
    }
   ],
   "source": [
    "np.var(connection_month_smart[['duration', 'count_messages', 'gb_used', 'revenue']])"
   ]
  },
  {
   "cell_type": "markdown",
   "metadata": {},
   "source": [
    "###### Вывод\n",
    "* В среднем пользователям на тарифе Smart, требуется: 418 минут (стандартное отклонение 190 минут), 58 сообщения (стандартное отклонение 26 сообщений), 16 ГБ интернета (стандартное отклонение 6 ГБ);\n",
    "* В среднем пользователи на тарифе Smart тратят по 1318 р. в месяц (стандартное отклонение 837 р.)."
   ]
  },
  {
   "cell_type": "markdown",
   "metadata": {},
   "source": [
    "#### Гистограммы"
   ]
  },
  {
   "cell_type": "markdown",
   "metadata": {},
   "source": [
    "##### Звонки"
   ]
  },
  {
   "cell_type": "code",
   "execution_count": 50,
   "metadata": {},
   "outputs": [
    {
     "data": {
      "text/plain": [
       "Text(0, 0.5, 'Кол-во пользователей')"
      ]
     },
     "execution_count": 50,
     "metadata": {},
     "output_type": "execute_result"
    },
    {
     "data": {
      "image/png": "[encoded data removed]",
      "text/plain": [
       "<Figure size 864x360 with 1 Axes>"
      ]
     },
     "metadata": {
      "needs_background": "light"
     },
     "output_type": "display_data"
    }
   ],
   "source": [
    "connection_month_smart['duration'].plot(bins=50, figsize=(12, 5), title='Звонки', kind='hist', grid=True)\n",
    "plt.xlabel(\"Кол-во использованных минут за месяц\")\n",
    "plt.ylabel(\"Кол-во пользователей\")"
   ]
  },
  {
   "cell_type": "markdown",
   "metadata": {},
   "source": [
    "Данные распределенны нормально. Присутствую выбивающиеся значения: 0 и выше 800 минут."
   ]
  },
  {
   "cell_type": "markdown",
   "metadata": {},
   "source": [
    "##### Сообщения"
   ]
  },
  {
   "cell_type": "code",
   "execution_count": 51,
   "metadata": {},
   "outputs": [
    {
     "data": {
      "text/plain": [
       "Text(0, 0.5, 'Кол-во пользователей')"
      ]
     },
     "execution_count": 51,
     "metadata": {},
     "output_type": "execute_result"
    },
    {
     "data": {
      "image/png": "[encoded data removed]",
      "text/plain": [
       "<Figure size 864x360 with 1 Axes>"
      ]
     },
     "metadata": {
      "needs_background": "light"
     },
     "output_type": "display_data"
    }
   ],
   "source": [
    "connection_month_smart['count_messages'].plot(bins=50, figsize=(12, 5), title='Сообщения', kind='hist', grid=True)\n",
    "plt.xlabel(\"Кол-во использованных сообщений за месяц\")\n",
    "plt.ylabel(\"Кол-во пользователей\")"
   ]
  },
  {
   "cell_type": "markdown",
   "metadata": {},
   "source": [
    "Данные распределенны нормально. Присутствую выбивающиеся значения: выше 125 сообщений."
   ]
  },
  {
   "cell_type": "markdown",
   "metadata": {},
   "source": [
    "##### Интернет"
   ]
  },
  {
   "cell_type": "code",
   "execution_count": 52,
   "metadata": {},
   "outputs": [
    {
     "data": {
      "text/plain": [
       "Text(0, 0.5, 'Кол-во пользователей')"
      ]
     },
     "execution_count": 52,
     "metadata": {},
     "output_type": "execute_result"
    },
    {
     "data": {
      "image/png": "[encoded data removed]",
      "text/plain": [
       "<Figure size 864x360 with 1 Axes>"
      ]
     },
     "metadata": {
      "needs_background": "light"
     },
     "output_type": "display_data"
    }
   ],
   "source": [
    "connection_month_smart['gb_used'].plot(bins=15, figsize=(12, 5), title='Интернет', kind='hist', grid=True)\n",
    "plt.xlabel(\"Кол-во использованных ГБ интернета за месяц\")\n",
    "plt.ylabel(\"Кол-во пользователей\")"
   ]
  },
  {
   "cell_type": "markdown",
   "metadata": {},
   "source": [
    "Данные распределенны нормально."
   ]
  },
  {
   "cell_type": "markdown",
   "metadata": {},
   "source": [
    "##### Выручка"
   ]
  },
  {
   "cell_type": "code",
   "execution_count": 53,
   "metadata": {},
   "outputs": [
    {
     "data": {
      "text/plain": [
       "Text(0, 0.5, 'Кол-во пользователей')"
      ]
     },
     "execution_count": 53,
     "metadata": {},
     "output_type": "execute_result"
    },
    {
     "data": {
      "image/png": "[encoded data removed]",
      "text/plain": [
       "<Figure size 864x360 with 1 Axes>"
      ]
     },
     "metadata": {
      "needs_background": "light"
     },
     "output_type": "display_data"
    }
   ],
   "source": [
    "connection_month_smart['revenue'].plot(bins=10, figsize=(12, 5), title='Выручка', kind='hist', grid=True)\n",
    "plt.xlabel(\"Выручка от каждого пользователя в месяц, руб.\")\n",
    "plt.ylabel(\"Кол-во пользователей\")"
   ]
  },
  {
   "cell_type": "markdown",
   "metadata": {},
   "source": [
    "Выборка распределенна нормально, но имеет сильную скошенность в право"
   ]
  },
  {
   "cell_type": "markdown",
   "metadata": {},
   "source": [
    "### Вывод"
   ]
  },
  {
   "cell_type": "markdown",
   "metadata": {},
   "source": [
    "* Пользователи на тарифе Smart платят в среднем меньше денег, чем пользователи на тарифе Ultra, 1318 р., против 2070 р. в месяц;\n",
    "* Пользователям на тарифе Ultra требуется больше минут разговора, сообщений и интернет трафика; \n",
    "    * В среднем пользователям на тарифе Ultra, требуется: 527 минут (стандартное отклонение 318 минут), 73 сообщения (стандартное отклонение 39 сообщений), 19 ГБ интернета (стандартное отклонение 10 ГБ);\n",
    "    * В среднем пользователям на тарифе Smart, требуется: 418 минут (стандартное отклонение 190 минут), 58 сообщения (стандартное отклонение 26 сообщений), 16 ГБ интернета (стандартное отклонение 6 ГБ);\n",
    "* Дисперсии двух выборок сильно различаются;\n",
    "* Выборки распределены нормально, но имеют скошенность в право."
   ]
  },
  {
   "cell_type": "markdown",
   "metadata": {},
   "source": [
    "## Проверка гипотез"
   ]
  },
  {
   "cell_type": "markdown",
   "metadata": {},
   "source": [
    "Разделим таблицу `df_connection_month`на две выборки, в первую добавим пользователей из Москвы, во вторую - пользователей из других регионов"
   ]
  },
  {
   "cell_type": "code",
   "execution_count": 55,
   "metadata": {},
   "outputs": [],
   "source": [
    "connection_month_moscow = df_connection_month.query('city == \"Москва\"').copy()\n",
    "connection_month_regions = df_connection_month.query('city != \"Москва\"').copy()"
   ]
  },
  {
   "cell_type": "markdown",
   "metadata": {},
   "source": [
    "### Сравнение средней выручки тарифов Ultra и Smart"
   ]
  },
  {
   "cell_type": "markdown",
   "metadata": {},
   "source": [
    "Проверим гипотезу, что средняя выручка пользователей тарифов Ultra и Smart различаются.\n",
    "* За нулевую гипотезу возьмём, что средняя выручка пользователей тарифов Ultra и Smart не различается (равны);\n",
    "* За альтернативную гипотезу возьмём обратное утверждение, что средняя выручка пользователей тарифов Ultra и Smart различается;\n",
    "* Критический уровень статической значимости (alpha) зададим 1%."
   ]
  },
  {
   "cell_type": "code",
   "execution_count": 56,
   "metadata": {},
   "outputs": [
    {
     "name": "stdout",
     "output_type": "stream",
     "text": [
      "p-значение: 1.0519833366062768e-228\n",
      "Отвергаем нулевую гипотезу\n"
     ]
    }
   ],
   "source": [
    "alpha = 0.01\n",
    "results = st.ttest_ind(connection_month_ultra['revenue'], connection_month_smart['revenue'], equal_var = False)\n",
    "print('p-значение:', results.pvalue)\n",
    "\n",
    "if results.pvalue < alpha:\n",
    "    print(\"Отвергаем нулевую гипотезу\")\n",
    "else:\n",
    "    print(\"Не получилось отвергнуть нулевую гипотезу\")"
   ]
  },
  {
   "cell_type": "markdown",
   "metadata": {},
   "source": [
    "###### Вывод\n",
    "* Нулевая гипотеза отвергнута, значит средняя выручка пользователей тарифов Ultra и Smart различается."
   ]
  },
  {
   "cell_type": "markdown",
   "metadata": {},
   "source": [
    "### Сравнение средней выручки пользователей из Москвы и регионов"
   ]
  },
  {
   "cell_type": "markdown",
   "metadata": {},
   "source": [
    "Проверим гипотезу, что средняя выручка пользователей из Москвы отличается от выручки пользователей из других регионов.\n",
    "* За нулевую гипотезу возьмём, что средняя выручка пользователей из Москвы не отличается от выручки пользователей из других регионов;\n",
    "* За альтернативную гипотезу возьмём обратное утверждение,  что средняя выручка пользователей из Москвы отличается от выручки пользователей из других регионова;\n",
    "* Критический уровень статической значимости (alpha) зададим 1%."
   ]
  },
  {
   "cell_type": "code",
   "execution_count": 57,
   "metadata": {},
   "outputs": [
    {
     "name": "stdout",
     "output_type": "stream",
     "text": [
      "p-значение: 0.5305308576929098\n",
      "Не получилось отвергнуть нулевую гипотезу\n"
     ]
    }
   ],
   "source": [
    "alpha = 0.01\n",
    "results = st.ttest_ind(connection_month_moscow['revenue'], connection_month_regions['revenue'], equal_var = False)\n",
    "print('p-значение:', results.pvalue)\n",
    "\n",
    "if results.pvalue < alpha:\n",
    "    print(\"Отвергаем нулевую гипотезу\")\n",
    "else:\n",
    "    print(\"Не получилось отвергнуть нулевую гипотезу\")"
   ]
  },
  {
   "cell_type": "markdown",
   "metadata": {},
   "source": [
    "###### Вывод\n",
    "* Нулевую гипотезу не удалось отвергнуть. Это явно слишком большая вероятность (53%), чтобы делать вывод о значимом различии между средней выручкой у пользователей из Москвы и регионов."
   ]
  },
  {
   "cell_type": "markdown",
   "metadata": {},
   "source": [
    "## Общий вывод"
   ]
  },
  {
   "cell_type": "markdown",
   "metadata": {},
   "source": [
    "* Пользователи на тарифе Ultra приносят большую выручку, чем пользователи на тарифе Smart, 2070 р. и 1318 р. соответственно;\n",
    "* Пользователи на тарифе Ultra тратят больше минут разговора, сообщений и интернет трафика, чем пользователи на тарифе Smart:\n",
    "    * В среднем пользователям на тарифе Ultra, требуется: 527 минут (стандартное отклонение 318 минут), 73 сообщения (стандартное отклонение 39 сообщений), 19 ГБ интернета (стандартное отклонение 10 ГБ);\n",
    "    * В среднем пользователям на тарифе Smart, требуется: 418 минут (стандартное отклонение 190 минут), 58 сообщения (стандартное отклонение 26 сообщений), 16 ГБ интернета (стандартное отклонение 6 ГБ).\n",
    "* Гипотеза, что средняя выручка пользователей на тарифе Ultra и Smart не различается (равна) - отвергнута, значит средняя выручка пользователей тарифов Ultra и Smart различается.\n",
    "* Гипотезу о том, что что средняя выручка пользователей из Москвы не отличается от выручки пользователей из других регионов не удалось отвергнуть. Нельзя сделать вывод о значимом различии между средней выручкой у пользователей из Москвы и регионов.\n",
    "\n",
    "\n",
    "Тариф Ultra выгоднее для компании, так как приносит гораздо большую выручку и подталкивает пользователей на большее расходование минут, сообщений и интернет трафика."
   ]
  }
 ],
 "metadata": {
  "ExecuteTimeLog": [
   {
    "duration": 1338,
    "start_time": "2021-12-30T11:12:33.185Z"
   },
   {
    "duration": 517,
    "start_time": "2021-12-30T11:19:38.600Z"
   },
   {
    "duration": 10,
    "start_time": "2021-12-30T11:21:17.733Z"
   },
   {
    "duration": 10,
    "start_time": "2021-12-30T11:26:25.097Z"
   },
   {
    "duration": 26,
    "start_time": "2021-12-30T11:30:15.686Z"
   },
   {
    "duration": 19,
    "start_time": "2021-12-30T11:30:35.469Z"
   },
   {
    "duration": 23,
    "start_time": "2021-12-30T11:31:21.469Z"
   },
   {
    "duration": 27,
    "start_time": "2021-12-30T11:32:31.056Z"
   },
   {
    "duration": 16,
    "start_time": "2021-12-30T11:32:36.167Z"
   },
   {
    "duration": 12,
    "start_time": "2021-12-30T11:34:35.016Z"
   },
   {
    "duration": 13,
    "start_time": "2021-12-30T11:35:25.816Z"
   },
   {
    "duration": 7,
    "start_time": "2021-12-30T11:38:17.655Z"
   },
   {
    "duration": 21,
    "start_time": "2021-12-30T11:39:33.469Z"
   },
   {
    "duration": 513,
    "start_time": "2021-12-30T11:40:15.373Z"
   },
   {
    "duration": 4,
    "start_time": "2021-12-30T11:45:58.504Z"
   },
   {
    "duration": 789,
    "start_time": "2021-12-30T11:45:58.511Z"
   },
   {
    "duration": 9,
    "start_time": "2021-12-30T11:45:59.302Z"
   },
   {
    "duration": 18,
    "start_time": "2021-12-30T11:45:59.314Z"
   },
   {
    "duration": 39,
    "start_time": "2021-12-30T11:45:59.335Z"
   },
   {
    "duration": 9,
    "start_time": "2021-12-30T11:45:59.377Z"
   },
   {
    "duration": 16,
    "start_time": "2021-12-30T11:45:59.390Z"
   },
   {
    "duration": 55,
    "start_time": "2021-12-30T11:45:59.410Z"
   },
   {
    "duration": 15,
    "start_time": "2021-12-30T11:45:59.468Z"
   },
   {
    "duration": 21,
    "start_time": "2021-12-30T11:45:59.485Z"
   },
   {
    "duration": 51,
    "start_time": "2021-12-30T11:45:59.509Z"
   },
   {
    "duration": 375,
    "start_time": "2021-12-30T11:47:03.989Z"
   },
   {
    "duration": 481,
    "start_time": "2021-12-30T11:51:03.959Z"
   },
   {
    "duration": 25,
    "start_time": "2021-12-30T11:51:20.262Z"
   },
   {
    "duration": 29,
    "start_time": "2021-12-30T11:51:37.708Z"
   },
   {
    "duration": 17,
    "start_time": "2021-12-30T11:52:47.990Z"
   },
   {
    "duration": 16,
    "start_time": "2021-12-30T11:52:59.829Z"
   },
   {
    "duration": 17,
    "start_time": "2021-12-30T11:53:17.204Z"
   },
   {
    "duration": 424,
    "start_time": "2021-12-30T13:54:29.714Z"
   },
   {
    "duration": 13,
    "start_time": "2021-12-30T13:54:38.785Z"
   },
   {
    "duration": 12,
    "start_time": "2021-12-30T13:56:16.094Z"
   },
   {
    "duration": 12,
    "start_time": "2021-12-30T14:23:19.063Z"
   },
   {
    "duration": 11,
    "start_time": "2021-12-30T14:23:27.111Z"
   },
   {
    "duration": 25,
    "start_time": "2021-12-30T14:23:31.054Z"
   },
   {
    "duration": 11,
    "start_time": "2021-12-30T14:23:42.215Z"
   },
   {
    "duration": 13,
    "start_time": "2021-12-30T14:24:48.871Z"
   },
   {
    "duration": 13,
    "start_time": "2021-12-30T14:25:26.879Z"
   },
   {
    "duration": 14,
    "start_time": "2021-12-30T14:26:57.713Z"
   },
   {
    "duration": 423,
    "start_time": "2021-12-30T14:28:12.851Z"
   },
   {
    "duration": 4,
    "start_time": "2021-12-30T14:28:23.045Z"
   },
   {
    "duration": 574,
    "start_time": "2021-12-30T14:28:23.052Z"
   },
   {
    "duration": 10,
    "start_time": "2021-12-30T14:28:23.629Z"
   },
   {
    "duration": 34,
    "start_time": "2021-12-30T14:28:23.642Z"
   },
   {
    "duration": 29,
    "start_time": "2021-12-30T14:28:23.679Z"
   },
   {
    "duration": 48,
    "start_time": "2021-12-30T14:28:23.711Z"
   },
   {
    "duration": 10,
    "start_time": "2021-12-30T14:28:23.762Z"
   },
   {
    "duration": 12,
    "start_time": "2021-12-30T14:28:23.777Z"
   },
   {
    "duration": 28,
    "start_time": "2021-12-30T14:28:23.792Z"
   },
   {
    "duration": 13,
    "start_time": "2021-12-30T14:28:23.859Z"
   },
   {
    "duration": 15,
    "start_time": "2021-12-30T14:28:23.874Z"
   },
   {
    "duration": 370,
    "start_time": "2021-12-30T14:28:23.892Z"
   },
   {
    "duration": 415,
    "start_time": "2021-12-30T14:28:36.098Z"
   },
   {
    "duration": 369,
    "start_time": "2021-12-30T14:30:31.885Z"
   },
   {
    "duration": 8,
    "start_time": "2021-12-30T14:31:13.797Z"
   },
   {
    "duration": 9,
    "start_time": "2021-12-30T14:31:34.269Z"
   },
   {
    "duration": 15,
    "start_time": "2021-12-30T14:32:07.035Z"
   },
   {
    "duration": 14,
    "start_time": "2021-12-30T14:32:39.071Z"
   },
   {
    "duration": 4,
    "start_time": "2021-12-30T14:33:16.607Z"
   },
   {
    "duration": 551,
    "start_time": "2021-12-30T14:33:16.613Z"
   },
   {
    "duration": 9,
    "start_time": "2021-12-30T14:33:17.167Z"
   },
   {
    "duration": 17,
    "start_time": "2021-12-30T14:33:17.179Z"
   },
   {
    "duration": 28,
    "start_time": "2021-12-30T14:33:17.198Z"
   },
   {
    "duration": 16,
    "start_time": "2021-12-30T14:33:17.260Z"
   },
   {
    "duration": 9,
    "start_time": "2021-12-30T14:33:17.278Z"
   },
   {
    "duration": 13,
    "start_time": "2021-12-30T14:33:17.289Z"
   },
   {
    "duration": 65,
    "start_time": "2021-12-30T14:33:17.307Z"
   },
   {
    "duration": 13,
    "start_time": "2021-12-30T14:33:17.375Z"
   },
   {
    "duration": 18,
    "start_time": "2021-12-30T14:33:17.391Z"
   },
   {
    "duration": 14,
    "start_time": "2021-12-30T14:33:20.222Z"
   },
   {
    "duration": 7,
    "start_time": "2021-12-30T14:35:25.514Z"
   },
   {
    "duration": 72,
    "start_time": "2021-12-30T14:44:21.322Z"
   },
   {
    "duration": 71,
    "start_time": "2021-12-30T14:44:56.584Z"
   },
   {
    "duration": 34,
    "start_time": "2021-12-30T14:45:47.074Z"
   },
   {
    "duration": 399,
    "start_time": "2021-12-30T14:46:00.835Z"
   },
   {
    "duration": 12,
    "start_time": "2021-12-30T14:46:13.401Z"
   },
   {
    "duration": 47,
    "start_time": "2021-12-30T14:52:14.322Z"
   },
   {
    "duration": 19,
    "start_time": "2021-12-30T14:53:43.481Z"
   },
   {
    "duration": 41,
    "start_time": "2021-12-30T14:54:32.491Z"
   },
   {
    "duration": 44,
    "start_time": "2021-12-30T14:55:59.300Z"
   },
   {
    "duration": 36,
    "start_time": "2021-12-30T14:57:06.331Z"
   },
   {
    "duration": 4,
    "start_time": "2021-12-31T10:06:49.014Z"
   },
   {
    "duration": 1358,
    "start_time": "2021-12-31T10:09:32.599Z"
   },
   {
    "duration": 556,
    "start_time": "2021-12-31T10:09:33.960Z"
   },
   {
    "duration": 11,
    "start_time": "2021-12-31T10:09:34.520Z"
   },
   {
    "duration": 36,
    "start_time": "2021-12-31T10:09:34.534Z"
   },
   {
    "duration": 29,
    "start_time": "2021-12-31T10:09:34.573Z"
   },
   {
    "duration": 16,
    "start_time": "2021-12-31T10:09:34.604Z"
   },
   {
    "duration": 46,
    "start_time": "2021-12-31T10:09:34.622Z"
   },
   {
    "duration": 12,
    "start_time": "2021-12-31T10:09:34.671Z"
   },
   {
    "duration": 28,
    "start_time": "2021-12-31T10:09:34.686Z"
   },
   {
    "duration": 12,
    "start_time": "2021-12-31T10:09:34.717Z"
   },
   {
    "duration": 50,
    "start_time": "2021-12-31T10:09:34.732Z"
   },
   {
    "duration": 6,
    "start_time": "2021-12-31T10:09:34.784Z"
   },
   {
    "duration": 100,
    "start_time": "2021-12-31T10:09:34.793Z"
   },
   {
    "duration": 33,
    "start_time": "2021-12-31T10:09:34.896Z"
   },
   {
    "duration": 11,
    "start_time": "2021-12-31T10:09:34.932Z"
   },
   {
    "duration": 44,
    "start_time": "2021-12-31T10:09:34.967Z"
   },
   {
    "duration": 19,
    "start_time": "2021-12-31T10:09:35.013Z"
   },
   {
    "duration": 38,
    "start_time": "2021-12-31T10:09:35.034Z"
   },
   {
    "duration": 390,
    "start_time": "2021-12-31T10:09:35.074Z"
   },
   {
    "duration": 326,
    "start_time": "2021-12-31T10:09:35.141Z"
   },
   {
    "duration": 46,
    "start_time": "2021-12-31T10:09:52.404Z"
   },
   {
    "duration": 22,
    "start_time": "2021-12-31T10:09:54.091Z"
   },
   {
    "duration": 12,
    "start_time": "2021-12-31T10:09:56.299Z"
   },
   {
    "duration": 59,
    "start_time": "2021-12-31T10:14:49.729Z"
   },
   {
    "duration": 13,
    "start_time": "2021-12-31T10:14:58.511Z"
   },
   {
    "duration": 5,
    "start_time": "2021-12-31T10:18:20.823Z"
   },
   {
    "duration": 11,
    "start_time": "2021-12-31T10:18:21.451Z"
   },
   {
    "duration": 26,
    "start_time": "2021-12-31T10:22:46.158Z"
   },
   {
    "duration": 15,
    "start_time": "2021-12-31T10:22:57.193Z"
   },
   {
    "duration": 54,
    "start_time": "2021-12-31T10:29:50.470Z"
   },
   {
    "duration": 14,
    "start_time": "2021-12-31T10:30:06.766Z"
   },
   {
    "duration": 302,
    "start_time": "2021-12-31T10:34:52.481Z"
   },
   {
    "duration": 40,
    "start_time": "2021-12-31T10:35:06.124Z"
   },
   {
    "duration": 14,
    "start_time": "2021-12-31T10:35:19.521Z"
   },
   {
    "duration": 4,
    "start_time": "2021-12-31T10:38:08.178Z"
   },
   {
    "duration": 557,
    "start_time": "2021-12-31T10:38:08.186Z"
   },
   {
    "duration": 19,
    "start_time": "2021-12-31T10:38:08.747Z"
   },
   {
    "duration": 18,
    "start_time": "2021-12-31T10:38:08.770Z"
   },
   {
    "duration": 29,
    "start_time": "2021-12-31T10:38:08.791Z"
   },
   {
    "duration": 55,
    "start_time": "2021-12-31T10:38:08.823Z"
   },
   {
    "duration": 12,
    "start_time": "2021-12-31T10:38:08.881Z"
   },
   {
    "duration": 14,
    "start_time": "2021-12-31T10:38:08.896Z"
   },
   {
    "duration": 72,
    "start_time": "2021-12-31T10:38:08.917Z"
   },
   {
    "duration": 12,
    "start_time": "2021-12-31T10:38:08.993Z"
   },
   {
    "duration": 18,
    "start_time": "2021-12-31T10:38:09.008Z"
   },
   {
    "duration": 41,
    "start_time": "2021-12-31T10:38:09.029Z"
   },
   {
    "duration": 94,
    "start_time": "2021-12-31T10:38:09.073Z"
   },
   {
    "duration": 44,
    "start_time": "2021-12-31T10:38:09.170Z"
   },
   {
    "duration": 21,
    "start_time": "2021-12-31T10:38:09.217Z"
   },
   {
    "duration": 11,
    "start_time": "2021-12-31T10:38:09.267Z"
   },
   {
    "duration": 46,
    "start_time": "2021-12-31T10:38:09.280Z"
   },
   {
    "duration": 69,
    "start_time": "2021-12-31T10:38:09.329Z"
   },
   {
    "duration": 5,
    "start_time": "2021-12-31T10:38:09.401Z"
   },
   {
    "duration": 25,
    "start_time": "2021-12-31T10:38:09.408Z"
   },
   {
    "duration": 32,
    "start_time": "2021-12-31T10:38:09.435Z"
   },
   {
    "duration": 12,
    "start_time": "2021-12-31T10:38:09.470Z"
   },
   {
    "duration": 83,
    "start_time": "2021-12-31T10:38:09.484Z"
   },
   {
    "duration": 13,
    "start_time": "2021-12-31T10:38:09.570Z"
   },
   {
    "duration": 31,
    "start_time": "2021-12-31T10:38:09.586Z"
   },
   {
    "duration": 13,
    "start_time": "2021-12-31T10:38:12.711Z"
   },
   {
    "duration": 307,
    "start_time": "2021-12-31T10:43:13.194Z"
   },
   {
    "duration": 20,
    "start_time": "2021-12-31T10:43:25.101Z"
   },
   {
    "duration": 9,
    "start_time": "2021-12-31T10:44:30.458Z"
   },
   {
    "duration": 285,
    "start_time": "2021-12-31T10:46:08.124Z"
   },
   {
    "duration": 12,
    "start_time": "2021-12-31T10:46:18.612Z"
   },
   {
    "duration": 10,
    "start_time": "2021-12-31T10:46:32.341Z"
   },
   {
    "duration": 12,
    "start_time": "2021-12-31T10:46:50.132Z"
   },
   {
    "duration": 83,
    "start_time": "2021-12-31T10:47:13.773Z"
   },
   {
    "duration": 10,
    "start_time": "2021-12-31T10:47:20.541Z"
   },
   {
    "duration": 11,
    "start_time": "2021-12-31T10:58:41.049Z"
   },
   {
    "duration": 6,
    "start_time": "2021-12-31T10:58:58.687Z"
   },
   {
    "duration": 13,
    "start_time": "2021-12-31T10:58:59.338Z"
   },
   {
    "duration": 5,
    "start_time": "2021-12-31T11:00:14.943Z"
   },
   {
    "duration": 519,
    "start_time": "2021-12-31T11:00:14.951Z"
   },
   {
    "duration": 9,
    "start_time": "2021-12-31T11:00:15.473Z"
   },
   {
    "duration": 19,
    "start_time": "2021-12-31T11:00:15.485Z"
   },
   {
    "duration": 10,
    "start_time": "2021-12-31T11:00:15.506Z"
   },
   {
    "duration": 47,
    "start_time": "2021-12-31T11:00:15.519Z"
   },
   {
    "duration": 9,
    "start_time": "2021-12-31T11:00:15.569Z"
   },
   {
    "duration": 14,
    "start_time": "2021-12-31T11:00:15.580Z"
   },
   {
    "duration": 6,
    "start_time": "2021-12-31T11:00:18.330Z"
   },
   {
    "duration": 13,
    "start_time": "2021-12-31T11:00:19.407Z"
   },
   {
    "duration": 4,
    "start_time": "2021-12-31T11:00:32.131Z"
   },
   {
    "duration": 533,
    "start_time": "2021-12-31T11:00:32.138Z"
   },
   {
    "duration": 9,
    "start_time": "2021-12-31T11:00:32.675Z"
   },
   {
    "duration": 17,
    "start_time": "2021-12-31T11:00:32.687Z"
   },
   {
    "duration": 12,
    "start_time": "2021-12-31T11:00:32.707Z"
   },
   {
    "duration": 10,
    "start_time": "2021-12-31T11:00:32.721Z"
   },
   {
    "duration": 9,
    "start_time": "2021-12-31T11:00:32.768Z"
   },
   {
    "duration": 16,
    "start_time": "2021-12-31T11:00:32.780Z"
   },
   {
    "duration": 4,
    "start_time": "2021-12-31T11:00:41.349Z"
   },
   {
    "duration": 553,
    "start_time": "2021-12-31T11:00:41.356Z"
   },
   {
    "duration": 9,
    "start_time": "2021-12-31T11:00:41.912Z"
   },
   {
    "duration": 18,
    "start_time": "2021-12-31T11:00:41.924Z"
   },
   {
    "duration": 28,
    "start_time": "2021-12-31T11:00:41.945Z"
   },
   {
    "duration": 8,
    "start_time": "2021-12-31T11:00:41.975Z"
   },
   {
    "duration": 10,
    "start_time": "2021-12-31T11:00:41.986Z"
   },
   {
    "duration": 13,
    "start_time": "2021-12-31T11:00:42.000Z"
   },
   {
    "duration": 51,
    "start_time": "2021-12-31T11:00:42.016Z"
   },
   {
    "duration": 12,
    "start_time": "2021-12-31T11:00:42.069Z"
   },
   {
    "duration": 31,
    "start_time": "2021-12-31T11:00:42.083Z"
   },
   {
    "duration": 15,
    "start_time": "2021-12-31T11:00:42.116Z"
   },
   {
    "duration": 41,
    "start_time": "2021-12-31T11:00:42.133Z"
   },
   {
    "duration": 6,
    "start_time": "2021-12-31T11:00:42.176Z"
   },
   {
    "duration": 99,
    "start_time": "2021-12-31T11:00:42.184Z"
   },
   {
    "duration": 36,
    "start_time": "2021-12-31T11:00:42.285Z"
   },
   {
    "duration": 19,
    "start_time": "2021-12-31T11:00:42.324Z"
   },
   {
    "duration": 12,
    "start_time": "2021-12-31T11:00:42.366Z"
   },
   {
    "duration": 49,
    "start_time": "2021-12-31T11:00:42.380Z"
   },
   {
    "duration": 68,
    "start_time": "2021-12-31T11:00:42.431Z"
   },
   {
    "duration": 5,
    "start_time": "2021-12-31T11:00:42.501Z"
   },
   {
    "duration": 26,
    "start_time": "2021-12-31T11:00:42.508Z"
   },
   {
    "duration": 38,
    "start_time": "2021-12-31T11:00:42.538Z"
   },
   {
    "duration": 24,
    "start_time": "2021-12-31T11:00:42.578Z"
   },
   {
    "duration": 65,
    "start_time": "2021-12-31T11:00:42.605Z"
   },
   {
    "duration": 13,
    "start_time": "2021-12-31T11:00:42.673Z"
   },
   {
    "duration": 32,
    "start_time": "2021-12-31T11:00:42.689Z"
   },
   {
    "duration": 1248,
    "start_time": "2022-01-10T11:40:12.068Z"
   },
   {
    "duration": 449,
    "start_time": "2022-01-10T11:40:13.318Z"
   },
   {
    "duration": 8,
    "start_time": "2022-01-10T11:40:13.769Z"
   },
   {
    "duration": 18,
    "start_time": "2022-01-10T11:40:13.779Z"
   },
   {
    "duration": 13,
    "start_time": "2022-01-10T11:40:13.798Z"
   },
   {
    "duration": 6,
    "start_time": "2022-01-10T11:40:13.812Z"
   },
   {
    "duration": 8,
    "start_time": "2022-01-10T11:40:13.819Z"
   },
   {
    "duration": 7,
    "start_time": "2022-01-10T11:40:18.071Z"
   },
   {
    "duration": 7,
    "start_time": "2022-01-10T11:41:03.650Z"
   },
   {
    "duration": 3,
    "start_time": "2022-01-10T11:46:06.148Z"
   },
   {
    "duration": 403,
    "start_time": "2022-01-10T11:46:06.153Z"
   },
   {
    "duration": 7,
    "start_time": "2022-01-10T11:46:06.558Z"
   },
   {
    "duration": 15,
    "start_time": "2022-01-10T11:46:06.567Z"
   },
   {
    "duration": 8,
    "start_time": "2022-01-10T11:46:06.584Z"
   },
   {
    "duration": 7,
    "start_time": "2022-01-10T11:46:06.594Z"
   },
   {
    "duration": 5,
    "start_time": "2022-01-10T11:46:06.604Z"
   },
   {
    "duration": 7,
    "start_time": "2022-01-10T11:46:06.611Z"
   },
   {
    "duration": 44,
    "start_time": "2022-01-10T11:46:06.620Z"
   },
   {
    "duration": 9,
    "start_time": "2022-01-10T11:46:06.667Z"
   },
   {
    "duration": 8,
    "start_time": "2022-01-10T11:46:06.678Z"
   },
   {
    "duration": 8,
    "start_time": "2022-01-10T11:46:06.688Z"
   },
   {
    "duration": 23,
    "start_time": "2022-01-10T11:46:06.698Z"
   },
   {
    "duration": 39,
    "start_time": "2022-01-10T11:46:06.723Z"
   },
   {
    "duration": 11,
    "start_time": "2022-01-10T11:46:06.763Z"
   },
   {
    "duration": 4,
    "start_time": "2022-01-10T11:46:06.776Z"
   },
   {
    "duration": 55,
    "start_time": "2022-01-10T11:46:06.781Z"
   },
   {
    "duration": 59,
    "start_time": "2022-01-10T11:46:06.838Z"
   },
   {
    "duration": 16,
    "start_time": "2022-01-10T11:46:06.900Z"
   },
   {
    "duration": 7,
    "start_time": "2022-01-10T11:46:06.918Z"
   },
   {
    "duration": 63,
    "start_time": "2022-01-10T11:46:06.927Z"
   },
   {
    "duration": 42,
    "start_time": "2022-01-10T11:46:06.991Z"
   },
   {
    "duration": 8,
    "start_time": "2022-01-10T11:46:07.034Z"
   },
   {
    "duration": 30,
    "start_time": "2022-01-10T11:46:07.043Z"
   },
   {
    "duration": 10,
    "start_time": "2022-01-10T11:46:07.074Z"
   },
   {
    "duration": 9,
    "start_time": "2022-01-10T11:46:07.086Z"
   },
   {
    "duration": 76,
    "start_time": "2022-01-10T11:46:07.097Z"
   },
   {
    "duration": 10,
    "start_time": "2022-01-10T11:46:07.175Z"
   },
   {
    "duration": 34,
    "start_time": "2022-01-10T11:46:07.188Z"
   },
   {
    "duration": 354,
    "start_time": "2022-01-10T11:58:46.504Z"
   },
   {
    "duration": 7,
    "start_time": "2022-01-10T11:59:24.428Z"
   },
   {
    "duration": 8,
    "start_time": "2022-01-10T11:59:43.410Z"
   },
   {
    "duration": 3,
    "start_time": "2022-01-10T12:00:17.634Z"
   },
   {
    "duration": 403,
    "start_time": "2022-01-10T12:00:17.640Z"
   },
   {
    "duration": 6,
    "start_time": "2022-01-10T12:00:18.045Z"
   },
   {
    "duration": 13,
    "start_time": "2022-01-10T12:00:18.053Z"
   },
   {
    "duration": 11,
    "start_time": "2022-01-10T12:00:18.068Z"
   },
   {
    "duration": 9,
    "start_time": "2022-01-10T12:00:18.081Z"
   },
   {
    "duration": 7,
    "start_time": "2022-01-10T12:00:18.092Z"
   },
   {
    "duration": 9,
    "start_time": "2022-01-10T12:00:18.101Z"
   },
   {
    "duration": 10,
    "start_time": "2022-01-10T12:00:18.112Z"
   },
   {
    "duration": 12,
    "start_time": "2022-01-10T12:00:18.123Z"
   },
   {
    "duration": 26,
    "start_time": "2022-01-10T12:00:18.137Z"
   },
   {
    "duration": 33,
    "start_time": "2022-01-10T12:00:18.165Z"
   },
   {
    "duration": 150,
    "start_time": "2022-01-10T12:00:18.200Z"
   },
   {
    "duration": 14,
    "start_time": "2022-01-10T12:00:18.352Z"
   },
   {
    "duration": 16,
    "start_time": "2022-01-10T12:00:18.369Z"
   },
   {
    "duration": 13,
    "start_time": "2022-01-10T12:00:18.387Z"
   },
   {
    "duration": 160,
    "start_time": "2022-01-10T12:00:18.403Z"
   },
   {
    "duration": 137,
    "start_time": "2022-01-10T12:00:18.565Z"
   },
   {
    "duration": 33,
    "start_time": "2022-01-10T12:00:18.704Z"
   },
   {
    "duration": 32,
    "start_time": "2022-01-10T12:00:18.739Z"
   },
   {
    "duration": 46,
    "start_time": "2022-01-10T12:00:18.773Z"
   },
   {
    "duration": 35,
    "start_time": "2022-01-10T12:00:18.821Z"
   },
   {
    "duration": 8,
    "start_time": "2022-01-10T12:00:18.857Z"
   },
   {
    "duration": 64,
    "start_time": "2022-01-10T12:00:18.866Z"
   },
   {
    "duration": 45,
    "start_time": "2022-01-10T12:00:18.932Z"
   },
   {
    "duration": 32,
    "start_time": "2022-01-10T12:00:18.979Z"
   },
   {
    "duration": 49,
    "start_time": "2022-01-10T12:00:19.014Z"
   },
   {
    "duration": 8,
    "start_time": "2022-01-10T12:00:19.065Z"
   },
   {
    "duration": 28,
    "start_time": "2022-01-10T12:00:19.075Z"
   },
   {
    "duration": 249,
    "start_time": "2022-01-10T12:00:19.105Z"
   },
   {
    "duration": 11,
    "start_time": "2022-01-10T12:05:11.705Z"
   },
   {
    "duration": 10,
    "start_time": "2022-01-10T12:05:13.561Z"
   },
   {
    "duration": 3,
    "start_time": "2022-01-10T12:06:09.049Z"
   },
   {
    "duration": 440,
    "start_time": "2022-01-10T12:06:09.055Z"
   },
   {
    "duration": 7,
    "start_time": "2022-01-10T12:06:09.497Z"
   },
   {
    "duration": 62,
    "start_time": "2022-01-10T12:06:09.506Z"
   },
   {
    "duration": 27,
    "start_time": "2022-01-10T12:06:09.570Z"
   },
   {
    "duration": 44,
    "start_time": "2022-01-10T12:06:09.599Z"
   },
   {
    "duration": 68,
    "start_time": "2022-01-10T12:06:09.646Z"
   },
   {
    "duration": 43,
    "start_time": "2022-01-10T12:06:09.717Z"
   },
   {
    "duration": 57,
    "start_time": "2022-01-10T12:06:09.762Z"
   },
   {
    "duration": 53,
    "start_time": "2022-01-10T12:06:09.821Z"
   },
   {
    "duration": 105,
    "start_time": "2022-01-10T12:06:09.876Z"
   },
   {
    "duration": 46,
    "start_time": "2022-01-10T12:06:09.983Z"
   },
   {
    "duration": 70,
    "start_time": "2022-01-10T12:06:10.031Z"
   },
   {
    "duration": 36,
    "start_time": "2022-01-10T12:06:10.103Z"
   },
   {
    "duration": 54,
    "start_time": "2022-01-10T12:06:10.141Z"
   },
   {
    "duration": 44,
    "start_time": "2022-01-10T12:06:10.197Z"
   },
   {
    "duration": 90,
    "start_time": "2022-01-10T12:06:10.243Z"
   },
   {
    "duration": 72,
    "start_time": "2022-01-10T12:06:10.335Z"
   },
   {
    "duration": 26,
    "start_time": "2022-01-10T12:06:10.409Z"
   },
   {
    "duration": 120,
    "start_time": "2022-01-10T12:06:10.438Z"
   },
   {
    "duration": 89,
    "start_time": "2022-01-10T12:06:10.561Z"
   },
   {
    "duration": 71,
    "start_time": "2022-01-10T12:06:10.652Z"
   },
   {
    "duration": 32,
    "start_time": "2022-01-10T12:06:10.725Z"
   },
   {
    "duration": 61,
    "start_time": "2022-01-10T12:06:10.759Z"
   },
   {
    "duration": 38,
    "start_time": "2022-01-10T12:06:10.822Z"
   },
   {
    "duration": 63,
    "start_time": "2022-01-10T12:06:10.862Z"
   },
   {
    "duration": 94,
    "start_time": "2022-01-10T12:06:10.927Z"
   },
   {
    "duration": 24,
    "start_time": "2022-01-10T12:06:11.023Z"
   },
   {
    "duration": 89,
    "start_time": "2022-01-10T12:06:11.049Z"
   },
   {
    "duration": 308,
    "start_time": "2022-01-10T12:06:19.165Z"
   },
   {
    "duration": 10,
    "start_time": "2022-01-10T12:06:26.502Z"
   },
   {
    "duration": 9,
    "start_time": "2022-01-10T12:06:27.606Z"
   },
   {
    "duration": 7,
    "start_time": "2022-01-10T12:07:04.707Z"
   },
   {
    "duration": 4,
    "start_time": "2022-01-10T12:47:08.414Z"
   },
   {
    "duration": 4,
    "start_time": "2022-01-10T12:47:28.094Z"
   },
   {
    "duration": 8,
    "start_time": "2022-01-10T12:51:09.901Z"
   },
   {
    "duration": 254,
    "start_time": "2022-01-10T12:51:46.133Z"
   },
   {
    "duration": 269,
    "start_time": "2022-01-10T12:51:54.629Z"
   },
   {
    "duration": 11,
    "start_time": "2022-01-10T12:52:38.034Z"
   },
   {
    "duration": 6,
    "start_time": "2022-01-10T12:52:44.575Z"
   },
   {
    "duration": 3,
    "start_time": "2022-01-10T12:53:18.358Z"
   },
   {
    "duration": 7,
    "start_time": "2022-01-10T12:53:26.256Z"
   },
   {
    "duration": 3,
    "start_time": "2022-01-10T13:12:44.252Z"
   },
   {
    "duration": 450,
    "start_time": "2022-01-10T13:12:44.257Z"
   },
   {
    "duration": 7,
    "start_time": "2022-01-10T13:12:44.709Z"
   },
   {
    "duration": 13,
    "start_time": "2022-01-10T13:12:44.718Z"
   },
   {
    "duration": 8,
    "start_time": "2022-01-10T13:12:44.733Z"
   },
   {
    "duration": 19,
    "start_time": "2022-01-10T13:12:44.743Z"
   },
   {
    "duration": 5,
    "start_time": "2022-01-10T13:12:44.765Z"
   },
   {
    "duration": 13,
    "start_time": "2022-01-10T13:12:44.772Z"
   },
   {
    "duration": 10,
    "start_time": "2022-01-10T13:12:44.787Z"
   },
   {
    "duration": 16,
    "start_time": "2022-01-10T13:12:44.799Z"
   },
   {
    "duration": 6,
    "start_time": "2022-01-10T13:12:44.817Z"
   },
   {
    "duration": 11,
    "start_time": "2022-01-10T13:12:44.824Z"
   },
   {
    "duration": 35,
    "start_time": "2022-01-10T13:12:44.837Z"
   },
   {
    "duration": 8,
    "start_time": "2022-01-10T13:12:44.874Z"
   },
   {
    "duration": 16,
    "start_time": "2022-01-10T13:12:44.884Z"
   },
   {
    "duration": 4,
    "start_time": "2022-01-10T13:12:44.902Z"
   },
   {
    "duration": 67,
    "start_time": "2022-01-10T13:12:44.907Z"
   },
   {
    "duration": 34,
    "start_time": "2022-01-10T13:12:44.976Z"
   },
   {
    "duration": 16,
    "start_time": "2022-01-10T13:12:45.013Z"
   },
   {
    "duration": 30,
    "start_time": "2022-01-10T13:12:45.032Z"
   },
   {
    "duration": 36,
    "start_time": "2022-01-10T13:12:45.063Z"
   },
   {
    "duration": 39,
    "start_time": "2022-01-10T13:12:45.101Z"
   },
   {
    "duration": 19,
    "start_time": "2022-01-10T13:12:45.142Z"
   },
   {
    "duration": 17,
    "start_time": "2022-01-10T13:12:45.163Z"
   },
   {
    "duration": 9,
    "start_time": "2022-01-10T13:12:45.182Z"
   },
   {
    "duration": 10,
    "start_time": "2022-01-10T13:12:45.193Z"
   },
   {
    "duration": 63,
    "start_time": "2022-01-10T13:12:45.205Z"
   },
   {
    "duration": 9,
    "start_time": "2022-01-10T13:12:45.270Z"
   },
   {
    "duration": 31,
    "start_time": "2022-01-10T13:12:45.281Z"
   },
   {
    "duration": 10,
    "start_time": "2022-01-10T13:12:45.314Z"
   },
   {
    "duration": 7,
    "start_time": "2022-01-10T13:12:45.325Z"
   },
   {
    "duration": 62,
    "start_time": "2022-01-10T13:12:45.333Z"
   },
   {
    "duration": 87,
    "start_time": "2022-01-10T13:12:49.448Z"
   },
   {
    "duration": 4,
    "start_time": "2022-01-10T13:13:27.394Z"
   },
   {
    "duration": 855,
    "start_time": "2022-01-10T13:15:45.195Z"
   },
   {
    "duration": 8390,
    "start_time": "2022-01-10T13:17:09.477Z"
   },
   {
    "duration": 3,
    "start_time": "2022-01-10T13:18:29.940Z"
   },
   {
    "duration": 399,
    "start_time": "2022-01-10T13:18:29.945Z"
   },
   {
    "duration": 7,
    "start_time": "2022-01-10T13:18:30.346Z"
   },
   {
    "duration": 17,
    "start_time": "2022-01-10T13:18:30.355Z"
   },
   {
    "duration": 23,
    "start_time": "2022-01-10T13:18:30.373Z"
   },
   {
    "duration": 13,
    "start_time": "2022-01-10T13:18:30.397Z"
   },
   {
    "duration": 8,
    "start_time": "2022-01-10T13:18:30.412Z"
   },
   {
    "duration": 15,
    "start_time": "2022-01-10T13:18:30.423Z"
   },
   {
    "duration": 11,
    "start_time": "2022-01-10T13:18:30.440Z"
   },
   {
    "duration": 13,
    "start_time": "2022-01-10T13:18:30.453Z"
   },
   {
    "duration": 8,
    "start_time": "2022-01-10T13:18:30.468Z"
   },
   {
    "duration": 19,
    "start_time": "2022-01-10T13:18:30.477Z"
   },
   {
    "duration": 31,
    "start_time": "2022-01-10T13:18:30.498Z"
   },
   {
    "duration": 8,
    "start_time": "2022-01-10T13:18:30.531Z"
   },
   {
    "duration": 20,
    "start_time": "2022-01-10T13:18:30.541Z"
   },
   {
    "duration": 6,
    "start_time": "2022-01-10T13:18:30.563Z"
   },
   {
    "duration": 59,
    "start_time": "2022-01-10T13:18:30.570Z"
   },
   {
    "duration": 51,
    "start_time": "2022-01-10T13:18:30.631Z"
   },
   {
    "duration": 15,
    "start_time": "2022-01-10T13:18:30.686Z"
   },
   {
    "duration": 30,
    "start_time": "2022-01-10T13:18:30.704Z"
   },
   {
    "duration": 47,
    "start_time": "2022-01-10T13:18:30.736Z"
   },
   {
    "duration": 37,
    "start_time": "2022-01-10T13:18:30.785Z"
   },
   {
    "duration": 9,
    "start_time": "2022-01-10T13:18:30.824Z"
   },
   {
    "duration": 42,
    "start_time": "2022-01-10T13:18:30.834Z"
   },
   {
    "duration": 9,
    "start_time": "2022-01-10T13:18:30.879Z"
   },
   {
    "duration": 17,
    "start_time": "2022-01-10T13:18:30.890Z"
   },
   {
    "duration": 53,
    "start_time": "2022-01-10T13:18:30.910Z"
   },
   {
    "duration": 11,
    "start_time": "2022-01-10T13:18:30.965Z"
   },
   {
    "duration": 63,
    "start_time": "2022-01-10T13:18:30.978Z"
   },
   {
    "duration": 11,
    "start_time": "2022-01-10T13:18:31.043Z"
   },
   {
    "duration": 9,
    "start_time": "2022-01-10T13:18:31.056Z"
   },
   {
    "duration": 30,
    "start_time": "2022-01-10T13:18:31.067Z"
   },
   {
    "duration": 15,
    "start_time": "2022-01-10T13:18:31.099Z"
   },
   {
    "duration": 6732,
    "start_time": "2022-01-10T13:18:31.116Z"
   },
   {
    "duration": 7570,
    "start_time": "2022-01-10T13:19:38.237Z"
   },
   {
    "duration": 5,
    "start_time": "2022-01-10T13:20:30.552Z"
   },
   {
    "duration": 5,
    "start_time": "2022-01-10T13:20:45.584Z"
   },
   {
    "duration": 4,
    "start_time": "2022-01-10T13:20:56.465Z"
   },
   {
    "duration": 5,
    "start_time": "2022-01-10T13:21:25.148Z"
   },
   {
    "duration": 1007,
    "start_time": "2022-01-10T13:21:32.792Z"
   },
   {
    "duration": 4,
    "start_time": "2022-01-10T13:21:51.162Z"
   },
   {
    "duration": 563,
    "start_time": "2022-01-10T13:21:54.499Z"
   },
   {
    "duration": 5,
    "start_time": "2022-01-10T13:22:23.993Z"
   },
   {
    "duration": 516,
    "start_time": "2022-01-10T13:22:27.556Z"
   },
   {
    "duration": 3,
    "start_time": "2022-01-10T13:22:50.489Z"
   },
   {
    "duration": 571,
    "start_time": "2022-01-10T13:22:56.301Z"
   },
   {
    "duration": 4,
    "start_time": "2022-01-10T13:23:11.835Z"
   },
   {
    "duration": 586,
    "start_time": "2022-01-10T13:23:14.346Z"
   },
   {
    "duration": 3,
    "start_time": "2022-01-10T13:23:40.755Z"
   },
   {
    "duration": 887,
    "start_time": "2022-01-10T13:23:42.731Z"
   },
   {
    "duration": 4,
    "start_time": "2022-01-10T13:24:03.516Z"
   },
   {
    "duration": 507,
    "start_time": "2022-01-10T13:24:05.340Z"
   },
   {
    "duration": 3,
    "start_time": "2022-01-10T13:24:53.821Z"
   },
   {
    "duration": 5,
    "start_time": "2022-01-10T13:24:55.219Z"
   },
   {
    "duration": 510,
    "start_time": "2022-01-10T13:24:57.813Z"
   },
   {
    "duration": 3,
    "start_time": "2022-01-10T13:25:16.532Z"
   },
   {
    "duration": 9,
    "start_time": "2022-01-10T13:25:18.766Z"
   },
   {
    "duration": 3,
    "start_time": "2022-01-10T13:25:33.899Z"
   },
   {
    "duration": 7,
    "start_time": "2022-01-10T13:25:35.635Z"
   },
   {
    "duration": 3,
    "start_time": "2022-01-10T13:25:53.110Z"
   },
   {
    "duration": 514,
    "start_time": "2022-01-10T13:25:55.292Z"
   },
   {
    "duration": 3,
    "start_time": "2022-01-10T13:26:54.151Z"
   },
   {
    "duration": 3,
    "start_time": "2022-01-10T13:27:12.669Z"
   },
   {
    "duration": 13,
    "start_time": "2022-01-10T13:27:15.152Z"
   },
   {
    "duration": 3,
    "start_time": "2022-01-10T13:27:38.037Z"
   },
   {
    "duration": 9,
    "start_time": "2022-01-10T13:27:39.670Z"
   },
   {
    "duration": 3,
    "start_time": "2022-01-10T13:27:55.391Z"
   },
   {
    "duration": 516,
    "start_time": "2022-01-10T13:27:58.669Z"
   },
   {
    "duration": 3,
    "start_time": "2022-01-10T13:28:32.358Z"
   },
   {
    "duration": 553,
    "start_time": "2022-01-10T13:28:35.977Z"
   },
   {
    "duration": 4,
    "start_time": "2022-01-10T13:29:22.879Z"
   },
   {
    "duration": 6,
    "start_time": "2022-01-10T13:29:24.422Z"
   },
   {
    "duration": 7,
    "start_time": "2022-01-10T13:29:25.377Z"
   },
   {
    "duration": 3,
    "start_time": "2022-01-10T13:29:57.928Z"
   },
   {
    "duration": 8,
    "start_time": "2022-01-10T13:30:01.127Z"
   },
   {
    "duration": 3,
    "start_time": "2022-01-10T13:38:00.527Z"
   },
   {
    "duration": 9,
    "start_time": "2022-01-10T13:38:02.364Z"
   },
   {
    "duration": 5,
    "start_time": "2022-01-10T13:38:24.843Z"
   },
   {
    "duration": 524,
    "start_time": "2022-01-10T13:38:31.585Z"
   },
   {
    "duration": 4,
    "start_time": "2022-01-10T13:39:08.075Z"
   },
   {
    "duration": 12,
    "start_time": "2022-01-10T13:39:10.970Z"
   },
   {
    "duration": 4,
    "start_time": "2022-01-10T13:39:48.116Z"
   },
   {
    "duration": 9,
    "start_time": "2022-01-10T13:39:53.459Z"
   },
   {
    "duration": 4,
    "start_time": "2022-01-10T13:40:29.668Z"
   },
   {
    "duration": 766,
    "start_time": "2022-01-10T13:40:39.483Z"
   },
   {
    "duration": 3,
    "start_time": "2022-01-10T13:40:47.252Z"
   },
   {
    "duration": 9,
    "start_time": "2022-01-10T13:40:50.580Z"
   },
   {
    "duration": 3,
    "start_time": "2022-01-10T13:41:08.350Z"
   },
   {
    "duration": 4471,
    "start_time": "2022-01-10T13:41:10.154Z"
   },
   {
    "duration": 3,
    "start_time": "2022-01-10T13:41:42.006Z"
   },
   {
    "duration": 8,
    "start_time": "2022-01-10T13:41:46.286Z"
   },
   {
    "duration": 3,
    "start_time": "2022-01-10T13:42:44.790Z"
   },
   {
    "duration": 7,
    "start_time": "2022-01-10T13:42:54.789Z"
   },
   {
    "duration": 7081,
    "start_time": "2022-01-10T13:43:00.447Z"
   },
   {
    "duration": 3,
    "start_time": "2022-01-10T13:51:12.765Z"
   },
   {
    "duration": 7,
    "start_time": "2022-01-10T13:51:18.645Z"
   },
   {
    "duration": 3,
    "start_time": "2022-01-10T13:51:54.215Z"
   },
   {
    "duration": 6,
    "start_time": "2022-01-10T13:51:56.550Z"
   },
   {
    "duration": 6,
    "start_time": "2022-01-10T13:52:28.929Z"
   },
   {
    "duration": 594,
    "start_time": "2022-01-10T13:52:33.798Z"
   },
   {
    "duration": 4,
    "start_time": "2022-01-10T13:52:52.888Z"
   },
   {
    "duration": 4,
    "start_time": "2022-01-10T13:52:58.271Z"
   },
   {
    "duration": 8,
    "start_time": "2022-01-10T13:52:59.711Z"
   },
   {
    "duration": 4,
    "start_time": "2022-01-10T13:54:13.850Z"
   },
   {
    "duration": 13,
    "start_time": "2022-01-10T13:54:16.023Z"
   },
   {
    "duration": 4,
    "start_time": "2022-01-10T13:54:52.274Z"
   },
   {
    "duration": 15,
    "start_time": "2022-01-10T13:54:55.049Z"
   },
   {
    "duration": 3,
    "start_time": "2022-01-10T13:55:01.508Z"
   },
   {
    "duration": 14,
    "start_time": "2022-01-10T13:55:04.129Z"
   },
   {
    "duration": 4,
    "start_time": "2022-01-10T13:55:19.593Z"
   },
   {
    "duration": 11,
    "start_time": "2022-01-10T13:55:21.217Z"
   },
   {
    "duration": 3,
    "start_time": "2022-01-10T13:58:25.005Z"
   },
   {
    "duration": 11,
    "start_time": "2022-01-10T13:58:26.715Z"
   },
   {
    "duration": 5,
    "start_time": "2022-01-10T13:59:33.677Z"
   },
   {
    "duration": 9,
    "start_time": "2022-01-10T13:59:38.645Z"
   },
   {
    "duration": 11930,
    "start_time": "2022-01-10T13:59:57.912Z"
   },
   {
    "duration": 9,
    "start_time": "2022-01-10T14:00:26.375Z"
   },
   {
    "duration": 11,
    "start_time": "2022-01-10T14:01:07.530Z"
   },
   {
    "duration": 10,
    "start_time": "2022-01-10T14:01:29.087Z"
   },
   {
    "duration": 9,
    "start_time": "2022-01-10T14:07:49.839Z"
   },
   {
    "duration": 4,
    "start_time": "2022-01-10T14:22:06.173Z"
   },
   {
    "duration": 429,
    "start_time": "2022-01-10T14:22:06.179Z"
   },
   {
    "duration": 7,
    "start_time": "2022-01-10T14:22:06.610Z"
   },
   {
    "duration": 14,
    "start_time": "2022-01-10T14:22:06.618Z"
   },
   {
    "duration": 10,
    "start_time": "2022-01-10T14:22:06.634Z"
   },
   {
    "duration": 19,
    "start_time": "2022-01-10T14:22:06.646Z"
   },
   {
    "duration": 15,
    "start_time": "2022-01-10T14:22:06.668Z"
   },
   {
    "duration": 14,
    "start_time": "2022-01-10T14:22:06.686Z"
   },
   {
    "duration": 23,
    "start_time": "2022-01-10T14:22:06.702Z"
   },
   {
    "duration": 11,
    "start_time": "2022-01-10T14:22:06.727Z"
   },
   {
    "duration": 6,
    "start_time": "2022-01-10T14:22:06.740Z"
   },
   {
    "duration": 16,
    "start_time": "2022-01-10T14:22:06.747Z"
   },
   {
    "duration": 29,
    "start_time": "2022-01-10T14:22:06.765Z"
   },
   {
    "duration": 9,
    "start_time": "2022-01-10T14:22:06.796Z"
   },
   {
    "duration": 12,
    "start_time": "2022-01-10T14:22:06.806Z"
   },
   {
    "duration": 6,
    "start_time": "2022-01-10T14:22:06.819Z"
   },
   {
    "duration": 90,
    "start_time": "2022-01-10T14:22:06.826Z"
   },
   {
    "duration": 52,
    "start_time": "2022-01-10T14:22:06.918Z"
   },
   {
    "duration": 21,
    "start_time": "2022-01-10T14:22:06.974Z"
   },
   {
    "duration": 47,
    "start_time": "2022-01-10T14:22:06.997Z"
   },
   {
    "duration": 55,
    "start_time": "2022-01-10T14:22:07.046Z"
   },
   {
    "duration": 41,
    "start_time": "2022-01-10T14:22:07.103Z"
   },
   {
    "duration": 8,
    "start_time": "2022-01-10T14:22:07.146Z"
   },
   {
    "duration": 38,
    "start_time": "2022-01-10T14:22:07.156Z"
   },
   {
    "duration": 10,
    "start_time": "2022-01-10T14:22:07.196Z"
   },
   {
    "duration": 11,
    "start_time": "2022-01-10T14:22:07.208Z"
   },
   {
    "duration": 45,
    "start_time": "2022-01-10T14:22:07.221Z"
   },
   {
    "duration": 10,
    "start_time": "2022-01-10T14:22:07.268Z"
   },
   {
    "duration": 32,
    "start_time": "2022-01-10T14:22:07.280Z"
   },
   {
    "duration": 23,
    "start_time": "2022-01-10T14:22:12.158Z"
   },
   {
    "duration": 10,
    "start_time": "2022-01-10T14:22:12.184Z"
   },
   {
    "duration": 10,
    "start_time": "2022-01-10T14:22:13.473Z"
   },
   {
    "duration": 6,
    "start_time": "2022-01-10T14:24:25.557Z"
   },
   {
    "duration": 7295,
    "start_time": "2022-01-10T14:24:26.858Z"
   },
   {
    "duration": 12,
    "start_time": "2022-01-10T14:24:34.155Z"
   },
   {
    "duration": 10,
    "start_time": "2022-01-10T14:24:34.169Z"
   },
   {
    "duration": 3,
    "start_time": "2022-01-10T14:25:51.032Z"
   },
   {
    "duration": 399,
    "start_time": "2022-01-10T14:25:51.037Z"
   },
   {
    "duration": 6,
    "start_time": "2022-01-10T14:25:51.438Z"
   },
   {
    "duration": 23,
    "start_time": "2022-01-10T14:25:51.446Z"
   },
   {
    "duration": 10,
    "start_time": "2022-01-10T14:25:51.471Z"
   },
   {
    "duration": 15,
    "start_time": "2022-01-10T14:25:51.482Z"
   },
   {
    "duration": 8,
    "start_time": "2022-01-10T14:25:51.501Z"
   },
   {
    "duration": 12,
    "start_time": "2022-01-10T14:25:51.512Z"
   },
   {
    "duration": 9,
    "start_time": "2022-01-10T14:25:51.526Z"
   },
   {
    "duration": 25,
    "start_time": "2022-01-10T14:25:51.536Z"
   },
   {
    "duration": 5,
    "start_time": "2022-01-10T14:25:51.563Z"
   },
   {
    "duration": 13,
    "start_time": "2022-01-10T14:25:51.569Z"
   },
   {
    "duration": 27,
    "start_time": "2022-01-10T14:25:51.583Z"
   },
   {
    "duration": 8,
    "start_time": "2022-01-10T14:25:51.612Z"
   },
   {
    "duration": 18,
    "start_time": "2022-01-10T14:25:51.622Z"
   },
   {
    "duration": 20,
    "start_time": "2022-01-10T14:25:51.641Z"
   },
   {
    "duration": 61,
    "start_time": "2022-01-10T14:25:51.662Z"
   },
   {
    "duration": 51,
    "start_time": "2022-01-10T14:25:51.724Z"
   },
   {
    "duration": 17,
    "start_time": "2022-01-10T14:25:51.778Z"
   },
   {
    "duration": 9,
    "start_time": "2022-01-10T14:25:51.798Z"
   },
   {
    "duration": 57,
    "start_time": "2022-01-10T14:25:51.809Z"
   },
   {
    "duration": 38,
    "start_time": "2022-01-10T14:25:51.868Z"
   },
   {
    "duration": 9,
    "start_time": "2022-01-10T14:25:51.908Z"
   },
   {
    "duration": 23,
    "start_time": "2022-01-10T14:25:51.918Z"
   },
   {
    "duration": 11,
    "start_time": "2022-01-10T14:25:51.961Z"
   },
   {
    "duration": 11,
    "start_time": "2022-01-10T14:25:51.973Z"
   },
   {
    "duration": 42,
    "start_time": "2022-01-10T14:25:51.986Z"
   },
   {
    "duration": 9,
    "start_time": "2022-01-10T14:25:52.030Z"
   },
   {
    "duration": 28,
    "start_time": "2022-01-10T14:25:52.061Z"
   },
   {
    "duration": 14,
    "start_time": "2022-01-10T14:25:52.090Z"
   },
   {
    "duration": 8,
    "start_time": "2022-01-10T14:25:52.106Z"
   },
   {
    "duration": 10,
    "start_time": "2022-01-10T14:25:52.116Z"
   },
   {
    "duration": 37,
    "start_time": "2022-01-10T14:25:52.128Z"
   },
   {
    "duration": 7254,
    "start_time": "2022-01-10T14:25:52.167Z"
   },
   {
    "duration": 6,
    "start_time": "2022-01-10T14:25:59.423Z"
   },
   {
    "duration": 18,
    "start_time": "2022-01-10T14:25:59.430Z"
   },
   {
    "duration": 1406,
    "start_time": "2022-01-11T09:15:15.551Z"
   },
   {
    "duration": 690,
    "start_time": "2022-01-11T09:15:16.959Z"
   },
   {
    "duration": 10,
    "start_time": "2022-01-11T09:15:17.652Z"
   },
   {
    "duration": 20,
    "start_time": "2022-01-11T09:15:17.668Z"
   },
   {
    "duration": 15,
    "start_time": "2022-01-11T09:15:17.690Z"
   },
   {
    "duration": 8,
    "start_time": "2022-01-11T09:15:17.707Z"
   },
   {
    "duration": 7,
    "start_time": "2022-01-11T09:15:17.717Z"
   },
   {
    "duration": 46,
    "start_time": "2022-01-11T09:15:17.729Z"
   },
   {
    "duration": 11,
    "start_time": "2022-01-11T09:15:17.779Z"
   },
   {
    "duration": 14,
    "start_time": "2022-01-11T09:15:17.793Z"
   },
   {
    "duration": 9,
    "start_time": "2022-01-11T09:15:17.809Z"
   },
   {
    "duration": 49,
    "start_time": "2022-01-11T09:15:17.820Z"
   },
   {
    "duration": 28,
    "start_time": "2022-01-11T09:15:17.871Z"
   },
   {
    "duration": 12,
    "start_time": "2022-01-11T09:15:17.901Z"
   },
   {
    "duration": 15,
    "start_time": "2022-01-11T09:15:17.916Z"
   },
   {
    "duration": 38,
    "start_time": "2022-01-11T09:15:17.934Z"
   },
   {
    "duration": 76,
    "start_time": "2022-01-11T09:15:17.974Z"
   },
   {
    "duration": 52,
    "start_time": "2022-01-11T09:15:18.068Z"
   },
   {
    "duration": 20,
    "start_time": "2022-01-11T09:15:18.123Z"
   },
   {
    "duration": 11,
    "start_time": "2022-01-11T09:15:18.168Z"
   },
   {
    "duration": 47,
    "start_time": "2022-01-11T09:15:18.182Z"
   },
   {
    "duration": 76,
    "start_time": "2022-01-11T09:15:18.231Z"
   },
   {
    "duration": 11,
    "start_time": "2022-01-11T09:15:18.312Z"
   },
   {
    "duration": 45,
    "start_time": "2022-01-11T09:15:18.326Z"
   },
   {
    "duration": 13,
    "start_time": "2022-01-11T09:15:18.373Z"
   },
   {
    "duration": 11,
    "start_time": "2022-01-11T09:15:18.388Z"
   },
   {
    "duration": 87,
    "start_time": "2022-01-11T09:15:18.402Z"
   },
   {
    "duration": 17,
    "start_time": "2022-01-11T09:15:18.492Z"
   },
   {
    "duration": 79,
    "start_time": "2022-01-11T09:15:18.512Z"
   },
   {
    "duration": 21,
    "start_time": "2022-01-11T09:15:18.594Z"
   },
   {
    "duration": 11,
    "start_time": "2022-01-11T09:15:18.618Z"
   },
   {
    "duration": 46,
    "start_time": "2022-01-11T09:15:18.631Z"
   },
   {
    "duration": 8,
    "start_time": "2022-01-11T09:15:18.680Z"
   },
   {
    "duration": 11812,
    "start_time": "2022-01-11T09:15:18.690Z"
   },
   {
    "duration": 10,
    "start_time": "2022-01-11T09:15:30.504Z"
   },
   {
    "duration": 42,
    "start_time": "2022-01-11T09:15:30.516Z"
   },
   {
    "duration": 420,
    "start_time": "2022-01-11T09:15:30.561Z"
   },
   {
    "duration": 15,
    "start_time": "2022-01-11T09:16:05.923Z"
   },
   {
    "duration": 8,
    "start_time": "2022-01-11T09:22:32.856Z"
   },
   {
    "duration": 286,
    "start_time": "2022-01-11T09:22:55.601Z"
   },
   {
    "duration": 295,
    "start_time": "2022-01-11T09:23:37.537Z"
   },
   {
    "duration": 227,
    "start_time": "2022-01-11T09:23:59.811Z"
   },
   {
    "duration": 16,
    "start_time": "2022-01-11T09:27:38.861Z"
   },
   {
    "duration": 30,
    "start_time": "2022-01-11T09:28:05.357Z"
   },
   {
    "duration": 16,
    "start_time": "2022-01-11T09:28:54.093Z"
   },
   {
    "duration": 37,
    "start_time": "2022-01-11T09:47:36.030Z"
   },
   {
    "duration": 7,
    "start_time": "2022-01-11T09:48:54.296Z"
   },
   {
    "duration": 332,
    "start_time": "2022-01-11T09:49:17.409Z"
   },
   {
    "duration": 271,
    "start_time": "2022-01-11T09:49:23.119Z"
   },
   {
    "duration": 9,
    "start_time": "2022-01-11T09:49:46.010Z"
   },
   {
    "duration": 9,
    "start_time": "2022-01-11T09:50:20.521Z"
   },
   {
    "duration": 9,
    "start_time": "2022-01-11T09:51:53.184Z"
   },
   {
    "duration": 9,
    "start_time": "2022-01-11T09:52:48.978Z"
   },
   {
    "duration": 13,
    "start_time": "2022-01-11T09:53:16.586Z"
   },
   {
    "duration": 9,
    "start_time": "2022-01-11T09:54:11.748Z"
   },
   {
    "duration": 9,
    "start_time": "2022-01-11T09:54:59.013Z"
   },
   {
    "duration": 4,
    "start_time": "2022-01-11T09:59:56.130Z"
   },
   {
    "duration": 583,
    "start_time": "2022-01-11T09:59:56.137Z"
   },
   {
    "duration": 9,
    "start_time": "2022-01-11T09:59:56.723Z"
   },
   {
    "duration": 40,
    "start_time": "2022-01-11T09:59:56.735Z"
   },
   {
    "duration": 16,
    "start_time": "2022-01-11T09:59:56.783Z"
   },
   {
    "duration": 8,
    "start_time": "2022-01-11T09:59:56.801Z"
   },
   {
    "duration": 11,
    "start_time": "2022-01-11T09:59:56.811Z"
   },
   {
    "duration": 13,
    "start_time": "2022-01-11T09:59:56.826Z"
   },
   {
    "duration": 22,
    "start_time": "2022-01-11T09:59:56.881Z"
   },
   {
    "duration": 16,
    "start_time": "2022-01-11T09:59:56.906Z"
   },
   {
    "duration": 16,
    "start_time": "2022-01-11T09:59:56.925Z"
   },
   {
    "duration": 31,
    "start_time": "2022-01-11T09:59:56.945Z"
   },
   {
    "duration": 55,
    "start_time": "2022-01-11T09:59:56.979Z"
   },
   {
    "duration": 16,
    "start_time": "2022-01-11T09:59:57.037Z"
   },
   {
    "duration": 31,
    "start_time": "2022-01-11T09:59:57.056Z"
   },
   {
    "duration": 11,
    "start_time": "2022-01-11T09:59:57.090Z"
   },
   {
    "duration": 6,
    "start_time": "2022-01-11T09:59:57.103Z"
   },
   {
    "duration": 113,
    "start_time": "2022-01-11T09:59:57.111Z"
   },
   {
    "duration": 58,
    "start_time": "2022-01-11T09:59:57.226Z"
   },
   {
    "duration": 23,
    "start_time": "2022-01-11T09:59:57.287Z"
   },
   {
    "duration": 10,
    "start_time": "2022-01-11T09:59:57.313Z"
   },
   {
    "duration": 11,
    "start_time": "2022-01-11T09:59:57.326Z"
   },
   {
    "duration": 62,
    "start_time": "2022-01-11T09:59:57.368Z"
   },
   {
    "duration": 67,
    "start_time": "2022-01-11T09:59:57.433Z"
   },
   {
    "duration": 13,
    "start_time": "2022-01-11T09:59:57.503Z"
   },
   {
    "duration": 55,
    "start_time": "2022-01-11T09:59:57.518Z"
   },
   {
    "duration": 16,
    "start_time": "2022-01-11T09:59:57.575Z"
   },
   {
    "duration": 12,
    "start_time": "2022-01-11T09:59:57.593Z"
   },
   {
    "duration": 11,
    "start_time": "2022-01-11T09:59:57.607Z"
   },
   {
    "duration": 106,
    "start_time": "2022-01-11T09:59:57.621Z"
   },
   {
    "duration": 13,
    "start_time": "2022-01-11T09:59:57.730Z"
   },
   {
    "duration": 70,
    "start_time": "2022-01-11T09:59:57.745Z"
   },
   {
    "duration": 26,
    "start_time": "2022-01-11T10:00:00.432Z"
   },
   {
    "duration": 11,
    "start_time": "2022-01-11T10:00:03.040Z"
   },
   {
    "duration": 14,
    "start_time": "2022-01-11T10:00:55.283Z"
   },
   {
    "duration": 10,
    "start_time": "2022-01-11T10:01:04.817Z"
   },
   {
    "duration": 16,
    "start_time": "2022-01-11T10:01:33.444Z"
   },
   {
    "duration": 14,
    "start_time": "2022-01-11T10:01:43.108Z"
   },
   {
    "duration": 8,
    "start_time": "2022-01-11T10:03:47.085Z"
   },
   {
    "duration": 9,
    "start_time": "2022-01-11T10:03:55.517Z"
   },
   {
    "duration": 24,
    "start_time": "2022-01-11T10:08:16.226Z"
   },
   {
    "duration": 78,
    "start_time": "2022-01-11T10:09:03.346Z"
   },
   {
    "duration": 131,
    "start_time": "2022-01-11T10:09:43.467Z"
   },
   {
    "duration": 8,
    "start_time": "2022-01-11T10:10:02.948Z"
   },
   {
    "duration": 20,
    "start_time": "2022-01-11T10:11:33.470Z"
   },
   {
    "duration": 6,
    "start_time": "2022-01-11T10:11:42.933Z"
   },
   {
    "duration": 10,
    "start_time": "2022-01-11T10:12:05.164Z"
   },
   {
    "duration": 4,
    "start_time": "2022-01-11T10:12:14.608Z"
   },
   {
    "duration": 564,
    "start_time": "2022-01-11T10:12:14.614Z"
   },
   {
    "duration": 19,
    "start_time": "2022-01-11T10:12:15.182Z"
   },
   {
    "duration": 29,
    "start_time": "2022-01-11T10:12:15.204Z"
   },
   {
    "duration": 12,
    "start_time": "2022-01-11T10:12:15.236Z"
   },
   {
    "duration": 35,
    "start_time": "2022-01-11T10:12:15.251Z"
   },
   {
    "duration": 17,
    "start_time": "2022-01-11T10:12:15.289Z"
   },
   {
    "duration": 8,
    "start_time": "2022-01-11T10:12:15.311Z"
   },
   {
    "duration": 12,
    "start_time": "2022-01-11T10:12:15.322Z"
   },
   {
    "duration": 38,
    "start_time": "2022-01-11T10:12:15.337Z"
   },
   {
    "duration": 22,
    "start_time": "2022-01-11T10:12:15.378Z"
   },
   {
    "duration": 8,
    "start_time": "2022-01-11T10:12:15.403Z"
   },
   {
    "duration": 13,
    "start_time": "2022-01-11T10:12:15.413Z"
   },
   {
    "duration": 60,
    "start_time": "2022-01-11T10:12:15.428Z"
   },
   {
    "duration": 25,
    "start_time": "2022-01-11T10:12:15.491Z"
   },
   {
    "duration": 14,
    "start_time": "2022-01-11T10:12:15.519Z"
   },
   {
    "duration": 8,
    "start_time": "2022-01-11T10:12:15.536Z"
   },
   {
    "duration": 37,
    "start_time": "2022-01-11T10:12:15.546Z"
   },
   {
    "duration": 127,
    "start_time": "2022-01-11T10:12:15.586Z"
   },
   {
    "duration": 56,
    "start_time": "2022-01-11T10:12:15.715Z"
   },
   {
    "duration": 32,
    "start_time": "2022-01-11T10:12:15.774Z"
   },
   {
    "duration": 17,
    "start_time": "2022-01-11T10:12:15.808Z"
   },
   {
    "duration": 9,
    "start_time": "2022-01-11T10:12:15.829Z"
   },
   {
    "duration": 108,
    "start_time": "2022-01-11T10:12:15.841Z"
   },
   {
    "duration": 76,
    "start_time": "2022-01-11T10:12:15.951Z"
   },
   {
    "duration": 11,
    "start_time": "2022-01-11T10:12:16.029Z"
   },
   {
    "duration": 62,
    "start_time": "2022-01-11T10:12:16.043Z"
   },
   {
    "duration": 16,
    "start_time": "2022-01-11T10:12:16.107Z"
   },
   {
    "duration": 9,
    "start_time": "2022-01-11T10:12:16.126Z"
   },
   {
    "duration": 33,
    "start_time": "2022-01-11T10:12:16.138Z"
   },
   {
    "duration": 97,
    "start_time": "2022-01-11T10:12:16.173Z"
   },
   {
    "duration": 41,
    "start_time": "2022-01-11T10:12:16.273Z"
   },
   {
    "duration": 13,
    "start_time": "2022-01-11T10:12:16.317Z"
   },
   {
    "duration": 84,
    "start_time": "2022-01-11T10:12:16.333Z"
   },
   {
    "duration": 22,
    "start_time": "2022-01-11T10:12:16.420Z"
   },
   {
    "duration": 8,
    "start_time": "2022-01-11T10:12:19.500Z"
   },
   {
    "duration": 9,
    "start_time": "2022-01-11T10:12:45.116Z"
   },
   {
    "duration": 6993,
    "start_time": "2022-01-11T10:13:34.325Z"
   },
   {
    "duration": 916,
    "start_time": "2022-01-11T10:14:00.191Z"
   },
   {
    "duration": 13,
    "start_time": "2022-01-11T10:14:37.879Z"
   },
   {
    "duration": 5,
    "start_time": "2022-01-11T10:18:28.730Z"
   },
   {
    "duration": 562,
    "start_time": "2022-01-11T10:18:28.738Z"
   },
   {
    "duration": 10,
    "start_time": "2022-01-11T10:18:29.303Z"
   },
   {
    "duration": 16,
    "start_time": "2022-01-11T10:18:29.319Z"
   },
   {
    "duration": 40,
    "start_time": "2022-01-11T10:18:29.338Z"
   },
   {
    "duration": 8,
    "start_time": "2022-01-11T10:18:29.383Z"
   },
   {
    "duration": 7,
    "start_time": "2022-01-11T10:18:29.394Z"
   },
   {
    "duration": 12,
    "start_time": "2022-01-11T10:18:29.407Z"
   },
   {
    "duration": 50,
    "start_time": "2022-01-11T10:18:29.423Z"
   },
   {
    "duration": 15,
    "start_time": "2022-01-11T10:18:29.481Z"
   },
   {
    "duration": 19,
    "start_time": "2022-01-11T10:18:29.499Z"
   },
   {
    "duration": 20,
    "start_time": "2022-01-11T10:18:29.521Z"
   },
   {
    "duration": 30,
    "start_time": "2022-01-11T10:18:29.543Z"
   },
   {
    "duration": 44,
    "start_time": "2022-01-11T10:18:29.576Z"
   },
   {
    "duration": 13,
    "start_time": "2022-01-11T10:18:29.622Z"
   },
   {
    "duration": 44,
    "start_time": "2022-01-11T10:18:29.638Z"
   },
   {
    "duration": 14,
    "start_time": "2022-01-11T10:18:29.685Z"
   },
   {
    "duration": 11,
    "start_time": "2022-01-11T10:18:29.703Z"
   },
   {
    "duration": 133,
    "start_time": "2022-01-11T10:18:29.717Z"
   },
   {
    "duration": 48,
    "start_time": "2022-01-11T10:18:29.852Z"
   },
   {
    "duration": 22,
    "start_time": "2022-01-11T10:18:29.903Z"
   },
   {
    "duration": 12,
    "start_time": "2022-01-11T10:18:29.928Z"
   },
   {
    "duration": 49,
    "start_time": "2022-01-11T10:18:29.945Z"
   },
   {
    "duration": 72,
    "start_time": "2022-01-11T10:18:30.011Z"
   },
   {
    "duration": 58,
    "start_time": "2022-01-11T10:18:30.085Z"
   },
   {
    "duration": 11,
    "start_time": "2022-01-11T10:18:30.146Z"
   },
   {
    "duration": 50,
    "start_time": "2022-01-11T10:18:30.167Z"
   },
   {
    "duration": 15,
    "start_time": "2022-01-11T10:18:30.220Z"
   },
   {
    "duration": 42,
    "start_time": "2022-01-11T10:18:30.238Z"
   },
   {
    "duration": 20,
    "start_time": "2022-01-11T10:18:30.282Z"
   },
   {
    "duration": 68,
    "start_time": "2022-01-11T10:18:30.305Z"
   },
   {
    "duration": 40,
    "start_time": "2022-01-11T10:18:30.377Z"
   },
   {
    "duration": 13,
    "start_time": "2022-01-11T10:18:30.419Z"
   },
   {
    "duration": 75,
    "start_time": "2022-01-11T10:18:30.434Z"
   },
   {
    "duration": 25,
    "start_time": "2022-01-11T10:18:35.729Z"
   },
   {
    "duration": 11,
    "start_time": "2022-01-11T10:18:39.042Z"
   },
   {
    "duration": 7,
    "start_time": "2022-01-11T10:19:44.233Z"
   },
   {
    "duration": 14,
    "start_time": "2022-01-11T10:19:47.891Z"
   },
   {
    "duration": 9,
    "start_time": "2022-01-11T10:19:50.642Z"
   },
   {
    "duration": 9,
    "start_time": "2022-01-11T10:30:36.286Z"
   },
   {
    "duration": 8,
    "start_time": "2022-01-11T10:30:37.540Z"
   },
   {
    "duration": 409,
    "start_time": "2022-01-11T10:31:13.989Z"
   },
   {
    "duration": 5,
    "start_time": "2022-01-11T10:31:25.895Z"
   },
   {
    "duration": 548,
    "start_time": "2022-01-11T10:31:25.903Z"
   },
   {
    "duration": 11,
    "start_time": "2022-01-11T10:31:26.453Z"
   },
   {
    "duration": 29,
    "start_time": "2022-01-11T10:31:26.468Z"
   },
   {
    "duration": 10,
    "start_time": "2022-01-11T10:31:26.499Z"
   },
   {
    "duration": 12,
    "start_time": "2022-01-11T10:31:26.511Z"
   },
   {
    "duration": 6,
    "start_time": "2022-01-11T10:31:26.526Z"
   },
   {
    "duration": 49,
    "start_time": "2022-01-11T10:31:26.536Z"
   },
   {
    "duration": 11,
    "start_time": "2022-01-11T10:31:26.588Z"
   },
   {
    "duration": 9,
    "start_time": "2022-01-11T10:31:26.602Z"
   },
   {
    "duration": 24,
    "start_time": "2022-01-11T10:31:26.614Z"
   },
   {
    "duration": 27,
    "start_time": "2022-01-11T10:31:26.641Z"
   },
   {
    "duration": 18,
    "start_time": "2022-01-11T10:31:26.677Z"
   },
   {
    "duration": 28,
    "start_time": "2022-01-11T10:31:26.698Z"
   },
   {
    "duration": 45,
    "start_time": "2022-01-11T10:31:26.729Z"
   },
   {
    "duration": 16,
    "start_time": "2022-01-11T10:31:26.777Z"
   },
   {
    "duration": 6,
    "start_time": "2022-01-11T10:31:26.795Z"
   },
   {
    "duration": 93,
    "start_time": "2022-01-11T10:31:26.804Z"
   },
   {
    "duration": 46,
    "start_time": "2022-01-11T10:31:26.902Z"
   },
   {
    "duration": 39,
    "start_time": "2022-01-11T10:31:26.951Z"
   },
   {
    "duration": 13,
    "start_time": "2022-01-11T10:31:26.993Z"
   },
   {
    "duration": 81,
    "start_time": "2022-01-11T10:31:27.009Z"
   },
   {
    "duration": 45,
    "start_time": "2022-01-11T10:31:27.093Z"
   },
   {
    "duration": 11,
    "start_time": "2022-01-11T10:31:27.140Z"
   },
   {
    "duration": 31,
    "start_time": "2022-01-11T10:31:27.175Z"
   },
   {
    "duration": 12,
    "start_time": "2022-01-11T10:31:27.208Z"
   },
   {
    "duration": 10,
    "start_time": "2022-01-11T10:31:27.223Z"
   },
   {
    "duration": 91,
    "start_time": "2022-01-11T10:31:27.236Z"
   },
   {
    "duration": 65,
    "start_time": "2022-01-11T10:31:27.330Z"
   },
   {
    "duration": 23,
    "start_time": "2022-01-11T10:31:27.398Z"
   },
   {
    "duration": 9,
    "start_time": "2022-01-11T10:31:27.424Z"
   },
   {
    "duration": 13,
    "start_time": "2022-01-11T10:31:29.884Z"
   },
   {
    "duration": 19,
    "start_time": "2022-01-11T10:31:31.276Z"
   },
   {
    "duration": 5,
    "start_time": "2022-01-11T10:32:07.393Z"
   },
   {
    "duration": 550,
    "start_time": "2022-01-11T10:32:07.401Z"
   },
   {
    "duration": 15,
    "start_time": "2022-01-11T10:32:07.955Z"
   },
   {
    "duration": 28,
    "start_time": "2022-01-11T10:32:07.973Z"
   },
   {
    "duration": 13,
    "start_time": "2022-01-11T10:32:08.004Z"
   },
   {
    "duration": 11,
    "start_time": "2022-01-11T10:32:08.019Z"
   },
   {
    "duration": 39,
    "start_time": "2022-01-11T10:32:08.032Z"
   },
   {
    "duration": 12,
    "start_time": "2022-01-11T10:32:08.075Z"
   },
   {
    "duration": 12,
    "start_time": "2022-01-11T10:32:08.090Z"
   },
   {
    "duration": 13,
    "start_time": "2022-01-11T10:32:08.104Z"
   },
   {
    "duration": 55,
    "start_time": "2022-01-11T10:32:08.120Z"
   },
   {
    "duration": 8,
    "start_time": "2022-01-11T10:32:08.178Z"
   },
   {
    "duration": 13,
    "start_time": "2022-01-11T10:32:08.189Z"
   },
   {
    "duration": 27,
    "start_time": "2022-01-11T10:32:08.205Z"
   },
   {
    "duration": 52,
    "start_time": "2022-01-11T10:32:08.235Z"
   },
   {
    "duration": 14,
    "start_time": "2022-01-11T10:32:08.290Z"
   },
   {
    "duration": 5,
    "start_time": "2022-01-11T10:32:08.307Z"
   },
   {
    "duration": 106,
    "start_time": "2022-01-11T10:32:08.314Z"
   },
   {
    "duration": 66,
    "start_time": "2022-01-11T10:32:08.423Z"
   },
   {
    "duration": 21,
    "start_time": "2022-01-11T10:32:08.492Z"
   },
   {
    "duration": 10,
    "start_time": "2022-01-11T10:32:08.516Z"
   },
   {
    "duration": 86,
    "start_time": "2022-01-11T10:32:08.528Z"
   },
   {
    "duration": 63,
    "start_time": "2022-01-11T10:32:08.619Z"
   },
   {
    "duration": 15,
    "start_time": "2022-01-11T10:32:08.688Z"
   },
   {
    "duration": 25,
    "start_time": "2022-01-11T10:32:08.705Z"
   },
   {
    "duration": 13,
    "start_time": "2022-01-11T10:32:08.732Z"
   },
   {
    "duration": 12,
    "start_time": "2022-01-11T10:32:08.773Z"
   },
   {
    "duration": 64,
    "start_time": "2022-01-11T10:32:08.788Z"
   },
   {
    "duration": 45,
    "start_time": "2022-01-11T10:32:08.866Z"
   },
   {
    "duration": 23,
    "start_time": "2022-01-11T10:32:08.913Z"
   },
   {
    "duration": 34,
    "start_time": "2022-01-11T10:32:08.938Z"
   },
   {
    "duration": 31,
    "start_time": "2022-01-11T10:32:08.974Z"
   },
   {
    "duration": 12,
    "start_time": "2022-01-11T10:32:09.008Z"
   },
   {
    "duration": 13,
    "start_time": "2022-01-11T10:32:09.022Z"
   },
   {
    "duration": 7,
    "start_time": "2022-01-11T10:32:09.037Z"
   },
   {
    "duration": 13366,
    "start_time": "2022-01-11T10:32:09.046Z"
   },
   {
    "duration": 9,
    "start_time": "2022-01-11T10:32:22.414Z"
   },
   {
    "duration": 45,
    "start_time": "2022-01-11T10:32:22.425Z"
   },
   {
    "duration": 11,
    "start_time": "2022-01-11T10:32:29.012Z"
   },
   {
    "duration": 34,
    "start_time": "2022-01-11T10:32:36.382Z"
   },
   {
    "duration": 35,
    "start_time": "2022-01-11T10:49:44.719Z"
   },
   {
    "duration": 2188,
    "start_time": "2022-01-11T10:52:32.833Z"
   },
   {
    "duration": 30,
    "start_time": "2022-01-11T10:52:51.611Z"
   },
   {
    "duration": 9,
    "start_time": "2022-01-11T11:01:43.729Z"
   },
   {
    "duration": 11,
    "start_time": "2022-01-11T11:04:18.909Z"
   },
   {
    "duration": 20,
    "start_time": "2022-01-11T11:04:51.194Z"
   },
   {
    "duration": 1276,
    "start_time": "2022-01-11T11:12:08.008Z"
   },
   {
    "duration": 734,
    "start_time": "2022-01-11T11:12:23.410Z"
   },
   {
    "duration": 441,
    "start_time": "2022-01-11T11:13:33.182Z"
   },
   {
    "duration": 443,
    "start_time": "2022-01-11T11:14:32.006Z"
   },
   {
    "duration": 455,
    "start_time": "2022-01-11T11:14:43.327Z"
   },
   {
    "duration": 714,
    "start_time": "2022-01-11T11:15:00.823Z"
   },
   {
    "duration": 1004,
    "start_time": "2022-01-11T11:17:06.079Z"
   },
   {
    "duration": 618,
    "start_time": "2022-01-11T11:17:36.003Z"
   },
   {
    "duration": 564,
    "start_time": "2022-01-11T11:18:13.010Z"
   },
   {
    "duration": 650,
    "start_time": "2022-01-11T11:19:48.773Z"
   },
   {
    "duration": 476,
    "start_time": "2022-01-11T11:22:04.397Z"
   },
   {
    "duration": 473,
    "start_time": "2022-01-11T11:22:16.377Z"
   },
   {
    "duration": 608,
    "start_time": "2022-01-11T11:22:55.127Z"
   },
   {
    "duration": 930,
    "start_time": "2022-01-11T11:23:05.904Z"
   },
   {
    "duration": 594,
    "start_time": "2022-01-11T11:29:22.656Z"
   },
   {
    "duration": 577,
    "start_time": "2022-01-11T11:30:13.705Z"
   },
   {
    "duration": 580,
    "start_time": "2022-01-11T11:35:07.020Z"
   },
   {
    "duration": 581,
    "start_time": "2022-01-11T11:35:42.186Z"
   },
   {
    "duration": 748,
    "start_time": "2022-01-11T11:36:46.690Z"
   },
   {
    "duration": 564,
    "start_time": "2022-01-11T11:37:08.382Z"
   },
   {
    "duration": 29,
    "start_time": "2022-01-11T11:41:24.104Z"
   },
   {
    "duration": 33,
    "start_time": "2022-01-11T11:44:57.722Z"
   },
   {
    "duration": 14,
    "start_time": "2022-01-11T11:45:07.290Z"
   },
   {
    "duration": 844,
    "start_time": "2022-01-11T11:46:35.163Z"
   },
   {
    "duration": 551,
    "start_time": "2022-01-11T11:48:32.885Z"
   },
   {
    "duration": 587,
    "start_time": "2022-01-11T11:49:44.871Z"
   },
   {
    "duration": 601,
    "start_time": "2022-01-11T11:49:52.504Z"
   },
   {
    "duration": 438,
    "start_time": "2022-01-11T11:50:01.759Z"
   },
   {
    "duration": 1459,
    "start_time": "2022-01-12T10:18:42.863Z"
   },
   {
    "duration": 569,
    "start_time": "2022-01-12T10:18:44.325Z"
   },
   {
    "duration": 11,
    "start_time": "2022-01-12T10:18:44.898Z"
   },
   {
    "duration": 21,
    "start_time": "2022-01-12T10:18:44.912Z"
   },
   {
    "duration": 31,
    "start_time": "2022-01-12T10:18:44.935Z"
   },
   {
    "duration": 7,
    "start_time": "2022-01-12T10:18:44.969Z"
   },
   {
    "duration": 5,
    "start_time": "2022-01-12T10:18:44.978Z"
   },
   {
    "duration": 8,
    "start_time": "2022-01-12T10:18:44.986Z"
   },
   {
    "duration": 11,
    "start_time": "2022-01-12T10:18:44.997Z"
   },
   {
    "duration": 56,
    "start_time": "2022-01-12T10:18:45.010Z"
   },
   {
    "duration": 14,
    "start_time": "2022-01-12T10:18:45.068Z"
   },
   {
    "duration": 6,
    "start_time": "2022-01-12T10:18:45.084Z"
   },
   {
    "duration": 12,
    "start_time": "2022-01-12T10:18:45.092Z"
   },
   {
    "duration": 66,
    "start_time": "2022-01-12T10:18:45.106Z"
   },
   {
    "duration": 13,
    "start_time": "2022-01-12T10:18:45.175Z"
   },
   {
    "duration": 12,
    "start_time": "2022-01-12T10:18:45.190Z"
   },
   {
    "duration": 5,
    "start_time": "2022-01-12T10:18:45.205Z"
   },
   {
    "duration": 107,
    "start_time": "2022-01-12T10:18:45.212Z"
   },
   {
    "duration": 57,
    "start_time": "2022-01-12T10:18:45.322Z"
   },
   {
    "duration": 18,
    "start_time": "2022-01-12T10:18:45.382Z"
   },
   {
    "duration": 12,
    "start_time": "2022-01-12T10:18:45.402Z"
   },
   {
    "duration": 75,
    "start_time": "2022-01-12T10:18:45.416Z"
   },
   {
    "duration": 69,
    "start_time": "2022-01-12T10:18:45.496Z"
   },
   {
    "duration": 10,
    "start_time": "2022-01-12T10:18:45.568Z"
   },
   {
    "duration": 24,
    "start_time": "2022-01-12T10:18:45.580Z"
   },
   {
    "duration": 13,
    "start_time": "2022-01-12T10:18:45.607Z"
   },
   {
    "duration": 43,
    "start_time": "2022-01-12T10:18:45.623Z"
   },
   {
    "duration": 57,
    "start_time": "2022-01-12T10:18:45.669Z"
   },
   {
    "duration": 68,
    "start_time": "2022-01-12T10:18:45.729Z"
   },
   {
    "duration": 24,
    "start_time": "2022-01-12T10:18:45.800Z"
   },
   {
    "duration": 34,
    "start_time": "2022-01-12T10:18:45.827Z"
   },
   {
    "duration": 11,
    "start_time": "2022-01-12T10:18:45.865Z"
   },
   {
    "duration": 12,
    "start_time": "2022-01-12T10:18:45.879Z"
   },
   {
    "duration": 12,
    "start_time": "2022-01-12T10:18:45.893Z"
   },
   {
    "duration": 54,
    "start_time": "2022-01-12T10:18:45.907Z"
   },
   {
    "duration": 11940,
    "start_time": "2022-01-12T10:18:45.964Z"
   },
   {
    "duration": 11,
    "start_time": "2022-01-12T10:18:57.906Z"
   },
   {
    "duration": 20,
    "start_time": "2022-01-12T10:18:57.920Z"
   },
   {
    "duration": 11,
    "start_time": "2022-01-12T10:18:57.960Z"
   },
   {
    "duration": 27,
    "start_time": "2022-01-12T10:18:57.974Z"
   },
   {
    "duration": 9,
    "start_time": "2022-01-12T10:18:58.004Z"
   },
   {
    "duration": 533,
    "start_time": "2022-01-12T10:18:58.016Z"
   },
   {
    "duration": 478,
    "start_time": "2022-01-12T10:18:58.560Z"
   },
   {
    "duration": 475,
    "start_time": "2022-01-12T10:18:59.040Z"
   },
   {
    "duration": 43,
    "start_time": "2022-01-12T10:18:59.518Z"
   },
   {
    "duration": 8,
    "start_time": "2022-01-12T10:18:59.564Z"
   },
   {
    "duration": 522,
    "start_time": "2022-01-12T10:18:59.575Z"
   },
   {
    "duration": 524,
    "start_time": "2022-01-12T10:19:00.100Z"
   },
   {
    "duration": 404,
    "start_time": "2022-01-12T10:19:00.627Z"
   },
   {
    "duration": 10,
    "start_time": "2022-01-12T10:20:25.588Z"
   },
   {
    "duration": 11,
    "start_time": "2022-01-12T10:22:05.587Z"
   },
   {
    "duration": 7,
    "start_time": "2022-01-12T10:36:51.940Z"
   },
   {
    "duration": 8,
    "start_time": "2022-01-12T10:37:24.691Z"
   },
   {
    "duration": 7,
    "start_time": "2022-01-12T10:39:52.060Z"
   },
   {
    "duration": 8,
    "start_time": "2022-01-12T10:40:05.325Z"
   },
   {
    "duration": 30,
    "start_time": "2022-01-12T10:42:49.935Z"
   },
   {
    "duration": 9,
    "start_time": "2022-01-12T10:43:04.256Z"
   },
   {
    "duration": 33,
    "start_time": "2022-01-12T10:43:27.128Z"
   },
   {
    "duration": 11,
    "start_time": "2022-01-12T10:43:30.663Z"
   },
   {
    "duration": 560,
    "start_time": "2022-01-12T10:48:49.391Z"
   },
   {
    "duration": 433,
    "start_time": "2022-01-12T10:48:59.426Z"
   },
   {
    "duration": 389,
    "start_time": "2022-01-12T10:49:14.025Z"
   },
   {
    "duration": 399,
    "start_time": "2022-01-12T10:49:28.360Z"
   },
   {
    "duration": 358,
    "start_time": "2022-01-12T10:49:39.189Z"
   },
   {
    "duration": 501,
    "start_time": "2022-01-12T10:59:37.882Z"
   },
   {
    "duration": 353,
    "start_time": "2022-01-12T10:59:54.120Z"
   },
   {
    "duration": 371,
    "start_time": "2022-01-12T11:06:26.597Z"
   },
   {
    "duration": 388,
    "start_time": "2022-01-12T11:06:39.620Z"
   },
   {
    "duration": 392,
    "start_time": "2022-01-12T11:06:45.574Z"
   },
   {
    "duration": 489,
    "start_time": "2022-01-12T11:06:53.092Z"
   },
   {
    "duration": 472,
    "start_time": "2022-01-12T11:07:16.520Z"
   },
   {
    "duration": 561,
    "start_time": "2022-01-12T12:16:12.714Z"
   },
   {
    "duration": 7,
    "start_time": "2022-01-12T12:16:25.636Z"
   },
   {
    "duration": 9,
    "start_time": "2022-01-12T12:29:39.949Z"
   },
   {
    "duration": 1398,
    "start_time": "2022-01-12T13:00:41.835Z"
   },
   {
    "duration": 546,
    "start_time": "2022-01-12T13:00:43.235Z"
   },
   {
    "duration": 10,
    "start_time": "2022-01-12T13:00:43.784Z"
   },
   {
    "duration": 22,
    "start_time": "2022-01-12T13:00:43.797Z"
   },
   {
    "duration": 39,
    "start_time": "2022-01-12T13:00:43.822Z"
   },
   {
    "duration": 8,
    "start_time": "2022-01-12T13:00:43.863Z"
   },
   {
    "duration": 5,
    "start_time": "2022-01-12T13:00:43.874Z"
   },
   {
    "duration": 8,
    "start_time": "2022-01-12T13:00:43.883Z"
   },
   {
    "duration": 11,
    "start_time": "2022-01-12T13:00:43.894Z"
   },
   {
    "duration": 56,
    "start_time": "2022-01-12T13:00:43.907Z"
   },
   {
    "duration": 19,
    "start_time": "2022-01-12T13:00:43.966Z"
   },
   {
    "duration": 7,
    "start_time": "2022-01-12T13:00:43.988Z"
   },
   {
    "duration": 13,
    "start_time": "2022-01-12T13:00:43.997Z"
   },
   {
    "duration": 63,
    "start_time": "2022-01-12T13:00:44.012Z"
   },
   {
    "duration": 13,
    "start_time": "2022-01-12T13:00:44.077Z"
   },
   {
    "duration": 14,
    "start_time": "2022-01-12T13:00:44.093Z"
   },
   {
    "duration": 5,
    "start_time": "2022-01-12T13:00:44.109Z"
   },
   {
    "duration": 107,
    "start_time": "2022-01-12T13:00:44.116Z"
   },
   {
    "duration": 64,
    "start_time": "2022-01-12T13:00:44.226Z"
   },
   {
    "duration": 19,
    "start_time": "2022-01-12T13:00:44.292Z"
   },
   {
    "duration": 13,
    "start_time": "2022-01-12T13:00:44.314Z"
   },
   {
    "duration": 79,
    "start_time": "2022-01-12T13:00:44.329Z"
   },
   {
    "duration": 67,
    "start_time": "2022-01-12T13:00:44.416Z"
   },
   {
    "duration": 12,
    "start_time": "2022-01-12T13:00:44.487Z"
   },
   {
    "duration": 22,
    "start_time": "2022-01-12T13:00:44.501Z"
   },
   {
    "duration": 37,
    "start_time": "2022-01-12T13:00:44.526Z"
   },
   {
    "duration": 11,
    "start_time": "2022-01-12T13:00:44.566Z"
   },
   {
    "duration": 84,
    "start_time": "2022-01-12T13:00:44.580Z"
   },
   {
    "duration": 62,
    "start_time": "2022-01-12T13:00:44.667Z"
   },
   {
    "duration": 45,
    "start_time": "2022-01-12T13:00:44.732Z"
   },
   {
    "duration": 11,
    "start_time": "2022-01-12T13:00:44.779Z"
   },
   {
    "duration": 9,
    "start_time": "2022-01-12T13:00:44.792Z"
   },
   {
    "duration": 14,
    "start_time": "2022-01-12T13:00:44.803Z"
   },
   {
    "duration": 41,
    "start_time": "2022-01-12T13:00:44.820Z"
   },
   {
    "duration": 6,
    "start_time": "2022-01-12T13:00:44.864Z"
   },
   {
    "duration": 12256,
    "start_time": "2022-01-12T13:00:44.872Z"
   },
   {
    "duration": 10,
    "start_time": "2022-01-12T13:00:57.130Z"
   },
   {
    "duration": 36,
    "start_time": "2022-01-12T13:00:57.142Z"
   },
   {
    "duration": 15,
    "start_time": "2022-01-12T13:00:57.180Z"
   },
   {
    "duration": 33,
    "start_time": "2022-01-12T13:00:57.197Z"
   },
   {
    "duration": 33,
    "start_time": "2022-01-12T13:00:57.233Z"
   },
   {
    "duration": 539,
    "start_time": "2022-01-12T13:00:57.270Z"
   },
   {
    "duration": 519,
    "start_time": "2022-01-12T13:00:57.811Z"
   },
   {
    "duration": 508,
    "start_time": "2022-01-12T13:00:58.332Z"
   },
   {
    "duration": 384,
    "start_time": "2022-01-12T13:00:58.842Z"
   },
   {
    "duration": 50,
    "start_time": "2022-01-12T13:00:59.229Z"
   },
   {
    "duration": 9,
    "start_time": "2022-01-12T13:00:59.281Z"
   },
   {
    "duration": 585,
    "start_time": "2022-01-12T13:00:59.292Z"
   },
   {
    "duration": 557,
    "start_time": "2022-01-12T13:00:59.879Z"
   },
   {
    "duration": 426,
    "start_time": "2022-01-12T13:01:00.438Z"
   },
   {
    "duration": 511,
    "start_time": "2022-01-12T13:01:00.867Z"
   },
   {
    "duration": 10,
    "start_time": "2022-01-12T13:01:01.381Z"
   },
   {
    "duration": 18,
    "start_time": "2022-01-12T13:01:01.394Z"
   },
   {
    "duration": 17,
    "start_time": "2022-01-12T13:01:01.415Z"
   },
   {
    "duration": 1509,
    "start_time": "2022-01-14T03:37:51.044Z"
   },
   {
    "duration": 541,
    "start_time": "2022-01-14T03:37:52.555Z"
   },
   {
    "duration": 11,
    "start_time": "2022-01-14T03:37:53.099Z"
   },
   {
    "duration": 27,
    "start_time": "2022-01-14T03:37:53.113Z"
   },
   {
    "duration": 34,
    "start_time": "2022-01-14T03:37:53.143Z"
   },
   {
    "duration": 10,
    "start_time": "2022-01-14T03:37:53.180Z"
   },
   {
    "duration": 8,
    "start_time": "2022-01-14T03:37:53.194Z"
   },
   {
    "duration": 14,
    "start_time": "2022-01-14T03:37:53.205Z"
   },
   {
    "duration": 48,
    "start_time": "2022-01-14T03:37:53.224Z"
   },
   {
    "duration": 11,
    "start_time": "2022-01-14T03:37:53.275Z"
   },
   {
    "duration": 22,
    "start_time": "2022-01-14T03:37:53.289Z"
   },
   {
    "duration": 9,
    "start_time": "2022-01-14T03:37:53.313Z"
   },
   {
    "duration": 44,
    "start_time": "2022-01-14T03:37:53.324Z"
   },
   {
    "duration": 29,
    "start_time": "2022-01-14T03:37:53.371Z"
   },
   {
    "duration": 12,
    "start_time": "2022-01-14T03:37:53.402Z"
   },
   {
    "duration": 17,
    "start_time": "2022-01-14T03:37:53.416Z"
   },
   {
    "duration": 35,
    "start_time": "2022-01-14T03:37:53.435Z"
   },
   {
    "duration": 94,
    "start_time": "2022-01-14T03:37:53.473Z"
   },
   {
    "duration": 54,
    "start_time": "2022-01-14T03:37:53.570Z"
   },
   {
    "duration": 40,
    "start_time": "2022-01-14T03:37:53.627Z"
   },
   {
    "duration": 11,
    "start_time": "2022-01-14T03:37:53.670Z"
   },
   {
    "duration": 54,
    "start_time": "2022-01-14T03:37:53.683Z"
   },
   {
    "duration": 83,
    "start_time": "2022-01-14T03:37:53.740Z"
   },
   {
    "duration": 11,
    "start_time": "2022-01-14T03:37:53.825Z"
   },
   {
    "duration": 45,
    "start_time": "2022-01-14T03:37:53.838Z"
   },
   {
    "duration": 12,
    "start_time": "2022-01-14T03:37:53.886Z"
   },
   {
    "duration": 10,
    "start_time": "2022-01-14T03:37:53.904Z"
   },
   {
    "duration": 88,
    "start_time": "2022-01-14T03:37:53.917Z"
   },
   {
    "duration": 63,
    "start_time": "2022-01-14T03:37:54.008Z"
   },
   {
    "duration": 24,
    "start_time": "2022-01-14T03:37:54.073Z"
   },
   {
    "duration": 10,
    "start_time": "2022-01-14T03:37:54.099Z"
   },
   {
    "duration": 13,
    "start_time": "2022-01-14T03:37:54.111Z"
   },
   {
    "duration": 40,
    "start_time": "2022-01-14T03:37:54.127Z"
   },
   {
    "duration": 13,
    "start_time": "2022-01-14T03:37:54.169Z"
   },
   {
    "duration": 11,
    "start_time": "2022-01-14T03:37:54.185Z"
   },
   {
    "duration": 12005,
    "start_time": "2022-01-14T03:37:54.198Z"
   },
   {
    "duration": 9,
    "start_time": "2022-01-14T03:38:06.205Z"
   },
   {
    "duration": 16,
    "start_time": "2022-01-14T03:38:06.216Z"
   },
   {
    "duration": 37,
    "start_time": "2022-01-14T03:38:06.235Z"
   },
   {
    "duration": 34,
    "start_time": "2022-01-14T03:38:06.275Z"
   },
   {
    "duration": 8,
    "start_time": "2022-01-14T03:38:06.311Z"
   },
   {
    "duration": 534,
    "start_time": "2022-01-14T03:38:06.322Z"
   },
   {
    "duration": 520,
    "start_time": "2022-01-14T03:38:06.859Z"
   },
   {
    "duration": 511,
    "start_time": "2022-01-14T03:38:07.382Z"
   },
   {
    "duration": 380,
    "start_time": "2022-01-14T03:38:07.896Z"
   },
   {
    "duration": 35,
    "start_time": "2022-01-14T03:38:08.279Z"
   },
   {
    "duration": 11,
    "start_time": "2022-01-14T03:38:08.317Z"
   },
   {
    "duration": 527,
    "start_time": "2022-01-14T03:38:08.367Z"
   },
   {
    "duration": 546,
    "start_time": "2022-01-14T03:38:08.896Z"
   },
   {
    "duration": 408,
    "start_time": "2022-01-14T03:38:09.445Z"
   },
   {
    "duration": 485,
    "start_time": "2022-01-14T03:38:09.856Z"
   },
   {
    "duration": 10,
    "start_time": "2022-01-14T03:38:10.343Z"
   },
   {
    "duration": 16,
    "start_time": "2022-01-14T03:38:10.356Z"
   },
   {
    "duration": 8,
    "start_time": "2022-01-14T03:38:10.374Z"
   },
   {
    "duration": 500,
    "start_time": "2022-01-14T03:41:26.834Z"
   },
   {
    "duration": 4,
    "start_time": "2022-01-14T03:41:36.086Z"
   },
   {
    "duration": 532,
    "start_time": "2022-01-14T03:41:36.093Z"
   },
   {
    "duration": 10,
    "start_time": "2022-01-14T03:41:36.629Z"
   },
   {
    "duration": 37,
    "start_time": "2022-01-14T03:41:36.642Z"
   },
   {
    "duration": 12,
    "start_time": "2022-01-14T03:41:36.682Z"
   },
   {
    "duration": 11,
    "start_time": "2022-01-14T03:41:36.697Z"
   },
   {
    "duration": 5,
    "start_time": "2022-01-14T03:41:36.711Z"
   },
   {
    "duration": 56,
    "start_time": "2022-01-14T03:41:36.719Z"
   },
   {
    "duration": 17,
    "start_time": "2022-01-14T03:41:36.780Z"
   },
   {
    "duration": 10,
    "start_time": "2022-01-14T03:41:36.800Z"
   },
   {
    "duration": 14,
    "start_time": "2022-01-14T03:41:36.812Z"
   },
   {
    "duration": 43,
    "start_time": "2022-01-14T03:41:36.829Z"
   },
   {
    "duration": 16,
    "start_time": "2022-01-14T03:41:36.875Z"
   },
   {
    "duration": 30,
    "start_time": "2022-01-14T03:41:36.893Z"
   },
   {
    "duration": 42,
    "start_time": "2022-01-14T03:41:36.927Z"
   },
   {
    "duration": 19,
    "start_time": "2022-01-14T03:41:36.972Z"
   },
   {
    "duration": 7,
    "start_time": "2022-01-14T03:41:36.994Z"
   },
   {
    "duration": 103,
    "start_time": "2022-01-14T03:41:37.003Z"
   },
   {
    "duration": 69,
    "start_time": "2022-01-14T03:41:37.108Z"
   },
   {
    "duration": 20,
    "start_time": "2022-01-14T03:41:37.180Z"
   },
   {
    "duration": 11,
    "start_time": "2022-01-14T03:41:37.202Z"
   },
   {
    "duration": 77,
    "start_time": "2022-01-14T03:41:37.215Z"
   },
   {
    "duration": 47,
    "start_time": "2022-01-14T03:41:37.295Z"
   },
   {
    "duration": 28,
    "start_time": "2022-01-14T03:41:37.344Z"
   },
   {
    "duration": 30,
    "start_time": "2022-01-14T03:41:37.375Z"
   },
   {
    "duration": 13,
    "start_time": "2022-01-14T03:41:37.408Z"
   },
   {
    "duration": 41,
    "start_time": "2022-01-14T03:41:37.426Z"
   },
   {
    "duration": 56,
    "start_time": "2022-01-14T03:41:37.470Z"
   },
   {
    "duration": 59,
    "start_time": "2022-01-14T03:41:37.529Z"
   },
   {
    "duration": 23,
    "start_time": "2022-01-14T03:41:37.591Z"
   },
   {
    "duration": 11,
    "start_time": "2022-01-14T03:41:37.616Z"
   },
   {
    "duration": 38,
    "start_time": "2022-01-14T03:41:37.629Z"
   },
   {
    "duration": 12,
    "start_time": "2022-01-14T03:41:37.670Z"
   },
   {
    "duration": 13,
    "start_time": "2022-01-14T03:41:37.684Z"
   },
   {
    "duration": 371,
    "start_time": "2022-01-14T03:41:37.699Z"
   },
   {
    "duration": 12,
    "start_time": "2022-01-14T03:42:00.289Z"
   },
   {
    "duration": 6,
    "start_time": "2022-01-14T03:42:07.007Z"
   },
   {
    "duration": 13011,
    "start_time": "2022-01-14T03:42:08.607Z"
   },
   {
    "duration": 12,
    "start_time": "2022-01-14T03:42:21.621Z"
   },
   {
    "duration": 36,
    "start_time": "2022-01-14T03:42:21.637Z"
   },
   {
    "duration": 11,
    "start_time": "2022-01-14T03:42:21.676Z"
   },
   {
    "duration": 33,
    "start_time": "2022-01-14T03:42:21.689Z"
   },
   {
    "duration": 8,
    "start_time": "2022-01-14T03:42:21.725Z"
   },
   {
    "duration": 517,
    "start_time": "2022-01-14T03:42:21.767Z"
   },
   {
    "duration": 506,
    "start_time": "2022-01-14T03:42:22.289Z"
   },
   {
    "duration": 511,
    "start_time": "2022-01-14T03:42:22.799Z"
   },
   {
    "duration": 387,
    "start_time": "2022-01-14T03:42:23.313Z"
   },
   {
    "duration": 31,
    "start_time": "2022-01-14T03:42:23.702Z"
   },
   {
    "duration": 31,
    "start_time": "2022-01-14T03:42:23.735Z"
   },
   {
    "duration": 528,
    "start_time": "2022-01-14T03:42:23.769Z"
   },
   {
    "duration": 547,
    "start_time": "2022-01-14T03:42:24.299Z"
   },
   {
    "duration": 411,
    "start_time": "2022-01-14T03:42:24.848Z"
   },
   {
    "duration": 408,
    "start_time": "2022-01-14T03:42:25.262Z"
   },
   {
    "duration": 11,
    "start_time": "2022-01-14T03:42:25.672Z"
   },
   {
    "duration": 10,
    "start_time": "2022-01-14T03:42:25.685Z"
   },
   {
    "duration": 14,
    "start_time": "2022-01-14T03:42:25.697Z"
   },
   {
    "duration": 386,
    "start_time": "2022-01-14T03:42:30.709Z"
   },
   {
    "duration": 12,
    "start_time": "2022-01-14T03:42:58.491Z"
   },
   {
    "duration": 12,
    "start_time": "2022-01-14T03:43:10.413Z"
   },
   {
    "duration": 367,
    "start_time": "2022-01-14T03:43:27.030Z"
   },
   {
    "duration": 33,
    "start_time": "2022-01-14T03:44:55.518Z"
   },
   {
    "duration": 381,
    "start_time": "2022-01-14T03:47:05.633Z"
   },
   {
    "duration": 440,
    "start_time": "2022-01-14T03:47:09.471Z"
   },
   {
    "duration": 21,
    "start_time": "2022-01-14T03:47:15.912Z"
   },
   {
    "duration": 694,
    "start_time": "2022-01-14T03:47:25.385Z"
   },
   {
    "duration": 221,
    "start_time": "2022-01-14T10:15:07.633Z"
   },
   {
    "duration": 1075,
    "start_time": "2022-01-14T10:15:15.068Z"
   },
   {
    "duration": 386,
    "start_time": "2022-01-14T10:15:16.145Z"
   },
   {
    "duration": 7,
    "start_time": "2022-01-14T10:15:16.534Z"
   },
   {
    "duration": 16,
    "start_time": "2022-01-14T10:15:16.542Z"
   },
   {
    "duration": 10,
    "start_time": "2022-01-14T10:15:16.560Z"
   },
   {
    "duration": 5,
    "start_time": "2022-01-14T10:15:16.571Z"
   },
   {
    "duration": 23,
    "start_time": "2022-01-14T10:15:16.578Z"
   },
   {
    "duration": 8,
    "start_time": "2022-01-14T10:15:16.603Z"
   },
   {
    "duration": 11,
    "start_time": "2022-01-14T10:15:16.613Z"
   },
   {
    "duration": 10,
    "start_time": "2022-01-14T10:15:16.626Z"
   },
   {
    "duration": 16,
    "start_time": "2022-01-14T10:15:16.638Z"
   },
   {
    "duration": 7,
    "start_time": "2022-01-14T10:15:16.656Z"
   },
   {
    "duration": 10,
    "start_time": "2022-01-14T10:15:16.665Z"
   },
   {
    "duration": 30,
    "start_time": "2022-01-14T10:15:16.677Z"
   },
   {
    "duration": 8,
    "start_time": "2022-01-14T10:15:16.708Z"
   },
   {
    "duration": 16,
    "start_time": "2022-01-14T10:15:16.718Z"
   },
   {
    "duration": 7,
    "start_time": "2022-01-14T10:15:16.735Z"
   },
   {
    "duration": 5,
    "start_time": "2022-01-14T10:15:18.996Z"
   },
   {
    "duration": 8,
    "start_time": "2022-01-14T10:15:19.572Z"
   },
   {
    "duration": 1009,
    "start_time": "2022-01-14T11:08:27.134Z"
   },
   {
    "duration": 409,
    "start_time": "2022-01-14T11:08:28.145Z"
   },
   {
    "duration": 7,
    "start_time": "2022-01-14T11:08:28.556Z"
   },
   {
    "duration": 16,
    "start_time": "2022-01-14T11:08:28.565Z"
   },
   {
    "duration": 16,
    "start_time": "2022-01-14T11:08:28.582Z"
   },
   {
    "duration": 5,
    "start_time": "2022-01-14T11:08:28.600Z"
   },
   {
    "duration": 6,
    "start_time": "2022-01-14T11:08:28.607Z"
   },
   {
    "duration": 11,
    "start_time": "2022-01-14T11:08:28.614Z"
   },
   {
    "duration": 9,
    "start_time": "2022-01-14T11:08:28.627Z"
   },
   {
    "duration": 9,
    "start_time": "2022-01-14T11:08:28.638Z"
   },
   {
    "duration": 10,
    "start_time": "2022-01-14T11:08:28.649Z"
   },
   {
    "duration": 34,
    "start_time": "2022-01-14T11:08:28.661Z"
   },
   {
    "duration": 12,
    "start_time": "2022-01-14T11:08:28.696Z"
   },
   {
    "duration": 22,
    "start_time": "2022-01-14T11:08:28.710Z"
   },
   {
    "duration": 8,
    "start_time": "2022-01-14T11:08:28.734Z"
   },
   {
    "duration": 12,
    "start_time": "2022-01-14T11:08:28.743Z"
   },
   {
    "duration": 4,
    "start_time": "2022-01-14T11:08:28.756Z"
   },
   {
    "duration": 37,
    "start_time": "2022-01-14T11:08:28.762Z"
   },
   {
    "duration": 54,
    "start_time": "2022-01-14T11:08:28.801Z"
   },
   {
    "duration": 59,
    "start_time": "2022-01-14T11:08:28.857Z"
   },
   {
    "duration": 14,
    "start_time": "2022-01-14T11:08:28.918Z"
   },
   {
    "duration": 7,
    "start_time": "2022-01-14T11:08:28.933Z"
   },
   {
    "duration": 53,
    "start_time": "2022-01-14T11:08:28.942Z"
   },
   {
    "duration": 38,
    "start_time": "2022-01-14T11:08:28.997Z"
   },
   {
    "duration": 7,
    "start_time": "2022-01-14T11:08:29.036Z"
   },
   {
    "duration": 17,
    "start_time": "2022-01-14T11:08:29.045Z"
   },
   {
    "duration": 29,
    "start_time": "2022-01-14T11:08:29.066Z"
   },
   {
    "duration": 7,
    "start_time": "2022-01-14T11:08:29.097Z"
   },
   {
    "duration": 42,
    "start_time": "2022-01-14T11:08:29.106Z"
   },
   {
    "duration": 60,
    "start_time": "2022-01-14T11:08:29.149Z"
   },
   {
    "duration": 14,
    "start_time": "2022-01-14T11:08:29.210Z"
   },
   {
    "duration": 6,
    "start_time": "2022-01-14T11:08:29.226Z"
   },
   {
    "duration": 6,
    "start_time": "2022-01-14T11:08:29.234Z"
   },
   {
    "duration": 5,
    "start_time": "2022-01-14T11:08:29.241Z"
   },
   {
    "duration": 12,
    "start_time": "2022-01-14T11:08:29.248Z"
   },
   {
    "duration": 30,
    "start_time": "2022-01-14T11:08:29.262Z"
   },
   {
    "duration": 6953,
    "start_time": "2022-01-14T11:08:29.293Z"
   },
   {
    "duration": 6,
    "start_time": "2022-01-14T11:08:36.248Z"
   },
   {
    "duration": 13,
    "start_time": "2022-01-14T11:08:36.255Z"
   },
   {
    "duration": 25,
    "start_time": "2022-01-14T11:08:36.269Z"
   },
   {
    "duration": 23,
    "start_time": "2022-01-14T11:08:36.296Z"
   },
   {
    "duration": 19,
    "start_time": "2022-01-14T11:08:36.320Z"
   },
   {
    "duration": 5,
    "start_time": "2022-01-14T11:08:36.341Z"
   },
   {
    "duration": 347,
    "start_time": "2022-01-14T11:08:36.348Z"
   },
   {
    "duration": 317,
    "start_time": "2022-01-14T11:08:36.697Z"
   },
   {
    "duration": 321,
    "start_time": "2022-01-14T11:08:37.015Z"
   },
   {
    "duration": 250,
    "start_time": "2022-01-14T11:08:37.338Z"
   },
   {
    "duration": 20,
    "start_time": "2022-01-14T11:08:37.590Z"
   },
   {
    "duration": 27,
    "start_time": "2022-01-14T11:08:37.612Z"
   },
   {
    "duration": 351,
    "start_time": "2022-01-14T11:08:37.640Z"
   },
   {
    "duration": 344,
    "start_time": "2022-01-14T11:08:37.993Z"
   },
   {
    "duration": 261,
    "start_time": "2022-01-14T11:08:38.339Z"
   },
   {
    "duration": 313,
    "start_time": "2022-01-14T11:08:38.602Z"
   },
   {
    "duration": 379,
    "start_time": "2022-01-14T11:08:38.917Z"
   },
   {
    "duration": 8,
    "start_time": "2022-01-14T11:08:39.298Z"
   },
   {
    "duration": 27,
    "start_time": "2022-01-14T11:08:39.307Z"
   },
   {
    "duration": 31,
    "start_time": "2022-01-14T11:08:39.336Z"
   }
  ],
  "kernelspec": {
   "display_name": "Python 3 (ipykernel)",
   "language": "python",
   "name": "python3"
  },
  "language_info": {
   "codemirror_mode": {
    "name": "ipython",
    "version": 3
   },
   "file_extension": ".py",
   "mimetype": "text/x-python",
   "name": "python",
   "nbconvert_exporter": "python",
   "pygments_lexer": "ipython3",
   "version": "3.9.12"
  },
  "toc": {
   "base_numbering": 1,
   "nav_menu": {},
   "number_sections": true,
   "sideBar": true,
   "skip_h1_title": true,
   "title_cell": "Table of Contents",
   "title_sidebar": "Contents",
   "toc_cell": false,
   "toc_position": {
    "height": "calc(100% - 180px)",
    "left": "10px",
    "top": "150px",
    "width": "315.781px"
   },
   "toc_section_display": true,
   "toc_window_display": true
  }
 },
 "nbformat": 4,
 "nbformat_minor": 2
}
