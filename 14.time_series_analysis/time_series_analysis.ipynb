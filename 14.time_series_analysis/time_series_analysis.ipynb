{
 "cells": [
  {
   "cell_type": "markdown",
   "metadata": {
    "toc": true
   },
   "source": [
    "<h1>Содержание<span class=\"tocSkip\"></span></h1>\n",
    "<div class=\"toc\"><ul class=\"toc-item\"><li><span><a href=\"#Подготовка\" data-toc-modified-id=\"Подготовка-1\"><span class=\"toc-item-num\">1&nbsp;&nbsp;</span>Подготовка</a></span></li><li><span><a href=\"#Анализ\" data-toc-modified-id=\"Анализ-2\"><span class=\"toc-item-num\">2&nbsp;&nbsp;</span>Анализ</a></span></li><li><span><a href=\"#Обучение\" data-toc-modified-id=\"Обучение-3\"><span class=\"toc-item-num\">3&nbsp;&nbsp;</span>Обучение</a></span><ul class=\"toc-item\"><li><span><a href=\"#Функции\" data-toc-modified-id=\"Функции-3.1\"><span class=\"toc-item-num\">3.1&nbsp;&nbsp;</span>Функции</a></span></li><li><span><a href=\"#LinearRegression\" data-toc-modified-id=\"LinearRegression-3.2\"><span class=\"toc-item-num\">3.2&nbsp;&nbsp;</span>LinearRegression</a></span></li><li><span><a href=\"#DecisionTreeRegressor\" data-toc-modified-id=\"DecisionTreeRegressor-3.3\"><span class=\"toc-item-num\">3.3&nbsp;&nbsp;</span>DecisionTreeRegressor</a></span></li><li><span><a href=\"#CatBoostRegressor\" data-toc-modified-id=\"CatBoostRegressor-3.4\"><span class=\"toc-item-num\">3.4&nbsp;&nbsp;</span>CatBoostRegressor</a></span></li><li><span><a href=\"#Вывод\" data-toc-modified-id=\"Вывод-3.5\"><span class=\"toc-item-num\">3.5&nbsp;&nbsp;</span>Вывод</a></span></li></ul></li><li><span><a href=\"#Тестирование\" data-toc-modified-id=\"Тестирование-4\"><span class=\"toc-item-num\">4&nbsp;&nbsp;</span>Тестирование</a></span></li><li><span><a href=\"#Общие-выводы\" data-toc-modified-id=\"Общие-выводы-5\"><span class=\"toc-item-num\">5&nbsp;&nbsp;</span>Общие выводы</a></span></li></ul></div>"
   ]
  },
  {
   "cell_type": "markdown",
   "metadata": {},
   "source": [
    "#  Прогнозирование заказов такси"
   ]
  },
  {
   "cell_type": "markdown",
   "metadata": {},
   "source": [
    "Компания «Чётенькое такси» собрала исторические данные о заказах такси в аэропортах. Чтобы привлекать больше водителей в период пиковой нагрузки, нужно спрогнозировать количество заказов такси на следующий час. \n",
    "\n",
    "Значение метрики *RMSE* на тестовой выборке должно быть не больше 48.\n",
    "\n",
    "Задачи:\n",
    "\n",
    "1. Загрузить данные и выполнить их ресемплирование по одному часу.\n",
    "2. Проанализировать данные.\n",
    "3. Обучить разные модели с различными гиперпараметрами. Сделать тестовую выборку размером 10% от исходных данных.\n",
    "4. Проверить данные на тестовой выборке и сделать выводы.\n",
    "\n",
    "\n",
    "Данные лежат в файле `taxi.csv`. Количество заказов находится в столбце `num_orders`."
   ]
  },
  {
   "cell_type": "markdown",
   "metadata": {},
   "source": [
    "## Подготовка"
   ]
  },
  {
   "cell_type": "code",
   "execution_count": 1,
   "metadata": {},
   "outputs": [],
   "source": [
    "import pandas as pd\n",
    "import numpy as np\n",
    "import matplotlib.pyplot as plt\n",
    "import seaborn as sns\n",
    "from sklearn.model_selection import train_test_split\n",
    "from sklearn.metrics import precision_score, mean_squared_error\n",
    "from catboost import CatBoostRegressor\n",
    "from sklearn.linear_model import LinearRegression\n",
    "from sklearn.tree import DecisionTreeRegressor\n",
    "from sklearn.model_selection import TimeSeriesSplit\n",
    "from statsmodels.tsa.seasonal import seasonal_decompose"
   ]
  },
  {
   "cell_type": "code",
   "execution_count": 2,
   "metadata": {},
   "outputs": [],
   "source": [
    "df = pd.read_csv('/datasets/taxi.csv', index_col=[0], parse_dates=[0])"
   ]
  },
  {
   "cell_type": "markdown",
   "metadata": {},
   "source": [
    "Проведем ресемплирование по одному часу"
   ]
  },
  {
   "cell_type": "code",
   "execution_count": 3,
   "metadata": {},
   "outputs": [],
   "source": [
    "df.sort_index(inplace=True)\n",
    "df = df.resample('1H').sum()"
   ]
  },
  {
   "cell_type": "markdown",
   "metadata": {},
   "source": [
    "Оптимизируем типы данных"
   ]
  },
  {
   "cell_type": "code",
   "execution_count": 4,
   "metadata": {},
   "outputs": [],
   "source": [
    "df['num_orders'] = pd.to_numeric(df['num_orders'],\n",
    "                                 downcast='integer')"
   ]
  },
  {
   "cell_type": "code",
   "execution_count": 5,
   "metadata": {},
   "outputs": [
    {
     "name": "stdout",
     "output_type": "stream",
     "text": [
      "<class 'pandas.core.frame.DataFrame'>\n",
      "DatetimeIndex: 4416 entries, 2018-03-01 00:00:00 to 2018-08-31 23:00:00\n",
      "Freq: H\n",
      "Data columns (total 1 columns):\n",
      " #   Column      Non-Null Count  Dtype\n",
      "---  ------      --------------  -----\n",
      " 0   num_orders  4416 non-null   int16\n",
      "dtypes: int16(1)\n",
      "memory usage: 43.1 KB\n"
     ]
    }
   ],
   "source": [
    "df.info()"
   ]
  },
  {
   "cell_type": "code",
   "execution_count": 6,
   "metadata": {},
   "outputs": [
    {
     "data": {
      "text/html": [
       "<div>\n",
       "<style scoped>\n",
       "    .dataframe tbody tr th:only-of-type {\n",
       "        vertical-align: middle;\n",
       "    }\n",
       "\n",
       "    .dataframe tbody tr th {\n",
       "        vertical-align: top;\n",
       "    }\n",
       "\n",
       "    .dataframe thead th {\n",
       "        text-align: right;\n",
       "    }\n",
       "</style>\n",
       "<table border=\"1\" class=\"dataframe\">\n",
       "  <thead>\n",
       "    <tr style=\"text-align: right;\">\n",
       "      <th></th>\n",
       "      <th>num_orders</th>\n",
       "    </tr>\n",
       "    <tr>\n",
       "      <th>datetime</th>\n",
       "      <th></th>\n",
       "    </tr>\n",
       "  </thead>\n",
       "  <tbody>\n",
       "    <tr>\n",
       "      <th>2018-03-01 00:00:00</th>\n",
       "      <td>124</td>\n",
       "    </tr>\n",
       "    <tr>\n",
       "      <th>2018-03-01 01:00:00</th>\n",
       "      <td>85</td>\n",
       "    </tr>\n",
       "    <tr>\n",
       "      <th>2018-03-01 02:00:00</th>\n",
       "      <td>71</td>\n",
       "    </tr>\n",
       "    <tr>\n",
       "      <th>2018-03-01 03:00:00</th>\n",
       "      <td>66</td>\n",
       "    </tr>\n",
       "    <tr>\n",
       "      <th>2018-03-01 04:00:00</th>\n",
       "      <td>43</td>\n",
       "    </tr>\n",
       "  </tbody>\n",
       "</table>\n",
       "</div>"
      ],
      "text/plain": [
       "                     num_orders\n",
       "datetime                       \n",
       "2018-03-01 00:00:00         124\n",
       "2018-03-01 01:00:00          85\n",
       "2018-03-01 02:00:00          71\n",
       "2018-03-01 03:00:00          66\n",
       "2018-03-01 04:00:00          43"
      ]
     },
     "execution_count": 6,
     "metadata": {},
     "output_type": "execute_result"
    }
   ],
   "source": [
    "df.head()"
   ]
  },
  {
   "cell_type": "code",
   "execution_count": 7,
   "metadata": {},
   "outputs": [
    {
     "data": {
      "text/plain": [
       "num_orders    0.0\n",
       "dtype: float64"
      ]
     },
     "execution_count": 7,
     "metadata": {},
     "output_type": "execute_result"
    }
   ],
   "source": [
    "df.isna().mean()"
   ]
  },
  {
   "cell_type": "markdown",
   "metadata": {},
   "source": [
    "* Пропусков не обнаружено"
   ]
  },
  {
   "cell_type": "markdown",
   "metadata": {},
   "source": [
    "## Анализ"
   ]
  },
  {
   "cell_type": "markdown",
   "metadata": {},
   "source": [
    "Посмотрим статестические данные нашего датасета"
   ]
  },
  {
   "cell_type": "code",
   "execution_count": 8,
   "metadata": {},
   "outputs": [
    {
     "data": {
      "text/plain": [
       "count    4416.000000\n",
       "mean       84.422781\n",
       "std        45.023853\n",
       "min         0.000000\n",
       "25%        54.000000\n",
       "50%        78.000000\n",
       "75%       107.000000\n",
       "max       462.000000\n",
       "Name: num_orders, dtype: float64"
      ]
     },
     "execution_count": 8,
     "metadata": {},
     "output_type": "execute_result"
    }
   ],
   "source": [
    "df['num_orders'].describe()"
   ]
  },
  {
   "cell_type": "markdown",
   "metadata": {},
   "source": [
    "Построим график с нашими данными"
   ]
  },
  {
   "cell_type": "code",
   "execution_count": 9,
   "metadata": {
    "scrolled": false
   },
   "outputs": [
    {
     "data": {
      "image/png": "[encoded data removed]",
      "text/plain": [
       "<Figure size 1080x432 with 1 Axes>"
      ]
     },
     "metadata": {
      "needs_background": "light"
     },
     "output_type": "display_data"
    }
   ],
   "source": [
    "df.plot(figsize = (15, 6))\n",
    "plt.show()"
   ]
  },
  {
   "cell_type": "markdown",
   "metadata": {},
   "source": [
    "* Слишком много колебаний во временном ряду, чтобы их снизить, применим скользящее среднее"
   ]
  },
  {
   "cell_type": "markdown",
   "metadata": {},
   "source": [
    "Функция для построения графика скользящего среднего"
   ]
  },
  {
   "cell_type": "code",
   "execution_count": 10,
   "metadata": {},
   "outputs": [],
   "source": [
    "def plotMovingAverage(df, n):\n",
    "\n",
    "    rolling_mean = df.rolling(n).mean()\n",
    "\n",
    "    # Доверительные интервалы для сглаженных значений\n",
    "    #rolling_std =  df.rolling(window=n).std()\n",
    "    #upper_bond = rolling_mean+1.96*rolling_std\n",
    "    #lower_bond = rolling_mean-1.96*rolling_std\n",
    "\n",
    "    plt.figure(figsize=(15,5))\n",
    "    plt.title(f'Скользящая средняя, размер окна = {n}')\n",
    "    plt.plot(rolling_mean, \"g\", label=\"Rolling mean trend\")\n",
    "\n",
    "    #plt.plot(upper_bond, \"r--\", label=\"Upper Bond / Lower Bond\")\n",
    "    #lt.plot(lower_bond, \"r--\")\n",
    "    #plt.plot(df, label=\"Actual values\")\n",
    "    plt.legend(loc=\"upper left\")\n",
    "    plt.grid(True)"
   ]
  },
  {
   "cell_type": "markdown",
   "metadata": {},
   "source": [
    "Построим график скользящего среднего, с размером окна равным одной недели"
   ]
  },
  {
   "cell_type": "code",
   "execution_count": 11,
   "metadata": {
    "scrolled": true
   },
   "outputs": [
    {
     "data": {
      "image/png": "[encoded data removed]",
      "text/plain": [
       "<Figure size 1080x360 with 1 Axes>"
      ]
     },
     "metadata": {
      "needs_background": "light"
     },
     "output_type": "display_data"
    }
   ],
   "source": [
    "plotMovingAverage(df, 24*7)"
   ]
  },
  {
   "cell_type": "markdown",
   "metadata": {},
   "source": [
    "* По графику прослеживается планомерный рост кол-ва заказов такси, с резким ростом в августе"
   ]
  },
  {
   "cell_type": "markdown",
   "metadata": {},
   "source": [
    "Функция для построения графиков: тренд, сезонная составляющая и остаток декомпозиции"
   ]
  },
  {
   "cell_type": "code",
   "execution_count": 12,
   "metadata": {},
   "outputs": [],
   "source": [
    "def decomposed(df, chart='123'):\n",
    "    decomposed_data = seasonal_decompose(df)\n",
    "    # Тренд\n",
    "    if '1' in chart:\n",
    "        decomposed_data.trend.plot(figsize=(15,5))\n",
    "        plt.title('Тренд')\n",
    "        plt.show()\n",
    "    # Сезонная составляющая\n",
    "    if '2' in chart:\n",
    "        decomposed_data.seasonal.plot(figsize=(15,6))\n",
    "        plt.title('Сезонная составляющая')\n",
    "        plt.show()\n",
    "    # Остаток декомпозиции\n",
    "    if '3' in chart:\n",
    "        decomposed_data.resid.plot(figsize=(15,6))\n",
    "        plt.title('Остаток декомпозиции')\n",
    "        plt.show()"
   ]
  },
  {
   "cell_type": "markdown",
   "metadata": {},
   "source": [
    "Построим графики: тренд, сезонная составляющая и остаток декомпозиции"
   ]
  },
  {
   "cell_type": "code",
   "execution_count": 13,
   "metadata": {
    "scrolled": false
   },
   "outputs": [
    {
     "data": {
      "image/png": "[encoded data removed]",
      "text/plain": [
       "<Figure size 1080x360 with 1 Axes>"
      ]
     },
     "metadata": {
      "needs_background": "light"
     },
     "output_type": "display_data"
    },
    {
     "data": {
      "image/png": "[encoded data removed]",
      "text/plain": [
       "<Figure size 1080x432 with 1 Axes>"
      ]
     },
     "metadata": {
      "needs_background": "light"
     },
     "output_type": "display_data"
    },
    {
     "data": {
      "image/png": "[encoded data removed]",
      "text/plain": [
       "<Figure size 1080x432 with 1 Axes>"
      ]
     },
     "metadata": {
      "needs_background": "light"
     },
     "output_type": "display_data"
    }
   ],
   "source": [
    "decomposed(df)"
   ]
  },
  {
   "cell_type": "markdown",
   "metadata": {},
   "source": [
    "* Наблюдаем тренд планомерного роста кол-ва заказов;\n",
    "* Сезонную составляющую опредилить по данному датасету не удаётся."
   ]
  },
  {
   "cell_type": "markdown",
   "metadata": {},
   "source": [
    "Постороим график сезонной составляющей для первых двух дней датасета"
   ]
  },
  {
   "cell_type": "code",
   "execution_count": 14,
   "metadata": {
    "scrolled": false
   },
   "outputs": [
    {
     "data": {
      "image/png": "[encoded data removed]",
      "text/plain": [
       "<Figure size 1080x432 with 1 Axes>"
      ]
     },
     "metadata": {
      "needs_background": "light"
     },
     "output_type": "display_data"
    }
   ],
   "source": [
    "decomposed(df['2018-03-01':'2018-03-02'], '2')"
   ]
  },
  {
   "cell_type": "markdown",
   "metadata": {},
   "source": [
    "* Рано утром меньше всего заказов такси, а в полночь пиковое значение заказов."
   ]
  },
  {
   "cell_type": "markdown",
   "metadata": {},
   "source": [
    "*** Выводы***\n",
    "\n",
    "* Статистические данные:\n",
    "    * Среднее значение - 84;\n",
    "    * Медиана - 78;\n",
    "    * Стандартное отклонение - 45;\n",
    "    * Минимальное значение - 0;\n",
    "    * Максимальное значение - 462.\n",
    "* Прослеживается планомерный рост кол-ва заказов такси, с резким ростом в августе;\n",
    "* Рано утром меньше всего заказов такси, а в полночь пиковое значение заказов."
   ]
  },
  {
   "cell_type": "markdown",
   "metadata": {},
   "source": [
    "## Обучение"
   ]
  },
  {
   "cell_type": "markdown",
   "metadata": {},
   "source": [
    "### Функции"
   ]
  },
  {
   "cell_type": "markdown",
   "metadata": {},
   "source": [
    "Функция для подсчёта метрики RMSE"
   ]
  },
  {
   "cell_type": "code",
   "execution_count": 15,
   "metadata": {},
   "outputs": [],
   "source": [
    "def rmse(prediction, y):\n",
    "    return mean_squared_error(prediction, y, squared=False)"
   ]
  },
  {
   "cell_type": "markdown",
   "metadata": {},
   "source": [
    "Функция для добавления новых признаков"
   ]
  },
  {
   "cell_type": "code",
   "execution_count": 16,
   "metadata": {},
   "outputs": [],
   "source": [
    "def make_features(df, max_lag):\n",
    "    data = df.copy()\n",
    "    # Довление признаков с датой: месяц, день, день недели, выходные и час\n",
    "    data['month'] = data.index.month\n",
    "    data['day'] = data.index.day\n",
    "    data['weekday'] = data.index.dayofweek\n",
    "    data['is_weekend'] = data.weekday.isin([5,6])*1\n",
    "    data['hour'] = data.index.hour\n",
    "    \n",
    "    # добавляем лаги исходного ряда в качестве признаков\n",
    "    for lag in range(1, max_lag + 1):\n",
    "        data['lag_{}'.format(lag)] = data['num_orders'].shift(lag)\n",
    "\n",
    "    data = data.dropna()\n",
    "    \n",
    "    X= data.drop('num_orders', axis=1)\n",
    "    y = data['num_orders']\n",
    "    \n",
    "    # разбиваем весь датасет на тренировочную и тестовую выборку\n",
    "    X_train, X_test, y_train, y_test\\\n",
    "        = train_test_split(X, y, test_size=0.1,\n",
    "                           shuffle=False, random_state=12345)\n",
    "    return X_train, X_test, y_train, y_test"
   ]
  },
  {
   "cell_type": "markdown",
   "metadata": {},
   "source": [
    "Функция для кросс-валидация на временных рядах"
   ]
  },
  {
   "cell_type": "code",
   "execution_count": 17,
   "metadata": {},
   "outputs": [],
   "source": [
    "def timeseriesCVscore(model, X, y, splits):\n",
    "    # вектор ошибок\n",
    "    errors = []\n",
    "\n",
    "    # задаём число фолдов для кросс-валидации\n",
    "    tscv = TimeSeriesSplit(splits)\n",
    "    \n",
    "    step = 0\n",
    "\n",
    "    # идем по фолдам, на каждом обучаем модель, строим прогноз на отложенной выборке и считаем ошибку\n",
    "    for train, test in tscv.split(X):\n",
    "        \n",
    "        X_train = X.values[train]\n",
    "        X_test = X.values[test]\n",
    "                \n",
    "        y_train = y.values[train]\n",
    "        y_test = y.values[test]\n",
    "       \n",
    "        \n",
    "        model.fit(X_train, y_train)\n",
    "        prediction = model.predict(X_test)\n",
    "\n",
    "        error = rmse(prediction, y_test)\n",
    "        errors.append(error)\n",
    "        \n",
    "        print(f'{step} фолд, RMSE: {round(error, 2)}')\n",
    "        step += 1\n",
    "        \n",
    "    full_data_error = round(error, 2)\n",
    "    avg_rmse = round(np.mean(np.array(errors)), 2)\n",
    "    \n",
    "\n",
    "    print()\n",
    "    print(f'Средние значение метрики RMSE: {avg_rmse}')\n",
    "    print('------------------------------------------')\n",
    "    \n",
    "    return avg_rmse, full_data_error"
   ]
  },
  {
   "cell_type": "markdown",
   "metadata": {},
   "source": [
    "Создадим сводную таблицу, для добавления оценок работы моделей"
   ]
  },
  {
   "cell_type": "code",
   "execution_count": 18,
   "metadata": {},
   "outputs": [],
   "source": [
    "table_estimation = pd.DataFrame(columns=['Name model', 'Max_lag',\n",
    "                                         'AVG RMSE', 'Full data RMSE'])"
   ]
  },
  {
   "cell_type": "markdown",
   "metadata": {},
   "source": [
    "Функция для выводов оценок работы модели и записи из в сводную таблицу"
   ]
  },
  {
   "cell_type": "code",
   "execution_count": 19,
   "metadata": {},
   "outputs": [],
   "source": [
    "def result_model(name):\n",
    "    global table_estimation, best_max_lag, best_avg_error, best_full_data_error\n",
    "    \n",
    "    print('Лучшие результаты модели:')\n",
    "    #print()\n",
    "    print('Max_lag: ', best_max_lag)\n",
    "    print('AVG RMSE: ', best_avg_error)\n",
    "    print('Full data RMSE: ', best_full_data_error)\n",
    "    \n",
    "    table_estimation = table_estimation.append({'Name model':name,\n",
    "                         'Max_lag':best_max_lag, 'AVG RMSE':best_avg_error,\n",
    "                         'Full data RMSE':best_full_data_error}, ignore_index=True)"
   ]
  },
  {
   "cell_type": "markdown",
   "metadata": {},
   "source": [
    "### LinearRegression"
   ]
  },
  {
   "cell_type": "code",
   "execution_count": 20,
   "metadata": {},
   "outputs": [],
   "source": [
    "lr = LinearRegression()"
   ]
  },
  {
   "cell_type": "markdown",
   "metadata": {},
   "source": [
    "Поиск лучшего значения кол-ва лагов"
   ]
  },
  {
   "cell_type": "code",
   "execution_count": 21,
   "metadata": {
    "scrolled": true
   },
   "outputs": [
    {
     "name": "stdout",
     "output_type": "stream",
     "text": [
      "max_lag: 150\n",
      "\n",
      "0 фолд, RMSE: 21.47\n",
      "1 фолд, RMSE: 21.77\n",
      "2 фолд, RMSE: 21.87\n",
      "3 фолд, RMSE: 24.21\n",
      "4 фолд, RMSE: 29.9\n",
      "\n",
      "Средние значение метрики RMSE: 23.84\n",
      "------------------------------------------\n",
      "max_lag: 160\n",
      "\n",
      "0 фолд, RMSE: 21.84\n",
      "1 фолд, RMSE: 21.85\n",
      "2 фолд, RMSE: 22.15\n",
      "3 фолд, RMSE: 24.19\n",
      "4 фолд, RMSE: 29.77\n",
      "\n",
      "Средние значение метрики RMSE: 23.96\n",
      "------------------------------------------\n",
      "max_lag: 170\n",
      "\n",
      "0 фолд, RMSE: 20.35\n",
      "1 фолд, RMSE: 20.89\n",
      "2 фолд, RMSE: 21.52\n",
      "3 фолд, RMSE: 22.29\n",
      "4 фолд, RMSE: 28.16\n",
      "\n",
      "Средние значение метрики RMSE: 22.64\n",
      "------------------------------------------\n",
      "max_lag: 180\n",
      "\n",
      "0 фолд, RMSE: 20.87\n",
      "1 фолд, RMSE: 20.93\n",
      "2 фолд, RMSE: 21.57\n",
      "3 фолд, RMSE: 22.33\n",
      "4 фолд, RMSE: 28.15\n",
      "\n",
      "Средние значение метрики RMSE: 22.77\n",
      "------------------------------------------\n",
      "max_lag: 190\n",
      "\n",
      "0 фолд, RMSE: 21.34\n",
      "1 фолд, RMSE: 20.96\n",
      "2 фолд, RMSE: 21.55\n",
      "3 фолд, RMSE: 22.39\n",
      "4 фолд, RMSE: 28.16\n",
      "\n",
      "Средние значение метрики RMSE: 22.88\n",
      "------------------------------------------\n",
      "max_lag: 200\n",
      "\n",
      "0 фолд, RMSE: 21.95\n",
      "1 фолд, RMSE: 20.89\n",
      "2 фолд, RMSE: 21.4\n",
      "3 фолд, RMSE: 22.37\n",
      "4 фолд, RMSE: 28.06\n",
      "\n",
      "Средние значение метрики RMSE: 22.93\n",
      "------------------------------------------\n",
      "max_lag: 210\n",
      "\n",
      "0 фолд, RMSE: 22.72\n",
      "1 фолд, RMSE: 20.91\n",
      "2 фолд, RMSE: 21.57\n",
      "3 фолд, RMSE: 22.41\n",
      "4 фолд, RMSE: 28.03\n",
      "\n",
      "Средние значение метрики RMSE: 23.13\n",
      "------------------------------------------\n",
      "max_lag: 220\n",
      "\n",
      "0 фолд, RMSE: 24.23\n",
      "1 фолд, RMSE: 20.88\n",
      "2 фолд, RMSE: 21.65\n",
      "3 фолд, RMSE: 22.39\n",
      "4 фолд, RMSE: 28.15\n",
      "\n",
      "Средние значение метрики RMSE: 23.46\n",
      "------------------------------------------\n",
      "max_lag: 230\n",
      "\n",
      "0 фолд, RMSE: 24.91\n",
      "1 фолд, RMSE: 21.09\n",
      "2 фолд, RMSE: 21.71\n",
      "3 фолд, RMSE: 22.55\n",
      "4 фолд, RMSE: 28.27\n",
      "\n",
      "Средние значение метрики RMSE: 23.71\n",
      "------------------------------------------\n",
      "max_lag: 240\n",
      "\n",
      "0 фолд, RMSE: 24.69\n",
      "1 фолд, RMSE: 21.11\n",
      "2 фолд, RMSE: 22.13\n",
      "3 фолд, RMSE: 23.46\n",
      "4 фолд, RMSE: 27.7\n",
      "\n",
      "Средние значение метрики RMSE: 23.82\n",
      "------------------------------------------\n",
      "max_lag: 250\n",
      "\n",
      "0 фолд, RMSE: 26.23\n",
      "1 фолд, RMSE: 21.28\n",
      "2 фолд, RMSE: 22.31\n",
      "3 фолд, RMSE: 23.51\n",
      "4 фолд, RMSE: 27.76\n",
      "\n",
      "Средние значение метрики RMSE: 24.22\n",
      "------------------------------------------\n"
     ]
    }
   ],
   "source": [
    "best_avg_error = 100\n",
    "for max_lag in range(150, 251, 10):\n",
    "    print(f'max_lag: {max_lag}')\n",
    "    print('')\n",
    "    X_train, X_test, y_train, y_test = make_features(df, max_lag)\n",
    "    avg_error, full_data_error = timeseriesCVscore(lr, X_train, y_train, 5)\n",
    "    if avg_error < best_avg_error:\n",
    "        best_avg_error = avg_error\n",
    "        best_full_data_error = full_data_error\n",
    "        best_max_lag = max_lag"
   ]
  },
  {
   "cell_type": "markdown",
   "metadata": {},
   "source": [
    "Выведем результаты работы модели"
   ]
  },
  {
   "cell_type": "code",
   "execution_count": 22,
   "metadata": {},
   "outputs": [
    {
     "name": "stdout",
     "output_type": "stream",
     "text": [
      "Лучшие результаты модели:\n",
      "Max_lag:  170\n",
      "AVG RMSE:  22.64\n",
      "Full data RMSE:  28.16\n"
     ]
    }
   ],
   "source": [
    "result_model('LinearRegression')"
   ]
  },
  {
   "cell_type": "markdown",
   "metadata": {},
   "source": [
    "### DecisionTreeRegressor"
   ]
  },
  {
   "cell_type": "code",
   "execution_count": 23,
   "metadata": {},
   "outputs": [],
   "source": [
    "tree= DecisionTreeRegressor(random_state=12345)"
   ]
  },
  {
   "cell_type": "markdown",
   "metadata": {},
   "source": [
    "Поиск лучшего значения кол-ва лагов и максимального размера дерева"
   ]
  },
  {
   "cell_type": "code",
   "execution_count": 24,
   "metadata": {
    "scrolled": true
   },
   "outputs": [
    {
     "name": "stdout",
     "output_type": "stream",
     "text": [
      "max_lag: 100\n",
      "\n",
      "max_depth: 2\n",
      "\n",
      "0 фолд, RMSE: 26.69\n",
      "1 фолд, RMSE: 27.79\n",
      "2 фолд, RMSE: 28.74\n",
      "3 фолд, RMSE: 30.93\n",
      "4 фолд, RMSE: 41.08\n",
      "\n",
      "Средние значение метрики RMSE: 31.04\n",
      "------------------------------------------\n",
      "max_depth: 3\n",
      "\n",
      "0 фолд, RMSE: 26.47\n",
      "1 фолд, RMSE: 25.69\n",
      "2 фолд, RMSE: 27.81\n",
      "3 фолд, RMSE: 29.26\n",
      "4 фолд, RMSE: 40.06\n",
      "\n",
      "Средние значение метрики RMSE: 29.86\n",
      "------------------------------------------\n",
      "max_depth: 4\n",
      "\n",
      "0 фолд, RMSE: 26.99\n",
      "1 фолд, RMSE: 25.59\n",
      "2 фолд, RMSE: 27.16\n",
      "3 фолд, RMSE: 27.44\n",
      "4 фолд, RMSE: 37.45\n",
      "\n",
      "Средние значение метрики RMSE: 28.93\n",
      "------------------------------------------\n",
      "max_depth: 5\n",
      "\n",
      "0 фолд, RMSE: 26.77\n",
      "1 фолд, RMSE: 26.25\n",
      "2 фолд, RMSE: 27.42\n",
      "3 фолд, RMSE: 27.33\n",
      "4 фолд, RMSE: 35.65\n",
      "\n",
      "Средние значение метрики RMSE: 28.68\n",
      "------------------------------------------\n",
      "max_depth: 6\n",
      "\n",
      "0 фолд, RMSE: 28.32\n",
      "1 фолд, RMSE: 27.84\n",
      "2 фолд, RMSE: 29.5\n",
      "3 фолд, RMSE: 27.84\n",
      "4 фолд, RMSE: 34.53\n",
      "\n",
      "Средние значение метрики RMSE: 29.61\n",
      "------------------------------------------\n",
      "max_depth: 7\n",
      "\n",
      "0 фолд, RMSE: 28.78\n",
      "1 фолд, RMSE: 27.6\n",
      "2 фолд, RMSE: 34.83\n",
      "3 фолд, RMSE: 28.92\n",
      "4 фолд, RMSE: 35.58\n",
      "\n",
      "Средние значение метрики RMSE: 31.14\n",
      "------------------------------------------\n",
      "max_depth: 8\n",
      "\n",
      "0 фолд, RMSE: 29.78\n",
      "1 фолд, RMSE: 29.56\n",
      "2 фолд, RMSE: 34.81\n",
      "3 фолд, RMSE: 29.13\n",
      "4 фолд, RMSE: 37.05\n",
      "\n",
      "Средние значение метрики RMSE: 32.07\n",
      "------------------------------------------\n",
      "max_depth: 9\n",
      "\n",
      "0 фолд, RMSE: 29.87\n",
      "1 фолд, RMSE: 31.02\n",
      "2 фолд, RMSE: 35.37\n",
      "3 фолд, RMSE: 31.48\n",
      "4 фолд, RMSE: 38.09\n",
      "\n",
      "Средние значение метрики RMSE: 33.17\n",
      "------------------------------------------\n",
      "max_depth: 10\n",
      "\n",
      "0 фолд, RMSE: 31.11\n",
      "1 фолд, RMSE: 29.56\n",
      "2 фолд, RMSE: 35.68\n",
      "3 фолд, RMSE: 32.14\n",
      "4 фолд, RMSE: 38.54\n",
      "\n",
      "Средние значение метрики RMSE: 33.41\n",
      "------------------------------------------\n",
      "max_lag: 105\n",
      "\n",
      "max_depth: 2\n",
      "\n",
      "0 фолд, RMSE: 25.9\n",
      "1 фолд, RMSE: 27.81\n",
      "2 фолд, RMSE: 28.75\n",
      "3 фолд, RMSE: 30.95\n",
      "4 фолд, RMSE: 41.08\n",
      "\n",
      "Средние значение метрики RMSE: 30.9\n",
      "------------------------------------------\n",
      "max_depth: 3\n",
      "\n",
      "0 фолд, RMSE: 26.14\n",
      "1 фолд, RMSE: 25.77\n",
      "2 фолд, RMSE: 27.73\n",
      "3 фолд, RMSE: 29.26\n",
      "4 фолд, RMSE: 40.08\n",
      "\n",
      "Средние значение метрики RMSE: 29.8\n",
      "------------------------------------------\n",
      "max_depth: 4\n",
      "\n",
      "0 фолд, RMSE: 25.53\n",
      "1 фолд, RMSE: 25.61\n",
      "2 фолд, RMSE: 27.1\n",
      "3 фолд, RMSE: 27.5\n",
      "4 фолд, RMSE: 37.45\n",
      "\n",
      "Средние значение метрики RMSE: 28.64\n",
      "------------------------------------------\n",
      "max_depth: 5\n",
      "\n",
      "0 фолд, RMSE: 26.07\n",
      "1 фолд, RMSE: 26.31\n",
      "2 фолд, RMSE: 27.62\n",
      "3 фолд, RMSE: 27.48\n",
      "4 фолд, RMSE: 35.21\n",
      "\n",
      "Средние значение метрики RMSE: 28.54\n",
      "------------------------------------------\n",
      "max_depth: 6\n",
      "\n",
      "0 фолд, RMSE: 26.53\n",
      "1 фолд, RMSE: 26.49\n",
      "2 фолд, RMSE: 29.64\n",
      "3 фолд, RMSE: 30.03\n",
      "4 фолд, RMSE: 34.63\n",
      "\n",
      "Средние значение метрики RMSE: 29.46\n",
      "------------------------------------------\n",
      "max_depth: 7\n",
      "\n",
      "0 фолд, RMSE: 27.17\n",
      "1 фолд, RMSE: 27.78\n",
      "2 фолд, RMSE: 34.62\n",
      "3 фолд, RMSE: 29.54\n",
      "4 фолд, RMSE: 35.73\n",
      "\n",
      "Средние значение метрики RMSE: 30.97\n",
      "------------------------------------------\n",
      "max_depth: 8\n",
      "\n",
      "0 фолд, RMSE: 26.62\n",
      "1 фолд, RMSE: 28.45\n",
      "2 фолд, RMSE: 32.52\n",
      "3 фолд, RMSE: 28.99\n",
      "4 фолд, RMSE: 37.27\n",
      "\n",
      "Средние значение метрики RMSE: 30.77\n",
      "------------------------------------------\n",
      "max_depth: 9\n",
      "\n",
      "0 фолд, RMSE: 28.48\n",
      "1 фолд, RMSE: 30.15\n",
      "2 фолд, RMSE: 34.47\n",
      "3 фолд, RMSE: 33.24\n",
      "4 фолд, RMSE: 37.64\n",
      "\n",
      "Средние значение метрики RMSE: 32.79\n",
      "------------------------------------------\n",
      "max_depth: 10\n",
      "\n",
      "0 фолд, RMSE: 28.47\n",
      "1 фолд, RMSE: 31.29\n",
      "2 фолд, RMSE: 33.93\n",
      "3 фолд, RMSE: 32.68\n",
      "4 фолд, RMSE: 39.32\n",
      "\n",
      "Средние значение метрики RMSE: 33.14\n",
      "------------------------------------------\n",
      "max_lag: 110\n",
      "\n",
      "max_depth: 2\n",
      "\n",
      "0 фолд, RMSE: 26.01\n",
      "1 фолд, RMSE: 27.83\n",
      "2 фолд, RMSE: 28.68\n",
      "3 фолд, RMSE: 30.97\n",
      "4 фолд, RMSE: 41.05\n",
      "\n",
      "Средние значение метрики RMSE: 30.91\n",
      "------------------------------------------\n",
      "max_depth: 3\n",
      "\n",
      "0 фолд, RMSE: 25.82\n",
      "1 фолд, RMSE: 25.55\n",
      "2 фолд, RMSE: 27.65\n",
      "3 фолд, RMSE: 29.3\n",
      "4 фолд, RMSE: 40.03\n",
      "\n",
      "Средние значение метрики RMSE: 29.67\n",
      "------------------------------------------\n",
      "max_depth: 4\n",
      "\n",
      "0 фолд, RMSE: 24.51\n",
      "1 фолд, RMSE: 25.45\n",
      "2 фолд, RMSE: 27.0\n",
      "3 фолд, RMSE: 27.59\n",
      "4 фолд, RMSE: 37.38\n",
      "\n",
      "Средние значение метрики RMSE: 28.39\n",
      "------------------------------------------\n",
      "max_depth: 5\n",
      "\n",
      "0 фолд, RMSE: 24.93\n",
      "1 фолд, RMSE: 27.05\n",
      "2 фолд, RMSE: 27.57\n",
      "3 фолд, RMSE: 27.71\n",
      "4 фолд, RMSE: 35.08\n",
      "\n",
      "Средние значение метрики RMSE: 28.47\n",
      "------------------------------------------\n",
      "max_depth: 6\n",
      "\n",
      "0 фолд, RMSE: 24.95\n",
      "1 фолд, RMSE: 26.98\n",
      "2 фолд, RMSE: 29.28\n",
      "3 фолд, RMSE: 28.69\n",
      "4 фолд, RMSE: 34.64\n",
      "\n",
      "Средние значение метрики RMSE: 28.91\n",
      "------------------------------------------\n",
      "max_depth: 7\n",
      "\n",
      "0 фолд, RMSE: 25.38\n",
      "1 фолд, RMSE: 29.29\n",
      "2 фолд, RMSE: 32.89\n",
      "3 фолд, RMSE: 29.61\n",
      "4 фолд, RMSE: 35.59\n",
      "\n",
      "Средние значение метрики RMSE: 30.55\n",
      "------------------------------------------\n",
      "max_depth: 8\n",
      "\n",
      "0 фолд, RMSE: 27.07\n",
      "1 фолд, RMSE: 30.46\n",
      "2 фолд, RMSE: 34.65\n",
      "3 фолд, RMSE: 28.74\n",
      "4 фолд, RMSE: 36.88\n",
      "\n",
      "Средние значение метрики RMSE: 31.56\n",
      "------------------------------------------\n",
      "max_depth: 9\n",
      "\n",
      "0 фолд, RMSE: 27.82\n",
      "1 фолд, RMSE: 32.45\n",
      "2 фолд, RMSE: 33.99\n",
      "3 фолд, RMSE: 34.25\n",
      "4 фолд, RMSE: 37.44\n",
      "\n",
      "Средние значение метрики RMSE: 33.19\n",
      "------------------------------------------\n",
      "max_depth: 10\n",
      "\n",
      "0 фолд, RMSE: 28.28\n",
      "1 фолд, RMSE: 31.38\n",
      "2 фолд, RMSE: 33.58\n",
      "3 фолд, RMSE: 32.96\n",
      "4 фолд, RMSE: 38.63\n",
      "\n",
      "Средние значение метрики RMSE: 32.96\n",
      "------------------------------------------\n",
      "max_lag: 115\n",
      "\n",
      "max_depth: 2\n",
      "\n",
      "0 фолд, RMSE: 26.0\n",
      "1 фолд, RMSE: 27.83\n",
      "2 фолд, RMSE: 28.67\n",
      "3 фолд, RMSE: 30.97\n",
      "4 фолд, RMSE: 41.05\n",
      "\n",
      "Средние значение метрики RMSE: 30.9\n",
      "------------------------------------------\n",
      "max_depth: 3\n",
      "\n",
      "0 фолд, RMSE: 26.12\n",
      "1 фолд, RMSE: 25.54\n",
      "2 фолд, RMSE: 27.64\n",
      "3 фолд, RMSE: 29.3\n",
      "4 фолд, RMSE: 40.03\n",
      "\n",
      "Средние значение метрики RMSE: 29.73\n",
      "------------------------------------------\n",
      "max_depth: 4\n",
      "\n",
      "0 фолд, RMSE: 25.37\n",
      "1 фолд, RMSE: 25.68\n",
      "2 фолд, RMSE: 27.0\n",
      "3 фолд, RMSE: 27.59\n",
      "4 фолд, RMSE: 37.38\n",
      "\n",
      "Средние значение метрики RMSE: 28.6\n",
      "------------------------------------------\n",
      "max_depth: 5\n",
      "\n",
      "0 фолд, RMSE: 25.86\n",
      "1 фолд, RMSE: 26.5\n",
      "2 фолд, RMSE: 27.37\n",
      "3 фолд, RMSE: 27.63\n",
      "4 фолд, RMSE: 35.04\n",
      "\n",
      "Средние значение метрики RMSE: 28.48\n",
      "------------------------------------------\n",
      "max_depth: 6\n",
      "\n",
      "0 фолд, RMSE: 26.68\n",
      "1 фолд, RMSE: 31.07\n",
      "2 фолд, RMSE: 29.35\n",
      "3 фолд, RMSE: 28.5\n",
      "4 фолд, RMSE: 34.54\n",
      "\n",
      "Средние значение метрики RMSE: 30.03\n",
      "------------------------------------------\n",
      "max_depth: 7\n",
      "\n",
      "0 фолд, RMSE: 26.86\n",
      "1 фолд, RMSE: 28.94\n",
      "2 фолд, RMSE: 30.42\n",
      "3 фолд, RMSE: 29.42\n",
      "4 фолд, RMSE: 35.75\n",
      "\n",
      "Средние значение метрики RMSE: 30.28\n",
      "------------------------------------------\n",
      "max_depth: 8\n",
      "\n",
      "0 фолд, RMSE: 27.26\n",
      "1 фолд, RMSE: 31.36\n",
      "2 фолд, RMSE: 32.69\n",
      "3 фолд, RMSE: 30.48\n",
      "4 фолд, RMSE: 36.03\n",
      "\n",
      "Средние значение метрики RMSE: 31.56\n",
      "------------------------------------------\n",
      "max_depth: 9\n",
      "\n",
      "0 фолд, RMSE: 28.52\n",
      "1 фолд, RMSE: 28.65\n",
      "2 фолд, RMSE: 33.48\n",
      "3 фолд, RMSE: 31.89\n",
      "4 фолд, RMSE: 37.51\n",
      "\n",
      "Средние значение метрики RMSE: 32.01\n",
      "------------------------------------------\n",
      "max_depth: 10\n",
      "\n",
      "0 фолд, RMSE: 28.68\n",
      "1 фолд, RMSE: 29.56\n",
      "2 фолд, RMSE: 32.26\n",
      "3 фолд, RMSE: 33.78\n",
      "4 фолд, RMSE: 37.56\n",
      "\n",
      "Средние значение метрики RMSE: 32.37\n",
      "------------------------------------------\n",
      "max_lag: 120\n",
      "\n",
      "max_depth: 2\n",
      "\n",
      "0 фолд, RMSE: 26.02\n",
      "1 фолд, RMSE: 28.35\n",
      "2 фолд, RMSE: 27.81\n",
      "3 фолд, RMSE: 31.02\n",
      "4 фолд, RMSE: 40.81\n",
      "\n",
      "Средние значение метрики RMSE: 30.8\n",
      "------------------------------------------\n",
      "max_depth: 3\n",
      "\n",
      "0 фолд, RMSE: 25.89\n",
      "1 фолд, RMSE: 26.13\n",
      "2 фолд, RMSE: 26.59\n",
      "3 фолд, RMSE: 29.39\n",
      "4 фолд, RMSE: 39.63\n",
      "\n",
      "Средние значение метрики RMSE: 29.53\n",
      "------------------------------------------\n",
      "max_depth: 4\n",
      "\n",
      "0 фолд, RMSE: 24.81\n",
      "1 фолд, RMSE: 25.68\n",
      "2 фолд, RMSE: 25.91\n",
      "3 фолд, RMSE: 27.77\n",
      "4 фолд, RMSE: 36.74\n",
      "\n",
      "Средние значение метрики RMSE: 28.18\n",
      "------------------------------------------\n",
      "max_depth: 5\n",
      "\n",
      "0 фолд, RMSE: 24.94\n",
      "1 фолд, RMSE: 26.23\n",
      "2 фолд, RMSE: 25.72\n",
      "3 фолд, RMSE: 27.91\n",
      "4 фолд, RMSE: 35.2\n",
      "\n",
      "Средние значение метрики RMSE: 28.0\n",
      "------------------------------------------\n",
      "max_depth: 6\n",
      "\n",
      "0 фолд, RMSE: 26.08\n",
      "1 фолд, RMSE: 26.34\n",
      "2 фолд, RMSE: 26.77\n",
      "3 фолд, RMSE: 28.48\n",
      "4 фолд, RMSE: 35.13\n",
      "\n",
      "Средние значение метрики RMSE: 28.56\n",
      "------------------------------------------\n",
      "max_depth: 7\n",
      "\n",
      "0 фолд, RMSE: 26.12\n",
      "1 фолд, RMSE: 27.56\n",
      "2 фолд, RMSE: 27.51\n",
      "3 фолд, RMSE: 29.52\n",
      "4 фолд, RMSE: 36.23\n",
      "\n",
      "Средние значение метрики RMSE: 29.39\n",
      "------------------------------------------\n",
      "max_depth: 8\n",
      "\n",
      "0 фолд, RMSE: 27.15\n",
      "1 фолд, RMSE: 28.0\n",
      "2 фолд, RMSE: 29.95\n",
      "3 фолд, RMSE: 29.77\n",
      "4 фолд, RMSE: 38.53\n",
      "\n",
      "Средние значение метрики RMSE: 30.68\n",
      "------------------------------------------\n",
      "max_depth: 9\n",
      "\n",
      "0 фолд, RMSE: 28.23\n",
      "1 фолд, RMSE: 29.6\n",
      "2 фолд, RMSE: 31.75\n",
      "3 фолд, RMSE: 33.2\n",
      "4 фолд, RMSE: 38.61\n",
      "\n",
      "Средние значение метрики RMSE: 32.28\n",
      "------------------------------------------\n",
      "max_depth: 10\n",
      "\n",
      "0 фолд, RMSE: 28.73\n",
      "1 фолд, RMSE: 30.62\n",
      "2 фолд, RMSE: 32.56\n",
      "3 фолд, RMSE: 34.06\n",
      "4 фолд, RMSE: 39.21\n",
      "\n",
      "Средние значение метрики RMSE: 33.04\n",
      "------------------------------------------\n",
      "max_lag: 125\n",
      "\n",
      "max_depth: 2\n",
      "\n",
      "0 фолд, RMSE: 25.74\n",
      "1 фолд, RMSE: 28.3\n",
      "2 фолд, RMSE: 28.06\n",
      "3 фолд, RMSE: 31.09\n",
      "4 фолд, RMSE: 40.8\n",
      "\n",
      "Средние значение метрики RMSE: 30.8\n",
      "------------------------------------------\n",
      "max_depth: 3\n",
      "\n",
      "0 фолд, RMSE: 25.76\n",
      "1 фолд, RMSE: 27.56\n",
      "2 фолд, RMSE: 26.69\n",
      "3 фолд, RMSE: 29.46\n",
      "4 фолд, RMSE: 39.61\n",
      "\n",
      "Средние значение метрики RMSE: 29.81\n",
      "------------------------------------------\n",
      "max_depth: 4\n",
      "\n",
      "0 фолд, RMSE: 24.1\n",
      "1 фолд, RMSE: 25.94\n",
      "2 фолд, RMSE: 25.7\n",
      "3 фолд, RMSE: 27.78\n",
      "4 фолд, RMSE: 36.77\n",
      "\n",
      "Средние значение метрики RMSE: 28.06\n",
      "------------------------------------------\n",
      "max_depth: 5\n",
      "\n",
      "0 фолд, RMSE: 24.77\n",
      "1 фолд, RMSE: 25.07\n",
      "2 фолд, RMSE: 25.75\n",
      "3 фолд, RMSE: 26.68\n",
      "4 фолд, RMSE: 35.22\n",
      "\n",
      "Средние значение метрики RMSE: 27.5\n",
      "------------------------------------------\n",
      "max_depth: 6\n",
      "\n",
      "0 фолд, RMSE: 25.56\n",
      "1 фолд, RMSE: 26.29\n",
      "2 фолд, RMSE: 28.28\n",
      "3 фолд, RMSE: 28.18\n",
      "4 фолд, RMSE: 35.23\n",
      "\n",
      "Средние значение метрики RMSE: 28.71\n",
      "------------------------------------------\n",
      "max_depth: 7\n",
      "\n",
      "0 фолд, RMSE: 25.59\n",
      "1 фолд, RMSE: 27.36\n",
      "2 фолд, RMSE: 30.64\n",
      "3 фолд, RMSE: 29.62\n",
      "4 фолд, RMSE: 37.07\n",
      "\n",
      "Средние значение метрики RMSE: 30.06\n",
      "------------------------------------------\n",
      "max_depth: 8\n",
      "\n",
      "0 фолд, RMSE: 26.66\n",
      "1 фолд, RMSE: 30.21\n",
      "2 фолд, RMSE: 31.9\n",
      "3 фолд, RMSE: 30.72\n",
      "4 фолд, RMSE: 38.6\n",
      "\n",
      "Средние значение метрики RMSE: 31.62\n",
      "------------------------------------------\n",
      "max_depth: 9\n",
      "\n",
      "0 фолд, RMSE: 27.26\n",
      "1 фолд, RMSE: 30.19\n",
      "2 фолд, RMSE: 33.39\n",
      "3 фолд, RMSE: 31.94\n",
      "4 фолд, RMSE: 38.44\n",
      "\n",
      "Средние значение метрики RMSE: 32.24\n",
      "------------------------------------------\n",
      "max_depth: 10\n",
      "\n",
      "0 фолд, RMSE: 27.83\n",
      "1 фолд, RMSE: 29.62\n",
      "2 фолд, RMSE: 33.35\n",
      "3 фолд, RMSE: 34.64\n",
      "4 фолд, RMSE: 39.83\n",
      "\n",
      "Средние значение метрики RMSE: 33.05\n",
      "------------------------------------------\n",
      "max_lag: 130\n",
      "\n",
      "max_depth: 2\n",
      "\n",
      "0 фолд, RMSE: 26.44\n",
      "1 фолд, RMSE: 28.35\n",
      "2 фолд, RMSE: 27.74\n",
      "3 фолд, RMSE: 31.08\n",
      "4 фолд, RMSE: 40.88\n",
      "\n",
      "Средние значение метрики RMSE: 30.9\n",
      "------------------------------------------\n",
      "max_depth: 3\n",
      "\n",
      "0 фолд, RMSE: 26.3\n",
      "1 фолд, RMSE: 26.74\n",
      "2 фолд, RMSE: 26.54\n",
      "3 фолд, RMSE: 29.45\n",
      "4 фолд, RMSE: 39.68\n",
      "\n",
      "Средние значение метрики RMSE: 29.74\n",
      "------------------------------------------\n",
      "max_depth: 4\n",
      "\n",
      "0 фолд, RMSE: 26.47\n",
      "1 фолд, RMSE: 25.75\n",
      "2 фолд, RMSE: 25.58\n",
      "3 фолд, RMSE: 27.83\n",
      "4 фолд, RMSE: 36.71\n",
      "\n",
      "Средние значение метрики RMSE: 28.47\n",
      "------------------------------------------\n",
      "max_depth: 5\n",
      "\n",
      "0 фолд, RMSE: 27.67\n",
      "1 фолд, RMSE: 24.92\n",
      "2 фолд, RMSE: 25.98\n",
      "3 фолд, RMSE: 26.96\n",
      "4 фолд, RMSE: 35.14\n",
      "\n",
      "Средние значение метрики RMSE: 28.13\n",
      "------------------------------------------\n",
      "max_depth: 6\n",
      "\n",
      "0 фолд, RMSE: 28.32\n",
      "1 фолд, RMSE: 26.87\n",
      "2 фолд, RMSE: 26.12\n",
      "3 фолд, RMSE: 28.49\n",
      "4 фолд, RMSE: 34.87\n",
      "\n",
      "Средние значение метрики RMSE: 28.94\n",
      "------------------------------------------\n",
      "max_depth: 7\n",
      "\n",
      "0 фолд, RMSE: 29.0\n",
      "1 фолд, RMSE: 28.56\n",
      "2 фолд, RMSE: 28.1\n",
      "3 фолд, RMSE: 29.1\n",
      "4 фолд, RMSE: 36.47\n",
      "\n",
      "Средние значение метрики RMSE: 30.24\n",
      "------------------------------------------\n",
      "max_depth: 8\n",
      "\n",
      "0 фолд, RMSE: 29.88\n",
      "1 фолд, RMSE: 29.41\n",
      "2 фолд, RMSE: 28.57\n",
      "3 фолд, RMSE: 30.58\n",
      "4 фолд, RMSE: 37.67\n",
      "\n",
      "Средние значение метрики RMSE: 31.22\n",
      "------------------------------------------\n",
      "max_depth: 9\n",
      "\n",
      "0 фолд, RMSE: 31.16\n",
      "1 фолд, RMSE: 29.86\n",
      "2 фолд, RMSE: 30.09\n",
      "3 фолд, RMSE: 33.63\n",
      "4 фолд, RMSE: 38.62\n",
      "\n",
      "Средние значение метрики RMSE: 32.67\n",
      "------------------------------------------\n",
      "max_depth: 10\n",
      "\n",
      "0 фолд, RMSE: 30.85\n",
      "1 фолд, RMSE: 31.06\n",
      "2 фолд, RMSE: 31.37\n",
      "3 фолд, RMSE: 32.54\n",
      "4 фолд, RMSE: 39.2\n",
      "\n",
      "Средние значение метрики RMSE: 33.01\n",
      "------------------------------------------\n",
      "max_lag: 135\n",
      "\n",
      "max_depth: 2\n",
      "\n",
      "0 фолд, RMSE: 26.1\n",
      "1 фолд, RMSE: 28.34\n",
      "2 фолд, RMSE: 27.74\n",
      "3 фолд, RMSE: 31.08\n",
      "4 фолд, RMSE: 40.88\n",
      "\n",
      "Средние значение метрики RMSE: 30.83\n",
      "------------------------------------------\n",
      "max_depth: 3\n",
      "\n",
      "0 фолд, RMSE: 26.2\n",
      "1 фолд, RMSE: 26.73\n",
      "2 фолд, RMSE: 26.53\n",
      "3 фолд, RMSE: 29.45\n",
      "4 фолд, RMSE: 39.68\n",
      "\n",
      "Средние значение метрики RMSE: 29.72\n",
      "------------------------------------------\n",
      "max_depth: 4\n",
      "\n",
      "0 фолд, RMSE: 24.86\n",
      "1 фолд, RMSE: 25.75\n",
      "2 фолд, RMSE: 25.58\n",
      "3 фолд, RMSE: 27.85\n",
      "4 фолд, RMSE: 36.71\n",
      "\n",
      "Средние значение метрики RMSE: 28.15\n",
      "------------------------------------------\n",
      "max_depth: 5\n",
      "\n",
      "0 фолд, RMSE: 26.2\n",
      "1 фолд, RMSE: 24.87\n",
      "2 фолд, RMSE: 26.33\n",
      "3 фолд, RMSE: 27.25\n",
      "4 фолд, RMSE: 35.14\n",
      "\n",
      "Средние значение метрики RMSE: 27.96\n",
      "------------------------------------------\n",
      "max_depth: 6\n",
      "\n",
      "0 фолд, RMSE: 26.82\n",
      "1 фолд, RMSE: 25.99\n",
      "2 фолд, RMSE: 26.43\n",
      "3 фолд, RMSE: 28.64\n",
      "4 фолд, RMSE: 34.91\n",
      "\n",
      "Средние значение метрики RMSE: 28.56\n",
      "------------------------------------------\n",
      "max_depth: 7\n",
      "\n",
      "0 фолд, RMSE: 28.05\n",
      "1 фолд, RMSE: 28.39\n",
      "2 фолд, RMSE: 28.1\n",
      "3 фолд, RMSE: 29.81\n",
      "4 фолд, RMSE: 36.43\n",
      "\n",
      "Средние значение метрики RMSE: 30.16\n",
      "------------------------------------------\n",
      "max_depth: 8\n",
      "\n",
      "0 фолд, RMSE: 28.56\n",
      "1 фолд, RMSE: 28.41\n",
      "2 фолд, RMSE: 29.3\n",
      "3 фолд, RMSE: 32.5\n",
      "4 фолд, RMSE: 37.21\n",
      "\n",
      "Средние значение метрики RMSE: 31.2\n",
      "------------------------------------------\n",
      "max_depth: 9\n",
      "\n",
      "0 фолд, RMSE: 29.03\n",
      "1 фолд, RMSE: 30.47\n",
      "2 фолд, RMSE: 31.05\n",
      "3 фолд, RMSE: 32.28\n",
      "4 фолд, RMSE: 37.24\n",
      "\n",
      "Средние значение метрики RMSE: 32.01\n",
      "------------------------------------------\n",
      "max_depth: 10\n",
      "\n",
      "0 фолд, RMSE: 28.82\n",
      "1 фолд, RMSE: 29.8\n",
      "2 фолд, RMSE: 32.71\n",
      "3 фолд, RMSE: 34.11\n",
      "4 фолд, RMSE: 38.36\n",
      "\n",
      "Средние значение метрики RMSE: 32.76\n",
      "------------------------------------------\n",
      "max_lag: 140\n",
      "\n",
      "max_depth: 2\n",
      "\n",
      "0 фолд, RMSE: 26.17\n",
      "1 фолд, RMSE: 28.91\n",
      "2 фолд, RMSE: 27.14\n",
      "3 фолд, RMSE: 31.1\n",
      "4 фолд, RMSE: 41.02\n",
      "\n",
      "Средние значение метрики RMSE: 30.87\n",
      "------------------------------------------\n",
      "max_depth: 3\n",
      "\n",
      "0 фолд, RMSE: 26.2\n",
      "1 фолд, RMSE: 26.93\n",
      "2 фолд, RMSE: 26.39\n",
      "3 фолд, RMSE: 29.47\n",
      "4 фолд, RMSE: 39.84\n",
      "\n",
      "Средние значение метрики RMSE: 29.77\n",
      "------------------------------------------\n",
      "max_depth: 4\n",
      "\n",
      "0 фолд, RMSE: 25.86\n",
      "1 фолд, RMSE: 25.93\n",
      "2 фолд, RMSE: 25.44\n",
      "3 фолд, RMSE: 27.9\n",
      "4 фолд, RMSE: 36.77\n",
      "\n",
      "Средние значение метрики RMSE: 28.38\n",
      "------------------------------------------\n",
      "max_depth: 5\n",
      "\n",
      "0 фолд, RMSE: 25.28\n",
      "1 фолд, RMSE: 25.15\n",
      "2 фолд, RMSE: 26.4\n",
      "3 фолд, RMSE: 27.31\n",
      "4 фолд, RMSE: 35.12\n",
      "\n",
      "Средние значение метрики RMSE: 27.85\n",
      "------------------------------------------\n",
      "max_depth: 6\n",
      "\n",
      "0 фолд, RMSE: 26.28\n",
      "1 фолд, RMSE: 26.44\n",
      "2 фолд, RMSE: 27.2\n",
      "3 фолд, RMSE: 28.64\n",
      "4 фолд, RMSE: 34.98\n",
      "\n",
      "Средние значение метрики RMSE: 28.71\n",
      "------------------------------------------\n",
      "max_depth: 7\n",
      "\n",
      "0 фолд, RMSE: 26.98\n",
      "1 фолд, RMSE: 27.08\n",
      "2 фолд, RMSE: 29.1\n",
      "3 фолд, RMSE: 29.74\n",
      "4 фолд, RMSE: 36.76\n",
      "\n",
      "Средние значение метрики RMSE: 29.93\n",
      "------------------------------------------\n",
      "max_depth: 8\n",
      "\n",
      "0 фолд, RMSE: 27.12\n",
      "1 фолд, RMSE: 28.09\n",
      "2 фолд, RMSE: 31.35\n",
      "3 фолд, RMSE: 32.39\n",
      "4 фолд, RMSE: 37.26\n",
      "\n",
      "Средние значение метрики RMSE: 31.24\n",
      "------------------------------------------\n",
      "max_depth: 9\n",
      "\n",
      "0 фолд, RMSE: 28.04\n",
      "1 фолд, RMSE: 29.41\n",
      "2 фолд, RMSE: 33.14\n",
      "3 фолд, RMSE: 32.49\n",
      "4 фолд, RMSE: 38.2\n",
      "\n",
      "Средние значение метрики RMSE: 32.25\n",
      "------------------------------------------\n",
      "max_depth: 10\n",
      "\n",
      "0 фолд, RMSE: 27.73\n",
      "1 фолд, RMSE: 29.43\n",
      "2 фолд, RMSE: 31.75\n",
      "3 фолд, RMSE: 33.93\n",
      "4 фолд, RMSE: 38.48\n",
      "\n",
      "Средние значение метрики RMSE: 32.26\n",
      "------------------------------------------\n",
      "max_lag: 145\n",
      "\n",
      "max_depth: 2\n",
      "\n",
      "0 фолд, RMSE: 26.08\n",
      "1 фолд, RMSE: 29.35\n",
      "2 фолд, RMSE: 26.76\n",
      "3 фолд, RMSE: 31.11\n",
      "4 фолд, RMSE: 41.03\n",
      "\n",
      "Средние значение метрики RMSE: 30.87\n",
      "------------------------------------------\n",
      "max_depth: 3\n",
      "\n",
      "0 фолд, RMSE: 26.27\n",
      "1 фолд, RMSE: 26.68\n",
      "2 фолд, RMSE: 26.37\n",
      "3 фолд, RMSE: 29.46\n",
      "4 фолд, RMSE: 39.84\n",
      "\n",
      "Средние значение метрики RMSE: 29.73\n",
      "------------------------------------------\n",
      "max_depth: 4\n",
      "\n",
      "0 фолд, RMSE: 26.04\n",
      "1 фолд, RMSE: 26.77\n",
      "2 фолд, RMSE: 24.95\n",
      "3 фолд, RMSE: 27.85\n",
      "4 фолд, RMSE: 36.79\n",
      "\n",
      "Средние значение метрики RMSE: 28.48\n",
      "------------------------------------------\n",
      "max_depth: 5\n",
      "\n",
      "0 фолд, RMSE: 25.49\n",
      "1 фолд, RMSE: 27.63\n",
      "2 фолд, RMSE: 27.2\n",
      "3 фолд, RMSE: 27.05\n",
      "4 фолд, RMSE: 35.24\n",
      "\n",
      "Средние значение метрики RMSE: 28.52\n",
      "------------------------------------------\n",
      "max_depth: 6\n",
      "\n",
      "0 фолд, RMSE: 26.77\n",
      "1 фолд, RMSE: 27.51\n",
      "2 фолд, RMSE: 28.92\n",
      "3 фолд, RMSE: 28.66\n",
      "4 фолд, RMSE: 35.03\n",
      "\n",
      "Средние значение метрики RMSE: 29.38\n",
      "------------------------------------------\n",
      "max_depth: 7\n",
      "\n",
      "0 фолд, RMSE: 28.11\n",
      "1 фолд, RMSE: 28.93\n",
      "2 фолд, RMSE: 31.16\n",
      "3 фолд, RMSE: 29.55\n",
      "4 фолд, RMSE: 36.79\n",
      "\n",
      "Средние значение метрики RMSE: 30.91\n",
      "------------------------------------------\n",
      "max_depth: 8\n",
      "\n",
      "0 фолд, RMSE: 27.36\n",
      "1 фолд, RMSE: 27.97\n",
      "2 фолд, RMSE: 32.39\n",
      "3 фолд, RMSE: 30.76\n",
      "4 фолд, RMSE: 37.25\n",
      "\n",
      "Средние значение метрики RMSE: 31.15\n",
      "------------------------------------------\n",
      "max_depth: 9\n",
      "\n",
      "0 фолд, RMSE: 28.76\n",
      "1 фолд, RMSE: 31.06\n",
      "2 фолд, RMSE: 34.42\n",
      "3 фолд, RMSE: 32.51\n",
      "4 фолд, RMSE: 37.56\n",
      "\n",
      "Средние значение метрики RMSE: 32.86\n",
      "------------------------------------------\n",
      "max_depth: 10\n",
      "\n",
      "0 фолд, RMSE: 28.32\n",
      "1 фолд, RMSE: 29.64\n",
      "2 фолд, RMSE: 34.14\n",
      "3 фолд, RMSE: 32.75\n",
      "4 фолд, RMSE: 38.05\n",
      "\n",
      "Средние значение метрики RMSE: 32.58\n",
      "------------------------------------------\n",
      "max_lag: 150\n",
      "\n",
      "max_depth: 2\n",
      "\n",
      "0 фолд, RMSE: 26.32\n",
      "1 фолд, RMSE: 29.7\n",
      "2 фолд, RMSE: 26.78\n",
      "3 фолд, RMSE: 31.14\n",
      "4 фолд, RMSE: 41.08\n",
      "\n",
      "Средние значение метрики RMSE: 31.0\n",
      "------------------------------------------\n",
      "max_depth: 3\n",
      "\n",
      "0 фолд, RMSE: 26.95\n",
      "1 фолд, RMSE: 27.79\n",
      "2 фолд, RMSE: 26.39\n",
      "3 фолд, RMSE: 29.49\n",
      "4 фолд, RMSE: 39.92\n",
      "\n",
      "Средние значение метрики RMSE: 30.11\n",
      "------------------------------------------\n",
      "max_depth: 4\n",
      "\n",
      "0 фолд, RMSE: 26.97\n",
      "1 фолд, RMSE: 26.11\n",
      "2 фолд, RMSE: 24.93\n",
      "3 фолд, RMSE: 27.89\n",
      "4 фолд, RMSE: 36.93\n",
      "\n",
      "Средние значение метрики RMSE: 28.57\n",
      "------------------------------------------\n",
      "max_depth: 5\n",
      "\n",
      "0 фолд, RMSE: 27.79\n",
      "1 фолд, RMSE: 25.53\n",
      "2 фолд, RMSE: 26.82\n",
      "3 фолд, RMSE: 27.0\n",
      "4 фолд, RMSE: 35.3\n",
      "\n",
      "Средние значение метрики RMSE: 28.49\n",
      "------------------------------------------\n",
      "max_depth: 6\n",
      "\n",
      "0 фолд, RMSE: 27.99\n",
      "1 фолд, RMSE: 28.21\n",
      "2 фолд, RMSE: 28.52\n",
      "3 фолд, RMSE: 28.74\n",
      "4 фолд, RMSE: 34.88\n",
      "\n",
      "Средние значение метрики RMSE: 29.67\n",
      "------------------------------------------\n",
      "max_depth: 7\n",
      "\n",
      "0 фолд, RMSE: 29.32\n",
      "1 фолд, RMSE: 28.14\n",
      "2 фолд, RMSE: 30.24\n",
      "3 фолд, RMSE: 29.84\n",
      "4 фолд, RMSE: 36.77\n",
      "\n",
      "Средние значение метрики RMSE: 30.86\n",
      "------------------------------------------\n",
      "max_depth: 8\n",
      "\n",
      "0 фолд, RMSE: 29.76\n",
      "1 фолд, RMSE: 29.43\n",
      "2 фолд, RMSE: 32.95\n",
      "3 фолд, RMSE: 30.99\n",
      "4 фолд, RMSE: 38.34\n",
      "\n",
      "Средние значение метрики RMSE: 32.29\n",
      "------------------------------------------\n",
      "max_depth: 9\n",
      "\n",
      "0 фолд, RMSE: 30.03\n",
      "1 фолд, RMSE: 30.74\n",
      "2 фолд, RMSE: 34.33\n",
      "3 фолд, RMSE: 33.21\n",
      "4 фолд, RMSE: 39.72\n",
      "\n",
      "Средние значение метрики RMSE: 33.6\n",
      "------------------------------------------\n",
      "max_depth: 10\n",
      "\n",
      "0 фолд, RMSE: 29.64\n",
      "1 фолд, RMSE: 32.84\n",
      "2 фолд, RMSE: 35.97\n",
      "3 фолд, RMSE: 32.91\n",
      "4 фолд, RMSE: 40.39\n",
      "\n",
      "Средние значение метрики RMSE: 34.35\n",
      "------------------------------------------\n",
      "max_lag: 155\n",
      "\n",
      "max_depth: 2\n",
      "\n",
      "0 фолд, RMSE: 26.3\n",
      "1 фолд, RMSE: 29.69\n",
      "2 фолд, RMSE: 26.78\n",
      "3 фолд, RMSE: 31.14\n",
      "4 фолд, RMSE: 41.08\n",
      "\n",
      "Средние значение метрики RMSE: 31.0\n",
      "------------------------------------------\n",
      "max_depth: 3\n",
      "\n",
      "0 фолд, RMSE: 26.94\n",
      "1 фолд, RMSE: 27.79\n",
      "2 фолд, RMSE: 26.39\n",
      "3 фолд, RMSE: 29.52\n",
      "4 фолд, RMSE: 39.92\n",
      "\n",
      "Средние значение метрики RMSE: 30.11\n",
      "------------------------------------------\n",
      "max_depth: 4\n",
      "\n",
      "0 фолд, RMSE: 26.97\n",
      "1 фолд, RMSE: 26.11\n",
      "2 фолд, RMSE: 24.93\n",
      "3 фолд, RMSE: 27.9\n",
      "4 фолд, RMSE: 36.93\n",
      "\n",
      "Средние значение метрики RMSE: 28.57\n",
      "------------------------------------------\n",
      "max_depth: 5\n",
      "\n",
      "0 фолд, RMSE: 27.82\n",
      "1 фолд, RMSE: 25.61\n",
      "2 фолд, RMSE: 26.73\n",
      "3 фолд, RMSE: 27.04\n",
      "4 фолд, RMSE: 35.3\n",
      "\n",
      "Средние значение метрики RMSE: 28.5\n",
      "------------------------------------------\n",
      "max_depth: 6\n",
      "\n",
      "0 фолд, RMSE: 28.21\n",
      "1 фолд, RMSE: 28.34\n",
      "2 фолд, RMSE: 28.5\n",
      "3 фолд, RMSE: 28.38\n",
      "4 фолд, RMSE: 34.87\n",
      "\n",
      "Средние значение метрики RMSE: 29.66\n",
      "------------------------------------------\n",
      "max_depth: 7\n",
      "\n",
      "0 фолд, RMSE: 30.05\n",
      "1 фолд, RMSE: 29.83\n",
      "2 фолд, RMSE: 31.71\n",
      "3 фолд, RMSE: 29.69\n",
      "4 фолд, RMSE: 36.53\n",
      "\n",
      "Средние значение метрики RMSE: 31.56\n",
      "------------------------------------------\n",
      "max_depth: 8\n",
      "\n",
      "0 фолд, RMSE: 29.6\n",
      "1 фолд, RMSE: 31.45\n",
      "2 фолд, RMSE: 33.6\n",
      "3 фолд, RMSE: 29.53\n",
      "4 фолд, RMSE: 38.35\n",
      "\n",
      "Средние значение метрики RMSE: 32.5\n",
      "------------------------------------------\n",
      "max_depth: 9\n",
      "\n",
      "0 фолд, RMSE: 30.2\n",
      "1 фолд, RMSE: 33.27\n",
      "2 фолд, RMSE: 34.67\n",
      "3 фолд, RMSE: 31.73\n",
      "4 фолд, RMSE: 40.28\n",
      "\n",
      "Средние значение метрики RMSE: 34.03\n",
      "------------------------------------------\n",
      "max_depth: 10\n",
      "\n",
      "0 фолд, RMSE: 30.73\n",
      "1 фолд, RMSE: 32.68\n",
      "2 фолд, RMSE: 35.7\n",
      "3 фолд, RMSE: 32.8\n",
      "4 фолд, RMSE: 39.68\n",
      "\n",
      "Средние значение метрики RMSE: 34.32\n",
      "------------------------------------------\n",
      "max_lag: 160\n",
      "\n",
      "max_depth: 2\n",
      "\n",
      "0 фолд, RMSE: 26.16\n",
      "1 фолд, RMSE: 29.74\n",
      "2 фолд, RMSE: 27.04\n",
      "3 фолд, RMSE: 31.06\n",
      "4 фолд, RMSE: 41.07\n",
      "\n",
      "Средние значение метрики RMSE: 31.02\n",
      "------------------------------------------\n",
      "max_depth: 3\n",
      "\n",
      "0 фолд, RMSE: 26.55\n",
      "1 фолд, RMSE: 27.83\n",
      "2 фолд, RMSE: 26.7\n",
      "3 фолд, RMSE: 29.55\n",
      "4 фолд, RMSE: 39.89\n",
      "\n",
      "Средние значение метрики RMSE: 30.11\n",
      "------------------------------------------\n",
      "max_depth: 4\n",
      "\n",
      "0 фолд, RMSE: 27.16\n",
      "1 фолд, RMSE: 26.15\n",
      "2 фолд, RMSE: 25.3\n",
      "3 фолд, RMSE: 27.95\n",
      "4 фолд, RMSE: 36.88\n",
      "\n",
      "Средние значение метрики RMSE: 28.69\n",
      "------------------------------------------\n",
      "max_depth: 5\n",
      "\n",
      "0 фолд, RMSE: 27.21\n",
      "1 фолд, RMSE: 27.59\n",
      "2 фолд, RMSE: 27.03\n",
      "3 фолд, RMSE: 27.63\n",
      "4 фолд, RMSE: 35.24\n",
      "\n",
      "Средние значение метрики RMSE: 28.94\n",
      "------------------------------------------\n",
      "max_depth: 6\n",
      "\n",
      "0 фолд, RMSE: 27.63\n",
      "1 фолд, RMSE: 26.49\n",
      "2 фолд, RMSE: 28.66\n",
      "3 фолд, RMSE: 28.58\n",
      "4 фолд, RMSE: 34.86\n",
      "\n",
      "Средние значение метрики RMSE: 29.25\n",
      "------------------------------------------\n",
      "max_depth: 7\n",
      "\n",
      "0 фолд, RMSE: 28.15\n",
      "1 фолд, RMSE: 29.38\n",
      "2 фолд, RMSE: 32.3\n",
      "3 фолд, RMSE: 30.27\n",
      "4 фолд, RMSE: 36.28\n",
      "\n",
      "Средние значение метрики RMSE: 31.28\n",
      "------------------------------------------\n",
      "max_depth: 8\n",
      "\n",
      "0 фолд, RMSE: 27.62\n",
      "1 фолд, RMSE: 30.39\n",
      "2 фолд, RMSE: 32.11\n",
      "3 фолд, RMSE: 30.56\n",
      "4 фолд, RMSE: 37.45\n",
      "\n",
      "Средние значение метрики RMSE: 31.63\n",
      "------------------------------------------\n",
      "max_depth: 9\n",
      "\n",
      "0 фолд, RMSE: 28.83\n",
      "1 фолд, RMSE: 32.18\n",
      "2 фолд, RMSE: 33.68\n",
      "3 фолд, RMSE: 32.81\n",
      "4 фолд, RMSE: 39.07\n",
      "\n",
      "Средние значение метрики RMSE: 33.31\n",
      "------------------------------------------\n",
      "max_depth: 10\n",
      "\n",
      "0 фолд, RMSE: 29.84\n",
      "1 фолд, RMSE: 33.96\n",
      "2 фолд, RMSE: 35.11\n",
      "3 фолд, RMSE: 35.23\n",
      "4 фолд, RMSE: 40.3\n",
      "\n",
      "Средние значение метрики RMSE: 34.89\n",
      "------------------------------------------\n",
      "max_lag: 165\n",
      "\n",
      "max_depth: 2\n",
      "\n",
      "0 фолд, RMSE: 26.5\n",
      "1 фолд, RMSE: 29.39\n",
      "2 фолд, RMSE: 27.05\n",
      "3 фолд, RMSE: 31.15\n",
      "4 фолд, RMSE: 41.06\n",
      "\n",
      "Средние значение метрики RMSE: 31.03\n",
      "------------------------------------------\n",
      "max_depth: 3\n",
      "\n",
      "0 фолд, RMSE: 27.14\n",
      "1 фолд, RMSE: 27.57\n",
      "2 фолд, RMSE: 26.75\n",
      "3 фолд, RMSE: 29.66\n",
      "4 фолд, RMSE: 39.86\n",
      "\n",
      "Средние значение метрики RMSE: 30.2\n",
      "------------------------------------------\n",
      "max_depth: 4\n",
      "\n",
      "0 фолд, RMSE: 27.03\n",
      "1 фолд, RMSE: 25.79\n",
      "2 фолд, RMSE: 25.33\n",
      "3 фолд, RMSE: 28.02\n",
      "4 фолд, RMSE: 36.84\n",
      "\n",
      "Средние значение метрики RMSE: 28.6\n",
      "------------------------------------------\n",
      "max_depth: 5\n",
      "\n",
      "0 фолд, RMSE: 27.84\n",
      "1 фолд, RMSE: 25.67\n",
      "2 фолд, RMSE: 27.11\n",
      "3 фолд, RMSE: 27.54\n",
      "4 фолд, RMSE: 35.21\n",
      "\n",
      "Средние значение метрики RMSE: 28.67\n",
      "------------------------------------------\n",
      "max_depth: 6\n",
      "\n",
      "0 фолд, RMSE: 28.83\n",
      "1 фолд, RMSE: 25.89\n",
      "2 фолд, RMSE: 28.8\n",
      "3 фолд, RMSE: 28.53\n",
      "4 фолд, RMSE: 34.93\n",
      "\n",
      "Средние значение метрики RMSE: 29.39\n",
      "------------------------------------------\n",
      "max_depth: 7\n",
      "\n",
      "0 фолд, RMSE: 29.59\n",
      "1 фолд, RMSE: 28.91\n",
      "2 фолд, RMSE: 31.78\n",
      "3 фолд, RMSE: 30.2\n",
      "4 фолд, RMSE: 36.84\n",
      "\n",
      "Средние значение метрики RMSE: 31.46\n",
      "------------------------------------------\n",
      "max_depth: 8\n",
      "\n",
      "0 фолд, RMSE: 29.75\n",
      "1 фолд, RMSE: 29.34\n",
      "2 фолд, RMSE: 31.88\n",
      "3 фолд, RMSE: 30.7\n",
      "4 фолд, RMSE: 37.82\n",
      "\n",
      "Средние значение метрики RMSE: 31.9\n",
      "------------------------------------------\n",
      "max_depth: 9\n",
      "\n",
      "0 фолд, RMSE: 31.11\n",
      "1 фолд, RMSE: 30.51\n",
      "2 фолд, RMSE: 33.92\n",
      "3 фолд, RMSE: 34.25\n",
      "4 фолд, RMSE: 38.24\n",
      "\n",
      "Средние значение метрики RMSE: 33.61\n",
      "------------------------------------------\n",
      "max_depth: 10\n",
      "\n",
      "0 фолд, RMSE: 31.49\n",
      "1 фолд, RMSE: 31.32\n",
      "2 фолд, RMSE: 36.76\n",
      "3 фолд, RMSE: 32.79\n",
      "4 фолд, RMSE: 41.39\n",
      "\n",
      "Средние значение метрики RMSE: 34.75\n",
      "------------------------------------------\n",
      "max_lag: 170\n",
      "\n",
      "max_depth: 2\n",
      "\n",
      "0 фолд, RMSE: 26.23\n",
      "1 фолд, RMSE: 27.38\n",
      "2 фолд, RMSE: 25.33\n",
      "3 фолд, RMSE: 26.82\n",
      "4 фолд, RMSE: 37.7\n",
      "\n",
      "Средние значение метрики RMSE: 28.7\n",
      "------------------------------------------\n",
      "max_depth: 3\n",
      "\n",
      "0 фолд, RMSE: 23.8\n",
      "1 фолд, RMSE: 26.92\n",
      "2 фолд, RMSE: 25.09\n",
      "3 фолд, RMSE: 25.12\n",
      "4 фолд, RMSE: 36.77\n",
      "\n",
      "Средние значение метрики RMSE: 27.54\n",
      "------------------------------------------\n",
      "max_depth: 4\n",
      "\n",
      "0 фолд, RMSE: 24.62\n",
      "1 фолд, RMSE: 26.66\n",
      "2 фолд, RMSE: 24.69\n",
      "3 фолд, RMSE: 24.16\n",
      "4 фолд, RMSE: 35.02\n",
      "\n",
      "Средние значение метрики RMSE: 27.03\n",
      "------------------------------------------\n",
      "max_depth: 5\n",
      "\n",
      "0 фолд, RMSE: 25.73\n",
      "1 фолд, RMSE: 27.12\n",
      "2 фолд, RMSE: 28.69\n",
      "3 фолд, RMSE: 24.56\n",
      "4 фолд, RMSE: 33.99\n",
      "\n",
      "Средние значение метрики RMSE: 28.02\n",
      "------------------------------------------\n",
      "max_depth: 6\n",
      "\n",
      "0 фолд, RMSE: 27.17\n",
      "1 фолд, RMSE: 28.29\n",
      "2 фолд, RMSE: 31.07\n",
      "3 фолд, RMSE: 25.14\n",
      "4 фолд, RMSE: 33.5\n",
      "\n",
      "Средние значение метрики RMSE: 29.03\n",
      "------------------------------------------\n",
      "max_depth: 7\n",
      "\n",
      "0 фолд, RMSE: 27.44\n",
      "1 фолд, RMSE: 28.95\n",
      "2 фолд, RMSE: 32.87\n",
      "3 фолд, RMSE: 29.41\n",
      "4 фолд, RMSE: 34.94\n",
      "\n",
      "Средние значение метрики RMSE: 30.72\n",
      "------------------------------------------\n",
      "max_depth: 8\n",
      "\n",
      "0 фолд, RMSE: 28.69\n",
      "1 фолд, RMSE: 29.05\n",
      "2 фолд, RMSE: 33.07\n",
      "3 фолд, RMSE: 30.21\n",
      "4 фолд, RMSE: 36.66\n",
      "\n",
      "Средние значение метрики RMSE: 31.53\n",
      "------------------------------------------\n",
      "max_depth: 9\n",
      "\n",
      "0 фолд, RMSE: 28.55\n",
      "1 фолд, RMSE: 29.53\n",
      "2 фолд, RMSE: 33.99\n",
      "3 фолд, RMSE: 31.2\n",
      "4 фолд, RMSE: 37.68\n",
      "\n",
      "Средние значение метрики RMSE: 32.19\n",
      "------------------------------------------\n",
      "max_depth: 10\n",
      "\n",
      "0 фолд, RMSE: 28.85\n",
      "1 фолд, RMSE: 30.36\n",
      "2 фолд, RMSE: 33.85\n",
      "3 фолд, RMSE: 31.64\n",
      "4 фолд, RMSE: 38.27\n",
      "\n",
      "Средние значение метрики RMSE: 32.59\n",
      "------------------------------------------\n",
      "max_lag: 175\n",
      "\n",
      "max_depth: 2\n",
      "\n",
      "0 фолд, RMSE: 26.46\n",
      "1 фолд, RMSE: 27.38\n",
      "2 фолд, RMSE: 25.33\n",
      "3 фолд, RMSE: 26.82\n",
      "4 фолд, RMSE: 37.7\n",
      "\n",
      "Средние значение метрики RMSE: 28.74\n",
      "------------------------------------------\n",
      "max_depth: 3\n",
      "\n",
      "0 фолд, RMSE: 23.89\n",
      "1 фолд, RMSE: 26.91\n",
      "2 фолд, RMSE: 25.09\n",
      "3 фолд, RMSE: 25.12\n",
      "4 фолд, RMSE: 36.77\n",
      "\n",
      "Средние значение метрики RMSE: 27.56\n",
      "------------------------------------------\n",
      "max_depth: 4\n",
      "\n",
      "0 фолд, RMSE: 25.11\n",
      "1 фолд, RMSE: 26.65\n",
      "2 фолд, RMSE: 24.96\n",
      "3 фолд, RMSE: 24.16\n",
      "4 фолд, RMSE: 35.02\n",
      "\n",
      "Средние значение метрики RMSE: 27.18\n",
      "------------------------------------------\n",
      "max_depth: 5\n",
      "\n",
      "0 фолд, RMSE: 27.06\n",
      "1 фолд, RMSE: 27.17\n",
      "2 фолд, RMSE: 28.94\n",
      "3 фолд, RMSE: 24.43\n",
      "4 фолд, RMSE: 33.95\n",
      "\n",
      "Средние значение метрики RMSE: 28.31\n",
      "------------------------------------------\n",
      "max_depth: 6\n",
      "\n",
      "0 фолд, RMSE: 27.38\n",
      "1 фолд, RMSE: 27.19\n",
      "2 фолд, RMSE: 31.16\n",
      "3 фолд, RMSE: 25.47\n",
      "4 фолд, RMSE: 33.8\n",
      "\n",
      "Средние значение метрики RMSE: 29.0\n",
      "------------------------------------------\n",
      "max_depth: 7\n",
      "\n",
      "0 фолд, RMSE: 27.95\n",
      "1 фолд, RMSE: 28.29\n",
      "2 фолд, RMSE: 32.29\n",
      "3 фолд, RMSE: 29.13\n",
      "4 фолд, RMSE: 35.5\n",
      "\n",
      "Средние значение метрики RMSE: 30.63\n",
      "------------------------------------------\n",
      "max_depth: 8\n",
      "\n",
      "0 фолд, RMSE: 28.0\n",
      "1 фолд, RMSE: 30.84\n",
      "2 фолд, RMSE: 33.41\n",
      "3 фолд, RMSE: 32.28\n",
      "4 фолд, RMSE: 36.72\n",
      "\n",
      "Средние значение метрики RMSE: 32.25\n",
      "------------------------------------------\n",
      "max_depth: 9\n",
      "\n",
      "0 фолд, RMSE: 29.58\n",
      "1 фолд, RMSE: 28.65\n",
      "2 фолд, RMSE: 33.39\n",
      "3 фолд, RMSE: 32.43\n",
      "4 фолд, RMSE: 37.13\n",
      "\n",
      "Средние значение метрики RMSE: 32.23\n",
      "------------------------------------------\n",
      "max_depth: 10\n",
      "\n",
      "0 фолд, RMSE: 30.01\n",
      "1 фолд, RMSE: 30.82\n",
      "2 фолд, RMSE: 35.3\n",
      "3 фолд, RMSE: 33.34\n",
      "4 фолд, RMSE: 38.58\n",
      "\n",
      "Средние значение метрики RMSE: 33.61\n",
      "------------------------------------------\n",
      "max_lag: 180\n",
      "\n",
      "max_depth: 2\n",
      "\n",
      "0 фолд, RMSE: 26.4\n",
      "1 фолд, RMSE: 26.2\n",
      "2 фолд, RMSE: 25.39\n",
      "3 фолд, RMSE: 26.84\n",
      "4 фолд, RMSE: 37.7\n",
      "\n",
      "Средние значение метрики RMSE: 28.51\n",
      "------------------------------------------\n",
      "max_depth: 3\n",
      "\n",
      "0 фолд, RMSE: 23.96\n",
      "1 фолд, RMSE: 25.26\n",
      "2 фолд, RMSE: 25.18\n",
      "3 фолд, RMSE: 25.04\n",
      "4 фолд, RMSE: 36.68\n",
      "\n",
      "Средние значение метрики RMSE: 27.22\n",
      "------------------------------------------\n",
      "max_depth: 4\n",
      "\n",
      "0 фолд, RMSE: 25.65\n",
      "1 фолд, RMSE: 25.81\n",
      "2 фолд, RMSE: 25.06\n",
      "3 фолд, RMSE: 23.93\n",
      "4 фолд, RMSE: 34.93\n",
      "\n",
      "Средние значение метрики RMSE: 27.07\n",
      "------------------------------------------\n",
      "max_depth: 5\n",
      "\n",
      "0 фолд, RMSE: 25.59\n",
      "1 фолд, RMSE: 25.5\n",
      "2 фолд, RMSE: 29.18\n",
      "3 фолд, RMSE: 24.45\n",
      "4 фолд, RMSE: 33.9\n",
      "\n",
      "Средние значение метрики RMSE: 27.72\n",
      "------------------------------------------\n",
      "max_depth: 6\n",
      "\n",
      "0 фолд, RMSE: 25.01\n",
      "1 фолд, RMSE: 28.08\n",
      "2 фолд, RMSE: 31.26\n",
      "3 фолд, RMSE: 25.63\n",
      "4 фолд, RMSE: 33.73\n",
      "\n",
      "Средние значение метрики RMSE: 28.74\n",
      "------------------------------------------\n",
      "max_depth: 7\n",
      "\n",
      "0 фолд, RMSE: 26.53\n",
      "1 фолд, RMSE: 27.93\n",
      "2 фолд, RMSE: 32.13\n",
      "3 фолд, RMSE: 27.82\n",
      "4 фолд, RMSE: 35.02\n",
      "\n",
      "Средние значение метрики RMSE: 29.89\n",
      "------------------------------------------\n",
      "max_depth: 8\n",
      "\n",
      "0 фолд, RMSE: 27.03\n",
      "1 фолд, RMSE: 29.38\n",
      "2 фолд, RMSE: 32.63\n",
      "3 фолд, RMSE: 30.86\n",
      "4 фолд, RMSE: 36.34\n",
      "\n",
      "Средние значение метрики RMSE: 31.25\n",
      "------------------------------------------\n",
      "max_depth: 9\n",
      "\n",
      "0 фолд, RMSE: 27.7\n",
      "1 фолд, RMSE: 30.91\n",
      "2 фолд, RMSE: 33.68\n",
      "3 фолд, RMSE: 31.12\n",
      "4 фолд, RMSE: 36.5\n",
      "\n",
      "Средние значение метрики RMSE: 31.98\n",
      "------------------------------------------\n",
      "max_depth: 10\n",
      "\n",
      "0 фолд, RMSE: 28.05\n",
      "1 фолд, RMSE: 31.2\n",
      "2 фолд, RMSE: 33.59\n",
      "3 фолд, RMSE: 33.26\n",
      "4 фолд, RMSE: 37.59\n",
      "\n",
      "Средние значение метрики RMSE: 32.74\n",
      "------------------------------------------\n",
      "max_lag: 185\n",
      "\n",
      "max_depth: 2\n",
      "\n",
      "0 фолд, RMSE: 26.28\n",
      "1 фолд, RMSE: 26.21\n",
      "2 фолд, RMSE: 25.41\n",
      "3 фолд, RMSE: 26.92\n",
      "4 фолд, RMSE: 37.69\n",
      "\n",
      "Средние значение метрики RMSE: 28.5\n",
      "------------------------------------------\n",
      "max_depth: 3\n",
      "\n",
      "0 фолд, RMSE: 23.85\n",
      "1 фолд, RMSE: 25.31\n",
      "2 фолд, RMSE: 25.2\n",
      "3 фолд, RMSE: 25.14\n",
      "4 фолд, RMSE: 36.68\n",
      "\n",
      "Средние значение метрики RMSE: 27.24\n",
      "------------------------------------------\n",
      "max_depth: 4\n",
      "\n",
      "0 фолд, RMSE: 24.13\n",
      "1 фолд, RMSE: 26.17\n",
      "2 фолд, RMSE: 25.05\n",
      "3 фолд, RMSE: 24.09\n",
      "4 фолд, RMSE: 34.96\n",
      "\n",
      "Средние значение метрики RMSE: 26.88\n",
      "------------------------------------------\n",
      "max_depth: 5\n",
      "\n",
      "0 фолд, RMSE: 25.53\n",
      "1 фолд, RMSE: 26.02\n",
      "2 фолд, RMSE: 29.03\n",
      "3 фолд, RMSE: 24.19\n",
      "4 фолд, RMSE: 33.9\n",
      "\n",
      "Средние значение метрики RMSE: 27.74\n",
      "------------------------------------------\n",
      "max_depth: 6\n",
      "\n",
      "0 фолд, RMSE: 25.99\n",
      "1 фолд, RMSE: 28.37\n",
      "2 фолд, RMSE: 31.43\n",
      "3 фолд, RMSE: 25.52\n",
      "4 фолд, RMSE: 33.69\n",
      "\n",
      "Средние значение метрики RMSE: 29.0\n",
      "------------------------------------------\n",
      "max_depth: 7\n",
      "\n",
      "0 фолд, RMSE: 27.29\n",
      "1 фолд, RMSE: 28.98\n",
      "2 фолд, RMSE: 32.97\n",
      "3 фолд, RMSE: 28.24\n",
      "4 фолд, RMSE: 35.59\n",
      "\n",
      "Средние значение метрики RMSE: 30.61\n",
      "------------------------------------------\n",
      "max_depth: 8\n",
      "\n",
      "0 фолд, RMSE: 29.11\n",
      "1 фолд, RMSE: 30.4\n",
      "2 фолд, RMSE: 32.82\n",
      "3 фолд, RMSE: 29.36\n",
      "4 фолд, RMSE: 36.04\n",
      "\n",
      "Средние значение метрики RMSE: 31.55\n",
      "------------------------------------------\n",
      "max_depth: 9\n",
      "\n",
      "0 фолд, RMSE: 28.13\n",
      "1 фолд, RMSE: 30.82\n",
      "2 фолд, RMSE: 33.39\n",
      "3 фолд, RMSE: 31.31\n",
      "4 фолд, RMSE: 37.93\n",
      "\n",
      "Средние значение метрики RMSE: 32.32\n",
      "------------------------------------------\n",
      "max_depth: 10\n",
      "\n",
      "0 фолд, RMSE: 29.48\n",
      "1 фолд, RMSE: 30.52\n",
      "2 фолд, RMSE: 34.24\n",
      "3 фолд, RMSE: 31.37\n",
      "4 фолд, RMSE: 39.53\n",
      "\n",
      "Средние значение метрики RMSE: 33.03\n",
      "------------------------------------------\n",
      "max_lag: 190\n",
      "\n",
      "max_depth: 2\n",
      "\n",
      "0 фолд, RMSE: 26.2\n",
      "1 фолд, RMSE: 26.35\n",
      "2 фолд, RMSE: 25.3\n",
      "3 фолд, RMSE: 27.02\n",
      "4 фолд, RMSE: 37.67\n",
      "\n",
      "Средние значение метрики RMSE: 28.51\n",
      "------------------------------------------\n",
      "max_depth: 3\n",
      "\n",
      "0 фолд, RMSE: 23.85\n",
      "1 фолд, RMSE: 25.24\n",
      "2 фолд, RMSE: 25.19\n",
      "3 фолд, RMSE: 25.19\n",
      "4 фолд, RMSE: 36.67\n",
      "\n",
      "Средние значение метрики RMSE: 27.23\n",
      "------------------------------------------\n",
      "max_depth: 4\n",
      "\n",
      "0 фолд, RMSE: 23.66\n",
      "1 фолд, RMSE: 29.75\n",
      "2 фолд, RMSE: 24.7\n",
      "3 фолд, RMSE: 24.14\n",
      "4 фолд, RMSE: 34.95\n",
      "\n",
      "Средние значение метрики RMSE: 27.44\n",
      "------------------------------------------\n",
      "max_depth: 5\n",
      "\n",
      "0 фолд, RMSE: 24.08\n",
      "1 фолд, RMSE: 32.05\n",
      "2 фолд, RMSE: 28.68\n",
      "3 фолд, RMSE: 24.26\n",
      "4 фолд, RMSE: 33.9\n",
      "\n",
      "Средние значение метрики RMSE: 28.59\n",
      "------------------------------------------\n",
      "max_depth: 6\n",
      "\n",
      "0 фолд, RMSE: 24.86\n",
      "1 фолд, RMSE: 31.69\n",
      "2 фолд, RMSE: 30.73\n",
      "3 фолд, RMSE: 25.4\n",
      "4 фолд, RMSE: 33.66\n",
      "\n",
      "Средние значение метрики RMSE: 29.27\n",
      "------------------------------------------\n",
      "max_depth: 7\n",
      "\n",
      "0 фолд, RMSE: 25.98\n",
      "1 фолд, RMSE: 29.25\n",
      "2 фолд, RMSE: 31.7\n",
      "3 фолд, RMSE: 28.63\n",
      "4 фолд, RMSE: 35.64\n",
      "\n",
      "Средние значение метрики RMSE: 30.24\n",
      "------------------------------------------\n",
      "max_depth: 8\n",
      "\n",
      "0 фолд, RMSE: 26.97\n",
      "1 фолд, RMSE: 34.52\n",
      "2 фолд, RMSE: 32.96\n",
      "3 фолд, RMSE: 29.23\n",
      "4 фолд, RMSE: 36.6\n",
      "\n",
      "Средние значение метрики RMSE: 32.06\n",
      "------------------------------------------\n",
      "max_depth: 9\n",
      "\n",
      "0 фолд, RMSE: 27.27\n",
      "1 фолд, RMSE: 32.43\n",
      "2 фолд, RMSE: 33.45\n",
      "3 фолд, RMSE: 31.67\n",
      "4 фолд, RMSE: 36.86\n",
      "\n",
      "Средние значение метрики RMSE: 32.34\n",
      "------------------------------------------\n",
      "max_depth: 10\n",
      "\n",
      "0 фолд, RMSE: 27.78\n",
      "1 фолд, RMSE: 36.23\n",
      "2 фолд, RMSE: 34.09\n",
      "3 фолд, RMSE: 33.15\n",
      "4 фолд, RMSE: 38.02\n",
      "\n",
      "Средние значение метрики RMSE: 33.85\n",
      "------------------------------------------\n",
      "max_lag: 195\n",
      "\n",
      "max_depth: 2\n",
      "\n",
      "0 фолд, RMSE: 26.04\n",
      "1 фолд, RMSE: 26.34\n",
      "2 фолд, RMSE: 25.31\n",
      "3 фолд, RMSE: 26.99\n",
      "4 фолд, RMSE: 37.63\n",
      "\n",
      "Средние значение метрики RMSE: 28.46\n",
      "------------------------------------------\n",
      "max_depth: 3\n",
      "\n",
      "0 фолд, RMSE: 23.53\n",
      "1 фолд, RMSE: 24.35\n",
      "2 фолд, RMSE: 25.22\n",
      "3 фолд, RMSE: 25.16\n",
      "4 фолд, RMSE: 36.63\n",
      "\n",
      "Средние значение метрики RMSE: 26.98\n",
      "------------------------------------------\n",
      "max_depth: 4\n",
      "\n",
      "0 фолд, RMSE: 25.23\n",
      "1 фолд, RMSE: 28.74\n",
      "2 фолд, RMSE: 24.53\n",
      "3 фолд, RMSE: 24.13\n",
      "4 фолд, RMSE: 34.92\n",
      "\n",
      "Средние значение метрики RMSE: 27.51\n",
      "------------------------------------------\n",
      "max_depth: 5\n",
      "\n",
      "0 фолд, RMSE: 25.73\n",
      "1 фолд, RMSE: 26.96\n",
      "2 фолд, RMSE: 28.35\n",
      "3 фолд, RMSE: 24.26\n",
      "4 фолд, RMSE: 33.88\n",
      "\n",
      "Средние значение метрики RMSE: 27.84\n",
      "------------------------------------------\n",
      "max_depth: 6\n",
      "\n",
      "0 фолд, RMSE: 25.69\n",
      "1 фолд, RMSE: 28.17\n",
      "2 фолд, RMSE: 30.25\n",
      "3 фолд, RMSE: 25.89\n",
      "4 фолд, RMSE: 33.8\n",
      "\n",
      "Средние значение метрики RMSE: 28.76\n",
      "------------------------------------------\n",
      "max_depth: 7\n",
      "\n",
      "0 фолд, RMSE: 26.89\n",
      "1 фолд, RMSE: 28.26\n",
      "2 фолд, RMSE: 30.62\n",
      "3 фолд, RMSE: 27.22\n",
      "4 фолд, RMSE: 36.84\n",
      "\n",
      "Средние значение метрики RMSE: 29.97\n",
      "------------------------------------------\n",
      "max_depth: 8\n",
      "\n",
      "0 фолд, RMSE: 27.78\n",
      "1 фолд, RMSE: 34.99\n",
      "2 фолд, RMSE: 32.33\n",
      "3 фолд, RMSE: 29.5\n",
      "4 фолд, RMSE: 37.59\n",
      "\n",
      "Средние значение метрики RMSE: 32.44\n",
      "------------------------------------------\n",
      "max_depth: 9\n",
      "\n",
      "0 фолд, RMSE: 28.22\n",
      "1 фолд, RMSE: 30.83\n",
      "2 фолд, RMSE: 33.98\n",
      "3 фолд, RMSE: 31.61\n",
      "4 фолд, RMSE: 38.64\n",
      "\n",
      "Средние значение метрики RMSE: 32.66\n",
      "------------------------------------------\n",
      "max_depth: 10\n",
      "\n",
      "0 фолд, RMSE: 28.11\n",
      "1 фолд, RMSE: 34.68\n",
      "2 фолд, RMSE: 33.63\n",
      "3 фолд, RMSE: 32.34\n",
      "4 фолд, RMSE: 38.75\n",
      "\n",
      "Средние значение метрики RMSE: 33.5\n",
      "------------------------------------------\n",
      "max_lag: 200\n",
      "\n",
      "max_depth: 2\n",
      "\n",
      "0 фолд, RMSE: 26.57\n",
      "1 фолд, RMSE: 26.34\n",
      "2 фолд, RMSE: 25.31\n",
      "3 фолд, RMSE: 27.02\n",
      "4 фолд, RMSE: 37.66\n",
      "\n",
      "Средние значение метрики RMSE: 28.58\n",
      "------------------------------------------\n",
      "max_depth: 3\n",
      "\n",
      "0 фолд, RMSE: 24.18\n",
      "1 фолд, RMSE: 24.37\n",
      "2 фолд, RMSE: 25.24\n",
      "3 фолд, RMSE: 25.18\n",
      "4 фолд, RMSE: 36.69\n",
      "\n",
      "Средние значение метрики RMSE: 27.13\n",
      "------------------------------------------\n",
      "max_depth: 4\n",
      "\n",
      "0 фолд, RMSE: 23.94\n",
      "1 фолд, RMSE: 28.79\n",
      "2 фолд, RMSE: 24.54\n",
      "3 фолд, RMSE: 24.16\n",
      "4 фолд, RMSE: 35.07\n",
      "\n",
      "Средние значение метрики RMSE: 27.3\n",
      "------------------------------------------\n",
      "max_depth: 5\n",
      "\n",
      "0 фолд, RMSE: 24.63\n",
      "1 фолд, RMSE: 28.87\n",
      "2 фолд, RMSE: 28.12\n",
      "3 фолд, RMSE: 24.29\n",
      "4 фолд, RMSE: 33.69\n",
      "\n",
      "Средние значение метрики RMSE: 27.92\n",
      "------------------------------------------\n",
      "max_depth: 6\n",
      "\n",
      "0 фолд, RMSE: 25.55\n",
      "1 фолд, RMSE: 29.34\n",
      "2 фолд, RMSE: 30.18\n",
      "3 фолд, RMSE: 25.29\n",
      "4 фолд, RMSE: 33.55\n",
      "\n",
      "Средние значение метрики RMSE: 28.78\n",
      "------------------------------------------\n",
      "max_depth: 7\n",
      "\n",
      "0 фолд, RMSE: 27.7\n",
      "1 фолд, RMSE: 33.48\n",
      "2 фолд, RMSE: 31.44\n",
      "3 фолд, RMSE: 28.07\n",
      "4 фолд, RMSE: 36.04\n",
      "\n",
      "Средние значение метрики RMSE: 31.34\n",
      "------------------------------------------\n",
      "max_depth: 8\n",
      "\n",
      "0 фолд, RMSE: 27.13\n",
      "1 фолд, RMSE: 33.05\n",
      "2 фолд, RMSE: 31.76\n",
      "3 фолд, RMSE: 30.1\n",
      "4 фолд, RMSE: 38.06\n",
      "\n",
      "Средние значение метрики RMSE: 32.02\n",
      "------------------------------------------\n",
      "max_depth: 9\n",
      "\n",
      "0 фолд, RMSE: 26.94\n",
      "1 фолд, RMSE: 33.41\n",
      "2 фолд, RMSE: 33.64\n",
      "3 фолд, RMSE: 32.16\n",
      "4 фолд, RMSE: 38.93\n",
      "\n",
      "Средние значение метрики RMSE: 33.02\n",
      "------------------------------------------\n",
      "max_depth: 10\n",
      "\n",
      "0 фолд, RMSE: 28.78\n",
      "1 фолд, RMSE: 35.51\n",
      "2 фолд, RMSE: 33.75\n",
      "3 фолд, RMSE: 32.04\n",
      "4 фолд, RMSE: 39.38\n",
      "\n",
      "Средние значение метрики RMSE: 33.89\n",
      "------------------------------------------\n"
     ]
    }
   ],
   "source": [
    "best_avg_error = 100\n",
    "for max_lag in range(100, 201, 5):\n",
    "    print(f'max_lag: {max_lag}')\n",
    "    print('')\n",
    "    X_train, X_test, y_train, y_test = make_features(df, max_lag)\n",
    "    for depth in range(2, 11, 1):\n",
    "        print(f'max_depth: {depth}')\n",
    "        print('')\n",
    "        tree= DecisionTreeRegressor(max_depth=depth, random_state=12345)        \n",
    "        avg_error, full_data_error = timeseriesCVscore(tree, X_train, y_train, 5)\n",
    "        if avg_error < best_avg_error:\n",
    "            best_avg_error = avg_error\n",
    "            best_full_data_error = full_data_error\n",
    "            best_max_lag = max_lag\n",
    "            best_max_depth = depth"
   ]
  },
  {
   "cell_type": "markdown",
   "metadata": {},
   "source": [
    "Выведем результаты работы модели"
   ]
  },
  {
   "cell_type": "code",
   "execution_count": 25,
   "metadata": {},
   "outputs": [
    {
     "name": "stdout",
     "output_type": "stream",
     "text": [
      "Лучшие результаты модели:\n",
      "Max_lag:  185\n",
      "AVG RMSE:  26.88\n",
      "Full data RMSE:  34.96\n"
     ]
    }
   ],
   "source": [
    "result_model('DecisionTreeRegressor')"
   ]
  },
  {
   "cell_type": "markdown",
   "metadata": {},
   "source": [
    "### CatBoostRegressor"
   ]
  },
  {
   "cell_type": "code",
   "execution_count": 26,
   "metadata": {},
   "outputs": [],
   "source": [
    "cat = CatBoostRegressor(iterations=300, learning_rate = 0.1,\n",
    "                        random_state=12345, metric_period=50,\n",
    "                        eval_metric='RMSE')"
   ]
  },
  {
   "cell_type": "markdown",
   "metadata": {},
   "source": [
    "Поиск лучшего значения кол-ва лагов"
   ]
  },
  {
   "cell_type": "code",
   "execution_count": 27,
   "metadata": {
    "scrolled": true
   },
   "outputs": [
    {
     "name": "stdout",
     "output_type": "stream",
     "text": [
      "max_lag: 150\n",
      "\n",
      "0:\tlearn: 28.2733112\ttotal: 73.3ms\tremaining: 21.9s\n",
      "50:\tlearn: 13.0166881\ttotal: 1s\tremaining: 4.91s\n",
      "100:\tlearn: 8.9216149\ttotal: 1.88s\tremaining: 3.7s\n",
      "150:\tlearn: 6.2292232\ttotal: 2.73s\tremaining: 2.7s\n",
      "200:\tlearn: 4.4724139\ttotal: 3.6s\tremaining: 1.77s\n",
      "250:\tlearn: 3.2454877\ttotal: 4.47s\tremaining: 873ms\n",
      "299:\tlearn: 2.4087861\ttotal: 5.31s\tremaining: 0us\n",
      "0 фолд, RMSE: 20.99\n",
      "0:\tlearn: 29.5512686\ttotal: 30.5ms\tremaining: 9.11s\n",
      "50:\tlearn: 14.8838996\ttotal: 1.07s\tremaining: 5.24s\n",
      "100:\tlearn: 11.7568816\ttotal: 2.09s\tremaining: 4.11s\n",
      "150:\tlearn: 9.5280299\ttotal: 3.1s\tremaining: 3.06s\n",
      "200:\tlearn: 7.6080777\ttotal: 4.15s\tremaining: 2.04s\n",
      "250:\tlearn: 6.2381287\ttotal: 5.24s\tremaining: 1.02s\n",
      "299:\tlearn: 5.1900231\ttotal: 6.29s\tremaining: 0us\n",
      "1 фолд, RMSE: 21.82\n",
      "0:\tlearn: 31.4982715\ttotal: 35.9ms\tremaining: 10.7s\n",
      "50:\tlearn: 16.2177436\ttotal: 1.24s\tremaining: 6.06s\n",
      "100:\tlearn: 13.8218706\ttotal: 2.46s\tremaining: 4.85s\n",
      "150:\tlearn: 11.5987462\ttotal: 3.63s\tremaining: 3.58s\n",
      "200:\tlearn: 9.8719333\ttotal: 4.81s\tremaining: 2.37s\n",
      "250:\tlearn: 8.5367947\ttotal: 5.97s\tremaining: 1.17s\n",
      "299:\tlearn: 7.4653453\ttotal: 7.14s\tremaining: 0us\n",
      "2 фолд, RMSE: 21.18\n",
      "0:\tlearn: 31.8624050\ttotal: 60.3ms\tremaining: 18s\n",
      "50:\tlearn: 17.4839550\ttotal: 1.41s\tremaining: 6.86s\n",
      "100:\tlearn: 15.1771427\ttotal: 2.71s\tremaining: 5.35s\n",
      "150:\tlearn: 13.0119898\ttotal: 3.99s\tremaining: 3.94s\n",
      "200:\tlearn: 11.4958786\ttotal: 5.27s\tremaining: 2.59s\n",
      "250:\tlearn: 10.2568733\ttotal: 6.52s\tremaining: 1.27s\n",
      "299:\tlearn: 9.1466779\ttotal: 7.76s\tremaining: 0us\n",
      "3 фолд, RMSE: 23.05\n",
      "0:\tlearn: 33.1047904\ttotal: 42.5ms\tremaining: 12.7s\n",
      "50:\tlearn: 18.5046903\ttotal: 1.52s\tremaining: 7.45s\n",
      "100:\tlearn: 16.4455266\ttotal: 3.04s\tremaining: 5.98s\n",
      "150:\tlearn: 14.5333365\ttotal: 4.47s\tremaining: 4.41s\n",
      "200:\tlearn: 13.0033535\ttotal: 5.87s\tremaining: 2.89s\n",
      "250:\tlearn: 11.6579639\ttotal: 7.25s\tremaining: 1.42s\n",
      "299:\tlearn: 10.5288194\ttotal: 8.57s\tremaining: 0us\n",
      "4 фолд, RMSE: 30.58\n",
      "\n",
      "Средние значение метрики RMSE: 23.52\n",
      "------------------------------------------\n",
      "max_lag: 160\n",
      "\n",
      "0:\tlearn: 28.4189717\ttotal: 29.9ms\tremaining: 8.95s\n",
      "50:\tlearn: 12.9259326\ttotal: 1.02s\tremaining: 5s\n",
      "100:\tlearn: 8.8837263\ttotal: 2.08s\tremaining: 4.11s\n",
      "150:\tlearn: 6.1307312\ttotal: 3.08s\tremaining: 3.04s\n",
      "200:\tlearn: 4.5087920\ttotal: 4.09s\tremaining: 2.02s\n",
      "250:\tlearn: 3.0967666\ttotal: 5.14s\tremaining: 1s\n",
      "299:\tlearn: 2.2547759\ttotal: 6.1s\tremaining: 0us\n",
      "0 фолд, RMSE: 20.64\n",
      "0:\tlearn: 29.5543221\ttotal: 33.9ms\tremaining: 10.1s\n",
      "50:\tlearn: 15.1611405\ttotal: 1.17s\tremaining: 5.69s\n",
      "100:\tlearn: 11.7581684\ttotal: 2.33s\tremaining: 4.6s\n",
      "150:\tlearn: 9.1386083\ttotal: 3.53s\tremaining: 3.48s\n",
      "200:\tlearn: 7.4948537\ttotal: 4.76s\tremaining: 2.34s\n",
      "250:\tlearn: 6.0897248\ttotal: 5.91s\tremaining: 1.15s\n",
      "299:\tlearn: 5.0863112\ttotal: 7.14s\tremaining: 0us\n",
      "1 фолд, RMSE: 21.44\n",
      "0:\tlearn: 31.4211797\ttotal: 39.4ms\tremaining: 11.8s\n",
      "50:\tlearn: 16.1204600\ttotal: 1.28s\tremaining: 6.26s\n",
      "100:\tlearn: 13.4145128\ttotal: 2.59s\tremaining: 5.1s\n",
      "150:\tlearn: 11.2793717\ttotal: 3.91s\tremaining: 3.86s\n",
      "200:\tlearn: 9.7816095\ttotal: 5.18s\tremaining: 2.55s\n",
      "250:\tlearn: 8.2688615\ttotal: 6.46s\tremaining: 1.26s\n",
      "299:\tlearn: 7.0830678\ttotal: 7.8s\tremaining: 0us\n",
      "2 фолд, RMSE: 21.35\n",
      "0:\tlearn: 31.7698097\ttotal: 42.8ms\tremaining: 12.8s\n",
      "50:\tlearn: 17.3062121\ttotal: 1.46s\tremaining: 7.12s\n",
      "100:\tlearn: 14.8601663\ttotal: 2.83s\tremaining: 5.57s\n",
      "150:\tlearn: 13.0926004\ttotal: 4.18s\tremaining: 4.12s\n",
      "200:\tlearn: 11.4118002\ttotal: 5.58s\tremaining: 2.75s\n",
      "250:\tlearn: 10.0297633\ttotal: 6.95s\tremaining: 1.36s\n",
      "299:\tlearn: 8.8553249\ttotal: 8.37s\tremaining: 0us\n",
      "3 фолд, RMSE: 23.39\n",
      "0:\tlearn: 33.1364340\ttotal: 45ms\tremaining: 13.5s\n",
      "50:\tlearn: 18.5016679\ttotal: 1.53s\tremaining: 7.49s\n",
      "100:\tlearn: 16.2686940\ttotal: 3.06s\tremaining: 6.02s\n",
      "150:\tlearn: 14.4692000\ttotal: 4.49s\tremaining: 4.43s\n",
      "200:\tlearn: 12.9625832\ttotal: 5.95s\tremaining: 2.93s\n",
      "250:\tlearn: 11.6442599\ttotal: 7.39s\tremaining: 1.44s\n",
      "299:\tlearn: 10.4709372\ttotal: 8.91s\tremaining: 0us\n",
      "4 фолд, RMSE: 30.82\n",
      "\n",
      "Средние значение метрики RMSE: 23.53\n",
      "------------------------------------------\n",
      "max_lag: 170\n",
      "\n",
      "0:\tlearn: 28.0241570\ttotal: 32.7ms\tremaining: 9.77s\n",
      "50:\tlearn: 12.8276038\ttotal: 1.09s\tremaining: 5.3s\n",
      "100:\tlearn: 9.0786339\ttotal: 2.14s\tremaining: 4.21s\n",
      "150:\tlearn: 6.0811724\ttotal: 3.22s\tremaining: 3.17s\n",
      "200:\tlearn: 4.3569899\ttotal: 4.26s\tremaining: 2.1s\n",
      "250:\tlearn: 3.0866864\ttotal: 5.29s\tremaining: 1.03s\n",
      "299:\tlearn: 2.2087300\ttotal: 6.29s\tremaining: 0us\n",
      "0 фолд, RMSE: 20.03\n",
      "0:\tlearn: 29.5126132\ttotal: 40.6ms\tremaining: 12.1s\n",
      "50:\tlearn: 14.4004387\ttotal: 1.26s\tremaining: 6.18s\n",
      "100:\tlearn: 11.6250343\ttotal: 2.5s\tremaining: 4.94s\n",
      "150:\tlearn: 9.1575696\ttotal: 3.7s\tremaining: 3.65s\n",
      "200:\tlearn: 7.4670135\ttotal: 4.89s\tremaining: 2.41s\n",
      "250:\tlearn: 6.0253357\ttotal: 6.09s\tremaining: 1.19s\n",
      "299:\tlearn: 5.0070305\ttotal: 7.24s\tremaining: 0us\n",
      "1 фолд, RMSE: 20.88\n",
      "0:\tlearn: 31.3085963\ttotal: 41.5ms\tremaining: 12.4s\n",
      "50:\tlearn: 15.7421420\ttotal: 1.4s\tremaining: 6.82s\n",
      "100:\tlearn: 13.4927205\ttotal: 2.71s\tremaining: 5.34s\n",
      "150:\tlearn: 11.4060235\ttotal: 4.06s\tremaining: 4s\n",
      "200:\tlearn: 9.8116592\ttotal: 5.44s\tremaining: 2.68s\n",
      "250:\tlearn: 8.3873791\ttotal: 6.8s\tremaining: 1.33s\n",
      "299:\tlearn: 7.2182862\ttotal: 8.16s\tremaining: 0us\n",
      "2 фолд, RMSE: 21.51\n",
      "0:\tlearn: 31.7584937\ttotal: 43.7ms\tremaining: 13.1s\n",
      "50:\tlearn: 16.8305183\ttotal: 1.47s\tremaining: 7.19s\n",
      "100:\tlearn: 14.9981880\ttotal: 2.89s\tremaining: 5.69s\n",
      "150:\tlearn: 13.0654226\ttotal: 4.34s\tremaining: 4.28s\n",
      "200:\tlearn: 11.5447111\ttotal: 5.83s\tremaining: 2.87s\n",
      "250:\tlearn: 10.3658260\ttotal: 7.34s\tremaining: 1.43s\n",
      "299:\tlearn: 9.2522151\ttotal: 8.8s\tremaining: 0us\n",
      "3 фолд, RMSE: 21.4\n",
      "0:\tlearn: 33.0104376\ttotal: 46.6ms\tremaining: 13.9s\n",
      "50:\tlearn: 17.7449987\ttotal: 1.57s\tremaining: 7.69s\n",
      "100:\tlearn: 16.0329902\ttotal: 3.14s\tremaining: 6.19s\n",
      "150:\tlearn: 14.3393513\ttotal: 4.66s\tremaining: 4.6s\n",
      "200:\tlearn: 13.0706512\ttotal: 6.29s\tremaining: 3.1s\n",
      "250:\tlearn: 11.8073675\ttotal: 7.83s\tremaining: 1.53s\n",
      "299:\tlearn: 10.7926001\ttotal: 9.32s\tremaining: 0us\n",
      "4 фолд, RMSE: 30.15\n",
      "\n",
      "Средние значение метрики RMSE: 22.79\n",
      "------------------------------------------\n",
      "max_lag: 180\n",
      "\n",
      "0:\tlearn: 27.8581603\ttotal: 36.1ms\tremaining: 10.8s\n",
      "50:\tlearn: 12.4664839\ttotal: 1.15s\tremaining: 5.6s\n",
      "100:\tlearn: 8.3717325\ttotal: 2.21s\tremaining: 4.36s\n",
      "150:\tlearn: 5.8707798\ttotal: 3.27s\tremaining: 3.23s\n",
      "200:\tlearn: 4.0606045\ttotal: 4.34s\tremaining: 2.14s\n",
      "250:\tlearn: 2.8435499\ttotal: 5.4s\tremaining: 1.05s\n",
      "299:\tlearn: 1.9937603\ttotal: 6.49s\tremaining: 0us\n",
      "0 фолд, RMSE: 19.83\n",
      "0:\tlearn: 29.4404496\ttotal: 39ms\tremaining: 11.7s\n",
      "50:\tlearn: 14.4172625\ttotal: 1.31s\tremaining: 6.42s\n",
      "100:\tlearn: 11.3772328\ttotal: 2.59s\tremaining: 5.1s\n",
      "150:\tlearn: 9.1380028\ttotal: 3.85s\tremaining: 3.8s\n",
      "200:\tlearn: 7.4548297\ttotal: 5.08s\tremaining: 2.5s\n",
      "250:\tlearn: 5.9484043\ttotal: 6.38s\tremaining: 1.24s\n",
      "299:\tlearn: 4.8364464\ttotal: 7.72s\tremaining: 0us\n",
      "1 фолд, RMSE: 20.47\n",
      "0:\tlearn: 31.2664175\ttotal: 49.7ms\tremaining: 14.9s\n",
      "50:\tlearn: 15.6859841\ttotal: 1.67s\tremaining: 8.14s\n",
      "100:\tlearn: 13.4968575\ttotal: 3.21s\tremaining: 6.32s\n",
      "150:\tlearn: 11.4768567\ttotal: 4.64s\tremaining: 4.58s\n",
      "200:\tlearn: 9.7757059\ttotal: 6.07s\tremaining: 2.99s\n",
      "250:\tlearn: 8.3928464\ttotal: 7.48s\tremaining: 1.46s\n",
      "299:\tlearn: 7.2659958\ttotal: 8.87s\tremaining: 0us\n",
      "2 фолд, RMSE: 21.2\n",
      "0:\tlearn: 31.7287352\ttotal: 51.6ms\tremaining: 15.4s\n",
      "50:\tlearn: 16.8195077\ttotal: 1.7s\tremaining: 8.3s\n",
      "100:\tlearn: 14.8671392\ttotal: 3.2s\tremaining: 6.3s\n",
      "150:\tlearn: 12.9188609\ttotal: 4.68s\tremaining: 4.62s\n",
      "200:\tlearn: 11.3788151\ttotal: 6.19s\tremaining: 3.05s\n",
      "250:\tlearn: 10.0841575\ttotal: 7.72s\tremaining: 1.51s\n",
      "299:\tlearn: 9.0381729\ttotal: 9.19s\tremaining: 0us\n",
      "3 фолд, RMSE: 21.89\n",
      "0:\tlearn: 33.0187605\ttotal: 48.5ms\tremaining: 14.5s\n",
      "50:\tlearn: 17.7908540\ttotal: 1.75s\tremaining: 8.54s\n",
      "100:\tlearn: 16.1834987\ttotal: 3.39s\tremaining: 6.68s\n",
      "150:\tlearn: 14.5930255\ttotal: 5.04s\tremaining: 4.97s\n",
      "200:\tlearn: 13.2419436\ttotal: 6.68s\tremaining: 3.29s\n",
      "250:\tlearn: 12.0204643\ttotal: 8.35s\tremaining: 1.63s\n",
      "299:\tlearn: 11.0047367\ttotal: 9.96s\tremaining: 0us\n",
      "4 фолд, RMSE: 29.38\n",
      "\n",
      "Средние значение метрики RMSE: 22.55\n",
      "------------------------------------------\n",
      "max_lag: 190\n",
      "\n",
      "0:\tlearn: 27.9181029\ttotal: 35.1ms\tremaining: 10.5s\n",
      "50:\tlearn: 12.6286296\ttotal: 1.22s\tremaining: 5.97s\n",
      "100:\tlearn: 8.6744187\ttotal: 2.5s\tremaining: 4.93s\n",
      "150:\tlearn: 6.0432662\ttotal: 3.74s\tremaining: 3.69s\n",
      "200:\tlearn: 4.1806924\ttotal: 4.98s\tremaining: 2.45s\n",
      "250:\tlearn: 2.9173681\ttotal: 6.22s\tremaining: 1.22s\n",
      "299:\tlearn: 2.1253891\ttotal: 7.39s\tremaining: 0us\n",
      "0 фолд, RMSE: 19.81\n",
      "0:\tlearn: 29.6433048\ttotal: 41.2ms\tremaining: 12.3s\n",
      "50:\tlearn: 14.5180336\ttotal: 1.37s\tremaining: 6.71s\n",
      "100:\tlearn: 11.5008521\ttotal: 2.84s\tremaining: 5.6s\n",
      "150:\tlearn: 9.2857096\ttotal: 4.27s\tremaining: 4.22s\n",
      "200:\tlearn: 7.6449314\ttotal: 5.65s\tremaining: 2.78s\n",
      "250:\tlearn: 6.2143770\ttotal: 7.04s\tremaining: 1.37s\n",
      "299:\tlearn: 5.2338965\ttotal: 8.41s\tremaining: 0us\n",
      "1 фолд, RMSE: 20.64\n",
      "0:\tlearn: 31.2867307\ttotal: 46.8ms\tremaining: 14s\n",
      "50:\tlearn: 15.6561604\ttotal: 1.61s\tremaining: 7.85s\n",
      "100:\tlearn: 13.3895282\ttotal: 3.26s\tremaining: 6.42s\n",
      "150:\tlearn: 11.5307343\ttotal: 4.88s\tremaining: 4.82s\n",
      "200:\tlearn: 9.9668403\ttotal: 6.4s\tremaining: 3.15s\n",
      "250:\tlearn: 8.5352260\ttotal: 7.9s\tremaining: 1.54s\n",
      "299:\tlearn: 7.3602744\ttotal: 9.4s\tremaining: 0us\n",
      "2 фолд, RMSE: 21.32\n",
      "0:\tlearn: 31.6577232\ttotal: 51.1ms\tremaining: 15.3s\n",
      "50:\tlearn: 16.8950902\ttotal: 1.66s\tremaining: 8.1s\n",
      "100:\tlearn: 14.8804256\ttotal: 3.3s\tremaining: 6.5s\n",
      "150:\tlearn: 13.0037114\ttotal: 4.88s\tremaining: 4.81s\n",
      "200:\tlearn: 11.5440445\ttotal: 6.48s\tremaining: 3.19s\n",
      "250:\tlearn: 10.3780637\ttotal: 8.11s\tremaining: 1.58s\n",
      "299:\tlearn: 9.3349598\ttotal: 9.68s\tremaining: 0us\n",
      "3 фолд, RMSE: 21.98\n",
      "0:\tlearn: 32.9471316\ttotal: 55.7ms\tremaining: 16.7s\n",
      "50:\tlearn: 17.7656182\ttotal: 1.8s\tremaining: 8.79s\n",
      "100:\tlearn: 16.1452993\ttotal: 3.56s\tremaining: 7.02s\n",
      "150:\tlearn: 14.5098627\ttotal: 5.27s\tremaining: 5.2s\n",
      "200:\tlearn: 13.0610474\ttotal: 6.94s\tremaining: 3.42s\n",
      "250:\tlearn: 11.9395661\ttotal: 8.63s\tremaining: 1.69s\n",
      "299:\tlearn: 10.9408276\ttotal: 10.3s\tremaining: 0us\n",
      "4 фолд, RMSE: 29.33\n",
      "\n",
      "Средние значение метрики RMSE: 22.62\n",
      "------------------------------------------\n",
      "max_lag: 200\n",
      "\n",
      "0:\tlearn: 27.7605233\ttotal: 36.3ms\tremaining: 10.9s\n",
      "50:\tlearn: 12.9153061\ttotal: 1.33s\tremaining: 6.48s\n",
      "100:\tlearn: 8.6687722\ttotal: 2.55s\tremaining: 5.02s\n",
      "150:\tlearn: 5.8927445\ttotal: 3.78s\tremaining: 3.73s\n",
      "200:\tlearn: 3.9066293\ttotal: 5.02s\tremaining: 2.47s\n",
      "250:\tlearn: 2.6667926\ttotal: 6.22s\tremaining: 1.21s\n",
      "299:\tlearn: 1.9326435\ttotal: 7.4s\tremaining: 0us\n",
      "0 фолд, RMSE: 20.45\n",
      "0:\tlearn: 29.3073997\ttotal: 43.4ms\tremaining: 13s\n",
      "50:\tlearn: 14.1777223\ttotal: 1.44s\tremaining: 7.04s\n",
      "100:\tlearn: 11.2394385\ttotal: 2.92s\tremaining: 5.75s\n",
      "150:\tlearn: 8.9412305\ttotal: 4.42s\tremaining: 4.37s\n",
      "200:\tlearn: 7.2957981\ttotal: 5.96s\tremaining: 2.93s\n",
      "250:\tlearn: 5.7511561\ttotal: 7.42s\tremaining: 1.45s\n",
      "299:\tlearn: 4.7314688\ttotal: 8.88s\tremaining: 0us\n",
      "1 фолд, RMSE: 21.06\n",
      "0:\tlearn: 31.3228181\ttotal: 50.2ms\tremaining: 15s\n",
      "50:\tlearn: 15.6054875\ttotal: 1.66s\tremaining: 8.09s\n",
      "100:\tlearn: 13.2908880\ttotal: 3.37s\tremaining: 6.64s\n",
      "150:\tlearn: 11.4368212\ttotal: 4.95s\tremaining: 4.89s\n",
      "200:\tlearn: 9.8844891\ttotal: 6.56s\tremaining: 3.23s\n",
      "250:\tlearn: 8.3217737\ttotal: 8.12s\tremaining: 1.58s\n",
      "299:\tlearn: 7.2682445\ttotal: 9.64s\tremaining: 0us\n",
      "2 фолд, RMSE: 21.91\n",
      "0:\tlearn: 31.6925597\ttotal: 56.7ms\tremaining: 17s\n",
      "50:\tlearn: 16.8750172\ttotal: 1.82s\tremaining: 8.9s\n",
      "100:\tlearn: 14.7260337\ttotal: 3.63s\tremaining: 7.15s\n",
      "150:\tlearn: 12.8220300\ttotal: 5.47s\tremaining: 5.4s\n",
      "200:\tlearn: 11.2536007\ttotal: 7.27s\tremaining: 3.58s\n",
      "250:\tlearn: 9.8867816\ttotal: 9.02s\tremaining: 1.76s\n",
      "299:\tlearn: 8.7298068\ttotal: 10.7s\tremaining: 0us\n",
      "3 фолд, RMSE: 22.14\n",
      "0:\tlearn: 33.0654200\ttotal: 62.5ms\tremaining: 18.7s\n",
      "50:\tlearn: 17.6727545\ttotal: 2s\tremaining: 9.78s\n",
      "100:\tlearn: 15.9047009\ttotal: 3.82s\tremaining: 7.53s\n",
      "150:\tlearn: 14.3239158\ttotal: 5.6s\tremaining: 5.52s\n",
      "200:\tlearn: 12.8699136\ttotal: 7.4s\tremaining: 3.64s\n",
      "250:\tlearn: 11.7114201\ttotal: 9.19s\tremaining: 1.79s\n",
      "299:\tlearn: 10.6330925\ttotal: 11s\tremaining: 0us\n",
      "4 фолд, RMSE: 30.05\n",
      "\n",
      "Средние значение метрики RMSE: 23.12\n",
      "------------------------------------------\n"
     ]
    }
   ],
   "source": [
    "best_avg_error = 100\n",
    "for max_lag in range(150, 201, 10):\n",
    "    print(f'max_lag: {max_lag}')\n",
    "    print('')\n",
    "    X_train, X_test, y_train, y_test = make_features(df, max_lag)    \n",
    "    avg_error, full_data_error = timeseriesCVscore(cat, X_train, y_train, 5)\n",
    "    if avg_error < best_avg_error:\n",
    "        best_avg_error = avg_error\n",
    "        best_full_data_error = full_data_error\n",
    "        best_max_lag = max_lag"
   ]
  },
  {
   "cell_type": "markdown",
   "metadata": {},
   "source": [
    "Выведем результаты работы модели"
   ]
  },
  {
   "cell_type": "code",
   "execution_count": 28,
   "metadata": {},
   "outputs": [
    {
     "name": "stdout",
     "output_type": "stream",
     "text": [
      "Лучшие результаты модели:\n",
      "Max_lag:  180\n",
      "AVG RMSE:  22.55\n",
      "Full data RMSE:  29.38\n"
     ]
    }
   ],
   "source": [
    "result_model('CatBoostRegressor')"
   ]
  },
  {
   "cell_type": "markdown",
   "metadata": {},
   "source": [
    "### Вывод"
   ]
  },
  {
   "cell_type": "code",
   "execution_count": 29,
   "metadata": {},
   "outputs": [
    {
     "data": {
      "text/html": [
       "<div>\n",
       "<style scoped>\n",
       "    .dataframe tbody tr th:only-of-type {\n",
       "        vertical-align: middle;\n",
       "    }\n",
       "\n",
       "    .dataframe tbody tr th {\n",
       "        vertical-align: top;\n",
       "    }\n",
       "\n",
       "    .dataframe thead th {\n",
       "        text-align: right;\n",
       "    }\n",
       "</style>\n",
       "<table border=\"1\" class=\"dataframe\">\n",
       "  <thead>\n",
       "    <tr style=\"text-align: right;\">\n",
       "      <th></th>\n",
       "      <th>Name model</th>\n",
       "      <th>Max_lag</th>\n",
       "      <th>AVG RMSE</th>\n",
       "      <th>Full data RMSE</th>\n",
       "    </tr>\n",
       "  </thead>\n",
       "  <tbody>\n",
       "    <tr>\n",
       "      <th>0</th>\n",
       "      <td>LinearRegression</td>\n",
       "      <td>170</td>\n",
       "      <td>22.64</td>\n",
       "      <td>28.16</td>\n",
       "    </tr>\n",
       "    <tr>\n",
       "      <th>1</th>\n",
       "      <td>DecisionTreeRegressor</td>\n",
       "      <td>185</td>\n",
       "      <td>26.88</td>\n",
       "      <td>34.96</td>\n",
       "    </tr>\n",
       "    <tr>\n",
       "      <th>2</th>\n",
       "      <td>CatBoostRegressor</td>\n",
       "      <td>180</td>\n",
       "      <td>22.55</td>\n",
       "      <td>29.38</td>\n",
       "    </tr>\n",
       "  </tbody>\n",
       "</table>\n",
       "</div>"
      ],
      "text/plain": [
       "              Name model Max_lag  AVG RMSE  Full data RMSE\n",
       "0       LinearRegression     170     22.64           28.16\n",
       "1  DecisionTreeRegressor     185     26.88           34.96\n",
       "2      CatBoostRegressor     180     22.55           29.38"
      ]
     },
     "execution_count": 29,
     "metadata": {},
     "output_type": "execute_result"
    }
   ],
   "source": [
    "table_estimation"
   ]
  },
  {
   "cell_type": "markdown",
   "metadata": {},
   "source": [
    "* Линейная регрессия и CatBoost регрессия показали близкие результаты средней ошибки RMSE на кросс-валидации (22.64 и 22.55), но линейная регрессия показала лучшие результаты на полных данных - 28.16 против 29.38 у CatBoost регрессии;\n",
    "* Проверим нашу лучшую модель на тестовых дынных."
   ]
  },
  {
   "cell_type": "markdown",
   "metadata": {},
   "source": [
    "## Тестирование"
   ]
  },
  {
   "cell_type": "code",
   "execution_count": 30,
   "metadata": {},
   "outputs": [],
   "source": [
    "X_train, X_test, y_train, y_test = make_features(df, 170)"
   ]
  },
  {
   "cell_type": "code",
   "execution_count": 31,
   "metadata": {},
   "outputs": [
    {
     "name": "stdout",
     "output_type": "stream",
     "text": [
      "Результаты лучшей модели на тестовых данных: 35.2\n"
     ]
    }
   ],
   "source": [
    "lr.fit(X_train, y_train)\n",
    "prediction = lr.predict(X_test)\n",
    "print('Результаты лучшей модели на тестовых данных:', round(rmse(prediction, y_test), 2))"
   ]
  },
  {
   "cell_type": "markdown",
   "metadata": {},
   "source": [
    "* Тестирование модели прошло успешно, значение RMSE = 35.2, что меньше установленного лимита в 48"
   ]
  },
  {
   "cell_type": "code",
   "execution_count": 32,
   "metadata": {},
   "outputs": [],
   "source": [
    "prediction = pd.Series(prediction, index=y_test.index)"
   ]
  },
  {
   "cell_type": "code",
   "execution_count": 33,
   "metadata": {},
   "outputs": [
    {
     "data": {
      "image/png": "[encoded data removed]",
      "text/plain": [
       "<Figure size 1152x576 with 1 Axes>"
      ]
     },
     "metadata": {
      "needs_background": "light"
     },
     "output_type": "display_data"
    }
   ],
   "source": [
    "plt.figure(figsize=(16,8))\n",
    "plt.title(f'Графики исходного и предсказанных рядов')\n",
    "plt.plot(y_test, \"g\", label=\"Исходный ряд\")\n",
    "plt.plot(prediction , \"r\", label=\"Предсказанный ряд\")\n",
    "plt.legend(loc=\"upper left\")\n",
    "plt.grid(True)\n",
    "plt.xticks(rotation=45)\n",
    "plt.show()"
   ]
  },
  {
   "cell_type": "markdown",
   "metadata": {},
   "source": [
    "## Общие выводы"
   ]
  },
  {
   "cell_type": "markdown",
   "metadata": {},
   "source": [
    "* Статистические данные:\n",
    "    * Среднее значение - 84;\n",
    "    * Медиана - 78;\n",
    "    * Стандартное отклонение - 45;\n",
    "    * Минимальное значение - 0;\n",
    "    * Максимальное значение - 462.\n",
    "* Прослеживается планомерный рост кол-ва заказов такси, с резким ростом в августе;\n",
    "* Рано утром меньше всего заказов такси, а в полночь пиковое значение заказов;"
   ]
  },
  {
   "cell_type": "markdown",
   "metadata": {},
   "source": [
    "Показатели моделей:"
   ]
  },
  {
   "cell_type": "code",
   "execution_count": 34,
   "metadata": {},
   "outputs": [
    {
     "data": {
      "text/html": [
       "<div>\n",
       "<style scoped>\n",
       "    .dataframe tbody tr th:only-of-type {\n",
       "        vertical-align: middle;\n",
       "    }\n",
       "\n",
       "    .dataframe tbody tr th {\n",
       "        vertical-align: top;\n",
       "    }\n",
       "\n",
       "    .dataframe thead th {\n",
       "        text-align: right;\n",
       "    }\n",
       "</style>\n",
       "<table border=\"1\" class=\"dataframe\">\n",
       "  <thead>\n",
       "    <tr style=\"text-align: right;\">\n",
       "      <th></th>\n",
       "      <th>Name model</th>\n",
       "      <th>Max_lag</th>\n",
       "      <th>AVG RMSE</th>\n",
       "      <th>Full data RMSE</th>\n",
       "    </tr>\n",
       "  </thead>\n",
       "  <tbody>\n",
       "    <tr>\n",
       "      <th>0</th>\n",
       "      <td>LinearRegression</td>\n",
       "      <td>170</td>\n",
       "      <td>22.64</td>\n",
       "      <td>28.16</td>\n",
       "    </tr>\n",
       "    <tr>\n",
       "      <th>1</th>\n",
       "      <td>DecisionTreeRegressor</td>\n",
       "      <td>185</td>\n",
       "      <td>26.88</td>\n",
       "      <td>34.96</td>\n",
       "    </tr>\n",
       "    <tr>\n",
       "      <th>2</th>\n",
       "      <td>CatBoostRegressor</td>\n",
       "      <td>180</td>\n",
       "      <td>22.55</td>\n",
       "      <td>29.38</td>\n",
       "    </tr>\n",
       "  </tbody>\n",
       "</table>\n",
       "</div>"
      ],
      "text/plain": [
       "              Name model Max_lag  AVG RMSE  Full data RMSE\n",
       "0       LinearRegression     170     22.64           28.16\n",
       "1  DecisionTreeRegressor     185     26.88           34.96\n",
       "2      CatBoostRegressor     180     22.55           29.38"
      ]
     },
     "execution_count": 34,
     "metadata": {},
     "output_type": "execute_result"
    }
   ],
   "source": [
    "table_estimation"
   ]
  },
  {
   "cell_type": "markdown",
   "metadata": {},
   "source": [
    "* Линейная регрессия и CatBoost регрессия показали близкие результаты средней ошибки RMSE на кросс-валидации (22.64 и 22.55), но линейная регрессия показала лучшие результаты на полных данных - 28.16 против 29.38 у CatBoost регрессии;\n",
    "* Проверка модели линейной регрессии на тестовых данных прошла успешно, значение RMSE = 35.2, что меньше установленного лимита в 48"
   ]
  }
 ],
 "metadata": {
  "ExecuteTimeLog": [
   {
    "duration": 1627,
    "start_time": "2022-10-11T08:32:28.901Z"
   },
   {
    "duration": 151,
    "start_time": "2022-10-11T08:34:20.162Z"
   },
   {
    "duration": 13,
    "start_time": "2022-10-11T08:34:27.261Z"
   },
   {
    "duration": 10,
    "start_time": "2022-10-11T08:34:46.224Z"
   },
   {
    "duration": 45,
    "start_time": "2022-10-11T08:36:37.429Z"
   },
   {
    "duration": 11,
    "start_time": "2022-10-11T08:36:38.421Z"
   },
   {
    "duration": 7,
    "start_time": "2022-10-11T08:36:43.840Z"
   },
   {
    "duration": 43,
    "start_time": "2022-10-11T08:36:58.316Z"
   },
   {
    "duration": 10,
    "start_time": "2022-10-11T08:36:59.401Z"
   },
   {
    "duration": 6,
    "start_time": "2022-10-11T08:37:07.321Z"
   },
   {
    "duration": 137,
    "start_time": "2022-10-11T08:38:55.604Z"
   },
   {
    "duration": 17,
    "start_time": "2022-10-11T08:39:02.581Z"
   },
   {
    "duration": 11,
    "start_time": "2022-10-11T08:39:55.580Z"
   },
   {
    "duration": 50,
    "start_time": "2022-10-11T08:40:21.256Z"
   },
   {
    "duration": 8,
    "start_time": "2022-10-11T08:40:36.372Z"
   },
   {
    "duration": 13,
    "start_time": "2022-10-11T08:41:09.315Z"
   },
   {
    "duration": 7,
    "start_time": "2022-10-11T08:41:15.772Z"
   },
   {
    "duration": 8,
    "start_time": "2022-10-11T08:41:20.292Z"
   },
   {
    "duration": 5,
    "start_time": "2022-10-11T08:42:53.492Z"
   },
   {
    "duration": 12,
    "start_time": "2022-10-11T08:42:54.901Z"
   },
   {
    "duration": 6,
    "start_time": "2022-10-11T08:43:21.872Z"
   },
   {
    "duration": 11,
    "start_time": "2022-10-11T08:45:08.400Z"
   },
   {
    "duration": 4,
    "start_time": "2022-10-11T08:58:08.301Z"
   },
   {
    "duration": 17,
    "start_time": "2022-10-11T08:58:11.185Z"
   },
   {
    "duration": 4,
    "start_time": "2022-10-11T08:58:43.205Z"
   },
   {
    "duration": 5,
    "start_time": "2022-10-11T09:02:48.764Z"
   },
   {
    "duration": 18,
    "start_time": "2022-10-11T09:03:05.366Z"
   },
   {
    "duration": 3,
    "start_time": "2022-10-11T09:03:13.744Z"
   },
   {
    "duration": 4,
    "start_time": "2022-10-11T10:16:19.874Z"
   },
   {
    "duration": 3,
    "start_time": "2022-10-11T10:16:35.489Z"
   },
   {
    "duration": 5,
    "start_time": "2022-10-11T10:17:12.501Z"
   },
   {
    "duration": 10,
    "start_time": "2022-10-11T10:18:25.070Z"
   },
   {
    "duration": 7,
    "start_time": "2022-10-11T10:19:37.789Z"
   },
   {
    "duration": 3,
    "start_time": "2022-10-11T10:20:46.950Z"
   },
   {
    "duration": 8,
    "start_time": "2022-10-11T10:21:20.310Z"
   },
   {
    "duration": 5,
    "start_time": "2022-10-11T10:25:10.978Z"
   },
   {
    "duration": 12,
    "start_time": "2022-10-11T10:25:27.049Z"
   },
   {
    "duration": 14,
    "start_time": "2022-10-11T10:25:45.960Z"
   },
   {
    "duration": 14,
    "start_time": "2022-10-11T10:26:08.490Z"
   },
   {
    "duration": 3,
    "start_time": "2022-10-11T10:27:00.019Z"
   },
   {
    "duration": 10,
    "start_time": "2022-10-11T10:27:01.431Z"
   },
   {
    "duration": 11,
    "start_time": "2022-10-11T10:28:25.424Z"
   },
   {
    "duration": 5,
    "start_time": "2022-10-11T10:30:17.648Z"
   },
   {
    "duration": 5,
    "start_time": "2022-10-11T10:31:06.840Z"
   },
   {
    "duration": 13,
    "start_time": "2022-10-11T10:31:49.480Z"
   },
   {
    "duration": 8,
    "start_time": "2022-10-11T10:49:32.548Z"
   },
   {
    "duration": 8,
    "start_time": "2022-10-11T10:49:49.776Z"
   },
   {
    "duration": 8,
    "start_time": "2022-10-11T10:50:05.220Z"
   },
   {
    "duration": 5,
    "start_time": "2022-10-11T10:54:48.496Z"
   },
   {
    "duration": 15,
    "start_time": "2022-10-11T10:54:49.201Z"
   },
   {
    "duration": 3,
    "start_time": "2022-10-11T10:55:19.900Z"
   },
   {
    "duration": 18,
    "start_time": "2022-10-11T10:55:27.721Z"
   },
   {
    "duration": 21,
    "start_time": "2022-10-11T10:56:18.588Z"
   },
   {
    "duration": 4,
    "start_time": "2022-10-11T10:58:10.388Z"
   },
   {
    "duration": 14,
    "start_time": "2022-10-11T10:58:11.588Z"
   },
   {
    "duration": 3,
    "start_time": "2022-10-11T10:58:18.128Z"
   },
   {
    "duration": 26,
    "start_time": "2022-10-11T10:58:19.290Z"
   },
   {
    "duration": 5,
    "start_time": "2022-10-11T10:58:40.810Z"
   },
   {
    "duration": 23,
    "start_time": "2022-10-11T10:58:44.109Z"
   },
   {
    "duration": 4,
    "start_time": "2022-10-11T10:59:10.588Z"
   },
   {
    "duration": 12,
    "start_time": "2022-10-11T10:59:14.801Z"
   },
   {
    "duration": 5,
    "start_time": "2022-10-11T11:00:22.329Z"
   },
   {
    "duration": 200,
    "start_time": "2022-10-11T11:00:27.196Z"
   },
   {
    "duration": 4,
    "start_time": "2022-10-11T11:06:26.489Z"
   },
   {
    "duration": 4,
    "start_time": "2022-10-11T11:06:39.089Z"
   },
   {
    "duration": 100,
    "start_time": "2022-10-11T11:06:49.313Z"
   },
   {
    "duration": 5,
    "start_time": "2022-10-11T11:07:12.381Z"
   },
   {
    "duration": 14,
    "start_time": "2022-10-11T11:07:16.528Z"
   },
   {
    "duration": 4,
    "start_time": "2022-10-11T11:08:03.781Z"
   },
   {
    "duration": 37,
    "start_time": "2022-10-11T11:08:13.465Z"
   },
   {
    "duration": 14,
    "start_time": "2022-10-11T11:09:49.210Z"
   },
   {
    "duration": 5,
    "start_time": "2022-10-11T11:09:58.971Z"
   },
   {
    "duration": 10,
    "start_time": "2022-10-11T11:10:02.449Z"
   },
   {
    "duration": 6,
    "start_time": "2022-10-11T11:10:47.911Z"
   },
   {
    "duration": 15,
    "start_time": "2022-10-11T11:10:58.711Z"
   },
   {
    "duration": 85,
    "start_time": "2022-10-11T11:11:02.317Z"
   },
   {
    "duration": 19,
    "start_time": "2022-10-11T11:11:08.569Z"
   },
   {
    "duration": 26,
    "start_time": "2022-10-11T11:14:02.147Z"
   },
   {
    "duration": 5,
    "start_time": "2022-10-11T11:26:59.377Z"
   },
   {
    "duration": 14,
    "start_time": "2022-10-11T11:27:13.227Z"
   },
   {
    "duration": 4,
    "start_time": "2022-10-11T11:29:19.388Z"
   },
   {
    "duration": 15,
    "start_time": "2022-10-11T11:29:23.628Z"
   },
   {
    "duration": 5,
    "start_time": "2022-10-11T11:32:17.688Z"
   },
   {
    "duration": 18,
    "start_time": "2022-10-11T11:32:22.600Z"
   },
   {
    "duration": 25,
    "start_time": "2022-10-11T11:32:44.067Z"
   },
   {
    "duration": 5,
    "start_time": "2022-10-11T11:34:52.508Z"
   },
   {
    "duration": 17,
    "start_time": "2022-10-11T11:35:00.488Z"
   },
   {
    "duration": 6,
    "start_time": "2022-10-11T11:35:55.148Z"
   },
   {
    "duration": 15,
    "start_time": "2022-10-11T11:35:58.959Z"
   },
   {
    "duration": 6,
    "start_time": "2022-10-11T11:36:10.708Z"
   },
   {
    "duration": 23,
    "start_time": "2022-10-11T11:36:13.907Z"
   },
   {
    "duration": 37,
    "start_time": "2022-10-11T11:38:01.029Z"
   },
   {
    "duration": 106,
    "start_time": "2022-10-11T11:39:01.196Z"
   },
   {
    "duration": 36,
    "start_time": "2022-10-11T11:39:29.425Z"
   },
   {
    "duration": 4,
    "start_time": "2022-10-11T11:39:35.720Z"
   },
   {
    "duration": 1628,
    "start_time": "2022-10-11T11:39:37.169Z"
   },
   {
    "duration": 5,
    "start_time": "2022-10-11T11:41:17.876Z"
   },
   {
    "duration": 686,
    "start_time": "2022-10-11T11:41:24.109Z"
   },
   {
    "duration": 447,
    "start_time": "2022-10-11T11:43:54.448Z"
   },
   {
    "duration": 5,
    "start_time": "2022-10-11T11:45:54.191Z"
   },
   {
    "duration": 760,
    "start_time": "2022-10-11T11:45:57.848Z"
   },
   {
    "duration": 5,
    "start_time": "2022-10-11T11:46:10.447Z"
   },
   {
    "duration": 1116,
    "start_time": "2022-10-11T11:46:12.779Z"
   },
   {
    "duration": 7,
    "start_time": "2022-10-11T11:51:49.187Z"
   },
   {
    "duration": 1094,
    "start_time": "2022-10-11T11:51:52.607Z"
   },
   {
    "duration": 6,
    "start_time": "2022-10-11T11:52:06.447Z"
   },
   {
    "duration": 602,
    "start_time": "2022-10-11T11:52:06.994Z"
   },
   {
    "duration": 698,
    "start_time": "2022-10-11T11:52:25.308Z"
   },
   {
    "duration": 6,
    "start_time": "2022-10-11T11:52:44.968Z"
   },
   {
    "duration": 1013,
    "start_time": "2022-10-11T11:52:45.895Z"
   },
   {
    "duration": 63780,
    "start_time": "2022-10-11T11:58:11.715Z"
   },
   {
    "duration": 3,
    "start_time": "2022-10-11T11:59:45.387Z"
   },
   {
    "duration": 159452,
    "start_time": "2022-10-11T12:00:12.554Z"
   },
   {
    "duration": 4,
    "start_time": "2022-10-11T12:03:07.990Z"
   },
   {
    "duration": 943,
    "start_time": "2022-10-11T12:03:49.267Z"
   },
   {
    "duration": 10,
    "start_time": "2022-10-11T12:04:47.669Z"
   },
   {
    "duration": 243,
    "start_time": "2022-10-11T12:05:15.270Z"
   },
   {
    "duration": 9,
    "start_time": "2022-10-11T12:05:31.297Z"
   },
   {
    "duration": 4,
    "start_time": "2022-10-11T12:06:19.674Z"
   },
   {
    "duration": 128113,
    "start_time": "2022-10-11T12:07:52.489Z"
   },
   {
    "duration": 5,
    "start_time": "2022-10-11T12:10:14.761Z"
   },
   {
    "duration": 53,
    "start_time": "2022-10-11T12:10:14.771Z"
   },
   {
    "duration": 7,
    "start_time": "2022-10-11T12:10:14.826Z"
   },
   {
    "duration": 5,
    "start_time": "2022-10-11T12:10:14.834Z"
   },
   {
    "duration": 12,
    "start_time": "2022-10-11T12:10:14.841Z"
   },
   {
    "duration": 8,
    "start_time": "2022-10-11T12:10:14.855Z"
   },
   {
    "duration": 8,
    "start_time": "2022-10-11T12:10:14.864Z"
   },
   {
    "duration": 11,
    "start_time": "2022-10-11T12:10:14.895Z"
   },
   {
    "duration": 5,
    "start_time": "2022-10-11T12:10:14.908Z"
   },
   {
    "duration": 946,
    "start_time": "2022-10-11T12:10:14.915Z"
   },
   {
    "duration": 7,
    "start_time": "2022-10-11T12:10:30.930Z"
   },
   {
    "duration": 5,
    "start_time": "2022-10-11T12:10:37.234Z"
   },
   {
    "duration": 3,
    "start_time": "2022-10-11T12:10:52.270Z"
   },
   {
    "duration": 299490,
    "start_time": "2022-10-11T12:11:11.017Z"
   },
   {
    "duration": 100,
    "start_time": "2022-10-11T12:16:10.510Z"
   },
   {
    "duration": 5,
    "start_time": "2022-10-11T12:18:11.389Z"
   },
   {
    "duration": 5,
    "start_time": "2022-10-11T12:20:26.002Z"
   },
   {
    "duration": 5,
    "start_time": "2022-10-11T12:20:49.449Z"
   },
   {
    "duration": 48,
    "start_time": "2022-10-11T12:20:49.458Z"
   },
   {
    "duration": 8,
    "start_time": "2022-10-11T12:20:49.508Z"
   },
   {
    "duration": 9,
    "start_time": "2022-10-11T12:20:49.517Z"
   },
   {
    "duration": 11,
    "start_time": "2022-10-11T12:20:49.527Z"
   },
   {
    "duration": 8,
    "start_time": "2022-10-11T12:20:49.540Z"
   },
   {
    "duration": 8,
    "start_time": "2022-10-11T12:20:49.550Z"
   },
   {
    "duration": 5,
    "start_time": "2022-10-11T12:21:05.998Z"
   },
   {
    "duration": 7,
    "start_time": "2022-10-11T12:21:11.999Z"
   },
   {
    "duration": 63158,
    "start_time": "2022-10-11T12:21:40.450Z"
   },
   {
    "duration": 10,
    "start_time": "2022-10-11T12:23:51.029Z"
   },
   {
    "duration": 4,
    "start_time": "2022-10-11T12:23:54.990Z"
   },
   {
    "duration": 132,
    "start_time": "2022-10-11T12:24:37.225Z"
   },
   {
    "duration": 679,
    "start_time": "2022-10-11T12:24:38.127Z"
   },
   {
    "duration": 871,
    "start_time": "2022-10-11T12:24:46.127Z"
   },
   {
    "duration": 72,
    "start_time": "2022-10-11T12:25:16.006Z"
   },
   {
    "duration": 310,
    "start_time": "2022-10-11T12:25:16.495Z"
   },
   {
    "duration": 56,
    "start_time": "2022-10-11T12:25:23.587Z"
   },
   {
    "duration": 154,
    "start_time": "2022-10-11T12:25:24.445Z"
   },
   {
    "duration": 5,
    "start_time": "2022-10-11T12:26:00.463Z"
   },
   {
    "duration": 99,
    "start_time": "2022-10-11T12:26:16.531Z"
   },
   {
    "duration": 2292,
    "start_time": "2022-10-11T12:26:17.714Z"
   },
   {
    "duration": 122,
    "start_time": "2022-10-11T12:26:25.814Z"
   },
   {
    "duration": 470,
    "start_time": "2022-10-11T12:26:28.126Z"
   },
   {
    "duration": 134,
    "start_time": "2022-10-11T12:26:32.298Z"
   },
   {
    "duration": 1183,
    "start_time": "2022-10-11T12:26:34.117Z"
   },
   {
    "duration": 127,
    "start_time": "2022-10-11T12:26:54.886Z"
   },
   {
    "duration": 326,
    "start_time": "2022-10-11T12:26:55.687Z"
   },
   {
    "duration": 134,
    "start_time": "2022-10-11T12:27:12.967Z"
   },
   {
    "duration": 468,
    "start_time": "2022-10-11T12:27:13.926Z"
   },
   {
    "duration": 136,
    "start_time": "2022-10-11T12:27:20.467Z"
   },
   {
    "duration": 799,
    "start_time": "2022-10-11T12:27:21.006Z"
   },
   {
    "duration": 123,
    "start_time": "2022-10-11T12:27:44.375Z"
   },
   {
    "duration": 658,
    "start_time": "2022-10-11T12:27:45.543Z"
   },
   {
    "duration": 143,
    "start_time": "2022-10-11T12:28:05.006Z"
   },
   {
    "duration": 2166,
    "start_time": "2022-10-11T12:28:05.834Z"
   },
   {
    "duration": 5,
    "start_time": "2022-10-11T12:28:56.286Z"
   },
   {
    "duration": 120,
    "start_time": "2022-10-11T12:29:08.299Z"
   },
   {
    "duration": 295,
    "start_time": "2022-10-11T12:29:10.526Z"
   },
   {
    "duration": 126,
    "start_time": "2022-10-11T12:29:20.266Z"
   },
   {
    "duration": 885,
    "start_time": "2022-10-11T12:29:20.815Z"
   },
   {
    "duration": 12,
    "start_time": "2022-10-11T12:30:56.746Z"
   },
   {
    "duration": 76,
    "start_time": "2022-10-11T12:39:17.186Z"
   },
   {
    "duration": 12,
    "start_time": "2022-10-11T12:39:22.746Z"
   },
   {
    "duration": 23,
    "start_time": "2022-10-11T12:39:32.867Z"
   },
   {
    "duration": 180095,
    "start_time": "2022-10-11T12:40:08.606Z"
   },
   {
    "duration": 6,
    "start_time": "2022-10-11T12:43:08.704Z"
   },
   {
    "duration": 214,
    "start_time": "2022-10-11T12:43:08.712Z"
   },
   {
    "duration": 174,
    "start_time": "2022-10-11T12:43:08.928Z"
   },
   {
    "duration": 5,
    "start_time": "2022-10-11T12:44:01.646Z"
   },
   {
    "duration": 659828,
    "start_time": "2022-10-11T12:44:19.566Z"
   },
   {
    "duration": 8,
    "start_time": "2022-10-11T12:55:19.396Z"
   },
   {
    "duration": 221,
    "start_time": "2022-10-11T12:55:19.410Z"
   },
   {
    "duration": 1074,
    "start_time": "2022-10-11T12:55:19.634Z"
   },
   {
    "duration": 13,
    "start_time": "2022-10-11T12:56:38.164Z"
   },
   {
    "duration": 5,
    "start_time": "2022-10-11T12:56:54.993Z"
   },
   {
    "duration": 43780,
    "start_time": "2022-10-11T12:56:59.117Z"
   },
   {
    "duration": 3,
    "start_time": "2022-10-11T12:58:08.212Z"
   },
   {
    "duration": 123,
    "start_time": "2022-10-11T12:58:08.385Z"
   },
   {
    "duration": 258,
    "start_time": "2022-10-11T12:58:08.545Z"
   },
   {
    "duration": 25214,
    "start_time": "2022-10-11T12:58:45.785Z"
   },
   {
    "duration": 4,
    "start_time": "2022-10-11T12:59:50.372Z"
   },
   {
    "duration": 128,
    "start_time": "2022-10-11T12:59:51.705Z"
   },
   {
    "duration": 314,
    "start_time": "2022-10-11T12:59:55.085Z"
   },
   {
    "duration": 19033,
    "start_time": "2022-10-11T13:00:13.166Z"
   },
   {
    "duration": 94,
    "start_time": "2022-10-11T13:00:32.205Z"
   },
   {
    "duration": 209,
    "start_time": "2022-10-11T13:00:32.305Z"
   },
   {
    "duration": 379,
    "start_time": "2022-10-11T13:00:32.516Z"
   },
   {
    "duration": 9,
    "start_time": "2022-10-12T07:33:01.804Z"
   },
   {
    "duration": 7,
    "start_time": "2022-10-12T07:33:09.197Z"
   },
   {
    "duration": 9,
    "start_time": "2022-10-12T07:33:40.205Z"
   },
   {
    "duration": 1725,
    "start_time": "2022-10-12T07:33:45.265Z"
   },
   {
    "duration": 139,
    "start_time": "2022-10-12T07:33:46.992Z"
   },
   {
    "duration": 10,
    "start_time": "2022-10-12T07:33:47.132Z"
   },
   {
    "duration": 4,
    "start_time": "2022-10-12T07:33:47.144Z"
   },
   {
    "duration": 12,
    "start_time": "2022-10-12T07:33:47.149Z"
   },
   {
    "duration": 12,
    "start_time": "2022-10-12T07:33:47.162Z"
   },
   {
    "duration": 5,
    "start_time": "2022-10-12T07:33:47.176Z"
   },
   {
    "duration": 20,
    "start_time": "2022-10-12T07:33:47.183Z"
   },
   {
    "duration": 8,
    "start_time": "2022-10-12T07:33:47.205Z"
   },
   {
    "duration": 939,
    "start_time": "2022-10-12T07:33:47.216Z"
   },
   {
    "duration": 2,
    "start_time": "2022-10-12T07:33:48.157Z"
   },
   {
    "duration": 7,
    "start_time": "2022-10-12T07:33:48.161Z"
   },
   {
    "duration": 5,
    "start_time": "2022-10-12T07:33:48.170Z"
   },
   {
    "duration": 3,
    "start_time": "2022-10-12T07:37:01.436Z"
   },
   {
    "duration": 3501,
    "start_time": "2022-10-12T07:37:01.676Z"
   },
   {
    "duration": 0,
    "start_time": "2022-10-12T07:37:05.179Z"
   },
   {
    "duration": 0,
    "start_time": "2022-10-12T07:37:05.179Z"
   },
   {
    "duration": 0,
    "start_time": "2022-10-12T07:37:05.180Z"
   },
   {
    "duration": 841,
    "start_time": "2022-10-12T07:38:14.757Z"
   },
   {
    "duration": 2040,
    "start_time": "2022-10-12T07:40:50.476Z"
   },
   {
    "duration": 3,
    "start_time": "2022-10-12T07:41:51.155Z"
   },
   {
    "duration": 48573,
    "start_time": "2022-10-12T07:41:55.736Z"
   },
   {
    "duration": 83,
    "start_time": "2022-10-12T07:42:44.317Z"
   },
   {
    "duration": 219,
    "start_time": "2022-10-12T07:42:44.407Z"
   },
   {
    "duration": 487,
    "start_time": "2022-10-12T07:42:44.627Z"
   },
   {
    "duration": 4,
    "start_time": "2022-10-12T08:13:42.357Z"
   },
   {
    "duration": 3,
    "start_time": "2022-10-12T08:14:40.338Z"
   },
   {
    "duration": 76408,
    "start_time": "2022-10-12T08:18:57.406Z"
   },
   {
    "duration": 197746,
    "start_time": "2022-10-12T08:20:34.666Z"
   },
   {
    "duration": 3,
    "start_time": "2022-10-12T08:23:52.414Z"
   },
   {
    "duration": 134,
    "start_time": "2022-10-12T08:24:39.566Z"
   },
   {
    "duration": 159,
    "start_time": "2022-10-12T08:24:40.879Z"
   },
   {
    "duration": 94506,
    "start_time": "2022-10-12T08:24:58.278Z"
   },
   {
    "duration": 10,
    "start_time": "2022-10-12T08:26:32.786Z"
   },
   {
    "duration": 143,
    "start_time": "2022-10-12T08:26:32.798Z"
   },
   {
    "duration": 167,
    "start_time": "2022-10-12T08:26:32.943Z"
   },
   {
    "duration": 5,
    "start_time": "2022-10-12T08:32:41.846Z"
   },
   {
    "duration": 3,
    "start_time": "2022-10-12T08:36:01.814Z"
   },
   {
    "duration": 112,
    "start_time": "2022-10-12T08:36:27.826Z"
   },
   {
    "duration": 3,
    "start_time": "2022-10-12T08:36:28.054Z"
   },
   {
    "duration": 20459,
    "start_time": "2022-10-12T08:36:31.734Z"
   },
   {
    "duration": 4,
    "start_time": "2022-10-12T08:37:47.062Z"
   },
   {
    "duration": 5027,
    "start_time": "2022-10-12T08:37:48.343Z"
   },
   {
    "duration": 4,
    "start_time": "2022-10-12T08:38:44.794Z"
   },
   {
    "duration": 1600,
    "start_time": "2022-10-12T08:38:45.526Z"
   },
   {
    "duration": 3,
    "start_time": "2022-10-12T08:38:57.874Z"
   },
   {
    "duration": 1636,
    "start_time": "2022-10-12T08:38:58.475Z"
   },
   {
    "duration": 3,
    "start_time": "2022-10-12T08:39:14.870Z"
   },
   {
    "duration": 2763,
    "start_time": "2022-10-12T08:39:15.567Z"
   },
   {
    "duration": 3,
    "start_time": "2022-10-12T08:41:03.894Z"
   },
   {
    "duration": 363211,
    "start_time": "2022-10-12T08:41:04.415Z"
   },
   {
    "duration": 4,
    "start_time": "2022-10-12T08:47:07.628Z"
   },
   {
    "duration": 114,
    "start_time": "2022-10-12T08:47:54.162Z"
   },
   {
    "duration": 3,
    "start_time": "2022-10-12T08:48:12.943Z"
   },
   {
    "duration": 4392,
    "start_time": "2022-10-12T08:48:13.156Z"
   },
   {
    "duration": 4,
    "start_time": "2022-10-12T08:51:09.563Z"
   },
   {
    "duration": 3,
    "start_time": "2022-10-12T08:51:13.275Z"
   },
   {
    "duration": 2794,
    "start_time": "2022-10-12T08:52:21.933Z"
   },
   {
    "duration": 4,
    "start_time": "2022-10-12T08:52:38.416Z"
   },
   {
    "duration": 3,
    "start_time": "2022-10-12T08:52:38.627Z"
   },
   {
    "duration": 82718,
    "start_time": "2022-10-12T08:52:38.787Z"
   },
   {
    "duration": 3,
    "start_time": "2022-10-12T08:54:10.906Z"
   },
   {
    "duration": 267873,
    "start_time": "2022-10-12T08:56:53.790Z"
   },
   {
    "duration": 4,
    "start_time": "2022-10-12T09:01:21.665Z"
   },
   {
    "duration": 77,
    "start_time": "2022-10-12T09:01:54.233Z"
   },
   {
    "duration": 3,
    "start_time": "2022-10-12T09:01:54.461Z"
   },
   {
    "duration": 2518,
    "start_time": "2022-10-12T09:01:54.934Z"
   },
   {
    "duration": 9,
    "start_time": "2022-10-12T09:03:45.813Z"
   },
   {
    "duration": 10,
    "start_time": "2022-10-12T09:03:55.670Z"
   },
   {
    "duration": 196,
    "start_time": "2022-10-12T09:04:34.071Z"
   },
   {
    "duration": 198,
    "start_time": "2022-10-12T09:04:55.285Z"
   },
   {
    "duration": 95,
    "start_time": "2022-10-12T09:05:56.053Z"
   },
   {
    "duration": 210,
    "start_time": "2022-10-12T09:06:43.233Z"
   },
   {
    "duration": 208,
    "start_time": "2022-10-12T09:06:48.213Z"
   },
   {
    "duration": 198,
    "start_time": "2022-10-12T09:06:51.534Z"
   },
   {
    "duration": 154,
    "start_time": "2022-10-12T09:07:04.314Z"
   },
   {
    "duration": 83,
    "start_time": "2022-10-12T09:07:28.833Z"
   },
   {
    "duration": 167201,
    "start_time": "2022-10-12T09:09:28.174Z"
   },
   {
    "duration": 4,
    "start_time": "2022-10-12T09:12:15.376Z"
   },
   {
    "duration": 132,
    "start_time": "2022-10-12T09:13:04.021Z"
   },
   {
    "duration": 4,
    "start_time": "2022-10-12T09:13:05.673Z"
   },
   {
    "duration": 1810,
    "start_time": "2022-10-12T09:13:07.534Z"
   },
   {
    "duration": 208,
    "start_time": "2022-10-12T09:13:30.290Z"
   },
   {
    "duration": 3,
    "start_time": "2022-10-12T09:13:30.534Z"
   },
   {
    "duration": 2245,
    "start_time": "2022-10-12T09:13:32.473Z"
   },
   {
    "duration": 257828,
    "start_time": "2022-10-12T09:14:45.302Z"
   },
   {
    "duration": 3,
    "start_time": "2022-10-12T09:19:03.132Z"
   },
   {
    "duration": 243,
    "start_time": "2022-10-12T09:20:16.533Z"
   },
   {
    "duration": 3,
    "start_time": "2022-10-12T09:20:16.933Z"
   },
   {
    "duration": 2655,
    "start_time": "2022-10-12T09:20:17.393Z"
   },
   {
    "duration": 13107,
    "start_time": "2022-10-12T09:21:25.014Z"
   },
   {
    "duration": 882757,
    "start_time": "2022-10-12T09:21:42.521Z"
   },
   {
    "duration": 3,
    "start_time": "2022-10-12T09:36:25.280Z"
   },
   {
    "duration": 117,
    "start_time": "2022-10-12T09:36:47.014Z"
   },
   {
    "duration": 4,
    "start_time": "2022-10-12T09:36:52.964Z"
   },
   {
    "duration": 2135,
    "start_time": "2022-10-12T09:36:54.309Z"
   },
   {
    "duration": 8,
    "start_time": "2022-10-12T09:37:56.074Z"
   },
   {
    "duration": 8,
    "start_time": "2022-10-12T09:39:45.615Z"
   },
   {
    "duration": 5404,
    "start_time": "2022-10-12T09:40:17.526Z"
   },
   {
    "duration": 1482302,
    "start_time": "2022-10-12T09:41:07.653Z"
   },
   {
    "duration": 3,
    "start_time": "2022-10-12T10:05:49.958Z"
   },
   {
    "duration": 120,
    "start_time": "2022-10-12T10:06:10.546Z"
   },
   {
    "duration": 3,
    "start_time": "2022-10-12T10:06:10.833Z"
   },
   {
    "duration": 2014,
    "start_time": "2022-10-12T10:06:11.950Z"
   },
   {
    "duration": 1451,
    "start_time": "2022-10-14T10:21:57.908Z"
   },
   {
    "duration": 145,
    "start_time": "2022-10-14T10:21:59.361Z"
   },
   {
    "duration": 8,
    "start_time": "2022-10-14T10:21:59.507Z"
   },
   {
    "duration": 13,
    "start_time": "2022-10-14T10:21:59.516Z"
   },
   {
    "duration": 13,
    "start_time": "2022-10-14T10:21:59.531Z"
   },
   {
    "duration": 11,
    "start_time": "2022-10-14T10:21:59.546Z"
   },
   {
    "duration": 5,
    "start_time": "2022-10-14T10:21:59.558Z"
   },
   {
    "duration": 2,
    "start_time": "2022-10-14T10:29:43.570Z"
   },
   {
    "duration": 5,
    "start_time": "2022-10-14T10:29:44.123Z"
   },
   {
    "duration": 5,
    "start_time": "2022-10-14T10:29:46.410Z"
   },
   {
    "duration": 144,
    "start_time": "2022-10-14T10:31:15.223Z"
   },
   {
    "duration": 3,
    "start_time": "2022-10-14T10:31:27.983Z"
   },
   {
    "duration": 1590,
    "start_time": "2022-10-14T10:31:30.355Z"
   },
   {
    "duration": 4,
    "start_time": "2022-10-14T10:31:44.143Z"
   },
   {
    "duration": 1670,
    "start_time": "2022-10-14T10:31:45.772Z"
   },
   {
    "duration": 6,
    "start_time": "2022-10-14T10:33:36.869Z"
   },
   {
    "duration": 110,
    "start_time": "2022-10-14T10:33:51.408Z"
   },
   {
    "duration": 5,
    "start_time": "2022-10-14T10:35:58.265Z"
   },
   {
    "duration": 149,
    "start_time": "2022-10-14T10:36:06.013Z"
   },
   {
    "duration": 3,
    "start_time": "2022-10-14T10:36:23.236Z"
   },
   {
    "duration": 2218,
    "start_time": "2022-10-14T10:36:25.124Z"
   },
   {
    "duration": 9,
    "start_time": "2022-10-14T10:36:43.892Z"
   },
   {
    "duration": 21,
    "start_time": "2022-10-14T10:36:53.748Z"
   },
   {
    "duration": 5,
    "start_time": "2022-10-14T10:38:32.498Z"
   },
   {
    "duration": 122,
    "start_time": "2022-10-14T10:38:52.294Z"
   },
   {
    "duration": 20,
    "start_time": "2022-10-14T10:38:52.790Z"
   },
   {
    "duration": 228,
    "start_time": "2022-10-14T10:39:34.957Z"
   },
   {
    "duration": 3,
    "start_time": "2022-10-14T10:39:41.758Z"
   },
   {
    "duration": 1691,
    "start_time": "2022-10-14T10:39:47.897Z"
   },
   {
    "duration": 3,
    "start_time": "2022-10-14T10:40:46.038Z"
   },
   {
    "duration": 2450,
    "start_time": "2022-10-14T10:40:47.338Z"
   },
   {
    "duration": 3,
    "start_time": "2022-10-14T10:41:02.538Z"
   },
   {
    "duration": 1877,
    "start_time": "2022-10-14T10:41:03.070Z"
   },
   {
    "duration": 3,
    "start_time": "2022-10-14T10:41:08.539Z"
   },
   {
    "duration": 1520,
    "start_time": "2022-10-14T10:41:09.050Z"
   },
   {
    "duration": 2284,
    "start_time": "2022-10-14T10:41:40.771Z"
   },
   {
    "duration": 1899,
    "start_time": "2022-10-14T10:42:07.887Z"
   },
   {
    "duration": 23,
    "start_time": "2022-10-14T10:42:21.754Z"
   },
   {
    "duration": 780,
    "start_time": "2022-10-14T10:43:55.055Z"
   },
   {
    "duration": 112,
    "start_time": "2022-10-14T10:44:25.235Z"
   },
   {
    "duration": 8,
    "start_time": "2022-10-14T10:44:30.615Z"
   },
   {
    "duration": 1653,
    "start_time": "2022-10-14T10:45:05.075Z"
   },
   {
    "duration": 4,
    "start_time": "2022-10-14T10:45:13.015Z"
   },
   {
    "duration": 17,
    "start_time": "2022-10-14T10:45:16.437Z"
   },
   {
    "duration": 3,
    "start_time": "2022-10-14T10:45:34.227Z"
   },
   {
    "duration": 1490,
    "start_time": "2022-10-14T10:45:34.867Z"
   },
   {
    "duration": 626,
    "start_time": "2022-10-14T10:45:47.787Z"
   },
   {
    "duration": 2,
    "start_time": "2022-10-14T10:46:35.059Z"
   },
   {
    "duration": 18992,
    "start_time": "2022-10-14T10:46:39.535Z"
   },
   {
    "duration": 93,
    "start_time": "2022-10-14T10:46:58.530Z"
   },
   {
    "duration": 202,
    "start_time": "2022-10-14T10:46:58.625Z"
   },
   {
    "duration": 295,
    "start_time": "2022-10-14T10:46:58.829Z"
   },
   {
    "duration": 4,
    "start_time": "2022-10-14T10:56:39.304Z"
   },
   {
    "duration": 3,
    "start_time": "2022-10-14T10:58:00.625Z"
   },
   {
    "duration": 74,
    "start_time": "2022-10-14T10:58:05.805Z"
   },
   {
    "duration": 81,
    "start_time": "2022-10-14T10:58:15.550Z"
   },
   {
    "duration": 186,
    "start_time": "2022-10-14T10:58:32.741Z"
   },
   {
    "duration": 3,
    "start_time": "2022-10-14T11:00:02.662Z"
   },
   {
    "duration": 42010,
    "start_time": "2022-10-14T11:00:03.602Z"
   },
   {
    "duration": 0,
    "start_time": "2022-10-14T11:00:45.622Z"
   },
   {
    "duration": 145,
    "start_time": "2022-10-14T11:00:54.782Z"
   },
   {
    "duration": 2,
    "start_time": "2022-10-14T11:01:44.302Z"
   },
   {
    "duration": 223,
    "start_time": "2022-10-14T11:01:54.102Z"
   },
   {
    "duration": 385,
    "start_time": "2022-10-14T11:01:54.340Z"
   },
   {
    "duration": 81,
    "start_time": "2022-10-14T11:02:14.040Z"
   },
   {
    "duration": 68,
    "start_time": "2022-10-14T11:02:14.659Z"
   },
   {
    "duration": 126,
    "start_time": "2022-10-14T11:02:16.599Z"
   },
   {
    "duration": 3,
    "start_time": "2022-10-14T11:02:33.160Z"
   },
   {
    "duration": 191,
    "start_time": "2022-10-14T11:02:37.440Z"
   },
   {
    "duration": 203,
    "start_time": "2022-10-14T11:02:39.120Z"
   },
   {
    "duration": 130,
    "start_time": "2022-10-14T11:03:16.121Z"
   },
   {
    "duration": 148,
    "start_time": "2022-10-14T11:03:16.681Z"
   },
   {
    "duration": 185,
    "start_time": "2022-10-14T11:03:17.642Z"
   },
   {
    "duration": 3,
    "start_time": "2022-10-14T11:04:19.561Z"
   },
   {
    "duration": 84695,
    "start_time": "2022-10-14T11:04:19.841Z"
   },
   {
    "duration": 3,
    "start_time": "2022-10-14T11:05:44.538Z"
   },
   {
    "duration": 129,
    "start_time": "2022-10-14T11:05:44.543Z"
   },
   {
    "duration": 139,
    "start_time": "2022-10-14T11:05:44.673Z"
   },
   {
    "duration": 150,
    "start_time": "2022-10-14T11:05:44.813Z"
   },
   {
    "duration": 128,
    "start_time": "2022-10-14T11:09:15.673Z"
   },
   {
    "duration": 7266,
    "start_time": "2022-10-14T11:10:01.321Z"
   },
   {
    "duration": 0,
    "start_time": "2022-10-14T11:10:08.588Z"
   },
   {
    "duration": 0,
    "start_time": "2022-10-14T11:10:08.591Z"
   },
   {
    "duration": 0,
    "start_time": "2022-10-14T11:10:08.592Z"
   },
   {
    "duration": 0,
    "start_time": "2022-10-14T11:10:08.593Z"
   },
   {
    "duration": 0,
    "start_time": "2022-10-14T11:10:08.594Z"
   },
   {
    "duration": 0,
    "start_time": "2022-10-14T11:10:08.595Z"
   },
   {
    "duration": 0,
    "start_time": "2022-10-14T11:10:08.596Z"
   },
   {
    "duration": 759818,
    "start_time": "2022-10-14T11:10:13.574Z"
   },
   {
    "duration": 3,
    "start_time": "2022-10-14T11:29:51.697Z"
   },
   {
    "duration": 120,
    "start_time": "2022-10-14T11:30:17.515Z"
   },
   {
    "duration": 4,
    "start_time": "2022-10-14T11:30:24.568Z"
   },
   {
    "duration": 1379,
    "start_time": "2022-10-14T11:30:25.744Z"
   },
   {
    "duration": 86,
    "start_time": "2022-10-14T11:31:03.456Z"
   },
   {
    "duration": 3,
    "start_time": "2022-10-14T11:31:10.996Z"
   },
   {
    "duration": 1376,
    "start_time": "2022-10-14T11:31:12.834Z"
   },
   {
    "duration": 3,
    "start_time": "2022-10-14T11:31:24.964Z"
   },
   {
    "duration": 8846,
    "start_time": "2022-10-14T11:31:25.968Z"
   },
   {
    "duration": 3,
    "start_time": "2022-10-14T11:31:49.056Z"
   },
   {
    "duration": 8368,
    "start_time": "2022-10-14T11:31:49.888Z"
   },
   {
    "duration": 3,
    "start_time": "2022-10-14T11:32:05.116Z"
   },
   {
    "duration": 20462,
    "start_time": "2022-10-14T11:32:05.864Z"
   },
   {
    "duration": 3,
    "start_time": "2022-10-14T11:32:30.296Z"
   },
   {
    "duration": 40845,
    "start_time": "2022-10-14T11:32:31.025Z"
   },
   {
    "duration": 4,
    "start_time": "2022-10-14T11:33:32.168Z"
   },
   {
    "duration": 39219,
    "start_time": "2022-10-14T11:33:32.828Z"
   },
   {
    "duration": 4,
    "start_time": "2022-10-14T11:34:24.452Z"
   },
   {
    "duration": 39169,
    "start_time": "2022-10-14T11:34:25.187Z"
   },
   {
    "duration": 4,
    "start_time": "2022-10-14T11:35:23.724Z"
   },
   {
    "duration": 3,
    "start_time": "2022-10-14T11:35:37.696Z"
   },
   {
    "duration": 79932,
    "start_time": "2022-10-14T11:35:38.048Z"
   },
   {
    "duration": 5,
    "start_time": "2022-10-14T11:37:07.664Z"
   },
   {
    "duration": 79687,
    "start_time": "2022-10-14T11:37:07.848Z"
   },
   {
    "duration": 5,
    "start_time": "2022-10-14T11:38:35.844Z"
   },
   {
    "duration": 79688,
    "start_time": "2022-10-14T11:38:36.537Z"
   },
   {
    "duration": 4,
    "start_time": "2022-10-14T11:40:02.965Z"
   },
   {
    "duration": 79143,
    "start_time": "2022-10-14T11:40:03.196Z"
   },
   {
    "duration": 72,
    "start_time": "2022-10-14T11:41:22.341Z"
   },
   {
    "duration": 4,
    "start_time": "2022-10-14T11:41:35.797Z"
   },
   {
    "duration": 21018,
    "start_time": "2022-10-14T11:41:35.985Z"
   },
   {
    "duration": 3,
    "start_time": "2022-10-14T11:42:04.077Z"
   },
   {
    "duration": 21383,
    "start_time": "2022-10-14T11:42:05.498Z"
   },
   {
    "duration": 120,
    "start_time": "2022-10-14T11:42:32.496Z"
   },
   {
    "duration": 3,
    "start_time": "2022-10-14T11:42:32.796Z"
   },
   {
    "duration": 40184,
    "start_time": "2022-10-14T11:42:35.296Z"
   },
   {
    "duration": 4,
    "start_time": "2022-10-14T11:43:21.808Z"
   },
   {
    "duration": 39186,
    "start_time": "2022-10-14T11:43:22.004Z"
   },
   {
    "duration": 3,
    "start_time": "2022-10-14T11:44:12.689Z"
   },
   {
    "duration": 20629,
    "start_time": "2022-10-14T11:44:12.857Z"
   },
   {
    "duration": 3,
    "start_time": "2022-10-14T11:44:38.116Z"
   },
   {
    "duration": 20235,
    "start_time": "2022-10-14T11:44:38.256Z"
   },
   {
    "duration": 4,
    "start_time": "2022-10-14T11:45:12.488Z"
   },
   {
    "duration": 20380,
    "start_time": "2022-10-14T11:45:12.697Z"
   },
   {
    "duration": 18779,
    "start_time": "2022-10-14T11:45:33.079Z"
   },
   {
    "duration": 3,
    "start_time": "2022-10-14T11:45:51.860Z"
   },
   {
    "duration": 8452,
    "start_time": "2022-10-14T11:45:51.865Z"
   },
   {
    "duration": 3,
    "start_time": "2022-10-14T11:46:41.414Z"
   },
   {
    "duration": 8620,
    "start_time": "2022-10-14T11:46:41.568Z"
   },
   {
    "duration": 3,
    "start_time": "2022-10-14T11:47:05.579Z"
   },
   {
    "duration": 8718,
    "start_time": "2022-10-14T11:47:06.517Z"
   },
   {
    "duration": 3,
    "start_time": "2022-10-14T11:47:22.459Z"
   },
   {
    "duration": 8454,
    "start_time": "2022-10-14T11:47:24.157Z"
   },
   {
    "duration": 3,
    "start_time": "2022-10-14T11:47:37.748Z"
   },
   {
    "duration": 4629,
    "start_time": "2022-10-14T11:47:38.993Z"
   },
   {
    "duration": 3,
    "start_time": "2022-10-14T11:47:50.844Z"
   },
   {
    "duration": 2601,
    "start_time": "2022-10-14T11:47:51.136Z"
   },
   {
    "duration": 3,
    "start_time": "2022-10-14T11:48:02.089Z"
   },
   {
    "duration": 3889,
    "start_time": "2022-10-14T11:48:04.039Z"
   },
   {
    "duration": 3,
    "start_time": "2022-10-14T11:48:14.725Z"
   },
   {
    "duration": 4512,
    "start_time": "2022-10-14T11:48:15.778Z"
   },
   {
    "duration": 3,
    "start_time": "2022-10-14T11:48:26.117Z"
   },
   {
    "duration": 6487,
    "start_time": "2022-10-14T11:48:26.717Z"
   },
   {
    "duration": 3,
    "start_time": "2022-10-14T11:48:47.355Z"
   },
   {
    "duration": 19839,
    "start_time": "2022-10-14T11:48:47.785Z"
   },
   {
    "duration": 3,
    "start_time": "2022-10-14T11:49:36.737Z"
   },
   {
    "duration": 8110,
    "start_time": "2022-10-14T11:49:37.677Z"
   },
   {
    "duration": 3,
    "start_time": "2022-10-14T11:50:38.238Z"
   },
   {
    "duration": 10495,
    "start_time": "2022-10-14T11:50:38.927Z"
   },
   {
    "duration": 3,
    "start_time": "2022-10-14T11:51:01.478Z"
   },
   {
    "duration": 12864,
    "start_time": "2022-10-14T11:51:02.417Z"
   },
   {
    "duration": 3,
    "start_time": "2022-10-14T11:51:43.890Z"
   },
   {
    "duration": 8467,
    "start_time": "2022-10-14T11:51:44.125Z"
   },
   {
    "duration": 3,
    "start_time": "2022-10-14T11:51:58.553Z"
   },
   {
    "duration": 6258,
    "start_time": "2022-10-14T11:51:59.029Z"
   },
   {
    "duration": 4,
    "start_time": "2022-10-14T11:52:14.028Z"
   },
   {
    "duration": 7000,
    "start_time": "2022-10-14T11:52:14.789Z"
   },
   {
    "duration": 4,
    "start_time": "2022-10-14T11:52:27.348Z"
   },
   {
    "duration": 6240,
    "start_time": "2022-10-14T11:52:27.757Z"
   },
   {
    "duration": 3,
    "start_time": "2022-10-14T11:52:38.977Z"
   },
   {
    "duration": 5622,
    "start_time": "2022-10-14T11:52:39.213Z"
   },
   {
    "duration": 4,
    "start_time": "2022-10-14T11:52:48.558Z"
   },
   {
    "duration": 5284,
    "start_time": "2022-10-14T11:52:48.745Z"
   },
   {
    "duration": 258656,
    "start_time": "2022-10-14T11:54:32.218Z"
   },
   {
    "duration": 3,
    "start_time": "2022-10-14T11:58:50.876Z"
   },
   {
    "duration": 261769,
    "start_time": "2022-10-14T11:59:50.418Z"
   },
   {
    "duration": 3,
    "start_time": "2022-10-14T12:04:12.189Z"
   },
   {
    "duration": 193961,
    "start_time": "2022-10-14T12:06:13.087Z"
   },
   {
    "duration": 3,
    "start_time": "2022-10-14T12:09:41.628Z"
   },
   {
    "duration": 137361,
    "start_time": "2022-10-14T12:10:17.747Z"
   },
   {
    "duration": 5,
    "start_time": "2022-10-14T12:13:21.934Z"
   },
   {
    "duration": 4,
    "start_time": "2022-10-14T12:13:39.357Z"
   },
   {
    "duration": 119,
    "start_time": "2022-10-14T12:13:45.886Z"
   },
   {
    "duration": 7,
    "start_time": "2022-10-14T12:13:46.834Z"
   },
   {
    "duration": 12531,
    "start_time": "2022-10-14T12:13:47.666Z"
   },
   {
    "duration": 143,
    "start_time": "2022-10-14T12:14:41.940Z"
   },
   {
    "duration": 6,
    "start_time": "2022-10-14T12:14:42.740Z"
   },
   {
    "duration": 110,
    "start_time": "2022-10-14T12:14:59.156Z"
   },
   {
    "duration": 3,
    "start_time": "2022-10-14T12:14:59.366Z"
   },
   {
    "duration": 11762,
    "start_time": "2022-10-14T12:14:59.548Z"
   },
   {
    "duration": 131,
    "start_time": "2022-10-14T12:15:20.424Z"
   },
   {
    "duration": 3,
    "start_time": "2022-10-14T12:15:20.626Z"
   },
   {
    "duration": 12408,
    "start_time": "2022-10-14T12:15:20.774Z"
   },
   {
    "duration": 7,
    "start_time": "2022-10-14T12:20:11.275Z"
   },
   {
    "duration": 4,
    "start_time": "2022-10-14T12:31:51.823Z"
   },
   {
    "duration": 4,
    "start_time": "2022-10-14T12:32:59.390Z"
   },
   {
    "duration": 2,
    "start_time": "2022-10-14T12:33:11.272Z"
   },
   {
    "duration": 102,
    "start_time": "2022-10-14T12:35:57.000Z"
   },
   {
    "duration": 4,
    "start_time": "2022-10-14T12:36:56.902Z"
   },
   {
    "duration": 3,
    "start_time": "2022-10-14T12:37:07.450Z"
   },
   {
    "duration": 11531,
    "start_time": "2022-10-14T12:37:07.590Z"
   },
   {
    "duration": 6,
    "start_time": "2022-10-14T12:37:52.332Z"
   },
   {
    "duration": 136,
    "start_time": "2022-10-14T12:39:22.810Z"
   },
   {
    "duration": 257,
    "start_time": "2022-10-14T12:39:24.773Z"
   },
   {
    "duration": 3,
    "start_time": "2022-10-14T12:40:01.430Z"
   },
   {
    "duration": 4,
    "start_time": "2022-10-14T12:40:06.002Z"
   },
   {
    "duration": 7,
    "start_time": "2022-10-14T12:40:13.509Z"
   },
   {
    "duration": 3,
    "start_time": "2022-10-14T12:41:14.511Z"
   },
   {
    "duration": 10,
    "start_time": "2022-10-14T12:41:21.059Z"
   },
   {
    "duration": 4,
    "start_time": "2022-10-14T12:43:05.892Z"
   },
   {
    "duration": 5,
    "start_time": "2022-10-14T12:43:11.612Z"
   },
   {
    "duration": 4,
    "start_time": "2022-10-14T12:43:11.742Z"
   },
   {
    "duration": 9,
    "start_time": "2022-10-14T12:43:17.670Z"
   },
   {
    "duration": 8,
    "start_time": "2022-10-14T12:43:27.111Z"
   },
   {
    "duration": 6,
    "start_time": "2022-10-14T12:43:27.250Z"
   },
   {
    "duration": 7,
    "start_time": "2022-10-14T12:43:30.712Z"
   },
   {
    "duration": 11,
    "start_time": "2022-10-14T12:43:41.751Z"
   },
   {
    "duration": 4,
    "start_time": "2022-10-14T12:44:09.771Z"
   },
   {
    "duration": 5,
    "start_time": "2022-10-14T12:44:09.979Z"
   },
   {
    "duration": 3,
    "start_time": "2022-10-14T12:44:15.889Z"
   },
   {
    "duration": 25157,
    "start_time": "2022-10-14T12:44:18.169Z"
   },
   {
    "duration": 7,
    "start_time": "2022-10-14T12:44:43.328Z"
   },
   {
    "duration": 87,
    "start_time": "2022-10-14T12:44:43.338Z"
   },
   {
    "duration": 164,
    "start_time": "2022-10-14T12:44:58.891Z"
   },
   {
    "duration": 9,
    "start_time": "2022-10-14T12:44:59.349Z"
   },
   {
    "duration": 866,
    "start_time": "2022-10-14T12:45:04.359Z"
   },
   {
    "duration": 16975,
    "start_time": "2022-10-14T12:45:25.451Z"
   },
   {
    "duration": 94,
    "start_time": "2022-10-14T12:45:42.428Z"
   },
   {
    "duration": 106,
    "start_time": "2022-10-14T12:45:42.524Z"
   },
   {
    "duration": 224,
    "start_time": "2022-10-14T12:45:42.633Z"
   },
   {
    "duration": 476,
    "start_time": "2022-10-14T12:45:42.859Z"
   },
   {
    "duration": 22096,
    "start_time": "2022-10-14T12:47:25.329Z"
   },
   {
    "duration": 7,
    "start_time": "2022-10-14T12:48:02.457Z"
   },
   {
    "duration": 8,
    "start_time": "2022-10-14T12:48:02.757Z"
   },
   {
    "duration": 111,
    "start_time": "2022-10-14T12:48:58.809Z"
   },
   {
    "duration": 135,
    "start_time": "2022-10-14T12:49:00.589Z"
   },
   {
    "duration": 23052,
    "start_time": "2022-10-14T12:50:20.477Z"
   },
   {
    "duration": 92,
    "start_time": "2022-10-14T12:50:43.531Z"
   },
   {
    "duration": 228,
    "start_time": "2022-10-14T12:50:43.625Z"
   },
   {
    "duration": 466,
    "start_time": "2022-10-14T12:50:43.855Z"
   },
   {
    "duration": 7,
    "start_time": "2022-10-14T12:51:02.160Z"
   },
   {
    "duration": 8,
    "start_time": "2022-10-14T12:51:13.990Z"
   },
   {
    "duration": 178,
    "start_time": "2022-10-14T12:51:18.230Z"
   },
   {
    "duration": 335,
    "start_time": "2022-10-14T12:51:18.989Z"
   },
   {
    "duration": 42298,
    "start_time": "2022-10-14T12:52:20.728Z"
   },
   {
    "duration": 98,
    "start_time": "2022-10-14T12:53:03.028Z"
   },
   {
    "duration": 101,
    "start_time": "2022-10-14T12:53:03.128Z"
   },
   {
    "duration": 139,
    "start_time": "2022-10-14T12:53:03.231Z"
   },
   {
    "duration": 357,
    "start_time": "2022-10-14T12:53:03.372Z"
   },
   {
    "duration": 4,
    "start_time": "2022-10-14T12:54:02.653Z"
   },
   {
    "duration": 4,
    "start_time": "2022-10-14T12:54:02.811Z"
   },
   {
    "duration": 28199,
    "start_time": "2022-10-14T12:54:06.034Z"
   },
   {
    "duration": 96,
    "start_time": "2022-10-14T12:54:34.235Z"
   },
   {
    "duration": 93,
    "start_time": "2022-10-14T12:54:34.333Z"
   },
   {
    "duration": 257,
    "start_time": "2022-10-14T12:54:34.429Z"
   },
   {
    "duration": 435,
    "start_time": "2022-10-14T12:54:34.688Z"
   },
   {
    "duration": 17910,
    "start_time": "2022-10-14T12:55:10.711Z"
   },
   {
    "duration": 12,
    "start_time": "2022-10-14T12:55:28.623Z"
   },
   {
    "duration": 98,
    "start_time": "2022-10-14T12:55:28.636Z"
   },
   {
    "duration": 136,
    "start_time": "2022-10-14T12:55:28.736Z"
   },
   {
    "duration": 350,
    "start_time": "2022-10-14T12:55:28.873Z"
   },
   {
    "duration": 17376,
    "start_time": "2022-10-14T12:56:02.148Z"
   },
   {
    "duration": 7,
    "start_time": "2022-10-14T12:56:19.526Z"
   },
   {
    "duration": 97,
    "start_time": "2022-10-14T12:56:19.535Z"
   },
   {
    "duration": 143,
    "start_time": "2022-10-14T12:56:19.635Z"
   },
   {
    "duration": 744,
    "start_time": "2022-10-14T12:56:19.780Z"
   },
   {
    "duration": 1766,
    "start_time": "2022-10-17T08:24:57.031Z"
   },
   {
    "duration": 151,
    "start_time": "2022-10-17T08:24:58.799Z"
   },
   {
    "duration": 10,
    "start_time": "2022-10-17T08:24:58.952Z"
   },
   {
    "duration": 5,
    "start_time": "2022-10-17T08:24:58.964Z"
   },
   {
    "duration": 15,
    "start_time": "2022-10-17T08:24:58.971Z"
   },
   {
    "duration": 13,
    "start_time": "2022-10-17T08:24:58.987Z"
   },
   {
    "duration": 11,
    "start_time": "2022-10-17T08:24:59.001Z"
   },
   {
    "duration": 16,
    "start_time": "2022-10-17T08:24:59.014Z"
   },
   {
    "duration": 5,
    "start_time": "2022-10-17T08:24:59.033Z"
   },
   {
    "duration": 1025,
    "start_time": "2022-10-17T08:24:59.040Z"
   },
   {
    "duration": 3,
    "start_time": "2022-10-17T08:25:00.067Z"
   },
   {
    "duration": 24,
    "start_time": "2022-10-17T08:25:00.072Z"
   },
   {
    "duration": 45,
    "start_time": "2022-10-17T08:25:00.098Z"
   },
   {
    "duration": 40,
    "start_time": "2022-10-17T08:25:00.147Z"
   },
   {
    "duration": 10,
    "start_time": "2022-10-17T08:25:00.189Z"
   },
   {
    "duration": 14,
    "start_time": "2022-10-17T08:25:00.201Z"
   },
   {
    "duration": 85910,
    "start_time": "2022-10-17T08:25:00.217Z"
   },
   {
    "duration": 76,
    "start_time": "2022-10-17T08:26:26.129Z"
   },
   {
    "duration": 20,
    "start_time": "2022-10-17T08:26:26.209Z"
   },
   {
    "duration": 416,
    "start_time": "2022-10-17T08:26:26.231Z"
   },
   {
    "duration": 95850,
    "start_time": "2022-10-17T08:27:55.711Z"
   },
   {
    "duration": 8,
    "start_time": "2022-10-17T08:29:31.563Z"
   },
   {
    "duration": 331054,
    "start_time": "2022-10-17T08:31:39.558Z"
   },
   {
    "duration": 10,
    "start_time": "2022-10-17T08:37:10.614Z"
   },
   {
    "duration": 11,
    "start_time": "2022-10-17T08:37:10.626Z"
   },
   {
    "duration": 284,
    "start_time": "2022-10-17T08:42:50.062Z"
   },
   {
    "duration": 4,
    "start_time": "2022-10-17T08:48:14.822Z"
   },
   {
    "duration": 13,
    "start_time": "2022-10-17T08:48:31.079Z"
   },
   {
    "duration": 297,
    "start_time": "2022-10-17T08:48:36.250Z"
   },
   {
    "duration": 5,
    "start_time": "2022-10-17T08:51:31.340Z"
   },
   {
    "duration": 252,
    "start_time": "2022-10-17T08:51:51.909Z"
   },
   {
    "duration": 4,
    "start_time": "2022-10-17T08:52:22.312Z"
   },
   {
    "duration": 312,
    "start_time": "2022-10-17T08:52:27.170Z"
   },
   {
    "duration": 188,
    "start_time": "2022-10-17T08:53:02.951Z"
   },
   {
    "duration": 9,
    "start_time": "2022-10-17T09:00:17.570Z"
   },
   {
    "duration": 25,
    "start_time": "2022-10-17T09:00:44.978Z"
   },
   {
    "duration": 22,
    "start_time": "2022-10-17T09:00:52.190Z"
   },
   {
    "duration": 230,
    "start_time": "2022-10-17T09:01:18.338Z"
   },
   {
    "duration": 9,
    "start_time": "2022-10-17T09:02:26.270Z"
   },
   {
    "duration": 271,
    "start_time": "2022-10-17T09:02:33.590Z"
   },
   {
    "duration": 221,
    "start_time": "2022-10-17T09:03:16.151Z"
   },
   {
    "duration": 4,
    "start_time": "2022-10-17T09:12:32.882Z"
   },
   {
    "duration": 4,
    "start_time": "2022-10-17T09:12:47.178Z"
   },
   {
    "duration": 223,
    "start_time": "2022-10-17T09:12:51.122Z"
   },
   {
    "duration": 4,
    "start_time": "2022-10-17T09:16:01.138Z"
   },
   {
    "duration": 379,
    "start_time": "2022-10-17T09:16:02.150Z"
   },
   {
    "duration": 3,
    "start_time": "2022-10-17T09:16:39.090Z"
   },
   {
    "duration": 587,
    "start_time": "2022-10-17T09:16:41.032Z"
   },
   {
    "duration": 4,
    "start_time": "2022-10-17T09:16:47.721Z"
   },
   {
    "duration": 316,
    "start_time": "2022-10-17T09:16:48.582Z"
   },
   {
    "duration": 11,
    "start_time": "2022-10-17T09:18:50.901Z"
   },
   {
    "duration": 861,
    "start_time": "2022-10-17T09:18:52.869Z"
   },
   {
    "duration": 4,
    "start_time": "2022-10-17T09:20:34.538Z"
   },
   {
    "duration": 773,
    "start_time": "2022-10-17T09:20:41.310Z"
   },
   {
    "duration": 590,
    "start_time": "2022-10-17T09:21:18.830Z"
   },
   {
    "duration": 797,
    "start_time": "2022-10-17T09:22:36.914Z"
   },
   {
    "duration": 705,
    "start_time": "2022-10-17T09:23:23.610Z"
   },
   {
    "duration": 533,
    "start_time": "2022-10-17T09:23:51.121Z"
   },
   {
    "duration": 754,
    "start_time": "2022-10-17T09:28:01.911Z"
   },
   {
    "duration": 27,
    "start_time": "2022-10-17T09:28:39.390Z"
   },
   {
    "duration": 552,
    "start_time": "2022-10-17T09:28:48.158Z"
   },
   {
    "duration": 16,
    "start_time": "2022-10-17T09:29:24.563Z"
   },
   {
    "duration": 646,
    "start_time": "2022-10-17T09:29:36.139Z"
   },
   {
    "duration": 832,
    "start_time": "2022-10-17T09:29:45.891Z"
   },
   {
    "duration": 631,
    "start_time": "2022-10-17T09:30:01.979Z"
   },
   {
    "duration": 760,
    "start_time": "2022-10-17T09:35:44.670Z"
   },
   {
    "duration": 4,
    "start_time": "2022-10-17T09:35:52.791Z"
   },
   {
    "duration": 618,
    "start_time": "2022-10-17T09:35:53.350Z"
   },
   {
    "duration": 94,
    "start_time": "2022-10-17T09:36:20.711Z"
   },
   {
    "duration": 500,
    "start_time": "2022-10-17T09:36:20.890Z"
   },
   {
    "duration": 5,
    "start_time": "2022-10-17T09:36:37.598Z"
   },
   {
    "duration": 7,
    "start_time": "2022-10-17T09:36:38.470Z"
   },
   {
    "duration": 171,
    "start_time": "2022-10-17T09:36:59.271Z"
   },
   {
    "duration": 7,
    "start_time": "2022-10-17T09:37:19.422Z"
   },
   {
    "duration": 8,
    "start_time": "2022-10-17T09:37:33.319Z"
   },
   {
    "duration": 234,
    "start_time": "2022-10-17T09:38:17.138Z"
   },
   {
    "duration": 5,
    "start_time": "2022-10-17T09:40:22.470Z"
   },
   {
    "duration": 222,
    "start_time": "2022-10-17T09:40:24.711Z"
   },
   {
    "duration": 4,
    "start_time": "2022-10-17T09:41:16.509Z"
   },
   {
    "duration": 771,
    "start_time": "2022-10-17T09:41:17.078Z"
   },
   {
    "duration": 156,
    "start_time": "2022-10-17T09:41:23.410Z"
   },
   {
    "duration": 5,
    "start_time": "2022-10-17T09:43:01.942Z"
   },
   {
    "duration": 248,
    "start_time": "2022-10-17T09:43:06.661Z"
   },
   {
    "duration": 4,
    "start_time": "2022-10-17T09:43:25.703Z"
   },
   {
    "duration": 820,
    "start_time": "2022-10-17T09:43:34.872Z"
   },
   {
    "duration": 5,
    "start_time": "2022-10-17T09:43:58.638Z"
   },
   {
    "duration": 17,
    "start_time": "2022-10-17T09:44:02.611Z"
   },
   {
    "duration": 4,
    "start_time": "2022-10-17T09:44:26.390Z"
   },
   {
    "duration": 19,
    "start_time": "2022-10-17T09:44:29.990Z"
   },
   {
    "duration": 5,
    "start_time": "2022-10-17T09:44:47.251Z"
   },
   {
    "duration": 746,
    "start_time": "2022-10-17T09:44:51.312Z"
   },
   {
    "duration": 174,
    "start_time": "2022-10-17T09:44:53.039Z"
   },
   {
    "duration": 4,
    "start_time": "2022-10-17T09:52:31.571Z"
   },
   {
    "duration": 15,
    "start_time": "2022-10-17T09:52:33.183Z"
   },
   {
    "duration": 5,
    "start_time": "2022-10-17T09:52:44.391Z"
   },
   {
    "duration": 204,
    "start_time": "2022-10-17T09:52:45.750Z"
   },
   {
    "duration": 6,
    "start_time": "2022-10-17T09:53:00.766Z"
   },
   {
    "duration": 243,
    "start_time": "2022-10-17T09:53:01.779Z"
   },
   {
    "duration": 206,
    "start_time": "2022-10-17T09:53:30.325Z"
   },
   {
    "duration": 5,
    "start_time": "2022-10-17T09:55:00.876Z"
   },
   {
    "duration": 185,
    "start_time": "2022-10-17T09:55:01.629Z"
   },
   {
    "duration": 163,
    "start_time": "2022-10-17T09:55:07.268Z"
   },
   {
    "duration": 4,
    "start_time": "2022-10-17T09:55:37.836Z"
   },
   {
    "duration": 185,
    "start_time": "2022-10-17T09:55:38.288Z"
   },
   {
    "duration": 4,
    "start_time": "2022-10-17T09:57:59.508Z"
   },
   {
    "duration": 290,
    "start_time": "2022-10-17T09:58:02.889Z"
   },
   {
    "duration": 167,
    "start_time": "2022-10-17T09:58:06.249Z"
   },
   {
    "duration": 1763,
    "start_time": "2022-10-17T12:14:47.030Z"
   },
   {
    "duration": 305,
    "start_time": "2022-10-17T12:14:48.795Z"
   },
   {
    "duration": 13,
    "start_time": "2022-10-17T12:15:46.956Z"
   },
   {
    "duration": 4,
    "start_time": "2022-10-17T12:17:44.708Z"
   },
   {
    "duration": 11,
    "start_time": "2022-10-17T12:17:45.328Z"
   },
   {
    "duration": 15,
    "start_time": "2022-10-17T12:17:47.188Z"
   },
   {
    "duration": 7,
    "start_time": "2022-10-17T12:17:49.908Z"
   },
   {
    "duration": 9,
    "start_time": "2022-10-17T12:17:56.168Z"
   },
   {
    "duration": 327,
    "start_time": "2022-10-17T12:27:46.726Z"
   },
   {
    "duration": 4,
    "start_time": "2022-10-17T12:29:11.987Z"
   },
   {
    "duration": 356,
    "start_time": "2022-10-17T12:30:01.307Z"
   },
   {
    "duration": 5,
    "start_time": "2022-10-17T12:34:20.666Z"
   },
   {
    "duration": 638,
    "start_time": "2022-10-17T12:34:21.878Z"
   },
   {
    "duration": 4,
    "start_time": "2022-10-17T12:34:38.726Z"
   },
   {
    "duration": 761,
    "start_time": "2022-10-17T12:34:40.798Z"
   },
   {
    "duration": 259,
    "start_time": "2022-10-17T12:40:20.505Z"
   },
   {
    "duration": 3,
    "start_time": "2022-10-17T12:43:50.805Z"
   },
   {
    "duration": 5,
    "start_time": "2022-10-17T12:43:52.746Z"
   },
   {
    "duration": 6,
    "start_time": "2022-10-17T12:45:25.026Z"
   },
   {
    "duration": 4,
    "start_time": "2022-10-17T12:53:05.337Z"
   },
   {
    "duration": 3,
    "start_time": "2022-10-17T12:53:20.037Z"
   },
   {
    "duration": 1354,
    "start_time": "2022-10-17T12:54:20.942Z"
   },
   {
    "duration": 49,
    "start_time": "2022-10-17T12:54:22.298Z"
   },
   {
    "duration": 9,
    "start_time": "2022-10-17T12:54:22.349Z"
   },
   {
    "duration": 4,
    "start_time": "2022-10-17T12:54:22.360Z"
   },
   {
    "duration": 15,
    "start_time": "2022-10-17T12:54:22.366Z"
   },
   {
    "duration": 13,
    "start_time": "2022-10-17T12:54:22.383Z"
   },
   {
    "duration": 8,
    "start_time": "2022-10-17T12:54:22.398Z"
   },
   {
    "duration": 10,
    "start_time": "2022-10-17T12:54:22.407Z"
   },
   {
    "duration": 326,
    "start_time": "2022-10-17T12:54:22.419Z"
   },
   {
    "duration": 5,
    "start_time": "2022-10-17T12:54:22.746Z"
   },
   {
    "duration": 336,
    "start_time": "2022-10-17T12:54:22.752Z"
   },
   {
    "duration": 8,
    "start_time": "2022-10-17T12:54:23.090Z"
   },
   {
    "duration": 802,
    "start_time": "2022-10-17T12:54:23.100Z"
   },
   {
    "duration": 185,
    "start_time": "2022-10-17T12:54:23.904Z"
   },
   {
    "duration": 7,
    "start_time": "2022-10-17T12:54:24.090Z"
   },
   {
    "duration": 9,
    "start_time": "2022-10-17T12:54:24.098Z"
   },
   {
    "duration": 6,
    "start_time": "2022-10-17T12:54:24.109Z"
   },
   {
    "duration": 9,
    "start_time": "2022-10-17T12:54:24.117Z"
   },
   {
    "duration": 5,
    "start_time": "2022-10-17T12:54:24.127Z"
   },
   {
    "duration": 9,
    "start_time": "2022-10-17T12:54:24.134Z"
   },
   {
    "duration": 3,
    "start_time": "2022-10-17T12:54:26.321Z"
   },
   {
    "duration": 21996,
    "start_time": "2022-10-17T12:54:29.402Z"
   },
   {
    "duration": 8,
    "start_time": "2022-10-17T12:55:09.390Z"
   },
   {
    "duration": 3,
    "start_time": "2022-10-17T12:55:31.114Z"
   },
   {
    "duration": 85959,
    "start_time": "2022-10-17T12:55:35.062Z"
   },
   {
    "duration": 8,
    "start_time": "2022-10-17T12:57:01.023Z"
   },
   {
    "duration": 4,
    "start_time": "2022-10-17T12:57:44.403Z"
   },
   {
    "duration": 293798,
    "start_time": "2022-10-17T12:58:29.852Z"
   },
   {
    "duration": 7,
    "start_time": "2022-10-17T13:03:23.653Z"
   },
   {
    "duration": 10,
    "start_time": "2022-10-17T13:03:23.662Z"
   },
   {
    "duration": 126,
    "start_time": "2022-10-17T13:10:43.124Z"
   },
   {
    "duration": 373,
    "start_time": "2022-10-17T13:12:05.025Z"
   },
   {
    "duration": 1567,
    "start_time": "2022-10-17T13:12:35.980Z"
   },
   {
    "duration": 55,
    "start_time": "2022-10-17T13:12:37.550Z"
   },
   {
    "duration": 11,
    "start_time": "2022-10-17T13:12:37.607Z"
   },
   {
    "duration": 6,
    "start_time": "2022-10-17T13:12:37.621Z"
   },
   {
    "duration": 27,
    "start_time": "2022-10-17T13:12:37.630Z"
   },
   {
    "duration": 13,
    "start_time": "2022-10-17T13:12:37.660Z"
   },
   {
    "duration": 8,
    "start_time": "2022-10-17T13:12:37.675Z"
   },
   {
    "duration": 12,
    "start_time": "2022-10-17T13:12:37.695Z"
   },
   {
    "duration": 348,
    "start_time": "2022-10-17T13:12:37.709Z"
   },
   {
    "duration": 5,
    "start_time": "2022-10-17T13:12:38.059Z"
   },
   {
    "duration": 365,
    "start_time": "2022-10-17T13:12:38.065Z"
   },
   {
    "duration": 5,
    "start_time": "2022-10-17T13:12:38.432Z"
   },
   {
    "duration": 831,
    "start_time": "2022-10-17T13:12:38.439Z"
   },
   {
    "duration": 196,
    "start_time": "2022-10-17T13:12:39.272Z"
   },
   {
    "duration": 3,
    "start_time": "2022-10-17T13:12:39.470Z"
   },
   {
    "duration": 8,
    "start_time": "2022-10-17T13:12:39.475Z"
   },
   {
    "duration": 5,
    "start_time": "2022-10-17T13:12:39.495Z"
   },
   {
    "duration": 12,
    "start_time": "2022-10-17T13:12:39.502Z"
   },
   {
    "duration": 9,
    "start_time": "2022-10-17T13:12:39.516Z"
   },
   {
    "duration": 6,
    "start_time": "2022-10-17T13:12:39.526Z"
   },
   {
    "duration": 28665,
    "start_time": "2022-10-17T13:12:39.534Z"
   },
   {
    "duration": 98,
    "start_time": "2022-10-17T13:13:08.204Z"
   },
   {
    "duration": 210,
    "start_time": "2022-10-17T13:13:08.304Z"
   },
   {
    "duration": 288,
    "start_time": "2022-10-17T13:13:08.516Z"
   },
   {
    "duration": 89,
    "start_time": "2022-10-17T13:13:08.807Z"
   },
   {
    "duration": 92173,
    "start_time": "2022-10-17T13:13:08.898Z"
   },
   {
    "duration": 9,
    "start_time": "2022-10-17T13:14:41.073Z"
   },
   {
    "duration": 3,
    "start_time": "2022-10-17T13:14:41.094Z"
   },
   {
    "duration": 302744,
    "start_time": "2022-10-17T13:14:41.099Z"
   },
   {
    "duration": 8,
    "start_time": "2022-10-17T13:19:43.845Z"
   },
   {
    "duration": 14,
    "start_time": "2022-10-17T13:19:43.855Z"
   },
   {
    "duration": 136,
    "start_time": "2022-10-17T13:19:43.871Z"
   },
   {
    "duration": 385,
    "start_time": "2022-10-17T13:19:44.010Z"
   },
   {
    "duration": 9,
    "start_time": "2022-10-17T13:22:10.454Z"
   },
   {
    "duration": 1532,
    "start_time": "2022-10-17T13:25:10.123Z"
   },
   {
    "duration": 52,
    "start_time": "2022-10-17T13:25:11.657Z"
   },
   {
    "duration": 9,
    "start_time": "2022-10-17T13:25:11.711Z"
   },
   {
    "duration": 4,
    "start_time": "2022-10-17T13:25:11.722Z"
   },
   {
    "duration": 13,
    "start_time": "2022-10-17T13:25:11.728Z"
   },
   {
    "duration": 12,
    "start_time": "2022-10-17T13:25:11.743Z"
   },
   {
    "duration": 6,
    "start_time": "2022-10-17T13:25:11.756Z"
   },
   {
    "duration": 34,
    "start_time": "2022-10-17T13:25:11.764Z"
   },
   {
    "duration": 317,
    "start_time": "2022-10-17T13:25:11.799Z"
   },
   {
    "duration": 4,
    "start_time": "2022-10-17T13:25:12.118Z"
   },
   {
    "duration": 325,
    "start_time": "2022-10-17T13:25:12.123Z"
   },
   {
    "duration": 4,
    "start_time": "2022-10-17T13:25:12.450Z"
   },
   {
    "duration": 776,
    "start_time": "2022-10-17T13:25:12.456Z"
   },
   {
    "duration": 187,
    "start_time": "2022-10-17T13:25:13.236Z"
   },
   {
    "duration": 2,
    "start_time": "2022-10-17T13:25:13.425Z"
   },
   {
    "duration": 7,
    "start_time": "2022-10-17T13:25:13.429Z"
   },
   {
    "duration": 7,
    "start_time": "2022-10-17T13:25:13.437Z"
   },
   {
    "duration": 9,
    "start_time": "2022-10-17T13:25:13.445Z"
   },
   {
    "duration": 5,
    "start_time": "2022-10-17T13:25:13.456Z"
   },
   {
    "duration": 5,
    "start_time": "2022-10-17T13:25:13.462Z"
   },
   {
    "duration": 24007,
    "start_time": "2022-10-17T13:25:13.494Z"
   },
   {
    "duration": 94,
    "start_time": "2022-10-17T13:25:37.504Z"
   },
   {
    "duration": 95,
    "start_time": "2022-10-17T13:25:37.601Z"
   },
   {
    "duration": 90685,
    "start_time": "2022-10-17T13:25:37.698Z"
   },
   {
    "duration": 16,
    "start_time": "2022-10-17T13:27:08.385Z"
   },
   {
    "duration": 4,
    "start_time": "2022-10-17T13:27:08.403Z"
   },
   {
    "duration": 302931,
    "start_time": "2022-10-17T13:27:08.409Z"
   },
   {
    "duration": 9,
    "start_time": "2022-10-17T13:32:11.341Z"
   },
   {
    "duration": 21,
    "start_time": "2022-10-17T13:32:11.351Z"
   },
   {
    "duration": 135,
    "start_time": "2022-10-17T13:32:11.374Z"
   },
   {
    "duration": 383,
    "start_time": "2022-10-17T13:32:11.513Z"
   },
   {
    "duration": 12,
    "start_time": "2022-10-17T13:32:11.898Z"
   },
   {
    "duration": 1713,
    "start_time": "2022-10-18T08:06:28.463Z"
   },
   {
    "duration": 147,
    "start_time": "2022-10-18T08:06:30.179Z"
   },
   {
    "duration": 9,
    "start_time": "2022-10-18T08:06:30.328Z"
   },
   {
    "duration": 8,
    "start_time": "2022-10-18T08:06:30.338Z"
   },
   {
    "duration": 39,
    "start_time": "2022-10-18T08:06:30.348Z"
   },
   {
    "duration": 20,
    "start_time": "2022-10-18T08:06:30.388Z"
   },
   {
    "duration": 16,
    "start_time": "2022-10-18T08:06:30.410Z"
   },
   {
    "duration": 25,
    "start_time": "2022-10-18T08:06:30.427Z"
   },
   {
    "duration": 286,
    "start_time": "2022-10-18T08:06:30.453Z"
   },
   {
    "duration": 4,
    "start_time": "2022-10-18T08:06:30.741Z"
   },
   {
    "duration": 309,
    "start_time": "2022-10-18T08:06:30.747Z"
   },
   {
    "duration": 4,
    "start_time": "2022-10-18T08:06:31.059Z"
   },
   {
    "duration": 755,
    "start_time": "2022-10-18T08:06:31.065Z"
   },
   {
    "duration": 167,
    "start_time": "2022-10-18T08:06:31.824Z"
   },
   {
    "duration": 3,
    "start_time": "2022-10-18T08:06:31.992Z"
   },
   {
    "duration": 29,
    "start_time": "2022-10-18T08:06:31.996Z"
   },
   {
    "duration": 13,
    "start_time": "2022-10-18T08:06:32.027Z"
   },
   {
    "duration": 37,
    "start_time": "2022-10-18T08:06:32.042Z"
   },
   {
    "duration": 45,
    "start_time": "2022-10-18T08:06:32.081Z"
   },
   {
    "duration": 6,
    "start_time": "2022-10-18T08:06:32.128Z"
   },
   {
    "duration": 22549,
    "start_time": "2022-10-18T08:06:32.136Z"
   },
   {
    "duration": 8,
    "start_time": "2022-10-18T08:06:54.687Z"
   },
   {
    "duration": 22,
    "start_time": "2022-10-18T08:06:54.786Z"
   },
   {
    "duration": 84191,
    "start_time": "2022-10-18T08:06:54.810Z"
   },
   {
    "duration": 7,
    "start_time": "2022-10-18T08:08:19.002Z"
   },
   {
    "duration": 13,
    "start_time": "2022-10-18T08:08:19.010Z"
   },
   {
    "duration": 274787,
    "start_time": "2022-10-18T08:08:19.025Z"
   },
   {
    "duration": 8,
    "start_time": "2022-10-18T08:12:53.814Z"
   },
   {
    "duration": 19,
    "start_time": "2022-10-18T08:12:53.824Z"
   },
   {
    "duration": 136,
    "start_time": "2022-10-18T08:12:53.844Z"
   },
   {
    "duration": 605,
    "start_time": "2022-10-18T08:12:53.982Z"
   },
   {
    "duration": 343,
    "start_time": "2022-10-18T08:12:54.590Z"
   },
   {
    "duration": 176,
    "start_time": "2022-10-18T08:13:49.335Z"
   },
   {
    "duration": 152,
    "start_time": "2022-10-18T08:14:30.695Z"
   },
   {
    "duration": 72,
    "start_time": "2022-10-18T08:16:15.787Z"
   },
   {
    "duration": 172,
    "start_time": "2022-10-18T08:18:19.376Z"
   },
   {
    "duration": 348,
    "start_time": "2022-10-18T08:18:39.935Z"
   },
   {
    "duration": 188,
    "start_time": "2022-10-18T08:19:25.335Z"
   },
   {
    "duration": 217,
    "start_time": "2022-10-18T08:20:02.267Z"
   },
   {
    "duration": 141,
    "start_time": "2022-10-18T08:22:02.835Z"
   },
   {
    "duration": 3,
    "start_time": "2022-10-18T08:23:04.487Z"
   },
   {
    "duration": 9,
    "start_time": "2022-10-18T08:23:11.943Z"
   },
   {
    "duration": 182,
    "start_time": "2022-10-18T08:23:30.395Z"
   },
   {
    "duration": 212,
    "start_time": "2022-10-18T08:24:53.115Z"
   },
   {
    "duration": 127,
    "start_time": "2022-10-18T08:28:36.009Z"
   },
   {
    "duration": 131,
    "start_time": "2022-10-18T08:28:46.264Z"
   },
   {
    "duration": 1292,
    "start_time": "2022-10-18T08:29:20.596Z"
   },
   {
    "duration": 1404,
    "start_time": "2022-10-18T08:29:37.815Z"
   },
   {
    "duration": 1288,
    "start_time": "2022-10-18T08:30:13.936Z"
   },
   {
    "duration": 11,
    "start_time": "2022-10-18T08:33:45.015Z"
   },
   {
    "duration": 10,
    "start_time": "2022-10-18T08:33:53.423Z"
   },
   {
    "duration": 11,
    "start_time": "2022-10-18T08:33:58.555Z"
   },
   {
    "duration": 117,
    "start_time": "2022-10-18T08:34:23.768Z"
   },
   {
    "duration": 101,
    "start_time": "2022-10-18T08:37:34.998Z"
   },
   {
    "duration": 11,
    "start_time": "2022-10-18T08:38:01.577Z"
   },
   {
    "duration": 1268,
    "start_time": "2022-10-18T08:38:21.433Z"
   },
   {
    "duration": 144,
    "start_time": "2022-10-18T08:42:05.102Z"
   },
   {
    "duration": 9,
    "start_time": "2022-10-18T08:42:32.173Z"
   },
   {
    "duration": 138,
    "start_time": "2022-10-18T08:42:48.802Z"
   },
   {
    "duration": 153,
    "start_time": "2022-10-18T08:43:01.022Z"
   },
   {
    "duration": 201,
    "start_time": "2022-10-18T08:43:21.761Z"
   },
   {
    "duration": 236,
    "start_time": "2022-10-18T08:43:42.722Z"
   },
   {
    "duration": 218,
    "start_time": "2022-10-18T08:44:20.295Z"
   },
   {
    "duration": 335,
    "start_time": "2022-10-18T08:45:22.372Z"
   },
   {
    "duration": 220,
    "start_time": "2022-10-18T08:45:50.740Z"
   },
   {
    "duration": 222,
    "start_time": "2022-10-18T08:46:34.592Z"
   },
   {
    "duration": 253,
    "start_time": "2022-10-18T08:46:46.732Z"
   },
   {
    "duration": 252,
    "start_time": "2022-10-18T08:48:39.840Z"
   },
   {
    "duration": 224,
    "start_time": "2022-10-18T08:48:52.000Z"
   },
   {
    "duration": 230,
    "start_time": "2022-10-18T08:49:03.959Z"
   },
   {
    "duration": 243,
    "start_time": "2022-10-18T08:49:27.960Z"
   },
   {
    "duration": 223,
    "start_time": "2022-10-18T08:49:36.011Z"
   },
   {
    "duration": 228,
    "start_time": "2022-10-18T08:49:50.260Z"
   },
   {
    "duration": 236,
    "start_time": "2022-10-18T08:50:02.579Z"
   },
   {
    "duration": 229,
    "start_time": "2022-10-18T08:50:12.752Z"
   },
   {
    "duration": 233,
    "start_time": "2022-10-18T08:50:19.100Z"
   },
   {
    "duration": 234,
    "start_time": "2022-10-18T08:50:27.915Z"
   },
   {
    "duration": 226,
    "start_time": "2022-10-18T08:50:40.619Z"
   },
   {
    "duration": 257,
    "start_time": "2022-10-18T08:50:46.739Z"
   },
   {
    "duration": 233,
    "start_time": "2022-10-18T08:50:56.559Z"
   },
   {
    "duration": 233,
    "start_time": "2022-10-18T08:51:01.871Z"
   },
   {
    "duration": 232,
    "start_time": "2022-10-18T08:51:10.102Z"
   },
   {
    "duration": 420,
    "start_time": "2022-10-18T08:51:16.811Z"
   },
   {
    "duration": 226,
    "start_time": "2022-10-18T08:51:28.519Z"
   },
   {
    "duration": 235,
    "start_time": "2022-10-18T08:51:37.519Z"
   },
   {
    "duration": 242,
    "start_time": "2022-10-18T08:51:46.350Z"
   },
   {
    "duration": 227,
    "start_time": "2022-10-18T08:51:58.819Z"
   },
   {
    "duration": 230,
    "start_time": "2022-10-18T08:52:03.659Z"
   },
   {
    "duration": 228,
    "start_time": "2022-10-18T08:52:17.876Z"
   },
   {
    "duration": 223,
    "start_time": "2022-10-18T08:52:25.351Z"
   },
   {
    "duration": 218,
    "start_time": "2022-10-18T08:52:32.539Z"
   },
   {
    "duration": 254,
    "start_time": "2022-10-18T08:52:37.897Z"
   },
   {
    "duration": 223,
    "start_time": "2022-10-18T08:53:26.430Z"
   },
   {
    "duration": 224,
    "start_time": "2022-10-18T08:53:41.894Z"
   },
   {
    "duration": 221,
    "start_time": "2022-10-18T08:54:11.879Z"
   },
   {
    "duration": 217,
    "start_time": "2022-10-18T08:54:52.678Z"
   },
   {
    "duration": 221,
    "start_time": "2022-10-18T08:55:15.098Z"
   },
   {
    "duration": 229,
    "start_time": "2022-10-18T08:55:23.170Z"
   },
   {
    "duration": 223,
    "start_time": "2022-10-18T08:55:29.698Z"
   },
   {
    "duration": 217,
    "start_time": "2022-10-18T08:55:40.178Z"
   },
   {
    "duration": 251,
    "start_time": "2022-10-18T08:56:06.378Z"
   },
   {
    "duration": 364,
    "start_time": "2022-10-18T08:56:12.438Z"
   },
   {
    "duration": 250,
    "start_time": "2022-10-18T08:56:19.038Z"
   },
   {
    "duration": 211,
    "start_time": "2022-10-18T08:56:41.998Z"
   },
   {
    "duration": 233,
    "start_time": "2022-10-18T08:56:48.219Z"
   },
   {
    "duration": 218,
    "start_time": "2022-10-18T08:56:52.560Z"
   },
   {
    "duration": 233,
    "start_time": "2022-10-18T08:57:19.044Z"
   },
   {
    "duration": 237,
    "start_time": "2022-10-18T08:57:26.178Z"
   },
   {
    "duration": 229,
    "start_time": "2022-10-18T08:57:34.690Z"
   },
   {
    "duration": 220,
    "start_time": "2022-10-18T08:59:32.397Z"
   },
   {
    "duration": 234,
    "start_time": "2022-10-18T09:02:48.996Z"
   },
   {
    "duration": 234,
    "start_time": "2022-10-18T09:03:11.548Z"
   },
   {
    "duration": 236,
    "start_time": "2022-10-18T09:03:30.737Z"
   },
   {
    "duration": 231,
    "start_time": "2022-10-18T09:03:49.657Z"
   },
   {
    "duration": 256,
    "start_time": "2022-10-18T09:05:36.496Z"
   },
   {
    "duration": 253,
    "start_time": "2022-10-18T09:05:48.576Z"
   },
   {
    "duration": 224,
    "start_time": "2022-10-18T09:06:31.316Z"
   },
   {
    "duration": 227,
    "start_time": "2022-10-18T09:06:44.836Z"
   },
   {
    "duration": 226,
    "start_time": "2022-10-18T09:06:51.736Z"
   },
   {
    "duration": 77,
    "start_time": "2022-10-18T09:07:11.395Z"
   },
   {
    "duration": 73,
    "start_time": "2022-10-18T09:07:15.849Z"
   },
   {
    "duration": 379,
    "start_time": "2022-10-18T09:07:33.066Z"
   },
   {
    "duration": 253,
    "start_time": "2022-10-18T09:07:40.736Z"
   },
   {
    "duration": 239,
    "start_time": "2022-10-18T09:07:46.455Z"
   },
   {
    "duration": 231,
    "start_time": "2022-10-18T09:07:51.138Z"
   },
   {
    "duration": 226,
    "start_time": "2022-10-18T09:08:04.956Z"
   },
   {
    "duration": 228,
    "start_time": "2022-10-18T09:08:12.828Z"
   },
   {
    "duration": 238,
    "start_time": "2022-10-18T09:08:18.796Z"
   },
   {
    "duration": 239,
    "start_time": "2022-10-18T09:08:31.075Z"
   },
   {
    "duration": 230,
    "start_time": "2022-10-18T09:08:49.536Z"
   },
   {
    "duration": 222,
    "start_time": "2022-10-18T09:09:01.236Z"
   },
   {
    "duration": 224,
    "start_time": "2022-10-18T09:09:10.548Z"
   },
   {
    "duration": 226,
    "start_time": "2022-10-18T09:09:15.555Z"
   },
   {
    "duration": 208,
    "start_time": "2022-10-18T09:09:35.516Z"
   },
   {
    "duration": 221,
    "start_time": "2022-10-18T09:09:47.616Z"
   },
   {
    "duration": 218,
    "start_time": "2022-10-18T09:10:01.364Z"
   },
   {
    "duration": 229,
    "start_time": "2022-10-18T09:10:21.348Z"
   },
   {
    "duration": 237,
    "start_time": "2022-10-18T09:10:25.738Z"
   },
   {
    "duration": 229,
    "start_time": "2022-10-18T09:10:30.857Z"
   },
   {
    "duration": 234,
    "start_time": "2022-10-18T09:10:42.117Z"
   },
   {
    "duration": 386,
    "start_time": "2022-10-18T09:10:56.585Z"
   },
   {
    "duration": 238,
    "start_time": "2022-10-18T09:11:03.476Z"
   },
   {
    "duration": 229,
    "start_time": "2022-10-18T09:11:13.149Z"
   },
   {
    "duration": 222,
    "start_time": "2022-10-18T09:11:50.525Z"
   },
   {
    "duration": 227,
    "start_time": "2022-10-18T09:16:51.719Z"
   },
   {
    "duration": 240,
    "start_time": "2022-10-18T09:17:08.518Z"
   },
   {
    "duration": 237,
    "start_time": "2022-10-18T09:17:17.898Z"
   },
   {
    "duration": 247,
    "start_time": "2022-10-18T09:17:27.658Z"
   },
   {
    "duration": 250,
    "start_time": "2022-10-18T09:17:34.746Z"
   },
   {
    "duration": 232,
    "start_time": "2022-10-18T09:17:40.518Z"
   },
   {
    "duration": 256,
    "start_time": "2022-10-18T09:26:03.400Z"
   },
   {
    "duration": 238,
    "start_time": "2022-10-18T09:26:23.380Z"
   },
   {
    "duration": 232,
    "start_time": "2022-10-18T09:27:19.239Z"
   },
   {
    "duration": 240,
    "start_time": "2022-10-18T09:28:14.787Z"
   },
   {
    "duration": 1153,
    "start_time": "2022-10-18T09:29:11.832Z"
   },
   {
    "duration": 904,
    "start_time": "2022-10-18T09:30:40.047Z"
   },
   {
    "duration": 2453,
    "start_time": "2022-10-18T09:31:59.568Z"
   },
   {
    "duration": 3760,
    "start_time": "2022-10-18T09:32:21.441Z"
   },
   {
    "duration": 4535,
    "start_time": "2022-10-18T09:32:39.633Z"
   },
   {
    "duration": 11606,
    "start_time": "2022-10-18T09:32:53.572Z"
   },
   {
    "duration": 9979,
    "start_time": "2022-10-18T09:33:20.879Z"
   },
   {
    "duration": 8033,
    "start_time": "2022-10-18T09:33:42.342Z"
   },
   {
    "duration": 888,
    "start_time": "2022-10-18T09:34:06.452Z"
   },
   {
    "duration": 2556,
    "start_time": "2022-10-18T09:52:48.188Z"
   },
   {
    "duration": 199,
    "start_time": "2022-10-18T09:53:39.708Z"
   },
   {
    "duration": 235,
    "start_time": "2022-10-18T09:54:01.859Z"
   },
   {
    "duration": 1392,
    "start_time": "2022-10-18T09:54:29.472Z"
   },
   {
    "duration": 1493,
    "start_time": "2022-10-18T09:54:37.800Z"
   },
   {
    "duration": 1348,
    "start_time": "2022-10-18T09:55:03.920Z"
   },
   {
    "duration": 1347,
    "start_time": "2022-10-18T09:55:09.312Z"
   },
   {
    "duration": 233,
    "start_time": "2022-10-18T09:55:37.241Z"
   },
   {
    "duration": 1414,
    "start_time": "2022-10-18T09:55:53.560Z"
   },
   {
    "duration": 197,
    "start_time": "2022-10-18T09:56:06.601Z"
   },
   {
    "duration": 192,
    "start_time": "2022-10-18T09:56:21.420Z"
   },
   {
    "duration": 236,
    "start_time": "2022-10-18T09:56:26.852Z"
   },
   {
    "duration": 220,
    "start_time": "2022-10-18T09:56:38.340Z"
   },
   {
    "duration": 4030,
    "start_time": "2022-10-18T09:58:15.661Z"
   },
   {
    "duration": 812,
    "start_time": "2022-10-18T09:59:43.848Z"
   },
   {
    "duration": 215,
    "start_time": "2022-10-18T10:00:18.074Z"
   },
   {
    "duration": 210,
    "start_time": "2022-10-18T10:01:55.872Z"
   },
   {
    "duration": 22,
    "start_time": "2022-10-18T10:02:16.271Z"
   },
   {
    "duration": 217,
    "start_time": "2022-10-18T10:02:36.372Z"
   },
   {
    "duration": 222,
    "start_time": "2022-10-18T10:02:52.896Z"
   },
   {
    "duration": 442,
    "start_time": "2022-10-18T10:04:40.120Z"
   },
   {
    "duration": 210,
    "start_time": "2022-10-18T10:05:15.810Z"
   },
   {
    "duration": 440,
    "start_time": "2022-10-18T10:05:33.340Z"
   },
   {
    "duration": 785,
    "start_time": "2022-10-18T10:05:46.300Z"
   },
   {
    "duration": 233,
    "start_time": "2022-10-18T10:10:07.788Z"
   },
   {
    "duration": 129,
    "start_time": "2022-10-18T10:12:09.508Z"
   },
   {
    "duration": 129,
    "start_time": "2022-10-18T10:12:26.508Z"
   },
   {
    "duration": 200,
    "start_time": "2022-10-18T10:12:59.819Z"
   },
   {
    "duration": 196,
    "start_time": "2022-10-18T10:13:06.468Z"
   },
   {
    "duration": 219,
    "start_time": "2022-10-18T10:13:30.868Z"
   },
   {
    "duration": 197,
    "start_time": "2022-10-18T10:13:47.669Z"
   },
   {
    "duration": 197,
    "start_time": "2022-10-18T10:14:09.428Z"
   },
   {
    "duration": 133,
    "start_time": "2022-10-18T10:14:18.669Z"
   },
   {
    "duration": 136,
    "start_time": "2022-10-18T10:14:39.391Z"
   },
   {
    "duration": 201,
    "start_time": "2022-10-18T10:15:04.368Z"
   },
   {
    "duration": 167,
    "start_time": "2022-10-18T10:15:35.980Z"
   },
   {
    "duration": 168,
    "start_time": "2022-10-18T10:15:52.348Z"
   },
   {
    "duration": 9,
    "start_time": "2022-10-18T10:16:28.408Z"
   },
   {
    "duration": 6,
    "start_time": "2022-10-18T10:17:06.708Z"
   },
   {
    "duration": 4,
    "start_time": "2022-10-18T10:18:20.327Z"
   },
   {
    "duration": 5,
    "start_time": "2022-10-18T10:18:21.820Z"
   },
   {
    "duration": 213,
    "start_time": "2022-10-18T10:18:35.169Z"
   },
   {
    "duration": 383,
    "start_time": "2022-10-18T10:18:47.788Z"
   },
   {
    "duration": 214,
    "start_time": "2022-10-18T10:19:19.468Z"
   },
   {
    "duration": 247,
    "start_time": "2022-10-18T10:19:39.269Z"
   },
   {
    "duration": 236,
    "start_time": "2022-10-18T10:20:27.149Z"
   },
   {
    "duration": 227,
    "start_time": "2022-10-18T10:20:47.888Z"
   },
   {
    "duration": 1352,
    "start_time": "2022-10-18T10:21:02.021Z"
   },
   {
    "duration": 1359,
    "start_time": "2022-10-18T10:21:12.588Z"
   },
   {
    "duration": 1206,
    "start_time": "2022-10-18T10:21:15.496Z"
   },
   {
    "duration": 399,
    "start_time": "2022-10-18T10:25:48.141Z"
   },
   {
    "duration": 218,
    "start_time": "2022-10-18T10:27:10.489Z"
   },
   {
    "duration": 251,
    "start_time": "2022-10-18T10:28:18.901Z"
   },
   {
    "duration": 3,
    "start_time": "2022-10-18T10:33:39.810Z"
   },
   {
    "duration": 233,
    "start_time": "2022-10-18T10:33:39.981Z"
   },
   {
    "duration": 1501,
    "start_time": "2022-10-18T10:36:28.719Z"
   },
   {
    "duration": 47,
    "start_time": "2022-10-18T10:36:30.222Z"
   },
   {
    "duration": 9,
    "start_time": "2022-10-18T10:36:30.271Z"
   },
   {
    "duration": 23,
    "start_time": "2022-10-18T10:36:30.281Z"
   },
   {
    "duration": 31,
    "start_time": "2022-10-18T10:36:30.306Z"
   },
   {
    "duration": 23,
    "start_time": "2022-10-18T10:36:30.338Z"
   },
   {
    "duration": 43,
    "start_time": "2022-10-18T10:36:30.363Z"
   },
   {
    "duration": 31,
    "start_time": "2022-10-18T10:36:30.408Z"
   },
   {
    "duration": 321,
    "start_time": "2022-10-18T10:36:30.442Z"
   },
   {
    "duration": 4,
    "start_time": "2022-10-18T10:36:30.765Z"
   },
   {
    "duration": 338,
    "start_time": "2022-10-18T10:36:30.771Z"
   },
   {
    "duration": 4,
    "start_time": "2022-10-18T10:36:31.111Z"
   },
   {
    "duration": 770,
    "start_time": "2022-10-18T10:36:31.117Z"
   },
   {
    "duration": 173,
    "start_time": "2022-10-18T10:36:31.890Z"
   },
   {
    "duration": 3,
    "start_time": "2022-10-18T10:36:32.064Z"
   },
   {
    "duration": 16,
    "start_time": "2022-10-18T10:36:32.069Z"
   },
   {
    "duration": 11,
    "start_time": "2022-10-18T10:36:32.087Z"
   },
   {
    "duration": 20,
    "start_time": "2022-10-18T10:36:32.100Z"
   },
   {
    "duration": 9,
    "start_time": "2022-10-18T10:36:32.122Z"
   },
   {
    "duration": 7,
    "start_time": "2022-10-18T10:36:32.132Z"
   },
   {
    "duration": 20547,
    "start_time": "2022-10-18T10:36:32.140Z"
   },
   {
    "duration": 7,
    "start_time": "2022-10-18T10:36:52.689Z"
   },
   {
    "duration": 88,
    "start_time": "2022-10-18T10:36:52.698Z"
   },
   {
    "duration": 83673,
    "start_time": "2022-10-18T10:36:52.788Z"
   },
   {
    "duration": 23,
    "start_time": "2022-10-18T10:38:16.463Z"
   },
   {
    "duration": 7,
    "start_time": "2022-10-18T10:38:16.488Z"
   },
   {
    "duration": 279769,
    "start_time": "2022-10-18T10:38:16.497Z"
   },
   {
    "duration": 9,
    "start_time": "2022-10-18T10:42:56.268Z"
   },
   {
    "duration": 14,
    "start_time": "2022-10-18T10:42:56.279Z"
   },
   {
    "duration": 153,
    "start_time": "2022-10-18T10:42:56.295Z"
   },
   {
    "duration": 346,
    "start_time": "2022-10-18T10:42:56.450Z"
   },
   {
    "duration": 89,
    "start_time": "2022-10-18T10:42:56.798Z"
   },
   {
    "duration": 396,
    "start_time": "2022-10-18T10:42:56.889Z"
   },
   {
    "duration": 9,
    "start_time": "2022-10-18T10:42:57.286Z"
   },
   {
    "duration": 243,
    "start_time": "2022-10-18T10:47:19.231Z"
   },
   {
    "duration": 1432,
    "start_time": "2022-10-18T10:47:55.812Z"
   },
   {
    "duration": 47,
    "start_time": "2022-10-18T10:47:57.246Z"
   },
   {
    "duration": 8,
    "start_time": "2022-10-18T10:47:57.294Z"
   },
   {
    "duration": 6,
    "start_time": "2022-10-18T10:47:57.304Z"
   },
   {
    "duration": 15,
    "start_time": "2022-10-18T10:47:57.312Z"
   },
   {
    "duration": 26,
    "start_time": "2022-10-18T10:47:57.328Z"
   },
   {
    "duration": 14,
    "start_time": "2022-10-18T10:47:57.355Z"
   },
   {
    "duration": 13,
    "start_time": "2022-10-18T10:47:57.371Z"
   },
   {
    "duration": 305,
    "start_time": "2022-10-18T10:47:57.386Z"
   },
   {
    "duration": 5,
    "start_time": "2022-10-18T10:47:57.693Z"
   },
   {
    "duration": 320,
    "start_time": "2022-10-18T10:47:57.700Z"
   },
   {
    "duration": 4,
    "start_time": "2022-10-18T10:47:58.022Z"
   },
   {
    "duration": 733,
    "start_time": "2022-10-18T10:47:58.027Z"
   },
   {
    "duration": 174,
    "start_time": "2022-10-18T10:47:58.764Z"
   },
   {
    "duration": 3,
    "start_time": "2022-10-18T10:47:58.940Z"
   },
   {
    "duration": 22,
    "start_time": "2022-10-18T10:47:58.945Z"
   },
   {
    "duration": 23,
    "start_time": "2022-10-18T10:47:58.968Z"
   },
   {
    "duration": 19,
    "start_time": "2022-10-18T10:47:58.993Z"
   },
   {
    "duration": 22,
    "start_time": "2022-10-18T10:47:59.014Z"
   },
   {
    "duration": 23,
    "start_time": "2022-10-18T10:47:59.038Z"
   },
   {
    "duration": 23524,
    "start_time": "2022-10-18T10:47:59.063Z"
   },
   {
    "duration": 8,
    "start_time": "2022-10-18T10:48:22.588Z"
   },
   {
    "duration": 89,
    "start_time": "2022-10-18T10:48:22.597Z"
   },
   {
    "duration": 83046,
    "start_time": "2022-10-18T10:48:22.688Z"
   },
   {
    "duration": 6,
    "start_time": "2022-10-18T10:49:45.736Z"
   },
   {
    "duration": 28,
    "start_time": "2022-10-18T10:49:45.743Z"
   },
   {
    "duration": 271813,
    "start_time": "2022-10-18T10:49:45.772Z"
   },
   {
    "duration": 7,
    "start_time": "2022-10-18T10:54:17.586Z"
   },
   {
    "duration": 25,
    "start_time": "2022-10-18T10:54:17.594Z"
   },
   {
    "duration": 123,
    "start_time": "2022-10-18T10:54:17.620Z"
   },
   {
    "duration": 442,
    "start_time": "2022-10-18T10:54:17.745Z"
   },
   {
    "duration": 5,
    "start_time": "2022-10-18T10:54:18.190Z"
   },
   {
    "duration": 321,
    "start_time": "2022-10-18T10:54:18.286Z"
   },
   {
    "duration": 9,
    "start_time": "2022-10-18T10:54:18.610Z"
   }
  ],
  "kernelspec": {
   "display_name": "Python 3 (ipykernel)",
   "language": "python",
   "name": "python3"
  },
  "language_info": {
   "codemirror_mode": {
    "name": "ipython",
    "version": 3
   },
   "file_extension": ".py",
   "mimetype": "text/x-python",
   "name": "python",
   "nbconvert_exporter": "python",
   "pygments_lexer": "ipython3",
   "version": "3.9.12"
  },
  "toc": {
   "base_numbering": 1,
   "nav_menu": {},
   "number_sections": true,
   "sideBar": true,
   "skip_h1_title": true,
   "title_cell": "Содержание",
   "title_sidebar": "Contents",
   "toc_cell": true,
   "toc_position": {
    "height": "607px",
    "left": "70px",
    "top": "111.125px",
    "width": "356.594px"
   },
   "toc_section_display": true,
   "toc_window_display": true
  }
 },
 "nbformat": 4,
 "nbformat_minor": 2
}
