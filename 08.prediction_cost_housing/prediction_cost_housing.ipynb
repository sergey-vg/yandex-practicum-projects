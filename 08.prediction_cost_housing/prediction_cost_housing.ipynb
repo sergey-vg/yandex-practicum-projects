{
 "cells": [
  {
   "cell_type": "markdown",
   "id": "GEqQaHzsZ_bA",
   "metadata": {
    "id": "GEqQaHzsZ_bA"
   },
   "source": [
    "# Предсказание стоимости жилья\n",
    "\n",
    "В проекте нам нужно обучить модель линейной регрессии на данных о жилье в Калифорнии в 1990 году. На основе данных нужно предсказать медианную стоимость дома в жилом массиве. Необходимо обучить модель и сделать предсказания на тестовой выборке. Для оценки качества модели нужно использовать метрики RMSE, MAE и R2."
   ]
  },
  {
   "cell_type": "markdown",
   "id": "53871372",
   "metadata": {
    "id": "53871372"
   },
   "source": [
    "## Загрузка данных и библиотек"
   ]
  },
  {
   "cell_type": "markdown",
   "id": "1e8aafdf",
   "metadata": {},
   "source": [
    "Импорт необходимых библиотек"
   ]
  },
  {
   "cell_type": "code",
   "execution_count": 1,
   "id": "8f6bf6f6",
   "metadata": {},
   "outputs": [],
   "source": [
    "import pandas as pd\n",
    "\n",
    "import matplotlib.pyplot as plt\n",
    "\n",
    "import pyspark\n",
    "from pyspark.sql import SparkSession\n",
    "from pyspark.sql.types import *\n",
    "import pyspark.sql.functions as F\n",
    "\n",
    "from pyspark.ml.feature import StringIndexer, VectorAssembler, StandardScaler\n",
    "from pyspark.ml.regression import LinearRegression\n",
    "from pyspark.ml.tuning import CrossValidator, ParamGridBuilder\n",
    "from pyspark.ml.evaluation import RegressionEvaluator\n",
    "\n",
    "from pyspark.ml.feature import OneHotEncoder"
   ]
  },
  {
   "cell_type": "markdown",
   "id": "676aa6bf",
   "metadata": {},
   "source": [
    "Инициализация локальной Spark-сессии "
   ]
  },
  {
   "cell_type": "code",
   "execution_count": 2,
   "id": "27297fd9",
   "metadata": {},
   "outputs": [
    {
     "name": "stderr",
     "output_type": "stream",
     "text": [
      "log4j:ERROR Could not read configuration file from URL [file:/opt/conda/lib/python3.9/site-packages/pyspark/conf/log4j.properties].\n",
      "java.io.FileNotFoundException: /opt/conda/lib/python3.9/site-packages/pyspark/conf/log4j.properties (Permission denied)\n",
      "\tat java.io.FileInputStream.open0(Native Method)\n",
      "\tat java.io.FileInputStream.open(FileInputStream.java:195)\n",
      "\tat java.io.FileInputStream.<init>(FileInputStream.java:138)\n",
      "\tat java.io.FileInputStream.<init>(FileInputStream.java:93)\n",
      "\tat sun.net.www.protocol.file.FileURLConnection.connect(FileURLConnection.java:90)\n",
      "\tat sun.net.www.protocol.file.FileURLConnection.getInputStream(FileURLConnection.java:188)\n",
      "\tat org.apache.log4j.PropertyConfigurator.doConfigure(PropertyConfigurator.java:557)\n",
      "\tat org.apache.log4j.helpers.OptionConverter.selectAndConfigure(OptionConverter.java:526)\n",
      "\tat org.apache.log4j.LogManager.<clinit>(LogManager.java:127)\n",
      "\tat org.slf4j.impl.Log4jLoggerFactory.<init>(Log4jLoggerFactory.java:66)\n",
      "\tat org.slf4j.impl.StaticLoggerBinder.<init>(StaticLoggerBinder.java:72)\n",
      "\tat org.slf4j.impl.StaticLoggerBinder.<clinit>(StaticLoggerBinder.java:45)\n",
      "\tat org.apache.spark.internal.Logging$.org$apache$spark$internal$Logging$$isLog4j12(Logging.scala:222)\n",
      "\tat org.apache.spark.internal.Logging.initializeLogging(Logging.scala:127)\n",
      "\tat org.apache.spark.internal.Logging.initializeLogIfNecessary(Logging.scala:111)\n",
      "\tat org.apache.spark.internal.Logging.initializeLogIfNecessary$(Logging.scala:105)\n",
      "\tat org.apache.spark.deploy.SparkSubmit.initializeLogIfNecessary(SparkSubmit.scala:75)\n",
      "\tat org.apache.spark.deploy.SparkSubmit.doSubmit(SparkSubmit.scala:83)\n",
      "\tat org.apache.spark.deploy.SparkSubmit$$anon$2.doSubmit(SparkSubmit.scala:1007)\n",
      "\tat org.apache.spark.deploy.SparkSubmit$.main(SparkSubmit.scala:1016)\n",
      "\tat org.apache.spark.deploy.SparkSubmit.main(SparkSubmit.scala)\n",
      "log4j:ERROR Ignoring configuration file [file:/opt/conda/lib/python3.9/site-packages/pyspark/conf/log4j.properties].\n",
      "22/06/03 10:48:15 WARN NativeCodeLoader: Unable to load native-hadoop library for your platform... using builtin-java classes where applicable\n",
      "Using Spark's default log4j profile: org/apache/spark/log4j-defaults.properties\n",
      "Setting default log level to \"WARN\".\n",
      "To adjust logging level use sc.setLogLevel(newLevel). For SparkR, use setLogLevel(newLevel).\n"
     ]
    }
   ],
   "source": [
    "spark = SparkSession.builder \\\n",
    "                    .master('local') \\\n",
    "                    .appName('Housing - Logistic regression') \\\n",
    "                    .getOrCreate()"
   ]
  },
  {
   "cell_type": "markdown",
   "id": "d3fa29b5",
   "metadata": {},
   "source": [
    "Прочитаем содержимое файла"
   ]
  },
  {
   "cell_type": "code",
   "execution_count": 3,
   "id": "1724dbb1",
   "metadata": {},
   "outputs": [
    {
     "name": "stderr",
     "output_type": "stream",
     "text": [
      "                                                                                \r"
     ]
    }
   ],
   "source": [
    "housing = spark.read.option('header', 'true').csv('/datasets/housing.csv', inferSchema = True) "
   ]
  },
  {
   "cell_type": "markdown",
   "id": "c99c79f0",
   "metadata": {},
   "source": [
    "## Предобработка и исследовательский анализ данных"
   ]
  },
  {
   "cell_type": "markdown",
   "id": "e1a50f34",
   "metadata": {},
   "source": [
    "Выведем типы данных колонок датасета"
   ]
  },
  {
   "cell_type": "code",
   "execution_count": 4,
   "id": "c41a8298",
   "metadata": {},
   "outputs": [
    {
     "name": "stdout",
     "output_type": "stream",
     "text": [
      "root\n",
      " |-- longitude: double (nullable = true)\n",
      " |-- latitude: double (nullable = true)\n",
      " |-- housing_median_age: double (nullable = true)\n",
      " |-- total_rooms: double (nullable = true)\n",
      " |-- total_bedrooms: double (nullable = true)\n",
      " |-- population: double (nullable = true)\n",
      " |-- households: double (nullable = true)\n",
      " |-- median_income: double (nullable = true)\n",
      " |-- median_house_value: double (nullable = true)\n",
      " |-- ocean_proximity: string (nullable = true)\n",
      "\n"
     ]
    }
   ],
   "source": [
    "housing.printSchema()"
   ]
  },
  {
   "cell_type": "markdown",
   "id": "39d87050",
   "metadata": {},
   "source": [
    "***Описание данных***\n",
    "\n",
    "В колонках датасета содержатся следующие данные:\n",
    "    \n",
    "* `longitude` — широта;\n",
    "* `latitude` — долгота;\n",
    "* `housing_median_age` — медианный возраст жителей жилого массива;\n",
    "* `total_rooms` — общее количество комнат в домах жилого массива;\n",
    "* `total_bedrooms` — общее количество спален в домах жилого массива;\n",
    "* `population` — количество человек, которые проживают в жилом массиве;\n",
    "* `households` — количество домовладений в жилом массиве;\n",
    "* `median_income` — медианный доход жителей жилого массива;\n",
    "* `median_house_value` — медианная стоимость дома в жилом массиве;\n",
    "* `ocean_proximity` — близость к океану."
   ]
  },
  {
   "cell_type": "code",
   "execution_count": 5,
   "id": "df92e3ec",
   "metadata": {
    "id": "df92e3ec"
   },
   "outputs": [
    {
     "name": "stdout",
     "output_type": "stream",
     "text": [
      "+---------+--------+------------------+-----------+--------------+----------+----------+-------------+------------------+---------------+\n",
      "|longitude|latitude|housing_median_age|total_rooms|total_bedrooms|population|households|median_income|median_house_value|ocean_proximity|\n",
      "+---------+--------+------------------+-----------+--------------+----------+----------+-------------+------------------+---------------+\n",
      "|  -122.23|   37.88|              41.0|      880.0|         129.0|     322.0|     126.0|       8.3252|          452600.0|       NEAR BAY|\n",
      "|  -122.22|   37.86|              21.0|     7099.0|        1106.0|    2401.0|    1138.0|       8.3014|          358500.0|       NEAR BAY|\n",
      "|  -122.24|   37.85|              52.0|     1467.0|         190.0|     496.0|     177.0|       7.2574|          352100.0|       NEAR BAY|\n",
      "|  -122.25|   37.85|              52.0|     1274.0|         235.0|     558.0|     219.0|       5.6431|          341300.0|       NEAR BAY|\n",
      "|  -122.25|   37.85|              52.0|     1627.0|         280.0|     565.0|     259.0|       3.8462|          342200.0|       NEAR BAY|\n",
      "|  -122.25|   37.85|              52.0|      919.0|         213.0|     413.0|     193.0|       4.0368|          269700.0|       NEAR BAY|\n",
      "|  -122.25|   37.84|              52.0|     2535.0|         489.0|    1094.0|     514.0|       3.6591|          299200.0|       NEAR BAY|\n",
      "|  -122.25|   37.84|              52.0|     3104.0|         687.0|    1157.0|     647.0|         3.12|          241400.0|       NEAR BAY|\n",
      "|  -122.26|   37.84|              42.0|     2555.0|         665.0|    1206.0|     595.0|       2.0804|          226700.0|       NEAR BAY|\n",
      "|  -122.25|   37.84|              52.0|     3549.0|         707.0|    1551.0|     714.0|       3.6912|          261100.0|       NEAR BAY|\n",
      "+---------+--------+------------------+-----------+--------------+----------+----------+-------------+------------------+---------------+\n",
      "only showing top 10 rows\n",
      "\n"
     ]
    }
   ],
   "source": [
    "housing.show(10)"
   ]
  },
  {
   "cell_type": "markdown",
   "id": "68104c5d",
   "metadata": {},
   "source": [
    "Выведем базовые данные описательные статистики данных"
   ]
  },
  {
   "cell_type": "code",
   "execution_count": 6,
   "id": "9486323b",
   "metadata": {},
   "outputs": [
    {
     "name": "stdout",
     "output_type": "stream",
     "text": [
      "+-------+-------------------+-----------------+------------------+------------------+------------------+\n",
      "|summary|          longitude|         latitude|housing_median_age|       total_rooms|    total_bedrooms|\n",
      "+-------+-------------------+-----------------+------------------+------------------+------------------+\n",
      "|  count|              20640|            20640|             20640|             20640|             20433|\n",
      "|   mean|-119.56970445736148| 35.6318614341087|28.639486434108527|2635.7630813953488| 537.8705525375618|\n",
      "| stddev|  2.003531723502584|2.135952397457101| 12.58555761211163|2181.6152515827944|421.38507007403115|\n",
      "|    min|            -124.35|            32.54|               1.0|               2.0|               1.0|\n",
      "|    max|            -114.31|            41.95|              52.0|           39320.0|            6445.0|\n",
      "+-------+-------------------+-----------------+------------------+------------------+------------------+\n",
      "\n"
     ]
    }
   ],
   "source": [
    "housing.describe(housing.columns[:5]).show()"
   ]
  },
  {
   "cell_type": "code",
   "execution_count": 7,
   "id": "24acd3aa",
   "metadata": {},
   "outputs": [
    {
     "name": "stderr",
     "output_type": "stream",
     "text": [
      "[Stage 5:>                                                          (0 + 1) / 1]\r"
     ]
    },
    {
     "name": "stdout",
     "output_type": "stream",
     "text": [
      "+-------+------------------+-----------------+------------------+------------------+---------------+\n",
      "|summary|        population|       households|     median_income|median_house_value|ocean_proximity|\n",
      "+-------+------------------+-----------------+------------------+------------------+---------------+\n",
      "|  count|             20640|            20640|             20640|             20640|          20640|\n",
      "|   mean|1425.4767441860465|499.5396802325581|3.8706710029070246|206855.81690891474|           null|\n",
      "| stddev|  1132.46212176534|382.3297528316098| 1.899821717945263|115395.61587441359|           null|\n",
      "|    min|               3.0|              1.0|            0.4999|           14999.0|      <1H OCEAN|\n",
      "|    max|           35682.0|           6082.0|           15.0001|          500001.0|     NEAR OCEAN|\n",
      "+-------+------------------+-----------------+------------------+------------------+---------------+\n",
      "\n"
     ]
    },
    {
     "name": "stderr",
     "output_type": "stream",
     "text": [
      "                                                                                \r"
     ]
    }
   ],
   "source": [
    "housing.describe(housing.columns[5:]).show()"
   ]
  },
  {
   "cell_type": "markdown",
   "id": "a6bcce47",
   "metadata": {},
   "source": [
    "Исследуем данные на наличие пропусков"
   ]
  },
  {
   "cell_type": "code",
   "execution_count": 8,
   "id": "ac1c2b8a",
   "metadata": {
    "scrolled": false
   },
   "outputs": [
    {
     "name": "stdout",
     "output_type": "stream",
     "text": [
      "longitude 0\n",
      "latitude 0\n",
      "housing_median_age 0\n",
      "total_rooms 0\n",
      "total_bedrooms 207\n",
      "population 0\n",
      "households 0\n",
      "median_income 0\n",
      "median_house_value 0\n",
      "ocean_proximity 0\n"
     ]
    }
   ],
   "source": [
    "for column in housing.columns:\n",
    "    print(column, housing.filter(F.col(column).isNull()).count())"
   ]
  },
  {
   "cell_type": "markdown",
   "id": "9b22ae9f",
   "metadata": {},
   "source": [
    "* В колонке `total_bedrooms` обнаружили 207 пропусков."
   ]
  },
  {
   "cell_type": "markdown",
   "id": "16a991fa",
   "metadata": {},
   "source": [
    "Заменим пропуски в колонке `total_bedrooms`, на произведения коэфициента (средние соотношение спален к общему кол-ву комнат) и кол-во спален"
   ]
  },
  {
   "cell_type": "code",
   "execution_count": 9,
   "id": "1e4f44c7",
   "metadata": {},
   "outputs": [],
   "source": [
    "kf = housing.select('total_bedrooms').toPandas()['total_bedrooms'].median() / \\\n",
    "                    housing.select('total_rooms').toPandas()['total_rooms'].median()"
   ]
  },
  {
   "cell_type": "code",
   "execution_count": 10,
   "id": "18a9ea48",
   "metadata": {},
   "outputs": [],
   "source": [
    "housing = housing.withColumn('total_bedrooms', F.when(housing['total_bedrooms'].isNull(), \\\n",
    "                                  housing['total_rooms'] * kf).otherwise(housing['total_bedrooms']))"
   ]
  },
  {
   "cell_type": "code",
   "execution_count": 11,
   "id": "3bf03eda",
   "metadata": {},
   "outputs": [
    {
     "name": "stdout",
     "output_type": "stream",
     "text": [
      "longitude 0\n",
      "latitude 0\n",
      "housing_median_age 0\n",
      "total_rooms 0\n",
      "total_bedrooms 0\n",
      "population 0\n",
      "households 0\n",
      "median_income 0\n",
      "median_house_value 0\n",
      "ocean_proximity 0\n"
     ]
    }
   ],
   "source": [
    "for column in housing.columns:\n",
    "    print(column, housing.filter(F.col(column).isNull()).count())"
   ]
  },
  {
   "cell_type": "markdown",
   "id": "c3255cd1",
   "metadata": {},
   "source": [
    "* Пропуски устранены"
   ]
  },
  {
   "cell_type": "code",
   "execution_count": 12,
   "id": "ed13fddc",
   "metadata": {},
   "outputs": [
    {
     "data": {
      "image/png": "[encoded data removed]",
      "text/plain": [
       "<Figure size 720x360 with 1 Axes>"
      ]
     },
     "metadata": {
      "needs_background": "light"
     },
     "output_type": "display_data"
    }
   ],
   "source": [
    "housing.select('longitude').toPandas().hist(figsize=(10, 5), grid=True)\n",
    "plt.xlabel('Широта')\n",
    "plt.ylabel('Кол-во записей')\n",
    "plt.title('Широта')\n",
    "plt.show() "
   ]
  },
  {
   "cell_type": "markdown",
   "id": "20dc2734",
   "metadata": {},
   "source": [
    "* Значения корректные"
   ]
  },
  {
   "cell_type": "code",
   "execution_count": 13,
   "id": "6ce9f3a5",
   "metadata": {},
   "outputs": [
    {
     "data": {
      "image/png": "[encoded data removed]",
      "text/plain": [
       "<Figure size 720x360 with 1 Axes>"
      ]
     },
     "metadata": {
      "needs_background": "light"
     },
     "output_type": "display_data"
    }
   ],
   "source": [
    "housing.select('latitude').toPandas().hist(figsize=(10, 5), grid=True)\n",
    "plt.xlabel('Долгота')\n",
    "plt.ylabel('Кол-во записей')\n",
    "plt.title('Долгота')\n",
    "plt.show() "
   ]
  },
  {
   "cell_type": "markdown",
   "id": "55c26a5f",
   "metadata": {},
   "source": [
    "* Значения корректные"
   ]
  },
  {
   "cell_type": "code",
   "execution_count": 14,
   "id": "e8a0abf9",
   "metadata": {
    "scrolled": true
   },
   "outputs": [
    {
     "data": {
      "image/png": "[encoded data removed]",
      "text/plain": [
       "<Figure size 720x360 with 1 Axes>"
      ]
     },
     "metadata": {
      "needs_background": "light"
     },
     "output_type": "display_data"
    }
   ],
   "source": [
    "housing.select('housing_median_age').toPandas().hist(figsize=(10, 5), grid=True)\n",
    "plt.xlabel('Возраст, лет')\n",
    "plt.ylabel('Кол-во записей')\n",
    "plt.title('Медианный возраст жителей жилого массива')\n",
    "plt.show() "
   ]
  },
  {
   "cell_type": "markdown",
   "id": "c6a70d4b",
   "metadata": {},
   "source": [
    "* Значения корректные"
   ]
  },
  {
   "cell_type": "code",
   "execution_count": 15,
   "id": "ea1d1f00",
   "metadata": {},
   "outputs": [
    {
     "data": {
      "image/png": "[encoded data removed]",
      "text/plain": [
       "<Figure size 720x360 with 1 Axes>"
      ]
     },
     "metadata": {
      "needs_background": "light"
     },
     "output_type": "display_data"
    }
   ],
   "source": [
    "housing.select('total_rooms').toPandas().hist(figsize=(10, 5), grid=True)\n",
    "plt.xlabel('Кол-во комнат')\n",
    "plt.ylabel('Кол-во записей')\n",
    "plt.title('Общее количество комнат в домах жилого массива')\n",
    "plt.show() "
   ]
  },
  {
   "cell_type": "markdown",
   "id": "5bc24b69",
   "metadata": {},
   "source": [
    "* Значения корректные"
   ]
  },
  {
   "cell_type": "code",
   "execution_count": 16,
   "id": "ad620e4c",
   "metadata": {},
   "outputs": [
    {
     "data": {
      "image/png": "[encoded data removed]",
      "text/plain": [
       "<Figure size 720x360 with 1 Axes>"
      ]
     },
     "metadata": {
      "needs_background": "light"
     },
     "output_type": "display_data"
    }
   ],
   "source": [
    "housing.select('total_bedrooms').toPandas().hist(figsize=(10, 5), grid=True)\n",
    "plt.xlabel('Кол-во спален')\n",
    "plt.ylabel('Кол-во записей')\n",
    "plt.title('Общее количество спален в домах жилого массива')\n",
    "plt.show() "
   ]
  },
  {
   "cell_type": "markdown",
   "id": "2d1a92b8",
   "metadata": {},
   "source": [
    "* Значения корректные"
   ]
  },
  {
   "cell_type": "code",
   "execution_count": 17,
   "id": "4a3cd688",
   "metadata": {},
   "outputs": [
    {
     "data": {
      "image/png": "[encoded data removed]",
      "text/plain": [
       "<Figure size 720x360 with 1 Axes>"
      ]
     },
     "metadata": {
      "needs_background": "light"
     },
     "output_type": "display_data"
    }
   ],
   "source": [
    "housing.select('population').toPandas().hist(figsize=(10, 5), grid=True)\n",
    "plt.xlabel('Кол-во человек')\n",
    "plt.ylabel('Кол-во записей')\n",
    "plt.title('Кол-во человек, которые проживают в жилом массив') \n",
    "plt.show() "
   ]
  },
  {
   "cell_type": "markdown",
   "id": "b5167759",
   "metadata": {},
   "source": [
    "* Значения корректные"
   ]
  },
  {
   "cell_type": "code",
   "execution_count": 18,
   "id": "cd13d89e",
   "metadata": {},
   "outputs": [
    {
     "data": {
      "image/png": "[encoded data removed]",
      "text/plain": [
       "<Figure size 720x360 with 1 Axes>"
      ]
     },
     "metadata": {
      "needs_background": "light"
     },
     "output_type": "display_data"
    }
   ],
   "source": [
    "housing.select('households').toPandas().hist(figsize=(10, 5), grid=True)\n",
    "plt.xlabel('Кол-во домовладений')\n",
    "plt.ylabel('Кол-во записей')\n",
    "plt.title('Кол-во домовладений в жилом массиве')\n",
    "plt.show() "
   ]
  },
  {
   "cell_type": "markdown",
   "id": "ed70fd26",
   "metadata": {},
   "source": [
    "* Значения корректные"
   ]
  },
  {
   "cell_type": "code",
   "execution_count": 19,
   "id": "2368a602",
   "metadata": {},
   "outputs": [
    {
     "data": {
      "image/png": "[encoded data removed]",
      "text/plain": [
       "<Figure size 720x360 with 1 Axes>"
      ]
     },
     "metadata": {
      "needs_background": "light"
     },
     "output_type": "display_data"
    }
   ],
   "source": [
    "housing.select('median_income').toPandas().hist(figsize=(10, 5), grid=True)\n",
    "plt.xlabel('Доход')\n",
    "plt.ylabel('Кол-во записей')\n",
    "plt.title('Медианный доход жителей жилого массива')\n",
    "plt.show() "
   ]
  },
  {
   "cell_type": "markdown",
   "id": "133c38c3",
   "metadata": {},
   "source": [
    "* Значения корректные"
   ]
  },
  {
   "cell_type": "code",
   "execution_count": 20,
   "id": "97d505ea",
   "metadata": {},
   "outputs": [
    {
     "data": {
      "image/png": "[encoded data removed]",
      "text/plain": [
       "<Figure size 720x360 with 1 Axes>"
      ]
     },
     "metadata": {
      "needs_background": "light"
     },
     "output_type": "display_data"
    }
   ],
   "source": [
    "housing.select('median_house_value').toPandas().hist(figsize=(10, 5), grid=True)\n",
    "plt.xlabel('Цена')\n",
    "plt.ylabel('Кол-во записей')\n",
    "plt.title('Медианная стоимость дома в жилом массиве')\n",
    "plt.show() "
   ]
  },
  {
   "cell_type": "markdown",
   "id": "d975459a",
   "metadata": {},
   "source": [
    "* Значения корректные"
   ]
  },
  {
   "cell_type": "code",
   "execution_count": 21,
   "id": "43dd597c",
   "metadata": {},
   "outputs": [
    {
     "data": {
      "text/plain": [
       "ocean_proximity\n",
       "<1H OCEAN          9136\n",
       "INLAND             6551\n",
       "NEAR OCEAN         2658\n",
       "NEAR BAY           2290\n",
       "ISLAND                5\n",
       "dtype: int64"
      ]
     },
     "execution_count": 21,
     "metadata": {},
     "output_type": "execute_result"
    }
   ],
   "source": [
    "housing.select('ocean_proximity').toPandas().value_counts()"
   ]
  },
  {
   "cell_type": "markdown",
   "id": "969faa26",
   "metadata": {},
   "source": [
    "* Значения корректные"
   ]
  },
  {
   "cell_type": "markdown",
   "id": "468d7ea7",
   "metadata": {},
   "source": [
    "## Подготовка признаков и выборок"
   ]
  },
  {
   "cell_type": "markdown",
   "id": "da098005",
   "metadata": {},
   "source": [
    "Создадим списки с числовыми признаками и таргетом"
   ]
  },
  {
   "cell_type": "code",
   "execution_count": 22,
   "id": "3c7df0c4",
   "metadata": {},
   "outputs": [],
   "source": [
    "numerical_cols  = ['longitude', 'latitude', 'housing_median_age', 'total_rooms',\n",
    "                   'total_bedrooms', 'population', 'households', 'median_income']\n",
    "target = 'median_house_value' "
   ]
  },
  {
   "cell_type": "markdown",
   "id": "c2e67fbc",
   "metadata": {},
   "source": [
    "### Подготовка категориальных признаков"
   ]
  },
  {
   "cell_type": "markdown",
   "id": "ff3e2196",
   "metadata": {},
   "source": [
    "Трансформируем категориальные признаки с помощью трансформера StringIndexer"
   ]
  },
  {
   "cell_type": "code",
   "execution_count": 23,
   "id": "27e36918",
   "metadata": {},
   "outputs": [
    {
     "name": "stderr",
     "output_type": "stream",
     "text": [
      "                                                                                \r"
     ]
    }
   ],
   "source": [
    "indexer = StringIndexer(inputCol='ocean_proximity', \n",
    "                        outputCol='ocean_proximity_idx') \n",
    "housing = indexer.fit(housing).transform(housing)"
   ]
  },
  {
   "cell_type": "markdown",
   "id": "d77a1262",
   "metadata": {},
   "source": [
    "Трансформируем категориальные признаки с помощью OHE-кодирования"
   ]
  },
  {
   "cell_type": "code",
   "execution_count": 24,
   "id": "2fedda31",
   "metadata": {},
   "outputs": [],
   "source": [
    "encoder = OneHotEncoder(inputCol='ocean_proximity_idx',\n",
    "                        outputCol='ocean_proximity_ohe')\n",
    "housing  = encoder.fit(housing ).transform(housing)"
   ]
  },
  {
   "cell_type": "markdown",
   "id": "8b9e90cd",
   "metadata": {},
   "source": [
    "### Подготовка числовых признаков"
   ]
  },
  {
   "cell_type": "markdown",
   "id": "2acf98e5",
   "metadata": {},
   "source": [
    "Объеденим все числовые признаки в один столбец"
   ]
  },
  {
   "cell_type": "code",
   "execution_count": 25,
   "id": "bc026463",
   "metadata": {},
   "outputs": [],
   "source": [
    "numerical_assembler = VectorAssembler(inputCols=numerical_cols,\n",
    "                                      outputCol='numerical_features')\n",
    "housing = numerical_assembler.transform(housing)"
   ]
  },
  {
   "cell_type": "markdown",
   "id": "703579e7",
   "metadata": {},
   "source": [
    "Произведем шкалирование столбца с числовыми признаками"
   ]
  },
  {
   "cell_type": "code",
   "execution_count": 26,
   "id": "6f847bf6",
   "metadata": {},
   "outputs": [
    {
     "name": "stderr",
     "output_type": "stream",
     "text": [
      "                                                                                \r"
     ]
    }
   ],
   "source": [
    "standardScaler = StandardScaler(inputCol='numerical_features', \n",
    "                                outputCol='numerical_features_scaled')\n",
    "housing = standardScaler.fit(housing).transform(housing)"
   ]
  },
  {
   "cell_type": "markdown",
   "id": "972e865f",
   "metadata": {},
   "source": [
    "Объеденим все признаки в один столбец"
   ]
  },
  {
   "cell_type": "code",
   "execution_count": 27,
   "id": "ba13c528",
   "metadata": {},
   "outputs": [],
   "source": [
    "all_features = ['ocean_proximity_ohe','numerical_features_scaled']\n",
    "final_assembler = VectorAssembler(inputCols=all_features, \n",
    "                                  outputCol='features') \n",
    "housing = final_assembler.transform(housing)"
   ]
  },
  {
   "cell_type": "markdown",
   "id": "1b61eb6f",
   "metadata": {},
   "source": [
    "* Данные подготовлены, можно приступать к обучению модели"
   ]
  },
  {
   "cell_type": "markdown",
   "id": "8f398b3c",
   "metadata": {},
   "source": [
    "Разделим наш датасет на две части — выборку для обучения и выборку для тестирования качества модели."
   ]
  },
  {
   "cell_type": "code",
   "execution_count": 28,
   "id": "b8f1113d",
   "metadata": {},
   "outputs": [
    {
     "name": "stderr",
     "output_type": "stream",
     "text": [
      "                                                                                \r"
     ]
    },
    {
     "name": "stdout",
     "output_type": "stream",
     "text": [
      "15406 5234\n"
     ]
    },
    {
     "name": "stderr",
     "output_type": "stream",
     "text": [
      "                                                                                \r"
     ]
    }
   ],
   "source": [
    "train_data, test_data = housing.randomSplit([.75,.25], seed=12345)\n",
    "print(train_data.count(), test_data.count()) "
   ]
  },
  {
   "cell_type": "markdown",
   "id": "9f0a82f3",
   "metadata": {
    "id": "9f0a82f3"
   },
   "source": [
    "## Обучение моделей"
   ]
  },
  {
   "cell_type": "markdown",
   "id": "aa9a90c2",
   "metadata": {},
   "source": [
    "### Выборка со всеми признаками"
   ]
  },
  {
   "cell_type": "markdown",
   "id": "55d03a19",
   "metadata": {},
   "source": [
    "Обучим модель"
   ]
  },
  {
   "cell_type": "code",
   "execution_count": 29,
   "id": "d4bdce36",
   "metadata": {},
   "outputs": [
    {
     "name": "stderr",
     "output_type": "stream",
     "text": [
      "22/06/03 10:49:05 WARN BLAS: Failed to load implementation from: com.github.fommil.netlib.NativeSystemBLAS\n",
      "22/06/03 10:49:05 WARN BLAS: Failed to load implementation from: com.github.fommil.netlib.NativeRefBLAS\n",
      "22/06/03 10:49:05 WARN LAPACK: Failed to load implementation from: com.github.fommil.netlib.NativeSystemLAPACK\n",
      "22/06/03 10:49:05 WARN LAPACK: Failed to load implementation from: com.github.fommil.netlib.NativeRefLAPACK\n",
      "                                                                                \r"
     ]
    }
   ],
   "source": [
    "lr_all = LinearRegression(labelCol=target, featuresCol='features')\n",
    "modelEvaluator=RegressionEvaluator(predictionCol=\"prediction\", labelCol=target, metricName=\"r2\")\n",
    "paramGrid = ParamGridBuilder().addGrid(lr_all.regParam, [0.1, 0.01]) \\\n",
    "                              .addGrid(lr_all.elasticNetParam, [0, 1]).build()\n",
    "crossval = CrossValidator(estimator=lr_all,\n",
    "                          estimatorParamMaps=paramGrid,\n",
    "                          evaluator=modelEvaluator,\n",
    "                          numFolds=3)\n",
    "cvModel_all = crossval.fit(train_data)"
   ]
  },
  {
   "cell_type": "markdown",
   "id": "7a76275e",
   "metadata": {},
   "source": [
    "Создадим функцию для вывода и записи оценок качества моделей"
   ]
  },
  {
   "cell_type": "code",
   "execution_count": 30,
   "id": "c0112525",
   "metadata": {},
   "outputs": [],
   "source": [
    "def estimation (model_results, name, write):\n",
    "    \n",
    "    RMSE = round(model_results.rootMeanSquaredError, 2)\n",
    "    r2 = round(model_results.r2, 4)\n",
    "    MAE = round(model_results.meanAbsoluteError, 2)\n",
    "    \n",
    "    print(f'RMSE: {RMSE}')\n",
    "    print(f'r2: {r2}')\n",
    "    print(f'MAE: {MAE}')\n",
    "    \n",
    "    global table_estimation\n",
    "    if write:\n",
    "        table_estimation = table_estimation.append({'Name':name, 'RMSE':RMSE,\n",
    "         'r2':r2,'MAE':MAE}, ignore_index=True)"
   ]
  },
  {
   "cell_type": "markdown",
   "id": "f44f100d",
   "metadata": {},
   "source": [
    "Оценим качество модели на тренировочной выборке"
   ]
  },
  {
   "cell_type": "code",
   "execution_count": 31,
   "id": "15deecad",
   "metadata": {},
   "outputs": [
    {
     "name": "stdout",
     "output_type": "stream",
     "text": [
      "RMSE: 69150.55\n",
      "r2: 0.6399\n",
      "MAE: 50149.97\n"
     ]
    }
   ],
   "source": [
    "estimation(cvModel_all.bestModel.summary, 'All signs', False)"
   ]
  },
  {
   "cell_type": "markdown",
   "id": "66665f07",
   "metadata": {},
   "source": [
    "Создадим пустую сводную таблицу для оценок моделей"
   ]
  },
  {
   "cell_type": "code",
   "execution_count": 32,
   "id": "0afea1d2",
   "metadata": {},
   "outputs": [],
   "source": [
    "table_estimation = pd.DataFrame(columns=['Name', 'RMSE', 'r2', 'MAE'])"
   ]
  },
  {
   "cell_type": "markdown",
   "id": "9b3b7124",
   "metadata": {},
   "source": [
    "Оценим качество модели на тестовой выборке"
   ]
  },
  {
   "cell_type": "code",
   "execution_count": 33,
   "id": "60380f99",
   "metadata": {},
   "outputs": [
    {
     "name": "stderr",
     "output_type": "stream",
     "text": [
      "                                                                                \r"
     ]
    }
   ],
   "source": [
    "test_result = cvModel_all.bestModel.evaluate(test_data)"
   ]
  },
  {
   "cell_type": "code",
   "execution_count": 34,
   "id": "7a1842c4",
   "metadata": {
    "scrolled": true
   },
   "outputs": [
    {
     "name": "stdout",
     "output_type": "stream",
     "text": [
      "RMSE: 67139.77\n",
      "r2: 0.6641\n",
      "MAE: 48938.39\n"
     ]
    }
   ],
   "source": [
    "estimation(test_result, 'All signs', True)"
   ]
  },
  {
   "cell_type": "markdown",
   "id": "2e5258cd",
   "metadata": {},
   "source": [
    "### Выборка с числовыми признаками"
   ]
  },
  {
   "cell_type": "markdown",
   "id": "2723ab5a",
   "metadata": {},
   "source": [
    "Обучим модель"
   ]
  },
  {
   "cell_type": "code",
   "execution_count": 35,
   "id": "bad6e4b3",
   "metadata": {},
   "outputs": [
    {
     "name": "stderr",
     "output_type": "stream",
     "text": [
      "                                                                                \r"
     ]
    }
   ],
   "source": [
    "lr_numbers = LinearRegression(labelCol=target, featuresCol='numerical_features_scaled')\n",
    "modelEvaluator=RegressionEvaluator(predictionCol=\"prediction\", labelCol=target, metricName=\"r2\")\n",
    "paramGrid = ParamGridBuilder().addGrid(lr_numbers.regParam, [0.1, 0.01]) \\\n",
    "                              .addGrid(lr_numbers.elasticNetParam, [0, 1]).build()\n",
    "crossval = CrossValidator(estimator=lr_numbers,\n",
    "                          estimatorParamMaps=paramGrid,\n",
    "                          evaluator=modelEvaluator,\n",
    "                          numFolds=3)\n",
    "cvModel_numbers = crossval.fit(train_data)"
   ]
  },
  {
   "cell_type": "markdown",
   "id": "347df662",
   "metadata": {},
   "source": [
    "Оценим качество модели на тренировочной выборке"
   ]
  },
  {
   "cell_type": "code",
   "execution_count": 36,
   "id": "99906f87",
   "metadata": {},
   "outputs": [
    {
     "name": "stdout",
     "output_type": "stream",
     "text": [
      "RMSE: 70036.37\n",
      "r2: 0.6306\n",
      "MAE: 51195.97\n"
     ]
    }
   ],
   "source": [
    "estimation(cvModel_numbers.bestModel.summary, 'numbers signs', False)"
   ]
  },
  {
   "cell_type": "markdown",
   "id": "d751c3ff",
   "metadata": {},
   "source": [
    "Оценим качество модели на тестовой выборке"
   ]
  },
  {
   "cell_type": "code",
   "execution_count": 37,
   "id": "4eeadacf",
   "metadata": {},
   "outputs": [
    {
     "name": "stderr",
     "output_type": "stream",
     "text": [
      "                                                                                \r"
     ]
    }
   ],
   "source": [
    "test_result = cvModel_numbers.bestModel.evaluate(test_data)"
   ]
  },
  {
   "cell_type": "code",
   "execution_count": 38,
   "id": "02ab1ca5",
   "metadata": {
    "scrolled": false
   },
   "outputs": [
    {
     "name": "stdout",
     "output_type": "stream",
     "text": [
      "RMSE: 68177.09\n",
      "r2: 0.6536\n",
      "MAE: 50103.21\n"
     ]
    }
   ],
   "source": [
    "estimation(test_result, 'numbers signs', True)"
   ]
  },
  {
   "cell_type": "markdown",
   "id": "757fd103",
   "metadata": {
    "id": "757fd103"
   },
   "source": [
    "## Анализ результатов"
   ]
  },
  {
   "cell_type": "code",
   "execution_count": 39,
   "id": "93d71276",
   "metadata": {},
   "outputs": [
    {
     "data": {
      "text/html": [
       "<div>\n",
       "<style scoped>\n",
       "    .dataframe tbody tr th:only-of-type {\n",
       "        vertical-align: middle;\n",
       "    }\n",
       "\n",
       "    .dataframe tbody tr th {\n",
       "        vertical-align: top;\n",
       "    }\n",
       "\n",
       "    .dataframe thead th {\n",
       "        text-align: right;\n",
       "    }\n",
       "</style>\n",
       "<table border=\"1\" class=\"dataframe\">\n",
       "  <thead>\n",
       "    <tr style=\"text-align: right;\">\n",
       "      <th></th>\n",
       "      <th>Name</th>\n",
       "      <th>RMSE</th>\n",
       "      <th>r2</th>\n",
       "      <th>MAE</th>\n",
       "    </tr>\n",
       "  </thead>\n",
       "  <tbody>\n",
       "    <tr>\n",
       "      <th>0</th>\n",
       "      <td>All signs</td>\n",
       "      <td>67139.77</td>\n",
       "      <td>0.6641</td>\n",
       "      <td>48938.39</td>\n",
       "    </tr>\n",
       "    <tr>\n",
       "      <th>1</th>\n",
       "      <td>numbers signs</td>\n",
       "      <td>68177.09</td>\n",
       "      <td>0.6536</td>\n",
       "      <td>50103.21</td>\n",
       "    </tr>\n",
       "  </tbody>\n",
       "</table>\n",
       "</div>"
      ],
      "text/plain": [
       "            Name      RMSE      r2       MAE\n",
       "0      All signs  67139.77  0.6641  48938.39\n",
       "1  numbers signs  68177.09  0.6536  50103.21"
      ]
     },
     "execution_count": 39,
     "metadata": {},
     "output_type": "execute_result"
    }
   ],
   "source": [
    "table_estimation"
   ]
  },
  {
   "cell_type": "markdown",
   "id": "e5cdbf03",
   "metadata": {},
   "source": [
    "* Удаление категориальных признаков приводит к ухудшению качества модели;\n",
    "* Использование всех признаков является оптимальным вариантом в нашем случае."
   ]
  }
 ],
 "metadata": {
  "ExecuteTimeLog": [
   {
    "duration": 36,
    "start_time": "2022-05-27T08:54:50.671Z"
   },
   {
    "duration": 792,
    "start_time": "2022-05-27T08:56:56.314Z"
   },
   {
    "duration": 4,
    "start_time": "2022-05-27T08:58:34.186Z"
   },
   {
    "duration": 16137,
    "start_time": "2022-05-27T09:07:25.160Z"
   },
   {
    "duration": 10504,
    "start_time": "2022-05-27T09:11:37.580Z"
   },
   {
    "duration": 18,
    "start_time": "2022-05-27T09:15:18.928Z"
   },
   {
    "duration": 807,
    "start_time": "2022-05-27T09:21:13.785Z"
   },
   {
    "duration": 1474,
    "start_time": "2022-05-27T09:24:26.204Z"
   },
   {
    "duration": 95,
    "start_time": "2022-05-27T09:24:36.997Z"
   },
   {
    "duration": 4382,
    "start_time": "2022-05-27T09:24:44.711Z"
   },
   {
    "duration": 12,
    "start_time": "2022-05-27T09:25:40.750Z"
   },
   {
    "duration": 5437,
    "start_time": "2022-05-27T09:25:54.717Z"
   },
   {
    "duration": 1645,
    "start_time": "2022-05-27T09:27:28.816Z"
   },
   {
    "duration": 3379,
    "start_time": "2022-05-27T09:27:40.329Z"
   },
   {
    "duration": 3063,
    "start_time": "2022-05-27T09:28:18.716Z"
   },
   {
    "duration": 2919,
    "start_time": "2022-05-27T09:33:19.512Z"
   },
   {
    "duration": 2526,
    "start_time": "2022-05-27T09:36:54.656Z"
   },
   {
    "duration": 2,
    "start_time": "2022-05-27T09:38:58.154Z"
   },
   {
    "duration": 616,
    "start_time": "2022-05-30T10:46:54.279Z"
   },
   {
    "duration": 20987,
    "start_time": "2022-05-30T10:46:54.897Z"
   },
   {
    "duration": 9555,
    "start_time": "2022-05-30T10:47:15.886Z"
   },
   {
    "duration": 16,
    "start_time": "2022-05-30T10:47:25.443Z"
   },
   {
    "duration": 728,
    "start_time": "2022-05-30T10:47:25.523Z"
   },
   {
    "duration": 1214,
    "start_time": "2022-05-30T10:47:26.253Z"
   },
   {
    "duration": 5992,
    "start_time": "2022-05-30T10:47:27.469Z"
   },
   {
    "duration": 67,
    "start_time": "2022-05-30T10:47:33.463Z"
   },
   {
    "duration": 88,
    "start_time": "2022-05-30T10:50:36.070Z"
   },
   {
    "duration": 303,
    "start_time": "2022-05-30T10:52:08.149Z"
   },
   {
    "duration": 239,
    "start_time": "2022-05-30T10:52:21.031Z"
   },
   {
    "duration": 17,
    "start_time": "2022-05-30T10:52:56.077Z"
   },
   {
    "duration": 1532,
    "start_time": "2022-05-30T10:54:17.152Z"
   },
   {
    "duration": 219,
    "start_time": "2022-05-30T10:54:48.237Z"
   },
   {
    "duration": 376,
    "start_time": "2022-05-30T10:55:14.165Z"
   },
   {
    "duration": 383,
    "start_time": "2022-05-30T10:56:55.757Z"
   },
   {
    "duration": 4,
    "start_time": "2022-05-30T10:57:20.701Z"
   },
   {
    "duration": 285,
    "start_time": "2022-05-30T10:57:28.184Z"
   },
   {
    "duration": 499,
    "start_time": "2022-05-30T10:57:51.809Z"
   },
   {
    "duration": 318,
    "start_time": "2022-05-30T11:14:50.357Z"
   },
   {
    "duration": 343,
    "start_time": "2022-05-30T11:14:59.437Z"
   },
   {
    "duration": 556,
    "start_time": "2022-05-30T11:19:45.449Z"
   },
   {
    "duration": 420,
    "start_time": "2022-05-30T11:20:40.531Z"
   },
   {
    "duration": 301,
    "start_time": "2022-05-30T11:25:57.983Z"
   },
   {
    "duration": 348,
    "start_time": "2022-05-30T11:27:43.475Z"
   },
   {
    "duration": 37,
    "start_time": "2022-05-30T11:28:07.545Z"
   },
   {
    "duration": 361,
    "start_time": "2022-05-30T11:28:16.904Z"
   },
   {
    "duration": 397,
    "start_time": "2022-05-30T11:28:39.263Z"
   },
   {
    "duration": 387,
    "start_time": "2022-05-30T11:29:53.784Z"
   },
   {
    "duration": 379,
    "start_time": "2022-05-30T11:29:59.092Z"
   },
   {
    "duration": 443,
    "start_time": "2022-05-30T11:30:07.844Z"
   },
   {
    "duration": 32,
    "start_time": "2022-05-30T11:30:10.672Z"
   },
   {
    "duration": 403,
    "start_time": "2022-05-30T11:30:42.959Z"
   },
   {
    "duration": 375,
    "start_time": "2022-05-30T11:30:43.364Z"
   },
   {
    "duration": 452,
    "start_time": "2022-05-30T11:30:58.462Z"
   },
   {
    "duration": 343,
    "start_time": "2022-05-30T11:31:37.762Z"
   },
   {
    "duration": 431,
    "start_time": "2022-05-30T11:32:08.144Z"
   },
   {
    "duration": 503,
    "start_time": "2022-05-30T11:32:18.002Z"
   },
   {
    "duration": 373,
    "start_time": "2022-05-30T11:32:27.791Z"
   },
   {
    "duration": 308,
    "start_time": "2022-05-30T11:32:32.648Z"
   },
   {
    "duration": 256,
    "start_time": "2022-05-30T11:33:06.739Z"
   },
   {
    "duration": 161,
    "start_time": "2022-05-30T11:33:15.952Z"
   },
   {
    "duration": 313,
    "start_time": "2022-05-30T11:34:11.574Z"
   },
   {
    "duration": 303,
    "start_time": "2022-05-30T11:34:15.602Z"
   },
   {
    "duration": 3140,
    "start_time": "2022-05-30T11:40:47.421Z"
   },
   {
    "duration": 289,
    "start_time": "2022-05-30T11:41:30.622Z"
   },
   {
    "duration": 291,
    "start_time": "2022-05-30T11:42:24.055Z"
   },
   {
    "duration": 154,
    "start_time": "2022-05-30T11:42:33.053Z"
   },
   {
    "duration": 209,
    "start_time": "2022-05-30T11:43:08.358Z"
   },
   {
    "duration": 229,
    "start_time": "2022-05-30T11:43:15.454Z"
   },
   {
    "duration": 479,
    "start_time": "2022-05-30T11:44:05.050Z"
   },
   {
    "duration": 120,
    "start_time": "2022-05-30T11:46:52.883Z"
   },
   {
    "duration": 26,
    "start_time": "2022-05-30T11:48:25.522Z"
   },
   {
    "duration": 19,
    "start_time": "2022-05-30T11:48:36.554Z"
   },
   {
    "duration": 2333,
    "start_time": "2022-05-30T11:49:55.022Z"
   },
   {
    "duration": 72,
    "start_time": "2022-05-30T11:50:08.304Z"
   },
   {
    "duration": 12,
    "start_time": "2022-05-30T11:52:01.262Z"
   },
   {
    "duration": 172,
    "start_time": "2022-05-30T11:52:58.695Z"
   },
   {
    "duration": 15,
    "start_time": "2022-05-30T11:54:03.157Z"
   },
   {
    "duration": 42,
    "start_time": "2022-05-30T11:55:19.362Z"
   },
   {
    "duration": 189,
    "start_time": "2022-05-30T11:55:24.056Z"
   },
   {
    "duration": 12,
    "start_time": "2022-05-30T12:00:10.490Z"
   },
   {
    "duration": 14,
    "start_time": "2022-05-30T12:00:19.385Z"
   },
   {
    "duration": 5,
    "start_time": "2022-05-30T12:00:50.383Z"
   },
   {
    "duration": 14,
    "start_time": "2022-05-30T12:01:02.523Z"
   },
   {
    "duration": 1257,
    "start_time": "2022-05-30T12:01:19.313Z"
   },
   {
    "duration": 5,
    "start_time": "2022-05-30T12:02:24.582Z"
   },
   {
    "duration": 17,
    "start_time": "2022-05-30T12:02:34.574Z"
   },
   {
    "duration": 14,
    "start_time": "2022-05-30T12:03:23.260Z"
   },
   {
    "duration": 22,
    "start_time": "2022-05-30T12:04:08.344Z"
   },
   {
    "duration": 2092,
    "start_time": "2022-05-30T12:05:04.147Z"
   },
   {
    "duration": 2175,
    "start_time": "2022-05-30T12:05:38.150Z"
   },
   {
    "duration": 89,
    "start_time": "2022-05-30T12:05:47.402Z"
   },
   {
    "duration": 3149,
    "start_time": "2022-05-30T12:06:11.903Z"
   },
   {
    "duration": 1561,
    "start_time": "2022-05-30T12:06:55.770Z"
   },
   {
    "duration": 189,
    "start_time": "2022-05-30T12:10:01.889Z"
   },
   {
    "duration": 18,
    "start_time": "2022-05-30T12:10:26.229Z"
   },
   {
    "duration": 2072,
    "start_time": "2022-05-30T12:11:05.902Z"
   },
   {
    "duration": 1577,
    "start_time": "2022-05-30T12:11:49.881Z"
   },
   {
    "duration": 9,
    "start_time": "2022-05-30T12:17:12.400Z"
   },
   {
    "duration": 10,
    "start_time": "2022-05-30T12:17:45.769Z"
   },
   {
    "duration": 9,
    "start_time": "2022-05-30T12:17:57.607Z"
   },
   {
    "duration": 19,
    "start_time": "2022-05-30T12:18:10.221Z"
   },
   {
    "duration": 35,
    "start_time": "2022-05-30T12:18:40.064Z"
   },
   {
    "duration": 2223,
    "start_time": "2022-05-30T12:18:44.540Z"
   },
   {
    "duration": 13,
    "start_time": "2022-05-30T12:28:16.077Z"
   },
   {
    "duration": 236,
    "start_time": "2022-05-30T12:28:42.019Z"
   },
   {
    "duration": 7,
    "start_time": "2022-05-30T12:29:26.620Z"
   },
   {
    "duration": 32,
    "start_time": "2022-05-30T12:29:26.630Z"
   },
   {
    "duration": 521,
    "start_time": "2022-05-30T12:29:26.663Z"
   },
   {
    "duration": 3,
    "start_time": "2022-05-30T12:29:27.187Z"
   },
   {
    "duration": 166,
    "start_time": "2022-05-30T12:29:27.227Z"
   },
   {
    "duration": 375,
    "start_time": "2022-05-30T12:29:27.423Z"
   },
   {
    "duration": 2400,
    "start_time": "2022-05-30T12:29:27.800Z"
   },
   {
    "duration": 1907,
    "start_time": "2022-05-30T12:29:30.201Z"
   },
   {
    "duration": 1723,
    "start_time": "2022-05-30T12:29:32.110Z"
   },
   {
    "duration": 19,
    "start_time": "2022-05-30T12:29:33.834Z"
   },
   {
    "duration": 19,
    "start_time": "2022-05-30T12:29:33.854Z"
   },
   {
    "duration": 2015,
    "start_time": "2022-05-30T12:29:43.368Z"
   },
   {
    "duration": 25,
    "start_time": "2022-05-30T12:32:09.047Z"
   },
   {
    "duration": 340,
    "start_time": "2022-05-30T12:32:30.553Z"
   },
   {
    "duration": 513,
    "start_time": "2022-05-30T12:34:21.346Z"
   },
   {
    "duration": 546,
    "start_time": "2022-05-30T12:34:34.853Z"
   },
   {
    "duration": 432,
    "start_time": "2022-05-30T12:34:40.658Z"
   },
   {
    "duration": 328,
    "start_time": "2022-05-30T12:35:17.379Z"
   },
   {
    "duration": 782,
    "start_time": "2022-05-30T12:35:53.898Z"
   },
   {
    "duration": 5,
    "start_time": "2022-05-30T12:37:52.196Z"
   },
   {
    "duration": 6,
    "start_time": "2022-05-30T12:37:52.204Z"
   },
   {
    "duration": 359,
    "start_time": "2022-05-30T12:37:52.212Z"
   },
   {
    "duration": 7,
    "start_time": "2022-05-30T12:37:52.573Z"
   },
   {
    "duration": 152,
    "start_time": "2022-05-30T12:37:52.582Z"
   },
   {
    "duration": 474,
    "start_time": "2022-05-30T12:37:52.735Z"
   },
   {
    "duration": 1980,
    "start_time": "2022-05-30T12:37:53.211Z"
   },
   {
    "duration": 1756,
    "start_time": "2022-05-30T12:37:55.193Z"
   },
   {
    "duration": 1482,
    "start_time": "2022-05-30T12:37:56.950Z"
   },
   {
    "duration": 465,
    "start_time": "2022-05-30T12:37:58.433Z"
   },
   {
    "duration": 27,
    "start_time": "2022-05-30T12:37:58.899Z"
   },
   {
    "duration": 2150,
    "start_time": "2022-05-30T12:37:58.928Z"
   },
   {
    "duration": 1638,
    "start_time": "2022-05-31T10:28:52.548Z"
   },
   {
    "duration": 19948,
    "start_time": "2022-05-31T10:28:54.188Z"
   },
   {
    "duration": 8813,
    "start_time": "2022-05-31T10:29:14.138Z"
   },
   {
    "duration": 14,
    "start_time": "2022-05-31T10:29:22.953Z"
   },
   {
    "duration": 729,
    "start_time": "2022-05-31T10:29:23.027Z"
   },
   {
    "duration": 1514,
    "start_time": "2022-05-31T10:29:23.758Z"
   },
   {
    "duration": 5371,
    "start_time": "2022-05-31T10:29:25.274Z"
   },
   {
    "duration": 790,
    "start_time": "2022-05-31T10:29:30.648Z"
   },
   {
    "duration": 30,
    "start_time": "2022-05-31T10:29:31.440Z"
   },
   {
    "duration": 3469,
    "start_time": "2022-05-31T10:29:31.471Z"
   },
   {
    "duration": 420,
    "start_time": "2022-05-31T10:29:34.942Z"
   },
   {
    "duration": 341,
    "start_time": "2022-05-31T10:29:35.363Z"
   },
   {
    "duration": 502,
    "start_time": "2022-05-31T10:29:35.705Z"
   },
   {
    "duration": 531,
    "start_time": "2022-05-31T10:29:36.211Z"
   },
   {
    "duration": 483,
    "start_time": "2022-05-31T10:29:36.744Z"
   },
   {
    "duration": 374,
    "start_time": "2022-05-31T10:29:37.230Z"
   },
   {
    "duration": 544,
    "start_time": "2022-05-31T10:29:37.605Z"
   },
   {
    "duration": 454,
    "start_time": "2022-05-31T10:29:38.151Z"
   },
   {
    "duration": 406,
    "start_time": "2022-05-31T10:29:38.607Z"
   },
   {
    "duration": 238,
    "start_time": "2022-05-31T10:29:39.015Z"
   },
   {
    "duration": 3,
    "start_time": "2022-05-31T10:29:39.255Z"
   },
   {
    "duration": 274,
    "start_time": "2022-05-31T10:44:37.072Z"
   },
   {
    "duration": 21,
    "start_time": "2022-05-31T10:47:13.579Z"
   },
   {
    "duration": 6,
    "start_time": "2022-05-31T10:50:47.352Z"
   },
   {
    "duration": 1937,
    "start_time": "2022-05-31T10:51:11.413Z"
   },
   {
    "duration": 811,
    "start_time": "2022-05-31T10:53:30.073Z"
   },
   {
    "duration": 9,
    "start_time": "2022-05-31T10:56:09.110Z"
   },
   {
    "duration": 27,
    "start_time": "2022-05-31T10:56:29.490Z"
   },
   {
    "duration": 5,
    "start_time": "2022-05-31T11:01:32.629Z"
   },
   {
    "duration": 10,
    "start_time": "2022-05-31T11:01:32.636Z"
   },
   {
    "duration": 428,
    "start_time": "2022-05-31T11:01:32.647Z"
   },
   {
    "duration": 53,
    "start_time": "2022-05-31T11:01:33.076Z"
   },
   {
    "duration": 151,
    "start_time": "2022-05-31T11:01:33.131Z"
   },
   {
    "duration": 466,
    "start_time": "2022-05-31T11:01:33.330Z"
   },
   {
    "duration": 1797,
    "start_time": "2022-05-31T11:01:33.798Z"
   },
   {
    "duration": 348,
    "start_time": "2022-05-31T11:01:35.596Z"
   },
   {
    "duration": 13,
    "start_time": "2022-05-31T11:01:35.945Z"
   },
   {
    "duration": 1798,
    "start_time": "2022-05-31T11:01:35.959Z"
   },
   {
    "duration": 384,
    "start_time": "2022-05-31T11:01:37.759Z"
   },
   {
    "duration": 262,
    "start_time": "2022-05-31T11:01:38.147Z"
   },
   {
    "duration": 282,
    "start_time": "2022-05-31T11:01:38.411Z"
   },
   {
    "duration": 373,
    "start_time": "2022-05-31T11:01:38.695Z"
   },
   {
    "duration": 337,
    "start_time": "2022-05-31T11:01:39.070Z"
   },
   {
    "duration": 381,
    "start_time": "2022-05-31T11:01:39.409Z"
   },
   {
    "duration": 377,
    "start_time": "2022-05-31T11:01:39.792Z"
   },
   {
    "duration": 377,
    "start_time": "2022-05-31T11:01:40.170Z"
   },
   {
    "duration": 338,
    "start_time": "2022-05-31T11:01:40.549Z"
   },
   {
    "duration": 145,
    "start_time": "2022-05-31T11:01:40.889Z"
   },
   {
    "duration": 3,
    "start_time": "2022-05-31T11:01:41.035Z"
   },
   {
    "duration": 409,
    "start_time": "2022-05-31T11:01:41.039Z"
   },
   {
    "duration": 87,
    "start_time": "2022-05-31T11:01:41.449Z"
   },
   {
    "duration": 38,
    "start_time": "2022-05-31T11:05:44.561Z"
   },
   {
    "duration": 1207,
    "start_time": "2022-05-31T11:05:46.050Z"
   },
   {
    "duration": 260,
    "start_time": "2022-05-31T11:06:03.976Z"
   },
   {
    "duration": 64,
    "start_time": "2022-05-31T11:09:14.050Z"
   },
   {
    "duration": 25,
    "start_time": "2022-05-31T11:09:48.020Z"
   },
   {
    "duration": 8,
    "start_time": "2022-05-31T11:09:50.668Z"
   },
   {
    "duration": 318,
    "start_time": "2022-05-31T11:09:59.040Z"
   },
   {
    "duration": 1181050,
    "start_time": "2022-05-31T11:52:46.249Z"
   },
   {
    "duration": 0,
    "start_time": "2022-05-31T12:12:27.300Z"
   },
   {
    "duration": 3272600,
    "start_time": "2022-05-31T12:12:37.041Z"
   },
   {
    "duration": 45,
    "start_time": "2022-05-31T13:13:20.911Z"
   },
   {
    "duration": 1009,
    "start_time": "2022-05-31T13:13:58.432Z"
   },
   {
    "duration": 20148,
    "start_time": "2022-05-31T13:13:59.443Z"
   },
   {
    "duration": 9035,
    "start_time": "2022-05-31T13:14:19.593Z"
   },
   {
    "duration": 14,
    "start_time": "2022-05-31T13:14:28.631Z"
   },
   {
    "duration": 702,
    "start_time": "2022-05-31T13:14:28.648Z"
   },
   {
    "duration": 1319,
    "start_time": "2022-05-31T13:14:29.352Z"
   },
   {
    "duration": 5256,
    "start_time": "2022-05-31T13:14:30.672Z"
   },
   {
    "duration": 906,
    "start_time": "2022-05-31T13:14:35.931Z"
   },
   {
    "duration": 25,
    "start_time": "2022-05-31T13:14:36.839Z"
   },
   {
    "duration": 3105,
    "start_time": "2022-05-31T13:14:36.926Z"
   },
   {
    "duration": 481,
    "start_time": "2022-05-31T13:14:40.033Z"
   },
   {
    "duration": 452,
    "start_time": "2022-05-31T13:14:40.516Z"
   },
   {
    "duration": 380,
    "start_time": "2022-05-31T13:14:40.969Z"
   },
   {
    "duration": 737,
    "start_time": "2022-05-31T13:14:41.352Z"
   },
   {
    "duration": 686,
    "start_time": "2022-05-31T13:14:42.091Z"
   },
   {
    "duration": 499,
    "start_time": "2022-05-31T13:14:42.778Z"
   },
   {
    "duration": 345,
    "start_time": "2022-05-31T13:14:43.278Z"
   },
   {
    "duration": 440,
    "start_time": "2022-05-31T13:14:43.625Z"
   },
   {
    "duration": 364,
    "start_time": "2022-05-31T13:14:44.066Z"
   },
   {
    "duration": 219,
    "start_time": "2022-05-31T13:14:44.431Z"
   },
   {
    "duration": 3,
    "start_time": "2022-05-31T13:14:44.652Z"
   },
   {
    "duration": 1413,
    "start_time": "2022-05-31T13:14:44.656Z"
   },
   {
    "duration": 379,
    "start_time": "2022-05-31T13:14:46.071Z"
   },
   {
    "duration": 174,
    "start_time": "2022-05-31T13:14:46.453Z"
   },
   {
    "duration": 1511,
    "start_time": "2022-05-31T13:14:46.630Z"
   },
   {
    "duration": 90,
    "start_time": "2022-05-31T13:14:48.144Z"
   },
   {
    "duration": 2435269,
    "start_time": "2022-05-31T13:15:16.899Z"
   },
   {
    "duration": 60,
    "start_time": "2022-05-31T13:55:52.171Z"
   },
   {
    "duration": 34,
    "start_time": "2022-05-31T13:55:52.232Z"
   },
   {
    "duration": 996,
    "start_time": "2022-06-01T06:30:39.617Z"
   },
   {
    "duration": 19143,
    "start_time": "2022-06-01T06:30:40.615Z"
   },
   {
    "duration": 8898,
    "start_time": "2022-06-01T06:30:59.760Z"
   },
   {
    "duration": 14,
    "start_time": "2022-06-01T06:31:08.660Z"
   },
   {
    "duration": 698,
    "start_time": "2022-06-01T06:31:08.676Z"
   },
   {
    "duration": 1125,
    "start_time": "2022-06-01T06:31:09.375Z"
   },
   {
    "duration": 4851,
    "start_time": "2022-06-01T06:31:10.502Z"
   },
   {
    "duration": 935,
    "start_time": "2022-06-01T06:31:15.356Z"
   },
   {
    "duration": 27,
    "start_time": "2022-06-01T06:31:16.352Z"
   },
   {
    "duration": 3093,
    "start_time": "2022-06-01T06:31:16.381Z"
   },
   {
    "duration": 1035,
    "start_time": "2022-06-01T06:31:19.476Z"
   },
   {
    "duration": 361,
    "start_time": "2022-06-01T06:31:20.513Z"
   },
   {
    "duration": 404,
    "start_time": "2022-06-01T06:31:20.875Z"
   },
   {
    "duration": 447,
    "start_time": "2022-06-01T06:31:21.280Z"
   },
   {
    "duration": 477,
    "start_time": "2022-06-01T06:31:21.729Z"
   },
   {
    "duration": 486,
    "start_time": "2022-06-01T06:31:22.208Z"
   },
   {
    "duration": 359,
    "start_time": "2022-06-01T06:31:22.696Z"
   },
   {
    "duration": 527,
    "start_time": "2022-06-01T06:31:23.057Z"
   },
   {
    "duration": 359,
    "start_time": "2022-06-01T06:31:23.585Z"
   },
   {
    "duration": 216,
    "start_time": "2022-06-01T06:31:23.946Z"
   },
   {
    "duration": 3,
    "start_time": "2022-06-01T06:31:24.163Z"
   },
   {
    "duration": 1689,
    "start_time": "2022-06-01T06:31:24.168Z"
   },
   {
    "duration": 307,
    "start_time": "2022-06-01T06:31:25.859Z"
   },
   {
    "duration": 118,
    "start_time": "2022-06-01T06:31:26.168Z"
   },
   {
    "duration": 1190,
    "start_time": "2022-06-01T06:31:26.288Z"
   },
   {
    "duration": 90,
    "start_time": "2022-06-01T06:31:27.480Z"
   },
   {
    "duration": 10371234,
    "start_time": "2022-06-01T06:31:48.977Z"
   },
   {
    "duration": 35,
    "start_time": "2022-06-01T09:25:33.131Z"
   },
   {
    "duration": 10,
    "start_time": "2022-06-01T09:25:33.169Z"
   },
   {
    "duration": 146792,
    "start_time": "2022-06-01T09:25:33.180Z"
   },
   {
    "duration": 0,
    "start_time": "2022-06-01T09:27:59.974Z"
   },
   {
    "duration": 0,
    "start_time": "2022-06-01T09:27:59.975Z"
   },
   {
    "duration": 0,
    "start_time": "2022-06-01T09:27:59.976Z"
   },
   {
    "duration": 0,
    "start_time": "2022-06-01T09:27:59.977Z"
   },
   {
    "duration": 0,
    "start_time": "2022-06-01T09:27:59.978Z"
   },
   {
    "duration": 0,
    "start_time": "2022-06-01T09:27:59.979Z"
   },
   {
    "duration": 0,
    "start_time": "2022-06-01T09:27:59.980Z"
   },
   {
    "duration": 0,
    "start_time": "2022-06-01T09:27:59.980Z"
   },
   {
    "duration": 0,
    "start_time": "2022-06-01T09:27:59.981Z"
   },
   {
    "duration": 0,
    "start_time": "2022-06-01T09:27:59.982Z"
   },
   {
    "duration": 0,
    "start_time": "2022-06-01T09:27:59.983Z"
   },
   {
    "duration": 0,
    "start_time": "2022-06-01T09:27:59.984Z"
   },
   {
    "duration": 0,
    "start_time": "2022-06-01T09:27:59.985Z"
   },
   {
    "duration": 0,
    "start_time": "2022-06-01T09:27:59.986Z"
   },
   {
    "duration": 0,
    "start_time": "2022-06-01T09:27:59.987Z"
   },
   {
    "duration": 0,
    "start_time": "2022-06-01T09:27:59.988Z"
   },
   {
    "duration": 0,
    "start_time": "2022-06-01T09:27:59.989Z"
   },
   {
    "duration": 0,
    "start_time": "2022-06-01T09:27:59.989Z"
   },
   {
    "duration": 0,
    "start_time": "2022-06-01T09:27:59.990Z"
   },
   {
    "duration": 913,
    "start_time": "2022-06-01T09:28:25.310Z"
   },
   {
    "duration": 14651,
    "start_time": "2022-06-01T09:28:26.225Z"
   },
   {
    "duration": 8410,
    "start_time": "2022-06-01T09:28:40.878Z"
   },
   {
    "duration": 65,
    "start_time": "2022-06-01T09:28:49.290Z"
   },
   {
    "duration": 700,
    "start_time": "2022-06-01T09:28:49.357Z"
   },
   {
    "duration": 1231,
    "start_time": "2022-06-01T09:28:50.059Z"
   },
   {
    "duration": 4898,
    "start_time": "2022-06-01T09:28:51.291Z"
   },
   {
    "duration": 979,
    "start_time": "2022-06-01T09:28:56.191Z"
   },
   {
    "duration": 80,
    "start_time": "2022-06-01T09:28:57.172Z"
   },
   {
    "duration": 3101,
    "start_time": "2022-06-01T09:28:57.254Z"
   },
   {
    "duration": 483,
    "start_time": "2022-06-01T09:29:00.357Z"
   },
   {
    "duration": 480,
    "start_time": "2022-06-01T09:29:00.842Z"
   },
   {
    "duration": 377,
    "start_time": "2022-06-01T09:29:01.323Z"
   },
   {
    "duration": 631,
    "start_time": "2022-06-01T09:29:01.702Z"
   },
   {
    "duration": 601,
    "start_time": "2022-06-01T09:29:02.335Z"
   },
   {
    "duration": 408,
    "start_time": "2022-06-01T09:29:02.937Z"
   },
   {
    "duration": 392,
    "start_time": "2022-06-01T09:29:03.351Z"
   },
   {
    "duration": 591,
    "start_time": "2022-06-01T09:29:03.751Z"
   },
   {
    "duration": 325,
    "start_time": "2022-06-01T09:29:04.344Z"
   },
   {
    "duration": 198,
    "start_time": "2022-06-01T09:29:04.671Z"
   },
   {
    "duration": 3,
    "start_time": "2022-06-01T09:29:04.870Z"
   },
   {
    "duration": 118,
    "start_time": "2022-06-01T09:29:51.826Z"
   },
   {
    "duration": 204,
    "start_time": "2022-06-01T09:30:07.982Z"
   },
   {
    "duration": 222,
    "start_time": "2022-06-01T09:35:21.131Z"
   },
   {
    "duration": 740,
    "start_time": "2022-06-01T09:45:44.013Z"
   },
   {
    "duration": 15221,
    "start_time": "2022-06-01T09:45:44.756Z"
   },
   {
    "duration": 9299,
    "start_time": "2022-06-01T09:45:59.980Z"
   },
   {
    "duration": 72,
    "start_time": "2022-06-01T09:46:09.281Z"
   },
   {
    "duration": 702,
    "start_time": "2022-06-01T09:46:09.358Z"
   },
   {
    "duration": 1455,
    "start_time": "2022-06-01T09:46:10.061Z"
   },
   {
    "duration": 5449,
    "start_time": "2022-06-01T09:46:11.518Z"
   },
   {
    "duration": 1082,
    "start_time": "2022-06-01T09:46:16.971Z"
   },
   {
    "duration": 31,
    "start_time": "2022-06-01T09:46:18.056Z"
   },
   {
    "duration": 3381,
    "start_time": "2022-06-01T09:46:18.089Z"
   },
   {
    "duration": 407,
    "start_time": "2022-06-01T09:46:21.472Z"
   },
   {
    "duration": 385,
    "start_time": "2022-06-01T09:46:21.880Z"
   },
   {
    "duration": 432,
    "start_time": "2022-06-01T09:46:22.267Z"
   },
   {
    "duration": 511,
    "start_time": "2022-06-01T09:46:22.702Z"
   },
   {
    "duration": 466,
    "start_time": "2022-06-01T09:46:23.215Z"
   },
   {
    "duration": 389,
    "start_time": "2022-06-01T09:46:23.683Z"
   },
   {
    "duration": 381,
    "start_time": "2022-06-01T09:46:24.073Z"
   },
   {
    "duration": 512,
    "start_time": "2022-06-01T09:46:24.463Z"
   },
   {
    "duration": 411,
    "start_time": "2022-06-01T09:46:24.977Z"
   },
   {
    "duration": 212,
    "start_time": "2022-06-01T09:46:25.390Z"
   },
   {
    "duration": 2,
    "start_time": "2022-06-01T09:46:25.604Z"
   },
   {
    "duration": 238,
    "start_time": "2022-06-01T09:46:28.923Z"
   },
   {
    "duration": 1231,
    "start_time": "2022-06-01T09:46:32.344Z"
   },
   {
    "duration": 163,
    "start_time": "2022-06-01T09:46:34.425Z"
   },
   {
    "duration": 3025139,
    "start_time": "2022-06-01T09:47:32.392Z"
   },
   {
    "duration": 741,
    "start_time": "2022-06-01T10:39:05.356Z"
   },
   {
    "duration": 15382,
    "start_time": "2022-06-01T10:39:06.893Z"
   },
   {
    "duration": 8786,
    "start_time": "2022-06-01T10:39:22.276Z"
   },
   {
    "duration": 2387,
    "start_time": "2022-06-01T10:39:31.065Z"
   },
   {
    "duration": 699,
    "start_time": "2022-06-01T10:39:33.454Z"
   },
   {
    "duration": 127,
    "start_time": "2022-06-01T10:39:36.304Z"
   },
   {
    "duration": 3,
    "start_time": "2022-06-01T10:39:50.493Z"
   },
   {
    "duration": 835,
    "start_time": "2022-06-01T12:01:32.507Z"
   },
   {
    "duration": 15920,
    "start_time": "2022-06-01T12:01:33.344Z"
   },
   {
    "duration": 10695,
    "start_time": "2022-06-01T12:01:49.266Z"
   },
   {
    "duration": 16,
    "start_time": "2022-06-01T12:01:59.964Z"
   },
   {
    "duration": 986,
    "start_time": "2022-06-01T12:01:59.984Z"
   },
   {
    "duration": 1481,
    "start_time": "2022-06-01T12:02:00.972Z"
   },
   {
    "duration": 5947,
    "start_time": "2022-06-01T12:02:02.455Z"
   },
   {
    "duration": 916,
    "start_time": "2022-06-01T12:02:08.451Z"
   },
   {
    "duration": 38,
    "start_time": "2022-06-01T12:02:09.370Z"
   },
   {
    "duration": 4042,
    "start_time": "2022-06-01T12:02:09.452Z"
   },
   {
    "duration": 586,
    "start_time": "2022-06-01T12:02:13.495Z"
   },
   {
    "duration": 471,
    "start_time": "2022-06-01T12:02:14.083Z"
   },
   {
    "duration": 413,
    "start_time": "2022-06-01T12:02:14.556Z"
   },
   {
    "duration": 738,
    "start_time": "2022-06-01T12:02:14.973Z"
   },
   {
    "duration": 563,
    "start_time": "2022-06-01T12:02:15.714Z"
   },
   {
    "duration": 513,
    "start_time": "2022-06-01T12:02:16.279Z"
   },
   {
    "duration": 591,
    "start_time": "2022-06-01T12:02:16.795Z"
   },
   {
    "duration": 827,
    "start_time": "2022-06-01T12:02:17.389Z"
   },
   {
    "duration": 585,
    "start_time": "2022-06-01T12:02:18.219Z"
   },
   {
    "duration": 290,
    "start_time": "2022-06-01T12:02:18.807Z"
   },
   {
    "duration": 52,
    "start_time": "2022-06-01T12:02:19.100Z"
   },
   {
    "duration": 4,
    "start_time": "2022-06-01T12:02:19.155Z"
   },
   {
    "duration": 1797,
    "start_time": "2022-06-01T12:02:19.161Z"
   },
   {
    "duration": 250,
    "start_time": "2022-06-01T12:02:20.960Z"
   },
   {
    "duration": 90,
    "start_time": "2022-06-01T12:02:21.212Z"
   },
   {
    "duration": 1532,
    "start_time": "2022-06-01T12:02:21.353Z"
   },
   {
    "duration": 30,
    "start_time": "2022-06-01T12:02:22.953Z"
   },
   {
    "duration": 1014,
    "start_time": "2022-06-02T05:39:08.616Z"
   },
   {
    "duration": 13994,
    "start_time": "2022-06-02T05:39:09.632Z"
   },
   {
    "duration": 7686,
    "start_time": "2022-06-02T05:39:23.628Z"
   },
   {
    "duration": 79,
    "start_time": "2022-06-02T05:39:31.316Z"
   },
   {
    "duration": 601,
    "start_time": "2022-06-02T05:39:31.398Z"
   },
   {
    "duration": 993,
    "start_time": "2022-06-02T05:39:32.001Z"
   },
   {
    "duration": 4401,
    "start_time": "2022-06-02T05:39:32.996Z"
   },
   {
    "duration": 716,
    "start_time": "2022-06-02T05:39:37.399Z"
   },
   {
    "duration": 79,
    "start_time": "2022-06-02T05:39:38.117Z"
   },
   {
    "duration": 2566,
    "start_time": "2022-06-02T05:39:38.197Z"
   },
   {
    "duration": 417,
    "start_time": "2022-06-02T05:39:40.792Z"
   },
   {
    "duration": 362,
    "start_time": "2022-06-02T05:39:41.211Z"
   },
   {
    "duration": 370,
    "start_time": "2022-06-02T05:39:41.574Z"
   },
   {
    "duration": 420,
    "start_time": "2022-06-02T05:39:41.946Z"
   },
   {
    "duration": 632,
    "start_time": "2022-06-02T05:39:42.368Z"
   },
   {
    "duration": 343,
    "start_time": "2022-06-02T05:39:43.002Z"
   },
   {
    "duration": 309,
    "start_time": "2022-06-02T05:39:43.346Z"
   },
   {
    "duration": 408,
    "start_time": "2022-06-02T05:39:43.657Z"
   },
   {
    "duration": 370,
    "start_time": "2022-06-02T05:39:44.067Z"
   },
   {
    "duration": 183,
    "start_time": "2022-06-02T05:39:44.438Z"
   },
   {
    "duration": 3,
    "start_time": "2022-06-02T05:39:44.623Z"
   },
   {
    "duration": 6,
    "start_time": "2022-06-02T05:39:44.627Z"
   },
   {
    "duration": 1182,
    "start_time": "2022-06-02T05:39:44.634Z"
   },
   {
    "duration": 289,
    "start_time": "2022-06-02T05:39:45.817Z"
   },
   {
    "duration": 84,
    "start_time": "2022-06-02T05:39:46.108Z"
   },
   {
    "duration": 1200,
    "start_time": "2022-06-02T05:39:46.194Z"
   },
   {
    "duration": 242,
    "start_time": "2022-06-02T05:39:47.396Z"
   },
   {
    "duration": 682,
    "start_time": "2022-06-02T05:59:53.856Z"
   },
   {
    "duration": 13888,
    "start_time": "2022-06-02T05:59:54.540Z"
   },
   {
    "duration": 7511,
    "start_time": "2022-06-02T06:00:08.430Z"
   },
   {
    "duration": 60,
    "start_time": "2022-06-02T06:00:15.943Z"
   },
   {
    "duration": 695,
    "start_time": "2022-06-02T06:00:16.005Z"
   },
   {
    "duration": 1030,
    "start_time": "2022-06-02T06:00:16.702Z"
   },
   {
    "duration": 4180,
    "start_time": "2022-06-02T06:00:17.733Z"
   },
   {
    "duration": 606,
    "start_time": "2022-06-02T06:00:21.915Z"
   },
   {
    "duration": 85,
    "start_time": "2022-06-02T06:00:22.522Z"
   },
   {
    "duration": 2915,
    "start_time": "2022-06-02T06:00:22.609Z"
   },
   {
    "duration": 444,
    "start_time": "2022-06-02T06:00:25.526Z"
   },
   {
    "duration": 317,
    "start_time": "2022-06-02T06:00:25.971Z"
   },
   {
    "duration": 329,
    "start_time": "2022-06-02T06:00:26.291Z"
   },
   {
    "duration": 516,
    "start_time": "2022-06-02T06:00:26.622Z"
   },
   {
    "duration": 562,
    "start_time": "2022-06-02T06:00:27.139Z"
   },
   {
    "duration": 352,
    "start_time": "2022-06-02T06:00:27.702Z"
   },
   {
    "duration": 322,
    "start_time": "2022-06-02T06:00:28.055Z"
   },
   {
    "duration": 384,
    "start_time": "2022-06-02T06:00:28.378Z"
   },
   {
    "duration": 305,
    "start_time": "2022-06-02T06:00:28.763Z"
   },
   {
    "duration": 157,
    "start_time": "2022-06-02T06:00:29.069Z"
   },
   {
    "duration": 125,
    "start_time": "2022-06-02T06:00:29.228Z"
   },
   {
    "duration": 0,
    "start_time": "2022-06-02T06:00:29.355Z"
   },
   {
    "duration": 1247,
    "start_time": "2022-06-02T06:00:53.875Z"
   },
   {
    "duration": 438,
    "start_time": "2022-06-02T06:00:56.365Z"
   },
   {
    "duration": 2,
    "start_time": "2022-06-02T06:01:03.614Z"
   },
   {
    "duration": 1052,
    "start_time": "2022-06-02T06:02:17.882Z"
   },
   {
    "duration": 199,
    "start_time": "2022-06-02T06:02:19.922Z"
   },
   {
    "duration": 45,
    "start_time": "2022-06-02T06:02:21.296Z"
   },
   {
    "duration": 982,
    "start_time": "2022-06-02T06:02:22.915Z"
   },
   {
    "duration": 23,
    "start_time": "2022-06-02T06:02:27.004Z"
   },
   {
    "duration": 86794,
    "start_time": "2022-06-02T06:02:34.433Z"
   },
   {
    "duration": 159879,
    "start_time": "2022-06-02T06:04:12.546Z"
   },
   {
    "duration": 68471,
    "start_time": "2022-06-02T06:07:04.544Z"
   },
   {
    "duration": 16834,
    "start_time": "2022-06-02T06:08:16.124Z"
   },
   {
    "duration": 52,
    "start_time": "2022-06-02T06:08:38.253Z"
   },
   {
    "duration": 9,
    "start_time": "2022-06-02T06:08:38.308Z"
   },
   {
    "duration": 50439,
    "start_time": "2022-06-02T06:08:38.318Z"
   },
   {
    "duration": 0,
    "start_time": "2022-06-02T06:09:28.760Z"
   },
   {
    "duration": 0,
    "start_time": "2022-06-02T06:09:28.762Z"
   },
   {
    "duration": 0,
    "start_time": "2022-06-02T06:09:28.792Z"
   },
   {
    "duration": 0,
    "start_time": "2022-06-02T06:09:28.793Z"
   },
   {
    "duration": 0,
    "start_time": "2022-06-02T06:09:28.795Z"
   },
   {
    "duration": 0,
    "start_time": "2022-06-02T06:09:28.796Z"
   },
   {
    "duration": 0,
    "start_time": "2022-06-02T06:09:28.797Z"
   },
   {
    "duration": 0,
    "start_time": "2022-06-02T06:09:28.798Z"
   },
   {
    "duration": 0,
    "start_time": "2022-06-02T06:09:28.800Z"
   },
   {
    "duration": 0,
    "start_time": "2022-06-02T06:09:28.801Z"
   },
   {
    "duration": 0,
    "start_time": "2022-06-02T06:09:28.802Z"
   },
   {
    "duration": 0,
    "start_time": "2022-06-02T06:09:28.804Z"
   },
   {
    "duration": 0,
    "start_time": "2022-06-02T06:09:28.805Z"
   },
   {
    "duration": 0,
    "start_time": "2022-06-02T06:09:28.807Z"
   },
   {
    "duration": 0,
    "start_time": "2022-06-02T06:09:28.808Z"
   },
   {
    "duration": 0,
    "start_time": "2022-06-02T06:09:28.809Z"
   },
   {
    "duration": 0,
    "start_time": "2022-06-02T06:09:28.809Z"
   },
   {
    "duration": 0,
    "start_time": "2022-06-02T06:09:28.810Z"
   },
   {
    "duration": 0,
    "start_time": "2022-06-02T06:09:28.811Z"
   },
   {
    "duration": 0,
    "start_time": "2022-06-02T06:09:28.812Z"
   },
   {
    "duration": 0,
    "start_time": "2022-06-02T06:09:28.813Z"
   },
   {
    "duration": 755,
    "start_time": "2022-06-02T06:12:05.574Z"
   },
   {
    "duration": 14661,
    "start_time": "2022-06-02T06:12:06.331Z"
   },
   {
    "duration": 8099,
    "start_time": "2022-06-02T06:12:20.994Z"
   },
   {
    "duration": 14,
    "start_time": "2022-06-02T06:12:29.095Z"
   },
   {
    "duration": 691,
    "start_time": "2022-06-02T06:12:29.111Z"
   },
   {
    "duration": 1317,
    "start_time": "2022-06-02T06:12:29.805Z"
   },
   {
    "duration": 4876,
    "start_time": "2022-06-02T06:12:31.124Z"
   },
   {
    "duration": 908,
    "start_time": "2022-06-02T06:12:36.002Z"
   },
   {
    "duration": 90,
    "start_time": "2022-06-02T06:12:36.912Z"
   },
   {
    "duration": 2849,
    "start_time": "2022-06-02T06:12:37.004Z"
   },
   {
    "duration": 516,
    "start_time": "2022-06-02T06:12:39.854Z"
   },
   {
    "duration": 348,
    "start_time": "2022-06-02T06:12:40.371Z"
   },
   {
    "duration": 349,
    "start_time": "2022-06-02T06:12:40.721Z"
   },
   {
    "duration": 477,
    "start_time": "2022-06-02T06:12:41.073Z"
   },
   {
    "duration": 508,
    "start_time": "2022-06-02T06:12:41.552Z"
   },
   {
    "duration": 341,
    "start_time": "2022-06-02T06:12:42.061Z"
   },
   {
    "duration": 335,
    "start_time": "2022-06-02T06:12:42.404Z"
   },
   {
    "duration": 444,
    "start_time": "2022-06-02T06:12:42.740Z"
   },
   {
    "duration": 329,
    "start_time": "2022-06-02T06:12:43.185Z"
   },
   {
    "duration": 180,
    "start_time": "2022-06-02T06:12:43.516Z"
   },
   {
    "duration": 1197,
    "start_time": "2022-06-02T06:12:43.697Z"
   },
   {
    "duration": 521,
    "start_time": "2022-06-02T06:12:44.896Z"
   },
   {
    "duration": 3,
    "start_time": "2022-06-02T06:12:45.418Z"
   },
   {
    "duration": 1196,
    "start_time": "2022-06-02T06:12:45.422Z"
   },
   {
    "duration": 390,
    "start_time": "2022-06-02T06:12:46.620Z"
   },
   {
    "duration": 165,
    "start_time": "2022-06-02T06:12:55.872Z"
   },
   {
    "duration": 336,
    "start_time": "2022-06-02T06:12:56.092Z"
   },
   {
    "duration": 161,
    "start_time": "2022-06-02T06:15:06.061Z"
   },
   {
    "duration": 287566,
    "start_time": "2022-06-02T06:15:30.752Z"
   },
   {
    "duration": 4,
    "start_time": "2022-06-02T06:21:11.372Z"
   },
   {
    "duration": 165141,
    "start_time": "2022-06-02T06:21:34.007Z"
   },
   {
    "duration": 114,
    "start_time": "2022-06-02T06:24:28.889Z"
   },
   {
    "duration": 214,
    "start_time": "2022-06-02T06:24:34.601Z"
   },
   {
    "duration": 16921,
    "start_time": "2022-06-02T06:24:35.572Z"
   },
   {
    "duration": 0,
    "start_time": "2022-06-02T06:24:52.494Z"
   },
   {
    "duration": 725,
    "start_time": "2022-06-02T06:25:04.701Z"
   },
   {
    "duration": 14284,
    "start_time": "2022-06-02T06:25:05.428Z"
   },
   {
    "duration": 8487,
    "start_time": "2022-06-02T06:25:19.714Z"
   },
   {
    "duration": 13,
    "start_time": "2022-06-02T06:25:28.202Z"
   },
   {
    "duration": 587,
    "start_time": "2022-06-02T06:25:28.217Z"
   },
   {
    "duration": 1112,
    "start_time": "2022-06-02T06:25:28.805Z"
   },
   {
    "duration": 4407,
    "start_time": "2022-06-02T06:25:29.919Z"
   },
   {
    "duration": 868,
    "start_time": "2022-06-02T06:25:34.328Z"
   },
   {
    "duration": 27,
    "start_time": "2022-06-02T06:25:35.198Z"
   },
   {
    "duration": 2804,
    "start_time": "2022-06-02T06:25:35.227Z"
   },
   {
    "duration": 450,
    "start_time": "2022-06-02T06:25:38.033Z"
   },
   {
    "duration": 387,
    "start_time": "2022-06-02T06:25:38.484Z"
   },
   {
    "duration": 345,
    "start_time": "2022-06-02T06:25:38.872Z"
   },
   {
    "duration": 400,
    "start_time": "2022-06-02T06:25:39.220Z"
   },
   {
    "duration": 440,
    "start_time": "2022-06-02T06:25:39.621Z"
   },
   {
    "duration": 398,
    "start_time": "2022-06-02T06:25:40.062Z"
   },
   {
    "duration": 359,
    "start_time": "2022-06-02T06:25:40.462Z"
   },
   {
    "duration": 532,
    "start_time": "2022-06-02T06:25:40.824Z"
   },
   {
    "duration": 280,
    "start_time": "2022-06-02T06:25:41.358Z"
   },
   {
    "duration": 262,
    "start_time": "2022-06-02T06:25:41.640Z"
   },
   {
    "duration": 1109,
    "start_time": "2022-06-02T06:25:41.904Z"
   },
   {
    "duration": 707,
    "start_time": "2022-06-02T06:25:43.018Z"
   },
   {
    "duration": 2,
    "start_time": "2022-06-02T06:25:43.727Z"
   },
   {
    "duration": 1393,
    "start_time": "2022-06-02T06:25:43.731Z"
   },
   {
    "duration": 476,
    "start_time": "2022-06-02T06:25:45.126Z"
   },
   {
    "duration": 304,
    "start_time": "2022-06-02T06:25:45.604Z"
   },
   {
    "duration": 297,
    "start_time": "2022-06-02T06:25:45.910Z"
   },
   {
    "duration": 108,
    "start_time": "2022-06-02T06:25:46.208Z"
   },
   {
    "duration": 1089,
    "start_time": "2022-06-02T06:25:46.318Z"
   },
   {
    "duration": 98,
    "start_time": "2022-06-02T06:25:47.409Z"
   },
   {
    "duration": 2523,
    "start_time": "2022-06-02T06:26:12.312Z"
   },
   {
    "duration": 694,
    "start_time": "2022-06-02T06:33:37.023Z"
   },
   {
    "duration": 14082,
    "start_time": "2022-06-02T06:33:37.719Z"
   },
   {
    "duration": 7692,
    "start_time": "2022-06-02T06:33:51.803Z"
   },
   {
    "duration": 14,
    "start_time": "2022-06-02T06:33:59.496Z"
   },
   {
    "duration": 604,
    "start_time": "2022-06-02T06:33:59.512Z"
   },
   {
    "duration": 1278,
    "start_time": "2022-06-02T06:34:00.118Z"
   },
   {
    "duration": 4509,
    "start_time": "2022-06-02T06:34:01.398Z"
   },
   {
    "duration": 801,
    "start_time": "2022-06-02T06:34:05.909Z"
   },
   {
    "duration": 86,
    "start_time": "2022-06-02T06:34:06.711Z"
   },
   {
    "duration": 2830,
    "start_time": "2022-06-02T06:34:06.799Z"
   },
   {
    "duration": 456,
    "start_time": "2022-06-02T06:34:09.630Z"
   },
   {
    "duration": 350,
    "start_time": "2022-06-02T06:34:10.087Z"
   },
   {
    "duration": 329,
    "start_time": "2022-06-02T06:34:10.439Z"
   },
   {
    "duration": 468,
    "start_time": "2022-06-02T06:34:10.771Z"
   },
   {
    "duration": 586,
    "start_time": "2022-06-02T06:34:11.240Z"
   },
   {
    "duration": 412,
    "start_time": "2022-06-02T06:34:11.828Z"
   },
   {
    "duration": 318,
    "start_time": "2022-06-02T06:34:12.242Z"
   },
   {
    "duration": 431,
    "start_time": "2022-06-02T06:34:12.561Z"
   },
   {
    "duration": 460,
    "start_time": "2022-06-02T06:34:12.993Z"
   },
   {
    "duration": 171,
    "start_time": "2022-06-02T06:34:13.454Z"
   },
   {
    "duration": 2,
    "start_time": "2022-06-02T06:34:13.627Z"
   },
   {
    "duration": 5,
    "start_time": "2022-06-02T06:34:13.630Z"
   },
   {
    "duration": 4,
    "start_time": "2022-06-02T06:34:13.636Z"
   },
   {
    "duration": 142,
    "start_time": "2022-06-02T06:34:13.642Z"
   },
   {
    "duration": 1,
    "start_time": "2022-06-02T06:34:13.791Z"
   },
   {
    "duration": 0,
    "start_time": "2022-06-02T06:34:13.793Z"
   },
   {
    "duration": 0,
    "start_time": "2022-06-02T06:34:13.794Z"
   },
   {
    "duration": 0,
    "start_time": "2022-06-02T06:34:13.795Z"
   },
   {
    "duration": 0,
    "start_time": "2022-06-02T06:34:13.796Z"
   },
   {
    "duration": 0,
    "start_time": "2022-06-02T06:34:13.798Z"
   },
   {
    "duration": 0,
    "start_time": "2022-06-02T06:34:13.799Z"
   },
   {
    "duration": 696,
    "start_time": "2022-06-02T06:36:34.914Z"
   },
   {
    "duration": 14322,
    "start_time": "2022-06-02T06:36:35.612Z"
   },
   {
    "duration": 7972,
    "start_time": "2022-06-02T06:36:49.936Z"
   },
   {
    "duration": 13,
    "start_time": "2022-06-02T06:36:57.911Z"
   },
   {
    "duration": 681,
    "start_time": "2022-06-02T06:36:57.925Z"
   },
   {
    "duration": 1033,
    "start_time": "2022-06-02T06:36:58.608Z"
   },
   {
    "duration": 4450,
    "start_time": "2022-06-02T06:36:59.643Z"
   },
   {
    "duration": 724,
    "start_time": "2022-06-02T06:37:04.094Z"
   },
   {
    "duration": 85,
    "start_time": "2022-06-02T06:37:04.819Z"
   },
   {
    "duration": 2799,
    "start_time": "2022-06-02T06:37:04.906Z"
   },
   {
    "duration": 394,
    "start_time": "2022-06-02T06:37:07.706Z"
   },
   {
    "duration": 366,
    "start_time": "2022-06-02T06:37:08.101Z"
   },
   {
    "duration": 335,
    "start_time": "2022-06-02T06:37:08.469Z"
   },
   {
    "duration": 612,
    "start_time": "2022-06-02T06:37:08.806Z"
   },
   {
    "duration": 412,
    "start_time": "2022-06-02T06:37:09.420Z"
   },
   {
    "duration": 367,
    "start_time": "2022-06-02T06:37:09.834Z"
   },
   {
    "duration": 347,
    "start_time": "2022-06-02T06:37:10.203Z"
   },
   {
    "duration": 603,
    "start_time": "2022-06-02T06:37:10.552Z"
   },
   {
    "duration": 390,
    "start_time": "2022-06-02T06:37:11.158Z"
   },
   {
    "duration": 176,
    "start_time": "2022-06-02T06:37:11.550Z"
   },
   {
    "duration": 2,
    "start_time": "2022-06-02T06:37:11.727Z"
   },
   {
    "duration": 5,
    "start_time": "2022-06-02T06:37:11.731Z"
   },
   {
    "duration": 6,
    "start_time": "2022-06-02T06:37:11.737Z"
   },
   {
    "duration": 1256,
    "start_time": "2022-06-02T06:37:11.744Z"
   },
   {
    "duration": 427,
    "start_time": "2022-06-02T06:37:13.003Z"
   },
   {
    "duration": 391,
    "start_time": "2022-06-02T06:37:13.432Z"
   },
   {
    "duration": 285,
    "start_time": "2022-06-02T06:37:13.825Z"
   },
   {
    "duration": 98,
    "start_time": "2022-06-02T06:37:14.113Z"
   },
   {
    "duration": 1191,
    "start_time": "2022-06-02T06:37:14.213Z"
   },
   {
    "duration": 23,
    "start_time": "2022-06-02T06:37:15.406Z"
   },
   {
    "duration": 2490,
    "start_time": "2022-06-02T06:37:15.430Z"
   },
   {
    "duration": 51,
    "start_time": "2022-06-02T09:44:25.464Z"
   },
   {
    "duration": 997,
    "start_time": "2022-06-02T09:44:49.351Z"
   },
   {
    "duration": 15624,
    "start_time": "2022-06-02T09:44:50.352Z"
   },
   {
    "duration": 9808,
    "start_time": "2022-06-02T09:45:05.978Z"
   },
   {
    "duration": 15,
    "start_time": "2022-06-02T09:45:15.787Z"
   },
   {
    "duration": 772,
    "start_time": "2022-06-02T09:45:15.804Z"
   },
   {
    "duration": 1421,
    "start_time": "2022-06-02T09:45:16.577Z"
   },
   {
    "duration": 5015,
    "start_time": "2022-06-02T09:45:18.051Z"
   },
   {
    "duration": 627,
    "start_time": "2022-06-02T09:45:23.067Z"
   },
   {
    "duration": 80,
    "start_time": "2022-06-02T09:45:23.696Z"
   },
   {
    "duration": 2975,
    "start_time": "2022-06-02T09:45:23.778Z"
   },
   {
    "duration": 478,
    "start_time": "2022-06-02T09:45:26.755Z"
   },
   {
    "duration": 372,
    "start_time": "2022-06-02T09:45:27.234Z"
   },
   {
    "duration": 396,
    "start_time": "2022-06-02T09:45:27.608Z"
   },
   {
    "duration": 458,
    "start_time": "2022-06-02T09:45:28.007Z"
   },
   {
    "duration": 438,
    "start_time": "2022-06-02T09:45:28.467Z"
   },
   {
    "duration": 407,
    "start_time": "2022-06-02T09:45:28.907Z"
   },
   {
    "duration": 387,
    "start_time": "2022-06-02T09:45:29.316Z"
   },
   {
    "duration": 486,
    "start_time": "2022-06-02T09:45:29.704Z"
   },
   {
    "duration": 351,
    "start_time": "2022-06-02T09:45:30.192Z"
   },
   {
    "duration": 162,
    "start_time": "2022-06-02T09:45:30.545Z"
   },
   {
    "duration": 44,
    "start_time": "2022-06-02T09:45:30.708Z"
   },
   {
    "duration": 1902,
    "start_time": "2022-06-02T09:45:30.754Z"
   },
   {
    "duration": 418,
    "start_time": "2022-06-02T09:45:32.657Z"
   },
   {
    "duration": 133,
    "start_time": "2022-06-02T09:45:33.076Z"
   },
   {
    "duration": 1371,
    "start_time": "2022-06-02T09:45:33.211Z"
   },
   {
    "duration": 91,
    "start_time": "2022-06-02T09:45:34.584Z"
   },
   {
    "duration": 2918,
    "start_time": "2022-06-02T09:50:41.844Z"
   },
   {
    "duration": 2695,
    "start_time": "2022-06-02T09:57:01.584Z"
   },
   {
    "duration": 18,
    "start_time": "2022-06-02T09:57:07.192Z"
   },
   {
    "duration": 5,
    "start_time": "2022-06-02T09:58:01.626Z"
   },
   {
    "duration": 9,
    "start_time": "2022-06-02T10:02:34.465Z"
   },
   {
    "duration": 5,
    "start_time": "2022-06-02T10:05:11.765Z"
   },
   {
    "duration": 7,
    "start_time": "2022-06-02T10:07:55.388Z"
   },
   {
    "duration": 6,
    "start_time": "2022-06-02T10:08:01.417Z"
   },
   {
    "duration": 8,
    "start_time": "2022-06-02T10:12:43.155Z"
   },
   {
    "duration": 9,
    "start_time": "2022-06-02T10:15:57.027Z"
   },
   {
    "duration": 1511,
    "start_time": "2022-06-02T10:19:16.121Z"
   },
   {
    "duration": 8,
    "start_time": "2022-06-02T10:19:17.634Z"
   },
   {
    "duration": 8,
    "start_time": "2022-06-02T10:19:25.801Z"
   },
   {
    "duration": 9,
    "start_time": "2022-06-02T10:19:35.673Z"
   },
   {
    "duration": 7,
    "start_time": "2022-06-02T10:19:58.982Z"
   },
   {
    "duration": 3,
    "start_time": "2022-06-02T10:20:20.900Z"
   },
   {
    "duration": 85,
    "start_time": "2022-06-02T10:20:21.341Z"
   },
   {
    "duration": 6,
    "start_time": "2022-06-02T10:20:36.980Z"
   },
   {
    "duration": 10,
    "start_time": "2022-06-02T10:20:42.573Z"
   },
   {
    "duration": 6,
    "start_time": "2022-06-02T10:22:59.493Z"
   },
   {
    "duration": 3,
    "start_time": "2022-06-02T10:23:03.281Z"
   },
   {
    "duration": 40,
    "start_time": "2022-06-02T10:23:03.501Z"
   },
   {
    "duration": 7,
    "start_time": "2022-06-02T10:23:15.913Z"
   },
   {
    "duration": 8,
    "start_time": "2022-06-02T10:23:20.401Z"
   },
   {
    "duration": 12,
    "start_time": "2022-06-02T10:23:45.303Z"
   },
   {
    "duration": 6,
    "start_time": "2022-06-02T10:24:04.563Z"
   },
   {
    "duration": 10,
    "start_time": "2022-06-02T10:24:05.902Z"
   },
   {
    "duration": 9,
    "start_time": "2022-06-02T10:24:08.841Z"
   },
   {
    "duration": 8,
    "start_time": "2022-06-02T10:25:30.820Z"
   },
   {
    "duration": 9,
    "start_time": "2022-06-02T10:25:34.633Z"
   },
   {
    "duration": 9,
    "start_time": "2022-06-02T10:25:36.102Z"
   },
   {
    "duration": 6,
    "start_time": "2022-06-02T10:27:08.673Z"
   },
   {
    "duration": 8,
    "start_time": "2022-06-02T10:27:09.901Z"
   },
   {
    "duration": 6,
    "start_time": "2022-06-02T10:27:22.241Z"
   },
   {
    "duration": 5,
    "start_time": "2022-06-02T10:27:39.080Z"
   },
   {
    "duration": 7,
    "start_time": "2022-06-02T10:27:40.281Z"
   },
   {
    "duration": 4,
    "start_time": "2022-06-02T10:27:58.720Z"
   },
   {
    "duration": 6,
    "start_time": "2022-06-02T10:28:05.763Z"
   },
   {
    "duration": 6,
    "start_time": "2022-06-02T10:28:08.993Z"
   },
   {
    "duration": 8,
    "start_time": "2022-06-02T10:28:09.793Z"
   },
   {
    "duration": 7,
    "start_time": "2022-06-02T10:28:36.042Z"
   },
   {
    "duration": 1288,
    "start_time": "2022-06-02T10:28:37.001Z"
   },
   {
    "duration": 7,
    "start_time": "2022-06-02T10:28:38.351Z"
   },
   {
    "duration": 7,
    "start_time": "2022-06-02T10:28:38.672Z"
   },
   {
    "duration": 9,
    "start_time": "2022-06-02T10:28:39.901Z"
   },
   {
    "duration": 735,
    "start_time": "2022-06-02T10:34:27.744Z"
   },
   {
    "duration": 14406,
    "start_time": "2022-06-02T10:34:28.481Z"
   },
   {
    "duration": 9167,
    "start_time": "2022-06-02T10:34:42.890Z"
   },
   {
    "duration": 23,
    "start_time": "2022-06-02T10:34:52.058Z"
   },
   {
    "duration": 800,
    "start_time": "2022-06-02T10:34:52.152Z"
   },
   {
    "duration": 1214,
    "start_time": "2022-06-02T10:34:52.954Z"
   },
   {
    "duration": 4994,
    "start_time": "2022-06-02T10:34:54.170Z"
   },
   {
    "duration": 793,
    "start_time": "2022-06-02T10:34:59.166Z"
   },
   {
    "duration": 34,
    "start_time": "2022-06-02T10:34:59.961Z"
   },
   {
    "duration": 3260,
    "start_time": "2022-06-02T10:34:59.997Z"
   },
   {
    "duration": 453,
    "start_time": "2022-06-02T10:35:03.259Z"
   },
   {
    "duration": 445,
    "start_time": "2022-06-02T10:35:03.714Z"
   },
   {
    "duration": 424,
    "start_time": "2022-06-02T10:35:04.161Z"
   },
   {
    "duration": 501,
    "start_time": "2022-06-02T10:35:04.588Z"
   },
   {
    "duration": 570,
    "start_time": "2022-06-02T10:35:05.091Z"
   },
   {
    "duration": 393,
    "start_time": "2022-06-02T10:35:05.663Z"
   },
   {
    "duration": 437,
    "start_time": "2022-06-02T10:35:06.058Z"
   },
   {
    "duration": 469,
    "start_time": "2022-06-02T10:35:06.497Z"
   },
   {
    "duration": 345,
    "start_time": "2022-06-02T10:35:06.968Z"
   },
   {
    "duration": 248,
    "start_time": "2022-06-02T10:35:07.315Z"
   },
   {
    "duration": 4,
    "start_time": "2022-06-02T10:35:07.564Z"
   },
   {
    "duration": 2110,
    "start_time": "2022-06-02T10:35:07.569Z"
   },
   {
    "duration": 372,
    "start_time": "2022-06-02T10:35:09.681Z"
   },
   {
    "duration": 114,
    "start_time": "2022-06-02T10:35:10.055Z"
   },
   {
    "duration": 1618,
    "start_time": "2022-06-02T10:35:10.172Z"
   },
   {
    "duration": 29,
    "start_time": "2022-06-02T10:35:11.852Z"
   },
   {
    "duration": 2804,
    "start_time": "2022-06-02T10:35:11.952Z"
   },
   {
    "duration": 9,
    "start_time": "2022-06-02T10:35:14.758Z"
   },
   {
    "duration": 14,
    "start_time": "2022-06-02T10:35:14.769Z"
   },
   {
    "duration": 1604,
    "start_time": "2022-06-02T10:35:14.784Z"
   },
   {
    "duration": 63,
    "start_time": "2022-06-02T10:35:16.389Z"
   },
   {
    "duration": 7,
    "start_time": "2022-06-02T10:35:16.454Z"
   },
   {
    "duration": 16,
    "start_time": "2022-06-02T10:35:16.462Z"
   },
   {
    "duration": 1144,
    "start_time": "2022-06-03T06:29:56.330Z"
   },
   {
    "duration": 16757,
    "start_time": "2022-06-03T06:29:57.476Z"
   },
   {
    "duration": 8797,
    "start_time": "2022-06-03T06:30:14.236Z"
   },
   {
    "duration": 14,
    "start_time": "2022-06-03T06:30:23.036Z"
   },
   {
    "duration": 686,
    "start_time": "2022-06-03T06:30:23.052Z"
   },
   {
    "duration": 1420,
    "start_time": "2022-06-03T06:30:23.740Z"
   },
   {
    "duration": 4887,
    "start_time": "2022-06-03T06:30:25.162Z"
   },
   {
    "duration": 713,
    "start_time": "2022-06-03T06:30:30.051Z"
   },
   {
    "duration": 85,
    "start_time": "2022-06-03T06:30:30.765Z"
   },
   {
    "duration": 3100,
    "start_time": "2022-06-03T06:30:30.852Z"
   },
   {
    "duration": 722,
    "start_time": "2022-06-03T06:30:33.953Z"
   },
   {
    "duration": 391,
    "start_time": "2022-06-03T06:30:34.729Z"
   },
   {
    "duration": 439,
    "start_time": "2022-06-03T06:30:35.122Z"
   },
   {
    "duration": 494,
    "start_time": "2022-06-03T06:30:35.564Z"
   },
   {
    "duration": 495,
    "start_time": "2022-06-03T06:30:36.060Z"
   },
   {
    "duration": 385,
    "start_time": "2022-06-03T06:30:36.557Z"
   },
   {
    "duration": 428,
    "start_time": "2022-06-03T06:30:36.943Z"
   },
   {
    "duration": 495,
    "start_time": "2022-06-03T06:30:37.373Z"
   },
   {
    "duration": 325,
    "start_time": "2022-06-03T06:30:37.869Z"
   },
   {
    "duration": 188,
    "start_time": "2022-06-03T06:30:38.196Z"
   },
   {
    "duration": 3,
    "start_time": "2022-06-03T06:30:38.428Z"
   },
   {
    "duration": 1423,
    "start_time": "2022-06-03T06:30:38.433Z"
   },
   {
    "duration": 315,
    "start_time": "2022-06-03T06:30:39.858Z"
   },
   {
    "duration": 154,
    "start_time": "2022-06-03T06:30:40.175Z"
   },
   {
    "duration": 1503,
    "start_time": "2022-06-03T06:30:40.331Z"
   },
   {
    "duration": 95,
    "start_time": "2022-06-03T06:30:41.836Z"
   },
   {
    "duration": 3499,
    "start_time": "2022-06-03T06:30:41.933Z"
   },
   {
    "duration": 9,
    "start_time": "2022-06-03T06:30:45.434Z"
   },
   {
    "duration": 32,
    "start_time": "2022-06-03T06:30:45.444Z"
   },
   {
    "duration": 1674,
    "start_time": "2022-06-03T06:30:45.478Z"
   },
   {
    "duration": 7,
    "start_time": "2022-06-03T06:30:47.153Z"
   },
   {
    "duration": 8,
    "start_time": "2022-06-03T06:30:47.162Z"
   },
   {
    "duration": 14,
    "start_time": "2022-06-03T06:30:47.172Z"
   },
   {
    "duration": 4,
    "start_time": "2022-06-03T06:35:17.449Z"
   },
   {
    "duration": 53,
    "start_time": "2022-06-03T07:16:41.175Z"
   },
   {
    "duration": 937,
    "start_time": "2022-06-03T07:46:10.003Z"
   },
   {
    "duration": 15047,
    "start_time": "2022-06-03T07:46:10.942Z"
   },
   {
    "duration": 8606,
    "start_time": "2022-06-03T07:46:25.991Z"
   },
   {
    "duration": 70,
    "start_time": "2022-06-03T07:46:34.599Z"
   },
   {
    "duration": 693,
    "start_time": "2022-06-03T07:46:34.672Z"
   },
   {
    "duration": 1133,
    "start_time": "2022-06-03T07:46:35.367Z"
   },
   {
    "duration": 4969,
    "start_time": "2022-06-03T07:46:36.501Z"
   },
   {
    "duration": 728,
    "start_time": "2022-06-03T07:46:41.472Z"
   },
   {
    "duration": 84,
    "start_time": "2022-06-03T07:46:42.202Z"
   },
   {
    "duration": 2907,
    "start_time": "2022-06-03T07:46:42.287Z"
   },
   {
    "duration": 491,
    "start_time": "2022-06-03T07:46:45.196Z"
   },
   {
    "duration": 361,
    "start_time": "2022-06-03T07:46:45.689Z"
   },
   {
    "duration": 553,
    "start_time": "2022-06-03T07:46:46.052Z"
   },
   {
    "duration": 507,
    "start_time": "2022-06-03T07:46:46.607Z"
   },
   {
    "duration": 509,
    "start_time": "2022-06-03T07:46:47.116Z"
   },
   {
    "duration": 383,
    "start_time": "2022-06-03T07:46:47.627Z"
   },
   {
    "duration": 348,
    "start_time": "2022-06-03T07:46:48.011Z"
   },
   {
    "duration": 498,
    "start_time": "2022-06-03T07:46:48.364Z"
   },
   {
    "duration": 440,
    "start_time": "2022-06-03T07:46:48.865Z"
   },
   {
    "duration": 262,
    "start_time": "2022-06-03T07:46:49.306Z"
   },
   {
    "duration": 2,
    "start_time": "2022-06-03T07:46:49.570Z"
   },
   {
    "duration": 1206,
    "start_time": "2022-06-03T07:46:49.573Z"
   },
   {
    "duration": 299,
    "start_time": "2022-06-03T07:46:50.781Z"
   },
   {
    "duration": 94,
    "start_time": "2022-06-03T07:46:51.082Z"
   },
   {
    "duration": 1393,
    "start_time": "2022-06-03T07:46:51.177Z"
   },
   {
    "duration": 97,
    "start_time": "2022-06-03T07:46:52.572Z"
   },
   {
    "duration": 5,
    "start_time": "2022-06-03T07:58:31.758Z"
   },
   {
    "duration": 44,
    "start_time": "2022-06-03T07:58:39.939Z"
   },
   {
    "duration": 89,
    "start_time": "2022-06-03T07:58:40.535Z"
   },
   {
    "duration": 4,
    "start_time": "2022-06-03T07:59:05.684Z"
   },
   {
    "duration": 17,
    "start_time": "2022-06-03T07:59:10.511Z"
   },
   {
    "duration": 2901,
    "start_time": "2022-06-03T07:59:18.700Z"
   },
   {
    "duration": 16,
    "start_time": "2022-06-03T07:59:56.539Z"
   },
   {
    "duration": 9,
    "start_time": "2022-06-03T08:00:19.776Z"
   },
   {
    "duration": 10,
    "start_time": "2022-06-03T08:00:21.083Z"
   },
   {
    "duration": 8,
    "start_time": "2022-06-03T08:01:00.200Z"
   },
   {
    "duration": 7,
    "start_time": "2022-06-03T08:01:27.114Z"
   },
   {
    "duration": 9,
    "start_time": "2022-06-03T08:01:33.143Z"
   },
   {
    "duration": 9,
    "start_time": "2022-06-03T08:01:39.911Z"
   },
   {
    "duration": 6,
    "start_time": "2022-06-03T08:01:47.096Z"
   },
   {
    "duration": 5,
    "start_time": "2022-06-03T08:02:02.782Z"
   },
   {
    "duration": 12,
    "start_time": "2022-06-03T08:02:13.231Z"
   },
   {
    "duration": 10,
    "start_time": "2022-06-03T08:03:00.591Z"
   },
   {
    "duration": 3,
    "start_time": "2022-06-03T08:03:10.964Z"
   },
   {
    "duration": 8,
    "start_time": "2022-06-03T08:03:28.875Z"
   },
   {
    "duration": 3068,
    "start_time": "2022-06-03T08:03:30.303Z"
   },
   {
    "duration": 3,
    "start_time": "2022-06-03T08:05:31.551Z"
   },
   {
    "duration": 7,
    "start_time": "2022-06-03T08:05:32.215Z"
   },
   {
    "duration": 768,
    "start_time": "2022-06-03T08:05:33.223Z"
   },
   {
    "duration": 7,
    "start_time": "2022-06-03T08:07:35.731Z"
   },
   {
    "duration": 890,
    "start_time": "2022-06-03T08:07:36.375Z"
   },
   {
    "duration": 3,
    "start_time": "2022-06-03T08:14:15.555Z"
   },
   {
    "duration": 7,
    "start_time": "2022-06-03T08:14:33.649Z"
   },
   {
    "duration": 740,
    "start_time": "2022-06-03T08:14:34.649Z"
   },
   {
    "duration": 5,
    "start_time": "2022-06-03T08:16:46.704Z"
   },
   {
    "duration": 3,
    "start_time": "2022-06-03T08:17:00.263Z"
   },
   {
    "duration": 7,
    "start_time": "2022-06-03T08:17:10.103Z"
   },
   {
    "duration": 842,
    "start_time": "2022-06-03T08:17:10.943Z"
   },
   {
    "duration": 1871,
    "start_time": "2022-06-03T08:22:45.201Z"
   },
   {
    "duration": 2085,
    "start_time": "2022-06-03T08:24:17.548Z"
   },
   {
    "duration": 7,
    "start_time": "2022-06-03T08:24:22.697Z"
   },
   {
    "duration": 8,
    "start_time": "2022-06-03T08:30:15.871Z"
   },
   {
    "duration": 18,
    "start_time": "2022-06-03T08:30:27.631Z"
   },
   {
    "duration": 662,
    "start_time": "2022-06-03T08:30:38.120Z"
   },
   {
    "duration": 2183,
    "start_time": "2022-06-03T08:41:24.600Z"
   },
   {
    "duration": 344,
    "start_time": "2022-06-03T08:45:09.645Z"
   },
   {
    "duration": 5,
    "start_time": "2022-06-03T08:45:22.956Z"
   },
   {
    "duration": 8,
    "start_time": "2022-06-03T08:45:22.963Z"
   },
   {
    "duration": 596,
    "start_time": "2022-06-03T08:45:22.973Z"
   },
   {
    "duration": 10,
    "start_time": "2022-06-03T08:45:23.572Z"
   },
   {
    "duration": 210,
    "start_time": "2022-06-03T08:45:23.584Z"
   },
   {
    "duration": 1801,
    "start_time": "2022-06-03T08:45:39.769Z"
   },
   {
    "duration": 9,
    "start_time": "2022-06-03T08:54:52.064Z"
   },
   {
    "duration": 4,
    "start_time": "2022-06-03T08:57:54.792Z"
   },
   {
    "duration": 835,
    "start_time": "2022-06-03T08:58:18.945Z"
   },
   {
    "duration": 15093,
    "start_time": "2022-06-03T08:58:19.782Z"
   },
   {
    "duration": 9914,
    "start_time": "2022-06-03T08:58:34.877Z"
   },
   {
    "duration": 83,
    "start_time": "2022-06-03T08:58:44.794Z"
   },
   {
    "duration": 700,
    "start_time": "2022-06-03T08:58:44.880Z"
   },
   {
    "duration": 4193,
    "start_time": "2022-06-03T08:58:45.582Z"
   },
   {
    "duration": 1008,
    "start_time": "2022-06-03T08:58:49.778Z"
   },
   {
    "duration": 1405,
    "start_time": "2022-06-03T08:58:50.788Z"
   },
   {
    "duration": 3995,
    "start_time": "2022-06-03T08:58:52.195Z"
   },
   {
    "duration": 802,
    "start_time": "2022-06-03T08:58:56.192Z"
   },
   {
    "duration": 76,
    "start_time": "2022-06-03T08:58:56.996Z"
   },
   {
    "duration": 2664,
    "start_time": "2022-06-03T08:58:57.074Z"
   },
   {
    "duration": 482,
    "start_time": "2022-06-03T08:58:59.740Z"
   },
   {
    "duration": 551,
    "start_time": "2022-06-03T08:59:00.225Z"
   },
   {
    "duration": 457,
    "start_time": "2022-06-03T08:59:00.778Z"
   },
   {
    "duration": 540,
    "start_time": "2022-06-03T08:59:01.236Z"
   },
   {
    "duration": 467,
    "start_time": "2022-06-03T08:59:01.777Z"
   },
   {
    "duration": 391,
    "start_time": "2022-06-03T08:59:02.247Z"
   },
   {
    "duration": 419,
    "start_time": "2022-06-03T08:59:02.640Z"
   },
   {
    "duration": 458,
    "start_time": "2022-06-03T08:59:03.065Z"
   },
   {
    "duration": 372,
    "start_time": "2022-06-03T08:59:03.525Z"
   },
   {
    "duration": 148,
    "start_time": "2022-06-03T08:59:03.898Z"
   },
   {
    "duration": 2,
    "start_time": "2022-06-03T08:59:04.065Z"
   },
   {
    "duration": 1317,
    "start_time": "2022-06-03T08:59:04.069Z"
   },
   {
    "duration": 337,
    "start_time": "2022-06-03T08:59:05.388Z"
   },
   {
    "duration": 80,
    "start_time": "2022-06-03T08:59:05.727Z"
   },
   {
    "duration": 1185,
    "start_time": "2022-06-03T08:59:05.809Z"
   },
   {
    "duration": 85,
    "start_time": "2022-06-03T08:59:06.997Z"
   },
   {
    "duration": 3219,
    "start_time": "2022-06-03T08:59:07.084Z"
   },
   {
    "duration": 3679,
    "start_time": "2022-06-03T08:59:51.202Z"
   },
   {
    "duration": 85,
    "start_time": "2022-06-03T09:00:00.242Z"
   },
   {
    "duration": 8,
    "start_time": "2022-06-03T09:05:35.529Z"
   },
   {
    "duration": 32,
    "start_time": "2022-06-03T09:06:30.789Z"
   },
   {
    "duration": 1391,
    "start_time": "2022-06-03T09:06:50.580Z"
   },
   {
    "duration": 9,
    "start_time": "2022-06-03T09:07:40.909Z"
   },
   {
    "duration": 6,
    "start_time": "2022-06-03T09:08:15.000Z"
   },
   {
    "duration": 168,
    "start_time": "2022-06-03T09:10:36.721Z"
   },
   {
    "duration": 905,
    "start_time": "2022-06-03T09:10:42.981Z"
   },
   {
    "duration": 18,
    "start_time": "2022-06-03T09:12:58.748Z"
   },
   {
    "duration": 2567,
    "start_time": "2022-06-03T09:13:21.399Z"
   },
   {
    "duration": 891,
    "start_time": "2022-06-03T09:13:46.595Z"
   },
   {
    "duration": 14733,
    "start_time": "2022-06-03T09:17:26.237Z"
   },
   {
    "duration": 9,
    "start_time": "2022-06-03T09:18:26.380Z"
   },
   {
    "duration": 9,
    "start_time": "2022-06-03T09:19:23.416Z"
   },
   {
    "duration": 8,
    "start_time": "2022-06-03T09:20:16.801Z"
   },
   {
    "duration": 11167,
    "start_time": "2022-06-03T09:20:32.192Z"
   },
   {
    "duration": 11,
    "start_time": "2022-06-03T09:20:45.931Z"
   },
   {
    "duration": 9,
    "start_time": "2022-06-03T09:20:59.009Z"
   },
   {
    "duration": 6,
    "start_time": "2022-06-03T09:23:03.583Z"
   },
   {
    "duration": 9,
    "start_time": "2022-06-03T09:23:15.618Z"
   },
   {
    "duration": 23,
    "start_time": "2022-06-03T09:23:37.639Z"
   },
   {
    "duration": 5,
    "start_time": "2022-06-03T09:23:58.231Z"
   },
   {
    "duration": 4,
    "start_time": "2022-06-03T09:25:59.086Z"
   },
   {
    "duration": 207,
    "start_time": "2022-06-03T09:27:57.000Z"
   },
   {
    "duration": 10364,
    "start_time": "2022-06-03T09:28:12.219Z"
   },
   {
    "duration": 6,
    "start_time": "2022-06-03T09:28:27.197Z"
   },
   {
    "duration": 8,
    "start_time": "2022-06-03T09:32:52.796Z"
   },
   {
    "duration": 839,
    "start_time": "2022-06-03T09:33:18.944Z"
   },
   {
    "duration": 4,
    "start_time": "2022-06-03T09:33:31.106Z"
   },
   {
    "duration": 5,
    "start_time": "2022-06-03T09:33:37.687Z"
   },
   {
    "duration": 5,
    "start_time": "2022-06-03T09:33:42.088Z"
   },
   {
    "duration": 10638,
    "start_time": "2022-06-03T09:35:30.347Z"
   },
   {
    "duration": 6,
    "start_time": "2022-06-03T09:35:40.987Z"
   },
   {
    "duration": 685,
    "start_time": "2022-06-03T09:35:45.318Z"
   },
   {
    "duration": 4,
    "start_time": "2022-06-03T09:35:48.219Z"
   },
   {
    "duration": 9,
    "start_time": "2022-06-03T09:35:53.007Z"
   },
   {
    "duration": 4,
    "start_time": "2022-06-03T09:41:25.881Z"
   },
   {
    "duration": 6,
    "start_time": "2022-06-03T09:41:45.532Z"
   },
   {
    "duration": 3,
    "start_time": "2022-06-03T09:43:25.505Z"
   },
   {
    "duration": 7,
    "start_time": "2022-06-03T09:43:26.124Z"
   },
   {
    "duration": 4,
    "start_time": "2022-06-03T09:46:58.571Z"
   },
   {
    "duration": 6,
    "start_time": "2022-06-03T09:47:00.905Z"
   },
   {
    "duration": 17,
    "start_time": "2022-06-03T09:47:47.476Z"
   },
   {
    "duration": 4,
    "start_time": "2022-06-03T09:49:17.771Z"
   },
   {
    "duration": 5,
    "start_time": "2022-06-03T09:49:18.574Z"
   },
   {
    "duration": 12,
    "start_time": "2022-06-03T09:49:25.606Z"
   },
   {
    "duration": 5,
    "start_time": "2022-06-03T09:49:36.686Z"
   },
   {
    "duration": 12,
    "start_time": "2022-06-03T09:49:36.954Z"
   },
   {
    "duration": 6,
    "start_time": "2022-06-03T09:50:46.306Z"
   },
   {
    "duration": 6,
    "start_time": "2022-06-03T09:50:48.054Z"
   },
   {
    "duration": 4,
    "start_time": "2022-06-03T09:50:54.891Z"
   },
   {
    "duration": 8,
    "start_time": "2022-06-03T09:50:55.518Z"
   },
   {
    "duration": 10,
    "start_time": "2022-06-03T09:51:06.718Z"
   },
   {
    "duration": 809,
    "start_time": "2022-06-03T10:19:39.889Z"
   },
   {
    "duration": 16594,
    "start_time": "2022-06-03T10:19:40.700Z"
   },
   {
    "duration": 10289,
    "start_time": "2022-06-03T10:19:57.296Z"
   },
   {
    "duration": 79,
    "start_time": "2022-06-03T10:20:07.587Z"
   },
   {
    "duration": 911,
    "start_time": "2022-06-03T10:20:07.669Z"
   },
   {
    "duration": 5215,
    "start_time": "2022-06-03T10:20:08.584Z"
   },
   {
    "duration": 982,
    "start_time": "2022-06-03T10:20:13.801Z"
   },
   {
    "duration": 1491,
    "start_time": "2022-06-03T10:20:14.787Z"
   },
   {
    "duration": 3642,
    "start_time": "2022-06-03T10:20:16.279Z"
   },
   {
    "duration": 718,
    "start_time": "2022-06-03T10:20:19.964Z"
   },
   {
    "duration": 25,
    "start_time": "2022-06-03T10:20:20.684Z"
   },
   {
    "duration": 3197,
    "start_time": "2022-06-03T10:20:20.711Z"
   },
   {
    "duration": 535,
    "start_time": "2022-06-03T10:20:23.910Z"
   },
   {
    "duration": 442,
    "start_time": "2022-06-03T10:20:24.449Z"
   },
   {
    "duration": 464,
    "start_time": "2022-06-03T10:20:24.892Z"
   },
   {
    "duration": 522,
    "start_time": "2022-06-03T10:20:25.358Z"
   },
   {
    "duration": 493,
    "start_time": "2022-06-03T10:20:25.885Z"
   },
   {
    "duration": 345,
    "start_time": "2022-06-03T10:20:26.380Z"
   },
   {
    "duration": 367,
    "start_time": "2022-06-03T10:20:26.728Z"
   },
   {
    "duration": 480,
    "start_time": "2022-06-03T10:20:27.097Z"
   },
   {
    "duration": 378,
    "start_time": "2022-06-03T10:20:27.579Z"
   },
   {
    "duration": 224,
    "start_time": "2022-06-03T10:20:27.959Z"
   },
   {
    "duration": 2,
    "start_time": "2022-06-03T10:20:28.185Z"
   },
   {
    "duration": 1301,
    "start_time": "2022-06-03T10:20:28.189Z"
   },
   {
    "duration": 287,
    "start_time": "2022-06-03T10:20:29.492Z"
   },
   {
    "duration": 100,
    "start_time": "2022-06-03T10:20:29.781Z"
   },
   {
    "duration": 1409,
    "start_time": "2022-06-03T10:20:29.887Z"
   },
   {
    "duration": 86,
    "start_time": "2022-06-03T10:20:31.299Z"
   },
   {
    "duration": 3102,
    "start_time": "2022-06-03T10:20:31.387Z"
   },
   {
    "duration": 23074,
    "start_time": "2022-06-03T10:20:34.491Z"
   },
   {
    "duration": 4,
    "start_time": "2022-06-03T10:20:57.567Z"
   },
   {
    "duration": 8,
    "start_time": "2022-06-03T10:20:57.572Z"
   },
   {
    "duration": 12,
    "start_time": "2022-06-03T10:20:57.582Z"
   },
   {
    "duration": 1177,
    "start_time": "2022-06-03T10:20:57.595Z"
   },
   {
    "duration": 11,
    "start_time": "2022-06-03T10:20:58.779Z"
   },
   {
    "duration": 13394,
    "start_time": "2022-06-03T10:20:58.792Z"
   },
   {
    "duration": 4,
    "start_time": "2022-06-03T10:21:12.188Z"
   },
   {
    "duration": 888,
    "start_time": "2022-06-03T10:21:12.194Z"
   },
   {
    "duration": 8,
    "start_time": "2022-06-03T10:21:13.084Z"
   },
   {
    "duration": 11,
    "start_time": "2022-06-03T10:21:13.093Z"
   },
   {
    "duration": 33,
    "start_time": "2022-06-03T10:21:42.728Z"
   },
   {
    "duration": 5,
    "start_time": "2022-06-03T10:23:02.082Z"
   },
   {
    "duration": 5,
    "start_time": "2022-06-03T10:24:00.550Z"
   },
   {
    "duration": 6,
    "start_time": "2022-06-03T10:24:03.909Z"
   },
   {
    "duration": 5,
    "start_time": "2022-06-03T10:24:13.880Z"
   },
   {
    "duration": 825,
    "start_time": "2022-06-03T10:24:41.976Z"
   },
   {
    "duration": 16407,
    "start_time": "2022-06-03T10:24:42.804Z"
   },
   {
    "duration": 11029,
    "start_time": "2022-06-03T10:24:59.265Z"
   },
   {
    "duration": 80,
    "start_time": "2022-06-03T10:25:10.296Z"
   },
   {
    "duration": 818,
    "start_time": "2022-06-03T10:25:10.380Z"
   },
   {
    "duration": 5102,
    "start_time": "2022-06-03T10:25:11.200Z"
   },
   {
    "duration": 1041,
    "start_time": "2022-06-03T10:25:16.365Z"
   },
   {
    "duration": 1663,
    "start_time": "2022-06-03T10:25:17.407Z"
   },
   {
    "duration": 4011,
    "start_time": "2022-06-03T10:25:19.072Z"
   },
   {
    "duration": 1109,
    "start_time": "2022-06-03T10:25:23.085Z"
   },
   {
    "duration": 96,
    "start_time": "2022-06-03T10:25:24.196Z"
   },
   {
    "duration": 3700,
    "start_time": "2022-06-03T10:25:24.294Z"
   },
   {
    "duration": 549,
    "start_time": "2022-06-03T10:25:27.997Z"
   },
   {
    "duration": 381,
    "start_time": "2022-06-03T10:25:28.550Z"
   },
   {
    "duration": 504,
    "start_time": "2022-06-03T10:25:28.933Z"
   },
   {
    "duration": 544,
    "start_time": "2022-06-03T10:25:29.439Z"
   },
   {
    "duration": 498,
    "start_time": "2022-06-03T10:25:29.986Z"
   },
   {
    "duration": 395,
    "start_time": "2022-06-03T10:25:30.486Z"
   },
   {
    "duration": 438,
    "start_time": "2022-06-03T10:25:30.883Z"
   },
   {
    "duration": 578,
    "start_time": "2022-06-03T10:25:31.323Z"
   },
   {
    "duration": 473,
    "start_time": "2022-06-03T10:25:31.903Z"
   },
   {
    "duration": 303,
    "start_time": "2022-06-03T10:25:32.379Z"
   },
   {
    "duration": 3,
    "start_time": "2022-06-03T10:25:32.684Z"
   },
   {
    "duration": 1313,
    "start_time": "2022-06-03T10:25:32.689Z"
   },
   {
    "duration": 468,
    "start_time": "2022-06-03T10:25:34.004Z"
   },
   {
    "duration": 103,
    "start_time": "2022-06-03T10:25:34.477Z"
   },
   {
    "duration": 1323,
    "start_time": "2022-06-03T10:25:34.582Z"
   },
   {
    "duration": 89,
    "start_time": "2022-06-03T10:25:35.907Z"
   },
   {
    "duration": 3894,
    "start_time": "2022-06-03T10:25:35.998Z"
   },
   {
    "duration": 24304,
    "start_time": "2022-06-03T10:25:39.894Z"
   },
   {
    "duration": 5,
    "start_time": "2022-06-03T10:26:04.201Z"
   },
   {
    "duration": 12,
    "start_time": "2022-06-03T10:26:04.208Z"
   },
   {
    "duration": 47,
    "start_time": "2022-06-03T10:26:04.222Z"
   },
   {
    "duration": 1307,
    "start_time": "2022-06-03T10:26:04.271Z"
   },
   {
    "duration": 9,
    "start_time": "2022-06-03T10:26:05.580Z"
   },
   {
    "duration": 14792,
    "start_time": "2022-06-03T10:26:05.590Z"
   },
   {
    "duration": 5,
    "start_time": "2022-06-03T10:26:20.383Z"
   },
   {
    "duration": 922,
    "start_time": "2022-06-03T10:26:20.389Z"
   },
   {
    "duration": 8,
    "start_time": "2022-06-03T10:26:21.313Z"
   },
   {
    "duration": 49,
    "start_time": "2022-06-03T10:26:21.322Z"
   },
   {
    "duration": 2809,
    "start_time": "2022-06-03T10:26:21.377Z"
   },
   {
    "duration": 793,
    "start_time": "2022-06-03T10:28:57.910Z"
   },
   {
    "duration": 19568,
    "start_time": "2022-06-03T10:28:58.705Z"
   },
   {
    "duration": 11727,
    "start_time": "2022-06-03T10:29:18.276Z"
   },
   {
    "duration": 90,
    "start_time": "2022-06-03T10:29:30.005Z"
   },
   {
    "duration": 909,
    "start_time": "2022-06-03T10:29:30.098Z"
   },
   {
    "duration": 7263,
    "start_time": "2022-06-03T10:29:31.009Z"
   },
   {
    "duration": 6615,
    "start_time": "2022-06-03T10:29:38.274Z"
   },
   {
    "duration": 1217,
    "start_time": "2022-06-03T10:29:44.891Z"
   },
   {
    "duration": 3400,
    "start_time": "2022-06-03T10:29:46.109Z"
   },
   {
    "duration": 882,
    "start_time": "2022-06-03T10:29:49.511Z"
   },
   {
    "duration": 94,
    "start_time": "2022-06-03T10:29:50.395Z"
   },
   {
    "duration": 2962,
    "start_time": "2022-06-03T10:29:50.491Z"
   },
   {
    "duration": 602,
    "start_time": "2022-06-03T10:29:53.455Z"
   },
   {
    "duration": 442,
    "start_time": "2022-06-03T10:29:54.067Z"
   },
   {
    "duration": 486,
    "start_time": "2022-06-03T10:29:54.511Z"
   },
   {
    "duration": 620,
    "start_time": "2022-06-03T10:29:54.999Z"
   },
   {
    "duration": 732,
    "start_time": "2022-06-03T10:29:55.621Z"
   },
   {
    "duration": 558,
    "start_time": "2022-06-03T10:29:56.355Z"
   },
   {
    "duration": 406,
    "start_time": "2022-06-03T10:29:56.914Z"
   },
   {
    "duration": 566,
    "start_time": "2022-06-03T10:29:57.322Z"
   },
   {
    "duration": 353,
    "start_time": "2022-06-03T10:29:57.890Z"
   },
   {
    "duration": 177,
    "start_time": "2022-06-03T10:29:58.245Z"
   },
   {
    "duration": 4,
    "start_time": "2022-06-03T10:29:58.424Z"
   },
   {
    "duration": 1643,
    "start_time": "2022-06-03T10:29:58.430Z"
   },
   {
    "duration": 501,
    "start_time": "2022-06-03T10:30:00.074Z"
   },
   {
    "duration": 108,
    "start_time": "2022-06-03T10:30:00.585Z"
   },
   {
    "duration": 1512,
    "start_time": "2022-06-03T10:30:00.695Z"
   },
   {
    "duration": 91,
    "start_time": "2022-06-03T10:30:02.209Z"
   },
   {
    "duration": 3391,
    "start_time": "2022-06-03T10:30:02.303Z"
   },
   {
    "duration": 22520,
    "start_time": "2022-06-03T10:30:05.696Z"
   },
   {
    "duration": 5,
    "start_time": "2022-06-03T10:30:28.219Z"
   },
   {
    "duration": 46,
    "start_time": "2022-06-03T10:30:28.226Z"
   },
   {
    "duration": 14,
    "start_time": "2022-06-03T10:30:28.275Z"
   },
   {
    "duration": 1295,
    "start_time": "2022-06-03T10:30:28.292Z"
   },
   {
    "duration": 9,
    "start_time": "2022-06-03T10:30:29.589Z"
   },
   {
    "duration": 14588,
    "start_time": "2022-06-03T10:30:29.600Z"
   },
   {
    "duration": 6,
    "start_time": "2022-06-03T10:30:44.190Z"
   },
   {
    "duration": 1109,
    "start_time": "2022-06-03T10:30:44.197Z"
   },
   {
    "duration": 64,
    "start_time": "2022-06-03T10:30:45.308Z"
   },
   {
    "duration": 13,
    "start_time": "2022-06-03T10:30:45.382Z"
   },
   {
    "duration": 588,
    "start_time": "2022-06-03T10:37:12.491Z"
   },
   {
    "duration": 713,
    "start_time": "2022-06-03T10:37:18.892Z"
   },
   {
    "duration": 839,
    "start_time": "2022-06-03T10:37:37.323Z"
   },
   {
    "duration": 16444,
    "start_time": "2022-06-03T10:37:38.164Z"
   },
   {
    "duration": 10445,
    "start_time": "2022-06-03T10:37:54.664Z"
   },
   {
    "duration": 22,
    "start_time": "2022-06-03T10:38:05.169Z"
   },
   {
    "duration": 992,
    "start_time": "2022-06-03T10:38:05.193Z"
   },
   {
    "duration": 3590,
    "start_time": "2022-06-03T10:38:17.092Z"
   },
   {
    "duration": 812,
    "start_time": "2022-06-03T10:48:07.035Z"
   },
   {
    "duration": 16258,
    "start_time": "2022-06-03T10:48:07.849Z"
   },
   {
    "duration": 9991,
    "start_time": "2022-06-03T10:48:24.109Z"
   },
   {
    "duration": 86,
    "start_time": "2022-06-03T10:48:34.102Z"
   },
   {
    "duration": 884,
    "start_time": "2022-06-03T10:48:34.190Z"
   },
   {
    "duration": 2816,
    "start_time": "2022-06-03T10:48:35.076Z"
   },
   {
    "duration": 2602,
    "start_time": "2022-06-03T10:48:37.894Z"
   },
   {
    "duration": 4627,
    "start_time": "2022-06-03T10:48:40.565Z"
   },
   {
    "duration": 1091,
    "start_time": "2022-06-03T10:48:45.194Z"
   },
   {
    "duration": 98,
    "start_time": "2022-06-03T10:48:46.287Z"
   },
   {
    "duration": 3319,
    "start_time": "2022-06-03T10:48:46.387Z"
   },
   {
    "duration": 663,
    "start_time": "2022-06-03T10:48:49.708Z"
   },
   {
    "duration": 377,
    "start_time": "2022-06-03T10:48:50.374Z"
   },
   {
    "duration": 446,
    "start_time": "2022-06-03T10:48:50.754Z"
   },
   {
    "duration": 598,
    "start_time": "2022-06-03T10:48:51.202Z"
   },
   {
    "duration": 596,
    "start_time": "2022-06-03T10:48:51.802Z"
   },
   {
    "duration": 686,
    "start_time": "2022-06-03T10:48:52.400Z"
   },
   {
    "duration": 450,
    "start_time": "2022-06-03T10:48:53.088Z"
   },
   {
    "duration": 648,
    "start_time": "2022-06-03T10:48:53.540Z"
   },
   {
    "duration": 491,
    "start_time": "2022-06-03T10:48:54.190Z"
   },
   {
    "duration": 228,
    "start_time": "2022-06-03T10:48:54.683Z"
   },
   {
    "duration": 4,
    "start_time": "2022-06-03T10:48:54.912Z"
   },
   {
    "duration": 1351,
    "start_time": "2022-06-03T10:48:54.965Z"
   },
   {
    "duration": 307,
    "start_time": "2022-06-03T10:48:56.318Z"
   },
   {
    "duration": 47,
    "start_time": "2022-06-03T10:48:56.665Z"
   },
   {
    "duration": 1486,
    "start_time": "2022-06-03T10:48:56.714Z"
   },
   {
    "duration": 88,
    "start_time": "2022-06-03T10:48:58.202Z"
   },
   {
    "duration": 3190,
    "start_time": "2022-06-03T10:48:58.292Z"
   },
   {
    "duration": 25029,
    "start_time": "2022-06-03T10:49:01.484Z"
   },
   {
    "duration": 7,
    "start_time": "2022-06-03T10:49:26.515Z"
   },
   {
    "duration": 21,
    "start_time": "2022-06-03T10:49:26.524Z"
   },
   {
    "duration": 22,
    "start_time": "2022-06-03T10:49:26.547Z"
   },
   {
    "duration": 1326,
    "start_time": "2022-06-03T10:49:26.571Z"
   },
   {
    "duration": 8,
    "start_time": "2022-06-03T10:49:27.899Z"
   },
   {
    "duration": 14104,
    "start_time": "2022-06-03T10:49:27.909Z"
   },
   {
    "duration": 5,
    "start_time": "2022-06-03T10:49:42.014Z"
   },
   {
    "duration": 1308,
    "start_time": "2022-06-03T10:49:42.020Z"
   },
   {
    "duration": 43,
    "start_time": "2022-06-03T10:49:43.330Z"
   },
   {
    "duration": 18,
    "start_time": "2022-06-03T10:49:43.378Z"
   }
  ],
  "colab": {
   "name": "PySparkSprint.ipynb",
   "provenance": []
  },
  "kernelspec": {
   "display_name": "Python 3 (ipykernel)",
   "language": "python",
   "name": "python3"
  },
  "language_info": {
   "codemirror_mode": {
    "name": "ipython",
    "version": 3
   },
   "file_extension": ".py",
   "mimetype": "text/x-python",
   "name": "python",
   "nbconvert_exporter": "python",
   "pygments_lexer": "ipython3",
   "version": "3.9.12"
  },
  "toc": {
   "base_numbering": 1,
   "nav_menu": {},
   "number_sections": true,
   "sideBar": true,
   "skip_h1_title": true,
   "title_cell": "Table of Contents",
   "title_sidebar": "Contents",
   "toc_cell": false,
   "toc_position": {
    "height": "calc(100% - 180px)",
    "left": "10px",
    "top": "150px",
    "width": "165px"
   },
   "toc_section_display": true,
   "toc_window_display": true
  }
 },
 "nbformat": 4,
 "nbformat_minor": 5
}
