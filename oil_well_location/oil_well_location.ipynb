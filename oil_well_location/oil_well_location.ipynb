{
 "cells": [
  {
   "cell_type": "markdown",
   "metadata": {},
   "source": [
    "# Выбор локации для скважины"
   ]
  },
  {
   "cell_type": "markdown",
   "metadata": {},
   "source": [
    "Допустим, вы работаете в добывающей компании «ГлавРосГосНефть». Нужно решить, где бурить новую скважину.\n",
    "\n",
    "Вам предоставлены пробы нефти в трёх регионах: в каждом 10 000 месторождений, где измерили качество нефти и объём её запасов. Постройте модель машинного обучения, которая поможет определить регион, где добыча принесёт наибольшую прибыль. Проанализируйте возможную прибыль и риски техникой *Bootstrap.*\n",
    "\n",
    "Шаги для выбора локации:\n",
    "\n",
    "- В избранном регионе ищут месторождения, для каждого определяют значения признаков;\n",
    "- Строят модель и оценивают объём запасов;\n",
    "- Выбирают месторождения с самым высокими оценками значений. Количество месторождений зависит от бюджета компании и стоимости разработки одной скважины;\n",
    "- Прибыль равна суммарной прибыли отобранных месторождений."
   ]
  },
  {
   "cell_type": "markdown",
   "metadata": {},
   "source": [
    "## Загрузка и подготовка данных"
   ]
  },
  {
   "cell_type": "markdown",
   "metadata": {},
   "source": [
    "Импорт необходимых библиотек"
   ]
  },
  {
   "cell_type": "code",
   "execution_count": 1,
   "metadata": {},
   "outputs": [],
   "source": [
    "import pandas as pd\n",
    "import numpy as np\n",
    "from sklearn.preprocessing import StandardScaler \n",
    "from sklearn.model_selection import train_test_split\n",
    "from sklearn.linear_model import LinearRegression\n",
    "from sklearn.metrics import mean_squared_error,f1_score, roc_auc_score, roc_curve \n",
    "from sklearn.utils import shuffle\n",
    "from sklearn.model_selection import GridSearchCV, cross_val_score"
   ]
  },
  {
   "cell_type": "markdown",
   "metadata": {},
   "source": [
    "Открываем файлы и сохраняем данные в датафреймы"
   ]
  },
  {
   "cell_type": "code",
   "execution_count": 2,
   "metadata": {},
   "outputs": [],
   "source": [
    "df_geo1 = pd.read_csv('/datasets/geo_data_0.csv')\n",
    "df_geo2 = pd.read_csv('/datasets/geo_data_1.csv')\n",
    "df_geo3 = pd.read_csv('/datasets/geo_data_2.csv')"
   ]
  },
  {
   "cell_type": "markdown",
   "metadata": {},
   "source": [
    "### Начальное изучение данных"
   ]
  },
  {
   "cell_type": "code",
   "execution_count": 3,
   "metadata": {},
   "outputs": [
    {
     "name": "stdout",
     "output_type": "stream",
     "text": [
      "<class 'pandas.core.frame.DataFrame'>\n",
      "RangeIndex: 100000 entries, 0 to 99999\n",
      "Data columns (total 5 columns):\n",
      "id         100000 non-null object\n",
      "f0         100000 non-null float64\n",
      "f1         100000 non-null float64\n",
      "f2         100000 non-null float64\n",
      "product    100000 non-null float64\n",
      "dtypes: float64(4), object(1)\n",
      "memory usage: 3.8+ MB\n"
     ]
    }
   ],
   "source": [
    "df_geo1.info()"
   ]
  },
  {
   "cell_type": "code",
   "execution_count": 4,
   "metadata": {},
   "outputs": [
    {
     "name": "stdout",
     "output_type": "stream",
     "text": [
      "<class 'pandas.core.frame.DataFrame'>\n",
      "RangeIndex: 100000 entries, 0 to 99999\n",
      "Data columns (total 5 columns):\n",
      "id         100000 non-null object\n",
      "f0         100000 non-null float64\n",
      "f1         100000 non-null float64\n",
      "f2         100000 non-null float64\n",
      "product    100000 non-null float64\n",
      "dtypes: float64(4), object(1)\n",
      "memory usage: 3.8+ MB\n"
     ]
    }
   ],
   "source": [
    "df_geo2.info()"
   ]
  },
  {
   "cell_type": "code",
   "execution_count": 5,
   "metadata": {},
   "outputs": [
    {
     "name": "stdout",
     "output_type": "stream",
     "text": [
      "<class 'pandas.core.frame.DataFrame'>\n",
      "RangeIndex: 100000 entries, 0 to 99999\n",
      "Data columns (total 5 columns):\n",
      "id         100000 non-null object\n",
      "f0         100000 non-null float64\n",
      "f1         100000 non-null float64\n",
      "f2         100000 non-null float64\n",
      "product    100000 non-null float64\n",
      "dtypes: float64(4), object(1)\n",
      "memory usage: 3.8+ MB\n"
     ]
    }
   ],
   "source": [
    "df_geo3.info()"
   ]
  },
  {
   "cell_type": "markdown",
   "metadata": {},
   "source": [
    "Признаки\n",
    "* `id` — уникальный идентификатор скважины;\n",
    "* `f0`, `f1`, `f2` — три признака точек (неважно, что они означают, но сами признаки значимы).\n",
    "\n",
    "Целевой признак\n",
    "* `product` — объём запасов в скважине (тыс. баррелей)."
   ]
  },
  {
   "cell_type": "markdown",
   "metadata": {},
   "source": [
    "###### Вывод\n",
    "* пропусков данных не обнаружено \n",
    "* столбец `id` является уникальными идентификатором скважины и по своей сути дублирует индекс, данный столбец не пригодятся в обучение модели, поэтому его лучше удалить. "
   ]
  },
  {
   "cell_type": "markdown",
   "metadata": {},
   "source": [
    "Удалим столбeц `id` из каждого датафрейма"
   ]
  },
  {
   "cell_type": "code",
   "execution_count": 6,
   "metadata": {},
   "outputs": [],
   "source": [
    "df_geo1 = df_geo1.drop('id', axis=1)\n",
    "df_geo2 = df_geo2.drop('id', axis=1)\n",
    "df_geo3 = df_geo3.drop('id', axis=1)"
   ]
  },
  {
   "cell_type": "code",
   "execution_count": 7,
   "metadata": {},
   "outputs": [
    {
     "data": {
      "text/html": [
       "<div>\n",
       "<style scoped>\n",
       "    .dataframe tbody tr th:only-of-type {\n",
       "        vertical-align: middle;\n",
       "    }\n",
       "\n",
       "    .dataframe tbody tr th {\n",
       "        vertical-align: top;\n",
       "    }\n",
       "\n",
       "    .dataframe thead th {\n",
       "        text-align: right;\n",
       "    }\n",
       "</style>\n",
       "<table border=\"1\" class=\"dataframe\">\n",
       "  <thead>\n",
       "    <tr style=\"text-align: right;\">\n",
       "      <th></th>\n",
       "      <th>f0</th>\n",
       "      <th>f1</th>\n",
       "      <th>f2</th>\n",
       "      <th>product</th>\n",
       "    </tr>\n",
       "  </thead>\n",
       "  <tbody>\n",
       "    <tr>\n",
       "      <td>0</td>\n",
       "      <td>0.705745</td>\n",
       "      <td>-0.497823</td>\n",
       "      <td>1.221170</td>\n",
       "      <td>105.280062</td>\n",
       "    </tr>\n",
       "    <tr>\n",
       "      <td>1</td>\n",
       "      <td>1.334711</td>\n",
       "      <td>-0.340164</td>\n",
       "      <td>4.365080</td>\n",
       "      <td>73.037750</td>\n",
       "    </tr>\n",
       "    <tr>\n",
       "      <td>2</td>\n",
       "      <td>1.022732</td>\n",
       "      <td>0.151990</td>\n",
       "      <td>1.419926</td>\n",
       "      <td>85.265647</td>\n",
       "    </tr>\n",
       "    <tr>\n",
       "      <td>3</td>\n",
       "      <td>-0.032172</td>\n",
       "      <td>0.139033</td>\n",
       "      <td>2.978566</td>\n",
       "      <td>168.620776</td>\n",
       "    </tr>\n",
       "    <tr>\n",
       "      <td>4</td>\n",
       "      <td>1.988431</td>\n",
       "      <td>0.155413</td>\n",
       "      <td>4.751769</td>\n",
       "      <td>154.036647</td>\n",
       "    </tr>\n",
       "  </tbody>\n",
       "</table>\n",
       "</div>"
      ],
      "text/plain": [
       "         f0        f1        f2     product\n",
       "0  0.705745 -0.497823  1.221170  105.280062\n",
       "1  1.334711 -0.340164  4.365080   73.037750\n",
       "2  1.022732  0.151990  1.419926   85.265647\n",
       "3 -0.032172  0.139033  2.978566  168.620776\n",
       "4  1.988431  0.155413  4.751769  154.036647"
      ]
     },
     "execution_count": 7,
     "metadata": {},
     "output_type": "execute_result"
    }
   ],
   "source": [
    "df_geo1.head()"
   ]
  },
  {
   "cell_type": "code",
   "execution_count": 8,
   "metadata": {},
   "outputs": [
    {
     "data": {
      "text/html": [
       "<div>\n",
       "<style scoped>\n",
       "    .dataframe tbody tr th:only-of-type {\n",
       "        vertical-align: middle;\n",
       "    }\n",
       "\n",
       "    .dataframe tbody tr th {\n",
       "        vertical-align: top;\n",
       "    }\n",
       "\n",
       "    .dataframe thead th {\n",
       "        text-align: right;\n",
       "    }\n",
       "</style>\n",
       "<table border=\"1\" class=\"dataframe\">\n",
       "  <thead>\n",
       "    <tr style=\"text-align: right;\">\n",
       "      <th></th>\n",
       "      <th>f0</th>\n",
       "      <th>f1</th>\n",
       "      <th>f2</th>\n",
       "      <th>product</th>\n",
       "    </tr>\n",
       "  </thead>\n",
       "  <tbody>\n",
       "    <tr>\n",
       "      <td>0</td>\n",
       "      <td>-15.001348</td>\n",
       "      <td>-8.276000</td>\n",
       "      <td>-0.005876</td>\n",
       "      <td>3.179103</td>\n",
       "    </tr>\n",
       "    <tr>\n",
       "      <td>1</td>\n",
       "      <td>14.272088</td>\n",
       "      <td>-3.475083</td>\n",
       "      <td>0.999183</td>\n",
       "      <td>26.953261</td>\n",
       "    </tr>\n",
       "    <tr>\n",
       "      <td>2</td>\n",
       "      <td>6.263187</td>\n",
       "      <td>-5.948386</td>\n",
       "      <td>5.001160</td>\n",
       "      <td>134.766305</td>\n",
       "    </tr>\n",
       "    <tr>\n",
       "      <td>3</td>\n",
       "      <td>-13.081196</td>\n",
       "      <td>-11.506057</td>\n",
       "      <td>4.999415</td>\n",
       "      <td>137.945408</td>\n",
       "    </tr>\n",
       "    <tr>\n",
       "      <td>4</td>\n",
       "      <td>12.702195</td>\n",
       "      <td>-8.147433</td>\n",
       "      <td>5.004363</td>\n",
       "      <td>134.766305</td>\n",
       "    </tr>\n",
       "  </tbody>\n",
       "</table>\n",
       "</div>"
      ],
      "text/plain": [
       "          f0         f1        f2     product\n",
       "0 -15.001348  -8.276000 -0.005876    3.179103\n",
       "1  14.272088  -3.475083  0.999183   26.953261\n",
       "2   6.263187  -5.948386  5.001160  134.766305\n",
       "3 -13.081196 -11.506057  4.999415  137.945408\n",
       "4  12.702195  -8.147433  5.004363  134.766305"
      ]
     },
     "execution_count": 8,
     "metadata": {},
     "output_type": "execute_result"
    }
   ],
   "source": [
    "df_geo2.head()"
   ]
  },
  {
   "cell_type": "code",
   "execution_count": 9,
   "metadata": {},
   "outputs": [
    {
     "data": {
      "text/html": [
       "<div>\n",
       "<style scoped>\n",
       "    .dataframe tbody tr th:only-of-type {\n",
       "        vertical-align: middle;\n",
       "    }\n",
       "\n",
       "    .dataframe tbody tr th {\n",
       "        vertical-align: top;\n",
       "    }\n",
       "\n",
       "    .dataframe thead th {\n",
       "        text-align: right;\n",
       "    }\n",
       "</style>\n",
       "<table border=\"1\" class=\"dataframe\">\n",
       "  <thead>\n",
       "    <tr style=\"text-align: right;\">\n",
       "      <th></th>\n",
       "      <th>f0</th>\n",
       "      <th>f1</th>\n",
       "      <th>f2</th>\n",
       "      <th>product</th>\n",
       "    </tr>\n",
       "  </thead>\n",
       "  <tbody>\n",
       "    <tr>\n",
       "      <td>0</td>\n",
       "      <td>-1.146987</td>\n",
       "      <td>0.963328</td>\n",
       "      <td>-0.828965</td>\n",
       "      <td>27.758673</td>\n",
       "    </tr>\n",
       "    <tr>\n",
       "      <td>1</td>\n",
       "      <td>0.262778</td>\n",
       "      <td>0.269839</td>\n",
       "      <td>-2.530187</td>\n",
       "      <td>56.069697</td>\n",
       "    </tr>\n",
       "    <tr>\n",
       "      <td>2</td>\n",
       "      <td>0.194587</td>\n",
       "      <td>0.289035</td>\n",
       "      <td>-5.586433</td>\n",
       "      <td>62.871910</td>\n",
       "    </tr>\n",
       "    <tr>\n",
       "      <td>3</td>\n",
       "      <td>2.236060</td>\n",
       "      <td>-0.553760</td>\n",
       "      <td>0.930038</td>\n",
       "      <td>114.572842</td>\n",
       "    </tr>\n",
       "    <tr>\n",
       "      <td>4</td>\n",
       "      <td>-0.515993</td>\n",
       "      <td>1.716266</td>\n",
       "      <td>5.899011</td>\n",
       "      <td>149.600746</td>\n",
       "    </tr>\n",
       "  </tbody>\n",
       "</table>\n",
       "</div>"
      ],
      "text/plain": [
       "         f0        f1        f2     product\n",
       "0 -1.146987  0.963328 -0.828965   27.758673\n",
       "1  0.262778  0.269839 -2.530187   56.069697\n",
       "2  0.194587  0.289035 -5.586433   62.871910\n",
       "3  2.236060 -0.553760  0.930038  114.572842\n",
       "4 -0.515993  1.716266  5.899011  149.600746"
      ]
     },
     "execution_count": 9,
     "metadata": {},
     "output_type": "execute_result"
    }
   ],
   "source": [
    "df_geo3.head()"
   ]
  },
  {
   "cell_type": "markdown",
   "metadata": {},
   "source": [
    "* Данные подготовлены, можно переходить к следующему этапу"
   ]
  },
  {
   "cell_type": "markdown",
   "metadata": {},
   "source": [
    "## Обучение и проверка модели"
   ]
  },
  {
   "cell_type": "markdown",
   "metadata": {},
   "source": [
    "### Разбивка данных на выборки"
   ]
  },
  {
   "cell_type": "markdown",
   "metadata": {},
   "source": [
    "Извелекём из выборок признаки и целевой признак"
   ]
  },
  {
   "cell_type": "code",
   "execution_count": 10,
   "metadata": {},
   "outputs": [],
   "source": [
    "features_geo1 = df_geo1.drop('product', axis=1)\n",
    "features_geo2 = df_geo2.drop('product', axis=1)\n",
    "features_geo3 = df_geo3.drop('product', axis=1)"
   ]
  },
  {
   "cell_type": "code",
   "execution_count": 11,
   "metadata": {},
   "outputs": [],
   "source": [
    "target_geo1 = df_geo1['product']\n",
    "target_geo2 = df_geo2['product']\n",
    "target_geo3 = df_geo3['product']"
   ]
  },
  {
   "cell_type": "markdown",
   "metadata": {},
   "source": [
    "Разобьём наши выборки на обучающие и валидационные, в соотношение 3 к 1. "
   ]
  },
  {
   "cell_type": "code",
   "execution_count": 12,
   "metadata": {},
   "outputs": [],
   "source": [
    "features_geo1_train, features_geo1_valid, features_geo2_train, features_geo2_valid, features_geo3_train, features_geo3_valid,\\\n",
    "target_geo1_train, target_geo1_valid, target_geo2_train, target_geo2_valid,target_geo3_train, target_geo3_valid\\\n",
    "= train_test_split(features_geo1, features_geo2, features_geo3, target_geo1, target_geo2, target_geo3,\\\n",
    "test_size=0.25, random_state=12345)"
   ]
  },
  {
   "cell_type": "markdown",
   "metadata": {},
   "source": [
    "Проверим итоговые размеры и соотношения полученных выборок"
   ]
  },
  {
   "cell_type": "code",
   "execution_count": 13,
   "metadata": {},
   "outputs": [
    {
     "name": "stdout",
     "output_type": "stream",
     "text": [
      "Итоговые размеры выборок для первого региона, обучающая:валидационная: 75000:25000\n",
      "Итоговые размеры выборок для второго региона, обучающая:валидационная: 75000:25000\n",
      "Итоговые размеры выборок для третьего региона, обучающая:валидационная: 75000:25000\n"
     ]
    }
   ],
   "source": [
    "print(f'Итоговые размеры выборок для первого региона, обучающая:валидационная: {target_geo1_train.count()}\\\n",
    ":{target_geo1_valid.count()}')\n",
    "print(f'Итоговые размеры выборок для второго региона, обучающая:валидационная: {target_geo2_train.count()}\\\n",
    ":{target_geo2_valid.count()}')\n",
    "print(f'Итоговые размеры выборок для третьего региона, обучающая:валидационная: {target_geo3_train.count()}\\\n",
    ":{target_geo3_valid.count()}')"
   ]
  },
  {
   "cell_type": "markdown",
   "metadata": {},
   "source": [
    "Обнулим индексы у ключевых признаков"
   ]
  },
  {
   "cell_type": "code",
   "execution_count": 14,
   "metadata": {},
   "outputs": [],
   "source": [
    "target_geo1_valid = target_geo1_valid.reset_index(drop=True)\n",
    "target_geo2_valid = target_geo2_valid.reset_index(drop=True)\n",
    "target_geo3_valid = target_geo3_valid.reset_index(drop=True)"
   ]
  },
  {
   "cell_type": "markdown",
   "metadata": {},
   "source": [
    "### Обучение модели"
   ]
  },
  {
   "cell_type": "markdown",
   "metadata": {},
   "source": [
    "* обучим модель линейной регрессии для каждого региона и сделаем предсказания на валидационной выборке;\n",
    "* найдем RMSE моделей."
   ]
  },
  {
   "cell_type": "code",
   "execution_count": 15,
   "metadata": {},
   "outputs": [],
   "source": [
    "model = LinearRegression()"
   ]
  },
  {
   "cell_type": "markdown",
   "metadata": {},
   "source": [
    "#### Регион №1"
   ]
  },
  {
   "cell_type": "code",
   "execution_count": 16,
   "metadata": {},
   "outputs": [
    {
     "name": "stdout",
     "output_type": "stream",
     "text": [
      "Cредний запас предсказанного сырья: 92.59 тыс. баррелей\n",
      "RMSE = 37.58\n"
     ]
    }
   ],
   "source": [
    "model.fit(features_geo1_train, target_geo1_train)\n",
    "predicted_valid_geo1 = model.predict(features_geo1_valid)\n",
    "mse_geo1 = mean_squared_error(target_geo1_valid, predicted_valid_geo1)\n",
    "print(f'Cредний запас предсказанного сырья: {np.mean(predicted_valid_geo1):.2f} тыс. баррелей')\n",
    "print(\"RMSE =\", round(mse_geo1 ** 0.5, 2))"
   ]
  },
  {
   "cell_type": "markdown",
   "metadata": {},
   "source": [
    "#### Регион №2"
   ]
  },
  {
   "cell_type": "code",
   "execution_count": 17,
   "metadata": {},
   "outputs": [
    {
     "name": "stdout",
     "output_type": "stream",
     "text": [
      "Cредний запас предсказанного сырья: 68.73 тыс. баррелей\n",
      "RMSE = 0.89\n"
     ]
    }
   ],
   "source": [
    "model.fit(features_geo2_train, target_geo2_train)\n",
    "predicted_valid_geo2 = model.predict(features_geo2_valid)\n",
    "mse_geo2 = mean_squared_error(target_geo2_valid, predicted_valid_geo2)\n",
    "print(f'Cредний запас предсказанного сырья: {np.mean(predicted_valid_geo2):.2f} тыс. баррелей')\n",
    "print(\"RMSE =\", round(mse_geo2 ** 0.5, 2))"
   ]
  },
  {
   "cell_type": "markdown",
   "metadata": {},
   "source": [
    "#### Регион №3"
   ]
  },
  {
   "cell_type": "code",
   "execution_count": 18,
   "metadata": {},
   "outputs": [
    {
     "name": "stdout",
     "output_type": "stream",
     "text": [
      "Cредний запас предсказанного сырья: 94.97 тыс. баррелей\n",
      "RMSE = 40.03\n"
     ]
    }
   ],
   "source": [
    "model.fit(features_geo3_train, target_geo3_train)\n",
    "predicted_valid_geo3 = model.predict(features_geo3_valid)\n",
    "mse_geo3 = mean_squared_error(target_geo3_valid, predicted_valid_geo3)\n",
    "print(f'Cредний запас предсказанного сырья: {np.mean(predicted_valid_geo3):.2f} тыс. баррелей')\n",
    "print(\"RMSE =\", round(mse_geo3 ** 0.5, 2))"
   ]
  },
  {
   "cell_type": "markdown",
   "metadata": {},
   "source": [
    "Преобразуем пресказанные значения объёма сырья в Series для удобства вычеслений"
   ]
  },
  {
   "cell_type": "code",
   "execution_count": 19,
   "metadata": {},
   "outputs": [],
   "source": [
    "predicted_valid_geo1 = pd.Series(predicted_valid_geo1)\n",
    "predicted_valid_geo2 = pd.Series(predicted_valid_geo2)\n",
    "predicted_valid_geo3 = pd.Series(predicted_valid_geo3)"
   ]
  },
  {
   "cell_type": "markdown",
   "metadata": {},
   "source": [
    "###### Вывод\n",
    "\n",
    "* средний запаса предсказанного сырья выше всего в регионе №3 - 94,97 тыс. баррелей, в регионе №2 - 92.59 тыс. баррелей, а меньше всего в регионе №3 - 68.73 тыс. баррелей;\n",
    "* RMSE меньше всего во втором регионе: 0.89 - это очень хороший результат, модель даёт точные результаты. В регионе №2 и №3, значение RMSE высокие: 37.58 и 40.03, модель даёт не точные результаты."
   ]
  },
  {
   "cell_type": "markdown",
   "metadata": {},
   "source": [
    "## Подготовка к расчёту прибыли"
   ]
  },
  {
   "cell_type": "markdown",
   "metadata": {},
   "source": [
    " Сохраним все ключевые значения для расчётов в отдельных переменных"
   ]
  },
  {
   "cell_type": "code",
   "execution_count": 20,
   "metadata": {},
   "outputs": [],
   "source": [
    "budget = 10000000 # бюджет в тыс. рублей\n",
    "unit_price = 450 # доход с тыс. бареллей, в тыс. рублей\n",
    "count_invest_wells = 500 # кол-во исследуемых точек\n",
    "count_develop_wells = 200 # кол-во отбираемых лучшех точек\n",
    "confidence_interval = 0.95 # доверительный интервал"
   ]
  },
  {
   "cell_type": "markdown",
   "metadata": {},
   "source": [
    "Рассчитаем достаточный объём сырья для безубыточной разработки новой скважины"
   ]
  },
  {
   "cell_type": "code",
   "execution_count": 21,
   "metadata": {},
   "outputs": [
    {
     "name": "stdout",
     "output_type": "stream",
     "text": [
      "Минимальный средний объём сырья достаточный для бузубыточной разработки новой скважины: 111.11 тыс. барелль\n"
     ]
    }
   ],
   "source": [
    "print(f'Минимальный средний объём сырья достаточный для бузубыточной разработки новой скважины: '\n",
    "      f'{(budget / count_develop_wells / unit_price):.2f} тыс. барелль')"
   ]
  },
  {
   "cell_type": "markdown",
   "metadata": {},
   "source": [
    "###### Вывод\n",
    "\n",
    "* Во всех регионах средний запас предсказанного сырья, меньше минимального среднего объёма сырья достаточного для безубыточной разработки новой скважины (111.11 тыс. барелль)"
   ]
  },
  {
   "cell_type": "markdown",
   "metadata": {},
   "source": [
    "Напишём функцию для подсчёта прибыли по выбранным скважинам и предсказаниям модели"
   ]
  },
  {
   "cell_type": "code",
   "execution_count": 22,
   "metadata": {},
   "outputs": [],
   "source": [
    "def profit_well(target, predict, count, budget, unit_price):\n",
    "    predict_sort = predict.sort_values(ascending=False)\n",
    "    target_top = target[predict_sort.index][:count]\n",
    "    return (target_top.sum() * unit_price - budget) / 1000  "
   ]
  },
  {
   "cell_type": "markdown",
   "metadata": {},
   "source": [
    "## Расчёт прибыли и рисков "
   ]
  },
  {
   "cell_type": "code",
   "execution_count": 23,
   "metadata": {},
   "outputs": [],
   "source": [
    "state = np.random.RandomState(12345)"
   ]
  },
  {
   "cell_type": "markdown",
   "metadata": {},
   "source": [
    "### Регион №1"
   ]
  },
  {
   "cell_type": "markdown",
   "metadata": {},
   "source": [
    "С помощью техники Bootstrap создадим 1000 выборок, чтобы найти распределение прибыли."
   ]
  },
  {
   "cell_type": "code",
   "execution_count": 24,
   "metadata": {},
   "outputs": [],
   "source": [
    "profit_geo1 = []\n",
    "for i in range(1000):\n",
    "    sub_predicted_valid_geo1 = predicted_valid_geo1.sample(count_invest_wells, replace=True, random_state=state)\n",
    "    profit = profit_well(target_geo1_valid, sub_predicted_valid_geo1, count_develop_wells, budget, unit_price)\n",
    "    profit_geo1.append(profit)"
   ]
  },
  {
   "cell_type": "markdown",
   "metadata": {},
   "source": [
    "Преобразуем полученную выборку в Series, для удобства вычислений"
   ]
  },
  {
   "cell_type": "code",
   "execution_count": 25,
   "metadata": {},
   "outputs": [],
   "source": [
    "profit_geo1 = pd.Series(profit_geo1)"
   ]
  },
  {
   "cell_type": "markdown",
   "metadata": {},
   "source": [
    "Построим график распределения прибыли"
   ]
  },
  {
   "cell_type": "code",
   "execution_count": 26,
   "metadata": {},
   "outputs": [
    {
     "data": {
      "image/png": "[encoded data removed]",
      "text/plain": [
       "<Figure size 864x432 with 1 Axes>"
      ]
     },
     "metadata": {
      "needs_background": "light"
     },
     "output_type": "display_data"
    }
   ],
   "source": [
    "plt.figure(figsize=(12, 6))\n",
    "profit_geo1.plot( kind='hist', bins=20)\n",
    "plt.xlabel(\"Прибыль, млн. р.\")\n",
    "plt.ylabel(\"Кол-во выборок\")\n",
    "plt.title(\"Распределение прибыли\")\n",
    "plt.show()"
   ]
  },
  {
   "cell_type": "markdown",
   "metadata": {},
   "source": [
    "* Прибыль распределена нормально"
   ]
  },
  {
   "cell_type": "markdown",
   "metadata": {},
   "source": [
    "Найдём среднюю прибыль, 95%-й доверительный интервал и риск убытков"
   ]
  },
  {
   "cell_type": "code",
   "execution_count": 27,
   "metadata": {},
   "outputs": [
    {
     "name": "stdout",
     "output_type": "stream",
     "text": [
      "Средняя прибыль: 396.16 млн. руб.\n",
      "95%-й доверительный интервал: от -111.22 до 909.77 млн. руб.\n",
      "Риск убытков: 6.90%\n"
     ]
    }
   ],
   "source": [
    "print(f'Средняя прибыль: {profit_geo1.mean():.2f} млн. руб.')\n",
    "print(f'95%-й доверительный интервал: от {profit_geo1.quantile((1-confidence_interval)/2):.2f} до '\n",
    "     f'{profit_geo1.quantile(0.5+confidence_interval/2):.2f} млн. руб.')\n",
    "print(f'Риск убытков: {(profit_geo1.values < 0).mean():.2%}')"
   ]
  },
  {
   "cell_type": "markdown",
   "metadata": {},
   "source": [
    "###### Вывод\n",
    "* Средняя прибыль находится в положительной зоне - 396.16 млн. руб., но риск убытков выше установленной планки в 2,5%, он равен 6,9%. Следовательно данный регион нам не подходит по уровню риска."
   ]
  },
  {
   "cell_type": "markdown",
   "metadata": {},
   "source": [
    "### Регион №2"
   ]
  },
  {
   "cell_type": "markdown",
   "metadata": {},
   "source": [
    "С помощью техники Bootstrap создадим 1000 выборок, чтобы найти распределение прибыли."
   ]
  },
  {
   "cell_type": "code",
   "execution_count": 28,
   "metadata": {},
   "outputs": [],
   "source": [
    "profit_geo2 = []\n",
    "for i in range(1000):\n",
    "    sub_predicted_valid_geo2 = predicted_valid_geo2.sample(count_invest_wells, replace=True, random_state=state)\n",
    "    profit = profit_well(target_geo2_valid, sub_predicted_valid_geo2, count_develop_wells, budget, unit_price)\n",
    "    profit_geo2.append(profit)"
   ]
  },
  {
   "cell_type": "markdown",
   "metadata": {},
   "source": [
    "Преобразуем полученную выборку в Series, для удобства вычислений"
   ]
  },
  {
   "cell_type": "code",
   "execution_count": 29,
   "metadata": {},
   "outputs": [],
   "source": [
    "profit_geo2 = pd.Series(profit_geo2)    "
   ]
  },
  {
   "cell_type": "markdown",
   "metadata": {},
   "source": [
    "Построим график распределения прибыли"
   ]
  },
  {
   "cell_type": "code",
   "execution_count": 30,
   "metadata": {},
   "outputs": [
    {
     "data": {
      "image/png": "[encoded data removed]",
      "text/plain": [
       "<Figure size 864x432 with 1 Axes>"
      ]
     },
     "metadata": {
      "needs_background": "light"
     },
     "output_type": "display_data"
    }
   ],
   "source": [
    "plt.figure(figsize=(12, 6))\n",
    "profit_geo2.plot( kind='hist', bins=20)\n",
    "plt.xlabel(\"Прибыль, млн. р.\")\n",
    "plt.ylabel(\"Кол-во выборок\")\n",
    "plt.title(\"Распределение прибыли\")\n",
    "plt.show()"
   ]
  },
  {
   "cell_type": "markdown",
   "metadata": {},
   "source": [
    "* Прибыль распределена нормально"
   ]
  },
  {
   "cell_type": "markdown",
   "metadata": {},
   "source": [
    "Найдём среднюю прибыль, 95%-й доверительный интервал и риск убытков"
   ]
  },
  {
   "cell_type": "code",
   "execution_count": 31,
   "metadata": {},
   "outputs": [
    {
     "name": "stdout",
     "output_type": "stream",
     "text": [
      "Средняя прибыль: 461.16 млн. руб.\n",
      "95%-й доверительный интервал: от 78.05 до 862.95 млн. руб.\n",
      "Риск убытков: 0.70%\n"
     ]
    }
   ],
   "source": [
    "print(f'Средняя прибыль: {profit_geo2.mean():.2f} млн. руб.')\n",
    "print(f'95%-й доверительный интервал: от {profit_geo2.quantile((1-confidence_interval)/2):.2f} до '\n",
    "     f'{profit_geo2.quantile(0.5+confidence_interval/2):.2f} млн. руб.')\n",
    "print(f'Риск убытков: {(profit_geo2.values < 0).mean():.2%}')"
   ]
  },
  {
   "cell_type": "markdown",
   "metadata": {},
   "source": [
    "###### Вывод\n",
    "* Средняя прибыль находится в положительной зоне - 461.16 млн. руб;\n",
    "* Риск убытков ниже установленной планки в 2,5%, он равен 0,7%."
   ]
  },
  {
   "cell_type": "markdown",
   "metadata": {},
   "source": [
    "### Регион №3"
   ]
  },
  {
   "cell_type": "markdown",
   "metadata": {},
   "source": [
    "С помощью техники Bootstrap создадим 1000 выборок, чтобы найти распределение прибыли."
   ]
  },
  {
   "cell_type": "code",
   "execution_count": 32,
   "metadata": {},
   "outputs": [],
   "source": [
    "profit_geo3 = []\n",
    "for i in range(1000):\n",
    "    sub_predicted_valid_geo3 = predicted_valid_geo3.sample(count_invest_wells, replace=True, random_state=state)\n",
    "    profit = profit_well(target_geo3_valid, sub_predicted_valid_geo3, count_develop_wells, budget, unit_price)\n",
    "    profit_geo3.append(profit)"
   ]
  },
  {
   "cell_type": "markdown",
   "metadata": {},
   "source": [
    "Преобразуем полученную выборку в Series, для удобства вычислений"
   ]
  },
  {
   "cell_type": "code",
   "execution_count": 33,
   "metadata": {},
   "outputs": [],
   "source": [
    "profit_geo3 = pd.Series(profit_geo3)   "
   ]
  },
  {
   "cell_type": "markdown",
   "metadata": {},
   "source": [
    "Построим график распределения прибыли"
   ]
  },
  {
   "cell_type": "code",
   "execution_count": 34,
   "metadata": {},
   "outputs": [
    {
     "data": {
      "image/png": "[encoded data removed]",
      "text/plain": [
       "<Figure size 864x432 with 1 Axes>"
      ]
     },
     "metadata": {
      "needs_background": "light"
     },
     "output_type": "display_data"
    }
   ],
   "source": [
    "plt.figure(figsize=(12, 6))\n",
    "profit_geo3.plot( kind='hist', bins=10)\n",
    "plt.xlabel(\"Прибыль, млн. р.\")\n",
    "plt.ylabel(\"Кол-во выборок\")\n",
    "plt.title(\"Распределение прибыли\")\n",
    "plt.show()"
   ]
  },
  {
   "cell_type": "markdown",
   "metadata": {},
   "source": [
    "* Прибыль распределена нормально"
   ]
  },
  {
   "cell_type": "markdown",
   "metadata": {},
   "source": [
    "Найдём среднюю прибыль, 95%-й доверительный интервал и риск убытков"
   ]
  },
  {
   "cell_type": "code",
   "execution_count": 35,
   "metadata": {},
   "outputs": [
    {
     "name": "stdout",
     "output_type": "stream",
     "text": [
      "Средняя прибыль: 392.95 млн. руб.\n",
      "95%-й доверительный интервал: от -112.23 до 934.56 млн. руб.\n",
      "Риск убытков: 6.50%\n"
     ]
    }
   ],
   "source": [
    "print(f'Средняя прибыль: {profit_geo3.mean():.2f} млн. руб.')\n",
    "print(f'95%-й доверительный интервал: от {profit_geo3.quantile((1-confidence_interval)/2):.2f} до '\n",
    "     f'{profit_geo3.quantile(0.5+confidence_interval/2):.2f} млн. руб.')\n",
    "print(f'Риск убытков: {(profit_geo3.values < 0).mean():.2%}')"
   ]
  },
  {
   "cell_type": "markdown",
   "metadata": {},
   "source": [
    "###### Вывод\n",
    "* Средняя прибыль находится в положительной зоне - 392.95 млн. руб., но риск убытков выше установленной планки в 2,5%, он равен 6,5%. Следовательно данный регион нам не подходит по уровню риска."
   ]
  },
  {
   "cell_type": "markdown",
   "metadata": {},
   "source": [
    "## Общий вывод"
   ]
  },
  {
   "cell_type": "markdown",
   "metadata": {},
   "source": [
    "* Из трех ислледованных регионов, нам подходит только регион №2, так как только в нём риск убытков ниже установленной планки в 2,5% и равняется 0,7%. Так же в данном регионе самый высокий показатель средней прибыли -  461.16 млн. руб.\n",
    "* Регионы №1 и №3 не подходят по уровню риска, у них он равен 6,9% и 6,5% соответственно. Средняя прибыль в данных регионах меньше чем в регионе №2 и равняется 396.16 и 392.95 млн. руб. соответственно."
   ]
  }
 ],
 "metadata": {
  "ExecuteTimeLog": [
   {
    "duration": 1223,
    "start_time": "2022-03-04T09:50:41.608Z"
   },
   {
    "duration": 389,
    "start_time": "2022-03-04T09:52:37.888Z"
   },
   {
    "duration": 13,
    "start_time": "2022-03-04T09:52:51.875Z"
   },
   {
    "duration": 14,
    "start_time": "2022-03-04T09:53:10.548Z"
   },
   {
    "duration": 11,
    "start_time": "2022-03-04T09:57:49.150Z"
   },
   {
    "duration": 11,
    "start_time": "2022-03-04T09:57:52.392Z"
   },
   {
    "duration": 309,
    "start_time": "2022-03-04T10:02:22.312Z"
   },
   {
    "duration": 272,
    "start_time": "2022-03-04T10:02:28.224Z"
   },
   {
    "duration": 211,
    "start_time": "2022-03-04T10:02:51.523Z"
   },
   {
    "duration": 91,
    "start_time": "2022-03-04T10:03:03.500Z"
   },
   {
    "duration": 228,
    "start_time": "2022-03-04T10:04:51.024Z"
   },
   {
    "duration": 14,
    "start_time": "2022-03-04T10:05:38.236Z"
   },
   {
    "duration": 94,
    "start_time": "2022-03-04T10:13:48.541Z"
   },
   {
    "duration": 77,
    "start_time": "2022-03-04T10:13:54.570Z"
   },
   {
    "duration": 218,
    "start_time": "2022-03-04T10:27:05.848Z"
   },
   {
    "duration": 13,
    "start_time": "2022-03-04T10:27:43.762Z"
   },
   {
    "duration": 10,
    "start_time": "2022-03-04T10:27:45.787Z"
   },
   {
    "duration": 9,
    "start_time": "2022-03-04T10:29:39.968Z"
   },
   {
    "duration": 13,
    "start_time": "2022-03-04T10:29:41.716Z"
   },
   {
    "duration": 1227,
    "start_time": "2022-03-05T10:16:46.221Z"
   },
   {
    "duration": 383,
    "start_time": "2022-03-05T10:16:47.450Z"
   },
   {
    "duration": 12,
    "start_time": "2022-03-05T10:16:47.835Z"
   },
   {
    "duration": 11,
    "start_time": "2022-03-05T10:16:47.850Z"
   },
   {
    "duration": 20,
    "start_time": "2022-03-05T10:16:47.863Z"
   },
   {
    "duration": 21,
    "start_time": "2022-03-05T10:16:47.885Z"
   },
   {
    "duration": 40,
    "start_time": "2022-03-05T10:16:47.907Z"
   },
   {
    "duration": 23,
    "start_time": "2022-03-05T10:16:47.949Z"
   },
   {
    "duration": 27,
    "start_time": "2022-03-05T10:16:47.974Z"
   },
   {
    "duration": 12,
    "start_time": "2022-03-05T10:16:55.308Z"
   },
   {
    "duration": 341,
    "start_time": "2022-03-05T10:26:07.181Z"
   },
   {
    "duration": 84,
    "start_time": "2022-03-05T10:27:18.161Z"
   },
   {
    "duration": 82,
    "start_time": "2022-03-05T10:28:11.806Z"
   },
   {
    "duration": 16,
    "start_time": "2022-03-05T10:28:26.136Z"
   },
   {
    "duration": 15,
    "start_time": "2022-03-05T10:29:42.061Z"
   },
   {
    "duration": 17,
    "start_time": "2022-03-05T10:29:53.109Z"
   },
   {
    "duration": 4,
    "start_time": "2022-03-05T10:32:26.425Z"
   },
   {
    "duration": 4,
    "start_time": "2022-03-05T10:32:32.931Z"
   },
   {
    "duration": 4,
    "start_time": "2022-03-05T10:33:56.501Z"
   },
   {
    "duration": 44,
    "start_time": "2022-03-05T10:34:18.961Z"
   },
   {
    "duration": 4,
    "start_time": "2022-03-05T10:34:38.886Z"
   },
   {
    "duration": 389,
    "start_time": "2022-03-05T10:34:38.893Z"
   },
   {
    "duration": 12,
    "start_time": "2022-03-05T10:34:39.284Z"
   },
   {
    "duration": 12,
    "start_time": "2022-03-05T10:34:39.299Z"
   },
   {
    "duration": 14,
    "start_time": "2022-03-05T10:34:39.313Z"
   },
   {
    "duration": 48,
    "start_time": "2022-03-05T10:34:39.329Z"
   },
   {
    "duration": 11,
    "start_time": "2022-03-05T10:34:39.379Z"
   },
   {
    "duration": 10,
    "start_time": "2022-03-05T10:34:39.393Z"
   },
   {
    "duration": 10,
    "start_time": "2022-03-05T10:34:39.405Z"
   },
   {
    "duration": 13,
    "start_time": "2022-03-05T10:34:39.417Z"
   },
   {
    "duration": 6,
    "start_time": "2022-03-05T10:34:39.432Z"
   },
   {
    "duration": 39,
    "start_time": "2022-03-05T10:34:41.689Z"
   },
   {
    "duration": 5,
    "start_time": "2022-03-05T10:34:44.898Z"
   },
   {
    "duration": 4,
    "start_time": "2022-03-05T10:36:14.878Z"
   },
   {
    "duration": 408,
    "start_time": "2022-03-05T10:36:14.884Z"
   },
   {
    "duration": 12,
    "start_time": "2022-03-05T10:36:15.294Z"
   },
   {
    "duration": 14,
    "start_time": "2022-03-05T10:36:15.308Z"
   },
   {
    "duration": 14,
    "start_time": "2022-03-05T10:36:15.324Z"
   },
   {
    "duration": 17,
    "start_time": "2022-03-05T10:36:15.340Z"
   },
   {
    "duration": 9,
    "start_time": "2022-03-05T10:36:15.378Z"
   },
   {
    "duration": 16,
    "start_time": "2022-03-05T10:36:15.389Z"
   },
   {
    "duration": 15,
    "start_time": "2022-03-05T10:36:15.407Z"
   },
   {
    "duration": 22,
    "start_time": "2022-03-05T10:36:15.424Z"
   },
   {
    "duration": 12,
    "start_time": "2022-03-05T10:36:15.448Z"
   },
   {
    "duration": 30,
    "start_time": "2022-03-05T10:36:18.169Z"
   },
   {
    "duration": 4,
    "start_time": "2022-03-05T10:36:25.901Z"
   },
   {
    "duration": 6,
    "start_time": "2022-03-05T10:37:47.817Z"
   },
   {
    "duration": 6,
    "start_time": "2022-03-05T10:38:01.001Z"
   },
   {
    "duration": 6,
    "start_time": "2022-03-05T10:38:34.137Z"
   },
   {
    "duration": 3,
    "start_time": "2022-03-05T10:43:14.830Z"
   },
   {
    "duration": 9,
    "start_time": "2022-03-05T10:43:15.341Z"
   },
   {
    "duration": 10,
    "start_time": "2022-03-05T10:43:15.914Z"
   },
   {
    "duration": 9,
    "start_time": "2022-03-05T10:43:16.421Z"
   },
   {
    "duration": 275,
    "start_time": "2022-03-05T10:43:33.837Z"
   },
   {
    "duration": 1147,
    "start_time": "2022-03-09T13:12:50.049Z"
   },
   {
    "duration": 364,
    "start_time": "2022-03-09T13:12:51.198Z"
   },
   {
    "duration": 12,
    "start_time": "2022-03-09T13:12:51.564Z"
   },
   {
    "duration": 11,
    "start_time": "2022-03-09T13:12:51.579Z"
   },
   {
    "duration": 11,
    "start_time": "2022-03-09T13:12:51.592Z"
   },
   {
    "duration": 38,
    "start_time": "2022-03-09T13:12:51.605Z"
   },
   {
    "duration": 18,
    "start_time": "2022-03-09T13:12:51.646Z"
   },
   {
    "duration": 17,
    "start_time": "2022-03-09T13:12:51.666Z"
   },
   {
    "duration": 11,
    "start_time": "2022-03-09T13:12:51.685Z"
   },
   {
    "duration": 12,
    "start_time": "2022-03-09T13:12:51.697Z"
   },
   {
    "duration": 7,
    "start_time": "2022-03-09T13:12:51.710Z"
   },
   {
    "duration": 46,
    "start_time": "2022-03-09T13:12:51.718Z"
   },
   {
    "duration": 6,
    "start_time": "2022-03-09T13:12:51.765Z"
   },
   {
    "duration": 7,
    "start_time": "2022-03-09T13:12:51.773Z"
   },
   {
    "duration": 20,
    "start_time": "2022-03-09T13:12:51.781Z"
   },
   {
    "duration": 9,
    "start_time": "2022-03-09T13:12:51.803Z"
   },
   {
    "duration": 23,
    "start_time": "2022-03-09T13:12:51.814Z"
   },
   {
    "duration": 3,
    "start_time": "2022-03-09T13:22:59.886Z"
   },
   {
    "duration": 273,
    "start_time": "2022-03-09T13:24:30.310Z"
   },
   {
    "duration": 177,
    "start_time": "2022-03-09T13:26:26.129Z"
   },
   {
    "duration": 185,
    "start_time": "2022-03-09T13:27:45.873Z"
   },
   {
    "duration": 199,
    "start_time": "2022-03-09T13:30:05.452Z"
   },
   {
    "duration": 4,
    "start_time": "2022-03-09T13:30:13.195Z"
   },
   {
    "duration": 361,
    "start_time": "2022-03-09T13:30:13.202Z"
   },
   {
    "duration": 12,
    "start_time": "2022-03-09T13:30:13.565Z"
   },
   {
    "duration": 11,
    "start_time": "2022-03-09T13:30:13.579Z"
   },
   {
    "duration": 11,
    "start_time": "2022-03-09T13:30:13.592Z"
   },
   {
    "duration": 40,
    "start_time": "2022-03-09T13:30:13.604Z"
   },
   {
    "duration": 11,
    "start_time": "2022-03-09T13:30:13.646Z"
   },
   {
    "duration": 9,
    "start_time": "2022-03-09T13:30:13.659Z"
   },
   {
    "duration": 9,
    "start_time": "2022-03-09T13:30:13.670Z"
   },
   {
    "duration": 9,
    "start_time": "2022-03-09T13:30:13.681Z"
   },
   {
    "duration": 6,
    "start_time": "2022-03-09T13:30:13.692Z"
   },
   {
    "duration": 61,
    "start_time": "2022-03-09T13:30:13.699Z"
   },
   {
    "duration": 6,
    "start_time": "2022-03-09T13:30:13.762Z"
   },
   {
    "duration": 13,
    "start_time": "2022-03-09T13:30:13.770Z"
   },
   {
    "duration": 10,
    "start_time": "2022-03-09T13:30:13.785Z"
   },
   {
    "duration": 7,
    "start_time": "2022-03-09T13:30:13.797Z"
   },
   {
    "duration": 7,
    "start_time": "2022-03-09T13:30:13.806Z"
   },
   {
    "duration": 75,
    "start_time": "2022-03-09T13:30:15.659Z"
   },
   {
    "duration": 13,
    "start_time": "2022-03-09T13:30:32.892Z"
   },
   {
    "duration": 3,
    "start_time": "2022-03-09T13:33:10.078Z"
   },
   {
    "duration": 13,
    "start_time": "2022-03-09T13:33:11.270Z"
   },
   {
    "duration": 12,
    "start_time": "2022-03-09T13:36:01.243Z"
   },
   {
    "duration": 18,
    "start_time": "2022-03-09T13:37:17.181Z"
   },
   {
    "duration": 20,
    "start_time": "2022-03-09T13:37:19.731Z"
   },
   {
    "duration": 182,
    "start_time": "2022-03-09T13:38:07.020Z"
   },
   {
    "duration": 4,
    "start_time": "2022-03-09T13:38:18.764Z"
   },
   {
    "duration": 4,
    "start_time": "2022-03-09T13:38:52.990Z"
   },
   {
    "duration": 4,
    "start_time": "2022-03-09T13:38:59.359Z"
   },
   {
    "duration": 22,
    "start_time": "2022-03-09T13:39:30.599Z"
   },
   {
    "duration": 16,
    "start_time": "2022-03-09T13:43:06.458Z"
   },
   {
    "duration": 54,
    "start_time": "2022-03-09T13:43:22.485Z"
   },
   {
    "duration": 51,
    "start_time": "2022-03-09T13:43:44.371Z"
   },
   {
    "duration": 59,
    "start_time": "2022-03-09T13:45:55.774Z"
   },
   {
    "duration": 13,
    "start_time": "2022-03-09T13:46:04.276Z"
   },
   {
    "duration": 73,
    "start_time": "2022-03-09T13:47:34.359Z"
   },
   {
    "duration": 13,
    "start_time": "2022-03-09T13:48:15.426Z"
   },
   {
    "duration": 13,
    "start_time": "2022-03-09T13:49:15.281Z"
   },
   {
    "duration": 13,
    "start_time": "2022-03-09T13:49:41.796Z"
   },
   {
    "duration": 4,
    "start_time": "2022-03-09T15:53:00.937Z"
   },
   {
    "duration": 3,
    "start_time": "2022-03-09T15:54:29.506Z"
   },
   {
    "duration": 17,
    "start_time": "2022-03-09T15:56:11.469Z"
   },
   {
    "duration": 17,
    "start_time": "2022-03-09T15:57:30.269Z"
   },
   {
    "duration": 12,
    "start_time": "2022-03-09T15:57:44.828Z"
   },
   {
    "duration": 18,
    "start_time": "2022-03-09T15:57:49.101Z"
   },
   {
    "duration": 3,
    "start_time": "2022-03-09T15:59:10.589Z"
   },
   {
    "duration": 1389,
    "start_time": "2022-03-10T10:02:19.818Z"
   },
   {
    "duration": 465,
    "start_time": "2022-03-10T10:02:21.210Z"
   },
   {
    "duration": 15,
    "start_time": "2022-03-10T10:02:21.678Z"
   },
   {
    "duration": 18,
    "start_time": "2022-03-10T10:02:21.696Z"
   },
   {
    "duration": 19,
    "start_time": "2022-03-10T10:02:21.717Z"
   },
   {
    "duration": 22,
    "start_time": "2022-03-10T10:02:21.787Z"
   },
   {
    "duration": 18,
    "start_time": "2022-03-10T10:02:21.812Z"
   },
   {
    "duration": 11,
    "start_time": "2022-03-10T10:02:21.833Z"
   },
   {
    "duration": 48,
    "start_time": "2022-03-10T10:02:21.848Z"
   },
   {
    "duration": 27,
    "start_time": "2022-03-10T10:02:21.900Z"
   },
   {
    "duration": 15,
    "start_time": "2022-03-10T10:02:21.930Z"
   },
   {
    "duration": 40,
    "start_time": "2022-03-10T10:02:21.948Z"
   },
   {
    "duration": 43,
    "start_time": "2022-03-10T10:02:21.991Z"
   },
   {
    "duration": 11,
    "start_time": "2022-03-10T10:02:22.036Z"
   },
   {
    "duration": 6,
    "start_time": "2022-03-10T10:02:22.088Z"
   },
   {
    "duration": 537,
    "start_time": "2022-03-10T10:02:22.097Z"
   },
   {
    "duration": -844,
    "start_time": "2022-03-10T10:02:23.481Z"
   },
   {
    "duration": -850,
    "start_time": "2022-03-10T10:02:23.488Z"
   },
   {
    "duration": -851,
    "start_time": "2022-03-10T10:02:23.490Z"
   },
   {
    "duration": 4,
    "start_time": "2022-03-10T10:02:24.325Z"
   },
   {
    "duration": 17,
    "start_time": "2022-03-10T10:03:27.621Z"
   },
   {
    "duration": 340,
    "start_time": "2022-03-10T10:03:35.088Z"
   },
   {
    "duration": 17,
    "start_time": "2022-03-10T10:03:50.240Z"
   },
   {
    "duration": 17,
    "start_time": "2022-03-10T10:03:51.775Z"
   },
   {
    "duration": 5,
    "start_time": "2022-03-10T10:03:54.726Z"
   },
   {
    "duration": 5,
    "start_time": "2022-03-10T10:03:58.455Z"
   },
   {
    "duration": 240,
    "start_time": "2022-03-10T10:08:31.578Z"
   },
   {
    "duration": 231,
    "start_time": "2022-03-10T10:11:11.462Z"
   },
   {
    "duration": 12,
    "start_time": "2022-03-10T10:11:29.214Z"
   },
   {
    "duration": 12,
    "start_time": "2022-03-10T10:11:43.910Z"
   },
   {
    "duration": 11,
    "start_time": "2022-03-10T10:21:23.561Z"
   },
   {
    "duration": 5,
    "start_time": "2022-03-10T10:22:44.305Z"
   },
   {
    "duration": 8,
    "start_time": "2022-03-10T10:22:53.569Z"
   },
   {
    "duration": 270,
    "start_time": "2022-03-10T10:23:56.040Z"
   },
   {
    "duration": 261,
    "start_time": "2022-03-10T10:24:14.858Z"
   },
   {
    "duration": 12,
    "start_time": "2022-03-10T10:24:30.490Z"
   },
   {
    "duration": 16,
    "start_time": "2022-03-10T10:26:03.709Z"
   },
   {
    "duration": 15,
    "start_time": "2022-03-10T10:30:34.033Z"
   },
   {
    "duration": 12,
    "start_time": "2022-03-10T10:31:34.756Z"
   },
   {
    "duration": 13,
    "start_time": "2022-03-10T10:31:40.620Z"
   },
   {
    "duration": 6,
    "start_time": "2022-03-10T10:32:26.261Z"
   },
   {
    "duration": 7,
    "start_time": "2022-03-10T10:32:42.421Z"
   },
   {
    "duration": 14,
    "start_time": "2022-03-10T10:33:28.630Z"
   },
   {
    "duration": 514,
    "start_time": "2022-03-10T10:33:43.258Z"
   },
   {
    "duration": 13,
    "start_time": "2022-03-10T10:34:10.886Z"
   },
   {
    "duration": 5,
    "start_time": "2022-03-10T10:34:47.084Z"
   },
   {
    "duration": 549,
    "start_time": "2022-03-10T10:34:47.092Z"
   },
   {
    "duration": 15,
    "start_time": "2022-03-10T10:34:47.645Z"
   },
   {
    "duration": 32,
    "start_time": "2022-03-10T10:34:47.663Z"
   },
   {
    "duration": 18,
    "start_time": "2022-03-10T10:34:47.698Z"
   },
   {
    "duration": 22,
    "start_time": "2022-03-10T10:34:47.719Z"
   },
   {
    "duration": 59,
    "start_time": "2022-03-10T10:34:47.743Z"
   },
   {
    "duration": 22,
    "start_time": "2022-03-10T10:34:47.805Z"
   },
   {
    "duration": 17,
    "start_time": "2022-03-10T10:34:47.832Z"
   },
   {
    "duration": 25,
    "start_time": "2022-03-10T10:34:47.888Z"
   },
   {
    "duration": 9,
    "start_time": "2022-03-10T10:34:47.915Z"
   },
   {
    "duration": 8,
    "start_time": "2022-03-10T10:34:47.926Z"
   },
   {
    "duration": 80,
    "start_time": "2022-03-10T10:34:47.936Z"
   },
   {
    "duration": 8,
    "start_time": "2022-03-10T10:34:48.018Z"
   },
   {
    "duration": 4,
    "start_time": "2022-03-10T10:34:48.028Z"
   },
   {
    "duration": 61,
    "start_time": "2022-03-10T10:34:48.034Z"
   },
   {
    "duration": 106,
    "start_time": "2022-03-10T10:34:48.098Z"
   },
   {
    "duration": 185,
    "start_time": "2022-03-10T10:34:48.207Z"
   },
   {
    "duration": 95,
    "start_time": "2022-03-10T10:34:48.395Z"
   },
   {
    "duration": 14,
    "start_time": "2022-03-10T10:34:56.217Z"
   },
   {
    "duration": 5,
    "start_time": "2022-03-10T10:35:39.390Z"
   },
   {
    "duration": 451,
    "start_time": "2022-03-10T10:35:39.397Z"
   },
   {
    "duration": 14,
    "start_time": "2022-03-10T10:35:39.851Z"
   },
   {
    "duration": 14,
    "start_time": "2022-03-10T10:35:39.888Z"
   },
   {
    "duration": 13,
    "start_time": "2022-03-10T10:35:39.904Z"
   },
   {
    "duration": 18,
    "start_time": "2022-03-10T10:35:39.920Z"
   },
   {
    "duration": 50,
    "start_time": "2022-03-10T10:35:39.941Z"
   },
   {
    "duration": 14,
    "start_time": "2022-03-10T10:35:39.994Z"
   },
   {
    "duration": 16,
    "start_time": "2022-03-10T10:35:40.011Z"
   },
   {
    "duration": 61,
    "start_time": "2022-03-10T10:35:40.030Z"
   },
   {
    "duration": 9,
    "start_time": "2022-03-10T10:35:40.094Z"
   },
   {
    "duration": 14,
    "start_time": "2022-03-10T10:35:40.105Z"
   },
   {
    "duration": 49,
    "start_time": "2022-03-10T10:35:40.121Z"
   },
   {
    "duration": 19,
    "start_time": "2022-03-10T10:35:40.173Z"
   },
   {
    "duration": 12,
    "start_time": "2022-03-10T10:35:40.194Z"
   },
   {
    "duration": 82,
    "start_time": "2022-03-10T10:35:40.209Z"
   },
   {
    "duration": 108,
    "start_time": "2022-03-10T10:35:40.294Z"
   },
   {
    "duration": 198,
    "start_time": "2022-03-10T10:35:40.405Z"
   },
   {
    "duration": 82,
    "start_time": "2022-03-10T10:35:40.607Z"
   },
   {
    "duration": 103,
    "start_time": "2022-03-10T10:35:40.693Z"
   },
   {
    "duration": 13,
    "start_time": "2022-03-10T10:35:42.891Z"
   },
   {
    "duration": 7,
    "start_time": "2022-03-10T13:02:31.633Z"
   },
   {
    "duration": 596,
    "start_time": "2022-03-10T13:02:31.643Z"
   },
   {
    "duration": 20,
    "start_time": "2022-03-10T13:02:32.243Z"
   },
   {
    "duration": 39,
    "start_time": "2022-03-10T13:02:32.267Z"
   },
   {
    "duration": 20,
    "start_time": "2022-03-10T13:02:32.309Z"
   },
   {
    "duration": 58,
    "start_time": "2022-03-10T13:02:32.332Z"
   },
   {
    "duration": 17,
    "start_time": "2022-03-10T13:02:32.392Z"
   },
   {
    "duration": 21,
    "start_time": "2022-03-10T13:02:32.412Z"
   },
   {
    "duration": 16,
    "start_time": "2022-03-10T13:02:32.437Z"
   },
   {
    "duration": 33,
    "start_time": "2022-03-10T13:02:32.488Z"
   },
   {
    "duration": 12,
    "start_time": "2022-03-10T13:02:32.524Z"
   },
   {
    "duration": 9,
    "start_time": "2022-03-10T13:02:32.539Z"
   },
   {
    "duration": 72,
    "start_time": "2022-03-10T13:02:32.550Z"
   },
   {
    "duration": 7,
    "start_time": "2022-03-10T13:02:32.624Z"
   },
   {
    "duration": 7,
    "start_time": "2022-03-10T13:02:32.634Z"
   },
   {
    "duration": 142,
    "start_time": "2022-03-10T13:02:32.644Z"
   },
   {
    "duration": 115,
    "start_time": "2022-03-10T13:02:32.791Z"
   },
   {
    "duration": 111,
    "start_time": "2022-03-10T13:02:32.989Z"
   },
   {
    "duration": 94,
    "start_time": "2022-03-10T13:02:33.103Z"
   },
   {
    "duration": 95,
    "start_time": "2022-03-10T13:02:33.201Z"
   },
   {
    "duration": 14,
    "start_time": "2022-03-10T13:02:33.299Z"
   },
   {
    "duration": 15,
    "start_time": "2022-03-10T13:02:33.315Z"
   },
   {
    "duration": 12,
    "start_time": "2022-03-10T13:02:33.336Z"
   },
   {
    "duration": 11,
    "start_time": "2022-03-10T13:02:33.387Z"
   },
   {
    "duration": 11,
    "start_time": "2022-03-10T13:02:33.400Z"
   },
   {
    "duration": 14,
    "start_time": "2022-03-10T13:02:33.413Z"
   },
   {
    "duration": 5,
    "start_time": "2022-03-10T13:07:52.969Z"
   },
   {
    "duration": 462,
    "start_time": "2022-03-10T13:07:52.977Z"
   },
   {
    "duration": 14,
    "start_time": "2022-03-10T13:07:53.442Z"
   },
   {
    "duration": 32,
    "start_time": "2022-03-10T13:07:53.458Z"
   },
   {
    "duration": 12,
    "start_time": "2022-03-10T13:07:53.493Z"
   },
   {
    "duration": 29,
    "start_time": "2022-03-10T13:07:53.507Z"
   },
   {
    "duration": 25,
    "start_time": "2022-03-10T13:07:53.539Z"
   },
   {
    "duration": 13,
    "start_time": "2022-03-10T13:07:53.587Z"
   },
   {
    "duration": 19,
    "start_time": "2022-03-10T13:07:53.602Z"
   },
   {
    "duration": 38,
    "start_time": "2022-03-10T13:07:53.624Z"
   },
   {
    "duration": 30,
    "start_time": "2022-03-10T13:07:53.664Z"
   },
   {
    "duration": 14,
    "start_time": "2022-03-10T13:07:53.697Z"
   },
   {
    "duration": 55,
    "start_time": "2022-03-10T13:07:53.713Z"
   },
   {
    "duration": 18,
    "start_time": "2022-03-10T13:07:53.770Z"
   },
   {
    "duration": 8,
    "start_time": "2022-03-10T13:07:53.790Z"
   },
   {
    "duration": 91,
    "start_time": "2022-03-10T13:07:53.801Z"
   },
   {
    "duration": 116,
    "start_time": "2022-03-10T13:07:53.895Z"
   },
   {
    "duration": 188,
    "start_time": "2022-03-10T13:07:54.014Z"
   },
   {
    "duration": 192,
    "start_time": "2022-03-10T13:07:54.205Z"
   },
   {
    "duration": 17,
    "start_time": "2022-03-10T13:07:54.400Z"
   },
   {
    "duration": 12,
    "start_time": "2022-03-10T13:07:54.419Z"
   },
   {
    "duration": 23,
    "start_time": "2022-03-10T13:07:54.433Z"
   },
   {
    "duration": 230,
    "start_time": "2022-03-10T13:21:20.331Z"
   },
   {
    "duration": 5,
    "start_time": "2022-03-10T13:21:36.284Z"
   },
   {
    "duration": 458,
    "start_time": "2022-03-10T13:21:36.292Z"
   },
   {
    "duration": 13,
    "start_time": "2022-03-10T13:21:36.753Z"
   },
   {
    "duration": 31,
    "start_time": "2022-03-10T13:21:36.768Z"
   },
   {
    "duration": 13,
    "start_time": "2022-03-10T13:21:36.802Z"
   },
   {
    "duration": 17,
    "start_time": "2022-03-10T13:21:36.818Z"
   },
   {
    "duration": 56,
    "start_time": "2022-03-10T13:21:36.838Z"
   },
   {
    "duration": 14,
    "start_time": "2022-03-10T13:21:36.897Z"
   },
   {
    "duration": 13,
    "start_time": "2022-03-10T13:21:36.915Z"
   },
   {
    "duration": 67,
    "start_time": "2022-03-10T13:21:36.931Z"
   },
   {
    "duration": 9,
    "start_time": "2022-03-10T13:21:37.001Z"
   },
   {
    "duration": 13,
    "start_time": "2022-03-10T13:21:37.013Z"
   },
   {
    "duration": 64,
    "start_time": "2022-03-10T13:21:37.028Z"
   },
   {
    "duration": 9,
    "start_time": "2022-03-10T13:21:37.095Z"
   },
   {
    "duration": 4,
    "start_time": "2022-03-10T13:21:37.106Z"
   },
   {
    "duration": 176,
    "start_time": "2022-03-10T13:21:37.113Z"
   },
   {
    "duration": 18,
    "start_time": "2022-03-10T13:21:37.291Z"
   },
   {
    "duration": 193,
    "start_time": "2022-03-10T13:21:37.311Z"
   },
   {
    "duration": 81,
    "start_time": "2022-03-10T13:21:37.507Z"
   },
   {
    "duration": 96,
    "start_time": "2022-03-10T13:21:37.591Z"
   },
   {
    "duration": 4,
    "start_time": "2022-03-10T13:21:37.690Z"
   },
   {
    "duration": 8,
    "start_time": "2022-03-10T13:21:37.696Z"
   },
   {
    "duration": 237,
    "start_time": "2022-03-10T13:21:39.761Z"
   },
   {
    "duration": 3103,
    "start_time": "2022-03-10T13:22:08.284Z"
   },
   {
    "duration": 4,
    "start_time": "2022-03-10T13:22:13.516Z"
   },
   {
    "duration": 1563,
    "start_time": "2022-03-10T13:25:29.759Z"
   },
   {
    "duration": 482,
    "start_time": "2022-03-10T13:25:31.326Z"
   },
   {
    "duration": 15,
    "start_time": "2022-03-10T13:25:31.815Z"
   },
   {
    "duration": 17,
    "start_time": "2022-03-10T13:25:31.833Z"
   },
   {
    "duration": 47,
    "start_time": "2022-03-10T13:25:31.852Z"
   },
   {
    "duration": 21,
    "start_time": "2022-03-10T13:25:31.902Z"
   },
   {
    "duration": 59,
    "start_time": "2022-03-10T13:25:31.928Z"
   },
   {
    "duration": 12,
    "start_time": "2022-03-10T13:25:31.991Z"
   },
   {
    "duration": 16,
    "start_time": "2022-03-10T13:25:32.005Z"
   },
   {
    "duration": 76,
    "start_time": "2022-03-10T13:25:32.023Z"
   },
   {
    "duration": 15,
    "start_time": "2022-03-10T13:25:32.102Z"
   },
   {
    "duration": 14,
    "start_time": "2022-03-10T13:25:32.120Z"
   },
   {
    "duration": 75,
    "start_time": "2022-03-10T13:25:32.137Z"
   },
   {
    "duration": 8,
    "start_time": "2022-03-10T13:25:32.215Z"
   },
   {
    "duration": 9,
    "start_time": "2022-03-10T13:25:32.226Z"
   },
   {
    "duration": 159,
    "start_time": "2022-03-10T13:25:32.238Z"
   },
   {
    "duration": 104,
    "start_time": "2022-03-10T13:25:32.401Z"
   },
   {
    "duration": 195,
    "start_time": "2022-03-10T13:25:32.508Z"
   },
   {
    "duration": 95,
    "start_time": "2022-03-10T13:25:32.793Z"
   },
   {
    "duration": 7,
    "start_time": "2022-03-10T13:25:32.891Z"
   },
   {
    "duration": 7,
    "start_time": "2022-03-10T13:25:32.901Z"
   },
   {
    "duration": 7,
    "start_time": "2022-03-10T13:25:32.910Z"
   },
   {
    "duration": 575,
    "start_time": "2022-03-10T13:25:32.920Z"
   },
   {
    "duration": 5,
    "start_time": "2022-03-10T13:26:22.082Z"
   },
   {
    "duration": 507,
    "start_time": "2022-03-10T13:26:22.090Z"
   },
   {
    "duration": 14,
    "start_time": "2022-03-10T13:26:22.600Z"
   },
   {
    "duration": 14,
    "start_time": "2022-03-10T13:26:22.616Z"
   },
   {
    "duration": 62,
    "start_time": "2022-03-10T13:26:22.632Z"
   },
   {
    "duration": 17,
    "start_time": "2022-03-10T13:26:22.697Z"
   },
   {
    "duration": 17,
    "start_time": "2022-03-10T13:26:22.716Z"
   },
   {
    "duration": 55,
    "start_time": "2022-03-10T13:26:22.737Z"
   },
   {
    "duration": 18,
    "start_time": "2022-03-10T13:26:22.796Z"
   },
   {
    "duration": 31,
    "start_time": "2022-03-10T13:26:22.817Z"
   },
   {
    "duration": 43,
    "start_time": "2022-03-10T13:26:22.850Z"
   },
   {
    "duration": 15,
    "start_time": "2022-03-10T13:26:22.895Z"
   },
   {
    "duration": 44,
    "start_time": "2022-03-10T13:26:22.912Z"
   },
   {
    "duration": 31,
    "start_time": "2022-03-10T13:26:22.959Z"
   },
   {
    "duration": 4,
    "start_time": "2022-03-10T13:26:22.993Z"
   },
   {
    "duration": 93,
    "start_time": "2022-03-10T13:26:22.999Z"
   },
   {
    "duration": 102,
    "start_time": "2022-03-10T13:26:23.095Z"
   },
   {
    "duration": 198,
    "start_time": "2022-03-10T13:26:23.201Z"
   },
   {
    "duration": 89,
    "start_time": "2022-03-10T13:26:23.402Z"
   },
   {
    "duration": 99,
    "start_time": "2022-03-10T13:26:23.494Z"
   },
   {
    "duration": 7,
    "start_time": "2022-03-10T13:26:23.597Z"
   },
   {
    "duration": 8,
    "start_time": "2022-03-10T13:26:23.607Z"
   },
   {
    "duration": 3052,
    "start_time": "2022-03-10T13:26:24.962Z"
   },
   {
    "duration": 4,
    "start_time": "2022-03-10T13:26:31.081Z"
   },
   {
    "duration": 5,
    "start_time": "2022-03-10T13:28:07.836Z"
   },
   {
    "duration": 7,
    "start_time": "2022-03-10T13:28:58.515Z"
   },
   {
    "duration": 5,
    "start_time": "2022-03-10T13:29:03.820Z"
   },
   {
    "duration": 243,
    "start_time": "2022-03-10T13:34:43.908Z"
   },
   {
    "duration": 238,
    "start_time": "2022-03-10T13:36:30.724Z"
   },
   {
    "duration": 245,
    "start_time": "2022-03-10T13:36:45.828Z"
   },
   {
    "duration": 6,
    "start_time": "2022-03-10T13:37:01.844Z"
   },
   {
    "duration": 218,
    "start_time": "2022-03-10T13:37:28.251Z"
   },
   {
    "duration": 246,
    "start_time": "2022-03-10T13:37:40.202Z"
   },
   {
    "duration": 7,
    "start_time": "2022-03-10T13:38:06.897Z"
   },
   {
    "duration": 10,
    "start_time": "2022-03-10T13:38:14.598Z"
   },
   {
    "duration": 7,
    "start_time": "2022-03-10T13:38:30.311Z"
   },
   {
    "duration": 8,
    "start_time": "2022-03-10T13:38:37.428Z"
   },
   {
    "duration": 7,
    "start_time": "2022-03-10T13:39:57.827Z"
   },
   {
    "duration": 8,
    "start_time": "2022-03-10T13:40:03.756Z"
   },
   {
    "duration": 7,
    "start_time": "2022-03-10T13:40:11.913Z"
   },
   {
    "duration": 8,
    "start_time": "2022-03-10T13:41:07.452Z"
   },
   {
    "duration": 9,
    "start_time": "2022-03-10T13:41:22.945Z"
   },
   {
    "duration": 6,
    "start_time": "2022-03-10T13:41:45.682Z"
   },
   {
    "duration": 220,
    "start_time": "2022-03-10T13:42:28.838Z"
   },
   {
    "duration": 11,
    "start_time": "2022-03-10T13:42:33.751Z"
   },
   {
    "duration": 6,
    "start_time": "2022-03-10T13:42:57.899Z"
   },
   {
    "duration": 5,
    "start_time": "2022-03-10T13:42:59.327Z"
   },
   {
    "duration": 8,
    "start_time": "2022-03-10T13:53:47.348Z"
   },
   {
    "duration": 235,
    "start_time": "2022-03-10T13:54:21.221Z"
   },
   {
    "duration": 11,
    "start_time": "2022-03-10T13:54:31.931Z"
   },
   {
    "duration": 32,
    "start_time": "2022-03-10T13:54:34.306Z"
   },
   {
    "duration": 6,
    "start_time": "2022-03-10T13:54:49.692Z"
   },
   {
    "duration": 6,
    "start_time": "2022-03-10T13:54:51.229Z"
   },
   {
    "duration": 343,
    "start_time": "2022-03-10T13:56:59.591Z"
   },
   {
    "duration": 239,
    "start_time": "2022-03-10T13:59:10.494Z"
   },
   {
    "duration": 486,
    "start_time": "2022-03-10T13:59:44.040Z"
   },
   {
    "duration": 258,
    "start_time": "2022-03-10T14:00:32.578Z"
   },
   {
    "duration": 485,
    "start_time": "2022-03-10T14:00:52.144Z"
   },
   {
    "duration": 419,
    "start_time": "2022-03-10T14:01:42.601Z"
   },
   {
    "duration": 481,
    "start_time": "2022-03-10T14:02:03.499Z"
   },
   {
    "duration": 350,
    "start_time": "2022-03-10T14:02:57.691Z"
   },
   {
    "duration": 563,
    "start_time": "2022-03-10T14:03:08.933Z"
   },
   {
    "duration": 394,
    "start_time": "2022-03-10T14:06:29.517Z"
   },
   {
    "duration": 70,
    "start_time": "2022-03-10T15:41:23.904Z"
   },
   {
    "duration": 1041,
    "start_time": "2022-03-10T15:41:32.561Z"
   },
   {
    "duration": 21,
    "start_time": "2022-03-10T15:41:51.954Z"
   },
   {
    "duration": 20,
    "start_time": "2022-03-10T15:42:06.658Z"
   },
   {
    "duration": 18,
    "start_time": "2022-03-10T15:42:31.115Z"
   },
   {
    "duration": 52,
    "start_time": "2022-03-10T15:43:02.739Z"
   },
   {
    "duration": 17,
    "start_time": "2022-03-10T15:43:25.705Z"
   },
   {
    "duration": 17,
    "start_time": "2022-03-10T15:43:26.634Z"
   },
   {
    "duration": 16,
    "start_time": "2022-03-10T15:43:27.778Z"
   },
   {
    "duration": 16,
    "start_time": "2022-03-10T15:50:22.872Z"
   },
   {
    "duration": 10,
    "start_time": "2022-03-10T15:50:23.736Z"
   },
   {
    "duration": 16,
    "start_time": "2022-03-10T15:50:41.981Z"
   },
   {
    "duration": 9,
    "start_time": "2022-03-10T15:50:50.411Z"
   },
   {
    "duration": 18,
    "start_time": "2022-03-10T15:51:02.457Z"
   },
   {
    "duration": 19,
    "start_time": "2022-03-10T15:51:03.736Z"
   },
   {
    "duration": 17,
    "start_time": "2022-03-10T15:51:05.042Z"
   },
   {
    "duration": 20,
    "start_time": "2022-03-10T15:51:22.512Z"
   },
   {
    "duration": 17,
    "start_time": "2022-03-10T15:51:23.185Z"
   },
   {
    "duration": 17,
    "start_time": "2022-03-10T15:51:31.867Z"
   },
   {
    "duration": 84,
    "start_time": "2022-03-10T18:46:20.192Z"
   },
   {
    "duration": 4,
    "start_time": "2022-03-10T18:46:26.740Z"
   },
   {
    "duration": 5,
    "start_time": "2022-03-10T18:49:48.521Z"
   },
   {
    "duration": 5,
    "start_time": "2022-03-10T18:50:00.607Z"
   },
   {
    "duration": 6,
    "start_time": "2022-03-10T19:06:15.367Z"
   },
   {
    "duration": 1166,
    "start_time": "2022-03-11T07:37:19.279Z"
   },
   {
    "duration": 374,
    "start_time": "2022-03-11T07:37:20.447Z"
   },
   {
    "duration": 11,
    "start_time": "2022-03-11T07:37:20.823Z"
   },
   {
    "duration": 20,
    "start_time": "2022-03-11T07:37:20.836Z"
   },
   {
    "duration": 11,
    "start_time": "2022-03-11T07:37:20.858Z"
   },
   {
    "duration": 21,
    "start_time": "2022-03-11T07:37:20.870Z"
   },
   {
    "duration": 15,
    "start_time": "2022-03-11T07:37:20.893Z"
   },
   {
    "duration": 10,
    "start_time": "2022-03-11T07:37:20.910Z"
   },
   {
    "duration": 13,
    "start_time": "2022-03-11T07:37:20.922Z"
   },
   {
    "duration": 40,
    "start_time": "2022-03-11T07:37:20.937Z"
   },
   {
    "duration": 3,
    "start_time": "2022-03-11T07:37:20.979Z"
   },
   {
    "duration": 38,
    "start_time": "2022-03-11T07:37:20.983Z"
   },
   {
    "duration": 7,
    "start_time": "2022-03-11T07:37:21.022Z"
   },
   {
    "duration": 9,
    "start_time": "2022-03-11T07:37:21.030Z"
   },
   {
    "duration": 8,
    "start_time": "2022-03-11T07:37:21.041Z"
   },
   {
    "duration": 37,
    "start_time": "2022-03-11T07:37:21.051Z"
   },
   {
    "duration": 188,
    "start_time": "2022-03-11T07:37:21.091Z"
   },
   {
    "duration": 100,
    "start_time": "2022-03-11T07:37:21.282Z"
   },
   {
    "duration": 93,
    "start_time": "2022-03-11T07:37:21.387Z"
   },
   {
    "duration": 123,
    "start_time": "2022-03-11T07:37:21.482Z"
   },
   {
    "duration": 32,
    "start_time": "2022-03-11T07:37:21.607Z"
   },
   {
    "duration": 28,
    "start_time": "2022-03-11T07:37:21.642Z"
   },
   {
    "duration": 4,
    "start_time": "2022-03-11T07:37:33.795Z"
   },
   {
    "duration": 1833,
    "start_time": "2022-03-11T07:44:52.874Z"
   },
   {
    "duration": 4,
    "start_time": "2022-03-11T07:44:56.633Z"
   },
   {
    "duration": 375,
    "start_time": "2022-03-11T07:47:40.382Z"
   },
   {
    "duration": 482,
    "start_time": "2022-03-11T07:48:15.513Z"
   },
   {
    "duration": 315,
    "start_time": "2022-03-11T07:48:49.887Z"
   },
   {
    "duration": 351,
    "start_time": "2022-03-11T07:49:03.536Z"
   },
   {
    "duration": 320,
    "start_time": "2022-03-11T07:49:14.775Z"
   },
   {
    "duration": 5,
    "start_time": "2022-03-11T07:50:41.798Z"
   },
   {
    "duration": 290,
    "start_time": "2022-03-11T07:52:24.185Z"
   },
   {
    "duration": 4,
    "start_time": "2022-03-11T07:55:05.477Z"
   },
   {
    "duration": 4,
    "start_time": "2022-03-11T07:55:22.227Z"
   },
   {
    "duration": 4,
    "start_time": "2022-03-11T07:55:32.212Z"
   },
   {
    "duration": 6,
    "start_time": "2022-03-11T07:57:59.397Z"
   },
   {
    "duration": 670,
    "start_time": "2022-03-11T07:59:05.182Z"
   },
   {
    "duration": 6,
    "start_time": "2022-03-11T07:59:26.045Z"
   },
   {
    "duration": 480,
    "start_time": "2022-03-11T08:01:15.636Z"
   },
   {
    "duration": 6,
    "start_time": "2022-03-11T08:01:23.186Z"
   },
   {
    "duration": 6,
    "start_time": "2022-03-11T08:01:50.490Z"
   },
   {
    "duration": 6,
    "start_time": "2022-03-11T08:02:17.587Z"
   },
   {
    "duration": 8,
    "start_time": "2022-03-11T08:04:37.508Z"
   },
   {
    "duration": 9,
    "start_time": "2022-03-11T08:04:46.476Z"
   },
   {
    "duration": 6,
    "start_time": "2022-03-11T08:10:02.122Z"
   },
   {
    "duration": 435,
    "start_time": "2022-03-11T08:10:02.130Z"
   },
   {
    "duration": 11,
    "start_time": "2022-03-11T08:10:02.568Z"
   },
   {
    "duration": 11,
    "start_time": "2022-03-11T08:10:02.582Z"
   },
   {
    "duration": 13,
    "start_time": "2022-03-11T08:10:02.595Z"
   },
   {
    "duration": 17,
    "start_time": "2022-03-11T08:10:02.610Z"
   },
   {
    "duration": 16,
    "start_time": "2022-03-11T08:10:02.629Z"
   },
   {
    "duration": 36,
    "start_time": "2022-03-11T08:10:02.648Z"
   },
   {
    "duration": 13,
    "start_time": "2022-03-11T08:10:02.686Z"
   },
   {
    "duration": 12,
    "start_time": "2022-03-11T08:10:02.701Z"
   },
   {
    "duration": 6,
    "start_time": "2022-03-11T08:10:02.715Z"
   },
   {
    "duration": 33,
    "start_time": "2022-03-11T08:10:02.723Z"
   },
   {
    "duration": 23,
    "start_time": "2022-03-11T08:10:02.759Z"
   },
   {
    "duration": 10,
    "start_time": "2022-03-11T08:10:02.783Z"
   },
   {
    "duration": 7,
    "start_time": "2022-03-11T08:10:02.795Z"
   },
   {
    "duration": 72,
    "start_time": "2022-03-11T08:10:02.804Z"
   },
   {
    "duration": 108,
    "start_time": "2022-03-11T08:10:02.879Z"
   },
   {
    "duration": 96,
    "start_time": "2022-03-11T08:10:02.990Z"
   },
   {
    "duration": 5,
    "start_time": "2022-03-11T08:10:03.179Z"
   },
   {
    "duration": 117,
    "start_time": "2022-03-11T08:10:03.187Z"
   },
   {
    "duration": 20,
    "start_time": "2022-03-11T08:10:03.306Z"
   },
   {
    "duration": 19,
    "start_time": "2022-03-11T08:10:03.327Z"
   },
   {
    "duration": 3,
    "start_time": "2022-03-11T08:10:05.249Z"
   },
   {
    "duration": 1831,
    "start_time": "2022-03-11T08:10:06.793Z"
   },
   {
    "duration": 2,
    "start_time": "2022-03-11T08:10:08.626Z"
   },
   {
    "duration": 304,
    "start_time": "2022-03-11T08:10:11.778Z"
   },
   {
    "duration": 374,
    "start_time": "2022-03-11T08:10:23.673Z"
   },
   {
    "duration": 8,
    "start_time": "2022-03-11T08:10:25.530Z"
   },
   {
    "duration": 1981,
    "start_time": "2022-03-11T08:11:59.310Z"
   },
   {
    "duration": 4,
    "start_time": "2022-03-11T08:12:16.743Z"
   },
   {
    "duration": 333,
    "start_time": "2022-03-11T08:12:27.069Z"
   },
   {
    "duration": 9,
    "start_time": "2022-03-11T08:13:08.262Z"
   },
   {
    "duration": 1878,
    "start_time": "2022-03-11T08:14:38.558Z"
   },
   {
    "duration": 3,
    "start_time": "2022-03-11T08:14:40.438Z"
   },
   {
    "duration": 285,
    "start_time": "2022-03-11T08:14:41.245Z"
   },
   {
    "duration": 295,
    "start_time": "2022-03-11T08:14:57.087Z"
   },
   {
    "duration": 268,
    "start_time": "2022-03-11T08:15:03.359Z"
   },
   {
    "duration": 8,
    "start_time": "2022-03-11T08:15:16.254Z"
   },
   {
    "duration": 1165,
    "start_time": "2022-03-11T09:06:53.766Z"
   },
   {
    "duration": 381,
    "start_time": "2022-03-11T09:06:54.934Z"
   },
   {
    "duration": 12,
    "start_time": "2022-03-11T09:06:55.318Z"
   },
   {
    "duration": 11,
    "start_time": "2022-03-11T09:06:55.332Z"
   },
   {
    "duration": 10,
    "start_time": "2022-03-11T09:06:55.345Z"
   },
   {
    "duration": 17,
    "start_time": "2022-03-11T09:06:55.377Z"
   },
   {
    "duration": 13,
    "start_time": "2022-03-11T09:06:55.396Z"
   },
   {
    "duration": 17,
    "start_time": "2022-03-11T09:06:55.411Z"
   },
   {
    "duration": 10,
    "start_time": "2022-03-11T09:06:55.430Z"
   },
   {
    "duration": 38,
    "start_time": "2022-03-11T09:06:55.442Z"
   },
   {
    "duration": 12,
    "start_time": "2022-03-11T09:06:55.482Z"
   },
   {
    "duration": 36,
    "start_time": "2022-03-11T09:06:55.496Z"
   },
   {
    "duration": 7,
    "start_time": "2022-03-11T09:06:55.534Z"
   },
   {
    "duration": 4,
    "start_time": "2022-03-11T09:06:55.544Z"
   },
   {
    "duration": 7,
    "start_time": "2022-03-11T09:06:55.550Z"
   },
   {
    "duration": 21,
    "start_time": "2022-03-11T09:06:55.578Z"
   },
   {
    "duration": 181,
    "start_time": "2022-03-11T09:06:55.602Z"
   },
   {
    "duration": 15,
    "start_time": "2022-03-11T09:06:55.876Z"
   },
   {
    "duration": 89,
    "start_time": "2022-03-11T09:06:55.894Z"
   },
   {
    "duration": 98,
    "start_time": "2022-03-11T09:06:55.986Z"
   },
   {
    "duration": 6,
    "start_time": "2022-03-11T09:06:56.086Z"
   },
   {
    "duration": 6,
    "start_time": "2022-03-11T09:06:56.094Z"
   },
   {
    "duration": 14,
    "start_time": "2022-03-11T09:06:56.101Z"
   },
   {
    "duration": 1911,
    "start_time": "2022-03-11T09:06:56.116Z"
   },
   {
    "duration": 3,
    "start_time": "2022-03-11T09:06:58.029Z"
   },
   {
    "duration": 303,
    "start_time": "2022-03-11T09:06:58.034Z"
   },
   {
    "duration": 10,
    "start_time": "2022-03-11T09:06:58.339Z"
   },
   {
    "duration": 1895,
    "start_time": "2022-03-11T09:06:58.351Z"
   },
   {
    "duration": 4,
    "start_time": "2022-03-11T09:07:00.248Z"
   },
   {
    "duration": 316,
    "start_time": "2022-03-11T09:07:00.255Z"
   },
   {
    "duration": 10,
    "start_time": "2022-03-11T09:07:00.577Z"
   },
   {
    "duration": 2100,
    "start_time": "2022-03-11T09:07:00.590Z"
   },
   {
    "duration": 3,
    "start_time": "2022-03-11T09:07:02.692Z"
   },
   {
    "duration": 293,
    "start_time": "2022-03-11T09:07:02.697Z"
   },
   {
    "duration": 8,
    "start_time": "2022-03-11T09:07:02.991Z"
   },
   {
    "duration": 362,
    "start_time": "2022-03-11T13:20:37.574Z"
   },
   {
    "duration": 7,
    "start_time": "2022-03-11T13:21:07.353Z"
   },
   {
    "duration": 7,
    "start_time": "2022-03-11T13:22:00.700Z"
   },
   {
    "duration": 6,
    "start_time": "2022-03-11T13:22:55.700Z"
   },
   {
    "duration": 9,
    "start_time": "2022-03-11T13:24:15.205Z"
   },
   {
    "duration": 340,
    "start_time": "2022-03-11T13:25:27.713Z"
   },
   {
    "duration": 272,
    "start_time": "2022-03-11T13:25:40.430Z"
   },
   {
    "duration": 259,
    "start_time": "2022-03-11T13:29:14.444Z"
   },
   {
    "duration": 4,
    "start_time": "2022-03-11T13:29:36.881Z"
   },
   {
    "duration": 7,
    "start_time": "2022-03-11T13:29:55.833Z"
   },
   {
    "duration": 7,
    "start_time": "2022-03-11T13:30:11.643Z"
   },
   {
    "duration": 7,
    "start_time": "2022-03-11T13:31:36.996Z"
   },
   {
    "duration": 7,
    "start_time": "2022-03-11T13:32:00.029Z"
   },
   {
    "duration": 1150,
    "start_time": "2022-03-11T13:32:12.438Z"
   },
   {
    "duration": 427,
    "start_time": "2022-03-11T13:32:13.590Z"
   },
   {
    "duration": 12,
    "start_time": "2022-03-11T13:32:14.022Z"
   },
   {
    "duration": 13,
    "start_time": "2022-03-11T13:32:14.036Z"
   },
   {
    "duration": 30,
    "start_time": "2022-03-11T13:32:14.052Z"
   },
   {
    "duration": 23,
    "start_time": "2022-03-11T13:32:14.085Z"
   },
   {
    "duration": 14,
    "start_time": "2022-03-11T13:32:14.112Z"
   },
   {
    "duration": 13,
    "start_time": "2022-03-11T13:32:14.129Z"
   },
   {
    "duration": 34,
    "start_time": "2022-03-11T13:32:14.144Z"
   },
   {
    "duration": 12,
    "start_time": "2022-03-11T13:32:14.180Z"
   },
   {
    "duration": 21,
    "start_time": "2022-03-11T13:32:14.195Z"
   },
   {
    "duration": 62,
    "start_time": "2022-03-11T13:32:14.218Z"
   },
   {
    "duration": 9,
    "start_time": "2022-03-11T13:32:14.283Z"
   },
   {
    "duration": 11,
    "start_time": "2022-03-11T13:32:14.294Z"
   },
   {
    "duration": 5,
    "start_time": "2022-03-11T13:32:14.308Z"
   },
   {
    "duration": 68,
    "start_time": "2022-03-11T13:32:14.316Z"
   },
   {
    "duration": 100,
    "start_time": "2022-03-11T13:32:14.387Z"
   },
   {
    "duration": 193,
    "start_time": "2022-03-11T13:32:14.489Z"
   },
   {
    "duration": 96,
    "start_time": "2022-03-11T13:32:14.685Z"
   },
   {
    "duration": 101,
    "start_time": "2022-03-11T13:32:14.783Z"
   },
   {
    "duration": 17,
    "start_time": "2022-03-11T13:32:14.886Z"
   },
   {
    "duration": 5,
    "start_time": "2022-03-11T13:32:14.907Z"
   },
   {
    "duration": 6,
    "start_time": "2022-03-11T13:32:14.914Z"
   },
   {
    "duration": 1941,
    "start_time": "2022-03-11T13:32:14.922Z"
   },
   {
    "duration": 5,
    "start_time": "2022-03-11T13:32:16.865Z"
   },
   {
    "duration": 307,
    "start_time": "2022-03-11T13:32:16.872Z"
   },
   {
    "duration": 6,
    "start_time": "2022-03-11T13:32:17.181Z"
   },
   {
    "duration": 1922,
    "start_time": "2022-03-11T13:32:17.189Z"
   },
   {
    "duration": 3,
    "start_time": "2022-03-11T13:32:19.112Z"
   },
   {
    "duration": 307,
    "start_time": "2022-03-11T13:32:19.117Z"
   },
   {
    "duration": 8,
    "start_time": "2022-03-11T13:32:19.426Z"
   },
   {
    "duration": 1975,
    "start_time": "2022-03-11T13:32:19.436Z"
   },
   {
    "duration": 4,
    "start_time": "2022-03-11T13:32:21.413Z"
   },
   {
    "duration": 306,
    "start_time": "2022-03-11T13:32:21.419Z"
   },
   {
    "duration": 7,
    "start_time": "2022-03-11T13:32:21.727Z"
   }
  ],
  "kernelspec": {
   "display_name": "Python 3 (ipykernel)",
   "language": "python",
   "name": "python3"
  },
  "language_info": {
   "codemirror_mode": {
    "name": "ipython",
    "version": 3
   },
   "file_extension": ".py",
   "mimetype": "text/x-python",
   "name": "python",
   "nbconvert_exporter": "python",
   "pygments_lexer": "ipython3",
   "version": "3.9.12"
  },
  "toc": {
   "base_numbering": 1,
   "nav_menu": {},
   "number_sections": true,
   "sideBar": true,
   "skip_h1_title": true,
   "title_cell": "Table of Contents",
   "title_sidebar": "Contents",
   "toc_cell": false,
   "toc_position": {
    "height": "calc(100% - 180px)",
    "left": "10px",
    "top": "150px",
    "width": "484.781px"
   },
   "toc_section_display": true,
   "toc_window_display": true
  }
 },
 "nbformat": 4,
 "nbformat_minor": 2
}
