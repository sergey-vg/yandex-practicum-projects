{
 "cells": [
  {
   "cell_type": "markdown",
   "metadata": {},
   "source": [
    "# Исследование надёжности заёмщиков\n",
    "\n",
    "Заказчик — кредитный отдел банка. Нужно разобраться, влияет ли семейное положение и количество детей клиента на факт погашения кредита в срок. Входные данные от банка — статистика о платёжеспособности клиентов.\n",
    "\n",
    "Результаты исследования будут учтены при построении модели **кредитного скоринга** — специальной системы, которая оценивает способность потенциального заёмщика вернуть кредит банку."
   ]
  },
  {
   "cell_type": "markdown",
   "metadata": {},
   "source": [
    "## Обзор данных"
   ]
  },
  {
   "cell_type": "code",
   "execution_count": 112,
   "metadata": {},
   "outputs": [],
   "source": [
    "import pandas as pd # импорт библиотеки pandas\n",
    "from pymystem3 import Mystem # импорт библиотеки pymystem3\n",
    "m = Mystem() # присваиваем переменной m, функцию Mystem()\n",
    "df = pd.read_csv('/datasets/data.csv') # чтение файла с данными и сохранение в df"
   ]
  },
  {
   "cell_type": "code",
   "execution_count": 113,
   "metadata": {},
   "outputs": [
    {
     "name": "stdout",
     "output_type": "stream",
     "text": [
      "<class 'pandas.core.frame.DataFrame'>\n",
      "RangeIndex: 21525 entries, 0 to 21524\n",
      "Data columns (total 12 columns):\n",
      "children            21525 non-null int64\n",
      "days_employed       19351 non-null float64\n",
      "dob_years           21525 non-null int64\n",
      "education           21525 non-null object\n",
      "education_id        21525 non-null int64\n",
      "family_status       21525 non-null object\n",
      "family_status_id    21525 non-null int64\n",
      "gender              21525 non-null object\n",
      "income_type         21525 non-null object\n",
      "debt                21525 non-null int64\n",
      "total_income        19351 non-null float64\n",
      "purpose             21525 non-null object\n",
      "dtypes: float64(2), int64(5), object(5)\n",
      "memory usage: 2.0+ MB\n"
     ]
    }
   ],
   "source": [
    "df.info() # получение общей информации о данных в таблице df"
   ]
  },
  {
   "cell_type": "markdown",
   "metadata": {},
   "source": [
    "В таблице двенадцать столбцов.\n",
    "\n",
    "Согласно документации к данным:\n",
    "* `children` — количество детей в семье;\n",
    "* `days_employed` — общий трудовой стаж в днях;  \n",
    "* `dob_years` — возраст клиента в годах;\n",
    "* `education` — уровень образования клиента;\n",
    "* `education_id` — идентификатор уровня образования;\n",
    "* `family_status` — семейное положение;\n",
    "* `family_status_id` — идентификатор семейного положения;\n",
    "* `gender` — пол клиента;\n",
    "* `income_type` — тип занятости;\n",
    "* `debt` — имел ли задолженность по возврату кредитов;\n",
    "* `total_income` — ежемесячный доход;\n",
    "* `purpose` — цель получения кредита.\n",
    "\n",
    "Наблюдения: \n",
    "1. В названиях колонок не обнаружены нарушения стиля.\n",
    "2. В колонках `days_employed` и `total_income` обнаружены пропуски данных."
   ]
  },
  {
   "cell_type": "code",
   "execution_count": 114,
   "metadata": {
    "scrolled": true
   },
   "outputs": [
    {
     "data": {
      "text/html": [
       "<div>\n",
       "<style scoped>\n",
       "    .dataframe tbody tr th:only-of-type {\n",
       "        vertical-align: middle;\n",
       "    }\n",
       "\n",
       "    .dataframe tbody tr th {\n",
       "        vertical-align: top;\n",
       "    }\n",
       "\n",
       "    .dataframe thead th {\n",
       "        text-align: right;\n",
       "    }\n",
       "</style>\n",
       "<table border=\"1\" class=\"dataframe\">\n",
       "  <thead>\n",
       "    <tr style=\"text-align: right;\">\n",
       "      <th></th>\n",
       "      <th>children</th>\n",
       "      <th>days_employed</th>\n",
       "      <th>dob_years</th>\n",
       "      <th>education</th>\n",
       "      <th>education_id</th>\n",
       "      <th>family_status</th>\n",
       "      <th>family_status_id</th>\n",
       "      <th>gender</th>\n",
       "      <th>income_type</th>\n",
       "      <th>debt</th>\n",
       "      <th>total_income</th>\n",
       "      <th>purpose</th>\n",
       "    </tr>\n",
       "  </thead>\n",
       "  <tbody>\n",
       "    <tr>\n",
       "      <td>0</td>\n",
       "      <td>1</td>\n",
       "      <td>-8437.673028</td>\n",
       "      <td>42</td>\n",
       "      <td>высшее</td>\n",
       "      <td>0</td>\n",
       "      <td>женат / замужем</td>\n",
       "      <td>0</td>\n",
       "      <td>F</td>\n",
       "      <td>сотрудник</td>\n",
       "      <td>0</td>\n",
       "      <td>253875.639453</td>\n",
       "      <td>покупка жилья</td>\n",
       "    </tr>\n",
       "    <tr>\n",
       "      <td>1</td>\n",
       "      <td>1</td>\n",
       "      <td>-4024.803754</td>\n",
       "      <td>36</td>\n",
       "      <td>среднее</td>\n",
       "      <td>1</td>\n",
       "      <td>женат / замужем</td>\n",
       "      <td>0</td>\n",
       "      <td>F</td>\n",
       "      <td>сотрудник</td>\n",
       "      <td>0</td>\n",
       "      <td>112080.014102</td>\n",
       "      <td>приобретение автомобиля</td>\n",
       "    </tr>\n",
       "    <tr>\n",
       "      <td>2</td>\n",
       "      <td>0</td>\n",
       "      <td>-5623.422610</td>\n",
       "      <td>33</td>\n",
       "      <td>Среднее</td>\n",
       "      <td>1</td>\n",
       "      <td>женат / замужем</td>\n",
       "      <td>0</td>\n",
       "      <td>M</td>\n",
       "      <td>сотрудник</td>\n",
       "      <td>0</td>\n",
       "      <td>145885.952297</td>\n",
       "      <td>покупка жилья</td>\n",
       "    </tr>\n",
       "    <tr>\n",
       "      <td>3</td>\n",
       "      <td>3</td>\n",
       "      <td>-4124.747207</td>\n",
       "      <td>32</td>\n",
       "      <td>среднее</td>\n",
       "      <td>1</td>\n",
       "      <td>женат / замужем</td>\n",
       "      <td>0</td>\n",
       "      <td>M</td>\n",
       "      <td>сотрудник</td>\n",
       "      <td>0</td>\n",
       "      <td>267628.550329</td>\n",
       "      <td>дополнительное образование</td>\n",
       "    </tr>\n",
       "    <tr>\n",
       "      <td>4</td>\n",
       "      <td>0</td>\n",
       "      <td>340266.072047</td>\n",
       "      <td>53</td>\n",
       "      <td>среднее</td>\n",
       "      <td>1</td>\n",
       "      <td>гражданский брак</td>\n",
       "      <td>1</td>\n",
       "      <td>F</td>\n",
       "      <td>пенсионер</td>\n",
       "      <td>0</td>\n",
       "      <td>158616.077870</td>\n",
       "      <td>сыграть свадьбу</td>\n",
       "    </tr>\n",
       "    <tr>\n",
       "      <td>5</td>\n",
       "      <td>0</td>\n",
       "      <td>-926.185831</td>\n",
       "      <td>27</td>\n",
       "      <td>высшее</td>\n",
       "      <td>0</td>\n",
       "      <td>гражданский брак</td>\n",
       "      <td>1</td>\n",
       "      <td>M</td>\n",
       "      <td>компаньон</td>\n",
       "      <td>0</td>\n",
       "      <td>255763.565419</td>\n",
       "      <td>покупка жилья</td>\n",
       "    </tr>\n",
       "    <tr>\n",
       "      <td>6</td>\n",
       "      <td>0</td>\n",
       "      <td>-2879.202052</td>\n",
       "      <td>43</td>\n",
       "      <td>высшее</td>\n",
       "      <td>0</td>\n",
       "      <td>женат / замужем</td>\n",
       "      <td>0</td>\n",
       "      <td>F</td>\n",
       "      <td>компаньон</td>\n",
       "      <td>0</td>\n",
       "      <td>240525.971920</td>\n",
       "      <td>операции с жильем</td>\n",
       "    </tr>\n",
       "    <tr>\n",
       "      <td>7</td>\n",
       "      <td>0</td>\n",
       "      <td>-152.779569</td>\n",
       "      <td>50</td>\n",
       "      <td>СРЕДНЕЕ</td>\n",
       "      <td>1</td>\n",
       "      <td>женат / замужем</td>\n",
       "      <td>0</td>\n",
       "      <td>M</td>\n",
       "      <td>сотрудник</td>\n",
       "      <td>0</td>\n",
       "      <td>135823.934197</td>\n",
       "      <td>образование</td>\n",
       "    </tr>\n",
       "    <tr>\n",
       "      <td>8</td>\n",
       "      <td>2</td>\n",
       "      <td>-6929.865299</td>\n",
       "      <td>35</td>\n",
       "      <td>ВЫСШЕЕ</td>\n",
       "      <td>0</td>\n",
       "      <td>гражданский брак</td>\n",
       "      <td>1</td>\n",
       "      <td>F</td>\n",
       "      <td>сотрудник</td>\n",
       "      <td>0</td>\n",
       "      <td>95856.832424</td>\n",
       "      <td>на проведение свадьбы</td>\n",
       "    </tr>\n",
       "    <tr>\n",
       "      <td>9</td>\n",
       "      <td>0</td>\n",
       "      <td>-2188.756445</td>\n",
       "      <td>41</td>\n",
       "      <td>среднее</td>\n",
       "      <td>1</td>\n",
       "      <td>женат / замужем</td>\n",
       "      <td>0</td>\n",
       "      <td>M</td>\n",
       "      <td>сотрудник</td>\n",
       "      <td>0</td>\n",
       "      <td>144425.938277</td>\n",
       "      <td>покупка жилья для семьи</td>\n",
       "    </tr>\n",
       "  </tbody>\n",
       "</table>\n",
       "</div>"
      ],
      "text/plain": [
       "   children  days_employed  dob_years education  education_id  \\\n",
       "0         1   -8437.673028         42    высшее             0   \n",
       "1         1   -4024.803754         36   среднее             1   \n",
       "2         0   -5623.422610         33   Среднее             1   \n",
       "3         3   -4124.747207         32   среднее             1   \n",
       "4         0  340266.072047         53   среднее             1   \n",
       "5         0    -926.185831         27    высшее             0   \n",
       "6         0   -2879.202052         43    высшее             0   \n",
       "7         0    -152.779569         50   СРЕДНЕЕ             1   \n",
       "8         2   -6929.865299         35    ВЫСШЕЕ             0   \n",
       "9         0   -2188.756445         41   среднее             1   \n",
       "\n",
       "      family_status  family_status_id gender income_type  debt   total_income  \\\n",
       "0   женат / замужем                 0      F   сотрудник     0  253875.639453   \n",
       "1   женат / замужем                 0      F   сотрудник     0  112080.014102   \n",
       "2   женат / замужем                 0      M   сотрудник     0  145885.952297   \n",
       "3   женат / замужем                 0      M   сотрудник     0  267628.550329   \n",
       "4  гражданский брак                 1      F   пенсионер     0  158616.077870   \n",
       "5  гражданский брак                 1      M   компаньон     0  255763.565419   \n",
       "6   женат / замужем                 0      F   компаньон     0  240525.971920   \n",
       "7   женат / замужем                 0      M   сотрудник     0  135823.934197   \n",
       "8  гражданский брак                 1      F   сотрудник     0   95856.832424   \n",
       "9   женат / замужем                 0      M   сотрудник     0  144425.938277   \n",
       "\n",
       "                      purpose  \n",
       "0               покупка жилья  \n",
       "1     приобретение автомобиля  \n",
       "2               покупка жилья  \n",
       "3  дополнительное образование  \n",
       "4             сыграть свадьбу  \n",
       "5               покупка жилья  \n",
       "6           операции с жильем  \n",
       "7                 образование  \n",
       "8       на проведение свадьбы  \n",
       "9     покупка жилья для семьи  "
      ]
     },
     "execution_count": 114,
     "metadata": {},
     "output_type": "execute_result"
    }
   ],
   "source": [
    "df.head(10) # получение первых 10 строк таблицы df"
   ]
  },
  {
   "cell_type": "markdown",
   "metadata": {},
   "source": [
    "Обнаружены проблемы с данными:\n",
    "- В колонке `days_employed` есть отрицательные значения (стаж не может быть отрицательным) и не реалистичные значения."
   ]
  },
  {
   "cell_type": "markdown",
   "metadata": {},
   "source": [
    "**Просмотрим уникальные значения и их кол-во в интересующих нас столбцах:**"
   ]
  },
  {
   "cell_type": "code",
   "execution_count": 115,
   "metadata": {},
   "outputs": [
    {
     "data": {
      "text/plain": [
       " 0     14149\n",
       " 1      4818\n",
       " 2      2055\n",
       " 3       330\n",
       " 20       76\n",
       "-1        47\n",
       " 4        41\n",
       " 5         9\n",
       "Name: children, dtype: int64"
      ]
     },
     "execution_count": 115,
     "metadata": {},
     "output_type": "execute_result"
    }
   ],
   "source": [
    "df['children'].value_counts()"
   ]
  },
  {
   "cell_type": "markdown",
   "metadata": {},
   "source": [
    "Обнаружены неверные значения:\n",
    "- 20 - слишком большое значение для кол-ва детей, скорее всего ошибочно добавлен 0, нужно исправить на 2\n",
    "- -1 - кол-во детей не может быть отрицательным, скорее всего ошибочно поставлен знак \"-\", нужно исправить на 1 "
   ]
  },
  {
   "cell_type": "code",
   "execution_count": 116,
   "metadata": {},
   "outputs": [
    {
     "data": {
      "text/plain": [
       "среднее                13750\n",
       "высшее                  4718\n",
       "СРЕДНЕЕ                  772\n",
       "Среднее                  711\n",
       "неоконченное высшее      668\n",
       "ВЫСШЕЕ                   274\n",
       "Высшее                   268\n",
       "начальное                250\n",
       "Неоконченное высшее       47\n",
       "НЕОКОНЧЕННОЕ ВЫСШЕЕ       29\n",
       "НАЧАЛЬНОЕ                 17\n",
       "Начальное                 15\n",
       "ученая степень             4\n",
       "УЧЕНАЯ СТЕПЕНЬ             1\n",
       "Ученая степень             1\n",
       "Name: education, dtype: int64"
      ]
     },
     "execution_count": 116,
     "metadata": {},
     "output_type": "execute_result"
    }
   ],
   "source": [
    "df['education'].value_counts()"
   ]
  },
  {
   "cell_type": "markdown",
   "metadata": {},
   "source": [
    "- пропусков и неверных значений не обнаружено.\n",
    "- одни и те же значения указаны в разном формате ('высшее' и 'ВЫСШЕЕ', 'среднее' и 'СРЕДНЕЕ' и т.д.)"
   ]
  },
  {
   "cell_type": "code",
   "execution_count": 117,
   "metadata": {},
   "outputs": [
    {
     "data": {
      "text/plain": [
       "1    15233\n",
       "0     5260\n",
       "2      744\n",
       "3      282\n",
       "4        6\n",
       "Name: education_id, dtype: int64"
      ]
     },
     "execution_count": 117,
     "metadata": {},
     "output_type": "execute_result"
    }
   ],
   "source": [
    "df['education_id'].value_counts()"
   ]
  },
  {
   "cell_type": "markdown",
   "metadata": {},
   "source": [
    "- пропусков и неверных значений не обнаружено\n",
    "- кол-во различных значений индетификатора, не совпадает с кол-вом различных значений наименований уровня образования"
   ]
  },
  {
   "cell_type": "code",
   "execution_count": 118,
   "metadata": {},
   "outputs": [
    {
     "data": {
      "text/plain": [
       "женат / замужем          12380\n",
       "гражданский брак          4177\n",
       "Не женат / не замужем     2813\n",
       "в разводе                 1195\n",
       "вдовец / вдова             960\n",
       "Name: family_status, dtype: int64"
      ]
     },
     "execution_count": 118,
     "metadata": {},
     "output_type": "execute_result"
    }
   ],
   "source": [
    "df['family_status'].value_counts()"
   ]
  },
  {
   "cell_type": "markdown",
   "metadata": {},
   "source": [
    "- пропусков и неверных значений не обнаружено"
   ]
  },
  {
   "cell_type": "code",
   "execution_count": 119,
   "metadata": {},
   "outputs": [
    {
     "data": {
      "text/plain": [
       "0    12380\n",
       "1     4177\n",
       "4     2813\n",
       "3     1195\n",
       "2      960\n",
       "Name: family_status_id, dtype: int64"
      ]
     },
     "execution_count": 119,
     "metadata": {},
     "output_type": "execute_result"
    }
   ],
   "source": [
    "df['family_status_id'].value_counts()"
   ]
  },
  {
   "cell_type": "markdown",
   "metadata": {},
   "source": [
    "- пропусков и неверных значений не обнаружено.\n",
    "- кол-во различных значений индетификатора, совпадает с кол-вом различных значений наименований семейного положения"
   ]
  },
  {
   "cell_type": "code",
   "execution_count": 120,
   "metadata": {},
   "outputs": [
    {
     "data": {
      "text/plain": [
       "F      14236\n",
       "M       7288\n",
       "XNA        1\n",
       "Name: gender, dtype: int64"
      ]
     },
     "execution_count": 120,
     "metadata": {},
     "output_type": "execute_result"
    }
   ],
   "source": [
    "df['gender'].value_counts()"
   ]
  },
  {
   "cell_type": "markdown",
   "metadata": {},
   "source": [
    "- обнаружено одно неверное значение"
   ]
  },
  {
   "cell_type": "code",
   "execution_count": 121,
   "metadata": {},
   "outputs": [
    {
     "data": {
      "text/plain": [
       "сотрудник          11119\n",
       "компаньон           5085\n",
       "пенсионер           3856\n",
       "госслужащий         1459\n",
       "предприниматель        2\n",
       "безработный            2\n",
       "студент                1\n",
       "в декрете              1\n",
       "Name: income_type, dtype: int64"
      ]
     },
     "execution_count": 121,
     "metadata": {},
     "output_type": "execute_result"
    }
   ],
   "source": [
    "df['income_type'].value_counts()"
   ]
  },
  {
   "cell_type": "markdown",
   "metadata": {},
   "source": [
    "- пропусков и неверных значений не обнаружено."
   ]
  },
  {
   "cell_type": "code",
   "execution_count": 122,
   "metadata": {},
   "outputs": [
    {
     "data": {
      "text/plain": [
       "0    19784\n",
       "1     1741\n",
       "Name: debt, dtype: int64"
      ]
     },
     "execution_count": 122,
     "metadata": {},
     "output_type": "execute_result"
    }
   ],
   "source": [
    "df['debt'].value_counts()"
   ]
  },
  {
   "cell_type": "markdown",
   "metadata": {},
   "source": [
    "- пропусков и неверных значений не обнаружено."
   ]
  },
  {
   "cell_type": "code",
   "execution_count": 123,
   "metadata": {},
   "outputs": [
    {
     "data": {
      "text/plain": [
       "свадьба                                   797\n",
       "на проведение свадьбы                     777\n",
       "сыграть свадьбу                           774\n",
       "операции с недвижимостью                  676\n",
       "покупка коммерческой недвижимости         664\n",
       "покупка жилья для сдачи                   653\n",
       "операции с жильем                         653\n",
       "операции с коммерческой недвижимостью     651\n",
       "жилье                                     647\n",
       "покупка жилья                             647\n",
       "покупка жилья для семьи                   641\n",
       "строительство собственной недвижимости    635\n",
       "недвижимость                              634\n",
       "операции со своей недвижимостью           630\n",
       "строительство жилой недвижимости          626\n",
       "покупка недвижимости                      624\n",
       "покупка своего жилья                      620\n",
       "строительство недвижимости                620\n",
       "ремонт жилью                              612\n",
       "покупка жилой недвижимости                607\n",
       "на покупку своего автомобиля              505\n",
       "заняться высшим образованием              496\n",
       "автомобиль                                495\n",
       "сделка с подержанным автомобилем          489\n",
       "свой автомобиль                           480\n",
       "на покупку подержанного автомобиля        479\n",
       "автомобили                                478\n",
       "на покупку автомобиля                     472\n",
       "дополнительное образование                462\n",
       "приобретение автомобиля                   462\n",
       "сделка с автомобилем                      455\n",
       "высшее образование                        453\n",
       "образование                               447\n",
       "получение дополнительного образования     447\n",
       "получение образования                     443\n",
       "профильное образование                    436\n",
       "получение высшего образования             426\n",
       "заняться образованием                     412\n",
       "Name: purpose, dtype: int64"
      ]
     },
     "execution_count": 123,
     "metadata": {},
     "output_type": "execute_result"
    }
   ],
   "source": [
    "df['purpose'].value_counts()"
   ]
  },
  {
   "cell_type": "markdown",
   "metadata": {},
   "source": [
    "- Обнаружены похожие значения, необходимо провести лемматизацию и категорезировать данные"
   ]
  },
  {
   "cell_type": "markdown",
   "metadata": {},
   "source": [
    "**Вывод**\n",
    "\n",
    "В каждой строке таблицы — данные о клиетах банка.\n",
    "\n",
    "Предварительно можно утверждать, что, данных достаточно для проверки гипотез. Но встречаются пропуски, дубликаты и ошибки в данных.\n",
    "\n",
    "Чтобы двигаться дальше, нужно устранить проблемы в данных."
   ]
  },
  {
   "cell_type": "markdown",
   "metadata": {},
   "source": [
    "## Предобработка данных"
   ]
  },
  {
   "cell_type": "markdown",
   "metadata": {},
   "source": [
    "### Обработка пропусков"
   ]
  },
  {
   "cell_type": "markdown",
   "metadata": {},
   "source": [
    "В столбце `days_employed` есть некорректные данные: отрицательные значения, не реалистичные значения и пропуски. Возможно данные повреждены или указаны в неверном формате. Данный столбец не нужен нам для дальнейшего исследования, поэтому заменим пропуски нулями, а остальные значения в этом столбце, оставим без изменений."
   ]
  },
  {
   "cell_type": "code",
   "execution_count": 124,
   "metadata": {},
   "outputs": [
    {
     "data": {
      "text/plain": [
       "0"
      ]
     },
     "execution_count": 124,
     "metadata": {},
     "output_type": "execute_result"
    }
   ],
   "source": [
    "df['days_employed'] = df['days_employed'].fillna(0) # замена пропусков на нули в стобце 'days_employed'\n",
    "df['days_employed'].isna().sum() #проверяем что все пропуски удалены"
   ]
  },
  {
   "cell_type": "markdown",
   "metadata": {},
   "source": [
    " В столбце `total_income` были обнаружены пропуски данных, займемся их устранением."
   ]
  },
  {
   "cell_type": "code",
   "execution_count": 125,
   "metadata": {},
   "outputs": [
    {
     "data": {
      "text/plain": [
       "0"
      ]
     },
     "execution_count": 125,
     "metadata": {},
     "output_type": "execute_result"
    }
   ],
   "source": [
    " # проверяем,нет ли отрицательных значений в столбце, так как доход должен быть положительным значением\n",
    "df[df['total_income'] <= 0]['total_income'].count()"
   ]
  },
  {
   "cell_type": "markdown",
   "metadata": {},
   "source": [
    "Отрицательных значений не обнаружено"
   ]
  },
  {
   "cell_type": "code",
   "execution_count": 126,
   "metadata": {},
   "outputs": [
    {
     "data": {
      "text/plain": [
       "167422.30220817294"
      ]
     },
     "execution_count": 126,
     "metadata": {},
     "output_type": "execute_result"
    }
   ],
   "source": [
    "# находим средние арефметическое значение в стоблце\n",
    "df_total_income_mean = df['total_income'].mean()\n",
    "df_total_income_mean"
   ]
  },
  {
   "cell_type": "code",
   "execution_count": 127,
   "metadata": {},
   "outputs": [
    {
     "data": {
      "text/plain": [
       "145017.93753253992"
      ]
     },
     "execution_count": 127,
     "metadata": {},
     "output_type": "execute_result"
    }
   ],
   "source": [
    "# находим медианное значение в столбце\n",
    "df_total_income_median = df['total_income'].median()\n",
    "df_total_income_median"
   ]
  },
  {
   "cell_type": "code",
   "execution_count": 128,
   "metadata": {},
   "outputs": [
    {
     "data": {
      "text/plain": [
       "mean    167422.302208\n",
       "50%     145017.937533\n",
       "Name: total_income, dtype: float64"
      ]
     },
     "execution_count": 128,
     "metadata": {},
     "output_type": "execute_result"
    }
   ],
   "source": [
    "# КОД РЕВЬЮЕРА\n",
    "\n",
    "df['total_income'].describe().loc[['mean', '50%']]"
   ]
  },
  {
   "cell_type": "markdown",
   "metadata": {},
   "source": [
    "Средние арифметическое и медианное значение, отличаются довольно значительно, поэтому заменим пропуски на медианное значение. Перед заменой пропусков, создадим новый столбец 'total_income_replace', в котором ‘0’ – замена значения в столбце 'total_income' в данной строке не проводилась, а ‘1’ -  замена значения производилась. Данный столбец создаем для того чтобы  в дальнейшем можно было удалить строки в которых проводилась замена, так как они могут влиять на результаты исследования: “ Есть ли зависимость между уровнем дохода и возвратом кредита в срок?”. Сразу не удаляем данные строки, так как в них могут содержаться полезные данные для других исследований.  "
   ]
  },
  {
   "cell_type": "code",
   "execution_count": 129,
   "metadata": {},
   "outputs": [
    {
     "data": {
      "text/plain": [
       "0     101\n",
       "20     51\n",
       "19     14\n",
       "Name: dob_years, dtype: int64"
      ]
     },
     "execution_count": 129,
     "metadata": {},
     "output_type": "execute_result"
    }
   ],
   "source": [
    "df[df['dob_years'] <= 20]['dob_years'].value_counts()"
   ]
  },
  {
   "cell_type": "code",
   "execution_count": 130,
   "metadata": {},
   "outputs": [
    {
     "data": {
      "text/plain": [
       "0          (39.0, 47.0]\n",
       "1          (32.0, 39.0]\n",
       "2          (32.0, 39.0]\n",
       "3        (18.999, 32.0]\n",
       "4          (47.0, 56.0]\n",
       "              ...      \n",
       "21520      (39.0, 47.0]\n",
       "21521      (56.0, 75.0]\n",
       "21522      (32.0, 39.0]\n",
       "21523      (32.0, 39.0]\n",
       "21524      (39.0, 47.0]\n",
       "Name: dob_years, Length: 21424, dtype: category\n",
       "Categories (5, interval[float64]): [(18.999, 32.0] < (32.0, 39.0] < (39.0, 47.0] < (47.0, 56.0] < (56.0, 75.0]]"
      ]
     },
     "execution_count": 130,
     "metadata": {},
     "output_type": "execute_result"
    }
   ],
   "source": [
    "pd.qcut(df[df['dob_years'] >= 19]['dob_years'], q=5)"
   ]
  },
  {
   "cell_type": "code",
   "execution_count": 131,
   "metadata": {},
   "outputs": [],
   "source": [
    "df['total_income_replace'] = 0 # создаём новый столбец, в котором все значения нули\n",
    "df['total_income'] = df['total_income'].fillna(-10) # заменяем все пропуски в столбце на значение \"-10\"\n",
    "df.loc[df['total_income'] == -10, 'total_income_replace'] = 1 # устаналиваем метку в столбце total_income_replace'\n",
    "#df.loc[df['total_income'] == -10, 'total_income'] = df_total_income_median # меняем в столбце значение \"-10\" на медианное значение\n",
    "#df['total_income'].isna().sum() #проверяем что все пропуски удалены"
   ]
  },
  {
   "cell_type": "markdown",
   "metadata": {},
   "source": [
    "В столбце 'gender' было обнаружено одно неверное значение, удаление одной строки не повлияет на ваборку, поэтуму удаляем её."
   ]
  },
  {
   "cell_type": "code",
   "execution_count": 132,
   "metadata": {},
   "outputs": [
    {
     "data": {
      "text/plain": [
       "F    14236\n",
       "M     7288\n",
       "Name: gender, dtype: int64"
      ]
     },
     "execution_count": 132,
     "metadata": {},
     "output_type": "execute_result"
    }
   ],
   "source": [
    "df= df[df['gender'] !='XNA'] # удаляем строку за значением 'XNA'\n",
    "df['gender'].value_counts()"
   ]
  },
  {
   "cell_type": "markdown",
   "metadata": {},
   "source": [
    "**Вывод**\n",
    "\n",
    "Все пропуски удалены, можем двигаться дальше."
   ]
  },
  {
   "cell_type": "markdown",
   "metadata": {},
   "source": [
    "### Замена типа данных"
   ]
  },
  {
   "cell_type": "markdown",
   "metadata": {},
   "source": [
    "Производем замену типа данных с float на int, в стобце 'total_income' с помощью функции astype. Функция to_numeric не подходит так как она переводит значения, только в тип float."
   ]
  },
  {
   "cell_type": "code",
   "execution_count": 133,
   "metadata": {},
   "outputs": [
    {
     "name": "stdout",
     "output_type": "stream",
     "text": [
      "<class 'pandas.core.frame.DataFrame'>\n",
      "Int64Index: 21524 entries, 0 to 21524\n",
      "Data columns (total 13 columns):\n",
      "children                21524 non-null int64\n",
      "days_employed           21524 non-null float64\n",
      "dob_years               21524 non-null int64\n",
      "education               21524 non-null object\n",
      "education_id            21524 non-null int64\n",
      "family_status           21524 non-null object\n",
      "family_status_id        21524 non-null int64\n",
      "gender                  21524 non-null object\n",
      "income_type             21524 non-null object\n",
      "debt                    21524 non-null int64\n",
      "total_income            21524 non-null int64\n",
      "purpose                 21524 non-null object\n",
      "total_income_replace    21524 non-null int64\n",
      "dtypes: float64(1), int64(7), object(5)\n",
      "memory usage: 2.3+ MB\n"
     ]
    }
   ],
   "source": [
    "df['total_income'] = df['total_income'].astype('int') \n",
    "df.info() #проверяем что тип столбца изменился на int"
   ]
  },
  {
   "cell_type": "markdown",
   "metadata": {},
   "source": [
    "**Вывод**"
   ]
  },
  {
   "cell_type": "markdown",
   "metadata": {},
   "source": [
    "В столбце `total_income` произведена замена вещественного типа данных на целочисленный. В столбце `days_employed` не меняем тип данных так как он нам не нужен для дальнейших исследований. Можно двигаться дальше. "
   ]
  },
  {
   "cell_type": "markdown",
   "metadata": {},
   "source": [
    "### Обработка дубликатов"
   ]
  },
  {
   "cell_type": "markdown",
   "metadata": {},
   "source": [
    "Заменяем значения -1 на 1 и 20 на 2, в столбце `children`"
   ]
  },
  {
   "cell_type": "code",
   "execution_count": 134,
   "metadata": {},
   "outputs": [
    {
     "data": {
      "text/plain": [
       "0    14148\n",
       "1     4865\n",
       "2     2131\n",
       "3      330\n",
       "4       41\n",
       "5        9\n",
       "Name: children, dtype: int64"
      ]
     },
     "execution_count": 134,
     "metadata": {},
     "output_type": "execute_result"
    }
   ],
   "source": [
    "df['children'] = df['children'].replace(-1, 1)\n",
    "df['children'] = df['children'].replace(20, 2)\n",
    "df['children'].value_counts() # делаем проверку, что замены прошли успешно"
   ]
  },
  {
   "cell_type": "markdown",
   "metadata": {},
   "source": [
    "Меняем прописной регистр на строчный в столбце `education`"
   ]
  },
  {
   "cell_type": "code",
   "execution_count": 135,
   "metadata": {},
   "outputs": [
    {
     "data": {
      "text/plain": [
       "среднее                15233\n",
       "высшее                  5260\n",
       "неоконченное высшее      743\n",
       "начальное                282\n",
       "ученая степень             6\n",
       "Name: education, dtype: int64"
      ]
     },
     "execution_count": 135,
     "metadata": {},
     "output_type": "execute_result"
    }
   ],
   "source": [
    "df['education'] = df['education'].str.lower()\n",
    "df['education'].value_counts()# делаем проверку, что замена регистра прошла успешно"
   ]
  },
  {
   "cell_type": "markdown",
   "metadata": {},
   "source": [
    "**Вывод**\n",
    "\n",
    "Дубликаты удалены, можно двигаться дальше."
   ]
  },
  {
   "cell_type": "markdown",
   "metadata": {},
   "source": [
    "### Дополнение 1"
   ]
  },
  {
   "cell_type": "markdown",
   "metadata": {},
   "source": [
    "Заменяем пропуски дохода медианой, взятой по следующим характеристикам клиента: пол + образование + тип занятости."
   ]
  },
  {
   "cell_type": "code",
   "execution_count": 136,
   "metadata": {},
   "outputs": [
    {
     "data": {
      "text/plain": [
       "0"
      ]
     },
     "execution_count": 136,
     "metadata": {},
     "output_type": "execute_result"
    }
   ],
   "source": [
    "# Создаем сводную таблицу по столбцам: 'gender'(пол), 'education'(образование), 'income_type'(тип занятости)\n",
    "# считаем медианное значение по столбцу 'total_income' (суммарный заработок)\n",
    "df1 = pd.pivot_table(df, values='total_income', index=['gender', 'education', 'income_type'], aggfunc='median').reset_index()\n",
    "# Создаем новый датафрейм, в него записывыем все строки с пометкой в столбце 'total_income_replace'\n",
    "df2 = df[df['total_income_replace'] == 1]\n",
    "# Удаляем столбец 'total_income' в новом датафрейме df2\n",
    "df2.pop('total_income')\n",
    "# Сбрасываем значение индекса в новом датафрейме df2\n",
    "df2 = df2.reset_index()\n",
    "# объединяем таблицы df2 и df1\n",
    "df2 = df2.merge(df1, on=['gender', 'education', 'income_type'])\n",
    "# Удаляем все строки с пометкой в столбце 'total_income_replace'\n",
    "df = df[df['total_income_replace'] != 1]\n",
    "# Сбрасываем значение индекса\n",
    "df = df.reset_index()\n",
    "# Объединяем таблицы df и df2\n",
    "df = pd.concat([df, df2], ignore_index=True, sort=False)\n",
    "#проверяем что все пропуски удалены\n",
    "df['total_income'].isna().sum() "
   ]
  },
  {
   "cell_type": "markdown",
   "metadata": {},
   "source": [
    "**Вывод**\n",
    "\n",
    "Все пропуски удалены, можем двигаться дальше."
   ]
  },
  {
   "cell_type": "markdown",
   "metadata": {},
   "source": [
    "### Лемматизация"
   ]
  },
  {
   "cell_type": "markdown",
   "metadata": {},
   "source": [
    "Создадим список лемматизированных значений столбца `purpose`"
   ]
  },
  {
   "cell_type": "code",
   "execution_count": 137,
   "metadata": {},
   "outputs": [
    {
     "data": {
      "text/plain": [
       "['покупка жилье\\n',\n",
       " 'приобретение автомобиль\\n',\n",
       " 'дополнительный образование\\n',\n",
       " 'сыграть свадьба\\n',\n",
       " 'операция с жилье\\n',\n",
       " 'образование\\n',\n",
       " 'на проведение свадьба\\n',\n",
       " 'покупка жилье для семья\\n',\n",
       " 'покупка недвижимость\\n',\n",
       " 'покупка коммерческий недвижимость\\n',\n",
       " 'покупка жилой недвижимость\\n',\n",
       " 'строительство собственный недвижимость\\n',\n",
       " 'недвижимость\\n',\n",
       " 'строительство недвижимость\\n',\n",
       " 'на покупка подержать автомобиль\\n',\n",
       " 'на покупка свой автомобиль\\n',\n",
       " 'операция с коммерческий недвижимость\\n',\n",
       " 'жилье\\n',\n",
       " 'операция со свой недвижимость\\n',\n",
       " 'автомобиль\\n',\n",
       " 'заниматься образование\\n',\n",
       " 'получение образование\\n',\n",
       " 'сделка с подержанный автомобиль\\n',\n",
       " 'автомобиль\\n',\n",
       " 'свадьба\\n',\n",
       " 'получение дополнительный образование\\n',\n",
       " 'покупка свой жилье\\n',\n",
       " 'операция с недвижимость\\n',\n",
       " 'получение высокий образование\\n',\n",
       " 'свой автомобиль\\n',\n",
       " 'сделка с автомобиль\\n',\n",
       " 'профильный образование\\n',\n",
       " 'высокий образование\\n',\n",
       " 'покупка жилье для сдача\\n',\n",
       " 'на покупка автомобиль\\n',\n",
       " 'строительство жилой недвижимость\\n',\n",
       " 'ремонт жилье\\n',\n",
       " 'заниматься высокий образование\\n']"
      ]
     },
     "execution_count": 137,
     "metadata": {},
     "output_type": "execute_result"
    }
   ],
   "source": [
    "lemmas = [] # создаем пустой список в который будет добавлять лемматизированные значения\n",
    "purpose_list = df['purpose'].unique() # создаем список уникальных значений столбца 'purpose'\n",
    "\n",
    "# Запускаем цикл, который лемматизирует слова из списка purpose_list\n",
    "for i in purpose_list:\n",
    "    lemma = ''.join(m.lemmatize(i)) # лемматизируем слова и объединяем их в одну строку (для лучшей наглядности)\n",
    "    lemmas.append(lemma) # добавляем лемматизированное значение в список lemmas                  \n",
    "lemmas"
   ]
  },
  {
   "cell_type": "markdown",
   "metadata": {},
   "source": [
    "**Вывод**"
   ]
  },
  {
   "cell_type": "markdown",
   "metadata": {},
   "source": [
    "Лемматизировали столбец `purpose`.\n",
    "Проанализировав полученный список можно выделить четыре категории целей получения кредита:\n",
    " - недвижимость\n",
    " - автомобиль\n",
    " - свадьба\n",
    " - образование"
   ]
  },
  {
   "cell_type": "markdown",
   "metadata": {},
   "source": [
    "### Категоризация данных"
   ]
  },
  {
   "cell_type": "markdown",
   "metadata": {},
   "source": [
    "Создаем функцию purpose_categories, которая будет осуществлять категоризацию столбца `purpose`"
   ]
  },
  {
   "cell_type": "code",
   "execution_count": 138,
   "metadata": {},
   "outputs": [],
   "source": [
    "def purpose_categories(purpose):\n",
    "    \n",
    "    lemma_purpose = ''.join(m.lemmatize(purpose)) # лемматизируем слова и объединяем их в одну строку\n",
    "    \n",
    "    # если в лемматизированной строке встречается слово \"авто\", то возвращаем категорию \"автомобиль\"\n",
    "    if 'авто' in lemma_purpose:\n",
    "        return 'автомобиль'\n",
    "    \n",
    "    # если в лемматизированной строке встречается слово \"жилье\" или \"недвижимость\", то возвращаем категорию \"недвижимость\"\n",
    "    if ('жилье' in lemma_purpose) or ('недвижимость' in lemma_purpose):\n",
    "        return 'недвижимость'\n",
    "    \n",
    "    # если в лемматизированной строке встречается слово \"свадьба\", то возвращаем категорию \"свадьба\"\n",
    "    if 'свадьба' in lemma_purpose:\n",
    "        return 'свадьба'\n",
    "    \n",
    "    # если в лемматизированной строке встречается слово \"образование\", то возвращаем категорию \"образование\"\n",
    "    if 'образование' in lemma_purpose:\n",
    "        return 'образование'\n",
    "    \n",
    "    # если в лемматизированной строке ни одна из заданных категорий не найдена, то возвращаем значение \"категория не обнаружена\"\n",
    "    return 'категория не обнаружена'"
   ]
  },
  {
   "cell_type": "code",
   "execution_count": 139,
   "metadata": {},
   "outputs": [
    {
     "data": {
      "text/plain": [
       "недвижимость    10839\n",
       "автомобиль       4315\n",
       "образование      4022\n",
       "свадьба          2348\n",
       "Name: purpose_categories, dtype: int64"
      ]
     },
     "execution_count": 139,
     "metadata": {},
     "output_type": "execute_result"
    }
   ],
   "source": [
    "# Создаем новый столбец 'purpose_categories, в которой записываем категории столбца 'purpose'.\n",
    "# С помощь функции apply, применяем созданную нами функцию purpose_categories к столбцу 'purpose'\n",
    "df['purpose_categories'] = df['purpose'].apply(purpose_categories)\n",
    "df['purpose_categories'].value_counts() # проверяем, что категории создались верно"
   ]
  },
  {
   "cell_type": "code",
   "execution_count": 140,
   "metadata": {},
   "outputs": [
    {
     "name": "stdout",
     "output_type": "stream",
     "text": [
      "<class 'pandas.core.frame.DataFrame'>\n",
      "Int64Index: 19350 entries, 0 to 19349\n",
      "Data columns (total 14 columns):\n",
      "index                 19350 non-null int64\n",
      "children              19350 non-null int64\n",
      "days_employed         19350 non-null float64\n",
      "dob_years             19350 non-null int64\n",
      "education             19350 non-null object\n",
      "education_id          19350 non-null int64\n",
      "family_status         19350 non-null object\n",
      "family_status_id      19350 non-null int64\n",
      "gender                19350 non-null object\n",
      "income_type           19350 non-null object\n",
      "debt                  19350 non-null int64\n",
      "total_income          19350 non-null float64\n",
      "purpose               19350 non-null object\n",
      "purpose_categories    19350 non-null object\n",
      "dtypes: float64(2), int64(6), object(6)\n",
      "memory usage: 2.2+ MB\n"
     ]
    }
   ],
   "source": [
    "df_income = df.copy() # создаем копию датафрейма df\n",
    "#удаляем строки в которых есть пометка в столбце 'total_income_replace'\n",
    "df_income = df_income[df_income['total_income_replace'] != 1] \n",
    "df_income.pop('total_income_replace') # удаляем столбец total_income_replace'  \n",
    "df_income.info() # проверяем что помеченные строки и столбец удалены"
   ]
  },
  {
   "cell_type": "markdown",
   "metadata": {},
   "source": [
    "Создаем функцию income_categorie, которая будет осуществлять категоризацию столбца `income`"
   ]
  },
  {
   "cell_type": "code",
   "execution_count": 141,
   "metadata": {},
   "outputs": [],
   "source": [
    "def income_categories(income):\n",
    "    \n",
    "    # если суммарный доход меньше или равен 100 тыс., то возвращаем категорию \"до 100 тыс.\"\n",
    "    if income <= 100000:\n",
    "        return 'до 100 тыс.'\n",
    "    \n",
    "    # если суммарный доход больше 100 тыс., но меньше или равен 150 тыс., то возвращаем категорию \"от 100 до 150 тыс.\"\n",
    "    if income <= 150000:\n",
    "        return 'от 100 до 150 тыс.'\n",
    "    \n",
    "    # если суммарный доход больше 150 тыс., но меньше или равен 200 тыс., то возвращаем категорию \"от 150 до 200 тыс.\"\n",
    "    if income <= 200000:\n",
    "        return 'от 150 до 200 тыс.'\n",
    "    \n",
    "    # во всех остальных случаях возвращаем категорию \"более 200 тыс.\"\n",
    "    return 'более 200 тыс.'"
   ]
  },
  {
   "cell_type": "code",
   "execution_count": 142,
   "metadata": {},
   "outputs": [
    {
     "data": {
      "text/plain": [
       "от 100 до 150 тыс.    5704\n",
       "более 200 тыс.        5065\n",
       "до 100 тыс.           4463\n",
       "от 150 до 200 тыс.    4118\n",
       "Name: total_income_categories, dtype: int64"
      ]
     },
     "execution_count": 142,
     "metadata": {},
     "output_type": "execute_result"
    }
   ],
   "source": [
    "# Создаем новый столбец 'total_income_categories, в которой записываем категории столбца 'total_income'.\n",
    "# С помощь функции apply, применяем созданную нами функцию income_categories к столбцу 'total_income'\n",
    "df_income['total_income_categories'] = df_income['total_income'].apply(income_categories)\n",
    "df_income['total_income_categories'].value_counts() # проверяем, что категории создались верно"
   ]
  },
  {
   "cell_type": "markdown",
   "metadata": {},
   "source": [
    "**Вывод**\n",
    "\n",
    "Проведена категоризация значений, столбцов `purpose` и `total_income`.\n",
    "Предабработка данных закончена можно переходить к исследованиям."
   ]
  },
  {
   "cell_type": "code",
   "execution_count": 145,
   "metadata": {},
   "outputs": [
    {
     "data": {
      "text/html": [
       "<div>\n",
       "<style scoped>\n",
       "    .dataframe tbody tr th:only-of-type {\n",
       "        vertical-align: middle;\n",
       "    }\n",
       "\n",
       "    .dataframe tbody tr th {\n",
       "        vertical-align: top;\n",
       "    }\n",
       "\n",
       "    .dataframe thead th {\n",
       "        text-align: right;\n",
       "    }\n",
       "</style>\n",
       "<table border=\"1\" class=\"dataframe\">\n",
       "  <thead>\n",
       "    <tr style=\"text-align: right;\">\n",
       "      <th></th>\n",
       "      <th>education_id</th>\n",
       "      <th>education</th>\n",
       "    </tr>\n",
       "  </thead>\n",
       "  <tbody>\n",
       "    <tr>\n",
       "      <td>0</td>\n",
       "      <td>0</td>\n",
       "      <td>высшее</td>\n",
       "    </tr>\n",
       "    <tr>\n",
       "      <td>1</td>\n",
       "      <td>1</td>\n",
       "      <td>среднее</td>\n",
       "    </tr>\n",
       "    <tr>\n",
       "      <td>2</td>\n",
       "      <td>2</td>\n",
       "      <td>неоконченное высшее</td>\n",
       "    </tr>\n",
       "    <tr>\n",
       "      <td>3</td>\n",
       "      <td>3</td>\n",
       "      <td>начальное</td>\n",
       "    </tr>\n",
       "    <tr>\n",
       "      <td>4</td>\n",
       "      <td>4</td>\n",
       "      <td>ученая степень</td>\n",
       "    </tr>\n",
       "  </tbody>\n",
       "</table>\n",
       "</div>"
      ],
      "text/plain": [
       "   education_id            education\n",
       "0             0               высшее\n",
       "1             1              среднее\n",
       "2             2  неоконченное высшее\n",
       "3             3            начальное\n",
       "4             4       ученая степень"
      ]
     },
     "execution_count": 145,
     "metadata": {},
     "output_type": "execute_result"
    }
   ],
   "source": [
    "# Создаем словарь для пары столбцов `education` и `education_id`\n",
    "education_dict = df[['education_id', 'education']]\n",
    "# Удаляем дублирующийся значения\n",
    "education_dict = education_dict.drop_duplicates().reset_index(drop=True)\n",
    "education_dict"
   ]
  },
  {
   "cell_type": "code",
   "execution_count": 146,
   "metadata": {},
   "outputs": [
    {
     "data": {
      "text/html": [
       "<div>\n",
       "<style scoped>\n",
       "    .dataframe tbody tr th:only-of-type {\n",
       "        vertical-align: middle;\n",
       "    }\n",
       "\n",
       "    .dataframe tbody tr th {\n",
       "        vertical-align: top;\n",
       "    }\n",
       "\n",
       "    .dataframe thead th {\n",
       "        text-align: right;\n",
       "    }\n",
       "</style>\n",
       "<table border=\"1\" class=\"dataframe\">\n",
       "  <thead>\n",
       "    <tr style=\"text-align: right;\">\n",
       "      <th></th>\n",
       "      <th>family_status_id</th>\n",
       "      <th>family_status</th>\n",
       "    </tr>\n",
       "  </thead>\n",
       "  <tbody>\n",
       "    <tr>\n",
       "      <td>0</td>\n",
       "      <td>0</td>\n",
       "      <td>женат / замужем</td>\n",
       "    </tr>\n",
       "    <tr>\n",
       "      <td>1</td>\n",
       "      <td>1</td>\n",
       "      <td>гражданский брак</td>\n",
       "    </tr>\n",
       "    <tr>\n",
       "      <td>2</td>\n",
       "      <td>2</td>\n",
       "      <td>вдовец / вдова</td>\n",
       "    </tr>\n",
       "    <tr>\n",
       "      <td>3</td>\n",
       "      <td>3</td>\n",
       "      <td>в разводе</td>\n",
       "    </tr>\n",
       "    <tr>\n",
       "      <td>4</td>\n",
       "      <td>4</td>\n",
       "      <td>Не женат / не замужем</td>\n",
       "    </tr>\n",
       "  </tbody>\n",
       "</table>\n",
       "</div>"
      ],
      "text/plain": [
       "   family_status_id          family_status\n",
       "0                 0        женат / замужем\n",
       "1                 1       гражданский брак\n",
       "2                 2         вдовец / вдова\n",
       "3                 3              в разводе\n",
       "4                 4  Не женат / не замужем"
      ]
     },
     "execution_count": 146,
     "metadata": {},
     "output_type": "execute_result"
    }
   ],
   "source": [
    "# Создаем словарь для пары столбцов `family_status` и `family_status`\n",
    "family_status_dict = df[['family_status_id', 'family_status']]\n",
    "# Удаляем дублирующийся значения\n",
    "family_status_dict = family_status_dict.drop_duplicates().reset_index(drop=True)\n",
    "family_status_dict"
   ]
  },
  {
   "cell_type": "markdown",
   "metadata": {},
   "source": [
    "## Ответьте на вопросы"
   ]
  },
  {
   "cell_type": "markdown",
   "metadata": {},
   "source": [
    "- Есть ли зависимость между наличием детей и возвратом кредита в срок?"
   ]
  },
  {
   "cell_type": "code",
   "execution_count": 147,
   "metadata": {},
   "outputs": [
    {
     "name": "stdout",
     "output_type": "stream",
     "text": [
      "Процент клиентов с детьми, которые имели задолженность по возврату кредитов: 9.19%\n",
      "Процент клиентов без детей, которые имели задолженность по возврату кредитов: 7.51%\n"
     ]
    }
   ],
   "source": [
    "# Считаем кол-во клиентов с детьми и без детей\n",
    "children_yes_count = df[df['children'] > 0]['children'].count()\n",
    "children_no_count = df[df['children'] == 0]['children'].count()\n",
    "\n",
    "# Считаем кол-во клиентов с детьми и без детей, которые имели задолжность по возврату кредитов\n",
    "children_yes_debt = df[df['children'] > 0]['debt'].sum()\n",
    "children_no_debt = df[df['children'] == 0]['debt'].sum()\n",
    "\n",
    "# Считаем и выводим на экран процент клиентов с детьми, которые имели задолженность по возврату кредитов\n",
    "try:\n",
    "    print(f'Процент клиентов с детьми, которые имели задолженность по возврату кредитов: {children_yes_debt / children_yes_count:.2%}')\n",
    "except:\n",
    "    print('Количество клиентов с детьми равно 0')\n",
    "\n",
    "# Считаеми выводим на экран процент клиентов без детей, которые имели задолженность по возврату кредитов\n",
    "try:\n",
    "    print(f'Процент клиентов без детей, которые имели задолженность по возврату кредитов: {children_no_debt / children_no_count:.2%}')\n",
    "except:\n",
    "    print('Количество клиентов без детей равно 0')    "
   ]
  },
  {
   "cell_type": "code",
   "execution_count": 148,
   "metadata": {},
   "outputs": [
    {
     "name": "stdout",
     "output_type": "stream",
     "text": [
      "Процент клиентов с одним ребенком, которые имели задолженность по возврату кредитов: 9.15%\n",
      "Процент клиентов с двумя детьми, которые имели задолженность по возврату кредитов: 9.48%\n",
      "Процент клиентов с более чем двумя детьми, которые имели задолженность по возврату кредитов: 8.16%\n"
     ]
    }
   ],
   "source": [
    "# Считаем кол-во клиентов: с одним ребенком, двумя детьми и более чем двумя детьми\n",
    "children_one_count = df[df['children'] == 1]['children'].count()\n",
    "children_two_count = df[df['children'] == 2]['children'].count()\n",
    "children_more_two_count = df[df['children'] > 2]['children'].count()\n",
    "\n",
    "# Считаем кол-во клиентов: с одним ребенком, двумя детьми и более чем двумя детьми, которые имели задолжность по возврату кредитов\n",
    "children_one_debt = df[df['children'] == 1]['debt'].sum()\n",
    "children_two_debt = df[df['children'] == 2]['debt'].sum()\n",
    "children_more_two_debt = df[df['children'] > 2]['debt'].sum()\n",
    "\n",
    "# Считаем и выводим на экран процент клиентов с одним ребенком, которые имели задолженность по возврату кредитов\n",
    "try:\n",
    "    print(f'Процент клиентов с одним ребенком, которые имели задолженность по возврату кредитов: {children_one_debt / children_one_count:.2%}')\n",
    "except:\n",
    "    print('Количество клиентов с одним ребенком равно 0')\n",
    "    \n",
    "# Считаем и выводим на экран процент клиентов с двумя детьми, которые имели задолженность по возврату кредитов\n",
    "try:\n",
    "    print(f'Процент клиентов с двумя детьми, которые имели задолженность по возврату кредитов: {children_two_debt / children_two_count:.2%}')\n",
    "except:\n",
    "    print('Количество клиентов с двумя детьми равно 0')\n",
    "\n",
    "# Считаем и выводим на экран процент клиентов с более чем двумя детьми, которые имели задолженность по возврату кредитов\n",
    "try:\n",
    "    print(f'Процент клиентов с более чем двумя детьми, которые имели задолженность по возврату кредитов: {children_more_two_debt / children_more_two_count:.2%}')\n",
    "except:\n",
    "    print('Количество клиентов с более чем двумя детьми равно 0')"
   ]
  },
  {
   "cell_type": "markdown",
   "metadata": {},
   "source": [
    "**Вывод**\n",
    "\n",
    "По итогам исследования, можно сформировать гипотезу что клиенты без детей - реже допускают просрочки по возврату кредитов."
   ]
  },
  {
   "cell_type": "markdown",
   "metadata": {},
   "source": [
    "- Есть ли зависимость между семейным положением и возвратом кредита в срок?"
   ]
  },
  {
   "cell_type": "code",
   "execution_count": 152,
   "metadata": {
    "scrolled": true
   },
   "outputs": [
    {
     "name": "stdout",
     "output_type": "stream",
     "text": [
      "Процент клиентов с семейным положением \"женат / замужем\", которые имели задолженность по возврату кредитов: 7.52%\n",
      "Процент клиентов с семейным положением \"гражданский брак\", которые имели задолженность по возврату кредитов: 9.29%\n",
      "Процент клиентов с семейным положением \"вдовец / вдова\", которые имели задолженность по возврату кредитов: 6.56%\n",
      "Процент клиентов с семейным положением \"в разводе\", которые имели задолженность по возврату кредитов: 7.11%\n",
      "Процент клиентов с семейным положением \"Не женат / не замужем\", которые имели задолженность по возврату кредитов: 9.74%\n"
     ]
    }
   ],
   "source": [
    "# Создаем список с уникальными значениями столбца 'family_status'\n",
    "family_status = df['family_status'].unique()\n",
    "\n",
    "# Запускаем цикл, который проходится по всем уникальными значениями столбца 'family_status'\n",
    "for i in family_status:\n",
    "    # Считаем кол-во клиентов в категории\n",
    "    family_status_count = df[df['family_status'] == i]['family_status'].count()\n",
    "    # Считаем кол-во клиентов в категории, которые имели задолжность по кредиту\n",
    "    family_status_debt = df[df['family_status'] == i]['debt'].sum()\n",
    "    # Считаем и выводим на экран процент клиентов в категории, которые имели задолженность по возврату кредитов\n",
    "    print (f'Процент клиентов с семейным положением \"{i}\", которые имели задолженность по возврату кредитов: {family_status_debt / family_status_count:.2%}')"
   ]
  },
  {
   "cell_type": "markdown",
   "metadata": {},
   "source": [
    "**Вывод**\n",
    "\n",
    "По итогам исследования, можно сформировать гипотезу, что клиенты с семейным положением: \"женат / замужем\", \"вдовец / вдова\" и \"в разводе\", реже допускают просрочки по возврату кредитов, чем клиенты с семейным положением: \"гражданский брак\" и \"Не женат / не замужем\".  "
   ]
  },
  {
   "cell_type": "markdown",
   "metadata": {},
   "source": [
    "- Есть ли зависимость между уровнем дохода и возвратом кредита в срок?"
   ]
  },
  {
   "cell_type": "code",
   "execution_count": 153,
   "metadata": {},
   "outputs": [
    {
     "name": "stdout",
     "output_type": "stream",
     "text": [
      "Процент клиентов с уровнем дохода до 100 тыс., которые имели задолженность по возврату кредитов: 7.93%\n",
      "Процент клиентов с уровнем дохода от 100 до 150 тыс., которые имели задолженность по возврату кредитов: 8.61%\n",
      "Процент клиентов с уровнем дохода от 150 до 200 тыс., которые имели задолженность по возврату кредитов: 8.94%\n",
      "Процент клиентов с уровнем дохода более 200 тыс., которые имели задолженность по возврату кредитов: 7.07%\n"
     ]
    }
   ],
   "source": [
    "# Создаем список с категориями - суммарного заробтка клиентов\n",
    "income_categories = ['до 100 тыс.', 'от 100 до 150 тыс.', 'от 150 до 200 тыс.', 'более 200 тыс.']\n",
    "\n",
    "# Запускаем цикл, который проходится по всем категориями\n",
    "for i in income_categories:\n",
    "    # Считаем кол-во клиентов в категории\n",
    "    income_categories_count = df_income[df_income['total_income_categories'] == i]['total_income_categories'].count()\n",
    "    # Считаем кол-во клиентов в категории, которые имели задолжность по кредиту\n",
    "    income_categories_debt = df_income[df_income['total_income_categories'] == i]['debt'].sum()\n",
    "    # Считаем и выводим на экран процент клиентов в категории, которые имели задолженность по возврату кредитов\n",
    "    print (f'Процент клиентов с уровнем дохода {i}, которые имели задолженность по возврату кредитов: {income_categories_debt / income_categories_count:.2%}')"
   ]
  },
  {
   "cell_type": "markdown",
   "metadata": {},
   "source": [
    "**Вывод**\n",
    "\n",
    "По итогам исследования, можно сформировать гипотезу, что клиенты с доходом более 200 тыс., реже всего допускают просрочки по возврату кредитов, а клиенты с доходом от 100 до 200 тыс., чаще всего.  "
   ]
  },
  {
   "cell_type": "markdown",
   "metadata": {},
   "source": [
    "- Как разные цели кредита влияют на его возврат в срок?"
   ]
  },
  {
   "cell_type": "code",
   "execution_count": 154,
   "metadata": {},
   "outputs": [
    {
     "name": "stdout",
     "output_type": "stream",
     "text": [
      "Процент клиентов с целью кредита \"недвижимость\", которые имели задолженность по возврату кредитов: 7.21%\n",
      "Процент клиентов с целью кредита \"автомобиль\", которые имели задолженность по возврату кредитов: 9.34%\n",
      "Процент клиентов с целью кредита \"образование\", которые имели задолженность по возврату кредитов: 9.20%\n",
      "Процент клиентов с целью кредита \"свадьба\", которые имели задолженность по возврату кредитов: 7.92%\n"
     ]
    }
   ],
   "source": [
    "# Создаем список с уникальными значениями столбца 'purpose_categories'\n",
    "purpose_categories = df['purpose_categories'].unique()\n",
    "\n",
    "# Запускаем цикл, который проходится по всем категориями\n",
    "for i in purpose_categories:\n",
    "    # Считаем кол-во клиентов в категории\n",
    "    purpose_categories_count = df[df['purpose_categories'] == i]['purpose_categories'].count()\n",
    "    # Считаем кол-во клиентов в категории, которые имели задолжность по кредиту\n",
    "    purpose_categories_debt = df[df['purpose_categories'] == i]['debt'].sum()\n",
    "    # Считаем и выводим на экран процент клиентов в категории, которые имели задолженность по возврату кредитов\n",
    "    print (f'Процент клиентов с целью кредита \"{i}\", которые имели задолженность по возврату кредитов: {purpose_categories_debt / purpose_categories_count:.2%}')"
   ]
  },
  {
   "cell_type": "markdown",
   "metadata": {},
   "source": [
    "**Вывод**\n",
    "По итогам исследования, можно сформировать гипотезу, что клиенты берущие кредит с целью: \"недвижимость\" и \"свадьба\", реже допускают просрочки по возврату кредитов, чем клиенты берущие кредит с целью: \"автомобиль\" и \"образование\".  "
   ]
  },
  {
   "cell_type": "markdown",
   "metadata": {},
   "source": [
    "## Общий вывод"
   ]
  },
  {
   "cell_type": "markdown",
   "metadata": {},
   "source": [
    "По итогам исследований сформированы следующие гипотезы:\n",
    "\n",
    "- клиенты без детей - реже допускают просрочки по возврату кредитов: 7.51%, против 9.19% у клиентов с детьми \n",
    "- клиенты с семейным положением: \"женат / замужем\", \"вдовец / вдова\" и \"в разводе\", реже допускают просрочки по возврату кредитов (6,56 - 7,59%), чем клиенты с семейным положением: \"гражданский брак\" и \"Не женат / не замужем\" (9,29 - 9,74%). \n",
    "- клиенты с доходом более 200 тыс., реже всего допускают просрочки по возврату кредитов (7,07 - 7,93%), а клиенты с доходом от 100 до 200 тыс., чаще всего (8,61 - 8,94%)\n",
    "- клиенты берущие кредит с целью: \"недвижимость\" и \"свадьба\", реже допускают просрочки по возврату кредитов (7,21 - 7,92%), чем клиенты берущие кредит с целью: \"автомобиль\" и \"образование (9,2 - 9,34%)\n",
    "\n",
    "Для подтверждения данных гипотезы нужно проводить более глубокое исследование, основанное на различных факторах, влияющих на возврат клиентами кредитов без задолженностей."
   ]
  }
 ],
 "metadata": {
  "ExecuteTimeLog": [
   {
    "duration": 841,
    "start_time": "2021-10-18T07:45:05.138Z"
   },
   {
    "duration": 87,
    "start_time": "2021-10-18T08:05:04.583Z"
   },
   {
    "duration": 15,
    "start_time": "2021-10-18T08:05:29.551Z"
   },
   {
    "duration": 61,
    "start_time": "2021-10-18T08:07:25.223Z"
   },
   {
    "duration": 20,
    "start_time": "2021-10-18T08:07:28.238Z"
   },
   {
    "duration": 86,
    "start_time": "2021-10-18T08:08:32.448Z"
   },
   {
    "duration": 15,
    "start_time": "2021-10-18T08:10:24.471Z"
   },
   {
    "duration": 22,
    "start_time": "2021-10-18T08:37:02.330Z"
   },
   {
    "duration": 6,
    "start_time": "2021-10-18T10:25:08.893Z"
   },
   {
    "duration": 7,
    "start_time": "2021-10-18T10:36:31.961Z"
   },
   {
    "duration": 35,
    "start_time": "2021-10-18T10:36:49.578Z"
   },
   {
    "duration": 27,
    "start_time": "2021-10-18T10:41:03.173Z"
   },
   {
    "duration": 7,
    "start_time": "2021-10-18T10:41:29.000Z"
   },
   {
    "duration": 8,
    "start_time": "2021-10-18T10:42:11.174Z"
   },
   {
    "duration": 6,
    "start_time": "2021-10-18T10:43:04.249Z"
   },
   {
    "duration": 6,
    "start_time": "2021-10-18T10:43:11.302Z"
   },
   {
    "duration": 5,
    "start_time": "2021-10-18T10:43:35.973Z"
   },
   {
    "duration": 6,
    "start_time": "2021-10-18T10:43:40.933Z"
   },
   {
    "duration": 6,
    "start_time": "2021-10-18T10:54:36.312Z"
   },
   {
    "duration": 6,
    "start_time": "2021-10-18T10:56:16.154Z"
   },
   {
    "duration": 8,
    "start_time": "2021-10-18T10:56:57.453Z"
   },
   {
    "duration": 11,
    "start_time": "2021-10-18T10:58:24.245Z"
   },
   {
    "duration": 8,
    "start_time": "2021-10-18T11:06:14.112Z"
   },
   {
    "duration": 11,
    "start_time": "2021-10-18T11:12:54.412Z"
   },
   {
    "duration": 8,
    "start_time": "2021-10-18T11:13:51.141Z"
   },
   {
    "duration": 10,
    "start_time": "2021-10-18T11:19:07.833Z"
   },
   {
    "duration": 10,
    "start_time": "2021-10-18T11:26:29.852Z"
   },
   {
    "duration": 7,
    "start_time": "2021-10-18T11:28:54.813Z"
   },
   {
    "duration": 11,
    "start_time": "2021-10-18T11:29:59.205Z"
   },
   {
    "duration": 12,
    "start_time": "2021-10-18T12:22:16.460Z"
   },
   {
    "duration": 14,
    "start_time": "2021-10-18T12:22:46.981Z"
   },
   {
    "duration": 10,
    "start_time": "2021-10-18T12:46:08.014Z"
   },
   {
    "duration": 7,
    "start_time": "2021-10-18T12:46:12.055Z"
   },
   {
    "duration": 10,
    "start_time": "2021-10-18T12:46:13.543Z"
   },
   {
    "duration": 7,
    "start_time": "2021-10-18T12:46:15.727Z"
   },
   {
    "duration": 10,
    "start_time": "2021-10-18T12:46:18.234Z"
   },
   {
    "duration": 14,
    "start_time": "2021-10-18T12:46:20.534Z"
   },
   {
    "duration": 8,
    "start_time": "2021-10-18T12:46:21.926Z"
   },
   {
    "duration": 11,
    "start_time": "2021-10-18T12:47:24.715Z"
   },
   {
    "duration": 5,
    "start_time": "2021-10-18T12:54:55.592Z"
   },
   {
    "duration": 6,
    "start_time": "2021-10-18T12:54:58.442Z"
   },
   {
    "duration": 81,
    "start_time": "2021-10-18T12:59:06.796Z"
   },
   {
    "duration": 8,
    "start_time": "2021-10-18T12:59:22.895Z"
   },
   {
    "duration": 10,
    "start_time": "2021-10-18T13:00:11.455Z"
   },
   {
    "duration": 11,
    "start_time": "2021-10-18T13:00:43.074Z"
   },
   {
    "duration": 6,
    "start_time": "2021-10-18T13:01:07.954Z"
   },
   {
    "duration": 7,
    "start_time": "2021-10-18T13:01:28.515Z"
   },
   {
    "duration": 5,
    "start_time": "2021-10-18T13:02:19.835Z"
   },
   {
    "duration": 5,
    "start_time": "2021-10-18T13:02:29.355Z"
   },
   {
    "duration": 6,
    "start_time": "2021-10-18T13:02:33.015Z"
   },
   {
    "duration": 9,
    "start_time": "2021-10-18T13:03:31.387Z"
   },
   {
    "duration": 4,
    "start_time": "2021-10-18T13:13:29.215Z"
   },
   {
    "duration": 7,
    "start_time": "2021-10-18T13:13:48.415Z"
   },
   {
    "duration": 6,
    "start_time": "2021-10-18T13:13:59.596Z"
   },
   {
    "duration": 11,
    "start_time": "2021-10-18T13:14:03.531Z"
   },
   {
    "duration": 7,
    "start_time": "2021-10-18T13:14:08.540Z"
   },
   {
    "duration": 6,
    "start_time": "2021-10-18T13:14:09.246Z"
   },
   {
    "duration": 7,
    "start_time": "2021-10-18T13:14:10.915Z"
   },
   {
    "duration": 8,
    "start_time": "2021-10-18T13:15:11.307Z"
   },
   {
    "duration": 16,
    "start_time": "2021-10-18T13:15:47.323Z"
   },
   {
    "duration": 339,
    "start_time": "2021-10-19T09:29:31.588Z"
   },
   {
    "duration": 827,
    "start_time": "2021-10-19T09:29:44.581Z"
   },
   {
    "duration": 17,
    "start_time": "2021-10-19T09:29:45.411Z"
   },
   {
    "duration": 54,
    "start_time": "2021-10-19T09:29:45.432Z"
   },
   {
    "duration": 8,
    "start_time": "2021-10-19T09:29:45.500Z"
   },
   {
    "duration": 11,
    "start_time": "2021-10-19T09:29:45.511Z"
   },
   {
    "duration": 9,
    "start_time": "2021-10-19T09:29:45.525Z"
   },
   {
    "duration": 10,
    "start_time": "2021-10-19T09:29:45.567Z"
   },
   {
    "duration": 10,
    "start_time": "2021-10-19T09:29:45.580Z"
   },
   {
    "duration": 12,
    "start_time": "2021-10-19T09:29:45.594Z"
   },
   {
    "duration": 18,
    "start_time": "2021-10-19T09:29:45.608Z"
   },
   {
    "duration": 41,
    "start_time": "2021-10-19T09:29:45.629Z"
   },
   {
    "duration": 12,
    "start_time": "2021-10-19T09:29:45.673Z"
   },
   {
    "duration": 10,
    "start_time": "2021-10-19T09:29:45.687Z"
   },
   {
    "duration": 14,
    "start_time": "2021-10-19T09:29:45.699Z"
   },
   {
    "duration": 7,
    "start_time": "2021-10-19T09:29:45.715Z"
   },
   {
    "duration": 47,
    "start_time": "2021-10-19T09:29:45.724Z"
   },
   {
    "duration": 8,
    "start_time": "2021-10-19T09:29:45.774Z"
   },
   {
    "duration": 18,
    "start_time": "2021-10-19T09:29:45.784Z"
   },
   {
    "duration": 18,
    "start_time": "2021-10-19T09:29:45.805Z"
   },
   {
    "duration": 304,
    "start_time": "2021-10-19T09:36:32.961Z"
   },
   {
    "duration": 39,
    "start_time": "2021-10-19T09:37:20.621Z"
   },
   {
    "duration": 62,
    "start_time": "2021-10-19T09:40:08.362Z"
   },
   {
    "duration": 18,
    "start_time": "2021-10-19T09:40:36.202Z"
   },
   {
    "duration": 16,
    "start_time": "2021-10-19T09:41:21.093Z"
   },
   {
    "duration": 15,
    "start_time": "2021-10-19T09:42:24.343Z"
   },
   {
    "duration": 25,
    "start_time": "2021-10-19T09:42:34.177Z"
   },
   {
    "duration": 9,
    "start_time": "2021-10-19T09:42:45.981Z"
   },
   {
    "duration": 27,
    "start_time": "2021-10-19T09:43:35.702Z"
   },
   {
    "duration": 15,
    "start_time": "2021-10-19T09:43:44.701Z"
   },
   {
    "duration": 69,
    "start_time": "2021-10-19T09:43:56.019Z"
   },
   {
    "duration": 18,
    "start_time": "2021-10-19T09:43:56.091Z"
   },
   {
    "duration": 55,
    "start_time": "2021-10-19T09:43:56.112Z"
   },
   {
    "duration": 11,
    "start_time": "2021-10-19T09:43:56.171Z"
   },
   {
    "duration": 13,
    "start_time": "2021-10-19T09:43:56.185Z"
   },
   {
    "duration": 10,
    "start_time": "2021-10-19T09:43:56.201Z"
   },
   {
    "duration": 55,
    "start_time": "2021-10-19T09:43:56.214Z"
   },
   {
    "duration": 11,
    "start_time": "2021-10-19T09:43:56.272Z"
   },
   {
    "duration": 14,
    "start_time": "2021-10-19T09:43:56.289Z"
   },
   {
    "duration": 14,
    "start_time": "2021-10-19T09:43:56.306Z"
   },
   {
    "duration": 13,
    "start_time": "2021-10-19T09:43:56.367Z"
   },
   {
    "duration": 11,
    "start_time": "2021-10-19T09:43:56.384Z"
   },
   {
    "duration": 13,
    "start_time": "2021-10-19T09:43:56.397Z"
   },
   {
    "duration": 9,
    "start_time": "2021-10-19T09:43:56.412Z"
   },
   {
    "duration": 48,
    "start_time": "2021-10-19T09:43:56.424Z"
   },
   {
    "duration": 20,
    "start_time": "2021-10-19T09:43:56.475Z"
   },
   {
    "duration": 9,
    "start_time": "2021-10-19T09:43:56.498Z"
   },
   {
    "duration": 17,
    "start_time": "2021-10-19T09:43:56.510Z"
   },
   {
    "duration": 61,
    "start_time": "2021-10-19T09:43:56.529Z"
   },
   {
    "duration": 12,
    "start_time": "2021-10-19T09:44:03.282Z"
   },
   {
    "duration": 81,
    "start_time": "2021-10-19T09:44:19.830Z"
   },
   {
    "duration": 22,
    "start_time": "2021-10-19T09:44:19.915Z"
   },
   {
    "duration": 36,
    "start_time": "2021-10-19T09:44:19.941Z"
   },
   {
    "duration": 10,
    "start_time": "2021-10-19T09:44:19.981Z"
   },
   {
    "duration": 10,
    "start_time": "2021-10-19T09:44:19.993Z"
   },
   {
    "duration": 13,
    "start_time": "2021-10-19T09:44:20.006Z"
   },
   {
    "duration": 51,
    "start_time": "2021-10-19T09:44:20.022Z"
   },
   {
    "duration": 13,
    "start_time": "2021-10-19T09:44:20.076Z"
   },
   {
    "duration": 10,
    "start_time": "2021-10-19T09:44:20.095Z"
   },
   {
    "duration": 23,
    "start_time": "2021-10-19T09:44:20.109Z"
   },
   {
    "duration": 43,
    "start_time": "2021-10-19T09:44:20.135Z"
   },
   {
    "duration": 15,
    "start_time": "2021-10-19T09:44:20.182Z"
   },
   {
    "duration": 15,
    "start_time": "2021-10-19T09:44:20.200Z"
   },
   {
    "duration": 10,
    "start_time": "2021-10-19T09:44:20.218Z"
   },
   {
    "duration": 39,
    "start_time": "2021-10-19T09:44:20.230Z"
   },
   {
    "duration": 11,
    "start_time": "2021-10-19T09:44:20.273Z"
   },
   {
    "duration": 7,
    "start_time": "2021-10-19T09:44:20.287Z"
   },
   {
    "duration": 20,
    "start_time": "2021-10-19T09:44:20.297Z"
   },
   {
    "duration": 55,
    "start_time": "2021-10-19T09:44:20.320Z"
   },
   {
    "duration": 15,
    "start_time": "2021-10-19T09:44:20.379Z"
   },
   {
    "duration": 74,
    "start_time": "2021-10-19T09:44:20.397Z"
   },
   {
    "duration": 24,
    "start_time": "2021-10-19T09:45:10.721Z"
   },
   {
    "duration": 38,
    "start_time": "2021-10-19T09:45:36.721Z"
   },
   {
    "duration": 34,
    "start_time": "2021-10-19T09:45:45.261Z"
   },
   {
    "duration": 382,
    "start_time": "2021-10-19T09:51:14.070Z"
   },
   {
    "duration": 62,
    "start_time": "2021-10-19T09:52:26.329Z"
   },
   {
    "duration": 55,
    "start_time": "2021-10-19T09:52:44.822Z"
   },
   {
    "duration": 26,
    "start_time": "2021-10-19T09:53:07.212Z"
   },
   {
    "duration": 22,
    "start_time": "2021-10-19T09:53:17.038Z"
   },
   {
    "duration": 65,
    "start_time": "2021-10-19T09:53:45.323Z"
   },
   {
    "duration": 14,
    "start_time": "2021-10-19T09:53:45.391Z"
   },
   {
    "duration": 20,
    "start_time": "2021-10-19T09:53:45.408Z"
   },
   {
    "duration": 38,
    "start_time": "2021-10-19T09:53:45.431Z"
   },
   {
    "duration": 12,
    "start_time": "2021-10-19T09:53:45.473Z"
   },
   {
    "duration": 24,
    "start_time": "2021-10-19T09:53:45.487Z"
   },
   {
    "duration": 14,
    "start_time": "2021-10-19T09:53:45.514Z"
   },
   {
    "duration": 11,
    "start_time": "2021-10-19T09:53:45.567Z"
   },
   {
    "duration": 10,
    "start_time": "2021-10-19T09:53:45.583Z"
   },
   {
    "duration": 16,
    "start_time": "2021-10-19T09:53:45.597Z"
   },
   {
    "duration": 50,
    "start_time": "2021-10-19T09:53:45.616Z"
   },
   {
    "duration": 11,
    "start_time": "2021-10-19T09:53:45.669Z"
   },
   {
    "duration": 10,
    "start_time": "2021-10-19T09:53:45.683Z"
   },
   {
    "duration": 9,
    "start_time": "2021-10-19T09:53:45.695Z"
   },
   {
    "duration": 7,
    "start_time": "2021-10-19T09:53:45.707Z"
   },
   {
    "duration": 57,
    "start_time": "2021-10-19T09:53:45.717Z"
   },
   {
    "duration": 8,
    "start_time": "2021-10-19T09:53:45.776Z"
   },
   {
    "duration": 16,
    "start_time": "2021-10-19T09:53:45.787Z"
   },
   {
    "duration": 101,
    "start_time": "2021-10-19T09:53:45.806Z"
   },
   {
    "duration": 1145,
    "start_time": "2021-10-19T09:53:45.910Z"
   },
   {
    "duration": 97,
    "start_time": "2021-10-19T09:53:46.961Z"
   },
   {
    "duration": 94,
    "start_time": "2021-10-19T09:53:46.965Z"
   },
   {
    "duration": 92,
    "start_time": "2021-10-19T09:53:46.969Z"
   },
   {
    "duration": 35,
    "start_time": "2021-10-19T09:55:16.121Z"
   },
   {
    "duration": 63,
    "start_time": "2021-10-19T09:55:24.695Z"
   },
   {
    "duration": 17,
    "start_time": "2021-10-19T09:55:24.760Z"
   },
   {
    "duration": 23,
    "start_time": "2021-10-19T09:55:24.780Z"
   },
   {
    "duration": 8,
    "start_time": "2021-10-19T09:55:24.806Z"
   },
   {
    "duration": 10,
    "start_time": "2021-10-19T09:55:24.817Z"
   },
   {
    "duration": 54,
    "start_time": "2021-10-19T09:55:24.829Z"
   },
   {
    "duration": 11,
    "start_time": "2021-10-19T09:55:24.886Z"
   },
   {
    "duration": 10,
    "start_time": "2021-10-19T09:55:24.899Z"
   },
   {
    "duration": 9,
    "start_time": "2021-10-19T09:55:24.915Z"
   },
   {
    "duration": 52,
    "start_time": "2021-10-19T09:55:24.928Z"
   },
   {
    "duration": 12,
    "start_time": "2021-10-19T09:55:24.983Z"
   },
   {
    "duration": 10,
    "start_time": "2021-10-19T09:55:24.997Z"
   },
   {
    "duration": 11,
    "start_time": "2021-10-19T09:55:25.010Z"
   },
   {
    "duration": 52,
    "start_time": "2021-10-19T09:55:25.024Z"
   },
   {
    "duration": 15,
    "start_time": "2021-10-19T09:55:25.079Z"
   },
   {
    "duration": 10,
    "start_time": "2021-10-19T09:55:25.097Z"
   },
   {
    "duration": 10,
    "start_time": "2021-10-19T09:55:25.110Z"
   },
   {
    "duration": 21,
    "start_time": "2021-10-19T09:55:25.122Z"
   },
   {
    "duration": 144,
    "start_time": "2021-10-19T09:55:25.147Z"
   },
   {
    "duration": 25,
    "start_time": "2021-10-19T09:55:25.294Z"
   },
   {
    "duration": 72,
    "start_time": "2021-10-19T09:55:25.321Z"
   },
   {
    "duration": 41,
    "start_time": "2021-10-19T09:55:25.396Z"
   },
   {
    "duration": 398,
    "start_time": "2021-10-19T09:55:25.440Z"
   },
   {
    "duration": 75,
    "start_time": "2021-10-19T09:56:12.841Z"
   },
   {
    "duration": 15,
    "start_time": "2021-10-19T09:56:12.918Z"
   },
   {
    "duration": 42,
    "start_time": "2021-10-19T09:56:12.936Z"
   },
   {
    "duration": 11,
    "start_time": "2021-10-19T09:56:12.981Z"
   },
   {
    "duration": 11,
    "start_time": "2021-10-19T09:56:12.995Z"
   },
   {
    "duration": 15,
    "start_time": "2021-10-19T09:56:13.009Z"
   },
   {
    "duration": 48,
    "start_time": "2021-10-19T09:56:13.027Z"
   },
   {
    "duration": 10,
    "start_time": "2021-10-19T09:56:13.082Z"
   },
   {
    "duration": 12,
    "start_time": "2021-10-19T09:56:13.099Z"
   },
   {
    "duration": 12,
    "start_time": "2021-10-19T09:56:13.115Z"
   },
   {
    "duration": 10,
    "start_time": "2021-10-19T09:56:13.168Z"
   },
   {
    "duration": 21,
    "start_time": "2021-10-19T09:56:13.180Z"
   },
   {
    "duration": 9,
    "start_time": "2021-10-19T09:56:13.203Z"
   },
   {
    "duration": 25,
    "start_time": "2021-10-19T09:56:13.214Z"
   },
   {
    "duration": 30,
    "start_time": "2021-10-19T09:56:13.242Z"
   },
   {
    "duration": 10,
    "start_time": "2021-10-19T09:56:13.275Z"
   },
   {
    "duration": 12,
    "start_time": "2021-10-19T09:56:13.288Z"
   },
   {
    "duration": 25,
    "start_time": "2021-10-19T09:56:13.303Z"
   },
   {
    "duration": 62,
    "start_time": "2021-10-19T09:56:13.331Z"
   },
   {
    "duration": 16,
    "start_time": "2021-10-19T09:56:13.396Z"
   },
   {
    "duration": 56,
    "start_time": "2021-10-19T09:56:13.415Z"
   },
   {
    "duration": 43,
    "start_time": "2021-10-19T09:56:13.474Z"
   },
   {
    "duration": 320,
    "start_time": "2021-10-19T09:56:13.520Z"
   },
   {
    "duration": 249,
    "start_time": "2021-10-19T10:02:27.749Z"
   },
   {
    "duration": 70,
    "start_time": "2021-10-19T10:02:42.070Z"
   },
   {
    "duration": 14,
    "start_time": "2021-10-19T10:02:42.143Z"
   },
   {
    "duration": 24,
    "start_time": "2021-10-19T10:02:42.169Z"
   },
   {
    "duration": 9,
    "start_time": "2021-10-19T10:02:42.196Z"
   },
   {
    "duration": 16,
    "start_time": "2021-10-19T10:02:42.207Z"
   },
   {
    "duration": 60,
    "start_time": "2021-10-19T10:02:42.225Z"
   },
   {
    "duration": 12,
    "start_time": "2021-10-19T10:02:42.288Z"
   },
   {
    "duration": 11,
    "start_time": "2021-10-19T10:02:42.305Z"
   },
   {
    "duration": 12,
    "start_time": "2021-10-19T10:02:42.319Z"
   },
   {
    "duration": 39,
    "start_time": "2021-10-19T10:02:42.333Z"
   },
   {
    "duration": 20,
    "start_time": "2021-10-19T10:02:42.375Z"
   },
   {
    "duration": 11,
    "start_time": "2021-10-19T10:02:42.398Z"
   },
   {
    "duration": 9,
    "start_time": "2021-10-19T10:02:42.411Z"
   },
   {
    "duration": 54,
    "start_time": "2021-10-19T10:02:42.422Z"
   },
   {
    "duration": 6,
    "start_time": "2021-10-19T10:02:42.483Z"
   },
   {
    "duration": 11,
    "start_time": "2021-10-19T10:02:42.491Z"
   },
   {
    "duration": 14,
    "start_time": "2021-10-19T10:02:42.504Z"
   },
   {
    "duration": 20,
    "start_time": "2021-10-19T10:02:42.520Z"
   },
   {
    "duration": 61,
    "start_time": "2021-10-19T10:02:42.543Z"
   },
   {
    "duration": 16,
    "start_time": "2021-10-19T10:02:42.607Z"
   },
   {
    "duration": 62,
    "start_time": "2021-10-19T10:02:42.625Z"
   },
   {
    "duration": 27,
    "start_time": "2021-10-19T10:02:42.689Z"
   },
   {
    "duration": 264,
    "start_time": "2021-10-19T10:02:42.721Z"
   },
   {
    "duration": 276,
    "start_time": "2021-10-19T10:06:24.910Z"
   },
   {
    "duration": 95,
    "start_time": "2021-10-19T10:25:40.419Z"
   },
   {
    "duration": 318,
    "start_time": "2021-10-19T10:29:52.535Z"
   },
   {
    "duration": 816,
    "start_time": "2021-10-19T10:29:56.299Z"
   },
   {
    "duration": 931,
    "start_time": "2021-10-19T10:30:21.610Z"
   },
   {
    "duration": 16,
    "start_time": "2021-10-19T10:30:22.544Z"
   },
   {
    "duration": 37,
    "start_time": "2021-10-19T10:30:22.567Z"
   },
   {
    "duration": 7,
    "start_time": "2021-10-19T10:30:22.607Z"
   },
   {
    "duration": 14,
    "start_time": "2021-10-19T10:30:22.617Z"
   },
   {
    "duration": 10,
    "start_time": "2021-10-19T10:30:22.676Z"
   },
   {
    "duration": 12,
    "start_time": "2021-10-19T10:30:22.689Z"
   },
   {
    "duration": 12,
    "start_time": "2021-10-19T10:30:22.704Z"
   },
   {
    "duration": 48,
    "start_time": "2021-10-19T10:30:22.721Z"
   },
   {
    "duration": 14,
    "start_time": "2021-10-19T10:30:22.774Z"
   },
   {
    "duration": 8,
    "start_time": "2021-10-19T10:30:22.791Z"
   },
   {
    "duration": 14,
    "start_time": "2021-10-19T10:30:22.801Z"
   },
   {
    "duration": 51,
    "start_time": "2021-10-19T10:30:22.818Z"
   },
   {
    "duration": 11,
    "start_time": "2021-10-19T10:30:22.873Z"
   },
   {
    "duration": 16,
    "start_time": "2021-10-19T10:30:22.886Z"
   },
   {
    "duration": 13,
    "start_time": "2021-10-19T10:30:22.905Z"
   },
   {
    "duration": 9,
    "start_time": "2021-10-19T10:30:22.921Z"
   },
   {
    "duration": 53,
    "start_time": "2021-10-19T10:30:22.932Z"
   },
   {
    "duration": 39,
    "start_time": "2021-10-19T10:30:22.988Z"
   },
   {
    "duration": 78,
    "start_time": "2021-10-19T10:30:23.030Z"
   },
   {
    "duration": 31,
    "start_time": "2021-10-19T10:30:23.111Z"
   },
   {
    "duration": 41,
    "start_time": "2021-10-19T10:30:23.144Z"
   },
   {
    "duration": 8,
    "start_time": "2021-10-19T10:30:23.188Z"
   },
   {
    "duration": 19,
    "start_time": "2021-10-19T10:32:09.967Z"
   },
   {
    "duration": 15,
    "start_time": "2021-10-19T10:34:03.079Z"
   },
   {
    "duration": 15,
    "start_time": "2021-10-19T10:34:28.559Z"
   },
   {
    "duration": 20,
    "start_time": "2021-10-19T10:34:34.288Z"
   },
   {
    "duration": 68,
    "start_time": "2021-10-19T10:34:53.949Z"
   },
   {
    "duration": 16,
    "start_time": "2021-10-19T10:34:54.020Z"
   },
   {
    "duration": 47,
    "start_time": "2021-10-19T10:34:54.039Z"
   },
   {
    "duration": 13,
    "start_time": "2021-10-19T10:34:54.089Z"
   },
   {
    "duration": 13,
    "start_time": "2021-10-19T10:34:54.105Z"
   },
   {
    "duration": 12,
    "start_time": "2021-10-19T10:34:54.121Z"
   },
   {
    "duration": 12,
    "start_time": "2021-10-19T10:34:54.176Z"
   },
   {
    "duration": 10,
    "start_time": "2021-10-19T10:34:54.190Z"
   },
   {
    "duration": 9,
    "start_time": "2021-10-19T10:34:54.204Z"
   },
   {
    "duration": 11,
    "start_time": "2021-10-19T10:34:54.215Z"
   },
   {
    "duration": 50,
    "start_time": "2021-10-19T10:34:54.228Z"
   },
   {
    "duration": 10,
    "start_time": "2021-10-19T10:34:54.281Z"
   },
   {
    "duration": 11,
    "start_time": "2021-10-19T10:34:54.294Z"
   },
   {
    "duration": 8,
    "start_time": "2021-10-19T10:34:54.308Z"
   },
   {
    "duration": 7,
    "start_time": "2021-10-19T10:34:54.318Z"
   },
   {
    "duration": 48,
    "start_time": "2021-10-19T10:34:54.328Z"
   },
   {
    "duration": 9,
    "start_time": "2021-10-19T10:34:54.379Z"
   },
   {
    "duration": 22,
    "start_time": "2021-10-19T10:34:54.391Z"
   },
   {
    "duration": 79,
    "start_time": "2021-10-19T10:34:54.416Z"
   },
   {
    "duration": 16,
    "start_time": "2021-10-19T10:34:54.497Z"
   },
   {
    "duration": 369,
    "start_time": "2021-10-19T10:34:54.516Z"
   },
   {
    "duration": 401,
    "start_time": "2021-10-19T10:34:54.488Z"
   },
   {
    "duration": 383,
    "start_time": "2021-10-19T10:34:54.507Z"
   },
   {
    "duration": 23,
    "start_time": "2021-10-19T10:35:19.200Z"
   },
   {
    "duration": 63,
    "start_time": "2021-10-19T10:37:38.008Z"
   },
   {
    "duration": 15,
    "start_time": "2021-10-19T10:37:38.074Z"
   },
   {
    "duration": 21,
    "start_time": "2021-10-19T10:37:38.093Z"
   },
   {
    "duration": 10,
    "start_time": "2021-10-19T10:37:38.118Z"
   },
   {
    "duration": 14,
    "start_time": "2021-10-19T10:37:38.169Z"
   },
   {
    "duration": 10,
    "start_time": "2021-10-19T10:37:38.186Z"
   },
   {
    "duration": 11,
    "start_time": "2021-10-19T10:37:38.199Z"
   },
   {
    "duration": 53,
    "start_time": "2021-10-19T10:37:38.213Z"
   },
   {
    "duration": 10,
    "start_time": "2021-10-19T10:37:38.270Z"
   },
   {
    "duration": 13,
    "start_time": "2021-10-19T10:37:38.282Z"
   },
   {
    "duration": 10,
    "start_time": "2021-10-19T10:37:38.297Z"
   },
   {
    "duration": 9,
    "start_time": "2021-10-19T10:37:38.310Z"
   },
   {
    "duration": 48,
    "start_time": "2021-10-19T10:37:38.323Z"
   },
   {
    "duration": 7,
    "start_time": "2021-10-19T10:37:38.374Z"
   },
   {
    "duration": 9,
    "start_time": "2021-10-19T10:37:38.383Z"
   },
   {
    "duration": 9,
    "start_time": "2021-10-19T10:37:38.394Z"
   },
   {
    "duration": 8,
    "start_time": "2021-10-19T10:37:38.405Z"
   },
   {
    "duration": 60,
    "start_time": "2021-10-19T10:37:38.415Z"
   },
   {
    "duration": 37,
    "start_time": "2021-10-19T10:37:38.477Z"
   },
   {
    "duration": 9,
    "start_time": "2021-10-19T10:37:38.517Z"
   },
   {
    "duration": 53,
    "start_time": "2021-10-19T10:37:38.528Z"
   },
   {
    "duration": 17,
    "start_time": "2021-10-19T10:37:38.584Z"
   },
   {
    "duration": 25,
    "start_time": "2021-10-19T10:37:38.604Z"
   },
   {
    "duration": 47,
    "start_time": "2021-10-19T10:37:38.631Z"
   },
   {
    "duration": 8,
    "start_time": "2021-10-19T10:38:37.288Z"
   },
   {
    "duration": 64,
    "start_time": "2021-10-19T10:38:45.149Z"
   },
   {
    "duration": 18,
    "start_time": "2021-10-19T10:38:45.216Z"
   },
   {
    "duration": 49,
    "start_time": "2021-10-19T10:38:45.238Z"
   },
   {
    "duration": 10,
    "start_time": "2021-10-19T10:38:45.290Z"
   },
   {
    "duration": 15,
    "start_time": "2021-10-19T10:38:45.303Z"
   },
   {
    "duration": 51,
    "start_time": "2021-10-19T10:38:45.321Z"
   },
   {
    "duration": 10,
    "start_time": "2021-10-19T10:38:45.375Z"
   },
   {
    "duration": 11,
    "start_time": "2021-10-19T10:38:45.389Z"
   },
   {
    "duration": 9,
    "start_time": "2021-10-19T10:38:45.404Z"
   },
   {
    "duration": 53,
    "start_time": "2021-10-19T10:38:45.416Z"
   },
   {
    "duration": 16,
    "start_time": "2021-10-19T10:38:45.471Z"
   },
   {
    "duration": 11,
    "start_time": "2021-10-19T10:38:45.489Z"
   },
   {
    "duration": 10,
    "start_time": "2021-10-19T10:38:45.503Z"
   },
   {
    "duration": 10,
    "start_time": "2021-10-19T10:38:45.516Z"
   },
   {
    "duration": 46,
    "start_time": "2021-10-19T10:38:45.528Z"
   },
   {
    "duration": 9,
    "start_time": "2021-10-19T10:38:45.578Z"
   },
   {
    "duration": 9,
    "start_time": "2021-10-19T10:38:45.590Z"
   },
   {
    "duration": 10,
    "start_time": "2021-10-19T10:38:45.601Z"
   },
   {
    "duration": 71,
    "start_time": "2021-10-19T10:38:45.613Z"
   },
   {
    "duration": 43,
    "start_time": "2021-10-19T10:38:45.687Z"
   },
   {
    "duration": 46,
    "start_time": "2021-10-19T10:38:45.732Z"
   },
   {
    "duration": 26,
    "start_time": "2021-10-19T10:38:45.782Z"
   },
   {
    "duration": 58,
    "start_time": "2021-10-19T10:38:45.811Z"
   },
   {
    "duration": 12,
    "start_time": "2021-10-19T10:38:45.872Z"
   },
   {
    "duration": 63,
    "start_time": "2021-10-19T10:39:41.981Z"
   },
   {
    "duration": 15,
    "start_time": "2021-10-19T10:39:42.047Z"
   },
   {
    "duration": 20,
    "start_time": "2021-10-19T10:39:42.069Z"
   },
   {
    "duration": 10,
    "start_time": "2021-10-19T10:39:42.092Z"
   },
   {
    "duration": 17,
    "start_time": "2021-10-19T10:39:42.104Z"
   },
   {
    "duration": 39,
    "start_time": "2021-10-19T10:39:42.128Z"
   },
   {
    "duration": 10,
    "start_time": "2021-10-19T10:39:42.170Z"
   },
   {
    "duration": 8,
    "start_time": "2021-10-19T10:39:42.184Z"
   },
   {
    "duration": 11,
    "start_time": "2021-10-19T10:39:42.194Z"
   },
   {
    "duration": 16,
    "start_time": "2021-10-19T10:39:42.207Z"
   },
   {
    "duration": 12,
    "start_time": "2021-10-19T10:39:42.268Z"
   },
   {
    "duration": 12,
    "start_time": "2021-10-19T10:39:42.283Z"
   },
   {
    "duration": 9,
    "start_time": "2021-10-19T10:39:42.300Z"
   },
   {
    "duration": 59,
    "start_time": "2021-10-19T10:39:42.313Z"
   },
   {
    "duration": 13,
    "start_time": "2021-10-19T10:39:42.374Z"
   },
   {
    "duration": 8,
    "start_time": "2021-10-19T10:39:42.390Z"
   },
   {
    "duration": 7,
    "start_time": "2021-10-19T10:39:42.401Z"
   },
   {
    "duration": 6,
    "start_time": "2021-10-19T10:39:42.411Z"
   },
   {
    "duration": 49,
    "start_time": "2021-10-19T10:39:42.419Z"
   },
   {
    "duration": 8,
    "start_time": "2021-10-19T10:39:42.470Z"
   },
   {
    "duration": 16,
    "start_time": "2021-10-19T10:39:42.480Z"
   },
   {
    "duration": 70,
    "start_time": "2021-10-19T10:39:42.498Z"
   },
   {
    "duration": 8,
    "start_time": "2021-10-19T10:39:42.571Z"
   },
   {
    "duration": 16,
    "start_time": "2021-10-19T10:39:42.583Z"
   },
   {
    "duration": 17,
    "start_time": "2021-10-19T10:39:42.602Z"
   },
   {
    "duration": 65,
    "start_time": "2021-10-19T10:39:42.621Z"
   },
   {
    "duration": 12,
    "start_time": "2021-10-19T10:39:42.689Z"
   },
   {
    "duration": 61,
    "start_time": "2021-10-19T10:41:27.629Z"
   },
   {
    "duration": 14,
    "start_time": "2021-10-19T10:41:27.693Z"
   },
   {
    "duration": 22,
    "start_time": "2021-10-19T10:41:27.710Z"
   },
   {
    "duration": 34,
    "start_time": "2021-10-19T10:41:27.735Z"
   },
   {
    "duration": 11,
    "start_time": "2021-10-19T10:41:27.772Z"
   },
   {
    "duration": 13,
    "start_time": "2021-10-19T10:41:27.786Z"
   },
   {
    "duration": 10,
    "start_time": "2021-10-19T10:41:27.801Z"
   },
   {
    "duration": 9,
    "start_time": "2021-10-19T10:41:27.813Z"
   },
   {
    "duration": 51,
    "start_time": "2021-10-19T10:41:27.825Z"
   },
   {
    "duration": 11,
    "start_time": "2021-10-19T10:41:27.879Z"
   },
   {
    "duration": 18,
    "start_time": "2021-10-19T10:41:27.892Z"
   },
   {
    "duration": 11,
    "start_time": "2021-10-19T10:41:27.912Z"
   },
   {
    "duration": 46,
    "start_time": "2021-10-19T10:41:27.926Z"
   },
   {
    "duration": 8,
    "start_time": "2021-10-19T10:41:27.974Z"
   },
   {
    "duration": 12,
    "start_time": "2021-10-19T10:41:27.984Z"
   },
   {
    "duration": 12,
    "start_time": "2021-10-19T10:41:27.998Z"
   },
   {
    "duration": 15,
    "start_time": "2021-10-19T10:41:28.013Z"
   },
   {
    "duration": 21,
    "start_time": "2021-10-19T10:41:28.067Z"
   },
   {
    "duration": 51,
    "start_time": "2021-10-19T10:41:28.091Z"
   },
   {
    "duration": 42,
    "start_time": "2021-10-19T10:41:28.145Z"
   },
   {
    "duration": 10,
    "start_time": "2021-10-19T10:41:28.190Z"
   },
   {
    "duration": 23,
    "start_time": "2021-10-19T10:41:28.203Z"
   },
   {
    "duration": 57,
    "start_time": "2021-10-19T10:41:28.229Z"
   },
   {
    "duration": 26,
    "start_time": "2021-10-19T10:41:28.289Z"
   },
   {
    "duration": 51,
    "start_time": "2021-10-19T10:41:28.318Z"
   },
   {
    "duration": 71,
    "start_time": "2021-10-19T10:46:58.341Z"
   },
   {
    "duration": 15,
    "start_time": "2021-10-19T10:46:58.415Z"
   },
   {
    "duration": 19,
    "start_time": "2021-10-19T10:46:58.433Z"
   },
   {
    "duration": 8,
    "start_time": "2021-10-19T10:46:58.473Z"
   },
   {
    "duration": 16,
    "start_time": "2021-10-19T10:46:58.483Z"
   },
   {
    "duration": 26,
    "start_time": "2021-10-19T10:46:58.502Z"
   },
   {
    "duration": 44,
    "start_time": "2021-10-19T10:46:58.530Z"
   },
   {
    "duration": 11,
    "start_time": "2021-10-19T10:46:58.578Z"
   },
   {
    "duration": 10,
    "start_time": "2021-10-19T10:46:58.593Z"
   },
   {
    "duration": 13,
    "start_time": "2021-10-19T10:46:58.606Z"
   },
   {
    "duration": 65,
    "start_time": "2021-10-19T10:46:58.621Z"
   },
   {
    "duration": 12,
    "start_time": "2021-10-19T10:46:58.688Z"
   },
   {
    "duration": 10,
    "start_time": "2021-10-19T10:46:58.702Z"
   },
   {
    "duration": 8,
    "start_time": "2021-10-19T10:46:58.715Z"
   },
   {
    "duration": 54,
    "start_time": "2021-10-19T10:46:58.725Z"
   },
   {
    "duration": 12,
    "start_time": "2021-10-19T10:46:58.782Z"
   },
   {
    "duration": 7,
    "start_time": "2021-10-19T10:46:58.798Z"
   },
   {
    "duration": 15,
    "start_time": "2021-10-19T10:46:58.808Z"
   },
   {
    "duration": 315,
    "start_time": "2021-10-19T10:46:58.826Z"
   },
   {
    "duration": 425,
    "start_time": "2021-10-19T10:46:58.719Z"
   },
   {
    "duration": 421,
    "start_time": "2021-10-19T10:46:58.725Z"
   },
   {
    "duration": 418,
    "start_time": "2021-10-19T10:46:58.730Z"
   },
   {
    "duration": 414,
    "start_time": "2021-10-19T10:46:58.736Z"
   },
   {
    "duration": 409,
    "start_time": "2021-10-19T10:46:58.743Z"
   },
   {
    "duration": 404,
    "start_time": "2021-10-19T10:46:58.750Z"
   },
   {
    "duration": 34,
    "start_time": "2021-10-19T10:47:56.608Z"
   },
   {
    "duration": 16,
    "start_time": "2021-10-19T10:48:00.787Z"
   },
   {
    "duration": 36,
    "start_time": "2021-10-19T10:49:41.160Z"
   },
   {
    "duration": 60,
    "start_time": "2021-10-19T10:53:08.685Z"
   },
   {
    "duration": 16,
    "start_time": "2021-10-19T10:53:08.748Z"
   },
   {
    "duration": 23,
    "start_time": "2021-10-19T10:53:08.772Z"
   },
   {
    "duration": 9,
    "start_time": "2021-10-19T10:53:08.797Z"
   },
   {
    "duration": 12,
    "start_time": "2021-10-19T10:53:08.808Z"
   },
   {
    "duration": 9,
    "start_time": "2021-10-19T10:53:08.823Z"
   },
   {
    "duration": 15,
    "start_time": "2021-10-19T10:53:08.867Z"
   },
   {
    "duration": 9,
    "start_time": "2021-10-19T10:53:08.888Z"
   },
   {
    "duration": 10,
    "start_time": "2021-10-19T10:53:08.903Z"
   },
   {
    "duration": 12,
    "start_time": "2021-10-19T10:53:08.915Z"
   },
   {
    "duration": 11,
    "start_time": "2021-10-19T10:53:08.967Z"
   },
   {
    "duration": 15,
    "start_time": "2021-10-19T10:53:08.981Z"
   },
   {
    "duration": 14,
    "start_time": "2021-10-19T10:53:08.998Z"
   },
   {
    "duration": 7,
    "start_time": "2021-10-19T10:53:09.015Z"
   },
   {
    "duration": 46,
    "start_time": "2021-10-19T10:53:09.024Z"
   },
   {
    "duration": 14,
    "start_time": "2021-10-19T10:53:09.074Z"
   },
   {
    "duration": 8,
    "start_time": "2021-10-19T10:53:09.090Z"
   },
   {
    "duration": 16,
    "start_time": "2021-10-19T10:53:09.101Z"
   },
   {
    "duration": 51,
    "start_time": "2021-10-19T10:53:09.121Z"
   },
   {
    "duration": 23,
    "start_time": "2021-10-19T10:53:09.175Z"
   },
   {
    "duration": 16,
    "start_time": "2021-10-19T10:53:09.200Z"
   },
   {
    "duration": 57,
    "start_time": "2021-10-19T10:53:09.218Z"
   },
   {
    "duration": 14,
    "start_time": "2021-10-19T10:53:09.278Z"
   },
   {
    "duration": 104,
    "start_time": "2021-10-19T10:58:03.597Z"
   },
   {
    "duration": 11,
    "start_time": "2021-10-19T10:58:35.288Z"
   },
   {
    "duration": 61,
    "start_time": "2021-10-19T10:58:47.857Z"
   },
   {
    "duration": 15,
    "start_time": "2021-10-19T10:58:47.921Z"
   },
   {
    "duration": 40,
    "start_time": "2021-10-19T10:58:47.939Z"
   },
   {
    "duration": 12,
    "start_time": "2021-10-19T10:58:47.983Z"
   },
   {
    "duration": 11,
    "start_time": "2021-10-19T10:58:47.997Z"
   },
   {
    "duration": 11,
    "start_time": "2021-10-19T10:58:48.010Z"
   },
   {
    "duration": 47,
    "start_time": "2021-10-19T10:58:48.023Z"
   },
   {
    "duration": 11,
    "start_time": "2021-10-19T10:58:48.073Z"
   },
   {
    "duration": 11,
    "start_time": "2021-10-19T10:58:48.088Z"
   },
   {
    "duration": 14,
    "start_time": "2021-10-19T10:58:48.102Z"
   },
   {
    "duration": 51,
    "start_time": "2021-10-19T10:58:48.118Z"
   },
   {
    "duration": 10,
    "start_time": "2021-10-19T10:58:48.171Z"
   },
   {
    "duration": 8,
    "start_time": "2021-10-19T10:58:48.184Z"
   },
   {
    "duration": 9,
    "start_time": "2021-10-19T10:58:48.194Z"
   },
   {
    "duration": 8,
    "start_time": "2021-10-19T10:58:48.205Z"
   },
   {
    "duration": 10,
    "start_time": "2021-10-19T10:58:48.215Z"
   },
   {
    "duration": 7,
    "start_time": "2021-10-19T10:58:48.268Z"
   },
   {
    "duration": 18,
    "start_time": "2021-10-19T10:58:48.278Z"
   },
   {
    "duration": 3,
    "start_time": "2021-10-19T10:58:48.299Z"
   },
   {
    "duration": 22,
    "start_time": "2021-10-19T10:58:48.304Z"
   },
   {
    "duration": 49,
    "start_time": "2021-10-19T10:58:48.328Z"
   },
   {
    "duration": 26,
    "start_time": "2021-10-19T10:58:48.380Z"
   },
   {
    "duration": 13,
    "start_time": "2021-10-19T10:58:48.409Z"
   },
   {
    "duration": 40785,
    "start_time": "2021-10-19T11:00:28.469Z"
   },
   {
    "duration": 971,
    "start_time": "2021-10-19T11:03:51.768Z"
   },
   {
    "duration": 25,
    "start_time": "2021-10-19T11:10:30.775Z"
   },
   {
    "duration": 26,
    "start_time": "2021-10-19T11:45:14.183Z"
   },
   {
    "duration": 22,
    "start_time": "2021-10-19T11:45:17.111Z"
   },
   {
    "duration": 27,
    "start_time": "2021-10-19T11:45:48.039Z"
   },
   {
    "duration": 15,
    "start_time": "2021-10-19T11:45:51.650Z"
   },
   {
    "duration": 30,
    "start_time": "2021-10-19T11:46:16.551Z"
   },
   {
    "duration": 25,
    "start_time": "2021-10-19T11:46:38.731Z"
   },
   {
    "duration": 32,
    "start_time": "2021-10-19T11:46:58.651Z"
   },
   {
    "duration": 86,
    "start_time": "2021-10-19T11:47:15.912Z"
   },
   {
    "duration": 15,
    "start_time": "2021-10-19T11:47:16.001Z"
   },
   {
    "duration": 20,
    "start_time": "2021-10-19T11:47:16.019Z"
   },
   {
    "duration": 7,
    "start_time": "2021-10-19T11:47:16.069Z"
   },
   {
    "duration": 14,
    "start_time": "2021-10-19T11:47:16.079Z"
   },
   {
    "duration": 11,
    "start_time": "2021-10-19T11:47:16.095Z"
   },
   {
    "duration": 62,
    "start_time": "2021-10-19T11:47:16.109Z"
   },
   {
    "duration": 13,
    "start_time": "2021-10-19T11:47:16.174Z"
   },
   {
    "duration": 10,
    "start_time": "2021-10-19T11:47:16.191Z"
   },
   {
    "duration": 12,
    "start_time": "2021-10-19T11:47:16.204Z"
   },
   {
    "duration": 52,
    "start_time": "2021-10-19T11:47:16.218Z"
   },
   {
    "duration": 10,
    "start_time": "2021-10-19T11:47:16.272Z"
   },
   {
    "duration": 11,
    "start_time": "2021-10-19T11:47:16.285Z"
   },
   {
    "duration": 7,
    "start_time": "2021-10-19T11:47:16.299Z"
   },
   {
    "duration": 18,
    "start_time": "2021-10-19T11:47:16.308Z"
   },
   {
    "duration": 42,
    "start_time": "2021-10-19T11:47:16.329Z"
   },
   {
    "duration": 19,
    "start_time": "2021-10-19T11:47:16.373Z"
   },
   {
    "duration": 27,
    "start_time": "2021-10-19T11:47:16.394Z"
   },
   {
    "duration": 62,
    "start_time": "2021-10-19T11:47:16.424Z"
   },
   {
    "duration": 21,
    "start_time": "2021-10-19T11:47:16.489Z"
   },
   {
    "duration": 19,
    "start_time": "2021-10-19T11:47:16.513Z"
   },
   {
    "duration": 39,
    "start_time": "2021-10-19T11:47:16.534Z"
   },
   {
    "duration": 24,
    "start_time": "2021-10-19T11:47:16.576Z"
   },
   {
    "duration": 980,
    "start_time": "2021-10-19T11:47:16.603Z"
   },
   {
    "duration": 97,
    "start_time": "2021-10-19T11:48:55.072Z"
   },
   {
    "duration": 16,
    "start_time": "2021-10-19T11:48:55.172Z"
   },
   {
    "duration": 21,
    "start_time": "2021-10-19T11:48:55.192Z"
   },
   {
    "duration": 10,
    "start_time": "2021-10-19T11:48:55.216Z"
   },
   {
    "duration": 41,
    "start_time": "2021-10-19T11:48:55.229Z"
   },
   {
    "duration": 12,
    "start_time": "2021-10-19T11:48:55.272Z"
   },
   {
    "duration": 10,
    "start_time": "2021-10-19T11:48:55.287Z"
   },
   {
    "duration": 10,
    "start_time": "2021-10-19T11:48:55.300Z"
   },
   {
    "duration": 52,
    "start_time": "2021-10-19T11:48:55.314Z"
   },
   {
    "duration": 10,
    "start_time": "2021-10-19T11:48:55.370Z"
   },
   {
    "duration": 10,
    "start_time": "2021-10-19T11:48:55.383Z"
   },
   {
    "duration": 11,
    "start_time": "2021-10-19T11:48:55.395Z"
   },
   {
    "duration": 9,
    "start_time": "2021-10-19T11:48:55.409Z"
   },
   {
    "duration": 49,
    "start_time": "2021-10-19T11:48:55.420Z"
   },
   {
    "duration": 12,
    "start_time": "2021-10-19T11:48:55.471Z"
   },
   {
    "duration": 13,
    "start_time": "2021-10-19T11:48:55.485Z"
   },
   {
    "duration": 8,
    "start_time": "2021-10-19T11:48:55.501Z"
   },
   {
    "duration": 16,
    "start_time": "2021-10-19T11:48:55.511Z"
   },
   {
    "duration": 77,
    "start_time": "2021-10-19T11:48:55.530Z"
   },
   {
    "duration": 38,
    "start_time": "2021-10-19T11:49:17.192Z"
   },
   {
    "duration": 34,
    "start_time": "2021-10-19T11:49:39.812Z"
   },
   {
    "duration": 815,
    "start_time": "2021-10-19T11:51:42.678Z"
   },
   {
    "duration": 18,
    "start_time": "2021-10-19T11:51:43.496Z"
   },
   {
    "duration": 52,
    "start_time": "2021-10-19T11:51:43.517Z"
   },
   {
    "duration": 8,
    "start_time": "2021-10-19T11:51:43.572Z"
   },
   {
    "duration": 11,
    "start_time": "2021-10-19T11:51:43.583Z"
   },
   {
    "duration": 9,
    "start_time": "2021-10-19T11:51:43.597Z"
   },
   {
    "duration": 10,
    "start_time": "2021-10-19T11:51:43.608Z"
   },
   {
    "duration": 51,
    "start_time": "2021-10-19T11:51:43.621Z"
   },
   {
    "duration": 11,
    "start_time": "2021-10-19T11:51:43.677Z"
   },
   {
    "duration": 14,
    "start_time": "2021-10-19T11:51:43.691Z"
   },
   {
    "duration": 10,
    "start_time": "2021-10-19T11:51:43.707Z"
   },
   {
    "duration": 53,
    "start_time": "2021-10-19T11:51:43.720Z"
   },
   {
    "duration": 8,
    "start_time": "2021-10-19T11:51:43.776Z"
   },
   {
    "duration": 13,
    "start_time": "2021-10-19T11:51:43.787Z"
   },
   {
    "duration": 10,
    "start_time": "2021-10-19T11:51:43.802Z"
   },
   {
    "duration": 9,
    "start_time": "2021-10-19T11:51:43.815Z"
   },
   {
    "duration": 9,
    "start_time": "2021-10-19T11:51:43.869Z"
   },
   {
    "duration": 20,
    "start_time": "2021-10-19T11:51:43.881Z"
   },
   {
    "duration": 63,
    "start_time": "2021-10-19T11:51:43.904Z"
   },
   {
    "duration": 38,
    "start_time": "2021-10-19T11:52:05.677Z"
   },
   {
    "duration": 806,
    "start_time": "2021-10-19T11:52:42.962Z"
   },
   {
    "duration": 19,
    "start_time": "2021-10-19T11:52:43.771Z"
   },
   {
    "duration": 31,
    "start_time": "2021-10-19T11:52:43.794Z"
   },
   {
    "duration": 43,
    "start_time": "2021-10-19T11:52:43.828Z"
   },
   {
    "duration": 11,
    "start_time": "2021-10-19T11:52:43.874Z"
   },
   {
    "duration": 9,
    "start_time": "2021-10-19T11:52:43.888Z"
   },
   {
    "duration": 12,
    "start_time": "2021-10-19T11:52:43.900Z"
   },
   {
    "duration": 12,
    "start_time": "2021-10-19T11:52:43.915Z"
   },
   {
    "duration": 10,
    "start_time": "2021-10-19T11:52:43.971Z"
   },
   {
    "duration": 10,
    "start_time": "2021-10-19T11:52:43.984Z"
   },
   {
    "duration": 10,
    "start_time": "2021-10-19T11:52:43.997Z"
   },
   {
    "duration": 57,
    "start_time": "2021-10-19T11:52:44.010Z"
   },
   {
    "duration": 11,
    "start_time": "2021-10-19T11:52:44.071Z"
   },
   {
    "duration": 8,
    "start_time": "2021-10-19T11:52:44.085Z"
   },
   {
    "duration": 8,
    "start_time": "2021-10-19T11:52:44.096Z"
   },
   {
    "duration": 7,
    "start_time": "2021-10-19T11:52:44.106Z"
   },
   {
    "duration": 57,
    "start_time": "2021-10-19T11:52:44.116Z"
   },
   {
    "duration": 28,
    "start_time": "2021-10-19T11:52:44.175Z"
   },
   {
    "duration": 84,
    "start_time": "2021-10-19T11:52:44.206Z"
   },
   {
    "duration": 34,
    "start_time": "2021-10-19T11:53:09.425Z"
   },
   {
    "duration": 64,
    "start_time": "2021-10-19T11:53:21.526Z"
   },
   {
    "duration": 15,
    "start_time": "2021-10-19T11:53:21.593Z"
   },
   {
    "duration": 20,
    "start_time": "2021-10-19T11:53:21.611Z"
   },
   {
    "duration": 37,
    "start_time": "2021-10-19T11:53:21.634Z"
   },
   {
    "duration": 22,
    "start_time": "2021-10-19T11:53:21.673Z"
   },
   {
    "duration": 20,
    "start_time": "2021-10-19T11:53:21.698Z"
   },
   {
    "duration": 10,
    "start_time": "2021-10-19T11:53:21.721Z"
   },
   {
    "duration": 11,
    "start_time": "2021-10-19T11:53:21.733Z"
   },
   {
    "duration": 12,
    "start_time": "2021-10-19T11:53:21.768Z"
   },
   {
    "duration": 19,
    "start_time": "2021-10-19T11:53:21.783Z"
   },
   {
    "duration": 11,
    "start_time": "2021-10-19T11:53:21.804Z"
   },
   {
    "duration": 11,
    "start_time": "2021-10-19T11:53:21.818Z"
   },
   {
    "duration": 9,
    "start_time": "2021-10-19T11:53:21.867Z"
   },
   {
    "duration": 17,
    "start_time": "2021-10-19T11:53:21.878Z"
   },
   {
    "duration": 8,
    "start_time": "2021-10-19T11:53:21.898Z"
   },
   {
    "duration": 9,
    "start_time": "2021-10-19T11:53:21.909Z"
   },
   {
    "duration": 49,
    "start_time": "2021-10-19T11:53:21.921Z"
   },
   {
    "duration": 16,
    "start_time": "2021-10-19T11:53:21.972Z"
   },
   {
    "duration": 32,
    "start_time": "2021-10-19T11:53:27.064Z"
   },
   {
    "duration": 38,
    "start_time": "2021-10-19T11:55:07.653Z"
   },
   {
    "duration": 63,
    "start_time": "2021-10-19T12:12:58.996Z"
   },
   {
    "duration": 16,
    "start_time": "2021-10-19T12:12:59.062Z"
   },
   {
    "duration": 19,
    "start_time": "2021-10-19T12:12:59.081Z"
   },
   {
    "duration": 9,
    "start_time": "2021-10-19T12:12:59.104Z"
   },
   {
    "duration": 11,
    "start_time": "2021-10-19T12:12:59.115Z"
   },
   {
    "duration": 44,
    "start_time": "2021-10-19T12:12:59.128Z"
   },
   {
    "duration": 11,
    "start_time": "2021-10-19T12:12:59.174Z"
   },
   {
    "duration": 10,
    "start_time": "2021-10-19T12:12:59.188Z"
   },
   {
    "duration": 13,
    "start_time": "2021-10-19T12:12:59.202Z"
   },
   {
    "duration": 53,
    "start_time": "2021-10-19T12:12:59.219Z"
   },
   {
    "duration": 11,
    "start_time": "2021-10-19T12:12:59.275Z"
   },
   {
    "duration": 14,
    "start_time": "2021-10-19T12:12:59.289Z"
   },
   {
    "duration": 10,
    "start_time": "2021-10-19T12:12:59.306Z"
   },
   {
    "duration": 49,
    "start_time": "2021-10-19T12:12:59.319Z"
   },
   {
    "duration": 6,
    "start_time": "2021-10-19T12:12:59.371Z"
   },
   {
    "duration": 8,
    "start_time": "2021-10-19T12:12:59.380Z"
   },
   {
    "duration": 8,
    "start_time": "2021-10-19T12:12:59.391Z"
   },
   {
    "duration": 19,
    "start_time": "2021-10-19T12:12:59.401Z"
   },
   {
    "duration": 1330,
    "start_time": "2021-10-19T12:13:06.658Z"
   },
   {
    "duration": 45,
    "start_time": "2021-10-19T12:13:48.566Z"
   },
   {
    "duration": 42,
    "start_time": "2021-10-19T12:14:21.138Z"
   },
   {
    "duration": 17,
    "start_time": "2021-10-19T12:14:34.347Z"
   },
   {
    "duration": 17,
    "start_time": "2021-10-19T12:15:06.966Z"
   },
   {
    "duration": 13,
    "start_time": "2021-10-19T12:15:09.873Z"
   },
   {
    "duration": 25,
    "start_time": "2021-10-19T12:15:13.686Z"
   },
   {
    "duration": 1113,
    "start_time": "2021-10-19T12:16:55.454Z"
   },
   {
    "duration": 26,
    "start_time": "2021-10-19T12:17:23.047Z"
   },
   {
    "duration": 26,
    "start_time": "2021-10-19T12:17:36.838Z"
   },
   {
    "duration": 19,
    "start_time": "2021-10-19T12:24:07.206Z"
   },
   {
    "duration": 5,
    "start_time": "2021-10-19T12:43:43.393Z"
   },
   {
    "duration": 134,
    "start_time": "2021-10-19T12:46:37.945Z"
   },
   {
    "duration": 3788,
    "start_time": "2021-10-19T12:46:42.852Z"
   },
   {
    "duration": 4500,
    "start_time": "2021-10-19T12:48:17.112Z"
   },
   {
    "duration": 4160,
    "start_time": "2021-10-19T12:48:34.452Z"
   },
   {
    "duration": 4276,
    "start_time": "2021-10-19T12:49:02.753Z"
   },
   {
    "duration": 120,
    "start_time": "2021-10-19T13:02:12.515Z"
   },
   {
    "duration": 38,
    "start_time": "2021-10-19T13:02:12.638Z"
   },
   {
    "duration": 28,
    "start_time": "2021-10-19T13:02:12.680Z"
   },
   {
    "duration": 17,
    "start_time": "2021-10-19T13:02:12.711Z"
   },
   {
    "duration": 41,
    "start_time": "2021-10-19T13:02:12.731Z"
   },
   {
    "duration": 11,
    "start_time": "2021-10-19T13:02:12.776Z"
   },
   {
    "duration": 11,
    "start_time": "2021-10-19T13:02:12.789Z"
   },
   {
    "duration": 13,
    "start_time": "2021-10-19T13:02:12.805Z"
   },
   {
    "duration": 53,
    "start_time": "2021-10-19T13:02:12.821Z"
   },
   {
    "duration": 16,
    "start_time": "2021-10-19T13:02:12.877Z"
   },
   {
    "duration": 10,
    "start_time": "2021-10-19T13:02:12.895Z"
   },
   {
    "duration": 29,
    "start_time": "2021-10-19T13:02:12.907Z"
   },
   {
    "duration": 31,
    "start_time": "2021-10-19T13:02:12.938Z"
   },
   {
    "duration": 10,
    "start_time": "2021-10-19T13:02:12.972Z"
   },
   {
    "duration": 8,
    "start_time": "2021-10-19T13:02:12.984Z"
   },
   {
    "duration": 11,
    "start_time": "2021-10-19T13:02:12.995Z"
   },
   {
    "duration": 61,
    "start_time": "2021-10-19T13:02:13.009Z"
   },
   {
    "duration": 15,
    "start_time": "2021-10-19T13:02:13.072Z"
   },
   {
    "duration": 44,
    "start_time": "2021-10-19T13:02:13.089Z"
   },
   {
    "duration": 44,
    "start_time": "2021-10-19T13:02:13.136Z"
   },
   {
    "duration": 19,
    "start_time": "2021-10-19T13:02:13.182Z"
   },
   {
    "duration": 12,
    "start_time": "2021-10-19T13:02:13.204Z"
   },
   {
    "duration": 62,
    "start_time": "2021-10-19T13:02:13.220Z"
   },
   {
    "duration": 1009,
    "start_time": "2021-10-19T13:02:13.285Z"
   },
   {
    "duration": 5,
    "start_time": "2021-10-19T13:02:14.297Z"
   },
   {
    "duration": 4218,
    "start_time": "2021-10-19T13:02:20.215Z"
   },
   {
    "duration": 97,
    "start_time": "2021-10-19T13:26:35.843Z"
   },
   {
    "duration": 15,
    "start_time": "2021-10-19T13:26:35.943Z"
   },
   {
    "duration": 25,
    "start_time": "2021-10-19T13:26:35.970Z"
   },
   {
    "duration": 7,
    "start_time": "2021-10-19T13:26:35.998Z"
   },
   {
    "duration": 14,
    "start_time": "2021-10-19T13:26:36.008Z"
   },
   {
    "duration": 54,
    "start_time": "2021-10-19T13:26:36.024Z"
   },
   {
    "duration": 18,
    "start_time": "2021-10-19T13:26:36.081Z"
   },
   {
    "duration": 23,
    "start_time": "2021-10-19T13:26:36.102Z"
   },
   {
    "duration": 25,
    "start_time": "2021-10-19T13:26:36.129Z"
   },
   {
    "duration": 20,
    "start_time": "2021-10-19T13:26:36.158Z"
   },
   {
    "duration": 10,
    "start_time": "2021-10-19T13:26:36.184Z"
   },
   {
    "duration": 16,
    "start_time": "2021-10-19T13:26:36.196Z"
   },
   {
    "duration": 11,
    "start_time": "2021-10-19T13:26:36.214Z"
   },
   {
    "duration": 50,
    "start_time": "2021-10-19T13:26:36.228Z"
   },
   {
    "duration": 7,
    "start_time": "2021-10-19T13:26:36.281Z"
   },
   {
    "duration": 13,
    "start_time": "2021-10-19T13:26:36.291Z"
   },
   {
    "duration": 8,
    "start_time": "2021-10-19T13:26:36.321Z"
   },
   {
    "duration": 25,
    "start_time": "2021-10-19T13:26:36.331Z"
   },
   {
    "duration": 46,
    "start_time": "2021-10-19T13:26:36.359Z"
   },
   {
    "duration": 16,
    "start_time": "2021-10-19T13:26:36.408Z"
   },
   {
    "duration": 48,
    "start_time": "2021-10-19T13:26:36.428Z"
   },
   {
    "duration": 14,
    "start_time": "2021-10-19T13:26:36.482Z"
   },
   {
    "duration": 28,
    "start_time": "2021-10-19T13:26:36.499Z"
   },
   {
    "duration": 1014,
    "start_time": "2021-10-19T13:26:36.529Z"
   },
   {
    "duration": 5,
    "start_time": "2021-10-19T13:26:37.546Z"
   },
   {
    "duration": 5243,
    "start_time": "2021-10-19T13:26:42.891Z"
   },
   {
    "duration": 104,
    "start_time": "2021-10-19T13:34:22.572Z"
   },
   {
    "duration": 20,
    "start_time": "2021-10-19T13:34:22.679Z"
   },
   {
    "duration": 27,
    "start_time": "2021-10-19T13:34:22.704Z"
   },
   {
    "duration": 48,
    "start_time": "2021-10-19T13:34:22.735Z"
   },
   {
    "duration": 14,
    "start_time": "2021-10-19T13:34:22.786Z"
   },
   {
    "duration": 25,
    "start_time": "2021-10-19T13:34:22.803Z"
   },
   {
    "duration": 26,
    "start_time": "2021-10-19T13:34:22.831Z"
   },
   {
    "duration": 25,
    "start_time": "2021-10-19T13:34:22.860Z"
   },
   {
    "duration": 19,
    "start_time": "2021-10-19T13:34:22.891Z"
   },
   {
    "duration": 21,
    "start_time": "2021-10-19T13:34:22.913Z"
   },
   {
    "duration": 19,
    "start_time": "2021-10-19T13:34:22.937Z"
   },
   {
    "duration": 27,
    "start_time": "2021-10-19T13:34:22.958Z"
   },
   {
    "duration": 31,
    "start_time": "2021-10-19T13:34:22.988Z"
   },
   {
    "duration": 24,
    "start_time": "2021-10-19T13:34:23.022Z"
   },
   {
    "duration": 22,
    "start_time": "2021-10-19T13:34:23.049Z"
   },
   {
    "duration": 28,
    "start_time": "2021-10-19T13:34:23.073Z"
   },
   {
    "duration": 19,
    "start_time": "2021-10-19T13:34:23.103Z"
   },
   {
    "duration": 21,
    "start_time": "2021-10-19T13:34:23.124Z"
   },
   {
    "duration": 42,
    "start_time": "2021-10-19T13:34:23.148Z"
   },
   {
    "duration": 14,
    "start_time": "2021-10-19T13:34:23.192Z"
   },
   {
    "duration": 22,
    "start_time": "2021-10-19T13:34:23.209Z"
   },
   {
    "duration": 45,
    "start_time": "2021-10-19T13:34:23.233Z"
   },
   {
    "duration": 26,
    "start_time": "2021-10-19T13:34:23.281Z"
   },
   {
    "duration": 994,
    "start_time": "2021-10-19T13:34:23.309Z"
   },
   {
    "duration": 95,
    "start_time": "2021-10-19T13:34:24.305Z"
   },
   {
    "duration": 6,
    "start_time": "2021-10-19T13:34:38.671Z"
   },
   {
    "duration": 397,
    "start_time": "2021-10-19T13:34:51.310Z"
   },
   {
    "duration": 94,
    "start_time": "2021-10-19T13:37:58.132Z"
   },
   {
    "duration": 16,
    "start_time": "2021-10-19T13:37:58.229Z"
   },
   {
    "duration": 40,
    "start_time": "2021-10-19T13:37:58.249Z"
   },
   {
    "duration": 8,
    "start_time": "2021-10-19T13:37:58.293Z"
   },
   {
    "duration": 11,
    "start_time": "2021-10-19T13:37:58.304Z"
   },
   {
    "duration": 58,
    "start_time": "2021-10-19T13:37:58.317Z"
   },
   {
    "duration": 13,
    "start_time": "2021-10-19T13:37:58.378Z"
   },
   {
    "duration": 10,
    "start_time": "2021-10-19T13:37:58.393Z"
   },
   {
    "duration": 12,
    "start_time": "2021-10-19T13:37:58.409Z"
   },
   {
    "duration": 50,
    "start_time": "2021-10-19T13:37:58.424Z"
   },
   {
    "duration": 9,
    "start_time": "2021-10-19T13:37:58.476Z"
   },
   {
    "duration": 14,
    "start_time": "2021-10-19T13:37:58.489Z"
   },
   {
    "duration": 9,
    "start_time": "2021-10-19T13:37:58.506Z"
   },
   {
    "duration": 10,
    "start_time": "2021-10-19T13:37:58.518Z"
   },
   {
    "duration": 9,
    "start_time": "2021-10-19T13:37:58.568Z"
   },
   {
    "duration": 7,
    "start_time": "2021-10-19T13:37:58.582Z"
   },
   {
    "duration": 12,
    "start_time": "2021-10-19T13:37:58.592Z"
   },
   {
    "duration": 17,
    "start_time": "2021-10-19T13:37:58.607Z"
   },
   {
    "duration": 42,
    "start_time": "2021-10-19T13:37:58.667Z"
   },
   {
    "duration": 18,
    "start_time": "2021-10-19T13:37:58.712Z"
   },
   {
    "duration": 57,
    "start_time": "2021-10-19T13:37:58.734Z"
   },
   {
    "duration": 11,
    "start_time": "2021-10-19T13:37:58.794Z"
   },
   {
    "duration": 58,
    "start_time": "2021-10-19T13:37:58.808Z"
   },
   {
    "duration": 1011,
    "start_time": "2021-10-19T13:37:58.870Z"
   },
   {
    "duration": 8,
    "start_time": "2021-10-19T13:37:59.883Z"
   },
   {
    "duration": 582,
    "start_time": "2021-10-19T13:38:04.411Z"
   },
   {
    "duration": 6843,
    "start_time": "2021-10-19T13:38:15.551Z"
   },
   {
    "duration": 4069,
    "start_time": "2021-10-19T13:38:37.233Z"
   },
   {
    "duration": 4012,
    "start_time": "2021-10-19T13:40:29.159Z"
   },
   {
    "duration": 80,
    "start_time": "2021-10-19T13:40:38.830Z"
   },
   {
    "duration": 16,
    "start_time": "2021-10-19T13:40:38.912Z"
   },
   {
    "duration": 50,
    "start_time": "2021-10-19T13:40:38.933Z"
   },
   {
    "duration": 13,
    "start_time": "2021-10-19T13:40:38.987Z"
   },
   {
    "duration": 12,
    "start_time": "2021-10-19T13:40:39.003Z"
   },
   {
    "duration": 9,
    "start_time": "2021-10-19T13:40:39.018Z"
   },
   {
    "duration": 40,
    "start_time": "2021-10-19T13:40:39.071Z"
   },
   {
    "duration": 12,
    "start_time": "2021-10-19T13:40:39.114Z"
   },
   {
    "duration": 47,
    "start_time": "2021-10-19T13:40:39.133Z"
   },
   {
    "duration": 16,
    "start_time": "2021-10-19T13:40:39.185Z"
   },
   {
    "duration": 13,
    "start_time": "2021-10-19T13:40:39.205Z"
   },
   {
    "duration": 53,
    "start_time": "2021-10-19T13:40:39.220Z"
   },
   {
    "duration": 18,
    "start_time": "2021-10-19T13:40:39.276Z"
   },
   {
    "duration": 13,
    "start_time": "2021-10-19T13:40:39.297Z"
   },
   {
    "duration": 6,
    "start_time": "2021-10-19T13:40:39.312Z"
   },
   {
    "duration": 55,
    "start_time": "2021-10-19T13:40:39.321Z"
   },
   {
    "duration": 9,
    "start_time": "2021-10-19T13:40:39.381Z"
   },
   {
    "duration": 15,
    "start_time": "2021-10-19T13:40:39.392Z"
   },
   {
    "duration": 70,
    "start_time": "2021-10-19T13:40:39.410Z"
   },
   {
    "duration": 17,
    "start_time": "2021-10-19T13:40:39.483Z"
   },
   {
    "duration": 18,
    "start_time": "2021-10-19T13:40:39.502Z"
   },
   {
    "duration": 49,
    "start_time": "2021-10-19T13:40:39.523Z"
   },
   {
    "duration": 31,
    "start_time": "2021-10-19T13:40:39.575Z"
   },
   {
    "duration": 1082,
    "start_time": "2021-10-19T13:40:39.609Z"
   },
   {
    "duration": 9,
    "start_time": "2021-10-19T13:40:40.697Z"
   },
   {
    "duration": 4424,
    "start_time": "2021-10-19T13:40:43.678Z"
   },
   {
    "duration": 105,
    "start_time": "2021-10-19T13:43:31.232Z"
   },
   {
    "duration": 16,
    "start_time": "2021-10-19T13:43:31.340Z"
   },
   {
    "duration": 44,
    "start_time": "2021-10-19T13:43:31.367Z"
   },
   {
    "duration": 20,
    "start_time": "2021-10-19T13:43:31.415Z"
   },
   {
    "duration": 16,
    "start_time": "2021-10-19T13:43:31.437Z"
   },
   {
    "duration": 18,
    "start_time": "2021-10-19T13:43:31.456Z"
   },
   {
    "duration": 14,
    "start_time": "2021-10-19T13:43:31.476Z"
   },
   {
    "duration": 14,
    "start_time": "2021-10-19T13:43:31.493Z"
   },
   {
    "duration": 15,
    "start_time": "2021-10-19T13:43:31.512Z"
   },
   {
    "duration": 44,
    "start_time": "2021-10-19T13:43:31.530Z"
   },
   {
    "duration": 17,
    "start_time": "2021-10-19T13:43:31.577Z"
   },
   {
    "duration": 13,
    "start_time": "2021-10-19T13:43:31.597Z"
   },
   {
    "duration": 16,
    "start_time": "2021-10-19T13:43:31.613Z"
   },
   {
    "duration": 43,
    "start_time": "2021-10-19T13:43:31.632Z"
   },
   {
    "duration": 7,
    "start_time": "2021-10-19T13:43:31.679Z"
   },
   {
    "duration": 30,
    "start_time": "2021-10-19T13:43:31.688Z"
   },
   {
    "duration": 33,
    "start_time": "2021-10-19T13:43:31.720Z"
   },
   {
    "duration": 40,
    "start_time": "2021-10-19T13:43:31.756Z"
   },
   {
    "duration": 35,
    "start_time": "2021-10-19T13:43:31.799Z"
   },
   {
    "duration": 15,
    "start_time": "2021-10-19T13:43:31.836Z"
   },
   {
    "duration": 34,
    "start_time": "2021-10-19T13:43:31.854Z"
   },
   {
    "duration": 14,
    "start_time": "2021-10-19T13:43:31.890Z"
   },
   {
    "duration": 62,
    "start_time": "2021-10-19T13:43:31.907Z"
   },
   {
    "duration": 990,
    "start_time": "2021-10-19T13:43:31.972Z"
   },
   {
    "duration": 5,
    "start_time": "2021-10-19T13:43:32.968Z"
   },
   {
    "duration": 4181,
    "start_time": "2021-10-19T13:43:37.958Z"
   },
   {
    "duration": 275,
    "start_time": "2021-10-19T13:47:58.025Z"
   },
   {
    "duration": 66,
    "start_time": "2021-10-19T13:54:22.587Z"
   },
   {
    "duration": 24,
    "start_time": "2021-10-19T13:54:22.656Z"
   },
   {
    "duration": 29,
    "start_time": "2021-10-19T13:54:22.683Z"
   },
   {
    "duration": 18,
    "start_time": "2021-10-19T13:54:22.715Z"
   },
   {
    "duration": 56,
    "start_time": "2021-10-19T13:54:22.736Z"
   },
   {
    "duration": 8,
    "start_time": "2021-10-19T13:54:22.794Z"
   },
   {
    "duration": 13,
    "start_time": "2021-10-19T13:54:22.804Z"
   },
   {
    "duration": 18,
    "start_time": "2021-10-19T13:54:22.819Z"
   },
   {
    "duration": 37,
    "start_time": "2021-10-19T13:54:22.842Z"
   },
   {
    "duration": 21,
    "start_time": "2021-10-19T13:54:22.883Z"
   },
   {
    "duration": 11,
    "start_time": "2021-10-19T13:54:22.906Z"
   },
   {
    "duration": 14,
    "start_time": "2021-10-19T13:54:22.920Z"
   },
   {
    "duration": 44,
    "start_time": "2021-10-19T13:54:22.936Z"
   },
   {
    "duration": 17,
    "start_time": "2021-10-19T13:54:22.983Z"
   },
   {
    "duration": 10,
    "start_time": "2021-10-19T13:54:23.003Z"
   },
   {
    "duration": 10,
    "start_time": "2021-10-19T13:54:23.015Z"
   },
   {
    "duration": 10,
    "start_time": "2021-10-19T13:54:23.027Z"
   },
   {
    "duration": 19,
    "start_time": "2021-10-19T13:54:23.071Z"
   },
   {
    "duration": 37,
    "start_time": "2021-10-19T13:54:23.092Z"
   },
   {
    "duration": 41,
    "start_time": "2021-10-19T13:54:23.131Z"
   },
   {
    "duration": 21,
    "start_time": "2021-10-19T13:54:23.174Z"
   },
   {
    "duration": 13,
    "start_time": "2021-10-19T13:54:23.197Z"
   },
   {
    "duration": 60,
    "start_time": "2021-10-19T13:54:23.213Z"
   },
   {
    "duration": 1360,
    "start_time": "2021-10-19T13:54:23.275Z"
   },
   {
    "duration": 6,
    "start_time": "2021-10-19T13:54:24.638Z"
   },
   {
    "duration": 4088,
    "start_time": "2021-10-19T13:54:28.446Z"
   },
   {
    "duration": 100,
    "start_time": "2021-10-19T13:55:35.807Z"
   },
   {
    "duration": 16,
    "start_time": "2021-10-19T13:55:35.910Z"
   },
   {
    "duration": 41,
    "start_time": "2021-10-19T13:55:35.929Z"
   },
   {
    "duration": 11,
    "start_time": "2021-10-19T13:55:35.974Z"
   },
   {
    "duration": 13,
    "start_time": "2021-10-19T13:55:35.987Z"
   },
   {
    "duration": 9,
    "start_time": "2021-10-19T13:55:36.002Z"
   },
   {
    "duration": 58,
    "start_time": "2021-10-19T13:55:36.014Z"
   },
   {
    "duration": 11,
    "start_time": "2021-10-19T13:55:36.075Z"
   },
   {
    "duration": 12,
    "start_time": "2021-10-19T13:55:36.094Z"
   },
   {
    "duration": 10,
    "start_time": "2021-10-19T13:55:36.110Z"
   },
   {
    "duration": 50,
    "start_time": "2021-10-19T13:55:36.123Z"
   },
   {
    "duration": 13,
    "start_time": "2021-10-19T13:55:36.176Z"
   },
   {
    "duration": 8,
    "start_time": "2021-10-19T13:55:36.192Z"
   },
   {
    "duration": 12,
    "start_time": "2021-10-19T13:55:36.202Z"
   },
   {
    "duration": 9,
    "start_time": "2021-10-19T13:55:36.217Z"
   },
   {
    "duration": 48,
    "start_time": "2021-10-19T13:55:36.228Z"
   },
   {
    "duration": 11,
    "start_time": "2021-10-19T13:55:36.278Z"
   },
   {
    "duration": 20,
    "start_time": "2021-10-19T13:55:36.292Z"
   },
   {
    "duration": 73,
    "start_time": "2021-10-19T13:55:36.315Z"
   },
   {
    "duration": 17,
    "start_time": "2021-10-19T13:55:36.391Z"
   },
   {
    "duration": 20,
    "start_time": "2021-10-19T13:55:36.411Z"
   },
   {
    "duration": 40,
    "start_time": "2021-10-19T13:55:36.433Z"
   },
   {
    "duration": 28,
    "start_time": "2021-10-19T13:55:36.477Z"
   },
   {
    "duration": 1016,
    "start_time": "2021-10-19T13:55:36.508Z"
   },
   {
    "duration": 6,
    "start_time": "2021-10-19T13:55:37.527Z"
   },
   {
    "duration": 4081,
    "start_time": "2021-10-19T13:55:37.536Z"
   },
   {
    "duration": 93,
    "start_time": "2021-10-19T13:56:46.447Z"
   },
   {
    "duration": 16,
    "start_time": "2021-10-19T13:56:46.543Z"
   },
   {
    "duration": 34,
    "start_time": "2021-10-19T13:56:46.562Z"
   },
   {
    "duration": 10,
    "start_time": "2021-10-19T13:56:46.599Z"
   },
   {
    "duration": 11,
    "start_time": "2021-10-19T13:56:46.611Z"
   },
   {
    "duration": 48,
    "start_time": "2021-10-19T13:56:46.624Z"
   },
   {
    "duration": 11,
    "start_time": "2021-10-19T13:56:46.674Z"
   },
   {
    "duration": 10,
    "start_time": "2021-10-19T13:56:46.687Z"
   },
   {
    "duration": 11,
    "start_time": "2021-10-19T13:56:46.707Z"
   },
   {
    "duration": 61,
    "start_time": "2021-10-19T13:56:46.720Z"
   },
   {
    "duration": 11,
    "start_time": "2021-10-19T13:56:46.784Z"
   },
   {
    "duration": 15,
    "start_time": "2021-10-19T13:56:46.797Z"
   },
   {
    "duration": 8,
    "start_time": "2021-10-19T13:56:46.814Z"
   },
   {
    "duration": 59,
    "start_time": "2021-10-19T13:56:46.825Z"
   },
   {
    "duration": 6,
    "start_time": "2021-10-19T13:56:46.886Z"
   },
   {
    "duration": 7,
    "start_time": "2021-10-19T13:56:46.895Z"
   },
   {
    "duration": 11,
    "start_time": "2021-10-19T13:56:46.904Z"
   },
   {
    "duration": 62,
    "start_time": "2021-10-19T13:56:46.917Z"
   },
   {
    "duration": 38,
    "start_time": "2021-10-19T13:56:46.981Z"
   },
   {
    "duration": 14,
    "start_time": "2021-10-19T13:56:47.022Z"
   },
   {
    "duration": 45,
    "start_time": "2021-10-19T13:56:47.039Z"
   },
   {
    "duration": 14,
    "start_time": "2021-10-19T13:56:47.086Z"
   },
   {
    "duration": 28,
    "start_time": "2021-10-19T13:56:47.103Z"
   },
   {
    "duration": 1137,
    "start_time": "2021-10-19T13:56:47.138Z"
   },
   {
    "duration": 6,
    "start_time": "2021-10-19T13:56:48.278Z"
   },
   {
    "duration": 4134,
    "start_time": "2021-10-19T13:56:51.845Z"
   },
   {
    "duration": 102,
    "start_time": "2021-10-19T13:58:27.695Z"
   },
   {
    "duration": 18,
    "start_time": "2021-10-19T13:58:27.800Z"
   },
   {
    "duration": 23,
    "start_time": "2021-10-19T13:58:27.822Z"
   },
   {
    "duration": 11,
    "start_time": "2021-10-19T13:58:27.870Z"
   },
   {
    "duration": 11,
    "start_time": "2021-10-19T13:58:27.884Z"
   },
   {
    "duration": 8,
    "start_time": "2021-10-19T13:58:27.897Z"
   },
   {
    "duration": 12,
    "start_time": "2021-10-19T13:58:27.908Z"
   },
   {
    "duration": 11,
    "start_time": "2021-10-19T13:58:27.967Z"
   },
   {
    "duration": 11,
    "start_time": "2021-10-19T13:58:27.985Z"
   },
   {
    "duration": 14,
    "start_time": "2021-10-19T13:58:27.999Z"
   },
   {
    "duration": 13,
    "start_time": "2021-10-19T13:58:28.016Z"
   },
   {
    "duration": 55,
    "start_time": "2021-10-19T13:58:28.032Z"
   },
   {
    "duration": 11,
    "start_time": "2021-10-19T13:58:28.090Z"
   },
   {
    "duration": 9,
    "start_time": "2021-10-19T13:58:28.103Z"
   },
   {
    "duration": 7,
    "start_time": "2021-10-19T13:58:28.114Z"
   },
   {
    "duration": 14,
    "start_time": "2021-10-19T13:58:28.123Z"
   },
   {
    "duration": 11,
    "start_time": "2021-10-19T13:58:28.175Z"
   },
   {
    "duration": 21,
    "start_time": "2021-10-19T13:58:28.188Z"
   },
   {
    "duration": 60,
    "start_time": "2021-10-19T13:58:28.212Z"
   },
   {
    "duration": 20,
    "start_time": "2021-10-19T13:58:28.274Z"
   },
   {
    "duration": 22,
    "start_time": "2021-10-19T13:58:28.296Z"
   },
   {
    "duration": 13,
    "start_time": "2021-10-19T13:58:28.320Z"
   },
   {
    "duration": 31,
    "start_time": "2021-10-19T13:58:28.374Z"
   },
   {
    "duration": 1075,
    "start_time": "2021-10-19T13:58:28.408Z"
   },
   {
    "duration": 5,
    "start_time": "2021-10-19T13:58:29.486Z"
   },
   {
    "duration": 3986,
    "start_time": "2021-10-19T13:58:31.386Z"
   },
   {
    "duration": 6,
    "start_time": "2021-10-19T13:59:26.905Z"
   },
   {
    "duration": 4090,
    "start_time": "2021-10-19T13:59:29.445Z"
   },
   {
    "duration": 7,
    "start_time": "2021-10-19T14:00:08.674Z"
   },
   {
    "duration": 4162,
    "start_time": "2021-10-19T14:00:10.605Z"
   },
   {
    "duration": 6,
    "start_time": "2021-10-19T14:01:45.765Z"
   },
   {
    "duration": 4235,
    "start_time": "2021-10-19T14:01:47.363Z"
   },
   {
    "duration": 4067,
    "start_time": "2021-10-19T14:01:59.366Z"
   },
   {
    "duration": 4069,
    "start_time": "2021-10-19T14:03:04.726Z"
   },
   {
    "duration": 22,
    "start_time": "2021-10-19T14:04:29.406Z"
   },
   {
    "duration": 5,
    "start_time": "2021-10-19T14:05:28.218Z"
   },
   {
    "duration": 4115,
    "start_time": "2021-10-19T14:05:38.494Z"
   },
   {
    "duration": 16,
    "start_time": "2021-10-19T14:08:21.324Z"
   },
   {
    "duration": 860,
    "start_time": "2021-10-20T07:39:11.602Z"
   },
   {
    "duration": 14,
    "start_time": "2021-10-20T07:39:12.465Z"
   },
   {
    "duration": 26,
    "start_time": "2021-10-20T07:39:12.483Z"
   },
   {
    "duration": 10,
    "start_time": "2021-10-20T07:39:12.512Z"
   },
   {
    "duration": 11,
    "start_time": "2021-10-20T07:39:12.524Z"
   },
   {
    "duration": 9,
    "start_time": "2021-10-20T07:39:12.537Z"
   },
   {
    "duration": 10,
    "start_time": "2021-10-20T07:39:12.581Z"
   },
   {
    "duration": 9,
    "start_time": "2021-10-20T07:39:12.594Z"
   },
   {
    "duration": 9,
    "start_time": "2021-10-20T07:39:12.607Z"
   },
   {
    "duration": 10,
    "start_time": "2021-10-20T07:39:12.619Z"
   },
   {
    "duration": 55,
    "start_time": "2021-10-20T07:39:12.632Z"
   },
   {
    "duration": 9,
    "start_time": "2021-10-20T07:39:12.690Z"
   },
   {
    "duration": 10,
    "start_time": "2021-10-20T07:39:12.702Z"
   },
   {
    "duration": 7,
    "start_time": "2021-10-20T07:39:12.715Z"
   },
   {
    "duration": 7,
    "start_time": "2021-10-20T07:39:12.724Z"
   },
   {
    "duration": 54,
    "start_time": "2021-10-20T07:39:12.734Z"
   },
   {
    "duration": 9,
    "start_time": "2021-10-20T07:39:12.790Z"
   },
   {
    "duration": 14,
    "start_time": "2021-10-20T07:39:12.802Z"
   },
   {
    "duration": 78,
    "start_time": "2021-10-20T07:39:12.819Z"
   },
   {
    "duration": 14,
    "start_time": "2021-10-20T07:39:12.899Z"
   },
   {
    "duration": 25,
    "start_time": "2021-10-20T07:39:12.915Z"
   },
   {
    "duration": 17,
    "start_time": "2021-10-20T07:39:12.943Z"
   },
   {
    "duration": 23,
    "start_time": "2021-10-20T07:39:12.983Z"
   },
   {
    "duration": 900,
    "start_time": "2021-10-20T07:39:13.008Z"
   },
   {
    "duration": 6,
    "start_time": "2021-10-20T07:39:13.910Z"
   },
   {
    "duration": 3435,
    "start_time": "2021-10-20T07:39:22.872Z"
   },
   {
    "duration": 94,
    "start_time": "2021-10-20T07:40:18.170Z"
   },
   {
    "duration": 5,
    "start_time": "2021-10-20T07:40:37.391Z"
   },
   {
    "duration": 3422,
    "start_time": "2021-10-20T07:40:38.870Z"
   },
   {
    "duration": 88,
    "start_time": "2021-10-20T07:40:49.991Z"
   },
   {
    "duration": 16,
    "start_time": "2021-10-20T07:40:50.081Z"
   },
   {
    "duration": 21,
    "start_time": "2021-10-20T07:40:50.101Z"
   },
   {
    "duration": 11,
    "start_time": "2021-10-20T07:40:50.125Z"
   },
   {
    "duration": 13,
    "start_time": "2021-10-20T07:40:50.182Z"
   },
   {
    "duration": 15,
    "start_time": "2021-10-20T07:40:50.198Z"
   },
   {
    "duration": 9,
    "start_time": "2021-10-20T07:40:50.215Z"
   },
   {
    "duration": 8,
    "start_time": "2021-10-20T07:40:50.226Z"
   },
   {
    "duration": 45,
    "start_time": "2021-10-20T07:40:50.238Z"
   },
   {
    "duration": 9,
    "start_time": "2021-10-20T07:40:50.286Z"
   },
   {
    "duration": 26,
    "start_time": "2021-10-20T07:40:50.298Z"
   },
   {
    "duration": 13,
    "start_time": "2021-10-20T07:40:50.326Z"
   },
   {
    "duration": 10,
    "start_time": "2021-10-20T07:40:50.341Z"
   },
   {
    "duration": 34,
    "start_time": "2021-10-20T07:40:50.354Z"
   },
   {
    "duration": 9,
    "start_time": "2021-10-20T07:40:50.391Z"
   },
   {
    "duration": 11,
    "start_time": "2021-10-20T07:40:50.403Z"
   },
   {
    "duration": 8,
    "start_time": "2021-10-20T07:40:50.417Z"
   },
   {
    "duration": 57,
    "start_time": "2021-10-20T07:40:50.428Z"
   },
   {
    "duration": 35,
    "start_time": "2021-10-20T07:40:50.488Z"
   },
   {
    "duration": 16,
    "start_time": "2021-10-20T07:40:50.526Z"
   },
   {
    "duration": 55,
    "start_time": "2021-10-20T07:40:50.545Z"
   },
   {
    "duration": 13,
    "start_time": "2021-10-20T07:40:50.603Z"
   },
   {
    "duration": 22,
    "start_time": "2021-10-20T07:40:50.619Z"
   },
   {
    "duration": 916,
    "start_time": "2021-10-20T07:40:50.683Z"
   },
   {
    "duration": 7,
    "start_time": "2021-10-20T07:40:51.603Z"
   },
   {
    "duration": 3481,
    "start_time": "2021-10-20T07:40:54.589Z"
   },
   {
    "duration": 119,
    "start_time": "2021-10-20T07:41:17.672Z"
   },
   {
    "duration": 20,
    "start_time": "2021-10-20T07:41:17.795Z"
   },
   {
    "duration": 28,
    "start_time": "2021-10-20T07:41:17.820Z"
   },
   {
    "duration": 37,
    "start_time": "2021-10-20T07:41:17.852Z"
   },
   {
    "duration": 15,
    "start_time": "2021-10-20T07:41:17.892Z"
   },
   {
    "duration": 10,
    "start_time": "2021-10-20T07:41:17.910Z"
   },
   {
    "duration": 14,
    "start_time": "2021-10-20T07:41:17.923Z"
   },
   {
    "duration": 45,
    "start_time": "2021-10-20T07:41:17.939Z"
   },
   {
    "duration": 12,
    "start_time": "2021-10-20T07:41:17.987Z"
   },
   {
    "duration": 10,
    "start_time": "2021-10-20T07:41:18.002Z"
   },
   {
    "duration": 12,
    "start_time": "2021-10-20T07:41:18.015Z"
   },
   {
    "duration": 9,
    "start_time": "2021-10-20T07:41:18.030Z"
   },
   {
    "duration": 43,
    "start_time": "2021-10-20T07:41:18.041Z"
   },
   {
    "duration": 11,
    "start_time": "2021-10-20T07:41:18.086Z"
   },
   {
    "duration": 7,
    "start_time": "2021-10-20T07:41:18.099Z"
   },
   {
    "duration": 11,
    "start_time": "2021-10-20T07:41:18.109Z"
   },
   {
    "duration": 8,
    "start_time": "2021-10-20T07:41:18.123Z"
   },
   {
    "duration": 56,
    "start_time": "2021-10-20T07:41:18.133Z"
   },
   {
    "duration": 33,
    "start_time": "2021-10-20T07:41:18.191Z"
   },
   {
    "duration": 14,
    "start_time": "2021-10-20T07:41:18.227Z"
   },
   {
    "duration": 47,
    "start_time": "2021-10-20T07:41:18.244Z"
   },
   {
    "duration": 12,
    "start_time": "2021-10-20T07:41:18.293Z"
   },
   {
    "duration": 25,
    "start_time": "2021-10-20T07:41:18.307Z"
   },
   {
    "duration": 940,
    "start_time": "2021-10-20T07:41:18.335Z"
   },
   {
    "duration": 5,
    "start_time": "2021-10-20T07:41:19.282Z"
   },
   {
    "duration": 3413,
    "start_time": "2021-10-20T07:41:19.290Z"
   },
   {
    "duration": 91,
    "start_time": "2021-10-20T07:42:18.711Z"
   },
   {
    "duration": 16,
    "start_time": "2021-10-20T07:42:18.804Z"
   },
   {
    "duration": 21,
    "start_time": "2021-10-20T07:42:18.824Z"
   },
   {
    "duration": 41,
    "start_time": "2021-10-20T07:42:18.849Z"
   },
   {
    "duration": 9,
    "start_time": "2021-10-20T07:42:18.893Z"
   },
   {
    "duration": 11,
    "start_time": "2021-10-20T07:42:18.905Z"
   },
   {
    "duration": 10,
    "start_time": "2021-10-20T07:42:18.918Z"
   },
   {
    "duration": 58,
    "start_time": "2021-10-20T07:42:18.931Z"
   },
   {
    "duration": 9,
    "start_time": "2021-10-20T07:42:18.995Z"
   },
   {
    "duration": 14,
    "start_time": "2021-10-20T07:42:19.008Z"
   },
   {
    "duration": 7,
    "start_time": "2021-10-20T07:42:19.026Z"
   },
   {
    "duration": 56,
    "start_time": "2021-10-20T07:42:19.035Z"
   },
   {
    "duration": 13,
    "start_time": "2021-10-20T07:42:19.093Z"
   },
   {
    "duration": 11,
    "start_time": "2021-10-20T07:42:19.108Z"
   },
   {
    "duration": 8,
    "start_time": "2021-10-20T07:42:19.121Z"
   },
   {
    "duration": 10,
    "start_time": "2021-10-20T07:42:19.131Z"
   },
   {
    "duration": 39,
    "start_time": "2021-10-20T07:42:19.143Z"
   },
   {
    "duration": 14,
    "start_time": "2021-10-20T07:42:19.185Z"
   },
   {
    "duration": 33,
    "start_time": "2021-10-20T07:42:19.202Z"
   },
   {
    "duration": 13,
    "start_time": "2021-10-20T07:42:19.237Z"
   },
   {
    "duration": 18,
    "start_time": "2021-10-20T07:42:19.283Z"
   },
   {
    "duration": 10,
    "start_time": "2021-10-20T07:42:19.303Z"
   },
   {
    "duration": 25,
    "start_time": "2021-10-20T07:42:19.315Z"
   },
   {
    "duration": 941,
    "start_time": "2021-10-20T07:42:19.342Z"
   },
   {
    "duration": 6,
    "start_time": "2021-10-20T07:42:20.285Z"
   },
   {
    "duration": 3445,
    "start_time": "2021-10-20T07:42:20.293Z"
   },
   {
    "duration": 93,
    "start_time": "2021-10-20T07:44:07.411Z"
   },
   {
    "duration": 16,
    "start_time": "2021-10-20T07:44:07.506Z"
   },
   {
    "duration": 19,
    "start_time": "2021-10-20T07:44:07.526Z"
   },
   {
    "duration": 38,
    "start_time": "2021-10-20T07:44:07.548Z"
   },
   {
    "duration": 10,
    "start_time": "2021-10-20T07:44:07.588Z"
   },
   {
    "duration": 14,
    "start_time": "2021-10-20T07:44:07.600Z"
   },
   {
    "duration": 9,
    "start_time": "2021-10-20T07:44:07.617Z"
   },
   {
    "duration": 13,
    "start_time": "2021-10-20T07:44:07.628Z"
   },
   {
    "duration": 44,
    "start_time": "2021-10-20T07:44:07.644Z"
   },
   {
    "duration": 15,
    "start_time": "2021-10-20T07:44:07.692Z"
   },
   {
    "duration": 14,
    "start_time": "2021-10-20T07:44:07.709Z"
   },
   {
    "duration": 11,
    "start_time": "2021-10-20T07:44:07.725Z"
   },
   {
    "duration": 9,
    "start_time": "2021-10-20T07:44:07.782Z"
   },
   {
    "duration": 14,
    "start_time": "2021-10-20T07:44:07.793Z"
   },
   {
    "duration": 12,
    "start_time": "2021-10-20T07:44:07.809Z"
   },
   {
    "duration": 27,
    "start_time": "2021-10-20T07:44:07.823Z"
   },
   {
    "duration": 31,
    "start_time": "2021-10-20T07:44:07.852Z"
   },
   {
    "duration": 16,
    "start_time": "2021-10-20T07:44:07.886Z"
   },
   {
    "duration": 32,
    "start_time": "2021-10-20T07:44:07.904Z"
   },
   {
    "duration": 52,
    "start_time": "2021-10-20T07:44:07.939Z"
   },
   {
    "duration": 20,
    "start_time": "2021-10-20T07:44:07.993Z"
   },
   {
    "duration": 10,
    "start_time": "2021-10-20T07:44:08.016Z"
   },
   {
    "duration": 24,
    "start_time": "2021-10-20T07:44:08.029Z"
   },
   {
    "duration": 927,
    "start_time": "2021-10-20T07:44:08.083Z"
   },
   {
    "duration": 5,
    "start_time": "2021-10-20T07:44:09.012Z"
   },
   {
    "duration": 3610,
    "start_time": "2021-10-20T07:44:09.020Z"
   },
   {
    "duration": 90,
    "start_time": "2021-10-20T07:45:56.960Z"
   },
   {
    "duration": 15,
    "start_time": "2021-10-20T07:45:57.052Z"
   },
   {
    "duration": 20,
    "start_time": "2021-10-20T07:45:57.082Z"
   },
   {
    "duration": 8,
    "start_time": "2021-10-20T07:45:57.105Z"
   },
   {
    "duration": 12,
    "start_time": "2021-10-20T07:45:57.115Z"
   },
   {
    "duration": 11,
    "start_time": "2021-10-20T07:45:57.129Z"
   },
   {
    "duration": 10,
    "start_time": "2021-10-20T07:45:57.182Z"
   },
   {
    "duration": 11,
    "start_time": "2021-10-20T07:45:57.195Z"
   },
   {
    "duration": 9,
    "start_time": "2021-10-20T07:45:57.213Z"
   },
   {
    "duration": 11,
    "start_time": "2021-10-20T07:45:57.225Z"
   },
   {
    "duration": 46,
    "start_time": "2021-10-20T07:45:57.238Z"
   },
   {
    "duration": 13,
    "start_time": "2021-10-20T07:45:57.287Z"
   },
   {
    "duration": 13,
    "start_time": "2021-10-20T07:45:57.302Z"
   },
   {
    "duration": 11,
    "start_time": "2021-10-20T07:45:57.317Z"
   },
   {
    "duration": 13,
    "start_time": "2021-10-20T07:45:57.330Z"
   },
   {
    "duration": 38,
    "start_time": "2021-10-20T07:45:57.346Z"
   },
   {
    "duration": 8,
    "start_time": "2021-10-20T07:45:57.386Z"
   },
   {
    "duration": 15,
    "start_time": "2021-10-20T07:45:57.397Z"
   },
   {
    "duration": 37,
    "start_time": "2021-10-20T07:45:57.415Z"
   },
   {
    "duration": 43,
    "start_time": "2021-10-20T07:45:57.454Z"
   },
   {
    "duration": 19,
    "start_time": "2021-10-20T07:45:57.500Z"
   },
   {
    "duration": 12,
    "start_time": "2021-10-20T07:45:57.522Z"
   },
   {
    "duration": 68,
    "start_time": "2021-10-20T07:45:57.537Z"
   },
   {
    "duration": 946,
    "start_time": "2021-10-20T07:45:57.607Z"
   },
   {
    "duration": 6,
    "start_time": "2021-10-20T07:45:58.555Z"
   },
   {
    "duration": 3496,
    "start_time": "2021-10-20T07:45:58.563Z"
   },
   {
    "duration": 25,
    "start_time": "2021-10-20T07:46:23.118Z"
   },
   {
    "duration": 6,
    "start_time": "2021-10-20T08:03:27.710Z"
   },
   {
    "duration": 348,
    "start_time": "2021-10-20T08:04:17.870Z"
   },
   {
    "duration": 258,
    "start_time": "2021-10-20T08:04:28.430Z"
   },
   {
    "duration": 265,
    "start_time": "2021-10-20T08:05:10.850Z"
   },
   {
    "duration": 5,
    "start_time": "2021-10-20T08:07:05.726Z"
   },
   {
    "duration": 5,
    "start_time": "2021-10-20T08:07:15.787Z"
   },
   {
    "duration": 4,
    "start_time": "2021-10-20T08:07:29.375Z"
   },
   {
    "duration": 7,
    "start_time": "2021-10-20T08:07:38.075Z"
   },
   {
    "duration": 332,
    "start_time": "2021-10-20T08:11:41.455Z"
   },
   {
    "duration": 13,
    "start_time": "2021-10-20T08:11:55.015Z"
   },
   {
    "duration": 10,
    "start_time": "2021-10-20T08:12:09.035Z"
   },
   {
    "duration": 22,
    "start_time": "2021-10-20T08:24:35.331Z"
   },
   {
    "duration": 93,
    "start_time": "2021-10-20T08:27:30.291Z"
   },
   {
    "duration": 79,
    "start_time": "2021-10-20T08:29:56.596Z"
   },
   {
    "duration": 20,
    "start_time": "2021-10-20T08:32:02.604Z"
   },
   {
    "duration": 22,
    "start_time": "2021-10-20T08:34:41.228Z"
   },
   {
    "duration": 23,
    "start_time": "2021-10-20T08:54:31.249Z"
   },
   {
    "duration": 22,
    "start_time": "2021-10-20T08:54:49.036Z"
   },
   {
    "duration": 7,
    "start_time": "2021-10-20T09:55:08.460Z"
   },
   {
    "duration": 303,
    "start_time": "2021-10-20T09:55:42.200Z"
   },
   {
    "duration": 22,
    "start_time": "2021-10-20T10:05:54.838Z"
   },
   {
    "duration": 20,
    "start_time": "2021-10-20T10:06:19.479Z"
   },
   {
    "duration": 43,
    "start_time": "2021-10-20T10:08:57.338Z"
   },
   {
    "duration": 45,
    "start_time": "2021-10-20T10:09:41.878Z"
   },
   {
    "duration": 43,
    "start_time": "2021-10-20T10:10:27.477Z"
   },
   {
    "duration": 21,
    "start_time": "2021-10-20T10:21:17.306Z"
   },
   {
    "duration": 23,
    "start_time": "2021-10-20T10:25:16.220Z"
   },
   {
    "duration": 40,
    "start_time": "2021-10-20T10:26:54.665Z"
   },
   {
    "duration": 42,
    "start_time": "2021-10-20T10:27:04.514Z"
   },
   {
    "duration": 99,
    "start_time": "2021-10-20T10:27:12.734Z"
   },
   {
    "duration": 40,
    "start_time": "2021-10-20T10:27:23.374Z"
   },
   {
    "duration": 296,
    "start_time": "2021-10-20T10:35:01.267Z"
   },
   {
    "duration": 36,
    "start_time": "2021-10-20T10:35:16.427Z"
   },
   {
    "duration": 88,
    "start_time": "2021-10-20T10:49:20.325Z"
   },
   {
    "duration": 16,
    "start_time": "2021-10-20T10:49:20.416Z"
   },
   {
    "duration": 46,
    "start_time": "2021-10-20T10:49:20.435Z"
   },
   {
    "duration": 26,
    "start_time": "2021-10-20T10:49:20.484Z"
   },
   {
    "duration": 16,
    "start_time": "2021-10-20T10:49:20.512Z"
   },
   {
    "duration": 29,
    "start_time": "2021-10-20T10:49:20.530Z"
   },
   {
    "duration": 30,
    "start_time": "2021-10-20T10:49:20.561Z"
   },
   {
    "duration": 15,
    "start_time": "2021-10-20T10:49:20.594Z"
   },
   {
    "duration": 22,
    "start_time": "2021-10-20T10:49:20.612Z"
   },
   {
    "duration": 16,
    "start_time": "2021-10-20T10:49:20.637Z"
   },
   {
    "duration": 19,
    "start_time": "2021-10-20T10:49:20.656Z"
   },
   {
    "duration": 24,
    "start_time": "2021-10-20T10:49:20.677Z"
   },
   {
    "duration": 16,
    "start_time": "2021-10-20T10:49:20.704Z"
   },
   {
    "duration": 35,
    "start_time": "2021-10-20T10:49:20.723Z"
   },
   {
    "duration": 15,
    "start_time": "2021-10-20T10:49:20.760Z"
   },
   {
    "duration": 24,
    "start_time": "2021-10-20T10:49:20.777Z"
   },
   {
    "duration": 14,
    "start_time": "2021-10-20T10:49:20.803Z"
   },
   {
    "duration": 10,
    "start_time": "2021-10-20T10:49:28.524Z"
   },
   {
    "duration": 20,
    "start_time": "2021-10-20T10:51:32.844Z"
   },
   {
    "duration": 15,
    "start_time": "2021-10-20T10:52:02.584Z"
   },
   {
    "duration": 4,
    "start_time": "2021-10-20T11:03:07.096Z"
   },
   {
    "duration": 7,
    "start_time": "2021-10-20T11:03:31.373Z"
   },
   {
    "duration": 14,
    "start_time": "2021-10-20T11:04:54.144Z"
   },
   {
    "duration": 9,
    "start_time": "2021-10-20T11:05:14.845Z"
   },
   {
    "duration": 274,
    "start_time": "2021-10-20T11:06:41.172Z"
   },
   {
    "duration": 248,
    "start_time": "2021-10-20T11:07:45.856Z"
   },
   {
    "duration": 287,
    "start_time": "2021-10-20T11:10:39.344Z"
   },
   {
    "duration": 13,
    "start_time": "2021-10-20T11:12:24.786Z"
   },
   {
    "duration": 8,
    "start_time": "2021-10-20T11:12:27.204Z"
   },
   {
    "duration": 62,
    "start_time": "2021-10-20T11:12:48.733Z"
   },
   {
    "duration": 14,
    "start_time": "2021-10-20T11:12:48.797Z"
   },
   {
    "duration": 23,
    "start_time": "2021-10-20T11:12:48.815Z"
   },
   {
    "duration": 12,
    "start_time": "2021-10-20T11:12:48.841Z"
   },
   {
    "duration": 10,
    "start_time": "2021-10-20T11:12:48.883Z"
   },
   {
    "duration": 21,
    "start_time": "2021-10-20T11:12:48.895Z"
   },
   {
    "duration": 9,
    "start_time": "2021-10-20T11:12:48.918Z"
   },
   {
    "duration": 16,
    "start_time": "2021-10-20T11:12:48.930Z"
   },
   {
    "duration": 33,
    "start_time": "2021-10-20T11:12:48.949Z"
   },
   {
    "duration": 10,
    "start_time": "2021-10-20T11:12:48.985Z"
   },
   {
    "duration": 23,
    "start_time": "2021-10-20T11:12:48.997Z"
   },
   {
    "duration": 26,
    "start_time": "2021-10-20T11:12:49.023Z"
   },
   {
    "duration": 20,
    "start_time": "2021-10-20T11:12:49.052Z"
   },
   {
    "duration": 30,
    "start_time": "2021-10-20T11:12:49.074Z"
   },
   {
    "duration": 8,
    "start_time": "2021-10-20T11:12:49.106Z"
   },
   {
    "duration": 15,
    "start_time": "2021-10-20T11:12:49.116Z"
   },
   {
    "duration": 18,
    "start_time": "2021-10-20T11:12:49.134Z"
   },
   {
    "duration": 29,
    "start_time": "2021-10-20T11:12:49.155Z"
   },
   {
    "duration": 7,
    "start_time": "2021-10-20T11:12:49.187Z"
   },
   {
    "duration": 8,
    "start_time": "2021-10-20T11:12:54.524Z"
   },
   {
    "duration": 17,
    "start_time": "2021-10-20T11:13:47.813Z"
   },
   {
    "duration": 20,
    "start_time": "2021-10-20T11:13:57.264Z"
   },
   {
    "duration": 17,
    "start_time": "2021-10-20T11:14:37.012Z"
   },
   {
    "duration": 16,
    "start_time": "2021-10-20T11:14:47.997Z"
   },
   {
    "duration": 18,
    "start_time": "2021-10-20T11:16:10.926Z"
   },
   {
    "duration": 14,
    "start_time": "2021-10-20T11:16:58.036Z"
   },
   {
    "duration": 821,
    "start_time": "2021-10-20T11:17:39.660Z"
   },
   {
    "duration": 16,
    "start_time": "2021-10-20T11:17:40.484Z"
   },
   {
    "duration": 39,
    "start_time": "2021-10-20T11:17:40.503Z"
   },
   {
    "duration": 12,
    "start_time": "2021-10-20T11:17:40.544Z"
   },
   {
    "duration": 29,
    "start_time": "2021-10-20T11:17:40.558Z"
   },
   {
    "duration": 26,
    "start_time": "2021-10-20T11:17:40.589Z"
   },
   {
    "duration": 15,
    "start_time": "2021-10-20T11:17:40.618Z"
   },
   {
    "duration": 22,
    "start_time": "2021-10-20T11:17:40.635Z"
   },
   {
    "duration": 22,
    "start_time": "2021-10-20T11:17:40.660Z"
   },
   {
    "duration": 20,
    "start_time": "2021-10-20T11:17:40.685Z"
   },
   {
    "duration": 20,
    "start_time": "2021-10-20T11:17:40.707Z"
   },
   {
    "duration": 23,
    "start_time": "2021-10-20T11:17:40.729Z"
   },
   {
    "duration": 26,
    "start_time": "2021-10-20T11:17:40.755Z"
   },
   {
    "duration": 39,
    "start_time": "2021-10-20T11:17:40.783Z"
   },
   {
    "duration": 23,
    "start_time": "2021-10-20T11:17:40.825Z"
   },
   {
    "duration": 11,
    "start_time": "2021-10-20T11:17:40.850Z"
   },
   {
    "duration": 11,
    "start_time": "2021-10-20T11:17:40.863Z"
   },
   {
    "duration": 37,
    "start_time": "2021-10-20T11:17:40.877Z"
   },
   {
    "duration": 14,
    "start_time": "2021-10-20T11:17:52.616Z"
   },
   {
    "duration": 824,
    "start_time": "2021-10-20T11:19:04.750Z"
   },
   {
    "duration": 15,
    "start_time": "2021-10-20T11:19:05.576Z"
   },
   {
    "duration": 34,
    "start_time": "2021-10-20T11:19:05.594Z"
   },
   {
    "duration": 7,
    "start_time": "2021-10-20T11:19:05.631Z"
   },
   {
    "duration": 17,
    "start_time": "2021-10-20T11:19:05.640Z"
   },
   {
    "duration": 29,
    "start_time": "2021-10-20T11:19:05.659Z"
   },
   {
    "duration": 11,
    "start_time": "2021-10-20T11:19:05.691Z"
   },
   {
    "duration": 12,
    "start_time": "2021-10-20T11:19:05.705Z"
   },
   {
    "duration": 9,
    "start_time": "2021-10-20T11:19:05.723Z"
   },
   {
    "duration": 55,
    "start_time": "2021-10-20T11:19:05.735Z"
   },
   {
    "duration": 16,
    "start_time": "2021-10-20T11:19:05.792Z"
   },
   {
    "duration": 11,
    "start_time": "2021-10-20T11:19:05.810Z"
   },
   {
    "duration": 16,
    "start_time": "2021-10-20T11:19:05.823Z"
   },
   {
    "duration": 48,
    "start_time": "2021-10-20T11:19:05.841Z"
   },
   {
    "duration": 7,
    "start_time": "2021-10-20T11:19:05.891Z"
   },
   {
    "duration": 12,
    "start_time": "2021-10-20T11:19:05.901Z"
   },
   {
    "duration": 8,
    "start_time": "2021-10-20T11:19:05.916Z"
   },
   {
    "duration": 59,
    "start_time": "2021-10-20T11:19:05.926Z"
   },
   {
    "duration": 14,
    "start_time": "2021-10-20T11:19:05.988Z"
   },
   {
    "duration": 65,
    "start_time": "2021-10-20T11:19:53.180Z"
   },
   {
    "duration": 15,
    "start_time": "2021-10-20T11:19:53.248Z"
   },
   {
    "duration": 18,
    "start_time": "2021-10-20T11:19:53.282Z"
   },
   {
    "duration": 11,
    "start_time": "2021-10-20T11:19:53.303Z"
   },
   {
    "duration": 10,
    "start_time": "2021-10-20T11:19:53.316Z"
   },
   {
    "duration": 8,
    "start_time": "2021-10-20T11:19:53.329Z"
   },
   {
    "duration": 51,
    "start_time": "2021-10-20T11:19:53.339Z"
   },
   {
    "duration": 9,
    "start_time": "2021-10-20T11:19:53.393Z"
   },
   {
    "duration": 9,
    "start_time": "2021-10-20T11:19:53.406Z"
   },
   {
    "duration": 12,
    "start_time": "2021-10-20T11:19:53.417Z"
   },
   {
    "duration": 51,
    "start_time": "2021-10-20T11:19:53.431Z"
   },
   {
    "duration": 12,
    "start_time": "2021-10-20T11:19:53.484Z"
   },
   {
    "duration": 13,
    "start_time": "2021-10-20T11:19:53.499Z"
   },
   {
    "duration": 30,
    "start_time": "2021-10-20T11:19:53.515Z"
   },
   {
    "duration": 39,
    "start_time": "2021-10-20T11:19:53.548Z"
   },
   {
    "duration": 16,
    "start_time": "2021-10-20T11:19:53.589Z"
   },
   {
    "duration": 15,
    "start_time": "2021-10-20T11:19:53.607Z"
   },
   {
    "duration": 15,
    "start_time": "2021-10-20T11:19:53.625Z"
   },
   {
    "duration": 62,
    "start_time": "2021-10-20T11:20:39.097Z"
   },
   {
    "duration": 14,
    "start_time": "2021-10-20T11:20:39.162Z"
   },
   {
    "duration": 24,
    "start_time": "2021-10-20T11:20:39.179Z"
   },
   {
    "duration": 13,
    "start_time": "2021-10-20T11:20:39.207Z"
   },
   {
    "duration": 23,
    "start_time": "2021-10-20T11:20:39.223Z"
   },
   {
    "duration": 11,
    "start_time": "2021-10-20T11:20:39.249Z"
   },
   {
    "duration": 28,
    "start_time": "2021-10-20T11:20:39.262Z"
   },
   {
    "duration": 14,
    "start_time": "2021-10-20T11:20:39.292Z"
   },
   {
    "duration": 13,
    "start_time": "2021-10-20T11:20:39.310Z"
   },
   {
    "duration": 21,
    "start_time": "2021-10-20T11:20:39.326Z"
   },
   {
    "duration": 9,
    "start_time": "2021-10-20T11:20:39.350Z"
   },
   {
    "duration": 11,
    "start_time": "2021-10-20T11:20:39.383Z"
   },
   {
    "duration": 15,
    "start_time": "2021-10-20T11:20:39.396Z"
   },
   {
    "duration": 15,
    "start_time": "2021-10-20T11:21:18.087Z"
   },
   {
    "duration": 61,
    "start_time": "2021-10-20T11:22:15.460Z"
   },
   {
    "duration": 18,
    "start_time": "2021-10-20T11:22:15.524Z"
   },
   {
    "duration": 44,
    "start_time": "2021-10-20T11:22:15.545Z"
   },
   {
    "duration": 8,
    "start_time": "2021-10-20T11:22:15.592Z"
   },
   {
    "duration": 10,
    "start_time": "2021-10-20T11:22:15.602Z"
   },
   {
    "duration": 12,
    "start_time": "2021-10-20T11:22:15.615Z"
   },
   {
    "duration": 9,
    "start_time": "2021-10-20T11:22:15.629Z"
   },
   {
    "duration": 48,
    "start_time": "2021-10-20T11:22:15.641Z"
   },
   {
    "duration": 9,
    "start_time": "2021-10-20T11:22:15.692Z"
   },
   {
    "duration": 10,
    "start_time": "2021-10-20T11:22:15.704Z"
   },
   {
    "duration": 8,
    "start_time": "2021-10-20T11:22:15.717Z"
   },
   {
    "duration": 55,
    "start_time": "2021-10-20T11:22:15.727Z"
   },
   {
    "duration": 7,
    "start_time": "2021-10-20T11:22:15.784Z"
   },
   {
    "duration": 11,
    "start_time": "2021-10-20T11:22:15.794Z"
   },
   {
    "duration": 9,
    "start_time": "2021-10-20T11:22:15.808Z"
   },
   {
    "duration": 8,
    "start_time": "2021-10-20T11:22:15.820Z"
   },
   {
    "duration": 15,
    "start_time": "2021-10-20T11:22:15.830Z"
   },
   {
    "duration": 18,
    "start_time": "2021-10-20T11:22:57.024Z"
   },
   {
    "duration": 8,
    "start_time": "2021-10-20T11:23:44.917Z"
   },
   {
    "duration": 18,
    "start_time": "2021-10-20T11:24:04.636Z"
   },
   {
    "duration": 18,
    "start_time": "2021-10-20T11:24:18.040Z"
   },
   {
    "duration": 61,
    "start_time": "2021-10-20T11:24:32.140Z"
   },
   {
    "duration": 13,
    "start_time": "2021-10-20T11:24:32.204Z"
   },
   {
    "duration": 32,
    "start_time": "2021-10-20T11:24:32.220Z"
   },
   {
    "duration": 18,
    "start_time": "2021-10-20T11:24:32.255Z"
   },
   {
    "duration": 20,
    "start_time": "2021-10-20T11:24:32.283Z"
   },
   {
    "duration": 19,
    "start_time": "2021-10-20T11:24:32.305Z"
   },
   {
    "duration": 23,
    "start_time": "2021-10-20T11:24:32.326Z"
   },
   {
    "duration": 21,
    "start_time": "2021-10-20T11:24:32.351Z"
   },
   {
    "duration": 15,
    "start_time": "2021-10-20T11:24:32.375Z"
   },
   {
    "duration": 27,
    "start_time": "2021-10-20T11:24:32.393Z"
   },
   {
    "duration": 9,
    "start_time": "2021-10-20T11:24:32.423Z"
   },
   {
    "duration": 23,
    "start_time": "2021-10-20T11:24:32.435Z"
   },
   {
    "duration": 16,
    "start_time": "2021-10-20T11:24:32.461Z"
   },
   {
    "duration": 8,
    "start_time": "2021-10-20T11:24:32.480Z"
   },
   {
    "duration": 7,
    "start_time": "2021-10-20T11:24:32.490Z"
   },
   {
    "duration": 6,
    "start_time": "2021-10-20T11:24:32.499Z"
   },
   {
    "duration": 9,
    "start_time": "2021-10-20T11:24:44.994Z"
   },
   {
    "duration": 21,
    "start_time": "2021-10-20T11:24:55.528Z"
   },
   {
    "duration": 8,
    "start_time": "2021-10-20T11:25:48.048Z"
   },
   {
    "duration": 20,
    "start_time": "2021-10-20T11:26:00.129Z"
   },
   {
    "duration": 8,
    "start_time": "2021-10-20T11:26:03.296Z"
   },
   {
    "duration": 19,
    "start_time": "2021-10-20T11:26:41.288Z"
   },
   {
    "duration": 16,
    "start_time": "2021-10-20T11:34:53.128Z"
   },
   {
    "duration": 60,
    "start_time": "2021-10-20T11:34:58.558Z"
   },
   {
    "duration": 14,
    "start_time": "2021-10-20T11:34:58.621Z"
   },
   {
    "duration": 45,
    "start_time": "2021-10-20T11:34:58.638Z"
   },
   {
    "duration": 8,
    "start_time": "2021-10-20T11:34:58.686Z"
   },
   {
    "duration": 12,
    "start_time": "2021-10-20T11:34:58.696Z"
   },
   {
    "duration": 10,
    "start_time": "2021-10-20T11:34:58.711Z"
   },
   {
    "duration": 13,
    "start_time": "2021-10-20T11:34:58.723Z"
   },
   {
    "duration": 50,
    "start_time": "2021-10-20T11:34:58.738Z"
   },
   {
    "duration": 10,
    "start_time": "2021-10-20T11:34:58.793Z"
   },
   {
    "duration": 16,
    "start_time": "2021-10-20T11:34:58.806Z"
   },
   {
    "duration": 17,
    "start_time": "2021-10-20T11:34:58.825Z"
   },
   {
    "duration": 41,
    "start_time": "2021-10-20T11:34:58.844Z"
   },
   {
    "duration": 9,
    "start_time": "2021-10-20T11:34:58.888Z"
   },
   {
    "duration": 15,
    "start_time": "2021-10-20T11:34:58.900Z"
   },
   {
    "duration": 25,
    "start_time": "2021-10-20T11:34:58.918Z"
   },
   {
    "duration": 11,
    "start_time": "2021-10-20T11:34:58.945Z"
   },
   {
    "duration": 18,
    "start_time": "2021-10-20T11:35:02.568Z"
   },
   {
    "duration": 10,
    "start_time": "2021-10-20T11:35:09.028Z"
   },
   {
    "duration": 17,
    "start_time": "2021-10-20T11:35:17.460Z"
   },
   {
    "duration": 66,
    "start_time": "2021-10-20T11:36:35.009Z"
   },
   {
    "duration": 14,
    "start_time": "2021-10-20T11:36:35.077Z"
   },
   {
    "duration": 22,
    "start_time": "2021-10-20T11:36:35.094Z"
   },
   {
    "duration": 15,
    "start_time": "2021-10-20T11:36:35.119Z"
   },
   {
    "duration": 46,
    "start_time": "2021-10-20T11:36:35.137Z"
   },
   {
    "duration": 10,
    "start_time": "2021-10-20T11:36:35.185Z"
   },
   {
    "duration": 12,
    "start_time": "2021-10-20T11:36:35.198Z"
   },
   {
    "duration": 11,
    "start_time": "2021-10-20T11:36:35.213Z"
   },
   {
    "duration": 13,
    "start_time": "2021-10-20T11:36:35.228Z"
   },
   {
    "duration": 43,
    "start_time": "2021-10-20T11:36:35.244Z"
   },
   {
    "duration": 14,
    "start_time": "2021-10-20T11:36:35.289Z"
   },
   {
    "duration": 14,
    "start_time": "2021-10-20T11:36:35.305Z"
   },
   {
    "duration": 17,
    "start_time": "2021-10-20T11:36:35.321Z"
   },
   {
    "duration": 11,
    "start_time": "2021-10-20T11:36:35.340Z"
   },
   {
    "duration": 32,
    "start_time": "2021-10-20T11:36:35.353Z"
   },
   {
    "duration": 6,
    "start_time": "2021-10-20T11:36:35.387Z"
   },
   {
    "duration": 19,
    "start_time": "2021-10-20T11:36:35.395Z"
   },
   {
    "duration": 8,
    "start_time": "2021-10-20T11:36:35.417Z"
   },
   {
    "duration": 16,
    "start_time": "2021-10-20T11:36:35.428Z"
   },
   {
    "duration": 51,
    "start_time": "2021-10-20T11:36:35.447Z"
   },
   {
    "duration": 18,
    "start_time": "2021-10-20T11:36:35.501Z"
   },
   {
    "duration": 13,
    "start_time": "2021-10-20T11:36:35.522Z"
   },
   {
    "duration": 68,
    "start_time": "2021-10-20T11:36:35.537Z"
   },
   {
    "duration": 902,
    "start_time": "2021-10-20T11:36:35.608Z"
   },
   {
    "duration": 6,
    "start_time": "2021-10-20T11:36:36.514Z"
   },
   {
    "duration": 3423,
    "start_time": "2021-10-20T11:36:36.523Z"
   },
   {
    "duration": 1130,
    "start_time": "2021-10-20T11:48:47.959Z"
   },
   {
    "duration": 12,
    "start_time": "2021-10-20T12:00:13.521Z"
   },
   {
    "duration": 291,
    "start_time": "2021-10-20T12:00:53.876Z"
   },
   {
    "duration": 19,
    "start_time": "2021-10-20T12:05:35.088Z"
   },
   {
    "duration": 9,
    "start_time": "2021-10-20T12:05:43.688Z"
   },
   {
    "duration": 262,
    "start_time": "2021-10-20T12:05:59.600Z"
   },
   {
    "duration": 520,
    "start_time": "2021-10-20T12:06:14.016Z"
   },
   {
    "duration": 8,
    "start_time": "2021-10-20T12:06:42.128Z"
   },
   {
    "duration": 10,
    "start_time": "2021-10-20T12:06:46.928Z"
   },
   {
    "duration": 612,
    "start_time": "2021-10-20T12:06:54.288Z"
   },
   {
    "duration": 10,
    "start_time": "2021-10-20T12:07:14.968Z"
   },
   {
    "duration": 239,
    "start_time": "2021-10-20T12:07:58.401Z"
   },
   {
    "duration": 11,
    "start_time": "2021-10-20T12:08:15.907Z"
   },
   {
    "duration": 9,
    "start_time": "2021-10-20T12:08:25.488Z"
   },
   {
    "duration": 98,
    "start_time": "2021-10-20T12:09:18.288Z"
   },
   {
    "duration": 98,
    "start_time": "2021-10-20T12:09:29.576Z"
   },
   {
    "duration": 16,
    "start_time": "2021-10-20T12:09:37.744Z"
   },
   {
    "duration": 11,
    "start_time": "2021-10-20T12:10:29.528Z"
   },
   {
    "duration": 11,
    "start_time": "2021-10-20T12:10:48.547Z"
   },
   {
    "duration": 10,
    "start_time": "2021-10-20T12:13:53.008Z"
   },
   {
    "duration": 9,
    "start_time": "2021-10-20T12:14:00.606Z"
   },
   {
    "duration": 10,
    "start_time": "2021-10-20T12:14:11.348Z"
   },
   {
    "duration": 9,
    "start_time": "2021-10-20T12:15:07.520Z"
   },
   {
    "duration": 9,
    "start_time": "2021-10-20T12:15:13.608Z"
   },
   {
    "duration": 10,
    "start_time": "2021-10-20T12:15:18.568Z"
   },
   {
    "duration": 10,
    "start_time": "2021-10-20T12:15:28.088Z"
   },
   {
    "duration": 12,
    "start_time": "2021-10-20T12:15:36.848Z"
   },
   {
    "duration": 6,
    "start_time": "2021-10-20T12:19:27.329Z"
   },
   {
    "duration": 9151,
    "start_time": "2021-10-20T12:21:00.149Z"
   },
   {
    "duration": 9,
    "start_time": "2021-10-20T12:21:33.909Z"
   },
   {
    "duration": 9,
    "start_time": "2021-10-20T12:22:18.968Z"
   },
   {
    "duration": 10,
    "start_time": "2021-10-20T12:22:20.068Z"
   },
   {
    "duration": 28,
    "start_time": "2021-10-20T12:22:20.608Z"
   },
   {
    "duration": 25,
    "start_time": "2021-10-20T12:22:21.187Z"
   },
   {
    "duration": 13,
    "start_time": "2021-10-20T12:22:34.948Z"
   },
   {
    "duration": 11,
    "start_time": "2021-10-20T12:22:35.800Z"
   },
   {
    "duration": 74,
    "start_time": "2021-10-20T12:23:40.628Z"
   },
   {
    "duration": 17,
    "start_time": "2021-10-20T12:23:51.969Z"
   },
   {
    "duration": 304,
    "start_time": "2021-10-20T12:24:21.676Z"
   },
   {
    "duration": 11,
    "start_time": "2021-10-20T12:24:29.668Z"
   },
   {
    "duration": 10,
    "start_time": "2021-10-20T12:26:08.169Z"
   },
   {
    "duration": 9,
    "start_time": "2021-10-20T12:26:08.728Z"
   },
   {
    "duration": 8,
    "start_time": "2021-10-20T12:26:09.228Z"
   },
   {
    "duration": 9,
    "start_time": "2021-10-20T12:26:09.688Z"
   },
   {
    "duration": 10,
    "start_time": "2021-10-20T12:26:10.128Z"
   },
   {
    "duration": 11,
    "start_time": "2021-10-20T12:26:10.688Z"
   },
   {
    "duration": 10,
    "start_time": "2021-10-20T12:26:11.188Z"
   },
   {
    "duration": 11,
    "start_time": "2021-10-20T12:26:13.708Z"
   },
   {
    "duration": 282,
    "start_time": "2021-10-20T12:28:52.251Z"
   },
   {
    "duration": 23,
    "start_time": "2021-10-20T12:29:01.161Z"
   },
   {
    "duration": 14,
    "start_time": "2021-10-20T12:29:15.328Z"
   },
   {
    "duration": 23,
    "start_time": "2021-10-20T12:29:45.528Z"
   },
   {
    "duration": 5,
    "start_time": "2021-10-20T12:36:28.648Z"
   },
   {
    "duration": 17,
    "start_time": "2021-10-20T12:40:01.908Z"
   },
   {
    "duration": 18,
    "start_time": "2021-10-20T12:40:11.808Z"
   },
   {
    "duration": 305,
    "start_time": "2021-10-20T12:46:15.688Z"
   },
   {
    "duration": 36,
    "start_time": "2021-10-20T12:46:32.258Z"
   },
   {
    "duration": 35,
    "start_time": "2021-10-20T12:48:37.290Z"
   },
   {
    "duration": 819,
    "start_time": "2021-10-20T12:49:09.377Z"
   },
   {
    "duration": 14,
    "start_time": "2021-10-20T12:49:10.199Z"
   },
   {
    "duration": 29,
    "start_time": "2021-10-20T12:49:10.216Z"
   },
   {
    "duration": 34,
    "start_time": "2021-10-20T12:49:10.248Z"
   },
   {
    "duration": 14,
    "start_time": "2021-10-20T12:49:10.285Z"
   },
   {
    "duration": 20,
    "start_time": "2021-10-20T12:49:10.301Z"
   },
   {
    "duration": 25,
    "start_time": "2021-10-20T12:49:10.323Z"
   },
   {
    "duration": 31,
    "start_time": "2021-10-20T12:49:10.352Z"
   },
   {
    "duration": 21,
    "start_time": "2021-10-20T12:49:10.386Z"
   },
   {
    "duration": 31,
    "start_time": "2021-10-20T12:49:10.409Z"
   },
   {
    "duration": 29,
    "start_time": "2021-10-20T12:49:10.442Z"
   },
   {
    "duration": 22,
    "start_time": "2021-10-20T12:49:10.473Z"
   },
   {
    "duration": 14,
    "start_time": "2021-10-20T12:49:10.498Z"
   },
   {
    "duration": 32,
    "start_time": "2021-10-20T12:49:10.514Z"
   },
   {
    "duration": 33,
    "start_time": "2021-10-20T12:49:10.548Z"
   },
   {
    "duration": 22,
    "start_time": "2021-10-20T12:49:10.583Z"
   },
   {
    "duration": 23,
    "start_time": "2021-10-20T12:49:10.608Z"
   },
   {
    "duration": 10,
    "start_time": "2021-10-20T12:49:10.633Z"
   },
   {
    "duration": 27,
    "start_time": "2021-10-20T12:49:10.645Z"
   },
   {
    "duration": 17,
    "start_time": "2021-10-20T12:49:10.683Z"
   },
   {
    "duration": 17,
    "start_time": "2021-10-20T12:49:10.703Z"
   },
   {
    "duration": 13,
    "start_time": "2021-10-20T12:49:10.722Z"
   },
   {
    "duration": 59,
    "start_time": "2021-10-20T12:49:10.741Z"
   },
   {
    "duration": 891,
    "start_time": "2021-10-20T12:49:10.804Z"
   },
   {
    "duration": 6,
    "start_time": "2021-10-20T12:49:11.698Z"
   },
   {
    "duration": 3440,
    "start_time": "2021-10-20T12:49:11.707Z"
   },
   {
    "duration": 43,
    "start_time": "2021-10-20T12:49:15.150Z"
   },
   {
    "duration": 4,
    "start_time": "2021-10-20T12:49:15.195Z"
   },
   {
    "duration": 20,
    "start_time": "2021-10-20T12:49:15.201Z"
   },
   {
    "duration": 20,
    "start_time": "2021-10-20T12:49:15.224Z"
   },
   {
    "duration": 50,
    "start_time": "2021-10-20T12:49:15.246Z"
   },
   {
    "duration": 50,
    "start_time": "2021-10-20T12:49:15.298Z"
   },
   {
    "duration": 56,
    "start_time": "2021-10-20T12:49:15.350Z"
   },
   {
    "duration": 38,
    "start_time": "2021-10-20T12:49:15.408Z"
   },
   {
    "duration": 1146,
    "start_time": "2021-10-21T09:33:01.664Z"
   },
   {
    "duration": 24,
    "start_time": "2021-10-21T09:33:02.814Z"
   },
   {
    "duration": 62,
    "start_time": "2021-10-21T09:33:02.843Z"
   },
   {
    "duration": 11,
    "start_time": "2021-10-21T09:33:02.909Z"
   },
   {
    "duration": 44,
    "start_time": "2021-10-21T09:33:02.923Z"
   },
   {
    "duration": 11,
    "start_time": "2021-10-21T09:33:02.970Z"
   },
   {
    "duration": 23,
    "start_time": "2021-10-21T09:33:02.983Z"
   },
   {
    "duration": 19,
    "start_time": "2021-10-21T09:33:03.008Z"
   },
   {
    "duration": 15,
    "start_time": "2021-10-21T09:33:03.031Z"
   },
   {
    "duration": 27,
    "start_time": "2021-10-21T09:33:03.049Z"
   },
   {
    "duration": 19,
    "start_time": "2021-10-21T09:33:03.078Z"
   },
   {
    "duration": 15,
    "start_time": "2021-10-21T09:33:03.100Z"
   },
   {
    "duration": 11,
    "start_time": "2021-10-21T09:33:03.117Z"
   },
   {
    "duration": 38,
    "start_time": "2021-10-21T09:33:03.131Z"
   },
   {
    "duration": 6,
    "start_time": "2021-10-21T09:33:03.171Z"
   },
   {
    "duration": 10,
    "start_time": "2021-10-21T09:33:03.180Z"
   },
   {
    "duration": 23,
    "start_time": "2021-10-21T09:33:03.192Z"
   },
   {
    "duration": 52,
    "start_time": "2021-10-21T09:33:03.217Z"
   },
   {
    "duration": 23,
    "start_time": "2021-10-21T09:33:03.271Z"
   },
   {
    "duration": 21,
    "start_time": "2021-10-21T09:33:03.296Z"
   },
   {
    "duration": 17,
    "start_time": "2021-10-21T09:33:03.319Z"
   },
   {
    "duration": 12,
    "start_time": "2021-10-21T09:33:03.368Z"
   },
   {
    "duration": 28,
    "start_time": "2021-10-21T09:33:03.383Z"
   },
   {
    "duration": 979,
    "start_time": "2021-10-21T09:33:03.413Z"
   },
   {
    "duration": 6,
    "start_time": "2021-10-21T09:33:04.395Z"
   },
   {
    "duration": 3980,
    "start_time": "2021-10-21T09:33:04.404Z"
   },
   {
    "duration": 27,
    "start_time": "2021-10-21T09:33:08.389Z"
   },
   {
    "duration": 4,
    "start_time": "2021-10-21T09:33:08.419Z"
   },
   {
    "duration": 44,
    "start_time": "2021-10-21T09:33:08.426Z"
   },
   {
    "duration": 21,
    "start_time": "2021-10-21T09:33:08.472Z"
   },
   {
    "duration": 22,
    "start_time": "2021-10-21T09:33:08.496Z"
   },
   {
    "duration": 75,
    "start_time": "2021-10-21T09:33:08.520Z"
   },
   {
    "duration": 40,
    "start_time": "2021-10-21T09:33:08.598Z"
   },
   {
    "duration": 61,
    "start_time": "2021-10-21T09:33:08.641Z"
   },
   {
    "duration": 6,
    "start_time": "2021-10-21T09:47:52.988Z"
   },
   {
    "duration": 5,
    "start_time": "2021-10-21T11:41:43.485Z"
   },
   {
    "duration": 648,
    "start_time": "2021-10-22T08:46:53.612Z"
   },
   {
    "duration": 12,
    "start_time": "2021-10-22T08:46:54.262Z"
   },
   {
    "duration": 20,
    "start_time": "2021-10-22T08:46:54.276Z"
   },
   {
    "duration": 11,
    "start_time": "2021-10-22T08:46:54.298Z"
   },
   {
    "duration": 9,
    "start_time": "2021-10-22T08:46:54.311Z"
   },
   {
    "duration": 8,
    "start_time": "2021-10-22T08:46:54.321Z"
   },
   {
    "duration": 37,
    "start_time": "2021-10-22T08:46:54.331Z"
   },
   {
    "duration": 7,
    "start_time": "2021-10-22T08:46:54.370Z"
   },
   {
    "duration": 7,
    "start_time": "2021-10-22T08:46:54.381Z"
   },
   {
    "duration": 9,
    "start_time": "2021-10-22T08:46:54.391Z"
   },
   {
    "duration": 7,
    "start_time": "2021-10-22T08:46:54.402Z"
   },
   {
    "duration": 11,
    "start_time": "2021-10-22T08:46:54.412Z"
   },
   {
    "duration": 43,
    "start_time": "2021-10-22T08:46:54.425Z"
   },
   {
    "duration": 7,
    "start_time": "2021-10-22T08:46:54.471Z"
   },
   {
    "duration": 6,
    "start_time": "2021-10-22T08:46:54.480Z"
   },
   {
    "duration": 7,
    "start_time": "2021-10-22T08:46:54.488Z"
   },
   {
    "duration": 16,
    "start_time": "2021-10-22T08:46:54.497Z"
   },
   {
    "duration": 55,
    "start_time": "2021-10-22T08:46:54.515Z"
   },
   {
    "duration": 15,
    "start_time": "2021-10-22T08:46:54.573Z"
   },
   {
    "duration": 8,
    "start_time": "2021-10-22T08:46:54.590Z"
   },
   {
    "duration": 20,
    "start_time": "2021-10-22T08:46:54.600Z"
   },
   {
    "duration": 754,
    "start_time": "2021-10-22T08:46:54.622Z"
   },
   {
    "duration": 4,
    "start_time": "2021-10-22T08:46:55.378Z"
   },
   {
    "duration": 3066,
    "start_time": "2021-10-22T08:46:55.384Z"
   },
   {
    "duration": 32,
    "start_time": "2021-10-22T08:46:58.452Z"
   },
   {
    "duration": 3,
    "start_time": "2021-10-22T08:46:58.486Z"
   },
   {
    "duration": 23,
    "start_time": "2021-10-22T08:46:58.492Z"
   },
   {
    "duration": 18,
    "start_time": "2021-10-22T08:46:58.517Z"
   },
   {
    "duration": 37,
    "start_time": "2021-10-22T08:46:58.537Z"
   },
   {
    "duration": 35,
    "start_time": "2021-10-22T08:46:58.576Z"
   },
   {
    "duration": 52,
    "start_time": "2021-10-22T08:46:58.612Z"
   },
   {
    "duration": 32,
    "start_time": "2021-10-22T08:46:58.666Z"
   },
   {
    "duration": 409,
    "start_time": "2021-10-22T16:51:35.198Z"
   },
   {
    "duration": 383,
    "start_time": "2021-10-22T16:51:45.863Z"
   },
   {
    "duration": 400,
    "start_time": "2021-10-22T16:51:48.892Z"
   },
   {
    "duration": 676,
    "start_time": "2021-10-22T16:51:55.420Z"
   },
   {
    "duration": 12,
    "start_time": "2021-10-22T16:51:56.098Z"
   },
   {
    "duration": 20,
    "start_time": "2021-10-22T16:51:56.112Z"
   },
   {
    "duration": 6,
    "start_time": "2021-10-22T16:51:56.135Z"
   },
   {
    "duration": 11,
    "start_time": "2021-10-22T16:51:56.142Z"
   },
   {
    "duration": 30,
    "start_time": "2021-10-22T16:51:56.155Z"
   },
   {
    "duration": 10,
    "start_time": "2021-10-22T16:51:56.187Z"
   },
   {
    "duration": 11,
    "start_time": "2021-10-22T16:51:56.198Z"
   },
   {
    "duration": 9,
    "start_time": "2021-10-22T16:51:56.212Z"
   },
   {
    "duration": 10,
    "start_time": "2021-10-22T16:51:56.224Z"
   },
   {
    "duration": 15,
    "start_time": "2021-10-22T16:51:56.236Z"
   },
   {
    "duration": 39,
    "start_time": "2021-10-22T16:51:56.254Z"
   },
   {
    "duration": 5,
    "start_time": "2021-10-22T16:51:56.295Z"
   },
   {
    "duration": 8,
    "start_time": "2021-10-22T16:51:56.302Z"
   },
   {
    "duration": 8,
    "start_time": "2021-10-22T16:51:56.311Z"
   },
   {
    "duration": 6,
    "start_time": "2021-10-22T16:51:56.320Z"
   },
   {
    "duration": 11,
    "start_time": "2021-10-22T16:51:56.328Z"
   },
   {
    "duration": 44,
    "start_time": "2021-10-22T16:51:56.341Z"
   },
   {
    "duration": 12,
    "start_time": "2021-10-22T16:51:56.387Z"
   },
   {
    "duration": 14,
    "start_time": "2021-10-22T16:51:56.401Z"
   },
   {
    "duration": 8,
    "start_time": "2021-10-22T16:51:56.418Z"
   },
   {
    "duration": 18,
    "start_time": "2021-10-22T16:51:56.428Z"
   },
   {
    "duration": 1253,
    "start_time": "2021-10-22T16:51:56.448Z"
   },
   {
    "duration": 4,
    "start_time": "2021-10-22T16:51:57.703Z"
   },
   {
    "duration": 3069,
    "start_time": "2021-10-22T16:51:57.708Z"
   },
   {
    "duration": 25,
    "start_time": "2021-10-22T16:52:00.781Z"
   },
   {
    "duration": 3,
    "start_time": "2021-10-22T16:52:00.810Z"
   },
   {
    "duration": 29,
    "start_time": "2021-10-22T16:52:00.815Z"
   },
   {
    "duration": 26,
    "start_time": "2021-10-22T16:52:00.846Z"
   },
   {
    "duration": 24,
    "start_time": "2021-10-22T16:52:00.873Z"
   },
   {
    "duration": 33,
    "start_time": "2021-10-22T16:52:00.898Z"
   },
   {
    "duration": 27,
    "start_time": "2021-10-22T16:52:00.933Z"
   },
   {
    "duration": 31,
    "start_time": "2021-10-22T16:52:00.985Z"
   },
   {
    "duration": 10,
    "start_time": "2021-10-22T16:52:04.545Z"
   },
   {
    "duration": 8,
    "start_time": "2021-10-22T16:52:29.661Z"
   },
   {
    "duration": 8,
    "start_time": "2021-10-22T16:52:47.781Z"
   },
   {
    "duration": 74,
    "start_time": "2021-10-22T16:53:22.690Z"
   },
   {
    "duration": 16,
    "start_time": "2021-10-22T16:53:22.766Z"
   },
   {
    "duration": 15,
    "start_time": "2021-10-22T16:53:22.785Z"
   },
   {
    "duration": 15,
    "start_time": "2021-10-22T16:53:22.802Z"
   },
   {
    "duration": 19,
    "start_time": "2021-10-22T16:53:22.819Z"
   },
   {
    "duration": 19,
    "start_time": "2021-10-22T16:53:22.839Z"
   },
   {
    "duration": 32,
    "start_time": "2021-10-22T16:53:22.860Z"
   },
   {
    "duration": 17,
    "start_time": "2021-10-22T16:53:22.894Z"
   },
   {
    "duration": 25,
    "start_time": "2021-10-22T16:53:22.915Z"
   },
   {
    "duration": 26,
    "start_time": "2021-10-22T16:53:22.943Z"
   },
   {
    "duration": 22,
    "start_time": "2021-10-22T16:53:22.971Z"
   },
   {
    "duration": 23,
    "start_time": "2021-10-22T16:53:22.995Z"
   },
   {
    "duration": 16,
    "start_time": "2021-10-22T16:53:23.020Z"
   },
   {
    "duration": 12,
    "start_time": "2021-10-22T16:53:23.038Z"
   },
   {
    "duration": 10,
    "start_time": "2021-10-22T16:53:23.052Z"
   },
   {
    "duration": 22,
    "start_time": "2021-10-22T16:53:23.064Z"
   },
   {
    "duration": 26,
    "start_time": "2021-10-22T16:53:23.088Z"
   },
   {
    "duration": 21,
    "start_time": "2021-10-22T16:53:23.115Z"
   },
   {
    "duration": 12,
    "start_time": "2021-10-22T16:53:23.138Z"
   },
   {
    "duration": 14,
    "start_time": "2021-10-22T16:53:23.152Z"
   },
   {
    "duration": 24,
    "start_time": "2021-10-22T16:53:23.168Z"
   },
   {
    "duration": 19,
    "start_time": "2021-10-22T16:53:23.194Z"
   },
   {
    "duration": 827,
    "start_time": "2021-10-22T16:53:23.215Z"
   },
   {
    "duration": 4,
    "start_time": "2021-10-22T16:53:24.045Z"
   },
   {
    "duration": 3480,
    "start_time": "2021-10-22T16:53:24.050Z"
   },
   {
    "duration": 23,
    "start_time": "2021-10-22T16:53:27.531Z"
   },
   {
    "duration": 3,
    "start_time": "2021-10-22T16:53:27.558Z"
   },
   {
    "duration": 38,
    "start_time": "2021-10-22T16:53:27.562Z"
   },
   {
    "duration": 16,
    "start_time": "2021-10-22T16:53:27.602Z"
   },
   {
    "duration": 17,
    "start_time": "2021-10-22T16:53:27.619Z"
   },
   {
    "duration": 68,
    "start_time": "2021-10-22T16:53:27.638Z"
   },
   {
    "duration": 30,
    "start_time": "2021-10-22T16:53:27.708Z"
   },
   {
    "duration": 44,
    "start_time": "2021-10-22T16:53:27.739Z"
   },
   {
    "duration": 16,
    "start_time": "2021-10-22T17:00:25.766Z"
   },
   {
    "duration": 431,
    "start_time": "2021-10-22T17:00:35.739Z"
   },
   {
    "duration": 15,
    "start_time": "2021-10-22T17:00:38.783Z"
   },
   {
    "duration": 15,
    "start_time": "2021-10-22T17:02:28.529Z"
   },
   {
    "duration": 13,
    "start_time": "2021-10-22T17:02:39.847Z"
   },
   {
    "duration": 22,
    "start_time": "2021-10-22T17:03:42.566Z"
   },
   {
    "duration": 373,
    "start_time": "2021-10-25T07:34:49.837Z"
   },
   {
    "duration": 860,
    "start_time": "2021-10-25T07:35:12.610Z"
   },
   {
    "duration": 20,
    "start_time": "2021-10-25T07:35:13.473Z"
   },
   {
    "duration": 28,
    "start_time": "2021-10-25T07:35:13.497Z"
   },
   {
    "duration": 8,
    "start_time": "2021-10-25T07:35:13.528Z"
   },
   {
    "duration": 9,
    "start_time": "2021-10-25T07:35:13.538Z"
   },
   {
    "duration": 10,
    "start_time": "2021-10-25T07:35:13.583Z"
   },
   {
    "duration": 13,
    "start_time": "2021-10-25T07:35:13.597Z"
   },
   {
    "duration": 9,
    "start_time": "2021-10-25T07:35:13.613Z"
   },
   {
    "duration": 9,
    "start_time": "2021-10-25T07:35:13.626Z"
   },
   {
    "duration": 52,
    "start_time": "2021-10-25T07:35:13.638Z"
   },
   {
    "duration": 8,
    "start_time": "2021-10-25T07:35:13.700Z"
   },
   {
    "duration": 17,
    "start_time": "2021-10-25T07:35:13.710Z"
   },
   {
    "duration": 10,
    "start_time": "2021-10-25T07:35:13.730Z"
   },
   {
    "duration": 41,
    "start_time": "2021-10-25T07:35:13.743Z"
   },
   {
    "duration": 7,
    "start_time": "2021-10-25T07:35:13.787Z"
   },
   {
    "duration": 10,
    "start_time": "2021-10-25T07:35:13.796Z"
   },
   {
    "duration": 13,
    "start_time": "2021-10-25T07:35:13.809Z"
   },
   {
    "duration": 58,
    "start_time": "2021-10-25T07:35:13.824Z"
   },
   {
    "duration": 19,
    "start_time": "2021-10-25T07:35:13.885Z"
   },
   {
    "duration": 17,
    "start_time": "2021-10-25T07:35:13.907Z"
   },
   {
    "duration": 10,
    "start_time": "2021-10-25T07:35:13.926Z"
   },
   {
    "duration": 58,
    "start_time": "2021-10-25T07:35:13.939Z"
   },
   {
    "duration": 985,
    "start_time": "2021-10-25T07:35:14.000Z"
   },
   {
    "duration": 7,
    "start_time": "2021-10-25T07:35:14.989Z"
   },
   {
    "duration": 3762,
    "start_time": "2021-10-25T07:35:15.000Z"
   },
   {
    "duration": 45,
    "start_time": "2021-10-25T07:35:18.764Z"
   },
   {
    "duration": 4,
    "start_time": "2021-10-25T07:35:18.815Z"
   },
   {
    "duration": 19,
    "start_time": "2021-10-25T07:35:18.822Z"
   },
   {
    "duration": 59,
    "start_time": "2021-10-25T07:35:18.844Z"
   },
   {
    "duration": 15,
    "start_time": "2021-10-25T07:35:18.907Z"
   },
   {
    "duration": 20,
    "start_time": "2021-10-25T07:35:18.924Z"
   },
   {
    "duration": 55,
    "start_time": "2021-10-25T07:35:18.946Z"
   },
   {
    "duration": 21,
    "start_time": "2021-10-25T07:35:19.003Z"
   },
   {
    "duration": 18,
    "start_time": "2021-10-25T07:35:19.026Z"
   },
   {
    "duration": 60,
    "start_time": "2021-10-25T07:35:19.046Z"
   },
   {
    "duration": 44,
    "start_time": "2021-10-25T07:35:19.109Z"
   },
   {
    "duration": 42,
    "start_time": "2021-10-25T07:35:19.185Z"
   },
   {
    "duration": 60,
    "start_time": "2021-10-25T07:35:19.229Z"
   },
   {
    "duration": 19,
    "start_time": "2021-10-25T07:54:26.708Z"
   },
   {
    "duration": 10,
    "start_time": "2021-10-25T07:57:14.828Z"
   },
   {
    "duration": 10,
    "start_time": "2021-10-25T07:58:00.008Z"
   },
   {
    "duration": 10,
    "start_time": "2021-10-25T07:58:40.688Z"
   },
   {
    "duration": 104,
    "start_time": "2021-10-25T08:01:47.708Z"
   },
   {
    "duration": 24,
    "start_time": "2021-10-25T08:01:56.308Z"
   },
   {
    "duration": 3,
    "start_time": "2021-10-25T08:07:27.836Z"
   },
   {
    "duration": 19,
    "start_time": "2021-10-25T08:10:05.847Z"
   },
   {
    "duration": 327,
    "start_time": "2021-10-25T08:10:35.108Z"
   },
   {
    "duration": 545,
    "start_time": "2021-10-25T08:14:18.928Z"
   },
   {
    "duration": 311,
    "start_time": "2021-10-25T08:14:31.708Z"
   },
   {
    "duration": 302,
    "start_time": "2021-10-25T08:14:49.428Z"
   },
   {
    "duration": 3,
    "start_time": "2021-10-25T08:15:11.228Z"
   },
   {
    "duration": 6,
    "start_time": "2021-10-25T08:15:17.668Z"
   },
   {
    "duration": 8,
    "start_time": "2021-10-25T08:15:26.787Z"
   },
   {
    "duration": 6,
    "start_time": "2021-10-25T08:15:43.141Z"
   },
   {
    "duration": 13,
    "start_time": "2021-10-25T08:16:10.748Z"
   },
   {
    "duration": 327,
    "start_time": "2021-10-25T08:17:05.189Z"
   },
   {
    "duration": 307,
    "start_time": "2021-10-25T08:18:28.627Z"
   },
   {
    "duration": 285,
    "start_time": "2021-10-25T08:19:18.628Z"
   },
   {
    "duration": 301,
    "start_time": "2021-10-25T08:19:44.248Z"
   },
   {
    "duration": 24,
    "start_time": "2021-10-25T08:20:53.898Z"
   },
   {
    "duration": 27,
    "start_time": "2021-10-25T08:22:44.028Z"
   },
   {
    "duration": 17,
    "start_time": "2021-10-25T08:23:28.867Z"
   },
   {
    "duration": 19,
    "start_time": "2021-10-25T08:24:00.389Z"
   },
   {
    "duration": 475,
    "start_time": "2021-10-25T08:32:19.469Z"
   },
   {
    "duration": 12,
    "start_time": "2021-10-25T08:33:30.929Z"
   },
   {
    "duration": 15,
    "start_time": "2021-10-25T08:34:09.869Z"
   },
   {
    "duration": 17,
    "start_time": "2021-10-25T08:43:33.348Z"
   },
   {
    "duration": 16,
    "start_time": "2021-10-25T08:45:32.168Z"
   },
   {
    "duration": 7183,
    "start_time": "2021-10-25T08:46:45.176Z"
   },
   {
    "duration": 6831,
    "start_time": "2021-10-25T08:47:02.137Z"
   },
   {
    "duration": 3898,
    "start_time": "2021-10-25T09:12:20.889Z"
   },
   {
    "duration": 27,
    "start_time": "2021-10-25T09:13:23.454Z"
   },
   {
    "duration": 24,
    "start_time": "2021-10-25T09:14:09.509Z"
   },
   {
    "duration": 22,
    "start_time": "2021-10-25T09:14:57.084Z"
   },
   {
    "duration": 23,
    "start_time": "2021-10-25T09:15:09.909Z"
   },
   {
    "duration": 28,
    "start_time": "2021-10-25T09:16:46.637Z"
   },
   {
    "duration": 24,
    "start_time": "2021-10-25T09:17:11.069Z"
   },
   {
    "duration": 27,
    "start_time": "2021-10-25T09:17:28.016Z"
   },
   {
    "duration": 32,
    "start_time": "2021-10-25T09:23:41.590Z"
   },
   {
    "duration": 60,
    "start_time": "2021-10-25T09:46:38.736Z"
   },
   {
    "duration": 58,
    "start_time": "2021-10-25T09:47:17.797Z"
   },
   {
    "duration": 25,
    "start_time": "2021-10-25T09:48:34.217Z"
   },
   {
    "duration": 38,
    "start_time": "2021-10-25T09:54:55.099Z"
   },
   {
    "duration": 35,
    "start_time": "2021-10-25T09:55:17.913Z"
   },
   {
    "duration": 28,
    "start_time": "2021-10-25T09:56:46.319Z"
   },
   {
    "duration": 30,
    "start_time": "2021-10-25T09:57:21.399Z"
   },
   {
    "duration": 48,
    "start_time": "2021-10-25T09:57:30.999Z"
   },
   {
    "duration": 54,
    "start_time": "2021-10-25T10:00:34.331Z"
   },
   {
    "duration": 37,
    "start_time": "2021-10-25T10:01:21.691Z"
   },
   {
    "duration": 65,
    "start_time": "2021-10-25T10:04:13.980Z"
   },
   {
    "duration": 62,
    "start_time": "2021-10-25T10:05:00.694Z"
   },
   {
    "duration": 6,
    "start_time": "2021-10-25T10:10:13.512Z"
   },
   {
    "duration": 278,
    "start_time": "2021-10-25T10:10:17.791Z"
   },
   {
    "duration": 8,
    "start_time": "2021-10-25T10:11:00.811Z"
   },
   {
    "duration": 294,
    "start_time": "2021-10-25T10:11:04.031Z"
   },
   {
    "duration": 7,
    "start_time": "2021-10-25T10:12:22.893Z"
   },
   {
    "duration": 9,
    "start_time": "2021-10-25T10:12:41.892Z"
   },
   {
    "duration": 23,
    "start_time": "2021-10-25T10:12:43.492Z"
   },
   {
    "duration": 12,
    "start_time": "2021-10-25T10:14:07.293Z"
   },
   {
    "duration": 21,
    "start_time": "2021-10-25T10:14:09.700Z"
   },
   {
    "duration": 3,
    "start_time": "2021-10-25T10:14:24.472Z"
   },
   {
    "duration": 3,
    "start_time": "2021-10-25T10:14:46.272Z"
   },
   {
    "duration": 307,
    "start_time": "2021-10-25T10:15:45.071Z"
   },
   {
    "duration": 354,
    "start_time": "2021-10-25T10:16:14.680Z"
   },
   {
    "duration": 49,
    "start_time": "2021-10-25T10:19:33.012Z"
   },
   {
    "duration": 26,
    "start_time": "2021-10-25T10:20:16.540Z"
   },
   {
    "duration": 23,
    "start_time": "2021-10-25T10:20:46.855Z"
   },
   {
    "duration": 10,
    "start_time": "2021-10-25T10:21:16.041Z"
   },
   {
    "duration": 337,
    "start_time": "2021-10-25T10:21:50.601Z"
   },
   {
    "duration": 22,
    "start_time": "2021-10-25T10:22:03.711Z"
   },
   {
    "duration": 51,
    "start_time": "2021-10-25T10:23:39.532Z"
   },
   {
    "duration": 43,
    "start_time": "2021-10-25T10:32:49.329Z"
   },
   {
    "duration": 27,
    "start_time": "2021-10-25T10:33:23.409Z"
   },
   {
    "duration": 349,
    "start_time": "2021-10-25T10:36:36.117Z"
   },
   {
    "duration": 83,
    "start_time": "2021-10-25T10:37:05.536Z"
   },
   {
    "duration": 20,
    "start_time": "2021-10-25T10:37:20.228Z"
   },
   {
    "duration": 11,
    "start_time": "2021-10-25T10:38:11.928Z"
   },
   {
    "duration": 31,
    "start_time": "2021-10-25T10:39:23.990Z"
   },
   {
    "duration": 69,
    "start_time": "2021-10-25T10:40:43.128Z"
   },
   {
    "duration": 49,
    "start_time": "2021-10-25T10:40:48.789Z"
   },
   {
    "duration": 286,
    "start_time": "2021-10-25T10:44:39.387Z"
   },
   {
    "duration": 3496,
    "start_time": "2021-10-25T10:45:36.329Z"
   },
   {
    "duration": 66,
    "start_time": "2021-10-25T10:46:12.390Z"
   },
   {
    "duration": 24,
    "start_time": "2021-10-25T10:46:17.828Z"
   },
   {
    "duration": 15,
    "start_time": "2021-10-25T10:46:32.409Z"
   },
   {
    "duration": 10,
    "start_time": "2021-10-25T10:50:53.208Z"
   },
   {
    "duration": 16,
    "start_time": "2021-10-25T10:53:44.357Z"
   },
   {
    "duration": 25,
    "start_time": "2021-10-25T10:55:04.321Z"
   },
   {
    "duration": 7808,
    "start_time": "2021-10-25T10:55:42.441Z"
   },
   {
    "duration": -179,
    "start_time": "2021-10-25T10:55:50.431Z"
   },
   {
    "duration": -187,
    "start_time": "2021-10-25T10:55:50.440Z"
   },
   {
    "duration": 8837,
    "start_time": "2021-10-25T10:56:03.581Z"
   },
   {
    "duration": 17,
    "start_time": "2021-10-25T10:56:44.890Z"
   },
   {
    "duration": 15,
    "start_time": "2021-10-25T10:57:00.470Z"
   },
   {
    "duration": 30,
    "start_time": "2021-10-25T10:57:01.700Z"
   },
   {
    "duration": 33,
    "start_time": "2021-10-25T10:57:24.156Z"
   },
   {
    "duration": 37,
    "start_time": "2021-10-25T10:57:42.076Z"
   },
   {
    "duration": 18,
    "start_time": "2021-10-25T10:59:16.708Z"
   },
   {
    "duration": 13,
    "start_time": "2021-10-25T10:59:18.497Z"
   },
   {
    "duration": 30,
    "start_time": "2021-10-25T10:59:24.297Z"
   },
   {
    "duration": 55,
    "start_time": "2021-10-25T11:00:06.405Z"
   },
   {
    "duration": 53,
    "start_time": "2021-10-25T11:01:58.430Z"
   },
   {
    "duration": 335,
    "start_time": "2021-10-25T11:02:22.510Z"
   },
   {
    "duration": 64,
    "start_time": "2021-10-25T11:02:30.048Z"
   },
   {
    "duration": 67,
    "start_time": "2021-10-25T11:03:11.150Z"
   },
   {
    "duration": 53,
    "start_time": "2021-10-25T11:03:32.800Z"
   },
   {
    "duration": 34,
    "start_time": "2021-10-25T11:04:30.936Z"
   },
   {
    "duration": 143,
    "start_time": "2021-10-25T11:09:55.708Z"
   },
   {
    "duration": 8290,
    "start_time": "2021-10-25T11:10:10.868Z"
   },
   {
    "duration": 56,
    "start_time": "2021-10-25T11:10:42.169Z"
   },
   {
    "duration": 31,
    "start_time": "2021-10-25T11:11:26.771Z"
   },
   {
    "duration": 28,
    "start_time": "2021-10-25T11:11:32.147Z"
   },
   {
    "duration": 61,
    "start_time": "2021-10-25T11:12:02.170Z"
   },
   {
    "duration": 353,
    "start_time": "2021-10-25T11:12:40.589Z"
   },
   {
    "duration": 30,
    "start_time": "2021-10-25T11:12:57.747Z"
   },
   {
    "duration": 8911,
    "start_time": "2021-10-25T11:29:13.270Z"
   },
   {
    "duration": 7484,
    "start_time": "2021-10-25T11:30:48.377Z"
   },
   {
    "duration": 8818,
    "start_time": "2021-10-25T11:31:31.109Z"
   },
   {
    "duration": 47,
    "start_time": "2021-10-25T11:33:51.756Z"
   },
   {
    "duration": 30,
    "start_time": "2021-10-25T11:34:34.211Z"
   },
   {
    "duration": 45,
    "start_time": "2021-10-25T11:34:41.357Z"
   },
   {
    "duration": 16,
    "start_time": "2021-10-25T11:35:07.589Z"
   },
   {
    "duration": 59,
    "start_time": "2021-10-25T11:35:20.069Z"
   },
   {
    "duration": 12,
    "start_time": "2021-10-25T11:36:05.708Z"
   },
   {
    "duration": 17,
    "start_time": "2021-10-25T11:37:10.948Z"
   },
   {
    "duration": 18,
    "start_time": "2021-10-25T11:37:36.148Z"
   },
   {
    "duration": 13,
    "start_time": "2021-10-25T11:37:37.868Z"
   },
   {
    "duration": 38,
    "start_time": "2021-10-25T11:39:18.428Z"
   },
   {
    "duration": 51,
    "start_time": "2021-10-25T11:40:42.889Z"
   },
   {
    "duration": 355,
    "start_time": "2021-10-25T11:41:49.890Z"
   },
   {
    "duration": 491,
    "start_time": "2021-10-25T11:42:33.236Z"
   },
   {
    "duration": 6,
    "start_time": "2021-10-25T11:43:41.228Z"
   },
   {
    "duration": 38,
    "start_time": "2021-10-25T11:43:47.129Z"
   },
   {
    "duration": 5,
    "start_time": "2021-10-25T11:43:52.706Z"
   },
   {
    "duration": 9,
    "start_time": "2021-10-25T11:43:56.465Z"
   },
   {
    "duration": 90,
    "start_time": "2021-10-25T11:44:32.746Z"
   },
   {
    "duration": 14,
    "start_time": "2021-10-25T11:44:32.839Z"
   },
   {
    "duration": 41,
    "start_time": "2021-10-25T11:44:32.857Z"
   },
   {
    "duration": 12,
    "start_time": "2021-10-25T11:44:32.903Z"
   },
   {
    "duration": 10,
    "start_time": "2021-10-25T11:44:32.917Z"
   },
   {
    "duration": 10,
    "start_time": "2021-10-25T11:44:32.929Z"
   },
   {
    "duration": 14,
    "start_time": "2021-10-25T11:44:32.988Z"
   },
   {
    "duration": 17,
    "start_time": "2021-10-25T11:44:33.004Z"
   },
   {
    "duration": 10,
    "start_time": "2021-10-25T11:44:33.027Z"
   },
   {
    "duration": 44,
    "start_time": "2021-10-25T11:44:33.040Z"
   },
   {
    "duration": 11,
    "start_time": "2021-10-25T11:44:33.086Z"
   },
   {
    "duration": 11,
    "start_time": "2021-10-25T11:44:33.100Z"
   },
   {
    "duration": 11,
    "start_time": "2021-10-25T11:44:33.113Z"
   },
   {
    "duration": 7,
    "start_time": "2021-10-25T11:44:33.126Z"
   },
   {
    "duration": 55,
    "start_time": "2021-10-25T11:44:33.135Z"
   },
   {
    "duration": 9,
    "start_time": "2021-10-25T11:44:33.193Z"
   },
   {
    "duration": 12,
    "start_time": "2021-10-25T11:44:33.204Z"
   },
   {
    "duration": 10,
    "start_time": "2021-10-25T11:44:33.218Z"
   },
   {
    "duration": 62,
    "start_time": "2021-10-25T11:44:33.231Z"
   },
   {
    "duration": 17,
    "start_time": "2021-10-25T11:44:33.296Z"
   },
   {
    "duration": 4,
    "start_time": "2021-10-25T11:44:33.315Z"
   },
   {
    "duration": 24,
    "start_time": "2021-10-25T11:44:33.321Z"
   },
   {
    "duration": 51,
    "start_time": "2021-10-25T11:44:33.347Z"
   },
   {
    "duration": 10,
    "start_time": "2021-10-25T11:44:33.400Z"
   },
   {
    "duration": 25,
    "start_time": "2021-10-25T11:44:33.412Z"
   },
   {
    "duration": 1116,
    "start_time": "2021-10-25T11:44:33.440Z"
   },
   {
    "duration": 5,
    "start_time": "2021-10-25T11:44:34.563Z"
   },
   {
    "duration": 3877,
    "start_time": "2021-10-25T11:44:34.583Z"
   },
   {
    "duration": 43,
    "start_time": "2021-10-25T11:44:38.462Z"
   },
   {
    "duration": 4,
    "start_time": "2021-10-25T11:44:38.507Z"
   },
   {
    "duration": 24,
    "start_time": "2021-10-25T11:44:38.514Z"
   },
   {
    "duration": 47,
    "start_time": "2021-10-25T11:44:38.540Z"
   },
   {
    "duration": 20,
    "start_time": "2021-10-25T11:44:38.590Z"
   },
   {
    "duration": 13,
    "start_time": "2021-10-25T11:44:38.613Z"
   },
   {
    "duration": 87,
    "start_time": "2021-10-25T11:44:38.629Z"
   },
   {
    "duration": 7,
    "start_time": "2021-10-25T11:44:47.266Z"
   },
   {
    "duration": 12,
    "start_time": "2021-10-25T11:44:49.806Z"
   },
   {
    "duration": 51,
    "start_time": "2021-10-25T11:45:23.620Z"
   },
   {
    "duration": 55,
    "start_time": "2021-10-25T11:45:52.195Z"
   },
   {
    "duration": 62,
    "start_time": "2021-10-25T11:46:02.667Z"
   },
   {
    "duration": 54,
    "start_time": "2021-10-25T11:46:14.506Z"
   },
   {
    "duration": 61,
    "start_time": "2021-10-25T11:46:57.934Z"
   },
   {
    "duration": 11,
    "start_time": "2021-10-25T11:47:18.067Z"
   },
   {
    "duration": 49,
    "start_time": "2021-10-25T11:47:24.229Z"
   },
   {
    "duration": 12,
    "start_time": "2021-10-25T11:48:26.894Z"
   },
   {
    "duration": 49,
    "start_time": "2021-10-25T11:49:06.670Z"
   },
   {
    "duration": 20,
    "start_time": "2021-10-25T11:49:16.626Z"
   },
   {
    "duration": 16,
    "start_time": "2021-10-25T11:50:05.454Z"
   },
   {
    "duration": 11,
    "start_time": "2021-10-25T11:50:10.165Z"
   },
   {
    "duration": 39,
    "start_time": "2021-10-25T11:50:33.334Z"
   },
   {
    "duration": 24,
    "start_time": "2021-10-25T11:50:39.086Z"
   },
   {
    "duration": 12,
    "start_time": "2021-10-25T11:51:13.107Z"
   },
   {
    "duration": 697,
    "start_time": "2021-10-25T11:51:33.063Z"
   },
   {
    "duration": 89,
    "start_time": "2021-10-25T11:51:58.428Z"
   },
   {
    "duration": 15,
    "start_time": "2021-10-25T11:51:58.520Z"
   },
   {
    "duration": 46,
    "start_time": "2021-10-25T11:51:58.538Z"
   },
   {
    "duration": 13,
    "start_time": "2021-10-25T11:51:58.587Z"
   },
   {
    "duration": 12,
    "start_time": "2021-10-25T11:51:58.603Z"
   },
   {
    "duration": 12,
    "start_time": "2021-10-25T11:51:58.617Z"
   },
   {
    "duration": 14,
    "start_time": "2021-10-25T11:51:58.631Z"
   },
   {
    "duration": 49,
    "start_time": "2021-10-25T11:51:58.647Z"
   },
   {
    "duration": 10,
    "start_time": "2021-10-25T11:51:58.702Z"
   },
   {
    "duration": 12,
    "start_time": "2021-10-25T11:51:58.715Z"
   },
   {
    "duration": 10,
    "start_time": "2021-10-25T11:51:58.729Z"
   },
   {
    "duration": 50,
    "start_time": "2021-10-25T11:51:58.741Z"
   },
   {
    "duration": 15,
    "start_time": "2021-10-25T11:51:58.794Z"
   },
   {
    "duration": 8,
    "start_time": "2021-10-25T11:51:58.813Z"
   },
   {
    "duration": 13,
    "start_time": "2021-10-25T11:51:58.823Z"
   },
   {
    "duration": 8,
    "start_time": "2021-10-25T11:51:58.839Z"
   },
   {
    "duration": 47,
    "start_time": "2021-10-25T11:51:58.849Z"
   },
   {
    "duration": 10,
    "start_time": "2021-10-25T11:51:58.900Z"
   },
   {
    "duration": 24,
    "start_time": "2021-10-25T11:51:58.912Z"
   },
   {
    "duration": 11,
    "start_time": "2021-10-25T11:51:58.938Z"
   },
   {
    "duration": 3,
    "start_time": "2021-10-25T11:51:58.982Z"
   },
   {
    "duration": 24,
    "start_time": "2021-10-25T11:51:58.987Z"
   },
   {
    "duration": 18,
    "start_time": "2021-10-25T11:51:59.013Z"
   },
   {
    "duration": 10,
    "start_time": "2021-10-25T11:51:59.034Z"
   },
   {
    "duration": 63,
    "start_time": "2021-10-25T11:51:59.046Z"
   },
   {
    "duration": 972,
    "start_time": "2021-10-25T11:51:59.112Z"
   },
   {
    "duration": 6,
    "start_time": "2021-10-25T11:52:00.097Z"
   },
   {
    "duration": 3929,
    "start_time": "2021-10-25T11:52:00.105Z"
   },
   {
    "duration": 49,
    "start_time": "2021-10-25T11:52:04.036Z"
   },
   {
    "duration": 9,
    "start_time": "2021-10-25T11:52:04.088Z"
   },
   {
    "duration": 21,
    "start_time": "2021-10-25T11:52:04.100Z"
   },
   {
    "duration": 26,
    "start_time": "2021-10-25T11:52:04.124Z"
   },
   {
    "duration": 43,
    "start_time": "2021-10-25T11:52:04.153Z"
   },
   {
    "duration": 13,
    "start_time": "2021-10-25T11:52:04.198Z"
   },
   {
    "duration": 71,
    "start_time": "2021-10-25T11:52:04.214Z"
   },
   {
    "duration": 10,
    "start_time": "2021-10-25T11:52:04.294Z"
   },
   {
    "duration": 12,
    "start_time": "2021-10-25T11:52:04.307Z"
   },
   {
    "duration": 3,
    "start_time": "2021-10-25T11:52:04.322Z"
   },
   {
    "duration": 36,
    "start_time": "2021-10-25T11:52:12.807Z"
   },
   {
    "duration": 44,
    "start_time": "2021-10-25T11:52:38.286Z"
   },
   {
    "duration": 22,
    "start_time": "2021-10-25T11:52:50.708Z"
   },
   {
    "duration": 12,
    "start_time": "2021-10-25T11:53:04.914Z"
   },
   {
    "duration": 1124,
    "start_time": "2021-10-25T11:53:21.942Z"
   },
   {
    "duration": 22,
    "start_time": "2021-10-25T11:53:23.070Z"
   },
   {
    "duration": 33,
    "start_time": "2021-10-25T11:53:23.096Z"
   },
   {
    "duration": 13,
    "start_time": "2021-10-25T11:53:23.132Z"
   },
   {
    "duration": 13,
    "start_time": "2021-10-25T11:53:23.148Z"
   },
   {
    "duration": 8,
    "start_time": "2021-10-25T11:53:23.661Z"
   },
   {
    "duration": 16,
    "start_time": "2021-10-25T11:53:23.672Z"
   },
   {
    "duration": 10,
    "start_time": "2021-10-25T11:53:23.695Z"
   },
   {
    "duration": 10,
    "start_time": "2021-10-25T11:53:23.709Z"
   },
   {
    "duration": 69,
    "start_time": "2021-10-25T11:53:23.721Z"
   },
   {
    "duration": 10,
    "start_time": "2021-10-25T11:53:23.793Z"
   },
   {
    "duration": 11,
    "start_time": "2021-10-25T11:53:23.805Z"
   },
   {
    "duration": 9,
    "start_time": "2021-10-25T11:53:23.819Z"
   },
   {
    "duration": 8,
    "start_time": "2021-10-25T11:53:23.831Z"
   },
   {
    "duration": 53,
    "start_time": "2021-10-25T11:53:23.841Z"
   },
   {
    "duration": 7,
    "start_time": "2021-10-25T11:53:23.898Z"
   },
   {
    "duration": 12,
    "start_time": "2021-10-25T11:53:23.907Z"
   },
   {
    "duration": 11,
    "start_time": "2021-10-25T11:53:23.921Z"
   },
   {
    "duration": 72,
    "start_time": "2021-10-25T11:53:23.935Z"
   },
   {
    "duration": 11,
    "start_time": "2021-10-25T11:53:24.010Z"
   },
   {
    "duration": 2,
    "start_time": "2021-10-25T11:53:24.023Z"
   },
   {
    "duration": 18,
    "start_time": "2021-10-25T11:53:24.028Z"
   },
   {
    "duration": 54,
    "start_time": "2021-10-25T11:53:24.048Z"
   },
   {
    "duration": 11,
    "start_time": "2021-10-25T11:53:24.105Z"
   },
   {
    "duration": 24,
    "start_time": "2021-10-25T11:53:24.120Z"
   },
   {
    "duration": 983,
    "start_time": "2021-10-25T11:53:24.184Z"
   },
   {
    "duration": 17,
    "start_time": "2021-10-25T11:53:25.170Z"
   },
   {
    "duration": 3929,
    "start_time": "2021-10-25T11:53:25.195Z"
   },
   {
    "duration": 31,
    "start_time": "2021-10-25T11:53:29.127Z"
   },
   {
    "duration": 23,
    "start_time": "2021-10-25T11:53:29.160Z"
   },
   {
    "duration": 29,
    "start_time": "2021-10-25T11:53:29.186Z"
   },
   {
    "duration": 24,
    "start_time": "2021-10-25T11:53:29.218Z"
   },
   {
    "duration": 41,
    "start_time": "2021-10-25T11:53:29.244Z"
   },
   {
    "duration": 14,
    "start_time": "2021-10-25T11:53:29.292Z"
   },
   {
    "duration": 42,
    "start_time": "2021-10-25T11:53:29.309Z"
   },
   {
    "duration": 37,
    "start_time": "2021-10-25T11:53:29.353Z"
   },
   {
    "duration": 16,
    "start_time": "2021-10-25T11:53:29.394Z"
   },
   {
    "duration": 3,
    "start_time": "2021-10-25T11:53:29.413Z"
   },
   {
    "duration": 42,
    "start_time": "2021-10-25T11:53:32.954Z"
   },
   {
    "duration": 15,
    "start_time": "2021-10-25T11:53:41.027Z"
   },
   {
    "duration": 16,
    "start_time": "2021-10-25T11:53:51.226Z"
   },
   {
    "duration": 20,
    "start_time": "2021-10-25T11:53:56.698Z"
   },
   {
    "duration": 94,
    "start_time": "2021-10-25T11:56:19.888Z"
   },
   {
    "duration": 20,
    "start_time": "2021-10-25T11:56:19.986Z"
   },
   {
    "duration": 20,
    "start_time": "2021-10-25T11:56:20.009Z"
   },
   {
    "duration": 61,
    "start_time": "2021-10-25T11:56:20.032Z"
   },
   {
    "duration": 30,
    "start_time": "2021-10-25T11:56:20.096Z"
   },
   {
    "duration": 11,
    "start_time": "2021-10-25T11:56:20.129Z"
   },
   {
    "duration": 13,
    "start_time": "2021-10-25T11:56:20.143Z"
   },
   {
    "duration": 43,
    "start_time": "2021-10-25T11:56:20.159Z"
   },
   {
    "duration": 10,
    "start_time": "2021-10-25T11:56:20.208Z"
   },
   {
    "duration": 13,
    "start_time": "2021-10-25T11:56:20.221Z"
   },
   {
    "duration": 11,
    "start_time": "2021-10-25T11:56:20.236Z"
   },
   {
    "duration": 35,
    "start_time": "2021-10-25T11:56:20.250Z"
   },
   {
    "duration": 11,
    "start_time": "2021-10-25T11:56:20.288Z"
   },
   {
    "duration": 11,
    "start_time": "2021-10-25T11:56:20.303Z"
   },
   {
    "duration": 33,
    "start_time": "2021-10-25T11:56:20.316Z"
   },
   {
    "duration": 29,
    "start_time": "2021-10-25T11:56:20.352Z"
   },
   {
    "duration": 13,
    "start_time": "2021-10-25T11:56:20.384Z"
   },
   {
    "duration": 9,
    "start_time": "2021-10-25T11:56:20.400Z"
   },
   {
    "duration": 30,
    "start_time": "2021-10-25T11:56:20.412Z"
   },
   {
    "duration": 46,
    "start_time": "2021-10-25T11:56:20.445Z"
   },
   {
    "duration": 4,
    "start_time": "2021-10-25T11:56:20.494Z"
   },
   {
    "duration": 22,
    "start_time": "2021-10-25T11:56:20.501Z"
   },
   {
    "duration": 22,
    "start_time": "2021-10-25T11:56:20.526Z"
   },
   {
    "duration": 40,
    "start_time": "2021-10-25T11:56:20.550Z"
   },
   {
    "duration": 26,
    "start_time": "2021-10-25T11:56:20.592Z"
   },
   {
    "duration": 1054,
    "start_time": "2021-10-25T11:56:20.620Z"
   },
   {
    "duration": 5,
    "start_time": "2021-10-25T11:56:21.685Z"
   },
   {
    "duration": 3746,
    "start_time": "2021-10-25T11:56:21.693Z"
   },
   {
    "duration": 45,
    "start_time": "2021-10-25T11:56:25.441Z"
   },
   {
    "duration": 4,
    "start_time": "2021-10-25T11:56:25.488Z"
   },
   {
    "duration": 22,
    "start_time": "2021-10-25T11:56:25.494Z"
   },
   {
    "duration": 20,
    "start_time": "2021-10-25T11:56:25.518Z"
   },
   {
    "duration": 43,
    "start_time": "2021-10-25T11:56:25.540Z"
   },
   {
    "duration": 29,
    "start_time": "2021-10-25T11:56:25.586Z"
   },
   {
    "duration": 8,
    "start_time": "2021-10-25T11:56:25.617Z"
   },
   {
    "duration": 9,
    "start_time": "2021-10-25T11:56:45.028Z"
   },
   {
    "duration": 12,
    "start_time": "2021-10-25T11:56:49.587Z"
   },
   {
    "duration": 17,
    "start_time": "2021-10-25T11:57:16.507Z"
   },
   {
    "duration": 11,
    "start_time": "2021-10-25T11:57:26.565Z"
   },
   {
    "duration": 12,
    "start_time": "2021-10-25T11:57:34.866Z"
   },
   {
    "duration": 96,
    "start_time": "2021-10-25T12:00:13.767Z"
   },
   {
    "duration": 20,
    "start_time": "2021-10-25T12:00:13.866Z"
   },
   {
    "duration": 28,
    "start_time": "2021-10-25T12:00:13.891Z"
   },
   {
    "duration": 8,
    "start_time": "2021-10-25T12:00:13.921Z"
   },
   {
    "duration": 68,
    "start_time": "2021-10-25T12:00:13.932Z"
   },
   {
    "duration": 18,
    "start_time": "2021-10-25T12:00:14.003Z"
   },
   {
    "duration": 14,
    "start_time": "2021-10-25T12:00:14.024Z"
   },
   {
    "duration": 16,
    "start_time": "2021-10-25T12:00:14.041Z"
   },
   {
    "duration": 42,
    "start_time": "2021-10-25T12:00:14.063Z"
   },
   {
    "duration": 10,
    "start_time": "2021-10-25T12:00:14.108Z"
   },
   {
    "duration": 9,
    "start_time": "2021-10-25T12:00:14.120Z"
   },
   {
    "duration": 10,
    "start_time": "2021-10-25T12:00:14.131Z"
   },
   {
    "duration": 41,
    "start_time": "2021-10-25T12:00:14.144Z"
   },
   {
    "duration": 9,
    "start_time": "2021-10-25T12:00:14.188Z"
   },
   {
    "duration": 10,
    "start_time": "2021-10-25T12:00:14.200Z"
   },
   {
    "duration": 7,
    "start_time": "2021-10-25T12:00:14.214Z"
   },
   {
    "duration": 33,
    "start_time": "2021-10-25T12:00:14.224Z"
   },
   {
    "duration": 13,
    "start_time": "2021-10-25T12:00:14.287Z"
   },
   {
    "duration": 27,
    "start_time": "2021-10-25T12:00:14.303Z"
   },
   {
    "duration": 13,
    "start_time": "2021-10-25T12:00:14.332Z"
   },
   {
    "duration": 41,
    "start_time": "2021-10-25T12:00:14.347Z"
   },
   {
    "duration": 26,
    "start_time": "2021-10-25T12:00:14.392Z"
   },
   {
    "duration": 17,
    "start_time": "2021-10-25T12:00:14.420Z"
   },
   {
    "duration": 44,
    "start_time": "2021-10-25T12:00:14.440Z"
   },
   {
    "duration": 30,
    "start_time": "2021-10-25T12:00:14.487Z"
   },
   {
    "duration": 1052,
    "start_time": "2021-10-25T12:00:14.519Z"
   },
   {
    "duration": 12,
    "start_time": "2021-10-25T12:00:15.576Z"
   },
   {
    "duration": 4242,
    "start_time": "2021-10-25T12:00:15.596Z"
   },
   {
    "duration": 46,
    "start_time": "2021-10-25T12:00:19.840Z"
   },
   {
    "duration": 8,
    "start_time": "2021-10-25T12:00:19.890Z"
   },
   {
    "duration": 32,
    "start_time": "2021-10-25T12:00:19.901Z"
   },
   {
    "duration": 21,
    "start_time": "2021-10-25T12:00:19.935Z"
   },
   {
    "duration": 22,
    "start_time": "2021-10-25T12:00:19.982Z"
   },
   {
    "duration": 29,
    "start_time": "2021-10-25T12:00:20.007Z"
   },
   {
    "duration": 44,
    "start_time": "2021-10-25T12:00:20.038Z"
   },
   {
    "duration": 55,
    "start_time": "2021-10-25T12:00:20.087Z"
   },
   {
    "duration": 24,
    "start_time": "2021-10-25T12:00:22.346Z"
   },
   {
    "duration": 90,
    "start_time": "2021-10-25T12:19:54.247Z"
   },
   {
    "duration": 14,
    "start_time": "2021-10-25T12:19:54.340Z"
   },
   {
    "duration": 45,
    "start_time": "2021-10-25T12:19:54.357Z"
   },
   {
    "duration": 10,
    "start_time": "2021-10-25T12:19:54.405Z"
   },
   {
    "duration": 15,
    "start_time": "2021-10-25T12:19:54.417Z"
   },
   {
    "duration": 13,
    "start_time": "2021-10-25T12:19:54.434Z"
   },
   {
    "duration": 44,
    "start_time": "2021-10-25T12:19:54.449Z"
   },
   {
    "duration": 15,
    "start_time": "2021-10-25T12:19:54.496Z"
   },
   {
    "duration": 11,
    "start_time": "2021-10-25T12:19:54.515Z"
   },
   {
    "duration": 9,
    "start_time": "2021-10-25T12:19:54.529Z"
   },
   {
    "duration": 45,
    "start_time": "2021-10-25T12:19:54.540Z"
   },
   {
    "duration": 17,
    "start_time": "2021-10-25T12:19:54.589Z"
   },
   {
    "duration": 10,
    "start_time": "2021-10-25T12:19:54.609Z"
   },
   {
    "duration": 9,
    "start_time": "2021-10-25T12:19:54.622Z"
   },
   {
    "duration": 58,
    "start_time": "2021-10-25T12:19:54.633Z"
   },
   {
    "duration": 10,
    "start_time": "2021-10-25T12:19:54.694Z"
   },
   {
    "duration": 14,
    "start_time": "2021-10-25T12:19:54.706Z"
   },
   {
    "duration": 9,
    "start_time": "2021-10-25T12:19:54.722Z"
   },
   {
    "duration": 76,
    "start_time": "2021-10-25T12:19:54.734Z"
   },
   {
    "duration": 15,
    "start_time": "2021-10-25T12:19:54.813Z"
   },
   {
    "duration": 17,
    "start_time": "2021-10-25T12:19:54.831Z"
   },
   {
    "duration": 48,
    "start_time": "2021-10-25T12:19:54.850Z"
   },
   {
    "duration": 11,
    "start_time": "2021-10-25T12:19:54.901Z"
   },
   {
    "duration": 23,
    "start_time": "2021-10-25T12:19:54.914Z"
   },
   {
    "duration": 83,
    "start_time": "2021-10-25T12:19:59.287Z"
   },
   {
    "duration": 66,
    "start_time": "2021-10-25T12:21:50.676Z"
   },
   {
    "duration": 15,
    "start_time": "2021-10-25T12:21:50.744Z"
   },
   {
    "duration": 25,
    "start_time": "2021-10-25T12:21:50.783Z"
   },
   {
    "duration": 8,
    "start_time": "2021-10-25T12:21:50.811Z"
   },
   {
    "duration": 10,
    "start_time": "2021-10-25T12:21:50.821Z"
   },
   {
    "duration": 52,
    "start_time": "2021-10-25T12:21:50.833Z"
   },
   {
    "duration": 13,
    "start_time": "2021-10-25T12:21:50.888Z"
   },
   {
    "duration": 16,
    "start_time": "2021-10-25T12:21:50.904Z"
   },
   {
    "duration": 14,
    "start_time": "2021-10-25T12:21:50.926Z"
   },
   {
    "duration": 42,
    "start_time": "2021-10-25T12:21:50.944Z"
   },
   {
    "duration": 15,
    "start_time": "2021-10-25T12:21:50.989Z"
   },
   {
    "duration": 12,
    "start_time": "2021-10-25T12:21:51.007Z"
   },
   {
    "duration": 10,
    "start_time": "2021-10-25T12:21:51.021Z"
   },
   {
    "duration": 7,
    "start_time": "2021-10-25T12:21:51.033Z"
   },
   {
    "duration": 48,
    "start_time": "2021-10-25T12:21:51.042Z"
   },
   {
    "duration": 12,
    "start_time": "2021-10-25T12:21:51.093Z"
   },
   {
    "duration": 16,
    "start_time": "2021-10-25T12:21:51.108Z"
   },
   {
    "duration": 10,
    "start_time": "2021-10-25T12:21:51.126Z"
   },
   {
    "duration": 70,
    "start_time": "2021-10-25T12:21:51.139Z"
   },
   {
    "duration": 11,
    "start_time": "2021-10-25T12:21:51.211Z"
   },
   {
    "duration": 17,
    "start_time": "2021-10-25T12:21:51.224Z"
   },
   {
    "duration": 60,
    "start_time": "2021-10-25T12:21:51.244Z"
   },
   {
    "duration": 10,
    "start_time": "2021-10-25T12:21:51.307Z"
   },
   {
    "duration": 21,
    "start_time": "2021-10-25T12:21:51.320Z"
   },
   {
    "duration": 107,
    "start_time": "2021-10-25T12:21:51.344Z"
   },
   {
    "duration": 973,
    "start_time": "2021-10-25T12:21:51.454Z"
   },
   {
    "duration": 6,
    "start_time": "2021-10-25T12:21:52.432Z"
   },
   {
    "duration": 3908,
    "start_time": "2021-10-25T12:21:52.441Z"
   },
   {
    "duration": 54,
    "start_time": "2021-10-25T12:21:56.352Z"
   },
   {
    "duration": 4,
    "start_time": "2021-10-25T12:21:56.409Z"
   },
   {
    "duration": 22,
    "start_time": "2021-10-25T12:21:56.415Z"
   },
   {
    "duration": 44,
    "start_time": "2021-10-25T12:21:56.440Z"
   },
   {
    "duration": 18,
    "start_time": "2021-10-25T12:21:56.487Z"
   },
   {
    "duration": 22,
    "start_time": "2021-10-25T12:21:56.507Z"
   },
   {
    "duration": 53,
    "start_time": "2021-10-25T12:21:56.531Z"
   },
   {
    "duration": 27,
    "start_time": "2021-10-25T12:21:56.589Z"
   },
   {
    "duration": 20,
    "start_time": "2021-10-25T12:21:56.619Z"
   },
   {
    "duration": 64,
    "start_time": "2021-10-25T12:21:56.642Z"
   },
   {
    "duration": 48,
    "start_time": "2021-10-25T12:21:56.708Z"
   },
   {
    "duration": 66,
    "start_time": "2021-10-25T12:21:56.758Z"
   },
   {
    "duration": 67,
    "start_time": "2021-10-25T12:21:56.827Z"
   },
   {
    "duration": 7816,
    "start_time": "2021-10-25T13:05:34.987Z"
   },
   {
    "duration": 92,
    "start_time": "2021-10-25T13:06:02.508Z"
   },
   {
    "duration": 18,
    "start_time": "2021-10-25T13:06:02.603Z"
   },
   {
    "duration": 38,
    "start_time": "2021-10-25T13:06:02.624Z"
   },
   {
    "duration": 37,
    "start_time": "2021-10-25T13:06:02.665Z"
   },
   {
    "duration": 19,
    "start_time": "2021-10-25T13:06:02.705Z"
   },
   {
    "duration": 27,
    "start_time": "2021-10-25T13:06:02.726Z"
   },
   {
    "duration": 16,
    "start_time": "2021-10-25T13:06:02.755Z"
   },
   {
    "duration": 23,
    "start_time": "2021-10-25T13:06:02.773Z"
   },
   {
    "duration": 27,
    "start_time": "2021-10-25T13:06:02.800Z"
   },
   {
    "duration": 28,
    "start_time": "2021-10-25T13:06:02.830Z"
   },
   {
    "duration": 18,
    "start_time": "2021-10-25T13:06:02.860Z"
   },
   {
    "duration": 32,
    "start_time": "2021-10-25T13:06:02.880Z"
   },
   {
    "duration": 33,
    "start_time": "2021-10-25T13:06:02.914Z"
   },
   {
    "duration": 19,
    "start_time": "2021-10-25T13:06:02.949Z"
   },
   {
    "duration": 24,
    "start_time": "2021-10-25T13:06:02.971Z"
   },
   {
    "duration": 22,
    "start_time": "2021-10-25T13:06:02.998Z"
   },
   {
    "duration": 27,
    "start_time": "2021-10-25T13:06:03.023Z"
   },
   {
    "duration": 25,
    "start_time": "2021-10-25T13:06:03.052Z"
   },
   {
    "duration": 58,
    "start_time": "2021-10-25T13:06:03.080Z"
   },
   {
    "duration": 15,
    "start_time": "2021-10-25T13:06:03.142Z"
   },
   {
    "duration": 21,
    "start_time": "2021-10-25T13:06:03.159Z"
   },
   {
    "duration": 32,
    "start_time": "2021-10-25T13:06:03.188Z"
   },
   {
    "duration": 11,
    "start_time": "2021-10-25T13:06:03.223Z"
   },
   {
    "duration": 70,
    "start_time": "2021-10-25T13:06:03.236Z"
   },
   {
    "duration": 87,
    "start_time": "2021-10-25T13:06:03.309Z"
   },
   {
    "duration": 955,
    "start_time": "2021-10-25T13:06:03.399Z"
   },
   {
    "duration": 5,
    "start_time": "2021-10-25T13:06:04.361Z"
   },
   {
    "duration": 3964,
    "start_time": "2021-10-25T13:06:04.369Z"
   },
   {
    "duration": 50,
    "start_time": "2021-10-25T13:06:08.335Z"
   },
   {
    "duration": 7,
    "start_time": "2021-10-25T13:06:08.389Z"
   },
   {
    "duration": 26,
    "start_time": "2021-10-25T13:06:08.400Z"
   },
   {
    "duration": 24,
    "start_time": "2021-10-25T13:06:08.429Z"
   },
   {
    "duration": 45,
    "start_time": "2021-10-25T13:06:08.456Z"
   },
   {
    "duration": 13777,
    "start_time": "2021-10-25T13:06:12.074Z"
   },
   {
    "duration": 13,
    "start_time": "2021-10-25T13:06:33.067Z"
   },
   {
    "duration": 13,
    "start_time": "2021-10-25T13:08:42.367Z"
   },
   {
    "duration": 318,
    "start_time": "2021-10-25T13:11:11.798Z"
   },
   {
    "duration": 339,
    "start_time": "2021-10-25T13:11:41.848Z"
   },
   {
    "duration": 18,
    "start_time": "2021-10-25T13:11:53.728Z"
   },
   {
    "duration": 19,
    "start_time": "2021-10-25T13:14:17.598Z"
   },
   {
    "duration": 856,
    "start_time": "2021-10-25T13:26:44.908Z"
   },
   {
    "duration": 15,
    "start_time": "2021-10-25T13:26:45.767Z"
   },
   {
    "duration": 32,
    "start_time": "2021-10-25T13:26:45.787Z"
   },
   {
    "duration": 8,
    "start_time": "2021-10-25T13:26:45.821Z"
   },
   {
    "duration": 10,
    "start_time": "2021-10-25T13:26:45.831Z"
   },
   {
    "duration": 43,
    "start_time": "2021-10-25T13:26:45.844Z"
   },
   {
    "duration": 20,
    "start_time": "2021-10-25T13:26:45.891Z"
   },
   {
    "duration": 10,
    "start_time": "2021-10-25T13:26:45.916Z"
   },
   {
    "duration": 13,
    "start_time": "2021-10-25T13:26:45.930Z"
   },
   {
    "duration": 51,
    "start_time": "2021-10-25T13:26:45.946Z"
   },
   {
    "duration": 10,
    "start_time": "2021-10-25T13:26:46.001Z"
   },
   {
    "duration": 15,
    "start_time": "2021-10-25T13:26:46.013Z"
   },
   {
    "duration": 8,
    "start_time": "2021-10-25T13:26:46.030Z"
   },
   {
    "duration": 61,
    "start_time": "2021-10-25T13:26:46.040Z"
   },
   {
    "duration": 7,
    "start_time": "2021-10-25T13:26:46.104Z"
   },
   {
    "duration": 8,
    "start_time": "2021-10-25T13:26:46.114Z"
   },
   {
    "duration": 14,
    "start_time": "2021-10-25T13:26:46.124Z"
   },
   {
    "duration": 60,
    "start_time": "2021-10-25T13:26:46.141Z"
   },
   {
    "duration": 24,
    "start_time": "2021-10-25T13:26:46.203Z"
   },
   {
    "duration": 11,
    "start_time": "2021-10-25T13:26:46.229Z"
   },
   {
    "duration": 46,
    "start_time": "2021-10-25T13:26:46.242Z"
   },
   {
    "duration": 22,
    "start_time": "2021-10-25T13:26:46.290Z"
   },
   {
    "duration": 11,
    "start_time": "2021-10-25T13:26:46.319Z"
   },
   {
    "duration": 50,
    "start_time": "2021-10-25T13:26:46.333Z"
   },
   {
    "duration": 105,
    "start_time": "2021-10-25T13:26:46.388Z"
   },
   {
    "duration": 1001,
    "start_time": "2021-10-25T13:26:46.497Z"
   },
   {
    "duration": 13,
    "start_time": "2021-10-25T13:26:47.501Z"
   },
   {
    "duration": 4206,
    "start_time": "2021-10-25T13:26:47.517Z"
   },
   {
    "duration": 29,
    "start_time": "2021-10-25T13:26:51.726Z"
   },
   {
    "duration": 5,
    "start_time": "2021-10-25T13:26:51.757Z"
   },
   {
    "duration": 25,
    "start_time": "2021-10-25T13:26:51.782Z"
   },
   {
    "duration": 21,
    "start_time": "2021-10-25T13:26:51.810Z"
   },
   {
    "duration": 64,
    "start_time": "2021-10-25T13:26:51.834Z"
   },
   {
    "duration": 22,
    "start_time": "2021-10-25T13:26:51.901Z"
   },
   {
    "duration": 20,
    "start_time": "2021-10-25T13:26:51.926Z"
   },
   {
    "duration": 56,
    "start_time": "2021-10-25T13:26:51.949Z"
   },
   {
    "duration": 21,
    "start_time": "2021-10-25T13:26:52.007Z"
   },
   {
    "duration": 54,
    "start_time": "2021-10-25T13:26:52.031Z"
   },
   {
    "duration": 29,
    "start_time": "2021-10-25T13:26:52.091Z"
   },
   {
    "duration": 38,
    "start_time": "2021-10-25T13:26:52.123Z"
   },
   {
    "duration": 66,
    "start_time": "2021-10-25T13:26:52.187Z"
   },
   {
    "duration": 70,
    "start_time": "2021-10-25T13:26:52.256Z"
   },
   {
    "duration": 36,
    "start_time": "2021-10-25T13:26:52.329Z"
   },
   {
    "duration": 583,
    "start_time": "2021-10-25T20:39:38.411Z"
   },
   {
    "duration": 11,
    "start_time": "2021-10-25T20:39:38.996Z"
   },
   {
    "duration": 18,
    "start_time": "2021-10-25T20:39:39.010Z"
   },
   {
    "duration": 5,
    "start_time": "2021-10-25T20:39:39.030Z"
   },
   {
    "duration": 32,
    "start_time": "2021-10-25T20:39:39.037Z"
   },
   {
    "duration": 7,
    "start_time": "2021-10-25T20:39:39.071Z"
   },
   {
    "duration": 6,
    "start_time": "2021-10-25T20:39:39.080Z"
   },
   {
    "duration": 6,
    "start_time": "2021-10-25T20:39:39.088Z"
   },
   {
    "duration": 7,
    "start_time": "2021-10-25T20:39:39.097Z"
   },
   {
    "duration": 9,
    "start_time": "2021-10-25T20:39:39.105Z"
   },
   {
    "duration": 8,
    "start_time": "2021-10-25T20:39:39.116Z"
   },
   {
    "duration": 38,
    "start_time": "2021-10-25T20:39:39.126Z"
   },
   {
    "duration": 7,
    "start_time": "2021-10-25T20:39:39.166Z"
   },
   {
    "duration": 8,
    "start_time": "2021-10-25T20:39:39.174Z"
   },
   {
    "duration": 7,
    "start_time": "2021-10-25T20:39:39.183Z"
   },
   {
    "duration": 8,
    "start_time": "2021-10-25T20:39:39.192Z"
   },
   {
    "duration": 11,
    "start_time": "2021-10-25T20:39:39.202Z"
   },
   {
    "duration": 7,
    "start_time": "2021-10-25T20:39:39.214Z"
   },
   {
    "duration": 41,
    "start_time": "2021-10-25T20:39:39.222Z"
   },
   {
    "duration": 7,
    "start_time": "2021-10-25T20:39:39.265Z"
   },
   {
    "duration": 10,
    "start_time": "2021-10-25T20:39:39.274Z"
   },
   {
    "duration": 13,
    "start_time": "2021-10-25T20:39:39.285Z"
   },
   {
    "duration": 7,
    "start_time": "2021-10-25T20:39:39.299Z"
   },
   {
    "duration": 18,
    "start_time": "2021-10-25T20:39:39.308Z"
   },
   {
    "duration": 20,
    "start_time": "2021-10-25T20:40:04.244Z"
   },
   {
    "duration": 44,
    "start_time": "2021-10-25T20:40:07.068Z"
   },
   {
    "duration": 22,
    "start_time": "2021-10-25T20:40:09.676Z"
   },
   {
    "duration": 54,
    "start_time": "2021-10-25T20:40:20.126Z"
   },
   {
    "duration": 12,
    "start_time": "2021-10-25T20:40:20.182Z"
   },
   {
    "duration": 12,
    "start_time": "2021-10-25T20:40:20.197Z"
   },
   {
    "duration": 7,
    "start_time": "2021-10-25T20:40:20.211Z"
   },
   {
    "duration": 8,
    "start_time": "2021-10-25T20:40:20.220Z"
   },
   {
    "duration": 36,
    "start_time": "2021-10-25T20:40:20.230Z"
   },
   {
    "duration": 7,
    "start_time": "2021-10-25T20:40:20.268Z"
   },
   {
    "duration": 13,
    "start_time": "2021-10-25T20:40:20.277Z"
   },
   {
    "duration": 9,
    "start_time": "2021-10-25T20:40:20.292Z"
   },
   {
    "duration": 9,
    "start_time": "2021-10-25T20:40:20.303Z"
   },
   {
    "duration": 9,
    "start_time": "2021-10-25T20:40:20.314Z"
   },
   {
    "duration": 39,
    "start_time": "2021-10-25T20:40:20.325Z"
   },
   {
    "duration": 6,
    "start_time": "2021-10-25T20:40:20.366Z"
   },
   {
    "duration": 7,
    "start_time": "2021-10-25T20:40:20.374Z"
   },
   {
    "duration": 15,
    "start_time": "2021-10-25T20:40:20.383Z"
   },
   {
    "duration": 8,
    "start_time": "2021-10-25T20:40:20.399Z"
   },
   {
    "duration": 11,
    "start_time": "2021-10-25T20:40:20.409Z"
   },
   {
    "duration": 7,
    "start_time": "2021-10-25T20:40:20.421Z"
   },
   {
    "duration": 40,
    "start_time": "2021-10-25T20:40:20.429Z"
   },
   {
    "duration": 9,
    "start_time": "2021-10-25T20:40:20.470Z"
   },
   {
    "duration": 13,
    "start_time": "2021-10-25T20:40:20.481Z"
   },
   {
    "duration": 13,
    "start_time": "2021-10-25T20:40:20.495Z"
   },
   {
    "duration": 6,
    "start_time": "2021-10-25T20:40:20.510Z"
   },
   {
    "duration": 17,
    "start_time": "2021-10-25T20:40:20.518Z"
   },
   {
    "duration": 21,
    "start_time": "2021-10-25T20:40:22.004Z"
   },
   {
    "duration": 11,
    "start_time": "2021-10-25T20:40:28.991Z"
   },
   {
    "duration": 18,
    "start_time": "2021-10-25T20:40:34.242Z"
   },
   {
    "duration": 14,
    "start_time": "2021-10-25T20:40:37.300Z"
   },
   {
    "duration": 20,
    "start_time": "2021-10-25T20:40:46.864Z"
   },
   {
    "duration": 11,
    "start_time": "2021-10-25T20:40:50.449Z"
   },
   {
    "duration": 56,
    "start_time": "2021-10-25T20:41:00.855Z"
   },
   {
    "duration": 12,
    "start_time": "2021-10-25T20:41:00.913Z"
   },
   {
    "duration": 35,
    "start_time": "2021-10-25T20:41:00.928Z"
   },
   {
    "duration": 8,
    "start_time": "2021-10-25T20:41:00.966Z"
   },
   {
    "duration": 19,
    "start_time": "2021-10-25T20:41:00.975Z"
   },
   {
    "duration": 9,
    "start_time": "2021-10-25T20:41:00.996Z"
   },
   {
    "duration": 21,
    "start_time": "2021-10-25T20:41:01.007Z"
   },
   {
    "duration": 12,
    "start_time": "2021-10-25T20:41:01.030Z"
   },
   {
    "duration": 21,
    "start_time": "2021-10-25T20:41:01.045Z"
   },
   {
    "duration": 26,
    "start_time": "2021-10-25T20:41:01.068Z"
   },
   {
    "duration": 9,
    "start_time": "2021-10-25T20:41:01.096Z"
   },
   {
    "duration": 17,
    "start_time": "2021-10-25T20:41:01.107Z"
   },
   {
    "duration": 14,
    "start_time": "2021-10-25T20:41:01.126Z"
   },
   {
    "duration": 10,
    "start_time": "2021-10-25T20:41:01.142Z"
   },
   {
    "duration": 23,
    "start_time": "2021-10-25T20:41:01.154Z"
   },
   {
    "duration": 23,
    "start_time": "2021-10-25T20:41:01.179Z"
   },
   {
    "duration": 24,
    "start_time": "2021-10-25T20:41:01.204Z"
   },
   {
    "duration": 10,
    "start_time": "2021-10-25T20:41:01.230Z"
   },
   {
    "duration": 32,
    "start_time": "2021-10-25T20:41:01.242Z"
   },
   {
    "duration": 11,
    "start_time": "2021-10-25T20:41:01.276Z"
   },
   {
    "duration": 25,
    "start_time": "2021-10-25T20:41:01.288Z"
   },
   {
    "duration": 18,
    "start_time": "2021-10-25T20:41:01.316Z"
   },
   {
    "duration": 10,
    "start_time": "2021-10-25T20:41:01.336Z"
   },
   {
    "duration": 33,
    "start_time": "2021-10-25T20:41:01.348Z"
   },
   {
    "duration": 15,
    "start_time": "2021-10-25T20:41:05.360Z"
   },
   {
    "duration": 43,
    "start_time": "2021-10-25T20:41:06.189Z"
   },
   {
    "duration": 56,
    "start_time": "2021-10-25T20:41:27.839Z"
   },
   {
    "duration": 12,
    "start_time": "2021-10-25T20:41:27.897Z"
   },
   {
    "duration": 14,
    "start_time": "2021-10-25T20:41:27.911Z"
   },
   {
    "duration": 14,
    "start_time": "2021-10-25T20:41:27.927Z"
   },
   {
    "duration": 25,
    "start_time": "2021-10-25T20:41:27.943Z"
   },
   {
    "duration": 11,
    "start_time": "2021-10-25T20:41:27.969Z"
   },
   {
    "duration": 7,
    "start_time": "2021-10-25T20:41:27.982Z"
   },
   {
    "duration": 13,
    "start_time": "2021-10-25T20:41:27.991Z"
   },
   {
    "duration": 6,
    "start_time": "2021-10-25T20:41:28.007Z"
   },
   {
    "duration": 10,
    "start_time": "2021-10-25T20:41:28.015Z"
   },
   {
    "duration": 9,
    "start_time": "2021-10-25T20:41:28.027Z"
   },
   {
    "duration": 29,
    "start_time": "2021-10-25T20:41:28.037Z"
   },
   {
    "duration": 5,
    "start_time": "2021-10-25T20:41:28.068Z"
   },
   {
    "duration": 9,
    "start_time": "2021-10-25T20:41:28.075Z"
   },
   {
    "duration": 8,
    "start_time": "2021-10-25T20:41:28.086Z"
   },
   {
    "duration": 19,
    "start_time": "2021-10-25T20:41:28.096Z"
   },
   {
    "duration": 12,
    "start_time": "2021-10-25T20:41:28.117Z"
   },
   {
    "duration": 10,
    "start_time": "2021-10-25T20:41:28.130Z"
   },
   {
    "duration": 17,
    "start_time": "2021-10-25T20:41:28.167Z"
   },
   {
    "duration": 8,
    "start_time": "2021-10-25T20:41:28.186Z"
   },
   {
    "duration": 10,
    "start_time": "2021-10-25T20:41:28.196Z"
   },
   {
    "duration": 13,
    "start_time": "2021-10-25T20:41:28.207Z"
   },
   {
    "duration": 9,
    "start_time": "2021-10-25T20:41:28.222Z"
   },
   {
    "duration": 17,
    "start_time": "2021-10-25T20:41:28.264Z"
   },
   {
    "duration": 13,
    "start_time": "2021-10-25T20:41:29.891Z"
   },
   {
    "duration": 45,
    "start_time": "2021-10-25T20:41:47.446Z"
   },
   {
    "duration": 24,
    "start_time": "2021-10-25T20:41:49.446Z"
   },
   {
    "duration": 12,
    "start_time": "2021-10-25T20:42:08.694Z"
   },
   {
    "duration": 56,
    "start_time": "2021-10-25T20:45:18.326Z"
   },
   {
    "duration": 13,
    "start_time": "2021-10-25T20:45:18.383Z"
   },
   {
    "duration": 13,
    "start_time": "2021-10-25T20:45:18.399Z"
   },
   {
    "duration": 9,
    "start_time": "2021-10-25T20:45:18.414Z"
   },
   {
    "duration": 19,
    "start_time": "2021-10-25T20:45:18.425Z"
   },
   {
    "duration": 24,
    "start_time": "2021-10-25T20:45:18.445Z"
   },
   {
    "duration": 13,
    "start_time": "2021-10-25T20:45:18.470Z"
   },
   {
    "duration": 10,
    "start_time": "2021-10-25T20:45:18.484Z"
   },
   {
    "duration": 12,
    "start_time": "2021-10-25T20:45:18.496Z"
   },
   {
    "duration": 10,
    "start_time": "2021-10-25T20:45:18.510Z"
   },
   {
    "duration": 12,
    "start_time": "2021-10-25T20:45:18.522Z"
   },
   {
    "duration": 32,
    "start_time": "2021-10-25T20:45:18.536Z"
   },
   {
    "duration": 8,
    "start_time": "2021-10-25T20:45:18.569Z"
   },
   {
    "duration": 10,
    "start_time": "2021-10-25T20:45:18.579Z"
   },
   {
    "duration": 13,
    "start_time": "2021-10-25T20:45:18.591Z"
   },
   {
    "duration": 9,
    "start_time": "2021-10-25T20:45:18.606Z"
   },
   {
    "duration": 16,
    "start_time": "2021-10-25T20:45:18.617Z"
   },
   {
    "duration": 11,
    "start_time": "2021-10-25T20:45:18.635Z"
   },
   {
    "duration": 28,
    "start_time": "2021-10-25T20:45:18.647Z"
   },
   {
    "duration": 8,
    "start_time": "2021-10-25T20:45:18.677Z"
   },
   {
    "duration": 20,
    "start_time": "2021-10-25T20:45:18.687Z"
   },
   {
    "duration": 24,
    "start_time": "2021-10-25T20:45:18.709Z"
   },
   {
    "duration": 9,
    "start_time": "2021-10-25T20:45:18.734Z"
   },
   {
    "duration": 33,
    "start_time": "2021-10-25T20:45:18.745Z"
   },
   {
    "duration": 46,
    "start_time": "2021-10-25T20:45:18.779Z"
   },
   {
    "duration": 687,
    "start_time": "2021-10-25T20:45:18.827Z"
   },
   {
    "duration": 3,
    "start_time": "2021-10-25T20:45:19.518Z"
   },
   {
    "duration": 3590,
    "start_time": "2021-10-25T20:45:19.523Z"
   },
   {
    "duration": 26,
    "start_time": "2021-10-25T20:45:23.115Z"
   },
   {
    "duration": 4,
    "start_time": "2021-10-25T20:45:23.163Z"
   },
   {
    "duration": 15,
    "start_time": "2021-10-25T20:45:23.169Z"
   },
   {
    "duration": 21,
    "start_time": "2021-10-25T20:45:23.186Z"
   },
   {
    "duration": 11,
    "start_time": "2021-10-25T20:45:23.209Z"
   },
   {
    "duration": 12,
    "start_time": "2021-10-25T20:45:23.222Z"
   },
   {
    "duration": 12,
    "start_time": "2021-10-25T20:45:23.263Z"
   },
   {
    "duration": 16,
    "start_time": "2021-10-25T20:45:23.276Z"
   },
   {
    "duration": 17,
    "start_time": "2021-10-25T20:45:23.294Z"
   },
   {
    "duration": 14,
    "start_time": "2021-10-25T20:45:23.312Z"
   },
   {
    "duration": 45,
    "start_time": "2021-10-25T20:45:23.328Z"
   },
   {
    "duration": 18,
    "start_time": "2021-10-25T20:45:23.375Z"
   },
   {
    "duration": 32,
    "start_time": "2021-10-25T20:45:23.394Z"
   },
   {
    "duration": 58,
    "start_time": "2021-10-25T20:45:23.428Z"
   },
   {
    "duration": 30,
    "start_time": "2021-10-25T20:45:23.488Z"
   },
   {
    "duration": 9,
    "start_time": "2021-10-25T20:46:00.477Z"
   },
   {
    "duration": 29,
    "start_time": "2021-10-25T20:46:13.346Z"
   }
  ],
  "kernelspec": {
   "display_name": "Python 3 (ipykernel)",
   "language": "python",
   "name": "python3"
  },
  "language_info": {
   "codemirror_mode": {
    "name": "ipython",
    "version": 3
   },
   "file_extension": ".py",
   "mimetype": "text/x-python",
   "name": "python",
   "nbconvert_exporter": "python",
   "pygments_lexer": "ipython3",
   "version": "3.9.12"
  },
  "toc": {
   "base_numbering": 1,
   "nav_menu": {},
   "number_sections": true,
   "sideBar": true,
   "skip_h1_title": true,
   "title_cell": "Table of Contents",
   "title_sidebar": "Contents",
   "toc_cell": false,
   "toc_position": {
    "height": "calc(100% - 180px)",
    "left": "10px",
    "top": "150px",
    "width": "228px"
   },
   "toc_section_display": true,
   "toc_window_display": true
  }
 },
 "nbformat": 4,
 "nbformat_minor": 2
}
