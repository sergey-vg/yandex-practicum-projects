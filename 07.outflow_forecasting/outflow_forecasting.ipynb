{
 "cells": [
  {
   "cell_type": "markdown",
   "metadata": {},
   "source": [
    "# Прогнозирование оттока клиентов в сети отелей «Как в гостях»\n",
    "\n",
    "Для привлечения клиентов сеть отелей добавила на свой сайт возможность забронировать номер без предоплаты. Но возникла следующая проблема: при отмене бронирования клиентом компания терпела убытки. Для решения проблемы необходимо разработать модель машинного обучения, которая предсказывает отказ от брони. Клиенту, который определяется моделью как потенциально отказавшийся от брони, предлагается внести депозит. Депозит составляет 80% от стоимости номера за одни сутки и затрат на разовую уборку.\n",
    "\n",
    "## Исходные данные\n",
    "Заказчиком было предоставлено два датасета: с обучающими данными и тестовыми. В тестовом датасете содержатся данные за 2017 год (8 месяцев), в обучающем - за 2015 год (6 месяцев) и 2016 год (12 месяцев).\n",
    "\n",
    "Основная бизнес-метрика для любой сети отелей — её прибыль. Прибыль отеля — это разница между стоимостью номера за все ночи и затратами на обслуживание: как при подготовке номера, так и при проживании постояльца. В отеле есть несколько типов номеров. В зависимости от типа номера назначается стоимость за одну ночь. Есть также затраты на уборку. Если клиент снял номер надолго, то убираются каждые два дня.\n",
    "\n",
    "Стоимость номеров отеля:\n",
    "- категория A: за ночь — 1 000, разовое обслуживание — 400;\n",
    "- категория B: за ночь — 800, разовое обслуживание — 350;\n",
    "- категория C: за ночь — 600, разовое обслуживание — 350;\n",
    "- категория D: за ночь — 550, разовое обслуживание — 150;\n",
    "- категория E: за ночь — 500, разовое обслуживание — 150;\n",
    "- категория F: за ночь — 450, разовое обслуживание — 150;\n",
    "- категория G: за ночь — 350, разовое обслуживание — 150.\n",
    "\n",
    "В ценовой политике отеля используются сезонные коэффициенты: весной и осенью цены повышаются на 20%, летом — на 40%.\n",
    "\n",
    "На разработку системы прогнозирования заложен бюджет — 400 000. При этом необходимо учесть, что внедрение модели должно окупиться за год. Затраты на разработку должны быть меньше той выручки, которую система принесёт компании.\n"
   ]
  },
  {
   "cell_type": "markdown",
   "metadata": {},
   "source": [
    "## Загрузка данных и библиотек"
   ]
  },
  {
   "cell_type": "markdown",
   "metadata": {},
   "source": [
    "Импорт необходимых библиотек"
   ]
  },
  {
   "cell_type": "code",
   "execution_count": 1,
   "metadata": {},
   "outputs": [],
   "source": [
    "import pandas as pd\n",
    "import numpy as np\n",
    "import matplotlib.pyplot as plt\n",
    "from sklearn.preprocessing import StandardScaler \n",
    "from sklearn.model_selection import train_test_split\n",
    "from sklearn.ensemble import RandomForestClassifier\n",
    "from sklearn.metrics import mean_squared_error,f1_score, roc_auc_score, roc_curve, accuracy_score \n",
    "from sklearn.utils import shuffle\n",
    "from sklearn.model_selection import StratifiedKFold, GridSearchCV, cross_val_score\n",
    "from sklearn.preprocessing import OrdinalEncoder, OneHotEncoder\n",
    "from sklearn.linear_model import LogisticRegression, LogisticRegressionCV\n",
    "from sklearn.pipeline import Pipeline\n",
    "from sklearn.neighbors import KNeighborsClassifier"
   ]
  },
  {
   "cell_type": "markdown",
   "metadata": {},
   "source": [
    "Открываем файлы и сохраняем данные в датафреймы"
   ]
  },
  {
   "cell_type": "code",
   "execution_count": 2,
   "metadata": {},
   "outputs": [],
   "source": [
    "hotel_train = pd.read_csv('/datasets/hotel_train.csv')\n",
    "hotel_test = pd.read_csv('/datasets/hotel_test.csv')"
   ]
  },
  {
   "cell_type": "markdown",
   "metadata": {},
   "source": [
    "## Предобработка и исследовательский анализ данных"
   ]
  },
  {
   "cell_type": "markdown",
   "metadata": {},
   "source": [
    "***Описание данных***\n",
    "\n",
    "В таблицах `hotel_train` и `hotel_test` содержатся одинаковые столбцы:\n",
    "\n",
    "* `id` — номер записи;\n",
    "* `adults` — количество взрослых постояльцев;\n",
    "* `arrival_date_year` — год заезда;\n",
    "* `arrival_date_month` — месяц заезда;\n",
    "* `arrival_date_week_number` — неделя заезда;\n",
    "* `arrival_date_day_of_month` — день заезда;\n",
    "* `babies` — количество младенцев;\n",
    "* `booking_changes` — количество изменений параметров заказа;\n",
    "* `children` — количество детей от 3 до 14 лет;\n",
    "* `country` — гражданство постояльца;\n",
    "* `customer_type` — тип заказчика:\n",
    "    * `Contract` — договор с юридическим лицом;\n",
    "    * `Group` — групповой заезд;\n",
    "    * `Transient` — не связано с договором или групповым заездом;\n",
    "    * `Transient-party` — не связано с договором или групповым заездом, но связано с бронированием типа Transient.\n",
    "* `days_in_waiting_list` — сколько дней заказ ожидал подтверждения;\n",
    "* `distribution_channel` — канал дистрибуции заказа;\n",
    "* `is_canceled` — отмена заказа;\n",
    "* `is_repeated_guest` — признак того, что гость бронирует номер второй раз;\n",
    "* `lead_time` — количество дней между датой бронирования и датой прибытия;\n",
    "* `meal` — опции заказа:\n",
    "    * `SC` — нет дополнительных опций;\n",
    "    * `BB` — включён завтрак;\n",
    "    * `HB` — включён завтрак и обед;\n",
    "    * `FB` — включён завтрак, обед и ужин.\n",
    "* `previous_bookings_not_canceled` — количество подтверждённых заказов у клиента;\n",
    "* `previous_cancellations` — количество отменённых заказов у клиента;\n",
    "* `required_car_parking_spaces` — необходимость места для автомобиля;\n",
    "* `reserved_room_type` — тип забронированной комнаты;\n",
    "* `stays_in_weekend_nights` — количество ночей в выходные дни;\n",
    "* `stays_in_week_nights` — количество ночей в будние дни;\n",
    "* `total_nights` — общее количество ночей;\n",
    "* `total_of_special_requests` — количество специальных отметок."
   ]
  },
  {
   "cell_type": "markdown",
   "metadata": {},
   "source": [
    "### Таблица `hotel_train`"
   ]
  },
  {
   "cell_type": "code",
   "execution_count": 3,
   "metadata": {},
   "outputs": [
    {
     "name": "stdout",
     "output_type": "stream",
     "text": [
      "<class 'pandas.core.frame.DataFrame'>\n",
      "RangeIndex: 65229 entries, 0 to 65228\n",
      "Data columns (total 25 columns):\n",
      " #   Column                          Non-Null Count  Dtype  \n",
      "---  ------                          --------------  -----  \n",
      " 0   id                              65229 non-null  int64  \n",
      " 1   is_canceled                     65229 non-null  int64  \n",
      " 2   lead_time                       65229 non-null  float64\n",
      " 3   arrival_date_year               65229 non-null  int64  \n",
      " 4   arrival_date_month              65229 non-null  object \n",
      " 5   arrival_date_week_number        65229 non-null  int64  \n",
      " 6   arrival_date_day_of_month       65229 non-null  int64  \n",
      " 7   stays_in_weekend_nights         65229 non-null  int64  \n",
      " 8   stays_in_week_nights            65229 non-null  int64  \n",
      " 9   adults                          65229 non-null  float64\n",
      " 10  children                        65229 non-null  float64\n",
      " 11  babies                          65229 non-null  float64\n",
      " 12  meal                            65229 non-null  object \n",
      " 13  country                         65229 non-null  object \n",
      " 14  distribution_channel            65229 non-null  object \n",
      " 15  is_repeated_guest               65229 non-null  int64  \n",
      " 16  previous_cancellations          65229 non-null  int64  \n",
      " 17  previous_bookings_not_canceled  65229 non-null  int64  \n",
      " 18  reserved_room_type              65229 non-null  object \n",
      " 19  booking_changes                 65229 non-null  int64  \n",
      " 20  days_in_waiting_list            65229 non-null  int64  \n",
      " 21  customer_type                   65229 non-null  object \n",
      " 22  required_car_parking_spaces     65229 non-null  int64  \n",
      " 23  total_of_special_requests       65229 non-null  int64  \n",
      " 24  total_nights                    65229 non-null  int64  \n",
      "dtypes: float64(4), int64(15), object(6)\n",
      "memory usage: 12.4+ MB\n"
     ]
    }
   ],
   "source": [
    "hotel_train.info()"
   ]
  },
  {
   "cell_type": "markdown",
   "metadata": {},
   "source": [
    "* необходимо удалить столбец id, так как он дублирует индекс;\n",
    "* в столбцах `lead_time`, `adults`, `children`, `babies` необходимо заменить тип данных на int."
   ]
  },
  {
   "cell_type": "markdown",
   "metadata": {},
   "source": [
    "Удалим столбeц `id`"
   ]
  },
  {
   "cell_type": "code",
   "execution_count": 4,
   "metadata": {},
   "outputs": [],
   "source": [
    "hotel_train = hotel_train.drop('id', axis=1)"
   ]
  },
  {
   "cell_type": "markdown",
   "metadata": {},
   "source": [
    "В столбцах `lead_time`, `adults`, `children`, `babies` заменим тип данных на int"
   ]
  },
  {
   "cell_type": "code",
   "execution_count": 5,
   "metadata": {},
   "outputs": [],
   "source": [
    "hotel_train[['lead_time', 'adults', 'children', 'babies']] = (\n",
    "    hotel_train[['lead_time', 'adults', 'children', 'babies']].astype('int')\n",
    ")"
   ]
  },
  {
   "cell_type": "code",
   "execution_count": 6,
   "metadata": {},
   "outputs": [
    {
     "data": {
      "text/html": [
       "<div>\n",
       "<style scoped>\n",
       "    .dataframe tbody tr th:only-of-type {\n",
       "        vertical-align: middle;\n",
       "    }\n",
       "\n",
       "    .dataframe tbody tr th {\n",
       "        vertical-align: top;\n",
       "    }\n",
       "\n",
       "    .dataframe thead th {\n",
       "        text-align: right;\n",
       "    }\n",
       "</style>\n",
       "<table border=\"1\" class=\"dataframe\">\n",
       "  <thead>\n",
       "    <tr style=\"text-align: right;\">\n",
       "      <th></th>\n",
       "      <th>is_canceled</th>\n",
       "      <th>lead_time</th>\n",
       "      <th>arrival_date_year</th>\n",
       "      <th>arrival_date_month</th>\n",
       "      <th>arrival_date_week_number</th>\n",
       "      <th>arrival_date_day_of_month</th>\n",
       "      <th>stays_in_weekend_nights</th>\n",
       "      <th>stays_in_week_nights</th>\n",
       "      <th>adults</th>\n",
       "      <th>children</th>\n",
       "      <th>...</th>\n",
       "      <th>is_repeated_guest</th>\n",
       "      <th>previous_cancellations</th>\n",
       "      <th>previous_bookings_not_canceled</th>\n",
       "      <th>reserved_room_type</th>\n",
       "      <th>booking_changes</th>\n",
       "      <th>days_in_waiting_list</th>\n",
       "      <th>customer_type</th>\n",
       "      <th>required_car_parking_spaces</th>\n",
       "      <th>total_of_special_requests</th>\n",
       "      <th>total_nights</th>\n",
       "    </tr>\n",
       "  </thead>\n",
       "  <tbody>\n",
       "    <tr>\n",
       "      <th>0</th>\n",
       "      <td>0</td>\n",
       "      <td>7</td>\n",
       "      <td>2015</td>\n",
       "      <td>July</td>\n",
       "      <td>27</td>\n",
       "      <td>1</td>\n",
       "      <td>0</td>\n",
       "      <td>1</td>\n",
       "      <td>1</td>\n",
       "      <td>0</td>\n",
       "      <td>...</td>\n",
       "      <td>0</td>\n",
       "      <td>0</td>\n",
       "      <td>0</td>\n",
       "      <td>A</td>\n",
       "      <td>0</td>\n",
       "      <td>0</td>\n",
       "      <td>Transient</td>\n",
       "      <td>0</td>\n",
       "      <td>0</td>\n",
       "      <td>1</td>\n",
       "    </tr>\n",
       "    <tr>\n",
       "      <th>1</th>\n",
       "      <td>0</td>\n",
       "      <td>14</td>\n",
       "      <td>2015</td>\n",
       "      <td>July</td>\n",
       "      <td>27</td>\n",
       "      <td>1</td>\n",
       "      <td>0</td>\n",
       "      <td>2</td>\n",
       "      <td>2</td>\n",
       "      <td>0</td>\n",
       "      <td>...</td>\n",
       "      <td>0</td>\n",
       "      <td>0</td>\n",
       "      <td>0</td>\n",
       "      <td>A</td>\n",
       "      <td>0</td>\n",
       "      <td>0</td>\n",
       "      <td>Transient</td>\n",
       "      <td>0</td>\n",
       "      <td>1</td>\n",
       "      <td>2</td>\n",
       "    </tr>\n",
       "    <tr>\n",
       "      <th>2</th>\n",
       "      <td>0</td>\n",
       "      <td>0</td>\n",
       "      <td>2015</td>\n",
       "      <td>July</td>\n",
       "      <td>27</td>\n",
       "      <td>1</td>\n",
       "      <td>0</td>\n",
       "      <td>2</td>\n",
       "      <td>2</td>\n",
       "      <td>0</td>\n",
       "      <td>...</td>\n",
       "      <td>0</td>\n",
       "      <td>0</td>\n",
       "      <td>0</td>\n",
       "      <td>C</td>\n",
       "      <td>0</td>\n",
       "      <td>0</td>\n",
       "      <td>Transient</td>\n",
       "      <td>0</td>\n",
       "      <td>0</td>\n",
       "      <td>2</td>\n",
       "    </tr>\n",
       "    <tr>\n",
       "      <th>3</th>\n",
       "      <td>0</td>\n",
       "      <td>9</td>\n",
       "      <td>2015</td>\n",
       "      <td>July</td>\n",
       "      <td>27</td>\n",
       "      <td>1</td>\n",
       "      <td>0</td>\n",
       "      <td>2</td>\n",
       "      <td>2</td>\n",
       "      <td>0</td>\n",
       "      <td>...</td>\n",
       "      <td>0</td>\n",
       "      <td>0</td>\n",
       "      <td>0</td>\n",
       "      <td>C</td>\n",
       "      <td>0</td>\n",
       "      <td>0</td>\n",
       "      <td>Transient</td>\n",
       "      <td>0</td>\n",
       "      <td>1</td>\n",
       "      <td>2</td>\n",
       "    </tr>\n",
       "    <tr>\n",
       "      <th>4</th>\n",
       "      <td>1</td>\n",
       "      <td>85</td>\n",
       "      <td>2015</td>\n",
       "      <td>July</td>\n",
       "      <td>27</td>\n",
       "      <td>1</td>\n",
       "      <td>0</td>\n",
       "      <td>3</td>\n",
       "      <td>2</td>\n",
       "      <td>0</td>\n",
       "      <td>...</td>\n",
       "      <td>0</td>\n",
       "      <td>0</td>\n",
       "      <td>0</td>\n",
       "      <td>A</td>\n",
       "      <td>0</td>\n",
       "      <td>0</td>\n",
       "      <td>Transient</td>\n",
       "      <td>0</td>\n",
       "      <td>1</td>\n",
       "      <td>3</td>\n",
       "    </tr>\n",
       "  </tbody>\n",
       "</table>\n",
       "<p>5 rows × 24 columns</p>\n",
       "</div>"
      ],
      "text/plain": [
       "   is_canceled  lead_time  arrival_date_year arrival_date_month  \\\n",
       "0            0          7               2015               July   \n",
       "1            0         14               2015               July   \n",
       "2            0          0               2015               July   \n",
       "3            0          9               2015               July   \n",
       "4            1         85               2015               July   \n",
       "\n",
       "   arrival_date_week_number  arrival_date_day_of_month  \\\n",
       "0                        27                          1   \n",
       "1                        27                          1   \n",
       "2                        27                          1   \n",
       "3                        27                          1   \n",
       "4                        27                          1   \n",
       "\n",
       "   stays_in_weekend_nights  stays_in_week_nights  adults  children  ...  \\\n",
       "0                        0                     1       1         0  ...   \n",
       "1                        0                     2       2         0  ...   \n",
       "2                        0                     2       2         0  ...   \n",
       "3                        0                     2       2         0  ...   \n",
       "4                        0                     3       2         0  ...   \n",
       "\n",
       "   is_repeated_guest previous_cancellations previous_bookings_not_canceled  \\\n",
       "0                  0                      0                              0   \n",
       "1                  0                      0                              0   \n",
       "2                  0                      0                              0   \n",
       "3                  0                      0                              0   \n",
       "4                  0                      0                              0   \n",
       "\n",
       "  reserved_room_type  booking_changes  days_in_waiting_list  customer_type  \\\n",
       "0   A                               0                     0      Transient   \n",
       "1   A                               0                     0      Transient   \n",
       "2   C                               0                     0      Transient   \n",
       "3   C                               0                     0      Transient   \n",
       "4   A                               0                     0      Transient   \n",
       "\n",
       "  required_car_parking_spaces  total_of_special_requests  total_nights  \n",
       "0                           0                          0             1  \n",
       "1                           0                          1             2  \n",
       "2                           0                          0             2  \n",
       "3                           0                          1             2  \n",
       "4                           0                          1             3  \n",
       "\n",
       "[5 rows x 24 columns]"
      ]
     },
     "execution_count": 6,
     "metadata": {},
     "output_type": "execute_result"
    }
   ],
   "source": [
    "hotel_train.head()"
   ]
  },
  {
   "cell_type": "code",
   "execution_count": 7,
   "metadata": {},
   "outputs": [
    {
     "data": {
      "text/plain": [
       "0    41185\n",
       "1    24044\n",
       "Name: is_canceled, dtype: int64"
      ]
     },
     "execution_count": 7,
     "metadata": {},
     "output_type": "execute_result"
    }
   ],
   "source": [
    "hotel_train['is_canceled'].value_counts()"
   ]
  },
  {
   "cell_type": "markdown",
   "metadata": {},
   "source": [
    "* Значения корректные"
   ]
  },
  {
   "cell_type": "code",
   "execution_count": 8,
   "metadata": {},
   "outputs": [
    {
     "data": {
      "text/plain": [
       "0      3423\n",
       "1      1984\n",
       "2      1156\n",
       "3      1051\n",
       "4       994\n",
       "       ... \n",
       "345       2\n",
       "352       1\n",
       "340       1\n",
       "362       1\n",
       "373       1\n",
       "Name: lead_time, Length: 369, dtype: int64"
      ]
     },
     "execution_count": 8,
     "metadata": {},
     "output_type": "execute_result"
    }
   ],
   "source": [
    "hotel_train['lead_time'].value_counts()"
   ]
  },
  {
   "cell_type": "markdown",
   "metadata": {},
   "source": [
    "График распределения"
   ]
  },
  {
   "cell_type": "code",
   "execution_count": 9,
   "metadata": {},
   "outputs": [
    {
     "data": {
      "image/png": "[encoded data removed]",
      "text/plain": [
       "<Figure size 720x360 with 1 Axes>"
      ]
     },
     "metadata": {
      "needs_background": "light"
     },
     "output_type": "display_data"
    }
   ],
   "source": [
    "hotel_train['lead_time'].hist(figsize=(10, 5), grid=True)\n",
    "plt.xlabel(\"Кол-во дней\")\n",
    "plt.ylabel(\"Кол-во записей\")\n",
    "plt.title(\"Кол-во дней между датой бронирования и датой прибытия\")\n",
    "plt.show()    "
   ]
  },
  {
   "cell_type": "markdown",
   "metadata": {},
   "source": [
    "* Значения корректные"
   ]
  },
  {
   "cell_type": "code",
   "execution_count": 10,
   "metadata": {},
   "outputs": [
    {
     "data": {
      "text/plain": [
       "2016    46901\n",
       "2015    18328\n",
       "Name: arrival_date_year, dtype: int64"
      ]
     },
     "execution_count": 10,
     "metadata": {},
     "output_type": "execute_result"
    }
   ],
   "source": [
    "hotel_train['arrival_date_year'].value_counts()"
   ]
  },
  {
   "cell_type": "markdown",
   "metadata": {},
   "source": [
    "* Значения корректные"
   ]
  },
  {
   "cell_type": "code",
   "execution_count": 11,
   "metadata": {},
   "outputs": [
    {
     "data": {
      "text/plain": [
       "October      9255\n",
       "September    8782\n",
       "August       6678\n",
       "November     5761\n",
       "July         5718\n",
       "December     5497\n",
       "April        4804\n",
       "May          4677\n",
       "June         4659\n",
       "March        4148\n",
       "February     3358\n",
       "January      1892\n",
       "Name: arrival_date_month, dtype: int64"
      ]
     },
     "execution_count": 11,
     "metadata": {},
     "output_type": "execute_result"
    }
   ],
   "source": [
    "hotel_train['arrival_date_month'].value_counts()"
   ]
  },
  {
   "cell_type": "markdown",
   "metadata": {},
   "source": [
    "* Значения корректные"
   ]
  },
  {
   "cell_type": "code",
   "execution_count": 12,
   "metadata": {},
   "outputs": [
    {
     "data": {
      "image/png": "[encoded data removed]",
      "text/plain": [
       "<Figure size 720x360 with 1 Axes>"
      ]
     },
     "metadata": {
      "needs_background": "light"
     },
     "output_type": "display_data"
    }
   ],
   "source": [
    "hotel_train['arrival_date_week_number'].hist(figsize=(10, 5), grid=True)\n",
    "plt.xlabel(\"Номер недели\")\n",
    "plt.ylabel(\"Кол-во записей\")\n",
    "plt.title(\"Неделя заезда\")\n",
    "plt.show()   "
   ]
  },
  {
   "cell_type": "markdown",
   "metadata": {},
   "source": [
    "* Значения корректные"
   ]
  },
  {
   "cell_type": "code",
   "execution_count": 13,
   "metadata": {},
   "outputs": [
    {
     "data": {
      "text/plain": [
       "17    2565\n",
       "5     2502\n",
       "12    2298\n",
       "16    2297\n",
       "18    2296\n",
       "19    2289\n",
       "30    2272\n",
       "24    2248\n",
       "26    2247\n",
       "20    2244\n",
       "9     2220\n",
       "25    2204\n",
       "7     2164\n",
       "8     2159\n",
       "2     2157\n",
       "28    2152\n",
       "15    2129\n",
       "4     2097\n",
       "21    2092\n",
       "6     2074\n",
       "27    2063\n",
       "3     2040\n",
       "13    2012\n",
       "14    1994\n",
       "11    1972\n",
       "22    1949\n",
       "29    1940\n",
       "10    1846\n",
       "23    1811\n",
       "1     1744\n",
       "31    1152\n",
       "Name: arrival_date_day_of_month, dtype: int64"
      ]
     },
     "execution_count": 13,
     "metadata": {},
     "output_type": "execute_result"
    }
   ],
   "source": [
    "hotel_train['arrival_date_day_of_month'].value_counts()"
   ]
  },
  {
   "cell_type": "code",
   "execution_count": 14,
   "metadata": {},
   "outputs": [
    {
     "data": {
      "image/png": "[encoded data removed]",
      "text/plain": [
       "<Figure size 720x360 with 1 Axes>"
      ]
     },
     "metadata": {
      "needs_background": "light"
     },
     "output_type": "display_data"
    }
   ],
   "source": [
    "hotel_train['arrival_date_day_of_month'].hist(figsize=(10, 5), grid=True)\n",
    "plt.xlabel(\"Номер дня\")\n",
    "plt.ylabel(\"Кол-во записей\")\n",
    "plt.title(\"День заезда в месяце\")\n",
    "plt.show() "
   ]
  },
  {
   "cell_type": "markdown",
   "metadata": {},
   "source": [
    "* Значения корректные"
   ]
  },
  {
   "cell_type": "code",
   "execution_count": 15,
   "metadata": {},
   "outputs": [
    {
     "data": {
      "text/plain": [
       "0    29738\n",
       "1    17721\n",
       "2    17357\n",
       "3      261\n",
       "4      152\n",
       "Name: stays_in_weekend_nights, dtype: int64"
      ]
     },
     "execution_count": 15,
     "metadata": {},
     "output_type": "execute_result"
    }
   ],
   "source": [
    "hotel_train['stays_in_weekend_nights'].value_counts()"
   ]
  },
  {
   "cell_type": "markdown",
   "metadata": {},
   "source": [
    "* Значения корректные"
   ]
  },
  {
   "cell_type": "code",
   "execution_count": 16,
   "metadata": {},
   "outputs": [
    {
     "data": {
      "text/plain": [
       "2    20137\n",
       "1    17850\n",
       "3    12341\n",
       "4     5131\n",
       "5     5128\n",
       "0     4007\n",
       "6      635\n",
       "Name: stays_in_week_nights, dtype: int64"
      ]
     },
     "execution_count": 16,
     "metadata": {},
     "output_type": "execute_result"
    }
   ],
   "source": [
    "hotel_train['stays_in_week_nights'].value_counts()"
   ]
  },
  {
   "cell_type": "markdown",
   "metadata": {},
   "source": [
    "* Значения корректные"
   ]
  },
  {
   "cell_type": "code",
   "execution_count": 17,
   "metadata": {},
   "outputs": [
    {
     "data": {
      "text/plain": [
       "2    48980\n",
       "1    13212\n",
       "3     2858\n",
       "0      166\n",
       "4       13\n",
       "Name: adults, dtype: int64"
      ]
     },
     "execution_count": 17,
     "metadata": {},
     "output_type": "execute_result"
    }
   ],
   "source": [
    "hotel_train['adults'].value_counts()"
   ]
  },
  {
   "cell_type": "markdown",
   "metadata": {},
   "source": [
    "* Значения корректные"
   ]
  },
  {
   "cell_type": "code",
   "execution_count": 18,
   "metadata": {},
   "outputs": [
    {
     "data": {
      "text/plain": [
       "0    61712\n",
       "1     2165\n",
       "2     1336\n",
       "3       16\n",
       "Name: children, dtype: int64"
      ]
     },
     "execution_count": 18,
     "metadata": {},
     "output_type": "execute_result"
    }
   ],
   "source": [
    "hotel_train['children'].value_counts()"
   ]
  },
  {
   "cell_type": "markdown",
   "metadata": {},
   "source": [
    "* Значения корректные"
   ]
  },
  {
   "cell_type": "code",
   "execution_count": 19,
   "metadata": {},
   "outputs": [
    {
     "data": {
      "text/plain": [
       "0     64777\n",
       "1       447\n",
       "2         3\n",
       "9         1\n",
       "10        1\n",
       "Name: babies, dtype: int64"
      ]
     },
     "execution_count": 19,
     "metadata": {},
     "output_type": "execute_result"
    }
   ],
   "source": [
    "hotel_train['babies'].value_counts()"
   ]
  },
  {
   "cell_type": "markdown",
   "metadata": {},
   "source": [
    "* Значения корректные"
   ]
  },
  {
   "cell_type": "code",
   "execution_count": 20,
   "metadata": {},
   "outputs": [
    {
     "data": {
      "text/plain": [
       "0     56195\n",
       "1      6615\n",
       "2      1754\n",
       "3       413\n",
       "4       149\n",
       "5        42\n",
       "6        19\n",
       "7        18\n",
       "8         7\n",
       "9         5\n",
       "13        4\n",
       "10        2\n",
       "14        2\n",
       "15        2\n",
       "16        1\n",
       "17        1\n",
       "Name: booking_changes, dtype: int64"
      ]
     },
     "execution_count": 20,
     "metadata": {},
     "output_type": "execute_result"
    }
   ],
   "source": [
    "hotel_train['booking_changes'].value_counts()"
   ]
  },
  {
   "cell_type": "markdown",
   "metadata": {},
   "source": [
    "* Значения корректные. Почти все значения находятся в диапазон от 0 до 3, более 4 измениней в заказе, практически не встречается. "
   ]
  },
  {
   "cell_type": "code",
   "execution_count": 21,
   "metadata": {},
   "outputs": [
    {
     "data": {
      "text/plain": [
       "PRT    28831\n",
       "FRA     5974\n",
       "GBR     5109\n",
       "ESP     4900\n",
       "DEU     3887\n",
       "       ...  \n",
       "BWA        1\n",
       "BDI        1\n",
       "ZWE        1\n",
       "LCA        1\n",
       "AND        1\n",
       "Name: country, Length: 155, dtype: int64"
      ]
     },
     "execution_count": 21,
     "metadata": {},
     "output_type": "execute_result"
    }
   ],
   "source": [
    "hotel_train['country'].value_counts()"
   ]
  },
  {
   "cell_type": "markdown",
   "metadata": {},
   "source": [
    "* Значения корректные"
   ]
  },
  {
   "cell_type": "code",
   "execution_count": 22,
   "metadata": {},
   "outputs": [
    {
     "data": {
      "text/plain": [
       "Transient          45493\n",
       "Transient-Party    16703\n",
       "Contract            2746\n",
       "Group                287\n",
       "Name: customer_type, dtype: int64"
      ]
     },
     "execution_count": 22,
     "metadata": {},
     "output_type": "execute_result"
    }
   ],
   "source": [
    "hotel_train['customer_type'].value_counts()"
   ]
  },
  {
   "cell_type": "markdown",
   "metadata": {},
   "source": [
    "* Значения корректные"
   ]
  },
  {
   "cell_type": "code",
   "execution_count": 23,
   "metadata": {},
   "outputs": [
    {
     "data": {
      "text/plain": [
       "0      62005\n",
       "39       185\n",
       "58       164\n",
       "44       137\n",
       "31       126\n",
       "       ...  \n",
       "89         1\n",
       "76         1\n",
       "13         1\n",
       "142        1\n",
       "14         1\n",
       "Name: days_in_waiting_list, Length: 97, dtype: int64"
      ]
     },
     "execution_count": 23,
     "metadata": {},
     "output_type": "execute_result"
    }
   ],
   "source": [
    "hotel_train['days_in_waiting_list'].value_counts()"
   ]
  },
  {
   "cell_type": "markdown",
   "metadata": {},
   "source": [
    "* Значения корректные"
   ]
  },
  {
   "cell_type": "code",
   "execution_count": 24,
   "metadata": {},
   "outputs": [
    {
     "data": {
      "text/plain": [
       "TA/TO        54454\n",
       "Direct        6853\n",
       "Corporate     3823\n",
       "GDS             99\n",
       "Name: distribution_channel, dtype: int64"
      ]
     },
     "execution_count": 24,
     "metadata": {},
     "output_type": "execute_result"
    }
   ],
   "source": [
    "hotel_train['distribution_channel'].value_counts()"
   ]
  },
  {
   "cell_type": "markdown",
   "metadata": {},
   "source": [
    "* Значения корректные"
   ]
  },
  {
   "cell_type": "code",
   "execution_count": 25,
   "metadata": {},
   "outputs": [
    {
     "data": {
      "text/plain": [
       "0    63458\n",
       "1     1771\n",
       "Name: is_repeated_guest, dtype: int64"
      ]
     },
     "execution_count": 25,
     "metadata": {},
     "output_type": "execute_result"
    }
   ],
   "source": [
    "hotel_train['is_repeated_guest'].value_counts()"
   ]
  },
  {
   "cell_type": "markdown",
   "metadata": {},
   "source": [
    "* Значения корректные"
   ]
  },
  {
   "cell_type": "code",
   "execution_count": 26,
   "metadata": {
    "scrolled": true
   },
   "outputs": [
    {
     "data": {
      "text/plain": [
       "BB           51697\n",
       "HB            7292\n",
       "SC            5274\n",
       "SC             515\n",
       "FB             451\n",
       "Name: meal, dtype: int64"
      ]
     },
     "execution_count": 26,
     "metadata": {},
     "output_type": "execute_result"
    }
   ],
   "source": [
    "hotel_train['meal'].value_counts()"
   ]
  },
  {
   "cell_type": "markdown",
   "metadata": {},
   "source": [
    "* в данных есть лишние пробелы, поэтому одинаковые данные определяются по разному, необходимо их удалить"
   ]
  },
  {
   "cell_type": "markdown",
   "metadata": {},
   "source": [
    "Удалим пробелы"
   ]
  },
  {
   "cell_type": "code",
   "execution_count": 27,
   "metadata": {},
   "outputs": [
    {
     "data": {
      "text/plain": [
       "BB    51697\n",
       "HB     7292\n",
       "SC     5789\n",
       "FB      451\n",
       "Name: meal, dtype: int64"
      ]
     },
     "execution_count": 27,
     "metadata": {},
     "output_type": "execute_result"
    }
   ],
   "source": [
    "hotel_train['meal'] = hotel_train['meal'].str.replace(' ', '')\n",
    "hotel_train['meal'].value_counts()"
   ]
  },
  {
   "cell_type": "markdown",
   "metadata": {},
   "source": [
    "* Значения корректные"
   ]
  },
  {
   "cell_type": "code",
   "execution_count": 28,
   "metadata": {},
   "outputs": [
    {
     "data": {
      "text/plain": [
       "0    63686\n",
       "1      645\n",
       "2      252\n",
       "3      136\n",
       "4      114\n",
       "5       89\n",
       "6       56\n",
       "7       34\n",
       "8       25\n",
       "9       23\n",
       "Name: previous_bookings_not_canceled, dtype: int64"
      ]
     },
     "execution_count": 28,
     "metadata": {},
     "output_type": "execute_result"
    }
   ],
   "source": [
    "hotel_train['previous_bookings_not_canceled'].value_counts().head(10)"
   ]
  },
  {
   "cell_type": "markdown",
   "metadata": {},
   "source": [
    "* Значения корректные. Почти все значение равны 0 (отсутствуют заказы)"
   ]
  },
  {
   "cell_type": "code",
   "execution_count": 29,
   "metadata": {},
   "outputs": [
    {
     "data": {
      "text/plain": [
       "0     59591\n",
       "1      5367\n",
       "2        54\n",
       "3        51\n",
       "11       35\n",
       "24       28\n",
       "25       19\n",
       "26       18\n",
       "19       17\n",
       "5        13\n",
       "13       12\n",
       "14       11\n",
       "6         7\n",
       "4         5\n",
       "21        1\n",
       "Name: previous_cancellations, dtype: int64"
      ]
     },
     "execution_count": 29,
     "metadata": {},
     "output_type": "execute_result"
    }
   ],
   "source": [
    "hotel_train['previous_cancellations'].value_counts()"
   ]
  },
  {
   "cell_type": "markdown",
   "metadata": {},
   "source": [
    "* Значения корректные"
   ]
  },
  {
   "cell_type": "code",
   "execution_count": 30,
   "metadata": {},
   "outputs": [
    {
     "data": {
      "text/plain": [
       "0    61547\n",
       "1     3670\n",
       "2       11\n",
       "3        1\n",
       "Name: required_car_parking_spaces, dtype: int64"
      ]
     },
     "execution_count": 30,
     "metadata": {},
     "output_type": "execute_result"
    }
   ],
   "source": [
    "hotel_train['required_car_parking_spaces'].value_counts()"
   ]
  },
  {
   "cell_type": "markdown",
   "metadata": {},
   "source": [
    "* Значения корректные"
   ]
  },
  {
   "cell_type": "code",
   "execution_count": 31,
   "metadata": {},
   "outputs": [
    {
     "data": {
      "text/plain": [
       "A                   50501\n",
       "D                    9387\n",
       "E                    2448\n",
       "F                    1213\n",
       "B                     860\n",
       "G                     592\n",
       "C                     228\n",
       "Name: reserved_room_type, dtype: int64"
      ]
     },
     "execution_count": 31,
     "metadata": {},
     "output_type": "execute_result"
    }
   ],
   "source": [
    "hotel_train['reserved_room_type'].value_counts()"
   ]
  },
  {
   "cell_type": "markdown",
   "metadata": {},
   "source": [
    "* в данных есть лишние пробелы, необходимо их удалить"
   ]
  },
  {
   "cell_type": "code",
   "execution_count": 32,
   "metadata": {},
   "outputs": [
    {
     "data": {
      "text/plain": [
       "A    50501\n",
       "D     9387\n",
       "E     2448\n",
       "F     1213\n",
       "B      860\n",
       "G      592\n",
       "C      228\n",
       "Name: reserved_room_type, dtype: int64"
      ]
     },
     "execution_count": 32,
     "metadata": {},
     "output_type": "execute_result"
    }
   ],
   "source": [
    "hotel_train['reserved_room_type'] = hotel_train['reserved_room_type'].str.replace(' ', '')\n",
    "hotel_train['reserved_room_type'].value_counts()"
   ]
  },
  {
   "cell_type": "markdown",
   "metadata": {},
   "source": [
    "* Значения корректные"
   ]
  },
  {
   "cell_type": "code",
   "execution_count": 33,
   "metadata": {},
   "outputs": [
    {
     "data": {
      "text/plain": [
       "2     16795\n",
       "3     15652\n",
       "1     12122\n",
       "4      9629\n",
       "5      4288\n",
       "7      3853\n",
       "6      2078\n",
       "8       542\n",
       "9       152\n",
       "10      118\n",
       "Name: total_nights, dtype: int64"
      ]
     },
     "execution_count": 33,
     "metadata": {},
     "output_type": "execute_result"
    }
   ],
   "source": [
    "hotel_train['total_nights'].value_counts()"
   ]
  },
  {
   "cell_type": "markdown",
   "metadata": {},
   "source": [
    "* Значения корректные"
   ]
  },
  {
   "cell_type": "code",
   "execution_count": 34,
   "metadata": {},
   "outputs": [
    {
     "data": {
      "text/plain": [
       "0    40671\n",
       "1    16958\n",
       "2     6444\n",
       "3     1036\n",
       "4      107\n",
       "5       13\n",
       "Name: total_of_special_requests, dtype: int64"
      ]
     },
     "execution_count": 34,
     "metadata": {},
     "output_type": "execute_result"
    }
   ],
   "source": [
    "hotel_train['total_of_special_requests'].value_counts()"
   ]
  },
  {
   "cell_type": "markdown",
   "metadata": {},
   "source": [
    "* Значения корректные"
   ]
  },
  {
   "cell_type": "markdown",
   "metadata": {},
   "source": [
    "***Вывод***\n",
    "* Данные предобработаны"
   ]
  },
  {
   "cell_type": "markdown",
   "metadata": {},
   "source": [
    "### Таблица `hotel_test`"
   ]
  },
  {
   "cell_type": "markdown",
   "metadata": {},
   "source": [
    "Удалим столбец `id`"
   ]
  },
  {
   "cell_type": "code",
   "execution_count": 35,
   "metadata": {},
   "outputs": [],
   "source": [
    "hotel_test = hotel_test.drop('id', axis=1)"
   ]
  },
  {
   "cell_type": "markdown",
   "metadata": {},
   "source": [
    "В столбцах `lead_time`, `adults`, `children`, `babies` заменим тип данных на int"
   ]
  },
  {
   "cell_type": "code",
   "execution_count": 36,
   "metadata": {},
   "outputs": [],
   "source": [
    "hotel_test[['lead_time', 'adults', 'children', 'babies']] = (\n",
    "    hotel_test[['lead_time', 'adults', 'children', 'babies']].astype('int')\n",
    ")"
   ]
  },
  {
   "cell_type": "markdown",
   "metadata": {},
   "source": [
    "Проанализируем данные в столбцах"
   ]
  },
  {
   "cell_type": "code",
   "execution_count": 37,
   "metadata": {},
   "outputs": [
    {
     "data": {
      "text/plain": [
       "0    19821\n",
       "1    12591\n",
       "Name: is_canceled, dtype: int64"
      ]
     },
     "execution_count": 37,
     "metadata": {},
     "output_type": "execute_result"
    }
   ],
   "source": [
    "hotel_test['is_canceled'].value_counts()"
   ]
  },
  {
   "cell_type": "markdown",
   "metadata": {},
   "source": [
    "* Значения корректные"
   ]
  },
  {
   "cell_type": "code",
   "execution_count": 38,
   "metadata": {},
   "outputs": [
    {
     "data": {
      "image/png": "[encoded data removed]",
      "text/plain": [
       "<Figure size 720x360 with 1 Axes>"
      ]
     },
     "metadata": {
      "needs_background": "light"
     },
     "output_type": "display_data"
    }
   ],
   "source": [
    "hotel_test['lead_time'].hist(figsize=(10, 5), grid=True)\n",
    "plt.xlabel(\"Кол-во дней\")\n",
    "plt.ylabel(\"Кол-во записей\")\n",
    "plt.title(\"Кол-во дней между датой бронирования и датой прибытия\")\n",
    "plt.show()    "
   ]
  },
  {
   "cell_type": "code",
   "execution_count": 39,
   "metadata": {},
   "outputs": [
    {
     "data": {
      "text/plain": [
       "0      1376\n",
       "1       783\n",
       "2       492\n",
       "3       403\n",
       "4       391\n",
       "       ... \n",
       "349       2\n",
       "361       2\n",
       "347       2\n",
       "367       2\n",
       "366       1\n",
       "Name: lead_time, Length: 368, dtype: int64"
      ]
     },
     "execution_count": 39,
     "metadata": {},
     "output_type": "execute_result"
    }
   ],
   "source": [
    "hotel_test['lead_time'].value_counts()"
   ]
  },
  {
   "cell_type": "markdown",
   "metadata": {},
   "source": [
    "* Значения корректные"
   ]
  },
  {
   "cell_type": "code",
   "execution_count": 40,
   "metadata": {},
   "outputs": [
    {
     "data": {
      "text/plain": [
       "2017    32412\n",
       "Name: arrival_date_year, dtype: int64"
      ]
     },
     "execution_count": 40,
     "metadata": {},
     "output_type": "execute_result"
    }
   ],
   "source": [
    "hotel_test['arrival_date_year'].value_counts()"
   ]
  },
  {
   "cell_type": "markdown",
   "metadata": {},
   "source": [
    "* Значения корректные"
   ]
  },
  {
   "cell_type": "code",
   "execution_count": 41,
   "metadata": {},
   "outputs": [
    {
     "data": {
      "text/plain": [
       "May         5262\n",
       "April       4878\n",
       "June        4580\n",
       "March       4277\n",
       "July        3626\n",
       "February    3543\n",
       "January     3150\n",
       "August      3096\n",
       "Name: arrival_date_month, dtype: int64"
      ]
     },
     "execution_count": 41,
     "metadata": {},
     "output_type": "execute_result"
    }
   ],
   "source": [
    "hotel_test['arrival_date_month'].value_counts()"
   ]
  },
  {
   "cell_type": "markdown",
   "metadata": {},
   "source": [
    "* Значения корректные"
   ]
  },
  {
   "cell_type": "code",
   "execution_count": 42,
   "metadata": {},
   "outputs": [
    {
     "data": {
      "image/png": "[encoded data removed]",
      "text/plain": [
       "<Figure size 720x360 with 1 Axes>"
      ]
     },
     "metadata": {
      "needs_background": "light"
     },
     "output_type": "display_data"
    }
   ],
   "source": [
    "hotel_test['arrival_date_week_number'].hist(figsize=(10, 5), grid=True)\n",
    "plt.xlabel(\"Номер недели\")\n",
    "plt.ylabel(\"Кол-во записей\")\n",
    "plt.title(\"Неделя заезда\")\n",
    "plt.show()  "
   ]
  },
  {
   "cell_type": "code",
   "execution_count": 43,
   "metadata": {},
   "outputs": [
    {
     "data": {
      "text/plain": [
       "17    1297\n",
       "18    1271\n",
       "20    1261\n",
       "15    1218\n",
       "21    1170\n",
       "22    1161\n",
       "14    1101\n",
       "23    1098\n",
       "19    1080\n",
       "8     1054\n",
       "Name: arrival_date_week_number, dtype: int64"
      ]
     },
     "execution_count": 43,
     "metadata": {},
     "output_type": "execute_result"
    }
   ],
   "source": [
    "hotel_test['arrival_date_week_number'].value_counts().head(10)"
   ]
  },
  {
   "cell_type": "markdown",
   "metadata": {},
   "source": [
    "* Значения корректные"
   ]
  },
  {
   "cell_type": "code",
   "execution_count": 44,
   "metadata": {},
   "outputs": [
    {
     "data": {
      "image/png": "[encoded data removed]",
      "text/plain": [
       "<Figure size 720x360 with 1 Axes>"
      ]
     },
     "metadata": {
      "needs_background": "light"
     },
     "output_type": "display_data"
    }
   ],
   "source": [
    "hotel_test['arrival_date_day_of_month'].hist(figsize=(10, 5), grid=True)\n",
    "plt.xlabel(\"Номер дня\")\n",
    "plt.ylabel(\"Кол-во записей\")\n",
    "plt.title(\"День заезда в месяце\")\n",
    "plt.show() "
   ]
  },
  {
   "cell_type": "code",
   "execution_count": 45,
   "metadata": {},
   "outputs": [
    {
     "data": {
      "text/plain": [
       "15    1317\n",
       "9     1227\n",
       "2     1200\n",
       "28    1139\n",
       "25    1127\n",
       "3     1121\n",
       "27    1119\n",
       "24    1116\n",
       "14    1115\n",
       "19    1111\n",
       "Name: arrival_date_day_of_month, dtype: int64"
      ]
     },
     "execution_count": 45,
     "metadata": {},
     "output_type": "execute_result"
    }
   ],
   "source": [
    "hotel_test['arrival_date_day_of_month'].value_counts().head(10)"
   ]
  },
  {
   "cell_type": "markdown",
   "metadata": {},
   "source": [
    "* Значения корректные"
   ]
  },
  {
   "cell_type": "code",
   "execution_count": 46,
   "metadata": {},
   "outputs": [
    {
     "data": {
      "text/plain": [
       "0    13915\n",
       "2     9221\n",
       "1     9105\n",
       "3      101\n",
       "4       70\n",
       "Name: stays_in_weekend_nights, dtype: int64"
      ]
     },
     "execution_count": 46,
     "metadata": {},
     "output_type": "execute_result"
    }
   ],
   "source": [
    "hotel_test['stays_in_weekend_nights'].value_counts()"
   ]
  },
  {
   "cell_type": "markdown",
   "metadata": {},
   "source": [
    "* Значения корректные"
   ]
  },
  {
   "cell_type": "code",
   "execution_count": 47,
   "metadata": {},
   "outputs": [
    {
     "data": {
      "text/plain": [
       "2    9004\n",
       "1    8038\n",
       "3    7326\n",
       "4    2975\n",
       "5    2869\n",
       "0    1937\n",
       "6     263\n",
       "Name: stays_in_week_nights, dtype: int64"
      ]
     },
     "execution_count": 47,
     "metadata": {},
     "output_type": "execute_result"
    }
   ],
   "source": [
    "hotel_test['stays_in_week_nights'].value_counts()"
   ]
  },
  {
   "cell_type": "markdown",
   "metadata": {},
   "source": [
    "* Значения корректные"
   ]
  },
  {
   "cell_type": "code",
   "execution_count": 48,
   "metadata": {},
   "outputs": [
    {
     "data": {
      "text/plain": [
       "2    24237\n",
       "1     6280\n",
       "3     1817\n",
       "0       69\n",
       "4        9\n",
       "Name: adults, dtype: int64"
      ]
     },
     "execution_count": 48,
     "metadata": {},
     "output_type": "execute_result"
    }
   ],
   "source": [
    "hotel_test['adults'].value_counts()"
   ]
  },
  {
   "cell_type": "markdown",
   "metadata": {},
   "source": [
    "* Значения корректные"
   ]
  },
  {
   "cell_type": "code",
   "execution_count": 49,
   "metadata": {},
   "outputs": [
    {
     "data": {
      "text/plain": [
       "0    30360\n",
       "1     1394\n",
       "2      653\n",
       "3        5\n",
       "Name: children, dtype: int64"
      ]
     },
     "execution_count": 49,
     "metadata": {},
     "output_type": "execute_result"
    }
   ],
   "source": [
    "hotel_test['children'].value_counts()"
   ]
  },
  {
   "cell_type": "markdown",
   "metadata": {},
   "source": [
    "* Значения корректные"
   ]
  },
  {
   "cell_type": "code",
   "execution_count": 50,
   "metadata": {},
   "outputs": [
    {
     "data": {
      "text/plain": [
       "0    32237\n",
       "1      171\n",
       "2        4\n",
       "Name: babies, dtype: int64"
      ]
     },
     "execution_count": 50,
     "metadata": {},
     "output_type": "execute_result"
    }
   ],
   "source": [
    "hotel_test['babies'].value_counts()"
   ]
  },
  {
   "cell_type": "markdown",
   "metadata": {},
   "source": [
    "* Значения корректные"
   ]
  },
  {
   "cell_type": "code",
   "execution_count": 51,
   "metadata": {},
   "outputs": [
    {
     "data": {
      "text/plain": [
       "0     27745\n",
       "1      3065\n",
       "2      1160\n",
       "3       268\n",
       "4       117\n",
       "5        29\n",
       "6        16\n",
       "7         5\n",
       "16        1\n",
       "18        1\n",
       "8         1\n",
       "10        1\n",
       "11        1\n",
       "14        1\n",
       "15        1\n",
       "Name: booking_changes, dtype: int64"
      ]
     },
     "execution_count": 51,
     "metadata": {},
     "output_type": "execute_result"
    }
   ],
   "source": [
    "hotel_test['booking_changes'].value_counts()"
   ]
  },
  {
   "cell_type": "markdown",
   "metadata": {},
   "source": [
    "* Значения корректные"
   ]
  },
  {
   "cell_type": "code",
   "execution_count": 52,
   "metadata": {},
   "outputs": [
    {
     "data": {
      "text/plain": [
       "PRT    9887\n",
       "GBR    3927\n",
       "FRA    3477\n",
       "DEU    2378\n",
       "ESP    1932\n",
       "       ... \n",
       "ASM       1\n",
       "SLE       1\n",
       "BHS       1\n",
       "IMN       1\n",
       "AND       1\n",
       "Name: country, Length: 143, dtype: int64"
      ]
     },
     "execution_count": 52,
     "metadata": {},
     "output_type": "execute_result"
    }
   ],
   "source": [
    "hotel_test['country'].value_counts()"
   ]
  },
  {
   "cell_type": "markdown",
   "metadata": {},
   "source": [
    "* Значения корректные"
   ]
  },
  {
   "cell_type": "code",
   "execution_count": 53,
   "metadata": {},
   "outputs": [
    {
     "data": {
      "text/plain": [
       "Transient          27461\n",
       "Transient-Party     4427\n",
       "Contract             359\n",
       "Group                165\n",
       "Name: customer_type, dtype: int64"
      ]
     },
     "execution_count": 53,
     "metadata": {},
     "output_type": "execute_result"
    }
   ],
   "source": [
    "hotel_test['customer_type'].value_counts()"
   ]
  },
  {
   "cell_type": "markdown",
   "metadata": {},
   "source": [
    "* Значения корректные"
   ]
  },
  {
   "cell_type": "code",
   "execution_count": 54,
   "metadata": {},
   "outputs": [
    {
     "data": {
      "text/plain": [
       "0      32235\n",
       "59         6\n",
       "71         6\n",
       "60         6\n",
       "25         6\n",
       "       ...  \n",
       "57         1\n",
       "73         1\n",
       "105        1\n",
       "121        1\n",
       "223        1\n",
       "Name: days_in_waiting_list, Length: 75, dtype: int64"
      ]
     },
     "execution_count": 54,
     "metadata": {},
     "output_type": "execute_result"
    }
   ],
   "source": [
    "hotel_test['days_in_waiting_list'].value_counts()"
   ]
  },
  {
   "cell_type": "markdown",
   "metadata": {},
   "source": [
    "* Значения корректные"
   ]
  },
  {
   "cell_type": "code",
   "execution_count": 55,
   "metadata": {},
   "outputs": [
    {
     "data": {
      "text/plain": [
       "TA/TO        27083\n",
       "Direct        3642\n",
       "Corporate     1602\n",
       "GDS             85\n",
       "Name: distribution_channel, dtype: int64"
      ]
     },
     "execution_count": 55,
     "metadata": {},
     "output_type": "execute_result"
    }
   ],
   "source": [
    "hotel_test['distribution_channel'].value_counts()"
   ]
  },
  {
   "cell_type": "markdown",
   "metadata": {},
   "source": [
    "* Значения корректные"
   ]
  },
  {
   "cell_type": "code",
   "execution_count": 56,
   "metadata": {},
   "outputs": [
    {
     "data": {
      "text/plain": [
       "0    31395\n",
       "1     1017\n",
       "Name: is_repeated_guest, dtype: int64"
      ]
     },
     "execution_count": 56,
     "metadata": {},
     "output_type": "execute_result"
    }
   ],
   "source": [
    "hotel_test['is_repeated_guest'].value_counts()"
   ]
  },
  {
   "cell_type": "markdown",
   "metadata": {},
   "source": [
    "* Значения корректные"
   ]
  },
  {
   "cell_type": "code",
   "execution_count": 57,
   "metadata": {
    "scrolled": true
   },
   "outputs": [
    {
     "data": {
      "text/plain": [
       "BB           24684\n",
       "SC            5035\n",
       "HB            2399\n",
       "SC             258\n",
       "FB              36\n",
       "Name: meal, dtype: int64"
      ]
     },
     "execution_count": 57,
     "metadata": {},
     "output_type": "execute_result"
    }
   ],
   "source": [
    "hotel_test['meal'].value_counts()"
   ]
  },
  {
   "cell_type": "markdown",
   "metadata": {},
   "source": [
    "* в данных есть лишние пробелы, поэтому одинаковые данные определяются по разному, необходимо их удалить"
   ]
  },
  {
   "cell_type": "markdown",
   "metadata": {},
   "source": [
    "Удалим пробелы"
   ]
  },
  {
   "cell_type": "code",
   "execution_count": 58,
   "metadata": {},
   "outputs": [
    {
     "data": {
      "text/plain": [
       "BB    24684\n",
       "SC     5293\n",
       "HB     2399\n",
       "FB       36\n",
       "Name: meal, dtype: int64"
      ]
     },
     "execution_count": 58,
     "metadata": {},
     "output_type": "execute_result"
    }
   ],
   "source": [
    "hotel_test['meal'] = hotel_test['meal'].str.replace(' ', '')\n",
    "hotel_test['meal'].value_counts()"
   ]
  },
  {
   "cell_type": "markdown",
   "metadata": {},
   "source": [
    "* Значения корректные"
   ]
  },
  {
   "cell_type": "code",
   "execution_count": 59,
   "metadata": {},
   "outputs": [
    {
     "data": {
      "text/plain": [
       "0     31362\n",
       "1       424\n",
       "2       161\n",
       "3        87\n",
       "4        59\n",
       "5        46\n",
       "6        38\n",
       "7        34\n",
       "8        24\n",
       "10       22\n",
       "Name: previous_bookings_not_canceled, dtype: int64"
      ]
     },
     "execution_count": 59,
     "metadata": {},
     "output_type": "execute_result"
    }
   ],
   "source": [
    "hotel_test['previous_bookings_not_canceled'].value_counts().head(10)"
   ]
  },
  {
   "cell_type": "markdown",
   "metadata": {},
   "source": [
    "* Значения корректные"
   ]
  },
  {
   "cell_type": "code",
   "execution_count": 60,
   "metadata": {},
   "outputs": [
    {
     "data": {
      "text/plain": [
       "0    32186\n",
       "1      165\n",
       "2       29\n",
       "6       15\n",
       "4       10\n",
       "3        6\n",
       "5        1\n",
       "Name: previous_cancellations, dtype: int64"
      ]
     },
     "execution_count": 60,
     "metadata": {},
     "output_type": "execute_result"
    }
   ],
   "source": [
    "hotel_test['previous_cancellations'].value_counts()"
   ]
  },
  {
   "cell_type": "markdown",
   "metadata": {},
   "source": [
    "* Значения корректные"
   ]
  },
  {
   "cell_type": "code",
   "execution_count": 61,
   "metadata": {},
   "outputs": [
    {
     "data": {
      "text/plain": [
       "0    30935\n",
       "1     1468\n",
       "2        6\n",
       "8        2\n",
       "3        1\n",
       "Name: required_car_parking_spaces, dtype: int64"
      ]
     },
     "execution_count": 61,
     "metadata": {},
     "output_type": "execute_result"
    }
   ],
   "source": [
    "hotel_test['required_car_parking_spaces'].value_counts()"
   ]
  },
  {
   "cell_type": "markdown",
   "metadata": {},
   "source": [
    "* Значения корректные"
   ]
  },
  {
   "cell_type": "code",
   "execution_count": 62,
   "metadata": {},
   "outputs": [
    {
     "data": {
      "text/plain": [
       "A                   23471\n",
       "D                    6123\n",
       "E                    1644\n",
       "F                     503\n",
       "G                     278\n",
       "C                     201\n",
       "B                     192\n",
       "Name: reserved_room_type, dtype: int64"
      ]
     },
     "execution_count": 62,
     "metadata": {},
     "output_type": "execute_result"
    }
   ],
   "source": [
    "hotel_test['reserved_room_type'].value_counts()"
   ]
  },
  {
   "cell_type": "markdown",
   "metadata": {},
   "source": [
    "* в данных есть лишние пробелы, необходимо их удалить"
   ]
  },
  {
   "cell_type": "code",
   "execution_count": 63,
   "metadata": {},
   "outputs": [
    {
     "data": {
      "text/plain": [
       "A    23471\n",
       "D     6123\n",
       "E     1644\n",
       "F      503\n",
       "G      278\n",
       "C      201\n",
       "B      192\n",
       "Name: reserved_room_type, dtype: int64"
      ]
     },
     "execution_count": 63,
     "metadata": {},
     "output_type": "execute_result"
    }
   ],
   "source": [
    "hotel_test['reserved_room_type'] = hotel_test['reserved_room_type'].str.replace(' ', '')\n",
    "hotel_test['reserved_room_type'].value_counts()"
   ]
  },
  {
   "cell_type": "markdown",
   "metadata": {},
   "source": [
    "* Значения корректные"
   ]
  },
  {
   "cell_type": "code",
   "execution_count": 64,
   "metadata": {},
   "outputs": [
    {
     "data": {
      "text/plain": [
       "3     8395\n",
       "2     6760\n",
       "4     5828\n",
       "1     5465\n",
       "5     2409\n",
       "7     2284\n",
       "6      939\n",
       "8      215\n",
       "9       62\n",
       "10      55\n",
       "Name: total_nights, dtype: int64"
      ]
     },
     "execution_count": 64,
     "metadata": {},
     "output_type": "execute_result"
    }
   ],
   "source": [
    "hotel_test['total_nights'].value_counts()"
   ]
  },
  {
   "cell_type": "markdown",
   "metadata": {},
   "source": [
    "* Значения корректные"
   ]
  },
  {
   "cell_type": "code",
   "execution_count": 65,
   "metadata": {},
   "outputs": [
    {
     "data": {
      "text/plain": [
       "0    17338\n",
       "1    10037\n",
       "2     3988\n",
       "3      907\n",
       "4      124\n",
       "5       18\n",
       "Name: total_of_special_requests, dtype: int64"
      ]
     },
     "execution_count": 65,
     "metadata": {},
     "output_type": "execute_result"
    }
   ],
   "source": [
    "hotel_test['total_of_special_requests'].value_counts()"
   ]
  },
  {
   "cell_type": "markdown",
   "metadata": {},
   "source": [
    "* Значения корректные"
   ]
  },
  {
   "cell_type": "markdown",
   "metadata": {},
   "source": [
    "### Матрицы корреляций"
   ]
  },
  {
   "cell_type": "markdown",
   "metadata": {},
   "source": [
    "Создадим датафрейм с числовыми столбцами"
   ]
  },
  {
   "cell_type": "code",
   "execution_count": 66,
   "metadata": {},
   "outputs": [],
   "source": [
    "hotel_test_number = hotel_train.drop(['arrival_date_year', 'country', 'arrival_date_month',\n",
    "                                                'meal', 'distribution_channel', 'reserved_room_type', 'customer_type'], axis=1)"
   ]
  },
  {
   "cell_type": "markdown",
   "metadata": {},
   "source": [
    "Сохраним матрицу корреляций в новую переменную"
   ]
  },
  {
   "cell_type": "code",
   "execution_count": 67,
   "metadata": {},
   "outputs": [],
   "source": [
    "corr_matrix = hotel_test_number.corr()"
   ]
  },
  {
   "cell_type": "markdown",
   "metadata": {},
   "source": [
    "Выведем матрицу по частям на экран, для лучшей наглядности"
   ]
  },
  {
   "cell_type": "code",
   "execution_count": 68,
   "metadata": {
    "scrolled": false
   },
   "outputs": [
    {
     "data": {
      "text/html": [
       "<div>\n",
       "<style scoped>\n",
       "    .dataframe tbody tr th:only-of-type {\n",
       "        vertical-align: middle;\n",
       "    }\n",
       "\n",
       "    .dataframe tbody tr th {\n",
       "        vertical-align: top;\n",
       "    }\n",
       "\n",
       "    .dataframe thead th {\n",
       "        text-align: right;\n",
       "    }\n",
       "</style>\n",
       "<table border=\"1\" class=\"dataframe\">\n",
       "  <thead>\n",
       "    <tr style=\"text-align: right;\">\n",
       "      <th></th>\n",
       "      <th>is_canceled</th>\n",
       "      <th>lead_time</th>\n",
       "      <th>arrival_date_week_number</th>\n",
       "      <th>arrival_date_day_of_month</th>\n",
       "    </tr>\n",
       "  </thead>\n",
       "  <tbody>\n",
       "    <tr>\n",
       "      <th>is_canceled</th>\n",
       "      <td>1.000000</td>\n",
       "      <td>0.328142</td>\n",
       "      <td>0.012869</td>\n",
       "      <td>-0.001903</td>\n",
       "    </tr>\n",
       "    <tr>\n",
       "      <th>lead_time</th>\n",
       "      <td>0.328142</td>\n",
       "      <td>1.000000</td>\n",
       "      <td>0.091603</td>\n",
       "      <td>-0.010252</td>\n",
       "    </tr>\n",
       "    <tr>\n",
       "      <th>arrival_date_week_number</th>\n",
       "      <td>0.012869</td>\n",
       "      <td>0.091603</td>\n",
       "      <td>1.000000</td>\n",
       "      <td>0.048372</td>\n",
       "    </tr>\n",
       "    <tr>\n",
       "      <th>arrival_date_day_of_month</th>\n",
       "      <td>-0.001903</td>\n",
       "      <td>-0.010252</td>\n",
       "      <td>0.048372</td>\n",
       "      <td>1.000000</td>\n",
       "    </tr>\n",
       "    <tr>\n",
       "      <th>stays_in_weekend_nights</th>\n",
       "      <td>-0.013767</td>\n",
       "      <td>0.047003</td>\n",
       "      <td>0.034029</td>\n",
       "      <td>-0.002017</td>\n",
       "    </tr>\n",
       "    <tr>\n",
       "      <th>stays_in_week_nights</th>\n",
       "      <td>0.010650</td>\n",
       "      <td>0.172646</td>\n",
       "      <td>0.032295</td>\n",
       "      <td>0.003705</td>\n",
       "    </tr>\n",
       "    <tr>\n",
       "      <th>adults</th>\n",
       "      <td>0.045153</td>\n",
       "      <td>0.119617</td>\n",
       "      <td>0.005638</td>\n",
       "      <td>0.006034</td>\n",
       "    </tr>\n",
       "    <tr>\n",
       "      <th>children</th>\n",
       "      <td>-0.017746</td>\n",
       "      <td>-0.056359</td>\n",
       "      <td>-0.007255</td>\n",
       "      <td>0.018558</td>\n",
       "    </tr>\n",
       "    <tr>\n",
       "      <th>babies</th>\n",
       "      <td>-0.029589</td>\n",
       "      <td>-0.024649</td>\n",
       "      <td>0.003938</td>\n",
       "      <td>-0.000482</td>\n",
       "    </tr>\n",
       "    <tr>\n",
       "      <th>is_repeated_guest</th>\n",
       "      <td>-0.040242</td>\n",
       "      <td>-0.089424</td>\n",
       "      <td>-0.013471</td>\n",
       "      <td>-0.010605</td>\n",
       "    </tr>\n",
       "    <tr>\n",
       "      <th>previous_cancellations</th>\n",
       "      <td>0.153023</td>\n",
       "      <td>0.142454</td>\n",
       "      <td>0.006870</td>\n",
       "      <td>-0.032019</td>\n",
       "    </tr>\n",
       "    <tr>\n",
       "      <th>previous_bookings_not_canceled</th>\n",
       "      <td>-0.045557</td>\n",
       "      <td>-0.061690</td>\n",
       "      <td>-0.011915</td>\n",
       "      <td>-0.000973</td>\n",
       "    </tr>\n",
       "    <tr>\n",
       "      <th>booking_changes</th>\n",
       "      <td>-0.142935</td>\n",
       "      <td>-0.007191</td>\n",
       "      <td>0.011799</td>\n",
       "      <td>0.022560</td>\n",
       "    </tr>\n",
       "    <tr>\n",
       "      <th>days_in_waiting_list</th>\n",
       "      <td>0.075848</td>\n",
       "      <td>0.209741</td>\n",
       "      <td>-0.052976</td>\n",
       "      <td>0.017070</td>\n",
       "    </tr>\n",
       "    <tr>\n",
       "      <th>required_car_parking_spaces</th>\n",
       "      <td>-0.186486</td>\n",
       "      <td>-0.116867</td>\n",
       "      <td>-0.007533</td>\n",
       "      <td>0.003816</td>\n",
       "    </tr>\n",
       "    <tr>\n",
       "      <th>total_of_special_requests</th>\n",
       "      <td>-0.257061</td>\n",
       "      <td>-0.147738</td>\n",
       "      <td>0.076650</td>\n",
       "      <td>0.005875</td>\n",
       "    </tr>\n",
       "    <tr>\n",
       "      <th>total_nights</th>\n",
       "      <td>0.001542</td>\n",
       "      <td>0.157671</td>\n",
       "      <td>0.041886</td>\n",
       "      <td>0.001898</td>\n",
       "    </tr>\n",
       "  </tbody>\n",
       "</table>\n",
       "</div>"
      ],
      "text/plain": [
       "                                is_canceled  lead_time  \\\n",
       "is_canceled                        1.000000   0.328142   \n",
       "lead_time                          0.328142   1.000000   \n",
       "arrival_date_week_number           0.012869   0.091603   \n",
       "arrival_date_day_of_month         -0.001903  -0.010252   \n",
       "stays_in_weekend_nights           -0.013767   0.047003   \n",
       "stays_in_week_nights               0.010650   0.172646   \n",
       "adults                             0.045153   0.119617   \n",
       "children                          -0.017746  -0.056359   \n",
       "babies                            -0.029589  -0.024649   \n",
       "is_repeated_guest                 -0.040242  -0.089424   \n",
       "previous_cancellations             0.153023   0.142454   \n",
       "previous_bookings_not_canceled    -0.045557  -0.061690   \n",
       "booking_changes                   -0.142935  -0.007191   \n",
       "days_in_waiting_list               0.075848   0.209741   \n",
       "required_car_parking_spaces       -0.186486  -0.116867   \n",
       "total_of_special_requests         -0.257061  -0.147738   \n",
       "total_nights                       0.001542   0.157671   \n",
       "\n",
       "                                arrival_date_week_number  \\\n",
       "is_canceled                                     0.012869   \n",
       "lead_time                                       0.091603   \n",
       "arrival_date_week_number                        1.000000   \n",
       "arrival_date_day_of_month                       0.048372   \n",
       "stays_in_weekend_nights                         0.034029   \n",
       "stays_in_week_nights                            0.032295   \n",
       "adults                                          0.005638   \n",
       "children                                       -0.007255   \n",
       "babies                                          0.003938   \n",
       "is_repeated_guest                              -0.013471   \n",
       "previous_cancellations                          0.006870   \n",
       "previous_bookings_not_canceled                 -0.011915   \n",
       "booking_changes                                 0.011799   \n",
       "days_in_waiting_list                           -0.052976   \n",
       "required_car_parking_spaces                    -0.007533   \n",
       "total_of_special_requests                       0.076650   \n",
       "total_nights                                    0.041886   \n",
       "\n",
       "                                arrival_date_day_of_month  \n",
       "is_canceled                                     -0.001903  \n",
       "lead_time                                       -0.010252  \n",
       "arrival_date_week_number                         0.048372  \n",
       "arrival_date_day_of_month                        1.000000  \n",
       "stays_in_weekend_nights                         -0.002017  \n",
       "stays_in_week_nights                             0.003705  \n",
       "adults                                           0.006034  \n",
       "children                                         0.018558  \n",
       "babies                                          -0.000482  \n",
       "is_repeated_guest                               -0.010605  \n",
       "previous_cancellations                          -0.032019  \n",
       "previous_bookings_not_canceled                  -0.000973  \n",
       "booking_changes                                  0.022560  \n",
       "days_in_waiting_list                             0.017070  \n",
       "required_car_parking_spaces                      0.003816  \n",
       "total_of_special_requests                        0.005875  \n",
       "total_nights                                     0.001898  "
      ]
     },
     "execution_count": 68,
     "metadata": {},
     "output_type": "execute_result"
    }
   ],
   "source": [
    "corr_matrix.loc[:, ['is_canceled', 'lead_time', 'arrival_date_week_number', 'arrival_date_day_of_month']]"
   ]
  },
  {
   "cell_type": "markdown",
   "metadata": {},
   "source": [
    "`is_canceled` (отмена бронирования):\n",
    "\n",
    "* Обнаружена прямая линейная слабая зависимость (0,328) от кол-ва дней от момента бронирования до момента прибытия;\n",
    "* Обнаружена обратная линейная слабая зависимость (-0,257) от кол-ва специальных отметок.\n",
    "\n",
    "`lead_time` (количество дней между датой бронирования и датой прибытия):\n",
    "\n",
    "* Обнаружена прямая линейная слабая зависимость (0,210) от того сколько дней заказ ожидал подтверждения."
   ]
  },
  {
   "cell_type": "code",
   "execution_count": 69,
   "metadata": {},
   "outputs": [
    {
     "data": {
      "text/html": [
       "<div>\n",
       "<style scoped>\n",
       "    .dataframe tbody tr th:only-of-type {\n",
       "        vertical-align: middle;\n",
       "    }\n",
       "\n",
       "    .dataframe tbody tr th {\n",
       "        vertical-align: top;\n",
       "    }\n",
       "\n",
       "    .dataframe thead th {\n",
       "        text-align: right;\n",
       "    }\n",
       "</style>\n",
       "<table border=\"1\" class=\"dataframe\">\n",
       "  <thead>\n",
       "    <tr style=\"text-align: right;\">\n",
       "      <th></th>\n",
       "      <th>stays_in_weekend_nights</th>\n",
       "      <th>stays_in_week_nights</th>\n",
       "      <th>adults</th>\n",
       "      <th>children</th>\n",
       "    </tr>\n",
       "  </thead>\n",
       "  <tbody>\n",
       "    <tr>\n",
       "      <th>is_canceled</th>\n",
       "      <td>-0.013767</td>\n",
       "      <td>0.010650</td>\n",
       "      <td>0.045153</td>\n",
       "      <td>-0.017746</td>\n",
       "    </tr>\n",
       "    <tr>\n",
       "      <th>lead_time</th>\n",
       "      <td>0.047003</td>\n",
       "      <td>0.172646</td>\n",
       "      <td>0.119617</td>\n",
       "      <td>-0.056359</td>\n",
       "    </tr>\n",
       "    <tr>\n",
       "      <th>arrival_date_week_number</th>\n",
       "      <td>0.034029</td>\n",
       "      <td>0.032295</td>\n",
       "      <td>0.005638</td>\n",
       "      <td>-0.007255</td>\n",
       "    </tr>\n",
       "    <tr>\n",
       "      <th>arrival_date_day_of_month</th>\n",
       "      <td>-0.002017</td>\n",
       "      <td>0.003705</td>\n",
       "      <td>0.006034</td>\n",
       "      <td>0.018558</td>\n",
       "    </tr>\n",
       "    <tr>\n",
       "      <th>stays_in_weekend_nights</th>\n",
       "      <td>1.000000</td>\n",
       "      <td>0.197410</td>\n",
       "      <td>0.116679</td>\n",
       "      <td>0.026224</td>\n",
       "    </tr>\n",
       "    <tr>\n",
       "      <th>stays_in_week_nights</th>\n",
       "      <td>0.197410</td>\n",
       "      <td>1.000000</td>\n",
       "      <td>0.119901</td>\n",
       "      <td>0.023590</td>\n",
       "    </tr>\n",
       "    <tr>\n",
       "      <th>adults</th>\n",
       "      <td>0.116679</td>\n",
       "      <td>0.119901</td>\n",
       "      <td>1.000000</td>\n",
       "      <td>-0.003216</td>\n",
       "    </tr>\n",
       "    <tr>\n",
       "      <th>children</th>\n",
       "      <td>0.026224</td>\n",
       "      <td>0.023590</td>\n",
       "      <td>-0.003216</td>\n",
       "      <td>1.000000</td>\n",
       "    </tr>\n",
       "    <tr>\n",
       "      <th>babies</th>\n",
       "      <td>0.018822</td>\n",
       "      <td>0.018428</td>\n",
       "      <td>0.019756</td>\n",
       "      <td>0.018410</td>\n",
       "    </tr>\n",
       "    <tr>\n",
       "      <th>is_repeated_guest</th>\n",
       "      <td>-0.081943</td>\n",
       "      <td>-0.094617</td>\n",
       "      <td>-0.157053</td>\n",
       "      <td>-0.026707</td>\n",
       "    </tr>\n",
       "    <tr>\n",
       "      <th>previous_cancellations</th>\n",
       "      <td>-0.008727</td>\n",
       "      <td>-0.006098</td>\n",
       "      <td>0.003083</td>\n",
       "      <td>-0.027357</td>\n",
       "    </tr>\n",
       "    <tr>\n",
       "      <th>previous_bookings_not_canceled</th>\n",
       "      <td>-0.025560</td>\n",
       "      <td>-0.049188</td>\n",
       "      <td>-0.115353</td>\n",
       "      <td>-0.015807</td>\n",
       "    </tr>\n",
       "    <tr>\n",
       "      <th>booking_changes</th>\n",
       "      <td>0.023118</td>\n",
       "      <td>0.061721</td>\n",
       "      <td>-0.056396</td>\n",
       "      <td>0.053835</td>\n",
       "    </tr>\n",
       "    <tr>\n",
       "      <th>days_in_waiting_list</th>\n",
       "      <td>-0.065167</td>\n",
       "      <td>0.036037</td>\n",
       "      <td>-0.013475</td>\n",
       "      <td>-0.038615</td>\n",
       "    </tr>\n",
       "    <tr>\n",
       "      <th>required_car_parking_spaces</th>\n",
       "      <td>-0.015870</td>\n",
       "      <td>-0.026988</td>\n",
       "      <td>0.013321</td>\n",
       "      <td>0.047881</td>\n",
       "    </tr>\n",
       "    <tr>\n",
       "      <th>total_of_special_requests</th>\n",
       "      <td>0.083682</td>\n",
       "      <td>0.090359</td>\n",
       "      <td>0.171793</td>\n",
       "      <td>0.112699</td>\n",
       "    </tr>\n",
       "    <tr>\n",
       "      <th>total_nights</th>\n",
       "      <td>0.644935</td>\n",
       "      <td>0.876515</td>\n",
       "      <td>0.150766</td>\n",
       "      <td>0.031268</td>\n",
       "    </tr>\n",
       "  </tbody>\n",
       "</table>\n",
       "</div>"
      ],
      "text/plain": [
       "                                stays_in_weekend_nights  stays_in_week_nights  \\\n",
       "is_canceled                                   -0.013767              0.010650   \n",
       "lead_time                                      0.047003              0.172646   \n",
       "arrival_date_week_number                       0.034029              0.032295   \n",
       "arrival_date_day_of_month                     -0.002017              0.003705   \n",
       "stays_in_weekend_nights                        1.000000              0.197410   \n",
       "stays_in_week_nights                           0.197410              1.000000   \n",
       "adults                                         0.116679              0.119901   \n",
       "children                                       0.026224              0.023590   \n",
       "babies                                         0.018822              0.018428   \n",
       "is_repeated_guest                             -0.081943             -0.094617   \n",
       "previous_cancellations                        -0.008727             -0.006098   \n",
       "previous_bookings_not_canceled                -0.025560             -0.049188   \n",
       "booking_changes                                0.023118              0.061721   \n",
       "days_in_waiting_list                          -0.065167              0.036037   \n",
       "required_car_parking_spaces                   -0.015870             -0.026988   \n",
       "total_of_special_requests                      0.083682              0.090359   \n",
       "total_nights                                   0.644935              0.876515   \n",
       "\n",
       "                                  adults  children  \n",
       "is_canceled                     0.045153 -0.017746  \n",
       "lead_time                       0.119617 -0.056359  \n",
       "arrival_date_week_number        0.005638 -0.007255  \n",
       "arrival_date_day_of_month       0.006034  0.018558  \n",
       "stays_in_weekend_nights         0.116679  0.026224  \n",
       "stays_in_week_nights            0.119901  0.023590  \n",
       "adults                          1.000000 -0.003216  \n",
       "children                       -0.003216  1.000000  \n",
       "babies                          0.019756  0.018410  \n",
       "is_repeated_guest              -0.157053 -0.026707  \n",
       "previous_cancellations          0.003083 -0.027357  \n",
       "previous_bookings_not_canceled -0.115353 -0.015807  \n",
       "booking_changes                -0.056396  0.053835  \n",
       "days_in_waiting_list           -0.013475 -0.038615  \n",
       "required_car_parking_spaces     0.013321  0.047881  \n",
       "total_of_special_requests       0.171793  0.112699  \n",
       "total_nights                    0.150766  0.031268  "
      ]
     },
     "execution_count": 69,
     "metadata": {},
     "output_type": "execute_result"
    }
   ],
   "source": [
    "corr_matrix.loc[:, ['stays_in_weekend_nights', 'stays_in_week_nights', 'adults', 'children']]"
   ]
  },
  {
   "cell_type": "markdown",
   "metadata": {},
   "source": [
    "`stays_in_weekend_nights` (количество ночей в выходные дни):\n",
    "\n",
    "* Обнаружена прямая линейная сильная зависимость (0,645) от общего кол-ва ночей.\n",
    "\n",
    "`stays_in_week_nights` (количество ночей в будние дни):\n",
    "\n",
    "* Обнаружена прямая линейная сильная зависимость (0,877) от общего кол-ва ночей."
   ]
  },
  {
   "cell_type": "code",
   "execution_count": 70,
   "metadata": {},
   "outputs": [
    {
     "data": {
      "text/html": [
       "<div>\n",
       "<style scoped>\n",
       "    .dataframe tbody tr th:only-of-type {\n",
       "        vertical-align: middle;\n",
       "    }\n",
       "\n",
       "    .dataframe tbody tr th {\n",
       "        vertical-align: top;\n",
       "    }\n",
       "\n",
       "    .dataframe thead th {\n",
       "        text-align: right;\n",
       "    }\n",
       "</style>\n",
       "<table border=\"1\" class=\"dataframe\">\n",
       "  <thead>\n",
       "    <tr style=\"text-align: right;\">\n",
       "      <th></th>\n",
       "      <th>babies</th>\n",
       "      <th>is_repeated_guest</th>\n",
       "      <th>previous_cancellations</th>\n",
       "      <th>previous_bookings_not_canceled</th>\n",
       "    </tr>\n",
       "  </thead>\n",
       "  <tbody>\n",
       "    <tr>\n",
       "      <th>is_canceled</th>\n",
       "      <td>-0.029589</td>\n",
       "      <td>-0.040242</td>\n",
       "      <td>0.153023</td>\n",
       "      <td>-0.045557</td>\n",
       "    </tr>\n",
       "    <tr>\n",
       "      <th>lead_time</th>\n",
       "      <td>-0.024649</td>\n",
       "      <td>-0.089424</td>\n",
       "      <td>0.142454</td>\n",
       "      <td>-0.061690</td>\n",
       "    </tr>\n",
       "    <tr>\n",
       "      <th>arrival_date_week_number</th>\n",
       "      <td>0.003938</td>\n",
       "      <td>-0.013471</td>\n",
       "      <td>0.006870</td>\n",
       "      <td>-0.011915</td>\n",
       "    </tr>\n",
       "    <tr>\n",
       "      <th>arrival_date_day_of_month</th>\n",
       "      <td>-0.000482</td>\n",
       "      <td>-0.010605</td>\n",
       "      <td>-0.032019</td>\n",
       "      <td>-0.000973</td>\n",
       "    </tr>\n",
       "    <tr>\n",
       "      <th>stays_in_weekend_nights</th>\n",
       "      <td>0.018822</td>\n",
       "      <td>-0.081943</td>\n",
       "      <td>-0.008727</td>\n",
       "      <td>-0.025560</td>\n",
       "    </tr>\n",
       "    <tr>\n",
       "      <th>stays_in_week_nights</th>\n",
       "      <td>0.018428</td>\n",
       "      <td>-0.094617</td>\n",
       "      <td>-0.006098</td>\n",
       "      <td>-0.049188</td>\n",
       "    </tr>\n",
       "    <tr>\n",
       "      <th>adults</th>\n",
       "      <td>0.019756</td>\n",
       "      <td>-0.157053</td>\n",
       "      <td>0.003083</td>\n",
       "      <td>-0.115353</td>\n",
       "    </tr>\n",
       "    <tr>\n",
       "      <th>children</th>\n",
       "      <td>0.018410</td>\n",
       "      <td>-0.026707</td>\n",
       "      <td>-0.027357</td>\n",
       "      <td>-0.015807</td>\n",
       "    </tr>\n",
       "    <tr>\n",
       "      <th>babies</th>\n",
       "      <td>1.000000</td>\n",
       "      <td>-0.011282</td>\n",
       "      <td>-0.008657</td>\n",
       "      <td>-0.005947</td>\n",
       "    </tr>\n",
       "    <tr>\n",
       "      <th>is_repeated_guest</th>\n",
       "      <td>-0.011282</td>\n",
       "      <td>1.000000</td>\n",
       "      <td>0.097786</td>\n",
       "      <td>0.413136</td>\n",
       "    </tr>\n",
       "    <tr>\n",
       "      <th>previous_cancellations</th>\n",
       "      <td>-0.008657</td>\n",
       "      <td>0.097786</td>\n",
       "      <td>1.000000</td>\n",
       "      <td>0.144532</td>\n",
       "    </tr>\n",
       "    <tr>\n",
       "      <th>previous_bookings_not_canceled</th>\n",
       "      <td>-0.005947</td>\n",
       "      <td>0.413136</td>\n",
       "      <td>0.144532</td>\n",
       "      <td>1.000000</td>\n",
       "    </tr>\n",
       "    <tr>\n",
       "      <th>booking_changes</th>\n",
       "      <td>0.076910</td>\n",
       "      <td>0.008570</td>\n",
       "      <td>-0.035078</td>\n",
       "      <td>0.016932</td>\n",
       "    </tr>\n",
       "    <tr>\n",
       "      <th>days_in_waiting_list</th>\n",
       "      <td>-0.013391</td>\n",
       "      <td>-0.028772</td>\n",
       "      <td>0.004318</td>\n",
       "      <td>-0.010067</td>\n",
       "    </tr>\n",
       "    <tr>\n",
       "      <th>required_car_parking_spaces</th>\n",
       "      <td>0.030264</td>\n",
       "      <td>0.061240</td>\n",
       "      <td>-0.025752</td>\n",
       "      <td>0.039683</td>\n",
       "    </tr>\n",
       "    <tr>\n",
       "      <th>total_of_special_requests</th>\n",
       "      <td>0.098973</td>\n",
       "      <td>-0.027463</td>\n",
       "      <td>-0.067587</td>\n",
       "      <td>0.006178</td>\n",
       "    </tr>\n",
       "    <tr>\n",
       "      <th>total_nights</th>\n",
       "      <td>0.023608</td>\n",
       "      <td>-0.113998</td>\n",
       "      <td>-0.009039</td>\n",
       "      <td>-0.050897</td>\n",
       "    </tr>\n",
       "  </tbody>\n",
       "</table>\n",
       "</div>"
      ],
      "text/plain": [
       "                                  babies  is_repeated_guest  \\\n",
       "is_canceled                    -0.029589          -0.040242   \n",
       "lead_time                      -0.024649          -0.089424   \n",
       "arrival_date_week_number        0.003938          -0.013471   \n",
       "arrival_date_day_of_month      -0.000482          -0.010605   \n",
       "stays_in_weekend_nights         0.018822          -0.081943   \n",
       "stays_in_week_nights            0.018428          -0.094617   \n",
       "adults                          0.019756          -0.157053   \n",
       "children                        0.018410          -0.026707   \n",
       "babies                          1.000000          -0.011282   \n",
       "is_repeated_guest              -0.011282           1.000000   \n",
       "previous_cancellations         -0.008657           0.097786   \n",
       "previous_bookings_not_canceled -0.005947           0.413136   \n",
       "booking_changes                 0.076910           0.008570   \n",
       "days_in_waiting_list           -0.013391          -0.028772   \n",
       "required_car_parking_spaces     0.030264           0.061240   \n",
       "total_of_special_requests       0.098973          -0.027463   \n",
       "total_nights                    0.023608          -0.113998   \n",
       "\n",
       "                                previous_cancellations  \\\n",
       "is_canceled                                   0.153023   \n",
       "lead_time                                     0.142454   \n",
       "arrival_date_week_number                      0.006870   \n",
       "arrival_date_day_of_month                    -0.032019   \n",
       "stays_in_weekend_nights                      -0.008727   \n",
       "stays_in_week_nights                         -0.006098   \n",
       "adults                                        0.003083   \n",
       "children                                     -0.027357   \n",
       "babies                                       -0.008657   \n",
       "is_repeated_guest                             0.097786   \n",
       "previous_cancellations                        1.000000   \n",
       "previous_bookings_not_canceled                0.144532   \n",
       "booking_changes                              -0.035078   \n",
       "days_in_waiting_list                          0.004318   \n",
       "required_car_parking_spaces                  -0.025752   \n",
       "total_of_special_requests                    -0.067587   \n",
       "total_nights                                 -0.009039   \n",
       "\n",
       "                                previous_bookings_not_canceled  \n",
       "is_canceled                                          -0.045557  \n",
       "lead_time                                            -0.061690  \n",
       "arrival_date_week_number                             -0.011915  \n",
       "arrival_date_day_of_month                            -0.000973  \n",
       "stays_in_weekend_nights                              -0.025560  \n",
       "stays_in_week_nights                                 -0.049188  \n",
       "adults                                               -0.115353  \n",
       "children                                             -0.015807  \n",
       "babies                                               -0.005947  \n",
       "is_repeated_guest                                     0.413136  \n",
       "previous_cancellations                                0.144532  \n",
       "previous_bookings_not_canceled                        1.000000  \n",
       "booking_changes                                       0.016932  \n",
       "days_in_waiting_list                                 -0.010067  \n",
       "required_car_parking_spaces                           0.039683  \n",
       "total_of_special_requests                             0.006178  \n",
       "total_nights                                         -0.050897  "
      ]
     },
     "execution_count": 70,
     "metadata": {},
     "output_type": "execute_result"
    }
   ],
   "source": [
    "corr_matrix.loc[:, ['babies', 'is_repeated_guest', 'previous_cancellations', 'previous_bookings_not_canceled']]"
   ]
  },
  {
   "cell_type": "markdown",
   "metadata": {},
   "source": [
    "`is_repeated_guest` (признак того, что гость бронирует номер второй раз):\n",
    "\n",
    "* Обнаружена прямая линейная средняя зависимость (0,413) от количества подтверждённых заказов у клиента."
   ]
  },
  {
   "cell_type": "code",
   "execution_count": 71,
   "metadata": {},
   "outputs": [
    {
     "data": {
      "text/html": [
       "<div>\n",
       "<style scoped>\n",
       "    .dataframe tbody tr th:only-of-type {\n",
       "        vertical-align: middle;\n",
       "    }\n",
       "\n",
       "    .dataframe tbody tr th {\n",
       "        vertical-align: top;\n",
       "    }\n",
       "\n",
       "    .dataframe thead th {\n",
       "        text-align: right;\n",
       "    }\n",
       "</style>\n",
       "<table border=\"1\" class=\"dataframe\">\n",
       "  <thead>\n",
       "    <tr style=\"text-align: right;\">\n",
       "      <th></th>\n",
       "      <th>booking_changes</th>\n",
       "      <th>days_in_waiting_list</th>\n",
       "      <th>required_car_parking_spaces</th>\n",
       "      <th>total_of_special_requests</th>\n",
       "      <th>total_nights</th>\n",
       "    </tr>\n",
       "  </thead>\n",
       "  <tbody>\n",
       "    <tr>\n",
       "      <th>is_canceled</th>\n",
       "      <td>-0.142935</td>\n",
       "      <td>0.075848</td>\n",
       "      <td>-0.186486</td>\n",
       "      <td>-0.257061</td>\n",
       "      <td>0.001542</td>\n",
       "    </tr>\n",
       "    <tr>\n",
       "      <th>lead_time</th>\n",
       "      <td>-0.007191</td>\n",
       "      <td>0.209741</td>\n",
       "      <td>-0.116867</td>\n",
       "      <td>-0.147738</td>\n",
       "      <td>0.157671</td>\n",
       "    </tr>\n",
       "    <tr>\n",
       "      <th>arrival_date_week_number</th>\n",
       "      <td>0.011799</td>\n",
       "      <td>-0.052976</td>\n",
       "      <td>-0.007533</td>\n",
       "      <td>0.076650</td>\n",
       "      <td>0.041886</td>\n",
       "    </tr>\n",
       "    <tr>\n",
       "      <th>arrival_date_day_of_month</th>\n",
       "      <td>0.022560</td>\n",
       "      <td>0.017070</td>\n",
       "      <td>0.003816</td>\n",
       "      <td>0.005875</td>\n",
       "      <td>0.001898</td>\n",
       "    </tr>\n",
       "    <tr>\n",
       "      <th>stays_in_weekend_nights</th>\n",
       "      <td>0.023118</td>\n",
       "      <td>-0.065167</td>\n",
       "      <td>-0.015870</td>\n",
       "      <td>0.083682</td>\n",
       "      <td>0.644935</td>\n",
       "    </tr>\n",
       "    <tr>\n",
       "      <th>stays_in_week_nights</th>\n",
       "      <td>0.061721</td>\n",
       "      <td>0.036037</td>\n",
       "      <td>-0.026988</td>\n",
       "      <td>0.090359</td>\n",
       "      <td>0.876515</td>\n",
       "    </tr>\n",
       "    <tr>\n",
       "      <th>adults</th>\n",
       "      <td>-0.056396</td>\n",
       "      <td>-0.013475</td>\n",
       "      <td>0.013321</td>\n",
       "      <td>0.171793</td>\n",
       "      <td>0.150766</td>\n",
       "    </tr>\n",
       "    <tr>\n",
       "      <th>children</th>\n",
       "      <td>0.053835</td>\n",
       "      <td>-0.038615</td>\n",
       "      <td>0.047881</td>\n",
       "      <td>0.112699</td>\n",
       "      <td>0.031268</td>\n",
       "    </tr>\n",
       "    <tr>\n",
       "      <th>babies</th>\n",
       "      <td>0.076910</td>\n",
       "      <td>-0.013391</td>\n",
       "      <td>0.030264</td>\n",
       "      <td>0.098973</td>\n",
       "      <td>0.023608</td>\n",
       "    </tr>\n",
       "    <tr>\n",
       "      <th>is_repeated_guest</th>\n",
       "      <td>0.008570</td>\n",
       "      <td>-0.028772</td>\n",
       "      <td>0.061240</td>\n",
       "      <td>-0.027463</td>\n",
       "      <td>-0.113998</td>\n",
       "    </tr>\n",
       "    <tr>\n",
       "      <th>previous_cancellations</th>\n",
       "      <td>-0.035078</td>\n",
       "      <td>0.004318</td>\n",
       "      <td>-0.025752</td>\n",
       "      <td>-0.067587</td>\n",
       "      <td>-0.009039</td>\n",
       "    </tr>\n",
       "    <tr>\n",
       "      <th>previous_bookings_not_canceled</th>\n",
       "      <td>0.016932</td>\n",
       "      <td>-0.010067</td>\n",
       "      <td>0.039683</td>\n",
       "      <td>0.006178</td>\n",
       "      <td>-0.050897</td>\n",
       "    </tr>\n",
       "    <tr>\n",
       "      <th>booking_changes</th>\n",
       "      <td>1.000000</td>\n",
       "      <td>-0.011225</td>\n",
       "      <td>0.059084</td>\n",
       "      <td>0.043884</td>\n",
       "      <td>0.059468</td>\n",
       "    </tr>\n",
       "    <tr>\n",
       "      <th>days_in_waiting_list</th>\n",
       "      <td>-0.011225</td>\n",
       "      <td>1.000000</td>\n",
       "      <td>-0.044083</td>\n",
       "      <td>-0.106080</td>\n",
       "      <td>-0.003906</td>\n",
       "    </tr>\n",
       "    <tr>\n",
       "      <th>required_car_parking_spaces</th>\n",
       "      <td>0.059084</td>\n",
       "      <td>-0.044083</td>\n",
       "      <td>1.000000</td>\n",
       "      <td>0.087009</td>\n",
       "      <td>-0.028832</td>\n",
       "    </tr>\n",
       "    <tr>\n",
       "      <th>total_of_special_requests</th>\n",
       "      <td>0.043884</td>\n",
       "      <td>-0.106080</td>\n",
       "      <td>0.087009</td>\n",
       "      <td>1.000000</td>\n",
       "      <td>0.111533</td>\n",
       "    </tr>\n",
       "    <tr>\n",
       "      <th>total_nights</th>\n",
       "      <td>0.059468</td>\n",
       "      <td>-0.003906</td>\n",
       "      <td>-0.028832</td>\n",
       "      <td>0.111533</td>\n",
       "      <td>1.000000</td>\n",
       "    </tr>\n",
       "  </tbody>\n",
       "</table>\n",
       "</div>"
      ],
      "text/plain": [
       "                                booking_changes  days_in_waiting_list  \\\n",
       "is_canceled                           -0.142935              0.075848   \n",
       "lead_time                             -0.007191              0.209741   \n",
       "arrival_date_week_number               0.011799             -0.052976   \n",
       "arrival_date_day_of_month              0.022560              0.017070   \n",
       "stays_in_weekend_nights                0.023118             -0.065167   \n",
       "stays_in_week_nights                   0.061721              0.036037   \n",
       "adults                                -0.056396             -0.013475   \n",
       "children                               0.053835             -0.038615   \n",
       "babies                                 0.076910             -0.013391   \n",
       "is_repeated_guest                      0.008570             -0.028772   \n",
       "previous_cancellations                -0.035078              0.004318   \n",
       "previous_bookings_not_canceled         0.016932             -0.010067   \n",
       "booking_changes                        1.000000             -0.011225   \n",
       "days_in_waiting_list                  -0.011225              1.000000   \n",
       "required_car_parking_spaces            0.059084             -0.044083   \n",
       "total_of_special_requests              0.043884             -0.106080   \n",
       "total_nights                           0.059468             -0.003906   \n",
       "\n",
       "                                required_car_parking_spaces  \\\n",
       "is_canceled                                       -0.186486   \n",
       "lead_time                                         -0.116867   \n",
       "arrival_date_week_number                          -0.007533   \n",
       "arrival_date_day_of_month                          0.003816   \n",
       "stays_in_weekend_nights                           -0.015870   \n",
       "stays_in_week_nights                              -0.026988   \n",
       "adults                                             0.013321   \n",
       "children                                           0.047881   \n",
       "babies                                             0.030264   \n",
       "is_repeated_guest                                  0.061240   \n",
       "previous_cancellations                            -0.025752   \n",
       "previous_bookings_not_canceled                     0.039683   \n",
       "booking_changes                                    0.059084   \n",
       "days_in_waiting_list                              -0.044083   \n",
       "required_car_parking_spaces                        1.000000   \n",
       "total_of_special_requests                          0.087009   \n",
       "total_nights                                      -0.028832   \n",
       "\n",
       "                                total_of_special_requests  total_nights  \n",
       "is_canceled                                     -0.257061      0.001542  \n",
       "lead_time                                       -0.147738      0.157671  \n",
       "arrival_date_week_number                         0.076650      0.041886  \n",
       "arrival_date_day_of_month                        0.005875      0.001898  \n",
       "stays_in_weekend_nights                          0.083682      0.644935  \n",
       "stays_in_week_nights                             0.090359      0.876515  \n",
       "adults                                           0.171793      0.150766  \n",
       "children                                         0.112699      0.031268  \n",
       "babies                                           0.098973      0.023608  \n",
       "is_repeated_guest                               -0.027463     -0.113998  \n",
       "previous_cancellations                          -0.067587     -0.009039  \n",
       "previous_bookings_not_canceled                   0.006178     -0.050897  \n",
       "booking_changes                                  0.043884      0.059468  \n",
       "days_in_waiting_list                            -0.106080     -0.003906  \n",
       "required_car_parking_spaces                      0.087009     -0.028832  \n",
       "total_of_special_requests                        1.000000      0.111533  \n",
       "total_nights                                     0.111533      1.000000  "
      ]
     },
     "execution_count": 71,
     "metadata": {},
     "output_type": "execute_result"
    }
   ],
   "source": [
    "corr_matrix.loc[:, ['booking_changes', 'days_in_waiting_list', 'required_car_parking_spaces',\n",
    "                    'total_of_special_requests', 'total_nights']]"
   ]
  },
  {
   "cell_type": "markdown",
   "metadata": {},
   "source": [
    "***Вывод***\n",
    "* Данные предобработаны, можно переходить к оценки прибыли отеля без внедрения депозитов\n",
    "\n",
    "Обнаружены следующие линейные зависимости:\n",
    "\n",
    "`is_canceled` (отмена бронирования):\n",
    "\n",
    "* Прямая линейная слабая зависимость (0,328) от кол-ва дней от момента бронирования до момента прибытия;\n",
    "* Обратная линейная слабая зависимость (-0,257) от кол-ва специальных отметок.\n",
    "\n",
    "`lead_time` (количество дней между датой бронирования и датой прибытия):\n",
    "\n",
    "* Прямая линейная слабая зависимость (0,210) от того сколько дней заказ ожидал подтверждения.\n",
    "\n",
    "`stays_in_weekend_nights` (количество ночей в выходные дни):\n",
    "\n",
    "* Прямая линейная сильная зависимость (0,645) от общего кол-ва ночей.\n",
    "\n",
    "`stays_in_week_nights` (количество ночей в будние дни):\n",
    "\n",
    "* Прямая линейная сильная зависимость (0,877) от общего кол-ва ночей.\n",
    "\n",
    "`is_repeated_guest` (признак того, что гость бронирует номер второй раз):\n",
    "\n",
    "* Прямая линейная средняя зависимость (0,413) от количества подтверждённых заказов у клиента."
   ]
  },
  {
   "cell_type": "markdown",
   "metadata": {},
   "source": [
    "## Оценка прибыли отеля без внедрения депозитов"
   ]
  },
  {
   "cell_type": "markdown",
   "metadata": {},
   "source": [
    "Создадим отдельные таблицы, со столбцами необходимыми для подсчёта прибыли отеля. Для удобства вычислений"
   ]
  },
  {
   "cell_type": "code",
   "execution_count": 72,
   "metadata": {},
   "outputs": [],
   "source": [
    "profit_train = (hotel_train[['arrival_date_year', 'arrival_date_month', 'total_nights', 'is_canceled',\n",
    "                             'reserved_room_type']].copy())\n",
    "profit_test = (hotel_test[['arrival_date_year', 'arrival_date_month', 'total_nights', 'is_canceled',\n",
    "                             'reserved_room_type']].copy())"
   ]
  },
  {
   "cell_type": "markdown",
   "metadata": {},
   "source": [
    "Создадим константу со стоимостью номера и затрат на обслуживание, в зависимости от категории номера, константу с повышающим коэфициентом в зависимости от месяца и константу со стоимостью разработки системы прогнозирования. "
   ]
  },
  {
   "cell_type": "code",
   "execution_count": 73,
   "metadata": {},
   "outputs": [],
   "source": [
    "ROOM_TYPE = ({'A': [1000, 400], 'B': [800, 350], 'C': [600, 350], 'D': [550, 150], 'E': [500, 150],\n",
    "              'F': [450, 150], 'G': [350, 150]})\n",
    "MONTHS = ({'January': 1, 'February': 1, 'March': 1.2, 'April': 1.2, 'May': 1.2, 'June': 1.4, 'July': 1.4,\n",
    "           'August': 1.4, 'September': 1.2, 'October': 1.2, 'November': 1.2, 'December': 1})\n",
    "PRICE_MODEL = 0.4"
   ]
  },
  {
   "cell_type": "markdown",
   "metadata": {},
   "source": [
    "Напишем функцию подсчитывающию прибыль."
   ]
  },
  {
   "cell_type": "code",
   "execution_count": 74,
   "metadata": {},
   "outputs": [],
   "source": [
    "def profit (df):\n",
    "    if df['is_canceled'] == 1:\n",
    "        return int(-ROOM_TYPE[df['reserved_room_type']][0] * MONTHS[df['arrival_date_month']])\n",
    "    \n",
    "    return int(df['total_nights'] * ROOM_TYPE[df['reserved_room_type']][0] * MONTHS[df['arrival_date_month']] -\n",
    "     (1 + int(df['total_nights'] / 2)) * ROOM_TYPE[df['reserved_room_type']][1])"
   ]
  },
  {
   "cell_type": "markdown",
   "metadata": {},
   "source": [
    "Вызовем функцию profit для подсчёта, прибыль в таблицах `profit_train` и `profit_test`"
   ]
  },
  {
   "cell_type": "code",
   "execution_count": 75,
   "metadata": {},
   "outputs": [],
   "source": [
    "profit_train['profit'] = profit_train.apply(profit, 1)\n",
    "profit_test['profit'] = profit_test.apply(profit, 1)"
   ]
  },
  {
   "cell_type": "markdown",
   "metadata": {},
   "source": [
    "Найдем прибыль за 2016 год, только за этот год у нас есть полные данные. Прибыль округлим до миллионов, для наглядности."
   ]
  },
  {
   "cell_type": "code",
   "execution_count": 76,
   "metadata": {},
   "outputs": [
    {
     "name": "stdout",
     "output_type": "stream",
     "text": [
      "Прибыль за 2016 г.: 54.54 млн. руб.\n"
     ]
    }
   ],
   "source": [
    "profit_2016 = profit_train.query('arrival_date_year == 2016')['profit'].sum() / 1000000\n",
    "print(f'Прибыль за 2016 г.: {profit_2016:.2f} млн. руб.')"
   ]
  },
  {
   "cell_type": "markdown",
   "metadata": {},
   "source": [
    "Найдем прибыль за неполный 2017 г. из тестовый выборки, для сравнения с прибылью после внедрения модели"
   ]
  },
  {
   "cell_type": "code",
   "execution_count": 77,
   "metadata": {},
   "outputs": [
    {
     "name": "stdout",
     "output_type": "stream",
     "text": [
      "Прибыль за 2017 г.: 36.87 млн. руб.\n"
     ]
    }
   ],
   "source": [
    "profit_2017 = profit_test.query('arrival_date_year == 2017')['profit'].sum() / 1000000\n",
    "print(f'Прибыль за 2017 г.: {profit_2017:.2f} млн. руб.')"
   ]
  },
  {
   "cell_type": "markdown",
   "metadata": {},
   "source": [
    "Наёдем среднюю прибыль по годам"
   ]
  },
  {
   "cell_type": "code",
   "execution_count": 78,
   "metadata": {},
   "outputs": [
    {
     "data": {
      "text/plain": [
       "arrival_date_year\n",
       "2015    1102.642623\n",
       "2016    1162.848212\n",
       "Name: profit, dtype: float64"
      ]
     },
     "execution_count": 78,
     "metadata": {},
     "output_type": "execute_result"
    }
   ],
   "source": [
    "profit_train.groupby('arrival_date_year')['profit'].mean()"
   ]
  },
  {
   "cell_type": "code",
   "execution_count": 79,
   "metadata": {},
   "outputs": [],
   "source": [
    "profit_avg_2017 =profit_test['profit'].mean()"
   ]
  },
  {
   "cell_type": "markdown",
   "metadata": {},
   "source": [
    "Найдём среднюю прибыль за всё время"
   ]
  },
  {
   "cell_type": "code",
   "execution_count": 80,
   "metadata": {},
   "outputs": [
    {
     "name": "stdout",
     "output_type": "stream",
     "text": [
      "Средняя прибыль с одной записи: 1143.14 руб.\n"
     ]
    }
   ],
   "source": [
    "average_profit = ((profit_train['profit'].sum() + profit_test['profit'].sum()) /\n",
    "                  (profit_train['profit'].count() + profit_test['profit'].count()))\n",
    "print(f'Средняя прибыль с одной записи: {average_profit:.2f} руб.')"
   ]
  },
  {
   "cell_type": "markdown",
   "metadata": {},
   "source": [
    "***Вывод***\n",
    "\n",
    "* Прибыль за 2016 г.: 54.54 млн. руб.;\n",
    "* Прибыль за неполный 2017 г.: 36.87 млн. руб.;\n",
    "* Средняя прибыль с одной записи: 1143.14  руб.;\n",
    "* Средняя прибыль с одной записи по годам:\n",
    "    * 2015 г. - 1102.64 руб.;\n",
    "    * 2016 г. - 1162.85 руб.;\n",
    "    * 2017 г. - 1137.53 руб."
   ]
  },
  {
   "cell_type": "markdown",
   "metadata": {},
   "source": [
    "## Разработка модели ML"
   ]
  },
  {
   "cell_type": "markdown",
   "metadata": {},
   "source": [
    "* Перемешаем тренирочную выборку, чтобы похожие записи не шли друг за другом, для лучшей обучаемости моделей;\n",
    "* Извелекём из выборок признаки и целевой признак. Разобьём признаки на числовые и строковые;\n",
    "* Удалим столбец с годом, так как он не влияет на отказ от брони и не пригодиться в обучение модели."
   ]
  },
  {
   "cell_type": "code",
   "execution_count": 81,
   "metadata": {},
   "outputs": [],
   "source": [
    "hotel_train = hotel_train.sample(frac=1, random_state=12345)\n",
    "\n",
    "hotel_train_features_number = hotel_train.drop(['is_canceled', 'arrival_date_year', 'country', 'arrival_date_month',\n",
    "                                                'meal', 'distribution_channel', 'reserved_room_type', 'customer_type'], axis=1)\n",
    "hotel_test_features_number = hotel_test.drop(['is_canceled', 'arrival_date_year', 'country', 'arrival_date_month',\n",
    "                                                'meal', 'distribution_channel', 'reserved_room_type', 'customer_type'], axis=1)\n",
    "\n",
    "hotel_train_features_str = hotel_train[['country', 'arrival_date_month', 'meal', 'distribution_channel', 'reserved_room_type',\n",
    "                                        'customer_type']]\n",
    "hotel_test_features_str = hotel_test[['country', 'arrival_date_month', 'meal', 'distribution_channel', 'reserved_room_type',\n",
    "                                        'customer_type']]\n",
    "\n",
    "hotel_train_target = hotel_train['is_canceled']\n",
    "hotel_test_target = hotel_test['is_canceled']"
   ]
  },
  {
   "cell_type": "markdown",
   "metadata": {},
   "source": [
    "Создадим пустой датафрейм для записи результатов модели"
   ]
  },
  {
   "cell_type": "code",
   "execution_count": 82,
   "metadata": {},
   "outputs": [],
   "source": [
    "table_estimation = pd.DataFrame(columns=['Name', 'F1', 'AUC-ROC', 'Score', 'Profit, m. rub',\n",
    "         'Profit_avg, rub', 'Profit_growth'])"
   ]
  },
  {
   "cell_type": "markdown",
   "metadata": {},
   "source": [
    "### Прямое Кодирование"
   ]
  },
  {
   "cell_type": "code",
   "execution_count": 83,
   "metadata": {},
   "outputs": [],
   "source": [
    "encoder = OneHotEncoder(sparse=False, handle_unknown='ignore')\n",
    "encoder.fit(hotel_train_features_str)\n",
    "hotel_train_features_str = pd.DataFrame(encoder.transform(hotel_train_features_str))\n",
    "hotel_test_features_str = pd.DataFrame(encoder.transform(hotel_test_features_str))"
   ]
  },
  {
   "cell_type": "markdown",
   "metadata": {},
   "source": [
    "### Масштабирование признаков"
   ]
  },
  {
   "cell_type": "code",
   "execution_count": 84,
   "metadata": {},
   "outputs": [],
   "source": [
    "scaler = StandardScaler()\n",
    "scaler.fit(hotel_train_features_number) \n",
    "hotel_train_features_number = pd.DataFrame(scaler.transform(hotel_train_features_number))\n",
    "hotel_test_features_number  = pd.DataFrame(scaler.transform(hotel_test_features_number))"
   ]
  },
  {
   "cell_type": "markdown",
   "metadata": {},
   "source": [
    "### Объединение таблиц"
   ]
  },
  {
   "cell_type": "code",
   "execution_count": 85,
   "metadata": {},
   "outputs": [],
   "source": [
    "hotel_train_features = pd.concat([hotel_train_features_number, hotel_train_features_str], axis=1)\n",
    "hotel_test_features = pd.concat([hotel_test_features_number, hotel_test_features_str], axis=1)"
   ]
  },
  {
   "cell_type": "markdown",
   "metadata": {},
   "source": [
    "### Функции"
   ]
  },
  {
   "cell_type": "markdown",
   "metadata": {},
   "source": [
    "Функция для подсчёта прибыли отеля, после внедрения депозита"
   ]
  },
  {
   "cell_type": "code",
   "execution_count": 86,
   "metadata": {},
   "outputs": [],
   "source": [
    "def profit_depot (df):\n",
    "    if df['is_canceled'] == 1:\n",
    "        if df['is_canceled_model'] == 1:\n",
    "            return int(-0.2 * ROOM_TYPE[df['reserved_room_type']][0] * MONTHS[df['arrival_date_month']] + \n",
    "                       ROOM_TYPE[df['reserved_room_type']][1])\n",
    "        else:\n",
    "            return int(-ROOM_TYPE[df['reserved_room_type']][0] * MONTHS[df['arrival_date_month']])\n",
    "    \n",
    "    return int(df['total_nights'] * ROOM_TYPE[df['reserved_room_type']][0] * MONTHS[df['arrival_date_month']] -\n",
    "     (1 + int(df['total_nights'] / 2)) * ROOM_TYPE[df['reserved_room_type']][1])"
   ]
  },
  {
   "cell_type": "markdown",
   "metadata": {},
   "source": [
    "Функция для подсчёта прибыли модели"
   ]
  },
  {
   "cell_type": "code",
   "execution_count": 87,
   "metadata": {},
   "outputs": [],
   "source": [
    "def profit_model (df, profit_not_debt, profit_not_debt_avg, predicted):\n",
    "    profit = (df[['arrival_date_year', 'arrival_date_month', 'total_nights', 'is_canceled',\n",
    "                             'reserved_room_type']].copy())\n",
    "    profit['is_canceled_model'] = pd.DataFrame(predicted)\n",
    "    profit['profit'] = profit.apply(profit_depot, 1)\n",
    "    profit_dept_avg = profit['profit'].mean()\n",
    "    print(f'Средняя прибыль после внедрения модели: {profit_dept_avg:.2f}, средняя прибыль выросла на '\n",
    "          f'{(profit_dept_avg / profit_not_debt_avg - 1):.2%}')\n",
    "    profit_dept = profit['profit'].sum() / 1000000\n",
    "    profit_model = profit_dept - profit_not_debt - PRICE_MODEL\n",
    "    print(f'Прибыль от модели: {profit_model:.2f} млн. руб.')\n",
    "    "
   ]
  },
  {
   "cell_type": "markdown",
   "metadata": {},
   "source": [
    "Функция для подсчёта оценок модели и построения ROC-кривой"
   ]
  },
  {
   "cell_type": "code",
   "execution_count": 88,
   "metadata": {},
   "outputs": [],
   "source": [
    "def estimations_model(model, test_features, test_target, name):\n",
    "    global table_estimation\n",
    "    predicted_test = model.predict(test_features)\n",
    "    probabilities_one_test = model.predict_proba(test_features)[:, 1]\n",
    "    score = accuracy_score(test_target, predicted_test)\n",
    "    f1 = f1_score(test_target, predicted_test)\n",
    "    auc_roc = roc_auc_score(test_target, probabilities_one_test)\n",
    "    table_estimation = table_estimation.append({'Name':name, 'F1':f1, 'AUC-ROC':auc_roc,'Score':score}, ignore_index=True)\n",
    "    print(f'Значение F1-меры: {f1:.4f}')\n",
    "    print(f'Значение AUC-ROC: {auc_roc:.4f}')\n",
    "    print(f'Доля правильных ответов: {score:.4f}')\n",
    "    # Построим ROC-кривую\n",
    "    fpr, tpr, thresholds = roc_curve(test_target, probabilities_one_test)\n",
    "    plt.figure(figsize=(6, 6))\n",
    "    plt.plot(fpr, tpr)\n",
    "    plt.plot([0, 1], [0, 1], linestyle='--') # ROC-кривая случайной модели\n",
    "    plt.xlim([0.0, 1.0])\n",
    "    plt.ylim([0.0, 1.0])\n",
    "    plt.xlabel(\"False Positive Rate\")\n",
    "    plt.ylabel(\"True Positive Rate\")\n",
    "    plt.title(\"ROC-кривая\")\n",
    "    plt.show()"
   ]
  },
  {
   "cell_type": "markdown",
   "metadata": {},
   "source": [
    "Функция для подсчёта оценок модели, построения ROC-кривой и подсчёта прибыли модели"
   ]
  },
  {
   "cell_type": "code",
   "execution_count": 89,
   "metadata": {},
   "outputs": [],
   "source": [
    "def model_info(model, test_features, test_target, profit_not_debt, profit_not_debt_avg, name):\n",
    "    # Подсчёт оценок модели\n",
    "    predicted_test = model.predict(test_features)\n",
    "    probabilities_one_test = model.predict_proba(test_features)[:, 1]\n",
    "    score =round( accuracy_score(test_target, predicted_test), 4)\n",
    "    f1 = round(f1_score(test_target, predicted_test), 4)\n",
    "    auc_roc = round(roc_auc_score(test_target, probabilities_one_test), 4)\n",
    "    print(f'Значение F1-меры: {f1:.4f}')\n",
    "    print(f'Значение AUC-ROC: {auc_roc:.4f}')\n",
    "    print(f'Доля правильных ответов: {score:.4f}')\n",
    "    # Построим ROC-кривую\n",
    "    fpr, tpr, thresholds = roc_curve(test_target, probabilities_one_test)\n",
    "    plt.figure(figsize=(6, 6))\n",
    "    plt.plot(fpr, tpr)\n",
    "    plt.plot([0, 1], [0, 1], linestyle='--') # ROC-кривая случайной модели\n",
    "    plt.xlim([0.0, 1.0])\n",
    "    plt.ylim([0.0, 1.0])\n",
    "    plt.xlabel(\"False Positive Rate\")\n",
    "    plt.ylabel(\"True Positive Rate\")\n",
    "    plt.title(\"ROC-кривая\")\n",
    "    plt.show()\n",
    "    # Подсчёт прибыли модели\n",
    "    profit = (hotel_test[['arrival_date_year', 'arrival_date_month', 'total_nights', 'is_canceled',\n",
    "                             'reserved_room_type']].copy())\n",
    "    profit['is_canceled_model'] = pd.DataFrame(predicted_test)\n",
    "    profit['profit'] = profit.apply(profit_depot, 1)\n",
    "    profit_dept_avg = round(profit['profit'].mean(), 2)\n",
    "    profit_growth = round((profit_dept_avg / profit_not_debt_avg - 1)*100, 2).astype(str) + '%'\n",
    "    print(f'Средняя прибыль после внедрения модели: {profit_dept_avg:.2f}, средняя прибыль выросла на '\n",
    "          f'{profit_growth}')\n",
    "    profit_dept = profit['profit'].sum() / 1000000\n",
    "    profit_model = round(profit_dept - profit_not_debt - PRICE_MODEL, 2)\n",
    "    print(f'Прибыль от модели: {profit_model:.2f} млн. руб.')\n",
    "    # Добавление результатов в сводную таблицу\n",
    "    global table_estimation\n",
    "    table_estimation = table_estimation.append(\n",
    "        {'Name':name, 'F1':f1, 'AUC-ROC':auc_roc,'Score':score, 'Profit, m. rub': profit_model,\n",
    "         'Profit_avg, rub':profit_dept_avg, 'Profit_growth':profit_growth}, ignore_index=True)"
   ]
  },
  {
   "cell_type": "markdown",
   "metadata": {},
   "source": [
    "### Случайный лес"
   ]
  },
  {
   "cell_type": "code",
   "execution_count": 90,
   "metadata": {},
   "outputs": [],
   "source": [
    "forest_model = RandomForestClassifier(class_weight='balanced', random_state=12345)"
   ]
  },
  {
   "cell_type": "markdown",
   "metadata": {},
   "source": [
    "Зададим диапазон параметров, для подбора оптимальных гиперпараметров для нашей модели"
   ]
  },
  {
   "cell_type": "code",
   "execution_count": 91,
   "metadata": {},
   "outputs": [],
   "source": [
    "forest_params = {'n_estimators': range (60,101,20),\n",
    "                 'max_depth': range (8,13,2)}"
   ]
  },
  {
   "cell_type": "markdown",
   "metadata": {},
   "source": [
    "С помощью функции GridSearchCV подберём оптимальные гиперпараметры для наше нашей модели"
   ]
  },
  {
   "cell_type": "code",
   "execution_count": 92,
   "metadata": {},
   "outputs": [
    {
     "data": {
      "text/plain": [
       "GridSearchCV(cv=5,\n",
       "             estimator=RandomForestClassifier(class_weight='balanced',\n",
       "                                              random_state=12345),\n",
       "             param_grid={'max_depth': range(8, 13, 2),\n",
       "                         'n_estimators': range(60, 101, 20)},\n",
       "             scoring='f1')"
      ]
     },
     "execution_count": 92,
     "metadata": {},
     "output_type": "execute_result"
    }
   ],
   "source": [
    "grid = GridSearchCV(forest_model, forest_params, cv=5, scoring='f1')\n",
    "grid.fit(hotel_train_features, hotel_train_target)"
   ]
  },
  {
   "cell_type": "markdown",
   "metadata": {},
   "source": [
    "Выведем на экран лучшие гиперпараметры"
   ]
  },
  {
   "cell_type": "code",
   "execution_count": 93,
   "metadata": {
    "scrolled": true
   },
   "outputs": [
    {
     "data": {
      "text/plain": [
       "{'max_depth': 12, 'n_estimators': 100}"
      ]
     },
     "execution_count": 93,
     "metadata": {},
     "output_type": "execute_result"
    }
   ],
   "source": [
    "grid.best_params_"
   ]
  },
  {
   "cell_type": "markdown",
   "metadata": {},
   "source": [
    "Лучшие гиперпараметры:\n",
    "\n",
    "* Глубина леса - 12;\n",
    "* Кол-во деревьев - 100."
   ]
  },
  {
   "cell_type": "markdown",
   "metadata": {},
   "source": [
    "Выведем на экран лучший результат"
   ]
  },
  {
   "cell_type": "code",
   "execution_count": 94,
   "metadata": {},
   "outputs": [
    {
     "data": {
      "text/plain": [
       "0.782496245552687"
      ]
     },
     "execution_count": 94,
     "metadata": {},
     "output_type": "execute_result"
    }
   ],
   "source": [
    "grid.best_score_"
   ]
  },
  {
   "cell_type": "markdown",
   "metadata": {},
   "source": [
    "Проверим нашу лучшую модель на тестовыой выборке и вычислим прибыль"
   ]
  },
  {
   "cell_type": "code",
   "execution_count": 95,
   "metadata": {},
   "outputs": [
    {
     "name": "stdout",
     "output_type": "stream",
     "text": [
      "Значение F1-меры: 0.6656\n",
      "Значение AUC-ROC: 0.8439\n",
      "Доля правильных ответов: 0.7700\n"
     ]
    },
    {
     "data": {
      "image/png": "[encoded data removed]",
      "text/plain": [
       "<Figure size 432x432 with 1 Axes>"
      ]
     },
     "metadata": {
      "needs_background": "light"
     },
     "output_type": "display_data"
    },
    {
     "name": "stdout",
     "output_type": "stream",
     "text": [
      "Средняя прибыль после внедрения модели: 1425.19, средняя прибыль выросла на 25.29%\n",
      "Прибыль от модели: 8.92 млн. руб.\n"
     ]
    }
   ],
   "source": [
    "model_info(grid, hotel_test_features, hotel_test_target, profit_2017, profit_avg_2017, 'RandomForest')"
   ]
  },
  {
   "cell_type": "code",
   "execution_count": 96,
   "metadata": {},
   "outputs": [
    {
     "data": {
      "text/html": [
       "<div>\n",
       "<style scoped>\n",
       "    .dataframe tbody tr th:only-of-type {\n",
       "        vertical-align: middle;\n",
       "    }\n",
       "\n",
       "    .dataframe tbody tr th {\n",
       "        vertical-align: top;\n",
       "    }\n",
       "\n",
       "    .dataframe thead th {\n",
       "        text-align: right;\n",
       "    }\n",
       "</style>\n",
       "<table border=\"1\" class=\"dataframe\">\n",
       "  <thead>\n",
       "    <tr style=\"text-align: right;\">\n",
       "      <th></th>\n",
       "      <th>Name</th>\n",
       "      <th>F1</th>\n",
       "      <th>AUC-ROC</th>\n",
       "      <th>Score</th>\n",
       "      <th>Profit, m. rub</th>\n",
       "      <th>Profit_avg, rub</th>\n",
       "      <th>Profit_growth</th>\n",
       "    </tr>\n",
       "  </thead>\n",
       "  <tbody>\n",
       "    <tr>\n",
       "      <th>0</th>\n",
       "      <td>RandomForest</td>\n",
       "      <td>0.6656</td>\n",
       "      <td>0.8439</td>\n",
       "      <td>0.77</td>\n",
       "      <td>8.92</td>\n",
       "      <td>1425.19</td>\n",
       "      <td>25.29%</td>\n",
       "    </tr>\n",
       "  </tbody>\n",
       "</table>\n",
       "</div>"
      ],
      "text/plain": [
       "           Name      F1  AUC-ROC  Score  Profit, m. rub  Profit_avg, rub  \\\n",
       "0  RandomForest  0.6656   0.8439   0.77            8.92          1425.19   \n",
       "\n",
       "  Profit_growth  \n",
       "0        25.29%  "
      ]
     },
     "execution_count": 96,
     "metadata": {},
     "output_type": "execute_result"
    }
   ],
   "source": [
    " table_estimation"
   ]
  },
  {
   "cell_type": "markdown",
   "metadata": {},
   "source": [
    "***Вывод***\n",
    "\n",
    "* Модель окупает себя, чистая прибыль от внедрения модели 8,92 млн. руб.;\n",
    "* Средняя прибыль после внедрения модели выросла до 1425.19, рост составил - 25.29%;\n",
    "* Показатели модели на тестовой выборке:\n",
    "    * Значение F1-меры: 0.6656;\n",
    "    * Значение AUC-ROC: 0.8439;\n",
    "    * Доля правильных ответов: 0.77."
   ]
  },
  {
   "cell_type": "markdown",
   "metadata": {},
   "source": [
    "### Логистическая регрессия"
   ]
  },
  {
   "cell_type": "code",
   "execution_count": 97,
   "metadata": {},
   "outputs": [
    {
     "data": {
      "text/plain": [
       "LogisticRegressionCV(class_weight='balanced', cv=5, random_state=12345,\n",
       "                     solver='liblinear')"
      ]
     },
     "execution_count": 97,
     "metadata": {},
     "output_type": "execute_result"
    }
   ],
   "source": [
    "logit_searcher = LogisticRegressionCV(cv=5, class_weight='balanced', solver='liblinear', random_state=12345)\n",
    "logit_searcher.fit(hotel_train_features, hotel_train_target)"
   ]
  },
  {
   "cell_type": "markdown",
   "metadata": {},
   "source": [
    "Выведем на экран лучший результат"
   ]
  },
  {
   "cell_type": "code",
   "execution_count": 98,
   "metadata": {},
   "outputs": [
    {
     "data": {
      "text/plain": [
       "0.791319811740177"
      ]
     },
     "execution_count": 98,
     "metadata": {},
     "output_type": "execute_result"
    }
   ],
   "source": [
    "logit_searcher.score(hotel_train_features, hotel_train_target)"
   ]
  },
  {
   "cell_type": "markdown",
   "metadata": {},
   "source": [
    "Проверим нашу лучшую модель на тестовыой выборке и вычислим прибыль"
   ]
  },
  {
   "cell_type": "code",
   "execution_count": 99,
   "metadata": {},
   "outputs": [
    {
     "name": "stdout",
     "output_type": "stream",
     "text": [
      "Значение F1-меры: 0.6732\n",
      "Значение AUC-ROC: 0.8276\n",
      "Доля правильных ответов: 0.7591\n"
     ]
    },
    {
     "data": {
      "image/png": "[encoded data removed]",
      "text/plain": [
       "<Figure size 432x432 with 1 Axes>"
      ]
     },
     "metadata": {
      "needs_background": "light"
     },
     "output_type": "display_data"
    },
    {
     "name": "stdout",
     "output_type": "stream",
     "text": [
      "Средняя прибыль после внедрения модели: 1447.16, средняя прибыль выросла на 27.22%\n",
      "Прибыль от модели: 9.64 млн. руб.\n"
     ]
    }
   ],
   "source": [
    "model_info(logit_searcher, hotel_test_features, hotel_test_target, profit_2017, profit_avg_2017, 'LogisticRegression')"
   ]
  },
  {
   "cell_type": "markdown",
   "metadata": {},
   "source": [
    "***Вывод***\n",
    "\n",
    "* Модель окупает себя, чистая прибыль от внедрения модели 9,64 млн. руб.;\n",
    "* Средняя прибыль после внедрения модели выросла до 1447.16, рост составил - 27.22%;\n",
    "* Показатели модели на тестовой выборке:\n",
    "    * Значение F1-меры: 0.6732;\n",
    "    * Значение AUC-ROC: 0.8276;\n",
    "    * Доля правильных ответов: 0.7591."
   ]
  },
  {
   "cell_type": "markdown",
   "metadata": {},
   "source": [
    "### KNN"
   ]
  },
  {
   "cell_type": "code",
   "execution_count": 100,
   "metadata": {},
   "outputs": [],
   "source": [
    "knn_pipe = Pipeline([('scaler', StandardScaler()), ('knn', KNeighborsClassifier())])"
   ]
  },
  {
   "cell_type": "markdown",
   "metadata": {},
   "source": [
    "Зададим диапазон параметров, для подбора оптимальных гиперпараметров для нашей модели"
   ]
  },
  {
   "cell_type": "code",
   "execution_count": 101,
   "metadata": {},
   "outputs": [],
   "source": [
    "knn_params = {'knn__n_neighbors': range(14, 17,2)}"
   ]
  },
  {
   "cell_type": "markdown",
   "metadata": {},
   "source": [
    "С помощью функции GridSearchCV подберём оптимальные гиперпараметры для наше нашей модели"
   ]
  },
  {
   "cell_type": "code",
   "execution_count": 102,
   "metadata": {},
   "outputs": [
    {
     "data": {
      "text/plain": [
       "GridSearchCV(cv=5,\n",
       "             estimator=Pipeline(steps=[('scaler', StandardScaler()),\n",
       "                                       ('knn', KNeighborsClassifier())]),\n",
       "             param_grid={'knn__n_neighbors': range(14, 17, 2)}, scoring='f1')"
      ]
     },
     "execution_count": 102,
     "metadata": {},
     "output_type": "execute_result"
    }
   ],
   "source": [
    "knn_grid = GridSearchCV(knn_pipe, knn_params, cv=5, scoring=\"f1\")\n",
    "knn_grid.fit(hotel_train_features, hotel_train_target)"
   ]
  },
  {
   "cell_type": "markdown",
   "metadata": {},
   "source": [
    "Выведем на экран лучшие гиперпараметры"
   ]
  },
  {
   "cell_type": "code",
   "execution_count": 103,
   "metadata": {
    "scrolled": true
   },
   "outputs": [
    {
     "data": {
      "text/plain": [
       "{'knn__n_neighbors': 14}"
      ]
     },
     "execution_count": 103,
     "metadata": {},
     "output_type": "execute_result"
    }
   ],
   "source": [
    "knn_grid.best_params_"
   ]
  },
  {
   "cell_type": "markdown",
   "metadata": {},
   "source": [
    "Выведем на экран лучший результат"
   ]
  },
  {
   "cell_type": "code",
   "execution_count": 104,
   "metadata": {},
   "outputs": [
    {
     "data": {
      "text/plain": [
       "0.7418651963023134"
      ]
     },
     "execution_count": 104,
     "metadata": {},
     "output_type": "execute_result"
    }
   ],
   "source": [
    "knn_grid.best_score_"
   ]
  },
  {
   "cell_type": "markdown",
   "metadata": {},
   "source": [
    "Проверим нашу лучшую модель на тестовыой выборке и вычислим прибыль"
   ]
  },
  {
   "cell_type": "code",
   "execution_count": 105,
   "metadata": {},
   "outputs": [
    {
     "name": "stdout",
     "output_type": "stream",
     "text": [
      "Значение F1-меры: 0.4807\n",
      "Значение AUC-ROC: 0.7284\n",
      "Доля правильных ответов: 0.7018\n"
     ]
    },
    {
     "data": {
      "image/png": "[encoded data removed]",
      "text/plain": [
       "<Figure size 432x432 with 1 Axes>"
      ]
     },
     "metadata": {
      "needs_background": "light"
     },
     "output_type": "display_data"
    },
    {
     "name": "stdout",
     "output_type": "stream",
     "text": [
      "Средняя прибыль после внедрения модели: 1313.92, средняя прибыль выросла на 15.51%\n",
      "Прибыль от модели: 5.32 млн. руб.\n"
     ]
    }
   ],
   "source": [
    "model_info(knn_grid, hotel_test_features, hotel_test_target, profit_2017, profit_avg_2017, 'KNN')"
   ]
  },
  {
   "cell_type": "markdown",
   "metadata": {},
   "source": [
    "***Вывод***\n",
    "\n",
    "* Модель окупает себя, чистая прибыль от внедрения модели 5,32 млн. руб.;\n",
    "* Средняя прибыль после внедрения модели выросла до 1313.92 руб., рост составил - 15.51%;\n",
    "* Показатели модели на тестовой выборке:\n",
    "    * Значение F1-меры: 0.4807;\n",
    "    * Значение AUC-ROC: 0.7284;\n",
    "    * Доля правильных ответов: 0.7018."
   ]
  },
  {
   "cell_type": "markdown",
   "metadata": {},
   "source": [
    "### Вывод"
   ]
  },
  {
   "cell_type": "markdown",
   "metadata": {},
   "source": [
    "* Лучше всего себя показала модель логистической регрессии, она приносит прибыль 9,64 млн. руб. за неполный 2017 г. Хуже всего себя показала модель KNN, она приносит прибиль 5,32 млн. руб. за неполный 2017 г.;\n",
    "* Показатели каждой модели:\n",
    "    * Случайный лес:\n",
    "        * Модель окупает себя, чистая прибыль от внедрения модели 8,92 млн. руб.;\n",
    "        * Средняя прибыль после внедрения модели выросла до 1425.19, рост составил - 25.29%;\n",
    "        * Показатели модели на тестовой выборке:\n",
    "            * Значение F1-меры: 0.6656;\n",
    "            * Значение AUC-ROC: 0.8439;\n",
    "            * Доля правильных ответов: 0.77.\n",
    "    * Логистическая регрессия:\n",
    "        * Модель окупает себя, чистая прибыль от внедрения модели 9,64 млн. руб.;\n",
    "        * Средняя прибыль после внедрения модели выросла до 1447.16, рост составил - 27.22%;\n",
    "        * Показатели модели на тестовой выборке:\n",
    "            * Значение F1-меры: 0.6732;\n",
    "            * Значение AUC-ROC: 0.8276;\n",
    "            * Доля правильных ответов: 0.7591.\n",
    "    * KNN:\n",
    "        * Модель окупает себя, чистая прибыль от внедрения модели 5,32 млн. руб.;\n",
    "        * Средняя прибыль после внедрения модели выросла до 1313.92 руб., рост составил - 15.51%;\n",
    "        * Показатели модели на тестовой выборке:\n",
    "            * Значение F1-меры: 0.4807;\n",
    "            * Значение AUC-ROC: 0.7284;\n",
    "            * Доля правильных ответов: 0.7018."
   ]
  },
  {
   "cell_type": "markdown",
   "metadata": {},
   "source": [
    "Сводная таблица с моделями и результами:"
   ]
  },
  {
   "cell_type": "code",
   "execution_count": 106,
   "metadata": {},
   "outputs": [
    {
     "data": {
      "text/html": [
       "<div>\n",
       "<style scoped>\n",
       "    .dataframe tbody tr th:only-of-type {\n",
       "        vertical-align: middle;\n",
       "    }\n",
       "\n",
       "    .dataframe tbody tr th {\n",
       "        vertical-align: top;\n",
       "    }\n",
       "\n",
       "    .dataframe thead th {\n",
       "        text-align: right;\n",
       "    }\n",
       "</style>\n",
       "<table border=\"1\" class=\"dataframe\">\n",
       "  <thead>\n",
       "    <tr style=\"text-align: right;\">\n",
       "      <th></th>\n",
       "      <th>Name</th>\n",
       "      <th>F1</th>\n",
       "      <th>AUC-ROC</th>\n",
       "      <th>Score</th>\n",
       "      <th>Profit, m. rub</th>\n",
       "      <th>Profit_avg, rub</th>\n",
       "      <th>Profit_growth</th>\n",
       "    </tr>\n",
       "  </thead>\n",
       "  <tbody>\n",
       "    <tr>\n",
       "      <th>0</th>\n",
       "      <td>RandomForest</td>\n",
       "      <td>0.6656</td>\n",
       "      <td>0.8439</td>\n",
       "      <td>0.7700</td>\n",
       "      <td>8.92</td>\n",
       "      <td>1425.19</td>\n",
       "      <td>25.29%</td>\n",
       "    </tr>\n",
       "    <tr>\n",
       "      <th>1</th>\n",
       "      <td>LogisticRegression</td>\n",
       "      <td>0.6732</td>\n",
       "      <td>0.8276</td>\n",
       "      <td>0.7591</td>\n",
       "      <td>9.64</td>\n",
       "      <td>1447.16</td>\n",
       "      <td>27.22%</td>\n",
       "    </tr>\n",
       "    <tr>\n",
       "      <th>2</th>\n",
       "      <td>KNN</td>\n",
       "      <td>0.4807</td>\n",
       "      <td>0.7284</td>\n",
       "      <td>0.7018</td>\n",
       "      <td>5.32</td>\n",
       "      <td>1313.92</td>\n",
       "      <td>15.51%</td>\n",
       "    </tr>\n",
       "  </tbody>\n",
       "</table>\n",
       "</div>"
      ],
      "text/plain": [
       "                 Name      F1  AUC-ROC   Score  Profit, m. rub  \\\n",
       "0        RandomForest  0.6656   0.8439  0.7700            8.92   \n",
       "1  LogisticRegression  0.6732   0.8276  0.7591            9.64   \n",
       "2                 KNN  0.4807   0.7284  0.7018            5.32   \n",
       "\n",
       "   Profit_avg, rub Profit_growth  \n",
       "0          1425.19        25.29%  \n",
       "1          1447.16        27.22%  \n",
       "2          1313.92        15.51%  "
      ]
     },
     "execution_count": 106,
     "metadata": {},
     "output_type": "execute_result"
    }
   ],
   "source": [
    " table_estimation"
   ]
  },
  {
   "cell_type": "markdown",
   "metadata": {},
   "source": [
    "## Портрет «ненадёжного» клиента"
   ]
  },
  {
   "cell_type": "markdown",
   "metadata": {},
   "source": [
    "Создадим список со столбцами для поиска линейной зависимости"
   ]
  },
  {
   "cell_type": "code",
   "execution_count": 107,
   "metadata": {},
   "outputs": [],
   "source": [
    "COLUMNS_CORR = (['adults', 'arrival_date_day_of_month', 'babies', 'booking_changes', 'children',\n",
    "            'days_in_waiting_list', 'is_repeated_guest', 'lead_time',\n",
    "            'previous_bookings_not_canceled', 'previous_cancellations', 'required_car_parking_spaces',\n",
    "            'stays_in_weekend_nights', 'stays_in_week_nights', 'total_nights', 'total_of_special_requests'])"
   ]
  },
  {
   "cell_type": "markdown",
   "metadata": {},
   "source": [
    "### Функции"
   ]
  },
  {
   "cell_type": "markdown",
   "metadata": {},
   "source": [
    "Функция для группировки и вывода обобщённой информации в наглядном формате"
   ]
  },
  {
   "cell_type": "code",
   "execution_count": 108,
   "metadata": {},
   "outputs": [],
   "source": [
    "def view(df, column):\n",
    "    x = df.groupby(column)['is_canceled'].agg(['count', 'mean']).query('count > 100').sort_values(by='mean', ascending=False)\n",
    "    x['mean'] = round(x['mean']*100, 2).astype(str) + '%'\n",
    "    return x.head(20)"
   ]
  },
  {
   "cell_type": "markdown",
   "metadata": {},
   "source": [
    "Функция для нахождения корреляции"
   ]
  },
  {
   "cell_type": "code",
   "execution_count": 109,
   "metadata": {},
   "outputs": [],
   "source": [
    "def func_corr (df_corr, reference):\n",
    "    for i in COLUMNS_CORR:\n",
    "        corr = df_corr[reference].corr(df_corr[i])\n",
    "        if corr > 0.6:\n",
    "            print(f'{i}: прямая, сильная зависимость, r = {corr:.2}')\n",
    "        elif 0.4 < corr <= 0.6:\n",
    "            print(f'{i}: прямая, средняя зависимость, r = {corr:.2}')\n",
    "        elif 0.2 <= corr <= 0.4:\n",
    "            print(f'{i}: прямая, слабая зависимость, r = {corr:.2}')\n",
    "        elif -0.2 < corr < 0.2:\n",
    "            print(f'{i}: зависимость не значительная, r = {corr:.2}')\n",
    "        elif -0.4 <= corr <= -0.2:\n",
    "            print(f'{i}: обратная, слабая зависимость, r = {corr:.2}')\n",
    "        elif -0.6 <= corr < -0.4:\n",
    "            print(f'{i}: обратная, средняя зависимость, r = {corr:.2}')\n",
    "        else:\n",
    "            print(f'{i}: обратная, сильная зависимость, r = {corr:.2}')"
   ]
  },
  {
   "cell_type": "markdown",
   "metadata": {},
   "source": [
    "###  Линейная зависимость"
   ]
  },
  {
   "cell_type": "code",
   "execution_count": 110,
   "metadata": {},
   "outputs": [
    {
     "name": "stdout",
     "output_type": "stream",
     "text": [
      "adults: зависимость не значительная, r = 0.045\n",
      "arrival_date_day_of_month: зависимость не значительная, r = -0.0019\n",
      "babies: зависимость не значительная, r = -0.03\n",
      "booking_changes: зависимость не значительная, r = -0.14\n",
      "children: зависимость не значительная, r = -0.018\n",
      "days_in_waiting_list: зависимость не значительная, r = 0.076\n",
      "is_repeated_guest: зависимость не значительная, r = -0.04\n",
      "lead_time: прямая, слабая зависимость, r = 0.33\n",
      "previous_bookings_not_canceled: зависимость не значительная, r = -0.046\n",
      "previous_cancellations: зависимость не значительная, r = 0.15\n",
      "required_car_parking_spaces: зависимость не значительная, r = -0.19\n",
      "stays_in_weekend_nights: зависимость не значительная, r = -0.014\n",
      "stays_in_week_nights: зависимость не значительная, r = 0.011\n",
      "total_nights: зависимость не значительная, r = 0.0015\n",
      "total_of_special_requests: обратная, слабая зависимость, r = -0.26\n"
     ]
    }
   ],
   "source": [
    "func_corr (hotel_train, 'is_canceled')"
   ]
  },
  {
   "cell_type": "markdown",
   "metadata": {},
   "source": [
    "***Вывод***\n",
    "\n",
    "* Обнаружена прямая линейная слабая зависимость от кол-ва дней от момента бронирования до момента прибытия;\n",
    "* Обнаружена обратная линейная слабая зависимость от кол-ва специальных отметок."
   ]
  },
  {
   "cell_type": "markdown",
   "metadata": {},
   "source": [
    "### Анализ столбцов на зависимости"
   ]
  },
  {
   "cell_type": "markdown",
   "metadata": {},
   "source": [
    "Проверим все столбцы и попробуем выявить зависимости"
   ]
  },
  {
   "cell_type": "code",
   "execution_count": 111,
   "metadata": {},
   "outputs": [
    {
     "data": {
      "text/html": [
       "<div>\n",
       "<style scoped>\n",
       "    .dataframe tbody tr th:only-of-type {\n",
       "        vertical-align: middle;\n",
       "    }\n",
       "\n",
       "    .dataframe tbody tr th {\n",
       "        vertical-align: top;\n",
       "    }\n",
       "\n",
       "    .dataframe thead th {\n",
       "        text-align: right;\n",
       "    }\n",
       "</style>\n",
       "<table border=\"1\" class=\"dataframe\">\n",
       "  <thead>\n",
       "    <tr style=\"text-align: right;\">\n",
       "      <th></th>\n",
       "      <th>count</th>\n",
       "      <th>&lt;lambda_0&gt;</th>\n",
       "    </tr>\n",
       "    <tr>\n",
       "      <th>babies</th>\n",
       "      <th></th>\n",
       "      <th></th>\n",
       "    </tr>\n",
       "  </thead>\n",
       "  <tbody>\n",
       "    <tr>\n",
       "      <th>Есть</th>\n",
       "      <td>452</td>\n",
       "      <td>18.14%</td>\n",
       "    </tr>\n",
       "    <tr>\n",
       "      <th>Нет</th>\n",
       "      <td>64777</td>\n",
       "      <td>36.99%</td>\n",
       "    </tr>\n",
       "  </tbody>\n",
       "</table>\n",
       "</div>"
      ],
      "text/plain": [
       "        count <lambda_0>\n",
       "babies                  \n",
       "Есть      452    18.14% \n",
       "Нет     64777    36.99% "
      ]
     },
     "execution_count": 111,
     "metadata": {},
     "output_type": "execute_result"
    }
   ],
   "source": [
    "hotel_train.groupby(hotel_train.babies.apply(lambda x: 'Нет' if x == 0 else 'Есть'))['is_canceled'].agg(\n",
    "    ['count', lambda x: '{:.2%} '.format(x.mean())])"
   ]
  },
  {
   "cell_type": "markdown",
   "metadata": {},
   "source": [
    "* Клиенты, которые заселяются с младенцами, предположительно в два раза реже отменяют бронь, 18,14% против 36,99%"
   ]
  },
  {
   "cell_type": "code",
   "execution_count": 112,
   "metadata": {},
   "outputs": [
    {
     "data": {
      "text/html": [
       "<div>\n",
       "<style scoped>\n",
       "    .dataframe tbody tr th:only-of-type {\n",
       "        vertical-align: middle;\n",
       "    }\n",
       "\n",
       "    .dataframe tbody tr th {\n",
       "        vertical-align: top;\n",
       "    }\n",
       "\n",
       "    .dataframe thead th {\n",
       "        text-align: right;\n",
       "    }\n",
       "</style>\n",
       "<table border=\"1\" class=\"dataframe\">\n",
       "  <thead>\n",
       "    <tr style=\"text-align: right;\">\n",
       "      <th></th>\n",
       "      <th>count</th>\n",
       "      <th>mean</th>\n",
       "    </tr>\n",
       "    <tr>\n",
       "      <th>adults</th>\n",
       "      <th></th>\n",
       "      <th></th>\n",
       "    </tr>\n",
       "  </thead>\n",
       "  <tbody>\n",
       "    <tr>\n",
       "      <th>2</th>\n",
       "      <td>48980</td>\n",
       "      <td>39.02%</td>\n",
       "    </tr>\n",
       "    <tr>\n",
       "      <th>1</th>\n",
       "      <td>13212</td>\n",
       "      <td>30.41%</td>\n",
       "    </tr>\n",
       "    <tr>\n",
       "      <th>3</th>\n",
       "      <td>2858</td>\n",
       "      <td>30.27%</td>\n",
       "    </tr>\n",
       "    <tr>\n",
       "      <th>0</th>\n",
       "      <td>166</td>\n",
       "      <td>28.92%</td>\n",
       "    </tr>\n",
       "  </tbody>\n",
       "</table>\n",
       "</div>"
      ],
      "text/plain": [
       "        count    mean\n",
       "adults               \n",
       "2       48980  39.02%\n",
       "1       13212  30.41%\n",
       "3        2858  30.27%\n",
       "0         166  28.92%"
      ]
     },
     "execution_count": 112,
     "metadata": {},
     "output_type": "execute_result"
    }
   ],
   "source": [
    "view(hotel_train, 'adults')"
   ]
  },
  {
   "cell_type": "markdown",
   "metadata": {},
   "source": [
    "* Клиенты с двумя взрослыми постояльцами, предположительно отменяют бронь чуть чаще остальных, 39% против примерно 30% в других категориях"
   ]
  },
  {
   "cell_type": "code",
   "execution_count": 113,
   "metadata": {},
   "outputs": [
    {
     "data": {
      "text/html": [
       "<div>\n",
       "<style scoped>\n",
       "    .dataframe tbody tr th:only-of-type {\n",
       "        vertical-align: middle;\n",
       "    }\n",
       "\n",
       "    .dataframe tbody tr th {\n",
       "        vertical-align: top;\n",
       "    }\n",
       "\n",
       "    .dataframe thead th {\n",
       "        text-align: right;\n",
       "    }\n",
       "</style>\n",
       "<table border=\"1\" class=\"dataframe\">\n",
       "  <thead>\n",
       "    <tr style=\"text-align: right;\">\n",
       "      <th></th>\n",
       "      <th>count</th>\n",
       "      <th>&lt;lambda_0&gt;</th>\n",
       "    </tr>\n",
       "    <tr>\n",
       "      <th>booking_changes</th>\n",
       "      <th></th>\n",
       "      <th></th>\n",
       "    </tr>\n",
       "  </thead>\n",
       "  <tbody>\n",
       "    <tr>\n",
       "      <th>Есть изменения</th>\n",
       "      <td>9034</td>\n",
       "      <td>14.70%</td>\n",
       "    </tr>\n",
       "    <tr>\n",
       "      <th>Нет изменений</th>\n",
       "      <td>56195</td>\n",
       "      <td>40.42%</td>\n",
       "    </tr>\n",
       "  </tbody>\n",
       "</table>\n",
       "</div>"
      ],
      "text/plain": [
       "                 count <lambda_0>\n",
       "booking_changes                  \n",
       "Есть изменения    9034    14.70% \n",
       "Нет изменений    56195    40.42% "
      ]
     },
     "execution_count": 113,
     "metadata": {},
     "output_type": "execute_result"
    }
   ],
   "source": [
    "hotel_train.groupby(hotel_train.booking_changes.apply(\n",
    "    lambda x: 'Нет изменений' if x == 0 else 'Есть изменения'))['is_canceled'].agg(\n",
    "    ['count', lambda x: '{:.2%} '.format(x.mean())])"
   ]
  },
  {
   "cell_type": "markdown",
   "metadata": {},
   "source": [
    "* Клиенты, которые не делали хотя бы одно изменение в заказе, предположительно отменяют бронь гораздо чаще, 40,42% против 14,7%"
   ]
  },
  {
   "cell_type": "code",
   "execution_count": 114,
   "metadata": {},
   "outputs": [
    {
     "data": {
      "text/html": [
       "<div>\n",
       "<style scoped>\n",
       "    .dataframe tbody tr th:only-of-type {\n",
       "        vertical-align: middle;\n",
       "    }\n",
       "\n",
       "    .dataframe tbody tr th {\n",
       "        vertical-align: top;\n",
       "    }\n",
       "\n",
       "    .dataframe thead th {\n",
       "        text-align: right;\n",
       "    }\n",
       "</style>\n",
       "<table border=\"1\" class=\"dataframe\">\n",
       "  <thead>\n",
       "    <tr style=\"text-align: right;\">\n",
       "      <th></th>\n",
       "      <th>count</th>\n",
       "      <th>mean</th>\n",
       "    </tr>\n",
       "    <tr>\n",
       "      <th>children</th>\n",
       "      <th></th>\n",
       "      <th></th>\n",
       "    </tr>\n",
       "  </thead>\n",
       "  <tbody>\n",
       "    <tr>\n",
       "      <th>0</th>\n",
       "      <td>61712</td>\n",
       "      <td>37.16%</td>\n",
       "    </tr>\n",
       "    <tr>\n",
       "      <th>2</th>\n",
       "      <td>1336</td>\n",
       "      <td>36.53%</td>\n",
       "    </tr>\n",
       "    <tr>\n",
       "      <th>1</th>\n",
       "      <td>2165</td>\n",
       "      <td>28.64%</td>\n",
       "    </tr>\n",
       "  </tbody>\n",
       "</table>\n",
       "</div>"
      ],
      "text/plain": [
       "          count    mean\n",
       "children               \n",
       "0         61712  37.16%\n",
       "2          1336  36.53%\n",
       "1          2165  28.64%"
      ]
     },
     "execution_count": 114,
     "metadata": {},
     "output_type": "execute_result"
    }
   ],
   "source": [
    "view(hotel_train, 'children')"
   ]
  },
  {
   "cell_type": "markdown",
   "metadata": {},
   "source": [
    "* Клиенты с одним ребёнком в возрасте от 3 до 14 лет, предположительно отменяют бронь реже, 28,64% против примерно 37% у клиентов без детей или с двумя детьми"
   ]
  },
  {
   "cell_type": "code",
   "execution_count": 115,
   "metadata": {},
   "outputs": [
    {
     "data": {
      "text/html": [
       "<div>\n",
       "<style scoped>\n",
       "    .dataframe tbody tr th:only-of-type {\n",
       "        vertical-align: middle;\n",
       "    }\n",
       "\n",
       "    .dataframe tbody tr th {\n",
       "        vertical-align: top;\n",
       "    }\n",
       "\n",
       "    .dataframe thead th {\n",
       "        text-align: right;\n",
       "    }\n",
       "</style>\n",
       "<table border=\"1\" class=\"dataframe\">\n",
       "  <thead>\n",
       "    <tr style=\"text-align: right;\">\n",
       "      <th></th>\n",
       "      <th>count</th>\n",
       "      <th>mean</th>\n",
       "    </tr>\n",
       "    <tr>\n",
       "      <th>country</th>\n",
       "      <th></th>\n",
       "      <th></th>\n",
       "    </tr>\n",
       "  </thead>\n",
       "  <tbody>\n",
       "    <tr>\n",
       "      <th>PRT</th>\n",
       "      <td>28831</td>\n",
       "      <td>57.59%</td>\n",
       "    </tr>\n",
       "    <tr>\n",
       "      <th>CHN</th>\n",
       "      <td>526</td>\n",
       "      <td>44.49%</td>\n",
       "    </tr>\n",
       "    <tr>\n",
       "      <th>TUR</th>\n",
       "      <td>169</td>\n",
       "      <td>40.24%</td>\n",
       "    </tr>\n",
       "    <tr>\n",
       "      <th>AGO</th>\n",
       "      <td>140</td>\n",
       "      <td>39.29%</td>\n",
       "    </tr>\n",
       "    <tr>\n",
       "      <th>HUN</th>\n",
       "      <td>121</td>\n",
       "      <td>34.71%</td>\n",
       "    </tr>\n",
       "    <tr>\n",
       "      <th>MAR</th>\n",
       "      <td>125</td>\n",
       "      <td>34.4%</td>\n",
       "    </tr>\n",
       "    <tr>\n",
       "      <th>ITA</th>\n",
       "      <td>2327</td>\n",
       "      <td>32.96%</td>\n",
       "    </tr>\n",
       "    <tr>\n",
       "      <th>RUS</th>\n",
       "      <td>296</td>\n",
       "      <td>32.43%</td>\n",
       "    </tr>\n",
       "    <tr>\n",
       "      <th>LUX</th>\n",
       "      <td>134</td>\n",
       "      <td>32.09%</td>\n",
       "    </tr>\n",
       "    <tr>\n",
       "      <th>BRA</th>\n",
       "      <td>1088</td>\n",
       "      <td>32.08%</td>\n",
       "    </tr>\n",
       "    <tr>\n",
       "      <th>ISR</th>\n",
       "      <td>375</td>\n",
       "      <td>25.87%</td>\n",
       "    </tr>\n",
       "    <tr>\n",
       "      <th>ROU</th>\n",
       "      <td>249</td>\n",
       "      <td>22.09%</td>\n",
       "    </tr>\n",
       "    <tr>\n",
       "      <th>ESP</th>\n",
       "      <td>4900</td>\n",
       "      <td>22.06%</td>\n",
       "    </tr>\n",
       "    <tr>\n",
       "      <th>IRL</th>\n",
       "      <td>1445</td>\n",
       "      <td>21.66%</td>\n",
       "    </tr>\n",
       "    <tr>\n",
       "      <th>SWE</th>\n",
       "      <td>544</td>\n",
       "      <td>20.96%</td>\n",
       "    </tr>\n",
       "    <tr>\n",
       "      <th>NOR</th>\n",
       "      <td>261</td>\n",
       "      <td>20.31%</td>\n",
       "    </tr>\n",
       "    <tr>\n",
       "      <th>AUS</th>\n",
       "      <td>168</td>\n",
       "      <td>20.24%</td>\n",
       "    </tr>\n",
       "    <tr>\n",
       "      <th>POL</th>\n",
       "      <td>531</td>\n",
       "      <td>19.77%</td>\n",
       "    </tr>\n",
       "    <tr>\n",
       "      <th>CZE</th>\n",
       "      <td>112</td>\n",
       "      <td>19.64%</td>\n",
       "    </tr>\n",
       "    <tr>\n",
       "      <th>ARG</th>\n",
       "      <td>107</td>\n",
       "      <td>19.63%</td>\n",
       "    </tr>\n",
       "  </tbody>\n",
       "</table>\n",
       "</div>"
      ],
      "text/plain": [
       "         count    mean\n",
       "country               \n",
       "PRT      28831  57.59%\n",
       "CHN        526  44.49%\n",
       "TUR        169  40.24%\n",
       "AGO        140  39.29%\n",
       "HUN        121  34.71%\n",
       "MAR        125   34.4%\n",
       "ITA       2327  32.96%\n",
       "RUS        296  32.43%\n",
       "LUX        134  32.09%\n",
       "BRA       1088  32.08%\n",
       "ISR        375  25.87%\n",
       "ROU        249  22.09%\n",
       "ESP       4900  22.06%\n",
       "IRL       1445  21.66%\n",
       "SWE        544  20.96%\n",
       "NOR        261  20.31%\n",
       "AUS        168  20.24%\n",
       "POL        531  19.77%\n",
       "CZE        112  19.64%\n",
       "ARG        107  19.63%"
      ]
     },
     "execution_count": 115,
     "metadata": {},
     "output_type": "execute_result"
    }
   ],
   "source": [
    "view(hotel_train, 'country')"
   ]
  },
  {
   "cell_type": "markdown",
   "metadata": {},
   "source": [
    "* Клиенты из Португалии и Китая, предположительно отменяют бронь чаще остальных, 57,59% и 44,49% соответственно "
   ]
  },
  {
   "cell_type": "code",
   "execution_count": 116,
   "metadata": {},
   "outputs": [
    {
     "data": {
      "text/html": [
       "<div>\n",
       "<style scoped>\n",
       "    .dataframe tbody tr th:only-of-type {\n",
       "        vertical-align: middle;\n",
       "    }\n",
       "\n",
       "    .dataframe tbody tr th {\n",
       "        vertical-align: top;\n",
       "    }\n",
       "\n",
       "    .dataframe thead th {\n",
       "        text-align: right;\n",
       "    }\n",
       "</style>\n",
       "<table border=\"1\" class=\"dataframe\">\n",
       "  <thead>\n",
       "    <tr style=\"text-align: right;\">\n",
       "      <th></th>\n",
       "      <th>count</th>\n",
       "      <th>mean</th>\n",
       "    </tr>\n",
       "    <tr>\n",
       "      <th>customer_type</th>\n",
       "      <th></th>\n",
       "      <th></th>\n",
       "    </tr>\n",
       "  </thead>\n",
       "  <tbody>\n",
       "    <tr>\n",
       "      <th>Contract</th>\n",
       "      <td>2746</td>\n",
       "      <td>39.69%</td>\n",
       "    </tr>\n",
       "    <tr>\n",
       "      <th>Transient</th>\n",
       "      <td>45493</td>\n",
       "      <td>39.6%</td>\n",
       "    </tr>\n",
       "    <tr>\n",
       "      <th>Transient-Party</th>\n",
       "      <td>16703</td>\n",
       "      <td>29.41%</td>\n",
       "    </tr>\n",
       "    <tr>\n",
       "      <th>Group</th>\n",
       "      <td>287</td>\n",
       "      <td>8.36%</td>\n",
       "    </tr>\n",
       "  </tbody>\n",
       "</table>\n",
       "</div>"
      ],
      "text/plain": [
       "                 count    mean\n",
       "customer_type                 \n",
       "Contract          2746  39.69%\n",
       "Transient        45493   39.6%\n",
       "Transient-Party  16703  29.41%\n",
       "Group              287   8.36%"
      ]
     },
     "execution_count": 116,
     "metadata": {},
     "output_type": "execute_result"
    }
   ],
   "source": [
    "view(hotel_train, 'customer_type')"
   ]
  },
  {
   "cell_type": "markdown",
   "metadata": {},
   "source": [
    "* Клиенты, которые оформляют заказ группой, предположительно отменяют бронь намного реже остальных, 8,36% против 29-39% в других типах заказчиков"
   ]
  },
  {
   "cell_type": "code",
   "execution_count": 117,
   "metadata": {},
   "outputs": [
    {
     "data": {
      "text/html": [
       "<div>\n",
       "<style scoped>\n",
       "    .dataframe tbody tr th:only-of-type {\n",
       "        vertical-align: middle;\n",
       "    }\n",
       "\n",
       "    .dataframe tbody tr th {\n",
       "        vertical-align: top;\n",
       "    }\n",
       "\n",
       "    .dataframe thead th {\n",
       "        text-align: right;\n",
       "    }\n",
       "</style>\n",
       "<table border=\"1\" class=\"dataframe\">\n",
       "  <thead>\n",
       "    <tr style=\"text-align: right;\">\n",
       "      <th></th>\n",
       "      <th>count</th>\n",
       "      <th>&lt;lambda_0&gt;</th>\n",
       "    </tr>\n",
       "    <tr>\n",
       "      <th>days_in_waiting_list</th>\n",
       "      <th></th>\n",
       "      <th></th>\n",
       "    </tr>\n",
       "  </thead>\n",
       "  <tbody>\n",
       "    <tr>\n",
       "      <th>0 дней</th>\n",
       "      <td>62005</td>\n",
       "      <td>35.36%</td>\n",
       "    </tr>\n",
       "    <tr>\n",
       "      <th>От 1 дня и больше</th>\n",
       "      <td>3224</td>\n",
       "      <td>65.73%</td>\n",
       "    </tr>\n",
       "  </tbody>\n",
       "</table>\n",
       "</div>"
      ],
      "text/plain": [
       "                      count <lambda_0>\n",
       "days_in_waiting_list                  \n",
       "0 дней                62005    35.36% \n",
       "От 1 дня и больше      3224    65.73% "
      ]
     },
     "execution_count": 117,
     "metadata": {},
     "output_type": "execute_result"
    }
   ],
   "source": [
    "hotel_train.groupby(hotel_train.days_in_waiting_list.apply(\n",
    "    lambda x: '0 дней' if x == 0 else 'От 1 дня и больше'))['is_canceled'].agg(\n",
    "    ['count', lambda x: '{:.2%} '.format(x.mean())])"
   ]
  },
  {
   "cell_type": "markdown",
   "metadata": {},
   "source": [
    "* Клиенты, которые ожидали подтверждения заказа менее одного дня, предположительно отменяют бронь намного реже, 35,36% против 65,73%"
   ]
  },
  {
   "cell_type": "code",
   "execution_count": 118,
   "metadata": {},
   "outputs": [
    {
     "data": {
      "text/html": [
       "<div>\n",
       "<style scoped>\n",
       "    .dataframe tbody tr th:only-of-type {\n",
       "        vertical-align: middle;\n",
       "    }\n",
       "\n",
       "    .dataframe tbody tr th {\n",
       "        vertical-align: top;\n",
       "    }\n",
       "\n",
       "    .dataframe thead th {\n",
       "        text-align: right;\n",
       "    }\n",
       "</style>\n",
       "<table border=\"1\" class=\"dataframe\">\n",
       "  <thead>\n",
       "    <tr style=\"text-align: right;\">\n",
       "      <th></th>\n",
       "      <th>count</th>\n",
       "      <th>mean</th>\n",
       "    </tr>\n",
       "    <tr>\n",
       "      <th>distribution_channel</th>\n",
       "      <th></th>\n",
       "      <th></th>\n",
       "    </tr>\n",
       "  </thead>\n",
       "  <tbody>\n",
       "    <tr>\n",
       "      <th>TA/TO</th>\n",
       "      <td>54454</td>\n",
       "      <td>40.41%</td>\n",
       "    </tr>\n",
       "    <tr>\n",
       "      <th>Corporate</th>\n",
       "      <td>3823</td>\n",
       "      <td>21.74%</td>\n",
       "    </tr>\n",
       "    <tr>\n",
       "      <th>Direct</th>\n",
       "      <td>6853</td>\n",
       "      <td>17.34%</td>\n",
       "    </tr>\n",
       "  </tbody>\n",
       "</table>\n",
       "</div>"
      ],
      "text/plain": [
       "                      count    mean\n",
       "distribution_channel               \n",
       "TA/TO                 54454  40.41%\n",
       "Corporate              3823  21.74%\n",
       "Direct                 6853  17.34%"
      ]
     },
     "execution_count": 118,
     "metadata": {},
     "output_type": "execute_result"
    }
   ],
   "source": [
    "view(hotel_train, 'distribution_channel')"
   ]
  },
  {
   "cell_type": "markdown",
   "metadata": {},
   "source": [
    "* Клиенты, с каналом дистрибуции \"TA/TO\", предположительно отменяют бронь намного чаще остальных, 40,41% против 21% и меньше"
   ]
  },
  {
   "cell_type": "code",
   "execution_count": 119,
   "metadata": {
    "scrolled": true
   },
   "outputs": [
    {
     "data": {
      "text/html": [
       "<div>\n",
       "<style scoped>\n",
       "    .dataframe tbody tr th:only-of-type {\n",
       "        vertical-align: middle;\n",
       "    }\n",
       "\n",
       "    .dataframe tbody tr th {\n",
       "        vertical-align: top;\n",
       "    }\n",
       "\n",
       "    .dataframe thead th {\n",
       "        text-align: right;\n",
       "    }\n",
       "</style>\n",
       "<table border=\"1\" class=\"dataframe\">\n",
       "  <thead>\n",
       "    <tr style=\"text-align: right;\">\n",
       "      <th></th>\n",
       "      <th>count</th>\n",
       "      <th>mean</th>\n",
       "    </tr>\n",
       "    <tr>\n",
       "      <th>is_repeated_guest</th>\n",
       "      <th></th>\n",
       "      <th></th>\n",
       "    </tr>\n",
       "  </thead>\n",
       "  <tbody>\n",
       "    <tr>\n",
       "      <th>0</th>\n",
       "      <td>63458</td>\n",
       "      <td>37.19%</td>\n",
       "    </tr>\n",
       "    <tr>\n",
       "      <th>1</th>\n",
       "      <td>1771</td>\n",
       "      <td>25.24%</td>\n",
       "    </tr>\n",
       "  </tbody>\n",
       "</table>\n",
       "</div>"
      ],
      "text/plain": [
       "                   count    mean\n",
       "is_repeated_guest               \n",
       "0                  63458  37.19%\n",
       "1                   1771  25.24%"
      ]
     },
     "execution_count": 119,
     "metadata": {},
     "output_type": "execute_result"
    }
   ],
   "source": [
    "view(hotel_train, 'is_repeated_guest')"
   ]
  },
  {
   "cell_type": "markdown",
   "metadata": {},
   "source": [
    "* Клиенты, которые бронируют номер второй раз, предположительно отменяют бронь рееже, 25,24% против 37,19%"
   ]
  },
  {
   "cell_type": "code",
   "execution_count": 120,
   "metadata": {
    "scrolled": true
   },
   "outputs": [
    {
     "data": {
      "image/png": "[encoded data removed]",
      "text/plain": [
       "<Figure size 720x360 with 1 Axes>"
      ]
     },
     "metadata": {
      "needs_background": "light"
     },
     "output_type": "display_data"
    }
   ],
   "source": [
    "hotel_train.query('lead_time < 12').groupby('lead_time')['is_canceled'].mean().plot(figsize=(10, 5), grid=True, style='-o')\n",
    "plt.xlabel(\"Кол-во дней\")\n",
    "plt.ylabel(\"Вероятность в %\")\n",
    "plt.title(\"Зависимость отмены бронирования, от кол-ва дней от момента бронирования до момента прибытия\")\n",
    "plt.show()    "
   ]
  },
  {
   "cell_type": "markdown",
   "metadata": {},
   "source": [
    "* Чем больше кол-во дней от момента бронирования до момента прибытия, тем больше вероятность отказа от брони"
   ]
  },
  {
   "cell_type": "code",
   "execution_count": 121,
   "metadata": {},
   "outputs": [
    {
     "data": {
      "text/html": [
       "<div>\n",
       "<style scoped>\n",
       "    .dataframe tbody tr th:only-of-type {\n",
       "        vertical-align: middle;\n",
       "    }\n",
       "\n",
       "    .dataframe tbody tr th {\n",
       "        vertical-align: top;\n",
       "    }\n",
       "\n",
       "    .dataframe thead th {\n",
       "        text-align: right;\n",
       "    }\n",
       "</style>\n",
       "<table border=\"1\" class=\"dataframe\">\n",
       "  <thead>\n",
       "    <tr style=\"text-align: right;\">\n",
       "      <th></th>\n",
       "      <th>count</th>\n",
       "      <th>mean</th>\n",
       "    </tr>\n",
       "    <tr>\n",
       "      <th>meal</th>\n",
       "      <th></th>\n",
       "      <th></th>\n",
       "    </tr>\n",
       "  </thead>\n",
       "  <tbody>\n",
       "    <tr>\n",
       "      <th>FB</th>\n",
       "      <td>451</td>\n",
       "      <td>68.96%</td>\n",
       "    </tr>\n",
       "    <tr>\n",
       "      <th>HB</th>\n",
       "      <td>7292</td>\n",
       "      <td>38.51%</td>\n",
       "    </tr>\n",
       "    <tr>\n",
       "      <th>BB</th>\n",
       "      <td>51697</td>\n",
       "      <td>36.63%</td>\n",
       "    </tr>\n",
       "    <tr>\n",
       "      <th>SC</th>\n",
       "      <td>5789</td>\n",
       "      <td>34.38%</td>\n",
       "    </tr>\n",
       "  </tbody>\n",
       "</table>\n",
       "</div>"
      ],
      "text/plain": [
       "      count    mean\n",
       "meal               \n",
       "FB      451  68.96%\n",
       "HB     7292  38.51%\n",
       "BB    51697  36.63%\n",
       "SC     5789  34.38%"
      ]
     },
     "execution_count": 121,
     "metadata": {},
     "output_type": "execute_result"
    }
   ],
   "source": [
    "view(hotel_train, 'meal')"
   ]
  },
  {
   "cell_type": "markdown",
   "metadata": {},
   "source": [
    "* Клиенты, у которых включён завтрак, обед и ужин, предположительно отменяют бронь намного чаще остальных, 68,96% против 38,51% и меньше"
   ]
  },
  {
   "cell_type": "code",
   "execution_count": 122,
   "metadata": {},
   "outputs": [
    {
     "data": {
      "text/html": [
       "<div>\n",
       "<style scoped>\n",
       "    .dataframe tbody tr th:only-of-type {\n",
       "        vertical-align: middle;\n",
       "    }\n",
       "\n",
       "    .dataframe tbody tr th {\n",
       "        vertical-align: top;\n",
       "    }\n",
       "\n",
       "    .dataframe thead th {\n",
       "        text-align: right;\n",
       "    }\n",
       "</style>\n",
       "<table border=\"1\" class=\"dataframe\">\n",
       "  <thead>\n",
       "    <tr style=\"text-align: right;\">\n",
       "      <th></th>\n",
       "      <th>count</th>\n",
       "      <th>&lt;lambda_0&gt;</th>\n",
       "    </tr>\n",
       "    <tr>\n",
       "      <th>previous_bookings_not_canceled</th>\n",
       "      <th></th>\n",
       "      <th></th>\n",
       "    </tr>\n",
       "  </thead>\n",
       "  <tbody>\n",
       "    <tr>\n",
       "      <th>Есть</th>\n",
       "      <td>1543</td>\n",
       "      <td>6.35%</td>\n",
       "    </tr>\n",
       "    <tr>\n",
       "      <th>Нет</th>\n",
       "      <td>63686</td>\n",
       "      <td>37.60%</td>\n",
       "    </tr>\n",
       "  </tbody>\n",
       "</table>\n",
       "</div>"
      ],
      "text/plain": [
       "                                count <lambda_0>\n",
       "previous_bookings_not_canceled                  \n",
       "Есть                             1543     6.35% \n",
       "Нет                             63686    37.60% "
      ]
     },
     "execution_count": 122,
     "metadata": {},
     "output_type": "execute_result"
    }
   ],
   "source": [
    "hotel_train.groupby(hotel_train.previous_bookings_not_canceled.apply(\n",
    "    lambda x: 'Нет' if x == 0 else 'Есть'))['is_canceled'].agg(\n",
    "    ['count', lambda x: '{:.2%} '.format(x.mean())])"
   ]
  },
  {
   "cell_type": "markdown",
   "metadata": {},
   "source": [
    "* Клиенты, у которых отсутствуют подтвержденные заказы, предположительно отменяют бронь намного чаще, 37,6% против 6,35%"
   ]
  },
  {
   "cell_type": "code",
   "execution_count": 123,
   "metadata": {},
   "outputs": [
    {
     "data": {
      "text/html": [
       "<div>\n",
       "<style scoped>\n",
       "    .dataframe tbody tr th:only-of-type {\n",
       "        vertical-align: middle;\n",
       "    }\n",
       "\n",
       "    .dataframe tbody tr th {\n",
       "        vertical-align: top;\n",
       "    }\n",
       "\n",
       "    .dataframe thead th {\n",
       "        text-align: right;\n",
       "    }\n",
       "</style>\n",
       "<table border=\"1\" class=\"dataframe\">\n",
       "  <thead>\n",
       "    <tr style=\"text-align: right;\">\n",
       "      <th></th>\n",
       "      <th>count</th>\n",
       "      <th>&lt;lambda_0&gt;</th>\n",
       "    </tr>\n",
       "    <tr>\n",
       "      <th>previous_cancellations</th>\n",
       "      <th></th>\n",
       "      <th></th>\n",
       "    </tr>\n",
       "  </thead>\n",
       "  <tbody>\n",
       "    <tr>\n",
       "      <th>Есть</th>\n",
       "      <td>5638</td>\n",
       "      <td>95.71%</td>\n",
       "    </tr>\n",
       "    <tr>\n",
       "      <th>Нет</th>\n",
       "      <td>59591</td>\n",
       "      <td>31.29%</td>\n",
       "    </tr>\n",
       "  </tbody>\n",
       "</table>\n",
       "</div>"
      ],
      "text/plain": [
       "                        count <lambda_0>\n",
       "previous_cancellations                  \n",
       "Есть                     5638    95.71% \n",
       "Нет                     59591    31.29% "
      ]
     },
     "execution_count": 123,
     "metadata": {},
     "output_type": "execute_result"
    }
   ],
   "source": [
    "hotel_train.groupby(hotel_train.previous_cancellations.apply(lambda x: 'Нет' if x == 0 else 'Есть'))['is_canceled'].agg(\n",
    "    ['count', lambda x: '{:.2%} '.format(x.mean())])"
   ]
  },
  {
   "cell_type": "markdown",
   "metadata": {},
   "source": [
    "* Клиенты, у которых есть отменённые заказы, предположительно отменяют бронь намного чаще, 95,71% против 31,29%"
   ]
  },
  {
   "cell_type": "code",
   "execution_count": 124,
   "metadata": {},
   "outputs": [
    {
     "data": {
      "text/html": [
       "<div>\n",
       "<style scoped>\n",
       "    .dataframe tbody tr th:only-of-type {\n",
       "        vertical-align: middle;\n",
       "    }\n",
       "\n",
       "    .dataframe tbody tr th {\n",
       "        vertical-align: top;\n",
       "    }\n",
       "\n",
       "    .dataframe thead th {\n",
       "        text-align: right;\n",
       "    }\n",
       "</style>\n",
       "<table border=\"1\" class=\"dataframe\">\n",
       "  <thead>\n",
       "    <tr style=\"text-align: right;\">\n",
       "      <th></th>\n",
       "      <th>count</th>\n",
       "      <th>&lt;lambda_0&gt;</th>\n",
       "    </tr>\n",
       "    <tr>\n",
       "      <th>required_car_parking_spaces</th>\n",
       "      <th></th>\n",
       "      <th></th>\n",
       "    </tr>\n",
       "  </thead>\n",
       "  <tbody>\n",
       "    <tr>\n",
       "      <th>Не нужно парковочное место</th>\n",
       "      <td>61547</td>\n",
       "      <td>39.07%</td>\n",
       "    </tr>\n",
       "    <tr>\n",
       "      <th>Нужны парковочные места</th>\n",
       "      <td>3682</td>\n",
       "      <td>0.00%</td>\n",
       "    </tr>\n",
       "  </tbody>\n",
       "</table>\n",
       "</div>"
      ],
      "text/plain": [
       "                             count <lambda_0>\n",
       "required_car_parking_spaces                  \n",
       "Не нужно парковочное место   61547    39.07% \n",
       "Нужны парковочные места       3682     0.00% "
      ]
     },
     "execution_count": 124,
     "metadata": {},
     "output_type": "execute_result"
    }
   ],
   "source": [
    "hotel_train.groupby(hotel_train.required_car_parking_spaces.apply(\n",
    "    lambda x: 'Не нужно парковочное место' if x == 0 else 'Нужны парковочные места'))['is_canceled'].agg(\n",
    "    ['count', lambda x: '{:.2%} '.format(x.mean())])"
   ]
  },
  {
   "cell_type": "markdown",
   "metadata": {},
   "source": [
    "* Клиенты, которым необходимо парковочное место, предположительно не отменяют бронь"
   ]
  },
  {
   "cell_type": "code",
   "execution_count": 125,
   "metadata": {},
   "outputs": [
    {
     "data": {
      "text/html": [
       "<div>\n",
       "<style scoped>\n",
       "    .dataframe tbody tr th:only-of-type {\n",
       "        vertical-align: middle;\n",
       "    }\n",
       "\n",
       "    .dataframe tbody tr th {\n",
       "        vertical-align: top;\n",
       "    }\n",
       "\n",
       "    .dataframe thead th {\n",
       "        text-align: right;\n",
       "    }\n",
       "</style>\n",
       "<table border=\"1\" class=\"dataframe\">\n",
       "  <thead>\n",
       "    <tr style=\"text-align: right;\">\n",
       "      <th></th>\n",
       "      <th>count</th>\n",
       "      <th>mean</th>\n",
       "    </tr>\n",
       "    <tr>\n",
       "      <th>reserved_room_type</th>\n",
       "      <th></th>\n",
       "      <th></th>\n",
       "    </tr>\n",
       "  </thead>\n",
       "  <tbody>\n",
       "    <tr>\n",
       "      <th>A</th>\n",
       "      <td>50501</td>\n",
       "      <td>39.05%</td>\n",
       "    </tr>\n",
       "    <tr>\n",
       "      <th>G</th>\n",
       "      <td>592</td>\n",
       "      <td>32.26%</td>\n",
       "    </tr>\n",
       "    <tr>\n",
       "      <th>D</th>\n",
       "      <td>9387</td>\n",
       "      <td>30.58%</td>\n",
       "    </tr>\n",
       "    <tr>\n",
       "      <th>B</th>\n",
       "      <td>860</td>\n",
       "      <td>30.35%</td>\n",
       "    </tr>\n",
       "    <tr>\n",
       "      <th>F</th>\n",
       "      <td>1213</td>\n",
       "      <td>28.69%</td>\n",
       "    </tr>\n",
       "    <tr>\n",
       "      <th>E</th>\n",
       "      <td>2448</td>\n",
       "      <td>24.84%</td>\n",
       "    </tr>\n",
       "    <tr>\n",
       "      <th>C</th>\n",
       "      <td>228</td>\n",
       "      <td>18.86%</td>\n",
       "    </tr>\n",
       "  </tbody>\n",
       "</table>\n",
       "</div>"
      ],
      "text/plain": [
       "                    count    mean\n",
       "reserved_room_type               \n",
       "A                   50501  39.05%\n",
       "G                     592  32.26%\n",
       "D                    9387  30.58%\n",
       "B                     860  30.35%\n",
       "F                    1213  28.69%\n",
       "E                    2448  24.84%\n",
       "C                     228  18.86%"
      ]
     },
     "execution_count": 125,
     "metadata": {},
     "output_type": "execute_result"
    }
   ],
   "source": [
    "view(hotel_train, 'reserved_room_type')"
   ]
  },
  {
   "cell_type": "markdown",
   "metadata": {},
   "source": [
    "* Клиенты, с заказом номера типа \"A\", предположительно отменяют бронь чаще остальных (39,05%), а клиенты с заказом номера типа \"C\" реже остальных (18.86%)"
   ]
  },
  {
   "cell_type": "code",
   "execution_count": 126,
   "metadata": {},
   "outputs": [
    {
     "data": {
      "text/html": [
       "<div>\n",
       "<style scoped>\n",
       "    .dataframe tbody tr th:only-of-type {\n",
       "        vertical-align: middle;\n",
       "    }\n",
       "\n",
       "    .dataframe tbody tr th {\n",
       "        vertical-align: top;\n",
       "    }\n",
       "\n",
       "    .dataframe thead th {\n",
       "        text-align: right;\n",
       "    }\n",
       "</style>\n",
       "<table border=\"1\" class=\"dataframe\">\n",
       "  <thead>\n",
       "    <tr style=\"text-align: right;\">\n",
       "      <th></th>\n",
       "      <th>count</th>\n",
       "      <th>mean</th>\n",
       "    </tr>\n",
       "    <tr>\n",
       "      <th>stays_in_weekend_nights</th>\n",
       "      <th></th>\n",
       "      <th></th>\n",
       "    </tr>\n",
       "  </thead>\n",
       "  <tbody>\n",
       "    <tr>\n",
       "      <th>3</th>\n",
       "      <td>261</td>\n",
       "      <td>37.93%</td>\n",
       "    </tr>\n",
       "    <tr>\n",
       "      <th>0</th>\n",
       "      <td>29738</td>\n",
       "      <td>37.67%</td>\n",
       "    </tr>\n",
       "    <tr>\n",
       "      <th>2</th>\n",
       "      <td>17357</td>\n",
       "      <td>36.24%</td>\n",
       "    </tr>\n",
       "    <tr>\n",
       "      <th>1</th>\n",
       "      <td>17721</td>\n",
       "      <td>36.14%</td>\n",
       "    </tr>\n",
       "    <tr>\n",
       "      <th>4</th>\n",
       "      <td>152</td>\n",
       "      <td>30.92%</td>\n",
       "    </tr>\n",
       "  </tbody>\n",
       "</table>\n",
       "</div>"
      ],
      "text/plain": [
       "                         count    mean\n",
       "stays_in_weekend_nights               \n",
       "3                          261  37.93%\n",
       "0                        29738  37.67%\n",
       "2                        17357  36.24%\n",
       "1                        17721  36.14%\n",
       "4                          152  30.92%"
      ]
     },
     "execution_count": 126,
     "metadata": {},
     "output_type": "execute_result"
    }
   ],
   "source": [
    "view(hotel_train, 'stays_in_weekend_nights')"
   ]
  },
  {
   "cell_type": "markdown",
   "metadata": {},
   "source": [
    "* Нет чётко выраженной зависимости от кол-ва ночей в выходные дни"
   ]
  },
  {
   "cell_type": "code",
   "execution_count": 127,
   "metadata": {},
   "outputs": [
    {
     "data": {
      "text/html": [
       "<div>\n",
       "<style scoped>\n",
       "    .dataframe tbody tr th:only-of-type {\n",
       "        vertical-align: middle;\n",
       "    }\n",
       "\n",
       "    .dataframe tbody tr th {\n",
       "        vertical-align: top;\n",
       "    }\n",
       "\n",
       "    .dataframe thead th {\n",
       "        text-align: right;\n",
       "    }\n",
       "</style>\n",
       "<table border=\"1\" class=\"dataframe\">\n",
       "  <thead>\n",
       "    <tr style=\"text-align: right;\">\n",
       "      <th></th>\n",
       "      <th>count</th>\n",
       "      <th>mean</th>\n",
       "    </tr>\n",
       "    <tr>\n",
       "      <th>stays_in_week_nights</th>\n",
       "      <th></th>\n",
       "      <th></th>\n",
       "    </tr>\n",
       "  </thead>\n",
       "  <tbody>\n",
       "    <tr>\n",
       "      <th>2</th>\n",
       "      <td>20137</td>\n",
       "      <td>44.7%</td>\n",
       "    </tr>\n",
       "    <tr>\n",
       "      <th>6</th>\n",
       "      <td>635</td>\n",
       "      <td>35.59%</td>\n",
       "    </tr>\n",
       "    <tr>\n",
       "      <th>3</th>\n",
       "      <td>12341</td>\n",
       "      <td>35.45%</td>\n",
       "    </tr>\n",
       "    <tr>\n",
       "      <th>4</th>\n",
       "      <td>5131</td>\n",
       "      <td>34.85%</td>\n",
       "    </tr>\n",
       "    <tr>\n",
       "      <th>5</th>\n",
       "      <td>5128</td>\n",
       "      <td>33.11%</td>\n",
       "    </tr>\n",
       "    <tr>\n",
       "      <th>1</th>\n",
       "      <td>17850</td>\n",
       "      <td>32.61%</td>\n",
       "    </tr>\n",
       "    <tr>\n",
       "      <th>0</th>\n",
       "      <td>4007</td>\n",
       "      <td>28.33%</td>\n",
       "    </tr>\n",
       "  </tbody>\n",
       "</table>\n",
       "</div>"
      ],
      "text/plain": [
       "                      count    mean\n",
       "stays_in_week_nights               \n",
       "2                     20137   44.7%\n",
       "6                       635  35.59%\n",
       "3                     12341  35.45%\n",
       "4                      5131  34.85%\n",
       "5                      5128  33.11%\n",
       "1                     17850  32.61%\n",
       "0                      4007  28.33%"
      ]
     },
     "execution_count": 127,
     "metadata": {},
     "output_type": "execute_result"
    }
   ],
   "source": [
    "view(hotel_train, 'stays_in_week_nights')"
   ]
  },
  {
   "cell_type": "markdown",
   "metadata": {},
   "source": [
    "* Клиенты, с двумя забронированными будними днями, предположительно отменяют бронь немного чаще остальных, 44,7% против 35,59% и меньше"
   ]
  },
  {
   "cell_type": "code",
   "execution_count": 128,
   "metadata": {},
   "outputs": [
    {
     "data": {
      "text/html": [
       "<div>\n",
       "<style scoped>\n",
       "    .dataframe tbody tr th:only-of-type {\n",
       "        vertical-align: middle;\n",
       "    }\n",
       "\n",
       "    .dataframe tbody tr th {\n",
       "        vertical-align: top;\n",
       "    }\n",
       "\n",
       "    .dataframe thead th {\n",
       "        text-align: right;\n",
       "    }\n",
       "</style>\n",
       "<table border=\"1\" class=\"dataframe\">\n",
       "  <thead>\n",
       "    <tr style=\"text-align: right;\">\n",
       "      <th></th>\n",
       "      <th>count</th>\n",
       "      <th>mean</th>\n",
       "    </tr>\n",
       "    <tr>\n",
       "      <th>total_nights</th>\n",
       "      <th></th>\n",
       "      <th></th>\n",
       "    </tr>\n",
       "  </thead>\n",
       "  <tbody>\n",
       "    <tr>\n",
       "      <th>2</th>\n",
       "      <td>16795</td>\n",
       "      <td>45.11%</td>\n",
       "    </tr>\n",
       "    <tr>\n",
       "      <th>6</th>\n",
       "      <td>2078</td>\n",
       "      <td>41.0%</td>\n",
       "    </tr>\n",
       "    <tr>\n",
       "      <th>3</th>\n",
       "      <td>15652</td>\n",
       "      <td>40.19%</td>\n",
       "    </tr>\n",
       "    <tr>\n",
       "      <th>9</th>\n",
       "      <td>152</td>\n",
       "      <td>40.13%</td>\n",
       "    </tr>\n",
       "    <tr>\n",
       "      <th>4</th>\n",
       "      <td>9629</td>\n",
       "      <td>35.02%</td>\n",
       "    </tr>\n",
       "    <tr>\n",
       "      <th>8</th>\n",
       "      <td>542</td>\n",
       "      <td>33.76%</td>\n",
       "    </tr>\n",
       "    <tr>\n",
       "      <th>10</th>\n",
       "      <td>118</td>\n",
       "      <td>32.2%</td>\n",
       "    </tr>\n",
       "    <tr>\n",
       "      <th>7</th>\n",
       "      <td>3853</td>\n",
       "      <td>31.85%</td>\n",
       "    </tr>\n",
       "    <tr>\n",
       "      <th>5</th>\n",
       "      <td>4288</td>\n",
       "      <td>31.3%</td>\n",
       "    </tr>\n",
       "    <tr>\n",
       "      <th>1</th>\n",
       "      <td>12122</td>\n",
       "      <td>25.59%</td>\n",
       "    </tr>\n",
       "  </tbody>\n",
       "</table>\n",
       "</div>"
      ],
      "text/plain": [
       "              count    mean\n",
       "total_nights               \n",
       "2             16795  45.11%\n",
       "6              2078   41.0%\n",
       "3             15652  40.19%\n",
       "9               152  40.13%\n",
       "4              9629  35.02%\n",
       "8               542  33.76%\n",
       "10              118   32.2%\n",
       "7              3853  31.85%\n",
       "5              4288   31.3%\n",
       "1             12122  25.59%"
      ]
     },
     "execution_count": 128,
     "metadata": {},
     "output_type": "execute_result"
    }
   ],
   "source": [
    "view(hotel_train, 'total_nights')"
   ]
  },
  {
   "cell_type": "markdown",
   "metadata": {},
   "source": [
    "* Клиенты, с двумя забронированными днями, предположительно отменяют бронь немного чаще остальных, 45,1% против 41% и меньше, клиенты с одним забронированным днём, предположительно отменяют бронь реже остальных (25,59%)"
   ]
  },
  {
   "cell_type": "code",
   "execution_count": 129,
   "metadata": {
    "scrolled": true
   },
   "outputs": [
    {
     "data": {
      "text/html": [
       "<div>\n",
       "<style scoped>\n",
       "    .dataframe tbody tr th:only-of-type {\n",
       "        vertical-align: middle;\n",
       "    }\n",
       "\n",
       "    .dataframe tbody tr th {\n",
       "        vertical-align: top;\n",
       "    }\n",
       "\n",
       "    .dataframe thead th {\n",
       "        text-align: right;\n",
       "    }\n",
       "</style>\n",
       "<table border=\"1\" class=\"dataframe\">\n",
       "  <thead>\n",
       "    <tr style=\"text-align: right;\">\n",
       "      <th></th>\n",
       "      <th>count</th>\n",
       "      <th>&lt;lambda_0&gt;</th>\n",
       "    </tr>\n",
       "    <tr>\n",
       "      <th>total_of_special_requests</th>\n",
       "      <th></th>\n",
       "      <th></th>\n",
       "    </tr>\n",
       "  </thead>\n",
       "  <tbody>\n",
       "    <tr>\n",
       "      <th>Есть</th>\n",
       "      <td>24558</td>\n",
       "      <td>18.50%</td>\n",
       "    </tr>\n",
       "    <tr>\n",
       "      <th>Нет</th>\n",
       "      <td>40671</td>\n",
       "      <td>47.95%</td>\n",
       "    </tr>\n",
       "  </tbody>\n",
       "</table>\n",
       "</div>"
      ],
      "text/plain": [
       "                           count <lambda_0>\n",
       "total_of_special_requests                  \n",
       "Есть                       24558    18.50% \n",
       "Нет                        40671    47.95% "
      ]
     },
     "execution_count": 129,
     "metadata": {},
     "output_type": "execute_result"
    }
   ],
   "source": [
    "hotel_train.groupby(hotel_train.total_of_special_requests.apply(\n",
    "    lambda x: 'Нет' if x == 0 else 'Есть'))['is_canceled'].agg(\n",
    "    ['count', lambda x: '{:.2%} '.format(x.mean())])"
   ]
  },
  {
   "cell_type": "code",
   "execution_count": 130,
   "metadata": {},
   "outputs": [
    {
     "data": {
      "image/png": "[encoded data removed]",
      "text/plain": [
       "<Figure size 720x360 with 1 Axes>"
      ]
     },
     "metadata": {
      "needs_background": "light"
     },
     "output_type": "display_data"
    }
   ],
   "source": [
    "hotel_train.groupby('total_of_special_requests')['is_canceled'].mean().plot(figsize=(10, 5), grid=True, style='-o')\n",
    "plt.xlabel(\"Кол-во отметок\")\n",
    "plt.ylabel(\"Вероятность в %\")\n",
    "plt.title(\"Зависимость отмены бронирования, от кол-ва специальных отметок\")\n",
    "plt.show()    "
   ]
  },
  {
   "cell_type": "markdown",
   "metadata": {},
   "source": [
    "* Клиенты, у которых отсутствуют специальные отметки, предположительно отменяют бронь намного чаще, 47,95% против 18,5%. По мере увеличения кол-ва специальных отметок, вероятность отмены бронирования снижается"
   ]
  },
  {
   "cell_type": "code",
   "execution_count": 131,
   "metadata": {},
   "outputs": [
    {
     "data": {
      "text/html": [
       "<div>\n",
       "<style scoped>\n",
       "    .dataframe tbody tr th:only-of-type {\n",
       "        vertical-align: middle;\n",
       "    }\n",
       "\n",
       "    .dataframe tbody tr th {\n",
       "        vertical-align: top;\n",
       "    }\n",
       "\n",
       "    .dataframe thead th {\n",
       "        text-align: right;\n",
       "    }\n",
       "</style>\n",
       "<table border=\"1\" class=\"dataframe\">\n",
       "  <thead>\n",
       "    <tr style=\"text-align: right;\">\n",
       "      <th></th>\n",
       "      <th>count</th>\n",
       "      <th>mean</th>\n",
       "    </tr>\n",
       "    <tr>\n",
       "      <th>arrival_date_month</th>\n",
       "      <th></th>\n",
       "      <th></th>\n",
       "    </tr>\n",
       "  </thead>\n",
       "  <tbody>\n",
       "    <tr>\n",
       "      <th>June</th>\n",
       "      <td>4659</td>\n",
       "      <td>41.45%</td>\n",
       "    </tr>\n",
       "    <tr>\n",
       "      <th>September</th>\n",
       "      <td>8782</td>\n",
       "      <td>39.71%</td>\n",
       "    </tr>\n",
       "    <tr>\n",
       "      <th>April</th>\n",
       "      <td>4804</td>\n",
       "      <td>39.26%</td>\n",
       "    </tr>\n",
       "    <tr>\n",
       "      <th>August</th>\n",
       "      <td>6678</td>\n",
       "      <td>38.89%</td>\n",
       "    </tr>\n",
       "    <tr>\n",
       "      <th>July</th>\n",
       "      <td>5718</td>\n",
       "      <td>38.84%</td>\n",
       "    </tr>\n",
       "    <tr>\n",
       "      <th>October</th>\n",
       "      <td>9255</td>\n",
       "      <td>38.53%</td>\n",
       "    </tr>\n",
       "    <tr>\n",
       "      <th>May</th>\n",
       "      <td>4677</td>\n",
       "      <td>35.77%</td>\n",
       "    </tr>\n",
       "    <tr>\n",
       "      <th>February</th>\n",
       "      <td>3358</td>\n",
       "      <td>35.2%</td>\n",
       "    </tr>\n",
       "    <tr>\n",
       "      <th>December</th>\n",
       "      <td>5497</td>\n",
       "      <td>34.8%</td>\n",
       "    </tr>\n",
       "    <tr>\n",
       "      <th>November</th>\n",
       "      <td>5761</td>\n",
       "      <td>31.66%</td>\n",
       "    </tr>\n",
       "    <tr>\n",
       "      <th>March</th>\n",
       "      <td>4148</td>\n",
       "      <td>30.79%</td>\n",
       "    </tr>\n",
       "    <tr>\n",
       "      <th>January</th>\n",
       "      <td>1892</td>\n",
       "      <td>25.74%</td>\n",
       "    </tr>\n",
       "  </tbody>\n",
       "</table>\n",
       "</div>"
      ],
      "text/plain": [
       "                    count    mean\n",
       "arrival_date_month               \n",
       "June                 4659  41.45%\n",
       "September            8782  39.71%\n",
       "April                4804  39.26%\n",
       "August               6678  38.89%\n",
       "July                 5718  38.84%\n",
       "October              9255  38.53%\n",
       "May                  4677  35.77%\n",
       "February             3358   35.2%\n",
       "December             5497   34.8%\n",
       "November             5761  31.66%\n",
       "March                4148  30.79%\n",
       "January              1892  25.74%"
      ]
     },
     "execution_count": 131,
     "metadata": {},
     "output_type": "execute_result"
    }
   ],
   "source": [
    "view(hotel_train, 'arrival_date_month')"
   ]
  },
  {
   "cell_type": "markdown",
   "metadata": {},
   "source": [
    "* Клиенты, которые заезжают в отель в июне, предположительно отменяют бронь чаще остальных (41,45%), а клиенты, которые заезжают в отель в январе, предположительно отменяют бронь реже остальных (25,74%)"
   ]
  },
  {
   "cell_type": "markdown",
   "metadata": {},
   "source": [
    "***Вывод***\n",
    "\n",
    "Признаки «ненадёжного» клиента:\n",
    "\n",
    "* Клиенты, которые заселяются без младенцев, предположительная вероятность отмены брони 36,99%, против 18,14%;\n",
    "* Клиенты, которые не делали хотя бы одно изменение в заказе, предположительная вероятность отмены брони 40,42%, против 14,7%;\n",
    "* Клиенты из Португалии и Китая, предположительная вероятность отмены брони 57,59% и 44,49% соответственно;\n",
    "* Клиенты, которые оформляют заказ не группой, предположительная вероятность отмены брони 29-39%, против 8,36%;\n",
    "* Клиенты, которые ожидали подтверждения заказа от одного дня и более, предположительная вероятность отмены брони 65,73%, против 35,36%;\n",
    "* Клиенты, с каналом дистрибуции \"TA/TO\", предположительная вероятность отмены брони 40,41%, против 21% и меньше;\n",
    "* Клиенты, которые ранее не бронировали номера, предположительная вероятность отмены брони 37,19%, против 25,24% ;\n",
    "* Чем больше кол-во дней от момента бронирования до момента прибытия, тем выше вероятность отказа клиента от брони;\n",
    "* Клиенты, у которых включён завтрак, обед и ужин, предположительная вероятность отмены брони 68,96% против 38,51% и меньше;\n",
    "* Клиенты, у которых отсутствуют подтвержденные заказы, предположительная вероятность отмены брони 37,6% против 6,35%;\n",
    "* Клиенты, у которых есть отменённые заказы, предположительная вероятность отмены брони 97,48% против 31,29%;\n",
    "* Клиенты, которым не нужно парковочное место, предположительная вероятность отмены брони 39,07%, а клиенты, которым нужно парковочное место не отменяют бронь;\n",
    "* Клиенты, с заказом номера типа \"A\", предположительная вероятность отмены брони 39,05%, против 32,26% и меньше;\n",
    "* Клиенты, у которых отсутствуют специальные отметки, предположительная вероятность отмены брони 47,95% против 18,5%. По мере увеличения кол-ва специальных отметок, вероятность отмены бронирования снижается."
   ]
  },
  {
   "cell_type": "markdown",
   "metadata": {},
   "source": [
    "## Общий вывод"
   ]
  },
  {
   "cell_type": "markdown",
   "metadata": {},
   "source": [
    "* Рекомендую внедрить модель логистической регрессии, она приносит наибольшую прибыль - 9,64 млн. руб. за неполный 2017 г.\n",
    "* Показатели каждой модели:\n",
    "    * Случайный лес:\n",
    "        * Модель окупает себя, чистая прибыль от внедрения модели 8,92 млн. руб.;\n",
    "        * Средняя прибыль после внедрения модели выросла до 1425.19, рост составил - 25.29%;\n",
    "        * Показатели модели на тестовой выборке:\n",
    "            * Значение F1-меры: 0.6656;\n",
    "            * Значение AUC-ROC: 0.8439;\n",
    "            * Доля правильных ответов: 0.77.\n",
    "    * Логистическая регрессия:\n",
    "        * Модель окупает себя, чистая прибыль от внедрения модели 9,64 млн. руб.;\n",
    "        * Средняя прибыль после внедрения модели выросла до 1447.16, рост составил - 27.22%;\n",
    "        * Показатели модели на тестовой выборке:\n",
    "            * Значение F1-меры: 0.6732;\n",
    "            * Значение AUC-ROC: 0.8276;\n",
    "            * Доля правильных ответов: 0.7591.\n",
    "    * KNN:\n",
    "        * Модель окупает себя, чистая прибыль от внедрения модели 5,32 млн. руб.;\n",
    "        * Средняя прибыль после внедрения модели выросла до 1313.92 руб., рост составил - 15.51%;\n",
    "        * Показатели модели на тестовой выборке:\n",
    "            * Значение F1-меры: 0.4807;\n",
    "            * Значение AUC-ROC: 0.7284;\n",
    "            * Доля правильных ответов: 0.7018."
   ]
  },
  {
   "cell_type": "markdown",
   "metadata": {},
   "source": [
    "Сводная таблица с моделями и результами:"
   ]
  },
  {
   "cell_type": "code",
   "execution_count": 132,
   "metadata": {},
   "outputs": [
    {
     "data": {
      "text/html": [
       "<div>\n",
       "<style scoped>\n",
       "    .dataframe tbody tr th:only-of-type {\n",
       "        vertical-align: middle;\n",
       "    }\n",
       "\n",
       "    .dataframe tbody tr th {\n",
       "        vertical-align: top;\n",
       "    }\n",
       "\n",
       "    .dataframe thead th {\n",
       "        text-align: right;\n",
       "    }\n",
       "</style>\n",
       "<table border=\"1\" class=\"dataframe\">\n",
       "  <thead>\n",
       "    <tr style=\"text-align: right;\">\n",
       "      <th></th>\n",
       "      <th>Name</th>\n",
       "      <th>F1</th>\n",
       "      <th>AUC-ROC</th>\n",
       "      <th>Score</th>\n",
       "      <th>Profit, m. rub</th>\n",
       "      <th>Profit_avg, rub</th>\n",
       "      <th>Profit_growth</th>\n",
       "    </tr>\n",
       "  </thead>\n",
       "  <tbody>\n",
       "    <tr>\n",
       "      <th>0</th>\n",
       "      <td>RandomForest</td>\n",
       "      <td>0.6656</td>\n",
       "      <td>0.8439</td>\n",
       "      <td>0.7700</td>\n",
       "      <td>8.92</td>\n",
       "      <td>1425.19</td>\n",
       "      <td>25.29%</td>\n",
       "    </tr>\n",
       "    <tr>\n",
       "      <th>1</th>\n",
       "      <td>LogisticRegression</td>\n",
       "      <td>0.6732</td>\n",
       "      <td>0.8276</td>\n",
       "      <td>0.7591</td>\n",
       "      <td>9.64</td>\n",
       "      <td>1447.16</td>\n",
       "      <td>27.22%</td>\n",
       "    </tr>\n",
       "    <tr>\n",
       "      <th>2</th>\n",
       "      <td>KNN</td>\n",
       "      <td>0.4807</td>\n",
       "      <td>0.7284</td>\n",
       "      <td>0.7018</td>\n",
       "      <td>5.32</td>\n",
       "      <td>1313.92</td>\n",
       "      <td>15.51%</td>\n",
       "    </tr>\n",
       "  </tbody>\n",
       "</table>\n",
       "</div>"
      ],
      "text/plain": [
       "                 Name      F1  AUC-ROC   Score  Profit, m. rub  \\\n",
       "0        RandomForest  0.6656   0.8439  0.7700            8.92   \n",
       "1  LogisticRegression  0.6732   0.8276  0.7591            9.64   \n",
       "2                 KNN  0.4807   0.7284  0.7018            5.32   \n",
       "\n",
       "   Profit_avg, rub Profit_growth  \n",
       "0          1425.19        25.29%  \n",
       "1          1447.16        27.22%  \n",
       "2          1313.92        15.51%  "
      ]
     },
     "execution_count": 132,
     "metadata": {},
     "output_type": "execute_result"
    }
   ],
   "source": [
    " table_estimation"
   ]
  },
  {
   "cell_type": "markdown",
   "metadata": {},
   "source": [
    "Признаки «ненадёжного» клиента:\n",
    "\n",
    "* Клиенты, которые заселяются без младенцев, предположительная вероятность отмены брони 36,99%, против 18,14%;\n",
    "* Клиенты, которые не делали хотя бы одно изменение в заказе, предположительная вероятность отмены брони 40,42%, против 14,7%;\n",
    "* Клиенты из Португалии и Китая, предположительная вероятность отмены брони 57,59% и 44,49% соответственно;\n",
    "* Клиенты, которые оформляют заказ не группой, предположительная вероятность отмены брони 29-39%, против 8,36%;\n",
    "* Клиенты, которые ожидали подтверждения заказа от одного дня и более, предположительная вероятность отмены брони 65,73%, против 35,36%;\n",
    "* Клиенты, с каналом дистрибуции \"TA/TO\", предположительная вероятность отмены брони 40,41%, против 21% и меньше;\n",
    "* Клиенты, которые ранее не бронировали номера, предположительная вероятность отмены брони 37,19%, против 25,24% ;\n",
    "* Чем больше кол-во дней от момента бронирования до момента прибытия, тем выше вероятность отказа клиента от брони;\n",
    "* Клиенты, у которых включён завтрак, обед и ужин, предположительная вероятность отмены брони 68,96% против 38,51% и меньше;\n",
    "* Клиенты, у которых отсутствуют подтвержденные заказы, предположительная вероятность отмены брони 37,6% против 6,35%;\n",
    "* Клиенты, у которых есть отменённые заказы, предположительная вероятность отмены брони 97,48% против 31,29%;\n",
    "* Клиенты, которым не нужно парковочное место, предположительная вероятность отмены брони 39,07%, а клиенты, которым нужно парковочное место не отменяют бронь;\n",
    "* Клиенты, с заказом номера типа \"A\", предположительная вероятность отмены брони 39,05%, против 32,26% и меньше;\n",
    "* Клиенты, у которых отсутствуют специальные отметки, предположительная вероятность отмены брони 47,95% против 18,5%. По мере увеличения кол-ва специальных отметок, вероятность отмены бронирования снижается."
   ]
  }
 ],
 "metadata": {
  "ExecuteTimeLog": [
   {
    "duration": 1824,
    "start_time": "2022-03-14T07:41:21.411Z"
   },
   {
    "duration": 276,
    "start_time": "2022-03-14T07:41:23.238Z"
   },
   {
    "duration": 32,
    "start_time": "2022-03-14T07:41:49.371Z"
   },
   {
    "duration": 28,
    "start_time": "2022-03-14T07:42:15.031Z"
   },
   {
    "duration": 34,
    "start_time": "2022-03-14T07:42:47.519Z"
   },
   {
    "duration": 565,
    "start_time": "2022-03-14T08:31:08.971Z"
   },
   {
    "duration": 5,
    "start_time": "2022-03-14T08:31:16.351Z"
   },
   {
    "duration": 261,
    "start_time": "2022-03-14T08:31:17.532Z"
   },
   {
    "duration": 30,
    "start_time": "2022-03-14T08:31:23.387Z"
   },
   {
    "duration": 15,
    "start_time": "2022-03-14T08:32:45.111Z"
   },
   {
    "duration": 30,
    "start_time": "2022-03-14T08:32:57.251Z"
   },
   {
    "duration": 9,
    "start_time": "2022-03-14T08:33:58.787Z"
   },
   {
    "duration": 13,
    "start_time": "2022-03-14T08:36:08.451Z"
   },
   {
    "duration": 6,
    "start_time": "2022-03-14T08:38:10.847Z"
   },
   {
    "duration": 10,
    "start_time": "2022-03-14T08:38:17.347Z"
   },
   {
    "duration": 35,
    "start_time": "2022-03-14T08:40:37.787Z"
   },
   {
    "duration": 22,
    "start_time": "2022-03-14T08:40:47.651Z"
   },
   {
    "duration": 22,
    "start_time": "2022-03-14T08:41:17.639Z"
   },
   {
    "duration": 47,
    "start_time": "2022-03-14T08:41:21.980Z"
   },
   {
    "duration": 46,
    "start_time": "2022-03-14T08:41:27.921Z"
   },
   {
    "duration": 21,
    "start_time": "2022-03-14T08:41:43.331Z"
   },
   {
    "duration": 9,
    "start_time": "2022-03-14T08:45:02.619Z"
   },
   {
    "duration": 15,
    "start_time": "2022-03-14T08:46:26.559Z"
   },
   {
    "duration": 10,
    "start_time": "2022-03-14T08:46:28.898Z"
   },
   {
    "duration": 8,
    "start_time": "2022-03-14T08:46:36.519Z"
   },
   {
    "duration": 29,
    "start_time": "2022-03-14T08:49:15.940Z"
   },
   {
    "duration": 9,
    "start_time": "2022-03-14T08:49:59.431Z"
   },
   {
    "duration": 9,
    "start_time": "2022-03-14T08:50:06.440Z"
   },
   {
    "duration": 10,
    "start_time": "2022-03-14T08:53:08.618Z"
   },
   {
    "duration": 5,
    "start_time": "2022-03-14T08:54:19.059Z"
   },
   {
    "duration": 8,
    "start_time": "2022-03-14T08:54:21.730Z"
   },
   {
    "duration": 9,
    "start_time": "2022-03-14T08:57:08.418Z"
   },
   {
    "duration": 10,
    "start_time": "2022-03-14T08:58:22.087Z"
   },
   {
    "duration": 5,
    "start_time": "2022-03-14T08:58:25.418Z"
   },
   {
    "duration": 10,
    "start_time": "2022-03-14T08:58:25.740Z"
   },
   {
    "duration": 9,
    "start_time": "2022-03-14T08:59:11.159Z"
   },
   {
    "duration": 5,
    "start_time": "2022-03-14T09:01:41.119Z"
   },
   {
    "duration": 283,
    "start_time": "2022-03-14T09:01:41.133Z"
   },
   {
    "duration": 29,
    "start_time": "2022-03-14T09:01:41.418Z"
   },
   {
    "duration": 36,
    "start_time": "2022-03-14T09:01:41.449Z"
   },
   {
    "duration": 9,
    "start_time": "2022-03-14T09:01:46.607Z"
   },
   {
    "duration": 27,
    "start_time": "2022-03-14T09:01:47.571Z"
   },
   {
    "duration": 9,
    "start_time": "2022-03-14T09:01:52.251Z"
   },
   {
    "duration": 11,
    "start_time": "2022-03-14T09:01:53.431Z"
   },
   {
    "duration": 9,
    "start_time": "2022-03-14T09:02:00.612Z"
   },
   {
    "duration": 34,
    "start_time": "2022-03-14T09:02:02.767Z"
   },
   {
    "duration": 8,
    "start_time": "2022-03-14T09:02:07.212Z"
   },
   {
    "duration": 21,
    "start_time": "2022-03-14T09:02:08.280Z"
   },
   {
    "duration": 9,
    "start_time": "2022-03-14T09:02:10.587Z"
   },
   {
    "duration": 12,
    "start_time": "2022-03-14T09:02:15.340Z"
   },
   {
    "duration": 8,
    "start_time": "2022-03-14T09:02:20.598Z"
   },
   {
    "duration": 9,
    "start_time": "2022-03-14T09:02:22.531Z"
   },
   {
    "duration": 10,
    "start_time": "2022-03-14T09:02:27.412Z"
   },
   {
    "duration": 9,
    "start_time": "2022-03-14T09:02:37.979Z"
   },
   {
    "duration": 8,
    "start_time": "2022-03-14T09:02:40.239Z"
   },
   {
    "duration": 1522,
    "start_time": "2022-03-14T10:46:13.923Z"
   },
   {
    "duration": 270,
    "start_time": "2022-03-14T10:46:15.448Z"
   },
   {
    "duration": 32,
    "start_time": "2022-03-14T10:46:15.721Z"
   },
   {
    "duration": 34,
    "start_time": "2022-03-14T10:46:15.755Z"
   },
   {
    "duration": 20,
    "start_time": "2022-03-14T10:46:15.791Z"
   },
   {
    "duration": 34,
    "start_time": "2022-03-14T10:46:15.814Z"
   },
   {
    "duration": 26,
    "start_time": "2022-03-14T10:46:15.850Z"
   },
   {
    "duration": 9,
    "start_time": "2022-03-14T10:46:15.878Z"
   },
   {
    "duration": 35,
    "start_time": "2022-03-14T10:46:15.890Z"
   },
   {
    "duration": 41,
    "start_time": "2022-03-14T10:46:15.928Z"
   },
   {
    "duration": 8,
    "start_time": "2022-03-14T10:46:15.971Z"
   },
   {
    "duration": 22,
    "start_time": "2022-03-14T10:46:15.982Z"
   },
   {
    "duration": 17,
    "start_time": "2022-03-14T10:46:16.007Z"
   },
   {
    "duration": 20,
    "start_time": "2022-03-14T10:46:16.027Z"
   },
   {
    "duration": 8,
    "start_time": "2022-03-14T10:46:16.073Z"
   },
   {
    "duration": 19,
    "start_time": "2022-03-14T10:46:16.083Z"
   },
   {
    "duration": 29,
    "start_time": "2022-03-14T10:46:16.104Z"
   },
   {
    "duration": 20,
    "start_time": "2022-03-14T10:46:16.135Z"
   },
   {
    "duration": 15,
    "start_time": "2022-03-14T10:46:16.158Z"
   },
   {
    "duration": 9,
    "start_time": "2022-03-14T10:46:38.381Z"
   },
   {
    "duration": 17,
    "start_time": "2022-03-14T10:47:13.413Z"
   },
   {
    "duration": 16,
    "start_time": "2022-03-14T10:48:52.921Z"
   },
   {
    "duration": 8340,
    "start_time": "2022-03-14T10:49:52.481Z"
   },
   {
    "duration": 10,
    "start_time": "2022-03-14T10:53:32.761Z"
   },
   {
    "duration": 16,
    "start_time": "2022-03-14T10:54:29.033Z"
   },
   {
    "duration": 8,
    "start_time": "2022-03-14T10:55:45.253Z"
   },
   {
    "duration": 15,
    "start_time": "2022-03-14T10:56:28.857Z"
   },
   {
    "duration": 47,
    "start_time": "2022-03-14T10:58:21.455Z"
   },
   {
    "duration": 11,
    "start_time": "2022-03-14T10:58:35.447Z"
   },
   {
    "duration": 10,
    "start_time": "2022-03-14T10:58:45.707Z"
   },
   {
    "duration": 12,
    "start_time": "2022-03-14T10:59:04.387Z"
   },
   {
    "duration": 17,
    "start_time": "2022-03-14T10:59:12.186Z"
   },
   {
    "duration": 11,
    "start_time": "2022-03-14T10:59:26.787Z"
   },
   {
    "duration": 12,
    "start_time": "2022-03-14T10:59:38.035Z"
   },
   {
    "duration": 13,
    "start_time": "2022-03-14T11:00:04.023Z"
   },
   {
    "duration": 14,
    "start_time": "2022-03-14T11:00:32.563Z"
   },
   {
    "duration": 13,
    "start_time": "2022-03-14T11:00:36.784Z"
   },
   {
    "duration": 31,
    "start_time": "2022-03-14T11:01:28.755Z"
   },
   {
    "duration": 27,
    "start_time": "2022-03-14T11:01:54.466Z"
   },
   {
    "duration": 11,
    "start_time": "2022-03-14T11:02:09.304Z"
   },
   {
    "duration": 321,
    "start_time": "2022-03-14T11:02:31.437Z"
   },
   {
    "duration": 10,
    "start_time": "2022-03-14T11:02:36.204Z"
   },
   {
    "duration": 7,
    "start_time": "2022-03-14T11:03:19.467Z"
   },
   {
    "duration": 100,
    "start_time": "2022-03-14T11:04:12.827Z"
   },
   {
    "duration": 10,
    "start_time": "2022-03-14T11:04:32.983Z"
   },
   {
    "duration": 7,
    "start_time": "2022-03-14T11:10:58.924Z"
   },
   {
    "duration": 15,
    "start_time": "2022-03-14T11:11:15.000Z"
   },
   {
    "duration": 5,
    "start_time": "2022-03-14T11:11:24.040Z"
   },
   {
    "duration": 9,
    "start_time": "2022-03-14T11:14:08.604Z"
   },
   {
    "duration": 5,
    "start_time": "2022-03-14T11:14:11.152Z"
   },
   {
    "duration": 8,
    "start_time": "2022-03-14T11:14:17.091Z"
   },
   {
    "duration": 8,
    "start_time": "2022-03-14T11:14:18.304Z"
   },
   {
    "duration": 18,
    "start_time": "2022-03-14T11:14:18.315Z"
   },
   {
    "duration": 7,
    "start_time": "2022-03-14T11:14:20.509Z"
   },
   {
    "duration": 14,
    "start_time": "2022-03-14T11:14:23.192Z"
   },
   {
    "duration": 4,
    "start_time": "2022-03-14T11:14:26.264Z"
   },
   {
    "duration": 48,
    "start_time": "2022-03-14T11:16:04.773Z"
   },
   {
    "duration": 19,
    "start_time": "2022-03-14T11:16:06.623Z"
   },
   {
    "duration": 5,
    "start_time": "2022-03-14T11:16:27.645Z"
   },
   {
    "duration": 295,
    "start_time": "2022-03-14T11:16:27.653Z"
   },
   {
    "duration": 54,
    "start_time": "2022-03-14T11:16:27.951Z"
   },
   {
    "duration": 15,
    "start_time": "2022-03-14T11:16:28.009Z"
   },
   {
    "duration": 9,
    "start_time": "2022-03-14T11:16:28.027Z"
   },
   {
    "duration": 54,
    "start_time": "2022-03-14T11:16:28.039Z"
   },
   {
    "duration": 13,
    "start_time": "2022-03-14T11:16:28.096Z"
   },
   {
    "duration": 11,
    "start_time": "2022-03-14T11:16:28.113Z"
   },
   {
    "duration": 48,
    "start_time": "2022-03-14T11:16:28.127Z"
   },
   {
    "duration": 33,
    "start_time": "2022-03-14T11:16:28.177Z"
   },
   {
    "duration": 10,
    "start_time": "2022-03-14T11:16:28.213Z"
   },
   {
    "duration": 54,
    "start_time": "2022-03-14T11:16:28.226Z"
   },
   {
    "duration": 13,
    "start_time": "2022-03-14T11:16:28.283Z"
   },
   {
    "duration": 10,
    "start_time": "2022-03-14T11:16:28.299Z"
   },
   {
    "duration": 12,
    "start_time": "2022-03-14T11:16:28.311Z"
   },
   {
    "duration": 49,
    "start_time": "2022-03-14T11:16:28.326Z"
   },
   {
    "duration": 9,
    "start_time": "2022-03-14T11:16:28.377Z"
   },
   {
    "duration": 11,
    "start_time": "2022-03-14T11:16:28.388Z"
   },
   {
    "duration": 11,
    "start_time": "2022-03-14T11:16:28.401Z"
   },
   {
    "duration": 12,
    "start_time": "2022-03-14T11:16:28.414Z"
   },
   {
    "duration": 17,
    "start_time": "2022-03-14T11:16:28.473Z"
   },
   {
    "duration": 20,
    "start_time": "2022-03-14T11:16:28.492Z"
   },
   {
    "duration": 9,
    "start_time": "2022-03-14T11:16:28.516Z"
   },
   {
    "duration": 50,
    "start_time": "2022-03-14T11:16:28.528Z"
   },
   {
    "duration": 9,
    "start_time": "2022-03-14T11:16:28.581Z"
   },
   {
    "duration": 25,
    "start_time": "2022-03-14T11:16:28.593Z"
   },
   {
    "duration": 15,
    "start_time": "2022-03-14T11:16:30.204Z"
   },
   {
    "duration": 46,
    "start_time": "2022-03-14T11:16:32.780Z"
   },
   {
    "duration": 85,
    "start_time": "2022-03-14T11:19:43.669Z"
   },
   {
    "duration": 8,
    "start_time": "2022-03-14T11:20:47.680Z"
   },
   {
    "duration": 9,
    "start_time": "2022-03-14T11:22:07.864Z"
   },
   {
    "duration": 9,
    "start_time": "2022-03-14T11:23:57.384Z"
   },
   {
    "duration": 16,
    "start_time": "2022-03-14T11:24:15.484Z"
   },
   {
    "duration": 49,
    "start_time": "2022-03-14T11:25:52.590Z"
   },
   {
    "duration": 19,
    "start_time": "2022-03-14T11:26:01.493Z"
   },
   {
    "duration": 8,
    "start_time": "2022-03-14T11:26:26.468Z"
   },
   {
    "duration": 15,
    "start_time": "2022-03-14T11:27:03.581Z"
   },
   {
    "duration": 9,
    "start_time": "2022-03-14T11:27:50.432Z"
   },
   {
    "duration": 486,
    "start_time": "2022-03-14T11:36:17.270Z"
   },
   {
    "duration": 397,
    "start_time": "2022-03-14T11:36:37.662Z"
   },
   {
    "duration": 378,
    "start_time": "2022-03-14T11:36:47.102Z"
   },
   {
    "duration": 392,
    "start_time": "2022-03-14T11:37:50.202Z"
   },
   {
    "duration": 102,
    "start_time": "2022-03-14T11:45:40.303Z"
   },
   {
    "duration": 8,
    "start_time": "2022-03-14T11:45:57.909Z"
   },
   {
    "duration": 32,
    "start_time": "2022-03-14T11:49:29.083Z"
   },
   {
    "duration": 22,
    "start_time": "2022-03-14T11:49:37.443Z"
   },
   {
    "duration": 29,
    "start_time": "2022-03-14T11:56:32.683Z"
   },
   {
    "duration": 6,
    "start_time": "2022-03-14T12:03:12.859Z"
   },
   {
    "duration": 266,
    "start_time": "2022-03-14T12:03:12.867Z"
   },
   {
    "duration": 52,
    "start_time": "2022-03-14T12:03:13.136Z"
   },
   {
    "duration": 15,
    "start_time": "2022-03-14T12:03:13.191Z"
   },
   {
    "duration": 15,
    "start_time": "2022-03-14T12:03:13.209Z"
   },
   {
    "duration": 49,
    "start_time": "2022-03-14T12:03:13.226Z"
   },
   {
    "duration": 9,
    "start_time": "2022-03-14T12:03:13.277Z"
   },
   {
    "duration": 10,
    "start_time": "2022-03-14T12:03:13.289Z"
   },
   {
    "duration": 9,
    "start_time": "2022-03-14T12:03:13.303Z"
   },
   {
    "duration": 76,
    "start_time": "2022-03-14T12:03:13.316Z"
   },
   {
    "duration": 9,
    "start_time": "2022-03-14T12:03:13.394Z"
   },
   {
    "duration": 15,
    "start_time": "2022-03-14T12:03:13.405Z"
   },
   {
    "duration": 50,
    "start_time": "2022-03-14T12:03:13.424Z"
   },
   {
    "duration": 12,
    "start_time": "2022-03-14T12:03:13.477Z"
   },
   {
    "duration": 9,
    "start_time": "2022-03-14T12:03:13.491Z"
   },
   {
    "duration": 8,
    "start_time": "2022-03-14T12:03:13.502Z"
   },
   {
    "duration": 8,
    "start_time": "2022-03-14T12:03:13.513Z"
   },
   {
    "duration": 57,
    "start_time": "2022-03-14T12:03:13.523Z"
   },
   {
    "duration": 21,
    "start_time": "2022-03-14T12:03:13.583Z"
   },
   {
    "duration": 11,
    "start_time": "2022-03-14T12:03:13.606Z"
   },
   {
    "duration": 14,
    "start_time": "2022-03-14T12:03:13.620Z"
   },
   {
    "duration": 45,
    "start_time": "2022-03-14T12:03:13.637Z"
   },
   {
    "duration": 13,
    "start_time": "2022-03-14T12:03:13.685Z"
   },
   {
    "duration": 15,
    "start_time": "2022-03-14T12:03:13.700Z"
   },
   {
    "duration": 9,
    "start_time": "2022-03-14T12:03:13.717Z"
   },
   {
    "duration": 50,
    "start_time": "2022-03-14T12:03:13.729Z"
   },
   {
    "duration": 50,
    "start_time": "2022-03-14T12:03:13.787Z"
   },
   {
    "duration": 37,
    "start_time": "2022-03-14T12:03:13.841Z"
   },
   {
    "duration": 9,
    "start_time": "2022-03-14T12:03:13.882Z"
   },
   {
    "duration": 9,
    "start_time": "2022-03-14T12:03:13.894Z"
   },
   {
    "duration": 8,
    "start_time": "2022-03-14T12:03:13.906Z"
   },
   {
    "duration": 65,
    "start_time": "2022-03-14T12:03:13.916Z"
   },
   {
    "duration": 97,
    "start_time": "2022-03-14T12:03:13.983Z"
   },
   {
    "duration": 28,
    "start_time": "2022-03-14T12:03:14.083Z"
   },
   {
    "duration": 20,
    "start_time": "2022-03-14T12:03:14.114Z"
   },
   {
    "duration": 103,
    "start_time": "2022-03-14T12:03:14.137Z"
   },
   {
    "duration": -241,
    "start_time": "2022-03-14T12:03:14.483Z"
   },
   {
    "duration": -249,
    "start_time": "2022-03-14T12:03:14.492Z"
   },
   {
    "duration": -251,
    "start_time": "2022-03-14T12:03:14.496Z"
   },
   {
    "duration": -258,
    "start_time": "2022-03-14T12:03:14.504Z"
   },
   {
    "duration": 9,
    "start_time": "2022-03-14T12:03:28.678Z"
   },
   {
    "duration": 10,
    "start_time": "2022-03-14T12:03:33.501Z"
   },
   {
    "duration": 10,
    "start_time": "2022-03-14T12:03:34.810Z"
   },
   {
    "duration": 301,
    "start_time": "2022-03-14T12:03:38.704Z"
   },
   {
    "duration": 10,
    "start_time": "2022-03-14T12:04:37.311Z"
   },
   {
    "duration": 9,
    "start_time": "2022-03-14T12:04:40.230Z"
   },
   {
    "duration": 8,
    "start_time": "2022-03-14T12:04:42.310Z"
   },
   {
    "duration": 26,
    "start_time": "2022-03-14T12:04:45.631Z"
   },
   {
    "duration": 9,
    "start_time": "2022-03-14T12:04:48.131Z"
   },
   {
    "duration": 13,
    "start_time": "2022-03-14T12:04:53.898Z"
   },
   {
    "duration": 8,
    "start_time": "2022-03-14T12:05:08.072Z"
   },
   {
    "duration": 8,
    "start_time": "2022-03-14T12:05:19.302Z"
   },
   {
    "duration": 10,
    "start_time": "2022-03-14T12:05:24.162Z"
   },
   {
    "duration": 8,
    "start_time": "2022-03-14T12:05:27.351Z"
   },
   {
    "duration": 8,
    "start_time": "2022-03-14T12:05:30.671Z"
   },
   {
    "duration": 8,
    "start_time": "2022-03-14T12:05:32.831Z"
   },
   {
    "duration": 10,
    "start_time": "2022-03-14T12:05:39.362Z"
   },
   {
    "duration": 8,
    "start_time": "2022-03-14T12:05:42.942Z"
   },
   {
    "duration": 12,
    "start_time": "2022-03-14T12:05:44.262Z"
   },
   {
    "duration": 11,
    "start_time": "2022-03-14T12:05:49.890Z"
   },
   {
    "duration": 11,
    "start_time": "2022-03-14T12:05:53.452Z"
   },
   {
    "duration": 11,
    "start_time": "2022-03-14T12:05:58.147Z"
   },
   {
    "duration": 8,
    "start_time": "2022-03-14T12:06:02.521Z"
   },
   {
    "duration": 12,
    "start_time": "2022-03-14T12:06:05.290Z"
   },
   {
    "duration": 28,
    "start_time": "2022-03-14T12:06:12.399Z"
   },
   {
    "duration": 13,
    "start_time": "2022-03-14T12:06:13.518Z"
   },
   {
    "duration": 29,
    "start_time": "2022-03-14T12:06:21.102Z"
   },
   {
    "duration": 9,
    "start_time": "2022-03-14T12:06:28.191Z"
   },
   {
    "duration": 10,
    "start_time": "2022-03-14T12:06:32.090Z"
   },
   {
    "duration": 9,
    "start_time": "2022-03-14T12:06:35.031Z"
   },
   {
    "duration": 12,
    "start_time": "2022-03-14T12:06:39.365Z"
   },
   {
    "duration": 38,
    "start_time": "2022-03-14T12:06:54.871Z"
   },
   {
    "duration": 10,
    "start_time": "2022-03-14T12:07:04.022Z"
   },
   {
    "duration": 93,
    "start_time": "2022-03-14T12:07:07.302Z"
   },
   {
    "duration": 13,
    "start_time": "2022-03-14T12:07:12.442Z"
   },
   {
    "duration": 50,
    "start_time": "2022-03-14T12:08:36.711Z"
   },
   {
    "duration": 85,
    "start_time": "2022-03-14T12:08:58.790Z"
   },
   {
    "duration": 8,
    "start_time": "2022-03-14T12:09:10.043Z"
   },
   {
    "duration": 300,
    "start_time": "2022-03-14T12:09:10.054Z"
   },
   {
    "duration": 30,
    "start_time": "2022-03-14T12:09:10.375Z"
   },
   {
    "duration": 14,
    "start_time": "2022-03-14T12:09:10.408Z"
   },
   {
    "duration": 27,
    "start_time": "2022-03-14T12:09:10.424Z"
   },
   {
    "duration": 45,
    "start_time": "2022-03-14T12:09:10.454Z"
   },
   {
    "duration": 17,
    "start_time": "2022-03-14T12:09:10.502Z"
   },
   {
    "duration": 12,
    "start_time": "2022-03-14T12:09:10.521Z"
   },
   {
    "duration": 42,
    "start_time": "2022-03-14T12:09:10.537Z"
   },
   {
    "duration": 41,
    "start_time": "2022-03-14T12:09:10.582Z"
   },
   {
    "duration": 9,
    "start_time": "2022-03-14T12:09:10.625Z"
   },
   {
    "duration": 47,
    "start_time": "2022-03-14T12:09:10.636Z"
   },
   {
    "duration": 18,
    "start_time": "2022-03-14T12:09:10.685Z"
   },
   {
    "duration": 18,
    "start_time": "2022-03-14T12:09:10.705Z"
   },
   {
    "duration": 17,
    "start_time": "2022-03-14T12:09:10.726Z"
   },
   {
    "duration": 29,
    "start_time": "2022-03-14T12:09:10.746Z"
   },
   {
    "duration": 11,
    "start_time": "2022-03-14T12:09:10.778Z"
   },
   {
    "duration": 14,
    "start_time": "2022-03-14T12:09:10.791Z"
   },
   {
    "duration": 18,
    "start_time": "2022-03-14T12:09:10.808Z"
   },
   {
    "duration": 45,
    "start_time": "2022-03-14T12:09:10.828Z"
   },
   {
    "duration": 16,
    "start_time": "2022-03-14T12:09:10.876Z"
   },
   {
    "duration": 32,
    "start_time": "2022-03-14T12:09:10.895Z"
   },
   {
    "duration": 28,
    "start_time": "2022-03-14T12:09:10.930Z"
   },
   {
    "duration": 26,
    "start_time": "2022-03-14T12:09:10.961Z"
   },
   {
    "duration": 12,
    "start_time": "2022-03-14T12:09:10.990Z"
   },
   {
    "duration": 21,
    "start_time": "2022-03-14T12:09:11.005Z"
   },
   {
    "duration": 99,
    "start_time": "2022-03-14T12:09:11.032Z"
   },
   {
    "duration": 9,
    "start_time": "2022-03-14T12:09:11.134Z"
   },
   {
    "duration": 28,
    "start_time": "2022-03-14T12:09:11.146Z"
   },
   {
    "duration": 7,
    "start_time": "2022-03-14T12:09:11.177Z"
   },
   {
    "duration": 36,
    "start_time": "2022-03-14T12:09:11.187Z"
   },
   {
    "duration": 78,
    "start_time": "2022-03-14T12:09:11.225Z"
   },
   {
    "duration": 8,
    "start_time": "2022-03-14T12:09:11.305Z"
   },
   {
    "duration": 11,
    "start_time": "2022-03-14T12:09:11.315Z"
   },
   {
    "duration": 18,
    "start_time": "2022-03-14T12:09:11.328Z"
   },
   {
    "duration": 29,
    "start_time": "2022-03-14T12:09:11.349Z"
   },
   {
    "duration": 28,
    "start_time": "2022-03-14T12:09:11.380Z"
   },
   {
    "duration": 23,
    "start_time": "2022-03-14T12:09:11.410Z"
   },
   {
    "duration": 17,
    "start_time": "2022-03-14T12:09:11.436Z"
   },
   {
    "duration": 35,
    "start_time": "2022-03-14T12:09:11.456Z"
   },
   {
    "duration": 10,
    "start_time": "2022-03-14T12:09:11.494Z"
   },
   {
    "duration": 23,
    "start_time": "2022-03-14T12:09:11.507Z"
   },
   {
    "duration": 32,
    "start_time": "2022-03-14T12:09:11.533Z"
   },
   {
    "duration": 27,
    "start_time": "2022-03-14T12:09:11.567Z"
   },
   {
    "duration": 15,
    "start_time": "2022-03-14T12:09:11.597Z"
   },
   {
    "duration": 20,
    "start_time": "2022-03-14T12:09:11.615Z"
   },
   {
    "duration": 13,
    "start_time": "2022-03-14T12:09:11.638Z"
   },
   {
    "duration": 8,
    "start_time": "2022-03-14T12:09:11.654Z"
   },
   {
    "duration": 11,
    "start_time": "2022-03-14T12:09:11.674Z"
   },
   {
    "duration": 18,
    "start_time": "2022-03-14T12:09:11.688Z"
   },
   {
    "duration": 16,
    "start_time": "2022-03-14T12:09:11.709Z"
   },
   {
    "duration": 48,
    "start_time": "2022-03-14T12:09:11.728Z"
   },
   {
    "duration": 11,
    "start_time": "2022-03-14T12:09:11.779Z"
   },
   {
    "duration": 16,
    "start_time": "2022-03-14T12:09:11.793Z"
   },
   {
    "duration": 9,
    "start_time": "2022-03-14T12:09:11.812Z"
   },
   {
    "duration": 52,
    "start_time": "2022-03-14T12:09:11.824Z"
   },
   {
    "duration": 40,
    "start_time": "2022-03-14T12:09:11.878Z"
   },
   {
    "duration": 8,
    "start_time": "2022-03-14T12:09:11.920Z"
   },
   {
    "duration": 44,
    "start_time": "2022-03-14T12:09:11.931Z"
   },
   {
    "duration": 8,
    "start_time": "2022-03-14T12:09:11.977Z"
   },
   {
    "duration": 24,
    "start_time": "2022-03-14T12:09:11.988Z"
   },
   {
    "duration": 65,
    "start_time": "2022-03-14T12:09:12.015Z"
   },
   {
    "duration": 10,
    "start_time": "2022-03-14T12:09:12.083Z"
   },
   {
    "duration": 19,
    "start_time": "2022-03-14T12:09:12.095Z"
   },
   {
    "duration": 1340,
    "start_time": "2022-03-15T07:25:56.350Z"
   },
   {
    "duration": 782,
    "start_time": "2022-03-15T07:25:57.693Z"
   },
   {
    "duration": 29,
    "start_time": "2022-03-15T07:25:58.478Z"
   },
   {
    "duration": 14,
    "start_time": "2022-03-15T07:25:58.509Z"
   },
   {
    "duration": 30,
    "start_time": "2022-03-15T07:25:58.525Z"
   },
   {
    "duration": 34,
    "start_time": "2022-03-15T07:25:58.557Z"
   },
   {
    "duration": 10,
    "start_time": "2022-03-15T07:25:58.593Z"
   },
   {
    "duration": 8,
    "start_time": "2022-03-15T07:25:58.606Z"
   },
   {
    "duration": 8,
    "start_time": "2022-03-15T07:25:58.653Z"
   },
   {
    "duration": 34,
    "start_time": "2022-03-15T07:25:58.664Z"
   },
   {
    "duration": 8,
    "start_time": "2022-03-15T07:25:58.700Z"
   },
   {
    "duration": 45,
    "start_time": "2022-03-15T07:25:58.710Z"
   },
   {
    "duration": 9,
    "start_time": "2022-03-15T07:25:58.758Z"
   },
   {
    "duration": 7,
    "start_time": "2022-03-15T07:25:58.769Z"
   },
   {
    "duration": 7,
    "start_time": "2022-03-15T07:25:58.779Z"
   },
   {
    "duration": 7,
    "start_time": "2022-03-15T07:25:58.788Z"
   },
   {
    "duration": 56,
    "start_time": "2022-03-15T07:25:58.798Z"
   },
   {
    "duration": 8,
    "start_time": "2022-03-15T07:25:58.856Z"
   },
   {
    "duration": 8,
    "start_time": "2022-03-15T07:25:58.866Z"
   },
   {
    "duration": 7,
    "start_time": "2022-03-15T07:25:58.877Z"
   },
   {
    "duration": 14,
    "start_time": "2022-03-15T07:25:58.886Z"
   },
   {
    "duration": 60,
    "start_time": "2022-03-15T07:25:58.902Z"
   },
   {
    "duration": 9,
    "start_time": "2022-03-15T07:25:58.964Z"
   },
   {
    "duration": 13,
    "start_time": "2022-03-15T07:25:58.975Z"
   },
   {
    "duration": 8,
    "start_time": "2022-03-15T07:25:58.991Z"
   },
   {
    "duration": 52,
    "start_time": "2022-03-15T07:25:59.001Z"
   },
   {
    "duration": 57,
    "start_time": "2022-03-15T07:25:59.060Z"
   },
   {
    "duration": 33,
    "start_time": "2022-03-15T07:25:59.120Z"
   },
   {
    "duration": 9,
    "start_time": "2022-03-15T07:25:59.155Z"
   },
   {
    "duration": 8,
    "start_time": "2022-03-15T07:25:59.166Z"
   },
   {
    "duration": 12,
    "start_time": "2022-03-15T07:25:59.176Z"
   },
   {
    "duration": 102,
    "start_time": "2022-03-15T07:25:59.190Z"
   },
   {
    "duration": 7,
    "start_time": "2022-03-15T07:25:59.294Z"
   },
   {
    "duration": 7,
    "start_time": "2022-03-15T07:25:59.304Z"
   },
   {
    "duration": 41,
    "start_time": "2022-03-15T07:25:59.314Z"
   },
   {
    "duration": 10,
    "start_time": "2022-03-15T07:25:59.357Z"
   },
   {
    "duration": 7,
    "start_time": "2022-03-15T07:25:59.370Z"
   },
   {
    "duration": 8,
    "start_time": "2022-03-15T07:25:59.379Z"
   },
   {
    "duration": 8,
    "start_time": "2022-03-15T07:25:59.389Z"
   },
   {
    "duration": 69,
    "start_time": "2022-03-15T07:25:59.400Z"
   },
   {
    "duration": 7,
    "start_time": "2022-03-15T07:25:59.471Z"
   },
   {
    "duration": 19,
    "start_time": "2022-03-15T07:25:59.480Z"
   },
   {
    "duration": 12,
    "start_time": "2022-03-15T07:25:59.502Z"
   },
   {
    "duration": 35,
    "start_time": "2022-03-15T07:25:59.517Z"
   },
   {
    "duration": 8,
    "start_time": "2022-03-15T07:25:59.555Z"
   },
   {
    "duration": 8,
    "start_time": "2022-03-15T07:25:59.565Z"
   },
   {
    "duration": 8,
    "start_time": "2022-03-15T07:25:59.575Z"
   },
   {
    "duration": 7,
    "start_time": "2022-03-15T07:25:59.585Z"
   },
   {
    "duration": 60,
    "start_time": "2022-03-15T07:25:59.594Z"
   },
   {
    "duration": 7,
    "start_time": "2022-03-15T07:25:59.656Z"
   },
   {
    "duration": 12,
    "start_time": "2022-03-15T07:25:59.666Z"
   },
   {
    "duration": 15,
    "start_time": "2022-03-15T07:25:59.680Z"
   },
   {
    "duration": 13,
    "start_time": "2022-03-15T07:25:59.697Z"
   },
   {
    "duration": 10,
    "start_time": "2022-03-15T07:25:59.751Z"
   },
   {
    "duration": 15,
    "start_time": "2022-03-15T07:25:59.763Z"
   },
   {
    "duration": 10,
    "start_time": "2022-03-15T07:25:59.781Z"
   },
   {
    "duration": 68,
    "start_time": "2022-03-15T07:25:59.793Z"
   },
   {
    "duration": 7,
    "start_time": "2022-03-15T07:25:59.864Z"
   },
   {
    "duration": 6,
    "start_time": "2022-03-15T07:25:59.874Z"
   },
   {
    "duration": 7,
    "start_time": "2022-03-15T07:25:59.883Z"
   },
   {
    "duration": 10,
    "start_time": "2022-03-15T07:25:59.892Z"
   },
   {
    "duration": 37,
    "start_time": "2022-03-15T07:25:59.952Z"
   },
   {
    "duration": 7,
    "start_time": "2022-03-15T07:25:59.991Z"
   },
   {
    "duration": 10,
    "start_time": "2022-03-15T07:26:00.000Z"
   },
   {
    "duration": 400,
    "start_time": "2022-03-15T07:49:29.457Z"
   },
   {
    "duration": 9,
    "start_time": "2022-03-15T07:50:12.718Z"
   },
   {
    "duration": 16,
    "start_time": "2022-03-15T07:50:27.421Z"
   },
   {
    "duration": 17,
    "start_time": "2022-03-15T07:51:13.349Z"
   },
   {
    "duration": 20,
    "start_time": "2022-03-15T07:51:53.561Z"
   },
   {
    "duration": 9,
    "start_time": "2022-03-15T08:01:06.709Z"
   },
   {
    "duration": 346,
    "start_time": "2022-03-15T08:01:08.169Z"
   },
   {
    "duration": 12,
    "start_time": "2022-03-15T08:01:20.437Z"
   },
   {
    "duration": 4,
    "start_time": "2022-03-15T08:05:46.577Z"
   },
   {
    "duration": 5,
    "start_time": "2022-03-15T08:06:06.049Z"
   },
   {
    "duration": 261,
    "start_time": "2022-03-15T08:24:15.561Z"
   },
   {
    "duration": 241,
    "start_time": "2022-03-15T08:25:19.360Z"
   },
   {
    "duration": 238,
    "start_time": "2022-03-15T08:26:04.998Z"
   },
   {
    "duration": 243,
    "start_time": "2022-03-15T08:31:42.078Z"
   },
   {
    "duration": 6,
    "start_time": "2022-03-15T08:31:53.809Z"
   },
   {
    "duration": 6,
    "start_time": "2022-03-15T08:32:04.630Z"
   },
   {
    "duration": 6,
    "start_time": "2022-03-15T08:32:26.462Z"
   },
   {
    "duration": 3,
    "start_time": "2022-03-15T08:33:14.741Z"
   },
   {
    "duration": 5,
    "start_time": "2022-03-15T08:33:17.941Z"
   },
   {
    "duration": 245,
    "start_time": "2022-03-15T08:34:13.895Z"
   },
   {
    "duration": 239,
    "start_time": "2022-03-15T08:34:48.959Z"
   },
   {
    "duration": 280,
    "start_time": "2022-03-15T08:35:26.889Z"
   },
   {
    "duration": 295,
    "start_time": "2022-03-15T08:35:37.441Z"
   },
   {
    "duration": 6,
    "start_time": "2022-03-15T08:35:50.530Z"
   },
   {
    "duration": 6,
    "start_time": "2022-03-15T08:35:52.740Z"
   },
   {
    "duration": 7,
    "start_time": "2022-03-15T08:36:03.278Z"
   },
   {
    "duration": 7,
    "start_time": "2022-03-15T08:38:17.670Z"
   },
   {
    "duration": 7,
    "start_time": "2022-03-15T09:31:24.149Z"
   },
   {
    "duration": 6,
    "start_time": "2022-03-15T09:37:49.837Z"
   },
   {
    "duration": 5,
    "start_time": "2022-03-15T09:37:54.329Z"
   },
   {
    "duration": 902,
    "start_time": "2022-03-15T09:42:59.849Z"
   },
   {
    "duration": 5908,
    "start_time": "2022-03-15T09:43:33.109Z"
   },
   {
    "duration": -463,
    "start_time": "2022-03-15T09:43:55.310Z"
   },
   {
    "duration": 73,
    "start_time": "2022-03-15T09:43:57.902Z"
   },
   {
    "duration": 6,
    "start_time": "2022-03-15T09:44:43.649Z"
   },
   {
    "duration": 5,
    "start_time": "2022-03-15T09:44:45.229Z"
   },
   {
    "duration": 1190,
    "start_time": "2022-03-15T09:44:46.316Z"
   },
   {
    "duration": 5,
    "start_time": "2022-03-15T09:45:02.129Z"
   },
   {
    "duration": 8,
    "start_time": "2022-03-15T09:45:02.841Z"
   },
   {
    "duration": 3094,
    "start_time": "2022-03-15T09:45:03.801Z"
   },
   {
    "duration": 13,
    "start_time": "2022-03-15T09:45:21.501Z"
   },
   {
    "duration": 14,
    "start_time": "2022-03-15T09:45:27.801Z"
   },
   {
    "duration": 5,
    "start_time": "2022-03-15T09:46:08.148Z"
   },
   {
    "duration": 3098,
    "start_time": "2022-03-15T09:46:10.546Z"
   },
   {
    "duration": 14,
    "start_time": "2022-03-15T09:46:13.646Z"
   },
   {
    "duration": 8,
    "start_time": "2022-03-15T09:50:58.289Z"
   },
   {
    "duration": 10,
    "start_time": "2022-03-15T09:51:04.602Z"
   },
   {
    "duration": 10,
    "start_time": "2022-03-15T09:51:21.829Z"
   },
   {
    "duration": 9,
    "start_time": "2022-03-15T09:51:47.969Z"
   },
   {
    "duration": 7,
    "start_time": "2022-03-15T09:54:17.381Z"
   },
   {
    "duration": 4097,
    "start_time": "2022-03-15T09:54:17.990Z"
   },
   {
    "duration": 13,
    "start_time": "2022-03-15T09:54:22.090Z"
   },
   {
    "duration": 9,
    "start_time": "2022-03-15T09:55:17.797Z"
   },
   {
    "duration": 8,
    "start_time": "2022-03-15T09:56:49.429Z"
   },
   {
    "duration": 1739,
    "start_time": "2022-03-15T09:57:04.073Z"
   },
   {
    "duration": 10,
    "start_time": "2022-03-15T09:57:16.441Z"
   },
   {
    "duration": 1310,
    "start_time": "2022-03-15T11:53:15.303Z"
   },
   {
    "duration": 221,
    "start_time": "2022-03-15T11:53:16.615Z"
   },
   {
    "duration": 23,
    "start_time": "2022-03-15T11:53:16.838Z"
   },
   {
    "duration": 14,
    "start_time": "2022-03-15T11:53:16.864Z"
   },
   {
    "duration": 30,
    "start_time": "2022-03-15T11:53:16.880Z"
   },
   {
    "duration": 30,
    "start_time": "2022-03-15T11:53:16.912Z"
   },
   {
    "duration": 7,
    "start_time": "2022-03-15T11:53:16.944Z"
   },
   {
    "duration": 12,
    "start_time": "2022-03-15T11:53:16.952Z"
   },
   {
    "duration": 13,
    "start_time": "2022-03-15T11:53:16.966Z"
   },
   {
    "duration": 40,
    "start_time": "2022-03-15T11:53:16.981Z"
   },
   {
    "duration": 7,
    "start_time": "2022-03-15T11:53:17.023Z"
   },
   {
    "duration": 25,
    "start_time": "2022-03-15T11:53:17.032Z"
   },
   {
    "duration": 15,
    "start_time": "2022-03-15T11:53:17.062Z"
   },
   {
    "duration": 25,
    "start_time": "2022-03-15T11:53:17.079Z"
   },
   {
    "duration": 7,
    "start_time": "2022-03-15T11:53:17.106Z"
   },
   {
    "duration": 8,
    "start_time": "2022-03-15T11:53:17.114Z"
   },
   {
    "duration": 7,
    "start_time": "2022-03-15T11:53:17.124Z"
   },
   {
    "duration": 8,
    "start_time": "2022-03-15T11:53:17.132Z"
   },
   {
    "duration": 7,
    "start_time": "2022-03-15T11:53:17.141Z"
   },
   {
    "duration": 15,
    "start_time": "2022-03-15T11:53:17.149Z"
   },
   {
    "duration": 19,
    "start_time": "2022-03-15T11:53:17.166Z"
   },
   {
    "duration": 23,
    "start_time": "2022-03-15T11:53:17.188Z"
   },
   {
    "duration": 6,
    "start_time": "2022-03-15T11:53:17.213Z"
   },
   {
    "duration": 10,
    "start_time": "2022-03-15T11:53:17.221Z"
   },
   {
    "duration": 8,
    "start_time": "2022-03-15T11:53:17.233Z"
   },
   {
    "duration": 43,
    "start_time": "2022-03-15T11:53:17.242Z"
   },
   {
    "duration": 48,
    "start_time": "2022-03-15T11:53:17.291Z"
   },
   {
    "duration": 6,
    "start_time": "2022-03-15T11:53:17.341Z"
   },
   {
    "duration": 28,
    "start_time": "2022-03-15T11:53:17.349Z"
   },
   {
    "duration": 12,
    "start_time": "2022-03-15T11:53:17.379Z"
   },
   {
    "duration": 14,
    "start_time": "2022-03-15T11:53:17.393Z"
   },
   {
    "duration": 47,
    "start_time": "2022-03-15T11:53:17.408Z"
   },
   {
    "duration": 5,
    "start_time": "2022-03-15T11:53:17.456Z"
   },
   {
    "duration": 38,
    "start_time": "2022-03-15T11:53:17.464Z"
   },
   {
    "duration": 9,
    "start_time": "2022-03-15T11:53:17.504Z"
   },
   {
    "duration": 11,
    "start_time": "2022-03-15T11:53:17.515Z"
   },
   {
    "duration": 6,
    "start_time": "2022-03-15T11:53:17.528Z"
   },
   {
    "duration": 8,
    "start_time": "2022-03-15T11:53:17.535Z"
   },
   {
    "duration": 9,
    "start_time": "2022-03-15T11:53:17.544Z"
   },
   {
    "duration": 31,
    "start_time": "2022-03-15T11:53:17.555Z"
   },
   {
    "duration": 6,
    "start_time": "2022-03-15T11:53:17.593Z"
   },
   {
    "duration": 10,
    "start_time": "2022-03-15T11:53:17.600Z"
   },
   {
    "duration": 6,
    "start_time": "2022-03-15T11:53:17.612Z"
   },
   {
    "duration": 6,
    "start_time": "2022-03-15T11:53:17.620Z"
   },
   {
    "duration": 6,
    "start_time": "2022-03-15T11:53:17.628Z"
   },
   {
    "duration": 40,
    "start_time": "2022-03-15T11:53:17.636Z"
   },
   {
    "duration": 10,
    "start_time": "2022-03-15T11:53:17.678Z"
   },
   {
    "duration": 12,
    "start_time": "2022-03-15T11:53:17.689Z"
   },
   {
    "duration": 6,
    "start_time": "2022-03-15T11:53:17.703Z"
   },
   {
    "duration": 6,
    "start_time": "2022-03-15T11:53:17.711Z"
   },
   {
    "duration": 11,
    "start_time": "2022-03-15T11:53:17.719Z"
   },
   {
    "duration": 11,
    "start_time": "2022-03-15T11:53:17.732Z"
   },
   {
    "duration": 11,
    "start_time": "2022-03-15T11:53:17.767Z"
   },
   {
    "duration": 21,
    "start_time": "2022-03-15T11:53:17.783Z"
   },
   {
    "duration": 6,
    "start_time": "2022-03-15T11:53:17.806Z"
   },
   {
    "duration": 12,
    "start_time": "2022-03-15T11:53:17.814Z"
   },
   {
    "duration": 48,
    "start_time": "2022-03-15T11:53:17.828Z"
   },
   {
    "duration": 8,
    "start_time": "2022-03-15T11:53:17.879Z"
   },
   {
    "duration": 16,
    "start_time": "2022-03-15T11:53:17.889Z"
   },
   {
    "duration": 13,
    "start_time": "2022-03-15T11:53:17.907Z"
   },
   {
    "duration": 11,
    "start_time": "2022-03-15T11:53:17.922Z"
   },
   {
    "duration": 26,
    "start_time": "2022-03-15T11:53:17.935Z"
   },
   {
    "duration": 19,
    "start_time": "2022-03-15T11:53:17.962Z"
   },
   {
    "duration": 24,
    "start_time": "2022-03-15T11:53:17.982Z"
   },
   {
    "duration": 5,
    "start_time": "2022-03-15T11:58:12.431Z"
   },
   {
    "duration": 4,
    "start_time": "2022-03-15T11:58:52.214Z"
   },
   {
    "duration": 4,
    "start_time": "2022-03-15T12:00:12.513Z"
   },
   {
    "duration": 398,
    "start_time": "2022-03-15T12:01:18.224Z"
   },
   {
    "duration": 12,
    "start_time": "2022-03-15T12:01:31.305Z"
   },
   {
    "duration": 3518,
    "start_time": "2022-03-15T12:01:35.884Z"
   },
   {
    "duration": 9,
    "start_time": "2022-03-15T12:02:46.527Z"
   },
   {
    "duration": 7,
    "start_time": "2022-03-15T12:03:04.225Z"
   },
   {
    "duration": 80,
    "start_time": "2022-03-15T12:04:40.313Z"
   },
   {
    "duration": 293,
    "start_time": "2022-03-15T12:05:05.474Z"
   },
   {
    "duration": 8,
    "start_time": "2022-03-15T12:06:00.089Z"
   },
   {
    "duration": 4033,
    "start_time": "2022-03-15T12:06:28.706Z"
   },
   {
    "duration": 3521,
    "start_time": "2022-03-15T12:06:38.104Z"
   },
   {
    "duration": 8,
    "start_time": "2022-03-15T12:06:47.705Z"
   },
   {
    "duration": 7,
    "start_time": "2022-03-15T12:07:26.522Z"
   },
   {
    "duration": 4161,
    "start_time": "2022-03-15T12:07:32.686Z"
   },
   {
    "duration": 212,
    "start_time": "2022-03-15T12:07:48.604Z"
   },
   {
    "duration": 660,
    "start_time": "2022-03-15T12:14:39.508Z"
   },
   {
    "duration": 9,
    "start_time": "2022-03-15T12:16:56.945Z"
   },
   {
    "duration": 9,
    "start_time": "2022-03-15T12:17:27.830Z"
   },
   {
    "duration": 9,
    "start_time": "2022-03-15T12:17:50.290Z"
   },
   {
    "duration": 9,
    "start_time": "2022-03-15T12:19:21.152Z"
   },
   {
    "duration": 10,
    "start_time": "2022-03-15T12:19:43.133Z"
   },
   {
    "duration": 7,
    "start_time": "2022-03-15T12:21:55.044Z"
   },
   {
    "duration": 12,
    "start_time": "2022-03-15T12:21:55.474Z"
   },
   {
    "duration": 6,
    "start_time": "2022-03-15T12:24:24.064Z"
   },
   {
    "duration": 6,
    "start_time": "2022-03-15T12:24:31.333Z"
   },
   {
    "duration": 7,
    "start_time": "2022-03-15T12:25:59.887Z"
   },
   {
    "duration": 6,
    "start_time": "2022-03-15T12:26:40.772Z"
   },
   {
    "duration": 329,
    "start_time": "2022-03-15T12:28:37.207Z"
   },
   {
    "duration": 377,
    "start_time": "2022-03-15T12:29:01.721Z"
   },
   {
    "duration": 410,
    "start_time": "2022-03-15T12:29:27.999Z"
   },
   {
    "duration": 338,
    "start_time": "2022-03-15T12:29:35.590Z"
   },
   {
    "duration": 29,
    "start_time": "2022-03-15T12:42:24.861Z"
   },
   {
    "duration": 311,
    "start_time": "2022-03-15T12:50:04.686Z"
   },
   {
    "duration": 5,
    "start_time": "2022-03-15T12:50:14.178Z"
   },
   {
    "duration": 501,
    "start_time": "2022-03-15T12:50:18.754Z"
   },
   {
    "duration": 380,
    "start_time": "2022-03-15T13:02:11.428Z"
   },
   {
    "duration": 221,
    "start_time": "2022-03-15T13:02:49.477Z"
   },
   {
    "duration": 271,
    "start_time": "2022-03-15T13:03:15.597Z"
   },
   {
    "duration": 228,
    "start_time": "2022-03-15T13:03:54.048Z"
   },
   {
    "duration": 242,
    "start_time": "2022-03-15T13:04:20.028Z"
   },
   {
    "duration": 35,
    "start_time": "2022-03-15T13:04:43.260Z"
   },
   {
    "duration": 19,
    "start_time": "2022-03-15T13:04:53.068Z"
   },
   {
    "duration": 5,
    "start_time": "2022-03-15T13:05:03.030Z"
   },
   {
    "duration": 20,
    "start_time": "2022-03-15T13:05:22.995Z"
   },
   {
    "duration": 6,
    "start_time": "2022-03-15T13:05:36.548Z"
   },
   {
    "duration": 179,
    "start_time": "2022-03-15T13:06:27.008Z"
   },
   {
    "duration": 452,
    "start_time": "2022-03-15T13:06:39.949Z"
   },
   {
    "duration": 4,
    "start_time": "2022-03-15T13:07:29.180Z"
   },
   {
    "duration": 227,
    "start_time": "2022-03-15T13:07:29.186Z"
   },
   {
    "duration": 22,
    "start_time": "2022-03-15T13:07:29.415Z"
   },
   {
    "duration": 35,
    "start_time": "2022-03-15T13:07:29.439Z"
   },
   {
    "duration": 16,
    "start_time": "2022-03-15T13:07:29.476Z"
   },
   {
    "duration": 30,
    "start_time": "2022-03-15T13:07:29.494Z"
   },
   {
    "duration": 29,
    "start_time": "2022-03-15T13:07:29.526Z"
   },
   {
    "duration": 30,
    "start_time": "2022-03-15T13:07:29.558Z"
   },
   {
    "duration": 21,
    "start_time": "2022-03-15T13:07:29.590Z"
   },
   {
    "duration": 33,
    "start_time": "2022-03-15T13:07:29.613Z"
   },
   {
    "duration": 8,
    "start_time": "2022-03-15T13:07:29.648Z"
   },
   {
    "duration": 24,
    "start_time": "2022-03-15T13:07:29.658Z"
   },
   {
    "duration": 55,
    "start_time": "2022-03-15T13:07:29.684Z"
   },
   {
    "duration": 35,
    "start_time": "2022-03-15T13:07:29.741Z"
   },
   {
    "duration": 33,
    "start_time": "2022-03-15T13:07:29.781Z"
   },
   {
    "duration": 19,
    "start_time": "2022-03-15T13:07:29.816Z"
   },
   {
    "duration": 28,
    "start_time": "2022-03-15T13:07:29.837Z"
   },
   {
    "duration": 21,
    "start_time": "2022-03-15T13:07:29.866Z"
   },
   {
    "duration": 8,
    "start_time": "2022-03-15T13:07:29.889Z"
   },
   {
    "duration": 7,
    "start_time": "2022-03-15T13:07:29.898Z"
   },
   {
    "duration": 11,
    "start_time": "2022-03-15T13:07:29.907Z"
   },
   {
    "duration": 15,
    "start_time": "2022-03-15T13:07:29.920Z"
   },
   {
    "duration": 6,
    "start_time": "2022-03-15T13:07:29.939Z"
   },
   {
    "duration": 33,
    "start_time": "2022-03-15T13:07:29.947Z"
   },
   {
    "duration": 12,
    "start_time": "2022-03-15T13:07:29.982Z"
   },
   {
    "duration": 17,
    "start_time": "2022-03-15T13:07:29.996Z"
   },
   {
    "duration": 79,
    "start_time": "2022-03-15T13:07:30.014Z"
   },
   {
    "duration": 24,
    "start_time": "2022-03-15T13:07:30.095Z"
   },
   {
    "duration": 35,
    "start_time": "2022-03-15T13:07:30.121Z"
   },
   {
    "duration": 43,
    "start_time": "2022-03-15T13:07:30.158Z"
   },
   {
    "duration": 19,
    "start_time": "2022-03-15T13:07:30.203Z"
   },
   {
    "duration": 95,
    "start_time": "2022-03-15T13:07:30.224Z"
   },
   {
    "duration": 5,
    "start_time": "2022-03-15T13:07:30.320Z"
   },
   {
    "duration": 20,
    "start_time": "2022-03-15T13:07:30.327Z"
   },
   {
    "duration": 43,
    "start_time": "2022-03-15T13:07:30.350Z"
   },
   {
    "duration": 16,
    "start_time": "2022-03-15T13:07:30.397Z"
   },
   {
    "duration": 31,
    "start_time": "2022-03-15T13:07:30.415Z"
   },
   {
    "duration": 43,
    "start_time": "2022-03-15T13:07:30.448Z"
   },
   {
    "duration": 43,
    "start_time": "2022-03-15T13:07:30.493Z"
   },
   {
    "duration": 29,
    "start_time": "2022-03-15T13:07:30.538Z"
   },
   {
    "duration": 42,
    "start_time": "2022-03-15T13:07:30.569Z"
   },
   {
    "duration": 30,
    "start_time": "2022-03-15T13:07:30.613Z"
   },
   {
    "duration": 31,
    "start_time": "2022-03-15T13:07:30.644Z"
   },
   {
    "duration": 20,
    "start_time": "2022-03-15T13:07:30.679Z"
   },
   {
    "duration": 37,
    "start_time": "2022-03-15T13:07:30.701Z"
   },
   {
    "duration": 31,
    "start_time": "2022-03-15T13:07:30.740Z"
   },
   {
    "duration": 59,
    "start_time": "2022-03-15T13:07:30.772Z"
   },
   {
    "duration": 58,
    "start_time": "2022-03-15T13:07:30.832Z"
   },
   {
    "duration": 41,
    "start_time": "2022-03-15T13:07:30.892Z"
   },
   {
    "duration": 47,
    "start_time": "2022-03-15T13:07:30.951Z"
   },
   {
    "duration": 52,
    "start_time": "2022-03-15T13:07:31.000Z"
   },
   {
    "duration": 42,
    "start_time": "2022-03-15T13:07:31.054Z"
   },
   {
    "duration": 22,
    "start_time": "2022-03-15T13:07:31.098Z"
   },
   {
    "duration": 38,
    "start_time": "2022-03-15T13:07:31.121Z"
   },
   {
    "duration": 37,
    "start_time": "2022-03-15T13:07:31.161Z"
   },
   {
    "duration": 31,
    "start_time": "2022-03-15T13:07:31.200Z"
   },
   {
    "duration": 58,
    "start_time": "2022-03-15T13:07:31.233Z"
   },
   {
    "duration": 8,
    "start_time": "2022-03-15T13:07:31.293Z"
   },
   {
    "duration": 30,
    "start_time": "2022-03-15T13:07:31.302Z"
   },
   {
    "duration": 20,
    "start_time": "2022-03-15T13:07:31.334Z"
   },
   {
    "duration": 41,
    "start_time": "2022-03-15T13:07:31.356Z"
   },
   {
    "duration": 52,
    "start_time": "2022-03-15T13:07:31.399Z"
   },
   {
    "duration": 19,
    "start_time": "2022-03-15T13:07:31.453Z"
   },
   {
    "duration": 29,
    "start_time": "2022-03-15T13:07:31.474Z"
   },
   {
    "duration": 27,
    "start_time": "2022-03-15T13:07:31.504Z"
   },
   {
    "duration": 18,
    "start_time": "2022-03-15T13:07:31.532Z"
   },
   {
    "duration": 28,
    "start_time": "2022-03-15T13:07:31.552Z"
   },
   {
    "duration": 3524,
    "start_time": "2022-03-15T13:07:31.584Z"
   },
   {
    "duration": 10,
    "start_time": "2022-03-15T13:07:35.109Z"
   },
   {
    "duration": 17,
    "start_time": "2022-03-15T13:07:35.120Z"
   },
   {
    "duration": 6,
    "start_time": "2022-03-15T13:07:35.139Z"
   },
   {
    "duration": 4,
    "start_time": "2022-03-15T13:07:35.147Z"
   },
   {
    "duration": 26,
    "start_time": "2022-03-15T13:07:35.152Z"
   },
   {
    "duration": 80,
    "start_time": "2022-03-15T13:07:44.480Z"
   },
   {
    "duration": 407,
    "start_time": "2022-03-15T13:07:55.337Z"
   },
   {
    "duration": 238,
    "start_time": "2022-03-15T13:08:10.679Z"
   },
   {
    "duration": 5,
    "start_time": "2022-03-15T13:11:37.400Z"
   },
   {
    "duration": 270,
    "start_time": "2022-03-15T13:11:37.408Z"
   },
   {
    "duration": 26,
    "start_time": "2022-03-15T13:11:37.680Z"
   },
   {
    "duration": 8,
    "start_time": "2022-03-15T13:11:37.710Z"
   },
   {
    "duration": 10,
    "start_time": "2022-03-15T13:11:37.720Z"
   },
   {
    "duration": 44,
    "start_time": "2022-03-15T13:11:37.732Z"
   },
   {
    "duration": 8,
    "start_time": "2022-03-15T13:11:37.779Z"
   },
   {
    "duration": 14,
    "start_time": "2022-03-15T13:11:37.791Z"
   },
   {
    "duration": 8,
    "start_time": "2022-03-15T13:11:37.808Z"
   },
   {
    "duration": 49,
    "start_time": "2022-03-15T13:11:37.818Z"
   },
   {
    "duration": 8,
    "start_time": "2022-03-15T13:11:37.869Z"
   },
   {
    "duration": 31,
    "start_time": "2022-03-15T13:11:37.880Z"
   },
   {
    "duration": 12,
    "start_time": "2022-03-15T13:11:37.914Z"
   },
   {
    "duration": 8,
    "start_time": "2022-03-15T13:11:37.928Z"
   },
   {
    "duration": 19,
    "start_time": "2022-03-15T13:11:37.938Z"
   },
   {
    "duration": 19,
    "start_time": "2022-03-15T13:11:37.972Z"
   },
   {
    "duration": 10,
    "start_time": "2022-03-15T13:11:37.993Z"
   },
   {
    "duration": 14,
    "start_time": "2022-03-15T13:11:38.005Z"
   },
   {
    "duration": 11,
    "start_time": "2022-03-15T13:11:38.022Z"
   },
   {
    "duration": 15,
    "start_time": "2022-03-15T13:11:38.036Z"
   },
   {
    "duration": 36,
    "start_time": "2022-03-15T13:11:38.053Z"
   },
   {
    "duration": 16,
    "start_time": "2022-03-15T13:11:38.091Z"
   },
   {
    "duration": 20,
    "start_time": "2022-03-15T13:11:38.111Z"
   },
   {
    "duration": 17,
    "start_time": "2022-03-15T13:11:38.134Z"
   },
   {
    "duration": 36,
    "start_time": "2022-03-15T13:11:38.153Z"
   },
   {
    "duration": 16,
    "start_time": "2022-03-15T13:11:38.190Z"
   },
   {
    "duration": 47,
    "start_time": "2022-03-15T13:11:38.208Z"
   },
   {
    "duration": 14,
    "start_time": "2022-03-15T13:11:38.257Z"
   },
   {
    "duration": 17,
    "start_time": "2022-03-15T13:11:38.274Z"
   },
   {
    "duration": 7,
    "start_time": "2022-03-15T13:11:38.293Z"
   },
   {
    "duration": 16,
    "start_time": "2022-03-15T13:11:38.301Z"
   },
   {
    "duration": 64,
    "start_time": "2022-03-15T13:11:38.318Z"
   },
   {
    "duration": 11,
    "start_time": "2022-03-15T13:11:38.384Z"
   },
   {
    "duration": 7,
    "start_time": "2022-03-15T13:11:38.397Z"
   },
   {
    "duration": 13,
    "start_time": "2022-03-15T13:11:38.406Z"
   },
   {
    "duration": 15,
    "start_time": "2022-03-15T13:11:38.420Z"
   },
   {
    "duration": 29,
    "start_time": "2022-03-15T13:11:38.438Z"
   },
   {
    "duration": 17,
    "start_time": "2022-03-15T13:11:38.469Z"
   },
   {
    "duration": 23,
    "start_time": "2022-03-15T13:11:38.488Z"
   },
   {
    "duration": 21,
    "start_time": "2022-03-15T13:11:38.514Z"
   },
   {
    "duration": 7,
    "start_time": "2022-03-15T13:11:38.537Z"
   },
   {
    "duration": 17,
    "start_time": "2022-03-15T13:11:38.546Z"
   },
   {
    "duration": 25,
    "start_time": "2022-03-15T13:11:38.565Z"
   },
   {
    "duration": 9,
    "start_time": "2022-03-15T13:11:38.592Z"
   },
   {
    "duration": 16,
    "start_time": "2022-03-15T13:11:38.603Z"
   },
   {
    "duration": 9,
    "start_time": "2022-03-15T13:11:38.620Z"
   },
   {
    "duration": 11,
    "start_time": "2022-03-15T13:11:38.631Z"
   },
   {
    "duration": 7,
    "start_time": "2022-03-15T13:11:38.643Z"
   },
   {
    "duration": 15,
    "start_time": "2022-03-15T13:11:38.652Z"
   },
   {
    "duration": 13,
    "start_time": "2022-03-15T13:11:38.668Z"
   },
   {
    "duration": 13,
    "start_time": "2022-03-15T13:11:38.683Z"
   },
   {
    "duration": 17,
    "start_time": "2022-03-15T13:11:38.698Z"
   },
   {
    "duration": 10,
    "start_time": "2022-03-15T13:11:38.717Z"
   },
   {
    "duration": 8,
    "start_time": "2022-03-15T13:11:38.729Z"
   },
   {
    "duration": 10,
    "start_time": "2022-03-15T13:11:38.739Z"
   },
   {
    "duration": 21,
    "start_time": "2022-03-15T13:11:38.762Z"
   },
   {
    "duration": 26,
    "start_time": "2022-03-15T13:11:38.784Z"
   },
   {
    "duration": 6,
    "start_time": "2022-03-15T13:11:38.813Z"
   },
   {
    "duration": 5,
    "start_time": "2022-03-15T13:11:38.821Z"
   },
   {
    "duration": 6,
    "start_time": "2022-03-15T13:11:38.827Z"
   },
   {
    "duration": 31,
    "start_time": "2022-03-15T13:11:38.835Z"
   },
   {
    "duration": 43,
    "start_time": "2022-03-15T13:11:38.868Z"
   },
   {
    "duration": 7,
    "start_time": "2022-03-15T13:11:38.913Z"
   },
   {
    "duration": 8,
    "start_time": "2022-03-15T13:11:38.921Z"
   },
   {
    "duration": 36,
    "start_time": "2022-03-15T13:11:38.931Z"
   },
   {
    "duration": 15,
    "start_time": "2022-03-15T13:11:38.969Z"
   },
   {
    "duration": 6,
    "start_time": "2022-03-15T13:11:38.985Z"
   },
   {
    "duration": 4756,
    "start_time": "2022-03-15T13:11:38.995Z"
   },
   {
    "duration": 20,
    "start_time": "2022-03-15T13:11:43.753Z"
   },
   {
    "duration": 9,
    "start_time": "2022-03-15T13:11:43.775Z"
   },
   {
    "duration": 9,
    "start_time": "2022-03-15T13:11:43.786Z"
   },
   {
    "duration": 5,
    "start_time": "2022-03-15T13:11:43.797Z"
   },
   {
    "duration": 17,
    "start_time": "2022-03-15T13:11:43.804Z"
   },
   {
    "duration": 505,
    "start_time": "2022-03-15T13:11:48.825Z"
   },
   {
    "duration": 294,
    "start_time": "2022-03-15T13:12:12.659Z"
   },
   {
    "duration": 5703,
    "start_time": "2022-03-15T13:16:11.168Z"
   },
   {
    "duration": 3,
    "start_time": "2022-03-15T13:17:35.356Z"
   },
   {
    "duration": 223,
    "start_time": "2022-03-15T13:17:35.361Z"
   },
   {
    "duration": 29,
    "start_time": "2022-03-15T13:17:35.587Z"
   },
   {
    "duration": 29,
    "start_time": "2022-03-15T13:17:35.623Z"
   },
   {
    "duration": 26,
    "start_time": "2022-03-15T13:17:35.654Z"
   },
   {
    "duration": 49,
    "start_time": "2022-03-15T13:17:35.683Z"
   },
   {
    "duration": 6,
    "start_time": "2022-03-15T13:17:35.734Z"
   },
   {
    "duration": 17,
    "start_time": "2022-03-15T13:17:35.741Z"
   },
   {
    "duration": 16,
    "start_time": "2022-03-15T13:17:35.762Z"
   },
   {
    "duration": 36,
    "start_time": "2022-03-15T13:17:35.780Z"
   },
   {
    "duration": 8,
    "start_time": "2022-03-15T13:17:35.818Z"
   },
   {
    "duration": 13,
    "start_time": "2022-03-15T13:17:35.827Z"
   },
   {
    "duration": 17,
    "start_time": "2022-03-15T13:17:35.841Z"
   },
   {
    "duration": 14,
    "start_time": "2022-03-15T13:17:35.860Z"
   },
   {
    "duration": 12,
    "start_time": "2022-03-15T13:17:35.875Z"
   },
   {
    "duration": 14,
    "start_time": "2022-03-15T13:17:35.889Z"
   },
   {
    "duration": 11,
    "start_time": "2022-03-15T13:17:35.904Z"
   },
   {
    "duration": 7,
    "start_time": "2022-03-15T13:17:35.917Z"
   },
   {
    "duration": 10,
    "start_time": "2022-03-15T13:17:35.925Z"
   },
   {
    "duration": 12,
    "start_time": "2022-03-15T13:17:35.937Z"
   },
   {
    "duration": 22,
    "start_time": "2022-03-15T13:17:35.951Z"
   },
   {
    "duration": 23,
    "start_time": "2022-03-15T13:17:35.975Z"
   },
   {
    "duration": 13,
    "start_time": "2022-03-15T13:17:36.000Z"
   },
   {
    "duration": 19,
    "start_time": "2022-03-15T13:17:36.015Z"
   },
   {
    "duration": 17,
    "start_time": "2022-03-15T13:17:36.036Z"
   },
   {
    "duration": 31,
    "start_time": "2022-03-15T13:17:36.055Z"
   },
   {
    "duration": 48,
    "start_time": "2022-03-15T13:17:36.090Z"
   },
   {
    "duration": 6,
    "start_time": "2022-03-15T13:17:36.140Z"
   },
   {
    "duration": 6,
    "start_time": "2022-03-15T13:17:36.148Z"
   },
   {
    "duration": 14,
    "start_time": "2022-03-15T13:17:36.156Z"
   },
   {
    "duration": 21,
    "start_time": "2022-03-15T13:17:36.172Z"
   },
   {
    "duration": 49,
    "start_time": "2022-03-15T13:17:36.194Z"
   },
   {
    "duration": 28,
    "start_time": "2022-03-15T13:17:36.245Z"
   },
   {
    "duration": 13,
    "start_time": "2022-03-15T13:17:36.276Z"
   },
   {
    "duration": 9,
    "start_time": "2022-03-15T13:17:36.291Z"
   },
   {
    "duration": 14,
    "start_time": "2022-03-15T13:17:36.301Z"
   },
   {
    "duration": 8,
    "start_time": "2022-03-15T13:17:36.316Z"
   },
   {
    "duration": 11,
    "start_time": "2022-03-15T13:17:36.326Z"
   },
   {
    "duration": 34,
    "start_time": "2022-03-15T13:17:36.339Z"
   },
   {
    "duration": 19,
    "start_time": "2022-03-15T13:17:36.375Z"
   },
   {
    "duration": 5,
    "start_time": "2022-03-15T13:17:36.396Z"
   },
   {
    "duration": 14,
    "start_time": "2022-03-15T13:17:36.403Z"
   },
   {
    "duration": 11,
    "start_time": "2022-03-15T13:17:36.419Z"
   },
   {
    "duration": 7,
    "start_time": "2022-03-15T13:17:36.432Z"
   },
   {
    "duration": 30,
    "start_time": "2022-03-15T13:17:36.441Z"
   },
   {
    "duration": 14,
    "start_time": "2022-03-15T13:17:36.473Z"
   },
   {
    "duration": 10,
    "start_time": "2022-03-15T13:17:36.489Z"
   },
   {
    "duration": 7,
    "start_time": "2022-03-15T13:17:36.501Z"
   },
   {
    "duration": 10,
    "start_time": "2022-03-15T13:17:36.510Z"
   },
   {
    "duration": 8,
    "start_time": "2022-03-15T13:17:36.522Z"
   },
   {
    "duration": 9,
    "start_time": "2022-03-15T13:17:36.532Z"
   },
   {
    "duration": 34,
    "start_time": "2022-03-15T13:17:36.543Z"
   },
   {
    "duration": 14,
    "start_time": "2022-03-15T13:17:36.579Z"
   },
   {
    "duration": 8,
    "start_time": "2022-03-15T13:17:36.595Z"
   },
   {
    "duration": 8,
    "start_time": "2022-03-15T13:17:36.605Z"
   },
   {
    "duration": 9,
    "start_time": "2022-03-15T13:17:36.614Z"
   },
   {
    "duration": 25,
    "start_time": "2022-03-15T13:17:36.625Z"
   },
   {
    "duration": 8,
    "start_time": "2022-03-15T13:17:36.663Z"
   },
   {
    "duration": 19,
    "start_time": "2022-03-15T13:17:36.674Z"
   },
   {
    "duration": 4,
    "start_time": "2022-03-15T13:17:36.695Z"
   },
   {
    "duration": 7,
    "start_time": "2022-03-15T13:17:36.701Z"
   },
   {
    "duration": 27,
    "start_time": "2022-03-15T13:17:36.710Z"
   },
   {
    "duration": 5,
    "start_time": "2022-03-15T13:17:36.739Z"
   },
   {
    "duration": 27,
    "start_time": "2022-03-15T13:17:36.745Z"
   },
   {
    "duration": 21,
    "start_time": "2022-03-15T13:17:36.775Z"
   },
   {
    "duration": 8,
    "start_time": "2022-03-15T13:17:36.798Z"
   },
   {
    "duration": 6,
    "start_time": "2022-03-15T13:17:36.808Z"
   },
   {
    "duration": 3545,
    "start_time": "2022-03-15T13:17:36.815Z"
   },
   {
    "duration": 11,
    "start_time": "2022-03-15T13:17:40.363Z"
   },
   {
    "duration": 33,
    "start_time": "2022-03-15T13:17:40.376Z"
   },
   {
    "duration": 8,
    "start_time": "2022-03-15T13:17:40.411Z"
   },
   {
    "duration": 12,
    "start_time": "2022-03-15T13:17:40.421Z"
   },
   {
    "duration": 23,
    "start_time": "2022-03-15T13:17:40.435Z"
   },
   {
    "duration": 5294,
    "start_time": "2022-03-15T13:18:38.059Z"
   },
   {
    "duration": 5,
    "start_time": "2022-03-15T13:18:47.480Z"
   },
   {
    "duration": 219,
    "start_time": "2022-03-15T13:20:15.579Z"
   },
   {
    "duration": 6,
    "start_time": "2022-03-15T13:20:29.195Z"
   },
   {
    "duration": 82,
    "start_time": "2022-03-15T13:21:44.280Z"
   },
   {
    "duration": 3523,
    "start_time": "2022-03-15T13:22:24.007Z"
   },
   {
    "duration": 68,
    "start_time": "2022-03-15T13:22:41.969Z"
   },
   {
    "duration": 3817,
    "start_time": "2022-03-15T13:22:58.796Z"
   },
   {
    "duration": 5,
    "start_time": "2022-03-15T13:24:12.682Z"
   },
   {
    "duration": 205,
    "start_time": "2022-03-15T13:24:12.690Z"
   },
   {
    "duration": 23,
    "start_time": "2022-03-15T13:24:12.898Z"
   },
   {
    "duration": 9,
    "start_time": "2022-03-15T13:24:12.923Z"
   },
   {
    "duration": 9,
    "start_time": "2022-03-15T13:24:12.934Z"
   },
   {
    "duration": 28,
    "start_time": "2022-03-15T13:24:12.966Z"
   },
   {
    "duration": 6,
    "start_time": "2022-03-15T13:24:12.997Z"
   },
   {
    "duration": 15,
    "start_time": "2022-03-15T13:24:13.005Z"
   },
   {
    "duration": 8,
    "start_time": "2022-03-15T13:24:13.024Z"
   },
   {
    "duration": 50,
    "start_time": "2022-03-15T13:24:13.035Z"
   },
   {
    "duration": 19,
    "start_time": "2022-03-15T13:24:13.088Z"
   },
   {
    "duration": 18,
    "start_time": "2022-03-15T13:24:13.109Z"
   },
   {
    "duration": 19,
    "start_time": "2022-03-15T13:24:13.129Z"
   },
   {
    "duration": 18,
    "start_time": "2022-03-15T13:24:13.149Z"
   },
   {
    "duration": 12,
    "start_time": "2022-03-15T13:24:13.168Z"
   },
   {
    "duration": 26,
    "start_time": "2022-03-15T13:24:13.182Z"
   },
   {
    "duration": 7,
    "start_time": "2022-03-15T13:24:13.211Z"
   },
   {
    "duration": 7,
    "start_time": "2022-03-15T13:24:13.220Z"
   },
   {
    "duration": 7,
    "start_time": "2022-03-15T13:24:13.229Z"
   },
   {
    "duration": 31,
    "start_time": "2022-03-15T13:24:13.238Z"
   },
   {
    "duration": 17,
    "start_time": "2022-03-15T13:24:13.271Z"
   },
   {
    "duration": 17,
    "start_time": "2022-03-15T13:24:13.290Z"
   },
   {
    "duration": 10,
    "start_time": "2022-03-15T13:24:13.309Z"
   },
   {
    "duration": 16,
    "start_time": "2022-03-15T13:24:13.321Z"
   },
   {
    "duration": 33,
    "start_time": "2022-03-15T13:24:13.339Z"
   },
   {
    "duration": 13,
    "start_time": "2022-03-15T13:24:13.374Z"
   },
   {
    "duration": 81,
    "start_time": "2022-03-15T13:24:13.392Z"
   },
   {
    "duration": 10,
    "start_time": "2022-03-15T13:24:13.476Z"
   },
   {
    "duration": 10,
    "start_time": "2022-03-15T13:24:13.490Z"
   },
   {
    "duration": 9,
    "start_time": "2022-03-15T13:24:13.502Z"
   },
   {
    "duration": 15,
    "start_time": "2022-03-15T13:24:13.512Z"
   },
   {
    "duration": 309,
    "start_time": "2022-03-15T13:24:13.529Z"
   },
   {
    "duration": 7,
    "start_time": "2022-03-15T13:24:13.840Z"
   },
   {
    "duration": 10,
    "start_time": "2022-03-15T13:24:13.848Z"
   },
   {
    "duration": 31,
    "start_time": "2022-03-15T13:24:13.859Z"
   },
   {
    "duration": 8,
    "start_time": "2022-03-15T13:24:13.893Z"
   },
   {
    "duration": 6,
    "start_time": "2022-03-15T13:24:13.903Z"
   },
   {
    "duration": 14,
    "start_time": "2022-03-15T13:24:13.910Z"
   },
   {
    "duration": 6,
    "start_time": "2022-03-15T13:24:13.926Z"
   },
   {
    "duration": 21,
    "start_time": "2022-03-15T13:24:13.933Z"
   },
   {
    "duration": 4,
    "start_time": "2022-03-15T13:24:13.956Z"
   },
   {
    "duration": 19,
    "start_time": "2022-03-15T13:24:13.961Z"
   },
   {
    "duration": 17,
    "start_time": "2022-03-15T13:24:13.982Z"
   },
   {
    "duration": 5,
    "start_time": "2022-03-15T13:24:14.001Z"
   },
   {
    "duration": 7,
    "start_time": "2022-03-15T13:24:14.007Z"
   },
   {
    "duration": 9,
    "start_time": "2022-03-15T13:24:14.016Z"
   },
   {
    "duration": 6,
    "start_time": "2022-03-15T13:24:14.027Z"
   },
   {
    "duration": 6,
    "start_time": "2022-03-15T13:24:14.034Z"
   },
   {
    "duration": 45,
    "start_time": "2022-03-15T13:24:14.041Z"
   },
   {
    "duration": 12,
    "start_time": "2022-03-15T13:24:14.088Z"
   },
   {
    "duration": 12,
    "start_time": "2022-03-15T13:24:14.102Z"
   },
   {
    "duration": 9,
    "start_time": "2022-03-15T13:24:14.116Z"
   },
   {
    "duration": 11,
    "start_time": "2022-03-15T13:24:14.127Z"
   },
   {
    "duration": 7,
    "start_time": "2022-03-15T13:24:14.140Z"
   },
   {
    "duration": 26,
    "start_time": "2022-03-15T13:24:14.149Z"
   },
   {
    "duration": 20,
    "start_time": "2022-03-15T13:24:14.177Z"
   },
   {
    "duration": 33,
    "start_time": "2022-03-15T13:24:14.199Z"
   },
   {
    "duration": 6,
    "start_time": "2022-03-15T13:24:14.234Z"
   },
   {
    "duration": 10,
    "start_time": "2022-03-15T13:24:14.241Z"
   },
   {
    "duration": 11,
    "start_time": "2022-03-15T13:24:14.263Z"
   },
   {
    "duration": 30,
    "start_time": "2022-03-15T13:24:14.276Z"
   },
   {
    "duration": 30,
    "start_time": "2022-03-15T13:24:14.308Z"
   },
   {
    "duration": 9,
    "start_time": "2022-03-15T13:24:14.339Z"
   },
   {
    "duration": 9,
    "start_time": "2022-03-15T13:24:14.349Z"
   },
   {
    "duration": 26,
    "start_time": "2022-03-15T13:24:14.362Z"
   },
   {
    "duration": 16,
    "start_time": "2022-03-15T13:24:14.391Z"
   },
   {
    "duration": 6,
    "start_time": "2022-03-15T13:24:14.409Z"
   },
   {
    "duration": 5146,
    "start_time": "2022-03-15T13:24:14.417Z"
   },
   {
    "duration": 12,
    "start_time": "2022-03-15T13:24:19.565Z"
   },
   {
    "duration": 18,
    "start_time": "2022-03-15T13:24:19.580Z"
   },
   {
    "duration": 8,
    "start_time": "2022-03-15T13:24:19.600Z"
   },
   {
    "duration": 5,
    "start_time": "2022-03-15T13:24:19.610Z"
   },
   {
    "duration": 54,
    "start_time": "2022-03-15T13:24:19.616Z"
   },
   {
    "duration": 3463,
    "start_time": "2022-03-15T13:24:29.070Z"
   },
   {
    "duration": 3420,
    "start_time": "2022-03-15T13:25:07.549Z"
   },
   {
    "duration": 7716,
    "start_time": "2022-03-15T13:25:23.472Z"
   },
   {
    "duration": 6532,
    "start_time": "2022-03-15T13:25:33.589Z"
   },
   {
    "duration": 12,
    "start_time": "2022-03-15T13:26:00.088Z"
   },
   {
    "duration": 1071,
    "start_time": "2022-03-15T13:27:01.080Z"
   },
   {
    "duration": 38,
    "start_time": "2022-03-15T13:27:05.459Z"
   },
   {
    "duration": 1192,
    "start_time": "2022-03-15T13:27:39.547Z"
   },
   {
    "duration": 940,
    "start_time": "2022-03-15T13:27:53.065Z"
   },
   {
    "duration": 76,
    "start_time": "2022-03-15T13:32:15.040Z"
   },
   {
    "duration": 1069,
    "start_time": "2022-03-15T13:32:34.690Z"
   },
   {
    "duration": 73,
    "start_time": "2022-03-15T13:32:38.390Z"
   },
   {
    "duration": 4,
    "start_time": "2022-03-15T13:37:01.166Z"
   },
   {
    "duration": 215,
    "start_time": "2022-03-15T13:37:01.172Z"
   },
   {
    "duration": 39,
    "start_time": "2022-03-15T13:37:01.390Z"
   },
   {
    "duration": 31,
    "start_time": "2022-03-15T13:37:01.432Z"
   },
   {
    "duration": 9,
    "start_time": "2022-03-15T13:37:01.466Z"
   },
   {
    "duration": 37,
    "start_time": "2022-03-15T13:37:01.477Z"
   },
   {
    "duration": 31,
    "start_time": "2022-03-15T13:37:01.517Z"
   },
   {
    "duration": 71,
    "start_time": "2022-03-15T13:37:01.550Z"
   },
   {
    "duration": 17,
    "start_time": "2022-03-15T13:37:01.625Z"
   },
   {
    "duration": 58,
    "start_time": "2022-03-15T13:37:01.646Z"
   },
   {
    "duration": 9,
    "start_time": "2022-03-15T13:37:01.707Z"
   },
   {
    "duration": 42,
    "start_time": "2022-03-15T13:37:01.718Z"
   },
   {
    "duration": 51,
    "start_time": "2022-03-15T13:37:01.762Z"
   },
   {
    "duration": 33,
    "start_time": "2022-03-15T13:37:01.815Z"
   },
   {
    "duration": 18,
    "start_time": "2022-03-15T13:37:01.850Z"
   },
   {
    "duration": 25,
    "start_time": "2022-03-15T13:37:01.870Z"
   },
   {
    "duration": 25,
    "start_time": "2022-03-15T13:37:01.897Z"
   },
   {
    "duration": 18,
    "start_time": "2022-03-15T13:37:01.924Z"
   },
   {
    "duration": 32,
    "start_time": "2022-03-15T13:37:01.944Z"
   },
   {
    "duration": 14,
    "start_time": "2022-03-15T13:37:01.978Z"
   },
   {
    "duration": 42,
    "start_time": "2022-03-15T13:37:01.994Z"
   },
   {
    "duration": 25,
    "start_time": "2022-03-15T13:37:02.038Z"
   },
   {
    "duration": 31,
    "start_time": "2022-03-15T13:37:02.066Z"
   },
   {
    "duration": 31,
    "start_time": "2022-03-15T13:37:02.100Z"
   },
   {
    "duration": 34,
    "start_time": "2022-03-15T13:37:02.133Z"
   },
   {
    "duration": 21,
    "start_time": "2022-03-15T13:37:02.169Z"
   },
   {
    "duration": 73,
    "start_time": "2022-03-15T13:37:02.197Z"
   },
   {
    "duration": 8,
    "start_time": "2022-03-15T13:37:02.273Z"
   },
   {
    "duration": 41,
    "start_time": "2022-03-15T13:37:02.283Z"
   },
   {
    "duration": 22,
    "start_time": "2022-03-15T13:37:02.327Z"
   },
   {
    "duration": 47,
    "start_time": "2022-03-15T13:37:02.351Z"
   },
   {
    "duration": 83,
    "start_time": "2022-03-15T13:37:02.400Z"
   },
   {
    "duration": 8,
    "start_time": "2022-03-15T13:37:02.486Z"
   },
   {
    "duration": 22,
    "start_time": "2022-03-15T13:37:02.496Z"
   },
   {
    "duration": 24,
    "start_time": "2022-03-15T13:37:02.521Z"
   },
   {
    "duration": 33,
    "start_time": "2022-03-15T13:37:02.548Z"
   },
   {
    "duration": 19,
    "start_time": "2022-03-15T13:37:02.583Z"
   },
   {
    "duration": 20,
    "start_time": "2022-03-15T13:37:02.604Z"
   },
   {
    "duration": 13,
    "start_time": "2022-03-15T13:37:02.626Z"
   },
   {
    "duration": 38,
    "start_time": "2022-03-15T13:37:02.641Z"
   },
   {
    "duration": 10,
    "start_time": "2022-03-15T13:37:02.681Z"
   },
   {
    "duration": 18,
    "start_time": "2022-03-15T13:37:02.693Z"
   },
   {
    "duration": 14,
    "start_time": "2022-03-15T13:37:02.713Z"
   },
   {
    "duration": 23,
    "start_time": "2022-03-15T13:37:02.732Z"
   },
   {
    "duration": 25,
    "start_time": "2022-03-15T13:37:02.757Z"
   },
   {
    "duration": 50,
    "start_time": "2022-03-15T13:37:02.783Z"
   },
   {
    "duration": 19,
    "start_time": "2022-03-15T13:37:02.835Z"
   },
   {
    "duration": 14,
    "start_time": "2022-03-15T13:37:02.856Z"
   },
   {
    "duration": 15,
    "start_time": "2022-03-15T13:37:02.872Z"
   },
   {
    "duration": 10,
    "start_time": "2022-03-15T13:37:02.889Z"
   },
   {
    "duration": 23,
    "start_time": "2022-03-15T13:37:02.901Z"
   },
   {
    "duration": 21,
    "start_time": "2022-03-15T13:37:02.926Z"
   },
   {
    "duration": 16,
    "start_time": "2022-03-15T13:37:02.949Z"
   },
   {
    "duration": 15,
    "start_time": "2022-03-15T13:37:02.967Z"
   },
   {
    "duration": 13,
    "start_time": "2022-03-15T13:37:02.984Z"
   },
   {
    "duration": 25,
    "start_time": "2022-03-15T13:37:02.998Z"
   },
   {
    "duration": 30,
    "start_time": "2022-03-15T13:37:03.025Z"
   },
   {
    "duration": 15,
    "start_time": "2022-03-15T13:37:03.057Z"
   },
   {
    "duration": 24,
    "start_time": "2022-03-15T13:37:03.075Z"
   },
   {
    "duration": 13,
    "start_time": "2022-03-15T13:37:03.101Z"
   },
   {
    "duration": 25,
    "start_time": "2022-03-15T13:37:03.116Z"
   },
   {
    "duration": 48,
    "start_time": "2022-03-15T13:37:03.143Z"
   },
   {
    "duration": 7,
    "start_time": "2022-03-15T13:37:03.193Z"
   },
   {
    "duration": 14,
    "start_time": "2022-03-15T13:37:03.202Z"
   },
   {
    "duration": 26,
    "start_time": "2022-03-15T13:37:03.218Z"
   },
   {
    "duration": 34,
    "start_time": "2022-03-15T13:37:03.247Z"
   },
   {
    "duration": 33,
    "start_time": "2022-03-15T13:37:03.283Z"
   },
   {
    "duration": 3819,
    "start_time": "2022-03-15T13:37:03.318Z"
   },
   {
    "duration": 12,
    "start_time": "2022-03-15T13:37:07.139Z"
   },
   {
    "duration": 17,
    "start_time": "2022-03-15T13:37:07.153Z"
   },
   {
    "duration": 9,
    "start_time": "2022-03-15T13:37:07.172Z"
   },
   {
    "duration": 5,
    "start_time": "2022-03-15T13:37:07.183Z"
   },
   {
    "duration": 17,
    "start_time": "2022-03-15T13:37:23.241Z"
   },
   {
    "duration": 969,
    "start_time": "2022-03-15T13:37:41.880Z"
   },
   {
    "duration": 966,
    "start_time": "2022-03-15T13:38:51.569Z"
   },
   {
    "duration": 919,
    "start_time": "2022-03-15T13:39:02.388Z"
   },
   {
    "duration": 51,
    "start_time": "2022-03-15T13:39:06.397Z"
   },
   {
    "duration": 5496,
    "start_time": "2022-03-15T13:39:16.969Z"
   },
   {
    "duration": 14,
    "start_time": "2022-03-15T13:39:22.467Z"
   },
   {
    "duration": 498,
    "start_time": "2022-03-15T13:40:57.929Z"
   },
   {
    "duration": 5901,
    "start_time": "2022-03-15T13:40:59.536Z"
   },
   {
    "duration": 4,
    "start_time": "2022-03-15T13:41:38.257Z"
   },
   {
    "duration": 269,
    "start_time": "2022-03-15T13:41:38.263Z"
   },
   {
    "duration": 49,
    "start_time": "2022-03-15T13:41:38.535Z"
   },
   {
    "duration": 22,
    "start_time": "2022-03-15T13:41:38.586Z"
   },
   {
    "duration": 16,
    "start_time": "2022-03-15T13:41:38.610Z"
   },
   {
    "duration": 42,
    "start_time": "2022-03-15T13:41:38.629Z"
   },
   {
    "duration": 7,
    "start_time": "2022-03-15T13:41:38.673Z"
   },
   {
    "duration": 8,
    "start_time": "2022-03-15T13:41:38.684Z"
   },
   {
    "duration": 9,
    "start_time": "2022-03-15T13:41:38.694Z"
   },
   {
    "duration": 57,
    "start_time": "2022-03-15T13:41:38.705Z"
   },
   {
    "duration": 8,
    "start_time": "2022-03-15T13:41:38.764Z"
   },
   {
    "duration": 21,
    "start_time": "2022-03-15T13:41:38.773Z"
   },
   {
    "duration": 10,
    "start_time": "2022-03-15T13:41:38.797Z"
   },
   {
    "duration": 6,
    "start_time": "2022-03-15T13:41:38.808Z"
   },
   {
    "duration": 9,
    "start_time": "2022-03-15T13:41:38.816Z"
   },
   {
    "duration": 39,
    "start_time": "2022-03-15T13:41:38.826Z"
   },
   {
    "duration": 6,
    "start_time": "2022-03-15T13:41:38.866Z"
   },
   {
    "duration": 15,
    "start_time": "2022-03-15T13:41:38.874Z"
   },
   {
    "duration": 7,
    "start_time": "2022-03-15T13:41:38.891Z"
   },
   {
    "duration": 8,
    "start_time": "2022-03-15T13:41:38.900Z"
   },
   {
    "duration": 14,
    "start_time": "2022-03-15T13:41:38.909Z"
   },
   {
    "duration": 45,
    "start_time": "2022-03-15T13:41:38.925Z"
   },
   {
    "duration": 6,
    "start_time": "2022-03-15T13:41:38.974Z"
   },
   {
    "duration": 11,
    "start_time": "2022-03-15T13:41:38.983Z"
   },
   {
    "duration": 10,
    "start_time": "2022-03-15T13:41:38.996Z"
   },
   {
    "duration": 17,
    "start_time": "2022-03-15T13:41:39.008Z"
   },
   {
    "duration": 100,
    "start_time": "2022-03-15T13:41:39.027Z"
   },
   {
    "duration": 7,
    "start_time": "2022-03-15T13:41:39.129Z"
   },
   {
    "duration": 33,
    "start_time": "2022-03-15T13:41:39.138Z"
   },
   {
    "duration": 5,
    "start_time": "2022-03-15T13:41:39.173Z"
   },
   {
    "duration": 11,
    "start_time": "2022-03-15T13:41:39.180Z"
   },
   {
    "duration": 93,
    "start_time": "2022-03-15T13:41:39.193Z"
   },
   {
    "duration": 7,
    "start_time": "2022-03-15T13:41:39.288Z"
   },
   {
    "duration": 8,
    "start_time": "2022-03-15T13:41:39.297Z"
   },
   {
    "duration": 10,
    "start_time": "2022-03-15T13:41:39.306Z"
   },
   {
    "duration": 8,
    "start_time": "2022-03-15T13:41:39.317Z"
   },
   {
    "duration": 10,
    "start_time": "2022-03-15T13:41:39.327Z"
   },
   {
    "duration": 37,
    "start_time": "2022-03-15T13:41:39.339Z"
   },
   {
    "duration": 15,
    "start_time": "2022-03-15T13:41:39.378Z"
   },
   {
    "duration": 24,
    "start_time": "2022-03-15T13:41:39.395Z"
   },
   {
    "duration": 7,
    "start_time": "2022-03-15T13:41:39.421Z"
   },
   {
    "duration": 34,
    "start_time": "2022-03-15T13:41:39.430Z"
   },
   {
    "duration": 11,
    "start_time": "2022-03-15T13:41:39.466Z"
   },
   {
    "duration": 8,
    "start_time": "2022-03-15T13:41:39.479Z"
   },
   {
    "duration": 9,
    "start_time": "2022-03-15T13:41:39.489Z"
   },
   {
    "duration": 7,
    "start_time": "2022-03-15T13:41:39.501Z"
   },
   {
    "duration": 6,
    "start_time": "2022-03-15T13:41:39.510Z"
   },
   {
    "duration": 24,
    "start_time": "2022-03-15T13:41:39.518Z"
   },
   {
    "duration": 8,
    "start_time": "2022-03-15T13:41:39.562Z"
   },
   {
    "duration": 6,
    "start_time": "2022-03-15T13:41:39.572Z"
   },
   {
    "duration": 14,
    "start_time": "2022-03-15T13:41:39.579Z"
   },
   {
    "duration": 15,
    "start_time": "2022-03-15T13:41:39.595Z"
   },
   {
    "duration": 11,
    "start_time": "2022-03-15T13:41:39.612Z"
   },
   {
    "duration": 40,
    "start_time": "2022-03-15T13:41:39.625Z"
   },
   {
    "duration": 6,
    "start_time": "2022-03-15T13:41:39.667Z"
   },
   {
    "duration": 13,
    "start_time": "2022-03-15T13:41:39.674Z"
   },
   {
    "duration": 41,
    "start_time": "2022-03-15T13:41:39.689Z"
   },
   {
    "duration": 32,
    "start_time": "2022-03-15T13:41:39.732Z"
   },
   {
    "duration": 9,
    "start_time": "2022-03-15T13:41:39.766Z"
   },
   {
    "duration": 9,
    "start_time": "2022-03-15T13:41:39.777Z"
   },
   {
    "duration": 12,
    "start_time": "2022-03-15T13:41:39.788Z"
   },
   {
    "duration": 33,
    "start_time": "2022-03-15T13:41:39.802Z"
   },
   {
    "duration": 32,
    "start_time": "2022-03-15T13:41:39.836Z"
   },
   {
    "duration": 7,
    "start_time": "2022-03-15T13:41:39.870Z"
   },
   {
    "duration": 14,
    "start_time": "2022-03-15T13:41:39.879Z"
   },
   {
    "duration": 5,
    "start_time": "2022-03-15T13:41:39.895Z"
   },
   {
    "duration": 5,
    "start_time": "2022-03-15T13:41:39.902Z"
   },
   {
    "duration": 5137,
    "start_time": "2022-03-15T13:41:39.913Z"
   },
   {
    "duration": 17,
    "start_time": "2022-03-15T13:41:45.052Z"
   },
   {
    "duration": 11,
    "start_time": "2022-03-15T13:41:45.071Z"
   },
   {
    "duration": 9,
    "start_time": "2022-03-15T13:41:45.084Z"
   },
   {
    "duration": 6,
    "start_time": "2022-03-15T13:41:45.095Z"
   },
   {
    "duration": 22,
    "start_time": "2022-03-15T13:41:45.103Z"
   },
   {
    "duration": 1071,
    "start_time": "2022-03-15T13:41:45.127Z"
   },
   {
    "duration": 7,
    "start_time": "2022-03-15T13:42:10.680Z"
   },
   {
    "duration": 6,
    "start_time": "2022-03-15T13:42:35.819Z"
   },
   {
    "duration": 5,
    "start_time": "2022-03-15T13:43:27.848Z"
   },
   {
    "duration": 291,
    "start_time": "2022-03-15T13:48:46.290Z"
   },
   {
    "duration": 73,
    "start_time": "2022-03-15T13:49:58.395Z"
   },
   {
    "duration": 4591,
    "start_time": "2022-03-15T13:50:16.488Z"
   },
   {
    "duration": 212,
    "start_time": "2022-03-16T05:54:40.893Z"
   },
   {
    "duration": 1096,
    "start_time": "2022-03-16T05:54:47.926Z"
   },
   {
    "duration": 545,
    "start_time": "2022-03-16T05:54:49.024Z"
   },
   {
    "duration": 25,
    "start_time": "2022-03-16T05:54:49.571Z"
   },
   {
    "duration": 12,
    "start_time": "2022-03-16T05:54:49.598Z"
   },
   {
    "duration": 11,
    "start_time": "2022-03-16T05:54:49.612Z"
   },
   {
    "duration": 29,
    "start_time": "2022-03-16T05:54:49.625Z"
   },
   {
    "duration": 8,
    "start_time": "2022-03-16T05:54:49.656Z"
   },
   {
    "duration": 7,
    "start_time": "2022-03-16T05:54:49.666Z"
   },
   {
    "duration": 7,
    "start_time": "2022-03-16T05:54:49.676Z"
   },
   {
    "duration": 62,
    "start_time": "2022-03-16T05:54:49.685Z"
   },
   {
    "duration": 7,
    "start_time": "2022-03-16T05:54:49.749Z"
   },
   {
    "duration": 13,
    "start_time": "2022-03-16T05:54:49.757Z"
   },
   {
    "duration": 10,
    "start_time": "2022-03-16T05:54:49.772Z"
   },
   {
    "duration": 8,
    "start_time": "2022-03-16T05:54:49.784Z"
   },
   {
    "duration": 7,
    "start_time": "2022-03-16T05:54:49.793Z"
   },
   {
    "duration": 6,
    "start_time": "2022-03-16T05:54:49.838Z"
   },
   {
    "duration": 7,
    "start_time": "2022-03-16T05:54:49.845Z"
   },
   {
    "duration": 4,
    "start_time": "2022-03-16T05:54:49.854Z"
   },
   {
    "duration": 5,
    "start_time": "2022-03-16T05:54:49.860Z"
   },
   {
    "duration": 5,
    "start_time": "2022-03-16T05:54:49.867Z"
   },
   {
    "duration": 11,
    "start_time": "2022-03-16T05:54:49.874Z"
   },
   {
    "duration": 51,
    "start_time": "2022-03-16T05:54:49.887Z"
   },
   {
    "duration": 10,
    "start_time": "2022-03-16T05:54:49.940Z"
   },
   {
    "duration": 11,
    "start_time": "2022-03-16T05:54:49.951Z"
   },
   {
    "duration": 7,
    "start_time": "2022-03-16T05:54:49.964Z"
   },
   {
    "duration": 10,
    "start_time": "2022-03-16T05:54:49.973Z"
   },
   {
    "duration": 71,
    "start_time": "2022-03-16T05:54:49.986Z"
   },
   {
    "duration": 6,
    "start_time": "2022-03-16T05:54:50.059Z"
   },
   {
    "duration": 6,
    "start_time": "2022-03-16T05:54:50.066Z"
   },
   {
    "duration": 6,
    "start_time": "2022-03-16T05:54:50.073Z"
   },
   {
    "duration": 9,
    "start_time": "2022-03-16T05:54:50.080Z"
   },
   {
    "duration": 75,
    "start_time": "2022-03-16T05:54:50.091Z"
   },
   {
    "duration": 5,
    "start_time": "2022-03-16T05:54:50.167Z"
   },
   {
    "duration": 7,
    "start_time": "2022-03-16T05:54:50.174Z"
   },
   {
    "duration": 7,
    "start_time": "2022-03-16T05:54:50.183Z"
   },
   {
    "duration": 12,
    "start_time": "2022-03-16T05:54:50.192Z"
   },
   {
    "duration": 11,
    "start_time": "2022-03-16T05:54:50.205Z"
   },
   {
    "duration": 23,
    "start_time": "2022-03-16T05:54:50.218Z"
   },
   {
    "duration": 5,
    "start_time": "2022-03-16T05:54:50.243Z"
   },
   {
    "duration": 19,
    "start_time": "2022-03-16T05:54:50.249Z"
   },
   {
    "duration": 5,
    "start_time": "2022-03-16T05:54:50.269Z"
   },
   {
    "duration": 14,
    "start_time": "2022-03-16T05:54:50.276Z"
   },
   {
    "duration": 8,
    "start_time": "2022-03-16T05:54:50.291Z"
   },
   {
    "duration": 40,
    "start_time": "2022-03-16T05:54:50.300Z"
   },
   {
    "duration": 6,
    "start_time": "2022-03-16T05:54:50.341Z"
   },
   {
    "duration": 8,
    "start_time": "2022-03-16T05:54:50.348Z"
   },
   {
    "duration": 7,
    "start_time": "2022-03-16T05:54:50.358Z"
   },
   {
    "duration": 7,
    "start_time": "2022-03-16T05:54:50.366Z"
   },
   {
    "duration": 5,
    "start_time": "2022-03-16T05:54:50.374Z"
   },
   {
    "duration": 6,
    "start_time": "2022-03-16T05:54:50.380Z"
   },
   {
    "duration": 10,
    "start_time": "2022-03-16T05:54:50.387Z"
   },
   {
    "duration": 43,
    "start_time": "2022-03-16T05:54:50.399Z"
   },
   {
    "duration": 7,
    "start_time": "2022-03-16T05:54:50.443Z"
   },
   {
    "duration": 11,
    "start_time": "2022-03-16T05:54:50.452Z"
   },
   {
    "duration": 10,
    "start_time": "2022-03-16T05:54:50.464Z"
   },
   {
    "duration": 8,
    "start_time": "2022-03-16T05:54:50.475Z"
   },
   {
    "duration": 26,
    "start_time": "2022-03-16T05:54:50.484Z"
   },
   {
    "duration": 30,
    "start_time": "2022-03-16T05:54:50.511Z"
   },
   {
    "duration": 8,
    "start_time": "2022-03-16T05:54:50.542Z"
   },
   {
    "duration": 5,
    "start_time": "2022-03-16T05:54:50.552Z"
   },
   {
    "duration": 8,
    "start_time": "2022-03-16T05:54:50.559Z"
   },
   {
    "duration": 30,
    "start_time": "2022-03-16T05:54:50.568Z"
   },
   {
    "duration": 5,
    "start_time": "2022-03-16T05:54:50.600Z"
   },
   {
    "duration": 34,
    "start_time": "2022-03-16T05:54:50.606Z"
   },
   {
    "duration": 10,
    "start_time": "2022-03-16T05:54:50.642Z"
   },
   {
    "duration": 4,
    "start_time": "2022-03-16T05:54:50.654Z"
   },
   {
    "duration": 6,
    "start_time": "2022-03-16T05:54:50.659Z"
   },
   {
    "duration": 3148,
    "start_time": "2022-03-16T05:54:50.667Z"
   },
   {
    "duration": 10,
    "start_time": "2022-03-16T05:54:53.817Z"
   },
   {
    "duration": 22,
    "start_time": "2022-03-16T05:54:53.829Z"
   },
   {
    "duration": 7,
    "start_time": "2022-03-16T05:54:53.853Z"
   },
   {
    "duration": 5,
    "start_time": "2022-03-16T05:54:53.862Z"
   },
   {
    "duration": 27,
    "start_time": "2022-03-16T05:54:53.869Z"
   },
   {
    "duration": 502,
    "start_time": "2022-03-16T05:54:53.898Z"
   },
   {
    "duration": 245,
    "start_time": "2022-03-16T05:54:54.402Z"
   },
   {
    "duration": 293,
    "start_time": "2022-03-16T05:54:57.525Z"
   },
   {
    "duration": 244,
    "start_time": "2022-03-16T05:56:28.366Z"
   },
   {
    "duration": 267,
    "start_time": "2022-03-16T05:57:12.219Z"
   },
   {
    "duration": 222,
    "start_time": "2022-03-16T05:58:07.106Z"
   },
   {
    "duration": 213,
    "start_time": "2022-03-16T05:59:01.266Z"
   },
   {
    "duration": 214,
    "start_time": "2022-03-16T05:59:26.286Z"
   },
   {
    "duration": 37,
    "start_time": "2022-03-16T06:01:00.066Z"
   },
   {
    "duration": 37,
    "start_time": "2022-03-16T06:01:26.453Z"
   },
   {
    "duration": 3080,
    "start_time": "2022-03-16T06:01:50.058Z"
   },
   {
    "duration": 232,
    "start_time": "2022-03-16T06:02:34.026Z"
   },
   {
    "duration": 2756,
    "start_time": "2022-03-16T06:03:06.766Z"
   },
   {
    "duration": 9,
    "start_time": "2022-03-16T06:03:12.763Z"
   },
   {
    "duration": 44,
    "start_time": "2022-03-16T06:03:43.174Z"
   },
   {
    "duration": 26,
    "start_time": "2022-03-16T06:03:44.826Z"
   },
   {
    "duration": 211,
    "start_time": "2022-03-16T06:06:32.935Z"
   },
   {
    "duration": 223,
    "start_time": "2022-03-16T06:08:03.315Z"
   },
   {
    "duration": 3,
    "start_time": "2022-03-16T06:08:27.418Z"
   },
   {
    "duration": 228,
    "start_time": "2022-03-16T06:08:27.423Z"
   },
   {
    "duration": 23,
    "start_time": "2022-03-16T06:08:27.653Z"
   },
   {
    "duration": 10,
    "start_time": "2022-03-16T06:08:27.678Z"
   },
   {
    "duration": 11,
    "start_time": "2022-03-16T06:08:27.690Z"
   },
   {
    "duration": 40,
    "start_time": "2022-03-16T06:08:27.703Z"
   },
   {
    "duration": 5,
    "start_time": "2022-03-16T06:08:27.745Z"
   },
   {
    "duration": 6,
    "start_time": "2022-03-16T06:08:27.752Z"
   },
   {
    "duration": 5,
    "start_time": "2022-03-16T06:08:27.761Z"
   },
   {
    "duration": 25,
    "start_time": "2022-03-16T06:08:27.768Z"
   },
   {
    "duration": 5,
    "start_time": "2022-03-16T06:08:27.794Z"
   },
   {
    "duration": 10,
    "start_time": "2022-03-16T06:08:27.838Z"
   },
   {
    "duration": 9,
    "start_time": "2022-03-16T06:08:27.850Z"
   },
   {
    "duration": 8,
    "start_time": "2022-03-16T06:08:27.860Z"
   },
   {
    "duration": 9,
    "start_time": "2022-03-16T06:08:27.870Z"
   },
   {
    "duration": 6,
    "start_time": "2022-03-16T06:08:27.881Z"
   },
   {
    "duration": 7,
    "start_time": "2022-03-16T06:08:27.888Z"
   },
   {
    "duration": 42,
    "start_time": "2022-03-16T06:08:27.896Z"
   },
   {
    "duration": 5,
    "start_time": "2022-03-16T06:08:27.940Z"
   },
   {
    "duration": 5,
    "start_time": "2022-03-16T06:08:27.947Z"
   },
   {
    "duration": 13,
    "start_time": "2022-03-16T06:08:27.954Z"
   },
   {
    "duration": 12,
    "start_time": "2022-03-16T06:08:27.969Z"
   },
   {
    "duration": 7,
    "start_time": "2022-03-16T06:08:27.983Z"
   },
   {
    "duration": 10,
    "start_time": "2022-03-16T06:08:27.992Z"
   },
   {
    "duration": 35,
    "start_time": "2022-03-16T06:08:28.004Z"
   },
   {
    "duration": 11,
    "start_time": "2022-03-16T06:08:28.040Z"
   },
   {
    "duration": 44,
    "start_time": "2022-03-16T06:08:28.055Z"
   },
   {
    "duration": 6,
    "start_time": "2022-03-16T06:08:28.102Z"
   },
   {
    "duration": 29,
    "start_time": "2022-03-16T06:08:28.109Z"
   },
   {
    "duration": 9,
    "start_time": "2022-03-16T06:08:28.140Z"
   },
   {
    "duration": 10,
    "start_time": "2022-03-16T06:08:28.151Z"
   },
   {
    "duration": 43,
    "start_time": "2022-03-16T06:08:28.162Z"
   },
   {
    "duration": 5,
    "start_time": "2022-03-16T06:08:28.206Z"
   },
   {
    "duration": 26,
    "start_time": "2022-03-16T06:08:28.213Z"
   },
   {
    "duration": 6,
    "start_time": "2022-03-16T06:08:28.240Z"
   },
   {
    "duration": 13,
    "start_time": "2022-03-16T06:08:28.248Z"
   },
   {
    "duration": 7,
    "start_time": "2022-03-16T06:08:28.263Z"
   },
   {
    "duration": 10,
    "start_time": "2022-03-16T06:08:28.271Z"
   },
   {
    "duration": 6,
    "start_time": "2022-03-16T06:08:28.282Z"
   },
   {
    "duration": 19,
    "start_time": "2022-03-16T06:08:28.289Z"
   },
   {
    "duration": 32,
    "start_time": "2022-03-16T06:08:28.309Z"
   },
   {
    "duration": 11,
    "start_time": "2022-03-16T06:08:28.343Z"
   },
   {
    "duration": 10,
    "start_time": "2022-03-16T06:08:28.355Z"
   },
   {
    "duration": 6,
    "start_time": "2022-03-16T06:08:28.367Z"
   },
   {
    "duration": 6,
    "start_time": "2022-03-16T06:08:28.375Z"
   },
   {
    "duration": 5,
    "start_time": "2022-03-16T06:08:28.383Z"
   },
   {
    "duration": 48,
    "start_time": "2022-03-16T06:08:28.390Z"
   },
   {
    "duration": 7,
    "start_time": "2022-03-16T06:08:28.440Z"
   },
   {
    "duration": 6,
    "start_time": "2022-03-16T06:08:28.449Z"
   },
   {
    "duration": 7,
    "start_time": "2022-03-16T06:08:28.457Z"
   },
   {
    "duration": 9,
    "start_time": "2022-03-16T06:08:28.465Z"
   },
   {
    "duration": 14,
    "start_time": "2022-03-16T06:08:28.476Z"
   },
   {
    "duration": 9,
    "start_time": "2022-03-16T06:08:28.492Z"
   },
   {
    "duration": 40,
    "start_time": "2022-03-16T06:08:28.502Z"
   },
   {
    "duration": 10,
    "start_time": "2022-03-16T06:08:28.544Z"
   },
   {
    "duration": 8,
    "start_time": "2022-03-16T06:08:28.556Z"
   },
   {
    "duration": 27,
    "start_time": "2022-03-16T06:08:28.565Z"
   },
   {
    "duration": 12,
    "start_time": "2022-03-16T06:08:28.594Z"
   },
   {
    "duration": 6,
    "start_time": "2022-03-16T06:08:28.607Z"
   },
   {
    "duration": 6,
    "start_time": "2022-03-16T06:08:28.638Z"
   },
   {
    "duration": 14,
    "start_time": "2022-03-16T06:08:28.646Z"
   },
   {
    "duration": 27,
    "start_time": "2022-03-16T06:08:28.662Z"
   },
   {
    "duration": 10,
    "start_time": "2022-03-16T06:08:28.691Z"
   },
   {
    "duration": 6,
    "start_time": "2022-03-16T06:08:28.702Z"
   },
   {
    "duration": 33,
    "start_time": "2022-03-16T06:08:28.710Z"
   },
   {
    "duration": 8,
    "start_time": "2022-03-16T06:08:28.745Z"
   },
   {
    "duration": 7,
    "start_time": "2022-03-16T06:08:28.755Z"
   },
   {
    "duration": 3133,
    "start_time": "2022-03-16T06:08:28.764Z"
   },
   {
    "duration": 10,
    "start_time": "2022-03-16T06:08:31.898Z"
   },
   {
    "duration": 24,
    "start_time": "2022-03-16T06:08:31.910Z"
   },
   {
    "duration": 8,
    "start_time": "2022-03-16T06:08:31.935Z"
   },
   {
    "duration": 7,
    "start_time": "2022-03-16T06:08:31.944Z"
   },
   {
    "duration": 21,
    "start_time": "2022-03-16T06:08:31.953Z"
   },
   {
    "duration": 213,
    "start_time": "2022-03-16T06:08:34.225Z"
   },
   {
    "duration": 37,
    "start_time": "2022-03-16T06:15:51.320Z"
   },
   {
    "duration": 38,
    "start_time": "2022-03-16T06:16:07.399Z"
   },
   {
    "duration": 17,
    "start_time": "2022-03-16T06:16:15.175Z"
   },
   {
    "duration": 11,
    "start_time": "2022-03-16T06:16:35.989Z"
   },
   {
    "duration": 22,
    "start_time": "2022-03-16T06:17:18.899Z"
   },
   {
    "duration": 13,
    "start_time": "2022-03-16T06:17:34.419Z"
   },
   {
    "duration": 19,
    "start_time": "2022-03-16T06:23:35.635Z"
   },
   {
    "duration": 16,
    "start_time": "2022-03-16T06:23:49.429Z"
   },
   {
    "duration": 17,
    "start_time": "2022-03-16T06:25:19.816Z"
   },
   {
    "duration": 16,
    "start_time": "2022-03-16T06:25:22.900Z"
   },
   {
    "duration": 19,
    "start_time": "2022-03-16T06:30:25.657Z"
   },
   {
    "duration": 9,
    "start_time": "2022-03-16T06:30:29.548Z"
   },
   {
    "duration": 231,
    "start_time": "2022-03-16T06:30:47.968Z"
   },
   {
    "duration": 171,
    "start_time": "2022-03-16T06:31:17.096Z"
   },
   {
    "duration": 41,
    "start_time": "2022-03-16T06:31:22.490Z"
   },
   {
    "duration": 371,
    "start_time": "2022-03-16T06:32:00.445Z"
   },
   {
    "duration": 746,
    "start_time": "2022-03-16T06:33:33.969Z"
   },
   {
    "duration": 977,
    "start_time": "2022-03-16T06:33:55.557Z"
   },
   {
    "duration": 501,
    "start_time": "2022-03-16T06:34:57.134Z"
   },
   {
    "duration": 240,
    "start_time": "2022-03-16T06:34:57.817Z"
   },
   {
    "duration": 990,
    "start_time": "2022-03-16T06:35:09.089Z"
   },
   {
    "duration": 1071,
    "start_time": "2022-03-16T06:35:22.369Z"
   },
   {
    "duration": 52,
    "start_time": "2022-03-16T06:35:33.341Z"
   },
   {
    "duration": 33,
    "start_time": "2022-03-16T06:35:57.241Z"
   },
   {
    "duration": 172,
    "start_time": "2022-03-16T06:37:45.249Z"
   },
   {
    "duration": 17,
    "start_time": "2022-03-16T06:38:06.130Z"
   },
   {
    "duration": 959,
    "start_time": "2022-03-16T06:38:26.521Z"
   },
   {
    "duration": 17,
    "start_time": "2022-03-16T06:40:06.501Z"
   },
   {
    "duration": 775,
    "start_time": "2022-03-16T06:40:15.158Z"
   },
   {
    "duration": 18,
    "start_time": "2022-03-16T06:48:17.009Z"
   },
   {
    "duration": 11,
    "start_time": "2022-03-16T06:48:31.041Z"
   },
   {
    "duration": 11,
    "start_time": "2022-03-16T07:11:27.132Z"
   },
   {
    "duration": 19,
    "start_time": "2022-03-16T07:12:51.235Z"
   },
   {
    "duration": 137,
    "start_time": "2022-03-16T07:14:11.483Z"
   },
   {
    "duration": 59,
    "start_time": "2022-03-16T07:14:25.287Z"
   },
   {
    "duration": 27,
    "start_time": "2022-03-16T07:21:06.204Z"
   },
   {
    "duration": 5,
    "start_time": "2022-03-16T07:21:14.436Z"
   },
   {
    "duration": 23,
    "start_time": "2022-03-16T07:21:38.206Z"
   },
   {
    "duration": 20,
    "start_time": "2022-03-16T07:21:38.916Z"
   },
   {
    "duration": 65,
    "start_time": "2022-03-16T07:27:07.717Z"
   },
   {
    "duration": 44,
    "start_time": "2022-03-16T07:27:10.616Z"
   },
   {
    "duration": 19,
    "start_time": "2022-03-16T07:29:00.125Z"
   },
   {
    "duration": 3,
    "start_time": "2022-03-16T07:29:15.345Z"
   },
   {
    "duration": 125,
    "start_time": "2022-03-16T07:29:35.964Z"
   },
   {
    "duration": 209,
    "start_time": "2022-03-16T07:32:53.546Z"
   },
   {
    "duration": 58,
    "start_time": "2022-03-16T07:33:48.985Z"
   },
   {
    "duration": 187,
    "start_time": "2022-03-16T07:33:57.405Z"
   },
   {
    "duration": 216,
    "start_time": "2022-03-16T07:36:35.785Z"
   },
   {
    "duration": 27,
    "start_time": "2022-03-16T07:40:42.307Z"
   },
   {
    "duration": 35,
    "start_time": "2022-03-16T07:41:05.465Z"
   },
   {
    "duration": 39,
    "start_time": "2022-03-16T07:41:15.243Z"
   },
   {
    "duration": 31,
    "start_time": "2022-03-16T07:42:22.297Z"
   },
   {
    "duration": 110,
    "start_time": "2022-03-16T07:42:27.865Z"
   },
   {
    "duration": 28,
    "start_time": "2022-03-16T07:42:28.805Z"
   },
   {
    "duration": 6,
    "start_time": "2022-03-16T10:29:49.897Z"
   },
   {
    "duration": 1106,
    "start_time": "2022-03-16T10:29:49.905Z"
   },
   {
    "duration": 226,
    "start_time": "2022-03-16T10:29:51.013Z"
   },
   {
    "duration": 22,
    "start_time": "2022-03-16T10:29:51.241Z"
   },
   {
    "duration": 11,
    "start_time": "2022-03-16T10:29:51.264Z"
   },
   {
    "duration": 11,
    "start_time": "2022-03-16T10:29:51.277Z"
   },
   {
    "duration": 18,
    "start_time": "2022-03-16T10:29:51.290Z"
   },
   {
    "duration": 27,
    "start_time": "2022-03-16T10:29:51.309Z"
   },
   {
    "duration": 6,
    "start_time": "2022-03-16T10:29:51.338Z"
   },
   {
    "duration": 14,
    "start_time": "2022-03-16T10:29:51.346Z"
   },
   {
    "duration": 24,
    "start_time": "2022-03-16T10:29:51.362Z"
   },
   {
    "duration": 5,
    "start_time": "2022-03-16T10:29:51.388Z"
   },
   {
    "duration": 14,
    "start_time": "2022-03-16T10:29:51.394Z"
   },
   {
    "duration": 26,
    "start_time": "2022-03-16T10:29:51.409Z"
   },
   {
    "duration": 6,
    "start_time": "2022-03-16T10:29:51.436Z"
   },
   {
    "duration": 11,
    "start_time": "2022-03-16T10:29:51.443Z"
   },
   {
    "duration": 9,
    "start_time": "2022-03-16T10:29:51.455Z"
   },
   {
    "duration": 12,
    "start_time": "2022-03-16T10:29:51.465Z"
   },
   {
    "duration": 12,
    "start_time": "2022-03-16T10:29:51.479Z"
   },
   {
    "duration": 9,
    "start_time": "2022-03-16T10:29:51.493Z"
   },
   {
    "duration": 30,
    "start_time": "2022-03-16T10:29:51.503Z"
   },
   {
    "duration": 10,
    "start_time": "2022-03-16T10:29:51.535Z"
   },
   {
    "duration": 12,
    "start_time": "2022-03-16T10:29:51.546Z"
   },
   {
    "duration": 10,
    "start_time": "2022-03-16T10:29:51.559Z"
   },
   {
    "duration": 9,
    "start_time": "2022-03-16T10:29:51.570Z"
   },
   {
    "duration": 15,
    "start_time": "2022-03-16T10:29:51.580Z"
   },
   {
    "duration": 9,
    "start_time": "2022-03-16T10:29:51.600Z"
   },
   {
    "duration": 37,
    "start_time": "2022-03-16T10:29:51.632Z"
   },
   {
    "duration": 5,
    "start_time": "2022-03-16T10:29:51.671Z"
   },
   {
    "duration": 8,
    "start_time": "2022-03-16T10:29:51.677Z"
   },
   {
    "duration": 15,
    "start_time": "2022-03-16T10:29:51.687Z"
   },
   {
    "duration": 11,
    "start_time": "2022-03-16T10:29:51.704Z"
   },
   {
    "duration": 56,
    "start_time": "2022-03-16T10:29:51.717Z"
   },
   {
    "duration": 6,
    "start_time": "2022-03-16T10:29:51.775Z"
   },
   {
    "duration": 6,
    "start_time": "2022-03-16T10:29:51.783Z"
   },
   {
    "duration": 15,
    "start_time": "2022-03-16T10:29:51.791Z"
   },
   {
    "duration": 29,
    "start_time": "2022-03-16T10:29:51.808Z"
   },
   {
    "duration": 7,
    "start_time": "2022-03-16T10:29:51.838Z"
   },
   {
    "duration": 6,
    "start_time": "2022-03-16T10:29:51.847Z"
   },
   {
    "duration": 16,
    "start_time": "2022-03-16T10:29:51.854Z"
   },
   {
    "duration": 17,
    "start_time": "2022-03-16T10:29:51.872Z"
   },
   {
    "duration": 4,
    "start_time": "2022-03-16T10:29:51.891Z"
   },
   {
    "duration": 8,
    "start_time": "2022-03-16T10:29:51.897Z"
   },
   {
    "duration": 27,
    "start_time": "2022-03-16T10:29:51.907Z"
   },
   {
    "duration": 6,
    "start_time": "2022-03-16T10:29:51.935Z"
   },
   {
    "duration": 10,
    "start_time": "2022-03-16T10:29:51.942Z"
   },
   {
    "duration": 8,
    "start_time": "2022-03-16T10:29:51.953Z"
   },
   {
    "duration": 6,
    "start_time": "2022-03-16T10:29:51.963Z"
   },
   {
    "duration": 5,
    "start_time": "2022-03-16T10:29:51.971Z"
   },
   {
    "duration": 7,
    "start_time": "2022-03-16T10:29:51.978Z"
   },
   {
    "duration": 45,
    "start_time": "2022-03-16T10:29:51.987Z"
   },
   {
    "duration": 10,
    "start_time": "2022-03-16T10:29:52.034Z"
   },
   {
    "duration": 9,
    "start_time": "2022-03-16T10:29:52.045Z"
   },
   {
    "duration": 7,
    "start_time": "2022-03-16T10:29:52.056Z"
   },
   {
    "duration": 8,
    "start_time": "2022-03-16T10:29:52.065Z"
   },
   {
    "duration": 6,
    "start_time": "2022-03-16T10:29:52.075Z"
   },
   {
    "duration": 7,
    "start_time": "2022-03-16T10:29:52.083Z"
   },
   {
    "duration": 53,
    "start_time": "2022-03-16T10:29:52.092Z"
   },
   {
    "duration": 5,
    "start_time": "2022-03-16T10:29:52.147Z"
   },
   {
    "duration": 10,
    "start_time": "2022-03-16T10:29:52.154Z"
   },
   {
    "duration": 5,
    "start_time": "2022-03-16T10:29:52.165Z"
   },
   {
    "duration": 7,
    "start_time": "2022-03-16T10:29:52.172Z"
   },
   {
    "duration": 27,
    "start_time": "2022-03-16T10:29:52.180Z"
   },
   {
    "duration": 28,
    "start_time": "2022-03-16T10:29:52.208Z"
   },
   {
    "duration": 5,
    "start_time": "2022-03-16T10:29:52.238Z"
   },
   {
    "duration": 8,
    "start_time": "2022-03-16T10:29:52.245Z"
   },
   {
    "duration": 4,
    "start_time": "2022-03-16T10:29:52.254Z"
   },
   {
    "duration": 9,
    "start_time": "2022-03-16T10:29:52.259Z"
   },
   {
    "duration": 2971,
    "start_time": "2022-03-16T10:29:52.269Z"
   },
   {
    "duration": 9,
    "start_time": "2022-03-16T10:29:55.242Z"
   },
   {
    "duration": 7,
    "start_time": "2022-03-16T10:29:55.252Z"
   },
   {
    "duration": 6,
    "start_time": "2022-03-16T10:29:55.260Z"
   },
   {
    "duration": 10,
    "start_time": "2022-03-16T10:29:55.267Z"
   },
   {
    "duration": 18,
    "start_time": "2022-03-16T10:29:55.278Z"
   },
   {
    "duration": 141,
    "start_time": "2022-03-16T10:29:55.297Z"
   },
   {
    "duration": 35,
    "start_time": "2022-03-16T10:29:55.440Z"
   },
   {
    "duration": 115,
    "start_time": "2022-03-16T10:29:55.476Z"
   },
   {
    "duration": 3,
    "start_time": "2022-03-16T10:29:57.836Z"
   },
   {
    "duration": 3,
    "start_time": "2022-03-16T10:35:42.318Z"
   },
   {
    "duration": 3,
    "start_time": "2022-03-16T10:35:48.726Z"
   },
   {
    "duration": 176027,
    "start_time": "2022-03-16T10:36:38.100Z"
   },
   {
    "duration": 5541,
    "start_time": "2022-03-16T10:40:47.439Z"
   },
   {
    "duration": 268,
    "start_time": "2022-03-16T10:42:07.508Z"
   },
   {
    "duration": 5,
    "start_time": "2022-03-16T10:43:00.420Z"
   },
   {
    "duration": 428,
    "start_time": "2022-03-16T10:43:00.427Z"
   },
   {
    "duration": 25,
    "start_time": "2022-03-16T10:43:00.861Z"
   },
   {
    "duration": 12,
    "start_time": "2022-03-16T10:43:00.889Z"
   },
   {
    "duration": 19,
    "start_time": "2022-03-16T10:43:00.902Z"
   },
   {
    "duration": 21,
    "start_time": "2022-03-16T10:43:00.922Z"
   },
   {
    "duration": 8,
    "start_time": "2022-03-16T10:43:00.945Z"
   },
   {
    "duration": 8,
    "start_time": "2022-03-16T10:43:00.957Z"
   },
   {
    "duration": 13,
    "start_time": "2022-03-16T10:43:00.967Z"
   },
   {
    "duration": 20,
    "start_time": "2022-03-16T10:43:00.982Z"
   },
   {
    "duration": 31,
    "start_time": "2022-03-16T10:43:01.004Z"
   },
   {
    "duration": 11,
    "start_time": "2022-03-16T10:43:01.037Z"
   },
   {
    "duration": 16,
    "start_time": "2022-03-16T10:43:01.050Z"
   },
   {
    "duration": 11,
    "start_time": "2022-03-16T10:43:01.068Z"
   },
   {
    "duration": 15,
    "start_time": "2022-03-16T10:43:01.081Z"
   },
   {
    "duration": 7,
    "start_time": "2022-03-16T10:43:01.098Z"
   },
   {
    "duration": 30,
    "start_time": "2022-03-16T10:43:01.107Z"
   },
   {
    "duration": 15,
    "start_time": "2022-03-16T10:43:01.139Z"
   },
   {
    "duration": 17,
    "start_time": "2022-03-16T10:43:01.156Z"
   },
   {
    "duration": 17,
    "start_time": "2022-03-16T10:43:01.175Z"
   },
   {
    "duration": 21,
    "start_time": "2022-03-16T10:43:01.193Z"
   },
   {
    "duration": 29,
    "start_time": "2022-03-16T10:43:01.215Z"
   },
   {
    "duration": 24,
    "start_time": "2022-03-16T10:43:01.247Z"
   },
   {
    "duration": 16,
    "start_time": "2022-03-16T10:43:01.273Z"
   },
   {
    "duration": 10,
    "start_time": "2022-03-16T10:43:01.290Z"
   },
   {
    "duration": 26,
    "start_time": "2022-03-16T10:43:01.301Z"
   },
   {
    "duration": 48,
    "start_time": "2022-03-16T10:43:01.328Z"
   },
   {
    "duration": 7,
    "start_time": "2022-03-16T10:43:01.378Z"
   },
   {
    "duration": 13,
    "start_time": "2022-03-16T10:43:01.386Z"
   },
   {
    "duration": 23,
    "start_time": "2022-03-16T10:43:01.401Z"
   },
   {
    "duration": 15,
    "start_time": "2022-03-16T10:43:01.426Z"
   },
   {
    "duration": 56,
    "start_time": "2022-03-16T10:43:01.443Z"
   },
   {
    "duration": 6,
    "start_time": "2022-03-16T10:43:01.501Z"
   },
   {
    "duration": 12,
    "start_time": "2022-03-16T10:43:01.509Z"
   },
   {
    "duration": 11,
    "start_time": "2022-03-16T10:43:01.533Z"
   },
   {
    "duration": 10,
    "start_time": "2022-03-16T10:43:01.546Z"
   },
   {
    "duration": 8,
    "start_time": "2022-03-16T10:43:01.558Z"
   },
   {
    "duration": 7,
    "start_time": "2022-03-16T10:43:01.568Z"
   },
   {
    "duration": 7,
    "start_time": "2022-03-16T10:43:01.578Z"
   },
   {
    "duration": 54,
    "start_time": "2022-03-16T10:43:01.587Z"
   },
   {
    "duration": 6,
    "start_time": "2022-03-16T10:43:01.643Z"
   },
   {
    "duration": 14,
    "start_time": "2022-03-16T10:43:01.651Z"
   },
   {
    "duration": 14,
    "start_time": "2022-03-16T10:43:01.666Z"
   },
   {
    "duration": 10,
    "start_time": "2022-03-16T10:43:01.682Z"
   },
   {
    "duration": 12,
    "start_time": "2022-03-16T10:43:01.693Z"
   },
   {
    "duration": 33,
    "start_time": "2022-03-16T10:43:01.707Z"
   },
   {
    "duration": 9,
    "start_time": "2022-03-16T10:43:01.742Z"
   },
   {
    "duration": 11,
    "start_time": "2022-03-16T10:43:01.753Z"
   },
   {
    "duration": 6,
    "start_time": "2022-03-16T10:43:01.766Z"
   },
   {
    "duration": 7,
    "start_time": "2022-03-16T10:43:01.775Z"
   },
   {
    "duration": 10,
    "start_time": "2022-03-16T10:43:01.783Z"
   },
   {
    "duration": 14,
    "start_time": "2022-03-16T10:43:01.794Z"
   },
   {
    "duration": 7,
    "start_time": "2022-03-16T10:43:01.833Z"
   },
   {
    "duration": 14,
    "start_time": "2022-03-16T10:43:01.842Z"
   },
   {
    "duration": 14,
    "start_time": "2022-03-16T10:43:01.857Z"
   },
   {
    "duration": 9,
    "start_time": "2022-03-16T10:43:01.873Z"
   },
   {
    "duration": 27,
    "start_time": "2022-03-16T10:43:01.884Z"
   },
   {
    "duration": 7,
    "start_time": "2022-03-16T10:43:01.934Z"
   },
   {
    "duration": 8,
    "start_time": "2022-03-16T10:43:01.942Z"
   },
   {
    "duration": 10,
    "start_time": "2022-03-16T10:43:01.951Z"
   },
   {
    "duration": 11,
    "start_time": "2022-03-16T10:43:01.963Z"
   },
   {
    "duration": 66,
    "start_time": "2022-03-16T10:43:01.976Z"
   },
   {
    "duration": 6,
    "start_time": "2022-03-16T10:43:02.045Z"
   },
   {
    "duration": 14,
    "start_time": "2022-03-16T10:43:02.053Z"
   },
   {
    "duration": 26,
    "start_time": "2022-03-16T10:43:02.070Z"
   },
   {
    "duration": 4,
    "start_time": "2022-03-16T10:43:02.098Z"
   },
   {
    "duration": 12,
    "start_time": "2022-03-16T10:43:02.104Z"
   },
   {
    "duration": 3327,
    "start_time": "2022-03-16T10:43:02.122Z"
   },
   {
    "duration": 12,
    "start_time": "2022-03-16T10:43:05.451Z"
   },
   {
    "duration": 7,
    "start_time": "2022-03-16T10:43:05.464Z"
   },
   {
    "duration": 6,
    "start_time": "2022-03-16T10:43:05.473Z"
   },
   {
    "duration": 4,
    "start_time": "2022-03-16T10:43:05.481Z"
   },
   {
    "duration": 52,
    "start_time": "2022-03-16T10:43:05.487Z"
   },
   {
    "duration": 113,
    "start_time": "2022-03-16T10:43:05.540Z"
   },
   {
    "duration": 248,
    "start_time": "2022-03-16T10:43:05.655Z"
   },
   {
    "duration": -215,
    "start_time": "2022-03-16T10:43:06.121Z"
   },
   {
    "duration": 28,
    "start_time": "2022-03-16T10:43:35.139Z"
   },
   {
    "duration": 28,
    "start_time": "2022-03-16T10:43:41.819Z"
   },
   {
    "duration": 2,
    "start_time": "2022-03-16T10:43:57.580Z"
   },
   {
    "duration": 3,
    "start_time": "2022-03-16T10:44:07.239Z"
   },
   {
    "duration": 178106,
    "start_time": "2022-03-16T10:44:10.171Z"
   },
   {
    "duration": 4,
    "start_time": "2022-03-16T10:47:35.333Z"
   },
   {
    "duration": 3,
    "start_time": "2022-03-16T10:52:03.901Z"
   },
   {
    "duration": 6390,
    "start_time": "2022-03-16T10:52:46.782Z"
   },
   {
    "duration": 3,
    "start_time": "2022-03-16T10:52:54.402Z"
   },
   {
    "duration": 6292,
    "start_time": "2022-03-16T10:53:30.536Z"
   },
   {
    "duration": 6177,
    "start_time": "2022-03-16T10:53:41.078Z"
   },
   {
    "duration": 3,
    "start_time": "2022-03-16T10:54:23.622Z"
   },
   {
    "duration": 6544,
    "start_time": "2022-03-16T10:54:51.275Z"
   },
   {
    "duration": 4,
    "start_time": "2022-03-16T10:55:00.303Z"
   },
   {
    "duration": 3,
    "start_time": "2022-03-16T10:55:14.084Z"
   },
   {
    "duration": 6312,
    "start_time": "2022-03-16T10:55:14.803Z"
   },
   {
    "duration": 3,
    "start_time": "2022-03-16T10:55:23.416Z"
   },
   {
    "duration": 183,
    "start_time": "2022-03-16T10:57:29.303Z"
   },
   {
    "duration": 5,
    "start_time": "2022-03-16T10:58:06.715Z"
   },
   {
    "duration": 176,
    "start_time": "2022-03-16T10:58:26.846Z"
   },
   {
    "duration": 3,
    "start_time": "2022-03-16T10:58:38.304Z"
   },
   {
    "duration": 6498,
    "start_time": "2022-03-16T10:58:57.074Z"
   },
   {
    "duration": 4,
    "start_time": "2022-03-16T10:59:07.184Z"
   },
   {
    "duration": 123,
    "start_time": "2022-03-16T10:59:42.396Z"
   },
   {
    "duration": 4,
    "start_time": "2022-03-16T11:00:45.156Z"
   },
   {
    "duration": 5878,
    "start_time": "2022-03-16T11:04:39.825Z"
   },
   {
    "duration": 4,
    "start_time": "2022-03-16T11:04:50.222Z"
   },
   {
    "duration": 6096,
    "start_time": "2022-03-16T11:04:59.813Z"
   },
   {
    "duration": 7,
    "start_time": "2022-03-16T11:05:10.225Z"
   },
   {
    "duration": 3,
    "start_time": "2022-03-16T11:05:21.559Z"
   },
   {
    "duration": 7275,
    "start_time": "2022-03-16T11:05:22.533Z"
   },
   {
    "duration": 7402,
    "start_time": "2022-03-16T11:05:30.918Z"
   },
   {
    "duration": 184493,
    "start_time": "2022-03-16T11:06:07.625Z"
   },
   {
    "duration": 4,
    "start_time": "2022-03-16T11:09:16.726Z"
   },
   {
    "duration": 3,
    "start_time": "2022-03-16T11:09:47.506Z"
   },
   {
    "duration": 301747,
    "start_time": "2022-03-16T11:09:51.946Z"
   },
   {
    "duration": 3,
    "start_time": "2022-03-16T11:14:53.695Z"
   },
   {
    "duration": 3,
    "start_time": "2022-03-16T11:17:17.968Z"
   },
   {
    "duration": 10984,
    "start_time": "2022-03-16T11:17:25.121Z"
   },
   {
    "duration": 3,
    "start_time": "2022-03-16T11:18:00.808Z"
   },
   {
    "duration": 108949,
    "start_time": "2022-03-16T11:18:02.049Z"
   },
   {
    "duration": 4,
    "start_time": "2022-03-16T11:19:51.000Z"
   },
   {
    "duration": 3,
    "start_time": "2022-03-16T11:20:27.729Z"
   },
   {
    "duration": 12900,
    "start_time": "2022-03-16T11:20:30.043Z"
   },
   {
    "duration": 193,
    "start_time": "2022-03-16T11:20:50.308Z"
   },
   {
    "duration": 204,
    "start_time": "2022-03-16T11:33:26.313Z"
   },
   {
    "duration": 3970,
    "start_time": "2022-03-16T11:35:14.657Z"
   },
   {
    "duration": 3711,
    "start_time": "2022-03-16T11:35:44.114Z"
   },
   {
    "duration": 12877,
    "start_time": "2022-03-16T11:35:47.827Z"
   },
   {
    "duration": 202,
    "start_time": "2022-03-16T11:51:26.806Z"
   },
   {
    "duration": 4,
    "start_time": "2022-03-16T11:51:38.294Z"
   },
   {
    "duration": 4,
    "start_time": "2022-03-16T11:53:30.279Z"
   },
   {
    "duration": 3446,
    "start_time": "2022-03-16T11:54:14.291Z"
   },
   {
    "duration": 3,
    "start_time": "2022-03-16T11:54:33.899Z"
   },
   {
    "duration": 3732,
    "start_time": "2022-03-16T11:54:34.571Z"
   },
   {
    "duration": 4,
    "start_time": "2022-03-16T11:55:16.539Z"
   },
   {
    "duration": 5,
    "start_time": "2022-03-16T11:55:32.512Z"
   },
   {
    "duration": 192,
    "start_time": "2022-03-16T12:00:10.454Z"
   },
   {
    "duration": 5,
    "start_time": "2022-03-16T12:00:37.129Z"
   },
   {
    "duration": 30,
    "start_time": "2022-03-16T12:01:38.942Z"
   },
   {
    "duration": 3,
    "start_time": "2022-03-16T12:03:54.406Z"
   },
   {
    "duration": 132296,
    "start_time": "2022-03-16T12:04:00.863Z"
   },
   {
    "duration": 4,
    "start_time": "2022-03-16T12:07:19.283Z"
   },
   {
    "duration": 3,
    "start_time": "2022-03-16T12:07:30.664Z"
   },
   {
    "duration": 160,
    "start_time": "2022-03-16T12:07:33.562Z"
   },
   {
    "duration": 3,
    "start_time": "2022-03-16T12:09:13.083Z"
   },
   {
    "duration": 48609,
    "start_time": "2022-03-16T12:09:14.747Z"
   },
   {
    "duration": 4,
    "start_time": "2022-03-16T12:10:03.358Z"
   },
   {
    "duration": 6,
    "start_time": "2022-03-16T12:10:03.365Z"
   },
   {
    "duration": 141,
    "start_time": "2022-03-16T12:10:03.372Z"
   },
   {
    "duration": 277,
    "start_time": "2022-03-16T12:11:31.436Z"
   },
   {
    "duration": 2,
    "start_time": "2022-03-16T12:13:58.766Z"
   },
   {
    "duration": 3,
    "start_time": "2022-03-16T12:14:32.397Z"
   },
   {
    "duration": 3559,
    "start_time": "2022-03-16T12:14:35.604Z"
   },
   {
    "duration": 4,
    "start_time": "2022-03-16T12:14:52.016Z"
   },
   {
    "duration": 3,
    "start_time": "2022-03-16T12:15:00.453Z"
   },
   {
    "duration": 55,
    "start_time": "2022-03-16T12:15:04.506Z"
   },
   {
    "duration": 28,
    "start_time": "2022-03-16T12:15:18.665Z"
   },
   {
    "duration": 3,
    "start_time": "2022-03-16T12:15:29.925Z"
   },
   {
    "duration": 3,
    "start_time": "2022-03-16T12:15:31.716Z"
   },
   {
    "duration": 26962,
    "start_time": "2022-03-16T12:15:32.685Z"
   },
   {
    "duration": 24633,
    "start_time": "2022-03-16T12:18:15.205Z"
   },
   {
    "duration": 5,
    "start_time": "2022-03-16T12:18:39.841Z"
   },
   {
    "duration": 42,
    "start_time": "2022-03-16T12:18:39.848Z"
   },
   {
    "duration": 160,
    "start_time": "2022-03-16T12:18:39.893Z"
   },
   {
    "duration": 4,
    "start_time": "2022-03-16T12:19:41.387Z"
   },
   {
    "duration": 6999,
    "start_time": "2022-03-16T12:20:45.306Z"
   },
   {
    "duration": 29,
    "start_time": "2022-03-16T12:22:12.764Z"
   },
   {
    "duration": 65,
    "start_time": "2022-03-16T12:22:41.137Z"
   },
   {
    "duration": 242,
    "start_time": "2022-03-16T12:22:43.314Z"
   },
   {
    "duration": 34,
    "start_time": "2022-03-16T12:22:46.267Z"
   },
   {
    "duration": 31,
    "start_time": "2022-03-16T12:22:47.569Z"
   },
   {
    "duration": 6,
    "start_time": "2022-03-16T12:22:51.562Z"
   },
   {
    "duration": 6,
    "start_time": "2022-03-16T12:22:52.042Z"
   },
   {
    "duration": 26598,
    "start_time": "2022-03-16T12:22:54.589Z"
   },
   {
    "duration": 4,
    "start_time": "2022-03-16T12:23:21.189Z"
   },
   {
    "duration": 7,
    "start_time": "2022-03-16T12:23:21.196Z"
   },
   {
    "duration": 166,
    "start_time": "2022-03-16T12:23:21.205Z"
   },
   {
    "duration": 5,
    "start_time": "2022-03-16T12:24:25.776Z"
   },
   {
    "duration": 2236,
    "start_time": "2022-03-16T12:25:15.796Z"
   },
   {
    "duration": 2913,
    "start_time": "2022-03-16T12:25:50.608Z"
   },
   {
    "duration": 14075,
    "start_time": "2022-03-16T12:26:25.807Z"
   },
   {
    "duration": 4,
    "start_time": "2022-03-16T12:26:39.884Z"
   },
   {
    "duration": 5,
    "start_time": "2022-03-16T12:26:39.889Z"
   },
   {
    "duration": 178,
    "start_time": "2022-03-16T12:26:54.209Z"
   },
   {
    "duration": 2346,
    "start_time": "2022-03-16T12:27:23.251Z"
   },
   {
    "duration": 3635,
    "start_time": "2022-03-16T12:28:02.428Z"
   },
   {
    "duration": 3,
    "start_time": "2022-03-16T12:30:14.125Z"
   },
   {
    "duration": 586298,
    "start_time": "2022-03-16T12:30:29.289Z"
   },
   {
    "duration": 4,
    "start_time": "2022-03-16T12:40:15.589Z"
   },
   {
    "duration": 6,
    "start_time": "2022-03-16T12:40:15.595Z"
   },
   {
    "duration": 177,
    "start_time": "2022-03-16T12:40:15.603Z"
   },
   {
    "duration": 4890,
    "start_time": "2022-03-16T12:41:39.098Z"
   },
   {
    "duration": 1870,
    "start_time": "2022-03-16T12:41:51.851Z"
   },
   {
    "duration": 754,
    "start_time": "2022-03-16T12:42:03.479Z"
   },
   {
    "duration": 113,
    "start_time": "2022-03-16T12:42:12.559Z"
   },
   {
    "duration": 123,
    "start_time": "2022-03-16T12:42:43.531Z"
   },
   {
    "duration": 24,
    "start_time": "2022-03-16T12:43:16.472Z"
   },
   {
    "duration": 2059,
    "start_time": "2022-03-16T12:46:40.419Z"
   },
   {
    "duration": 410,
    "start_time": "2022-03-16T12:46:48.359Z"
   },
   {
    "duration": 145,
    "start_time": "2022-03-16T12:46:54.572Z"
   },
   {
    "duration": 82,
    "start_time": "2022-03-16T12:47:01.712Z"
   },
   {
    "duration": 91,
    "start_time": "2022-03-16T12:47:16.004Z"
   },
   {
    "duration": 1038,
    "start_time": "2022-03-16T12:47:21.633Z"
   },
   {
    "duration": 1014,
    "start_time": "2022-03-16T12:48:48.552Z"
   },
   {
    "duration": 1949,
    "start_time": "2022-03-16T12:49:15.160Z"
   },
   {
    "duration": 38,
    "start_time": "2022-03-16T12:49:25.514Z"
   },
   {
    "duration": 219,
    "start_time": "2022-03-16T12:50:24.184Z"
   },
   {
    "duration": 6,
    "start_time": "2022-03-16T12:50:49.832Z"
   },
   {
    "duration": 1528,
    "start_time": "2022-03-16T12:50:56.113Z"
   },
   {
    "duration": 1194,
    "start_time": "2022-03-16T12:51:23.146Z"
   },
   {
    "duration": 231,
    "start_time": "2022-03-16T12:51:47.612Z"
   },
   {
    "duration": 30,
    "start_time": "2022-03-16T12:51:49.651Z"
   },
   {
    "duration": 34,
    "start_time": "2022-03-16T12:51:52.612Z"
   },
   {
    "duration": 2162,
    "start_time": "2022-03-16T12:52:01.484Z"
   },
   {
    "duration": 2211,
    "start_time": "2022-03-16T12:52:09.636Z"
   },
   {
    "duration": 32,
    "start_time": "2022-03-16T12:52:29.673Z"
   },
   {
    "duration": 168,
    "start_time": "2022-03-16T12:52:41.712Z"
   },
   {
    "duration": 41,
    "start_time": "2022-03-16T12:52:44.467Z"
   },
   {
    "duration": 935,
    "start_time": "2022-03-16T12:52:54.414Z"
   },
   {
    "duration": 2086,
    "start_time": "2022-03-16T12:53:01.320Z"
   },
   {
    "duration": 1918,
    "start_time": "2022-03-16T12:55:54.674Z"
   },
   {
    "duration": 958,
    "start_time": "2022-03-16T12:56:31.994Z"
   },
   {
    "duration": 520,
    "start_time": "2022-03-16T12:56:59.505Z"
   },
   {
    "duration": 1121,
    "start_time": "2022-03-16T12:57:05.254Z"
   },
   {
    "duration": 24,
    "start_time": "2022-03-16T12:57:20.274Z"
   },
   {
    "duration": 38,
    "start_time": "2022-03-16T12:58:14.314Z"
   },
   {
    "duration": 326,
    "start_time": "2022-03-16T12:58:27.391Z"
   },
   {
    "duration": 32,
    "start_time": "2022-03-16T12:58:31.705Z"
   },
   {
    "duration": 140,
    "start_time": "2022-03-16T12:58:33.362Z"
   },
   {
    "duration": 23,
    "start_time": "2022-03-16T12:58:36.446Z"
   },
   {
    "duration": 25,
    "start_time": "2022-03-16T12:58:38.046Z"
   },
   {
    "duration": 3,
    "start_time": "2022-03-16T12:59:04.794Z"
   },
   {
    "duration": 25422,
    "start_time": "2022-03-16T12:59:07.857Z"
   },
   {
    "duration": 4,
    "start_time": "2022-03-16T12:59:33.281Z"
   },
   {
    "duration": 4,
    "start_time": "2022-03-16T12:59:54.614Z"
   },
   {
    "duration": 189,
    "start_time": "2022-03-16T12:59:59.767Z"
   },
   {
    "duration": 1144,
    "start_time": "2022-03-16T13:00:15.015Z"
   },
   {
    "duration": 1126,
    "start_time": "2022-03-16T13:00:22.082Z"
   },
   {
    "duration": 3,
    "start_time": "2022-03-16T13:00:41.774Z"
   },
   {
    "duration": 3,
    "start_time": "2022-03-16T13:00:42.347Z"
   },
   {
    "duration": 37880,
    "start_time": "2022-03-16T13:00:43.007Z"
   },
   {
    "duration": 5,
    "start_time": "2022-03-16T13:01:20.889Z"
   },
   {
    "duration": 8,
    "start_time": "2022-03-16T13:01:20.896Z"
   },
   {
    "duration": 292,
    "start_time": "2022-03-16T13:01:20.905Z"
   },
   {
    "duration": 3,
    "start_time": "2022-03-16T13:01:53.506Z"
   },
   {
    "duration": 3,
    "start_time": "2022-03-16T13:01:53.946Z"
   },
   {
    "duration": 13535,
    "start_time": "2022-03-16T13:01:55.214Z"
   },
   {
    "duration": 4,
    "start_time": "2022-03-16T13:02:08.750Z"
   },
   {
    "duration": 6184,
    "start_time": "2022-03-16T13:02:08.755Z"
   },
   {
    "duration": 4,
    "start_time": "2022-03-16T13:02:14.941Z"
   },
   {
    "duration": 4,
    "start_time": "2022-03-16T13:02:20.086Z"
   },
   {
    "duration": 219,
    "start_time": "2022-03-16T13:02:25.814Z"
   },
   {
    "duration": 3,
    "start_time": "2022-03-16T13:02:36.755Z"
   },
   {
    "duration": 2,
    "start_time": "2022-03-16T13:02:38.847Z"
   },
   {
    "duration": 35234,
    "start_time": "2022-03-16T13:02:40.107Z"
   },
   {
    "duration": 192,
    "start_time": "2022-03-16T13:03:15.343Z"
   },
   {
    "duration": 5869,
    "start_time": "2022-03-16T13:03:17.479Z"
   },
   {
    "duration": 2,
    "start_time": "2022-03-16T13:03:24.823Z"
   },
   {
    "duration": 3,
    "start_time": "2022-03-16T13:03:25.627Z"
   },
   {
    "duration": 12791,
    "start_time": "2022-03-16T13:03:26.163Z"
   },
   {
    "duration": 3,
    "start_time": "2022-03-16T13:03:38.956Z"
   },
   {
    "duration": 4,
    "start_time": "2022-03-16T13:03:48.175Z"
   },
   {
    "duration": 363,
    "start_time": "2022-03-16T13:03:49.936Z"
   },
   {
    "duration": 3,
    "start_time": "2022-03-16T13:04:05.983Z"
   },
   {
    "duration": 3,
    "start_time": "2022-03-16T13:04:13.963Z"
   },
   {
    "duration": 66199,
    "start_time": "2022-03-16T13:04:14.882Z"
   },
   {
    "duration": 3,
    "start_time": "2022-03-16T13:05:21.083Z"
   },
   {
    "duration": 4,
    "start_time": "2022-03-16T13:06:05.788Z"
   },
   {
    "duration": 364,
    "start_time": "2022-03-16T13:06:07.675Z"
   },
   {
    "duration": 3,
    "start_time": "2022-03-16T13:07:25.018Z"
   },
   {
    "duration": 277516,
    "start_time": "2022-03-16T13:07:26.012Z"
   },
   {
    "duration": 206,
    "start_time": "2022-03-16T13:12:03.530Z"
   },
   {
    "duration": 3,
    "start_time": "2022-03-16T13:12:06.397Z"
   },
   {
    "duration": 29877,
    "start_time": "2022-03-16T13:12:06.877Z"
   },
   {
    "duration": 4,
    "start_time": "2022-03-16T13:12:36.757Z"
   },
   {
    "duration": 7,
    "start_time": "2022-03-16T13:12:36.762Z"
   },
   {
    "duration": 311,
    "start_time": "2022-03-16T13:12:50.777Z"
   },
   {
    "duration": 6,
    "start_time": "2022-03-16T13:13:23.238Z"
   },
   {
    "duration": 14148,
    "start_time": "2022-03-16T13:13:23.408Z"
   },
   {
    "duration": 4,
    "start_time": "2022-03-16T13:13:37.558Z"
   },
   {
    "duration": 6,
    "start_time": "2022-03-16T13:13:37.564Z"
   },
   {
    "duration": 273,
    "start_time": "2022-03-16T13:13:37.572Z"
   },
   {
    "duration": 3,
    "start_time": "2022-03-16T13:13:51.825Z"
   },
   {
    "duration": 12043,
    "start_time": "2022-03-16T13:13:51.958Z"
   },
   {
    "duration": 3,
    "start_time": "2022-03-16T13:14:04.003Z"
   },
   {
    "duration": 6,
    "start_time": "2022-03-16T13:14:04.009Z"
   },
   {
    "duration": 261,
    "start_time": "2022-03-16T13:14:04.017Z"
   },
   {
    "duration": 3,
    "start_time": "2022-03-16T13:14:34.510Z"
   },
   {
    "duration": 8501,
    "start_time": "2022-03-16T13:14:36.011Z"
   },
   {
    "duration": 184,
    "start_time": "2022-03-16T13:14:44.514Z"
   },
   {
    "duration": 3,
    "start_time": "2022-03-16T13:14:47.465Z"
   },
   {
    "duration": 3,
    "start_time": "2022-03-16T13:14:52.267Z"
   },
   {
    "duration": 185000,
    "start_time": "2022-03-16T13:14:53.206Z"
   },
   {
    "duration": 3,
    "start_time": "2022-03-16T13:17:58.208Z"
   },
   {
    "duration": 4,
    "start_time": "2022-03-16T13:18:12.187Z"
   },
   {
    "duration": 289,
    "start_time": "2022-03-16T13:18:13.878Z"
   },
   {
    "duration": 2,
    "start_time": "2022-03-16T13:18:42.586Z"
   },
   {
    "duration": 3,
    "start_time": "2022-03-16T13:18:51.379Z"
   },
   {
    "duration": 3,
    "start_time": "2022-03-16T13:18:51.910Z"
   },
   {
    "duration": 43249,
    "start_time": "2022-03-16T13:18:52.839Z"
   },
   {
    "duration": 3,
    "start_time": "2022-03-16T13:19:36.090Z"
   },
   {
    "duration": 5,
    "start_time": "2022-03-16T13:20:17.690Z"
   },
   {
    "duration": 243,
    "start_time": "2022-03-16T13:20:20.678Z"
   },
   {
    "duration": 3,
    "start_time": "2022-03-16T13:20:36.988Z"
   },
   {
    "duration": 81165,
    "start_time": "2022-03-16T13:20:39.598Z"
   },
   {
    "duration": 4,
    "start_time": "2022-03-16T13:22:23.019Z"
   },
   {
    "duration": 3,
    "start_time": "2022-03-16T13:22:29.631Z"
   },
   {
    "duration": 224,
    "start_time": "2022-03-16T13:22:31.463Z"
   },
   {
    "duration": 36,
    "start_time": "2022-03-16T13:23:26.261Z"
   },
   {
    "duration": 236,
    "start_time": "2022-03-16T13:23:33.840Z"
   },
   {
    "duration": 52,
    "start_time": "2022-03-16T13:23:36.560Z"
   },
   {
    "duration": 4,
    "start_time": "2022-03-16T13:23:43.759Z"
   },
   {
    "duration": 3,
    "start_time": "2022-03-16T13:23:44.619Z"
   },
   {
    "duration": 31227,
    "start_time": "2022-03-16T13:23:45.532Z"
   },
   {
    "duration": 3,
    "start_time": "2022-03-16T13:24:16.761Z"
   },
   {
    "duration": 3,
    "start_time": "2022-03-16T13:24:26.300Z"
   },
   {
    "duration": 199,
    "start_time": "2022-03-16T13:24:31.781Z"
   },
   {
    "duration": 40,
    "start_time": "2022-03-16T13:24:42.244Z"
   },
   {
    "duration": 143,
    "start_time": "2022-03-16T13:24:43.193Z"
   },
   {
    "duration": 22,
    "start_time": "2022-03-16T13:24:44.260Z"
   },
   {
    "duration": 25,
    "start_time": "2022-03-16T13:24:46.331Z"
   },
   {
    "duration": 3,
    "start_time": "2022-03-16T13:24:50.500Z"
   },
   {
    "duration": 3,
    "start_time": "2022-03-16T13:24:51.012Z"
   },
   {
    "duration": 29493,
    "start_time": "2022-03-16T13:24:52.540Z"
   },
   {
    "duration": 3,
    "start_time": "2022-03-16T13:25:22.035Z"
   },
   {
    "duration": 4,
    "start_time": "2022-03-16T13:25:28.400Z"
   },
   {
    "duration": 214,
    "start_time": "2022-03-16T13:25:32.282Z"
   },
   {
    "duration": 37,
    "start_time": "2022-03-16T13:37:23.271Z"
   },
   {
    "duration": 75,
    "start_time": "2022-03-16T13:37:25.403Z"
   },
   {
    "duration": 16,
    "start_time": "2022-03-16T13:37:26.903Z"
   },
   {
    "duration": 13,
    "start_time": "2022-03-16T13:37:28.102Z"
   },
   {
    "duration": 4,
    "start_time": "2022-03-16T13:37:30.522Z"
   },
   {
    "duration": 121,
    "start_time": "2022-03-16T13:37:42.471Z"
   },
   {
    "duration": 3,
    "start_time": "2022-03-16T13:38:04.762Z"
   },
   {
    "duration": 8952,
    "start_time": "2022-03-16T13:38:05.502Z"
   },
   {
    "duration": 3,
    "start_time": "2022-03-16T13:38:14.456Z"
   },
   {
    "duration": 4,
    "start_time": "2022-03-16T13:38:21.787Z"
   },
   {
    "duration": 192,
    "start_time": "2022-03-16T13:38:27.130Z"
   },
   {
    "duration": 28,
    "start_time": "2022-03-16T13:40:33.423Z"
   },
   {
    "duration": 83,
    "start_time": "2022-03-16T13:40:37.083Z"
   },
   {
    "duration": 15,
    "start_time": "2022-03-16T13:40:37.783Z"
   },
   {
    "duration": 12,
    "start_time": "2022-03-16T13:40:39.103Z"
   },
   {
    "duration": 3,
    "start_time": "2022-03-16T13:40:41.603Z"
   },
   {
    "duration": 2,
    "start_time": "2022-03-16T13:40:42.664Z"
   },
   {
    "duration": 8199,
    "start_time": "2022-03-16T13:40:43.524Z"
   },
   {
    "duration": 3,
    "start_time": "2022-03-16T13:40:51.725Z"
   },
   {
    "duration": 4,
    "start_time": "2022-03-16T13:40:58.035Z"
   },
   {
    "duration": 186,
    "start_time": "2022-03-16T13:40:59.856Z"
   },
   {
    "duration": 28,
    "start_time": "2022-03-16T13:43:16.539Z"
   },
   {
    "duration": 77,
    "start_time": "2022-03-16T13:43:25.782Z"
   },
   {
    "duration": 11,
    "start_time": "2022-03-16T13:43:26.183Z"
   },
   {
    "duration": 12,
    "start_time": "2022-03-16T13:43:26.901Z"
   },
   {
    "duration": 3,
    "start_time": "2022-03-16T13:43:28.401Z"
   },
   {
    "duration": 3,
    "start_time": "2022-03-16T13:43:28.561Z"
   },
   {
    "duration": 7278,
    "start_time": "2022-03-16T13:43:29.362Z"
   },
   {
    "duration": 4,
    "start_time": "2022-03-16T13:43:36.642Z"
   },
   {
    "duration": 4,
    "start_time": "2022-03-16T13:43:36.681Z"
   },
   {
    "duration": 166,
    "start_time": "2022-03-16T13:43:43.261Z"
   },
   {
    "duration": 221,
    "start_time": "2022-03-16T13:46:31.364Z"
   },
   {
    "duration": 26,
    "start_time": "2022-03-16T13:47:58.188Z"
   },
   {
    "duration": 76,
    "start_time": "2022-03-16T13:47:59.553Z"
   },
   {
    "duration": 12,
    "start_time": "2022-03-16T13:47:59.932Z"
   },
   {
    "duration": 11,
    "start_time": "2022-03-16T13:48:01.242Z"
   },
   {
    "duration": 2,
    "start_time": "2022-03-16T13:48:03.545Z"
   },
   {
    "duration": 3,
    "start_time": "2022-03-16T13:48:04.164Z"
   },
   {
    "duration": 6389,
    "start_time": "2022-03-16T13:48:05.292Z"
   },
   {
    "duration": 4,
    "start_time": "2022-03-16T13:48:11.683Z"
   },
   {
    "duration": 4,
    "start_time": "2022-03-16T13:48:23.124Z"
   },
   {
    "duration": 171,
    "start_time": "2022-03-16T13:48:24.492Z"
   },
   {
    "duration": 30,
    "start_time": "2022-03-16T13:48:59.432Z"
   },
   {
    "duration": 150,
    "start_time": "2022-03-16T13:49:06.091Z"
   },
   {
    "duration": 24,
    "start_time": "2022-03-16T13:49:06.510Z"
   },
   {
    "duration": 27,
    "start_time": "2022-03-16T13:49:06.863Z"
   },
   {
    "duration": 4,
    "start_time": "2022-03-16T13:49:08.245Z"
   },
   {
    "duration": 2,
    "start_time": "2022-03-16T13:49:08.471Z"
   },
   {
    "duration": 11592,
    "start_time": "2022-03-16T13:49:09.431Z"
   },
   {
    "duration": 10,
    "start_time": "2022-03-16T13:49:21.025Z"
   },
   {
    "duration": 4,
    "start_time": "2022-03-16T13:49:21.090Z"
   },
   {
    "duration": 212,
    "start_time": "2022-03-16T13:49:25.731Z"
   },
   {
    "duration": 31,
    "start_time": "2022-03-16T13:50:31.261Z"
   },
   {
    "duration": 312,
    "start_time": "2022-03-16T13:50:56.880Z"
   },
   {
    "duration": 24,
    "start_time": "2022-03-16T13:50:58.950Z"
   },
   {
    "duration": 246,
    "start_time": "2022-03-16T13:51:00.269Z"
   },
   {
    "duration": 3,
    "start_time": "2022-03-16T13:51:02.288Z"
   },
   {
    "duration": 2,
    "start_time": "2022-03-16T13:51:02.908Z"
   },
   {
    "duration": 18777,
    "start_time": "2022-03-16T13:51:09.009Z"
   },
   {
    "duration": 4,
    "start_time": "2022-03-16T13:51:27.787Z"
   },
   {
    "duration": 3,
    "start_time": "2022-03-16T13:51:33.468Z"
   },
   {
    "duration": 318,
    "start_time": "2022-03-16T13:51:40.147Z"
   },
   {
    "duration": 1483,
    "start_time": "2022-03-16T15:45:12.690Z"
   },
   {
    "duration": 756,
    "start_time": "2022-03-16T15:45:14.176Z"
   },
   {
    "duration": 33,
    "start_time": "2022-03-16T15:45:14.935Z"
   },
   {
    "duration": 16,
    "start_time": "2022-03-16T15:45:14.971Z"
   },
   {
    "duration": 13,
    "start_time": "2022-03-16T15:45:14.990Z"
   },
   {
    "duration": 34,
    "start_time": "2022-03-16T15:45:15.006Z"
   },
   {
    "duration": 9,
    "start_time": "2022-03-16T15:45:15.073Z"
   },
   {
    "duration": 9,
    "start_time": "2022-03-16T15:45:15.086Z"
   },
   {
    "duration": 9,
    "start_time": "2022-03-16T15:45:15.098Z"
   },
   {
    "duration": 66,
    "start_time": "2022-03-16T15:45:15.109Z"
   },
   {
    "duration": 8,
    "start_time": "2022-03-16T15:45:15.177Z"
   },
   {
    "duration": 15,
    "start_time": "2022-03-16T15:45:15.187Z"
   },
   {
    "duration": 12,
    "start_time": "2022-03-16T15:45:15.204Z"
   },
   {
    "duration": 20,
    "start_time": "2022-03-16T15:45:15.218Z"
   },
   {
    "duration": 38,
    "start_time": "2022-03-16T15:45:15.241Z"
   },
   {
    "duration": 8,
    "start_time": "2022-03-16T15:45:15.282Z"
   },
   {
    "duration": 8,
    "start_time": "2022-03-16T15:45:15.293Z"
   },
   {
    "duration": 8,
    "start_time": "2022-03-16T15:45:15.303Z"
   },
   {
    "duration": 8,
    "start_time": "2022-03-16T15:45:15.313Z"
   },
   {
    "duration": 57,
    "start_time": "2022-03-16T15:45:15.323Z"
   },
   {
    "duration": 15,
    "start_time": "2022-03-16T15:45:15.382Z"
   },
   {
    "duration": 16,
    "start_time": "2022-03-16T15:45:15.399Z"
   },
   {
    "duration": 8,
    "start_time": "2022-03-16T15:45:15.421Z"
   },
   {
    "duration": 51,
    "start_time": "2022-03-16T15:45:15.433Z"
   },
   {
    "duration": 15,
    "start_time": "2022-03-16T15:45:15.486Z"
   },
   {
    "duration": 13,
    "start_time": "2022-03-16T15:45:15.504Z"
   },
   {
    "duration": 85,
    "start_time": "2022-03-16T15:45:15.520Z"
   },
   {
    "duration": 8,
    "start_time": "2022-03-16T15:45:15.607Z"
   },
   {
    "duration": 8,
    "start_time": "2022-03-16T15:45:15.617Z"
   },
   {
    "duration": 7,
    "start_time": "2022-03-16T15:45:15.628Z"
   },
   {
    "duration": 43,
    "start_time": "2022-03-16T15:45:15.638Z"
   },
   {
    "duration": 65,
    "start_time": "2022-03-16T15:45:15.684Z"
   },
   {
    "duration": 28,
    "start_time": "2022-03-16T15:45:15.751Z"
   },
   {
    "duration": 8,
    "start_time": "2022-03-16T15:45:15.782Z"
   },
   {
    "duration": 11,
    "start_time": "2022-03-16T15:45:15.792Z"
   },
   {
    "duration": 12,
    "start_time": "2022-03-16T15:45:15.806Z"
   },
   {
    "duration": 11,
    "start_time": "2022-03-16T15:45:15.821Z"
   },
   {
    "duration": 46,
    "start_time": "2022-03-16T15:45:15.834Z"
   },
   {
    "duration": 9,
    "start_time": "2022-03-16T15:45:15.883Z"
   },
   {
    "duration": 27,
    "start_time": "2022-03-16T15:45:15.894Z"
   },
   {
    "duration": 8,
    "start_time": "2022-03-16T15:45:15.923Z"
   },
   {
    "duration": 11,
    "start_time": "2022-03-16T15:45:15.974Z"
   },
   {
    "duration": 19,
    "start_time": "2022-03-16T15:45:15.987Z"
   },
   {
    "duration": 8,
    "start_time": "2022-03-16T15:45:16.009Z"
   },
   {
    "duration": 8,
    "start_time": "2022-03-16T15:45:16.020Z"
   },
   {
    "duration": 45,
    "start_time": "2022-03-16T15:45:16.030Z"
   },
   {
    "duration": 7,
    "start_time": "2022-03-16T15:45:16.077Z"
   },
   {
    "duration": 8,
    "start_time": "2022-03-16T15:45:16.086Z"
   },
   {
    "duration": 8,
    "start_time": "2022-03-16T15:45:16.097Z"
   },
   {
    "duration": 9,
    "start_time": "2022-03-16T15:45:16.108Z"
   },
   {
    "duration": 54,
    "start_time": "2022-03-16T15:45:16.120Z"
   },
   {
    "duration": 11,
    "start_time": "2022-03-16T15:45:16.177Z"
   },
   {
    "duration": 11,
    "start_time": "2022-03-16T15:45:16.191Z"
   },
   {
    "duration": 11,
    "start_time": "2022-03-16T15:45:16.204Z"
   },
   {
    "duration": 9,
    "start_time": "2022-03-16T15:45:16.218Z"
   },
   {
    "duration": 51,
    "start_time": "2022-03-16T15:45:16.230Z"
   },
   {
    "duration": 40,
    "start_time": "2022-03-16T15:45:16.284Z"
   },
   {
    "duration": 8,
    "start_time": "2022-03-16T15:45:16.326Z"
   },
   {
    "duration": 38,
    "start_time": "2022-03-16T15:45:16.337Z"
   },
   {
    "duration": 9,
    "start_time": "2022-03-16T15:45:16.377Z"
   },
   {
    "duration": 11,
    "start_time": "2022-03-16T15:45:16.388Z"
   },
   {
    "duration": 38,
    "start_time": "2022-03-16T15:45:16.402Z"
   },
   {
    "duration": 8,
    "start_time": "2022-03-16T15:45:16.473Z"
   },
   {
    "duration": 9,
    "start_time": "2022-03-16T15:45:16.484Z"
   },
   {
    "duration": 12,
    "start_time": "2022-03-16T15:45:16.495Z"
   },
   {
    "duration": 5,
    "start_time": "2022-03-16T15:45:16.510Z"
   },
   {
    "duration": 8,
    "start_time": "2022-03-16T15:45:16.517Z"
   },
   {
    "duration": 5694,
    "start_time": "2022-03-16T15:45:16.573Z"
   },
   {
    "duration": 13,
    "start_time": "2022-03-16T15:45:22.270Z"
   },
   {
    "duration": 9,
    "start_time": "2022-03-16T15:45:22.285Z"
   },
   {
    "duration": 9,
    "start_time": "2022-03-16T15:45:22.297Z"
   },
   {
    "duration": 7,
    "start_time": "2022-03-16T15:45:22.309Z"
   },
   {
    "duration": 121,
    "start_time": "2022-03-16T15:45:22.318Z"
   },
   {
    "duration": 672,
    "start_time": "2022-03-16T15:45:23.426Z"
   },
   {
    "duration": 28,
    "start_time": "2022-03-16T15:45:54.468Z"
   },
   {
    "duration": 397,
    "start_time": "2022-03-16T15:45:58.324Z"
   },
   {
    "duration": 33,
    "start_time": "2022-03-16T15:45:59.570Z"
   },
   {
    "duration": 237,
    "start_time": "2022-03-16T15:45:59.994Z"
   },
   {
    "duration": 4,
    "start_time": "2022-03-16T15:46:01.374Z"
   },
   {
    "duration": 4,
    "start_time": "2022-03-16T15:46:01.803Z"
   },
   {
    "duration": 23349,
    "start_time": "2022-03-16T15:46:03.043Z"
   },
   {
    "duration": 5,
    "start_time": "2022-03-16T15:46:26.394Z"
   },
   {
    "duration": 10,
    "start_time": "2022-03-16T15:46:26.402Z"
   },
   {
    "duration": 420,
    "start_time": "2022-03-16T15:46:26.414Z"
   },
   {
    "duration": 5,
    "start_time": "2022-03-16T15:47:38.061Z"
   },
   {
    "duration": 323,
    "start_time": "2022-03-16T15:47:39.565Z"
   },
   {
    "duration": 5131,
    "start_time": "2022-03-16T15:48:04.342Z"
   },
   {
    "duration": 5174,
    "start_time": "2022-03-16T15:48:34.430Z"
   },
   {
    "duration": 1658,
    "start_time": "2022-03-17T06:01:54.527Z"
   },
   {
    "duration": 297,
    "start_time": "2022-03-17T06:01:56.188Z"
   },
   {
    "duration": 31,
    "start_time": "2022-03-17T06:01:56.488Z"
   },
   {
    "duration": 27,
    "start_time": "2022-03-17T06:01:56.522Z"
   },
   {
    "duration": 14,
    "start_time": "2022-03-17T06:01:56.552Z"
   },
   {
    "duration": 32,
    "start_time": "2022-03-17T06:01:56.569Z"
   },
   {
    "duration": 40,
    "start_time": "2022-03-17T06:01:56.604Z"
   },
   {
    "duration": 9,
    "start_time": "2022-03-17T06:01:56.647Z"
   },
   {
    "duration": 8,
    "start_time": "2022-03-17T06:01:56.660Z"
   },
   {
    "duration": 163,
    "start_time": "2022-03-17T06:01:56.671Z"
   },
   {
    "duration": 9,
    "start_time": "2022-03-17T06:01:56.837Z"
   },
   {
    "duration": 31,
    "start_time": "2022-03-17T06:01:56.848Z"
   },
   {
    "duration": 17,
    "start_time": "2022-03-17T06:01:56.882Z"
   },
   {
    "duration": 11,
    "start_time": "2022-03-17T06:01:56.902Z"
   },
   {
    "duration": 29,
    "start_time": "2022-03-17T06:01:56.915Z"
   },
   {
    "duration": 7,
    "start_time": "2022-03-17T06:01:56.947Z"
   },
   {
    "duration": 9,
    "start_time": "2022-03-17T06:01:56.956Z"
   },
   {
    "duration": 14,
    "start_time": "2022-03-17T06:01:56.967Z"
   },
   {
    "duration": 9,
    "start_time": "2022-03-17T06:01:56.984Z"
   },
   {
    "duration": 52,
    "start_time": "2022-03-17T06:01:56.995Z"
   },
   {
    "duration": 24,
    "start_time": "2022-03-17T06:01:57.049Z"
   },
   {
    "duration": 17,
    "start_time": "2022-03-17T06:01:57.075Z"
   },
   {
    "duration": 22,
    "start_time": "2022-03-17T06:01:57.094Z"
   },
   {
    "duration": 30,
    "start_time": "2022-03-17T06:01:57.119Z"
   },
   {
    "duration": 14,
    "start_time": "2022-03-17T06:01:57.151Z"
   },
   {
    "duration": 15,
    "start_time": "2022-03-17T06:01:57.167Z"
   },
   {
    "duration": 84,
    "start_time": "2022-03-17T06:01:57.188Z"
   },
   {
    "duration": 8,
    "start_time": "2022-03-17T06:01:57.276Z"
   },
   {
    "duration": 12,
    "start_time": "2022-03-17T06:01:57.286Z"
   },
   {
    "duration": 11,
    "start_time": "2022-03-17T06:01:57.300Z"
   },
   {
    "duration": 44,
    "start_time": "2022-03-17T06:01:57.314Z"
   },
   {
    "duration": 85,
    "start_time": "2022-03-17T06:01:57.361Z"
   },
   {
    "duration": 10,
    "start_time": "2022-03-17T06:01:57.449Z"
   },
   {
    "duration": 13,
    "start_time": "2022-03-17T06:01:57.462Z"
   },
   {
    "duration": 14,
    "start_time": "2022-03-17T06:01:57.478Z"
   },
   {
    "duration": 8,
    "start_time": "2022-03-17T06:01:57.494Z"
   },
   {
    "duration": 42,
    "start_time": "2022-03-17T06:01:57.505Z"
   },
   {
    "duration": 9,
    "start_time": "2022-03-17T06:01:57.549Z"
   },
   {
    "duration": 20,
    "start_time": "2022-03-17T06:01:57.560Z"
   },
   {
    "duration": 26,
    "start_time": "2022-03-17T06:01:57.582Z"
   },
   {
    "duration": 8,
    "start_time": "2022-03-17T06:01:57.644Z"
   },
   {
    "duration": 14,
    "start_time": "2022-03-17T06:01:57.654Z"
   },
   {
    "duration": 16,
    "start_time": "2022-03-17T06:01:57.670Z"
   },
   {
    "duration": 10,
    "start_time": "2022-03-17T06:01:57.688Z"
   },
   {
    "duration": 43,
    "start_time": "2022-03-17T06:01:57.700Z"
   },
   {
    "duration": 10,
    "start_time": "2022-03-17T06:01:57.746Z"
   },
   {
    "duration": 12,
    "start_time": "2022-03-17T06:01:57.758Z"
   },
   {
    "duration": 23,
    "start_time": "2022-03-17T06:01:57.772Z"
   },
   {
    "duration": 17,
    "start_time": "2022-03-17T06:01:57.797Z"
   },
   {
    "duration": 28,
    "start_time": "2022-03-17T06:01:57.817Z"
   },
   {
    "duration": 20,
    "start_time": "2022-03-17T06:01:57.848Z"
   },
   {
    "duration": 25,
    "start_time": "2022-03-17T06:01:57.870Z"
   },
   {
    "duration": 14,
    "start_time": "2022-03-17T06:01:57.898Z"
   },
   {
    "duration": 30,
    "start_time": "2022-03-17T06:01:57.914Z"
   },
   {
    "duration": 19,
    "start_time": "2022-03-17T06:01:57.946Z"
   },
   {
    "duration": 18,
    "start_time": "2022-03-17T06:01:57.967Z"
   },
   {
    "duration": 51,
    "start_time": "2022-03-17T06:01:57.987Z"
   },
   {
    "duration": 9,
    "start_time": "2022-03-17T06:01:58.042Z"
   },
   {
    "duration": 14,
    "start_time": "2022-03-17T06:01:58.053Z"
   },
   {
    "duration": 11,
    "start_time": "2022-03-17T06:01:58.070Z"
   },
   {
    "duration": 11,
    "start_time": "2022-03-17T06:01:58.083Z"
   },
   {
    "duration": 72,
    "start_time": "2022-03-17T06:01:58.096Z"
   },
   {
    "duration": 8,
    "start_time": "2022-03-17T06:01:58.170Z"
   },
   {
    "duration": 7,
    "start_time": "2022-03-17T06:01:58.181Z"
   },
   {
    "duration": 12,
    "start_time": "2022-03-17T06:01:58.191Z"
   },
   {
    "duration": 39,
    "start_time": "2022-03-17T06:01:58.205Z"
   },
   {
    "duration": 7,
    "start_time": "2022-03-17T06:01:58.246Z"
   },
   {
    "duration": 6413,
    "start_time": "2022-03-17T06:01:58.256Z"
   },
   {
    "duration": 12,
    "start_time": "2022-03-17T06:02:04.671Z"
   },
   {
    "duration": 10,
    "start_time": "2022-03-17T06:02:04.685Z"
   },
   {
    "duration": 44,
    "start_time": "2022-03-17T06:02:04.698Z"
   },
   {
    "duration": 7,
    "start_time": "2022-03-17T06:02:04.745Z"
   },
   {
    "duration": 32,
    "start_time": "2022-03-17T06:02:04.755Z"
   },
   {
    "duration": 76,
    "start_time": "2022-03-17T06:02:04.789Z"
   },
   {
    "duration": 48,
    "start_time": "2022-03-17T06:02:04.867Z"
   },
   {
    "duration": 64,
    "start_time": "2022-03-17T06:02:04.917Z"
   },
   {
    "duration": 137,
    "start_time": "2022-03-17T06:02:04.984Z"
   },
   {
    "duration": 26,
    "start_time": "2022-03-17T06:02:05.123Z"
   },
   {
    "duration": 19,
    "start_time": "2022-03-17T06:02:05.151Z"
   },
   {
    "duration": 13,
    "start_time": "2022-03-17T06:02:05.172Z"
   },
   {
    "duration": 13,
    "start_time": "2022-03-17T06:02:05.193Z"
   },
   {
    "duration": 12631,
    "start_time": "2022-03-17T06:02:05.208Z"
   },
   {
    "duration": 5,
    "start_time": "2022-03-17T06:02:17.843Z"
   },
   {
    "duration": 2819,
    "start_time": "2022-03-17T06:02:56.390Z"
   },
   {
    "duration": 2796,
    "start_time": "2022-03-17T06:03:27.216Z"
   },
   {
    "duration": 242,
    "start_time": "2022-03-17T06:03:49.033Z"
   },
   {
    "duration": 4,
    "start_time": "2022-03-17T06:03:59.473Z"
   },
   {
    "duration": 2552,
    "start_time": "2022-03-17T06:05:56.525Z"
   },
   {
    "duration": 69,
    "start_time": "2022-03-17T06:24:34.071Z"
   },
   {
    "duration": 25,
    "start_time": "2022-03-17T06:24:51.832Z"
   },
   {
    "duration": 412,
    "start_time": "2022-03-17T06:24:55.831Z"
   },
   {
    "duration": 29,
    "start_time": "2022-03-17T06:24:56.287Z"
   },
   {
    "duration": 213,
    "start_time": "2022-03-17T06:24:56.680Z"
   },
   {
    "duration": 5,
    "start_time": "2022-03-17T06:24:58.531Z"
   },
   {
    "duration": 5,
    "start_time": "2022-03-17T06:24:58.684Z"
   },
   {
    "duration": 32783,
    "start_time": "2022-03-17T06:24:59.383Z"
   },
   {
    "duration": 5,
    "start_time": "2022-03-17T06:25:32.169Z"
   },
   {
    "duration": 6088,
    "start_time": "2022-03-17T06:25:44.839Z"
   },
   {
    "duration": 5,
    "start_time": "2022-03-17T06:26:08.391Z"
   },
   {
    "duration": 62,
    "start_time": "2022-03-17T06:26:26.931Z"
   },
   {
    "duration": 441,
    "start_time": "2022-03-17T06:26:34.162Z"
   },
   {
    "duration": 44,
    "start_time": "2022-03-17T06:26:34.605Z"
   },
   {
    "duration": 238,
    "start_time": "2022-03-17T06:26:34.943Z"
   },
   {
    "duration": 4,
    "start_time": "2022-03-17T06:26:42.624Z"
   },
   {
    "duration": 37862,
    "start_time": "2022-03-17T06:26:43.602Z"
   },
   {
    "duration": 6,
    "start_time": "2022-03-17T06:27:21.467Z"
   },
   {
    "duration": 29,
    "start_time": "2022-03-17T06:27:21.476Z"
   },
   {
    "duration": 5798,
    "start_time": "2022-03-17T06:27:21.508Z"
   },
   {
    "duration": 6798,
    "start_time": "2022-03-17T06:30:21.523Z"
   },
   {
    "duration": 7092,
    "start_time": "2022-03-17T06:30:46.000Z"
   },
   {
    "duration": 6797,
    "start_time": "2022-03-17T06:31:09.744Z"
   },
   {
    "duration": 6899,
    "start_time": "2022-03-17T06:31:25.854Z"
   },
   {
    "duration": 6883,
    "start_time": "2022-03-17T06:33:45.121Z"
   },
   {
    "duration": 5961,
    "start_time": "2022-03-17T06:34:40.298Z"
   },
   {
    "duration": 4974,
    "start_time": "2022-03-17T06:35:10.007Z"
   },
   {
    "duration": 2854,
    "start_time": "2022-03-17T06:35:25.484Z"
   },
   {
    "duration": 6314,
    "start_time": "2022-03-17T06:35:46.117Z"
   },
   {
    "duration": 6,
    "start_time": "2022-03-17T06:36:50.522Z"
   },
   {
    "duration": 275,
    "start_time": "2022-03-17T06:36:50.530Z"
   },
   {
    "duration": 45,
    "start_time": "2022-03-17T06:36:50.809Z"
   },
   {
    "duration": 11,
    "start_time": "2022-03-17T06:36:50.857Z"
   },
   {
    "duration": 11,
    "start_time": "2022-03-17T06:36:50.871Z"
   },
   {
    "duration": 29,
    "start_time": "2022-03-17T06:36:50.884Z"
   },
   {
    "duration": 8,
    "start_time": "2022-03-17T06:36:50.944Z"
   },
   {
    "duration": 9,
    "start_time": "2022-03-17T06:36:50.954Z"
   },
   {
    "duration": 9,
    "start_time": "2022-03-17T06:36:50.967Z"
   },
   {
    "duration": 69,
    "start_time": "2022-03-17T06:36:50.979Z"
   },
   {
    "duration": 9,
    "start_time": "2022-03-17T06:36:51.050Z"
   },
   {
    "duration": 14,
    "start_time": "2022-03-17T06:36:51.061Z"
   },
   {
    "duration": 14,
    "start_time": "2022-03-17T06:36:51.077Z"
   },
   {
    "duration": 8,
    "start_time": "2022-03-17T06:36:51.094Z"
   },
   {
    "duration": 9,
    "start_time": "2022-03-17T06:36:51.144Z"
   },
   {
    "duration": 13,
    "start_time": "2022-03-17T06:36:51.155Z"
   },
   {
    "duration": 19,
    "start_time": "2022-03-17T06:36:51.171Z"
   },
   {
    "duration": 61,
    "start_time": "2022-03-17T06:36:51.193Z"
   },
   {
    "duration": 8,
    "start_time": "2022-03-17T06:36:51.256Z"
   },
   {
    "duration": 9,
    "start_time": "2022-03-17T06:36:51.266Z"
   },
   {
    "duration": 14,
    "start_time": "2022-03-17T06:36:51.277Z"
   },
   {
    "duration": 61,
    "start_time": "2022-03-17T06:36:51.294Z"
   },
   {
    "duration": 13,
    "start_time": "2022-03-17T06:36:51.357Z"
   },
   {
    "duration": 13,
    "start_time": "2022-03-17T06:36:51.373Z"
   },
   {
    "duration": 8,
    "start_time": "2022-03-17T06:36:51.389Z"
   },
   {
    "duration": 13,
    "start_time": "2022-03-17T06:36:51.444Z"
   },
   {
    "duration": 80,
    "start_time": "2022-03-17T06:36:51.464Z"
   },
   {
    "duration": 8,
    "start_time": "2022-03-17T06:36:51.548Z"
   },
   {
    "duration": 8,
    "start_time": "2022-03-17T06:36:51.559Z"
   },
   {
    "duration": 7,
    "start_time": "2022-03-17T06:36:51.569Z"
   },
   {
    "duration": 13,
    "start_time": "2022-03-17T06:36:51.579Z"
   },
   {
    "duration": 110,
    "start_time": "2022-03-17T06:36:51.594Z"
   },
   {
    "duration": 8,
    "start_time": "2022-03-17T06:36:51.706Z"
   },
   {
    "duration": 29,
    "start_time": "2022-03-17T06:36:51.716Z"
   },
   {
    "duration": 15,
    "start_time": "2022-03-17T06:36:51.747Z"
   },
   {
    "duration": 15,
    "start_time": "2022-03-17T06:36:51.765Z"
   },
   {
    "duration": 11,
    "start_time": "2022-03-17T06:36:51.782Z"
   },
   {
    "duration": 53,
    "start_time": "2022-03-17T06:36:51.796Z"
   },
   {
    "duration": 11,
    "start_time": "2022-03-17T06:36:51.852Z"
   },
   {
    "duration": 29,
    "start_time": "2022-03-17T06:36:51.865Z"
   },
   {
    "duration": 48,
    "start_time": "2022-03-17T06:36:51.896Z"
   },
   {
    "duration": 11,
    "start_time": "2022-03-17T06:36:51.947Z"
   },
   {
    "duration": 14,
    "start_time": "2022-03-17T06:36:51.961Z"
   },
   {
    "duration": 7,
    "start_time": "2022-03-17T06:36:51.978Z"
   },
   {
    "duration": 9,
    "start_time": "2022-03-17T06:36:51.988Z"
   },
   {
    "duration": 49,
    "start_time": "2022-03-17T06:36:52.000Z"
   },
   {
    "duration": 9,
    "start_time": "2022-03-17T06:36:52.051Z"
   },
   {
    "duration": 10,
    "start_time": "2022-03-17T06:36:52.063Z"
   },
   {
    "duration": 11,
    "start_time": "2022-03-17T06:36:52.075Z"
   },
   {
    "duration": 9,
    "start_time": "2022-03-17T06:36:52.144Z"
   },
   {
    "duration": 15,
    "start_time": "2022-03-17T06:36:52.156Z"
   },
   {
    "duration": 11,
    "start_time": "2022-03-17T06:36:52.173Z"
   },
   {
    "duration": 59,
    "start_time": "2022-03-17T06:36:52.187Z"
   },
   {
    "duration": 10,
    "start_time": "2022-03-17T06:36:52.248Z"
   },
   {
    "duration": 10,
    "start_time": "2022-03-17T06:36:52.260Z"
   },
   {
    "duration": 19,
    "start_time": "2022-03-17T06:36:52.274Z"
   },
   {
    "duration": 36,
    "start_time": "2022-03-17T06:36:52.343Z"
   },
   {
    "duration": 10,
    "start_time": "2022-03-17T06:36:52.382Z"
   },
   {
    "duration": 10,
    "start_time": "2022-03-17T06:36:52.394Z"
   },
   {
    "duration": 44,
    "start_time": "2022-03-17T06:36:52.406Z"
   },
   {
    "duration": 13,
    "start_time": "2022-03-17T06:36:52.453Z"
   },
   {
    "duration": 38,
    "start_time": "2022-03-17T06:36:52.468Z"
   },
   {
    "duration": 11,
    "start_time": "2022-03-17T06:36:52.543Z"
   },
   {
    "duration": 17,
    "start_time": "2022-03-17T06:36:52.558Z"
   },
   {
    "duration": 18,
    "start_time": "2022-03-17T06:36:52.578Z"
   },
   {
    "duration": 6,
    "start_time": "2022-03-17T06:36:52.598Z"
   },
   {
    "duration": 37,
    "start_time": "2022-03-17T06:36:52.607Z"
   },
   {
    "duration": 7417,
    "start_time": "2022-03-17T06:36:52.647Z"
   },
   {
    "duration": 13,
    "start_time": "2022-03-17T06:37:00.066Z"
   },
   {
    "duration": 10,
    "start_time": "2022-03-17T06:37:00.081Z"
   },
   {
    "duration": 25,
    "start_time": "2022-03-17T06:37:00.094Z"
   },
   {
    "duration": 8,
    "start_time": "2022-03-17T06:37:00.143Z"
   },
   {
    "duration": 30,
    "start_time": "2022-03-17T06:37:01.698Z"
   },
   {
    "duration": 408,
    "start_time": "2022-03-17T06:37:08.395Z"
   },
   {
    "duration": 40,
    "start_time": "2022-03-17T06:37:08.806Z"
   },
   {
    "duration": 399,
    "start_time": "2022-03-17T06:37:08.848Z"
   },
   {
    "duration": 5,
    "start_time": "2022-03-17T06:37:09.250Z"
   },
   {
    "duration": 11,
    "start_time": "2022-03-17T06:37:09.258Z"
   },
   {
    "duration": 24185,
    "start_time": "2022-03-17T06:37:09.272Z"
   },
   {
    "duration": 6,
    "start_time": "2022-03-17T06:37:33.460Z"
   },
   {
    "duration": 589,
    "start_time": "2022-03-17T06:37:33.469Z"
   },
   {
    "duration": 5269,
    "start_time": "2022-03-17T06:37:34.061Z"
   },
   {
    "duration": 59,
    "start_time": "2022-03-17T06:38:16.960Z"
   },
   {
    "duration": 425,
    "start_time": "2022-03-17T06:38:22.330Z"
   },
   {
    "duration": 30,
    "start_time": "2022-03-17T06:38:22.757Z"
   },
   {
    "duration": 204,
    "start_time": "2022-03-17T06:38:23.483Z"
   },
   {
    "duration": 4,
    "start_time": "2022-03-17T06:38:25.405Z"
   },
   {
    "duration": 4,
    "start_time": "2022-03-17T06:38:25.660Z"
   },
   {
    "duration": 28405,
    "start_time": "2022-03-17T06:38:25.905Z"
   },
   {
    "duration": 5,
    "start_time": "2022-03-17T06:38:54.313Z"
   },
   {
    "duration": 22,
    "start_time": "2022-03-17T06:38:54.321Z"
   },
   {
    "duration": 6185,
    "start_time": "2022-03-17T06:38:54.345Z"
   },
   {
    "duration": 297,
    "start_time": "2022-03-17T06:41:19.315Z"
   },
   {
    "duration": 583,
    "start_time": "2022-03-17T06:46:29.686Z"
   },
   {
    "duration": 4,
    "start_time": "2022-03-17T06:49:15.169Z"
   },
   {
    "duration": 597985,
    "start_time": "2022-03-17T06:49:15.488Z"
   },
   {
    "duration": 5,
    "start_time": "2022-03-17T06:59:18.173Z"
   },
   {
    "duration": 6,
    "start_time": "2022-03-17T06:59:27.301Z"
   },
   {
    "duration": 543,
    "start_time": "2022-03-17T06:59:43.665Z"
   },
   {
    "duration": 3,
    "start_time": "2022-03-17T07:00:04.446Z"
   },
   {
    "duration": 2998,
    "start_time": "2022-03-17T07:00:05.093Z"
   },
   {
    "duration": 83939,
    "start_time": "2022-03-17T07:00:08.094Z"
   },
   {
    "duration": 9,
    "start_time": "2022-03-17T07:01:32.036Z"
   },
   {
    "duration": 23,
    "start_time": "2022-03-17T07:01:32.047Z"
   },
   {
    "duration": 612,
    "start_time": "2022-03-17T07:02:40.774Z"
   },
   {
    "duration": 258,
    "start_time": "2022-03-17T07:03:41.826Z"
   },
   {
    "duration": 333,
    "start_time": "2022-03-17T07:04:05.885Z"
   },
   {
    "duration": 80789,
    "start_time": "2022-03-17T07:05:29.735Z"
   },
   {
    "duration": 17,
    "start_time": "2022-03-17T07:06:50.526Z"
   },
   {
    "duration": 5,
    "start_time": "2022-03-17T07:06:50.546Z"
   },
   {
    "duration": 589,
    "start_time": "2022-03-17T07:06:50.554Z"
   },
   {
    "duration": 570,
    "start_time": "2022-03-17T07:07:14.212Z"
   },
   {
    "duration": 7,
    "start_time": "2022-03-17T07:07:38.367Z"
   },
   {
    "duration": 223,
    "start_time": "2022-03-17T07:08:58.694Z"
   },
   {
    "duration": 79236,
    "start_time": "2022-03-17T07:09:05.901Z"
   },
   {
    "duration": 6,
    "start_time": "2022-03-17T07:10:41.526Z"
   },
   {
    "duration": 5,
    "start_time": "2022-03-17T07:10:46.753Z"
   },
   {
    "duration": 12910,
    "start_time": "2022-03-17T07:11:34.406Z"
   },
   {
    "duration": 4,
    "start_time": "2022-03-17T07:11:49.336Z"
   },
   {
    "duration": 128821,
    "start_time": "2022-03-17T07:11:50.006Z"
   },
   {
    "duration": 14,
    "start_time": "2022-03-17T07:13:58.830Z"
   },
   {
    "duration": 5,
    "start_time": "2022-03-17T07:13:58.846Z"
   },
   {
    "duration": 595,
    "start_time": "2022-03-17T07:13:58.853Z"
   },
   {
    "duration": 33106,
    "start_time": "2022-03-17T07:14:24.394Z"
   },
   {
    "duration": 6,
    "start_time": "2022-03-17T07:14:57.503Z"
   },
   {
    "duration": 32,
    "start_time": "2022-03-17T07:14:57.513Z"
   },
   {
    "duration": 617,
    "start_time": "2022-03-17T07:14:57.548Z"
   },
   {
    "duration": 19214,
    "start_time": "2022-03-17T07:15:15.454Z"
   },
   {
    "duration": 6,
    "start_time": "2022-03-17T07:15:34.671Z"
   },
   {
    "duration": 7,
    "start_time": "2022-03-17T07:15:34.680Z"
   },
   {
    "duration": 633,
    "start_time": "2022-03-17T07:15:34.690Z"
   },
   {
    "duration": 4,
    "start_time": "2022-03-17T07:15:51.254Z"
   },
   {
    "duration": 56204,
    "start_time": "2022-03-17T07:15:54.194Z"
   },
   {
    "duration": 5,
    "start_time": "2022-03-17T07:16:50.402Z"
   },
   {
    "duration": 33,
    "start_time": "2022-03-17T07:16:50.409Z"
   },
   {
    "duration": 995,
    "start_time": "2022-03-17T07:16:50.444Z"
   },
   {
    "duration": 4,
    "start_time": "2022-03-17T07:18:01.226Z"
   },
   {
    "duration": 63346,
    "start_time": "2022-03-17T07:18:02.635Z"
   },
   {
    "duration": 6,
    "start_time": "2022-03-17T07:19:05.984Z"
   },
   {
    "duration": 11,
    "start_time": "2022-03-17T07:19:05.993Z"
   },
   {
    "duration": 117799,
    "start_time": "2022-03-17T07:19:25.526Z"
   },
   {
    "duration": 15,
    "start_time": "2022-03-17T07:21:23.327Z"
   },
   {
    "duration": 16,
    "start_time": "2022-03-17T07:21:23.345Z"
   },
   {
    "duration": 4,
    "start_time": "2022-03-17T07:21:41.506Z"
   },
   {
    "duration": 38859,
    "start_time": "2022-03-17T07:21:42.146Z"
   },
   {
    "duration": 5,
    "start_time": "2022-03-17T07:22:21.007Z"
   },
   {
    "duration": 29,
    "start_time": "2022-03-17T07:22:21.014Z"
   },
   {
    "duration": 484,
    "start_time": "2022-03-17T07:22:31.647Z"
   },
   {
    "duration": 5,
    "start_time": "2022-03-17T07:22:56.006Z"
   },
   {
    "duration": 65699,
    "start_time": "2022-03-17T07:22:56.567Z"
   },
   {
    "duration": 6,
    "start_time": "2022-03-17T07:24:02.268Z"
   },
   {
    "duration": 7,
    "start_time": "2022-03-17T07:24:02.278Z"
   },
   {
    "duration": 599,
    "start_time": "2022-03-17T07:24:11.914Z"
   },
   {
    "duration": 4,
    "start_time": "2022-03-17T07:26:35.102Z"
   },
   {
    "duration": 261550,
    "start_time": "2022-03-17T07:26:37.550Z"
   },
   {
    "duration": 5,
    "start_time": "2022-03-17T07:30:59.102Z"
   },
   {
    "duration": 7,
    "start_time": "2022-03-17T07:30:59.109Z"
   },
   {
    "duration": 601,
    "start_time": "2022-03-17T07:30:59.119Z"
   },
   {
    "duration": 269191,
    "start_time": "2022-03-17T07:32:40.726Z"
   },
   {
    "duration": 272320,
    "start_time": "2022-03-17T07:40:40.794Z"
   },
   {
    "duration": 5,
    "start_time": "2022-03-17T07:45:13.117Z"
   },
   {
    "duration": 24,
    "start_time": "2022-03-17T07:45:13.124Z"
   },
   {
    "duration": 609,
    "start_time": "2022-03-17T07:46:43.422Z"
   },
   {
    "duration": 334,
    "start_time": "2022-03-17T08:09:22.741Z"
   },
   {
    "duration": 322,
    "start_time": "2022-03-17T08:09:43.401Z"
   },
   {
    "duration": 9,
    "start_time": "2022-03-17T08:10:42.533Z"
   },
   {
    "duration": 187869,
    "start_time": "2022-03-17T08:10:49.033Z"
   },
   {
    "duration": 329,
    "start_time": "2022-03-17T08:15:38.765Z"
   },
   {
    "duration": 224,
    "start_time": "2022-03-17T08:18:38.467Z"
   },
   {
    "duration": 353510,
    "start_time": "2022-03-17T08:18:59.184Z"
   },
   {
    "duration": 1002444,
    "start_time": "2022-03-17T08:24:58.481Z"
   },
   {
    "duration": 274,
    "start_time": "2022-03-17T08:42:04.482Z"
   },
   {
    "duration": 5807,
    "start_time": "2022-03-17T08:42:27.456Z"
   },
   {
    "duration": 5826,
    "start_time": "2022-03-17T08:43:03.735Z"
   },
   {
    "duration": 6549,
    "start_time": "2022-03-17T08:43:30.590Z"
   },
   {
    "duration": 8971666,
    "start_time": "2022-03-17T08:43:42.634Z"
   },
   {
    "duration": 9,
    "start_time": "2022-03-17T11:13:14.303Z"
   },
   {
    "duration": 358,
    "start_time": "2022-03-17T11:14:28.867Z"
   },
   {
    "duration": 14706,
    "start_time": "2022-03-17T11:14:59.959Z"
   },
   {
    "duration": 188762,
    "start_time": "2022-03-17T11:15:17.587Z"
   },
   {
    "duration": 326,
    "start_time": "2022-03-17T11:18:26.356Z"
   },
   {
    "duration": 96,
    "start_time": "2022-03-17T11:18:49.896Z"
   },
   {
    "duration": 9,
    "start_time": "2022-03-17T11:18:57.147Z"
   },
   {
    "duration": 113,
    "start_time": "2022-03-17T11:19:03.895Z"
   },
   {
    "duration": 363,
    "start_time": "2022-03-17T11:19:23.889Z"
   },
   {
    "duration": 324,
    "start_time": "2022-03-17T11:19:44.277Z"
   },
   {
    "duration": 11,
    "start_time": "2022-03-17T11:20:46.217Z"
   },
   {
    "duration": 6,
    "start_time": "2022-03-17T11:20:56.219Z"
   },
   {
    "duration": 6,
    "start_time": "2022-03-17T11:20:57.007Z"
   },
   {
    "duration": 4,
    "start_time": "2022-03-17T11:20:57.639Z"
   },
   {
    "duration": 2762,
    "start_time": "2022-03-17T11:22:47.818Z"
   },
   {
    "duration": 1518,
    "start_time": "2022-03-17T11:22:50.583Z"
   },
   {
    "duration": 44,
    "start_time": "2022-03-17T11:22:52.105Z"
   },
   {
    "duration": 21,
    "start_time": "2022-03-17T11:22:52.152Z"
   },
   {
    "duration": 16,
    "start_time": "2022-03-17T11:22:52.176Z"
   },
   {
    "duration": 66,
    "start_time": "2022-03-17T11:22:52.196Z"
   },
   {
    "duration": 10,
    "start_time": "2022-03-17T11:22:52.266Z"
   },
   {
    "duration": 10,
    "start_time": "2022-03-17T11:22:52.279Z"
   },
   {
    "duration": 51,
    "start_time": "2022-03-17T11:22:52.295Z"
   },
   {
    "duration": 50,
    "start_time": "2022-03-17T11:22:52.351Z"
   },
   {
    "duration": 12,
    "start_time": "2022-03-17T11:22:52.404Z"
   },
   {
    "duration": 22,
    "start_time": "2022-03-17T11:22:52.445Z"
   },
   {
    "duration": 21,
    "start_time": "2022-03-17T11:22:52.470Z"
   },
   {
    "duration": 13,
    "start_time": "2022-03-17T11:22:52.494Z"
   },
   {
    "duration": 39,
    "start_time": "2022-03-17T11:22:52.510Z"
   },
   {
    "duration": 13,
    "start_time": "2022-03-17T11:22:52.553Z"
   },
   {
    "duration": 12,
    "start_time": "2022-03-17T11:22:52.575Z"
   },
   {
    "duration": 11,
    "start_time": "2022-03-17T11:22:52.590Z"
   },
   {
    "duration": 44,
    "start_time": "2022-03-17T11:22:52.604Z"
   },
   {
    "duration": 10,
    "start_time": "2022-03-17T11:22:52.652Z"
   },
   {
    "duration": 24,
    "start_time": "2022-03-17T11:22:52.665Z"
   },
   {
    "duration": 68,
    "start_time": "2022-03-17T11:22:52.692Z"
   },
   {
    "duration": 15,
    "start_time": "2022-03-17T11:22:52.763Z"
   },
   {
    "duration": 22,
    "start_time": "2022-03-17T11:22:52.781Z"
   },
   {
    "duration": 41,
    "start_time": "2022-03-17T11:22:52.806Z"
   },
   {
    "duration": 32,
    "start_time": "2022-03-17T11:22:52.850Z"
   },
   {
    "duration": 117,
    "start_time": "2022-03-17T11:22:52.891Z"
   },
   {
    "duration": 12,
    "start_time": "2022-03-17T11:22:53.012Z"
   },
   {
    "duration": 28,
    "start_time": "2022-03-17T11:22:53.026Z"
   },
   {
    "duration": 47,
    "start_time": "2022-03-17T11:22:53.056Z"
   },
   {
    "duration": 17,
    "start_time": "2022-03-17T11:22:53.105Z"
   },
   {
    "duration": 113,
    "start_time": "2022-03-17T11:22:53.124Z"
   },
   {
    "duration": 16,
    "start_time": "2022-03-17T11:22:53.239Z"
   },
   {
    "duration": 22,
    "start_time": "2022-03-17T11:22:53.259Z"
   },
   {
    "duration": 19,
    "start_time": "2022-03-17T11:22:53.285Z"
   },
   {
    "duration": 9,
    "start_time": "2022-03-17T11:22:53.307Z"
   },
   {
    "duration": 42,
    "start_time": "2022-03-17T11:22:53.319Z"
   },
   {
    "duration": 18,
    "start_time": "2022-03-17T11:22:53.365Z"
   },
   {
    "duration": 15,
    "start_time": "2022-03-17T11:22:53.386Z"
   },
   {
    "duration": 52,
    "start_time": "2022-03-17T11:22:53.404Z"
   },
   {
    "duration": 10,
    "start_time": "2022-03-17T11:22:53.458Z"
   },
   {
    "duration": 18,
    "start_time": "2022-03-17T11:22:53.471Z"
   },
   {
    "duration": 15,
    "start_time": "2022-03-17T11:22:53.493Z"
   },
   {
    "duration": 13,
    "start_time": "2022-03-17T11:22:53.543Z"
   },
   {
    "duration": 12,
    "start_time": "2022-03-17T11:22:53.561Z"
   },
   {
    "duration": 16,
    "start_time": "2022-03-17T11:22:53.576Z"
   },
   {
    "duration": 52,
    "start_time": "2022-03-17T11:22:53.595Z"
   },
   {
    "duration": 13,
    "start_time": "2022-03-17T11:22:53.650Z"
   },
   {
    "duration": 10,
    "start_time": "2022-03-17T11:22:53.668Z"
   },
   {
    "duration": 10,
    "start_time": "2022-03-17T11:22:53.681Z"
   },
   {
    "duration": 52,
    "start_time": "2022-03-17T11:22:53.693Z"
   },
   {
    "duration": 17,
    "start_time": "2022-03-17T11:22:53.749Z"
   },
   {
    "duration": 15,
    "start_time": "2022-03-17T11:22:53.769Z"
   },
   {
    "duration": 14,
    "start_time": "2022-03-17T11:22:53.787Z"
   },
   {
    "duration": 11,
    "start_time": "2022-03-17T11:22:53.847Z"
   },
   {
    "duration": 25,
    "start_time": "2022-03-17T11:22:53.860Z"
   },
   {
    "duration": 76,
    "start_time": "2022-03-17T11:22:53.888Z"
   },
   {
    "duration": 13,
    "start_time": "2022-03-17T11:22:53.967Z"
   },
   {
    "duration": 13,
    "start_time": "2022-03-17T11:22:53.984Z"
   },
   {
    "duration": 11,
    "start_time": "2022-03-17T11:22:54.000Z"
   },
   {
    "duration": 45,
    "start_time": "2022-03-17T11:22:54.014Z"
   },
   {
    "duration": 86,
    "start_time": "2022-03-17T11:22:54.063Z"
   },
   {
    "duration": 9,
    "start_time": "2022-03-17T11:22:54.151Z"
   },
   {
    "duration": 24,
    "start_time": "2022-03-17T11:22:54.163Z"
   },
   {
    "duration": 23,
    "start_time": "2022-03-17T11:22:54.189Z"
   },
   {
    "duration": 39,
    "start_time": "2022-03-17T11:22:54.216Z"
   },
   {
    "duration": 8,
    "start_time": "2022-03-17T11:22:54.259Z"
   },
   {
    "duration": 8565,
    "start_time": "2022-03-17T11:22:54.270Z"
   },
   {
    "duration": 17,
    "start_time": "2022-03-17T11:23:02.843Z"
   },
   {
    "duration": 11,
    "start_time": "2022-03-17T11:23:02.863Z"
   },
   {
    "duration": 22,
    "start_time": "2022-03-17T11:23:02.877Z"
   },
   {
    "duration": 43,
    "start_time": "2022-03-17T11:23:02.902Z"
   },
   {
    "duration": 63,
    "start_time": "2022-03-17T11:23:02.948Z"
   },
   {
    "duration": 495,
    "start_time": "2022-03-17T11:23:03.014Z"
   },
   {
    "duration": 92,
    "start_time": "2022-03-17T11:23:03.511Z"
   },
   {
    "duration": 278,
    "start_time": "2022-03-17T11:23:03.606Z"
   },
   {
    "duration": 4,
    "start_time": "2022-03-17T11:23:03.888Z"
   },
   {
    "duration": 5,
    "start_time": "2022-03-17T11:23:06.473Z"
   },
   {
    "duration": 32,
    "start_time": "2022-03-17T11:23:06.482Z"
   },
   {
    "duration": 1620,
    "start_time": "2022-03-17T11:46:35.372Z"
   },
   {
    "duration": 437,
    "start_time": "2022-03-17T11:46:36.996Z"
   },
   {
    "duration": 52,
    "start_time": "2022-03-17T11:46:37.437Z"
   },
   {
    "duration": 19,
    "start_time": "2022-03-17T11:46:37.492Z"
   },
   {
    "duration": 41,
    "start_time": "2022-03-17T11:46:37.514Z"
   },
   {
    "duration": 53,
    "start_time": "2022-03-17T11:46:37.558Z"
   },
   {
    "duration": 32,
    "start_time": "2022-03-17T11:46:37.614Z"
   },
   {
    "duration": 8,
    "start_time": "2022-03-17T11:46:37.649Z"
   },
   {
    "duration": 10,
    "start_time": "2022-03-17T11:46:37.662Z"
   },
   {
    "duration": 71,
    "start_time": "2022-03-17T11:46:37.675Z"
   },
   {
    "duration": 10,
    "start_time": "2022-03-17T11:46:37.749Z"
   },
   {
    "duration": 15,
    "start_time": "2022-03-17T11:46:37.762Z"
   },
   {
    "duration": 11,
    "start_time": "2022-03-17T11:46:37.781Z"
   },
   {
    "duration": 50,
    "start_time": "2022-03-17T11:46:37.795Z"
   },
   {
    "duration": 9,
    "start_time": "2022-03-17T11:46:37.849Z"
   },
   {
    "duration": 11,
    "start_time": "2022-03-17T11:46:37.860Z"
   },
   {
    "duration": 9,
    "start_time": "2022-03-17T11:46:37.873Z"
   },
   {
    "duration": 61,
    "start_time": "2022-03-17T11:46:37.885Z"
   },
   {
    "duration": 9,
    "start_time": "2022-03-17T11:46:37.949Z"
   },
   {
    "duration": 18,
    "start_time": "2022-03-17T11:46:37.961Z"
   },
   {
    "duration": 23,
    "start_time": "2022-03-17T11:46:37.982Z"
   },
   {
    "duration": 44,
    "start_time": "2022-03-17T11:46:38.007Z"
   },
   {
    "duration": 12,
    "start_time": "2022-03-17T11:46:38.054Z"
   },
   {
    "duration": 22,
    "start_time": "2022-03-17T11:46:38.069Z"
   },
   {
    "duration": 15,
    "start_time": "2022-03-17T11:46:38.093Z"
   },
   {
    "duration": 44,
    "start_time": "2022-03-17T11:46:38.110Z"
   },
   {
    "duration": 93,
    "start_time": "2022-03-17T11:46:38.168Z"
   },
   {
    "duration": 8,
    "start_time": "2022-03-17T11:46:38.264Z"
   },
   {
    "duration": 8,
    "start_time": "2022-03-17T11:46:38.275Z"
   },
   {
    "duration": 13,
    "start_time": "2022-03-17T11:46:38.286Z"
   },
   {
    "duration": 55,
    "start_time": "2022-03-17T11:46:38.301Z"
   },
   {
    "duration": 98,
    "start_time": "2022-03-17T11:46:38.359Z"
   },
   {
    "duration": 11,
    "start_time": "2022-03-17T11:46:38.460Z"
   },
   {
    "duration": 11,
    "start_time": "2022-03-17T11:46:38.474Z"
   },
   {
    "duration": 13,
    "start_time": "2022-03-17T11:46:38.487Z"
   },
   {
    "duration": 48,
    "start_time": "2022-03-17T11:46:38.502Z"
   },
   {
    "duration": 10,
    "start_time": "2022-03-17T11:46:38.553Z"
   },
   {
    "duration": 10,
    "start_time": "2022-03-17T11:46:38.567Z"
   },
   {
    "duration": 11,
    "start_time": "2022-03-17T11:46:38.580Z"
   },
   {
    "duration": 86,
    "start_time": "2022-03-17T11:46:38.594Z"
   },
   {
    "duration": 7,
    "start_time": "2022-03-17T11:46:38.683Z"
   },
   {
    "duration": 13,
    "start_time": "2022-03-17T11:46:38.693Z"
   },
   {
    "duration": 36,
    "start_time": "2022-03-17T11:46:38.709Z"
   },
   {
    "duration": 11,
    "start_time": "2022-03-17T11:46:38.748Z"
   },
   {
    "duration": 10,
    "start_time": "2022-03-17T11:46:38.762Z"
   },
   {
    "duration": 10,
    "start_time": "2022-03-17T11:46:38.776Z"
   },
   {
    "duration": 58,
    "start_time": "2022-03-17T11:46:38.790Z"
   },
   {
    "duration": 11,
    "start_time": "2022-03-17T11:46:38.852Z"
   },
   {
    "duration": 8,
    "start_time": "2022-03-17T11:46:38.866Z"
   },
   {
    "duration": 7,
    "start_time": "2022-03-17T11:46:38.877Z"
   },
   {
    "duration": 66,
    "start_time": "2022-03-17T11:46:38.887Z"
   },
   {
    "duration": 15,
    "start_time": "2022-03-17T11:46:38.957Z"
   },
   {
    "duration": 18,
    "start_time": "2022-03-17T11:46:38.975Z"
   },
   {
    "duration": 49,
    "start_time": "2022-03-17T11:46:38.996Z"
   },
   {
    "duration": 18,
    "start_time": "2022-03-17T11:46:39.048Z"
   },
   {
    "duration": 14,
    "start_time": "2022-03-17T11:46:39.069Z"
   },
   {
    "duration": 85,
    "start_time": "2022-03-17T11:46:39.087Z"
   },
   {
    "duration": 8,
    "start_time": "2022-03-17T11:46:39.175Z"
   },
   {
    "duration": 8,
    "start_time": "2022-03-17T11:46:39.186Z"
   },
   {
    "duration": 49,
    "start_time": "2022-03-17T11:46:39.196Z"
   },
   {
    "duration": 16,
    "start_time": "2022-03-17T11:46:39.249Z"
   },
   {
    "duration": 41,
    "start_time": "2022-03-17T11:46:39.268Z"
   },
   {
    "duration": 41,
    "start_time": "2022-03-17T11:46:39.313Z"
   },
   {
    "duration": 13,
    "start_time": "2022-03-17T11:46:39.357Z"
   },
   {
    "duration": 13,
    "start_time": "2022-03-17T11:46:39.373Z"
   },
   {
    "duration": 6,
    "start_time": "2022-03-17T11:46:39.390Z"
   },
   {
    "duration": 45,
    "start_time": "2022-03-17T11:46:39.399Z"
   },
   {
    "duration": 6558,
    "start_time": "2022-03-17T11:46:39.447Z"
   },
   {
    "duration": 15,
    "start_time": "2022-03-17T11:46:46.007Z"
   },
   {
    "duration": 36,
    "start_time": "2022-03-17T11:46:46.024Z"
   },
   {
    "duration": 15,
    "start_time": "2022-03-17T11:46:46.063Z"
   },
   {
    "duration": 11,
    "start_time": "2022-03-17T11:46:46.080Z"
   },
   {
    "duration": 52,
    "start_time": "2022-03-17T11:46:46.094Z"
   },
   {
    "duration": 8,
    "start_time": "2022-03-17T11:46:46.148Z"
   },
   {
    "duration": 62,
    "start_time": "2022-03-17T11:46:46.159Z"
   },
   {
    "duration": 28,
    "start_time": "2022-03-17T11:46:46.223Z"
   },
   {
    "duration": 465,
    "start_time": "2022-03-17T11:46:46.254Z"
   },
   {
    "duration": 44,
    "start_time": "2022-03-17T11:46:46.722Z"
   },
   {
    "duration": 317,
    "start_time": "2022-03-17T11:46:46.768Z"
   },
   {
    "duration": 4,
    "start_time": "2022-03-17T11:47:00.794Z"
   },
   {
    "duration": 5,
    "start_time": "2022-03-17T11:47:02.432Z"
   },
   {
    "duration": 5,
    "start_time": "2022-03-17T11:47:03.632Z"
   },
   {
    "duration": 2120,
    "start_time": "2022-03-17T11:53:20.008Z"
   },
   {
    "duration": 297,
    "start_time": "2022-03-17T11:53:22.131Z"
   },
   {
    "duration": 45,
    "start_time": "2022-03-17T11:53:22.432Z"
   },
   {
    "duration": 40,
    "start_time": "2022-03-17T11:53:22.481Z"
   },
   {
    "duration": 60,
    "start_time": "2022-03-17T11:53:22.524Z"
   },
   {
    "duration": 70,
    "start_time": "2022-03-17T11:53:22.586Z"
   },
   {
    "duration": 39,
    "start_time": "2022-03-17T11:53:22.659Z"
   },
   {
    "duration": 58,
    "start_time": "2022-03-17T11:53:22.700Z"
   },
   {
    "duration": 32,
    "start_time": "2022-03-17T11:53:22.765Z"
   },
   {
    "duration": 71,
    "start_time": "2022-03-17T11:53:22.802Z"
   },
   {
    "duration": 9,
    "start_time": "2022-03-17T11:53:22.875Z"
   },
   {
    "duration": 54,
    "start_time": "2022-03-17T11:53:22.886Z"
   },
   {
    "duration": 52,
    "start_time": "2022-03-17T11:53:22.942Z"
   },
   {
    "duration": 46,
    "start_time": "2022-03-17T11:53:22.997Z"
   },
   {
    "duration": 42,
    "start_time": "2022-03-17T11:53:23.046Z"
   },
   {
    "duration": 56,
    "start_time": "2022-03-17T11:53:23.091Z"
   },
   {
    "duration": 33,
    "start_time": "2022-03-17T11:53:23.149Z"
   },
   {
    "duration": 37,
    "start_time": "2022-03-17T11:53:23.185Z"
   },
   {
    "duration": 63,
    "start_time": "2022-03-17T11:53:23.226Z"
   },
   {
    "duration": 35,
    "start_time": "2022-03-17T11:53:23.292Z"
   },
   {
    "duration": 43,
    "start_time": "2022-03-17T11:53:23.330Z"
   },
   {
    "duration": 54,
    "start_time": "2022-03-17T11:53:23.376Z"
   },
   {
    "duration": 39,
    "start_time": "2022-03-17T11:53:23.433Z"
   },
   {
    "duration": 77,
    "start_time": "2022-03-17T11:53:23.475Z"
   },
   {
    "duration": 27,
    "start_time": "2022-03-17T11:53:23.555Z"
   },
   {
    "duration": 78,
    "start_time": "2022-03-17T11:53:23.585Z"
   },
   {
    "duration": 184,
    "start_time": "2022-03-17T11:53:23.675Z"
   },
   {
    "duration": 12,
    "start_time": "2022-03-17T11:53:23.866Z"
   },
   {
    "duration": 96,
    "start_time": "2022-03-17T11:53:23.881Z"
   },
   {
    "duration": 96,
    "start_time": "2022-03-17T11:53:23.979Z"
   },
   {
    "duration": 100,
    "start_time": "2022-03-17T11:53:24.077Z"
   },
   {
    "duration": 304,
    "start_time": "2022-03-17T11:53:24.180Z"
   },
   {
    "duration": 182,
    "start_time": "2022-03-17T11:53:24.487Z"
   },
   {
    "duration": 227,
    "start_time": "2022-03-17T11:53:24.672Z"
   },
   {
    "duration": 103,
    "start_time": "2022-03-17T11:53:24.902Z"
   },
   {
    "duration": 94,
    "start_time": "2022-03-17T11:53:25.009Z"
   },
   {
    "duration": 70,
    "start_time": "2022-03-17T11:53:25.106Z"
   },
   {
    "duration": 79,
    "start_time": "2022-03-17T11:53:25.179Z"
   },
   {
    "duration": 111,
    "start_time": "2022-03-17T11:53:25.260Z"
   },
   {
    "duration": 97,
    "start_time": "2022-03-17T11:53:25.374Z"
   },
   {
    "duration": 16,
    "start_time": "2022-03-17T11:53:25.480Z"
   },
   {
    "duration": 71,
    "start_time": "2022-03-17T11:53:25.499Z"
   },
   {
    "duration": 31,
    "start_time": "2022-03-17T11:53:25.573Z"
   },
   {
    "duration": 21,
    "start_time": "2022-03-17T11:53:25.607Z"
   },
   {
    "duration": 45,
    "start_time": "2022-03-17T11:53:25.631Z"
   },
   {
    "duration": 25,
    "start_time": "2022-03-17T11:53:25.680Z"
   },
   {
    "duration": 66,
    "start_time": "2022-03-17T11:53:25.708Z"
   },
   {
    "duration": 61,
    "start_time": "2022-03-17T11:53:25.777Z"
   },
   {
    "duration": 51,
    "start_time": "2022-03-17T11:53:25.841Z"
   },
   {
    "duration": 46,
    "start_time": "2022-03-17T11:53:25.894Z"
   },
   {
    "duration": 47,
    "start_time": "2022-03-17T11:53:25.943Z"
   },
   {
    "duration": 69,
    "start_time": "2022-03-17T11:53:25.993Z"
   },
   {
    "duration": 69,
    "start_time": "2022-03-17T11:53:26.065Z"
   },
   {
    "duration": 45,
    "start_time": "2022-03-17T11:53:26.137Z"
   },
   {
    "duration": 77,
    "start_time": "2022-03-17T11:53:26.184Z"
   },
   {
    "duration": 39,
    "start_time": "2022-03-17T11:53:26.265Z"
   },
   {
    "duration": 89,
    "start_time": "2022-03-17T11:53:26.306Z"
   },
   {
    "duration": 73,
    "start_time": "2022-03-17T11:53:26.399Z"
   },
   {
    "duration": 52,
    "start_time": "2022-03-17T11:53:26.475Z"
   },
   {
    "duration": 43,
    "start_time": "2022-03-17T11:53:26.530Z"
   },
   {
    "duration": 57,
    "start_time": "2022-03-17T11:53:26.575Z"
   },
   {
    "duration": 75,
    "start_time": "2022-03-17T11:53:26.634Z"
   },
   {
    "duration": 24,
    "start_time": "2022-03-17T11:53:26.711Z"
   },
   {
    "duration": 37,
    "start_time": "2022-03-17T11:53:26.738Z"
   },
   {
    "duration": 51,
    "start_time": "2022-03-17T11:53:26.777Z"
   },
   {
    "duration": 33,
    "start_time": "2022-03-17T11:53:26.830Z"
   },
   {
    "duration": 11,
    "start_time": "2022-03-17T11:53:26.867Z"
   },
   {
    "duration": 6325,
    "start_time": "2022-03-17T11:53:26.881Z"
   },
   {
    "duration": 14,
    "start_time": "2022-03-17T11:53:33.208Z"
   },
   {
    "duration": 33,
    "start_time": "2022-03-17T11:53:33.224Z"
   },
   {
    "duration": 29,
    "start_time": "2022-03-17T11:53:33.260Z"
   },
   {
    "duration": 11,
    "start_time": "2022-03-17T11:53:33.292Z"
   },
   {
    "duration": 28,
    "start_time": "2022-03-17T11:53:33.306Z"
   },
   {
    "duration": 10,
    "start_time": "2022-03-17T11:53:33.344Z"
   },
   {
    "duration": 97,
    "start_time": "2022-03-17T11:53:33.357Z"
   },
   {
    "duration": 14,
    "start_time": "2022-03-17T11:53:33.458Z"
   },
   {
    "duration": 508,
    "start_time": "2022-03-17T11:53:33.475Z"
   },
   {
    "duration": 31,
    "start_time": "2022-03-17T11:53:33.986Z"
   },
   {
    "duration": 242,
    "start_time": "2022-03-17T11:53:34.020Z"
   },
   {
    "duration": 23871,
    "start_time": "2022-03-17T11:53:57.635Z"
   },
   {
    "duration": 1777,
    "start_time": "2022-03-17T12:11:28.071Z"
   },
   {
    "duration": 441,
    "start_time": "2022-03-17T12:11:29.852Z"
   },
   {
    "duration": 55,
    "start_time": "2022-03-17T12:11:30.296Z"
   },
   {
    "duration": 33,
    "start_time": "2022-03-17T12:11:30.355Z"
   },
   {
    "duration": 22,
    "start_time": "2022-03-17T12:11:30.391Z"
   },
   {
    "duration": 48,
    "start_time": "2022-03-17T12:11:30.415Z"
   },
   {
    "duration": 8,
    "start_time": "2022-03-17T12:11:30.467Z"
   },
   {
    "duration": 17,
    "start_time": "2022-03-17T12:11:30.479Z"
   },
   {
    "duration": 21,
    "start_time": "2022-03-17T12:11:30.499Z"
   },
   {
    "duration": 57,
    "start_time": "2022-03-17T12:11:30.523Z"
   },
   {
    "duration": 9,
    "start_time": "2022-03-17T12:11:30.583Z"
   },
   {
    "duration": 25,
    "start_time": "2022-03-17T12:11:30.594Z"
   },
   {
    "duration": 23,
    "start_time": "2022-03-17T12:11:30.642Z"
   },
   {
    "duration": 17,
    "start_time": "2022-03-17T12:11:30.668Z"
   },
   {
    "duration": 20,
    "start_time": "2022-03-17T12:11:30.687Z"
   },
   {
    "duration": 13,
    "start_time": "2022-03-17T12:11:30.709Z"
   },
   {
    "duration": 39,
    "start_time": "2022-03-17T12:11:30.724Z"
   },
   {
    "duration": 17,
    "start_time": "2022-03-17T12:11:30.765Z"
   },
   {
    "duration": 26,
    "start_time": "2022-03-17T12:11:30.785Z"
   },
   {
    "duration": 10,
    "start_time": "2022-03-17T12:11:30.814Z"
   },
   {
    "duration": 50,
    "start_time": "2022-03-17T12:11:30.826Z"
   },
   {
    "duration": 24,
    "start_time": "2022-03-17T12:11:30.879Z"
   },
   {
    "duration": 21,
    "start_time": "2022-03-17T12:11:30.906Z"
   },
   {
    "duration": 32,
    "start_time": "2022-03-17T12:11:30.930Z"
   },
   {
    "duration": 25,
    "start_time": "2022-03-17T12:11:30.971Z"
   },
   {
    "duration": 33,
    "start_time": "2022-03-17T12:11:31.000Z"
   },
   {
    "duration": 101,
    "start_time": "2022-03-17T12:11:31.035Z"
   },
   {
    "duration": 13,
    "start_time": "2022-03-17T12:11:31.139Z"
   },
   {
    "duration": 25,
    "start_time": "2022-03-17T12:11:31.155Z"
   },
   {
    "duration": 16,
    "start_time": "2022-03-17T12:11:31.183Z"
   },
   {
    "duration": 44,
    "start_time": "2022-03-17T12:11:31.202Z"
   },
   {
    "duration": 122,
    "start_time": "2022-03-17T12:11:31.250Z"
   },
   {
    "duration": 10,
    "start_time": "2022-03-17T12:11:31.376Z"
   },
   {
    "duration": 28,
    "start_time": "2022-03-17T12:11:31.389Z"
   },
   {
    "duration": 26,
    "start_time": "2022-03-17T12:11:31.420Z"
   },
   {
    "duration": 37,
    "start_time": "2022-03-17T12:11:31.449Z"
   },
   {
    "duration": 22,
    "start_time": "2022-03-17T12:11:31.489Z"
   },
   {
    "duration": 46,
    "start_time": "2022-03-17T12:11:31.514Z"
   },
   {
    "duration": 32,
    "start_time": "2022-03-17T12:11:31.563Z"
   },
   {
    "duration": 53,
    "start_time": "2022-03-17T12:11:31.598Z"
   },
   {
    "duration": 12,
    "start_time": "2022-03-17T12:11:31.654Z"
   },
   {
    "duration": 22,
    "start_time": "2022-03-17T12:11:31.669Z"
   },
   {
    "duration": 23,
    "start_time": "2022-03-17T12:11:31.694Z"
   },
   {
    "duration": 25,
    "start_time": "2022-03-17T12:11:31.720Z"
   },
   {
    "duration": 12,
    "start_time": "2022-03-17T12:11:31.747Z"
   },
   {
    "duration": 33,
    "start_time": "2022-03-17T12:11:31.761Z"
   },
   {
    "duration": 41,
    "start_time": "2022-03-17T12:11:31.797Z"
   },
   {
    "duration": 12,
    "start_time": "2022-03-17T12:11:31.841Z"
   },
   {
    "duration": 26,
    "start_time": "2022-03-17T12:11:31.856Z"
   },
   {
    "duration": 21,
    "start_time": "2022-03-17T12:11:31.885Z"
   },
   {
    "duration": 25,
    "start_time": "2022-03-17T12:11:31.909Z"
   },
   {
    "duration": 38,
    "start_time": "2022-03-17T12:11:31.937Z"
   },
   {
    "duration": 18,
    "start_time": "2022-03-17T12:11:31.977Z"
   },
   {
    "duration": 13,
    "start_time": "2022-03-17T12:11:31.997Z"
   },
   {
    "duration": 11,
    "start_time": "2022-03-17T12:11:32.013Z"
   },
   {
    "duration": 31,
    "start_time": "2022-03-17T12:11:32.027Z"
   },
   {
    "duration": 55,
    "start_time": "2022-03-17T12:11:32.061Z"
   },
   {
    "duration": 21,
    "start_time": "2022-03-17T12:11:32.119Z"
   },
   {
    "duration": 22,
    "start_time": "2022-03-17T12:11:32.143Z"
   },
   {
    "duration": 23,
    "start_time": "2022-03-17T12:11:32.167Z"
   },
   {
    "duration": 11,
    "start_time": "2022-03-17T12:11:32.192Z"
   },
   {
    "duration": 53,
    "start_time": "2022-03-17T12:11:32.207Z"
   },
   {
    "duration": 10,
    "start_time": "2022-03-17T12:11:32.263Z"
   },
   {
    "duration": 11,
    "start_time": "2022-03-17T12:11:32.276Z"
   },
   {
    "duration": 15,
    "start_time": "2022-03-17T12:11:32.289Z"
   },
   {
    "duration": 43,
    "start_time": "2022-03-17T12:11:32.307Z"
   },
   {
    "duration": 26,
    "start_time": "2022-03-17T12:11:32.353Z"
   },
   {
    "duration": 6350,
    "start_time": "2022-03-17T12:11:32.382Z"
   },
   {
    "duration": 23,
    "start_time": "2022-03-17T12:11:38.735Z"
   },
   {
    "duration": 22,
    "start_time": "2022-03-17T12:11:38.761Z"
   },
   {
    "duration": 14,
    "start_time": "2022-03-17T12:11:38.786Z"
   },
   {
    "duration": 50,
    "start_time": "2022-03-17T12:11:38.803Z"
   },
   {
    "duration": 15,
    "start_time": "2022-03-17T12:11:38.855Z"
   },
   {
    "duration": 9,
    "start_time": "2022-03-17T12:11:38.873Z"
   },
   {
    "duration": 94,
    "start_time": "2022-03-17T12:11:38.886Z"
   },
   {
    "duration": 11,
    "start_time": "2022-03-17T12:11:38.983Z"
   },
   {
    "duration": 498,
    "start_time": "2022-03-17T12:11:38.997Z"
   },
   {
    "duration": 50,
    "start_time": "2022-03-17T12:11:39.498Z"
   },
   {
    "duration": 238,
    "start_time": "2022-03-17T12:11:39.558Z"
   },
   {
    "duration": 3,
    "start_time": "2022-03-17T12:11:39.799Z"
   },
   {
    "duration": 11,
    "start_time": "2022-03-17T12:11:39.805Z"
   },
   {
    "duration": 484,
    "start_time": "2022-03-17T12:11:39.818Z"
   },
   {
    "duration": -1610,
    "start_time": "2022-03-17T12:11:41.915Z"
   },
   {
    "duration": -1613,
    "start_time": "2022-03-17T12:11:41.921Z"
   },
   {
    "duration": -1617,
    "start_time": "2022-03-17T12:11:41.927Z"
   },
   {
    "duration": 330,
    "start_time": "2022-03-17T12:11:58.369Z"
   },
   {
    "duration": 304804,
    "start_time": "2022-03-17T12:12:10.780Z"
   },
   {
    "duration": 5,
    "start_time": "2022-03-17T12:17:15.588Z"
   },
   {
    "duration": 19,
    "start_time": "2022-03-17T12:17:15.596Z"
   },
   {
    "duration": 742,
    "start_time": "2022-03-17T12:17:15.618Z"
   },
   {
    "duration": 7,
    "start_time": "2022-03-17T12:17:16.363Z"
   },
   {
    "duration": 2401,
    "start_time": "2022-03-17T12:18:23.337Z"
   },
   {
    "duration": 30,
    "start_time": "2022-03-17T12:18:27.989Z"
   },
   {
    "duration": 7,
    "start_time": "2022-03-17T12:18:54.417Z"
   },
   {
    "duration": 20,
    "start_time": "2022-03-17T12:18:55.715Z"
   },
   {
    "duration": 17,
    "start_time": "2022-03-17T12:19:14.418Z"
   },
   {
    "duration": 12,
    "start_time": "2022-03-17T12:19:36.308Z"
   },
   {
    "duration": 3,
    "start_time": "2022-03-17T12:19:43.289Z"
   },
   {
    "duration": 5,
    "start_time": "2022-03-17T12:20:08.507Z"
   },
   {
    "duration": 19,
    "start_time": "2022-03-17T12:20:44.949Z"
   },
   {
    "duration": 26,
    "start_time": "2022-03-17T12:21:06.928Z"
   },
   {
    "duration": 17,
    "start_time": "2022-03-17T12:21:07.968Z"
   },
   {
    "duration": 6,
    "start_time": "2022-03-17T12:21:22.596Z"
   },
   {
    "duration": 4,
    "start_time": "2022-03-17T12:21:25.900Z"
   },
   {
    "duration": 5,
    "start_time": "2022-03-17T12:21:26.162Z"
   },
   {
    "duration": 119,
    "start_time": "2022-03-17T12:22:47.262Z"
   },
   {
    "duration": 4,
    "start_time": "2022-03-17T12:22:47.468Z"
   },
   {
    "duration": 4,
    "start_time": "2022-03-17T12:22:54.760Z"
   },
   {
    "duration": 5,
    "start_time": "2022-03-17T12:22:55.507Z"
   },
   {
    "duration": 6,
    "start_time": "2022-03-17T12:37:02.676Z"
   },
   {
    "duration": 8,
    "start_time": "2022-03-17T12:38:53.476Z"
   },
   {
    "duration": 6,
    "start_time": "2022-03-17T12:39:42.724Z"
   },
   {
    "duration": 2160,
    "start_time": "2022-03-17T12:39:43.809Z"
   },
   {
    "duration": 16,
    "start_time": "2022-03-17T12:39:50.823Z"
   },
   {
    "duration": 10,
    "start_time": "2022-03-17T12:41:30.997Z"
   },
   {
    "duration": 12,
    "start_time": "2022-03-17T12:41:56.616Z"
   },
   {
    "duration": 51,
    "start_time": "2022-03-17T12:42:07.677Z"
   },
   {
    "duration": 40,
    "start_time": "2022-03-17T12:42:22.197Z"
   },
   {
    "duration": 8,
    "start_time": "2022-03-17T12:42:52.364Z"
   },
   {
    "duration": 15,
    "start_time": "2022-03-17T12:43:20.916Z"
   },
   {
    "duration": 5,
    "start_time": "2022-03-17T12:43:31.837Z"
   },
   {
    "duration": 2012,
    "start_time": "2022-03-17T12:43:32.328Z"
   },
   {
    "duration": 16,
    "start_time": "2022-03-17T12:43:34.344Z"
   },
   {
    "duration": 8,
    "start_time": "2022-03-17T12:44:55.424Z"
   },
   {
    "duration": 5,
    "start_time": "2022-03-17T12:44:58.556Z"
   },
   {
    "duration": 2278,
    "start_time": "2022-03-17T12:44:58.988Z"
   },
   {
    "duration": 25,
    "start_time": "2022-03-17T12:45:01.269Z"
   },
   {
    "duration": 7,
    "start_time": "2022-03-17T12:45:56.836Z"
   },
   {
    "duration": 7,
    "start_time": "2022-03-17T12:46:50.244Z"
   },
   {
    "duration": 15,
    "start_time": "2022-03-17T12:47:00.016Z"
   },
   {
    "duration": 4,
    "start_time": "2022-03-17T12:47:28.416Z"
   },
   {
    "duration": 4,
    "start_time": "2022-03-17T12:47:30.619Z"
   },
   {
    "duration": 8,
    "start_time": "2022-03-17T12:48:13.588Z"
   },
   {
    "duration": 9,
    "start_time": "2022-03-17T12:48:14.076Z"
   },
   {
    "duration": 6,
    "start_time": "2022-03-17T12:48:15.429Z"
   },
   {
    "duration": 1964,
    "start_time": "2022-03-17T12:48:15.848Z"
   },
   {
    "duration": 16,
    "start_time": "2022-03-17T12:48:18.068Z"
   },
   {
    "duration": 7,
    "start_time": "2022-03-17T12:48:25.136Z"
   },
   {
    "duration": 13,
    "start_time": "2022-03-17T12:48:39.525Z"
   },
   {
    "duration": 3,
    "start_time": "2022-03-17T12:48:44.176Z"
   },
   {
    "duration": 15,
    "start_time": "2022-03-17T12:48:45.105Z"
   },
   {
    "duration": 2199,
    "start_time": "2022-03-17T12:48:57.338Z"
   },
   {
    "duration": 19,
    "start_time": "2022-03-17T12:49:01.128Z"
   },
   {
    "duration": 7,
    "start_time": "2022-03-17T12:49:01.925Z"
   },
   {
    "duration": 13,
    "start_time": "2022-03-17T12:49:03.145Z"
   },
   {
    "duration": 4,
    "start_time": "2022-03-17T12:49:06.220Z"
   },
   {
    "duration": 10,
    "start_time": "2022-03-17T12:49:06.227Z"
   },
   {
    "duration": 7,
    "start_time": "2022-03-17T13:26:13.209Z"
   },
   {
    "duration": 1727,
    "start_time": "2022-03-17T13:26:13.219Z"
   },
   {
    "duration": 31,
    "start_time": "2022-03-17T13:26:14.949Z"
   },
   {
    "duration": 11,
    "start_time": "2022-03-17T13:26:14.983Z"
   },
   {
    "duration": 24,
    "start_time": "2022-03-17T13:26:14.997Z"
   },
   {
    "duration": 53,
    "start_time": "2022-03-17T13:26:15.023Z"
   },
   {
    "duration": 15,
    "start_time": "2022-03-17T13:26:15.078Z"
   },
   {
    "duration": 12,
    "start_time": "2022-03-17T13:26:15.097Z"
   },
   {
    "duration": 32,
    "start_time": "2022-03-17T13:26:15.115Z"
   },
   {
    "duration": 27,
    "start_time": "2022-03-17T13:26:15.150Z"
   },
   {
    "duration": 8,
    "start_time": "2022-03-17T13:26:15.179Z"
   },
   {
    "duration": 14,
    "start_time": "2022-03-17T13:26:15.189Z"
   },
   {
    "duration": 9,
    "start_time": "2022-03-17T13:26:15.244Z"
   },
   {
    "duration": 9,
    "start_time": "2022-03-17T13:26:15.256Z"
   },
   {
    "duration": 8,
    "start_time": "2022-03-17T13:26:15.268Z"
   },
   {
    "duration": 9,
    "start_time": "2022-03-17T13:26:15.279Z"
   },
   {
    "duration": 54,
    "start_time": "2022-03-17T13:26:15.291Z"
   },
   {
    "duration": 10,
    "start_time": "2022-03-17T13:26:15.348Z"
   },
   {
    "duration": 9,
    "start_time": "2022-03-17T13:26:15.361Z"
   },
   {
    "duration": 8,
    "start_time": "2022-03-17T13:26:15.372Z"
   },
   {
    "duration": 66,
    "start_time": "2022-03-17T13:26:15.383Z"
   },
   {
    "duration": 18,
    "start_time": "2022-03-17T13:26:15.452Z"
   },
   {
    "duration": 11,
    "start_time": "2022-03-17T13:26:15.473Z"
   },
   {
    "duration": 19,
    "start_time": "2022-03-17T13:26:15.487Z"
   },
   {
    "duration": 9,
    "start_time": "2022-03-17T13:26:15.543Z"
   },
   {
    "duration": 15,
    "start_time": "2022-03-17T13:26:15.555Z"
   },
   {
    "duration": 94,
    "start_time": "2022-03-17T13:26:15.578Z"
   },
   {
    "duration": 8,
    "start_time": "2022-03-17T13:26:15.676Z"
   },
   {
    "duration": 10,
    "start_time": "2022-03-17T13:26:15.686Z"
   },
   {
    "duration": 74,
    "start_time": "2022-03-17T13:26:15.698Z"
   },
   {
    "duration": 13,
    "start_time": "2022-03-17T13:26:15.775Z"
   },
   {
    "duration": 64,
    "start_time": "2022-03-17T13:26:15.791Z"
   },
   {
    "duration": 8,
    "start_time": "2022-03-17T13:26:15.857Z"
   },
   {
    "duration": 7,
    "start_time": "2022-03-17T13:26:15.867Z"
   },
   {
    "duration": 8,
    "start_time": "2022-03-17T13:26:15.877Z"
   },
   {
    "duration": 10,
    "start_time": "2022-03-17T13:26:15.887Z"
   },
   {
    "duration": 49,
    "start_time": "2022-03-17T13:26:15.900Z"
   },
   {
    "duration": 11,
    "start_time": "2022-03-17T13:26:15.952Z"
   },
   {
    "duration": 9,
    "start_time": "2022-03-17T13:26:15.965Z"
   },
   {
    "duration": 27,
    "start_time": "2022-03-17T13:26:15.977Z"
   },
   {
    "duration": 8,
    "start_time": "2022-03-17T13:26:16.044Z"
   },
   {
    "duration": 12,
    "start_time": "2022-03-17T13:26:16.055Z"
   },
   {
    "duration": 9,
    "start_time": "2022-03-17T13:26:16.069Z"
   },
   {
    "duration": 8,
    "start_time": "2022-03-17T13:26:16.081Z"
   },
   {
    "duration": 53,
    "start_time": "2022-03-17T13:26:16.093Z"
   },
   {
    "duration": 10,
    "start_time": "2022-03-17T13:26:16.149Z"
   },
   {
    "duration": 11,
    "start_time": "2022-03-17T13:26:16.162Z"
   },
   {
    "duration": 7,
    "start_time": "2022-03-17T13:26:16.175Z"
   },
   {
    "duration": 7,
    "start_time": "2022-03-17T13:26:16.185Z"
   },
   {
    "duration": 54,
    "start_time": "2022-03-17T13:26:16.194Z"
   },
   {
    "duration": 11,
    "start_time": "2022-03-17T13:26:16.251Z"
   },
   {
    "duration": 13,
    "start_time": "2022-03-17T13:26:16.264Z"
   },
   {
    "duration": 9,
    "start_time": "2022-03-17T13:26:16.279Z"
   },
   {
    "duration": 16,
    "start_time": "2022-03-17T13:26:16.290Z"
   },
   {
    "duration": 7,
    "start_time": "2022-03-17T13:26:16.344Z"
   },
   {
    "duration": 10,
    "start_time": "2022-03-17T13:26:16.354Z"
   },
   {
    "duration": 33,
    "start_time": "2022-03-17T13:26:16.366Z"
   },
   {
    "duration": 42,
    "start_time": "2022-03-17T13:26:16.402Z"
   },
   {
    "duration": 7,
    "start_time": "2022-03-17T13:26:16.447Z"
   },
   {
    "duration": 9,
    "start_time": "2022-03-17T13:26:16.457Z"
   },
   {
    "duration": 11,
    "start_time": "2022-03-17T13:26:16.468Z"
   },
   {
    "duration": 84,
    "start_time": "2022-03-17T13:26:16.481Z"
   },
   {
    "duration": 8,
    "start_time": "2022-03-17T13:26:16.567Z"
   },
   {
    "duration": 7,
    "start_time": "2022-03-17T13:26:16.578Z"
   },
   {
    "duration": 14,
    "start_time": "2022-03-17T13:26:16.588Z"
   },
   {
    "duration": 6,
    "start_time": "2022-03-17T13:26:16.644Z"
   },
   {
    "duration": 11,
    "start_time": "2022-03-17T13:26:16.653Z"
   },
   {
    "duration": 5842,
    "start_time": "2022-03-17T13:26:16.667Z"
   },
   {
    "duration": 12,
    "start_time": "2022-03-17T13:26:22.512Z"
   },
   {
    "duration": 25,
    "start_time": "2022-03-17T13:26:22.526Z"
   },
   {
    "duration": 11,
    "start_time": "2022-03-17T13:26:22.554Z"
   },
   {
    "duration": 11,
    "start_time": "2022-03-17T13:26:22.568Z"
   },
   {
    "duration": 12,
    "start_time": "2022-03-17T13:26:22.582Z"
   },
   {
    "duration": 8,
    "start_time": "2022-03-17T13:26:22.644Z"
   },
   {
    "duration": 66,
    "start_time": "2022-03-17T13:26:22.654Z"
   },
   {
    "duration": 22,
    "start_time": "2022-03-17T13:26:22.723Z"
   },
   {
    "duration": 443,
    "start_time": "2022-03-17T13:26:22.748Z"
   },
   {
    "duration": 32,
    "start_time": "2022-03-17T13:26:23.193Z"
   },
   {
    "duration": 255,
    "start_time": "2022-03-17T13:26:23.228Z"
   },
   {
    "duration": 8,
    "start_time": "2022-03-17T13:26:23.485Z"
   },
   {
    "duration": 4,
    "start_time": "2022-03-17T13:26:23.502Z"
   },
   {
    "duration": 11,
    "start_time": "2022-03-17T13:26:23.509Z"
   },
   {
    "duration": 295256,
    "start_time": "2022-03-17T13:26:23.523Z"
   },
   {
    "duration": 7,
    "start_time": "2022-03-17T13:31:18.782Z"
   },
   {
    "duration": 9,
    "start_time": "2022-03-17T13:31:18.791Z"
   },
   {
    "duration": 1302,
    "start_time": "2022-03-17T13:31:18.803Z"
   },
   {
    "duration": 8,
    "start_time": "2022-03-17T13:31:20.108Z"
   },
   {
    "duration": 26,
    "start_time": "2022-03-17T13:31:20.118Z"
   },
   {
    "duration": 5,
    "start_time": "2022-03-17T13:31:20.147Z"
   },
   {
    "duration": 2251,
    "start_time": "2022-03-17T13:31:20.156Z"
   },
   {
    "duration": 34,
    "start_time": "2022-03-17T13:31:22.409Z"
   },
   {
    "duration": 8,
    "start_time": "2022-03-17T13:31:22.445Z"
   },
   {
    "duration": 7,
    "start_time": "2022-03-17T13:31:51.220Z"
   },
   {
    "duration": 4,
    "start_time": "2022-03-17T13:32:00.108Z"
   },
   {
    "duration": 5,
    "start_time": "2022-03-17T13:32:01.348Z"
   },
   {
    "duration": 15,
    "start_time": "2022-03-17T13:32:52.400Z"
   },
   {
    "duration": 11,
    "start_time": "2022-03-17T13:33:02.060Z"
   },
   {
    "duration": 3,
    "start_time": "2022-03-17T13:33:19.761Z"
   },
   {
    "duration": 5,
    "start_time": "2022-03-17T13:33:23.909Z"
   },
   {
    "duration": 2270,
    "start_time": "2022-03-17T15:12:39.445Z"
   },
   {
    "duration": 294,
    "start_time": "2022-03-17T15:12:41.719Z"
   },
   {
    "duration": 37,
    "start_time": "2022-03-17T15:12:42.015Z"
   },
   {
    "duration": 17,
    "start_time": "2022-03-17T15:12:42.068Z"
   },
   {
    "duration": 11,
    "start_time": "2022-03-17T15:12:42.089Z"
   },
   {
    "duration": 33,
    "start_time": "2022-03-17T15:12:42.102Z"
   },
   {
    "duration": 36,
    "start_time": "2022-03-17T15:12:42.137Z"
   },
   {
    "duration": 10,
    "start_time": "2022-03-17T15:12:42.176Z"
   },
   {
    "duration": 7,
    "start_time": "2022-03-17T15:12:42.189Z"
   },
   {
    "duration": 74,
    "start_time": "2022-03-17T15:12:42.199Z"
   },
   {
    "duration": 8,
    "start_time": "2022-03-17T15:12:42.275Z"
   },
   {
    "duration": 16,
    "start_time": "2022-03-17T15:12:42.285Z"
   },
   {
    "duration": 10,
    "start_time": "2022-03-17T15:12:42.303Z"
   },
   {
    "duration": 8,
    "start_time": "2022-03-17T15:12:42.319Z"
   },
   {
    "duration": 7,
    "start_time": "2022-03-17T15:12:42.369Z"
   },
   {
    "duration": 9,
    "start_time": "2022-03-17T15:12:42.379Z"
   },
   {
    "duration": 7,
    "start_time": "2022-03-17T15:12:42.391Z"
   },
   {
    "duration": 8,
    "start_time": "2022-03-17T15:12:42.400Z"
   },
   {
    "duration": 59,
    "start_time": "2022-03-17T15:12:42.410Z"
   },
   {
    "duration": 8,
    "start_time": "2022-03-17T15:12:42.472Z"
   },
   {
    "duration": 16,
    "start_time": "2022-03-17T15:12:42.482Z"
   },
   {
    "duration": 16,
    "start_time": "2022-03-17T15:12:42.500Z"
   },
   {
    "duration": 10,
    "start_time": "2022-03-17T15:12:42.519Z"
   },
   {
    "duration": 47,
    "start_time": "2022-03-17T15:12:42.531Z"
   },
   {
    "duration": 8,
    "start_time": "2022-03-17T15:12:42.581Z"
   },
   {
    "duration": 14,
    "start_time": "2022-03-17T15:12:42.592Z"
   },
   {
    "duration": 93,
    "start_time": "2022-03-17T15:12:42.608Z"
   },
   {
    "duration": 7,
    "start_time": "2022-03-17T15:12:42.704Z"
   },
   {
    "duration": 9,
    "start_time": "2022-03-17T15:12:42.713Z"
   },
   {
    "duration": 9,
    "start_time": "2022-03-17T15:12:42.724Z"
   },
   {
    "duration": 42,
    "start_time": "2022-03-17T15:12:42.735Z"
   },
   {
    "duration": 67,
    "start_time": "2022-03-17T15:12:42.780Z"
   },
   {
    "duration": 25,
    "start_time": "2022-03-17T15:12:42.849Z"
   },
   {
    "duration": 7,
    "start_time": "2022-03-17T15:12:42.876Z"
   },
   {
    "duration": 12,
    "start_time": "2022-03-17T15:12:42.885Z"
   },
   {
    "duration": 10,
    "start_time": "2022-03-17T15:12:42.899Z"
   },
   {
    "duration": 7,
    "start_time": "2022-03-17T15:12:42.911Z"
   },
   {
    "duration": 58,
    "start_time": "2022-03-17T15:12:42.921Z"
   },
   {
    "duration": 8,
    "start_time": "2022-03-17T15:12:42.981Z"
   },
   {
    "duration": 28,
    "start_time": "2022-03-17T15:12:42.991Z"
   },
   {
    "duration": 7,
    "start_time": "2022-03-17T15:12:43.026Z"
   },
   {
    "duration": 11,
    "start_time": "2022-03-17T15:12:43.067Z"
   },
   {
    "duration": 11,
    "start_time": "2022-03-17T15:12:43.081Z"
   },
   {
    "duration": 8,
    "start_time": "2022-03-17T15:12:43.094Z"
   },
   {
    "duration": 8,
    "start_time": "2022-03-17T15:12:43.104Z"
   },
   {
    "duration": 54,
    "start_time": "2022-03-17T15:12:43.114Z"
   },
   {
    "duration": 8,
    "start_time": "2022-03-17T15:12:43.170Z"
   },
   {
    "duration": 12,
    "start_time": "2022-03-17T15:12:43.180Z"
   },
   {
    "duration": 8,
    "start_time": "2022-03-17T15:12:43.194Z"
   },
   {
    "duration": 9,
    "start_time": "2022-03-17T15:12:43.204Z"
   },
   {
    "duration": 13,
    "start_time": "2022-03-17T15:12:43.215Z"
   },
   {
    "duration": 49,
    "start_time": "2022-03-17T15:12:43.230Z"
   },
   {
    "duration": 10,
    "start_time": "2022-03-17T15:12:43.282Z"
   },
   {
    "duration": 11,
    "start_time": "2022-03-17T15:12:43.294Z"
   },
   {
    "duration": 9,
    "start_time": "2022-03-17T15:12:43.307Z"
   },
   {
    "duration": 10,
    "start_time": "2022-03-17T15:12:43.318Z"
   },
   {
    "duration": 35,
    "start_time": "2022-03-17T15:12:43.368Z"
   },
   {
    "duration": 8,
    "start_time": "2022-03-17T15:12:43.405Z"
   },
   {
    "duration": 9,
    "start_time": "2022-03-17T15:12:43.415Z"
   },
   {
    "duration": 7,
    "start_time": "2022-03-17T15:12:43.427Z"
   },
   {
    "duration": 41,
    "start_time": "2022-03-17T15:12:43.436Z"
   },
   {
    "duration": 39,
    "start_time": "2022-03-17T15:12:43.480Z"
   },
   {
    "duration": 9,
    "start_time": "2022-03-17T15:12:43.522Z"
   },
   {
    "duration": 9,
    "start_time": "2022-03-17T15:12:43.568Z"
   },
   {
    "duration": 15,
    "start_time": "2022-03-17T15:12:43.580Z"
   },
   {
    "duration": 6,
    "start_time": "2022-03-17T15:12:43.597Z"
   },
   {
    "duration": 7,
    "start_time": "2022-03-17T15:12:43.605Z"
   },
   {
    "duration": 2776,
    "start_time": "2022-03-17T15:12:43.615Z"
   },
   {
    "duration": 13,
    "start_time": "2022-03-17T15:12:46.393Z"
   },
   {
    "duration": 12,
    "start_time": "2022-03-17T15:12:46.408Z"
   },
   {
    "duration": 46,
    "start_time": "2022-03-17T15:12:46.423Z"
   },
   {
    "duration": 10,
    "start_time": "2022-03-17T15:12:46.471Z"
   },
   {
    "duration": 8,
    "start_time": "2022-03-17T15:12:46.484Z"
   },
   {
    "duration": 6,
    "start_time": "2022-03-17T15:12:46.495Z"
   },
   {
    "duration": 106,
    "start_time": "2022-03-17T15:12:46.504Z"
   },
   {
    "duration": 7,
    "start_time": "2022-03-17T15:12:46.613Z"
   },
   {
    "duration": 425,
    "start_time": "2022-03-17T15:12:46.622Z"
   },
   {
    "duration": 47,
    "start_time": "2022-03-17T15:12:47.049Z"
   },
   {
    "duration": 241,
    "start_time": "2022-03-17T15:12:47.099Z"
   },
   {
    "duration": 7,
    "start_time": "2022-03-17T15:12:47.342Z"
   },
   {
    "duration": 4,
    "start_time": "2022-03-17T15:12:52.215Z"
   },
   {
    "duration": 3,
    "start_time": "2022-03-17T15:12:52.711Z"
   },
   {
    "duration": 4,
    "start_time": "2022-03-17T15:12:53.751Z"
   },
   {
    "duration": 127316,
    "start_time": "2022-03-17T15:12:55.294Z"
   },
   {
    "duration": 5,
    "start_time": "2022-03-17T15:46:28.966Z"
   },
   {
    "duration": 63420,
    "start_time": "2022-03-17T15:46:35.583Z"
   },
   {
    "duration": 19279,
    "start_time": "2022-03-17T15:47:51.207Z"
   },
   {
    "duration": 43873,
    "start_time": "2022-03-17T15:48:14.773Z"
   },
   {
    "duration": 240898,
    "start_time": "2022-03-17T15:49:04.843Z"
   },
   {
    "duration": 33,
    "start_time": "2022-03-17T15:58:43.529Z"
   },
   {
    "duration": 8,
    "start_time": "2022-03-17T15:58:45.057Z"
   },
   {
    "duration": 734,
    "start_time": "2022-03-17T15:58:45.758Z"
   },
   {
    "duration": 46,
    "start_time": "2022-03-17T15:58:46.495Z"
   },
   {
    "duration": 287,
    "start_time": "2022-03-17T15:58:47.687Z"
   },
   {
    "duration": 5,
    "start_time": "2022-03-17T15:58:59.287Z"
   },
   {
    "duration": 6,
    "start_time": "2022-03-17T15:58:59.583Z"
   },
   {
    "duration": 5,
    "start_time": "2022-03-17T15:58:59.774Z"
   },
   {
    "duration": 161,
    "start_time": "2022-03-17T15:59:17.552Z"
   },
   {
    "duration": 1938,
    "start_time": "2022-03-17T15:59:39.304Z"
   },
   {
    "duration": 680,
    "start_time": "2022-03-17T15:59:41.246Z"
   },
   {
    "duration": 49,
    "start_time": "2022-03-17T15:59:41.928Z"
   },
   {
    "duration": 16,
    "start_time": "2022-03-17T15:59:41.981Z"
   },
   {
    "duration": 14,
    "start_time": "2022-03-17T15:59:42.000Z"
   },
   {
    "duration": 67,
    "start_time": "2022-03-17T15:59:42.016Z"
   },
   {
    "duration": 7,
    "start_time": "2022-03-17T15:59:42.085Z"
   },
   {
    "duration": 9,
    "start_time": "2022-03-17T15:59:42.095Z"
   },
   {
    "duration": 8,
    "start_time": "2022-03-17T15:59:42.107Z"
   },
   {
    "duration": 73,
    "start_time": "2022-03-17T15:59:42.119Z"
   },
   {
    "duration": 7,
    "start_time": "2022-03-17T15:59:42.195Z"
   },
   {
    "duration": 19,
    "start_time": "2022-03-17T15:59:42.204Z"
   },
   {
    "duration": 43,
    "start_time": "2022-03-17T15:59:42.226Z"
   },
   {
    "duration": 11,
    "start_time": "2022-03-17T15:59:42.271Z"
   },
   {
    "duration": 10,
    "start_time": "2022-03-17T15:59:42.285Z"
   },
   {
    "duration": 9,
    "start_time": "2022-03-17T15:59:42.297Z"
   },
   {
    "duration": 62,
    "start_time": "2022-03-17T15:59:42.308Z"
   },
   {
    "duration": 8,
    "start_time": "2022-03-17T15:59:42.373Z"
   },
   {
    "duration": 9,
    "start_time": "2022-03-17T15:59:42.383Z"
   },
   {
    "duration": 7,
    "start_time": "2022-03-17T15:59:42.394Z"
   },
   {
    "duration": 69,
    "start_time": "2022-03-17T15:59:42.404Z"
   },
   {
    "duration": 14,
    "start_time": "2022-03-17T15:59:42.475Z"
   },
   {
    "duration": 9,
    "start_time": "2022-03-17T15:59:42.491Z"
   },
   {
    "duration": 67,
    "start_time": "2022-03-17T15:59:42.502Z"
   },
   {
    "duration": 10,
    "start_time": "2022-03-17T15:59:42.572Z"
   },
   {
    "duration": 19,
    "start_time": "2022-03-17T15:59:42.585Z"
   },
   {
    "duration": 101,
    "start_time": "2022-03-17T15:59:42.607Z"
   },
   {
    "duration": 8,
    "start_time": "2022-03-17T15:59:42.767Z"
   },
   {
    "duration": 10,
    "start_time": "2022-03-17T15:59:42.778Z"
   },
   {
    "duration": 11,
    "start_time": "2022-03-17T15:59:42.791Z"
   },
   {
    "duration": 70,
    "start_time": "2022-03-17T15:59:42.804Z"
   },
   {
    "duration": 113,
    "start_time": "2022-03-17T15:59:42.876Z"
   },
   {
    "duration": 8,
    "start_time": "2022-03-17T15:59:42.991Z"
   },
   {
    "duration": 8,
    "start_time": "2022-03-17T15:59:43.001Z"
   },
   {
    "duration": 11,
    "start_time": "2022-03-17T15:59:43.068Z"
   },
   {
    "duration": 13,
    "start_time": "2022-03-17T15:59:43.081Z"
   },
   {
    "duration": 8,
    "start_time": "2022-03-17T15:59:43.096Z"
   },
   {
    "duration": 63,
    "start_time": "2022-03-17T15:59:43.106Z"
   },
   {
    "duration": 11,
    "start_time": "2022-03-17T15:59:43.171Z"
   },
   {
    "duration": 90,
    "start_time": "2022-03-17T15:59:43.185Z"
   },
   {
    "duration": 11,
    "start_time": "2022-03-17T15:59:43.277Z"
   },
   {
    "duration": 16,
    "start_time": "2022-03-17T15:59:43.291Z"
   },
   {
    "duration": 65,
    "start_time": "2022-03-17T15:59:43.310Z"
   },
   {
    "duration": 8,
    "start_time": "2022-03-17T15:59:43.378Z"
   },
   {
    "duration": 12,
    "start_time": "2022-03-17T15:59:43.388Z"
   },
   {
    "duration": 7,
    "start_time": "2022-03-17T15:59:43.402Z"
   },
   {
    "duration": 8,
    "start_time": "2022-03-17T15:59:43.467Z"
   },
   {
    "duration": 8,
    "start_time": "2022-03-17T15:59:43.478Z"
   },
   {
    "duration": 9,
    "start_time": "2022-03-17T15:59:43.488Z"
   },
   {
    "duration": 12,
    "start_time": "2022-03-17T15:59:43.499Z"
   },
   {
    "duration": 54,
    "start_time": "2022-03-17T15:59:43.568Z"
   },
   {
    "duration": 40,
    "start_time": "2022-03-17T15:59:43.629Z"
   },
   {
    "duration": 9,
    "start_time": "2022-03-17T15:59:43.671Z"
   },
   {
    "duration": 27,
    "start_time": "2022-03-17T15:59:43.683Z"
   },
   {
    "duration": 58,
    "start_time": "2022-03-17T15:59:43.712Z"
   },
   {
    "duration": 56,
    "start_time": "2022-03-17T15:59:43.772Z"
   },
   {
    "duration": 65,
    "start_time": "2022-03-17T15:59:43.831Z"
   },
   {
    "duration": 7,
    "start_time": "2022-03-17T15:59:43.898Z"
   },
   {
    "duration": 63,
    "start_time": "2022-03-17T15:59:43.907Z"
   },
   {
    "duration": 37,
    "start_time": "2022-03-17T15:59:43.972Z"
   },
   {
    "duration": 58,
    "start_time": "2022-03-17T15:59:44.011Z"
   },
   {
    "duration": 40,
    "start_time": "2022-03-17T15:59:44.071Z"
   },
   {
    "duration": 9,
    "start_time": "2022-03-17T15:59:44.169Z"
   },
   {
    "duration": 45,
    "start_time": "2022-03-17T15:59:44.181Z"
   },
   {
    "duration": 15,
    "start_time": "2022-03-17T15:59:44.268Z"
   },
   {
    "duration": 8,
    "start_time": "2022-03-17T15:59:44.285Z"
   },
   {
    "duration": 29,
    "start_time": "2022-03-17T15:59:44.295Z"
   },
   {
    "duration": 5177,
    "start_time": "2022-03-17T15:59:44.327Z"
   },
   {
    "duration": 17,
    "start_time": "2022-03-17T15:59:49.507Z"
   },
   {
    "duration": 12,
    "start_time": "2022-03-17T15:59:49.527Z"
   },
   {
    "duration": 13,
    "start_time": "2022-03-17T15:59:49.567Z"
   },
   {
    "duration": 12,
    "start_time": "2022-03-17T15:59:49.584Z"
   },
   {
    "duration": 10,
    "start_time": "2022-03-17T15:59:49.598Z"
   },
   {
    "duration": 8,
    "start_time": "2022-03-17T15:59:49.611Z"
   },
   {
    "duration": 26,
    "start_time": "2022-03-17T15:59:49.667Z"
   },
   {
    "duration": 6,
    "start_time": "2022-03-17T15:59:49.696Z"
   },
   {
    "duration": 420,
    "start_time": "2022-03-17T15:59:49.705Z"
   },
   {
    "duration": 54,
    "start_time": "2022-03-17T15:59:50.127Z"
   },
   {
    "duration": 287,
    "start_time": "2022-03-17T15:59:50.184Z"
   },
   {
    "duration": 7,
    "start_time": "2022-03-17T15:59:50.474Z"
   },
   {
    "duration": 4,
    "start_time": "2022-03-17T15:59:50.490Z"
   },
   {
    "duration": 22,
    "start_time": "2022-03-17T15:59:50.497Z"
   },
   {
    "duration": 10,
    "start_time": "2022-03-17T15:59:50.521Z"
   },
   {
    "duration": 582159,
    "start_time": "2022-03-17T15:59:50.534Z"
   },
   {
    "duration": 7,
    "start_time": "2022-03-17T16:09:32.696Z"
   },
   {
    "duration": 251010,
    "start_time": "2022-03-17T16:09:32.706Z"
   },
   {
    "duration": 4,
    "start_time": "2022-03-17T16:34:05.711Z"
   },
   {
    "duration": 4,
    "start_time": "2022-03-17T16:34:06.143Z"
   },
   {
    "duration": 2133,
    "start_time": "2022-03-17T16:35:18.455Z"
   },
   {
    "duration": 367,
    "start_time": "2022-03-17T16:35:20.592Z"
   },
   {
    "duration": 42,
    "start_time": "2022-03-17T16:35:20.961Z"
   },
   {
    "duration": 16,
    "start_time": "2022-03-17T16:35:21.007Z"
   },
   {
    "duration": 45,
    "start_time": "2022-03-17T16:35:21.025Z"
   },
   {
    "duration": 37,
    "start_time": "2022-03-17T16:35:21.072Z"
   },
   {
    "duration": 8,
    "start_time": "2022-03-17T16:35:21.111Z"
   },
   {
    "duration": 12,
    "start_time": "2022-03-17T16:35:21.122Z"
   },
   {
    "duration": 9,
    "start_time": "2022-03-17T16:35:21.168Z"
   },
   {
    "duration": 44,
    "start_time": "2022-03-17T16:35:21.181Z"
   },
   {
    "duration": 10,
    "start_time": "2022-03-17T16:35:21.227Z"
   },
   {
    "duration": 46,
    "start_time": "2022-03-17T16:35:21.240Z"
   },
   {
    "duration": 13,
    "start_time": "2022-03-17T16:35:21.289Z"
   },
   {
    "duration": 12,
    "start_time": "2022-03-17T16:35:21.304Z"
   },
   {
    "duration": 11,
    "start_time": "2022-03-17T16:35:21.319Z"
   },
   {
    "duration": 36,
    "start_time": "2022-03-17T16:35:21.333Z"
   },
   {
    "duration": 9,
    "start_time": "2022-03-17T16:35:21.371Z"
   },
   {
    "duration": 2112,
    "start_time": "2022-03-17T16:36:01.666Z"
   },
   {
    "duration": 436,
    "start_time": "2022-03-17T16:36:03.782Z"
   },
   {
    "duration": 61,
    "start_time": "2022-03-17T16:36:04.221Z"
   },
   {
    "duration": 20,
    "start_time": "2022-03-17T16:36:04.285Z"
   },
   {
    "duration": 15,
    "start_time": "2022-03-17T16:36:04.309Z"
   },
   {
    "duration": 74,
    "start_time": "2022-03-17T16:36:04.327Z"
   },
   {
    "duration": 9,
    "start_time": "2022-03-17T16:36:04.404Z"
   },
   {
    "duration": 32,
    "start_time": "2022-03-17T16:36:04.415Z"
   },
   {
    "duration": 22,
    "start_time": "2022-03-17T16:36:04.449Z"
   },
   {
    "duration": 56,
    "start_time": "2022-03-17T16:36:04.474Z"
   },
   {
    "duration": 10,
    "start_time": "2022-03-17T16:36:04.533Z"
   },
   {
    "duration": 46,
    "start_time": "2022-03-17T16:36:04.546Z"
   },
   {
    "duration": 23,
    "start_time": "2022-03-17T16:36:04.594Z"
   },
   {
    "duration": 13,
    "start_time": "2022-03-17T16:36:04.623Z"
   },
   {
    "duration": 32,
    "start_time": "2022-03-17T16:36:04.638Z"
   },
   {
    "duration": 10,
    "start_time": "2022-03-17T16:36:04.673Z"
   },
   {
    "duration": 20,
    "start_time": "2022-03-17T16:36:04.685Z"
   },
   {
    "duration": 10,
    "start_time": "2022-03-17T16:36:04.708Z"
   },
   {
    "duration": 10,
    "start_time": "2022-03-17T16:36:04.720Z"
   },
   {
    "duration": 10,
    "start_time": "2022-03-17T16:36:04.768Z"
   },
   {
    "duration": 16,
    "start_time": "2022-03-17T16:36:04.781Z"
   },
   {
    "duration": 15,
    "start_time": "2022-03-17T16:36:04.800Z"
   },
   {
    "duration": 50,
    "start_time": "2022-03-17T16:36:04.818Z"
   },
   {
    "duration": 22,
    "start_time": "2022-03-17T16:36:04.871Z"
   },
   {
    "duration": 10,
    "start_time": "2022-03-17T16:36:04.896Z"
   },
   {
    "duration": 58,
    "start_time": "2022-03-17T16:36:04.909Z"
   },
   {
    "duration": 60,
    "start_time": "2022-03-17T16:36:04.970Z"
   },
   {
    "duration": 8,
    "start_time": "2022-03-17T16:36:05.032Z"
   },
   {
    "duration": 36,
    "start_time": "2022-03-17T16:36:05.042Z"
   },
   {
    "duration": 9,
    "start_time": "2022-03-17T16:36:05.080Z"
   },
   {
    "duration": 18,
    "start_time": "2022-03-17T16:36:05.091Z"
   },
   {
    "duration": 101,
    "start_time": "2022-03-17T16:36:05.111Z"
   },
   {
    "duration": 8,
    "start_time": "2022-03-17T16:36:05.215Z"
   },
   {
    "duration": 12,
    "start_time": "2022-03-17T16:36:05.225Z"
   },
   {
    "duration": 33,
    "start_time": "2022-03-17T16:36:05.240Z"
   },
   {
    "duration": 8,
    "start_time": "2022-03-17T16:36:05.275Z"
   },
   {
    "duration": 9,
    "start_time": "2022-03-17T16:36:05.285Z"
   },
   {
    "duration": 11,
    "start_time": "2022-03-17T16:36:05.296Z"
   },
   {
    "duration": 57,
    "start_time": "2022-03-17T16:36:05.310Z"
   },
   {
    "duration": 39,
    "start_time": "2022-03-17T16:36:05.370Z"
   },
   {
    "duration": 8,
    "start_time": "2022-03-17T16:36:05.417Z"
   },
   {
    "duration": 11,
    "start_time": "2022-03-17T16:36:05.428Z"
   },
   {
    "duration": 54,
    "start_time": "2022-03-17T16:36:05.468Z"
   },
   {
    "duration": 15,
    "start_time": "2022-03-17T16:36:05.524Z"
   },
   {
    "duration": 13,
    "start_time": "2022-03-17T16:36:05.542Z"
   },
   {
    "duration": 8,
    "start_time": "2022-03-17T16:36:05.557Z"
   },
   {
    "duration": 12,
    "start_time": "2022-03-17T16:36:05.567Z"
   },
   {
    "duration": 8,
    "start_time": "2022-03-17T16:36:05.581Z"
   },
   {
    "duration": 23,
    "start_time": "2022-03-17T16:36:05.592Z"
   },
   {
    "duration": 10,
    "start_time": "2022-03-17T16:36:05.618Z"
   },
   {
    "duration": 46,
    "start_time": "2022-03-17T16:36:05.631Z"
   },
   {
    "duration": 10,
    "start_time": "2022-03-17T16:36:05.679Z"
   },
   {
    "duration": 8,
    "start_time": "2022-03-17T16:36:05.692Z"
   },
   {
    "duration": 14,
    "start_time": "2022-03-17T16:36:05.703Z"
   },
   {
    "duration": 49,
    "start_time": "2022-03-17T16:36:05.719Z"
   },
   {
    "duration": 10,
    "start_time": "2022-03-17T16:36:05.770Z"
   },
   {
    "duration": 39,
    "start_time": "2022-03-17T16:36:05.782Z"
   },
   {
    "duration": 8,
    "start_time": "2022-03-17T16:36:05.823Z"
   },
   {
    "duration": 44,
    "start_time": "2022-03-17T16:36:05.834Z"
   },
   {
    "duration": 7,
    "start_time": "2022-03-17T16:36:05.881Z"
   },
   {
    "duration": 16,
    "start_time": "2022-03-17T16:36:05.891Z"
   },
   {
    "duration": 64,
    "start_time": "2022-03-17T16:36:05.910Z"
   },
   {
    "duration": 7,
    "start_time": "2022-03-17T16:36:05.977Z"
   },
   {
    "duration": 9,
    "start_time": "2022-03-17T16:36:05.988Z"
   },
   {
    "duration": 15,
    "start_time": "2022-03-17T16:36:05.999Z"
   },
   {
    "duration": 6,
    "start_time": "2022-03-17T16:36:06.016Z"
   },
   {
    "duration": 48,
    "start_time": "2022-03-17T16:36:06.025Z"
   },
   {
    "duration": 5654,
    "start_time": "2022-03-17T16:36:06.075Z"
   },
   {
    "duration": 14,
    "start_time": "2022-03-17T16:36:11.732Z"
   },
   {
    "duration": 10,
    "start_time": "2022-03-17T16:36:11.767Z"
   },
   {
    "duration": 15,
    "start_time": "2022-03-17T16:36:11.780Z"
   },
   {
    "duration": 10,
    "start_time": "2022-03-17T16:36:11.798Z"
   },
   {
    "duration": 9,
    "start_time": "2022-03-17T16:36:11.811Z"
   },
   {
    "duration": 49,
    "start_time": "2022-03-17T16:36:11.822Z"
   },
   {
    "duration": 28,
    "start_time": "2022-03-17T16:36:11.876Z"
   },
   {
    "duration": 9,
    "start_time": "2022-03-17T16:36:11.906Z"
   },
   {
    "duration": 421,
    "start_time": "2022-03-17T16:36:11.918Z"
   },
   {
    "duration": 47,
    "start_time": "2022-03-17T16:36:12.341Z"
   },
   {
    "duration": 310,
    "start_time": "2022-03-17T16:36:12.391Z"
   },
   {
    "duration": 6,
    "start_time": "2022-03-17T16:36:12.703Z"
   },
   {
    "duration": 5,
    "start_time": "2022-03-17T16:36:12.715Z"
   },
   {
    "duration": 5,
    "start_time": "2022-03-17T16:36:12.722Z"
   },
   {
    "duration": 5,
    "start_time": "2022-03-17T16:36:12.730Z"
   },
   {
    "duration": 566884,
    "start_time": "2022-03-17T16:36:12.737Z"
   },
   {
    "duration": 6,
    "start_time": "2022-03-17T16:45:39.624Z"
   },
   {
    "duration": 292670,
    "start_time": "2022-03-17T16:45:39.634Z"
   },
   {
    "duration": 4,
    "start_time": "2022-03-17T17:23:53.689Z"
   },
   {
    "duration": 4,
    "start_time": "2022-03-17T17:23:54.801Z"
   },
   {
    "duration": 924983,
    "start_time": "2022-03-17T17:23:55.286Z"
   },
   {
    "duration": 5,
    "start_time": "2022-03-17T17:39:20.272Z"
   },
   {
    "duration": 279814,
    "start_time": "2022-03-17T17:39:20.280Z"
   },
   {
    "duration": 1508,
    "start_time": "2022-03-18T06:37:57.464Z"
   },
   {
    "duration": 232,
    "start_time": "2022-03-18T06:37:58.974Z"
   },
   {
    "duration": 32,
    "start_time": "2022-03-18T06:37:59.208Z"
   },
   {
    "duration": 12,
    "start_time": "2022-03-18T06:37:59.242Z"
   },
   {
    "duration": 10,
    "start_time": "2022-03-18T06:37:59.255Z"
   },
   {
    "duration": 24,
    "start_time": "2022-03-18T06:37:59.267Z"
   },
   {
    "duration": 5,
    "start_time": "2022-03-18T06:37:59.292Z"
   },
   {
    "duration": 35,
    "start_time": "2022-03-18T06:37:59.298Z"
   },
   {
    "duration": 6,
    "start_time": "2022-03-18T06:37:59.334Z"
   },
   {
    "duration": 23,
    "start_time": "2022-03-18T06:37:59.343Z"
   },
   {
    "duration": 5,
    "start_time": "2022-03-18T06:37:59.368Z"
   },
   {
    "duration": 12,
    "start_time": "2022-03-18T06:37:59.374Z"
   },
   {
    "duration": 7,
    "start_time": "2022-03-18T06:37:59.387Z"
   },
   {
    "duration": 38,
    "start_time": "2022-03-18T06:37:59.396Z"
   },
   {
    "duration": 5,
    "start_time": "2022-03-18T06:37:59.436Z"
   },
   {
    "duration": 8,
    "start_time": "2022-03-18T06:37:59.442Z"
   },
   {
    "duration": 5,
    "start_time": "2022-03-18T06:37:59.452Z"
   },
   {
    "duration": 5,
    "start_time": "2022-03-18T06:37:59.458Z"
   },
   {
    "duration": 6,
    "start_time": "2022-03-18T06:37:59.464Z"
   },
   {
    "duration": 6,
    "start_time": "2022-03-18T06:37:59.471Z"
   },
   {
    "duration": 11,
    "start_time": "2022-03-18T06:37:59.478Z"
   },
   {
    "duration": 48,
    "start_time": "2022-03-18T06:37:59.491Z"
   },
   {
    "duration": 7,
    "start_time": "2022-03-18T06:37:59.541Z"
   },
   {
    "duration": 10,
    "start_time": "2022-03-18T06:37:59.549Z"
   },
   {
    "duration": 8,
    "start_time": "2022-03-18T06:37:59.561Z"
   },
   {
    "duration": 10,
    "start_time": "2022-03-18T06:37:59.571Z"
   },
   {
    "duration": 63,
    "start_time": "2022-03-18T06:37:59.583Z"
   },
   {
    "duration": 5,
    "start_time": "2022-03-18T06:37:59.650Z"
   },
   {
    "duration": 6,
    "start_time": "2022-03-18T06:37:59.657Z"
   },
   {
    "duration": 6,
    "start_time": "2022-03-18T06:37:59.664Z"
   },
   {
    "duration": 10,
    "start_time": "2022-03-18T06:37:59.672Z"
   },
   {
    "duration": 71,
    "start_time": "2022-03-18T06:37:59.683Z"
   },
   {
    "duration": 5,
    "start_time": "2022-03-18T06:37:59.755Z"
   },
   {
    "duration": 6,
    "start_time": "2022-03-18T06:37:59.762Z"
   },
   {
    "duration": 9,
    "start_time": "2022-03-18T06:37:59.769Z"
   },
   {
    "duration": 9,
    "start_time": "2022-03-18T06:37:59.779Z"
   },
   {
    "duration": 6,
    "start_time": "2022-03-18T06:37:59.789Z"
   },
   {
    "duration": 6,
    "start_time": "2022-03-18T06:37:59.796Z"
   },
   {
    "duration": 7,
    "start_time": "2022-03-18T06:37:59.833Z"
   },
   {
    "duration": 19,
    "start_time": "2022-03-18T06:37:59.841Z"
   },
   {
    "duration": 5,
    "start_time": "2022-03-18T06:37:59.861Z"
   },
   {
    "duration": 9,
    "start_time": "2022-03-18T06:37:59.867Z"
   },
   {
    "duration": 6,
    "start_time": "2022-03-18T06:37:59.878Z"
   },
   {
    "duration": 6,
    "start_time": "2022-03-18T06:37:59.885Z"
   },
   {
    "duration": 42,
    "start_time": "2022-03-18T06:37:59.893Z"
   },
   {
    "duration": 7,
    "start_time": "2022-03-18T06:37:59.937Z"
   },
   {
    "duration": 8,
    "start_time": "2022-03-18T06:37:59.946Z"
   },
   {
    "duration": 9,
    "start_time": "2022-03-18T06:37:59.956Z"
   },
   {
    "duration": 9,
    "start_time": "2022-03-18T06:37:59.967Z"
   },
   {
    "duration": 6,
    "start_time": "2022-03-18T06:37:59.978Z"
   },
   {
    "duration": 11,
    "start_time": "2022-03-18T06:37:59.985Z"
   },
   {
    "duration": 10,
    "start_time": "2022-03-18T06:37:59.997Z"
   },
   {
    "duration": 7,
    "start_time": "2022-03-18T06:38:00.033Z"
   },
   {
    "duration": 11,
    "start_time": "2022-03-18T06:38:00.042Z"
   },
   {
    "duration": 11,
    "start_time": "2022-03-18T06:38:00.055Z"
   },
   {
    "duration": 13,
    "start_time": "2022-03-18T06:38:00.067Z"
   },
   {
    "duration": 25,
    "start_time": "2022-03-18T06:38:00.082Z"
   },
   {
    "duration": 27,
    "start_time": "2022-03-18T06:38:00.109Z"
   },
   {
    "duration": 8,
    "start_time": "2022-03-18T06:38:00.138Z"
   },
   {
    "duration": 12,
    "start_time": "2022-03-18T06:38:00.147Z"
   },
   {
    "duration": 15,
    "start_time": "2022-03-18T06:38:00.160Z"
   },
   {
    "duration": 28,
    "start_time": "2022-03-18T06:38:00.176Z"
   },
   {
    "duration": 5,
    "start_time": "2022-03-18T06:38:00.206Z"
   },
   {
    "duration": 26,
    "start_time": "2022-03-18T06:38:00.213Z"
   },
   {
    "duration": 14,
    "start_time": "2022-03-18T06:38:00.241Z"
   },
   {
    "duration": 3,
    "start_time": "2022-03-18T06:38:00.257Z"
   },
   {
    "duration": 9,
    "start_time": "2022-03-18T06:38:00.262Z"
   },
   {
    "duration": 1436,
    "start_time": "2022-03-18T06:38:00.273Z"
   },
   {
    "duration": 9,
    "start_time": "2022-03-18T06:39:09.670Z"
   },
   {
    "duration": 9,
    "start_time": "2022-03-18T06:39:34.555Z"
   },
   {
    "duration": 9,
    "start_time": "2022-03-18T06:43:57.657Z"
   },
   {
    "duration": 41,
    "start_time": "2022-03-18T06:49:59.021Z"
   },
   {
    "duration": 307,
    "start_time": "2022-03-18T06:50:19.062Z"
   },
   {
    "duration": 28,
    "start_time": "2022-03-18T06:50:20.526Z"
   },
   {
    "duration": 275,
    "start_time": "2022-03-18T06:50:21.790Z"
   },
   {
    "duration": 5,
    "start_time": "2022-03-18T06:51:34.843Z"
   },
   {
    "duration": 3,
    "start_time": "2022-03-18T06:51:44.560Z"
   },
   {
    "duration": 3,
    "start_time": "2022-03-18T06:51:46.817Z"
   },
   {
    "duration": 174740,
    "start_time": "2022-03-18T06:51:52.072Z"
   },
   {
    "duration": 4,
    "start_time": "2022-03-18T06:54:46.814Z"
   },
   {
    "duration": 7,
    "start_time": "2022-03-18T06:57:30.989Z"
   },
   {
    "duration": 2,
    "start_time": "2022-03-18T06:58:31.550Z"
   },
   {
    "duration": 4,
    "start_time": "2022-03-18T06:58:55.445Z"
   },
   {
    "duration": 4,
    "start_time": "2022-03-18T06:58:58.921Z"
   },
   {
    "duration": 838,
    "start_time": "2022-03-18T06:59:01.597Z"
   },
   {
    "duration": 3,
    "start_time": "2022-03-18T06:59:28.199Z"
   },
   {
    "duration": 102637,
    "start_time": "2022-03-18T06:59:30.699Z"
   },
   {
    "duration": 4,
    "start_time": "2022-03-18T07:01:13.337Z"
   },
   {
    "duration": 5,
    "start_time": "2022-03-18T07:01:13.343Z"
   },
   {
    "duration": 1032,
    "start_time": "2022-03-18T07:01:54.458Z"
   },
   {
    "duration": 2,
    "start_time": "2022-03-18T07:02:26.908Z"
   },
   {
    "duration": 32646,
    "start_time": "2022-03-18T07:02:28.033Z"
   },
   {
    "duration": 4,
    "start_time": "2022-03-18T07:03:00.680Z"
   },
   {
    "duration": 12,
    "start_time": "2022-03-18T07:03:00.686Z"
   },
   {
    "duration": 819,
    "start_time": "2022-03-18T07:03:00.700Z"
   },
   {
    "duration": 3,
    "start_time": "2022-03-18T07:03:33.171Z"
   },
   {
    "duration": 45597,
    "start_time": "2022-03-18T07:03:37.773Z"
   },
   {
    "duration": 3,
    "start_time": "2022-03-18T07:04:23.372Z"
   },
   {
    "duration": 6,
    "start_time": "2022-03-18T07:04:23.377Z"
   },
   {
    "duration": 636,
    "start_time": "2022-03-18T07:04:23.385Z"
   },
   {
    "duration": 3,
    "start_time": "2022-03-18T07:06:28.924Z"
   },
   {
    "duration": 25444,
    "start_time": "2022-03-18T07:06:29.354Z"
   },
   {
    "duration": 4,
    "start_time": "2022-03-18T07:06:54.800Z"
   },
   {
    "duration": 7,
    "start_time": "2022-03-18T07:06:54.805Z"
   },
   {
    "duration": 642,
    "start_time": "2022-03-18T07:06:54.813Z"
   },
   {
    "duration": 4,
    "start_time": "2022-03-18T07:07:55.754Z"
   },
   {
    "duration": 149405,
    "start_time": "2022-03-18T07:07:56.405Z"
   },
   {
    "duration": 5,
    "start_time": "2022-03-18T07:10:25.812Z"
   },
   {
    "duration": 539,
    "start_time": "2022-03-18T07:10:25.833Z"
   },
   {
    "duration": 0,
    "start_time": "2022-03-18T07:10:26.374Z"
   },
   {
    "duration": 4,
    "start_time": "2022-03-18T07:12:40.495Z"
   },
   {
    "duration": 702,
    "start_time": "2022-03-18T07:12:51.918Z"
   },
   {
    "duration": 4,
    "start_time": "2022-03-18T07:21:28.282Z"
   },
   {
    "duration": 113,
    "start_time": "2022-03-18T07:22:38.887Z"
   },
   {
    "duration": 25,
    "start_time": "2022-03-18T07:23:17.609Z"
   },
   {
    "duration": 4,
    "start_time": "2022-03-18T07:24:20.875Z"
   },
   {
    "duration": 25,
    "start_time": "2022-03-18T07:24:21.820Z"
   },
   {
    "duration": 5,
    "start_time": "2022-03-18T07:24:48.167Z"
   },
   {
    "duration": 4,
    "start_time": "2022-03-18T07:24:50.840Z"
   },
   {
    "duration": 544,
    "start_time": "2022-03-18T07:25:26.993Z"
   },
   {
    "duration": 5,
    "start_time": "2022-03-18T07:25:46.778Z"
   },
   {
    "duration": 597,
    "start_time": "2022-03-18T07:25:47.490Z"
   },
   {
    "duration": 7,
    "start_time": "2022-03-18T07:26:00.809Z"
   },
   {
    "duration": 536,
    "start_time": "2022-03-18T07:26:01.897Z"
   },
   {
    "duration": 4,
    "start_time": "2022-03-18T07:27:49.301Z"
   },
   {
    "duration": 3,
    "start_time": "2022-03-18T07:28:28.038Z"
   },
   {
    "duration": 25,
    "start_time": "2022-03-18T07:28:41.143Z"
   },
   {
    "duration": 1517,
    "start_time": "2022-03-18T07:29:02.596Z"
   },
   {
    "duration": 10,
    "start_time": "2022-03-18T07:29:20.620Z"
   },
   {
    "duration": 1446,
    "start_time": "2022-03-18T07:30:55.427Z"
   },
   {
    "duration": 1474,
    "start_time": "2022-03-18T07:31:06.802Z"
   },
   {
    "duration": 9,
    "start_time": "2022-03-18T07:31:11.888Z"
   },
   {
    "duration": 4,
    "start_time": "2022-03-18T07:31:46.012Z"
   },
   {
    "duration": 4,
    "start_time": "2022-03-18T07:32:21.292Z"
   },
   {
    "duration": 9,
    "start_time": "2022-03-18T07:32:22.808Z"
   },
   {
    "duration": 557,
    "start_time": "2022-03-18T07:33:03.261Z"
   },
   {
    "duration": 4,
    "start_time": "2022-03-18T07:38:15.952Z"
   },
   {
    "duration": 563,
    "start_time": "2022-03-18T07:38:16.581Z"
   },
   {
    "duration": 5,
    "start_time": "2022-03-18T07:44:07.280Z"
   },
   {
    "duration": 4,
    "start_time": "2022-03-18T07:44:23.131Z"
   },
   {
    "duration": 545,
    "start_time": "2022-03-18T07:44:24.068Z"
   },
   {
    "duration": 4,
    "start_time": "2022-03-18T07:45:29.479Z"
   },
   {
    "duration": 559,
    "start_time": "2022-03-18T07:45:29.555Z"
   },
   {
    "duration": 4,
    "start_time": "2022-03-18T07:45:44.172Z"
   },
   {
    "duration": 556,
    "start_time": "2022-03-18T07:45:45.330Z"
   },
   {
    "duration": 3,
    "start_time": "2022-03-18T07:46:38.406Z"
   },
   {
    "duration": 526,
    "start_time": "2022-03-18T07:46:50.789Z"
   },
   {
    "duration": 5,
    "start_time": "2022-03-18T07:46:58.343Z"
   },
   {
    "duration": 544,
    "start_time": "2022-03-18T07:46:59.172Z"
   },
   {
    "duration": 4,
    "start_time": "2022-03-18T07:47:19.279Z"
   },
   {
    "duration": 603,
    "start_time": "2022-03-18T07:47:20.077Z"
   },
   {
    "duration": 4,
    "start_time": "2022-03-18T07:47:42.727Z"
   },
   {
    "duration": 554,
    "start_time": "2022-03-18T07:49:12.021Z"
   },
   {
    "duration": 124,
    "start_time": "2022-03-18T08:00:10.399Z"
   },
   {
    "duration": 744,
    "start_time": "2022-03-18T08:05:15.406Z"
   },
   {
    "duration": 5,
    "start_time": "2022-03-18T08:08:46.927Z"
   },
   {
    "duration": 841,
    "start_time": "2022-03-18T08:09:25.172Z"
   },
   {
    "duration": 4,
    "start_time": "2022-03-18T08:09:44.787Z"
   },
   {
    "duration": 822,
    "start_time": "2022-03-18T08:09:44.814Z"
   },
   {
    "duration": 855,
    "start_time": "2022-03-18T08:10:08.089Z"
   },
   {
    "duration": 102885,
    "start_time": "2022-03-18T08:12:41.809Z"
   },
   {
    "duration": 9,
    "start_time": "2022-03-18T08:14:57.801Z"
   },
   {
    "duration": 379,
    "start_time": "2022-03-18T08:15:14.772Z"
   },
   {
    "duration": 8,
    "start_time": "2022-03-18T08:18:19.404Z"
   },
   {
    "duration": 883,
    "start_time": "2022-03-18T08:18:38.599Z"
   },
   {
    "duration": 738,
    "start_time": "2022-03-18T08:19:32.710Z"
   },
   {
    "duration": 113,
    "start_time": "2022-03-18T08:33:03.722Z"
   },
   {
    "duration": 3,
    "start_time": "2022-03-18T08:51:29.342Z"
   },
   {
    "duration": 3,
    "start_time": "2022-03-18T08:51:35.399Z"
   },
   {
    "duration": 3,
    "start_time": "2022-03-18T08:51:36.353Z"
   },
   {
    "duration": 504768,
    "start_time": "2022-03-18T08:51:37.689Z"
   },
   {
    "duration": 4,
    "start_time": "2022-03-18T09:00:02.459Z"
   },
   {
    "duration": 188439,
    "start_time": "2022-03-18T09:00:25.778Z"
   },
   {
    "duration": 95106,
    "start_time": "2022-03-18T09:03:34.219Z"
   },
   {
    "duration": 209590,
    "start_time": "2022-03-18T10:42:52.045Z"
   },
   {
    "duration": 190,
    "start_time": "2022-03-18T10:55:44.954Z"
   },
   {
    "duration": 4,
    "start_time": "2022-03-18T10:57:27.067Z"
   },
   {
    "duration": 3,
    "start_time": "2022-03-18T10:57:46.404Z"
   },
   {
    "duration": 162,
    "start_time": "2022-03-18T10:58:01.094Z"
   },
   {
    "duration": 3,
    "start_time": "2022-03-18T11:00:36.775Z"
   },
   {
    "duration": 2,
    "start_time": "2022-03-18T11:00:37.488Z"
   },
   {
    "duration": 2,
    "start_time": "2022-03-18T11:00:39.624Z"
   },
   {
    "duration": 136,
    "start_time": "2022-03-18T11:00:41.063Z"
   },
   {
    "duration": 3,
    "start_time": "2022-03-18T11:00:58.493Z"
   },
   {
    "duration": 3,
    "start_time": "2022-03-18T11:00:59.094Z"
   },
   {
    "duration": 126,
    "start_time": "2022-03-18T11:00:59.855Z"
   },
   {
    "duration": 3,
    "start_time": "2022-03-18T11:01:09.546Z"
   },
   {
    "duration": 3,
    "start_time": "2022-03-18T11:01:12.694Z"
   },
   {
    "duration": 5201,
    "start_time": "2022-03-18T11:01:13.254Z"
   },
   {
    "duration": 4,
    "start_time": "2022-03-18T11:02:50.435Z"
   },
   {
    "duration": 100,
    "start_time": "2022-03-18T11:02:54.015Z"
   },
   {
    "duration": 229,
    "start_time": "2022-03-18T11:03:00.616Z"
   },
   {
    "duration": 119,
    "start_time": "2022-03-18T11:04:14.067Z"
   },
   {
    "duration": 142,
    "start_time": "2022-03-18T11:04:23.326Z"
   },
   {
    "duration": 4,
    "start_time": "2022-03-18T11:04:32.443Z"
   },
   {
    "duration": 4,
    "start_time": "2022-03-18T11:04:48.741Z"
   },
   {
    "duration": 134,
    "start_time": "2022-03-18T11:04:51.497Z"
   },
   {
    "duration": 3,
    "start_time": "2022-03-18T11:05:15.904Z"
   },
   {
    "duration": 4,
    "start_time": "2022-03-18T11:05:31.564Z"
   },
   {
    "duration": 148,
    "start_time": "2022-03-18T11:05:32.743Z"
   },
   {
    "duration": 3,
    "start_time": "2022-03-18T11:05:53.495Z"
   },
   {
    "duration": 5,
    "start_time": "2022-03-18T11:06:07.590Z"
   },
   {
    "duration": 372183,
    "start_time": "2022-03-18T11:06:07.847Z"
   },
   {
    "duration": 4,
    "start_time": "2022-03-18T11:12:38.828Z"
   },
   {
    "duration": 3,
    "start_time": "2022-03-18T11:13:20.156Z"
   },
   {
    "duration": 222003,
    "start_time": "2022-03-18T11:13:33.714Z"
   },
   {
    "duration": 107929,
    "start_time": "2022-03-18T11:17:15.719Z"
   },
   {
    "duration": 4,
    "start_time": "2022-03-18T11:19:03.650Z"
   },
   {
    "duration": 8,
    "start_time": "2022-03-18T11:19:03.656Z"
   },
   {
    "duration": 572216,
    "start_time": "2022-03-18T11:19:03.817Z"
   },
   {
    "duration": 4,
    "start_time": "2022-03-18T11:28:36.035Z"
   },
   {
    "duration": 212470,
    "start_time": "2022-03-18T11:29:12.524Z"
   },
   {
    "duration": 12,
    "start_time": "2022-03-18T11:32:44.995Z"
   },
   {
    "duration": 7,
    "start_time": "2022-03-18T11:35:45.875Z"
   },
   {
    "duration": 130,
    "start_time": "2022-03-18T11:36:06.543Z"
   },
   {
    "duration": 118,
    "start_time": "2022-03-18T11:36:17.147Z"
   },
   {
    "duration": 11,
    "start_time": "2022-03-18T11:36:57.697Z"
   },
   {
    "duration": 15,
    "start_time": "2022-03-18T11:38:53.217Z"
   },
   {
    "duration": 13,
    "start_time": "2022-03-18T11:39:00.895Z"
   },
   {
    "duration": 12,
    "start_time": "2022-03-18T11:39:33.508Z"
   },
   {
    "duration": 17,
    "start_time": "2022-03-18T11:40:13.175Z"
   },
   {
    "duration": 14,
    "start_time": "2022-03-18T11:43:54.267Z"
   },
   {
    "duration": 30,
    "start_time": "2022-03-18T11:45:04.474Z"
   },
   {
    "duration": 29,
    "start_time": "2022-03-18T11:45:38.103Z"
   },
   {
    "duration": 28,
    "start_time": "2022-03-18T11:46:53.795Z"
   },
   {
    "duration": 27,
    "start_time": "2022-03-18T11:47:03.839Z"
   },
   {
    "duration": 28,
    "start_time": "2022-03-18T11:48:00.955Z"
   },
   {
    "duration": 11,
    "start_time": "2022-03-18T11:49:05.856Z"
   },
   {
    "duration": 27,
    "start_time": "2022-03-18T11:49:37.575Z"
   },
   {
    "duration": 10,
    "start_time": "2022-03-18T11:49:55.284Z"
   },
   {
    "duration": 26,
    "start_time": "2022-03-18T11:50:08.895Z"
   },
   {
    "duration": 29,
    "start_time": "2022-03-18T11:51:06.477Z"
   },
   {
    "duration": 25,
    "start_time": "2022-03-18T11:51:22.683Z"
   },
   {
    "duration": 26,
    "start_time": "2022-03-18T11:51:33.936Z"
   },
   {
    "duration": 27,
    "start_time": "2022-03-18T11:51:41.815Z"
   },
   {
    "duration": 24,
    "start_time": "2022-03-18T11:52:27.885Z"
   },
   {
    "duration": 25,
    "start_time": "2022-03-18T11:52:34.704Z"
   },
   {
    "duration": 16,
    "start_time": "2022-03-18T11:54:08.737Z"
   },
   {
    "duration": 31,
    "start_time": "2022-03-18T11:56:13.529Z"
   },
   {
    "duration": 19,
    "start_time": "2022-03-18T11:58:10.836Z"
   },
   {
    "duration": 18,
    "start_time": "2022-03-18T11:58:49.196Z"
   },
   {
    "duration": 16,
    "start_time": "2022-03-18T12:01:49.916Z"
   },
   {
    "duration": 12,
    "start_time": "2022-03-18T12:02:33.969Z"
   },
   {
    "duration": 36,
    "start_time": "2022-03-18T12:04:09.968Z"
   },
   {
    "duration": 125,
    "start_time": "2022-03-18T12:05:30.127Z"
   },
   {
    "duration": 206,
    "start_time": "2022-03-18T12:05:50.997Z"
   },
   {
    "duration": 154,
    "start_time": "2022-03-18T12:06:18.850Z"
   },
   {
    "duration": 33,
    "start_time": "2022-03-18T12:06:31.284Z"
   },
   {
    "duration": 33,
    "start_time": "2022-03-18T12:07:05.637Z"
   },
   {
    "duration": 124,
    "start_time": "2022-03-18T12:07:49.886Z"
   },
   {
    "duration": 205,
    "start_time": "2022-03-18T12:08:04.075Z"
   },
   {
    "duration": 116,
    "start_time": "2022-03-18T12:08:13.996Z"
   },
   {
    "duration": 156,
    "start_time": "2022-03-18T12:08:18.517Z"
   },
   {
    "duration": 116,
    "start_time": "2022-03-18T12:08:24.144Z"
   },
   {
    "duration": 32,
    "start_time": "2022-03-18T12:08:29.879Z"
   },
   {
    "duration": 23,
    "start_time": "2022-03-18T12:09:22.645Z"
   },
   {
    "duration": 18,
    "start_time": "2022-03-18T12:09:49.416Z"
   },
   {
    "duration": 27,
    "start_time": "2022-03-18T12:10:32.696Z"
   },
   {
    "duration": 28,
    "start_time": "2022-03-18T12:10:45.617Z"
   },
   {
    "duration": 27,
    "start_time": "2022-03-18T12:10:49.696Z"
   },
   {
    "duration": 13,
    "start_time": "2022-03-18T12:13:35.328Z"
   },
   {
    "duration": 26,
    "start_time": "2022-03-18T12:14:12.577Z"
   },
   {
    "duration": 17,
    "start_time": "2022-03-18T12:15:41.087Z"
   },
   {
    "duration": 11,
    "start_time": "2022-03-18T12:16:04.906Z"
   },
   {
    "duration": 10,
    "start_time": "2022-03-18T12:16:17.063Z"
   },
   {
    "duration": 27,
    "start_time": "2022-03-18T12:16:33.391Z"
   },
   {
    "duration": 23,
    "start_time": "2022-03-18T12:19:16.217Z"
   },
   {
    "duration": 12,
    "start_time": "2022-03-18T12:20:12.296Z"
   },
   {
    "duration": 13,
    "start_time": "2022-03-18T12:20:41.848Z"
   },
   {
    "duration": 13,
    "start_time": "2022-03-18T12:23:26.608Z"
   },
   {
    "duration": 13,
    "start_time": "2022-03-18T12:24:13.947Z"
   },
   {
    "duration": 19,
    "start_time": "2022-03-18T12:33:27.077Z"
   },
   {
    "duration": 17,
    "start_time": "2022-03-18T12:34:45.944Z"
   },
   {
    "duration": 16,
    "start_time": "2022-03-18T12:37:39.964Z"
   },
   {
    "duration": 14,
    "start_time": "2022-03-18T12:38:13.777Z"
   },
   {
    "duration": 15,
    "start_time": "2022-03-18T12:38:36.028Z"
   },
   {
    "duration": 17,
    "start_time": "2022-03-18T12:38:55.557Z"
   },
   {
    "duration": 18,
    "start_time": "2022-03-18T12:39:03.768Z"
   },
   {
    "duration": 95284,
    "start_time": "2022-03-18T12:40:43.088Z"
   },
   {
    "duration": 4,
    "start_time": "2022-03-18T12:44:30.368Z"
   },
   {
    "duration": 4,
    "start_time": "2022-03-18T12:44:32.216Z"
   },
   {
    "duration": 96436,
    "start_time": "2022-03-18T12:44:33.917Z"
   },
   {
    "duration": 9,
    "start_time": "2022-03-18T12:46:10.355Z"
   },
   {
    "duration": 0,
    "start_time": "2022-03-18T12:46:10.366Z"
   },
   {
    "duration": 4,
    "start_time": "2022-03-18T12:46:21.090Z"
   },
   {
    "duration": 3,
    "start_time": "2022-03-18T12:46:21.797Z"
   },
   {
    "duration": 136,
    "start_time": "2022-03-18T12:46:22.076Z"
   },
   {
    "duration": 3,
    "start_time": "2022-03-18T12:46:56.725Z"
   },
   {
    "duration": 2,
    "start_time": "2022-03-18T12:46:58.150Z"
   },
   {
    "duration": 2,
    "start_time": "2022-03-18T12:46:59.357Z"
   },
   {
    "duration": 337626,
    "start_time": "2022-03-18T12:47:00.317Z"
   },
   {
    "duration": 4,
    "start_time": "2022-03-18T12:52:37.945Z"
   },
   {
    "duration": 2327,
    "start_time": "2022-03-21T10:29:15.664Z"
   },
   {
    "duration": 396,
    "start_time": "2022-03-21T10:29:17.995Z"
   },
   {
    "duration": 58,
    "start_time": "2022-03-21T10:29:18.394Z"
   },
   {
    "duration": 18,
    "start_time": "2022-03-21T10:29:18.468Z"
   },
   {
    "duration": 21,
    "start_time": "2022-03-21T10:29:18.488Z"
   },
   {
    "duration": 47,
    "start_time": "2022-03-21T10:29:18.511Z"
   },
   {
    "duration": 7,
    "start_time": "2022-03-21T10:29:18.567Z"
   },
   {
    "duration": 19,
    "start_time": "2022-03-21T10:29:18.577Z"
   },
   {
    "duration": 20,
    "start_time": "2022-03-21T10:29:18.598Z"
   },
   {
    "duration": 53,
    "start_time": "2022-03-21T10:29:18.623Z"
   },
   {
    "duration": 8,
    "start_time": "2022-03-21T10:29:18.678Z"
   },
   {
    "duration": 28,
    "start_time": "2022-03-21T10:29:18.689Z"
   },
   {
    "duration": 23,
    "start_time": "2022-03-21T10:29:18.719Z"
   },
   {
    "duration": 13,
    "start_time": "2022-03-21T10:29:18.745Z"
   },
   {
    "duration": 12,
    "start_time": "2022-03-21T10:29:18.769Z"
   },
   {
    "duration": 17,
    "start_time": "2022-03-21T10:29:18.783Z"
   },
   {
    "duration": 23,
    "start_time": "2022-03-21T10:29:18.802Z"
   },
   {
    "duration": 16,
    "start_time": "2022-03-21T10:29:18.827Z"
   },
   {
    "duration": 24,
    "start_time": "2022-03-21T10:29:18.845Z"
   },
   {
    "duration": 18,
    "start_time": "2022-03-21T10:29:18.872Z"
   },
   {
    "duration": 22,
    "start_time": "2022-03-21T10:29:18.892Z"
   },
   {
    "duration": 35,
    "start_time": "2022-03-21T10:29:18.917Z"
   },
   {
    "duration": 23,
    "start_time": "2022-03-21T10:29:18.954Z"
   },
   {
    "duration": 21,
    "start_time": "2022-03-21T10:29:18.979Z"
   },
   {
    "duration": 16,
    "start_time": "2022-03-21T10:29:19.003Z"
   },
   {
    "duration": 43,
    "start_time": "2022-03-21T10:29:19.022Z"
   },
   {
    "duration": 80,
    "start_time": "2022-03-21T10:29:19.067Z"
   },
   {
    "duration": 10,
    "start_time": "2022-03-21T10:29:19.157Z"
   },
   {
    "duration": 20,
    "start_time": "2022-03-21T10:29:19.169Z"
   },
   {
    "duration": 8,
    "start_time": "2022-03-21T10:29:19.191Z"
   },
   {
    "duration": 20,
    "start_time": "2022-03-21T10:29:19.201Z"
   },
   {
    "duration": 80,
    "start_time": "2022-03-21T10:29:19.224Z"
   },
   {
    "duration": 7,
    "start_time": "2022-03-21T10:29:19.307Z"
   },
   {
    "duration": 7,
    "start_time": "2022-03-21T10:29:19.317Z"
   },
   {
    "duration": 41,
    "start_time": "2022-03-21T10:29:19.326Z"
   },
   {
    "duration": 8,
    "start_time": "2022-03-21T10:29:19.370Z"
   },
   {
    "duration": 7,
    "start_time": "2022-03-21T10:29:19.381Z"
   },
   {
    "duration": 7,
    "start_time": "2022-03-21T10:29:19.391Z"
   },
   {
    "duration": 8,
    "start_time": "2022-03-21T10:29:19.400Z"
   },
   {
    "duration": 73,
    "start_time": "2022-03-21T10:29:19.411Z"
   },
   {
    "duration": 8,
    "start_time": "2022-03-21T10:29:19.487Z"
   },
   {
    "duration": 12,
    "start_time": "2022-03-21T10:29:19.498Z"
   },
   {
    "duration": 8,
    "start_time": "2022-03-21T10:29:19.513Z"
   },
   {
    "duration": 50,
    "start_time": "2022-03-21T10:29:19.524Z"
   },
   {
    "duration": 8,
    "start_time": "2022-03-21T10:29:19.577Z"
   },
   {
    "duration": 7,
    "start_time": "2022-03-21T10:29:19.587Z"
   },
   {
    "duration": 8,
    "start_time": "2022-03-21T10:29:19.596Z"
   },
   {
    "duration": 13,
    "start_time": "2022-03-21T10:29:19.606Z"
   },
   {
    "duration": 51,
    "start_time": "2022-03-21T10:29:19.621Z"
   },
   {
    "duration": 7,
    "start_time": "2022-03-21T10:29:19.675Z"
   },
   {
    "duration": 16,
    "start_time": "2022-03-21T10:29:19.685Z"
   },
   {
    "duration": 16,
    "start_time": "2022-03-21T10:29:19.704Z"
   },
   {
    "duration": 47,
    "start_time": "2022-03-21T10:29:19.722Z"
   },
   {
    "duration": 11,
    "start_time": "2022-03-21T10:29:19.771Z"
   },
   {
    "duration": 9,
    "start_time": "2022-03-21T10:29:19.784Z"
   },
   {
    "duration": 15,
    "start_time": "2022-03-21T10:29:19.795Z"
   },
   {
    "duration": 87,
    "start_time": "2022-03-21T10:29:19.812Z"
   },
   {
    "duration": 10,
    "start_time": "2022-03-21T10:29:19.903Z"
   },
   {
    "duration": 14,
    "start_time": "2022-03-21T10:29:19.916Z"
   },
   {
    "duration": 36,
    "start_time": "2022-03-21T10:29:19.933Z"
   },
   {
    "duration": 14,
    "start_time": "2022-03-21T10:29:19.972Z"
   },
   {
    "duration": 92,
    "start_time": "2022-03-21T10:29:19.989Z"
   },
   {
    "duration": 9,
    "start_time": "2022-03-21T10:29:20.085Z"
   },
   {
    "duration": 9,
    "start_time": "2022-03-21T10:29:20.097Z"
   },
   {
    "duration": 18,
    "start_time": "2022-03-21T10:29:20.109Z"
   },
   {
    "duration": 8,
    "start_time": "2022-03-21T10:29:20.129Z"
   },
   {
    "duration": 5,
    "start_time": "2022-03-21T10:29:20.167Z"
   },
   {
    "duration": 2707,
    "start_time": "2022-03-21T10:29:20.174Z"
   },
   {
    "duration": 13,
    "start_time": "2022-03-21T10:29:22.883Z"
   },
   {
    "duration": 28,
    "start_time": "2022-03-21T10:29:22.898Z"
   },
   {
    "duration": 30,
    "start_time": "2022-03-21T10:29:22.929Z"
   },
   {
    "duration": 9,
    "start_time": "2022-03-21T10:29:22.962Z"
   },
   {
    "duration": 20,
    "start_time": "2022-03-21T10:29:22.973Z"
   },
   {
    "duration": 78,
    "start_time": "2022-03-21T10:29:22.995Z"
   },
   {
    "duration": 7,
    "start_time": "2022-03-21T10:29:23.076Z"
   },
   {
    "duration": 456,
    "start_time": "2022-03-21T10:29:23.085Z"
   },
   {
    "duration": 44,
    "start_time": "2022-03-21T10:29:23.543Z"
   },
   {
    "duration": 216,
    "start_time": "2022-03-21T10:29:23.589Z"
   },
   {
    "duration": 6,
    "start_time": "2022-03-21T10:29:23.807Z"
   },
   {
    "duration": 19,
    "start_time": "2022-03-21T10:29:23.815Z"
   },
   {
    "duration": 11,
    "start_time": "2022-03-21T10:29:23.836Z"
   },
   {
    "duration": 3,
    "start_time": "2022-03-21T10:29:23.871Z"
   },
   {
    "duration": 19,
    "start_time": "2022-03-21T10:29:23.876Z"
   },
   {
    "duration": 243490,
    "start_time": "2022-03-21T10:29:23.897Z"
   },
   {
    "duration": 6,
    "start_time": "2022-03-21T10:33:27.391Z"
   },
   {
    "duration": 13,
    "start_time": "2022-03-21T10:33:27.401Z"
   },
   {
    "duration": 989,
    "start_time": "2022-03-21T10:33:27.417Z"
   },
   {
    "duration": 1361,
    "start_time": "2022-03-21T10:33:28.409Z"
   },
   {
    "duration": 211968,
    "start_time": "2022-03-21T10:33:29.773Z"
   },
   {
    "duration": 226,
    "start_time": "2022-03-21T10:37:01.744Z"
   },
   {
    "duration": 621,
    "start_time": "2022-03-21T10:37:01.972Z"
   },
   {
    "duration": 1173,
    "start_time": "2022-03-21T10:37:02.596Z"
   },
   {
    "duration": 47,
    "start_time": "2022-03-21T10:37:03.773Z"
   },
   {
    "duration": 49,
    "start_time": "2022-03-21T10:41:52.418Z"
   },
   {
    "duration": 45,
    "start_time": "2022-03-21T10:43:22.456Z"
   },
   {
    "duration": 24,
    "start_time": "2022-03-21T10:45:56.642Z"
   },
   {
    "duration": 24,
    "start_time": "2022-03-21T10:46:19.225Z"
   },
   {
    "duration": 23,
    "start_time": "2022-03-21T10:46:43.947Z"
   },
   {
    "duration": 23,
    "start_time": "2022-03-21T10:46:58.057Z"
   },
   {
    "duration": 166,
    "start_time": "2022-03-21T10:47:04.408Z"
   },
   {
    "duration": 24,
    "start_time": "2022-03-21T10:47:11.333Z"
   },
   {
    "duration": 25,
    "start_time": "2022-03-21T10:47:35.497Z"
   },
   {
    "duration": 25,
    "start_time": "2022-03-21T10:48:35.167Z"
   },
   {
    "duration": 27,
    "start_time": "2022-03-21T10:48:50.735Z"
   },
   {
    "duration": 25,
    "start_time": "2022-03-21T10:49:10.157Z"
   },
   {
    "duration": 26,
    "start_time": "2022-03-21T10:49:17.849Z"
   },
   {
    "duration": 13,
    "start_time": "2022-03-21T10:50:44.879Z"
   },
   {
    "duration": 45,
    "start_time": "2022-03-21T10:51:07.171Z"
   },
   {
    "duration": 15,
    "start_time": "2022-03-21T10:51:20.097Z"
   },
   {
    "duration": 13,
    "start_time": "2022-03-21T10:51:42.541Z"
   },
   {
    "duration": 24,
    "start_time": "2022-03-21T10:51:55.459Z"
   },
   {
    "duration": 12,
    "start_time": "2022-03-21T10:52:03.747Z"
   },
   {
    "duration": 24,
    "start_time": "2022-03-21T10:52:43.588Z"
   },
   {
    "duration": 18,
    "start_time": "2022-03-21T10:53:00.287Z"
   },
   {
    "duration": 47,
    "start_time": "2022-03-21T10:56:51.700Z"
   },
   {
    "duration": 43,
    "start_time": "2022-03-21T10:59:33.428Z"
   },
   {
    "duration": 33,
    "start_time": "2022-03-21T11:01:29.223Z"
   },
   {
    "duration": 40,
    "start_time": "2022-03-21T11:02:41.588Z"
   },
   {
    "duration": 63,
    "start_time": "2022-03-21T11:03:00.057Z"
   },
   {
    "duration": 46,
    "start_time": "2022-03-21T11:03:16.318Z"
   },
   {
    "duration": 105,
    "start_time": "2022-03-21T11:05:42.340Z"
   },
   {
    "duration": 120,
    "start_time": "2022-03-21T11:05:50.571Z"
   },
   {
    "duration": 309,
    "start_time": "2022-03-21T11:06:02.220Z"
   },
   {
    "duration": 121,
    "start_time": "2022-03-21T11:07:11.876Z"
   },
   {
    "duration": 30,
    "start_time": "2022-03-21T11:07:16.899Z"
   },
   {
    "duration": 100,
    "start_time": "2022-03-21T11:07:36.031Z"
   },
   {
    "duration": 30,
    "start_time": "2022-03-21T11:07:42.658Z"
   },
   {
    "duration": 32,
    "start_time": "2022-03-21T11:08:10.944Z"
   },
   {
    "duration": 34,
    "start_time": "2022-03-21T11:09:28.807Z"
   },
   {
    "duration": 33,
    "start_time": "2022-03-21T11:09:49.780Z"
   },
   {
    "duration": 34,
    "start_time": "2022-03-21T11:10:04.267Z"
   },
   {
    "duration": 35,
    "start_time": "2022-03-21T11:10:11.902Z"
   },
   {
    "duration": 48,
    "start_time": "2022-03-21T11:10:38.555Z"
   },
   {
    "duration": 34,
    "start_time": "2022-03-21T11:10:55.916Z"
   },
   {
    "duration": 99,
    "start_time": "2022-03-21T11:14:26.720Z"
   },
   {
    "duration": 37,
    "start_time": "2022-03-21T11:14:31.195Z"
   },
   {
    "duration": 32,
    "start_time": "2022-03-21T11:14:44.362Z"
   },
   {
    "duration": 24,
    "start_time": "2022-03-21T11:14:55.094Z"
   },
   {
    "duration": 32,
    "start_time": "2022-03-21T11:15:12.060Z"
   },
   {
    "duration": 35,
    "start_time": "2022-03-21T11:15:49.643Z"
   },
   {
    "duration": 33,
    "start_time": "2022-03-21T11:16:09.005Z"
   },
   {
    "duration": 68,
    "start_time": "2022-03-21T11:20:28.246Z"
   },
   {
    "duration": 29,
    "start_time": "2022-03-21T11:21:29.340Z"
   },
   {
    "duration": 43,
    "start_time": "2022-03-21T11:21:47.927Z"
   },
   {
    "duration": 31,
    "start_time": "2022-03-21T11:22:08.308Z"
   },
   {
    "duration": 51,
    "start_time": "2022-03-21T11:22:41.903Z"
   },
   {
    "duration": 18,
    "start_time": "2022-03-21T11:24:09.193Z"
   },
   {
    "duration": 13,
    "start_time": "2022-03-21T11:24:24.674Z"
   },
   {
    "duration": 12,
    "start_time": "2022-03-21T11:25:46.954Z"
   },
   {
    "duration": 15,
    "start_time": "2022-03-21T11:26:09.342Z"
   },
   {
    "duration": 11,
    "start_time": "2022-03-21T11:26:25.990Z"
   },
   {
    "duration": 6,
    "start_time": "2022-03-21T11:26:32.764Z"
   },
   {
    "duration": 11,
    "start_time": "2022-03-21T11:26:48.132Z"
   },
   {
    "duration": 13,
    "start_time": "2022-03-21T11:27:12.129Z"
   },
   {
    "duration": 10,
    "start_time": "2022-03-21T11:27:26.959Z"
   },
   {
    "duration": 10,
    "start_time": "2022-03-21T11:27:58.551Z"
   },
   {
    "duration": 6,
    "start_time": "2022-03-21T11:29:00.565Z"
   },
   {
    "duration": 20,
    "start_time": "2022-03-21T11:29:13.447Z"
   },
   {
    "duration": 48,
    "start_time": "2022-03-21T11:30:04.968Z"
   },
   {
    "duration": 48,
    "start_time": "2022-03-21T11:30:09.407Z"
   },
   {
    "duration": 49,
    "start_time": "2022-03-21T11:30:38.776Z"
   },
   {
    "duration": 119,
    "start_time": "2022-03-21T11:32:54.821Z"
   },
   {
    "duration": 12,
    "start_time": "2022-03-21T11:33:06.185Z"
   },
   {
    "duration": 34,
    "start_time": "2022-03-21T11:33:31.402Z"
   },
   {
    "duration": 33,
    "start_time": "2022-03-21T11:35:30.484Z"
   },
   {
    "duration": 48,
    "start_time": "2022-03-21T11:36:51.637Z"
   },
   {
    "duration": 49,
    "start_time": "2022-03-21T11:37:23.144Z"
   },
   {
    "duration": 31,
    "start_time": "2022-03-21T11:37:46.648Z"
   },
   {
    "duration": 536,
    "start_time": "2022-03-21T11:39:14.947Z"
   },
   {
    "duration": 462,
    "start_time": "2022-03-21T11:39:32.878Z"
   },
   {
    "duration": 21,
    "start_time": "2022-03-21T11:40:45.690Z"
   },
   {
    "duration": 16,
    "start_time": "2022-03-21T11:40:58.099Z"
   },
   {
    "duration": 21,
    "start_time": "2022-03-21T11:41:14.754Z"
   },
   {
    "duration": 23,
    "start_time": "2022-03-21T11:47:05.270Z"
   },
   {
    "duration": 19,
    "start_time": "2022-03-21T11:47:57.562Z"
   },
   {
    "duration": 95,
    "start_time": "2022-03-21T11:49:08.788Z"
   },
   {
    "duration": 18,
    "start_time": "2022-03-21T11:49:14.949Z"
   },
   {
    "duration": 25,
    "start_time": "2022-03-21T11:49:49.924Z"
   },
   {
    "duration": 21,
    "start_time": "2022-03-21T11:50:23.520Z"
   },
   {
    "duration": 25,
    "start_time": "2022-03-21T11:50:57.348Z"
   },
   {
    "duration": 32,
    "start_time": "2022-03-21T11:51:43.593Z"
   },
   {
    "duration": 21,
    "start_time": "2022-03-21T11:52:16.890Z"
   },
   {
    "duration": 23,
    "start_time": "2022-03-21T11:53:02.273Z"
   },
   {
    "duration": 22,
    "start_time": "2022-03-21T11:53:17.132Z"
   },
   {
    "duration": 19,
    "start_time": "2022-03-21T11:53:33.610Z"
   },
   {
    "duration": 22,
    "start_time": "2022-03-21T11:53:57.379Z"
   },
   {
    "duration": 23,
    "start_time": "2022-03-21T11:54:20.140Z"
   },
   {
    "duration": 963,
    "start_time": "2022-03-21T11:56:21.369Z"
   },
   {
    "duration": 107,
    "start_time": "2022-03-21T11:56:44.978Z"
   },
   {
    "duration": 19,
    "start_time": "2022-03-21T11:57:30.202Z"
   },
   {
    "duration": 30,
    "start_time": "2022-03-21T11:58:32.744Z"
   },
   {
    "duration": 23,
    "start_time": "2022-03-21T11:59:09.569Z"
   },
   {
    "duration": 108,
    "start_time": "2022-03-21T11:59:50.466Z"
   },
   {
    "duration": 45,
    "start_time": "2022-03-21T11:59:58.534Z"
   },
   {
    "duration": 90,
    "start_time": "2022-03-21T12:01:04.109Z"
   },
   {
    "duration": 24,
    "start_time": "2022-03-21T12:02:31.587Z"
   },
   {
    "duration": 23,
    "start_time": "2022-03-21T12:02:48.464Z"
   },
   {
    "duration": 23,
    "start_time": "2022-03-21T12:07:44.515Z"
   },
   {
    "duration": 41,
    "start_time": "2022-03-21T12:09:23.808Z"
   },
   {
    "duration": 34,
    "start_time": "2022-03-21T12:09:34.407Z"
   },
   {
    "duration": 1482,
    "start_time": "2022-03-21T12:15:22.404Z"
   },
   {
    "duration": 28,
    "start_time": "2022-03-21T12:15:50.875Z"
   },
   {
    "duration": 5,
    "start_time": "2022-03-21T12:22:01.770Z"
   },
   {
    "duration": 102,
    "start_time": "2022-03-21T12:22:25.523Z"
   },
   {
    "duration": 13,
    "start_time": "2022-03-21T12:22:35.884Z"
   },
   {
    "duration": 6,
    "start_time": "2022-03-21T12:22:49.996Z"
   },
   {
    "duration": 19,
    "start_time": "2022-03-21T12:22:50.945Z"
   },
   {
    "duration": 6,
    "start_time": "2022-03-21T12:23:33.575Z"
   },
   {
    "duration": 25,
    "start_time": "2022-03-21T12:23:35.954Z"
   },
   {
    "duration": 6,
    "start_time": "2022-03-21T12:23:50.984Z"
   },
   {
    "duration": 22,
    "start_time": "2022-03-21T12:23:51.804Z"
   },
   {
    "duration": 7,
    "start_time": "2022-03-21T12:24:25.435Z"
   },
   {
    "duration": 20,
    "start_time": "2022-03-21T12:24:26.961Z"
   },
   {
    "duration": 52,
    "start_time": "2022-03-21T12:25:22.292Z"
   },
   {
    "duration": 52,
    "start_time": "2022-03-21T12:25:26.933Z"
   },
   {
    "duration": 14,
    "start_time": "2022-03-21T12:26:45.823Z"
   },
   {
    "duration": 15,
    "start_time": "2022-03-21T12:26:53.848Z"
   },
   {
    "duration": 12,
    "start_time": "2022-03-21T12:27:04.022Z"
   },
   {
    "duration": 14,
    "start_time": "2022-03-21T12:27:07.920Z"
   },
   {
    "duration": 19,
    "start_time": "2022-03-21T12:27:49.853Z"
   },
   {
    "duration": 4,
    "start_time": "2022-03-21T12:34:12.605Z"
   },
   {
    "duration": 349,
    "start_time": "2022-03-21T12:34:38.287Z"
   },
   {
    "duration": 21,
    "start_time": "2022-03-21T12:34:55.278Z"
   },
   {
    "duration": 252,
    "start_time": "2022-03-21T12:35:13.131Z"
   },
   {
    "duration": 30,
    "start_time": "2022-03-21T12:35:48.011Z"
   },
   {
    "duration": 34,
    "start_time": "2022-03-21T12:36:15.949Z"
   },
   {
    "duration": 37,
    "start_time": "2022-03-21T12:37:03.847Z"
   },
   {
    "duration": 46,
    "start_time": "2022-03-21T12:37:22.077Z"
   },
   {
    "duration": 424,
    "start_time": "2022-03-21T12:37:38.285Z"
   },
   {
    "duration": 350,
    "start_time": "2022-03-21T12:37:53.969Z"
   },
   {
    "duration": 5,
    "start_time": "2022-03-21T12:42:20.726Z"
   },
   {
    "duration": 20,
    "start_time": "2022-03-21T12:42:22.430Z"
   },
   {
    "duration": 11,
    "start_time": "2022-03-21T12:43:16.263Z"
   },
   {
    "duration": 4,
    "start_time": "2022-03-21T12:43:18.039Z"
   },
   {
    "duration": 20,
    "start_time": "2022-03-21T12:43:18.342Z"
   },
   {
    "duration": 21,
    "start_time": "2022-03-21T12:43:26.843Z"
   },
   {
    "duration": 19,
    "start_time": "2022-03-21T12:44:17.223Z"
   },
   {
    "duration": 19,
    "start_time": "2022-03-21T12:45:51.905Z"
   },
   {
    "duration": 24,
    "start_time": "2022-03-21T12:46:27.264Z"
   },
   {
    "duration": 36,
    "start_time": "2022-03-21T12:47:04.549Z"
   },
   {
    "duration": 25,
    "start_time": "2022-03-21T12:47:41.012Z"
   },
   {
    "duration": 39,
    "start_time": "2022-03-21T12:52:19.005Z"
   },
   {
    "duration": 20,
    "start_time": "2022-03-21T12:55:08.437Z"
   },
   {
    "duration": 29,
    "start_time": "2022-03-21T13:04:03.696Z"
   },
   {
    "duration": 230,
    "start_time": "2022-03-21T13:09:17.876Z"
   },
   {
    "duration": 321,
    "start_time": "2022-03-21T13:11:19.112Z"
   },
   {
    "duration": 434,
    "start_time": "2022-03-21T13:12:00.240Z"
   },
   {
    "duration": 271,
    "start_time": "2022-03-21T13:12:12.480Z"
   },
   {
    "duration": 12,
    "start_time": "2022-03-21T13:12:26.726Z"
   },
   {
    "duration": 369,
    "start_time": "2022-03-21T13:12:32.256Z"
   },
   {
    "duration": 270,
    "start_time": "2022-03-21T13:12:40.381Z"
   },
   {
    "duration": 254,
    "start_time": "2022-03-21T13:12:54.007Z"
   },
   {
    "duration": 249,
    "start_time": "2022-03-21T13:13:10.180Z"
   },
   {
    "duration": 33,
    "start_time": "2022-03-21T13:13:44.510Z"
   },
   {
    "duration": 19,
    "start_time": "2022-03-21T13:16:07.285Z"
   },
   {
    "duration": 22,
    "start_time": "2022-03-21T13:18:02.337Z"
   },
   {
    "duration": 20,
    "start_time": "2022-03-21T13:19:53.193Z"
   },
   {
    "duration": 28,
    "start_time": "2022-03-21T13:21:37.438Z"
   },
   {
    "duration": 20,
    "start_time": "2022-03-21T13:23:31.713Z"
   },
   {
    "duration": 28,
    "start_time": "2022-03-21T13:26:08.480Z"
   },
   {
    "duration": 21,
    "start_time": "2022-03-21T13:28:09.665Z"
   },
   {
    "duration": 20,
    "start_time": "2022-03-21T13:30:09.025Z"
   },
   {
    "duration": 22,
    "start_time": "2022-03-21T13:31:46.411Z"
   },
   {
    "duration": 21,
    "start_time": "2022-03-21T13:32:36.733Z"
   },
   {
    "duration": 27,
    "start_time": "2022-03-21T13:32:37.258Z"
   },
   {
    "duration": 25,
    "start_time": "2022-03-21T13:33:08.179Z"
   },
   {
    "duration": 22,
    "start_time": "2022-03-21T13:33:13.651Z"
   },
   {
    "duration": 20,
    "start_time": "2022-03-21T13:33:33.845Z"
   },
   {
    "duration": 26,
    "start_time": "2022-03-21T13:33:43.516Z"
   },
   {
    "duration": 33,
    "start_time": "2022-03-21T13:34:31.978Z"
   },
   {
    "duration": 262,
    "start_time": "2022-03-21T13:36:41.585Z"
   },
   {
    "duration": 2335,
    "start_time": "2022-03-22T06:15:12.133Z"
   },
   {
    "duration": 2555,
    "start_time": "2022-03-22T06:15:14.472Z"
   },
   {
    "duration": 39,
    "start_time": "2022-03-22T06:15:17.030Z"
   },
   {
    "duration": 16,
    "start_time": "2022-03-22T06:15:17.072Z"
   },
   {
    "duration": 12,
    "start_time": "2022-03-22T06:15:17.092Z"
   },
   {
    "duration": 68,
    "start_time": "2022-03-22T06:15:17.107Z"
   },
   {
    "duration": 7,
    "start_time": "2022-03-22T06:15:17.177Z"
   },
   {
    "duration": 8,
    "start_time": "2022-03-22T06:15:17.187Z"
   },
   {
    "duration": 9,
    "start_time": "2022-03-22T06:15:17.197Z"
   },
   {
    "duration": 80,
    "start_time": "2022-03-22T06:15:17.208Z"
   },
   {
    "duration": 7,
    "start_time": "2022-03-22T06:15:17.291Z"
   },
   {
    "duration": 26,
    "start_time": "2022-03-22T06:15:17.300Z"
   },
   {
    "duration": 11,
    "start_time": "2022-03-22T06:15:17.328Z"
   },
   {
    "duration": 8,
    "start_time": "2022-03-22T06:15:17.369Z"
   },
   {
    "duration": 12,
    "start_time": "2022-03-22T06:15:17.379Z"
   },
   {
    "duration": 7,
    "start_time": "2022-03-22T06:15:17.394Z"
   },
   {
    "duration": 8,
    "start_time": "2022-03-22T06:15:17.404Z"
   },
   {
    "duration": 8,
    "start_time": "2022-03-22T06:15:17.414Z"
   },
   {
    "duration": 50,
    "start_time": "2022-03-22T06:15:17.424Z"
   },
   {
    "duration": 12,
    "start_time": "2022-03-22T06:15:17.476Z"
   },
   {
    "duration": 22,
    "start_time": "2022-03-22T06:15:17.490Z"
   },
   {
    "duration": 58,
    "start_time": "2022-03-22T06:15:17.515Z"
   },
   {
    "duration": 10,
    "start_time": "2022-03-22T06:15:17.576Z"
   },
   {
    "duration": 16,
    "start_time": "2022-03-22T06:15:17.589Z"
   },
   {
    "duration": 10,
    "start_time": "2022-03-22T06:15:17.607Z"
   },
   {
    "duration": 55,
    "start_time": "2022-03-22T06:15:17.620Z"
   },
   {
    "duration": 61,
    "start_time": "2022-03-22T06:15:17.677Z"
   },
   {
    "duration": 29,
    "start_time": "2022-03-22T06:15:17.740Z"
   },
   {
    "duration": 10,
    "start_time": "2022-03-22T06:15:17.771Z"
   },
   {
    "duration": 8,
    "start_time": "2022-03-22T06:15:17.783Z"
   },
   {
    "duration": 14,
    "start_time": "2022-03-22T06:15:17.794Z"
   },
   {
    "duration": 116,
    "start_time": "2022-03-22T06:15:17.810Z"
   },
   {
    "duration": 7,
    "start_time": "2022-03-22T06:15:17.928Z"
   },
   {
    "duration": 33,
    "start_time": "2022-03-22T06:15:17.937Z"
   },
   {
    "duration": 11,
    "start_time": "2022-03-22T06:15:17.973Z"
   },
   {
    "duration": 10,
    "start_time": "2022-03-22T06:15:17.986Z"
   },
   {
    "duration": 8,
    "start_time": "2022-03-22T06:15:17.998Z"
   },
   {
    "duration": 9,
    "start_time": "2022-03-22T06:15:18.008Z"
   },
   {
    "duration": 50,
    "start_time": "2022-03-22T06:15:18.020Z"
   },
   {
    "duration": 29,
    "start_time": "2022-03-22T06:15:18.072Z"
   },
   {
    "duration": 7,
    "start_time": "2022-03-22T06:15:18.108Z"
   },
   {
    "duration": 12,
    "start_time": "2022-03-22T06:15:18.117Z"
   },
   {
    "duration": 8,
    "start_time": "2022-03-22T06:15:18.168Z"
   },
   {
    "duration": 10,
    "start_time": "2022-03-22T06:15:18.178Z"
   },
   {
    "duration": 8,
    "start_time": "2022-03-22T06:15:18.190Z"
   },
   {
    "duration": 11,
    "start_time": "2022-03-22T06:15:18.201Z"
   },
   {
    "duration": 8,
    "start_time": "2022-03-22T06:15:18.215Z"
   },
   {
    "duration": 12,
    "start_time": "2022-03-22T06:15:18.269Z"
   },
   {
    "duration": 9,
    "start_time": "2022-03-22T06:15:18.284Z"
   },
   {
    "duration": 8,
    "start_time": "2022-03-22T06:15:18.296Z"
   },
   {
    "duration": 65,
    "start_time": "2022-03-22T06:15:18.307Z"
   },
   {
    "duration": 12,
    "start_time": "2022-03-22T06:15:18.375Z"
   },
   {
    "duration": 10,
    "start_time": "2022-03-22T06:15:18.390Z"
   },
   {
    "duration": 12,
    "start_time": "2022-03-22T06:15:18.403Z"
   },
   {
    "duration": 55,
    "start_time": "2022-03-22T06:15:18.418Z"
   },
   {
    "duration": 16,
    "start_time": "2022-03-22T06:15:18.477Z"
   },
   {
    "duration": 37,
    "start_time": "2022-03-22T06:15:18.496Z"
   },
   {
    "duration": 11,
    "start_time": "2022-03-22T06:15:18.567Z"
   },
   {
    "duration": 8,
    "start_time": "2022-03-22T06:15:18.580Z"
   },
   {
    "duration": 11,
    "start_time": "2022-03-22T06:15:18.591Z"
   },
   {
    "duration": 10,
    "start_time": "2022-03-22T06:15:18.605Z"
   },
   {
    "duration": 81,
    "start_time": "2022-03-22T06:15:18.617Z"
   },
   {
    "duration": 7,
    "start_time": "2022-03-22T06:15:18.700Z"
   },
   {
    "duration": 9,
    "start_time": "2022-03-22T06:15:18.709Z"
   },
   {
    "duration": 13,
    "start_time": "2022-03-22T06:15:18.720Z"
   },
   {
    "duration": 35,
    "start_time": "2022-03-22T06:15:18.736Z"
   },
   {
    "duration": 8,
    "start_time": "2022-03-22T06:15:18.774Z"
   },
   {
    "duration": 2686,
    "start_time": "2022-03-22T06:15:18.785Z"
   },
   {
    "duration": 17,
    "start_time": "2022-03-22T06:15:21.474Z"
   },
   {
    "duration": 12,
    "start_time": "2022-03-22T06:15:21.494Z"
   },
   {
    "duration": 11,
    "start_time": "2022-03-22T06:15:21.509Z"
   },
   {
    "duration": 5,
    "start_time": "2022-03-22T06:15:21.522Z"
   },
   {
    "duration": 7,
    "start_time": "2022-03-22T06:15:21.568Z"
   },
   {
    "duration": 66,
    "start_time": "2022-03-22T06:15:21.578Z"
   },
   {
    "duration": 24,
    "start_time": "2022-03-22T06:15:21.647Z"
   },
   {
    "duration": 450,
    "start_time": "2022-03-22T06:15:21.673Z"
   },
   {
    "duration": 47,
    "start_time": "2022-03-22T06:15:22.125Z"
   },
   {
    "duration": 295,
    "start_time": "2022-03-22T06:15:22.174Z"
   },
   {
    "duration": 7,
    "start_time": "2022-03-22T06:15:22.471Z"
   },
   {
    "duration": 6,
    "start_time": "2022-03-22T06:15:22.480Z"
   },
   {
    "duration": 11,
    "start_time": "2022-03-22T06:15:22.489Z"
   },
   {
    "duration": 40,
    "start_time": "2022-03-22T06:17:10.164Z"
   },
   {
    "duration": 269,
    "start_time": "2022-03-22T06:18:52.432Z"
   },
   {
    "duration": 163,
    "start_time": "2022-03-22T06:21:15.501Z"
   },
   {
    "duration": 15,
    "start_time": "2022-03-22T06:21:22.192Z"
   },
   {
    "duration": 16,
    "start_time": "2022-03-22T06:22:07.163Z"
   },
   {
    "duration": 44,
    "start_time": "2022-03-22T06:22:38.891Z"
   },
   {
    "duration": 8,
    "start_time": "2022-03-22T06:25:37.271Z"
   },
   {
    "duration": 4,
    "start_time": "2022-03-22T06:26:23.583Z"
   },
   {
    "duration": 8,
    "start_time": "2022-03-22T06:26:40.243Z"
   },
   {
    "duration": 1720,
    "start_time": "2022-03-22T06:27:25.584Z"
   },
   {
    "duration": 5,
    "start_time": "2022-03-22T06:28:37.111Z"
   },
   {
    "duration": 10,
    "start_time": "2022-03-22T06:28:39.103Z"
   },
   {
    "duration": 2424,
    "start_time": "2022-03-22T06:28:40.403Z"
   },
   {
    "duration": 4,
    "start_time": "2022-03-22T06:28:59.111Z"
   },
   {
    "duration": 7,
    "start_time": "2022-03-22T06:28:59.591Z"
   },
   {
    "duration": 1419,
    "start_time": "2022-03-22T06:28:59.902Z"
   },
   {
    "duration": 6,
    "start_time": "2022-03-22T06:29:21.911Z"
   },
   {
    "duration": 7,
    "start_time": "2022-03-22T06:29:22.403Z"
   },
   {
    "duration": 741,
    "start_time": "2022-03-22T06:29:23.063Z"
   },
   {
    "duration": 5,
    "start_time": "2022-03-22T06:29:36.451Z"
   },
   {
    "duration": 7,
    "start_time": "2022-03-22T06:29:36.951Z"
   },
   {
    "duration": 620,
    "start_time": "2022-03-22T06:29:37.623Z"
   },
   {
    "duration": 6,
    "start_time": "2022-03-22T06:29:47.571Z"
   },
   {
    "duration": 9,
    "start_time": "2022-03-22T06:29:47.833Z"
   },
   {
    "duration": 29,
    "start_time": "2022-03-22T06:29:48.563Z"
   },
   {
    "duration": 42,
    "start_time": "2022-03-22T06:34:35.472Z"
   },
   {
    "duration": 45,
    "start_time": "2022-03-22T06:41:46.943Z"
   },
   {
    "duration": 41,
    "start_time": "2022-03-22T06:43:49.871Z"
   },
   {
    "duration": 38,
    "start_time": "2022-03-22T06:44:39.571Z"
   },
   {
    "duration": 40,
    "start_time": "2022-03-22T06:47:51.332Z"
   },
   {
    "duration": 47,
    "start_time": "2022-03-22T06:50:22.171Z"
   },
   {
    "duration": 39,
    "start_time": "2022-03-22T06:52:28.173Z"
   },
   {
    "duration": 4,
    "start_time": "2022-03-22T06:58:30.791Z"
   },
   {
    "duration": 238,
    "start_time": "2022-03-22T07:02:48.091Z"
   },
   {
    "duration": 349,
    "start_time": "2022-03-22T07:03:06.584Z"
   },
   {
    "duration": 235,
    "start_time": "2022-03-22T07:04:01.493Z"
   },
   {
    "duration": 40,
    "start_time": "2022-03-22T07:40:43.581Z"
   },
   {
    "duration": 6,
    "start_time": "2022-03-22T08:02:04.492Z"
   },
   {
    "duration": 6,
    "start_time": "2022-03-22T08:02:05.194Z"
   },
   {
    "duration": 136,
    "start_time": "2022-03-22T08:02:05.762Z"
   },
   {
    "duration": 4,
    "start_time": "2022-03-22T08:02:38.937Z"
   },
   {
    "duration": 4,
    "start_time": "2022-03-22T08:02:39.641Z"
   },
   {
    "duration": 4,
    "start_time": "2022-03-22T08:03:00.064Z"
   },
   {
    "duration": 3,
    "start_time": "2022-03-22T08:03:01.506Z"
   },
   {
    "duration": 740315,
    "start_time": "2022-03-22T08:03:04.030Z"
   },
   {
    "duration": 6,
    "start_time": "2022-03-22T08:16:26.475Z"
   },
   {
    "duration": 85126,
    "start_time": "2022-03-22T08:16:33.364Z"
   },
   {
    "duration": 0,
    "start_time": "2022-03-22T08:17:58.494Z"
   },
   {
    "duration": 292141,
    "start_time": "2022-03-22T08:18:02.367Z"
   },
   {
    "duration": 151591,
    "start_time": "2022-03-22T08:22:54.512Z"
   },
   {
    "duration": 4,
    "start_time": "2022-03-22T08:28:46.325Z"
   },
   {
    "duration": 4,
    "start_time": "2022-03-22T08:28:46.510Z"
   },
   {
    "duration": 4,
    "start_time": "2022-03-22T08:28:46.788Z"
   },
   {
    "duration": 488676,
    "start_time": "2022-03-22T08:28:46.899Z"
   },
   {
    "duration": 5,
    "start_time": "2022-03-22T08:36:55.577Z"
   },
   {
    "duration": 288091,
    "start_time": "2022-03-22T08:37:42.725Z"
   },
   {
    "duration": 152363,
    "start_time": "2022-03-22T08:42:30.819Z"
   },
   {
    "duration": 10,
    "start_time": "2022-03-22T08:47:09.061Z"
   },
   {
    "duration": 6,
    "start_time": "2022-03-22T08:47:23.558Z"
   },
   {
    "duration": 6,
    "start_time": "2022-03-22T08:47:32.075Z"
   },
   {
    "duration": 2330,
    "start_time": "2022-03-22T09:02:53.259Z"
   },
   {
    "duration": 330,
    "start_time": "2022-03-22T09:02:55.593Z"
   },
   {
    "duration": 48,
    "start_time": "2022-03-22T09:02:55.925Z"
   },
   {
    "duration": 16,
    "start_time": "2022-03-22T09:02:55.977Z"
   },
   {
    "duration": 13,
    "start_time": "2022-03-22T09:02:55.995Z"
   },
   {
    "duration": 73,
    "start_time": "2022-03-22T09:02:56.011Z"
   },
   {
    "duration": 8,
    "start_time": "2022-03-22T09:02:56.087Z"
   },
   {
    "duration": 10,
    "start_time": "2022-03-22T09:02:56.098Z"
   },
   {
    "duration": 10,
    "start_time": "2022-03-22T09:02:56.110Z"
   },
   {
    "duration": 89,
    "start_time": "2022-03-22T09:02:56.126Z"
   },
   {
    "duration": 9,
    "start_time": "2022-03-22T09:02:56.218Z"
   },
   {
    "duration": 39,
    "start_time": "2022-03-22T09:02:56.230Z"
   },
   {
    "duration": 9,
    "start_time": "2022-03-22T09:02:56.271Z"
   },
   {
    "duration": 10,
    "start_time": "2022-03-22T09:02:56.282Z"
   },
   {
    "duration": 10,
    "start_time": "2022-03-22T09:02:56.294Z"
   },
   {
    "duration": 8,
    "start_time": "2022-03-22T09:02:56.307Z"
   },
   {
    "duration": 9,
    "start_time": "2022-03-22T09:02:56.368Z"
   },
   {
    "duration": 8,
    "start_time": "2022-03-22T09:02:56.379Z"
   },
   {
    "duration": 10,
    "start_time": "2022-03-22T09:02:56.390Z"
   },
   {
    "duration": 11,
    "start_time": "2022-03-22T09:02:56.402Z"
   },
   {
    "duration": 16,
    "start_time": "2022-03-22T09:02:56.469Z"
   },
   {
    "duration": 16,
    "start_time": "2022-03-22T09:02:56.488Z"
   },
   {
    "duration": 10,
    "start_time": "2022-03-22T09:02:56.507Z"
   },
   {
    "duration": 53,
    "start_time": "2022-03-22T09:02:56.520Z"
   },
   {
    "duration": 11,
    "start_time": "2022-03-22T09:02:56.576Z"
   },
   {
    "duration": 15,
    "start_time": "2022-03-22T09:02:56.589Z"
   },
   {
    "duration": 101,
    "start_time": "2022-03-22T09:02:56.607Z"
   },
   {
    "duration": 10,
    "start_time": "2022-03-22T09:02:56.716Z"
   },
   {
    "duration": 39,
    "start_time": "2022-03-22T09:02:56.728Z"
   },
   {
    "duration": 12,
    "start_time": "2022-03-22T09:02:56.771Z"
   },
   {
    "duration": 16,
    "start_time": "2022-03-22T09:02:56.786Z"
   },
   {
    "duration": 145,
    "start_time": "2022-03-22T09:02:56.805Z"
   },
   {
    "duration": 17,
    "start_time": "2022-03-22T09:02:56.953Z"
   },
   {
    "duration": 11,
    "start_time": "2022-03-22T09:02:56.973Z"
   },
   {
    "duration": 16,
    "start_time": "2022-03-22T09:02:56.987Z"
   },
   {
    "duration": 14,
    "start_time": "2022-03-22T09:02:57.006Z"
   },
   {
    "duration": 47,
    "start_time": "2022-03-22T09:02:57.023Z"
   },
   {
    "duration": 13,
    "start_time": "2022-03-22T09:02:57.073Z"
   },
   {
    "duration": 10,
    "start_time": "2022-03-22T09:02:57.088Z"
   },
   {
    "duration": 82,
    "start_time": "2022-03-22T09:02:57.101Z"
   },
   {
    "duration": 10,
    "start_time": "2022-03-22T09:02:57.186Z"
   },
   {
    "duration": 16,
    "start_time": "2022-03-22T09:02:57.200Z"
   },
   {
    "duration": 56,
    "start_time": "2022-03-22T09:02:57.219Z"
   },
   {
    "duration": 9,
    "start_time": "2022-03-22T09:02:57.278Z"
   },
   {
    "duration": 11,
    "start_time": "2022-03-22T09:02:57.290Z"
   },
   {
    "duration": 8,
    "start_time": "2022-03-22T09:02:57.303Z"
   },
   {
    "duration": 57,
    "start_time": "2022-03-22T09:02:57.314Z"
   },
   {
    "duration": 12,
    "start_time": "2022-03-22T09:02:57.373Z"
   },
   {
    "duration": 10,
    "start_time": "2022-03-22T09:02:57.388Z"
   },
   {
    "duration": 10,
    "start_time": "2022-03-22T09:02:57.402Z"
   },
   {
    "duration": 63,
    "start_time": "2022-03-22T09:02:57.415Z"
   },
   {
    "duration": 15,
    "start_time": "2022-03-22T09:02:57.480Z"
   },
   {
    "duration": 15,
    "start_time": "2022-03-22T09:02:57.499Z"
   },
   {
    "duration": 53,
    "start_time": "2022-03-22T09:02:57.517Z"
   },
   {
    "duration": 11,
    "start_time": "2022-03-22T09:02:57.573Z"
   },
   {
    "duration": 17,
    "start_time": "2022-03-22T09:02:57.586Z"
   },
   {
    "duration": 95,
    "start_time": "2022-03-22T09:02:57.606Z"
   },
   {
    "duration": 12,
    "start_time": "2022-03-22T09:02:57.703Z"
   },
   {
    "duration": 16,
    "start_time": "2022-03-22T09:02:57.718Z"
   },
   {
    "duration": 44,
    "start_time": "2022-03-22T09:02:57.737Z"
   },
   {
    "duration": 26,
    "start_time": "2022-03-22T09:02:57.785Z"
   },
   {
    "duration": 63,
    "start_time": "2022-03-22T09:02:57.815Z"
   },
   {
    "duration": 11,
    "start_time": "2022-03-22T09:02:57.882Z"
   },
   {
    "duration": 11,
    "start_time": "2022-03-22T09:02:57.896Z"
   },
   {
    "duration": 17,
    "start_time": "2022-03-22T09:02:57.910Z"
   },
   {
    "duration": 40,
    "start_time": "2022-03-22T09:02:57.931Z"
   },
   {
    "duration": 8,
    "start_time": "2022-03-22T09:02:57.974Z"
   },
   {
    "duration": 5401,
    "start_time": "2022-03-22T09:02:57.985Z"
   },
   {
    "duration": 20,
    "start_time": "2022-03-22T09:03:03.389Z"
   },
   {
    "duration": 16,
    "start_time": "2022-03-22T09:03:03.412Z"
   },
   {
    "duration": 47,
    "start_time": "2022-03-22T09:03:03.432Z"
   },
   {
    "duration": 6,
    "start_time": "2022-03-22T09:03:03.482Z"
   },
   {
    "duration": 24,
    "start_time": "2022-03-22T09:03:03.492Z"
   },
   {
    "duration": 100,
    "start_time": "2022-03-22T09:03:03.519Z"
   },
   {
    "duration": 10,
    "start_time": "2022-03-22T09:03:03.624Z"
   },
   {
    "duration": 592,
    "start_time": "2022-03-22T09:03:03.637Z"
   },
   {
    "duration": 62,
    "start_time": "2022-03-22T09:03:04.232Z"
   },
   {
    "duration": 239,
    "start_time": "2022-03-22T09:03:04.297Z"
   },
   {
    "duration": 7,
    "start_time": "2022-03-22T09:03:04.538Z"
   },
   {
    "duration": 24,
    "start_time": "2022-03-22T09:03:04.548Z"
   },
   {
    "duration": 16,
    "start_time": "2022-03-22T09:03:04.574Z"
   },
   {
    "duration": 5,
    "start_time": "2022-03-22T09:03:04.607Z"
   },
   {
    "duration": 6,
    "start_time": "2022-03-22T09:03:04.615Z"
   },
   {
    "duration": 319474,
    "start_time": "2022-03-22T09:03:04.623Z"
   },
   {
    "duration": 7,
    "start_time": "2022-03-22T09:08:24.100Z"
   },
   {
    "duration": 9,
    "start_time": "2022-03-22T09:08:24.109Z"
   },
   {
    "duration": 1398,
    "start_time": "2022-03-22T09:08:24.121Z"
   },
   {
    "duration": 1517,
    "start_time": "2022-03-22T09:08:25.522Z"
   },
   {
    "duration": 222069,
    "start_time": "2022-03-22T09:08:27.041Z"
   },
   {
    "duration": 164,
    "start_time": "2022-03-22T09:12:09.113Z"
   },
   {
    "duration": 695,
    "start_time": "2022-03-22T09:12:09.280Z"
   },
   {
    "duration": 1314,
    "start_time": "2022-03-22T09:12:09.978Z"
   },
   {
    "duration": 5,
    "start_time": "2022-03-22T09:12:11.295Z"
   },
   {
    "duration": 11,
    "start_time": "2022-03-22T09:12:11.303Z"
   },
   {
    "duration": 489988,
    "start_time": "2022-03-22T09:12:11.317Z"
   },
   {
    "duration": 6,
    "start_time": "2022-03-22T09:20:21.307Z"
   },
   {
    "duration": 17,
    "start_time": "2022-03-22T09:20:21.316Z"
   },
   {
    "duration": 299791,
    "start_time": "2022-03-22T09:20:21.336Z"
   },
   {
    "duration": 153516,
    "start_time": "2022-03-22T09:25:21.129Z"
   },
   {
    "duration": 5,
    "start_time": "2022-03-22T09:27:54.647Z"
   },
   {
    "duration": 6,
    "start_time": "2022-03-22T09:27:54.666Z"
   },
   {
    "duration": 8,
    "start_time": "2022-03-22T09:27:54.676Z"
   },
   {
    "duration": 35,
    "start_time": "2022-03-22T09:27:54.687Z"
   },
   {
    "duration": 73,
    "start_time": "2022-03-22T09:27:54.725Z"
   },
   {
    "duration": 21,
    "start_time": "2022-03-22T09:27:54.800Z"
   },
   {
    "duration": 69,
    "start_time": "2022-03-22T09:27:54.823Z"
   },
   {
    "duration": 20,
    "start_time": "2022-03-22T09:27:54.894Z"
   },
   {
    "duration": 52,
    "start_time": "2022-03-22T09:27:54.917Z"
   },
   {
    "duration": 25,
    "start_time": "2022-03-22T09:27:54.972Z"
   },
   {
    "duration": 39,
    "start_time": "2022-03-22T09:27:55.000Z"
   },
   {
    "duration": 51,
    "start_time": "2022-03-22T09:27:55.042Z"
   },
   {
    "duration": 21,
    "start_time": "2022-03-22T09:27:55.095Z"
   },
   {
    "duration": 304,
    "start_time": "2022-03-22T09:27:55.118Z"
   },
   {
    "duration": 48,
    "start_time": "2022-03-22T09:27:55.425Z"
   },
   {
    "duration": 39,
    "start_time": "2022-03-22T09:27:55.476Z"
   },
   {
    "duration": 59,
    "start_time": "2022-03-22T09:27:55.518Z"
   },
   {
    "duration": 43,
    "start_time": "2022-03-22T09:27:55.580Z"
   },
   {
    "duration": 54,
    "start_time": "2022-03-22T09:27:55.626Z"
   },
   {
    "duration": 20,
    "start_time": "2022-03-22T09:27:55.683Z"
   },
   {
    "duration": 21,
    "start_time": "2022-03-22T09:27:55.705Z"
   },
   {
    "duration": 54,
    "start_time": "2022-03-22T09:27:55.728Z"
   },
   {
    "duration": 134,
    "start_time": "2022-03-22T09:27:55.784Z"
   },
   {
    "duration": 260,
    "start_time": "2022-03-22T09:27:55.922Z"
   },
   {
    "duration": 26,
    "start_time": "2022-03-22T09:27:56.185Z"
   },
   {
    "duration": 1981,
    "start_time": "2022-03-22T09:31:12.802Z"
   },
   {
    "duration": 750,
    "start_time": "2022-03-22T09:31:14.785Z"
   },
   {
    "duration": 42,
    "start_time": "2022-03-22T09:31:15.537Z"
   },
   {
    "duration": 17,
    "start_time": "2022-03-22T09:31:15.582Z"
   },
   {
    "duration": 21,
    "start_time": "2022-03-22T09:31:15.601Z"
   },
   {
    "duration": 56,
    "start_time": "2022-03-22T09:31:15.624Z"
   },
   {
    "duration": 7,
    "start_time": "2022-03-22T09:31:15.683Z"
   },
   {
    "duration": 23,
    "start_time": "2022-03-22T09:31:15.692Z"
   },
   {
    "duration": 14,
    "start_time": "2022-03-22T09:31:15.717Z"
   },
   {
    "duration": 59,
    "start_time": "2022-03-22T09:31:15.735Z"
   },
   {
    "duration": 8,
    "start_time": "2022-03-22T09:31:15.796Z"
   },
   {
    "duration": 23,
    "start_time": "2022-03-22T09:31:15.806Z"
   },
   {
    "duration": 29,
    "start_time": "2022-03-22T09:31:15.831Z"
   },
   {
    "duration": 10,
    "start_time": "2022-03-22T09:31:15.867Z"
   },
   {
    "duration": 15,
    "start_time": "2022-03-22T09:31:15.880Z"
   },
   {
    "duration": 30,
    "start_time": "2022-03-22T09:31:15.897Z"
   },
   {
    "duration": 24,
    "start_time": "2022-03-22T09:31:15.929Z"
   },
   {
    "duration": 30,
    "start_time": "2022-03-22T09:31:15.956Z"
   },
   {
    "duration": 18,
    "start_time": "2022-03-22T09:31:15.989Z"
   },
   {
    "duration": 36,
    "start_time": "2022-03-22T09:31:16.009Z"
   },
   {
    "duration": 18,
    "start_time": "2022-03-22T09:31:16.047Z"
   },
   {
    "duration": 14,
    "start_time": "2022-03-22T09:31:16.068Z"
   },
   {
    "duration": 9,
    "start_time": "2022-03-22T09:31:16.084Z"
   },
   {
    "duration": 14,
    "start_time": "2022-03-22T09:31:16.095Z"
   },
   {
    "duration": 11,
    "start_time": "2022-03-22T09:31:16.111Z"
   },
   {
    "duration": 51,
    "start_time": "2022-03-22T09:31:16.124Z"
   },
   {
    "duration": 62,
    "start_time": "2022-03-22T09:31:16.177Z"
   },
   {
    "duration": 26,
    "start_time": "2022-03-22T09:31:16.246Z"
   },
   {
    "duration": 10,
    "start_time": "2022-03-22T09:31:16.274Z"
   },
   {
    "duration": 8,
    "start_time": "2022-03-22T09:31:16.287Z"
   },
   {
    "duration": 14,
    "start_time": "2022-03-22T09:31:16.298Z"
   },
   {
    "duration": 64,
    "start_time": "2022-03-22T09:31:16.367Z"
   },
   {
    "duration": 7,
    "start_time": "2022-03-22T09:31:16.434Z"
   },
   {
    "duration": 31,
    "start_time": "2022-03-22T09:31:16.443Z"
   },
   {
    "duration": 19,
    "start_time": "2022-03-22T09:31:16.477Z"
   },
   {
    "duration": 10,
    "start_time": "2022-03-22T09:31:16.498Z"
   },
   {
    "duration": 8,
    "start_time": "2022-03-22T09:31:16.511Z"
   },
   {
    "duration": 8,
    "start_time": "2022-03-22T09:31:16.522Z"
   },
   {
    "duration": 44,
    "start_time": "2022-03-22T09:31:16.532Z"
   },
   {
    "duration": 28,
    "start_time": "2022-03-22T09:31:16.579Z"
   },
   {
    "duration": 8,
    "start_time": "2022-03-22T09:31:16.609Z"
   },
   {
    "duration": 52,
    "start_time": "2022-03-22T09:31:16.619Z"
   },
   {
    "duration": 10,
    "start_time": "2022-03-22T09:31:16.674Z"
   },
   {
    "duration": 9,
    "start_time": "2022-03-22T09:31:16.686Z"
   },
   {
    "duration": 9,
    "start_time": "2022-03-22T09:31:16.697Z"
   },
   {
    "duration": 9,
    "start_time": "2022-03-22T09:31:16.708Z"
   },
   {
    "duration": 52,
    "start_time": "2022-03-22T09:31:16.719Z"
   },
   {
    "duration": 10,
    "start_time": "2022-03-22T09:31:16.773Z"
   },
   {
    "duration": 10,
    "start_time": "2022-03-22T09:31:16.785Z"
   },
   {
    "duration": 7,
    "start_time": "2022-03-22T09:31:16.797Z"
   },
   {
    "duration": 12,
    "start_time": "2022-03-22T09:31:16.807Z"
   },
   {
    "duration": 49,
    "start_time": "2022-03-22T09:31:16.822Z"
   },
   {
    "duration": 11,
    "start_time": "2022-03-22T09:31:16.873Z"
   },
   {
    "duration": 12,
    "start_time": "2022-03-22T09:31:16.887Z"
   },
   {
    "duration": 8,
    "start_time": "2022-03-22T09:31:16.901Z"
   },
   {
    "duration": 57,
    "start_time": "2022-03-22T09:31:16.912Z"
   },
   {
    "duration": 33,
    "start_time": "2022-03-22T09:31:16.971Z"
   },
   {
    "duration": 12,
    "start_time": "2022-03-22T09:31:17.007Z"
   },
   {
    "duration": 7,
    "start_time": "2022-03-22T09:31:17.022Z"
   },
   {
    "duration": 39,
    "start_time": "2022-03-22T09:31:17.031Z"
   },
   {
    "duration": 13,
    "start_time": "2022-03-22T09:31:17.072Z"
   },
   {
    "duration": 39,
    "start_time": "2022-03-22T09:31:17.087Z"
   },
   {
    "duration": 41,
    "start_time": "2022-03-22T09:31:17.129Z"
   },
   {
    "duration": 10,
    "start_time": "2022-03-22T09:31:17.173Z"
   },
   {
    "duration": 13,
    "start_time": "2022-03-22T09:31:17.185Z"
   },
   {
    "duration": 7,
    "start_time": "2022-03-22T09:31:17.200Z"
   },
   {
    "duration": 6,
    "start_time": "2022-03-22T09:31:17.209Z"
   },
   {
    "duration": 2997,
    "start_time": "2022-03-22T09:31:17.216Z"
   },
   {
    "duration": 15,
    "start_time": "2022-03-22T09:31:20.215Z"
   },
   {
    "duration": 12,
    "start_time": "2022-03-22T09:31:20.232Z"
   },
   {
    "duration": 11,
    "start_time": "2022-03-22T09:31:20.269Z"
   },
   {
    "duration": 22,
    "start_time": "2022-03-22T09:31:20.282Z"
   },
   {
    "duration": 25,
    "start_time": "2022-03-22T09:31:20.307Z"
   },
   {
    "duration": 73,
    "start_time": "2022-03-22T09:31:20.334Z"
   },
   {
    "duration": 7,
    "start_time": "2022-03-22T09:31:20.409Z"
   },
   {
    "duration": 437,
    "start_time": "2022-03-22T09:31:20.419Z"
   },
   {
    "duration": 35,
    "start_time": "2022-03-22T09:31:20.871Z"
   },
   {
    "duration": 240,
    "start_time": "2022-03-22T09:31:20.909Z"
   },
   {
    "duration": 6,
    "start_time": "2022-03-22T09:31:21.152Z"
   },
   {
    "duration": 7,
    "start_time": "2022-03-22T09:31:21.168Z"
   },
   {
    "duration": 7,
    "start_time": "2022-03-22T09:31:21.178Z"
   },
   {
    "duration": 5,
    "start_time": "2022-03-22T09:31:21.195Z"
   },
   {
    "duration": 8,
    "start_time": "2022-03-22T09:31:21.202Z"
   },
   {
    "duration": 254881,
    "start_time": "2022-03-22T09:31:21.213Z"
   },
   {
    "duration": 5,
    "start_time": "2022-03-22T09:35:36.096Z"
   },
   {
    "duration": 6,
    "start_time": "2022-03-22T09:35:36.104Z"
   },
   {
    "duration": 1456,
    "start_time": "2022-03-22T09:35:36.112Z"
   },
   {
    "duration": 1851,
    "start_time": "2022-03-22T09:35:37.570Z"
   },
   {
    "duration": 199916,
    "start_time": "2022-03-22T09:35:39.424Z"
   },
   {
    "duration": 54,
    "start_time": "2022-03-22T09:38:59.343Z"
   },
   {
    "duration": 582,
    "start_time": "2022-03-22T09:38:59.399Z"
   },
   {
    "duration": 1236,
    "start_time": "2022-03-22T09:38:59.986Z"
   },
   {
    "duration": 4,
    "start_time": "2022-03-22T09:39:01.224Z"
   },
   {
    "duration": 15,
    "start_time": "2022-03-22T09:39:01.230Z"
   },
   {
    "duration": 429808,
    "start_time": "2022-03-22T09:39:01.248Z"
   },
   {
    "duration": 10,
    "start_time": "2022-03-22T09:46:11.058Z"
   },
   {
    "duration": 6,
    "start_time": "2022-03-22T09:46:11.070Z"
   },
   {
    "duration": 277190,
    "start_time": "2022-03-22T09:46:11.078Z"
   },
   {
    "duration": 136396,
    "start_time": "2022-03-22T09:50:48.271Z"
   },
   {
    "duration": 6,
    "start_time": "2022-03-22T09:53:04.670Z"
   },
   {
    "duration": 18,
    "start_time": "2022-03-22T09:53:04.683Z"
   },
   {
    "duration": 9,
    "start_time": "2022-03-22T09:53:04.703Z"
   },
   {
    "duration": 38,
    "start_time": "2022-03-22T09:53:04.715Z"
   },
   {
    "duration": 54,
    "start_time": "2022-03-22T09:53:04.770Z"
   },
   {
    "duration": 19,
    "start_time": "2022-03-22T09:53:04.827Z"
   },
   {
    "duration": 64,
    "start_time": "2022-03-22T09:53:04.848Z"
   },
   {
    "duration": 20,
    "start_time": "2022-03-22T09:53:04.914Z"
   },
   {
    "duration": 57,
    "start_time": "2022-03-22T09:53:04.937Z"
   },
   {
    "duration": 25,
    "start_time": "2022-03-22T09:53:04.998Z"
   },
   {
    "duration": 77,
    "start_time": "2022-03-22T09:53:05.025Z"
   },
   {
    "duration": 24,
    "start_time": "2022-03-22T09:53:05.105Z"
   },
   {
    "duration": 42,
    "start_time": "2022-03-22T09:53:05.132Z"
   },
   {
    "duration": 278,
    "start_time": "2022-03-22T09:53:05.179Z"
   },
   {
    "duration": 39,
    "start_time": "2022-03-22T09:53:05.467Z"
   },
   {
    "duration": 76,
    "start_time": "2022-03-22T09:53:05.508Z"
   },
   {
    "duration": 40,
    "start_time": "2022-03-22T09:53:05.586Z"
   },
   {
    "duration": 75,
    "start_time": "2022-03-22T09:53:05.630Z"
   },
   {
    "duration": 39,
    "start_time": "2022-03-22T09:53:05.708Z"
   },
   {
    "duration": 24,
    "start_time": "2022-03-22T09:53:05.768Z"
   },
   {
    "duration": 25,
    "start_time": "2022-03-22T09:53:05.795Z"
   },
   {
    "duration": 53,
    "start_time": "2022-03-22T09:53:05.823Z"
   },
   {
    "duration": 125,
    "start_time": "2022-03-22T09:53:05.881Z"
   },
   {
    "duration": 246,
    "start_time": "2022-03-22T09:53:06.008Z"
   },
   {
    "duration": 38,
    "start_time": "2022-03-22T09:53:06.256Z"
   },
   {
    "duration": 19,
    "start_time": "2022-03-23T12:07:27.060Z"
   },
   {
    "duration": 13,
    "start_time": "2022-03-23T12:07:27.083Z"
   },
   {
    "duration": 12,
    "start_time": "2022-03-23T12:07:27.098Z"
   },
   {
    "duration": 128,
    "start_time": "2022-03-23T12:07:27.114Z"
   },
   {
    "duration": 0,
    "start_time": "2022-03-23T12:07:27.246Z"
   },
   {
    "duration": 0,
    "start_time": "2022-03-23T12:07:27.248Z"
   },
   {
    "duration": 0,
    "start_time": "2022-03-23T12:07:27.249Z"
   },
   {
    "duration": 0,
    "start_time": "2022-03-23T12:07:27.251Z"
   },
   {
    "duration": 1,
    "start_time": "2022-03-23T12:07:27.284Z"
   },
   {
    "duration": 0,
    "start_time": "2022-03-23T12:07:27.287Z"
   },
   {
    "duration": 0,
    "start_time": "2022-03-23T12:07:27.289Z"
   },
   {
    "duration": 0,
    "start_time": "2022-03-23T12:07:27.291Z"
   },
   {
    "duration": 0,
    "start_time": "2022-03-23T12:07:27.293Z"
   },
   {
    "duration": 0,
    "start_time": "2022-03-23T12:07:27.295Z"
   },
   {
    "duration": 0,
    "start_time": "2022-03-23T12:07:27.296Z"
   },
   {
    "duration": 0,
    "start_time": "2022-03-23T12:07:27.298Z"
   },
   {
    "duration": 0,
    "start_time": "2022-03-23T12:07:27.303Z"
   },
   {
    "duration": 0,
    "start_time": "2022-03-23T12:07:27.307Z"
   },
   {
    "duration": 0,
    "start_time": "2022-03-23T12:07:27.308Z"
   },
   {
    "duration": 0,
    "start_time": "2022-03-23T12:07:27.310Z"
   },
   {
    "duration": 0,
    "start_time": "2022-03-23T12:07:27.312Z"
   },
   {
    "duration": 0,
    "start_time": "2022-03-23T12:07:27.314Z"
   },
   {
    "duration": 0,
    "start_time": "2022-03-23T12:07:27.316Z"
   },
   {
    "duration": 0,
    "start_time": "2022-03-23T12:07:27.319Z"
   },
   {
    "duration": 0,
    "start_time": "2022-03-23T12:07:27.322Z"
   },
   {
    "duration": 0,
    "start_time": "2022-03-23T12:07:27.323Z"
   },
   {
    "duration": 0,
    "start_time": "2022-03-23T12:07:27.384Z"
   },
   {
    "duration": 0,
    "start_time": "2022-03-23T12:07:27.386Z"
   },
   {
    "duration": 0,
    "start_time": "2022-03-23T12:07:27.387Z"
   },
   {
    "duration": 0,
    "start_time": "2022-03-23T12:07:27.391Z"
   },
   {
    "duration": 0,
    "start_time": "2022-03-23T12:07:27.392Z"
   },
   {
    "duration": 0,
    "start_time": "2022-03-23T12:07:27.394Z"
   },
   {
    "duration": 12,
    "start_time": "2022-03-23T12:07:27.400Z"
   },
   {
    "duration": 0,
    "start_time": "2022-03-23T12:07:27.415Z"
   },
   {
    "duration": 0,
    "start_time": "2022-03-23T12:07:27.416Z"
   },
   {
    "duration": 0,
    "start_time": "2022-03-23T12:07:27.418Z"
   },
   {
    "duration": 0,
    "start_time": "2022-03-23T12:07:27.420Z"
   },
   {
    "duration": 0,
    "start_time": "2022-03-23T12:07:27.425Z"
   },
   {
    "duration": 0,
    "start_time": "2022-03-23T12:07:27.426Z"
   },
   {
    "duration": 0,
    "start_time": "2022-03-23T12:07:27.485Z"
   },
   {
    "duration": 0,
    "start_time": "2022-03-23T12:07:27.486Z"
   },
   {
    "duration": 0,
    "start_time": "2022-03-23T12:07:27.488Z"
   },
   {
    "duration": 0,
    "start_time": "2022-03-23T12:07:27.490Z"
   },
   {
    "duration": 0,
    "start_time": "2022-03-23T12:07:27.491Z"
   },
   {
    "duration": 0,
    "start_time": "2022-03-23T12:07:27.493Z"
   },
   {
    "duration": 0,
    "start_time": "2022-03-23T12:07:27.494Z"
   },
   {
    "duration": 2388,
    "start_time": "2022-03-23T12:07:54.326Z"
   },
   {
    "duration": 885,
    "start_time": "2022-03-23T12:07:56.717Z"
   },
   {
    "duration": 37,
    "start_time": "2022-03-23T12:07:57.605Z"
   },
   {
    "duration": 15,
    "start_time": "2022-03-23T12:07:57.645Z"
   },
   {
    "duration": 11,
    "start_time": "2022-03-23T12:07:57.685Z"
   },
   {
    "duration": 35,
    "start_time": "2022-03-23T12:07:57.699Z"
   },
   {
    "duration": 10,
    "start_time": "2022-03-23T12:07:57.737Z"
   },
   {
    "duration": 40,
    "start_time": "2022-03-23T12:07:57.749Z"
   },
   {
    "duration": 20,
    "start_time": "2022-03-23T12:07:57.792Z"
   },
   {
    "duration": 46,
    "start_time": "2022-03-23T12:07:57.817Z"
   },
   {
    "duration": 8,
    "start_time": "2022-03-23T12:07:57.883Z"
   },
   {
    "duration": 14,
    "start_time": "2022-03-23T12:07:57.893Z"
   },
   {
    "duration": 17,
    "start_time": "2022-03-23T12:07:57.909Z"
   },
   {
    "duration": 12,
    "start_time": "2022-03-23T12:07:57.928Z"
   },
   {
    "duration": 46,
    "start_time": "2022-03-23T12:07:57.942Z"
   },
   {
    "duration": 19,
    "start_time": "2022-03-23T12:07:57.991Z"
   },
   {
    "duration": 8,
    "start_time": "2022-03-23T12:07:58.013Z"
   },
   {
    "duration": 9,
    "start_time": "2022-03-23T12:07:58.023Z"
   },
   {
    "duration": 51,
    "start_time": "2022-03-23T12:07:58.034Z"
   },
   {
    "duration": 9,
    "start_time": "2022-03-23T12:07:58.087Z"
   },
   {
    "duration": 27,
    "start_time": "2022-03-23T12:07:58.099Z"
   },
   {
    "duration": 55,
    "start_time": "2022-03-23T12:07:58.129Z"
   },
   {
    "duration": 11,
    "start_time": "2022-03-23T12:07:58.187Z"
   },
   {
    "duration": 27,
    "start_time": "2022-03-23T12:07:58.201Z"
   },
   {
    "duration": 13,
    "start_time": "2022-03-23T12:07:58.231Z"
   },
   {
    "duration": 49,
    "start_time": "2022-03-23T12:07:58.248Z"
   },
   {
    "duration": 116,
    "start_time": "2022-03-23T12:07:58.301Z"
   },
   {
    "duration": 9,
    "start_time": "2022-03-23T12:07:58.424Z"
   },
   {
    "duration": 11,
    "start_time": "2022-03-23T12:07:58.435Z"
   },
   {
    "duration": 37,
    "start_time": "2022-03-23T12:07:58.449Z"
   },
   {
    "duration": 21,
    "start_time": "2022-03-23T12:07:58.488Z"
   },
   {
    "duration": 90,
    "start_time": "2022-03-23T12:07:58.512Z"
   },
   {
    "duration": 9,
    "start_time": "2022-03-23T12:07:58.605Z"
   },
   {
    "duration": 14,
    "start_time": "2022-03-23T12:07:58.617Z"
   },
   {
    "duration": 22,
    "start_time": "2022-03-23T12:07:58.633Z"
   },
   {
    "duration": 34,
    "start_time": "2022-03-23T12:07:58.658Z"
   },
   {
    "duration": 9,
    "start_time": "2022-03-23T12:07:58.695Z"
   },
   {
    "duration": 15,
    "start_time": "2022-03-23T12:07:58.707Z"
   },
   {
    "duration": 11,
    "start_time": "2022-03-23T12:07:58.725Z"
   },
   {
    "duration": 64,
    "start_time": "2022-03-23T12:07:58.739Z"
   },
   {
    "duration": 8,
    "start_time": "2022-03-23T12:07:58.805Z"
   },
   {
    "duration": 12,
    "start_time": "2022-03-23T12:07:58.816Z"
   },
   {
    "duration": 12,
    "start_time": "2022-03-23T12:07:58.831Z"
   },
   {
    "duration": 8,
    "start_time": "2022-03-23T12:07:58.883Z"
   },
   {
    "duration": 8,
    "start_time": "2022-03-23T12:07:58.896Z"
   },
   {
    "duration": 8,
    "start_time": "2022-03-23T12:07:58.906Z"
   },
   {
    "duration": 10,
    "start_time": "2022-03-23T12:07:58.917Z"
   },
   {
    "duration": 55,
    "start_time": "2022-03-23T12:07:58.929Z"
   },
   {
    "duration": 8,
    "start_time": "2022-03-23T12:07:58.986Z"
   },
   {
    "duration": 11,
    "start_time": "2022-03-23T12:07:58.997Z"
   },
   {
    "duration": 12,
    "start_time": "2022-03-23T12:07:59.010Z"
   },
   {
    "duration": 17,
    "start_time": "2022-03-23T12:07:59.024Z"
   },
   {
    "duration": 52,
    "start_time": "2022-03-23T12:07:59.044Z"
   },
   {
    "duration": 11,
    "start_time": "2022-03-23T12:07:59.099Z"
   },
   {
    "duration": 10,
    "start_time": "2022-03-23T12:07:59.113Z"
   },
   {
    "duration": 17,
    "start_time": "2022-03-23T12:07:59.126Z"
   },
   {
    "duration": 67,
    "start_time": "2022-03-23T12:07:59.146Z"
   },
   {
    "duration": 11,
    "start_time": "2022-03-23T12:07:59.216Z"
   },
   {
    "duration": 22,
    "start_time": "2022-03-23T12:07:59.229Z"
   },
   {
    "duration": 18,
    "start_time": "2022-03-23T12:07:59.253Z"
   },
   {
    "duration": 20,
    "start_time": "2022-03-23T12:07:59.286Z"
   },
   {
    "duration": 51,
    "start_time": "2022-03-23T12:07:59.309Z"
   },
   {
    "duration": 26,
    "start_time": "2022-03-23T12:07:59.363Z"
   },
   {
    "duration": 17,
    "start_time": "2022-03-23T12:07:59.392Z"
   },
   {
    "duration": 15,
    "start_time": "2022-03-23T12:07:59.413Z"
   },
   {
    "duration": 6,
    "start_time": "2022-03-23T12:07:59.432Z"
   },
   {
    "duration": 45,
    "start_time": "2022-03-23T12:07:59.440Z"
   },
   {
    "duration": 2732,
    "start_time": "2022-03-23T12:07:59.488Z"
   },
   {
    "duration": 15,
    "start_time": "2022-03-23T12:08:02.223Z"
   },
   {
    "duration": 12,
    "start_time": "2022-03-23T12:08:02.241Z"
   },
   {
    "duration": 37,
    "start_time": "2022-03-23T12:08:02.255Z"
   },
   {
    "duration": 5,
    "start_time": "2022-03-23T12:08:02.294Z"
   },
   {
    "duration": 11,
    "start_time": "2022-03-23T12:08:02.301Z"
   },
   {
    "duration": 86,
    "start_time": "2022-03-23T12:08:02.315Z"
   },
   {
    "duration": 8,
    "start_time": "2022-03-23T12:08:02.403Z"
   },
   {
    "duration": 458,
    "start_time": "2022-03-23T12:08:02.414Z"
   },
   {
    "duration": 48,
    "start_time": "2022-03-23T12:08:02.874Z"
   },
   {
    "duration": 220,
    "start_time": "2022-03-23T12:08:02.925Z"
   },
   {
    "duration": 7,
    "start_time": "2022-03-23T12:12:47.303Z"
   },
   {
    "duration": 8,
    "start_time": "2022-03-23T12:12:48.499Z"
   },
   {
    "duration": 4,
    "start_time": "2022-03-23T12:12:52.889Z"
   },
   {
    "duration": 4,
    "start_time": "2022-03-23T12:12:53.230Z"
   },
   {
    "duration": 302456,
    "start_time": "2022-03-23T12:12:53.598Z"
   },
   {
    "duration": 7,
    "start_time": "2022-03-23T12:17:56.057Z"
   },
   {
    "duration": 63,
    "start_time": "2022-03-23T12:17:56.083Z"
   },
   {
    "duration": 8,
    "start_time": "2022-03-23T12:21:10.407Z"
   },
   {
    "duration": 12,
    "start_time": "2022-03-23T12:21:18.183Z"
   },
   {
    "duration": 8,
    "start_time": "2022-03-23T12:24:42.403Z"
   },
   {
    "duration": 108,
    "start_time": "2022-03-23T12:24:53.659Z"
   },
   {
    "duration": 1286,
    "start_time": "2022-03-23T12:25:23.338Z"
   },
   {
    "duration": 9,
    "start_time": "2022-03-23T12:26:28.572Z"
   },
   {
    "duration": 1258,
    "start_time": "2022-03-23T12:26:32.079Z"
   },
   {
    "duration": 1249,
    "start_time": "2022-03-23T12:26:41.675Z"
   },
   {
    "duration": 9,
    "start_time": "2022-03-23T12:27:15.005Z"
   },
   {
    "duration": 11,
    "start_time": "2022-03-23T12:28:07.218Z"
   },
   {
    "duration": 1235,
    "start_time": "2022-03-23T12:28:11.214Z"
   },
   {
    "duration": 12,
    "start_time": "2022-03-23T12:29:40.672Z"
   },
   {
    "duration": 1458,
    "start_time": "2022-03-23T12:29:50.989Z"
   },
   {
    "duration": 108,
    "start_time": "2022-03-23T12:38:36.888Z"
   },
   {
    "duration": 13,
    "start_time": "2022-03-23T12:39:00.554Z"
   },
   {
    "duration": 1179,
    "start_time": "2022-03-23T12:39:05.448Z"
   },
   {
    "duration": 10,
    "start_time": "2022-03-23T12:40:05.801Z"
   },
   {
    "duration": 1116,
    "start_time": "2022-03-23T12:40:09.416Z"
   },
   {
    "duration": 12,
    "start_time": "2022-03-23T12:40:53.990Z"
   },
   {
    "duration": 1134,
    "start_time": "2022-03-23T12:40:58.860Z"
   },
   {
    "duration": 9,
    "start_time": "2022-03-23T12:42:06.067Z"
   },
   {
    "duration": 1239,
    "start_time": "2022-03-23T12:42:11.353Z"
   },
   {
    "duration": 105,
    "start_time": "2022-03-23T12:47:31.566Z"
   },
   {
    "duration": 10,
    "start_time": "2022-03-23T12:52:36.685Z"
   },
   {
    "duration": 1093,
    "start_time": "2022-03-23T12:52:52.292Z"
   },
   {
    "duration": 8,
    "start_time": "2022-03-23T12:53:22.948Z"
   },
   {
    "duration": 1060,
    "start_time": "2022-03-23T12:53:27.476Z"
   },
   {
    "duration": 18,
    "start_time": "2022-03-23T12:56:36.906Z"
   },
   {
    "duration": 26,
    "start_time": "2022-03-23T12:57:10.020Z"
   },
   {
    "duration": 14,
    "start_time": "2022-03-23T12:59:07.884Z"
   },
   {
    "duration": 7,
    "start_time": "2022-03-23T12:59:22.859Z"
   },
   {
    "duration": 12,
    "start_time": "2022-03-23T12:59:24.545Z"
   },
   {
    "duration": 14,
    "start_time": "2022-03-23T12:59:33.233Z"
   },
   {
    "duration": 9,
    "start_time": "2022-03-23T13:00:06.643Z"
   },
   {
    "duration": 1073,
    "start_time": "2022-03-23T13:00:17.538Z"
   },
   {
    "duration": 9,
    "start_time": "2022-03-23T13:00:41.739Z"
   },
   {
    "duration": 1099,
    "start_time": "2022-03-23T13:00:46.370Z"
   },
   {
    "duration": 8,
    "start_time": "2022-03-23T13:01:04.438Z"
   },
   {
    "duration": 1305,
    "start_time": "2022-03-23T13:01:08.019Z"
   },
   {
    "duration": 11,
    "start_time": "2022-03-23T13:01:14.282Z"
   },
   {
    "duration": 9,
    "start_time": "2022-03-23T13:01:45.939Z"
   },
   {
    "duration": 1190,
    "start_time": "2022-03-23T13:01:52.251Z"
   },
   {
    "duration": 9,
    "start_time": "2022-03-23T13:02:17.996Z"
   },
   {
    "duration": 9,
    "start_time": "2022-03-23T13:02:35.013Z"
   },
   {
    "duration": 7,
    "start_time": "2022-03-23T13:02:39.540Z"
   },
   {
    "duration": 1050,
    "start_time": "2022-03-23T13:02:46.563Z"
   },
   {
    "duration": 9,
    "start_time": "2022-03-23T13:04:45.667Z"
   },
   {
    "duration": 1242,
    "start_time": "2022-03-23T13:04:50.502Z"
   },
   {
    "duration": 11,
    "start_time": "2022-03-23T13:04:53.501Z"
   },
   {
    "duration": 261841,
    "start_time": "2022-03-23T13:05:36.232Z"
   },
   {
    "duration": 110,
    "start_time": "2022-03-23T13:09:58.076Z"
   },
   {
    "duration": 104,
    "start_time": "2022-03-23T13:09:58.189Z"
   },
   {
    "duration": 622,
    "start_time": "2022-03-23T13:14:36.903Z"
   },
   {
    "duration": 11,
    "start_time": "2022-03-23T13:14:46.136Z"
   },
   {
    "duration": 4,
    "start_time": "2022-03-23T13:35:02.881Z"
   },
   {
    "duration": 4,
    "start_time": "2022-03-23T13:35:03.264Z"
   },
   {
    "duration": 483457,
    "start_time": "2022-03-23T13:35:03.591Z"
   },
   {
    "duration": 5,
    "start_time": "2022-03-23T13:43:07.051Z"
   },
   {
    "duration": 27,
    "start_time": "2022-03-23T13:43:07.058Z"
   },
   {
    "duration": 276316,
    "start_time": "2022-03-23T13:43:07.088Z"
   },
   {
    "duration": 9,
    "start_time": "2022-03-23T13:50:33.177Z"
   },
   {
    "duration": 119,
    "start_time": "2022-03-23T13:51:39.217Z"
   },
   {
    "duration": 117,
    "start_time": "2022-03-23T13:52:21.597Z"
   },
   {
    "duration": 114,
    "start_time": "2022-03-23T13:53:46.148Z"
   },
   {
    "duration": 12,
    "start_time": "2022-03-23T13:54:10.973Z"
   },
   {
    "duration": 16,
    "start_time": "2022-03-23T13:54:47.677Z"
   },
   {
    "duration": 6,
    "start_time": "2022-03-23T13:55:40.332Z"
   },
   {
    "duration": 9,
    "start_time": "2022-03-23T13:55:49.196Z"
   },
   {
    "duration": 15,
    "start_time": "2022-03-23T13:57:48.606Z"
   },
   {
    "duration": 15,
    "start_time": "2022-03-23T13:57:57.630Z"
   },
   {
    "duration": 14,
    "start_time": "2022-03-23T13:58:55.421Z"
   },
   {
    "duration": 17,
    "start_time": "2022-03-23T13:59:03.192Z"
   },
   {
    "duration": 2314,
    "start_time": "2022-03-23T13:59:09.159Z"
   },
   {
    "duration": 14,
    "start_time": "2022-03-23T13:59:19.358Z"
   },
   {
    "duration": 13,
    "start_time": "2022-03-23T14:00:51.888Z"
   },
   {
    "duration": 9,
    "start_time": "2022-03-23T14:01:01.329Z"
   },
   {
    "duration": 2248,
    "start_time": "2022-03-23T14:01:10.281Z"
   },
   {
    "duration": 15,
    "start_time": "2022-03-23T14:01:15.155Z"
   },
   {
    "duration": 11,
    "start_time": "2022-03-23T14:02:45.213Z"
   },
   {
    "duration": 17,
    "start_time": "2022-03-23T14:03:04.413Z"
   },
   {
    "duration": 7,
    "start_time": "2022-03-23T14:03:21.651Z"
   },
   {
    "duration": 2409,
    "start_time": "2022-03-23T14:03:27.106Z"
   },
   {
    "duration": 15,
    "start_time": "2022-03-23T14:03:31.906Z"
   },
   {
    "duration": 13,
    "start_time": "2022-03-23T14:05:47.091Z"
   },
   {
    "duration": 7,
    "start_time": "2022-03-23T14:06:00.248Z"
   },
   {
    "duration": 3426,
    "start_time": "2022-03-23T14:06:06.325Z"
   },
   {
    "duration": 14,
    "start_time": "2022-03-23T14:06:10.973Z"
   },
   {
    "duration": 249006,
    "start_time": "2022-03-23T14:08:27.842Z"
   },
   {
    "duration": 238,
    "start_time": "2022-03-23T14:12:36.851Z"
   },
   {
    "duration": 1621,
    "start_time": "2022-03-23T14:12:37.091Z"
   },
   {
    "duration": 4,
    "start_time": "2022-03-23T14:12:38.715Z"
   },
   {
    "duration": 17,
    "start_time": "2022-03-23T14:12:38.722Z"
   },
   {
    "duration": 469818,
    "start_time": "2022-03-23T14:12:38.741Z"
   },
   {
    "duration": 6,
    "start_time": "2022-03-23T14:20:28.562Z"
   },
   {
    "duration": 8,
    "start_time": "2022-03-23T14:20:28.583Z"
   },
   {
    "duration": 293422,
    "start_time": "2022-03-23T14:20:28.594Z"
   },
   {
    "duration": 17,
    "start_time": "2022-03-23T14:29:05.696Z"
   },
   {
    "duration": 15,
    "start_time": "2022-03-23T16:20:03.261Z"
   },
   {
    "duration": 21,
    "start_time": "2022-03-23T16:27:33.449Z"
   },
   {
    "duration": 6107,
    "start_time": "2022-03-23T16:47:04.347Z"
   },
   {
    "duration": 423,
    "start_time": "2022-03-23T16:47:44.755Z"
   },
   {
    "duration": 337,
    "start_time": "2022-03-23T16:50:03.618Z"
   },
   {
    "duration": 347,
    "start_time": "2022-03-23T16:51:07.075Z"
   },
   {
    "duration": 292,
    "start_time": "2022-03-23T16:51:25.323Z"
   },
   {
    "duration": 230,
    "start_time": "2022-03-23T16:53:46.128Z"
   },
   {
    "duration": 258,
    "start_time": "2022-03-23T16:55:07.327Z"
   },
   {
    "duration": 2301,
    "start_time": "2022-03-24T06:41:47.355Z"
   },
   {
    "duration": 283,
    "start_time": "2022-03-24T06:41:49.660Z"
   },
   {
    "duration": 50,
    "start_time": "2022-03-24T06:41:49.946Z"
   },
   {
    "duration": 15,
    "start_time": "2022-03-24T06:41:49.998Z"
   },
   {
    "duration": 19,
    "start_time": "2022-03-24T06:41:50.016Z"
   },
   {
    "duration": 54,
    "start_time": "2022-03-24T06:41:50.037Z"
   },
   {
    "duration": 7,
    "start_time": "2022-03-24T06:41:50.094Z"
   },
   {
    "duration": 10,
    "start_time": "2022-03-24T06:41:50.103Z"
   },
   {
    "duration": 305,
    "start_time": "2022-03-24T06:41:50.115Z"
   },
   {
    "duration": 7,
    "start_time": "2022-03-24T06:41:50.423Z"
   },
   {
    "duration": 37,
    "start_time": "2022-03-24T06:41:50.432Z"
   },
   {
    "duration": 254,
    "start_time": "2022-03-24T06:41:50.471Z"
   },
   {
    "duration": 9,
    "start_time": "2022-03-24T06:41:50.728Z"
   },
   {
    "duration": 274,
    "start_time": "2022-03-24T06:41:50.743Z"
   },
   {
    "duration": 9,
    "start_time": "2022-03-24T06:41:51.019Z"
   },
   {
    "duration": 12,
    "start_time": "2022-03-24T06:41:51.031Z"
   },
   {
    "duration": 7,
    "start_time": "2022-03-24T06:41:51.068Z"
   },
   {
    "duration": 11,
    "start_time": "2022-03-24T06:41:51.077Z"
   },
   {
    "duration": 7,
    "start_time": "2022-03-24T06:41:51.090Z"
   },
   {
    "duration": 242,
    "start_time": "2022-03-24T06:47:09.601Z"
   },
   {
    "duration": 245,
    "start_time": "2022-03-24T06:48:54.350Z"
   },
   {
    "duration": 334,
    "start_time": "2022-03-24T06:49:03.312Z"
   },
   {
    "duration": 248,
    "start_time": "2022-03-24T06:49:15.329Z"
   },
   {
    "duration": 242,
    "start_time": "2022-03-24T06:55:02.005Z"
   },
   {
    "duration": 236,
    "start_time": "2022-03-24T06:55:47.782Z"
   },
   {
    "duration": 239,
    "start_time": "2022-03-24T08:23:43.204Z"
   },
   {
    "duration": 234,
    "start_time": "2022-03-24T08:24:13.258Z"
   },
   {
    "duration": 243,
    "start_time": "2022-03-24T08:24:29.098Z"
   },
   {
    "duration": 8,
    "start_time": "2022-03-24T08:24:37.720Z"
   },
   {
    "duration": 8,
    "start_time": "2022-03-24T08:24:48.480Z"
   },
   {
    "duration": 244,
    "start_time": "2022-03-24T08:29:32.484Z"
   },
   {
    "duration": 237,
    "start_time": "2022-03-24T08:29:43.254Z"
   },
   {
    "duration": 250,
    "start_time": "2022-03-24T08:29:53.366Z"
   },
   {
    "duration": 2331,
    "start_time": "2022-03-24T08:31:30.956Z"
   },
   {
    "duration": 268,
    "start_time": "2022-03-24T08:31:44.602Z"
   },
   {
    "duration": 369,
    "start_time": "2022-03-24T08:34:10.464Z"
   },
   {
    "duration": 242,
    "start_time": "2022-03-24T08:36:55.925Z"
   },
   {
    "duration": 8,
    "start_time": "2022-03-24T08:37:12.293Z"
   },
   {
    "duration": 237,
    "start_time": "2022-03-24T08:38:11.933Z"
   },
   {
    "duration": 8,
    "start_time": "2022-03-24T08:39:11.203Z"
   },
   {
    "duration": 8,
    "start_time": "2022-03-24T08:39:49.017Z"
   },
   {
    "duration": 19,
    "start_time": "2022-03-24T09:57:28.647Z"
   },
   {
    "duration": 68,
    "start_time": "2022-03-24T09:58:03.901Z"
   },
   {
    "duration": 34,
    "start_time": "2022-03-24T09:58:13.353Z"
   },
   {
    "duration": 87,
    "start_time": "2022-03-24T10:32:07.047Z"
   },
   {
    "duration": 91,
    "start_time": "2022-03-24T10:33:40.352Z"
   },
   {
    "duration": 22,
    "start_time": "2022-03-24T10:33:49.608Z"
   },
   {
    "duration": 15,
    "start_time": "2022-03-24T10:35:29.886Z"
   },
   {
    "duration": 21,
    "start_time": "2022-03-24T10:38:28.163Z"
   },
   {
    "duration": 16,
    "start_time": "2022-03-24T10:38:28.282Z"
   },
   {
    "duration": 23,
    "start_time": "2022-03-24T10:38:28.462Z"
   },
   {
    "duration": 21,
    "start_time": "2022-03-24T10:38:28.625Z"
   },
   {
    "duration": 6,
    "start_time": "2022-03-24T10:40:20.411Z"
   },
   {
    "duration": 1791,
    "start_time": "2022-03-24T11:05:11.996Z"
   },
   {
    "duration": 270,
    "start_time": "2022-03-24T11:05:13.790Z"
   },
   {
    "duration": 36,
    "start_time": "2022-03-24T11:05:14.062Z"
   },
   {
    "duration": 14,
    "start_time": "2022-03-24T11:05:14.100Z"
   },
   {
    "duration": 11,
    "start_time": "2022-03-24T11:05:14.117Z"
   },
   {
    "duration": 57,
    "start_time": "2022-03-24T11:05:14.130Z"
   },
   {
    "duration": 8,
    "start_time": "2022-03-24T11:05:14.189Z"
   },
   {
    "duration": 9,
    "start_time": "2022-03-24T11:05:14.199Z"
   },
   {
    "duration": 298,
    "start_time": "2022-03-24T11:05:14.210Z"
   },
   {
    "duration": 7,
    "start_time": "2022-03-24T11:05:14.511Z"
   },
   {
    "duration": 14,
    "start_time": "2022-03-24T11:05:14.520Z"
   },
   {
    "duration": 305,
    "start_time": "2022-03-24T11:05:14.536Z"
   },
   {
    "duration": 8,
    "start_time": "2022-03-24T11:05:14.843Z"
   },
   {
    "duration": 255,
    "start_time": "2022-03-24T11:05:14.870Z"
   },
   {
    "duration": 7,
    "start_time": "2022-03-24T11:05:15.127Z"
   },
   {
    "duration": 15,
    "start_time": "2022-03-24T11:05:15.136Z"
   },
   {
    "duration": 7,
    "start_time": "2022-03-24T11:05:15.168Z"
   },
   {
    "duration": 9,
    "start_time": "2022-03-24T11:05:15.177Z"
   },
   {
    "duration": 7,
    "start_time": "2022-03-24T11:05:15.188Z"
   },
   {
    "duration": 10,
    "start_time": "2022-03-24T11:05:15.197Z"
   },
   {
    "duration": 62,
    "start_time": "2022-03-24T11:05:15.210Z"
   },
   {
    "duration": 15,
    "start_time": "2022-03-24T11:05:15.275Z"
   },
   {
    "duration": 29,
    "start_time": "2022-03-24T11:05:15.293Z"
   },
   {
    "duration": 37,
    "start_time": "2022-03-24T11:05:15.325Z"
   },
   {
    "duration": 28,
    "start_time": "2022-03-24T11:05:15.364Z"
   },
   {
    "duration": 18,
    "start_time": "2022-03-24T11:05:15.394Z"
   },
   {
    "duration": 64,
    "start_time": "2022-03-24T11:05:15.415Z"
   },
   {
    "duration": 9,
    "start_time": "2022-03-24T11:05:15.482Z"
   },
   {
    "duration": 30,
    "start_time": "2022-03-24T11:05:15.493Z"
   },
   {
    "duration": 8,
    "start_time": "2022-03-24T11:05:15.526Z"
   },
   {
    "duration": 33,
    "start_time": "2022-03-24T11:05:15.536Z"
   },
   {
    "duration": 83,
    "start_time": "2022-03-24T11:05:15.571Z"
   },
   {
    "duration": 7,
    "start_time": "2022-03-24T11:05:15.656Z"
   },
   {
    "duration": 22,
    "start_time": "2022-03-24T11:05:15.668Z"
   },
   {
    "duration": 14,
    "start_time": "2022-03-24T11:05:15.692Z"
   },
   {
    "duration": 10,
    "start_time": "2022-03-24T11:05:15.709Z"
   },
   {
    "duration": 14,
    "start_time": "2022-03-24T11:05:15.721Z"
   },
   {
    "duration": 269,
    "start_time": "2022-03-24T11:05:15.737Z"
   },
   {
    "duration": 10,
    "start_time": "2022-03-24T11:05:16.008Z"
   },
   {
    "duration": 26,
    "start_time": "2022-03-24T11:05:16.021Z"
   },
   {
    "duration": 11,
    "start_time": "2022-03-24T11:05:16.068Z"
   },
   {
    "duration": 250,
    "start_time": "2022-03-24T11:05:16.081Z"
   },
   {
    "duration": 8,
    "start_time": "2022-03-24T11:05:16.333Z"
   },
   {
    "duration": 332,
    "start_time": "2022-03-24T11:05:16.343Z"
   },
   {
    "duration": 8,
    "start_time": "2022-03-24T11:05:16.677Z"
   },
   {
    "duration": 9,
    "start_time": "2022-03-24T11:05:16.687Z"
   },
   {
    "duration": 6,
    "start_time": "2022-03-24T11:05:16.699Z"
   },
   {
    "duration": 8,
    "start_time": "2022-03-24T11:05:16.707Z"
   },
   {
    "duration": 57,
    "start_time": "2022-03-24T11:05:16.717Z"
   },
   {
    "duration": 9,
    "start_time": "2022-03-24T11:05:16.776Z"
   },
   {
    "duration": 8,
    "start_time": "2022-03-24T11:05:16.787Z"
   },
   {
    "duration": 12,
    "start_time": "2022-03-24T11:05:16.797Z"
   },
   {
    "duration": 23,
    "start_time": "2022-03-24T11:05:16.811Z"
   },
   {
    "duration": 40,
    "start_time": "2022-03-24T11:05:16.837Z"
   },
   {
    "duration": 12,
    "start_time": "2022-03-24T11:05:16.879Z"
   },
   {
    "duration": 7,
    "start_time": "2022-03-24T11:05:16.894Z"
   },
   {
    "duration": 9,
    "start_time": "2022-03-24T11:05:16.904Z"
   },
   {
    "duration": 71,
    "start_time": "2022-03-24T11:05:16.915Z"
   },
   {
    "duration": 8,
    "start_time": "2022-03-24T11:05:16.988Z"
   },
   {
    "duration": 8,
    "start_time": "2022-03-24T11:05:16.998Z"
   },
   {
    "duration": 7,
    "start_time": "2022-03-24T11:05:17.008Z"
   },
   {
    "duration": 49,
    "start_time": "2022-03-24T11:05:17.017Z"
   },
   {
    "duration": 38,
    "start_time": "2022-03-24T11:05:17.069Z"
   },
   {
    "duration": 8,
    "start_time": "2022-03-24T11:05:17.110Z"
   },
   {
    "duration": 9,
    "start_time": "2022-03-24T11:05:17.121Z"
   },
   {
    "duration": 57,
    "start_time": "2022-03-24T11:05:17.133Z"
   },
   {
    "duration": 79,
    "start_time": "2022-03-24T11:05:17.193Z"
   },
   {
    "duration": 17,
    "start_time": "2022-03-24T11:05:17.275Z"
   },
   {
    "duration": 20,
    "start_time": "2022-03-24T11:05:17.294Z"
   },
   {
    "duration": 20,
    "start_time": "2022-03-24T11:05:17.316Z"
   },
   {
    "duration": 17,
    "start_time": "2022-03-24T11:05:17.366Z"
   },
   {
    "duration": 17,
    "start_time": "2022-03-24T11:05:17.386Z"
   },
   {
    "duration": 6,
    "start_time": "2022-03-24T11:05:17.406Z"
   },
   {
    "duration": 6,
    "start_time": "2022-03-24T11:05:17.415Z"
   },
   {
    "duration": 2677,
    "start_time": "2022-03-24T11:05:17.466Z"
   },
   {
    "duration": 25,
    "start_time": "2022-03-24T11:05:20.146Z"
   },
   {
    "duration": 12,
    "start_time": "2022-03-24T11:05:20.174Z"
   },
   {
    "duration": 13,
    "start_time": "2022-03-24T11:05:20.188Z"
   },
   {
    "duration": 6,
    "start_time": "2022-03-24T11:05:20.203Z"
   },
   {
    "duration": 7,
    "start_time": "2022-03-24T11:05:20.212Z"
   },
   {
    "duration": 55,
    "start_time": "2022-03-24T11:05:20.268Z"
   },
   {
    "duration": 7,
    "start_time": "2022-03-24T11:05:20.325Z"
   },
   {
    "duration": 10,
    "start_time": "2022-03-24T11:05:20.335Z"
   },
   {
    "duration": 447,
    "start_time": "2022-03-24T11:05:20.348Z"
   },
   {
    "duration": 35,
    "start_time": "2022-03-24T11:05:20.797Z"
   },
   {
    "duration": 224,
    "start_time": "2022-03-24T11:05:20.835Z"
   },
   {
    "duration": 11,
    "start_time": "2022-03-24T11:05:21.061Z"
   },
   {
    "duration": 8,
    "start_time": "2022-03-24T11:05:21.073Z"
   },
   {
    "duration": 10,
    "start_time": "2022-03-24T11:05:21.084Z"
   },
   {
    "duration": 14,
    "start_time": "2022-03-24T11:05:21.097Z"
   },
   {
    "duration": 10,
    "start_time": "2022-03-24T11:05:21.113Z"
   },
   {
    "duration": 6,
    "start_time": "2022-03-24T11:05:21.125Z"
   },
   {
    "duration": 125926,
    "start_time": "2022-03-24T11:05:21.168Z"
   },
   {
    "duration": 0,
    "start_time": "2022-03-24T11:07:27.098Z"
   },
   {
    "duration": 0,
    "start_time": "2022-03-24T11:07:27.100Z"
   },
   {
    "duration": 0,
    "start_time": "2022-03-24T11:07:27.102Z"
   },
   {
    "duration": 0,
    "start_time": "2022-03-24T11:07:27.104Z"
   },
   {
    "duration": 0,
    "start_time": "2022-03-24T11:07:27.106Z"
   },
   {
    "duration": 0,
    "start_time": "2022-03-24T11:07:27.107Z"
   },
   {
    "duration": 0,
    "start_time": "2022-03-24T11:07:27.109Z"
   },
   {
    "duration": 0,
    "start_time": "2022-03-24T11:07:27.110Z"
   },
   {
    "duration": 0,
    "start_time": "2022-03-24T11:07:27.112Z"
   },
   {
    "duration": 0,
    "start_time": "2022-03-24T11:07:27.114Z"
   },
   {
    "duration": 0,
    "start_time": "2022-03-24T11:07:27.115Z"
   },
   {
    "duration": 0,
    "start_time": "2022-03-24T11:07:27.117Z"
   },
   {
    "duration": 0,
    "start_time": "2022-03-24T11:07:27.119Z"
   },
   {
    "duration": 0,
    "start_time": "2022-03-24T11:07:27.121Z"
   },
   {
    "duration": 0,
    "start_time": "2022-03-24T11:07:27.122Z"
   },
   {
    "duration": 0,
    "start_time": "2022-03-24T11:07:27.124Z"
   },
   {
    "duration": 0,
    "start_time": "2022-03-24T11:07:27.168Z"
   },
   {
    "duration": 0,
    "start_time": "2022-03-24T11:07:27.169Z"
   },
   {
    "duration": 0,
    "start_time": "2022-03-24T11:07:27.170Z"
   },
   {
    "duration": 0,
    "start_time": "2022-03-24T11:07:27.172Z"
   },
   {
    "duration": 0,
    "start_time": "2022-03-24T11:07:27.174Z"
   },
   {
    "duration": 0,
    "start_time": "2022-03-24T11:07:27.175Z"
   },
   {
    "duration": 0,
    "start_time": "2022-03-24T11:07:27.177Z"
   },
   {
    "duration": 0,
    "start_time": "2022-03-24T11:07:27.178Z"
   },
   {
    "duration": 0,
    "start_time": "2022-03-24T11:07:27.179Z"
   },
   {
    "duration": 0,
    "start_time": "2022-03-24T11:07:27.180Z"
   },
   {
    "duration": 0,
    "start_time": "2022-03-24T11:07:27.182Z"
   },
   {
    "duration": 0,
    "start_time": "2022-03-24T11:07:27.183Z"
   },
   {
    "duration": 0,
    "start_time": "2022-03-24T11:07:27.184Z"
   },
   {
    "duration": 0,
    "start_time": "2022-03-24T11:07:27.186Z"
   },
   {
    "duration": 0,
    "start_time": "2022-03-24T11:07:27.187Z"
   },
   {
    "duration": 0,
    "start_time": "2022-03-24T11:07:27.189Z"
   },
   {
    "duration": 0,
    "start_time": "2022-03-24T11:07:27.190Z"
   },
   {
    "duration": 0,
    "start_time": "2022-03-24T11:07:27.192Z"
   },
   {
    "duration": 0,
    "start_time": "2022-03-24T11:07:27.193Z"
   },
   {
    "duration": 0,
    "start_time": "2022-03-24T11:07:27.194Z"
   },
   {
    "duration": 0,
    "start_time": "2022-03-24T11:07:27.196Z"
   },
   {
    "duration": 0,
    "start_time": "2022-03-24T11:07:27.197Z"
   },
   {
    "duration": 0,
    "start_time": "2022-03-24T11:07:27.199Z"
   },
   {
    "duration": 0,
    "start_time": "2022-03-24T11:07:27.201Z"
   },
   {
    "duration": 0,
    "start_time": "2022-03-24T11:07:27.203Z"
   },
   {
    "duration": 1839,
    "start_time": "2022-03-24T11:07:36.911Z"
   },
   {
    "duration": 261,
    "start_time": "2022-03-24T11:07:38.753Z"
   },
   {
    "duration": 39,
    "start_time": "2022-03-24T11:07:39.017Z"
   },
   {
    "duration": 25,
    "start_time": "2022-03-24T11:07:39.058Z"
   },
   {
    "duration": 12,
    "start_time": "2022-03-24T11:07:39.087Z"
   },
   {
    "duration": 67,
    "start_time": "2022-03-24T11:07:39.102Z"
   },
   {
    "duration": 7,
    "start_time": "2022-03-24T11:07:39.172Z"
   },
   {
    "duration": 11,
    "start_time": "2022-03-24T11:07:39.181Z"
   },
   {
    "duration": 296,
    "start_time": "2022-03-24T11:07:39.194Z"
   },
   {
    "duration": 10,
    "start_time": "2022-03-24T11:07:39.493Z"
   },
   {
    "duration": 15,
    "start_time": "2022-03-24T11:07:39.506Z"
   },
   {
    "duration": 257,
    "start_time": "2022-03-24T11:07:39.524Z"
   },
   {
    "duration": 10,
    "start_time": "2022-03-24T11:07:39.784Z"
   },
   {
    "duration": 275,
    "start_time": "2022-03-24T11:07:39.800Z"
   },
   {
    "duration": 8,
    "start_time": "2022-03-24T11:07:40.077Z"
   },
   {
    "duration": 16,
    "start_time": "2022-03-24T11:07:40.087Z"
   },
   {
    "duration": 9,
    "start_time": "2022-03-24T11:07:40.106Z"
   },
   {
    "duration": 52,
    "start_time": "2022-03-24T11:07:40.118Z"
   },
   {
    "duration": 8,
    "start_time": "2022-03-24T11:07:40.174Z"
   },
   {
    "duration": 7,
    "start_time": "2022-03-24T11:07:40.185Z"
   },
   {
    "duration": 14,
    "start_time": "2022-03-24T11:07:40.194Z"
   },
   {
    "duration": 16,
    "start_time": "2022-03-24T11:07:40.210Z"
   },
   {
    "duration": 9,
    "start_time": "2022-03-24T11:07:40.267Z"
   },
   {
    "duration": 13,
    "start_time": "2022-03-24T11:07:40.278Z"
   },
   {
    "duration": 8,
    "start_time": "2022-03-24T11:07:40.294Z"
   },
   {
    "duration": 14,
    "start_time": "2022-03-24T11:07:40.304Z"
   },
   {
    "duration": 95,
    "start_time": "2022-03-24T11:07:40.321Z"
   },
   {
    "duration": 8,
    "start_time": "2022-03-24T11:07:40.418Z"
   },
   {
    "duration": 9,
    "start_time": "2022-03-24T11:07:40.428Z"
   },
   {
    "duration": 32,
    "start_time": "2022-03-24T11:07:40.440Z"
   },
   {
    "duration": 15,
    "start_time": "2022-03-24T11:07:40.475Z"
   },
   {
    "duration": 92,
    "start_time": "2022-03-24T11:07:40.492Z"
   },
   {
    "duration": 7,
    "start_time": "2022-03-24T11:07:40.586Z"
   },
   {
    "duration": 15,
    "start_time": "2022-03-24T11:07:40.595Z"
   },
   {
    "duration": 11,
    "start_time": "2022-03-24T11:07:40.612Z"
   },
   {
    "duration": 43,
    "start_time": "2022-03-24T11:07:40.625Z"
   },
   {
    "duration": 8,
    "start_time": "2022-03-24T11:07:40.670Z"
   },
   {
    "duration": 261,
    "start_time": "2022-03-24T11:07:40.680Z"
   },
   {
    "duration": 8,
    "start_time": "2022-03-24T11:07:40.944Z"
   },
   {
    "duration": 19,
    "start_time": "2022-03-24T11:07:40.954Z"
   },
   {
    "duration": 9,
    "start_time": "2022-03-24T11:07:40.983Z"
   },
   {
    "duration": 263,
    "start_time": "2022-03-24T11:07:40.995Z"
   },
   {
    "duration": 8,
    "start_time": "2022-03-24T11:07:41.267Z"
   },
   {
    "duration": 328,
    "start_time": "2022-03-24T11:07:41.277Z"
   },
   {
    "duration": 8,
    "start_time": "2022-03-24T11:07:41.607Z"
   },
   {
    "duration": 8,
    "start_time": "2022-03-24T11:07:41.617Z"
   },
   {
    "duration": 7,
    "start_time": "2022-03-24T11:07:41.628Z"
   },
   {
    "duration": 8,
    "start_time": "2022-03-24T11:07:41.668Z"
   },
   {
    "duration": 8,
    "start_time": "2022-03-24T11:07:41.679Z"
   },
   {
    "duration": 10,
    "start_time": "2022-03-24T11:07:41.689Z"
   },
   {
    "duration": 7,
    "start_time": "2022-03-24T11:07:41.702Z"
   },
   {
    "duration": 11,
    "start_time": "2022-03-24T11:07:41.712Z"
   },
   {
    "duration": 11,
    "start_time": "2022-03-24T11:07:41.768Z"
   },
   {
    "duration": 8,
    "start_time": "2022-03-24T11:07:41.781Z"
   },
   {
    "duration": 11,
    "start_time": "2022-03-24T11:07:41.791Z"
   },
   {
    "duration": 8,
    "start_time": "2022-03-24T11:07:41.804Z"
   },
   {
    "duration": 60,
    "start_time": "2022-03-24T11:07:41.814Z"
   },
   {
    "duration": 32,
    "start_time": "2022-03-24T11:07:41.876Z"
   },
   {
    "duration": 8,
    "start_time": "2022-03-24T11:07:41.911Z"
   },
   {
    "duration": 8,
    "start_time": "2022-03-24T11:07:41.921Z"
   },
   {
    "duration": 41,
    "start_time": "2022-03-24T11:07:41.931Z"
   },
   {
    "duration": 11,
    "start_time": "2022-03-24T11:07:41.975Z"
   },
   {
    "duration": 38,
    "start_time": "2022-03-24T11:07:41.988Z"
   },
   {
    "duration": 41,
    "start_time": "2022-03-24T11:07:42.028Z"
   },
   {
    "duration": 8,
    "start_time": "2022-03-24T11:07:42.071Z"
   },
   {
    "duration": 21,
    "start_time": "2022-03-24T11:07:42.080Z"
   },
   {
    "duration": 89,
    "start_time": "2022-03-24T11:07:42.103Z"
   },
   {
    "duration": 16,
    "start_time": "2022-03-24T11:07:42.195Z"
   },
   {
    "duration": 24,
    "start_time": "2022-03-24T11:07:42.213Z"
   },
   {
    "duration": 34,
    "start_time": "2022-03-24T11:07:42.239Z"
   },
   {
    "duration": 19,
    "start_time": "2022-03-24T11:07:42.275Z"
   },
   {
    "duration": 15,
    "start_time": "2022-03-24T11:07:42.296Z"
   },
   {
    "duration": 6,
    "start_time": "2022-03-24T11:07:42.313Z"
   },
   {
    "duration": 10,
    "start_time": "2022-03-24T11:07:42.321Z"
   },
   {
    "duration": 3008,
    "start_time": "2022-03-24T11:07:42.333Z"
   },
   {
    "duration": 26,
    "start_time": "2022-03-24T11:07:45.343Z"
   },
   {
    "duration": 12,
    "start_time": "2022-03-24T11:07:45.371Z"
   },
   {
    "duration": 10,
    "start_time": "2022-03-24T11:07:45.385Z"
   },
   {
    "duration": 6,
    "start_time": "2022-03-24T11:07:45.398Z"
   },
   {
    "duration": 8,
    "start_time": "2022-03-24T11:07:45.406Z"
   },
   {
    "duration": 98,
    "start_time": "2022-03-24T11:07:45.416Z"
   },
   {
    "duration": 6,
    "start_time": "2022-03-24T11:07:45.517Z"
   },
   {
    "duration": 432,
    "start_time": "2022-03-24T11:07:45.525Z"
   },
   {
    "duration": 42,
    "start_time": "2022-03-24T11:07:45.959Z"
   },
   {
    "duration": 218,
    "start_time": "2022-03-24T11:07:46.004Z"
   },
   {
    "duration": 6,
    "start_time": "2022-03-24T11:07:46.225Z"
   },
   {
    "duration": 7,
    "start_time": "2022-03-24T11:07:46.233Z"
   },
   {
    "duration": 26,
    "start_time": "2022-03-24T11:07:46.242Z"
   },
   {
    "duration": 12,
    "start_time": "2022-03-24T11:07:46.270Z"
   },
   {
    "duration": 7,
    "start_time": "2022-03-24T11:07:46.284Z"
   },
   {
    "duration": 5,
    "start_time": "2022-03-24T11:07:46.293Z"
   },
   {
    "duration": 248150,
    "start_time": "2022-03-24T11:07:46.300Z"
   },
   {
    "duration": 5,
    "start_time": "2022-03-24T11:11:54.452Z"
   },
   {
    "duration": 6,
    "start_time": "2022-03-24T11:11:54.468Z"
   },
   {
    "duration": 2134,
    "start_time": "2022-03-24T11:11:54.475Z"
   },
   {
    "duration": 15,
    "start_time": "2022-03-24T11:11:56.612Z"
   },
   {
    "duration": 179946,
    "start_time": "2022-03-24T11:11:56.630Z"
   },
   {
    "duration": 99,
    "start_time": "2022-03-24T11:14:56.578Z"
   },
   {
    "duration": 1499,
    "start_time": "2022-03-24T11:14:56.769Z"
   },
   {
    "duration": 6,
    "start_time": "2022-03-24T11:14:58.271Z"
   },
   {
    "duration": 5,
    "start_time": "2022-03-24T11:14:58.279Z"
   },
   {
    "duration": 379143,
    "start_time": "2022-03-24T11:14:58.287Z"
   },
   {
    "duration": 6,
    "start_time": "2022-03-24T11:21:17.432Z"
   },
   {
    "duration": 6,
    "start_time": "2022-03-24T11:21:17.441Z"
   },
   {
    "duration": 243132,
    "start_time": "2022-03-24T11:21:17.468Z"
   },
   {
    "duration": 15,
    "start_time": "2022-03-24T11:25:20.602Z"
   },
   {
    "duration": 10,
    "start_time": "2022-03-24T11:25:20.619Z"
   },
   {
    "duration": 20,
    "start_time": "2022-03-24T11:25:20.631Z"
   },
   {
    "duration": 13,
    "start_time": "2022-03-24T11:25:20.654Z"
   },
   {
    "duration": 58,
    "start_time": "2022-03-24T11:25:20.671Z"
   },
   {
    "duration": 53,
    "start_time": "2022-03-24T11:25:20.732Z"
   },
   {
    "duration": 19,
    "start_time": "2022-03-24T11:25:20.787Z"
   },
   {
    "duration": 69,
    "start_time": "2022-03-24T11:25:20.808Z"
   },
   {
    "duration": 19,
    "start_time": "2022-03-24T11:25:20.881Z"
   },
   {
    "duration": 24,
    "start_time": "2022-03-24T11:25:20.902Z"
   },
   {
    "duration": 52,
    "start_time": "2022-03-24T11:25:20.928Z"
   },
   {
    "duration": 38,
    "start_time": "2022-03-24T11:25:20.983Z"
   },
   {
    "duration": 52,
    "start_time": "2022-03-24T11:25:21.023Z"
   },
   {
    "duration": 19,
    "start_time": "2022-03-24T11:25:21.078Z"
   },
   {
    "duration": 294,
    "start_time": "2022-03-24T11:25:21.100Z"
   },
   {
    "duration": 30,
    "start_time": "2022-03-24T11:25:21.397Z"
   },
   {
    "duration": 71,
    "start_time": "2022-03-24T11:25:21.440Z"
   },
   {
    "duration": 55,
    "start_time": "2022-03-24T11:25:21.514Z"
   },
   {
    "duration": 46,
    "start_time": "2022-03-24T11:25:21.573Z"
   },
   {
    "duration": 53,
    "start_time": "2022-03-24T11:25:21.621Z"
   },
   {
    "duration": 20,
    "start_time": "2022-03-24T11:25:21.678Z"
   },
   {
    "duration": 18,
    "start_time": "2022-03-24T11:25:21.700Z"
   },
   {
    "duration": 52,
    "start_time": "2022-03-24T11:25:21.720Z"
   },
   {
    "duration": 38,
    "start_time": "2022-03-24T11:25:21.775Z"
   },
   {
    "duration": 258,
    "start_time": "2022-03-24T11:25:21.816Z"
   },
   {
    "duration": 28,
    "start_time": "2022-03-24T11:25:22.077Z"
   },
   {
    "duration": 18,
    "start_time": "2022-03-24T11:25:22.108Z"
   }
  ],
  "kernelspec": {
   "display_name": "Python 3 (ipykernel)",
   "language": "python",
   "name": "python3"
  },
  "language_info": {
   "codemirror_mode": {
    "name": "ipython",
    "version": 3
   },
   "file_extension": ".py",
   "mimetype": "text/x-python",
   "name": "python",
   "nbconvert_exporter": "python",
   "pygments_lexer": "ipython3",
   "version": "3.9.12"
  },
  "toc": {
   "base_numbering": 1,
   "nav_menu": {},
   "number_sections": true,
   "sideBar": true,
   "skip_h1_title": true,
   "title_cell": "Table of Contents",
   "title_sidebar": "Contents",
   "toc_cell": false,
   "toc_position": {
    "height": "calc(100% - 180px)",
    "left": "10px",
    "top": "150px",
    "width": "338.344px"
   },
   "toc_section_display": true,
   "toc_window_display": true
  }
 },
 "nbformat": 4,
 "nbformat_minor": 2
}
