{
 "cells": [
  {
   "cell_type": "markdown",
   "metadata": {
    "toc": true
   },
   "source": [
    "<h1>Содержание<span class=\"tocSkip\"></span></h1>\n",
    "<div class=\"toc\"><ul class=\"toc-item\"><li><span><a href=\"#Подготовка\" data-toc-modified-id=\"Подготовка-1\"><span class=\"toc-item-num\">1&nbsp;&nbsp;</span>Подготовка</a></span><ul class=\"toc-item\"><li><span><a href=\"#Добавление-новых-признаков\" data-toc-modified-id=\"Добавление-новых-признаков-1.1\"><span class=\"toc-item-num\">1.1&nbsp;&nbsp;</span>Добавление новых признаков</a></span></li><li><span><a href=\"#Лемматизация-и-очистка-текста\" data-toc-modified-id=\"Лемматизация-и-очистка-текста-1.2\"><span class=\"toc-item-num\">1.2&nbsp;&nbsp;</span>Лемматизация и очистка текста</a></span></li><li><span><a href=\"#Разбивка-данных-на-выборки\" data-toc-modified-id=\"Разбивка-данных-на-выборки-1.3\"><span class=\"toc-item-num\">1.3&nbsp;&nbsp;</span>Разбивка данных на выборки</a></span></li><li><span><a href=\"#Масштабированние-признаков\" data-toc-modified-id=\"Масштабированние-признаков-1.4\"><span class=\"toc-item-num\">1.4&nbsp;&nbsp;</span>Масштабированние признаков</a></span></li><li><span><a href=\"#TF-IDF\" data-toc-modified-id=\"TF-IDF-1.5\"><span class=\"toc-item-num\">1.5&nbsp;&nbsp;</span>TF-IDF</a></span></li></ul></li><li><span><a href=\"#Обучение-моделей\" data-toc-modified-id=\"Обучение-моделей-2\"><span class=\"toc-item-num\">2&nbsp;&nbsp;</span>Обучение моделей</a></span><ul class=\"toc-item\"><li><span><a href=\"#Функции\" data-toc-modified-id=\"Функции-2.1\"><span class=\"toc-item-num\">2.1&nbsp;&nbsp;</span>Функции</a></span></li><li><span><a href=\"#LogisticRegression\" data-toc-modified-id=\"LogisticRegression-2.2\"><span class=\"toc-item-num\">2.2&nbsp;&nbsp;</span>LogisticRegression</a></span></li><li><span><a href=\"#CatBoostClassifier\" data-toc-modified-id=\"CatBoostClassifier-2.3\"><span class=\"toc-item-num\">2.3&nbsp;&nbsp;</span>CatBoostClassifier</a></span></li></ul></li><li><span><a href=\"#distilBERT\" data-toc-modified-id=\"distilBERT-3\"><span class=\"toc-item-num\">3&nbsp;&nbsp;</span>distilBERT</a></span><ul class=\"toc-item\"><li><span><a href=\"#Подготовка-признаков\" data-toc-modified-id=\"Подготовка-признаков-3.1\"><span class=\"toc-item-num\">3.1&nbsp;&nbsp;</span>Подготовка признаков</a></span></li><li><span><a href=\"#Разбивка-данных-на-выборки\" data-toc-modified-id=\"Разбивка-данных-на-выборки-3.2\"><span class=\"toc-item-num\">3.2&nbsp;&nbsp;</span>Разбивка данных на выборки</a></span></li><li><span><a href=\"#LogisticRegression\" data-toc-modified-id=\"LogisticRegression-3.3\"><span class=\"toc-item-num\">3.3&nbsp;&nbsp;</span>LogisticRegression</a></span></li><li><span><a href=\"#CatBoostClassifier\" data-toc-modified-id=\"CatBoostClassifier-3.4\"><span class=\"toc-item-num\">3.4&nbsp;&nbsp;</span>CatBoostClassifier</a></span></li></ul></li><li><span><a href=\"#Сравнение-моделей\" data-toc-modified-id=\"Сравнение-моделей-4\"><span class=\"toc-item-num\">4&nbsp;&nbsp;</span>Сравнение моделей</a></span></li><li><span><a href=\"#Тестирование-лучшей-модели\" data-toc-modified-id=\"Тестирование-лучшей-модели-5\"><span class=\"toc-item-num\">5&nbsp;&nbsp;</span>Тестирование лучшей модели</a></span></li><li><span><a href=\"#Выводы\" data-toc-modified-id=\"Выводы-6\"><span class=\"toc-item-num\">6&nbsp;&nbsp;</span>Выводы</a></span></li></ul></div>"
   ]
  },
  {
   "cell_type": "markdown",
   "metadata": {},
   "source": [
    "# Проект для «Викишоп» с BERT"
   ]
  },
  {
   "cell_type": "markdown",
   "metadata": {},
   "source": [
    "Интернет-магазин «Викишоп» запускает новый сервис. Теперь пользователи могут редактировать и дополнять описания товаров, как в вики-сообществах. То есть клиенты предлагают свои правки и комментируют изменения других. Магазину нужен инструмент, который будет искать токсичные комментарии и отправлять их на модерацию. \n",
    "\n",
    "Нужно обучить модель классифицировать комментарии на позитивные и негативные. В качестве исходных данных - набор данных с разметкой о токсичности правок.\n",
    "\n",
    "**Описание данных**\n",
    "\n",
    "Данные находятся в файле `toxic_comments.csv`. Столбец *text* в нём содержит текст комментария, а *toxic* — целевой признак."
   ]
  },
  {
   "cell_type": "markdown",
   "metadata": {},
   "source": [
    "## Подготовка"
   ]
  },
  {
   "cell_type": "code",
   "execution_count": 1,
   "metadata": {},
   "outputs": [],
   "source": [
    "import pandas as pd\n",
    "import numpy as np\n",
    "import matplotlib.pyplot as plt\n",
    "import seaborn as sns\n",
    "\n",
    "from sklearn.model_selection import train_test_split, GridSearchCV\n",
    "\n",
    "from sklearn.linear_model import LogisticRegression\n",
    "from sklearn.linear_model import LogisticRegressionCV\n",
    "from catboost import CatBoostClassifier\n",
    "from sklearn.metrics import ConfusionMatrixDisplay, classification_report, \\\n",
    "        f1_score, accuracy_score, roc_auc_score, roc_curve, \\\n",
    "        precision_score, recall_score\n",
    "from sklearn.preprocessing import StandardScaler\n",
    "\n",
    "import re\n",
    "import nltk\n",
    "from nltk.corpus import stopwords as nltk_stopwords\n",
    "from string import punctuation\n",
    "from sklearn.feature_extraction.text import TfidfVectorizer\n",
    "\n",
    "from scipy.sparse import hstack, vstack, csc_matrix, csr_matrix, coo_matrix\n",
    "\n",
    "import torch\n",
    "from tokenizers import Tokenizer\n",
    "import transformers as ppb\n",
    "from tqdm import tqdm, notebook\n",
    "tqdm.pandas()\n",
    "\n",
    "import warnings\n",
    "warnings.filterwarnings('ignore')"
   ]
  },
  {
   "cell_type": "code",
   "execution_count": 2,
   "metadata": {},
   "outputs": [],
   "source": [
    "df = pd.read_csv('./datasets/toxic_comments.csv', index_col=0) "
   ]
  },
  {
   "cell_type": "code",
   "execution_count": 3,
   "metadata": {},
   "outputs": [
    {
     "data": {
      "text/html": [
       "<style  type=\"text/css\" >\n",
       "#T_3824b_row0_col0,#T_3824b_row1_col0,#T_3824b_row2_col0,#T_3824b_row3_col0,#T_3824b_row4_col0{\n",
       "            text-align:  left;\n",
       "        }</style><table id=\"T_3824b_\" ><thead>    <tr>        <th class=\"blank level0\" ></th>        <th class=\"col_heading level0 col0\" >text</th>        <th class=\"col_heading level0 col1\" >toxic</th>    </tr></thead><tbody>\n",
       "                <tr>\n",
       "                        <th id=\"T_3824b_level0_row0\" class=\"row_heading level0 row0\" >0</th>\n",
       "                        <td id=\"T_3824b_row0_col0\" class=\"data row0 col0\" >Explanation\n",
       "Why the edits made under my username Hardcore Metallica Fan were reverted? They weren't vandalisms, just closure on some GAs after I voted at New York Dolls FAC. And please don't remove the template from the talk page since I'm retired now.89.205.38.27</td>\n",
       "                        <td id=\"T_3824b_row0_col1\" class=\"data row0 col1\" >0</td>\n",
       "            </tr>\n",
       "            <tr>\n",
       "                        <th id=\"T_3824b_level0_row1\" class=\"row_heading level0 row1\" >1</th>\n",
       "                        <td id=\"T_3824b_row1_col0\" class=\"data row1 col0\" >D'aww! He matches this background colour I'm seemingly stuck with. Thanks.  (talk) 21:51, January 11, 2016 (UTC)</td>\n",
       "                        <td id=\"T_3824b_row1_col1\" class=\"data row1 col1\" >0</td>\n",
       "            </tr>\n",
       "            <tr>\n",
       "                        <th id=\"T_3824b_level0_row2\" class=\"row_heading level0 row2\" >2</th>\n",
       "                        <td id=\"T_3824b_row2_col0\" class=\"data row2 col0\" >Hey man, I'm really not trying to edit war. It's just that this guy is constantly removing relevant information and talking to me through edits instead of my talk page. He seems to care more about the formatting than the actual info.</td>\n",
       "                        <td id=\"T_3824b_row2_col1\" class=\"data row2 col1\" >0</td>\n",
       "            </tr>\n",
       "            <tr>\n",
       "                        <th id=\"T_3824b_level0_row3\" class=\"row_heading level0 row3\" >3</th>\n",
       "                        <td id=\"T_3824b_row3_col0\" class=\"data row3 col0\" >\"\n",
       "More\n",
       "I can't make any real suggestions on improvement - I wondered if the section statistics should be later on, or a subsection of \"\"types of accidents\"\"  -I think the references may need tidying so that they are all in the exact same format ie date format etc. I can do that later on, if no-one else does first - if you have any preferences for formatting style on references or want to do it yourself please let me know.\n",
       "\n",
       "There appears to be a backlog on articles for review so I guess there may be a delay until a reviewer turns up. It's listed in the relevant form eg Wikipedia:Good_article_nominations#Transport  \"</td>\n",
       "                        <td id=\"T_3824b_row3_col1\" class=\"data row3 col1\" >0</td>\n",
       "            </tr>\n",
       "            <tr>\n",
       "                        <th id=\"T_3824b_level0_row4\" class=\"row_heading level0 row4\" >4</th>\n",
       "                        <td id=\"T_3824b_row4_col0\" class=\"data row4 col0\" >You, sir, are my hero. Any chance you remember what page that's on?</td>\n",
       "                        <td id=\"T_3824b_row4_col1\" class=\"data row4 col1\" >0</td>\n",
       "            </tr>\n",
       "    </tbody></table>"
      ],
      "text/plain": [
       "<pandas.io.formats.style.Styler at 0x22712633d30>"
      ]
     },
     "execution_count": 3,
     "metadata": {},
     "output_type": "execute_result"
    }
   ],
   "source": [
    "df.head().style.set_properties(subset=['text'],**{'text-align': 'left'})"
   ]
  },
  {
   "cell_type": "code",
   "execution_count": 4,
   "metadata": {},
   "outputs": [
    {
     "name": "stdout",
     "output_type": "stream",
     "text": [
      "<class 'pandas.core.frame.DataFrame'>\n",
      "Int64Index: 159292 entries, 0 to 159450\n",
      "Data columns (total 2 columns):\n",
      " #   Column  Non-Null Count   Dtype \n",
      "---  ------  --------------   ----- \n",
      " 0   text    159292 non-null  object\n",
      " 1   toxic   159292 non-null  int64 \n",
      "dtypes: int64(1), object(1)\n",
      "memory usage: 3.6+ MB\n"
     ]
    }
   ],
   "source": [
    "df.info()"
   ]
  },
  {
   "cell_type": "markdown",
   "metadata": {},
   "source": [
    "Изменим порядок столбцов, для удобства"
   ]
  },
  {
   "cell_type": "code",
   "execution_count": 5,
   "metadata": {},
   "outputs": [],
   "source": [
    "df = df[['toxic', 'text']] "
   ]
  },
  {
   "cell_type": "markdown",
   "metadata": {},
   "source": [
    "Посмотрим на распределение классов в данных"
   ]
  },
  {
   "cell_type": "code",
   "execution_count": 6,
   "metadata": {},
   "outputs": [
    {
     "data": {
      "image/png": "[encoded data removed]",
      "text/plain": [
       "<Figure size 550x550 with 1 Axes>"
      ]
     },
     "metadata": {},
     "output_type": "display_data"
    }
   ],
   "source": [
    "df['toxic'].value_counts(normalize=True).plot(kind='pie',\n",
    "            figsize=[5.5,5.5], legend=False, autopct='%1.1f%%',\n",
    "            labels=['Негативный отзыв, класс [0]','Позитивный отзыв, класс [1]'])\n",
    "plt.title('Баланс распределения классов в данных')\n",
    "plt.ylabel('')\n",
    "plt.show()"
   ]
  },
  {
   "cell_type": "markdown",
   "metadata": {},
   "source": [
    "* Наблюдается сильный дисбаланс классов, соотношение 1 к 9"
   ]
  },
  {
   "cell_type": "markdown",
   "metadata": {},
   "source": [
    "### Добавление новых признаков"
   ]
  },
  {
   "cell_type": "markdown",
   "metadata": {},
   "source": [
    "Функция для создания новых признаков"
   ]
  },
  {
   "cell_type": "code",
   "execution_count": 7,
   "metadata": {},
   "outputs": [],
   "source": [
    "def feature(df, text_columns):\n",
    "    df_new = pd.DataFrame(index=df.index)\n",
    "    df_new['word_count'] = df[text_columns].apply(lambda x : len(x.split()))\n",
    "    df_new['char_count'] = df[text_columns].apply(lambda x : len(x.replace(\" \",\"\")))\n",
    "    df_new['punc_count'] = df[text_columns].apply(lambda x : len([i for i in x if i in punctuation]))\n",
    "    df_new['total_length'] = df[text_columns].apply(len)\n",
    "    df_new['capitals'] = df[text_columns].apply(lambda x: sum(1 for i in x if i.isupper()))\n",
    "    df_new['caps_vs_length'] = df_new.apply(lambda row: float(row['capitals'])/float(row['total_length']), axis=1)\n",
    "    df_new['num_exclamation_marks'] =df[text_columns].apply(lambda x: x.count('!'))\n",
    "    df_new['num_question_marks'] = df[text_columns].apply(lambda x: x.count('?'))\n",
    "    df_new['num_punctuation'] = df[text_columns].apply(lambda x: sum(x.count(w) for w in '.,;:'))\n",
    "    df_new['num_symbols'] = df[text_columns].apply(lambda x: sum(x.count(w) for w in '*&$%'))\n",
    "    df_new['num_unique_words'] = df[text_columns].apply(lambda x: len(set(w for w in x.split())))\n",
    "    return df_new"
   ]
  },
  {
   "cell_type": "code",
   "execution_count": 8,
   "metadata": {},
   "outputs": [],
   "source": [
    "features_new = feature(df, 'text')"
   ]
  },
  {
   "cell_type": "markdown",
   "metadata": {},
   "source": [
    "Статистические данные новых признаков:"
   ]
  },
  {
   "cell_type": "code",
   "execution_count": 9,
   "metadata": {},
   "outputs": [
    {
     "data": {
      "text/html": [
       "<div>\n",
       "<style scoped>\n",
       "    .dataframe tbody tr th:only-of-type {\n",
       "        vertical-align: middle;\n",
       "    }\n",
       "\n",
       "    .dataframe tbody tr th {\n",
       "        vertical-align: top;\n",
       "    }\n",
       "\n",
       "    .dataframe thead th {\n",
       "        text-align: right;\n",
       "    }\n",
       "</style>\n",
       "<table border=\"1\" class=\"dataframe\">\n",
       "  <thead>\n",
       "    <tr style=\"text-align: right;\">\n",
       "      <th></th>\n",
       "      <th>word_count</th>\n",
       "      <th>char_count</th>\n",
       "      <th>punc_count</th>\n",
       "      <th>total_length</th>\n",
       "      <th>capitals</th>\n",
       "      <th>caps_vs_length</th>\n",
       "      <th>num_exclamation_marks</th>\n",
       "      <th>num_question_marks</th>\n",
       "      <th>num_punctuation</th>\n",
       "      <th>num_symbols</th>\n",
       "      <th>num_unique_words</th>\n",
       "    </tr>\n",
       "  </thead>\n",
       "  <tbody>\n",
       "    <tr>\n",
       "      <th>count</th>\n",
       "      <td>159292.000000</td>\n",
       "      <td>159292.000000</td>\n",
       "      <td>159292.000000</td>\n",
       "      <td>159292.000000</td>\n",
       "      <td>159292.000000</td>\n",
       "      <td>159292.000000</td>\n",
       "      <td>159292.000000</td>\n",
       "      <td>159292.000000</td>\n",
       "      <td>159292.000000</td>\n",
       "      <td>159292.000000</td>\n",
       "      <td>159292.000000</td>\n",
       "    </tr>\n",
       "    <tr>\n",
       "      <th>mean</th>\n",
       "      <td>67.213545</td>\n",
       "      <td>326.883955</td>\n",
       "      <td>15.867809</td>\n",
       "      <td>393.691303</td>\n",
       "      <td>17.148620</td>\n",
       "      <td>0.051619</td>\n",
       "      <td>0.661653</td>\n",
       "      <td>0.449043</td>\n",
       "      <td>7.966094</td>\n",
       "      <td>0.116465</td>\n",
       "      <td>48.059633</td>\n",
       "    </tr>\n",
       "    <tr>\n",
       "      <th>std</th>\n",
       "      <td>99.133908</td>\n",
       "      <td>491.703226</td>\n",
       "      <td>36.638691</td>\n",
       "      <td>590.111825</td>\n",
       "      <td>96.593201</td>\n",
       "      <td>0.092817</td>\n",
       "      <td>25.921868</td>\n",
       "      <td>1.590390</td>\n",
       "      <td>12.760427</td>\n",
       "      <td>1.087693</td>\n",
       "      <td>54.389936</td>\n",
       "    </tr>\n",
       "    <tr>\n",
       "      <th>min</th>\n",
       "      <td>1.000000</td>\n",
       "      <td>3.000000</td>\n",
       "      <td>0.000000</td>\n",
       "      <td>5.000000</td>\n",
       "      <td>0.000000</td>\n",
       "      <td>0.000000</td>\n",
       "      <td>0.000000</td>\n",
       "      <td>0.000000</td>\n",
       "      <td>0.000000</td>\n",
       "      <td>0.000000</td>\n",
       "      <td>1.000000</td>\n",
       "    </tr>\n",
       "    <tr>\n",
       "      <th>25%</th>\n",
       "      <td>17.000000</td>\n",
       "      <td>80.000000</td>\n",
       "      <td>4.000000</td>\n",
       "      <td>95.000000</td>\n",
       "      <td>3.000000</td>\n",
       "      <td>0.020706</td>\n",
       "      <td>0.000000</td>\n",
       "      <td>0.000000</td>\n",
       "      <td>2.000000</td>\n",
       "      <td>0.000000</td>\n",
       "      <td>16.000000</td>\n",
       "    </tr>\n",
       "    <tr>\n",
       "      <th>50%</th>\n",
       "      <td>36.000000</td>\n",
       "      <td>170.000000</td>\n",
       "      <td>8.000000</td>\n",
       "      <td>205.000000</td>\n",
       "      <td>7.000000</td>\n",
       "      <td>0.031746</td>\n",
       "      <td>0.000000</td>\n",
       "      <td>0.000000</td>\n",
       "      <td>4.000000</td>\n",
       "      <td>0.000000</td>\n",
       "      <td>31.000000</td>\n",
       "    </tr>\n",
       "    <tr>\n",
       "      <th>75%</th>\n",
       "      <td>75.000000</td>\n",
       "      <td>361.000000</td>\n",
       "      <td>17.000000</td>\n",
       "      <td>435.000000</td>\n",
       "      <td>15.000000</td>\n",
       "      <td>0.048825</td>\n",
       "      <td>0.000000</td>\n",
       "      <td>1.000000</td>\n",
       "      <td>9.000000</td>\n",
       "      <td>0.000000</td>\n",
       "      <td>59.000000</td>\n",
       "    </tr>\n",
       "    <tr>\n",
       "      <th>max</th>\n",
       "      <td>1411.000000</td>\n",
       "      <td>4967.000000</td>\n",
       "      <td>4942.000000</td>\n",
       "      <td>5000.000000</td>\n",
       "      <td>4960.000000</td>\n",
       "      <td>0.998189</td>\n",
       "      <td>4942.000000</td>\n",
       "      <td>209.000000</td>\n",
       "      <td>682.000000</td>\n",
       "      <td>148.000000</td>\n",
       "      <td>816.000000</td>\n",
       "    </tr>\n",
       "  </tbody>\n",
       "</table>\n",
       "</div>"
      ],
      "text/plain": [
       "          word_count     char_count     punc_count   total_length  \\\n",
       "count  159292.000000  159292.000000  159292.000000  159292.000000   \n",
       "mean       67.213545     326.883955      15.867809     393.691303   \n",
       "std        99.133908     491.703226      36.638691     590.111825   \n",
       "min         1.000000       3.000000       0.000000       5.000000   \n",
       "25%        17.000000      80.000000       4.000000      95.000000   \n",
       "50%        36.000000     170.000000       8.000000     205.000000   \n",
       "75%        75.000000     361.000000      17.000000     435.000000   \n",
       "max      1411.000000    4967.000000    4942.000000    5000.000000   \n",
       "\n",
       "            capitals  caps_vs_length  num_exclamation_marks  \\\n",
       "count  159292.000000   159292.000000          159292.000000   \n",
       "mean       17.148620        0.051619               0.661653   \n",
       "std        96.593201        0.092817              25.921868   \n",
       "min         0.000000        0.000000               0.000000   \n",
       "25%         3.000000        0.020706               0.000000   \n",
       "50%         7.000000        0.031746               0.000000   \n",
       "75%        15.000000        0.048825               0.000000   \n",
       "max      4960.000000        0.998189            4942.000000   \n",
       "\n",
       "       num_question_marks  num_punctuation    num_symbols  num_unique_words  \n",
       "count       159292.000000    159292.000000  159292.000000     159292.000000  \n",
       "mean             0.449043         7.966094       0.116465         48.059633  \n",
       "std              1.590390        12.760427       1.087693         54.389936  \n",
       "min              0.000000         0.000000       0.000000          1.000000  \n",
       "25%              0.000000         2.000000       0.000000         16.000000  \n",
       "50%              0.000000         4.000000       0.000000         31.000000  \n",
       "75%              1.000000         9.000000       0.000000         59.000000  \n",
       "max            209.000000       682.000000     148.000000        816.000000  "
      ]
     },
     "execution_count": 9,
     "metadata": {},
     "output_type": "execute_result"
    }
   ],
   "source": [
    "features_new.describe()"
   ]
  },
  {
   "cell_type": "markdown",
   "metadata": {},
   "source": [
    "Добавим новые признаки в исходный датафрейм"
   ]
  },
  {
   "cell_type": "code",
   "execution_count": 10,
   "metadata": {},
   "outputs": [],
   "source": [
    "df = pd.concat([df, features_new], axis=1)"
   ]
  },
  {
   "cell_type": "code",
   "execution_count": 11,
   "metadata": {},
   "outputs": [
    {
     "name": "stdout",
     "output_type": "stream",
     "text": [
      "<class 'pandas.core.frame.DataFrame'>\n",
      "Int64Index: 159292 entries, 0 to 159450\n",
      "Data columns (total 13 columns):\n",
      " #   Column                 Non-Null Count   Dtype  \n",
      "---  ------                 --------------   -----  \n",
      " 0   toxic                  159292 non-null  int64  \n",
      " 1   text                   159292 non-null  object \n",
      " 2   word_count             159292 non-null  int64  \n",
      " 3   char_count             159292 non-null  int64  \n",
      " 4   punc_count             159292 non-null  int64  \n",
      " 5   total_length           159292 non-null  int64  \n",
      " 6   capitals               159292 non-null  int64  \n",
      " 7   caps_vs_length         159292 non-null  float64\n",
      " 8   num_exclamation_marks  159292 non-null  int64  \n",
      " 9   num_question_marks     159292 non-null  int64  \n",
      " 10  num_punctuation        159292 non-null  int64  \n",
      " 11  num_symbols            159292 non-null  int64  \n",
      " 12  num_unique_words       159292 non-null  int64  \n",
      "dtypes: float64(1), int64(11), object(1)\n",
      "memory usage: 17.0+ MB\n"
     ]
    }
   ],
   "source": [
    "df.info()"
   ]
  },
  {
   "cell_type": "markdown",
   "metadata": {},
   "source": [
    "Проверим данные на пропуски"
   ]
  },
  {
   "cell_type": "code",
   "execution_count": 12,
   "metadata": {},
   "outputs": [
    {
     "data": {
      "text/plain": [
       "toxic                    0.0\n",
       "text                     0.0\n",
       "word_count               0.0\n",
       "char_count               0.0\n",
       "punc_count               0.0\n",
       "total_length             0.0\n",
       "capitals                 0.0\n",
       "caps_vs_length           0.0\n",
       "num_exclamation_marks    0.0\n",
       "num_question_marks       0.0\n",
       "num_punctuation          0.0\n",
       "num_symbols              0.0\n",
       "num_unique_words         0.0\n",
       "dtype: float64"
      ]
     },
     "execution_count": 12,
     "metadata": {},
     "output_type": "execute_result"
    }
   ],
   "source": [
    "df.isna().mean()"
   ]
  },
  {
   "cell_type": "markdown",
   "metadata": {},
   "source": [
    "* Пропусков не обнаруженно"
   ]
  },
  {
   "cell_type": "markdown",
   "metadata": {},
   "source": [
    "### Лемматизация и очистка текста"
   ]
  },
  {
   "cell_type": "code",
   "execution_count": 13,
   "metadata": {},
   "outputs": [],
   "source": [
    "wnl = nltk.WordNetLemmatizer()"
   ]
  },
  {
   "cell_type": "markdown",
   "metadata": {},
   "source": [
    "Функция очистки текста"
   ]
  },
  {
   "cell_type": "code",
   "execution_count": 14,
   "metadata": {},
   "outputs": [],
   "source": [
    "def clear(text):\n",
    "    return re.sub(r\"[^'a-zA-Z ]\", ' ', text)"
   ]
  },
  {
   "cell_type": "markdown",
   "metadata": {},
   "source": [
    "Функция лемматизации"
   ]
  },
  {
   "cell_type": "code",
   "execution_count": 15,
   "metadata": {},
   "outputs": [],
   "source": [
    "def lemm(text):\n",
    "    s = text\n",
    "    s = \" \".join(nltk.word_tokenize(s))\n",
    "    s = wnl.lemmatize(s).lower()\n",
    "    return s"
   ]
  },
  {
   "cell_type": "code",
   "execution_count": 16,
   "metadata": {},
   "outputs": [
    {
     "name": "stderr",
     "output_type": "stream",
     "text": [
      "100%|██████████| 159292/159292 [00:00<00:00, 161265.84it/s]\n",
      "100%|██████████| 159292/159292 [00:32<00:00, 4863.61it/s]\n"
     ]
    }
   ],
   "source": [
    "df['text'] = df['text'].progress_apply(lambda x: clear(x))\n",
    "df['lemma'] = df['text'].progress_apply(lambda x: lemm(x))"
   ]
  },
  {
   "cell_type": "markdown",
   "metadata": {},
   "source": [
    "Проверим результат лемматизации"
   ]
  },
  {
   "cell_type": "code",
   "execution_count": 17,
   "metadata": {
    "scrolled": true
   },
   "outputs": [
    {
     "data": {
      "text/html": [
       "<style  type=\"text/css\" >\n",
       "#T_ba875_row0_col0,#T_ba875_row0_col1,#T_ba875_row1_col0,#T_ba875_row1_col1,#T_ba875_row2_col0,#T_ba875_row2_col1,#T_ba875_row3_col0,#T_ba875_row3_col1,#T_ba875_row4_col0,#T_ba875_row4_col1{\n",
       "            text-align:  left;\n",
       "        }</style><table id=\"T_ba875_\" ><thead>    <tr>        <th class=\"blank level0\" ></th>        <th class=\"col_heading level0 col0\" >text</th>        <th class=\"col_heading level0 col1\" >lemma</th>    </tr></thead><tbody>\n",
       "                <tr>\n",
       "                        <th id=\"T_ba875_level0_row0\" class=\"row_heading level0 row0\" >0</th>\n",
       "                        <td id=\"T_ba875_row0_col0\" class=\"data row0 col0\" >Explanation Why the edits made under my username Hardcore Metallica Fan were reverted  They weren't vandalisms  just closure on some GAs after I voted at New York Dolls FAC  And please don't remove the template from the talk page since I'm retired now             </td>\n",
       "                        <td id=\"T_ba875_row0_col1\" class=\"data row0 col1\" >explanation why the edits made under my username hardcore metallica fan were reverted they were n't vandalisms just closure on some gas after i voted at new york dolls fac and please do n't remove the template from the talk page since i 'm retired now</td>\n",
       "            </tr>\n",
       "            <tr>\n",
       "                        <th id=\"T_ba875_level0_row1\" class=\"row_heading level0 row1\" >1</th>\n",
       "                        <td id=\"T_ba875_row1_col0\" class=\"data row1 col0\" >D'aww  He matches this background colour I'm seemingly stuck with  Thanks    talk         January           UTC </td>\n",
       "                        <td id=\"T_ba875_row1_col1\" class=\"data row1 col1\" >d'aww he matches this background colour i 'm seemingly stuck with thanks talk january utc</td>\n",
       "            </tr>\n",
       "            <tr>\n",
       "                        <th id=\"T_ba875_level0_row2\" class=\"row_heading level0 row2\" >2</th>\n",
       "                        <td id=\"T_ba875_row2_col0\" class=\"data row2 col0\" >Hey man  I'm really not trying to edit war  It's just that this guy is constantly removing relevant information and talking to me through edits instead of my talk page  He seems to care more about the formatting than the actual info </td>\n",
       "                        <td id=\"T_ba875_row2_col1\" class=\"data row2 col1\" >hey man i 'm really not trying to edit war it 's just that this guy is constantly removing relevant information and talking to me through edits instead of my talk page he seems to care more about the formatting than the actual info</td>\n",
       "            </tr>\n",
       "            <tr>\n",
       "                        <th id=\"T_ba875_level0_row3\" class=\"row_heading level0 row3\" >3</th>\n",
       "                        <td id=\"T_ba875_row3_col0\" class=\"data row3 col0\" >  More I can't make any real suggestions on improvement   I wondered if the section statistics should be later on  or a subsection of   types of accidents     I think the references may need tidying so that they are all in the exact same format ie date format etc  I can do that later on  if no one else does first   if you have any preferences for formatting style on references or want to do it yourself please let me know   There appears to be a backlog on articles for review so I guess there may be a delay until a reviewer turns up  It's listed in the relevant form eg Wikipedia Good article nominations Transport   </td>\n",
       "                        <td id=\"T_ba875_row3_col1\" class=\"data row3 col1\" >more i ca n't make any real suggestions on improvement i wondered if the section statistics should be later on or a subsection of types of accidents i think the references may need tidying so that they are all in the exact same format ie date format etc i can do that later on if no one else does first if you have any preferences for formatting style on references or want to do it yourself please let me know there appears to be a backlog on articles for review so i guess there may be a delay until a reviewer turns up it 's listed in the relevant form eg wikipedia good article nominations transport</td>\n",
       "            </tr>\n",
       "            <tr>\n",
       "                        <th id=\"T_ba875_level0_row4\" class=\"row_heading level0 row4\" >4</th>\n",
       "                        <td id=\"T_ba875_row4_col0\" class=\"data row4 col0\" >You  sir  are my hero  Any chance you remember what page that's on </td>\n",
       "                        <td id=\"T_ba875_row4_col1\" class=\"data row4 col1\" >you sir are my hero any chance you remember what page that 's on</td>\n",
       "            </tr>\n",
       "    </tbody></table>"
      ],
      "text/plain": [
       "<pandas.io.formats.style.Styler at 0x227451eaf10>"
      ]
     },
     "execution_count": 17,
     "metadata": {},
     "output_type": "execute_result"
    }
   ],
   "source": [
    "df[['text', 'lemma']].head().style.set_properties(**{'text-align':'left'})"
   ]
  },
  {
   "cell_type": "markdown",
   "metadata": {},
   "source": [
    "Поменяем расположение столбца `lemma` для удобства"
   ]
  },
  {
   "cell_type": "code",
   "execution_count": 18,
   "metadata": {},
   "outputs": [],
   "source": [
    "df.insert(2, \"lemma\", df.pop(\"lemma\"))"
   ]
  },
  {
   "cell_type": "markdown",
   "metadata": {},
   "source": [
    "### Разбивка данных на выборки"
   ]
  },
  {
   "cell_type": "code",
   "execution_count": 19,
   "metadata": {},
   "outputs": [],
   "source": [
    "X = df.drop('toxic', axis=1)\n",
    "y = df['toxic']"
   ]
  },
  {
   "cell_type": "code",
   "execution_count": 20,
   "metadata": {},
   "outputs": [],
   "source": [
    "X_train, X_test, y_train, y_test  = train_test_split(X, y,\n",
    "            test_size=0.3, shuffle=True, random_state=56, stratify=y)"
   ]
  },
  {
   "cell_type": "code",
   "execution_count": 21,
   "metadata": {},
   "outputs": [
    {
     "name": "stdout",
     "output_type": "stream",
     "text": [
      "Итоговые размеры выборок, обучающая:тестовая - 70%:30%\n"
     ]
    }
   ],
   "source": [
    "print(f'Итоговые размеры выборок, обучающая:тестовая - {y_train.count() / y.count():.0%}'\n",
    "      f':{y_test.count()/ y.count():.0%}')"
   ]
  },
  {
   "cell_type": "markdown",
   "metadata": {},
   "source": [
    "### Масштабированние признаков"
   ]
  },
  {
   "cell_type": "code",
   "execution_count": 22,
   "metadata": {},
   "outputs": [],
   "source": [
    "scaler = StandardScaler().fit(X_train.iloc[:, 2:])"
   ]
  },
  {
   "cell_type": "code",
   "execution_count": 23,
   "metadata": {},
   "outputs": [],
   "source": [
    "def scaler_trsnsform(df, scaler=scaler):\n",
    "    return pd.DataFrame(scaler.transform(df),\n",
    "                        columns=df.columns,\n",
    "                        index=df.index)"
   ]
  },
  {
   "cell_type": "code",
   "execution_count": 24,
   "metadata": {},
   "outputs": [],
   "source": [
    "X_train.iloc[:, 2:] = scaler_trsnsform(X_train.iloc[:, 2:], scaler)\n",
    "X_test.iloc[:, 2:] = scaler_trsnsform(X_test.iloc[:, 2:], scaler)"
   ]
  },
  {
   "cell_type": "markdown",
   "metadata": {},
   "source": [
    "Оптимизуруем типы данных"
   ]
  },
  {
   "cell_type": "code",
   "execution_count": 25,
   "metadata": {},
   "outputs": [],
   "source": [
    "for i in X_train.columns[2:]:\n",
    "    X_train[i] = pd.to_numeric(X_train[i], downcast='float')\n",
    "    X_test[i] = pd.to_numeric(X_test[i], downcast='float')"
   ]
  },
  {
   "cell_type": "markdown",
   "metadata": {},
   "source": [
    "### TF-IDF"
   ]
  },
  {
   "cell_type": "code",
   "execution_count": 26,
   "metadata": {},
   "outputs": [],
   "source": [
    "corpus_train = X_train['lemma']\n",
    "corpus_test = X_test['lemma']"
   ]
  },
  {
   "cell_type": "code",
   "execution_count": 27,
   "metadata": {},
   "outputs": [
    {
     "data": {
      "text/html": [
       "<style>#sk-container-id-1 {color: black;background-color: white;}#sk-container-id-1 pre{padding: 0;}#sk-container-id-1 div.sk-toggleable {background-color: white;}#sk-container-id-1 label.sk-toggleable__label {cursor: pointer;display: block;width: 100%;margin-bottom: 0;padding: 0.3em;box-sizing: border-box;text-align: center;}#sk-container-id-1 label.sk-toggleable__label-arrow:before {content: \"▸\";float: left;margin-right: 0.25em;color: #696969;}#sk-container-id-1 label.sk-toggleable__label-arrow:hover:before {color: black;}#sk-container-id-1 div.sk-estimator:hover label.sk-toggleable__label-arrow:before {color: black;}#sk-container-id-1 div.sk-toggleable__content {max-height: 0;max-width: 0;overflow: hidden;text-align: left;background-color: #f0f8ff;}#sk-container-id-1 div.sk-toggleable__content pre {margin: 0.2em;color: black;border-radius: 0.25em;background-color: #f0f8ff;}#sk-container-id-1 input.sk-toggleable__control:checked~div.sk-toggleable__content {max-height: 200px;max-width: 100%;overflow: auto;}#sk-container-id-1 input.sk-toggleable__control:checked~label.sk-toggleable__label-arrow:before {content: \"▾\";}#sk-container-id-1 div.sk-estimator input.sk-toggleable__control:checked~label.sk-toggleable__label {background-color: #d4ebff;}#sk-container-id-1 div.sk-label input.sk-toggleable__control:checked~label.sk-toggleable__label {background-color: #d4ebff;}#sk-container-id-1 input.sk-hidden--visually {border: 0;clip: rect(1px 1px 1px 1px);clip: rect(1px, 1px, 1px, 1px);height: 1px;margin: -1px;overflow: hidden;padding: 0;position: absolute;width: 1px;}#sk-container-id-1 div.sk-estimator {font-family: monospace;background-color: #f0f8ff;border: 1px dotted black;border-radius: 0.25em;box-sizing: border-box;margin-bottom: 0.5em;}#sk-container-id-1 div.sk-estimator:hover {background-color: #d4ebff;}#sk-container-id-1 div.sk-parallel-item::after {content: \"\";width: 100%;border-bottom: 1px solid gray;flex-grow: 1;}#sk-container-id-1 div.sk-label:hover label.sk-toggleable__label {background-color: #d4ebff;}#sk-container-id-1 div.sk-serial::before {content: \"\";position: absolute;border-left: 1px solid gray;box-sizing: border-box;top: 0;bottom: 0;left: 50%;z-index: 0;}#sk-container-id-1 div.sk-serial {display: flex;flex-direction: column;align-items: center;background-color: white;padding-right: 0.2em;padding-left: 0.2em;position: relative;}#sk-container-id-1 div.sk-item {position: relative;z-index: 1;}#sk-container-id-1 div.sk-parallel {display: flex;align-items: stretch;justify-content: center;background-color: white;position: relative;}#sk-container-id-1 div.sk-item::before, #sk-container-id-1 div.sk-parallel-item::before {content: \"\";position: absolute;border-left: 1px solid gray;box-sizing: border-box;top: 0;bottom: 0;left: 50%;z-index: -1;}#sk-container-id-1 div.sk-parallel-item {display: flex;flex-direction: column;z-index: 1;position: relative;background-color: white;}#sk-container-id-1 div.sk-parallel-item:first-child::after {align-self: flex-end;width: 50%;}#sk-container-id-1 div.sk-parallel-item:last-child::after {align-self: flex-start;width: 50%;}#sk-container-id-1 div.sk-parallel-item:only-child::after {width: 0;}#sk-container-id-1 div.sk-dashed-wrapped {border: 1px dashed gray;margin: 0 0.4em 0.5em 0.4em;box-sizing: border-box;padding-bottom: 0.4em;background-color: white;}#sk-container-id-1 div.sk-label label {font-family: monospace;font-weight: bold;display: inline-block;line-height: 1.2em;}#sk-container-id-1 div.sk-label-container {text-align: center;}#sk-container-id-1 div.sk-container {/* jupyter's `normalize.less` sets `[hidden] { display: none; }` but bootstrap.min.css set `[hidden] { display: none !important; }` so we also need the `!important` here to be able to override the default hidden behavior on the sphinx rendered scikit-learn.org. See: https://github.com/scikit-learn/scikit-learn/issues/21755 */display: inline-block !important;position: relative;}#sk-container-id-1 div.sk-text-repr-fallback {display: none;}</style><div id=\"sk-container-id-1\" class=\"sk-top-container\"><div class=\"sk-text-repr-fallback\"><pre>TfidfVectorizer(stop_words={&#x27;a&#x27;, &#x27;about&#x27;, &#x27;above&#x27;, &#x27;after&#x27;, &#x27;again&#x27;, &#x27;against&#x27;,\n",
       "                            &#x27;ain&#x27;, &#x27;all&#x27;, &#x27;am&#x27;, &#x27;an&#x27;, &#x27;and&#x27;, &#x27;any&#x27;, &#x27;are&#x27;,\n",
       "                            &#x27;aren&#x27;, &quot;aren&#x27;t&quot;, &#x27;as&#x27;, &#x27;at&#x27;, &#x27;be&#x27;, &#x27;because&#x27;,\n",
       "                            &#x27;been&#x27;, &#x27;before&#x27;, &#x27;being&#x27;, &#x27;below&#x27;, &#x27;between&#x27;,\n",
       "                            &#x27;both&#x27;, &#x27;but&#x27;, &#x27;by&#x27;, &#x27;can&#x27;, &#x27;couldn&#x27;, &quot;couldn&#x27;t&quot;, ...})</pre><b>In a Jupyter environment, please rerun this cell to show the HTML representation or trust the notebook. <br />On GitHub, the HTML representation is unable to render, please try loading this page with nbviewer.org.</b></div><div class=\"sk-container\" hidden><div class=\"sk-item\"><div class=\"sk-estimator sk-toggleable\"><input class=\"sk-toggleable__control sk-hidden--visually\" id=\"sk-estimator-id-1\" type=\"checkbox\" checked><label for=\"sk-estimator-id-1\" class=\"sk-toggleable__label sk-toggleable__label-arrow\">TfidfVectorizer</label><div class=\"sk-toggleable__content\"><pre>TfidfVectorizer(stop_words={&#x27;a&#x27;, &#x27;about&#x27;, &#x27;above&#x27;, &#x27;after&#x27;, &#x27;again&#x27;, &#x27;against&#x27;,\n",
       "                            &#x27;ain&#x27;, &#x27;all&#x27;, &#x27;am&#x27;, &#x27;an&#x27;, &#x27;and&#x27;, &#x27;any&#x27;, &#x27;are&#x27;,\n",
       "                            &#x27;aren&#x27;, &quot;aren&#x27;t&quot;, &#x27;as&#x27;, &#x27;at&#x27;, &#x27;be&#x27;, &#x27;because&#x27;,\n",
       "                            &#x27;been&#x27;, &#x27;before&#x27;, &#x27;being&#x27;, &#x27;below&#x27;, &#x27;between&#x27;,\n",
       "                            &#x27;both&#x27;, &#x27;but&#x27;, &#x27;by&#x27;, &#x27;can&#x27;, &#x27;couldn&#x27;, &quot;couldn&#x27;t&quot;, ...})</pre></div></div></div></div></div>"
      ],
      "text/plain": [
       "TfidfVectorizer(stop_words={'a', 'about', 'above', 'after', 'again', 'against',\n",
       "                            'ain', 'all', 'am', 'an', 'and', 'any', 'are',\n",
       "                            'aren', \"aren't\", 'as', 'at', 'be', 'because',\n",
       "                            'been', 'before', 'being', 'below', 'between',\n",
       "                            'both', 'but', 'by', 'can', 'couldn', \"couldn't\", ...})"
      ]
     },
     "execution_count": 27,
     "metadata": {},
     "output_type": "execute_result"
    }
   ],
   "source": [
    "stopwords = set(nltk_stopwords.words('english'))\n",
    "model_tfidf = TfidfVectorizer(stop_words=stopwords)\n",
    "model_tfidf.fit(corpus_train)"
   ]
  },
  {
   "cell_type": "code",
   "execution_count": 28,
   "metadata": {},
   "outputs": [],
   "source": [
    "tfidf_train = model_tfidf.transform(corpus_train)\n",
    "tfidf_test = model_tfidf.transform(corpus_test)"
   ]
  },
  {
   "cell_type": "markdown",
   "metadata": {},
   "source": [
    "Объединение признаков"
   ]
  },
  {
   "cell_type": "code",
   "execution_count": 29,
   "metadata": {},
   "outputs": [],
   "source": [
    "X_train_full = csr_matrix(hstack((csr_matrix(X_train.iloc[:, 2:]), tfidf_train)))\n",
    "X_test_full = csr_matrix(hstack((csr_matrix(X_test.iloc[:, 2:]), tfidf_test)))"
   ]
  },
  {
   "cell_type": "code",
   "execution_count": 30,
   "metadata": {
    "scrolled": true
   },
   "outputs": [
    {
     "data": {
      "text/plain": [
       "((111504, 136903), (47788, 136903), 159292)"
      ]
     },
     "execution_count": 30,
     "metadata": {},
     "output_type": "execute_result"
    }
   ],
   "source": [
    "X_train_full.shape, X_test_full.shape, X_train_full.shape[0] + X_test_full.shape[0]"
   ]
  },
  {
   "cell_type": "markdown",
   "metadata": {},
   "source": [
    "## Обучение моделей"
   ]
  },
  {
   "cell_type": "code",
   "execution_count": 31,
   "metadata": {},
   "outputs": [],
   "source": [
    "table_results = pd.DataFrame(columns=['Name', 'Best result'])"
   ]
  },
  {
   "cell_type": "markdown",
   "metadata": {},
   "source": [
    "### Функции"
   ]
  },
  {
   "cell_type": "code",
   "execution_count": 32,
   "metadata": {},
   "outputs": [],
   "source": [
    "class style:\n",
    "    BOLD = '\\033[1m'\n",
    "    END = '\\033[0m'"
   ]
  },
  {
   "cell_type": "markdown",
   "metadata": {},
   "source": [
    "Функция для вывода результатов модели логистической регрессии на тренировочных данных и записи из сводную таблицу"
   ]
  },
  {
   "cell_type": "code",
   "execution_count": 33,
   "metadata": {},
   "outputs": [],
   "source": [
    "def result_lgrsv(model, table=None, name=None):\n",
    "    print(f'{style.BOLD}'\n",
    "          f'Результаты модели на тренировочных данных\\n\\n'\n",
    "          f'{style.END}'\n",
    "          f'Лучший коэфициент регуляризации: {model.C_[0]}\\n'\n",
    "          f'Лучший результат модели: {model.scores_[1].max():.4f}') \n",
    "    \n",
    "    # Запишем результаты в таблицу\n",
    "    if name:\n",
    "        return table.append({'Name':name,\n",
    "                              'Best result':round(model.scores_[1].max(), 4)},\n",
    "                             ignore_index=True)"
   ]
  },
  {
   "cell_type": "markdown",
   "metadata": {},
   "source": [
    "Функция для вывода результатов модели на тренировочных данных и записи из сводную таблицу, GridSerchCV"
   ]
  },
  {
   "cell_type": "code",
   "execution_count": 34,
   "metadata": {},
   "outputs": [],
   "source": [
    "def result_grid(model, table=None, name=None):\n",
    "    print(f'{style.BOLD}'\n",
    "          f'Результаты модели на тренировочных данных\\n\\n'\n",
    "          f'{style.END}'\n",
    "          f'Лучший гиперпараметры: {model.best_params_}\\n'\n",
    "          f'Лучший результат модели: {model.best_score_:.4f}') \n",
    "    \n",
    "    # Запишем результаты в таблицу\n",
    "    if name:\n",
    "        return table.append({'Name':name,\n",
    "                              'Best result':round(model.best_score_, 4)},\n",
    "                             ignore_index=True)"
   ]
  },
  {
   "cell_type": "markdown",
   "metadata": {},
   "source": [
    "Функция для вывода результатов модели на тeстовых данных"
   ]
  },
  {
   "cell_type": "code",
   "execution_count": 35,
   "metadata": {},
   "outputs": [],
   "source": [
    "def test_result(model, X, y):\n",
    "    \n",
    "    # Выведем результаты\n",
    "    print(style.BOLD + 'Результаты на тестовых данных:' + style.END)\n",
    "    print()\n",
    "    predict = model.predict(X)\n",
    "    probabilities_one = model.predict_proba(X)[:, 1]\n",
    "    score = round(accuracy_score(y, predict), 4)\n",
    "    f1 = round(f1_score(y, predict), 4)\n",
    "    precision = round(precision_score(y, predict), 4)\n",
    "    recall = round(recall_score(y, predict), 4)\n",
    "    roc_auc = round(roc_auc_score(y, probabilities_one), 4)\n",
    "    print(f'Значение F1-меры: {f1}')\n",
    "    print(f'Точность данных (precision): {precision}')\n",
    "    print(f'Полнота данных (recall): {recall}')\n",
    "    print(f'Значение ROC-AUC: {roc_auc}')\n",
    "    print(f'Доля правильных ответов: {score}')\n",
    "    \n",
    "    # Построим ROC-кривую\n",
    "    print()\n",
    "    print(style.BOLD + 'ROC-кривая:' + style.END)\n",
    "    fpr, tpr, thresholds = roc_curve(y, probabilities_one)\n",
    "    plt.figure(figsize=(6, 6))\n",
    "    plt.plot(fpr, tpr)\n",
    "    plt.plot([0, 1], [0, 1], linestyle='--') # ROC-кривая случайной модели\n",
    "    plt.xlim([0.0, 1.0])\n",
    "    plt.ylim([0.0, 1.0])\n",
    "    plt.xlabel(\"False Positive Rate\")\n",
    "    plt.ylabel(\"True Positive Rate\")\n",
    "    plt.show()\n",
    "    \n",
    "    # Посмотрим матрицу ошибок\n",
    "    print()\n",
    "    print(style.BOLD + 'Матрица ошибок:' + style.END)\n",
    "    fig, ax = plt.subplots(figsize=(10,8))\n",
    "    ConfusionMatrixDisplay.from_predictions(y, predict, ax=ax,\n",
    "             display_labels=['Негативный отзыв [0]','Позитивный отзыв[1]'])\n",
    "    ax.set(xlabel='Predicted', ylabel='Actual')\n",
    "    plt.show()\n",
    "    print(classification_report(y, predict,\n",
    "          target_names=['Негативный отзыв [0]','Позитивный отзыв[1]']))"
   ]
  },
  {
   "cell_type": "markdown",
   "metadata": {},
   "source": [
    "### LogisticRegression"
   ]
  },
  {
   "cell_type": "code",
   "execution_count": 36,
   "metadata": {},
   "outputs": [],
   "source": [
    "C = [25, 27, 30, 32, 35]"
   ]
  },
  {
   "cell_type": "code",
   "execution_count": 37,
   "metadata": {
    "scrolled": true
   },
   "outputs": [
    {
     "name": "stdout",
     "output_type": "stream",
     "text": [
      "CPU times: total: 3min 47s\n",
      "Wall time: 1min 48s\n"
     ]
    },
    {
     "data": {
      "text/html": [
       "<style>#sk-container-id-2 {color: black;background-color: white;}#sk-container-id-2 pre{padding: 0;}#sk-container-id-2 div.sk-toggleable {background-color: white;}#sk-container-id-2 label.sk-toggleable__label {cursor: pointer;display: block;width: 100%;margin-bottom: 0;padding: 0.3em;box-sizing: border-box;text-align: center;}#sk-container-id-2 label.sk-toggleable__label-arrow:before {content: \"▸\";float: left;margin-right: 0.25em;color: #696969;}#sk-container-id-2 label.sk-toggleable__label-arrow:hover:before {color: black;}#sk-container-id-2 div.sk-estimator:hover label.sk-toggleable__label-arrow:before {color: black;}#sk-container-id-2 div.sk-toggleable__content {max-height: 0;max-width: 0;overflow: hidden;text-align: left;background-color: #f0f8ff;}#sk-container-id-2 div.sk-toggleable__content pre {margin: 0.2em;color: black;border-radius: 0.25em;background-color: #f0f8ff;}#sk-container-id-2 input.sk-toggleable__control:checked~div.sk-toggleable__content {max-height: 200px;max-width: 100%;overflow: auto;}#sk-container-id-2 input.sk-toggleable__control:checked~label.sk-toggleable__label-arrow:before {content: \"▾\";}#sk-container-id-2 div.sk-estimator input.sk-toggleable__control:checked~label.sk-toggleable__label {background-color: #d4ebff;}#sk-container-id-2 div.sk-label input.sk-toggleable__control:checked~label.sk-toggleable__label {background-color: #d4ebff;}#sk-container-id-2 input.sk-hidden--visually {border: 0;clip: rect(1px 1px 1px 1px);clip: rect(1px, 1px, 1px, 1px);height: 1px;margin: -1px;overflow: hidden;padding: 0;position: absolute;width: 1px;}#sk-container-id-2 div.sk-estimator {font-family: monospace;background-color: #f0f8ff;border: 1px dotted black;border-radius: 0.25em;box-sizing: border-box;margin-bottom: 0.5em;}#sk-container-id-2 div.sk-estimator:hover {background-color: #d4ebff;}#sk-container-id-2 div.sk-parallel-item::after {content: \"\";width: 100%;border-bottom: 1px solid gray;flex-grow: 1;}#sk-container-id-2 div.sk-label:hover label.sk-toggleable__label {background-color: #d4ebff;}#sk-container-id-2 div.sk-serial::before {content: \"\";position: absolute;border-left: 1px solid gray;box-sizing: border-box;top: 0;bottom: 0;left: 50%;z-index: 0;}#sk-container-id-2 div.sk-serial {display: flex;flex-direction: column;align-items: center;background-color: white;padding-right: 0.2em;padding-left: 0.2em;position: relative;}#sk-container-id-2 div.sk-item {position: relative;z-index: 1;}#sk-container-id-2 div.sk-parallel {display: flex;align-items: stretch;justify-content: center;background-color: white;position: relative;}#sk-container-id-2 div.sk-item::before, #sk-container-id-2 div.sk-parallel-item::before {content: \"\";position: absolute;border-left: 1px solid gray;box-sizing: border-box;top: 0;bottom: 0;left: 50%;z-index: -1;}#sk-container-id-2 div.sk-parallel-item {display: flex;flex-direction: column;z-index: 1;position: relative;background-color: white;}#sk-container-id-2 div.sk-parallel-item:first-child::after {align-self: flex-end;width: 50%;}#sk-container-id-2 div.sk-parallel-item:last-child::after {align-self: flex-start;width: 50%;}#sk-container-id-2 div.sk-parallel-item:only-child::after {width: 0;}#sk-container-id-2 div.sk-dashed-wrapped {border: 1px dashed gray;margin: 0 0.4em 0.5em 0.4em;box-sizing: border-box;padding-bottom: 0.4em;background-color: white;}#sk-container-id-2 div.sk-label label {font-family: monospace;font-weight: bold;display: inline-block;line-height: 1.2em;}#sk-container-id-2 div.sk-label-container {text-align: center;}#sk-container-id-2 div.sk-container {/* jupyter's `normalize.less` sets `[hidden] { display: none; }` but bootstrap.min.css set `[hidden] { display: none !important; }` so we also need the `!important` here to be able to override the default hidden behavior on the sphinx rendered scikit-learn.org. See: https://github.com/scikit-learn/scikit-learn/issues/21755 */display: inline-block !important;position: relative;}#sk-container-id-2 div.sk-text-repr-fallback {display: none;}</style><div id=\"sk-container-id-2\" class=\"sk-top-container\"><div class=\"sk-text-repr-fallback\"><pre>LogisticRegressionCV(Cs=[25, 27, 30, 32, 35], class_weight=&#x27;balansed&#x27;, cv=3,\n",
       "                     max_iter=5000, n_jobs=-1, random_state=12345,\n",
       "                     scoring=&#x27;f1&#x27;)</pre><b>In a Jupyter environment, please rerun this cell to show the HTML representation or trust the notebook. <br />On GitHub, the HTML representation is unable to render, please try loading this page with nbviewer.org.</b></div><div class=\"sk-container\" hidden><div class=\"sk-item\"><div class=\"sk-estimator sk-toggleable\"><input class=\"sk-toggleable__control sk-hidden--visually\" id=\"sk-estimator-id-2\" type=\"checkbox\" checked><label for=\"sk-estimator-id-2\" class=\"sk-toggleable__label sk-toggleable__label-arrow\">LogisticRegressionCV</label><div class=\"sk-toggleable__content\"><pre>LogisticRegressionCV(Cs=[25, 27, 30, 32, 35], class_weight=&#x27;balansed&#x27;, cv=3,\n",
       "                     max_iter=5000, n_jobs=-1, random_state=12345,\n",
       "                     scoring=&#x27;f1&#x27;)</pre></div></div></div></div></div>"
      ],
      "text/plain": [
       "LogisticRegressionCV(Cs=[25, 27, 30, 32, 35], class_weight='balansed', cv=3,\n",
       "                     max_iter=5000, n_jobs=-1, random_state=12345,\n",
       "                     scoring='f1')"
      ]
     },
     "execution_count": 37,
     "metadata": {},
     "output_type": "execute_result"
    }
   ],
   "source": [
    "%%time\n",
    "clf = LogisticRegressionCV(Cs = C, cv=3, scoring = 'f1',\n",
    "                           class_weight='balansed', max_iter=5000,\n",
    "                           random_state=12345, n_jobs=-1)\n",
    "clf.fit(X_train_full, y_train)"
   ]
  },
  {
   "cell_type": "code",
   "execution_count": 38,
   "metadata": {},
   "outputs": [
    {
     "name": "stdout",
     "output_type": "stream",
     "text": [
      "\u001b[1mРезультаты модели на тренировочных данных\n",
      "\n",
      "\u001b[0mЛучший коэфициент регуляризации: 27\n",
      "Лучший результат модели: 0.7751\n"
     ]
    }
   ],
   "source": [
    "table_results = result_lgrsv(clf, table_results, 'LogisticRegression')"
   ]
  },
  {
   "cell_type": "markdown",
   "metadata": {},
   "source": [
    "### CatBoostClassifier"
   ]
  },
  {
   "cell_type": "code",
   "execution_count": 39,
   "metadata": {},
   "outputs": [],
   "source": [
    "cat = CatBoostClassifier(random_state=56, metric_period=5,\n",
    "                         eval_metric='F1')"
   ]
  },
  {
   "cell_type": "code",
   "execution_count": 40,
   "metadata": {},
   "outputs": [],
   "source": [
    "cat_params = {'learning_rate': [1],\n",
    "              'iterations': [300],\n",
    "              'depth': [4]}"
   ]
  },
  {
   "cell_type": "code",
   "execution_count": 41,
   "metadata": {
    "scrolled": true
   },
   "outputs": [
    {
     "name": "stdout",
     "output_type": "stream",
     "text": [
      "Fitting 3 folds for each of 1 candidates, totalling 3 fits\n",
      "0:\tlearn: 0.4100174\ttotal: 450ms\tremaining: 2m 14s\n",
      "5:\tlearn: 0.6437365\ttotal: 2.05s\tremaining: 1m 40s\n",
      "10:\tlearn: 0.6900418\ttotal: 3.58s\tremaining: 1m 34s\n",
      "15:\tlearn: 0.7181289\ttotal: 5.08s\tremaining: 1m 30s\n",
      "20:\tlearn: 0.7337900\ttotal: 6.6s\tremaining: 1m 27s\n",
      "25:\tlearn: 0.7477977\ttotal: 8.09s\tremaining: 1m 25s\n",
      "30:\tlearn: 0.7564699\ttotal: 9.58s\tremaining: 1m 23s\n",
      "35:\tlearn: 0.7638903\ttotal: 11.1s\tremaining: 1m 21s\n",
      "40:\tlearn: 0.7695535\ttotal: 12.6s\tremaining: 1m 19s\n",
      "45:\tlearn: 0.7741550\ttotal: 14.1s\tremaining: 1m 18s\n",
      "50:\tlearn: 0.7806901\ttotal: 15.7s\tremaining: 1m 16s\n",
      "55:\tlearn: 0.7850007\ttotal: 17.2s\tremaining: 1m 14s\n",
      "60:\tlearn: 0.7887296\ttotal: 18.7s\tremaining: 1m 13s\n",
      "65:\tlearn: 0.7929330\ttotal: 20.2s\tremaining: 1m 11s\n",
      "70:\tlearn: 0.7956905\ttotal: 21.7s\tremaining: 1m 10s\n",
      "75:\tlearn: 0.7986378\ttotal: 23.2s\tremaining: 1m 8s\n",
      "80:\tlearn: 0.8021172\ttotal: 24.8s\tremaining: 1m 6s\n",
      "85:\tlearn: 0.8035498\ttotal: 26.2s\tremaining: 1m 5s\n",
      "90:\tlearn: 0.8075695\ttotal: 27.8s\tremaining: 1m 3s\n",
      "95:\tlearn: 0.8104355\ttotal: 29.3s\tremaining: 1m 2s\n",
      "100:\tlearn: 0.8127590\ttotal: 30.8s\tremaining: 1m\n",
      "105:\tlearn: 0.8138203\ttotal: 32.2s\tremaining: 59s\n",
      "110:\tlearn: 0.8174573\ttotal: 33.8s\tremaining: 57.5s\n",
      "115:\tlearn: 0.8184954\ttotal: 35.3s\tremaining: 56s\n",
      "120:\tlearn: 0.8200881\ttotal: 36.8s\tremaining: 54.4s\n",
      "125:\tlearn: 0.8216728\ttotal: 38.3s\tremaining: 52.8s\n",
      "130:\tlearn: 0.8241028\ttotal: 39.8s\tremaining: 51.3s\n",
      "135:\tlearn: 0.8254559\ttotal: 41.3s\tremaining: 49.8s\n",
      "140:\tlearn: 0.8268359\ttotal: 42.8s\tremaining: 48.3s\n",
      "145:\tlearn: 0.8282828\ttotal: 44.3s\tremaining: 46.7s\n",
      "150:\tlearn: 0.8310997\ttotal: 45.8s\tremaining: 45.2s\n",
      "155:\tlearn: 0.8315919\ttotal: 47.3s\tremaining: 43.7s\n",
      "160:\tlearn: 0.8331120\ttotal: 48.8s\tremaining: 42.2s\n",
      "165:\tlearn: 0.8341470\ttotal: 50.3s\tremaining: 40.6s\n",
      "170:\tlearn: 0.8357559\ttotal: 51.9s\tremaining: 39.2s\n",
      "175:\tlearn: 0.8373941\ttotal: 53.5s\tremaining: 37.7s\n",
      "180:\tlearn: 0.8388285\ttotal: 55s\tremaining: 36.2s\n",
      "185:\tlearn: 0.8402607\ttotal: 56.5s\tremaining: 34.6s\n",
      "190:\tlearn: 0.8417826\ttotal: 58s\tremaining: 33.1s\n",
      "195:\tlearn: 0.8425123\ttotal: 59.6s\tremaining: 31.6s\n",
      "200:\tlearn: 0.8431918\ttotal: 1m 1s\tremaining: 30.1s\n",
      "205:\tlearn: 0.8441326\ttotal: 1m 2s\tremaining: 28.6s\n",
      "210:\tlearn: 0.8462916\ttotal: 1m 4s\tremaining: 27s\n",
      "215:\tlearn: 0.8477452\ttotal: 1m 5s\tremaining: 25.5s\n",
      "220:\tlearn: 0.8488531\ttotal: 1m 7s\tremaining: 24s\n",
      "225:\tlearn: 0.8510818\ttotal: 1m 8s\tremaining: 22.5s\n",
      "230:\tlearn: 0.8525870\ttotal: 1m 10s\tremaining: 21s\n",
      "235:\tlearn: 0.8534612\ttotal: 1m 11s\tremaining: 19.4s\n",
      "240:\tlearn: 0.8542421\ttotal: 1m 13s\tremaining: 17.9s\n",
      "245:\tlearn: 0.8555451\ttotal: 1m 14s\tremaining: 16.4s\n",
      "250:\tlearn: 0.8562841\ttotal: 1m 16s\tremaining: 14.9s\n",
      "255:\tlearn: 0.8567002\ttotal: 1m 17s\tremaining: 13.4s\n",
      "260:\tlearn: 0.8575587\ttotal: 1m 19s\tremaining: 11.8s\n",
      "265:\tlearn: 0.8576928\ttotal: 1m 20s\tremaining: 10.3s\n",
      "270:\tlearn: 0.8581084\ttotal: 1m 22s\tremaining: 8.8s\n",
      "275:\tlearn: 0.8583365\ttotal: 1m 23s\tremaining: 7.29s\n",
      "280:\tlearn: 0.8593274\ttotal: 1m 25s\tremaining: 5.77s\n",
      "285:\tlearn: 0.8591668\ttotal: 1m 26s\tremaining: 4.25s\n",
      "290:\tlearn: 0.8593413\ttotal: 1m 28s\tremaining: 2.73s\n",
      "295:\tlearn: 0.8591946\ttotal: 1m 29s\tremaining: 1.21s\n",
      "299:\tlearn: 0.8594087\ttotal: 1m 30s\tremaining: 0us\n",
      "CPU times: total: 11min 1s\n",
      "Wall time: 3min 31s\n"
     ]
    },
    {
     "data": {
      "text/html": [
       "<style>#sk-container-id-3 {color: black;background-color: white;}#sk-container-id-3 pre{padding: 0;}#sk-container-id-3 div.sk-toggleable {background-color: white;}#sk-container-id-3 label.sk-toggleable__label {cursor: pointer;display: block;width: 100%;margin-bottom: 0;padding: 0.3em;box-sizing: border-box;text-align: center;}#sk-container-id-3 label.sk-toggleable__label-arrow:before {content: \"▸\";float: left;margin-right: 0.25em;color: #696969;}#sk-container-id-3 label.sk-toggleable__label-arrow:hover:before {color: black;}#sk-container-id-3 div.sk-estimator:hover label.sk-toggleable__label-arrow:before {color: black;}#sk-container-id-3 div.sk-toggleable__content {max-height: 0;max-width: 0;overflow: hidden;text-align: left;background-color: #f0f8ff;}#sk-container-id-3 div.sk-toggleable__content pre {margin: 0.2em;color: black;border-radius: 0.25em;background-color: #f0f8ff;}#sk-container-id-3 input.sk-toggleable__control:checked~div.sk-toggleable__content {max-height: 200px;max-width: 100%;overflow: auto;}#sk-container-id-3 input.sk-toggleable__control:checked~label.sk-toggleable__label-arrow:before {content: \"▾\";}#sk-container-id-3 div.sk-estimator input.sk-toggleable__control:checked~label.sk-toggleable__label {background-color: #d4ebff;}#sk-container-id-3 div.sk-label input.sk-toggleable__control:checked~label.sk-toggleable__label {background-color: #d4ebff;}#sk-container-id-3 input.sk-hidden--visually {border: 0;clip: rect(1px 1px 1px 1px);clip: rect(1px, 1px, 1px, 1px);height: 1px;margin: -1px;overflow: hidden;padding: 0;position: absolute;width: 1px;}#sk-container-id-3 div.sk-estimator {font-family: monospace;background-color: #f0f8ff;border: 1px dotted black;border-radius: 0.25em;box-sizing: border-box;margin-bottom: 0.5em;}#sk-container-id-3 div.sk-estimator:hover {background-color: #d4ebff;}#sk-container-id-3 div.sk-parallel-item::after {content: \"\";width: 100%;border-bottom: 1px solid gray;flex-grow: 1;}#sk-container-id-3 div.sk-label:hover label.sk-toggleable__label {background-color: #d4ebff;}#sk-container-id-3 div.sk-serial::before {content: \"\";position: absolute;border-left: 1px solid gray;box-sizing: border-box;top: 0;bottom: 0;left: 50%;z-index: 0;}#sk-container-id-3 div.sk-serial {display: flex;flex-direction: column;align-items: center;background-color: white;padding-right: 0.2em;padding-left: 0.2em;position: relative;}#sk-container-id-3 div.sk-item {position: relative;z-index: 1;}#sk-container-id-3 div.sk-parallel {display: flex;align-items: stretch;justify-content: center;background-color: white;position: relative;}#sk-container-id-3 div.sk-item::before, #sk-container-id-3 div.sk-parallel-item::before {content: \"\";position: absolute;border-left: 1px solid gray;box-sizing: border-box;top: 0;bottom: 0;left: 50%;z-index: -1;}#sk-container-id-3 div.sk-parallel-item {display: flex;flex-direction: column;z-index: 1;position: relative;background-color: white;}#sk-container-id-3 div.sk-parallel-item:first-child::after {align-self: flex-end;width: 50%;}#sk-container-id-3 div.sk-parallel-item:last-child::after {align-self: flex-start;width: 50%;}#sk-container-id-3 div.sk-parallel-item:only-child::after {width: 0;}#sk-container-id-3 div.sk-dashed-wrapped {border: 1px dashed gray;margin: 0 0.4em 0.5em 0.4em;box-sizing: border-box;padding-bottom: 0.4em;background-color: white;}#sk-container-id-3 div.sk-label label {font-family: monospace;font-weight: bold;display: inline-block;line-height: 1.2em;}#sk-container-id-3 div.sk-label-container {text-align: center;}#sk-container-id-3 div.sk-container {/* jupyter's `normalize.less` sets `[hidden] { display: none; }` but bootstrap.min.css set `[hidden] { display: none !important; }` so we also need the `!important` here to be able to override the default hidden behavior on the sphinx rendered scikit-learn.org. See: https://github.com/scikit-learn/scikit-learn/issues/21755 */display: inline-block !important;position: relative;}#sk-container-id-3 div.sk-text-repr-fallback {display: none;}</style><div id=\"sk-container-id-3\" class=\"sk-top-container\"><div class=\"sk-text-repr-fallback\"><pre>GridSearchCV(cv=3,\n",
       "             estimator=&lt;catboost.core.CatBoostClassifier object at 0x0000022744F8ED60&gt;,\n",
       "             n_jobs=-1,\n",
       "             param_grid={&#x27;depth&#x27;: [4], &#x27;iterations&#x27;: [300],\n",
       "                         &#x27;learning_rate&#x27;: [1]},\n",
       "             scoring=&#x27;f1&#x27;, verbose=3)</pre><b>In a Jupyter environment, please rerun this cell to show the HTML representation or trust the notebook. <br />On GitHub, the HTML representation is unable to render, please try loading this page with nbviewer.org.</b></div><div class=\"sk-container\" hidden><div class=\"sk-item sk-dashed-wrapped\"><div class=\"sk-label-container\"><div class=\"sk-label sk-toggleable\"><input class=\"sk-toggleable__control sk-hidden--visually\" id=\"sk-estimator-id-3\" type=\"checkbox\" ><label for=\"sk-estimator-id-3\" class=\"sk-toggleable__label sk-toggleable__label-arrow\">GridSearchCV</label><div class=\"sk-toggleable__content\"><pre>GridSearchCV(cv=3,\n",
       "             estimator=&lt;catboost.core.CatBoostClassifier object at 0x0000022744F8ED60&gt;,\n",
       "             n_jobs=-1,\n",
       "             param_grid={&#x27;depth&#x27;: [4], &#x27;iterations&#x27;: [300],\n",
       "                         &#x27;learning_rate&#x27;: [1]},\n",
       "             scoring=&#x27;f1&#x27;, verbose=3)</pre></div></div></div><div class=\"sk-parallel\"><div class=\"sk-parallel-item\"><div class=\"sk-item\"><div class=\"sk-label-container\"><div class=\"sk-label sk-toggleable\"><input class=\"sk-toggleable__control sk-hidden--visually\" id=\"sk-estimator-id-4\" type=\"checkbox\" ><label for=\"sk-estimator-id-4\" class=\"sk-toggleable__label sk-toggleable__label-arrow\">estimator: CatBoostClassifier</label><div class=\"sk-toggleable__content\"><pre>&lt;catboost.core.CatBoostClassifier object at 0x0000022744F8ED60&gt;</pre></div></div></div><div class=\"sk-serial\"><div class=\"sk-item\"><div class=\"sk-estimator sk-toggleable\"><input class=\"sk-toggleable__control sk-hidden--visually\" id=\"sk-estimator-id-5\" type=\"checkbox\" ><label for=\"sk-estimator-id-5\" class=\"sk-toggleable__label sk-toggleable__label-arrow\">CatBoostClassifier</label><div class=\"sk-toggleable__content\"><pre>&lt;catboost.core.CatBoostClassifier object at 0x0000022744F8ED60&gt;</pre></div></div></div></div></div></div></div></div></div></div>"
      ],
      "text/plain": [
       "GridSearchCV(cv=3,\n",
       "             estimator=<catboost.core.CatBoostClassifier object at 0x0000022744F8ED60>,\n",
       "             n_jobs=-1,\n",
       "             param_grid={'depth': [4], 'iterations': [300],\n",
       "                         'learning_rate': [1]},\n",
       "             scoring='f1', verbose=3)"
      ]
     },
     "execution_count": 41,
     "metadata": {},
     "output_type": "execute_result"
    }
   ],
   "source": [
    "%%time\n",
    "cat_grid = GridSearchCV(estimator=cat, param_grid=cat_params,\n",
    "                        cv=3, scoring='f1', n_jobs=-1, verbose=3)\n",
    "cat_grid.fit(X_train_full, y_train)"
   ]
  },
  {
   "cell_type": "code",
   "execution_count": 42,
   "metadata": {},
   "outputs": [
    {
     "name": "stdout",
     "output_type": "stream",
     "text": [
      "\u001b[1mРезультаты модели на тренировочных данных\n",
      "\n",
      "\u001b[0mЛучший гиперпараметры: {'depth': 4, 'iterations': 300, 'learning_rate': 1}\n",
      "Лучший результат модели: 0.7525\n"
     ]
    }
   ],
   "source": [
    "table_results = result_grid(cat_grid, table_results, 'CatBoost')"
   ]
  },
  {
   "cell_type": "markdown",
   "metadata": {},
   "source": [
    "## distilBERT"
   ]
  },
  {
   "cell_type": "markdown",
   "metadata": {},
   "source": [
    "### Подготовка признаков"
   ]
  },
  {
   "cell_type": "markdown",
   "metadata": {},
   "source": [
    "Загрузка предобученной модели и токенизатора "
   ]
  },
  {
   "cell_type": "code",
   "execution_count": 43,
   "metadata": {},
   "outputs": [
    {
     "name": "stderr",
     "output_type": "stream",
     "text": [
      "Some weights of the model checkpoint at distilbert-base-uncased were not used when initializing DistilBertModel: ['vocab_layer_norm.bias', 'vocab_projector.bias', 'vocab_layer_norm.weight', 'vocab_transform.weight', 'vocab_projector.weight', 'vocab_transform.bias']\n",
      "- This IS expected if you are initializing DistilBertModel from the checkpoint of a model trained on another task or with another architecture (e.g. initializing a BertForSequenceClassification model from a BertForPreTraining model).\n",
      "- This IS NOT expected if you are initializing DistilBertModel from the checkpoint of a model that you expect to be exactly identical (initializing a BertForSequenceClassification model from a BertForSequenceClassification model).\n"
     ]
    }
   ],
   "source": [
    "model_class, tokenizer_class, pretrained_weights = (ppb.DistilBertModel, ppb.DistilBertTokenizer, 'distilbert-base-uncased')\n",
    "tokenizer = tokenizer_class.from_pretrained(pretrained_weights)\n",
    "model = model_class.from_pretrained(pretrained_weights)"
   ]
  },
  {
   "cell_type": "code",
   "execution_count": 44,
   "metadata": {},
   "outputs": [
    {
     "name": "stderr",
     "output_type": "stream",
     "text": [
      "  0%|          | 0/159292 [00:00<?, ?it/s]Token indices sequence length is longer than the specified maximum sequence length for this model (545 > 512). Running this sequence through the model will result in indexing errors\n",
      "100%|██████████| 159292/159292 [03:40<00:00, 723.26it/s]\n"
     ]
    }
   ],
   "source": [
    "tokenized = df.text.progress_apply(\n",
    "    lambda x: tokenizer.encode(x, add_special_tokens=True))"
   ]
  },
  {
   "cell_type": "code",
   "execution_count": 45,
   "metadata": {},
   "outputs": [],
   "source": [
    "df['tokenized'] = tokenized\n",
    "df['len'] = pd.DataFrame([len(i) for i in tokenized.values], index=df.index).iloc[:, 0]"
   ]
  },
  {
   "cell_type": "code",
   "execution_count": 46,
   "metadata": {},
   "outputs": [
    {
     "data": {
      "text/plain": [
       "count    159292.000000\n",
       "mean         78.526630\n",
       "std         115.356548\n",
       "min           2.000000\n",
       "25%          21.000000\n",
       "50%          43.000000\n",
       "75%          87.000000\n",
       "max        2502.000000\n",
       "Name: len, dtype: float64"
      ]
     },
     "execution_count": 46,
     "metadata": {},
     "output_type": "execute_result"
    }
   ],
   "source": [
    "df['len'].describe()"
   ]
  },
  {
   "cell_type": "code",
   "execution_count": 47,
   "metadata": {},
   "outputs": [],
   "source": [
    "def hist_box(df, col, binwidth=1):\n",
    "    fig,ax = plt.subplots(2,1,sharex=True,figsize=(12,8),gridspec_kw={'height_ratios': [4, 1]})\n",
    "\n",
    "    sns.histplot(data=df,x=col,\n",
    "                 binwidth=binwidth,\n",
    "                 ax=ax[0])\n",
    "\n",
    "    sns.boxplot(data=df,x=col,ax=ax[1])\n",
    "    return fig,ax"
   ]
  },
  {
   "cell_type": "code",
   "execution_count": 48,
   "metadata": {},
   "outputs": [
    {
     "data": {
      "text/plain": [
       "(<Figure size 1200x800 with 2 Axes>,\n",
       " array([<AxesSubplot:xlabel='len', ylabel='Count'>,\n",
       "        <AxesSubplot:xlabel='len'>], dtype=object))"
      ]
     },
     "execution_count": 48,
     "metadata": {},
     "output_type": "execute_result"
    },
    {
     "data": {
      "image/png": "[encoded data removed]",
      "text/plain": [
       "<Figure size 1200x800 with 2 Axes>"
      ]
     },
     "metadata": {},
     "output_type": "display_data"
    }
   ],
   "source": [
    "hist_box(df, 'len')"
   ]
  },
  {
   "cell_type": "markdown",
   "metadata": {},
   "source": [
    "* Видно, что кол-во токенов очень сильно различается, минимально значение равно 2, средние 78, а максимальное 2502. Большинство строк имеет кол-во токенов менее 100, напишем фукцию для оптимизации работы BERT модели"
   ]
  },
  {
   "cell_type": "markdown",
   "metadata": {},
   "source": [
    "Запишем необходимые нам ячейки в новый датафрейм"
   ]
  },
  {
   "cell_type": "code",
   "execution_count": 49,
   "metadata": {},
   "outputs": [],
   "source": [
    "df_bert = df[['toxic', 'tokenized', 'len']].copy()"
   ]
  },
  {
   "cell_type": "markdown",
   "metadata": {},
   "source": [
    "Склеим созданные новые признаки с новым датафреймом и отсортируем датафрем по кол-ву токенов"
   ]
  },
  {
   "cell_type": "code",
   "execution_count": 50,
   "metadata": {},
   "outputs": [],
   "source": [
    "new_fetures = X_train.iloc[:, 2:].append(X_test.iloc[:, 2:]).sort_index()\n",
    "df_bert = pd.concat([df_bert, new_fetures], axis=1)\n",
    "df_bert = df_bert.sort_values('len', ignore_index=True)"
   ]
  },
  {
   "cell_type": "code",
   "execution_count": 51,
   "metadata": {},
   "outputs": [
    {
     "name": "stdout",
     "output_type": "stream",
     "text": [
      "<class 'pandas.core.frame.DataFrame'>\n",
      "RangeIndex: 159292 entries, 0 to 159291\n",
      "Data columns (total 14 columns):\n",
      " #   Column                 Non-Null Count   Dtype  \n",
      "---  ------                 --------------   -----  \n",
      " 0   toxic                  159292 non-null  int64  \n",
      " 1   tokenized              159292 non-null  object \n",
      " 2   len                    159292 non-null  int64  \n",
      " 3   word_count             159292 non-null  float32\n",
      " 4   char_count             159292 non-null  float32\n",
      " 5   punc_count             159292 non-null  float32\n",
      " 6   total_length           159292 non-null  float32\n",
      " 7   capitals               159292 non-null  float32\n",
      " 8   caps_vs_length         159292 non-null  float32\n",
      " 9   num_exclamation_marks  159292 non-null  float32\n",
      " 10  num_question_marks     159292 non-null  float32\n",
      " 11  num_punctuation        159292 non-null  float32\n",
      " 12  num_symbols            159292 non-null  float32\n",
      " 13  num_unique_words       159292 non-null  float32\n",
      "dtypes: float32(11), int64(2), object(1)\n",
      "memory usage: 10.3+ MB\n"
     ]
    }
   ],
   "source": [
    "df_bert.info()"
   ]
  },
  {
   "cell_type": "markdown",
   "metadata": {},
   "source": [
    "Функция для оптимизации работы модели BERT"
   ]
  },
  {
   "cell_type": "code",
   "execution_count": 52,
   "metadata": {},
   "outputs": [],
   "source": [
    "def bert_batch(tokens, i, batch_size):\n",
    "    if batch_size*(i+1) <= tokens.shape[0]:\n",
    "        if len(tokens[batch_size*(i+1)-1]) < 512:\n",
    "            l = len(tokens[batch_size*(i+1)-1]) \n",
    "        else:\n",
    "            l = 512\n",
    "        lst = tokens[batch_size*i:batch_size*(i+1)]\n",
    "        padded = np.array([i[:l] + [0]*(l - len(i)) for i in lst])\n",
    "        attention_mask = np.where(padded != 0, 1, 0)\n",
    "        batch = torch.IntTensor(padded) \n",
    "        attention_mask_batch = torch.ShortTensor(attention_mask)\n",
    "    else:\n",
    "        if len(tokens.iloc[-1]) < 512:\n",
    "            l = len(tokens.iloc[-1]) \n",
    "        else:\n",
    "            l = 512\n",
    "        lst = tokens[batch_size*i:]\n",
    "        padded = np.array([i[:l] + [0]*(l - len(i)) for i in lst])\n",
    "        attention_mask = np.where(padded != 0, 1, 0)\n",
    "        batch = torch.IntTensor(padded) \n",
    "        attention_mask_batch = torch.ShortTensor(attention_mask)\n",
    "\n",
    "    with torch.no_grad():\n",
    "        batch_embeddings = model(batch, attention_mask=attention_mask_batch)\n",
    "    \n",
    "    return pd.DataFrame(batch_embeddings[0][:,0,:].numpy(), index=lst.index)"
   ]
  },
  {
   "cell_type": "code",
   "execution_count": 53,
   "metadata": {},
   "outputs": [
    {
     "data": {
      "application/vnd.jupyter.widget-view+json": {
       "model_id": "d1d6d35f9ded4991ab9daec55d2a61e9",
       "version_major": 2,
       "version_minor": 0
      },
      "text/plain": [
       "  0%|          | 0/531 [00:00<?, ?it/s]"
      ]
     },
     "metadata": {},
     "output_type": "display_data"
    }
   ],
   "source": [
    "batch_size = 300\n",
    "date_bert = pd.DataFrame()\n",
    "for i in notebook.tqdm(range(df_bert.shape[0] // batch_size+1)):\n",
    "    date_bert = date_bert.append(bert_batch(df_bert['tokenized'], i, batch_size))"
   ]
  },
  {
   "cell_type": "markdown",
   "metadata": {},
   "source": [
    "Добавим к нашим данным, созданные признаки моделью BERT и удалим ненужные столбцы"
   ]
  },
  {
   "cell_type": "code",
   "execution_count": 54,
   "metadata": {},
   "outputs": [],
   "source": [
    "date = pd.concat([df_bert, date_bert], axis=1)\n",
    "date = date.drop(['tokenized', 'len'], axis=1)"
   ]
  },
  {
   "cell_type": "code",
   "execution_count": 55,
   "metadata": {},
   "outputs": [
    {
     "name": "stdout",
     "output_type": "stream",
     "text": [
      "<class 'pandas.core.frame.DataFrame'>\n",
      "RangeIndex: 159292 entries, 0 to 159291\n",
      "Columns: 780 entries, toxic to 767\n",
      "dtypes: float32(779), int64(1)\n",
      "memory usage: 474.6 MB\n"
     ]
    }
   ],
   "source": [
    "date.info()"
   ]
  },
  {
   "cell_type": "code",
   "execution_count": 56,
   "metadata": {},
   "outputs": [
    {
     "data": {
      "text/html": [
       "<div>\n",
       "<style scoped>\n",
       "    .dataframe tbody tr th:only-of-type {\n",
       "        vertical-align: middle;\n",
       "    }\n",
       "\n",
       "    .dataframe tbody tr th {\n",
       "        vertical-align: top;\n",
       "    }\n",
       "\n",
       "    .dataframe thead th {\n",
       "        text-align: right;\n",
       "    }\n",
       "</style>\n",
       "<table border=\"1\" class=\"dataframe\">\n",
       "  <thead>\n",
       "    <tr style=\"text-align: right;\">\n",
       "      <th></th>\n",
       "      <th>toxic</th>\n",
       "      <th>word_count</th>\n",
       "      <th>char_count</th>\n",
       "      <th>punc_count</th>\n",
       "      <th>total_length</th>\n",
       "      <th>capitals</th>\n",
       "      <th>caps_vs_length</th>\n",
       "      <th>num_exclamation_marks</th>\n",
       "      <th>num_question_marks</th>\n",
       "      <th>num_punctuation</th>\n",
       "      <th>...</th>\n",
       "      <th>758</th>\n",
       "      <th>759</th>\n",
       "      <th>760</th>\n",
       "      <th>761</th>\n",
       "      <th>762</th>\n",
       "      <th>763</th>\n",
       "      <th>764</th>\n",
       "      <th>765</th>\n",
       "      <th>766</th>\n",
       "      <th>767</th>\n",
       "    </tr>\n",
       "  </thead>\n",
       "  <tbody>\n",
       "    <tr>\n",
       "      <th>0</th>\n",
       "      <td>1</td>\n",
       "      <td>-0.670296</td>\n",
       "      <td>-0.659850</td>\n",
       "      <td>-0.325628</td>\n",
       "      <td>-0.660106</td>\n",
       "      <td>-0.18381</td>\n",
       "      <td>-0.556986</td>\n",
       "      <td>-0.02397</td>\n",
       "      <td>-0.272633</td>\n",
       "      <td>-0.627299</td>\n",
       "      <td>...</td>\n",
       "      <td>0.072798</td>\n",
       "      <td>0.023225</td>\n",
       "      <td>0.068635</td>\n",
       "      <td>-0.076926</td>\n",
       "      <td>0.118267</td>\n",
       "      <td>-0.121892</td>\n",
       "      <td>-0.053214</td>\n",
       "      <td>-0.071568</td>\n",
       "      <td>0.132806</td>\n",
       "      <td>0.221732</td>\n",
       "    </tr>\n",
       "    <tr>\n",
       "      <th>1</th>\n",
       "      <td>0</td>\n",
       "      <td>-0.670296</td>\n",
       "      <td>-0.637401</td>\n",
       "      <td>-0.300310</td>\n",
       "      <td>-0.644794</td>\n",
       "      <td>-0.18381</td>\n",
       "      <td>-0.556986</td>\n",
       "      <td>-0.02397</td>\n",
       "      <td>-0.272633</td>\n",
       "      <td>-0.390102</td>\n",
       "      <td>...</td>\n",
       "      <td>0.072798</td>\n",
       "      <td>0.023225</td>\n",
       "      <td>0.068635</td>\n",
       "      <td>-0.076926</td>\n",
       "      <td>0.118267</td>\n",
       "      <td>-0.121892</td>\n",
       "      <td>-0.053214</td>\n",
       "      <td>-0.071568</td>\n",
       "      <td>0.132806</td>\n",
       "      <td>0.221732</td>\n",
       "    </tr>\n",
       "    <tr>\n",
       "      <th>2</th>\n",
       "      <td>0</td>\n",
       "      <td>-0.660154</td>\n",
       "      <td>-0.631278</td>\n",
       "      <td>-0.300310</td>\n",
       "      <td>-0.637989</td>\n",
       "      <td>-0.18381</td>\n",
       "      <td>-0.556986</td>\n",
       "      <td>-0.02397</td>\n",
       "      <td>-0.272633</td>\n",
       "      <td>-0.390102</td>\n",
       "      <td>...</td>\n",
       "      <td>0.072798</td>\n",
       "      <td>0.023225</td>\n",
       "      <td>0.068635</td>\n",
       "      <td>-0.076926</td>\n",
       "      <td>0.118267</td>\n",
       "      <td>-0.121892</td>\n",
       "      <td>-0.053214</td>\n",
       "      <td>-0.071568</td>\n",
       "      <td>0.132806</td>\n",
       "      <td>0.221732</td>\n",
       "    </tr>\n",
       "    <tr>\n",
       "      <th>3</th>\n",
       "      <td>0</td>\n",
       "      <td>-0.650013</td>\n",
       "      <td>-0.627196</td>\n",
       "      <td>-0.274992</td>\n",
       "      <td>-0.631184</td>\n",
       "      <td>-0.18381</td>\n",
       "      <td>-0.556986</td>\n",
       "      <td>-0.02397</td>\n",
       "      <td>-0.272633</td>\n",
       "      <td>-0.390102</td>\n",
       "      <td>...</td>\n",
       "      <td>0.072798</td>\n",
       "      <td>0.023225</td>\n",
       "      <td>0.068635</td>\n",
       "      <td>-0.076926</td>\n",
       "      <td>0.118267</td>\n",
       "      <td>-0.121892</td>\n",
       "      <td>-0.053214</td>\n",
       "      <td>-0.071568</td>\n",
       "      <td>0.132806</td>\n",
       "      <td>0.221732</td>\n",
       "    </tr>\n",
       "    <tr>\n",
       "      <th>4</th>\n",
       "      <td>0</td>\n",
       "      <td>-0.660154</td>\n",
       "      <td>-0.655768</td>\n",
       "      <td>-0.274992</td>\n",
       "      <td>-0.658404</td>\n",
       "      <td>-0.18381</td>\n",
       "      <td>-0.556986</td>\n",
       "      <td>-0.02397</td>\n",
       "      <td>-0.272633</td>\n",
       "      <td>-0.627299</td>\n",
       "      <td>...</td>\n",
       "      <td>0.072798</td>\n",
       "      <td>0.023225</td>\n",
       "      <td>0.068635</td>\n",
       "      <td>-0.076926</td>\n",
       "      <td>0.118267</td>\n",
       "      <td>-0.121892</td>\n",
       "      <td>-0.053214</td>\n",
       "      <td>-0.071568</td>\n",
       "      <td>0.132806</td>\n",
       "      <td>0.221732</td>\n",
       "    </tr>\n",
       "  </tbody>\n",
       "</table>\n",
       "<p>5 rows × 780 columns</p>\n",
       "</div>"
      ],
      "text/plain": [
       "   toxic  word_count  char_count  punc_count  total_length  capitals  \\\n",
       "0      1   -0.670296   -0.659850   -0.325628     -0.660106  -0.18381   \n",
       "1      0   -0.670296   -0.637401   -0.300310     -0.644794  -0.18381   \n",
       "2      0   -0.660154   -0.631278   -0.300310     -0.637989  -0.18381   \n",
       "3      0   -0.650013   -0.627196   -0.274992     -0.631184  -0.18381   \n",
       "4      0   -0.660154   -0.655768   -0.274992     -0.658404  -0.18381   \n",
       "\n",
       "   caps_vs_length  num_exclamation_marks  num_question_marks  num_punctuation  \\\n",
       "0       -0.556986               -0.02397           -0.272633        -0.627299   \n",
       "1       -0.556986               -0.02397           -0.272633        -0.390102   \n",
       "2       -0.556986               -0.02397           -0.272633        -0.390102   \n",
       "3       -0.556986               -0.02397           -0.272633        -0.390102   \n",
       "4       -0.556986               -0.02397           -0.272633        -0.627299   \n",
       "\n",
       "   ...       758       759       760       761       762       763       764  \\\n",
       "0  ...  0.072798  0.023225  0.068635 -0.076926  0.118267 -0.121892 -0.053214   \n",
       "1  ...  0.072798  0.023225  0.068635 -0.076926  0.118267 -0.121892 -0.053214   \n",
       "2  ...  0.072798  0.023225  0.068635 -0.076926  0.118267 -0.121892 -0.053214   \n",
       "3  ...  0.072798  0.023225  0.068635 -0.076926  0.118267 -0.121892 -0.053214   \n",
       "4  ...  0.072798  0.023225  0.068635 -0.076926  0.118267 -0.121892 -0.053214   \n",
       "\n",
       "        765       766       767  \n",
       "0 -0.071568  0.132806  0.221732  \n",
       "1 -0.071568  0.132806  0.221732  \n",
       "2 -0.071568  0.132806  0.221732  \n",
       "3 -0.071568  0.132806  0.221732  \n",
       "4 -0.071568  0.132806  0.221732  \n",
       "\n",
       "[5 rows x 780 columns]"
      ]
     },
     "execution_count": 56,
     "metadata": {},
     "output_type": "execute_result"
    }
   ],
   "source": [
    "date.head()"
   ]
  },
  {
   "cell_type": "markdown",
   "metadata": {},
   "source": [
    "### Разбивка данных на выборки"
   ]
  },
  {
   "cell_type": "code",
   "execution_count": 57,
   "metadata": {},
   "outputs": [],
   "source": [
    "X_bert = date.drop('toxic', axis=1)\n",
    "y_bert = date['toxic']"
   ]
  },
  {
   "cell_type": "code",
   "execution_count": 58,
   "metadata": {},
   "outputs": [],
   "source": [
    "X_train_bert, X_test_bert, y_train_bert, y_test_bert  = train_test_split(\n",
    "              X_bert, y_bert, test_size=0.3, shuffle=True,\n",
    "              random_state=56, stratify=y_bert)"
   ]
  },
  {
   "cell_type": "code",
   "execution_count": 59,
   "metadata": {
    "scrolled": true
   },
   "outputs": [
    {
     "name": "stdout",
     "output_type": "stream",
     "text": [
      "Итоговые размеры выборок, обучающая:тестовая - 70%:30%\n"
     ]
    }
   ],
   "source": [
    "print(f'Итоговые размеры выборок, обучающая:тестовая - '\n",
    "      f'{y_train_bert.count() / y_bert.count():.0%}'\n",
    "      f':{y_test_bert.count()/ y_bert.count():.0%}')"
   ]
  },
  {
   "cell_type": "markdown",
   "metadata": {},
   "source": [
    "### LogisticRegression"
   ]
  },
  {
   "cell_type": "code",
   "execution_count": 60,
   "metadata": {},
   "outputs": [],
   "source": [
    "C = [13, 15, 17, 20]"
   ]
  },
  {
   "cell_type": "code",
   "execution_count": 61,
   "metadata": {},
   "outputs": [
    {
     "name": "stdout",
     "output_type": "stream",
     "text": [
      "CPU times: total: 29.6 s\n",
      "Wall time: 2min 31s\n"
     ]
    },
    {
     "data": {
      "text/html": [
       "<style>#sk-container-id-4 {color: black;background-color: white;}#sk-container-id-4 pre{padding: 0;}#sk-container-id-4 div.sk-toggleable {background-color: white;}#sk-container-id-4 label.sk-toggleable__label {cursor: pointer;display: block;width: 100%;margin-bottom: 0;padding: 0.3em;box-sizing: border-box;text-align: center;}#sk-container-id-4 label.sk-toggleable__label-arrow:before {content: \"▸\";float: left;margin-right: 0.25em;color: #696969;}#sk-container-id-4 label.sk-toggleable__label-arrow:hover:before {color: black;}#sk-container-id-4 div.sk-estimator:hover label.sk-toggleable__label-arrow:before {color: black;}#sk-container-id-4 div.sk-toggleable__content {max-height: 0;max-width: 0;overflow: hidden;text-align: left;background-color: #f0f8ff;}#sk-container-id-4 div.sk-toggleable__content pre {margin: 0.2em;color: black;border-radius: 0.25em;background-color: #f0f8ff;}#sk-container-id-4 input.sk-toggleable__control:checked~div.sk-toggleable__content {max-height: 200px;max-width: 100%;overflow: auto;}#sk-container-id-4 input.sk-toggleable__control:checked~label.sk-toggleable__label-arrow:before {content: \"▾\";}#sk-container-id-4 div.sk-estimator input.sk-toggleable__control:checked~label.sk-toggleable__label {background-color: #d4ebff;}#sk-container-id-4 div.sk-label input.sk-toggleable__control:checked~label.sk-toggleable__label {background-color: #d4ebff;}#sk-container-id-4 input.sk-hidden--visually {border: 0;clip: rect(1px 1px 1px 1px);clip: rect(1px, 1px, 1px, 1px);height: 1px;margin: -1px;overflow: hidden;padding: 0;position: absolute;width: 1px;}#sk-container-id-4 div.sk-estimator {font-family: monospace;background-color: #f0f8ff;border: 1px dotted black;border-radius: 0.25em;box-sizing: border-box;margin-bottom: 0.5em;}#sk-container-id-4 div.sk-estimator:hover {background-color: #d4ebff;}#sk-container-id-4 div.sk-parallel-item::after {content: \"\";width: 100%;border-bottom: 1px solid gray;flex-grow: 1;}#sk-container-id-4 div.sk-label:hover label.sk-toggleable__label {background-color: #d4ebff;}#sk-container-id-4 div.sk-serial::before {content: \"\";position: absolute;border-left: 1px solid gray;box-sizing: border-box;top: 0;bottom: 0;left: 50%;z-index: 0;}#sk-container-id-4 div.sk-serial {display: flex;flex-direction: column;align-items: center;background-color: white;padding-right: 0.2em;padding-left: 0.2em;position: relative;}#sk-container-id-4 div.sk-item {position: relative;z-index: 1;}#sk-container-id-4 div.sk-parallel {display: flex;align-items: stretch;justify-content: center;background-color: white;position: relative;}#sk-container-id-4 div.sk-item::before, #sk-container-id-4 div.sk-parallel-item::before {content: \"\";position: absolute;border-left: 1px solid gray;box-sizing: border-box;top: 0;bottom: 0;left: 50%;z-index: -1;}#sk-container-id-4 div.sk-parallel-item {display: flex;flex-direction: column;z-index: 1;position: relative;background-color: white;}#sk-container-id-4 div.sk-parallel-item:first-child::after {align-self: flex-end;width: 50%;}#sk-container-id-4 div.sk-parallel-item:last-child::after {align-self: flex-start;width: 50%;}#sk-container-id-4 div.sk-parallel-item:only-child::after {width: 0;}#sk-container-id-4 div.sk-dashed-wrapped {border: 1px dashed gray;margin: 0 0.4em 0.5em 0.4em;box-sizing: border-box;padding-bottom: 0.4em;background-color: white;}#sk-container-id-4 div.sk-label label {font-family: monospace;font-weight: bold;display: inline-block;line-height: 1.2em;}#sk-container-id-4 div.sk-label-container {text-align: center;}#sk-container-id-4 div.sk-container {/* jupyter's `normalize.less` sets `[hidden] { display: none; }` but bootstrap.min.css set `[hidden] { display: none !important; }` so we also need the `!important` here to be able to override the default hidden behavior on the sphinx rendered scikit-learn.org. See: https://github.com/scikit-learn/scikit-learn/issues/21755 */display: inline-block !important;position: relative;}#sk-container-id-4 div.sk-text-repr-fallback {display: none;}</style><div id=\"sk-container-id-4\" class=\"sk-top-container\"><div class=\"sk-text-repr-fallback\"><pre>LogisticRegressionCV(Cs=[13, 15, 17, 20], class_weight=&#x27;balansed&#x27;, cv=3,\n",
       "                     max_iter=5000, n_jobs=-1, random_state=56, scoring=&#x27;f1&#x27;)</pre><b>In a Jupyter environment, please rerun this cell to show the HTML representation or trust the notebook. <br />On GitHub, the HTML representation is unable to render, please try loading this page with nbviewer.org.</b></div><div class=\"sk-container\" hidden><div class=\"sk-item\"><div class=\"sk-estimator sk-toggleable\"><input class=\"sk-toggleable__control sk-hidden--visually\" id=\"sk-estimator-id-6\" type=\"checkbox\" checked><label for=\"sk-estimator-id-6\" class=\"sk-toggleable__label sk-toggleable__label-arrow\">LogisticRegressionCV</label><div class=\"sk-toggleable__content\"><pre>LogisticRegressionCV(Cs=[13, 15, 17, 20], class_weight=&#x27;balansed&#x27;, cv=3,\n",
       "                     max_iter=5000, n_jobs=-1, random_state=56, scoring=&#x27;f1&#x27;)</pre></div></div></div></div></div>"
      ],
      "text/plain": [
       "LogisticRegressionCV(Cs=[13, 15, 17, 20], class_weight='balansed', cv=3,\n",
       "                     max_iter=5000, n_jobs=-1, random_state=56, scoring='f1')"
      ]
     },
     "execution_count": 61,
     "metadata": {},
     "output_type": "execute_result"
    }
   ],
   "source": [
    "%%time\n",
    "clf = LogisticRegressionCV(Cs = C, cv=3, scoring = 'f1',\n",
    "                           class_weight='balansed', max_iter=5000,\n",
    "                           random_state=56, n_jobs=-1)\n",
    "clf.fit(X_train_bert.values, y_train_bert.values)"
   ]
  },
  {
   "cell_type": "code",
   "execution_count": 62,
   "metadata": {},
   "outputs": [
    {
     "name": "stdout",
     "output_type": "stream",
     "text": [
      "\u001b[1mРезультаты модели на тренировочных данных\n",
      "\n",
      "\u001b[0mЛучший коэфициент регуляризации: 15\n",
      "Лучший результат модели: 0.7485\n"
     ]
    }
   ],
   "source": [
    "table_results = result_lgrsv(clf, table_results, 'BERT_LogisticRegression')"
   ]
  },
  {
   "cell_type": "markdown",
   "metadata": {},
   "source": [
    "### CatBoostClassifier"
   ]
  },
  {
   "cell_type": "code",
   "execution_count": 63,
   "metadata": {},
   "outputs": [],
   "source": [
    "cat = CatBoostClassifier(iterations=300, \n",
    "         random_state=56, metric_period=25,\n",
    "         eval_metric='F1', auto_class_weights= 'Balanced')"
   ]
  },
  {
   "cell_type": "code",
   "execution_count": 64,
   "metadata": {},
   "outputs": [],
   "source": [
    "cat_params = {'learning_rate': [0.25],\n",
    "              'iterations': [2000],\n",
    "              'depth': [4]}"
   ]
  },
  {
   "cell_type": "code",
   "execution_count": 65,
   "metadata": {
    "scrolled": true
   },
   "outputs": [
    {
     "name": "stdout",
     "output_type": "stream",
     "text": [
      "Fitting 3 folds for each of 1 candidates, totalling 3 fits\n",
      "0:\tlearn: 0.7948969\ttotal: 72.1ms\tremaining: 2m 24s\n",
      "25:\tlearn: 0.8773680\ttotal: 1.61s\tremaining: 2m 2s\n",
      "50:\tlearn: 0.8895440\ttotal: 2.99s\tremaining: 1m 54s\n",
      "75:\tlearn: 0.8990779\ttotal: 4.36s\tremaining: 1m 50s\n",
      "100:\tlearn: 0.9059631\ttotal: 5.72s\tremaining: 1m 47s\n",
      "125:\tlearn: 0.9119311\ttotal: 7.1s\tremaining: 1m 45s\n",
      "150:\tlearn: 0.9164819\ttotal: 8.44s\tremaining: 1m 43s\n",
      "175:\tlearn: 0.9215027\ttotal: 9.8s\tremaining: 1m 41s\n",
      "200:\tlearn: 0.9265832\ttotal: 11.2s\tremaining: 1m 40s\n",
      "225:\tlearn: 0.9303801\ttotal: 12.5s\tremaining: 1m 38s\n",
      "250:\tlearn: 0.9353870\ttotal: 13.9s\tremaining: 1m 36s\n",
      "275:\tlearn: 0.9390679\ttotal: 15.2s\tremaining: 1m 34s\n",
      "300:\tlearn: 0.9427805\ttotal: 16.5s\tremaining: 1m 33s\n",
      "325:\tlearn: 0.9471290\ttotal: 17.9s\tremaining: 1m 31s\n",
      "350:\tlearn: 0.9511093\ttotal: 19.2s\tremaining: 1m 30s\n",
      "375:\tlearn: 0.9542748\ttotal: 20.6s\tremaining: 1m 28s\n",
      "400:\tlearn: 0.9572241\ttotal: 21.9s\tremaining: 1m 27s\n",
      "425:\tlearn: 0.9600537\ttotal: 23.3s\tremaining: 1m 26s\n",
      "450:\tlearn: 0.9628443\ttotal: 24.7s\tremaining: 1m 24s\n",
      "475:\tlearn: 0.9645073\ttotal: 26s\tremaining: 1m 23s\n",
      "500:\tlearn: 0.9670291\ttotal: 27.4s\tremaining: 1m 22s\n",
      "525:\tlearn: 0.9691214\ttotal: 28.8s\tremaining: 1m 20s\n",
      "550:\tlearn: 0.9709158\ttotal: 30.1s\tremaining: 1m 19s\n",
      "575:\tlearn: 0.9725020\ttotal: 31.5s\tremaining: 1m 17s\n",
      "600:\tlearn: 0.9735641\ttotal: 32.8s\tremaining: 1m 16s\n",
      "625:\tlearn: 0.9751305\ttotal: 34.1s\tremaining: 1m 14s\n",
      "650:\tlearn: 0.9761084\ttotal: 35.5s\tremaining: 1m 13s\n",
      "675:\tlearn: 0.9770499\ttotal: 36.8s\tremaining: 1m 12s\n",
      "700:\tlearn: 0.9784944\ttotal: 38.2s\tremaining: 1m 10s\n",
      "725:\tlearn: 0.9794506\ttotal: 39.6s\tremaining: 1m 9s\n",
      "750:\tlearn: 0.9802501\ttotal: 40.9s\tremaining: 1m 8s\n",
      "775:\tlearn: 0.9809775\ttotal: 42.3s\tremaining: 1m 6s\n",
      "800:\tlearn: 0.9817017\ttotal: 43.7s\tremaining: 1m 5s\n",
      "825:\tlearn: 0.9823535\ttotal: 45.1s\tremaining: 1m 4s\n",
      "850:\tlearn: 0.9830342\ttotal: 46.4s\tremaining: 1m 2s\n",
      "875:\tlearn: 0.9835907\ttotal: 47.7s\tremaining: 1m 1s\n",
      "900:\tlearn: 0.9842535\ttotal: 49.1s\tremaining: 59.9s\n",
      "925:\tlearn: 0.9848057\ttotal: 50.5s\tremaining: 58.5s\n",
      "950:\tlearn: 0.9852561\ttotal: 51.8s\tremaining: 57.2s\n",
      "975:\tlearn: 0.9858137\ttotal: 53.2s\tremaining: 55.8s\n",
      "1000:\tlearn: 0.9863039\ttotal: 54.5s\tremaining: 54.4s\n",
      "1025:\tlearn: 0.9867606\ttotal: 55.9s\tremaining: 53s\n",
      "1050:\tlearn: 0.9871544\ttotal: 57.2s\tremaining: 51.7s\n",
      "1075:\tlearn: 0.9877531\ttotal: 58.6s\tremaining: 50.3s\n",
      "1100:\tlearn: 0.9881773\ttotal: 60s\tremaining: 49s\n",
      "1125:\tlearn: 0.9886112\ttotal: 1m 1s\tremaining: 47.6s\n",
      "1150:\tlearn: 0.9889236\ttotal: 1m 2s\tremaining: 46.2s\n",
      "1175:\tlearn: 0.9892996\ttotal: 1m 4s\tremaining: 44.9s\n",
      "1200:\tlearn: 0.9898519\ttotal: 1m 5s\tremaining: 43.6s\n",
      "1225:\tlearn: 0.9901699\ttotal: 1m 6s\tremaining: 42.3s\n",
      "1250:\tlearn: 0.9904930\ttotal: 1m 8s\tremaining: 40.9s\n",
      "1275:\tlearn: 0.9908310\ttotal: 1m 9s\tremaining: 39.6s\n",
      "1300:\tlearn: 0.9911251\ttotal: 1m 11s\tremaining: 38.2s\n",
      "1325:\tlearn: 0.9915224\ttotal: 1m 12s\tremaining: 36.9s\n",
      "1350:\tlearn: 0.9918954\ttotal: 1m 13s\tremaining: 35.5s\n",
      "1375:\tlearn: 0.9922885\ttotal: 1m 15s\tremaining: 34.2s\n",
      "1400:\tlearn: 0.9926080\ttotal: 1m 16s\tremaining: 32.8s\n",
      "1425:\tlearn: 0.9929228\ttotal: 1m 18s\tremaining: 31.4s\n",
      "1450:\tlearn: 0.9932231\ttotal: 1m 19s\tremaining: 30s\n",
      "1475:\tlearn: 0.9934497\ttotal: 1m 20s\tremaining: 28.7s\n",
      "1500:\tlearn: 0.9937650\ttotal: 1m 22s\tremaining: 27.3s\n",
      "1525:\tlearn: 0.9939770\ttotal: 1m 23s\tremaining: 25.9s\n",
      "1550:\tlearn: 0.9941447\ttotal: 1m 24s\tremaining: 24.5s\n",
      "1575:\tlearn: 0.9943964\ttotal: 1m 26s\tremaining: 23.2s\n",
      "1600:\tlearn: 0.9947124\ttotal: 1m 27s\tremaining: 21.8s\n",
      "1625:\tlearn: 0.9948902\ttotal: 1m 28s\tremaining: 20.4s\n",
      "1650:\tlearn: 0.9951620\ttotal: 1m 30s\tremaining: 19s\n",
      "1675:\tlearn: 0.9953647\ttotal: 1m 31s\tremaining: 17.7s\n",
      "1700:\tlearn: 0.9955477\ttotal: 1m 32s\tremaining: 16.3s\n",
      "1725:\tlearn: 0.9957951\ttotal: 1m 34s\tremaining: 15s\n",
      "1750:\tlearn: 0.9960377\ttotal: 1m 35s\tremaining: 13.6s\n",
      "1775:\tlearn: 0.9962209\ttotal: 1m 36s\tremaining: 12.2s\n",
      "1800:\tlearn: 0.9963745\ttotal: 1m 38s\tremaining: 10.9s\n",
      "1825:\tlearn: 0.9965777\ttotal: 1m 39s\tremaining: 9.5s\n",
      "1850:\tlearn: 0.9966967\ttotal: 1m 41s\tremaining: 8.13s\n",
      "1875:\tlearn: 0.9968207\ttotal: 1m 42s\tremaining: 6.77s\n",
      "1900:\tlearn: 0.9969596\ttotal: 1m 43s\tremaining: 5.4s\n",
      "1925:\tlearn: 0.9971283\ttotal: 1m 45s\tremaining: 4.04s\n",
      "1950:\tlearn: 0.9971829\ttotal: 1m 46s\tremaining: 2.67s\n",
      "1975:\tlearn: 0.9973814\ttotal: 1m 47s\tremaining: 1.31s\n",
      "1999:\tlearn: 0.9974857\ttotal: 1m 49s\tremaining: 0us\n",
      "CPU times: total: 27min 42s\n",
      "Wall time: 5min 25s\n"
     ]
    },
    {
     "data": {
      "text/html": [
       "<style>#sk-container-id-5 {color: black;background-color: white;}#sk-container-id-5 pre{padding: 0;}#sk-container-id-5 div.sk-toggleable {background-color: white;}#sk-container-id-5 label.sk-toggleable__label {cursor: pointer;display: block;width: 100%;margin-bottom: 0;padding: 0.3em;box-sizing: border-box;text-align: center;}#sk-container-id-5 label.sk-toggleable__label-arrow:before {content: \"▸\";float: left;margin-right: 0.25em;color: #696969;}#sk-container-id-5 label.sk-toggleable__label-arrow:hover:before {color: black;}#sk-container-id-5 div.sk-estimator:hover label.sk-toggleable__label-arrow:before {color: black;}#sk-container-id-5 div.sk-toggleable__content {max-height: 0;max-width: 0;overflow: hidden;text-align: left;background-color: #f0f8ff;}#sk-container-id-5 div.sk-toggleable__content pre {margin: 0.2em;color: black;border-radius: 0.25em;background-color: #f0f8ff;}#sk-container-id-5 input.sk-toggleable__control:checked~div.sk-toggleable__content {max-height: 200px;max-width: 100%;overflow: auto;}#sk-container-id-5 input.sk-toggleable__control:checked~label.sk-toggleable__label-arrow:before {content: \"▾\";}#sk-container-id-5 div.sk-estimator input.sk-toggleable__control:checked~label.sk-toggleable__label {background-color: #d4ebff;}#sk-container-id-5 div.sk-label input.sk-toggleable__control:checked~label.sk-toggleable__label {background-color: #d4ebff;}#sk-container-id-5 input.sk-hidden--visually {border: 0;clip: rect(1px 1px 1px 1px);clip: rect(1px, 1px, 1px, 1px);height: 1px;margin: -1px;overflow: hidden;padding: 0;position: absolute;width: 1px;}#sk-container-id-5 div.sk-estimator {font-family: monospace;background-color: #f0f8ff;border: 1px dotted black;border-radius: 0.25em;box-sizing: border-box;margin-bottom: 0.5em;}#sk-container-id-5 div.sk-estimator:hover {background-color: #d4ebff;}#sk-container-id-5 div.sk-parallel-item::after {content: \"\";width: 100%;border-bottom: 1px solid gray;flex-grow: 1;}#sk-container-id-5 div.sk-label:hover label.sk-toggleable__label {background-color: #d4ebff;}#sk-container-id-5 div.sk-serial::before {content: \"\";position: absolute;border-left: 1px solid gray;box-sizing: border-box;top: 0;bottom: 0;left: 50%;z-index: 0;}#sk-container-id-5 div.sk-serial {display: flex;flex-direction: column;align-items: center;background-color: white;padding-right: 0.2em;padding-left: 0.2em;position: relative;}#sk-container-id-5 div.sk-item {position: relative;z-index: 1;}#sk-container-id-5 div.sk-parallel {display: flex;align-items: stretch;justify-content: center;background-color: white;position: relative;}#sk-container-id-5 div.sk-item::before, #sk-container-id-5 div.sk-parallel-item::before {content: \"\";position: absolute;border-left: 1px solid gray;box-sizing: border-box;top: 0;bottom: 0;left: 50%;z-index: -1;}#sk-container-id-5 div.sk-parallel-item {display: flex;flex-direction: column;z-index: 1;position: relative;background-color: white;}#sk-container-id-5 div.sk-parallel-item:first-child::after {align-self: flex-end;width: 50%;}#sk-container-id-5 div.sk-parallel-item:last-child::after {align-self: flex-start;width: 50%;}#sk-container-id-5 div.sk-parallel-item:only-child::after {width: 0;}#sk-container-id-5 div.sk-dashed-wrapped {border: 1px dashed gray;margin: 0 0.4em 0.5em 0.4em;box-sizing: border-box;padding-bottom: 0.4em;background-color: white;}#sk-container-id-5 div.sk-label label {font-family: monospace;font-weight: bold;display: inline-block;line-height: 1.2em;}#sk-container-id-5 div.sk-label-container {text-align: center;}#sk-container-id-5 div.sk-container {/* jupyter's `normalize.less` sets `[hidden] { display: none; }` but bootstrap.min.css set `[hidden] { display: none !important; }` so we also need the `!important` here to be able to override the default hidden behavior on the sphinx rendered scikit-learn.org. See: https://github.com/scikit-learn/scikit-learn/issues/21755 */display: inline-block !important;position: relative;}#sk-container-id-5 div.sk-text-repr-fallback {display: none;}</style><div id=\"sk-container-id-5\" class=\"sk-top-container\"><div class=\"sk-text-repr-fallback\"><pre>GridSearchCV(cv=3,\n",
       "             estimator=&lt;catboost.core.CatBoostClassifier object at 0x0000022771655E20&gt;,\n",
       "             n_jobs=-1,\n",
       "             param_grid={&#x27;depth&#x27;: [4], &#x27;iterations&#x27;: [2000],\n",
       "                         &#x27;learning_rate&#x27;: [0.25]},\n",
       "             scoring=&#x27;f1&#x27;, verbose=3)</pre><b>In a Jupyter environment, please rerun this cell to show the HTML representation or trust the notebook. <br />On GitHub, the HTML representation is unable to render, please try loading this page with nbviewer.org.</b></div><div class=\"sk-container\" hidden><div class=\"sk-item sk-dashed-wrapped\"><div class=\"sk-label-container\"><div class=\"sk-label sk-toggleable\"><input class=\"sk-toggleable__control sk-hidden--visually\" id=\"sk-estimator-id-7\" type=\"checkbox\" ><label for=\"sk-estimator-id-7\" class=\"sk-toggleable__label sk-toggleable__label-arrow\">GridSearchCV</label><div class=\"sk-toggleable__content\"><pre>GridSearchCV(cv=3,\n",
       "             estimator=&lt;catboost.core.CatBoostClassifier object at 0x0000022771655E20&gt;,\n",
       "             n_jobs=-1,\n",
       "             param_grid={&#x27;depth&#x27;: [4], &#x27;iterations&#x27;: [2000],\n",
       "                         &#x27;learning_rate&#x27;: [0.25]},\n",
       "             scoring=&#x27;f1&#x27;, verbose=3)</pre></div></div></div><div class=\"sk-parallel\"><div class=\"sk-parallel-item\"><div class=\"sk-item\"><div class=\"sk-label-container\"><div class=\"sk-label sk-toggleable\"><input class=\"sk-toggleable__control sk-hidden--visually\" id=\"sk-estimator-id-8\" type=\"checkbox\" ><label for=\"sk-estimator-id-8\" class=\"sk-toggleable__label sk-toggleable__label-arrow\">estimator: CatBoostClassifier</label><div class=\"sk-toggleable__content\"><pre>&lt;catboost.core.CatBoostClassifier object at 0x0000022771655E20&gt;</pre></div></div></div><div class=\"sk-serial\"><div class=\"sk-item\"><div class=\"sk-estimator sk-toggleable\"><input class=\"sk-toggleable__control sk-hidden--visually\" id=\"sk-estimator-id-9\" type=\"checkbox\" ><label for=\"sk-estimator-id-9\" class=\"sk-toggleable__label sk-toggleable__label-arrow\">CatBoostClassifier</label><div class=\"sk-toggleable__content\"><pre>&lt;catboost.core.CatBoostClassifier object at 0x0000022771655E20&gt;</pre></div></div></div></div></div></div></div></div></div></div>"
      ],
      "text/plain": [
       "GridSearchCV(cv=3,\n",
       "             estimator=<catboost.core.CatBoostClassifier object at 0x0000022771655E20>,\n",
       "             n_jobs=-1,\n",
       "             param_grid={'depth': [4], 'iterations': [2000],\n",
       "                         'learning_rate': [0.25]},\n",
       "             scoring='f1', verbose=3)"
      ]
     },
     "execution_count": 65,
     "metadata": {},
     "output_type": "execute_result"
    }
   ],
   "source": [
    "%%time\n",
    "cat_grid = GridSearchCV(estimator=cat, param_grid=cat_params,\n",
    "                        cv=3, scoring='f1', n_jobs=-1, verbose=3)\n",
    "cat_grid.fit(X_train_bert, y_train_bert)"
   ]
  },
  {
   "cell_type": "code",
   "execution_count": 66,
   "metadata": {},
   "outputs": [
    {
     "name": "stdout",
     "output_type": "stream",
     "text": [
      "\u001b[1mРезультаты модели на тренировочных данных\n",
      "\n",
      "\u001b[0mЛучший гиперпараметры: {'depth': 4, 'iterations': 2000, 'learning_rate': 0.25}\n",
      "Лучший результат модели: 0.7344\n"
     ]
    }
   ],
   "source": [
    "table_results = result_grid(cat_grid, table_results, 'BERT_CatBoost')"
   ]
  },
  {
   "cell_type": "markdown",
   "metadata": {},
   "source": [
    "## Сравнение моделей"
   ]
  },
  {
   "cell_type": "code",
   "execution_count": 67,
   "metadata": {},
   "outputs": [
    {
     "data": {
      "text/html": [
       "<div>\n",
       "<style scoped>\n",
       "    .dataframe tbody tr th:only-of-type {\n",
       "        vertical-align: middle;\n",
       "    }\n",
       "\n",
       "    .dataframe tbody tr th {\n",
       "        vertical-align: top;\n",
       "    }\n",
       "\n",
       "    .dataframe thead th {\n",
       "        text-align: right;\n",
       "    }\n",
       "</style>\n",
       "<table border=\"1\" class=\"dataframe\">\n",
       "  <thead>\n",
       "    <tr style=\"text-align: right;\">\n",
       "      <th></th>\n",
       "      <th>Name</th>\n",
       "      <th>Best result</th>\n",
       "    </tr>\n",
       "  </thead>\n",
       "  <tbody>\n",
       "    <tr>\n",
       "      <th>0</th>\n",
       "      <td>LogisticRegression</td>\n",
       "      <td>0.7751</td>\n",
       "    </tr>\n",
       "    <tr>\n",
       "      <th>1</th>\n",
       "      <td>CatBoost</td>\n",
       "      <td>0.7525</td>\n",
       "    </tr>\n",
       "    <tr>\n",
       "      <th>2</th>\n",
       "      <td>BERT_LogisticRegression</td>\n",
       "      <td>0.7485</td>\n",
       "    </tr>\n",
       "    <tr>\n",
       "      <th>3</th>\n",
       "      <td>BERT_CatBoost</td>\n",
       "      <td>0.7344</td>\n",
       "    </tr>\n",
       "  </tbody>\n",
       "</table>\n",
       "</div>"
      ],
      "text/plain": [
       "                      Name  Best result\n",
       "0       LogisticRegression       0.7751\n",
       "1                 CatBoost       0.7525\n",
       "2  BERT_LogisticRegression       0.7485\n",
       "3            BERT_CatBoost       0.7344"
      ]
     },
     "execution_count": 67,
     "metadata": {},
     "output_type": "execute_result"
    }
   ],
   "source": [
    "table_results"
   ]
  },
  {
   "cell_type": "markdown",
   "metadata": {},
   "source": [
    "***Выводы***\n",
    "* Лучшие результаты показала модель логистической регрессии на признаках полученных с помощью TF-IDF, значение метрики F1=0.7751, что выше необходимого результата 0.75\n",
    "* Модели обученные с использование BERT показали более плохие результаты, это может быть связано с ограничением кол-ва токенов - 512"
   ]
  },
  {
   "cell_type": "markdown",
   "metadata": {},
   "source": [
    "## Тестирование лучшей модели"
   ]
  },
  {
   "cell_type": "code",
   "execution_count": 68,
   "metadata": {},
   "outputs": [
    {
     "name": "stdout",
     "output_type": "stream",
     "text": [
      "CPU times: total: 93.8 ms\n",
      "Wall time: 31.9 s\n"
     ]
    },
    {
     "data": {
      "text/html": [
       "<style>#sk-container-id-6 {color: black;background-color: white;}#sk-container-id-6 pre{padding: 0;}#sk-container-id-6 div.sk-toggleable {background-color: white;}#sk-container-id-6 label.sk-toggleable__label {cursor: pointer;display: block;width: 100%;margin-bottom: 0;padding: 0.3em;box-sizing: border-box;text-align: center;}#sk-container-id-6 label.sk-toggleable__label-arrow:before {content: \"▸\";float: left;margin-right: 0.25em;color: #696969;}#sk-container-id-6 label.sk-toggleable__label-arrow:hover:before {color: black;}#sk-container-id-6 div.sk-estimator:hover label.sk-toggleable__label-arrow:before {color: black;}#sk-container-id-6 div.sk-toggleable__content {max-height: 0;max-width: 0;overflow: hidden;text-align: left;background-color: #f0f8ff;}#sk-container-id-6 div.sk-toggleable__content pre {margin: 0.2em;color: black;border-radius: 0.25em;background-color: #f0f8ff;}#sk-container-id-6 input.sk-toggleable__control:checked~div.sk-toggleable__content {max-height: 200px;max-width: 100%;overflow: auto;}#sk-container-id-6 input.sk-toggleable__control:checked~label.sk-toggleable__label-arrow:before {content: \"▾\";}#sk-container-id-6 div.sk-estimator input.sk-toggleable__control:checked~label.sk-toggleable__label {background-color: #d4ebff;}#sk-container-id-6 div.sk-label input.sk-toggleable__control:checked~label.sk-toggleable__label {background-color: #d4ebff;}#sk-container-id-6 input.sk-hidden--visually {border: 0;clip: rect(1px 1px 1px 1px);clip: rect(1px, 1px, 1px, 1px);height: 1px;margin: -1px;overflow: hidden;padding: 0;position: absolute;width: 1px;}#sk-container-id-6 div.sk-estimator {font-family: monospace;background-color: #f0f8ff;border: 1px dotted black;border-radius: 0.25em;box-sizing: border-box;margin-bottom: 0.5em;}#sk-container-id-6 div.sk-estimator:hover {background-color: #d4ebff;}#sk-container-id-6 div.sk-parallel-item::after {content: \"\";width: 100%;border-bottom: 1px solid gray;flex-grow: 1;}#sk-container-id-6 div.sk-label:hover label.sk-toggleable__label {background-color: #d4ebff;}#sk-container-id-6 div.sk-serial::before {content: \"\";position: absolute;border-left: 1px solid gray;box-sizing: border-box;top: 0;bottom: 0;left: 50%;z-index: 0;}#sk-container-id-6 div.sk-serial {display: flex;flex-direction: column;align-items: center;background-color: white;padding-right: 0.2em;padding-left: 0.2em;position: relative;}#sk-container-id-6 div.sk-item {position: relative;z-index: 1;}#sk-container-id-6 div.sk-parallel {display: flex;align-items: stretch;justify-content: center;background-color: white;position: relative;}#sk-container-id-6 div.sk-item::before, #sk-container-id-6 div.sk-parallel-item::before {content: \"\";position: absolute;border-left: 1px solid gray;box-sizing: border-box;top: 0;bottom: 0;left: 50%;z-index: -1;}#sk-container-id-6 div.sk-parallel-item {display: flex;flex-direction: column;z-index: 1;position: relative;background-color: white;}#sk-container-id-6 div.sk-parallel-item:first-child::after {align-self: flex-end;width: 50%;}#sk-container-id-6 div.sk-parallel-item:last-child::after {align-self: flex-start;width: 50%;}#sk-container-id-6 div.sk-parallel-item:only-child::after {width: 0;}#sk-container-id-6 div.sk-dashed-wrapped {border: 1px dashed gray;margin: 0 0.4em 0.5em 0.4em;box-sizing: border-box;padding-bottom: 0.4em;background-color: white;}#sk-container-id-6 div.sk-label label {font-family: monospace;font-weight: bold;display: inline-block;line-height: 1.2em;}#sk-container-id-6 div.sk-label-container {text-align: center;}#sk-container-id-6 div.sk-container {/* jupyter's `normalize.less` sets `[hidden] { display: none; }` but bootstrap.min.css set `[hidden] { display: none !important; }` so we also need the `!important` here to be able to override the default hidden behavior on the sphinx rendered scikit-learn.org. See: https://github.com/scikit-learn/scikit-learn/issues/21755 */display: inline-block !important;position: relative;}#sk-container-id-6 div.sk-text-repr-fallback {display: none;}</style><div id=\"sk-container-id-6\" class=\"sk-top-container\"><div class=\"sk-text-repr-fallback\"><pre>LogisticRegression(C=30, class_weight=&#x27;balansed&#x27;, max_iter=5000, n_jobs=-1,\n",
       "                   random_state=56)</pre><b>In a Jupyter environment, please rerun this cell to show the HTML representation or trust the notebook. <br />On GitHub, the HTML representation is unable to render, please try loading this page with nbviewer.org.</b></div><div class=\"sk-container\" hidden><div class=\"sk-item\"><div class=\"sk-estimator sk-toggleable\"><input class=\"sk-toggleable__control sk-hidden--visually\" id=\"sk-estimator-id-10\" type=\"checkbox\" checked><label for=\"sk-estimator-id-10\" class=\"sk-toggleable__label sk-toggleable__label-arrow\">LogisticRegression</label><div class=\"sk-toggleable__content\"><pre>LogisticRegression(C=30, class_weight=&#x27;balansed&#x27;, max_iter=5000, n_jobs=-1,\n",
       "                   random_state=56)</pre></div></div></div></div></div>"
      ],
      "text/plain": [
       "LogisticRegression(C=30, class_weight='balansed', max_iter=5000, n_jobs=-1,\n",
       "                   random_state=56)"
      ]
     },
     "execution_count": 68,
     "metadata": {},
     "output_type": "execute_result"
    }
   ],
   "source": [
    "%%time\n",
    "clf = LogisticRegression(C = 30, class_weight='balansed',\n",
    "                         max_iter=5000, random_state=56, n_jobs=-1)\n",
    "clf.fit(X_train_full, y_train)"
   ]
  },
  {
   "cell_type": "code",
   "execution_count": 69,
   "metadata": {},
   "outputs": [
    {
     "name": "stdout",
     "output_type": "stream",
     "text": [
      "\u001b[1mРезультаты на тестовых данных:\u001b[0m\n",
      "\n",
      "Значение F1-меры: 0.7791\n",
      "Точность данных (precision): 0.8556\n",
      "Полнота данных (recall): 0.7152\n",
      "Значение ROC-AUC: 0.9662\n",
      "Доля правильных ответов: 0.9588\n",
      "\n",
      "\u001b[1mROC-кривая:\u001b[0m\n"
     ]
    },
    {
     "data": {
      "image/png": "[encoded data removed]",
      "text/plain": [
       "<Figure size 600x600 with 1 Axes>"
      ]
     },
     "metadata": {},
     "output_type": "display_data"
    },
    {
     "name": "stdout",
     "output_type": "stream",
     "text": [
      "\n",
      "\u001b[1mМатрица ошибок:\u001b[0m\n"
     ]
    },
    {
     "data": {
      "image/png": "[encoded data removed]",
      "text/plain": [
       "<Figure size 1000x800 with 2 Axes>"
      ]
     },
     "metadata": {},
     "output_type": "display_data"
    },
    {
     "name": "stdout",
     "output_type": "stream",
     "text": [
      "                      precision    recall  f1-score   support\n",
      "\n",
      "Негативный отзыв [0]       0.97      0.99      0.98     42932\n",
      " Позитивный отзыв[1]       0.86      0.72      0.78      4856\n",
      "\n",
      "            accuracy                           0.96     47788\n",
      "           macro avg       0.91      0.85      0.88     47788\n",
      "        weighted avg       0.96      0.96      0.96     47788\n",
      "\n"
     ]
    }
   ],
   "source": [
    "test_result(clf, X_test_full, y_test)"
   ]
  },
  {
   "cell_type": "markdown",
   "metadata": {},
   "source": [
    "## Выводы"
   ]
  },
  {
   "cell_type": "markdown",
   "metadata": {},
   "source": [
    "* Лучшие результаты показала модель логистической регрессии на признаках полученных с помощью TF-IDF, значение метрики F1 на тестовых данных - 0.7791, что выше необходимого результата 0.75\n",
    "* Модели обученные с использование BERT показали более плохие результаты, это может быть связано с ограничением кол-ва токенов - 512"
   ]
  }
 ],
 "metadata": {
  "ExecuteTimeLog": [
   {
    "duration": 381,
    "start_time": "2022-11-07T09:56:56.185Z"
   },
   {
    "duration": 1196,
    "start_time": "2022-11-07T09:57:25.933Z"
   },
   {
    "duration": 13,
    "start_time": "2022-11-07T09:57:35.394Z"
   },
   {
    "duration": 114,
    "start_time": "2022-11-07T09:58:32.233Z"
   },
   {
    "duration": 482,
    "start_time": "2022-11-07T09:58:38.773Z"
   },
   {
    "duration": 17,
    "start_time": "2022-11-07T09:58:40.173Z"
   },
   {
    "duration": 1468,
    "start_time": "2022-11-07T10:03:57.173Z"
   },
   {
    "duration": 49,
    "start_time": "2022-11-07T10:07:30.115Z"
   },
   {
    "duration": 3429,
    "start_time": "2022-11-07T10:07:53.146Z"
   },
   {
    "duration": 7,
    "start_time": "2022-11-07T10:08:01.005Z"
   },
   {
    "duration": 41,
    "start_time": "2022-11-07T10:10:33.301Z"
   },
   {
    "duration": 2072,
    "start_time": "2022-11-07T10:10:47.294Z"
   },
   {
    "duration": 9,
    "start_time": "2022-11-07T10:10:49.369Z"
   },
   {
    "duration": 28,
    "start_time": "2022-11-07T10:10:55.874Z"
   },
   {
    "duration": 3,
    "start_time": "2022-11-07T10:31:34.333Z"
   },
   {
    "duration": 251,
    "start_time": "2022-11-07T10:31:50.913Z"
   },
   {
    "duration": 4,
    "start_time": "2022-11-07T10:32:23.285Z"
   },
   {
    "duration": 71,
    "start_time": "2022-11-07T11:43:36.615Z"
   },
   {
    "duration": 624,
    "start_time": "2022-11-07T11:43:42.033Z"
   },
   {
    "duration": 3273,
    "start_time": "2022-11-07T11:43:42.661Z"
   },
   {
    "duration": 15,
    "start_time": "2022-11-07T11:43:45.936Z"
   },
   {
    "duration": 46,
    "start_time": "2022-11-07T11:43:45.953Z"
   },
   {
    "duration": 14,
    "start_time": "2022-11-07T11:43:46.001Z"
   },
   {
    "duration": 7042,
    "start_time": "2022-11-07T11:43:46.017Z"
   },
   {
    "duration": 2354,
    "start_time": "2022-11-07T11:44:10.771Z"
   },
   {
    "duration": 10,
    "start_time": "2022-11-07T11:44:13.133Z"
   },
   {
    "duration": 115,
    "start_time": "2022-11-07T11:44:13.145Z"
   },
   {
    "duration": 2024,
    "start_time": "2022-11-07T11:44:51.290Z"
   },
   {
    "duration": 4,
    "start_time": "2022-11-07T11:44:54.279Z"
   },
   {
    "duration": 1199,
    "start_time": "2022-11-07T11:44:58.970Z"
   },
   {
    "duration": 4,
    "start_time": "2022-11-07T11:45:10.433Z"
   },
   {
    "duration": 43,
    "start_time": "2022-11-07T11:47:48.171Z"
   },
   {
    "duration": 448,
    "start_time": "2022-11-07T11:47:55.319Z"
   },
   {
    "duration": 2691,
    "start_time": "2022-11-07T11:47:55.768Z"
   },
   {
    "duration": 12,
    "start_time": "2022-11-07T11:47:58.461Z"
   },
   {
    "duration": 31,
    "start_time": "2022-11-07T11:47:58.475Z"
   },
   {
    "duration": 2006,
    "start_time": "2022-11-07T11:47:58.522Z"
   },
   {
    "duration": 17,
    "start_time": "2022-11-07T11:48:00.530Z"
   },
   {
    "duration": 3210,
    "start_time": "2022-11-07T11:48:00.548Z"
   },
   {
    "duration": 5,
    "start_time": "2022-11-07T11:48:31.182Z"
   },
   {
    "duration": 421,
    "start_time": "2022-11-08T08:20:01.156Z"
   },
   {
    "duration": 3202,
    "start_time": "2022-11-08T08:20:01.578Z"
   },
   {
    "duration": 13,
    "start_time": "2022-11-08T08:20:07.404Z"
   },
   {
    "duration": 26,
    "start_time": "2022-11-08T08:20:08.204Z"
   },
   {
    "duration": 3644,
    "start_time": "2022-11-08T08:20:15.525Z"
   },
   {
    "duration": 8,
    "start_time": "2022-11-08T08:20:19.170Z"
   },
   {
    "duration": 9510,
    "start_time": "2022-11-08T08:21:45.284Z"
   },
   {
    "duration": 3103,
    "start_time": "2022-11-08T08:22:20.964Z"
   },
   {
    "duration": 2192,
    "start_time": "2022-11-08T08:22:35.003Z"
   },
   {
    "duration": 12,
    "start_time": "2022-11-08T08:22:37.196Z"
   },
   {
    "duration": 22,
    "start_time": "2022-11-08T08:22:37.209Z"
   },
   {
    "duration": 660,
    "start_time": "2022-11-08T08:24:08.583Z"
   },
   {
    "duration": 4,
    "start_time": "2022-11-08T08:25:32.053Z"
   },
   {
    "duration": 436,
    "start_time": "2022-11-08T08:26:46.904Z"
   },
   {
    "duration": 382,
    "start_time": "2022-11-08T08:28:43.391Z"
   },
   {
    "duration": 475,
    "start_time": "2022-11-08T08:34:03.922Z"
   },
   {
    "duration": 3,
    "start_time": "2022-11-08T08:34:30.794Z"
   },
   {
    "duration": 99425,
    "start_time": "2022-11-08T08:34:44.503Z"
   },
   {
    "duration": 381,
    "start_time": "2022-11-08T08:36:40.816Z"
   },
   {
    "duration": 2,
    "start_time": "2022-11-08T08:36:42.255Z"
   },
   {
    "duration": 16,
    "start_time": "2022-11-08T08:44:02.082Z"
   },
   {
    "duration": 15,
    "start_time": "2022-11-08T08:44:14.583Z"
   },
   {
    "duration": 4159,
    "start_time": "2022-11-08T08:44:43.083Z"
   },
   {
    "duration": 30,
    "start_time": "2022-11-08T08:44:56.843Z"
   },
   {
    "duration": 55384,
    "start_time": "2022-11-08T08:45:05.090Z"
   },
   {
    "duration": 460,
    "start_time": "2022-11-08T08:46:09.025Z"
   },
   {
    "duration": 148,
    "start_time": "2022-11-08T08:46:20.561Z"
   },
   {
    "duration": 394,
    "start_time": "2022-11-08T08:47:22.024Z"
   },
   {
    "duration": 62,
    "start_time": "2022-11-08T08:47:27.782Z"
   },
   {
    "duration": 3299,
    "start_time": "2022-11-08T08:47:56.666Z"
   },
   {
    "duration": 3284,
    "start_time": "2022-11-08T08:51:48.786Z"
   },
   {
    "duration": 150,
    "start_time": "2022-11-08T08:51:52.071Z"
   },
   {
    "duration": 33,
    "start_time": "2022-11-08T08:51:52.222Z"
   },
   {
    "duration": 496,
    "start_time": "2022-11-08T08:51:52.256Z"
   },
   {
    "duration": 3,
    "start_time": "2022-11-08T08:52:00.945Z"
   },
   {
    "duration": 1355626,
    "start_time": "2022-11-08T08:52:02.954Z"
   },
   {
    "duration": 982934,
    "start_time": "2022-11-08T09:14:38.582Z"
   },
   {
    "duration": 6,
    "start_time": "2022-11-08T09:31:01.518Z"
   },
   {
    "duration": 228,
    "start_time": "2022-11-08T09:31:01.526Z"
   },
   {
    "duration": 714,
    "start_time": "2022-11-08T09:33:02.275Z"
   },
   {
    "duration": 210,
    "start_time": "2022-11-08T09:33:34.502Z"
   },
   {
    "duration": 5,
    "start_time": "2022-11-08T09:34:01.523Z"
   },
   {
    "duration": 172,
    "start_time": "2022-11-08T09:34:14.015Z"
   },
   {
    "duration": 1385148,
    "start_time": "2022-11-08T09:34:36.796Z"
   },
   {
    "duration": 232,
    "start_time": "2022-11-08T09:58:17.174Z"
   },
   {
    "duration": 10,
    "start_time": "2022-11-08T09:58:40.155Z"
   },
   {
    "duration": 5,
    "start_time": "2022-11-08T09:59:06.514Z"
   },
   {
    "duration": 226,
    "start_time": "2022-11-08T10:01:38.184Z"
   },
   {
    "duration": 6,
    "start_time": "2022-11-08T10:02:00.435Z"
   },
   {
    "duration": 6,
    "start_time": "2022-11-08T10:02:41.302Z"
   },
   {
    "duration": 47,
    "start_time": "2022-11-08T10:05:06.574Z"
   },
   {
    "duration": 5,
    "start_time": "2022-11-08T10:05:40.075Z"
   },
   {
    "duration": 16,
    "start_time": "2022-11-08T10:05:48.667Z"
   },
   {
    "duration": 47,
    "start_time": "2022-11-08T10:06:07.114Z"
   },
   {
    "duration": 3281,
    "start_time": "2022-11-08T10:08:17.994Z"
   },
   {
    "duration": 2727,
    "start_time": "2022-11-08T10:08:21.277Z"
   },
   {
    "duration": 14,
    "start_time": "2022-11-08T10:08:24.006Z"
   },
   {
    "duration": 34,
    "start_time": "2022-11-08T10:08:24.021Z"
   },
   {
    "duration": 589,
    "start_time": "2022-11-08T10:08:25.214Z"
   },
   {
    "duration": 2,
    "start_time": "2022-11-08T10:08:28.835Z"
   },
   {
    "duration": 32,
    "start_time": "2022-11-08T10:08:32.596Z"
   },
   {
    "duration": 982541,
    "start_time": "2022-11-08T10:08:44.955Z"
   },
   {
    "duration": 212,
    "start_time": "2022-11-08T10:25:07.498Z"
   },
   {
    "duration": 268,
    "start_time": "2022-11-08T10:25:07.711Z"
   },
   {
    "duration": 12570,
    "start_time": "2022-11-08T11:04:03.730Z"
   },
   {
    "duration": 3,
    "start_time": "2022-11-08T11:04:23.770Z"
   },
   {
    "duration": 15,
    "start_time": "2022-11-08T11:07:08.550Z"
   },
   {
    "duration": 3623,
    "start_time": "2022-11-08T11:15:44.091Z"
   },
   {
    "duration": 3044,
    "start_time": "2022-11-08T11:15:47.716Z"
   },
   {
    "duration": 13,
    "start_time": "2022-11-08T11:15:50.761Z"
   },
   {
    "duration": 27,
    "start_time": "2022-11-08T11:15:50.775Z"
   },
   {
    "duration": 600,
    "start_time": "2022-11-08T11:15:50.803Z"
   },
   {
    "duration": 3,
    "start_time": "2022-11-08T11:15:51.404Z"
   },
   {
    "duration": 31,
    "start_time": "2022-11-08T11:15:51.408Z"
   },
   {
    "duration": 307,
    "start_time": "2022-11-08T11:15:51.440Z"
   },
   {
    "duration": 1015781,
    "start_time": "2022-11-08T11:16:07.061Z"
   },
   {
    "duration": 3,
    "start_time": "2022-11-08T12:21:08.997Z"
   },
   {
    "duration": 18,
    "start_time": "2022-11-08T12:21:18.677Z"
   },
   {
    "duration": 5,
    "start_time": "2022-11-08T12:21:29.637Z"
   },
   {
    "duration": 8,
    "start_time": "2022-11-08T12:25:25.989Z"
   },
   {
    "duration": 4,
    "start_time": "2022-11-08T12:25:30.966Z"
   },
   {
    "duration": 3,
    "start_time": "2022-11-08T12:25:54.670Z"
   },
   {
    "duration": 7,
    "start_time": "2022-11-08T12:27:51.098Z"
   },
   {
    "duration": 4,
    "start_time": "2022-11-08T12:27:59.671Z"
   },
   {
    "duration": 7,
    "start_time": "2022-11-08T12:28:42.519Z"
   },
   {
    "duration": 4,
    "start_time": "2022-11-08T12:28:43.667Z"
   },
   {
    "duration": 14,
    "start_time": "2022-11-08T12:29:17.319Z"
   },
   {
    "duration": 4,
    "start_time": "2022-11-08T12:29:24.299Z"
   },
   {
    "duration": 4,
    "start_time": "2022-11-08T12:29:29.299Z"
   },
   {
    "duration": 14,
    "start_time": "2022-11-08T12:33:16.320Z"
   },
   {
    "duration": 24,
    "start_time": "2022-11-08T12:34:36.400Z"
   },
   {
    "duration": 27,
    "start_time": "2022-11-08T12:35:55.020Z"
   },
   {
    "duration": 142,
    "start_time": "2022-11-08T12:36:04.366Z"
   },
   {
    "duration": 9130,
    "start_time": "2022-11-08T12:37:16.081Z"
   },
   {
    "duration": 9436,
    "start_time": "2022-11-08T12:37:32.367Z"
   },
   {
    "duration": 19,
    "start_time": "2022-11-08T12:39:29.201Z"
   },
   {
    "duration": 33,
    "start_time": "2022-11-08T12:39:44.742Z"
   },
   {
    "duration": 9717,
    "start_time": "2022-11-08T12:39:47.090Z"
   },
   {
    "duration": 14,
    "start_time": "2022-11-08T12:40:13.173Z"
   },
   {
    "duration": 3,
    "start_time": "2022-11-08T12:40:20.834Z"
   },
   {
    "duration": 1995,
    "start_time": "2022-11-08T12:40:37.142Z"
   },
   {
    "duration": 41046,
    "start_time": "2022-11-08T12:41:34.115Z"
   },
   {
    "duration": 68,
    "start_time": "2022-11-08T12:54:46.223Z"
   },
   {
    "duration": 14,
    "start_time": "2022-11-08T12:54:53.383Z"
   },
   {
    "duration": 4,
    "start_time": "2022-11-08T12:55:29.584Z"
   },
   {
    "duration": 3,
    "start_time": "2022-11-08T12:55:37.096Z"
   },
   {
    "duration": 23,
    "start_time": "2022-11-08T12:56:33.945Z"
   },
   {
    "duration": 2,
    "start_time": "2022-11-08T12:57:00.256Z"
   }
  ],
  "kernelspec": {
   "display_name": "Python 3 (ipykernel)",
   "language": "python",
   "name": "python3"
  },
  "language_info": {
   "codemirror_mode": {
    "name": "ipython",
    "version": 3
   },
   "file_extension": ".py",
   "mimetype": "text/x-python",
   "name": "python",
   "nbconvert_exporter": "python",
   "pygments_lexer": "ipython3",
   "version": "3.9.12"
  },
  "toc": {
   "base_numbering": 1,
   "nav_menu": {},
   "number_sections": true,
   "sideBar": true,
   "skip_h1_title": true,
   "title_cell": "Содержание",
   "title_sidebar": "Contents",
   "toc_cell": true,
   "toc_position": {
    "height": "calc(100% - 180px)",
    "left": "10px",
    "top": "150px",
    "width": "302.312px"
   },
   "toc_section_display": true,
   "toc_window_display": true
  }
 },
 "nbformat": 4,
 "nbformat_minor": 2
}
