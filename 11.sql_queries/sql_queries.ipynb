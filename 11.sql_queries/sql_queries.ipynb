{
 "cells": [
  {
   "cell_type": "code",
   "execution_count": 1,
   "metadata": {
    "id": "nlZBlglMDWKe"
   },
   "outputs": [],
   "source": [
    "import pandas as pd\n",
    "import matplotlib.pyplot as plt\n",
    "from sqlalchemy import create_engine\n",
    "import seaborn as sns"
   ]
  },
  {
   "cell_type": "markdown",
   "metadata": {
    "id": "XnOE3n28DWKg"
   },
   "source": [
    "### Конфигурация для подключения к базе данных `data-analyst-advanced-sql`"
   ]
  },
  {
   "cell_type": "code",
   "execution_count": 2,
   "metadata": {
    "id": "6p-yGp7qDWKg"
   },
   "outputs": [],
   "source": [
    "db_config = {\n",
    "    'user': '', # имя пользователя\n",
    "    'pwd': '', # пароль\n",
    "    'host': '',\n",
    "    'port': , # порт подключения\n",
    "    'db': '' # название базы данных\n",
    "}  \n",
    "\n",
    "connection_string = 'postgresql://{}:{}@{}:{}/{}'.format(\n",
    "    db_config['user'],\n",
    "    db_config['pwd'],\n",
    "    db_config['host'],\n",
    "    db_config['port'],\n",
    "    db_config['db'],\n",
    ")"
   ]
  },
  {
   "cell_type": "markdown",
   "metadata": {
    "id": "2Rg8ZpS0DWKh"
   },
   "source": [
    "Создание подключения"
   ]
  },
  {
   "cell_type": "code",
   "execution_count": 3,
   "metadata": {
    "id": "DamCUTR6DWKi"
   },
   "outputs": [],
   "source": [
    "engine = create_engine(connection_string) "
   ]
  },
  {
   "cell_type": "markdown",
   "metadata": {
    "id": "bel8XeSlDWKj"
   },
   "source": [
    "Пример запроса к базе данных\n",
    "\n",
    "`sample_df` является pandas-датафреймом."
   ]
  },
  {
   "cell_type": "code",
   "execution_count": 4,
   "metadata": {
    "id": "6Z_fw0yLDWKk"
   },
   "outputs": [],
   "source": [
    "query = '''\n",
    "SELECT *\n",
    "FROM stackoverflow.users\n",
    "LIMIT 10;\n",
    "'''\n",
    "\n",
    "sample_df = pd.read_sql_query(query, con=engine) "
   ]
  },
  {
   "cell_type": "code",
   "execution_count": 5,
   "metadata": {
    "id": "ZpuZ290oDWKk",
    "outputId": "22785a0a-e2bc-4559-ec3c-4879c4b377eb"
   },
   "outputs": [
    {
     "data": {
      "text/html": [
       "<div>\n",
       "<style scoped>\n",
       "    .dataframe tbody tr th:only-of-type {\n",
       "        vertical-align: middle;\n",
       "    }\n",
       "\n",
       "    .dataframe tbody tr th {\n",
       "        vertical-align: top;\n",
       "    }\n",
       "\n",
       "    .dataframe thead th {\n",
       "        text-align: right;\n",
       "    }\n",
       "</style>\n",
       "<table border=\"1\" class=\"dataframe\">\n",
       "  <thead>\n",
       "    <tr style=\"text-align: right;\">\n",
       "      <th></th>\n",
       "      <th>id</th>\n",
       "      <th>creation_date</th>\n",
       "      <th>display_name</th>\n",
       "      <th>last_access_date</th>\n",
       "      <th>location</th>\n",
       "      <th>reputation</th>\n",
       "      <th>views</th>\n",
       "    </tr>\n",
       "  </thead>\n",
       "  <tbody>\n",
       "    <tr>\n",
       "      <th>0</th>\n",
       "      <td>1</td>\n",
       "      <td>2008-07-31 14:22:31</td>\n",
       "      <td>Jeff Atwood</td>\n",
       "      <td>2018-08-29 02:34:23</td>\n",
       "      <td>El Cerrito, CA</td>\n",
       "      <td>44300</td>\n",
       "      <td>408587</td>\n",
       "    </tr>\n",
       "    <tr>\n",
       "      <th>1</th>\n",
       "      <td>2</td>\n",
       "      <td>2008-07-31 14:22:31</td>\n",
       "      <td>Geoff Dalgas</td>\n",
       "      <td>2018-08-23 17:31:56</td>\n",
       "      <td>Corvallis, OR</td>\n",
       "      <td>3491</td>\n",
       "      <td>23966</td>\n",
       "    </tr>\n",
       "    <tr>\n",
       "      <th>2</th>\n",
       "      <td>3</td>\n",
       "      <td>2008-07-31 14:22:31</td>\n",
       "      <td>Jarrod Dixon</td>\n",
       "      <td>2018-08-30 20:56:24</td>\n",
       "      <td>Raleigh, NC, United States</td>\n",
       "      <td>13418</td>\n",
       "      <td>24396</td>\n",
       "    </tr>\n",
       "    <tr>\n",
       "      <th>3</th>\n",
       "      <td>4</td>\n",
       "      <td>2008-07-31 14:22:31</td>\n",
       "      <td>Joel Spolsky</td>\n",
       "      <td>2018-08-14 22:18:15</td>\n",
       "      <td>New York, NY</td>\n",
       "      <td>28768</td>\n",
       "      <td>73755</td>\n",
       "    </tr>\n",
       "    <tr>\n",
       "      <th>4</th>\n",
       "      <td>5</td>\n",
       "      <td>2008-07-31 14:22:31</td>\n",
       "      <td>Jon Galloway</td>\n",
       "      <td>2018-08-29 16:48:36</td>\n",
       "      <td>San Diego, CA</td>\n",
       "      <td>39172</td>\n",
       "      <td>11700</td>\n",
       "    </tr>\n",
       "    <tr>\n",
       "      <th>5</th>\n",
       "      <td>8</td>\n",
       "      <td>2008-07-31 21:33:24</td>\n",
       "      <td>Eggs McLaren</td>\n",
       "      <td>2018-04-09 02:04:56</td>\n",
       "      <td>None</td>\n",
       "      <td>942</td>\n",
       "      <td>6372</td>\n",
       "    </tr>\n",
       "    <tr>\n",
       "      <th>6</th>\n",
       "      <td>9</td>\n",
       "      <td>2008-07-31 21:35:27</td>\n",
       "      <td>Kevin Dente</td>\n",
       "      <td>2018-08-30 18:18:03</td>\n",
       "      <td>Oakland, CA</td>\n",
       "      <td>14337</td>\n",
       "      <td>4949</td>\n",
       "    </tr>\n",
       "    <tr>\n",
       "      <th>7</th>\n",
       "      <td>11</td>\n",
       "      <td>2008-08-01 00:59:11</td>\n",
       "      <td>Anonymous User</td>\n",
       "      <td>2008-08-01 00:59:11</td>\n",
       "      <td>None</td>\n",
       "      <td>1890</td>\n",
       "      <td>2123</td>\n",
       "    </tr>\n",
       "    <tr>\n",
       "      <th>8</th>\n",
       "      <td>13</td>\n",
       "      <td>2008-08-01 04:18:05</td>\n",
       "      <td>Chris Jester-Young</td>\n",
       "      <td>2018-08-30 02:47:23</td>\n",
       "      <td>Raleigh, NC, United States</td>\n",
       "      <td>177138</td>\n",
       "      <td>35414</td>\n",
       "    </tr>\n",
       "    <tr>\n",
       "      <th>9</th>\n",
       "      <td>17</td>\n",
       "      <td>2008-08-01 12:02:22</td>\n",
       "      <td>Nick Berardi</td>\n",
       "      <td>2018-01-22 01:35:38</td>\n",
       "      <td>Issaquah, WA</td>\n",
       "      <td>44443</td>\n",
       "      <td>4786</td>\n",
       "    </tr>\n",
       "  </tbody>\n",
       "</table>\n",
       "</div>"
      ],
      "text/plain": [
       "   id       creation_date        display_name    last_access_date  \\\n",
       "0   1 2008-07-31 14:22:31         Jeff Atwood 2018-08-29 02:34:23   \n",
       "1   2 2008-07-31 14:22:31        Geoff Dalgas 2018-08-23 17:31:56   \n",
       "2   3 2008-07-31 14:22:31        Jarrod Dixon 2018-08-30 20:56:24   \n",
       "3   4 2008-07-31 14:22:31        Joel Spolsky 2018-08-14 22:18:15   \n",
       "4   5 2008-07-31 14:22:31        Jon Galloway 2018-08-29 16:48:36   \n",
       "5   8 2008-07-31 21:33:24        Eggs McLaren 2018-04-09 02:04:56   \n",
       "6   9 2008-07-31 21:35:27         Kevin Dente 2018-08-30 18:18:03   \n",
       "7  11 2008-08-01 00:59:11      Anonymous User 2008-08-01 00:59:11   \n",
       "8  13 2008-08-01 04:18:05  Chris Jester-Young 2018-08-30 02:47:23   \n",
       "9  17 2008-08-01 12:02:22        Nick Berardi 2018-01-22 01:35:38   \n",
       "\n",
       "                     location  reputation   views  \n",
       "0              El Cerrito, CA       44300  408587  \n",
       "1               Corvallis, OR        3491   23966  \n",
       "2  Raleigh, NC, United States       13418   24396  \n",
       "3                New York, NY       28768   73755  \n",
       "4               San Diego, CA       39172   11700  \n",
       "5                        None         942    6372  \n",
       "6                 Oakland, CA       14337    4949  \n",
       "7                        None        1890    2123  \n",
       "8  Raleigh, NC, United States      177138   35414  \n",
       "9                Issaquah, WA       44443    4786  "
      ]
     },
     "execution_count": 5,
     "metadata": {},
     "output_type": "execute_result"
    }
   ],
   "source": [
    "sample_df"
   ]
  },
  {
   "cell_type": "markdown",
   "metadata": {
    "id": "gnBMXkDBDWKm"
   },
   "source": [
    "# Задание 1"
   ]
  },
  {
   "cell_type": "markdown",
   "metadata": {
    "id": "vHsfOrrNDWKn"
   },
   "source": [
    "Выведите общую сумму просмотров постов за каждый месяц 2008 года. Если данных за какой-либо месяц в базе нет, такой месяц можно пропустить. Результат отсортируйте по убыванию общего количества просмотров."
   ]
  },
  {
   "cell_type": "markdown",
   "metadata": {
    "id": "N5rTgGNmDWKn"
   },
   "source": [
    "| month_date  | total_views |\n",
    "| ------------- | ------------- |\n",
    "| 2008-09-01  | 452928568  |\n",
    "| 2008-10-01  | 365400138  |\n",
    "| ...         | ... |"
   ]
  },
  {
   "cell_type": "code",
   "execution_count": 6,
   "metadata": {
    "id": "eWvykcXTDWKo"
   },
   "outputs": [],
   "source": [
    "# напишите запрос\n",
    "query = '''\n",
    "SELECT DATE_TRUNC('month', creation_date)::DATE AS month_date,\n",
    "       SUM(views_count) AS total_views\n",
    "FROM stackoverflow.posts\n",
    "WHERE EXTRACT (YEAR FROM creation_date) = 2008\n",
    "GROUP BY DATE_TRUNC('month', creation_date)\n",
    "ORDER BY total_views DESC\n",
    "'''\n",
    "\n",
    "# выполните запрос\n",
    "df1 = pd.read_sql_query(query, con=engine) "
   ]
  },
  {
   "cell_type": "code",
   "execution_count": 7,
   "metadata": {
    "id": "luxSj17oDWKq",
    "scrolled": false
   },
   "outputs": [
    {
     "data": {
      "text/html": [
       "<div>\n",
       "<style scoped>\n",
       "    .dataframe tbody tr th:only-of-type {\n",
       "        vertical-align: middle;\n",
       "    }\n",
       "\n",
       "    .dataframe tbody tr th {\n",
       "        vertical-align: top;\n",
       "    }\n",
       "\n",
       "    .dataframe thead th {\n",
       "        text-align: right;\n",
       "    }\n",
       "</style>\n",
       "<table border=\"1\" class=\"dataframe\">\n",
       "  <thead>\n",
       "    <tr style=\"text-align: right;\">\n",
       "      <th></th>\n",
       "      <th>month_date</th>\n",
       "      <th>total_views</th>\n",
       "    </tr>\n",
       "  </thead>\n",
       "  <tbody>\n",
       "    <tr>\n",
       "      <th>0</th>\n",
       "      <td>2008-09-01</td>\n",
       "      <td>452928568</td>\n",
       "    </tr>\n",
       "    <tr>\n",
       "      <th>1</th>\n",
       "      <td>2008-10-01</td>\n",
       "      <td>365400138</td>\n",
       "    </tr>\n",
       "    <tr>\n",
       "      <th>2</th>\n",
       "      <td>2008-11-01</td>\n",
       "      <td>221759651</td>\n",
       "    </tr>\n",
       "    <tr>\n",
       "      <th>3</th>\n",
       "      <td>2008-12-01</td>\n",
       "      <td>197792841</td>\n",
       "    </tr>\n",
       "    <tr>\n",
       "      <th>4</th>\n",
       "      <td>2008-08-01</td>\n",
       "      <td>131367083</td>\n",
       "    </tr>\n",
       "    <tr>\n",
       "      <th>5</th>\n",
       "      <td>2008-07-01</td>\n",
       "      <td>669895</td>\n",
       "    </tr>\n",
       "  </tbody>\n",
       "</table>\n",
       "</div>"
      ],
      "text/plain": [
       "   month_date  total_views\n",
       "0  2008-09-01    452928568\n",
       "1  2008-10-01    365400138\n",
       "2  2008-11-01    221759651\n",
       "3  2008-12-01    197792841\n",
       "4  2008-08-01    131367083\n",
       "5  2008-07-01       669895"
      ]
     },
     "execution_count": 7,
     "metadata": {},
     "output_type": "execute_result"
    }
   ],
   "source": [
    "df1"
   ]
  },
  {
   "cell_type": "markdown",
   "metadata": {},
   "source": [
    "Округлим кол-во просмотров до млн. для удобства просмотра"
   ]
  },
  {
   "cell_type": "code",
   "execution_count": 8,
   "metadata": {},
   "outputs": [],
   "source": [
    "df1['total_views'] = round(df1['total_views'] / 1000000, 2) "
   ]
  },
  {
   "cell_type": "code",
   "execution_count": 9,
   "metadata": {},
   "outputs": [
    {
     "data": {
      "text/html": [
       "<div>\n",
       "<style scoped>\n",
       "    .dataframe tbody tr th:only-of-type {\n",
       "        vertical-align: middle;\n",
       "    }\n",
       "\n",
       "    .dataframe tbody tr th {\n",
       "        vertical-align: top;\n",
       "    }\n",
       "\n",
       "    .dataframe thead th {\n",
       "        text-align: right;\n",
       "    }\n",
       "</style>\n",
       "<table border=\"1\" class=\"dataframe\">\n",
       "  <thead>\n",
       "    <tr style=\"text-align: right;\">\n",
       "      <th></th>\n",
       "      <th>month_date</th>\n",
       "      <th>total_views</th>\n",
       "    </tr>\n",
       "  </thead>\n",
       "  <tbody>\n",
       "    <tr>\n",
       "      <th>0</th>\n",
       "      <td>2008-09-01</td>\n",
       "      <td>452.93</td>\n",
       "    </tr>\n",
       "    <tr>\n",
       "      <th>1</th>\n",
       "      <td>2008-10-01</td>\n",
       "      <td>365.40</td>\n",
       "    </tr>\n",
       "    <tr>\n",
       "      <th>2</th>\n",
       "      <td>2008-11-01</td>\n",
       "      <td>221.76</td>\n",
       "    </tr>\n",
       "    <tr>\n",
       "      <th>3</th>\n",
       "      <td>2008-12-01</td>\n",
       "      <td>197.79</td>\n",
       "    </tr>\n",
       "    <tr>\n",
       "      <th>4</th>\n",
       "      <td>2008-08-01</td>\n",
       "      <td>131.37</td>\n",
       "    </tr>\n",
       "    <tr>\n",
       "      <th>5</th>\n",
       "      <td>2008-07-01</td>\n",
       "      <td>0.67</td>\n",
       "    </tr>\n",
       "  </tbody>\n",
       "</table>\n",
       "</div>"
      ],
      "text/plain": [
       "   month_date  total_views\n",
       "0  2008-09-01       452.93\n",
       "1  2008-10-01       365.40\n",
       "2  2008-11-01       221.76\n",
       "3  2008-12-01       197.79\n",
       "4  2008-08-01       131.37\n",
       "5  2008-07-01         0.67"
      ]
     },
     "execution_count": 9,
     "metadata": {},
     "output_type": "execute_result"
    }
   ],
   "source": [
    "df1"
   ]
  },
  {
   "cell_type": "code",
   "execution_count": 10,
   "metadata": {
    "scrolled": false
   },
   "outputs": [
    {
     "data": {
      "image/png": "[encoded data removed]",
      "text/plain": [
       "<Figure size 720x360 with 1 Axes>"
      ]
     },
     "metadata": {
      "needs_background": "light"
     },
     "output_type": "display_data"
    }
   ],
   "source": [
    "df1.plot(x='month_date', y='total_views', figsize=(10, 5), grid=True, style='-o')\n",
    "plt.xlabel(\"Месяц\")\n",
    "plt.ylabel(\"Кол-во просмотров\")\n",
    "plt.title(\"Динамика просмотров постов по месяца\")\n",
    "plt.show()   "
   ]
  },
  {
   "cell_type": "markdown",
   "metadata": {},
   "source": [
    "***Вывод***\n",
    "* Пиковое кол-во просмотров пришлось на сентябрь месяц 452 млн. просмотров - это может быть связанно с началом учебного года и с всплеском активности студентов и школьников, далее кол-во просмотров стагнировало до 197 млн. просмотров к декабрю - это может быть связано с угасанием активности студентов и школьников и близостью новогодних каникул;\n",
    "* Так же летние месяцы являются самым популярным периодом для отпусков, в следствие чего активность сильно снижается - этот фактор мог негативно повлиять на кол-во просмотров постов."
   ]
  },
  {
   "cell_type": "markdown",
   "metadata": {
    "id": "FziIXkn5DWKr"
   },
   "source": [
    "# Задание 2"
   ]
  },
  {
   "cell_type": "markdown",
   "metadata": {
    "id": "fTGESZvYDWKr"
   },
   "source": [
    "Выведите имена самых активных пользователей, которые в первый месяц после регистрации (включая день регистрации) дали больше 100 ответов. Вопросы, которые задавали пользователи, не учитывайте. Для каждого имени пользователя выведите количество уникальных значений `user_id`. Отсортируйте результат по полю с именами в лексикографическом порядке."
   ]
  },
  {
   "cell_type": "markdown",
   "metadata": {
    "id": "W5-tv6Y3DWKs"
   },
   "source": [
    "| display_name | count |\n",
    "| ------------ | ----- |\n",
    "| 1800 INFORMATION | 1 |\n",
    "| Adam Bellaire | 1 |\n",
    "| Adam Davis | 1 |\n",
    "| ... | ... |"
   ]
  },
  {
   "cell_type": "code",
   "execution_count": 11,
   "metadata": {
    "id": "fIO-y-YjDWKt"
   },
   "outputs": [],
   "source": [
    "# напишите запрос\n",
    "query = '''\n",
    "SELECT display_name,\n",
    "       COUNT(id)\n",
    "FROM stackoverflow.users\n",
    "WHERE display_name IN \n",
    "                   (SELECT us.display_name\n",
    "                    FROM stackoverflow.users AS us\n",
    "                    JOIN stackoverflow.posts AS p ON us.id = p.user_id\n",
    "                    WHERE post_type_id IN (SELECT id\n",
    "                                           FROM stackoverflow.post_types\n",
    "                                           WHERE type = 'Answer') AND\n",
    "                          p.creation_date < us.creation_date + '30 day'\n",
    "                    GROUP BY us.display_name\n",
    "                    HAVING COUNT(p.id) > 100)\n",
    "GROUP BY display_name\n",
    "ORDER BY display_name;\n",
    "'''\n",
    "\n",
    "# выполните запрос\n",
    "df2 = pd.read_sql_query(query, con=engine) "
   ]
  },
  {
   "cell_type": "code",
   "execution_count": 12,
   "metadata": {
    "id": "CEIGGQ6ODWKy"
   },
   "outputs": [
    {
     "data": {
      "text/html": [
       "<div>\n",
       "<style scoped>\n",
       "    .dataframe tbody tr th:only-of-type {\n",
       "        vertical-align: middle;\n",
       "    }\n",
       "\n",
       "    .dataframe tbody tr th {\n",
       "        vertical-align: top;\n",
       "    }\n",
       "\n",
       "    .dataframe thead th {\n",
       "        text-align: right;\n",
       "    }\n",
       "</style>\n",
       "<table border=\"1\" class=\"dataframe\">\n",
       "  <thead>\n",
       "    <tr style=\"text-align: right;\">\n",
       "      <th></th>\n",
       "      <th>display_name</th>\n",
       "      <th>count</th>\n",
       "    </tr>\n",
       "  </thead>\n",
       "  <tbody>\n",
       "    <tr>\n",
       "      <th>0</th>\n",
       "      <td>1800 INFORMATION</td>\n",
       "      <td>1</td>\n",
       "    </tr>\n",
       "    <tr>\n",
       "      <th>1</th>\n",
       "      <td>Adam Bellaire</td>\n",
       "      <td>1</td>\n",
       "    </tr>\n",
       "    <tr>\n",
       "      <th>2</th>\n",
       "      <td>Adam Davis</td>\n",
       "      <td>1</td>\n",
       "    </tr>\n",
       "    <tr>\n",
       "      <th>3</th>\n",
       "      <td>Adam Liss</td>\n",
       "      <td>1</td>\n",
       "    </tr>\n",
       "    <tr>\n",
       "      <th>4</th>\n",
       "      <td>Alan</td>\n",
       "      <td>11</td>\n",
       "    </tr>\n",
       "    <tr>\n",
       "      <th>5</th>\n",
       "      <td>Amy B</td>\n",
       "      <td>1</td>\n",
       "    </tr>\n",
       "    <tr>\n",
       "      <th>6</th>\n",
       "      <td>Ben Hoffstein</td>\n",
       "      <td>1</td>\n",
       "    </tr>\n",
       "    <tr>\n",
       "      <th>7</th>\n",
       "      <td>Brian</td>\n",
       "      <td>27</td>\n",
       "    </tr>\n",
       "    <tr>\n",
       "      <th>8</th>\n",
       "      <td>Cade Roux</td>\n",
       "      <td>1</td>\n",
       "    </tr>\n",
       "    <tr>\n",
       "      <th>9</th>\n",
       "      <td>CesarB</td>\n",
       "      <td>1</td>\n",
       "    </tr>\n",
       "  </tbody>\n",
       "</table>\n",
       "</div>"
      ],
      "text/plain": [
       "       display_name  count\n",
       "0  1800 INFORMATION      1\n",
       "1     Adam Bellaire      1\n",
       "2        Adam Davis      1\n",
       "3         Adam Liss      1\n",
       "4              Alan     11\n",
       "5             Amy B      1\n",
       "6     Ben Hoffstein      1\n",
       "7             Brian     27\n",
       "8         Cade Roux      1\n",
       "9            CesarB      1"
      ]
     },
     "execution_count": 12,
     "metadata": {},
     "output_type": "execute_result"
    }
   ],
   "source": [
    "df2.head(10)"
   ]
  },
  {
   "cell_type": "markdown",
   "metadata": {},
   "source": [
    "***Вывод***\n",
    "\n",
    "* Некоторые имена пользователей повторяются многократно, возможны следующие причины данных аномалий: разные пользователи регистрируются под одним и тем же именем (например имя Brain), один и тот же пользователь зарегистрировался несколько раз."
   ]
  },
  {
   "cell_type": "markdown",
   "metadata": {
    "id": "JhM2xXj5DWKu"
   },
   "source": [
    "# Задание 3"
   ]
  },
  {
   "cell_type": "markdown",
   "metadata": {
    "id": "IS6xPqyyDWKu"
   },
   "source": [
    "Выведите количество постов за 2008 год по месяцам. Отберите посты от пользователей, которые зарегистрировались в сентябре 2008 года и сделали хотя бы один пост в декабре того же года. Отсортируйте таблицу по значению месяца по убыванию."
   ]
  },
  {
   "cell_type": "markdown",
   "metadata": {
    "id": "WmjhjV2xDWKv"
   },
   "source": [
    "| month | count |\n",
    "| ------|------ |\n",
    "| 2008-12-01 | 17641 |\n",
    "| 2008-11-01 | 18294 |\n",
    "| ... | ... |"
   ]
  },
  {
   "cell_type": "code",
   "execution_count": 13,
   "metadata": {
    "id": "kVu0FB8WDWKv"
   },
   "outputs": [],
   "source": [
    "# напишите запрос\n",
    "query = '''\n",
    "SELECT DATE_TRUNC('month', creation_date)::DATE AS month,\n",
    "       COUNT(id)\n",
    "FROM stackoverflow.posts\n",
    "WHERE user_id IN (SELECT DISTINCT us.id\n",
    "                  FROM stackoverflow.users AS us\n",
    "                  JOIN stackoverflow.posts AS p ON us.id = p.user_id\n",
    "                  WHERE DATE_TRUNC('month', us.creation_date) = '2008-09-01' AND\n",
    "                        DATE_TRUNC('month', p.creation_date) = '2008-12-01')\n",
    "GROUP BY month\n",
    "ORDER BY month DESC\n",
    "'''\n",
    "\n",
    "# выполните запрос\n",
    "df3 = pd.read_sql_query(query, con=engine)"
   ]
  },
  {
   "cell_type": "code",
   "execution_count": 14,
   "metadata": {
    "id": "MMVIz4yMlKpN"
   },
   "outputs": [
    {
     "data": {
      "text/html": [
       "<div>\n",
       "<style scoped>\n",
       "    .dataframe tbody tr th:only-of-type {\n",
       "        vertical-align: middle;\n",
       "    }\n",
       "\n",
       "    .dataframe tbody tr th {\n",
       "        vertical-align: top;\n",
       "    }\n",
       "\n",
       "    .dataframe thead th {\n",
       "        text-align: right;\n",
       "    }\n",
       "</style>\n",
       "<table border=\"1\" class=\"dataframe\">\n",
       "  <thead>\n",
       "    <tr style=\"text-align: right;\">\n",
       "      <th></th>\n",
       "      <th>month</th>\n",
       "      <th>count</th>\n",
       "    </tr>\n",
       "  </thead>\n",
       "  <tbody>\n",
       "    <tr>\n",
       "      <th>0</th>\n",
       "      <td>2008-12-01</td>\n",
       "      <td>17641</td>\n",
       "    </tr>\n",
       "    <tr>\n",
       "      <th>1</th>\n",
       "      <td>2008-11-01</td>\n",
       "      <td>18294</td>\n",
       "    </tr>\n",
       "    <tr>\n",
       "      <th>2</th>\n",
       "      <td>2008-10-01</td>\n",
       "      <td>27171</td>\n",
       "    </tr>\n",
       "    <tr>\n",
       "      <th>3</th>\n",
       "      <td>2008-09-01</td>\n",
       "      <td>24870</td>\n",
       "    </tr>\n",
       "    <tr>\n",
       "      <th>4</th>\n",
       "      <td>2008-08-01</td>\n",
       "      <td>32</td>\n",
       "    </tr>\n",
       "  </tbody>\n",
       "</table>\n",
       "</div>"
      ],
      "text/plain": [
       "        month  count\n",
       "0  2008-12-01  17641\n",
       "1  2008-11-01  18294\n",
       "2  2008-10-01  27171\n",
       "3  2008-09-01  24870\n",
       "4  2008-08-01     32"
      ]
     },
     "execution_count": 14,
     "metadata": {},
     "output_type": "execute_result"
    }
   ],
   "source": [
    "df3"
   ]
  },
  {
   "cell_type": "code",
   "execution_count": 15,
   "metadata": {
    "scrolled": false
   },
   "outputs": [
    {
     "data": {
      "image/png": "[encoded data removed]",
      "text/plain": [
       "<Figure size 720x360 with 1 Axes>"
      ]
     },
     "metadata": {
      "needs_background": "light"
     },
     "output_type": "display_data"
    }
   ],
   "source": [
    "df3.plot(x='month', y='count', figsize=(10, 5), grid=True, style='-o', kind='bar')\n",
    "plt.xlabel(\"Месяц\")\n",
    "plt.ylabel(\"Кол-во постов\")\n",
    "plt.title(\"Кол-во постов по месяцам\")\n",
    "plt.show()   "
   ]
  },
  {
   "cell_type": "markdown",
   "metadata": {},
   "source": [
    "***Выводы***\n",
    "\n",
    "* Обнаружена анамолия: существует 32 поста за август месяц, хотя пользователи отобраны с регистрацией в сентябре месяцы;\n",
    "* Наибольшую активность пользователи проявляют в первые два месяца, после регистрации, потом идёт спад активности."
   ]
  },
  {
   "cell_type": "markdown",
   "metadata": {
    "id": "5Pcizm0DDWKz"
   },
   "source": [
    "# Задание 4"
   ]
  },
  {
   "cell_type": "markdown",
   "metadata": {
    "id": "KUZPF6vHDWKz"
   },
   "source": [
    "Используя данные о постах, выведите несколько полей:\n",
    "\n",
    "- идентификатор пользователя, который написал пост;\n",
    "- дата создания поста;\n",
    "- количество просмотров у текущего поста;\n",
    "- сумму просмотров постов автора с накоплением.\n",
    "\n",
    "Данные в таблице должны быть отсортированы по возрастанию идентификаторов пользователей, а данные об одном и том же пользователе — по возрастанию даты создания поста."
   ]
  },
  {
   "cell_type": "markdown",
   "metadata": {
    "id": "ZpsTUVDYDWK0"
   },
   "source": [
    "| user_id | creation_date | views_count | cumulative_count |\n",
    "| ------ | -------------- | ----------- | ---------------- |\n",
    "| 1 | 2008-07-31 23:41:00  | 480476   | 480476  |\n",
    "| 1 | 2008-07-31 23:55:38  | 136033 | 616509  | \n",
    "| 1 | 2008-07-31 23:56:41  | 0 |  616509  |\n",
    "| ... | ... | ... | ... |\n",
    "| 2 | 2008-07-31 23:56:41 | 79087  | 79087 |\n",
    "| 2 | 2008-08-01 05:09:56 | 65443 | 144530 |\n",
    "| ... | ...  | ...  | ...  |"
   ]
  },
  {
   "cell_type": "code",
   "execution_count": 16,
   "metadata": {
    "id": "hDoJhMzfDWK0"
   },
   "outputs": [],
   "source": [
    "# напишите запрос\n",
    "query = '''\n",
    "SELECT us.id,\n",
    "       p.creation_date,\n",
    "       p.views_count,\n",
    "       SUM(p.views_count) OVER(PARTITION BY us.id ORDER BY p.creation_date)\n",
    "FROM stackoverflow.users AS us\n",
    "JOIN stackoverflow.posts AS p ON us.id = p.user_id\n",
    "ORDER BY us.id\n",
    "'''\n",
    "\n",
    "# выполните запрос\n",
    "df4 = pd.read_sql_query(query, con=engine)"
   ]
  },
  {
   "cell_type": "code",
   "execution_count": 17,
   "metadata": {},
   "outputs": [
    {
     "data": {
      "text/html": [
       "<div>\n",
       "<style scoped>\n",
       "    .dataframe tbody tr th:only-of-type {\n",
       "        vertical-align: middle;\n",
       "    }\n",
       "\n",
       "    .dataframe tbody tr th {\n",
       "        vertical-align: top;\n",
       "    }\n",
       "\n",
       "    .dataframe thead th {\n",
       "        text-align: right;\n",
       "    }\n",
       "</style>\n",
       "<table border=\"1\" class=\"dataframe\">\n",
       "  <thead>\n",
       "    <tr style=\"text-align: right;\">\n",
       "      <th></th>\n",
       "      <th>id</th>\n",
       "      <th>creation_date</th>\n",
       "      <th>views_count</th>\n",
       "      <th>sum</th>\n",
       "    </tr>\n",
       "  </thead>\n",
       "  <tbody>\n",
       "    <tr>\n",
       "      <th>0</th>\n",
       "      <td>1</td>\n",
       "      <td>2008-07-31 23:41:00</td>\n",
       "      <td>480476</td>\n",
       "      <td>480476</td>\n",
       "    </tr>\n",
       "    <tr>\n",
       "      <th>1</th>\n",
       "      <td>1</td>\n",
       "      <td>2008-07-31 23:55:38</td>\n",
       "      <td>136033</td>\n",
       "      <td>616509</td>\n",
       "    </tr>\n",
       "    <tr>\n",
       "      <th>2</th>\n",
       "      <td>1</td>\n",
       "      <td>2008-07-31 23:56:41</td>\n",
       "      <td>0</td>\n",
       "      <td>616509</td>\n",
       "    </tr>\n",
       "    <tr>\n",
       "      <th>3</th>\n",
       "      <td>1</td>\n",
       "      <td>2008-08-04 02:45:08</td>\n",
       "      <td>0</td>\n",
       "      <td>616509</td>\n",
       "    </tr>\n",
       "    <tr>\n",
       "      <th>4</th>\n",
       "      <td>1</td>\n",
       "      <td>2008-08-04 04:31:03</td>\n",
       "      <td>0</td>\n",
       "      <td>616509</td>\n",
       "    </tr>\n",
       "    <tr>\n",
       "      <th>...</th>\n",
       "      <td>...</td>\n",
       "      <td>...</td>\n",
       "      <td>...</td>\n",
       "      <td>...</td>\n",
       "    </tr>\n",
       "    <tr>\n",
       "      <th>243791</th>\n",
       "      <td>5696608</td>\n",
       "      <td>2008-12-23 16:00:37</td>\n",
       "      <td>0</td>\n",
       "      <td>2804</td>\n",
       "    </tr>\n",
       "    <tr>\n",
       "      <th>243792</th>\n",
       "      <td>5696608</td>\n",
       "      <td>2008-12-23 17:35:09</td>\n",
       "      <td>0</td>\n",
       "      <td>2804</td>\n",
       "    </tr>\n",
       "    <tr>\n",
       "      <th>243793</th>\n",
       "      <td>5696608</td>\n",
       "      <td>2008-12-24 01:02:48</td>\n",
       "      <td>0</td>\n",
       "      <td>2804</td>\n",
       "    </tr>\n",
       "    <tr>\n",
       "      <th>243794</th>\n",
       "      <td>5696608</td>\n",
       "      <td>2008-12-30 14:34:45</td>\n",
       "      <td>0</td>\n",
       "      <td>2804</td>\n",
       "    </tr>\n",
       "    <tr>\n",
       "      <th>243795</th>\n",
       "      <td>5696608</td>\n",
       "      <td>2008-12-30 16:32:12</td>\n",
       "      <td>0</td>\n",
       "      <td>2804</td>\n",
       "    </tr>\n",
       "  </tbody>\n",
       "</table>\n",
       "<p>243796 rows × 4 columns</p>\n",
       "</div>"
      ],
      "text/plain": [
       "             id       creation_date  views_count     sum\n",
       "0             1 2008-07-31 23:41:00       480476  480476\n",
       "1             1 2008-07-31 23:55:38       136033  616509\n",
       "2             1 2008-07-31 23:56:41            0  616509\n",
       "3             1 2008-08-04 02:45:08            0  616509\n",
       "4             1 2008-08-04 04:31:03            0  616509\n",
       "...         ...                 ...          ...     ...\n",
       "243791  5696608 2008-12-23 16:00:37            0    2804\n",
       "243792  5696608 2008-12-23 17:35:09            0    2804\n",
       "243793  5696608 2008-12-24 01:02:48            0    2804\n",
       "243794  5696608 2008-12-30 14:34:45            0    2804\n",
       "243795  5696608 2008-12-30 16:32:12            0    2804\n",
       "\n",
       "[243796 rows x 4 columns]"
      ]
     },
     "execution_count": 17,
     "metadata": {},
     "output_type": "execute_result"
    }
   ],
   "source": [
    "df4"
   ]
  },
  {
   "cell_type": "markdown",
   "metadata": {
    "id": "N0kHRHvIDWK2"
   },
   "source": [
    "# Задание 5"
   ]
  },
  {
   "cell_type": "markdown",
   "metadata": {
    "id": "gBgvmPtODWK2"
   },
   "source": [
    "Найдите среднее количество постов пользователей в день за август 2008 года. Отберите данные о пользователях, которые опубликовали больше 120 постов за август. Дни без публикаций не учитывайте. \n",
    "\n",
    "Отсортируйте результат по возрастанию среднего количества постов. Значения можно не округлять."
   ]
  },
  {
   "cell_type": "markdown",
   "metadata": {
    "id": "nfzR08BODWK3"
   },
   "source": [
    "| user_id | avg_daily |\n",
    "| ------- | --------- |\n",
    "| 116     | 4.777778  |\n",
    "| 234     | 5.208333  |\n",
    "| ...     | ... |"
   ]
  },
  {
   "cell_type": "code",
   "execution_count": 18,
   "metadata": {
    "id": "YFyPNz5GDWK3"
   },
   "outputs": [],
   "source": [
    "# напишите запрос\n",
    "query = '''\n",
    "SELECT us.id,\n",
    "       COUNT(p.id) / COUNT(DISTINCT DATE_TRUNC('day', p.creation_date))::FLOAT AS avg_daily\n",
    "FROM stackoverflow.users AS us\n",
    "JOIN stackoverflow.posts AS p ON us.id = p.user_id\n",
    "WHERE DATE_TRUNC('day', p.creation_date) IN (SELECT DATE_TRUNC('day', creation_date)::DATE\n",
    "                                             FROM stackoverflow.posts\n",
    "                                             WHERE DATE_TRUNC('month', creation_date) = '2008-08-01'\n",
    "                                             GROUP BY DATE_TRUNC('day', creation_date)\n",
    "                                             HAVING COUNT(id) != 0)\n",
    "GROUP BY us.id\n",
    "HAVING COUNT(p.id) > 120\n",
    "ORDER BY avg_daily\n",
    "'''\n",
    "\n",
    "# выполните запрос\n",
    "df5 = pd.read_sql_query(query, con=engine)"
   ]
  },
  {
   "cell_type": "code",
   "execution_count": 19,
   "metadata": {},
   "outputs": [
    {
     "data": {
      "text/html": [
       "<div>\n",
       "<style scoped>\n",
       "    .dataframe tbody tr th:only-of-type {\n",
       "        vertical-align: middle;\n",
       "    }\n",
       "\n",
       "    .dataframe tbody tr th {\n",
       "        vertical-align: top;\n",
       "    }\n",
       "\n",
       "    .dataframe thead th {\n",
       "        text-align: right;\n",
       "    }\n",
       "</style>\n",
       "<table border=\"1\" class=\"dataframe\">\n",
       "  <thead>\n",
       "    <tr style=\"text-align: right;\">\n",
       "      <th></th>\n",
       "      <th>id</th>\n",
       "      <th>avg_daily</th>\n",
       "    </tr>\n",
       "  </thead>\n",
       "  <tbody>\n",
       "    <tr>\n",
       "      <th>0</th>\n",
       "      <td>116</td>\n",
       "      <td>4.777778</td>\n",
       "    </tr>\n",
       "    <tr>\n",
       "      <th>1</th>\n",
       "      <td>234</td>\n",
       "      <td>5.208333</td>\n",
       "    </tr>\n",
       "    <tr>\n",
       "      <th>2</th>\n",
       "      <td>91</td>\n",
       "      <td>5.681818</td>\n",
       "    </tr>\n",
       "    <tr>\n",
       "      <th>3</th>\n",
       "      <td>905</td>\n",
       "      <td>7.000000</td>\n",
       "    </tr>\n",
       "    <tr>\n",
       "      <th>4</th>\n",
       "      <td>383</td>\n",
       "      <td>7.277778</td>\n",
       "    </tr>\n",
       "  </tbody>\n",
       "</table>\n",
       "</div>"
      ],
      "text/plain": [
       "    id  avg_daily\n",
       "0  116   4.777778\n",
       "1  234   5.208333\n",
       "2   91   5.681818\n",
       "3  905   7.000000\n",
       "4  383   7.277778"
      ]
     },
     "execution_count": 19,
     "metadata": {},
     "output_type": "execute_result"
    }
   ],
   "source": [
    "df5"
   ]
  },
  {
   "cell_type": "markdown",
   "metadata": {
    "id": "EQ0dcFH4DWK5"
   },
   "source": [
    "# Задание 6"
   ]
  },
  {
   "cell_type": "markdown",
   "metadata": {
    "id": "c7flfg_hDWK5"
   },
   "source": [
    "Сколько в среднем дней в период с 1 по 7 декабря 2008 года пользователи взаимодействовали с платформой? Для каждого пользователя отберите дни, в которые он или она опубликовали хотя бы один пост. Нужно получить одно целое число — не забудьте округлить результат. "
   ]
  },
  {
   "cell_type": "markdown",
   "metadata": {
    "id": "RC1Ibzm9DWK6"
   },
   "source": [
    "| result |\n",
    "| -----  |\n",
    "| <целое число> |"
   ]
  },
  {
   "cell_type": "code",
   "execution_count": 20,
   "metadata": {
    "id": "kZ7LXTr6DWK6"
   },
   "outputs": [],
   "source": [
    "# напишите запрос\n",
    "query = '''\n",
    "SELECT ROUND(COUNT(id)/COUNT(DISTINCT id)::FLOAT)     \n",
    "FROM (SELECT us.id AS id,\n",
    "             DATE_TRUNC('day', p.creation_date)::DATE,\n",
    "             COUNT(p.id) AS count_post\n",
    "      FROM stackoverflow.users AS us\n",
    "      JOIN stackoverflow.posts AS p ON us.id = p.user_id\n",
    "      WHERE DATE_TRUNC('day', p.creation_date) BETWEEN '2008-12-01' AND '2008-12-07'\n",
    "      GROUP BY us.id, DATE_TRUNC('day', p.creation_date)\n",
    "      HAVING COUNT(p.id) != 0) AS interaction\n",
    "'''\n",
    "# выполните запрос\n",
    "df6 = pd.read_sql_query(query, con=engine)"
   ]
  },
  {
   "cell_type": "code",
   "execution_count": 21,
   "metadata": {
    "id": "LfUuYz-1DWK8"
   },
   "outputs": [
    {
     "data": {
      "text/html": [
       "<div>\n",
       "<style scoped>\n",
       "    .dataframe tbody tr th:only-of-type {\n",
       "        vertical-align: middle;\n",
       "    }\n",
       "\n",
       "    .dataframe tbody tr th {\n",
       "        vertical-align: top;\n",
       "    }\n",
       "\n",
       "    .dataframe thead th {\n",
       "        text-align: right;\n",
       "    }\n",
       "</style>\n",
       "<table border=\"1\" class=\"dataframe\">\n",
       "  <thead>\n",
       "    <tr style=\"text-align: right;\">\n",
       "      <th></th>\n",
       "      <th>round</th>\n",
       "    </tr>\n",
       "  </thead>\n",
       "  <tbody>\n",
       "    <tr>\n",
       "      <th>0</th>\n",
       "      <td>2.0</td>\n",
       "    </tr>\n",
       "  </tbody>\n",
       "</table>\n",
       "</div>"
      ],
      "text/plain": [
       "   round\n",
       "0    2.0"
      ]
     },
     "execution_count": 21,
     "metadata": {},
     "output_type": "execute_result"
    }
   ],
   "source": [
    "# напишите ваш ответ здесь\n",
    "df6"
   ]
  },
  {
   "cell_type": "markdown",
   "metadata": {},
   "source": [
    "***Вывод***\n",
    "* В среднем пользователи взаимодействовали с платформой два дня в период с 1 по 7 декабря 2008 года."
   ]
  },
  {
   "cell_type": "markdown",
   "metadata": {
    "id": "wfOmqmfLDWK8"
   },
   "source": [
    "# Задание 7"
   ]
  },
  {
   "cell_type": "markdown",
   "metadata": {
    "id": "X4ARQimADWK9"
   },
   "source": [
    "Выведите историю активности каждого пользователя в таком виде: идентификатор пользователя, дата публикации поста. Отсортируйте вывод по возрастанию идентификаторов пользователей, а для каждого пользователя — по возрастанию даты публикации.\n",
    "\n",
    "Добавьте в таблицу новое поле: для каждого поста в нём будет указано название месяца предпоследней публикации пользователя относительно текущей. Если такой публикации нет, укажите `NULL`.  Python автоматически поменяет `NULL` на `None`, но дополнительно преобразовывать значения `None` вам не нужно.\n",
    "\n",
    "Посмотрите внимательно на образец таблицы: для первых двух постов предпоследней публикации нет, но, начиная с третьего поста, в новое поле входит нужный месяц. Для следующего пользователя в первые две записи поля `second_last_month` тоже войдёт `NULL`."
   ]
  },
  {
   "cell_type": "markdown",
   "metadata": {
    "id": "IGPjRP01DWK9"
   },
   "source": [
    "| user_id | creation_date | second_last_month |\n",
    "| ------- | ------------- | ----------------- |\n",
    "| 1       | 2008-07-31 23:41:00 | None |\n",
    "| 1       | 2008-07-31 23:55:38 | None |\n",
    "| 1       | 2008-07-31 23:56:41 | July |\n",
    "| 1       | 2008-08-04 02:45:08 | July |\n",
    "| 1       | 2008-08-04 04:31:03 | July |\n",
    "| 1       | 2008-08-04 08:04:42 | August |\n",
    "| ... | ... | ... |"
   ]
  },
  {
   "cell_type": "code",
   "execution_count": 22,
   "metadata": {
    "id": "HzI1vhaMDWK-"
   },
   "outputs": [],
   "source": [
    "# напишите запрос\n",
    "query = '''\n",
    "SELECT us.id AS id,\n",
    "       p.creation_date,\n",
    "       LAG(TO_CHAR(p.creation_date, 'month'), 2) OVER(PARTITION BY us.id ORDER BY p.creation_date)\n",
    "FROM stackoverflow.users AS us\n",
    "JOIN stackoverflow.posts AS p ON us.id = p.user_id\n",
    "'''\n",
    "\n",
    "# выполните запрос\n",
    "df7 = pd.read_sql_query(query, con=engine)"
   ]
  },
  {
   "cell_type": "code",
   "execution_count": 23,
   "metadata": {},
   "outputs": [
    {
     "data": {
      "text/html": [
       "<div>\n",
       "<style scoped>\n",
       "    .dataframe tbody tr th:only-of-type {\n",
       "        vertical-align: middle;\n",
       "    }\n",
       "\n",
       "    .dataframe tbody tr th {\n",
       "        vertical-align: top;\n",
       "    }\n",
       "\n",
       "    .dataframe thead th {\n",
       "        text-align: right;\n",
       "    }\n",
       "</style>\n",
       "<table border=\"1\" class=\"dataframe\">\n",
       "  <thead>\n",
       "    <tr style=\"text-align: right;\">\n",
       "      <th></th>\n",
       "      <th>id</th>\n",
       "      <th>creation_date</th>\n",
       "      <th>lag</th>\n",
       "    </tr>\n",
       "  </thead>\n",
       "  <tbody>\n",
       "    <tr>\n",
       "      <th>0</th>\n",
       "      <td>1</td>\n",
       "      <td>2008-07-31 23:41:00</td>\n",
       "      <td>None</td>\n",
       "    </tr>\n",
       "    <tr>\n",
       "      <th>1</th>\n",
       "      <td>1</td>\n",
       "      <td>2008-07-31 23:55:38</td>\n",
       "      <td>None</td>\n",
       "    </tr>\n",
       "    <tr>\n",
       "      <th>2</th>\n",
       "      <td>1</td>\n",
       "      <td>2008-07-31 23:56:41</td>\n",
       "      <td>july</td>\n",
       "    </tr>\n",
       "    <tr>\n",
       "      <th>3</th>\n",
       "      <td>1</td>\n",
       "      <td>2008-08-04 02:45:08</td>\n",
       "      <td>july</td>\n",
       "    </tr>\n",
       "    <tr>\n",
       "      <th>4</th>\n",
       "      <td>1</td>\n",
       "      <td>2008-08-04 04:31:03</td>\n",
       "      <td>july</td>\n",
       "    </tr>\n",
       "    <tr>\n",
       "      <th>5</th>\n",
       "      <td>1</td>\n",
       "      <td>2008-08-04 08:04:42</td>\n",
       "      <td>august</td>\n",
       "    </tr>\n",
       "    <tr>\n",
       "      <th>6</th>\n",
       "      <td>1</td>\n",
       "      <td>2008-08-10 08:28:52</td>\n",
       "      <td>august</td>\n",
       "    </tr>\n",
       "    <tr>\n",
       "      <th>7</th>\n",
       "      <td>1</td>\n",
       "      <td>2008-08-11 19:23:47</td>\n",
       "      <td>august</td>\n",
       "    </tr>\n",
       "    <tr>\n",
       "      <th>8</th>\n",
       "      <td>1</td>\n",
       "      <td>2008-08-12 00:30:43</td>\n",
       "      <td>august</td>\n",
       "    </tr>\n",
       "    <tr>\n",
       "      <th>9</th>\n",
       "      <td>1</td>\n",
       "      <td>2008-08-12 04:59:35</td>\n",
       "      <td>august</td>\n",
       "    </tr>\n",
       "  </tbody>\n",
       "</table>\n",
       "</div>"
      ],
      "text/plain": [
       "   id       creation_date        lag\n",
       "0   1 2008-07-31 23:41:00       None\n",
       "1   1 2008-07-31 23:55:38       None\n",
       "2   1 2008-07-31 23:56:41  july     \n",
       "3   1 2008-08-04 02:45:08  july     \n",
       "4   1 2008-08-04 04:31:03  july     \n",
       "5   1 2008-08-04 08:04:42  august   \n",
       "6   1 2008-08-10 08:28:52  august   \n",
       "7   1 2008-08-11 19:23:47  august   \n",
       "8   1 2008-08-12 00:30:43  august   \n",
       "9   1 2008-08-12 04:59:35  august   "
      ]
     },
     "execution_count": 23,
     "metadata": {},
     "output_type": "execute_result"
    }
   ],
   "source": [
    "df7.head(10)"
   ]
  },
  {
   "cell_type": "markdown",
   "metadata": {
    "id": "tf9qq2yzDWK_"
   },
   "source": [
    "# Задание 8"
   ]
  },
  {
   "cell_type": "markdown",
   "metadata": {
    "id": "gfwLVXBYDWLA"
   },
   "source": [
    "Рассчитайте аналог Retention Rate по месяцам для пользователей StackOverflow. Объедините пользователей в когорты по месяцу их первого поста. Возвращение определяйте по наличию поста в текущем месяце. "
   ]
  },
  {
   "cell_type": "markdown",
   "metadata": {
    "id": "kN2ic39WlKpl"
   },
   "source": [
    "| cohort_dt | session_date | users_cnt | cohort_users_cnt | retention_rate |\n",
    "| --- | --- | --- | --- | --- |\n",
    "| 2008-07-01 00:00:00 | 2008-07-01 00:00:00 | 3 | 3 | 100 |\n",
    "| 2008-07-01 00:00:00 | 2008-08-01 00:00:00 | 2 | 3 | 66,67 |\n",
    "| 2008-07-01 00:00:00 | 2008-09-01 00:00:00 | 1 | 3 | 33,33 |\n",
    "| 2008-07-01 00:00:00 | 2008-10-01 00:00:00 | 2 | 3 | 66,67 |\n",
    "| 2008-07-01 00:00:00 | 2008-11-01 00:00:00 | 1 | 3 | 33,33 |\n",
    "| 2008-07-01 00:00:00 | 2008-12-01 00:00:00 | 2 | 3 | 66,67 |\n",
    "| 2008-08-01 00:00:00 | 2008-08-01 00:00:00 | 2151 | 2151 | 100 |\n",
    "| ... | ... | ... | ... | ... |"
   ]
  },
  {
   "cell_type": "code",
   "execution_count": 24,
   "metadata": {
    "id": "LUgFmwmTDWLB"
   },
   "outputs": [],
   "source": [
    "# напишите запрос\n",
    "query = '''\n",
    "WITH profile AS\n",
    "  (SELECT user_id,\n",
    "          DATE_TRUNC('month', start_dt) AS dt,\n",
    "          COUNT(*) OVER (PARTITION BY DATE_TRUNC('month', start_dt)) AS cohort_users_cnt\n",
    "   FROM \n",
    "     (SELECT user_id,\n",
    "             MIN(creation_date) OVER (PARTITION BY user_id) AS start_dt\n",
    "      FROM stackoverflow.posts) AS T\n",
    "   GROUP BY user_id,\n",
    "            dt),\n",
    "sessions AS\n",
    "  (SELECT DISTINCT user_id,\n",
    "          DATE_TRUNC('month', creation_date) AS session_date\n",
    "   FROM stackoverflow.posts)\n",
    "SELECT p.dt AS cohort_dt,\n",
    "       s.session_date,\n",
    "       COUNT(p.user_id) AS users_cnt,\n",
    "       p.cohort_users_cnt,\n",
    "       ROUND(COUNT(p.user_id) * 100.0 / p.cohort_users_cnt, 2) AS retention_rate\n",
    "FROM profile p\n",
    "JOIN sessions s ON p.user_id = s.user_id\n",
    "GROUP BY 1,\n",
    "         2,\n",
    "         4;\n",
    "'''\n",
    "\n",
    "# выполните запрос\n",
    "df8 = pd.read_sql_query(query, con=engine)"
   ]
  },
  {
   "cell_type": "code",
   "execution_count": 25,
   "metadata": {
    "scrolled": true
   },
   "outputs": [
    {
     "data": {
      "text/html": [
       "<div>\n",
       "<style scoped>\n",
       "    .dataframe tbody tr th:only-of-type {\n",
       "        vertical-align: middle;\n",
       "    }\n",
       "\n",
       "    .dataframe tbody tr th {\n",
       "        vertical-align: top;\n",
       "    }\n",
       "\n",
       "    .dataframe thead th {\n",
       "        text-align: right;\n",
       "    }\n",
       "</style>\n",
       "<table border=\"1\" class=\"dataframe\">\n",
       "  <thead>\n",
       "    <tr style=\"text-align: right;\">\n",
       "      <th></th>\n",
       "      <th>cohort_dt</th>\n",
       "      <th>session_date</th>\n",
       "      <th>users_cnt</th>\n",
       "      <th>cohort_users_cnt</th>\n",
       "      <th>retention_rate</th>\n",
       "    </tr>\n",
       "  </thead>\n",
       "  <tbody>\n",
       "    <tr>\n",
       "      <th>0</th>\n",
       "      <td>2008-07-01</td>\n",
       "      <td>2008-07-01</td>\n",
       "      <td>3</td>\n",
       "      <td>3</td>\n",
       "      <td>100.00</td>\n",
       "    </tr>\n",
       "    <tr>\n",
       "      <th>1</th>\n",
       "      <td>2008-07-01</td>\n",
       "      <td>2008-08-01</td>\n",
       "      <td>2</td>\n",
       "      <td>3</td>\n",
       "      <td>66.67</td>\n",
       "    </tr>\n",
       "    <tr>\n",
       "      <th>2</th>\n",
       "      <td>2008-07-01</td>\n",
       "      <td>2008-09-01</td>\n",
       "      <td>1</td>\n",
       "      <td>3</td>\n",
       "      <td>33.33</td>\n",
       "    </tr>\n",
       "    <tr>\n",
       "      <th>3</th>\n",
       "      <td>2008-07-01</td>\n",
       "      <td>2008-10-01</td>\n",
       "      <td>2</td>\n",
       "      <td>3</td>\n",
       "      <td>66.67</td>\n",
       "    </tr>\n",
       "    <tr>\n",
       "      <th>4</th>\n",
       "      <td>2008-07-01</td>\n",
       "      <td>2008-11-01</td>\n",
       "      <td>1</td>\n",
       "      <td>3</td>\n",
       "      <td>33.33</td>\n",
       "    </tr>\n",
       "    <tr>\n",
       "      <th>5</th>\n",
       "      <td>2008-07-01</td>\n",
       "      <td>2008-12-01</td>\n",
       "      <td>2</td>\n",
       "      <td>3</td>\n",
       "      <td>66.67</td>\n",
       "    </tr>\n",
       "    <tr>\n",
       "      <th>6</th>\n",
       "      <td>2008-08-01</td>\n",
       "      <td>2008-08-01</td>\n",
       "      <td>2151</td>\n",
       "      <td>2151</td>\n",
       "      <td>100.00</td>\n",
       "    </tr>\n",
       "    <tr>\n",
       "      <th>7</th>\n",
       "      <td>2008-08-01</td>\n",
       "      <td>2008-09-01</td>\n",
       "      <td>1571</td>\n",
       "      <td>2151</td>\n",
       "      <td>73.04</td>\n",
       "    </tr>\n",
       "    <tr>\n",
       "      <th>8</th>\n",
       "      <td>2008-08-01</td>\n",
       "      <td>2008-10-01</td>\n",
       "      <td>1275</td>\n",
       "      <td>2151</td>\n",
       "      <td>59.27</td>\n",
       "    </tr>\n",
       "    <tr>\n",
       "      <th>9</th>\n",
       "      <td>2008-08-01</td>\n",
       "      <td>2008-11-01</td>\n",
       "      <td>1050</td>\n",
       "      <td>2151</td>\n",
       "      <td>48.81</td>\n",
       "    </tr>\n",
       "    <tr>\n",
       "      <th>10</th>\n",
       "      <td>2008-08-01</td>\n",
       "      <td>2008-12-01</td>\n",
       "      <td>894</td>\n",
       "      <td>2151</td>\n",
       "      <td>41.56</td>\n",
       "    </tr>\n",
       "    <tr>\n",
       "      <th>11</th>\n",
       "      <td>2008-09-01</td>\n",
       "      <td>2008-09-01</td>\n",
       "      <td>7678</td>\n",
       "      <td>7678</td>\n",
       "      <td>100.00</td>\n",
       "    </tr>\n",
       "    <tr>\n",
       "      <th>12</th>\n",
       "      <td>2008-09-01</td>\n",
       "      <td>2008-10-01</td>\n",
       "      <td>4132</td>\n",
       "      <td>7678</td>\n",
       "      <td>53.82</td>\n",
       "    </tr>\n",
       "    <tr>\n",
       "      <th>13</th>\n",
       "      <td>2008-09-01</td>\n",
       "      <td>2008-11-01</td>\n",
       "      <td>2966</td>\n",
       "      <td>7678</td>\n",
       "      <td>38.63</td>\n",
       "    </tr>\n",
       "    <tr>\n",
       "      <th>14</th>\n",
       "      <td>2008-09-01</td>\n",
       "      <td>2008-12-01</td>\n",
       "      <td>2500</td>\n",
       "      <td>7678</td>\n",
       "      <td>32.56</td>\n",
       "    </tr>\n",
       "    <tr>\n",
       "      <th>15</th>\n",
       "      <td>2008-10-01</td>\n",
       "      <td>2008-10-01</td>\n",
       "      <td>3629</td>\n",
       "      <td>3629</td>\n",
       "      <td>100.00</td>\n",
       "    </tr>\n",
       "    <tr>\n",
       "      <th>16</th>\n",
       "      <td>2008-10-01</td>\n",
       "      <td>2008-11-01</td>\n",
       "      <td>1640</td>\n",
       "      <td>3629</td>\n",
       "      <td>45.19</td>\n",
       "    </tr>\n",
       "    <tr>\n",
       "      <th>17</th>\n",
       "      <td>2008-10-01</td>\n",
       "      <td>2008-12-01</td>\n",
       "      <td>1221</td>\n",
       "      <td>3629</td>\n",
       "      <td>33.65</td>\n",
       "    </tr>\n",
       "    <tr>\n",
       "      <th>18</th>\n",
       "      <td>2008-11-01</td>\n",
       "      <td>2008-11-01</td>\n",
       "      <td>2852</td>\n",
       "      <td>2852</td>\n",
       "      <td>100.00</td>\n",
       "    </tr>\n",
       "    <tr>\n",
       "      <th>19</th>\n",
       "      <td>2008-11-01</td>\n",
       "      <td>2008-12-01</td>\n",
       "      <td>1151</td>\n",
       "      <td>2852</td>\n",
       "      <td>40.36</td>\n",
       "    </tr>\n",
       "    <tr>\n",
       "      <th>20</th>\n",
       "      <td>2008-12-01</td>\n",
       "      <td>2008-12-01</td>\n",
       "      <td>2536</td>\n",
       "      <td>2536</td>\n",
       "      <td>100.00</td>\n",
       "    </tr>\n",
       "  </tbody>\n",
       "</table>\n",
       "</div>"
      ],
      "text/plain": [
       "    cohort_dt session_date  users_cnt  cohort_users_cnt  retention_rate\n",
       "0  2008-07-01   2008-07-01          3                 3          100.00\n",
       "1  2008-07-01   2008-08-01          2                 3           66.67\n",
       "2  2008-07-01   2008-09-01          1                 3           33.33\n",
       "3  2008-07-01   2008-10-01          2                 3           66.67\n",
       "4  2008-07-01   2008-11-01          1                 3           33.33\n",
       "5  2008-07-01   2008-12-01          2                 3           66.67\n",
       "6  2008-08-01   2008-08-01       2151              2151          100.00\n",
       "7  2008-08-01   2008-09-01       1571              2151           73.04\n",
       "8  2008-08-01   2008-10-01       1275              2151           59.27\n",
       "9  2008-08-01   2008-11-01       1050              2151           48.81\n",
       "10 2008-08-01   2008-12-01        894              2151           41.56\n",
       "11 2008-09-01   2008-09-01       7678              7678          100.00\n",
       "12 2008-09-01   2008-10-01       4132              7678           53.82\n",
       "13 2008-09-01   2008-11-01       2966              7678           38.63\n",
       "14 2008-09-01   2008-12-01       2500              7678           32.56\n",
       "15 2008-10-01   2008-10-01       3629              3629          100.00\n",
       "16 2008-10-01   2008-11-01       1640              3629           45.19\n",
       "17 2008-10-01   2008-12-01       1221              3629           33.65\n",
       "18 2008-11-01   2008-11-01       2852              2852          100.00\n",
       "19 2008-11-01   2008-12-01       1151              2852           40.36\n",
       "20 2008-12-01   2008-12-01       2536              2536          100.00"
      ]
     },
     "execution_count": 25,
     "metadata": {},
     "output_type": "execute_result"
    }
   ],
   "source": [
    "df8"
   ]
  },
  {
   "cell_type": "code",
   "execution_count": 26,
   "metadata": {
    "id": "qAEJc8H1DWLC"
   },
   "outputs": [
    {
     "data": {
      "image/png": "[encoded data removed]",
      "text/plain": [
       "<Figure size 864x864 with 2 Axes>"
      ]
     },
     "metadata": {
      "needs_background": "light"
     },
     "output_type": "display_data"
    }
   ],
   "source": [
    "# тепловая карта Retention Rate\n",
    "retention = df8.pivot('cohort_dt', 'session_date', 'retention_rate')\n",
    "retention.index = [str(x)[0:10] for x in retention.index]\n",
    "retention.columns = [str(x)[0:10] for x in retention.columns]\n",
    "\n",
    "# строим хитмэп\n",
    "plt.figure(figsize=(12, 12)) \n",
    "sns.heatmap(retention, annot=True, fmt='')\n",
    "plt.title('Тепловая карта Retention Rate')\n",
    "plt.xlabel(\"Месяц\")\n",
    "plt.ylabel(\"Когорта\")\n",
    "plt.show() "
   ]
  },
  {
   "cell_type": "markdown",
   "metadata": {
    "id": "EgOfIsI4DWLC"
   },
   "source": [
    "На первую когорту (07.2008) не обращаем внимание, так как туда попали всего трое пользователей\n",
    "\n",
    "***Выводы***\n",
    "* В сентябре произошёл резкий всплеск: 7678 пользователей написали свой первый пост, в сравнение с 2151 в августе, после сентября пошло резкое угасание: 3629 - в октябре, 2852 - в ноябре и 2536 - в декабре. Возможно в сентябре проводилась активная рекламная компания, которая привлекла много новых пользователей, а в последующие месяцы эффект от рекламной компании постепенно угасал;\n",
    "* Retention Rate падает быстрее в каждой последующей когорте, во втором месяцы у второй когорты CRR=73,04, а у пятой когорты уже всего лишь 40,36. Возможно, в начале на платформу приходили пользователи, которые сами нашли проект и были более в нём заинтересованны, а далее приходило много пользователей привлеченных благодаря рекламной компании и они менее заинтересованны в платформе. Возможно, пользователи в разные месяцы привлекались по разным каналам и канал во втором месяцы был самым удачнам по показателю Retention Rate, в этот месяц приходили наболее заинтересованный в платформе пользователи."
   ]
  },
  {
   "cell_type": "markdown",
   "metadata": {
    "id": "1k7oPWt5DWLK"
   },
   "source": [
    "# Задание 9\n"
   ]
  },
  {
   "cell_type": "markdown",
   "metadata": {
    "id": "ALsYVSyRDWLM"
   },
   "source": [
    "На сколько процентов менялось количество постов ежемесячно с 1 сентября по 31 декабря 2008 года? Отобразите таблицу со следующими полями:\n",
    "\n",
    "- номер месяца;\n",
    "- количество постов за месяц;\n",
    "- процент, который показывает, насколько изменилось количество постов в текущем месяце по сравнению с предыдущим.\n",
    "\n",
    "Если постов стало меньше, значение процента должно быть отрицательным, если больше — положительным. Округлите значение процента до двух знаков после запятой.\n",
    "\n",
    "Напомним, что при делении одного целого числа на другое в PostgreSQL в результате получится целое число, округлённое до ближайшего целого вниз. Чтобы этого избежать, переведите делимое в тип `numeric`."
   ]
  },
  {
   "cell_type": "markdown",
   "metadata": {
    "id": "u4E2zF8DDWLM"
   },
   "source": [
    "| creation_month | posts_count | percentage |\n",
    "| -------------- | ----------- | ---------- |\n",
    "| 9 | 70731 | Nan |\n",
    "| 10 | 63102 | -10.33 |\n",
    "| ... | ... | ... |"
   ]
  },
  {
   "cell_type": "code",
   "execution_count": 27,
   "metadata": {
    "id": "Mb5pShStDWLN"
   },
   "outputs": [],
   "source": [
    "# напишите запрос\n",
    "query = '''\n",
    "SELECT creation_month,\n",
    "       posts_count,\n",
    "       ROUND((posts_count - LAG(posts_count, 1) OVER ()) * 100.0 /  LAG(posts_count, 1) OVER (), 2) AS percentage\n",
    "FROM \n",
    "   (SELECT EXTRACT (MONTH FROM creation_date)::INT AS creation_month,\n",
    "           COUNT(id) AS posts_count\n",
    "    FROM stackoverflow.posts\n",
    "    WHERE DATE_TRUNC('month', creation_date) BETWEEN '2008-09-01' AND '2008-12-01'\n",
    "    GROUP BY creation_month\n",
    "    ORDER BY creation_month) AS P\n",
    "'''\n",
    "# выполните запрос\n",
    "df9 = pd.read_sql_query(query, con=engine)"
   ]
  },
  {
   "cell_type": "code",
   "execution_count": 28,
   "metadata": {},
   "outputs": [
    {
     "data": {
      "text/html": [
       "<div>\n",
       "<style scoped>\n",
       "    .dataframe tbody tr th:only-of-type {\n",
       "        vertical-align: middle;\n",
       "    }\n",
       "\n",
       "    .dataframe tbody tr th {\n",
       "        vertical-align: top;\n",
       "    }\n",
       "\n",
       "    .dataframe thead th {\n",
       "        text-align: right;\n",
       "    }\n",
       "</style>\n",
       "<table border=\"1\" class=\"dataframe\">\n",
       "  <thead>\n",
       "    <tr style=\"text-align: right;\">\n",
       "      <th></th>\n",
       "      <th>creation_month</th>\n",
       "      <th>posts_count</th>\n",
       "      <th>percentage</th>\n",
       "    </tr>\n",
       "  </thead>\n",
       "  <tbody>\n",
       "    <tr>\n",
       "      <th>0</th>\n",
       "      <td>9</td>\n",
       "      <td>70371</td>\n",
       "      <td>NaN</td>\n",
       "    </tr>\n",
       "    <tr>\n",
       "      <th>1</th>\n",
       "      <td>10</td>\n",
       "      <td>63102</td>\n",
       "      <td>-10.33</td>\n",
       "    </tr>\n",
       "    <tr>\n",
       "      <th>2</th>\n",
       "      <td>11</td>\n",
       "      <td>46975</td>\n",
       "      <td>-25.56</td>\n",
       "    </tr>\n",
       "    <tr>\n",
       "      <th>3</th>\n",
       "      <td>12</td>\n",
       "      <td>44592</td>\n",
       "      <td>-5.07</td>\n",
       "    </tr>\n",
       "  </tbody>\n",
       "</table>\n",
       "</div>"
      ],
      "text/plain": [
       "   creation_month  posts_count  percentage\n",
       "0               9        70371         NaN\n",
       "1              10        63102      -10.33\n",
       "2              11        46975      -25.56\n",
       "3              12        44592       -5.07"
      ]
     },
     "execution_count": 28,
     "metadata": {},
     "output_type": "execute_result"
    }
   ],
   "source": [
    "df9"
   ]
  },
  {
   "cell_type": "code",
   "execution_count": 29,
   "metadata": {},
   "outputs": [
    {
     "data": {
      "image/png": "[encoded data removed]",
      "text/plain": [
       "<Figure size 432x288 with 1 Axes>"
      ]
     },
     "metadata": {},
     "output_type": "display_data"
    }
   ],
   "source": [
    "# постройте круговую диаграмму с количеством постов по месяцам\n",
    "plt.pie(df9['posts_count'], labels=df9['creation_month'], autopct='%1.1f%%')\n",
    "plt.title(\"Кол-во постов по месяцам\")\n",
    "plt.show() "
   ]
  },
  {
   "cell_type": "markdown",
   "metadata": {
    "id": "uw7qMtafDWLP"
   },
   "source": [
    "# Задание 10"
   ]
  },
  {
   "cell_type": "markdown",
   "metadata": {
    "id": "oRBpWKx3DWLQ"
   },
   "source": [
    "Выгрузите данные активности пользователя, который опубликовал больше всего постов за всё время. Выведите данные за октябрь 2008 года в таком виде:\n",
    "\n",
    "- номер недели;\n",
    "- дата и время последнего поста, опубликованного на этой неделе."
   ]
  },
  {
   "cell_type": "markdown",
   "metadata": {
    "id": "XjAWSn_3DWLQ"
   },
   "source": [
    "| week_creation | creation_date |\n",
    "| ------------- | ------------- |\n",
    "| 40 | 2008-10-05 09:00:58 |\n",
    "| 41 | 2008-10-12 21:22:23 |\n",
    "| ... | ... |"
   ]
  },
  {
   "cell_type": "code",
   "execution_count": 30,
   "metadata": {
    "id": "r5F5fSkwDWLQ"
   },
   "outputs": [],
   "source": [
    "# напишите запрос\n",
    "query = '''\n",
    "SELECT DISTINCT EXTRACT(WEEK FROM creation_date)::INT AS week_creation,\n",
    "       MAX(creation_date) OVER (PARTITION BY EXTRACT(WEEK FROM creation_date))\n",
    "FROM stackoverflow.posts\n",
    "WHERE DATE_TRUNC('month', creation_date) = '2008-10-01' AND\n",
    "      user_id = (SELECT user_id\n",
    "                 FROM \n",
    "                   (SELECT user_id,\n",
    "                           COUNT(id),\n",
    "                           ROW_NUMBER() OVER(ORDER BY COUNT(id) DESC) AS rn\n",
    "                    FROM stackoverflow.posts\n",
    "                    GROUP BY user_id) AS TOP\n",
    "                 WHERE rn = 1)\n",
    "'''\n",
    "# выполните запрос\n",
    "df10 = pd.read_sql_query(query, con=engine)"
   ]
  },
  {
   "cell_type": "code",
   "execution_count": 31,
   "metadata": {},
   "outputs": [
    {
     "data": {
      "text/html": [
       "<div>\n",
       "<style scoped>\n",
       "    .dataframe tbody tr th:only-of-type {\n",
       "        vertical-align: middle;\n",
       "    }\n",
       "\n",
       "    .dataframe tbody tr th {\n",
       "        vertical-align: top;\n",
       "    }\n",
       "\n",
       "    .dataframe thead th {\n",
       "        text-align: right;\n",
       "    }\n",
       "</style>\n",
       "<table border=\"1\" class=\"dataframe\">\n",
       "  <thead>\n",
       "    <tr style=\"text-align: right;\">\n",
       "      <th></th>\n",
       "      <th>week_creation</th>\n",
       "      <th>max</th>\n",
       "    </tr>\n",
       "  </thead>\n",
       "  <tbody>\n",
       "    <tr>\n",
       "      <th>0</th>\n",
       "      <td>40</td>\n",
       "      <td>2008-10-05 09:00:58</td>\n",
       "    </tr>\n",
       "    <tr>\n",
       "      <th>1</th>\n",
       "      <td>41</td>\n",
       "      <td>2008-10-12 21:22:23</td>\n",
       "    </tr>\n",
       "    <tr>\n",
       "      <th>2</th>\n",
       "      <td>42</td>\n",
       "      <td>2008-10-19 06:49:30</td>\n",
       "    </tr>\n",
       "    <tr>\n",
       "      <th>3</th>\n",
       "      <td>43</td>\n",
       "      <td>2008-10-26 21:44:36</td>\n",
       "    </tr>\n",
       "    <tr>\n",
       "      <th>4</th>\n",
       "      <td>44</td>\n",
       "      <td>2008-10-31 22:16:01</td>\n",
       "    </tr>\n",
       "  </tbody>\n",
       "</table>\n",
       "</div>"
      ],
      "text/plain": [
       "   week_creation                 max\n",
       "0             40 2008-10-05 09:00:58\n",
       "1             41 2008-10-12 21:22:23\n",
       "2             42 2008-10-19 06:49:30\n",
       "3             43 2008-10-26 21:44:36\n",
       "4             44 2008-10-31 22:16:01"
      ]
     },
     "execution_count": 31,
     "metadata": {},
     "output_type": "execute_result"
    }
   ],
   "source": [
    "df10"
   ]
  }
 ],
 "metadata": {
  "ExecuteTimeLog": [
   {
    "duration": 7,
    "start_time": "2022-08-18T09:45:01.758Z"
   },
   {
    "duration": 944,
    "start_time": "2022-08-18T09:45:04.909Z"
   },
   {
    "duration": 10433,
    "start_time": "2022-08-18T09:45:14.703Z"
   },
   {
    "duration": 282,
    "start_time": "2022-08-18T09:46:06.405Z"
   },
   {
    "duration": 13,
    "start_time": "2022-08-18T09:46:06.846Z"
   },
   {
    "duration": 95,
    "start_time": "2022-08-18T11:20:47.331Z"
   },
   {
    "duration": 6,
    "start_time": "2022-08-18T11:21:05.578Z"
   },
   {
    "duration": 177,
    "start_time": "2022-08-18T11:23:45.746Z"
   },
   {
    "duration": 393,
    "start_time": "2022-08-18T11:25:28.127Z"
   },
   {
    "duration": 173,
    "start_time": "2022-08-18T11:25:41.363Z"
   },
   {
    "duration": 130,
    "start_time": "2022-08-18T11:25:50.411Z"
   },
   {
    "duration": 198,
    "start_time": "2022-08-18T11:26:13.361Z"
   },
   {
    "duration": 9,
    "start_time": "2022-08-18T11:26:38.191Z"
   },
   {
    "duration": 8,
    "start_time": "2022-08-18T11:26:44.202Z"
   },
   {
    "duration": 133,
    "start_time": "2022-08-18T11:27:17.900Z"
   },
   {
    "duration": 10,
    "start_time": "2022-08-18T11:29:10.998Z"
   },
   {
    "duration": 8,
    "start_time": "2022-08-18T11:29:21.844Z"
   },
   {
    "duration": 7,
    "start_time": "2022-08-18T11:29:27.439Z"
   },
   {
    "duration": 4,
    "start_time": "2022-08-18T11:29:33.371Z"
   },
   {
    "duration": 4,
    "start_time": "2022-08-18T11:29:38.923Z"
   },
   {
    "duration": 195,
    "start_time": "2022-08-18T11:29:47.123Z"
   },
   {
    "duration": 17,
    "start_time": "2022-08-18T11:30:17.872Z"
   },
   {
    "duration": 19,
    "start_time": "2022-08-18T11:30:50.583Z"
   },
   {
    "duration": 197,
    "start_time": "2022-08-18T11:35:00.409Z"
   },
   {
    "duration": 200,
    "start_time": "2022-08-18T11:37:02.861Z"
   },
   {
    "duration": 214,
    "start_time": "2022-08-18T11:40:26.304Z"
   },
   {
    "duration": 8,
    "start_time": "2022-08-18T11:42:35.758Z"
   },
   {
    "duration": 30,
    "start_time": "2022-08-18T11:42:53.136Z"
   },
   {
    "duration": 184,
    "start_time": "2022-08-18T11:42:55.328Z"
   },
   {
    "duration": 8,
    "start_time": "2022-08-18T11:43:28.668Z"
   },
   {
    "duration": 313,
    "start_time": "2022-08-18T11:45:00.768Z"
   },
   {
    "duration": 189,
    "start_time": "2022-08-18T11:45:50.357Z"
   },
   {
    "duration": 211,
    "start_time": "2022-08-18T11:46:13.910Z"
   },
   {
    "duration": 221,
    "start_time": "2022-08-18T11:49:34.627Z"
   },
   {
    "duration": 195,
    "start_time": "2022-08-18T11:50:25.420Z"
   },
   {
    "duration": 42,
    "start_time": "2022-08-19T09:14:03.240Z"
   },
   {
    "duration": 783,
    "start_time": "2022-08-19T09:14:10.039Z"
   },
   {
    "duration": 4,
    "start_time": "2022-08-19T09:14:10.824Z"
   },
   {
    "duration": 8875,
    "start_time": "2022-08-19T09:14:10.829Z"
   },
   {
    "duration": 79,
    "start_time": "2022-08-19T09:14:19.706Z"
   },
   {
    "duration": 12,
    "start_time": "2022-08-19T09:14:19.787Z"
   },
   {
    "duration": 68,
    "start_time": "2022-08-19T09:14:19.801Z"
   },
   {
    "duration": 5,
    "start_time": "2022-08-19T09:14:19.871Z"
   },
   {
    "duration": 6,
    "start_time": "2022-08-19T09:14:19.878Z"
   },
   {
    "duration": 7,
    "start_time": "2022-08-19T09:14:19.885Z"
   },
   {
    "duration": 278,
    "start_time": "2022-08-19T09:14:19.893Z"
   },
   {
    "duration": 176,
    "start_time": "2022-08-19T09:14:20.172Z"
   },
   {
    "duration": 39,
    "start_time": "2022-08-19T09:14:42.680Z"
   },
   {
    "duration": 11,
    "start_time": "2022-08-19T09:14:47.820Z"
   },
   {
    "duration": 6,
    "start_time": "2022-08-19T09:15:02.272Z"
   },
   {
    "duration": 9,
    "start_time": "2022-08-19T09:15:52.980Z"
   },
   {
    "duration": 12,
    "start_time": "2022-08-19T09:16:35.026Z"
   },
   {
    "duration": 6,
    "start_time": "2022-08-19T09:16:57.843Z"
   },
   {
    "duration": 7,
    "start_time": "2022-08-19T09:20:13.635Z"
   },
   {
    "duration": 6,
    "start_time": "2022-08-19T09:20:30.988Z"
   },
   {
    "duration": 9,
    "start_time": "2022-08-19T09:20:32.048Z"
   },
   {
    "duration": 6,
    "start_time": "2022-08-19T09:20:37.784Z"
   },
   {
    "duration": 116,
    "start_time": "2022-08-19T10:02:25.935Z"
   },
   {
    "duration": 6,
    "start_time": "2022-08-19T10:02:43.515Z"
   },
   {
    "duration": 182,
    "start_time": "2022-08-19T10:04:09.541Z"
   },
   {
    "duration": 179,
    "start_time": "2022-08-19T10:05:11.215Z"
   },
   {
    "duration": 203,
    "start_time": "2022-08-19T10:05:18.370Z"
   },
   {
    "duration": 181,
    "start_time": "2022-08-19T10:06:52.485Z"
   },
   {
    "duration": 162,
    "start_time": "2022-08-19T10:07:42.793Z"
   },
   {
    "duration": 179,
    "start_time": "2022-08-19T10:07:58.613Z"
   },
   {
    "duration": 147,
    "start_time": "2022-08-19T10:09:25.337Z"
   },
   {
    "duration": 152,
    "start_time": "2022-08-19T10:10:08.397Z"
   },
   {
    "duration": 151,
    "start_time": "2022-08-19T10:10:14.845Z"
   },
   {
    "duration": 4,
    "start_time": "2022-08-19T10:17:29.652Z"
   },
   {
    "duration": 7,
    "start_time": "2022-08-19T10:17:29.659Z"
   },
   {
    "duration": 8,
    "start_time": "2022-08-19T10:17:29.667Z"
   },
   {
    "duration": 56,
    "start_time": "2022-08-19T10:17:29.677Z"
   },
   {
    "duration": 10,
    "start_time": "2022-08-19T10:17:29.735Z"
   },
   {
    "duration": 78,
    "start_time": "2022-08-19T10:17:29.747Z"
   },
   {
    "duration": 10,
    "start_time": "2022-08-19T10:17:29.827Z"
   },
   {
    "duration": 7,
    "start_time": "2022-08-19T10:17:29.839Z"
   },
   {
    "duration": 12,
    "start_time": "2022-08-19T10:17:29.848Z"
   },
   {
    "duration": 164,
    "start_time": "2022-08-19T10:17:29.863Z"
   },
   {
    "duration": 182,
    "start_time": "2022-08-19T10:17:30.028Z"
   },
   {
    "duration": 7,
    "start_time": "2022-08-19T10:17:30.212Z"
   },
   {
    "duration": 14,
    "start_time": "2022-08-19T10:17:30.221Z"
   },
   {
    "duration": 138,
    "start_time": "2022-08-19T10:17:30.237Z"
   },
   {
    "duration": 7,
    "start_time": "2022-08-19T10:17:30.378Z"
   },
   {
    "duration": 240,
    "start_time": "2022-08-19T10:17:30.387Z"
   },
   {
    "duration": 1163,
    "start_time": "2022-08-19T11:37:05.885Z"
   },
   {
    "duration": 11,
    "start_time": "2022-08-19T11:37:18.921Z"
   },
   {
    "duration": 942,
    "start_time": "2022-08-22T07:49:29.492Z"
   },
   {
    "duration": 4,
    "start_time": "2022-08-22T07:49:30.437Z"
   },
   {
    "duration": 9718,
    "start_time": "2022-08-22T07:49:30.443Z"
   },
   {
    "duration": 104,
    "start_time": "2022-08-22T07:49:40.163Z"
   },
   {
    "duration": 16,
    "start_time": "2022-08-22T07:49:40.269Z"
   },
   {
    "duration": 72,
    "start_time": "2022-08-22T07:49:40.287Z"
   },
   {
    "duration": 6,
    "start_time": "2022-08-22T07:49:40.361Z"
   },
   {
    "duration": 8,
    "start_time": "2022-08-22T07:49:40.369Z"
   },
   {
    "duration": 9,
    "start_time": "2022-08-22T07:49:40.379Z"
   },
   {
    "duration": 347,
    "start_time": "2022-08-22T07:49:40.392Z"
   },
   {
    "duration": 170,
    "start_time": "2022-08-22T07:49:40.741Z"
   },
   {
    "duration": 7,
    "start_time": "2022-08-22T07:49:40.913Z"
   },
   {
    "duration": 8,
    "start_time": "2022-08-22T07:49:40.922Z"
   },
   {
    "duration": 112,
    "start_time": "2022-08-22T07:49:40.932Z"
   },
   {
    "duration": 7,
    "start_time": "2022-08-22T07:49:41.046Z"
   },
   {
    "duration": 171,
    "start_time": "2022-08-22T07:49:41.055Z"
   },
   {
    "duration": 1170,
    "start_time": "2022-08-22T07:49:41.228Z"
   },
   {
    "duration": 12,
    "start_time": "2022-08-22T07:49:42.400Z"
   },
   {
    "duration": 142,
    "start_time": "2022-08-22T07:49:42.414Z"
   },
   {
    "duration": 7,
    "start_time": "2022-08-22T07:49:42.557Z"
   },
   {
    "duration": 137,
    "start_time": "2022-08-22T07:55:23.625Z"
   },
   {
    "duration": 7,
    "start_time": "2022-08-22T07:55:24.026Z"
   },
   {
    "duration": 133,
    "start_time": "2022-08-22T07:55:50.967Z"
   },
   {
    "duration": 8,
    "start_time": "2022-08-22T07:55:52.508Z"
   },
   {
    "duration": 190,
    "start_time": "2022-08-22T07:56:06.274Z"
   },
   {
    "duration": 160,
    "start_time": "2022-08-22T07:56:18.363Z"
   },
   {
    "duration": 104,
    "start_time": "2022-08-22T07:56:26.594Z"
   },
   {
    "duration": 138,
    "start_time": "2022-08-22T07:56:33.498Z"
   },
   {
    "duration": 7,
    "start_time": "2022-08-22T07:56:35.518Z"
   },
   {
    "duration": 41,
    "start_time": "2022-08-22T08:37:53.256Z"
   },
   {
    "duration": 12,
    "start_time": "2022-08-22T08:37:56.786Z"
   },
   {
    "duration": 823,
    "start_time": "2022-08-22T11:38:05.213Z"
   },
   {
    "duration": 3,
    "start_time": "2022-08-22T11:38:06.038Z"
   },
   {
    "duration": 7722,
    "start_time": "2022-08-22T11:38:06.042Z"
   },
   {
    "duration": 220,
    "start_time": "2022-08-22T11:38:13.766Z"
   },
   {
    "duration": 13,
    "start_time": "2022-08-22T11:38:13.988Z"
   },
   {
    "duration": 114,
    "start_time": "2022-08-22T11:38:14.003Z"
   },
   {
    "duration": 6,
    "start_time": "2022-08-22T11:38:14.119Z"
   },
   {
    "duration": 7,
    "start_time": "2022-08-22T11:38:14.127Z"
   },
   {
    "duration": 16,
    "start_time": "2022-08-22T11:38:14.135Z"
   },
   {
    "duration": 294,
    "start_time": "2022-08-22T11:38:14.153Z"
   },
   {
    "duration": 207,
    "start_time": "2022-08-22T11:38:14.449Z"
   },
   {
    "duration": 8,
    "start_time": "2022-08-22T11:38:14.658Z"
   },
   {
    "duration": 23,
    "start_time": "2022-08-22T11:38:14.668Z"
   },
   {
    "duration": 158,
    "start_time": "2022-08-22T11:38:14.695Z"
   },
   {
    "duration": 7,
    "start_time": "2022-08-22T11:38:14.855Z"
   },
   {
    "duration": 149,
    "start_time": "2022-08-22T11:38:14.863Z"
   },
   {
    "duration": 1212,
    "start_time": "2022-08-22T11:38:15.013Z"
   },
   {
    "duration": 11,
    "start_time": "2022-08-22T11:38:16.227Z"
   },
   {
    "duration": 171,
    "start_time": "2022-08-22T11:38:16.240Z"
   },
   {
    "duration": 6,
    "start_time": "2022-08-22T11:38:16.413Z"
   },
   {
    "duration": 79,
    "start_time": "2022-08-22T11:38:16.421Z"
   },
   {
    "duration": 6,
    "start_time": "2022-08-22T11:38:16.502Z"
   },
   {
    "duration": 1169,
    "start_time": "2022-08-22T11:38:16.509Z"
   },
   {
    "duration": 10,
    "start_time": "2022-08-22T11:38:17.680Z"
   },
   {
    "duration": 8,
    "start_time": "2022-08-22T11:38:46.112Z"
   },
   {
    "duration": 8,
    "start_time": "2022-08-22T11:38:49.974Z"
   },
   {
    "duration": 581,
    "start_time": "2022-08-22T13:36:31.019Z"
   },
   {
    "duration": 12,
    "start_time": "2022-08-22T13:36:38.969Z"
   },
   {
    "duration": 843,
    "start_time": "2022-08-23T07:55:11.717Z"
   },
   {
    "duration": 4,
    "start_time": "2022-08-23T07:55:12.563Z"
   },
   {
    "duration": 7583,
    "start_time": "2022-08-23T07:55:12.569Z"
   },
   {
    "duration": 216,
    "start_time": "2022-08-23T07:55:20.154Z"
   },
   {
    "duration": 17,
    "start_time": "2022-08-23T07:55:20.372Z"
   },
   {
    "duration": 104,
    "start_time": "2022-08-23T07:55:20.390Z"
   },
   {
    "duration": 7,
    "start_time": "2022-08-23T07:55:20.496Z"
   },
   {
    "duration": 31,
    "start_time": "2022-08-23T07:55:20.505Z"
   },
   {
    "duration": 16,
    "start_time": "2022-08-23T07:55:20.537Z"
   },
   {
    "duration": 290,
    "start_time": "2022-08-23T07:55:20.555Z"
   },
   {
    "duration": 215,
    "start_time": "2022-08-23T07:55:20.847Z"
   },
   {
    "duration": 8,
    "start_time": "2022-08-23T07:55:21.063Z"
   },
   {
    "duration": 12,
    "start_time": "2022-08-23T07:55:21.074Z"
   },
   {
    "duration": 150,
    "start_time": "2022-08-23T07:55:21.089Z"
   },
   {
    "duration": 7,
    "start_time": "2022-08-23T07:55:21.240Z"
   },
   {
    "duration": 176,
    "start_time": "2022-08-23T07:55:21.248Z"
   },
   {
    "duration": 1230,
    "start_time": "2022-08-23T07:55:21.426Z"
   },
   {
    "duration": 12,
    "start_time": "2022-08-23T07:55:22.658Z"
   },
   {
    "duration": 194,
    "start_time": "2022-08-23T07:55:22.671Z"
   },
   {
    "duration": 6,
    "start_time": "2022-08-23T07:55:22.867Z"
   },
   {
    "duration": 90,
    "start_time": "2022-08-23T07:55:22.875Z"
   },
   {
    "duration": 6,
    "start_time": "2022-08-23T07:55:22.967Z"
   },
   {
    "duration": 1136,
    "start_time": "2022-08-23T07:55:22.974Z"
   },
   {
    "duration": 9,
    "start_time": "2022-08-23T07:55:24.112Z"
   },
   {
    "duration": 434,
    "start_time": "2022-08-23T07:55:24.122Z"
   },
   {
    "duration": 10,
    "start_time": "2022-08-23T07:55:24.558Z"
   },
   {
    "duration": 92,
    "start_time": "2022-08-23T08:44:12.552Z"
   },
   {
    "duration": 8,
    "start_time": "2022-08-23T08:44:31.592Z"
   },
   {
    "duration": 202,
    "start_time": "2022-08-23T08:45:08.984Z"
   },
   {
    "duration": 91,
    "start_time": "2022-08-23T08:45:26.372Z"
   },
   {
    "duration": 7,
    "start_time": "2022-08-23T08:45:28.484Z"
   },
   {
    "duration": 98,
    "start_time": "2022-08-23T08:46:02.552Z"
   },
   {
    "duration": 7,
    "start_time": "2022-08-23T08:46:03.763Z"
   },
   {
    "duration": 118,
    "start_time": "2022-08-23T10:22:21.751Z"
   },
   {
    "duration": 7,
    "start_time": "2022-08-23T10:22:28.385Z"
   },
   {
    "duration": 115,
    "start_time": "2022-08-23T10:22:40.802Z"
   },
   {
    "duration": 6,
    "start_time": "2022-08-23T10:22:41.103Z"
   },
   {
    "duration": 797,
    "start_time": "2022-08-23T12:21:17.685Z"
   },
   {
    "duration": 3,
    "start_time": "2022-08-23T12:21:18.484Z"
   },
   {
    "duration": 6374,
    "start_time": "2022-08-23T12:21:18.488Z"
   },
   {
    "duration": 267,
    "start_time": "2022-08-23T12:21:24.863Z"
   },
   {
    "duration": 14,
    "start_time": "2022-08-23T12:21:25.131Z"
   },
   {
    "duration": 100,
    "start_time": "2022-08-23T12:21:25.147Z"
   },
   {
    "duration": 9,
    "start_time": "2022-08-23T12:21:25.249Z"
   },
   {
    "duration": 13,
    "start_time": "2022-08-23T12:21:25.259Z"
   },
   {
    "duration": 18,
    "start_time": "2022-08-23T12:21:25.274Z"
   },
   {
    "duration": 349,
    "start_time": "2022-08-23T12:21:25.293Z"
   },
   {
    "duration": 195,
    "start_time": "2022-08-23T12:21:25.643Z"
   },
   {
    "duration": 7,
    "start_time": "2022-08-23T12:21:25.840Z"
   },
   {
    "duration": 10,
    "start_time": "2022-08-23T12:21:25.849Z"
   },
   {
    "duration": 139,
    "start_time": "2022-08-23T12:21:25.862Z"
   },
   {
    "duration": 6,
    "start_time": "2022-08-23T12:21:26.002Z"
   },
   {
    "duration": 142,
    "start_time": "2022-08-23T12:21:26.009Z"
   },
   {
    "duration": 1098,
    "start_time": "2022-08-23T12:21:26.156Z"
   },
   {
    "duration": 12,
    "start_time": "2022-08-23T12:21:27.256Z"
   },
   {
    "duration": 195,
    "start_time": "2022-08-23T12:21:27.270Z"
   },
   {
    "duration": 6,
    "start_time": "2022-08-23T12:21:27.466Z"
   },
   {
    "duration": 71,
    "start_time": "2022-08-23T12:21:27.474Z"
   },
   {
    "duration": 5,
    "start_time": "2022-08-23T12:21:27.547Z"
   },
   {
    "duration": 1064,
    "start_time": "2022-08-23T12:21:27.553Z"
   },
   {
    "duration": 8,
    "start_time": "2022-08-23T12:21:28.618Z"
   },
   {
    "duration": 420,
    "start_time": "2022-08-23T12:21:28.627Z"
   },
   {
    "duration": 10,
    "start_time": "2022-08-23T12:21:29.049Z"
   },
   {
    "duration": 89,
    "start_time": "2022-08-23T12:21:35.407Z"
   },
   {
    "duration": 425,
    "start_time": "2022-08-23T12:25:13.262Z"
   },
   {
    "duration": 479,
    "start_time": "2022-08-23T12:25:26.993Z"
   },
   {
    "duration": 4,
    "start_time": "2022-08-23T12:26:46.194Z"
   },
   {
    "duration": 10,
    "start_time": "2022-08-23T12:27:39.574Z"
   },
   {
    "duration": 16,
    "start_time": "2022-08-23T12:28:10.217Z"
   },
   {
    "duration": 418,
    "start_time": "2022-08-23T12:28:48.736Z"
   },
   {
    "duration": 575,
    "start_time": "2022-08-23T12:29:15.235Z"
   },
   {
    "duration": 13,
    "start_time": "2022-08-23T12:29:29.535Z"
   },
   {
    "duration": 480,
    "start_time": "2022-08-23T12:29:58.722Z"
   },
   {
    "duration": 405,
    "start_time": "2022-08-23T12:32:19.373Z"
   },
   {
    "duration": 419,
    "start_time": "2022-08-23T12:32:36.546Z"
   },
   {
    "duration": 385,
    "start_time": "2022-08-23T12:32:44.674Z"
   },
   {
    "duration": 1105,
    "start_time": "2022-08-23T13:07:12.009Z"
   },
   {
    "duration": 9,
    "start_time": "2022-08-23T13:07:19.140Z"
   },
   {
    "duration": 10,
    "start_time": "2022-08-23T13:07:30.180Z"
   },
   {
    "duration": 110,
    "start_time": "2022-08-23T13:07:44.201Z"
   },
   {
    "duration": 7,
    "start_time": "2022-08-23T13:07:45.552Z"
   },
   {
    "duration": 1054,
    "start_time": "2022-08-23T13:07:48.515Z"
   },
   {
    "duration": 11,
    "start_time": "2022-08-23T13:08:07.879Z"
   },
   {
    "duration": 10,
    "start_time": "2022-08-23T13:10:56.186Z"
   },
   {
    "duration": 12,
    "start_time": "2022-08-23T13:11:51.614Z"
   },
   {
    "duration": 81,
    "start_time": "2022-08-23T13:12:25.098Z"
   },
   {
    "duration": 10,
    "start_time": "2022-08-23T13:13:52.158Z"
   },
   {
    "duration": 10,
    "start_time": "2022-08-23T13:14:09.630Z"
   },
   {
    "duration": 13,
    "start_time": "2022-08-23T13:14:28.058Z"
   },
   {
    "duration": 53,
    "start_time": "2022-08-23T13:14:44.170Z"
   },
   {
    "duration": 68,
    "start_time": "2022-08-23T13:14:48.138Z"
   },
   {
    "duration": 78,
    "start_time": "2022-08-23T13:16:08.259Z"
   },
   {
    "duration": 1199,
    "start_time": "2022-08-23T13:18:43.674Z"
   },
   {
    "duration": 3,
    "start_time": "2022-08-23T13:18:44.875Z"
   },
   {
    "duration": 6867,
    "start_time": "2022-08-23T13:18:44.880Z"
   },
   {
    "duration": 210,
    "start_time": "2022-08-23T13:18:51.749Z"
   },
   {
    "duration": 14,
    "start_time": "2022-08-23T13:18:51.961Z"
   },
   {
    "duration": 457,
    "start_time": "2022-08-23T13:18:51.977Z"
   },
   {
    "duration": 6,
    "start_time": "2022-08-23T13:18:52.435Z"
   },
   {
    "duration": 8,
    "start_time": "2022-08-23T13:18:52.443Z"
   },
   {
    "duration": 11,
    "start_time": "2022-08-23T13:18:52.452Z"
   },
   {
    "duration": 249,
    "start_time": "2022-08-23T13:18:52.465Z"
   },
   {
    "duration": 194,
    "start_time": "2022-08-23T13:18:52.716Z"
   },
   {
    "duration": 6,
    "start_time": "2022-08-23T13:18:52.912Z"
   },
   {
    "duration": 12,
    "start_time": "2022-08-23T13:18:52.920Z"
   },
   {
    "duration": 145,
    "start_time": "2022-08-23T13:18:52.934Z"
   },
   {
    "duration": 6,
    "start_time": "2022-08-23T13:18:53.081Z"
   },
   {
    "duration": 160,
    "start_time": "2022-08-23T13:18:53.088Z"
   },
   {
    "duration": 1139,
    "start_time": "2022-08-23T13:18:53.250Z"
   },
   {
    "duration": 11,
    "start_time": "2022-08-23T13:18:54.391Z"
   },
   {
    "duration": 156,
    "start_time": "2022-08-23T13:18:54.404Z"
   },
   {
    "duration": 8,
    "start_time": "2022-08-23T13:18:54.562Z"
   },
   {
    "duration": 79,
    "start_time": "2022-08-23T13:18:54.571Z"
   },
   {
    "duration": 6,
    "start_time": "2022-08-23T13:18:54.652Z"
   },
   {
    "duration": 1191,
    "start_time": "2022-08-23T13:18:54.660Z"
   },
   {
    "duration": 9,
    "start_time": "2022-08-23T13:18:55.853Z"
   },
   {
    "duration": 411,
    "start_time": "2022-08-23T13:18:55.864Z"
   },
   {
    "duration": 11,
    "start_time": "2022-08-23T13:18:56.277Z"
   },
   {
    "duration": 383,
    "start_time": "2022-08-23T13:18:56.290Z"
   },
   {
    "duration": 91,
    "start_time": "2022-08-23T13:18:56.675Z"
   },
   {
    "duration": 7,
    "start_time": "2022-08-23T13:18:56.767Z"
   },
   {
    "duration": 87,
    "start_time": "2022-08-23T13:18:56.775Z"
   },
   {
    "duration": 115,
    "start_time": "2022-08-23T13:18:56.864Z"
   },
   {
    "duration": 6,
    "start_time": "2022-08-23T13:18:56.981Z"
   },
   {
    "duration": 1205,
    "start_time": "2022-08-23T14:27:12.561Z"
   },
   {
    "duration": 3,
    "start_time": "2022-08-23T14:27:13.768Z"
   },
   {
    "duration": 11131,
    "start_time": "2022-08-23T14:27:13.772Z"
   },
   {
    "duration": 220,
    "start_time": "2022-08-23T14:27:24.905Z"
   },
   {
    "duration": 17,
    "start_time": "2022-08-23T14:27:25.127Z"
   },
   {
    "duration": 111,
    "start_time": "2022-08-23T14:27:25.145Z"
   },
   {
    "duration": 7,
    "start_time": "2022-08-23T14:27:25.257Z"
   },
   {
    "duration": 21,
    "start_time": "2022-08-23T14:27:25.265Z"
   },
   {
    "duration": 22,
    "start_time": "2022-08-23T14:27:25.287Z"
   },
   {
    "duration": 230,
    "start_time": "2022-08-23T14:27:25.312Z"
   },
   {
    "duration": 201,
    "start_time": "2022-08-23T14:27:25.543Z"
   },
   {
    "duration": 6,
    "start_time": "2022-08-23T14:27:25.746Z"
   },
   {
    "duration": 10,
    "start_time": "2022-08-23T14:27:25.753Z"
   },
   {
    "duration": 139,
    "start_time": "2022-08-23T14:27:25.764Z"
   },
   {
    "duration": 6,
    "start_time": "2022-08-23T14:27:25.904Z"
   },
   {
    "duration": 133,
    "start_time": "2022-08-23T14:27:25.911Z"
   },
   {
    "duration": 1176,
    "start_time": "2022-08-23T14:27:26.046Z"
   },
   {
    "duration": 10,
    "start_time": "2022-08-23T14:27:27.224Z"
   },
   {
    "duration": 158,
    "start_time": "2022-08-23T14:27:27.235Z"
   },
   {
    "duration": 6,
    "start_time": "2022-08-23T14:27:27.395Z"
   },
   {
    "duration": 74,
    "start_time": "2022-08-23T14:27:27.402Z"
   },
   {
    "duration": 6,
    "start_time": "2022-08-23T14:27:27.477Z"
   },
   {
    "duration": 1137,
    "start_time": "2022-08-23T14:27:27.485Z"
   },
   {
    "duration": 8,
    "start_time": "2022-08-23T14:27:28.624Z"
   },
   {
    "duration": 417,
    "start_time": "2022-08-23T14:27:28.633Z"
   },
   {
    "duration": 10,
    "start_time": "2022-08-23T14:27:29.052Z"
   },
   {
    "duration": 401,
    "start_time": "2022-08-23T14:27:29.064Z"
   },
   {
    "duration": 94,
    "start_time": "2022-08-23T14:27:29.469Z"
   },
   {
    "duration": 6,
    "start_time": "2022-08-23T14:27:29.565Z"
   },
   {
    "duration": 73,
    "start_time": "2022-08-23T14:27:29.573Z"
   },
   {
    "duration": 124,
    "start_time": "2022-08-23T14:27:29.648Z"
   },
   {
    "duration": 6,
    "start_time": "2022-08-23T14:27:29.774Z"
   },
   {
    "duration": 9,
    "start_time": "2022-08-23T14:31:10.300Z"
   },
   {
    "duration": 7,
    "start_time": "2022-08-23T14:31:13.273Z"
   },
   {
    "duration": 1532,
    "start_time": "2022-08-24T07:30:48.335Z"
   },
   {
    "duration": 4,
    "start_time": "2022-08-24T07:30:49.869Z"
   },
   {
    "duration": 8522,
    "start_time": "2022-08-24T07:30:49.875Z"
   },
   {
    "duration": 217,
    "start_time": "2022-08-24T07:30:58.399Z"
   },
   {
    "duration": 15,
    "start_time": "2022-08-24T07:30:58.619Z"
   },
   {
    "duration": 97,
    "start_time": "2022-08-24T07:30:58.635Z"
   },
   {
    "duration": 7,
    "start_time": "2022-08-24T07:30:58.734Z"
   },
   {
    "duration": 12,
    "start_time": "2022-08-24T07:30:58.742Z"
   },
   {
    "duration": 13,
    "start_time": "2022-08-24T07:30:58.755Z"
   },
   {
    "duration": 338,
    "start_time": "2022-08-24T07:30:58.770Z"
   },
   {
    "duration": 196,
    "start_time": "2022-08-24T07:30:59.110Z"
   },
   {
    "duration": 8,
    "start_time": "2022-08-24T07:30:59.308Z"
   },
   {
    "duration": 7,
    "start_time": "2022-08-24T07:30:59.318Z"
   },
   {
    "duration": 139,
    "start_time": "2022-08-24T07:30:59.329Z"
   },
   {
    "duration": 7,
    "start_time": "2022-08-24T07:30:59.471Z"
   },
   {
    "duration": 166,
    "start_time": "2022-08-24T07:30:59.480Z"
   },
   {
    "duration": 1240,
    "start_time": "2022-08-24T07:30:59.648Z"
   },
   {
    "duration": 18,
    "start_time": "2022-08-24T07:31:00.890Z"
   },
   {
    "duration": 173,
    "start_time": "2022-08-24T07:31:00.909Z"
   },
   {
    "duration": 7,
    "start_time": "2022-08-24T07:31:01.084Z"
   },
   {
    "duration": 92,
    "start_time": "2022-08-24T07:31:01.094Z"
   },
   {
    "duration": 8,
    "start_time": "2022-08-24T07:31:01.188Z"
   },
   {
    "duration": 1180,
    "start_time": "2022-08-24T07:31:01.197Z"
   },
   {
    "duration": 9,
    "start_time": "2022-08-24T07:31:02.378Z"
   },
   {
    "duration": 422,
    "start_time": "2022-08-24T07:31:02.388Z"
   },
   {
    "duration": 15,
    "start_time": "2022-08-24T07:31:02.812Z"
   },
   {
    "duration": 506,
    "start_time": "2022-08-24T07:31:02.829Z"
   },
   {
    "duration": 208,
    "start_time": "2022-08-24T07:31:07.532Z"
   },
   {
    "duration": 90,
    "start_time": "2022-08-24T07:51:18.123Z"
   },
   {
    "duration": 7,
    "start_time": "2022-08-24T07:51:20.475Z"
   },
   {
    "duration": 146,
    "start_time": "2022-08-24T08:19:55.436Z"
   },
   {
    "duration": 7,
    "start_time": "2022-08-24T08:19:57.783Z"
   },
   {
    "duration": 5,
    "start_time": "2022-08-24T08:20:11.005Z"
   },
   {
    "duration": 148,
    "start_time": "2022-08-24T08:24:48.141Z"
   },
   {
    "duration": 7,
    "start_time": "2022-08-24T08:24:50.373Z"
   },
   {
    "duration": 1256,
    "start_time": "2022-08-24T08:32:04.376Z"
   },
   {
    "duration": 4,
    "start_time": "2022-08-24T08:32:05.634Z"
   },
   {
    "duration": 5799,
    "start_time": "2022-08-24T08:32:05.639Z"
   },
   {
    "duration": 229,
    "start_time": "2022-08-24T08:32:11.440Z"
   },
   {
    "duration": 15,
    "start_time": "2022-08-24T08:32:11.672Z"
   },
   {
    "duration": 115,
    "start_time": "2022-08-24T08:32:11.688Z"
   },
   {
    "duration": 6,
    "start_time": "2022-08-24T08:32:11.805Z"
   },
   {
    "duration": 29,
    "start_time": "2022-08-24T08:32:11.813Z"
   },
   {
    "duration": 44,
    "start_time": "2022-08-24T08:32:11.844Z"
   },
   {
    "duration": 302,
    "start_time": "2022-08-24T08:32:11.890Z"
   },
   {
    "duration": 154,
    "start_time": "2022-08-24T08:32:12.194Z"
   },
   {
    "duration": 9,
    "start_time": "2022-08-24T08:32:12.350Z"
   },
   {
    "duration": 169,
    "start_time": "2022-08-24T08:32:12.360Z"
   },
   {
    "duration": 7,
    "start_time": "2022-08-24T08:32:12.532Z"
   },
   {
    "duration": 175,
    "start_time": "2022-08-24T08:32:12.541Z"
   },
   {
    "duration": 1212,
    "start_time": "2022-08-24T08:32:12.717Z"
   },
   {
    "duration": 11,
    "start_time": "2022-08-24T08:32:13.931Z"
   },
   {
    "duration": 179,
    "start_time": "2022-08-24T08:32:13.944Z"
   },
   {
    "duration": 6,
    "start_time": "2022-08-24T08:32:14.125Z"
   },
   {
    "duration": 86,
    "start_time": "2022-08-24T08:32:14.133Z"
   },
   {
    "duration": 6,
    "start_time": "2022-08-24T08:32:14.221Z"
   },
   {
    "duration": 1178,
    "start_time": "2022-08-24T08:32:14.228Z"
   },
   {
    "duration": 9,
    "start_time": "2022-08-24T08:32:15.407Z"
   },
   {
    "duration": 434,
    "start_time": "2022-08-24T08:32:15.418Z"
   },
   {
    "duration": 11,
    "start_time": "2022-08-24T08:32:15.854Z"
   },
   {
    "duration": 441,
    "start_time": "2022-08-24T08:32:15.866Z"
   },
   {
    "duration": 92,
    "start_time": "2022-08-24T08:32:16.309Z"
   },
   {
    "duration": 8,
    "start_time": "2022-08-24T08:32:16.403Z"
   },
   {
    "duration": 101,
    "start_time": "2022-08-24T08:32:16.413Z"
   },
   {
    "duration": 116,
    "start_time": "2022-08-24T08:32:16.515Z"
   },
   {
    "duration": 8,
    "start_time": "2022-08-24T08:32:16.632Z"
   }
  ],
  "colab": {
   "name": "AdvansedSQLProjectTemplate.ipynb",
   "provenance": []
  },
  "kernelspec": {
   "display_name": "Python 3 (ipykernel)",
   "language": "python",
   "name": "python3"
  },
  "language_info": {
   "codemirror_mode": {
    "name": "ipython",
    "version": 3
   },
   "file_extension": ".py",
   "mimetype": "text/x-python",
   "name": "python",
   "nbconvert_exporter": "python",
   "pygments_lexer": "ipython3",
   "version": "3.9.12"
  },
  "toc": {
   "base_numbering": 1,
   "nav_menu": {},
   "number_sections": false,
   "sideBar": true,
   "skip_h1_title": false,
   "title_cell": "Table of Contents",
   "title_sidebar": "Contents",
   "toc_cell": false,
   "toc_position": {},
   "toc_section_display": true,
   "toc_window_display": true
  }
 },
 "nbformat": 4,
 "nbformat_minor": 1
}
