{
 "cells": [
  {
   "cell_type": "markdown",
   "metadata": {
    "toc": true
   },
   "source": [
    "<h1>Содержание<span class=\"tocSkip\"></span></h1>\n",
    "<div class=\"toc\"><ul class=\"toc-item\"><li><span><a href=\"#Загрузка-данных\" data-toc-modified-id=\"Загрузка-данных-1\"><span class=\"toc-item-num\">1&nbsp;&nbsp;</span>Загрузка данных</a></span></li><li><span><a href=\"#Предобработка-и-исследовательский-анализ-данных\" data-toc-modified-id=\"Предобработка-и-исследовательский-анализ-данных-2\"><span class=\"toc-item-num\">2&nbsp;&nbsp;</span>Предобработка и исследовательский анализ данных</a></span></li><li><span><a href=\"#Умножение-матриц\" data-toc-modified-id=\"Умножение-матриц-3\"><span class=\"toc-item-num\">3&nbsp;&nbsp;</span>Умножение матриц</a></span></li><li><span><a href=\"#Алгоритм-преобразования\" data-toc-modified-id=\"Алгоритм-преобразования-4\"><span class=\"toc-item-num\">4&nbsp;&nbsp;</span>Алгоритм преобразования</a></span></li><li><span><a href=\"#Проверка-алгоритма\" data-toc-modified-id=\"Проверка-алгоритма-5\"><span class=\"toc-item-num\">5&nbsp;&nbsp;</span>Проверка алгоритма</a></span></li></ul></div>"
   ]
  },
  {
   "cell_type": "markdown",
   "metadata": {},
   "source": [
    "# Защита персональных данных клиентов"
   ]
  },
  {
   "cell_type": "markdown",
   "metadata": {},
   "source": [
    "Разработка метода преобразования данных с целью защиты персональных данных клиентов страховой компании и обоснование корректности его работы. \n",
    "Важно, чтобы при преобразовании качество моделей машинного обучения не ухудшилось.\n",
    "В задании необходимо ответить на вопрос:\n",
    "1. Признаки умножают на обратимую матрицу. Изменится ли качество линейной регрессии?Вам нужно защитить данные клиентов страховой компании «Хоть потоп». Разработайте такой метод преобразования данных, чтобы по ним было сложно восстановить персональную информацию. Обоснуйте корректность его работы.\n",
    "\n",
    "Нужно защитить данные, чтобы при преобразовании качество моделей машинного обучения не ухудшилось. Подбирать наилучшую модель не требуется."
   ]
  },
  {
   "cell_type": "markdown",
   "metadata": {},
   "source": [
    "## Загрузка данных"
   ]
  },
  {
   "cell_type": "markdown",
   "metadata": {},
   "source": [
    "Импорт необходимых библиотек"
   ]
  },
  {
   "cell_type": "code",
   "execution_count": 1,
   "metadata": {},
   "outputs": [],
   "source": [
    "import pandas as pd\n",
    "import numpy as np\n",
    "import matplotlib.pyplot as plt\n",
    "from sklearn.linear_model import LinearRegression\n",
    "from sklearn.model_selection import train_test_split\n",
    "from sklearn.metrics import r2_score"
   ]
  },
  {
   "cell_type": "markdown",
   "metadata": {},
   "source": [
    "Открываем файлы и сохраняем данные в датафреймы"
   ]
  },
  {
   "cell_type": "code",
   "execution_count": 2,
   "metadata": {},
   "outputs": [],
   "source": [
    "df = pd.read_csv('/datasets/insurance.csv')"
   ]
  },
  {
   "cell_type": "markdown",
   "metadata": {},
   "source": [
    "## Предобработка и исследовательский анализ данных"
   ]
  },
  {
   "cell_type": "code",
   "execution_count": 3,
   "metadata": {
    "scrolled": true
   },
   "outputs": [
    {
     "name": "stdout",
     "output_type": "stream",
     "text": [
      "<class 'pandas.core.frame.DataFrame'>\n",
      "RangeIndex: 5000 entries, 0 to 4999\n",
      "Data columns (total 5 columns):\n",
      " #   Column             Non-Null Count  Dtype  \n",
      "---  ------             --------------  -----  \n",
      " 0   Пол                5000 non-null   int64  \n",
      " 1   Возраст            5000 non-null   float64\n",
      " 2   Зарплата           5000 non-null   float64\n",
      " 3   Члены семьи        5000 non-null   int64  \n",
      " 4   Страховые выплаты  5000 non-null   int64  \n",
      "dtypes: float64(2), int64(3)\n",
      "memory usage: 195.4 KB\n"
     ]
    }
   ],
   "source": [
    "df.info()"
   ]
  },
  {
   "cell_type": "code",
   "execution_count": 4,
   "metadata": {},
   "outputs": [
    {
     "data": {
      "text/html": [
       "<div>\n",
       "<style scoped>\n",
       "    .dataframe tbody tr th:only-of-type {\n",
       "        vertical-align: middle;\n",
       "    }\n",
       "\n",
       "    .dataframe tbody tr th {\n",
       "        vertical-align: top;\n",
       "    }\n",
       "\n",
       "    .dataframe thead th {\n",
       "        text-align: right;\n",
       "    }\n",
       "</style>\n",
       "<table border=\"1\" class=\"dataframe\">\n",
       "  <thead>\n",
       "    <tr style=\"text-align: right;\">\n",
       "      <th></th>\n",
       "      <th>Пол</th>\n",
       "      <th>Возраст</th>\n",
       "      <th>Зарплата</th>\n",
       "      <th>Члены семьи</th>\n",
       "      <th>Страховые выплаты</th>\n",
       "    </tr>\n",
       "  </thead>\n",
       "  <tbody>\n",
       "    <tr>\n",
       "      <th>0</th>\n",
       "      <td>1</td>\n",
       "      <td>41.0</td>\n",
       "      <td>49600.0</td>\n",
       "      <td>1</td>\n",
       "      <td>0</td>\n",
       "    </tr>\n",
       "    <tr>\n",
       "      <th>1</th>\n",
       "      <td>0</td>\n",
       "      <td>46.0</td>\n",
       "      <td>38000.0</td>\n",
       "      <td>1</td>\n",
       "      <td>1</td>\n",
       "    </tr>\n",
       "    <tr>\n",
       "      <th>2</th>\n",
       "      <td>0</td>\n",
       "      <td>29.0</td>\n",
       "      <td>21000.0</td>\n",
       "      <td>0</td>\n",
       "      <td>0</td>\n",
       "    </tr>\n",
       "    <tr>\n",
       "      <th>3</th>\n",
       "      <td>0</td>\n",
       "      <td>21.0</td>\n",
       "      <td>41700.0</td>\n",
       "      <td>2</td>\n",
       "      <td>0</td>\n",
       "    </tr>\n",
       "    <tr>\n",
       "      <th>4</th>\n",
       "      <td>1</td>\n",
       "      <td>28.0</td>\n",
       "      <td>26100.0</td>\n",
       "      <td>0</td>\n",
       "      <td>0</td>\n",
       "    </tr>\n",
       "  </tbody>\n",
       "</table>\n",
       "</div>"
      ],
      "text/plain": [
       "   Пол  Возраст  Зарплата  Члены семьи  Страховые выплаты\n",
       "0    1     41.0   49600.0            1                  0\n",
       "1    0     46.0   38000.0            1                  1\n",
       "2    0     29.0   21000.0            0                  0\n",
       "3    0     21.0   41700.0            2                  0\n",
       "4    1     28.0   26100.0            0                  0"
      ]
     },
     "execution_count": 4,
     "metadata": {},
     "output_type": "execute_result"
    }
   ],
   "source": [
    "df.head()"
   ]
  },
  {
   "cell_type": "code",
   "execution_count": 5,
   "metadata": {},
   "outputs": [
    {
     "data": {
      "text/plain": [
       "0    2505\n",
       "1    2495\n",
       "Name: Пол, dtype: int64"
      ]
     },
     "execution_count": 5,
     "metadata": {},
     "output_type": "execute_result"
    }
   ],
   "source": [
    "df['Пол'].value_counts()"
   ]
  },
  {
   "cell_type": "markdown",
   "metadata": {},
   "source": [
    "* Данные корректные"
   ]
  },
  {
   "cell_type": "code",
   "execution_count": 6,
   "metadata": {
    "scrolled": true
   },
   "outputs": [
    {
     "data": {
      "image/png": "[encoded data removed]",
      "text/plain": [
       "<Figure size 720x360 with 1 Axes>"
      ]
     },
     "metadata": {
      "needs_background": "light"
     },
     "output_type": "display_data"
    }
   ],
   "source": [
    "df['Возраст'].hist(figsize=(10, 5), grid=True)\n",
    "plt.xlabel(\"Кол-во лет\")\n",
    "plt.ylabel(\"Кол-во записей\")\n",
    "plt.title(\"Возраст клиентов\")\n",
    "plt.show()    "
   ]
  },
  {
   "cell_type": "markdown",
   "metadata": {},
   "source": [
    "* Данные корректные"
   ]
  },
  {
   "cell_type": "code",
   "execution_count": 7,
   "metadata": {},
   "outputs": [
    {
     "data": {
      "image/png": "[encoded data removed]",
      "text/plain": [
       "<Figure size 720x360 with 1 Axes>"
      ]
     },
     "metadata": {
      "needs_background": "light"
     },
     "output_type": "display_data"
    }
   ],
   "source": [
    "df['Зарплата'].hist(figsize=(10, 5), grid=True)\n",
    "plt.xlabel(\"Зарплата клиентов, руб.\")\n",
    "plt.ylabel(\"Кол-во записей\")\n",
    "plt.title(\"Зарплата клиентов\")\n",
    "plt.show()    "
   ]
  },
  {
   "cell_type": "markdown",
   "metadata": {},
   "source": [
    "* Данные корректные"
   ]
  },
  {
   "cell_type": "code",
   "execution_count": 8,
   "metadata": {},
   "outputs": [
    {
     "data": {
      "text/plain": [
       "1    1814\n",
       "0    1513\n",
       "2    1071\n",
       "3     439\n",
       "4     124\n",
       "5      32\n",
       "6       7\n",
       "Name: Члены семьи, dtype: int64"
      ]
     },
     "execution_count": 8,
     "metadata": {},
     "output_type": "execute_result"
    }
   ],
   "source": [
    "df['Члены семьи'].value_counts()"
   ]
  },
  {
   "cell_type": "markdown",
   "metadata": {},
   "source": [
    "* Данные корректные"
   ]
  },
  {
   "cell_type": "code",
   "execution_count": 9,
   "metadata": {},
   "outputs": [
    {
     "data": {
      "text/plain": [
       "0    4436\n",
       "1     423\n",
       "2     115\n",
       "3      18\n",
       "4       7\n",
       "5       1\n",
       "Name: Страховые выплаты, dtype: int64"
      ]
     },
     "execution_count": 9,
     "metadata": {},
     "output_type": "execute_result"
    }
   ],
   "source": [
    "df['Страховые выплаты'].value_counts()"
   ]
  },
  {
   "cell_type": "markdown",
   "metadata": {},
   "source": [
    "* Данные корректные"
   ]
  },
  {
   "cell_type": "markdown",
   "metadata": {},
   "source": [
    "Проверим данные на наличие пропусков"
   ]
  },
  {
   "cell_type": "code",
   "execution_count": 10,
   "metadata": {},
   "outputs": [
    {
     "name": "stdout",
     "output_type": "stream",
     "text": [
      "Количество пропусков в каждом столбце\n",
      "Пол                  0.0\n",
      "Возраст              0.0\n",
      "Зарплата             0.0\n",
      "Члены семьи          0.0\n",
      "Страховые выплаты    0.0\n",
      "dtype: float64\n"
     ]
    }
   ],
   "source": [
    "print('Количество пропусков в каждом столбце') \n",
    "print(df.isna().mean())"
   ]
  },
  {
   "cell_type": "markdown",
   "metadata": {},
   "source": [
    "* Пропуски не обнаружены"
   ]
  },
  {
   "cell_type": "markdown",
   "metadata": {},
   "source": [
    "**Вывод**\n",
    "\n",
    "* Данные подготовленны, можно переходить к следующему этапу\n"
   ]
  },
  {
   "cell_type": "markdown",
   "metadata": {},
   "source": [
    "## Умножение матриц"
   ]
  },
  {
   "cell_type": "markdown",
   "metadata": {},
   "source": [
    "В этом задании вы можете записывать формулы в *Jupyter Notebook.*\n",
    "\n",
    "Чтобы записать формулу внутри текста, окружите её символами доллара \\\\$; если снаружи —  двойными символами \\\\$\\\\$. Эти формулы записываются на языке вёрстки *LaTeX.* \n",
    "\n",
    "Для примера мы записали формулы линейной регрессии. Можете их скопировать и отредактировать, чтобы решить задачу.\n",
    "\n",
    "Работать в *LaTeX* необязательно."
   ]
  },
  {
   "cell_type": "markdown",
   "metadata": {},
   "source": [
    "Обозначения:\n",
    "\n",
    "- $X$ — матрица признаков (нулевой столбец состоит из единиц)\n",
    "\n",
    "- $y$ — вектор целевого признака\n",
    "\n",
    "- $P$ — матрица, на которую умножаются признаки\n",
    "\n",
    "- $w$ — вектор весов линейной регрессии (нулевой элемент равен сдвигу)"
   ]
  },
  {
   "cell_type": "markdown",
   "metadata": {},
   "source": [
    "Предсказания:\n",
    "\n",
    "$$\n",
    "a = Xw\n",
    "$$\n",
    "\n",
    "Задача обучения:\n",
    "\n",
    "$$\n",
    "w = \\arg\\min_w MSE(Xw, y)\n",
    "$$\n",
    "\n",
    "Формула обучения:\n",
    "\n",
    "$$\n",
    "w = (X^T X)^{-1} X^T y\n",
    "$$"
   ]
  },
  {
   "cell_type": "markdown",
   "metadata": {},
   "source": [
    "**Вопрос:** Признаки умножают на обратимую матрицу. Изменится ли качество линейной регрессии? \n",
    "\n",
    "**Ответ:**  Не изменится\n",
    "\n",
    "**Обоснование:** <br>\n",
    "\n",
    "Умножим матрицу $X$ на обратимую матрицу $P$ и вычислим, чему будет равно предсказание и вектор весов. Для вычисления будет использовать следующие свойства обратной, транспонированной матрицы и единичной матрица: \n",
    "\n",
    "$$(AB)^{-1} = B^{-1} A^{-1}$$\n",
    "\n",
    "$$(AB)^T = B^T A^T$$\n",
    "\n",
    "$$AE = EA = A$$\n",
    "\n",
    "$$AA^{-1} = A^{-1}A = E$$\n",
    "\n",
    "\n",
    "Произведём вычисления:\n",
    "\n",
    "$$\n",
    "a_1 = XP w_1 = XP ((XP)^T (XP))^{-1} (XP)^T y = XP (P^T X^T XP)^{-1} P^T X^T y = XP ((P^T (X^T X))P)^{-1} P^T X^T y = XP P^{-1} (P^T(X^T X))^{-1} P^T X^T y = XE (X^T X)^{-1} (P^T)^{-1} P^T X^T y = X (X^T X)^{-1} E X^T y = X(X^T X)^{-1} X^T y = Xw = a\n",
    "$$\n",
    "\n",
    "**Вывод:** Значение предсказания $a$ не меняется, если умножать матрицу признаков на обратимую матрицу."
   ]
  },
  {
   "cell_type": "markdown",
   "metadata": {},
   "source": [
    "## Алгоритм преобразования"
   ]
  },
  {
   "cell_type": "markdown",
   "metadata": {},
   "source": [
    "**Алгоритм**\n",
    "\n",
    "Для защиты информации будем умножать матрицу признаков на обратимую матрицу $P$, которая будет генерироваться случайным образом."
   ]
  },
  {
   "cell_type": "markdown",
   "metadata": {},
   "source": [
    "**Обоснование**\n",
    "\n",
    "При умножении матрицы признаков на случайную обратимую матрицу P, мы зашифруем данные, при этом значения предсказаний не изменяться (см. доказательство в пункте 3), и, следовательно, не ухудшится качество модели."
   ]
  },
  {
   "cell_type": "markdown",
   "metadata": {},
   "source": [
    "## Проверка алгоритма"
   ]
  },
  {
   "cell_type": "markdown",
   "metadata": {},
   "source": [
    "Извелекём из выборок признаки и целевой признак"
   ]
  },
  {
   "cell_type": "code",
   "execution_count": 11,
   "metadata": {},
   "outputs": [],
   "source": [
    "features = df.drop('Страховые выплаты', axis=1)\n",
    "target = df['Страховые выплаты']"
   ]
  },
  {
   "cell_type": "markdown",
   "metadata": {},
   "source": [
    "Разобьём выборки на обучающую и валидационную"
   ]
  },
  {
   "cell_type": "code",
   "execution_count": 12,
   "metadata": {},
   "outputs": [],
   "source": [
    "features_train, features_test, target_train, target_test = \\\n",
    "    train_test_split(features, target, test_size=0.25, random_state=12345)"
   ]
  },
  {
   "cell_type": "code",
   "execution_count": 13,
   "metadata": {},
   "outputs": [
    {
     "name": "stdout",
     "output_type": "stream",
     "text": [
      "Итоговые размеры выборок , обучающая:валидационная - 3750:1250\n"
     ]
    }
   ],
   "source": [
    "print(f'Итоговые размеры выборок , обучающая:валидационная - '\n",
    "      f'{target_train.count()}:{target_test.count()}')"
   ]
  },
  {
   "cell_type": "markdown",
   "metadata": {},
   "source": [
    "Обучим модель, выведем на экран оценку качества модели (метрику R2) и коэфициенты линейной регрессии"
   ]
  },
  {
   "cell_type": "code",
   "execution_count": 14,
   "metadata": {},
   "outputs": [
    {
     "name": "stdout",
     "output_type": "stream",
     "text": [
      "R2 = 0.43523\n",
      "w-vector coef [ 1.79258369e-02  3.57228278e-02 -5.46000708e-07 -1.26186590e-02]\n"
     ]
    }
   ],
   "source": [
    "model = LinearRegression()\n",
    "model.fit(features_train, target_train)\n",
    "prediction = model.predict(features_test)\n",
    "R2_origin = r2_score(target_test, prediction)\n",
    "print(f'R2 = {R2_origin:.5f}')\n",
    "print('w-vector coef', model.coef_)"
   ]
  },
  {
   "cell_type": "markdown",
   "metadata": {},
   "source": [
    "Напишем функцию, которая создаёт рандомную обратимую матрицу и умножает матрицу признаков на созданную рандомную матрицу"
   ]
  },
  {
   "cell_type": "code",
   "execution_count": 15,
   "metadata": {},
   "outputs": [],
   "source": [
    "def cipher_features(features):\n",
    "    det = 0\n",
    "    while det == 0:\n",
    "        np.random.seed(42)\n",
    "        random_matrix = np.random.normal(size=(features.shape[1], features.shape[1]))\n",
    "        det = np.linalg.det(random_matrix)\n",
    "    return features @ random_matrix"
   ]
  },
  {
   "cell_type": "code",
   "execution_count": 16,
   "metadata": {
    "scrolled": false
   },
   "outputs": [
    {
     "name": "stdout",
     "output_type": "stream",
     "text": [
      "Исходная матрица признаков:\n"
     ]
    },
    {
     "data": {
      "text/html": [
       "<div>\n",
       "<style scoped>\n",
       "    .dataframe tbody tr th:only-of-type {\n",
       "        vertical-align: middle;\n",
       "    }\n",
       "\n",
       "    .dataframe tbody tr th {\n",
       "        vertical-align: top;\n",
       "    }\n",
       "\n",
       "    .dataframe thead th {\n",
       "        text-align: right;\n",
       "    }\n",
       "</style>\n",
       "<table border=\"1\" class=\"dataframe\">\n",
       "  <thead>\n",
       "    <tr style=\"text-align: right;\">\n",
       "      <th></th>\n",
       "      <th>Пол</th>\n",
       "      <th>Возраст</th>\n",
       "      <th>Зарплата</th>\n",
       "      <th>Члены семьи</th>\n",
       "    </tr>\n",
       "  </thead>\n",
       "  <tbody>\n",
       "    <tr>\n",
       "      <th>0</th>\n",
       "      <td>1</td>\n",
       "      <td>41.0</td>\n",
       "      <td>49600.0</td>\n",
       "      <td>1</td>\n",
       "    </tr>\n",
       "    <tr>\n",
       "      <th>1</th>\n",
       "      <td>0</td>\n",
       "      <td>46.0</td>\n",
       "      <td>38000.0</td>\n",
       "      <td>1</td>\n",
       "    </tr>\n",
       "    <tr>\n",
       "      <th>2</th>\n",
       "      <td>0</td>\n",
       "      <td>29.0</td>\n",
       "      <td>21000.0</td>\n",
       "      <td>0</td>\n",
       "    </tr>\n",
       "    <tr>\n",
       "      <th>3</th>\n",
       "      <td>0</td>\n",
       "      <td>21.0</td>\n",
       "      <td>41700.0</td>\n",
       "      <td>2</td>\n",
       "    </tr>\n",
       "    <tr>\n",
       "      <th>4</th>\n",
       "      <td>1</td>\n",
       "      <td>28.0</td>\n",
       "      <td>26100.0</td>\n",
       "      <td>0</td>\n",
       "    </tr>\n",
       "  </tbody>\n",
       "</table>\n",
       "</div>"
      ],
      "text/plain": [
       "   Пол  Возраст  Зарплата  Члены семьи\n",
       "0    1     41.0   49600.0            1\n",
       "1    0     46.0   38000.0            1\n",
       "2    0     29.0   21000.0            0\n",
       "3    0     21.0   41700.0            2\n",
       "4    1     28.0   26100.0            0"
      ]
     },
     "metadata": {},
     "output_type": "display_data"
    },
    {
     "name": "stdout",
     "output_type": "stream",
     "text": [
      "Зашифрованная матрица признаков:\n"
     ]
    },
    {
     "data": {
      "text/html": [
       "<div>\n",
       "<style scoped>\n",
       "    .dataframe tbody tr th:only-of-type {\n",
       "        vertical-align: middle;\n",
       "    }\n",
       "\n",
       "    .dataframe tbody tr th {\n",
       "        vertical-align: top;\n",
       "    }\n",
       "\n",
       "    .dataframe thead th {\n",
       "        text-align: right;\n",
       "    }\n",
       "</style>\n",
       "<table border=\"1\" class=\"dataframe\">\n",
       "  <thead>\n",
       "    <tr style=\"text-align: right;\">\n",
       "      <th></th>\n",
       "      <th>0</th>\n",
       "      <th>1</th>\n",
       "      <th>2</th>\n",
       "      <th>3</th>\n",
       "    </tr>\n",
       "  </thead>\n",
       "  <tbody>\n",
       "    <tr>\n",
       "      <th>0</th>\n",
       "      <td>-23294.791154</td>\n",
       "      <td>26899.327002</td>\n",
       "      <td>-22921.847067</td>\n",
       "      <td>-23067.770211</td>\n",
       "    </tr>\n",
       "    <tr>\n",
       "      <th>1</th>\n",
       "      <td>-17850.555758</td>\n",
       "      <td>20604.598076</td>\n",
       "      <td>-17538.953455</td>\n",
       "      <td>-17662.990926</td>\n",
       "    </tr>\n",
       "    <tr>\n",
       "      <th>2</th>\n",
       "      <td>-9865.752553</td>\n",
       "      <td>11386.970944</td>\n",
       "      <td>-9685.974377</td>\n",
       "      <td>-9758.069218</td>\n",
       "    </tr>\n",
       "    <tr>\n",
       "      <th>3</th>\n",
       "      <td>-19581.515190</td>\n",
       "      <td>22616.010381</td>\n",
       "      <td>-19294.804157</td>\n",
       "      <td>-19405.939170</td>\n",
       "    </tr>\n",
       "    <tr>\n",
       "      <th>4</th>\n",
       "      <td>-12259.341053</td>\n",
       "      <td>14154.123038</td>\n",
       "      <td>-12050.336135</td>\n",
       "      <td>-12132.535366</td>\n",
       "    </tr>\n",
       "  </tbody>\n",
       "</table>\n",
       "</div>"
      ],
      "text/plain": [
       "              0             1             2             3\n",
       "0 -23294.791154  26899.327002 -22921.847067 -23067.770211\n",
       "1 -17850.555758  20604.598076 -17538.953455 -17662.990926\n",
       "2  -9865.752553  11386.970944  -9685.974377  -9758.069218\n",
       "3 -19581.515190  22616.010381 -19294.804157 -19405.939170\n",
       "4 -12259.341053  14154.123038 -12050.336135 -12132.535366"
      ]
     },
     "metadata": {},
     "output_type": "display_data"
    }
   ],
   "source": [
    "cipher_matrix = cipher_features(features)\n",
    "print('Исходная матрица признаков:')\n",
    "display(features.head())\n",
    "print('Зашифрованная матрица признаков:')\n",
    "display(cipher_matrix.head())"
   ]
  },
  {
   "cell_type": "markdown",
   "metadata": {},
   "source": [
    "* Данные зашифрованы"
   ]
  },
  {
   "cell_type": "markdown",
   "metadata": {},
   "source": [
    "Разобьём зашифрованную матрицу признаков на обучающую и валидационную выборку"
   ]
  },
  {
   "cell_type": "code",
   "execution_count": 17,
   "metadata": {},
   "outputs": [
    {
     "name": "stdout",
     "output_type": "stream",
     "text": [
      "Итоговые размеры выборок , обучающая:валидационная - 3750:1250\n"
     ]
    }
   ],
   "source": [
    "features_cipher_train, features_ciphe_test = \\\n",
    "    train_test_split(cipher_matrix, test_size=0.25, random_state=12345)\n",
    "print(f'Итоговые размеры выборок , обучающая:валидационная - '\n",
    "      f'{features_cipher_train.shape[0]}:{features_ciphe_test.shape[0]}')"
   ]
  },
  {
   "cell_type": "markdown",
   "metadata": {},
   "source": [
    "Обучем модель на новых данных"
   ]
  },
  {
   "cell_type": "code",
   "execution_count": 18,
   "metadata": {},
   "outputs": [
    {
     "name": "stdout",
     "output_type": "stream",
     "text": [
      "R2 = 0.43523\n",
      "w-vector coef [-0.0368379  -0.00933469  0.00583404  0.02045557]\n"
     ]
    }
   ],
   "source": [
    "model.fit(features_cipher_train, target_train)\n",
    "prediction_cipher = model.predict(features_ciphe_test)\n",
    "R2_cipher = r2_score(target_test, prediction_cipher)\n",
    "print(f'R2 = {R2_cipher:.5f}')\n",
    "print('w-vector coef', model.coef_)"
   ]
  },
  {
   "cell_type": "markdown",
   "metadata": {},
   "source": [
    "Произведём сравнение качества моделей до и после преобразования"
   ]
  },
  {
   "cell_type": "code",
   "execution_count": 19,
   "metadata": {},
   "outputs": [
    {
     "data": {
      "text/html": [
       "<div>\n",
       "<style scoped>\n",
       "    .dataframe tbody tr th:only-of-type {\n",
       "        vertical-align: middle;\n",
       "    }\n",
       "\n",
       "    .dataframe tbody tr th {\n",
       "        vertical-align: top;\n",
       "    }\n",
       "\n",
       "    .dataframe thead th {\n",
       "        text-align: right;\n",
       "    }\n",
       "</style>\n",
       "<table border=\"1\" class=\"dataframe\">\n",
       "  <thead>\n",
       "    <tr style=\"text-align: right;\">\n",
       "      <th></th>\n",
       "      <th>R2</th>\n",
       "    </tr>\n",
       "  </thead>\n",
       "  <tbody>\n",
       "    <tr>\n",
       "      <th>Линейная регрессия с исходными данными</th>\n",
       "      <td>0.435228</td>\n",
       "    </tr>\n",
       "    <tr>\n",
       "      <th>Линейная регрессия на преобразованных признаках</th>\n",
       "      <td>0.435228</td>\n",
       "    </tr>\n",
       "  </tbody>\n",
       "</table>\n",
       "</div>"
      ],
      "text/plain": [
       "                                                       R2\n",
       "Линейная регрессия с исходными данными           0.435228\n",
       "Линейная регрессия на преобразованных признаках  0.435228"
      ]
     },
     "execution_count": 19,
     "metadata": {},
     "output_type": "execute_result"
    }
   ],
   "source": [
    "result = pd.DataFrame(data= [R2_origin, R2_cipher], \n",
    "                     columns=['R2'], \n",
    "                     index=['Линейная регрессия с исходными данными',\n",
    "                            'Линейная регрессия на преобразованных признаках',])\n",
    "result"
   ]
  },
  {
   "cell_type": "markdown",
   "metadata": {},
   "source": [
    "**Вывод**\n",
    "* Качество линейной регресии не изменилось от использования исходной матрицы, умноженную на обратимую;\n",
    "* Данный метод можно использовать для шифрования данных."
   ]
  }
 ],
 "metadata": {
  "ExecuteTimeLog": [
   {
    "duration": 400,
    "start_time": "2022-06-28T09:33:42.417Z"
   },
   {
    "duration": 88,
    "start_time": "2022-06-28T09:35:34.894Z"
   },
   {
    "duration": 19,
    "start_time": "2022-06-28T09:36:17.492Z"
   },
   {
    "duration": 22,
    "start_time": "2022-06-28T09:36:46.245Z"
   },
   {
    "duration": 7,
    "start_time": "2022-06-28T09:45:20.881Z"
   },
   {
    "duration": 762,
    "start_time": "2022-06-28T09:45:54.590Z"
   },
   {
    "duration": 3,
    "start_time": "2022-06-28T09:46:03.389Z"
   },
   {
    "duration": 192,
    "start_time": "2022-06-28T09:46:06.499Z"
   },
   {
    "duration": 212,
    "start_time": "2022-06-28T09:47:47.221Z"
   },
   {
    "duration": 208,
    "start_time": "2022-06-28T09:48:05.823Z"
   },
   {
    "duration": 258,
    "start_time": "2022-06-28T09:48:43.455Z"
   },
   {
    "duration": 8,
    "start_time": "2022-06-28T09:49:15.586Z"
   },
   {
    "duration": 7,
    "start_time": "2022-06-28T09:49:44.583Z"
   },
   {
    "duration": 744,
    "start_time": "2022-06-28T09:56:04.510Z"
   },
   {
    "duration": 63,
    "start_time": "2022-06-28T10:05:07.082Z"
   },
   {
    "duration": 4,
    "start_time": "2022-06-28T10:05:51.701Z"
   },
   {
    "duration": 13,
    "start_time": "2022-06-28T10:05:59.552Z"
   },
   {
    "duration": 5,
    "start_time": "2022-06-28T10:06:05.457Z"
   },
   {
    "duration": 7,
    "start_time": "2022-06-28T10:06:06.376Z"
   },
   {
    "duration": 11,
    "start_time": "2022-06-28T10:08:52.982Z"
   },
   {
    "duration": 6,
    "start_time": "2022-06-28T10:09:33.941Z"
   },
   {
    "duration": 4,
    "start_time": "2022-06-28T10:09:57.110Z"
   },
   {
    "duration": 10,
    "start_time": "2022-06-28T10:10:02.381Z"
   },
   {
    "duration": 10,
    "start_time": "2022-06-28T10:10:34.142Z"
   },
   {
    "duration": 9,
    "start_time": "2022-06-28T10:11:31.082Z"
   },
   {
    "duration": 13,
    "start_time": "2022-06-28T10:12:48.099Z"
   },
   {
    "duration": 6,
    "start_time": "2022-06-28T10:12:58.622Z"
   },
   {
    "duration": 4,
    "start_time": "2022-06-28T10:24:28.303Z"
   },
   {
    "duration": 6,
    "start_time": "2022-06-28T10:24:34.243Z"
   },
   {
    "duration": 3,
    "start_time": "2022-06-28T10:25:19.651Z"
   },
   {
    "duration": 6,
    "start_time": "2022-06-28T10:26:10.222Z"
   },
   {
    "duration": 11,
    "start_time": "2022-06-28T10:26:40.675Z"
   },
   {
    "duration": 7,
    "start_time": "2022-06-28T10:26:55.691Z"
   },
   {
    "duration": 5,
    "start_time": "2022-06-28T10:27:09.603Z"
   },
   {
    "duration": 10,
    "start_time": "2022-06-28T10:27:55.024Z"
   },
   {
    "duration": 6,
    "start_time": "2022-06-28T10:28:34.677Z"
   },
   {
    "duration": 5,
    "start_time": "2022-06-28T10:28:44.522Z"
   },
   {
    "duration": 5,
    "start_time": "2022-06-28T10:28:55.103Z"
   },
   {
    "duration": 7,
    "start_time": "2022-06-28T10:28:55.795Z"
   },
   {
    "duration": 6,
    "start_time": "2022-06-28T10:28:56.785Z"
   },
   {
    "duration": 4,
    "start_time": "2022-06-28T10:29:24.623Z"
   },
   {
    "duration": 1546,
    "start_time": "2022-06-29T09:54:27.661Z"
   },
   {
    "duration": 64,
    "start_time": "2022-06-29T09:54:29.209Z"
   },
   {
    "duration": 11,
    "start_time": "2022-06-29T09:54:29.275Z"
   },
   {
    "duration": 16,
    "start_time": "2022-06-29T09:54:29.288Z"
   },
   {
    "duration": 17,
    "start_time": "2022-06-29T09:54:29.305Z"
   },
   {
    "duration": 169,
    "start_time": "2022-06-29T09:54:29.329Z"
   },
   {
    "duration": 181,
    "start_time": "2022-06-29T09:54:29.500Z"
   },
   {
    "duration": 5,
    "start_time": "2022-06-29T09:54:29.683Z"
   },
   {
    "duration": 14,
    "start_time": "2022-06-29T09:54:29.690Z"
   },
   {
    "duration": 6,
    "start_time": "2022-06-29T09:54:29.706Z"
   },
   {
    "duration": 58,
    "start_time": "2022-06-29T09:54:29.730Z"
   },
   {
    "duration": 7,
    "start_time": "2022-06-29T09:54:42.781Z"
   },
   {
    "duration": 3,
    "start_time": "2022-06-29T09:54:46.501Z"
   },
   {
    "duration": 4,
    "start_time": "2022-06-29T09:55:08.876Z"
   },
   {
    "duration": 6,
    "start_time": "2022-06-29T09:55:12.561Z"
   },
   {
    "duration": 4,
    "start_time": "2022-06-29T09:55:19.249Z"
   },
   {
    "duration": 11,
    "start_time": "2022-06-29T10:01:14.680Z"
   },
   {
    "duration": 63,
    "start_time": "2022-06-29T10:01:47.401Z"
   },
   {
    "duration": 11,
    "start_time": "2022-06-29T10:02:56.181Z"
   },
   {
    "duration": 10,
    "start_time": "2022-06-29T10:03:09.460Z"
   },
   {
    "duration": 10,
    "start_time": "2022-06-29T10:03:13.280Z"
   },
   {
    "duration": 3,
    "start_time": "2022-06-29T10:11:12.080Z"
   },
   {
    "duration": 3,
    "start_time": "2022-06-29T10:12:37.419Z"
   },
   {
    "duration": 5,
    "start_time": "2022-06-29T10:12:38.067Z"
   },
   {
    "duration": 5,
    "start_time": "2022-06-29T10:13:18.679Z"
   },
   {
    "duration": 108,
    "start_time": "2022-06-29T10:15:12.939Z"
   },
   {
    "duration": 9,
    "start_time": "2022-06-29T10:15:39.327Z"
   },
   {
    "duration": 18,
    "start_time": "2022-06-29T10:17:08.511Z"
   },
   {
    "duration": 15,
    "start_time": "2022-06-29T10:17:18.779Z"
   },
   {
    "duration": 10,
    "start_time": "2022-06-29T10:56:43.134Z"
   },
   {
    "duration": 7,
    "start_time": "2022-06-29T10:56:50.435Z"
   },
   {
    "duration": 5,
    "start_time": "2022-06-29T10:56:51.086Z"
   },
   {
    "duration": 3,
    "start_time": "2022-06-29T10:57:17.595Z"
   },
   {
    "duration": 10,
    "start_time": "2022-06-29T10:59:38.283Z"
   },
   {
    "duration": 8,
    "start_time": "2022-06-29T11:02:12.135Z"
   },
   {
    "duration": 51,
    "start_time": "2022-06-29T11:12:41.592Z"
   },
   {
    "duration": 6,
    "start_time": "2022-06-29T11:12:50.782Z"
   },
   {
    "duration": 7,
    "start_time": "2022-06-29T11:14:04.809Z"
   },
   {
    "duration": 1365,
    "start_time": "2022-06-29T11:18:15.217Z"
   },
   {
    "duration": 18,
    "start_time": "2022-06-29T11:18:16.584Z"
   },
   {
    "duration": 11,
    "start_time": "2022-06-29T11:18:16.604Z"
   },
   {
    "duration": 12,
    "start_time": "2022-06-29T11:18:16.616Z"
   },
   {
    "duration": 6,
    "start_time": "2022-06-29T11:18:16.630Z"
   },
   {
    "duration": 170,
    "start_time": "2022-06-29T11:18:16.638Z"
   },
   {
    "duration": 180,
    "start_time": "2022-06-29T11:18:16.811Z"
   },
   {
    "duration": 6,
    "start_time": "2022-06-29T11:18:16.992Z"
   },
   {
    "duration": 19,
    "start_time": "2022-06-29T11:18:16.999Z"
   },
   {
    "duration": 17,
    "start_time": "2022-06-29T11:18:17.022Z"
   },
   {
    "duration": 18,
    "start_time": "2022-06-29T11:18:17.041Z"
   },
   {
    "duration": 22,
    "start_time": "2022-06-29T11:18:17.061Z"
   },
   {
    "duration": 20,
    "start_time": "2022-06-29T11:18:17.085Z"
   },
   {
    "duration": 19,
    "start_time": "2022-06-29T11:18:17.108Z"
   },
   {
    "duration": 6,
    "start_time": "2022-06-29T11:18:17.129Z"
   },
   {
    "duration": 25,
    "start_time": "2022-06-29T11:18:17.137Z"
   },
   {
    "duration": 5,
    "start_time": "2022-06-29T11:18:17.164Z"
   },
   {
    "duration": 11,
    "start_time": "2022-06-29T11:18:17.171Z"
   },
   {
    "duration": 7,
    "start_time": "2022-06-29T11:18:17.184Z"
   },
   {
    "duration": 1278,
    "start_time": "2022-06-30T06:06:40.964Z"
   },
   {
    "duration": 46,
    "start_time": "2022-06-30T06:06:42.244Z"
   },
   {
    "duration": 10,
    "start_time": "2022-06-30T06:06:42.291Z"
   },
   {
    "duration": 12,
    "start_time": "2022-06-30T06:06:42.302Z"
   },
   {
    "duration": 4,
    "start_time": "2022-06-30T06:06:42.316Z"
   },
   {
    "duration": 125,
    "start_time": "2022-06-30T06:06:42.322Z"
   },
   {
    "duration": 143,
    "start_time": "2022-06-30T06:06:42.450Z"
   },
   {
    "duration": 5,
    "start_time": "2022-06-30T06:06:42.594Z"
   },
   {
    "duration": 6,
    "start_time": "2022-06-30T06:06:42.600Z"
   },
   {
    "duration": 6,
    "start_time": "2022-06-30T06:06:42.608Z"
   },
   {
    "duration": 4,
    "start_time": "2022-06-30T06:06:42.615Z"
   },
   {
    "duration": 6,
    "start_time": "2022-06-30T06:06:42.620Z"
   },
   {
    "duration": 24,
    "start_time": "2022-06-30T06:06:42.627Z"
   },
   {
    "duration": 8,
    "start_time": "2022-06-30T06:06:42.653Z"
   },
   {
    "duration": 3,
    "start_time": "2022-06-30T06:06:42.662Z"
   },
   {
    "duration": 14,
    "start_time": "2022-06-30T06:06:42.666Z"
   },
   {
    "duration": 5,
    "start_time": "2022-06-30T06:06:42.681Z"
   },
   {
    "duration": 8,
    "start_time": "2022-06-30T06:06:42.687Z"
   },
   {
    "duration": 6,
    "start_time": "2022-06-30T06:06:42.696Z"
   }
  ],
  "kernelspec": {
   "display_name": "Python 3 (ipykernel)",
   "language": "python",
   "name": "python3"
  },
  "language_info": {
   "codemirror_mode": {
    "name": "ipython",
    "version": 3
   },
   "file_extension": ".py",
   "mimetype": "text/x-python",
   "name": "python",
   "nbconvert_exporter": "python",
   "pygments_lexer": "ipython3",
   "version": "3.9.12"
  },
  "toc": {
   "base_numbering": 1,
   "nav_menu": {},
   "number_sections": true,
   "sideBar": true,
   "skip_h1_title": true,
   "title_cell": "Содержание",
   "title_sidebar": "Contents",
   "toc_cell": true,
   "toc_position": {
    "height": "calc(100% - 180px)",
    "left": "10px",
    "top": "150px",
    "width": "366.391px"
   },
   "toc_section_display": true,
   "toc_window_display": true
  }
 },
 "nbformat": 4,
 "nbformat_minor": 2
}
