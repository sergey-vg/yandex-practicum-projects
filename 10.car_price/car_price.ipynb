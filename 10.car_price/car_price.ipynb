{
 "cells": [
  {
   "cell_type": "markdown",
   "metadata": {},
   "source": [
    "# Определение стоимости автомобилей"
   ]
  },
  {
   "cell_type": "markdown",
   "metadata": {},
   "source": [
    "Сервис по продаже автомобилей с пробегом «Не бит, не крашен» разрабатывает приложение для привлечения новых клиентов. В нём можно быстро узнать рыночную стоимость своего автомобиля. В вашем распоряжении исторические данные: технические характеристики, комплектации и цены автомобилей. Нам нужно построить модель для определения стоимости. \n",
    "\n",
    "Заказчику важны:\n",
    "\n",
    "- качество предсказания;\n",
    "- скорость предсказания;\n",
    "- время обучения."
   ]
  },
  {
   "cell_type": "markdown",
   "metadata": {},
   "source": [
    "## Подготовка данных"
   ]
  },
  {
   "cell_type": "code",
   "execution_count": 1,
   "metadata": {},
   "outputs": [],
   "source": [
    "import pandas as pd\n",
    "import numpy as np\n",
    "import matplotlib.pyplot as plt\n",
    "from sklearn.model_selection import train_test_split, GridSearchCV\n",
    "from sklearn.linear_model import LinearRegression\n",
    "from sklearn.ensemble import RandomForestRegressor\n",
    "from sklearn.linear_model import Ridge\n",
    "from sklearn.tree import DecisionTreeRegressor\n",
    "from sklearn.metrics import mean_squared_error\n",
    "from lightgbm import LGBMRegressor\n",
    "from catboost import CatBoostRegressor\n",
    "from datetime import datetime"
   ]
  },
  {
   "cell_type": "markdown",
   "metadata": {},
   "source": [
    "Открываем файлы и сохраняем данные в датафреймы"
   ]
  },
  {
   "cell_type": "code",
   "execution_count": 2,
   "metadata": {},
   "outputs": [],
   "source": [
    "df = pd.read_csv('./datasets/autos.csv')"
   ]
  },
  {
   "cell_type": "markdown",
   "metadata": {},
   "source": [
    "## Предобработка и исследовательский анализ данных"
   ]
  },
  {
   "cell_type": "code",
   "execution_count": 3,
   "metadata": {},
   "outputs": [
    {
     "name": "stdout",
     "output_type": "stream",
     "text": [
      "<class 'pandas.core.frame.DataFrame'>\n",
      "RangeIndex: 354369 entries, 0 to 354368\n",
      "Data columns (total 16 columns):\n",
      " #   Column             Non-Null Count   Dtype \n",
      "---  ------             --------------   ----- \n",
      " 0   DateCrawled        354369 non-null  object\n",
      " 1   Price              354369 non-null  int64 \n",
      " 2   VehicleType        316879 non-null  object\n",
      " 3   RegistrationYear   354369 non-null  int64 \n",
      " 4   Gearbox            334536 non-null  object\n",
      " 5   Power              354369 non-null  int64 \n",
      " 6   Model              334664 non-null  object\n",
      " 7   Kilometer          354369 non-null  int64 \n",
      " 8   RegistrationMonth  354369 non-null  int64 \n",
      " 9   FuelType           321474 non-null  object\n",
      " 10  Brand              354369 non-null  object\n",
      " 11  NotRepaired        283215 non-null  object\n",
      " 12  DateCreated        354369 non-null  object\n",
      " 13  NumberOfPictures   354369 non-null  int64 \n",
      " 14  PostalCode         354369 non-null  int64 \n",
      " 15  LastSeen           354369 non-null  object\n",
      "dtypes: int64(7), object(9)\n",
      "memory usage: 43.3+ MB\n"
     ]
    }
   ],
   "source": [
    "df.info()"
   ]
  },
  {
   "cell_type": "markdown",
   "metadata": {},
   "source": [
    "***Описание данных***\n",
    "\n",
    "Признаки:\n",
    "\n",
    "* `DateCrawled` — дата скачивания анкеты из базы;\n",
    "* `VehicleType` — тип автомобильного кузова;\n",
    "* `RegistrationYear` — год регистрации автомобиля;\n",
    "* `Gearbox` — тип коробки передач;\n",
    "* `Power` — мощность (л. с.);\n",
    "* `Model` — модель автомобиля;\n",
    "* `Kilometer` — пробег (км);\n",
    "* `RegistrationMonth` — месяц регистрации автомобиля;\n",
    "* `FuelType` — тип топлива;\n",
    "* `Brand` — марка автомобиля;\n",
    "* `NotRepaired` — была машина в ремонте или нет;\n",
    "* `DateCreated` — дата создания анкеты;\n",
    "* `NumberOfPictures` — количество фотографий автомобиля;\n",
    "* `PostalCode` — почтовый индекс владельца анкеты (пользователя);\n",
    "* `LastSeen` — дата последней активности пользователя.\n",
    "\n",
    "Целевой признак:\n",
    "\n",
    "* `Price` — цена (евро)."
   ]
  },
  {
   "cell_type": "markdown",
   "metadata": {},
   "source": [
    "Удалим лишние признаки, которые не влияют на стоимость автомобиля: `DateCrawled` — дата скачивания анкеты из базы, `DateCreated` — дата создания анкеты, `PostalCode` — почтовый индекс владельца анкеты (пользователя), `LastSeen` — дата последней активности пользователя."
   ]
  },
  {
   "cell_type": "code",
   "execution_count": 4,
   "metadata": {},
   "outputs": [],
   "source": [
    "df.drop(['DateCrawled','DateCreated','PostalCode','LastSeen'], inplace=True, axis=1)"
   ]
  },
  {
   "cell_type": "code",
   "execution_count": 5,
   "metadata": {
    "scrolled": false
   },
   "outputs": [
    {
     "data": {
      "text/html": [
       "<div>\n",
       "<style scoped>\n",
       "    .dataframe tbody tr th:only-of-type {\n",
       "        vertical-align: middle;\n",
       "    }\n",
       "\n",
       "    .dataframe tbody tr th {\n",
       "        vertical-align: top;\n",
       "    }\n",
       "\n",
       "    .dataframe thead th {\n",
       "        text-align: right;\n",
       "    }\n",
       "</style>\n",
       "<table border=\"1\" class=\"dataframe\">\n",
       "  <thead>\n",
       "    <tr style=\"text-align: right;\">\n",
       "      <th></th>\n",
       "      <th>Price</th>\n",
       "      <th>VehicleType</th>\n",
       "      <th>RegistrationYear</th>\n",
       "      <th>Gearbox</th>\n",
       "      <th>Power</th>\n",
       "      <th>Model</th>\n",
       "      <th>Kilometer</th>\n",
       "      <th>RegistrationMonth</th>\n",
       "      <th>FuelType</th>\n",
       "      <th>Brand</th>\n",
       "      <th>NotRepaired</th>\n",
       "      <th>NumberOfPictures</th>\n",
       "    </tr>\n",
       "  </thead>\n",
       "  <tbody>\n",
       "    <tr>\n",
       "      <th>0</th>\n",
       "      <td>480</td>\n",
       "      <td>NaN</td>\n",
       "      <td>1993</td>\n",
       "      <td>manual</td>\n",
       "      <td>0</td>\n",
       "      <td>golf</td>\n",
       "      <td>150000</td>\n",
       "      <td>0</td>\n",
       "      <td>petrol</td>\n",
       "      <td>volkswagen</td>\n",
       "      <td>NaN</td>\n",
       "      <td>0</td>\n",
       "    </tr>\n",
       "    <tr>\n",
       "      <th>1</th>\n",
       "      <td>18300</td>\n",
       "      <td>coupe</td>\n",
       "      <td>2011</td>\n",
       "      <td>manual</td>\n",
       "      <td>190</td>\n",
       "      <td>NaN</td>\n",
       "      <td>125000</td>\n",
       "      <td>5</td>\n",
       "      <td>gasoline</td>\n",
       "      <td>audi</td>\n",
       "      <td>yes</td>\n",
       "      <td>0</td>\n",
       "    </tr>\n",
       "    <tr>\n",
       "      <th>2</th>\n",
       "      <td>9800</td>\n",
       "      <td>suv</td>\n",
       "      <td>2004</td>\n",
       "      <td>auto</td>\n",
       "      <td>163</td>\n",
       "      <td>grand</td>\n",
       "      <td>125000</td>\n",
       "      <td>8</td>\n",
       "      <td>gasoline</td>\n",
       "      <td>jeep</td>\n",
       "      <td>NaN</td>\n",
       "      <td>0</td>\n",
       "    </tr>\n",
       "    <tr>\n",
       "      <th>3</th>\n",
       "      <td>1500</td>\n",
       "      <td>small</td>\n",
       "      <td>2001</td>\n",
       "      <td>manual</td>\n",
       "      <td>75</td>\n",
       "      <td>golf</td>\n",
       "      <td>150000</td>\n",
       "      <td>6</td>\n",
       "      <td>petrol</td>\n",
       "      <td>volkswagen</td>\n",
       "      <td>no</td>\n",
       "      <td>0</td>\n",
       "    </tr>\n",
       "    <tr>\n",
       "      <th>4</th>\n",
       "      <td>3600</td>\n",
       "      <td>small</td>\n",
       "      <td>2008</td>\n",
       "      <td>manual</td>\n",
       "      <td>69</td>\n",
       "      <td>fabia</td>\n",
       "      <td>90000</td>\n",
       "      <td>7</td>\n",
       "      <td>gasoline</td>\n",
       "      <td>skoda</td>\n",
       "      <td>no</td>\n",
       "      <td>0</td>\n",
       "    </tr>\n",
       "  </tbody>\n",
       "</table>\n",
       "</div>"
      ],
      "text/plain": [
       "   Price VehicleType  RegistrationYear Gearbox  Power  Model  Kilometer  \\\n",
       "0    480         NaN              1993  manual      0   golf     150000   \n",
       "1  18300       coupe              2011  manual    190    NaN     125000   \n",
       "2   9800         suv              2004    auto    163  grand     125000   \n",
       "3   1500       small              2001  manual     75   golf     150000   \n",
       "4   3600       small              2008  manual     69  fabia      90000   \n",
       "\n",
       "   RegistrationMonth  FuelType       Brand NotRepaired  NumberOfPictures  \n",
       "0                  0    petrol  volkswagen         NaN                 0  \n",
       "1                  5  gasoline        audi         yes                 0  \n",
       "2                  8  gasoline        jeep         NaN                 0  \n",
       "3                  6    petrol  volkswagen          no                 0  \n",
       "4                  7  gasoline       skoda          no                 0  "
      ]
     },
     "execution_count": 5,
     "metadata": {},
     "output_type": "execute_result"
    }
   ],
   "source": [
    "df.head()"
   ]
  },
  {
   "cell_type": "code",
   "execution_count": 6,
   "metadata": {
    "scrolled": true
   },
   "outputs": [
    {
     "name": "stdout",
     "output_type": "stream",
     "text": [
      "Количество пропусков в каждом столбце:\n"
     ]
    },
    {
     "data": {
      "text/plain": [
       "Price                 0.00% \n",
       "VehicleType          10.58% \n",
       "RegistrationYear      0.00% \n",
       "Gearbox               5.60% \n",
       "Power                 0.00% \n",
       "Model                 5.56% \n",
       "Kilometer             0.00% \n",
       "RegistrationMonth     0.00% \n",
       "FuelType              9.28% \n",
       "Brand                 0.00% \n",
       "NotRepaired          20.08% \n",
       "NumberOfPictures      0.00% \n",
       "dtype: object"
      ]
     },
     "execution_count": 6,
     "metadata": {},
     "output_type": "execute_result"
    }
   ],
   "source": [
    "print('Количество пропусков в каждом столбце:') \n",
    "df.isna().agg(lambda x: '{:.2%} '.format(x.mean()))"
   ]
  },
  {
   "cell_type": "markdown",
   "metadata": {},
   "source": [
    "* В пяти столбцах большой процент пропусков данных от 5 до 20 %, удалив их, потерям значительную часть данных, поэтому поместим их в специальную группу \"unknown\""
   ]
  },
  {
   "cell_type": "code",
   "execution_count": 7,
   "metadata": {},
   "outputs": [
    {
     "name": "stdout",
     "output_type": "stream",
     "text": [
      "Количество пропусков в каждом столбце:\n"
     ]
    },
    {
     "data": {
      "text/plain": [
       "Price                 0.00% \n",
       "VehicleType          10.58% \n",
       "RegistrationYear      0.00% \n",
       "Gearbox               5.60% \n",
       "Power                 0.00% \n",
       "Model                 5.56% \n",
       "Kilometer             0.00% \n",
       "RegistrationMonth     0.00% \n",
       "FuelType              9.28% \n",
       "Brand                 0.00% \n",
       "NotRepaired          20.08% \n",
       "NumberOfPictures      0.00% \n",
       "dtype: object"
      ]
     },
     "execution_count": 7,
     "metadata": {},
     "output_type": "execute_result"
    }
   ],
   "source": [
    "print('Количество пропусков в каждом столбце:') \n",
    "df.isna().agg(lambda x: '{:.2%} '.format(x.mean()))"
   ]
  },
  {
   "cell_type": "markdown",
   "metadata": {},
   "source": [
    "* Всё пропуски удалены"
   ]
  },
  {
   "cell_type": "code",
   "execution_count": 8,
   "metadata": {},
   "outputs": [],
   "source": [
    "df[['VehicleType', 'Gearbox', 'Model', 'FuelType', 'NotRepaired']] = \\\n",
    "    df[['VehicleType', 'Gearbox', 'Model', 'FuelType', 'NotRepaired']].fillna('unknown')"
   ]
  },
  {
   "cell_type": "markdown",
   "metadata": {},
   "source": [
    "Проверим ключевой признак и признаки, на корректность данных"
   ]
  },
  {
   "cell_type": "code",
   "execution_count": 9,
   "metadata": {
    "scrolled": true
   },
   "outputs": [
    {
     "data": {
      "image/png": "[encoded data removed]",
      "text/plain": [
       "<Figure size 720x360 with 1 Axes>"
      ]
     },
     "metadata": {
      "needs_background": "light"
     },
     "output_type": "display_data"
    }
   ],
   "source": [
    "df['Price'].hist(figsize=(10, 5), grid=True, bins=20)\n",
    "plt.xlabel(\"Стоимость автомобиля\")\n",
    "plt.ylabel(\"Кол-во записей\")\n",
    "plt.title(\"Стоимость автомобиля\")\n",
    "plt.show()    "
   ]
  },
  {
   "cell_type": "markdown",
   "metadata": {},
   "source": [
    "* Удалим строки с нереалистичной ценой, меньше 100 евро"
   ]
  },
  {
   "cell_type": "code",
   "execution_count": 10,
   "metadata": {},
   "outputs": [],
   "source": [
    "df = df.query('Price > 100')"
   ]
  },
  {
   "cell_type": "code",
   "execution_count": 11,
   "metadata": {
    "scrolled": true
   },
   "outputs": [
    {
     "data": {
      "image/png": "[encoded data removed]",
      "text/plain": [
       "<Figure size 720x360 with 1 Axes>"
      ]
     },
     "metadata": {
      "needs_background": "light"
     },
     "output_type": "display_data"
    }
   ],
   "source": [
    "df['Price'].hist(figsize=(10, 5), grid=True, bins=20)\n",
    "plt.xlabel(\"Стоимость автомобиля\")\n",
    "plt.ylabel(\"Кол-во записей\")\n",
    "plt.title(\"Стоимость автомобиля\")\n",
    "plt.show()    "
   ]
  },
  {
   "cell_type": "code",
   "execution_count": 12,
   "metadata": {},
   "outputs": [
    {
     "data": {
      "text/plain": [
       "count    340024.000000\n",
       "mean       4602.471902\n",
       "std        4514.902742\n",
       "min         101.000000\n",
       "25%        1200.000000\n",
       "50%        2900.000000\n",
       "75%        6500.000000\n",
       "max       20000.000000\n",
       "Name: Price, dtype: float64"
      ]
     },
     "execution_count": 12,
     "metadata": {},
     "output_type": "execute_result"
    }
   ],
   "source": [
    "df['Price'].describe()  "
   ]
  },
  {
   "cell_type": "markdown",
   "metadata": {},
   "source": [
    "* Данные корректны"
   ]
  },
  {
   "cell_type": "code",
   "execution_count": 13,
   "metadata": {},
   "outputs": [
    {
     "data": {
      "text/plain": [
       "sedan          88965\n",
       "small          77029\n",
       "wagon          63384\n",
       "unknown        32251\n",
       "bus            28256\n",
       "convertible    19807\n",
       "coupe          15534\n",
       "suv            11758\n",
       "other           3040\n",
       "Name: VehicleType, dtype: int64"
      ]
     },
     "execution_count": 13,
     "metadata": {},
     "output_type": "execute_result"
    }
   ],
   "source": [
    "df['VehicleType'].value_counts()"
   ]
  },
  {
   "cell_type": "markdown",
   "metadata": {},
   "source": [
    "* Данные корректны"
   ]
  },
  {
   "cell_type": "markdown",
   "metadata": {},
   "source": [
    "Отобразим данные года регистрации автомобиля, в реалистичном диапазоне с 1900 г. по 2022 г."
   ]
  },
  {
   "cell_type": "code",
   "execution_count": 14,
   "metadata": {
    "scrolled": true
   },
   "outputs": [
    {
     "data": {
      "image/png": "[encoded data removed]",
      "text/plain": [
       "<Figure size 720x360 with 1 Axes>"
      ]
     },
     "metadata": {
      "needs_background": "light"
     },
     "output_type": "display_data"
    }
   ],
   "source": [
    "df.query('1900 < RegistrationYear < 2022')['RegistrationYear'].hist(figsize=(10, 5), grid=True, bins=20)\n",
    "plt.xlabel(\"Год\")\n",
    "plt.ylabel(\"Кол-во записей\")\n",
    "plt.title(\"Год регистрации автомобиля\")\n",
    "plt.show()    "
   ]
  },
  {
   "cell_type": "markdown",
   "metadata": {},
   "source": [
    "* Удалим выбросы, год регестрации автомобиля до 1960 г. и после 2022 г."
   ]
  },
  {
   "cell_type": "code",
   "execution_count": 15,
   "metadata": {},
   "outputs": [],
   "source": [
    "df = df.query('1960 < RegistrationYear < 2022')"
   ]
  },
  {
   "cell_type": "code",
   "execution_count": 16,
   "metadata": {
    "scrolled": true
   },
   "outputs": [
    {
     "data": {
      "image/png": "[encoded data removed]",
      "text/plain": [
       "<Figure size 720x360 with 1 Axes>"
      ]
     },
     "metadata": {
      "needs_background": "light"
     },
     "output_type": "display_data"
    }
   ],
   "source": [
    "df['RegistrationYear'].hist(figsize=(10, 5), grid=True, bins=20)\n",
    "plt.xlabel(\"Год\")\n",
    "plt.ylabel(\"Кол-во записей\")\n",
    "plt.title(\"Год регистрации автомобиля\")\n",
    "plt.show()    "
   ]
  },
  {
   "cell_type": "markdown",
   "metadata": {},
   "source": [
    "* Данные корректны"
   ]
  },
  {
   "cell_type": "markdown",
   "metadata": {},
   "source": [
    "Отобразим данные мощность (л.с.) автомобиля, в реалистичном диапазоне менее 500 л.с."
   ]
  },
  {
   "cell_type": "code",
   "execution_count": 17,
   "metadata": {
    "scrolled": true
   },
   "outputs": [
    {
     "data": {
      "image/png": "[encoded data removed]",
      "text/plain": [
       "<Figure size 720x360 with 1 Axes>"
      ]
     },
     "metadata": {
      "needs_background": "light"
     },
     "output_type": "display_data"
    }
   ],
   "source": [
    "df.query('Power < 500')['Power'].hist(figsize=(10, 5), grid=True)\n",
    "plt.xlabel(\"л.с.\")\n",
    "plt.ylabel(\"Кол-во записей\")\n",
    "plt.title(\"Мощность автомобиля\")\n",
    "plt.show()   "
   ]
  },
  {
   "cell_type": "markdown",
   "metadata": {},
   "source": [
    "* Обнаруженно много выбросов, особенно нулевых значений, видимо это пропущенные данные. Приравняем все выбросы к 0 (менее 40 л.с. и более 350 л.с.)"
   ]
  },
  {
   "cell_type": "code",
   "execution_count": 18,
   "metadata": {},
   "outputs": [],
   "source": [
    "df['Power'] = df['Power'].agg(lambda x: 0 if x<40 or x>350 else x)"
   ]
  },
  {
   "cell_type": "code",
   "execution_count": 19,
   "metadata": {
    "scrolled": true
   },
   "outputs": [
    {
     "data": {
      "image/png": "[encoded data removed]",
      "text/plain": [
       "<Figure size 720x360 with 1 Axes>"
      ]
     },
     "metadata": {
      "needs_background": "light"
     },
     "output_type": "display_data"
    }
   ],
   "source": [
    "df['Power'].hist(figsize=(10, 5), grid=True)\n",
    "plt.xlabel(\"л.с.\")\n",
    "plt.ylabel(\"Кол-во записей\")\n",
    "plt.title(\"Мощность автомобиля\")\n",
    "plt.show()   "
   ]
  },
  {
   "cell_type": "markdown",
   "metadata": {},
   "source": [
    "* Данные корректны"
   ]
  },
  {
   "cell_type": "code",
   "execution_count": 20,
   "metadata": {},
   "outputs": [
    {
     "data": {
      "text/plain": [
       "manual     259068\n",
       "auto        64593\n",
       "unknown     15877\n",
       "Name: Gearbox, dtype: int64"
      ]
     },
     "execution_count": 20,
     "metadata": {},
     "output_type": "execute_result"
    }
   ],
   "source": [
    "df['Gearbox'].value_counts()"
   ]
  },
  {
   "cell_type": "markdown",
   "metadata": {},
   "source": [
    "* Данные корректны"
   ]
  },
  {
   "cell_type": "code",
   "execution_count": 21,
   "metadata": {},
   "outputs": [
    {
     "data": {
      "text/plain": [
       "golf                  27976\n",
       "other                 23254\n",
       "3er                   19058\n",
       "unknown               16691\n",
       "polo                  12413\n",
       "                      ...  \n",
       "serie_2                   7\n",
       "rangerover                4\n",
       "serie_3                   3\n",
       "range_rover_evoque        2\n",
       "serie_1                   1\n",
       "Name: Model, Length: 251, dtype: int64"
      ]
     },
     "execution_count": 21,
     "metadata": {},
     "output_type": "execute_result"
    }
   ],
   "source": [
    "df['Model'].value_counts()"
   ]
  },
  {
   "cell_type": "markdown",
   "metadata": {},
   "source": [
    "* Данные корректны"
   ]
  },
  {
   "cell_type": "markdown",
   "metadata": {},
   "source": [
    "Для удобства разделим пробег автомобиля на тыс."
   ]
  },
  {
   "cell_type": "code",
   "execution_count": 22,
   "metadata": {},
   "outputs": [],
   "source": [
    "df['Kilometer'] /= 1000"
   ]
  },
  {
   "cell_type": "code",
   "execution_count": 23,
   "metadata": {
    "scrolled": false
   },
   "outputs": [
    {
     "data": {
      "image/png": "[encoded data removed]",
      "text/plain": [
       "<Figure size 720x360 with 1 Axes>"
      ]
     },
     "metadata": {
      "needs_background": "light"
     },
     "output_type": "display_data"
    }
   ],
   "source": [
    "df['Kilometer'].hist(figsize=(10, 5), grid=True, bins=8)\n",
    "plt.xlabel(\"тыс. км.\")\n",
    "plt.ylabel(\"Кол-во записей\")\n",
    "plt.title(\"Пробег автомобиля\")\n",
    "plt.show()    "
   ]
  },
  {
   "cell_type": "markdown",
   "metadata": {},
   "source": [
    "* Данные корректны"
   ]
  },
  {
   "cell_type": "code",
   "execution_count": 24,
   "metadata": {},
   "outputs": [
    {
     "data": {
      "image/png": "[encoded data removed]",
      "text/plain": [
       "<Figure size 720x360 with 1 Axes>"
      ]
     },
     "metadata": {
      "needs_background": "light"
     },
     "output_type": "display_data"
    }
   ],
   "source": [
    "df['RegistrationMonth'].hist(figsize=(10, 5), grid=True, bins=13)\n",
    "plt.xlabel(\"Месяц\")\n",
    "plt.ylabel(\"Кол-во записей\")\n",
    "plt.title(\"Месяц регистрации автомобиля\")\n",
    "plt.show()    "
   ]
  },
  {
   "cell_type": "markdown",
   "metadata": {},
   "source": [
    "* Данные корректны"
   ]
  },
  {
   "cell_type": "code",
   "execution_count": 25,
   "metadata": {
    "scrolled": true
   },
   "outputs": [
    {
     "data": {
      "text/plain": [
       "petrol      208663\n",
       "gasoline     96892\n",
       "unknown      27817\n",
       "lpg           5154\n",
       "cng            548\n",
       "hybrid         226\n",
       "other          152\n",
       "electric        86\n",
       "Name: FuelType, dtype: int64"
      ]
     },
     "execution_count": 25,
     "metadata": {},
     "output_type": "execute_result"
    }
   ],
   "source": [
    "df['FuelType'].value_counts()"
   ]
  },
  {
   "cell_type": "markdown",
   "metadata": {},
   "source": [
    "* Данные корректны"
   ]
  },
  {
   "cell_type": "code",
   "execution_count": 26,
   "metadata": {
    "scrolled": true
   },
   "outputs": [
    {
     "data": {
      "text/plain": [
       "volkswagen        73632\n",
       "opel              37927\n",
       "bmw               35512\n",
       "mercedes_benz     31159\n",
       "audi              28388\n",
       "ford              24014\n",
       "renault           17126\n",
       "peugeot           10670\n",
       "fiat               9189\n",
       "seat               6650\n",
       "skoda              5415\n",
       "mazda              5414\n",
       "smart              5148\n",
       "citroen            4948\n",
       "nissan             4761\n",
       "toyota             4525\n",
       "hyundai            3512\n",
       "mini               3156\n",
       "volvo              3091\n",
       "mitsubishi         2894\n",
       "honda              2695\n",
       "sonstige_autos     2543\n",
       "kia                2391\n",
       "suzuki             2245\n",
       "alfa_romeo         2199\n",
       "chevrolet          1684\n",
       "chrysler           1343\n",
       "dacia               888\n",
       "daihatsu            753\n",
       "subaru              716\n",
       "porsche             699\n",
       "jeep                640\n",
       "land_rover          532\n",
       "daewoo              521\n",
       "saab                512\n",
       "jaguar              486\n",
       "trabant             453\n",
       "rover               451\n",
       "lancia              444\n",
       "lada                212\n",
       "Name: Brand, dtype: int64"
      ]
     },
     "execution_count": 26,
     "metadata": {},
     "output_type": "execute_result"
    }
   ],
   "source": [
    "df['Brand'].value_counts()"
   ]
  },
  {
   "cell_type": "markdown",
   "metadata": {},
   "source": [
    "* Данные корректны"
   ]
  },
  {
   "cell_type": "code",
   "execution_count": 27,
   "metadata": {
    "scrolled": true
   },
   "outputs": [
    {
     "data": {
      "text/plain": [
       "no         242885\n",
       "unknown     63612\n",
       "yes         33041\n",
       "Name: NotRepaired, dtype: int64"
      ]
     },
     "execution_count": 27,
     "metadata": {},
     "output_type": "execute_result"
    }
   ],
   "source": [
    "df['NotRepaired'].value_counts()"
   ]
  },
  {
   "cell_type": "markdown",
   "metadata": {},
   "source": [
    "* Данные корректны"
   ]
  },
  {
   "cell_type": "code",
   "execution_count": 28,
   "metadata": {
    "scrolled": true
   },
   "outputs": [
    {
     "data": {
      "text/plain": [
       "0    339538\n",
       "Name: NumberOfPictures, dtype: int64"
      ]
     },
     "execution_count": 28,
     "metadata": {},
     "output_type": "execute_result"
    }
   ],
   "source": [
    "df['NumberOfPictures'].value_counts()"
   ]
  },
  {
   "cell_type": "markdown",
   "metadata": {},
   "source": [
    "* все данные равны нулю, данный столбец не несёт смысловой нагрузки, удалим его. "
   ]
  },
  {
   "cell_type": "code",
   "execution_count": 29,
   "metadata": {},
   "outputs": [],
   "source": [
    "df.drop(['NumberOfPictures'], inplace=True, axis=1)"
   ]
  },
  {
   "cell_type": "markdown",
   "metadata": {},
   "source": [
    "Уменьшим размерность хранения типа для ускорения работы с дата фреймом."
   ]
  },
  {
   "cell_type": "code",
   "execution_count": 30,
   "metadata": {},
   "outputs": [],
   "source": [
    "df['RegistrationYear'] = pd.to_numeric(df['RegistrationYear'], downcast='integer')\n",
    "df['RegistrationMonth'] = pd.to_numeric(df['RegistrationMonth'], downcast='integer')\n",
    "df['Power'] = pd.to_numeric(df['Power'], downcast='integer')\n",
    "df['Kilometer'] = pd.to_numeric(df['Kilometer'], downcast='integer')\n",
    "df['Price'] = pd.to_numeric(df['Price'], downcast='integer')"
   ]
  },
  {
   "cell_type": "code",
   "execution_count": 31,
   "metadata": {},
   "outputs": [],
   "source": [
    "df = df.drop_duplicates()"
   ]
  },
  {
   "cell_type": "code",
   "execution_count": 32,
   "metadata": {
    "scrolled": true
   },
   "outputs": [
    {
     "name": "stdout",
     "output_type": "stream",
     "text": [
      "<class 'pandas.core.frame.DataFrame'>\n",
      "Int64Index: 313560 entries, 0 to 354368\n",
      "Data columns (total 11 columns):\n",
      " #   Column             Non-Null Count   Dtype \n",
      "---  ------             --------------   ----- \n",
      " 0   Price              313560 non-null  int16 \n",
      " 1   VehicleType        313560 non-null  object\n",
      " 2   RegistrationYear   313560 non-null  int16 \n",
      " 3   Gearbox            313560 non-null  object\n",
      " 4   Power              313560 non-null  int16 \n",
      " 5   Model              313560 non-null  object\n",
      " 6   Kilometer          313560 non-null  int16 \n",
      " 7   RegistrationMonth  313560 non-null  int8  \n",
      " 8   FuelType           313560 non-null  object\n",
      " 9   Brand              313560 non-null  object\n",
      " 10  NotRepaired        313560 non-null  object\n",
      "dtypes: int16(4), int8(1), object(6)\n",
      "memory usage: 19.4+ MB\n"
     ]
    }
   ],
   "source": [
    "df.info()"
   ]
  },
  {
   "cell_type": "markdown",
   "metadata": {},
   "source": [
    "Посмотрим матрицу корреляции"
   ]
  },
  {
   "cell_type": "code",
   "execution_count": 33,
   "metadata": {
    "scrolled": true
   },
   "outputs": [
    {
     "data": {
      "text/html": [
       "<div>\n",
       "<style scoped>\n",
       "    .dataframe tbody tr th:only-of-type {\n",
       "        vertical-align: middle;\n",
       "    }\n",
       "\n",
       "    .dataframe tbody tr th {\n",
       "        vertical-align: top;\n",
       "    }\n",
       "\n",
       "    .dataframe thead th {\n",
       "        text-align: right;\n",
       "    }\n",
       "</style>\n",
       "<table border=\"1\" class=\"dataframe\">\n",
       "  <thead>\n",
       "    <tr style=\"text-align: right;\">\n",
       "      <th></th>\n",
       "      <th>Price</th>\n",
       "      <th>RegistrationYear</th>\n",
       "      <th>Power</th>\n",
       "      <th>Kilometer</th>\n",
       "      <th>RegistrationMonth</th>\n",
       "    </tr>\n",
       "  </thead>\n",
       "  <tbody>\n",
       "    <tr>\n",
       "      <th>Price</th>\n",
       "      <td>1.000000</td>\n",
       "      <td>0.387387</td>\n",
       "      <td>0.467009</td>\n",
       "      <td>-0.356784</td>\n",
       "      <td>0.091417</td>\n",
       "    </tr>\n",
       "    <tr>\n",
       "      <th>RegistrationYear</th>\n",
       "      <td>0.387387</td>\n",
       "      <td>1.000000</td>\n",
       "      <td>0.099228</td>\n",
       "      <td>-0.209105</td>\n",
       "      <td>0.031673</td>\n",
       "    </tr>\n",
       "    <tr>\n",
       "      <th>Power</th>\n",
       "      <td>0.467009</td>\n",
       "      <td>0.099228</td>\n",
       "      <td>1.000000</td>\n",
       "      <td>0.082276</td>\n",
       "      <td>0.111773</td>\n",
       "    </tr>\n",
       "    <tr>\n",
       "      <th>Kilometer</th>\n",
       "      <td>-0.356784</td>\n",
       "      <td>-0.209105</td>\n",
       "      <td>0.082276</td>\n",
       "      <td>1.000000</td>\n",
       "      <td>-0.005160</td>\n",
       "    </tr>\n",
       "    <tr>\n",
       "      <th>RegistrationMonth</th>\n",
       "      <td>0.091417</td>\n",
       "      <td>0.031673</td>\n",
       "      <td>0.111773</td>\n",
       "      <td>-0.005160</td>\n",
       "      <td>1.000000</td>\n",
       "    </tr>\n",
       "  </tbody>\n",
       "</table>\n",
       "</div>"
      ],
      "text/plain": [
       "                      Price  RegistrationYear     Power  Kilometer  \\\n",
       "Price              1.000000          0.387387  0.467009  -0.356784   \n",
       "RegistrationYear   0.387387          1.000000  0.099228  -0.209105   \n",
       "Power              0.467009          0.099228  1.000000   0.082276   \n",
       "Kilometer         -0.356784         -0.209105  0.082276   1.000000   \n",
       "RegistrationMonth  0.091417          0.031673  0.111773  -0.005160   \n",
       "\n",
       "                   RegistrationMonth  \n",
       "Price                       0.091417  \n",
       "RegistrationYear            0.031673  \n",
       "Power                       0.111773  \n",
       "Kilometer                  -0.005160  \n",
       "RegistrationMonth           1.000000  "
      ]
     },
     "execution_count": 33,
     "metadata": {},
     "output_type": "execute_result"
    }
   ],
   "source": [
    "df.corr()"
   ]
  },
  {
   "cell_type": "markdown",
   "metadata": {},
   "source": [
    "Обнаружены следующие линейные зависимости:\n",
    "    \n",
    "`Price` (цена автомобиля):\n",
    "\n",
    "* Прямая линейная средняя зависимость (0,395) от года регистрации автомобиля;\n",
    "* Прямая линейная средняя зависимость (0,471) от мощности автомобиля;\n",
    "* Обратная линейная средняя зависимость (-0,363) от пробега автомобиля.\n",
    "\n",
    "`RegistrationYear` (Год регистрации автомобиля):\n",
    "\n",
    "* Обратная линейная слабая зависимость (0,218) от пробега автомобиля."
   ]
  },
  {
   "cell_type": "markdown",
   "metadata": {},
   "source": [
    "* Данные подготовлены, можно переходить к следующему этапу"
   ]
  },
  {
   "cell_type": "markdown",
   "metadata": {},
   "source": [
    "## Обучение моделей"
   ]
  },
  {
   "cell_type": "markdown",
   "metadata": {},
   "source": [
    "### Подготовка признаков"
   ]
  },
  {
   "cell_type": "markdown",
   "metadata": {},
   "source": [
    "Перемешаем данные для лучшего обучения модели"
   ]
  },
  {
   "cell_type": "code",
   "execution_count": 34,
   "metadata": {},
   "outputs": [],
   "source": [
    "df = df.sample(frac=1, random_state=12345)"
   ]
  },
  {
   "cell_type": "markdown",
   "metadata": {},
   "source": [
    "Создадим списки с категориальными и числовыми признаками"
   ]
  },
  {
   "cell_type": "code",
   "execution_count": 35,
   "metadata": {},
   "outputs": [],
   "source": [
    "str_columns = ['VehicleType','Gearbox','Model','FuelType','Brand', 'NotRepaired']\n",
    "number_columns = ['RegistrationYear','Power','Kilometer','RegistrationMonth']"
   ]
  },
  {
   "cell_type": "markdown",
   "metadata": {},
   "source": [
    "Заменим тип данных в категириальных признаках с `object` на `category` для корректной работы модели градиентного бустинга LightGBM"
   ]
  },
  {
   "cell_type": "code",
   "execution_count": 36,
   "metadata": {},
   "outputs": [],
   "source": [
    "for c in str_columns:\n",
    "    df[c] = df[c].astype('category')"
   ]
  },
  {
   "cell_type": "markdown",
   "metadata": {},
   "source": [
    "Создадим две выборки: признаки и ключевой признак"
   ]
  },
  {
   "cell_type": "code",
   "execution_count": 37,
   "metadata": {},
   "outputs": [],
   "source": [
    "features = df.drop('Price', axis=1)\n",
    "target = df['Price']"
   ]
  },
  {
   "cell_type": "markdown",
   "metadata": {},
   "source": [
    "Проведем OHE кодирование"
   ]
  },
  {
   "cell_type": "code",
   "execution_count": 38,
   "metadata": {},
   "outputs": [],
   "source": [
    "ohe_features = pd.get_dummies(features, drop_first=True)"
   ]
  },
  {
   "cell_type": "markdown",
   "metadata": {},
   "source": [
    "Разобьём выборки на тренировочные и тестовые"
   ]
  },
  {
   "cell_type": "code",
   "execution_count": 39,
   "metadata": {},
   "outputs": [],
   "source": [
    "ohe_features_train, ohe_features_test, features_train, features_test, \\\n",
    "    target_train, target_test = train_test_split(\n",
    "    ohe_features, features, target, test_size=0.25, random_state=12345)"
   ]
  },
  {
   "cell_type": "code",
   "execution_count": 40,
   "metadata": {
    "scrolled": true
   },
   "outputs": [
    {
     "name": "stdout",
     "output_type": "stream",
     "text": [
      "Итоговые размеры выборок , обучающая:валидационная - 235170:78390(3:1)\n"
     ]
    }
   ],
   "source": [
    "print(f'Итоговые размеры выборок , обучающая:валидационная - '\n",
    "      f'{target_train.count()}:{target_test.count()}' \n",
    "      f'({round(target_train.count()/target_test.count())}:1)')"
   ]
  },
  {
   "cell_type": "markdown",
   "metadata": {},
   "source": [
    "* Выборки готовы, можно приступать к обучению моделей"
   ]
  },
  {
   "cell_type": "markdown",
   "metadata": {},
   "source": [
    "### Линейная регрессия "
   ]
  },
  {
   "cell_type": "markdown",
   "metadata": {},
   "source": [
    "Обучим модель"
   ]
  },
  {
   "cell_type": "code",
   "execution_count": 41,
   "metadata": {},
   "outputs": [
    {
     "name": "stdout",
     "output_type": "stream",
     "text": [
      "Time elapsed (hh:mm:ss.ms) 0:00:02.016455\n"
     ]
    }
   ],
   "source": [
    "start_time = datetime.now() \n",
    "linear_model = LinearRegression().fit(ohe_features_train, target_train)\n",
    "print('Time elapsed (hh:mm:ss.ms) {}'.format(datetime.now() - start_time))"
   ]
  },
  {
   "cell_type": "code",
   "execution_count": 42,
   "metadata": {},
   "outputs": [
    {
     "name": "stdout",
     "output_type": "stream",
     "text": [
      "CPU times: total: 14.8 s\n",
      "Wall time: 2.16 s\n"
     ]
    }
   ],
   "source": [
    "%%time\n",
    "linear_model = LinearRegression().fit(ohe_features_train, target_train)"
   ]
  },
  {
   "cell_type": "markdown",
   "metadata": {},
   "source": [
    "Получим предсказания модели"
   ]
  },
  {
   "cell_type": "code",
   "execution_count": 43,
   "metadata": {},
   "outputs": [],
   "source": [
    "linear_predict = linear_model.predict(ohe_features_test)"
   ]
  },
  {
   "cell_type": "markdown",
   "metadata": {},
   "source": [
    "Посчитаем и выведем на экран, метрику RMSE"
   ]
  },
  {
   "cell_type": "code",
   "execution_count": 44,
   "metadata": {},
   "outputs": [
    {
     "name": "stdout",
     "output_type": "stream",
     "text": [
      "RMSE: 2732.85\n"
     ]
    }
   ],
   "source": [
    "linear_rmse = mean_squared_error(target_test, linear_predict) ** 0.5\n",
    "print(f'RMSE: {linear_rmse:.2f}')"
   ]
  },
  {
   "cell_type": "markdown",
   "metadata": {},
   "source": [
    "### Дерево решений"
   ]
  },
  {
   "cell_type": "code",
   "execution_count": 45,
   "metadata": {},
   "outputs": [],
   "source": [
    "tree_model = DecisionTreeRegressor() "
   ]
  },
  {
   "cell_type": "markdown",
   "metadata": {},
   "source": [
    "Зададим диапазон параметров, для подбора оптимальных гиперпараметров для нашей модели"
   ]
  },
  {
   "cell_type": "code",
   "execution_count": 46,
   "metadata": {},
   "outputs": [],
   "source": [
    "params_tree = {\n",
    "    'criterion':['squared_error'],\n",
    "    'max_depth':range(23, 26, 1),\n",
    "    'min_samples_leaf': range (12,15,1),\n",
    "    'random_state':[12345]\n",
    "}"
   ]
  },
  {
   "cell_type": "markdown",
   "metadata": {},
   "source": [
    "С помощью функции GridSearchCV подберём оптимальные гиперпараметры для наше нашей модели и обучим её"
   ]
  },
  {
   "cell_type": "code",
   "execution_count": 47,
   "metadata": {
    "scrolled": true
   },
   "outputs": [
    {
     "name": "stdout",
     "output_type": "stream",
     "text": [
      "Fitting 3 folds for each of 9 candidates, totalling 27 fits\n",
      "CPU times: total: 6.59 s\n",
      "Wall time: 31.5 s\n"
     ]
    },
    {
     "data": {
      "text/plain": [
       "GridSearchCV(cv=3, estimator=DecisionTreeRegressor(), n_jobs=-1,\n",
       "             param_grid={'criterion': ['squared_error'],\n",
       "                         'max_depth': range(23, 26),\n",
       "                         'min_samples_leaf': range(12, 15),\n",
       "                         'random_state': [12345]},\n",
       "             scoring='neg_mean_squared_error', verbose=3)"
      ]
     },
     "execution_count": 47,
     "metadata": {},
     "output_type": "execute_result"
    }
   ],
   "source": [
    "%%time\n",
    "tree_grid = GridSearchCV(tree_model, params_tree, cv=3, scoring='neg_mean_squared_error', n_jobs=-1, verbose=3)\n",
    "tree_grid.fit(ohe_features_train, target_train)"
   ]
  },
  {
   "cell_type": "markdown",
   "metadata": {},
   "source": [
    "Отобразим лучшие гиперпараметры"
   ]
  },
  {
   "cell_type": "code",
   "execution_count": 48,
   "metadata": {},
   "outputs": [
    {
     "data": {
      "text/plain": [
       "{'criterion': 'squared_error',\n",
       " 'max_depth': 24,\n",
       " 'min_samples_leaf': 13,\n",
       " 'random_state': 12345}"
      ]
     },
     "execution_count": 48,
     "metadata": {},
     "output_type": "execute_result"
    }
   ],
   "source": [
    "tree_best_params = tree_grid.best_params_\n",
    "tree_best_params"
   ]
  },
  {
   "cell_type": "markdown",
   "metadata": {},
   "source": [
    "Получим предсказания модели"
   ]
  },
  {
   "cell_type": "code",
   "execution_count": 49,
   "metadata": {},
   "outputs": [],
   "source": [
    "tree_predict = tree_grid.predict(ohe_features_test)"
   ]
  },
  {
   "cell_type": "markdown",
   "metadata": {},
   "source": [
    "Посчитаем и выведем на экран, метрику RMSE"
   ]
  },
  {
   "cell_type": "code",
   "execution_count": 50,
   "metadata": {},
   "outputs": [
    {
     "name": "stdout",
     "output_type": "stream",
     "text": [
      "RMSE: 1870.36\n"
     ]
    }
   ],
   "source": [
    "rmse_tree = mean_squared_error(target_test, tree_predict) ** 0.5\n",
    "print(f'RMSE: {rmse_tree:.2f}')"
   ]
  },
  {
   "cell_type": "markdown",
   "metadata": {},
   "source": [
    "### Случайный лес"
   ]
  },
  {
   "cell_type": "code",
   "execution_count": 51,
   "metadata": {},
   "outputs": [],
   "source": [
    "forest_model = RandomForestRegressor(n_jobs=-1)"
   ]
  },
  {
   "cell_type": "markdown",
   "metadata": {},
   "source": [
    "Зададим диапазон параметров, для подбора оптимальных гиперпараметров для нашей модели"
   ]
  },
  {
   "cell_type": "code",
   "execution_count": 52,
   "metadata": {},
   "outputs": [],
   "source": [
    "forest_params = {\n",
    "    'criterion':['squared_error'],\n",
    "    'max_depth':range(22, 25, 1),\n",
    "    'random_state':[12345]\n",
    "}"
   ]
  },
  {
   "cell_type": "markdown",
   "metadata": {},
   "source": [
    "С помощью функции GridSearchCV подберём оптимальные гиперпараметры для наше нашей модели и обучим её"
   ]
  },
  {
   "cell_type": "code",
   "execution_count": 53,
   "metadata": {
    "scrolled": true
   },
   "outputs": [
    {
     "name": "stdout",
     "output_type": "stream",
     "text": [
      "Fitting 2 folds for each of 3 candidates, totalling 6 fits\n",
      "CPU times: total: 20min 35s\n",
      "Wall time: 4min 43s\n"
     ]
    },
    {
     "data": {
      "text/plain": [
       "GridSearchCV(cv=2, estimator=RandomForestRegressor(n_jobs=-1), n_jobs=-1,\n",
       "             param_grid={'criterion': ['squared_error'],\n",
       "                         'max_depth': range(22, 25), 'random_state': [12345]},\n",
       "             scoring='neg_mean_squared_error', verbose=3)"
      ]
     },
     "execution_count": 53,
     "metadata": {},
     "output_type": "execute_result"
    }
   ],
   "source": [
    "%%time\n",
    "forest_grid = GridSearchCV(forest_model, forest_params, cv=2, scoring='neg_mean_squared_error', n_jobs=-1, verbose=3)\n",
    "forest_grid.fit(ohe_features_train, target_train)"
   ]
  },
  {
   "cell_type": "markdown",
   "metadata": {},
   "source": [
    "Отобразим лучшие гиперпараметры"
   ]
  },
  {
   "cell_type": "code",
   "execution_count": 54,
   "metadata": {},
   "outputs": [
    {
     "data": {
      "text/plain": [
       "{'criterion': 'squared_error', 'max_depth': 23, 'random_state': 12345}"
      ]
     },
     "execution_count": 54,
     "metadata": {},
     "output_type": "execute_result"
    }
   ],
   "source": [
    "forest_grid.best_params_"
   ]
  },
  {
   "cell_type": "markdown",
   "metadata": {},
   "source": [
    "Получим предсказания модели"
   ]
  },
  {
   "cell_type": "code",
   "execution_count": 55,
   "metadata": {},
   "outputs": [],
   "source": [
    "forest_predict = forest_grid.predict(ohe_features_test)"
   ]
  },
  {
   "cell_type": "markdown",
   "metadata": {},
   "source": [
    "Посчитаем и выведем на экран, метрику RMSE"
   ]
  },
  {
   "cell_type": "code",
   "execution_count": 56,
   "metadata": {},
   "outputs": [
    {
     "name": "stdout",
     "output_type": "stream",
     "text": [
      "RMSE: 1701.12\n"
     ]
    }
   ],
   "source": [
    "rmse_forest = mean_squared_error(target_test, forest_predict) ** 0.5\n",
    "print(f'RMSE: {rmse_forest:.2f}')"
   ]
  },
  {
   "cell_type": "markdown",
   "metadata": {},
   "source": [
    "### Ridge"
   ]
  },
  {
   "cell_type": "code",
   "execution_count": 57,
   "metadata": {},
   "outputs": [],
   "source": [
    "ridge_model = Ridge()"
   ]
  },
  {
   "cell_type": "markdown",
   "metadata": {},
   "source": [
    "Зададим диапазон параметров, для подбора оптимальных гиперпараметров для нашей модели"
   ]
  },
  {
   "cell_type": "code",
   "execution_count": 58,
   "metadata": {},
   "outputs": [],
   "source": [
    "ridge_params = {'solver':['auto', 'svd', 'cholesky', 'lsqr','sparse_cg']}"
   ]
  },
  {
   "cell_type": "markdown",
   "metadata": {},
   "source": [
    "С помощью функции GridSearchCV подберём оптимальные гиперпараметры для наше нашей модели и обучим её"
   ]
  },
  {
   "cell_type": "code",
   "execution_count": 59,
   "metadata": {},
   "outputs": [
    {
     "name": "stdout",
     "output_type": "stream",
     "text": [
      "Fitting 3 folds for each of 5 candidates, totalling 15 fits\n",
      "[CV 1/3] END ................solver=auto;, score=-7385050.365 total time=   0.9s\n",
      "[CV 2/3] END ................solver=auto;, score=-7228146.697 total time=   0.9s\n",
      "[CV 3/3] END ................solver=auto;, score=-7359177.802 total time=   0.9s\n",
      "[CV 1/3] END .................solver=svd;, score=-7385050.365 total time=   2.1s\n",
      "[CV 2/3] END .................solver=svd;, score=-7228146.697 total time=   2.0s\n",
      "[CV 3/3] END .................solver=svd;, score=-7359177.802 total time=   2.0s\n",
      "[CV 1/3] END ............solver=cholesky;, score=-7385050.365 total time=   0.9s\n",
      "[CV 2/3] END ............solver=cholesky;, score=-7228146.697 total time=   0.9s\n",
      "[CV 3/3] END ............solver=cholesky;, score=-7359177.802 total time=   0.9s\n",
      "[CV 1/3] END ................solver=lsqr;, score=-8757681.969 total time=   0.8s\n",
      "[CV 2/3] END ................solver=lsqr;, score=-8613235.321 total time=   0.7s\n",
      "[CV 3/3] END ................solver=lsqr;, score=-8650620.133 total time=   0.7s\n",
      "[CV 1/3] END ...........solver=sparse_cg;, score=-8433440.657 total time=   0.9s\n",
      "[CV 2/3] END ...........solver=sparse_cg;, score=-8322873.690 total time=   0.9s\n",
      "[CV 3/3] END ...........solver=sparse_cg;, score=-8352840.714 total time=   0.9s\n",
      "CPU times: total: 1min 40s\n",
      "Wall time: 21.1 s\n"
     ]
    },
    {
     "data": {
      "text/plain": [
       "GridSearchCV(cv=3, estimator=Ridge(),\n",
       "             param_grid={'solver': ['auto', 'svd', 'cholesky', 'lsqr',\n",
       "                                    'sparse_cg']},\n",
       "             scoring='neg_mean_squared_error', verbose=3)"
      ]
     },
     "execution_count": 59,
     "metadata": {},
     "output_type": "execute_result"
    }
   ],
   "source": [
    "%%time\n",
    "ridge_grid = GridSearchCV(ridge_model, ridge_params, cv=3, scoring='neg_mean_squared_error', verbose=3)\n",
    "ridge_grid.fit(ohe_features_train, target_train)"
   ]
  },
  {
   "cell_type": "markdown",
   "metadata": {},
   "source": [
    "Отобразим лучшие гиперпараметры"
   ]
  },
  {
   "cell_type": "code",
   "execution_count": 60,
   "metadata": {},
   "outputs": [
    {
     "data": {
      "text/plain": [
       "{'solver': 'svd'}"
      ]
     },
     "execution_count": 60,
     "metadata": {},
     "output_type": "execute_result"
    }
   ],
   "source": [
    "ridge_grid.best_params_"
   ]
  },
  {
   "cell_type": "markdown",
   "metadata": {},
   "source": [
    "Получим предсказания модели"
   ]
  },
  {
   "cell_type": "code",
   "execution_count": 61,
   "metadata": {},
   "outputs": [],
   "source": [
    "ridge_predict = ridge_grid.predict(ohe_features_test)"
   ]
  },
  {
   "cell_type": "markdown",
   "metadata": {},
   "source": [
    "Посчитаем и выведем на экран, метрику RMSE"
   ]
  },
  {
   "cell_type": "code",
   "execution_count": 62,
   "metadata": {},
   "outputs": [
    {
     "name": "stdout",
     "output_type": "stream",
     "text": [
      "RMSE: 2732.97\n"
     ]
    }
   ],
   "source": [
    "rmse_ridge = mean_squared_error(target_test, ridge_predict) ** 0.5\n",
    "print(f'RMSE: {rmse_ridge:.2f}')"
   ]
  },
  {
   "cell_type": "markdown",
   "metadata": {},
   "source": [
    "### Градиентный бустинг LightGBM"
   ]
  },
  {
   "cell_type": "code",
   "execution_count": 63,
   "metadata": {},
   "outputs": [],
   "source": [
    "lgbm_model = LGBMRegressor(random_state=12345, verbose=4)"
   ]
  },
  {
   "cell_type": "markdown",
   "metadata": {},
   "source": [
    "Зададим диапазон параметров, для подбора оптимальных гиперпараметров для нашей модели"
   ]
  },
  {
   "cell_type": "code",
   "execution_count": 64,
   "metadata": {},
   "outputs": [],
   "source": [
    "lgbm_params = {\n",
    "    'learning_rate': [0.05, 0.1, 0.15], \n",
    "    'num_leaves': range(500, 610, 25),\n",
    "    'force_col_wise': ['true']\n",
    "}"
   ]
  },
  {
   "cell_type": "markdown",
   "metadata": {},
   "source": [
    "С помощью функции GridSearchCV подберём оптимальные гиперпараметры для наше нашей модели и обучим её"
   ]
  },
  {
   "cell_type": "code",
   "execution_count": 65,
   "metadata": {
    "scrolled": true
   },
   "outputs": [
    {
     "name": "stdout",
     "output_type": "stream",
     "text": [
      "Fitting 3 folds for each of 15 candidates, totalling 45 fits\n",
      "[LightGBM] [Debug] Dataset::GetMultiBinFromSparseFeatures: sparse rate 0.736408\n",
      "[LightGBM] [Info] Total Bins 590\n",
      "[LightGBM] [Info] Number of data points in the train set: 156780, number of used features: 10\n",
      "[LightGBM] [Info] Start training from score 4578.288391\n",
      "[LightGBM] [Debug] Trained a tree with leaves = 500 and depth = 13\n",
      "[LightGBM] [Debug] Trained a tree with leaves = 500 and depth = 13\n",
      "[LightGBM] [Debug] Trained a tree with leaves = 500 and depth = 14\n",
      "[LightGBM] [Debug] Trained a tree with leaves = 500 and depth = 14\n",
      "[LightGBM] [Debug] Trained a tree with leaves = 500 and depth = 15\n",
      "[LightGBM] [Debug] Trained a tree with leaves = 500 and depth = 14\n",
      "[LightGBM] [Debug] Trained a tree with leaves = 500 and depth = 15\n",
      "[LightGBM] [Debug] Trained a tree with leaves = 500 and depth = 14\n",
      "[LightGBM] [Debug] Trained a tree with leaves = 500 and depth = 14\n",
      "[LightGBM] [Debug] Trained a tree with leaves = 500 and depth = 15\n",
      "[LightGBM] [Debug] Trained a tree with leaves = 500 and depth = 15\n",
      "[LightGBM] [Debug] Trained a tree with leaves = 500 and depth = 14\n",
      "[LightGBM] [Debug] Trained a tree with leaves = 500 and depth = 14\n",
      "[LightGBM] [Debug] Trained a tree with leaves = 500 and depth = 14\n",
      "[LightGBM] [Debug] Trained a tree with leaves = 500 and depth = 15\n",
      "[LightGBM] [Debug] Trained a tree with leaves = 500 and depth = 15\n",
      "[LightGBM] [Debug] Trained a tree with leaves = 500 and depth = 16\n",
      "[LightGBM] [Debug] Trained a tree with leaves = 500 and depth = 14\n",
      "[LightGBM] [Debug] Trained a tree with leaves = 500 and depth = 14\n",
      "[LightGBM] [Debug] Trained a tree with leaves = 500 and depth = 15\n",
      "[LightGBM] [Debug] Trained a tree with leaves = 500 and depth = 16\n",
      "[LightGBM] [Debug] Trained a tree with leaves = 500 and depth = 16\n",
      "[LightGBM] [Debug] Trained a tree with leaves = 500 and depth = 16\n",
      "[LightGBM] [Debug] Trained a tree with leaves = 500 and depth = 17\n",
      "[LightGBM] [Debug] Trained a tree with leaves = 500 and depth = 15\n",
      "[LightGBM] [Debug] Trained a tree with leaves = 500 and depth = 16\n",
      "[LightGBM] [Debug] Trained a tree with leaves = 500 and depth = 16\n",
      "[LightGBM] [Debug] Trained a tree with leaves = 500 and depth = 16\n",
      "[LightGBM] [Debug] Trained a tree with leaves = 500 and depth = 15\n",
      "[LightGBM] [Debug] Trained a tree with leaves = 500 and depth = 19\n",
      "[LightGBM] [Debug] Trained a tree with leaves = 500 and depth = 15\n",
      "[LightGBM] [Debug] Trained a tree with leaves = 500 and depth = 15\n",
      "[LightGBM] [Debug] Trained a tree with leaves = 500 and depth = 16\n",
      "[LightGBM] [Debug] Trained a tree with leaves = 500 and depth = 15\n",
      "[LightGBM] [Debug] Trained a tree with leaves = 500 and depth = 16\n",
      "[LightGBM] [Debug] Trained a tree with leaves = 500 and depth = 17\n",
      "[LightGBM] [Debug] Trained a tree with leaves = 500 and depth = 16\n",
      "[LightGBM] [Debug] Trained a tree with leaves = 500 and depth = 16\n",
      "[LightGBM] [Debug] Trained a tree with leaves = 500 and depth = 17\n",
      "[LightGBM] [Debug] Trained a tree with leaves = 500 and depth = 16\n",
      "[LightGBM] [Debug] Trained a tree with leaves = 500 and depth = 19\n",
      "[LightGBM] [Debug] Trained a tree with leaves = 500 and depth = 16\n",
      "[LightGBM] [Debug] Trained a tree with leaves = 500 and depth = 18\n",
      "[LightGBM] [Debug] Trained a tree with leaves = 500 and depth = 17\n",
      "[LightGBM] [Debug] Trained a tree with leaves = 500 and depth = 17\n",
      "[LightGBM] [Debug] Trained a tree with leaves = 500 and depth = 16\n",
      "[LightGBM] [Debug] Trained a tree with leaves = 500 and depth = 18\n",
      "[LightGBM] [Debug] Trained a tree with leaves = 500 and depth = 18\n",
      "[LightGBM] [Debug] Trained a tree with leaves = 500 and depth = 17\n",
      "[LightGBM] [Debug] Trained a tree with leaves = 500 and depth = 18\n",
      "[LightGBM] [Debug] Trained a tree with leaves = 500 and depth = 17\n",
      "[LightGBM] [Debug] Trained a tree with leaves = 500 and depth = 16\n",
      "[LightGBM] [Debug] Trained a tree with leaves = 500 and depth = 18\n",
      "[LightGBM] [Debug] Trained a tree with leaves = 500 and depth = 17\n",
      "[LightGBM] [Debug] Trained a tree with leaves = 500 and depth = 18\n",
      "[LightGBM] [Debug] Trained a tree with leaves = 500 and depth = 17\n",
      "[LightGBM] [Debug] Trained a tree with leaves = 500 and depth = 19\n",
      "[LightGBM] [Debug] Trained a tree with leaves = 500 and depth = 17\n",
      "[LightGBM] [Debug] Trained a tree with leaves = 500 and depth = 18\n",
      "[LightGBM] [Debug] Trained a tree with leaves = 500 and depth = 18\n",
      "[LightGBM] [Debug] Trained a tree with leaves = 500 and depth = 19\n",
      "[LightGBM] [Debug] Trained a tree with leaves = 500 and depth = 19\n",
      "[LightGBM] [Debug] Trained a tree with leaves = 500 and depth = 18\n",
      "[LightGBM] [Debug] Trained a tree with leaves = 500 and depth = 19\n",
      "[LightGBM] [Debug] Trained a tree with leaves = 500 and depth = 19\n",
      "[LightGBM] [Debug] Trained a tree with leaves = 500 and depth = 21\n",
      "[LightGBM] [Debug] Trained a tree with leaves = 500 and depth = 21\n",
      "[LightGBM] [Debug] Trained a tree with leaves = 500 and depth = 19\n",
      "[LightGBM] [Debug] Trained a tree with leaves = 500 and depth = 22\n",
      "[LightGBM] [Debug] Trained a tree with leaves = 500 and depth = 20\n",
      "[LightGBM] [Debug] Trained a tree with leaves = 500 and depth = 24\n",
      "[LightGBM] [Debug] Trained a tree with leaves = 500 and depth = 20\n",
      "[LightGBM] [Debug] Trained a tree with leaves = 500 and depth = 22\n",
      "[LightGBM] [Debug] Trained a tree with leaves = 500 and depth = 19\n",
      "[LightGBM] [Debug] Trained a tree with leaves = 500 and depth = 22\n",
      "[LightGBM] [Debug] Trained a tree with leaves = 500 and depth = 20\n",
      "[LightGBM] [Debug] Trained a tree with leaves = 500 and depth = 23\n",
      "[LightGBM] [Debug] Trained a tree with leaves = 500 and depth = 21\n",
      "[LightGBM] [Debug] Trained a tree with leaves = 500 and depth = 21\n",
      "[LightGBM] [Debug] Trained a tree with leaves = 500 and depth = 22\n",
      "[LightGBM] [Debug] Trained a tree with leaves = 500 and depth = 22\n",
      "[LightGBM] [Debug] Trained a tree with leaves = 500 and depth = 22\n",
      "[LightGBM] [Debug] Trained a tree with leaves = 500 and depth = 24\n",
      "[LightGBM] [Debug] Trained a tree with leaves = 500 and depth = 24\n",
      "[LightGBM] [Debug] Trained a tree with leaves = 500 and depth = 22\n",
      "[LightGBM] [Debug] Trained a tree with leaves = 500 and depth = 21\n",
      "[LightGBM] [Debug] Trained a tree with leaves = 500 and depth = 19\n",
      "[LightGBM] [Debug] Trained a tree with leaves = 500 and depth = 25\n",
      "[LightGBM] [Debug] Trained a tree with leaves = 500 and depth = 21\n",
      "[LightGBM] [Debug] Trained a tree with leaves = 500 and depth = 27\n",
      "[LightGBM] [Debug] Trained a tree with leaves = 500 and depth = 27\n",
      "[LightGBM] [Debug] Trained a tree with leaves = 500 and depth = 25\n",
      "[LightGBM] [Debug] Trained a tree with leaves = 500 and depth = 31\n",
      "[LightGBM] [Debug] Trained a tree with leaves = 500 and depth = 28\n",
      "[LightGBM] [Debug] Trained a tree with leaves = 500 and depth = 24\n",
      "[LightGBM] [Debug] Trained a tree with leaves = 500 and depth = 22\n",
      "[LightGBM] [Debug] Trained a tree with leaves = 500 and depth = 22\n",
      "[LightGBM] [Debug] Trained a tree with leaves = 500 and depth = 22\n",
      "[LightGBM] [Debug] Trained a tree with leaves = 500 and depth = 26\n",
      "[LightGBM] [Debug] Trained a tree with leaves = 500 and depth = 22\n",
      "[CV 1/3] END force_col_wise=true, learning_rate=0.05, num_leaves=500;, score=-2614566.396 total time=   2.1s\n",
      "[LightGBM] [Debug] Dataset::GetMultiBinFromSparseFeatures: sparse rate 0.736609\n",
      "[LightGBM] [Info] Total Bins 593\n",
      "[LightGBM] [Info] Number of data points in the train set: 156780, number of used features: 10\n",
      "[LightGBM] [Info] Start training from score 4585.264925\n",
      "[LightGBM] [Debug] Trained a tree with leaves = 500 and depth = 15\n",
      "[LightGBM] [Debug] Trained a tree with leaves = 500 and depth = 15\n",
      "[LightGBM] [Debug] Trained a tree with leaves = 500 and depth = 14\n",
      "[LightGBM] [Debug] Trained a tree with leaves = 500 and depth = 15\n",
      "[LightGBM] [Debug] Trained a tree with leaves = 500 and depth = 14\n",
      "[LightGBM] [Debug] Trained a tree with leaves = 500 and depth = 14\n",
      "[LightGBM] [Debug] Trained a tree with leaves = 500 and depth = 14\n",
      "[LightGBM] [Debug] Trained a tree with leaves = 500 and depth = 14\n",
      "[LightGBM] [Debug] Trained a tree with leaves = 500 and depth = 15\n",
      "[LightGBM] [Debug] Trained a tree with leaves = 500 and depth = 14\n",
      "[LightGBM] [Debug] Trained a tree with leaves = 500 and depth = 14\n",
      "[LightGBM] [Debug] Trained a tree with leaves = 500 and depth = 14\n",
      "[LightGBM] [Debug] Trained a tree with leaves = 500 and depth = 14\n",
      "[LightGBM] [Debug] Trained a tree with leaves = 500 and depth = 15\n",
      "[LightGBM] [Debug] Trained a tree with leaves = 500 and depth = 15\n"
     ]
    },
    {
     "name": "stdout",
     "output_type": "stream",
     "text": [
      "[LightGBM] [Debug] Trained a tree with leaves = 500 and depth = 14\n",
      "[LightGBM] [Debug] Trained a tree with leaves = 500 and depth = 15\n",
      "[LightGBM] [Debug] Trained a tree with leaves = 500 and depth = 14\n",
      "[LightGBM] [Debug] Trained a tree with leaves = 500 and depth = 15\n",
      "[LightGBM] [Debug] Trained a tree with leaves = 500 and depth = 15\n",
      "[LightGBM] [Debug] Trained a tree with leaves = 500 and depth = 16\n",
      "[LightGBM] [Debug] Trained a tree with leaves = 500 and depth = 15\n",
      "[LightGBM] [Debug] Trained a tree with leaves = 500 and depth = 14\n",
      "[LightGBM] [Debug] Trained a tree with leaves = 500 and depth = 15\n",
      "[LightGBM] [Debug] Trained a tree with leaves = 500 and depth = 15\n",
      "[LightGBM] [Debug] Trained a tree with leaves = 500 and depth = 15\n",
      "[LightGBM] [Debug] Trained a tree with leaves = 500 and depth = 15\n",
      "[LightGBM] [Debug] Trained a tree with leaves = 500 and depth = 16\n",
      "[LightGBM] [Debug] Trained a tree with leaves = 500 and depth = 15\n",
      "[LightGBM] [Debug] Trained a tree with leaves = 500 and depth = 16\n",
      "[LightGBM] [Debug] Trained a tree with leaves = 500 and depth = 17\n",
      "[LightGBM] [Debug] Trained a tree with leaves = 500 and depth = 16\n",
      "[LightGBM] [Debug] Trained a tree with leaves = 500 and depth = 16\n",
      "[LightGBM] [Debug] Trained a tree with leaves = 500 and depth = 15\n",
      "[LightGBM] [Debug] Trained a tree with leaves = 500 and depth = 16\n",
      "[LightGBM] [Debug] Trained a tree with leaves = 500 and depth = 18\n",
      "[LightGBM] [Debug] Trained a tree with leaves = 500 and depth = 15\n",
      "[LightGBM] [Debug] Trained a tree with leaves = 500 and depth = 15\n",
      "[LightGBM] [Debug] Trained a tree with leaves = 500 and depth = 15\n",
      "[LightGBM] [Debug] Trained a tree with leaves = 500 and depth = 17\n",
      "[LightGBM] [Debug] Trained a tree with leaves = 500 and depth = 16\n",
      "[LightGBM] [Debug] Trained a tree with leaves = 500 and depth = 18\n",
      "[LightGBM] [Debug] Trained a tree with leaves = 500 and depth = 15\n",
      "[LightGBM] [Debug] Trained a tree with leaves = 500 and depth = 19\n",
      "[LightGBM] [Debug] Trained a tree with leaves = 500 and depth = 18\n",
      "[LightGBM] [Debug] Trained a tree with leaves = 500 and depth = 17\n",
      "[LightGBM] [Debug] Trained a tree with leaves = 500 and depth = 19\n",
      "[LightGBM] [Debug] Trained a tree with leaves = 500 and depth = 18\n",
      "[LightGBM] [Debug] Trained a tree with leaves = 500 and depth = 16\n",
      "[LightGBM] [Debug] Trained a tree with leaves = 500 and depth = 21\n",
      "[LightGBM] [Debug] Trained a tree with leaves = 500 and depth = 17\n",
      "[LightGBM] [Debug] Trained a tree with leaves = 500 and depth = 16\n",
      "[LightGBM] [Debug] Trained a tree with leaves = 500 and depth = 18\n",
      "[LightGBM] [Debug] Trained a tree with leaves = 500 and depth = 21\n",
      "[LightGBM] [Debug] Trained a tree with leaves = 500 and depth = 17\n",
      "[LightGBM] [Debug] Trained a tree with leaves = 500 and depth = 19\n",
      "[LightGBM] [Debug] Trained a tree with leaves = 500 and depth = 21\n",
      "[LightGBM] [Debug] Trained a tree with leaves = 500 and depth = 20\n",
      "[LightGBM] [Debug] Trained a tree with leaves = 500 and depth = 19\n",
      "[LightGBM] [Debug] Trained a tree with leaves = 500 and depth = 19\n",
      "[LightGBM] [Debug] Trained a tree with leaves = 500 and depth = 17\n",
      "[LightGBM] [Debug] Trained a tree with leaves = 500 and depth = 22\n",
      "[LightGBM] [Debug] Trained a tree with leaves = 500 and depth = 17\n",
      "[LightGBM] [Debug] Trained a tree with leaves = 500 and depth = 17\n",
      "[LightGBM] [Debug] Trained a tree with leaves = 500 and depth = 19\n",
      "[LightGBM] [Debug] Trained a tree with leaves = 500 and depth = 23\n",
      "[LightGBM] [Debug] Trained a tree with leaves = 500 and depth = 17\n",
      "[LightGBM] [Debug] Trained a tree with leaves = 500 and depth = 17\n",
      "[LightGBM] [Debug] Trained a tree with leaves = 500 and depth = 20\n",
      "[LightGBM] [Debug] Trained a tree with leaves = 500 and depth = 22\n",
      "[LightGBM] [Debug] Trained a tree with leaves = 500 and depth = 20\n",
      "[LightGBM] [Debug] Trained a tree with leaves = 500 and depth = 20\n",
      "[LightGBM] [Debug] Trained a tree with leaves = 500 and depth = 21\n",
      "[LightGBM] [Debug] Trained a tree with leaves = 500 and depth = 19\n",
      "[LightGBM] [Debug] Trained a tree with leaves = 500 and depth = 19\n",
      "[LightGBM] [Debug] Trained a tree with leaves = 500 and depth = 19\n",
      "[LightGBM] [Debug] Trained a tree with leaves = 500 and depth = 21\n",
      "[LightGBM] [Debug] Trained a tree with leaves = 500 and depth = 21\n",
      "[LightGBM] [Debug] Trained a tree with leaves = 500 and depth = 20\n",
      "[LightGBM] [Debug] Trained a tree with leaves = 500 and depth = 20\n",
      "[LightGBM] [Debug] Trained a tree with leaves = 500 and depth = 22\n",
      "[LightGBM] [Debug] Trained a tree with leaves = 500 and depth = 21\n",
      "[LightGBM] [Debug] Trained a tree with leaves = 500 and depth = 20\n",
      "[LightGBM] [Debug] Trained a tree with leaves = 500 and depth = 22\n",
      "[LightGBM] [Debug] Trained a tree with leaves = 500 and depth = 22\n",
      "[LightGBM] [Debug] Trained a tree with leaves = 500 and depth = 21\n",
      "[LightGBM] [Debug] Trained a tree with leaves = 500 and depth = 23\n",
      "[LightGBM] [Debug] Trained a tree with leaves = 500 and depth = 20\n",
      "[LightGBM] [Debug] Trained a tree with leaves = 500 and depth = 21\n",
      "[LightGBM] [Debug] Trained a tree with leaves = 500 and depth = 20\n",
      "[LightGBM] [Debug] Trained a tree with leaves = 500 and depth = 25\n",
      "[LightGBM] [Debug] Trained a tree with leaves = 500 and depth = 23\n",
      "[LightGBM] [Debug] Trained a tree with leaves = 500 and depth = 28\n",
      "[LightGBM] [Debug] Trained a tree with leaves = 500 and depth = 24\n",
      "[LightGBM] [Debug] Trained a tree with leaves = 500 and depth = 21\n",
      "[LightGBM] [Debug] Trained a tree with leaves = 500 and depth = 26\n",
      "[LightGBM] [Debug] Trained a tree with leaves = 500 and depth = 24\n",
      "[LightGBM] [Debug] Trained a tree with leaves = 500 and depth = 26\n",
      "[LightGBM] [Debug] Trained a tree with leaves = 500 and depth = 25\n",
      "[LightGBM] [Debug] Trained a tree with leaves = 500 and depth = 31\n",
      "[CV 2/3] END force_col_wise=true, learning_rate=0.05, num_leaves=500;, score=-2645580.870 total time=   2.1s\n",
      "[LightGBM] [Debug] Dataset::GetMultiBinFromSparseFeatures: sparse rate 0.737074\n",
      "[LightGBM] [Info] Total Bins 594\n",
      "[LightGBM] [Info] Number of data points in the train set: 156780, number of used features: 10\n",
      "[LightGBM] [Info] Start training from score 4577.614511\n",
      "[LightGBM] [Debug] Trained a tree with leaves = 500 and depth = 14\n",
      "[LightGBM] [Debug] Trained a tree with leaves = 500 and depth = 14\n",
      "[LightGBM] [Debug] Trained a tree with leaves = 500 and depth = 14\n",
      "[LightGBM] [Debug] Trained a tree with leaves = 500 and depth = 15\n",
      "[LightGBM] [Debug] Trained a tree with leaves = 500 and depth = 14\n",
      "[LightGBM] [Debug] Trained a tree with leaves = 500 and depth = 15\n",
      "[LightGBM] [Debug] Trained a tree with leaves = 500 and depth = 14\n",
      "[LightGBM] [Debug] Trained a tree with leaves = 500 and depth = 14\n",
      "[LightGBM] [Debug] Trained a tree with leaves = 500 and depth = 13\n",
      "[LightGBM] [Debug] Trained a tree with leaves = 500 and depth = 14\n",
      "[LightGBM] [Debug] Trained a tree with leaves = 500 and depth = 15\n",
      "[LightGBM] [Debug] Trained a tree with leaves = 500 and depth = 14\n",
      "[LightGBM] [Debug] Trained a tree with leaves = 500 and depth = 15\n",
      "[LightGBM] [Debug] Trained a tree with leaves = 500 and depth = 16\n",
      "[LightGBM] [Debug] Trained a tree with leaves = 500 and depth = 14\n",
      "[LightGBM] [Debug] Trained a tree with leaves = 500 and depth = 15\n",
      "[LightGBM] [Debug] Trained a tree with leaves = 500 and depth = 14\n",
      "[LightGBM] [Debug] Trained a tree with leaves = 500 and depth = 14\n",
      "[LightGBM] [Debug] Trained a tree with leaves = 500 and depth = 16\n",
      "[LightGBM] [Debug] Trained a tree with leaves = 500 and depth = 15\n",
      "[LightGBM] [Debug] Trained a tree with leaves = 500 and depth = 14\n",
      "[LightGBM] [Debug] Trained a tree with leaves = 500 and depth = 14\n",
      "[LightGBM] [Debug] Trained a tree with leaves = 500 and depth = 14\n",
      "[LightGBM] [Debug] Trained a tree with leaves = 500 and depth = 15\n",
      "[LightGBM] [Debug] Trained a tree with leaves = 500 and depth = 15\n",
      "[LightGBM] [Debug] Trained a tree with leaves = 500 and depth = 16\n",
      "[LightGBM] [Debug] Trained a tree with leaves = 500 and depth = 15\n",
      "[LightGBM] [Debug] Trained a tree with leaves = 500 and depth = 15\n",
      "[LightGBM] [Debug] Trained a tree with leaves = 500 and depth = 16\n",
      "[LightGBM] [Debug] Trained a tree with leaves = 500 and depth = 15\n",
      "[LightGBM] [Debug] Trained a tree with leaves = 500 and depth = 15\n",
      "[LightGBM] [Debug] Trained a tree with leaves = 500 and depth = 14\n",
      "[LightGBM] [Debug] Trained a tree with leaves = 500 and depth = 16\n",
      "[LightGBM] [Debug] Trained a tree with leaves = 500 and depth = 15\n",
      "[LightGBM] [Debug] Trained a tree with leaves = 500 and depth = 17\n",
      "[LightGBM] [Debug] Trained a tree with leaves = 500 and depth = 16\n",
      "[LightGBM] [Debug] Trained a tree with leaves = 500 and depth = 16\n",
      "[LightGBM] [Debug] Trained a tree with leaves = 500 and depth = 18\n",
      "[LightGBM] [Debug] Trained a tree with leaves = 500 and depth = 17\n",
      "[LightGBM] [Debug] Trained a tree with leaves = 500 and depth = 16\n",
      "[LightGBM] [Debug] Trained a tree with leaves = 500 and depth = 17\n",
      "[LightGBM] [Debug] Trained a tree with leaves = 500 and depth = 17\n",
      "[LightGBM] [Debug] Trained a tree with leaves = 500 and depth = 18\n"
     ]
    },
    {
     "name": "stdout",
     "output_type": "stream",
     "text": [
      "[LightGBM] [Debug] Trained a tree with leaves = 500 and depth = 19\n",
      "[LightGBM] [Debug] Trained a tree with leaves = 500 and depth = 19\n",
      "[LightGBM] [Debug] Trained a tree with leaves = 500 and depth = 19\n",
      "[LightGBM] [Debug] Trained a tree with leaves = 500 and depth = 19\n",
      "[LightGBM] [Debug] Trained a tree with leaves = 500 and depth = 17\n",
      "[LightGBM] [Debug] Trained a tree with leaves = 500 and depth = 19\n",
      "[LightGBM] [Debug] Trained a tree with leaves = 500 and depth = 18\n",
      "[LightGBM] [Debug] Trained a tree with leaves = 500 and depth = 21\n",
      "[LightGBM] [Debug] Trained a tree with leaves = 500 and depth = 19\n",
      "[LightGBM] [Debug] Trained a tree with leaves = 500 and depth = 18\n",
      "[LightGBM] [Debug] Trained a tree with leaves = 500 and depth = 17\n",
      "[LightGBM] [Debug] Trained a tree with leaves = 500 and depth = 20\n",
      "[LightGBM] [Debug] Trained a tree with leaves = 500 and depth = 17\n",
      "[LightGBM] [Debug] Trained a tree with leaves = 500 and depth = 17\n",
      "[LightGBM] [Debug] Trained a tree with leaves = 500 and depth = 17\n",
      "[LightGBM] [Debug] Trained a tree with leaves = 500 and depth = 20\n",
      "[LightGBM] [Debug] Trained a tree with leaves = 500 and depth = 20\n",
      "[LightGBM] [Debug] Trained a tree with leaves = 500 and depth = 20\n",
      "[LightGBM] [Debug] Trained a tree with leaves = 500 and depth = 19\n",
      "[LightGBM] [Debug] Trained a tree with leaves = 500 and depth = 18\n",
      "[LightGBM] [Debug] Trained a tree with leaves = 500 and depth = 19\n",
      "[LightGBM] [Debug] Trained a tree with leaves = 500 and depth = 21\n",
      "[LightGBM] [Debug] Trained a tree with leaves = 500 and depth = 26\n",
      "[LightGBM] [Debug] Trained a tree with leaves = 500 and depth = 18\n",
      "[LightGBM] [Debug] Trained a tree with leaves = 500 and depth = 21\n",
      "[LightGBM] [Debug] Trained a tree with leaves = 500 and depth = 26\n",
      "[LightGBM] [Debug] Trained a tree with leaves = 500 and depth = 21\n",
      "[LightGBM] [Debug] Trained a tree with leaves = 500 and depth = 20\n",
      "[LightGBM] [Debug] Trained a tree with leaves = 500 and depth = 19\n",
      "[LightGBM] [Debug] Trained a tree with leaves = 500 and depth = 21\n",
      "[LightGBM] [Debug] Trained a tree with leaves = 500 and depth = 22\n",
      "[LightGBM] [Debug] Trained a tree with leaves = 500 and depth = 21\n",
      "[LightGBM] [Debug] Trained a tree with leaves = 500 and depth = 21\n",
      "[LightGBM] [Debug] Trained a tree with leaves = 500 and depth = 22\n",
      "[LightGBM] [Debug] Trained a tree with leaves = 500 and depth = 19\n",
      "[LightGBM] [Debug] Trained a tree with leaves = 500 and depth = 26\n",
      "[LightGBM] [Debug] Trained a tree with leaves = 500 and depth = 28\n",
      "[LightGBM] [Debug] Trained a tree with leaves = 500 and depth = 19\n",
      "[LightGBM] [Debug] Trained a tree with leaves = 500 and depth = 21\n",
      "[LightGBM] [Debug] Trained a tree with leaves = 500 and depth = 23\n",
      "[LightGBM] [Debug] Trained a tree with leaves = 500 and depth = 20\n",
      "[LightGBM] [Debug] Trained a tree with leaves = 500 and depth = 25\n",
      "[LightGBM] [Debug] Trained a tree with leaves = 500 and depth = 21\n",
      "[LightGBM] [Debug] Trained a tree with leaves = 500 and depth = 25\n",
      "[LightGBM] [Debug] Trained a tree with leaves = 500 and depth = 22\n",
      "[LightGBM] [Debug] Trained a tree with leaves = 500 and depth = 24\n",
      "[LightGBM] [Debug] Trained a tree with leaves = 500 and depth = 23\n",
      "[LightGBM] [Debug] Trained a tree with leaves = 500 and depth = 22\n",
      "[LightGBM] [Debug] Trained a tree with leaves = 500 and depth = 27\n",
      "[LightGBM] [Debug] Trained a tree with leaves = 500 and depth = 21\n",
      "[LightGBM] [Debug] Trained a tree with leaves = 500 and depth = 27\n",
      "[LightGBM] [Debug] Trained a tree with leaves = 500 and depth = 22\n",
      "[LightGBM] [Debug] Trained a tree with leaves = 500 and depth = 23\n",
      "[LightGBM] [Debug] Trained a tree with leaves = 500 and depth = 24\n",
      "[LightGBM] [Debug] Trained a tree with leaves = 500 and depth = 25\n",
      "[LightGBM] [Debug] Trained a tree with leaves = 500 and depth = 26\n",
      "[LightGBM] [Debug] Trained a tree with leaves = 500 and depth = 27\n",
      "[CV 3/3] END force_col_wise=true, learning_rate=0.05, num_leaves=500;, score=-2559995.050 total time=   1.8s\n",
      "[LightGBM] [Debug] Dataset::GetMultiBinFromSparseFeatures: sparse rate 0.736408\n",
      "[LightGBM] [Info] Total Bins 590\n",
      "[LightGBM] [Info] Number of data points in the train set: 156780, number of used features: 10\n",
      "[LightGBM] [Info] Start training from score 4578.288391\n",
      "[LightGBM] [Debug] Trained a tree with leaves = 525 and depth = 13\n",
      "[LightGBM] [Debug] Trained a tree with leaves = 525 and depth = 14\n",
      "[LightGBM] [Debug] Trained a tree with leaves = 525 and depth = 14\n",
      "[LightGBM] [Debug] Trained a tree with leaves = 525 and depth = 15\n",
      "[LightGBM] [Debug] Trained a tree with leaves = 525 and depth = 15\n",
      "[LightGBM] [Debug] Trained a tree with leaves = 525 and depth = 14\n",
      "[LightGBM] [Debug] Trained a tree with leaves = 525 and depth = 15\n",
      "[LightGBM] [Debug] Trained a tree with leaves = 525 and depth = 14\n",
      "[LightGBM] [Debug] Trained a tree with leaves = 525 and depth = 14\n",
      "[LightGBM] [Debug] Trained a tree with leaves = 525 and depth = 14\n",
      "[LightGBM] [Debug] Trained a tree with leaves = 525 and depth = 14\n",
      "[LightGBM] [Debug] Trained a tree with leaves = 525 and depth = 14\n",
      "[LightGBM] [Debug] Trained a tree with leaves = 525 and depth = 15\n",
      "[LightGBM] [Debug] Trained a tree with leaves = 525 and depth = 14\n",
      "[LightGBM] [Debug] Trained a tree with leaves = 525 and depth = 15\n",
      "[LightGBM] [Debug] Trained a tree with leaves = 525 and depth = 15\n",
      "[LightGBM] [Debug] Trained a tree with leaves = 525 and depth = 16\n",
      "[LightGBM] [Debug] Trained a tree with leaves = 525 and depth = 15\n",
      "[LightGBM] [Debug] Trained a tree with leaves = 525 and depth = 15\n",
      "[LightGBM] [Debug] Trained a tree with leaves = 525 and depth = 14\n",
      "[LightGBM] [Debug] Trained a tree with leaves = 525 and depth = 15\n",
      "[LightGBM] [Debug] Trained a tree with leaves = 525 and depth = 16\n",
      "[LightGBM] [Debug] Trained a tree with leaves = 525 and depth = 15\n",
      "[LightGBM] [Debug] Trained a tree with leaves = 525 and depth = 15\n",
      "[LightGBM] [Debug] Trained a tree with leaves = 525 and depth = 15\n",
      "[LightGBM] [Debug] Trained a tree with leaves = 525 and depth = 15\n",
      "[LightGBM] [Debug] Trained a tree with leaves = 525 and depth = 15\n",
      "[LightGBM] [Debug] Trained a tree with leaves = 525 and depth = 16\n",
      "[LightGBM] [Debug] Trained a tree with leaves = 525 and depth = 17\n",
      "[LightGBM] [Debug] Trained a tree with leaves = 525 and depth = 16\n",
      "[LightGBM] [Debug] Trained a tree with leaves = 525 and depth = 16\n",
      "[LightGBM] [Debug] Trained a tree with leaves = 525 and depth = 16\n",
      "[LightGBM] [Debug] Trained a tree with leaves = 525 and depth = 18\n",
      "[LightGBM] [Debug] Trained a tree with leaves = 525 and depth = 15\n",
      "[LightGBM] [Debug] Trained a tree with leaves = 525 and depth = 16\n",
      "[LightGBM] [Debug] Trained a tree with leaves = 525 and depth = 17\n",
      "[LightGBM] [Debug] Trained a tree with leaves = 525 and depth = 18\n",
      "[LightGBM] [Debug] Trained a tree with leaves = 525 and depth = 15\n",
      "[LightGBM] [Debug] Trained a tree with leaves = 525 and depth = 18\n",
      "[LightGBM] [Debug] Trained a tree with leaves = 525 and depth = 18\n",
      "[LightGBM] [Debug] Trained a tree with leaves = 525 and depth = 18\n",
      "[LightGBM] [Debug] Trained a tree with leaves = 525 and depth = 20\n",
      "[LightGBM] [Debug] Trained a tree with leaves = 525 and depth = 17\n",
      "[LightGBM] [Debug] Trained a tree with leaves = 525 and depth = 17\n",
      "[LightGBM] [Debug] Trained a tree with leaves = 525 and depth = 17\n",
      "[LightGBM] [Debug] Trained a tree with leaves = 525 and depth = 17\n",
      "[LightGBM] [Debug] Trained a tree with leaves = 525 and depth = 18\n",
      "[LightGBM] [Debug] Trained a tree with leaves = 525 and depth = 17\n",
      "[LightGBM] [Debug] Trained a tree with leaves = 525 and depth = 20\n",
      "[LightGBM] [Debug] Trained a tree with leaves = 525 and depth = 18\n",
      "[LightGBM] [Debug] Trained a tree with leaves = 525 and depth = 18\n",
      "[LightGBM] [Debug] Trained a tree with leaves = 525 and depth = 20\n",
      "[LightGBM] [Debug] Trained a tree with leaves = 525 and depth = 19\n",
      "[LightGBM] [Debug] Trained a tree with leaves = 525 and depth = 19\n",
      "[LightGBM] [Debug] Trained a tree with leaves = 525 and depth = 17\n",
      "[LightGBM] [Debug] Trained a tree with leaves = 525 and depth = 22\n",
      "[LightGBM] [Debug] Trained a tree with leaves = 525 and depth = 18\n",
      "[LightGBM] [Debug] Trained a tree with leaves = 525 and depth = 20\n",
      "[LightGBM] [Debug] Trained a tree with leaves = 525 and depth = 19\n",
      "[LightGBM] [Debug] Trained a tree with leaves = 525 and depth = 18\n",
      "[LightGBM] [Debug] Trained a tree with leaves = 525 and depth = 18\n",
      "[LightGBM] [Debug] Trained a tree with leaves = 525 and depth = 18\n",
      "[LightGBM] [Debug] Trained a tree with leaves = 525 and depth = 19\n",
      "[LightGBM] [Debug] Trained a tree with leaves = 525 and depth = 22\n",
      "[LightGBM] [Debug] Trained a tree with leaves = 525 and depth = 22\n",
      "[LightGBM] [Debug] Trained a tree with leaves = 525 and depth = 23\n",
      "[LightGBM] [Debug] Trained a tree with leaves = 525 and depth = 18\n",
      "[LightGBM] [Debug] Trained a tree with leaves = 525 and depth = 18\n",
      "[LightGBM] [Debug] Trained a tree with leaves = 525 and depth = 21\n",
      "[LightGBM] [Debug] Trained a tree with leaves = 525 and depth = 21\n",
      "[LightGBM] [Debug] Trained a tree with leaves = 525 and depth = 21\n",
      "[LightGBM] [Debug] Trained a tree with leaves = 525 and depth = 21\n",
      "[LightGBM] [Debug] Trained a tree with leaves = 525 and depth = 20\n"
     ]
    },
    {
     "name": "stdout",
     "output_type": "stream",
     "text": [
      "[LightGBM] [Debug] Trained a tree with leaves = 525 and depth = 23\n",
      "[LightGBM] [Debug] Trained a tree with leaves = 525 and depth = 22\n",
      "[LightGBM] [Debug] Trained a tree with leaves = 525 and depth = 22\n",
      "[LightGBM] [Debug] Trained a tree with leaves = 525 and depth = 20\n",
      "[LightGBM] [Debug] Trained a tree with leaves = 525 and depth = 20\n",
      "[LightGBM] [Debug] Trained a tree with leaves = 525 and depth = 21\n",
      "[LightGBM] [Debug] Trained a tree with leaves = 525 and depth = 19\n",
      "[LightGBM] [Debug] Trained a tree with leaves = 525 and depth = 23\n",
      "[LightGBM] [Debug] Trained a tree with leaves = 525 and depth = 22\n",
      "[LightGBM] [Debug] Trained a tree with leaves = 525 and depth = 25\n",
      "[LightGBM] [Debug] Trained a tree with leaves = 525 and depth = 21\n",
      "[LightGBM] [Debug] Trained a tree with leaves = 525 and depth = 20\n",
      "[LightGBM] [Debug] Trained a tree with leaves = 525 and depth = 25\n",
      "[LightGBM] [Debug] Trained a tree with leaves = 525 and depth = 23\n",
      "[LightGBM] [Debug] Trained a tree with leaves = 525 and depth = 22\n",
      "[LightGBM] [Debug] Trained a tree with leaves = 525 and depth = 22\n",
      "[LightGBM] [Debug] Trained a tree with leaves = 525 and depth = 25\n",
      "[LightGBM] [Debug] Trained a tree with leaves = 525 and depth = 23\n",
      "[LightGBM] [Debug] Trained a tree with leaves = 525 and depth = 23\n",
      "[LightGBM] [Debug] Trained a tree with leaves = 525 and depth = 25\n",
      "[LightGBM] [Debug] Trained a tree with leaves = 525 and depth = 25\n",
      "[LightGBM] [Debug] Trained a tree with leaves = 525 and depth = 23\n",
      "[LightGBM] [Debug] Trained a tree with leaves = 525 and depth = 24\n",
      "[LightGBM] [Debug] Trained a tree with leaves = 525 and depth = 23\n",
      "[LightGBM] [Debug] Trained a tree with leaves = 525 and depth = 22\n",
      "[LightGBM] [Debug] Trained a tree with leaves = 525 and depth = 23\n",
      "[LightGBM] [Debug] Trained a tree with leaves = 525 and depth = 26\n",
      "[CV 1/3] END force_col_wise=true, learning_rate=0.05, num_leaves=525;, score=-2614390.483 total time=   1.8s\n",
      "[LightGBM] [Debug] Dataset::GetMultiBinFromSparseFeatures: sparse rate 0.736609\n",
      "[LightGBM] [Info] Total Bins 593\n",
      "[LightGBM] [Info] Number of data points in the train set: 156780, number of used features: 10\n",
      "[LightGBM] [Info] Start training from score 4585.264925\n",
      "[LightGBM] [Debug] Trained a tree with leaves = 525 and depth = 15\n",
      "[LightGBM] [Debug] Trained a tree with leaves = 525 and depth = 15\n",
      "[LightGBM] [Debug] Trained a tree with leaves = 525 and depth = 14\n",
      "[LightGBM] [Debug] Trained a tree with leaves = 525 and depth = 14\n",
      "[LightGBM] [Debug] Trained a tree with leaves = 525 and depth = 16\n",
      "[LightGBM] [Debug] Trained a tree with leaves = 525 and depth = 14\n",
      "[LightGBM] [Debug] Trained a tree with leaves = 525 and depth = 14\n",
      "[LightGBM] [Debug] Trained a tree with leaves = 525 and depth = 14\n",
      "[LightGBM] [Debug] Trained a tree with leaves = 525 and depth = 15\n",
      "[LightGBM] [Debug] Trained a tree with leaves = 525 and depth = 14\n",
      "[LightGBM] [Debug] Trained a tree with leaves = 525 and depth = 14\n",
      "[LightGBM] [Debug] Trained a tree with leaves = 525 and depth = 15\n",
      "[LightGBM] [Debug] Trained a tree with leaves = 525 and depth = 14\n",
      "[LightGBM] [Debug] Trained a tree with leaves = 525 and depth = 14\n",
      "[LightGBM] [Debug] Trained a tree with leaves = 525 and depth = 17\n",
      "[LightGBM] [Debug] Trained a tree with leaves = 525 and depth = 15\n",
      "[LightGBM] [Debug] Trained a tree with leaves = 525 and depth = 15\n",
      "[LightGBM] [Debug] Trained a tree with leaves = 525 and depth = 15\n",
      "[LightGBM] [Debug] Trained a tree with leaves = 525 and depth = 15\n",
      "[LightGBM] [Debug] Trained a tree with leaves = 525 and depth = 15\n",
      "[LightGBM] [Debug] Trained a tree with leaves = 525 and depth = 15\n",
      "[LightGBM] [Debug] Trained a tree with leaves = 525 and depth = 15\n",
      "[LightGBM] [Debug] Trained a tree with leaves = 525 and depth = 14\n",
      "[LightGBM] [Debug] Trained a tree with leaves = 525 and depth = 15\n",
      "[LightGBM] [Debug] Trained a tree with leaves = 525 and depth = 16\n",
      "[LightGBM] [Debug] Trained a tree with leaves = 525 and depth = 16\n",
      "[LightGBM] [Debug] Trained a tree with leaves = 525 and depth = 16\n",
      "[LightGBM] [Debug] Trained a tree with leaves = 525 and depth = 16\n",
      "[LightGBM] [Debug] Trained a tree with leaves = 525 and depth = 17\n",
      "[LightGBM] [Debug] Trained a tree with leaves = 525 and depth = 15\n",
      "[LightGBM] [Debug] Trained a tree with leaves = 525 and depth = 15\n",
      "[LightGBM] [Debug] Trained a tree with leaves = 525 and depth = 16\n",
      "[LightGBM] [Debug] Trained a tree with leaves = 525 and depth = 15\n",
      "[LightGBM] [Debug] Trained a tree with leaves = 525 and depth = 15\n",
      "[LightGBM] [Debug] Trained a tree with leaves = 525 and depth = 16\n",
      "[LightGBM] [Debug] Trained a tree with leaves = 525 and depth = 17\n",
      "[LightGBM] [Debug] Trained a tree with leaves = 525 and depth = 17\n",
      "[LightGBM] [Debug] Trained a tree with leaves = 525 and depth = 18\n",
      "[LightGBM] [Debug] Trained a tree with leaves = 525 and depth = 18\n",
      "[LightGBM] [Debug] Trained a tree with leaves = 525 and depth = 16\n",
      "[LightGBM] [Debug] Trained a tree with leaves = 525 and depth = 16\n",
      "[LightGBM] [Debug] Trained a tree with leaves = 525 and depth = 18\n",
      "[LightGBM] [Debug] Trained a tree with leaves = 525 and depth = 20\n",
      "[LightGBM] [Debug] Trained a tree with leaves = 525 and depth = 16\n",
      "[LightGBM] [Debug] Trained a tree with leaves = 525 and depth = 17\n",
      "[LightGBM] [Debug] Trained a tree with leaves = 525 and depth = 21\n",
      "[LightGBM] [Debug] Trained a tree with leaves = 525 and depth = 17\n",
      "[LightGBM] [Debug] Trained a tree with leaves = 525 and depth = 18\n",
      "[LightGBM] [Debug] Trained a tree with leaves = 525 and depth = 17\n",
      "[LightGBM] [Debug] Trained a tree with leaves = 525 and depth = 17\n",
      "[LightGBM] [Debug] Trained a tree with leaves = 525 and depth = 18\n",
      "[LightGBM] [Debug] Trained a tree with leaves = 525 and depth = 17\n",
      "[LightGBM] [Debug] Trained a tree with leaves = 525 and depth = 17\n",
      "[LightGBM] [Debug] Trained a tree with leaves = 525 and depth = 19\n",
      "[LightGBM] [Debug] Trained a tree with leaves = 525 and depth = 17\n",
      "[LightGBM] [Debug] Trained a tree with leaves = 525 and depth = 19\n",
      "[LightGBM] [Debug] Trained a tree with leaves = 525 and depth = 18\n",
      "[LightGBM] [Debug] Trained a tree with leaves = 525 and depth = 20\n",
      "[LightGBM] [Debug] Trained a tree with leaves = 525 and depth = 20\n",
      "[LightGBM] [Debug] Trained a tree with leaves = 525 and depth = 17\n",
      "[LightGBM] [Debug] Trained a tree with leaves = 525 and depth = 20\n",
      "[LightGBM] [Debug] Trained a tree with leaves = 525 and depth = 20\n",
      "[LightGBM] [Debug] Trained a tree with leaves = 525 and depth = 22\n",
      "[LightGBM] [Debug] Trained a tree with leaves = 525 and depth = 17\n",
      "[LightGBM] [Debug] Trained a tree with leaves = 525 and depth = 19\n",
      "[LightGBM] [Debug] Trained a tree with leaves = 525 and depth = 24\n",
      "[LightGBM] [Debug] Trained a tree with leaves = 525 and depth = 22\n",
      "[LightGBM] [Debug] Trained a tree with leaves = 525 and depth = 21\n",
      "[LightGBM] [Debug] Trained a tree with leaves = 525 and depth = 20\n",
      "[LightGBM] [Debug] Trained a tree with leaves = 525 and depth = 20\n",
      "[LightGBM] [Debug] Trained a tree with leaves = 525 and depth = 18\n",
      "[LightGBM] [Debug] Trained a tree with leaves = 525 and depth = 20\n",
      "[LightGBM] [Debug] Trained a tree with leaves = 525 and depth = 20\n",
      "[LightGBM] [Debug] Trained a tree with leaves = 525 and depth = 21\n",
      "[LightGBM] [Debug] Trained a tree with leaves = 525 and depth = 20\n",
      "[LightGBM] [Debug] Trained a tree with leaves = 525 and depth = 22\n",
      "[LightGBM] [Debug] Trained a tree with leaves = 525 and depth = 20\n",
      "[LightGBM] [Debug] Trained a tree with leaves = 525 and depth = 20\n",
      "[LightGBM] [Debug] Trained a tree with leaves = 525 and depth = 23\n",
      "[LightGBM] [Debug] Trained a tree with leaves = 525 and depth = 22\n",
      "[LightGBM] [Debug] Trained a tree with leaves = 525 and depth = 25\n",
      "[LightGBM] [Debug] Trained a tree with leaves = 525 and depth = 23\n",
      "[LightGBM] [Debug] Trained a tree with leaves = 525 and depth = 22\n",
      "[LightGBM] [Debug] Trained a tree with leaves = 525 and depth = 21\n",
      "[LightGBM] [Debug] Trained a tree with leaves = 525 and depth = 21\n",
      "[LightGBM] [Debug] Trained a tree with leaves = 525 and depth = 21\n",
      "[LightGBM] [Debug] Trained a tree with leaves = 525 and depth = 21\n",
      "[LightGBM] [Debug] Trained a tree with leaves = 525 and depth = 24\n",
      "[LightGBM] [Debug] Trained a tree with leaves = 525 and depth = 22\n",
      "[LightGBM] [Debug] Trained a tree with leaves = 525 and depth = 25\n",
      "[LightGBM] [Debug] Trained a tree with leaves = 525 and depth = 28\n",
      "[LightGBM] [Debug] Trained a tree with leaves = 525 and depth = 21\n",
      "[LightGBM] [Debug] Trained a tree with leaves = 525 and depth = 22\n",
      "[LightGBM] [Debug] Trained a tree with leaves = 525 and depth = 23\n",
      "[LightGBM] [Debug] Trained a tree with leaves = 525 and depth = 24\n",
      "[LightGBM] [Debug] Trained a tree with leaves = 525 and depth = 25\n",
      "[LightGBM] [Debug] Trained a tree with leaves = 525 and depth = 22\n",
      "[LightGBM] [Debug] Trained a tree with leaves = 525 and depth = 24\n",
      "[LightGBM] [Debug] Trained a tree with leaves = 525 and depth = 25\n",
      "[LightGBM] [Debug] Trained a tree with leaves = 525 and depth = 26\n"
     ]
    },
    {
     "name": "stdout",
     "output_type": "stream",
     "text": [
      "[CV 2/3] END force_col_wise=true, learning_rate=0.05, num_leaves=525;, score=-2640315.894 total time=   1.8s\n",
      "[LightGBM] [Debug] Dataset::GetMultiBinFromSparseFeatures: sparse rate 0.737074\n",
      "[LightGBM] [Info] Total Bins 594\n",
      "[LightGBM] [Info] Number of data points in the train set: 156780, number of used features: 10\n",
      "[LightGBM] [Info] Start training from score 4577.614511\n",
      "[LightGBM] [Debug] Trained a tree with leaves = 525 and depth = 14\n",
      "[LightGBM] [Debug] Trained a tree with leaves = 525 and depth = 14\n",
      "[LightGBM] [Debug] Trained a tree with leaves = 525 and depth = 14\n",
      "[LightGBM] [Debug] Trained a tree with leaves = 525 and depth = 15\n",
      "[LightGBM] [Debug] Trained a tree with leaves = 525 and depth = 14\n",
      "[LightGBM] [Debug] Trained a tree with leaves = 525 and depth = 15\n",
      "[LightGBM] [Debug] Trained a tree with leaves = 525 and depth = 14\n",
      "[LightGBM] [Debug] Trained a tree with leaves = 525 and depth = 14\n",
      "[LightGBM] [Debug] Trained a tree with leaves = 525 and depth = 15\n",
      "[LightGBM] [Debug] Trained a tree with leaves = 525 and depth = 14\n",
      "[LightGBM] [Debug] Trained a tree with leaves = 525 and depth = 15\n",
      "[LightGBM] [Debug] Trained a tree with leaves = 525 and depth = 14\n",
      "[LightGBM] [Debug] Trained a tree with leaves = 525 and depth = 14\n",
      "[LightGBM] [Debug] Trained a tree with leaves = 525 and depth = 15\n",
      "[LightGBM] [Debug] Trained a tree with leaves = 525 and depth = 15\n",
      "[LightGBM] [Debug] Trained a tree with leaves = 525 and depth = 14\n",
      "[LightGBM] [Debug] Trained a tree with leaves = 525 and depth = 16\n",
      "[LightGBM] [Debug] Trained a tree with leaves = 525 and depth = 14\n",
      "[LightGBM] [Debug] Trained a tree with leaves = 525 and depth = 16\n",
      "[LightGBM] [Debug] Trained a tree with leaves = 525 and depth = 19\n",
      "[LightGBM] [Debug] Trained a tree with leaves = 525 and depth = 16\n",
      "[LightGBM] [Debug] Trained a tree with leaves = 525 and depth = 15\n",
      "[LightGBM] [Debug] Trained a tree with leaves = 525 and depth = 15\n",
      "[LightGBM] [Debug] Trained a tree with leaves = 525 and depth = 15\n",
      "[LightGBM] [Debug] Trained a tree with leaves = 525 and depth = 14\n",
      "[LightGBM] [Debug] Trained a tree with leaves = 525 and depth = 16\n",
      "[LightGBM] [Debug] Trained a tree with leaves = 525 and depth = 16\n",
      "[LightGBM] [Debug] Trained a tree with leaves = 525 and depth = 16\n",
      "[LightGBM] [Debug] Trained a tree with leaves = 525 and depth = 15\n",
      "[LightGBM] [Debug] Trained a tree with leaves = 525 and depth = 16\n",
      "[LightGBM] [Debug] Trained a tree with leaves = 525 and depth = 16\n",
      "[LightGBM] [Debug] Trained a tree with leaves = 525 and depth = 15\n",
      "[LightGBM] [Debug] Trained a tree with leaves = 525 and depth = 16\n",
      "[LightGBM] [Debug] Trained a tree with leaves = 525 and depth = 17\n",
      "[LightGBM] [Debug] Trained a tree with leaves = 525 and depth = 17\n",
      "[LightGBM] [Debug] Trained a tree with leaves = 525 and depth = 18\n",
      "[LightGBM] [Debug] Trained a tree with leaves = 525 and depth = 17\n",
      "[LightGBM] [Debug] Trained a tree with leaves = 525 and depth = 16\n",
      "[LightGBM] [Debug] Trained a tree with leaves = 525 and depth = 16\n",
      "[LightGBM] [Debug] Trained a tree with leaves = 525 and depth = 17\n",
      "[LightGBM] [Debug] Trained a tree with leaves = 525 and depth = 16\n",
      "[LightGBM] [Debug] Trained a tree with leaves = 525 and depth = 18\n",
      "[LightGBM] [Debug] Trained a tree with leaves = 525 and depth = 18\n",
      "[LightGBM] [Debug] Trained a tree with leaves = 525 and depth = 19\n",
      "[LightGBM] [Debug] Trained a tree with leaves = 525 and depth = 18\n",
      "[LightGBM] [Debug] Trained a tree with leaves = 525 and depth = 18\n",
      "[LightGBM] [Debug] Trained a tree with leaves = 525 and depth = 17\n",
      "[LightGBM] [Debug] Trained a tree with leaves = 525 and depth = 18\n",
      "[LightGBM] [Debug] Trained a tree with leaves = 525 and depth = 17\n",
      "[LightGBM] [Debug] Trained a tree with leaves = 525 and depth = 17\n",
      "[LightGBM] [Debug] Trained a tree with leaves = 525 and depth = 20\n",
      "[LightGBM] [Debug] Trained a tree with leaves = 525 and depth = 18\n",
      "[LightGBM] [Debug] Trained a tree with leaves = 525 and depth = 17\n",
      "[LightGBM] [Debug] Trained a tree with leaves = 525 and depth = 20\n",
      "[LightGBM] [Debug] Trained a tree with leaves = 525 and depth = 18\n",
      "[LightGBM] [Debug] Trained a tree with leaves = 525 and depth = 20\n",
      "[LightGBM] [Debug] Trained a tree with leaves = 525 and depth = 16\n",
      "[LightGBM] [Debug] Trained a tree with leaves = 525 and depth = 18\n",
      "[LightGBM] [Debug] Trained a tree with leaves = 525 and depth = 18\n",
      "[LightGBM] [Debug] Trained a tree with leaves = 525 and depth = 19\n",
      "[LightGBM] [Debug] Trained a tree with leaves = 525 and depth = 19\n",
      "[LightGBM] [Debug] Trained a tree with leaves = 525 and depth = 20\n",
      "[LightGBM] [Debug] Trained a tree with leaves = 525 and depth = 20\n",
      "[LightGBM] [Debug] Trained a tree with leaves = 525 and depth = 19\n",
      "[LightGBM] [Debug] Trained a tree with leaves = 525 and depth = 18\n",
      "[LightGBM] [Debug] Trained a tree with leaves = 525 and depth = 19\n",
      "[LightGBM] [Debug] Trained a tree with leaves = 525 and depth = 20\n",
      "[LightGBM] [Debug] Trained a tree with leaves = 525 and depth = 19\n",
      "[LightGBM] [Debug] Trained a tree with leaves = 525 and depth = 19\n",
      "[LightGBM] [Debug] Trained a tree with leaves = 525 and depth = 21\n",
      "[LightGBM] [Debug] Trained a tree with leaves = 525 and depth = 21\n",
      "[LightGBM] [Debug] Trained a tree with leaves = 525 and depth = 22\n",
      "[LightGBM] [Debug] Trained a tree with leaves = 525 and depth = 24\n",
      "[LightGBM] [Debug] Trained a tree with leaves = 525 and depth = 20\n",
      "[LightGBM] [Debug] Trained a tree with leaves = 525 and depth = 22\n",
      "[LightGBM] [Debug] Trained a tree with leaves = 525 and depth = 21\n",
      "[LightGBM] [Debug] Trained a tree with leaves = 525 and depth = 22\n",
      "[LightGBM] [Debug] Trained a tree with leaves = 525 and depth = 21\n",
      "[LightGBM] [Debug] Trained a tree with leaves = 525 and depth = 22\n",
      "[LightGBM] [Debug] Trained a tree with leaves = 525 and depth = 21\n",
      "[LightGBM] [Debug] Trained a tree with leaves = 525 and depth = 23\n",
      "[LightGBM] [Debug] Trained a tree with leaves = 525 and depth = 21\n",
      "[LightGBM] [Debug] Trained a tree with leaves = 525 and depth = 20\n",
      "[LightGBM] [Debug] Trained a tree with leaves = 525 and depth = 21\n",
      "[LightGBM] [Debug] Trained a tree with leaves = 525 and depth = 23\n",
      "[LightGBM] [Debug] Trained a tree with leaves = 525 and depth = 21\n",
      "[LightGBM] [Debug] Trained a tree with leaves = 525 and depth = 22\n",
      "[LightGBM] [Debug] Trained a tree with leaves = 525 and depth = 21\n",
      "[LightGBM] [Debug] Trained a tree with leaves = 525 and depth = 25\n",
      "[LightGBM] [Debug] Trained a tree with leaves = 525 and depth = 27\n",
      "[LightGBM] [Debug] Trained a tree with leaves = 525 and depth = 25\n",
      "[LightGBM] [Debug] Trained a tree with leaves = 525 and depth = 24\n",
      "[LightGBM] [Debug] Trained a tree with leaves = 525 and depth = 21\n",
      "[LightGBM] [Debug] Trained a tree with leaves = 525 and depth = 23\n",
      "[LightGBM] [Debug] Trained a tree with leaves = 525 and depth = 24\n",
      "[LightGBM] [Debug] Trained a tree with leaves = 525 and depth = 23\n",
      "[LightGBM] [Debug] Trained a tree with leaves = 525 and depth = 26\n",
      "[LightGBM] [Debug] Trained a tree with leaves = 525 and depth = 24\n",
      "[LightGBM] [Debug] Trained a tree with leaves = 525 and depth = 31\n",
      "[LightGBM] [Debug] Trained a tree with leaves = 525 and depth = 25\n",
      "[CV 3/3] END force_col_wise=true, learning_rate=0.05, num_leaves=525;, score=-2558886.335 total time=   1.8s\n",
      "[LightGBM] [Debug] Dataset::GetMultiBinFromSparseFeatures: sparse rate 0.736408\n",
      "[LightGBM] [Info] Total Bins 590\n",
      "[LightGBM] [Info] Number of data points in the train set: 156780, number of used features: 10\n",
      "[LightGBM] [Info] Start training from score 4578.288391\n",
      "[LightGBM] [Debug] Trained a tree with leaves = 550 and depth = 13\n",
      "[LightGBM] [Debug] Trained a tree with leaves = 550 and depth = 14\n",
      "[LightGBM] [Debug] Trained a tree with leaves = 550 and depth = 14\n",
      "[LightGBM] [Debug] Trained a tree with leaves = 550 and depth = 15\n",
      "[LightGBM] [Debug] Trained a tree with leaves = 550 and depth = 15\n",
      "[LightGBM] [Debug] Trained a tree with leaves = 550 and depth = 14\n",
      "[LightGBM] [Debug] Trained a tree with leaves = 550 and depth = 15\n",
      "[LightGBM] [Debug] Trained a tree with leaves = 550 and depth = 14\n",
      "[LightGBM] [Debug] Trained a tree with leaves = 550 and depth = 14\n",
      "[LightGBM] [Debug] Trained a tree with leaves = 550 and depth = 14\n",
      "[LightGBM] [Debug] Trained a tree with leaves = 550 and depth = 14\n",
      "[LightGBM] [Debug] Trained a tree with leaves = 550 and depth = 15\n",
      "[LightGBM] [Debug] Trained a tree with leaves = 550 and depth = 14\n",
      "[LightGBM] [Debug] Trained a tree with leaves = 550 and depth = 14\n",
      "[LightGBM] [Debug] Trained a tree with leaves = 550 and depth = 17\n",
      "[LightGBM] [Debug] Trained a tree with leaves = 550 and depth = 15\n",
      "[LightGBM] [Debug] Trained a tree with leaves = 550 and depth = 16\n"
     ]
    },
    {
     "name": "stdout",
     "output_type": "stream",
     "text": [
      "[LightGBM] [Debug] Trained a tree with leaves = 550 and depth = 15\n",
      "[LightGBM] [Debug] Trained a tree with leaves = 550 and depth = 16\n",
      "[LightGBM] [Debug] Trained a tree with leaves = 550 and depth = 15\n",
      "[LightGBM] [Debug] Trained a tree with leaves = 550 and depth = 16\n",
      "[LightGBM] [Debug] Trained a tree with leaves = 550 and depth = 16\n",
      "[LightGBM] [Debug] Trained a tree with leaves = 550 and depth = 15\n",
      "[LightGBM] [Debug] Trained a tree with leaves = 550 and depth = 18\n",
      "[LightGBM] [Debug] Trained a tree with leaves = 550 and depth = 16\n",
      "[LightGBM] [Debug] Trained a tree with leaves = 550 and depth = 18\n",
      "[LightGBM] [Debug] Trained a tree with leaves = 550 and depth = 18\n",
      "[LightGBM] [Debug] Trained a tree with leaves = 550 and depth = 15\n",
      "[LightGBM] [Debug] Trained a tree with leaves = 550 and depth = 16\n",
      "[LightGBM] [Debug] Trained a tree with leaves = 550 and depth = 17\n",
      "[LightGBM] [Debug] Trained a tree with leaves = 550 and depth = 17\n",
      "[LightGBM] [Debug] Trained a tree with leaves = 550 and depth = 16\n",
      "[LightGBM] [Debug] Trained a tree with leaves = 550 and depth = 15\n",
      "[LightGBM] [Debug] Trained a tree with leaves = 550 and depth = 15\n",
      "[LightGBM] [Debug] Trained a tree with leaves = 550 and depth = 17\n",
      "[LightGBM] [Debug] Trained a tree with leaves = 550 and depth = 16\n",
      "[LightGBM] [Debug] Trained a tree with leaves = 550 and depth = 16\n",
      "[LightGBM] [Debug] Trained a tree with leaves = 550 and depth = 17\n",
      "[LightGBM] [Debug] Trained a tree with leaves = 550 and depth = 16\n",
      "[LightGBM] [Debug] Trained a tree with leaves = 550 and depth = 16\n",
      "[LightGBM] [Debug] Trained a tree with leaves = 550 and depth = 17\n",
      "[LightGBM] [Debug] Trained a tree with leaves = 550 and depth = 17\n",
      "[LightGBM] [Debug] Trained a tree with leaves = 550 and depth = 18\n",
      "[LightGBM] [Debug] Trained a tree with leaves = 550 and depth = 17\n",
      "[LightGBM] [Debug] Trained a tree with leaves = 550 and depth = 17\n",
      "[LightGBM] [Debug] Trained a tree with leaves = 550 and depth = 18\n",
      "[LightGBM] [Debug] Trained a tree with leaves = 550 and depth = 20\n",
      "[LightGBM] [Debug] Trained a tree with leaves = 550 and depth = 19\n",
      "[LightGBM] [Debug] Trained a tree with leaves = 550 and depth = 21\n",
      "[LightGBM] [Debug] Trained a tree with leaves = 550 and depth = 18\n",
      "[LightGBM] [Debug] Trained a tree with leaves = 550 and depth = 19\n",
      "[LightGBM] [Debug] Trained a tree with leaves = 550 and depth = 19\n",
      "[LightGBM] [Debug] Trained a tree with leaves = 550 and depth = 18\n",
      "[LightGBM] [Debug] Trained a tree with leaves = 550 and depth = 17\n",
      "[LightGBM] [Debug] Trained a tree with leaves = 550 and depth = 19\n",
      "[LightGBM] [Debug] Trained a tree with leaves = 550 and depth = 20\n",
      "[LightGBM] [Debug] Trained a tree with leaves = 550 and depth = 18\n",
      "[LightGBM] [Debug] Trained a tree with leaves = 550 and depth = 18\n",
      "[LightGBM] [Debug] Trained a tree with leaves = 550 and depth = 19\n",
      "[LightGBM] [Debug] Trained a tree with leaves = 550 and depth = 18\n",
      "[LightGBM] [Debug] Trained a tree with leaves = 550 and depth = 18\n",
      "[LightGBM] [Debug] Trained a tree with leaves = 550 and depth = 19\n",
      "[LightGBM] [Debug] Trained a tree with leaves = 550 and depth = 20\n",
      "[LightGBM] [Debug] Trained a tree with leaves = 550 and depth = 19\n",
      "[LightGBM] [Debug] Trained a tree with leaves = 550 and depth = 19\n",
      "[LightGBM] [Debug] Trained a tree with leaves = 550 and depth = 22\n",
      "[LightGBM] [Debug] Trained a tree with leaves = 550 and depth = 18\n",
      "[LightGBM] [Debug] Trained a tree with leaves = 550 and depth = 24\n",
      "[LightGBM] [Debug] Trained a tree with leaves = 550 and depth = 21\n",
      "[LightGBM] [Debug] Trained a tree with leaves = 550 and depth = 20\n",
      "[LightGBM] [Debug] Trained a tree with leaves = 550 and depth = 23\n",
      "[LightGBM] [Debug] Trained a tree with leaves = 550 and depth = 20\n",
      "[LightGBM] [Debug] Trained a tree with leaves = 550 and depth = 20\n",
      "[LightGBM] [Debug] Trained a tree with leaves = 550 and depth = 21\n",
      "[LightGBM] [Debug] Trained a tree with leaves = 550 and depth = 25\n",
      "[LightGBM] [Debug] Trained a tree with leaves = 550 and depth = 21\n",
      "[LightGBM] [Debug] Trained a tree with leaves = 550 and depth = 20\n",
      "[LightGBM] [Debug] Trained a tree with leaves = 550 and depth = 23\n",
      "[LightGBM] [Debug] Trained a tree with leaves = 550 and depth = 21\n",
      "[LightGBM] [Debug] Trained a tree with leaves = 550 and depth = 27\n",
      "[LightGBM] [Debug] Trained a tree with leaves = 550 and depth = 19\n",
      "[LightGBM] [Debug] Trained a tree with leaves = 550 and depth = 23\n",
      "[LightGBM] [Debug] Trained a tree with leaves = 550 and depth = 20\n",
      "[LightGBM] [Debug] Trained a tree with leaves = 550 and depth = 23\n",
      "[LightGBM] [Debug] Trained a tree with leaves = 550 and depth = 24\n",
      "[LightGBM] [Debug] Trained a tree with leaves = 550 and depth = 23\n",
      "[LightGBM] [Debug] Trained a tree with leaves = 550 and depth = 25\n",
      "[LightGBM] [Debug] Trained a tree with leaves = 550 and depth = 21\n",
      "[LightGBM] [Debug] Trained a tree with leaves = 550 and depth = 28\n",
      "[LightGBM] [Debug] Trained a tree with leaves = 550 and depth = 24\n",
      "[LightGBM] [Debug] Trained a tree with leaves = 550 and depth = 25\n",
      "[LightGBM] [Debug] Trained a tree with leaves = 550 and depth = 21\n",
      "[LightGBM] [Debug] Trained a tree with leaves = 550 and depth = 23\n",
      "[LightGBM] [Debug] Trained a tree with leaves = 550 and depth = 24\n",
      "[LightGBM] [Debug] Trained a tree with leaves = 550 and depth = 24\n",
      "[LightGBM] [Debug] Trained a tree with leaves = 550 and depth = 23\n",
      "[LightGBM] [Debug] Trained a tree with leaves = 550 and depth = 27\n",
      "[LightGBM] [Debug] Trained a tree with leaves = 550 and depth = 27\n",
      "[LightGBM] [Debug] Trained a tree with leaves = 550 and depth = 25\n",
      "[LightGBM] [Debug] Trained a tree with leaves = 550 and depth = 24\n",
      "[CV 1/3] END force_col_wise=true, learning_rate=0.05, num_leaves=550;, score=-2608513.430 total time=   1.8s\n",
      "[LightGBM] [Debug] Dataset::GetMultiBinFromSparseFeatures: sparse rate 0.736609\n",
      "[LightGBM] [Info] Total Bins 593\n",
      "[LightGBM] [Info] Number of data points in the train set: 156780, number of used features: 10\n",
      "[LightGBM] [Info] Start training from score 4585.264925\n",
      "[LightGBM] [Debug] Trained a tree with leaves = 550 and depth = 15\n",
      "[LightGBM] [Debug] Trained a tree with leaves = 550 and depth = 15\n",
      "[LightGBM] [Debug] Trained a tree with leaves = 550 and depth = 15\n",
      "[LightGBM] [Debug] Trained a tree with leaves = 550 and depth = 14\n",
      "[LightGBM] [Debug] Trained a tree with leaves = 550 and depth = 16\n",
      "[LightGBM] [Debug] Trained a tree with leaves = 550 and depth = 14\n",
      "[LightGBM] [Debug] Trained a tree with leaves = 550 and depth = 14\n",
      "[LightGBM] [Debug] Trained a tree with leaves = 550 and depth = 14\n",
      "[LightGBM] [Debug] Trained a tree with leaves = 550 and depth = 14\n",
      "[LightGBM] [Debug] Trained a tree with leaves = 550 and depth = 14\n",
      "[LightGBM] [Debug] Trained a tree with leaves = 550 and depth = 15\n",
      "[LightGBM] [Debug] Trained a tree with leaves = 550 and depth = 14\n",
      "[LightGBM] [Debug] Trained a tree with leaves = 550 and depth = 14\n",
      "[LightGBM] [Debug] Trained a tree with leaves = 550 and depth = 15\n",
      "[LightGBM] [Debug] Trained a tree with leaves = 550 and depth = 15\n",
      "[LightGBM] [Debug] Trained a tree with leaves = 550 and depth = 15\n",
      "[LightGBM] [Debug] Trained a tree with leaves = 550 and depth = 15\n",
      "[LightGBM] [Debug] Trained a tree with leaves = 550 and depth = 16\n",
      "[LightGBM] [Debug] Trained a tree with leaves = 550 and depth = 14\n",
      "[LightGBM] [Debug] Trained a tree with leaves = 550 and depth = 14\n",
      "[LightGBM] [Debug] Trained a tree with leaves = 550 and depth = 15\n",
      "[LightGBM] [Debug] Trained a tree with leaves = 550 and depth = 15\n",
      "[LightGBM] [Debug] Trained a tree with leaves = 550 and depth = 16\n",
      "[LightGBM] [Debug] Trained a tree with leaves = 550 and depth = 15\n",
      "[LightGBM] [Debug] Trained a tree with leaves = 550 and depth = 17\n",
      "[LightGBM] [Debug] Trained a tree with leaves = 550 and depth = 15\n",
      "[LightGBM] [Debug] Trained a tree with leaves = 550 and depth = 18\n",
      "[LightGBM] [Debug] Trained a tree with leaves = 550 and depth = 15\n",
      "[LightGBM] [Debug] Trained a tree with leaves = 550 and depth = 17\n",
      "[LightGBM] [Debug] Trained a tree with leaves = 550 and depth = 18\n",
      "[LightGBM] [Debug] Trained a tree with leaves = 550 and depth = 15\n",
      "[LightGBM] [Debug] Trained a tree with leaves = 550 and depth = 16\n",
      "[LightGBM] [Debug] Trained a tree with leaves = 550 and depth = 16\n",
      "[LightGBM] [Debug] Trained a tree with leaves = 550 and depth = 16\n",
      "[LightGBM] [Debug] Trained a tree with leaves = 550 and depth = 16\n",
      "[LightGBM] [Debug] Trained a tree with leaves = 550 and depth = 15\n",
      "[LightGBM] [Debug] Trained a tree with leaves = 550 and depth = 18\n",
      "[LightGBM] [Debug] Trained a tree with leaves = 550 and depth = 16\n",
      "[LightGBM] [Debug] Trained a tree with leaves = 550 and depth = 17\n",
      "[LightGBM] [Debug] Trained a tree with leaves = 550 and depth = 18\n",
      "[LightGBM] [Debug] Trained a tree with leaves = 550 and depth = 16\n"
     ]
    },
    {
     "name": "stdout",
     "output_type": "stream",
     "text": [
      "[LightGBM] [Debug] Trained a tree with leaves = 550 and depth = 18\n",
      "[LightGBM] [Debug] Trained a tree with leaves = 550 and depth = 16\n",
      "[LightGBM] [Debug] Trained a tree with leaves = 550 and depth = 18\n",
      "[LightGBM] [Debug] Trained a tree with leaves = 550 and depth = 17\n",
      "[LightGBM] [Debug] Trained a tree with leaves = 550 and depth = 18\n",
      "[LightGBM] [Debug] Trained a tree with leaves = 550 and depth = 17\n",
      "[LightGBM] [Debug] Trained a tree with leaves = 550 and depth = 17\n",
      "[LightGBM] [Debug] Trained a tree with leaves = 550 and depth = 16\n",
      "[LightGBM] [Debug] Trained a tree with leaves = 550 and depth = 21\n",
      "[LightGBM] [Debug] Trained a tree with leaves = 550 and depth = 17\n",
      "[LightGBM] [Debug] Trained a tree with leaves = 550 and depth = 18\n",
      "[LightGBM] [Debug] Trained a tree with leaves = 550 and depth = 18\n",
      "[LightGBM] [Debug] Trained a tree with leaves = 550 and depth = 17\n",
      "[LightGBM] [Debug] Trained a tree with leaves = 550 and depth = 20\n",
      "[LightGBM] [Debug] Trained a tree with leaves = 550 and depth = 18\n",
      "[LightGBM] [Debug] Trained a tree with leaves = 550 and depth = 21\n",
      "[LightGBM] [Debug] Trained a tree with leaves = 550 and depth = 19\n",
      "[LightGBM] [Debug] Trained a tree with leaves = 550 and depth = 18\n",
      "[LightGBM] [Debug] Trained a tree with leaves = 550 and depth = 19\n",
      "[LightGBM] [Debug] Trained a tree with leaves = 550 and depth = 18\n",
      "[LightGBM] [Debug] Trained a tree with leaves = 550 and depth = 20\n",
      "[LightGBM] [Debug] Trained a tree with leaves = 550 and depth = 20\n",
      "[LightGBM] [Debug] Trained a tree with leaves = 550 and depth = 19\n",
      "[LightGBM] [Debug] Trained a tree with leaves = 550 and depth = 18\n",
      "[LightGBM] [Debug] Trained a tree with leaves = 550 and depth = 18\n",
      "[LightGBM] [Debug] Trained a tree with leaves = 550 and depth = 20\n",
      "[LightGBM] [Debug] Trained a tree with leaves = 550 and depth = 19\n",
      "[LightGBM] [Debug] Trained a tree with leaves = 550 and depth = 24\n",
      "[LightGBM] [Debug] Trained a tree with leaves = 550 and depth = 22\n",
      "[LightGBM] [Debug] Trained a tree with leaves = 550 and depth = 23\n",
      "[LightGBM] [Debug] Trained a tree with leaves = 550 and depth = 21\n",
      "[LightGBM] [Debug] Trained a tree with leaves = 550 and depth = 20\n",
      "[LightGBM] [Debug] Trained a tree with leaves = 550 and depth = 22\n",
      "[LightGBM] [Debug] Trained a tree with leaves = 550 and depth = 20\n",
      "[LightGBM] [Debug] Trained a tree with leaves = 550 and depth = 20\n",
      "[LightGBM] [Debug] Trained a tree with leaves = 550 and depth = 21\n",
      "[LightGBM] [Debug] Trained a tree with leaves = 550 and depth = 22\n",
      "[LightGBM] [Debug] Trained a tree with leaves = 550 and depth = 19\n",
      "[LightGBM] [Debug] Trained a tree with leaves = 550 and depth = 20\n",
      "[LightGBM] [Debug] Trained a tree with leaves = 550 and depth = 21\n",
      "[LightGBM] [Debug] Trained a tree with leaves = 550 and depth = 21\n",
      "[LightGBM] [Debug] Trained a tree with leaves = 550 and depth = 21\n",
      "[LightGBM] [Debug] Trained a tree with leaves = 550 and depth = 23\n",
      "[LightGBM] [Debug] Trained a tree with leaves = 550 and depth = 21\n",
      "[LightGBM] [Debug] Trained a tree with leaves = 550 and depth = 23\n",
      "[LightGBM] [Debug] Trained a tree with leaves = 550 and depth = 24\n",
      "[LightGBM] [Debug] Trained a tree with leaves = 550 and depth = 24\n",
      "[LightGBM] [Debug] Trained a tree with leaves = 550 and depth = 27\n",
      "[LightGBM] [Debug] Trained a tree with leaves = 550 and depth = 22\n",
      "[LightGBM] [Debug] Trained a tree with leaves = 550 and depth = 22\n",
      "[LightGBM] [Debug] Trained a tree with leaves = 550 and depth = 28\n",
      "[LightGBM] [Debug] Trained a tree with leaves = 550 and depth = 23\n",
      "[LightGBM] [Debug] Trained a tree with leaves = 550 and depth = 21\n",
      "[LightGBM] [Debug] Trained a tree with leaves = 550 and depth = 24\n",
      "[LightGBM] [Debug] Trained a tree with leaves = 550 and depth = 27\n",
      "[LightGBM] [Debug] Trained a tree with leaves = 550 and depth = 23\n",
      "[LightGBM] [Debug] Trained a tree with leaves = 550 and depth = 27\n",
      "[LightGBM] [Debug] Trained a tree with leaves = 550 and depth = 24\n",
      "[LightGBM] [Debug] Trained a tree with leaves = 550 and depth = 32\n",
      "[CV 2/3] END force_col_wise=true, learning_rate=0.05, num_leaves=550;, score=-2642917.823 total time=   1.9s\n",
      "[LightGBM] [Debug] Dataset::GetMultiBinFromSparseFeatures: sparse rate 0.737074\n",
      "[LightGBM] [Info] Total Bins 594\n",
      "[LightGBM] [Info] Number of data points in the train set: 156780, number of used features: 10\n",
      "[LightGBM] [Info] Start training from score 4577.614511\n",
      "[LightGBM] [Debug] Trained a tree with leaves = 550 and depth = 14\n",
      "[LightGBM] [Debug] Trained a tree with leaves = 550 and depth = 14\n",
      "[LightGBM] [Debug] Trained a tree with leaves = 550 and depth = 14\n",
      "[LightGBM] [Debug] Trained a tree with leaves = 550 and depth = 15\n",
      "[LightGBM] [Debug] Trained a tree with leaves = 550 and depth = 14\n",
      "[LightGBM] [Debug] Trained a tree with leaves = 550 and depth = 15\n",
      "[LightGBM] [Debug] Trained a tree with leaves = 550 and depth = 14\n",
      "[LightGBM] [Debug] Trained a tree with leaves = 550 and depth = 14\n",
      "[LightGBM] [Debug] Trained a tree with leaves = 550 and depth = 15\n",
      "[LightGBM] [Debug] Trained a tree with leaves = 550 and depth = 14\n",
      "[LightGBM] [Debug] Trained a tree with leaves = 550 and depth = 15\n",
      "[LightGBM] [Debug] Trained a tree with leaves = 550 and depth = 15\n",
      "[LightGBM] [Debug] Trained a tree with leaves = 550 and depth = 15\n",
      "[LightGBM] [Debug] Trained a tree with leaves = 550 and depth = 15\n",
      "[LightGBM] [Debug] Trained a tree with leaves = 550 and depth = 14\n",
      "[LightGBM] [Debug] Trained a tree with leaves = 550 and depth = 16\n",
      "[LightGBM] [Debug] Trained a tree with leaves = 550 and depth = 15\n",
      "[LightGBM] [Debug] Trained a tree with leaves = 550 and depth = 15\n",
      "[LightGBM] [Debug] Trained a tree with leaves = 550 and depth = 15\n",
      "[LightGBM] [Debug] Trained a tree with leaves = 550 and depth = 15\n",
      "[LightGBM] [Debug] Trained a tree with leaves = 550 and depth = 16\n",
      "[LightGBM] [Debug] Trained a tree with leaves = 550 and depth = 15\n",
      "[LightGBM] [Debug] Trained a tree with leaves = 550 and depth = 16\n",
      "[LightGBM] [Debug] Trained a tree with leaves = 550 and depth = 15\n",
      "[LightGBM] [Debug] Trained a tree with leaves = 550 and depth = 16\n",
      "[LightGBM] [Debug] Trained a tree with leaves = 550 and depth = 16\n",
      "[LightGBM] [Debug] Trained a tree with leaves = 550 and depth = 17\n",
      "[LightGBM] [Debug] Trained a tree with leaves = 550 and depth = 16\n",
      "[LightGBM] [Debug] Trained a tree with leaves = 550 and depth = 18\n",
      "[LightGBM] [Debug] Trained a tree with leaves = 550 and depth = 15\n",
      "[LightGBM] [Debug] Trained a tree with leaves = 550 and depth = 16\n",
      "[LightGBM] [Debug] Trained a tree with leaves = 550 and depth = 18\n",
      "[LightGBM] [Debug] Trained a tree with leaves = 550 and depth = 16\n",
      "[LightGBM] [Debug] Trained a tree with leaves = 550 and depth = 16\n",
      "[LightGBM] [Debug] Trained a tree with leaves = 550 and depth = 16\n",
      "[LightGBM] [Debug] Trained a tree with leaves = 550 and depth = 15\n",
      "[LightGBM] [Debug] Trained a tree with leaves = 550 and depth = 17\n",
      "[LightGBM] [Debug] Trained a tree with leaves = 550 and depth = 16\n",
      "[LightGBM] [Debug] Trained a tree with leaves = 550 and depth = 17\n",
      "[LightGBM] [Debug] Trained a tree with leaves = 550 and depth = 16\n",
      "[LightGBM] [Debug] Trained a tree with leaves = 550 and depth = 16\n",
      "[LightGBM] [Debug] Trained a tree with leaves = 550 and depth = 17\n",
      "[LightGBM] [Debug] Trained a tree with leaves = 550 and depth = 18\n",
      "[LightGBM] [Debug] Trained a tree with leaves = 550 and depth = 18\n",
      "[LightGBM] [Debug] Trained a tree with leaves = 550 and depth = 18\n",
      "[LightGBM] [Debug] Trained a tree with leaves = 550 and depth = 17\n",
      "[LightGBM] [Debug] Trained a tree with leaves = 550 and depth = 17\n",
      "[LightGBM] [Debug] Trained a tree with leaves = 550 and depth = 17\n",
      "[LightGBM] [Debug] Trained a tree with leaves = 550 and depth = 17\n",
      "[LightGBM] [Debug] Trained a tree with leaves = 550 and depth = 17\n",
      "[LightGBM] [Debug] Trained a tree with leaves = 550 and depth = 19\n",
      "[LightGBM] [Debug] Trained a tree with leaves = 550 and depth = 19\n",
      "[LightGBM] [Debug] Trained a tree with leaves = 550 and depth = 20\n",
      "[LightGBM] [Debug] Trained a tree with leaves = 550 and depth = 18\n",
      "[LightGBM] [Debug] Trained a tree with leaves = 550 and depth = 22\n",
      "[LightGBM] [Debug] Trained a tree with leaves = 550 and depth = 20\n",
      "[LightGBM] [Debug] Trained a tree with leaves = 550 and depth = 20\n",
      "[LightGBM] [Debug] Trained a tree with leaves = 550 and depth = 18\n",
      "[LightGBM] [Debug] Trained a tree with leaves = 550 and depth = 18\n"
     ]
    },
    {
     "name": "stdout",
     "output_type": "stream",
     "text": [
      "[LightGBM] [Debug] Trained a tree with leaves = 550 and depth = 19\n",
      "[LightGBM] [Debug] Trained a tree with leaves = 550 and depth = 20\n",
      "[LightGBM] [Debug] Trained a tree with leaves = 550 and depth = 19\n",
      "[LightGBM] [Debug] Trained a tree with leaves = 550 and depth = 19\n",
      "[LightGBM] [Debug] Trained a tree with leaves = 550 and depth = 17\n",
      "[LightGBM] [Debug] Trained a tree with leaves = 550 and depth = 20\n",
      "[LightGBM] [Debug] Trained a tree with leaves = 550 and depth = 20\n",
      "[LightGBM] [Debug] Trained a tree with leaves = 550 and depth = 21\n",
      "[LightGBM] [Debug] Trained a tree with leaves = 550 and depth = 22\n",
      "[LightGBM] [Debug] Trained a tree with leaves = 550 and depth = 20\n",
      "[LightGBM] [Debug] Trained a tree with leaves = 550 and depth = 21\n",
      "[LightGBM] [Debug] Trained a tree with leaves = 550 and depth = 23\n",
      "[LightGBM] [Debug] Trained a tree with leaves = 550 and depth = 20\n",
      "[LightGBM] [Debug] Trained a tree with leaves = 550 and depth = 22\n",
      "[LightGBM] [Debug] Trained a tree with leaves = 550 and depth = 23\n",
      "[LightGBM] [Debug] Trained a tree with leaves = 550 and depth = 20\n",
      "[LightGBM] [Debug] Trained a tree with leaves = 550 and depth = 20\n",
      "[LightGBM] [Debug] Trained a tree with leaves = 550 and depth = 22\n",
      "[LightGBM] [Debug] Trained a tree with leaves = 550 and depth = 25\n",
      "[LightGBM] [Debug] Trained a tree with leaves = 550 and depth = 20\n",
      "[LightGBM] [Debug] Trained a tree with leaves = 550 and depth = 22\n",
      "[LightGBM] [Debug] Trained a tree with leaves = 550 and depth = 23\n",
      "[LightGBM] [Debug] Trained a tree with leaves = 550 and depth = 22\n",
      "[LightGBM] [Debug] Trained a tree with leaves = 550 and depth = 27\n",
      "[LightGBM] [Debug] Trained a tree with leaves = 550 and depth = 21\n",
      "[LightGBM] [Debug] Trained a tree with leaves = 550 and depth = 23\n",
      "[LightGBM] [Debug] Trained a tree with leaves = 550 and depth = 21\n",
      "[LightGBM] [Debug] Trained a tree with leaves = 550 and depth = 20\n",
      "[LightGBM] [Debug] Trained a tree with leaves = 550 and depth = 22\n",
      "[LightGBM] [Debug] Trained a tree with leaves = 550 and depth = 27\n",
      "[LightGBM] [Debug] Trained a tree with leaves = 550 and depth = 22\n",
      "[LightGBM] [Debug] Trained a tree with leaves = 550 and depth = 23\n",
      "[LightGBM] [Debug] Trained a tree with leaves = 550 and depth = 22\n",
      "[LightGBM] [Debug] Trained a tree with leaves = 550 and depth = 24\n",
      "[LightGBM] [Debug] Trained a tree with leaves = 550 and depth = 24\n",
      "[LightGBM] [Debug] Trained a tree with leaves = 550 and depth = 22\n",
      "[LightGBM] [Debug] Trained a tree with leaves = 550 and depth = 26\n",
      "[LightGBM] [Debug] Trained a tree with leaves = 550 and depth = 23\n",
      "[LightGBM] [Debug] Trained a tree with leaves = 550 and depth = 24\n",
      "[LightGBM] [Debug] Trained a tree with leaves = 550 and depth = 27\n",
      "[LightGBM] [Debug] Trained a tree with leaves = 550 and depth = 27\n",
      "[CV 3/3] END force_col_wise=true, learning_rate=0.05, num_leaves=550;, score=-2554089.568 total time=   1.8s\n",
      "[LightGBM] [Debug] Dataset::GetMultiBinFromSparseFeatures: sparse rate 0.736408\n",
      "[LightGBM] [Info] Total Bins 590\n",
      "[LightGBM] [Info] Number of data points in the train set: 156780, number of used features: 10\n",
      "[LightGBM] [Info] Start training from score 4578.288391\n",
      "[LightGBM] [Debug] Trained a tree with leaves = 575 and depth = 14\n",
      "[LightGBM] [Debug] Trained a tree with leaves = 575 and depth = 14\n",
      "[LightGBM] [Debug] Trained a tree with leaves = 575 and depth = 14\n",
      "[LightGBM] [Debug] Trained a tree with leaves = 575 and depth = 15\n",
      "[LightGBM] [Debug] Trained a tree with leaves = 575 and depth = 15\n",
      "[LightGBM] [Debug] Trained a tree with leaves = 575 and depth = 14\n",
      "[LightGBM] [Debug] Trained a tree with leaves = 575 and depth = 15\n",
      "[LightGBM] [Debug] Trained a tree with leaves = 575 and depth = 14\n",
      "[LightGBM] [Debug] Trained a tree with leaves = 575 and depth = 14\n",
      "[LightGBM] [Debug] Trained a tree with leaves = 575 and depth = 14\n",
      "[LightGBM] [Debug] Trained a tree with leaves = 575 and depth = 14\n",
      "[LightGBM] [Debug] Trained a tree with leaves = 575 and depth = 14\n",
      "[LightGBM] [Debug] Trained a tree with leaves = 575 and depth = 15\n",
      "[LightGBM] [Debug] Trained a tree with leaves = 575 and depth = 15\n",
      "[LightGBM] [Debug] Trained a tree with leaves = 575 and depth = 15\n",
      "[LightGBM] [Debug] Trained a tree with leaves = 575 and depth = 16\n",
      "[LightGBM] [Debug] Trained a tree with leaves = 575 and depth = 15\n",
      "[LightGBM] [Debug] Trained a tree with leaves = 575 and depth = 16\n",
      "[LightGBM] [Debug] Trained a tree with leaves = 575 and depth = 17\n",
      "[LightGBM] [Debug] Trained a tree with leaves = 575 and depth = 15\n",
      "[LightGBM] [Debug] Trained a tree with leaves = 575 and depth = 16\n",
      "[LightGBM] [Debug] Trained a tree with leaves = 575 and depth = 17\n",
      "[LightGBM] [Debug] Trained a tree with leaves = 575 and depth = 18\n",
      "[LightGBM] [Debug] Trained a tree with leaves = 575 and depth = 16\n",
      "[LightGBM] [Debug] Trained a tree with leaves = 575 and depth = 17\n",
      "[LightGBM] [Debug] Trained a tree with leaves = 575 and depth = 15\n",
      "[LightGBM] [Debug] Trained a tree with leaves = 575 and depth = 15\n",
      "[LightGBM] [Debug] Trained a tree with leaves = 575 and depth = 15\n",
      "[LightGBM] [Debug] Trained a tree with leaves = 575 and depth = 16\n",
      "[LightGBM] [Debug] Trained a tree with leaves = 575 and depth = 16\n",
      "[LightGBM] [Debug] Trained a tree with leaves = 575 and depth = 16\n",
      "[LightGBM] [Debug] Trained a tree with leaves = 575 and depth = 18\n",
      "[LightGBM] [Debug] Trained a tree with leaves = 575 and depth = 16\n",
      "[LightGBM] [Debug] Trained a tree with leaves = 575 and depth = 16\n",
      "[LightGBM] [Debug] Trained a tree with leaves = 575 and depth = 18\n",
      "[LightGBM] [Debug] Trained a tree with leaves = 575 and depth = 17\n",
      "[LightGBM] [Debug] Trained a tree with leaves = 575 and depth = 18\n",
      "[LightGBM] [Debug] Trained a tree with leaves = 575 and depth = 17\n",
      "[LightGBM] [Debug] Trained a tree with leaves = 575 and depth = 17\n",
      "[LightGBM] [Debug] Trained a tree with leaves = 575 and depth = 18\n",
      "[LightGBM] [Debug] Trained a tree with leaves = 575 and depth = 18\n",
      "[LightGBM] [Debug] Trained a tree with leaves = 575 and depth = 17\n",
      "[LightGBM] [Debug] Trained a tree with leaves = 575 and depth = 17\n",
      "[LightGBM] [Debug] Trained a tree with leaves = 575 and depth = 16\n",
      "[LightGBM] [Debug] Trained a tree with leaves = 575 and depth = 19\n",
      "[LightGBM] [Debug] Trained a tree with leaves = 575 and depth = 18\n",
      "[LightGBM] [Debug] Trained a tree with leaves = 575 and depth = 17\n",
      "[LightGBM] [Debug] Trained a tree with leaves = 575 and depth = 16\n",
      "[LightGBM] [Debug] Trained a tree with leaves = 575 and depth = 20\n",
      "[LightGBM] [Debug] Trained a tree with leaves = 575 and depth = 17\n",
      "[LightGBM] [Debug] Trained a tree with leaves = 575 and depth = 18\n",
      "[LightGBM] [Debug] Trained a tree with leaves = 575 and depth = 18\n",
      "[LightGBM] [Debug] Trained a tree with leaves = 575 and depth = 18\n",
      "[LightGBM] [Debug] Trained a tree with leaves = 575 and depth = 20\n",
      "[LightGBM] [Debug] Trained a tree with leaves = 575 and depth = 20\n",
      "[LightGBM] [Debug] Trained a tree with leaves = 575 and depth = 18\n",
      "[LightGBM] [Debug] Trained a tree with leaves = 575 and depth = 20\n",
      "[LightGBM] [Debug] Trained a tree with leaves = 575 and depth = 19\n",
      "[LightGBM] [Debug] Trained a tree with leaves = 575 and depth = 20\n",
      "[LightGBM] [Debug] Trained a tree with leaves = 575 and depth = 18\n",
      "[LightGBM] [Debug] Trained a tree with leaves = 575 and depth = 20\n",
      "[LightGBM] [Debug] Trained a tree with leaves = 575 and depth = 20\n",
      "[LightGBM] [Debug] Trained a tree with leaves = 575 and depth = 22\n",
      "[LightGBM] [Debug] Trained a tree with leaves = 575 and depth = 19\n",
      "[LightGBM] [Debug] Trained a tree with leaves = 575 and depth = 22\n",
      "[LightGBM] [Debug] Trained a tree with leaves = 575 and depth = 19\n",
      "[LightGBM] [Debug] Trained a tree with leaves = 575 and depth = 21\n",
      "[LightGBM] [Debug] Trained a tree with leaves = 575 and depth = 21\n",
      "[LightGBM] [Debug] Trained a tree with leaves = 575 and depth = 23\n",
      "[LightGBM] [Debug] Trained a tree with leaves = 575 and depth = 25\n",
      "[LightGBM] [Debug] Trained a tree with leaves = 575 and depth = 22\n",
      "[LightGBM] [Debug] Trained a tree with leaves = 575 and depth = 19\n",
      "[LightGBM] [Debug] Trained a tree with leaves = 575 and depth = 20\n",
      "[LightGBM] [Debug] Trained a tree with leaves = 575 and depth = 20\n",
      "[LightGBM] [Debug] Trained a tree with leaves = 575 and depth = 23\n",
      "[LightGBM] [Debug] Trained a tree with leaves = 575 and depth = 19\n",
      "[LightGBM] [Debug] Trained a tree with leaves = 575 and depth = 21\n",
      "[LightGBM] [Debug] Trained a tree with leaves = 575 and depth = 21\n",
      "[LightGBM] [Debug] Trained a tree with leaves = 575 and depth = 25\n",
      "[LightGBM] [Debug] Trained a tree with leaves = 575 and depth = 21\n",
      "[LightGBM] [Debug] Trained a tree with leaves = 575 and depth = 24\n",
      "[LightGBM] [Debug] Trained a tree with leaves = 575 and depth = 23\n",
      "[LightGBM] [Debug] Trained a tree with leaves = 575 and depth = 23\n"
     ]
    },
    {
     "name": "stdout",
     "output_type": "stream",
     "text": [
      "[LightGBM] [Debug] Trained a tree with leaves = 575 and depth = 24\n",
      "[LightGBM] [Debug] Trained a tree with leaves = 575 and depth = 27\n",
      "[LightGBM] [Debug] Trained a tree with leaves = 575 and depth = 26\n",
      "[LightGBM] [Debug] Trained a tree with leaves = 575 and depth = 21\n",
      "[LightGBM] [Debug] Trained a tree with leaves = 575 and depth = 23\n",
      "[LightGBM] [Debug] Trained a tree with leaves = 575 and depth = 25\n",
      "[LightGBM] [Debug] Trained a tree with leaves = 575 and depth = 26\n",
      "[LightGBM] [Debug] Trained a tree with leaves = 575 and depth = 23\n",
      "[LightGBM] [Debug] Trained a tree with leaves = 575 and depth = 26\n",
      "[LightGBM] [Debug] Trained a tree with leaves = 575 and depth = 21\n",
      "[LightGBM] [Debug] Trained a tree with leaves = 575 and depth = 25\n",
      "[LightGBM] [Debug] Trained a tree with leaves = 575 and depth = 24\n",
      "[LightGBM] [Debug] Trained a tree with leaves = 575 and depth = 26\n",
      "[LightGBM] [Debug] Trained a tree with leaves = 575 and depth = 22\n",
      "[LightGBM] [Debug] Trained a tree with leaves = 575 and depth = 22\n",
      "[LightGBM] [Debug] Trained a tree with leaves = 575 and depth = 24\n",
      "[LightGBM] [Debug] Trained a tree with leaves = 575 and depth = 28\n",
      "[CV 1/3] END force_col_wise=true, learning_rate=0.05, num_leaves=575;, score=-2616541.449 total time=   1.9s\n",
      "[LightGBM] [Debug] Dataset::GetMultiBinFromSparseFeatures: sparse rate 0.736609\n",
      "[LightGBM] [Info] Total Bins 593\n",
      "[LightGBM] [Info] Number of data points in the train set: 156780, number of used features: 10\n",
      "[LightGBM] [Info] Start training from score 4585.264925\n",
      "[LightGBM] [Debug] Trained a tree with leaves = 575 and depth = 15\n",
      "[LightGBM] [Debug] Trained a tree with leaves = 575 and depth = 15\n",
      "[LightGBM] [Debug] Trained a tree with leaves = 575 and depth = 15\n",
      "[LightGBM] [Debug] Trained a tree with leaves = 575 and depth = 16\n",
      "[LightGBM] [Debug] Trained a tree with leaves = 575 and depth = 16\n",
      "[LightGBM] [Debug] Trained a tree with leaves = 575 and depth = 15\n",
      "[LightGBM] [Debug] Trained a tree with leaves = 575 and depth = 14\n",
      "[LightGBM] [Debug] Trained a tree with leaves = 575 and depth = 16\n",
      "[LightGBM] [Debug] Trained a tree with leaves = 575 and depth = 15\n",
      "[LightGBM] [Debug] Trained a tree with leaves = 575 and depth = 14\n",
      "[LightGBM] [Debug] Trained a tree with leaves = 575 and depth = 14\n",
      "[LightGBM] [Debug] Trained a tree with leaves = 575 and depth = 14\n",
      "[LightGBM] [Debug] Trained a tree with leaves = 575 and depth = 14\n",
      "[LightGBM] [Debug] Trained a tree with leaves = 575 and depth = 15\n",
      "[LightGBM] [Debug] Trained a tree with leaves = 575 and depth = 14\n",
      "[LightGBM] [Debug] Trained a tree with leaves = 575 and depth = 16\n",
      "[LightGBM] [Debug] Trained a tree with leaves = 575 and depth = 15\n",
      "[LightGBM] [Debug] Trained a tree with leaves = 575 and depth = 15\n",
      "[LightGBM] [Debug] Trained a tree with leaves = 575 and depth = 15\n",
      "[LightGBM] [Debug] Trained a tree with leaves = 575 and depth = 16\n",
      "[LightGBM] [Debug] Trained a tree with leaves = 575 and depth = 16\n",
      "[LightGBM] [Debug] Trained a tree with leaves = 575 and depth = 14\n",
      "[LightGBM] [Debug] Trained a tree with leaves = 575 and depth = 15\n",
      "[LightGBM] [Debug] Trained a tree with leaves = 575 and depth = 17\n",
      "[LightGBM] [Debug] Trained a tree with leaves = 575 and depth = 15\n",
      "[LightGBM] [Debug] Trained a tree with leaves = 575 and depth = 16\n",
      "[LightGBM] [Debug] Trained a tree with leaves = 575 and depth = 16\n",
      "[LightGBM] [Debug] Trained a tree with leaves = 575 and depth = 15\n",
      "[LightGBM] [Debug] Trained a tree with leaves = 575 and depth = 15\n",
      "[LightGBM] [Debug] Trained a tree with leaves = 575 and depth = 17\n",
      "[LightGBM] [Debug] Trained a tree with leaves = 575 and depth = 16\n",
      "[LightGBM] [Debug] Trained a tree with leaves = 575 and depth = 17\n",
      "[LightGBM] [Debug] Trained a tree with leaves = 575 and depth = 16\n",
      "[LightGBM] [Debug] Trained a tree with leaves = 575 and depth = 16\n",
      "[LightGBM] [Debug] Trained a tree with leaves = 575 and depth = 17\n",
      "[LightGBM] [Debug] Trained a tree with leaves = 575 and depth = 18\n",
      "[LightGBM] [Debug] Trained a tree with leaves = 575 and depth = 16\n",
      "[LightGBM] [Debug] Trained a tree with leaves = 575 and depth = 17\n",
      "[LightGBM] [Debug] Trained a tree with leaves = 575 and depth = 17\n",
      "[LightGBM] [Debug] Trained a tree with leaves = 575 and depth = 17\n",
      "[LightGBM] [Debug] Trained a tree with leaves = 575 and depth = 19\n",
      "[LightGBM] [Debug] Trained a tree with leaves = 575 and depth = 16\n",
      "[LightGBM] [Debug] Trained a tree with leaves = 575 and depth = 17\n",
      "[LightGBM] [Debug] Trained a tree with leaves = 575 and depth = 18\n",
      "[LightGBM] [Debug] Trained a tree with leaves = 575 and depth = 17\n",
      "[LightGBM] [Debug] Trained a tree with leaves = 575 and depth = 19\n",
      "[LightGBM] [Debug] Trained a tree with leaves = 575 and depth = 16\n",
      "[LightGBM] [Debug] Trained a tree with leaves = 575 and depth = 18\n",
      "[LightGBM] [Debug] Trained a tree with leaves = 575 and depth = 17\n",
      "[LightGBM] [Debug] Trained a tree with leaves = 575 and depth = 17\n",
      "[LightGBM] [Debug] Trained a tree with leaves = 575 and depth = 18\n",
      "[LightGBM] [Debug] Trained a tree with leaves = 575 and depth = 18\n",
      "[LightGBM] [Debug] Trained a tree with leaves = 575 and depth = 19\n",
      "[LightGBM] [Debug] Trained a tree with leaves = 575 and depth = 21\n",
      "[LightGBM] [Debug] Trained a tree with leaves = 575 and depth = 17\n",
      "[LightGBM] [Debug] Trained a tree with leaves = 575 and depth = 20\n",
      "[LightGBM] [Debug] Trained a tree with leaves = 575 and depth = 19\n",
      "[LightGBM] [Debug] Trained a tree with leaves = 575 and depth = 18\n",
      "[LightGBM] [Debug] Trained a tree with leaves = 575 and depth = 22\n",
      "[LightGBM] [Debug] Trained a tree with leaves = 575 and depth = 20\n",
      "[LightGBM] [Debug] Trained a tree with leaves = 575 and depth = 19\n",
      "[LightGBM] [Debug] Trained a tree with leaves = 575 and depth = 20\n",
      "[LightGBM] [Debug] Trained a tree with leaves = 575 and depth = 19\n",
      "[LightGBM] [Debug] Trained a tree with leaves = 575 and depth = 21\n",
      "[LightGBM] [Debug] Trained a tree with leaves = 575 and depth = 20\n",
      "[LightGBM] [Debug] Trained a tree with leaves = 575 and depth = 20\n",
      "[LightGBM] [Debug] Trained a tree with leaves = 575 and depth = 21\n",
      "[LightGBM] [Debug] Trained a tree with leaves = 575 and depth = 18\n",
      "[LightGBM] [Debug] Trained a tree with leaves = 575 and depth = 19\n",
      "[LightGBM] [Debug] Trained a tree with leaves = 575 and depth = 21\n",
      "[LightGBM] [Debug] Trained a tree with leaves = 575 and depth = 22\n",
      "[LightGBM] [Debug] Trained a tree with leaves = 575 and depth = 23\n",
      "[LightGBM] [Debug] Trained a tree with leaves = 575 and depth = 21\n",
      "[LightGBM] [Debug] Trained a tree with leaves = 575 and depth = 22\n",
      "[LightGBM] [Debug] Trained a tree with leaves = 575 and depth = 22\n",
      "[LightGBM] [Debug] Trained a tree with leaves = 575 and depth = 23\n",
      "[LightGBM] [Debug] Trained a tree with leaves = 575 and depth = 21\n",
      "[LightGBM] [Debug] Trained a tree with leaves = 575 and depth = 21\n",
      "[LightGBM] [Debug] Trained a tree with leaves = 575 and depth = 21\n",
      "[LightGBM] [Debug] Trained a tree with leaves = 575 and depth = 21\n",
      "[LightGBM] [Debug] Trained a tree with leaves = 575 and depth = 26\n",
      "[LightGBM] [Debug] Trained a tree with leaves = 575 and depth = 27\n",
      "[LightGBM] [Debug] Trained a tree with leaves = 575 and depth = 21\n",
      "[LightGBM] [Debug] Trained a tree with leaves = 575 and depth = 26\n",
      "[LightGBM] [Debug] Trained a tree with leaves = 575 and depth = 24\n",
      "[LightGBM] [Debug] Trained a tree with leaves = 575 and depth = 22\n",
      "[LightGBM] [Debug] Trained a tree with leaves = 575 and depth = 22\n",
      "[LightGBM] [Debug] Trained a tree with leaves = 575 and depth = 22\n",
      "[LightGBM] [Debug] Trained a tree with leaves = 575 and depth = 24\n",
      "[LightGBM] [Debug] Trained a tree with leaves = 575 and depth = 23\n",
      "[LightGBM] [Debug] Trained a tree with leaves = 575 and depth = 23\n",
      "[LightGBM] [Debug] Trained a tree with leaves = 575 and depth = 22\n",
      "[LightGBM] [Debug] Trained a tree with leaves = 575 and depth = 23\n",
      "[LightGBM] [Debug] Trained a tree with leaves = 575 and depth = 22\n",
      "[LightGBM] [Debug] Trained a tree with leaves = 575 and depth = 23\n",
      "[LightGBM] [Debug] Trained a tree with leaves = 575 and depth = 25\n",
      "[LightGBM] [Debug] Trained a tree with leaves = 575 and depth = 22\n",
      "[LightGBM] [Debug] Trained a tree with leaves = 575 and depth = 24\n",
      "[LightGBM] [Debug] Trained a tree with leaves = 575 and depth = 31\n",
      "[LightGBM] [Debug] Trained a tree with leaves = 575 and depth = 27\n"
     ]
    },
    {
     "name": "stdout",
     "output_type": "stream",
     "text": [
      "[CV 2/3] END force_col_wise=true, learning_rate=0.05, num_leaves=575;, score=-2648205.626 total time=   2.0s\n",
      "[LightGBM] [Debug] Dataset::GetMultiBinFromSparseFeatures: sparse rate 0.737074\n",
      "[LightGBM] [Info] Total Bins 594\n",
      "[LightGBM] [Info] Number of data points in the train set: 156780, number of used features: 10\n",
      "[LightGBM] [Info] Start training from score 4577.614511\n",
      "[LightGBM] [Debug] Trained a tree with leaves = 575 and depth = 14\n",
      "[LightGBM] [Debug] Trained a tree with leaves = 575 and depth = 16\n",
      "[LightGBM] [Debug] Trained a tree with leaves = 575 and depth = 14\n",
      "[LightGBM] [Debug] Trained a tree with leaves = 575 and depth = 15\n",
      "[LightGBM] [Debug] Trained a tree with leaves = 575 and depth = 14\n",
      "[LightGBM] [Debug] Trained a tree with leaves = 575 and depth = 15\n",
      "[LightGBM] [Debug] Trained a tree with leaves = 575 and depth = 14\n",
      "[LightGBM] [Debug] Trained a tree with leaves = 575 and depth = 14\n",
      "[LightGBM] [Debug] Trained a tree with leaves = 575 and depth = 14\n",
      "[LightGBM] [Debug] Trained a tree with leaves = 575 and depth = 15\n",
      "[LightGBM] [Debug] Trained a tree with leaves = 575 and depth = 15\n",
      "[LightGBM] [Debug] Trained a tree with leaves = 575 and depth = 14\n",
      "[LightGBM] [Debug] Trained a tree with leaves = 575 and depth = 15\n",
      "[LightGBM] [Debug] Trained a tree with leaves = 575 and depth = 14\n",
      "[LightGBM] [Debug] Trained a tree with leaves = 575 and depth = 16\n",
      "[LightGBM] [Debug] Trained a tree with leaves = 575 and depth = 14\n",
      "[LightGBM] [Debug] Trained a tree with leaves = 575 and depth = 14\n",
      "[LightGBM] [Debug] Trained a tree with leaves = 575 and depth = 16\n",
      "[LightGBM] [Debug] Trained a tree with leaves = 575 and depth = 15\n",
      "[LightGBM] [Debug] Trained a tree with leaves = 575 and depth = 16\n",
      "[LightGBM] [Debug] Trained a tree with leaves = 575 and depth = 16\n",
      "[LightGBM] [Debug] Trained a tree with leaves = 575 and depth = 16\n",
      "[LightGBM] [Debug] Trained a tree with leaves = 575 and depth = 15\n",
      "[LightGBM] [Debug] Trained a tree with leaves = 575 and depth = 16\n",
      "[LightGBM] [Debug] Trained a tree with leaves = 575 and depth = 16\n",
      "[LightGBM] [Debug] Trained a tree with leaves = 575 and depth = 15\n",
      "[LightGBM] [Debug] Trained a tree with leaves = 575 and depth = 17\n",
      "[LightGBM] [Debug] Trained a tree with leaves = 575 and depth = 17\n",
      "[LightGBM] [Debug] Trained a tree with leaves = 575 and depth = 16\n",
      "[LightGBM] [Debug] Trained a tree with leaves = 575 and depth = 17\n",
      "[LightGBM] [Debug] Trained a tree with leaves = 575 and depth = 15\n",
      "[LightGBM] [Debug] Trained a tree with leaves = 575 and depth = 18\n",
      "[LightGBM] [Debug] Trained a tree with leaves = 575 and depth = 17\n",
      "[LightGBM] [Debug] Trained a tree with leaves = 575 and depth = 17\n",
      "[LightGBM] [Debug] Trained a tree with leaves = 575 and depth = 19\n",
      "[LightGBM] [Debug] Trained a tree with leaves = 575 and depth = 17\n",
      "[LightGBM] [Debug] Trained a tree with leaves = 575 and depth = 17\n",
      "[LightGBM] [Debug] Trained a tree with leaves = 575 and depth = 20\n",
      "[LightGBM] [Debug] Trained a tree with leaves = 575 and depth = 16\n",
      "[LightGBM] [Debug] Trained a tree with leaves = 575 and depth = 19\n",
      "[LightGBM] [Debug] Trained a tree with leaves = 575 and depth = 19\n",
      "[LightGBM] [Debug] Trained a tree with leaves = 575 and depth = 16\n",
      "[LightGBM] [Debug] Trained a tree with leaves = 575 and depth = 18\n",
      "[LightGBM] [Debug] Trained a tree with leaves = 575 and depth = 20\n",
      "[LightGBM] [Debug] Trained a tree with leaves = 575 and depth = 17\n",
      "[LightGBM] [Debug] Trained a tree with leaves = 575 and depth = 17\n",
      "[LightGBM] [Debug] Trained a tree with leaves = 575 and depth = 18\n",
      "[LightGBM] [Debug] Trained a tree with leaves = 575 and depth = 19\n",
      "[LightGBM] [Debug] Trained a tree with leaves = 575 and depth = 20\n",
      "[LightGBM] [Debug] Trained a tree with leaves = 575 and depth = 17\n",
      "[LightGBM] [Debug] Trained a tree with leaves = 575 and depth = 17\n",
      "[LightGBM] [Debug] Trained a tree with leaves = 575 and depth = 17\n",
      "[LightGBM] [Debug] Trained a tree with leaves = 575 and depth = 19\n",
      "[LightGBM] [Debug] Trained a tree with leaves = 575 and depth = 21\n",
      "[LightGBM] [Debug] Trained a tree with leaves = 575 and depth = 18\n",
      "[LightGBM] [Debug] Trained a tree with leaves = 575 and depth = 21\n",
      "[LightGBM] [Debug] Trained a tree with leaves = 575 and depth = 19\n",
      "[LightGBM] [Debug] Trained a tree with leaves = 575 and depth = 19\n",
      "[LightGBM] [Debug] Trained a tree with leaves = 575 and depth = 22\n",
      "[LightGBM] [Debug] Trained a tree with leaves = 575 and depth = 24\n",
      "[LightGBM] [Debug] Trained a tree with leaves = 575 and depth = 18\n",
      "[LightGBM] [Debug] Trained a tree with leaves = 575 and depth = 20\n",
      "[LightGBM] [Debug] Trained a tree with leaves = 575 and depth = 19\n",
      "[LightGBM] [Debug] Trained a tree with leaves = 575 and depth = 20\n",
      "[LightGBM] [Debug] Trained a tree with leaves = 575 and depth = 23\n",
      "[LightGBM] [Debug] Trained a tree with leaves = 575 and depth = 22\n",
      "[LightGBM] [Debug] Trained a tree with leaves = 575 and depth = 21\n",
      "[LightGBM] [Debug] Trained a tree with leaves = 575 and depth = 23\n",
      "[LightGBM] [Debug] Trained a tree with leaves = 575 and depth = 21\n",
      "[LightGBM] [Debug] Trained a tree with leaves = 575 and depth = 22\n",
      "[LightGBM] [Debug] Trained a tree with leaves = 575 and depth = 21\n",
      "[LightGBM] [Debug] Trained a tree with leaves = 575 and depth = 20\n",
      "[LightGBM] [Debug] Trained a tree with leaves = 575 and depth = 20\n",
      "[LightGBM] [Debug] Trained a tree with leaves = 575 and depth = 21\n",
      "[LightGBM] [Debug] Trained a tree with leaves = 575 and depth = 21\n",
      "[LightGBM] [Debug] Trained a tree with leaves = 575 and depth = 21\n",
      "[LightGBM] [Debug] Trained a tree with leaves = 575 and depth = 19\n",
      "[LightGBM] [Debug] Trained a tree with leaves = 575 and depth = 24\n",
      "[LightGBM] [Debug] Trained a tree with leaves = 575 and depth = 24\n",
      "[LightGBM] [Debug] Trained a tree with leaves = 575 and depth = 23\n",
      "[LightGBM] [Debug] Trained a tree with leaves = 575 and depth = 25\n",
      "[LightGBM] [Debug] Trained a tree with leaves = 575 and depth = 37\n",
      "[LightGBM] [Debug] Trained a tree with leaves = 575 and depth = 22\n",
      "[LightGBM] [Debug] Trained a tree with leaves = 575 and depth = 20\n",
      "[LightGBM] [Debug] Trained a tree with leaves = 575 and depth = 22\n",
      "[LightGBM] [Debug] Trained a tree with leaves = 575 and depth = 23\n",
      "[LightGBM] [Debug] Trained a tree with leaves = 575 and depth = 21\n",
      "[LightGBM] [Debug] Trained a tree with leaves = 575 and depth = 26\n",
      "[LightGBM] [Debug] Trained a tree with leaves = 575 and depth = 24\n",
      "[LightGBM] [Debug] Trained a tree with leaves = 575 and depth = 21\n",
      "[LightGBM] [Debug] Trained a tree with leaves = 575 and depth = 23\n",
      "[LightGBM] [Debug] Trained a tree with leaves = 575 and depth = 24\n",
      "[LightGBM] [Debug] Trained a tree with leaves = 575 and depth = 25\n",
      "[LightGBM] [Debug] Trained a tree with leaves = 575 and depth = 22\n",
      "[LightGBM] [Debug] Trained a tree with leaves = 575 and depth = 21\n",
      "[LightGBM] [Debug] Trained a tree with leaves = 575 and depth = 27\n",
      "[LightGBM] [Debug] Trained a tree with leaves = 575 and depth = 26\n",
      "[LightGBM] [Debug] Trained a tree with leaves = 575 and depth = 26\n",
      "[LightGBM] [Debug] Trained a tree with leaves = 575 and depth = 26\n",
      "[LightGBM] [Debug] Trained a tree with leaves = 575 and depth = 30\n",
      "[CV 3/3] END force_col_wise=true, learning_rate=0.05, num_leaves=575;, score=-2554337.697 total time=   1.9s\n",
      "[LightGBM] [Debug] Dataset::GetMultiBinFromSparseFeatures: sparse rate 0.736408\n",
      "[LightGBM] [Info] Total Bins 590\n",
      "[LightGBM] [Info] Number of data points in the train set: 156780, number of used features: 10\n",
      "[LightGBM] [Info] Start training from score 4578.288391\n",
      "[LightGBM] [Debug] Trained a tree with leaves = 600 and depth = 14\n",
      "[LightGBM] [Debug] Trained a tree with leaves = 600 and depth = 15\n",
      "[LightGBM] [Debug] Trained a tree with leaves = 600 and depth = 14\n",
      "[LightGBM] [Debug] Trained a tree with leaves = 600 and depth = 14\n",
      "[LightGBM] [Debug] Trained a tree with leaves = 600 and depth = 15\n",
      "[LightGBM] [Debug] Trained a tree with leaves = 600 and depth = 14\n",
      "[LightGBM] [Debug] Trained a tree with leaves = 600 and depth = 15\n",
      "[LightGBM] [Debug] Trained a tree with leaves = 600 and depth = 15\n",
      "[LightGBM] [Debug] Trained a tree with leaves = 600 and depth = 15\n",
      "[LightGBM] [Debug] Trained a tree with leaves = 600 and depth = 14\n",
      "[LightGBM] [Debug] Trained a tree with leaves = 600 and depth = 14\n",
      "[LightGBM] [Debug] Trained a tree with leaves = 600 and depth = 15\n",
      "[LightGBM] [Debug] Trained a tree with leaves = 600 and depth = 15\n",
      "[LightGBM] [Debug] Trained a tree with leaves = 600 and depth = 15\n",
      "[LightGBM] [Debug] Trained a tree with leaves = 600 and depth = 17\n",
      "[LightGBM] [Debug] Trained a tree with leaves = 600 and depth = 15\n"
     ]
    },
    {
     "name": "stdout",
     "output_type": "stream",
     "text": [
      "[LightGBM] [Debug] Trained a tree with leaves = 600 and depth = 16\n",
      "[LightGBM] [Debug] Trained a tree with leaves = 600 and depth = 16\n",
      "[LightGBM] [Debug] Trained a tree with leaves = 600 and depth = 16\n",
      "[LightGBM] [Debug] Trained a tree with leaves = 600 and depth = 15\n",
      "[LightGBM] [Debug] Trained a tree with leaves = 600 and depth = 15\n",
      "[LightGBM] [Debug] Trained a tree with leaves = 600 and depth = 16\n",
      "[LightGBM] [Debug] Trained a tree with leaves = 600 and depth = 16\n",
      "[LightGBM] [Debug] Trained a tree with leaves = 600 and depth = 15\n",
      "[LightGBM] [Debug] Trained a tree with leaves = 600 and depth = 16\n",
      "[LightGBM] [Debug] Trained a tree with leaves = 600 and depth = 15\n",
      "[LightGBM] [Debug] Trained a tree with leaves = 600 and depth = 17\n",
      "[LightGBM] [Debug] Trained a tree with leaves = 600 and depth = 16\n",
      "[LightGBM] [Debug] Trained a tree with leaves = 600 and depth = 16\n",
      "[LightGBM] [Debug] Trained a tree with leaves = 600 and depth = 17\n",
      "[LightGBM] [Debug] Trained a tree with leaves = 600 and depth = 16\n",
      "[LightGBM] [Debug] Trained a tree with leaves = 600 and depth = 19\n",
      "[LightGBM] [Debug] Trained a tree with leaves = 600 and depth = 16\n",
      "[LightGBM] [Debug] Trained a tree with leaves = 600 and depth = 16\n",
      "[LightGBM] [Debug] Trained a tree with leaves = 600 and depth = 18\n",
      "[LightGBM] [Debug] Trained a tree with leaves = 600 and depth = 16\n",
      "[LightGBM] [Debug] Trained a tree with leaves = 600 and depth = 18\n",
      "[LightGBM] [Debug] Trained a tree with leaves = 600 and depth = 16\n",
      "[LightGBM] [Debug] Trained a tree with leaves = 600 and depth = 16\n",
      "[LightGBM] [Debug] Trained a tree with leaves = 600 and depth = 16\n",
      "[LightGBM] [Debug] Trained a tree with leaves = 600 and depth = 18\n",
      "[LightGBM] [Debug] Trained a tree with leaves = 600 and depth = 17\n",
      "[LightGBM] [Debug] Trained a tree with leaves = 600 and depth = 16\n",
      "[LightGBM] [Debug] Trained a tree with leaves = 600 and depth = 18\n",
      "[LightGBM] [Debug] Trained a tree with leaves = 600 and depth = 17\n",
      "[LightGBM] [Debug] Trained a tree with leaves = 600 and depth = 17\n",
      "[LightGBM] [Debug] Trained a tree with leaves = 600 and depth = 18\n",
      "[LightGBM] [Debug] Trained a tree with leaves = 600 and depth = 18\n",
      "[LightGBM] [Debug] Trained a tree with leaves = 600 and depth = 19\n",
      "[LightGBM] [Debug] Trained a tree with leaves = 600 and depth = 20\n",
      "[LightGBM] [Debug] Trained a tree with leaves = 600 and depth = 19\n",
      "[LightGBM] [Debug] Trained a tree with leaves = 600 and depth = 18\n",
      "[LightGBM] [Debug] Trained a tree with leaves = 600 and depth = 18\n",
      "[LightGBM] [Debug] Trained a tree with leaves = 600 and depth = 17\n",
      "[LightGBM] [Debug] Trained a tree with leaves = 600 and depth = 20\n",
      "[LightGBM] [Debug] Trained a tree with leaves = 600 and depth = 22\n",
      "[LightGBM] [Debug] Trained a tree with leaves = 600 and depth = 19\n",
      "[LightGBM] [Debug] Trained a tree with leaves = 600 and depth = 18\n",
      "[LightGBM] [Debug] Trained a tree with leaves = 600 and depth = 19\n",
      "[LightGBM] [Debug] Trained a tree with leaves = 600 and depth = 20\n",
      "[LightGBM] [Debug] Trained a tree with leaves = 600 and depth = 20\n",
      "[LightGBM] [Debug] Trained a tree with leaves = 600 and depth = 19\n",
      "[LightGBM] [Debug] Trained a tree with leaves = 600 and depth = 22\n",
      "[LightGBM] [Debug] Trained a tree with leaves = 600 and depth = 20\n",
      "[LightGBM] [Debug] Trained a tree with leaves = 600 and depth = 19\n",
      "[LightGBM] [Debug] Trained a tree with leaves = 600 and depth = 19\n",
      "[LightGBM] [Debug] Trained a tree with leaves = 600 and depth = 22\n",
      "[LightGBM] [Debug] Trained a tree with leaves = 600 and depth = 24\n",
      "[LightGBM] [Debug] Trained a tree with leaves = 600 and depth = 21\n",
      "[LightGBM] [Debug] Trained a tree with leaves = 600 and depth = 21\n",
      "[LightGBM] [Debug] Trained a tree with leaves = 600 and depth = 21\n",
      "[LightGBM] [Debug] Trained a tree with leaves = 600 and depth = 22\n",
      "[LightGBM] [Debug] Trained a tree with leaves = 600 and depth = 21\n",
      "[LightGBM] [Debug] Trained a tree with leaves = 600 and depth = 23\n",
      "[LightGBM] [Debug] Trained a tree with leaves = 600 and depth = 21\n",
      "[LightGBM] [Debug] Trained a tree with leaves = 600 and depth = 22\n",
      "[LightGBM] [Debug] Trained a tree with leaves = 600 and depth = 27\n",
      "[LightGBM] [Debug] Trained a tree with leaves = 600 and depth = 22\n",
      "[LightGBM] [Debug] Trained a tree with leaves = 600 and depth = 19\n",
      "[LightGBM] [Debug] Trained a tree with leaves = 600 and depth = 21\n",
      "[LightGBM] [Debug] Trained a tree with leaves = 600 and depth = 22\n",
      "[LightGBM] [Debug] Trained a tree with leaves = 600 and depth = 21\n",
      "[LightGBM] [Debug] Trained a tree with leaves = 600 and depth = 21\n",
      "[LightGBM] [Debug] Trained a tree with leaves = 600 and depth = 22\n",
      "[LightGBM] [Debug] Trained a tree with leaves = 600 and depth = 21\n",
      "[LightGBM] [Debug] Trained a tree with leaves = 600 and depth = 23\n",
      "[LightGBM] [Debug] Trained a tree with leaves = 600 and depth = 26\n",
      "[LightGBM] [Debug] Trained a tree with leaves = 600 and depth = 21\n",
      "[LightGBM] [Debug] Trained a tree with leaves = 600 and depth = 22\n",
      "[LightGBM] [Debug] Trained a tree with leaves = 600 and depth = 23\n",
      "[LightGBM] [Debug] Trained a tree with leaves = 600 and depth = 24\n",
      "[LightGBM] [Debug] Trained a tree with leaves = 600 and depth = 27\n",
      "[LightGBM] [Debug] Trained a tree with leaves = 600 and depth = 26\n",
      "[LightGBM] [Debug] Trained a tree with leaves = 600 and depth = 30\n",
      "[LightGBM] [Debug] Trained a tree with leaves = 600 and depth = 30\n",
      "[LightGBM] [Debug] Trained a tree with leaves = 600 and depth = 32\n",
      "[LightGBM] [Debug] Trained a tree with leaves = 600 and depth = 23\n",
      "[LightGBM] [Debug] Trained a tree with leaves = 600 and depth = 22\n",
      "[LightGBM] [Debug] Trained a tree with leaves = 600 and depth = 25\n",
      "[LightGBM] [Debug] Trained a tree with leaves = 600 and depth = 25\n",
      "[CV 1/3] END force_col_wise=true, learning_rate=0.05, num_leaves=600;, score=-2610809.541 total time=   1.9s\n",
      "[LightGBM] [Debug] Dataset::GetMultiBinFromSparseFeatures: sparse rate 0.736609\n",
      "[LightGBM] [Info] Total Bins 593\n",
      "[LightGBM] [Info] Number of data points in the train set: 156780, number of used features: 10\n",
      "[LightGBM] [Info] Start training from score 4585.264925\n",
      "[LightGBM] [Debug] Trained a tree with leaves = 600 and depth = 15\n",
      "[LightGBM] [Debug] Trained a tree with leaves = 600 and depth = 15\n",
      "[LightGBM] [Debug] Trained a tree with leaves = 600 and depth = 15\n",
      "[LightGBM] [Debug] Trained a tree with leaves = 600 and depth = 16\n",
      "[LightGBM] [Debug] Trained a tree with leaves = 600 and depth = 16\n",
      "[LightGBM] [Debug] Trained a tree with leaves = 600 and depth = 14\n",
      "[LightGBM] [Debug] Trained a tree with leaves = 600 and depth = 14\n",
      "[LightGBM] [Debug] Trained a tree with leaves = 600 and depth = 14\n",
      "[LightGBM] [Debug] Trained a tree with leaves = 600 and depth = 14\n",
      "[LightGBM] [Debug] Trained a tree with leaves = 600 and depth = 15\n",
      "[LightGBM] [Debug] Trained a tree with leaves = 600 and depth = 15\n",
      "[LightGBM] [Debug] Trained a tree with leaves = 600 and depth = 15\n",
      "[LightGBM] [Debug] Trained a tree with leaves = 600 and depth = 17\n",
      "[LightGBM] [Debug] Trained a tree with leaves = 600 and depth = 15\n",
      "[LightGBM] [Debug] Trained a tree with leaves = 600 and depth = 15\n",
      "[LightGBM] [Debug] Trained a tree with leaves = 600 and depth = 15\n",
      "[LightGBM] [Debug] Trained a tree with leaves = 600 and depth = 16\n",
      "[LightGBM] [Debug] Trained a tree with leaves = 600 and depth = 17\n",
      "[LightGBM] [Debug] Trained a tree with leaves = 600 and depth = 15\n",
      "[LightGBM] [Debug] Trained a tree with leaves = 600 and depth = 17\n",
      "[LightGBM] [Debug] Trained a tree with leaves = 600 and depth = 15\n",
      "[LightGBM] [Debug] Trained a tree with leaves = 600 and depth = 16\n",
      "[LightGBM] [Debug] Trained a tree with leaves = 600 and depth = 16\n",
      "[LightGBM] [Debug] Trained a tree with leaves = 600 and depth = 15\n",
      "[LightGBM] [Debug] Trained a tree with leaves = 600 and depth = 15\n",
      "[LightGBM] [Debug] Trained a tree with leaves = 600 and depth = 17\n",
      "[LightGBM] [Debug] Trained a tree with leaves = 600 and depth = 17\n",
      "[LightGBM] [Debug] Trained a tree with leaves = 600 and depth = 16\n",
      "[LightGBM] [Debug] Trained a tree with leaves = 600 and depth = 15\n",
      "[LightGBM] [Debug] Trained a tree with leaves = 600 and depth = 16\n",
      "[LightGBM] [Debug] Trained a tree with leaves = 600 and depth = 18\n",
      "[LightGBM] [Debug] Trained a tree with leaves = 600 and depth = 16\n",
      "[LightGBM] [Debug] Trained a tree with leaves = 600 and depth = 17\n"
     ]
    },
    {
     "name": "stdout",
     "output_type": "stream",
     "text": [
      "[LightGBM] [Debug] Trained a tree with leaves = 600 and depth = 17\n",
      "[LightGBM] [Debug] Trained a tree with leaves = 600 and depth = 16\n",
      "[LightGBM] [Debug] Trained a tree with leaves = 600 and depth = 16\n",
      "[LightGBM] [Debug] Trained a tree with leaves = 600 and depth = 18\n",
      "[LightGBM] [Debug] Trained a tree with leaves = 600 and depth = 17\n",
      "[LightGBM] [Debug] Trained a tree with leaves = 600 and depth = 17\n",
      "[LightGBM] [Debug] Trained a tree with leaves = 600 and depth = 16\n",
      "[LightGBM] [Debug] Trained a tree with leaves = 600 and depth = 19\n",
      "[LightGBM] [Debug] Trained a tree with leaves = 600 and depth = 16\n",
      "[LightGBM] [Debug] Trained a tree with leaves = 600 and depth = 17\n",
      "[LightGBM] [Debug] Trained a tree with leaves = 600 and depth = 21\n",
      "[LightGBM] [Debug] Trained a tree with leaves = 600 and depth = 20\n",
      "[LightGBM] [Debug] Trained a tree with leaves = 600 and depth = 22\n",
      "[LightGBM] [Debug] Trained a tree with leaves = 600 and depth = 17\n",
      "[LightGBM] [Debug] Trained a tree with leaves = 600 and depth = 18\n",
      "[LightGBM] [Debug] Trained a tree with leaves = 600 and depth = 17\n",
      "[LightGBM] [Debug] Trained a tree with leaves = 600 and depth = 17\n",
      "[LightGBM] [Debug] Trained a tree with leaves = 600 and depth = 19\n",
      "[LightGBM] [Debug] Trained a tree with leaves = 600 and depth = 20\n",
      "[LightGBM] [Debug] Trained a tree with leaves = 600 and depth = 22\n",
      "[LightGBM] [Debug] Trained a tree with leaves = 600 and depth = 19\n",
      "[LightGBM] [Debug] Trained a tree with leaves = 600 and depth = 19\n",
      "[LightGBM] [Debug] Trained a tree with leaves = 600 and depth = 22\n",
      "[LightGBM] [Debug] Trained a tree with leaves = 600 and depth = 20\n",
      "[LightGBM] [Debug] Trained a tree with leaves = 600 and depth = 19\n",
      "[LightGBM] [Debug] Trained a tree with leaves = 600 and depth = 20\n",
      "[LightGBM] [Debug] Trained a tree with leaves = 600 and depth = 19\n",
      "[LightGBM] [Debug] Trained a tree with leaves = 600 and depth = 24\n",
      "[LightGBM] [Debug] Trained a tree with leaves = 600 and depth = 19\n",
      "[LightGBM] [Debug] Trained a tree with leaves = 600 and depth = 21\n",
      "[LightGBM] [Debug] Trained a tree with leaves = 600 and depth = 22\n",
      "[LightGBM] [Debug] Trained a tree with leaves = 600 and depth = 19\n",
      "[LightGBM] [Debug] Trained a tree with leaves = 600 and depth = 22\n",
      "[LightGBM] [Debug] Trained a tree with leaves = 600 and depth = 21\n",
      "[LightGBM] [Debug] Trained a tree with leaves = 600 and depth = 22\n",
      "[LightGBM] [Debug] Trained a tree with leaves = 600 and depth = 20\n",
      "[LightGBM] [Debug] Trained a tree with leaves = 600 and depth = 22\n",
      "[LightGBM] [Debug] Trained a tree with leaves = 600 and depth = 22\n",
      "[LightGBM] [Debug] Trained a tree with leaves = 600 and depth = 21\n",
      "[LightGBM] [Debug] Trained a tree with leaves = 600 and depth = 22\n",
      "[LightGBM] [Debug] Trained a tree with leaves = 600 and depth = 23\n",
      "[LightGBM] [Debug] Trained a tree with leaves = 600 and depth = 23\n",
      "[LightGBM] [Debug] Trained a tree with leaves = 600 and depth = 23\n",
      "[LightGBM] [Debug] Trained a tree with leaves = 600 and depth = 21\n",
      "[LightGBM] [Debug] Trained a tree with leaves = 600 and depth = 24\n",
      "[LightGBM] [Debug] Trained a tree with leaves = 600 and depth = 22\n",
      "[LightGBM] [Debug] Trained a tree with leaves = 600 and depth = 22\n",
      "[LightGBM] [Debug] Trained a tree with leaves = 600 and depth = 23\n",
      "[LightGBM] [Debug] Trained a tree with leaves = 600 and depth = 22\n",
      "[LightGBM] [Debug] Trained a tree with leaves = 600 and depth = 25\n",
      "[LightGBM] [Debug] Trained a tree with leaves = 600 and depth = 22\n",
      "[LightGBM] [Debug] Trained a tree with leaves = 600 and depth = 23\n",
      "[LightGBM] [Debug] Trained a tree with leaves = 600 and depth = 21\n",
      "[LightGBM] [Debug] Trained a tree with leaves = 600 and depth = 25\n",
      "[LightGBM] [Debug] Trained a tree with leaves = 600 and depth = 27\n",
      "[LightGBM] [Debug] Trained a tree with leaves = 600 and depth = 22\n",
      "[LightGBM] [Debug] Trained a tree with leaves = 600 and depth = 26\n",
      "[LightGBM] [Debug] Trained a tree with leaves = 600 and depth = 24\n",
      "[LightGBM] [Debug] Trained a tree with leaves = 600 and depth = 23\n",
      "[LightGBM] [Debug] Trained a tree with leaves = 600 and depth = 22\n",
      "[LightGBM] [Debug] Trained a tree with leaves = 600 and depth = 20\n",
      "[LightGBM] [Debug] Trained a tree with leaves = 600 and depth = 26\n",
      "[LightGBM] [Debug] Trained a tree with leaves = 600 and depth = 23\n",
      "[LightGBM] [Debug] Trained a tree with leaves = 600 and depth = 24\n",
      "[LightGBM] [Debug] Trained a tree with leaves = 600 and depth = 23\n",
      "[LightGBM] [Debug] Trained a tree with leaves = 600 and depth = 24\n",
      "[LightGBM] [Debug] Trained a tree with leaves = 600 and depth = 24\n",
      "[CV 2/3] END force_col_wise=true, learning_rate=0.05, num_leaves=600;, score=-2646577.767 total time=   2.1s\n",
      "[LightGBM] [Debug] Dataset::GetMultiBinFromSparseFeatures: sparse rate 0.737074\n",
      "[LightGBM] [Info] Total Bins 594\n",
      "[LightGBM] [Info] Number of data points in the train set: 156780, number of used features: 10\n",
      "[LightGBM] [Info] Start training from score 4577.614511\n",
      "[LightGBM] [Debug] Trained a tree with leaves = 600 and depth = 14\n",
      "[LightGBM] [Debug] Trained a tree with leaves = 600 and depth = 16\n",
      "[LightGBM] [Debug] Trained a tree with leaves = 600 and depth = 17\n",
      "[LightGBM] [Debug] Trained a tree with leaves = 600 and depth = 15\n",
      "[LightGBM] [Debug] Trained a tree with leaves = 600 and depth = 14\n",
      "[LightGBM] [Debug] Trained a tree with leaves = 600 and depth = 16\n",
      "[LightGBM] [Debug] Trained a tree with leaves = 600 and depth = 14\n",
      "[LightGBM] [Debug] Trained a tree with leaves = 600 and depth = 14\n",
      "[LightGBM] [Debug] Trained a tree with leaves = 600 and depth = 14\n",
      "[LightGBM] [Debug] Trained a tree with leaves = 600 and depth = 15\n",
      "[LightGBM] [Debug] Trained a tree with leaves = 600 and depth = 15\n",
      "[LightGBM] [Debug] Trained a tree with leaves = 600 and depth = 14\n",
      "[LightGBM] [Debug] Trained a tree with leaves = 600 and depth = 15\n",
      "[LightGBM] [Debug] Trained a tree with leaves = 600 and depth = 17\n",
      "[LightGBM] [Debug] Trained a tree with leaves = 600 and depth = 15\n",
      "[LightGBM] [Debug] Trained a tree with leaves = 600 and depth = 16\n",
      "[LightGBM] [Debug] Trained a tree with leaves = 600 and depth = 14\n",
      "[LightGBM] [Debug] Trained a tree with leaves = 600 and depth = 15\n",
      "[LightGBM] [Debug] Trained a tree with leaves = 600 and depth = 16\n",
      "[LightGBM] [Debug] Trained a tree with leaves = 600 and depth = 16\n",
      "[LightGBM] [Debug] Trained a tree with leaves = 600 and depth = 16\n",
      "[LightGBM] [Debug] Trained a tree with leaves = 600 and depth = 16\n",
      "[LightGBM] [Debug] Trained a tree with leaves = 600 and depth = 17\n",
      "[LightGBM] [Debug] Trained a tree with leaves = 600 and depth = 16\n",
      "[LightGBM] [Debug] Trained a tree with leaves = 600 and depth = 18\n",
      "[LightGBM] [Debug] Trained a tree with leaves = 600 and depth = 15\n",
      "[LightGBM] [Debug] Trained a tree with leaves = 600 and depth = 15\n",
      "[LightGBM] [Debug] Trained a tree with leaves = 600 and depth = 16\n",
      "[LightGBM] [Debug] Trained a tree with leaves = 600 and depth = 16\n",
      "[LightGBM] [Debug] Trained a tree with leaves = 600 and depth = 17\n",
      "[LightGBM] [Debug] Trained a tree with leaves = 600 and depth = 15\n",
      "[LightGBM] [Debug] Trained a tree with leaves = 600 and depth = 16\n",
      "[LightGBM] [Debug] Trained a tree with leaves = 600 and depth = 18\n",
      "[LightGBM] [Debug] Trained a tree with leaves = 600 and depth = 15\n",
      "[LightGBM] [Debug] Trained a tree with leaves = 600 and depth = 17\n",
      "[LightGBM] [Debug] Trained a tree with leaves = 600 and depth = 21\n",
      "[LightGBM] [Debug] Trained a tree with leaves = 600 and depth = 17\n",
      "[LightGBM] [Debug] Trained a tree with leaves = 600 and depth = 16\n",
      "[LightGBM] [Debug] Trained a tree with leaves = 600 and depth = 16\n",
      "[LightGBM] [Debug] Trained a tree with leaves = 600 and depth = 17\n",
      "[LightGBM] [Debug] Trained a tree with leaves = 600 and depth = 19\n",
      "[LightGBM] [Debug] Trained a tree with leaves = 600 and depth = 17\n",
      "[LightGBM] [Debug] Trained a tree with leaves = 600 and depth = 16\n",
      "[LightGBM] [Debug] Trained a tree with leaves = 600 and depth = 17\n",
      "[LightGBM] [Debug] Trained a tree with leaves = 600 and depth = 18\n",
      "[LightGBM] [Debug] Trained a tree with leaves = 600 and depth = 18\n",
      "[LightGBM] [Debug] Trained a tree with leaves = 600 and depth = 19\n",
      "[LightGBM] [Debug] Trained a tree with leaves = 600 and depth = 18\n",
      "[LightGBM] [Debug] Trained a tree with leaves = 600 and depth = 23\n",
      "[LightGBM] [Debug] Trained a tree with leaves = 600 and depth = 21\n",
      "[LightGBM] [Debug] Trained a tree with leaves = 600 and depth = 19\n",
      "[LightGBM] [Debug] Trained a tree with leaves = 600 and depth = 17\n",
      "[LightGBM] [Debug] Trained a tree with leaves = 600 and depth = 20\n"
     ]
    },
    {
     "name": "stdout",
     "output_type": "stream",
     "text": [
      "[LightGBM] [Debug] Trained a tree with leaves = 600 and depth = 18\n",
      "[LightGBM] [Debug] Trained a tree with leaves = 600 and depth = 20\n",
      "[LightGBM] [Debug] Trained a tree with leaves = 600 and depth = 22\n",
      "[LightGBM] [Debug] Trained a tree with leaves = 600 and depth = 19\n",
      "[LightGBM] [Debug] Trained a tree with leaves = 600 and depth = 19\n",
      "[LightGBM] [Debug] Trained a tree with leaves = 600 and depth = 20\n",
      "[LightGBM] [Debug] Trained a tree with leaves = 600 and depth = 23\n",
      "[LightGBM] [Debug] Trained a tree with leaves = 600 and depth = 21\n",
      "[LightGBM] [Debug] Trained a tree with leaves = 600 and depth = 20\n",
      "[LightGBM] [Debug] Trained a tree with leaves = 600 and depth = 20\n",
      "[LightGBM] [Debug] Trained a tree with leaves = 600 and depth = 18\n",
      "[LightGBM] [Debug] Trained a tree with leaves = 600 and depth = 22\n",
      "[LightGBM] [Debug] Trained a tree with leaves = 600 and depth = 19\n",
      "[LightGBM] [Debug] Trained a tree with leaves = 600 and depth = 22\n",
      "[LightGBM] [Debug] Trained a tree with leaves = 600 and depth = 19\n",
      "[LightGBM] [Debug] Trained a tree with leaves = 600 and depth = 21\n",
      "[LightGBM] [Debug] Trained a tree with leaves = 600 and depth = 24\n",
      "[LightGBM] [Debug] Trained a tree with leaves = 600 and depth = 23\n",
      "[LightGBM] [Debug] Trained a tree with leaves = 600 and depth = 24\n",
      "[LightGBM] [Debug] Trained a tree with leaves = 600 and depth = 20\n",
      "[LightGBM] [Debug] Trained a tree with leaves = 600 and depth = 22\n",
      "[LightGBM] [Debug] Trained a tree with leaves = 600 and depth = 21\n",
      "[LightGBM] [Debug] Trained a tree with leaves = 600 and depth = 26\n",
      "[LightGBM] [Debug] Trained a tree with leaves = 600 and depth = 21\n",
      "[LightGBM] [Debug] Trained a tree with leaves = 600 and depth = 22\n",
      "[LightGBM] [Debug] Trained a tree with leaves = 600 and depth = 23\n",
      "[LightGBM] [Debug] Trained a tree with leaves = 600 and depth = 26\n",
      "[LightGBM] [Debug] Trained a tree with leaves = 600 and depth = 21\n",
      "[LightGBM] [Debug] Trained a tree with leaves = 600 and depth = 23\n",
      "[LightGBM] [Debug] Trained a tree with leaves = 600 and depth = 25\n",
      "[LightGBM] [Debug] Trained a tree with leaves = 600 and depth = 24\n",
      "[LightGBM] [Debug] Trained a tree with leaves = 600 and depth = 21\n",
      "[LightGBM] [Debug] Trained a tree with leaves = 600 and depth = 26\n",
      "[LightGBM] [Debug] Trained a tree with leaves = 600 and depth = 24\n",
      "[LightGBM] [Debug] Trained a tree with leaves = 600 and depth = 36\n",
      "[LightGBM] [Debug] Trained a tree with leaves = 600 and depth = 35\n",
      "[LightGBM] [Debug] Trained a tree with leaves = 600 and depth = 25\n",
      "[LightGBM] [Debug] Trained a tree with leaves = 600 and depth = 22\n",
      "[LightGBM] [Debug] Trained a tree with leaves = 600 and depth = 22\n",
      "[LightGBM] [Debug] Trained a tree with leaves = 600 and depth = 22\n",
      "[LightGBM] [Debug] Trained a tree with leaves = 600 and depth = 21\n",
      "[LightGBM] [Debug] Trained a tree with leaves = 600 and depth = 25\n",
      "[LightGBM] [Debug] Trained a tree with leaves = 600 and depth = 24\n",
      "[LightGBM] [Debug] Trained a tree with leaves = 600 and depth = 23\n",
      "[LightGBM] [Debug] Trained a tree with leaves = 600 and depth = 29\n",
      "[LightGBM] [Debug] Trained a tree with leaves = 600 and depth = 25\n",
      "[LightGBM] [Debug] Trained a tree with leaves = 600 and depth = 28\n",
      "[CV 3/3] END force_col_wise=true, learning_rate=0.05, num_leaves=600;, score=-2559883.315 total time=   2.0s\n",
      "[LightGBM] [Debug] Dataset::GetMultiBinFromSparseFeatures: sparse rate 0.736408\n",
      "[LightGBM] [Info] Total Bins 590\n",
      "[LightGBM] [Info] Number of data points in the train set: 156780, number of used features: 10\n",
      "[LightGBM] [Info] Start training from score 4578.288391\n",
      "[LightGBM] [Debug] Trained a tree with leaves = 500 and depth = 13\n",
      "[LightGBM] [Debug] Trained a tree with leaves = 500 and depth = 14\n",
      "[LightGBM] [Debug] Trained a tree with leaves = 500 and depth = 15\n",
      "[LightGBM] [Debug] Trained a tree with leaves = 500 and depth = 15\n",
      "[LightGBM] [Debug] Trained a tree with leaves = 500 and depth = 14\n",
      "[LightGBM] [Debug] Trained a tree with leaves = 500 and depth = 15\n",
      "[LightGBM] [Debug] Trained a tree with leaves = 500 and depth = 14\n",
      "[LightGBM] [Debug] Trained a tree with leaves = 500 and depth = 15\n",
      "[LightGBM] [Debug] Trained a tree with leaves = 500 and depth = 15\n",
      "[LightGBM] [Debug] Trained a tree with leaves = 500 and depth = 14\n",
      "[LightGBM] [Debug] Trained a tree with leaves = 500 and depth = 16\n",
      "[LightGBM] [Debug] Trained a tree with leaves = 500 and depth = 15\n",
      "[LightGBM] [Debug] Trained a tree with leaves = 500 and depth = 15\n",
      "[LightGBM] [Debug] Trained a tree with leaves = 500 and depth = 18\n",
      "[LightGBM] [Debug] Trained a tree with leaves = 500 and depth = 17\n",
      "[LightGBM] [Debug] Trained a tree with leaves = 500 and depth = 17\n",
      "[LightGBM] [Debug] Trained a tree with leaves = 500 and depth = 16\n",
      "[LightGBM] [Debug] Trained a tree with leaves = 500 and depth = 16\n",
      "[LightGBM] [Debug] Trained a tree with leaves = 500 and depth = 17\n",
      "[LightGBM] [Debug] Trained a tree with leaves = 500 and depth = 16\n",
      "[LightGBM] [Debug] Trained a tree with leaves = 500 and depth = 18\n",
      "[LightGBM] [Debug] Trained a tree with leaves = 500 and depth = 17\n",
      "[LightGBM] [Debug] Trained a tree with leaves = 500 and depth = 18\n",
      "[LightGBM] [Debug] Trained a tree with leaves = 500 and depth = 17\n",
      "[LightGBM] [Debug] Trained a tree with leaves = 500 and depth = 17\n",
      "[LightGBM] [Debug] Trained a tree with leaves = 500 and depth = 18\n",
      "[LightGBM] [Debug] Trained a tree with leaves = 500 and depth = 17\n",
      "[LightGBM] [Debug] Trained a tree with leaves = 500 and depth = 17\n",
      "[LightGBM] [Debug] Trained a tree with leaves = 500 and depth = 21\n",
      "[LightGBM] [Debug] Trained a tree with leaves = 500 and depth = 19\n",
      "[LightGBM] [Debug] Trained a tree with leaves = 500 and depth = 18\n",
      "[LightGBM] [Debug] Trained a tree with leaves = 500 and depth = 19\n",
      "[LightGBM] [Debug] Trained a tree with leaves = 500 and depth = 20\n",
      "[LightGBM] [Debug] Trained a tree with leaves = 500 and depth = 21\n",
      "[LightGBM] [Debug] Trained a tree with leaves = 500 and depth = 18\n",
      "[LightGBM] [Debug] Trained a tree with leaves = 500 and depth = 20\n",
      "[LightGBM] [Debug] Trained a tree with leaves = 500 and depth = 20\n",
      "[LightGBM] [Debug] Trained a tree with leaves = 500 and depth = 23\n",
      "[LightGBM] [Debug] Trained a tree with leaves = 500 and depth = 20\n",
      "[LightGBM] [Debug] Trained a tree with leaves = 500 and depth = 22\n",
      "[LightGBM] [Debug] Trained a tree with leaves = 500 and depth = 21\n",
      "[LightGBM] [Debug] Trained a tree with leaves = 500 and depth = 24\n",
      "[LightGBM] [Debug] Trained a tree with leaves = 500 and depth = 19\n",
      "[LightGBM] [Debug] Trained a tree with leaves = 500 and depth = 21\n",
      "[LightGBM] [Debug] Trained a tree with leaves = 500 and depth = 25\n",
      "[LightGBM] [Debug] Trained a tree with leaves = 500 and depth = 23\n",
      "[LightGBM] [Debug] Trained a tree with leaves = 500 and depth = 24\n",
      "[LightGBM] [Debug] Trained a tree with leaves = 500 and depth = 23\n",
      "[LightGBM] [Debug] Trained a tree with leaves = 500 and depth = 27\n",
      "[LightGBM] [Debug] Trained a tree with leaves = 500 and depth = 24\n",
      "[LightGBM] [Debug] Trained a tree with leaves = 500 and depth = 23\n",
      "[LightGBM] [Debug] Trained a tree with leaves = 500 and depth = 26\n",
      "[LightGBM] [Debug] Trained a tree with leaves = 500 and depth = 24\n",
      "[LightGBM] [Debug] Trained a tree with leaves = 500 and depth = 24\n",
      "[LightGBM] [Debug] Trained a tree with leaves = 500 and depth = 23\n",
      "[LightGBM] [Debug] Trained a tree with leaves = 500 and depth = 27\n",
      "[LightGBM] [Debug] Trained a tree with leaves = 500 and depth = 25\n",
      "[LightGBM] [Debug] Trained a tree with leaves = 500 and depth = 24\n",
      "[LightGBM] [Debug] Trained a tree with leaves = 500 and depth = 28\n",
      "[LightGBM] [Debug] Trained a tree with leaves = 500 and depth = 31\n",
      "[LightGBM] [Debug] Trained a tree with leaves = 500 and depth = 31\n",
      "[LightGBM] [Debug] Trained a tree with leaves = 500 and depth = 29\n",
      "[LightGBM] [Debug] Trained a tree with leaves = 500 and depth = 25\n",
      "[LightGBM] [Debug] Trained a tree with leaves = 500 and depth = 27\n",
      "[LightGBM] [Debug] Trained a tree with leaves = 500 and depth = 35\n",
      "[LightGBM] [Debug] Trained a tree with leaves = 500 and depth = 27\n",
      "[LightGBM] [Debug] Trained a tree with leaves = 500 and depth = 28\n",
      "[LightGBM] [Debug] Trained a tree with leaves = 500 and depth = 29\n",
      "[LightGBM] [Debug] Trained a tree with leaves = 500 and depth = 23\n",
      "[LightGBM] [Debug] Trained a tree with leaves = 500 and depth = 30\n"
     ]
    },
    {
     "name": "stdout",
     "output_type": "stream",
     "text": [
      "[LightGBM] [Debug] Trained a tree with leaves = 500 and depth = 28\n",
      "[LightGBM] [Debug] Trained a tree with leaves = 500 and depth = 31\n",
      "[LightGBM] [Debug] Trained a tree with leaves = 500 and depth = 25\n",
      "[LightGBM] [Debug] Trained a tree with leaves = 500 and depth = 26\n",
      "[LightGBM] [Debug] Trained a tree with leaves = 500 and depth = 31\n",
      "[LightGBM] [Debug] Trained a tree with leaves = 500 and depth = 34\n",
      "[LightGBM] [Debug] Trained a tree with leaves = 500 and depth = 33\n",
      "[LightGBM] [Debug] Trained a tree with leaves = 500 and depth = 25\n",
      "[LightGBM] [Debug] Trained a tree with leaves = 500 and depth = 25\n",
      "[LightGBM] [Debug] Trained a tree with leaves = 500 and depth = 32\n",
      "[LightGBM] [Debug] Trained a tree with leaves = 500 and depth = 24\n",
      "[LightGBM] [Debug] Trained a tree with leaves = 500 and depth = 26\n",
      "[LightGBM] [Debug] Trained a tree with leaves = 500 and depth = 30\n",
      "[LightGBM] [Debug] Trained a tree with leaves = 500 and depth = 32\n",
      "[LightGBM] [Debug] Trained a tree with leaves = 500 and depth = 29\n",
      "[LightGBM] [Debug] Trained a tree with leaves = 500 and depth = 35\n",
      "[LightGBM] [Debug] Trained a tree with leaves = 500 and depth = 27\n",
      "[LightGBM] [Debug] Trained a tree with leaves = 500 and depth = 37\n",
      "[LightGBM] [Debug] Trained a tree with leaves = 500 and depth = 22\n",
      "[LightGBM] [Debug] Trained a tree with leaves = 500 and depth = 24\n",
      "[LightGBM] [Debug] Trained a tree with leaves = 500 and depth = 27\n",
      "[LightGBM] [Debug] Trained a tree with leaves = 500 and depth = 27\n",
      "[LightGBM] [Debug] Trained a tree with leaves = 500 and depth = 25\n",
      "[LightGBM] [Debug] Trained a tree with leaves = 500 and depth = 27\n",
      "[LightGBM] [Debug] Trained a tree with leaves = 500 and depth = 24\n",
      "[LightGBM] [Debug] Trained a tree with leaves = 500 and depth = 23\n",
      "[LightGBM] [Debug] Trained a tree with leaves = 500 and depth = 30\n",
      "[LightGBM] [Debug] Trained a tree with leaves = 500 and depth = 31\n",
      "[LightGBM] [Debug] Trained a tree with leaves = 500 and depth = 33\n",
      "[LightGBM] [Debug] Trained a tree with leaves = 500 and depth = 32\n",
      "[CV 1/3] END force_col_wise=true, learning_rate=0.1, num_leaves=500;, score=-2587531.130 total time=   1.5s\n",
      "[LightGBM] [Debug] Dataset::GetMultiBinFromSparseFeatures: sparse rate 0.736609\n",
      "[LightGBM] [Info] Total Bins 593\n",
      "[LightGBM] [Info] Number of data points in the train set: 156780, number of used features: 10\n",
      "[LightGBM] [Info] Start training from score 4585.264925\n",
      "[LightGBM] [Debug] Trained a tree with leaves = 500 and depth = 15\n",
      "[LightGBM] [Debug] Trained a tree with leaves = 500 and depth = 14\n",
      "[LightGBM] [Debug] Trained a tree with leaves = 500 and depth = 16\n",
      "[LightGBM] [Debug] Trained a tree with leaves = 500 and depth = 14\n",
      "[LightGBM] [Debug] Trained a tree with leaves = 500 and depth = 14\n",
      "[LightGBM] [Debug] Trained a tree with leaves = 500 and depth = 14\n",
      "[LightGBM] [Debug] Trained a tree with leaves = 500 and depth = 13\n",
      "[LightGBM] [Debug] Trained a tree with leaves = 500 and depth = 14\n",
      "[LightGBM] [Debug] Trained a tree with leaves = 500 and depth = 15\n",
      "[LightGBM] [Debug] Trained a tree with leaves = 500 and depth = 15\n",
      "[LightGBM] [Debug] Trained a tree with leaves = 500 and depth = 15\n",
      "[LightGBM] [Debug] Trained a tree with leaves = 500 and depth = 15\n",
      "[LightGBM] [Debug] Trained a tree with leaves = 500 and depth = 16\n",
      "[LightGBM] [Debug] Trained a tree with leaves = 500 and depth = 15\n",
      "[LightGBM] [Debug] Trained a tree with leaves = 500 and depth = 16\n",
      "[LightGBM] [Debug] Trained a tree with leaves = 500 and depth = 17\n",
      "[LightGBM] [Debug] Trained a tree with leaves = 500 and depth = 17\n",
      "[LightGBM] [Debug] Trained a tree with leaves = 500 and depth = 16\n",
      "[LightGBM] [Debug] Trained a tree with leaves = 500 and depth = 16\n",
      "[LightGBM] [Debug] Trained a tree with leaves = 500 and depth = 16\n",
      "[LightGBM] [Debug] Trained a tree with leaves = 500 and depth = 17\n",
      "[LightGBM] [Debug] Trained a tree with leaves = 500 and depth = 17\n",
      "[LightGBM] [Debug] Trained a tree with leaves = 500 and depth = 18\n",
      "[LightGBM] [Debug] Trained a tree with leaves = 500 and depth = 19\n",
      "[LightGBM] [Debug] Trained a tree with leaves = 500 and depth = 19\n",
      "[LightGBM] [Debug] Trained a tree with leaves = 500 and depth = 17\n",
      "[LightGBM] [Debug] Trained a tree with leaves = 500 and depth = 18\n",
      "[LightGBM] [Debug] Trained a tree with leaves = 500 and depth = 17\n",
      "[LightGBM] [Debug] Trained a tree with leaves = 500 and depth = 19\n",
      "[LightGBM] [Debug] Trained a tree with leaves = 500 and depth = 18\n",
      "[LightGBM] [Debug] Trained a tree with leaves = 500 and depth = 17\n",
      "[LightGBM] [Debug] Trained a tree with leaves = 500 and depth = 19\n",
      "[LightGBM] [Debug] Trained a tree with leaves = 500 and depth = 19\n",
      "[LightGBM] [Debug] Trained a tree with leaves = 500 and depth = 21\n",
      "[LightGBM] [Debug] Trained a tree with leaves = 500 and depth = 19\n",
      "[LightGBM] [Debug] Trained a tree with leaves = 500 and depth = 22\n",
      "[LightGBM] [Debug] Trained a tree with leaves = 500 and depth = 18\n",
      "[LightGBM] [Debug] Trained a tree with leaves = 500 and depth = 19\n",
      "[LightGBM] [Debug] Trained a tree with leaves = 500 and depth = 20\n",
      "[LightGBM] [Debug] Trained a tree with leaves = 500 and depth = 19\n",
      "[LightGBM] [Debug] Trained a tree with leaves = 500 and depth = 23\n",
      "[LightGBM] [Debug] Trained a tree with leaves = 500 and depth = 21\n",
      "[LightGBM] [Debug] Trained a tree with leaves = 500 and depth = 22\n",
      "[LightGBM] [Debug] Trained a tree with leaves = 500 and depth = 20\n",
      "[LightGBM] [Debug] Trained a tree with leaves = 500 and depth = 21\n",
      "[LightGBM] [Debug] Trained a tree with leaves = 500 and depth = 26\n",
      "[LightGBM] [Debug] Trained a tree with leaves = 500 and depth = 23\n",
      "[LightGBM] [Debug] Trained a tree with leaves = 500 and depth = 22\n",
      "[LightGBM] [Debug] Trained a tree with leaves = 500 and depth = 23\n",
      "[LightGBM] [Debug] Trained a tree with leaves = 500 and depth = 26\n",
      "[LightGBM] [Debug] Trained a tree with leaves = 500 and depth = 26\n",
      "[LightGBM] [Debug] Trained a tree with leaves = 500 and depth = 30\n",
      "[LightGBM] [Debug] Trained a tree with leaves = 500 and depth = 28\n",
      "[LightGBM] [Debug] Trained a tree with leaves = 500 and depth = 25\n",
      "[LightGBM] [Debug] Trained a tree with leaves = 500 and depth = 26\n",
      "[LightGBM] [Debug] Trained a tree with leaves = 500 and depth = 29\n",
      "[LightGBM] [Debug] Trained a tree with leaves = 500 and depth = 33\n",
      "[LightGBM] [Debug] Trained a tree with leaves = 500 and depth = 27\n",
      "[LightGBM] [Debug] Trained a tree with leaves = 500 and depth = 37\n",
      "[LightGBM] [Debug] Trained a tree with leaves = 500 and depth = 31\n",
      "[LightGBM] [Debug] Trained a tree with leaves = 500 and depth = 31\n",
      "[LightGBM] [Debug] Trained a tree with leaves = 500 and depth = 31\n",
      "[LightGBM] [Debug] Trained a tree with leaves = 500 and depth = 30\n",
      "[LightGBM] [Debug] Trained a tree with leaves = 500 and depth = 36\n",
      "[LightGBM] [Debug] Trained a tree with leaves = 500 and depth = 28\n",
      "[LightGBM] [Debug] Trained a tree with leaves = 500 and depth = 33\n",
      "[LightGBM] [Debug] Trained a tree with leaves = 500 and depth = 31\n",
      "[LightGBM] [Debug] Trained a tree with leaves = 500 and depth = 28\n",
      "[LightGBM] [Debug] Trained a tree with leaves = 500 and depth = 31\n",
      "[LightGBM] [Debug] Trained a tree with leaves = 500 and depth = 26\n",
      "[LightGBM] [Debug] Trained a tree with leaves = 500 and depth = 28\n",
      "[LightGBM] [Debug] Trained a tree with leaves = 500 and depth = 33\n",
      "[LightGBM] [Debug] Trained a tree with leaves = 500 and depth = 30\n",
      "[LightGBM] [Debug] Trained a tree with leaves = 500 and depth = 25\n",
      "[LightGBM] [Debug] Trained a tree with leaves = 500 and depth = 33\n",
      "[LightGBM] [Debug] Trained a tree with leaves = 500 and depth = 28\n",
      "[LightGBM] [Debug] Trained a tree with leaves = 500 and depth = 29\n",
      "[LightGBM] [Debug] Trained a tree with leaves = 500 and depth = 24\n",
      "[LightGBM] [Debug] Trained a tree with leaves = 500 and depth = 21\n",
      "[LightGBM] [Debug] Trained a tree with leaves = 500 and depth = 25\n",
      "[LightGBM] [Debug] Trained a tree with leaves = 500 and depth = 25\n",
      "[LightGBM] [Debug] Trained a tree with leaves = 500 and depth = 26\n",
      "[LightGBM] [Debug] Trained a tree with leaves = 500 and depth = 23\n",
      "[LightGBM] [Debug] Trained a tree with leaves = 500 and depth = 22\n",
      "[LightGBM] [Debug] Trained a tree with leaves = 500 and depth = 27\n",
      "[LightGBM] [Debug] Trained a tree with leaves = 500 and depth = 28\n",
      "[LightGBM] [Debug] Trained a tree with leaves = 500 and depth = 40\n",
      "[LightGBM] [Debug] Trained a tree with leaves = 500 and depth = 26\n",
      "[LightGBM] [Debug] Trained a tree with leaves = 500 and depth = 25\n",
      "[LightGBM] [Debug] Trained a tree with leaves = 500 and depth = 24\n",
      "[LightGBM] [Debug] Trained a tree with leaves = 500 and depth = 28\n",
      "[LightGBM] [Debug] Trained a tree with leaves = 500 and depth = 24\n",
      "[LightGBM] [Debug] Trained a tree with leaves = 500 and depth = 32\n",
      "[LightGBM] [Debug] Trained a tree with leaves = 500 and depth = 37\n",
      "[LightGBM] [Debug] Trained a tree with leaves = 500 and depth = 29\n",
      "[LightGBM] [Debug] Trained a tree with leaves = 500 and depth = 26\n",
      "[LightGBM] [Debug] Trained a tree with leaves = 500 and depth = 33\n",
      "[LightGBM] [Debug] Trained a tree with leaves = 500 and depth = 30\n",
      "[LightGBM] [Debug] Trained a tree with leaves = 500 and depth = 29\n",
      "[LightGBM] [Debug] Trained a tree with leaves = 500 and depth = 30\n"
     ]
    },
    {
     "name": "stdout",
     "output_type": "stream",
     "text": [
      "[CV 2/3] END force_col_wise=true, learning_rate=0.1, num_leaves=500;, score=-2622220.114 total time=   1.6s\n",
      "[LightGBM] [Debug] Dataset::GetMultiBinFromSparseFeatures: sparse rate 0.737074\n",
      "[LightGBM] [Info] Total Bins 594\n",
      "[LightGBM] [Info] Number of data points in the train set: 156780, number of used features: 10\n",
      "[LightGBM] [Info] Start training from score 4577.614511\n",
      "[LightGBM] [Debug] Trained a tree with leaves = 500 and depth = 14\n",
      "[LightGBM] [Debug] Trained a tree with leaves = 500 and depth = 14\n",
      "[LightGBM] [Debug] Trained a tree with leaves = 500 and depth = 13\n",
      "[LightGBM] [Debug] Trained a tree with leaves = 500 and depth = 15\n",
      "[LightGBM] [Debug] Trained a tree with leaves = 500 and depth = 14\n",
      "[LightGBM] [Debug] Trained a tree with leaves = 500 and depth = 15\n",
      "[LightGBM] [Debug] Trained a tree with leaves = 500 and depth = 15\n",
      "[LightGBM] [Debug] Trained a tree with leaves = 500 and depth = 13\n",
      "[LightGBM] [Debug] Trained a tree with leaves = 500 and depth = 17\n",
      "[LightGBM] [Debug] Trained a tree with leaves = 500 and depth = 15\n",
      "[LightGBM] [Debug] Trained a tree with leaves = 500 and depth = 16\n",
      "[LightGBM] [Debug] Trained a tree with leaves = 500 and depth = 16\n",
      "[LightGBM] [Debug] Trained a tree with leaves = 500 and depth = 16\n",
      "[LightGBM] [Debug] Trained a tree with leaves = 500 and depth = 15\n",
      "[LightGBM] [Debug] Trained a tree with leaves = 500 and depth = 16\n",
      "[LightGBM] [Debug] Trained a tree with leaves = 500 and depth = 15\n",
      "[LightGBM] [Debug] Trained a tree with leaves = 500 and depth = 15\n",
      "[LightGBM] [Debug] Trained a tree with leaves = 500 and depth = 17\n",
      "[LightGBM] [Debug] Trained a tree with leaves = 500 and depth = 16\n",
      "[LightGBM] [Debug] Trained a tree with leaves = 500 and depth = 16\n",
      "[LightGBM] [Debug] Trained a tree with leaves = 500 and depth = 17\n",
      "[LightGBM] [Debug] Trained a tree with leaves = 500 and depth = 18\n",
      "[LightGBM] [Debug] Trained a tree with leaves = 500 and depth = 18\n",
      "[LightGBM] [Debug] Trained a tree with leaves = 500 and depth = 18\n",
      "[LightGBM] [Debug] Trained a tree with leaves = 500 and depth = 17\n",
      "[LightGBM] [Debug] Trained a tree with leaves = 500 and depth = 19\n",
      "[LightGBM] [Debug] Trained a tree with leaves = 500 and depth = 20\n",
      "[LightGBM] [Debug] Trained a tree with leaves = 500 and depth = 20\n",
      "[LightGBM] [Debug] Trained a tree with leaves = 500 and depth = 20\n",
      "[LightGBM] [Debug] Trained a tree with leaves = 500 and depth = 19\n",
      "[LightGBM] [Debug] Trained a tree with leaves = 500 and depth = 22\n",
      "[LightGBM] [Debug] Trained a tree with leaves = 500 and depth = 21\n",
      "[LightGBM] [Debug] Trained a tree with leaves = 500 and depth = 17\n",
      "[LightGBM] [Debug] Trained a tree with leaves = 500 and depth = 20\n",
      "[LightGBM] [Debug] Trained a tree with leaves = 500 and depth = 22\n",
      "[LightGBM] [Debug] Trained a tree with leaves = 500 and depth = 20\n",
      "[LightGBM] [Debug] Trained a tree with leaves = 500 and depth = 25\n",
      "[LightGBM] [Debug] Trained a tree with leaves = 500 and depth = 22\n",
      "[LightGBM] [Debug] Trained a tree with leaves = 500 and depth = 21\n",
      "[LightGBM] [Debug] Trained a tree with leaves = 500 and depth = 22\n",
      "[LightGBM] [Debug] Trained a tree with leaves = 500 and depth = 22\n",
      "[LightGBM] [Debug] Trained a tree with leaves = 500 and depth = 21\n",
      "[LightGBM] [Debug] Trained a tree with leaves = 500 and depth = 25\n",
      "[LightGBM] [Debug] Trained a tree with leaves = 500 and depth = 24\n",
      "[LightGBM] [Debug] Trained a tree with leaves = 500 and depth = 22\n",
      "[LightGBM] [Debug] Trained a tree with leaves = 500 and depth = 25\n",
      "[LightGBM] [Debug] Trained a tree with leaves = 500 and depth = 25\n",
      "[LightGBM] [Debug] Trained a tree with leaves = 500 and depth = 22\n",
      "[LightGBM] [Debug] Trained a tree with leaves = 500 and depth = 25\n",
      "[LightGBM] [Debug] Trained a tree with leaves = 500 and depth = 24\n",
      "[LightGBM] [Debug] Trained a tree with leaves = 500 and depth = 29\n",
      "[LightGBM] [Debug] Trained a tree with leaves = 500 and depth = 30\n",
      "[LightGBM] [Debug] Trained a tree with leaves = 500 and depth = 27\n",
      "[LightGBM] [Debug] Trained a tree with leaves = 500 and depth = 26\n",
      "[LightGBM] [Debug] Trained a tree with leaves = 500 and depth = 31\n",
      "[LightGBM] [Debug] Trained a tree with leaves = 500 and depth = 29\n",
      "[LightGBM] [Debug] Trained a tree with leaves = 500 and depth = 28\n",
      "[LightGBM] [Debug] Trained a tree with leaves = 500 and depth = 31\n",
      "[LightGBM] [Debug] Trained a tree with leaves = 500 and depth = 30\n",
      "[LightGBM] [Debug] Trained a tree with leaves = 500 and depth = 29\n",
      "[LightGBM] [Debug] Trained a tree with leaves = 500 and depth = 29\n",
      "[LightGBM] [Debug] Trained a tree with leaves = 500 and depth = 35\n",
      "[LightGBM] [Debug] Trained a tree with leaves = 500 and depth = 33\n",
      "[LightGBM] [Debug] Trained a tree with leaves = 500 and depth = 31\n",
      "[LightGBM] [Debug] Trained a tree with leaves = 500 and depth = 29\n",
      "[LightGBM] [Debug] Trained a tree with leaves = 500 and depth = 34\n",
      "[LightGBM] [Debug] Trained a tree with leaves = 500 and depth = 25\n",
      "[LightGBM] [Debug] Trained a tree with leaves = 500 and depth = 33\n",
      "[LightGBM] [Debug] Trained a tree with leaves = 500 and depth = 30\n",
      "[LightGBM] [Debug] Trained a tree with leaves = 500 and depth = 26\n",
      "[LightGBM] [Debug] Trained a tree with leaves = 500 and depth = 28\n",
      "[LightGBM] [Debug] Trained a tree with leaves = 500 and depth = 31\n",
      "[LightGBM] [Debug] Trained a tree with leaves = 500 and depth = 25\n",
      "[LightGBM] [Debug] Trained a tree with leaves = 500 and depth = 26\n",
      "[LightGBM] [Debug] Trained a tree with leaves = 500 and depth = 25\n",
      "[LightGBM] [Debug] Trained a tree with leaves = 500 and depth = 29\n",
      "[LightGBM] [Debug] Trained a tree with leaves = 500 and depth = 31\n",
      "[LightGBM] [Debug] Trained a tree with leaves = 500 and depth = 30\n",
      "[LightGBM] [Debug] Trained a tree with leaves = 500 and depth = 30\n",
      "[LightGBM] [Debug] Trained a tree with leaves = 500 and depth = 30\n",
      "[LightGBM] [Debug] Trained a tree with leaves = 500 and depth = 25\n",
      "[LightGBM] [Debug] Trained a tree with leaves = 500 and depth = 24\n",
      "[LightGBM] [Debug] Trained a tree with leaves = 500 and depth = 23\n",
      "[LightGBM] [Debug] Trained a tree with leaves = 500 and depth = 26\n",
      "[LightGBM] [Debug] Trained a tree with leaves = 500 and depth = 30\n",
      "[LightGBM] [Debug] Trained a tree with leaves = 500 and depth = 28\n",
      "[LightGBM] [Debug] Trained a tree with leaves = 500 and depth = 28\n",
      "[LightGBM] [Debug] Trained a tree with leaves = 500 and depth = 29\n",
      "[LightGBM] [Debug] Trained a tree with leaves = 500 and depth = 29\n",
      "[LightGBM] [Debug] Trained a tree with leaves = 500 and depth = 29\n",
      "[LightGBM] [Debug] Trained a tree with leaves = 500 and depth = 29\n",
      "[LightGBM] [Debug] Trained a tree with leaves = 500 and depth = 27\n",
      "[LightGBM] [Debug] Trained a tree with leaves = 500 and depth = 31\n",
      "[LightGBM] [Debug] Trained a tree with leaves = 500 and depth = 29\n",
      "[LightGBM] [Debug] Trained a tree with leaves = 500 and depth = 29\n",
      "[LightGBM] [Debug] Trained a tree with leaves = 500 and depth = 34\n",
      "[LightGBM] [Debug] Trained a tree with leaves = 500 and depth = 23\n",
      "[LightGBM] [Debug] Trained a tree with leaves = 500 and depth = 24\n",
      "[LightGBM] [Debug] Trained a tree with leaves = 500 and depth = 30\n",
      "[LightGBM] [Debug] Trained a tree with leaves = 500 and depth = 30\n",
      "[CV 3/3] END force_col_wise=true, learning_rate=0.1, num_leaves=500;, score=-2542499.188 total time=   1.5s\n",
      "[LightGBM] [Debug] Dataset::GetMultiBinFromSparseFeatures: sparse rate 0.736408\n",
      "[LightGBM] [Info] Total Bins 590\n",
      "[LightGBM] [Info] Number of data points in the train set: 156780, number of used features: 10\n",
      "[LightGBM] [Info] Start training from score 4578.288391\n",
      "[LightGBM] [Debug] Trained a tree with leaves = 525 and depth = 13\n",
      "[LightGBM] [Debug] Trained a tree with leaves = 525 and depth = 15\n",
      "[LightGBM] [Debug] Trained a tree with leaves = 525 and depth = 15\n",
      "[LightGBM] [Debug] Trained a tree with leaves = 525 and depth = 15\n",
      "[LightGBM] [Debug] Trained a tree with leaves = 525 and depth = 14\n",
      "[LightGBM] [Debug] Trained a tree with leaves = 525 and depth = 14\n",
      "[LightGBM] [Debug] Trained a tree with leaves = 525 and depth = 14\n",
      "[LightGBM] [Debug] Trained a tree with leaves = 525 and depth = 14\n",
      "[LightGBM] [Debug] Trained a tree with leaves = 525 and depth = 14\n",
      "[LightGBM] [Debug] Trained a tree with leaves = 525 and depth = 14\n",
      "[LightGBM] [Debug] Trained a tree with leaves = 525 and depth = 15\n",
      "[LightGBM] [Debug] Trained a tree with leaves = 525 and depth = 15\n",
      "[LightGBM] [Debug] Trained a tree with leaves = 525 and depth = 18\n",
      "[LightGBM] [Debug] Trained a tree with leaves = 525 and depth = 19\n",
      "[LightGBM] [Debug] Trained a tree with leaves = 525 and depth = 15\n",
      "[LightGBM] [Debug] Trained a tree with leaves = 525 and depth = 18\n",
      "[LightGBM] [Debug] Trained a tree with leaves = 525 and depth = 16\n",
      "[LightGBM] [Debug] Trained a tree with leaves = 525 and depth = 18\n",
      "[LightGBM] [Debug] Trained a tree with leaves = 525 and depth = 17\n"
     ]
    },
    {
     "name": "stdout",
     "output_type": "stream",
     "text": [
      "[LightGBM] [Debug] Trained a tree with leaves = 525 and depth = 16\n",
      "[LightGBM] [Debug] Trained a tree with leaves = 525 and depth = 18\n",
      "[LightGBM] [Debug] Trained a tree with leaves = 525 and depth = 20\n",
      "[LightGBM] [Debug] Trained a tree with leaves = 525 and depth = 19\n",
      "[LightGBM] [Debug] Trained a tree with leaves = 525 and depth = 22\n",
      "[LightGBM] [Debug] Trained a tree with leaves = 525 and depth = 17\n",
      "[LightGBM] [Debug] Trained a tree with leaves = 525 and depth = 16\n",
      "[LightGBM] [Debug] Trained a tree with leaves = 525 and depth = 19\n",
      "[LightGBM] [Debug] Trained a tree with leaves = 525 and depth = 17\n",
      "[LightGBM] [Debug] Trained a tree with leaves = 525 and depth = 19\n",
      "[LightGBM] [Debug] Trained a tree with leaves = 525 and depth = 24\n",
      "[LightGBM] [Debug] Trained a tree with leaves = 525 and depth = 23\n",
      "[LightGBM] [Debug] Trained a tree with leaves = 525 and depth = 20\n",
      "[LightGBM] [Debug] Trained a tree with leaves = 525 and depth = 22\n",
      "[LightGBM] [Debug] Trained a tree with leaves = 525 and depth = 20\n",
      "[LightGBM] [Debug] Trained a tree with leaves = 525 and depth = 22\n",
      "[LightGBM] [Debug] Trained a tree with leaves = 525 and depth = 20\n",
      "[LightGBM] [Debug] Trained a tree with leaves = 525 and depth = 21\n",
      "[LightGBM] [Debug] Trained a tree with leaves = 525 and depth = 20\n",
      "[LightGBM] [Debug] Trained a tree with leaves = 525 and depth = 21\n",
      "[LightGBM] [Debug] Trained a tree with leaves = 525 and depth = 21\n",
      "[LightGBM] [Debug] Trained a tree with leaves = 525 and depth = 29\n",
      "[LightGBM] [Debug] Trained a tree with leaves = 525 and depth = 23\n",
      "[LightGBM] [Debug] Trained a tree with leaves = 525 and depth = 20\n",
      "[LightGBM] [Debug] Trained a tree with leaves = 525 and depth = 24\n",
      "[LightGBM] [Debug] Trained a tree with leaves = 525 and depth = 23\n",
      "[LightGBM] [Debug] Trained a tree with leaves = 525 and depth = 21\n",
      "[LightGBM] [Debug] Trained a tree with leaves = 525 and depth = 26\n",
      "[LightGBM] [Debug] Trained a tree with leaves = 525 and depth = 22\n",
      "[LightGBM] [Debug] Trained a tree with leaves = 525 and depth = 26\n",
      "[LightGBM] [Debug] Trained a tree with leaves = 525 and depth = 26\n",
      "[LightGBM] [Debug] Trained a tree with leaves = 525 and depth = 24\n",
      "[LightGBM] [Debug] Trained a tree with leaves = 525 and depth = 27\n",
      "[LightGBM] [Debug] Trained a tree with leaves = 525 and depth = 29\n",
      "[LightGBM] [Debug] Trained a tree with leaves = 525 and depth = 30\n",
      "[LightGBM] [Debug] Trained a tree with leaves = 525 and depth = 24\n",
      "[LightGBM] [Debug] Trained a tree with leaves = 525 and depth = 27\n",
      "[LightGBM] [Debug] Trained a tree with leaves = 525 and depth = 29\n",
      "[LightGBM] [Debug] Trained a tree with leaves = 525 and depth = 25\n",
      "[LightGBM] [Debug] Trained a tree with leaves = 525 and depth = 32\n",
      "[LightGBM] [Debug] Trained a tree with leaves = 525 and depth = 24\n",
      "[LightGBM] [Debug] Trained a tree with leaves = 525 and depth = 29\n",
      "[LightGBM] [Debug] Trained a tree with leaves = 525 and depth = 27\n",
      "[LightGBM] [Debug] Trained a tree with leaves = 525 and depth = 31\n",
      "[LightGBM] [Debug] Trained a tree with leaves = 525 and depth = 25\n",
      "[LightGBM] [Debug] Trained a tree with leaves = 525 and depth = 36\n",
      "[LightGBM] [Debug] Trained a tree with leaves = 525 and depth = 32\n",
      "[LightGBM] [Debug] Trained a tree with leaves = 525 and depth = 33\n",
      "[LightGBM] [Debug] Trained a tree with leaves = 525 and depth = 29\n",
      "[LightGBM] [Debug] Trained a tree with leaves = 525 and depth = 34\n",
      "[LightGBM] [Debug] Trained a tree with leaves = 525 and depth = 27\n",
      "[LightGBM] [Debug] Trained a tree with leaves = 525 and depth = 29\n",
      "[LightGBM] [Debug] Trained a tree with leaves = 525 and depth = 30\n",
      "[LightGBM] [Debug] Trained a tree with leaves = 525 and depth = 29\n",
      "[LightGBM] [Debug] Trained a tree with leaves = 525 and depth = 24\n",
      "[LightGBM] [Debug] Trained a tree with leaves = 525 and depth = 27\n",
      "[LightGBM] [Debug] Trained a tree with leaves = 525 and depth = 39\n",
      "[LightGBM] [Debug] Trained a tree with leaves = 525 and depth = 26\n",
      "[LightGBM] [Debug] Trained a tree with leaves = 525 and depth = 26\n",
      "[LightGBM] [Debug] Trained a tree with leaves = 525 and depth = 29\n",
      "[LightGBM] [Debug] Trained a tree with leaves = 525 and depth = 34\n",
      "[LightGBM] [Debug] Trained a tree with leaves = 525 and depth = 32\n",
      "[LightGBM] [Debug] Trained a tree with leaves = 525 and depth = 37\n",
      "[LightGBM] [Debug] Trained a tree with leaves = 525 and depth = 30\n",
      "[LightGBM] [Debug] Trained a tree with leaves = 525 and depth = 33\n",
      "[LightGBM] [Debug] Trained a tree with leaves = 525 and depth = 30\n",
      "[LightGBM] [Debug] Trained a tree with leaves = 525 and depth = 35\n",
      "[LightGBM] [Debug] Trained a tree with leaves = 525 and depth = 25\n",
      "[LightGBM] [Debug] Trained a tree with leaves = 525 and depth = 29\n",
      "[LightGBM] [Debug] Trained a tree with leaves = 525 and depth = 32\n",
      "[LightGBM] [Debug] Trained a tree with leaves = 525 and depth = 34\n",
      "[LightGBM] [Debug] Trained a tree with leaves = 525 and depth = 28\n",
      "[LightGBM] [Debug] Trained a tree with leaves = 525 and depth = 28\n",
      "[LightGBM] [Debug] Trained a tree with leaves = 525 and depth = 29\n",
      "[LightGBM] [Debug] Trained a tree with leaves = 525 and depth = 31\n",
      "[LightGBM] [Debug] Trained a tree with leaves = 525 and depth = 24\n",
      "[LightGBM] [Debug] Trained a tree with leaves = 525 and depth = 29\n",
      "[LightGBM] [Debug] Trained a tree with leaves = 525 and depth = 24\n",
      "[LightGBM] [Debug] Trained a tree with leaves = 525 and depth = 38\n",
      "[LightGBM] [Debug] Trained a tree with leaves = 525 and depth = 31\n",
      "[LightGBM] [Debug] Trained a tree with leaves = 525 and depth = 31\n",
      "[CV 1/3] END force_col_wise=true, learning_rate=0.1, num_leaves=525;, score=-2584855.450 total time=   1.6s\n",
      "[LightGBM] [Debug] Dataset::GetMultiBinFromSparseFeatures: sparse rate 0.736609\n",
      "[LightGBM] [Info] Total Bins 593\n",
      "[LightGBM] [Info] Number of data points in the train set: 156780, number of used features: 10\n",
      "[LightGBM] [Info] Start training from score 4585.264925\n",
      "[LightGBM] [Debug] Trained a tree with leaves = 525 and depth = 15\n",
      "[LightGBM] [Debug] Trained a tree with leaves = 525 and depth = 14\n",
      "[LightGBM] [Debug] Trained a tree with leaves = 525 and depth = 16\n",
      "[LightGBM] [Debug] Trained a tree with leaves = 525 and depth = 15\n",
      "[LightGBM] [Debug] Trained a tree with leaves = 525 and depth = 14\n",
      "[LightGBM] [Debug] Trained a tree with leaves = 525 and depth = 15\n",
      "[LightGBM] [Debug] Trained a tree with leaves = 525 and depth = 14\n",
      "[LightGBM] [Debug] Trained a tree with leaves = 525 and depth = 15\n",
      "[LightGBM] [Debug] Trained a tree with leaves = 525 and depth = 15\n",
      "[LightGBM] [Debug] Trained a tree with leaves = 525 and depth = 16\n",
      "[LightGBM] [Debug] Trained a tree with leaves = 525 and depth = 15\n",
      "[LightGBM] [Debug] Trained a tree with leaves = 525 and depth = 15\n",
      "[LightGBM] [Debug] Trained a tree with leaves = 525 and depth = 15\n",
      "[LightGBM] [Debug] Trained a tree with leaves = 525 and depth = 17\n",
      "[LightGBM] [Debug] Trained a tree with leaves = 525 and depth = 16\n",
      "[LightGBM] [Debug] Trained a tree with leaves = 525 and depth = 17\n",
      "[LightGBM] [Debug] Trained a tree with leaves = 525 and depth = 16\n",
      "[LightGBM] [Debug] Trained a tree with leaves = 525 and depth = 17\n",
      "[LightGBM] [Debug] Trained a tree with leaves = 525 and depth = 18\n",
      "[LightGBM] [Debug] Trained a tree with leaves = 525 and depth = 17\n",
      "[LightGBM] [Debug] Trained a tree with leaves = 525 and depth = 19\n",
      "[LightGBM] [Debug] Trained a tree with leaves = 525 and depth = 18\n",
      "[LightGBM] [Debug] Trained a tree with leaves = 525 and depth = 16\n",
      "[LightGBM] [Debug] Trained a tree with leaves = 525 and depth = 17\n",
      "[LightGBM] [Debug] Trained a tree with leaves = 525 and depth = 18\n",
      "[LightGBM] [Debug] Trained a tree with leaves = 525 and depth = 19\n",
      "[LightGBM] [Debug] Trained a tree with leaves = 525 and depth = 18\n",
      "[LightGBM] [Debug] Trained a tree with leaves = 525 and depth = 20\n",
      "[LightGBM] [Debug] Trained a tree with leaves = 525 and depth = 19\n",
      "[LightGBM] [Debug] Trained a tree with leaves = 525 and depth = 20\n",
      "[LightGBM] [Debug] Trained a tree with leaves = 525 and depth = 19\n",
      "[LightGBM] [Debug] Trained a tree with leaves = 525 and depth = 20\n",
      "[LightGBM] [Debug] Trained a tree with leaves = 525 and depth = 17\n",
      "[LightGBM] [Debug] Trained a tree with leaves = 525 and depth = 20\n",
      "[LightGBM] [Debug] Trained a tree with leaves = 525 and depth = 23\n",
      "[LightGBM] [Debug] Trained a tree with leaves = 525 and depth = 20\n",
      "[LightGBM] [Debug] Trained a tree with leaves = 525 and depth = 22\n",
      "[LightGBM] [Debug] Trained a tree with leaves = 525 and depth = 20\n",
      "[LightGBM] [Debug] Trained a tree with leaves = 525 and depth = 18\n",
      "[LightGBM] [Debug] Trained a tree with leaves = 525 and depth = 19\n",
      "[LightGBM] [Debug] Trained a tree with leaves = 525 and depth = 22\n",
      "[LightGBM] [Debug] Trained a tree with leaves = 525 and depth = 21\n",
      "[LightGBM] [Debug] Trained a tree with leaves = 525 and depth = 20\n",
      "[LightGBM] [Debug] Trained a tree with leaves = 525 and depth = 24\n",
      "[LightGBM] [Debug] Trained a tree with leaves = 525 and depth = 23\n",
      "[LightGBM] [Debug] Trained a tree with leaves = 525 and depth = 26\n"
     ]
    },
    {
     "name": "stdout",
     "output_type": "stream",
     "text": [
      "[LightGBM] [Debug] Trained a tree with leaves = 525 and depth = 25\n",
      "[LightGBM] [Debug] Trained a tree with leaves = 525 and depth = 26\n",
      "[LightGBM] [Debug] Trained a tree with leaves = 525 and depth = 26\n",
      "[LightGBM] [Debug] Trained a tree with leaves = 525 and depth = 22\n",
      "[LightGBM] [Debug] Trained a tree with leaves = 525 and depth = 23\n",
      "[LightGBM] [Debug] Trained a tree with leaves = 525 and depth = 31\n",
      "[LightGBM] [Debug] Trained a tree with leaves = 525 and depth = 30\n",
      "[LightGBM] [Debug] Trained a tree with leaves = 525 and depth = 26\n",
      "[LightGBM] [Debug] Trained a tree with leaves = 525 and depth = 27\n",
      "[LightGBM] [Debug] Trained a tree with leaves = 525 and depth = 25\n",
      "[LightGBM] [Debug] Trained a tree with leaves = 525 and depth = 30\n",
      "[LightGBM] [Debug] Trained a tree with leaves = 525 and depth = 25\n",
      "[LightGBM] [Debug] Trained a tree with leaves = 525 and depth = 25\n",
      "[LightGBM] [Debug] Trained a tree with leaves = 525 and depth = 31\n",
      "[LightGBM] [Debug] Trained a tree with leaves = 525 and depth = 23\n",
      "[LightGBM] [Debug] Trained a tree with leaves = 525 and depth = 28\n",
      "[LightGBM] [Debug] Trained a tree with leaves = 525 and depth = 31\n",
      "[LightGBM] [Debug] Trained a tree with leaves = 525 and depth = 27\n",
      "[LightGBM] [Debug] Trained a tree with leaves = 525 and depth = 28\n",
      "[LightGBM] [Debug] Trained a tree with leaves = 525 and depth = 28\n",
      "[LightGBM] [Debug] Trained a tree with leaves = 525 and depth = 31\n",
      "[LightGBM] [Debug] Trained a tree with leaves = 525 and depth = 30\n",
      "[LightGBM] [Debug] Trained a tree with leaves = 525 and depth = 35\n",
      "[LightGBM] [Debug] Trained a tree with leaves = 525 and depth = 29\n",
      "[LightGBM] [Debug] Trained a tree with leaves = 525 and depth = 21\n",
      "[LightGBM] [Debug] Trained a tree with leaves = 525 and depth = 28\n",
      "[LightGBM] [Debug] Trained a tree with leaves = 525 and depth = 26\n",
      "[LightGBM] [Debug] Trained a tree with leaves = 525 and depth = 28\n",
      "[LightGBM] [Debug] Trained a tree with leaves = 525 and depth = 27\n",
      "[LightGBM] [Debug] Trained a tree with leaves = 525 and depth = 27\n",
      "[LightGBM] [Debug] Trained a tree with leaves = 525 and depth = 24\n",
      "[LightGBM] [Debug] Trained a tree with leaves = 525 and depth = 30\n",
      "[LightGBM] [Debug] Trained a tree with leaves = 525 and depth = 24\n",
      "[LightGBM] [Debug] Trained a tree with leaves = 525 and depth = 31\n",
      "[LightGBM] [Debug] Trained a tree with leaves = 525 and depth = 32\n",
      "[LightGBM] [Debug] Trained a tree with leaves = 525 and depth = 25\n",
      "[LightGBM] [Debug] Trained a tree with leaves = 525 and depth = 27\n",
      "[LightGBM] [Debug] Trained a tree with leaves = 525 and depth = 23\n",
      "[LightGBM] [Debug] Trained a tree with leaves = 525 and depth = 25\n",
      "[LightGBM] [Debug] Trained a tree with leaves = 525 and depth = 24\n",
      "[LightGBM] [Debug] Trained a tree with leaves = 525 and depth = 24\n",
      "[LightGBM] [Debug] Trained a tree with leaves = 525 and depth = 27\n",
      "[LightGBM] [Debug] Trained a tree with leaves = 525 and depth = 30\n",
      "[LightGBM] [Debug] Trained a tree with leaves = 525 and depth = 22\n",
      "[LightGBM] [Debug] Trained a tree with leaves = 525 and depth = 32\n",
      "[LightGBM] [Debug] Trained a tree with leaves = 525 and depth = 25\n",
      "[LightGBM] [Debug] Trained a tree with leaves = 525 and depth = 38\n",
      "[LightGBM] [Debug] Trained a tree with leaves = 525 and depth = 34\n",
      "[LightGBM] [Debug] Trained a tree with leaves = 525 and depth = 24\n",
      "[LightGBM] [Debug] Trained a tree with leaves = 525 and depth = 24\n",
      "[LightGBM] [Debug] Trained a tree with leaves = 525 and depth = 28\n",
      "[LightGBM] [Debug] Trained a tree with leaves = 525 and depth = 31\n",
      "[LightGBM] [Debug] Trained a tree with leaves = 525 and depth = 33\n",
      "[LightGBM] [Debug] Trained a tree with leaves = 525 and depth = 34\n",
      "[CV 2/3] END force_col_wise=true, learning_rate=0.1, num_leaves=525;, score=-2633368.718 total time=   1.7s\n",
      "[LightGBM] [Debug] Dataset::GetMultiBinFromSparseFeatures: sparse rate 0.737074\n",
      "[LightGBM] [Info] Total Bins 594\n",
      "[LightGBM] [Info] Number of data points in the train set: 156780, number of used features: 10\n",
      "[LightGBM] [Info] Start training from score 4577.614511\n",
      "[LightGBM] [Debug] Trained a tree with leaves = 525 and depth = 14\n",
      "[LightGBM] [Debug] Trained a tree with leaves = 525 and depth = 15\n",
      "[LightGBM] [Debug] Trained a tree with leaves = 525 and depth = 13\n",
      "[LightGBM] [Debug] Trained a tree with leaves = 525 and depth = 15\n",
      "[LightGBM] [Debug] Trained a tree with leaves = 525 and depth = 14\n",
      "[LightGBM] [Debug] Trained a tree with leaves = 525 and depth = 15\n",
      "[LightGBM] [Debug] Trained a tree with leaves = 525 and depth = 14\n",
      "[LightGBM] [Debug] Trained a tree with leaves = 525 and depth = 13\n",
      "[LightGBM] [Debug] Trained a tree with leaves = 525 and depth = 15\n",
      "[LightGBM] [Debug] Trained a tree with leaves = 525 and depth = 14\n",
      "[LightGBM] [Debug] Trained a tree with leaves = 525 and depth = 15\n",
      "[LightGBM] [Debug] Trained a tree with leaves = 525 and depth = 16\n",
      "[LightGBM] [Debug] Trained a tree with leaves = 525 and depth = 16\n",
      "[LightGBM] [Debug] Trained a tree with leaves = 525 and depth = 16\n",
      "[LightGBM] [Debug] Trained a tree with leaves = 525 and depth = 16\n",
      "[LightGBM] [Debug] Trained a tree with leaves = 525 and depth = 16\n",
      "[LightGBM] [Debug] Trained a tree with leaves = 525 and depth = 16\n",
      "[LightGBM] [Debug] Trained a tree with leaves = 525 and depth = 17\n",
      "[LightGBM] [Debug] Trained a tree with leaves = 525 and depth = 16\n",
      "[LightGBM] [Debug] Trained a tree with leaves = 525 and depth = 18\n",
      "[LightGBM] [Debug] Trained a tree with leaves = 525 and depth = 21\n",
      "[LightGBM] [Debug] Trained a tree with leaves = 525 and depth = 20\n",
      "[LightGBM] [Debug] Trained a tree with leaves = 525 and depth = 21\n",
      "[LightGBM] [Debug] Trained a tree with leaves = 525 and depth = 18\n",
      "[LightGBM] [Debug] Trained a tree with leaves = 525 and depth = 18\n",
      "[LightGBM] [Debug] Trained a tree with leaves = 525 and depth = 17\n",
      "[LightGBM] [Debug] Trained a tree with leaves = 525 and depth = 18\n",
      "[LightGBM] [Debug] Trained a tree with leaves = 525 and depth = 20\n",
      "[LightGBM] [Debug] Trained a tree with leaves = 525 and depth = 20\n",
      "[LightGBM] [Debug] Trained a tree with leaves = 525 and depth = 19\n",
      "[LightGBM] [Debug] Trained a tree with leaves = 525 and depth = 19\n",
      "[LightGBM] [Debug] Trained a tree with leaves = 525 and depth = 23\n",
      "[LightGBM] [Debug] Trained a tree with leaves = 525 and depth = 21\n",
      "[LightGBM] [Debug] Trained a tree with leaves = 525 and depth = 21\n",
      "[LightGBM] [Debug] Trained a tree with leaves = 525 and depth = 19\n",
      "[LightGBM] [Debug] Trained a tree with leaves = 525 and depth = 20\n",
      "[LightGBM] [Debug] Trained a tree with leaves = 525 and depth = 20\n",
      "[LightGBM] [Debug] Trained a tree with leaves = 525 and depth = 23\n",
      "[LightGBM] [Debug] Trained a tree with leaves = 525 and depth = 20\n",
      "[LightGBM] [Debug] Trained a tree with leaves = 525 and depth = 20\n",
      "[LightGBM] [Debug] Trained a tree with leaves = 525 and depth = 23\n",
      "[LightGBM] [Debug] Trained a tree with leaves = 525 and depth = 23\n",
      "[LightGBM] [Debug] Trained a tree with leaves = 525 and depth = 26\n",
      "[LightGBM] [Debug] Trained a tree with leaves = 525 and depth = 23\n",
      "[LightGBM] [Debug] Trained a tree with leaves = 525 and depth = 25\n",
      "[LightGBM] [Debug] Trained a tree with leaves = 525 and depth = 22\n",
      "[LightGBM] [Debug] Trained a tree with leaves = 525 and depth = 22\n",
      "[LightGBM] [Debug] Trained a tree with leaves = 525 and depth = 22\n",
      "[LightGBM] [Debug] Trained a tree with leaves = 525 and depth = 25\n",
      "[LightGBM] [Debug] Trained a tree with leaves = 525 and depth = 26\n",
      "[LightGBM] [Debug] Trained a tree with leaves = 525 and depth = 28\n",
      "[LightGBM] [Debug] Trained a tree with leaves = 525 and depth = 28\n",
      "[LightGBM] [Debug] Trained a tree with leaves = 525 and depth = 30\n",
      "[LightGBM] [Debug] Trained a tree with leaves = 525 and depth = 27\n",
      "[LightGBM] [Debug] Trained a tree with leaves = 525 and depth = 34\n",
      "[LightGBM] [Debug] Trained a tree with leaves = 525 and depth = 28\n",
      "[LightGBM] [Debug] Trained a tree with leaves = 525 and depth = 27\n",
      "[LightGBM] [Debug] Trained a tree with leaves = 525 and depth = 27\n",
      "[LightGBM] [Debug] Trained a tree with leaves = 525 and depth = 32\n",
      "[LightGBM] [Debug] Trained a tree with leaves = 525 and depth = 31\n",
      "[LightGBM] [Debug] Trained a tree with leaves = 525 and depth = 27\n",
      "[LightGBM] [Debug] Trained a tree with leaves = 525 and depth = 32\n",
      "[LightGBM] [Debug] Trained a tree with leaves = 525 and depth = 33\n"
     ]
    },
    {
     "name": "stdout",
     "output_type": "stream",
     "text": [
      "[LightGBM] [Debug] Trained a tree with leaves = 525 and depth = 29\n",
      "[LightGBM] [Debug] Trained a tree with leaves = 525 and depth = 35\n",
      "[LightGBM] [Debug] Trained a tree with leaves = 525 and depth = 32\n",
      "[LightGBM] [Debug] Trained a tree with leaves = 525 and depth = 27\n",
      "[LightGBM] [Debug] Trained a tree with leaves = 525 and depth = 32\n",
      "[LightGBM] [Debug] Trained a tree with leaves = 525 and depth = 29\n",
      "[LightGBM] [Debug] Trained a tree with leaves = 525 and depth = 28\n",
      "[LightGBM] [Debug] Trained a tree with leaves = 525 and depth = 27\n",
      "[LightGBM] [Debug] Trained a tree with leaves = 525 and depth = 37\n",
      "[LightGBM] [Debug] Trained a tree with leaves = 525 and depth = 35\n",
      "[LightGBM] [Debug] Trained a tree with leaves = 525 and depth = 27\n",
      "[LightGBM] [Debug] Trained a tree with leaves = 525 and depth = 27\n",
      "[LightGBM] [Debug] Trained a tree with leaves = 525 and depth = 35\n",
      "[LightGBM] [Debug] Trained a tree with leaves = 525 and depth = 26\n",
      "[LightGBM] [Debug] Trained a tree with leaves = 525 and depth = 26\n",
      "[LightGBM] [Debug] Trained a tree with leaves = 525 and depth = 27\n",
      "[LightGBM] [Debug] Trained a tree with leaves = 525 and depth = 28\n",
      "[LightGBM] [Debug] Trained a tree with leaves = 525 and depth = 27\n",
      "[LightGBM] [Debug] Trained a tree with leaves = 525 and depth = 31\n",
      "[LightGBM] [Debug] Trained a tree with leaves = 525 and depth = 28\n",
      "[LightGBM] [Debug] Trained a tree with leaves = 525 and depth = 32\n",
      "[LightGBM] [Debug] Trained a tree with leaves = 525 and depth = 29\n",
      "[LightGBM] [Debug] Trained a tree with leaves = 525 and depth = 33\n",
      "[LightGBM] [Debug] Trained a tree with leaves = 525 and depth = 31\n",
      "[LightGBM] [Debug] Trained a tree with leaves = 525 and depth = 32\n",
      "[LightGBM] [Debug] Trained a tree with leaves = 525 and depth = 25\n",
      "[LightGBM] [Debug] Trained a tree with leaves = 525 and depth = 23\n",
      "[LightGBM] [Debug] Trained a tree with leaves = 525 and depth = 24\n",
      "[LightGBM] [Debug] Trained a tree with leaves = 525 and depth = 25\n",
      "[LightGBM] [Debug] Trained a tree with leaves = 525 and depth = 24\n",
      "[LightGBM] [Debug] Trained a tree with leaves = 525 and depth = 26\n",
      "[LightGBM] [Debug] Trained a tree with leaves = 525 and depth = 41\n",
      "[LightGBM] [Debug] Trained a tree with leaves = 525 and depth = 31\n",
      "[LightGBM] [Debug] Trained a tree with leaves = 525 and depth = 29\n",
      "[LightGBM] [Debug] Trained a tree with leaves = 525 and depth = 30\n",
      "[LightGBM] [Debug] Trained a tree with leaves = 525 and depth = 26\n",
      "[LightGBM] [Debug] Trained a tree with leaves = 525 and depth = 27\n",
      "[CV 3/3] END force_col_wise=true, learning_rate=0.1, num_leaves=525;, score=-2542229.903 total time=   1.6s\n",
      "[LightGBM] [Debug] Dataset::GetMultiBinFromSparseFeatures: sparse rate 0.736408\n",
      "[LightGBM] [Info] Total Bins 590\n",
      "[LightGBM] [Info] Number of data points in the train set: 156780, number of used features: 10\n",
      "[LightGBM] [Info] Start training from score 4578.288391\n",
      "[LightGBM] [Debug] Trained a tree with leaves = 550 and depth = 13\n",
      "[LightGBM] [Debug] Trained a tree with leaves = 550 and depth = 15\n",
      "[LightGBM] [Debug] Trained a tree with leaves = 550 and depth = 15\n",
      "[LightGBM] [Debug] Trained a tree with leaves = 550 and depth = 15\n",
      "[LightGBM] [Debug] Trained a tree with leaves = 550 and depth = 15\n",
      "[LightGBM] [Debug] Trained a tree with leaves = 550 and depth = 15\n",
      "[LightGBM] [Debug] Trained a tree with leaves = 550 and depth = 14\n",
      "[LightGBM] [Debug] Trained a tree with leaves = 550 and depth = 14\n",
      "[LightGBM] [Debug] Trained a tree with leaves = 550 and depth = 15\n",
      "[LightGBM] [Debug] Trained a tree with leaves = 550 and depth = 15\n",
      "[LightGBM] [Debug] Trained a tree with leaves = 550 and depth = 16\n",
      "[LightGBM] [Debug] Trained a tree with leaves = 550 and depth = 16\n",
      "[LightGBM] [Debug] Trained a tree with leaves = 550 and depth = 17\n",
      "[LightGBM] [Debug] Trained a tree with leaves = 550 and depth = 16\n",
      "[LightGBM] [Debug] Trained a tree with leaves = 550 and depth = 16\n",
      "[LightGBM] [Debug] Trained a tree with leaves = 550 and depth = 17\n",
      "[LightGBM] [Debug] Trained a tree with leaves = 550 and depth = 16\n",
      "[LightGBM] [Debug] Trained a tree with leaves = 550 and depth = 17\n",
      "[LightGBM] [Debug] Trained a tree with leaves = 550 and depth = 16\n",
      "[LightGBM] [Debug] Trained a tree with leaves = 550 and depth = 19\n",
      "[LightGBM] [Debug] Trained a tree with leaves = 550 and depth = 15\n",
      "[LightGBM] [Debug] Trained a tree with leaves = 550 and depth = 16\n",
      "[LightGBM] [Debug] Trained a tree with leaves = 550 and depth = 19\n",
      "[LightGBM] [Debug] Trained a tree with leaves = 550 and depth = 20\n",
      "[LightGBM] [Debug] Trained a tree with leaves = 550 and depth = 18\n",
      "[LightGBM] [Debug] Trained a tree with leaves = 550 and depth = 21\n",
      "[LightGBM] [Debug] Trained a tree with leaves = 550 and depth = 18\n",
      "[LightGBM] [Debug] Trained a tree with leaves = 550 and depth = 17\n",
      "[LightGBM] [Debug] Trained a tree with leaves = 550 and depth = 19\n",
      "[LightGBM] [Debug] Trained a tree with leaves = 550 and depth = 18\n",
      "[LightGBM] [Debug] Trained a tree with leaves = 550 and depth = 19\n",
      "[LightGBM] [Debug] Trained a tree with leaves = 550 and depth = 19\n",
      "[LightGBM] [Debug] Trained a tree with leaves = 550 and depth = 22\n",
      "[LightGBM] [Debug] Trained a tree with leaves = 550 and depth = 23\n",
      "[LightGBM] [Debug] Trained a tree with leaves = 550 and depth = 24\n",
      "[LightGBM] [Debug] Trained a tree with leaves = 550 and depth = 20\n",
      "[LightGBM] [Debug] Trained a tree with leaves = 550 and depth = 20\n",
      "[LightGBM] [Debug] Trained a tree with leaves = 550 and depth = 19\n",
      "[LightGBM] [Debug] Trained a tree with leaves = 550 and depth = 25\n",
      "[LightGBM] [Debug] Trained a tree with leaves = 550 and depth = 21\n",
      "[LightGBM] [Debug] Trained a tree with leaves = 550 and depth = 24\n",
      "[LightGBM] [Debug] Trained a tree with leaves = 550 and depth = 21\n",
      "[LightGBM] [Debug] Trained a tree with leaves = 550 and depth = 29\n",
      "[LightGBM] [Debug] Trained a tree with leaves = 550 and depth = 22\n",
      "[LightGBM] [Debug] Trained a tree with leaves = 550 and depth = 26\n",
      "[LightGBM] [Debug] Trained a tree with leaves = 550 and depth = 26\n",
      "[LightGBM] [Debug] Trained a tree with leaves = 550 and depth = 26\n",
      "[LightGBM] [Debug] Trained a tree with leaves = 550 and depth = 23\n",
      "[LightGBM] [Debug] Trained a tree with leaves = 550 and depth = 26\n",
      "[LightGBM] [Debug] Trained a tree with leaves = 550 and depth = 30\n",
      "[LightGBM] [Debug] Trained a tree with leaves = 550 and depth = 27\n",
      "[LightGBM] [Debug] Trained a tree with leaves = 550 and depth = 32\n",
      "[LightGBM] [Debug] Trained a tree with leaves = 550 and depth = 30\n",
      "[LightGBM] [Debug] Trained a tree with leaves = 550 and depth = 28\n",
      "[LightGBM] [Debug] Trained a tree with leaves = 550 and depth = 25\n",
      "[LightGBM] [Debug] Trained a tree with leaves = 550 and depth = 25\n",
      "[LightGBM] [Debug] Trained a tree with leaves = 550 and depth = 31\n",
      "[LightGBM] [Debug] Trained a tree with leaves = 550 and depth = 30\n",
      "[LightGBM] [Debug] Trained a tree with leaves = 550 and depth = 28\n",
      "[LightGBM] [Debug] Trained a tree with leaves = 550 and depth = 26\n",
      "[LightGBM] [Debug] Trained a tree with leaves = 550 and depth = 31\n",
      "[LightGBM] [Debug] Trained a tree with leaves = 550 and depth = 25\n",
      "[LightGBM] [Debug] Trained a tree with leaves = 550 and depth = 30\n",
      "[LightGBM] [Debug] Trained a tree with leaves = 550 and depth = 33\n",
      "[LightGBM] [Debug] Trained a tree with leaves = 550 and depth = 36\n",
      "[LightGBM] [Debug] Trained a tree with leaves = 550 and depth = 33\n",
      "[LightGBM] [Debug] Trained a tree with leaves = 550 and depth = 33\n",
      "[LightGBM] [Debug] Trained a tree with leaves = 550 and depth = 32\n",
      "[LightGBM] [Debug] Trained a tree with leaves = 550 and depth = 36\n",
      "[LightGBM] [Debug] Trained a tree with leaves = 550 and depth = 36\n",
      "[LightGBM] [Debug] Trained a tree with leaves = 550 and depth = 32\n",
      "[LightGBM] [Debug] Trained a tree with leaves = 550 and depth = 27\n",
      "[LightGBM] [Debug] Trained a tree with leaves = 550 and depth = 30\n",
      "[LightGBM] [Debug] Trained a tree with leaves = 550 and depth = 29\n",
      "[LightGBM] [Debug] Trained a tree with leaves = 550 and depth = 28\n",
      "[LightGBM] [Debug] Trained a tree with leaves = 550 and depth = 30\n",
      "[LightGBM] [Debug] Trained a tree with leaves = 550 and depth = 31\n",
      "[LightGBM] [Debug] Trained a tree with leaves = 550 and depth = 30\n",
      "[LightGBM] [Debug] Trained a tree with leaves = 550 and depth = 30\n",
      "[LightGBM] [Debug] Trained a tree with leaves = 550 and depth = 27\n",
      "[LightGBM] [Debug] Trained a tree with leaves = 550 and depth = 25\n"
     ]
    },
    {
     "name": "stdout",
     "output_type": "stream",
     "text": [
      "[LightGBM] [Debug] Trained a tree with leaves = 550 and depth = 28\n",
      "[LightGBM] [Debug] Trained a tree with leaves = 550 and depth = 33\n",
      "[LightGBM] [Debug] Trained a tree with leaves = 550 and depth = 27\n",
      "[LightGBM] [Debug] Trained a tree with leaves = 550 and depth = 29\n",
      "[LightGBM] [Debug] Trained a tree with leaves = 550 and depth = 28\n",
      "[LightGBM] [Debug] Trained a tree with leaves = 550 and depth = 22\n",
      "[LightGBM] [Debug] Trained a tree with leaves = 550 and depth = 25\n",
      "[LightGBM] [Debug] Trained a tree with leaves = 550 and depth = 31\n",
      "[LightGBM] [Debug] Trained a tree with leaves = 550 and depth = 21\n",
      "[LightGBM] [Debug] Trained a tree with leaves = 550 and depth = 33\n",
      "[LightGBM] [Debug] Trained a tree with leaves = 550 and depth = 25\n",
      "[LightGBM] [Debug] Trained a tree with leaves = 550 and depth = 34\n",
      "[LightGBM] [Debug] Trained a tree with leaves = 550 and depth = 33\n",
      "[LightGBM] [Debug] Trained a tree with leaves = 550 and depth = 29\n",
      "[LightGBM] [Debug] Trained a tree with leaves = 550 and depth = 27\n",
      "[LightGBM] [Debug] Trained a tree with leaves = 550 and depth = 27\n",
      "[LightGBM] [Debug] Trained a tree with leaves = 550 and depth = 23\n",
      "[LightGBM] [Debug] Trained a tree with leaves = 550 and depth = 23\n",
      "[LightGBM] [Debug] Trained a tree with leaves = 550 and depth = 33\n",
      "[CV 1/3] END force_col_wise=true, learning_rate=0.1, num_leaves=550;, score=-2579559.957 total time=   1.7s\n",
      "[LightGBM] [Debug] Dataset::GetMultiBinFromSparseFeatures: sparse rate 0.736609\n",
      "[LightGBM] [Info] Total Bins 593\n",
      "[LightGBM] [Info] Number of data points in the train set: 156780, number of used features: 10\n",
      "[LightGBM] [Info] Start training from score 4585.264925\n",
      "[LightGBM] [Debug] Trained a tree with leaves = 550 and depth = 15\n",
      "[LightGBM] [Debug] Trained a tree with leaves = 550 and depth = 14\n",
      "[LightGBM] [Debug] Trained a tree with leaves = 550 and depth = 16\n",
      "[LightGBM] [Debug] Trained a tree with leaves = 550 and depth = 15\n",
      "[LightGBM] [Debug] Trained a tree with leaves = 550 and depth = 14\n",
      "[LightGBM] [Debug] Trained a tree with leaves = 550 and depth = 15\n",
      "[LightGBM] [Debug] Trained a tree with leaves = 550 and depth = 16\n",
      "[LightGBM] [Debug] Trained a tree with leaves = 550 and depth = 15\n",
      "[LightGBM] [Debug] Trained a tree with leaves = 550 and depth = 15\n",
      "[LightGBM] [Debug] Trained a tree with leaves = 550 and depth = 16\n",
      "[LightGBM] [Debug] Trained a tree with leaves = 550 and depth = 17\n",
      "[LightGBM] [Debug] Trained a tree with leaves = 550 and depth = 16\n",
      "[LightGBM] [Debug] Trained a tree with leaves = 550 and depth = 15\n",
      "[LightGBM] [Debug] Trained a tree with leaves = 550 and depth = 15\n",
      "[LightGBM] [Debug] Trained a tree with leaves = 550 and depth = 17\n",
      "[LightGBM] [Debug] Trained a tree with leaves = 550 and depth = 16\n",
      "[LightGBM] [Debug] Trained a tree with leaves = 550 and depth = 15\n",
      "[LightGBM] [Debug] Trained a tree with leaves = 550 and depth = 19\n",
      "[LightGBM] [Debug] Trained a tree with leaves = 550 and depth = 16\n",
      "[LightGBM] [Debug] Trained a tree with leaves = 550 and depth = 18\n",
      "[LightGBM] [Debug] Trained a tree with leaves = 550 and depth = 16\n",
      "[LightGBM] [Debug] Trained a tree with leaves = 550 and depth = 15\n",
      "[LightGBM] [Debug] Trained a tree with leaves = 550 and depth = 16\n",
      "[LightGBM] [Debug] Trained a tree with leaves = 550 and depth = 19\n",
      "[LightGBM] [Debug] Trained a tree with leaves = 550 and depth = 22\n",
      "[LightGBM] [Debug] Trained a tree with leaves = 550 and depth = 20\n",
      "[LightGBM] [Debug] Trained a tree with leaves = 550 and depth = 19\n",
      "[LightGBM] [Debug] Trained a tree with leaves = 550 and depth = 19\n",
      "[LightGBM] [Debug] Trained a tree with leaves = 550 and depth = 18\n",
      "[LightGBM] [Debug] Trained a tree with leaves = 550 and depth = 18\n",
      "[LightGBM] [Debug] Trained a tree with leaves = 550 and depth = 20\n",
      "[LightGBM] [Debug] Trained a tree with leaves = 550 and depth = 18\n",
      "[LightGBM] [Debug] Trained a tree with leaves = 550 and depth = 25\n",
      "[LightGBM] [Debug] Trained a tree with leaves = 550 and depth = 19\n",
      "[LightGBM] [Debug] Trained a tree with leaves = 550 and depth = 21\n",
      "[LightGBM] [Debug] Trained a tree with leaves = 550 and depth = 22\n",
      "[LightGBM] [Debug] Trained a tree with leaves = 550 and depth = 23\n",
      "[LightGBM] [Debug] Trained a tree with leaves = 550 and depth = 23\n",
      "[LightGBM] [Debug] Trained a tree with leaves = 550 and depth = 22\n",
      "[LightGBM] [Debug] Trained a tree with leaves = 550 and depth = 23\n",
      "[LightGBM] [Debug] Trained a tree with leaves = 550 and depth = 23\n",
      "[LightGBM] [Debug] Trained a tree with leaves = 550 and depth = 20\n",
      "[LightGBM] [Debug] Trained a tree with leaves = 550 and depth = 24\n",
      "[LightGBM] [Debug] Trained a tree with leaves = 550 and depth = 24\n",
      "[LightGBM] [Debug] Trained a tree with leaves = 550 and depth = 22\n",
      "[LightGBM] [Debug] Trained a tree with leaves = 550 and depth = 22\n",
      "[LightGBM] [Debug] Trained a tree with leaves = 550 and depth = 23\n",
      "[LightGBM] [Debug] Trained a tree with leaves = 550 and depth = 26\n",
      "[LightGBM] [Debug] Trained a tree with leaves = 550 and depth = 23\n",
      "[LightGBM] [Debug] Trained a tree with leaves = 550 and depth = 31\n",
      "[LightGBM] [Debug] Trained a tree with leaves = 550 and depth = 29\n",
      "[LightGBM] [Debug] Trained a tree with leaves = 550 and depth = 32\n",
      "[LightGBM] [Debug] Trained a tree with leaves = 550 and depth = 28\n",
      "[LightGBM] [Debug] Trained a tree with leaves = 550 and depth = 29\n",
      "[LightGBM] [Debug] Trained a tree with leaves = 550 and depth = 24\n",
      "[LightGBM] [Debug] Trained a tree with leaves = 550 and depth = 32\n",
      "[LightGBM] [Debug] Trained a tree with leaves = 550 and depth = 28\n",
      "[LightGBM] [Debug] Trained a tree with leaves = 550 and depth = 27\n",
      "[LightGBM] [Debug] Trained a tree with leaves = 550 and depth = 31\n",
      "[LightGBM] [Debug] Trained a tree with leaves = 550 and depth = 32\n",
      "[LightGBM] [Debug] Trained a tree with leaves = 550 and depth = 26\n",
      "[LightGBM] [Debug] Trained a tree with leaves = 550 and depth = 36\n",
      "[LightGBM] [Debug] Trained a tree with leaves = 550 and depth = 32\n",
      "[LightGBM] [Debug] Trained a tree with leaves = 550 and depth = 33\n",
      "[LightGBM] [Debug] Trained a tree with leaves = 550 and depth = 32\n",
      "[LightGBM] [Debug] Trained a tree with leaves = 550 and depth = 27\n",
      "[LightGBM] [Debug] Trained a tree with leaves = 550 and depth = 29\n",
      "[LightGBM] [Debug] Trained a tree with leaves = 550 and depth = 36\n",
      "[LightGBM] [Debug] Trained a tree with leaves = 550 and depth = 34\n",
      "[LightGBM] [Debug] Trained a tree with leaves = 550 and depth = 31\n",
      "[LightGBM] [Debug] Trained a tree with leaves = 550 and depth = 38\n",
      "[LightGBM] [Debug] Trained a tree with leaves = 550 and depth = 31\n",
      "[LightGBM] [Debug] Trained a tree with leaves = 550 and depth = 23\n",
      "[LightGBM] [Debug] Trained a tree with leaves = 550 and depth = 29\n",
      "[LightGBM] [Debug] Trained a tree with leaves = 550 and depth = 28\n",
      "[LightGBM] [Debug] Trained a tree with leaves = 550 and depth = 27\n",
      "[LightGBM] [Debug] Trained a tree with leaves = 550 and depth = 33\n",
      "[LightGBM] [Debug] Trained a tree with leaves = 550 and depth = 29\n",
      "[LightGBM] [Debug] Trained a tree with leaves = 550 and depth = 27\n",
      "[LightGBM] [Debug] Trained a tree with leaves = 550 and depth = 27\n",
      "[LightGBM] [Debug] Trained a tree with leaves = 550 and depth = 40\n",
      "[LightGBM] [Debug] Trained a tree with leaves = 550 and depth = 27\n",
      "[LightGBM] [Debug] Trained a tree with leaves = 550 and depth = 28\n",
      "[LightGBM] [Debug] Trained a tree with leaves = 550 and depth = 30\n",
      "[LightGBM] [Debug] Trained a tree with leaves = 550 and depth = 31\n",
      "[LightGBM] [Debug] Trained a tree with leaves = 550 and depth = 32\n",
      "[LightGBM] [Debug] Trained a tree with leaves = 550 and depth = 31\n",
      "[LightGBM] [Debug] Trained a tree with leaves = 550 and depth = 28\n",
      "[LightGBM] [Debug] Trained a tree with leaves = 550 and depth = 27\n",
      "[LightGBM] [Debug] Trained a tree with leaves = 550 and depth = 29\n",
      "[LightGBM] [Debug] Trained a tree with leaves = 550 and depth = 24\n",
      "[LightGBM] [Debug] Trained a tree with leaves = 550 and depth = 27\n",
      "[LightGBM] [Debug] Trained a tree with leaves = 550 and depth = 24\n",
      "[LightGBM] [Debug] Trained a tree with leaves = 550 and depth = 24\n",
      "[LightGBM] [Debug] Trained a tree with leaves = 550 and depth = 34\n",
      "[LightGBM] [Debug] Trained a tree with leaves = 550 and depth = 27\n",
      "[LightGBM] [Debug] Trained a tree with leaves = 550 and depth = 29\n",
      "[LightGBM] [Debug] Trained a tree with leaves = 550 and depth = 37\n",
      "[LightGBM] [Debug] Trained a tree with leaves = 550 and depth = 34\n"
     ]
    },
    {
     "name": "stdout",
     "output_type": "stream",
     "text": [
      "[LightGBM] [Debug] Trained a tree with leaves = 550 and depth = 30\n",
      "[CV 2/3] END force_col_wise=true, learning_rate=0.1, num_leaves=550;, score=-2623391.869 total time=   1.8s\n",
      "[LightGBM] [Debug] Dataset::GetMultiBinFromSparseFeatures: sparse rate 0.737074\n",
      "[LightGBM] [Info] Total Bins 594\n",
      "[LightGBM] [Info] Number of data points in the train set: 156780, number of used features: 10\n",
      "[LightGBM] [Info] Start training from score 4577.614511\n",
      "[LightGBM] [Debug] Trained a tree with leaves = 550 and depth = 14\n",
      "[LightGBM] [Debug] Trained a tree with leaves = 550 and depth = 15\n",
      "[LightGBM] [Debug] Trained a tree with leaves = 550 and depth = 14\n",
      "[LightGBM] [Debug] Trained a tree with leaves = 550 and depth = 16\n",
      "[LightGBM] [Debug] Trained a tree with leaves = 550 and depth = 14\n",
      "[LightGBM] [Debug] Trained a tree with leaves = 550 and depth = 13\n",
      "[LightGBM] [Debug] Trained a tree with leaves = 550 and depth = 15\n",
      "[LightGBM] [Debug] Trained a tree with leaves = 550 and depth = 17\n",
      "[LightGBM] [Debug] Trained a tree with leaves = 550 and depth = 16\n",
      "[LightGBM] [Debug] Trained a tree with leaves = 550 and depth = 16\n",
      "[LightGBM] [Debug] Trained a tree with leaves = 550 and depth = 15\n",
      "[LightGBM] [Debug] Trained a tree with leaves = 550 and depth = 15\n",
      "[LightGBM] [Debug] Trained a tree with leaves = 550 and depth = 19\n",
      "[LightGBM] [Debug] Trained a tree with leaves = 550 and depth = 15\n",
      "[LightGBM] [Debug] Trained a tree with leaves = 550 and depth = 18\n",
      "[LightGBM] [Debug] Trained a tree with leaves = 550 and depth = 16\n",
      "[LightGBM] [Debug] Trained a tree with leaves = 550 and depth = 17\n",
      "[LightGBM] [Debug] Trained a tree with leaves = 550 and depth = 20\n",
      "[LightGBM] [Debug] Trained a tree with leaves = 550 and depth = 18\n",
      "[LightGBM] [Debug] Trained a tree with leaves = 550 and depth = 17\n",
      "[LightGBM] [Debug] Trained a tree with leaves = 550 and depth = 20\n",
      "[LightGBM] [Debug] Trained a tree with leaves = 550 and depth = 18\n",
      "[LightGBM] [Debug] Trained a tree with leaves = 550 and depth = 20\n",
      "[LightGBM] [Debug] Trained a tree with leaves = 550 and depth = 18\n",
      "[LightGBM] [Debug] Trained a tree with leaves = 550 and depth = 18\n",
      "[LightGBM] [Debug] Trained a tree with leaves = 550 and depth = 17\n",
      "[LightGBM] [Debug] Trained a tree with leaves = 550 and depth = 20\n",
      "[LightGBM] [Debug] Trained a tree with leaves = 550 and depth = 21\n",
      "[LightGBM] [Debug] Trained a tree with leaves = 550 and depth = 19\n",
      "[LightGBM] [Debug] Trained a tree with leaves = 550 and depth = 20\n",
      "[LightGBM] [Debug] Trained a tree with leaves = 550 and depth = 19\n",
      "[LightGBM] [Debug] Trained a tree with leaves = 550 and depth = 18\n",
      "[LightGBM] [Debug] Trained a tree with leaves = 550 and depth = 18\n",
      "[LightGBM] [Debug] Trained a tree with leaves = 550 and depth = 21\n",
      "[LightGBM] [Debug] Trained a tree with leaves = 550 and depth = 20\n",
      "[LightGBM] [Debug] Trained a tree with leaves = 550 and depth = 28\n",
      "[LightGBM] [Debug] Trained a tree with leaves = 550 and depth = 19\n",
      "[LightGBM] [Debug] Trained a tree with leaves = 550 and depth = 23\n",
      "[LightGBM] [Debug] Trained a tree with leaves = 550 and depth = 19\n",
      "[LightGBM] [Debug] Trained a tree with leaves = 550 and depth = 24\n",
      "[LightGBM] [Debug] Trained a tree with leaves = 550 and depth = 23\n",
      "[LightGBM] [Debug] Trained a tree with leaves = 550 and depth = 24\n",
      "[LightGBM] [Debug] Trained a tree with leaves = 550 and depth = 22\n",
      "[LightGBM] [Debug] Trained a tree with leaves = 550 and depth = 19\n",
      "[LightGBM] [Debug] Trained a tree with leaves = 550 and depth = 23\n",
      "[LightGBM] [Debug] Trained a tree with leaves = 550 and depth = 25\n",
      "[LightGBM] [Debug] Trained a tree with leaves = 550 and depth = 22\n",
      "[LightGBM] [Debug] Trained a tree with leaves = 550 and depth = 26\n",
      "[LightGBM] [Debug] Trained a tree with leaves = 550 and depth = 25\n",
      "[LightGBM] [Debug] Trained a tree with leaves = 550 and depth = 26\n",
      "[LightGBM] [Debug] Trained a tree with leaves = 550 and depth = 27\n",
      "[LightGBM] [Debug] Trained a tree with leaves = 550 and depth = 30\n",
      "[LightGBM] [Debug] Trained a tree with leaves = 550 and depth = 27\n",
      "[LightGBM] [Debug] Trained a tree with leaves = 550 and depth = 31\n",
      "[LightGBM] [Debug] Trained a tree with leaves = 550 and depth = 27\n",
      "[LightGBM] [Debug] Trained a tree with leaves = 550 and depth = 31\n",
      "[LightGBM] [Debug] Trained a tree with leaves = 550 and depth = 32\n",
      "[LightGBM] [Debug] Trained a tree with leaves = 550 and depth = 34\n",
      "[LightGBM] [Debug] Trained a tree with leaves = 550 and depth = 32\n",
      "[LightGBM] [Debug] Trained a tree with leaves = 550 and depth = 47\n",
      "[LightGBM] [Debug] Trained a tree with leaves = 550 and depth = 33\n",
      "[LightGBM] [Debug] Trained a tree with leaves = 550 and depth = 29\n",
      "[LightGBM] [Debug] Trained a tree with leaves = 550 and depth = 36\n",
      "[LightGBM] [Debug] Trained a tree with leaves = 550 and depth = 31\n",
      "[LightGBM] [Debug] Trained a tree with leaves = 550 and depth = 29\n",
      "[LightGBM] [Debug] Trained a tree with leaves = 550 and depth = 28\n",
      "[LightGBM] [Debug] Trained a tree with leaves = 550 and depth = 27\n",
      "[LightGBM] [Debug] Trained a tree with leaves = 550 and depth = 25\n",
      "[LightGBM] [Debug] Trained a tree with leaves = 550 and depth = 28\n",
      "[LightGBM] [Debug] Trained a tree with leaves = 550 and depth = 32\n",
      "[LightGBM] [Debug] Trained a tree with leaves = 550 and depth = 33\n",
      "[LightGBM] [Debug] Trained a tree with leaves = 550 and depth = 32\n",
      "[LightGBM] [Debug] Trained a tree with leaves = 550 and depth = 25\n",
      "[LightGBM] [Debug] Trained a tree with leaves = 550 and depth = 33\n",
      "[LightGBM] [Debug] Trained a tree with leaves = 550 and depth = 26\n",
      "[LightGBM] [Debug] Trained a tree with leaves = 550 and depth = 29\n",
      "[LightGBM] [Debug] Trained a tree with leaves = 550 and depth = 30\n",
      "[LightGBM] [Debug] Trained a tree with leaves = 550 and depth = 33\n",
      "[LightGBM] [Debug] Trained a tree with leaves = 550 and depth = 39\n",
      "[LightGBM] [Debug] Trained a tree with leaves = 550 and depth = 40\n",
      "[LightGBM] [Debug] Trained a tree with leaves = 550 and depth = 28\n",
      "[LightGBM] [Debug] Trained a tree with leaves = 550 and depth = 33\n",
      "[LightGBM] [Debug] Trained a tree with leaves = 550 and depth = 28\n",
      "[LightGBM] [Debug] Trained a tree with leaves = 550 and depth = 27\n",
      "[LightGBM] [Debug] Trained a tree with leaves = 550 and depth = 27\n",
      "[LightGBM] [Debug] Trained a tree with leaves = 550 and depth = 33\n",
      "[LightGBM] [Debug] Trained a tree with leaves = 550 and depth = 30\n",
      "[LightGBM] [Debug] Trained a tree with leaves = 550 and depth = 35\n",
      "[LightGBM] [Debug] Trained a tree with leaves = 550 and depth = 34\n",
      "[LightGBM] [Debug] Trained a tree with leaves = 550 and depth = 27\n",
      "[LightGBM] [Debug] Trained a tree with leaves = 550 and depth = 28\n",
      "[LightGBM] [Debug] Trained a tree with leaves = 550 and depth = 25\n",
      "[LightGBM] [Debug] Trained a tree with leaves = 550 and depth = 30\n",
      "[LightGBM] [Debug] Trained a tree with leaves = 550 and depth = 23\n",
      "[LightGBM] [Debug] Trained a tree with leaves = 550 and depth = 29\n",
      "[LightGBM] [Debug] Trained a tree with leaves = 550 and depth = 26\n",
      "[LightGBM] [Debug] Trained a tree with leaves = 550 and depth = 34\n",
      "[LightGBM] [Debug] Trained a tree with leaves = 550 and depth = 33\n",
      "[LightGBM] [Debug] Trained a tree with leaves = 550 and depth = 28\n",
      "[LightGBM] [Debug] Trained a tree with leaves = 550 and depth = 30\n",
      "[CV 3/3] END force_col_wise=true, learning_rate=0.1, num_leaves=550;, score=-2540721.153 total time=   1.7s\n",
      "[LightGBM] [Debug] Dataset::GetMultiBinFromSparseFeatures: sparse rate 0.736408\n",
      "[LightGBM] [Info] Total Bins 590\n",
      "[LightGBM] [Info] Number of data points in the train set: 156780, number of used features: 10\n",
      "[LightGBM] [Info] Start training from score 4578.288391\n",
      "[LightGBM] [Debug] Trained a tree with leaves = 575 and depth = 14\n",
      "[LightGBM] [Debug] Trained a tree with leaves = 575 and depth = 15\n",
      "[LightGBM] [Debug] Trained a tree with leaves = 575 and depth = 15\n",
      "[LightGBM] [Debug] Trained a tree with leaves = 575 and depth = 15\n",
      "[LightGBM] [Debug] Trained a tree with leaves = 575 and depth = 14\n",
      "[LightGBM] [Debug] Trained a tree with leaves = 575 and depth = 15\n",
      "[LightGBM] [Debug] Trained a tree with leaves = 575 and depth = 15\n",
      "[LightGBM] [Debug] Trained a tree with leaves = 575 and depth = 14\n",
      "[LightGBM] [Debug] Trained a tree with leaves = 575 and depth = 15\n",
      "[LightGBM] [Debug] Trained a tree with leaves = 575 and depth = 15\n",
      "[LightGBM] [Debug] Trained a tree with leaves = 575 and depth = 17\n",
      "[LightGBM] [Debug] Trained a tree with leaves = 575 and depth = 16\n",
      "[LightGBM] [Debug] Trained a tree with leaves = 575 and depth = 18\n",
      "[LightGBM] [Debug] Trained a tree with leaves = 575 and depth = 16\n",
      "[LightGBM] [Debug] Trained a tree with leaves = 575 and depth = 17\n",
      "[LightGBM] [Debug] Trained a tree with leaves = 575 and depth = 17\n",
      "[LightGBM] [Debug] Trained a tree with leaves = 575 and depth = 17\n"
     ]
    },
    {
     "name": "stdout",
     "output_type": "stream",
     "text": [
      "[LightGBM] [Debug] Trained a tree with leaves = 575 and depth = 15\n",
      "[LightGBM] [Debug] Trained a tree with leaves = 575 and depth = 17\n",
      "[LightGBM] [Debug] Trained a tree with leaves = 575 and depth = 19\n",
      "[LightGBM] [Debug] Trained a tree with leaves = 575 and depth = 18\n",
      "[LightGBM] [Debug] Trained a tree with leaves = 575 and depth = 21\n",
      "[LightGBM] [Debug] Trained a tree with leaves = 575 and depth = 18\n",
      "[LightGBM] [Debug] Trained a tree with leaves = 575 and depth = 18\n",
      "[LightGBM] [Debug] Trained a tree with leaves = 575 and depth = 17\n",
      "[LightGBM] [Debug] Trained a tree with leaves = 575 and depth = 18\n",
      "[LightGBM] [Debug] Trained a tree with leaves = 575 and depth = 19\n",
      "[LightGBM] [Debug] Trained a tree with leaves = 575 and depth = 19\n",
      "[LightGBM] [Debug] Trained a tree with leaves = 575 and depth = 17\n",
      "[LightGBM] [Debug] Trained a tree with leaves = 575 and depth = 18\n",
      "[LightGBM] [Debug] Trained a tree with leaves = 575 and depth = 20\n",
      "[LightGBM] [Debug] Trained a tree with leaves = 575 and depth = 20\n",
      "[LightGBM] [Debug] Trained a tree with leaves = 575 and depth = 19\n",
      "[LightGBM] [Debug] Trained a tree with leaves = 575 and depth = 22\n",
      "[LightGBM] [Debug] Trained a tree with leaves = 575 and depth = 19\n",
      "[LightGBM] [Debug] Trained a tree with leaves = 575 and depth = 22\n",
      "[LightGBM] [Debug] Trained a tree with leaves = 575 and depth = 24\n",
      "[LightGBM] [Debug] Trained a tree with leaves = 575 and depth = 22\n",
      "[LightGBM] [Debug] Trained a tree with leaves = 575 and depth = 23\n",
      "[LightGBM] [Debug] Trained a tree with leaves = 575 and depth = 23\n",
      "[LightGBM] [Debug] Trained a tree with leaves = 575 and depth = 22\n",
      "[LightGBM] [Debug] Trained a tree with leaves = 575 and depth = 22\n",
      "[LightGBM] [Debug] Trained a tree with leaves = 575 and depth = 22\n",
      "[LightGBM] [Debug] Trained a tree with leaves = 575 and depth = 25\n",
      "[LightGBM] [Debug] Trained a tree with leaves = 575 and depth = 25\n",
      "[LightGBM] [Debug] Trained a tree with leaves = 575 and depth = 27\n",
      "[LightGBM] [Debug] Trained a tree with leaves = 575 and depth = 21\n",
      "[LightGBM] [Debug] Trained a tree with leaves = 575 and depth = 22\n",
      "[LightGBM] [Debug] Trained a tree with leaves = 575 and depth = 29\n",
      "[LightGBM] [Debug] Trained a tree with leaves = 575 and depth = 29\n",
      "[LightGBM] [Debug] Trained a tree with leaves = 575 and depth = 25\n",
      "[LightGBM] [Debug] Trained a tree with leaves = 575 and depth = 29\n",
      "[LightGBM] [Debug] Trained a tree with leaves = 575 and depth = 22\n",
      "[LightGBM] [Debug] Trained a tree with leaves = 575 and depth = 29\n",
      "[LightGBM] [Debug] Trained a tree with leaves = 575 and depth = 30\n",
      "[LightGBM] [Debug] Trained a tree with leaves = 575 and depth = 32\n",
      "[LightGBM] [Debug] Trained a tree with leaves = 575 and depth = 26\n",
      "[LightGBM] [Debug] Trained a tree with leaves = 575 and depth = 32\n",
      "[LightGBM] [Debug] Trained a tree with leaves = 575 and depth = 23\n",
      "[LightGBM] [Debug] Trained a tree with leaves = 575 and depth = 28\n",
      "[LightGBM] [Debug] Trained a tree with leaves = 575 and depth = 32\n",
      "[LightGBM] [Debug] Trained a tree with leaves = 575 and depth = 26\n",
      "[LightGBM] [Debug] Trained a tree with leaves = 575 and depth = 30\n",
      "[LightGBM] [Debug] Trained a tree with leaves = 575 and depth = 32\n",
      "[LightGBM] [Debug] Trained a tree with leaves = 575 and depth = 27\n",
      "[LightGBM] [Debug] Trained a tree with leaves = 575 and depth = 35\n",
      "[LightGBM] [Debug] Trained a tree with leaves = 575 and depth = 37\n",
      "[LightGBM] [Debug] Trained a tree with leaves = 575 and depth = 27\n",
      "[LightGBM] [Debug] Trained a tree with leaves = 575 and depth = 26\n",
      "[LightGBM] [Debug] Trained a tree with leaves = 575 and depth = 28\n",
      "[LightGBM] [Debug] Trained a tree with leaves = 575 and depth = 40\n",
      "[LightGBM] [Debug] Trained a tree with leaves = 575 and depth = 27\n",
      "[LightGBM] [Debug] Trained a tree with leaves = 575 and depth = 28\n",
      "[LightGBM] [Debug] Trained a tree with leaves = 575 and depth = 30\n",
      "[LightGBM] [Debug] Trained a tree with leaves = 575 and depth = 33\n",
      "[LightGBM] [Debug] Trained a tree with leaves = 575 and depth = 31\n",
      "[LightGBM] [Debug] Trained a tree with leaves = 575 and depth = 30\n",
      "[LightGBM] [Debug] Trained a tree with leaves = 575 and depth = 31\n",
      "[LightGBM] [Debug] Trained a tree with leaves = 575 and depth = 28\n",
      "[LightGBM] [Debug] Trained a tree with leaves = 575 and depth = 33\n",
      "[LightGBM] [Debug] Trained a tree with leaves = 575 and depth = 32\n",
      "[LightGBM] [Debug] Trained a tree with leaves = 575 and depth = 25\n",
      "[LightGBM] [Debug] Trained a tree with leaves = 575 and depth = 30\n",
      "[LightGBM] [Debug] Trained a tree with leaves = 575 and depth = 27\n",
      "[LightGBM] [Debug] Trained a tree with leaves = 575 and depth = 33\n",
      "[LightGBM] [Debug] Trained a tree with leaves = 575 and depth = 26\n",
      "[LightGBM] [Debug] Trained a tree with leaves = 575 and depth = 34\n",
      "[LightGBM] [Debug] Trained a tree with leaves = 575 and depth = 41\n",
      "[LightGBM] [Debug] Trained a tree with leaves = 575 and depth = 32\n",
      "[LightGBM] [Debug] Trained a tree with leaves = 575 and depth = 32\n",
      "[LightGBM] [Debug] Trained a tree with leaves = 575 and depth = 31\n",
      "[LightGBM] [Debug] Trained a tree with leaves = 575 and depth = 29\n",
      "[LightGBM] [Debug] Trained a tree with leaves = 575 and depth = 27\n",
      "[LightGBM] [Debug] Trained a tree with leaves = 575 and depth = 28\n",
      "[LightGBM] [Debug] Trained a tree with leaves = 575 and depth = 28\n",
      "[LightGBM] [Debug] Trained a tree with leaves = 575 and depth = 34\n",
      "[LightGBM] [Debug] Trained a tree with leaves = 575 and depth = 25\n",
      "[LightGBM] [Debug] Trained a tree with leaves = 575 and depth = 28\n",
      "[LightGBM] [Debug] Trained a tree with leaves = 575 and depth = 40\n",
      "[LightGBM] [Debug] Trained a tree with leaves = 575 and depth = 36\n",
      "[CV 1/3] END force_col_wise=true, learning_rate=0.1, num_leaves=575;, score=-2580041.674 total time=   1.8s\n",
      "[LightGBM] [Debug] Dataset::GetMultiBinFromSparseFeatures: sparse rate 0.736609\n",
      "[LightGBM] [Info] Total Bins 593\n",
      "[LightGBM] [Info] Number of data points in the train set: 156780, number of used features: 10\n",
      "[LightGBM] [Info] Start training from score 4585.264925\n",
      "[LightGBM] [Debug] Trained a tree with leaves = 575 and depth = 15\n",
      "[LightGBM] [Debug] Trained a tree with leaves = 575 and depth = 14\n",
      "[LightGBM] [Debug] Trained a tree with leaves = 575 and depth = 16\n",
      "[LightGBM] [Debug] Trained a tree with leaves = 575 and depth = 15\n",
      "[LightGBM] [Debug] Trained a tree with leaves = 575 and depth = 15\n",
      "[LightGBM] [Debug] Trained a tree with leaves = 575 and depth = 14\n",
      "[LightGBM] [Debug] Trained a tree with leaves = 575 and depth = 14\n",
      "[LightGBM] [Debug] Trained a tree with leaves = 575 and depth = 15\n",
      "[LightGBM] [Debug] Trained a tree with leaves = 575 and depth = 14\n",
      "[LightGBM] [Debug] Trained a tree with leaves = 575 and depth = 17\n",
      "[LightGBM] [Debug] Trained a tree with leaves = 575 and depth = 16\n",
      "[LightGBM] [Debug] Trained a tree with leaves = 575 and depth = 15\n",
      "[LightGBM] [Debug] Trained a tree with leaves = 575 and depth = 18\n",
      "[LightGBM] [Debug] Trained a tree with leaves = 575 and depth = 17\n",
      "[LightGBM] [Debug] Trained a tree with leaves = 575 and depth = 16\n",
      "[LightGBM] [Debug] Trained a tree with leaves = 575 and depth = 16\n",
      "[LightGBM] [Debug] Trained a tree with leaves = 575 and depth = 16\n",
      "[LightGBM] [Debug] Trained a tree with leaves = 575 and depth = 16\n",
      "[LightGBM] [Debug] Trained a tree with leaves = 575 and depth = 16\n",
      "[LightGBM] [Debug] Trained a tree with leaves = 575 and depth = 16\n",
      "[LightGBM] [Debug] Trained a tree with leaves = 575 and depth = 15\n",
      "[LightGBM] [Debug] Trained a tree with leaves = 575 and depth = 18\n",
      "[LightGBM] [Debug] Trained a tree with leaves = 575 and depth = 17\n",
      "[LightGBM] [Debug] Trained a tree with leaves = 575 and depth = 17\n",
      "[LightGBM] [Debug] Trained a tree with leaves = 575 and depth = 19\n",
      "[LightGBM] [Debug] Trained a tree with leaves = 575 and depth = 18\n",
      "[LightGBM] [Debug] Trained a tree with leaves = 575 and depth = 17\n",
      "[LightGBM] [Debug] Trained a tree with leaves = 575 and depth = 19\n",
      "[LightGBM] [Debug] Trained a tree with leaves = 575 and depth = 17\n",
      "[LightGBM] [Debug] Trained a tree with leaves = 575 and depth = 19\n",
      "[LightGBM] [Debug] Trained a tree with leaves = 575 and depth = 19\n",
      "[LightGBM] [Debug] Trained a tree with leaves = 575 and depth = 21\n",
      "[LightGBM] [Debug] Trained a tree with leaves = 575 and depth = 22\n",
      "[LightGBM] [Debug] Trained a tree with leaves = 575 and depth = 20\n",
      "[LightGBM] [Debug] Trained a tree with leaves = 575 and depth = 18\n",
      "[LightGBM] [Debug] Trained a tree with leaves = 575 and depth = 21\n",
      "[LightGBM] [Debug] Trained a tree with leaves = 575 and depth = 21\n",
      "[LightGBM] [Debug] Trained a tree with leaves = 575 and depth = 26\n",
      "[LightGBM] [Debug] Trained a tree with leaves = 575 and depth = 22\n",
      "[LightGBM] [Debug] Trained a tree with leaves = 575 and depth = 22\n",
      "[LightGBM] [Debug] Trained a tree with leaves = 575 and depth = 21\n",
      "[LightGBM] [Debug] Trained a tree with leaves = 575 and depth = 27\n",
      "[LightGBM] [Debug] Trained a tree with leaves = 575 and depth = 22\n",
      "[LightGBM] [Debug] Trained a tree with leaves = 575 and depth = 22\n"
     ]
    },
    {
     "name": "stdout",
     "output_type": "stream",
     "text": [
      "[LightGBM] [Debug] Trained a tree with leaves = 575 and depth = 26\n",
      "[LightGBM] [Debug] Trained a tree with leaves = 575 and depth = 23\n",
      "[LightGBM] [Debug] Trained a tree with leaves = 575 and depth = 24\n",
      "[LightGBM] [Debug] Trained a tree with leaves = 575 and depth = 27\n",
      "[LightGBM] [Debug] Trained a tree with leaves = 575 and depth = 31\n",
      "[LightGBM] [Debug] Trained a tree with leaves = 575 and depth = 25\n",
      "[LightGBM] [Debug] Trained a tree with leaves = 575 and depth = 27\n",
      "[LightGBM] [Debug] Trained a tree with leaves = 575 and depth = 24\n",
      "[LightGBM] [Debug] Trained a tree with leaves = 575 and depth = 34\n",
      "[LightGBM] [Debug] Trained a tree with leaves = 575 and depth = 26\n",
      "[LightGBM] [Debug] Trained a tree with leaves = 575 and depth = 27\n",
      "[LightGBM] [Debug] Trained a tree with leaves = 575 and depth = 30\n",
      "[LightGBM] [Debug] Trained a tree with leaves = 575 and depth = 28\n",
      "[LightGBM] [Debug] Trained a tree with leaves = 575 and depth = 23\n",
      "[LightGBM] [Debug] Trained a tree with leaves = 575 and depth = 36\n",
      "[LightGBM] [Debug] Trained a tree with leaves = 575 and depth = 29\n",
      "[LightGBM] [Debug] Trained a tree with leaves = 575 and depth = 34\n",
      "[LightGBM] [Debug] Trained a tree with leaves = 575 and depth = 29\n",
      "[LightGBM] [Debug] Trained a tree with leaves = 575 and depth = 32\n",
      "[LightGBM] [Debug] Trained a tree with leaves = 575 and depth = 29\n",
      "[LightGBM] [Debug] Trained a tree with leaves = 575 and depth = 32\n",
      "[LightGBM] [Debug] Trained a tree with leaves = 575 and depth = 32\n",
      "[LightGBM] [Debug] Trained a tree with leaves = 575 and depth = 32\n",
      "[LightGBM] [Debug] Trained a tree with leaves = 575 and depth = 33\n",
      "[LightGBM] [Debug] Trained a tree with leaves = 575 and depth = 37\n",
      "[LightGBM] [Debug] Trained a tree with leaves = 575 and depth = 26\n",
      "[LightGBM] [Debug] Trained a tree with leaves = 575 and depth = 26\n",
      "[LightGBM] [Debug] Trained a tree with leaves = 575 and depth = 27\n",
      "[LightGBM] [Debug] Trained a tree with leaves = 575 and depth = 33\n",
      "[LightGBM] [Debug] Trained a tree with leaves = 575 and depth = 30\n",
      "[LightGBM] [Debug] Trained a tree with leaves = 575 and depth = 24\n",
      "[LightGBM] [Debug] Trained a tree with leaves = 575 and depth = 24\n",
      "[LightGBM] [Debug] Trained a tree with leaves = 575 and depth = 31\n",
      "[LightGBM] [Debug] Trained a tree with leaves = 575 and depth = 35\n",
      "[LightGBM] [Debug] Trained a tree with leaves = 575 and depth = 30\n",
      "[LightGBM] [Debug] Trained a tree with leaves = 575 and depth = 31\n",
      "[LightGBM] [Debug] Trained a tree with leaves = 575 and depth = 40\n",
      "[LightGBM] [Debug] Trained a tree with leaves = 575 and depth = 28\n",
      "[LightGBM] [Debug] Trained a tree with leaves = 575 and depth = 32\n",
      "[LightGBM] [Debug] Trained a tree with leaves = 575 and depth = 24\n",
      "[LightGBM] [Debug] Trained a tree with leaves = 575 and depth = 28\n",
      "[LightGBM] [Debug] Trained a tree with leaves = 575 and depth = 39\n",
      "[LightGBM] [Debug] Trained a tree with leaves = 575 and depth = 37\n",
      "[LightGBM] [Debug] Trained a tree with leaves = 575 and depth = 31\n",
      "[LightGBM] [Debug] Trained a tree with leaves = 575 and depth = 30\n",
      "[LightGBM] [Debug] Trained a tree with leaves = 575 and depth = 37\n",
      "[LightGBM] [Debug] Trained a tree with leaves = 575 and depth = 34\n",
      "[LightGBM] [Debug] Trained a tree with leaves = 575 and depth = 40\n",
      "[LightGBM] [Debug] Trained a tree with leaves = 575 and depth = 34\n",
      "[LightGBM] [Debug] Trained a tree with leaves = 575 and depth = 29\n",
      "[LightGBM] [Debug] Trained a tree with leaves = 575 and depth = 29\n",
      "[LightGBM] [Debug] Trained a tree with leaves = 575 and depth = 24\n",
      "[LightGBM] [Debug] Trained a tree with leaves = 575 and depth = 39\n",
      "[LightGBM] [Debug] Trained a tree with leaves = 575 and depth = 37\n",
      "[LightGBM] [Debug] Trained a tree with leaves = 575 and depth = 32\n",
      "[LightGBM] [Debug] Trained a tree with leaves = 575 and depth = 30\n",
      "[CV 2/3] END force_col_wise=true, learning_rate=0.1, num_leaves=575;, score=-2631802.659 total time=   1.8s\n",
      "[LightGBM] [Debug] Dataset::GetMultiBinFromSparseFeatures: sparse rate 0.737074\n",
      "[LightGBM] [Info] Total Bins 594\n",
      "[LightGBM] [Info] Number of data points in the train set: 156780, number of used features: 10\n",
      "[LightGBM] [Info] Start training from score 4577.614511\n",
      "[LightGBM] [Debug] Trained a tree with leaves = 575 and depth = 14\n",
      "[LightGBM] [Debug] Trained a tree with leaves = 575 and depth = 15\n",
      "[LightGBM] [Debug] Trained a tree with leaves = 575 and depth = 14\n",
      "[LightGBM] [Debug] Trained a tree with leaves = 575 and depth = 15\n",
      "[LightGBM] [Debug] Trained a tree with leaves = 575 and depth = 15\n",
      "[LightGBM] [Debug] Trained a tree with leaves = 575 and depth = 14\n",
      "[LightGBM] [Debug] Trained a tree with leaves = 575 and depth = 16\n",
      "[LightGBM] [Debug] Trained a tree with leaves = 575 and depth = 16\n",
      "[LightGBM] [Debug] Trained a tree with leaves = 575 and depth = 14\n",
      "[LightGBM] [Debug] Trained a tree with leaves = 575 and depth = 16\n",
      "[LightGBM] [Debug] Trained a tree with leaves = 575 and depth = 15\n",
      "[LightGBM] [Debug] Trained a tree with leaves = 575 and depth = 14\n",
      "[LightGBM] [Debug] Trained a tree with leaves = 575 and depth = 16\n",
      "[LightGBM] [Debug] Trained a tree with leaves = 575 and depth = 16\n",
      "[LightGBM] [Debug] Trained a tree with leaves = 575 and depth = 17\n",
      "[LightGBM] [Debug] Trained a tree with leaves = 575 and depth = 16\n",
      "[LightGBM] [Debug] Trained a tree with leaves = 575 and depth = 17\n",
      "[LightGBM] [Debug] Trained a tree with leaves = 575 and depth = 17\n",
      "[LightGBM] [Debug] Trained a tree with leaves = 575 and depth = 18\n",
      "[LightGBM] [Debug] Trained a tree with leaves = 575 and depth = 19\n",
      "[LightGBM] [Debug] Trained a tree with leaves = 575 and depth = 17\n",
      "[LightGBM] [Debug] Trained a tree with leaves = 575 and depth = 19\n",
      "[LightGBM] [Debug] Trained a tree with leaves = 575 and depth = 19\n",
      "[LightGBM] [Debug] Trained a tree with leaves = 575 and depth = 17\n",
      "[LightGBM] [Debug] Trained a tree with leaves = 575 and depth = 18\n",
      "[LightGBM] [Debug] Trained a tree with leaves = 575 and depth = 18\n",
      "[LightGBM] [Debug] Trained a tree with leaves = 575 and depth = 19\n",
      "[LightGBM] [Debug] Trained a tree with leaves = 575 and depth = 20\n",
      "[LightGBM] [Debug] Trained a tree with leaves = 575 and depth = 19\n",
      "[LightGBM] [Debug] Trained a tree with leaves = 575 and depth = 23\n",
      "[LightGBM] [Debug] Trained a tree with leaves = 575 and depth = 18\n",
      "[LightGBM] [Debug] Trained a tree with leaves = 575 and depth = 19\n",
      "[LightGBM] [Debug] Trained a tree with leaves = 575 and depth = 23\n",
      "[LightGBM] [Debug] Trained a tree with leaves = 575 and depth = 21\n",
      "[LightGBM] [Debug] Trained a tree with leaves = 575 and depth = 21\n",
      "[LightGBM] [Debug] Trained a tree with leaves = 575 and depth = 25\n",
      "[LightGBM] [Debug] Trained a tree with leaves = 575 and depth = 18\n",
      "[LightGBM] [Debug] Trained a tree with leaves = 575 and depth = 19\n",
      "[LightGBM] [Debug] Trained a tree with leaves = 575 and depth = 19\n",
      "[LightGBM] [Debug] Trained a tree with leaves = 575 and depth = 21\n",
      "[LightGBM] [Debug] Trained a tree with leaves = 575 and depth = 23\n",
      "[LightGBM] [Debug] Trained a tree with leaves = 575 and depth = 22\n",
      "[LightGBM] [Debug] Trained a tree with leaves = 575 and depth = 23\n",
      "[LightGBM] [Debug] Trained a tree with leaves = 575 and depth = 21\n",
      "[LightGBM] [Debug] Trained a tree with leaves = 575 and depth = 21\n",
      "[LightGBM] [Debug] Trained a tree with leaves = 575 and depth = 22\n",
      "[LightGBM] [Debug] Trained a tree with leaves = 575 and depth = 25\n",
      "[LightGBM] [Debug] Trained a tree with leaves = 575 and depth = 27\n",
      "[LightGBM] [Debug] Trained a tree with leaves = 575 and depth = 24\n",
      "[LightGBM] [Debug] Trained a tree with leaves = 575 and depth = 29\n",
      "[LightGBM] [Debug] Trained a tree with leaves = 575 and depth = 24\n",
      "[LightGBM] [Debug] Trained a tree with leaves = 575 and depth = 21\n",
      "[LightGBM] [Debug] Trained a tree with leaves = 575 and depth = 26\n",
      "[LightGBM] [Debug] Trained a tree with leaves = 575 and depth = 27\n",
      "[LightGBM] [Debug] Trained a tree with leaves = 575 and depth = 32\n",
      "[LightGBM] [Debug] Trained a tree with leaves = 575 and depth = 28\n",
      "[LightGBM] [Debug] Trained a tree with leaves = 575 and depth = 28\n",
      "[LightGBM] [Debug] Trained a tree with leaves = 575 and depth = 22\n",
      "[LightGBM] [Debug] Trained a tree with leaves = 575 and depth = 27\n",
      "[LightGBM] [Debug] Trained a tree with leaves = 575 and depth = 29\n",
      "[LightGBM] [Debug] Trained a tree with leaves = 575 and depth = 25\n",
      "[LightGBM] [Debug] Trained a tree with leaves = 575 and depth = 31\n",
      "[LightGBM] [Debug] Trained a tree with leaves = 575 and depth = 30\n",
      "[LightGBM] [Debug] Trained a tree with leaves = 575 and depth = 28\n",
      "[LightGBM] [Debug] Trained a tree with leaves = 575 and depth = 32\n",
      "[LightGBM] [Debug] Trained a tree with leaves = 575 and depth = 28\n",
      "[LightGBM] [Debug] Trained a tree with leaves = 575 and depth = 28\n",
      "[LightGBM] [Debug] Trained a tree with leaves = 575 and depth = 34\n",
      "[LightGBM] [Debug] Trained a tree with leaves = 575 and depth = 29\n",
      "[LightGBM] [Debug] Trained a tree with leaves = 575 and depth = 32\n",
      "[LightGBM] [Debug] Trained a tree with leaves = 575 and depth = 29\n"
     ]
    },
    {
     "name": "stdout",
     "output_type": "stream",
     "text": [
      "[LightGBM] [Debug] Trained a tree with leaves = 575 and depth = 33\n",
      "[LightGBM] [Debug] Trained a tree with leaves = 575 and depth = 34\n",
      "[LightGBM] [Debug] Trained a tree with leaves = 575 and depth = 26\n",
      "[LightGBM] [Debug] Trained a tree with leaves = 575 and depth = 28\n",
      "[LightGBM] [Debug] Trained a tree with leaves = 575 and depth = 25\n",
      "[LightGBM] [Debug] Trained a tree with leaves = 575 and depth = 37\n",
      "[LightGBM] [Debug] Trained a tree with leaves = 575 and depth = 31\n",
      "[LightGBM] [Debug] Trained a tree with leaves = 575 and depth = 33\n",
      "[LightGBM] [Debug] Trained a tree with leaves = 575 and depth = 29\n",
      "[LightGBM] [Debug] Trained a tree with leaves = 575 and depth = 34\n",
      "[LightGBM] [Debug] Trained a tree with leaves = 575 and depth = 31\n",
      "[LightGBM] [Debug] Trained a tree with leaves = 575 and depth = 28\n",
      "[LightGBM] [Debug] Trained a tree with leaves = 575 and depth = 31\n",
      "[LightGBM] [Debug] Trained a tree with leaves = 575 and depth = 31\n",
      "[LightGBM] [Debug] Trained a tree with leaves = 575 and depth = 29\n",
      "[LightGBM] [Debug] Trained a tree with leaves = 575 and depth = 30\n",
      "[LightGBM] [Debug] Trained a tree with leaves = 575 and depth = 32\n",
      "[LightGBM] [Debug] Trained a tree with leaves = 575 and depth = 30\n",
      "[LightGBM] [Debug] Trained a tree with leaves = 575 and depth = 33\n",
      "[LightGBM] [Debug] Trained a tree with leaves = 575 and depth = 36\n",
      "[LightGBM] [Debug] Trained a tree with leaves = 575 and depth = 38\n",
      "[LightGBM] [Debug] Trained a tree with leaves = 575 and depth = 31\n",
      "[LightGBM] [Debug] Trained a tree with leaves = 575 and depth = 27\n",
      "[LightGBM] [Debug] Trained a tree with leaves = 575 and depth = 24\n",
      "[LightGBM] [Debug] Trained a tree with leaves = 575 and depth = 27\n",
      "[LightGBM] [Debug] Trained a tree with leaves = 575 and depth = 28\n",
      "[LightGBM] [Debug] Trained a tree with leaves = 575 and depth = 24\n",
      "[LightGBM] [Debug] Trained a tree with leaves = 575 and depth = 26\n",
      "[LightGBM] [Debug] Trained a tree with leaves = 575 and depth = 38\n",
      "[CV 3/3] END force_col_wise=true, learning_rate=0.1, num_leaves=575;, score=-2547264.267 total time=   1.8s\n",
      "[LightGBM] [Debug] Dataset::GetMultiBinFromSparseFeatures: sparse rate 0.736408\n",
      "[LightGBM] [Info] Total Bins 590\n",
      "[LightGBM] [Info] Number of data points in the train set: 156780, number of used features: 10\n",
      "[LightGBM] [Info] Start training from score 4578.288391\n",
      "[LightGBM] [Debug] Trained a tree with leaves = 600 and depth = 14\n",
      "[LightGBM] [Debug] Trained a tree with leaves = 600 and depth = 15\n",
      "[LightGBM] [Debug] Trained a tree with leaves = 600 and depth = 15\n",
      "[LightGBM] [Debug] Trained a tree with leaves = 600 and depth = 15\n",
      "[LightGBM] [Debug] Trained a tree with leaves = 600 and depth = 14\n",
      "[LightGBM] [Debug] Trained a tree with leaves = 600 and depth = 16\n",
      "[LightGBM] [Debug] Trained a tree with leaves = 600 and depth = 15\n",
      "[LightGBM] [Debug] Trained a tree with leaves = 600 and depth = 15\n",
      "[LightGBM] [Debug] Trained a tree with leaves = 600 and depth = 16\n",
      "[LightGBM] [Debug] Trained a tree with leaves = 600 and depth = 16\n",
      "[LightGBM] [Debug] Trained a tree with leaves = 600 and depth = 16\n",
      "[LightGBM] [Debug] Trained a tree with leaves = 600 and depth = 15\n",
      "[LightGBM] [Debug] Trained a tree with leaves = 600 and depth = 16\n",
      "[LightGBM] [Debug] Trained a tree with leaves = 600 and depth = 16\n",
      "[LightGBM] [Debug] Trained a tree with leaves = 600 and depth = 16\n",
      "[LightGBM] [Debug] Trained a tree with leaves = 600 and depth = 18\n",
      "[LightGBM] [Debug] Trained a tree with leaves = 600 and depth = 16\n",
      "[LightGBM] [Debug] Trained a tree with leaves = 600 and depth = 16\n",
      "[LightGBM] [Debug] Trained a tree with leaves = 600 and depth = 18\n",
      "[LightGBM] [Debug] Trained a tree with leaves = 600 and depth = 18\n",
      "[LightGBM] [Debug] Trained a tree with leaves = 600 and depth = 16\n",
      "[LightGBM] [Debug] Trained a tree with leaves = 600 and depth = 16\n",
      "[LightGBM] [Debug] Trained a tree with leaves = 600 and depth = 17\n",
      "[LightGBM] [Debug] Trained a tree with leaves = 600 and depth = 19\n",
      "[LightGBM] [Debug] Trained a tree with leaves = 600 and depth = 19\n",
      "[LightGBM] [Debug] Trained a tree with leaves = 600 and depth = 18\n",
      "[LightGBM] [Debug] Trained a tree with leaves = 600 and depth = 20\n",
      "[LightGBM] [Debug] Trained a tree with leaves = 600 and depth = 19\n",
      "[LightGBM] [Debug] Trained a tree with leaves = 600 and depth = 22\n",
      "[LightGBM] [Debug] Trained a tree with leaves = 600 and depth = 19\n",
      "[LightGBM] [Debug] Trained a tree with leaves = 600 and depth = 23\n",
      "[LightGBM] [Debug] Trained a tree with leaves = 600 and depth = 19\n",
      "[LightGBM] [Debug] Trained a tree with leaves = 600 and depth = 20\n",
      "[LightGBM] [Debug] Trained a tree with leaves = 600 and depth = 22\n",
      "[LightGBM] [Debug] Trained a tree with leaves = 600 and depth = 27\n",
      "[LightGBM] [Debug] Trained a tree with leaves = 600 and depth = 23\n",
      "[LightGBM] [Debug] Trained a tree with leaves = 600 and depth = 22\n",
      "[LightGBM] [Debug] Trained a tree with leaves = 600 and depth = 23\n",
      "[LightGBM] [Debug] Trained a tree with leaves = 600 and depth = 24\n",
      "[LightGBM] [Debug] Trained a tree with leaves = 600 and depth = 26\n",
      "[LightGBM] [Debug] Trained a tree with leaves = 600 and depth = 23\n",
      "[LightGBM] [Debug] Trained a tree with leaves = 600 and depth = 21\n",
      "[LightGBM] [Debug] Trained a tree with leaves = 600 and depth = 24\n",
      "[LightGBM] [Debug] Trained a tree with leaves = 600 and depth = 28\n",
      "[LightGBM] [Debug] Trained a tree with leaves = 600 and depth = 24\n",
      "[LightGBM] [Debug] Trained a tree with leaves = 600 and depth = 23\n",
      "[LightGBM] [Debug] Trained a tree with leaves = 600 and depth = 26\n",
      "[LightGBM] [Debug] Trained a tree with leaves = 600 and depth = 22\n",
      "[LightGBM] [Debug] Trained a tree with leaves = 600 and depth = 27\n",
      "[LightGBM] [Debug] Trained a tree with leaves = 600 and depth = 25\n",
      "[LightGBM] [Debug] Trained a tree with leaves = 600 and depth = 27\n",
      "[LightGBM] [Debug] Trained a tree with leaves = 600 and depth = 36\n",
      "[LightGBM] [Debug] Trained a tree with leaves = 600 and depth = 31\n",
      "[LightGBM] [Debug] Trained a tree with leaves = 600 and depth = 24\n",
      "[LightGBM] [Debug] Trained a tree with leaves = 600 and depth = 27\n",
      "[LightGBM] [Debug] Trained a tree with leaves = 600 and depth = 28\n",
      "[LightGBM] [Debug] Trained a tree with leaves = 600 and depth = 26\n",
      "[LightGBM] [Debug] Trained a tree with leaves = 600 and depth = 25\n",
      "[LightGBM] [Debug] Trained a tree with leaves = 600 and depth = 32\n",
      "[LightGBM] [Debug] Trained a tree with leaves = 600 and depth = 32\n",
      "[LightGBM] [Debug] Trained a tree with leaves = 600 and depth = 26\n",
      "[LightGBM] [Debug] Trained a tree with leaves = 600 and depth = 29\n",
      "[LightGBM] [Debug] Trained a tree with leaves = 600 and depth = 32\n",
      "[LightGBM] [Debug] Trained a tree with leaves = 600 and depth = 28\n",
      "[LightGBM] [Debug] Trained a tree with leaves = 600 and depth = 32\n",
      "[LightGBM] [Debug] Trained a tree with leaves = 600 and depth = 28\n",
      "[LightGBM] [Debug] Trained a tree with leaves = 600 and depth = 34\n",
      "[LightGBM] [Debug] Trained a tree with leaves = 600 and depth = 30\n",
      "[LightGBM] [Debug] Trained a tree with leaves = 600 and depth = 40\n",
      "[LightGBM] [Debug] Trained a tree with leaves = 600 and depth = 31\n",
      "[LightGBM] [Debug] Trained a tree with leaves = 600 and depth = 35\n",
      "[LightGBM] [Debug] Trained a tree with leaves = 600 and depth = 30\n",
      "[LightGBM] [Debug] Trained a tree with leaves = 600 and depth = 25\n",
      "[LightGBM] [Debug] Trained a tree with leaves = 600 and depth = 34\n",
      "[LightGBM] [Debug] Trained a tree with leaves = 600 and depth = 23\n",
      "[LightGBM] [Debug] Trained a tree with leaves = 600 and depth = 33\n",
      "[LightGBM] [Debug] Trained a tree with leaves = 600 and depth = 32\n",
      "[LightGBM] [Debug] Trained a tree with leaves = 600 and depth = 41\n",
      "[LightGBM] [Debug] Trained a tree with leaves = 600 and depth = 36\n",
      "[LightGBM] [Debug] Trained a tree with leaves = 600 and depth = 26\n",
      "[LightGBM] [Debug] Trained a tree with leaves = 600 and depth = 24\n",
      "[LightGBM] [Debug] Trained a tree with leaves = 600 and depth = 34\n",
      "[LightGBM] [Debug] Trained a tree with leaves = 600 and depth = 36\n",
      "[LightGBM] [Debug] Trained a tree with leaves = 600 and depth = 33\n",
      "[LightGBM] [Debug] Trained a tree with leaves = 600 and depth = 38\n",
      "[LightGBM] [Debug] Trained a tree with leaves = 600 and depth = 26\n",
      "[LightGBM] [Debug] Trained a tree with leaves = 600 and depth = 27\n",
      "[LightGBM] [Debug] Trained a tree with leaves = 600 and depth = 23\n",
      "[LightGBM] [Debug] Trained a tree with leaves = 600 and depth = 26\n",
      "[LightGBM] [Debug] Trained a tree with leaves = 600 and depth = 27\n"
     ]
    },
    {
     "name": "stdout",
     "output_type": "stream",
     "text": [
      "[LightGBM] [Debug] Trained a tree with leaves = 600 and depth = 27\n",
      "[LightGBM] [Debug] Trained a tree with leaves = 600 and depth = 26\n",
      "[LightGBM] [Debug] Trained a tree with leaves = 600 and depth = 33\n",
      "[LightGBM] [Debug] Trained a tree with leaves = 600 and depth = 28\n",
      "[LightGBM] [Debug] Trained a tree with leaves = 600 and depth = 30\n",
      "[LightGBM] [Debug] Trained a tree with leaves = 600 and depth = 34\n",
      "[LightGBM] [Debug] Trained a tree with leaves = 600 and depth = 32\n",
      "[LightGBM] [Debug] Trained a tree with leaves = 600 and depth = 33\n",
      "[LightGBM] [Debug] Trained a tree with leaves = 600 and depth = 32\n",
      "[LightGBM] [Debug] Trained a tree with leaves = 600 and depth = 27\n",
      "[CV 1/3] END force_col_wise=true, learning_rate=0.1, num_leaves=600;, score=-2586674.224 total time=   1.8s\n",
      "[LightGBM] [Debug] Dataset::GetMultiBinFromSparseFeatures: sparse rate 0.736609\n",
      "[LightGBM] [Info] Total Bins 593\n",
      "[LightGBM] [Info] Number of data points in the train set: 156780, number of used features: 10\n",
      "[LightGBM] [Info] Start training from score 4585.264925\n",
      "[LightGBM] [Debug] Trained a tree with leaves = 600 and depth = 15\n",
      "[LightGBM] [Debug] Trained a tree with leaves = 600 and depth = 14\n",
      "[LightGBM] [Debug] Trained a tree with leaves = 600 and depth = 16\n",
      "[LightGBM] [Debug] Trained a tree with leaves = 600 and depth = 15\n",
      "[LightGBM] [Debug] Trained a tree with leaves = 600 and depth = 15\n",
      "[LightGBM] [Debug] Trained a tree with leaves = 600 and depth = 15\n",
      "[LightGBM] [Debug] Trained a tree with leaves = 600 and depth = 15\n",
      "[LightGBM] [Debug] Trained a tree with leaves = 600 and depth = 15\n",
      "[LightGBM] [Debug] Trained a tree with leaves = 600 and depth = 15\n",
      "[LightGBM] [Debug] Trained a tree with leaves = 600 and depth = 16\n",
      "[LightGBM] [Debug] Trained a tree with leaves = 600 and depth = 18\n",
      "[LightGBM] [Debug] Trained a tree with leaves = 600 and depth = 17\n",
      "[LightGBM] [Debug] Trained a tree with leaves = 600 and depth = 18\n",
      "[LightGBM] [Debug] Trained a tree with leaves = 600 and depth = 16\n",
      "[LightGBM] [Debug] Trained a tree with leaves = 600 and depth = 16\n",
      "[LightGBM] [Debug] Trained a tree with leaves = 600 and depth = 17\n",
      "[LightGBM] [Debug] Trained a tree with leaves = 600 and depth = 17\n",
      "[LightGBM] [Debug] Trained a tree with leaves = 600 and depth = 16\n",
      "[LightGBM] [Debug] Trained a tree with leaves = 600 and depth = 17\n",
      "[LightGBM] [Debug] Trained a tree with leaves = 600 and depth = 18\n",
      "[LightGBM] [Debug] Trained a tree with leaves = 600 and depth = 17\n",
      "[LightGBM] [Debug] Trained a tree with leaves = 600 and depth = 18\n",
      "[LightGBM] [Debug] Trained a tree with leaves = 600 and depth = 18\n",
      "[LightGBM] [Debug] Trained a tree with leaves = 600 and depth = 18\n",
      "[LightGBM] [Debug] Trained a tree with leaves = 600 and depth = 19\n",
      "[LightGBM] [Debug] Trained a tree with leaves = 600 and depth = 20\n",
      "[LightGBM] [Debug] Trained a tree with leaves = 600 and depth = 19\n",
      "[LightGBM] [Debug] Trained a tree with leaves = 600 and depth = 19\n",
      "[LightGBM] [Debug] Trained a tree with leaves = 600 and depth = 18\n",
      "[LightGBM] [Debug] Trained a tree with leaves = 600 and depth = 17\n",
      "[LightGBM] [Debug] Trained a tree with leaves = 600 and depth = 19\n",
      "[LightGBM] [Debug] Trained a tree with leaves = 600 and depth = 22\n",
      "[LightGBM] [Debug] Trained a tree with leaves = 600 and depth = 20\n",
      "[LightGBM] [Debug] Trained a tree with leaves = 600 and depth = 21\n",
      "[LightGBM] [Debug] Trained a tree with leaves = 600 and depth = 19\n",
      "[LightGBM] [Debug] Trained a tree with leaves = 600 and depth = 26\n",
      "[LightGBM] [Debug] Trained a tree with leaves = 600 and depth = 23\n",
      "[LightGBM] [Debug] Trained a tree with leaves = 600 and depth = 23\n",
      "[LightGBM] [Debug] Trained a tree with leaves = 600 and depth = 21\n",
      "[LightGBM] [Debug] Trained a tree with leaves = 600 and depth = 22\n",
      "[LightGBM] [Debug] Trained a tree with leaves = 600 and depth = 23\n",
      "[LightGBM] [Debug] Trained a tree with leaves = 600 and depth = 22\n",
      "[LightGBM] [Debug] Trained a tree with leaves = 600 and depth = 23\n",
      "[LightGBM] [Debug] Trained a tree with leaves = 600 and depth = 25\n",
      "[LightGBM] [Debug] Trained a tree with leaves = 600 and depth = 23\n",
      "[LightGBM] [Debug] Trained a tree with leaves = 600 and depth = 26\n",
      "[LightGBM] [Debug] Trained a tree with leaves = 600 and depth = 26\n",
      "[LightGBM] [Debug] Trained a tree with leaves = 600 and depth = 25\n",
      "[LightGBM] [Debug] Trained a tree with leaves = 600 and depth = 30\n",
      "[LightGBM] [Debug] Trained a tree with leaves = 600 and depth = 29\n",
      "[LightGBM] [Debug] Trained a tree with leaves = 600 and depth = 26\n",
      "[LightGBM] [Debug] Trained a tree with leaves = 600 and depth = 28\n",
      "[LightGBM] [Debug] Trained a tree with leaves = 600 and depth = 27\n",
      "[LightGBM] [Debug] Trained a tree with leaves = 600 and depth = 30\n",
      "[LightGBM] [Debug] Trained a tree with leaves = 600 and depth = 31\n",
      "[LightGBM] [Debug] Trained a tree with leaves = 600 and depth = 25\n",
      "[LightGBM] [Debug] Trained a tree with leaves = 600 and depth = 28\n",
      "[LightGBM] [Debug] Trained a tree with leaves = 600 and depth = 36\n",
      "[LightGBM] [Debug] Trained a tree with leaves = 600 and depth = 29\n",
      "[LightGBM] [Debug] Trained a tree with leaves = 600 and depth = 35\n",
      "[LightGBM] [Debug] Trained a tree with leaves = 600 and depth = 29\n",
      "[LightGBM] [Debug] Trained a tree with leaves = 600 and depth = 33\n",
      "[LightGBM] [Debug] Trained a tree with leaves = 600 and depth = 34\n",
      "[LightGBM] [Debug] Trained a tree with leaves = 600 and depth = 30\n",
      "[LightGBM] [Debug] Trained a tree with leaves = 600 and depth = 33\n",
      "[LightGBM] [Debug] Trained a tree with leaves = 600 and depth = 27\n",
      "[LightGBM] [Debug] Trained a tree with leaves = 600 and depth = 29\n",
      "[LightGBM] [Debug] Trained a tree with leaves = 600 and depth = 38\n",
      "[LightGBM] [Debug] Trained a tree with leaves = 600 and depth = 30\n",
      "[LightGBM] [Debug] Trained a tree with leaves = 600 and depth = 26\n",
      "[LightGBM] [Debug] Trained a tree with leaves = 600 and depth = 30\n",
      "[LightGBM] [Debug] Trained a tree with leaves = 600 and depth = 35\n",
      "[LightGBM] [Debug] Trained a tree with leaves = 600 and depth = 30\n",
      "[LightGBM] [Debug] Trained a tree with leaves = 600 and depth = 27\n",
      "[LightGBM] [Debug] Trained a tree with leaves = 600 and depth = 25\n",
      "[LightGBM] [Debug] Trained a tree with leaves = 600 and depth = 29\n",
      "[LightGBM] [Debug] Trained a tree with leaves = 600 and depth = 26\n",
      "[LightGBM] [Debug] Trained a tree with leaves = 600 and depth = 29\n",
      "[LightGBM] [Debug] Trained a tree with leaves = 600 and depth = 31\n",
      "[LightGBM] [Debug] Trained a tree with leaves = 600 and depth = 29\n",
      "[LightGBM] [Debug] Trained a tree with leaves = 600 and depth = 34\n",
      "[LightGBM] [Debug] Trained a tree with leaves = 600 and depth = 32\n",
      "[LightGBM] [Debug] Trained a tree with leaves = 600 and depth = 24\n",
      "[LightGBM] [Debug] Trained a tree with leaves = 600 and depth = 26\n",
      "[LightGBM] [Debug] Trained a tree with leaves = 600 and depth = 31\n",
      "[LightGBM] [Debug] Trained a tree with leaves = 600 and depth = 26\n",
      "[LightGBM] [Debug] Trained a tree with leaves = 600 and depth = 32\n",
      "[LightGBM] [Debug] Trained a tree with leaves = 600 and depth = 31\n",
      "[LightGBM] [Debug] Trained a tree with leaves = 600 and depth = 28\n",
      "[LightGBM] [Debug] Trained a tree with leaves = 600 and depth = 34\n",
      "[LightGBM] [Debug] Trained a tree with leaves = 600 and depth = 36\n",
      "[LightGBM] [Debug] Trained a tree with leaves = 600 and depth = 35\n",
      "[LightGBM] [Debug] Trained a tree with leaves = 600 and depth = 31\n",
      "[LightGBM] [Debug] Trained a tree with leaves = 600 and depth = 31\n",
      "[LightGBM] [Debug] Trained a tree with leaves = 600 and depth = 35\n",
      "[LightGBM] [Debug] Trained a tree with leaves = 600 and depth = 33\n",
      "[LightGBM] [Debug] Trained a tree with leaves = 600 and depth = 31\n",
      "[LightGBM] [Debug] Trained a tree with leaves = 600 and depth = 36\n",
      "[LightGBM] [Debug] Trained a tree with leaves = 600 and depth = 34\n",
      "[LightGBM] [Debug] Trained a tree with leaves = 600 and depth = 37\n",
      "[CV 2/3] END force_col_wise=true, learning_rate=0.1, num_leaves=600;, score=-2632149.745 total time=   1.9s\n",
      "[LightGBM] [Debug] Dataset::GetMultiBinFromSparseFeatures: sparse rate 0.737074\n",
      "[LightGBM] [Info] Total Bins 594\n",
      "[LightGBM] [Info] Number of data points in the train set: 156780, number of used features: 10\n",
      "[LightGBM] [Info] Start training from score 4577.614511\n",
      "[LightGBM] [Debug] Trained a tree with leaves = 600 and depth = 14\n",
      "[LightGBM] [Debug] Trained a tree with leaves = 600 and depth = 15\n",
      "[LightGBM] [Debug] Trained a tree with leaves = 600 and depth = 14\n",
      "[LightGBM] [Debug] Trained a tree with leaves = 600 and depth = 15\n",
      "[LightGBM] [Debug] Trained a tree with leaves = 600 and depth = 15\n"
     ]
    },
    {
     "name": "stdout",
     "output_type": "stream",
     "text": [
      "[LightGBM] [Debug] Trained a tree with leaves = 600 and depth = 15\n",
      "[LightGBM] [Debug] Trained a tree with leaves = 600 and depth = 15\n",
      "[LightGBM] [Debug] Trained a tree with leaves = 600 and depth = 15\n",
      "[LightGBM] [Debug] Trained a tree with leaves = 600 and depth = 15\n",
      "[LightGBM] [Debug] Trained a tree with leaves = 600 and depth = 16\n",
      "[LightGBM] [Debug] Trained a tree with leaves = 600 and depth = 15\n",
      "[LightGBM] [Debug] Trained a tree with leaves = 600 and depth = 16\n",
      "[LightGBM] [Debug] Trained a tree with leaves = 600 and depth = 17\n",
      "[LightGBM] [Debug] Trained a tree with leaves = 600 and depth = 16\n",
      "[LightGBM] [Debug] Trained a tree with leaves = 600 and depth = 18\n",
      "[LightGBM] [Debug] Trained a tree with leaves = 600 and depth = 17\n",
      "[LightGBM] [Debug] Trained a tree with leaves = 600 and depth = 16\n",
      "[LightGBM] [Debug] Trained a tree with leaves = 600 and depth = 18\n",
      "[LightGBM] [Debug] Trained a tree with leaves = 600 and depth = 17\n",
      "[LightGBM] [Debug] Trained a tree with leaves = 600 and depth = 17\n",
      "[LightGBM] [Debug] Trained a tree with leaves = 600 and depth = 18\n",
      "[LightGBM] [Debug] Trained a tree with leaves = 600 and depth = 20\n",
      "[LightGBM] [Debug] Trained a tree with leaves = 600 and depth = 20\n",
      "[LightGBM] [Debug] Trained a tree with leaves = 600 and depth = 19\n",
      "[LightGBM] [Debug] Trained a tree with leaves = 600 and depth = 18\n",
      "[LightGBM] [Debug] Trained a tree with leaves = 600 and depth = 20\n",
      "[LightGBM] [Debug] Trained a tree with leaves = 600 and depth = 19\n",
      "[LightGBM] [Debug] Trained a tree with leaves = 600 and depth = 19\n",
      "[LightGBM] [Debug] Trained a tree with leaves = 600 and depth = 20\n",
      "[LightGBM] [Debug] Trained a tree with leaves = 600 and depth = 21\n",
      "[LightGBM] [Debug] Trained a tree with leaves = 600 and depth = 20\n",
      "[LightGBM] [Debug] Trained a tree with leaves = 600 and depth = 22\n",
      "[LightGBM] [Debug] Trained a tree with leaves = 600 and depth = 19\n",
      "[LightGBM] [Debug] Trained a tree with leaves = 600 and depth = 20\n",
      "[LightGBM] [Debug] Trained a tree with leaves = 600 and depth = 23\n",
      "[LightGBM] [Debug] Trained a tree with leaves = 600 and depth = 21\n",
      "[LightGBM] [Debug] Trained a tree with leaves = 600 and depth = 22\n",
      "[LightGBM] [Debug] Trained a tree with leaves = 600 and depth = 22\n",
      "[LightGBM] [Debug] Trained a tree with leaves = 600 and depth = 22\n",
      "[LightGBM] [Debug] Trained a tree with leaves = 600 and depth = 21\n",
      "[LightGBM] [Debug] Trained a tree with leaves = 600 and depth = 23\n",
      "[LightGBM] [Debug] Trained a tree with leaves = 600 and depth = 24\n",
      "[LightGBM] [Debug] Trained a tree with leaves = 600 and depth = 23\n",
      "[LightGBM] [Debug] Trained a tree with leaves = 600 and depth = 24\n",
      "[LightGBM] [Debug] Trained a tree with leaves = 600 and depth = 24\n",
      "[LightGBM] [Debug] Trained a tree with leaves = 600 and depth = 23\n",
      "[LightGBM] [Debug] Trained a tree with leaves = 600 and depth = 23\n",
      "[LightGBM] [Debug] Trained a tree with leaves = 600 and depth = 26\n",
      "[LightGBM] [Debug] Trained a tree with leaves = 600 and depth = 27\n",
      "[LightGBM] [Debug] Trained a tree with leaves = 600 and depth = 23\n",
      "[LightGBM] [Debug] Trained a tree with leaves = 600 and depth = 28\n",
      "[LightGBM] [Debug] Trained a tree with leaves = 600 and depth = 26\n",
      "[LightGBM] [Debug] Trained a tree with leaves = 600 and depth = 28\n",
      "[LightGBM] [Debug] Trained a tree with leaves = 600 and depth = 26\n",
      "[LightGBM] [Debug] Trained a tree with leaves = 600 and depth = 28\n",
      "[LightGBM] [Debug] Trained a tree with leaves = 600 and depth = 25\n",
      "[LightGBM] [Debug] Trained a tree with leaves = 600 and depth = 28\n",
      "[LightGBM] [Debug] Trained a tree with leaves = 600 and depth = 28\n",
      "[LightGBM] [Debug] Trained a tree with leaves = 600 and depth = 33\n",
      "[LightGBM] [Debug] Trained a tree with leaves = 600 and depth = 31\n",
      "[LightGBM] [Debug] Trained a tree with leaves = 600 and depth = 28\n",
      "[LightGBM] [Debug] Trained a tree with leaves = 600 and depth = 32\n",
      "[LightGBM] [Debug] Trained a tree with leaves = 600 and depth = 29\n",
      "[LightGBM] [Debug] Trained a tree with leaves = 600 and depth = 33\n",
      "[LightGBM] [Debug] Trained a tree with leaves = 600 and depth = 37\n",
      "[LightGBM] [Debug] Trained a tree with leaves = 600 and depth = 33\n",
      "[LightGBM] [Debug] Trained a tree with leaves = 600 and depth = 27\n",
      "[LightGBM] [Debug] Trained a tree with leaves = 600 and depth = 34\n",
      "[LightGBM] [Debug] Trained a tree with leaves = 600 and depth = 27\n",
      "[LightGBM] [Debug] Trained a tree with leaves = 600 and depth = 31\n",
      "[LightGBM] [Debug] Trained a tree with leaves = 600 and depth = 30\n",
      "[LightGBM] [Debug] Trained a tree with leaves = 600 and depth = 40\n",
      "[LightGBM] [Debug] Trained a tree with leaves = 600 and depth = 28\n",
      "[LightGBM] [Debug] Trained a tree with leaves = 600 and depth = 37\n",
      "[LightGBM] [Debug] Trained a tree with leaves = 600 and depth = 34\n",
      "[LightGBM] [Debug] Trained a tree with leaves = 600 and depth = 32\n",
      "[LightGBM] [Debug] Trained a tree with leaves = 600 and depth = 31\n",
      "[LightGBM] [Debug] Trained a tree with leaves = 600 and depth = 26\n",
      "[LightGBM] [Debug] Trained a tree with leaves = 600 and depth = 27\n",
      "[LightGBM] [Debug] Trained a tree with leaves = 600 and depth = 26\n",
      "[LightGBM] [Debug] Trained a tree with leaves = 600 and depth = 29\n",
      "[LightGBM] [Debug] Trained a tree with leaves = 600 and depth = 25\n",
      "[LightGBM] [Debug] Trained a tree with leaves = 600 and depth = 35\n",
      "[LightGBM] [Debug] Trained a tree with leaves = 600 and depth = 32\n",
      "[LightGBM] [Debug] Trained a tree with leaves = 600 and depth = 26\n",
      "[LightGBM] [Debug] Trained a tree with leaves = 600 and depth = 26\n",
      "[LightGBM] [Debug] Trained a tree with leaves = 600 and depth = 31\n",
      "[LightGBM] [Debug] Trained a tree with leaves = 600 and depth = 24\n",
      "[LightGBM] [Debug] Trained a tree with leaves = 600 and depth = 29\n",
      "[LightGBM] [Debug] Trained a tree with leaves = 600 and depth = 33\n",
      "[LightGBM] [Debug] Trained a tree with leaves = 600 and depth = 28\n",
      "[LightGBM] [Debug] Trained a tree with leaves = 600 and depth = 32\n",
      "[LightGBM] [Debug] Trained a tree with leaves = 600 and depth = 32\n",
      "[LightGBM] [Debug] Trained a tree with leaves = 600 and depth = 32\n",
      "[LightGBM] [Debug] Trained a tree with leaves = 600 and depth = 33\n",
      "[LightGBM] [Debug] Trained a tree with leaves = 600 and depth = 26\n",
      "[LightGBM] [Debug] Trained a tree with leaves = 600 and depth = 30\n",
      "[LightGBM] [Debug] Trained a tree with leaves = 600 and depth = 39\n",
      "[LightGBM] [Debug] Trained a tree with leaves = 600 and depth = 33\n",
      "[LightGBM] [Debug] Trained a tree with leaves = 600 and depth = 32\n",
      "[CV 3/3] END force_col_wise=true, learning_rate=0.1, num_leaves=600;, score=-2541726.388 total time=   1.8s\n",
      "[LightGBM] [Debug] Dataset::GetMultiBinFromSparseFeatures: sparse rate 0.736408\n",
      "[LightGBM] [Info] Total Bins 590\n",
      "[LightGBM] [Info] Number of data points in the train set: 156780, number of used features: 10\n",
      "[LightGBM] [Info] Start training from score 4578.288391\n",
      "[LightGBM] [Debug] Trained a tree with leaves = 500 and depth = 13\n",
      "[LightGBM] [Debug] Trained a tree with leaves = 500 and depth = 15\n",
      "[LightGBM] [Debug] Trained a tree with leaves = 500 and depth = 15\n",
      "[LightGBM] [Debug] Trained a tree with leaves = 500 and depth = 14\n",
      "[LightGBM] [Debug] Trained a tree with leaves = 500 and depth = 13\n",
      "[LightGBM] [Debug] Trained a tree with leaves = 500 and depth = 14\n",
      "[LightGBM] [Debug] Trained a tree with leaves = 500 and depth = 15\n",
      "[LightGBM] [Debug] Trained a tree with leaves = 500 and depth = 17\n",
      "[LightGBM] [Debug] Trained a tree with leaves = 500 and depth = 16\n",
      "[LightGBM] [Debug] Trained a tree with leaves = 500 and depth = 15\n",
      "[LightGBM] [Debug] Trained a tree with leaves = 500 and depth = 17\n",
      "[LightGBM] [Debug] Trained a tree with leaves = 500 and depth = 16\n",
      "[LightGBM] [Debug] Trained a tree with leaves = 500 and depth = 16\n",
      "[LightGBM] [Debug] Trained a tree with leaves = 500 and depth = 18\n",
      "[LightGBM] [Debug] Trained a tree with leaves = 500 and depth = 18\n",
      "[LightGBM] [Debug] Trained a tree with leaves = 500 and depth = 16\n",
      "[LightGBM] [Debug] Trained a tree with leaves = 500 and depth = 19\n",
      "[LightGBM] [Debug] Trained a tree with leaves = 500 and depth = 18\n",
      "[LightGBM] [Debug] Trained a tree with leaves = 500 and depth = 18\n",
      "[LightGBM] [Debug] Trained a tree with leaves = 500 and depth = 19\n",
      "[LightGBM] [Debug] Trained a tree with leaves = 500 and depth = 22\n",
      "[LightGBM] [Debug] Trained a tree with leaves = 500 and depth = 18\n"
     ]
    },
    {
     "name": "stdout",
     "output_type": "stream",
     "text": [
      "[LightGBM] [Debug] Trained a tree with leaves = 500 and depth = 19\n",
      "[LightGBM] [Debug] Trained a tree with leaves = 500 and depth = 20\n",
      "[LightGBM] [Debug] Trained a tree with leaves = 500 and depth = 18\n",
      "[LightGBM] [Debug] Trained a tree with leaves = 500 and depth = 18\n",
      "[LightGBM] [Debug] Trained a tree with leaves = 500 and depth = 21\n",
      "[LightGBM] [Debug] Trained a tree with leaves = 500 and depth = 24\n",
      "[LightGBM] [Debug] Trained a tree with leaves = 500 and depth = 22\n",
      "[LightGBM] [Debug] Trained a tree with leaves = 500 and depth = 23\n",
      "[LightGBM] [Debug] Trained a tree with leaves = 500 and depth = 22\n",
      "[LightGBM] [Debug] Trained a tree with leaves = 500 and depth = 28\n",
      "[LightGBM] [Debug] Trained a tree with leaves = 500 and depth = 28\n",
      "[LightGBM] [Debug] Trained a tree with leaves = 500 and depth = 21\n",
      "[LightGBM] [Debug] Trained a tree with leaves = 500 and depth = 29\n",
      "[LightGBM] [Debug] Trained a tree with leaves = 500 and depth = 26\n",
      "[LightGBM] [Debug] Trained a tree with leaves = 500 and depth = 26\n",
      "[LightGBM] [Debug] Trained a tree with leaves = 500 and depth = 21\n",
      "[LightGBM] [Debug] Trained a tree with leaves = 500 and depth = 27\n",
      "[LightGBM] [Debug] Trained a tree with leaves = 500 and depth = 33\n",
      "[LightGBM] [Debug] Trained a tree with leaves = 500 and depth = 30\n",
      "[LightGBM] [Debug] Trained a tree with leaves = 500 and depth = 30\n",
      "[LightGBM] [Debug] Trained a tree with leaves = 500 and depth = 30\n",
      "[LightGBM] [Debug] Trained a tree with leaves = 500 and depth = 29\n",
      "[LightGBM] [Debug] Trained a tree with leaves = 500 and depth = 30\n",
      "[LightGBM] [Debug] Trained a tree with leaves = 500 and depth = 31\n",
      "[LightGBM] [Debug] Trained a tree with leaves = 500 and depth = 29\n",
      "[LightGBM] [Debug] Trained a tree with leaves = 500 and depth = 36\n",
      "[LightGBM] [Debug] Trained a tree with leaves = 500 and depth = 32\n",
      "[LightGBM] [Debug] Trained a tree with leaves = 500 and depth = 36\n",
      "[LightGBM] [Debug] Trained a tree with leaves = 500 and depth = 34\n",
      "[LightGBM] [Debug] Trained a tree with leaves = 500 and depth = 27\n",
      "[LightGBM] [Debug] Trained a tree with leaves = 500 and depth = 31\n",
      "[LightGBM] [Debug] Trained a tree with leaves = 500 and depth = 27\n",
      "[LightGBM] [Debug] Trained a tree with leaves = 500 and depth = 27\n",
      "[LightGBM] [Debug] Trained a tree with leaves = 500 and depth = 28\n",
      "[LightGBM] [Debug] Trained a tree with leaves = 500 and depth = 28\n",
      "[LightGBM] [Debug] Trained a tree with leaves = 500 and depth = 30\n",
      "[LightGBM] [Debug] Trained a tree with leaves = 500 and depth = 29\n",
      "[LightGBM] [Debug] Trained a tree with leaves = 500 and depth = 23\n",
      "[LightGBM] [Debug] Trained a tree with leaves = 500 and depth = 35\n",
      "[LightGBM] [Debug] Trained a tree with leaves = 500 and depth = 26\n",
      "[LightGBM] [Debug] Trained a tree with leaves = 500 and depth = 30\n",
      "[LightGBM] [Debug] Trained a tree with leaves = 500 and depth = 23\n",
      "[LightGBM] [Debug] Trained a tree with leaves = 500 and depth = 26\n",
      "[LightGBM] [Debug] Trained a tree with leaves = 500 and depth = 33\n",
      "[LightGBM] [Debug] Trained a tree with leaves = 500 and depth = 26\n",
      "[LightGBM] [Debug] Trained a tree with leaves = 500 and depth = 27\n",
      "[LightGBM] [Debug] Trained a tree with leaves = 500 and depth = 28\n",
      "[LightGBM] [Debug] Trained a tree with leaves = 500 and depth = 29\n",
      "[LightGBM] [Debug] Trained a tree with leaves = 500 and depth = 29\n",
      "[LightGBM] [Debug] Trained a tree with leaves = 500 and depth = 29\n",
      "[LightGBM] [Debug] Trained a tree with leaves = 500 and depth = 21\n",
      "[LightGBM] [Debug] Trained a tree with leaves = 500 and depth = 29\n",
      "[LightGBM] [Debug] Trained a tree with leaves = 500 and depth = 22\n",
      "[LightGBM] [Debug] Trained a tree with leaves = 500 and depth = 24\n",
      "[LightGBM] [Debug] Trained a tree with leaves = 500 and depth = 30\n",
      "[LightGBM] [Debug] Trained a tree with leaves = 500 and depth = 28\n",
      "[LightGBM] [Debug] Trained a tree with leaves = 500 and depth = 24\n",
      "[LightGBM] [Debug] Trained a tree with leaves = 500 and depth = 37\n",
      "[LightGBM] [Debug] Trained a tree with leaves = 500 and depth = 30\n",
      "[LightGBM] [Debug] Trained a tree with leaves = 500 and depth = 36\n",
      "[LightGBM] [Debug] Trained a tree with leaves = 500 and depth = 24\n",
      "[LightGBM] [Debug] Trained a tree with leaves = 500 and depth = 24\n",
      "[LightGBM] [Debug] Trained a tree with leaves = 500 and depth = 28\n",
      "[LightGBM] [Debug] Trained a tree with leaves = 500 and depth = 33\n",
      "[LightGBM] [Debug] Trained a tree with leaves = 500 and depth = 25\n",
      "[LightGBM] [Debug] Trained a tree with leaves = 500 and depth = 29\n",
      "[LightGBM] [Debug] Trained a tree with leaves = 500 and depth = 31\n",
      "[LightGBM] [Debug] Trained a tree with leaves = 500 and depth = 30\n",
      "[LightGBM] [Debug] Trained a tree with leaves = 500 and depth = 30\n",
      "[LightGBM] [Debug] Trained a tree with leaves = 500 and depth = 39\n",
      "[LightGBM] [Debug] Trained a tree with leaves = 500 and depth = 29\n",
      "[LightGBM] [Debug] Trained a tree with leaves = 500 and depth = 29\n",
      "[LightGBM] [Debug] Trained a tree with leaves = 500 and depth = 33\n",
      "[LightGBM] [Debug] Trained a tree with leaves = 500 and depth = 25\n",
      "[LightGBM] [Debug] Trained a tree with leaves = 500 and depth = 24\n",
      "[LightGBM] [Debug] Trained a tree with leaves = 500 and depth = 32\n",
      "[LightGBM] [Debug] Trained a tree with leaves = 500 and depth = 23\n",
      "[LightGBM] [Debug] Trained a tree with leaves = 500 and depth = 25\n",
      "[CV 1/3] END force_col_wise=true, learning_rate=0.15, num_leaves=500;, score=-2608208.122 total time=   1.6s\n",
      "[LightGBM] [Debug] Dataset::GetMultiBinFromSparseFeatures: sparse rate 0.736609\n",
      "[LightGBM] [Info] Total Bins 593\n",
      "[LightGBM] [Info] Number of data points in the train set: 156780, number of used features: 10\n",
      "[LightGBM] [Info] Start training from score 4585.264925\n",
      "[LightGBM] [Debug] Trained a tree with leaves = 500 and depth = 15\n",
      "[LightGBM] [Debug] Trained a tree with leaves = 500 and depth = 15\n",
      "[LightGBM] [Debug] Trained a tree with leaves = 500 and depth = 14\n",
      "[LightGBM] [Debug] Trained a tree with leaves = 500 and depth = 14\n",
      "[LightGBM] [Debug] Trained a tree with leaves = 500 and depth = 14\n",
      "[LightGBM] [Debug] Trained a tree with leaves = 500 and depth = 16\n",
      "[LightGBM] [Debug] Trained a tree with leaves = 500 and depth = 15\n",
      "[LightGBM] [Debug] Trained a tree with leaves = 500 and depth = 15\n",
      "[LightGBM] [Debug] Trained a tree with leaves = 500 and depth = 16\n",
      "[LightGBM] [Debug] Trained a tree with leaves = 500 and depth = 15\n",
      "[LightGBM] [Debug] Trained a tree with leaves = 500 and depth = 19\n",
      "[LightGBM] [Debug] Trained a tree with leaves = 500 and depth = 15\n",
      "[LightGBM] [Debug] Trained a tree with leaves = 500 and depth = 16\n",
      "[LightGBM] [Debug] Trained a tree with leaves = 500 and depth = 18\n",
      "[LightGBM] [Debug] Trained a tree with leaves = 500 and depth = 17\n",
      "[LightGBM] [Debug] Trained a tree with leaves = 500 and depth = 16\n",
      "[LightGBM] [Debug] Trained a tree with leaves = 500 and depth = 18\n",
      "[LightGBM] [Debug] Trained a tree with leaves = 500 and depth = 18\n",
      "[LightGBM] [Debug] Trained a tree with leaves = 500 and depth = 18\n",
      "[LightGBM] [Debug] Trained a tree with leaves = 500 and depth = 21\n",
      "[LightGBM] [Debug] Trained a tree with leaves = 500 and depth = 18\n",
      "[LightGBM] [Debug] Trained a tree with leaves = 500 and depth = 19\n",
      "[LightGBM] [Debug] Trained a tree with leaves = 500 and depth = 19\n",
      "[LightGBM] [Debug] Trained a tree with leaves = 500 and depth = 23\n",
      "[LightGBM] [Debug] Trained a tree with leaves = 500 and depth = 21\n",
      "[LightGBM] [Debug] Trained a tree with leaves = 500 and depth = 19\n",
      "[LightGBM] [Debug] Trained a tree with leaves = 500 and depth = 24\n",
      "[LightGBM] [Debug] Trained a tree with leaves = 500 and depth = 23\n",
      "[LightGBM] [Debug] Trained a tree with leaves = 500 and depth = 20\n",
      "[LightGBM] [Debug] Trained a tree with leaves = 500 and depth = 22\n",
      "[LightGBM] [Debug] Trained a tree with leaves = 500 and depth = 23\n",
      "[LightGBM] [Debug] Trained a tree with leaves = 500 and depth = 23\n",
      "[LightGBM] [Debug] Trained a tree with leaves = 500 and depth = 27\n",
      "[LightGBM] [Debug] Trained a tree with leaves = 500 and depth = 25\n",
      "[LightGBM] [Debug] Trained a tree with leaves = 500 and depth = 28\n",
      "[LightGBM] [Debug] Trained a tree with leaves = 500 and depth = 28\n",
      "[LightGBM] [Debug] Trained a tree with leaves = 500 and depth = 24\n",
      "[LightGBM] [Debug] Trained a tree with leaves = 500 and depth = 24\n",
      "[LightGBM] [Debug] Trained a tree with leaves = 500 and depth = 34\n",
      "[LightGBM] [Debug] Trained a tree with leaves = 500 and depth = 26\n",
      "[LightGBM] [Debug] Trained a tree with leaves = 500 and depth = 29\n",
      "[LightGBM] [Debug] Trained a tree with leaves = 500 and depth = 29\n",
      "[LightGBM] [Debug] Trained a tree with leaves = 500 and depth = 29\n",
      "[LightGBM] [Debug] Trained a tree with leaves = 500 and depth = 37\n",
      "[LightGBM] [Debug] Trained a tree with leaves = 500 and depth = 29\n",
      "[LightGBM] [Debug] Trained a tree with leaves = 500 and depth = 25\n",
      "[LightGBM] [Debug] Trained a tree with leaves = 500 and depth = 33\n",
      "[LightGBM] [Debug] Trained a tree with leaves = 500 and depth = 24\n",
      "[LightGBM] [Debug] Trained a tree with leaves = 500 and depth = 25\n",
      "[LightGBM] [Debug] Trained a tree with leaves = 500 and depth = 25\n",
      "[LightGBM] [Debug] Trained a tree with leaves = 500 and depth = 27\n",
      "[LightGBM] [Debug] Trained a tree with leaves = 500 and depth = 36\n"
     ]
    },
    {
     "name": "stdout",
     "output_type": "stream",
     "text": [
      "[LightGBM] [Debug] Trained a tree with leaves = 500 and depth = 30\n",
      "[LightGBM] [Debug] Trained a tree with leaves = 500 and depth = 33\n",
      "[LightGBM] [Debug] Trained a tree with leaves = 500 and depth = 29\n",
      "[LightGBM] [Debug] Trained a tree with leaves = 500 and depth = 28\n",
      "[LightGBM] [Debug] Trained a tree with leaves = 500 and depth = 24\n",
      "[LightGBM] [Debug] Trained a tree with leaves = 500 and depth = 26\n",
      "[LightGBM] [Debug] Trained a tree with leaves = 500 and depth = 24\n",
      "[LightGBM] [Debug] Trained a tree with leaves = 500 and depth = 31\n",
      "[LightGBM] [Debug] Trained a tree with leaves = 500 and depth = 27\n",
      "[LightGBM] [Debug] Trained a tree with leaves = 500 and depth = 32\n",
      "[LightGBM] [Debug] Trained a tree with leaves = 500 and depth = 28\n",
      "[LightGBM] [Debug] Trained a tree with leaves = 500 and depth = 29\n",
      "[LightGBM] [Debug] Trained a tree with leaves = 500 and depth = 32\n",
      "[LightGBM] [Debug] Trained a tree with leaves = 500 and depth = 28\n",
      "[LightGBM] [Debug] Trained a tree with leaves = 500 and depth = 24\n",
      "[LightGBM] [Debug] Trained a tree with leaves = 500 and depth = 23\n",
      "[LightGBM] [Debug] Trained a tree with leaves = 500 and depth = 36\n",
      "[LightGBM] [Debug] Trained a tree with leaves = 500 and depth = 24\n",
      "[LightGBM] [Debug] Trained a tree with leaves = 500 and depth = 32\n",
      "[LightGBM] [Debug] Trained a tree with leaves = 500 and depth = 37\n",
      "[LightGBM] [Debug] Trained a tree with leaves = 500 and depth = 23\n",
      "[LightGBM] [Debug] Trained a tree with leaves = 500 and depth = 28\n",
      "[LightGBM] [Debug] Trained a tree with leaves = 500 and depth = 30\n",
      "[LightGBM] [Debug] Trained a tree with leaves = 500 and depth = 39\n",
      "[LightGBM] [Debug] Trained a tree with leaves = 500 and depth = 25\n",
      "[LightGBM] [Debug] Trained a tree with leaves = 500 and depth = 26\n",
      "[LightGBM] [Debug] Trained a tree with leaves = 500 and depth = 29\n",
      "[LightGBM] [Debug] Trained a tree with leaves = 500 and depth = 26\n",
      "[LightGBM] [Debug] Trained a tree with leaves = 500 and depth = 26\n",
      "[LightGBM] [Debug] Trained a tree with leaves = 500 and depth = 27\n",
      "[LightGBM] [Debug] Trained a tree with leaves = 500 and depth = 29\n",
      "[LightGBM] [Debug] Trained a tree with leaves = 500 and depth = 30\n",
      "[LightGBM] [Debug] Trained a tree with leaves = 500 and depth = 27\n",
      "[LightGBM] [Debug] Trained a tree with leaves = 500 and depth = 29\n",
      "[LightGBM] [Debug] Trained a tree with leaves = 500 and depth = 27\n",
      "[LightGBM] [Debug] Trained a tree with leaves = 500 and depth = 31\n",
      "[LightGBM] [Debug] Trained a tree with leaves = 500 and depth = 22\n",
      "[LightGBM] [Debug] Trained a tree with leaves = 500 and depth = 35\n",
      "[LightGBM] [Debug] Trained a tree with leaves = 500 and depth = 27\n",
      "[LightGBM] [Debug] Trained a tree with leaves = 500 and depth = 30\n",
      "[LightGBM] [Debug] Trained a tree with leaves = 500 and depth = 28\n",
      "[LightGBM] [Debug] Trained a tree with leaves = 500 and depth = 25\n",
      "[LightGBM] [Debug] Trained a tree with leaves = 500 and depth = 31\n",
      "[LightGBM] [Debug] Trained a tree with leaves = 500 and depth = 34\n",
      "[LightGBM] [Debug] Trained a tree with leaves = 500 and depth = 32\n",
      "[LightGBM] [Debug] Trained a tree with leaves = 500 and depth = 25\n",
      "[LightGBM] [Debug] Trained a tree with leaves = 500 and depth = 28\n",
      "[LightGBM] [Debug] Trained a tree with leaves = 500 and depth = 30\n",
      "[CV 2/3] END force_col_wise=true, learning_rate=0.15, num_leaves=500;, score=-2666000.907 total time=   1.5s\n",
      "[LightGBM] [Debug] Dataset::GetMultiBinFromSparseFeatures: sparse rate 0.737074\n",
      "[LightGBM] [Info] Total Bins 594\n",
      "[LightGBM] [Info] Number of data points in the train set: 156780, number of used features: 10\n",
      "[LightGBM] [Info] Start training from score 4577.614511\n",
      "[LightGBM] [Debug] Trained a tree with leaves = 500 and depth = 14\n",
      "[LightGBM] [Debug] Trained a tree with leaves = 500 and depth = 14\n",
      "[LightGBM] [Debug] Trained a tree with leaves = 500 and depth = 13\n",
      "[LightGBM] [Debug] Trained a tree with leaves = 500 and depth = 15\n",
      "[LightGBM] [Debug] Trained a tree with leaves = 500 and depth = 16\n",
      "[LightGBM] [Debug] Trained a tree with leaves = 500 and depth = 16\n",
      "[LightGBM] [Debug] Trained a tree with leaves = 500 and depth = 16\n",
      "[LightGBM] [Debug] Trained a tree with leaves = 500 and depth = 15\n",
      "[LightGBM] [Debug] Trained a tree with leaves = 500 and depth = 16\n",
      "[LightGBM] [Debug] Trained a tree with leaves = 500 and depth = 15\n",
      "[LightGBM] [Debug] Trained a tree with leaves = 500 and depth = 16\n",
      "[LightGBM] [Debug] Trained a tree with leaves = 500 and depth = 17\n",
      "[LightGBM] [Debug] Trained a tree with leaves = 500 and depth = 16\n",
      "[LightGBM] [Debug] Trained a tree with leaves = 500 and depth = 17\n",
      "[LightGBM] [Debug] Trained a tree with leaves = 500 and depth = 19\n",
      "[LightGBM] [Debug] Trained a tree with leaves = 500 and depth = 18\n",
      "[LightGBM] [Debug] Trained a tree with leaves = 500 and depth = 18\n",
      "[LightGBM] [Debug] Trained a tree with leaves = 500 and depth = 19\n",
      "[LightGBM] [Debug] Trained a tree with leaves = 500 and depth = 17\n",
      "[LightGBM] [Debug] Trained a tree with leaves = 500 and depth = 18\n",
      "[LightGBM] [Debug] Trained a tree with leaves = 500 and depth = 21\n",
      "[LightGBM] [Debug] Trained a tree with leaves = 500 and depth = 19\n",
      "[LightGBM] [Debug] Trained a tree with leaves = 500 and depth = 21\n",
      "[LightGBM] [Debug] Trained a tree with leaves = 500 and depth = 25\n",
      "[LightGBM] [Debug] Trained a tree with leaves = 500 and depth = 20\n",
      "[LightGBM] [Debug] Trained a tree with leaves = 500 and depth = 22\n",
      "[LightGBM] [Debug] Trained a tree with leaves = 500 and depth = 23\n",
      "[LightGBM] [Debug] Trained a tree with leaves = 500 and depth = 20\n",
      "[LightGBM] [Debug] Trained a tree with leaves = 500 and depth = 25\n",
      "[LightGBM] [Debug] Trained a tree with leaves = 500 and depth = 23\n",
      "[LightGBM] [Debug] Trained a tree with leaves = 500 and depth = 26\n",
      "[LightGBM] [Debug] Trained a tree with leaves = 500 and depth = 24\n",
      "[LightGBM] [Debug] Trained a tree with leaves = 500 and depth = 30\n",
      "[LightGBM] [Debug] Trained a tree with leaves = 500 and depth = 30\n",
      "[LightGBM] [Debug] Trained a tree with leaves = 500 and depth = 26\n",
      "[LightGBM] [Debug] Trained a tree with leaves = 500 and depth = 27\n",
      "[LightGBM] [Debug] Trained a tree with leaves = 500 and depth = 27\n",
      "[LightGBM] [Debug] Trained a tree with leaves = 500 and depth = 30\n",
      "[LightGBM] [Debug] Trained a tree with leaves = 500 and depth = 29\n",
      "[LightGBM] [Debug] Trained a tree with leaves = 500 and depth = 29\n",
      "[LightGBM] [Debug] Trained a tree with leaves = 500 and depth = 26\n",
      "[LightGBM] [Debug] Trained a tree with leaves = 500 and depth = 28\n",
      "[LightGBM] [Debug] Trained a tree with leaves = 500 and depth = 33\n",
      "[LightGBM] [Debug] Trained a tree with leaves = 500 and depth = 29\n",
      "[LightGBM] [Debug] Trained a tree with leaves = 500 and depth = 26\n",
      "[LightGBM] [Debug] Trained a tree with leaves = 500 and depth = 24\n",
      "[LightGBM] [Debug] Trained a tree with leaves = 500 and depth = 32\n",
      "[LightGBM] [Debug] Trained a tree with leaves = 500 and depth = 31\n",
      "[LightGBM] [Debug] Trained a tree with leaves = 500 and depth = 29\n",
      "[LightGBM] [Debug] Trained a tree with leaves = 500 and depth = 27\n",
      "[LightGBM] [Debug] Trained a tree with leaves = 500 and depth = 26\n",
      "[LightGBM] [Debug] Trained a tree with leaves = 500 and depth = 27\n",
      "[LightGBM] [Debug] Trained a tree with leaves = 500 and depth = 36\n",
      "[LightGBM] [Debug] Trained a tree with leaves = 500 and depth = 27\n",
      "[LightGBM] [Debug] Trained a tree with leaves = 500 and depth = 32\n",
      "[LightGBM] [Debug] Trained a tree with leaves = 500 and depth = 27\n",
      "[LightGBM] [Debug] Trained a tree with leaves = 500 and depth = 33\n",
      "[LightGBM] [Debug] Trained a tree with leaves = 500 and depth = 28\n",
      "[LightGBM] [Debug] Trained a tree with leaves = 500 and depth = 20\n",
      "[LightGBM] [Debug] Trained a tree with leaves = 500 and depth = 33\n",
      "[LightGBM] [Debug] Trained a tree with leaves = 500 and depth = 26\n",
      "[LightGBM] [Debug] Trained a tree with leaves = 500 and depth = 25\n",
      "[LightGBM] [Debug] Trained a tree with leaves = 500 and depth = 24\n",
      "[LightGBM] [Debug] Trained a tree with leaves = 500 and depth = 33\n",
      "[LightGBM] [Debug] Trained a tree with leaves = 500 and depth = 28\n",
      "[LightGBM] [Debug] Trained a tree with leaves = 500 and depth = 27\n",
      "[LightGBM] [Debug] Trained a tree with leaves = 500 and depth = 34\n",
      "[LightGBM] [Debug] Trained a tree with leaves = 500 and depth = 34\n",
      "[LightGBM] [Debug] Trained a tree with leaves = 500 and depth = 35\n",
      "[LightGBM] [Debug] Trained a tree with leaves = 500 and depth = 35\n",
      "[LightGBM] [Debug] Trained a tree with leaves = 500 and depth = 33\n",
      "[LightGBM] [Debug] Trained a tree with leaves = 500 and depth = 26\n",
      "[LightGBM] [Debug] Trained a tree with leaves = 500 and depth = 24\n",
      "[LightGBM] [Debug] Trained a tree with leaves = 500 and depth = 39\n",
      "[LightGBM] [Debug] Trained a tree with leaves = 500 and depth = 30\n"
     ]
    },
    {
     "name": "stdout",
     "output_type": "stream",
     "text": [
      "[LightGBM] [Debug] Trained a tree with leaves = 500 and depth = 30\n",
      "[LightGBM] [Debug] Trained a tree with leaves = 500 and depth = 34\n",
      "[LightGBM] [Debug] Trained a tree with leaves = 500 and depth = 28\n",
      "[LightGBM] [Debug] Trained a tree with leaves = 500 and depth = 37\n",
      "[LightGBM] [Debug] Trained a tree with leaves = 500 and depth = 35\n",
      "[LightGBM] [Debug] Trained a tree with leaves = 500 and depth = 24\n",
      "[LightGBM] [Debug] Trained a tree with leaves = 500 and depth = 28\n",
      "[LightGBM] [Debug] Trained a tree with leaves = 500 and depth = 33\n",
      "[LightGBM] [Debug] Trained a tree with leaves = 500 and depth = 25\n",
      "[LightGBM] [Debug] Trained a tree with leaves = 500 and depth = 26\n",
      "[LightGBM] [Debug] Trained a tree with leaves = 500 and depth = 31\n",
      "[LightGBM] [Debug] Trained a tree with leaves = 500 and depth = 31\n",
      "[LightGBM] [Debug] Trained a tree with leaves = 500 and depth = 24\n",
      "[LightGBM] [Debug] Trained a tree with leaves = 500 and depth = 31\n",
      "[LightGBM] [Debug] Trained a tree with leaves = 500 and depth = 28\n",
      "[LightGBM] [Debug] Trained a tree with leaves = 500 and depth = 32\n",
      "[LightGBM] [Debug] Trained a tree with leaves = 500 and depth = 27\n",
      "[LightGBM] [Debug] Trained a tree with leaves = 500 and depth = 25\n",
      "[LightGBM] [Debug] Trained a tree with leaves = 500 and depth = 25\n",
      "[LightGBM] [Debug] Trained a tree with leaves = 500 and depth = 30\n",
      "[LightGBM] [Debug] Trained a tree with leaves = 500 and depth = 31\n",
      "[LightGBM] [Debug] Trained a tree with leaves = 500 and depth = 24\n",
      "[LightGBM] [Debug] Trained a tree with leaves = 500 and depth = 35\n",
      "[LightGBM] [Debug] Trained a tree with leaves = 500 and depth = 27\n",
      "[LightGBM] [Debug] Trained a tree with leaves = 500 and depth = 32\n",
      "[CV 3/3] END force_col_wise=true, learning_rate=0.15, num_leaves=500;, score=-2559306.495 total time=   1.4s\n",
      "[LightGBM] [Debug] Dataset::GetMultiBinFromSparseFeatures: sparse rate 0.736408\n",
      "[LightGBM] [Info] Total Bins 590\n",
      "[LightGBM] [Info] Number of data points in the train set: 156780, number of used features: 10\n",
      "[LightGBM] [Info] Start training from score 4578.288391\n",
      "[LightGBM] [Debug] Trained a tree with leaves = 525 and depth = 13\n",
      "[LightGBM] [Debug] Trained a tree with leaves = 525 and depth = 15\n",
      "[LightGBM] [Debug] Trained a tree with leaves = 525 and depth = 15\n",
      "[LightGBM] [Debug] Trained a tree with leaves = 525 and depth = 14\n",
      "[LightGBM] [Debug] Trained a tree with leaves = 525 and depth = 15\n",
      "[LightGBM] [Debug] Trained a tree with leaves = 525 and depth = 14\n",
      "[LightGBM] [Debug] Trained a tree with leaves = 525 and depth = 16\n",
      "[LightGBM] [Debug] Trained a tree with leaves = 525 and depth = 15\n",
      "[LightGBM] [Debug] Trained a tree with leaves = 525 and depth = 17\n",
      "[LightGBM] [Debug] Trained a tree with leaves = 525 and depth = 15\n",
      "[LightGBM] [Debug] Trained a tree with leaves = 525 and depth = 18\n",
      "[LightGBM] [Debug] Trained a tree with leaves = 525 and depth = 15\n",
      "[LightGBM] [Debug] Trained a tree with leaves = 525 and depth = 17\n",
      "[LightGBM] [Debug] Trained a tree with leaves = 525 and depth = 17\n",
      "[LightGBM] [Debug] Trained a tree with leaves = 525 and depth = 19\n",
      "[LightGBM] [Debug] Trained a tree with leaves = 525 and depth = 20\n",
      "[LightGBM] [Debug] Trained a tree with leaves = 525 and depth = 17\n",
      "[LightGBM] [Debug] Trained a tree with leaves = 525 and depth = 18\n",
      "[LightGBM] [Debug] Trained a tree with leaves = 525 and depth = 18\n",
      "[LightGBM] [Debug] Trained a tree with leaves = 525 and depth = 20\n",
      "[LightGBM] [Debug] Trained a tree with leaves = 525 and depth = 19\n",
      "[LightGBM] [Debug] Trained a tree with leaves = 525 and depth = 20\n",
      "[LightGBM] [Debug] Trained a tree with leaves = 525 and depth = 21\n",
      "[LightGBM] [Debug] Trained a tree with leaves = 525 and depth = 21\n",
      "[LightGBM] [Debug] Trained a tree with leaves = 525 and depth = 19\n",
      "[LightGBM] [Debug] Trained a tree with leaves = 525 and depth = 22\n",
      "[LightGBM] [Debug] Trained a tree with leaves = 525 and depth = 24\n",
      "[LightGBM] [Debug] Trained a tree with leaves = 525 and depth = 21\n",
      "[LightGBM] [Debug] Trained a tree with leaves = 525 and depth = 23\n",
      "[LightGBM] [Debug] Trained a tree with leaves = 525 and depth = 23\n",
      "[LightGBM] [Debug] Trained a tree with leaves = 525 and depth = 27\n",
      "[LightGBM] [Debug] Trained a tree with leaves = 525 and depth = 24\n",
      "[LightGBM] [Debug] Trained a tree with leaves = 525 and depth = 23\n",
      "[LightGBM] [Debug] Trained a tree with leaves = 525 and depth = 24\n",
      "[LightGBM] [Debug] Trained a tree with leaves = 525 and depth = 28\n",
      "[LightGBM] [Debug] Trained a tree with leaves = 525 and depth = 27\n",
      "[LightGBM] [Debug] Trained a tree with leaves = 525 and depth = 27\n",
      "[LightGBM] [Debug] Trained a tree with leaves = 525 and depth = 24\n",
      "[LightGBM] [Debug] Trained a tree with leaves = 525 and depth = 25\n",
      "[LightGBM] [Debug] Trained a tree with leaves = 525 and depth = 28\n",
      "[LightGBM] [Debug] Trained a tree with leaves = 525 and depth = 23\n",
      "[LightGBM] [Debug] Trained a tree with leaves = 525 and depth = 30\n",
      "[LightGBM] [Debug] Trained a tree with leaves = 525 and depth = 34\n",
      "[LightGBM] [Debug] Trained a tree with leaves = 525 and depth = 25\n",
      "[LightGBM] [Debug] Trained a tree with leaves = 525 and depth = 23\n",
      "[LightGBM] [Debug] Trained a tree with leaves = 525 and depth = 36\n",
      "[LightGBM] [Debug] Trained a tree with leaves = 525 and depth = 27\n",
      "[LightGBM] [Debug] Trained a tree with leaves = 525 and depth = 37\n",
      "[LightGBM] [Debug] Trained a tree with leaves = 525 and depth = 32\n",
      "[LightGBM] [Debug] Trained a tree with leaves = 525 and depth = 26\n",
      "[LightGBM] [Debug] Trained a tree with leaves = 525 and depth = 30\n",
      "[LightGBM] [Debug] Trained a tree with leaves = 525 and depth = 33\n",
      "[LightGBM] [Debug] Trained a tree with leaves = 525 and depth = 26\n",
      "[LightGBM] [Debug] Trained a tree with leaves = 525 and depth = 33\n",
      "[LightGBM] [Debug] Trained a tree with leaves = 525 and depth = 37\n",
      "[LightGBM] [Debug] Trained a tree with leaves = 525 and depth = 28\n",
      "[LightGBM] [Debug] Trained a tree with leaves = 525 and depth = 37\n",
      "[LightGBM] [Debug] Trained a tree with leaves = 525 and depth = 32\n",
      "[LightGBM] [Debug] Trained a tree with leaves = 525 and depth = 28\n",
      "[LightGBM] [Debug] Trained a tree with leaves = 525 and depth = 27\n",
      "[LightGBM] [Debug] Trained a tree with leaves = 525 and depth = 27\n",
      "[LightGBM] [Debug] Trained a tree with leaves = 525 and depth = 33\n",
      "[LightGBM] [Debug] Trained a tree with leaves = 525 and depth = 24\n",
      "[LightGBM] [Debug] Trained a tree with leaves = 525 and depth = 36\n",
      "[LightGBM] [Debug] Trained a tree with leaves = 525 and depth = 27\n",
      "[LightGBM] [Debug] Trained a tree with leaves = 525 and depth = 25\n",
      "[LightGBM] [Debug] Trained a tree with leaves = 525 and depth = 27\n",
      "[LightGBM] [Debug] Trained a tree with leaves = 525 and depth = 25\n",
      "[LightGBM] [Debug] Trained a tree with leaves = 525 and depth = 28\n",
      "[LightGBM] [Debug] Trained a tree with leaves = 525 and depth = 29\n",
      "[LightGBM] [Debug] Trained a tree with leaves = 525 and depth = 27\n",
      "[LightGBM] [Debug] Trained a tree with leaves = 525 and depth = 31\n",
      "[LightGBM] [Debug] Trained a tree with leaves = 525 and depth = 32\n",
      "[LightGBM] [Debug] Trained a tree with leaves = 525 and depth = 26\n",
      "[LightGBM] [Debug] Trained a tree with leaves = 525 and depth = 39\n",
      "[LightGBM] [Debug] Trained a tree with leaves = 525 and depth = 31\n",
      "[LightGBM] [Debug] Trained a tree with leaves = 525 and depth = 29\n",
      "[LightGBM] [Debug] Trained a tree with leaves = 525 and depth = 33\n",
      "[LightGBM] [Debug] Trained a tree with leaves = 525 and depth = 24\n",
      "[LightGBM] [Debug] Trained a tree with leaves = 525 and depth = 25\n",
      "[LightGBM] [Debug] Trained a tree with leaves = 525 and depth = 30\n",
      "[LightGBM] [Debug] Trained a tree with leaves = 525 and depth = 26\n",
      "[LightGBM] [Debug] Trained a tree with leaves = 525 and depth = 26\n",
      "[LightGBM] [Debug] Trained a tree with leaves = 525 and depth = 37\n",
      "[LightGBM] [Debug] Trained a tree with leaves = 525 and depth = 31\n",
      "[LightGBM] [Debug] Trained a tree with leaves = 525 and depth = 33\n",
      "[LightGBM] [Debug] Trained a tree with leaves = 525 and depth = 29\n",
      "[LightGBM] [Debug] Trained a tree with leaves = 525 and depth = 24\n",
      "[LightGBM] [Debug] Trained a tree with leaves = 525 and depth = 25\n",
      "[LightGBM] [Debug] Trained a tree with leaves = 525 and depth = 32\n",
      "[LightGBM] [Debug] Trained a tree with leaves = 525 and depth = 24\n",
      "[LightGBM] [Debug] Trained a tree with leaves = 525 and depth = 28\n",
      "[LightGBM] [Debug] Trained a tree with leaves = 525 and depth = 22\n",
      "[LightGBM] [Debug] Trained a tree with leaves = 525 and depth = 27\n",
      "[LightGBM] [Debug] Trained a tree with leaves = 525 and depth = 32\n",
      "[LightGBM] [Debug] Trained a tree with leaves = 525 and depth = 29\n",
      "[LightGBM] [Debug] Trained a tree with leaves = 525 and depth = 27\n",
      "[LightGBM] [Debug] Trained a tree with leaves = 525 and depth = 31\n",
      "[LightGBM] [Debug] Trained a tree with leaves = 525 and depth = 30\n",
      "[LightGBM] [Debug] Trained a tree with leaves = 525 and depth = 31\n"
     ]
    },
    {
     "name": "stdout",
     "output_type": "stream",
     "text": [
      "[CV 1/3] END force_col_wise=true, learning_rate=0.15, num_leaves=525;, score=-2624014.775 total time=   1.5s\n",
      "[LightGBM] [Debug] Dataset::GetMultiBinFromSparseFeatures: sparse rate 0.736609\n",
      "[LightGBM] [Info] Total Bins 593\n",
      "[LightGBM] [Info] Number of data points in the train set: 156780, number of used features: 10\n",
      "[LightGBM] [Info] Start training from score 4585.264925\n",
      "[LightGBM] [Debug] Trained a tree with leaves = 525 and depth = 15\n",
      "[LightGBM] [Debug] Trained a tree with leaves = 525 and depth = 15\n",
      "[LightGBM] [Debug] Trained a tree with leaves = 525 and depth = 14\n",
      "[LightGBM] [Debug] Trained a tree with leaves = 525 and depth = 13\n",
      "[LightGBM] [Debug] Trained a tree with leaves = 525 and depth = 14\n",
      "[LightGBM] [Debug] Trained a tree with leaves = 525 and depth = 15\n",
      "[LightGBM] [Debug] Trained a tree with leaves = 525 and depth = 18\n",
      "[LightGBM] [Debug] Trained a tree with leaves = 525 and depth = 15\n",
      "[LightGBM] [Debug] Trained a tree with leaves = 525 and depth = 15\n",
      "[LightGBM] [Debug] Trained a tree with leaves = 525 and depth = 17\n",
      "[LightGBM] [Debug] Trained a tree with leaves = 525 and depth = 17\n",
      "[LightGBM] [Debug] Trained a tree with leaves = 525 and depth = 17\n",
      "[LightGBM] [Debug] Trained a tree with leaves = 525 and depth = 18\n",
      "[LightGBM] [Debug] Trained a tree with leaves = 525 and depth = 16\n",
      "[LightGBM] [Debug] Trained a tree with leaves = 525 and depth = 17\n",
      "[LightGBM] [Debug] Trained a tree with leaves = 525 and depth = 19\n",
      "[LightGBM] [Debug] Trained a tree with leaves = 525 and depth = 17\n",
      "[LightGBM] [Debug] Trained a tree with leaves = 525 and depth = 17\n",
      "[LightGBM] [Debug] Trained a tree with leaves = 525 and depth = 18\n",
      "[LightGBM] [Debug] Trained a tree with leaves = 525 and depth = 19\n",
      "[LightGBM] [Debug] Trained a tree with leaves = 525 and depth = 19\n",
      "[LightGBM] [Debug] Trained a tree with leaves = 525 and depth = 21\n",
      "[LightGBM] [Debug] Trained a tree with leaves = 525 and depth = 20\n",
      "[LightGBM] [Debug] Trained a tree with leaves = 525 and depth = 19\n",
      "[LightGBM] [Debug] Trained a tree with leaves = 525 and depth = 23\n",
      "[LightGBM] [Debug] Trained a tree with leaves = 525 and depth = 20\n",
      "[LightGBM] [Debug] Trained a tree with leaves = 525 and depth = 21\n",
      "[LightGBM] [Debug] Trained a tree with leaves = 525 and depth = 23\n",
      "[LightGBM] [Debug] Trained a tree with leaves = 525 and depth = 22\n",
      "[LightGBM] [Debug] Trained a tree with leaves = 525 and depth = 22\n",
      "[LightGBM] [Debug] Trained a tree with leaves = 525 and depth = 25\n",
      "[LightGBM] [Debug] Trained a tree with leaves = 525 and depth = 23\n",
      "[LightGBM] [Debug] Trained a tree with leaves = 525 and depth = 34\n",
      "[LightGBM] [Debug] Trained a tree with leaves = 525 and depth = 27\n",
      "[LightGBM] [Debug] Trained a tree with leaves = 525 and depth = 25\n",
      "[LightGBM] [Debug] Trained a tree with leaves = 525 and depth = 27\n",
      "[LightGBM] [Debug] Trained a tree with leaves = 525 and depth = 29\n",
      "[LightGBM] [Debug] Trained a tree with leaves = 525 and depth = 25\n",
      "[LightGBM] [Debug] Trained a tree with leaves = 525 and depth = 25\n",
      "[LightGBM] [Debug] Trained a tree with leaves = 525 and depth = 36\n",
      "[LightGBM] [Debug] Trained a tree with leaves = 525 and depth = 26\n",
      "[LightGBM] [Debug] Trained a tree with leaves = 525 and depth = 30\n",
      "[LightGBM] [Debug] Trained a tree with leaves = 525 and depth = 33\n",
      "[LightGBM] [Debug] Trained a tree with leaves = 525 and depth = 27\n",
      "[LightGBM] [Debug] Trained a tree with leaves = 525 and depth = 37\n",
      "[LightGBM] [Debug] Trained a tree with leaves = 525 and depth = 26\n",
      "[LightGBM] [Debug] Trained a tree with leaves = 525 and depth = 25\n",
      "[LightGBM] [Debug] Trained a tree with leaves = 525 and depth = 24\n",
      "[LightGBM] [Debug] Trained a tree with leaves = 525 and depth = 28\n",
      "[LightGBM] [Debug] Trained a tree with leaves = 525 and depth = 26\n",
      "[LightGBM] [Debug] Trained a tree with leaves = 525 and depth = 27\n",
      "[LightGBM] [Debug] Trained a tree with leaves = 525 and depth = 22\n",
      "[LightGBM] [Debug] Trained a tree with leaves = 525 and depth = 28\n",
      "[LightGBM] [Debug] Trained a tree with leaves = 525 and depth = 33\n",
      "[LightGBM] [Debug] Trained a tree with leaves = 525 and depth = 31\n",
      "[LightGBM] [Debug] Trained a tree with leaves = 525 and depth = 28\n",
      "[LightGBM] [Debug] Trained a tree with leaves = 525 and depth = 26\n",
      "[LightGBM] [Debug] Trained a tree with leaves = 525 and depth = 38\n",
      "[LightGBM] [Debug] Trained a tree with leaves = 525 and depth = 22\n",
      "[LightGBM] [Debug] Trained a tree with leaves = 525 and depth = 28\n",
      "[LightGBM] [Debug] Trained a tree with leaves = 525 and depth = 29\n",
      "[LightGBM] [Debug] Trained a tree with leaves = 525 and depth = 35\n",
      "[LightGBM] [Debug] Trained a tree with leaves = 525 and depth = 31\n",
      "[LightGBM] [Debug] Trained a tree with leaves = 525 and depth = 29\n",
      "[LightGBM] [Debug] Trained a tree with leaves = 525 and depth = 28\n",
      "[LightGBM] [Debug] Trained a tree with leaves = 525 and depth = 27\n",
      "[LightGBM] [Debug] Trained a tree with leaves = 525 and depth = 32\n",
      "[LightGBM] [Debug] Trained a tree with leaves = 525 and depth = 27\n",
      "[LightGBM] [Debug] Trained a tree with leaves = 525 and depth = 34\n",
      "[LightGBM] [Debug] Trained a tree with leaves = 525 and depth = 31\n",
      "[LightGBM] [Debug] Trained a tree with leaves = 525 and depth = 32\n",
      "[LightGBM] [Debug] Trained a tree with leaves = 525 and depth = 23\n",
      "[LightGBM] [Debug] Trained a tree with leaves = 525 and depth = 23\n",
      "[LightGBM] [Debug] Trained a tree with leaves = 525 and depth = 31\n",
      "[LightGBM] [Debug] Trained a tree with leaves = 525 and depth = 27\n",
      "[LightGBM] [Debug] Trained a tree with leaves = 525 and depth = 33\n",
      "[LightGBM] [Debug] Trained a tree with leaves = 525 and depth = 29\n",
      "[LightGBM] [Debug] Trained a tree with leaves = 525 and depth = 34\n",
      "[LightGBM] [Debug] Trained a tree with leaves = 525 and depth = 29\n",
      "[LightGBM] [Debug] Trained a tree with leaves = 525 and depth = 25\n",
      "[LightGBM] [Debug] Trained a tree with leaves = 525 and depth = 27\n",
      "[LightGBM] [Debug] Trained a tree with leaves = 525 and depth = 26\n",
      "[LightGBM] [Debug] Trained a tree with leaves = 525 and depth = 34\n",
      "[LightGBM] [Debug] Trained a tree with leaves = 525 and depth = 25\n",
      "[LightGBM] [Debug] Trained a tree with leaves = 525 and depth = 25\n",
      "[LightGBM] [Debug] Trained a tree with leaves = 525 and depth = 28\n",
      "[LightGBM] [Debug] Trained a tree with leaves = 525 and depth = 34\n",
      "[LightGBM] [Debug] Trained a tree with leaves = 525 and depth = 32\n",
      "[LightGBM] [Debug] Trained a tree with leaves = 525 and depth = 29\n",
      "[LightGBM] [Debug] Trained a tree with leaves = 525 and depth = 21\n",
      "[LightGBM] [Debug] Trained a tree with leaves = 525 and depth = 23\n",
      "[LightGBM] [Debug] Trained a tree with leaves = 525 and depth = 23\n",
      "[LightGBM] [Debug] Trained a tree with leaves = 525 and depth = 34\n",
      "[LightGBM] [Debug] Trained a tree with leaves = 525 and depth = 25\n",
      "[LightGBM] [Debug] Trained a tree with leaves = 525 and depth = 25\n",
      "[LightGBM] [Debug] Trained a tree with leaves = 525 and depth = 30\n",
      "[LightGBM] [Debug] Trained a tree with leaves = 525 and depth = 25\n",
      "[LightGBM] [Debug] Trained a tree with leaves = 525 and depth = 29\n",
      "[LightGBM] [Debug] Trained a tree with leaves = 525 and depth = 25\n",
      "[LightGBM] [Debug] Trained a tree with leaves = 525 and depth = 27\n",
      "[CV 2/3] END force_col_wise=true, learning_rate=0.15, num_leaves=525;, score=-2654105.423 total time=   1.6s\n",
      "[LightGBM] [Debug] Dataset::GetMultiBinFromSparseFeatures: sparse rate 0.737074\n",
      "[LightGBM] [Info] Total Bins 594\n",
      "[LightGBM] [Info] Number of data points in the train set: 156780, number of used features: 10\n",
      "[LightGBM] [Info] Start training from score 4577.614511\n",
      "[LightGBM] [Debug] Trained a tree with leaves = 525 and depth = 14\n",
      "[LightGBM] [Debug] Trained a tree with leaves = 525 and depth = 15\n",
      "[LightGBM] [Debug] Trained a tree with leaves = 525 and depth = 14\n",
      "[LightGBM] [Debug] Trained a tree with leaves = 525 and depth = 14\n",
      "[LightGBM] [Debug] Trained a tree with leaves = 525 and depth = 14\n",
      "[LightGBM] [Debug] Trained a tree with leaves = 525 and depth = 15\n",
      "[LightGBM] [Debug] Trained a tree with leaves = 525 and depth = 16\n",
      "[LightGBM] [Debug] Trained a tree with leaves = 525 and depth = 15\n",
      "[LightGBM] [Debug] Trained a tree with leaves = 525 and depth = 15\n",
      "[LightGBM] [Debug] Trained a tree with leaves = 525 and depth = 16\n",
      "[LightGBM] [Debug] Trained a tree with leaves = 525 and depth = 18\n",
      "[LightGBM] [Debug] Trained a tree with leaves = 525 and depth = 17\n",
      "[LightGBM] [Debug] Trained a tree with leaves = 525 and depth = 16\n",
      "[LightGBM] [Debug] Trained a tree with leaves = 525 and depth = 16\n",
      "[LightGBM] [Debug] Trained a tree with leaves = 525 and depth = 21\n",
      "[LightGBM] [Debug] Trained a tree with leaves = 525 and depth = 20\n",
      "[LightGBM] [Debug] Trained a tree with leaves = 525 and depth = 20\n",
      "[LightGBM] [Debug] Trained a tree with leaves = 525 and depth = 18\n",
      "[LightGBM] [Debug] Trained a tree with leaves = 525 and depth = 17\n",
      "[LightGBM] [Debug] Trained a tree with leaves = 525 and depth = 17\n"
     ]
    },
    {
     "name": "stdout",
     "output_type": "stream",
     "text": [
      "[LightGBM] [Debug] Trained a tree with leaves = 525 and depth = 18\n",
      "[LightGBM] [Debug] Trained a tree with leaves = 525 and depth = 21\n",
      "[LightGBM] [Debug] Trained a tree with leaves = 525 and depth = 20\n",
      "[LightGBM] [Debug] Trained a tree with leaves = 525 and depth = 19\n",
      "[LightGBM] [Debug] Trained a tree with leaves = 525 and depth = 20\n",
      "[LightGBM] [Debug] Trained a tree with leaves = 525 and depth = 21\n",
      "[LightGBM] [Debug] Trained a tree with leaves = 525 and depth = 20\n",
      "[LightGBM] [Debug] Trained a tree with leaves = 525 and depth = 25\n",
      "[LightGBM] [Debug] Trained a tree with leaves = 525 and depth = 22\n",
      "[LightGBM] [Debug] Trained a tree with leaves = 525 and depth = 22\n",
      "[LightGBM] [Debug] Trained a tree with leaves = 525 and depth = 28\n",
      "[LightGBM] [Debug] Trained a tree with leaves = 525 and depth = 27\n",
      "[LightGBM] [Debug] Trained a tree with leaves = 525 and depth = 31\n",
      "[LightGBM] [Debug] Trained a tree with leaves = 525 and depth = 26\n",
      "[LightGBM] [Debug] Trained a tree with leaves = 525 and depth = 26\n",
      "[LightGBM] [Debug] Trained a tree with leaves = 525 and depth = 26\n",
      "[LightGBM] [Debug] Trained a tree with leaves = 525 and depth = 24\n",
      "[LightGBM] [Debug] Trained a tree with leaves = 525 and depth = 30\n",
      "[LightGBM] [Debug] Trained a tree with leaves = 525 and depth = 32\n",
      "[LightGBM] [Debug] Trained a tree with leaves = 525 and depth = 30\n",
      "[LightGBM] [Debug] Trained a tree with leaves = 525 and depth = 29\n",
      "[LightGBM] [Debug] Trained a tree with leaves = 525 and depth = 34\n",
      "[LightGBM] [Debug] Trained a tree with leaves = 525 and depth = 29\n",
      "[LightGBM] [Debug] Trained a tree with leaves = 525 and depth = 24\n",
      "[LightGBM] [Debug] Trained a tree with leaves = 525 and depth = 33\n",
      "[LightGBM] [Debug] Trained a tree with leaves = 525 and depth = 32\n",
      "[LightGBM] [Debug] Trained a tree with leaves = 525 and depth = 32\n",
      "[LightGBM] [Debug] Trained a tree with leaves = 525 and depth = 38\n",
      "[LightGBM] [Debug] Trained a tree with leaves = 525 and depth = 29\n",
      "[LightGBM] [Debug] Trained a tree with leaves = 525 and depth = 23\n",
      "[LightGBM] [Debug] Trained a tree with leaves = 525 and depth = 32\n",
      "[LightGBM] [Debug] Trained a tree with leaves = 525 and depth = 30\n",
      "[LightGBM] [Debug] Trained a tree with leaves = 525 and depth = 22\n",
      "[LightGBM] [Debug] Trained a tree with leaves = 525 and depth = 24\n",
      "[LightGBM] [Debug] Trained a tree with leaves = 525 and depth = 27\n",
      "[LightGBM] [Debug] Trained a tree with leaves = 525 and depth = 28\n",
      "[LightGBM] [Debug] Trained a tree with leaves = 525 and depth = 32\n",
      "[LightGBM] [Debug] Trained a tree with leaves = 525 and depth = 34\n",
      "[LightGBM] [Debug] Trained a tree with leaves = 525 and depth = 35\n",
      "[LightGBM] [Debug] Trained a tree with leaves = 525 and depth = 38\n",
      "[LightGBM] [Debug] Trained a tree with leaves = 525 and depth = 26\n",
      "[LightGBM] [Debug] Trained a tree with leaves = 525 and depth = 24\n",
      "[LightGBM] [Debug] Trained a tree with leaves = 525 and depth = 30\n",
      "[LightGBM] [Debug] Trained a tree with leaves = 525 and depth = 28\n",
      "[LightGBM] [Debug] Trained a tree with leaves = 525 and depth = 25\n",
      "[LightGBM] [Debug] Trained a tree with leaves = 525 and depth = 26\n",
      "[LightGBM] [Debug] Trained a tree with leaves = 525 and depth = 28\n",
      "[LightGBM] [Debug] Trained a tree with leaves = 525 and depth = 29\n",
      "[LightGBM] [Debug] Trained a tree with leaves = 525 and depth = 27\n",
      "[LightGBM] [Debug] Trained a tree with leaves = 525 and depth = 36\n",
      "[LightGBM] [Debug] Trained a tree with leaves = 525 and depth = 30\n",
      "[LightGBM] [Debug] Trained a tree with leaves = 525 and depth = 31\n",
      "[LightGBM] [Debug] Trained a tree with leaves = 525 and depth = 39\n",
      "[LightGBM] [Debug] Trained a tree with leaves = 525 and depth = 26\n",
      "[LightGBM] [Debug] Trained a tree with leaves = 525 and depth = 28\n",
      "[LightGBM] [Debug] Trained a tree with leaves = 525 and depth = 31\n",
      "[LightGBM] [Debug] Trained a tree with leaves = 525 and depth = 28\n",
      "[LightGBM] [Debug] Trained a tree with leaves = 525 and depth = 34\n",
      "[LightGBM] [Debug] Trained a tree with leaves = 525 and depth = 28\n",
      "[LightGBM] [Debug] Trained a tree with leaves = 525 and depth = 25\n",
      "[LightGBM] [Debug] Trained a tree with leaves = 525 and depth = 26\n",
      "[LightGBM] [Debug] Trained a tree with leaves = 525 and depth = 35\n",
      "[LightGBM] [Debug] Trained a tree with leaves = 525 and depth = 30\n",
      "[LightGBM] [Debug] Trained a tree with leaves = 525 and depth = 32\n",
      "[LightGBM] [Debug] Trained a tree with leaves = 525 and depth = 27\n",
      "[LightGBM] [Debug] Trained a tree with leaves = 525 and depth = 24\n",
      "[LightGBM] [Debug] Trained a tree with leaves = 525 and depth = 30\n",
      "[LightGBM] [Debug] Trained a tree with leaves = 525 and depth = 27\n",
      "[LightGBM] [Debug] Trained a tree with leaves = 525 and depth = 24\n",
      "[LightGBM] [Debug] Trained a tree with leaves = 525 and depth = 31\n",
      "[LightGBM] [Debug] Trained a tree with leaves = 525 and depth = 28\n",
      "[LightGBM] [Debug] Trained a tree with leaves = 525 and depth = 29\n",
      "[LightGBM] [Debug] Trained a tree with leaves = 525 and depth = 34\n",
      "[LightGBM] [Debug] Trained a tree with leaves = 525 and depth = 37\n",
      "[LightGBM] [Debug] Trained a tree with leaves = 525 and depth = 33\n",
      "[LightGBM] [Debug] Trained a tree with leaves = 525 and depth = 31\n",
      "[LightGBM] [Debug] Trained a tree with leaves = 525 and depth = 38\n",
      "[LightGBM] [Debug] Trained a tree with leaves = 525 and depth = 28\n",
      "[LightGBM] [Debug] Trained a tree with leaves = 525 and depth = 27\n",
      "[LightGBM] [Debug] Trained a tree with leaves = 525 and depth = 29\n",
      "[CV 3/3] END force_col_wise=true, learning_rate=0.15, num_leaves=525;, score=-2564172.759 total time=   1.5s\n",
      "[LightGBM] [Debug] Dataset::GetMultiBinFromSparseFeatures: sparse rate 0.736408\n",
      "[LightGBM] [Info] Total Bins 590\n",
      "[LightGBM] [Info] Number of data points in the train set: 156780, number of used features: 10\n",
      "[LightGBM] [Info] Start training from score 4578.288391\n",
      "[LightGBM] [Debug] Trained a tree with leaves = 550 and depth = 13\n",
      "[LightGBM] [Debug] Trained a tree with leaves = 550 and depth = 15\n",
      "[LightGBM] [Debug] Trained a tree with leaves = 550 and depth = 15\n",
      "[LightGBM] [Debug] Trained a tree with leaves = 550 and depth = 14\n",
      "[LightGBM] [Debug] Trained a tree with leaves = 550 and depth = 15\n",
      "[LightGBM] [Debug] Trained a tree with leaves = 550 and depth = 15\n",
      "[LightGBM] [Debug] Trained a tree with leaves = 550 and depth = 15\n",
      "[LightGBM] [Debug] Trained a tree with leaves = 550 and depth = 19\n",
      "[LightGBM] [Debug] Trained a tree with leaves = 550 and depth = 16\n",
      "[LightGBM] [Debug] Trained a tree with leaves = 550 and depth = 16\n",
      "[LightGBM] [Debug] Trained a tree with leaves = 550 and depth = 16\n",
      "[LightGBM] [Debug] Trained a tree with leaves = 550 and depth = 17\n",
      "[LightGBM] [Debug] Trained a tree with leaves = 550 and depth = 17\n",
      "[LightGBM] [Debug] Trained a tree with leaves = 550 and depth = 17\n",
      "[LightGBM] [Debug] Trained a tree with leaves = 550 and depth = 18\n",
      "[LightGBM] [Debug] Trained a tree with leaves = 550 and depth = 18\n",
      "[LightGBM] [Debug] Trained a tree with leaves = 550 and depth = 20\n",
      "[LightGBM] [Debug] Trained a tree with leaves = 550 and depth = 17\n",
      "[LightGBM] [Debug] Trained a tree with leaves = 550 and depth = 21\n",
      "[LightGBM] [Debug] Trained a tree with leaves = 550 and depth = 17\n",
      "[LightGBM] [Debug] Trained a tree with leaves = 550 and depth = 20\n",
      "[LightGBM] [Debug] Trained a tree with leaves = 550 and depth = 21\n",
      "[LightGBM] [Debug] Trained a tree with leaves = 550 and depth = 23\n",
      "[LightGBM] [Debug] Trained a tree with leaves = 550 and depth = 21\n",
      "[LightGBM] [Debug] Trained a tree with leaves = 550 and depth = 20\n",
      "[LightGBM] [Debug] Trained a tree with leaves = 550 and depth = 23\n",
      "[LightGBM] [Debug] Trained a tree with leaves = 550 and depth = 23\n",
      "[LightGBM] [Debug] Trained a tree with leaves = 550 and depth = 24\n",
      "[LightGBM] [Debug] Trained a tree with leaves = 550 and depth = 25\n",
      "[LightGBM] [Debug] Trained a tree with leaves = 550 and depth = 27\n",
      "[LightGBM] [Debug] Trained a tree with leaves = 550 and depth = 23\n",
      "[LightGBM] [Debug] Trained a tree with leaves = 550 and depth = 23\n",
      "[LightGBM] [Debug] Trained a tree with leaves = 550 and depth = 24\n",
      "[LightGBM] [Debug] Trained a tree with leaves = 550 and depth = 27\n",
      "[LightGBM] [Debug] Trained a tree with leaves = 550 and depth = 24\n",
      "[LightGBM] [Debug] Trained a tree with leaves = 550 and depth = 24\n",
      "[LightGBM] [Debug] Trained a tree with leaves = 550 and depth = 25\n",
      "[LightGBM] [Debug] Trained a tree with leaves = 550 and depth = 28\n",
      "[LightGBM] [Debug] Trained a tree with leaves = 550 and depth = 23\n",
      "[LightGBM] [Debug] Trained a tree with leaves = 550 and depth = 27\n",
      "[LightGBM] [Debug] Trained a tree with leaves = 550 and depth = 30\n",
      "[LightGBM] [Debug] Trained a tree with leaves = 550 and depth = 27\n",
      "[LightGBM] [Debug] Trained a tree with leaves = 550 and depth = 29\n",
      "[LightGBM] [Debug] Trained a tree with leaves = 550 and depth = 30\n",
      "[LightGBM] [Debug] Trained a tree with leaves = 550 and depth = 29\n",
      "[LightGBM] [Debug] Trained a tree with leaves = 550 and depth = 33\n",
      "[LightGBM] [Debug] Trained a tree with leaves = 550 and depth = 36\n",
      "[LightGBM] [Debug] Trained a tree with leaves = 550 and depth = 31\n",
      "[LightGBM] [Debug] Trained a tree with leaves = 550 and depth = 29\n",
      "[LightGBM] [Debug] Trained a tree with leaves = 550 and depth = 33\n"
     ]
    },
    {
     "name": "stdout",
     "output_type": "stream",
     "text": [
      "[LightGBM] [Debug] Trained a tree with leaves = 550 and depth = 27\n",
      "[LightGBM] [Debug] Trained a tree with leaves = 550 and depth = 27\n",
      "[LightGBM] [Debug] Trained a tree with leaves = 550 and depth = 24\n",
      "[LightGBM] [Debug] Trained a tree with leaves = 550 and depth = 24\n",
      "[LightGBM] [Debug] Trained a tree with leaves = 550 and depth = 26\n",
      "[LightGBM] [Debug] Trained a tree with leaves = 550 and depth = 32\n",
      "[LightGBM] [Debug] Trained a tree with leaves = 550 and depth = 33\n",
      "[LightGBM] [Debug] Trained a tree with leaves = 550 and depth = 35\n",
      "[LightGBM] [Debug] Trained a tree with leaves = 550 and depth = 31\n",
      "[LightGBM] [Debug] Trained a tree with leaves = 550 and depth = 23\n",
      "[LightGBM] [Debug] Trained a tree with leaves = 550 and depth = 26\n",
      "[LightGBM] [Debug] Trained a tree with leaves = 550 and depth = 31\n",
      "[LightGBM] [Debug] Trained a tree with leaves = 550 and depth = 38\n",
      "[LightGBM] [Debug] Trained a tree with leaves = 550 and depth = 26\n",
      "[LightGBM] [Debug] Trained a tree with leaves = 550 and depth = 33\n",
      "[LightGBM] [Debug] Trained a tree with leaves = 550 and depth = 28\n",
      "[LightGBM] [Debug] Trained a tree with leaves = 550 and depth = 33\n",
      "[LightGBM] [Debug] Trained a tree with leaves = 550 and depth = 32\n",
      "[LightGBM] [Debug] Trained a tree with leaves = 550 and depth = 41\n",
      "[LightGBM] [Debug] Trained a tree with leaves = 550 and depth = 24\n",
      "[LightGBM] [Debug] Trained a tree with leaves = 550 and depth = 33\n",
      "[LightGBM] [Debug] Trained a tree with leaves = 550 and depth = 24\n",
      "[LightGBM] [Debug] Trained a tree with leaves = 550 and depth = 32\n",
      "[LightGBM] [Debug] Trained a tree with leaves = 550 and depth = 26\n",
      "[LightGBM] [Debug] Trained a tree with leaves = 550 and depth = 36\n",
      "[LightGBM] [Debug] Trained a tree with leaves = 550 and depth = 26\n",
      "[LightGBM] [Debug] Trained a tree with leaves = 550 and depth = 25\n",
      "[LightGBM] [Debug] Trained a tree with leaves = 550 and depth = 26\n",
      "[LightGBM] [Debug] Trained a tree with leaves = 550 and depth = 40\n",
      "[LightGBM] [Debug] Trained a tree with leaves = 550 and depth = 29\n",
      "[LightGBM] [Debug] Trained a tree with leaves = 550 and depth = 32\n",
      "[LightGBM] [Debug] Trained a tree with leaves = 550 and depth = 31\n",
      "[LightGBM] [Debug] Trained a tree with leaves = 550 and depth = 30\n",
      "[LightGBM] [Debug] Trained a tree with leaves = 550 and depth = 25\n",
      "[LightGBM] [Debug] Trained a tree with leaves = 550 and depth = 32\n",
      "[LightGBM] [Debug] Trained a tree with leaves = 550 and depth = 28\n",
      "[LightGBM] [Debug] Trained a tree with leaves = 550 and depth = 24\n",
      "[LightGBM] [Debug] Trained a tree with leaves = 550 and depth = 26\n",
      "[LightGBM] [Debug] Trained a tree with leaves = 550 and depth = 25\n",
      "[LightGBM] [Debug] Trained a tree with leaves = 550 and depth = 30\n",
      "[LightGBM] [Debug] Trained a tree with leaves = 550 and depth = 25\n",
      "[LightGBM] [Debug] Trained a tree with leaves = 550 and depth = 30\n",
      "[LightGBM] [Debug] Trained a tree with leaves = 550 and depth = 37\n",
      "[LightGBM] [Debug] Trained a tree with leaves = 550 and depth = 27\n",
      "[LightGBM] [Debug] Trained a tree with leaves = 550 and depth = 27\n",
      "[LightGBM] [Debug] Trained a tree with leaves = 550 and depth = 29\n",
      "[LightGBM] [Debug] Trained a tree with leaves = 550 and depth = 28\n",
      "[LightGBM] [Debug] Trained a tree with leaves = 550 and depth = 27\n",
      "[LightGBM] [Debug] Trained a tree with leaves = 550 and depth = 27\n",
      "[LightGBM] [Debug] Trained a tree with leaves = 550 and depth = 28\n",
      "[CV 1/3] END force_col_wise=true, learning_rate=0.15, num_leaves=550;, score=-2609551.404 total time=   1.5s\n",
      "[LightGBM] [Debug] Dataset::GetMultiBinFromSparseFeatures: sparse rate 0.736609\n",
      "[LightGBM] [Info] Total Bins 593\n",
      "[LightGBM] [Info] Number of data points in the train set: 156780, number of used features: 10\n",
      "[LightGBM] [Info] Start training from score 4585.264925\n",
      "[LightGBM] [Debug] Trained a tree with leaves = 550 and depth = 15\n",
      "[LightGBM] [Debug] Trained a tree with leaves = 550 and depth = 14\n",
      "[LightGBM] [Debug] Trained a tree with leaves = 550 and depth = 14\n",
      "[LightGBM] [Debug] Trained a tree with leaves = 550 and depth = 14\n",
      "[LightGBM] [Debug] Trained a tree with leaves = 550 and depth = 14\n",
      "[LightGBM] [Debug] Trained a tree with leaves = 550 and depth = 15\n",
      "[LightGBM] [Debug] Trained a tree with leaves = 550 and depth = 16\n",
      "[LightGBM] [Debug] Trained a tree with leaves = 550 and depth = 15\n",
      "[LightGBM] [Debug] Trained a tree with leaves = 550 and depth = 16\n",
      "[LightGBM] [Debug] Trained a tree with leaves = 550 and depth = 16\n",
      "[LightGBM] [Debug] Trained a tree with leaves = 550 and depth = 16\n",
      "[LightGBM] [Debug] Trained a tree with leaves = 550 and depth = 17\n",
      "[LightGBM] [Debug] Trained a tree with leaves = 550 and depth = 16\n",
      "[LightGBM] [Debug] Trained a tree with leaves = 550 and depth = 16\n",
      "[LightGBM] [Debug] Trained a tree with leaves = 550 and depth = 19\n",
      "[LightGBM] [Debug] Trained a tree with leaves = 550 and depth = 17\n",
      "[LightGBM] [Debug] Trained a tree with leaves = 550 and depth = 19\n",
      "[LightGBM] [Debug] Trained a tree with leaves = 550 and depth = 18\n",
      "[LightGBM] [Debug] Trained a tree with leaves = 550 and depth = 17\n",
      "[LightGBM] [Debug] Trained a tree with leaves = 550 and depth = 19\n",
      "[LightGBM] [Debug] Trained a tree with leaves = 550 and depth = 20\n",
      "[LightGBM] [Debug] Trained a tree with leaves = 550 and depth = 20\n",
      "[LightGBM] [Debug] Trained a tree with leaves = 550 and depth = 21\n",
      "[LightGBM] [Debug] Trained a tree with leaves = 550 and depth = 17\n",
      "[LightGBM] [Debug] Trained a tree with leaves = 550 and depth = 23\n",
      "[LightGBM] [Debug] Trained a tree with leaves = 550 and depth = 28\n",
      "[LightGBM] [Debug] Trained a tree with leaves = 550 and depth = 26\n",
      "[LightGBM] [Debug] Trained a tree with leaves = 550 and depth = 25\n",
      "[LightGBM] [Debug] Trained a tree with leaves = 550 and depth = 25\n",
      "[LightGBM] [Debug] Trained a tree with leaves = 550 and depth = 24\n",
      "[LightGBM] [Debug] Trained a tree with leaves = 550 and depth = 23\n",
      "[LightGBM] [Debug] Trained a tree with leaves = 550 and depth = 22\n",
      "[LightGBM] [Debug] Trained a tree with leaves = 550 and depth = 30\n",
      "[LightGBM] [Debug] Trained a tree with leaves = 550 and depth = 23\n",
      "[LightGBM] [Debug] Trained a tree with leaves = 550 and depth = 27\n",
      "[LightGBM] [Debug] Trained a tree with leaves = 550 and depth = 31\n",
      "[LightGBM] [Debug] Trained a tree with leaves = 550 and depth = 27\n",
      "[LightGBM] [Debug] Trained a tree with leaves = 550 and depth = 37\n",
      "[LightGBM] [Debug] Trained a tree with leaves = 550 and depth = 25\n",
      "[LightGBM] [Debug] Trained a tree with leaves = 550 and depth = 31\n",
      "[LightGBM] [Debug] Trained a tree with leaves = 550 and depth = 29\n",
      "[LightGBM] [Debug] Trained a tree with leaves = 550 and depth = 26\n",
      "[LightGBM] [Debug] Trained a tree with leaves = 550 and depth = 30\n",
      "[LightGBM] [Debug] Trained a tree with leaves = 550 and depth = 27\n",
      "[LightGBM] [Debug] Trained a tree with leaves = 550 and depth = 27\n",
      "[LightGBM] [Debug] Trained a tree with leaves = 550 and depth = 31\n",
      "[LightGBM] [Debug] Trained a tree with leaves = 550 and depth = 27\n",
      "[LightGBM] [Debug] Trained a tree with leaves = 550 and depth = 35\n",
      "[LightGBM] [Debug] Trained a tree with leaves = 550 and depth = 32\n",
      "[LightGBM] [Debug] Trained a tree with leaves = 550 and depth = 28\n",
      "[LightGBM] [Debug] Trained a tree with leaves = 550 and depth = 27\n",
      "[LightGBM] [Debug] Trained a tree with leaves = 550 and depth = 32\n",
      "[LightGBM] [Debug] Trained a tree with leaves = 550 and depth = 24\n",
      "[LightGBM] [Debug] Trained a tree with leaves = 550 and depth = 23\n",
      "[LightGBM] [Debug] Trained a tree with leaves = 550 and depth = 25\n",
      "[LightGBM] [Debug] Trained a tree with leaves = 550 and depth = 24\n",
      "[LightGBM] [Debug] Trained a tree with leaves = 550 and depth = 31\n",
      "[LightGBM] [Debug] Trained a tree with leaves = 550 and depth = 32\n",
      "[LightGBM] [Debug] Trained a tree with leaves = 550 and depth = 23\n",
      "[LightGBM] [Debug] Trained a tree with leaves = 550 and depth = 29\n",
      "[LightGBM] [Debug] Trained a tree with leaves = 550 and depth = 27\n",
      "[LightGBM] [Debug] Trained a tree with leaves = 550 and depth = 27\n",
      "[LightGBM] [Debug] Trained a tree with leaves = 550 and depth = 31\n",
      "[LightGBM] [Debug] Trained a tree with leaves = 550 and depth = 29\n",
      "[LightGBM] [Debug] Trained a tree with leaves = 550 and depth = 41\n",
      "[LightGBM] [Debug] Trained a tree with leaves = 550 and depth = 29\n",
      "[LightGBM] [Debug] Trained a tree with leaves = 550 and depth = 24\n",
      "[LightGBM] [Debug] Trained a tree with leaves = 550 and depth = 33\n",
      "[LightGBM] [Debug] Trained a tree with leaves = 550 and depth = 37\n",
      "[LightGBM] [Debug] Trained a tree with leaves = 550 and depth = 31\n",
      "[LightGBM] [Debug] Trained a tree with leaves = 550 and depth = 25\n",
      "[LightGBM] [Debug] Trained a tree with leaves = 550 and depth = 25\n",
      "[LightGBM] [Debug] Trained a tree with leaves = 550 and depth = 34\n",
      "[LightGBM] [Debug] Trained a tree with leaves = 550 and depth = 26\n",
      "[LightGBM] [Debug] Trained a tree with leaves = 550 and depth = 25\n",
      "[LightGBM] [Debug] Trained a tree with leaves = 550 and depth = 25\n",
      "[LightGBM] [Debug] Trained a tree with leaves = 550 and depth = 30\n",
      "[LightGBM] [Debug] Trained a tree with leaves = 550 and depth = 27\n"
     ]
    },
    {
     "name": "stdout",
     "output_type": "stream",
     "text": [
      "[LightGBM] [Debug] Trained a tree with leaves = 550 and depth = 32\n",
      "[LightGBM] [Debug] Trained a tree with leaves = 550 and depth = 27\n",
      "[LightGBM] [Debug] Trained a tree with leaves = 550 and depth = 27\n",
      "[LightGBM] [Debug] Trained a tree with leaves = 550 and depth = 33\n",
      "[LightGBM] [Debug] Trained a tree with leaves = 550 and depth = 26\n",
      "[LightGBM] [Debug] Trained a tree with leaves = 550 and depth = 29\n",
      "[LightGBM] [Debug] Trained a tree with leaves = 550 and depth = 27\n",
      "[LightGBM] [Debug] Trained a tree with leaves = 550 and depth = 38\n",
      "[LightGBM] [Debug] Trained a tree with leaves = 550 and depth = 30\n",
      "[LightGBM] [Debug] Trained a tree with leaves = 550 and depth = 26\n",
      "[LightGBM] [Debug] Trained a tree with leaves = 550 and depth = 35\n",
      "[LightGBM] [Debug] Trained a tree with leaves = 550 and depth = 24\n",
      "[LightGBM] [Debug] Trained a tree with leaves = 550 and depth = 27\n",
      "[LightGBM] [Debug] Trained a tree with leaves = 550 and depth = 27\n",
      "[LightGBM] [Debug] Trained a tree with leaves = 550 and depth = 31\n",
      "[LightGBM] [Debug] Trained a tree with leaves = 550 and depth = 24\n",
      "[LightGBM] [Debug] Trained a tree with leaves = 550 and depth = 25\n",
      "[LightGBM] [Debug] Trained a tree with leaves = 550 and depth = 28\n",
      "[LightGBM] [Debug] Trained a tree with leaves = 550 and depth = 30\n",
      "[LightGBM] [Debug] Trained a tree with leaves = 550 and depth = 36\n",
      "[LightGBM] [Debug] Trained a tree with leaves = 550 and depth = 35\n",
      "[LightGBM] [Debug] Trained a tree with leaves = 550 and depth = 35\n",
      "[CV 2/3] END force_col_wise=true, learning_rate=0.15, num_leaves=550;, score=-2665322.065 total time=   1.6s\n",
      "[LightGBM] [Debug] Dataset::GetMultiBinFromSparseFeatures: sparse rate 0.737074\n",
      "[LightGBM] [Info] Total Bins 594\n",
      "[LightGBM] [Info] Number of data points in the train set: 156780, number of used features: 10\n",
      "[LightGBM] [Info] Start training from score 4577.614511\n",
      "[LightGBM] [Debug] Trained a tree with leaves = 550 and depth = 14\n",
      "[LightGBM] [Debug] Trained a tree with leaves = 550 and depth = 14\n",
      "[LightGBM] [Debug] Trained a tree with leaves = 550 and depth = 13\n",
      "[LightGBM] [Debug] Trained a tree with leaves = 550 and depth = 15\n",
      "[LightGBM] [Debug] Trained a tree with leaves = 550 and depth = 15\n",
      "[LightGBM] [Debug] Trained a tree with leaves = 550 and depth = 15\n",
      "[LightGBM] [Debug] Trained a tree with leaves = 550 and depth = 16\n",
      "[LightGBM] [Debug] Trained a tree with leaves = 550 and depth = 15\n",
      "[LightGBM] [Debug] Trained a tree with leaves = 550 and depth = 17\n",
      "[LightGBM] [Debug] Trained a tree with leaves = 550 and depth = 17\n",
      "[LightGBM] [Debug] Trained a tree with leaves = 550 and depth = 16\n",
      "[LightGBM] [Debug] Trained a tree with leaves = 550 and depth = 16\n",
      "[LightGBM] [Debug] Trained a tree with leaves = 550 and depth = 16\n",
      "[LightGBM] [Debug] Trained a tree with leaves = 550 and depth = 18\n",
      "[LightGBM] [Debug] Trained a tree with leaves = 550 and depth = 18\n",
      "[LightGBM] [Debug] Trained a tree with leaves = 550 and depth = 16\n",
      "[LightGBM] [Debug] Trained a tree with leaves = 550 and depth = 23\n",
      "[LightGBM] [Debug] Trained a tree with leaves = 550 and depth = 17\n",
      "[LightGBM] [Debug] Trained a tree with leaves = 550 and depth = 21\n",
      "[LightGBM] [Debug] Trained a tree with leaves = 550 and depth = 19\n",
      "[LightGBM] [Debug] Trained a tree with leaves = 550 and depth = 19\n",
      "[LightGBM] [Debug] Trained a tree with leaves = 550 and depth = 20\n",
      "[LightGBM] [Debug] Trained a tree with leaves = 550 and depth = 21\n",
      "[LightGBM] [Debug] Trained a tree with leaves = 550 and depth = 25\n",
      "[LightGBM] [Debug] Trained a tree with leaves = 550 and depth = 21\n",
      "[LightGBM] [Debug] Trained a tree with leaves = 550 and depth = 27\n",
      "[LightGBM] [Debug] Trained a tree with leaves = 550 and depth = 20\n",
      "[LightGBM] [Debug] Trained a tree with leaves = 550 and depth = 22\n",
      "[LightGBM] [Debug] Trained a tree with leaves = 550 and depth = 24\n",
      "[LightGBM] [Debug] Trained a tree with leaves = 550 and depth = 25\n",
      "[LightGBM] [Debug] Trained a tree with leaves = 550 and depth = 22\n",
      "[LightGBM] [Debug] Trained a tree with leaves = 550 and depth = 22\n",
      "[LightGBM] [Debug] Trained a tree with leaves = 550 and depth = 23\n",
      "[LightGBM] [Debug] Trained a tree with leaves = 550 and depth = 27\n",
      "[LightGBM] [Debug] Trained a tree with leaves = 550 and depth = 24\n",
      "[LightGBM] [Debug] Trained a tree with leaves = 550 and depth = 30\n",
      "[LightGBM] [Debug] Trained a tree with leaves = 550 and depth = 30\n",
      "[LightGBM] [Debug] Trained a tree with leaves = 550 and depth = 34\n",
      "[LightGBM] [Debug] Trained a tree with leaves = 550 and depth = 43\n",
      "[LightGBM] [Debug] Trained a tree with leaves = 550 and depth = 31\n",
      "[LightGBM] [Debug] Trained a tree with leaves = 550 and depth = 28\n",
      "[LightGBM] [Debug] Trained a tree with leaves = 550 and depth = 25\n",
      "[LightGBM] [Debug] Trained a tree with leaves = 550 and depth = 30\n",
      "[LightGBM] [Debug] Trained a tree with leaves = 550 and depth = 34\n",
      "[LightGBM] [Debug] Trained a tree with leaves = 550 and depth = 22\n",
      "[LightGBM] [Debug] Trained a tree with leaves = 550 and depth = 29\n",
      "[LightGBM] [Debug] Trained a tree with leaves = 550 and depth = 33\n",
      "[LightGBM] [Debug] Trained a tree with leaves = 550 and depth = 28\n",
      "[LightGBM] [Debug] Trained a tree with leaves = 550 and depth = 32\n",
      "[LightGBM] [Debug] Trained a tree with leaves = 550 and depth = 28\n",
      "[LightGBM] [Debug] Trained a tree with leaves = 550 and depth = 34\n",
      "[LightGBM] [Debug] Trained a tree with leaves = 550 and depth = 32\n",
      "[LightGBM] [Debug] Trained a tree with leaves = 550 and depth = 30\n",
      "[LightGBM] [Debug] Trained a tree with leaves = 550 and depth = 35\n",
      "[LightGBM] [Debug] Trained a tree with leaves = 550 and depth = 26\n",
      "[LightGBM] [Debug] Trained a tree with leaves = 550 and depth = 29\n",
      "[LightGBM] [Debug] Trained a tree with leaves = 550 and depth = 27\n",
      "[LightGBM] [Debug] Trained a tree with leaves = 550 and depth = 33\n",
      "[LightGBM] [Debug] Trained a tree with leaves = 550 and depth = 32\n",
      "[LightGBM] [Debug] Trained a tree with leaves = 550 and depth = 26\n",
      "[LightGBM] [Debug] Trained a tree with leaves = 550 and depth = 28\n",
      "[LightGBM] [Debug] Trained a tree with leaves = 550 and depth = 31\n",
      "[LightGBM] [Debug] Trained a tree with leaves = 550 and depth = 34\n",
      "[LightGBM] [Debug] Trained a tree with leaves = 550 and depth = 32\n",
      "[LightGBM] [Debug] Trained a tree with leaves = 550 and depth = 24\n",
      "[LightGBM] [Debug] Trained a tree with leaves = 550 and depth = 25\n",
      "[LightGBM] [Debug] Trained a tree with leaves = 550 and depth = 26\n",
      "[LightGBM] [Debug] Trained a tree with leaves = 550 and depth = 37\n",
      "[LightGBM] [Debug] Trained a tree with leaves = 550 and depth = 31\n",
      "[LightGBM] [Debug] Trained a tree with leaves = 550 and depth = 29\n",
      "[LightGBM] [Debug] Trained a tree with leaves = 550 and depth = 30\n",
      "[LightGBM] [Debug] Trained a tree with leaves = 550 and depth = 26\n",
      "[LightGBM] [Debug] Trained a tree with leaves = 550 and depth = 31\n",
      "[LightGBM] [Debug] Trained a tree with leaves = 550 and depth = 23\n",
      "[LightGBM] [Debug] Trained a tree with leaves = 550 and depth = 36\n",
      "[LightGBM] [Debug] Trained a tree with leaves = 550 and depth = 31\n",
      "[LightGBM] [Debug] Trained a tree with leaves = 550 and depth = 27\n",
      "[LightGBM] [Debug] Trained a tree with leaves = 550 and depth = 29\n",
      "[LightGBM] [Debug] Trained a tree with leaves = 550 and depth = 23\n",
      "[LightGBM] [Debug] Trained a tree with leaves = 550 and depth = 31\n",
      "[LightGBM] [Debug] Trained a tree with leaves = 550 and depth = 27\n",
      "[LightGBM] [Debug] Trained a tree with leaves = 550 and depth = 35\n",
      "[LightGBM] [Debug] Trained a tree with leaves = 550 and depth = 25\n",
      "[LightGBM] [Debug] Trained a tree with leaves = 550 and depth = 29\n",
      "[LightGBM] [Debug] Trained a tree with leaves = 550 and depth = 34\n",
      "[LightGBM] [Debug] Trained a tree with leaves = 550 and depth = 22\n",
      "[LightGBM] [Debug] Trained a tree with leaves = 550 and depth = 30\n",
      "[LightGBM] [Debug] Trained a tree with leaves = 550 and depth = 32\n",
      "[LightGBM] [Debug] Trained a tree with leaves = 550 and depth = 27\n",
      "[LightGBM] [Debug] Trained a tree with leaves = 550 and depth = 28\n",
      "[LightGBM] [Debug] Trained a tree with leaves = 550 and depth = 29\n",
      "[LightGBM] [Debug] Trained a tree with leaves = 550 and depth = 32\n",
      "[LightGBM] [Debug] Trained a tree with leaves = 550 and depth = 28\n",
      "[LightGBM] [Debug] Trained a tree with leaves = 550 and depth = 35\n",
      "[LightGBM] [Debug] Trained a tree with leaves = 550 and depth = 38\n",
      "[LightGBM] [Debug] Trained a tree with leaves = 550 and depth = 32\n",
      "[LightGBM] [Debug] Trained a tree with leaves = 550 and depth = 34\n",
      "[LightGBM] [Debug] Trained a tree with leaves = 550 and depth = 28\n",
      "[LightGBM] [Debug] Trained a tree with leaves = 550 and depth = 27\n",
      "[LightGBM] [Debug] Trained a tree with leaves = 550 and depth = 27\n"
     ]
    },
    {
     "name": "stdout",
     "output_type": "stream",
     "text": [
      "[CV 3/3] END force_col_wise=true, learning_rate=0.15, num_leaves=550;, score=-2571838.567 total time=   1.5s\n",
      "[LightGBM] [Debug] Dataset::GetMultiBinFromSparseFeatures: sparse rate 0.736408\n",
      "[LightGBM] [Info] Total Bins 590\n",
      "[LightGBM] [Info] Number of data points in the train set: 156780, number of used features: 10\n",
      "[LightGBM] [Info] Start training from score 4578.288391\n",
      "[LightGBM] [Debug] Trained a tree with leaves = 575 and depth = 14\n",
      "[LightGBM] [Debug] Trained a tree with leaves = 575 and depth = 15\n",
      "[LightGBM] [Debug] Trained a tree with leaves = 575 and depth = 15\n",
      "[LightGBM] [Debug] Trained a tree with leaves = 575 and depth = 14\n",
      "[LightGBM] [Debug] Trained a tree with leaves = 575 and depth = 15\n",
      "[LightGBM] [Debug] Trained a tree with leaves = 575 and depth = 16\n",
      "[LightGBM] [Debug] Trained a tree with leaves = 575 and depth = 15\n",
      "[LightGBM] [Debug] Trained a tree with leaves = 575 and depth = 16\n",
      "[LightGBM] [Debug] Trained a tree with leaves = 575 and depth = 17\n",
      "[LightGBM] [Debug] Trained a tree with leaves = 575 and depth = 17\n",
      "[LightGBM] [Debug] Trained a tree with leaves = 575 and depth = 15\n",
      "[LightGBM] [Debug] Trained a tree with leaves = 575 and depth = 16\n",
      "[LightGBM] [Debug] Trained a tree with leaves = 575 and depth = 18\n",
      "[LightGBM] [Debug] Trained a tree with leaves = 575 and depth = 16\n",
      "[LightGBM] [Debug] Trained a tree with leaves = 575 and depth = 19\n",
      "[LightGBM] [Debug] Trained a tree with leaves = 575 and depth = 17\n",
      "[LightGBM] [Debug] Trained a tree with leaves = 575 and depth = 18\n",
      "[LightGBM] [Debug] Trained a tree with leaves = 575 and depth = 18\n",
      "[LightGBM] [Debug] Trained a tree with leaves = 575 and depth = 17\n",
      "[LightGBM] [Debug] Trained a tree with leaves = 575 and depth = 20\n",
      "[LightGBM] [Debug] Trained a tree with leaves = 575 and depth = 19\n",
      "[LightGBM] [Debug] Trained a tree with leaves = 575 and depth = 20\n",
      "[LightGBM] [Debug] Trained a tree with leaves = 575 and depth = 22\n",
      "[LightGBM] [Debug] Trained a tree with leaves = 575 and depth = 22\n",
      "[LightGBM] [Debug] Trained a tree with leaves = 575 and depth = 21\n",
      "[LightGBM] [Debug] Trained a tree with leaves = 575 and depth = 24\n",
      "[LightGBM] [Debug] Trained a tree with leaves = 575 and depth = 26\n",
      "[LightGBM] [Debug] Trained a tree with leaves = 575 and depth = 23\n",
      "[LightGBM] [Debug] Trained a tree with leaves = 575 and depth = 26\n",
      "[LightGBM] [Debug] Trained a tree with leaves = 575 and depth = 21\n",
      "[LightGBM] [Debug] Trained a tree with leaves = 575 and depth = 26\n",
      "[LightGBM] [Debug] Trained a tree with leaves = 575 and depth = 26\n",
      "[LightGBM] [Debug] Trained a tree with leaves = 575 and depth = 25\n",
      "[LightGBM] [Debug] Trained a tree with leaves = 575 and depth = 25\n",
      "[LightGBM] [Debug] Trained a tree with leaves = 575 and depth = 27\n",
      "[LightGBM] [Debug] Trained a tree with leaves = 575 and depth = 29\n",
      "[LightGBM] [Debug] Trained a tree with leaves = 575 and depth = 32\n",
      "[LightGBM] [Debug] Trained a tree with leaves = 575 and depth = 28\n",
      "[LightGBM] [Debug] Trained a tree with leaves = 575 and depth = 28\n",
      "[LightGBM] [Debug] Trained a tree with leaves = 575 and depth = 32\n",
      "[LightGBM] [Debug] Trained a tree with leaves = 575 and depth = 28\n",
      "[LightGBM] [Debug] Trained a tree with leaves = 575 and depth = 35\n",
      "[LightGBM] [Debug] Trained a tree with leaves = 575 and depth = 32\n",
      "[LightGBM] [Debug] Trained a tree with leaves = 575 and depth = 32\n",
      "[LightGBM] [Debug] Trained a tree with leaves = 575 and depth = 31\n",
      "[LightGBM] [Debug] Trained a tree with leaves = 575 and depth = 30\n",
      "[LightGBM] [Debug] Trained a tree with leaves = 575 and depth = 32\n",
      "[LightGBM] [Debug] Trained a tree with leaves = 575 and depth = 32\n",
      "[LightGBM] [Debug] Trained a tree with leaves = 575 and depth = 42\n",
      "[LightGBM] [Debug] Trained a tree with leaves = 575 and depth = 25\n",
      "[LightGBM] [Debug] Trained a tree with leaves = 575 and depth = 26\n",
      "[LightGBM] [Debug] Trained a tree with leaves = 575 and depth = 26\n",
      "[LightGBM] [Debug] Trained a tree with leaves = 575 and depth = 34\n",
      "[LightGBM] [Debug] Trained a tree with leaves = 575 and depth = 32\n",
      "[LightGBM] [Debug] Trained a tree with leaves = 575 and depth = 39\n",
      "[LightGBM] [Debug] Trained a tree with leaves = 575 and depth = 29\n",
      "[LightGBM] [Debug] Trained a tree with leaves = 575 and depth = 29\n",
      "[LightGBM] [Debug] Trained a tree with leaves = 575 and depth = 29\n",
      "[LightGBM] [Debug] Trained a tree with leaves = 575 and depth = 24\n",
      "[LightGBM] [Debug] Trained a tree with leaves = 575 and depth = 28\n",
      "[LightGBM] [Debug] Trained a tree with leaves = 575 and depth = 26\n",
      "[LightGBM] [Debug] Trained a tree with leaves = 575 and depth = 26\n",
      "[LightGBM] [Debug] Trained a tree with leaves = 575 and depth = 28\n",
      "[LightGBM] [Debug] Trained a tree with leaves = 575 and depth = 24\n",
      "[LightGBM] [Debug] Trained a tree with leaves = 575 and depth = 28\n",
      "[LightGBM] [Debug] Trained a tree with leaves = 575 and depth = 31\n",
      "[LightGBM] [Debug] Trained a tree with leaves = 575 and depth = 24\n",
      "[LightGBM] [Debug] Trained a tree with leaves = 575 and depth = 33\n",
      "[LightGBM] [Debug] Trained a tree with leaves = 575 and depth = 24\n",
      "[LightGBM] [Debug] Trained a tree with leaves = 575 and depth = 27\n",
      "[LightGBM] [Debug] Trained a tree with leaves = 575 and depth = 22\n",
      "[LightGBM] [Debug] Trained a tree with leaves = 575 and depth = 25\n",
      "[LightGBM] [Debug] Trained a tree with leaves = 575 and depth = 25\n",
      "[LightGBM] [Debug] Trained a tree with leaves = 575 and depth = 35\n",
      "[LightGBM] [Debug] Trained a tree with leaves = 575 and depth = 30\n",
      "[LightGBM] [Debug] Trained a tree with leaves = 575 and depth = 35\n",
      "[LightGBM] [Debug] Trained a tree with leaves = 575 and depth = 36\n",
      "[LightGBM] [Debug] Trained a tree with leaves = 575 and depth = 24\n",
      "[LightGBM] [Debug] Trained a tree with leaves = 575 and depth = 30\n",
      "[LightGBM] [Debug] Trained a tree with leaves = 575 and depth = 28\n",
      "[LightGBM] [Debug] Trained a tree with leaves = 575 and depth = 28\n",
      "[LightGBM] [Debug] Trained a tree with leaves = 575 and depth = 33\n",
      "[LightGBM] [Debug] Trained a tree with leaves = 575 and depth = 26\n",
      "[LightGBM] [Debug] Trained a tree with leaves = 575 and depth = 33\n",
      "[LightGBM] [Debug] Trained a tree with leaves = 575 and depth = 26\n",
      "[LightGBM] [Debug] Trained a tree with leaves = 575 and depth = 30\n",
      "[LightGBM] [Debug] Trained a tree with leaves = 575 and depth = 30\n",
      "[LightGBM] [Debug] Trained a tree with leaves = 575 and depth = 30\n",
      "[LightGBM] [Debug] Trained a tree with leaves = 575 and depth = 26\n",
      "[LightGBM] [Debug] Trained a tree with leaves = 575 and depth = 30\n",
      "[LightGBM] [Debug] Trained a tree with leaves = 575 and depth = 32\n",
      "[LightGBM] [Debug] Trained a tree with leaves = 575 and depth = 26\n",
      "[LightGBM] [Debug] Trained a tree with leaves = 575 and depth = 39\n",
      "[LightGBM] [Debug] Trained a tree with leaves = 575 and depth = 32\n",
      "[LightGBM] [Debug] Trained a tree with leaves = 575 and depth = 31\n",
      "[LightGBM] [Debug] Trained a tree with leaves = 575 and depth = 25\n",
      "[LightGBM] [Debug] Trained a tree with leaves = 575 and depth = 29\n",
      "[LightGBM] [Debug] Trained a tree with leaves = 575 and depth = 31\n",
      "[LightGBM] [Debug] Trained a tree with leaves = 575 and depth = 36\n",
      "[LightGBM] [Debug] Trained a tree with leaves = 575 and depth = 24\n",
      "[CV 1/3] END force_col_wise=true, learning_rate=0.15, num_leaves=575;, score=-2621603.394 total time=   1.6s\n",
      "[LightGBM] [Debug] Dataset::GetMultiBinFromSparseFeatures: sparse rate 0.736609\n",
      "[LightGBM] [Info] Total Bins 593\n",
      "[LightGBM] [Info] Number of data points in the train set: 156780, number of used features: 10\n",
      "[LightGBM] [Info] Start training from score 4585.264925\n",
      "[LightGBM] [Debug] Trained a tree with leaves = 575 and depth = 15\n",
      "[LightGBM] [Debug] Trained a tree with leaves = 575 and depth = 15\n",
      "[LightGBM] [Debug] Trained a tree with leaves = 575 and depth = 14\n",
      "[LightGBM] [Debug] Trained a tree with leaves = 575 and depth = 14\n",
      "[LightGBM] [Debug] Trained a tree with leaves = 575 and depth = 14\n",
      "[LightGBM] [Debug] Trained a tree with leaves = 575 and depth = 15\n",
      "[LightGBM] [Debug] Trained a tree with leaves = 575 and depth = 15\n",
      "[LightGBM] [Debug] Trained a tree with leaves = 575 and depth = 16\n",
      "[LightGBM] [Debug] Trained a tree with leaves = 575 and depth = 16\n",
      "[LightGBM] [Debug] Trained a tree with leaves = 575 and depth = 17\n",
      "[LightGBM] [Debug] Trained a tree with leaves = 575 and depth = 16\n",
      "[LightGBM] [Debug] Trained a tree with leaves = 575 and depth = 18\n",
      "[LightGBM] [Debug] Trained a tree with leaves = 575 and depth = 20\n",
      "[LightGBM] [Debug] Trained a tree with leaves = 575 and depth = 19\n",
      "[LightGBM] [Debug] Trained a tree with leaves = 575 and depth = 17\n"
     ]
    },
    {
     "name": "stdout",
     "output_type": "stream",
     "text": [
      "[LightGBM] [Debug] Trained a tree with leaves = 575 and depth = 16\n",
      "[LightGBM] [Debug] Trained a tree with leaves = 575 and depth = 19\n",
      "[LightGBM] [Debug] Trained a tree with leaves = 575 and depth = 19\n",
      "[LightGBM] [Debug] Trained a tree with leaves = 575 and depth = 20\n",
      "[LightGBM] [Debug] Trained a tree with leaves = 575 and depth = 20\n",
      "[LightGBM] [Debug] Trained a tree with leaves = 575 and depth = 20\n",
      "[LightGBM] [Debug] Trained a tree with leaves = 575 and depth = 21\n",
      "[LightGBM] [Debug] Trained a tree with leaves = 575 and depth = 23\n",
      "[LightGBM] [Debug] Trained a tree with leaves = 575 and depth = 22\n",
      "[LightGBM] [Debug] Trained a tree with leaves = 575 and depth = 22\n",
      "[LightGBM] [Debug] Trained a tree with leaves = 575 and depth = 20\n",
      "[LightGBM] [Debug] Trained a tree with leaves = 575 and depth = 24\n",
      "[LightGBM] [Debug] Trained a tree with leaves = 575 and depth = 24\n",
      "[LightGBM] [Debug] Trained a tree with leaves = 575 and depth = 27\n",
      "[LightGBM] [Debug] Trained a tree with leaves = 575 and depth = 25\n",
      "[LightGBM] [Debug] Trained a tree with leaves = 575 and depth = 22\n",
      "[LightGBM] [Debug] Trained a tree with leaves = 575 and depth = 31\n",
      "[LightGBM] [Debug] Trained a tree with leaves = 575 and depth = 31\n",
      "[LightGBM] [Debug] Trained a tree with leaves = 575 and depth = 23\n",
      "[LightGBM] [Debug] Trained a tree with leaves = 575 and depth = 32\n",
      "[LightGBM] [Debug] Trained a tree with leaves = 575 and depth = 29\n",
      "[LightGBM] [Debug] Trained a tree with leaves = 575 and depth = 28\n",
      "[LightGBM] [Debug] Trained a tree with leaves = 575 and depth = 28\n",
      "[LightGBM] [Debug] Trained a tree with leaves = 575 and depth = 29\n",
      "[LightGBM] [Debug] Trained a tree with leaves = 575 and depth = 34\n",
      "[LightGBM] [Debug] Trained a tree with leaves = 575 and depth = 27\n",
      "[LightGBM] [Debug] Trained a tree with leaves = 575 and depth = 36\n",
      "[LightGBM] [Debug] Trained a tree with leaves = 575 and depth = 23\n",
      "[LightGBM] [Debug] Trained a tree with leaves = 575 and depth = 34\n",
      "[LightGBM] [Debug] Trained a tree with leaves = 575 and depth = 31\n",
      "[LightGBM] [Debug] Trained a tree with leaves = 575 and depth = 28\n",
      "[LightGBM] [Debug] Trained a tree with leaves = 575 and depth = 35\n",
      "[LightGBM] [Debug] Trained a tree with leaves = 575 and depth = 25\n",
      "[LightGBM] [Debug] Trained a tree with leaves = 575 and depth = 28\n",
      "[LightGBM] [Debug] Trained a tree with leaves = 575 and depth = 29\n",
      "[LightGBM] [Debug] Trained a tree with leaves = 575 and depth = 26\n",
      "[LightGBM] [Debug] Trained a tree with leaves = 575 and depth = 28\n",
      "[LightGBM] [Debug] Trained a tree with leaves = 575 and depth = 40\n",
      "[LightGBM] [Debug] Trained a tree with leaves = 575 and depth = 24\n",
      "[LightGBM] [Debug] Trained a tree with leaves = 575 and depth = 34\n",
      "[LightGBM] [Debug] Trained a tree with leaves = 575 and depth = 21\n",
      "[LightGBM] [Debug] Trained a tree with leaves = 575 and depth = 26\n",
      "[LightGBM] [Debug] Trained a tree with leaves = 575 and depth = 37\n",
      "[LightGBM] [Debug] Trained a tree with leaves = 575 and depth = 32\n",
      "[LightGBM] [Debug] Trained a tree with leaves = 575 and depth = 29\n",
      "[LightGBM] [Debug] Trained a tree with leaves = 575 and depth = 36\n",
      "[LightGBM] [Debug] Trained a tree with leaves = 575 and depth = 39\n",
      "[LightGBM] [Debug] Trained a tree with leaves = 575 and depth = 26\n",
      "[LightGBM] [Debug] Trained a tree with leaves = 575 and depth = 28\n",
      "[LightGBM] [Debug] Trained a tree with leaves = 575 and depth = 28\n",
      "[LightGBM] [Debug] Trained a tree with leaves = 575 and depth = 29\n",
      "[LightGBM] [Debug] Trained a tree with leaves = 575 and depth = 23\n",
      "[LightGBM] [Debug] Trained a tree with leaves = 575 and depth = 39\n",
      "[LightGBM] [Debug] Trained a tree with leaves = 575 and depth = 27\n",
      "[LightGBM] [Debug] Trained a tree with leaves = 575 and depth = 31\n",
      "[LightGBM] [Debug] Trained a tree with leaves = 575 and depth = 28\n",
      "[LightGBM] [Debug] Trained a tree with leaves = 575 and depth = 31\n",
      "[LightGBM] [Debug] Trained a tree with leaves = 575 and depth = 29\n",
      "[LightGBM] [Debug] Trained a tree with leaves = 575 and depth = 33\n",
      "[LightGBM] [Debug] Trained a tree with leaves = 575 and depth = 28\n",
      "[LightGBM] [Debug] Trained a tree with leaves = 575 and depth = 32\n",
      "[LightGBM] [Debug] Trained a tree with leaves = 575 and depth = 29\n",
      "[LightGBM] [Debug] Trained a tree with leaves = 575 and depth = 37\n",
      "[LightGBM] [Debug] Trained a tree with leaves = 575 and depth = 39\n",
      "[LightGBM] [Debug] Trained a tree with leaves = 575 and depth = 32\n",
      "[LightGBM] [Debug] Trained a tree with leaves = 575 and depth = 31\n",
      "[LightGBM] [Debug] Trained a tree with leaves = 575 and depth = 27\n",
      "[LightGBM] [Debug] Trained a tree with leaves = 575 and depth = 44\n",
      "[LightGBM] [Debug] Trained a tree with leaves = 575 and depth = 37\n",
      "[LightGBM] [Debug] Trained a tree with leaves = 575 and depth = 24\n",
      "[LightGBM] [Debug] Trained a tree with leaves = 575 and depth = 26\n",
      "[LightGBM] [Debug] Trained a tree with leaves = 575 and depth = 29\n",
      "[LightGBM] [Debug] Trained a tree with leaves = 575 and depth = 36\n",
      "[LightGBM] [Debug] Trained a tree with leaves = 575 and depth = 31\n",
      "[LightGBM] [Debug] Trained a tree with leaves = 575 and depth = 30\n",
      "[LightGBM] [Debug] Trained a tree with leaves = 575 and depth = 23\n",
      "[LightGBM] [Debug] Trained a tree with leaves = 575 and depth = 35\n",
      "[LightGBM] [Debug] Trained a tree with leaves = 575 and depth = 28\n",
      "[LightGBM] [Debug] Trained a tree with leaves = 575 and depth = 34\n",
      "[LightGBM] [Debug] Trained a tree with leaves = 575 and depth = 32\n",
      "[LightGBM] [Debug] Trained a tree with leaves = 575 and depth = 27\n",
      "[LightGBM] [Debug] Trained a tree with leaves = 575 and depth = 39\n",
      "[LightGBM] [Debug] Trained a tree with leaves = 575 and depth = 35\n",
      "[LightGBM] [Debug] Trained a tree with leaves = 575 and depth = 32\n",
      "[LightGBM] [Debug] Trained a tree with leaves = 575 and depth = 35\n",
      "[CV 2/3] END force_col_wise=true, learning_rate=0.15, num_leaves=575;, score=-2680871.918 total time=   1.8s\n",
      "[LightGBM] [Debug] Dataset::GetMultiBinFromSparseFeatures: sparse rate 0.737074\n",
      "[LightGBM] [Info] Total Bins 594\n",
      "[LightGBM] [Info] Number of data points in the train set: 156780, number of used features: 10\n",
      "[LightGBM] [Info] Start training from score 4577.614511\n",
      "[LightGBM] [Debug] Trained a tree with leaves = 575 and depth = 14\n",
      "[LightGBM] [Debug] Trained a tree with leaves = 575 and depth = 14\n",
      "[LightGBM] [Debug] Trained a tree with leaves = 575 and depth = 14\n",
      "[LightGBM] [Debug] Trained a tree with leaves = 575 and depth = 16\n",
      "[LightGBM] [Debug] Trained a tree with leaves = 575 and depth = 14\n",
      "[LightGBM] [Debug] Trained a tree with leaves = 575 and depth = 18\n",
      "[LightGBM] [Debug] Trained a tree with leaves = 575 and depth = 15\n",
      "[LightGBM] [Debug] Trained a tree with leaves = 575 and depth = 16\n",
      "[LightGBM] [Debug] Trained a tree with leaves = 575 and depth = 17\n",
      "[LightGBM] [Debug] Trained a tree with leaves = 575 and depth = 16\n",
      "[LightGBM] [Debug] Trained a tree with leaves = 575 and depth = 19\n",
      "[LightGBM] [Debug] Trained a tree with leaves = 575 and depth = 16\n",
      "[LightGBM] [Debug] Trained a tree with leaves = 575 and depth = 18\n",
      "[LightGBM] [Debug] Trained a tree with leaves = 575 and depth = 15\n",
      "[LightGBM] [Debug] Trained a tree with leaves = 575 and depth = 18\n",
      "[LightGBM] [Debug] Trained a tree with leaves = 575 and depth = 18\n",
      "[LightGBM] [Debug] Trained a tree with leaves = 575 and depth = 20\n",
      "[LightGBM] [Debug] Trained a tree with leaves = 575 and depth = 20\n",
      "[LightGBM] [Debug] Trained a tree with leaves = 575 and depth = 19\n",
      "[LightGBM] [Debug] Trained a tree with leaves = 575 and depth = 20\n",
      "[LightGBM] [Debug] Trained a tree with leaves = 575 and depth = 18\n",
      "[LightGBM] [Debug] Trained a tree with leaves = 575 and depth = 20\n",
      "[LightGBM] [Debug] Trained a tree with leaves = 575 and depth = 17\n",
      "[LightGBM] [Debug] Trained a tree with leaves = 575 and depth = 22\n",
      "[LightGBM] [Debug] Trained a tree with leaves = 575 and depth = 21\n",
      "[LightGBM] [Debug] Trained a tree with leaves = 575 and depth = 24\n",
      "[LightGBM] [Debug] Trained a tree with leaves = 575 and depth = 24\n",
      "[LightGBM] [Debug] Trained a tree with leaves = 575 and depth = 24\n",
      "[LightGBM] [Debug] Trained a tree with leaves = 575 and depth = 24\n",
      "[LightGBM] [Debug] Trained a tree with leaves = 575 and depth = 23\n",
      "[LightGBM] [Debug] Trained a tree with leaves = 575 and depth = 23\n",
      "[LightGBM] [Debug] Trained a tree with leaves = 575 and depth = 27\n",
      "[LightGBM] [Debug] Trained a tree with leaves = 575 and depth = 25\n",
      "[LightGBM] [Debug] Trained a tree with leaves = 575 and depth = 23\n"
     ]
    },
    {
     "name": "stdout",
     "output_type": "stream",
     "text": [
      "[LightGBM] [Debug] Trained a tree with leaves = 575 and depth = 29\n",
      "[LightGBM] [Debug] Trained a tree with leaves = 575 and depth = 22\n",
      "[LightGBM] [Debug] Trained a tree with leaves = 575 and depth = 34\n",
      "[LightGBM] [Debug] Trained a tree with leaves = 575 and depth = 28\n",
      "[LightGBM] [Debug] Trained a tree with leaves = 575 and depth = 27\n",
      "[LightGBM] [Debug] Trained a tree with leaves = 575 and depth = 27\n",
      "[LightGBM] [Debug] Trained a tree with leaves = 575 and depth = 29\n",
      "[LightGBM] [Debug] Trained a tree with leaves = 575 and depth = 31\n",
      "[LightGBM] [Debug] Trained a tree with leaves = 575 and depth = 25\n",
      "[LightGBM] [Debug] Trained a tree with leaves = 575 and depth = 40\n",
      "[LightGBM] [Debug] Trained a tree with leaves = 575 and depth = 34\n",
      "[LightGBM] [Debug] Trained a tree with leaves = 575 and depth = 26\n",
      "[LightGBM] [Debug] Trained a tree with leaves = 575 and depth = 37\n",
      "[LightGBM] [Debug] Trained a tree with leaves = 575 and depth = 33\n",
      "[LightGBM] [Debug] Trained a tree with leaves = 575 and depth = 30\n",
      "[LightGBM] [Debug] Trained a tree with leaves = 575 and depth = 33\n",
      "[LightGBM] [Debug] Trained a tree with leaves = 575 and depth = 27\n",
      "[LightGBM] [Debug] Trained a tree with leaves = 575 and depth = 29\n",
      "[LightGBM] [Debug] Trained a tree with leaves = 575 and depth = 29\n",
      "[LightGBM] [Debug] Trained a tree with leaves = 575 and depth = 28\n",
      "[LightGBM] [Debug] Trained a tree with leaves = 575 and depth = 27\n",
      "[LightGBM] [Debug] Trained a tree with leaves = 575 and depth = 31\n",
      "[LightGBM] [Debug] Trained a tree with leaves = 575 and depth = 31\n",
      "[LightGBM] [Debug] Trained a tree with leaves = 575 and depth = 32\n",
      "[LightGBM] [Debug] Trained a tree with leaves = 575 and depth = 30\n",
      "[LightGBM] [Debug] Trained a tree with leaves = 575 and depth = 29\n",
      "[LightGBM] [Debug] Trained a tree with leaves = 575 and depth = 30\n",
      "[LightGBM] [Debug] Trained a tree with leaves = 575 and depth = 35\n",
      "[LightGBM] [Debug] Trained a tree with leaves = 575 and depth = 33\n",
      "[LightGBM] [Debug] Trained a tree with leaves = 575 and depth = 26\n",
      "[LightGBM] [Debug] Trained a tree with leaves = 575 and depth = 34\n",
      "[LightGBM] [Debug] Trained a tree with leaves = 575 and depth = 48\n",
      "[LightGBM] [Debug] Trained a tree with leaves = 575 and depth = 27\n",
      "[LightGBM] [Debug] Trained a tree with leaves = 575 and depth = 31\n",
      "[LightGBM] [Debug] Trained a tree with leaves = 575 and depth = 28\n",
      "[LightGBM] [Debug] Trained a tree with leaves = 575 and depth = 28\n",
      "[LightGBM] [Debug] Trained a tree with leaves = 575 and depth = 27\n",
      "[LightGBM] [Debug] Trained a tree with leaves = 575 and depth = 40\n",
      "[LightGBM] [Debug] Trained a tree with leaves = 575 and depth = 27\n",
      "[LightGBM] [Debug] Trained a tree with leaves = 575 and depth = 37\n",
      "[LightGBM] [Debug] Trained a tree with leaves = 575 and depth = 42\n",
      "[LightGBM] [Debug] Trained a tree with leaves = 575 and depth = 25\n",
      "[LightGBM] [Debug] Trained a tree with leaves = 575 and depth = 27\n",
      "[LightGBM] [Debug] Trained a tree with leaves = 575 and depth = 28\n",
      "[LightGBM] [Debug] Trained a tree with leaves = 575 and depth = 30\n",
      "[LightGBM] [Debug] Trained a tree with leaves = 575 and depth = 34\n",
      "[LightGBM] [Debug] Trained a tree with leaves = 575 and depth = 37\n",
      "[LightGBM] [Debug] Trained a tree with leaves = 575 and depth = 26\n",
      "[LightGBM] [Debug] Trained a tree with leaves = 575 and depth = 34\n",
      "[LightGBM] [Debug] Trained a tree with leaves = 575 and depth = 30\n",
      "[LightGBM] [Debug] Trained a tree with leaves = 575 and depth = 37\n",
      "[LightGBM] [Debug] Trained a tree with leaves = 575 and depth = 24\n",
      "[LightGBM] [Debug] Trained a tree with leaves = 575 and depth = 29\n",
      "[LightGBM] [Debug] Trained a tree with leaves = 575 and depth = 34\n",
      "[LightGBM] [Debug] Trained a tree with leaves = 575 and depth = 26\n",
      "[LightGBM] [Debug] Trained a tree with leaves = 575 and depth = 28\n",
      "[LightGBM] [Debug] Trained a tree with leaves = 575 and depth = 37\n",
      "[LightGBM] [Debug] Trained a tree with leaves = 575 and depth = 37\n",
      "[LightGBM] [Debug] Trained a tree with leaves = 575 and depth = 27\n",
      "[LightGBM] [Debug] Trained a tree with leaves = 575 and depth = 34\n",
      "[LightGBM] [Debug] Trained a tree with leaves = 575 and depth = 32\n",
      "[LightGBM] [Debug] Trained a tree with leaves = 575 and depth = 26\n",
      "[LightGBM] [Debug] Trained a tree with leaves = 575 and depth = 36\n",
      "[LightGBM] [Debug] Trained a tree with leaves = 575 and depth = 33\n",
      "[LightGBM] [Debug] Trained a tree with leaves = 575 and depth = 25\n",
      "[LightGBM] [Debug] Trained a tree with leaves = 575 and depth = 33\n",
      "[CV 3/3] END force_col_wise=true, learning_rate=0.15, num_leaves=575;, score=-2582284.868 total time=   1.6s\n",
      "[LightGBM] [Debug] Dataset::GetMultiBinFromSparseFeatures: sparse rate 0.736408\n",
      "[LightGBM] [Info] Total Bins 590\n",
      "[LightGBM] [Info] Number of data points in the train set: 156780, number of used features: 10\n",
      "[LightGBM] [Info] Start training from score 4578.288391\n",
      "[LightGBM] [Debug] Trained a tree with leaves = 600 and depth = 14\n",
      "[LightGBM] [Debug] Trained a tree with leaves = 600 and depth = 15\n",
      "[LightGBM] [Debug] Trained a tree with leaves = 600 and depth = 15\n",
      "[LightGBM] [Debug] Trained a tree with leaves = 600 and depth = 15\n",
      "[LightGBM] [Debug] Trained a tree with leaves = 600 and depth = 14\n",
      "[LightGBM] [Debug] Trained a tree with leaves = 600 and depth = 16\n",
      "[LightGBM] [Debug] Trained a tree with leaves = 600 and depth = 15\n",
      "[LightGBM] [Debug] Trained a tree with leaves = 600 and depth = 16\n",
      "[LightGBM] [Debug] Trained a tree with leaves = 600 and depth = 16\n",
      "[LightGBM] [Debug] Trained a tree with leaves = 600 and depth = 16\n",
      "[LightGBM] [Debug] Trained a tree with leaves = 600 and depth = 19\n",
      "[LightGBM] [Debug] Trained a tree with leaves = 600 and depth = 19\n",
      "[LightGBM] [Debug] Trained a tree with leaves = 600 and depth = 17\n",
      "[LightGBM] [Debug] Trained a tree with leaves = 600 and depth = 19\n",
      "[LightGBM] [Debug] Trained a tree with leaves = 600 and depth = 18\n",
      "[LightGBM] [Debug] Trained a tree with leaves = 600 and depth = 17\n",
      "[LightGBM] [Debug] Trained a tree with leaves = 600 and depth = 20\n",
      "[LightGBM] [Debug] Trained a tree with leaves = 600 and depth = 18\n",
      "[LightGBM] [Debug] Trained a tree with leaves = 600 and depth = 20\n",
      "[LightGBM] [Debug] Trained a tree with leaves = 600 and depth = 21\n",
      "[LightGBM] [Debug] Trained a tree with leaves = 600 and depth = 21\n",
      "[LightGBM] [Debug] Trained a tree with leaves = 600 and depth = 21\n",
      "[LightGBM] [Debug] Trained a tree with leaves = 600 and depth = 23\n",
      "[LightGBM] [Debug] Trained a tree with leaves = 600 and depth = 21\n",
      "[LightGBM] [Debug] Trained a tree with leaves = 600 and depth = 23\n",
      "[LightGBM] [Debug] Trained a tree with leaves = 600 and depth = 23\n",
      "[LightGBM] [Debug] Trained a tree with leaves = 600 and depth = 24\n",
      "[LightGBM] [Debug] Trained a tree with leaves = 600 and depth = 27\n",
      "[LightGBM] [Debug] Trained a tree with leaves = 600 and depth = 23\n",
      "[LightGBM] [Debug] Trained a tree with leaves = 600 and depth = 27\n",
      "[LightGBM] [Debug] Trained a tree with leaves = 600 and depth = 26\n",
      "[LightGBM] [Debug] Trained a tree with leaves = 600 and depth = 27\n",
      "[LightGBM] [Debug] Trained a tree with leaves = 600 and depth = 26\n",
      "[LightGBM] [Debug] Trained a tree with leaves = 600 and depth = 32\n",
      "[LightGBM] [Debug] Trained a tree with leaves = 600 and depth = 25\n",
      "[LightGBM] [Debug] Trained a tree with leaves = 600 and depth = 26\n",
      "[LightGBM] [Debug] Trained a tree with leaves = 600 and depth = 32\n",
      "[LightGBM] [Debug] Trained a tree with leaves = 600 and depth = 29\n",
      "[LightGBM] [Debug] Trained a tree with leaves = 600 and depth = 31\n",
      "[LightGBM] [Debug] Trained a tree with leaves = 600 and depth = 32\n",
      "[LightGBM] [Debug] Trained a tree with leaves = 600 and depth = 33\n",
      "[LightGBM] [Debug] Trained a tree with leaves = 600 and depth = 26\n",
      "[LightGBM] [Debug] Trained a tree with leaves = 600 and depth = 27\n",
      "[LightGBM] [Debug] Trained a tree with leaves = 600 and depth = 32\n",
      "[LightGBM] [Debug] Trained a tree with leaves = 600 and depth = 28\n",
      "[LightGBM] [Debug] Trained a tree with leaves = 600 and depth = 26\n",
      "[LightGBM] [Debug] Trained a tree with leaves = 600 and depth = 23\n",
      "[LightGBM] [Debug] Trained a tree with leaves = 600 and depth = 30\n",
      "[LightGBM] [Debug] Trained a tree with leaves = 600 and depth = 29\n",
      "[LightGBM] [Debug] Trained a tree with leaves = 600 and depth = 36\n",
      "[LightGBM] [Debug] Trained a tree with leaves = 600 and depth = 29\n",
      "[LightGBM] [Debug] Trained a tree with leaves = 600 and depth = 26\n",
      "[LightGBM] [Debug] Trained a tree with leaves = 600 and depth = 22\n",
      "[LightGBM] [Debug] Trained a tree with leaves = 600 and depth = 26\n",
      "[LightGBM] [Debug] Trained a tree with leaves = 600 and depth = 31\n",
      "[LightGBM] [Debug] Trained a tree with leaves = 600 and depth = 32\n",
      "[LightGBM] [Debug] Trained a tree with leaves = 600 and depth = 39\n",
      "[LightGBM] [Debug] Trained a tree with leaves = 600 and depth = 30\n",
      "[LightGBM] [Debug] Trained a tree with leaves = 600 and depth = 33\n",
      "[LightGBM] [Debug] Trained a tree with leaves = 600 and depth = 33\n",
      "[LightGBM] [Debug] Trained a tree with leaves = 600 and depth = 33\n",
      "[LightGBM] [Debug] Trained a tree with leaves = 600 and depth = 32\n"
     ]
    },
    {
     "name": "stdout",
     "output_type": "stream",
     "text": [
      "[LightGBM] [Debug] Trained a tree with leaves = 600 and depth = 28\n",
      "[LightGBM] [Debug] Trained a tree with leaves = 600 and depth = 38\n",
      "[LightGBM] [Debug] Trained a tree with leaves = 600 and depth = 32\n",
      "[LightGBM] [Debug] Trained a tree with leaves = 600 and depth = 30\n",
      "[LightGBM] [Debug] Trained a tree with leaves = 600 and depth = 22\n",
      "[LightGBM] [Debug] Trained a tree with leaves = 600 and depth = 26\n",
      "[LightGBM] [Debug] Trained a tree with leaves = 600 and depth = 29\n",
      "[LightGBM] [Debug] Trained a tree with leaves = 600 and depth = 27\n",
      "[LightGBM] [Debug] Trained a tree with leaves = 600 and depth = 24\n",
      "[LightGBM] [Debug] Trained a tree with leaves = 600 and depth = 29\n",
      "[LightGBM] [Debug] Trained a tree with leaves = 600 and depth = 29\n",
      "[LightGBM] [Debug] Trained a tree with leaves = 600 and depth = 33\n",
      "[LightGBM] [Debug] Trained a tree with leaves = 600 and depth = 24\n",
      "[LightGBM] [Debug] Trained a tree with leaves = 600 and depth = 35\n",
      "[LightGBM] [Debug] Trained a tree with leaves = 600 and depth = 38\n",
      "[LightGBM] [Debug] Trained a tree with leaves = 600 and depth = 27\n",
      "[LightGBM] [Debug] Trained a tree with leaves = 600 and depth = 27\n",
      "[LightGBM] [Debug] Trained a tree with leaves = 600 and depth = 27\n",
      "[LightGBM] [Debug] Trained a tree with leaves = 600 and depth = 31\n",
      "[LightGBM] [Debug] Trained a tree with leaves = 600 and depth = 24\n",
      "[LightGBM] [Debug] Trained a tree with leaves = 600 and depth = 28\n",
      "[LightGBM] [Debug] Trained a tree with leaves = 600 and depth = 30\n",
      "[LightGBM] [Debug] Trained a tree with leaves = 600 and depth = 30\n",
      "[LightGBM] [Debug] Trained a tree with leaves = 600 and depth = 30\n",
      "[LightGBM] [Debug] Trained a tree with leaves = 600 and depth = 32\n",
      "[LightGBM] [Debug] Trained a tree with leaves = 600 and depth = 33\n",
      "[LightGBM] [Debug] Trained a tree with leaves = 600 and depth = 31\n",
      "[LightGBM] [Debug] Trained a tree with leaves = 600 and depth = 33\n",
      "[LightGBM] [Debug] Trained a tree with leaves = 600 and depth = 33\n",
      "[LightGBM] [Debug] Trained a tree with leaves = 600 and depth = 35\n",
      "[LightGBM] [Debug] Trained a tree with leaves = 600 and depth = 35\n",
      "[LightGBM] [Debug] Trained a tree with leaves = 600 and depth = 27\n",
      "[LightGBM] [Debug] Trained a tree with leaves = 600 and depth = 32\n",
      "[LightGBM] [Debug] Trained a tree with leaves = 600 and depth = 28\n",
      "[LightGBM] [Debug] Trained a tree with leaves = 600 and depth = 30\n",
      "[LightGBM] [Debug] Trained a tree with leaves = 600 and depth = 25\n",
      "[LightGBM] [Debug] Trained a tree with leaves = 600 and depth = 25\n",
      "[LightGBM] [Debug] Trained a tree with leaves = 600 and depth = 32\n",
      "[CV 1/3] END force_col_wise=true, learning_rate=0.15, num_leaves=600;, score=-2625922.718 total time=   1.7s\n",
      "[LightGBM] [Debug] Dataset::GetMultiBinFromSparseFeatures: sparse rate 0.736609\n",
      "[LightGBM] [Info] Total Bins 593\n",
      "[LightGBM] [Info] Number of data points in the train set: 156780, number of used features: 10\n",
      "[LightGBM] [Info] Start training from score 4585.264925\n",
      "[LightGBM] [Debug] Trained a tree with leaves = 600 and depth = 15\n",
      "[LightGBM] [Debug] Trained a tree with leaves = 600 and depth = 15\n",
      "[LightGBM] [Debug] Trained a tree with leaves = 600 and depth = 14\n",
      "[LightGBM] [Debug] Trained a tree with leaves = 600 and depth = 14\n",
      "[LightGBM] [Debug] Trained a tree with leaves = 600 and depth = 16\n",
      "[LightGBM] [Debug] Trained a tree with leaves = 600 and depth = 15\n",
      "[LightGBM] [Debug] Trained a tree with leaves = 600 and depth = 16\n",
      "[LightGBM] [Debug] Trained a tree with leaves = 600 and depth = 15\n",
      "[LightGBM] [Debug] Trained a tree with leaves = 600 and depth = 16\n",
      "[LightGBM] [Debug] Trained a tree with leaves = 600 and depth = 17\n",
      "[LightGBM] [Debug] Trained a tree with leaves = 600 and depth = 15\n",
      "[LightGBM] [Debug] Trained a tree with leaves = 600 and depth = 16\n",
      "[LightGBM] [Debug] Trained a tree with leaves = 600 and depth = 18\n",
      "[LightGBM] [Debug] Trained a tree with leaves = 600 and depth = 18\n",
      "[LightGBM] [Debug] Trained a tree with leaves = 600 and depth = 19\n",
      "[LightGBM] [Debug] Trained a tree with leaves = 600 and depth = 21\n",
      "[LightGBM] [Debug] Trained a tree with leaves = 600 and depth = 18\n",
      "[LightGBM] [Debug] Trained a tree with leaves = 600 and depth = 22\n",
      "[LightGBM] [Debug] Trained a tree with leaves = 600 and depth = 17\n",
      "[LightGBM] [Debug] Trained a tree with leaves = 600 and depth = 19\n",
      "[LightGBM] [Debug] Trained a tree with leaves = 600 and depth = 19\n",
      "[LightGBM] [Debug] Trained a tree with leaves = 600 and depth = 19\n",
      "[LightGBM] [Debug] Trained a tree with leaves = 600 and depth = 19\n",
      "[LightGBM] [Debug] Trained a tree with leaves = 600 and depth = 22\n",
      "[LightGBM] [Debug] Trained a tree with leaves = 600 and depth = 24\n",
      "[LightGBM] [Debug] Trained a tree with leaves = 600 and depth = 25\n",
      "[LightGBM] [Debug] Trained a tree with leaves = 600 and depth = 22\n",
      "[LightGBM] [Debug] Trained a tree with leaves = 600 and depth = 29\n",
      "[LightGBM] [Debug] Trained a tree with leaves = 600 and depth = 26\n",
      "[LightGBM] [Debug] Trained a tree with leaves = 600 and depth = 26\n",
      "[LightGBM] [Debug] Trained a tree with leaves = 600 and depth = 25\n",
      "[LightGBM] [Debug] Trained a tree with leaves = 600 and depth = 32\n",
      "[LightGBM] [Debug] Trained a tree with leaves = 600 and depth = 25\n",
      "[LightGBM] [Debug] Trained a tree with leaves = 600 and depth = 27\n",
      "[LightGBM] [Debug] Trained a tree with leaves = 600 and depth = 24\n",
      "[LightGBM] [Debug] Trained a tree with leaves = 600 and depth = 28\n",
      "[LightGBM] [Debug] Trained a tree with leaves = 600 and depth = 29\n",
      "[LightGBM] [Debug] Trained a tree with leaves = 600 and depth = 26\n",
      "[LightGBM] [Debug] Trained a tree with leaves = 600 and depth = 34\n",
      "[LightGBM] [Debug] Trained a tree with leaves = 600 and depth = 31\n",
      "[LightGBM] [Debug] Trained a tree with leaves = 600 and depth = 25\n",
      "[LightGBM] [Debug] Trained a tree with leaves = 600 and depth = 34\n",
      "[LightGBM] [Debug] Trained a tree with leaves = 600 and depth = 31\n",
      "[LightGBM] [Debug] Trained a tree with leaves = 600 and depth = 32\n",
      "[LightGBM] [Debug] Trained a tree with leaves = 600 and depth = 32\n",
      "[LightGBM] [Debug] Trained a tree with leaves = 600 and depth = 33\n",
      "[LightGBM] [Debug] Trained a tree with leaves = 600 and depth = 28\n",
      "[LightGBM] [Debug] Trained a tree with leaves = 600 and depth = 28\n",
      "[LightGBM] [Debug] Trained a tree with leaves = 600 and depth = 28\n",
      "[LightGBM] [Debug] Trained a tree with leaves = 600 and depth = 26\n",
      "[LightGBM] [Debug] Trained a tree with leaves = 600 and depth = 36\n",
      "[LightGBM] [Debug] Trained a tree with leaves = 600 and depth = 29\n",
      "[LightGBM] [Debug] Trained a tree with leaves = 600 and depth = 34\n",
      "[LightGBM] [Debug] Trained a tree with leaves = 600 and depth = 37\n",
      "[LightGBM] [Debug] Trained a tree with leaves = 600 and depth = 28\n",
      "[LightGBM] [Debug] Trained a tree with leaves = 600 and depth = 40\n",
      "[LightGBM] [Debug] Trained a tree with leaves = 600 and depth = 33\n",
      "[LightGBM] [Debug] Trained a tree with leaves = 600 and depth = 27\n",
      "[LightGBM] [Debug] Trained a tree with leaves = 600 and depth = 29\n",
      "[LightGBM] [Debug] Trained a tree with leaves = 600 and depth = 32\n",
      "[LightGBM] [Debug] Trained a tree with leaves = 600 and depth = 32\n",
      "[LightGBM] [Debug] Trained a tree with leaves = 600 and depth = 25\n",
      "[LightGBM] [Debug] Trained a tree with leaves = 600 and depth = 30\n",
      "[LightGBM] [Debug] Trained a tree with leaves = 600 and depth = 37\n",
      "[LightGBM] [Debug] Trained a tree with leaves = 600 and depth = 26\n",
      "[LightGBM] [Debug] Trained a tree with leaves = 600 and depth = 26\n",
      "[LightGBM] [Debug] Trained a tree with leaves = 600 and depth = 40\n",
      "[LightGBM] [Debug] Trained a tree with leaves = 600 and depth = 31\n",
      "[LightGBM] [Debug] Trained a tree with leaves = 600 and depth = 34\n",
      "[LightGBM] [Debug] Trained a tree with leaves = 600 and depth = 26\n",
      "[LightGBM] [Debug] Trained a tree with leaves = 600 and depth = 30\n",
      "[LightGBM] [Debug] Trained a tree with leaves = 600 and depth = 26\n",
      "[LightGBM] [Debug] Trained a tree with leaves = 600 and depth = 30\n",
      "[LightGBM] [Debug] Trained a tree with leaves = 600 and depth = 32\n",
      "[LightGBM] [Debug] Trained a tree with leaves = 600 and depth = 28\n",
      "[LightGBM] [Debug] Trained a tree with leaves = 600 and depth = 30\n",
      "[LightGBM] [Debug] Trained a tree with leaves = 600 and depth = 45\n",
      "[LightGBM] [Debug] Trained a tree with leaves = 600 and depth = 37\n",
      "[LightGBM] [Debug] Trained a tree with leaves = 600 and depth = 36\n",
      "[LightGBM] [Debug] Trained a tree with leaves = 600 and depth = 29\n",
      "[LightGBM] [Debug] Trained a tree with leaves = 600 and depth = 25\n",
      "[LightGBM] [Debug] Trained a tree with leaves = 600 and depth = 30\n",
      "[LightGBM] [Debug] Trained a tree with leaves = 600 and depth = 25\n",
      "[LightGBM] [Debug] Trained a tree with leaves = 600 and depth = 28\n",
      "[LightGBM] [Debug] Trained a tree with leaves = 600 and depth = 32\n",
      "[LightGBM] [Debug] Trained a tree with leaves = 600 and depth = 28\n",
      "[LightGBM] [Debug] Trained a tree with leaves = 600 and depth = 29\n",
      "[LightGBM] [Debug] Trained a tree with leaves = 600 and depth = 35\n",
      "[LightGBM] [Debug] Trained a tree with leaves = 600 and depth = 29\n",
      "[LightGBM] [Debug] Trained a tree with leaves = 600 and depth = 32\n",
      "[LightGBM] [Debug] Trained a tree with leaves = 600 and depth = 31\n"
     ]
    },
    {
     "name": "stdout",
     "output_type": "stream",
     "text": [
      "[LightGBM] [Debug] Trained a tree with leaves = 600 and depth = 30\n",
      "[LightGBM] [Debug] Trained a tree with leaves = 600 and depth = 32\n",
      "[LightGBM] [Debug] Trained a tree with leaves = 600 and depth = 28\n",
      "[LightGBM] [Debug] Trained a tree with leaves = 600 and depth = 28\n",
      "[LightGBM] [Debug] Trained a tree with leaves = 600 and depth = 34\n",
      "[LightGBM] [Debug] Trained a tree with leaves = 600 and depth = 29\n",
      "[LightGBM] [Debug] Trained a tree with leaves = 600 and depth = 28\n",
      "[LightGBM] [Debug] Trained a tree with leaves = 600 and depth = 26\n",
      "[LightGBM] [Debug] Trained a tree with leaves = 600 and depth = 27\n",
      "[CV 2/3] END force_col_wise=true, learning_rate=0.15, num_leaves=600;, score=-2667658.685 total time=   1.7s\n",
      "[LightGBM] [Debug] Dataset::GetMultiBinFromSparseFeatures: sparse rate 0.737074\n",
      "[LightGBM] [Info] Total Bins 594\n",
      "[LightGBM] [Info] Number of data points in the train set: 156780, number of used features: 10\n",
      "[LightGBM] [Info] Start training from score 4577.614511\n",
      "[LightGBM] [Debug] Trained a tree with leaves = 600 and depth = 14\n",
      "[LightGBM] [Debug] Trained a tree with leaves = 600 and depth = 14\n",
      "[LightGBM] [Debug] Trained a tree with leaves = 600 and depth = 14\n",
      "[LightGBM] [Debug] Trained a tree with leaves = 600 and depth = 15\n",
      "[LightGBM] [Debug] Trained a tree with leaves = 600 and depth = 14\n",
      "[LightGBM] [Debug] Trained a tree with leaves = 600 and depth = 15\n",
      "[LightGBM] [Debug] Trained a tree with leaves = 600 and depth = 15\n",
      "[LightGBM] [Debug] Trained a tree with leaves = 600 and depth = 17\n",
      "[LightGBM] [Debug] Trained a tree with leaves = 600 and depth = 17\n",
      "[LightGBM] [Debug] Trained a tree with leaves = 600 and depth = 16\n",
      "[LightGBM] [Debug] Trained a tree with leaves = 600 and depth = 17\n",
      "[LightGBM] [Debug] Trained a tree with leaves = 600 and depth = 17\n",
      "[LightGBM] [Debug] Trained a tree with leaves = 600 and depth = 18\n",
      "[LightGBM] [Debug] Trained a tree with leaves = 600 and depth = 17\n",
      "[LightGBM] [Debug] Trained a tree with leaves = 600 and depth = 18\n",
      "[LightGBM] [Debug] Trained a tree with leaves = 600 and depth = 19\n",
      "[LightGBM] [Debug] Trained a tree with leaves = 600 and depth = 18\n",
      "[LightGBM] [Debug] Trained a tree with leaves = 600 and depth = 18\n",
      "[LightGBM] [Debug] Trained a tree with leaves = 600 and depth = 18\n",
      "[LightGBM] [Debug] Trained a tree with leaves = 600 and depth = 19\n",
      "[LightGBM] [Debug] Trained a tree with leaves = 600 and depth = 20\n",
      "[LightGBM] [Debug] Trained a tree with leaves = 600 and depth = 20\n",
      "[LightGBM] [Debug] Trained a tree with leaves = 600 and depth = 20\n",
      "[LightGBM] [Debug] Trained a tree with leaves = 600 and depth = 22\n",
      "[LightGBM] [Debug] Trained a tree with leaves = 600 and depth = 22\n",
      "[LightGBM] [Debug] Trained a tree with leaves = 600 and depth = 20\n",
      "[LightGBM] [Debug] Trained a tree with leaves = 600 and depth = 25\n",
      "[LightGBM] [Debug] Trained a tree with leaves = 600 and depth = 26\n",
      "[LightGBM] [Debug] Trained a tree with leaves = 600 and depth = 27\n",
      "[LightGBM] [Debug] Trained a tree with leaves = 600 and depth = 26\n",
      "[LightGBM] [Debug] Trained a tree with leaves = 600 and depth = 24\n",
      "[LightGBM] [Debug] Trained a tree with leaves = 600 and depth = 26\n",
      "[LightGBM] [Debug] Trained a tree with leaves = 600 and depth = 25\n",
      "[LightGBM] [Debug] Trained a tree with leaves = 600 and depth = 26\n",
      "[LightGBM] [Debug] Trained a tree with leaves = 600 and depth = 31\n",
      "[LightGBM] [Debug] Trained a tree with leaves = 600 and depth = 32\n",
      "[LightGBM] [Debug] Trained a tree with leaves = 600 and depth = 27\n",
      "[LightGBM] [Debug] Trained a tree with leaves = 600 and depth = 30\n",
      "[LightGBM] [Debug] Trained a tree with leaves = 600 and depth = 37\n",
      "[LightGBM] [Debug] Trained a tree with leaves = 600 and depth = 30\n",
      "[LightGBM] [Debug] Trained a tree with leaves = 600 and depth = 33\n",
      "[LightGBM] [Debug] Trained a tree with leaves = 600 and depth = 39\n",
      "[LightGBM] [Debug] Trained a tree with leaves = 600 and depth = 26\n",
      "[LightGBM] [Debug] Trained a tree with leaves = 600 and depth = 32\n",
      "[LightGBM] [Debug] Trained a tree with leaves = 600 and depth = 34\n",
      "[LightGBM] [Debug] Trained a tree with leaves = 600 and depth = 26\n",
      "[LightGBM] [Debug] Trained a tree with leaves = 600 and depth = 25\n",
      "[LightGBM] [Debug] Trained a tree with leaves = 600 and depth = 26\n",
      "[LightGBM] [Debug] Trained a tree with leaves = 600 and depth = 26\n",
      "[LightGBM] [Debug] Trained a tree with leaves = 600 and depth = 24\n",
      "[LightGBM] [Debug] Trained a tree with leaves = 600 and depth = 33\n",
      "[LightGBM] [Debug] Trained a tree with leaves = 600 and depth = 27\n",
      "[LightGBM] [Debug] Trained a tree with leaves = 600 and depth = 21\n",
      "[LightGBM] [Debug] Trained a tree with leaves = 600 and depth = 28\n",
      "[LightGBM] [Debug] Trained a tree with leaves = 600 and depth = 30\n",
      "[LightGBM] [Debug] Trained a tree with leaves = 600 and depth = 30\n",
      "[LightGBM] [Debug] Trained a tree with leaves = 600 and depth = 32\n",
      "[LightGBM] [Debug] Trained a tree with leaves = 600 and depth = 31\n",
      "[LightGBM] [Debug] Trained a tree with leaves = 600 and depth = 28\n",
      "[LightGBM] [Debug] Trained a tree with leaves = 600 and depth = 33\n",
      "[LightGBM] [Debug] Trained a tree with leaves = 600 and depth = 34\n",
      "[LightGBM] [Debug] Trained a tree with leaves = 600 and depth = 30\n",
      "[LightGBM] [Debug] Trained a tree with leaves = 600 and depth = 31\n",
      "[LightGBM] [Debug] Trained a tree with leaves = 600 and depth = 28\n",
      "[LightGBM] [Debug] Trained a tree with leaves = 600 and depth = 32\n",
      "[LightGBM] [Debug] Trained a tree with leaves = 600 and depth = 34\n",
      "[LightGBM] [Debug] Trained a tree with leaves = 600 and depth = 29\n",
      "[LightGBM] [Debug] Trained a tree with leaves = 600 and depth = 30\n",
      "[LightGBM] [Debug] Trained a tree with leaves = 600 and depth = 39\n",
      "[LightGBM] [Debug] Trained a tree with leaves = 600 and depth = 29\n",
      "[LightGBM] [Debug] Trained a tree with leaves = 600 and depth = 28\n",
      "[LightGBM] [Debug] Trained a tree with leaves = 600 and depth = 29\n",
      "[LightGBM] [Debug] Trained a tree with leaves = 600 and depth = 27\n",
      "[LightGBM] [Debug] Trained a tree with leaves = 600 and depth = 32\n",
      "[LightGBM] [Debug] Trained a tree with leaves = 600 and depth = 32\n",
      "[LightGBM] [Debug] Trained a tree with leaves = 600 and depth = 28\n",
      "[LightGBM] [Debug] Trained a tree with leaves = 600 and depth = 30\n",
      "[LightGBM] [Debug] Trained a tree with leaves = 600 and depth = 28\n",
      "[LightGBM] [Debug] Trained a tree with leaves = 600 and depth = 24\n",
      "[LightGBM] [Debug] Trained a tree with leaves = 600 and depth = 27\n",
      "[LightGBM] [Debug] Trained a tree with leaves = 600 and depth = 32\n",
      "[LightGBM] [Debug] Trained a tree with leaves = 600 and depth = 31\n",
      "[LightGBM] [Debug] Trained a tree with leaves = 600 and depth = 27\n",
      "[LightGBM] [Debug] Trained a tree with leaves = 600 and depth = 34\n",
      "[LightGBM] [Debug] Trained a tree with leaves = 600 and depth = 44\n",
      "[LightGBM] [Debug] Trained a tree with leaves = 600 and depth = 39\n",
      "[LightGBM] [Debug] Trained a tree with leaves = 600 and depth = 40\n",
      "[LightGBM] [Debug] Trained a tree with leaves = 600 and depth = 32\n",
      "[LightGBM] [Debug] Trained a tree with leaves = 600 and depth = 24\n",
      "[LightGBM] [Debug] Trained a tree with leaves = 600 and depth = 34\n",
      "[LightGBM] [Debug] Trained a tree with leaves = 600 and depth = 28\n",
      "[LightGBM] [Debug] Trained a tree with leaves = 600 and depth = 35\n",
      "[LightGBM] [Debug] Trained a tree with leaves = 600 and depth = 33\n",
      "[LightGBM] [Debug] Trained a tree with leaves = 600 and depth = 30\n",
      "[LightGBM] [Debug] Trained a tree with leaves = 600 and depth = 28\n",
      "[LightGBM] [Debug] Trained a tree with leaves = 600 and depth = 32\n",
      "[LightGBM] [Debug] Trained a tree with leaves = 600 and depth = 28\n",
      "[LightGBM] [Debug] Trained a tree with leaves = 600 and depth = 31\n",
      "[LightGBM] [Debug] Trained a tree with leaves = 600 and depth = 29\n",
      "[LightGBM] [Debug] Trained a tree with leaves = 600 and depth = 36\n",
      "[CV 3/3] END force_col_wise=true, learning_rate=0.15, num_leaves=600;, score=-2584084.849 total time=   1.7s\n",
      "[LightGBM] [Debug] Dataset::GetMultiBinFromSparseFeatures: sparse rate 0.736932\n",
      "[LightGBM] [Info] Total Bins 594\n",
      "[LightGBM] [Info] Number of data points in the train set: 235170, number of used features: 10\n",
      "[LightGBM] [Info] Start training from score 4580.389276\n",
      "[LightGBM] [Debug] Trained a tree with leaves = 550 and depth = 15\n",
      "[LightGBM] [Debug] Trained a tree with leaves = 550 and depth = 15\n",
      "[LightGBM] [Debug] Trained a tree with leaves = 550 and depth = 16\n",
      "[LightGBM] [Debug] Trained a tree with leaves = 550 and depth = 15\n"
     ]
    },
    {
     "name": "stdout",
     "output_type": "stream",
     "text": [
      "[LightGBM] [Debug] Trained a tree with leaves = 550 and depth = 13\n",
      "[LightGBM] [Debug] Trained a tree with leaves = 550 and depth = 15\n",
      "[LightGBM] [Debug] Trained a tree with leaves = 550 and depth = 14\n",
      "[LightGBM] [Debug] Trained a tree with leaves = 550 and depth = 15\n",
      "[LightGBM] [Debug] Trained a tree with leaves = 550 and depth = 15\n",
      "[LightGBM] [Debug] Trained a tree with leaves = 550 and depth = 14\n",
      "[LightGBM] [Debug] Trained a tree with leaves = 550 and depth = 14\n",
      "[LightGBM] [Debug] Trained a tree with leaves = 550 and depth = 17\n",
      "[LightGBM] [Debug] Trained a tree with leaves = 550 and depth = 19\n",
      "[LightGBM] [Debug] Trained a tree with leaves = 550 and depth = 16\n",
      "[LightGBM] [Debug] Trained a tree with leaves = 550 and depth = 15\n",
      "[LightGBM] [Debug] Trained a tree with leaves = 550 and depth = 17\n",
      "[LightGBM] [Debug] Trained a tree with leaves = 550 and depth = 16\n",
      "[LightGBM] [Debug] Trained a tree with leaves = 550 and depth = 17\n",
      "[LightGBM] [Debug] Trained a tree with leaves = 550 and depth = 17\n",
      "[LightGBM] [Debug] Trained a tree with leaves = 550 and depth = 17\n",
      "[LightGBM] [Debug] Trained a tree with leaves = 550 and depth = 17\n",
      "[LightGBM] [Debug] Trained a tree with leaves = 550 and depth = 18\n",
      "[LightGBM] [Debug] Trained a tree with leaves = 550 and depth = 18\n",
      "[LightGBM] [Debug] Trained a tree with leaves = 550 and depth = 16\n",
      "[LightGBM] [Debug] Trained a tree with leaves = 550 and depth = 17\n",
      "[LightGBM] [Debug] Trained a tree with leaves = 550 and depth = 17\n",
      "[LightGBM] [Debug] Trained a tree with leaves = 550 and depth = 20\n",
      "[LightGBM] [Debug] Trained a tree with leaves = 550 and depth = 18\n",
      "[LightGBM] [Debug] Trained a tree with leaves = 550 and depth = 18\n",
      "[LightGBM] [Debug] Trained a tree with leaves = 550 and depth = 19\n",
      "[LightGBM] [Debug] Trained a tree with leaves = 550 and depth = 18\n",
      "[LightGBM] [Debug] Trained a tree with leaves = 550 and depth = 20\n",
      "[LightGBM] [Debug] Trained a tree with leaves = 550 and depth = 21\n",
      "[LightGBM] [Debug] Trained a tree with leaves = 550 and depth = 21\n",
      "[LightGBM] [Debug] Trained a tree with leaves = 550 and depth = 19\n",
      "[LightGBM] [Debug] Trained a tree with leaves = 550 and depth = 22\n",
      "[LightGBM] [Debug] Trained a tree with leaves = 550 and depth = 22\n",
      "[LightGBM] [Debug] Trained a tree with leaves = 550 and depth = 24\n",
      "[LightGBM] [Debug] Trained a tree with leaves = 550 and depth = 26\n",
      "[LightGBM] [Debug] Trained a tree with leaves = 550 and depth = 22\n",
      "[LightGBM] [Debug] Trained a tree with leaves = 550 and depth = 21\n",
      "[LightGBM] [Debug] Trained a tree with leaves = 550 and depth = 25\n",
      "[LightGBM] [Debug] Trained a tree with leaves = 550 and depth = 24\n",
      "[LightGBM] [Debug] Trained a tree with leaves = 550 and depth = 23\n",
      "[LightGBM] [Debug] Trained a tree with leaves = 550 and depth = 24\n",
      "[LightGBM] [Debug] Trained a tree with leaves = 550 and depth = 26\n",
      "[LightGBM] [Debug] Trained a tree with leaves = 550 and depth = 23\n",
      "[LightGBM] [Debug] Trained a tree with leaves = 550 and depth = 20\n",
      "[LightGBM] [Debug] Trained a tree with leaves = 550 and depth = 25\n",
      "[LightGBM] [Debug] Trained a tree with leaves = 550 and depth = 26\n",
      "[LightGBM] [Debug] Trained a tree with leaves = 550 and depth = 22\n",
      "[LightGBM] [Debug] Trained a tree with leaves = 550 and depth = 36\n",
      "[LightGBM] [Debug] Trained a tree with leaves = 550 and depth = 28\n",
      "[LightGBM] [Debug] Trained a tree with leaves = 550 and depth = 26\n",
      "[LightGBM] [Debug] Trained a tree with leaves = 550 and depth = 27\n",
      "[LightGBM] [Debug] Trained a tree with leaves = 550 and depth = 26\n",
      "[LightGBM] [Debug] Trained a tree with leaves = 550 and depth = 28\n",
      "[LightGBM] [Debug] Trained a tree with leaves = 550 and depth = 28\n",
      "[LightGBM] [Debug] Trained a tree with leaves = 550 and depth = 34\n",
      "[LightGBM] [Debug] Trained a tree with leaves = 550 and depth = 26\n",
      "[LightGBM] [Debug] Trained a tree with leaves = 550 and depth = 34\n",
      "[LightGBM] [Debug] Trained a tree with leaves = 550 and depth = 23\n",
      "[LightGBM] [Debug] Trained a tree with leaves = 550 and depth = 28\n",
      "[LightGBM] [Debug] Trained a tree with leaves = 550 and depth = 31\n",
      "[LightGBM] [Debug] Trained a tree with leaves = 550 and depth = 25\n",
      "[LightGBM] [Debug] Trained a tree with leaves = 550 and depth = 29\n",
      "[LightGBM] [Debug] Trained a tree with leaves = 550 and depth = 35\n",
      "[LightGBM] [Debug] Trained a tree with leaves = 550 and depth = 22\n",
      "[LightGBM] [Debug] Trained a tree with leaves = 550 and depth = 28\n",
      "[LightGBM] [Debug] Trained a tree with leaves = 550 and depth = 28\n",
      "[LightGBM] [Debug] Trained a tree with leaves = 550 and depth = 35\n",
      "[LightGBM] [Debug] Trained a tree with leaves = 550 and depth = 27\n",
      "[LightGBM] [Debug] Trained a tree with leaves = 550 and depth = 28\n",
      "[LightGBM] [Debug] Trained a tree with leaves = 550 and depth = 26\n",
      "[LightGBM] [Debug] Trained a tree with leaves = 550 and depth = 29\n",
      "[LightGBM] [Debug] Trained a tree with leaves = 550 and depth = 30\n",
      "[LightGBM] [Debug] Trained a tree with leaves = 550 and depth = 28\n",
      "[LightGBM] [Debug] Trained a tree with leaves = 550 and depth = 31\n",
      "[LightGBM] [Debug] Trained a tree with leaves = 550 and depth = 25\n",
      "[LightGBM] [Debug] Trained a tree with leaves = 550 and depth = 25\n",
      "[LightGBM] [Debug] Trained a tree with leaves = 550 and depth = 28\n",
      "[LightGBM] [Debug] Trained a tree with leaves = 550 and depth = 22\n",
      "[LightGBM] [Debug] Trained a tree with leaves = 550 and depth = 24\n",
      "[LightGBM] [Debug] Trained a tree with leaves = 550 and depth = 31\n",
      "[LightGBM] [Debug] Trained a tree with leaves = 550 and depth = 30\n",
      "[LightGBM] [Debug] Trained a tree with leaves = 550 and depth = 26\n",
      "[LightGBM] [Debug] Trained a tree with leaves = 550 and depth = 32\n",
      "[LightGBM] [Debug] Trained a tree with leaves = 550 and depth = 21\n",
      "[LightGBM] [Debug] Trained a tree with leaves = 550 and depth = 25\n",
      "[LightGBM] [Debug] Trained a tree with leaves = 550 and depth = 29\n",
      "[LightGBM] [Debug] Trained a tree with leaves = 550 and depth = 34\n",
      "[LightGBM] [Debug] Trained a tree with leaves = 550 and depth = 28\n",
      "[LightGBM] [Debug] Trained a tree with leaves = 550 and depth = 30\n",
      "[LightGBM] [Debug] Trained a tree with leaves = 550 and depth = 31\n",
      "[LightGBM] [Debug] Trained a tree with leaves = 550 and depth = 28\n",
      "[LightGBM] [Debug] Trained a tree with leaves = 550 and depth = 32\n",
      "[LightGBM] [Debug] Trained a tree with leaves = 550 and depth = 27\n",
      "[LightGBM] [Debug] Trained a tree with leaves = 550 and depth = 25\n",
      "[LightGBM] [Debug] Trained a tree with leaves = 550 and depth = 25\n",
      "[LightGBM] [Debug] Trained a tree with leaves = 550 and depth = 24\n",
      "CPU times: total: 21min 52s\n",
      "Wall time: 1min 24s\n"
     ]
    },
    {
     "data": {
      "text/plain": [
       "GridSearchCV(cv=3, estimator=LGBMRegressor(random_state=12345, verbose=4),\n",
       "             param_grid={'force_col_wise': ['true'],\n",
       "                         'learning_rate': [0.05, 0.1, 0.15],\n",
       "                         'num_leaves': range(500, 610, 25)},\n",
       "             scoring='neg_mean_squared_error', verbose=3)"
      ]
     },
     "execution_count": 65,
     "metadata": {},
     "output_type": "execute_result"
    }
   ],
   "source": [
    "%%time\n",
    "lgbm_grid = GridSearchCV(lgbm_model, lgbm_params, cv=3, scoring='neg_mean_squared_error', verbose=3)\n",
    "lgbm_grid.fit(features_train, target_train)"
   ]
  },
  {
   "cell_type": "markdown",
   "metadata": {},
   "source": [
    "Отобразим лучшие гиперпараметры"
   ]
  },
  {
   "cell_type": "code",
   "execution_count": 66,
   "metadata": {},
   "outputs": [
    {
     "data": {
      "text/plain": [
       "{'force_col_wise': 'true', 'learning_rate': 0.1, 'num_leaves': 550}"
      ]
     },
     "execution_count": 66,
     "metadata": {},
     "output_type": "execute_result"
    }
   ],
   "source": [
    "lgbm_grid.best_params_"
   ]
  },
  {
   "cell_type": "markdown",
   "metadata": {},
   "source": [
    "Получим предсказания модели"
   ]
  },
  {
   "cell_type": "code",
   "execution_count": 67,
   "metadata": {},
   "outputs": [],
   "source": [
    "lgbm_predict = lgbm_grid.predict(features_test)"
   ]
  },
  {
   "cell_type": "markdown",
   "metadata": {},
   "source": [
    "Посчитаем и выведем на экран, метрику RMSE"
   ]
  },
  {
   "cell_type": "code",
   "execution_count": 68,
   "metadata": {},
   "outputs": [
    {
     "name": "stdout",
     "output_type": "stream",
     "text": [
      "RMSE: 1594.88\n"
     ]
    }
   ],
   "source": [
    "lgbm_rmse = mean_squared_error(target_test, lgbm_predict) ** 0.5\n",
    "print(f'RMSE: {lgbm_rmse:.2f}')"
   ]
  },
  {
   "cell_type": "markdown",
   "metadata": {},
   "source": [
    "### Градиентный бустинг CatBoost"
   ]
  },
  {
   "cell_type": "code",
   "execution_count": 69,
   "metadata": {},
   "outputs": [],
   "source": [
    "catboost_model = CatBoostRegressor(cat_features=str_columns,\n",
    "                                   random_state=12345,\n",
    "                                   verbose=3)"
   ]
  },
  {
   "cell_type": "markdown",
   "metadata": {},
   "source": [
    "Зададим диапазон параметров, для подбора оптимальных гиперпараметров для нашей модели"
   ]
  },
  {
   "cell_type": "code",
   "execution_count": 70,
   "metadata": {},
   "outputs": [],
   "source": [
    "catboost_params = {'learning_rate':[0.2, 0.25, 0.3]}"
   ]
  },
  {
   "cell_type": "markdown",
   "metadata": {},
   "source": [
    "С помощью функции GridSearchCV подберём оптимальные гиперпараметры для наше нашей модели и обучим её"
   ]
  },
  {
   "cell_type": "code",
   "execution_count": 71,
   "metadata": {
    "scrolled": true
   },
   "outputs": [
    {
     "name": "stdout",
     "output_type": "stream",
     "text": [
      "Fitting 3 folds for each of 3 candidates, totalling 9 fits\n",
      "0:\tlearn: 3821.3195910\ttotal: 260ms\tremaining: 4m 19s\n",
      "3:\tlearn: 2718.4060355\ttotal: 626ms\tremaining: 2m 35s\n",
      "6:\tlearn: 2289.3752941\ttotal: 950ms\tremaining: 2m 14s\n",
      "9:\tlearn: 2096.1899899\ttotal: 1.25s\tremaining: 2m 4s\n",
      "12:\tlearn: 2011.5668644\ttotal: 1.55s\tremaining: 1m 57s\n",
      "15:\tlearn: 1957.3495278\ttotal: 1.84s\tremaining: 1m 53s\n",
      "18:\tlearn: 1923.4197824\ttotal: 2.17s\tremaining: 1m 52s\n",
      "21:\tlearn: 1894.2886774\ttotal: 2.48s\tremaining: 1m 50s\n",
      "24:\tlearn: 1873.9318223\ttotal: 2.73s\tremaining: 1m 46s\n",
      "27:\tlearn: 1856.8813978\ttotal: 3.07s\tremaining: 1m 46s\n",
      "30:\tlearn: 1843.0245839\ttotal: 3.36s\tremaining: 1m 45s\n",
      "33:\tlearn: 1829.8506333\ttotal: 3.72s\tremaining: 1m 45s\n",
      "36:\tlearn: 1817.7610329\ttotal: 4.03s\tremaining: 1m 44s\n",
      "39:\tlearn: 1806.7458559\ttotal: 4.38s\tremaining: 1m 45s\n",
      "42:\tlearn: 1797.6551987\ttotal: 4.76s\tremaining: 1m 46s\n",
      "45:\tlearn: 1788.9109115\ttotal: 5.07s\tremaining: 1m 45s\n",
      "48:\tlearn: 1782.3069773\ttotal: 5.38s\tremaining: 1m 44s\n",
      "51:\tlearn: 1774.2919831\ttotal: 5.69s\tremaining: 1m 43s\n",
      "54:\tlearn: 1767.3805136\ttotal: 6s\tremaining: 1m 43s\n",
      "57:\tlearn: 1760.7221048\ttotal: 6.31s\tremaining: 1m 42s\n",
      "60:\tlearn: 1755.4674004\ttotal: 6.65s\tremaining: 1m 42s\n",
      "63:\tlearn: 1751.8289053\ttotal: 6.98s\tremaining: 1m 42s\n",
      "66:\tlearn: 1745.3865234\ttotal: 7.33s\tremaining: 1m 42s\n",
      "69:\tlearn: 1740.8593573\ttotal: 7.67s\tremaining: 1m 41s\n",
      "72:\tlearn: 1734.8738880\ttotal: 8.04s\tremaining: 1m 42s\n",
      "75:\tlearn: 1729.9601551\ttotal: 8.43s\tremaining: 1m 42s\n",
      "78:\tlearn: 1725.3146942\ttotal: 8.73s\tremaining: 1m 41s\n",
      "81:\tlearn: 1722.4364463\ttotal: 9.08s\tremaining: 1m 41s\n",
      "84:\tlearn: 1717.5275187\ttotal: 9.44s\tremaining: 1m 41s\n",
      "87:\tlearn: 1715.2924227\ttotal: 9.86s\tremaining: 1m 42s\n",
      "90:\tlearn: 1711.6500577\ttotal: 10.2s\tremaining: 1m 41s\n",
      "93:\tlearn: 1707.9390243\ttotal: 10.5s\tremaining: 1m 41s\n",
      "96:\tlearn: 1705.1810607\ttotal: 10.9s\tremaining: 1m 41s\n",
      "99:\tlearn: 1702.4907262\ttotal: 11.2s\tremaining: 1m 40s\n",
      "102:\tlearn: 1699.7919485\ttotal: 11.6s\tremaining: 1m 41s\n",
      "105:\tlearn: 1696.2565148\ttotal: 11.9s\tremaining: 1m 40s\n",
      "108:\tlearn: 1693.1500109\ttotal: 12.3s\tremaining: 1m 40s\n",
      "111:\tlearn: 1689.6700432\ttotal: 12.6s\tremaining: 1m 39s\n",
      "114:\tlearn: 1687.4193644\ttotal: 12.9s\tremaining: 1m 39s\n",
      "117:\tlearn: 1684.8896359\ttotal: 13.2s\tremaining: 1m 38s\n",
      "120:\tlearn: 1682.6556864\ttotal: 13.6s\tremaining: 1m 38s\n",
      "123:\tlearn: 1680.7730059\ttotal: 13.9s\tremaining: 1m 38s\n",
      "126:\tlearn: 1678.1453685\ttotal: 14.2s\tremaining: 1m 37s\n",
      "129:\tlearn: 1676.3359729\ttotal: 14.6s\tremaining: 1m 37s\n",
      "132:\tlearn: 1674.8775797\ttotal: 14.9s\tremaining: 1m 37s\n",
      "135:\tlearn: 1673.1390241\ttotal: 15.3s\tremaining: 1m 36s\n",
      "138:\tlearn: 1670.6054942\ttotal: 15.6s\tremaining: 1m 36s\n",
      "141:\tlearn: 1669.1286292\ttotal: 15.9s\tremaining: 1m 36s\n",
      "144:\tlearn: 1667.0530747\ttotal: 16.2s\tremaining: 1m 35s\n",
      "147:\tlearn: 1665.9151565\ttotal: 16.6s\tremaining: 1m 35s\n",
      "150:\tlearn: 1664.1224153\ttotal: 16.9s\tremaining: 1m 35s\n",
      "153:\tlearn: 1662.4689979\ttotal: 17.2s\tremaining: 1m 34s\n",
      "156:\tlearn: 1660.8316578\ttotal: 17.6s\tremaining: 1m 34s\n",
      "159:\tlearn: 1660.0543775\ttotal: 18s\tremaining: 1m 34s\n",
      "162:\tlearn: 1658.5681936\ttotal: 18.3s\tremaining: 1m 33s\n",
      "165:\tlearn: 1657.0743390\ttotal: 18.6s\tremaining: 1m 33s\n",
      "168:\tlearn: 1655.3918227\ttotal: 19s\tremaining: 1m 33s\n",
      "171:\tlearn: 1653.8163906\ttotal: 19.3s\tremaining: 1m 32s\n",
      "174:\tlearn: 1652.5563457\ttotal: 19.6s\tremaining: 1m 32s\n",
      "177:\tlearn: 1651.3655711\ttotal: 19.9s\tremaining: 1m 31s\n",
      "180:\tlearn: 1650.4281623\ttotal: 20.3s\tremaining: 1m 31s\n",
      "183:\tlearn: 1649.3725439\ttotal: 20.6s\tremaining: 1m 31s\n",
      "186:\tlearn: 1647.9582993\ttotal: 21.1s\tremaining: 1m 31s\n",
      "189:\tlearn: 1647.1029618\ttotal: 21.5s\tremaining: 1m 31s\n",
      "192:\tlearn: 1645.1269606\ttotal: 21.8s\tremaining: 1m 31s\n",
      "195:\tlearn: 1644.3474053\ttotal: 22.2s\tremaining: 1m 30s\n",
      "198:\tlearn: 1643.2560214\ttotal: 22.5s\tremaining: 1m 30s\n",
      "201:\tlearn: 1642.6064662\ttotal: 22.9s\tremaining: 1m 30s\n",
      "204:\tlearn: 1641.2596347\ttotal: 23.3s\tremaining: 1m 30s\n",
      "207:\tlearn: 1639.7789203\ttotal: 23.6s\tremaining: 1m 29s\n",
      "210:\tlearn: 1638.6660259\ttotal: 24s\tremaining: 1m 29s\n",
      "213:\tlearn: 1637.5874869\ttotal: 24.3s\tremaining: 1m 29s\n",
      "216:\tlearn: 1636.9225436\ttotal: 24.7s\tremaining: 1m 28s\n",
      "219:\tlearn: 1635.6077196\ttotal: 25s\tremaining: 1m 28s\n",
      "222:\tlearn: 1634.2150501\ttotal: 25.4s\tremaining: 1m 28s\n",
      "225:\tlearn: 1632.9221794\ttotal: 25.7s\tremaining: 1m 28s\n",
      "228:\tlearn: 1631.7874082\ttotal: 26s\tremaining: 1m 27s\n",
      "231:\tlearn: 1631.0449672\ttotal: 26.4s\tremaining: 1m 27s\n",
      "234:\tlearn: 1630.4517949\ttotal: 26.7s\tremaining: 1m 26s\n",
      "237:\tlearn: 1629.1216310\ttotal: 27s\tremaining: 1m 26s\n",
      "240:\tlearn: 1628.2927727\ttotal: 27.4s\tremaining: 1m 26s\n",
      "243:\tlearn: 1627.2910422\ttotal: 27.7s\tremaining: 1m 25s\n",
      "246:\tlearn: 1626.3307832\ttotal: 28s\tremaining: 1m 25s\n",
      "249:\tlearn: 1625.7273550\ttotal: 28.3s\tremaining: 1m 24s\n",
      "252:\tlearn: 1625.0833634\ttotal: 28.7s\tremaining: 1m 24s\n",
      "255:\tlearn: 1623.8997981\ttotal: 29s\tremaining: 1m 24s\n",
      "258:\tlearn: 1623.2237435\ttotal: 29.4s\tremaining: 1m 24s\n",
      "261:\tlearn: 1622.4529737\ttotal: 29.7s\tremaining: 1m 23s\n",
      "264:\tlearn: 1621.2068302\ttotal: 30s\tremaining: 1m 23s\n",
      "267:\tlearn: 1619.9592605\ttotal: 30.4s\tremaining: 1m 22s\n",
      "270:\tlearn: 1618.6536072\ttotal: 30.7s\tremaining: 1m 22s\n",
      "273:\tlearn: 1617.4156018\ttotal: 31.1s\tremaining: 1m 22s\n",
      "276:\tlearn: 1616.5280268\ttotal: 31.4s\tremaining: 1m 22s\n",
      "279:\tlearn: 1615.3431864\ttotal: 31.8s\tremaining: 1m 21s\n",
      "282:\tlearn: 1613.9119570\ttotal: 32.1s\tremaining: 1m 21s\n",
      "285:\tlearn: 1612.0418047\ttotal: 32.4s\tremaining: 1m 20s\n",
      "288:\tlearn: 1611.3805849\ttotal: 32.8s\tremaining: 1m 20s\n",
      "291:\tlearn: 1610.7271110\ttotal: 33.1s\tremaining: 1m 20s\n",
      "294:\tlearn: 1609.9213073\ttotal: 33.4s\tremaining: 1m 19s\n",
      "297:\tlearn: 1609.3367287\ttotal: 33.8s\tremaining: 1m 19s\n",
      "300:\tlearn: 1608.8779830\ttotal: 34.1s\tremaining: 1m 19s\n",
      "303:\tlearn: 1607.8349780\ttotal: 34.5s\tremaining: 1m 18s\n",
      "306:\tlearn: 1607.4054282\ttotal: 34.8s\tremaining: 1m 18s\n",
      "309:\tlearn: 1606.8631273\ttotal: 35.2s\tremaining: 1m 18s\n",
      "312:\tlearn: 1606.3432533\ttotal: 35.5s\tremaining: 1m 17s\n",
      "315:\tlearn: 1604.8477033\ttotal: 35.8s\tremaining: 1m 17s\n",
      "318:\tlearn: 1604.2016330\ttotal: 36.1s\tremaining: 1m 17s\n",
      "321:\tlearn: 1602.8438995\ttotal: 36.4s\tremaining: 1m 16s\n",
      "324:\tlearn: 1601.5053797\ttotal: 36.7s\tremaining: 1m 16s\n",
      "327:\tlearn: 1600.6770173\ttotal: 37s\tremaining: 1m 15s\n",
      "330:\tlearn: 1599.7528457\ttotal: 37.4s\tremaining: 1m 15s\n",
      "333:\tlearn: 1598.5463170\ttotal: 37.7s\tremaining: 1m 15s\n",
      "336:\tlearn: 1598.0760864\ttotal: 38.1s\tremaining: 1m 14s\n",
      "339:\tlearn: 1597.2754798\ttotal: 38.4s\tremaining: 1m 14s\n",
      "342:\tlearn: 1596.4017168\ttotal: 38.7s\tremaining: 1m 14s\n",
      "345:\tlearn: 1595.5758650\ttotal: 39s\tremaining: 1m 13s\n",
      "348:\tlearn: 1595.1000215\ttotal: 39.3s\tremaining: 1m 13s\n",
      "351:\tlearn: 1594.5285112\ttotal: 39.7s\tremaining: 1m 13s\n",
      "354:\tlearn: 1594.0829599\ttotal: 40.1s\tremaining: 1m 12s\n",
      "357:\tlearn: 1593.4989086\ttotal: 40.4s\tremaining: 1m 12s\n",
      "360:\tlearn: 1592.7367098\ttotal: 40.7s\tremaining: 1m 11s\n",
      "363:\tlearn: 1591.7684414\ttotal: 41s\tremaining: 1m 11s\n",
      "366:\tlearn: 1591.4585845\ttotal: 41.4s\tremaining: 1m 11s\n",
      "369:\tlearn: 1590.8570603\ttotal: 41.7s\tremaining: 1m 10s\n",
      "372:\tlearn: 1590.4115709\ttotal: 42s\tremaining: 1m 10s\n",
      "375:\tlearn: 1589.3795741\ttotal: 42.3s\tremaining: 1m 10s\n",
      "378:\tlearn: 1588.8040309\ttotal: 42.7s\tremaining: 1m 9s\n",
      "381:\tlearn: 1588.1291429\ttotal: 43s\tremaining: 1m 9s\n",
      "384:\tlearn: 1587.1358284\ttotal: 43.3s\tremaining: 1m 9s\n",
      "387:\tlearn: 1586.1841280\ttotal: 43.7s\tremaining: 1m 8s\n",
      "390:\tlearn: 1585.6610894\ttotal: 44s\tremaining: 1m 8s\n",
      "393:\tlearn: 1584.7552532\ttotal: 44.3s\tremaining: 1m 8s\n",
      "396:\tlearn: 1584.2353317\ttotal: 44.7s\tremaining: 1m 7s\n",
      "399:\tlearn: 1583.6762199\ttotal: 45s\tremaining: 1m 7s\n",
      "402:\tlearn: 1583.0295489\ttotal: 45.4s\tremaining: 1m 7s\n",
      "405:\tlearn: 1581.8144026\ttotal: 45.7s\tremaining: 1m 6s\n",
      "408:\tlearn: 1581.1593155\ttotal: 46s\tremaining: 1m 6s\n",
      "411:\tlearn: 1580.6967237\ttotal: 46.3s\tremaining: 1m 6s\n",
      "414:\tlearn: 1580.2599824\ttotal: 46.7s\tremaining: 1m 5s\n",
      "417:\tlearn: 1579.7317027\ttotal: 47s\tremaining: 1m 5s\n",
      "420:\tlearn: 1578.8322146\ttotal: 47.3s\tremaining: 1m 4s\n",
      "423:\tlearn: 1578.4255160\ttotal: 47.5s\tremaining: 1m 4s\n",
      "426:\tlearn: 1577.7068866\ttotal: 47.9s\tremaining: 1m 4s\n",
      "429:\tlearn: 1577.3026039\ttotal: 48.2s\tremaining: 1m 3s\n",
      "432:\tlearn: 1576.8392434\ttotal: 48.7s\tremaining: 1m 3s\n",
      "435:\tlearn: 1576.3717982\ttotal: 49s\tremaining: 1m 3s\n",
      "438:\tlearn: 1575.5570355\ttotal: 49.3s\tremaining: 1m 3s\n",
      "441:\tlearn: 1574.7936880\ttotal: 49.7s\tremaining: 1m 2s\n"
     ]
    },
    {
     "name": "stdout",
     "output_type": "stream",
     "text": [
      "444:\tlearn: 1574.3696601\ttotal: 50.1s\tremaining: 1m 2s\n",
      "447:\tlearn: 1573.9975299\ttotal: 50.5s\tremaining: 1m 2s\n",
      "450:\tlearn: 1573.1928567\ttotal: 50.8s\tremaining: 1m 1s\n",
      "453:\tlearn: 1572.5544073\ttotal: 51.2s\tremaining: 1m 1s\n",
      "456:\tlearn: 1572.0224201\ttotal: 51.6s\tremaining: 1m 1s\n",
      "459:\tlearn: 1571.6152338\ttotal: 52s\tremaining: 1m\n",
      "462:\tlearn: 1571.0745554\ttotal: 52.3s\tremaining: 1m\n",
      "465:\tlearn: 1570.1524529\ttotal: 52.7s\tremaining: 1m\n",
      "468:\tlearn: 1569.5641709\ttotal: 53s\tremaining: 1m\n",
      "471:\tlearn: 1569.0286771\ttotal: 53.3s\tremaining: 59.6s\n",
      "474:\tlearn: 1568.5817090\ttotal: 53.7s\tremaining: 59.3s\n",
      "477:\tlearn: 1567.9975191\ttotal: 54s\tremaining: 59s\n",
      "480:\tlearn: 1567.5959645\ttotal: 54.3s\tremaining: 58.6s\n",
      "483:\tlearn: 1567.3174096\ttotal: 54.7s\tremaining: 58.3s\n",
      "486:\tlearn: 1566.8856831\ttotal: 55s\tremaining: 57.9s\n",
      "489:\tlearn: 1566.2794101\ttotal: 55.3s\tremaining: 57.6s\n",
      "492:\tlearn: 1565.6467478\ttotal: 55.6s\tremaining: 57.2s\n",
      "495:\tlearn: 1564.9436949\ttotal: 56s\tremaining: 56.9s\n",
      "498:\tlearn: 1564.6121378\ttotal: 56.3s\tremaining: 56.6s\n",
      "501:\tlearn: 1564.0936626\ttotal: 56.7s\tremaining: 56.3s\n",
      "504:\tlearn: 1563.7607653\ttotal: 57s\tremaining: 55.9s\n",
      "507:\tlearn: 1563.3904684\ttotal: 57.4s\tremaining: 55.6s\n",
      "510:\tlearn: 1562.9687318\ttotal: 57.7s\tremaining: 55.2s\n",
      "513:\tlearn: 1562.6722693\ttotal: 58s\tremaining: 54.9s\n",
      "516:\tlearn: 1561.6576076\ttotal: 58.4s\tremaining: 54.5s\n",
      "519:\tlearn: 1561.4030025\ttotal: 58.7s\tremaining: 54.2s\n",
      "522:\tlearn: 1560.6413715\ttotal: 59.1s\tremaining: 53.9s\n",
      "525:\tlearn: 1560.4044960\ttotal: 59.4s\tremaining: 53.5s\n",
      "528:\tlearn: 1560.1800840\ttotal: 59.8s\tremaining: 53.3s\n",
      "531:\tlearn: 1559.6683263\ttotal: 1m\tremaining: 52.9s\n",
      "534:\tlearn: 1559.0833066\ttotal: 1m\tremaining: 52.6s\n",
      "537:\tlearn: 1558.8583028\ttotal: 1m\tremaining: 52.3s\n",
      "540:\tlearn: 1558.2813712\ttotal: 1m 1s\tremaining: 51.9s\n",
      "543:\tlearn: 1557.6833786\ttotal: 1m 1s\tremaining: 51.6s\n",
      "546:\tlearn: 1557.2102852\ttotal: 1m 1s\tremaining: 51.3s\n",
      "549:\tlearn: 1556.7098986\ttotal: 1m 2s\tremaining: 50.9s\n",
      "552:\tlearn: 1556.4191260\ttotal: 1m 2s\tremaining: 50.6s\n",
      "555:\tlearn: 1556.3081297\ttotal: 1m 2s\tremaining: 50.2s\n",
      "558:\tlearn: 1555.6685942\ttotal: 1m 3s\tremaining: 49.9s\n",
      "561:\tlearn: 1555.3945536\ttotal: 1m 3s\tremaining: 49.5s\n",
      "564:\tlearn: 1554.9610428\ttotal: 1m 3s\tremaining: 49.1s\n",
      "567:\tlearn: 1554.3185747\ttotal: 1m 4s\tremaining: 48.8s\n",
      "570:\tlearn: 1553.8897444\ttotal: 1m 4s\tremaining: 48.4s\n",
      "573:\tlearn: 1553.3102095\ttotal: 1m 4s\tremaining: 48.1s\n",
      "576:\tlearn: 1552.7571618\ttotal: 1m 5s\tremaining: 47.8s\n",
      "579:\tlearn: 1552.5403452\ttotal: 1m 5s\tremaining: 47.5s\n",
      "582:\tlearn: 1552.2699576\ttotal: 1m 5s\tremaining: 47.1s\n",
      "585:\tlearn: 1551.6701764\ttotal: 1m 6s\tremaining: 46.8s\n",
      "588:\tlearn: 1551.1477973\ttotal: 1m 6s\tremaining: 46.5s\n",
      "591:\tlearn: 1550.5647390\ttotal: 1m 6s\tremaining: 46.2s\n",
      "594:\tlearn: 1550.0745245\ttotal: 1m 7s\tremaining: 45.8s\n",
      "597:\tlearn: 1549.7597637\ttotal: 1m 7s\tremaining: 45.5s\n",
      "600:\tlearn: 1549.5076563\ttotal: 1m 8s\tremaining: 45.2s\n",
      "603:\tlearn: 1549.2264597\ttotal: 1m 8s\tremaining: 44.8s\n",
      "606:\tlearn: 1548.4537313\ttotal: 1m 8s\tremaining: 44.5s\n",
      "609:\tlearn: 1547.8824502\ttotal: 1m 9s\tremaining: 44.1s\n",
      "612:\tlearn: 1547.4484959\ttotal: 1m 9s\tremaining: 43.8s\n",
      "615:\tlearn: 1546.7298271\ttotal: 1m 9s\tremaining: 43.5s\n",
      "618:\tlearn: 1546.2103340\ttotal: 1m 10s\tremaining: 43.1s\n",
      "621:\tlearn: 1545.8016043\ttotal: 1m 10s\tremaining: 42.8s\n",
      "624:\tlearn: 1544.9915815\ttotal: 1m 10s\tremaining: 42.4s\n",
      "627:\tlearn: 1544.5633973\ttotal: 1m 11s\tremaining: 42.1s\n",
      "630:\tlearn: 1544.2493534\ttotal: 1m 11s\tremaining: 41.8s\n",
      "633:\tlearn: 1543.8130109\ttotal: 1m 11s\tremaining: 41.5s\n",
      "636:\tlearn: 1543.2576723\ttotal: 1m 12s\tremaining: 41.2s\n",
      "639:\tlearn: 1542.4309256\ttotal: 1m 12s\tremaining: 40.8s\n",
      "642:\tlearn: 1541.9000637\ttotal: 1m 12s\tremaining: 40.5s\n",
      "645:\tlearn: 1541.4261306\ttotal: 1m 13s\tremaining: 40.2s\n",
      "648:\tlearn: 1541.1164555\ttotal: 1m 13s\tremaining: 39.8s\n",
      "651:\tlearn: 1540.3617390\ttotal: 1m 13s\tremaining: 39.5s\n",
      "654:\tlearn: 1539.7772786\ttotal: 1m 14s\tremaining: 39.1s\n",
      "657:\tlearn: 1539.5468424\ttotal: 1m 14s\tremaining: 38.8s\n",
      "660:\tlearn: 1539.0401147\ttotal: 1m 14s\tremaining: 38.4s\n",
      "663:\tlearn: 1538.7727566\ttotal: 1m 15s\tremaining: 38.1s\n",
      "666:\tlearn: 1538.3916500\ttotal: 1m 15s\tremaining: 37.7s\n",
      "669:\tlearn: 1537.7812706\ttotal: 1m 15s\tremaining: 37.4s\n",
      "672:\tlearn: 1537.1650788\ttotal: 1m 16s\tremaining: 37s\n",
      "675:\tlearn: 1536.6753580\ttotal: 1m 16s\tremaining: 36.7s\n",
      "678:\tlearn: 1536.2577762\ttotal: 1m 16s\tremaining: 36.3s\n",
      "681:\tlearn: 1535.7725632\ttotal: 1m 17s\tremaining: 36s\n",
      "684:\tlearn: 1535.5768478\ttotal: 1m 17s\tremaining: 35.6s\n",
      "687:\tlearn: 1535.0710621\ttotal: 1m 17s\tremaining: 35.3s\n",
      "690:\tlearn: 1534.5207420\ttotal: 1m 18s\tremaining: 34.9s\n",
      "693:\tlearn: 1534.1461566\ttotal: 1m 18s\tremaining: 34.6s\n",
      "696:\tlearn: 1533.6196247\ttotal: 1m 18s\tremaining: 34.2s\n",
      "699:\tlearn: 1533.2441089\ttotal: 1m 19s\tremaining: 33.9s\n",
      "702:\tlearn: 1532.9570072\ttotal: 1m 19s\tremaining: 33.5s\n",
      "705:\tlearn: 1532.6146417\ttotal: 1m 19s\tremaining: 33.2s\n",
      "708:\tlearn: 1532.2010122\ttotal: 1m 20s\tremaining: 32.9s\n",
      "711:\tlearn: 1531.8469523\ttotal: 1m 20s\tremaining: 32.5s\n",
      "714:\tlearn: 1531.5923625\ttotal: 1m 20s\tremaining: 32.2s\n",
      "717:\tlearn: 1531.2659983\ttotal: 1m 21s\tremaining: 31.8s\n",
      "720:\tlearn: 1530.7486799\ttotal: 1m 21s\tremaining: 31.5s\n",
      "723:\tlearn: 1530.3437775\ttotal: 1m 21s\tremaining: 31.2s\n",
      "726:\tlearn: 1529.7890899\ttotal: 1m 22s\tremaining: 30.8s\n",
      "729:\tlearn: 1529.2520531\ttotal: 1m 22s\tremaining: 30.5s\n",
      "732:\tlearn: 1528.9622885\ttotal: 1m 22s\tremaining: 30.2s\n",
      "735:\tlearn: 1528.5328157\ttotal: 1m 23s\tremaining: 29.8s\n",
      "738:\tlearn: 1527.8817880\ttotal: 1m 23s\tremaining: 29.5s\n",
      "741:\tlearn: 1527.3438001\ttotal: 1m 23s\tremaining: 29.1s\n",
      "744:\tlearn: 1526.9081381\ttotal: 1m 24s\tremaining: 28.8s\n",
      "747:\tlearn: 1526.5422372\ttotal: 1m 24s\tremaining: 28.5s\n",
      "750:\tlearn: 1526.2660816\ttotal: 1m 24s\tremaining: 28.1s\n",
      "753:\tlearn: 1526.0682323\ttotal: 1m 25s\tremaining: 27.8s\n",
      "756:\tlearn: 1525.7097506\ttotal: 1m 25s\tremaining: 27.5s\n",
      "759:\tlearn: 1525.1598303\ttotal: 1m 25s\tremaining: 27.1s\n",
      "762:\tlearn: 1524.9519946\ttotal: 1m 26s\tremaining: 26.8s\n",
      "765:\tlearn: 1524.5024842\ttotal: 1m 26s\tremaining: 26.4s\n",
      "768:\tlearn: 1524.1152787\ttotal: 1m 26s\tremaining: 26.1s\n",
      "771:\tlearn: 1523.6706906\ttotal: 1m 27s\tremaining: 25.7s\n",
      "774:\tlearn: 1523.1063516\ttotal: 1m 27s\tremaining: 25.4s\n",
      "777:\tlearn: 1522.7435854\ttotal: 1m 27s\tremaining: 25s\n",
      "780:\tlearn: 1522.2128055\ttotal: 1m 28s\tremaining: 24.7s\n",
      "783:\tlearn: 1521.8897981\ttotal: 1m 28s\tremaining: 24.4s\n",
      "786:\tlearn: 1521.6362717\ttotal: 1m 28s\tremaining: 24s\n",
      "789:\tlearn: 1521.2789611\ttotal: 1m 29s\tremaining: 23.7s\n",
      "792:\tlearn: 1520.9571552\ttotal: 1m 29s\tremaining: 23.3s\n",
      "795:\tlearn: 1520.6900788\ttotal: 1m 29s\tremaining: 23s\n",
      "798:\tlearn: 1520.4105440\ttotal: 1m 30s\tremaining: 22.7s\n",
      "801:\tlearn: 1520.1098716\ttotal: 1m 30s\tremaining: 22.3s\n",
      "804:\tlearn: 1519.8843361\ttotal: 1m 30s\tremaining: 22s\n",
      "807:\tlearn: 1519.6507798\ttotal: 1m 31s\tremaining: 21.6s\n",
      "810:\tlearn: 1519.2214128\ttotal: 1m 31s\tremaining: 21.3s\n",
      "813:\tlearn: 1518.7181844\ttotal: 1m 31s\tremaining: 21s\n",
      "816:\tlearn: 1518.3633850\ttotal: 1m 32s\tremaining: 20.6s\n",
      "819:\tlearn: 1518.0193543\ttotal: 1m 32s\tremaining: 20.3s\n",
      "822:\tlearn: 1517.8316872\ttotal: 1m 32s\tremaining: 20s\n",
      "825:\tlearn: 1517.6315538\ttotal: 1m 33s\tremaining: 19.6s\n",
      "828:\tlearn: 1517.1454345\ttotal: 1m 33s\tremaining: 19.3s\n",
      "831:\tlearn: 1516.9656307\ttotal: 1m 33s\tremaining: 19s\n",
      "834:\tlearn: 1516.4534828\ttotal: 1m 34s\tremaining: 18.6s\n",
      "837:\tlearn: 1515.9621809\ttotal: 1m 34s\tremaining: 18.3s\n",
      "840:\tlearn: 1515.5095735\ttotal: 1m 34s\tremaining: 17.9s\n",
      "843:\tlearn: 1515.2781323\ttotal: 1m 35s\tremaining: 17.6s\n",
      "846:\tlearn: 1514.8056205\ttotal: 1m 35s\tremaining: 17.3s\n",
      "849:\tlearn: 1514.5982359\ttotal: 1m 35s\tremaining: 16.9s\n",
      "852:\tlearn: 1514.3641248\ttotal: 1m 36s\tremaining: 16.6s\n",
      "855:\tlearn: 1514.2242524\ttotal: 1m 36s\tremaining: 16.2s\n",
      "858:\tlearn: 1513.7326368\ttotal: 1m 36s\tremaining: 15.9s\n",
      "861:\tlearn: 1513.6570215\ttotal: 1m 37s\tremaining: 15.6s\n",
      "864:\tlearn: 1513.3950779\ttotal: 1m 37s\tremaining: 15.2s\n",
      "867:\tlearn: 1513.0931981\ttotal: 1m 37s\tremaining: 14.9s\n",
      "870:\tlearn: 1512.7267507\ttotal: 1m 38s\tremaining: 14.5s\n",
      "873:\tlearn: 1512.5070032\ttotal: 1m 38s\tremaining: 14.2s\n",
      "876:\tlearn: 1512.2972506\ttotal: 1m 38s\tremaining: 13.9s\n",
      "879:\tlearn: 1512.0366974\ttotal: 1m 39s\tremaining: 13.5s\n",
      "882:\tlearn: 1511.8808631\ttotal: 1m 39s\tremaining: 13.2s\n",
      "885:\tlearn: 1511.6791360\ttotal: 1m 39s\tremaining: 12.9s\n",
      "888:\tlearn: 1511.1092217\ttotal: 1m 40s\tremaining: 12.5s\n"
     ]
    },
    {
     "name": "stdout",
     "output_type": "stream",
     "text": [
      "891:\tlearn: 1510.6812891\ttotal: 1m 40s\tremaining: 12.2s\n",
      "894:\tlearn: 1510.3573580\ttotal: 1m 40s\tremaining: 11.8s\n",
      "897:\tlearn: 1510.0500694\ttotal: 1m 41s\tremaining: 11.5s\n",
      "900:\tlearn: 1509.7544674\ttotal: 1m 41s\tremaining: 11.2s\n",
      "903:\tlearn: 1509.5453949\ttotal: 1m 42s\tremaining: 10.8s\n",
      "906:\tlearn: 1509.3721934\ttotal: 1m 42s\tremaining: 10.5s\n",
      "909:\tlearn: 1509.0778860\ttotal: 1m 42s\tremaining: 10.2s\n",
      "912:\tlearn: 1508.9577887\ttotal: 1m 43s\tremaining: 9.82s\n",
      "915:\tlearn: 1508.3274146\ttotal: 1m 43s\tremaining: 9.48s\n",
      "918:\tlearn: 1508.0316095\ttotal: 1m 43s\tremaining: 9.15s\n",
      "921:\tlearn: 1507.8090804\ttotal: 1m 44s\tremaining: 8.81s\n",
      "924:\tlearn: 1507.5961758\ttotal: 1m 44s\tremaining: 8.47s\n",
      "927:\tlearn: 1507.3282132\ttotal: 1m 44s\tremaining: 8.13s\n",
      "930:\tlearn: 1507.0945375\ttotal: 1m 45s\tremaining: 7.79s\n",
      "933:\tlearn: 1506.5758519\ttotal: 1m 45s\tremaining: 7.45s\n",
      "936:\tlearn: 1506.2545442\ttotal: 1m 45s\tremaining: 7.12s\n",
      "939:\tlearn: 1505.9633492\ttotal: 1m 46s\tremaining: 6.78s\n",
      "942:\tlearn: 1505.5041452\ttotal: 1m 46s\tremaining: 6.44s\n",
      "945:\tlearn: 1504.7772092\ttotal: 1m 46s\tremaining: 6.1s\n",
      "948:\tlearn: 1504.1733236\ttotal: 1m 47s\tremaining: 5.76s\n",
      "951:\tlearn: 1503.8319023\ttotal: 1m 47s\tremaining: 5.42s\n",
      "954:\tlearn: 1503.5930891\ttotal: 1m 47s\tremaining: 5.08s\n",
      "957:\tlearn: 1503.3098060\ttotal: 1m 48s\tremaining: 4.74s\n",
      "960:\tlearn: 1502.8813013\ttotal: 1m 48s\tremaining: 4.4s\n",
      "963:\tlearn: 1502.6706097\ttotal: 1m 48s\tremaining: 4.06s\n",
      "966:\tlearn: 1502.4308863\ttotal: 1m 49s\tremaining: 3.73s\n",
      "969:\tlearn: 1502.2358765\ttotal: 1m 49s\tremaining: 3.39s\n",
      "972:\tlearn: 1501.9863040\ttotal: 1m 49s\tremaining: 3.05s\n",
      "975:\tlearn: 1501.8590275\ttotal: 1m 50s\tremaining: 2.71s\n",
      "978:\tlearn: 1501.6889381\ttotal: 1m 50s\tremaining: 2.37s\n",
      "981:\tlearn: 1501.4611357\ttotal: 1m 50s\tremaining: 2.03s\n",
      "984:\tlearn: 1501.1638488\ttotal: 1m 51s\tremaining: 1.69s\n",
      "987:\tlearn: 1500.9139530\ttotal: 1m 51s\tremaining: 1.35s\n",
      "990:\tlearn: 1500.6761057\ttotal: 1m 51s\tremaining: 1.02s\n",
      "993:\tlearn: 1500.5233989\ttotal: 1m 52s\tremaining: 678ms\n",
      "996:\tlearn: 1500.2576499\ttotal: 1m 52s\tremaining: 339ms\n",
      "999:\tlearn: 1500.0002931\ttotal: 1m 52s\tremaining: 0us\n",
      "CPU times: total: 13min 43s\n",
      "Wall time: 7min 11s\n"
     ]
    },
    {
     "data": {
      "text/plain": [
       "GridSearchCV(cv=3,\n",
       "             estimator=<catboost.core.CatBoostRegressor object at 0x000001D9D7DE5130>,\n",
       "             n_jobs=-1, param_grid={'learning_rate': [0.2, 0.25, 0.3]},\n",
       "             scoring='neg_mean_squared_error', verbose=1)"
      ]
     },
     "execution_count": 71,
     "metadata": {},
     "output_type": "execute_result"
    }
   ],
   "source": [
    "%%time\n",
    "catboost_grid = GridSearchCV(catboost_model, catboost_params, cv=3, scoring='neg_mean_squared_error', n_jobs=-1, verbose=1)\n",
    "catboost_grid.fit(features_train, target_train)"
   ]
  },
  {
   "cell_type": "markdown",
   "metadata": {},
   "source": [
    "Отобразим лучшие гиперпараметры"
   ]
  },
  {
   "cell_type": "code",
   "execution_count": 72,
   "metadata": {},
   "outputs": [
    {
     "data": {
      "text/plain": [
       "{'learning_rate': 0.25}"
      ]
     },
     "execution_count": 72,
     "metadata": {},
     "output_type": "execute_result"
    }
   ],
   "source": [
    "catboost_grid.best_params_"
   ]
  },
  {
   "cell_type": "markdown",
   "metadata": {},
   "source": [
    "Получим предсказания модели"
   ]
  },
  {
   "cell_type": "code",
   "execution_count": 73,
   "metadata": {},
   "outputs": [],
   "source": [
    "catboost_predict = catboost_grid.predict(features_test)"
   ]
  },
  {
   "cell_type": "markdown",
   "metadata": {},
   "source": [
    "Посчитаем и выведем на экран, метрику RMSE"
   ]
  },
  {
   "cell_type": "code",
   "execution_count": 74,
   "metadata": {},
   "outputs": [
    {
     "name": "stdout",
     "output_type": "stream",
     "text": [
      "RMSE: 1638.36\n"
     ]
    }
   ],
   "source": [
    "catboost_rmse = mean_squared_error(target_test, catboost_predict) ** 0.5\n",
    "print(f'RMSE: {catboost_rmse:.2f}')"
   ]
  },
  {
   "cell_type": "markdown",
   "metadata": {},
   "source": [
    "## Анализ моделей"
   ]
  },
  {
   "cell_type": "markdown",
   "metadata": {},
   "source": [
    "Создадим пустые списки для записи параметров моделей: качество, время обучения и скорость предсказания модели"
   ]
  },
  {
   "cell_type": "code",
   "execution_count": 75,
   "metadata": {},
   "outputs": [],
   "source": [
    "rmse = []\n",
    "training_time = []\n",
    "prediction_time = []"
   ]
  },
  {
   "cell_type": "markdown",
   "metadata": {},
   "source": [
    "### Линейная регрессия"
   ]
  },
  {
   "cell_type": "code",
   "execution_count": 76,
   "metadata": {},
   "outputs": [],
   "source": [
    "linear_model = LinearRegression()"
   ]
  },
  {
   "cell_type": "markdown",
   "metadata": {},
   "source": [
    "Обучим модель"
   ]
  },
  {
   "cell_type": "code",
   "execution_count": 77,
   "metadata": {},
   "outputs": [],
   "source": [
    "start_time = datetime.now() \n",
    "linear_model.fit(ohe_features_train, target_train)\n",
    "training_time.append(datetime.now() - start_time)"
   ]
  },
  {
   "cell_type": "markdown",
   "metadata": {},
   "source": [
    "Получим предсказания модели"
   ]
  },
  {
   "cell_type": "code",
   "execution_count": 78,
   "metadata": {},
   "outputs": [],
   "source": [
    "start_time = datetime.now() \n",
    "linear_predict = linear_model.predict(ohe_features_test)\n",
    "prediction_time.append(datetime.now() - start_time)"
   ]
  },
  {
   "cell_type": "markdown",
   "metadata": {},
   "source": [
    "Посчитаем и выведем на экран, метрику RMSE"
   ]
  },
  {
   "cell_type": "code",
   "execution_count": 79,
   "metadata": {},
   "outputs": [
    {
     "name": "stdout",
     "output_type": "stream",
     "text": [
      "RMSE: 2732.85\n"
     ]
    }
   ],
   "source": [
    "linear_rmse = mean_squared_error(target_test, linear_predict) ** 0.5\n",
    "print(f'RMSE: {linear_rmse:.2f}')\n",
    "rmse.append(round(linear_rmse,2))"
   ]
  },
  {
   "cell_type": "markdown",
   "metadata": {},
   "source": [
    "### Дерево решений"
   ]
  },
  {
   "cell_type": "code",
   "execution_count": 80,
   "metadata": {},
   "outputs": [],
   "source": [
    "tree_model = DecisionTreeRegressor(max_depth=24,\n",
    "                                   min_samples_leaf=13,\n",
    "                                   random_state=12345) "
   ]
  },
  {
   "cell_type": "markdown",
   "metadata": {},
   "source": [
    "Обучим модель"
   ]
  },
  {
   "cell_type": "code",
   "execution_count": 81,
   "metadata": {},
   "outputs": [],
   "source": [
    "start_time = datetime.now() \n",
    "tree_model.fit(ohe_features_train, target_train)\n",
    "training_time.append(datetime.now() - start_time)"
   ]
  },
  {
   "cell_type": "markdown",
   "metadata": {},
   "source": [
    "Получим предсказания модели"
   ]
  },
  {
   "cell_type": "code",
   "execution_count": 82,
   "metadata": {},
   "outputs": [],
   "source": [
    "start_time = datetime.now() \n",
    "tree_predict = tree_model.predict(ohe_features_test)\n",
    "prediction_time.append(datetime.now() - start_time)"
   ]
  },
  {
   "cell_type": "markdown",
   "metadata": {},
   "source": [
    "Посчитаем и выведем на экран, метрику RMSE"
   ]
  },
  {
   "cell_type": "code",
   "execution_count": 83,
   "metadata": {
    "scrolled": true
   },
   "outputs": [
    {
     "name": "stdout",
     "output_type": "stream",
     "text": [
      "RMSE: 1870.36\n"
     ]
    }
   ],
   "source": [
    "tree_rmse = mean_squared_error(target_test, tree_predict) ** 0.5\n",
    "print(f'RMSE: {tree_rmse:.2f}')\n",
    "rmse.append(round(tree_rmse,2))"
   ]
  },
  {
   "cell_type": "markdown",
   "metadata": {},
   "source": [
    "### Случайный лес"
   ]
  },
  {
   "cell_type": "code",
   "execution_count": 84,
   "metadata": {},
   "outputs": [],
   "source": [
    "forest_model = RandomForestRegressor(max_depth=23, n_jobs=-1, random_state=12345)"
   ]
  },
  {
   "cell_type": "markdown",
   "metadata": {},
   "source": [
    "Обучим модель"
   ]
  },
  {
   "cell_type": "code",
   "execution_count": 85,
   "metadata": {},
   "outputs": [],
   "source": [
    "start_time = datetime.now() \n",
    "forest_model.fit(ohe_features_train, target_train)\n",
    "training_time.append(datetime.now() - start_time)"
   ]
  },
  {
   "cell_type": "markdown",
   "metadata": {},
   "source": [
    "Получим предсказания модели"
   ]
  },
  {
   "cell_type": "code",
   "execution_count": 86,
   "metadata": {},
   "outputs": [],
   "source": [
    "start_time = datetime.now() \n",
    "forest_predict = forest_model.predict(ohe_features_test)\n",
    "prediction_time.append(datetime.now() - start_time)"
   ]
  },
  {
   "cell_type": "markdown",
   "metadata": {},
   "source": [
    "Посчитаем и выведем на экран, метрику RMSE"
   ]
  },
  {
   "cell_type": "code",
   "execution_count": 87,
   "metadata": {
    "scrolled": true
   },
   "outputs": [
    {
     "name": "stdout",
     "output_type": "stream",
     "text": [
      "RMSE: 1701.12\n"
     ]
    }
   ],
   "source": [
    "forest_rmse = mean_squared_error(target_test, forest_predict) ** 0.5\n",
    "print(f'RMSE: {forest_rmse:.2f}')\n",
    "rmse.append(round(forest_rmse,2))"
   ]
  },
  {
   "cell_type": "markdown",
   "metadata": {},
   "source": [
    "### Градиентный бустинг LightGBM"
   ]
  },
  {
   "cell_type": "code",
   "execution_count": 88,
   "metadata": {},
   "outputs": [],
   "source": [
    "lgbm_model = LGBMRegressor(learning_rate=0.1,\n",
    "                           num_leaves=550,\n",
    "                           force_col_wise=True,\n",
    "                           random_state=12345)"
   ]
  },
  {
   "cell_type": "markdown",
   "metadata": {},
   "source": [
    "Обучим модель"
   ]
  },
  {
   "cell_type": "code",
   "execution_count": 89,
   "metadata": {},
   "outputs": [],
   "source": [
    "start_time = datetime.now() \n",
    "lgbm_model.fit(features_train, target_train)\n",
    "training_time.append(datetime.now() - start_time)"
   ]
  },
  {
   "cell_type": "markdown",
   "metadata": {},
   "source": [
    "Получим предсказания модели"
   ]
  },
  {
   "cell_type": "code",
   "execution_count": 90,
   "metadata": {},
   "outputs": [],
   "source": [
    "start_time = datetime.now() \n",
    "lgbm_predict = lgbm_model.predict(features_test)\n",
    "prediction_time.append(datetime.now() - start_time)"
   ]
  },
  {
   "cell_type": "markdown",
   "metadata": {},
   "source": [
    "Посчитаем и выведем на экран, метрику RMSE"
   ]
  },
  {
   "cell_type": "code",
   "execution_count": 91,
   "metadata": {
    "scrolled": true
   },
   "outputs": [
    {
     "name": "stdout",
     "output_type": "stream",
     "text": [
      "RMSE: 1594.88\n"
     ]
    }
   ],
   "source": [
    "lgbm_rmse = mean_squared_error(target_test, lgbm_predict) ** 0.5\n",
    "print(f'RMSE: {lgbm_rmse:.2f}')\n",
    "rmse.append(round(lgbm_rmse,2))"
   ]
  },
  {
   "cell_type": "markdown",
   "metadata": {},
   "source": [
    "### Градиентный бустинг CatBoost"
   ]
  },
  {
   "cell_type": "code",
   "execution_count": 92,
   "metadata": {},
   "outputs": [],
   "source": [
    "catboost_model = CatBoostRegressor(learning_rate=0.25,\n",
    "                                   cat_features=str_columns,\n",
    "                                   random_state=12345)"
   ]
  },
  {
   "cell_type": "markdown",
   "metadata": {},
   "source": [
    "Обучим модель"
   ]
  },
  {
   "cell_type": "code",
   "execution_count": 93,
   "metadata": {
    "scrolled": true
   },
   "outputs": [
    {
     "name": "stdout",
     "output_type": "stream",
     "text": [
      "0:\tlearn: 3821.3195910\ttotal: 138ms\tremaining: 2m 18s\n",
      "1:\tlearn: 3334.5901165\ttotal: 251ms\tremaining: 2m 5s\n",
      "2:\tlearn: 2981.9147393\ttotal: 368ms\tremaining: 2m 2s\n",
      "3:\tlearn: 2718.4060355\ttotal: 498ms\tremaining: 2m 3s\n",
      "4:\tlearn: 2520.9163136\ttotal: 602ms\tremaining: 1m 59s\n",
      "5:\tlearn: 2382.6157768\ttotal: 701ms\tremaining: 1m 56s\n",
      "6:\tlearn: 2289.3752941\ttotal: 811ms\tremaining: 1m 54s\n",
      "7:\tlearn: 2207.2086148\ttotal: 927ms\tremaining: 1m 54s\n",
      "8:\tlearn: 2142.9624543\ttotal: 1.03s\tremaining: 1m 53s\n",
      "9:\tlearn: 2096.1899899\ttotal: 1.16s\tremaining: 1m 55s\n",
      "10:\tlearn: 2058.8548944\ttotal: 1.26s\tremaining: 1m 53s\n",
      "11:\tlearn: 2031.8697229\ttotal: 1.37s\tremaining: 1m 53s\n",
      "12:\tlearn: 2011.5668644\ttotal: 1.48s\tremaining: 1m 52s\n",
      "13:\tlearn: 1987.7043182\ttotal: 1.59s\tremaining: 1m 51s\n",
      "14:\tlearn: 1973.1966557\ttotal: 1.7s\tremaining: 1m 51s\n",
      "15:\tlearn: 1957.3495278\ttotal: 1.82s\tremaining: 1m 51s\n",
      "16:\tlearn: 1944.7107075\ttotal: 1.89s\tremaining: 1m 49s\n",
      "17:\tlearn: 1934.7299714\ttotal: 2.02s\tremaining: 1m 50s\n",
      "18:\tlearn: 1923.4197824\ttotal: 2.13s\tremaining: 1m 50s\n",
      "19:\tlearn: 1911.6652707\ttotal: 2.25s\tremaining: 1m 50s\n",
      "20:\tlearn: 1903.7287529\ttotal: 2.35s\tremaining: 1m 49s\n",
      "21:\tlearn: 1894.2886774\ttotal: 2.45s\tremaining: 1m 48s\n",
      "22:\tlearn: 1887.1597304\ttotal: 2.57s\tremaining: 1m 49s\n",
      "23:\tlearn: 1881.4047587\ttotal: 2.67s\tremaining: 1m 48s\n",
      "24:\tlearn: 1873.9318223\ttotal: 2.75s\tremaining: 1m 47s\n",
      "25:\tlearn: 1867.2765722\ttotal: 2.86s\tremaining: 1m 47s\n",
      "26:\tlearn: 1862.8605403\ttotal: 2.96s\tremaining: 1m 46s\n",
      "27:\tlearn: 1856.8813978\ttotal: 3.07s\tremaining: 1m 46s\n",
      "28:\tlearn: 1850.6019748\ttotal: 3.17s\tremaining: 1m 46s\n",
      "29:\tlearn: 1846.1412481\ttotal: 3.27s\tremaining: 1m 45s\n",
      "30:\tlearn: 1843.0245839\ttotal: 3.37s\tremaining: 1m 45s\n",
      "31:\tlearn: 1835.6980277\ttotal: 3.46s\tremaining: 1m 44s\n",
      "32:\tlearn: 1832.2600060\ttotal: 3.56s\tremaining: 1m 44s\n",
      "33:\tlearn: 1829.8506333\ttotal: 3.66s\tremaining: 1m 44s\n",
      "34:\tlearn: 1825.6787055\ttotal: 3.77s\tremaining: 1m 43s\n",
      "35:\tlearn: 1822.9723981\ttotal: 3.88s\tremaining: 1m 43s\n",
      "36:\tlearn: 1817.7610329\ttotal: 4s\tremaining: 1m 44s\n",
      "37:\tlearn: 1813.7638236\ttotal: 4.1s\tremaining: 1m 43s\n",
      "38:\tlearn: 1810.3620349\ttotal: 4.19s\tremaining: 1m 43s\n",
      "39:\tlearn: 1806.7458559\ttotal: 4.32s\tremaining: 1m 43s\n",
      "40:\tlearn: 1802.8330472\ttotal: 4.41s\tremaining: 1m 43s\n",
      "41:\tlearn: 1801.3023647\ttotal: 4.51s\tremaining: 1m 42s\n",
      "42:\tlearn: 1797.6551987\ttotal: 4.66s\tremaining: 1m 43s\n",
      "43:\tlearn: 1796.0612636\ttotal: 4.76s\tremaining: 1m 43s\n",
      "44:\tlearn: 1791.8751162\ttotal: 4.87s\tremaining: 1m 43s\n",
      "45:\tlearn: 1788.9109115\ttotal: 4.93s\tremaining: 1m 42s\n",
      "46:\tlearn: 1787.2592518\ttotal: 5.08s\tremaining: 1m 43s\n",
      "47:\tlearn: 1784.5049629\ttotal: 5.2s\tremaining: 1m 43s\n",
      "48:\tlearn: 1782.3069773\ttotal: 5.32s\tremaining: 1m 43s\n",
      "49:\tlearn: 1779.6318424\ttotal: 5.42s\tremaining: 1m 43s\n",
      "50:\tlearn: 1777.5541438\ttotal: 5.52s\tremaining: 1m 42s\n",
      "51:\tlearn: 1774.2919831\ttotal: 5.62s\tremaining: 1m 42s\n",
      "52:\tlearn: 1771.9499366\ttotal: 5.76s\tremaining: 1m 42s\n",
      "53:\tlearn: 1769.4984815\ttotal: 5.87s\tremaining: 1m 42s\n",
      "54:\tlearn: 1767.3805136\ttotal: 5.96s\tremaining: 1m 42s\n",
      "55:\tlearn: 1765.2501291\ttotal: 6.09s\tremaining: 1m 42s\n",
      "56:\tlearn: 1763.0208010\ttotal: 6.19s\tremaining: 1m 42s\n",
      "57:\tlearn: 1760.7221048\ttotal: 6.3s\tremaining: 1m 42s\n",
      "58:\tlearn: 1758.9025212\ttotal: 6.41s\tremaining: 1m 42s\n",
      "59:\tlearn: 1756.7785604\ttotal: 6.52s\tremaining: 1m 42s\n",
      "60:\tlearn: 1755.4674004\ttotal: 6.63s\tremaining: 1m 42s\n",
      "61:\tlearn: 1754.3033567\ttotal: 6.75s\tremaining: 1m 42s\n",
      "62:\tlearn: 1753.2521881\ttotal: 6.87s\tremaining: 1m 42s\n",
      "63:\tlearn: 1751.8289053\ttotal: 6.97s\tremaining: 1m 41s\n",
      "64:\tlearn: 1749.8759133\ttotal: 7.06s\tremaining: 1m 41s\n",
      "65:\tlearn: 1747.8769939\ttotal: 7.17s\tremaining: 1m 41s\n",
      "66:\tlearn: 1745.3865234\ttotal: 7.27s\tremaining: 1m 41s\n",
      "67:\tlearn: 1743.8953908\ttotal: 7.36s\tremaining: 1m 40s\n",
      "68:\tlearn: 1742.6651275\ttotal: 7.46s\tremaining: 1m 40s\n",
      "69:\tlearn: 1740.8593573\ttotal: 7.59s\tremaining: 1m 40s\n",
      "70:\tlearn: 1738.2626333\ttotal: 7.69s\tremaining: 1m 40s\n",
      "71:\tlearn: 1736.2701833\ttotal: 7.79s\tremaining: 1m 40s\n",
      "72:\tlearn: 1734.8738880\ttotal: 7.9s\tremaining: 1m 40s\n",
      "73:\tlearn: 1733.2614511\ttotal: 8s\tremaining: 1m 40s\n",
      "74:\tlearn: 1731.0393292\ttotal: 8.12s\tremaining: 1m 40s\n",
      "75:\tlearn: 1729.9601551\ttotal: 8.21s\tremaining: 1m 39s\n",
      "76:\tlearn: 1727.8596939\ttotal: 8.3s\tremaining: 1m 39s\n",
      "77:\tlearn: 1726.4188361\ttotal: 8.42s\tremaining: 1m 39s\n",
      "78:\tlearn: 1725.3146942\ttotal: 8.52s\tremaining: 1m 39s\n",
      "79:\tlearn: 1724.6193628\ttotal: 8.64s\tremaining: 1m 39s\n",
      "80:\tlearn: 1723.3448595\ttotal: 8.73s\tremaining: 1m 39s\n",
      "81:\tlearn: 1722.4364463\ttotal: 8.82s\tremaining: 1m 38s\n",
      "82:\tlearn: 1720.7907749\ttotal: 8.95s\tremaining: 1m 38s\n",
      "83:\tlearn: 1719.2320372\ttotal: 9.04s\tremaining: 1m 38s\n",
      "84:\tlearn: 1717.5275187\ttotal: 9.18s\tremaining: 1m 38s\n",
      "85:\tlearn: 1717.0066620\ttotal: 9.29s\tremaining: 1m 38s\n",
      "86:\tlearn: 1715.9979683\ttotal: 9.41s\tremaining: 1m 38s\n",
      "87:\tlearn: 1715.2924227\ttotal: 9.52s\tremaining: 1m 38s\n",
      "88:\tlearn: 1714.5948909\ttotal: 9.63s\tremaining: 1m 38s\n",
      "89:\tlearn: 1713.4064769\ttotal: 9.73s\tremaining: 1m 38s\n",
      "90:\tlearn: 1711.6500577\ttotal: 9.88s\tremaining: 1m 38s\n",
      "91:\tlearn: 1710.3315187\ttotal: 9.99s\tremaining: 1m 38s\n",
      "92:\tlearn: 1708.9598114\ttotal: 10.1s\tremaining: 1m 38s\n",
      "93:\tlearn: 1707.9390243\ttotal: 10.2s\tremaining: 1m 38s\n",
      "94:\tlearn: 1707.1341771\ttotal: 10.3s\tremaining: 1m 38s\n",
      "95:\tlearn: 1706.4032134\ttotal: 10.4s\tremaining: 1m 38s\n",
      "96:\tlearn: 1705.1810607\ttotal: 10.5s\tremaining: 1m 38s\n",
      "97:\tlearn: 1703.9524131\ttotal: 10.7s\tremaining: 1m 38s\n",
      "98:\tlearn: 1702.8555745\ttotal: 10.8s\tremaining: 1m 38s\n",
      "99:\tlearn: 1702.4907262\ttotal: 10.9s\tremaining: 1m 38s\n",
      "100:\tlearn: 1701.5397778\ttotal: 11s\tremaining: 1m 38s\n",
      "101:\tlearn: 1700.7278931\ttotal: 11.1s\tremaining: 1m 38s\n",
      "102:\tlearn: 1699.7919485\ttotal: 11.2s\tremaining: 1m 37s\n",
      "103:\tlearn: 1698.6575122\ttotal: 11.3s\tremaining: 1m 37s\n",
      "104:\tlearn: 1697.6110768\ttotal: 11.5s\tremaining: 1m 37s\n",
      "105:\tlearn: 1696.2565148\ttotal: 11.6s\tremaining: 1m 37s\n",
      "106:\tlearn: 1695.1294953\ttotal: 11.7s\tremaining: 1m 37s\n",
      "107:\tlearn: 1694.0774608\ttotal: 11.8s\tremaining: 1m 37s\n",
      "108:\tlearn: 1693.1500109\ttotal: 11.9s\tremaining: 1m 37s\n",
      "109:\tlearn: 1692.4957642\ttotal: 12s\tremaining: 1m 37s\n",
      "110:\tlearn: 1690.6981498\ttotal: 12.1s\tremaining: 1m 37s\n",
      "111:\tlearn: 1689.6700432\ttotal: 12.2s\tremaining: 1m 37s\n",
      "112:\tlearn: 1688.7657156\ttotal: 12.4s\tremaining: 1m 36s\n",
      "113:\tlearn: 1688.2932797\ttotal: 12.4s\tremaining: 1m 36s\n",
      "114:\tlearn: 1687.4193644\ttotal: 12.6s\tremaining: 1m 36s\n",
      "115:\tlearn: 1686.8675006\ttotal: 12.6s\tremaining: 1m 36s\n",
      "116:\tlearn: 1685.9826810\ttotal: 12.7s\tremaining: 1m 36s\n",
      "117:\tlearn: 1684.8896359\ttotal: 12.9s\tremaining: 1m 36s\n",
      "118:\tlearn: 1684.3300001\ttotal: 13s\tremaining: 1m 36s\n",
      "119:\tlearn: 1683.1950747\ttotal: 13.1s\tremaining: 1m 36s\n",
      "120:\tlearn: 1682.6556864\ttotal: 13.2s\tremaining: 1m 36s\n",
      "121:\tlearn: 1681.9878083\ttotal: 13.3s\tremaining: 1m 36s\n",
      "122:\tlearn: 1681.3636109\ttotal: 13.5s\tremaining: 1m 36s\n",
      "123:\tlearn: 1680.7730059\ttotal: 13.6s\tremaining: 1m 35s\n",
      "124:\tlearn: 1679.8641555\ttotal: 13.7s\tremaining: 1m 35s\n",
      "125:\tlearn: 1679.0109292\ttotal: 13.8s\tremaining: 1m 35s\n",
      "126:\tlearn: 1678.1453685\ttotal: 14s\tremaining: 1m 35s\n",
      "127:\tlearn: 1677.7877297\ttotal: 14.1s\tremaining: 1m 36s\n",
      "128:\tlearn: 1677.1651299\ttotal: 14.2s\tremaining: 1m 35s\n",
      "129:\tlearn: 1676.3359729\ttotal: 14.3s\tremaining: 1m 35s\n",
      "130:\tlearn: 1675.9034688\ttotal: 14.5s\tremaining: 1m 35s\n",
      "131:\tlearn: 1675.3773884\ttotal: 14.6s\tremaining: 1m 35s\n",
      "132:\tlearn: 1674.8775797\ttotal: 14.7s\tremaining: 1m 35s\n",
      "133:\tlearn: 1674.1733190\ttotal: 14.8s\tremaining: 1m 35s\n",
      "134:\tlearn: 1673.5417797\ttotal: 14.9s\tremaining: 1m 35s\n",
      "135:\tlearn: 1673.1390241\ttotal: 15s\tremaining: 1m 35s\n",
      "136:\tlearn: 1672.2808357\ttotal: 15.1s\tremaining: 1m 35s\n",
      "137:\tlearn: 1671.3286060\ttotal: 15.2s\tremaining: 1m 35s\n",
      "138:\tlearn: 1670.6054942\ttotal: 15.3s\tremaining: 1m 34s\n",
      "139:\tlearn: 1670.2199965\ttotal: 15.4s\tremaining: 1m 34s\n",
      "140:\tlearn: 1669.6437059\ttotal: 15.5s\tremaining: 1m 34s\n",
      "141:\tlearn: 1669.1286292\ttotal: 15.6s\tremaining: 1m 34s\n",
      "142:\tlearn: 1668.7731052\ttotal: 15.8s\tremaining: 1m 34s\n",
      "143:\tlearn: 1667.8599972\ttotal: 15.9s\tremaining: 1m 34s\n",
      "144:\tlearn: 1667.0530747\ttotal: 16s\tremaining: 1m 34s\n",
      "145:\tlearn: 1666.7255787\ttotal: 16.2s\tremaining: 1m 34s\n",
      "146:\tlearn: 1666.1919765\ttotal: 16.3s\tremaining: 1m 34s\n",
      "147:\tlearn: 1665.9151565\ttotal: 16.4s\tremaining: 1m 34s\n",
      "148:\tlearn: 1665.3598260\ttotal: 16.5s\tremaining: 1m 34s\n",
      "149:\tlearn: 1664.6624784\ttotal: 16.6s\tremaining: 1m 33s\n"
     ]
    },
    {
     "name": "stdout",
     "output_type": "stream",
     "text": [
      "150:\tlearn: 1664.1224153\ttotal: 16.7s\tremaining: 1m 33s\n",
      "151:\tlearn: 1663.4409551\ttotal: 16.8s\tremaining: 1m 33s\n",
      "152:\tlearn: 1663.0574763\ttotal: 16.9s\tremaining: 1m 33s\n",
      "153:\tlearn: 1662.4689979\ttotal: 17s\tremaining: 1m 33s\n",
      "154:\tlearn: 1661.8476326\ttotal: 17.1s\tremaining: 1m 33s\n",
      "155:\tlearn: 1661.4726063\ttotal: 17.2s\tremaining: 1m 33s\n",
      "156:\tlearn: 1660.8316578\ttotal: 17.3s\tremaining: 1m 33s\n",
      "157:\tlearn: 1660.6919768\ttotal: 17.5s\tremaining: 1m 33s\n",
      "158:\tlearn: 1660.1625123\ttotal: 17.6s\tremaining: 1m 32s\n",
      "159:\tlearn: 1660.0543775\ttotal: 17.7s\tremaining: 1m 32s\n",
      "160:\tlearn: 1659.8044365\ttotal: 17.8s\tremaining: 1m 32s\n",
      "161:\tlearn: 1659.2407801\ttotal: 17.9s\tremaining: 1m 32s\n",
      "162:\tlearn: 1658.5681936\ttotal: 18s\tremaining: 1m 32s\n",
      "163:\tlearn: 1658.4187453\ttotal: 18.1s\tremaining: 1m 32s\n",
      "164:\tlearn: 1657.7168539\ttotal: 18.2s\tremaining: 1m 32s\n",
      "165:\tlearn: 1657.0743390\ttotal: 18.4s\tremaining: 1m 32s\n",
      "166:\tlearn: 1656.3972211\ttotal: 18.5s\tremaining: 1m 32s\n",
      "167:\tlearn: 1655.7411644\ttotal: 18.6s\tremaining: 1m 32s\n",
      "168:\tlearn: 1655.3918227\ttotal: 18.7s\tremaining: 1m 32s\n",
      "169:\tlearn: 1654.9452864\ttotal: 18.8s\tremaining: 1m 32s\n",
      "170:\tlearn: 1654.2942304\ttotal: 18.9s\tremaining: 1m 31s\n",
      "171:\tlearn: 1653.8163906\ttotal: 19.1s\tremaining: 1m 31s\n",
      "172:\tlearn: 1653.3551117\ttotal: 19.2s\tremaining: 1m 31s\n",
      "173:\tlearn: 1652.8036376\ttotal: 19.3s\tremaining: 1m 31s\n",
      "174:\tlearn: 1652.5563457\ttotal: 19.4s\tremaining: 1m 31s\n",
      "175:\tlearn: 1651.8467379\ttotal: 19.5s\tremaining: 1m 31s\n",
      "176:\tlearn: 1651.5300582\ttotal: 19.6s\tremaining: 1m 31s\n",
      "177:\tlearn: 1651.3655711\ttotal: 19.7s\tremaining: 1m 30s\n",
      "178:\tlearn: 1650.9921534\ttotal: 19.8s\tremaining: 1m 30s\n",
      "179:\tlearn: 1650.6893783\ttotal: 19.9s\tremaining: 1m 30s\n",
      "180:\tlearn: 1650.4281623\ttotal: 20.1s\tremaining: 1m 30s\n",
      "181:\tlearn: 1650.2864818\ttotal: 20.2s\tremaining: 1m 30s\n",
      "182:\tlearn: 1649.8376884\ttotal: 20.3s\tremaining: 1m 30s\n",
      "183:\tlearn: 1649.3725439\ttotal: 20.4s\tremaining: 1m 30s\n",
      "184:\tlearn: 1648.8834653\ttotal: 20.5s\tremaining: 1m 30s\n",
      "185:\tlearn: 1648.6722333\ttotal: 20.6s\tremaining: 1m 30s\n",
      "186:\tlearn: 1647.9582993\ttotal: 20.7s\tremaining: 1m 30s\n",
      "187:\tlearn: 1647.6490520\ttotal: 20.8s\tremaining: 1m 30s\n",
      "188:\tlearn: 1647.2153707\ttotal: 21s\tremaining: 1m 29s\n",
      "189:\tlearn: 1647.1029618\ttotal: 21.1s\tremaining: 1m 29s\n",
      "190:\tlearn: 1646.4639850\ttotal: 21.2s\tremaining: 1m 29s\n",
      "191:\tlearn: 1645.6106246\ttotal: 21.3s\tremaining: 1m 29s\n",
      "192:\tlearn: 1645.1269606\ttotal: 21.4s\tremaining: 1m 29s\n",
      "193:\tlearn: 1644.8698336\ttotal: 21.5s\tremaining: 1m 29s\n",
      "194:\tlearn: 1644.5880263\ttotal: 21.6s\tremaining: 1m 29s\n",
      "195:\tlearn: 1644.3474053\ttotal: 21.8s\tremaining: 1m 29s\n",
      "196:\tlearn: 1644.0842118\ttotal: 21.9s\tremaining: 1m 29s\n",
      "197:\tlearn: 1643.4686694\ttotal: 22s\tremaining: 1m 29s\n",
      "198:\tlearn: 1643.2560214\ttotal: 22.1s\tremaining: 1m 28s\n",
      "199:\tlearn: 1642.8238602\ttotal: 22.2s\tremaining: 1m 28s\n",
      "200:\tlearn: 1642.6723684\ttotal: 22.3s\tremaining: 1m 28s\n",
      "201:\tlearn: 1642.6064662\ttotal: 22.4s\tremaining: 1m 28s\n",
      "202:\tlearn: 1642.0550678\ttotal: 22.5s\tremaining: 1m 28s\n",
      "203:\tlearn: 1641.7639010\ttotal: 22.6s\tremaining: 1m 28s\n",
      "204:\tlearn: 1641.2596347\ttotal: 22.7s\tremaining: 1m 28s\n",
      "205:\tlearn: 1640.8681334\ttotal: 22.8s\tremaining: 1m 28s\n",
      "206:\tlearn: 1640.4399433\ttotal: 22.9s\tremaining: 1m 27s\n",
      "207:\tlearn: 1639.7789203\ttotal: 23s\tremaining: 1m 27s\n",
      "208:\tlearn: 1639.3754275\ttotal: 23.1s\tremaining: 1m 27s\n",
      "209:\tlearn: 1638.8135579\ttotal: 23.2s\tremaining: 1m 27s\n",
      "210:\tlearn: 1638.6660259\ttotal: 23.4s\tremaining: 1m 27s\n",
      "211:\tlearn: 1638.2549040\ttotal: 23.5s\tremaining: 1m 27s\n",
      "212:\tlearn: 1638.0079828\ttotal: 23.6s\tremaining: 1m 27s\n",
      "213:\tlearn: 1637.5874869\ttotal: 23.7s\tremaining: 1m 27s\n",
      "214:\tlearn: 1637.4208870\ttotal: 23.8s\tremaining: 1m 26s\n",
      "215:\tlearn: 1637.2859030\ttotal: 23.9s\tremaining: 1m 26s\n",
      "216:\tlearn: 1636.9225436\ttotal: 24s\tremaining: 1m 26s\n",
      "217:\tlearn: 1636.8515994\ttotal: 24.1s\tremaining: 1m 26s\n",
      "218:\tlearn: 1635.9092872\ttotal: 24.2s\tremaining: 1m 26s\n",
      "219:\tlearn: 1635.6077196\ttotal: 24.3s\tremaining: 1m 26s\n",
      "220:\tlearn: 1635.1968312\ttotal: 24.4s\tremaining: 1m 26s\n",
      "221:\tlearn: 1634.6968750\ttotal: 24.5s\tremaining: 1m 25s\n",
      "222:\tlearn: 1634.2150501\ttotal: 24.6s\tremaining: 1m 25s\n",
      "223:\tlearn: 1633.6741152\ttotal: 24.7s\tremaining: 1m 25s\n",
      "224:\tlearn: 1633.3939992\ttotal: 24.9s\tremaining: 1m 25s\n",
      "225:\tlearn: 1632.9221794\ttotal: 25s\tremaining: 1m 25s\n",
      "226:\tlearn: 1632.4017370\ttotal: 25.1s\tremaining: 1m 25s\n",
      "227:\tlearn: 1632.1545182\ttotal: 25.2s\tremaining: 1m 25s\n",
      "228:\tlearn: 1631.7874082\ttotal: 25.3s\tremaining: 1m 25s\n",
      "229:\tlearn: 1631.6131163\ttotal: 25.4s\tremaining: 1m 25s\n",
      "230:\tlearn: 1631.4719928\ttotal: 25.5s\tremaining: 1m 25s\n",
      "231:\tlearn: 1631.0449672\ttotal: 25.7s\tremaining: 1m 24s\n",
      "232:\tlearn: 1630.8981332\ttotal: 25.8s\tremaining: 1m 24s\n",
      "233:\tlearn: 1630.8637454\ttotal: 25.9s\tremaining: 1m 24s\n",
      "234:\tlearn: 1630.4517949\ttotal: 26s\tremaining: 1m 24s\n",
      "235:\tlearn: 1630.2063919\ttotal: 26.2s\tremaining: 1m 24s\n",
      "236:\tlearn: 1629.8769125\ttotal: 26.3s\tremaining: 1m 24s\n",
      "237:\tlearn: 1629.1216310\ttotal: 26.4s\tremaining: 1m 24s\n",
      "238:\tlearn: 1629.0116215\ttotal: 26.5s\tremaining: 1m 24s\n",
      "239:\tlearn: 1628.6482707\ttotal: 26.7s\tremaining: 1m 24s\n",
      "240:\tlearn: 1628.2927727\ttotal: 26.8s\tremaining: 1m 24s\n",
      "241:\tlearn: 1628.1298630\ttotal: 26.9s\tremaining: 1m 24s\n",
      "242:\tlearn: 1627.9794956\ttotal: 27s\tremaining: 1m 23s\n",
      "243:\tlearn: 1627.2910422\ttotal: 27.1s\tremaining: 1m 23s\n",
      "244:\tlearn: 1626.9262563\ttotal: 27.2s\tremaining: 1m 23s\n",
      "245:\tlearn: 1626.4867681\ttotal: 27.3s\tremaining: 1m 23s\n",
      "246:\tlearn: 1626.3307832\ttotal: 27.4s\tremaining: 1m 23s\n",
      "247:\tlearn: 1626.1921220\ttotal: 27.5s\tremaining: 1m 23s\n",
      "248:\tlearn: 1625.9305461\ttotal: 27.6s\tremaining: 1m 23s\n",
      "249:\tlearn: 1625.7273550\ttotal: 27.7s\tremaining: 1m 23s\n",
      "250:\tlearn: 1625.5396737\ttotal: 27.8s\tremaining: 1m 23s\n",
      "251:\tlearn: 1625.2500732\ttotal: 27.9s\tremaining: 1m 22s\n",
      "252:\tlearn: 1625.0833634\ttotal: 28.1s\tremaining: 1m 22s\n",
      "253:\tlearn: 1624.7260891\ttotal: 28.2s\tremaining: 1m 22s\n",
      "254:\tlearn: 1624.3129818\ttotal: 28.3s\tremaining: 1m 22s\n",
      "255:\tlearn: 1623.8997981\ttotal: 28.4s\tremaining: 1m 22s\n",
      "256:\tlearn: 1623.7699214\ttotal: 28.5s\tremaining: 1m 22s\n",
      "257:\tlearn: 1623.5110764\ttotal: 28.6s\tremaining: 1m 22s\n",
      "258:\tlearn: 1623.2237435\ttotal: 28.7s\tremaining: 1m 22s\n",
      "259:\tlearn: 1623.0368189\ttotal: 28.9s\tremaining: 1m 22s\n",
      "260:\tlearn: 1622.7086714\ttotal: 29s\tremaining: 1m 22s\n",
      "261:\tlearn: 1622.4529737\ttotal: 29.1s\tremaining: 1m 21s\n",
      "262:\tlearn: 1621.8358724\ttotal: 29.2s\tremaining: 1m 21s\n",
      "263:\tlearn: 1621.4391149\ttotal: 29.3s\tremaining: 1m 21s\n",
      "264:\tlearn: 1621.2068302\ttotal: 29.4s\tremaining: 1m 21s\n",
      "265:\tlearn: 1620.9146099\ttotal: 29.5s\tremaining: 1m 21s\n",
      "266:\tlearn: 1620.7483080\ttotal: 29.6s\tremaining: 1m 21s\n",
      "267:\tlearn: 1619.9592605\ttotal: 29.7s\tremaining: 1m 21s\n",
      "268:\tlearn: 1619.5031465\ttotal: 29.8s\tremaining: 1m 21s\n",
      "269:\tlearn: 1619.2558491\ttotal: 29.9s\tremaining: 1m 20s\n",
      "270:\tlearn: 1618.6536072\ttotal: 30s\tremaining: 1m 20s\n",
      "271:\tlearn: 1618.2795861\ttotal: 30.1s\tremaining: 1m 20s\n",
      "272:\tlearn: 1617.8928299\ttotal: 30.2s\tremaining: 1m 20s\n",
      "273:\tlearn: 1617.4156018\ttotal: 30.3s\tremaining: 1m 20s\n",
      "274:\tlearn: 1616.9811341\ttotal: 30.5s\tremaining: 1m 20s\n",
      "275:\tlearn: 1616.7996294\ttotal: 30.5s\tremaining: 1m 20s\n",
      "276:\tlearn: 1616.5280268\ttotal: 30.7s\tremaining: 1m 20s\n",
      "277:\tlearn: 1616.1345367\ttotal: 30.8s\tremaining: 1m 19s\n",
      "278:\tlearn: 1615.8083044\ttotal: 30.9s\tremaining: 1m 19s\n",
      "279:\tlearn: 1615.3431864\ttotal: 31s\tremaining: 1m 19s\n",
      "280:\tlearn: 1614.5778499\ttotal: 31.1s\tremaining: 1m 19s\n",
      "281:\tlearn: 1614.1588394\ttotal: 31.2s\tremaining: 1m 19s\n",
      "282:\tlearn: 1613.9119570\ttotal: 31.4s\tremaining: 1m 19s\n",
      "283:\tlearn: 1613.0952214\ttotal: 31.5s\tremaining: 1m 19s\n",
      "284:\tlearn: 1612.3435855\ttotal: 31.6s\tremaining: 1m 19s\n",
      "285:\tlearn: 1612.0418047\ttotal: 31.7s\tremaining: 1m 19s\n",
      "286:\tlearn: 1611.7398348\ttotal: 31.8s\tremaining: 1m 19s\n",
      "287:\tlearn: 1611.5083781\ttotal: 31.9s\tremaining: 1m 18s\n",
      "288:\tlearn: 1611.3805849\ttotal: 32.1s\tremaining: 1m 18s\n",
      "289:\tlearn: 1611.1013088\ttotal: 32.2s\tremaining: 1m 18s\n",
      "290:\tlearn: 1610.8759672\ttotal: 32.3s\tremaining: 1m 18s\n",
      "291:\tlearn: 1610.7271110\ttotal: 32.4s\tremaining: 1m 18s\n",
      "292:\tlearn: 1610.5714669\ttotal: 32.5s\tremaining: 1m 18s\n",
      "293:\tlearn: 1610.1150346\ttotal: 32.6s\tremaining: 1m 18s\n",
      "294:\tlearn: 1609.9213073\ttotal: 32.7s\tremaining: 1m 18s\n",
      "295:\tlearn: 1609.6127611\ttotal: 32.9s\tremaining: 1m 18s\n",
      "296:\tlearn: 1609.4570762\ttotal: 33s\tremaining: 1m 18s\n"
     ]
    },
    {
     "name": "stdout",
     "output_type": "stream",
     "text": [
      "297:\tlearn: 1609.3367287\ttotal: 33.1s\tremaining: 1m 17s\n",
      "298:\tlearn: 1609.1772929\ttotal: 33.2s\tremaining: 1m 17s\n",
      "299:\tlearn: 1609.0859557\ttotal: 33.3s\tremaining: 1m 17s\n",
      "300:\tlearn: 1608.8779830\ttotal: 33.4s\tremaining: 1m 17s\n",
      "301:\tlearn: 1608.4306885\ttotal: 33.5s\tremaining: 1m 17s\n",
      "302:\tlearn: 1608.1672716\ttotal: 33.6s\tremaining: 1m 17s\n",
      "303:\tlearn: 1607.8349780\ttotal: 33.7s\tremaining: 1m 17s\n",
      "304:\tlearn: 1607.7614170\ttotal: 33.8s\tremaining: 1m 17s\n",
      "305:\tlearn: 1607.7548772\ttotal: 34s\tremaining: 1m 17s\n",
      "306:\tlearn: 1607.4054282\ttotal: 34.1s\tremaining: 1m 16s\n",
      "307:\tlearn: 1607.2800511\ttotal: 34.2s\tremaining: 1m 16s\n",
      "308:\tlearn: 1607.1225717\ttotal: 34.3s\tremaining: 1m 16s\n",
      "309:\tlearn: 1606.8631273\ttotal: 34.4s\tremaining: 1m 16s\n",
      "310:\tlearn: 1606.7280830\ttotal: 34.5s\tremaining: 1m 16s\n",
      "311:\tlearn: 1606.3741269\ttotal: 34.6s\tremaining: 1m 16s\n",
      "312:\tlearn: 1606.3432533\ttotal: 34.8s\tremaining: 1m 16s\n",
      "313:\tlearn: 1605.5871878\ttotal: 34.9s\tremaining: 1m 16s\n",
      "314:\tlearn: 1605.0671493\ttotal: 35s\tremaining: 1m 16s\n",
      "315:\tlearn: 1604.8477033\ttotal: 35.1s\tremaining: 1m 16s\n",
      "316:\tlearn: 1604.6720853\ttotal: 35.2s\tremaining: 1m 15s\n",
      "317:\tlearn: 1604.5340027\ttotal: 35.3s\tremaining: 1m 15s\n",
      "318:\tlearn: 1604.2016330\ttotal: 35.4s\tremaining: 1m 15s\n",
      "319:\tlearn: 1603.7536925\ttotal: 35.6s\tremaining: 1m 15s\n",
      "320:\tlearn: 1603.4485784\ttotal: 35.7s\tremaining: 1m 15s\n",
      "321:\tlearn: 1602.8438995\ttotal: 35.8s\tremaining: 1m 15s\n",
      "322:\tlearn: 1602.3900730\ttotal: 35.9s\tremaining: 1m 15s\n",
      "323:\tlearn: 1601.8865668\ttotal: 36s\tremaining: 1m 15s\n",
      "324:\tlearn: 1601.5053797\ttotal: 36.1s\tremaining: 1m 14s\n",
      "325:\tlearn: 1601.3874003\ttotal: 36.2s\tremaining: 1m 14s\n",
      "326:\tlearn: 1601.2547667\ttotal: 36.3s\tremaining: 1m 14s\n",
      "327:\tlearn: 1600.6770173\ttotal: 36.4s\tremaining: 1m 14s\n",
      "328:\tlearn: 1600.3090486\ttotal: 36.5s\tremaining: 1m 14s\n",
      "329:\tlearn: 1599.9648054\ttotal: 36.7s\tremaining: 1m 14s\n",
      "330:\tlearn: 1599.7528457\ttotal: 36.8s\tremaining: 1m 14s\n",
      "331:\tlearn: 1599.5404235\ttotal: 36.9s\tremaining: 1m 14s\n",
      "332:\tlearn: 1599.2655666\ttotal: 37s\tremaining: 1m 14s\n",
      "333:\tlearn: 1598.5463170\ttotal: 37.1s\tremaining: 1m 14s\n",
      "334:\tlearn: 1598.2828443\ttotal: 37.2s\tremaining: 1m 13s\n",
      "335:\tlearn: 1598.1434678\ttotal: 37.4s\tremaining: 1m 13s\n",
      "336:\tlearn: 1598.0760864\ttotal: 37.5s\tremaining: 1m 13s\n",
      "337:\tlearn: 1597.5903285\ttotal: 37.6s\tremaining: 1m 13s\n",
      "338:\tlearn: 1597.2946040\ttotal: 37.7s\tremaining: 1m 13s\n",
      "339:\tlearn: 1597.2754798\ttotal: 37.8s\tremaining: 1m 13s\n",
      "340:\tlearn: 1596.7822600\ttotal: 37.9s\tremaining: 1m 13s\n",
      "341:\tlearn: 1596.6070654\ttotal: 38s\tremaining: 1m 13s\n",
      "342:\tlearn: 1596.4017168\ttotal: 38.1s\tremaining: 1m 12s\n",
      "343:\tlearn: 1596.1335316\ttotal: 38.2s\tremaining: 1m 12s\n",
      "344:\tlearn: 1595.7880182\ttotal: 38.3s\tremaining: 1m 12s\n",
      "345:\tlearn: 1595.5758650\ttotal: 38.4s\tremaining: 1m 12s\n",
      "346:\tlearn: 1595.4641683\ttotal: 38.5s\tremaining: 1m 12s\n",
      "347:\tlearn: 1595.1745013\ttotal: 38.6s\tremaining: 1m 12s\n",
      "348:\tlearn: 1595.1000215\ttotal: 38.8s\tremaining: 1m 12s\n",
      "349:\tlearn: 1594.8629879\ttotal: 38.9s\tremaining: 1m 12s\n",
      "350:\tlearn: 1594.5472252\ttotal: 39s\tremaining: 1m 12s\n",
      "351:\tlearn: 1594.5285112\ttotal: 39.1s\tremaining: 1m 11s\n",
      "352:\tlearn: 1594.2590153\ttotal: 39.2s\tremaining: 1m 11s\n",
      "353:\tlearn: 1594.0925994\ttotal: 39.3s\tremaining: 1m 11s\n",
      "354:\tlearn: 1594.0829599\ttotal: 39.4s\tremaining: 1m 11s\n",
      "355:\tlearn: 1593.6896368\ttotal: 39.6s\tremaining: 1m 11s\n",
      "356:\tlearn: 1593.6087671\ttotal: 39.7s\tremaining: 1m 11s\n",
      "357:\tlearn: 1593.4989086\ttotal: 39.8s\tremaining: 1m 11s\n",
      "358:\tlearn: 1593.4062722\ttotal: 39.9s\tremaining: 1m 11s\n",
      "359:\tlearn: 1593.1240360\ttotal: 40.1s\tremaining: 1m 11s\n",
      "360:\tlearn: 1592.7367098\ttotal: 40.2s\tremaining: 1m 11s\n",
      "361:\tlearn: 1592.5344865\ttotal: 40.3s\tremaining: 1m 11s\n",
      "362:\tlearn: 1591.8996374\ttotal: 40.4s\tremaining: 1m 10s\n",
      "363:\tlearn: 1591.7684414\ttotal: 40.5s\tremaining: 1m 10s\n",
      "364:\tlearn: 1591.6447841\ttotal: 40.6s\tremaining: 1m 10s\n",
      "365:\tlearn: 1591.5851856\ttotal: 40.7s\tremaining: 1m 10s\n",
      "366:\tlearn: 1591.4585845\ttotal: 40.8s\tremaining: 1m 10s\n",
      "367:\tlearn: 1591.3744800\ttotal: 40.9s\tremaining: 1m 10s\n",
      "368:\tlearn: 1590.9131840\ttotal: 41s\tremaining: 1m 10s\n",
      "369:\tlearn: 1590.8570603\ttotal: 41.1s\tremaining: 1m 10s\n",
      "370:\tlearn: 1590.8293995\ttotal: 41.2s\tremaining: 1m 9s\n",
      "371:\tlearn: 1590.6404171\ttotal: 41.4s\tremaining: 1m 9s\n",
      "372:\tlearn: 1590.4115709\ttotal: 41.5s\tremaining: 1m 9s\n",
      "373:\tlearn: 1590.1637970\ttotal: 41.6s\tremaining: 1m 9s\n",
      "374:\tlearn: 1589.6658287\ttotal: 41.7s\tremaining: 1m 9s\n",
      "375:\tlearn: 1589.3795741\ttotal: 41.8s\tremaining: 1m 9s\n",
      "376:\tlearn: 1589.2933419\ttotal: 42s\tremaining: 1m 9s\n",
      "377:\tlearn: 1589.1083238\ttotal: 42.1s\tremaining: 1m 9s\n",
      "378:\tlearn: 1588.8040309\ttotal: 42.2s\tremaining: 1m 9s\n",
      "379:\tlearn: 1588.4885917\ttotal: 42.3s\tremaining: 1m 8s\n",
      "380:\tlearn: 1588.3652544\ttotal: 42.4s\tremaining: 1m 8s\n",
      "381:\tlearn: 1588.1291429\ttotal: 42.5s\tremaining: 1m 8s\n",
      "382:\tlearn: 1587.7547852\ttotal: 42.6s\tremaining: 1m 8s\n",
      "383:\tlearn: 1587.4910630\ttotal: 42.7s\tremaining: 1m 8s\n",
      "384:\tlearn: 1587.1358284\ttotal: 42.8s\tremaining: 1m 8s\n",
      "385:\tlearn: 1586.8028593\ttotal: 43s\tremaining: 1m 8s\n",
      "386:\tlearn: 1586.5771413\ttotal: 43.1s\tremaining: 1m 8s\n",
      "387:\tlearn: 1586.1841280\ttotal: 43.2s\tremaining: 1m 8s\n",
      "388:\tlearn: 1586.0817527\ttotal: 43.3s\tremaining: 1m 8s\n",
      "389:\tlearn: 1585.9590459\ttotal: 43.5s\tremaining: 1m 7s\n",
      "390:\tlearn: 1585.6610894\ttotal: 43.6s\tremaining: 1m 7s\n",
      "391:\tlearn: 1585.3670509\ttotal: 43.7s\tremaining: 1m 7s\n",
      "392:\tlearn: 1585.1232692\ttotal: 43.8s\tremaining: 1m 7s\n",
      "393:\tlearn: 1584.7552532\ttotal: 43.9s\tremaining: 1m 7s\n",
      "394:\tlearn: 1584.6436513\ttotal: 44s\tremaining: 1m 7s\n",
      "395:\tlearn: 1584.3629047\ttotal: 44.2s\tremaining: 1m 7s\n",
      "396:\tlearn: 1584.2353317\ttotal: 44.3s\tremaining: 1m 7s\n",
      "397:\tlearn: 1584.0557087\ttotal: 44.4s\tremaining: 1m 7s\n",
      "398:\tlearn: 1584.0488914\ttotal: 44.5s\tremaining: 1m 7s\n",
      "399:\tlearn: 1583.6762199\ttotal: 44.6s\tremaining: 1m 6s\n",
      "400:\tlearn: 1583.4776883\ttotal: 44.7s\tremaining: 1m 6s\n",
      "401:\tlearn: 1583.3043168\ttotal: 44.9s\tremaining: 1m 6s\n",
      "402:\tlearn: 1583.0295489\ttotal: 45s\tremaining: 1m 6s\n",
      "403:\tlearn: 1582.8111720\ttotal: 45.1s\tremaining: 1m 6s\n",
      "404:\tlearn: 1581.9900718\ttotal: 45.2s\tremaining: 1m 6s\n",
      "405:\tlearn: 1581.8144026\ttotal: 45.3s\tremaining: 1m 6s\n",
      "406:\tlearn: 1581.5431101\ttotal: 45.4s\tremaining: 1m 6s\n",
      "407:\tlearn: 1581.3139101\ttotal: 45.5s\tremaining: 1m 6s\n",
      "408:\tlearn: 1581.1593155\ttotal: 45.6s\tremaining: 1m 5s\n",
      "409:\tlearn: 1580.8807448\ttotal: 45.7s\tremaining: 1m 5s\n",
      "410:\tlearn: 1580.7945589\ttotal: 45.8s\tremaining: 1m 5s\n",
      "411:\tlearn: 1580.6967237\ttotal: 45.9s\tremaining: 1m 5s\n",
      "412:\tlearn: 1580.6295557\ttotal: 46s\tremaining: 1m 5s\n",
      "413:\tlearn: 1580.3883103\ttotal: 46.1s\tremaining: 1m 5s\n",
      "414:\tlearn: 1580.2599824\ttotal: 46.2s\tremaining: 1m 5s\n",
      "415:\tlearn: 1580.0761124\ttotal: 46.3s\tremaining: 1m 5s\n",
      "416:\tlearn: 1579.9699365\ttotal: 46.4s\tremaining: 1m 4s\n",
      "417:\tlearn: 1579.7317027\ttotal: 46.5s\tremaining: 1m 4s\n",
      "418:\tlearn: 1579.4924733\ttotal: 46.6s\tremaining: 1m 4s\n",
      "419:\tlearn: 1579.1521218\ttotal: 46.7s\tremaining: 1m 4s\n",
      "420:\tlearn: 1578.8322146\ttotal: 46.8s\tremaining: 1m 4s\n",
      "421:\tlearn: 1578.6837462\ttotal: 46.9s\tremaining: 1m 4s\n",
      "422:\tlearn: 1578.6541627\ttotal: 47s\tremaining: 1m 4s\n",
      "423:\tlearn: 1578.4255160\ttotal: 47.1s\tremaining: 1m 4s\n",
      "424:\tlearn: 1578.1518244\ttotal: 47.2s\tremaining: 1m 3s\n",
      "425:\tlearn: 1577.9707746\ttotal: 47.4s\tremaining: 1m 3s\n",
      "426:\tlearn: 1577.7068866\ttotal: 47.4s\tremaining: 1m 3s\n",
      "427:\tlearn: 1577.5556175\ttotal: 47.5s\tremaining: 1m 3s\n",
      "428:\tlearn: 1577.4419250\ttotal: 47.7s\tremaining: 1m 3s\n",
      "429:\tlearn: 1577.3026039\ttotal: 47.8s\tremaining: 1m 3s\n",
      "430:\tlearn: 1577.2454361\ttotal: 47.9s\tremaining: 1m 3s\n",
      "431:\tlearn: 1576.9711402\ttotal: 48.1s\tremaining: 1m 3s\n",
      "432:\tlearn: 1576.8392434\ttotal: 48.1s\tremaining: 1m 3s\n",
      "433:\tlearn: 1576.7132745\ttotal: 48.2s\tremaining: 1m 2s\n",
      "434:\tlearn: 1576.6075306\ttotal: 48.4s\tremaining: 1m 2s\n",
      "435:\tlearn: 1576.3717982\ttotal: 48.5s\tremaining: 1m 2s\n",
      "436:\tlearn: 1575.9976865\ttotal: 48.6s\tremaining: 1m 2s\n",
      "437:\tlearn: 1575.6501820\ttotal: 48.7s\tremaining: 1m 2s\n",
      "438:\tlearn: 1575.5570355\ttotal: 48.8s\tremaining: 1m 2s\n",
      "439:\tlearn: 1575.2775664\ttotal: 49s\tremaining: 1m 2s\n",
      "440:\tlearn: 1575.0175259\ttotal: 49.1s\tremaining: 1m 2s\n",
      "441:\tlearn: 1574.7936880\ttotal: 49.2s\tremaining: 1m 2s\n",
      "442:\tlearn: 1574.5955702\ttotal: 49.3s\tremaining: 1m 1s\n",
      "443:\tlearn: 1574.4281632\ttotal: 49.4s\tremaining: 1m 1s\n",
      "444:\tlearn: 1574.3696601\ttotal: 49.5s\tremaining: 1m 1s\n",
      "445:\tlearn: 1574.1885057\ttotal: 49.6s\tremaining: 1m 1s\n"
     ]
    },
    {
     "name": "stdout",
     "output_type": "stream",
     "text": [
      "446:\tlearn: 1574.0906370\ttotal: 49.7s\tremaining: 1m 1s\n",
      "447:\tlearn: 1573.9975299\ttotal: 49.8s\tremaining: 1m 1s\n",
      "448:\tlearn: 1573.5542163\ttotal: 49.9s\tremaining: 1m 1s\n",
      "449:\tlearn: 1573.2502077\ttotal: 50.1s\tremaining: 1m 1s\n",
      "450:\tlearn: 1573.1928567\ttotal: 50.2s\tremaining: 1m 1s\n",
      "451:\tlearn: 1572.8897439\ttotal: 50.3s\tremaining: 1m\n",
      "452:\tlearn: 1572.7736240\ttotal: 50.4s\tremaining: 1m\n",
      "453:\tlearn: 1572.5544073\ttotal: 50.5s\tremaining: 1m\n",
      "454:\tlearn: 1572.4087690\ttotal: 50.6s\tremaining: 1m\n",
      "455:\tlearn: 1572.3063945\ttotal: 50.7s\tremaining: 1m\n",
      "456:\tlearn: 1572.0224201\ttotal: 50.8s\tremaining: 1m\n",
      "457:\tlearn: 1571.9730840\ttotal: 50.9s\tremaining: 1m\n",
      "458:\tlearn: 1571.8558002\ttotal: 51s\tremaining: 1m\n",
      "459:\tlearn: 1571.6152338\ttotal: 51.1s\tremaining: 1m\n",
      "460:\tlearn: 1571.4678378\ttotal: 51.2s\tremaining: 59.9s\n",
      "461:\tlearn: 1571.3018665\ttotal: 51.3s\tremaining: 59.8s\n",
      "462:\tlearn: 1571.0745554\ttotal: 51.4s\tremaining: 59.7s\n",
      "463:\tlearn: 1570.7455926\ttotal: 51.6s\tremaining: 59.6s\n",
      "464:\tlearn: 1570.6172388\ttotal: 51.7s\tremaining: 59.5s\n",
      "465:\tlearn: 1570.1524529\ttotal: 51.8s\tremaining: 59.3s\n",
      "466:\tlearn: 1569.8034970\ttotal: 51.9s\tremaining: 59.2s\n",
      "467:\tlearn: 1569.6302993\ttotal: 52s\tremaining: 59.1s\n",
      "468:\tlearn: 1569.5641709\ttotal: 52.1s\tremaining: 59s\n",
      "469:\tlearn: 1569.3991606\ttotal: 52.2s\tremaining: 58.9s\n",
      "470:\tlearn: 1569.2763574\ttotal: 52.3s\tremaining: 58.8s\n",
      "471:\tlearn: 1569.0286771\ttotal: 52.4s\tremaining: 58.6s\n",
      "472:\tlearn: 1568.8970543\ttotal: 52.5s\tremaining: 58.5s\n",
      "473:\tlearn: 1568.6626770\ttotal: 52.6s\tremaining: 58.4s\n",
      "474:\tlearn: 1568.5817090\ttotal: 52.7s\tremaining: 58.3s\n",
      "475:\tlearn: 1568.4862872\ttotal: 52.8s\tremaining: 58.2s\n",
      "476:\tlearn: 1568.3358209\ttotal: 53s\tremaining: 58.1s\n",
      "477:\tlearn: 1567.9975191\ttotal: 53.1s\tremaining: 58s\n",
      "478:\tlearn: 1567.8502510\ttotal: 53.2s\tremaining: 57.8s\n",
      "479:\tlearn: 1567.7768776\ttotal: 53.3s\tremaining: 57.7s\n",
      "480:\tlearn: 1567.5959645\ttotal: 53.4s\tremaining: 57.6s\n",
      "481:\tlearn: 1567.5666955\ttotal: 53.5s\tremaining: 57.5s\n",
      "482:\tlearn: 1567.4275615\ttotal: 53.6s\tremaining: 57.4s\n",
      "483:\tlearn: 1567.3174096\ttotal: 53.7s\tremaining: 57.3s\n",
      "484:\tlearn: 1567.0957999\ttotal: 53.8s\tremaining: 57.2s\n",
      "485:\tlearn: 1566.9179050\ttotal: 53.9s\tremaining: 57s\n",
      "486:\tlearn: 1566.8856831\ttotal: 54.1s\tremaining: 57s\n",
      "487:\tlearn: 1566.7886112\ttotal: 54.2s\tremaining: 56.8s\n",
      "488:\tlearn: 1566.6498968\ttotal: 54.3s\tremaining: 56.7s\n",
      "489:\tlearn: 1566.2794101\ttotal: 54.4s\tremaining: 56.6s\n",
      "490:\tlearn: 1565.8825141\ttotal: 54.5s\tremaining: 56.5s\n",
      "491:\tlearn: 1565.6953394\ttotal: 54.6s\tremaining: 56.4s\n",
      "492:\tlearn: 1565.6467478\ttotal: 54.7s\tremaining: 56.3s\n",
      "493:\tlearn: 1565.3608999\ttotal: 54.8s\tremaining: 56.1s\n",
      "494:\tlearn: 1565.1667743\ttotal: 54.9s\tremaining: 56s\n",
      "495:\tlearn: 1564.9436949\ttotal: 55.1s\tremaining: 55.9s\n",
      "496:\tlearn: 1564.8861446\ttotal: 55.2s\tremaining: 55.8s\n",
      "497:\tlearn: 1564.7970851\ttotal: 55.3s\tremaining: 55.7s\n",
      "498:\tlearn: 1564.6121378\ttotal: 55.4s\tremaining: 55.6s\n",
      "499:\tlearn: 1564.5237756\ttotal: 55.5s\tremaining: 55.5s\n",
      "500:\tlearn: 1564.2212310\ttotal: 55.6s\tremaining: 55.4s\n",
      "501:\tlearn: 1564.0936626\ttotal: 55.7s\tremaining: 55.3s\n",
      "502:\tlearn: 1564.0858282\ttotal: 55.8s\tremaining: 55.1s\n",
      "503:\tlearn: 1563.9950266\ttotal: 55.9s\tremaining: 55.1s\n",
      "504:\tlearn: 1563.7607653\ttotal: 56.1s\tremaining: 55s\n",
      "505:\tlearn: 1563.6204081\ttotal: 56.2s\tremaining: 54.9s\n",
      "506:\tlearn: 1563.5679235\ttotal: 56.3s\tremaining: 54.8s\n",
      "507:\tlearn: 1563.3904684\ttotal: 56.4s\tremaining: 54.7s\n",
      "508:\tlearn: 1563.3507216\ttotal: 56.6s\tremaining: 54.6s\n",
      "509:\tlearn: 1563.1284086\ttotal: 56.7s\tremaining: 54.5s\n",
      "510:\tlearn: 1562.9687318\ttotal: 56.8s\tremaining: 54.3s\n",
      "511:\tlearn: 1562.7883355\ttotal: 56.9s\tremaining: 54.2s\n",
      "512:\tlearn: 1562.6931080\ttotal: 57s\tremaining: 54.1s\n",
      "513:\tlearn: 1562.6722693\ttotal: 57.1s\tremaining: 54s\n",
      "514:\tlearn: 1562.3822783\ttotal: 57.2s\tremaining: 53.9s\n",
      "515:\tlearn: 1561.8816992\ttotal: 57.3s\tremaining: 53.8s\n",
      "516:\tlearn: 1561.6576076\ttotal: 57.4s\tremaining: 53.7s\n",
      "517:\tlearn: 1561.5231948\ttotal: 57.5s\tremaining: 53.5s\n",
      "518:\tlearn: 1561.4074929\ttotal: 57.6s\tremaining: 53.4s\n",
      "519:\tlearn: 1561.4030025\ttotal: 57.8s\tremaining: 53.3s\n",
      "520:\tlearn: 1561.1686097\ttotal: 57.8s\tremaining: 53.2s\n",
      "521:\tlearn: 1560.7874453\ttotal: 58s\tremaining: 53.1s\n",
      "522:\tlearn: 1560.6413715\ttotal: 58.1s\tremaining: 53s\n",
      "523:\tlearn: 1560.6202159\ttotal: 58.2s\tremaining: 52.9s\n",
      "524:\tlearn: 1560.4203977\ttotal: 58.3s\tremaining: 52.8s\n",
      "525:\tlearn: 1560.4044960\ttotal: 58.4s\tremaining: 52.7s\n",
      "526:\tlearn: 1560.3772721\ttotal: 58.6s\tremaining: 52.6s\n",
      "527:\tlearn: 1560.2959782\ttotal: 58.7s\tremaining: 52.4s\n",
      "528:\tlearn: 1560.1800840\ttotal: 58.8s\tremaining: 52.3s\n",
      "529:\tlearn: 1559.9184504\ttotal: 58.9s\tremaining: 52.2s\n",
      "530:\tlearn: 1559.7898936\ttotal: 59s\tremaining: 52.1s\n",
      "531:\tlearn: 1559.6683263\ttotal: 59.1s\tremaining: 52s\n",
      "532:\tlearn: 1559.6347000\ttotal: 59.2s\tremaining: 51.9s\n",
      "533:\tlearn: 1559.4409011\ttotal: 59.3s\tremaining: 51.8s\n",
      "534:\tlearn: 1559.0833066\ttotal: 59.4s\tremaining: 51.7s\n",
      "535:\tlearn: 1559.0104183\ttotal: 59.5s\tremaining: 51.6s\n",
      "536:\tlearn: 1558.9125032\ttotal: 59.7s\tremaining: 51.5s\n",
      "537:\tlearn: 1558.8583028\ttotal: 59.8s\tremaining: 51.4s\n",
      "538:\tlearn: 1558.7919871\ttotal: 59.9s\tremaining: 51.2s\n",
      "539:\tlearn: 1558.6691449\ttotal: 1m\tremaining: 51.2s\n",
      "540:\tlearn: 1558.2813712\ttotal: 1m\tremaining: 51.1s\n",
      "541:\tlearn: 1558.1634474\ttotal: 1m\tremaining: 51s\n",
      "542:\tlearn: 1557.8593830\ttotal: 1m\tremaining: 50.8s\n",
      "543:\tlearn: 1557.6833786\ttotal: 1m\tremaining: 50.7s\n",
      "544:\tlearn: 1557.4389007\ttotal: 1m\tremaining: 50.6s\n",
      "545:\tlearn: 1557.3345879\ttotal: 1m\tremaining: 50.5s\n",
      "546:\tlearn: 1557.2102852\ttotal: 1m\tremaining: 50.4s\n",
      "547:\tlearn: 1557.1102659\ttotal: 1m\tremaining: 50.3s\n",
      "548:\tlearn: 1556.8758403\ttotal: 1m 1s\tremaining: 50.2s\n",
      "549:\tlearn: 1556.7098986\ttotal: 1m 1s\tremaining: 50.1s\n",
      "550:\tlearn: 1556.6613229\ttotal: 1m 1s\tremaining: 50s\n",
      "551:\tlearn: 1556.4986623\ttotal: 1m 1s\tremaining: 49.9s\n",
      "552:\tlearn: 1556.4191260\ttotal: 1m 1s\tremaining: 49.8s\n",
      "553:\tlearn: 1556.3219153\ttotal: 1m 1s\tremaining: 49.7s\n",
      "554:\tlearn: 1556.3143681\ttotal: 1m 1s\tremaining: 49.5s\n",
      "555:\tlearn: 1556.3081297\ttotal: 1m 1s\tremaining: 49.4s\n",
      "556:\tlearn: 1556.0341979\ttotal: 1m 1s\tremaining: 49.3s\n",
      "557:\tlearn: 1555.8549811\ttotal: 1m 2s\tremaining: 49.2s\n",
      "558:\tlearn: 1555.6685942\ttotal: 1m 2s\tremaining: 49.1s\n",
      "559:\tlearn: 1555.5110036\ttotal: 1m 2s\tremaining: 49s\n",
      "560:\tlearn: 1555.4482525\ttotal: 1m 2s\tremaining: 48.8s\n",
      "561:\tlearn: 1555.3945536\ttotal: 1m 2s\tremaining: 48.7s\n",
      "562:\tlearn: 1555.2464269\ttotal: 1m 2s\tremaining: 48.6s\n",
      "563:\tlearn: 1555.0841202\ttotal: 1m 2s\tremaining: 48.5s\n",
      "564:\tlearn: 1554.9610428\ttotal: 1m 2s\tremaining: 48.4s\n",
      "565:\tlearn: 1554.7342752\ttotal: 1m 3s\tremaining: 48.3s\n",
      "566:\tlearn: 1554.5502516\ttotal: 1m 3s\tremaining: 48.2s\n",
      "567:\tlearn: 1554.3185747\ttotal: 1m 3s\tremaining: 48.1s\n",
      "568:\tlearn: 1554.1602072\ttotal: 1m 3s\tremaining: 48s\n",
      "569:\tlearn: 1553.9963090\ttotal: 1m 3s\tremaining: 47.9s\n",
      "570:\tlearn: 1553.8897444\ttotal: 1m 3s\tremaining: 47.8s\n",
      "571:\tlearn: 1553.7785241\ttotal: 1m 3s\tremaining: 47.7s\n",
      "572:\tlearn: 1553.5812846\ttotal: 1m 3s\tremaining: 47.6s\n",
      "573:\tlearn: 1553.3102095\ttotal: 1m 3s\tremaining: 47.5s\n",
      "574:\tlearn: 1553.2126888\ttotal: 1m 4s\tremaining: 47.4s\n",
      "575:\tlearn: 1552.9232747\ttotal: 1m 4s\tremaining: 47.2s\n",
      "576:\tlearn: 1552.7571618\ttotal: 1m 4s\tremaining: 47.1s\n",
      "577:\tlearn: 1552.6435148\ttotal: 1m 4s\tremaining: 47.1s\n",
      "578:\tlearn: 1552.5595540\ttotal: 1m 4s\tremaining: 46.9s\n",
      "579:\tlearn: 1552.5403452\ttotal: 1m 4s\tremaining: 46.8s\n",
      "580:\tlearn: 1552.3737556\ttotal: 1m 4s\tremaining: 46.7s\n",
      "581:\tlearn: 1552.3184747\ttotal: 1m 4s\tremaining: 46.6s\n",
      "582:\tlearn: 1552.2699576\ttotal: 1m 4s\tremaining: 46.5s\n",
      "583:\tlearn: 1552.0283032\ttotal: 1m 5s\tremaining: 46.4s\n",
      "584:\tlearn: 1551.9423207\ttotal: 1m 5s\tremaining: 46.3s\n",
      "585:\tlearn: 1551.6701764\ttotal: 1m 5s\tremaining: 46.2s\n",
      "586:\tlearn: 1551.6511637\ttotal: 1m 5s\tremaining: 46.1s\n",
      "587:\tlearn: 1551.5659533\ttotal: 1m 5s\tremaining: 46s\n",
      "588:\tlearn: 1551.1477973\ttotal: 1m 5s\tremaining: 45.9s\n",
      "589:\tlearn: 1550.8728311\ttotal: 1m 5s\tremaining: 45.8s\n",
      "590:\tlearn: 1550.6228927\ttotal: 1m 5s\tremaining: 45.7s\n",
      "591:\tlearn: 1550.5647390\ttotal: 1m 6s\tremaining: 45.6s\n",
      "592:\tlearn: 1550.4921284\ttotal: 1m 6s\tremaining: 45.4s\n",
      "593:\tlearn: 1550.4089739\ttotal: 1m 6s\tremaining: 45.3s\n",
      "594:\tlearn: 1550.0745245\ttotal: 1m 6s\tremaining: 45.2s\n",
      "595:\tlearn: 1549.9982729\ttotal: 1m 6s\tremaining: 45.1s\n",
      "596:\tlearn: 1549.8996752\ttotal: 1m 6s\tremaining: 45s\n"
     ]
    },
    {
     "name": "stdout",
     "output_type": "stream",
     "text": [
      "597:\tlearn: 1549.7597637\ttotal: 1m 6s\tremaining: 44.9s\n",
      "598:\tlearn: 1549.6832300\ttotal: 1m 6s\tremaining: 44.7s\n",
      "599:\tlearn: 1549.5912320\ttotal: 1m 6s\tremaining: 44.6s\n",
      "600:\tlearn: 1549.5076563\ttotal: 1m 7s\tremaining: 44.5s\n",
      "601:\tlearn: 1549.3521358\ttotal: 1m 7s\tremaining: 44.4s\n",
      "602:\tlearn: 1549.3391528\ttotal: 1m 7s\tremaining: 44.3s\n",
      "603:\tlearn: 1549.2264597\ttotal: 1m 7s\tremaining: 44.2s\n",
      "604:\tlearn: 1548.9388889\ttotal: 1m 7s\tremaining: 44.1s\n",
      "605:\tlearn: 1548.5556010\ttotal: 1m 7s\tremaining: 44s\n",
      "606:\tlearn: 1548.4537313\ttotal: 1m 7s\tremaining: 43.8s\n",
      "607:\tlearn: 1548.1394867\ttotal: 1m 7s\tremaining: 43.7s\n",
      "608:\tlearn: 1547.9798589\ttotal: 1m 7s\tremaining: 43.6s\n",
      "609:\tlearn: 1547.8824502\ttotal: 1m 8s\tremaining: 43.5s\n",
      "610:\tlearn: 1547.7934680\ttotal: 1m 8s\tremaining: 43.4s\n",
      "611:\tlearn: 1547.6065969\ttotal: 1m 8s\tremaining: 43.3s\n",
      "612:\tlearn: 1547.4484959\ttotal: 1m 8s\tremaining: 43.2s\n",
      "613:\tlearn: 1547.2121159\ttotal: 1m 8s\tremaining: 43.1s\n",
      "614:\tlearn: 1546.8237029\ttotal: 1m 8s\tremaining: 42.9s\n",
      "615:\tlearn: 1546.7298271\ttotal: 1m 8s\tremaining: 42.8s\n",
      "616:\tlearn: 1546.3983542\ttotal: 1m 8s\tremaining: 42.7s\n",
      "617:\tlearn: 1546.3370189\ttotal: 1m 8s\tremaining: 42.6s\n",
      "618:\tlearn: 1546.2103340\ttotal: 1m 9s\tremaining: 42.5s\n",
      "619:\tlearn: 1546.0450771\ttotal: 1m 9s\tremaining: 42.4s\n",
      "620:\tlearn: 1545.9967845\ttotal: 1m 9s\tremaining: 42.3s\n",
      "621:\tlearn: 1545.8016043\ttotal: 1m 9s\tremaining: 42.1s\n",
      "622:\tlearn: 1545.7190070\ttotal: 1m 9s\tremaining: 42s\n",
      "623:\tlearn: 1545.3585446\ttotal: 1m 9s\tremaining: 41.9s\n",
      "624:\tlearn: 1544.9915815\ttotal: 1m 9s\tremaining: 41.8s\n",
      "625:\tlearn: 1544.9620006\ttotal: 1m 9s\tremaining: 41.7s\n",
      "626:\tlearn: 1544.8149728\ttotal: 1m 9s\tremaining: 41.6s\n",
      "627:\tlearn: 1544.5633973\ttotal: 1m 10s\tremaining: 41.5s\n",
      "628:\tlearn: 1544.4702554\ttotal: 1m 10s\tremaining: 41.4s\n",
      "629:\tlearn: 1544.3674187\ttotal: 1m 10s\tremaining: 41.3s\n",
      "630:\tlearn: 1544.2493534\ttotal: 1m 10s\tremaining: 41.2s\n",
      "631:\tlearn: 1544.1876566\ttotal: 1m 10s\tremaining: 41s\n",
      "632:\tlearn: 1544.0341485\ttotal: 1m 10s\tremaining: 40.9s\n",
      "633:\tlearn: 1543.8130109\ttotal: 1m 10s\tremaining: 40.8s\n",
      "634:\tlearn: 1543.5660633\ttotal: 1m 10s\tremaining: 40.7s\n",
      "635:\tlearn: 1543.3761003\ttotal: 1m 10s\tremaining: 40.6s\n",
      "636:\tlearn: 1543.2576723\ttotal: 1m 11s\tremaining: 40.5s\n",
      "637:\tlearn: 1542.9688919\ttotal: 1m 11s\tremaining: 40.4s\n",
      "638:\tlearn: 1542.5193673\ttotal: 1m 11s\tremaining: 40.3s\n",
      "639:\tlearn: 1542.4309256\ttotal: 1m 11s\tremaining: 40.1s\n",
      "640:\tlearn: 1542.2636060\ttotal: 1m 11s\tremaining: 40s\n",
      "641:\tlearn: 1542.0913439\ttotal: 1m 11s\tremaining: 39.9s\n",
      "642:\tlearn: 1541.9000637\ttotal: 1m 11s\tremaining: 39.8s\n",
      "643:\tlearn: 1541.7388665\ttotal: 1m 11s\tremaining: 39.7s\n",
      "644:\tlearn: 1541.6150775\ttotal: 1m 11s\tremaining: 39.6s\n",
      "645:\tlearn: 1541.4261306\ttotal: 1m 12s\tremaining: 39.5s\n",
      "646:\tlearn: 1541.3791586\ttotal: 1m 12s\tremaining: 39.4s\n",
      "647:\tlearn: 1541.2545906\ttotal: 1m 12s\tremaining: 39.2s\n",
      "648:\tlearn: 1541.1164555\ttotal: 1m 12s\tremaining: 39.1s\n",
      "649:\tlearn: 1540.9091777\ttotal: 1m 12s\tremaining: 39s\n",
      "650:\tlearn: 1540.3861614\ttotal: 1m 12s\tremaining: 38.9s\n",
      "651:\tlearn: 1540.3617390\ttotal: 1m 12s\tremaining: 38.8s\n",
      "652:\tlearn: 1540.2467560\ttotal: 1m 12s\tremaining: 38.7s\n",
      "653:\tlearn: 1540.1682939\ttotal: 1m 12s\tremaining: 38.6s\n",
      "654:\tlearn: 1539.7772786\ttotal: 1m 13s\tremaining: 38.5s\n",
      "655:\tlearn: 1539.7668801\ttotal: 1m 13s\tremaining: 38.4s\n",
      "656:\tlearn: 1539.6976099\ttotal: 1m 13s\tremaining: 38.2s\n",
      "657:\tlearn: 1539.5468424\ttotal: 1m 13s\tremaining: 38.1s\n",
      "658:\tlearn: 1539.4137917\ttotal: 1m 13s\tremaining: 38s\n",
      "659:\tlearn: 1539.2789429\ttotal: 1m 13s\tremaining: 37.9s\n",
      "660:\tlearn: 1539.0401147\ttotal: 1m 13s\tremaining: 37.8s\n",
      "661:\tlearn: 1538.9309651\ttotal: 1m 13s\tremaining: 37.7s\n",
      "662:\tlearn: 1538.8490962\ttotal: 1m 13s\tremaining: 37.6s\n",
      "663:\tlearn: 1538.7727566\ttotal: 1m 14s\tremaining: 37.5s\n",
      "664:\tlearn: 1538.6173116\ttotal: 1m 14s\tremaining: 37.4s\n",
      "665:\tlearn: 1538.4991456\ttotal: 1m 14s\tremaining: 37.3s\n",
      "666:\tlearn: 1538.3916500\ttotal: 1m 14s\tremaining: 37.2s\n",
      "667:\tlearn: 1538.2785785\ttotal: 1m 14s\tremaining: 37.1s\n",
      "668:\tlearn: 1537.9175754\ttotal: 1m 14s\tremaining: 36.9s\n",
      "669:\tlearn: 1537.7812706\ttotal: 1m 14s\tremaining: 36.8s\n",
      "670:\tlearn: 1537.7301495\ttotal: 1m 14s\tremaining: 36.7s\n",
      "671:\tlearn: 1537.5086744\ttotal: 1m 15s\tremaining: 36.6s\n",
      "672:\tlearn: 1537.1650788\ttotal: 1m 15s\tremaining: 36.5s\n",
      "673:\tlearn: 1537.0805203\ttotal: 1m 15s\tremaining: 36.4s\n",
      "674:\tlearn: 1536.9566774\ttotal: 1m 15s\tremaining: 36.3s\n",
      "675:\tlearn: 1536.6753580\ttotal: 1m 15s\tremaining: 36.2s\n",
      "676:\tlearn: 1536.5495294\ttotal: 1m 15s\tremaining: 36.1s\n",
      "677:\tlearn: 1536.2983004\ttotal: 1m 15s\tremaining: 36s\n",
      "678:\tlearn: 1536.2577762\ttotal: 1m 15s\tremaining: 35.8s\n",
      "679:\tlearn: 1536.1584076\ttotal: 1m 15s\tremaining: 35.7s\n",
      "680:\tlearn: 1536.0537605\ttotal: 1m 16s\tremaining: 35.6s\n",
      "681:\tlearn: 1535.7725632\ttotal: 1m 16s\tremaining: 35.5s\n",
      "682:\tlearn: 1535.7421665\ttotal: 1m 16s\tremaining: 35.4s\n",
      "683:\tlearn: 1535.6233265\ttotal: 1m 16s\tremaining: 35.3s\n",
      "684:\tlearn: 1535.5768478\ttotal: 1m 16s\tremaining: 35.1s\n",
      "685:\tlearn: 1535.5348616\ttotal: 1m 16s\tremaining: 35s\n",
      "686:\tlearn: 1535.3261868\ttotal: 1m 16s\tremaining: 34.9s\n",
      "687:\tlearn: 1535.0710621\ttotal: 1m 16s\tremaining: 34.8s\n",
      "688:\tlearn: 1534.8056282\ttotal: 1m 16s\tremaining: 34.7s\n",
      "689:\tlearn: 1534.6711181\ttotal: 1m 16s\tremaining: 34.6s\n",
      "690:\tlearn: 1534.5207420\ttotal: 1m 17s\tremaining: 34.4s\n",
      "691:\tlearn: 1534.3364238\ttotal: 1m 17s\tremaining: 34.3s\n",
      "692:\tlearn: 1534.2750060\ttotal: 1m 17s\tremaining: 34.2s\n",
      "693:\tlearn: 1534.1461566\ttotal: 1m 17s\tremaining: 34.1s\n",
      "694:\tlearn: 1534.0456231\ttotal: 1m 17s\tremaining: 34s\n",
      "695:\tlearn: 1533.7438820\ttotal: 1m 17s\tremaining: 33.9s\n",
      "696:\tlearn: 1533.6196247\ttotal: 1m 17s\tremaining: 33.8s\n",
      "697:\tlearn: 1533.5495834\ttotal: 1m 17s\tremaining: 33.7s\n",
      "698:\tlearn: 1533.3428917\ttotal: 1m 17s\tremaining: 33.6s\n",
      "699:\tlearn: 1533.2441089\ttotal: 1m 18s\tremaining: 33.5s\n",
      "700:\tlearn: 1533.2339725\ttotal: 1m 18s\tremaining: 33.3s\n",
      "701:\tlearn: 1533.2024775\ttotal: 1m 18s\tremaining: 33.2s\n",
      "702:\tlearn: 1532.9570072\ttotal: 1m 18s\tremaining: 33.1s\n",
      "703:\tlearn: 1532.8570106\ttotal: 1m 18s\tremaining: 33s\n",
      "704:\tlearn: 1532.7788323\ttotal: 1m 18s\tremaining: 32.9s\n",
      "705:\tlearn: 1532.6146417\ttotal: 1m 18s\tremaining: 32.8s\n",
      "706:\tlearn: 1532.5388254\ttotal: 1m 18s\tremaining: 32.7s\n",
      "707:\tlearn: 1532.4637004\ttotal: 1m 18s\tremaining: 32.6s\n",
      "708:\tlearn: 1532.2010122\ttotal: 1m 19s\tremaining: 32.5s\n",
      "709:\tlearn: 1532.0218776\ttotal: 1m 19s\tremaining: 32.4s\n",
      "710:\tlearn: 1531.8827612\ttotal: 1m 19s\tremaining: 32.3s\n",
      "711:\tlearn: 1531.8469523\ttotal: 1m 19s\tremaining: 32.1s\n",
      "712:\tlearn: 1531.7524823\ttotal: 1m 19s\tremaining: 32s\n",
      "713:\tlearn: 1531.6234216\ttotal: 1m 19s\tremaining: 31.9s\n",
      "714:\tlearn: 1531.5923625\ttotal: 1m 19s\tremaining: 31.8s\n",
      "715:\tlearn: 1531.5069123\ttotal: 1m 19s\tremaining: 31.7s\n",
      "716:\tlearn: 1531.4265898\ttotal: 1m 20s\tremaining: 31.6s\n",
      "717:\tlearn: 1531.2659983\ttotal: 1m 20s\tremaining: 31.5s\n",
      "718:\tlearn: 1531.1910874\ttotal: 1m 20s\tremaining: 31.4s\n",
      "719:\tlearn: 1531.0554967\ttotal: 1m 20s\tremaining: 31.2s\n",
      "720:\tlearn: 1530.7486799\ttotal: 1m 20s\tremaining: 31.1s\n",
      "721:\tlearn: 1530.7243804\ttotal: 1m 20s\tremaining: 31s\n",
      "722:\tlearn: 1530.4842846\ttotal: 1m 20s\tremaining: 30.9s\n",
      "723:\tlearn: 1530.3437775\ttotal: 1m 20s\tremaining: 30.8s\n",
      "724:\tlearn: 1530.1974612\ttotal: 1m 20s\tremaining: 30.7s\n",
      "725:\tlearn: 1530.0491367\ttotal: 1m 20s\tremaining: 30.6s\n",
      "726:\tlearn: 1529.7890899\ttotal: 1m 21s\tremaining: 30.5s\n",
      "727:\tlearn: 1529.4965072\ttotal: 1m 21s\tremaining: 30.3s\n",
      "728:\tlearn: 1529.3456385\ttotal: 1m 21s\tremaining: 30.2s\n",
      "729:\tlearn: 1529.2520531\ttotal: 1m 21s\tremaining: 30.1s\n",
      "730:\tlearn: 1529.2514521\ttotal: 1m 21s\tremaining: 30s\n",
      "731:\tlearn: 1529.0861497\ttotal: 1m 21s\tremaining: 29.9s\n",
      "732:\tlearn: 1528.9622885\ttotal: 1m 21s\tremaining: 29.8s\n",
      "733:\tlearn: 1528.8691441\ttotal: 1m 21s\tremaining: 29.7s\n",
      "734:\tlearn: 1528.6981197\ttotal: 1m 22s\tremaining: 29.6s\n",
      "735:\tlearn: 1528.5328157\ttotal: 1m 22s\tremaining: 29.4s\n",
      "736:\tlearn: 1528.4572815\ttotal: 1m 22s\tremaining: 29.3s\n",
      "737:\tlearn: 1528.1862199\ttotal: 1m 22s\tremaining: 29.2s\n",
      "738:\tlearn: 1527.8817880\ttotal: 1m 22s\tremaining: 29.1s\n",
      "739:\tlearn: 1527.7923663\ttotal: 1m 22s\tremaining: 29s\n",
      "740:\tlearn: 1527.5012228\ttotal: 1m 22s\tremaining: 28.9s\n",
      "741:\tlearn: 1527.3438001\ttotal: 1m 22s\tremaining: 28.8s\n",
      "742:\tlearn: 1527.2694041\ttotal: 1m 22s\tremaining: 28.7s\n",
      "743:\tlearn: 1527.2047754\ttotal: 1m 23s\tremaining: 28.6s\n",
      "744:\tlearn: 1526.9081381\ttotal: 1m 23s\tremaining: 28.5s\n"
     ]
    },
    {
     "name": "stdout",
     "output_type": "stream",
     "text": [
      "745:\tlearn: 1526.8390175\ttotal: 1m 23s\tremaining: 28.4s\n",
      "746:\tlearn: 1526.6363864\ttotal: 1m 23s\tremaining: 28.3s\n",
      "747:\tlearn: 1526.5422372\ttotal: 1m 23s\tremaining: 28.2s\n",
      "748:\tlearn: 1526.4948683\ttotal: 1m 23s\tremaining: 28.1s\n",
      "749:\tlearn: 1526.3301386\ttotal: 1m 23s\tremaining: 27.9s\n",
      "750:\tlearn: 1526.2660816\ttotal: 1m 23s\tremaining: 27.8s\n",
      "751:\tlearn: 1526.1580439\ttotal: 1m 24s\tremaining: 27.7s\n",
      "752:\tlearn: 1526.1404857\ttotal: 1m 24s\tremaining: 27.6s\n",
      "753:\tlearn: 1526.0682323\ttotal: 1m 24s\tremaining: 27.5s\n",
      "754:\tlearn: 1526.0182688\ttotal: 1m 24s\tremaining: 27.4s\n",
      "755:\tlearn: 1525.7504326\ttotal: 1m 24s\tremaining: 27.3s\n",
      "756:\tlearn: 1525.7097506\ttotal: 1m 24s\tremaining: 27.2s\n",
      "757:\tlearn: 1525.4843852\ttotal: 1m 24s\tremaining: 27s\n",
      "758:\tlearn: 1525.4304816\ttotal: 1m 24s\tremaining: 26.9s\n",
      "759:\tlearn: 1525.1598303\ttotal: 1m 24s\tremaining: 26.8s\n",
      "760:\tlearn: 1525.1474032\ttotal: 1m 25s\tremaining: 26.7s\n",
      "761:\tlearn: 1525.1168718\ttotal: 1m 25s\tremaining: 26.6s\n",
      "762:\tlearn: 1524.9519946\ttotal: 1m 25s\tremaining: 26.5s\n",
      "763:\tlearn: 1524.7342611\ttotal: 1m 25s\tremaining: 26.4s\n",
      "764:\tlearn: 1524.6464903\ttotal: 1m 25s\tremaining: 26.3s\n",
      "765:\tlearn: 1524.5024842\ttotal: 1m 25s\tremaining: 26.1s\n",
      "766:\tlearn: 1524.4396504\ttotal: 1m 25s\tremaining: 26s\n",
      "767:\tlearn: 1524.3208603\ttotal: 1m 25s\tremaining: 25.9s\n",
      "768:\tlearn: 1524.1152787\ttotal: 1m 25s\tremaining: 25.8s\n",
      "769:\tlearn: 1523.9914998\ttotal: 1m 26s\tremaining: 25.7s\n",
      "770:\tlearn: 1523.7998457\ttotal: 1m 26s\tremaining: 25.6s\n",
      "771:\tlearn: 1523.6706906\ttotal: 1m 26s\tremaining: 25.5s\n",
      "772:\tlearn: 1523.5483869\ttotal: 1m 26s\tremaining: 25.4s\n",
      "773:\tlearn: 1523.2947369\ttotal: 1m 26s\tremaining: 25.2s\n",
      "774:\tlearn: 1523.1063516\ttotal: 1m 26s\tremaining: 25.1s\n",
      "775:\tlearn: 1522.9476293\ttotal: 1m 26s\tremaining: 25s\n",
      "776:\tlearn: 1522.7900393\ttotal: 1m 26s\tremaining: 24.9s\n",
      "777:\tlearn: 1522.7435854\ttotal: 1m 26s\tremaining: 24.8s\n",
      "778:\tlearn: 1522.4907800\ttotal: 1m 27s\tremaining: 24.7s\n",
      "779:\tlearn: 1522.4267980\ttotal: 1m 27s\tremaining: 24.6s\n",
      "780:\tlearn: 1522.2128055\ttotal: 1m 27s\tremaining: 24.5s\n",
      "781:\tlearn: 1522.1430530\ttotal: 1m 27s\tremaining: 24.4s\n",
      "782:\tlearn: 1522.0315569\ttotal: 1m 27s\tremaining: 24.2s\n",
      "783:\tlearn: 1521.8897981\ttotal: 1m 27s\tremaining: 24.1s\n",
      "784:\tlearn: 1521.7827109\ttotal: 1m 27s\tremaining: 24s\n",
      "785:\tlearn: 1521.7490010\ttotal: 1m 27s\tremaining: 23.9s\n",
      "786:\tlearn: 1521.6362717\ttotal: 1m 27s\tremaining: 23.8s\n",
      "787:\tlearn: 1521.4908057\ttotal: 1m 28s\tremaining: 23.7s\n",
      "788:\tlearn: 1521.4604520\ttotal: 1m 28s\tremaining: 23.6s\n",
      "789:\tlearn: 1521.2789611\ttotal: 1m 28s\tremaining: 23.5s\n",
      "790:\tlearn: 1521.1473650\ttotal: 1m 28s\tremaining: 23.3s\n",
      "791:\tlearn: 1521.0134023\ttotal: 1m 28s\tremaining: 23.2s\n",
      "792:\tlearn: 1520.9571552\ttotal: 1m 28s\tremaining: 23.1s\n",
      "793:\tlearn: 1520.9113101\ttotal: 1m 28s\tremaining: 23s\n",
      "794:\tlearn: 1520.8595932\ttotal: 1m 28s\tremaining: 22.9s\n",
      "795:\tlearn: 1520.6900788\ttotal: 1m 28s\tremaining: 22.8s\n",
      "796:\tlearn: 1520.6607124\ttotal: 1m 29s\tremaining: 22.7s\n",
      "797:\tlearn: 1520.5431759\ttotal: 1m 29s\tremaining: 22.6s\n",
      "798:\tlearn: 1520.4105440\ttotal: 1m 29s\tremaining: 22.5s\n",
      "799:\tlearn: 1520.2979957\ttotal: 1m 29s\tremaining: 22.4s\n",
      "800:\tlearn: 1520.1489285\ttotal: 1m 29s\tremaining: 22.2s\n",
      "801:\tlearn: 1520.1098716\ttotal: 1m 29s\tremaining: 22.1s\n",
      "802:\tlearn: 1520.0641935\ttotal: 1m 29s\tremaining: 22s\n",
      "803:\tlearn: 1519.9900713\ttotal: 1m 29s\tremaining: 21.9s\n",
      "804:\tlearn: 1519.8843361\ttotal: 1m 30s\tremaining: 21.8s\n",
      "805:\tlearn: 1519.7948251\ttotal: 1m 30s\tremaining: 21.7s\n",
      "806:\tlearn: 1519.6972037\ttotal: 1m 30s\tremaining: 21.6s\n",
      "807:\tlearn: 1519.6507798\ttotal: 1m 30s\tremaining: 21.5s\n",
      "808:\tlearn: 1519.4265269\ttotal: 1m 30s\tremaining: 21.3s\n",
      "809:\tlearn: 1519.2870725\ttotal: 1m 30s\tremaining: 21.2s\n",
      "810:\tlearn: 1519.2214128\ttotal: 1m 30s\tremaining: 21.1s\n",
      "811:\tlearn: 1519.0155109\ttotal: 1m 30s\tremaining: 21s\n",
      "812:\tlearn: 1518.9472827\ttotal: 1m 30s\tremaining: 20.9s\n",
      "813:\tlearn: 1518.7181844\ttotal: 1m 31s\tremaining: 20.8s\n",
      "814:\tlearn: 1518.6606591\ttotal: 1m 31s\tremaining: 20.7s\n",
      "815:\tlearn: 1518.5229559\ttotal: 1m 31s\tremaining: 20.6s\n",
      "816:\tlearn: 1518.3633850\ttotal: 1m 31s\tremaining: 20.5s\n",
      "817:\tlearn: 1518.2150426\ttotal: 1m 31s\tremaining: 20.4s\n",
      "818:\tlearn: 1518.0320377\ttotal: 1m 31s\tremaining: 20.3s\n",
      "819:\tlearn: 1518.0193543\ttotal: 1m 31s\tremaining: 20.1s\n",
      "820:\tlearn: 1517.9611836\ttotal: 1m 31s\tremaining: 20s\n",
      "821:\tlearn: 1517.8511484\ttotal: 1m 32s\tremaining: 19.9s\n",
      "822:\tlearn: 1517.8316872\ttotal: 1m 32s\tremaining: 19.8s\n",
      "823:\tlearn: 1517.7070334\ttotal: 1m 32s\tremaining: 19.7s\n",
      "824:\tlearn: 1517.6929541\ttotal: 1m 32s\tremaining: 19.6s\n",
      "825:\tlearn: 1517.6315538\ttotal: 1m 32s\tremaining: 19.5s\n",
      "826:\tlearn: 1517.4446667\ttotal: 1m 32s\tremaining: 19.4s\n",
      "827:\tlearn: 1517.2285594\ttotal: 1m 32s\tremaining: 19.2s\n",
      "828:\tlearn: 1517.1454345\ttotal: 1m 32s\tremaining: 19.1s\n",
      "829:\tlearn: 1517.1103232\ttotal: 1m 32s\tremaining: 19s\n",
      "830:\tlearn: 1517.0753249\ttotal: 1m 32s\tremaining: 18.9s\n",
      "831:\tlearn: 1516.9656307\ttotal: 1m 33s\tremaining: 18.8s\n",
      "832:\tlearn: 1516.7431550\ttotal: 1m 33s\tremaining: 18.7s\n",
      "833:\tlearn: 1516.5366859\ttotal: 1m 33s\tremaining: 18.6s\n",
      "834:\tlearn: 1516.4534828\ttotal: 1m 33s\tremaining: 18.5s\n",
      "835:\tlearn: 1516.2399815\ttotal: 1m 33s\tremaining: 18.4s\n",
      "836:\tlearn: 1516.0318356\ttotal: 1m 33s\tremaining: 18.2s\n",
      "837:\tlearn: 1515.9621809\ttotal: 1m 33s\tremaining: 18.1s\n",
      "838:\tlearn: 1515.7375495\ttotal: 1m 33s\tremaining: 18s\n",
      "839:\tlearn: 1515.6886921\ttotal: 1m 34s\tremaining: 17.9s\n",
      "840:\tlearn: 1515.5095735\ttotal: 1m 34s\tremaining: 17.8s\n",
      "841:\tlearn: 1515.4935108\ttotal: 1m 34s\tremaining: 17.7s\n",
      "842:\tlearn: 1515.4077807\ttotal: 1m 34s\tremaining: 17.6s\n",
      "843:\tlearn: 1515.2781323\ttotal: 1m 34s\tremaining: 17.5s\n",
      "844:\tlearn: 1515.0023854\ttotal: 1m 34s\tremaining: 17.3s\n",
      "845:\tlearn: 1514.8724475\ttotal: 1m 34s\tremaining: 17.2s\n",
      "846:\tlearn: 1514.8056205\ttotal: 1m 34s\tremaining: 17.1s\n",
      "847:\tlearn: 1514.6420414\ttotal: 1m 34s\tremaining: 17s\n",
      "848:\tlearn: 1514.6361082\ttotal: 1m 35s\tremaining: 16.9s\n",
      "849:\tlearn: 1514.5982359\ttotal: 1m 35s\tremaining: 16.8s\n",
      "850:\tlearn: 1514.4707907\ttotal: 1m 35s\tremaining: 16.7s\n",
      "851:\tlearn: 1514.4404583\ttotal: 1m 35s\tremaining: 16.6s\n",
      "852:\tlearn: 1514.3641248\ttotal: 1m 35s\tremaining: 16.5s\n",
      "853:\tlearn: 1514.3131900\ttotal: 1m 35s\tremaining: 16.3s\n",
      "854:\tlearn: 1514.2628895\ttotal: 1m 35s\tremaining: 16.2s\n",
      "855:\tlearn: 1514.2242524\ttotal: 1m 35s\tremaining: 16.1s\n",
      "856:\tlearn: 1514.0410690\ttotal: 1m 35s\tremaining: 16s\n",
      "857:\tlearn: 1513.8231253\ttotal: 1m 36s\tremaining: 15.9s\n",
      "858:\tlearn: 1513.7326368\ttotal: 1m 36s\tremaining: 15.8s\n",
      "859:\tlearn: 1513.7193131\ttotal: 1m 36s\tremaining: 15.7s\n",
      "860:\tlearn: 1513.6932447\ttotal: 1m 36s\tremaining: 15.6s\n",
      "861:\tlearn: 1513.6570215\ttotal: 1m 36s\tremaining: 15.4s\n",
      "862:\tlearn: 1513.5357266\ttotal: 1m 36s\tremaining: 15.3s\n",
      "863:\tlearn: 1513.4633635\ttotal: 1m 36s\tremaining: 15.2s\n",
      "864:\tlearn: 1513.3950779\ttotal: 1m 36s\tremaining: 15.1s\n",
      "865:\tlearn: 1513.3056146\ttotal: 1m 36s\tremaining: 15s\n",
      "866:\tlearn: 1513.1195248\ttotal: 1m 37s\tremaining: 14.9s\n",
      "867:\tlearn: 1513.0931981\ttotal: 1m 37s\tremaining: 14.8s\n",
      "868:\tlearn: 1513.0240457\ttotal: 1m 37s\tremaining: 14.7s\n",
      "869:\tlearn: 1512.7292510\ttotal: 1m 37s\tremaining: 14.6s\n",
      "870:\tlearn: 1512.7267507\ttotal: 1m 37s\tremaining: 14.4s\n",
      "871:\tlearn: 1512.5939788\ttotal: 1m 37s\tremaining: 14.3s\n",
      "872:\tlearn: 1512.5614380\ttotal: 1m 37s\tremaining: 14.2s\n",
      "873:\tlearn: 1512.5070032\ttotal: 1m 37s\tremaining: 14.1s\n",
      "874:\tlearn: 1512.4486350\ttotal: 1m 37s\tremaining: 14s\n",
      "875:\tlearn: 1512.4005485\ttotal: 1m 38s\tremaining: 13.9s\n",
      "876:\tlearn: 1512.2972506\ttotal: 1m 38s\tremaining: 13.8s\n",
      "877:\tlearn: 1512.2270755\ttotal: 1m 38s\tremaining: 13.7s\n",
      "878:\tlearn: 1512.1140721\ttotal: 1m 38s\tremaining: 13.5s\n",
      "879:\tlearn: 1512.0366974\ttotal: 1m 38s\tremaining: 13.4s\n",
      "880:\tlearn: 1511.9949641\ttotal: 1m 38s\tremaining: 13.3s\n",
      "881:\tlearn: 1511.9840191\ttotal: 1m 38s\tremaining: 13.2s\n",
      "882:\tlearn: 1511.8808631\ttotal: 1m 38s\tremaining: 13.1s\n",
      "883:\tlearn: 1511.8369736\ttotal: 1m 38s\tremaining: 13s\n",
      "884:\tlearn: 1511.7749078\ttotal: 1m 39s\tremaining: 12.9s\n",
      "885:\tlearn: 1511.6791360\ttotal: 1m 39s\tremaining: 12.8s\n",
      "886:\tlearn: 1511.5463415\ttotal: 1m 39s\tremaining: 12.7s\n",
      "887:\tlearn: 1511.4017831\ttotal: 1m 39s\tremaining: 12.5s\n",
      "888:\tlearn: 1511.1092217\ttotal: 1m 39s\tremaining: 12.4s\n",
      "889:\tlearn: 1511.0021710\ttotal: 1m 39s\tremaining: 12.3s\n",
      "890:\tlearn: 1510.8480027\ttotal: 1m 39s\tremaining: 12.2s\n",
      "891:\tlearn: 1510.6812891\ttotal: 1m 39s\tremaining: 12.1s\n",
      "892:\tlearn: 1510.5944317\ttotal: 1m 39s\tremaining: 12s\n"
     ]
    },
    {
     "name": "stdout",
     "output_type": "stream",
     "text": [
      "893:\tlearn: 1510.5106666\ttotal: 1m 40s\tremaining: 11.9s\n",
      "894:\tlearn: 1510.3573580\ttotal: 1m 40s\tremaining: 11.8s\n",
      "895:\tlearn: 1510.2347692\ttotal: 1m 40s\tremaining: 11.6s\n",
      "896:\tlearn: 1510.0640367\ttotal: 1m 40s\tremaining: 11.5s\n",
      "897:\tlearn: 1510.0500694\ttotal: 1m 40s\tremaining: 11.4s\n",
      "898:\tlearn: 1509.9005913\ttotal: 1m 40s\tremaining: 11.3s\n",
      "899:\tlearn: 1509.7968276\ttotal: 1m 40s\tremaining: 11.2s\n",
      "900:\tlearn: 1509.7544674\ttotal: 1m 40s\tremaining: 11.1s\n",
      "901:\tlearn: 1509.6927117\ttotal: 1m 41s\tremaining: 11s\n",
      "902:\tlearn: 1509.6399796\ttotal: 1m 41s\tremaining: 10.9s\n",
      "903:\tlearn: 1509.5453949\ttotal: 1m 41s\tremaining: 10.7s\n",
      "904:\tlearn: 1509.4976082\ttotal: 1m 41s\tremaining: 10.6s\n",
      "905:\tlearn: 1509.4095849\ttotal: 1m 41s\tremaining: 10.5s\n",
      "906:\tlearn: 1509.3721934\ttotal: 1m 41s\tremaining: 10.4s\n",
      "907:\tlearn: 1509.2638824\ttotal: 1m 41s\tremaining: 10.3s\n",
      "908:\tlearn: 1509.1457092\ttotal: 1m 41s\tremaining: 10.2s\n",
      "909:\tlearn: 1509.0778860\ttotal: 1m 41s\tremaining: 10.1s\n",
      "910:\tlearn: 1508.9876638\ttotal: 1m 41s\tremaining: 9.96s\n",
      "911:\tlearn: 1508.9748903\ttotal: 1m 42s\tremaining: 9.84s\n",
      "912:\tlearn: 1508.9577887\ttotal: 1m 42s\tremaining: 9.73s\n",
      "913:\tlearn: 1508.7784337\ttotal: 1m 42s\tremaining: 9.62s\n",
      "914:\tlearn: 1508.6702940\ttotal: 1m 42s\tremaining: 9.51s\n",
      "915:\tlearn: 1508.3274146\ttotal: 1m 42s\tremaining: 9.4s\n",
      "916:\tlearn: 1508.1989088\ttotal: 1m 42s\tremaining: 9.28s\n",
      "917:\tlearn: 1508.0797532\ttotal: 1m 42s\tremaining: 9.17s\n",
      "918:\tlearn: 1508.0316095\ttotal: 1m 42s\tremaining: 9.06s\n",
      "919:\tlearn: 1507.9092088\ttotal: 1m 42s\tremaining: 8.95s\n",
      "920:\tlearn: 1507.8353447\ttotal: 1m 42s\tremaining: 8.83s\n",
      "921:\tlearn: 1507.8090804\ttotal: 1m 43s\tremaining: 8.72s\n",
      "922:\tlearn: 1507.7750531\ttotal: 1m 43s\tremaining: 8.61s\n",
      "923:\tlearn: 1507.7333342\ttotal: 1m 43s\tremaining: 8.5s\n",
      "924:\tlearn: 1507.5961758\ttotal: 1m 43s\tremaining: 8.39s\n",
      "925:\tlearn: 1507.5416068\ttotal: 1m 43s\tremaining: 8.28s\n",
      "926:\tlearn: 1507.4633454\ttotal: 1m 43s\tremaining: 8.17s\n",
      "927:\tlearn: 1507.3282132\ttotal: 1m 43s\tremaining: 8.05s\n",
      "928:\tlearn: 1507.2890919\ttotal: 1m 43s\tremaining: 7.94s\n",
      "929:\tlearn: 1507.1305212\ttotal: 1m 44s\tremaining: 7.83s\n",
      "930:\tlearn: 1507.0945375\ttotal: 1m 44s\tremaining: 7.72s\n",
      "931:\tlearn: 1506.8625591\ttotal: 1m 44s\tremaining: 7.61s\n",
      "932:\tlearn: 1506.6819851\ttotal: 1m 44s\tremaining: 7.5s\n",
      "933:\tlearn: 1506.5758519\ttotal: 1m 44s\tremaining: 7.38s\n",
      "934:\tlearn: 1506.5275520\ttotal: 1m 44s\tremaining: 7.27s\n",
      "935:\tlearn: 1506.3230892\ttotal: 1m 44s\tremaining: 7.16s\n",
      "936:\tlearn: 1506.2545442\ttotal: 1m 44s\tremaining: 7.05s\n",
      "937:\tlearn: 1506.1294640\ttotal: 1m 44s\tremaining: 6.94s\n",
      "938:\tlearn: 1506.0645285\ttotal: 1m 45s\tremaining: 6.83s\n",
      "939:\tlearn: 1505.9633492\ttotal: 1m 45s\tremaining: 6.71s\n",
      "940:\tlearn: 1505.8549228\ttotal: 1m 45s\tremaining: 6.6s\n",
      "941:\tlearn: 1505.6534396\ttotal: 1m 45s\tremaining: 6.49s\n",
      "942:\tlearn: 1505.5041452\ttotal: 1m 45s\tremaining: 6.38s\n",
      "943:\tlearn: 1505.2316150\ttotal: 1m 45s\tremaining: 6.27s\n",
      "944:\tlearn: 1504.8642114\ttotal: 1m 45s\tremaining: 6.16s\n",
      "945:\tlearn: 1504.7772092\ttotal: 1m 45s\tremaining: 6.05s\n",
      "946:\tlearn: 1504.6367998\ttotal: 1m 46s\tremaining: 5.93s\n",
      "947:\tlearn: 1504.3981896\ttotal: 1m 46s\tremaining: 5.82s\n",
      "948:\tlearn: 1504.1733236\ttotal: 1m 46s\tremaining: 5.71s\n",
      "949:\tlearn: 1504.1337977\ttotal: 1m 46s\tremaining: 5.6s\n",
      "950:\tlearn: 1503.9976793\ttotal: 1m 46s\tremaining: 5.48s\n",
      "951:\tlearn: 1503.8319023\ttotal: 1m 46s\tremaining: 5.37s\n",
      "952:\tlearn: 1503.7212945\ttotal: 1m 46s\tremaining: 5.26s\n",
      "953:\tlearn: 1503.6286382\ttotal: 1m 46s\tremaining: 5.15s\n",
      "954:\tlearn: 1503.5930891\ttotal: 1m 46s\tremaining: 5.04s\n",
      "955:\tlearn: 1503.5067793\ttotal: 1m 47s\tremaining: 4.92s\n",
      "956:\tlearn: 1503.3837900\ttotal: 1m 47s\tremaining: 4.81s\n",
      "957:\tlearn: 1503.3098060\ttotal: 1m 47s\tremaining: 4.7s\n",
      "958:\tlearn: 1503.2249741\ttotal: 1m 47s\tremaining: 4.59s\n",
      "959:\tlearn: 1502.9965796\ttotal: 1m 47s\tremaining: 4.48s\n",
      "960:\tlearn: 1502.8813013\ttotal: 1m 47s\tremaining: 4.37s\n",
      "961:\tlearn: 1502.8533523\ttotal: 1m 47s\tremaining: 4.25s\n",
      "962:\tlearn: 1502.7563821\ttotal: 1m 47s\tremaining: 4.14s\n",
      "963:\tlearn: 1502.6706097\ttotal: 1m 47s\tremaining: 4.03s\n",
      "964:\tlearn: 1502.5519633\ttotal: 1m 48s\tremaining: 3.92s\n",
      "965:\tlearn: 1502.4424313\ttotal: 1m 48s\tremaining: 3.81s\n",
      "966:\tlearn: 1502.4308863\ttotal: 1m 48s\tremaining: 3.7s\n",
      "967:\tlearn: 1502.3553584\ttotal: 1m 48s\tremaining: 3.58s\n",
      "968:\tlearn: 1502.2955841\ttotal: 1m 48s\tremaining: 3.47s\n",
      "969:\tlearn: 1502.2358765\ttotal: 1m 48s\tremaining: 3.36s\n",
      "970:\tlearn: 1502.1875707\ttotal: 1m 48s\tremaining: 3.25s\n",
      "971:\tlearn: 1502.1308364\ttotal: 1m 48s\tremaining: 3.14s\n",
      "972:\tlearn: 1501.9863040\ttotal: 1m 49s\tremaining: 3.02s\n",
      "973:\tlearn: 1501.9626610\ttotal: 1m 49s\tremaining: 2.91s\n",
      "974:\tlearn: 1501.8983549\ttotal: 1m 49s\tremaining: 2.8s\n",
      "975:\tlearn: 1501.8590275\ttotal: 1m 49s\tremaining: 2.69s\n",
      "976:\tlearn: 1501.8327936\ttotal: 1m 49s\tremaining: 2.58s\n",
      "977:\tlearn: 1501.7463242\ttotal: 1m 49s\tremaining: 2.46s\n",
      "978:\tlearn: 1501.6889381\ttotal: 1m 49s\tremaining: 2.35s\n",
      "979:\tlearn: 1501.6534284\ttotal: 1m 49s\tremaining: 2.24s\n",
      "980:\tlearn: 1501.5257432\ttotal: 1m 49s\tremaining: 2.13s\n",
      "981:\tlearn: 1501.4611357\ttotal: 1m 50s\tremaining: 2.02s\n",
      "982:\tlearn: 1501.3772431\ttotal: 1m 50s\tremaining: 1.9s\n",
      "983:\tlearn: 1501.3295271\ttotal: 1m 50s\tremaining: 1.79s\n",
      "984:\tlearn: 1501.1638488\ttotal: 1m 50s\tremaining: 1.68s\n",
      "985:\tlearn: 1501.0383414\ttotal: 1m 50s\tremaining: 1.57s\n",
      "986:\tlearn: 1500.9950842\ttotal: 1m 50s\tremaining: 1.46s\n",
      "987:\tlearn: 1500.9139530\ttotal: 1m 50s\tremaining: 1.34s\n",
      "988:\tlearn: 1500.8949868\ttotal: 1m 50s\tremaining: 1.23s\n",
      "989:\tlearn: 1500.7630402\ttotal: 1m 50s\tremaining: 1.12s\n",
      "990:\tlearn: 1500.6761057\ttotal: 1m 50s\tremaining: 1.01s\n",
      "991:\tlearn: 1500.6210619\ttotal: 1m 51s\tremaining: 896ms\n",
      "992:\tlearn: 1500.5509396\ttotal: 1m 51s\tremaining: 784ms\n",
      "993:\tlearn: 1500.5233989\ttotal: 1m 51s\tremaining: 672ms\n",
      "994:\tlearn: 1500.4903636\ttotal: 1m 51s\tremaining: 560ms\n",
      "995:\tlearn: 1500.3697536\ttotal: 1m 51s\tremaining: 448ms\n",
      "996:\tlearn: 1500.2576499\ttotal: 1m 51s\tremaining: 336ms\n",
      "997:\tlearn: 1500.2431353\ttotal: 1m 51s\tremaining: 224ms\n",
      "998:\tlearn: 1500.0885610\ttotal: 1m 51s\tremaining: 112ms\n",
      "999:\tlearn: 1500.0002931\ttotal: 1m 51s\tremaining: 0us\n"
     ]
    }
   ],
   "source": [
    "start_time = datetime.now() \n",
    "catboost_model.fit(features_train, target_train)\n",
    "training_time.append(datetime.now() - start_time)"
   ]
  },
  {
   "cell_type": "markdown",
   "metadata": {},
   "source": [
    "Получим предсказания модели"
   ]
  },
  {
   "cell_type": "code",
   "execution_count": 94,
   "metadata": {},
   "outputs": [],
   "source": [
    "start_time = datetime.now() \n",
    "catboost_predict = catboost_model.predict(features_test)\n",
    "prediction_time.append(datetime.now() - start_time)"
   ]
  },
  {
   "cell_type": "markdown",
   "metadata": {},
   "source": [
    "Посчитаем и выведем на экран, метрику RMSE"
   ]
  },
  {
   "cell_type": "code",
   "execution_count": 95,
   "metadata": {
    "scrolled": true
   },
   "outputs": [
    {
     "name": "stdout",
     "output_type": "stream",
     "text": [
      "RMSE: 1638.36\n"
     ]
    }
   ],
   "source": [
    "catboost_rmse = mean_squared_error(target_test, catboost_predict) ** 0.5\n",
    "print(f'RMSE: {catboost_rmse:.2f}')\n",
    "rmse.append(round(catboost_rmse,2))"
   ]
  },
  {
   "cell_type": "markdown",
   "metadata": {},
   "source": [
    "## Общие выводы"
   ]
  },
  {
   "cell_type": "code",
   "execution_count": 96,
   "metadata": {},
   "outputs": [
    {
     "data": {
      "text/html": [
       "<div>\n",
       "<style scoped>\n",
       "    .dataframe tbody tr th:only-of-type {\n",
       "        vertical-align: middle;\n",
       "    }\n",
       "\n",
       "    .dataframe tbody tr th {\n",
       "        vertical-align: top;\n",
       "    }\n",
       "\n",
       "    .dataframe thead th {\n",
       "        text-align: right;\n",
       "    }\n",
       "</style>\n",
       "<table border=\"1\" class=\"dataframe\">\n",
       "  <thead>\n",
       "    <tr style=\"text-align: right;\">\n",
       "      <th></th>\n",
       "      <th>RMSE</th>\n",
       "      <th>Скорость предсказания</th>\n",
       "      <th>Время обучения</th>\n",
       "    </tr>\n",
       "  </thead>\n",
       "  <tbody>\n",
       "    <tr>\n",
       "      <th>Градиентный бустинг LightGBM</th>\n",
       "      <td>1594.88</td>\n",
       "      <td>0 days 00:00:00.155035</td>\n",
       "      <td>0 days 00:00:01.856119</td>\n",
       "    </tr>\n",
       "    <tr>\n",
       "      <th>Градиентный бустинг CatBoost</th>\n",
       "      <td>1638.36</td>\n",
       "      <td>0 days 00:00:00.100023</td>\n",
       "      <td>0 days 00:01:53.015056</td>\n",
       "    </tr>\n",
       "    <tr>\n",
       "      <th>Случайный лес</th>\n",
       "      <td>1701.12</td>\n",
       "      <td>0 days 00:00:00.350375</td>\n",
       "      <td>0 days 00:01:25.585164</td>\n",
       "    </tr>\n",
       "    <tr>\n",
       "      <th>Дерево решений</th>\n",
       "      <td>1870.36</td>\n",
       "      <td>0 days 00:00:00.071009</td>\n",
       "      <td>0 days 00:00:06.156390</td>\n",
       "    </tr>\n",
       "    <tr>\n",
       "      <th>Линейная регрессия</th>\n",
       "      <td>2732.85</td>\n",
       "      <td>0 days 00:00:00.088019</td>\n",
       "      <td>0 days 00:00:02.145484</td>\n",
       "    </tr>\n",
       "  </tbody>\n",
       "</table>\n",
       "</div>"
      ],
      "text/plain": [
       "                                 RMSE  Скорость предсказания  \\\n",
       "Градиентный бустинг LightGBM  1594.88 0 days 00:00:00.155035   \n",
       "Градиентный бустинг CatBoost  1638.36 0 days 00:00:00.100023   \n",
       "Случайный лес                 1701.12 0 days 00:00:00.350375   \n",
       "Дерево решений                1870.36 0 days 00:00:00.071009   \n",
       "Линейная регрессия            2732.85 0 days 00:00:00.088019   \n",
       "\n",
       "                                     Время обучения  \n",
       "Градиентный бустинг LightGBM 0 days 00:00:01.856119  \n",
       "Градиентный бустинг CatBoost 0 days 00:01:53.015056  \n",
       "Случайный лес                0 days 00:01:25.585164  \n",
       "Дерево решений               0 days 00:00:06.156390  \n",
       "Линейная регрессия           0 days 00:00:02.145484  "
      ]
     },
     "execution_count": 96,
     "metadata": {},
     "output_type": "execute_result"
    }
   ],
   "source": [
    "result = pd.DataFrame({'RMSE':rmse,\n",
    "                       'Скорость предсказания':prediction_time,\n",
    "                       'Время обучения':training_time},\n",
    "                       index=['Линейная регрессия',\n",
    "                              'Дерево решений',\n",
    "                              'Случайный лес',\n",
    "                              'Градиентный бустинг LightGBM',\n",
    "                              'Градиентный бустинг CatBoost'])\n",
    "result.sort_values(by=['RMSE','Скорость предсказания', 'Время обучения'])"
   ]
  },
  {
   "cell_type": "markdown",
   "metadata": {},
   "source": [
    "* Лучше всего себя показала модель градиентного бустинга LightGBM, у нее самый маленький показатель ошибки RMSE=1595 и самое быстрое время обучения - менее 2 с., скорость предсказаяния тоже на высоком уровне - 15 мс;\n",
    "* Модель градиентного бустинга CatBoost показала второй результат показателя ошибки RMSE=1638, но модель обучается дольше всех остальных моделей-  1 минута 53 с.;\n",
    "* Модель - случайный лес заняла третий результат показателя ошибки RMSE=1701 и второе место с конца по скорости обучения - 1 мин. 26 с.;\n",
    "* Худший результат показала модель линейной регрессии - RMSE=2733."
   ]
  }
 ],
 "metadata": {
  "ExecuteTimeLog": [
   {
    "duration": 1526,
    "start_time": "2022-07-07T09:48:32.560Z"
   },
   {
    "duration": 1096,
    "start_time": "2022-07-07T09:49:10.667Z"
   },
   {
    "duration": 141,
    "start_time": "2022-07-07T09:50:48.744Z"
   },
   {
    "duration": 16,
    "start_time": "2022-07-07T10:00:16.742Z"
   },
   {
    "duration": 381,
    "start_time": "2022-07-07T10:03:09.042Z"
   },
   {
    "duration": 125,
    "start_time": "2022-07-07T10:03:44.902Z"
   },
   {
    "duration": 134,
    "start_time": "2022-07-07T10:04:22.457Z"
   },
   {
    "duration": 120,
    "start_time": "2022-07-07T10:04:49.324Z"
   },
   {
    "duration": 32,
    "start_time": "2022-07-07T10:06:55.871Z"
   },
   {
    "duration": 9,
    "start_time": "2022-07-07T10:11:45.347Z"
   },
   {
    "duration": 171,
    "start_time": "2022-07-07T10:12:23.642Z"
   },
   {
    "duration": 49,
    "start_time": "2022-07-07T10:14:22.192Z"
   },
   {
    "duration": 16,
    "start_time": "2022-07-07T10:14:34.131Z"
   },
   {
    "duration": 9,
    "start_time": "2022-07-07T10:14:56.137Z"
   },
   {
    "duration": 82,
    "start_time": "2022-07-07T10:15:21.536Z"
   },
   {
    "duration": 11,
    "start_time": "2022-07-07T10:15:24.551Z"
   },
   {
    "duration": 10,
    "start_time": "2022-07-07T10:15:33.252Z"
   },
   {
    "duration": 150,
    "start_time": "2022-07-07T10:16:50.691Z"
   },
   {
    "duration": 9,
    "start_time": "2022-07-07T10:17:16.292Z"
   },
   {
    "duration": 25,
    "start_time": "2022-07-07T10:17:24.051Z"
   },
   {
    "duration": 20,
    "start_time": "2022-07-07T10:17:27.546Z"
   },
   {
    "duration": 9,
    "start_time": "2022-07-07T10:17:33.369Z"
   },
   {
    "duration": 10,
    "start_time": "2022-07-07T10:17:37.446Z"
   },
   {
    "duration": 10,
    "start_time": "2022-07-07T10:17:41.863Z"
   },
   {
    "duration": 9,
    "start_time": "2022-07-07T10:17:48.074Z"
   },
   {
    "duration": 9,
    "start_time": "2022-07-07T10:17:53.983Z"
   },
   {
    "duration": 36,
    "start_time": "2022-07-07T10:18:17.644Z"
   },
   {
    "duration": 65,
    "start_time": "2022-07-07T10:18:27.383Z"
   },
   {
    "duration": 17,
    "start_time": "2022-07-07T10:18:43.408Z"
   },
   {
    "duration": 15,
    "start_time": "2022-07-07T10:18:50.683Z"
   },
   {
    "duration": 11,
    "start_time": "2022-07-07T10:18:55.083Z"
   },
   {
    "duration": 9,
    "start_time": "2022-07-07T10:19:00.534Z"
   },
   {
    "duration": 9,
    "start_time": "2022-07-07T10:19:09.951Z"
   },
   {
    "duration": 9,
    "start_time": "2022-07-07T10:19:40.259Z"
   },
   {
    "duration": 10,
    "start_time": "2022-07-07T10:20:23.334Z"
   },
   {
    "duration": 10,
    "start_time": "2022-07-07T10:20:48.583Z"
   },
   {
    "duration": 22,
    "start_time": "2022-07-07T10:20:52.970Z"
   },
   {
    "duration": 10,
    "start_time": "2022-07-07T10:20:56.451Z"
   },
   {
    "duration": 10,
    "start_time": "2022-07-07T10:21:03.050Z"
   },
   {
    "duration": 74,
    "start_time": "2022-07-07T10:21:37.671Z"
   },
   {
    "duration": 10,
    "start_time": "2022-07-07T10:21:51.759Z"
   },
   {
    "duration": 11,
    "start_time": "2022-07-07T10:22:14.083Z"
   },
   {
    "duration": 9,
    "start_time": "2022-07-07T10:22:27.783Z"
   },
   {
    "duration": 11,
    "start_time": "2022-07-07T10:22:55.292Z"
   },
   {
    "duration": 10,
    "start_time": "2022-07-07T10:23:28.259Z"
   },
   {
    "duration": 9,
    "start_time": "2022-07-07T10:23:59.235Z"
   },
   {
    "duration": 199,
    "start_time": "2022-07-07T10:24:16.139Z"
   },
   {
    "duration": 207,
    "start_time": "2022-07-07T10:26:05.987Z"
   },
   {
    "duration": 244,
    "start_time": "2022-07-07T10:26:12.752Z"
   },
   {
    "duration": 18,
    "start_time": "2022-07-07T10:27:03.751Z"
   },
   {
    "duration": 243,
    "start_time": "2022-07-07T10:27:13.191Z"
   },
   {
    "duration": 355,
    "start_time": "2022-07-07T10:27:38.143Z"
   },
   {
    "duration": 13,
    "start_time": "2022-07-07T10:27:52.351Z"
   },
   {
    "duration": 13,
    "start_time": "2022-07-07T10:28:54.158Z"
   },
   {
    "duration": 218,
    "start_time": "2022-07-07T10:29:01.591Z"
   },
   {
    "duration": 1323,
    "start_time": "2022-07-07T11:00:16.802Z"
   },
   {
    "duration": 824,
    "start_time": "2022-07-07T11:00:18.127Z"
   },
   {
    "duration": 184,
    "start_time": "2022-07-07T11:00:18.953Z"
   },
   {
    "duration": 18,
    "start_time": "2022-07-07T11:00:19.139Z"
   },
   {
    "duration": 136,
    "start_time": "2022-07-07T11:00:19.158Z"
   },
   {
    "duration": 202,
    "start_time": "2022-07-07T11:00:22.961Z"
   },
   {
    "duration": 44,
    "start_time": "2022-07-07T11:01:51.681Z"
   },
   {
    "duration": 15,
    "start_time": "2022-07-07T11:03:47.630Z"
   },
   {
    "duration": 14,
    "start_time": "2022-07-07T11:05:00.483Z"
   },
   {
    "duration": 12,
    "start_time": "2022-07-07T11:05:09.874Z"
   },
   {
    "duration": 12,
    "start_time": "2022-07-07T11:05:21.657Z"
   },
   {
    "duration": 12,
    "start_time": "2022-07-07T11:05:31.757Z"
   },
   {
    "duration": 14,
    "start_time": "2022-07-07T11:05:38.975Z"
   },
   {
    "duration": 12,
    "start_time": "2022-07-07T11:05:52.282Z"
   },
   {
    "duration": 11,
    "start_time": "2022-07-07T11:05:58.270Z"
   },
   {
    "duration": 13,
    "start_time": "2022-07-07T11:06:03.681Z"
   },
   {
    "duration": 13,
    "start_time": "2022-07-07T11:06:34.234Z"
   },
   {
    "duration": 14,
    "start_time": "2022-07-07T11:06:42.002Z"
   },
   {
    "duration": 17,
    "start_time": "2022-07-07T11:06:54.466Z"
   },
   {
    "duration": 166,
    "start_time": "2022-07-07T11:08:03.065Z"
   },
   {
    "duration": 31,
    "start_time": "2022-07-07T11:08:34.468Z"
   },
   {
    "duration": 158,
    "start_time": "2022-07-07T11:10:43.164Z"
   },
   {
    "duration": 24,
    "start_time": "2022-07-07T11:10:51.802Z"
   },
   {
    "duration": 16,
    "start_time": "2022-07-07T11:12:27.041Z"
   },
   {
    "duration": 17,
    "start_time": "2022-07-07T11:12:51.652Z"
   },
   {
    "duration": 18,
    "start_time": "2022-07-07T11:13:16.483Z"
   },
   {
    "duration": 22,
    "start_time": "2022-07-07T11:13:20.955Z"
   },
   {
    "duration": 16,
    "start_time": "2022-07-07T11:13:33.575Z"
   },
   {
    "duration": 18,
    "start_time": "2022-07-07T11:14:00.683Z"
   },
   {
    "duration": 20,
    "start_time": "2022-07-07T11:14:06.669Z"
   },
   {
    "duration": 18,
    "start_time": "2022-07-07T11:14:11.971Z"
   },
   {
    "duration": 237,
    "start_time": "2022-07-07T11:18:37.845Z"
   },
   {
    "duration": 215,
    "start_time": "2022-07-07T11:18:44.836Z"
   },
   {
    "duration": 245,
    "start_time": "2022-07-07T11:18:49.483Z"
   },
   {
    "duration": 53,
    "start_time": "2022-07-07T11:19:50.867Z"
   },
   {
    "duration": 264,
    "start_time": "2022-07-07T11:20:03.238Z"
   },
   {
    "duration": 369,
    "start_time": "2022-07-07T11:20:27.825Z"
   },
   {
    "duration": 32,
    "start_time": "2022-07-07T11:20:29.634Z"
   },
   {
    "duration": 9,
    "start_time": "2022-07-07T11:20:40.366Z"
   },
   {
    "duration": 12,
    "start_time": "2022-07-07T11:21:06.283Z"
   },
   {
    "duration": 61,
    "start_time": "2022-07-07T11:21:47.384Z"
   },
   {
    "duration": 236,
    "start_time": "2022-07-07T11:21:58.895Z"
   },
   {
    "duration": 130,
    "start_time": "2022-07-07T12:04:05.958Z"
   },
   {
    "duration": 32,
    "start_time": "2022-07-07T12:04:12.203Z"
   },
   {
    "duration": 8,
    "start_time": "2022-07-07T12:05:21.883Z"
   },
   {
    "duration": 12,
    "start_time": "2022-07-07T12:06:45.135Z"
   },
   {
    "duration": 11,
    "start_time": "2022-07-07T12:06:50.295Z"
   },
   {
    "duration": 12,
    "start_time": "2022-07-07T12:06:59.335Z"
   },
   {
    "duration": 12,
    "start_time": "2022-07-07T12:07:11.925Z"
   },
   {
    "duration": 11,
    "start_time": "2022-07-07T12:07:19.556Z"
   },
   {
    "duration": 11,
    "start_time": "2022-07-07T12:07:26.185Z"
   },
   {
    "duration": 12,
    "start_time": "2022-07-07T12:07:32.983Z"
   },
   {
    "duration": 11,
    "start_time": "2022-07-07T12:07:37.664Z"
   },
   {
    "duration": 36,
    "start_time": "2022-07-07T12:15:11.583Z"
   },
   {
    "duration": 148,
    "start_time": "2022-07-07T12:17:35.340Z"
   },
   {
    "duration": 126,
    "start_time": "2022-07-07T12:17:41.625Z"
   },
   {
    "duration": 19,
    "start_time": "2022-07-07T12:22:15.776Z"
   },
   {
    "duration": 130,
    "start_time": "2022-07-07T12:22:34.338Z"
   },
   {
    "duration": 8,
    "start_time": "2022-07-07T12:23:24.296Z"
   },
   {
    "duration": 180,
    "start_time": "2022-07-07T12:23:52.005Z"
   },
   {
    "duration": 176,
    "start_time": "2022-07-07T12:23:58.377Z"
   },
   {
    "duration": 160,
    "start_time": "2022-07-07T12:25:39.165Z"
   },
   {
    "duration": 156,
    "start_time": "2022-07-07T12:25:52.517Z"
   },
   {
    "duration": 154,
    "start_time": "2022-07-07T12:25:57.219Z"
   },
   {
    "duration": 153,
    "start_time": "2022-07-07T12:26:02.297Z"
   },
   {
    "duration": 178,
    "start_time": "2022-07-07T12:26:07.442Z"
   },
   {
    "duration": 10,
    "start_time": "2022-07-07T12:26:38.889Z"
   },
   {
    "duration": 162,
    "start_time": "2022-07-07T12:26:53.964Z"
   },
   {
    "duration": 164,
    "start_time": "2022-07-07T12:27:02.449Z"
   },
   {
    "duration": 273,
    "start_time": "2022-07-07T12:27:10.645Z"
   },
   {
    "duration": 153,
    "start_time": "2022-07-07T12:27:16.696Z"
   },
   {
    "duration": 175,
    "start_time": "2022-07-07T12:27:30.477Z"
   },
   {
    "duration": 33,
    "start_time": "2022-07-07T12:28:50.488Z"
   },
   {
    "duration": 36,
    "start_time": "2022-07-07T12:31:41.045Z"
   },
   {
    "duration": 41,
    "start_time": "2022-07-07T12:32:08.899Z"
   },
   {
    "duration": 30,
    "start_time": "2022-07-07T12:33:31.865Z"
   },
   {
    "duration": 8,
    "start_time": "2022-07-07T12:34:00.242Z"
   },
   {
    "duration": 11,
    "start_time": "2022-07-07T12:34:37.486Z"
   },
   {
    "duration": 221,
    "start_time": "2022-07-07T12:40:36.196Z"
   },
   {
    "duration": 114,
    "start_time": "2022-07-07T12:42:59.808Z"
   },
   {
    "duration": 14,
    "start_time": "2022-07-07T12:56:32.643Z"
   },
   {
    "duration": 10,
    "start_time": "2022-07-07T12:56:36.538Z"
   },
   {
    "duration": 9,
    "start_time": "2022-07-07T12:56:43.405Z"
   },
   {
    "duration": 185,
    "start_time": "2022-07-07T12:57:19.213Z"
   },
   {
    "duration": 184,
    "start_time": "2022-07-07T12:57:45.848Z"
   },
   {
    "duration": 9,
    "start_time": "2022-07-07T12:57:56.756Z"
   },
   {
    "duration": 10,
    "start_time": "2022-07-07T12:58:08.343Z"
   },
   {
    "duration": 9,
    "start_time": "2022-07-07T12:58:12.339Z"
   },
   {
    "duration": 10,
    "start_time": "2022-07-07T12:58:16.538Z"
   },
   {
    "duration": 20,
    "start_time": "2022-07-07T12:58:47.859Z"
   },
   {
    "duration": 16,
    "start_time": "2022-07-07T12:58:55.159Z"
   },
   {
    "duration": 11,
    "start_time": "2022-07-07T12:58:58.747Z"
   },
   {
    "duration": 12,
    "start_time": "2022-07-07T12:59:03.586Z"
   },
   {
    "duration": 163,
    "start_time": "2022-07-07T12:59:16.087Z"
   },
   {
    "duration": 11,
    "start_time": "2022-07-07T12:59:22.833Z"
   },
   {
    "duration": 225,
    "start_time": "2022-07-07T13:00:06.951Z"
   },
   {
    "duration": 205,
    "start_time": "2022-07-07T13:00:17.838Z"
   },
   {
    "duration": 197,
    "start_time": "2022-07-07T13:00:41.608Z"
   },
   {
    "duration": 206,
    "start_time": "2022-07-07T13:00:48.039Z"
   },
   {
    "duration": 198,
    "start_time": "2022-07-07T13:01:02.899Z"
   },
   {
    "duration": 314,
    "start_time": "2022-07-07T13:01:10.176Z"
   },
   {
    "duration": 198,
    "start_time": "2022-07-07T13:01:19.858Z"
   },
   {
    "duration": 216,
    "start_time": "2022-07-07T13:01:24.507Z"
   },
   {
    "duration": 12,
    "start_time": "2022-07-07T13:01:35.380Z"
   },
   {
    "duration": 12,
    "start_time": "2022-07-07T13:01:43.668Z"
   },
   {
    "duration": 10,
    "start_time": "2022-07-07T13:01:49.365Z"
   },
   {
    "duration": 1659,
    "start_time": "2022-07-08T09:09:00.262Z"
   },
   {
    "duration": 1129,
    "start_time": "2022-07-08T09:09:01.924Z"
   },
   {
    "duration": 122,
    "start_time": "2022-07-08T09:09:03.055Z"
   },
   {
    "duration": 15,
    "start_time": "2022-07-08T09:09:03.178Z"
   },
   {
    "duration": 122,
    "start_time": "2022-07-08T09:09:10.614Z"
   },
   {
    "duration": 110,
    "start_time": "2022-07-08T09:09:46.181Z"
   },
   {
    "duration": 26,
    "start_time": "2022-07-08T09:14:17.672Z"
   },
   {
    "duration": 25,
    "start_time": "2022-07-08T09:19:55.072Z"
   },
   {
    "duration": 11,
    "start_time": "2022-07-08T09:19:56.792Z"
   },
   {
    "duration": 185,
    "start_time": "2022-07-08T09:21:07.553Z"
   },
   {
    "duration": 199,
    "start_time": "2022-07-08T09:22:00.440Z"
   },
   {
    "duration": 65,
    "start_time": "2022-07-08T09:23:15.027Z"
   },
   {
    "duration": 178,
    "start_time": "2022-07-08T09:23:24.124Z"
   },
   {
    "duration": 22,
    "start_time": "2022-07-08T09:25:47.425Z"
   },
   {
    "duration": 67,
    "start_time": "2022-07-08T09:26:51.793Z"
   },
   {
    "duration": 66,
    "start_time": "2022-07-08T09:27:03.945Z"
   },
   {
    "duration": 70,
    "start_time": "2022-07-08T09:27:18.393Z"
   },
   {
    "duration": 154,
    "start_time": "2022-07-08T09:27:48.849Z"
   },
   {
    "duration": 58,
    "start_time": "2022-07-08T09:27:55.272Z"
   },
   {
    "duration": 69,
    "start_time": "2022-07-08T09:43:02.732Z"
   },
   {
    "duration": 61,
    "start_time": "2022-07-08T09:43:18.053Z"
   },
   {
    "duration": 25,
    "start_time": "2022-07-08T09:47:25.354Z"
   },
   {
    "duration": 18,
    "start_time": "2022-07-08T09:47:45.793Z"
   },
   {
    "duration": 25,
    "start_time": "2022-07-08T09:47:59.508Z"
   },
   {
    "duration": 164,
    "start_time": "2022-07-08T09:48:50.292Z"
   },
   {
    "duration": 160,
    "start_time": "2022-07-08T09:51:12.992Z"
   },
   {
    "duration": 156,
    "start_time": "2022-07-08T09:51:42.055Z"
   },
   {
    "duration": 239,
    "start_time": "2022-07-08T09:51:59.292Z"
   },
   {
    "duration": 35,
    "start_time": "2022-07-08T09:53:14.557Z"
   },
   {
    "duration": 150,
    "start_time": "2022-07-08T09:53:28.304Z"
   },
   {
    "duration": 36,
    "start_time": "2022-07-08T09:56:34.753Z"
   },
   {
    "duration": 192,
    "start_time": "2022-07-08T09:56:49.963Z"
   },
   {
    "duration": 161,
    "start_time": "2022-07-08T09:56:54.991Z"
   },
   {
    "duration": 8,
    "start_time": "2022-07-08T10:08:10.270Z"
   },
   {
    "duration": 13,
    "start_time": "2022-07-08T10:16:44.668Z"
   },
   {
    "duration": 12,
    "start_time": "2022-07-08T10:18:04.617Z"
   },
   {
    "duration": 166,
    "start_time": "2022-07-08T10:18:57.689Z"
   },
   {
    "duration": 163,
    "start_time": "2022-07-08T10:20:17.489Z"
   },
   {
    "duration": 197,
    "start_time": "2022-07-08T10:20:29.036Z"
   },
   {
    "duration": 34,
    "start_time": "2022-07-08T10:23:36.358Z"
   },
   {
    "duration": 71,
    "start_time": "2022-07-08T10:24:34.209Z"
   },
   {
    "duration": 20,
    "start_time": "2022-07-08T10:25:03.364Z"
   },
   {
    "duration": 13,
    "start_time": "2022-07-08T10:25:21.008Z"
   },
   {
    "duration": 159,
    "start_time": "2022-07-08T10:26:39.832Z"
   },
   {
    "duration": 64,
    "start_time": "2022-07-08T10:28:43.391Z"
   },
   {
    "duration": 54,
    "start_time": "2022-07-08T10:29:10.111Z"
   },
   {
    "duration": 104,
    "start_time": "2022-07-08T10:29:13.791Z"
   },
   {
    "duration": 9,
    "start_time": "2022-07-08T10:29:19.291Z"
   },
   {
    "duration": 20,
    "start_time": "2022-07-08T10:29:42.292Z"
   },
   {
    "duration": 90,
    "start_time": "2022-07-08T10:30:07.734Z"
   },
   {
    "duration": 162,
    "start_time": "2022-07-08T10:30:23.591Z"
   },
   {
    "duration": 19,
    "start_time": "2022-07-08T10:30:47.234Z"
   },
   {
    "duration": 11,
    "start_time": "2022-07-08T10:30:57.154Z"
   },
   {
    "duration": 80,
    "start_time": "2022-07-08T10:31:09.153Z"
   },
   {
    "duration": 160,
    "start_time": "2022-07-08T10:31:12.953Z"
   },
   {
    "duration": 8,
    "start_time": "2022-07-08T10:31:26.312Z"
   },
   {
    "duration": 61,
    "start_time": "2022-07-08T10:32:41.672Z"
   },
   {
    "duration": 62,
    "start_time": "2022-07-08T10:34:04.632Z"
   },
   {
    "duration": 15,
    "start_time": "2022-07-08T10:34:14.915Z"
   },
   {
    "duration": 3,
    "start_time": "2022-07-08T10:36:08.948Z"
   },
   {
    "duration": 682,
    "start_time": "2022-07-08T10:36:08.954Z"
   },
   {
    "duration": 113,
    "start_time": "2022-07-08T10:36:09.638Z"
   },
   {
    "duration": 40,
    "start_time": "2022-07-08T10:36:09.753Z"
   },
   {
    "duration": 11,
    "start_time": "2022-07-08T10:36:09.795Z"
   },
   {
    "duration": 80,
    "start_time": "2022-07-08T10:36:09.808Z"
   },
   {
    "duration": 23,
    "start_time": "2022-07-08T10:39:26.937Z"
   },
   {
    "duration": 95,
    "start_time": "2022-07-08T10:39:42.138Z"
   },
   {
    "duration": 203,
    "start_time": "2022-07-08T10:39:46.168Z"
   },
   {
    "duration": 44,
    "start_time": "2022-07-08T10:39:51.638Z"
   },
   {
    "duration": 273,
    "start_time": "2022-07-08T10:39:52.654Z"
   },
   {
    "duration": 17,
    "start_time": "2022-07-08T10:39:55.394Z"
   },
   {
    "duration": 25,
    "start_time": "2022-07-08T10:40:01.268Z"
   },
   {
    "duration": 68,
    "start_time": "2022-07-08T10:40:22.761Z"
   },
   {
    "duration": 198,
    "start_time": "2022-07-08T10:40:53.936Z"
   },
   {
    "duration": 33,
    "start_time": "2022-07-08T10:40:59.334Z"
   },
   {
    "duration": 211,
    "start_time": "2022-07-08T10:41:04.336Z"
   },
   {
    "duration": 189,
    "start_time": "2022-07-08T10:41:08.635Z"
   },
   {
    "duration": 99,
    "start_time": "2022-07-08T10:41:13.174Z"
   },
   {
    "duration": 156,
    "start_time": "2022-07-08T10:41:14.587Z"
   },
   {
    "duration": 24,
    "start_time": "2022-07-08T10:41:18.506Z"
   },
   {
    "duration": 42,
    "start_time": "2022-07-08T10:41:50.836Z"
   },
   {
    "duration": 172,
    "start_time": "2022-07-08T10:43:29.168Z"
   },
   {
    "duration": 174,
    "start_time": "2022-07-08T10:43:38.214Z"
   },
   {
    "duration": 188,
    "start_time": "2022-07-08T10:44:25.175Z"
   },
   {
    "duration": 187,
    "start_time": "2022-07-08T10:45:22.367Z"
   },
   {
    "duration": 167,
    "start_time": "2022-07-08T10:45:38.562Z"
   },
   {
    "duration": 166,
    "start_time": "2022-07-08T10:46:54.789Z"
   },
   {
    "duration": 59,
    "start_time": "2022-07-08T10:47:48.734Z"
   },
   {
    "duration": 32,
    "start_time": "2022-07-08T10:47:51.296Z"
   },
   {
    "duration": 24,
    "start_time": "2022-07-08T10:48:00.175Z"
   },
   {
    "duration": 19,
    "start_time": "2022-07-08T10:50:01.765Z"
   },
   {
    "duration": 81,
    "start_time": "2022-07-08T10:50:34.703Z"
   },
   {
    "duration": 36,
    "start_time": "2022-07-08T10:54:26.796Z"
   },
   {
    "duration": 22,
    "start_time": "2022-07-08T10:55:19.516Z"
   },
   {
    "duration": 77,
    "start_time": "2022-07-08T10:55:20.316Z"
   },
   {
    "duration": 19,
    "start_time": "2022-07-08T10:56:31.070Z"
   },
   {
    "duration": 1366,
    "start_time": "2022-07-08T10:57:20.295Z"
   },
   {
    "duration": 797,
    "start_time": "2022-07-08T10:57:21.663Z"
   },
   {
    "duration": 107,
    "start_time": "2022-07-08T10:57:22.462Z"
   },
   {
    "duration": 50,
    "start_time": "2022-07-08T10:57:22.570Z"
   },
   {
    "duration": 20,
    "start_time": "2022-07-08T10:57:22.622Z"
   },
   {
    "duration": 80,
    "start_time": "2022-07-08T10:57:22.651Z"
   },
   {
    "duration": 86,
    "start_time": "2022-07-08T10:57:22.732Z"
   },
   {
    "duration": 139,
    "start_time": "2022-07-08T10:57:22.820Z"
   },
   {
    "duration": 213,
    "start_time": "2022-07-08T10:57:22.969Z"
   },
   {
    "duration": 41,
    "start_time": "2022-07-08T10:57:23.184Z"
   },
   {
    "duration": 192,
    "start_time": "2022-07-08T10:57:23.227Z"
   },
   {
    "duration": 36,
    "start_time": "2022-07-08T10:57:23.421Z"
   },
   {
    "duration": 33,
    "start_time": "2022-07-08T10:57:23.458Z"
   },
   {
    "duration": 220,
    "start_time": "2022-07-08T10:57:23.495Z"
   },
   {
    "duration": 51,
    "start_time": "2022-07-08T10:57:23.717Z"
   },
   {
    "duration": 191,
    "start_time": "2022-07-08T10:57:23.773Z"
   },
   {
    "duration": 196,
    "start_time": "2022-07-08T10:57:23.967Z"
   },
   {
    "duration": 112,
    "start_time": "2022-07-08T10:57:24.166Z"
   },
   {
    "duration": 213,
    "start_time": "2022-07-08T10:57:24.280Z"
   },
   {
    "duration": 33,
    "start_time": "2022-07-08T10:57:24.494Z"
   },
   {
    "duration": 56,
    "start_time": "2022-07-08T10:57:24.551Z"
   },
   {
    "duration": 268,
    "start_time": "2022-07-08T10:57:24.609Z"
   },
   {
    "duration": 185,
    "start_time": "2022-07-08T10:57:24.879Z"
   },
   {
    "duration": 30,
    "start_time": "2022-07-08T10:57:25.067Z"
   },
   {
    "duration": 57,
    "start_time": "2022-07-08T10:57:25.098Z"
   },
   {
    "duration": 27,
    "start_time": "2022-07-08T10:57:25.162Z"
   },
   {
    "duration": 9,
    "start_time": "2022-07-08T10:57:25.190Z"
   },
   {
    "duration": 18,
    "start_time": "2022-07-08T10:57:25.201Z"
   },
   {
    "duration": 70,
    "start_time": "2022-07-08T10:57:25.221Z"
   },
   {
    "duration": 87,
    "start_time": "2022-07-08T10:57:25.293Z"
   },
   {
    "duration": 108,
    "start_time": "2022-07-08T10:59:16.996Z"
   },
   {
    "duration": 13,
    "start_time": "2022-07-08T10:59:45.196Z"
   },
   {
    "duration": 4,
    "start_time": "2022-07-08T11:00:23.716Z"
   },
   {
    "duration": 188,
    "start_time": "2022-07-08T11:00:25.036Z"
   },
   {
    "duration": 152,
    "start_time": "2022-07-08T11:00:46.929Z"
   },
   {
    "duration": 24,
    "start_time": "2022-07-08T11:01:24.579Z"
   },
   {
    "duration": 89,
    "start_time": "2022-07-08T11:01:25.176Z"
   },
   {
    "duration": 1296,
    "start_time": "2022-07-08T11:37:46.578Z"
   },
   {
    "duration": 765,
    "start_time": "2022-07-08T11:37:47.876Z"
   },
   {
    "duration": 113,
    "start_time": "2022-07-08T11:37:48.649Z"
   },
   {
    "duration": 48,
    "start_time": "2022-07-08T11:37:48.768Z"
   },
   {
    "duration": 28,
    "start_time": "2022-07-08T11:37:48.818Z"
   },
   {
    "duration": 72,
    "start_time": "2022-07-08T11:37:48.847Z"
   },
   {
    "duration": 84,
    "start_time": "2022-07-08T11:37:48.920Z"
   },
   {
    "duration": 118,
    "start_time": "2022-07-08T11:37:49.005Z"
   },
   {
    "duration": 201,
    "start_time": "2022-07-08T11:37:49.125Z"
   },
   {
    "duration": 36,
    "start_time": "2022-07-08T11:37:49.327Z"
   },
   {
    "duration": 195,
    "start_time": "2022-07-08T11:37:49.365Z"
   },
   {
    "duration": 18,
    "start_time": "2022-07-08T11:37:49.562Z"
   },
   {
    "duration": 26,
    "start_time": "2022-07-08T11:37:49.581Z"
   },
   {
    "duration": 228,
    "start_time": "2022-07-08T11:37:49.610Z"
   },
   {
    "duration": 34,
    "start_time": "2022-07-08T11:37:49.839Z"
   },
   {
    "duration": 164,
    "start_time": "2022-07-08T11:37:49.875Z"
   },
   {
    "duration": 173,
    "start_time": "2022-07-08T11:37:50.051Z"
   },
   {
    "duration": 105,
    "start_time": "2022-07-08T11:37:50.226Z"
   },
   {
    "duration": 172,
    "start_time": "2022-07-08T11:37:50.333Z"
   },
   {
    "duration": 26,
    "start_time": "2022-07-08T11:37:50.506Z"
   },
   {
    "duration": 37,
    "start_time": "2022-07-08T11:37:50.533Z"
   },
   {
    "duration": 9,
    "start_time": "2022-07-08T11:37:50.572Z"
   },
   {
    "duration": 234,
    "start_time": "2022-07-08T11:37:50.582Z"
   },
   {
    "duration": 162,
    "start_time": "2022-07-08T11:37:50.817Z"
   },
   {
    "duration": 29,
    "start_time": "2022-07-08T11:37:50.981Z"
   },
   {
    "duration": 46,
    "start_time": "2022-07-08T11:37:51.012Z"
   },
   {
    "duration": 30,
    "start_time": "2022-07-08T11:37:51.060Z"
   },
   {
    "duration": 11,
    "start_time": "2022-07-08T11:37:51.091Z"
   },
   {
    "duration": 18,
    "start_time": "2022-07-08T11:37:51.103Z"
   },
   {
    "duration": 58,
    "start_time": "2022-07-08T11:37:51.122Z"
   },
   {
    "duration": 76,
    "start_time": "2022-07-08T11:37:51.182Z"
   },
   {
    "duration": 6,
    "start_time": "2022-07-08T11:37:51.260Z"
   },
   {
    "duration": 38,
    "start_time": "2022-07-08T11:38:13.190Z"
   },
   {
    "duration": 6,
    "start_time": "2022-07-08T11:40:13.100Z"
   },
   {
    "duration": 37,
    "start_time": "2022-07-08T11:40:22.471Z"
   },
   {
    "duration": 44,
    "start_time": "2022-07-08T11:40:45.003Z"
   },
   {
    "duration": 24,
    "start_time": "2022-07-08T11:40:58.131Z"
   },
   {
    "duration": 36,
    "start_time": "2022-07-08T11:41:15.891Z"
   },
   {
    "duration": 62,
    "start_time": "2022-07-08T11:49:04.693Z"
   },
   {
    "duration": 55,
    "start_time": "2022-07-08T11:49:32.285Z"
   },
   {
    "duration": 1468,
    "start_time": "2022-07-11T10:57:33.689Z"
   },
   {
    "duration": 2956,
    "start_time": "2022-07-11T10:57:35.159Z"
   },
   {
    "duration": 113,
    "start_time": "2022-07-11T10:57:38.117Z"
   },
   {
    "duration": 39,
    "start_time": "2022-07-11T10:57:38.231Z"
   },
   {
    "duration": 17,
    "start_time": "2022-07-11T10:57:38.271Z"
   },
   {
    "duration": 69,
    "start_time": "2022-07-11T10:57:38.304Z"
   },
   {
    "duration": 76,
    "start_time": "2022-07-11T10:57:38.375Z"
   },
   {
    "duration": 112,
    "start_time": "2022-07-11T10:57:38.452Z"
   },
   {
    "duration": 211,
    "start_time": "2022-07-11T10:57:38.566Z"
   },
   {
    "duration": 36,
    "start_time": "2022-07-11T10:57:38.780Z"
   },
   {
    "duration": 199,
    "start_time": "2022-07-11T10:57:38.818Z"
   },
   {
    "duration": 19,
    "start_time": "2022-07-11T10:57:39.018Z"
   },
   {
    "duration": 31,
    "start_time": "2022-07-11T10:57:39.038Z"
   },
   {
    "duration": 215,
    "start_time": "2022-07-11T10:57:39.070Z"
   },
   {
    "duration": 34,
    "start_time": "2022-07-11T10:57:39.286Z"
   },
   {
    "duration": 165,
    "start_time": "2022-07-11T10:57:39.322Z"
   },
   {
    "duration": 176,
    "start_time": "2022-07-11T10:57:39.489Z"
   },
   {
    "duration": 88,
    "start_time": "2022-07-11T10:57:39.666Z"
   },
   {
    "duration": 170,
    "start_time": "2022-07-11T10:57:39.756Z"
   },
   {
    "duration": 27,
    "start_time": "2022-07-11T10:57:39.928Z"
   },
   {
    "duration": 33,
    "start_time": "2022-07-11T10:57:39.956Z"
   },
   {
    "duration": 17,
    "start_time": "2022-07-11T10:57:39.990Z"
   },
   {
    "duration": 242,
    "start_time": "2022-07-11T10:57:40.009Z"
   },
   {
    "duration": 155,
    "start_time": "2022-07-11T10:57:40.253Z"
   },
   {
    "duration": 27,
    "start_time": "2022-07-11T10:57:40.410Z"
   },
   {
    "duration": 30,
    "start_time": "2022-07-11T10:57:40.438Z"
   },
   {
    "duration": 43,
    "start_time": "2022-07-11T10:57:40.470Z"
   },
   {
    "duration": 9,
    "start_time": "2022-07-11T10:57:40.516Z"
   },
   {
    "duration": 17,
    "start_time": "2022-07-11T10:57:40.527Z"
   },
   {
    "duration": 36,
    "start_time": "2022-07-11T10:57:40.546Z"
   },
   {
    "duration": 82,
    "start_time": "2022-07-11T10:57:40.584Z"
   },
   {
    "duration": 2,
    "start_time": "2022-07-11T10:57:40.667Z"
   },
   {
    "duration": 54,
    "start_time": "2022-07-11T10:57:40.671Z"
   },
   {
    "duration": 13,
    "start_time": "2022-07-11T11:36:45.156Z"
   },
   {
    "duration": 12,
    "start_time": "2022-07-11T13:24:51.735Z"
   },
   {
    "duration": 11,
    "start_time": "2022-07-11T13:24:58.855Z"
   },
   {
    "duration": 3,
    "start_time": "2022-07-11T13:26:47.476Z"
   },
   {
    "duration": 50,
    "start_time": "2022-07-11T13:40:01.805Z"
   },
   {
    "duration": 3,
    "start_time": "2022-07-11T13:40:02.277Z"
   },
   {
    "duration": 16,
    "start_time": "2022-07-11T13:40:02.786Z"
   },
   {
    "duration": 956,
    "start_time": "2022-07-11T13:40:03.416Z"
   },
   {
    "duration": 34,
    "start_time": "2022-07-11T13:40:04.374Z"
   },
   {
    "duration": 3,
    "start_time": "2022-07-11T13:40:05.279Z"
   },
   {
    "duration": 4,
    "start_time": "2022-07-11T13:41:54.387Z"
   },
   {
    "duration": 4,
    "start_time": "2022-07-11T13:42:28.236Z"
   },
   {
    "duration": 1437,
    "start_time": "2022-07-12T10:50:41.473Z"
   },
   {
    "duration": 1007,
    "start_time": "2022-07-12T10:50:42.913Z"
   },
   {
    "duration": 130,
    "start_time": "2022-07-12T10:50:43.921Z"
   },
   {
    "duration": 42,
    "start_time": "2022-07-12T10:50:44.053Z"
   },
   {
    "duration": 30,
    "start_time": "2022-07-12T10:50:44.096Z"
   },
   {
    "duration": 78,
    "start_time": "2022-07-12T10:50:44.127Z"
   },
   {
    "duration": 108,
    "start_time": "2022-07-12T10:50:44.207Z"
   },
   {
    "duration": 116,
    "start_time": "2022-07-12T10:50:44.323Z"
   },
   {
    "duration": 228,
    "start_time": "2022-07-12T10:50:44.441Z"
   },
   {
    "duration": 30,
    "start_time": "2022-07-12T10:50:44.672Z"
   },
   {
    "duration": 198,
    "start_time": "2022-07-12T10:50:44.704Z"
   },
   {
    "duration": 25,
    "start_time": "2022-07-12T10:50:44.903Z"
   },
   {
    "duration": 31,
    "start_time": "2022-07-12T10:50:44.929Z"
   },
   {
    "duration": 206,
    "start_time": "2022-07-12T10:50:44.963Z"
   },
   {
    "duration": 26,
    "start_time": "2022-07-12T10:50:45.170Z"
   },
   {
    "duration": 172,
    "start_time": "2022-07-12T10:50:45.197Z"
   },
   {
    "duration": 205,
    "start_time": "2022-07-12T10:50:45.371Z"
   },
   {
    "duration": 117,
    "start_time": "2022-07-12T10:50:45.577Z"
   },
   {
    "duration": 169,
    "start_time": "2022-07-12T10:50:45.695Z"
   },
   {
    "duration": 29,
    "start_time": "2022-07-12T10:50:45.866Z"
   },
   {
    "duration": 43,
    "start_time": "2022-07-12T10:50:45.897Z"
   },
   {
    "duration": 11,
    "start_time": "2022-07-12T10:50:45.942Z"
   },
   {
    "duration": 235,
    "start_time": "2022-07-12T10:50:45.954Z"
   },
   {
    "duration": 166,
    "start_time": "2022-07-12T10:50:46.191Z"
   },
   {
    "duration": 31,
    "start_time": "2022-07-12T10:50:46.358Z"
   },
   {
    "duration": 47,
    "start_time": "2022-07-12T10:50:46.391Z"
   },
   {
    "duration": 30,
    "start_time": "2022-07-12T10:50:46.439Z"
   },
   {
    "duration": 12,
    "start_time": "2022-07-12T10:50:46.471Z"
   },
   {
    "duration": 30,
    "start_time": "2022-07-12T10:50:46.484Z"
   },
   {
    "duration": 33,
    "start_time": "2022-07-12T10:50:46.516Z"
   },
   {
    "duration": 86,
    "start_time": "2022-07-12T10:50:46.551Z"
   },
   {
    "duration": 2,
    "start_time": "2022-07-12T10:50:46.639Z"
   },
   {
    "duration": 44,
    "start_time": "2022-07-12T10:50:46.643Z"
   },
   {
    "duration": 65,
    "start_time": "2022-07-12T10:50:46.689Z"
   },
   {
    "duration": 3,
    "start_time": "2022-07-12T10:50:46.756Z"
   },
   {
    "duration": 19,
    "start_time": "2022-07-12T10:50:46.760Z"
   },
   {
    "duration": 785,
    "start_time": "2022-07-12T10:50:46.781Z"
   },
   {
    "duration": 22,
    "start_time": "2022-07-12T10:50:47.568Z"
   },
   {
    "duration": 5,
    "start_time": "2022-07-12T10:50:47.592Z"
   },
   {
    "duration": 114,
    "start_time": "2022-07-12T10:50:47.598Z"
   },
   {
    "duration": 3,
    "start_time": "2022-07-12T10:51:15.872Z"
   },
   {
    "duration": 29,
    "start_time": "2022-07-12T10:51:24.332Z"
   },
   {
    "duration": 107,
    "start_time": "2022-07-12T10:51:26.251Z"
   },
   {
    "duration": 1916,
    "start_time": "2022-07-12T10:51:55.291Z"
   },
   {
    "duration": 12,
    "start_time": "2022-07-12T10:52:18.072Z"
   },
   {
    "duration": 3,
    "start_time": "2022-07-12T10:55:38.192Z"
   },
   {
    "duration": 813,
    "start_time": "2022-07-12T10:55:38.197Z"
   },
   {
    "duration": 140,
    "start_time": "2022-07-12T10:55:39.011Z"
   },
   {
    "duration": 36,
    "start_time": "2022-07-12T10:55:39.153Z"
   },
   {
    "duration": 11,
    "start_time": "2022-07-12T10:55:39.192Z"
   },
   {
    "duration": 80,
    "start_time": "2022-07-12T10:55:39.226Z"
   },
   {
    "duration": 93,
    "start_time": "2022-07-12T10:55:39.308Z"
   },
   {
    "duration": 127,
    "start_time": "2022-07-12T10:55:39.403Z"
   },
   {
    "duration": 192,
    "start_time": "2022-07-12T10:55:39.532Z"
   },
   {
    "duration": 32,
    "start_time": "2022-07-12T10:55:39.725Z"
   },
   {
    "duration": 199,
    "start_time": "2022-07-12T10:55:39.759Z"
   },
   {
    "duration": 16,
    "start_time": "2022-07-12T10:55:39.960Z"
   },
   {
    "duration": 49,
    "start_time": "2022-07-12T10:55:39.978Z"
   },
   {
    "duration": 208,
    "start_time": "2022-07-12T10:55:40.030Z"
   },
   {
    "duration": 27,
    "start_time": "2022-07-12T10:55:40.240Z"
   },
   {
    "duration": 184,
    "start_time": "2022-07-12T10:55:40.269Z"
   },
   {
    "duration": 176,
    "start_time": "2022-07-12T10:55:40.455Z"
   },
   {
    "duration": 98,
    "start_time": "2022-07-12T10:55:40.633Z"
   },
   {
    "duration": 178,
    "start_time": "2022-07-12T10:55:40.734Z"
   },
   {
    "duration": 33,
    "start_time": "2022-07-12T10:55:40.913Z"
   },
   {
    "duration": 41,
    "start_time": "2022-07-12T10:55:40.949Z"
   },
   {
    "duration": 12,
    "start_time": "2022-07-12T10:55:40.992Z"
   },
   {
    "duration": 166,
    "start_time": "2022-07-12T10:55:41.024Z"
   },
   {
    "duration": 159,
    "start_time": "2022-07-12T10:55:41.192Z"
   },
   {
    "duration": 32,
    "start_time": "2022-07-12T10:55:41.353Z"
   },
   {
    "duration": 49,
    "start_time": "2022-07-12T10:55:41.387Z"
   },
   {
    "duration": 34,
    "start_time": "2022-07-12T10:55:41.437Z"
   },
   {
    "duration": 9,
    "start_time": "2022-07-12T10:55:41.473Z"
   },
   {
    "duration": 17,
    "start_time": "2022-07-12T10:55:41.484Z"
   },
   {
    "duration": 52,
    "start_time": "2022-07-12T10:55:41.503Z"
   },
   {
    "duration": 90,
    "start_time": "2022-07-12T10:55:41.556Z"
   },
   {
    "duration": 3,
    "start_time": "2022-07-12T10:55:41.647Z"
   },
   {
    "duration": 40,
    "start_time": "2022-07-12T10:55:41.651Z"
   },
   {
    "duration": 75,
    "start_time": "2022-07-12T10:55:41.693Z"
   },
   {
    "duration": 3,
    "start_time": "2022-07-12T10:55:41.770Z"
   },
   {
    "duration": 21,
    "start_time": "2022-07-12T10:55:41.774Z"
   },
   {
    "duration": 826,
    "start_time": "2022-07-12T10:55:41.797Z"
   },
   {
    "duration": 35,
    "start_time": "2022-07-12T10:55:42.626Z"
   },
   {
    "duration": 5,
    "start_time": "2022-07-12T10:55:42.662Z"
   },
   {
    "duration": 32,
    "start_time": "2022-07-12T10:55:42.668Z"
   },
   {
    "duration": 1945,
    "start_time": "2022-07-12T10:55:42.703Z"
   },
   {
    "duration": 13,
    "start_time": "2022-07-12T10:55:44.999Z"
   },
   {
    "duration": 3,
    "start_time": "2022-07-12T10:57:05.584Z"
   },
   {
    "duration": 831,
    "start_time": "2022-07-12T10:57:05.589Z"
   },
   {
    "duration": 131,
    "start_time": "2022-07-12T10:57:06.422Z"
   },
   {
    "duration": 35,
    "start_time": "2022-07-12T10:57:06.555Z"
   },
   {
    "duration": 31,
    "start_time": "2022-07-12T10:57:06.593Z"
   },
   {
    "duration": 85,
    "start_time": "2022-07-12T10:57:06.626Z"
   },
   {
    "duration": 139,
    "start_time": "2022-07-12T10:57:06.725Z"
   },
   {
    "duration": 106,
    "start_time": "2022-07-12T10:57:06.865Z"
   },
   {
    "duration": 204,
    "start_time": "2022-07-12T10:57:06.973Z"
   },
   {
    "duration": 26,
    "start_time": "2022-07-12T10:57:07.180Z"
   },
   {
    "duration": 356,
    "start_time": "2022-07-12T10:57:07.223Z"
   },
   {
    "duration": 17,
    "start_time": "2022-07-12T10:57:07.581Z"
   },
   {
    "duration": 46,
    "start_time": "2022-07-12T10:57:07.601Z"
   },
   {
    "duration": 195,
    "start_time": "2022-07-12T10:57:07.648Z"
   },
   {
    "duration": 25,
    "start_time": "2022-07-12T10:57:07.845Z"
   },
   {
    "duration": 178,
    "start_time": "2022-07-12T10:57:07.872Z"
   },
   {
    "duration": 174,
    "start_time": "2022-07-12T10:57:08.052Z"
   },
   {
    "duration": 117,
    "start_time": "2022-07-12T10:57:08.227Z"
   },
   {
    "duration": 188,
    "start_time": "2022-07-12T10:57:08.346Z"
   },
   {
    "duration": 32,
    "start_time": "2022-07-12T10:57:08.536Z"
   },
   {
    "duration": 38,
    "start_time": "2022-07-12T10:57:08.569Z"
   },
   {
    "duration": 8,
    "start_time": "2022-07-12T10:57:08.625Z"
   },
   {
    "duration": 169,
    "start_time": "2022-07-12T10:57:08.635Z"
   },
   {
    "duration": 202,
    "start_time": "2022-07-12T10:57:08.806Z"
   },
   {
    "duration": 39,
    "start_time": "2022-07-12T10:57:09.010Z"
   },
   {
    "duration": 43,
    "start_time": "2022-07-12T10:57:09.051Z"
   },
   {
    "duration": 42,
    "start_time": "2022-07-12T10:57:09.096Z"
   },
   {
    "duration": 7,
    "start_time": "2022-07-12T10:57:09.139Z"
   },
   {
    "duration": 19,
    "start_time": "2022-07-12T10:57:09.148Z"
   },
   {
    "duration": 55,
    "start_time": "2022-07-12T10:57:09.168Z"
   },
   {
    "duration": 80,
    "start_time": "2022-07-12T10:57:09.226Z"
   },
   {
    "duration": 3,
    "start_time": "2022-07-12T10:57:09.307Z"
   },
   {
    "duration": 46,
    "start_time": "2022-07-12T10:57:09.324Z"
   },
   {
    "duration": 65,
    "start_time": "2022-07-12T10:57:09.372Z"
   },
   {
    "duration": 3,
    "start_time": "2022-07-12T10:57:09.439Z"
   },
   {
    "duration": 30,
    "start_time": "2022-07-12T10:57:09.444Z"
   },
   {
    "duration": 865,
    "start_time": "2022-07-12T10:57:09.478Z"
   },
   {
    "duration": 24,
    "start_time": "2022-07-12T10:57:10.344Z"
   },
   {
    "duration": 6,
    "start_time": "2022-07-12T10:57:10.370Z"
   },
   {
    "duration": 58,
    "start_time": "2022-07-12T10:57:10.378Z"
   },
   {
    "duration": 34,
    "start_time": "2022-07-12T10:57:14.671Z"
   },
   {
    "duration": 516,
    "start_time": "2022-07-12T10:57:16.411Z"
   },
   {
    "duration": 12,
    "start_time": "2022-07-12T10:57:19.780Z"
   },
   {
    "duration": 66,
    "start_time": "2022-07-12T10:57:32.590Z"
   },
   {
    "duration": 17,
    "start_time": "2022-07-12T10:58:08.612Z"
   },
   {
    "duration": 27,
    "start_time": "2022-07-12T10:58:29.371Z"
   },
   {
    "duration": 18,
    "start_time": "2022-07-12T10:58:43.322Z"
   },
   {
    "duration": 3,
    "start_time": "2022-07-12T11:07:13.467Z"
   },
   {
    "duration": 32656,
    "start_time": "2022-07-12T11:20:04.378Z"
   },
   {
    "duration": 10,
    "start_time": "2022-07-12T11:21:00.666Z"
   },
   {
    "duration": 3,
    "start_time": "2022-07-12T11:21:21.135Z"
   },
   {
    "duration": 3,
    "start_time": "2022-07-12T11:21:40.975Z"
   },
   {
    "duration": 6,
    "start_time": "2022-07-12T11:21:47.362Z"
   },
   {
    "duration": 4,
    "start_time": "2022-07-12T11:22:26.282Z"
   },
   {
    "duration": 4,
    "start_time": "2022-07-12T11:22:32.087Z"
   },
   {
    "duration": 4,
    "start_time": "2022-07-12T11:22:45.235Z"
   },
   {
    "duration": 4,
    "start_time": "2022-07-12T11:22:46.067Z"
   },
   {
    "duration": 4,
    "start_time": "2022-07-12T11:26:07.232Z"
   },
   {
    "duration": 803,
    "start_time": "2022-07-12T11:26:07.238Z"
   },
   {
    "duration": 122,
    "start_time": "2022-07-12T11:26:08.043Z"
   },
   {
    "duration": 41,
    "start_time": "2022-07-12T11:26:08.167Z"
   },
   {
    "duration": 25,
    "start_time": "2022-07-12T11:26:08.209Z"
   },
   {
    "duration": 114,
    "start_time": "2022-07-12T11:26:08.236Z"
   },
   {
    "duration": 94,
    "start_time": "2022-07-12T11:26:08.353Z"
   },
   {
    "duration": 107,
    "start_time": "2022-07-12T11:26:08.448Z"
   },
   {
    "duration": 197,
    "start_time": "2022-07-12T11:26:08.558Z"
   },
   {
    "duration": 25,
    "start_time": "2022-07-12T11:26:08.757Z"
   },
   {
    "duration": 220,
    "start_time": "2022-07-12T11:26:08.785Z"
   },
   {
    "duration": 24,
    "start_time": "2022-07-12T11:26:09.006Z"
   },
   {
    "duration": 34,
    "start_time": "2022-07-12T11:26:09.032Z"
   },
   {
    "duration": 204,
    "start_time": "2022-07-12T11:26:09.068Z"
   },
   {
    "duration": 26,
    "start_time": "2022-07-12T11:26:09.274Z"
   },
   {
    "duration": 273,
    "start_time": "2022-07-12T11:26:09.302Z"
   },
   {
    "duration": 173,
    "start_time": "2022-07-12T11:26:09.576Z"
   },
   {
    "duration": 102,
    "start_time": "2022-07-12T11:26:09.751Z"
   },
   {
    "duration": 192,
    "start_time": "2022-07-12T11:26:09.855Z"
   },
   {
    "duration": 32,
    "start_time": "2022-07-12T11:26:10.048Z"
   },
   {
    "duration": 44,
    "start_time": "2022-07-12T11:26:10.082Z"
   },
   {
    "duration": 12,
    "start_time": "2022-07-12T11:26:10.128Z"
   },
   {
    "duration": 155,
    "start_time": "2022-07-12T11:26:10.141Z"
   },
   {
    "duration": 173,
    "start_time": "2022-07-12T11:26:10.300Z"
   },
   {
    "duration": 33,
    "start_time": "2022-07-12T11:26:10.475Z"
   },
   {
    "duration": 32,
    "start_time": "2022-07-12T11:26:10.523Z"
   },
   {
    "duration": 36,
    "start_time": "2022-07-12T11:26:10.556Z"
   },
   {
    "duration": 10,
    "start_time": "2022-07-12T11:26:10.594Z"
   },
   {
    "duration": 29,
    "start_time": "2022-07-12T11:26:10.606Z"
   },
   {
    "duration": 35,
    "start_time": "2022-07-12T11:26:10.638Z"
   },
   {
    "duration": 91,
    "start_time": "2022-07-12T11:26:10.674Z"
   },
   {
    "duration": 3,
    "start_time": "2022-07-12T11:26:10.766Z"
   },
   {
    "duration": 55,
    "start_time": "2022-07-12T11:26:10.770Z"
   },
   {
    "duration": 51,
    "start_time": "2022-07-12T11:26:10.827Z"
   },
   {
    "duration": 3,
    "start_time": "2022-07-12T11:26:10.880Z"
   },
   {
    "duration": 24,
    "start_time": "2022-07-12T11:26:10.884Z"
   },
   {
    "duration": 803,
    "start_time": "2022-07-12T11:26:10.925Z"
   },
   {
    "duration": 25,
    "start_time": "2022-07-12T11:26:11.730Z"
   },
   {
    "duration": 5,
    "start_time": "2022-07-12T11:26:11.757Z"
   },
   {
    "duration": 32,
    "start_time": "2022-07-12T11:26:11.764Z"
   },
   {
    "duration": 447,
    "start_time": "2022-07-12T11:26:58.024Z"
   },
   {
    "duration": 35274,
    "start_time": "2022-07-12T11:27:01.475Z"
   },
   {
    "duration": 11,
    "start_time": "2022-07-12T11:27:36.825Z"
   },
   {
    "duration": 105,
    "start_time": "2022-07-12T11:27:36.840Z"
   },
   {
    "duration": 4,
    "start_time": "2022-07-12T11:29:12.837Z"
   },
   {
    "duration": 732,
    "start_time": "2022-07-12T11:29:12.842Z"
   },
   {
    "duration": 131,
    "start_time": "2022-07-12T11:29:13.576Z"
   },
   {
    "duration": 50,
    "start_time": "2022-07-12T11:29:13.709Z"
   },
   {
    "duration": 11,
    "start_time": "2022-07-12T11:29:13.761Z"
   },
   {
    "duration": 111,
    "start_time": "2022-07-12T11:29:13.774Z"
   },
   {
    "duration": 88,
    "start_time": "2022-07-12T11:29:13.886Z"
   },
   {
    "duration": 117,
    "start_time": "2022-07-12T11:29:13.975Z"
   },
   {
    "duration": 213,
    "start_time": "2022-07-12T11:29:14.094Z"
   },
   {
    "duration": 34,
    "start_time": "2022-07-12T11:29:14.308Z"
   },
   {
    "duration": 201,
    "start_time": "2022-07-12T11:29:14.345Z"
   },
   {
    "duration": 20,
    "start_time": "2022-07-12T11:29:14.548Z"
   },
   {
    "duration": 56,
    "start_time": "2022-07-12T11:29:14.571Z"
   },
   {
    "duration": 190,
    "start_time": "2022-07-12T11:29:14.632Z"
   },
   {
    "duration": 27,
    "start_time": "2022-07-12T11:29:14.824Z"
   },
   {
    "duration": 208,
    "start_time": "2022-07-12T11:29:14.853Z"
   },
   {
    "duration": 199,
    "start_time": "2022-07-12T11:29:15.063Z"
   },
   {
    "duration": 101,
    "start_time": "2022-07-12T11:29:15.264Z"
   },
   {
    "duration": 180,
    "start_time": "2022-07-12T11:29:15.367Z"
   },
   {
    "duration": 30,
    "start_time": "2022-07-12T11:29:15.549Z"
   },
   {
    "duration": 47,
    "start_time": "2022-07-12T11:29:15.580Z"
   },
   {
    "duration": 10,
    "start_time": "2022-07-12T11:29:15.628Z"
   },
   {
    "duration": 239,
    "start_time": "2022-07-12T11:29:15.640Z"
   },
   {
    "duration": 168,
    "start_time": "2022-07-12T11:29:15.881Z"
   },
   {
    "duration": 31,
    "start_time": "2022-07-12T11:29:16.050Z"
   },
   {
    "duration": 51,
    "start_time": "2022-07-12T11:29:16.083Z"
   },
   {
    "duration": 31,
    "start_time": "2022-07-12T11:29:16.136Z"
   },
   {
    "duration": 25,
    "start_time": "2022-07-12T11:29:16.168Z"
   },
   {
    "duration": 22,
    "start_time": "2022-07-12T11:29:16.196Z"
   },
   {
    "duration": 54,
    "start_time": "2022-07-12T11:29:16.220Z"
   },
   {
    "duration": 93,
    "start_time": "2022-07-12T11:29:16.276Z"
   },
   {
    "duration": 2,
    "start_time": "2022-07-12T11:29:16.371Z"
   },
   {
    "duration": 52,
    "start_time": "2022-07-12T11:29:16.375Z"
   },
   {
    "duration": 50,
    "start_time": "2022-07-12T11:29:16.431Z"
   },
   {
    "duration": 3,
    "start_time": "2022-07-12T11:29:16.483Z"
   },
   {
    "duration": 35,
    "start_time": "2022-07-12T11:29:16.487Z"
   },
   {
    "duration": 666,
    "start_time": "2022-07-12T11:29:16.523Z"
   },
   {
    "duration": 21,
    "start_time": "2022-07-12T11:29:17.191Z"
   },
   {
    "duration": 14,
    "start_time": "2022-07-12T11:29:17.214Z"
   },
   {
    "duration": 40,
    "start_time": "2022-07-12T11:29:17.230Z"
   },
   {
    "duration": 502,
    "start_time": "2022-07-12T11:29:17.556Z"
   },
   {
    "duration": 39558,
    "start_time": "2022-07-12T11:29:28.877Z"
   },
   {
    "duration": 94,
    "start_time": "2022-07-12T11:30:08.437Z"
   },
   {
    "duration": 96,
    "start_time": "2022-07-12T11:30:08.535Z"
   },
   {
    "duration": 1344,
    "start_time": "2022-07-12T11:31:29.957Z"
   },
   {
    "duration": 898,
    "start_time": "2022-07-12T11:31:31.302Z"
   },
   {
    "duration": 179,
    "start_time": "2022-07-12T11:31:32.202Z"
   },
   {
    "duration": 58,
    "start_time": "2022-07-12T11:31:32.383Z"
   },
   {
    "duration": 25,
    "start_time": "2022-07-12T11:31:32.443Z"
   },
   {
    "duration": 94,
    "start_time": "2022-07-12T11:31:32.470Z"
   },
   {
    "duration": 91,
    "start_time": "2022-07-12T11:31:32.565Z"
   },
   {
    "duration": 133,
    "start_time": "2022-07-12T11:31:32.658Z"
   },
   {
    "duration": 192,
    "start_time": "2022-07-12T11:31:32.793Z"
   },
   {
    "duration": 44,
    "start_time": "2022-07-12T11:31:32.987Z"
   },
   {
    "duration": 179,
    "start_time": "2022-07-12T11:31:33.033Z"
   },
   {
    "duration": 36,
    "start_time": "2022-07-12T11:31:33.213Z"
   },
   {
    "duration": 32,
    "start_time": "2022-07-12T11:31:33.251Z"
   },
   {
    "duration": 193,
    "start_time": "2022-07-12T11:31:33.286Z"
   },
   {
    "duration": 27,
    "start_time": "2022-07-12T11:31:33.481Z"
   },
   {
    "duration": 177,
    "start_time": "2022-07-12T11:31:33.509Z"
   },
   {
    "duration": 182,
    "start_time": "2022-07-12T11:31:33.688Z"
   },
   {
    "duration": 105,
    "start_time": "2022-07-12T11:31:33.871Z"
   },
   {
    "duration": 167,
    "start_time": "2022-07-12T11:31:33.977Z"
   },
   {
    "duration": 30,
    "start_time": "2022-07-12T11:31:34.146Z"
   },
   {
    "duration": 51,
    "start_time": "2022-07-12T11:31:34.177Z"
   },
   {
    "duration": 9,
    "start_time": "2022-07-12T11:31:34.230Z"
   },
   {
    "duration": 235,
    "start_time": "2022-07-12T11:31:34.240Z"
   },
   {
    "duration": 199,
    "start_time": "2022-07-12T11:31:34.477Z"
   },
   {
    "duration": 31,
    "start_time": "2022-07-12T11:31:34.678Z"
   },
   {
    "duration": 51,
    "start_time": "2022-07-12T11:31:34.731Z"
   },
   {
    "duration": 37,
    "start_time": "2022-07-12T11:31:34.783Z"
   },
   {
    "duration": 32,
    "start_time": "2022-07-12T11:31:34.822Z"
   },
   {
    "duration": 19,
    "start_time": "2022-07-12T11:31:34.856Z"
   },
   {
    "duration": 37,
    "start_time": "2022-07-12T11:31:34.877Z"
   },
   {
    "duration": 97,
    "start_time": "2022-07-12T11:31:34.917Z"
   },
   {
    "duration": 23,
    "start_time": "2022-07-12T11:31:35.016Z"
   },
   {
    "duration": 46,
    "start_time": "2022-07-12T11:31:35.041Z"
   },
   {
    "duration": 79,
    "start_time": "2022-07-12T11:31:35.090Z"
   },
   {
    "duration": 2,
    "start_time": "2022-07-12T11:31:35.171Z"
   },
   {
    "duration": 19,
    "start_time": "2022-07-12T11:31:35.175Z"
   },
   {
    "duration": 835,
    "start_time": "2022-07-12T11:31:35.196Z"
   },
   {
    "duration": 25,
    "start_time": "2022-07-12T11:31:36.033Z"
   },
   {
    "duration": 5,
    "start_time": "2022-07-12T11:31:36.060Z"
   },
   {
    "duration": 28,
    "start_time": "2022-07-12T11:31:36.067Z"
   },
   {
    "duration": 482,
    "start_time": "2022-07-12T11:31:36.099Z"
   },
   {
    "duration": 7,
    "start_time": "2022-07-12T11:32:01.968Z"
   },
   {
    "duration": 40467,
    "start_time": "2022-07-12T11:32:16.877Z"
   },
   {
    "duration": 7,
    "start_time": "2022-07-12T11:32:57.434Z"
   },
   {
    "duration": 103,
    "start_time": "2022-07-12T11:32:57.444Z"
   },
   {
    "duration": 15,
    "start_time": "2022-07-12T11:34:33.396Z"
   },
   {
    "duration": 850,
    "start_time": "2022-07-12T11:35:04.809Z"
   },
   {
    "duration": 109,
    "start_time": "2022-07-12T11:39:14.665Z"
   },
   {
    "duration": 6,
    "start_time": "2022-07-12T11:39:34.749Z"
   },
   {
    "duration": 9,
    "start_time": "2022-07-12T11:39:40.972Z"
   },
   {
    "duration": 5,
    "start_time": "2022-07-12T11:40:17.689Z"
   },
   {
    "duration": 27735,
    "start_time": "2022-07-12T11:40:41.897Z"
   },
   {
    "duration": 5,
    "start_time": "2022-07-12T11:41:22.377Z"
   },
   {
    "duration": 4,
    "start_time": "2022-07-12T11:41:23.718Z"
   },
   {
    "duration": 4,
    "start_time": "2022-07-12T11:47:37.125Z"
   },
   {
    "duration": 839,
    "start_time": "2022-07-12T11:47:37.130Z"
   },
   {
    "duration": 128,
    "start_time": "2022-07-12T11:47:37.971Z"
   },
   {
    "duration": 46,
    "start_time": "2022-07-12T11:47:38.101Z"
   },
   {
    "duration": 13,
    "start_time": "2022-07-12T11:47:38.150Z"
   },
   {
    "duration": 94,
    "start_time": "2022-07-12T11:47:38.165Z"
   },
   {
    "duration": 97,
    "start_time": "2022-07-12T11:47:38.262Z"
   },
   {
    "duration": 128,
    "start_time": "2022-07-12T11:47:38.360Z"
   },
   {
    "duration": 198,
    "start_time": "2022-07-12T11:47:38.490Z"
   },
   {
    "duration": 23,
    "start_time": "2022-07-12T11:47:38.689Z"
   },
   {
    "duration": 217,
    "start_time": "2022-07-12T11:47:38.714Z"
   },
   {
    "duration": 19,
    "start_time": "2022-07-12T11:47:38.933Z"
   },
   {
    "duration": 43,
    "start_time": "2022-07-12T11:47:38.956Z"
   },
   {
    "duration": 178,
    "start_time": "2022-07-12T11:47:39.025Z"
   },
   {
    "duration": 37,
    "start_time": "2022-07-12T11:47:39.205Z"
   },
   {
    "duration": 176,
    "start_time": "2022-07-12T11:47:39.244Z"
   },
   {
    "duration": 179,
    "start_time": "2022-07-12T11:47:39.421Z"
   },
   {
    "duration": 106,
    "start_time": "2022-07-12T11:47:39.601Z"
   },
   {
    "duration": 180,
    "start_time": "2022-07-12T11:47:39.708Z"
   },
   {
    "duration": 39,
    "start_time": "2022-07-12T11:47:39.890Z"
   },
   {
    "duration": 35,
    "start_time": "2022-07-12T11:47:39.930Z"
   },
   {
    "duration": 9,
    "start_time": "2022-07-12T11:47:39.967Z"
   },
   {
    "duration": 174,
    "start_time": "2022-07-12T11:47:39.978Z"
   },
   {
    "duration": 176,
    "start_time": "2022-07-12T11:47:40.154Z"
   },
   {
    "duration": 32,
    "start_time": "2022-07-12T11:47:40.331Z"
   },
   {
    "duration": 34,
    "start_time": "2022-07-12T11:47:40.365Z"
   },
   {
    "duration": 47,
    "start_time": "2022-07-12T11:47:40.401Z"
   },
   {
    "duration": 8,
    "start_time": "2022-07-12T11:47:40.450Z"
   },
   {
    "duration": 19,
    "start_time": "2022-07-12T11:47:40.459Z"
   },
   {
    "duration": 69,
    "start_time": "2022-07-12T11:47:40.480Z"
   },
   {
    "duration": 84,
    "start_time": "2022-07-12T11:47:40.550Z"
   },
   {
    "duration": 3,
    "start_time": "2022-07-12T11:47:40.635Z"
   },
   {
    "duration": 43,
    "start_time": "2022-07-12T11:47:40.639Z"
   },
   {
    "duration": 72,
    "start_time": "2022-07-12T11:47:40.684Z"
   },
   {
    "duration": 3,
    "start_time": "2022-07-12T11:47:40.758Z"
   },
   {
    "duration": 8,
    "start_time": "2022-07-12T11:47:40.763Z"
   },
   {
    "duration": 5,
    "start_time": "2022-07-12T11:47:40.774Z"
   },
   {
    "duration": 816,
    "start_time": "2022-07-12T11:47:40.781Z"
   },
   {
    "duration": 399,
    "start_time": "2022-07-12T11:47:41.599Z"
   },
   {
    "duration": 5,
    "start_time": "2022-07-12T11:47:41.999Z"
   },
   {
    "duration": 18,
    "start_time": "2022-07-12T11:47:42.006Z"
   },
   {
    "duration": 6,
    "start_time": "2022-07-12T11:47:42.026Z"
   },
   {
    "duration": 5,
    "start_time": "2022-07-12T11:47:42.034Z"
   },
   {
    "duration": 19,
    "start_time": "2022-07-12T11:47:42.041Z"
   },
   {
    "duration": 30562,
    "start_time": "2022-07-12T11:47:42.062Z"
   },
   {
    "duration": 5,
    "start_time": "2022-07-12T11:48:12.626Z"
   },
   {
    "duration": 101,
    "start_time": "2022-07-12T11:48:12.633Z"
   },
   {
    "duration": 18,
    "start_time": "2022-07-12T11:49:56.460Z"
   },
   {
    "duration": 1404,
    "start_time": "2022-07-12T11:51:07.899Z"
   },
   {
    "duration": 822,
    "start_time": "2022-07-12T11:51:09.304Z"
   },
   {
    "duration": 149,
    "start_time": "2022-07-12T11:51:10.128Z"
   },
   {
    "duration": 61,
    "start_time": "2022-07-12T11:51:10.279Z"
   },
   {
    "duration": 27,
    "start_time": "2022-07-12T11:51:10.343Z"
   },
   {
    "duration": 87,
    "start_time": "2022-07-12T11:51:10.372Z"
   },
   {
    "duration": 89,
    "start_time": "2022-07-12T11:51:10.461Z"
   },
   {
    "duration": 128,
    "start_time": "2022-07-12T11:51:10.551Z"
   },
   {
    "duration": 193,
    "start_time": "2022-07-12T11:51:10.681Z"
   },
   {
    "duration": 29,
    "start_time": "2022-07-12T11:51:10.876Z"
   },
   {
    "duration": 193,
    "start_time": "2022-07-12T11:51:10.907Z"
   },
   {
    "duration": 25,
    "start_time": "2022-07-12T11:51:11.102Z"
   },
   {
    "duration": 32,
    "start_time": "2022-07-12T11:51:11.129Z"
   },
   {
    "duration": 212,
    "start_time": "2022-07-12T11:51:11.164Z"
   },
   {
    "duration": 28,
    "start_time": "2022-07-12T11:51:11.377Z"
   },
   {
    "duration": 181,
    "start_time": "2022-07-12T11:51:11.407Z"
   },
   {
    "duration": 179,
    "start_time": "2022-07-12T11:51:11.590Z"
   },
   {
    "duration": 99,
    "start_time": "2022-07-12T11:51:11.771Z"
   },
   {
    "duration": 173,
    "start_time": "2022-07-12T11:51:11.872Z"
   },
   {
    "duration": 33,
    "start_time": "2022-07-12T11:51:12.046Z"
   },
   {
    "duration": 74,
    "start_time": "2022-07-12T11:51:12.081Z"
   },
   {
    "duration": 11,
    "start_time": "2022-07-12T11:51:12.157Z"
   },
   {
    "duration": 264,
    "start_time": "2022-07-12T11:51:12.170Z"
   },
   {
    "duration": 171,
    "start_time": "2022-07-12T11:51:12.436Z"
   },
   {
    "duration": 60,
    "start_time": "2022-07-12T11:51:12.609Z"
   },
   {
    "duration": 35,
    "start_time": "2022-07-12T11:51:12.671Z"
   },
   {
    "duration": 42,
    "start_time": "2022-07-12T11:51:12.708Z"
   },
   {
    "duration": 10,
    "start_time": "2022-07-12T11:51:12.752Z"
   },
   {
    "duration": 25,
    "start_time": "2022-07-12T11:51:12.765Z"
   },
   {
    "duration": 66,
    "start_time": "2022-07-12T11:51:12.792Z"
   },
   {
    "duration": 81,
    "start_time": "2022-07-12T11:51:12.860Z"
   },
   {
    "duration": 2,
    "start_time": "2022-07-12T11:51:12.943Z"
   },
   {
    "duration": 56,
    "start_time": "2022-07-12T11:51:12.947Z"
   },
   {
    "duration": 53,
    "start_time": "2022-07-12T11:51:13.024Z"
   },
   {
    "duration": 3,
    "start_time": "2022-07-12T11:51:13.079Z"
   },
   {
    "duration": 13,
    "start_time": "2022-07-12T11:51:13.083Z"
   },
   {
    "duration": 9,
    "start_time": "2022-07-12T11:51:13.098Z"
   },
   {
    "duration": 830,
    "start_time": "2022-07-12T11:51:13.108Z"
   },
   {
    "duration": 410,
    "start_time": "2022-07-12T11:51:13.940Z"
   },
   {
    "duration": 6,
    "start_time": "2022-07-12T11:51:14.352Z"
   },
   {
    "duration": 8,
    "start_time": "2022-07-12T11:51:14.364Z"
   },
   {
    "duration": 13,
    "start_time": "2022-07-12T11:51:14.374Z"
   },
   {
    "duration": 10,
    "start_time": "2022-07-12T11:51:14.388Z"
   },
   {
    "duration": 30,
    "start_time": "2022-07-12T11:51:14.400Z"
   },
   {
    "duration": 26,
    "start_time": "2022-07-12T11:51:14.433Z"
   },
   {
    "duration": 34976,
    "start_time": "2022-07-12T11:51:14.461Z"
   },
   {
    "duration": 4,
    "start_time": "2022-07-12T11:51:49.526Z"
   },
   {
    "duration": 94,
    "start_time": "2022-07-12T11:51:49.532Z"
   },
   {
    "duration": 5,
    "start_time": "2022-07-12T11:52:29.259Z"
   },
   {
    "duration": 800,
    "start_time": "2022-07-12T11:52:29.267Z"
   },
   {
    "duration": 132,
    "start_time": "2022-07-12T11:52:30.069Z"
   },
   {
    "duration": 51,
    "start_time": "2022-07-12T11:52:30.203Z"
   },
   {
    "duration": 18,
    "start_time": "2022-07-12T11:52:30.257Z"
   },
   {
    "duration": 103,
    "start_time": "2022-07-12T11:52:30.277Z"
   },
   {
    "duration": 97,
    "start_time": "2022-07-12T11:52:30.382Z"
   },
   {
    "duration": 125,
    "start_time": "2022-07-12T11:52:30.481Z"
   },
   {
    "duration": 215,
    "start_time": "2022-07-12T11:52:30.609Z"
   },
   {
    "duration": 25,
    "start_time": "2022-07-12T11:52:30.825Z"
   },
   {
    "duration": 203,
    "start_time": "2022-07-12T11:52:30.852Z"
   },
   {
    "duration": 18,
    "start_time": "2022-07-12T11:52:31.056Z"
   },
   {
    "duration": 75,
    "start_time": "2022-07-12T11:52:31.077Z"
   },
   {
    "duration": 241,
    "start_time": "2022-07-12T11:52:31.154Z"
   },
   {
    "duration": 35,
    "start_time": "2022-07-12T11:52:31.396Z"
   },
   {
    "duration": 182,
    "start_time": "2022-07-12T11:52:31.433Z"
   },
   {
    "duration": 209,
    "start_time": "2022-07-12T11:52:31.617Z"
   },
   {
    "duration": 137,
    "start_time": "2022-07-12T11:52:31.828Z"
   },
   {
    "duration": 176,
    "start_time": "2022-07-12T11:52:31.967Z"
   },
   {
    "duration": 31,
    "start_time": "2022-07-12T11:52:32.145Z"
   },
   {
    "duration": 50,
    "start_time": "2022-07-12T11:52:32.177Z"
   },
   {
    "duration": 18,
    "start_time": "2022-07-12T11:52:32.229Z"
   },
   {
    "duration": 175,
    "start_time": "2022-07-12T11:52:32.249Z"
   },
   {
    "duration": 178,
    "start_time": "2022-07-12T11:52:32.428Z"
   },
   {
    "duration": 67,
    "start_time": "2022-07-12T11:52:32.608Z"
   },
   {
    "duration": 52,
    "start_time": "2022-07-12T11:52:32.678Z"
   },
   {
    "duration": 36,
    "start_time": "2022-07-12T11:52:32.732Z"
   },
   {
    "duration": 15,
    "start_time": "2022-07-12T11:52:32.770Z"
   },
   {
    "duration": 36,
    "start_time": "2022-07-12T11:52:32.788Z"
   },
   {
    "duration": 43,
    "start_time": "2022-07-12T11:52:32.826Z"
   },
   {
    "duration": 86,
    "start_time": "2022-07-12T11:52:32.871Z"
   },
   {
    "duration": 3,
    "start_time": "2022-07-12T11:52:32.959Z"
   },
   {
    "duration": 156,
    "start_time": "2022-07-12T11:52:32.964Z"
   },
   {
    "duration": 54,
    "start_time": "2022-07-12T11:52:33.123Z"
   },
   {
    "duration": 3,
    "start_time": "2022-07-12T11:52:33.179Z"
   },
   {
    "duration": 51,
    "start_time": "2022-07-12T11:52:33.184Z"
   },
   {
    "duration": 6,
    "start_time": "2022-07-12T11:52:33.239Z"
   },
   {
    "duration": 901,
    "start_time": "2022-07-12T11:52:33.247Z"
   },
   {
    "duration": 421,
    "start_time": "2022-07-12T11:52:34.150Z"
   },
   {
    "duration": 6,
    "start_time": "2022-07-12T11:52:34.573Z"
   },
   {
    "duration": 70,
    "start_time": "2022-07-12T11:52:34.581Z"
   },
   {
    "duration": 43,
    "start_time": "2022-07-12T11:52:34.654Z"
   },
   {
    "duration": 37,
    "start_time": "2022-07-12T11:52:34.700Z"
   },
   {
    "duration": 56985,
    "start_time": "2022-07-12T11:52:34.740Z"
   },
   {
    "duration": 91,
    "start_time": "2022-07-12T11:53:31.733Z"
   },
   {
    "duration": 8,
    "start_time": "2022-07-12T11:53:31.827Z"
   },
   {
    "duration": 3,
    "start_time": "2022-07-12T11:58:41.699Z"
   },
   {
    "duration": 114,
    "start_time": "2022-07-12T11:58:48.829Z"
   },
   {
    "duration": 52,
    "start_time": "2022-07-12T11:59:23.200Z"
   },
   {
    "duration": 1472,
    "start_time": "2022-07-12T11:59:30.456Z"
   },
   {
    "duration": 1385,
    "start_time": "2022-07-12T11:59:31.936Z"
   },
   {
    "duration": 170,
    "start_time": "2022-07-12T11:59:33.322Z"
   },
   {
    "duration": 56,
    "start_time": "2022-07-12T11:59:33.493Z"
   },
   {
    "duration": 21,
    "start_time": "2022-07-12T11:59:33.553Z"
   },
   {
    "duration": 120,
    "start_time": "2022-07-12T11:59:33.576Z"
   },
   {
    "duration": 110,
    "start_time": "2022-07-12T11:59:33.698Z"
   },
   {
    "duration": 165,
    "start_time": "2022-07-12T11:59:33.809Z"
   },
   {
    "duration": 222,
    "start_time": "2022-07-12T11:59:33.976Z"
   },
   {
    "duration": 50,
    "start_time": "2022-07-12T11:59:34.200Z"
   },
   {
    "duration": 223,
    "start_time": "2022-07-12T11:59:34.253Z"
   },
   {
    "duration": 17,
    "start_time": "2022-07-12T11:59:34.477Z"
   },
   {
    "duration": 71,
    "start_time": "2022-07-12T11:59:34.496Z"
   },
   {
    "duration": 240,
    "start_time": "2022-07-12T11:59:34.570Z"
   },
   {
    "duration": 43,
    "start_time": "2022-07-12T11:59:34.811Z"
   },
   {
    "duration": 213,
    "start_time": "2022-07-12T11:59:34.857Z"
   },
   {
    "duration": 210,
    "start_time": "2022-07-12T11:59:35.071Z"
   },
   {
    "duration": 116,
    "start_time": "2022-07-12T11:59:35.283Z"
   },
   {
    "duration": 203,
    "start_time": "2022-07-12T11:59:35.401Z"
   },
   {
    "duration": 51,
    "start_time": "2022-07-12T11:59:35.606Z"
   },
   {
    "duration": 39,
    "start_time": "2022-07-12T11:59:35.659Z"
   },
   {
    "duration": 10,
    "start_time": "2022-07-12T11:59:35.699Z"
   },
   {
    "duration": 254,
    "start_time": "2022-07-12T11:59:35.711Z"
   },
   {
    "duration": 186,
    "start_time": "2022-07-12T11:59:35.967Z"
   },
   {
    "duration": 33,
    "start_time": "2022-07-12T11:59:36.155Z"
   },
   {
    "duration": 64,
    "start_time": "2022-07-12T11:59:36.190Z"
   },
   {
    "duration": 39,
    "start_time": "2022-07-12T11:59:36.257Z"
   },
   {
    "duration": 11,
    "start_time": "2022-07-12T11:59:36.298Z"
   },
   {
    "duration": 23,
    "start_time": "2022-07-12T11:59:36.311Z"
   },
   {
    "duration": 49,
    "start_time": "2022-07-12T11:59:36.336Z"
   },
   {
    "duration": 99,
    "start_time": "2022-07-12T11:59:36.387Z"
   },
   {
    "duration": 2,
    "start_time": "2022-07-12T11:59:36.488Z"
   },
   {
    "duration": 70,
    "start_time": "2022-07-12T11:59:36.491Z"
   },
   {
    "duration": 50,
    "start_time": "2022-07-12T11:59:36.563Z"
   },
   {
    "duration": 20,
    "start_time": "2022-07-12T11:59:36.615Z"
   },
   {
    "duration": 32,
    "start_time": "2022-07-12T11:59:36.641Z"
   },
   {
    "duration": 3,
    "start_time": "2022-07-12T11:59:36.674Z"
   },
   {
    "duration": 897,
    "start_time": "2022-07-12T11:59:36.678Z"
   },
   {
    "duration": 469,
    "start_time": "2022-07-12T11:59:37.579Z"
   },
   {
    "duration": 6,
    "start_time": "2022-07-12T11:59:38.054Z"
   },
   {
    "duration": 4,
    "start_time": "2022-07-12T11:59:38.064Z"
   },
   {
    "duration": 8,
    "start_time": "2022-07-12T11:59:38.069Z"
   },
   {
    "duration": 7,
    "start_time": "2022-07-12T11:59:38.078Z"
   },
   {
    "duration": 105441,
    "start_time": "2022-07-12T11:59:38.086Z"
   },
   {
    "duration": 5,
    "start_time": "2022-07-12T12:01:23.536Z"
   },
   {
    "duration": 87,
    "start_time": "2022-07-12T12:01:23.545Z"
   },
   {
    "duration": 1369,
    "start_time": "2022-07-12T12:02:22.049Z"
   },
   {
    "duration": 1333,
    "start_time": "2022-07-12T12:02:23.420Z"
   },
   {
    "duration": 150,
    "start_time": "2022-07-12T12:02:24.754Z"
   },
   {
    "duration": 64,
    "start_time": "2022-07-12T12:02:24.905Z"
   },
   {
    "duration": 18,
    "start_time": "2022-07-12T12:02:24.970Z"
   },
   {
    "duration": 109,
    "start_time": "2022-07-12T12:02:24.991Z"
   },
   {
    "duration": 97,
    "start_time": "2022-07-12T12:02:25.102Z"
   },
   {
    "duration": 154,
    "start_time": "2022-07-12T12:02:25.201Z"
   },
   {
    "duration": 221,
    "start_time": "2022-07-12T12:02:25.357Z"
   },
   {
    "duration": 29,
    "start_time": "2022-07-12T12:02:25.580Z"
   },
   {
    "duration": 214,
    "start_time": "2022-07-12T12:02:25.610Z"
   },
   {
    "duration": 28,
    "start_time": "2022-07-12T12:02:25.834Z"
   },
   {
    "duration": 32,
    "start_time": "2022-07-12T12:02:25.864Z"
   },
   {
    "duration": 213,
    "start_time": "2022-07-12T12:02:25.897Z"
   },
   {
    "duration": 43,
    "start_time": "2022-07-12T12:02:26.112Z"
   },
   {
    "duration": 204,
    "start_time": "2022-07-12T12:02:26.157Z"
   },
   {
    "duration": 206,
    "start_time": "2022-07-12T12:02:26.363Z"
   },
   {
    "duration": 131,
    "start_time": "2022-07-12T12:02:26.572Z"
   },
   {
    "duration": 204,
    "start_time": "2022-07-12T12:02:26.705Z"
   },
   {
    "duration": 47,
    "start_time": "2022-07-12T12:02:26.911Z"
   },
   {
    "duration": 39,
    "start_time": "2022-07-12T12:02:26.960Z"
   },
   {
    "duration": 24,
    "start_time": "2022-07-12T12:02:27.001Z"
   },
   {
    "duration": 263,
    "start_time": "2022-07-12T12:02:27.027Z"
   },
   {
    "duration": 212,
    "start_time": "2022-07-12T12:02:27.292Z"
   },
   {
    "duration": 54,
    "start_time": "2022-07-12T12:02:27.506Z"
   },
   {
    "duration": 39,
    "start_time": "2022-07-12T12:02:27.563Z"
   },
   {
    "duration": 64,
    "start_time": "2022-07-12T12:02:27.604Z"
   },
   {
    "duration": 24,
    "start_time": "2022-07-12T12:02:27.670Z"
   },
   {
    "duration": 24,
    "start_time": "2022-07-12T12:02:27.696Z"
   },
   {
    "duration": 52,
    "start_time": "2022-07-12T12:02:27.722Z"
   },
   {
    "duration": 90,
    "start_time": "2022-07-12T12:02:27.776Z"
   },
   {
    "duration": 11,
    "start_time": "2022-07-12T12:02:27.870Z"
   },
   {
    "duration": 49,
    "start_time": "2022-07-12T12:02:27.883Z"
   },
   {
    "duration": 62,
    "start_time": "2022-07-12T12:02:27.933Z"
   },
   {
    "duration": 3,
    "start_time": "2022-07-12T12:02:27.996Z"
   },
   {
    "duration": 37,
    "start_time": "2022-07-12T12:02:28.001Z"
   },
   {
    "duration": 7,
    "start_time": "2022-07-12T12:02:28.042Z"
   },
   {
    "duration": 904,
    "start_time": "2022-07-12T12:02:28.052Z"
   },
   {
    "duration": 428,
    "start_time": "2022-07-12T12:02:28.957Z"
   },
   {
    "duration": 5,
    "start_time": "2022-07-12T12:02:29.387Z"
   },
   {
    "duration": 19,
    "start_time": "2022-07-12T12:02:29.393Z"
   },
   {
    "duration": 6,
    "start_time": "2022-07-12T12:02:29.414Z"
   },
   {
    "duration": 26,
    "start_time": "2022-07-12T12:02:29.422Z"
   },
   {
    "duration": 1387,
    "start_time": "2022-07-12T12:05:18.360Z"
   },
   {
    "duration": 1410,
    "start_time": "2022-07-12T12:05:19.749Z"
   },
   {
    "duration": 175,
    "start_time": "2022-07-12T12:05:21.161Z"
   },
   {
    "duration": 71,
    "start_time": "2022-07-12T12:05:21.337Z"
   },
   {
    "duration": 37,
    "start_time": "2022-07-12T12:05:21.411Z"
   },
   {
    "duration": 143,
    "start_time": "2022-07-12T12:05:21.456Z"
   },
   {
    "duration": 109,
    "start_time": "2022-07-12T12:05:21.601Z"
   },
   {
    "duration": 149,
    "start_time": "2022-07-12T12:05:21.712Z"
   },
   {
    "duration": 227,
    "start_time": "2022-07-12T12:05:21.863Z"
   },
   {
    "duration": 41,
    "start_time": "2022-07-12T12:05:22.092Z"
   },
   {
    "duration": 237,
    "start_time": "2022-07-12T12:05:22.136Z"
   },
   {
    "duration": 18,
    "start_time": "2022-07-12T12:05:22.375Z"
   },
   {
    "duration": 56,
    "start_time": "2022-07-12T12:05:22.394Z"
   },
   {
    "duration": 229,
    "start_time": "2022-07-12T12:05:22.456Z"
   },
   {
    "duration": 39,
    "start_time": "2022-07-12T12:05:22.686Z"
   },
   {
    "duration": 219,
    "start_time": "2022-07-12T12:05:22.729Z"
   },
   {
    "duration": 200,
    "start_time": "2022-07-12T12:05:22.958Z"
   },
   {
    "duration": 148,
    "start_time": "2022-07-12T12:05:23.160Z"
   },
   {
    "duration": 272,
    "start_time": "2022-07-12T12:05:23.309Z"
   },
   {
    "duration": 79,
    "start_time": "2022-07-12T12:05:23.583Z"
   },
   {
    "duration": 42,
    "start_time": "2022-07-12T12:05:23.666Z"
   },
   {
    "duration": 23,
    "start_time": "2022-07-12T12:05:23.710Z"
   },
   {
    "duration": 295,
    "start_time": "2022-07-12T12:05:23.739Z"
   },
   {
    "duration": 189,
    "start_time": "2022-07-12T12:05:24.035Z"
   },
   {
    "duration": 50,
    "start_time": "2022-07-12T12:05:24.238Z"
   },
   {
    "duration": 64,
    "start_time": "2022-07-12T12:05:24.290Z"
   },
   {
    "duration": 73,
    "start_time": "2022-07-12T12:05:24.359Z"
   },
   {
    "duration": 36,
    "start_time": "2022-07-12T12:05:24.434Z"
   },
   {
    "duration": 23,
    "start_time": "2022-07-12T12:05:24.471Z"
   },
   {
    "duration": 55,
    "start_time": "2022-07-12T12:05:24.496Z"
   },
   {
    "duration": 135,
    "start_time": "2022-07-12T12:05:24.554Z"
   },
   {
    "duration": 4,
    "start_time": "2022-07-12T12:05:24.690Z"
   },
   {
    "duration": 67,
    "start_time": "2022-07-12T12:05:24.696Z"
   },
   {
    "duration": 74,
    "start_time": "2022-07-12T12:05:24.765Z"
   },
   {
    "duration": 3,
    "start_time": "2022-07-12T12:05:24.844Z"
   },
   {
    "duration": 26,
    "start_time": "2022-07-12T12:05:24.853Z"
   },
   {
    "duration": 12,
    "start_time": "2022-07-12T12:05:24.881Z"
   },
   {
    "duration": 862,
    "start_time": "2022-07-12T12:05:24.895Z"
   },
   {
    "duration": 459,
    "start_time": "2022-07-12T12:05:25.760Z"
   },
   {
    "duration": 10,
    "start_time": "2022-07-12T12:05:26.221Z"
   },
   {
    "duration": 23,
    "start_time": "2022-07-12T12:05:26.244Z"
   },
   {
    "duration": 4,
    "start_time": "2022-07-12T12:05:26.269Z"
   },
   {
    "duration": 5,
    "start_time": "2022-07-12T12:05:26.275Z"
   },
   {
    "duration": 1378,
    "start_time": "2022-07-12T12:10:30.568Z"
   },
   {
    "duration": 1318,
    "start_time": "2022-07-12T12:10:31.949Z"
   },
   {
    "duration": 562,
    "start_time": "2022-07-12T12:10:34.845Z"
   },
   {
    "duration": 146,
    "start_time": "2022-07-12T12:11:00.452Z"
   },
   {
    "duration": 585,
    "start_time": "2022-07-12T12:11:07.780Z"
   },
   {
    "duration": 146,
    "start_time": "2022-07-12T12:11:11.353Z"
   },
   {
    "duration": 6,
    "start_time": "2022-07-12T12:11:58.742Z"
   },
   {
    "duration": 924,
    "start_time": "2022-07-12T12:11:58.751Z"
   },
   {
    "duration": 160,
    "start_time": "2022-07-12T12:11:59.677Z"
   },
   {
    "duration": 41,
    "start_time": "2022-07-12T12:11:59.848Z"
   },
   {
    "duration": 11,
    "start_time": "2022-07-12T12:11:59.891Z"
   },
   {
    "duration": 103,
    "start_time": "2022-07-12T12:11:59.903Z"
   },
   {
    "duration": 103,
    "start_time": "2022-07-12T12:12:00.008Z"
   },
   {
    "duration": 170,
    "start_time": "2022-07-12T12:12:00.112Z"
   },
   {
    "duration": 240,
    "start_time": "2022-07-12T12:12:00.284Z"
   },
   {
    "duration": 34,
    "start_time": "2022-07-12T12:12:00.533Z"
   },
   {
    "duration": 201,
    "start_time": "2022-07-12T12:12:00.569Z"
   },
   {
    "duration": 17,
    "start_time": "2022-07-12T12:12:00.773Z"
   },
   {
    "duration": 63,
    "start_time": "2022-07-12T12:12:00.792Z"
   },
   {
    "duration": 221,
    "start_time": "2022-07-12T12:12:00.858Z"
   },
   {
    "duration": 28,
    "start_time": "2022-07-12T12:12:01.080Z"
   },
   {
    "duration": 247,
    "start_time": "2022-07-12T12:12:01.110Z"
   },
   {
    "duration": 211,
    "start_time": "2022-07-12T12:12:01.360Z"
   },
   {
    "duration": 122,
    "start_time": "2022-07-12T12:12:01.572Z"
   },
   {
    "duration": 303,
    "start_time": "2022-07-12T12:12:01.695Z"
   },
   {
    "duration": 50,
    "start_time": "2022-07-12T12:12:02.000Z"
   },
   {
    "duration": 108,
    "start_time": "2022-07-12T12:12:02.052Z"
   },
   {
    "duration": 11,
    "start_time": "2022-07-12T12:12:02.164Z"
   },
   {
    "duration": 220,
    "start_time": "2022-07-12T12:12:02.178Z"
   },
   {
    "duration": 240,
    "start_time": "2022-07-12T12:12:02.400Z"
   },
   {
    "duration": 59,
    "start_time": "2022-07-12T12:12:02.641Z"
   },
   {
    "duration": 81,
    "start_time": "2022-07-12T12:12:02.703Z"
   },
   {
    "duration": 79,
    "start_time": "2022-07-12T12:12:02.786Z"
   },
   {
    "duration": 17,
    "start_time": "2022-07-12T12:12:02.866Z"
   },
   {
    "duration": 21,
    "start_time": "2022-07-12T12:12:02.884Z"
   },
   {
    "duration": 53,
    "start_time": "2022-07-12T12:12:02.908Z"
   },
   {
    "duration": 195,
    "start_time": "2022-07-12T12:12:09.261Z"
   },
   {
    "duration": 94,
    "start_time": "2022-07-12T12:12:11.276Z"
   },
   {
    "duration": 3,
    "start_time": "2022-07-12T12:12:33.881Z"
   },
   {
    "duration": 871,
    "start_time": "2022-07-12T12:12:33.886Z"
   },
   {
    "duration": 171,
    "start_time": "2022-07-12T12:12:34.761Z"
   },
   {
    "duration": 44,
    "start_time": "2022-07-12T12:12:34.937Z"
   },
   {
    "duration": 11,
    "start_time": "2022-07-12T12:12:34.983Z"
   },
   {
    "duration": 136,
    "start_time": "2022-07-12T12:12:34.995Z"
   },
   {
    "duration": 110,
    "start_time": "2022-07-12T12:12:35.136Z"
   },
   {
    "duration": 127,
    "start_time": "2022-07-12T12:12:35.252Z"
   },
   {
    "duration": 201,
    "start_time": "2022-07-12T12:12:35.380Z"
   },
   {
    "duration": 27,
    "start_time": "2022-07-12T12:12:35.583Z"
   },
   {
    "duration": 215,
    "start_time": "2022-07-12T12:12:35.612Z"
   },
   {
    "duration": 24,
    "start_time": "2022-07-12T12:12:35.838Z"
   },
   {
    "duration": 53,
    "start_time": "2022-07-12T12:12:35.867Z"
   },
   {
    "duration": 232,
    "start_time": "2022-07-12T12:12:35.921Z"
   },
   {
    "duration": 31,
    "start_time": "2022-07-12T12:12:36.158Z"
   },
   {
    "duration": 208,
    "start_time": "2022-07-12T12:12:36.191Z"
   },
   {
    "duration": 202,
    "start_time": "2022-07-12T12:12:36.401Z"
   },
   {
    "duration": 127,
    "start_time": "2022-07-12T12:12:36.605Z"
   },
   {
    "duration": 178,
    "start_time": "2022-07-12T12:12:36.737Z"
   },
   {
    "duration": 53,
    "start_time": "2022-07-12T12:12:36.916Z"
   },
   {
    "duration": 35,
    "start_time": "2022-07-12T12:12:36.971Z"
   },
   {
    "duration": 33,
    "start_time": "2022-07-12T12:12:37.008Z"
   },
   {
    "duration": 170,
    "start_time": "2022-07-12T12:12:37.044Z"
   },
   {
    "duration": 225,
    "start_time": "2022-07-12T12:12:37.216Z"
   },
   {
    "duration": 37,
    "start_time": "2022-07-12T12:12:37.452Z"
   },
   {
    "duration": 74,
    "start_time": "2022-07-12T12:12:37.492Z"
   },
   {
    "duration": 45,
    "start_time": "2022-07-12T12:12:37.569Z"
   },
   {
    "duration": 51,
    "start_time": "2022-07-12T12:12:37.616Z"
   },
   {
    "duration": 19,
    "start_time": "2022-07-12T12:12:37.669Z"
   },
   {
    "duration": 49,
    "start_time": "2022-07-12T12:12:37.690Z"
   },
   {
    "duration": 2,
    "start_time": "2022-07-12T12:12:37.742Z"
   },
   {
    "duration": 93,
    "start_time": "2022-07-12T12:12:39.736Z"
   },
   {
    "duration": 232,
    "start_time": "2022-07-12T12:12:47.129Z"
   },
   {
    "duration": 77,
    "start_time": "2022-07-12T12:12:48.440Z"
   },
   {
    "duration": 3,
    "start_time": "2022-07-12T12:13:16.762Z"
   },
   {
    "duration": 881,
    "start_time": "2022-07-12T12:13:16.767Z"
   },
   {
    "duration": 141,
    "start_time": "2022-07-12T12:13:17.652Z"
   },
   {
    "duration": 54,
    "start_time": "2022-07-12T12:13:17.795Z"
   },
   {
    "duration": 11,
    "start_time": "2022-07-12T12:13:17.853Z"
   },
   {
    "duration": 112,
    "start_time": "2022-07-12T12:13:17.866Z"
   },
   {
    "duration": 100,
    "start_time": "2022-07-12T12:13:17.979Z"
   },
   {
    "duration": 160,
    "start_time": "2022-07-12T12:13:18.081Z"
   },
   {
    "duration": 297,
    "start_time": "2022-07-12T12:13:18.250Z"
   },
   {
    "duration": 28,
    "start_time": "2022-07-12T12:13:18.550Z"
   },
   {
    "duration": 211,
    "start_time": "2022-07-12T12:13:18.579Z"
   },
   {
    "duration": 17,
    "start_time": "2022-07-12T12:13:18.792Z"
   },
   {
    "duration": 47,
    "start_time": "2022-07-12T12:13:18.825Z"
   },
   {
    "duration": 214,
    "start_time": "2022-07-12T12:13:18.875Z"
   },
   {
    "duration": 40,
    "start_time": "2022-07-12T12:13:19.091Z"
   },
   {
    "duration": 171,
    "start_time": "2022-07-12T12:13:19.133Z"
   },
   {
    "duration": 199,
    "start_time": "2022-07-12T12:13:19.306Z"
   },
   {
    "duration": 116,
    "start_time": "2022-07-12T12:13:19.506Z"
   },
   {
    "duration": 182,
    "start_time": "2022-07-12T12:13:19.623Z"
   },
   {
    "duration": 51,
    "start_time": "2022-07-12T12:13:19.807Z"
   },
   {
    "duration": 33,
    "start_time": "2022-07-12T12:13:19.860Z"
   },
   {
    "duration": 12,
    "start_time": "2022-07-12T12:13:19.894Z"
   },
   {
    "duration": 184,
    "start_time": "2022-07-12T12:13:19.908Z"
   },
   {
    "duration": 178,
    "start_time": "2022-07-12T12:13:20.094Z"
   },
   {
    "duration": 34,
    "start_time": "2022-07-12T12:13:20.273Z"
   },
   {
    "duration": 61,
    "start_time": "2022-07-12T12:13:20.309Z"
   },
   {
    "duration": 36,
    "start_time": "2022-07-12T12:13:20.372Z"
   },
   {
    "duration": 40,
    "start_time": "2022-07-12T12:13:20.410Z"
   },
   {
    "duration": 21,
    "start_time": "2022-07-12T12:13:20.452Z"
   },
   {
    "duration": 38,
    "start_time": "2022-07-12T12:13:20.475Z"
   },
   {
    "duration": 195,
    "start_time": "2022-07-12T12:13:20.515Z"
   },
   {
    "duration": 94,
    "start_time": "2022-07-12T12:13:20.712Z"
   },
   {
    "duration": 2,
    "start_time": "2022-07-12T12:13:20.808Z"
   },
   {
    "duration": 47,
    "start_time": "2022-07-12T12:13:20.825Z"
   },
   {
    "duration": 53,
    "start_time": "2022-07-12T12:13:20.874Z"
   },
   {
    "duration": 11,
    "start_time": "2022-07-12T12:13:20.940Z"
   },
   {
    "duration": 16,
    "start_time": "2022-07-12T12:13:20.953Z"
   },
   {
    "duration": 3,
    "start_time": "2022-07-12T12:13:20.970Z"
   },
   {
    "duration": 682,
    "start_time": "2022-07-12T12:13:20.974Z"
   },
   {
    "duration": 394,
    "start_time": "2022-07-12T12:13:21.658Z"
   },
   {
    "duration": 4,
    "start_time": "2022-07-12T12:13:22.056Z"
   },
   {
    "duration": 5,
    "start_time": "2022-07-12T12:13:22.061Z"
   },
   {
    "duration": 7,
    "start_time": "2022-07-12T12:13:22.068Z"
   },
   {
    "duration": 6,
    "start_time": "2022-07-12T12:13:22.076Z"
   },
   {
    "duration": 101052,
    "start_time": "2022-07-12T12:13:22.083Z"
   },
   {
    "duration": 8,
    "start_time": "2022-07-12T12:15:03.137Z"
   },
   {
    "duration": 118,
    "start_time": "2022-07-12T12:15:03.149Z"
   },
   {
    "duration": 195,
    "start_time": "2022-07-12T12:35:56.342Z"
   },
   {
    "duration": 25,
    "start_time": "2022-07-12T12:36:43.835Z"
   },
   {
    "duration": 65,
    "start_time": "2022-07-12T12:36:47.335Z"
   },
   {
    "duration": 3,
    "start_time": "2022-07-12T12:38:18.512Z"
   },
   {
    "duration": 802,
    "start_time": "2022-07-12T12:38:18.517Z"
   },
   {
    "duration": 137,
    "start_time": "2022-07-12T12:38:19.321Z"
   },
   {
    "duration": 39,
    "start_time": "2022-07-12T12:38:19.460Z"
   },
   {
    "duration": 28,
    "start_time": "2022-07-12T12:38:19.501Z"
   },
   {
    "duration": 86,
    "start_time": "2022-07-12T12:38:19.532Z"
   },
   {
    "duration": 87,
    "start_time": "2022-07-12T12:38:19.619Z"
   },
   {
    "duration": 134,
    "start_time": "2022-07-12T12:38:19.708Z"
   },
   {
    "duration": 201,
    "start_time": "2022-07-12T12:38:19.844Z"
   },
   {
    "duration": 31,
    "start_time": "2022-07-12T12:38:20.047Z"
   },
   {
    "duration": 190,
    "start_time": "2022-07-12T12:38:20.080Z"
   },
   {
    "duration": 16,
    "start_time": "2022-07-12T12:38:20.271Z"
   },
   {
    "duration": 56,
    "start_time": "2022-07-12T12:38:20.288Z"
   },
   {
    "duration": 294,
    "start_time": "2022-07-12T12:38:20.347Z"
   },
   {
    "duration": 26,
    "start_time": "2022-07-12T12:38:20.643Z"
   },
   {
    "duration": 185,
    "start_time": "2022-07-12T12:38:20.670Z"
   },
   {
    "duration": 170,
    "start_time": "2022-07-12T12:38:20.856Z"
   },
   {
    "duration": 101,
    "start_time": "2022-07-12T12:38:21.037Z"
   },
   {
    "duration": 166,
    "start_time": "2022-07-12T12:38:21.140Z"
   },
   {
    "duration": 39,
    "start_time": "2022-07-12T12:38:21.308Z"
   },
   {
    "duration": 33,
    "start_time": "2022-07-12T12:38:21.349Z"
   },
   {
    "duration": 10,
    "start_time": "2022-07-12T12:38:21.384Z"
   },
   {
    "duration": 161,
    "start_time": "2022-07-12T12:38:21.396Z"
   },
   {
    "duration": 174,
    "start_time": "2022-07-12T12:38:21.559Z"
   },
   {
    "duration": 30,
    "start_time": "2022-07-12T12:38:21.740Z"
   },
   {
    "duration": 34,
    "start_time": "2022-07-12T12:38:21.772Z"
   },
   {
    "duration": 48,
    "start_time": "2022-07-12T12:38:21.807Z"
   },
   {
    "duration": 19,
    "start_time": "2022-07-12T12:38:21.857Z"
   },
   {
    "duration": 18,
    "start_time": "2022-07-12T12:38:21.878Z"
   },
   {
    "duration": 44,
    "start_time": "2022-07-12T12:38:21.898Z"
   },
   {
    "duration": 165,
    "start_time": "2022-07-12T12:38:21.944Z"
   },
   {
    "duration": 86,
    "start_time": "2022-07-12T12:38:22.110Z"
   },
   {
    "duration": 3,
    "start_time": "2022-07-12T12:38:22.197Z"
   },
   {
    "duration": 53,
    "start_time": "2022-07-12T12:38:22.201Z"
   },
   {
    "duration": 43,
    "start_time": "2022-07-12T12:38:22.256Z"
   },
   {
    "duration": 3,
    "start_time": "2022-07-12T12:38:22.301Z"
   },
   {
    "duration": 35,
    "start_time": "2022-07-12T12:38:22.306Z"
   },
   {
    "duration": 3,
    "start_time": "2022-07-12T12:38:22.343Z"
   },
   {
    "duration": 617,
    "start_time": "2022-07-12T12:38:22.348Z"
   },
   {
    "duration": 405,
    "start_time": "2022-07-12T12:38:22.967Z"
   },
   {
    "duration": 4,
    "start_time": "2022-07-12T12:38:23.376Z"
   },
   {
    "duration": 3,
    "start_time": "2022-07-12T12:38:23.382Z"
   },
   {
    "duration": 5,
    "start_time": "2022-07-12T12:38:23.386Z"
   },
   {
    "duration": 5,
    "start_time": "2022-07-12T12:38:23.393Z"
   },
   {
    "duration": 38330,
    "start_time": "2022-07-12T12:38:23.400Z"
   },
   {
    "duration": 6,
    "start_time": "2022-07-12T12:39:01.735Z"
   },
   {
    "duration": 125,
    "start_time": "2022-07-12T12:39:01.743Z"
   },
   {
    "duration": 77,
    "start_time": "2022-07-12T12:39:01.869Z"
   },
   {
    "duration": 29,
    "start_time": "2022-07-12T12:39:01.948Z"
   },
   {
    "duration": 31,
    "start_time": "2022-07-12T12:39:01.978Z"
   },
   {
    "duration": 6,
    "start_time": "2022-07-12T12:39:02.011Z"
   },
   {
    "duration": 18,
    "start_time": "2022-07-12T12:39:02.019Z"
   },
   {
    "duration": 116,
    "start_time": "2022-07-12T12:39:02.040Z"
   },
   {
    "duration": 76,
    "start_time": "2022-07-12T12:43:26.264Z"
   },
   {
    "duration": 136,
    "start_time": "2022-07-12T12:44:08.384Z"
   },
   {
    "duration": 78,
    "start_time": "2022-07-12T12:47:47.015Z"
   },
   {
    "duration": 94,
    "start_time": "2022-07-12T12:49:29.985Z"
   },
   {
    "duration": 16280,
    "start_time": "2022-07-12T12:53:00.862Z"
   },
   {
    "duration": 1217,
    "start_time": "2022-07-12T12:56:33.730Z"
   },
   {
    "duration": 6,
    "start_time": "2022-07-12T12:56:56.722Z"
   },
   {
    "duration": 15649,
    "start_time": "2022-07-12T12:57:15.782Z"
   },
   {
    "duration": 4,
    "start_time": "2022-07-12T12:57:38.147Z"
   },
   {
    "duration": 52,
    "start_time": "2022-07-12T12:57:41.934Z"
   },
   {
    "duration": 2214,
    "start_time": "2022-07-12T12:58:50.791Z"
   },
   {
    "duration": 47632,
    "start_time": "2022-07-12T12:59:19.923Z"
   },
   {
    "duration": 5,
    "start_time": "2022-07-12T13:00:28.642Z"
   },
   {
    "duration": 576,
    "start_time": "2022-07-12T13:01:02.704Z"
   },
   {
    "duration": 214,
    "start_time": "2022-07-12T13:01:22.962Z"
   },
   {
    "duration": 5,
    "start_time": "2022-07-12T13:01:40.990Z"
   },
   {
    "duration": 7733,
    "start_time": "2022-07-12T13:02:50.851Z"
   },
   {
    "duration": 78,
    "start_time": "2022-07-12T13:03:27.910Z"
   },
   {
    "duration": 6,
    "start_time": "2022-07-12T13:03:29.633Z"
   },
   {
    "duration": 1962,
    "start_time": "2022-07-13T10:27:28.548Z"
   },
   {
    "duration": 1311,
    "start_time": "2022-07-13T10:27:30.513Z"
   },
   {
    "duration": 185,
    "start_time": "2022-07-13T10:27:31.829Z"
   },
   {
    "duration": 73,
    "start_time": "2022-07-13T10:27:32.016Z"
   },
   {
    "duration": 22,
    "start_time": "2022-07-13T10:27:32.092Z"
   },
   {
    "duration": 209,
    "start_time": "2022-07-13T10:27:32.123Z"
   },
   {
    "duration": 139,
    "start_time": "2022-07-13T10:27:32.335Z"
   },
   {
    "duration": 172,
    "start_time": "2022-07-13T10:27:32.477Z"
   },
   {
    "duration": 244,
    "start_time": "2022-07-13T10:27:32.653Z"
   },
   {
    "duration": 57,
    "start_time": "2022-07-13T10:27:32.899Z"
   },
   {
    "duration": 228,
    "start_time": "2022-07-13T10:27:32.962Z"
   },
   {
    "duration": 41,
    "start_time": "2022-07-13T10:27:33.192Z"
   },
   {
    "duration": 58,
    "start_time": "2022-07-13T10:27:33.237Z"
   },
   {
    "duration": 234,
    "start_time": "2022-07-13T10:27:33.298Z"
   },
   {
    "duration": 30,
    "start_time": "2022-07-13T10:27:33.536Z"
   },
   {
    "duration": 220,
    "start_time": "2022-07-13T10:27:33.567Z"
   },
   {
    "duration": 337,
    "start_time": "2022-07-13T10:27:33.789Z"
   },
   {
    "duration": 142,
    "start_time": "2022-07-13T10:27:34.135Z"
   },
   {
    "duration": 239,
    "start_time": "2022-07-13T10:27:34.280Z"
   },
   {
    "duration": 52,
    "start_time": "2022-07-13T10:27:34.521Z"
   },
   {
    "duration": 80,
    "start_time": "2022-07-13T10:27:34.576Z"
   },
   {
    "duration": 15,
    "start_time": "2022-07-13T10:27:34.658Z"
   },
   {
    "duration": 220,
    "start_time": "2022-07-13T10:27:34.675Z"
   },
   {
    "duration": 209,
    "start_time": "2022-07-13T10:27:34.897Z"
   },
   {
    "duration": 64,
    "start_time": "2022-07-13T10:27:35.108Z"
   },
   {
    "duration": 37,
    "start_time": "2022-07-13T10:27:35.174Z"
   },
   {
    "duration": 53,
    "start_time": "2022-07-13T10:27:35.222Z"
   },
   {
    "duration": 13,
    "start_time": "2022-07-13T10:27:35.277Z"
   },
   {
    "duration": 35,
    "start_time": "2022-07-13T10:27:35.291Z"
   },
   {
    "duration": 64,
    "start_time": "2022-07-13T10:27:35.328Z"
   },
   {
    "duration": 207,
    "start_time": "2022-07-13T10:27:35.394Z"
   },
   {
    "duration": 124,
    "start_time": "2022-07-13T10:27:35.603Z"
   },
   {
    "duration": 4,
    "start_time": "2022-07-13T10:27:35.732Z"
   },
   {
    "duration": 61,
    "start_time": "2022-07-13T10:27:35.738Z"
   },
   {
    "duration": 66,
    "start_time": "2022-07-13T10:27:35.801Z"
   },
   {
    "duration": 3,
    "start_time": "2022-07-13T10:27:35.869Z"
   },
   {
    "duration": 33,
    "start_time": "2022-07-13T10:27:35.874Z"
   },
   {
    "duration": 46,
    "start_time": "2022-07-13T10:27:35.909Z"
   },
   {
    "duration": 902,
    "start_time": "2022-07-13T10:27:35.957Z"
   },
   {
    "duration": 446,
    "start_time": "2022-07-13T10:27:36.861Z"
   },
   {
    "duration": 4,
    "start_time": "2022-07-13T10:27:37.311Z"
   },
   {
    "duration": 39,
    "start_time": "2022-07-13T10:27:37.316Z"
   },
   {
    "duration": 6,
    "start_time": "2022-07-13T10:27:37.357Z"
   },
   {
    "duration": 6,
    "start_time": "2022-07-13T10:27:37.365Z"
   },
   {
    "duration": 107761,
    "start_time": "2022-07-13T10:27:37.373Z"
   },
   {
    "duration": 15,
    "start_time": "2022-07-13T10:29:25.149Z"
   },
   {
    "duration": 36,
    "start_time": "2022-07-13T10:29:25.230Z"
   },
   {
    "duration": 22,
    "start_time": "2022-07-13T10:29:25.268Z"
   },
   {
    "duration": 9,
    "start_time": "2022-07-13T10:29:25.292Z"
   },
   {
    "duration": 12,
    "start_time": "2022-07-13T10:29:25.303Z"
   },
   {
    "duration": 41,
    "start_time": "2022-07-13T10:29:25.317Z"
   },
   {
    "duration": 9,
    "start_time": "2022-07-13T10:29:25.361Z"
   },
   {
    "duration": 238,
    "start_time": "2022-07-13T10:39:21.864Z"
   },
   {
    "duration": 1731,
    "start_time": "2022-07-13T10:49:09.800Z"
   },
   {
    "duration": 1026,
    "start_time": "2022-07-13T10:49:11.533Z"
   },
   {
    "duration": 187,
    "start_time": "2022-07-13T10:49:12.561Z"
   },
   {
    "duration": 65,
    "start_time": "2022-07-13T10:49:12.750Z"
   },
   {
    "duration": 62,
    "start_time": "2022-07-13T10:49:12.818Z"
   },
   {
    "duration": 129,
    "start_time": "2022-07-13T10:49:12.882Z"
   },
   {
    "duration": 165,
    "start_time": "2022-07-13T10:49:13.013Z"
   },
   {
    "duration": 189,
    "start_time": "2022-07-13T10:49:13.181Z"
   },
   {
    "duration": 231,
    "start_time": "2022-07-13T10:49:13.373Z"
   },
   {
    "duration": 49,
    "start_time": "2022-07-13T10:49:13.606Z"
   },
   {
    "duration": 209,
    "start_time": "2022-07-13T10:49:13.658Z"
   },
   {
    "duration": 18,
    "start_time": "2022-07-13T10:49:13.869Z"
   },
   {
    "duration": 57,
    "start_time": "2022-07-13T10:49:13.889Z"
   },
   {
    "duration": 216,
    "start_time": "2022-07-13T10:49:13.949Z"
   },
   {
    "duration": 29,
    "start_time": "2022-07-13T10:49:14.167Z"
   },
   {
    "duration": 215,
    "start_time": "2022-07-13T10:49:14.198Z"
   },
   {
    "duration": 390,
    "start_time": "2022-07-13T10:49:14.423Z"
   },
   {
    "duration": 155,
    "start_time": "2022-07-13T10:49:14.816Z"
   },
   {
    "duration": 209,
    "start_time": "2022-07-13T10:49:14.973Z"
   },
   {
    "duration": 43,
    "start_time": "2022-07-13T10:49:15.184Z"
   },
   {
    "duration": 61,
    "start_time": "2022-07-13T10:49:15.232Z"
   },
   {
    "duration": 17,
    "start_time": "2022-07-13T10:49:15.295Z"
   },
   {
    "duration": 214,
    "start_time": "2022-07-13T10:49:15.314Z"
   },
   {
    "duration": 203,
    "start_time": "2022-07-13T10:49:15.529Z"
   },
   {
    "duration": 44,
    "start_time": "2022-07-13T10:49:15.734Z"
   },
   {
    "duration": 60,
    "start_time": "2022-07-13T10:49:15.780Z"
   },
   {
    "duration": 38,
    "start_time": "2022-07-13T10:49:15.844Z"
   },
   {
    "duration": 15,
    "start_time": "2022-07-13T10:49:15.885Z"
   },
   {
    "duration": 28,
    "start_time": "2022-07-13T10:49:15.901Z"
   },
   {
    "duration": 47,
    "start_time": "2022-07-13T10:49:15.932Z"
   },
   {
    "duration": 231,
    "start_time": "2022-07-13T10:49:15.981Z"
   },
   {
    "duration": 105,
    "start_time": "2022-07-13T10:49:16.213Z"
   },
   {
    "duration": 6,
    "start_time": "2022-07-13T10:49:16.328Z"
   },
   {
    "duration": 66,
    "start_time": "2022-07-13T10:49:16.343Z"
   },
   {
    "duration": 63,
    "start_time": "2022-07-13T10:49:16.410Z"
   },
   {
    "duration": 4,
    "start_time": "2022-07-13T10:49:16.474Z"
   },
   {
    "duration": 21,
    "start_time": "2022-07-13T10:49:16.479Z"
   },
   {
    "duration": 3,
    "start_time": "2022-07-13T10:49:16.502Z"
   },
   {
    "duration": 902,
    "start_time": "2022-07-13T10:49:16.507Z"
   },
   {
    "duration": 469,
    "start_time": "2022-07-13T10:49:17.411Z"
   },
   {
    "duration": 5,
    "start_time": "2022-07-13T10:49:17.884Z"
   },
   {
    "duration": 7,
    "start_time": "2022-07-13T10:49:17.890Z"
   },
   {
    "duration": 6,
    "start_time": "2022-07-13T10:49:17.899Z"
   },
   {
    "duration": 23,
    "start_time": "2022-07-13T10:49:17.907Z"
   },
   {
    "duration": 1508,
    "start_time": "2022-07-13T10:49:58.005Z"
   },
   {
    "duration": 970,
    "start_time": "2022-07-13T10:49:59.515Z"
   },
   {
    "duration": 194,
    "start_time": "2022-07-13T10:50:00.487Z"
   },
   {
    "duration": 82,
    "start_time": "2022-07-13T10:50:00.683Z"
   },
   {
    "duration": 14,
    "start_time": "2022-07-13T10:50:00.767Z"
   },
   {
    "duration": 119,
    "start_time": "2022-07-13T10:50:00.783Z"
   },
   {
    "duration": 110,
    "start_time": "2022-07-13T10:50:00.904Z"
   },
   {
    "duration": 175,
    "start_time": "2022-07-13T10:50:01.015Z"
   },
   {
    "duration": 250,
    "start_time": "2022-07-13T10:50:01.192Z"
   },
   {
    "duration": 35,
    "start_time": "2022-07-13T10:50:01.444Z"
   },
   {
    "duration": 226,
    "start_time": "2022-07-13T10:50:01.481Z"
   },
   {
    "duration": 37,
    "start_time": "2022-07-13T10:50:01.709Z"
   },
   {
    "duration": 56,
    "start_time": "2022-07-13T10:50:01.751Z"
   },
   {
    "duration": 277,
    "start_time": "2022-07-13T10:50:01.810Z"
   },
   {
    "duration": 47,
    "start_time": "2022-07-13T10:50:02.088Z"
   },
   {
    "duration": 193,
    "start_time": "2022-07-13T10:50:02.138Z"
   },
   {
    "duration": 289,
    "start_time": "2022-07-13T10:50:02.339Z"
   },
   {
    "duration": 138,
    "start_time": "2022-07-13T10:50:02.633Z"
   },
   {
    "duration": 212,
    "start_time": "2022-07-13T10:50:02.772Z"
   },
   {
    "duration": 72,
    "start_time": "2022-07-13T10:50:02.987Z"
   },
   {
    "duration": 56,
    "start_time": "2022-07-13T10:50:03.060Z"
   },
   {
    "duration": 84,
    "start_time": "2022-07-13T10:50:03.118Z"
   },
   {
    "duration": 193,
    "start_time": "2022-07-13T10:50:03.204Z"
   },
   {
    "duration": 192,
    "start_time": "2022-07-13T10:50:03.398Z"
   },
   {
    "duration": 42,
    "start_time": "2022-07-13T10:50:03.592Z"
   },
   {
    "duration": 50,
    "start_time": "2022-07-13T10:50:03.643Z"
   },
   {
    "duration": 47,
    "start_time": "2022-07-13T10:50:03.695Z"
   },
   {
    "duration": 24,
    "start_time": "2022-07-13T10:50:03.743Z"
   },
   {
    "duration": 22,
    "start_time": "2022-07-13T10:50:03.769Z"
   },
   {
    "duration": 51,
    "start_time": "2022-07-13T10:50:03.792Z"
   },
   {
    "duration": 203,
    "start_time": "2022-07-13T10:50:03.849Z"
   },
   {
    "duration": 87,
    "start_time": "2022-07-13T10:50:04.055Z"
   },
   {
    "duration": 18,
    "start_time": "2022-07-13T10:50:04.143Z"
   },
   {
    "duration": 42,
    "start_time": "2022-07-13T10:50:04.163Z"
   },
   {
    "duration": 58,
    "start_time": "2022-07-13T10:50:04.207Z"
   },
   {
    "duration": 3,
    "start_time": "2022-07-13T10:50:04.267Z"
   },
   {
    "duration": 21,
    "start_time": "2022-07-13T10:50:04.272Z"
   },
   {
    "duration": 3,
    "start_time": "2022-07-13T10:50:04.295Z"
   },
   {
    "duration": 965,
    "start_time": "2022-07-13T10:50:04.300Z"
   },
   {
    "duration": 461,
    "start_time": "2022-07-13T10:50:05.267Z"
   },
   {
    "duration": 12,
    "start_time": "2022-07-13T10:50:05.732Z"
   },
   {
    "duration": 17,
    "start_time": "2022-07-13T10:50:05.752Z"
   },
   {
    "duration": 7,
    "start_time": "2022-07-13T10:50:05.771Z"
   },
   {
    "duration": 11,
    "start_time": "2022-07-13T10:50:05.779Z"
   },
   {
    "duration": 61031,
    "start_time": "2022-07-13T10:50:06.174Z"
   },
   {
    "duration": 265,
    "start_time": "2022-07-13T10:51:07.207Z"
   },
   {
    "duration": 5,
    "start_time": "2022-07-13T10:51:07.474Z"
   },
   {
    "duration": 255,
    "start_time": "2022-07-13T10:51:26.926Z"
   },
   {
    "duration": 4,
    "start_time": "2022-07-13T10:51:41.750Z"
   },
   {
    "duration": 3,
    "start_time": "2022-07-13T10:51:43.883Z"
   },
   {
    "duration": 13,
    "start_time": "2022-07-13T10:51:50.784Z"
   },
   {
    "duration": 28,
    "start_time": "2022-07-13T10:52:24.275Z"
   },
   {
    "duration": 10,
    "start_time": "2022-07-13T10:54:09.676Z"
   },
   {
    "duration": 46,
    "start_time": "2022-07-13T10:54:23.621Z"
   },
   {
    "duration": 6,
    "start_time": "2022-07-13T10:56:02.828Z"
   },
   {
    "duration": 3,
    "start_time": "2022-07-13T10:56:03.284Z"
   },
   {
    "duration": 41,
    "start_time": "2022-07-13T10:56:04.140Z"
   },
   {
    "duration": 3,
    "start_time": "2022-07-13T10:58:27.265Z"
   },
   {
    "duration": 3,
    "start_time": "2022-07-13T10:58:28.573Z"
   },
   {
    "duration": 38,
    "start_time": "2022-07-13T10:58:29.457Z"
   },
   {
    "duration": 4,
    "start_time": "2022-07-13T10:59:26.854Z"
   },
   {
    "duration": 37,
    "start_time": "2022-07-13T11:00:42.263Z"
   },
   {
    "duration": 45,
    "start_time": "2022-07-13T11:01:49.794Z"
   },
   {
    "duration": 25,
    "start_time": "2022-07-13T11:02:13.414Z"
   },
   {
    "duration": 81,
    "start_time": "2022-07-13T11:03:12.421Z"
   },
   {
    "duration": 128,
    "start_time": "2022-07-13T11:03:24.556Z"
   },
   {
    "duration": 90,
    "start_time": "2022-07-13T11:03:29.781Z"
   },
   {
    "duration": 56,
    "start_time": "2022-07-13T11:04:08.454Z"
   },
   {
    "duration": 54,
    "start_time": "2022-07-13T11:05:03.320Z"
   },
   {
    "duration": 230,
    "start_time": "2022-07-13T11:06:41.844Z"
   },
   {
    "duration": 1680,
    "start_time": "2022-07-13T11:09:37.519Z"
   },
   {
    "duration": 1071,
    "start_time": "2022-07-13T11:09:39.207Z"
   },
   {
    "duration": 199,
    "start_time": "2022-07-13T11:09:40.281Z"
   },
   {
    "duration": 67,
    "start_time": "2022-07-13T11:09:40.481Z"
   },
   {
    "duration": 25,
    "start_time": "2022-07-13T11:09:40.556Z"
   },
   {
    "duration": 163,
    "start_time": "2022-07-13T11:09:40.583Z"
   },
   {
    "duration": 183,
    "start_time": "2022-07-13T11:09:40.753Z"
   },
   {
    "duration": 230,
    "start_time": "2022-07-13T11:09:40.938Z"
   },
   {
    "duration": 230,
    "start_time": "2022-07-13T11:09:41.172Z"
   },
   {
    "duration": 52,
    "start_time": "2022-07-13T11:09:41.404Z"
   },
   {
    "duration": 219,
    "start_time": "2022-07-13T11:09:41.460Z"
   },
   {
    "duration": 21,
    "start_time": "2022-07-13T11:09:41.681Z"
   },
   {
    "duration": 69,
    "start_time": "2022-07-13T11:09:41.704Z"
   },
   {
    "duration": 233,
    "start_time": "2022-07-13T11:09:41.776Z"
   },
   {
    "duration": 41,
    "start_time": "2022-07-13T11:09:42.011Z"
   },
   {
    "duration": 236,
    "start_time": "2022-07-13T11:09:42.054Z"
   },
   {
    "duration": 314,
    "start_time": "2022-07-13T11:09:42.292Z"
   },
   {
    "duration": 174,
    "start_time": "2022-07-13T11:09:42.607Z"
   },
   {
    "duration": 221,
    "start_time": "2022-07-13T11:09:42.783Z"
   },
   {
    "duration": 68,
    "start_time": "2022-07-13T11:09:43.005Z"
   },
   {
    "duration": 51,
    "start_time": "2022-07-13T11:09:43.077Z"
   },
   {
    "duration": 51,
    "start_time": "2022-07-13T11:09:43.129Z"
   },
   {
    "duration": 220,
    "start_time": "2022-07-13T11:09:43.182Z"
   },
   {
    "duration": 263,
    "start_time": "2022-07-13T11:09:43.405Z"
   },
   {
    "duration": 37,
    "start_time": "2022-07-13T11:09:43.670Z"
   },
   {
    "duration": 72,
    "start_time": "2022-07-13T11:09:43.709Z"
   },
   {
    "duration": 47,
    "start_time": "2022-07-13T11:09:43.783Z"
   },
   {
    "duration": 29,
    "start_time": "2022-07-13T11:09:43.835Z"
   },
   {
    "duration": 34,
    "start_time": "2022-07-13T11:09:43.869Z"
   },
   {
    "duration": 46,
    "start_time": "2022-07-13T11:09:43.907Z"
   },
   {
    "duration": 261,
    "start_time": "2022-07-13T11:09:43.955Z"
   },
   {
    "duration": 113,
    "start_time": "2022-07-13T11:09:44.217Z"
   },
   {
    "duration": 10,
    "start_time": "2022-07-13T11:09:44.338Z"
   },
   {
    "duration": 76,
    "start_time": "2022-07-13T11:09:44.356Z"
   },
   {
    "duration": 66,
    "start_time": "2022-07-13T11:09:44.434Z"
   },
   {
    "duration": 4,
    "start_time": "2022-07-13T11:09:44.502Z"
   },
   {
    "duration": 30,
    "start_time": "2022-07-13T11:09:44.508Z"
   },
   {
    "duration": 45,
    "start_time": "2022-07-13T11:09:44.539Z"
   },
   {
    "duration": 994,
    "start_time": "2022-07-13T11:09:44.586Z"
   },
   {
    "duration": 496,
    "start_time": "2022-07-13T11:09:45.582Z"
   },
   {
    "duration": 4,
    "start_time": "2022-07-13T11:09:46.082Z"
   },
   {
    "duration": 9,
    "start_time": "2022-07-13T11:09:46.087Z"
   },
   {
    "duration": 8,
    "start_time": "2022-07-13T11:09:46.098Z"
   },
   {
    "duration": 8,
    "start_time": "2022-07-13T11:09:46.107Z"
   },
   {
    "duration": 4,
    "start_time": "2022-07-13T11:10:59.969Z"
   },
   {
    "duration": 1097,
    "start_time": "2022-07-13T11:10:59.976Z"
   },
   {
    "duration": 184,
    "start_time": "2022-07-13T11:11:01.077Z"
   },
   {
    "duration": 96,
    "start_time": "2022-07-13T11:11:01.263Z"
   },
   {
    "duration": 39,
    "start_time": "2022-07-13T11:11:01.362Z"
   },
   {
    "duration": 164,
    "start_time": "2022-07-13T11:11:01.403Z"
   },
   {
    "duration": 139,
    "start_time": "2022-07-13T11:11:01.573Z"
   },
   {
    "duration": 212,
    "start_time": "2022-07-13T11:11:01.714Z"
   },
   {
    "duration": 253,
    "start_time": "2022-07-13T11:11:01.928Z"
   },
   {
    "duration": 53,
    "start_time": "2022-07-13T11:11:02.183Z"
   },
   {
    "duration": 258,
    "start_time": "2022-07-13T11:11:02.250Z"
   },
   {
    "duration": 31,
    "start_time": "2022-07-13T11:11:02.510Z"
   },
   {
    "duration": 49,
    "start_time": "2022-07-13T11:11:02.542Z"
   },
   {
    "duration": 251,
    "start_time": "2022-07-13T11:11:02.595Z"
   },
   {
    "duration": 43,
    "start_time": "2022-07-13T11:11:02.850Z"
   },
   {
    "duration": 224,
    "start_time": "2022-07-13T11:11:02.895Z"
   },
   {
    "duration": 258,
    "start_time": "2022-07-13T11:11:03.122Z"
   },
   {
    "duration": 162,
    "start_time": "2022-07-13T11:11:03.383Z"
   },
   {
    "duration": 210,
    "start_time": "2022-07-13T11:11:03.554Z"
   },
   {
    "duration": 38,
    "start_time": "2022-07-13T11:11:03.766Z"
   },
   {
    "duration": 82,
    "start_time": "2022-07-13T11:11:03.807Z"
   },
   {
    "duration": 10,
    "start_time": "2022-07-13T11:11:03.891Z"
   },
   {
    "duration": 204,
    "start_time": "2022-07-13T11:11:03.903Z"
   },
   {
    "duration": 341,
    "start_time": "2022-07-13T11:11:04.108Z"
   },
   {
    "duration": 58,
    "start_time": "2022-07-13T11:11:04.450Z"
   },
   {
    "duration": 138,
    "start_time": "2022-07-13T11:11:04.510Z"
   },
   {
    "duration": 90,
    "start_time": "2022-07-13T11:11:04.650Z"
   },
   {
    "duration": 49,
    "start_time": "2022-07-13T11:11:04.744Z"
   },
   {
    "duration": 39,
    "start_time": "2022-07-13T11:11:04.795Z"
   },
   {
    "duration": 96,
    "start_time": "2022-07-13T11:11:04.836Z"
   },
   {
    "duration": 227,
    "start_time": "2022-07-13T11:11:04.939Z"
   },
   {
    "duration": 118,
    "start_time": "2022-07-13T11:11:05.169Z"
   },
   {
    "duration": 2,
    "start_time": "2022-07-13T11:11:05.289Z"
   },
   {
    "duration": 67,
    "start_time": "2022-07-13T11:11:05.293Z"
   },
   {
    "duration": 60,
    "start_time": "2022-07-13T11:11:05.361Z"
   },
   {
    "duration": 8,
    "start_time": "2022-07-13T11:11:05.424Z"
   },
   {
    "duration": 56,
    "start_time": "2022-07-13T11:11:05.434Z"
   },
   {
    "duration": 2,
    "start_time": "2022-07-13T11:11:05.492Z"
   },
   {
    "duration": 866,
    "start_time": "2022-07-13T11:11:05.495Z"
   },
   {
    "duration": 496,
    "start_time": "2022-07-13T11:11:06.362Z"
   },
   {
    "duration": 5,
    "start_time": "2022-07-13T11:11:06.870Z"
   },
   {
    "duration": 5,
    "start_time": "2022-07-13T11:11:06.877Z"
   },
   {
    "duration": 10,
    "start_time": "2022-07-13T11:11:06.884Z"
   },
   {
    "duration": 5,
    "start_time": "2022-07-13T11:11:06.896Z"
   },
   {
    "duration": 116266,
    "start_time": "2022-07-13T11:11:06.903Z"
   },
   {
    "duration": 9,
    "start_time": "2022-07-13T11:13:03.225Z"
   },
   {
    "duration": 61,
    "start_time": "2022-07-13T11:13:03.244Z"
   },
   {
    "duration": 9,
    "start_time": "2022-07-13T11:13:03.307Z"
   },
   {
    "duration": 19,
    "start_time": "2022-07-13T11:13:03.318Z"
   },
   {
    "duration": 55,
    "start_time": "2022-07-13T11:13:03.339Z"
   },
   {
    "duration": 10,
    "start_time": "2022-07-13T11:13:03.396Z"
   },
   {
    "duration": 5,
    "start_time": "2022-07-13T11:13:03.408Z"
   },
   {
    "duration": 360,
    "start_time": "2022-07-13T11:13:03.415Z"
   },
   {
    "duration": 14,
    "start_time": "2022-07-13T11:13:03.778Z"
   },
   {
    "duration": 0,
    "start_time": "2022-07-13T11:13:03.794Z"
   },
   {
    "duration": 1513,
    "start_time": "2022-07-13T11:26:35.587Z"
   },
   {
    "duration": 963,
    "start_time": "2022-07-13T11:26:37.102Z"
   },
   {
    "duration": 160,
    "start_time": "2022-07-13T11:26:38.068Z"
   },
   {
    "duration": 58,
    "start_time": "2022-07-13T11:26:38.229Z"
   },
   {
    "duration": 15,
    "start_time": "2022-07-13T11:26:38.289Z"
   },
   {
    "duration": 117,
    "start_time": "2022-07-13T11:26:38.306Z"
   },
   {
    "duration": 108,
    "start_time": "2022-07-13T11:26:38.429Z"
   },
   {
    "duration": 150,
    "start_time": "2022-07-13T11:26:38.541Z"
   },
   {
    "duration": 266,
    "start_time": "2022-07-13T11:26:38.693Z"
   },
   {
    "duration": 34,
    "start_time": "2022-07-13T11:26:38.962Z"
   },
   {
    "duration": 253,
    "start_time": "2022-07-13T11:26:38.998Z"
   },
   {
    "duration": 17,
    "start_time": "2022-07-13T11:26:39.253Z"
   },
   {
    "duration": 33,
    "start_time": "2022-07-13T11:26:39.272Z"
   },
   {
    "duration": 223,
    "start_time": "2022-07-13T11:26:39.322Z"
   },
   {
    "duration": 31,
    "start_time": "2022-07-13T11:26:39.547Z"
   },
   {
    "duration": 202,
    "start_time": "2022-07-13T11:26:39.580Z"
   },
   {
    "duration": 324,
    "start_time": "2022-07-13T11:26:39.784Z"
   },
   {
    "duration": 130,
    "start_time": "2022-07-13T11:26:40.111Z"
   },
   {
    "duration": 232,
    "start_time": "2022-07-13T11:26:40.243Z"
   },
   {
    "duration": 60,
    "start_time": "2022-07-13T11:26:40.477Z"
   },
   {
    "duration": 54,
    "start_time": "2022-07-13T11:26:40.538Z"
   },
   {
    "duration": 27,
    "start_time": "2022-07-13T11:26:40.594Z"
   },
   {
    "duration": 179,
    "start_time": "2022-07-13T11:26:40.625Z"
   },
   {
    "duration": 243,
    "start_time": "2022-07-13T11:26:40.805Z"
   },
   {
    "duration": 51,
    "start_time": "2022-07-13T11:26:41.051Z"
   },
   {
    "duration": 53,
    "start_time": "2022-07-13T11:26:41.104Z"
   },
   {
    "duration": 34,
    "start_time": "2022-07-13T11:26:41.159Z"
   },
   {
    "duration": 11,
    "start_time": "2022-07-13T11:26:41.195Z"
   },
   {
    "duration": 27,
    "start_time": "2022-07-13T11:26:41.225Z"
   },
   {
    "duration": 43,
    "start_time": "2022-07-13T11:26:41.254Z"
   },
   {
    "duration": 207,
    "start_time": "2022-07-13T11:26:41.299Z"
   },
   {
    "duration": 94,
    "start_time": "2022-07-13T11:26:41.508Z"
   },
   {
    "duration": 2,
    "start_time": "2022-07-13T11:26:41.605Z"
   },
   {
    "duration": 54,
    "start_time": "2022-07-13T11:26:41.622Z"
   },
   {
    "duration": 77,
    "start_time": "2022-07-13T11:26:41.678Z"
   },
   {
    "duration": 4,
    "start_time": "2022-07-13T11:26:41.757Z"
   },
   {
    "duration": 240,
    "start_time": "2022-07-13T11:26:41.763Z"
   },
   {
    "duration": 6,
    "start_time": "2022-07-13T11:26:42.006Z"
   },
   {
    "duration": 7,
    "start_time": "2022-07-13T11:26:42.023Z"
   },
   {
    "duration": 778,
    "start_time": "2022-07-13T11:26:42.031Z"
   },
   {
    "duration": 460,
    "start_time": "2022-07-13T11:26:42.813Z"
   },
   {
    "duration": 7,
    "start_time": "2022-07-13T11:26:43.275Z"
   },
   {
    "duration": 18,
    "start_time": "2022-07-13T11:26:43.283Z"
   },
   {
    "duration": 44,
    "start_time": "2022-07-13T11:26:43.303Z"
   },
   {
    "duration": 7,
    "start_time": "2022-07-13T11:26:43.350Z"
   },
   {
    "duration": 56,
    "start_time": "2022-07-13T11:28:09.041Z"
   },
   {
    "duration": 1877,
    "start_time": "2022-07-13T11:28:19.626Z"
   },
   {
    "duration": 985,
    "start_time": "2022-07-13T11:28:21.505Z"
   },
   {
    "duration": 173,
    "start_time": "2022-07-13T11:28:22.492Z"
   },
   {
    "duration": 58,
    "start_time": "2022-07-13T11:28:22.667Z"
   },
   {
    "duration": 55,
    "start_time": "2022-07-13T11:28:22.727Z"
   },
   {
    "duration": 183,
    "start_time": "2022-07-13T11:28:22.784Z"
   },
   {
    "duration": 171,
    "start_time": "2022-07-13T11:28:22.972Z"
   },
   {
    "duration": 165,
    "start_time": "2022-07-13T11:28:23.150Z"
   },
   {
    "duration": 250,
    "start_time": "2022-07-13T11:28:23.317Z"
   },
   {
    "duration": 35,
    "start_time": "2022-07-13T11:28:23.569Z"
   },
   {
    "duration": 250,
    "start_time": "2022-07-13T11:28:23.607Z"
   },
   {
    "duration": 21,
    "start_time": "2022-07-13T11:28:23.861Z"
   },
   {
    "duration": 59,
    "start_time": "2022-07-13T11:28:23.883Z"
   },
   {
    "duration": 259,
    "start_time": "2022-07-13T11:28:23.946Z"
   },
   {
    "duration": 40,
    "start_time": "2022-07-13T11:28:24.207Z"
   },
   {
    "duration": 252,
    "start_time": "2022-07-13T11:28:24.249Z"
   },
   {
    "duration": 361,
    "start_time": "2022-07-13T11:28:24.504Z"
   },
   {
    "duration": 164,
    "start_time": "2022-07-13T11:28:24.870Z"
   },
   {
    "duration": 228,
    "start_time": "2022-07-13T11:28:25.036Z"
   },
   {
    "duration": 68,
    "start_time": "2022-07-13T11:28:25.266Z"
   },
   {
    "duration": 57,
    "start_time": "2022-07-13T11:28:25.340Z"
   },
   {
    "duration": 18,
    "start_time": "2022-07-13T11:28:25.399Z"
   },
   {
    "duration": 232,
    "start_time": "2022-07-13T11:28:25.420Z"
   },
   {
    "duration": 209,
    "start_time": "2022-07-13T11:28:25.656Z"
   },
   {
    "duration": 34,
    "start_time": "2022-07-13T11:28:25.867Z"
   },
   {
    "duration": 69,
    "start_time": "2022-07-13T11:28:25.903Z"
   },
   {
    "duration": 58,
    "start_time": "2022-07-13T11:28:25.974Z"
   },
   {
    "duration": 11,
    "start_time": "2022-07-13T11:28:26.034Z"
   },
   {
    "duration": 48,
    "start_time": "2022-07-13T11:28:26.046Z"
   },
   {
    "duration": 52,
    "start_time": "2022-07-13T11:28:26.097Z"
   },
   {
    "duration": 214,
    "start_time": "2022-07-13T11:28:26.154Z"
   },
   {
    "duration": 115,
    "start_time": "2022-07-13T11:28:26.370Z"
   },
   {
    "duration": 3,
    "start_time": "2022-07-13T11:28:26.487Z"
   },
   {
    "duration": 72,
    "start_time": "2022-07-13T11:28:26.492Z"
   },
   {
    "duration": 69,
    "start_time": "2022-07-13T11:28:26.566Z"
   },
   {
    "duration": 10,
    "start_time": "2022-07-13T11:28:26.640Z"
   },
   {
    "duration": 197,
    "start_time": "2022-07-13T11:28:26.652Z"
   },
   {
    "duration": 6,
    "start_time": "2022-07-13T11:28:26.851Z"
   },
   {
    "duration": 15,
    "start_time": "2022-07-13T11:28:26.859Z"
   },
   {
    "duration": 803,
    "start_time": "2022-07-13T11:28:26.876Z"
   },
   {
    "duration": 464,
    "start_time": "2022-07-13T11:28:27.683Z"
   },
   {
    "duration": 6,
    "start_time": "2022-07-13T11:28:28.158Z"
   },
   {
    "duration": 5,
    "start_time": "2022-07-13T11:28:28.166Z"
   },
   {
    "duration": 19,
    "start_time": "2022-07-13T11:28:28.173Z"
   },
   {
    "duration": 39,
    "start_time": "2022-07-13T11:28:28.195Z"
   },
   {
    "duration": 10,
    "start_time": "2022-07-13T11:28:32.941Z"
   },
   {
    "duration": 7,
    "start_time": "2022-07-13T11:28:52.934Z"
   },
   {
    "duration": 156,
    "start_time": "2022-07-13T11:28:56.042Z"
   },
   {
    "duration": 5,
    "start_time": "2022-07-13T11:29:19.759Z"
   },
   {
    "duration": 984,
    "start_time": "2022-07-13T11:29:19.767Z"
   },
   {
    "duration": 157,
    "start_time": "2022-07-13T11:29:20.753Z"
   },
   {
    "duration": 60,
    "start_time": "2022-07-13T11:29:20.912Z"
   },
   {
    "duration": 12,
    "start_time": "2022-07-13T11:29:20.975Z"
   },
   {
    "duration": 125,
    "start_time": "2022-07-13T11:29:20.989Z"
   },
   {
    "duration": 142,
    "start_time": "2022-07-13T11:29:21.125Z"
   },
   {
    "duration": 162,
    "start_time": "2022-07-13T11:29:21.269Z"
   },
   {
    "duration": 239,
    "start_time": "2022-07-13T11:29:21.437Z"
   },
   {
    "duration": 30,
    "start_time": "2022-07-13T11:29:21.678Z"
   },
   {
    "duration": 228,
    "start_time": "2022-07-13T11:29:21.710Z"
   },
   {
    "duration": 24,
    "start_time": "2022-07-13T11:29:21.942Z"
   },
   {
    "duration": 81,
    "start_time": "2022-07-13T11:29:21.969Z"
   },
   {
    "duration": 233,
    "start_time": "2022-07-13T11:29:22.054Z"
   },
   {
    "duration": 44,
    "start_time": "2022-07-13T11:29:22.290Z"
   },
   {
    "duration": 210,
    "start_time": "2022-07-13T11:29:22.338Z"
   },
   {
    "duration": 216,
    "start_time": "2022-07-13T11:29:22.551Z"
   },
   {
    "duration": 189,
    "start_time": "2022-07-13T11:29:22.769Z"
   },
   {
    "duration": 210,
    "start_time": "2022-07-13T11:29:22.961Z"
   },
   {
    "duration": 75,
    "start_time": "2022-07-13T11:29:23.173Z"
   },
   {
    "duration": 54,
    "start_time": "2022-07-13T11:29:23.256Z"
   },
   {
    "duration": 16,
    "start_time": "2022-07-13T11:29:23.312Z"
   },
   {
    "duration": 265,
    "start_time": "2022-07-13T11:29:23.335Z"
   },
   {
    "duration": 368,
    "start_time": "2022-07-13T11:29:23.602Z"
   },
   {
    "duration": 67,
    "start_time": "2022-07-13T11:29:23.973Z"
   },
   {
    "duration": 119,
    "start_time": "2022-07-13T11:29:24.042Z"
   },
   {
    "duration": 45,
    "start_time": "2022-07-13T11:29:24.163Z"
   },
   {
    "duration": 11,
    "start_time": "2022-07-13T11:29:24.210Z"
   },
   {
    "duration": 52,
    "start_time": "2022-07-13T11:29:24.229Z"
   },
   {
    "duration": 49,
    "start_time": "2022-07-13T11:29:24.284Z"
   },
   {
    "duration": 235,
    "start_time": "2022-07-13T11:29:24.335Z"
   },
   {
    "duration": 141,
    "start_time": "2022-07-13T11:29:24.572Z"
   },
   {
    "duration": 15,
    "start_time": "2022-07-13T11:29:24.715Z"
   },
   {
    "duration": 89,
    "start_time": "2022-07-13T11:29:24.736Z"
   },
   {
    "duration": 73,
    "start_time": "2022-07-13T11:29:24.827Z"
   },
   {
    "duration": 4,
    "start_time": "2022-07-13T11:29:24.902Z"
   },
   {
    "duration": 267,
    "start_time": "2022-07-13T11:29:24.908Z"
   },
   {
    "duration": 8,
    "start_time": "2022-07-13T11:29:25.176Z"
   },
   {
    "duration": 10,
    "start_time": "2022-07-13T11:29:25.186Z"
   },
   {
    "duration": 719,
    "start_time": "2022-07-13T11:29:25.197Z"
   },
   {
    "duration": 438,
    "start_time": "2022-07-13T11:29:25.920Z"
   },
   {
    "duration": 4,
    "start_time": "2022-07-13T11:29:26.360Z"
   },
   {
    "duration": 7,
    "start_time": "2022-07-13T11:29:26.367Z"
   },
   {
    "duration": 8,
    "start_time": "2022-07-13T11:29:26.376Z"
   },
   {
    "duration": 7,
    "start_time": "2022-07-13T11:29:26.385Z"
   },
   {
    "duration": 4,
    "start_time": "2022-07-13T11:33:04.170Z"
   },
   {
    "duration": 1020,
    "start_time": "2022-07-13T11:33:04.176Z"
   },
   {
    "duration": 163,
    "start_time": "2022-07-13T11:33:05.198Z"
   },
   {
    "duration": 47,
    "start_time": "2022-07-13T11:33:05.363Z"
   },
   {
    "duration": 21,
    "start_time": "2022-07-13T11:33:05.411Z"
   },
   {
    "duration": 133,
    "start_time": "2022-07-13T11:33:05.436Z"
   },
   {
    "duration": 105,
    "start_time": "2022-07-13T11:33:05.573Z"
   },
   {
    "duration": 156,
    "start_time": "2022-07-13T11:33:05.680Z"
   },
   {
    "duration": 223,
    "start_time": "2022-07-13T11:33:05.841Z"
   },
   {
    "duration": 28,
    "start_time": "2022-07-13T11:33:06.066Z"
   },
   {
    "duration": 226,
    "start_time": "2022-07-13T11:33:06.096Z"
   },
   {
    "duration": 29,
    "start_time": "2022-07-13T11:33:06.324Z"
   },
   {
    "duration": 37,
    "start_time": "2022-07-13T11:33:06.356Z"
   },
   {
    "duration": 232,
    "start_time": "2022-07-13T11:33:06.395Z"
   },
   {
    "duration": 38,
    "start_time": "2022-07-13T11:33:06.634Z"
   },
   {
    "duration": 205,
    "start_time": "2022-07-13T11:33:06.674Z"
   },
   {
    "duration": 213,
    "start_time": "2022-07-13T11:33:06.881Z"
   },
   {
    "duration": 134,
    "start_time": "2022-07-13T11:33:07.096Z"
   },
   {
    "duration": 203,
    "start_time": "2022-07-13T11:33:07.233Z"
   },
   {
    "duration": 43,
    "start_time": "2022-07-13T11:33:07.439Z"
   },
   {
    "duration": 60,
    "start_time": "2022-07-13T11:33:07.484Z"
   },
   {
    "duration": 25,
    "start_time": "2022-07-13T11:33:07.546Z"
   },
   {
    "duration": 184,
    "start_time": "2022-07-13T11:33:07.573Z"
   },
   {
    "duration": 201,
    "start_time": "2022-07-13T11:33:07.759Z"
   },
   {
    "duration": 43,
    "start_time": "2022-07-13T11:33:07.964Z"
   },
   {
    "duration": 61,
    "start_time": "2022-07-13T11:33:08.009Z"
   },
   {
    "duration": 66,
    "start_time": "2022-07-13T11:33:08.072Z"
   },
   {
    "duration": 27,
    "start_time": "2022-07-13T11:33:08.139Z"
   },
   {
    "duration": 21,
    "start_time": "2022-07-13T11:33:08.168Z"
   },
   {
    "duration": 43,
    "start_time": "2022-07-13T11:33:08.190Z"
   },
   {
    "duration": 212,
    "start_time": "2022-07-13T11:33:08.235Z"
   },
   {
    "duration": 97,
    "start_time": "2022-07-13T11:33:08.454Z"
   },
   {
    "duration": 2,
    "start_time": "2022-07-13T11:33:08.555Z"
   },
   {
    "duration": 58,
    "start_time": "2022-07-13T11:33:08.559Z"
   },
   {
    "duration": 66,
    "start_time": "2022-07-13T11:33:08.619Z"
   },
   {
    "duration": 3,
    "start_time": "2022-07-13T11:33:08.687Z"
   },
   {
    "duration": 199,
    "start_time": "2022-07-13T11:33:08.692Z"
   },
   {
    "duration": 7,
    "start_time": "2022-07-13T11:33:08.893Z"
   },
   {
    "duration": 11,
    "start_time": "2022-07-13T11:33:08.902Z"
   },
   {
    "duration": 698,
    "start_time": "2022-07-13T11:33:08.915Z"
   },
   {
    "duration": 449,
    "start_time": "2022-07-13T11:33:09.615Z"
   },
   {
    "duration": 6,
    "start_time": "2022-07-13T11:33:10.066Z"
   },
   {
    "duration": 18,
    "start_time": "2022-07-13T11:33:10.074Z"
   },
   {
    "duration": 11,
    "start_time": "2022-07-13T11:33:10.094Z"
   },
   {
    "duration": 15,
    "start_time": "2022-07-13T11:33:10.107Z"
   },
   {
    "duration": 4,
    "start_time": "2022-07-13T11:33:10.881Z"
   },
   {
    "duration": 1557,
    "start_time": "2022-07-13T11:33:25.073Z"
   },
   {
    "duration": 1001,
    "start_time": "2022-07-13T11:33:32.552Z"
   },
   {
    "duration": 169,
    "start_time": "2022-07-13T11:33:33.555Z"
   },
   {
    "duration": 59,
    "start_time": "2022-07-13T11:33:33.725Z"
   },
   {
    "duration": 16,
    "start_time": "2022-07-13T11:33:33.786Z"
   },
   {
    "duration": 141,
    "start_time": "2022-07-13T11:33:33.804Z"
   },
   {
    "duration": 139,
    "start_time": "2022-07-13T11:33:34.124Z"
   },
   {
    "duration": 193,
    "start_time": "2022-07-13T11:33:34.462Z"
   },
   {
    "duration": 249,
    "start_time": "2022-07-13T11:33:34.831Z"
   },
   {
    "duration": 54,
    "start_time": "2022-07-13T11:33:35.222Z"
   },
   {
    "duration": 207,
    "start_time": "2022-07-13T11:33:35.395Z"
   },
   {
    "duration": 34,
    "start_time": "2022-07-13T11:33:35.604Z"
   },
   {
    "duration": 37,
    "start_time": "2022-07-13T11:33:35.965Z"
   },
   {
    "duration": 221,
    "start_time": "2022-07-13T11:33:36.550Z"
   },
   {
    "duration": 31,
    "start_time": "2022-07-13T11:33:36.950Z"
   },
   {
    "duration": 197,
    "start_time": "2022-07-13T11:33:37.094Z"
   },
   {
    "duration": 308,
    "start_time": "2022-07-13T11:33:37.693Z"
   },
   {
    "duration": 115,
    "start_time": "2022-07-13T11:33:38.065Z"
   },
   {
    "duration": 195,
    "start_time": "2022-07-13T11:33:38.253Z"
   },
   {
    "duration": 33,
    "start_time": "2022-07-13T11:33:38.650Z"
   },
   {
    "duration": 52,
    "start_time": "2022-07-13T11:33:39.021Z"
   },
   {
    "duration": 8,
    "start_time": "2022-07-13T11:33:39.593Z"
   },
   {
    "duration": 185,
    "start_time": "2022-07-13T11:33:39.801Z"
   },
   {
    "duration": 201,
    "start_time": "2022-07-13T11:33:40.245Z"
   },
   {
    "duration": 35,
    "start_time": "2022-07-13T11:33:40.649Z"
   },
   {
    "duration": 42,
    "start_time": "2022-07-13T11:33:41.035Z"
   },
   {
    "duration": 34,
    "start_time": "2022-07-13T11:33:41.465Z"
   },
   {
    "duration": 14,
    "start_time": "2022-07-13T11:33:41.874Z"
   },
   {
    "duration": 24,
    "start_time": "2022-07-13T11:33:42.273Z"
   },
   {
    "duration": 43,
    "start_time": "2022-07-13T11:33:42.750Z"
   },
   {
    "duration": 229,
    "start_time": "2022-07-13T11:33:42.885Z"
   },
   {
    "duration": 122,
    "start_time": "2022-07-13T11:33:43.116Z"
   },
   {
    "duration": 4,
    "start_time": "2022-07-13T11:33:43.294Z"
   },
   {
    "duration": 40,
    "start_time": "2022-07-13T11:33:43.755Z"
   },
   {
    "duration": 63,
    "start_time": "2022-07-13T11:33:46.054Z"
   },
   {
    "duration": 6,
    "start_time": "2022-07-13T11:33:46.239Z"
   },
   {
    "duration": 174,
    "start_time": "2022-07-13T11:33:46.428Z"
   },
   {
    "duration": 11,
    "start_time": "2022-07-13T11:33:46.827Z"
   },
   {
    "duration": 2,
    "start_time": "2022-07-13T11:33:47.085Z"
   },
   {
    "duration": 847,
    "start_time": "2022-07-13T11:33:47.748Z"
   },
   {
    "duration": 430,
    "start_time": "2022-07-13T11:33:50.149Z"
   },
   {
    "duration": 9,
    "start_time": "2022-07-13T11:33:50.750Z"
   },
   {
    "duration": 4,
    "start_time": "2022-07-13T11:33:51.993Z"
   },
   {
    "duration": 5,
    "start_time": "2022-07-13T11:35:06.647Z"
   },
   {
    "duration": 124,
    "start_time": "2022-07-13T11:35:20.356Z"
   },
   {
    "duration": 11,
    "start_time": "2022-07-13T11:35:21.750Z"
   },
   {
    "duration": 4,
    "start_time": "2022-07-13T11:35:50.658Z"
   },
   {
    "duration": 3,
    "start_time": "2022-07-13T11:35:56.218Z"
   },
   {
    "duration": 468599,
    "start_time": "2022-07-13T11:35:57.648Z"
   },
   {
    "duration": 465045,
    "start_time": "2022-07-13T11:43:49.182Z"
   },
   {
    "duration": 62432,
    "start_time": "2022-07-13T11:53:31.197Z"
   },
   {
    "duration": 19,
    "start_time": "2022-07-13T11:54:33.631Z"
   },
   {
    "duration": 155,
    "start_time": "2022-07-13T11:55:33.810Z"
   },
   {
    "duration": 7,
    "start_time": "2022-07-13T11:55:35.882Z"
   },
   {
    "duration": 39497,
    "start_time": "2022-07-13T11:56:18.422Z"
   },
   {
    "duration": 201466,
    "start_time": "2022-07-13T11:57:00.017Z"
   },
   {
    "duration": 91,
    "start_time": "2022-07-13T12:00:31.710Z"
   },
   {
    "duration": 88,
    "start_time": "2022-07-13T12:01:18.964Z"
   },
   {
    "duration": 181563,
    "start_time": "2022-07-13T12:01:29.211Z"
   },
   {
    "duration": 11,
    "start_time": "2022-07-13T12:04:45.057Z"
   },
   {
    "duration": 117,
    "start_time": "2022-07-13T12:04:51.212Z"
   },
   {
    "duration": 3,
    "start_time": "2022-07-13T12:04:59.667Z"
   },
   {
    "duration": 181317,
    "start_time": "2022-07-13T12:05:00.951Z"
   },
   {
    "duration": 0,
    "start_time": "2022-07-13T12:08:02.272Z"
   },
   {
    "duration": 201433,
    "start_time": "2022-07-13T12:08:04.499Z"
   },
   {
    "duration": 253,
    "start_time": "2022-07-13T12:11:57.187Z"
   },
   {
    "duration": 5,
    "start_time": "2022-07-13T12:11:58.387Z"
   },
   {
    "duration": 3,
    "start_time": "2022-07-13T12:12:10.498Z"
   },
   {
    "duration": 178656,
    "start_time": "2022-07-13T12:12:12.667Z"
   },
   {
    "duration": 200,
    "start_time": "2022-07-13T12:16:57.253Z"
   },
   {
    "duration": 7,
    "start_time": "2022-07-13T12:16:57.850Z"
   },
   {
    "duration": 2,
    "start_time": "2022-07-13T12:17:15.666Z"
   },
   {
    "duration": 152978,
    "start_time": "2022-07-13T12:17:16.261Z"
   },
   {
    "duration": 140,
    "start_time": "2022-07-13T12:21:21.700Z"
   },
   {
    "duration": 6,
    "start_time": "2022-07-13T12:21:22.080Z"
   },
   {
    "duration": 166664,
    "start_time": "2022-07-13T12:21:47.563Z"
   },
   {
    "duration": 164,
    "start_time": "2022-07-13T12:27:05.579Z"
   },
   {
    "duration": 5,
    "start_time": "2022-07-13T12:27:06.051Z"
   },
   {
    "duration": 3,
    "start_time": "2022-07-13T12:27:36.979Z"
   },
   {
    "duration": 20305,
    "start_time": "2022-07-13T12:27:45.438Z"
   },
   {
    "duration": 239,
    "start_time": "2022-07-13T12:28:10.411Z"
   },
   {
    "duration": 9,
    "start_time": "2022-07-13T12:28:14.702Z"
   },
   {
    "duration": 3,
    "start_time": "2022-07-13T12:31:45.690Z"
   },
   {
    "duration": 3,
    "start_time": "2022-07-13T12:32:52.785Z"
   },
   {
    "duration": 33825,
    "start_time": "2022-07-13T12:32:55.610Z"
   },
   {
    "duration": 216,
    "start_time": "2022-07-13T12:34:31.309Z"
   },
   {
    "duration": 6,
    "start_time": "2022-07-13T12:34:33.042Z"
   },
   {
    "duration": 7784,
    "start_time": "2022-07-13T12:36:17.753Z"
   },
   {
    "duration": 791,
    "start_time": "2022-07-13T12:36:48.744Z"
   },
   {
    "duration": 6,
    "start_time": "2022-07-13T12:36:50.708Z"
   },
   {
    "duration": 7227,
    "start_time": "2022-07-13T12:38:00.696Z"
   },
   {
    "duration": 891,
    "start_time": "2022-07-13T12:38:15.748Z"
   },
   {
    "duration": 7,
    "start_time": "2022-07-13T12:38:17.456Z"
   },
   {
    "duration": 191540,
    "start_time": "2022-07-13T12:38:48.588Z"
   },
   {
    "duration": 781,
    "start_time": "2022-07-13T12:43:14.155Z"
   },
   {
    "duration": 5,
    "start_time": "2022-07-13T12:43:18.276Z"
   },
   {
    "duration": 92,
    "start_time": "2022-07-13T12:44:17.558Z"
   },
   {
    "duration": 9764,
    "start_time": "2022-07-13T12:44:42.667Z"
   },
   {
    "duration": 1090,
    "start_time": "2022-07-13T12:45:17.551Z"
   },
   {
    "duration": 5,
    "start_time": "2022-07-13T12:45:19.540Z"
   },
   {
    "duration": 14384,
    "start_time": "2022-07-13T12:45:22.752Z"
   },
   {
    "duration": 1295,
    "start_time": "2022-07-13T12:45:43.640Z"
   },
   {
    "duration": 5,
    "start_time": "2022-07-13T12:45:44.937Z"
   },
   {
    "duration": 66594,
    "start_time": "2022-07-13T12:46:07.236Z"
   },
   {
    "duration": 1385,
    "start_time": "2022-07-13T12:47:56.352Z"
   },
   {
    "duration": 5,
    "start_time": "2022-07-13T12:47:59.166Z"
   },
   {
    "duration": 131739,
    "start_time": "2022-07-13T12:48:30.297Z"
   },
   {
    "duration": 3,
    "start_time": "2022-07-13T12:50:42.038Z"
   },
   {
    "duration": 1037,
    "start_time": "2022-07-13T12:51:34.198Z"
   },
   {
    "duration": 6,
    "start_time": "2022-07-13T12:51:36.051Z"
   },
   {
    "duration": 4,
    "start_time": "2022-07-13T12:56:45.738Z"
   },
   {
    "duration": 840,
    "start_time": "2022-07-13T12:56:45.744Z"
   },
   {
    "duration": 167,
    "start_time": "2022-07-13T12:56:46.586Z"
   },
   {
    "duration": 44,
    "start_time": "2022-07-13T12:56:46.755Z"
   },
   {
    "duration": 34,
    "start_time": "2022-07-13T12:56:46.801Z"
   },
   {
    "duration": 96,
    "start_time": "2022-07-13T12:56:46.837Z"
   },
   {
    "duration": 99,
    "start_time": "2022-07-13T12:56:46.936Z"
   },
   {
    "duration": 132,
    "start_time": "2022-07-13T12:56:47.037Z"
   },
   {
    "duration": 212,
    "start_time": "2022-07-13T12:56:47.171Z"
   },
   {
    "duration": 27,
    "start_time": "2022-07-13T12:56:47.385Z"
   },
   {
    "duration": 226,
    "start_time": "2022-07-13T12:56:47.414Z"
   },
   {
    "duration": 17,
    "start_time": "2022-07-13T12:56:47.642Z"
   },
   {
    "duration": 42,
    "start_time": "2022-07-13T12:56:47.660Z"
   },
   {
    "duration": 251,
    "start_time": "2022-07-13T12:56:47.703Z"
   },
   {
    "duration": 32,
    "start_time": "2022-07-13T12:56:47.956Z"
   },
   {
    "duration": 185,
    "start_time": "2022-07-13T12:56:47.990Z"
   },
   {
    "duration": 187,
    "start_time": "2022-07-13T12:56:48.176Z"
   },
   {
    "duration": 110,
    "start_time": "2022-07-13T12:56:48.364Z"
   },
   {
    "duration": 186,
    "start_time": "2022-07-13T12:56:48.476Z"
   },
   {
    "duration": 32,
    "start_time": "2022-07-13T12:56:48.664Z"
   },
   {
    "duration": 57,
    "start_time": "2022-07-13T12:56:48.697Z"
   },
   {
    "duration": 32,
    "start_time": "2022-07-13T12:56:48.756Z"
   },
   {
    "duration": 273,
    "start_time": "2022-07-13T12:56:48.789Z"
   },
   {
    "duration": 186,
    "start_time": "2022-07-13T12:56:49.066Z"
   },
   {
    "duration": 33,
    "start_time": "2022-07-13T12:56:49.254Z"
   },
   {
    "duration": 51,
    "start_time": "2022-07-13T12:56:49.289Z"
   },
   {
    "duration": 36,
    "start_time": "2022-07-13T12:56:49.342Z"
   },
   {
    "duration": 8,
    "start_time": "2022-07-13T12:56:49.380Z"
   },
   {
    "duration": 47,
    "start_time": "2022-07-13T12:56:49.390Z"
   },
   {
    "duration": 38,
    "start_time": "2022-07-13T12:56:49.440Z"
   },
   {
    "duration": 176,
    "start_time": "2022-07-13T12:56:49.481Z"
   },
   {
    "duration": 96,
    "start_time": "2022-07-13T12:56:49.659Z"
   },
   {
    "duration": 2,
    "start_time": "2022-07-13T12:56:49.757Z"
   },
   {
    "duration": 42,
    "start_time": "2022-07-13T12:56:49.761Z"
   },
   {
    "duration": 72,
    "start_time": "2022-07-13T12:56:49.804Z"
   },
   {
    "duration": 3,
    "start_time": "2022-07-13T12:56:49.877Z"
   },
   {
    "duration": 171,
    "start_time": "2022-07-13T12:56:49.882Z"
   },
   {
    "duration": 5,
    "start_time": "2022-07-13T12:56:50.055Z"
   },
   {
    "duration": 639,
    "start_time": "2022-07-13T12:56:50.062Z"
   },
   {
    "duration": 430,
    "start_time": "2022-07-13T12:56:50.703Z"
   },
   {
    "duration": 5,
    "start_time": "2022-07-13T12:56:51.135Z"
   },
   {
    "duration": 45088,
    "start_time": "2022-07-13T12:56:51.141Z"
   },
   {
    "duration": 5,
    "start_time": "2022-07-13T12:57:36.231Z"
   },
   {
    "duration": 103,
    "start_time": "2022-07-13T12:57:36.238Z"
   },
   {
    "duration": 179929,
    "start_time": "2022-07-13T12:59:48.598Z"
   },
   {
    "duration": 1382,
    "start_time": "2022-07-13T13:07:23.365Z"
   },
   {
    "duration": 6,
    "start_time": "2022-07-13T13:07:24.749Z"
   },
   {
    "duration": 53,
    "start_time": "2022-07-13T13:13:17.347Z"
   },
   {
    "duration": 4,
    "start_time": "2022-07-13T13:13:59.478Z"
   },
   {
    "duration": 3,
    "start_time": "2022-07-13T13:14:10.299Z"
   },
   {
    "duration": 81,
    "start_time": "2022-07-13T13:14:10.706Z"
   },
   {
    "duration": 3,
    "start_time": "2022-07-13T13:14:30.635Z"
   },
   {
    "duration": 191,
    "start_time": "2022-07-13T13:14:31.450Z"
   },
   {
    "duration": 3,
    "start_time": "2022-07-13T13:15:23.035Z"
   },
   {
    "duration": 68,
    "start_time": "2022-07-13T13:15:23.578Z"
   },
   {
    "duration": 126,
    "start_time": "2022-07-13T13:15:53.898Z"
   },
   {
    "duration": 18251,
    "start_time": "2022-07-13T13:16:22.786Z"
   },
   {
    "duration": 198927,
    "start_time": "2022-07-13T13:16:59.318Z"
   },
   {
    "duration": 921,
    "start_time": "2022-07-13T13:21:12.819Z"
   },
   {
    "duration": 6,
    "start_time": "2022-07-13T13:21:14.735Z"
   },
   {
    "duration": 3,
    "start_time": "2022-07-13T13:22:16.299Z"
   },
   {
    "duration": 215944,
    "start_time": "2022-07-13T13:22:24.579Z"
   },
   {
    "duration": 5,
    "start_time": "2022-07-13T13:27:13.272Z"
   },
   {
    "duration": 1133,
    "start_time": "2022-07-13T13:27:53.492Z"
   },
   {
    "duration": 6,
    "start_time": "2022-07-13T13:27:56.540Z"
   },
   {
    "duration": 3,
    "start_time": "2022-07-13T13:28:01.439Z"
   },
   {
    "duration": 1102396,
    "start_time": "2022-07-13T13:28:02.441Z"
   },
   {
    "duration": 5,
    "start_time": "2022-07-13T13:46:24.839Z"
   },
   {
    "duration": 1100,
    "start_time": "2022-07-13T13:46:24.845Z"
   },
   {
    "duration": 5,
    "start_time": "2022-07-13T13:46:25.947Z"
   },
   {
    "duration": 1550,
    "start_time": "2022-07-14T10:17:43.682Z"
   },
   {
    "duration": 1068,
    "start_time": "2022-07-14T10:17:45.234Z"
   },
   {
    "duration": 115,
    "start_time": "2022-07-14T10:17:46.304Z"
   },
   {
    "duration": 46,
    "start_time": "2022-07-14T10:17:46.421Z"
   },
   {
    "duration": 23,
    "start_time": "2022-07-14T10:17:46.470Z"
   },
   {
    "duration": 77,
    "start_time": "2022-07-14T10:17:46.500Z"
   },
   {
    "duration": 89,
    "start_time": "2022-07-14T10:17:46.579Z"
   },
   {
    "duration": 111,
    "start_time": "2022-07-14T10:17:46.670Z"
   },
   {
    "duration": 205,
    "start_time": "2022-07-14T10:17:46.783Z"
   },
   {
    "duration": 34,
    "start_time": "2022-07-14T10:17:46.990Z"
   },
   {
    "duration": 186,
    "start_time": "2022-07-14T10:17:47.025Z"
   },
   {
    "duration": 20,
    "start_time": "2022-07-14T10:17:47.213Z"
   },
   {
    "duration": 28,
    "start_time": "2022-07-14T10:17:47.234Z"
   },
   {
    "duration": 218,
    "start_time": "2022-07-14T10:17:47.266Z"
   },
   {
    "duration": 30,
    "start_time": "2022-07-14T10:17:47.486Z"
   },
   {
    "duration": 171,
    "start_time": "2022-07-14T10:17:47.518Z"
   },
   {
    "duration": 249,
    "start_time": "2022-07-14T10:17:47.690Z"
   },
   {
    "duration": 93,
    "start_time": "2022-07-14T10:17:47.941Z"
   },
   {
    "duration": 170,
    "start_time": "2022-07-14T10:17:48.036Z"
   },
   {
    "duration": 28,
    "start_time": "2022-07-14T10:17:48.208Z"
   },
   {
    "duration": 34,
    "start_time": "2022-07-14T10:17:48.237Z"
   },
   {
    "duration": 18,
    "start_time": "2022-07-14T10:17:48.273Z"
   },
   {
    "duration": 157,
    "start_time": "2022-07-14T10:17:48.293Z"
   },
   {
    "duration": 164,
    "start_time": "2022-07-14T10:17:48.452Z"
   },
   {
    "duration": 27,
    "start_time": "2022-07-14T10:17:48.618Z"
   },
   {
    "duration": 33,
    "start_time": "2022-07-14T10:17:48.647Z"
   },
   {
    "duration": 40,
    "start_time": "2022-07-14T10:17:48.682Z"
   },
   {
    "duration": 9,
    "start_time": "2022-07-14T10:17:48.724Z"
   },
   {
    "duration": 19,
    "start_time": "2022-07-14T10:17:48.734Z"
   },
   {
    "duration": 56,
    "start_time": "2022-07-14T10:17:48.754Z"
   },
   {
    "duration": 157,
    "start_time": "2022-07-14T10:17:48.812Z"
   },
   {
    "duration": 66,
    "start_time": "2022-07-14T10:17:48.971Z"
   },
   {
    "duration": 33,
    "start_time": "2022-07-14T10:17:49.039Z"
   },
   {
    "duration": 63,
    "start_time": "2022-07-14T10:17:49.073Z"
   },
   {
    "duration": 3,
    "start_time": "2022-07-14T10:17:49.138Z"
   },
   {
    "duration": 139,
    "start_time": "2022-07-14T10:17:49.142Z"
   },
   {
    "duration": 5,
    "start_time": "2022-07-14T10:17:49.282Z"
   },
   {
    "duration": 525,
    "start_time": "2022-07-14T10:17:49.289Z"
   },
   {
    "duration": 365,
    "start_time": "2022-07-14T10:17:49.816Z"
   },
   {
    "duration": 4,
    "start_time": "2022-07-14T10:17:50.183Z"
   },
   {
    "duration": 20418,
    "start_time": "2022-07-14T10:17:50.190Z"
   },
   {
    "duration": 90,
    "start_time": "2022-07-14T10:18:10.612Z"
   },
   {
    "duration": 12,
    "start_time": "2022-07-14T10:18:10.704Z"
   },
   {
    "duration": 5,
    "start_time": "2022-07-14T10:18:10.717Z"
   },
   {
    "duration": 5,
    "start_time": "2022-07-14T10:18:10.724Z"
   },
   {
    "duration": 961178,
    "start_time": "2022-07-14T10:18:10.731Z"
   },
   {
    "duration": 4,
    "start_time": "2022-07-14T10:34:11.912Z"
   },
   {
    "duration": 1387,
    "start_time": "2022-07-14T10:34:11.917Z"
   },
   {
    "duration": 5,
    "start_time": "2022-07-14T10:34:13.306Z"
   },
   {
    "duration": 4,
    "start_time": "2022-07-14T10:36:07.283Z"
   },
   {
    "duration": 1290,
    "start_time": "2022-07-14T10:36:11.711Z"
   },
   {
    "duration": 5,
    "start_time": "2022-07-14T10:36:13.003Z"
   },
   {
    "duration": 147,
    "start_time": "2022-07-14T10:36:20.082Z"
   },
   {
    "duration": 31,
    "start_time": "2022-07-14T10:36:25.482Z"
   },
   {
    "duration": 5,
    "start_time": "2022-07-14T10:36:29.393Z"
   },
   {
    "duration": 3,
    "start_time": "2022-07-14T10:36:30.281Z"
   },
   {
    "duration": 83,
    "start_time": "2022-07-14T10:36:32.089Z"
   },
   {
    "duration": 4,
    "start_time": "2022-07-14T10:37:35.133Z"
   },
   {
    "duration": 3,
    "start_time": "2022-07-14T10:37:35.802Z"
   },
   {
    "duration": 76,
    "start_time": "2022-07-14T10:37:36.622Z"
   },
   {
    "duration": 61637,
    "start_time": "2022-07-14T10:38:02.770Z"
   },
   {
    "duration": 5,
    "start_time": "2022-07-14T10:56:55.562Z"
   },
   {
    "duration": 13,
    "start_time": "2022-07-14T10:56:56.522Z"
   },
   {
    "duration": 101,
    "start_time": "2022-07-14T10:57:06.334Z"
   },
   {
    "duration": 5,
    "start_time": "2022-07-14T10:57:07.724Z"
   },
   {
    "duration": 4,
    "start_time": "2022-07-14T10:58:54.324Z"
   },
   {
    "duration": 506173,
    "start_time": "2022-07-14T10:58:55.234Z"
   },
   {
    "duration": 4,
    "start_time": "2022-07-14T11:13:49.525Z"
   },
   {
    "duration": 3,
    "start_time": "2022-07-14T11:14:53.458Z"
   },
   {
    "duration": 1256216,
    "start_time": "2022-07-14T11:14:54.490Z"
   },
   {
    "duration": 4,
    "start_time": "2022-07-14T11:35:50.708Z"
   },
   {
    "duration": 114,
    "start_time": "2022-07-14T11:35:50.714Z"
   },
   {
    "duration": 5,
    "start_time": "2022-07-14T11:35:50.830Z"
   },
   {
    "duration": 4,
    "start_time": "2022-07-14T12:01:45.506Z"
   },
   {
    "duration": 421457,
    "start_time": "2022-07-14T12:01:46.120Z"
   },
   {
    "duration": 5,
    "start_time": "2022-07-14T12:08:54.159Z"
   },
   {
    "duration": 89,
    "start_time": "2022-07-14T12:08:56.291Z"
   },
   {
    "duration": 6,
    "start_time": "2022-07-14T12:09:01.630Z"
   },
   {
    "duration": 167,
    "start_time": "2022-07-14T12:09:50.699Z"
   },
   {
    "duration": 3,
    "start_time": "2022-07-14T12:09:58.671Z"
   },
   {
    "duration": 30240,
    "start_time": "2022-07-14T12:09:59.430Z"
   },
   {
    "duration": 4,
    "start_time": "2022-07-14T12:10:29.672Z"
   },
   {
    "duration": 90,
    "start_time": "2022-07-14T12:10:35.079Z"
   },
   {
    "duration": 8,
    "start_time": "2022-07-14T12:10:35.480Z"
   },
   {
    "duration": 4,
    "start_time": "2022-07-14T12:11:26.251Z"
   },
   {
    "duration": 191867,
    "start_time": "2022-07-14T12:11:27.991Z"
   },
   {
    "duration": 4,
    "start_time": "2022-07-14T12:14:39.860Z"
   },
   {
    "duration": 89,
    "start_time": "2022-07-14T12:14:39.865Z"
   },
   {
    "duration": 4,
    "start_time": "2022-07-14T12:14:39.956Z"
   },
   {
    "duration": 3,
    "start_time": "2022-07-14T12:17:33.054Z"
   },
   {
    "duration": 2,
    "start_time": "2022-07-14T12:17:34.446Z"
   },
   {
    "duration": 68517,
    "start_time": "2022-07-14T12:17:35.242Z"
   },
   {
    "duration": 4,
    "start_time": "2022-07-14T12:18:43.761Z"
   },
   {
    "duration": 682,
    "start_time": "2022-07-14T12:18:43.767Z"
   },
   {
    "duration": 6,
    "start_time": "2022-07-14T12:18:44.451Z"
   },
   {
    "duration": 3,
    "start_time": "2022-07-14T12:22:09.256Z"
   },
   {
    "duration": 114789,
    "start_time": "2022-07-14T12:22:14.690Z"
   },
   {
    "duration": 3,
    "start_time": "2022-07-14T12:24:19.090Z"
   },
   {
    "duration": 1274085,
    "start_time": "2022-07-14T12:24:21.943Z"
   },
   {
    "duration": 3,
    "start_time": "2022-07-14T12:45:36.030Z"
   },
   {
    "duration": 649,
    "start_time": "2022-07-14T12:45:36.035Z"
   },
   {
    "duration": 6,
    "start_time": "2022-07-14T12:45:36.686Z"
   },
   {
    "duration": 171,
    "start_time": "2022-07-14T12:45:36.694Z"
   },
   {
    "duration": 0,
    "start_time": "2022-07-14T12:45:36.867Z"
   },
   {
    "duration": 0,
    "start_time": "2022-07-14T12:45:36.868Z"
   },
   {
    "duration": 0,
    "start_time": "2022-07-14T12:45:36.870Z"
   },
   {
    "duration": 0,
    "start_time": "2022-07-14T12:45:36.870Z"
   },
   {
    "duration": 3,
    "start_time": "2022-07-14T12:49:18.604Z"
   },
   {
    "duration": 83,
    "start_time": "2022-07-14T12:49:22.703Z"
   },
   {
    "duration": 3,
    "start_time": "2022-07-14T12:49:36.363Z"
   },
   {
    "duration": 1335549,
    "start_time": "2022-07-14T12:49:37.305Z"
   },
   {
    "duration": 4,
    "start_time": "2022-07-14T13:11:52.856Z"
   },
   {
    "duration": 1276,
    "start_time": "2022-07-14T13:11:52.861Z"
   },
   {
    "duration": 5,
    "start_time": "2022-07-14T13:11:54.139Z"
   },
   {
    "duration": 20,
    "start_time": "2022-07-14T13:11:54.146Z"
   },
   {
    "duration": 1041959,
    "start_time": "2022-07-14T13:11:54.167Z"
   },
   {
    "duration": 4,
    "start_time": "2022-07-14T13:29:16.128Z"
   },
   {
    "duration": 87,
    "start_time": "2022-07-14T13:29:16.134Z"
   },
   {
    "duration": 6,
    "start_time": "2022-07-14T13:29:16.223Z"
   },
   {
    "duration": 7,
    "start_time": "2022-07-14T13:29:16.231Z"
   },
   {
    "duration": 1162192,
    "start_time": "2022-07-14T13:29:16.240Z"
   },
   {
    "duration": 5,
    "start_time": "2022-07-14T13:48:38.435Z"
   },
   {
    "duration": 1698,
    "start_time": "2022-07-14T13:48:38.442Z"
   },
   {
    "duration": 6,
    "start_time": "2022-07-14T13:48:40.141Z"
   },
   {
    "duration": 33,
    "start_time": "2022-07-14T13:48:40.150Z"
   },
   {
    "duration": 409511,
    "start_time": "2022-07-14T13:48:40.185Z"
   },
   {
    "duration": 17,
    "start_time": "2022-07-14T13:55:29.701Z"
   },
   {
    "duration": 112,
    "start_time": "2022-07-14T13:55:29.723Z"
   },
   {
    "duration": 5,
    "start_time": "2022-07-14T13:55:29.837Z"
   },
   {
    "duration": 1707,
    "start_time": "2022-07-15T12:04:03.428Z"
   },
   {
    "duration": 1332,
    "start_time": "2022-07-15T12:04:05.138Z"
   },
   {
    "duration": 283,
    "start_time": "2022-07-15T12:04:06.471Z"
   },
   {
    "duration": 115,
    "start_time": "2022-07-15T12:04:06.809Z"
   },
   {
    "duration": 93,
    "start_time": "2022-07-15T12:04:06.929Z"
   },
   {
    "duration": 294,
    "start_time": "2022-07-15T12:04:07.024Z"
   },
   {
    "duration": 234,
    "start_time": "2022-07-15T12:04:07.320Z"
   },
   {
    "duration": 355,
    "start_time": "2022-07-15T12:04:07.555Z"
   },
   {
    "duration": 544,
    "start_time": "2022-07-15T12:04:07.915Z"
   },
   {
    "duration": 40,
    "start_time": "2022-07-15T12:04:08.509Z"
   },
   {
    "duration": 313,
    "start_time": "2022-07-15T12:04:08.551Z"
   },
   {
    "duration": 22,
    "start_time": "2022-07-15T12:04:08.866Z"
   },
   {
    "duration": 59,
    "start_time": "2022-07-15T12:04:08.890Z"
   },
   {
    "duration": 234,
    "start_time": "2022-07-15T12:04:08.951Z"
   },
   {
    "duration": 47,
    "start_time": "2022-07-15T12:04:09.187Z"
   },
   {
    "duration": 257,
    "start_time": "2022-07-15T12:04:09.238Z"
   },
   {
    "duration": 197,
    "start_time": "2022-07-15T12:04:09.497Z"
   },
   {
    "duration": 131,
    "start_time": "2022-07-15T12:04:09.696Z"
   },
   {
    "duration": 173,
    "start_time": "2022-07-15T12:04:09.834Z"
   },
   {
    "duration": 56,
    "start_time": "2022-07-15T12:04:10.013Z"
   },
   {
    "duration": 60,
    "start_time": "2022-07-15T12:04:10.070Z"
   },
   {
    "duration": 35,
    "start_time": "2022-07-15T12:04:10.133Z"
   },
   {
    "duration": 182,
    "start_time": "2022-07-15T12:04:10.170Z"
   },
   {
    "duration": 195,
    "start_time": "2022-07-15T12:04:10.354Z"
   },
   {
    "duration": 31,
    "start_time": "2022-07-15T12:04:10.551Z"
   },
   {
    "duration": 70,
    "start_time": "2022-07-15T12:04:10.584Z"
   },
   {
    "duration": 58,
    "start_time": "2022-07-15T12:04:10.656Z"
   },
   {
    "duration": 40,
    "start_time": "2022-07-15T12:04:10.719Z"
   },
   {
    "duration": 81,
    "start_time": "2022-07-15T12:04:10.761Z"
   },
   {
    "duration": 41,
    "start_time": "2022-07-15T12:04:10.843Z"
   },
   {
    "duration": 213,
    "start_time": "2022-07-15T12:04:10.886Z"
   },
   {
    "duration": 95,
    "start_time": "2022-07-15T12:04:11.101Z"
   },
   {
    "duration": 56,
    "start_time": "2022-07-15T12:04:11.197Z"
   },
   {
    "duration": 46,
    "start_time": "2022-07-15T12:04:11.254Z"
   },
   {
    "duration": 4,
    "start_time": "2022-07-15T12:04:11.316Z"
   },
   {
    "duration": 237,
    "start_time": "2022-07-15T12:04:11.322Z"
   },
   {
    "duration": 7,
    "start_time": "2022-07-15T12:04:11.562Z"
   },
   {
    "duration": 622,
    "start_time": "2022-07-15T12:04:11.571Z"
   },
   {
    "duration": 407,
    "start_time": "2022-07-15T12:04:12.195Z"
   },
   {
    "duration": 4,
    "start_time": "2022-07-15T12:04:12.604Z"
   },
   {
    "duration": 50103,
    "start_time": "2022-07-15T12:04:12.610Z"
   },
   {
    "duration": 11,
    "start_time": "2022-07-15T12:05:02.715Z"
   },
   {
    "duration": 90,
    "start_time": "2022-07-15T12:05:02.728Z"
   },
   {
    "duration": 15,
    "start_time": "2022-07-15T12:05:02.820Z"
   },
   {
    "duration": 6,
    "start_time": "2022-07-15T12:05:02.837Z"
   },
   {
    "duration": 380814,
    "start_time": "2022-07-15T12:05:02.844Z"
   },
   {
    "duration": 4,
    "start_time": "2022-07-15T12:11:23.660Z"
   },
   {
    "duration": 108,
    "start_time": "2022-07-15T12:11:23.666Z"
   },
   {
    "duration": 5,
    "start_time": "2022-07-15T12:11:23.776Z"
   },
   {
    "duration": 3,
    "start_time": "2022-07-15T12:11:23.784Z"
   },
   {
    "duration": 6,
    "start_time": "2022-07-15T12:11:23.789Z"
   },
   {
    "duration": 1296193,
    "start_time": "2022-07-15T12:11:23.797Z"
   },
   {
    "duration": 7,
    "start_time": "2022-07-15T12:32:59.992Z"
   },
   {
    "duration": 2168,
    "start_time": "2022-07-15T12:33:00.001Z"
   },
   {
    "duration": 8,
    "start_time": "2022-07-15T12:33:02.170Z"
   },
   {
    "duration": 18,
    "start_time": "2022-07-15T12:33:02.181Z"
   },
   {
    "duration": 506125,
    "start_time": "2022-07-15T12:33:02.203Z"
   },
   {
    "duration": 4,
    "start_time": "2022-07-15T12:41:28.330Z"
   },
   {
    "duration": 111,
    "start_time": "2022-07-15T12:41:28.336Z"
   },
   {
    "duration": 7,
    "start_time": "2022-07-15T12:41:28.449Z"
   },
   {
    "duration": 14,
    "start_time": "2022-07-15T12:41:28.458Z"
   },
   {
    "duration": 1698,
    "start_time": "2022-07-18T10:16:17.810Z"
   },
   {
    "duration": 1289,
    "start_time": "2022-07-18T10:16:19.511Z"
   },
   {
    "duration": 163,
    "start_time": "2022-07-18T10:16:20.803Z"
   },
   {
    "duration": 48,
    "start_time": "2022-07-18T10:16:20.968Z"
   },
   {
    "duration": 17,
    "start_time": "2022-07-18T10:16:21.019Z"
   },
   {
    "duration": 123,
    "start_time": "2022-07-18T10:16:21.037Z"
   },
   {
    "duration": 98,
    "start_time": "2022-07-18T10:16:21.165Z"
   },
   {
    "duration": 122,
    "start_time": "2022-07-18T10:16:21.270Z"
   },
   {
    "duration": 226,
    "start_time": "2022-07-18T10:16:21.393Z"
   },
   {
    "duration": 43,
    "start_time": "2022-07-18T10:16:21.621Z"
   },
   {
    "duration": 186,
    "start_time": "2022-07-18T10:16:21.666Z"
   },
   {
    "duration": 29,
    "start_time": "2022-07-18T10:16:21.858Z"
   },
   {
    "duration": 41,
    "start_time": "2022-07-18T10:16:21.889Z"
   },
   {
    "duration": 246,
    "start_time": "2022-07-18T10:16:21.933Z"
   },
   {
    "duration": 29,
    "start_time": "2022-07-18T10:16:22.180Z"
   },
   {
    "duration": 269,
    "start_time": "2022-07-18T10:16:22.210Z"
   },
   {
    "duration": 192,
    "start_time": "2022-07-18T10:16:22.481Z"
   },
   {
    "duration": 111,
    "start_time": "2022-07-18T10:16:22.674Z"
   },
   {
    "duration": 186,
    "start_time": "2022-07-18T10:16:22.787Z"
   },
   {
    "duration": 31,
    "start_time": "2022-07-18T10:16:22.976Z"
   },
   {
    "duration": 58,
    "start_time": "2022-07-18T10:16:23.009Z"
   },
   {
    "duration": 14,
    "start_time": "2022-07-18T10:16:23.072Z"
   },
   {
    "duration": 144,
    "start_time": "2022-07-18T10:16:23.087Z"
   },
   {
    "duration": 166,
    "start_time": "2022-07-18T10:16:23.233Z"
   },
   {
    "duration": 30,
    "start_time": "2022-07-18T10:16:23.400Z"
   },
   {
    "duration": 44,
    "start_time": "2022-07-18T10:16:23.446Z"
   },
   {
    "duration": 39,
    "start_time": "2022-07-18T10:16:23.492Z"
   },
   {
    "duration": 28,
    "start_time": "2022-07-18T10:16:23.532Z"
   },
   {
    "duration": 29,
    "start_time": "2022-07-18T10:16:23.568Z"
   },
   {
    "duration": 36,
    "start_time": "2022-07-18T10:16:23.599Z"
   },
   {
    "duration": 186,
    "start_time": "2022-07-18T10:16:23.637Z"
   },
   {
    "duration": 98,
    "start_time": "2022-07-18T10:16:23.825Z"
   },
   {
    "duration": 60,
    "start_time": "2022-07-18T10:16:23.925Z"
   },
   {
    "duration": 49,
    "start_time": "2022-07-18T10:16:23.987Z"
   },
   {
    "duration": 12,
    "start_time": "2022-07-18T10:16:24.046Z"
   },
   {
    "duration": 162,
    "start_time": "2022-07-18T10:16:24.063Z"
   },
   {
    "duration": 5,
    "start_time": "2022-07-18T10:16:24.227Z"
   },
   {
    "duration": 570,
    "start_time": "2022-07-18T10:16:24.233Z"
   },
   {
    "duration": 403,
    "start_time": "2022-07-18T10:16:24.805Z"
   },
   {
    "duration": 4,
    "start_time": "2022-07-18T10:16:25.209Z"
   },
   {
    "duration": 68442,
    "start_time": "2022-07-18T10:16:25.216Z"
   },
   {
    "duration": 9,
    "start_time": "2022-07-18T10:17:33.661Z"
   },
   {
    "duration": 15,
    "start_time": "2022-07-18T10:17:33.673Z"
   },
   {
    "duration": 4,
    "start_time": "2022-07-18T10:17:33.690Z"
   },
   {
    "duration": 58,
    "start_time": "2022-07-18T10:17:33.695Z"
   },
   {
    "duration": 414826,
    "start_time": "2022-07-18T10:17:33.755Z"
   },
   {
    "duration": 4,
    "start_time": "2022-07-18T10:24:28.583Z"
   },
   {
    "duration": 119,
    "start_time": "2022-07-18T10:24:28.589Z"
   },
   {
    "duration": 6,
    "start_time": "2022-07-18T10:24:28.710Z"
   },
   {
    "duration": 4,
    "start_time": "2022-07-18T10:24:28.719Z"
   },
   {
    "duration": 9,
    "start_time": "2022-07-18T10:24:28.725Z"
   },
   {
    "duration": 1342851,
    "start_time": "2022-07-18T10:24:28.752Z"
   },
   {
    "duration": 4,
    "start_time": "2022-07-18T10:46:51.605Z"
   },
   {
    "duration": 2463,
    "start_time": "2022-07-18T10:46:51.611Z"
   },
   {
    "duration": 5,
    "start_time": "2022-07-18T10:46:54.077Z"
   },
   {
    "duration": 8,
    "start_time": "2022-07-18T10:46:54.084Z"
   },
   {
    "duration": 5,
    "start_time": "2022-07-18T10:46:54.093Z"
   },
   {
    "duration": 219439,
    "start_time": "2022-07-18T10:46:54.100Z"
   },
   {
    "duration": 15,
    "start_time": "2022-07-18T10:50:33.547Z"
   },
   {
    "duration": 126,
    "start_time": "2022-07-18T10:50:33.567Z"
   },
   {
    "duration": 6,
    "start_time": "2022-07-18T10:50:33.696Z"
   },
   {
    "duration": 10,
    "start_time": "2022-07-18T10:50:33.704Z"
   },
   {
    "duration": 5,
    "start_time": "2022-07-18T10:50:33.716Z"
   },
   {
    "duration": 152,
    "start_time": "2022-07-18T10:50:33.723Z"
   },
   {
    "duration": 1,
    "start_time": "2022-07-18T10:50:33.876Z"
   },
   {
    "duration": 0,
    "start_time": "2022-07-18T10:50:33.878Z"
   },
   {
    "duration": 0,
    "start_time": "2022-07-18T10:50:33.882Z"
   },
   {
    "duration": 0,
    "start_time": "2022-07-18T10:50:33.885Z"
   },
   {
    "duration": 0,
    "start_time": "2022-07-18T10:50:33.888Z"
   },
   {
    "duration": 0,
    "start_time": "2022-07-18T10:50:33.889Z"
   },
   {
    "duration": 0,
    "start_time": "2022-07-18T10:50:33.890Z"
   },
   {
    "duration": 0,
    "start_time": "2022-07-18T10:50:33.891Z"
   },
   {
    "duration": 0,
    "start_time": "2022-07-18T10:50:33.892Z"
   },
   {
    "duration": 3,
    "start_time": "2022-07-18T10:58:31.588Z"
   },
   {
    "duration": 3,
    "start_time": "2022-07-18T10:58:31.894Z"
   },
   {
    "duration": 1375499,
    "start_time": "2022-07-18T10:58:32.351Z"
   },
   {
    "duration": 8,
    "start_time": "2022-07-18T11:21:27.852Z"
   },
   {
    "duration": 2826,
    "start_time": "2022-07-18T11:21:27.861Z"
   },
   {
    "duration": 5,
    "start_time": "2022-07-18T11:21:30.690Z"
   },
   {
    "duration": 9,
    "start_time": "2022-07-18T11:21:30.696Z"
   },
   {
    "duration": 14,
    "start_time": "2022-07-18T11:21:30.706Z"
   },
   {
    "duration": 1282,
    "start_time": "2022-07-18T11:21:30.721Z"
   },
   {
    "duration": 4,
    "start_time": "2022-07-18T11:21:32.005Z"
   },
   {
    "duration": 13,
    "start_time": "2022-07-18T11:21:32.010Z"
   },
   {
    "duration": 0,
    "start_time": "2022-07-18T11:21:32.025Z"
   },
   {
    "duration": 4,
    "start_time": "2022-07-18T11:24:16.068Z"
   },
   {
    "duration": 3,
    "start_time": "2022-07-18T11:24:16.730Z"
   },
   {
    "duration": 810994,
    "start_time": "2022-07-18T11:24:17.750Z"
   },
   {
    "duration": 4,
    "start_time": "2022-07-18T11:37:48.746Z"
   },
   {
    "duration": 2007,
    "start_time": "2022-07-18T11:37:48.751Z"
   },
   {
    "duration": 6,
    "start_time": "2022-07-18T11:37:50.760Z"
   },
   {
    "duration": 8,
    "start_time": "2022-07-18T11:37:50.767Z"
   },
   {
    "duration": 6,
    "start_time": "2022-07-18T11:37:50.776Z"
   },
   {
    "duration": 7,
    "start_time": "2022-07-18T11:41:56.287Z"
   },
   {
    "duration": 83,
    "start_time": "2022-07-18T11:41:57.327Z"
   },
   {
    "duration": 1352,
    "start_time": "2022-07-18T11:42:13.168Z"
   },
   {
    "duration": 1103,
    "start_time": "2022-07-18T11:42:14.522Z"
   },
   {
    "duration": 136,
    "start_time": "2022-07-18T11:42:15.626Z"
   },
   {
    "duration": 52,
    "start_time": "2022-07-18T11:42:15.764Z"
   },
   {
    "duration": 15,
    "start_time": "2022-07-18T11:42:15.819Z"
   },
   {
    "duration": 94,
    "start_time": "2022-07-18T11:42:15.835Z"
   },
   {
    "duration": 96,
    "start_time": "2022-07-18T11:42:15.931Z"
   },
   {
    "duration": 126,
    "start_time": "2022-07-18T11:42:16.028Z"
   },
   {
    "duration": 199,
    "start_time": "2022-07-18T11:42:16.155Z"
   },
   {
    "duration": 32,
    "start_time": "2022-07-18T11:42:16.355Z"
   },
   {
    "duration": 199,
    "start_time": "2022-07-18T11:42:16.389Z"
   },
   {
    "duration": 18,
    "start_time": "2022-07-18T11:42:16.590Z"
   },
   {
    "duration": 42,
    "start_time": "2022-07-18T11:42:16.610Z"
   },
   {
    "duration": 206,
    "start_time": "2022-07-18T11:42:16.655Z"
   },
   {
    "duration": 28,
    "start_time": "2022-07-18T11:42:16.862Z"
   },
   {
    "duration": 270,
    "start_time": "2022-07-18T11:42:16.891Z"
   },
   {
    "duration": 211,
    "start_time": "2022-07-18T11:42:17.162Z"
   },
   {
    "duration": 105,
    "start_time": "2022-07-18T11:42:17.375Z"
   },
   {
    "duration": 182,
    "start_time": "2022-07-18T11:42:17.482Z"
   },
   {
    "duration": 49,
    "start_time": "2022-07-18T11:42:17.665Z"
   },
   {
    "duration": 65,
    "start_time": "2022-07-18T11:42:17.715Z"
   },
   {
    "duration": 12,
    "start_time": "2022-07-18T11:42:17.783Z"
   },
   {
    "duration": 252,
    "start_time": "2022-07-18T11:42:17.796Z"
   },
   {
    "duration": 323,
    "start_time": "2022-07-18T11:42:18.050Z"
   },
   {
    "duration": 83,
    "start_time": "2022-07-18T11:42:18.375Z"
   },
   {
    "duration": 86,
    "start_time": "2022-07-18T11:42:18.459Z"
   },
   {
    "duration": 41,
    "start_time": "2022-07-18T11:42:18.547Z"
   },
   {
    "duration": 58,
    "start_time": "2022-07-18T11:42:18.590Z"
   },
   {
    "duration": 24,
    "start_time": "2022-07-18T11:42:18.649Z"
   },
   {
    "duration": 93,
    "start_time": "2022-07-18T11:42:18.675Z"
   },
   {
    "duration": 376,
    "start_time": "2022-07-18T11:42:18.770Z"
   },
   {
    "duration": 230,
    "start_time": "2022-07-18T11:42:19.148Z"
   },
   {
    "duration": 88,
    "start_time": "2022-07-18T11:42:19.380Z"
   },
   {
    "duration": 98,
    "start_time": "2022-07-18T11:42:19.469Z"
   },
   {
    "duration": 3,
    "start_time": "2022-07-18T11:42:19.569Z"
   },
   {
    "duration": 239,
    "start_time": "2022-07-18T11:42:19.573Z"
   },
   {
    "duration": 5,
    "start_time": "2022-07-18T11:42:19.814Z"
   },
   {
    "duration": 625,
    "start_time": "2022-07-18T11:42:19.821Z"
   },
   {
    "duration": 387,
    "start_time": "2022-07-18T11:42:20.448Z"
   },
   {
    "duration": 18,
    "start_time": "2022-07-18T11:42:20.837Z"
   },
   {
    "duration": 3,
    "start_time": "2022-07-18T11:42:23.238Z"
   },
   {
    "duration": 3,
    "start_time": "2022-07-18T11:42:23.786Z"
   },
   {
    "duration": 163855,
    "start_time": "2022-07-18T11:42:24.298Z"
   },
   {
    "duration": 91,
    "start_time": "2022-07-18T11:45:08.156Z"
   },
   {
    "duration": 203,
    "start_time": "2022-07-18T11:45:08.250Z"
   },
   {
    "duration": 91,
    "start_time": "2022-07-18T11:45:08.456Z"
   },
   {
    "duration": 9,
    "start_time": "2022-07-18T11:45:08.550Z"
   },
   {
    "duration": 8,
    "start_time": "2022-07-18T11:45:08.561Z"
   },
   {
    "duration": 1432796,
    "start_time": "2022-07-18T11:45:08.571Z"
   },
   {
    "duration": 4,
    "start_time": "2022-07-18T12:09:01.369Z"
   },
   {
    "duration": 2919,
    "start_time": "2022-07-18T12:09:01.375Z"
   },
   {
    "duration": 6,
    "start_time": "2022-07-18T12:09:04.297Z"
   },
   {
    "duration": 3,
    "start_time": "2022-07-18T12:12:14.638Z"
   },
   {
    "duration": 3,
    "start_time": "2022-07-18T12:12:15.457Z"
   },
   {
    "duration": 1418,
    "start_time": "2022-07-18T12:22:05.844Z"
   },
   {
    "duration": 805,
    "start_time": "2022-07-18T12:22:07.264Z"
   },
   {
    "duration": 139,
    "start_time": "2022-07-18T12:22:08.071Z"
   },
   {
    "duration": 55,
    "start_time": "2022-07-18T12:22:08.212Z"
   },
   {
    "duration": 29,
    "start_time": "2022-07-18T12:22:08.269Z"
   },
   {
    "duration": 109,
    "start_time": "2022-07-18T12:22:08.299Z"
   },
   {
    "duration": 89,
    "start_time": "2022-07-18T12:22:08.410Z"
   },
   {
    "duration": 124,
    "start_time": "2022-07-18T12:22:08.500Z"
   },
   {
    "duration": 213,
    "start_time": "2022-07-18T12:22:08.626Z"
   },
   {
    "duration": 35,
    "start_time": "2022-07-18T12:22:08.846Z"
   },
   {
    "duration": 242,
    "start_time": "2022-07-18T12:22:08.883Z"
   },
   {
    "duration": 31,
    "start_time": "2022-07-18T12:22:09.128Z"
   },
   {
    "duration": 61,
    "start_time": "2022-07-18T12:22:09.161Z"
   },
   {
    "duration": 213,
    "start_time": "2022-07-18T12:22:09.224Z"
   },
   {
    "duration": 33,
    "start_time": "2022-07-18T12:22:09.439Z"
   },
   {
    "duration": 252,
    "start_time": "2022-07-18T12:22:09.473Z"
   },
   {
    "duration": 171,
    "start_time": "2022-07-18T12:22:09.727Z"
   },
   {
    "duration": 98,
    "start_time": "2022-07-18T12:22:09.900Z"
   },
   {
    "duration": 169,
    "start_time": "2022-07-18T12:22:10.000Z"
   },
   {
    "duration": 31,
    "start_time": "2022-07-18T12:22:10.171Z"
   },
   {
    "duration": 45,
    "start_time": "2022-07-18T12:22:10.203Z"
   },
   {
    "duration": 33,
    "start_time": "2022-07-18T12:22:10.250Z"
   },
   {
    "duration": 156,
    "start_time": "2022-07-18T12:22:10.284Z"
   },
   {
    "duration": 155,
    "start_time": "2022-07-18T12:22:10.442Z"
   },
   {
    "duration": 31,
    "start_time": "2022-07-18T12:22:10.598Z"
   },
   {
    "duration": 46,
    "start_time": "2022-07-18T12:22:10.630Z"
   },
   {
    "duration": 45,
    "start_time": "2022-07-18T12:22:10.678Z"
   },
   {
    "duration": 22,
    "start_time": "2022-07-18T12:22:10.726Z"
   },
   {
    "duration": 23,
    "start_time": "2022-07-18T12:22:10.751Z"
   },
   {
    "duration": 36,
    "start_time": "2022-07-18T12:22:10.776Z"
   },
   {
    "duration": 175,
    "start_time": "2022-07-18T12:22:10.814Z"
   },
   {
    "duration": 88,
    "start_time": "2022-07-18T12:22:10.991Z"
   },
   {
    "duration": 38,
    "start_time": "2022-07-18T12:22:11.081Z"
   },
   {
    "duration": 52,
    "start_time": "2022-07-18T12:22:11.121Z"
   },
   {
    "duration": 3,
    "start_time": "2022-07-18T12:22:11.175Z"
   },
   {
    "duration": 147,
    "start_time": "2022-07-18T12:22:11.180Z"
   },
   {
    "duration": 5,
    "start_time": "2022-07-18T12:22:11.328Z"
   },
   {
    "duration": 597,
    "start_time": "2022-07-18T12:22:11.336Z"
   },
   {
    "duration": 399,
    "start_time": "2022-07-18T12:22:11.935Z"
   },
   {
    "duration": 10,
    "start_time": "2022-07-18T12:22:12.336Z"
   },
   {
    "duration": 6,
    "start_time": "2022-07-18T12:23:10.019Z"
   },
   {
    "duration": 819,
    "start_time": "2022-07-18T12:23:10.029Z"
   },
   {
    "duration": 127,
    "start_time": "2022-07-18T12:23:10.850Z"
   },
   {
    "duration": 42,
    "start_time": "2022-07-18T12:23:10.978Z"
   },
   {
    "duration": 27,
    "start_time": "2022-07-18T12:23:11.021Z"
   },
   {
    "duration": 97,
    "start_time": "2022-07-18T12:23:11.051Z"
   },
   {
    "duration": 97,
    "start_time": "2022-07-18T12:23:11.150Z"
   },
   {
    "duration": 134,
    "start_time": "2022-07-18T12:23:11.249Z"
   },
   {
    "duration": 205,
    "start_time": "2022-07-18T12:23:11.385Z"
   },
   {
    "duration": 28,
    "start_time": "2022-07-18T12:23:11.592Z"
   },
   {
    "duration": 202,
    "start_time": "2022-07-18T12:23:11.622Z"
   },
   {
    "duration": 23,
    "start_time": "2022-07-18T12:23:11.827Z"
   },
   {
    "duration": 47,
    "start_time": "2022-07-18T12:23:11.852Z"
   },
   {
    "duration": 209,
    "start_time": "2022-07-18T12:23:11.901Z"
   },
   {
    "duration": 38,
    "start_time": "2022-07-18T12:23:12.113Z"
   },
   {
    "duration": 184,
    "start_time": "2022-07-18T12:23:12.153Z"
   },
   {
    "duration": 179,
    "start_time": "2022-07-18T12:23:12.343Z"
   },
   {
    "duration": 99,
    "start_time": "2022-07-18T12:23:12.524Z"
   },
   {
    "duration": 169,
    "start_time": "2022-07-18T12:23:12.625Z"
   },
   {
    "duration": 32,
    "start_time": "2022-07-18T12:23:12.796Z"
   },
   {
    "duration": 50,
    "start_time": "2022-07-18T12:23:12.830Z"
   },
   {
    "duration": 14,
    "start_time": "2022-07-18T12:23:12.881Z"
   },
   {
    "duration": 254,
    "start_time": "2022-07-18T12:23:12.897Z"
   },
   {
    "duration": 160,
    "start_time": "2022-07-18T12:23:13.152Z"
   },
   {
    "duration": 41,
    "start_time": "2022-07-18T12:23:13.314Z"
   },
   {
    "duration": 43,
    "start_time": "2022-07-18T12:23:13.357Z"
   },
   {
    "duration": 34,
    "start_time": "2022-07-18T12:23:13.402Z"
   },
   {
    "duration": 15,
    "start_time": "2022-07-18T12:23:13.437Z"
   },
   {
    "duration": 19,
    "start_time": "2022-07-18T12:23:13.454Z"
   },
   {
    "duration": 91,
    "start_time": "2022-07-18T12:23:13.475Z"
   },
   {
    "duration": 322,
    "start_time": "2022-07-18T12:23:13.568Z"
   },
   {
    "duration": 181,
    "start_time": "2022-07-18T12:23:13.892Z"
   },
   {
    "duration": 93,
    "start_time": "2022-07-18T12:23:14.075Z"
   },
   {
    "duration": 107,
    "start_time": "2022-07-18T12:23:14.170Z"
   },
   {
    "duration": 4,
    "start_time": "2022-07-18T12:23:14.279Z"
   },
   {
    "duration": 391,
    "start_time": "2022-07-18T12:23:14.284Z"
   },
   {
    "duration": 6,
    "start_time": "2022-07-18T12:23:14.677Z"
   },
   {
    "duration": 985,
    "start_time": "2022-07-18T12:23:14.685Z"
   },
   {
    "duration": 375,
    "start_time": "2022-07-18T12:23:15.671Z"
   },
   {
    "duration": 5,
    "start_time": "2022-07-18T12:23:16.048Z"
   },
   {
    "duration": 3,
    "start_time": "2022-07-18T12:23:18.267Z"
   },
   {
    "duration": 4,
    "start_time": "2022-07-18T12:23:18.675Z"
   },
   {
    "duration": 85436,
    "start_time": "2022-07-18T12:23:19.707Z"
   },
   {
    "duration": 103874,
    "start_time": "2022-07-18T12:24:56.081Z"
   },
   {
    "duration": 3,
    "start_time": "2022-07-18T12:26:45.092Z"
   },
   {
    "duration": 4,
    "start_time": "2022-07-18T12:26:46.320Z"
   },
   {
    "duration": 11262,
    "start_time": "2022-07-18T12:26:47.784Z"
   },
   {
    "duration": 3,
    "start_time": "2022-07-18T12:27:29.831Z"
   },
   {
    "duration": 3,
    "start_time": "2022-07-18T12:27:30.244Z"
   },
   {
    "duration": 122425,
    "start_time": "2022-07-18T12:27:31.237Z"
   },
   {
    "duration": 3,
    "start_time": "2022-07-18T12:29:36.828Z"
   },
   {
    "duration": 4,
    "start_time": "2022-07-18T12:29:37.233Z"
   },
   {
    "duration": 8685,
    "start_time": "2022-07-18T12:29:38.129Z"
   },
   {
    "duration": 3,
    "start_time": "2022-07-18T12:30:00.633Z"
   },
   {
    "duration": 4,
    "start_time": "2022-07-18T12:30:01.965Z"
   },
   {
    "duration": 31374,
    "start_time": "2022-07-18T12:30:03.594Z"
   },
   {
    "duration": 3,
    "start_time": "2022-07-18T12:30:37.434Z"
   },
   {
    "duration": 4,
    "start_time": "2022-07-18T12:30:38.004Z"
   },
   {
    "duration": 10848,
    "start_time": "2022-07-18T12:30:39.696Z"
   },
   {
    "duration": 4,
    "start_time": "2022-07-18T12:30:56.033Z"
   },
   {
    "duration": 18,
    "start_time": "2022-07-18T12:30:57.276Z"
   },
   {
    "duration": 15,
    "start_time": "2022-07-18T12:31:09.703Z"
   },
   {
    "duration": 2,
    "start_time": "2022-07-18T12:31:46.634Z"
   },
   {
    "duration": 3,
    "start_time": "2022-07-18T12:31:48.095Z"
   },
   {
    "duration": 94407,
    "start_time": "2022-07-18T12:31:53.016Z"
   },
   {
    "duration": 3,
    "start_time": "2022-07-18T12:33:29.984Z"
   },
   {
    "duration": 4,
    "start_time": "2022-07-18T12:33:30.604Z"
   },
   {
    "duration": 106,
    "start_time": "2022-07-18T12:35:14.264Z"
   },
   {
    "duration": 2,
    "start_time": "2022-07-18T12:35:16.144Z"
   },
   {
    "duration": 3,
    "start_time": "2022-07-18T12:35:16.824Z"
   },
   {
    "duration": 127,
    "start_time": "2022-07-18T12:35:17.705Z"
   },
   {
    "duration": 7096,
    "start_time": "2022-07-18T12:36:04.555Z"
   },
   {
    "duration": 2,
    "start_time": "2022-07-18T12:36:11.655Z"
   },
   {
    "duration": 12,
    "start_time": "2022-07-18T12:36:11.659Z"
   },
   {
    "duration": 3,
    "start_time": "2022-07-18T12:37:15.634Z"
   },
   {
    "duration": 6,
    "start_time": "2022-07-18T12:37:15.639Z"
   },
   {
    "duration": 18831,
    "start_time": "2022-07-18T12:37:15.646Z"
   },
   {
    "duration": 3,
    "start_time": "2022-07-18T12:37:35.590Z"
   },
   {
    "duration": 2,
    "start_time": "2022-07-18T12:37:36.209Z"
   },
   {
    "duration": 93408,
    "start_time": "2022-07-18T12:37:37.150Z"
   },
   {
    "duration": 1435,
    "start_time": "2022-07-18T12:39:28.760Z"
   },
   {
    "duration": 834,
    "start_time": "2022-07-18T12:39:30.197Z"
   },
   {
    "duration": 138,
    "start_time": "2022-07-18T12:39:31.033Z"
   },
   {
    "duration": 48,
    "start_time": "2022-07-18T12:39:31.173Z"
   },
   {
    "duration": 29,
    "start_time": "2022-07-18T12:39:31.224Z"
   },
   {
    "duration": 98,
    "start_time": "2022-07-18T12:39:31.254Z"
   },
   {
    "duration": 99,
    "start_time": "2022-07-18T12:39:31.354Z"
   },
   {
    "duration": 145,
    "start_time": "2022-07-18T12:39:31.454Z"
   },
   {
    "duration": 233,
    "start_time": "2022-07-18T12:39:31.601Z"
   },
   {
    "duration": 33,
    "start_time": "2022-07-18T12:39:31.836Z"
   },
   {
    "duration": 205,
    "start_time": "2022-07-18T12:39:31.872Z"
   },
   {
    "duration": 23,
    "start_time": "2022-07-18T12:39:32.078Z"
   },
   {
    "duration": 49,
    "start_time": "2022-07-18T12:39:32.103Z"
   },
   {
    "duration": 221,
    "start_time": "2022-07-18T12:39:32.155Z"
   },
   {
    "duration": 29,
    "start_time": "2022-07-18T12:39:32.378Z"
   },
   {
    "duration": 272,
    "start_time": "2022-07-18T12:39:32.408Z"
   },
   {
    "duration": 181,
    "start_time": "2022-07-18T12:39:32.682Z"
   },
   {
    "duration": 125,
    "start_time": "2022-07-18T12:39:32.864Z"
   },
   {
    "duration": 180,
    "start_time": "2022-07-18T12:39:32.990Z"
   },
   {
    "duration": 47,
    "start_time": "2022-07-18T12:39:33.172Z"
   },
   {
    "duration": 45,
    "start_time": "2022-07-18T12:39:33.221Z"
   },
   {
    "duration": 12,
    "start_time": "2022-07-18T12:39:33.268Z"
   },
   {
    "duration": 179,
    "start_time": "2022-07-18T12:39:33.282Z"
   },
   {
    "duration": 174,
    "start_time": "2022-07-18T12:39:33.462Z"
   },
   {
    "duration": 52,
    "start_time": "2022-07-18T12:39:33.639Z"
   },
   {
    "duration": 53,
    "start_time": "2022-07-18T12:39:33.693Z"
   },
   {
    "duration": 33,
    "start_time": "2022-07-18T12:39:33.748Z"
   },
   {
    "duration": 10,
    "start_time": "2022-07-18T12:39:33.782Z"
   },
   {
    "duration": 20,
    "start_time": "2022-07-18T12:39:33.794Z"
   },
   {
    "duration": 65,
    "start_time": "2022-07-18T12:39:33.815Z"
   },
   {
    "duration": 201,
    "start_time": "2022-07-18T12:39:33.883Z"
   },
   {
    "duration": 80,
    "start_time": "2022-07-18T12:39:34.085Z"
   },
   {
    "duration": 36,
    "start_time": "2022-07-18T12:39:34.166Z"
   },
   {
    "duration": 73,
    "start_time": "2022-07-18T12:39:34.204Z"
   },
   {
    "duration": 7,
    "start_time": "2022-07-18T12:39:34.280Z"
   },
   {
    "duration": 147,
    "start_time": "2022-07-18T12:39:34.289Z"
   },
   {
    "duration": 9,
    "start_time": "2022-07-18T12:39:34.438Z"
   },
   {
    "duration": 695,
    "start_time": "2022-07-18T12:39:34.449Z"
   },
   {
    "duration": 427,
    "start_time": "2022-07-18T12:39:35.146Z"
   },
   {
    "duration": 6,
    "start_time": "2022-07-18T12:39:35.575Z"
   },
   {
    "duration": 4,
    "start_time": "2022-07-18T12:39:41.379Z"
   },
   {
    "duration": 3,
    "start_time": "2022-07-18T12:39:42.502Z"
   },
   {
    "duration": 54,
    "start_time": "2022-07-18T12:40:30.879Z"
   },
   {
    "duration": 0,
    "start_time": "2022-07-18T12:40:30.935Z"
   },
   {
    "duration": 0,
    "start_time": "2022-07-18T12:40:30.936Z"
   },
   {
    "duration": 64,
    "start_time": "2022-07-18T12:40:34.539Z"
   },
   {
    "duration": 3,
    "start_time": "2022-07-18T12:40:41.233Z"
   },
   {
    "duration": 4,
    "start_time": "2022-07-18T12:40:43.241Z"
   },
   {
    "duration": 159495,
    "start_time": "2022-07-18T12:40:44.531Z"
   },
   {
    "duration": 5,
    "start_time": "2022-07-18T12:43:54.979Z"
   },
   {
    "duration": 4,
    "start_time": "2022-07-18T12:44:20.981Z"
   },
   {
    "duration": 3,
    "start_time": "2022-07-18T12:44:22.440Z"
   },
   {
    "duration": 26614,
    "start_time": "2022-07-18T12:44:24.069Z"
   },
   {
    "duration": 1473,
    "start_time": "2022-07-18T12:44:59.013Z"
   },
   {
    "duration": 808,
    "start_time": "2022-07-18T12:45:00.488Z"
   },
   {
    "duration": 133,
    "start_time": "2022-07-18T12:45:01.298Z"
   },
   {
    "duration": 104,
    "start_time": "2022-07-18T12:45:01.433Z"
   },
   {
    "duration": 36,
    "start_time": "2022-07-18T12:45:01.539Z"
   },
   {
    "duration": 105,
    "start_time": "2022-07-18T12:45:01.577Z"
   },
   {
    "duration": 89,
    "start_time": "2022-07-18T12:45:01.684Z"
   },
   {
    "duration": 294,
    "start_time": "2022-07-18T12:45:01.775Z"
   },
   {
    "duration": 419,
    "start_time": "2022-07-18T12:45:02.071Z"
   },
   {
    "duration": 30,
    "start_time": "2022-07-18T12:45:02.546Z"
   },
   {
    "duration": 414,
    "start_time": "2022-07-18T12:45:02.578Z"
   },
   {
    "duration": 18,
    "start_time": "2022-07-18T12:45:03.047Z"
   },
   {
    "duration": 90,
    "start_time": "2022-07-18T12:45:03.067Z"
   },
   {
    "duration": 414,
    "start_time": "2022-07-18T12:45:03.160Z"
   },
   {
    "duration": 79,
    "start_time": "2022-07-18T12:45:03.576Z"
   },
   {
    "duration": 451,
    "start_time": "2022-07-18T12:45:03.656Z"
   },
   {
    "duration": 209,
    "start_time": "2022-07-18T12:45:04.108Z"
   },
   {
    "duration": 107,
    "start_time": "2022-07-18T12:45:04.319Z"
   },
   {
    "duration": 191,
    "start_time": "2022-07-18T12:45:04.428Z"
   },
   {
    "duration": 34,
    "start_time": "2022-07-18T12:45:04.621Z"
   },
   {
    "duration": 42,
    "start_time": "2022-07-18T12:45:04.656Z"
   },
   {
    "duration": 12,
    "start_time": "2022-07-18T12:45:04.700Z"
   },
   {
    "duration": 234,
    "start_time": "2022-07-18T12:45:04.714Z"
   },
   {
    "duration": 231,
    "start_time": "2022-07-18T12:45:04.950Z"
   },
   {
    "duration": 32,
    "start_time": "2022-07-18T12:45:05.184Z"
   },
   {
    "duration": 46,
    "start_time": "2022-07-18T12:45:05.218Z"
   },
   {
    "duration": 43,
    "start_time": "2022-07-18T12:45:05.266Z"
   },
   {
    "duration": 15,
    "start_time": "2022-07-18T12:45:05.311Z"
   },
   {
    "duration": 36,
    "start_time": "2022-07-18T12:45:05.328Z"
   },
   {
    "duration": 49,
    "start_time": "2022-07-18T12:45:05.368Z"
   },
   {
    "duration": 181,
    "start_time": "2022-07-18T12:45:05.419Z"
   },
   {
    "duration": 80,
    "start_time": "2022-07-18T12:45:05.602Z"
   },
   {
    "duration": 38,
    "start_time": "2022-07-18T12:45:05.684Z"
   },
   {
    "duration": 73,
    "start_time": "2022-07-18T12:45:05.724Z"
   },
   {
    "duration": 3,
    "start_time": "2022-07-18T12:45:05.799Z"
   },
   {
    "duration": 170,
    "start_time": "2022-07-18T12:45:05.804Z"
   },
   {
    "duration": 6,
    "start_time": "2022-07-18T12:45:05.976Z"
   },
   {
    "duration": 734,
    "start_time": "2022-07-18T12:45:05.983Z"
   },
   {
    "duration": 398,
    "start_time": "2022-07-18T12:45:06.719Z"
   },
   {
    "duration": 4,
    "start_time": "2022-07-18T12:45:07.119Z"
   },
   {
    "duration": 3,
    "start_time": "2022-07-18T12:45:11.112Z"
   },
   {
    "duration": 3,
    "start_time": "2022-07-18T12:45:11.972Z"
   },
   {
    "duration": 1553,
    "start_time": "2022-07-18T12:49:24.622Z"
   },
   {
    "duration": 856,
    "start_time": "2022-07-18T12:49:26.178Z"
   },
   {
    "duration": 160,
    "start_time": "2022-07-18T12:49:27.035Z"
   },
   {
    "duration": 56,
    "start_time": "2022-07-18T12:49:27.197Z"
   },
   {
    "duration": 19,
    "start_time": "2022-07-18T12:49:27.255Z"
   },
   {
    "duration": 97,
    "start_time": "2022-07-18T12:49:27.276Z"
   },
   {
    "duration": 90,
    "start_time": "2022-07-18T12:49:27.376Z"
   },
   {
    "duration": 141,
    "start_time": "2022-07-18T12:49:27.468Z"
   },
   {
    "duration": 215,
    "start_time": "2022-07-18T12:49:27.613Z"
   },
   {
    "duration": 43,
    "start_time": "2022-07-18T12:49:27.831Z"
   },
   {
    "duration": 192,
    "start_time": "2022-07-18T12:49:27.876Z"
   },
   {
    "duration": 19,
    "start_time": "2022-07-18T12:49:28.070Z"
   },
   {
    "duration": 56,
    "start_time": "2022-07-18T12:49:28.090Z"
   },
   {
    "duration": 205,
    "start_time": "2022-07-18T12:49:28.148Z"
   },
   {
    "duration": 29,
    "start_time": "2022-07-18T12:49:28.354Z"
   },
   {
    "duration": 304,
    "start_time": "2022-07-18T12:49:28.384Z"
   },
   {
    "duration": 489,
    "start_time": "2022-07-18T12:49:28.691Z"
   },
   {
    "duration": 264,
    "start_time": "2022-07-18T12:49:29.182Z"
   },
   {
    "duration": 319,
    "start_time": "2022-07-18T12:49:29.448Z"
   },
   {
    "duration": 83,
    "start_time": "2022-07-18T12:49:29.768Z"
   },
   {
    "duration": 43,
    "start_time": "2022-07-18T12:49:29.852Z"
   },
   {
    "duration": 8,
    "start_time": "2022-07-18T12:49:29.947Z"
   },
   {
    "duration": 330,
    "start_time": "2022-07-18T12:49:29.957Z"
   },
   {
    "duration": 557,
    "start_time": "2022-07-18T12:49:30.289Z"
   },
   {
    "duration": 44,
    "start_time": "2022-07-18T12:49:30.848Z"
   },
   {
    "duration": 46,
    "start_time": "2022-07-18T12:49:30.947Z"
   },
   {
    "duration": 61,
    "start_time": "2022-07-18T12:49:30.994Z"
   },
   {
    "duration": 32,
    "start_time": "2022-07-18T12:49:31.059Z"
   },
   {
    "duration": 34,
    "start_time": "2022-07-18T12:49:31.093Z"
   },
   {
    "duration": 40,
    "start_time": "2022-07-18T12:49:31.129Z"
   },
   {
    "duration": 174,
    "start_time": "2022-07-18T12:49:31.171Z"
   },
   {
    "duration": 77,
    "start_time": "2022-07-18T12:49:31.347Z"
   },
   {
    "duration": 58,
    "start_time": "2022-07-18T12:49:31.426Z"
   },
   {
    "duration": 75,
    "start_time": "2022-07-18T12:49:31.486Z"
   },
   {
    "duration": 4,
    "start_time": "2022-07-18T12:49:31.565Z"
   },
   {
    "duration": 173,
    "start_time": "2022-07-18T12:49:31.571Z"
   },
   {
    "duration": 5,
    "start_time": "2022-07-18T12:49:31.747Z"
   },
   {
    "duration": 941,
    "start_time": "2022-07-18T12:49:31.754Z"
   },
   {
    "duration": 403,
    "start_time": "2022-07-18T12:49:32.697Z"
   },
   {
    "duration": 5,
    "start_time": "2022-07-18T12:49:33.102Z"
   },
   {
    "duration": 107,
    "start_time": "2022-07-18T12:49:35.053Z"
   },
   {
    "duration": 3,
    "start_time": "2022-07-18T12:49:41.783Z"
   },
   {
    "duration": 3,
    "start_time": "2022-07-18T12:49:42.795Z"
   },
   {
    "duration": 102557,
    "start_time": "2022-07-18T12:49:45.769Z"
   },
   {
    "duration": 3,
    "start_time": "2022-07-18T12:51:36.234Z"
   },
   {
    "duration": 3,
    "start_time": "2022-07-18T12:51:37.655Z"
   },
   {
    "duration": 174434,
    "start_time": "2022-07-18T12:51:38.915Z"
   },
   {
    "duration": 9,
    "start_time": "2022-07-18T12:54:53.295Z"
   },
   {
    "duration": 4,
    "start_time": "2022-07-18T12:55:08.456Z"
   },
   {
    "duration": 3,
    "start_time": "2022-07-18T12:55:12.984Z"
   },
   {
    "duration": 3,
    "start_time": "2022-07-18T12:55:13.952Z"
   },
   {
    "duration": 95111,
    "start_time": "2022-07-18T12:55:15.103Z"
   },
   {
    "duration": 59,
    "start_time": "2022-07-18T12:56:51.437Z"
   },
   {
    "duration": 10,
    "start_time": "2022-07-18T12:56:58.442Z"
   },
   {
    "duration": 3,
    "start_time": "2022-07-18T12:57:15.898Z"
   },
   {
    "duration": 1426,
    "start_time": "2022-07-18T13:01:49.263Z"
   },
   {
    "duration": 794,
    "start_time": "2022-07-18T13:01:50.691Z"
   },
   {
    "duration": 132,
    "start_time": "2022-07-18T13:01:51.487Z"
   },
   {
    "duration": 53,
    "start_time": "2022-07-18T13:01:51.622Z"
   },
   {
    "duration": 21,
    "start_time": "2022-07-18T13:01:51.677Z"
   },
   {
    "duration": 93,
    "start_time": "2022-07-18T13:01:51.699Z"
   },
   {
    "duration": 86,
    "start_time": "2022-07-18T13:01:51.794Z"
   },
   {
    "duration": 125,
    "start_time": "2022-07-18T13:01:51.881Z"
   },
   {
    "duration": 216,
    "start_time": "2022-07-18T13:01:52.008Z"
   },
   {
    "duration": 36,
    "start_time": "2022-07-18T13:01:52.228Z"
   },
   {
    "duration": 179,
    "start_time": "2022-07-18T13:01:52.266Z"
   },
   {
    "duration": 17,
    "start_time": "2022-07-18T13:01:52.447Z"
   },
   {
    "duration": 30,
    "start_time": "2022-07-18T13:01:52.466Z"
   },
   {
    "duration": 205,
    "start_time": "2022-07-18T13:01:52.498Z"
   },
   {
    "duration": 29,
    "start_time": "2022-07-18T13:01:52.705Z"
   },
   {
    "duration": 243,
    "start_time": "2022-07-18T13:01:52.745Z"
   },
   {
    "duration": 170,
    "start_time": "2022-07-18T13:01:52.990Z"
   },
   {
    "duration": 95,
    "start_time": "2022-07-18T13:01:53.161Z"
   },
   {
    "duration": 168,
    "start_time": "2022-07-18T13:01:53.258Z"
   },
   {
    "duration": 35,
    "start_time": "2022-07-18T13:01:53.427Z"
   },
   {
    "duration": 48,
    "start_time": "2022-07-18T13:01:53.464Z"
   },
   {
    "duration": 14,
    "start_time": "2022-07-18T13:01:53.514Z"
   },
   {
    "duration": 160,
    "start_time": "2022-07-18T13:01:53.529Z"
   },
   {
    "duration": 164,
    "start_time": "2022-07-18T13:01:53.691Z"
   },
   {
    "duration": 39,
    "start_time": "2022-07-18T13:01:53.857Z"
   },
   {
    "duration": 52,
    "start_time": "2022-07-18T13:01:53.899Z"
   },
   {
    "duration": 46,
    "start_time": "2022-07-18T13:01:53.952Z"
   },
   {
    "duration": 11,
    "start_time": "2022-07-18T13:01:54.001Z"
   },
   {
    "duration": 35,
    "start_time": "2022-07-18T13:01:54.014Z"
   },
   {
    "duration": 40,
    "start_time": "2022-07-18T13:01:54.051Z"
   },
   {
    "duration": 179,
    "start_time": "2022-07-18T13:01:54.093Z"
   },
   {
    "duration": 84,
    "start_time": "2022-07-18T13:01:54.274Z"
   },
   {
    "duration": 35,
    "start_time": "2022-07-18T13:01:54.360Z"
   },
   {
    "duration": 69,
    "start_time": "2022-07-18T13:01:54.396Z"
   },
   {
    "duration": 4,
    "start_time": "2022-07-18T13:01:54.467Z"
   },
   {
    "duration": 149,
    "start_time": "2022-07-18T13:01:54.472Z"
   },
   {
    "duration": 5,
    "start_time": "2022-07-18T13:01:54.623Z"
   },
   {
    "duration": 641,
    "start_time": "2022-07-18T13:01:54.630Z"
   },
   {
    "duration": 599,
    "start_time": "2022-07-18T13:01:55.272Z"
   },
   {
    "duration": 5,
    "start_time": "2022-07-18T13:01:55.872Z"
   },
   {
    "duration": 3,
    "start_time": "2022-07-18T13:02:12.736Z"
   },
   {
    "duration": 4,
    "start_time": "2022-07-18T13:02:13.944Z"
   },
   {
    "duration": 209869,
    "start_time": "2022-07-18T13:02:24.058Z"
   },
   {
    "duration": 1393,
    "start_time": "2022-07-18T13:07:05.782Z"
   },
   {
    "duration": 849,
    "start_time": "2022-07-18T13:07:07.177Z"
   },
   {
    "duration": 140,
    "start_time": "2022-07-18T13:07:08.028Z"
   },
   {
    "duration": 56,
    "start_time": "2022-07-18T13:07:08.169Z"
   },
   {
    "duration": 27,
    "start_time": "2022-07-18T13:07:08.228Z"
   },
   {
    "duration": 99,
    "start_time": "2022-07-18T13:07:08.257Z"
   },
   {
    "duration": 92,
    "start_time": "2022-07-18T13:07:08.358Z"
   },
   {
    "duration": 140,
    "start_time": "2022-07-18T13:07:08.452Z"
   },
   {
    "duration": 198,
    "start_time": "2022-07-18T13:07:08.593Z"
   },
   {
    "duration": 29,
    "start_time": "2022-07-18T13:07:08.793Z"
   },
   {
    "duration": 296,
    "start_time": "2022-07-18T13:07:08.824Z"
   },
   {
    "duration": 30,
    "start_time": "2022-07-18T13:07:09.122Z"
   },
   {
    "duration": 50,
    "start_time": "2022-07-18T13:07:09.154Z"
   },
   {
    "duration": 219,
    "start_time": "2022-07-18T13:07:09.208Z"
   },
   {
    "duration": 40,
    "start_time": "2022-07-18T13:07:09.429Z"
   },
   {
    "duration": 260,
    "start_time": "2022-07-18T13:07:09.471Z"
   },
   {
    "duration": 176,
    "start_time": "2022-07-18T13:07:09.733Z"
   },
   {
    "duration": 113,
    "start_time": "2022-07-18T13:07:09.910Z"
   },
   {
    "duration": 171,
    "start_time": "2022-07-18T13:07:10.025Z"
   },
   {
    "duration": 32,
    "start_time": "2022-07-18T13:07:10.198Z"
   },
   {
    "duration": 48,
    "start_time": "2022-07-18T13:07:10.232Z"
   },
   {
    "duration": 11,
    "start_time": "2022-07-18T13:07:10.282Z"
   },
   {
    "duration": 169,
    "start_time": "2022-07-18T13:07:10.295Z"
   },
   {
    "duration": 191,
    "start_time": "2022-07-18T13:07:10.466Z"
   },
   {
    "duration": 41,
    "start_time": "2022-07-18T13:07:10.659Z"
   },
   {
    "duration": 55,
    "start_time": "2022-07-18T13:07:10.703Z"
   },
   {
    "duration": 69,
    "start_time": "2022-07-18T13:07:10.760Z"
   },
   {
    "duration": 11,
    "start_time": "2022-07-18T13:07:10.831Z"
   },
   {
    "duration": 21,
    "start_time": "2022-07-18T13:07:10.847Z"
   },
   {
    "duration": 37,
    "start_time": "2022-07-18T13:07:10.870Z"
   },
   {
    "duration": 193,
    "start_time": "2022-07-18T13:07:10.909Z"
   },
   {
    "duration": 87,
    "start_time": "2022-07-18T13:07:11.106Z"
   },
   {
    "duration": 34,
    "start_time": "2022-07-18T13:07:11.195Z"
   },
   {
    "duration": 60,
    "start_time": "2022-07-18T13:07:11.231Z"
   },
   {
    "duration": 3,
    "start_time": "2022-07-18T13:07:11.293Z"
   },
   {
    "duration": 167,
    "start_time": "2022-07-18T13:07:11.297Z"
   },
   {
    "duration": 6,
    "start_time": "2022-07-18T13:07:11.465Z"
   },
   {
    "duration": 757,
    "start_time": "2022-07-18T13:07:11.473Z"
   },
   {
    "duration": 393,
    "start_time": "2022-07-18T13:07:12.232Z"
   },
   {
    "duration": 5,
    "start_time": "2022-07-18T13:07:12.627Z"
   },
   {
    "duration": 3,
    "start_time": "2022-07-18T13:07:18.831Z"
   },
   {
    "duration": 4,
    "start_time": "2022-07-18T13:07:19.254Z"
   },
   {
    "duration": 158625,
    "start_time": "2022-07-18T13:07:20.504Z"
   },
   {
    "duration": 17464,
    "start_time": "2022-07-18T13:10:27.295Z"
   },
   {
    "duration": 5,
    "start_time": "2022-07-18T13:10:48.595Z"
   },
   {
    "duration": 2,
    "start_time": "2022-07-18T13:10:49.343Z"
   },
   {
    "duration": 368471,
    "start_time": "2022-07-18T13:10:50.463Z"
   },
   {
    "duration": 15,
    "start_time": "2022-07-18T13:16:58.937Z"
   },
   {
    "duration": 0,
    "start_time": "2022-07-18T13:16:58.954Z"
   },
   {
    "duration": 0,
    "start_time": "2022-07-18T13:16:58.956Z"
   },
   {
    "duration": 3,
    "start_time": "2022-07-18T13:17:15.503Z"
   },
   {
    "duration": 4,
    "start_time": "2022-07-18T13:17:16.551Z"
   },
   {
    "duration": 72423,
    "start_time": "2022-07-18T13:17:17.696Z"
   },
   {
    "duration": 3,
    "start_time": "2022-07-18T13:18:33.504Z"
   },
   {
    "duration": 3,
    "start_time": "2022-07-18T13:18:34.475Z"
   },
   {
    "duration": 225755,
    "start_time": "2022-07-18T13:18:35.304Z"
   },
   {
    "duration": 3,
    "start_time": "2022-07-18T13:23:11.094Z"
   },
   {
    "duration": 3,
    "start_time": "2022-07-18T13:23:12.210Z"
   },
   {
    "duration": 1508,
    "start_time": "2022-07-18T13:36:32.423Z"
   },
   {
    "duration": 917,
    "start_time": "2022-07-18T13:36:33.933Z"
   },
   {
    "duration": 189,
    "start_time": "2022-07-18T13:36:34.852Z"
   },
   {
    "duration": 53,
    "start_time": "2022-07-18T13:36:35.045Z"
   },
   {
    "duration": 16,
    "start_time": "2022-07-18T13:36:35.100Z"
   },
   {
    "duration": 108,
    "start_time": "2022-07-18T13:36:35.118Z"
   },
   {
    "duration": 127,
    "start_time": "2022-07-18T13:36:35.228Z"
   },
   {
    "duration": 130,
    "start_time": "2022-07-18T13:36:35.357Z"
   },
   {
    "duration": 231,
    "start_time": "2022-07-18T13:36:35.489Z"
   },
   {
    "duration": 37,
    "start_time": "2022-07-18T13:36:35.724Z"
   },
   {
    "duration": 206,
    "start_time": "2022-07-18T13:36:35.763Z"
   },
   {
    "duration": 21,
    "start_time": "2022-07-18T13:36:35.971Z"
   },
   {
    "duration": 33,
    "start_time": "2022-07-18T13:36:35.994Z"
   },
   {
    "duration": 244,
    "start_time": "2022-07-18T13:36:36.049Z"
   },
   {
    "duration": 35,
    "start_time": "2022-07-18T13:36:36.347Z"
   },
   {
    "duration": 568,
    "start_time": "2022-07-18T13:36:36.384Z"
   },
   {
    "duration": 331,
    "start_time": "2022-07-18T13:36:36.954Z"
   },
   {
    "duration": 193,
    "start_time": "2022-07-18T13:36:37.287Z"
   },
   {
    "duration": 397,
    "start_time": "2022-07-18T13:36:37.482Z"
   },
   {
    "duration": 84,
    "start_time": "2022-07-18T13:36:37.881Z"
   },
   {
    "duration": 89,
    "start_time": "2022-07-18T13:36:37.967Z"
   },
   {
    "duration": 14,
    "start_time": "2022-07-18T13:36:38.058Z"
   },
   {
    "duration": 262,
    "start_time": "2022-07-18T13:36:38.074Z"
   },
   {
    "duration": 170,
    "start_time": "2022-07-18T13:36:38.338Z"
   },
   {
    "duration": 40,
    "start_time": "2022-07-18T13:36:38.509Z"
   },
   {
    "duration": 40,
    "start_time": "2022-07-18T13:36:38.551Z"
   },
   {
    "duration": 59,
    "start_time": "2022-07-18T13:36:38.593Z"
   },
   {
    "duration": 10,
    "start_time": "2022-07-18T13:36:38.654Z"
   },
   {
    "duration": 26,
    "start_time": "2022-07-18T13:36:38.667Z"
   },
   {
    "duration": 73,
    "start_time": "2022-07-18T13:36:38.696Z"
   },
   {
    "duration": 264,
    "start_time": "2022-07-18T13:36:38.772Z"
   },
   {
    "duration": 122,
    "start_time": "2022-07-18T13:36:39.038Z"
   },
   {
    "duration": 39,
    "start_time": "2022-07-18T13:36:39.162Z"
   },
   {
    "duration": 69,
    "start_time": "2022-07-18T13:36:39.202Z"
   },
   {
    "duration": 3,
    "start_time": "2022-07-18T13:36:39.273Z"
   },
   {
    "duration": 160,
    "start_time": "2022-07-18T13:36:39.278Z"
   },
   {
    "duration": 7,
    "start_time": "2022-07-18T13:36:39.440Z"
   },
   {
    "duration": 755,
    "start_time": "2022-07-18T13:36:39.449Z"
   },
   {
    "duration": 398,
    "start_time": "2022-07-18T13:36:40.206Z"
   },
   {
    "duration": 5,
    "start_time": "2022-07-18T13:36:40.606Z"
   },
   {
    "duration": 9,
    "start_time": "2022-07-18T13:36:40.615Z"
   },
   {
    "duration": 5,
    "start_time": "2022-07-18T13:36:43.522Z"
   },
   {
    "duration": 1446,
    "start_time": "2022-07-18T13:38:11.852Z"
   },
   {
    "duration": 1690,
    "start_time": "2022-07-18T13:38:13.300Z"
   },
   {
    "duration": 275,
    "start_time": "2022-07-18T13:38:14.992Z"
   },
   {
    "duration": 120,
    "start_time": "2022-07-18T13:38:15.269Z"
   },
   {
    "duration": 65,
    "start_time": "2022-07-18T13:38:15.392Z"
   },
   {
    "duration": 191,
    "start_time": "2022-07-18T13:38:15.459Z"
   },
   {
    "duration": 134,
    "start_time": "2022-07-18T13:38:15.652Z"
   },
   {
    "duration": 174,
    "start_time": "2022-07-18T13:38:15.788Z"
   },
   {
    "duration": 207,
    "start_time": "2022-07-18T13:38:15.963Z"
   },
   {
    "duration": 35,
    "start_time": "2022-07-18T13:38:16.172Z"
   },
   {
    "duration": 194,
    "start_time": "2022-07-18T13:38:16.209Z"
   },
   {
    "duration": 23,
    "start_time": "2022-07-18T13:38:16.405Z"
   },
   {
    "duration": 60,
    "start_time": "2022-07-18T13:38:16.430Z"
   },
   {
    "duration": 213,
    "start_time": "2022-07-18T13:38:16.494Z"
   },
   {
    "duration": 39,
    "start_time": "2022-07-18T13:38:16.709Z"
   },
   {
    "duration": 266,
    "start_time": "2022-07-18T13:38:16.749Z"
   },
   {
    "duration": 193,
    "start_time": "2022-07-18T13:38:17.017Z"
   },
   {
    "duration": 102,
    "start_time": "2022-07-18T13:38:17.212Z"
   },
   {
    "duration": 183,
    "start_time": "2022-07-18T13:38:17.316Z"
   },
   {
    "duration": 46,
    "start_time": "2022-07-18T13:38:17.501Z"
   },
   {
    "duration": 47,
    "start_time": "2022-07-18T13:38:17.549Z"
   },
   {
    "duration": 14,
    "start_time": "2022-07-18T13:38:17.598Z"
   },
   {
    "duration": 166,
    "start_time": "2022-07-18T13:38:17.615Z"
   },
   {
    "duration": 203,
    "start_time": "2022-07-18T13:38:17.784Z"
   },
   {
    "duration": 34,
    "start_time": "2022-07-18T13:38:17.989Z"
   },
   {
    "duration": 48,
    "start_time": "2022-07-18T13:38:18.024Z"
   },
   {
    "duration": 41,
    "start_time": "2022-07-18T13:38:18.074Z"
   },
   {
    "duration": 16,
    "start_time": "2022-07-18T13:38:18.117Z"
   },
   {
    "duration": 22,
    "start_time": "2022-07-18T13:38:18.145Z"
   },
   {
    "duration": 42,
    "start_time": "2022-07-18T13:38:18.169Z"
   },
   {
    "duration": 201,
    "start_time": "2022-07-18T13:38:18.212Z"
   },
   {
    "duration": 92,
    "start_time": "2022-07-18T13:38:18.416Z"
   },
   {
    "duration": 70,
    "start_time": "2022-07-18T13:38:18.509Z"
   },
   {
    "duration": 65,
    "start_time": "2022-07-18T13:38:18.581Z"
   },
   {
    "duration": 3,
    "start_time": "2022-07-18T13:38:18.648Z"
   },
   {
    "duration": 209,
    "start_time": "2022-07-18T13:38:18.652Z"
   },
   {
    "duration": 8,
    "start_time": "2022-07-18T13:38:18.863Z"
   },
   {
    "duration": 770,
    "start_time": "2022-07-18T13:38:18.873Z"
   },
   {
    "duration": 400,
    "start_time": "2022-07-18T13:38:19.645Z"
   },
   {
    "duration": 5,
    "start_time": "2022-07-18T13:38:20.047Z"
   },
   {
    "duration": 8,
    "start_time": "2022-07-18T13:38:20.056Z"
   },
   {
    "duration": 6,
    "start_time": "2022-07-18T13:38:20.067Z"
   },
   {
    "duration": 1446,
    "start_time": "2022-07-18T13:48:54.361Z"
   },
   {
    "duration": 854,
    "start_time": "2022-07-18T13:48:55.809Z"
   },
   {
    "duration": 137,
    "start_time": "2022-07-18T13:48:56.665Z"
   },
   {
    "duration": 80,
    "start_time": "2022-07-18T13:48:56.804Z"
   },
   {
    "duration": 19,
    "start_time": "2022-07-18T13:48:56.887Z"
   },
   {
    "duration": 159,
    "start_time": "2022-07-18T13:48:56.908Z"
   },
   {
    "duration": 130,
    "start_time": "2022-07-18T13:48:57.069Z"
   },
   {
    "duration": 144,
    "start_time": "2022-07-18T13:48:57.201Z"
   },
   {
    "duration": 218,
    "start_time": "2022-07-18T13:48:57.347Z"
   },
   {
    "duration": 31,
    "start_time": "2022-07-18T13:48:57.571Z"
   },
   {
    "duration": 191,
    "start_time": "2022-07-18T13:48:57.604Z"
   },
   {
    "duration": 18,
    "start_time": "2022-07-18T13:48:57.797Z"
   },
   {
    "duration": 64,
    "start_time": "2022-07-18T13:48:57.818Z"
   },
   {
    "duration": 223,
    "start_time": "2022-07-18T13:48:57.886Z"
   },
   {
    "duration": 35,
    "start_time": "2022-07-18T13:48:58.111Z"
   },
   {
    "duration": 262,
    "start_time": "2022-07-18T13:48:58.149Z"
   },
   {
    "duration": 185,
    "start_time": "2022-07-18T13:48:58.413Z"
   },
   {
    "duration": 105,
    "start_time": "2022-07-18T13:48:58.600Z"
   },
   {
    "duration": 189,
    "start_time": "2022-07-18T13:48:58.707Z"
   },
   {
    "duration": 37,
    "start_time": "2022-07-18T13:48:58.897Z"
   },
   {
    "duration": 39,
    "start_time": "2022-07-18T13:48:58.945Z"
   },
   {
    "duration": 21,
    "start_time": "2022-07-18T13:48:58.986Z"
   },
   {
    "duration": 214,
    "start_time": "2022-07-18T13:48:59.009Z"
   },
   {
    "duration": 194,
    "start_time": "2022-07-18T13:48:59.225Z"
   },
   {
    "duration": 40,
    "start_time": "2022-07-18T13:48:59.420Z"
   },
   {
    "duration": 58,
    "start_time": "2022-07-18T13:48:59.462Z"
   },
   {
    "duration": 44,
    "start_time": "2022-07-18T13:48:59.525Z"
   },
   {
    "duration": 19,
    "start_time": "2022-07-18T13:48:59.571Z"
   },
   {
    "duration": 22,
    "start_time": "2022-07-18T13:48:59.593Z"
   },
   {
    "duration": 69,
    "start_time": "2022-07-18T13:48:59.617Z"
   },
   {
    "duration": 170,
    "start_time": "2022-07-18T13:48:59.688Z"
   },
   {
    "duration": 76,
    "start_time": "2022-07-18T13:48:59.860Z"
   },
   {
    "duration": 35,
    "start_time": "2022-07-18T13:48:59.945Z"
   },
   {
    "duration": 65,
    "start_time": "2022-07-18T13:48:59.982Z"
   },
   {
    "duration": 3,
    "start_time": "2022-07-18T13:49:00.050Z"
   },
   {
    "duration": 173,
    "start_time": "2022-07-18T13:49:00.055Z"
   },
   {
    "duration": 5,
    "start_time": "2022-07-18T13:49:00.230Z"
   },
   {
    "duration": 1031,
    "start_time": "2022-07-18T13:49:00.246Z"
   },
   {
    "duration": 811,
    "start_time": "2022-07-18T13:49:01.279Z"
   },
   {
    "duration": 57,
    "start_time": "2022-07-18T13:49:02.092Z"
   },
   {
    "duration": 3,
    "start_time": "2022-07-18T13:49:16.821Z"
   },
   {
    "duration": 4,
    "start_time": "2022-07-18T13:49:17.793Z"
   },
   {
    "duration": 162,
    "start_time": "2022-07-18T13:49:22.365Z"
   },
   {
    "duration": 4,
    "start_time": "2022-07-18T13:49:39.076Z"
   },
   {
    "duration": 1804,
    "start_time": "2022-07-18T15:43:54.912Z"
   },
   {
    "duration": 1298,
    "start_time": "2022-07-18T15:43:56.718Z"
   },
   {
    "duration": 152,
    "start_time": "2022-07-18T15:43:58.018Z"
   },
   {
    "duration": 50,
    "start_time": "2022-07-18T15:43:58.174Z"
   },
   {
    "duration": 14,
    "start_time": "2022-07-18T15:43:58.226Z"
   },
   {
    "duration": 118,
    "start_time": "2022-07-18T15:43:58.242Z"
   },
   {
    "duration": 114,
    "start_time": "2022-07-18T15:43:58.364Z"
   },
   {
    "duration": 131,
    "start_time": "2022-07-18T15:43:58.480Z"
   },
   {
    "duration": 212,
    "start_time": "2022-07-18T15:43:58.613Z"
   },
   {
    "duration": 38,
    "start_time": "2022-07-18T15:43:58.826Z"
   },
   {
    "duration": 194,
    "start_time": "2022-07-18T15:43:58.867Z"
   },
   {
    "duration": 32,
    "start_time": "2022-07-18T15:43:59.063Z"
   },
   {
    "duration": 33,
    "start_time": "2022-07-18T15:43:59.097Z"
   },
   {
    "duration": 441,
    "start_time": "2022-07-18T15:43:59.133Z"
   },
   {
    "duration": 35,
    "start_time": "2022-07-18T15:43:59.576Z"
   },
   {
    "duration": 660,
    "start_time": "2022-07-18T15:43:59.612Z"
   },
   {
    "duration": 430,
    "start_time": "2022-07-18T15:44:00.274Z"
   },
   {
    "duration": 302,
    "start_time": "2022-07-18T15:44:00.705Z"
   },
   {
    "duration": 467,
    "start_time": "2022-07-18T15:44:01.008Z"
   },
   {
    "duration": 40,
    "start_time": "2022-07-18T15:44:01.476Z"
   },
   {
    "duration": 75,
    "start_time": "2022-07-18T15:44:01.518Z"
   },
   {
    "duration": 15,
    "start_time": "2022-07-18T15:44:01.595Z"
   },
   {
    "duration": 178,
    "start_time": "2022-07-18T15:44:01.612Z"
   },
   {
    "duration": 183,
    "start_time": "2022-07-18T15:44:01.793Z"
   },
   {
    "duration": 39,
    "start_time": "2022-07-18T15:44:01.978Z"
   },
   {
    "duration": 36,
    "start_time": "2022-07-18T15:44:02.019Z"
   },
   {
    "duration": 67,
    "start_time": "2022-07-18T15:44:02.056Z"
   },
   {
    "duration": 12,
    "start_time": "2022-07-18T15:44:02.125Z"
   },
   {
    "duration": 18,
    "start_time": "2022-07-18T15:44:02.139Z"
   },
   {
    "duration": 42,
    "start_time": "2022-07-18T15:44:02.159Z"
   },
   {
    "duration": 190,
    "start_time": "2022-07-18T15:44:02.202Z"
   },
   {
    "duration": 88,
    "start_time": "2022-07-18T15:44:02.394Z"
   },
   {
    "duration": 39,
    "start_time": "2022-07-18T15:44:02.483Z"
   },
   {
    "duration": 70,
    "start_time": "2022-07-18T15:44:02.523Z"
   },
   {
    "duration": 6,
    "start_time": "2022-07-18T15:44:02.596Z"
   },
   {
    "duration": 196,
    "start_time": "2022-07-18T15:44:02.607Z"
   },
   {
    "duration": 5,
    "start_time": "2022-07-18T15:44:02.806Z"
   },
   {
    "duration": 580,
    "start_time": "2022-07-18T15:44:02.813Z"
   },
   {
    "duration": 407,
    "start_time": "2022-07-18T15:44:03.397Z"
   },
   {
    "duration": 6,
    "start_time": "2022-07-18T15:44:03.806Z"
   },
   {
    "duration": 6,
    "start_time": "2022-07-18T15:44:03.815Z"
   },
   {
    "duration": 3,
    "start_time": "2022-07-18T15:44:03.991Z"
   },
   {
    "duration": 636415,
    "start_time": "2022-07-18T15:44:06.370Z"
   },
   {
    "duration": 854,
    "start_time": "2022-07-18T16:12:22.348Z"
   },
   {
    "duration": 5,
    "start_time": "2022-07-18T16:12:23.916Z"
   },
   {
    "duration": 6,
    "start_time": "2022-07-18T16:13:00.165Z"
   },
   {
    "duration": 4,
    "start_time": "2022-07-18T16:13:00.505Z"
   },
   {
    "duration": 379313,
    "start_time": "2022-07-18T16:13:00.888Z"
   },
   {
    "duration": 4,
    "start_time": "2022-07-18T16:19:20.202Z"
   },
   {
    "duration": 205,
    "start_time": "2022-07-18T16:19:20.208Z"
   },
   {
    "duration": 5,
    "start_time": "2022-07-18T16:19:20.415Z"
   },
   {
    "duration": 1724,
    "start_time": "2022-07-19T08:29:14.216Z"
   },
   {
    "duration": 3086,
    "start_time": "2022-07-19T08:29:15.942Z"
   },
   {
    "duration": 290,
    "start_time": "2022-07-19T08:29:19.029Z"
   },
   {
    "duration": 103,
    "start_time": "2022-07-19T08:29:19.321Z"
   },
   {
    "duration": 19,
    "start_time": "2022-07-19T08:29:19.426Z"
   },
   {
    "duration": 193,
    "start_time": "2022-07-19T08:29:19.447Z"
   },
   {
    "duration": 197,
    "start_time": "2022-07-19T08:29:19.641Z"
   },
   {
    "duration": 305,
    "start_time": "2022-07-19T08:29:19.840Z"
   },
   {
    "duration": 433,
    "start_time": "2022-07-19T08:29:20.146Z"
   },
   {
    "duration": 34,
    "start_time": "2022-07-19T08:29:20.581Z"
   },
   {
    "duration": 207,
    "start_time": "2022-07-19T08:29:20.617Z"
   },
   {
    "duration": 20,
    "start_time": "2022-07-19T08:29:20.826Z"
   },
   {
    "duration": 37,
    "start_time": "2022-07-19T08:29:20.848Z"
   },
   {
    "duration": 221,
    "start_time": "2022-07-19T08:29:20.912Z"
   },
   {
    "duration": 27,
    "start_time": "2022-07-19T08:29:21.135Z"
   },
   {
    "duration": 273,
    "start_time": "2022-07-19T08:29:21.163Z"
   },
   {
    "duration": 191,
    "start_time": "2022-07-19T08:29:21.438Z"
   },
   {
    "duration": 111,
    "start_time": "2022-07-19T08:29:21.630Z"
   },
   {
    "duration": 245,
    "start_time": "2022-07-19T08:29:21.743Z"
   },
   {
    "duration": 44,
    "start_time": "2022-07-19T08:29:21.990Z"
   },
   {
    "duration": 60,
    "start_time": "2022-07-19T08:29:22.036Z"
   },
   {
    "duration": 17,
    "start_time": "2022-07-19T08:29:22.099Z"
   },
   {
    "duration": 181,
    "start_time": "2022-07-19T08:29:22.118Z"
   },
   {
    "duration": 195,
    "start_time": "2022-07-19T08:29:22.301Z"
   },
   {
    "duration": 37,
    "start_time": "2022-07-19T08:29:22.498Z"
   },
   {
    "duration": 39,
    "start_time": "2022-07-19T08:29:22.537Z"
   },
   {
    "duration": 58,
    "start_time": "2022-07-19T08:29:22.578Z"
   },
   {
    "duration": 10,
    "start_time": "2022-07-19T08:29:22.638Z"
   },
   {
    "duration": 19,
    "start_time": "2022-07-19T08:29:22.649Z"
   },
   {
    "duration": 64,
    "start_time": "2022-07-19T08:29:22.670Z"
   },
   {
    "duration": 189,
    "start_time": "2022-07-19T08:29:22.736Z"
   },
   {
    "duration": 99,
    "start_time": "2022-07-19T08:29:22.927Z"
   },
   {
    "duration": 38,
    "start_time": "2022-07-19T08:29:23.028Z"
   },
   {
    "duration": 74,
    "start_time": "2022-07-19T08:29:23.067Z"
   },
   {
    "duration": 3,
    "start_time": "2022-07-19T08:29:23.143Z"
   },
   {
    "duration": 163,
    "start_time": "2022-07-19T08:29:23.147Z"
   },
   {
    "duration": 8,
    "start_time": "2022-07-19T08:29:23.312Z"
   },
   {
    "duration": 680,
    "start_time": "2022-07-19T08:29:23.322Z"
   },
   {
    "duration": 405,
    "start_time": "2022-07-19T08:29:24.004Z"
   },
   {
    "duration": 4,
    "start_time": "2022-07-19T08:29:24.411Z"
   },
   {
    "duration": 130,
    "start_time": "2022-07-19T08:29:24.418Z"
   },
   {
    "duration": 0,
    "start_time": "2022-07-19T08:29:24.550Z"
   },
   {
    "duration": 3,
    "start_time": "2022-07-19T08:29:34.971Z"
   },
   {
    "duration": 3,
    "start_time": "2022-07-19T08:29:37.431Z"
   },
   {
    "duration": 415788,
    "start_time": "2022-07-19T08:29:39.233Z"
   },
   {
    "duration": 4,
    "start_time": "2022-07-19T08:36:35.023Z"
   },
   {
    "duration": 883,
    "start_time": "2022-07-19T08:39:38.838Z"
   },
   {
    "duration": 6,
    "start_time": "2022-07-19T08:39:40.037Z"
   },
   {
    "duration": 3,
    "start_time": "2022-07-19T08:40:12.201Z"
   },
   {
    "duration": 110862,
    "start_time": "2022-07-19T08:40:14.457Z"
   },
   {
    "duration": 4,
    "start_time": "2022-07-19T08:42:42.794Z"
   },
   {
    "duration": 122,
    "start_time": "2022-07-19T08:43:08.216Z"
   },
   {
    "duration": 3,
    "start_time": "2022-07-19T08:43:14.568Z"
   },
   {
    "duration": 449967,
    "start_time": "2022-07-19T08:43:16.943Z"
   },
   {
    "duration": 5,
    "start_time": "2022-07-19T08:51:01.349Z"
   },
   {
    "duration": 1468,
    "start_time": "2022-07-19T08:51:03.881Z"
   },
   {
    "duration": 6,
    "start_time": "2022-07-19T08:51:05.351Z"
   },
   {
    "duration": 3,
    "start_time": "2022-07-19T08:51:52.585Z"
   },
   {
    "duration": 958621,
    "start_time": "2022-07-19T08:51:56.402Z"
   },
   {
    "duration": 4,
    "start_time": "2022-07-19T09:10:46.359Z"
   },
   {
    "duration": 3,
    "start_time": "2022-07-19T09:11:26.150Z"
   },
   {
    "duration": 1685,
    "start_time": "2022-07-19T09:50:13.402Z"
   },
   {
    "duration": 1024,
    "start_time": "2022-07-19T09:50:15.089Z"
   },
   {
    "duration": 184,
    "start_time": "2022-07-19T09:50:16.115Z"
   },
   {
    "duration": 65,
    "start_time": "2022-07-19T09:50:16.301Z"
   },
   {
    "duration": 21,
    "start_time": "2022-07-19T09:50:16.369Z"
   },
   {
    "duration": 128,
    "start_time": "2022-07-19T09:50:16.392Z"
   },
   {
    "duration": 121,
    "start_time": "2022-07-19T09:50:16.522Z"
   },
   {
    "duration": 144,
    "start_time": "2022-07-19T09:50:16.645Z"
   },
   {
    "duration": 246,
    "start_time": "2022-07-19T09:50:16.792Z"
   },
   {
    "duration": 40,
    "start_time": "2022-07-19T09:50:17.039Z"
   },
   {
    "duration": 252,
    "start_time": "2022-07-19T09:50:17.080Z"
   },
   {
    "duration": 21,
    "start_time": "2022-07-19T09:50:17.334Z"
   },
   {
    "duration": 47,
    "start_time": "2022-07-19T09:50:17.357Z"
   },
   {
    "duration": 242,
    "start_time": "2022-07-19T09:50:17.409Z"
   },
   {
    "duration": 28,
    "start_time": "2022-07-19T09:50:17.652Z"
   },
   {
    "duration": 308,
    "start_time": "2022-07-19T09:50:17.682Z"
   },
   {
    "duration": 210,
    "start_time": "2022-07-19T09:50:17.992Z"
   },
   {
    "duration": 156,
    "start_time": "2022-07-19T09:50:18.204Z"
   },
   {
    "duration": 213,
    "start_time": "2022-07-19T09:50:18.362Z"
   },
   {
    "duration": 59,
    "start_time": "2022-07-19T09:50:18.577Z"
   },
   {
    "duration": 59,
    "start_time": "2022-07-19T09:50:18.638Z"
   },
   {
    "duration": 7,
    "start_time": "2022-07-19T09:50:18.699Z"
   },
   {
    "duration": 208,
    "start_time": "2022-07-19T09:50:18.708Z"
   },
   {
    "duration": 189,
    "start_time": "2022-07-19T09:50:18.917Z"
   },
   {
    "duration": 52,
    "start_time": "2022-07-19T09:50:19.110Z"
   },
   {
    "duration": 50,
    "start_time": "2022-07-19T09:50:19.164Z"
   },
   {
    "duration": 62,
    "start_time": "2022-07-19T09:50:19.215Z"
   },
   {
    "duration": 12,
    "start_time": "2022-07-19T09:50:19.279Z"
   },
   {
    "duration": 29,
    "start_time": "2022-07-19T09:50:19.293Z"
   },
   {
    "duration": 42,
    "start_time": "2022-07-19T09:50:19.323Z"
   },
   {
    "duration": 208,
    "start_time": "2022-07-19T09:50:19.366Z"
   },
   {
    "duration": 108,
    "start_time": "2022-07-19T09:50:19.576Z"
   },
   {
    "duration": 57,
    "start_time": "2022-07-19T09:50:19.686Z"
   },
   {
    "duration": 46,
    "start_time": "2022-07-19T09:50:19.745Z"
   },
   {
    "duration": 2,
    "start_time": "2022-07-19T09:50:19.794Z"
   },
   {
    "duration": 193,
    "start_time": "2022-07-19T09:50:19.798Z"
   },
   {
    "duration": 7,
    "start_time": "2022-07-19T09:50:19.994Z"
   },
   {
    "duration": 723,
    "start_time": "2022-07-19T09:50:20.003Z"
   },
   {
    "duration": 415,
    "start_time": "2022-07-19T09:50:20.729Z"
   },
   {
    "duration": 5,
    "start_time": "2022-07-19T09:50:21.147Z"
   },
   {
    "duration": 171,
    "start_time": "2022-07-19T09:50:53.713Z"
   },
   {
    "duration": 1727,
    "start_time": "2022-07-19T09:51:00.744Z"
   },
   {
    "duration": 3419,
    "start_time": "2022-07-19T09:51:02.474Z"
   },
   {
    "duration": 178,
    "start_time": "2022-07-19T09:51:05.894Z"
   },
   {
    "duration": 53,
    "start_time": "2022-07-19T09:51:06.074Z"
   },
   {
    "duration": 30,
    "start_time": "2022-07-19T09:51:06.129Z"
   },
   {
    "duration": 123,
    "start_time": "2022-07-19T09:51:06.161Z"
   },
   {
    "duration": 125,
    "start_time": "2022-07-19T09:51:06.286Z"
   },
   {
    "duration": 181,
    "start_time": "2022-07-19T09:51:06.413Z"
   },
   {
    "duration": 249,
    "start_time": "2022-07-19T09:51:06.596Z"
   },
   {
    "duration": 31,
    "start_time": "2022-07-19T09:51:06.846Z"
   },
   {
    "duration": 219,
    "start_time": "2022-07-19T09:51:06.879Z"
   },
   {
    "duration": 24,
    "start_time": "2022-07-19T09:51:07.100Z"
   },
   {
    "duration": 48,
    "start_time": "2022-07-19T09:51:07.126Z"
   },
   {
    "duration": 266,
    "start_time": "2022-07-19T09:51:07.178Z"
   },
   {
    "duration": 30,
    "start_time": "2022-07-19T09:51:07.446Z"
   },
   {
    "duration": 297,
    "start_time": "2022-07-19T09:51:07.477Z"
   },
   {
    "duration": 213,
    "start_time": "2022-07-19T09:51:07.776Z"
   },
   {
    "duration": 146,
    "start_time": "2022-07-19T09:51:07.991Z"
   },
   {
    "duration": 206,
    "start_time": "2022-07-19T09:51:08.141Z"
   },
   {
    "duration": 40,
    "start_time": "2022-07-19T09:51:08.349Z"
   },
   {
    "duration": 62,
    "start_time": "2022-07-19T09:51:08.392Z"
   },
   {
    "duration": 9,
    "start_time": "2022-07-19T09:51:08.456Z"
   },
   {
    "duration": 195,
    "start_time": "2022-07-19T09:51:08.467Z"
   },
   {
    "duration": 224,
    "start_time": "2022-07-19T09:51:08.664Z"
   },
   {
    "duration": 59,
    "start_time": "2022-07-19T09:51:08.889Z"
   },
   {
    "duration": 74,
    "start_time": "2022-07-19T09:51:08.951Z"
   },
   {
    "duration": 53,
    "start_time": "2022-07-19T09:51:09.032Z"
   },
   {
    "duration": 13,
    "start_time": "2022-07-19T09:51:09.087Z"
   },
   {
    "duration": 23,
    "start_time": "2022-07-19T09:51:09.102Z"
   },
   {
    "duration": 52,
    "start_time": "2022-07-19T09:51:09.134Z"
   },
   {
    "duration": 244,
    "start_time": "2022-07-19T09:51:09.188Z"
   },
   {
    "duration": 91,
    "start_time": "2022-07-19T09:51:09.433Z"
   },
   {
    "duration": 65,
    "start_time": "2022-07-19T09:51:09.527Z"
   },
   {
    "duration": 61,
    "start_time": "2022-07-19T09:51:09.593Z"
   },
   {
    "duration": 4,
    "start_time": "2022-07-19T09:51:09.657Z"
   },
   {
    "duration": 193,
    "start_time": "2022-07-19T09:51:09.663Z"
   },
   {
    "duration": 6,
    "start_time": "2022-07-19T09:51:09.858Z"
   },
   {
    "duration": 739,
    "start_time": "2022-07-19T09:51:09.865Z"
   },
   {
    "duration": 433,
    "start_time": "2022-07-19T09:51:10.606Z"
   },
   {
    "duration": 5,
    "start_time": "2022-07-19T09:51:11.044Z"
   },
   {
    "duration": 133,
    "start_time": "2022-07-19T09:52:57.870Z"
   },
   {
    "duration": 1645,
    "start_time": "2022-07-19T09:53:07.072Z"
   },
   {
    "duration": 3448,
    "start_time": "2022-07-19T09:53:08.723Z"
   },
   {
    "duration": 209,
    "start_time": "2022-07-19T09:53:12.174Z"
   },
   {
    "duration": 56,
    "start_time": "2022-07-19T09:53:12.384Z"
   },
   {
    "duration": 17,
    "start_time": "2022-07-19T09:53:12.442Z"
   },
   {
    "duration": 124,
    "start_time": "2022-07-19T09:53:12.461Z"
   },
   {
    "duration": 114,
    "start_time": "2022-07-19T09:53:12.586Z"
   },
   {
    "duration": 140,
    "start_time": "2022-07-19T09:53:12.713Z"
   },
   {
    "duration": 236,
    "start_time": "2022-07-19T09:53:12.855Z"
   },
   {
    "duration": 41,
    "start_time": "2022-07-19T09:53:13.093Z"
   },
   {
    "duration": 260,
    "start_time": "2022-07-19T09:53:13.135Z"
   },
   {
    "duration": 31,
    "start_time": "2022-07-19T09:53:13.397Z"
   },
   {
    "duration": 40,
    "start_time": "2022-07-19T09:53:13.433Z"
   },
   {
    "duration": 249,
    "start_time": "2022-07-19T09:53:13.477Z"
   },
   {
    "duration": 32,
    "start_time": "2022-07-19T09:53:13.727Z"
   },
   {
    "duration": 283,
    "start_time": "2022-07-19T09:53:13.761Z"
   },
   {
    "duration": 216,
    "start_time": "2022-07-19T09:53:14.046Z"
   },
   {
    "duration": 149,
    "start_time": "2022-07-19T09:53:14.263Z"
   },
   {
    "duration": 226,
    "start_time": "2022-07-19T09:53:14.414Z"
   },
   {
    "duration": 37,
    "start_time": "2022-07-19T09:53:14.642Z"
   },
   {
    "duration": 65,
    "start_time": "2022-07-19T09:53:14.680Z"
   },
   {
    "duration": 11,
    "start_time": "2022-07-19T09:53:14.747Z"
   },
   {
    "duration": 196,
    "start_time": "2022-07-19T09:53:14.759Z"
   },
   {
    "duration": 238,
    "start_time": "2022-07-19T09:53:14.957Z"
   },
   {
    "duration": 59,
    "start_time": "2022-07-19T09:53:15.197Z"
   },
   {
    "duration": 58,
    "start_time": "2022-07-19T09:53:15.258Z"
   },
   {
    "duration": 84,
    "start_time": "2022-07-19T09:53:15.317Z"
   },
   {
    "duration": 31,
    "start_time": "2022-07-19T09:53:15.403Z"
   },
   {
    "duration": 25,
    "start_time": "2022-07-19T09:53:15.441Z"
   },
   {
    "duration": 40,
    "start_time": "2022-07-19T09:53:15.468Z"
   },
   {
    "duration": 226,
    "start_time": "2022-07-19T09:53:15.513Z"
   },
   {
    "duration": 106,
    "start_time": "2022-07-19T09:53:15.741Z"
   },
   {
    "duration": 40,
    "start_time": "2022-07-19T09:53:15.849Z"
   },
   {
    "duration": 76,
    "start_time": "2022-07-19T09:53:15.891Z"
   },
   {
    "duration": 3,
    "start_time": "2022-07-19T09:53:15.969Z"
   },
   {
    "duration": 204,
    "start_time": "2022-07-19T09:53:15.975Z"
   },
   {
    "duration": 6,
    "start_time": "2022-07-19T09:53:16.181Z"
   },
   {
    "duration": 852,
    "start_time": "2022-07-19T09:53:16.189Z"
   },
   {
    "duration": 436,
    "start_time": "2022-07-19T09:53:17.044Z"
   },
   {
    "duration": 7,
    "start_time": "2022-07-19T09:53:17.482Z"
   },
   {
    "duration": 1787,
    "start_time": "2022-07-19T09:53:58.391Z"
   },
   {
    "duration": 3467,
    "start_time": "2022-07-19T09:54:00.180Z"
   },
   {
    "duration": 177,
    "start_time": "2022-07-19T09:54:03.650Z"
   },
   {
    "duration": 60,
    "start_time": "2022-07-19T09:54:03.829Z"
   },
   {
    "duration": 31,
    "start_time": "2022-07-19T09:54:03.892Z"
   },
   {
    "duration": 133,
    "start_time": "2022-07-19T09:54:03.925Z"
   },
   {
    "duration": 119,
    "start_time": "2022-07-19T09:54:04.059Z"
   },
   {
    "duration": 166,
    "start_time": "2022-07-19T09:54:04.180Z"
   },
   {
    "duration": 262,
    "start_time": "2022-07-19T09:54:04.348Z"
   },
   {
    "duration": 36,
    "start_time": "2022-07-19T09:54:04.613Z"
   },
   {
    "duration": 234,
    "start_time": "2022-07-19T09:54:04.651Z"
   },
   {
    "duration": 34,
    "start_time": "2022-07-19T09:54:04.888Z"
   },
   {
    "duration": 45,
    "start_time": "2022-07-19T09:54:04.926Z"
   },
   {
    "duration": 268,
    "start_time": "2022-07-19T09:54:04.975Z"
   },
   {
    "duration": 32,
    "start_time": "2022-07-19T09:54:05.245Z"
   },
   {
    "duration": 318,
    "start_time": "2022-07-19T09:54:05.279Z"
   },
   {
    "duration": 204,
    "start_time": "2022-07-19T09:54:05.599Z"
   },
   {
    "duration": 150,
    "start_time": "2022-07-19T09:54:05.809Z"
   },
   {
    "duration": 211,
    "start_time": "2022-07-19T09:54:05.961Z"
   },
   {
    "duration": 48,
    "start_time": "2022-07-19T09:54:06.174Z"
   },
   {
    "duration": 63,
    "start_time": "2022-07-19T09:54:06.223Z"
   },
   {
    "duration": 14,
    "start_time": "2022-07-19T09:54:06.288Z"
   },
   {
    "duration": 210,
    "start_time": "2022-07-19T09:54:06.305Z"
   },
   {
    "duration": 227,
    "start_time": "2022-07-19T09:54:06.517Z"
   },
   {
    "duration": 37,
    "start_time": "2022-07-19T09:54:06.746Z"
   },
   {
    "duration": 58,
    "start_time": "2022-07-19T09:54:06.785Z"
   },
   {
    "duration": 41,
    "start_time": "2022-07-19T09:54:06.845Z"
   },
   {
    "duration": 14,
    "start_time": "2022-07-19T09:54:06.888Z"
   },
   {
    "duration": 27,
    "start_time": "2022-07-19T09:54:06.914Z"
   },
   {
    "duration": 45,
    "start_time": "2022-07-19T09:54:06.943Z"
   },
   {
    "duration": 213,
    "start_time": "2022-07-19T09:54:06.990Z"
   },
   {
    "duration": 113,
    "start_time": "2022-07-19T09:54:07.205Z"
   },
   {
    "duration": 48,
    "start_time": "2022-07-19T09:54:07.319Z"
   },
   {
    "duration": 75,
    "start_time": "2022-07-19T09:54:07.368Z"
   },
   {
    "duration": 4,
    "start_time": "2022-07-19T09:54:07.445Z"
   },
   {
    "duration": 195,
    "start_time": "2022-07-19T09:54:07.450Z"
   },
   {
    "duration": 7,
    "start_time": "2022-07-19T09:54:07.647Z"
   },
   {
    "duration": 695,
    "start_time": "2022-07-19T09:54:07.655Z"
   },
   {
    "duration": 425,
    "start_time": "2022-07-19T09:54:08.353Z"
   },
   {
    "duration": 4,
    "start_time": "2022-07-19T09:54:08.780Z"
   },
   {
    "duration": 1777,
    "start_time": "2022-07-19T09:57:13.850Z"
   },
   {
    "duration": 3505,
    "start_time": "2022-07-19T09:57:15.635Z"
   },
   {
    "duration": 164,
    "start_time": "2022-07-19T09:57:19.142Z"
   },
   {
    "duration": 58,
    "start_time": "2022-07-19T09:57:19.307Z"
   },
   {
    "duration": 18,
    "start_time": "2022-07-19T09:57:19.368Z"
   },
   {
    "duration": 146,
    "start_time": "2022-07-19T09:57:19.388Z"
   },
   {
    "duration": 110,
    "start_time": "2022-07-19T09:57:19.538Z"
   },
   {
    "duration": 207,
    "start_time": "2022-07-19T09:57:19.651Z"
   },
   {
    "duration": 232,
    "start_time": "2022-07-19T09:57:19.860Z"
   },
   {
    "duration": 49,
    "start_time": "2022-07-19T09:57:20.094Z"
   },
   {
    "duration": 224,
    "start_time": "2022-07-19T09:57:20.146Z"
   },
   {
    "duration": 23,
    "start_time": "2022-07-19T09:57:20.372Z"
   },
   {
    "duration": 61,
    "start_time": "2022-07-19T09:57:20.410Z"
   },
   {
    "duration": 233,
    "start_time": "2022-07-19T09:57:20.474Z"
   },
   {
    "duration": 32,
    "start_time": "2022-07-19T09:57:20.714Z"
   },
   {
    "duration": 304,
    "start_time": "2022-07-19T09:57:20.747Z"
   },
   {
    "duration": 232,
    "start_time": "2022-07-19T09:57:21.054Z"
   },
   {
    "duration": 133,
    "start_time": "2022-07-19T09:57:21.289Z"
   },
   {
    "duration": 221,
    "start_time": "2022-07-19T09:57:21.428Z"
   },
   {
    "duration": 37,
    "start_time": "2022-07-19T09:57:21.651Z"
   },
   {
    "duration": 71,
    "start_time": "2022-07-19T09:57:21.690Z"
   },
   {
    "duration": 8,
    "start_time": "2022-07-19T09:57:21.763Z"
   },
   {
    "duration": 222,
    "start_time": "2022-07-19T09:57:21.774Z"
   },
   {
    "duration": 296,
    "start_time": "2022-07-19T09:57:21.999Z"
   },
   {
    "duration": 65,
    "start_time": "2022-07-19T09:57:22.297Z"
   },
   {
    "duration": 75,
    "start_time": "2022-07-19T09:57:22.364Z"
   },
   {
    "duration": 39,
    "start_time": "2022-07-19T09:57:22.443Z"
   },
   {
    "duration": 11,
    "start_time": "2022-07-19T09:57:22.484Z"
   },
   {
    "duration": 32,
    "start_time": "2022-07-19T09:57:22.498Z"
   },
   {
    "duration": 56,
    "start_time": "2022-07-19T09:57:22.533Z"
   },
   {
    "duration": 214,
    "start_time": "2022-07-19T09:57:22.591Z"
   },
   {
    "duration": 145,
    "start_time": "2022-07-19T09:57:22.807Z"
   },
   {
    "duration": 73,
    "start_time": "2022-07-19T09:57:22.954Z"
   },
   {
    "duration": 53,
    "start_time": "2022-07-19T09:57:23.029Z"
   },
   {
    "duration": 3,
    "start_time": "2022-07-19T09:57:23.084Z"
   },
   {
    "duration": 178,
    "start_time": "2022-07-19T09:57:23.089Z"
   },
   {
    "duration": 6,
    "start_time": "2022-07-19T09:57:23.269Z"
   },
   {
    "duration": 646,
    "start_time": "2022-07-19T09:57:23.276Z"
   },
   {
    "duration": 420,
    "start_time": "2022-07-19T09:57:23.924Z"
   },
   {
    "duration": 5,
    "start_time": "2022-07-19T09:57:24.346Z"
   },
   {
    "duration": 4,
    "start_time": "2022-07-19T09:57:24.355Z"
   },
   {
    "duration": 3,
    "start_time": "2022-07-19T09:57:59.344Z"
   },
   {
    "duration": 3,
    "start_time": "2022-07-19T09:58:11.748Z"
   },
   {
    "duration": 229,
    "start_time": "2022-07-19T09:58:36.449Z"
   },
   {
    "duration": 12,
    "start_time": "2022-07-19T10:05:27.238Z"
   },
   {
    "duration": 4,
    "start_time": "2022-07-19T10:05:34.597Z"
   },
   {
    "duration": 3,
    "start_time": "2022-07-19T10:05:38.997Z"
   },
   {
    "duration": 3,
    "start_time": "2022-07-19T10:05:45.647Z"
   },
   {
    "duration": 1631,
    "start_time": "2022-07-19T10:08:39.647Z"
   },
   {
    "duration": 3588,
    "start_time": "2022-07-19T10:08:41.280Z"
   },
   {
    "duration": 179,
    "start_time": "2022-07-19T10:08:44.870Z"
   },
   {
    "duration": 47,
    "start_time": "2022-07-19T10:08:45.052Z"
   },
   {
    "duration": 19,
    "start_time": "2022-07-19T10:08:45.114Z"
   },
   {
    "duration": 143,
    "start_time": "2022-07-19T10:08:45.136Z"
   },
   {
    "duration": 144,
    "start_time": "2022-07-19T10:08:45.281Z"
   },
   {
    "duration": 179,
    "start_time": "2022-07-19T10:08:45.429Z"
   },
   {
    "duration": 243,
    "start_time": "2022-07-19T10:08:45.609Z"
   },
   {
    "duration": 30,
    "start_time": "2022-07-19T10:08:45.854Z"
   },
   {
    "duration": 254,
    "start_time": "2022-07-19T10:08:45.886Z"
   },
   {
    "duration": 19,
    "start_time": "2022-07-19T10:08:46.143Z"
   },
   {
    "duration": 35,
    "start_time": "2022-07-19T10:08:46.164Z"
   },
   {
    "duration": 241,
    "start_time": "2022-07-19T10:08:46.210Z"
   },
   {
    "duration": 26,
    "start_time": "2022-07-19T10:08:46.453Z"
   },
   {
    "duration": 293,
    "start_time": "2022-07-19T10:08:46.481Z"
   },
   {
    "duration": 207,
    "start_time": "2022-07-19T10:08:46.776Z"
   },
   {
    "duration": 136,
    "start_time": "2022-07-19T10:08:46.985Z"
   },
   {
    "duration": 218,
    "start_time": "2022-07-19T10:08:47.123Z"
   },
   {
    "duration": 35,
    "start_time": "2022-07-19T10:08:47.343Z"
   },
   {
    "duration": 68,
    "start_time": "2022-07-19T10:08:47.380Z"
   },
   {
    "duration": 10,
    "start_time": "2022-07-19T10:08:47.450Z"
   },
   {
    "duration": 194,
    "start_time": "2022-07-19T10:08:47.462Z"
   },
   {
    "duration": 224,
    "start_time": "2022-07-19T10:08:47.658Z"
   },
   {
    "duration": 48,
    "start_time": "2022-07-19T10:08:47.884Z"
   },
   {
    "duration": 53,
    "start_time": "2022-07-19T10:08:47.934Z"
   },
   {
    "duration": 64,
    "start_time": "2022-07-19T10:08:47.989Z"
   },
   {
    "duration": 8,
    "start_time": "2022-07-19T10:08:48.054Z"
   },
   {
    "duration": 22,
    "start_time": "2022-07-19T10:08:48.063Z"
   },
   {
    "duration": 52,
    "start_time": "2022-07-19T10:08:48.087Z"
   },
   {
    "duration": 208,
    "start_time": "2022-07-19T10:08:48.141Z"
   },
   {
    "duration": 110,
    "start_time": "2022-07-19T10:08:48.351Z"
   },
   {
    "duration": 56,
    "start_time": "2022-07-19T10:08:48.463Z"
   },
   {
    "duration": 57,
    "start_time": "2022-07-19T10:08:48.527Z"
   },
   {
    "duration": 4,
    "start_time": "2022-07-19T10:08:48.585Z"
   },
   {
    "duration": 182,
    "start_time": "2022-07-19T10:08:48.590Z"
   },
   {
    "duration": 6,
    "start_time": "2022-07-19T10:08:48.774Z"
   },
   {
    "duration": 656,
    "start_time": "2022-07-19T10:08:48.782Z"
   },
   {
    "duration": 425,
    "start_time": "2022-07-19T10:08:49.441Z"
   },
   {
    "duration": 5,
    "start_time": "2022-07-19T10:08:49.868Z"
   },
   {
    "duration": 5,
    "start_time": "2022-07-19T10:08:49.876Z"
   },
   {
    "duration": 138,
    "start_time": "2022-07-19T10:08:51.456Z"
   },
   {
    "duration": 12,
    "start_time": "2022-07-19T10:09:13.595Z"
   },
   {
    "duration": 4,
    "start_time": "2022-07-19T10:10:22.768Z"
   },
   {
    "duration": 6,
    "start_time": "2022-07-19T10:10:30.367Z"
   },
   {
    "duration": 24,
    "start_time": "2022-07-19T10:10:30.840Z"
   },
   {
    "duration": 11,
    "start_time": "2022-07-19T10:10:57.548Z"
   },
   {
    "duration": 3,
    "start_time": "2022-07-19T10:11:09.567Z"
   },
   {
    "duration": 1667,
    "start_time": "2022-07-19T10:11:53.509Z"
   },
   {
    "duration": 3416,
    "start_time": "2022-07-19T10:11:55.178Z"
   },
   {
    "duration": 184,
    "start_time": "2022-07-19T10:11:58.595Z"
   },
   {
    "duration": 63,
    "start_time": "2022-07-19T10:11:58.782Z"
   },
   {
    "duration": 20,
    "start_time": "2022-07-19T10:11:58.847Z"
   },
   {
    "duration": 126,
    "start_time": "2022-07-19T10:11:58.869Z"
   },
   {
    "duration": 126,
    "start_time": "2022-07-19T10:11:58.996Z"
   },
   {
    "duration": 163,
    "start_time": "2022-07-19T10:11:59.124Z"
   },
   {
    "duration": 257,
    "start_time": "2022-07-19T10:11:59.289Z"
   },
   {
    "duration": 32,
    "start_time": "2022-07-19T10:11:59.549Z"
   },
   {
    "duration": 232,
    "start_time": "2022-07-19T10:11:59.583Z"
   },
   {
    "duration": 26,
    "start_time": "2022-07-19T10:11:59.826Z"
   },
   {
    "duration": 36,
    "start_time": "2022-07-19T10:11:59.854Z"
   },
   {
    "duration": 246,
    "start_time": "2022-07-19T10:11:59.892Z"
   },
   {
    "duration": 35,
    "start_time": "2022-07-19T10:12:00.141Z"
   },
   {
    "duration": 311,
    "start_time": "2022-07-19T10:12:00.178Z"
   },
   {
    "duration": 214,
    "start_time": "2022-07-19T10:12:00.491Z"
   },
   {
    "duration": 164,
    "start_time": "2022-07-19T10:12:00.716Z"
   },
   {
    "duration": 202,
    "start_time": "2022-07-19T10:12:00.882Z"
   },
   {
    "duration": 56,
    "start_time": "2022-07-19T10:12:01.086Z"
   },
   {
    "duration": 56,
    "start_time": "2022-07-19T10:12:01.144Z"
   },
   {
    "duration": 39,
    "start_time": "2022-07-19T10:12:01.202Z"
   },
   {
    "duration": 208,
    "start_time": "2022-07-19T10:12:01.243Z"
   },
   {
    "duration": 202,
    "start_time": "2022-07-19T10:12:01.453Z"
   },
   {
    "duration": 36,
    "start_time": "2022-07-19T10:12:01.657Z"
   },
   {
    "duration": 69,
    "start_time": "2022-07-19T10:12:01.694Z"
   },
   {
    "duration": 77,
    "start_time": "2022-07-19T10:12:01.765Z"
   },
   {
    "duration": 38,
    "start_time": "2022-07-19T10:12:01.847Z"
   },
   {
    "duration": 28,
    "start_time": "2022-07-19T10:12:01.887Z"
   },
   {
    "duration": 77,
    "start_time": "2022-07-19T10:12:01.925Z"
   },
   {
    "duration": 257,
    "start_time": "2022-07-19T10:12:02.004Z"
   },
   {
    "duration": 107,
    "start_time": "2022-07-19T10:12:02.264Z"
   },
   {
    "duration": 58,
    "start_time": "2022-07-19T10:12:02.374Z"
   },
   {
    "duration": 57,
    "start_time": "2022-07-19T10:12:02.438Z"
   },
   {
    "duration": 3,
    "start_time": "2022-07-19T10:12:02.497Z"
   },
   {
    "duration": 181,
    "start_time": "2022-07-19T10:12:02.502Z"
   },
   {
    "duration": 6,
    "start_time": "2022-07-19T10:12:02.684Z"
   },
   {
    "duration": 744,
    "start_time": "2022-07-19T10:12:02.691Z"
   },
   {
    "duration": 418,
    "start_time": "2022-07-19T10:12:03.436Z"
   },
   {
    "duration": 5,
    "start_time": "2022-07-19T10:12:03.856Z"
   },
   {
    "duration": 5,
    "start_time": "2022-07-19T10:12:03.862Z"
   },
   {
    "duration": 5,
    "start_time": "2022-07-19T10:12:03.869Z"
   },
   {
    "duration": 1658,
    "start_time": "2022-07-19T10:12:28.467Z"
   },
   {
    "duration": 3731,
    "start_time": "2022-07-19T10:12:30.134Z"
   },
   {
    "duration": 179,
    "start_time": "2022-07-19T10:12:33.867Z"
   },
   {
    "duration": 43,
    "start_time": "2022-07-19T10:12:34.049Z"
   },
   {
    "duration": 66,
    "start_time": "2022-07-19T10:12:34.094Z"
   },
   {
    "duration": 111,
    "start_time": "2022-07-19T10:12:34.161Z"
   },
   {
    "duration": 126,
    "start_time": "2022-07-19T10:12:34.274Z"
   },
   {
    "duration": 170,
    "start_time": "2022-07-19T10:12:34.402Z"
   },
   {
    "duration": 244,
    "start_time": "2022-07-19T10:12:34.574Z"
   },
   {
    "duration": 34,
    "start_time": "2022-07-19T10:12:34.821Z"
   },
   {
    "duration": 229,
    "start_time": "2022-07-19T10:12:34.857Z"
   },
   {
    "duration": 45,
    "start_time": "2022-07-19T10:12:35.089Z"
   },
   {
    "duration": 38,
    "start_time": "2022-07-19T10:12:35.138Z"
   },
   {
    "duration": 269,
    "start_time": "2022-07-19T10:12:35.178Z"
   },
   {
    "duration": 29,
    "start_time": "2022-07-19T10:12:35.449Z"
   },
   {
    "duration": 304,
    "start_time": "2022-07-19T10:12:35.480Z"
   },
   {
    "duration": 207,
    "start_time": "2022-07-19T10:12:35.786Z"
   },
   {
    "duration": 157,
    "start_time": "2022-07-19T10:12:35.994Z"
   },
   {
    "duration": 205,
    "start_time": "2022-07-19T10:12:36.153Z"
   },
   {
    "duration": 42,
    "start_time": "2022-07-19T10:12:36.360Z"
   },
   {
    "duration": 61,
    "start_time": "2022-07-19T10:12:36.410Z"
   },
   {
    "duration": 10,
    "start_time": "2022-07-19T10:12:36.472Z"
   },
   {
    "duration": 185,
    "start_time": "2022-07-19T10:12:36.484Z"
   },
   {
    "duration": 219,
    "start_time": "2022-07-19T10:12:36.671Z"
   },
   {
    "duration": 55,
    "start_time": "2022-07-19T10:12:36.891Z"
   },
   {
    "duration": 39,
    "start_time": "2022-07-19T10:12:36.948Z"
   },
   {
    "duration": 70,
    "start_time": "2022-07-19T10:12:36.989Z"
   },
   {
    "duration": 8,
    "start_time": "2022-07-19T10:12:37.063Z"
   },
   {
    "duration": 19,
    "start_time": "2022-07-19T10:12:37.073Z"
   },
   {
    "duration": 55,
    "start_time": "2022-07-19T10:12:37.093Z"
   },
   {
    "duration": 208,
    "start_time": "2022-07-19T10:12:37.150Z"
   },
   {
    "duration": 107,
    "start_time": "2022-07-19T10:12:37.360Z"
   },
   {
    "duration": 67,
    "start_time": "2022-07-19T10:12:37.469Z"
   },
   {
    "duration": 49,
    "start_time": "2022-07-19T10:12:37.543Z"
   },
   {
    "duration": 3,
    "start_time": "2022-07-19T10:12:37.594Z"
   },
   {
    "duration": 194,
    "start_time": "2022-07-19T10:12:37.599Z"
   },
   {
    "duration": 5,
    "start_time": "2022-07-19T10:12:37.796Z"
   },
   {
    "duration": 621,
    "start_time": "2022-07-19T10:12:37.803Z"
   },
   {
    "duration": 434,
    "start_time": "2022-07-19T10:12:38.435Z"
   },
   {
    "duration": 6,
    "start_time": "2022-07-19T10:12:38.871Z"
   },
   {
    "duration": 10,
    "start_time": "2022-07-19T10:12:38.879Z"
   },
   {
    "duration": 8,
    "start_time": "2022-07-19T10:12:38.891Z"
   },
   {
    "duration": 135,
    "start_time": "2022-07-19T10:12:45.768Z"
   },
   {
    "duration": 12,
    "start_time": "2022-07-19T10:13:01.810Z"
   },
   {
    "duration": 1825,
    "start_time": "2022-07-19T10:19:17.271Z"
   },
   {
    "duration": 3720,
    "start_time": "2022-07-19T10:19:19.098Z"
   },
   {
    "duration": 261,
    "start_time": "2022-07-19T10:19:22.826Z"
   },
   {
    "duration": 63,
    "start_time": "2022-07-19T10:19:23.089Z"
   },
   {
    "duration": 18,
    "start_time": "2022-07-19T10:19:23.155Z"
   },
   {
    "duration": 156,
    "start_time": "2022-07-19T10:19:23.175Z"
   },
   {
    "duration": 133,
    "start_time": "2022-07-19T10:19:23.337Z"
   },
   {
    "duration": 176,
    "start_time": "2022-07-19T10:19:23.472Z"
   },
   {
    "duration": 238,
    "start_time": "2022-07-19T10:19:23.650Z"
   },
   {
    "duration": 50,
    "start_time": "2022-07-19T10:19:23.890Z"
   },
   {
    "duration": 231,
    "start_time": "2022-07-19T10:19:23.941Z"
   },
   {
    "duration": 20,
    "start_time": "2022-07-19T10:19:24.174Z"
   },
   {
    "duration": 74,
    "start_time": "2022-07-19T10:19:24.196Z"
   },
   {
    "duration": 280,
    "start_time": "2022-07-19T10:19:24.275Z"
   },
   {
    "duration": 28,
    "start_time": "2022-07-19T10:19:24.557Z"
   },
   {
    "duration": 309,
    "start_time": "2022-07-19T10:19:24.587Z"
   },
   {
    "duration": 223,
    "start_time": "2022-07-19T10:19:24.898Z"
   },
   {
    "duration": 149,
    "start_time": "2022-07-19T10:19:25.128Z"
   },
   {
    "duration": 249,
    "start_time": "2022-07-19T10:19:25.280Z"
   },
   {
    "duration": 56,
    "start_time": "2022-07-19T10:19:25.530Z"
   },
   {
    "duration": 65,
    "start_time": "2022-07-19T10:19:25.588Z"
   },
   {
    "duration": 8,
    "start_time": "2022-07-19T10:19:25.654Z"
   },
   {
    "duration": 200,
    "start_time": "2022-07-19T10:19:25.664Z"
   },
   {
    "duration": 237,
    "start_time": "2022-07-19T10:19:25.866Z"
   },
   {
    "duration": 59,
    "start_time": "2022-07-19T10:19:26.105Z"
   },
   {
    "duration": 37,
    "start_time": "2022-07-19T10:19:26.166Z"
   },
   {
    "duration": 68,
    "start_time": "2022-07-19T10:19:26.213Z"
   },
   {
    "duration": 9,
    "start_time": "2022-07-19T10:19:26.283Z"
   },
   {
    "duration": 21,
    "start_time": "2022-07-19T10:19:26.294Z"
   },
   {
    "duration": 42,
    "start_time": "2022-07-19T10:19:26.317Z"
   },
   {
    "duration": 243,
    "start_time": "2022-07-19T10:19:26.361Z"
   },
   {
    "duration": 114,
    "start_time": "2022-07-19T10:19:26.607Z"
   },
   {
    "duration": 44,
    "start_time": "2022-07-19T10:19:26.729Z"
   },
   {
    "duration": 76,
    "start_time": "2022-07-19T10:19:26.775Z"
   },
   {
    "duration": 3,
    "start_time": "2022-07-19T10:19:26.853Z"
   },
   {
    "duration": 204,
    "start_time": "2022-07-19T10:19:26.857Z"
   },
   {
    "duration": 6,
    "start_time": "2022-07-19T10:19:27.063Z"
   },
   {
    "duration": 686,
    "start_time": "2022-07-19T10:19:27.070Z"
   },
   {
    "duration": 427,
    "start_time": "2022-07-19T10:19:27.759Z"
   },
   {
    "duration": 6,
    "start_time": "2022-07-19T10:19:28.188Z"
   },
   {
    "duration": 5,
    "start_time": "2022-07-19T10:21:42.936Z"
   },
   {
    "duration": 977,
    "start_time": "2022-07-19T10:21:42.944Z"
   },
   {
    "duration": 169,
    "start_time": "2022-07-19T10:21:43.923Z"
   },
   {
    "duration": 50,
    "start_time": "2022-07-19T10:21:44.094Z"
   },
   {
    "duration": 23,
    "start_time": "2022-07-19T10:21:44.147Z"
   },
   {
    "duration": 133,
    "start_time": "2022-07-19T10:21:44.172Z"
   },
   {
    "duration": 156,
    "start_time": "2022-07-19T10:21:44.312Z"
   },
   {
    "duration": 146,
    "start_time": "2022-07-19T10:21:44.470Z"
   },
   {
    "duration": 242,
    "start_time": "2022-07-19T10:21:44.618Z"
   },
   {
    "duration": 25,
    "start_time": "2022-07-19T10:21:44.862Z"
   },
   {
    "duration": 247,
    "start_time": "2022-07-19T10:21:44.888Z"
   },
   {
    "duration": 22,
    "start_time": "2022-07-19T10:21:45.137Z"
   },
   {
    "duration": 62,
    "start_time": "2022-07-19T10:21:45.161Z"
   },
   {
    "duration": 259,
    "start_time": "2022-07-19T10:21:45.231Z"
   },
   {
    "duration": 50,
    "start_time": "2022-07-19T10:21:45.492Z"
   },
   {
    "duration": 222,
    "start_time": "2022-07-19T10:21:45.544Z"
   },
   {
    "duration": 217,
    "start_time": "2022-07-19T10:21:45.768Z"
   },
   {
    "duration": 184,
    "start_time": "2022-07-19T10:21:45.987Z"
   },
   {
    "duration": 224,
    "start_time": "2022-07-19T10:21:46.173Z"
   },
   {
    "duration": 62,
    "start_time": "2022-07-19T10:21:46.398Z"
   },
   {
    "duration": 62,
    "start_time": "2022-07-19T10:21:46.462Z"
   },
   {
    "duration": 43,
    "start_time": "2022-07-19T10:21:46.529Z"
   },
   {
    "duration": 348,
    "start_time": "2022-07-19T10:21:46.574Z"
   },
   {
    "duration": 211,
    "start_time": "2022-07-19T10:21:46.926Z"
   },
   {
    "duration": 44,
    "start_time": "2022-07-19T10:21:47.143Z"
   },
   {
    "duration": 55,
    "start_time": "2022-07-19T10:21:47.189Z"
   },
   {
    "duration": 38,
    "start_time": "2022-07-19T10:21:47.246Z"
   },
   {
    "duration": 16,
    "start_time": "2022-07-19T10:21:47.286Z"
   },
   {
    "duration": 27,
    "start_time": "2022-07-19T10:21:47.304Z"
   },
   {
    "duration": 59,
    "start_time": "2022-07-19T10:21:47.333Z"
   },
   {
    "duration": 224,
    "start_time": "2022-07-19T10:21:47.394Z"
   },
   {
    "duration": 101,
    "start_time": "2022-07-19T10:21:47.622Z"
   },
   {
    "duration": 51,
    "start_time": "2022-07-19T10:21:47.725Z"
   },
   {
    "duration": 64,
    "start_time": "2022-07-19T10:21:47.778Z"
   },
   {
    "duration": 3,
    "start_time": "2022-07-19T10:21:47.846Z"
   },
   {
    "duration": 190,
    "start_time": "2022-07-19T10:21:47.851Z"
   },
   {
    "duration": 5,
    "start_time": "2022-07-19T10:21:48.044Z"
   },
   {
    "duration": 639,
    "start_time": "2022-07-19T10:21:48.051Z"
   },
   {
    "duration": 419,
    "start_time": "2022-07-19T10:21:48.692Z"
   },
   {
    "duration": 10,
    "start_time": "2022-07-19T10:21:49.113Z"
   },
   {
    "duration": 89565,
    "start_time": "2022-07-19T10:22:14.471Z"
   },
   {
    "duration": 271,
    "start_time": "2022-07-19T10:23:44.046Z"
   },
   {
    "duration": 7,
    "start_time": "2022-07-19T10:23:44.325Z"
   },
   {
    "duration": 5,
    "start_time": "2022-07-19T10:24:43.803Z"
   },
   {
    "duration": 7,
    "start_time": "2022-07-19T10:24:58.103Z"
   },
   {
    "duration": 3,
    "start_time": "2022-07-19T10:25:54.275Z"
   },
   {
    "duration": 4,
    "start_time": "2022-07-19T10:25:54.628Z"
   },
   {
    "duration": 152413,
    "start_time": "2022-07-19T10:25:54.995Z"
   },
   {
    "duration": 3,
    "start_time": "2022-07-19T10:28:27.410Z"
   },
   {
    "duration": 141,
    "start_time": "2022-07-19T10:28:27.415Z"
   },
   {
    "duration": 5,
    "start_time": "2022-07-19T10:28:27.558Z"
   },
   {
    "duration": 10,
    "start_time": "2022-07-19T10:28:55.632Z"
   },
   {
    "duration": 5,
    "start_time": "2022-07-19T10:29:06.962Z"
   },
   {
    "duration": 17,
    "start_time": "2022-07-19T10:29:14.926Z"
   },
   {
    "duration": 4,
    "start_time": "2022-07-19T10:29:25.641Z"
   },
   {
    "duration": 5,
    "start_time": "2022-07-19T10:29:33.411Z"
   },
   {
    "duration": 4,
    "start_time": "2022-07-19T10:29:57.763Z"
   },
   {
    "duration": 3,
    "start_time": "2022-07-19T10:29:58.843Z"
   },
   {
    "duration": 2099,
    "start_time": "2022-07-19T10:41:08.646Z"
   },
   {
    "duration": 2291,
    "start_time": "2022-07-19T10:41:10.752Z"
   },
   {
    "duration": 402,
    "start_time": "2022-07-19T10:41:13.049Z"
   },
   {
    "duration": 113,
    "start_time": "2022-07-19T10:41:13.453Z"
   },
   {
    "duration": 20,
    "start_time": "2022-07-19T10:41:13.610Z"
   },
   {
    "duration": 148,
    "start_time": "2022-07-19T10:41:13.633Z"
   },
   {
    "duration": 111,
    "start_time": "2022-07-19T10:41:13.782Z"
   },
   {
    "duration": 156,
    "start_time": "2022-07-19T10:41:13.895Z"
   },
   {
    "duration": 242,
    "start_time": "2022-07-19T10:41:14.053Z"
   },
   {
    "duration": 43,
    "start_time": "2022-07-19T10:41:14.298Z"
   },
   {
    "duration": 244,
    "start_time": "2022-07-19T10:41:14.343Z"
   },
   {
    "duration": 32,
    "start_time": "2022-07-19T10:41:14.589Z"
   },
   {
    "duration": 44,
    "start_time": "2022-07-19T10:41:14.622Z"
   },
   {
    "duration": 268,
    "start_time": "2022-07-19T10:41:14.668Z"
   },
   {
    "duration": 27,
    "start_time": "2022-07-19T10:41:14.938Z"
   },
   {
    "duration": 285,
    "start_time": "2022-07-19T10:41:14.966Z"
   },
   {
    "duration": 217,
    "start_time": "2022-07-19T10:41:15.255Z"
   },
   {
    "duration": 153,
    "start_time": "2022-07-19T10:41:15.473Z"
   },
   {
    "duration": 207,
    "start_time": "2022-07-19T10:41:15.628Z"
   },
   {
    "duration": 37,
    "start_time": "2022-07-19T10:41:15.842Z"
   },
   {
    "duration": 48,
    "start_time": "2022-07-19T10:41:15.881Z"
   },
   {
    "duration": 20,
    "start_time": "2022-07-19T10:41:15.938Z"
   },
   {
    "duration": 181,
    "start_time": "2022-07-19T10:41:15.960Z"
   },
   {
    "duration": 212,
    "start_time": "2022-07-19T10:41:16.143Z"
   },
   {
    "duration": 43,
    "start_time": "2022-07-19T10:41:16.357Z"
   },
   {
    "duration": 58,
    "start_time": "2022-07-19T10:41:16.410Z"
   },
   {
    "duration": 68,
    "start_time": "2022-07-19T10:41:16.470Z"
   },
   {
    "duration": 10,
    "start_time": "2022-07-19T10:41:16.542Z"
   },
   {
    "duration": 21,
    "start_time": "2022-07-19T10:41:16.554Z"
   },
   {
    "duration": 55,
    "start_time": "2022-07-19T10:41:16.577Z"
   },
   {
    "duration": 199,
    "start_time": "2022-07-19T10:41:16.634Z"
   },
   {
    "duration": 106,
    "start_time": "2022-07-19T10:41:16.836Z"
   },
   {
    "duration": 55,
    "start_time": "2022-07-19T10:41:16.944Z"
   },
   {
    "duration": 61,
    "start_time": "2022-07-19T10:41:17.000Z"
   },
   {
    "duration": 3,
    "start_time": "2022-07-19T10:41:17.063Z"
   },
   {
    "duration": 180,
    "start_time": "2022-07-19T10:41:17.068Z"
   },
   {
    "duration": 5,
    "start_time": "2022-07-19T10:41:17.250Z"
   },
   {
    "duration": 687,
    "start_time": "2022-07-19T10:41:17.257Z"
   },
   {
    "duration": 420,
    "start_time": "2022-07-19T10:41:17.945Z"
   },
   {
    "duration": 5,
    "start_time": "2022-07-19T10:41:18.367Z"
   },
   {
    "duration": 17,
    "start_time": "2022-07-19T10:41:18.373Z"
   },
   {
    "duration": 100,
    "start_time": "2022-07-19T10:41:18.392Z"
   },
   {
    "duration": 0,
    "start_time": "2022-07-19T10:41:18.494Z"
   },
   {
    "duration": 3,
    "start_time": "2022-07-19T10:41:25.187Z"
   },
   {
    "duration": 1611,
    "start_time": "2022-07-19T10:43:27.905Z"
   },
   {
    "duration": 929,
    "start_time": "2022-07-19T10:43:29.518Z"
   },
   {
    "duration": 365,
    "start_time": "2022-07-19T10:43:30.449Z"
   },
   {
    "duration": 104,
    "start_time": "2022-07-19T10:43:30.818Z"
   },
   {
    "duration": 117,
    "start_time": "2022-07-19T10:43:30.925Z"
   },
   {
    "duration": 367,
    "start_time": "2022-07-19T10:43:31.044Z"
   },
   {
    "duration": 212,
    "start_time": "2022-07-19T10:43:31.419Z"
   },
   {
    "duration": 412,
    "start_time": "2022-07-19T10:43:31.634Z"
   },
   {
    "duration": 565,
    "start_time": "2022-07-19T10:43:32.048Z"
   },
   {
    "duration": 104,
    "start_time": "2022-07-19T10:43:32.620Z"
   },
   {
    "duration": 229,
    "start_time": "2022-07-19T10:43:32.726Z"
   },
   {
    "duration": 19,
    "start_time": "2022-07-19T10:43:32.957Z"
   },
   {
    "duration": 63,
    "start_time": "2022-07-19T10:43:32.978Z"
   },
   {
    "duration": 225,
    "start_time": "2022-07-19T10:43:33.045Z"
   },
   {
    "duration": 39,
    "start_time": "2022-07-19T10:43:33.272Z"
   },
   {
    "duration": 420,
    "start_time": "2022-07-19T10:43:33.315Z"
   },
   {
    "duration": 412,
    "start_time": "2022-07-19T10:43:33.737Z"
   },
   {
    "duration": 291,
    "start_time": "2022-07-19T10:43:34.150Z"
   },
   {
    "duration": 488,
    "start_time": "2022-07-19T10:43:34.443Z"
   },
   {
    "duration": 87,
    "start_time": "2022-07-19T10:43:34.932Z"
   },
   {
    "duration": 104,
    "start_time": "2022-07-19T10:43:35.021Z"
   },
   {
    "duration": 14,
    "start_time": "2022-07-19T10:43:35.127Z"
   },
   {
    "duration": 473,
    "start_time": "2022-07-19T10:43:35.143Z"
   },
   {
    "duration": 364,
    "start_time": "2022-07-19T10:43:35.618Z"
   },
   {
    "duration": 64,
    "start_time": "2022-07-19T10:43:35.984Z"
   },
   {
    "duration": 53,
    "start_time": "2022-07-19T10:43:36.050Z"
   },
   {
    "duration": 49,
    "start_time": "2022-07-19T10:43:36.105Z"
   },
   {
    "duration": 18,
    "start_time": "2022-07-19T10:43:36.155Z"
   },
   {
    "duration": 27,
    "start_time": "2022-07-19T10:43:36.174Z"
   },
   {
    "duration": 56,
    "start_time": "2022-07-19T10:43:36.203Z"
   },
   {
    "duration": 197,
    "start_time": "2022-07-19T10:43:36.261Z"
   },
   {
    "duration": 97,
    "start_time": "2022-07-19T10:43:36.460Z"
   },
   {
    "duration": 64,
    "start_time": "2022-07-19T10:43:36.558Z"
   },
   {
    "duration": 56,
    "start_time": "2022-07-19T10:43:36.630Z"
   },
   {
    "duration": 4,
    "start_time": "2022-07-19T10:43:36.688Z"
   },
   {
    "duration": 203,
    "start_time": "2022-07-19T10:43:36.694Z"
   },
   {
    "duration": 6,
    "start_time": "2022-07-19T10:43:36.898Z"
   },
   {
    "duration": 744,
    "start_time": "2022-07-19T10:43:36.906Z"
   },
   {
    "duration": 428,
    "start_time": "2022-07-19T10:43:37.651Z"
   },
   {
    "duration": 4,
    "start_time": "2022-07-19T10:43:38.081Z"
   },
   {
    "duration": 5,
    "start_time": "2022-07-19T10:43:38.089Z"
   },
   {
    "duration": 9,
    "start_time": "2022-07-19T10:43:38.113Z"
   },
   {
    "duration": 1654,
    "start_time": "2022-07-19T10:50:12.828Z"
   },
   {
    "duration": 1001,
    "start_time": "2022-07-19T10:50:14.485Z"
   },
   {
    "duration": 233,
    "start_time": "2022-07-19T10:50:15.488Z"
   },
   {
    "duration": 50,
    "start_time": "2022-07-19T10:50:15.733Z"
   },
   {
    "duration": 37,
    "start_time": "2022-07-19T10:50:15.787Z"
   },
   {
    "duration": 171,
    "start_time": "2022-07-19T10:50:15.826Z"
   },
   {
    "duration": 113,
    "start_time": "2022-07-19T10:50:16.012Z"
   },
   {
    "duration": 151,
    "start_time": "2022-07-19T10:50:16.130Z"
   },
   {
    "duration": 289,
    "start_time": "2022-07-19T10:50:16.283Z"
   },
   {
    "duration": 42,
    "start_time": "2022-07-19T10:50:16.575Z"
   },
   {
    "duration": 229,
    "start_time": "2022-07-19T10:50:16.619Z"
   },
   {
    "duration": 27,
    "start_time": "2022-07-19T10:50:16.851Z"
   },
   {
    "duration": 61,
    "start_time": "2022-07-19T10:50:16.881Z"
   },
   {
    "duration": 247,
    "start_time": "2022-07-19T10:50:16.945Z"
   },
   {
    "duration": 36,
    "start_time": "2022-07-19T10:50:17.195Z"
   },
   {
    "duration": 339,
    "start_time": "2022-07-19T10:50:17.234Z"
   },
   {
    "duration": 222,
    "start_time": "2022-07-19T10:50:17.576Z"
   },
   {
    "duration": 168,
    "start_time": "2022-07-19T10:50:17.801Z"
   },
   {
    "duration": 214,
    "start_time": "2022-07-19T10:50:17.972Z"
   },
   {
    "duration": 73,
    "start_time": "2022-07-19T10:50:18.189Z"
   },
   {
    "duration": 62,
    "start_time": "2022-07-19T10:50:18.264Z"
   },
   {
    "duration": 9,
    "start_time": "2022-07-19T10:50:18.328Z"
   },
   {
    "duration": 212,
    "start_time": "2022-07-19T10:50:18.339Z"
   },
   {
    "duration": 227,
    "start_time": "2022-07-19T10:50:18.553Z"
   },
   {
    "duration": 57,
    "start_time": "2022-07-19T10:50:18.782Z"
   },
   {
    "duration": 77,
    "start_time": "2022-07-19T10:50:18.841Z"
   },
   {
    "duration": 39,
    "start_time": "2022-07-19T10:50:18.925Z"
   },
   {
    "duration": 13,
    "start_time": "2022-07-19T10:50:18.966Z"
   },
   {
    "duration": 36,
    "start_time": "2022-07-19T10:50:18.981Z"
   },
   {
    "duration": 43,
    "start_time": "2022-07-19T10:50:19.019Z"
   },
   {
    "duration": 212,
    "start_time": "2022-07-19T10:50:19.064Z"
   },
   {
    "duration": 105,
    "start_time": "2022-07-19T10:50:19.278Z"
   },
   {
    "duration": 58,
    "start_time": "2022-07-19T10:50:19.385Z"
   },
   {
    "duration": 68,
    "start_time": "2022-07-19T10:50:19.445Z"
   },
   {
    "duration": 9,
    "start_time": "2022-07-19T10:50:19.519Z"
   },
   {
    "duration": 183,
    "start_time": "2022-07-19T10:50:19.531Z"
   },
   {
    "duration": 8,
    "start_time": "2022-07-19T10:50:19.716Z"
   },
   {
    "duration": 885,
    "start_time": "2022-07-19T10:50:19.727Z"
   },
   {
    "duration": 429,
    "start_time": "2022-07-19T10:50:20.613Z"
   },
   {
    "duration": 6,
    "start_time": "2022-07-19T10:50:21.044Z"
   },
   {
    "duration": 159,
    "start_time": "2022-07-19T10:50:34.325Z"
   },
   {
    "duration": 3,
    "start_time": "2022-07-19T10:50:46.897Z"
   },
   {
    "duration": 83467,
    "start_time": "2022-07-19T10:50:47.359Z"
   },
   {
    "duration": 60760,
    "start_time": "2022-07-19T10:52:47.675Z"
   },
   {
    "duration": 6,
    "start_time": "2022-07-19T10:57:16.496Z"
   },
   {
    "duration": 958,
    "start_time": "2022-07-19T10:57:16.505Z"
   },
   {
    "duration": 165,
    "start_time": "2022-07-19T10:57:17.465Z"
   },
   {
    "duration": 49,
    "start_time": "2022-07-19T10:57:17.633Z"
   },
   {
    "duration": 35,
    "start_time": "2022-07-19T10:57:17.685Z"
   },
   {
    "duration": 144,
    "start_time": "2022-07-19T10:57:17.723Z"
   },
   {
    "duration": 121,
    "start_time": "2022-07-19T10:57:17.870Z"
   },
   {
    "duration": 168,
    "start_time": "2022-07-19T10:57:17.993Z"
   },
   {
    "duration": 482,
    "start_time": "2022-07-19T10:57:18.164Z"
   },
   {
    "duration": 94,
    "start_time": "2022-07-19T10:57:18.648Z"
   },
   {
    "duration": 601,
    "start_time": "2022-07-19T10:57:18.744Z"
   },
   {
    "duration": 78,
    "start_time": "2022-07-19T10:57:19.348Z"
   },
   {
    "duration": 109,
    "start_time": "2022-07-19T10:57:19.435Z"
   },
   {
    "duration": 678,
    "start_time": "2022-07-19T10:57:19.546Z"
   },
   {
    "duration": 92,
    "start_time": "2022-07-19T10:57:20.226Z"
   },
   {
    "duration": 529,
    "start_time": "2022-07-19T10:57:20.328Z"
   },
   {
    "duration": 329,
    "start_time": "2022-07-19T10:57:20.910Z"
   },
   {
    "duration": 128,
    "start_time": "2022-07-19T10:57:21.241Z"
   },
   {
    "duration": 245,
    "start_time": "2022-07-19T10:57:21.371Z"
   },
   {
    "duration": 43,
    "start_time": "2022-07-19T10:57:21.618Z"
   },
   {
    "duration": 74,
    "start_time": "2022-07-19T10:57:21.664Z"
   },
   {
    "duration": 12,
    "start_time": "2022-07-19T10:57:21.741Z"
   },
   {
    "duration": 349,
    "start_time": "2022-07-19T10:57:21.755Z"
   },
   {
    "duration": 245,
    "start_time": "2022-07-19T10:57:22.121Z"
   },
   {
    "duration": 53,
    "start_time": "2022-07-19T10:57:22.369Z"
   },
   {
    "duration": 119,
    "start_time": "2022-07-19T10:57:22.423Z"
   },
   {
    "duration": 51,
    "start_time": "2022-07-19T10:57:22.545Z"
   },
   {
    "duration": 20,
    "start_time": "2022-07-19T10:57:22.598Z"
   },
   {
    "duration": 33,
    "start_time": "2022-07-19T10:57:22.621Z"
   },
   {
    "duration": 38,
    "start_time": "2022-07-19T10:57:22.656Z"
   },
   {
    "duration": 228,
    "start_time": "2022-07-19T10:57:22.696Z"
   },
   {
    "duration": 107,
    "start_time": "2022-07-19T10:57:22.926Z"
   },
   {
    "duration": 45,
    "start_time": "2022-07-19T10:57:23.035Z"
   },
   {
    "duration": 81,
    "start_time": "2022-07-19T10:57:23.084Z"
   },
   {
    "duration": 4,
    "start_time": "2022-07-19T10:57:23.168Z"
   },
   {
    "duration": 216,
    "start_time": "2022-07-19T10:57:23.174Z"
   },
   {
    "duration": 6,
    "start_time": "2022-07-19T10:57:23.394Z"
   },
   {
    "duration": 790,
    "start_time": "2022-07-19T10:57:23.414Z"
   },
   {
    "duration": 477,
    "start_time": "2022-07-19T10:57:24.206Z"
   },
   {
    "duration": 6,
    "start_time": "2022-07-19T10:57:24.685Z"
   },
   {
    "duration": 8,
    "start_time": "2022-07-19T10:58:21.407Z"
   },
   {
    "duration": 96,
    "start_time": "2022-07-19T10:58:23.167Z"
   },
   {
    "duration": 4,
    "start_time": "2022-07-19T10:58:35.967Z"
   },
   {
    "duration": 4,
    "start_time": "2022-07-19T10:58:36.730Z"
   },
   {
    "duration": 1963,
    "start_time": "2022-07-19T11:15:20.338Z"
   },
   {
    "duration": 2109,
    "start_time": "2022-07-19T11:15:22.304Z"
   },
   {
    "duration": 523,
    "start_time": "2022-07-19T11:15:24.416Z"
   },
   {
    "duration": 124,
    "start_time": "2022-07-19T11:15:24.944Z"
   },
   {
    "duration": 29,
    "start_time": "2022-07-19T11:15:25.109Z"
   },
   {
    "duration": 423,
    "start_time": "2022-07-19T11:15:25.140Z"
   },
   {
    "duration": 167,
    "start_time": "2022-07-19T11:15:25.576Z"
   },
   {
    "duration": 234,
    "start_time": "2022-07-19T11:15:25.745Z"
   },
   {
    "duration": 410,
    "start_time": "2022-07-19T11:15:25.981Z"
   },
   {
    "duration": 66,
    "start_time": "2022-07-19T11:15:26.394Z"
   },
   {
    "duration": 264,
    "start_time": "2022-07-19T11:15:26.468Z"
   },
   {
    "duration": 28,
    "start_time": "2022-07-19T11:15:26.734Z"
   },
   {
    "duration": 165,
    "start_time": "2022-07-19T11:15:26.766Z"
   },
   {
    "duration": 383,
    "start_time": "2022-07-19T11:15:26.935Z"
   },
   {
    "duration": 46,
    "start_time": "2022-07-19T11:15:27.329Z"
   },
   {
    "duration": 368,
    "start_time": "2022-07-19T11:15:27.378Z"
   },
   {
    "duration": 270,
    "start_time": "2022-07-19T11:15:27.752Z"
   },
   {
    "duration": 166,
    "start_time": "2022-07-19T11:15:28.039Z"
   },
   {
    "duration": 244,
    "start_time": "2022-07-19T11:15:28.207Z"
   },
   {
    "duration": 71,
    "start_time": "2022-07-19T11:15:28.455Z"
   },
   {
    "duration": 64,
    "start_time": "2022-07-19T11:15:28.534Z"
   },
   {
    "duration": 17,
    "start_time": "2022-07-19T11:15:28.600Z"
   },
   {
    "duration": 255,
    "start_time": "2022-07-19T11:15:28.619Z"
   },
   {
    "duration": 328,
    "start_time": "2022-07-19T11:15:28.877Z"
   },
   {
    "duration": 64,
    "start_time": "2022-07-19T11:15:29.213Z"
   },
   {
    "duration": 64,
    "start_time": "2022-07-19T11:15:29.279Z"
   },
   {
    "duration": 125,
    "start_time": "2022-07-19T11:15:29.345Z"
   },
   {
    "duration": 20,
    "start_time": "2022-07-19T11:15:29.473Z"
   },
   {
    "duration": 91,
    "start_time": "2022-07-19T11:15:29.496Z"
   },
   {
    "duration": 65,
    "start_time": "2022-07-19T11:15:29.591Z"
   },
   {
    "duration": 334,
    "start_time": "2022-07-19T11:15:29.659Z"
   },
   {
    "duration": 187,
    "start_time": "2022-07-19T11:15:29.996Z"
   },
   {
    "duration": 92,
    "start_time": "2022-07-19T11:15:30.194Z"
   },
   {
    "duration": 189,
    "start_time": "2022-07-19T11:15:30.289Z"
   },
   {
    "duration": 38,
    "start_time": "2022-07-19T11:15:30.482Z"
   },
   {
    "duration": 288,
    "start_time": "2022-07-19T11:15:30.523Z"
   },
   {
    "duration": 12,
    "start_time": "2022-07-19T11:15:30.813Z"
   },
   {
    "duration": 1056,
    "start_time": "2022-07-19T11:15:30.827Z"
   },
   {
    "duration": 532,
    "start_time": "2022-07-19T11:15:31.886Z"
   },
   {
    "duration": 13,
    "start_time": "2022-07-19T11:15:32.420Z"
   },
   {
    "duration": 74,
    "start_time": "2022-07-19T11:15:32.438Z"
   },
   {
    "duration": 96174,
    "start_time": "2022-07-19T11:15:32.524Z"
   },
   {
    "duration": 0,
    "start_time": "2022-07-19T11:17:08.700Z"
   },
   {
    "duration": 0,
    "start_time": "2022-07-19T11:17:08.702Z"
   },
   {
    "duration": 5,
    "start_time": "2022-07-19T11:17:17.071Z"
   },
   {
    "duration": 113320,
    "start_time": "2022-07-19T11:17:20.154Z"
   },
   {
    "duration": 338,
    "start_time": "2022-07-19T11:19:13.476Z"
   },
   {
    "duration": 15,
    "start_time": "2022-07-19T11:19:13.825Z"
   },
   {
    "duration": 116,
    "start_time": "2022-07-19T11:19:13.847Z"
   },
   {
    "duration": 145,
    "start_time": "2022-07-19T11:19:27.507Z"
   },
   {
    "duration": 30,
    "start_time": "2022-07-19T11:19:36.941Z"
   },
   {
    "duration": 163,
    "start_time": "2022-07-19T11:20:55.995Z"
   },
   {
    "duration": 18,
    "start_time": "2022-07-19T11:21:33.043Z"
   },
   {
    "duration": 3,
    "start_time": "2022-07-19T11:22:17.072Z"
   },
   {
    "duration": 20,
    "start_time": "2022-07-19T11:29:37.658Z"
   },
   {
    "duration": 17,
    "start_time": "2022-07-19T11:29:58.185Z"
   },
   {
    "duration": 25,
    "start_time": "2022-07-19T11:30:06.457Z"
   },
   {
    "duration": 19,
    "start_time": "2022-07-19T11:30:24.953Z"
   },
   {
    "duration": 18,
    "start_time": "2022-07-19T11:30:34.285Z"
   },
   {
    "duration": 18,
    "start_time": "2022-07-19T11:30:45.584Z"
   },
   {
    "duration": 11,
    "start_time": "2022-07-19T11:31:22.518Z"
   },
   {
    "duration": 84980,
    "start_time": "2022-07-19T11:31:22.832Z"
   },
   {
    "duration": 305,
    "start_time": "2022-07-19T11:32:47.815Z"
   },
   {
    "duration": 11,
    "start_time": "2022-07-19T11:32:48.126Z"
   },
   {
    "duration": 24,
    "start_time": "2022-07-19T11:32:48.212Z"
   },
   {
    "duration": 12,
    "start_time": "2022-07-19T11:32:59.965Z"
   },
   {
    "duration": 11,
    "start_time": "2022-07-19T11:33:19.944Z"
   },
   {
    "duration": 21,
    "start_time": "2022-07-19T11:33:27.104Z"
   },
   {
    "duration": 10,
    "start_time": "2022-07-19T11:33:35.645Z"
   },
   {
    "duration": 23,
    "start_time": "2022-07-19T11:35:07.704Z"
   },
   {
    "duration": 19,
    "start_time": "2022-07-19T11:35:40.031Z"
   },
   {
    "duration": 4,
    "start_time": "2022-07-19T11:38:10.804Z"
   },
   {
    "duration": 10899,
    "start_time": "2022-07-19T11:38:11.564Z"
   },
   {
    "duration": 151,
    "start_time": "2022-07-19T11:38:36.805Z"
   },
   {
    "duration": 7,
    "start_time": "2022-07-19T11:39:04.064Z"
   },
   {
    "duration": 6,
    "start_time": "2022-07-19T11:39:18.935Z"
   },
   {
    "duration": 3,
    "start_time": "2022-07-19T11:39:19.403Z"
   },
   {
    "duration": 84776,
    "start_time": "2022-07-19T11:39:19.564Z"
   },
   {
    "duration": 476,
    "start_time": "2022-07-19T11:40:44.347Z"
   },
   {
    "duration": 90,
    "start_time": "2022-07-19T11:40:44.826Z"
   },
   {
    "duration": 5,
    "start_time": "2022-07-19T11:40:45.318Z"
   },
   {
    "duration": 7861,
    "start_time": "2022-07-19T11:40:45.327Z"
   },
   {
    "duration": 101,
    "start_time": "2022-07-19T11:40:53.190Z"
   },
   {
    "duration": 4,
    "start_time": "2022-07-19T11:40:53.293Z"
   },
   {
    "duration": 17,
    "start_time": "2022-07-19T11:41:08.644Z"
   },
   {
    "duration": 11,
    "start_time": "2022-07-19T11:41:45.351Z"
   },
   {
    "duration": 10,
    "start_time": "2022-07-19T11:42:54.583Z"
   },
   {
    "duration": 3,
    "start_time": "2022-07-19T11:45:55.448Z"
   },
   {
    "duration": 574972,
    "start_time": "2022-07-19T11:45:57.004Z"
   },
   {
    "duration": 3127,
    "start_time": "2022-07-19T11:55:31.978Z"
   },
   {
    "duration": 10,
    "start_time": "2022-07-19T11:55:35.106Z"
   },
   {
    "duration": 32,
    "start_time": "2022-07-19T11:55:35.118Z"
   },
   {
    "duration": 12,
    "start_time": "2022-07-19T11:55:35.152Z"
   },
   {
    "duration": 0,
    "start_time": "2022-07-19T11:55:35.166Z"
   },
   {
    "duration": 0,
    "start_time": "2022-07-19T11:55:35.167Z"
   },
   {
    "duration": 0,
    "start_time": "2022-07-19T11:55:35.168Z"
   },
   {
    "duration": 0,
    "start_time": "2022-07-19T11:55:35.170Z"
   },
   {
    "duration": 0,
    "start_time": "2022-07-19T11:55:35.171Z"
   },
   {
    "duration": 0,
    "start_time": "2022-07-19T11:55:35.172Z"
   },
   {
    "duration": 0,
    "start_time": "2022-07-19T11:55:35.173Z"
   },
   {
    "duration": 3,
    "start_time": "2022-07-19T11:56:19.805Z"
   },
   {
    "duration": 739295,
    "start_time": "2022-07-19T11:56:21.631Z"
   },
   {
    "duration": 1506,
    "start_time": "2022-07-19T12:08:40.930Z"
   },
   {
    "duration": 5,
    "start_time": "2022-07-19T12:08:42.438Z"
   },
   {
    "duration": 80,
    "start_time": "2022-07-19T12:08:42.511Z"
   },
   {
    "duration": 0,
    "start_time": "2022-07-19T12:08:42.593Z"
   },
   {
    "duration": 1,
    "start_time": "2022-07-19T12:08:42.594Z"
   },
   {
    "duration": 0,
    "start_time": "2022-07-19T12:08:42.596Z"
   },
   {
    "duration": 0,
    "start_time": "2022-07-19T12:08:42.598Z"
   },
   {
    "duration": 76,
    "start_time": "2022-07-19T12:09:11.120Z"
   },
   {
    "duration": 3,
    "start_time": "2022-07-19T12:09:29.878Z"
   },
   {
    "duration": 58115,
    "start_time": "2022-07-19T12:09:32.660Z"
   },
   {
    "duration": 214,
    "start_time": "2022-07-19T12:10:30.777Z"
   },
   {
    "duration": 4,
    "start_time": "2022-07-19T12:10:30.993Z"
   },
   {
    "duration": 24,
    "start_time": "2022-07-19T12:10:30.999Z"
   },
   {
    "duration": 12,
    "start_time": "2022-07-19T12:13:59.270Z"
   },
   {
    "duration": 19,
    "start_time": "2022-07-19T12:14:07.610Z"
   },
   {
    "duration": 15,
    "start_time": "2022-07-19T12:14:18.269Z"
   },
   {
    "duration": 1567,
    "start_time": "2022-07-19T12:17:02.778Z"
   },
   {
    "duration": 986,
    "start_time": "2022-07-19T12:17:04.347Z"
   },
   {
    "duration": 197,
    "start_time": "2022-07-19T12:17:05.335Z"
   },
   {
    "duration": 67,
    "start_time": "2022-07-19T12:17:05.534Z"
   },
   {
    "duration": 33,
    "start_time": "2022-07-19T12:17:05.611Z"
   },
   {
    "duration": 108,
    "start_time": "2022-07-19T12:17:05.646Z"
   },
   {
    "duration": 104,
    "start_time": "2022-07-19T12:17:05.755Z"
   },
   {
    "duration": 165,
    "start_time": "2022-07-19T12:17:05.860Z"
   },
   {
    "duration": 222,
    "start_time": "2022-07-19T12:17:06.027Z"
   },
   {
    "duration": 33,
    "start_time": "2022-07-19T12:17:06.251Z"
   },
   {
    "duration": 235,
    "start_time": "2022-07-19T12:17:06.286Z"
   },
   {
    "duration": 21,
    "start_time": "2022-07-19T12:17:06.523Z"
   },
   {
    "duration": 38,
    "start_time": "2022-07-19T12:17:06.545Z"
   },
   {
    "duration": 230,
    "start_time": "2022-07-19T12:17:06.586Z"
   },
   {
    "duration": 28,
    "start_time": "2022-07-19T12:17:06.826Z"
   },
   {
    "duration": 280,
    "start_time": "2022-07-19T12:17:06.856Z"
   },
   {
    "duration": 210,
    "start_time": "2022-07-19T12:17:07.138Z"
   },
   {
    "duration": 123,
    "start_time": "2022-07-19T12:17:07.350Z"
   },
   {
    "duration": 206,
    "start_time": "2022-07-19T12:17:07.475Z"
   },
   {
    "duration": 57,
    "start_time": "2022-07-19T12:17:07.684Z"
   },
   {
    "duration": 46,
    "start_time": "2022-07-19T12:17:07.743Z"
   },
   {
    "duration": 29,
    "start_time": "2022-07-19T12:17:07.791Z"
   },
   {
    "duration": 200,
    "start_time": "2022-07-19T12:17:07.823Z"
   },
   {
    "duration": 200,
    "start_time": "2022-07-19T12:17:08.025Z"
   },
   {
    "duration": 35,
    "start_time": "2022-07-19T12:17:08.227Z"
   },
   {
    "duration": 50,
    "start_time": "2022-07-19T12:17:08.264Z"
   },
   {
    "duration": 42,
    "start_time": "2022-07-19T12:17:08.326Z"
   },
   {
    "duration": 12,
    "start_time": "2022-07-19T12:17:08.370Z"
   },
   {
    "duration": 24,
    "start_time": "2022-07-19T12:17:08.384Z"
   },
   {
    "duration": 41,
    "start_time": "2022-07-19T12:17:08.412Z"
   },
   {
    "duration": 197,
    "start_time": "2022-07-19T12:17:08.455Z"
   },
   {
    "duration": 102,
    "start_time": "2022-07-19T12:17:08.654Z"
   },
   {
    "duration": 52,
    "start_time": "2022-07-19T12:17:08.759Z"
   },
   {
    "duration": 59,
    "start_time": "2022-07-19T12:17:08.812Z"
   },
   {
    "duration": 3,
    "start_time": "2022-07-19T12:17:08.873Z"
   },
   {
    "duration": 203,
    "start_time": "2022-07-19T12:17:08.878Z"
   },
   {
    "duration": 6,
    "start_time": "2022-07-19T12:17:09.082Z"
   },
   {
    "duration": 665,
    "start_time": "2022-07-19T12:17:09.089Z"
   },
   {
    "duration": 403,
    "start_time": "2022-07-19T12:17:09.756Z"
   },
   {
    "duration": 4,
    "start_time": "2022-07-19T12:17:10.161Z"
   },
   {
    "duration": 43754,
    "start_time": "2022-07-19T12:17:10.170Z"
   },
   {
    "duration": 42497,
    "start_time": "2022-07-19T12:17:53.926Z"
   },
   {
    "duration": 202,
    "start_time": "2022-07-19T12:18:36.426Z"
   },
   {
    "duration": 82,
    "start_time": "2022-07-19T12:18:36.631Z"
   },
   {
    "duration": 113,
    "start_time": "2022-07-19T12:18:36.717Z"
   },
   {
    "duration": 6,
    "start_time": "2022-07-19T12:18:36.832Z"
   },
   {
    "duration": 143934,
    "start_time": "2022-07-19T12:18:36.839Z"
   },
   {
    "duration": 130,
    "start_time": "2022-07-19T12:21:00.775Z"
   },
   {
    "duration": 0,
    "start_time": "2022-07-19T12:21:00.912Z"
   },
   {
    "duration": 0,
    "start_time": "2022-07-19T12:21:00.913Z"
   },
   {
    "duration": 0,
    "start_time": "2022-07-19T12:21:00.914Z"
   },
   {
    "duration": 0,
    "start_time": "2022-07-19T12:21:00.915Z"
   },
   {
    "duration": 0,
    "start_time": "2022-07-19T12:21:00.916Z"
   },
   {
    "duration": 0,
    "start_time": "2022-07-19T12:21:00.917Z"
   },
   {
    "duration": 0,
    "start_time": "2022-07-19T12:21:00.918Z"
   },
   {
    "duration": 0,
    "start_time": "2022-07-19T12:21:00.919Z"
   },
   {
    "duration": 0,
    "start_time": "2022-07-19T12:21:00.924Z"
   },
   {
    "duration": 0,
    "start_time": "2022-07-19T12:21:00.925Z"
   },
   {
    "duration": 0,
    "start_time": "2022-07-19T12:21:00.926Z"
   },
   {
    "duration": 0,
    "start_time": "2022-07-19T12:21:00.927Z"
   },
   {
    "duration": 0,
    "start_time": "2022-07-19T12:21:00.930Z"
   },
   {
    "duration": 0,
    "start_time": "2022-07-19T12:21:00.932Z"
   },
   {
    "duration": 0,
    "start_time": "2022-07-19T12:21:00.933Z"
   },
   {
    "duration": 0,
    "start_time": "2022-07-19T12:21:00.934Z"
   },
   {
    "duration": 0,
    "start_time": "2022-07-19T12:21:00.935Z"
   },
   {
    "duration": 0,
    "start_time": "2022-07-19T12:21:00.937Z"
   },
   {
    "duration": 0,
    "start_time": "2022-07-19T12:21:00.938Z"
   },
   {
    "duration": 0,
    "start_time": "2022-07-19T12:21:00.939Z"
   },
   {
    "duration": 0,
    "start_time": "2022-07-19T12:21:00.940Z"
   },
   {
    "duration": 0,
    "start_time": "2022-07-19T12:21:00.942Z"
   },
   {
    "duration": 0,
    "start_time": "2022-07-19T12:21:00.943Z"
   },
   {
    "duration": 0,
    "start_time": "2022-07-19T12:21:00.944Z"
   },
   {
    "duration": 0,
    "start_time": "2022-07-19T12:21:00.945Z"
   },
   {
    "duration": 0,
    "start_time": "2022-07-19T12:21:00.946Z"
   },
   {
    "duration": 0,
    "start_time": "2022-07-19T12:21:00.947Z"
   },
   {
    "duration": 0,
    "start_time": "2022-07-19T12:21:00.949Z"
   },
   {
    "duration": 0,
    "start_time": "2022-07-19T12:21:00.950Z"
   },
   {
    "duration": 0,
    "start_time": "2022-07-19T12:21:00.951Z"
   },
   {
    "duration": 0,
    "start_time": "2022-07-19T12:21:00.952Z"
   },
   {
    "duration": 0,
    "start_time": "2022-07-19T12:21:00.953Z"
   },
   {
    "duration": 0,
    "start_time": "2022-07-19T12:21:00.954Z"
   },
   {
    "duration": 0,
    "start_time": "2022-07-19T12:21:00.955Z"
   },
   {
    "duration": 0,
    "start_time": "2022-07-19T12:21:00.957Z"
   },
   {
    "duration": 0,
    "start_time": "2022-07-19T12:21:01.010Z"
   },
   {
    "duration": 6,
    "start_time": "2022-07-19T12:21:01.011Z"
   },
   {
    "duration": 0,
    "start_time": "2022-07-19T12:21:01.018Z"
   },
   {
    "duration": 0,
    "start_time": "2022-07-19T12:21:01.019Z"
   },
   {
    "duration": 0,
    "start_time": "2022-07-19T12:21:01.020Z"
   },
   {
    "duration": 0,
    "start_time": "2022-07-19T12:21:01.021Z"
   },
   {
    "duration": 0,
    "start_time": "2022-07-19T12:21:01.022Z"
   },
   {
    "duration": 0,
    "start_time": "2022-07-19T12:21:01.022Z"
   },
   {
    "duration": 0,
    "start_time": "2022-07-19T12:21:01.025Z"
   },
   {
    "duration": 0,
    "start_time": "2022-07-19T12:21:01.026Z"
   },
   {
    "duration": 0,
    "start_time": "2022-07-19T12:21:01.026Z"
   },
   {
    "duration": 0,
    "start_time": "2022-07-19T12:21:01.027Z"
   },
   {
    "duration": 0,
    "start_time": "2022-07-19T12:21:01.030Z"
   },
   {
    "duration": 4,
    "start_time": "2022-07-19T12:21:43.670Z"
   },
   {
    "duration": 9,
    "start_time": "2022-07-19T12:21:52.470Z"
   },
   {
    "duration": 101,
    "start_time": "2022-07-19T12:21:59.107Z"
   },
   {
    "duration": 5,
    "start_time": "2022-07-19T12:22:00.462Z"
   },
   {
    "duration": 1664,
    "start_time": "2022-07-19T12:22:16.298Z"
   },
   {
    "duration": 1005,
    "start_time": "2022-07-19T12:22:17.964Z"
   },
   {
    "duration": 177,
    "start_time": "2022-07-19T12:22:18.971Z"
   },
   {
    "duration": 88,
    "start_time": "2022-07-19T12:22:19.150Z"
   },
   {
    "duration": 16,
    "start_time": "2022-07-19T12:22:19.240Z"
   },
   {
    "duration": 109,
    "start_time": "2022-07-19T12:22:19.258Z"
   },
   {
    "duration": 121,
    "start_time": "2022-07-19T12:22:19.369Z"
   },
   {
    "duration": 171,
    "start_time": "2022-07-19T12:22:19.492Z"
   },
   {
    "duration": 250,
    "start_time": "2022-07-19T12:22:19.665Z"
   },
   {
    "duration": 33,
    "start_time": "2022-07-19T12:22:19.924Z"
   },
   {
    "duration": 213,
    "start_time": "2022-07-19T12:22:19.959Z"
   },
   {
    "duration": 19,
    "start_time": "2022-07-19T12:22:20.174Z"
   },
   {
    "duration": 52,
    "start_time": "2022-07-19T12:22:20.195Z"
   },
   {
    "duration": 232,
    "start_time": "2022-07-19T12:22:20.251Z"
   },
   {
    "duration": 46,
    "start_time": "2022-07-19T12:22:20.486Z"
   },
   {
    "duration": 299,
    "start_time": "2022-07-19T12:22:20.534Z"
   },
   {
    "duration": 214,
    "start_time": "2022-07-19T12:22:20.834Z"
   },
   {
    "duration": 125,
    "start_time": "2022-07-19T12:22:21.049Z"
   },
   {
    "duration": 202,
    "start_time": "2022-07-19T12:22:21.176Z"
   },
   {
    "duration": 50,
    "start_time": "2022-07-19T12:22:21.379Z"
   },
   {
    "duration": 46,
    "start_time": "2022-07-19T12:22:21.431Z"
   },
   {
    "duration": 13,
    "start_time": "2022-07-19T12:22:21.479Z"
   },
   {
    "duration": 198,
    "start_time": "2022-07-19T12:22:21.494Z"
   },
   {
    "duration": 229,
    "start_time": "2022-07-19T12:22:21.695Z"
   },
   {
    "duration": 41,
    "start_time": "2022-07-19T12:22:21.927Z"
   },
   {
    "duration": 74,
    "start_time": "2022-07-19T12:22:21.970Z"
   },
   {
    "duration": 45,
    "start_time": "2022-07-19T12:22:22.046Z"
   },
   {
    "duration": 32,
    "start_time": "2022-07-19T12:22:22.093Z"
   },
   {
    "duration": 25,
    "start_time": "2022-07-19T12:22:22.128Z"
   },
   {
    "duration": 44,
    "start_time": "2022-07-19T12:22:22.155Z"
   },
   {
    "duration": 206,
    "start_time": "2022-07-19T12:22:22.200Z"
   },
   {
    "duration": 108,
    "start_time": "2022-07-19T12:22:22.408Z"
   },
   {
    "duration": 42,
    "start_time": "2022-07-19T12:22:22.518Z"
   },
   {
    "duration": 63,
    "start_time": "2022-07-19T12:22:22.562Z"
   },
   {
    "duration": 4,
    "start_time": "2022-07-19T12:22:22.628Z"
   },
   {
    "duration": 203,
    "start_time": "2022-07-19T12:22:22.634Z"
   },
   {
    "duration": 6,
    "start_time": "2022-07-19T12:22:22.839Z"
   },
   {
    "duration": 720,
    "start_time": "2022-07-19T12:22:22.846Z"
   },
   {
    "duration": 424,
    "start_time": "2022-07-19T12:22:23.568Z"
   },
   {
    "duration": 5,
    "start_time": "2022-07-19T12:22:23.994Z"
   },
   {
    "duration": 53505,
    "start_time": "2022-07-19T12:22:24.010Z"
   },
   {
    "duration": 53296,
    "start_time": "2022-07-19T12:23:17.521Z"
   },
   {
    "duration": 290,
    "start_time": "2022-07-19T12:24:10.822Z"
   },
   {
    "duration": 9,
    "start_time": "2022-07-19T12:24:11.115Z"
   },
   {
    "duration": 100,
    "start_time": "2022-07-19T12:24:11.128Z"
   },
   {
    "duration": 5,
    "start_time": "2022-07-19T12:24:11.230Z"
   },
   {
    "duration": 146027,
    "start_time": "2022-07-19T12:24:11.237Z"
   },
   {
    "duration": 4,
    "start_time": "2022-07-19T12:26:37.266Z"
   },
   {
    "duration": 118,
    "start_time": "2022-07-19T12:26:37.272Z"
   },
   {
    "duration": 6,
    "start_time": "2022-07-19T12:26:37.392Z"
   },
   {
    "duration": 18,
    "start_time": "2022-07-19T12:26:37.400Z"
   },
   {
    "duration": 16,
    "start_time": "2022-07-19T12:26:37.419Z"
   },
   {
    "duration": 2157726,
    "start_time": "2022-07-19T12:26:37.437Z"
   },
   {
    "duration": 4,
    "start_time": "2022-07-19T13:02:35.165Z"
   },
   {
    "duration": 3108,
    "start_time": "2022-07-19T13:02:35.171Z"
   },
   {
    "duration": 5,
    "start_time": "2022-07-19T13:02:38.281Z"
   },
   {
    "duration": 6,
    "start_time": "2022-07-19T13:02:38.288Z"
   },
   {
    "duration": 41,
    "start_time": "2022-07-19T13:02:38.296Z"
   },
   {
    "duration": 160,
    "start_time": "2022-07-19T13:27:04.688Z"
   },
   {
    "duration": 1716,
    "start_time": "2022-07-19T15:01:30.583Z"
   },
   {
    "duration": 2871,
    "start_time": "2022-07-19T15:01:32.302Z"
   },
   {
    "duration": 118,
    "start_time": "2022-07-19T15:01:35.175Z"
   },
   {
    "duration": 53,
    "start_time": "2022-07-19T15:01:35.294Z"
   },
   {
    "duration": 16,
    "start_time": "2022-07-19T15:01:35.349Z"
   },
   {
    "duration": 95,
    "start_time": "2022-07-19T15:01:35.367Z"
   },
   {
    "duration": 81,
    "start_time": "2022-07-19T15:01:35.463Z"
   },
   {
    "duration": 124,
    "start_time": "2022-07-19T15:01:35.548Z"
   },
   {
    "duration": 218,
    "start_time": "2022-07-19T15:01:35.674Z"
   },
   {
    "duration": 32,
    "start_time": "2022-07-19T15:01:35.894Z"
   },
   {
    "duration": 249,
    "start_time": "2022-07-19T15:01:35.928Z"
   },
   {
    "duration": 25,
    "start_time": "2022-07-19T15:01:36.179Z"
   },
   {
    "duration": 30,
    "start_time": "2022-07-19T15:01:36.206Z"
   },
   {
    "duration": 221,
    "start_time": "2022-07-19T15:01:36.239Z"
   },
   {
    "duration": 26,
    "start_time": "2022-07-19T15:01:36.461Z"
   },
   {
    "duration": 319,
    "start_time": "2022-07-19T15:01:36.489Z"
   },
   {
    "duration": 212,
    "start_time": "2022-07-19T15:01:36.810Z"
   },
   {
    "duration": 103,
    "start_time": "2022-07-19T15:01:37.024Z"
   },
   {
    "duration": 194,
    "start_time": "2022-07-19T15:01:37.129Z"
   },
   {
    "duration": 30,
    "start_time": "2022-07-19T15:01:37.325Z"
   },
   {
    "duration": 45,
    "start_time": "2022-07-19T15:01:37.357Z"
   },
   {
    "duration": 9,
    "start_time": "2022-07-19T15:01:37.403Z"
   },
   {
    "duration": 177,
    "start_time": "2022-07-19T15:01:37.413Z"
   },
   {
    "duration": 189,
    "start_time": "2022-07-19T15:01:37.591Z"
   },
   {
    "duration": 35,
    "start_time": "2022-07-19T15:01:37.782Z"
   },
   {
    "duration": 36,
    "start_time": "2022-07-19T15:01:37.819Z"
   },
   {
    "duration": 44,
    "start_time": "2022-07-19T15:01:37.857Z"
   },
   {
    "duration": 7,
    "start_time": "2022-07-19T15:01:37.903Z"
   },
   {
    "duration": 19,
    "start_time": "2022-07-19T15:01:37.912Z"
   },
   {
    "duration": 40,
    "start_time": "2022-07-19T15:01:37.933Z"
   },
   {
    "duration": 193,
    "start_time": "2022-07-19T15:01:37.974Z"
   },
   {
    "duration": 78,
    "start_time": "2022-07-19T15:01:38.169Z"
   },
   {
    "duration": 49,
    "start_time": "2022-07-19T15:01:38.250Z"
   },
   {
    "duration": 49,
    "start_time": "2022-07-19T15:01:38.301Z"
   },
   {
    "duration": 3,
    "start_time": "2022-07-19T15:01:38.351Z"
   },
   {
    "duration": 163,
    "start_time": "2022-07-19T15:01:38.356Z"
   },
   {
    "duration": 5,
    "start_time": "2022-07-19T15:01:38.521Z"
   },
   {
    "duration": 681,
    "start_time": "2022-07-19T15:01:38.528Z"
   },
   {
    "duration": 389,
    "start_time": "2022-07-19T15:01:39.211Z"
   },
   {
    "duration": 5,
    "start_time": "2022-07-19T15:01:39.602Z"
   },
   {
    "duration": 19593,
    "start_time": "2022-07-19T15:01:39.614Z"
   },
   {
    "duration": 20702,
    "start_time": "2022-07-19T15:01:59.299Z"
   },
   {
    "duration": 200,
    "start_time": "2022-07-19T15:02:20.003Z"
   },
   {
    "duration": 99,
    "start_time": "2022-07-19T15:02:20.205Z"
   },
   {
    "duration": 92,
    "start_time": "2022-07-19T15:02:20.307Z"
   },
   {
    "duration": 13,
    "start_time": "2022-07-19T15:02:20.401Z"
   },
   {
    "duration": 130578,
    "start_time": "2022-07-19T15:02:20.416Z"
   },
   {
    "duration": 4,
    "start_time": "2022-07-19T15:04:30.997Z"
   },
   {
    "duration": 108,
    "start_time": "2022-07-19T15:04:31.003Z"
   },
   {
    "duration": 4,
    "start_time": "2022-07-19T15:04:31.113Z"
   },
   {
    "duration": 8,
    "start_time": "2022-07-19T15:04:31.119Z"
   },
   {
    "duration": 10,
    "start_time": "2022-07-19T15:04:31.129Z"
   },
   {
    "duration": 1858321,
    "start_time": "2022-07-19T15:04:31.141Z"
   },
   {
    "duration": 4,
    "start_time": "2022-07-19T15:35:29.464Z"
   },
   {
    "duration": 2749,
    "start_time": "2022-07-19T15:35:29.469Z"
   },
   {
    "duration": 5,
    "start_time": "2022-07-19T15:35:32.219Z"
   },
   {
    "duration": 9,
    "start_time": "2022-07-19T15:35:32.226Z"
   },
   {
    "duration": 8,
    "start_time": "2022-07-19T15:35:32.236Z"
   },
   {
    "duration": 132,
    "start_time": "2022-07-19T15:37:45.503Z"
   },
   {
    "duration": 1540,
    "start_time": "2022-07-19T15:37:56.283Z"
   },
   {
    "duration": 2796,
    "start_time": "2022-07-19T15:37:57.825Z"
   },
   {
    "duration": 115,
    "start_time": "2022-07-19T15:38:00.623Z"
   },
   {
    "duration": 47,
    "start_time": "2022-07-19T15:38:00.740Z"
   },
   {
    "duration": 22,
    "start_time": "2022-07-19T15:38:00.789Z"
   },
   {
    "duration": 70,
    "start_time": "2022-07-19T15:38:00.813Z"
   },
   {
    "duration": 92,
    "start_time": "2022-07-19T15:38:00.884Z"
   },
   {
    "duration": 126,
    "start_time": "2022-07-19T15:38:00.978Z"
   },
   {
    "duration": 212,
    "start_time": "2022-07-19T15:38:01.106Z"
   },
   {
    "duration": 29,
    "start_time": "2022-07-19T15:38:01.320Z"
   },
   {
    "duration": 204,
    "start_time": "2022-07-19T15:38:01.351Z"
   },
   {
    "duration": 18,
    "start_time": "2022-07-19T15:38:01.557Z"
   },
   {
    "duration": 44,
    "start_time": "2022-07-19T15:38:01.577Z"
   },
   {
    "duration": 224,
    "start_time": "2022-07-19T15:38:01.625Z"
   },
   {
    "duration": 29,
    "start_time": "2022-07-19T15:38:01.851Z"
   },
   {
    "duration": 276,
    "start_time": "2022-07-19T15:38:01.882Z"
   },
   {
    "duration": 186,
    "start_time": "2022-07-19T15:38:02.160Z"
   },
   {
    "duration": 104,
    "start_time": "2022-07-19T15:38:02.348Z"
   },
   {
    "duration": 188,
    "start_time": "2022-07-19T15:38:02.454Z"
   },
   {
    "duration": 32,
    "start_time": "2022-07-19T15:38:02.644Z"
   },
   {
    "duration": 45,
    "start_time": "2022-07-19T15:38:02.677Z"
   },
   {
    "duration": 13,
    "start_time": "2022-07-19T15:38:02.724Z"
   },
   {
    "duration": 163,
    "start_time": "2022-07-19T15:38:02.739Z"
   },
   {
    "duration": 194,
    "start_time": "2022-07-19T15:38:02.904Z"
   },
   {
    "duration": 29,
    "start_time": "2022-07-19T15:38:03.099Z"
   },
   {
    "duration": 34,
    "start_time": "2022-07-19T15:38:03.130Z"
   },
   {
    "duration": 41,
    "start_time": "2022-07-19T15:38:03.166Z"
   },
   {
    "duration": 11,
    "start_time": "2022-07-19T15:38:03.208Z"
   },
   {
    "duration": 19,
    "start_time": "2022-07-19T15:38:03.221Z"
   },
   {
    "duration": 37,
    "start_time": "2022-07-19T15:38:03.241Z"
   },
   {
    "duration": 167,
    "start_time": "2022-07-19T15:38:03.297Z"
   },
   {
    "duration": 68,
    "start_time": "2022-07-19T15:38:03.465Z"
   },
   {
    "duration": 36,
    "start_time": "2022-07-19T15:38:03.535Z"
   },
   {
    "duration": 67,
    "start_time": "2022-07-19T15:38:03.572Z"
   },
   {
    "duration": 3,
    "start_time": "2022-07-19T15:38:03.640Z"
   },
   {
    "duration": 147,
    "start_time": "2022-07-19T15:38:03.645Z"
   },
   {
    "duration": 5,
    "start_time": "2022-07-19T15:38:03.794Z"
   },
   {
    "duration": 1002,
    "start_time": "2022-07-19T15:38:03.801Z"
   },
   {
    "duration": 801,
    "start_time": "2022-07-19T15:38:04.805Z"
   },
   {
    "duration": 5,
    "start_time": "2022-07-19T15:38:05.608Z"
   },
   {
    "duration": 2,
    "start_time": "2022-07-19T15:38:08.126Z"
   },
   {
    "duration": 2,
    "start_time": "2022-07-19T15:38:08.918Z"
   },
   {
    "duration": 112431,
    "start_time": "2022-07-19T15:38:10.069Z"
   },
   {
    "duration": 4,
    "start_time": "2022-07-19T15:40:54.706Z"
   }
  ],
  "kernelspec": {
   "display_name": "Python 3 (ipykernel)",
   "language": "python",
   "name": "python3"
  },
  "language_info": {
   "codemirror_mode": {
    "name": "ipython",
    "version": 3
   },
   "file_extension": ".py",
   "mimetype": "text/x-python",
   "name": "python",
   "nbconvert_exporter": "python",
   "pygments_lexer": "ipython3",
   "version": "3.9.12"
  },
  "toc": {
   "base_numbering": 1,
   "nav_menu": {},
   "number_sections": true,
   "sideBar": true,
   "skip_h1_title": true,
   "title_cell": "Table of Contents",
   "title_sidebar": "Contents",
   "toc_cell": false,
   "toc_position": {
    "height": "535.455px",
    "left": "157px",
    "top": "111.052px",
    "width": "366.373px"
   },
   "toc_section_display": true,
   "toc_window_display": true
  }
 },
 "nbformat": 4,
 "nbformat_minor": 2
}
