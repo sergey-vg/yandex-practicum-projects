{
 "cells": [
  {
   "cell_type": "markdown",
   "id": "corresponding-armstrong",
   "metadata": {
    "ExecuteTime": {
     "end_time": "2022-05-05T04:58:05.692448Z",
     "start_time": "2022-05-05T04:58:05.688565Z"
    }
   },
   "source": [
    "## Описание проекта"
   ]
  },
  {
   "cell_type": "markdown",
   "id": "86957d15",
   "metadata": {},
   "source": [
    "***Прогнозирование температуры звезды***\n",
    "\n",
    "Задача от обсерватории «Небо на ладони»:\n",
    "\n",
    "Придумать, как с помощью нейросети определять температуру на поверхности обнаруженных звёзд. Обычно для расчёта температуры учёные пользуются следующими методами:\n",
    "* Закон смещения Вина;\n",
    "* Закон Стефана-Больцмана;\n",
    "* Спектральный анализ.\n",
    "\n",
    "Каждый из них имеет плюсы и минусы. Обсерватория хочет внедрить технологии машинного обучения для предсказания температуры звёзд, надеясь, что этот метод будет наиболее точным и удобным.\n",
    "В базе обсерватории есть характеристики уже изученных 240 звёзд."
   ]
  },
  {
   "cell_type": "markdown",
   "id": "04df992a",
   "metadata": {},
   "source": [
    "## Загрузка данных"
   ]
  },
  {
   "cell_type": "code",
   "execution_count": 1,
   "id": "spectacular-folder",
   "metadata": {},
   "outputs": [],
   "source": [
    "import pandas as pd\n",
    "import numpy as np\n",
    "from math import ceil\n",
    "import matplotlib.pyplot as plt\n",
    "import seaborn as sns\n",
    "from sklearn.preprocessing import OneHotEncoder\n",
    "from sklearn.preprocessing import StandardScaler \n",
    "from sklearn.model_selection import train_test_split\n",
    "import torch\n",
    "import torch.nn as nn\n",
    "from skorch.callbacks import EpochScoring, EarlyStopping\n",
    "from skorch.dataset import ValidSplit \n",
    "\n",
    "from skorch import NeuralNetRegressor\n",
    "\n",
    "from sklearn.metrics import make_scorer\n",
    "from sklearn.metrics import mean_squared_error\n",
    "\n",
    "from sklearn.model_selection import cross_val_score\n",
    "from sklearn.model_selection import RandomizedSearchCV"
   ]
  },
  {
   "cell_type": "code",
   "execution_count": 2,
   "id": "54dbbbae",
   "metadata": {},
   "outputs": [],
   "source": [
    "df = pd.read_csv('./datasets/6_class.csv')"
   ]
  },
  {
   "cell_type": "markdown",
   "id": "4422d139",
   "metadata": {},
   "source": [
    "## Предобработка и анализ данных"
   ]
  },
  {
   "cell_type": "code",
   "execution_count": 3,
   "id": "c49a8505",
   "metadata": {},
   "outputs": [
    {
     "name": "stdout",
     "output_type": "stream",
     "text": [
      "<class 'pandas.core.frame.DataFrame'>\n",
      "RangeIndex: 240 entries, 0 to 239\n",
      "Data columns (total 7 columns):\n",
      " #   Column                  Non-Null Count  Dtype  \n",
      "---  ------                  --------------  -----  \n",
      " 0   Unnamed: 0              240 non-null    int64  \n",
      " 1   Temperature (K)         240 non-null    int64  \n",
      " 2   Luminosity(L/Lo)        240 non-null    float64\n",
      " 3   Radius(R/Ro)            240 non-null    float64\n",
      " 4   Absolute magnitude(Mv)  240 non-null    float64\n",
      " 5   Star type               240 non-null    int64  \n",
      " 6   Star color              240 non-null    object \n",
      "dtypes: float64(3), int64(3), object(1)\n",
      "memory usage: 13.2+ KB\n"
     ]
    }
   ],
   "source": [
    "df.info()"
   ]
  },
  {
   "cell_type": "markdown",
   "id": "42a72f83",
   "metadata": {},
   "source": [
    "***Признаки***\n",
    "* `Luminosity(L/Lo)` - относительная светимость L/Lo: светимость звезды относительно Солнца;\n",
    "* `Radius(R/Ro)` - относительный радиус R/Ro: радиус звезды относительно радиуса Солнца;\n",
    "* `Absolute magnitude(Mv)` - абсолютная звёздная величина Mv: физическая величина, характеризующая блеск звезды;\n",
    "* `Star color` - цвет звезды, который определяют на основе спектрального анализа;\n",
    "* `Star type` - тип звезды.\n",
    "\n",
    "***Ключевой признак***\n",
    "\n",
    "* `Temperature (K)` - абсолютная температура T(K): температура на поверхности звезды в Кельвинах."
   ]
  },
  {
   "cell_type": "code",
   "execution_count": 4,
   "id": "2c2103f8",
   "metadata": {
    "scrolled": true
   },
   "outputs": [
    {
     "data": {
      "text/html": [
       "<div>\n",
       "<style scoped>\n",
       "    .dataframe tbody tr th:only-of-type {\n",
       "        vertical-align: middle;\n",
       "    }\n",
       "\n",
       "    .dataframe tbody tr th {\n",
       "        vertical-align: top;\n",
       "    }\n",
       "\n",
       "    .dataframe thead th {\n",
       "        text-align: right;\n",
       "    }\n",
       "</style>\n",
       "<table border=\"1\" class=\"dataframe\">\n",
       "  <thead>\n",
       "    <tr style=\"text-align: right;\">\n",
       "      <th></th>\n",
       "      <th>Unnamed: 0</th>\n",
       "      <th>Temperature (K)</th>\n",
       "      <th>Luminosity(L/Lo)</th>\n",
       "      <th>Radius(R/Ro)</th>\n",
       "      <th>Absolute magnitude(Mv)</th>\n",
       "      <th>Star type</th>\n",
       "      <th>Star color</th>\n",
       "    </tr>\n",
       "  </thead>\n",
       "  <tbody>\n",
       "    <tr>\n",
       "      <th>0</th>\n",
       "      <td>0</td>\n",
       "      <td>3068</td>\n",
       "      <td>0.002400</td>\n",
       "      <td>0.1700</td>\n",
       "      <td>16.12</td>\n",
       "      <td>0</td>\n",
       "      <td>Red</td>\n",
       "    </tr>\n",
       "    <tr>\n",
       "      <th>1</th>\n",
       "      <td>1</td>\n",
       "      <td>3042</td>\n",
       "      <td>0.000500</td>\n",
       "      <td>0.1542</td>\n",
       "      <td>16.60</td>\n",
       "      <td>0</td>\n",
       "      <td>Red</td>\n",
       "    </tr>\n",
       "    <tr>\n",
       "      <th>2</th>\n",
       "      <td>2</td>\n",
       "      <td>2600</td>\n",
       "      <td>0.000300</td>\n",
       "      <td>0.1020</td>\n",
       "      <td>18.70</td>\n",
       "      <td>0</td>\n",
       "      <td>Red</td>\n",
       "    </tr>\n",
       "    <tr>\n",
       "      <th>3</th>\n",
       "      <td>3</td>\n",
       "      <td>2800</td>\n",
       "      <td>0.000200</td>\n",
       "      <td>0.1600</td>\n",
       "      <td>16.65</td>\n",
       "      <td>0</td>\n",
       "      <td>Red</td>\n",
       "    </tr>\n",
       "    <tr>\n",
       "      <th>4</th>\n",
       "      <td>4</td>\n",
       "      <td>1939</td>\n",
       "      <td>0.000138</td>\n",
       "      <td>0.1030</td>\n",
       "      <td>20.06</td>\n",
       "      <td>0</td>\n",
       "      <td>Red</td>\n",
       "    </tr>\n",
       "    <tr>\n",
       "      <th>5</th>\n",
       "      <td>5</td>\n",
       "      <td>2840</td>\n",
       "      <td>0.000650</td>\n",
       "      <td>0.1100</td>\n",
       "      <td>16.98</td>\n",
       "      <td>0</td>\n",
       "      <td>Red</td>\n",
       "    </tr>\n",
       "    <tr>\n",
       "      <th>6</th>\n",
       "      <td>6</td>\n",
       "      <td>2637</td>\n",
       "      <td>0.000730</td>\n",
       "      <td>0.1270</td>\n",
       "      <td>17.22</td>\n",
       "      <td>0</td>\n",
       "      <td>Red</td>\n",
       "    </tr>\n",
       "    <tr>\n",
       "      <th>7</th>\n",
       "      <td>7</td>\n",
       "      <td>2600</td>\n",
       "      <td>0.000400</td>\n",
       "      <td>0.0960</td>\n",
       "      <td>17.40</td>\n",
       "      <td>0</td>\n",
       "      <td>Red</td>\n",
       "    </tr>\n",
       "    <tr>\n",
       "      <th>8</th>\n",
       "      <td>8</td>\n",
       "      <td>2650</td>\n",
       "      <td>0.000690</td>\n",
       "      <td>0.1100</td>\n",
       "      <td>17.45</td>\n",
       "      <td>0</td>\n",
       "      <td>Red</td>\n",
       "    </tr>\n",
       "    <tr>\n",
       "      <th>9</th>\n",
       "      <td>9</td>\n",
       "      <td>2700</td>\n",
       "      <td>0.000180</td>\n",
       "      <td>0.1300</td>\n",
       "      <td>16.05</td>\n",
       "      <td>0</td>\n",
       "      <td>Red</td>\n",
       "    </tr>\n",
       "  </tbody>\n",
       "</table>\n",
       "</div>"
      ],
      "text/plain": [
       "   Unnamed: 0  Temperature (K)  Luminosity(L/Lo)  Radius(R/Ro)  \\\n",
       "0           0             3068          0.002400        0.1700   \n",
       "1           1             3042          0.000500        0.1542   \n",
       "2           2             2600          0.000300        0.1020   \n",
       "3           3             2800          0.000200        0.1600   \n",
       "4           4             1939          0.000138        0.1030   \n",
       "5           5             2840          0.000650        0.1100   \n",
       "6           6             2637          0.000730        0.1270   \n",
       "7           7             2600          0.000400        0.0960   \n",
       "8           8             2650          0.000690        0.1100   \n",
       "9           9             2700          0.000180        0.1300   \n",
       "\n",
       "   Absolute magnitude(Mv)  Star type Star color  \n",
       "0                   16.12          0        Red  \n",
       "1                   16.60          0        Red  \n",
       "2                   18.70          0        Red  \n",
       "3                   16.65          0        Red  \n",
       "4                   20.06          0        Red  \n",
       "5                   16.98          0        Red  \n",
       "6                   17.22          0        Red  \n",
       "7                   17.40          0        Red  \n",
       "8                   17.45          0        Red  \n",
       "9                   16.05          0        Red  "
      ]
     },
     "execution_count": 4,
     "metadata": {},
     "output_type": "execute_result"
    }
   ],
   "source": [
    "df.head(10)"
   ]
  },
  {
   "cell_type": "markdown",
   "id": "b6dc8d09",
   "metadata": {},
   "source": [
    "* Удалим лишний столбец `Unnamed: 0` - он дублирует индексы таблицы;\n",
    "* Оптимизируем размерность типов данных, для ускорения работы с датафреймом;\n",
    "* Заменим имена столбцов на более удобный вариант."
   ]
  },
  {
   "cell_type": "code",
   "execution_count": 5,
   "id": "89d489e5",
   "metadata": {},
   "outputs": [],
   "source": [
    "df.drop(['Unnamed: 0'], inplace=True, axis=1)\n",
    "df['Temperature (K)'] = pd.to_numeric(df['Temperature (K)'], downcast='integer')\n",
    "df['Star type'] = pd.to_numeric(df['Star type'], downcast='integer')\n",
    "df['Luminosity(L/Lo)'] = pd.to_numeric(df['Luminosity(L/Lo)'], downcast='float')\n",
    "df['Radius(R/Ro)'] = pd.to_numeric(df['Radius(R/Ro)'], downcast='float')\n",
    "df['Absolute magnitude(Mv)'] = pd.to_numeric(df['Absolute magnitude(Mv)'], downcast='float')\n",
    "df.rename(columns={'Temperature (K)': 'temperature_k',\n",
    "                   'Star type': 'star_type',\n",
    "                   'Luminosity(L/Lo)': 'luminosity_l_lo',\n",
    "                   'Radius(R/Ro)': 'radius_r_ro',\n",
    "                   'Absolute magnitude(Mv)': 'absolute_magnitude_mv',\n",
    "                   'Star color': 'star_color'}, inplace=True)"
   ]
  },
  {
   "cell_type": "code",
   "execution_count": 6,
   "id": "e2b92333",
   "metadata": {
    "scrolled": false
   },
   "outputs": [
    {
     "name": "stdout",
     "output_type": "stream",
     "text": [
      "<class 'pandas.core.frame.DataFrame'>\n",
      "RangeIndex: 240 entries, 0 to 239\n",
      "Data columns (total 6 columns):\n",
      " #   Column                 Non-Null Count  Dtype  \n",
      "---  ------                 --------------  -----  \n",
      " 0   temperature_k          240 non-null    int32  \n",
      " 1   luminosity_l_lo        240 non-null    float32\n",
      " 2   radius_r_ro            240 non-null    float32\n",
      " 3   absolute_magnitude_mv  240 non-null    float32\n",
      " 4   star_type              240 non-null    int8   \n",
      " 5   star_color             240 non-null    object \n",
      "dtypes: float32(3), int32(1), int8(1), object(1)\n",
      "memory usage: 6.0+ KB\n"
     ]
    }
   ],
   "source": [
    "df.info()"
   ]
  },
  {
   "cell_type": "markdown",
   "id": "e6258f75",
   "metadata": {},
   "source": [
    "Проверим данные на наличие пропусков"
   ]
  },
  {
   "cell_type": "code",
   "execution_count": 7,
   "id": "8eb0acab",
   "metadata": {},
   "outputs": [
    {
     "data": {
      "text/plain": [
       "temperature_k            0.0\n",
       "luminosity_l_lo          0.0\n",
       "radius_r_ro              0.0\n",
       "absolute_magnitude_mv    0.0\n",
       "star_type                0.0\n",
       "star_color               0.0\n",
       "dtype: float64"
      ]
     },
     "execution_count": 7,
     "metadata": {},
     "output_type": "execute_result"
    }
   ],
   "source": [
    "df.isna().mean()"
   ]
  },
  {
   "cell_type": "markdown",
   "id": "1dd7fce7",
   "metadata": {},
   "source": [
    "* Пропусков не обнаружено"
   ]
  },
  {
   "cell_type": "markdown",
   "id": "79a46b7c",
   "metadata": {},
   "source": [
    "Создадим списки с названиями столбцов: категориальных, числовых и ключевого признака"
   ]
  },
  {
   "cell_type": "code",
   "execution_count": 8,
   "id": "bce76b75",
   "metadata": {},
   "outputs": [],
   "source": [
    "cat = ['star_type', 'star_color']\n",
    "num = ['luminosity_l_lo', 'radius_r_ro', 'absolute_magnitude_mv']\n",
    "target = ['temperature_k']"
   ]
  },
  {
   "cell_type": "markdown",
   "id": "64202ee9",
   "metadata": {},
   "source": [
    "Посмотрим статистические данные для числовых признаков и ключевого признака"
   ]
  },
  {
   "cell_type": "code",
   "execution_count": 9,
   "id": "10ea563f",
   "metadata": {},
   "outputs": [
    {
     "data": {
      "text/html": [
       "<div>\n",
       "<style scoped>\n",
       "    .dataframe tbody tr th:only-of-type {\n",
       "        vertical-align: middle;\n",
       "    }\n",
       "\n",
       "    .dataframe tbody tr th {\n",
       "        vertical-align: top;\n",
       "    }\n",
       "\n",
       "    .dataframe thead th {\n",
       "        text-align: right;\n",
       "    }\n",
       "</style>\n",
       "<table border=\"1\" class=\"dataframe\">\n",
       "  <thead>\n",
       "    <tr style=\"text-align: right;\">\n",
       "      <th></th>\n",
       "      <th>luminosity_l_lo</th>\n",
       "      <th>radius_r_ro</th>\n",
       "      <th>absolute_magnitude_mv</th>\n",
       "      <th>temperature_k</th>\n",
       "    </tr>\n",
       "  </thead>\n",
       "  <tbody>\n",
       "    <tr>\n",
       "      <th>count</th>\n",
       "      <td>240.000000</td>\n",
       "      <td>240.000000</td>\n",
       "      <td>240.000000</td>\n",
       "      <td>240.000000</td>\n",
       "    </tr>\n",
       "    <tr>\n",
       "      <th>mean</th>\n",
       "      <td>107188.359375</td>\n",
       "      <td>237.157776</td>\n",
       "      <td>4.382396</td>\n",
       "      <td>10497.462500</td>\n",
       "    </tr>\n",
       "    <tr>\n",
       "      <th>std</th>\n",
       "      <td>179432.250000</td>\n",
       "      <td>517.155762</td>\n",
       "      <td>10.532513</td>\n",
       "      <td>9552.425037</td>\n",
       "    </tr>\n",
       "    <tr>\n",
       "      <th>min</th>\n",
       "      <td>0.000080</td>\n",
       "      <td>0.008400</td>\n",
       "      <td>-11.920000</td>\n",
       "      <td>1939.000000</td>\n",
       "    </tr>\n",
       "    <tr>\n",
       "      <th>25%</th>\n",
       "      <td>0.000865</td>\n",
       "      <td>0.102750</td>\n",
       "      <td>-6.232500</td>\n",
       "      <td>3344.250000</td>\n",
       "    </tr>\n",
       "    <tr>\n",
       "      <th>50%</th>\n",
       "      <td>0.070500</td>\n",
       "      <td>0.762500</td>\n",
       "      <td>8.313000</td>\n",
       "      <td>5776.000000</td>\n",
       "    </tr>\n",
       "    <tr>\n",
       "      <th>75%</th>\n",
       "      <td>198050.000000</td>\n",
       "      <td>42.750000</td>\n",
       "      <td>13.697500</td>\n",
       "      <td>15055.500000</td>\n",
       "    </tr>\n",
       "    <tr>\n",
       "      <th>max</th>\n",
       "      <td>849420.000000</td>\n",
       "      <td>1948.500000</td>\n",
       "      <td>20.059999</td>\n",
       "      <td>40000.000000</td>\n",
       "    </tr>\n",
       "  </tbody>\n",
       "</table>\n",
       "</div>"
      ],
      "text/plain": [
       "       luminosity_l_lo  radius_r_ro  absolute_magnitude_mv  temperature_k\n",
       "count       240.000000   240.000000             240.000000     240.000000\n",
       "mean     107188.359375   237.157776               4.382396   10497.462500\n",
       "std      179432.250000   517.155762              10.532513    9552.425037\n",
       "min           0.000080     0.008400             -11.920000    1939.000000\n",
       "25%           0.000865     0.102750              -6.232500    3344.250000\n",
       "50%           0.070500     0.762500               8.313000    5776.000000\n",
       "75%      198050.000000    42.750000              13.697500   15055.500000\n",
       "max      849420.000000  1948.500000              20.059999   40000.000000"
      ]
     },
     "execution_count": 9,
     "metadata": {},
     "output_type": "execute_result"
    }
   ],
   "source": [
    "df[num + target].describe()"
   ]
  },
  {
   "cell_type": "markdown",
   "id": "6bd20dc0",
   "metadata": {},
   "source": [
    "* ***относительная светимость L/Lo*** - колеблется в очень широком диапазоне от $8*10^{-5}$ до $8*10^{5}$\n",
    "* ***относительный радиус R/Ro*** - колеблется в очень широком диапазоне от 0,0084 до 1948"
   ]
  },
  {
   "cell_type": "code",
   "execution_count": 10,
   "id": "755327b7",
   "metadata": {},
   "outputs": [],
   "source": [
    "name_planet = ['Коричневый карлик', 'Красный карлик',\n",
    "               'Белый карлик', 'Звёзды главной последовательности',\n",
    "               'Сверхгиганты', 'Гипергиганты']"
   ]
  },
  {
   "cell_type": "code",
   "execution_count": 11,
   "id": "b4581c42",
   "metadata": {
    "scrolled": false
   },
   "outputs": [
    {
     "data": {
      "image/png": "[encoded data removed]",
      "text/plain": [
       "<Figure size 648x432 with 1 Axes>"
      ]
     },
     "metadata": {
      "needs_background": "light"
     },
     "output_type": "display_data"
    },
    {
     "data": {
      "image/png": "[encoded data removed]",
      "text/plain": [
       "<Figure size 648x432 with 1 Axes>"
      ]
     },
     "metadata": {
      "needs_background": "light"
     },
     "output_type": "display_data"
    }
   ],
   "source": [
    "# Коричневый карлик и красный карлик\n",
    "sns.displot(data=df[df.star_type <= 1], x='temperature_k', hue='star_type',\n",
    "            multiple='dodge', legend=False, height=6, aspect=1.5)\n",
    "plt.xlabel(\"Температура (К)\")\n",
    "plt.ylabel(\"Кол-во планет\")\n",
    "plt.title(\"Температура на поверхности звезды в Кельвинах (Абсолютная температура T(K))\")\n",
    "plt.legend(name_planet[0:2])\n",
    "\n",
    "# Белый карлик, звёзды главной последовательности, сверхгиганты и гипергиганты\n",
    "sns.displot(data=df[df.star_type > 1], x='temperature_k', hue='star_type',\n",
    "            multiple='dodge', legend=False,\n",
    "            palette=[\"#9b59b6\", \"#ff0000\", \"#00f0f0\", \"#00ff00\"],\n",
    "            height=6, aspect=1.5)\n",
    "plt.xlabel(\"Температура (К)\")\n",
    "plt.ylabel(\"Кол-во планет\")\n",
    "plt.legend(name_planet[2:])\n",
    "plt.show()"
   ]
  },
  {
   "cell_type": "markdown",
   "id": "296f871e",
   "metadata": {},
   "source": [
    "* Прослеживается зависимость температуры от типа звезды: у коричневых и красных карликов, температура колеблется от 2 тыс. до 4 тыс. к., а у остальных звёзд температура от 5 тыс. до 40 тыс. к."
   ]
  },
  {
   "cell_type": "code",
   "execution_count": 12,
   "id": "22fcba04",
   "metadata": {
    "scrolled": false
   },
   "outputs": [
    {
     "name": "stdout",
     "output_type": "stream",
     "text": [
      "Относительная светимость L/Lo — светимость звезды относительно Солнца\n"
     ]
    },
    {
     "data": {
      "image/png": "[encoded data removed]",
      "text/plain": [
       "<Figure size 504x360 with 1 Axes>"
      ]
     },
     "metadata": {
      "needs_background": "light"
     },
     "output_type": "display_data"
    },
    {
     "data": {
      "image/png": "[encoded data removed]",
      "text/plain": [
       "<Figure size 504x360 with 1 Axes>"
      ]
     },
     "metadata": {
      "needs_background": "light"
     },
     "output_type": "display_data"
    },
    {
     "data": {
      "image/png": "[encoded data removed]",
      "text/plain": [
       "<Figure size 504x360 with 1 Axes>"
      ]
     },
     "metadata": {
      "needs_background": "light"
     },
     "output_type": "display_data"
    }
   ],
   "source": [
    "print('Относительная светимость L/Lo — светимость звезды относительно Солнца')\n",
    "for i in [[0, 1, 2], [3], [4, 5]]:\n",
    "    sns.displot(data=df[df.star_type.isin(i)], x='luminosity_l_lo',\n",
    "                hue='star_type', multiple='dodge', legend=False,\n",
    "                height=5, aspect=1.4, palette=\"tab10\", bins=6)\n",
    "    plt.xlabel(\"Относительная светимость L/Lo\")\n",
    "    plt.ylabel(\"Кол-во планет\")\n",
    "    plt.legend(name_planet[i[0]:i[-1] + 1])    "
   ]
  },
  {
   "cell_type": "markdown",
   "id": "d3963c14",
   "metadata": {},
   "source": [
    "* Прослеживается зависимость относительной светимости от типа звезды: у карликов звёзд, относительная светимость очень низкая - меньше 0.1,а у сверхгигантов и гипергигантов относительная светимость от 100 тыс. до 800 тыс."
   ]
  },
  {
   "cell_type": "code",
   "execution_count": 13,
   "id": "486a4bcc",
   "metadata": {},
   "outputs": [
    {
     "name": "stdout",
     "output_type": "stream",
     "text": [
      "Относительный радиус R/Ro — радиус звезды относительно радиуса Солнца\n"
     ]
    },
    {
     "data": {
      "image/png": "[encoded data removed]",
      "text/plain": [
       "<Figure size 504x360 with 1 Axes>"
      ]
     },
     "metadata": {
      "needs_background": "light"
     },
     "output_type": "display_data"
    },
    {
     "data": {
      "image/png": "[encoded data removed]",
      "text/plain": [
       "<Figure size 504x360 with 1 Axes>"
      ]
     },
     "metadata": {
      "needs_background": "light"
     },
     "output_type": "display_data"
    },
    {
     "data": {
      "image/png": "[encoded data removed]",
      "text/plain": [
       "<Figure size 504x360 with 1 Axes>"
      ]
     },
     "metadata": {
      "needs_background": "light"
     },
     "output_type": "display_data"
    },
    {
     "data": {
      "image/png": "[encoded data removed]",
      "text/plain": [
       "<Figure size 504x360 with 1 Axes>"
      ]
     },
     "metadata": {
      "needs_background": "light"
     },
     "output_type": "display_data"
    }
   ],
   "source": [
    "print('Относительный радиус R/Ro — радиус звезды относительно радиуса Солнца')\n",
    "for i in [[0, 1, 2], [3], [4], [5]]:\n",
    "    sns.displot(data=df[df.star_type.isin(i)], x='radius_r_ro',\n",
    "                hue='star_type', multiple='dodge', legend=False,\n",
    "                height=5, aspect=1.4, palette=\"tab10\", bins=6)\n",
    "    plt.xlabel(\"Относительный радиус R/Ro\")\n",
    "    plt.ylabel(\"Кол-во планет\")\n",
    "    plt.legend(name_planet[i[0]:i[-1] + 1])  "
   ]
  },
  {
   "cell_type": "code",
   "execution_count": 14,
   "id": "85acd83f",
   "metadata": {},
   "outputs": [
    {
     "data": {
      "text/plain": [
       "<matplotlib.legend.Legend at 0x2832b57d760>"
      ]
     },
     "execution_count": 14,
     "metadata": {},
     "output_type": "execute_result"
    },
    {
     "data": {
      "image/png": "[encoded data removed]",
      "text/plain": [
       "<Figure size 648x432 with 1 Axes>"
      ]
     },
     "metadata": {
      "needs_background": "light"
     },
     "output_type": "display_data"
    }
   ],
   "source": [
    "sns.displot(data=df, y='absolute_magnitude_mv',\n",
    "            hue='star_type', multiple='dodge', legend=False,\n",
    "            height=6, aspect=1.5, palette=\"tab10\")\n",
    "plt.xlabel(\"Абсолютная звёздная величина Mv\")\n",
    "plt.ylabel(\"Кол-во планет\")\n",
    "plt.title(\"Абсолютная звёздная величина Mv — физическая величина, характеризующая блеск звезды\")\n",
    "plt.legend(name_planet)  "
   ]
  },
  {
   "cell_type": "code",
   "execution_count": 15,
   "id": "7582cc08",
   "metadata": {},
   "outputs": [
    {
     "data": {
      "text/plain": [
       "0    40\n",
       "1    40\n",
       "2    40\n",
       "3    40\n",
       "4    40\n",
       "5    40\n",
       "Name: star_type, dtype: int64"
      ]
     },
     "execution_count": 15,
     "metadata": {},
     "output_type": "execute_result"
    }
   ],
   "source": [
    "df['star_type'].value_counts()"
   ]
  },
  {
   "cell_type": "code",
   "execution_count": 16,
   "id": "451323c5",
   "metadata": {},
   "outputs": [
    {
     "data": {
      "text/plain": [
       "Red                   112\n",
       "Blue                   55\n",
       "Blue-white             26\n",
       "Blue White             10\n",
       "yellow-white            8\n",
       "White                   7\n",
       "white                   3\n",
       "Blue white              3\n",
       "Yellowish White         3\n",
       "yellowish               2\n",
       "Orange                  2\n",
       "Whitish                 2\n",
       "Orange-Red              1\n",
       "Blue-White              1\n",
       "White-Yellow            1\n",
       "Blue                    1\n",
       "Blue white              1\n",
       "Pale yellow orange      1\n",
       "Yellowish               1\n",
       "Name: star_color, dtype: int64"
      ]
     },
     "execution_count": 16,
     "metadata": {},
     "output_type": "execute_result"
    }
   ],
   "source": [
    "df.star_color.value_counts()"
   ]
  },
  {
   "cell_type": "markdown",
   "id": "1cf546ee",
   "metadata": {},
   "source": [
    "Подправим наименование цветов звёзд, так как есть одинаковые цветы, но записанные по разному"
   ]
  },
  {
   "cell_type": "code",
   "execution_count": 17,
   "id": "2cea385c",
   "metadata": {},
   "outputs": [],
   "source": [
    "df['star_color'] = df['star_color'].map(str.strip)\n",
    "df.loc[df.star_color.isin(['Blue White', 'Blue white', 'Blue-White']), 'star_color'] = 'Blue-white'\n",
    "df.loc[df.star_color.isin(['yellow-white', 'Yellowish White',\n",
    "                           'White-Yellow', 'White-Yellow',\n",
    "                           'yellowish', 'Yellowish']), 'star_color'] = 'Yellow-white'\n",
    "df.loc[df.star_color.isin(['yellowish']), 'star_color'] = 'Yellowish'\n",
    "df.loc[df.star_color.isin(['white', 'Whitish']), 'star_color'] = 'White'\n",
    "df.loc[df.star_color.isin(['Orange', 'Orange-Red',\n",
    "                           'Pale yellow orange']), 'star_color'] = 'Red'"
   ]
  },
  {
   "cell_type": "code",
   "execution_count": 18,
   "id": "e624eb5e",
   "metadata": {},
   "outputs": [
    {
     "data": {
      "text/plain": [
       "Red             116\n",
       "Blue             56\n",
       "Blue-white       41\n",
       "Yellow-white     15\n",
       "White            12\n",
       "Name: star_color, dtype: int64"
      ]
     },
     "execution_count": 18,
     "metadata": {},
     "output_type": "execute_result"
    }
   ],
   "source": [
    "df['star_color'].value_counts()"
   ]
  },
  {
   "cell_type": "markdown",
   "id": "15ac9d3c",
   "metadata": {},
   "source": [
    "### Матрицы корреляций"
   ]
  },
  {
   "cell_type": "markdown",
   "id": "f81f89d8",
   "metadata": {},
   "source": [
    "Построим матрицу корреляций"
   ]
  },
  {
   "cell_type": "code",
   "execution_count": 19,
   "id": "8d51e137",
   "metadata": {},
   "outputs": [],
   "source": [
    "df_corr = df.drop(['star_type', 'star_color'], axis=1)"
   ]
  },
  {
   "cell_type": "code",
   "execution_count": 20,
   "id": "54bd8f2c",
   "metadata": {},
   "outputs": [],
   "source": [
    "df_corr.rename(columns={'temperature_k': 'Абсолютная температура T(K)',\n",
    "                   'luminosity_l_lo': 'Относительная светимость L/Lo',\n",
    "                   'radius_r_ro': 'Относительный радиус R/Ro',\n",
    "                   'absolute_magnitude_mv': 'Абсолютная звёздная величина Mv'},\n",
    "                   inplace=True)"
   ]
  },
  {
   "cell_type": "code",
   "execution_count": 21,
   "id": "4c2388a8",
   "metadata": {},
   "outputs": [
    {
     "data": {
      "text/plain": [
       "<AxesSubplot:>"
      ]
     },
     "execution_count": 21,
     "metadata": {},
     "output_type": "execute_result"
    },
    {
     "data": {
      "image/png": "[encoded data removed]",
      "text/plain": [
       "<Figure size 432x288 with 2 Axes>"
      ]
     },
     "metadata": {
      "needs_background": "light"
     },
     "output_type": "display_data"
    }
   ],
   "source": [
    "corr_matrix = df_corr.corr()\n",
    "sns.heatmap(corr_matrix, annot = True)"
   ]
  },
  {
   "cell_type": "markdown",
   "id": "19f7f0b4",
   "metadata": {},
   "source": [
    "Обнаружены следующие линейные зависимости:\n",
    "* Абсолютная температура имеет прямую средюю зависимость (0,39) от относительной светимости и обратную среднюю зависимость (-0,42) от абсолютной звёздной велечины;\n",
    "* Относительная светимость имеет прямую средюю зависимость (0,53) от относительного радиуса и обратную сильную зависимость (-0,69) от абсолютной звёздной велечины;\n",
    "* Относительный радиус имеет обратную сильную зависимость (-0,61) от абсолютной звёздной велечины."
   ]
  },
  {
   "cell_type": "markdown",
   "id": "752becc7",
   "metadata": {},
   "source": [
    "### Разбиение данных на выборки"
   ]
  },
  {
   "cell_type": "code",
   "execution_count": 22,
   "id": "1d1a05cc",
   "metadata": {},
   "outputs": [
    {
     "name": "stdout",
     "output_type": "stream",
     "text": [
      "Итоговые размеры выборок, обучающая:тестовая: 168:72\n"
     ]
    }
   ],
   "source": [
    "df = df.sample(frac=1, random_state=12345)\n",
    "\n",
    "df_features_str = df[['star_type', 'star_color']]\n",
    "df_features_num = df.drop(['temperature_k', 'star_type', 'star_color'], axis=1)\n",
    "df_target = df['temperature_k']\n",
    "\n",
    "df_train_features_str, df_test_features_str,\\\n",
    "df_train_features_num, df_test_features_num,\\\n",
    "df_train_target, df_test_target\\\n",
    "= train_test_split(df_features_str, df_features_num, df_target,\n",
    "                   test_size=0.3,shuffle=True, random_state=12345, stratify=df['star_type'])\n",
    "\n",
    "print(f'Итоговые размеры выборок, обучающая:тестовая:\\\n",
    " {df_train_target.count()}:{df_test_target.count()}')"
   ]
  },
  {
   "cell_type": "markdown",
   "id": "be75d9f2",
   "metadata": {},
   "source": [
    "### Прямое кодирование"
   ]
  },
  {
   "cell_type": "code",
   "execution_count": 23,
   "id": "bbc6b266",
   "metadata": {},
   "outputs": [],
   "source": [
    "encoder = OneHotEncoder(sparse=False, handle_unknown='ignore')\n",
    "encoder.fit(df_train_features_str)\n",
    "df_train_features_str = pd.DataFrame(encoder.transform(df_train_features_str)).astype('int8')\n",
    "df_test_features_str = pd.DataFrame(encoder.transform(df_test_features_str)).astype('int8')"
   ]
  },
  {
   "cell_type": "markdown",
   "id": "8c37327f",
   "metadata": {},
   "source": [
    "### Масштабирование числовых признаков признаков"
   ]
  },
  {
   "cell_type": "code",
   "execution_count": 24,
   "id": "214a4914",
   "metadata": {},
   "outputs": [],
   "source": [
    "scaler = StandardScaler()\n",
    "scaler.fit(df_train_features_num) \n",
    "df_train_features_num = pd.DataFrame(scaler.transform(df_train_features_num))\n",
    "df_test_features_num  = pd.DataFrame(scaler.transform(df_test_features_num))"
   ]
  },
  {
   "cell_type": "markdown",
   "id": "d9ad0f7e",
   "metadata": {},
   "source": [
    "### Объединение таблиц"
   ]
  },
  {
   "cell_type": "code",
   "execution_count": 25,
   "id": "74928942",
   "metadata": {},
   "outputs": [],
   "source": [
    "df_train_features = pd.concat([df_train_features_num, df_train_features_str], axis=1)\n",
    "df_test_features = pd.concat([df_test_features_num, df_test_features_str], axis=1)"
   ]
  },
  {
   "cell_type": "code",
   "execution_count": 26,
   "id": "5e22464b",
   "metadata": {},
   "outputs": [],
   "source": [
    "X_train = torch.Tensor(df_train_features.values)\n",
    "X_test = torch.Tensor(df_test_features.values)\n",
    "y_train = torch.Tensor(df_train_target.values)\n",
    "y_test = torch.Tensor(df_test_target.values)"
   ]
  },
  {
   "cell_type": "markdown",
   "id": "c1cef6c3",
   "metadata": {},
   "source": [
    "* Данные подготовлены, можно переходить к обучению нейронной сети"
   ]
  },
  {
   "cell_type": "markdown",
   "id": "funded-electric",
   "metadata": {},
   "source": [
    "## Построение базовой нейронной сети"
   ]
  },
  {
   "cell_type": "code",
   "execution_count": 27,
   "id": "b30a05f8",
   "metadata": {},
   "outputs": [],
   "source": [
    "np.random.seed(12345)\n",
    "torch.manual_seed(12345)\n",
    "torch.use_deterministic_algorithms(True)"
   ]
  },
  {
   "cell_type": "markdown",
   "id": "6e1cadbb",
   "metadata": {},
   "source": [
    "Создадим класс для задания архитектуры нейронной сети"
   ]
  },
  {
   "cell_type": "code",
   "execution_count": 28,
   "id": "48e262cc",
   "metadata": {},
   "outputs": [],
   "source": [
    "class baseline(nn.Module):\n",
    "    def __init__(self, n_in, n_2, n_3, n_4, n_out, dp1, dp2,\n",
    "                 dp3, act1, act2, act3):\n",
    "        super(baseline, self).__init__()\n",
    "        \n",
    "        self.fc1 = nn.Linear(n_in, n_2)\n",
    "        self.act1 = act1\n",
    "        self.dp1 = nn.Dropout(dp1)\n",
    "        \n",
    "        self.fc2 = nn.Linear(n_2, n_3)\n",
    "        self.act2 = act2\n",
    "        self.dp2 = nn.Dropout(dp2)\n",
    "        \n",
    "        self.fc3 = nn.Linear(n_3, n_4)\n",
    "        self.act3 = act3\n",
    "        self.dp3 = nn.Dropout(dp3)\n",
    "        \n",
    "        self.fc4 = nn.Linear(n_4, n_out)\n",
    "\n",
    "    def forward(self, x):\n",
    "        \n",
    "        x = self.dp1(self.act1(self.fc1(x)))\n",
    "        x = self.dp2(self.act2(self.fc2(x)))\n",
    "        x = self.dp3(self.act3(self.fc3(x)))\n",
    "        x = self.fc4(x)\n",
    "        \n",
    "        return x\n",
    "    \n",
    "    def init_weights(m):\n",
    "        if isinstance(m, nn.Linear):\n",
    "            torch.nn.init.kaiming_normal_(m.weight)\n",
    "            m.bias.data.fill_(0.01)"
   ]
  },
  {
   "cell_type": "code",
   "execution_count": 29,
   "id": "bdacdb6d",
   "metadata": {},
   "outputs": [],
   "source": [
    "class CustomEarlyStopping():\n",
    "    \"\"\"\n",
    "    Ранняя остановка, чтобы остановить тренировку, когда потеря не улучшается после определенной эпохи.\n",
    "    \"\"\"\n",
    "    def __init__(self, patience=5, min_delta=0):\n",
    "        \"\"\"\n",
    "        :param patience: сколько эпох ждать, прежде чем остановиться, когда потеря не улучшается\n",
    "        :param min_delta: минимальная разница между loss/метриками, если улучшений нет, то остановим обучение\n",
    "        \"\"\"\n",
    "        self.patience = patience\n",
    "        self.min_delta = min_delta\n",
    "        self.counter = 0\n",
    "        self.best_loss = None\n",
    "        self.early_stop = False\n",
    "\n",
    "    def __call__(self, val_loss):\n",
    "        if self.best_loss == None:\n",
    "            self.best_loss = val_loss\n",
    "        elif self.best_loss - val_loss > self.min_delta:\n",
    "            self.counter_in_row = 0\n",
    "            if self.best_loss > val_loss:\n",
    "                self.best_loss = val_loss\n",
    "                # reset counter if validation loss improves\n",
    "                self.counter = 0\n",
    "        elif self.best_loss - val_loss < self.min_delta:\n",
    "            self.counter += 1\n",
    "            print(f\"INFO: Early stopping counter {self.counter} of {self.patience}\")\n",
    "            if self.counter >= self.patience: \n",
    "                print('INFO: Early stopping')\n",
    "                self.early_stop = True"
   ]
  },
  {
   "cell_type": "markdown",
   "id": "7fc03c63",
   "metadata": {},
   "source": [
    "Укажим параметры нейронной сети: кол-во нейронов, эпох и размер батча"
   ]
  },
  {
   "cell_type": "code",
   "execution_count": 30,
   "id": "e0f51645",
   "metadata": {},
   "outputs": [],
   "source": [
    "n_in, n_2, n_3, n_4, n_out = 14, 20, 70, 40, 1\n",
    "act1, act2, act3 = nn.ReLU(), nn.ReLU(), nn.ReLU()\n",
    "dp1 , dp2, dp3 = 0.1, 0.1, 0.1\n",
    "num_epochs = 10000\n",
    "batch_size = 60\n",
    "num_batches = ceil(len(X_train)/batch_size)"
   ]
  },
  {
   "cell_type": "code",
   "execution_count": 31,
   "id": "b0053518",
   "metadata": {},
   "outputs": [],
   "source": [
    "net = baseline(n_in, n_2, n_3, n_4, n_out, dp1, dp2, dp3, act1, act2, act3)\n",
    "loss = nn.MSELoss()\n",
    "optimizer = torch.optim.Adam(net.parameters(), lr=0.001)"
   ]
  },
  {
   "cell_type": "markdown",
   "id": "61554252",
   "metadata": {},
   "source": [
    "Обучим нашу нейронную сеть"
   ]
  },
  {
   "cell_type": "code",
   "execution_count": 32,
   "id": "afb26df2",
   "metadata": {
    "scrolled": true
   },
   "outputs": [
    {
     "name": "stdout",
     "output_type": "stream",
     "text": [
      "0 RMSE: tensor(13805.1416, grad_fn=<SqrtBackward0>)\n",
      "50 RMSE: tensor(13511.7148, grad_fn=<SqrtBackward0>)\n",
      "100 RMSE: tensor(7775.3276, grad_fn=<SqrtBackward0>)\n",
      "150 RMSE: tensor(6219.1108, grad_fn=<SqrtBackward0>)\n",
      "200 RMSE: tensor(5857.1553, grad_fn=<SqrtBackward0>)\n",
      "250 RMSE: tensor(5530.8179, grad_fn=<SqrtBackward0>)\n",
      "300 RMSE: tensor(5304.1807, grad_fn=<SqrtBackward0>)\n",
      "350 RMSE: tensor(5145.4121, grad_fn=<SqrtBackward0>)\n",
      "400 RMSE: tensor(5034.6924, grad_fn=<SqrtBackward0>)\n",
      "450 RMSE: tensor(4923.8271, grad_fn=<SqrtBackward0>)\n",
      "500 RMSE: tensor(4829.4668, grad_fn=<SqrtBackward0>)\n",
      "550 RMSE: tensor(4757.9526, grad_fn=<SqrtBackward0>)\n",
      "600 RMSE: tensor(4686.5161, grad_fn=<SqrtBackward0>)\n",
      "650 RMSE: tensor(4622.8799, grad_fn=<SqrtBackward0>)\n",
      "700 RMSE: tensor(4600.5962, grad_fn=<SqrtBackward0>)\n",
      "750 RMSE: tensor(4564.4272, grad_fn=<SqrtBackward0>)\n",
      "800 RMSE: tensor(4542.5298, grad_fn=<SqrtBackward0>)\n",
      "850 RMSE: tensor(4516.9771, grad_fn=<SqrtBackward0>)\n",
      "900 RMSE: tensor(4503.7383, grad_fn=<SqrtBackward0>)\n",
      "950 RMSE: tensor(4511.9663, grad_fn=<SqrtBackward0>)\n",
      "1000 RMSE: tensor(4493.9487, grad_fn=<SqrtBackward0>)\n",
      "1050 RMSE: tensor(4479.4478, grad_fn=<SqrtBackward0>)\n",
      "1100 RMSE: tensor(4483.0352, grad_fn=<SqrtBackward0>)\n",
      "1150 RMSE: tensor(4483.3848, grad_fn=<SqrtBackward0>)\n",
      "1200 RMSE: tensor(4471.7573, grad_fn=<SqrtBackward0>)\n",
      "1250 RMSE: tensor(4471.0186, grad_fn=<SqrtBackward0>)\n",
      "1300 RMSE: tensor(4480.9194, grad_fn=<SqrtBackward0>)\n",
      "1350 RMSE: tensor(4460.5513, grad_fn=<SqrtBackward0>)\n",
      "1400 RMSE: tensor(4460.1572, grad_fn=<SqrtBackward0>)\n",
      "1450 RMSE: tensor(4450.5811, grad_fn=<SqrtBackward0>)\n",
      "1500 RMSE: tensor(4451.5293, grad_fn=<SqrtBackward0>)\n",
      "1550 RMSE: tensor(4457.3184, grad_fn=<SqrtBackward0>)\n",
      "1600 RMSE: tensor(4456.6187, grad_fn=<SqrtBackward0>)\n",
      "1650 RMSE: tensor(4466.7686, grad_fn=<SqrtBackward0>)\n",
      "1700 RMSE: tensor(4479.6919, grad_fn=<SqrtBackward0>)\n",
      "INFO: Early stopping counter 1 of 5\n",
      "1750 RMSE: tensor(4466.7715, grad_fn=<SqrtBackward0>)\n",
      "1800 RMSE: tensor(4461.9517, grad_fn=<SqrtBackward0>)\n",
      "1850 RMSE: tensor(4443.3599, grad_fn=<SqrtBackward0>)\n",
      "1900 RMSE: tensor(4456.0366, grad_fn=<SqrtBackward0>)\n",
      "1950 RMSE: tensor(4463.1919, grad_fn=<SqrtBackward0>)\n",
      "2000 RMSE: tensor(4465.4824, grad_fn=<SqrtBackward0>)\n",
      "INFO: Early stopping counter 1 of 5\n",
      "2050 RMSE: tensor(4475.1123, grad_fn=<SqrtBackward0>)\n",
      "INFO: Early stopping counter 2 of 5\n",
      "2100 RMSE: tensor(4468.1782, grad_fn=<SqrtBackward0>)\n",
      "INFO: Early stopping counter 3 of 5\n",
      "2150 RMSE: tensor(4499.7563, grad_fn=<SqrtBackward0>)\n",
      "INFO: Early stopping counter 4 of 5\n",
      "2200 RMSE: tensor(4481.4658, grad_fn=<SqrtBackward0>)\n",
      "INFO: Early stopping counter 5 of 5\n",
      "INFO: Early stopping\n",
      "Early Stoppning!!!\n"
     ]
    }
   ],
   "source": [
    "early_stopping = CustomEarlyStopping(patience=5, min_delta=-20)\n",
    "for epoch in range(num_epochs):\n",
    "    net.train()\n",
    "    order = np.random.permutation(len(X_train))\n",
    "    for batch_idx in range(num_batches):\n",
    "        start_index = batch_idx * batch_size\n",
    "        optimizer.zero_grad()\n",
    "        \n",
    "        batch_indexes = order[start_index:start_index+batch_size]\n",
    "        X_batch = X_train[batch_indexes]\n",
    "        y_batch = y_train[batch_indexes]\n",
    "        preds = net.forward(X_batch).flatten()\n",
    "        loss_value = torch.sqrt(loss(y_batch, preds))\n",
    "        loss_value.backward()\n",
    "                \n",
    "        optimizer.step()\n",
    "\n",
    "    if epoch % 50 == 0 or epoch == num_epochs - 1:\n",
    "        net.eval()\n",
    "        test_preds = net.forward(X_test).flatten()\n",
    "        rmse = torch.sqrt(loss(test_preds, y_test))\n",
    "        print(epoch, 'RMSE:', rmse)\n",
    "        early_stopping(rmse)\n",
    "        \n",
    "        if early_stopping.early_stop:\n",
    "            print('Early Stoppning!!!')\n",
    "            break"
   ]
  },
  {
   "cell_type": "markdown",
   "id": "b67d98fe",
   "metadata": {},
   "source": [
    "* Значение метрики RMSE равно 4481, полученной значение, ниже заданного максимума - 4500, получили хороший результат, но попробуем его ещё улучшить"
   ]
  },
  {
   "cell_type": "markdown",
   "id": "6dac0e3b",
   "metadata": {},
   "source": [
    "Постром график: прогноз и факт"
   ]
  },
  {
   "cell_type": "code",
   "execution_count": 33,
   "id": "011c65e6",
   "metadata": {},
   "outputs": [],
   "source": [
    "fact_forecast = pd.DataFrame(data = {'Факт':y_test.numpy(),\n",
    "                                     'Прогноз':test_preds.data.numpy().reshape(1, -1)[0]},\n",
    "                                      columns=['Факт', 'Прогноз'])"
   ]
  },
  {
   "cell_type": "code",
   "execution_count": 34,
   "id": "07c734bf",
   "metadata": {
    "scrolled": true
   },
   "outputs": [],
   "source": [
    "def final_graph(df_graph):\n",
    "    \n",
    "    fig, ax = plt.subplots(figsize=(14, 7))\n",
    "\n",
    "    ax.bar(df_graph.index, df_graph['Факт'], color='#aae6f2', width=0.6)\n",
    "    ax.bar(df_graph.index, df_graph['Прогноз'], color='#ffc001', width=0.3)\n",
    "\n",
    "    plt.ylabel(\"Температура звезды\")\n",
    "    plt.xlabel(\"Номер звезды в таблице данных\")\n",
    "    plt.legend(['Факт', 'Прогноз'], loc='upper center')\n",
    "    plt.show()"
   ]
  },
  {
   "cell_type": "code",
   "execution_count": 35,
   "id": "3306de53",
   "metadata": {},
   "outputs": [
    {
     "data": {
      "image/png": "[encoded data removed]",
      "text/plain": [
       "<Figure size 1008x504 with 1 Axes>"
      ]
     },
     "metadata": {
      "needs_background": "light"
     },
     "output_type": "display_data"
    }
   ],
   "source": [
    "final_graph(fact_forecast)"
   ]
  },
  {
   "cell_type": "markdown",
   "id": "8db2e355",
   "metadata": {},
   "source": [
    "## Улучшение нейронной сети"
   ]
  },
  {
   "cell_type": "markdown",
   "id": "2957682e",
   "metadata": {},
   "source": [
    "Создадим функцию вычисляющию метрику RMSE"
   ]
  },
  {
   "cell_type": "code",
   "execution_count": 36,
   "id": "a1c685c6",
   "metadata": {},
   "outputs": [],
   "source": [
    "def rmse(y_true, y_pred):\n",
    "    return mean_squared_error(y_true, y_pred, squared=False)"
   ]
  },
  {
   "cell_type": "code",
   "execution_count": 37,
   "id": "4c1d03fe",
   "metadata": {},
   "outputs": [],
   "source": [
    "rmse_scorer = make_scorer(rmse)"
   ]
  },
  {
   "cell_type": "code",
   "execution_count": 38,
   "id": "1cf25a25",
   "metadata": {},
   "outputs": [],
   "source": [
    "net = baseline(n_in, n_2, n_3, n_4, n_out, dp1, dp2, dp3,\n",
    "              act1, act2, act3)"
   ]
  },
  {
   "cell_type": "markdown",
   "id": "6271f4af",
   "metadata": {},
   "source": [
    "Обернём модель с помощью skorch"
   ]
  },
  {
   "cell_type": "code",
   "execution_count": 39,
   "id": "f9315c6f",
   "metadata": {},
   "outputs": [],
   "source": [
    "skorch_regressor = NeuralNetRegressor(module=net, \n",
    "                                  device='cpu',  \n",
    "                                  verbose=0,\n",
    "                                  optimizer=torch.optim.Adam, \n",
    "                                  max_epochs=5000,\n",
    "                                  train_split=ValidSplit(cv=5),\n",
    "                                  criterion =nn.MSELoss,\n",
    "                                  callbacks=[\n",
    "            ('val_rmse', EpochScoring(scoring=rmse_scorer, lower_is_better=True, name='RMSE')),\n",
    "            ('estoper', EarlyStopping(lower_is_better=True, monitor='RMSE', patience=60)),\n",
    "        ]) "
   ]
  },
  {
   "cell_type": "markdown",
   "id": "e8f4c71d",
   "metadata": {},
   "source": [
    "Зададим параметры для поиска наилучших"
   ]
  },
  {
   "cell_type": "code",
   "execution_count": 40,
   "id": "3d4cb53a",
   "metadata": {},
   "outputs": [],
   "source": [
    " params = {\n",
    "    'module__n_in': [14],\n",
    "    'module__n_2': range(10, 71, 2),\n",
    "    'module__n_3': range(10, 71, 2),\n",
    "    'module__n_4': range(10, 71, 2),\n",
    "    'module__n_out': [1],\n",
    "    'module__dp1': np.arange(0.0, 0.31, 0.1),\n",
    "    'module__dp2': np.arange(0.0, 0.31, 0.1),\n",
    "    'module__dp3': np.arange(0.0, 0.31, 0.1),\n",
    "    'module__act1': [nn.ReLU(), nn.ELU()],\n",
    "    'module__act2': [nn.ReLU(), nn.ELU()],\n",
    "    'module__act3': [nn.ReLU(), nn.ELU()],\n",
    "    'lr': np.arange(0.002, 0.0101, 0.001),\n",
    "    'batch_size' : range(20, 71, 5)\n",
    "}"
   ]
  },
  {
   "cell_type": "markdown",
   "id": "444c7cb6",
   "metadata": {},
   "source": [
    "Подъберем наилучшие параметры с помощью RandomizedSearchCV"
   ]
  },
  {
   "cell_type": "code",
   "execution_count": 41,
   "id": "cb6bc916",
   "metadata": {
    "scrolled": true
   },
   "outputs": [
    {
     "name": "stdout",
     "output_type": "stream",
     "text": [
      "Fitting 3 folds for each of 500 candidates, totalling 1500 fits\n",
      "CPU times: total: 50 s\n",
      "Wall time: 5min 16s\n"
     ]
    },
    {
     "data": {
      "text/plain": [
       "RandomizedSearchCV(cv=3,\n",
       "                   estimator=<class 'skorch.regressor.NeuralNetRegressor'>[uninitialized](\n",
       "  module=baseline(\n",
       "    (fc1): Linear(in_features=14, out_features=20, bias=True)\n",
       "    (act1): ReLU()\n",
       "    (dp1): Dropout(p=0.1, inplace=False)\n",
       "    (fc2): Linear(in_features=20, out_features=70, bias=True)\n",
       "    (act2): ReLU()\n",
       "    (dp2): Dropout(p=0.1, inplace=False)\n",
       "    (fc3): Linear(in_features=70, out_featur...\n",
       "                                                         ELU(alpha=1.0)],\n",
       "                                        'module__act3': [ReLU(),\n",
       "                                                         ELU(alpha=1.0)],\n",
       "                                        'module__dp1': array([0. , 0.1, 0.2, 0.3]),\n",
       "                                        'module__dp2': array([0. , 0.1, 0.2, 0.3]),\n",
       "                                        'module__dp3': array([0. , 0.1, 0.2, 0.3]),\n",
       "                                        'module__n_2': range(10, 71, 2),\n",
       "                                        'module__n_3': range(10, 71, 2),\n",
       "                                        'module__n_4': range(10, 71, 2),\n",
       "                                        'module__n_in': [14],\n",
       "                                        'module__n_out': [1]},\n",
       "                   random_state=12345, scoring='neg_root_mean_squared_error',\n",
       "                   verbose=3)"
      ]
     },
     "execution_count": 41,
     "metadata": {},
     "output_type": "execute_result"
    }
   ],
   "source": [
    "%%time\n",
    "grid = RandomizedSearchCV(skorch_regressor, params, cv=3, n_iter=500,\n",
    "                          scoring=\"neg_root_mean_squared_error\",\n",
    "                          verbose=3, random_state=12345, n_jobs=-1) \n",
    "grid.fit(X_train, y_train.reshape(-1,1)) "
   ]
  },
  {
   "cell_type": "markdown",
   "id": "9d38d13f",
   "metadata": {},
   "source": [
    "Выведем на экран лучшие параметры модели"
   ]
  },
  {
   "cell_type": "code",
   "execution_count": 42,
   "id": "123e5f46",
   "metadata": {},
   "outputs": [
    {
     "data": {
      "text/plain": [
       "{'module__n_out': 1,\n",
       " 'module__n_in': 14,\n",
       " 'module__n_4': 70,\n",
       " 'module__n_3': 32,\n",
       " 'module__n_2': 10,\n",
       " 'module__dp3': 0.30000000000000004,\n",
       " 'module__dp2': 0.0,\n",
       " 'module__dp1': 0.0,\n",
       " 'module__act3': ReLU(),\n",
       " 'module__act2': ReLU(),\n",
       " 'module__act1': ELU(alpha=1.0),\n",
       " 'lr': 0.003,\n",
       " 'batch_size': 50}"
      ]
     },
     "execution_count": 42,
     "metadata": {},
     "output_type": "execute_result"
    }
   ],
   "source": [
    "grid.best_params_"
   ]
  },
  {
   "cell_type": "markdown",
   "id": "478a6ade",
   "metadata": {},
   "source": [
    "Проверим метрику RMSE на тестовых данных"
   ]
  },
  {
   "cell_type": "code",
   "execution_count": 43,
   "id": "972c52a8",
   "metadata": {},
   "outputs": [
    {
     "data": {
      "text/plain": [
       "4199.7847"
      ]
     },
     "execution_count": 43,
     "metadata": {},
     "output_type": "execute_result"
    }
   ],
   "source": [
    "best_preds = grid.predict(X_test)\n",
    "rmse(y_test.reshape(-1,1), best_preds)"
   ]
  },
  {
   "cell_type": "markdown",
   "id": "0daa0966",
   "metadata": {},
   "source": [
    "* Значение метрики RMSE улучшилось до 4200."
   ]
  },
  {
   "cell_type": "markdown",
   "id": "51ef4d47",
   "metadata": {},
   "source": [
    "Постром график: прогноз и факт"
   ]
  },
  {
   "cell_type": "code",
   "execution_count": 44,
   "id": "4576ae83",
   "metadata": {},
   "outputs": [
    {
     "data": {
      "image/png": "[encoded data removed]",
      "text/plain": [
       "<Figure size 1008x504 with 1 Axes>"
      ]
     },
     "metadata": {
      "needs_background": "light"
     },
     "output_type": "display_data"
    }
   ],
   "source": [
    "fact_forecast = pd.DataFrame(data = {'Факт':y_test.numpy(),\n",
    "                                     'Прогноз':best_preds.reshape(1, -1)[0]},\n",
    "                                     columns=['Факт', 'Прогноз'])\n",
    "final_graph(fact_forecast)"
   ]
  },
  {
   "cell_type": "markdown",
   "id": "accurate-infrastructure",
   "metadata": {},
   "source": [
    "## Выводы"
   ]
  },
  {
   "cell_type": "markdown",
   "id": "e5912c10",
   "metadata": {},
   "source": [
    "Нейронная сеть  | Кол-во скрытых слоёв | Кол-во нейронов по слоям | Функции активации | Dropout | Learning rate| Batch size | RMSE\n",
    ":------- | :--------:| :--------:| :--------:| :--------:| :--------:| :--------:| :--------:\n",
    "Базовая  |2 | 14, 20, 70, 40, 1 | ReLU(), ReLU(), ReLU() | 0.1, 0.1, 0.1 | 0.001 | 60 | 4481\n",
    "Улучшенная   | 2 | 14, 10, 32, 70, 1 | ELU(), ReLU(), ReLU()| 0, 0, 0.3 | 0.003 | 50 | 4200"
   ]
  },
  {
   "cell_type": "markdown",
   "id": "effa10dd",
   "metadata": {},
   "source": [
    "* Базовая нейронная сеть показала хорошие показатели RMSE - 4481;\n",
    "\n",
    "* Улучшенная нейронная сеть, превзошла результаты базовой модели, метрика RMSE - 4200."
   ]
  }
 ],
 "metadata": {
  "ExecuteTimeLog": [
   {
    "duration": 418,
    "start_time": "2022-09-05T10:24:40.728Z"
   },
   {
    "duration": 62,
    "start_time": "2022-09-05T10:25:32.955Z"
   },
   {
    "duration": 14,
    "start_time": "2022-09-05T10:25:46.875Z"
   },
   {
    "duration": 19,
    "start_time": "2022-09-05T10:26:09.793Z"
   },
   {
    "duration": 82,
    "start_time": "2022-09-05T10:35:42.038Z"
   },
   {
    "duration": 6,
    "start_time": "2022-09-05T10:35:56.598Z"
   },
   {
    "duration": 11,
    "start_time": "2022-09-05T10:36:07.310Z"
   },
   {
    "duration": 5,
    "start_time": "2022-09-05T10:37:19.311Z"
   },
   {
    "duration": 11,
    "start_time": "2022-09-05T10:37:30.760Z"
   },
   {
    "duration": 15,
    "start_time": "2022-09-05T10:38:45.470Z"
   },
   {
    "duration": 16,
    "start_time": "2022-09-05T10:39:00.232Z"
   },
   {
    "duration": 5,
    "start_time": "2022-09-05T10:39:50.630Z"
   },
   {
    "duration": 12,
    "start_time": "2022-09-05T10:39:52.130Z"
   },
   {
    "duration": 4,
    "start_time": "2022-09-05T10:40:37.630Z"
   },
   {
    "duration": 11,
    "start_time": "2022-09-05T10:40:40.042Z"
   },
   {
    "duration": 4,
    "start_time": "2022-09-05T10:41:14.330Z"
   },
   {
    "duration": 4,
    "start_time": "2022-09-05T10:41:14.890Z"
   },
   {
    "duration": 15,
    "start_time": "2022-09-05T10:41:16.810Z"
   },
   {
    "duration": 433,
    "start_time": "2022-09-05T10:42:17.172Z"
   },
   {
    "duration": 28,
    "start_time": "2022-09-05T10:42:17.608Z"
   },
   {
    "duration": 13,
    "start_time": "2022-09-05T10:42:17.638Z"
   },
   {
    "duration": 21,
    "start_time": "2022-09-05T10:42:17.653Z"
   },
   {
    "duration": 8,
    "start_time": "2022-09-05T10:42:17.677Z"
   },
   {
    "duration": 14,
    "start_time": "2022-09-05T10:42:17.688Z"
   },
   {
    "duration": 87,
    "start_time": "2022-09-05T10:42:17.703Z"
   },
   {
    "duration": 863,
    "start_time": "2022-09-05T10:50:21.260Z"
   },
   {
    "duration": 4,
    "start_time": "2022-09-05T10:50:36.873Z"
   },
   {
    "duration": 3,
    "start_time": "2022-09-05T10:50:40.003Z"
   },
   {
    "duration": 173,
    "start_time": "2022-09-05T10:50:49.558Z"
   },
   {
    "duration": 151,
    "start_time": "2022-09-05T10:52:48.250Z"
   },
   {
    "duration": 178,
    "start_time": "2022-09-05T10:53:28.391Z"
   },
   {
    "duration": 218,
    "start_time": "2022-09-05T10:53:33.933Z"
   },
   {
    "duration": 35,
    "start_time": "2022-09-05T10:55:13.985Z"
   },
   {
    "duration": 24,
    "start_time": "2022-09-05T10:55:36.550Z"
   },
   {
    "duration": 8,
    "start_time": "2022-09-05T10:57:30.742Z"
   },
   {
    "duration": 14,
    "start_time": "2022-09-05T10:57:43.571Z"
   },
   {
    "duration": 247,
    "start_time": "2022-09-05T10:57:56.533Z"
   },
   {
    "duration": 205,
    "start_time": "2022-09-05T10:58:16.859Z"
   },
   {
    "duration": 175,
    "start_time": "2022-09-05T10:58:56.830Z"
   },
   {
    "duration": 174,
    "start_time": "2022-09-05T10:59:23.658Z"
   },
   {
    "duration": 12,
    "start_time": "2022-09-05T11:00:09.791Z"
   },
   {
    "duration": 192,
    "start_time": "2022-09-05T11:01:44.222Z"
   },
   {
    "duration": 15,
    "start_time": "2022-09-05T11:04:00.272Z"
   },
   {
    "duration": 664,
    "start_time": "2022-09-05T11:07:19.658Z"
   },
   {
    "duration": 28,
    "start_time": "2022-09-05T11:07:20.324Z"
   },
   {
    "duration": 11,
    "start_time": "2022-09-05T11:07:20.354Z"
   },
   {
    "duration": 18,
    "start_time": "2022-09-05T11:07:20.367Z"
   },
   {
    "duration": 14,
    "start_time": "2022-09-05T11:07:20.388Z"
   },
   {
    "duration": 11,
    "start_time": "2022-09-05T11:07:36.196Z"
   },
   {
    "duration": 14,
    "start_time": "2022-09-05T11:08:31.499Z"
   },
   {
    "duration": 653,
    "start_time": "2022-09-05T11:09:58.318Z"
   },
   {
    "duration": 28,
    "start_time": "2022-09-05T11:09:58.973Z"
   },
   {
    "duration": 12,
    "start_time": "2022-09-05T11:09:59.003Z"
   },
   {
    "duration": 16,
    "start_time": "2022-09-05T11:09:59.017Z"
   },
   {
    "duration": 10,
    "start_time": "2022-09-05T11:09:59.035Z"
   },
   {
    "duration": 12,
    "start_time": "2022-09-05T11:10:11.218Z"
   },
   {
    "duration": 4,
    "start_time": "2022-09-05T11:12:14.586Z"
   },
   {
    "duration": 12,
    "start_time": "2022-09-05T11:12:15.536Z"
   },
   {
    "duration": 11,
    "start_time": "2022-09-05T11:12:17.798Z"
   },
   {
    "duration": 11,
    "start_time": "2022-09-05T11:12:34.226Z"
   },
   {
    "duration": 4,
    "start_time": "2022-09-05T11:13:41.948Z"
   },
   {
    "duration": 11,
    "start_time": "2022-09-05T11:13:44.667Z"
   },
   {
    "duration": 12,
    "start_time": "2022-09-05T11:13:45.946Z"
   },
   {
    "duration": 1376,
    "start_time": "2022-09-05T11:14:34.367Z"
   },
   {
    "duration": 203,
    "start_time": "2022-09-05T11:15:04.226Z"
   },
   {
    "duration": 205,
    "start_time": "2022-09-05T11:15:21.007Z"
   },
   {
    "duration": 176,
    "start_time": "2022-09-05T11:15:40.207Z"
   },
   {
    "duration": 177,
    "start_time": "2022-09-05T11:15:47.367Z"
   },
   {
    "duration": 220,
    "start_time": "2022-09-05T11:16:02.759Z"
   },
   {
    "duration": 172,
    "start_time": "2022-09-05T11:16:36.868Z"
   },
   {
    "duration": 180,
    "start_time": "2022-09-05T11:16:47.367Z"
   },
   {
    "duration": 162,
    "start_time": "2022-09-05T11:17:00.327Z"
   },
   {
    "duration": 13,
    "start_time": "2022-09-05T11:17:28.116Z"
   },
   {
    "duration": 10,
    "start_time": "2022-09-05T11:18:00.275Z"
   },
   {
    "duration": 39,
    "start_time": "2022-09-05T11:18:26.527Z"
   },
   {
    "duration": 150,
    "start_time": "2022-09-05T11:18:34.179Z"
   },
   {
    "duration": 165,
    "start_time": "2022-09-05T11:18:58.431Z"
   },
   {
    "duration": 179,
    "start_time": "2022-09-05T11:19:02.735Z"
   },
   {
    "duration": 152,
    "start_time": "2022-09-05T11:19:08.507Z"
   },
   {
    "duration": 179,
    "start_time": "2022-09-05T11:19:24.780Z"
   },
   {
    "duration": 164,
    "start_time": "2022-09-05T11:19:41.806Z"
   },
   {
    "duration": 159,
    "start_time": "2022-09-05T11:21:04.131Z"
   },
   {
    "duration": 245,
    "start_time": "2022-09-05T11:21:51.158Z"
   },
   {
    "duration": 173,
    "start_time": "2022-09-05T11:22:13.850Z"
   },
   {
    "duration": 7,
    "start_time": "2022-09-05T11:23:06.150Z"
   },
   {
    "duration": 6,
    "start_time": "2022-09-05T11:23:12.141Z"
   },
   {
    "duration": 270,
    "start_time": "2022-09-05T11:24:26.714Z"
   },
   {
    "duration": 6,
    "start_time": "2022-09-05T11:24:50.790Z"
   },
   {
    "duration": 100,
    "start_time": "2022-09-05T11:33:16.829Z"
   },
   {
    "duration": 84,
    "start_time": "2022-09-05T11:33:25.198Z"
   },
   {
    "duration": 10,
    "start_time": "2022-09-05T11:33:56.898Z"
   },
   {
    "duration": 8,
    "start_time": "2022-09-05T11:34:50.871Z"
   },
   {
    "duration": 236,
    "start_time": "2022-09-05T11:35:23.309Z"
   },
   {
    "duration": 5,
    "start_time": "2022-09-05T11:35:29.401Z"
   },
   {
    "duration": 4,
    "start_time": "2022-09-05T11:36:34.949Z"
   },
   {
    "duration": 5,
    "start_time": "2022-09-05T11:36:41.457Z"
   },
   {
    "duration": 6,
    "start_time": "2022-09-05T11:36:50.122Z"
   },
   {
    "duration": 81,
    "start_time": "2022-09-05T11:39:04.882Z"
   },
   {
    "duration": 296,
    "start_time": "2022-09-05T11:39:15.257Z"
   },
   {
    "duration": 27,
    "start_time": "2022-09-05T11:39:35.561Z"
   },
   {
    "duration": 6,
    "start_time": "2022-09-05T11:40:10.510Z"
   },
   {
    "duration": 6,
    "start_time": "2022-09-05T11:41:10.509Z"
   },
   {
    "duration": 8,
    "start_time": "2022-09-05T11:41:26.849Z"
   },
   {
    "duration": 3,
    "start_time": "2022-09-05T11:45:34.046Z"
   },
   {
    "duration": 6,
    "start_time": "2022-09-05T11:45:42.067Z"
   },
   {
    "duration": 8,
    "start_time": "2022-09-05T11:46:01.704Z"
   },
   {
    "duration": 6,
    "start_time": "2022-09-05T11:46:47.446Z"
   },
   {
    "duration": 4,
    "start_time": "2022-09-05T11:54:07.661Z"
   },
   {
    "duration": 9,
    "start_time": "2022-09-05T11:54:37.893Z"
   },
   {
    "duration": 12,
    "start_time": "2022-09-05T11:54:52.229Z"
   },
   {
    "duration": 1558,
    "start_time": "2022-09-05T11:58:18.230Z"
   },
   {
    "duration": 6,
    "start_time": "2022-09-05T11:58:33.373Z"
   },
   {
    "duration": 11,
    "start_time": "2022-09-05T11:58:39.120Z"
   },
   {
    "duration": 4,
    "start_time": "2022-09-05T11:59:21.621Z"
   },
   {
    "duration": 5,
    "start_time": "2022-09-05T11:59:49.430Z"
   },
   {
    "duration": 4,
    "start_time": "2022-09-05T12:01:17.181Z"
   },
   {
    "duration": 6,
    "start_time": "2022-09-05T12:01:20.001Z"
   },
   {
    "duration": 4,
    "start_time": "2022-09-05T12:01:56.433Z"
   },
   {
    "duration": 6,
    "start_time": "2022-09-05T12:01:57.949Z"
   },
   {
    "duration": 4,
    "start_time": "2022-09-05T12:02:04.182Z"
   },
   {
    "duration": 6,
    "start_time": "2022-09-05T12:02:04.861Z"
   },
   {
    "duration": 4,
    "start_time": "2022-09-05T12:05:28.941Z"
   },
   {
    "duration": 6,
    "start_time": "2022-09-05T12:05:30.382Z"
   },
   {
    "duration": 8,
    "start_time": "2022-09-05T12:10:24.502Z"
   },
   {
    "duration": 6,
    "start_time": "2022-09-05T12:10:27.705Z"
   },
   {
    "duration": 50,
    "start_time": "2022-09-06T10:28:01.667Z"
   },
   {
    "duration": 713,
    "start_time": "2022-09-06T10:28:07.657Z"
   },
   {
    "duration": 70,
    "start_time": "2022-09-06T10:28:08.372Z"
   },
   {
    "duration": 11,
    "start_time": "2022-09-06T10:28:08.443Z"
   },
   {
    "duration": 19,
    "start_time": "2022-09-06T10:28:08.455Z"
   },
   {
    "duration": 8,
    "start_time": "2022-09-06T10:28:08.476Z"
   },
   {
    "duration": 14,
    "start_time": "2022-09-06T10:28:08.486Z"
   },
   {
    "duration": 16,
    "start_time": "2022-09-06T10:28:08.501Z"
   },
   {
    "duration": 230,
    "start_time": "2022-09-06T10:28:11.575Z"
   },
   {
    "duration": 178,
    "start_time": "2022-09-06T10:32:30.080Z"
   },
   {
    "duration": 682,
    "start_time": "2022-09-06T10:32:47.640Z"
   },
   {
    "duration": 207,
    "start_time": "2022-09-06T10:33:32.057Z"
   },
   {
    "duration": 440,
    "start_time": "2022-09-06T10:37:09.500Z"
   },
   {
    "duration": 79,
    "start_time": "2022-09-06T10:43:53.247Z"
   },
   {
    "duration": 48,
    "start_time": "2022-09-06T10:44:26.999Z"
   },
   {
    "duration": 84,
    "start_time": "2022-09-06T10:44:37.628Z"
   },
   {
    "duration": 718,
    "start_time": "2022-09-06T10:45:04.518Z"
   },
   {
    "duration": 563,
    "start_time": "2022-09-06T10:45:12.127Z"
   },
   {
    "duration": 1045,
    "start_time": "2022-09-06T10:47:52.828Z"
   },
   {
    "duration": 362,
    "start_time": "2022-09-06T10:58:12.087Z"
   },
   {
    "duration": 286,
    "start_time": "2022-09-06T10:58:57.587Z"
   },
   {
    "duration": 2632,
    "start_time": "2022-09-06T10:59:56.988Z"
   },
   {
    "duration": 288,
    "start_time": "2022-09-06T11:02:49.299Z"
   },
   {
    "duration": 618,
    "start_time": "2022-09-06T11:03:18.987Z"
   },
   {
    "duration": 619,
    "start_time": "2022-09-06T11:03:28.428Z"
   },
   {
    "duration": 10,
    "start_time": "2022-09-06T11:04:43.399Z"
   },
   {
    "duration": 3,
    "start_time": "2022-09-06T11:04:54.729Z"
   },
   {
    "duration": 9,
    "start_time": "2022-09-06T11:05:05.599Z"
   },
   {
    "duration": 222,
    "start_time": "2022-09-06T11:12:20.414Z"
   },
   {
    "duration": 302,
    "start_time": "2022-09-06T11:12:34.056Z"
   },
   {
    "duration": 467,
    "start_time": "2022-09-06T11:12:53.568Z"
   },
   {
    "duration": 761,
    "start_time": "2022-09-06T11:15:59.383Z"
   },
   {
    "duration": 780,
    "start_time": "2022-09-06T11:16:39.899Z"
   },
   {
    "duration": 702,
    "start_time": "2022-09-06T11:18:32.638Z"
   },
   {
    "duration": 2451,
    "start_time": "2022-09-06T11:19:40.077Z"
   },
   {
    "duration": 2308,
    "start_time": "2022-09-06T11:19:53.368Z"
   },
   {
    "duration": 2477,
    "start_time": "2022-09-06T11:20:29.497Z"
   },
   {
    "duration": 949,
    "start_time": "2022-09-06T11:23:15.429Z"
   },
   {
    "duration": 998,
    "start_time": "2022-09-06T11:23:24.697Z"
   },
   {
    "duration": 1121,
    "start_time": "2022-09-06T11:23:42.325Z"
   },
   {
    "duration": 977,
    "start_time": "2022-09-06T11:23:48.721Z"
   },
   {
    "duration": 47,
    "start_time": "2022-09-06T11:25:08.577Z"
   },
   {
    "duration": 963,
    "start_time": "2022-09-06T11:25:11.437Z"
   },
   {
    "duration": 1003,
    "start_time": "2022-09-06T11:25:30.197Z"
   },
   {
    "duration": 631,
    "start_time": "2022-09-06T11:27:07.077Z"
   },
   {
    "duration": 511,
    "start_time": "2022-09-06T11:28:27.389Z"
   },
   {
    "duration": 671,
    "start_time": "2022-09-06T11:28:36.729Z"
   },
   {
    "duration": 489,
    "start_time": "2022-09-06T11:46:00.189Z"
   },
   {
    "duration": 502,
    "start_time": "2022-09-06T11:46:44.648Z"
   },
   {
    "duration": 452,
    "start_time": "2022-09-06T11:47:51.119Z"
   },
   {
    "duration": 442,
    "start_time": "2022-09-06T11:48:10.529Z"
   },
   {
    "duration": 544,
    "start_time": "2022-09-06T11:53:45.941Z"
   },
   {
    "duration": 512,
    "start_time": "2022-09-06T11:59:33.329Z"
   },
   {
    "duration": 539,
    "start_time": "2022-09-06T11:59:53.089Z"
   },
   {
    "duration": 534,
    "start_time": "2022-09-06T12:00:05.914Z"
   },
   {
    "duration": 575,
    "start_time": "2022-09-06T12:00:26.042Z"
   },
   {
    "duration": 514,
    "start_time": "2022-09-06T12:00:39.221Z"
   },
   {
    "duration": 368,
    "start_time": "2022-09-06T12:01:12.677Z"
   },
   {
    "duration": 384,
    "start_time": "2022-09-06T12:01:49.272Z"
   },
   {
    "duration": 83,
    "start_time": "2022-09-06T12:02:28.577Z"
   },
   {
    "duration": 10,
    "start_time": "2022-09-06T12:02:38.823Z"
   },
   {
    "duration": 75,
    "start_time": "2022-09-06T12:04:18.549Z"
   },
   {
    "duration": 329,
    "start_time": "2022-09-06T12:04:30.241Z"
   },
   {
    "duration": 10,
    "start_time": "2022-09-06T12:04:39.857Z"
   },
   {
    "duration": 357,
    "start_time": "2022-09-06T12:04:48.777Z"
   },
   {
    "duration": 8,
    "start_time": "2022-09-06T12:07:52.849Z"
   },
   {
    "duration": 679,
    "start_time": "2022-09-06T12:08:10.549Z"
   },
   {
    "duration": 321,
    "start_time": "2022-09-06T12:09:18.819Z"
   },
   {
    "duration": 335,
    "start_time": "2022-09-06T12:12:53.717Z"
   },
   {
    "duration": 340,
    "start_time": "2022-09-06T12:13:06.801Z"
   },
   {
    "duration": 395,
    "start_time": "2022-09-06T12:13:22.449Z"
   },
   {
    "duration": 387,
    "start_time": "2022-09-06T12:13:43.290Z"
   },
   {
    "duration": 577,
    "start_time": "2022-09-06T12:16:46.284Z"
   },
   {
    "duration": 380,
    "start_time": "2022-09-06T12:22:37.435Z"
   },
   {
    "duration": 43,
    "start_time": "2022-09-06T12:27:35.651Z"
   },
   {
    "duration": 415,
    "start_time": "2022-09-06T12:27:40.363Z"
   },
   {
    "duration": 413,
    "start_time": "2022-09-06T12:28:39.991Z"
   },
   {
    "duration": 420,
    "start_time": "2022-09-06T12:28:53.464Z"
   },
   {
    "duration": 397,
    "start_time": "2022-09-06T12:29:02.789Z"
   },
   {
    "duration": 393,
    "start_time": "2022-09-06T12:29:12.943Z"
   },
   {
    "duration": 53,
    "start_time": "2022-09-06T12:29:23.379Z"
   },
   {
    "duration": 95,
    "start_time": "2022-09-06T12:29:45.604Z"
   },
   {
    "duration": 256,
    "start_time": "2022-09-06T12:29:54.216Z"
   },
   {
    "duration": 424,
    "start_time": "2022-09-06T12:32:24.991Z"
   },
   {
    "duration": 439,
    "start_time": "2022-09-06T12:33:54.214Z"
   },
   {
    "duration": 377,
    "start_time": "2022-09-06T12:35:12.731Z"
   },
   {
    "duration": 492,
    "start_time": "2022-09-06T12:35:24.219Z"
   },
   {
    "duration": 414,
    "start_time": "2022-09-06T12:35:41.989Z"
   },
   {
    "duration": 666,
    "start_time": "2022-09-06T12:37:02.051Z"
   },
   {
    "duration": 646,
    "start_time": "2022-09-06T12:37:23.578Z"
   },
   {
    "duration": 416,
    "start_time": "2022-09-06T12:37:44.099Z"
   },
   {
    "duration": 375,
    "start_time": "2022-09-06T12:38:10.627Z"
   },
   {
    "duration": 590,
    "start_time": "2022-09-06T12:38:18.291Z"
   },
   {
    "duration": 403,
    "start_time": "2022-09-06T12:40:55.014Z"
   },
   {
    "duration": 492,
    "start_time": "2022-09-06T12:41:10.343Z"
   },
   {
    "duration": 440,
    "start_time": "2022-09-06T12:41:26.620Z"
   },
   {
    "duration": 418,
    "start_time": "2022-09-06T12:41:40.685Z"
   },
   {
    "duration": 450,
    "start_time": "2022-09-06T12:42:09.092Z"
   },
   {
    "duration": 513,
    "start_time": "2022-09-06T12:42:19.559Z"
   },
   {
    "duration": 410,
    "start_time": "2022-09-06T12:43:15.918Z"
   },
   {
    "duration": 412,
    "start_time": "2022-09-06T12:43:27.600Z"
   },
   {
    "duration": 377,
    "start_time": "2022-09-06T12:43:41.126Z"
   },
   {
    "duration": 412,
    "start_time": "2022-09-06T12:44:20.216Z"
   },
   {
    "duration": 474,
    "start_time": "2022-09-06T12:44:44.272Z"
   },
   {
    "duration": 20,
    "start_time": "2022-09-06T12:45:14.284Z"
   },
   {
    "duration": 20,
    "start_time": "2022-09-06T12:45:19.695Z"
   },
   {
    "duration": 374,
    "start_time": "2022-09-06T12:45:38.340Z"
   },
   {
    "duration": 361,
    "start_time": "2022-09-06T12:46:12.931Z"
   },
   {
    "duration": 384,
    "start_time": "2022-09-06T12:46:45.593Z"
   },
   {
    "duration": 389,
    "start_time": "2022-09-06T12:50:14.518Z"
   },
   {
    "duration": 376,
    "start_time": "2022-09-06T12:50:26.551Z"
   },
   {
    "duration": 393,
    "start_time": "2022-09-06T12:50:31.259Z"
   },
   {
    "duration": 404,
    "start_time": "2022-09-06T12:50:42.196Z"
   },
   {
    "duration": 401,
    "start_time": "2022-09-06T12:50:54.750Z"
   },
   {
    "duration": 380,
    "start_time": "2022-09-06T12:51:14.631Z"
   },
   {
    "duration": 674,
    "start_time": "2022-09-06T12:51:44.750Z"
   },
   {
    "duration": 400,
    "start_time": "2022-09-06T12:52:57.926Z"
   },
   {
    "duration": 337,
    "start_time": "2022-09-06T12:53:36.118Z"
   },
   {
    "duration": 766,
    "start_time": "2022-09-06T12:54:38.442Z"
   },
   {
    "duration": 795,
    "start_time": "2022-09-06T12:54:52.847Z"
   },
   {
    "duration": 772,
    "start_time": "2022-09-06T12:55:12.579Z"
   },
   {
    "duration": 796,
    "start_time": "2022-09-06T12:55:40.951Z"
   },
   {
    "duration": 781,
    "start_time": "2022-09-06T12:55:57.743Z"
   },
   {
    "duration": 756,
    "start_time": "2022-09-06T12:56:08.076Z"
   },
   {
    "duration": 718,
    "start_time": "2022-09-06T12:57:59.231Z"
   },
   {
    "duration": 916,
    "start_time": "2022-09-06T13:04:08.951Z"
   },
   {
    "duration": 170,
    "start_time": "2022-09-06T13:05:17.950Z"
   },
   {
    "duration": 63,
    "start_time": "2022-09-06T13:07:38.571Z"
   },
   {
    "duration": 7,
    "start_time": "2022-09-06T13:07:43.016Z"
   },
   {
    "duration": 8,
    "start_time": "2022-09-06T13:07:59.899Z"
   },
   {
    "duration": 12,
    "start_time": "2022-09-06T13:11:46.447Z"
   },
   {
    "duration": 6,
    "start_time": "2022-09-06T13:12:14.117Z"
   },
   {
    "duration": 7,
    "start_time": "2022-09-06T13:12:34.095Z"
   },
   {
    "duration": 7,
    "start_time": "2022-09-06T13:12:47.648Z"
   },
   {
    "duration": 6,
    "start_time": "2022-09-06T13:13:40.349Z"
   },
   {
    "duration": 7,
    "start_time": "2022-09-06T13:14:17.247Z"
   },
   {
    "duration": 8,
    "start_time": "2022-09-06T13:14:25.896Z"
   },
   {
    "duration": 44,
    "start_time": "2022-09-07T11:48:35.642Z"
   },
   {
    "duration": 1355,
    "start_time": "2022-09-07T11:48:46.061Z"
   },
   {
    "duration": 72,
    "start_time": "2022-09-07T11:48:47.420Z"
   },
   {
    "duration": 11,
    "start_time": "2022-09-07T11:48:47.494Z"
   },
   {
    "duration": 19,
    "start_time": "2022-09-07T11:48:47.507Z"
   },
   {
    "duration": 16,
    "start_time": "2022-09-07T11:48:47.530Z"
   },
   {
    "duration": 12,
    "start_time": "2022-09-07T11:48:47.548Z"
   },
   {
    "duration": 13,
    "start_time": "2022-09-07T11:48:47.562Z"
   },
   {
    "duration": 998,
    "start_time": "2022-09-07T11:48:47.577Z"
   },
   {
    "duration": 1082,
    "start_time": "2022-09-07T11:48:48.577Z"
   },
   {
    "duration": 5,
    "start_time": "2022-09-07T11:48:51.739Z"
   },
   {
    "duration": 4,
    "start_time": "2022-09-07T11:48:58.542Z"
   },
   {
    "duration": 8,
    "start_time": "2022-09-07T11:49:02.836Z"
   },
   {
    "duration": 6,
    "start_time": "2022-09-07T11:50:22.254Z"
   },
   {
    "duration": 6,
    "start_time": "2022-09-07T11:50:22.653Z"
   },
   {
    "duration": 188,
    "start_time": "2022-09-07T12:02:58.763Z"
   },
   {
    "duration": 182,
    "start_time": "2022-09-07T12:03:48.140Z"
   },
   {
    "duration": 167,
    "start_time": "2022-09-07T12:03:58.313Z"
   },
   {
    "duration": 228,
    "start_time": "2022-09-07T12:04:04.070Z"
   },
   {
    "duration": 401,
    "start_time": "2022-09-07T12:05:19.888Z"
   },
   {
    "duration": 823,
    "start_time": "2022-09-07T12:06:21.778Z"
   },
   {
    "duration": 808,
    "start_time": "2022-09-07T12:06:46.101Z"
   },
   {
    "duration": 71,
    "start_time": "2022-09-07T12:09:32.329Z"
   },
   {
    "duration": 2726,
    "start_time": "2022-09-07T12:10:05.199Z"
   },
   {
    "duration": 2036,
    "start_time": "2022-09-07T12:11:28.027Z"
   },
   {
    "duration": 2012,
    "start_time": "2022-09-07T12:12:30.140Z"
   },
   {
    "duration": 5286,
    "start_time": "2022-09-07T12:15:11.958Z"
   },
   {
    "duration": 700,
    "start_time": "2022-09-07T12:15:26.588Z"
   },
   {
    "duration": 2031,
    "start_time": "2022-09-07T12:18:05.982Z"
   },
   {
    "duration": 2226,
    "start_time": "2022-09-07T12:18:42.501Z"
   },
   {
    "duration": 2,
    "start_time": "2022-09-07T12:20:53.053Z"
   },
   {
    "duration": 5,
    "start_time": "2022-09-07T12:21:28.361Z"
   },
   {
    "duration": 692,
    "start_time": "2022-09-07T12:21:32.935Z"
   },
   {
    "duration": 741,
    "start_time": "2022-09-07T12:21:49.431Z"
   },
   {
    "duration": 2151,
    "start_time": "2022-09-07T12:22:19.938Z"
   },
   {
    "duration": 2048,
    "start_time": "2022-09-07T12:22:34.529Z"
   },
   {
    "duration": 2081,
    "start_time": "2022-09-07T12:22:42.881Z"
   },
   {
    "duration": 2110,
    "start_time": "2022-09-07T12:23:13.201Z"
   },
   {
    "duration": 2218,
    "start_time": "2022-09-07T12:23:56.373Z"
   },
   {
    "duration": 2376,
    "start_time": "2022-09-07T12:24:33.949Z"
   },
   {
    "duration": 1990,
    "start_time": "2022-09-07T12:25:44.588Z"
   },
   {
    "duration": 1664,
    "start_time": "2022-09-07T12:30:16.442Z"
   },
   {
    "duration": 19,
    "start_time": "2022-09-07T12:32:51.620Z"
   },
   {
    "duration": 20,
    "start_time": "2022-09-07T12:33:29.574Z"
   },
   {
    "duration": 20,
    "start_time": "2022-09-07T12:34:23.489Z"
   },
   {
    "duration": 1670,
    "start_time": "2022-09-07T12:36:00.440Z"
   },
   {
    "duration": 431,
    "start_time": "2022-09-07T12:36:19.221Z"
   },
   {
    "duration": 418,
    "start_time": "2022-09-07T12:36:38.481Z"
   },
   {
    "duration": 409,
    "start_time": "2022-09-07T12:37:41.189Z"
   },
   {
    "duration": 589,
    "start_time": "2022-09-07T12:37:59.200Z"
   },
   {
    "duration": 1366,
    "start_time": "2022-09-07T12:40:35.594Z"
   },
   {
    "duration": 489,
    "start_time": "2022-09-07T12:41:11.874Z"
   },
   {
    "duration": 550,
    "start_time": "2022-09-07T12:41:23.484Z"
   },
   {
    "duration": 134,
    "start_time": "2022-09-07T12:41:43.031Z"
   },
   {
    "duration": 425,
    "start_time": "2022-09-07T12:43:31.642Z"
   },
   {
    "duration": 12,
    "start_time": "2022-09-07T12:44:14.032Z"
   },
   {
    "duration": 444,
    "start_time": "2022-09-07T12:44:57.560Z"
   },
   {
    "duration": 357,
    "start_time": "2022-09-07T12:45:27.451Z"
   },
   {
    "duration": 394,
    "start_time": "2022-09-07T12:46:46.221Z"
   },
   {
    "duration": 10,
    "start_time": "2022-09-07T12:47:33.999Z"
   },
   {
    "duration": 10,
    "start_time": "2022-09-07T12:47:44.822Z"
   },
   {
    "duration": 420,
    "start_time": "2022-09-07T12:47:55.580Z"
   },
   {
    "duration": 450,
    "start_time": "2022-09-07T12:48:04.580Z"
   },
   {
    "duration": 364,
    "start_time": "2022-09-07T12:48:53.236Z"
   },
   {
    "duration": 8509,
    "start_time": "2022-09-07T12:50:05.426Z"
   },
   {
    "duration": 37958,
    "start_time": "2022-09-07T12:50:49.271Z"
   },
   {
    "duration": 2313,
    "start_time": "2022-09-07T12:51:48.632Z"
   },
   {
    "duration": 321,
    "start_time": "2022-09-07T12:52:08.632Z"
   },
   {
    "duration": 375,
    "start_time": "2022-09-07T12:52:35.980Z"
   },
   {
    "duration": 342,
    "start_time": "2022-09-07T12:52:43.223Z"
   },
   {
    "duration": 454,
    "start_time": "2022-09-07T12:52:58.148Z"
   },
   {
    "duration": 75,
    "start_time": "2022-09-07T12:58:21.621Z"
   },
   {
    "duration": 106,
    "start_time": "2022-09-07T12:59:10.539Z"
   },
   {
    "duration": 388,
    "start_time": "2022-09-07T13:00:02.900Z"
   },
   {
    "duration": 414,
    "start_time": "2022-09-07T13:00:19.071Z"
   },
   {
    "duration": 2680,
    "start_time": "2022-09-07T13:00:42.117Z"
   },
   {
    "duration": 899,
    "start_time": "2022-09-07T13:01:17.961Z"
   },
   {
    "duration": 918,
    "start_time": "2022-09-07T13:01:54.039Z"
   },
   {
    "duration": 441,
    "start_time": "2022-09-07T13:02:29.239Z"
   },
   {
    "duration": 446,
    "start_time": "2022-09-07T13:02:41.826Z"
   },
   {
    "duration": 979,
    "start_time": "2022-09-07T13:03:10.231Z"
   },
   {
    "duration": 979,
    "start_time": "2022-09-07T13:03:31.727Z"
   },
   {
    "duration": 747,
    "start_time": "2022-09-07T13:04:00.524Z"
   },
   {
    "duration": 833,
    "start_time": "2022-09-07T13:04:18.239Z"
   },
   {
    "duration": 954,
    "start_time": "2022-09-07T13:04:55.052Z"
   },
   {
    "duration": 4,
    "start_time": "2022-09-07T13:05:30.708Z"
   },
   {
    "duration": 994,
    "start_time": "2022-09-07T13:05:46.447Z"
   },
   {
    "duration": 245,
    "start_time": "2022-09-07T13:07:34.599Z"
   },
   {
    "duration": 393,
    "start_time": "2022-09-07T13:07:55.491Z"
   },
   {
    "duration": 370,
    "start_time": "2022-09-07T13:08:25.239Z"
   },
   {
    "duration": 396,
    "start_time": "2022-09-07T13:08:46.005Z"
   },
   {
    "duration": 242,
    "start_time": "2022-09-07T13:09:09.028Z"
   },
   {
    "duration": 349,
    "start_time": "2022-09-07T13:09:19.588Z"
   },
   {
    "duration": 1024,
    "start_time": "2022-09-07T13:09:37.199Z"
   },
   {
    "duration": 400,
    "start_time": "2022-09-07T13:11:03.558Z"
   },
   {
    "duration": 401,
    "start_time": "2022-09-07T13:11:16.847Z"
   },
   {
    "duration": 419,
    "start_time": "2022-09-07T13:11:44.599Z"
   },
   {
    "duration": 390,
    "start_time": "2022-09-07T13:12:03.007Z"
   },
   {
    "duration": 386,
    "start_time": "2022-09-07T13:12:31.947Z"
   },
   {
    "duration": 17,
    "start_time": "2022-09-07T13:13:44.379Z"
   },
   {
    "duration": 10,
    "start_time": "2022-09-07T13:13:52.679Z"
   },
   {
    "duration": 343,
    "start_time": "2022-09-07T13:14:02.199Z"
   },
   {
    "duration": 354,
    "start_time": "2022-09-07T13:14:53.320Z"
   },
   {
    "duration": 1022,
    "start_time": "2022-09-07T13:20:53.639Z"
   },
   {
    "duration": 8,
    "start_time": "2022-09-07T13:24:07.990Z"
   },
   {
    "duration": 3367,
    "start_time": "2022-09-07T13:29:59.050Z"
   },
   {
    "duration": 1049,
    "start_time": "2022-09-07T13:31:23.803Z"
   },
   {
    "duration": 1399,
    "start_time": "2022-09-07T13:31:56.923Z"
   },
   {
    "duration": 1250,
    "start_time": "2022-09-07T13:32:12.586Z"
   },
   {
    "duration": 1058,
    "start_time": "2022-09-07T13:32:53.539Z"
   },
   {
    "duration": 1222,
    "start_time": "2022-09-07T13:34:30.218Z"
   },
   {
    "duration": 420,
    "start_time": "2022-09-07T13:35:28.746Z"
   },
   {
    "duration": 544,
    "start_time": "2022-09-07T13:35:39.584Z"
   },
   {
    "duration": 521,
    "start_time": "2022-09-07T13:36:00.786Z"
   },
   {
    "duration": 516,
    "start_time": "2022-09-07T13:37:16.518Z"
   },
   {
    "duration": 515,
    "start_time": "2022-09-07T13:38:01.359Z"
   },
   {
    "duration": 5,
    "start_time": "2022-09-07T13:39:22.401Z"
   },
   {
    "duration": 6,
    "start_time": "2022-09-07T13:39:31.078Z"
   },
   {
    "duration": 5,
    "start_time": "2022-09-07T13:39:37.490Z"
   },
   {
    "duration": 280,
    "start_time": "2022-09-07T13:41:18.358Z"
   },
   {
    "duration": 312,
    "start_time": "2022-09-07T13:41:45.538Z"
   },
   {
    "duration": 3,
    "start_time": "2022-09-07T13:50:04.542Z"
   },
   {
    "duration": 9,
    "start_time": "2022-09-07T13:50:05.889Z"
   },
   {
    "duration": 356,
    "start_time": "2022-09-07T13:50:09.938Z"
   },
   {
    "duration": 5,
    "start_time": "2022-09-07T13:50:46.124Z"
   },
   {
    "duration": 4,
    "start_time": "2022-09-07T13:50:48.237Z"
   },
   {
    "duration": 9,
    "start_time": "2022-09-07T13:50:49.749Z"
   },
   {
    "duration": 9,
    "start_time": "2022-09-07T13:50:52.377Z"
   },
   {
    "duration": 388,
    "start_time": "2022-09-07T13:50:59.469Z"
   },
   {
    "duration": 4,
    "start_time": "2022-09-07T13:51:37.948Z"
   },
   {
    "duration": 9,
    "start_time": "2022-09-07T13:51:38.169Z"
   },
   {
    "duration": 359,
    "start_time": "2022-09-07T13:51:38.829Z"
   },
   {
    "duration": 348,
    "start_time": "2022-09-07T13:51:57.046Z"
   },
   {
    "duration": 1299,
    "start_time": "2022-09-08T10:34:35.092Z"
   },
   {
    "duration": 83,
    "start_time": "2022-09-08T10:34:36.393Z"
   },
   {
    "duration": 2,
    "start_time": "2022-09-08T10:34:40.601Z"
   },
   {
    "duration": 31,
    "start_time": "2022-09-08T10:34:40.605Z"
   },
   {
    "duration": 12,
    "start_time": "2022-09-08T10:34:40.637Z"
   },
   {
    "duration": 17,
    "start_time": "2022-09-08T10:34:40.651Z"
   },
   {
    "duration": 9,
    "start_time": "2022-09-08T10:34:40.670Z"
   },
   {
    "duration": 21,
    "start_time": "2022-09-08T10:34:40.680Z"
   },
   {
    "duration": 21,
    "start_time": "2022-09-08T10:34:40.703Z"
   },
   {
    "duration": 6,
    "start_time": "2022-09-08T10:34:40.725Z"
   },
   {
    "duration": 889,
    "start_time": "2022-09-08T10:34:40.732Z"
   },
   {
    "duration": 1031,
    "start_time": "2022-09-08T10:34:41.622Z"
   },
   {
    "duration": 1257,
    "start_time": "2022-09-08T10:34:42.654Z"
   },
   {
    "duration": 588,
    "start_time": "2022-09-08T10:34:43.912Z"
   },
   {
    "duration": 7,
    "start_time": "2022-09-08T10:34:44.502Z"
   },
   {
    "duration": 18,
    "start_time": "2022-09-08T10:34:44.513Z"
   },
   {
    "duration": 19,
    "start_time": "2022-09-08T10:34:44.533Z"
   },
   {
    "duration": 11,
    "start_time": "2022-09-08T10:34:44.553Z"
   },
   {
    "duration": 10,
    "start_time": "2022-09-08T10:34:44.565Z"
   },
   {
    "duration": 7,
    "start_time": "2022-09-08T10:34:44.576Z"
   },
   {
    "duration": 367,
    "start_time": "2022-09-08T10:34:44.585Z"
   },
   {
    "duration": 6,
    "start_time": "2022-09-08T10:51:46.398Z"
   },
   {
    "duration": 10,
    "start_time": "2022-09-08T10:51:59.439Z"
   },
   {
    "duration": 10,
    "start_time": "2022-09-08T10:52:09.477Z"
   },
   {
    "duration": 12,
    "start_time": "2022-09-08T10:52:18.837Z"
   },
   {
    "duration": 5,
    "start_time": "2022-09-08T11:00:10.170Z"
   },
   {
    "duration": 94,
    "start_time": "2022-09-08T11:00:14.936Z"
   },
   {
    "duration": 425,
    "start_time": "2022-09-08T11:00:58.117Z"
   },
   {
    "duration": 4,
    "start_time": "2022-09-08T11:01:02.236Z"
   },
   {
    "duration": 3,
    "start_time": "2022-09-08T11:02:14.916Z"
   },
   {
    "duration": 11,
    "start_time": "2022-09-08T11:04:01.956Z"
   },
   {
    "duration": 9,
    "start_time": "2022-09-08T11:13:18.256Z"
   },
   {
    "duration": 3,
    "start_time": "2022-09-08T11:14:21.536Z"
   },
   {
    "duration": 6,
    "start_time": "2022-09-08T11:16:51.656Z"
   },
   {
    "duration": 17,
    "start_time": "2022-09-08T11:16:59.859Z"
   },
   {
    "duration": 10,
    "start_time": "2022-09-08T11:17:34.415Z"
   },
   {
    "duration": 12,
    "start_time": "2022-09-08T11:19:11.468Z"
   },
   {
    "duration": 18,
    "start_time": "2022-09-08T11:19:13.567Z"
   },
   {
    "duration": 1273,
    "start_time": "2022-09-08T11:19:29.291Z"
   },
   {
    "duration": 30,
    "start_time": "2022-09-08T11:19:30.566Z"
   },
   {
    "duration": 12,
    "start_time": "2022-09-08T11:19:30.597Z"
   },
   {
    "duration": 36,
    "start_time": "2022-09-08T11:19:30.611Z"
   },
   {
    "duration": 16,
    "start_time": "2022-09-08T11:19:30.649Z"
   },
   {
    "duration": 33,
    "start_time": "2022-09-08T11:19:30.667Z"
   },
   {
    "duration": 43,
    "start_time": "2022-09-08T11:19:30.702Z"
   },
   {
    "duration": 25,
    "start_time": "2022-09-08T11:19:30.747Z"
   },
   {
    "duration": 888,
    "start_time": "2022-09-08T11:19:30.774Z"
   },
   {
    "duration": 1087,
    "start_time": "2022-09-08T11:19:31.664Z"
   },
   {
    "duration": 1364,
    "start_time": "2022-09-08T11:19:32.752Z"
   },
   {
    "duration": 512,
    "start_time": "2022-09-08T11:19:34.118Z"
   },
   {
    "duration": 5,
    "start_time": "2022-09-08T11:19:34.632Z"
   },
   {
    "duration": 6,
    "start_time": "2022-09-08T11:19:34.646Z"
   },
   {
    "duration": 13,
    "start_time": "2022-09-08T11:19:34.654Z"
   },
   {
    "duration": 11,
    "start_time": "2022-09-08T11:19:34.669Z"
   },
   {
    "duration": 9,
    "start_time": "2022-09-08T11:19:34.682Z"
   },
   {
    "duration": 6,
    "start_time": "2022-09-08T11:19:34.692Z"
   },
   {
    "duration": 426,
    "start_time": "2022-09-08T11:19:34.700Z"
   },
   {
    "duration": 9,
    "start_time": "2022-09-08T11:19:35.129Z"
   },
   {
    "duration": 7,
    "start_time": "2022-09-08T11:19:35.147Z"
   },
   {
    "duration": 10,
    "start_time": "2022-09-08T11:19:37.991Z"
   },
   {
    "duration": 10,
    "start_time": "2022-09-08T11:19:40.051Z"
   },
   {
    "duration": 11,
    "start_time": "2022-09-08T11:20:37.723Z"
   },
   {
    "duration": 12,
    "start_time": "2022-09-08T11:20:39.171Z"
   },
   {
    "duration": 10,
    "start_time": "2022-09-08T11:20:41.703Z"
   },
   {
    "duration": 3,
    "start_time": "2022-09-08T11:20:54.912Z"
   },
   {
    "duration": 36,
    "start_time": "2022-09-08T11:20:54.917Z"
   },
   {
    "duration": 11,
    "start_time": "2022-09-08T11:20:54.955Z"
   },
   {
    "duration": 21,
    "start_time": "2022-09-08T11:20:54.968Z"
   },
   {
    "duration": 9,
    "start_time": "2022-09-08T11:20:54.991Z"
   },
   {
    "duration": 17,
    "start_time": "2022-09-08T11:20:55.002Z"
   },
   {
    "duration": 15,
    "start_time": "2022-09-08T11:20:55.021Z"
   },
   {
    "duration": 8,
    "start_time": "2022-09-08T11:20:55.046Z"
   },
   {
    "duration": 748,
    "start_time": "2022-09-08T11:20:55.056Z"
   },
   {
    "duration": 1117,
    "start_time": "2022-09-08T11:20:55.806Z"
   },
   {
    "duration": 1541,
    "start_time": "2022-09-08T11:20:56.925Z"
   },
   {
    "duration": 492,
    "start_time": "2022-09-08T11:20:58.467Z"
   },
   {
    "duration": 6,
    "start_time": "2022-09-08T11:20:58.960Z"
   },
   {
    "duration": 10,
    "start_time": "2022-09-08T11:20:58.969Z"
   },
   {
    "duration": 11,
    "start_time": "2022-09-08T11:20:58.981Z"
   },
   {
    "duration": 9,
    "start_time": "2022-09-08T11:20:58.994Z"
   },
   {
    "duration": 5,
    "start_time": "2022-09-08T11:20:59.005Z"
   },
   {
    "duration": 6,
    "start_time": "2022-09-08T11:20:59.012Z"
   },
   {
    "duration": 389,
    "start_time": "2022-09-08T11:20:59.020Z"
   },
   {
    "duration": 9,
    "start_time": "2022-09-08T11:20:59.410Z"
   },
   {
    "duration": 12,
    "start_time": "2022-09-08T11:20:59.420Z"
   },
   {
    "duration": 9,
    "start_time": "2022-09-08T11:21:34.303Z"
   },
   {
    "duration": 10,
    "start_time": "2022-09-08T11:21:36.799Z"
   },
   {
    "duration": 105,
    "start_time": "2022-09-08T11:23:40.891Z"
   },
   {
    "duration": 10,
    "start_time": "2022-09-08T11:23:59.591Z"
   },
   {
    "duration": 10,
    "start_time": "2022-09-08T11:24:15.231Z"
   },
   {
    "duration": 7,
    "start_time": "2022-09-08T11:24:49.864Z"
   },
   {
    "duration": 4,
    "start_time": "2022-09-08T11:26:38.091Z"
   },
   {
    "duration": 12,
    "start_time": "2022-09-08T11:27:01.571Z"
   },
   {
    "duration": 11,
    "start_time": "2022-09-08T11:27:10.691Z"
   },
   {
    "duration": 10,
    "start_time": "2022-09-08T11:27:20.211Z"
   },
   {
    "duration": 14,
    "start_time": "2022-09-08T11:38:31.406Z"
   },
   {
    "duration": 12,
    "start_time": "2022-09-08T11:39:06.979Z"
   },
   {
    "duration": 9,
    "start_time": "2022-09-08T11:44:00.806Z"
   },
   {
    "duration": 10,
    "start_time": "2022-09-08T11:44:48.910Z"
   },
   {
    "duration": 4,
    "start_time": "2022-09-08T11:45:05.882Z"
   },
   {
    "duration": 3,
    "start_time": "2022-09-08T11:45:14.970Z"
   },
   {
    "duration": 477,
    "start_time": "2022-09-08T11:53:27.989Z"
   },
   {
    "duration": 3,
    "start_time": "2022-09-08T11:53:41.050Z"
   },
   {
    "duration": 53,
    "start_time": "2022-09-08T12:03:08.061Z"
   },
   {
    "duration": 11,
    "start_time": "2022-09-08T12:03:16.040Z"
   },
   {
    "duration": 7,
    "start_time": "2022-09-08T12:36:34.783Z"
   },
   {
    "duration": 22,
    "start_time": "2022-09-08T12:37:14.311Z"
   },
   {
    "duration": 12,
    "start_time": "2022-09-08T12:51:36.290Z"
   },
   {
    "duration": 3,
    "start_time": "2022-09-08T12:51:40.249Z"
   },
   {
    "duration": 11,
    "start_time": "2022-09-08T12:51:41.362Z"
   },
   {
    "duration": 10,
    "start_time": "2022-09-08T12:51:48.998Z"
   },
   {
    "duration": 2,
    "start_time": "2022-09-08T12:52:05.752Z"
   },
   {
    "duration": 21,
    "start_time": "2022-09-08T12:52:07.191Z"
   },
   {
    "duration": 11,
    "start_time": "2022-09-08T13:02:34.176Z"
   },
   {
    "duration": 2,
    "start_time": "2022-09-08T13:02:39.537Z"
   },
   {
    "duration": 19,
    "start_time": "2022-09-08T13:02:39.872Z"
   },
   {
    "duration": 1964,
    "start_time": "2022-09-09T09:32:23.168Z"
   },
   {
    "duration": 73,
    "start_time": "2022-09-09T09:32:25.133Z"
   },
   {
    "duration": 12,
    "start_time": "2022-09-09T09:32:25.208Z"
   },
   {
    "duration": 34,
    "start_time": "2022-09-09T09:32:25.222Z"
   },
   {
    "duration": 13,
    "start_time": "2022-09-09T09:32:25.259Z"
   },
   {
    "duration": 18,
    "start_time": "2022-09-09T09:32:25.274Z"
   },
   {
    "duration": 40,
    "start_time": "2022-09-09T09:32:25.294Z"
   },
   {
    "duration": 14,
    "start_time": "2022-09-09T09:32:25.335Z"
   },
   {
    "duration": 16,
    "start_time": "2022-09-09T09:32:25.350Z"
   },
   {
    "duration": 22,
    "start_time": "2022-09-09T09:32:25.368Z"
   },
   {
    "duration": 2,
    "start_time": "2022-09-09T09:32:25.391Z"
   },
   {
    "duration": 829,
    "start_time": "2022-09-09T09:32:25.394Z"
   },
   {
    "duration": 964,
    "start_time": "2022-09-09T09:32:26.224Z"
   },
   {
    "duration": 1242,
    "start_time": "2022-09-09T09:32:27.191Z"
   },
   {
    "duration": 456,
    "start_time": "2022-09-09T09:32:28.435Z"
   },
   {
    "duration": 5,
    "start_time": "2022-09-09T09:32:28.892Z"
   },
   {
    "duration": 14,
    "start_time": "2022-09-09T09:32:28.898Z"
   },
   {
    "duration": 13,
    "start_time": "2022-09-09T09:32:28.913Z"
   },
   {
    "duration": 37,
    "start_time": "2022-09-09T09:32:28.927Z"
   },
   {
    "duration": 7,
    "start_time": "2022-09-09T09:32:28.966Z"
   },
   {
    "duration": 7,
    "start_time": "2022-09-09T09:32:28.975Z"
   },
   {
    "duration": 466,
    "start_time": "2022-09-09T09:32:28.984Z"
   },
   {
    "duration": 9,
    "start_time": "2022-09-09T09:32:29.451Z"
   },
   {
    "duration": 10,
    "start_time": "2022-09-09T09:32:29.462Z"
   },
   {
    "duration": 7,
    "start_time": "2022-09-09T09:32:29.474Z"
   },
   {
    "duration": 11,
    "start_time": "2022-09-09T09:32:29.482Z"
   },
   {
    "duration": 16,
    "start_time": "2022-09-09T09:32:29.494Z"
   },
   {
    "duration": 4,
    "start_time": "2022-09-09T09:32:29.511Z"
   },
   {
    "duration": 6,
    "start_time": "2022-09-09T09:39:03.546Z"
   },
   {
    "duration": 184,
    "start_time": "2022-09-09T09:39:06.602Z"
   },
   {
    "duration": 4,
    "start_time": "2022-09-09T09:39:21.590Z"
   },
   {
    "duration": 7,
    "start_time": "2022-09-09T09:59:25.385Z"
   },
   {
    "duration": 5,
    "start_time": "2022-09-09T10:00:49.665Z"
   },
   {
    "duration": 12,
    "start_time": "2022-09-09T10:09:51.125Z"
   },
   {
    "duration": 4,
    "start_time": "2022-09-09T10:10:07.545Z"
   },
   {
    "duration": 23,
    "start_time": "2022-09-09T10:10:10.213Z"
   },
   {
    "duration": 6,
    "start_time": "2022-09-09T10:10:53.361Z"
   },
   {
    "duration": 13,
    "start_time": "2022-09-09T10:10:59.326Z"
   },
   {
    "duration": 25,
    "start_time": "2022-09-09T10:11:25.427Z"
   },
   {
    "duration": 14,
    "start_time": "2022-09-09T10:15:19.364Z"
   },
   {
    "duration": 17,
    "start_time": "2022-09-09T10:15:37.390Z"
   },
   {
    "duration": 11,
    "start_time": "2022-09-09T10:16:39.505Z"
   },
   {
    "duration": 12,
    "start_time": "2022-09-09T10:16:51.985Z"
   },
   {
    "duration": 5,
    "start_time": "2022-09-09T10:18:51.684Z"
   },
   {
    "duration": 3,
    "start_time": "2022-09-09T10:18:55.132Z"
   },
   {
    "duration": 19,
    "start_time": "2022-09-09T10:18:59.097Z"
   },
   {
    "duration": 5,
    "start_time": "2022-09-09T10:22:26.737Z"
   },
   {
    "duration": 14,
    "start_time": "2022-09-09T10:22:32.525Z"
   },
   {
    "duration": 5,
    "start_time": "2022-09-09T10:24:11.827Z"
   },
   {
    "duration": 3,
    "start_time": "2022-09-09T10:24:19.197Z"
   },
   {
    "duration": 4,
    "start_time": "2022-09-09T10:24:35.865Z"
   },
   {
    "duration": 6,
    "start_time": "2022-09-09T10:27:36.485Z"
   },
   {
    "duration": 10,
    "start_time": "2022-09-09T10:27:47.965Z"
   },
   {
    "duration": 5,
    "start_time": "2022-09-09T10:28:10.976Z"
   },
   {
    "duration": 8,
    "start_time": "2022-09-09T10:28:45.406Z"
   },
   {
    "duration": 6,
    "start_time": "2022-09-09T10:28:48.266Z"
   },
   {
    "duration": 6,
    "start_time": "2022-09-09T10:29:50.513Z"
   },
   {
    "duration": 5176,
    "start_time": "2022-09-09T10:30:13.286Z"
   },
   {
    "duration": 4,
    "start_time": "2022-09-09T10:31:08.666Z"
   },
   {
    "duration": 39,
    "start_time": "2022-09-09T10:31:08.672Z"
   },
   {
    "duration": 12,
    "start_time": "2022-09-09T10:31:08.713Z"
   },
   {
    "duration": 17,
    "start_time": "2022-09-09T10:31:08.727Z"
   },
   {
    "duration": 14,
    "start_time": "2022-09-09T10:31:08.746Z"
   },
   {
    "duration": 34,
    "start_time": "2022-09-09T10:31:08.762Z"
   },
   {
    "duration": 25,
    "start_time": "2022-09-09T10:31:08.798Z"
   },
   {
    "duration": 14,
    "start_time": "2022-09-09T10:31:08.826Z"
   },
   {
    "duration": 10,
    "start_time": "2022-09-09T10:31:08.842Z"
   },
   {
    "duration": 32,
    "start_time": "2022-09-09T10:31:08.854Z"
   },
   {
    "duration": 3,
    "start_time": "2022-09-09T10:31:08.888Z"
   },
   {
    "duration": 888,
    "start_time": "2022-09-09T10:31:08.893Z"
   },
   {
    "duration": 1095,
    "start_time": "2022-09-09T10:31:09.783Z"
   },
   {
    "duration": 1328,
    "start_time": "2022-09-09T10:31:10.881Z"
   },
   {
    "duration": 523,
    "start_time": "2022-09-09T10:31:12.211Z"
   },
   {
    "duration": 7,
    "start_time": "2022-09-09T10:31:12.736Z"
   },
   {
    "duration": 8,
    "start_time": "2022-09-09T10:31:12.744Z"
   },
   {
    "duration": 10,
    "start_time": "2022-09-09T10:31:12.754Z"
   },
   {
    "duration": 11,
    "start_time": "2022-09-09T10:31:12.765Z"
   },
   {
    "duration": 7,
    "start_time": "2022-09-09T10:31:12.778Z"
   },
   {
    "duration": 5,
    "start_time": "2022-09-09T10:31:12.810Z"
   },
   {
    "duration": 366,
    "start_time": "2022-09-09T10:31:12.819Z"
   },
   {
    "duration": 11,
    "start_time": "2022-09-09T10:31:13.187Z"
   },
   {
    "duration": 9,
    "start_time": "2022-09-09T10:31:13.208Z"
   },
   {
    "duration": 17,
    "start_time": "2022-09-09T10:31:13.219Z"
   },
   {
    "duration": 6,
    "start_time": "2022-09-09T10:31:13.237Z"
   },
   {
    "duration": 21,
    "start_time": "2022-09-09T10:31:13.245Z"
   },
   {
    "duration": 12,
    "start_time": "2022-09-09T10:31:13.268Z"
   },
   {
    "duration": 4,
    "start_time": "2022-09-09T10:31:18.315Z"
   },
   {
    "duration": 8,
    "start_time": "2022-09-09T10:31:19.536Z"
   },
   {
    "duration": 3,
    "start_time": "2022-09-09T10:31:24.017Z"
   },
   {
    "duration": 6,
    "start_time": "2022-09-09T10:31:31.193Z"
   },
   {
    "duration": 5404,
    "start_time": "2022-09-09T10:31:33.106Z"
   },
   {
    "duration": 4,
    "start_time": "2022-09-09T10:41:37.385Z"
   },
   {
    "duration": 5,
    "start_time": "2022-09-09T10:41:42.573Z"
   },
   {
    "duration": 6374,
    "start_time": "2022-09-09T10:41:43.346Z"
   },
   {
    "duration": 6639,
    "start_time": "2022-09-09T10:42:54.184Z"
   },
   {
    "duration": 102,
    "start_time": "2022-09-09T10:43:41.725Z"
   },
   {
    "duration": 6708,
    "start_time": "2022-09-09T10:43:47.213Z"
   },
   {
    "duration": 6197,
    "start_time": "2022-09-09T10:44:16.034Z"
   },
   {
    "duration": 9000,
    "start_time": "2022-09-09T10:44:47.822Z"
   },
   {
    "duration": 5,
    "start_time": "2022-09-09T10:44:56.824Z"
   },
   {
    "duration": 29,
    "start_time": "2022-09-09T10:44:59.305Z"
   },
   {
    "duration": 91,
    "start_time": "2022-09-09T10:48:43.473Z"
   },
   {
    "duration": 42951,
    "start_time": "2022-09-09T10:49:24.365Z"
   },
   {
    "duration": 15,
    "start_time": "2022-09-09T10:50:07.320Z"
   },
   {
    "duration": 5,
    "start_time": "2022-09-09T10:50:09.245Z"
   },
   {
    "duration": 330485,
    "start_time": "2022-09-09T10:50:10.126Z"
   },
   {
    "duration": 5,
    "start_time": "2022-09-09T11:02:13.892Z"
   },
   {
    "duration": 3,
    "start_time": "2022-09-09T11:02:17.976Z"
   },
   {
    "duration": 3,
    "start_time": "2022-09-09T11:02:21.626Z"
   },
   {
    "duration": 14865,
    "start_time": "2022-09-09T11:02:24.065Z"
   },
   {
    "duration": 7,
    "start_time": "2022-09-09T11:02:56.764Z"
   },
   {
    "duration": 3,
    "start_time": "2022-09-09T11:03:05.526Z"
   },
   {
    "duration": 3,
    "start_time": "2022-09-09T11:03:06.583Z"
   },
   {
    "duration": 19701,
    "start_time": "2022-09-09T11:03:09.525Z"
   },
   {
    "duration": 116312,
    "start_time": "2022-09-09T11:04:43.217Z"
   },
   {
    "duration": 3,
    "start_time": "2022-09-09T11:06:45.145Z"
   },
   {
    "duration": 38,
    "start_time": "2022-09-09T11:06:45.150Z"
   },
   {
    "duration": 12,
    "start_time": "2022-09-09T11:06:45.190Z"
   },
   {
    "duration": 14,
    "start_time": "2022-09-09T11:06:45.204Z"
   },
   {
    "duration": 12,
    "start_time": "2022-09-09T11:06:45.220Z"
   },
   {
    "duration": 30,
    "start_time": "2022-09-09T11:06:45.234Z"
   },
   {
    "duration": 21,
    "start_time": "2022-09-09T11:06:45.266Z"
   },
   {
    "duration": 20,
    "start_time": "2022-09-09T11:06:45.289Z"
   },
   {
    "duration": 13,
    "start_time": "2022-09-09T11:06:45.311Z"
   },
   {
    "duration": 27,
    "start_time": "2022-09-09T11:06:45.325Z"
   },
   {
    "duration": 3,
    "start_time": "2022-09-09T11:06:45.353Z"
   },
   {
    "duration": 812,
    "start_time": "2022-09-09T11:06:45.357Z"
   },
   {
    "duration": 1028,
    "start_time": "2022-09-09T11:06:46.173Z"
   },
   {
    "duration": 1276,
    "start_time": "2022-09-09T11:06:47.202Z"
   },
   {
    "duration": 511,
    "start_time": "2022-09-09T11:06:48.479Z"
   },
   {
    "duration": 5,
    "start_time": "2022-09-09T11:06:48.991Z"
   },
   {
    "duration": 29,
    "start_time": "2022-09-09T11:06:48.998Z"
   },
   {
    "duration": 29,
    "start_time": "2022-09-09T11:06:49.029Z"
   },
   {
    "duration": 24,
    "start_time": "2022-09-09T11:06:49.059Z"
   },
   {
    "duration": 21,
    "start_time": "2022-09-09T11:06:49.085Z"
   },
   {
    "duration": 14,
    "start_time": "2022-09-09T11:06:49.107Z"
   },
   {
    "duration": 364,
    "start_time": "2022-09-09T11:06:49.123Z"
   },
   {
    "duration": 9,
    "start_time": "2022-09-09T11:06:49.488Z"
   },
   {
    "duration": 35,
    "start_time": "2022-09-09T11:06:49.509Z"
   },
   {
    "duration": 31,
    "start_time": "2022-09-09T11:06:49.545Z"
   },
   {
    "duration": 15,
    "start_time": "2022-09-09T11:06:49.577Z"
   },
   {
    "duration": 40,
    "start_time": "2022-09-09T11:06:49.594Z"
   },
   {
    "duration": 25,
    "start_time": "2022-09-09T11:06:49.636Z"
   },
   {
    "duration": 26,
    "start_time": "2022-09-09T11:06:49.662Z"
   },
   {
    "duration": 19,
    "start_time": "2022-09-09T11:06:49.690Z"
   },
   {
    "duration": 40,
    "start_time": "2022-09-09T11:06:49.710Z"
   },
   {
    "duration": 18,
    "start_time": "2022-09-09T11:06:49.751Z"
   },
   {
    "duration": 3,
    "start_time": "2022-09-09T11:06:51.944Z"
   },
   {
    "duration": 69,
    "start_time": "2022-09-09T11:06:52.565Z"
   },
   {
    "duration": 3,
    "start_time": "2022-09-09T11:07:11.144Z"
   },
   {
    "duration": 3,
    "start_time": "2022-09-09T11:07:11.865Z"
   },
   {
    "duration": 180634,
    "start_time": "2022-09-09T11:07:12.086Z"
   },
   {
    "duration": 3,
    "start_time": "2022-09-09T11:11:27.533Z"
   },
   {
    "duration": 4,
    "start_time": "2022-09-09T11:11:27.704Z"
   },
   {
    "duration": 526,
    "start_time": "2022-09-09T11:11:28.504Z"
   },
   {
    "duration": 5,
    "start_time": "2022-09-09T11:12:09.838Z"
   },
   {
    "duration": 12,
    "start_time": "2022-09-09T11:12:23.925Z"
   },
   {
    "duration": 3,
    "start_time": "2022-09-09T11:21:46.125Z"
   },
   {
    "duration": 715,
    "start_time": "2022-09-09T11:21:57.945Z"
   },
   {
    "duration": 6,
    "start_time": "2022-09-09T11:22:59.126Z"
   },
   {
    "duration": 764,
    "start_time": "2022-09-09T11:22:59.717Z"
   },
   {
    "duration": 5,
    "start_time": "2022-09-09T11:25:41.305Z"
   },
   {
    "duration": 2,
    "start_time": "2022-09-09T11:27:20.554Z"
   },
   {
    "duration": 6,
    "start_time": "2022-09-09T11:27:28.420Z"
   },
   {
    "duration": 836,
    "start_time": "2022-09-09T11:29:10.385Z"
   },
   {
    "duration": 9,
    "start_time": "2022-09-09T11:30:20.347Z"
   },
   {
    "duration": 6,
    "start_time": "2022-09-09T11:31:47.774Z"
   },
   {
    "duration": 17,
    "start_time": "2022-09-09T11:32:00.233Z"
   },
   {
    "duration": 12,
    "start_time": "2022-09-09T11:32:19.266Z"
   },
   {
    "duration": 14,
    "start_time": "2022-09-09T11:32:28.045Z"
   },
   {
    "duration": 761,
    "start_time": "2022-09-09T11:32:47.805Z"
   },
   {
    "duration": 820,
    "start_time": "2022-09-09T11:33:01.635Z"
   },
   {
    "duration": 927,
    "start_time": "2022-09-09T11:36:25.705Z"
   },
   {
    "duration": 13,
    "start_time": "2022-09-09T11:36:51.367Z"
   },
   {
    "duration": 15,
    "start_time": "2022-09-09T11:37:05.563Z"
   },
   {
    "duration": 5,
    "start_time": "2022-09-09T11:37:17.586Z"
   },
   {
    "duration": 10,
    "start_time": "2022-09-09T11:37:26.093Z"
   },
   {
    "duration": 5,
    "start_time": "2022-09-09T11:37:37.229Z"
   },
   {
    "duration": 3,
    "start_time": "2022-09-09T11:38:20.758Z"
   },
   {
    "duration": 4,
    "start_time": "2022-09-09T11:38:25.846Z"
   },
   {
    "duration": 6,
    "start_time": "2022-09-09T11:39:56.066Z"
   },
   {
    "duration": 5,
    "start_time": "2022-09-09T11:40:32.538Z"
   },
   {
    "duration": 5,
    "start_time": "2022-09-09T11:40:50.539Z"
   },
   {
    "duration": 5,
    "start_time": "2022-09-09T11:42:45.686Z"
   },
   {
    "duration": 20,
    "start_time": "2022-09-09T11:43:09.138Z"
   },
   {
    "duration": 12,
    "start_time": "2022-09-09T11:44:05.994Z"
   },
   {
    "duration": 5,
    "start_time": "2022-09-09T11:45:23.266Z"
   },
   {
    "duration": 5,
    "start_time": "2022-09-09T11:45:38.074Z"
   },
   {
    "duration": 3,
    "start_time": "2022-09-09T11:46:16.626Z"
   },
   {
    "duration": 833,
    "start_time": "2022-09-09T11:46:31.566Z"
   },
   {
    "duration": 2,
    "start_time": "2022-09-09T11:47:07.648Z"
   },
   {
    "duration": 1062,
    "start_time": "2022-09-09T11:47:16.207Z"
   },
   {
    "duration": 5,
    "start_time": "2022-09-09T11:57:25.353Z"
   },
   {
    "duration": 10,
    "start_time": "2022-09-09T12:01:46.809Z"
   },
   {
    "duration": 11,
    "start_time": "2022-09-09T12:01:56.133Z"
   },
   {
    "duration": 11,
    "start_time": "2022-09-09T12:02:51.380Z"
   },
   {
    "duration": 10,
    "start_time": "2022-09-09T12:03:03.870Z"
   },
   {
    "duration": 11,
    "start_time": "2022-09-09T12:03:11.269Z"
   },
   {
    "duration": 5,
    "start_time": "2022-09-09T12:03:19.542Z"
   },
   {
    "duration": 12,
    "start_time": "2022-09-09T12:03:27.069Z"
   },
   {
    "duration": 955,
    "start_time": "2022-09-09T12:04:34.121Z"
   },
   {
    "duration": 1037,
    "start_time": "2022-09-09T12:05:20.062Z"
   },
   {
    "duration": 186,
    "start_time": "2022-09-09T12:06:45.150Z"
   },
   {
    "duration": 990,
    "start_time": "2022-09-09T12:07:08.281Z"
   },
   {
    "duration": 896,
    "start_time": "2022-09-09T12:07:28.318Z"
   },
   {
    "duration": 956,
    "start_time": "2022-09-09T12:08:29.969Z"
   },
   {
    "duration": 862,
    "start_time": "2022-09-09T12:09:06.282Z"
   },
   {
    "duration": 33,
    "start_time": "2022-09-09T12:10:23.916Z"
   },
   {
    "duration": 1218,
    "start_time": "2022-09-09T12:10:43.921Z"
   },
   {
    "duration": 3,
    "start_time": "2022-09-09T12:11:17.682Z"
   },
   {
    "duration": 4,
    "start_time": "2022-09-09T12:11:18.552Z"
   },
   {
    "duration": 496,
    "start_time": "2022-09-09T12:11:19.221Z"
   },
   {
    "duration": 500,
    "start_time": "2022-09-09T12:11:38.423Z"
   },
   {
    "duration": 25,
    "start_time": "2022-09-09T12:11:51.151Z"
   },
   {
    "duration": 502,
    "start_time": "2022-09-09T12:11:59.639Z"
   },
   {
    "duration": 6,
    "start_time": "2022-09-09T12:20:08.120Z"
   },
   {
    "duration": 3,
    "start_time": "2022-09-09T12:20:08.623Z"
   },
   {
    "duration": 5,
    "start_time": "2022-09-09T12:20:09.698Z"
   },
   {
    "duration": 25,
    "start_time": "2022-09-09T12:20:11.170Z"
   },
   {
    "duration": 7,
    "start_time": "2022-09-09T12:20:42.651Z"
   },
   {
    "duration": 4,
    "start_time": "2022-09-09T12:20:44.231Z"
   },
   {
    "duration": 6,
    "start_time": "2022-09-09T12:20:44.571Z"
   },
   {
    "duration": 3908,
    "start_time": "2022-09-09T12:20:45.324Z"
   },
   {
    "duration": 6,
    "start_time": "2022-09-09T12:22:15.770Z"
   },
   {
    "duration": 3858,
    "start_time": "2022-09-09T12:22:17.079Z"
   },
   {
    "duration": 3884,
    "start_time": "2022-09-09T12:23:07.851Z"
   },
   {
    "duration": 3763,
    "start_time": "2022-09-09T12:25:41.551Z"
   },
   {
    "duration": 4,
    "start_time": "2022-09-09T12:30:47.921Z"
   },
   {
    "duration": 1227,
    "start_time": "2022-09-09T12:31:10.508Z"
   },
   {
    "duration": 28,
    "start_time": "2022-09-09T12:31:28.187Z"
   },
   {
    "duration": 3,
    "start_time": "2022-09-09T12:32:26.068Z"
   },
   {
    "duration": 47,
    "start_time": "2022-09-09T12:32:26.072Z"
   },
   {
    "duration": 11,
    "start_time": "2022-09-09T12:32:26.120Z"
   },
   {
    "duration": 10,
    "start_time": "2022-09-09T12:32:26.133Z"
   },
   {
    "duration": 10,
    "start_time": "2022-09-09T12:32:26.144Z"
   },
   {
    "duration": 22,
    "start_time": "2022-09-09T12:32:26.155Z"
   },
   {
    "duration": 17,
    "start_time": "2022-09-09T12:32:26.179Z"
   },
   {
    "duration": 27,
    "start_time": "2022-09-09T12:32:26.198Z"
   },
   {
    "duration": 10,
    "start_time": "2022-09-09T12:32:26.227Z"
   },
   {
    "duration": 23,
    "start_time": "2022-09-09T12:32:26.238Z"
   },
   {
    "duration": 2,
    "start_time": "2022-09-09T12:32:26.264Z"
   },
   {
    "duration": 1074,
    "start_time": "2022-09-09T12:32:26.268Z"
   },
   {
    "duration": 1036,
    "start_time": "2022-09-09T12:32:27.344Z"
   },
   {
    "duration": 1267,
    "start_time": "2022-09-09T12:32:28.382Z"
   },
   {
    "duration": 817,
    "start_time": "2022-09-09T12:32:29.651Z"
   },
   {
    "duration": 6,
    "start_time": "2022-09-09T12:32:30.470Z"
   },
   {
    "duration": 28,
    "start_time": "2022-09-09T12:32:30.477Z"
   },
   {
    "duration": 36,
    "start_time": "2022-09-09T12:32:30.507Z"
   },
   {
    "duration": 23,
    "start_time": "2022-09-09T12:32:30.545Z"
   },
   {
    "duration": 26,
    "start_time": "2022-09-09T12:32:30.570Z"
   },
   {
    "duration": 28,
    "start_time": "2022-09-09T12:32:30.598Z"
   },
   {
    "duration": 554,
    "start_time": "2022-09-09T12:32:30.627Z"
   },
   {
    "duration": 10,
    "start_time": "2022-09-09T12:32:31.183Z"
   },
   {
    "duration": 83,
    "start_time": "2022-09-09T12:32:31.194Z"
   },
   {
    "duration": 43,
    "start_time": "2022-09-09T12:32:31.279Z"
   },
   {
    "duration": 88,
    "start_time": "2022-09-09T12:32:31.323Z"
   },
   {
    "duration": 61,
    "start_time": "2022-09-09T12:32:31.422Z"
   },
   {
    "duration": 19,
    "start_time": "2022-09-09T12:32:31.484Z"
   },
   {
    "duration": 40,
    "start_time": "2022-09-09T12:32:31.505Z"
   },
   {
    "duration": 40,
    "start_time": "2022-09-09T12:32:31.546Z"
   },
   {
    "duration": 19,
    "start_time": "2022-09-09T12:32:31.588Z"
   },
   {
    "duration": 48,
    "start_time": "2022-09-09T12:32:31.608Z"
   },
   {
    "duration": 5,
    "start_time": "2022-09-09T12:32:41.747Z"
   },
   {
    "duration": 28,
    "start_time": "2022-09-09T12:32:42.999Z"
   },
   {
    "duration": 1550,
    "start_time": "2022-09-09T12:34:36.986Z"
   },
   {
    "duration": 37,
    "start_time": "2022-09-09T12:36:29.145Z"
   },
   {
    "duration": 35,
    "start_time": "2022-09-09T12:38:19.606Z"
   },
   {
    "duration": 1162,
    "start_time": "2022-09-09T12:39:39.176Z"
   },
   {
    "duration": 1318,
    "start_time": "2022-09-09T12:39:55.605Z"
   },
   {
    "duration": 1230,
    "start_time": "2022-09-09T12:41:03.123Z"
   },
   {
    "duration": 1220,
    "start_time": "2022-09-09T12:41:24.399Z"
   },
   {
    "duration": 4,
    "start_time": "2022-09-09T12:42:04.685Z"
   },
   {
    "duration": 5,
    "start_time": "2022-09-09T12:42:08.725Z"
   },
   {
    "duration": 15767,
    "start_time": "2022-09-09T12:42:09.657Z"
   },
   {
    "duration": 5,
    "start_time": "2022-09-09T12:42:49.865Z"
   },
   {
    "duration": 5,
    "start_time": "2022-09-09T12:43:07.135Z"
   },
   {
    "duration": 16981,
    "start_time": "2022-09-09T12:43:07.141Z"
   },
   {
    "duration": 8,
    "start_time": "2022-09-09T12:43:45.807Z"
   },
   {
    "duration": 15012,
    "start_time": "2022-09-09T12:43:46.525Z"
   },
   {
    "duration": 16993,
    "start_time": "2022-09-09T12:44:19.945Z"
   },
   {
    "duration": 5,
    "start_time": "2022-09-09T12:44:37.685Z"
   },
   {
    "duration": 20654,
    "start_time": "2022-09-09T12:44:42.977Z"
   },
   {
    "duration": 7,
    "start_time": "2022-09-09T12:46:25.646Z"
   },
   {
    "duration": 18,
    "start_time": "2022-09-09T12:46:55.466Z"
   },
   {
    "duration": 8,
    "start_time": "2022-09-09T12:47:15.269Z"
   },
   {
    "duration": 4,
    "start_time": "2022-09-09T12:47:17.235Z"
   },
   {
    "duration": 5,
    "start_time": "2022-09-09T12:47:17.656Z"
   },
   {
    "duration": 9953,
    "start_time": "2022-09-09T12:47:20.478Z"
   },
   {
    "duration": 4,
    "start_time": "2022-09-09T12:49:03.925Z"
   },
   {
    "duration": 9589,
    "start_time": "2022-09-09T12:49:28.146Z"
   },
   {
    "duration": 1952,
    "start_time": "2022-09-12T10:59:31.218Z"
   },
   {
    "duration": 58,
    "start_time": "2022-09-12T10:59:33.172Z"
   },
   {
    "duration": 13,
    "start_time": "2022-09-12T10:59:33.232Z"
   },
   {
    "duration": 13,
    "start_time": "2022-09-12T10:59:33.246Z"
   },
   {
    "duration": 8,
    "start_time": "2022-09-12T10:59:33.261Z"
   },
   {
    "duration": 13,
    "start_time": "2022-09-12T10:59:33.270Z"
   },
   {
    "duration": 16,
    "start_time": "2022-09-12T10:59:33.285Z"
   },
   {
    "duration": 8,
    "start_time": "2022-09-12T10:59:33.303Z"
   },
   {
    "duration": 10,
    "start_time": "2022-09-12T10:59:33.312Z"
   },
   {
    "duration": 24,
    "start_time": "2022-09-12T10:59:33.323Z"
   },
   {
    "duration": 2,
    "start_time": "2022-09-12T10:59:33.349Z"
   },
   {
    "duration": 901,
    "start_time": "2022-09-12T10:59:33.353Z"
   },
   {
    "duration": 997,
    "start_time": "2022-09-12T10:59:34.256Z"
   },
   {
    "duration": 1360,
    "start_time": "2022-09-12T10:59:35.256Z"
   },
   {
    "duration": 478,
    "start_time": "2022-09-12T10:59:36.621Z"
   },
   {
    "duration": 5,
    "start_time": "2022-09-12T10:59:37.100Z"
   },
   {
    "duration": 16,
    "start_time": "2022-09-12T10:59:37.106Z"
   },
   {
    "duration": 7,
    "start_time": "2022-09-12T10:59:37.124Z"
   },
   {
    "duration": 7,
    "start_time": "2022-09-12T10:59:37.133Z"
   },
   {
    "duration": 8,
    "start_time": "2022-09-12T10:59:37.141Z"
   },
   {
    "duration": 8,
    "start_time": "2022-09-12T10:59:37.150Z"
   },
   {
    "duration": 450,
    "start_time": "2022-09-12T10:59:37.159Z"
   },
   {
    "duration": 13,
    "start_time": "2022-09-12T10:59:37.611Z"
   },
   {
    "duration": 26,
    "start_time": "2022-09-12T10:59:37.625Z"
   },
   {
    "duration": 10,
    "start_time": "2022-09-12T10:59:37.653Z"
   },
   {
    "duration": 8,
    "start_time": "2022-09-12T10:59:37.665Z"
   },
   {
    "duration": 14,
    "start_time": "2022-09-12T10:59:37.674Z"
   },
   {
    "duration": 14,
    "start_time": "2022-09-12T10:59:37.689Z"
   },
   {
    "duration": 8,
    "start_time": "2022-09-12T10:59:37.705Z"
   },
   {
    "duration": 6,
    "start_time": "2022-09-12T10:59:49.357Z"
   },
   {
    "duration": 5,
    "start_time": "2022-09-12T11:00:04.185Z"
   },
   {
    "duration": 4,
    "start_time": "2022-09-12T11:00:09.244Z"
   },
   {
    "duration": 132,
    "start_time": "2022-09-12T11:00:15.357Z"
   },
   {
    "duration": 10,
    "start_time": "2022-09-12T11:00:28.176Z"
   },
   {
    "duration": 6,
    "start_time": "2022-09-12T11:00:37.938Z"
   },
   {
    "duration": 5859,
    "start_time": "2022-09-12T11:00:40.788Z"
   },
   {
    "duration": 5,
    "start_time": "2022-09-12T11:01:05.256Z"
   },
   {
    "duration": 6327,
    "start_time": "2022-09-12T11:01:14.296Z"
   },
   {
    "duration": 4,
    "start_time": "2022-09-12T11:01:33.816Z"
   },
   {
    "duration": 6481,
    "start_time": "2022-09-12T11:01:35.756Z"
   },
   {
    "duration": 7,
    "start_time": "2022-09-12T11:02:41.798Z"
   },
   {
    "duration": 6240,
    "start_time": "2022-09-12T11:02:46.903Z"
   },
   {
    "duration": 86,
    "start_time": "2022-09-12T11:02:53.146Z"
   },
   {
    "duration": 6906,
    "start_time": "2022-09-12T11:02:56.717Z"
   },
   {
    "duration": 6,
    "start_time": "2022-09-12T11:03:21.618Z"
   },
   {
    "duration": 34,
    "start_time": "2022-09-12T11:03:21.627Z"
   },
   {
    "duration": 13,
    "start_time": "2022-09-12T11:03:21.663Z"
   },
   {
    "duration": 27,
    "start_time": "2022-09-12T11:03:21.678Z"
   },
   {
    "duration": 20,
    "start_time": "2022-09-12T11:03:21.708Z"
   },
   {
    "duration": 27,
    "start_time": "2022-09-12T11:03:21.730Z"
   },
   {
    "duration": 17,
    "start_time": "2022-09-12T11:03:21.759Z"
   },
   {
    "duration": 14,
    "start_time": "2022-09-12T11:03:21.778Z"
   },
   {
    "duration": 8,
    "start_time": "2022-09-12T11:03:21.794Z"
   },
   {
    "duration": 33,
    "start_time": "2022-09-12T11:03:21.804Z"
   },
   {
    "duration": 14,
    "start_time": "2022-09-12T11:03:21.839Z"
   },
   {
    "duration": 939,
    "start_time": "2022-09-12T11:03:21.855Z"
   },
   {
    "duration": 1056,
    "start_time": "2022-09-12T11:03:22.796Z"
   },
   {
    "duration": 1350,
    "start_time": "2022-09-12T11:03:23.855Z"
   },
   {
    "duration": 537,
    "start_time": "2022-09-12T11:03:25.207Z"
   },
   {
    "duration": 7,
    "start_time": "2022-09-12T11:03:25.745Z"
   },
   {
    "duration": 12,
    "start_time": "2022-09-12T11:03:25.755Z"
   },
   {
    "duration": 24,
    "start_time": "2022-09-12T11:03:25.769Z"
   },
   {
    "duration": 19,
    "start_time": "2022-09-12T11:03:25.795Z"
   },
   {
    "duration": 10,
    "start_time": "2022-09-12T11:03:25.816Z"
   },
   {
    "duration": 12,
    "start_time": "2022-09-12T11:03:25.828Z"
   },
   {
    "duration": 440,
    "start_time": "2022-09-12T11:03:25.842Z"
   },
   {
    "duration": 13,
    "start_time": "2022-09-12T11:03:26.284Z"
   },
   {
    "duration": 45,
    "start_time": "2022-09-12T11:03:26.299Z"
   },
   {
    "duration": 26,
    "start_time": "2022-09-12T11:03:26.346Z"
   },
   {
    "duration": 13,
    "start_time": "2022-09-12T11:03:26.374Z"
   },
   {
    "duration": 8,
    "start_time": "2022-09-12T11:03:26.390Z"
   },
   {
    "duration": 17,
    "start_time": "2022-09-12T11:03:26.400Z"
   },
   {
    "duration": 8,
    "start_time": "2022-09-12T11:03:26.418Z"
   },
   {
    "duration": 6,
    "start_time": "2022-09-12T11:03:36.764Z"
   },
   {
    "duration": 3,
    "start_time": "2022-09-12T11:03:42.316Z"
   },
   {
    "duration": 6,
    "start_time": "2022-09-12T11:03:44.397Z"
   },
   {
    "duration": 11783,
    "start_time": "2022-09-12T11:03:48.248Z"
   },
   {
    "duration": 6,
    "start_time": "2022-09-12T11:04:30.256Z"
   },
   {
    "duration": 3,
    "start_time": "2022-09-12T11:04:30.508Z"
   },
   {
    "duration": 5,
    "start_time": "2022-09-12T11:04:32.776Z"
   },
   {
    "duration": 19611,
    "start_time": "2022-09-12T11:04:35.616Z"
   },
   {
    "duration": 3,
    "start_time": "2022-09-12T11:05:15.567Z"
   },
   {
    "duration": 4,
    "start_time": "2022-09-12T11:05:15.828Z"
   },
   {
    "duration": 28822,
    "start_time": "2022-09-12T11:05:19.408Z"
   },
   {
    "duration": 4,
    "start_time": "2022-09-12T11:06:07.817Z"
   },
   {
    "duration": 6,
    "start_time": "2022-09-12T11:06:08.256Z"
   },
   {
    "duration": 114896,
    "start_time": "2022-09-12T11:06:11.135Z"
   },
   {
    "duration": 13351,
    "start_time": "2022-09-12T11:08:33.192Z"
   },
   {
    "duration": 3,
    "start_time": "2022-09-12T11:08:53.294Z"
   },
   {
    "duration": 37,
    "start_time": "2022-09-12T11:08:53.299Z"
   },
   {
    "duration": 13,
    "start_time": "2022-09-12T11:08:53.337Z"
   },
   {
    "duration": 31,
    "start_time": "2022-09-12T11:08:53.352Z"
   },
   {
    "duration": 137,
    "start_time": "2022-09-12T11:08:53.385Z"
   },
   {
    "duration": 30,
    "start_time": "2022-09-12T11:08:53.524Z"
   },
   {
    "duration": 20,
    "start_time": "2022-09-12T11:08:53.556Z"
   },
   {
    "duration": 12,
    "start_time": "2022-09-12T11:08:53.578Z"
   },
   {
    "duration": 10,
    "start_time": "2022-09-12T11:08:53.592Z"
   },
   {
    "duration": 72,
    "start_time": "2022-09-12T11:08:53.605Z"
   },
   {
    "duration": 7,
    "start_time": "2022-09-12T11:08:53.680Z"
   },
   {
    "duration": 862,
    "start_time": "2022-09-12T11:08:53.689Z"
   },
   {
    "duration": 1124,
    "start_time": "2022-09-12T11:08:54.553Z"
   },
   {
    "duration": 1407,
    "start_time": "2022-09-12T11:08:55.679Z"
   },
   {
    "duration": 554,
    "start_time": "2022-09-12T11:08:57.089Z"
   },
   {
    "duration": 7,
    "start_time": "2022-09-12T11:08:57.645Z"
   },
   {
    "duration": 26,
    "start_time": "2022-09-12T11:08:57.653Z"
   },
   {
    "duration": 38,
    "start_time": "2022-09-12T11:08:57.681Z"
   },
   {
    "duration": 35,
    "start_time": "2022-09-12T11:08:57.720Z"
   },
   {
    "duration": 20,
    "start_time": "2022-09-12T11:08:57.757Z"
   },
   {
    "duration": 34,
    "start_time": "2022-09-12T11:08:57.778Z"
   },
   {
    "duration": 380,
    "start_time": "2022-09-12T11:08:57.814Z"
   },
   {
    "duration": 11,
    "start_time": "2022-09-12T11:08:58.196Z"
   },
   {
    "duration": 37,
    "start_time": "2022-09-12T11:08:58.222Z"
   },
   {
    "duration": 15,
    "start_time": "2022-09-12T11:08:58.261Z"
   },
   {
    "duration": 12,
    "start_time": "2022-09-12T11:08:58.278Z"
   },
   {
    "duration": 7,
    "start_time": "2022-09-12T11:08:58.292Z"
   },
   {
    "duration": 7,
    "start_time": "2022-09-12T11:08:58.301Z"
   },
   {
    "duration": 10,
    "start_time": "2022-09-12T11:08:58.310Z"
   },
   {
    "duration": 7,
    "start_time": "2022-09-12T11:09:07.160Z"
   },
   {
    "duration": 4,
    "start_time": "2022-09-12T11:09:11.472Z"
   },
   {
    "duration": 4,
    "start_time": "2022-09-12T11:09:11.892Z"
   },
   {
    "duration": 101364,
    "start_time": "2022-09-12T11:09:16.281Z"
   },
   {
    "duration": 5,
    "start_time": "2022-09-12T11:11:13.364Z"
   },
   {
    "duration": 59841,
    "start_time": "2022-09-12T11:11:15.092Z"
   },
   {
    "duration": 5,
    "start_time": "2022-09-12T11:12:22.681Z"
   },
   {
    "duration": 10,
    "start_time": "2022-09-12T11:12:23.572Z"
   },
   {
    "duration": 111008,
    "start_time": "2022-09-12T11:12:24.643Z"
   },
   {
    "duration": 4,
    "start_time": "2022-09-12T11:14:36.740Z"
   },
   {
    "duration": 50195,
    "start_time": "2022-09-12T11:14:38.151Z"
   },
   {
    "duration": 4,
    "start_time": "2022-09-12T11:15:39.652Z"
   },
   {
    "duration": 77107,
    "start_time": "2022-09-12T11:15:42.320Z"
   },
   {
    "duration": 4,
    "start_time": "2022-09-12T11:18:22.193Z"
   },
   {
    "duration": 78261,
    "start_time": "2022-09-12T11:18:24.392Z"
   },
   {
    "duration": 3,
    "start_time": "2022-09-12T11:22:20.552Z"
   },
   {
    "duration": 4,
    "start_time": "2022-09-12T11:22:23.824Z"
   },
   {
    "duration": 304891,
    "start_time": "2022-09-12T11:22:26.754Z"
   },
   {
    "duration": 4,
    "start_time": "2022-09-12T11:27:39.579Z"
   },
   {
    "duration": 0,
    "start_time": "2022-09-12T11:27:59.939Z"
   },
   {
    "duration": 5,
    "start_time": "2022-09-12T11:28:07.572Z"
   },
   {
    "duration": 54555,
    "start_time": "2022-09-12T11:28:13.901Z"
   },
   {
    "duration": 5,
    "start_time": "2022-09-12T11:29:14.989Z"
   },
   {
    "duration": 323154,
    "start_time": "2022-09-12T11:29:16.689Z"
   },
   {
    "duration": 4,
    "start_time": "2022-09-12T11:34:50.229Z"
   },
   {
    "duration": 46737,
    "start_time": "2022-09-12T11:34:52.507Z"
   },
   {
    "duration": 0,
    "start_time": "2022-09-12T11:35:39.246Z"
   },
   {
    "duration": 4,
    "start_time": "2022-09-12T11:35:43.289Z"
   },
   {
    "duration": 61113,
    "start_time": "2022-09-12T11:35:44.951Z"
   },
   {
    "duration": 4,
    "start_time": "2022-09-12T11:36:49.509Z"
   },
   {
    "duration": 6691,
    "start_time": "2022-09-12T11:36:52.361Z"
   },
   {
    "duration": 3,
    "start_time": "2022-09-12T11:37:05.677Z"
   },
   {
    "duration": 5,
    "start_time": "2022-09-12T11:37:06.329Z"
   },
   {
    "duration": 34729,
    "start_time": "2022-09-12T11:37:12.609Z"
   },
   {
    "duration": 3,
    "start_time": "2022-09-12T11:38:04.509Z"
   },
   {
    "duration": 38,
    "start_time": "2022-09-12T11:38:04.514Z"
   },
   {
    "duration": 12,
    "start_time": "2022-09-12T11:38:04.553Z"
   },
   {
    "duration": 18,
    "start_time": "2022-09-12T11:38:04.566Z"
   },
   {
    "duration": 13,
    "start_time": "2022-09-12T11:38:04.588Z"
   },
   {
    "duration": 23,
    "start_time": "2022-09-12T11:38:04.603Z"
   },
   {
    "duration": 24,
    "start_time": "2022-09-12T11:38:04.628Z"
   },
   {
    "duration": 13,
    "start_time": "2022-09-12T11:38:04.654Z"
   },
   {
    "duration": 7,
    "start_time": "2022-09-12T11:38:04.669Z"
   },
   {
    "duration": 26,
    "start_time": "2022-09-12T11:38:04.678Z"
   },
   {
    "duration": 3,
    "start_time": "2022-09-12T11:38:04.705Z"
   },
   {
    "duration": 987,
    "start_time": "2022-09-12T11:38:04.709Z"
   },
   {
    "duration": 1190,
    "start_time": "2022-09-12T11:38:05.697Z"
   },
   {
    "duration": 1472,
    "start_time": "2022-09-12T11:38:06.890Z"
   },
   {
    "duration": 620,
    "start_time": "2022-09-12T11:38:08.363Z"
   },
   {
    "duration": 4,
    "start_time": "2022-09-12T11:38:08.985Z"
   },
   {
    "duration": 26,
    "start_time": "2022-09-12T11:38:08.991Z"
   },
   {
    "duration": 34,
    "start_time": "2022-09-12T11:38:09.019Z"
   },
   {
    "duration": 25,
    "start_time": "2022-09-12T11:38:09.055Z"
   },
   {
    "duration": 23,
    "start_time": "2022-09-12T11:38:09.082Z"
   },
   {
    "duration": 27,
    "start_time": "2022-09-12T11:38:09.106Z"
   },
   {
    "duration": 358,
    "start_time": "2022-09-12T11:38:09.143Z"
   },
   {
    "duration": 10,
    "start_time": "2022-09-12T11:38:09.503Z"
   },
   {
    "duration": 48,
    "start_time": "2022-09-12T11:38:09.514Z"
   },
   {
    "duration": 34,
    "start_time": "2022-09-12T11:38:09.564Z"
   },
   {
    "duration": 50,
    "start_time": "2022-09-12T11:38:09.599Z"
   },
   {
    "duration": 13,
    "start_time": "2022-09-12T11:38:09.651Z"
   },
   {
    "duration": 26,
    "start_time": "2022-09-12T11:38:09.666Z"
   },
   {
    "duration": 28,
    "start_time": "2022-09-12T11:38:09.693Z"
   },
   {
    "duration": 5,
    "start_time": "2022-09-12T11:38:19.176Z"
   },
   {
    "duration": 2,
    "start_time": "2022-09-12T11:38:20.049Z"
   },
   {
    "duration": 4,
    "start_time": "2022-09-12T11:38:22.189Z"
   },
   {
    "duration": 31125,
    "start_time": "2022-09-12T11:38:24.209Z"
   },
   {
    "duration": 3,
    "start_time": "2022-09-12T11:39:06.777Z"
   },
   {
    "duration": 4,
    "start_time": "2022-09-12T11:39:09.089Z"
   },
   {
    "duration": 64983,
    "start_time": "2022-09-12T11:39:16.368Z"
   },
   {
    "duration": 4,
    "start_time": "2022-09-12T11:42:48.735Z"
   },
   {
    "duration": 3,
    "start_time": "2022-09-12T11:43:12.842Z"
   },
   {
    "duration": 3,
    "start_time": "2022-09-12T11:43:20.262Z"
   },
   {
    "duration": 5,
    "start_time": "2022-09-12T11:43:32.434Z"
   },
   {
    "duration": 2,
    "start_time": "2022-09-12T11:43:32.995Z"
   },
   {
    "duration": 4,
    "start_time": "2022-09-12T11:43:37.543Z"
   },
   {
    "duration": 63156,
    "start_time": "2022-09-12T11:43:40.674Z"
   },
   {
    "duration": 3,
    "start_time": "2022-09-12T11:45:12.454Z"
   },
   {
    "duration": 4,
    "start_time": "2022-09-12T11:45:14.944Z"
   },
   {
    "duration": 32360,
    "start_time": "2022-09-12T11:45:20.683Z"
   },
   {
    "duration": 12,
    "start_time": "2022-09-12T11:52:41.742Z"
   },
   {
    "duration": 87,
    "start_time": "2022-09-12T11:53:04.162Z"
   },
   {
    "duration": 10,
    "start_time": "2022-09-12T11:53:14.162Z"
   },
   {
    "duration": 26,
    "start_time": "2022-09-12T11:55:22.063Z"
   },
   {
    "duration": 22,
    "start_time": "2022-09-12T11:55:46.780Z"
   },
   {
    "duration": 13,
    "start_time": "2022-09-12T11:58:06.591Z"
   },
   {
    "duration": 21,
    "start_time": "2022-09-12T11:58:42.828Z"
   },
   {
    "duration": 12,
    "start_time": "2022-09-12T12:06:16.851Z"
   },
   {
    "duration": 14,
    "start_time": "2022-09-12T12:08:54.170Z"
   },
   {
    "duration": 4,
    "start_time": "2022-09-12T12:17:51.642Z"
   },
   {
    "duration": 7,
    "start_time": "2022-09-12T12:18:36.210Z"
   },
   {
    "duration": 4,
    "start_time": "2022-09-12T12:21:42.482Z"
   },
   {
    "duration": 2191,
    "start_time": "2022-09-12T12:47:07.896Z"
   },
   {
    "duration": 12,
    "start_time": "2022-09-12T12:51:47.469Z"
   },
   {
    "duration": 3696,
    "start_time": "2022-09-12T12:52:54.393Z"
   },
   {
    "duration": 3551,
    "start_time": "2022-09-12T12:53:51.241Z"
   },
   {
    "duration": 3882,
    "start_time": "2022-09-12T12:54:24.520Z"
   },
   {
    "duration": 4,
    "start_time": "2022-09-12T13:02:23.509Z"
   },
   {
    "duration": 5,
    "start_time": "2022-09-12T13:02:30.601Z"
   },
   {
    "duration": 6573,
    "start_time": "2022-09-12T13:02:46.281Z"
   },
   {
    "duration": 6678,
    "start_time": "2022-09-12T13:03:41.370Z"
   },
   {
    "duration": 955980,
    "start_time": "2022-09-12T13:13:50.161Z"
   },
   {
    "duration": 3,
    "start_time": "2022-09-12T13:30:18.464Z"
   },
   {
    "duration": 49,
    "start_time": "2022-09-12T13:30:18.469Z"
   },
   {
    "duration": 23,
    "start_time": "2022-09-12T13:30:18.520Z"
   },
   {
    "duration": 13,
    "start_time": "2022-09-12T13:30:18.545Z"
   },
   {
    "duration": 9,
    "start_time": "2022-09-12T13:30:18.559Z"
   },
   {
    "duration": 14,
    "start_time": "2022-09-12T13:30:18.569Z"
   },
   {
    "duration": 11,
    "start_time": "2022-09-12T13:30:18.584Z"
   },
   {
    "duration": 9,
    "start_time": "2022-09-12T13:30:18.596Z"
   },
   {
    "duration": 20,
    "start_time": "2022-09-12T13:30:18.606Z"
   },
   {
    "duration": 22,
    "start_time": "2022-09-12T13:30:18.627Z"
   },
   {
    "duration": 13,
    "start_time": "2022-09-12T13:30:18.650Z"
   },
   {
    "duration": 839,
    "start_time": "2022-09-12T13:30:18.664Z"
   },
   {
    "duration": 1157,
    "start_time": "2022-09-12T13:30:19.505Z"
   },
   {
    "duration": 1410,
    "start_time": "2022-09-12T13:30:20.664Z"
   },
   {
    "duration": 542,
    "start_time": "2022-09-12T13:30:22.076Z"
   },
   {
    "duration": 15,
    "start_time": "2022-09-12T13:30:22.622Z"
   },
   {
    "duration": 26,
    "start_time": "2022-09-12T13:30:22.638Z"
   },
   {
    "duration": 25,
    "start_time": "2022-09-12T13:30:22.665Z"
   },
   {
    "duration": 15,
    "start_time": "2022-09-12T13:30:22.692Z"
   },
   {
    "duration": 28,
    "start_time": "2022-09-12T13:30:22.708Z"
   },
   {
    "duration": 23,
    "start_time": "2022-09-12T13:30:22.738Z"
   },
   {
    "duration": 373,
    "start_time": "2022-09-12T13:30:22.762Z"
   },
   {
    "duration": 9,
    "start_time": "2022-09-12T13:30:23.137Z"
   },
   {
    "duration": 34,
    "start_time": "2022-09-12T13:30:23.148Z"
   },
   {
    "duration": 24,
    "start_time": "2022-09-12T13:30:23.184Z"
   },
   {
    "duration": 46,
    "start_time": "2022-09-12T13:30:23.209Z"
   },
   {
    "duration": 18,
    "start_time": "2022-09-12T13:30:23.257Z"
   },
   {
    "duration": 31,
    "start_time": "2022-09-12T13:30:23.276Z"
   },
   {
    "duration": 20,
    "start_time": "2022-09-12T13:30:23.309Z"
   },
   {
    "duration": 6,
    "start_time": "2022-09-12T13:30:32.004Z"
   },
   {
    "duration": 3,
    "start_time": "2022-09-12T13:30:32.976Z"
   },
   {
    "duration": 4,
    "start_time": "2022-09-12T13:30:33.796Z"
   },
   {
    "duration": 3077,
    "start_time": "2022-09-12T13:30:37.464Z"
   },
   {
    "duration": 3,
    "start_time": "2022-09-12T13:30:48.884Z"
   },
   {
    "duration": 4,
    "start_time": "2022-09-12T13:30:50.033Z"
   },
   {
    "duration": 19861,
    "start_time": "2022-09-12T13:30:52.188Z"
   },
   {
    "duration": 130,
    "start_time": "2022-09-12T13:31:25.737Z"
   },
   {
    "duration": 3,
    "start_time": "2022-09-12T13:31:27.917Z"
   },
   {
    "duration": 4,
    "start_time": "2022-09-12T13:31:29.032Z"
   },
   {
    "duration": 8794,
    "start_time": "2022-09-12T13:31:31.644Z"
   },
   {
    "duration": 5,
    "start_time": "2022-09-12T13:31:55.385Z"
   },
   {
    "duration": 4,
    "start_time": "2022-09-12T13:31:56.214Z"
   },
   {
    "duration": 4,
    "start_time": "2022-09-12T13:31:58.081Z"
   },
   {
    "duration": 31178,
    "start_time": "2022-09-12T13:32:04.762Z"
   },
   {
    "duration": 3,
    "start_time": "2022-09-12T13:32:50.173Z"
   },
   {
    "duration": 3,
    "start_time": "2022-09-12T13:33:51.813Z"
   },
   {
    "duration": 81,
    "start_time": "2022-09-12T13:38:22.234Z"
   },
   {
    "duration": 502307,
    "start_time": "2022-09-12T13:39:00.741Z"
   },
   {
    "duration": 8,
    "start_time": "2022-09-12T13:52:22.838Z"
   },
   {
    "duration": 4,
    "start_time": "2022-09-12T13:52:27.880Z"
   },
   {
    "duration": 4,
    "start_time": "2022-09-12T13:52:28.181Z"
   },
   {
    "duration": 7900,
    "start_time": "2022-09-12T13:52:32.553Z"
   },
   {
    "duration": 4,
    "start_time": "2022-09-12T13:52:55.782Z"
   },
   {
    "duration": 4,
    "start_time": "2022-09-12T13:53:06.893Z"
   },
   {
    "duration": 18144,
    "start_time": "2022-09-12T13:53:08.990Z"
   },
   {
    "duration": 1961,
    "start_time": "2022-09-13T06:53:30.871Z"
   },
   {
    "duration": 75,
    "start_time": "2022-09-13T06:53:32.834Z"
   },
   {
    "duration": 13,
    "start_time": "2022-09-13T06:53:32.911Z"
   },
   {
    "duration": 22,
    "start_time": "2022-09-13T06:53:32.925Z"
   },
   {
    "duration": 10,
    "start_time": "2022-09-13T06:53:32.949Z"
   },
   {
    "duration": 15,
    "start_time": "2022-09-13T06:53:32.960Z"
   },
   {
    "duration": 14,
    "start_time": "2022-09-13T06:53:32.977Z"
   },
   {
    "duration": 13,
    "start_time": "2022-09-13T06:53:32.993Z"
   },
   {
    "duration": 19,
    "start_time": "2022-09-13T06:53:33.008Z"
   },
   {
    "duration": 35,
    "start_time": "2022-09-13T06:53:33.029Z"
   },
   {
    "duration": 3,
    "start_time": "2022-09-13T06:53:33.066Z"
   },
   {
    "duration": 891,
    "start_time": "2022-09-13T06:53:33.070Z"
   },
   {
    "duration": 1095,
    "start_time": "2022-09-13T06:53:33.963Z"
   },
   {
    "duration": 1400,
    "start_time": "2022-09-13T06:53:35.061Z"
   },
   {
    "duration": 487,
    "start_time": "2022-09-13T06:53:36.463Z"
   },
   {
    "duration": 7,
    "start_time": "2022-09-13T06:53:36.952Z"
   },
   {
    "duration": 12,
    "start_time": "2022-09-13T06:53:36.961Z"
   },
   {
    "duration": 13,
    "start_time": "2022-09-13T06:53:36.975Z"
   },
   {
    "duration": 11,
    "start_time": "2022-09-13T06:53:36.990Z"
   },
   {
    "duration": 8,
    "start_time": "2022-09-13T06:53:37.003Z"
   },
   {
    "duration": 18,
    "start_time": "2022-09-13T06:53:37.012Z"
   },
   {
    "duration": 495,
    "start_time": "2022-09-13T06:53:37.032Z"
   },
   {
    "duration": 8,
    "start_time": "2022-09-13T06:53:37.529Z"
   },
   {
    "duration": 17,
    "start_time": "2022-09-13T06:53:37.547Z"
   },
   {
    "duration": 8,
    "start_time": "2022-09-13T06:53:37.566Z"
   },
   {
    "duration": 14,
    "start_time": "2022-09-13T06:53:37.575Z"
   },
   {
    "duration": 35,
    "start_time": "2022-09-13T06:53:37.590Z"
   },
   {
    "duration": 4,
    "start_time": "2022-09-13T06:53:37.626Z"
   },
   {
    "duration": 10,
    "start_time": "2022-09-13T06:53:37.631Z"
   },
   {
    "duration": 6,
    "start_time": "2022-09-13T06:54:56.162Z"
   },
   {
    "duration": 3,
    "start_time": "2022-09-13T06:54:58.110Z"
   },
   {
    "duration": 47,
    "start_time": "2022-09-13T06:55:06.429Z"
   },
   {
    "duration": 145,
    "start_time": "2022-09-13T06:55:25.311Z"
   },
   {
    "duration": 4,
    "start_time": "2022-09-13T06:55:29.901Z"
   },
   {
    "duration": 180,
    "start_time": "2022-09-13T06:55:30.610Z"
   },
   {
    "duration": 110670,
    "start_time": "2022-09-13T06:57:14.490Z"
   },
   {
    "duration": 6,
    "start_time": "2022-09-13T07:01:41.636Z"
   },
   {
    "duration": 3,
    "start_time": "2022-09-13T07:01:42.471Z"
   },
   {
    "duration": 4,
    "start_time": "2022-09-13T07:01:44.198Z"
   },
   {
    "duration": 10254,
    "start_time": "2022-09-13T07:01:46.510Z"
   },
   {
    "duration": 7,
    "start_time": "2022-09-13T07:09:29.049Z"
   },
   {
    "duration": 4,
    "start_time": "2022-09-13T07:09:39.808Z"
   },
   {
    "duration": 10491,
    "start_time": "2022-09-13T07:11:01.164Z"
   },
   {
    "duration": 164043,
    "start_time": "2022-09-13T07:11:42.424Z"
   },
   {
    "duration": 849144,
    "start_time": "2022-09-13T07:14:33.016Z"
   },
   {
    "duration": 18,
    "start_time": "2022-09-13T07:37:08.154Z"
   },
   {
    "duration": 37,
    "start_time": "2022-09-13T07:37:59.844Z"
   },
   {
    "duration": 60359,
    "start_time": "2022-09-13T07:40:11.407Z"
   },
   {
    "duration": 12,
    "start_time": "2022-09-13T07:41:59.041Z"
   },
   {
    "duration": 5,
    "start_time": "2022-09-13T07:42:07.230Z"
   },
   {
    "duration": 31593,
    "start_time": "2022-09-13T07:42:20.470Z"
   },
   {
    "duration": 3,
    "start_time": "2022-09-13T07:43:05.773Z"
   },
   {
    "duration": 64372,
    "start_time": "2022-09-13T07:43:26.891Z"
   },
   {
    "duration": 320575,
    "start_time": "2022-09-13T07:45:21.086Z"
   },
   {
    "duration": 5,
    "start_time": "2022-09-13T07:52:19.495Z"
   },
   {
    "duration": 66,
    "start_time": "2022-09-13T07:52:38.424Z"
   },
   {
    "duration": 83691,
    "start_time": "2022-09-13T07:52:46.363Z"
   },
   {
    "duration": 35210,
    "start_time": "2022-09-13T07:54:38.656Z"
   },
   {
    "duration": 93380,
    "start_time": "2022-09-13T07:55:26.477Z"
   },
   {
    "duration": 1640795,
    "start_time": "2022-09-13T07:57:39.053Z"
   },
   {
    "duration": 4,
    "start_time": "2022-09-13T08:25:01.852Z"
   },
   {
    "duration": 141,
    "start_time": "2022-09-13T09:01:21.365Z"
   },
   {
    "duration": 29,
    "start_time": "2022-09-13T09:01:32.897Z"
   },
   {
    "duration": 8059928,
    "start_time": "2022-09-13T09:02:24.733Z"
   },
   {
    "duration": 3,
    "start_time": "2022-09-13T11:16:44.663Z"
   },
   {
    "duration": 1800,
    "start_time": "2022-09-13T11:29:48.550Z"
   },
   {
    "duration": 25,
    "start_time": "2022-09-13T11:29:50.352Z"
   },
   {
    "duration": 13,
    "start_time": "2022-09-13T11:29:50.379Z"
   },
   {
    "duration": 17,
    "start_time": "2022-09-13T11:29:50.394Z"
   },
   {
    "duration": 9,
    "start_time": "2022-09-13T11:29:50.413Z"
   },
   {
    "duration": 14,
    "start_time": "2022-09-13T11:29:50.424Z"
   },
   {
    "duration": 18,
    "start_time": "2022-09-13T11:29:50.439Z"
   },
   {
    "duration": 9,
    "start_time": "2022-09-13T11:29:50.458Z"
   },
   {
    "duration": 7,
    "start_time": "2022-09-13T11:29:50.468Z"
   },
   {
    "duration": 22,
    "start_time": "2022-09-13T11:29:50.476Z"
   },
   {
    "duration": 3,
    "start_time": "2022-09-13T11:29:50.499Z"
   },
   {
    "duration": 854,
    "start_time": "2022-09-13T11:29:50.503Z"
   },
   {
    "duration": 1040,
    "start_time": "2022-09-13T11:29:51.359Z"
   },
   {
    "duration": 1332,
    "start_time": "2022-09-13T11:29:52.401Z"
   },
   {
    "duration": 522,
    "start_time": "2022-09-13T11:29:53.736Z"
   },
   {
    "duration": 6,
    "start_time": "2022-09-13T11:29:54.260Z"
   },
   {
    "duration": 12,
    "start_time": "2022-09-13T11:29:54.268Z"
   },
   {
    "duration": 13,
    "start_time": "2022-09-13T11:29:54.282Z"
   },
   {
    "duration": 8,
    "start_time": "2022-09-13T11:29:54.297Z"
   },
   {
    "duration": 9,
    "start_time": "2022-09-13T11:29:54.307Z"
   },
   {
    "duration": 10,
    "start_time": "2022-09-13T11:29:54.317Z"
   },
   {
    "duration": 499,
    "start_time": "2022-09-13T11:29:54.329Z"
   },
   {
    "duration": 17,
    "start_time": "2022-09-13T11:29:54.830Z"
   },
   {
    "duration": 9,
    "start_time": "2022-09-13T11:29:54.849Z"
   },
   {
    "duration": 17,
    "start_time": "2022-09-13T11:29:54.860Z"
   },
   {
    "duration": 10,
    "start_time": "2022-09-13T11:29:54.879Z"
   },
   {
    "duration": 10,
    "start_time": "2022-09-13T11:29:54.891Z"
   },
   {
    "duration": 6,
    "start_time": "2022-09-13T11:29:54.903Z"
   },
   {
    "duration": 4,
    "start_time": "2022-09-13T11:29:57.984Z"
   },
   {
    "duration": 157,
    "start_time": "2022-09-13T11:30:22.146Z"
   },
   {
    "duration": 5,
    "start_time": "2022-09-13T11:30:40.085Z"
   },
   {
    "duration": 174064,
    "start_time": "2022-09-13T11:31:10.896Z"
   },
   {
    "duration": 13,
    "start_time": "2022-09-13T11:34:20.364Z"
   },
   {
    "duration": 5,
    "start_time": "2022-09-13T11:36:21.553Z"
   },
   {
    "duration": 34180,
    "start_time": "2022-09-13T11:36:23.876Z"
   },
   {
    "duration": 4,
    "start_time": "2022-09-13T11:38:33.846Z"
   },
   {
    "duration": 30996,
    "start_time": "2022-09-13T11:38:48.153Z"
   },
   {
    "duration": 31555,
    "start_time": "2022-09-13T11:40:08.507Z"
   },
   {
    "duration": 4,
    "start_time": "2022-09-13T11:41:09.228Z"
   },
   {
    "duration": 4,
    "start_time": "2022-09-13T11:41:18.096Z"
   },
   {
    "duration": 4,
    "start_time": "2022-09-13T11:41:37.081Z"
   },
   {
    "duration": 3,
    "start_time": "2022-09-13T11:42:09.080Z"
   },
   {
    "duration": 7,
    "start_time": "2022-09-13T11:42:43.566Z"
   },
   {
    "duration": 38409,
    "start_time": "2022-09-13T11:43:13.859Z"
   },
   {
    "duration": 5,
    "start_time": "2022-09-13T11:45:12.492Z"
   },
   {
    "duration": 34768,
    "start_time": "2022-09-13T11:45:16.684Z"
   },
   {
    "duration": 6,
    "start_time": "2022-09-13T11:46:11.253Z"
   },
   {
    "duration": 32304,
    "start_time": "2022-09-13T11:46:15.745Z"
   },
   {
    "duration": 5,
    "start_time": "2022-09-13T11:46:53.577Z"
   },
   {
    "duration": 33402,
    "start_time": "2022-09-13T11:46:57.949Z"
   },
   {
    "duration": 910796,
    "start_time": "2022-09-13T11:47:52.267Z"
   },
   {
    "duration": 5,
    "start_time": "2022-09-13T12:05:30.114Z"
   },
   {
    "duration": 28371,
    "start_time": "2022-09-13T12:05:41.677Z"
   },
   {
    "duration": 5,
    "start_time": "2022-09-13T12:06:20.362Z"
   },
   {
    "duration": 28795,
    "start_time": "2022-09-13T12:06:25.458Z"
   },
   {
    "duration": 6,
    "start_time": "2022-09-13T12:08:45.349Z"
   },
   {
    "duration": 29405,
    "start_time": "2022-09-13T12:08:51.746Z"
   },
   {
    "duration": 5,
    "start_time": "2022-09-13T12:09:38.455Z"
   },
   {
    "duration": 21774,
    "start_time": "2022-09-13T12:09:44.195Z"
   },
   {
    "duration": 5,
    "start_time": "2022-09-13T12:10:09.644Z"
   },
   {
    "duration": 14502,
    "start_time": "2022-09-13T12:10:16.854Z"
   },
   {
    "duration": 5,
    "start_time": "2022-09-13T12:10:34.455Z"
   },
   {
    "duration": 28656,
    "start_time": "2022-09-13T12:10:43.793Z"
   },
   {
    "duration": 5,
    "start_time": "2022-09-13T12:11:17.785Z"
   },
   {
    "duration": 28060,
    "start_time": "2022-09-13T12:11:21.805Z"
   },
   {
    "duration": 31224,
    "start_time": "2022-09-13T12:12:11.445Z"
   },
   {
    "duration": 5,
    "start_time": "2022-09-13T12:13:00.314Z"
   },
   {
    "duration": 6603,
    "start_time": "2022-09-13T12:13:03.354Z"
   },
   {
    "duration": 5,
    "start_time": "2022-09-13T12:13:27.933Z"
   },
   {
    "duration": 29362,
    "start_time": "2022-09-13T12:13:31.494Z"
   },
   {
    "duration": 5,
    "start_time": "2022-09-13T12:14:18.853Z"
   },
   {
    "duration": 28364,
    "start_time": "2022-09-13T12:14:25.795Z"
   },
   {
    "duration": 16,
    "start_time": "2022-09-13T12:16:03.075Z"
   },
   {
    "duration": 3,
    "start_time": "2022-09-13T12:16:29.714Z"
   },
   {
    "duration": 37167,
    "start_time": "2022-09-13T12:17:03.703Z"
   },
   {
    "duration": 6,
    "start_time": "2022-09-13T12:18:02.164Z"
   },
   {
    "duration": 1751,
    "start_time": "2022-09-13T12:43:53.195Z"
   },
   {
    "duration": 26,
    "start_time": "2022-09-13T12:43:54.948Z"
   },
   {
    "duration": 10,
    "start_time": "2022-09-13T12:43:54.976Z"
   },
   {
    "duration": 16,
    "start_time": "2022-09-13T12:43:54.988Z"
   },
   {
    "duration": 13,
    "start_time": "2022-09-13T12:43:55.005Z"
   },
   {
    "duration": 19,
    "start_time": "2022-09-13T12:43:55.019Z"
   },
   {
    "duration": 23,
    "start_time": "2022-09-13T12:43:55.040Z"
   },
   {
    "duration": 19,
    "start_time": "2022-09-13T12:43:55.064Z"
   },
   {
    "duration": 4,
    "start_time": "2022-09-13T12:43:55.085Z"
   },
   {
    "duration": 27,
    "start_time": "2022-09-13T12:43:55.092Z"
   },
   {
    "duration": 2,
    "start_time": "2022-09-13T12:43:55.121Z"
   },
   {
    "duration": 792,
    "start_time": "2022-09-13T12:43:55.125Z"
   },
   {
    "duration": 1083,
    "start_time": "2022-09-13T12:43:55.918Z"
   },
   {
    "duration": 1331,
    "start_time": "2022-09-13T12:43:57.002Z"
   },
   {
    "duration": 497,
    "start_time": "2022-09-13T12:43:58.335Z"
   },
   {
    "duration": 12,
    "start_time": "2022-09-13T12:43:58.834Z"
   },
   {
    "duration": 5,
    "start_time": "2022-09-13T12:43:58.848Z"
   },
   {
    "duration": 9,
    "start_time": "2022-09-13T12:43:58.855Z"
   },
   {
    "duration": 8,
    "start_time": "2022-09-13T12:43:58.865Z"
   },
   {
    "duration": 6,
    "start_time": "2022-09-13T12:43:58.874Z"
   },
   {
    "duration": 6,
    "start_time": "2022-09-13T12:43:58.882Z"
   },
   {
    "duration": 516,
    "start_time": "2022-09-13T12:43:58.889Z"
   },
   {
    "duration": 9,
    "start_time": "2022-09-13T12:43:59.406Z"
   },
   {
    "duration": 17,
    "start_time": "2022-09-13T12:43:59.417Z"
   },
   {
    "duration": 15,
    "start_time": "2022-09-13T12:43:59.435Z"
   },
   {
    "duration": 3,
    "start_time": "2022-09-13T12:43:59.452Z"
   },
   {
    "duration": 6,
    "start_time": "2022-09-13T12:43:59.457Z"
   },
   {
    "duration": 4,
    "start_time": "2022-09-13T12:43:59.466Z"
   },
   {
    "duration": 6,
    "start_time": "2022-09-13T12:43:59.471Z"
   },
   {
    "duration": 5,
    "start_time": "2022-09-13T12:44:02.563Z"
   },
   {
    "duration": 3,
    "start_time": "2022-09-13T12:44:03.764Z"
   },
   {
    "duration": 4,
    "start_time": "2022-09-13T12:44:04.894Z"
   },
   {
    "duration": 139,
    "start_time": "2022-09-13T12:44:06.586Z"
   },
   {
    "duration": 4,
    "start_time": "2022-09-13T12:44:36.674Z"
   },
   {
    "duration": 16,
    "start_time": "2022-09-13T12:44:37.351Z"
   },
   {
    "duration": 5,
    "start_time": "2022-09-13T12:44:53.571Z"
   },
   {
    "duration": 3,
    "start_time": "2022-09-13T12:44:54.147Z"
   },
   {
    "duration": 4,
    "start_time": "2022-09-13T12:44:54.765Z"
   },
   {
    "duration": 14445,
    "start_time": "2022-09-13T12:44:55.215Z"
   },
   {
    "duration": 5,
    "start_time": "2022-09-13T12:45:18.047Z"
   },
   {
    "duration": 914,
    "start_time": "2022-09-13T12:45:18.714Z"
   },
   {
    "duration": 856,
    "start_time": "2022-09-13T12:45:57.475Z"
   },
   {
    "duration": 852,
    "start_time": "2022-09-13T12:48:29.947Z"
   },
   {
    "duration": 1048,
    "start_time": "2022-09-13T12:53:21.956Z"
   },
   {
    "duration": 834,
    "start_time": "2022-09-13T12:53:33.396Z"
   },
   {
    "duration": 12,
    "start_time": "2022-09-13T12:58:30.754Z"
   },
   {
    "duration": 14,
    "start_time": "2022-09-13T12:59:23.251Z"
   },
   {
    "duration": 15,
    "start_time": "2022-09-13T13:02:07.916Z"
   },
   {
    "duration": 123,
    "start_time": "2022-09-13T13:07:52.006Z"
   },
   {
    "duration": 882,
    "start_time": "2022-09-13T13:07:57.307Z"
   },
   {
    "duration": 211,
    "start_time": "2022-09-13T13:08:57.168Z"
   },
   {
    "duration": 402,
    "start_time": "2022-09-13T13:10:14.907Z"
   },
   {
    "duration": 259,
    "start_time": "2022-09-13T13:11:43.955Z"
   },
   {
    "duration": 260,
    "start_time": "2022-09-13T13:11:50.699Z"
   },
   {
    "duration": 262,
    "start_time": "2022-09-13T13:12:02.819Z"
   },
   {
    "duration": 271,
    "start_time": "2022-09-13T13:12:11.787Z"
   },
   {
    "duration": 266,
    "start_time": "2022-09-13T13:12:16.919Z"
   },
   {
    "duration": 435,
    "start_time": "2022-09-13T13:13:10.550Z"
   },
   {
    "duration": 641,
    "start_time": "2022-09-13T13:13:36.051Z"
   },
   {
    "duration": 635,
    "start_time": "2022-09-13T13:13:50.956Z"
   },
   {
    "duration": 8,
    "start_time": "2022-09-13T13:14:46.309Z"
   },
   {
    "duration": 6,
    "start_time": "2022-09-13T13:14:57.054Z"
   },
   {
    "duration": 12,
    "start_time": "2022-09-13T13:16:43.399Z"
   },
   {
    "duration": 670,
    "start_time": "2022-09-13T13:18:03.155Z"
   },
   {
    "duration": 600,
    "start_time": "2022-09-13T13:18:13.988Z"
   },
   {
    "duration": 748,
    "start_time": "2022-09-13T13:18:20.955Z"
   },
   {
    "duration": 525,
    "start_time": "2022-09-13T13:18:40.759Z"
   },
   {
    "duration": 538,
    "start_time": "2022-09-13T13:18:55.450Z"
   },
   {
    "duration": 252,
    "start_time": "2022-09-13T13:20:37.459Z"
   },
   {
    "duration": 274,
    "start_time": "2022-09-13T13:21:07.652Z"
   },
   {
    "duration": 265,
    "start_time": "2022-09-13T13:22:57.460Z"
   },
   {
    "duration": 3375,
    "start_time": "2022-09-13T13:25:15.266Z"
   },
   {
    "duration": 134,
    "start_time": "2022-09-13T13:27:12.199Z"
   },
   {
    "duration": 256,
    "start_time": "2022-09-13T13:27:29.035Z"
   },
   {
    "duration": 402,
    "start_time": "2022-09-13T13:33:02.602Z"
   },
   {
    "duration": 279,
    "start_time": "2022-09-13T13:33:14.299Z"
   },
   {
    "duration": 283,
    "start_time": "2022-09-13T13:33:30.686Z"
   },
   {
    "duration": 547,
    "start_time": "2022-09-13T13:33:47.156Z"
   },
   {
    "duration": 349,
    "start_time": "2022-09-13T13:34:49.379Z"
   },
   {
    "duration": 364,
    "start_time": "2022-09-13T13:35:01.486Z"
   },
   {
    "duration": 71,
    "start_time": "2022-09-13T13:35:32.755Z"
   },
   {
    "duration": 354,
    "start_time": "2022-09-13T13:35:44.847Z"
   },
   {
    "duration": 369,
    "start_time": "2022-09-13T13:36:16.054Z"
   },
   {
    "duration": 316,
    "start_time": "2022-09-13T13:37:10.754Z"
   },
   {
    "duration": 518,
    "start_time": "2022-09-13T13:37:31.832Z"
   },
   {
    "duration": 333,
    "start_time": "2022-09-13T13:38:35.799Z"
   },
   {
    "duration": 299,
    "start_time": "2022-09-13T13:40:11.029Z"
   },
   {
    "duration": 319,
    "start_time": "2022-09-13T13:40:40.852Z"
   },
   {
    "duration": 289,
    "start_time": "2022-09-13T13:42:02.352Z"
   },
   {
    "duration": 303,
    "start_time": "2022-09-13T13:42:48.172Z"
   },
   {
    "duration": 481,
    "start_time": "2022-09-13T13:42:54.458Z"
   },
   {
    "duration": 1760,
    "start_time": "2022-09-13T13:44:14.355Z"
   },
   {
    "duration": 26,
    "start_time": "2022-09-13T13:44:16.117Z"
   },
   {
    "duration": 12,
    "start_time": "2022-09-13T13:44:16.145Z"
   },
   {
    "duration": 18,
    "start_time": "2022-09-13T13:44:16.159Z"
   },
   {
    "duration": 9,
    "start_time": "2022-09-13T13:44:16.180Z"
   },
   {
    "duration": 14,
    "start_time": "2022-09-13T13:44:16.191Z"
   },
   {
    "duration": 15,
    "start_time": "2022-09-13T13:44:16.207Z"
   },
   {
    "duration": 29,
    "start_time": "2022-09-13T13:44:16.224Z"
   },
   {
    "duration": 13,
    "start_time": "2022-09-13T13:44:16.255Z"
   },
   {
    "duration": 34,
    "start_time": "2022-09-13T13:44:16.270Z"
   },
   {
    "duration": 3,
    "start_time": "2022-09-13T13:44:16.306Z"
   },
   {
    "duration": 889,
    "start_time": "2022-09-13T13:44:16.310Z"
   },
   {
    "duration": 1227,
    "start_time": "2022-09-13T13:44:17.201Z"
   },
   {
    "duration": 1325,
    "start_time": "2022-09-13T13:44:18.431Z"
   },
   {
    "duration": 513,
    "start_time": "2022-09-13T13:44:19.758Z"
   },
   {
    "duration": 6,
    "start_time": "2022-09-13T13:44:20.273Z"
   },
   {
    "duration": 14,
    "start_time": "2022-09-13T13:44:20.281Z"
   },
   {
    "duration": 19,
    "start_time": "2022-09-13T13:44:20.297Z"
   },
   {
    "duration": 9,
    "start_time": "2022-09-13T13:44:20.318Z"
   },
   {
    "duration": 6,
    "start_time": "2022-09-13T13:44:20.329Z"
   },
   {
    "duration": 3,
    "start_time": "2022-09-13T13:44:20.346Z"
   },
   {
    "duration": 479,
    "start_time": "2022-09-13T13:44:20.351Z"
   },
   {
    "duration": 16,
    "start_time": "2022-09-13T13:44:20.832Z"
   },
   {
    "duration": 7,
    "start_time": "2022-09-13T13:44:20.849Z"
   },
   {
    "duration": 8,
    "start_time": "2022-09-13T13:44:20.858Z"
   },
   {
    "duration": 6,
    "start_time": "2022-09-13T13:44:20.867Z"
   },
   {
    "duration": 8,
    "start_time": "2022-09-13T13:44:20.874Z"
   },
   {
    "duration": 7,
    "start_time": "2022-09-13T13:44:20.883Z"
   },
   {
    "duration": 7,
    "start_time": "2022-09-13T13:44:20.891Z"
   },
   {
    "duration": 5,
    "start_time": "2022-09-13T13:44:20.899Z"
   },
   {
    "duration": 6,
    "start_time": "2022-09-13T13:44:20.906Z"
   },
   {
    "duration": 7,
    "start_time": "2022-09-13T13:44:20.913Z"
   },
   {
    "duration": 14038,
    "start_time": "2022-09-13T13:44:20.921Z"
   },
   {
    "duration": 5,
    "start_time": "2022-09-13T13:44:34.961Z"
   },
   {
    "duration": 942,
    "start_time": "2022-09-13T13:44:34.967Z"
   },
   {
    "duration": 4,
    "start_time": "2022-09-13T13:44:35.910Z"
   },
   {
    "duration": 1740,
    "start_time": "2022-09-13T13:44:51.970Z"
   },
   {
    "duration": 26,
    "start_time": "2022-09-13T13:44:53.712Z"
   },
   {
    "duration": 14,
    "start_time": "2022-09-13T13:44:53.739Z"
   },
   {
    "duration": 27,
    "start_time": "2022-09-13T13:44:53.754Z"
   },
   {
    "duration": 10,
    "start_time": "2022-09-13T13:44:53.783Z"
   },
   {
    "duration": 24,
    "start_time": "2022-09-13T13:44:53.794Z"
   },
   {
    "duration": 35,
    "start_time": "2022-09-13T13:44:53.820Z"
   },
   {
    "duration": 13,
    "start_time": "2022-09-13T13:44:53.856Z"
   },
   {
    "duration": 6,
    "start_time": "2022-09-13T13:44:53.871Z"
   },
   {
    "duration": 37,
    "start_time": "2022-09-13T13:44:53.878Z"
   },
   {
    "duration": 3,
    "start_time": "2022-09-13T13:44:53.917Z"
   },
   {
    "duration": 833,
    "start_time": "2022-09-13T13:44:53.921Z"
   },
   {
    "duration": 1038,
    "start_time": "2022-09-13T13:44:54.756Z"
   },
   {
    "duration": 1320,
    "start_time": "2022-09-13T13:44:55.797Z"
   },
   {
    "duration": 514,
    "start_time": "2022-09-13T13:44:57.119Z"
   },
   {
    "duration": 5,
    "start_time": "2022-09-13T13:44:57.635Z"
   },
   {
    "duration": 6,
    "start_time": "2022-09-13T13:44:57.646Z"
   },
   {
    "duration": 9,
    "start_time": "2022-09-13T13:44:57.654Z"
   },
   {
    "duration": 8,
    "start_time": "2022-09-13T13:44:57.665Z"
   },
   {
    "duration": 5,
    "start_time": "2022-09-13T13:44:57.674Z"
   },
   {
    "duration": 20,
    "start_time": "2022-09-13T13:44:57.680Z"
   },
   {
    "duration": 481,
    "start_time": "2022-09-13T13:44:57.702Z"
   },
   {
    "duration": 8,
    "start_time": "2022-09-13T13:44:58.185Z"
   },
   {
    "duration": 23,
    "start_time": "2022-09-13T13:44:58.195Z"
   },
   {
    "duration": 9,
    "start_time": "2022-09-13T13:44:58.220Z"
   },
   {
    "duration": 6,
    "start_time": "2022-09-13T13:44:58.230Z"
   },
   {
    "duration": 9,
    "start_time": "2022-09-13T13:44:58.237Z"
   },
   {
    "duration": 7,
    "start_time": "2022-09-13T13:44:58.248Z"
   },
   {
    "duration": 18,
    "start_time": "2022-09-13T13:44:58.256Z"
   },
   {
    "duration": 9,
    "start_time": "2022-09-13T13:44:58.276Z"
   },
   {
    "duration": 8,
    "start_time": "2022-09-13T13:44:58.286Z"
   },
   {
    "duration": 15,
    "start_time": "2022-09-13T13:44:58.295Z"
   },
   {
    "duration": 6888,
    "start_time": "2022-09-13T13:44:58.311Z"
   },
   {
    "duration": 1726,
    "start_time": "2022-09-13T13:45:14.187Z"
   },
   {
    "duration": 27,
    "start_time": "2022-09-13T13:45:15.915Z"
   },
   {
    "duration": 12,
    "start_time": "2022-09-13T13:45:15.943Z"
   },
   {
    "duration": 33,
    "start_time": "2022-09-13T13:45:15.956Z"
   },
   {
    "duration": 12,
    "start_time": "2022-09-13T13:45:15.991Z"
   },
   {
    "duration": 48,
    "start_time": "2022-09-13T13:45:16.005Z"
   },
   {
    "duration": 48,
    "start_time": "2022-09-13T13:45:16.054Z"
   },
   {
    "duration": 29,
    "start_time": "2022-09-13T13:45:16.103Z"
   },
   {
    "duration": 27,
    "start_time": "2022-09-13T13:45:16.133Z"
   },
   {
    "duration": 31,
    "start_time": "2022-09-13T13:45:16.162Z"
   },
   {
    "duration": 24,
    "start_time": "2022-09-13T13:45:16.194Z"
   },
   {
    "duration": 909,
    "start_time": "2022-09-13T13:45:16.220Z"
   },
   {
    "duration": 1176,
    "start_time": "2022-09-13T13:45:17.131Z"
   },
   {
    "duration": 1453,
    "start_time": "2022-09-13T13:45:18.310Z"
   },
   {
    "duration": 525,
    "start_time": "2022-09-13T13:45:19.764Z"
   },
   {
    "duration": 6,
    "start_time": "2022-09-13T13:45:20.291Z"
   },
   {
    "duration": 40,
    "start_time": "2022-09-13T13:45:20.299Z"
   },
   {
    "duration": 14,
    "start_time": "2022-09-13T13:45:20.340Z"
   },
   {
    "duration": 30,
    "start_time": "2022-09-13T13:45:20.355Z"
   },
   {
    "duration": 18,
    "start_time": "2022-09-13T13:45:20.387Z"
   },
   {
    "duration": 29,
    "start_time": "2022-09-13T13:45:20.407Z"
   },
   {
    "duration": 504,
    "start_time": "2022-09-13T13:45:20.438Z"
   },
   {
    "duration": 9,
    "start_time": "2022-09-13T13:45:20.947Z"
   },
   {
    "duration": 45,
    "start_time": "2022-09-13T13:45:20.958Z"
   },
   {
    "duration": 29,
    "start_time": "2022-09-13T13:45:21.005Z"
   },
   {
    "duration": 26,
    "start_time": "2022-09-13T13:45:21.035Z"
   },
   {
    "duration": 13,
    "start_time": "2022-09-13T13:45:21.062Z"
   },
   {
    "duration": 15,
    "start_time": "2022-09-13T13:45:21.076Z"
   },
   {
    "duration": 19,
    "start_time": "2022-09-13T13:45:21.092Z"
   },
   {
    "duration": 33,
    "start_time": "2022-09-13T13:45:21.112Z"
   },
   {
    "duration": 25,
    "start_time": "2022-09-13T13:45:21.147Z"
   },
   {
    "duration": 26,
    "start_time": "2022-09-13T13:45:21.173Z"
   },
   {
    "duration": 8379,
    "start_time": "2022-09-13T13:45:21.202Z"
   },
   {
    "duration": 4,
    "start_time": "2022-09-13T13:45:35.707Z"
   },
   {
    "duration": 13421,
    "start_time": "2022-09-13T13:45:36.450Z"
   },
   {
    "duration": 4,
    "start_time": "2022-09-13T13:46:07.247Z"
   },
   {
    "duration": 13612,
    "start_time": "2022-09-13T13:46:08.053Z"
   },
   {
    "duration": 5,
    "start_time": "2022-09-13T13:46:27.078Z"
   },
   {
    "duration": 868,
    "start_time": "2022-09-13T13:46:27.649Z"
   },
   {
    "duration": 270,
    "start_time": "2022-09-13T13:46:38.118Z"
   },
   {
    "duration": 285,
    "start_time": "2022-09-13T13:46:47.498Z"
   },
   {
    "duration": 309,
    "start_time": "2022-09-13T13:46:58.218Z"
   },
   {
    "duration": 426,
    "start_time": "2022-09-13T13:47:07.151Z"
   },
   {
    "duration": 328,
    "start_time": "2022-09-13T13:47:16.547Z"
   },
   {
    "duration": 295,
    "start_time": "2022-09-13T13:47:25.258Z"
   },
   {
    "duration": 326,
    "start_time": "2022-09-13T13:48:01.316Z"
   },
   {
    "duration": 296,
    "start_time": "2022-09-13T13:48:07.858Z"
   },
   {
    "duration": 323,
    "start_time": "2022-09-13T13:48:12.507Z"
   },
   {
    "duration": 431,
    "start_time": "2022-09-13T13:48:43.505Z"
   },
   {
    "duration": 323,
    "start_time": "2022-09-13T13:48:51.007Z"
   },
   {
    "duration": 321,
    "start_time": "2022-09-13T13:48:59.221Z"
   },
   {
    "duration": 2196,
    "start_time": "2022-09-14T09:08:03.711Z"
   },
   {
    "duration": 81,
    "start_time": "2022-09-14T09:08:05.909Z"
   },
   {
    "duration": 16,
    "start_time": "2022-09-14T09:08:05.992Z"
   },
   {
    "duration": 22,
    "start_time": "2022-09-14T09:08:06.010Z"
   },
   {
    "duration": 12,
    "start_time": "2022-09-14T09:08:06.034Z"
   },
   {
    "duration": 28,
    "start_time": "2022-09-14T09:08:06.048Z"
   },
   {
    "duration": 13,
    "start_time": "2022-09-14T09:08:06.078Z"
   },
   {
    "duration": 14,
    "start_time": "2022-09-14T09:08:06.093Z"
   },
   {
    "duration": 7,
    "start_time": "2022-09-14T09:08:06.108Z"
   },
   {
    "duration": 24,
    "start_time": "2022-09-14T09:08:06.116Z"
   },
   {
    "duration": 3,
    "start_time": "2022-09-14T09:08:06.141Z"
   },
   {
    "duration": 898,
    "start_time": "2022-09-14T09:08:06.146Z"
   },
   {
    "duration": 1171,
    "start_time": "2022-09-14T09:08:07.046Z"
   },
   {
    "duration": 1262,
    "start_time": "2022-09-14T09:08:08.219Z"
   },
   {
    "duration": 515,
    "start_time": "2022-09-14T09:08:09.482Z"
   },
   {
    "duration": 6,
    "start_time": "2022-09-14T09:08:09.999Z"
   },
   {
    "duration": 16,
    "start_time": "2022-09-14T09:08:10.007Z"
   },
   {
    "duration": 12,
    "start_time": "2022-09-14T09:08:10.024Z"
   },
   {
    "duration": 10,
    "start_time": "2022-09-14T09:08:10.037Z"
   },
   {
    "duration": 8,
    "start_time": "2022-09-14T09:08:10.049Z"
   },
   {
    "duration": 13,
    "start_time": "2022-09-14T09:08:10.059Z"
   },
   {
    "duration": 455,
    "start_time": "2022-09-14T09:08:10.074Z"
   },
   {
    "duration": 8,
    "start_time": "2022-09-14T09:08:10.531Z"
   },
   {
    "duration": 12,
    "start_time": "2022-09-14T09:08:10.540Z"
   },
   {
    "duration": 8,
    "start_time": "2022-09-14T09:08:10.553Z"
   },
   {
    "duration": 6,
    "start_time": "2022-09-14T09:08:10.562Z"
   },
   {
    "duration": 8,
    "start_time": "2022-09-14T09:08:10.569Z"
   },
   {
    "duration": 23,
    "start_time": "2022-09-14T09:08:10.578Z"
   },
   {
    "duration": 7,
    "start_time": "2022-09-14T09:08:10.602Z"
   },
   {
    "duration": 9,
    "start_time": "2022-09-14T09:08:10.611Z"
   },
   {
    "duration": 7,
    "start_time": "2022-09-14T09:08:10.621Z"
   },
   {
    "duration": 9,
    "start_time": "2022-09-14T09:08:10.629Z"
   },
   {
    "duration": 15870,
    "start_time": "2022-09-14T09:08:10.639Z"
   },
   {
    "duration": 6,
    "start_time": "2022-09-14T09:08:26.511Z"
   },
   {
    "duration": 303,
    "start_time": "2022-09-14T09:08:26.518Z"
   },
   {
    "duration": 1924,
    "start_time": "2022-09-14T09:08:54.189Z"
   },
   {
    "duration": 29,
    "start_time": "2022-09-14T09:08:56.116Z"
   },
   {
    "duration": 17,
    "start_time": "2022-09-14T09:08:56.147Z"
   },
   {
    "duration": 22,
    "start_time": "2022-09-14T09:08:56.166Z"
   },
   {
    "duration": 11,
    "start_time": "2022-09-14T09:08:56.191Z"
   },
   {
    "duration": 15,
    "start_time": "2022-09-14T09:08:56.204Z"
   },
   {
    "duration": 19,
    "start_time": "2022-09-14T09:08:56.222Z"
   },
   {
    "duration": 8,
    "start_time": "2022-09-14T09:08:56.243Z"
   },
   {
    "duration": 4,
    "start_time": "2022-09-14T09:08:56.253Z"
   },
   {
    "duration": 56,
    "start_time": "2022-09-14T09:08:56.258Z"
   },
   {
    "duration": 3,
    "start_time": "2022-09-14T09:08:56.317Z"
   },
   {
    "duration": 913,
    "start_time": "2022-09-14T09:08:56.322Z"
   },
   {
    "duration": 1075,
    "start_time": "2022-09-14T09:08:57.237Z"
   },
   {
    "duration": 1403,
    "start_time": "2022-09-14T09:08:58.314Z"
   },
   {
    "duration": 513,
    "start_time": "2022-09-14T09:08:59.719Z"
   },
   {
    "duration": 5,
    "start_time": "2022-09-14T09:09:00.234Z"
   },
   {
    "duration": 29,
    "start_time": "2022-09-14T09:09:00.241Z"
   },
   {
    "duration": 23,
    "start_time": "2022-09-14T09:09:00.272Z"
   },
   {
    "duration": 37,
    "start_time": "2022-09-14T09:09:00.297Z"
   },
   {
    "duration": 41,
    "start_time": "2022-09-14T09:09:00.336Z"
   },
   {
    "duration": 29,
    "start_time": "2022-09-14T09:09:00.379Z"
   },
   {
    "duration": 496,
    "start_time": "2022-09-14T09:09:00.411Z"
   },
   {
    "duration": 9,
    "start_time": "2022-09-14T09:09:00.910Z"
   },
   {
    "duration": 31,
    "start_time": "2022-09-14T09:09:00.920Z"
   },
   {
    "duration": 17,
    "start_time": "2022-09-14T09:09:00.953Z"
   },
   {
    "duration": 35,
    "start_time": "2022-09-14T09:09:00.972Z"
   },
   {
    "duration": 16,
    "start_time": "2022-09-14T09:09:01.009Z"
   },
   {
    "duration": 10,
    "start_time": "2022-09-14T09:09:01.027Z"
   },
   {
    "duration": 25,
    "start_time": "2022-09-14T09:09:01.039Z"
   },
   {
    "duration": 18,
    "start_time": "2022-09-14T09:09:01.066Z"
   },
   {
    "duration": 15,
    "start_time": "2022-09-14T09:09:01.086Z"
   },
   {
    "duration": 17,
    "start_time": "2022-09-14T09:09:01.104Z"
   },
   {
    "duration": 4278,
    "start_time": "2022-09-14T09:09:01.124Z"
   },
   {
    "duration": 3321,
    "start_time": "2022-09-14T09:09:08.896Z"
   },
   {
    "duration": 5,
    "start_time": "2022-09-14T09:09:22.816Z"
   },
   {
    "duration": 17347,
    "start_time": "2022-09-14T09:09:23.456Z"
   },
   {
    "duration": 5,
    "start_time": "2022-09-14T09:09:48.356Z"
   },
   {
    "duration": 259,
    "start_time": "2022-09-14T09:09:48.965Z"
   },
   {
    "duration": 308,
    "start_time": "2022-09-14T09:10:05.476Z"
   },
   {
    "duration": 289,
    "start_time": "2022-09-14T09:10:14.933Z"
   },
   {
    "duration": 291,
    "start_time": "2022-09-14T09:10:21.055Z"
   },
   {
    "duration": 320,
    "start_time": "2022-09-14T09:10:25.737Z"
   },
   {
    "duration": 409,
    "start_time": "2022-09-14T09:10:36.456Z"
   },
   {
    "duration": 1856,
    "start_time": "2022-09-14T09:10:58.426Z"
   },
   {
    "duration": 28,
    "start_time": "2022-09-14T09:11:00.284Z"
   },
   {
    "duration": 17,
    "start_time": "2022-09-14T09:11:00.314Z"
   },
   {
    "duration": 32,
    "start_time": "2022-09-14T09:11:00.332Z"
   },
   {
    "duration": 15,
    "start_time": "2022-09-14T09:11:00.367Z"
   },
   {
    "duration": 33,
    "start_time": "2022-09-14T09:11:00.383Z"
   },
   {
    "duration": 19,
    "start_time": "2022-09-14T09:11:00.417Z"
   },
   {
    "duration": 34,
    "start_time": "2022-09-14T09:11:00.438Z"
   },
   {
    "duration": 17,
    "start_time": "2022-09-14T09:11:00.474Z"
   },
   {
    "duration": 48,
    "start_time": "2022-09-14T09:11:00.492Z"
   },
   {
    "duration": 22,
    "start_time": "2022-09-14T09:11:00.542Z"
   },
   {
    "duration": 999,
    "start_time": "2022-09-14T09:11:00.567Z"
   },
   {
    "duration": 1148,
    "start_time": "2022-09-14T09:11:01.568Z"
   },
   {
    "duration": 1270,
    "start_time": "2022-09-14T09:11:02.720Z"
   },
   {
    "duration": 582,
    "start_time": "2022-09-14T09:11:03.991Z"
   },
   {
    "duration": 6,
    "start_time": "2022-09-14T09:11:04.575Z"
   },
   {
    "duration": 19,
    "start_time": "2022-09-14T09:11:04.583Z"
   },
   {
    "duration": 24,
    "start_time": "2022-09-14T09:11:04.604Z"
   },
   {
    "duration": 14,
    "start_time": "2022-09-14T09:11:04.629Z"
   },
   {
    "duration": 6,
    "start_time": "2022-09-14T09:11:04.644Z"
   },
   {
    "duration": 12,
    "start_time": "2022-09-14T09:11:04.652Z"
   },
   {
    "duration": 464,
    "start_time": "2022-09-14T09:11:04.665Z"
   },
   {
    "duration": 10,
    "start_time": "2022-09-14T09:11:05.130Z"
   },
   {
    "duration": 14,
    "start_time": "2022-09-14T09:11:05.142Z"
   },
   {
    "duration": 13,
    "start_time": "2022-09-14T09:11:05.158Z"
   },
   {
    "duration": 11,
    "start_time": "2022-09-14T09:11:05.173Z"
   },
   {
    "duration": 10,
    "start_time": "2022-09-14T09:11:05.185Z"
   },
   {
    "duration": 8,
    "start_time": "2022-09-14T09:11:05.197Z"
   },
   {
    "duration": 6,
    "start_time": "2022-09-14T09:11:05.206Z"
   },
   {
    "duration": 6,
    "start_time": "2022-09-14T09:11:05.214Z"
   },
   {
    "duration": 13,
    "start_time": "2022-09-14T09:11:05.221Z"
   },
   {
    "duration": 10,
    "start_time": "2022-09-14T09:11:05.236Z"
   },
   {
    "duration": 4318,
    "start_time": "2022-09-14T09:11:05.247Z"
   },
   {
    "duration": 2632,
    "start_time": "2022-09-14T09:11:11.379Z"
   },
   {
    "duration": 5,
    "start_time": "2022-09-14T09:11:15.385Z"
   },
   {
    "duration": 17110,
    "start_time": "2022-09-14T09:11:15.592Z"
   },
   {
    "duration": 5,
    "start_time": "2022-09-14T09:11:48.259Z"
   },
   {
    "duration": 266,
    "start_time": "2022-09-14T09:11:48.868Z"
   },
   {
    "duration": 408,
    "start_time": "2022-09-14T09:12:43.426Z"
   },
   {
    "duration": 329,
    "start_time": "2022-09-14T09:12:50.666Z"
   },
   {
    "duration": 2181,
    "start_time": "2022-09-14T09:13:10.567Z"
   },
   {
    "duration": 35,
    "start_time": "2022-09-14T09:13:12.751Z"
   },
   {
    "duration": 24,
    "start_time": "2022-09-14T09:13:12.788Z"
   },
   {
    "duration": 29,
    "start_time": "2022-09-14T09:13:12.815Z"
   },
   {
    "duration": 13,
    "start_time": "2022-09-14T09:13:12.848Z"
   },
   {
    "duration": 38,
    "start_time": "2022-09-14T09:13:12.863Z"
   },
   {
    "duration": 15,
    "start_time": "2022-09-14T09:13:12.903Z"
   },
   {
    "duration": 15,
    "start_time": "2022-09-14T09:13:12.920Z"
   },
   {
    "duration": 8,
    "start_time": "2022-09-14T09:13:12.937Z"
   },
   {
    "duration": 24,
    "start_time": "2022-09-14T09:13:12.948Z"
   },
   {
    "duration": 4,
    "start_time": "2022-09-14T09:13:13.002Z"
   },
   {
    "duration": 1006,
    "start_time": "2022-09-14T09:13:13.008Z"
   },
   {
    "duration": 1266,
    "start_time": "2022-09-14T09:13:14.017Z"
   },
   {
    "duration": 1483,
    "start_time": "2022-09-14T09:13:15.287Z"
   },
   {
    "duration": 607,
    "start_time": "2022-09-14T09:13:16.772Z"
   },
   {
    "duration": 5,
    "start_time": "2022-09-14T09:13:17.382Z"
   },
   {
    "duration": 15,
    "start_time": "2022-09-14T09:13:17.390Z"
   },
   {
    "duration": 16,
    "start_time": "2022-09-14T09:13:17.407Z"
   },
   {
    "duration": 14,
    "start_time": "2022-09-14T09:13:17.425Z"
   },
   {
    "duration": 17,
    "start_time": "2022-09-14T09:13:17.441Z"
   },
   {
    "duration": 17,
    "start_time": "2022-09-14T09:13:17.460Z"
   },
   {
    "duration": 543,
    "start_time": "2022-09-14T09:13:17.479Z"
   },
   {
    "duration": 11,
    "start_time": "2022-09-14T09:13:18.024Z"
   },
   {
    "duration": 18,
    "start_time": "2022-09-14T09:13:18.037Z"
   },
   {
    "duration": 10,
    "start_time": "2022-09-14T09:13:18.058Z"
   },
   {
    "duration": 11,
    "start_time": "2022-09-14T09:13:18.070Z"
   },
   {
    "duration": 22,
    "start_time": "2022-09-14T09:13:18.083Z"
   },
   {
    "duration": 6,
    "start_time": "2022-09-14T09:13:18.107Z"
   },
   {
    "duration": 9,
    "start_time": "2022-09-14T09:13:18.116Z"
   },
   {
    "duration": 30,
    "start_time": "2022-09-14T09:13:18.127Z"
   },
   {
    "duration": 15,
    "start_time": "2022-09-14T09:13:18.160Z"
   },
   {
    "duration": 10,
    "start_time": "2022-09-14T09:13:18.178Z"
   },
   {
    "duration": 7757,
    "start_time": "2022-09-14T09:13:18.190Z"
   },
   {
    "duration": 4,
    "start_time": "2022-09-14T09:13:32.393Z"
   },
   {
    "duration": 19571,
    "start_time": "2022-09-14T09:13:33.245Z"
   },
   {
    "duration": 2039,
    "start_time": "2022-09-14T09:15:37.642Z"
   },
   {
    "duration": 28,
    "start_time": "2022-09-14T09:15:39.683Z"
   },
   {
    "duration": 14,
    "start_time": "2022-09-14T09:15:39.713Z"
   },
   {
    "duration": 23,
    "start_time": "2022-09-14T09:15:39.730Z"
   },
   {
    "duration": 15,
    "start_time": "2022-09-14T09:15:39.756Z"
   },
   {
    "duration": 28,
    "start_time": "2022-09-14T09:15:39.773Z"
   },
   {
    "duration": 24,
    "start_time": "2022-09-14T09:15:39.803Z"
   },
   {
    "duration": 14,
    "start_time": "2022-09-14T09:15:39.829Z"
   },
   {
    "duration": 10,
    "start_time": "2022-09-14T09:15:39.845Z"
   },
   {
    "duration": 43,
    "start_time": "2022-09-14T09:15:39.857Z"
   },
   {
    "duration": 3,
    "start_time": "2022-09-14T09:15:39.902Z"
   },
   {
    "duration": 956,
    "start_time": "2022-09-14T09:15:39.907Z"
   },
   {
    "duration": 1333,
    "start_time": "2022-09-14T09:15:40.865Z"
   },
   {
    "duration": 1477,
    "start_time": "2022-09-14T09:15:42.202Z"
   },
   {
    "duration": 606,
    "start_time": "2022-09-14T09:15:43.681Z"
   },
   {
    "duration": 13,
    "start_time": "2022-09-14T09:15:44.290Z"
   },
   {
    "duration": 28,
    "start_time": "2022-09-14T09:15:44.306Z"
   },
   {
    "duration": 37,
    "start_time": "2022-09-14T09:15:44.336Z"
   },
   {
    "duration": 35,
    "start_time": "2022-09-14T09:15:44.375Z"
   },
   {
    "duration": 33,
    "start_time": "2022-09-14T09:15:44.412Z"
   },
   {
    "duration": 34,
    "start_time": "2022-09-14T09:15:44.448Z"
   },
   {
    "duration": 640,
    "start_time": "2022-09-14T09:15:44.484Z"
   },
   {
    "duration": 16,
    "start_time": "2022-09-14T09:15:45.126Z"
   },
   {
    "duration": 11,
    "start_time": "2022-09-14T09:15:45.144Z"
   },
   {
    "duration": 15,
    "start_time": "2022-09-14T09:15:45.157Z"
   },
   {
    "duration": 26,
    "start_time": "2022-09-14T09:15:45.174Z"
   },
   {
    "duration": 5,
    "start_time": "2022-09-14T09:15:45.202Z"
   },
   {
    "duration": 7,
    "start_time": "2022-09-14T09:15:45.209Z"
   },
   {
    "duration": 7,
    "start_time": "2022-09-14T09:15:45.218Z"
   },
   {
    "duration": 9,
    "start_time": "2022-09-14T09:15:45.227Z"
   },
   {
    "duration": 9,
    "start_time": "2022-09-14T09:15:45.239Z"
   },
   {
    "duration": 10,
    "start_time": "2022-09-14T09:15:45.250Z"
   },
   {
    "duration": 17857,
    "start_time": "2022-09-14T09:15:45.264Z"
   },
   {
    "duration": 9,
    "start_time": "2022-09-14T09:16:15.082Z"
   },
   {
    "duration": 330,
    "start_time": "2022-09-14T09:16:15.762Z"
   },
   {
    "duration": 318,
    "start_time": "2022-09-14T09:16:28.263Z"
   },
   {
    "duration": 324,
    "start_time": "2022-09-14T09:16:43.483Z"
   },
   {
    "duration": 444,
    "start_time": "2022-09-14T09:17:57.882Z"
   },
   {
    "duration": 4,
    "start_time": "2022-09-14T09:18:28.546Z"
   },
   {
    "duration": 366,
    "start_time": "2022-09-14T09:18:29.642Z"
   },
   {
    "duration": 558,
    "start_time": "2022-09-14T09:18:38.202Z"
   },
   {
    "duration": 304,
    "start_time": "2022-09-14T09:21:14.482Z"
   },
   {
    "duration": 291,
    "start_time": "2022-09-14T09:21:20.901Z"
   },
   {
    "duration": 278,
    "start_time": "2022-09-14T09:21:27.101Z"
   },
   {
    "duration": 296,
    "start_time": "2022-09-14T09:21:33.962Z"
   },
   {
    "duration": 430,
    "start_time": "2022-09-14T09:21:53.523Z"
   },
   {
    "duration": 375,
    "start_time": "2022-09-14T09:23:05.633Z"
   },
   {
    "duration": 280,
    "start_time": "2022-09-14T09:23:23.401Z"
   },
   {
    "duration": 345,
    "start_time": "2022-09-14T09:23:35.402Z"
   },
   {
    "duration": 384,
    "start_time": "2022-09-14T09:23:43.902Z"
   },
   {
    "duration": 482,
    "start_time": "2022-09-14T09:23:58.662Z"
   },
   {
    "duration": 316,
    "start_time": "2022-09-14T09:25:22.022Z"
   },
   {
    "duration": 1805,
    "start_time": "2022-09-14T09:26:00.666Z"
   },
   {
    "duration": 28,
    "start_time": "2022-09-14T09:26:02.472Z"
   },
   {
    "duration": 14,
    "start_time": "2022-09-14T09:26:02.501Z"
   },
   {
    "duration": 43,
    "start_time": "2022-09-14T09:26:02.516Z"
   },
   {
    "duration": 23,
    "start_time": "2022-09-14T09:26:02.561Z"
   },
   {
    "duration": 28,
    "start_time": "2022-09-14T09:26:02.586Z"
   },
   {
    "duration": 32,
    "start_time": "2022-09-14T09:26:02.615Z"
   },
   {
    "duration": 35,
    "start_time": "2022-09-14T09:26:02.648Z"
   },
   {
    "duration": 27,
    "start_time": "2022-09-14T09:26:02.685Z"
   },
   {
    "duration": 50,
    "start_time": "2022-09-14T09:26:02.713Z"
   },
   {
    "duration": 30,
    "start_time": "2022-09-14T09:26:02.765Z"
   },
   {
    "duration": 791,
    "start_time": "2022-09-14T09:26:02.797Z"
   },
   {
    "duration": 1187,
    "start_time": "2022-09-14T09:26:03.590Z"
   },
   {
    "duration": 1289,
    "start_time": "2022-09-14T09:26:04.781Z"
   },
   {
    "duration": 575,
    "start_time": "2022-09-14T09:26:06.072Z"
   },
   {
    "duration": 6,
    "start_time": "2022-09-14T09:26:06.649Z"
   },
   {
    "duration": 9,
    "start_time": "2022-09-14T09:26:06.657Z"
   },
   {
    "duration": 16,
    "start_time": "2022-09-14T09:26:06.668Z"
   },
   {
    "duration": 16,
    "start_time": "2022-09-14T09:26:06.686Z"
   },
   {
    "duration": 17,
    "start_time": "2022-09-14T09:26:06.704Z"
   },
   {
    "duration": 7,
    "start_time": "2022-09-14T09:26:06.723Z"
   },
   {
    "duration": 444,
    "start_time": "2022-09-14T09:26:06.732Z"
   },
   {
    "duration": 10,
    "start_time": "2022-09-14T09:26:07.178Z"
   },
   {
    "duration": 19,
    "start_time": "2022-09-14T09:26:07.189Z"
   },
   {
    "duration": 11,
    "start_time": "2022-09-14T09:26:07.210Z"
   },
   {
    "duration": 11,
    "start_time": "2022-09-14T09:26:07.223Z"
   },
   {
    "duration": 5,
    "start_time": "2022-09-14T09:26:07.236Z"
   },
   {
    "duration": 7,
    "start_time": "2022-09-14T09:26:07.243Z"
   },
   {
    "duration": 6,
    "start_time": "2022-09-14T09:26:07.252Z"
   },
   {
    "duration": 6,
    "start_time": "2022-09-14T09:26:07.261Z"
   },
   {
    "duration": 7,
    "start_time": "2022-09-14T09:26:07.268Z"
   },
   {
    "duration": 25,
    "start_time": "2022-09-14T09:26:07.276Z"
   },
   {
    "duration": 15803,
    "start_time": "2022-09-14T09:26:07.303Z"
   },
   {
    "duration": 5,
    "start_time": "2022-09-14T09:26:23.108Z"
   },
   {
    "duration": 329,
    "start_time": "2022-09-14T09:26:23.114Z"
   },
   {
    "duration": 3,
    "start_time": "2022-09-14T09:29:52.426Z"
   },
   {
    "duration": 4,
    "start_time": "2022-09-14T09:29:52.886Z"
   },
   {
    "duration": 10112,
    "start_time": "2022-09-14T09:29:59.746Z"
   },
   {
    "duration": 4,
    "start_time": "2022-09-14T09:30:36.527Z"
   },
   {
    "duration": 27,
    "start_time": "2022-09-14T09:30:38.525Z"
   },
   {
    "duration": 4,
    "start_time": "2022-09-14T09:31:13.783Z"
   },
   {
    "duration": 10563,
    "start_time": "2022-09-14T09:31:20.006Z"
   },
   {
    "duration": 3,
    "start_time": "2022-09-14T09:31:39.887Z"
   },
   {
    "duration": 4,
    "start_time": "2022-09-14T09:31:40.197Z"
   },
   {
    "duration": 10535,
    "start_time": "2022-09-14T09:31:47.793Z"
   },
   {
    "duration": 3,
    "start_time": "2022-09-14T09:32:10.825Z"
   },
   {
    "duration": 4,
    "start_time": "2022-09-14T09:32:11.225Z"
   },
   {
    "duration": 21,
    "start_time": "2022-09-14T09:32:14.838Z"
   },
   {
    "duration": 8147,
    "start_time": "2022-09-14T09:32:59.466Z"
   },
   {
    "duration": 3,
    "start_time": "2022-09-14T09:33:12.606Z"
   },
   {
    "duration": 4,
    "start_time": "2022-09-14T09:33:14.846Z"
   },
   {
    "duration": 3,
    "start_time": "2022-09-14T09:33:20.771Z"
   },
   {
    "duration": 4,
    "start_time": "2022-09-14T09:33:23.318Z"
   },
   {
    "duration": 30505,
    "start_time": "2022-09-14T09:33:26.999Z"
   },
   {
    "duration": 5,
    "start_time": "2022-09-14T09:34:20.679Z"
   },
   {
    "duration": 5,
    "start_time": "2022-09-14T09:34:22.678Z"
   },
   {
    "duration": 3,
    "start_time": "2022-09-14T09:34:29.039Z"
   },
   {
    "duration": 4,
    "start_time": "2022-09-14T09:34:29.519Z"
   },
   {
    "duration": 10440,
    "start_time": "2022-09-14T09:34:29.811Z"
   },
   {
    "duration": 1769,
    "start_time": "2022-09-14T09:35:25.160Z"
   },
   {
    "duration": 27,
    "start_time": "2022-09-14T09:35:26.931Z"
   },
   {
    "duration": 13,
    "start_time": "2022-09-14T09:35:26.959Z"
   },
   {
    "duration": 18,
    "start_time": "2022-09-14T09:35:26.973Z"
   },
   {
    "duration": 9,
    "start_time": "2022-09-14T09:35:26.993Z"
   },
   {
    "duration": 18,
    "start_time": "2022-09-14T09:35:27.004Z"
   },
   {
    "duration": 13,
    "start_time": "2022-09-14T09:35:27.024Z"
   },
   {
    "duration": 13,
    "start_time": "2022-09-14T09:35:27.039Z"
   },
   {
    "duration": 6,
    "start_time": "2022-09-14T09:35:27.054Z"
   },
   {
    "duration": 22,
    "start_time": "2022-09-14T09:35:27.062Z"
   },
   {
    "duration": 2,
    "start_time": "2022-09-14T09:35:27.086Z"
   },
   {
    "duration": 803,
    "start_time": "2022-09-14T09:35:27.090Z"
   },
   {
    "duration": 1029,
    "start_time": "2022-09-14T09:35:27.894Z"
   },
   {
    "duration": 1343,
    "start_time": "2022-09-14T09:35:28.926Z"
   },
   {
    "duration": 534,
    "start_time": "2022-09-14T09:35:30.271Z"
   },
   {
    "duration": 6,
    "start_time": "2022-09-14T09:35:30.806Z"
   },
   {
    "duration": 9,
    "start_time": "2022-09-14T09:35:30.813Z"
   },
   {
    "duration": 16,
    "start_time": "2022-09-14T09:35:30.824Z"
   },
   {
    "duration": 19,
    "start_time": "2022-09-14T09:35:30.841Z"
   },
   {
    "duration": 7,
    "start_time": "2022-09-14T09:35:30.862Z"
   },
   {
    "duration": 6,
    "start_time": "2022-09-14T09:35:30.871Z"
   },
   {
    "duration": 488,
    "start_time": "2022-09-14T09:35:30.879Z"
   },
   {
    "duration": 10,
    "start_time": "2022-09-14T09:35:31.368Z"
   },
   {
    "duration": 25,
    "start_time": "2022-09-14T09:35:31.379Z"
   },
   {
    "duration": 9,
    "start_time": "2022-09-14T09:35:31.405Z"
   },
   {
    "duration": 10,
    "start_time": "2022-09-14T09:35:31.416Z"
   },
   {
    "duration": 9,
    "start_time": "2022-09-14T09:35:31.427Z"
   },
   {
    "duration": 6,
    "start_time": "2022-09-14T09:35:31.437Z"
   },
   {
    "duration": 11,
    "start_time": "2022-09-14T09:35:31.445Z"
   },
   {
    "duration": 7,
    "start_time": "2022-09-14T09:35:31.458Z"
   },
   {
    "duration": 20,
    "start_time": "2022-09-14T09:35:31.467Z"
   },
   {
    "duration": 11,
    "start_time": "2022-09-14T09:35:31.489Z"
   },
   {
    "duration": 10494,
    "start_time": "2022-09-14T09:35:31.502Z"
   },
   {
    "duration": 4,
    "start_time": "2022-09-14T09:35:42.001Z"
   },
   {
    "duration": 287,
    "start_time": "2022-09-14T09:35:42.006Z"
   },
   {
    "duration": 177,
    "start_time": "2022-09-14T09:46:30.910Z"
   },
   {
    "duration": 32,
    "start_time": "2022-09-14T09:50:04.803Z"
   },
   {
    "duration": 28,
    "start_time": "2022-09-14T09:50:52.036Z"
   },
   {
    "duration": 29,
    "start_time": "2022-09-14T09:52:19.964Z"
   },
   {
    "duration": 37,
    "start_time": "2022-09-14T09:52:47.436Z"
   },
   {
    "duration": 35,
    "start_time": "2022-09-14T09:54:11.616Z"
   },
   {
    "duration": 154050,
    "start_time": "2022-09-14T09:55:05.975Z"
   },
   {
    "duration": 561468,
    "start_time": "2022-09-14T09:57:48.950Z"
   },
   {
    "duration": 134900,
    "start_time": "2022-09-14T10:07:12.313Z"
   },
   {
    "duration": 164649,
    "start_time": "2022-09-14T10:10:12.161Z"
   },
   {
    "duration": 34799,
    "start_time": "2022-09-14T10:12:59.116Z"
   },
   {
    "duration": 2290776,
    "start_time": "2022-09-14T10:13:37.136Z"
   },
   {
    "duration": 3,
    "start_time": "2022-09-14T10:51:47.914Z"
   },
   {
    "duration": 65818,
    "start_time": "2022-09-14T10:52:13.816Z"
   },
   {
    "duration": 8309882,
    "start_time": "2022-09-14T10:54:40.535Z"
   },
   {
    "duration": 20,
    "start_time": "2022-09-14T13:13:10.428Z"
   },
   {
    "duration": 106,
    "start_time": "2022-09-14T13:13:10.450Z"
   },
   {
    "duration": 20712,
    "start_time": "2022-09-14T13:15:17.952Z"
   },
   {
    "duration": 4,
    "start_time": "2022-09-14T13:15:53.002Z"
   },
   {
    "duration": 15111,
    "start_time": "2022-09-14T13:15:53.502Z"
   },
   {
    "duration": 2,
    "start_time": "2022-09-14T13:16:26.969Z"
   },
   {
    "duration": 41974,
    "start_time": "2022-09-14T13:16:28.041Z"
   },
   {
    "duration": 0,
    "start_time": "2022-09-14T13:17:10.017Z"
   },
   {
    "duration": 3,
    "start_time": "2022-09-14T13:17:12.042Z"
   },
   {
    "duration": 3,
    "start_time": "2022-09-14T13:17:19.953Z"
   },
   {
    "duration": 76655,
    "start_time": "2022-09-14T13:17:20.613Z"
   },
   {
    "duration": 3,
    "start_time": "2022-09-14T13:18:52.569Z"
   },
   {
    "duration": 16978,
    "start_time": "2022-09-14T13:18:53.453Z"
   },
   {
    "duration": 4,
    "start_time": "2022-09-14T13:19:15.322Z"
   },
   {
    "duration": 365157,
    "start_time": "2022-09-14T13:19:15.962Z"
   },
   {
    "duration": 7652,
    "start_time": "2022-09-14T13:25:45.342Z"
   },
   {
    "duration": 7,
    "start_time": "2022-09-14T13:25:54.308Z"
   },
   {
    "duration": 278428,
    "start_time": "2022-09-14T13:25:54.790Z"
   },
   {
    "duration": 10,
    "start_time": "2022-09-14T13:30:33.220Z"
   },
   {
    "duration": 0,
    "start_time": "2022-09-14T13:30:33.231Z"
   },
   {
    "duration": 1978,
    "start_time": "2022-09-14T13:31:26.379Z"
   },
   {
    "duration": 26,
    "start_time": "2022-09-14T13:31:28.359Z"
   },
   {
    "duration": 12,
    "start_time": "2022-09-14T13:31:28.386Z"
   },
   {
    "duration": 33,
    "start_time": "2022-09-14T13:31:28.399Z"
   },
   {
    "duration": 8,
    "start_time": "2022-09-14T13:31:28.434Z"
   },
   {
    "duration": 13,
    "start_time": "2022-09-14T13:31:28.444Z"
   },
   {
    "duration": 11,
    "start_time": "2022-09-14T13:31:28.458Z"
   },
   {
    "duration": 7,
    "start_time": "2022-09-14T13:31:28.471Z"
   },
   {
    "duration": 6,
    "start_time": "2022-09-14T13:31:28.480Z"
   },
   {
    "duration": 28,
    "start_time": "2022-09-14T13:31:28.487Z"
   },
   {
    "duration": 6,
    "start_time": "2022-09-14T13:31:28.516Z"
   },
   {
    "duration": 789,
    "start_time": "2022-09-14T13:31:28.524Z"
   },
   {
    "duration": 1027,
    "start_time": "2022-09-14T13:31:29.314Z"
   },
   {
    "duration": 1317,
    "start_time": "2022-09-14T13:31:30.344Z"
   },
   {
    "duration": 533,
    "start_time": "2022-09-14T13:31:31.663Z"
   },
   {
    "duration": 18,
    "start_time": "2022-09-14T13:31:32.197Z"
   },
   {
    "duration": 8,
    "start_time": "2022-09-14T13:31:32.216Z"
   },
   {
    "duration": 8,
    "start_time": "2022-09-14T13:31:32.226Z"
   },
   {
    "duration": 8,
    "start_time": "2022-09-14T13:31:32.235Z"
   },
   {
    "duration": 4,
    "start_time": "2022-09-14T13:31:32.245Z"
   },
   {
    "duration": 8,
    "start_time": "2022-09-14T13:31:32.250Z"
   },
   {
    "duration": 469,
    "start_time": "2022-09-14T13:31:32.259Z"
   },
   {
    "duration": 8,
    "start_time": "2022-09-14T13:31:32.730Z"
   },
   {
    "duration": 13,
    "start_time": "2022-09-14T13:31:32.740Z"
   },
   {
    "duration": 8,
    "start_time": "2022-09-14T13:31:32.755Z"
   },
   {
    "duration": 6,
    "start_time": "2022-09-14T13:31:32.764Z"
   },
   {
    "duration": 7,
    "start_time": "2022-09-14T13:31:32.771Z"
   },
   {
    "duration": 7,
    "start_time": "2022-09-14T13:31:32.779Z"
   },
   {
    "duration": 21,
    "start_time": "2022-09-14T13:31:32.788Z"
   },
   {
    "duration": 9,
    "start_time": "2022-09-14T13:31:32.815Z"
   },
   {
    "duration": 8,
    "start_time": "2022-09-14T13:31:32.825Z"
   },
   {
    "duration": 5,
    "start_time": "2022-09-14T13:31:32.834Z"
   },
   {
    "duration": 14022,
    "start_time": "2022-09-14T13:31:32.841Z"
   },
   {
    "duration": 4,
    "start_time": "2022-09-14T13:32:06.859Z"
   },
   {
    "duration": 61,
    "start_time": "2022-09-14T13:32:08.152Z"
   },
   {
    "duration": 4,
    "start_time": "2022-09-14T13:32:18.019Z"
   },
   {
    "duration": 149,
    "start_time": "2022-09-14T13:32:18.815Z"
   },
   {
    "duration": 258,
    "start_time": "2022-09-14T13:32:22.999Z"
   },
   {
    "duration": 4,
    "start_time": "2022-09-14T13:32:36.866Z"
   },
   {
    "duration": 317,
    "start_time": "2022-09-14T13:32:37.759Z"
   },
   {
    "duration": 2184,
    "start_time": "2022-09-15T05:29:43.597Z"
   },
   {
    "duration": 119,
    "start_time": "2022-09-15T05:29:45.783Z"
   },
   {
    "duration": 15,
    "start_time": "2022-09-15T05:29:45.903Z"
   },
   {
    "duration": 24,
    "start_time": "2022-09-15T05:29:45.919Z"
   },
   {
    "duration": 12,
    "start_time": "2022-09-15T05:29:45.945Z"
   },
   {
    "duration": 17,
    "start_time": "2022-09-15T05:29:45.958Z"
   },
   {
    "duration": 29,
    "start_time": "2022-09-15T05:29:45.977Z"
   },
   {
    "duration": 12,
    "start_time": "2022-09-15T05:29:46.008Z"
   },
   {
    "duration": 8,
    "start_time": "2022-09-15T05:29:46.021Z"
   },
   {
    "duration": 24,
    "start_time": "2022-09-15T05:29:46.030Z"
   },
   {
    "duration": 2,
    "start_time": "2022-09-15T05:29:46.056Z"
   },
   {
    "duration": 937,
    "start_time": "2022-09-15T05:29:46.060Z"
   },
   {
    "duration": 1131,
    "start_time": "2022-09-15T05:29:46.999Z"
   },
   {
    "duration": 1385,
    "start_time": "2022-09-15T05:29:48.133Z"
   },
   {
    "duration": 516,
    "start_time": "2022-09-15T05:29:49.520Z"
   },
   {
    "duration": 6,
    "start_time": "2022-09-15T05:29:50.038Z"
   },
   {
    "duration": 21,
    "start_time": "2022-09-15T05:29:50.045Z"
   },
   {
    "duration": 15,
    "start_time": "2022-09-15T05:29:50.067Z"
   },
   {
    "duration": 21,
    "start_time": "2022-09-15T05:29:50.084Z"
   },
   {
    "duration": 9,
    "start_time": "2022-09-15T05:29:50.107Z"
   },
   {
    "duration": 21,
    "start_time": "2022-09-15T05:29:50.118Z"
   },
   {
    "duration": 538,
    "start_time": "2022-09-15T05:29:50.141Z"
   },
   {
    "duration": 17,
    "start_time": "2022-09-15T05:29:50.681Z"
   },
   {
    "duration": 29,
    "start_time": "2022-09-15T05:29:50.700Z"
   },
   {
    "duration": 30,
    "start_time": "2022-09-15T05:29:50.730Z"
   },
   {
    "duration": 20,
    "start_time": "2022-09-15T05:29:50.762Z"
   },
   {
    "duration": 20,
    "start_time": "2022-09-15T05:29:50.784Z"
   },
   {
    "duration": 18,
    "start_time": "2022-09-15T05:29:50.806Z"
   },
   {
    "duration": 13,
    "start_time": "2022-09-15T05:29:50.826Z"
   },
   {
    "duration": 7,
    "start_time": "2022-09-15T05:29:50.841Z"
   },
   {
    "duration": 29,
    "start_time": "2022-09-15T05:29:50.849Z"
   },
   {
    "duration": 15,
    "start_time": "2022-09-15T05:29:50.880Z"
   },
   {
    "duration": 14785,
    "start_time": "2022-09-15T05:29:50.897Z"
   },
   {
    "duration": 5,
    "start_time": "2022-09-15T05:30:05.696Z"
   },
   {
    "duration": 18,
    "start_time": "2022-09-15T05:30:05.702Z"
   },
   {
    "duration": 326,
    "start_time": "2022-09-15T05:30:05.722Z"
   },
   {
    "duration": 4006356,
    "start_time": "2022-09-15T05:30:06.050Z"
   },
   {
    "duration": 4,
    "start_time": "2022-09-15T06:36:52.408Z"
   },
   {
    "duration": 378,
    "start_time": "2022-09-15T06:36:52.417Z"
   },
   {
    "duration": 4,
    "start_time": "2022-09-15T10:56:52.241Z"
   },
   {
    "duration": 4,
    "start_time": "2022-09-15T10:57:07.360Z"
   },
   {
    "duration": 5,
    "start_time": "2022-09-15T10:57:47.920Z"
   },
   {
    "duration": 1983,
    "start_time": "2022-09-15T11:16:40.812Z"
   },
   {
    "duration": 138,
    "start_time": "2022-09-15T11:16:42.797Z"
   },
   {
    "duration": 14,
    "start_time": "2022-09-15T11:16:42.938Z"
   },
   {
    "duration": 17,
    "start_time": "2022-09-15T11:16:42.953Z"
   },
   {
    "duration": 10,
    "start_time": "2022-09-15T11:16:42.972Z"
   },
   {
    "duration": 13,
    "start_time": "2022-09-15T11:16:42.984Z"
   },
   {
    "duration": 8,
    "start_time": "2022-09-15T11:16:42.998Z"
   },
   {
    "duration": 6,
    "start_time": "2022-09-15T11:16:43.008Z"
   },
   {
    "duration": 23,
    "start_time": "2022-09-15T11:16:43.016Z"
   },
   {
    "duration": 3,
    "start_time": "2022-09-15T11:16:43.041Z"
   },
   {
    "duration": 892,
    "start_time": "2022-09-15T11:16:43.045Z"
   },
   {
    "duration": 1135,
    "start_time": "2022-09-15T11:16:43.939Z"
   },
   {
    "duration": 1425,
    "start_time": "2022-09-15T11:16:45.076Z"
   },
   {
    "duration": 567,
    "start_time": "2022-09-15T11:16:46.504Z"
   },
   {
    "duration": 6,
    "start_time": "2022-09-15T11:16:47.072Z"
   },
   {
    "duration": 16,
    "start_time": "2022-09-15T11:16:47.080Z"
   },
   {
    "duration": 7,
    "start_time": "2022-09-15T11:16:47.098Z"
   },
   {
    "duration": 7,
    "start_time": "2022-09-15T11:16:47.106Z"
   },
   {
    "duration": 4,
    "start_time": "2022-09-15T11:16:47.114Z"
   },
   {
    "duration": 4,
    "start_time": "2022-09-15T11:16:47.120Z"
   },
   {
    "duration": 496,
    "start_time": "2022-09-15T11:16:47.126Z"
   },
   {
    "duration": 9,
    "start_time": "2022-09-15T11:16:47.623Z"
   },
   {
    "duration": 10,
    "start_time": "2022-09-15T11:16:47.634Z"
   },
   {
    "duration": 9,
    "start_time": "2022-09-15T11:16:47.646Z"
   },
   {
    "duration": 6,
    "start_time": "2022-09-15T11:16:47.656Z"
   },
   {
    "duration": 7,
    "start_time": "2022-09-15T11:16:47.663Z"
   },
   {
    "duration": 23,
    "start_time": "2022-09-15T11:16:47.671Z"
   },
   {
    "duration": 5,
    "start_time": "2022-09-15T11:16:47.696Z"
   },
   {
    "duration": 8,
    "start_time": "2022-09-15T11:16:47.702Z"
   },
   {
    "duration": 5,
    "start_time": "2022-09-15T11:16:47.712Z"
   },
   {
    "duration": 15139,
    "start_time": "2022-09-15T11:16:47.719Z"
   },
   {
    "duration": 7,
    "start_time": "2022-09-15T11:17:02.860Z"
   },
   {
    "duration": 14,
    "start_time": "2022-09-15T11:17:02.869Z"
   },
   {
    "duration": 358,
    "start_time": "2022-09-15T11:17:02.885Z"
   },
   {
    "duration": 3959168,
    "start_time": "2022-09-15T11:17:03.245Z"
   },
   {
    "duration": 5,
    "start_time": "2022-09-15T12:23:02.416Z"
   },
   {
    "duration": 386,
    "start_time": "2022-09-15T12:23:02.423Z"
   },
   {
    "duration": 14,
    "start_time": "2022-09-16T11:48:43.660Z"
   },
   {
    "duration": 3,
    "start_time": "2022-09-16T11:48:44.012Z"
   },
   {
    "duration": 8,
    "start_time": "2022-09-16T11:48:44.435Z"
   },
   {
    "duration": 2377,
    "start_time": "2022-09-19T06:16:36.067Z"
   },
   {
    "duration": 73,
    "start_time": "2022-09-19T06:16:38.448Z"
   },
   {
    "duration": 24,
    "start_time": "2022-09-19T06:16:38.523Z"
   },
   {
    "duration": 23,
    "start_time": "2022-09-19T06:16:38.549Z"
   },
   {
    "duration": 11,
    "start_time": "2022-09-19T06:16:38.575Z"
   },
   {
    "duration": 14,
    "start_time": "2022-09-19T06:16:38.588Z"
   },
   {
    "duration": 42,
    "start_time": "2022-09-19T06:16:38.604Z"
   },
   {
    "duration": 7,
    "start_time": "2022-09-19T06:16:38.647Z"
   },
   {
    "duration": 27,
    "start_time": "2022-09-19T06:16:38.656Z"
   },
   {
    "duration": 3,
    "start_time": "2022-09-19T06:16:38.684Z"
   },
   {
    "duration": 880,
    "start_time": "2022-09-19T06:16:38.689Z"
   },
   {
    "duration": 1176,
    "start_time": "2022-09-19T06:16:39.571Z"
   },
   {
    "duration": 1410,
    "start_time": "2022-09-19T06:16:40.749Z"
   },
   {
    "duration": 598,
    "start_time": "2022-09-19T06:16:42.162Z"
   },
   {
    "duration": 5,
    "start_time": "2022-09-19T06:16:42.762Z"
   },
   {
    "duration": 9,
    "start_time": "2022-09-19T06:16:42.769Z"
   },
   {
    "duration": 12,
    "start_time": "2022-09-19T06:16:42.780Z"
   },
   {
    "duration": 50,
    "start_time": "2022-09-19T06:16:42.794Z"
   },
   {
    "duration": 24,
    "start_time": "2022-09-19T06:16:53.906Z"
   },
   {
    "duration": 10,
    "start_time": "2022-09-19T06:16:54.105Z"
   },
   {
    "duration": 523,
    "start_time": "2022-09-19T06:16:54.299Z"
   },
   {
    "duration": 10,
    "start_time": "2022-09-19T06:16:59.944Z"
   },
   {
    "duration": 14,
    "start_time": "2022-09-19T06:17:02.105Z"
   },
   {
    "duration": 9,
    "start_time": "2022-09-19T06:17:02.536Z"
   },
   {
    "duration": 4,
    "start_time": "2022-09-19T06:17:03.596Z"
   },
   {
    "duration": 5,
    "start_time": "2022-09-19T06:17:04.136Z"
   },
   {
    "duration": 11,
    "start_time": "2022-09-19T06:32:34.442Z"
   },
   {
    "duration": 5,
    "start_time": "2022-09-19T06:32:35.952Z"
   },
   {
    "duration": 7,
    "start_time": "2022-09-19T06:32:37.725Z"
   },
   {
    "duration": 3,
    "start_time": "2022-09-19T06:32:44.933Z"
   },
   {
    "duration": 5,
    "start_time": "2022-09-19T06:32:45.429Z"
   },
   {
    "duration": 7,
    "start_time": "2022-09-19T06:34:34.537Z"
   },
   {
    "duration": 4,
    "start_time": "2022-09-19T06:34:37.402Z"
   },
   {
    "duration": 4,
    "start_time": "2022-09-19T06:34:37.852Z"
   },
   {
    "duration": 212,
    "start_time": "2022-09-19T06:34:39.034Z"
   },
   {
    "duration": 14,
    "start_time": "2022-09-19T06:35:43.401Z"
   },
   {
    "duration": 59,
    "start_time": "2022-09-19T06:35:57.006Z"
   },
   {
    "duration": 10,
    "start_time": "2022-09-19T06:36:27.225Z"
   },
   {
    "duration": 3,
    "start_time": "2022-09-19T06:36:50.450Z"
   },
   {
    "duration": 4,
    "start_time": "2022-09-19T06:36:50.696Z"
   },
   {
    "duration": 28,
    "start_time": "2022-09-19T06:36:51.761Z"
   },
   {
    "duration": 3,
    "start_time": "2022-09-19T06:37:13.661Z"
   },
   {
    "duration": 4,
    "start_time": "2022-09-19T06:37:14.355Z"
   },
   {
    "duration": 90,
    "start_time": "2022-09-19T06:37:15.806Z"
   },
   {
    "duration": 6,
    "start_time": "2022-09-19T06:38:11.539Z"
   },
   {
    "duration": 9,
    "start_time": "2022-09-19T06:38:14.811Z"
   },
   {
    "duration": 4,
    "start_time": "2022-09-19T06:38:16.061Z"
   },
   {
    "duration": 1429,
    "start_time": "2022-09-19T06:38:41.641Z"
   },
   {
    "duration": 4,
    "start_time": "2022-09-19T06:39:19.840Z"
   },
   {
    "duration": 6,
    "start_time": "2022-09-19T06:39:24.409Z"
   },
   {
    "duration": 28455,
    "start_time": "2022-09-19T06:39:26.506Z"
   },
   {
    "duration": 5,
    "start_time": "2022-09-19T06:41:03.266Z"
   },
   {
    "duration": 4,
    "start_time": "2022-09-19T06:41:09.849Z"
   },
   {
    "duration": 6028,
    "start_time": "2022-09-19T06:41:11.353Z"
   },
   {
    "duration": 3,
    "start_time": "2022-09-19T06:42:17.576Z"
   },
   {
    "duration": 4,
    "start_time": "2022-09-19T06:42:22.368Z"
   },
   {
    "duration": 5992,
    "start_time": "2022-09-19T06:42:23.257Z"
   },
   {
    "duration": 4,
    "start_time": "2022-09-19T06:43:00.377Z"
   },
   {
    "duration": 5,
    "start_time": "2022-09-19T06:43:07.059Z"
   },
   {
    "duration": 5083,
    "start_time": "2022-09-19T06:43:08.607Z"
   },
   {
    "duration": 4,
    "start_time": "2022-09-19T06:43:48.040Z"
   },
   {
    "duration": 3,
    "start_time": "2022-09-19T06:43:51.737Z"
   },
   {
    "duration": 5,
    "start_time": "2022-09-19T06:43:51.973Z"
   },
   {
    "duration": 5150,
    "start_time": "2022-09-19T06:43:53.132Z"
   },
   {
    "duration": 4,
    "start_time": "2022-09-19T06:45:30.233Z"
   },
   {
    "duration": 5,
    "start_time": "2022-09-19T06:45:44.061Z"
   },
   {
    "duration": 5613,
    "start_time": "2022-09-19T06:45:55.042Z"
   },
   {
    "duration": 3,
    "start_time": "2022-09-19T06:47:54.869Z"
   },
   {
    "duration": 4,
    "start_time": "2022-09-19T06:47:55.856Z"
   },
   {
    "duration": 5,
    "start_time": "2022-09-19T06:47:56.753Z"
   },
   {
    "duration": 3,
    "start_time": "2022-09-19T06:47:59.061Z"
   },
   {
    "duration": 9,
    "start_time": "2022-09-19T06:47:59.522Z"
   },
   {
    "duration": 7247,
    "start_time": "2022-09-19T06:48:00.934Z"
   },
   {
    "duration": 3,
    "start_time": "2022-09-19T06:49:22.574Z"
   },
   {
    "duration": 17,
    "start_time": "2022-09-19T06:49:23.304Z"
   },
   {
    "duration": 11,
    "start_time": "2022-09-19T06:49:24.561Z"
   },
   {
    "duration": 5,
    "start_time": "2022-09-19T06:49:25.807Z"
   },
   {
    "duration": 4,
    "start_time": "2022-09-19T06:49:26.228Z"
   },
   {
    "duration": 28310,
    "start_time": "2022-09-19T06:49:27.442Z"
   },
   {
    "duration": 4,
    "start_time": "2022-09-19T06:52:57.067Z"
   },
   {
    "duration": 4,
    "start_time": "2022-09-19T06:52:57.468Z"
   },
   {
    "duration": 5,
    "start_time": "2022-09-19T06:52:57.650Z"
   },
   {
    "duration": 20,
    "start_time": "2022-09-19T06:53:00.307Z"
   },
   {
    "duration": 9,
    "start_time": "2022-09-19T06:53:00.822Z"
   },
   {
    "duration": 6328,
    "start_time": "2022-09-19T06:53:02.625Z"
   },
   {
    "duration": 3,
    "start_time": "2022-09-19T06:55:27.962Z"
   },
   {
    "duration": 5,
    "start_time": "2022-09-19T06:55:28.449Z"
   },
   {
    "duration": 5,
    "start_time": "2022-09-19T06:55:29.177Z"
   },
   {
    "duration": 7,
    "start_time": "2022-09-19T06:55:30.207Z"
   },
   {
    "duration": 4,
    "start_time": "2022-09-19T06:55:30.903Z"
   },
   {
    "duration": 8103,
    "start_time": "2022-09-19T06:55:32.279Z"
   },
   {
    "duration": 4,
    "start_time": "2022-09-19T06:56:10.148Z"
   },
   {
    "duration": 5,
    "start_time": "2022-09-19T06:56:10.651Z"
   },
   {
    "duration": 6,
    "start_time": "2022-09-19T06:56:11.171Z"
   },
   {
    "duration": 3,
    "start_time": "2022-09-19T06:56:15.265Z"
   },
   {
    "duration": 8,
    "start_time": "2022-09-19T06:56:16.307Z"
   },
   {
    "duration": 23520,
    "start_time": "2022-09-19T06:56:17.468Z"
   },
   {
    "duration": 13,
    "start_time": "2022-09-19T07:07:37.852Z"
   },
   {
    "duration": 5,
    "start_time": "2022-09-19T07:07:38.195Z"
   },
   {
    "duration": 5,
    "start_time": "2022-09-19T07:07:38.441Z"
   },
   {
    "duration": 3,
    "start_time": "2022-09-19T07:07:39.536Z"
   },
   {
    "duration": 5,
    "start_time": "2022-09-19T07:07:39.987Z"
   },
   {
    "duration": 22825,
    "start_time": "2022-09-19T07:08:08.236Z"
   },
   {
    "duration": 5,
    "start_time": "2022-09-19T07:10:32.444Z"
   },
   {
    "duration": 4,
    "start_time": "2022-09-19T07:10:37.403Z"
   },
   {
    "duration": 5,
    "start_time": "2022-09-19T07:10:37.843Z"
   },
   {
    "duration": 6,
    "start_time": "2022-09-19T07:10:38.045Z"
   },
   {
    "duration": 3,
    "start_time": "2022-09-19T07:10:39.765Z"
   },
   {
    "duration": 4,
    "start_time": "2022-09-19T07:10:40.254Z"
   },
   {
    "duration": 8195,
    "start_time": "2022-09-19T07:10:45.096Z"
   },
   {
    "duration": 3,
    "start_time": "2022-09-19T07:12:58.943Z"
   },
   {
    "duration": 7,
    "start_time": "2022-09-19T07:12:59.523Z"
   },
   {
    "duration": 6,
    "start_time": "2022-09-19T07:12:59.770Z"
   },
   {
    "duration": 3,
    "start_time": "2022-09-19T07:13:03.296Z"
   },
   {
    "duration": 5,
    "start_time": "2022-09-19T07:13:03.633Z"
   },
   {
    "duration": 14930,
    "start_time": "2022-09-19T07:13:05.238Z"
   },
   {
    "duration": 4,
    "start_time": "2022-09-19T07:14:51.468Z"
   },
   {
    "duration": 4,
    "start_time": "2022-09-19T07:14:51.948Z"
   },
   {
    "duration": 5,
    "start_time": "2022-09-19T07:14:52.216Z"
   },
   {
    "duration": 3,
    "start_time": "2022-09-19T07:14:53.028Z"
   },
   {
    "duration": 3,
    "start_time": "2022-09-19T07:14:53.204Z"
   },
   {
    "duration": 21361,
    "start_time": "2022-09-19T07:14:54.516Z"
   },
   {
    "duration": 4,
    "start_time": "2022-09-19T07:16:27.560Z"
   },
   {
    "duration": 4,
    "start_time": "2022-09-19T07:16:27.944Z"
   },
   {
    "duration": 5,
    "start_time": "2022-09-19T07:16:28.137Z"
   },
   {
    "duration": 3,
    "start_time": "2022-09-19T07:16:29.040Z"
   },
   {
    "duration": 6,
    "start_time": "2022-09-19T07:16:29.549Z"
   },
   {
    "duration": 7041,
    "start_time": "2022-09-19T07:16:30.943Z"
   },
   {
    "duration": 3,
    "start_time": "2022-09-19T07:17:00.947Z"
   },
   {
    "duration": 4,
    "start_time": "2022-09-19T07:17:01.340Z"
   },
   {
    "duration": 5,
    "start_time": "2022-09-19T07:17:01.551Z"
   },
   {
    "duration": 3,
    "start_time": "2022-09-19T07:17:02.443Z"
   },
   {
    "duration": 3,
    "start_time": "2022-09-19T07:17:02.968Z"
   },
   {
    "duration": 13870,
    "start_time": "2022-09-19T07:17:04.319Z"
   },
   {
    "duration": 4,
    "start_time": "2022-09-19T07:18:11.136Z"
   },
   {
    "duration": 7,
    "start_time": "2022-09-19T07:18:12.739Z"
   },
   {
    "duration": 5,
    "start_time": "2022-09-19T07:18:17.515Z"
   },
   {
    "duration": 2,
    "start_time": "2022-09-19T07:18:18.211Z"
   },
   {
    "duration": 3,
    "start_time": "2022-09-19T07:18:18.940Z"
   },
   {
    "duration": 21225,
    "start_time": "2022-09-19T07:18:20.415Z"
   },
   {
    "duration": 3,
    "start_time": "2022-09-19T07:19:18.954Z"
   },
   {
    "duration": 5,
    "start_time": "2022-09-19T07:19:19.318Z"
   },
   {
    "duration": 5,
    "start_time": "2022-09-19T07:19:19.515Z"
   },
   {
    "duration": 3,
    "start_time": "2022-09-19T07:19:20.306Z"
   },
   {
    "duration": 4,
    "start_time": "2022-09-19T07:19:20.914Z"
   },
   {
    "duration": 20713,
    "start_time": "2022-09-19T07:19:22.059Z"
   },
   {
    "duration": 4,
    "start_time": "2022-09-19T07:21:00.706Z"
   },
   {
    "duration": 5,
    "start_time": "2022-09-19T07:21:01.318Z"
   },
   {
    "duration": 5,
    "start_time": "2022-09-19T07:21:01.522Z"
   },
   {
    "duration": 4,
    "start_time": "2022-09-19T07:21:02.858Z"
   },
   {
    "duration": 4,
    "start_time": "2022-09-19T07:21:03.406Z"
   },
   {
    "duration": 20791,
    "start_time": "2022-09-19T07:21:17.242Z"
   },
   {
    "duration": 5,
    "start_time": "2022-09-19T07:21:38.035Z"
   },
   {
    "duration": 42,
    "start_time": "2022-09-19T07:21:38.042Z"
   },
   {
    "duration": 298,
    "start_time": "2022-09-19T07:21:38.086Z"
   },
   {
    "duration": 15,
    "start_time": "2022-09-19T07:45:38.019Z"
   },
   {
    "duration": 109700,
    "start_time": "2022-09-19T07:54:38.728Z"
   },
   {
    "duration": 723752,
    "start_time": "2022-09-19T07:56:30.864Z"
   },
   {
    "duration": 4,
    "start_time": "2022-09-19T08:09:31.167Z"
   },
   {
    "duration": 42221,
    "start_time": "2022-09-19T08:10:49.606Z"
   },
   {
    "duration": 18294,
    "start_time": "2022-09-19T08:11:43.125Z"
   },
   {
    "duration": 267891,
    "start_time": "2022-09-19T08:12:09.340Z"
   },
   {
    "duration": 0,
    "start_time": "2022-09-19T08:16:37.232Z"
   },
   {
    "duration": 1880,
    "start_time": "2022-09-19T08:16:56.701Z"
   },
   {
    "duration": 0,
    "start_time": "2022-09-19T08:16:58.583Z"
   },
   {
    "duration": 0,
    "start_time": "2022-09-19T08:16:58.584Z"
   },
   {
    "duration": 0,
    "start_time": "2022-09-19T08:16:58.584Z"
   },
   {
    "duration": 0,
    "start_time": "2022-09-19T08:16:58.585Z"
   },
   {
    "duration": 0,
    "start_time": "2022-09-19T08:16:58.586Z"
   },
   {
    "duration": 0,
    "start_time": "2022-09-19T08:16:58.587Z"
   },
   {
    "duration": 0,
    "start_time": "2022-09-19T08:16:58.588Z"
   },
   {
    "duration": 0,
    "start_time": "2022-09-19T08:16:58.589Z"
   },
   {
    "duration": 0,
    "start_time": "2022-09-19T08:16:58.590Z"
   },
   {
    "duration": 0,
    "start_time": "2022-09-19T08:16:58.592Z"
   },
   {
    "duration": 0,
    "start_time": "2022-09-19T08:16:58.593Z"
   },
   {
    "duration": 0,
    "start_time": "2022-09-19T08:16:58.609Z"
   },
   {
    "duration": 0,
    "start_time": "2022-09-19T08:16:58.610Z"
   },
   {
    "duration": 0,
    "start_time": "2022-09-19T08:16:58.612Z"
   },
   {
    "duration": 0,
    "start_time": "2022-09-19T08:16:58.613Z"
   },
   {
    "duration": 0,
    "start_time": "2022-09-19T08:16:58.614Z"
   },
   {
    "duration": 0,
    "start_time": "2022-09-19T08:16:58.616Z"
   },
   {
    "duration": 0,
    "start_time": "2022-09-19T08:16:58.618Z"
   },
   {
    "duration": 0,
    "start_time": "2022-09-19T08:16:58.619Z"
   },
   {
    "duration": 0,
    "start_time": "2022-09-19T08:16:58.620Z"
   },
   {
    "duration": 0,
    "start_time": "2022-09-19T08:16:58.622Z"
   },
   {
    "duration": 1835,
    "start_time": "2022-09-19T08:17:22.013Z"
   },
   {
    "duration": 59,
    "start_time": "2022-09-19T08:17:23.850Z"
   },
   {
    "duration": 12,
    "start_time": "2022-09-19T08:17:23.911Z"
   },
   {
    "duration": 21,
    "start_time": "2022-09-19T08:17:23.924Z"
   },
   {
    "duration": 13,
    "start_time": "2022-09-19T08:17:23.947Z"
   },
   {
    "duration": 19,
    "start_time": "2022-09-19T08:17:23.961Z"
   },
   {
    "duration": 9,
    "start_time": "2022-09-19T08:17:23.981Z"
   },
   {
    "duration": 10,
    "start_time": "2022-09-19T08:17:23.991Z"
   },
   {
    "duration": 23,
    "start_time": "2022-09-19T08:17:24.002Z"
   },
   {
    "duration": 3,
    "start_time": "2022-09-19T08:17:24.027Z"
   },
   {
    "duration": 873,
    "start_time": "2022-09-19T08:17:24.031Z"
   },
   {
    "duration": 1006,
    "start_time": "2022-09-19T08:17:24.908Z"
   },
   {
    "duration": 1231,
    "start_time": "2022-09-19T08:17:25.916Z"
   },
   {
    "duration": 480,
    "start_time": "2022-09-19T08:17:27.149Z"
   },
   {
    "duration": 5,
    "start_time": "2022-09-19T08:17:27.631Z"
   },
   {
    "duration": 20,
    "start_time": "2022-09-19T08:17:27.637Z"
   },
   {
    "duration": 20,
    "start_time": "2022-09-19T08:17:27.659Z"
   },
   {
    "duration": 12,
    "start_time": "2022-09-19T08:17:27.680Z"
   },
   {
    "duration": 6,
    "start_time": "2022-09-19T08:17:27.693Z"
   },
   {
    "duration": 6,
    "start_time": "2022-09-19T08:17:27.700Z"
   },
   {
    "duration": 447,
    "start_time": "2022-09-19T08:17:27.707Z"
   },
   {
    "duration": 44,
    "start_time": "2022-09-19T08:17:28.156Z"
   },
   {
    "duration": 65,
    "start_time": "2022-09-19T08:18:54.825Z"
   },
   {
    "duration": 10,
    "start_time": "2022-09-19T08:19:09.210Z"
   },
   {
    "duration": 10,
    "start_time": "2022-09-19T08:20:00.469Z"
   },
   {
    "duration": 12,
    "start_time": "2022-09-19T08:20:20.321Z"
   },
   {
    "duration": 12,
    "start_time": "2022-09-19T08:20:40.851Z"
   },
   {
    "duration": 4,
    "start_time": "2022-09-19T08:23:04.940Z"
   },
   {
    "duration": 4,
    "start_time": "2022-09-19T08:23:06.016Z"
   },
   {
    "duration": 5,
    "start_time": "2022-09-19T08:23:06.649Z"
   },
   {
    "duration": 147,
    "start_time": "2022-09-19T08:23:09.515Z"
   },
   {
    "duration": 1851,
    "start_time": "2022-09-19T08:47:33.635Z"
   },
   {
    "duration": 34,
    "start_time": "2022-09-19T08:47:35.487Z"
   },
   {
    "duration": 11,
    "start_time": "2022-09-19T08:47:35.523Z"
   },
   {
    "duration": 22,
    "start_time": "2022-09-19T08:47:35.535Z"
   },
   {
    "duration": 18,
    "start_time": "2022-09-19T08:47:35.559Z"
   },
   {
    "duration": 21,
    "start_time": "2022-09-19T08:47:35.579Z"
   },
   {
    "duration": 17,
    "start_time": "2022-09-19T08:47:35.601Z"
   },
   {
    "duration": 10,
    "start_time": "2022-09-19T08:47:35.620Z"
   },
   {
    "duration": 23,
    "start_time": "2022-09-19T08:47:35.631Z"
   },
   {
    "duration": 2,
    "start_time": "2022-09-19T08:47:35.655Z"
   },
   {
    "duration": 812,
    "start_time": "2022-09-19T08:47:35.659Z"
   },
   {
    "duration": 1027,
    "start_time": "2022-09-19T08:47:36.473Z"
   },
   {
    "duration": 1233,
    "start_time": "2022-09-19T08:47:37.502Z"
   },
   {
    "duration": 456,
    "start_time": "2022-09-19T08:47:38.737Z"
   },
   {
    "duration": 5,
    "start_time": "2022-09-19T08:47:39.194Z"
   },
   {
    "duration": 5,
    "start_time": "2022-09-19T08:47:39.209Z"
   },
   {
    "duration": 9,
    "start_time": "2022-09-19T08:47:39.216Z"
   },
   {
    "duration": 13,
    "start_time": "2022-09-19T08:47:39.227Z"
   },
   {
    "duration": 7,
    "start_time": "2022-09-19T08:47:39.241Z"
   },
   {
    "duration": 17,
    "start_time": "2022-09-19T08:47:39.250Z"
   },
   {
    "duration": 429,
    "start_time": "2022-09-19T08:47:39.268Z"
   },
   {
    "duration": 16,
    "start_time": "2022-09-19T08:47:39.699Z"
   },
   {
    "duration": 21,
    "start_time": "2022-09-19T08:47:39.716Z"
   },
   {
    "duration": 20,
    "start_time": "2022-09-19T08:47:39.739Z"
   },
   {
    "duration": 7,
    "start_time": "2022-09-19T08:47:39.761Z"
   },
   {
    "duration": 11,
    "start_time": "2022-09-19T08:47:39.770Z"
   },
   {
    "duration": 3,
    "start_time": "2022-09-19T08:47:43.511Z"
   },
   {
    "duration": 4,
    "start_time": "2022-09-19T08:47:44.718Z"
   },
   {
    "duration": 6,
    "start_time": "2022-09-19T08:47:53.288Z"
   },
   {
    "duration": 3,
    "start_time": "2022-09-19T08:48:07.143Z"
   },
   {
    "duration": 4,
    "start_time": "2022-09-19T08:48:13.149Z"
   },
   {
    "duration": 2711,
    "start_time": "2022-09-19T08:48:14.861Z"
   },
   {
    "duration": 1750,
    "start_time": "2022-09-19T08:48:49.347Z"
   },
   {
    "duration": 3,
    "start_time": "2022-09-19T08:48:58.555Z"
   },
   {
    "duration": 4,
    "start_time": "2022-09-19T08:48:58.935Z"
   },
   {
    "duration": 6,
    "start_time": "2022-09-19T08:48:59.116Z"
   },
   {
    "duration": 2,
    "start_time": "2022-09-19T08:49:00.117Z"
   },
   {
    "duration": 3,
    "start_time": "2022-09-19T08:49:00.536Z"
   },
   {
    "duration": 3349,
    "start_time": "2022-09-19T08:49:02.156Z"
   },
   {
    "duration": 996,
    "start_time": "2022-09-19T08:49:28.057Z"
   },
   {
    "duration": 4,
    "start_time": "2022-09-19T08:49:34.721Z"
   },
   {
    "duration": 4,
    "start_time": "2022-09-19T08:49:35.105Z"
   },
   {
    "duration": 5,
    "start_time": "2022-09-19T08:49:35.277Z"
   },
   {
    "duration": 3,
    "start_time": "2022-09-19T08:49:36.042Z"
   },
   {
    "duration": 4,
    "start_time": "2022-09-19T08:49:36.271Z"
   },
   {
    "duration": 2338,
    "start_time": "2022-09-19T08:49:37.435Z"
   },
   {
    "duration": 4,
    "start_time": "2022-09-19T08:50:04.117Z"
   },
   {
    "duration": 4,
    "start_time": "2022-09-19T08:50:04.709Z"
   },
   {
    "duration": 242,
    "start_time": "2022-09-19T08:50:06.135Z"
   },
   {
    "duration": 53267,
    "start_time": "2022-09-19T08:51:04.944Z"
   },
   {
    "duration": 561310,
    "start_time": "2022-09-19T08:52:48.718Z"
   },
   {
    "duration": 81,
    "start_time": "2022-09-19T09:02:10.030Z"
   },
   {
    "duration": 4,
    "start_time": "2022-09-19T09:04:09.474Z"
   },
   {
    "duration": 5,
    "start_time": "2022-09-19T09:04:09.867Z"
   },
   {
    "duration": 5,
    "start_time": "2022-09-19T09:04:10.054Z"
   },
   {
    "duration": 3,
    "start_time": "2022-09-19T09:04:10.963Z"
   },
   {
    "duration": 5,
    "start_time": "2022-09-19T09:04:11.142Z"
   },
   {
    "duration": 5309,
    "start_time": "2022-09-19T09:04:12.775Z"
   },
   {
    "duration": 3,
    "start_time": "2022-09-19T09:04:46.651Z"
   },
   {
    "duration": 4,
    "start_time": "2022-09-19T09:04:47.018Z"
   },
   {
    "duration": 5,
    "start_time": "2022-09-19T09:04:47.175Z"
   },
   {
    "duration": 3,
    "start_time": "2022-09-19T09:04:47.575Z"
   },
   {
    "duration": 4,
    "start_time": "2022-09-19T09:04:47.874Z"
   },
   {
    "duration": 5543,
    "start_time": "2022-09-19T09:04:48.755Z"
   },
   {
    "duration": 3,
    "start_time": "2022-09-19T09:05:16.984Z"
   },
   {
    "duration": 4,
    "start_time": "2022-09-19T09:05:17.367Z"
   },
   {
    "duration": 5,
    "start_time": "2022-09-19T09:05:17.514Z"
   },
   {
    "duration": 3,
    "start_time": "2022-09-19T09:05:17.854Z"
   },
   {
    "duration": 4,
    "start_time": "2022-09-19T09:05:18.017Z"
   },
   {
    "duration": 18362,
    "start_time": "2022-09-19T09:05:18.397Z"
   },
   {
    "duration": 42154,
    "start_time": "2022-09-19T09:05:56.677Z"
   },
   {
    "duration": 145601,
    "start_time": "2022-09-19T09:06:46.236Z"
   },
   {
    "duration": 3,
    "start_time": "2022-09-19T09:09:32.735Z"
   },
   {
    "duration": 4,
    "start_time": "2022-09-19T09:09:33.428Z"
   },
   {
    "duration": 5,
    "start_time": "2022-09-19T09:09:33.632Z"
   },
   {
    "duration": 3,
    "start_time": "2022-09-19T09:09:35.176Z"
   },
   {
    "duration": 4,
    "start_time": "2022-09-19T09:09:37.663Z"
   },
   {
    "duration": 16435,
    "start_time": "2022-09-19T09:09:40.507Z"
   },
   {
    "duration": 1471072,
    "start_time": "2022-09-19T09:10:44.957Z"
   },
   {
    "duration": 11230,
    "start_time": "2022-09-19T09:35:18.124Z"
   },
   {
    "duration": 1497672,
    "start_time": "2022-09-19T09:45:20.648Z"
   },
   {
    "duration": 20568,
    "start_time": "2022-09-19T10:41:06.749Z"
   },
   {
    "duration": 366765,
    "start_time": "2022-09-19T10:41:40.167Z"
   },
   {
    "duration": 55,
    "start_time": "2022-09-20T07:48:03.715Z"
   },
   {
    "duration": 2213,
    "start_time": "2022-09-20T07:48:18.356Z"
   },
   {
    "duration": 91,
    "start_time": "2022-09-20T07:48:20.571Z"
   },
   {
    "duration": 13,
    "start_time": "2022-09-20T07:48:20.664Z"
   },
   {
    "duration": 17,
    "start_time": "2022-09-20T07:48:20.679Z"
   },
   {
    "duration": 9,
    "start_time": "2022-09-20T07:48:20.699Z"
   },
   {
    "duration": 13,
    "start_time": "2022-09-20T07:48:20.709Z"
   },
   {
    "duration": 8,
    "start_time": "2022-09-20T07:48:20.724Z"
   },
   {
    "duration": 5,
    "start_time": "2022-09-20T07:48:20.734Z"
   },
   {
    "duration": 48,
    "start_time": "2022-09-20T07:48:20.741Z"
   },
   {
    "duration": 3,
    "start_time": "2022-09-20T07:48:20.791Z"
   },
   {
    "duration": 905,
    "start_time": "2022-09-20T07:48:20.796Z"
   },
   {
    "duration": 1147,
    "start_time": "2022-09-20T07:48:21.702Z"
   },
   {
    "duration": 1358,
    "start_time": "2022-09-20T07:48:22.851Z"
   },
   {
    "duration": 530,
    "start_time": "2022-09-20T07:48:24.212Z"
   },
   {
    "duration": 5,
    "start_time": "2022-09-20T07:48:24.744Z"
   },
   {
    "duration": 8,
    "start_time": "2022-09-20T07:48:24.751Z"
   },
   {
    "duration": 31,
    "start_time": "2022-09-20T07:48:24.760Z"
   },
   {
    "duration": 7,
    "start_time": "2022-09-20T07:48:24.792Z"
   },
   {
    "duration": 5,
    "start_time": "2022-09-20T07:48:24.801Z"
   },
   {
    "duration": 6,
    "start_time": "2022-09-20T07:48:24.807Z"
   },
   {
    "duration": 493,
    "start_time": "2022-09-20T07:48:24.815Z"
   },
   {
    "duration": 13,
    "start_time": "2022-09-20T07:48:25.310Z"
   },
   {
    "duration": 8,
    "start_time": "2022-09-20T07:48:25.324Z"
   },
   {
    "duration": 11,
    "start_time": "2022-09-20T07:48:25.334Z"
   },
   {
    "duration": 11,
    "start_time": "2022-09-20T07:48:25.346Z"
   },
   {
    "duration": 5,
    "start_time": "2022-09-20T07:48:25.389Z"
   },
   {
    "duration": 20,
    "start_time": "2022-09-20T07:48:25.396Z"
   },
   {
    "duration": 6,
    "start_time": "2022-09-20T07:48:25.417Z"
   },
   {
    "duration": 6,
    "start_time": "2022-09-20T07:48:25.425Z"
   },
   {
    "duration": 3,
    "start_time": "2022-09-20T07:55:06.883Z"
   },
   {
    "duration": 5,
    "start_time": "2022-09-20T07:55:10.275Z"
   },
   {
    "duration": 41164,
    "start_time": "2022-09-20T07:55:14.635Z"
   },
   {
    "duration": 5,
    "start_time": "2022-09-20T07:56:54.195Z"
   },
   {
    "duration": 4,
    "start_time": "2022-09-20T07:56:57.286Z"
   },
   {
    "duration": 37130,
    "start_time": "2022-09-20T07:56:59.762Z"
   },
   {
    "duration": 2073,
    "start_time": "2022-09-20T07:58:40.752Z"
   },
   {
    "duration": 62,
    "start_time": "2022-09-20T07:58:42.827Z"
   },
   {
    "duration": 14,
    "start_time": "2022-09-20T07:58:42.890Z"
   },
   {
    "duration": 25,
    "start_time": "2022-09-20T07:58:42.906Z"
   },
   {
    "duration": 11,
    "start_time": "2022-09-20T07:58:42.933Z"
   },
   {
    "duration": 19,
    "start_time": "2022-09-20T07:58:42.946Z"
   },
   {
    "duration": 23,
    "start_time": "2022-09-20T07:58:42.967Z"
   },
   {
    "duration": 3,
    "start_time": "2022-09-20T07:58:42.992Z"
   },
   {
    "duration": 28,
    "start_time": "2022-09-20T07:58:42.996Z"
   },
   {
    "duration": 3,
    "start_time": "2022-09-20T07:58:43.026Z"
   },
   {
    "duration": 907,
    "start_time": "2022-09-20T07:58:43.030Z"
   },
   {
    "duration": 1107,
    "start_time": "2022-09-20T07:58:43.939Z"
   },
   {
    "duration": 1478,
    "start_time": "2022-09-20T07:58:45.048Z"
   },
   {
    "duration": 578,
    "start_time": "2022-09-20T07:58:46.529Z"
   },
   {
    "duration": 7,
    "start_time": "2022-09-20T07:58:47.108Z"
   },
   {
    "duration": 13,
    "start_time": "2022-09-20T07:58:47.117Z"
   },
   {
    "duration": 10,
    "start_time": "2022-09-20T07:58:47.132Z"
   },
   {
    "duration": 9,
    "start_time": "2022-09-20T07:58:47.143Z"
   },
   {
    "duration": 7,
    "start_time": "2022-09-20T07:58:47.153Z"
   },
   {
    "duration": 29,
    "start_time": "2022-09-20T07:58:47.162Z"
   },
   {
    "duration": 533,
    "start_time": "2022-09-20T07:58:47.192Z"
   },
   {
    "duration": 174,
    "start_time": "2022-09-20T07:58:47.727Z"
   },
   {
    "duration": 0,
    "start_time": "2022-09-20T07:58:47.902Z"
   },
   {
    "duration": 0,
    "start_time": "2022-09-20T07:58:47.904Z"
   },
   {
    "duration": 0,
    "start_time": "2022-09-20T07:58:47.905Z"
   },
   {
    "duration": 0,
    "start_time": "2022-09-20T07:58:47.906Z"
   },
   {
    "duration": 0,
    "start_time": "2022-09-20T07:58:47.907Z"
   },
   {
    "duration": 0,
    "start_time": "2022-09-20T07:58:47.908Z"
   },
   {
    "duration": 0,
    "start_time": "2022-09-20T07:58:47.909Z"
   },
   {
    "duration": 0,
    "start_time": "2022-09-20T07:58:47.911Z"
   },
   {
    "duration": 0,
    "start_time": "2022-09-20T07:58:47.912Z"
   },
   {
    "duration": 0,
    "start_time": "2022-09-20T07:58:47.913Z"
   },
   {
    "duration": 9,
    "start_time": "2022-09-20T07:59:05.712Z"
   },
   {
    "duration": 8,
    "start_time": "2022-09-20T07:59:07.064Z"
   },
   {
    "duration": 10,
    "start_time": "2022-09-20T07:59:07.520Z"
   },
   {
    "duration": 5,
    "start_time": "2022-09-20T07:59:08.192Z"
   },
   {
    "duration": 4,
    "start_time": "2022-09-20T07:59:08.373Z"
   },
   {
    "duration": 4,
    "start_time": "2022-09-20T07:59:10.184Z"
   },
   {
    "duration": 6,
    "start_time": "2022-09-20T07:59:10.700Z"
   },
   {
    "duration": 5,
    "start_time": "2022-09-20T07:59:10.920Z"
   },
   {
    "duration": 6,
    "start_time": "2022-09-20T07:59:13.004Z"
   },
   {
    "duration": 4,
    "start_time": "2022-09-20T07:59:13.484Z"
   },
   {
    "duration": 27424,
    "start_time": "2022-09-20T07:59:15.084Z"
   },
   {
    "duration": 5,
    "start_time": "2022-09-20T08:11:31.188Z"
   },
   {
    "duration": 4,
    "start_time": "2022-09-20T08:11:31.736Z"
   },
   {
    "duration": 4,
    "start_time": "2022-09-20T08:12:00.323Z"
   },
   {
    "duration": 5,
    "start_time": "2022-09-20T08:12:00.547Z"
   },
   {
    "duration": 25566,
    "start_time": "2022-09-20T08:12:01.527Z"
   },
   {
    "duration": 5,
    "start_time": "2022-09-20T08:12:27.095Z"
   },
   {
    "duration": 8,
    "start_time": "2022-09-20T08:12:27.101Z"
   },
   {
    "duration": 340,
    "start_time": "2022-09-20T08:12:27.111Z"
   },
   {
    "duration": 3508,
    "start_time": "2022-09-20T08:13:32.056Z"
   },
   {
    "duration": 203,
    "start_time": "2022-09-20T08:14:11.176Z"
   },
   {
    "duration": 19,
    "start_time": "2022-09-20T08:25:52.378Z"
   },
   {
    "duration": 11,
    "start_time": "2022-09-20T08:26:26.890Z"
   },
   {
    "duration": 4,
    "start_time": "2022-09-20T08:27:42.807Z"
   },
   {
    "duration": 3,
    "start_time": "2022-09-20T08:29:27.559Z"
   },
   {
    "duration": 10,
    "start_time": "2022-09-20T08:29:28.380Z"
   },
   {
    "duration": 4,
    "start_time": "2022-09-20T08:30:04.060Z"
   },
   {
    "duration": 102,
    "start_time": "2022-09-20T08:30:30.937Z"
   },
   {
    "duration": 4,
    "start_time": "2022-09-20T08:30:48.257Z"
   },
   {
    "duration": 30,
    "start_time": "2022-09-20T08:30:51.453Z"
   },
   {
    "duration": 3,
    "start_time": "2022-09-20T08:31:56.943Z"
   },
   {
    "duration": 27,
    "start_time": "2022-09-20T08:31:58.250Z"
   },
   {
    "duration": 4,
    "start_time": "2022-09-20T08:33:33.333Z"
   },
   {
    "duration": 4,
    "start_time": "2022-09-20T08:34:28.934Z"
   },
   {
    "duration": 2,
    "start_time": "2022-09-20T08:34:36.053Z"
   },
   {
    "duration": 34,
    "start_time": "2022-09-20T08:34:37.048Z"
   },
   {
    "duration": 2,
    "start_time": "2022-09-20T08:35:37.861Z"
   },
   {
    "duration": 66,
    "start_time": "2022-09-20T08:35:38.920Z"
   },
   {
    "duration": 4,
    "start_time": "2022-09-20T08:37:18.209Z"
   },
   {
    "duration": 5,
    "start_time": "2022-09-20T08:37:21.801Z"
   },
   {
    "duration": 4,
    "start_time": "2022-09-20T08:37:22.233Z"
   },
   {
    "duration": 4,
    "start_time": "2022-09-20T08:37:22.703Z"
   },
   {
    "duration": 4,
    "start_time": "2022-09-20T08:37:23.772Z"
   },
   {
    "duration": 65,
    "start_time": "2022-09-20T08:37:25.021Z"
   },
   {
    "duration": 3,
    "start_time": "2022-09-20T08:39:44.744Z"
   },
   {
    "duration": 535,
    "start_time": "2022-09-20T08:39:45.696Z"
   },
   {
    "duration": 3,
    "start_time": "2022-09-20T08:42:16.516Z"
   },
   {
    "duration": 3,
    "start_time": "2022-09-20T08:42:18.288Z"
   },
   {
    "duration": 4,
    "start_time": "2022-09-20T08:42:35.257Z"
   },
   {
    "duration": 4,
    "start_time": "2022-09-20T08:42:37.213Z"
   },
   {
    "duration": 259351,
    "start_time": "2022-09-20T08:42:38.357Z"
   },
   {
    "duration": 10,
    "start_time": "2022-09-20T08:52:55.156Z"
   },
   {
    "duration": 74,
    "start_time": "2022-09-20T08:57:25.996Z"
   },
   {
    "duration": 4,
    "start_time": "2022-09-20T08:57:35.069Z"
   },
   {
    "duration": 4,
    "start_time": "2022-09-20T08:57:35.377Z"
   },
   {
    "duration": 4,
    "start_time": "2022-09-20T08:57:36.097Z"
   },
   {
    "duration": 4,
    "start_time": "2022-09-20T08:57:36.563Z"
   }
  ],
  "kernelspec": {
   "display_name": "Python 3 (ipykernel)",
   "language": "python",
   "name": "python3"
  },
  "language_info": {
   "codemirror_mode": {
    "name": "ipython",
    "version": 3
   },
   "file_extension": ".py",
   "mimetype": "text/x-python",
   "name": "python",
   "nbconvert_exporter": "python",
   "pygments_lexer": "ipython3",
   "version": "3.9.12"
  },
  "toc": {
   "base_numbering": 1,
   "nav_menu": {},
   "number_sections": false,
   "sideBar": true,
   "skip_h1_title": false,
   "title_cell": "Table of Contents",
   "title_sidebar": "Contents",
   "toc_cell": false,
   "toc_position": {
    "height": "calc(100% - 180px)",
    "left": "10px",
    "top": "150px",
    "width": "366.184px"
   },
   "toc_section_display": true,
   "toc_window_display": true
  },
  "varInspector": {
   "cols": {
    "lenName": 16,
    "lenType": 16,
    "lenVar": 40
   },
   "kernels_config": {
    "python": {
     "delete_cmd_postfix": "",
     "delete_cmd_prefix": "del ",
     "library": "var_list.py",
     "varRefreshCmd": "print(var_dic_list())"
    },
    "r": {
     "delete_cmd_postfix": ") ",
     "delete_cmd_prefix": "rm(",
     "library": "var_list.r",
     "varRefreshCmd": "cat(var_dic_list()) "
    }
   },
   "types_to_exclude": [
    "module",
    "function",
    "builtin_function_or_method",
    "instance",
    "_Feature"
   ],
   "window_display": false
  }
 },
 "nbformat": 4,
 "nbformat_minor": 5
}
