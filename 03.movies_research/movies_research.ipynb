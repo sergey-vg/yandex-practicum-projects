{
 "cells": [
  {
   "cell_type": "markdown",
   "metadata": {
    "id": "sIfNaMOxgFyK"
   },
   "source": [
    "## Исследование данных о российском кинопрокате\n",
    "\n"
   ]
  },
  {
   "cell_type": "markdown",
   "metadata": {},
   "source": [
    "###### Описание проекта\n",
    "\n",
    "Заказчик этого исследования — Министерство культуры Российской Федерации.\n",
    "Нужно изучить рынок российского кинопроката и выявить текущие тренды. Уделите внимание фильмам, которые получили государственную поддержку. Ответить на вопрос, насколько такие фильмы интересны зрителю.\n",
    "Будем работать с данными, опубликованными на портале открытых данных Министерства культуры. Набор данных содержит информацию о прокатных удостоверениях, сборах и государственной поддержке фильмов, а также информацию с сайта КиноПоиск."
   ]
  },
  {
   "cell_type": "markdown",
   "metadata": {
    "id": "3bSlkCsbgFyL"
   },
   "source": [
    "###  Изучение данных из файлов и объединение их в один датафрейм. "
   ]
  },
  {
   "cell_type": "markdown",
   "metadata": {},
   "source": [
    "Импорт необходимых библиотек"
   ]
  },
  {
   "cell_type": "code",
   "execution_count": 1,
   "metadata": {
    "id": "dw87FlzMgFyM"
   },
   "outputs": [],
   "source": [
    "import pandas as pd\n",
    "from matplotlib import pyplot as plt"
   ]
  },
  {
   "cell_type": "markdown",
   "metadata": {},
   "source": [
    "Открываем файлы и просматриваем их содержимое"
   ]
  },
  {
   "cell_type": "code",
   "execution_count": 2,
   "metadata": {},
   "outputs": [],
   "source": [
    "df1 = pd.read_csv('/datasets/mkrf_movies.csv')\n",
    "df2 = pd.read_csv('/datasets/mkrf_shows.csv')"
   ]
  },
  {
   "cell_type": "markdown",
   "metadata": {},
   "source": [
    "#### Изучение общих данных в датфреймах"
   ]
  },
  {
   "cell_type": "code",
   "execution_count": 3,
   "metadata": {},
   "outputs": [
    {
     "name": "stdout",
     "output_type": "stream",
     "text": [
      "<class 'pandas.core.frame.DataFrame'>\n",
      "RangeIndex: 7486 entries, 0 to 7485\n",
      "Data columns (total 15 columns):\n",
      "title                    7486 non-null object\n",
      "puNumber                 7486 non-null object\n",
      "show_start_date          7486 non-null object\n",
      "type                     7486 non-null object\n",
      "film_studio              7468 non-null object\n",
      "production_country       7484 non-null object\n",
      "director                 7477 non-null object\n",
      "producer                 6918 non-null object\n",
      "age_restriction          7486 non-null object\n",
      "refundable_support       332 non-null float64\n",
      "nonrefundable_support    332 non-null float64\n",
      "budget                   332 non-null float64\n",
      "financing_source         332 non-null object\n",
      "ratings                  6519 non-null object\n",
      "genres                   6510 non-null object\n",
      "dtypes: float64(3), object(12)\n",
      "memory usage: 877.4+ KB\n"
     ]
    }
   ],
   "source": [
    "df1.info()"
   ]
  },
  {
   "cell_type": "markdown",
   "metadata": {},
   "source": [
    "Таблица `mkrf_movies` содержит информацию из реестра прокатных удостоверений. У одного фильма может быть несколько прокатных удостоверений.\n",
    "Столбцы\n",
    "* `title` — название фильма;\n",
    "* `puNumber` — номер прокатного удостоверения;\n",
    "* `show_start_date` — дата премьеры фильма;\n",
    "* `type` — тип фильма;\n",
    "* `film_studio` — студия-производитель;\n",
    "* `production_country` — страна-производитель;\n",
    "* `director` — режиссёр;\n",
    "* `producer` — продюсер;\n",
    "* `age_restriction` — возрастная категория;\n",
    "* `refundable_support` — объём возвратных средств государственной поддержки;\n",
    "* `nonrefundable_support` — объём невозвратных средств государственной поддержки;\n",
    "* `financing_source` — источник государственного финансирования;\n",
    "* `budget` — общий бюджет фильма;\n",
    "* `ratings` — рейтинг фильма на КиноПоиске;\n",
    "* `genres` — жанр фильма.\n",
    "\n",
    "Cтолбец budget уже включает в себя полный объём государственной поддержки. Данные в этом столбце указаны только для тех фильмов, которые получили государственную поддержку."
   ]
  },
  {
   "cell_type": "code",
   "execution_count": 4,
   "metadata": {},
   "outputs": [
    {
     "data": {
      "text/html": [
       "<div>\n",
       "<style scoped>\n",
       "    .dataframe tbody tr th:only-of-type {\n",
       "        vertical-align: middle;\n",
       "    }\n",
       "\n",
       "    .dataframe tbody tr th {\n",
       "        vertical-align: top;\n",
       "    }\n",
       "\n",
       "    .dataframe thead th {\n",
       "        text-align: right;\n",
       "    }\n",
       "</style>\n",
       "<table border=\"1\" class=\"dataframe\">\n",
       "  <thead>\n",
       "    <tr style=\"text-align: right;\">\n",
       "      <th></th>\n",
       "      <th>title</th>\n",
       "      <th>puNumber</th>\n",
       "      <th>show_start_date</th>\n",
       "      <th>type</th>\n",
       "      <th>film_studio</th>\n",
       "      <th>production_country</th>\n",
       "      <th>director</th>\n",
       "      <th>producer</th>\n",
       "      <th>age_restriction</th>\n",
       "      <th>refundable_support</th>\n",
       "      <th>nonrefundable_support</th>\n",
       "      <th>budget</th>\n",
       "      <th>financing_source</th>\n",
       "      <th>ratings</th>\n",
       "      <th>genres</th>\n",
       "    </tr>\n",
       "  </thead>\n",
       "  <tbody>\n",
       "    <tr>\n",
       "      <td>0</td>\n",
       "      <td>Открытый простор</td>\n",
       "      <td>221048915</td>\n",
       "      <td>2015-11-27T12:00:00.000Z</td>\n",
       "      <td>Художественный</td>\n",
       "      <td>Тачстоун Пикчерз, Кобальт Пикчерз, Бикон Пикче...</td>\n",
       "      <td>США</td>\n",
       "      <td>Кевин Костнер</td>\n",
       "      <td>Дэвид Валдес, Кевин Костнер, Джейк Эбертс</td>\n",
       "      <td>«18+» - запрещено для детей</td>\n",
       "      <td>NaN</td>\n",
       "      <td>NaN</td>\n",
       "      <td>NaN</td>\n",
       "      <td>NaN</td>\n",
       "      <td>7.2</td>\n",
       "      <td>боевик,драма,мелодрама</td>\n",
       "    </tr>\n",
       "    <tr>\n",
       "      <td>1</td>\n",
       "      <td>Особо важное задание</td>\n",
       "      <td>111013716</td>\n",
       "      <td>2016-09-13T12:00:00.000Z</td>\n",
       "      <td>Художественный</td>\n",
       "      <td>Киностудия \"Мосфильм\"</td>\n",
       "      <td>СССР</td>\n",
       "      <td>Е.Матвеев</td>\n",
       "      <td>NaN</td>\n",
       "      <td>«6+» - для детей старше 6 лет</td>\n",
       "      <td>NaN</td>\n",
       "      <td>NaN</td>\n",
       "      <td>NaN</td>\n",
       "      <td>NaN</td>\n",
       "      <td>6.6</td>\n",
       "      <td>драма,военный</td>\n",
       "    </tr>\n",
       "    <tr>\n",
       "      <td>2</td>\n",
       "      <td>Особо опасен</td>\n",
       "      <td>221038416</td>\n",
       "      <td>2016-10-10T12:00:00.000Z</td>\n",
       "      <td>Художественный</td>\n",
       "      <td>Юниверсал Пикчерз, Кикстарт Продакшнз, Марк Пл...</td>\n",
       "      <td>США</td>\n",
       "      <td>Тимур Бекмамбетов</td>\n",
       "      <td>Джим Лемли, Джейсон Нетер, Марк Е.Платт, Яйн Смит</td>\n",
       "      <td>«18+» - запрещено для детей</td>\n",
       "      <td>NaN</td>\n",
       "      <td>NaN</td>\n",
       "      <td>NaN</td>\n",
       "      <td>NaN</td>\n",
       "      <td>6.8</td>\n",
       "      <td>фантастика,боевик,триллер</td>\n",
       "    </tr>\n",
       "    <tr>\n",
       "      <td>3</td>\n",
       "      <td>Особо опасен</td>\n",
       "      <td>221026916</td>\n",
       "      <td>2016-06-10T12:00:00.000Z</td>\n",
       "      <td>Художественный</td>\n",
       "      <td>Юниверсал Пикчерз, Кикстарт Продакшнз, Марк Пл...</td>\n",
       "      <td>США</td>\n",
       "      <td>Тимур Бекмамбетов</td>\n",
       "      <td>Джим Лемли, Джейсон Нетер, Марк Е.Платт, Яйн Смит</td>\n",
       "      <td>«18+» - запрещено для детей</td>\n",
       "      <td>NaN</td>\n",
       "      <td>NaN</td>\n",
       "      <td>NaN</td>\n",
       "      <td>NaN</td>\n",
       "      <td>6.8</td>\n",
       "      <td>фантастика,боевик,триллер</td>\n",
       "    </tr>\n",
       "    <tr>\n",
       "      <td>4</td>\n",
       "      <td>Особо опасен</td>\n",
       "      <td>221030815</td>\n",
       "      <td>2015-07-29T12:00:00.000Z</td>\n",
       "      <td>Художественный</td>\n",
       "      <td>Юниверсал Пикчерз, Кикстарт Продакшнз, Марк Пл...</td>\n",
       "      <td>США</td>\n",
       "      <td>Тимур Бекмамбетов</td>\n",
       "      <td>Джим Лемли, Джейсон Нетер, Марк Е.Платт, Яйн Смит</td>\n",
       "      <td>«18+» - запрещено для детей</td>\n",
       "      <td>NaN</td>\n",
       "      <td>NaN</td>\n",
       "      <td>NaN</td>\n",
       "      <td>NaN</td>\n",
       "      <td>6.8</td>\n",
       "      <td>фантастика,боевик,триллер</td>\n",
       "    </tr>\n",
       "    <tr>\n",
       "      <td>5</td>\n",
       "      <td>Остановился поезд</td>\n",
       "      <td>111013816</td>\n",
       "      <td>2016-09-13T12:00:00.000Z</td>\n",
       "      <td>Художественный</td>\n",
       "      <td>Киностудия \"Мосфильм\"</td>\n",
       "      <td>СССР</td>\n",
       "      <td>В.Абдрашитов</td>\n",
       "      <td>NaN</td>\n",
       "      <td>«6+» - для детей старше 6 лет</td>\n",
       "      <td>NaN</td>\n",
       "      <td>NaN</td>\n",
       "      <td>NaN</td>\n",
       "      <td>NaN</td>\n",
       "      <td>7.7</td>\n",
       "      <td>драма</td>\n",
       "    </tr>\n",
       "    <tr>\n",
       "      <td>6</td>\n",
       "      <td>Любовь и голуби</td>\n",
       "      <td>111007013</td>\n",
       "      <td>2013-10-18T12:00:00.000Z</td>\n",
       "      <td>Художественный</td>\n",
       "      <td>Киностудия \"Мосфильм\"</td>\n",
       "      <td>СССР</td>\n",
       "      <td>В.Меньшов</td>\n",
       "      <td>NaN</td>\n",
       "      <td>«12+» - для детей старше 12 лет</td>\n",
       "      <td>NaN</td>\n",
       "      <td>NaN</td>\n",
       "      <td>NaN</td>\n",
       "      <td>NaN</td>\n",
       "      <td>8.3</td>\n",
       "      <td>мелодрама,комедия</td>\n",
       "    </tr>\n",
       "    <tr>\n",
       "      <td>7</td>\n",
       "      <td>Любовь и сигареты</td>\n",
       "      <td>221074614</td>\n",
       "      <td>2014-12-29T12:00:00.000Z</td>\n",
       "      <td>Художественный</td>\n",
       "      <td>Юнайтед Артистс, Грин Стрит Филмз, Айкон Интер...</td>\n",
       "      <td>США</td>\n",
       "      <td>Джон Туртурро</td>\n",
       "      <td>Джон Пенотти, Джон Туртурро</td>\n",
       "      <td>«18+» - запрещено для детей</td>\n",
       "      <td>NaN</td>\n",
       "      <td>NaN</td>\n",
       "      <td>NaN</td>\n",
       "      <td>NaN</td>\n",
       "      <td>6.6</td>\n",
       "      <td>мюзикл,мелодрама,комедия</td>\n",
       "    </tr>\n",
       "    <tr>\n",
       "      <td>8</td>\n",
       "      <td>Отпетые мошенники.</td>\n",
       "      <td>121011416</td>\n",
       "      <td>2016-05-05T12:00:00.000Z</td>\n",
       "      <td>Художественный</td>\n",
       "      <td>Пульсар Продюксьон, ТФ1 Фильм</td>\n",
       "      <td>Франция</td>\n",
       "      <td>Эрик Беснард</td>\n",
       "      <td>Патрис Леду</td>\n",
       "      <td>«18+» - запрещено для детей</td>\n",
       "      <td>NaN</td>\n",
       "      <td>NaN</td>\n",
       "      <td>NaN</td>\n",
       "      <td>NaN</td>\n",
       "      <td>8.0</td>\n",
       "      <td>комедия,криминал</td>\n",
       "    </tr>\n",
       "    <tr>\n",
       "      <td>9</td>\n",
       "      <td>Отпуск за свой счет</td>\n",
       "      <td>111019114</td>\n",
       "      <td>2014-12-01T12:00:00.000Z</td>\n",
       "      <td>Художественный</td>\n",
       "      <td>Киностудия \"Мосфильм\", Телевидение ВНР</td>\n",
       "      <td>СССР, Венгрия</td>\n",
       "      <td>В.Титов</td>\n",
       "      <td>NaN</td>\n",
       "      <td>«12+» - для детей старше 12 лет</td>\n",
       "      <td>NaN</td>\n",
       "      <td>NaN</td>\n",
       "      <td>NaN</td>\n",
       "      <td>NaN</td>\n",
       "      <td>7.8</td>\n",
       "      <td>мелодрама,комедия</td>\n",
       "    </tr>\n",
       "  </tbody>\n",
       "</table>\n",
       "</div>"
      ],
      "text/plain": [
       "                  title   puNumber           show_start_date            type  \\\n",
       "0      Открытый простор  221048915  2015-11-27T12:00:00.000Z  Художественный   \n",
       "1  Особо важное задание  111013716  2016-09-13T12:00:00.000Z  Художественный   \n",
       "2          Особо опасен  221038416  2016-10-10T12:00:00.000Z  Художественный   \n",
       "3          Особо опасен  221026916  2016-06-10T12:00:00.000Z  Художественный   \n",
       "4          Особо опасен  221030815  2015-07-29T12:00:00.000Z  Художественный   \n",
       "5     Остановился поезд  111013816  2016-09-13T12:00:00.000Z  Художественный   \n",
       "6       Любовь и голуби  111007013  2013-10-18T12:00:00.000Z  Художественный   \n",
       "7     Любовь и сигареты  221074614  2014-12-29T12:00:00.000Z  Художественный   \n",
       "8    Отпетые мошенники.  121011416  2016-05-05T12:00:00.000Z  Художественный   \n",
       "9   Отпуск за свой счет  111019114  2014-12-01T12:00:00.000Z  Художественный   \n",
       "\n",
       "                                         film_studio production_country  \\\n",
       "0  Тачстоун Пикчерз, Кобальт Пикчерз, Бикон Пикче...                США   \n",
       "1                              Киностудия \"Мосфильм\"               СССР   \n",
       "2  Юниверсал Пикчерз, Кикстарт Продакшнз, Марк Пл...                США   \n",
       "3  Юниверсал Пикчерз, Кикстарт Продакшнз, Марк Пл...                США   \n",
       "4  Юниверсал Пикчерз, Кикстарт Продакшнз, Марк Пл...                США   \n",
       "5                              Киностудия \"Мосфильм\"               СССР   \n",
       "6                              Киностудия \"Мосфильм\"               СССР   \n",
       "7  Юнайтед Артистс, Грин Стрит Филмз, Айкон Интер...                США   \n",
       "8                     Пульсар Продюксьон, ТФ1 Фильм             Франция   \n",
       "9             Киностудия \"Мосфильм\", Телевидение ВНР      СССР, Венгрия   \n",
       "\n",
       "            director                                           producer  \\\n",
       "0      Кевин Костнер          Дэвид Валдес, Кевин Костнер, Джейк Эбертс   \n",
       "1          Е.Матвеев                                                NaN   \n",
       "2  Тимур Бекмамбетов  Джим Лемли, Джейсон Нетер, Марк Е.Платт, Яйн Смит   \n",
       "3  Тимур Бекмамбетов  Джим Лемли, Джейсон Нетер, Марк Е.Платт, Яйн Смит   \n",
       "4  Тимур Бекмамбетов  Джим Лемли, Джейсон Нетер, Марк Е.Платт, Яйн Смит   \n",
       "5       В.Абдрашитов                                                NaN   \n",
       "6          В.Меньшов                                                NaN   \n",
       "7      Джон Туртурро                        Джон Пенотти, Джон Туртурро   \n",
       "8       Эрик Беснард                                        Патрис Леду   \n",
       "9            В.Титов                                                NaN   \n",
       "\n",
       "                   age_restriction  refundable_support  nonrefundable_support  \\\n",
       "0      «18+» - запрещено для детей                 NaN                    NaN   \n",
       "1    «6+» - для детей старше 6 лет                 NaN                    NaN   \n",
       "2      «18+» - запрещено для детей                 NaN                    NaN   \n",
       "3      «18+» - запрещено для детей                 NaN                    NaN   \n",
       "4      «18+» - запрещено для детей                 NaN                    NaN   \n",
       "5    «6+» - для детей старше 6 лет                 NaN                    NaN   \n",
       "6  «12+» - для детей старше 12 лет                 NaN                    NaN   \n",
       "7      «18+» - запрещено для детей                 NaN                    NaN   \n",
       "8      «18+» - запрещено для детей                 NaN                    NaN   \n",
       "9  «12+» - для детей старше 12 лет                 NaN                    NaN   \n",
       "\n",
       "   budget financing_source ratings                     genres  \n",
       "0     NaN              NaN     7.2     боевик,драма,мелодрама  \n",
       "1     NaN              NaN     6.6              драма,военный  \n",
       "2     NaN              NaN     6.8  фантастика,боевик,триллер  \n",
       "3     NaN              NaN     6.8  фантастика,боевик,триллер  \n",
       "4     NaN              NaN     6.8  фантастика,боевик,триллер  \n",
       "5     NaN              NaN     7.7                      драма  \n",
       "6     NaN              NaN     8.3          мелодрама,комедия  \n",
       "7     NaN              NaN     6.6   мюзикл,мелодрама,комедия  \n",
       "8     NaN              NaN     8.0           комедия,криминал  \n",
       "9     NaN              NaN     7.8          мелодрама,комедия  "
      ]
     },
     "execution_count": 4,
     "metadata": {},
     "output_type": "execute_result"
    }
   ],
   "source": [
    "df1.head(10)"
   ]
  },
  {
   "cell_type": "markdown",
   "metadata": {},
   "source": [
    "Обнаружены следующие недочёты:\n",
    "* `puNumber` - неверный тип данных, должен быть int вместо object;\n",
    "* `film_studio` — обнаружены пропуски данных;\n",
    "* `production_country` — обнаружены пропуски данных;\n",
    "* `director` — обнаружены пропуски данных;\n",
    "* `producer` — обнаружены пропуски данных;\n",
    "* `ratings` — обнаружены пропуски данных;\n",
    "* `genres` — обнаружены пропуски данных."
   ]
  },
  {
   "cell_type": "code",
   "execution_count": 5,
   "metadata": {},
   "outputs": [
    {
     "name": "stdout",
     "output_type": "stream",
     "text": [
      "<class 'pandas.core.frame.DataFrame'>\n",
      "RangeIndex: 3158 entries, 0 to 3157\n",
      "Data columns (total 2 columns):\n",
      "puNumber      3158 non-null int64\n",
      "box_office    3158 non-null float64\n",
      "dtypes: float64(1), int64(1)\n",
      "memory usage: 49.5 KB\n"
     ]
    }
   ],
   "source": [
    "df2.info()"
   ]
  },
  {
   "cell_type": "markdown",
   "metadata": {},
   "source": [
    "Таблица `mkrf_shows` содержит сведения о показах фильмов в российских кинотеатрах.\n",
    "\n",
    "Столбцы:\n",
    "* `puNumber` — номер прокатного удостоверения;\n",
    "* `box_office` — сборы в рублях."
   ]
  },
  {
   "cell_type": "code",
   "execution_count": 6,
   "metadata": {},
   "outputs": [
    {
     "data": {
      "text/html": [
       "<div>\n",
       "<style scoped>\n",
       "    .dataframe tbody tr th:only-of-type {\n",
       "        vertical-align: middle;\n",
       "    }\n",
       "\n",
       "    .dataframe tbody tr th {\n",
       "        vertical-align: top;\n",
       "    }\n",
       "\n",
       "    .dataframe thead th {\n",
       "        text-align: right;\n",
       "    }\n",
       "</style>\n",
       "<table border=\"1\" class=\"dataframe\">\n",
       "  <thead>\n",
       "    <tr style=\"text-align: right;\">\n",
       "      <th></th>\n",
       "      <th>puNumber</th>\n",
       "      <th>box_office</th>\n",
       "    </tr>\n",
       "  </thead>\n",
       "  <tbody>\n",
       "    <tr>\n",
       "      <td>0</td>\n",
       "      <td>111000113</td>\n",
       "      <td>2.450000e+03</td>\n",
       "    </tr>\n",
       "    <tr>\n",
       "      <td>1</td>\n",
       "      <td>111000115</td>\n",
       "      <td>6.104000e+04</td>\n",
       "    </tr>\n",
       "    <tr>\n",
       "      <td>2</td>\n",
       "      <td>111000116</td>\n",
       "      <td>1.530300e+08</td>\n",
       "    </tr>\n",
       "    <tr>\n",
       "      <td>3</td>\n",
       "      <td>111000117</td>\n",
       "      <td>1.226096e+07</td>\n",
       "    </tr>\n",
       "    <tr>\n",
       "      <td>4</td>\n",
       "      <td>111000118</td>\n",
       "      <td>1.636841e+08</td>\n",
       "    </tr>\n",
       "    <tr>\n",
       "      <td>5</td>\n",
       "      <td>111000119</td>\n",
       "      <td>4.293650e+06</td>\n",
       "    </tr>\n",
       "    <tr>\n",
       "      <td>6</td>\n",
       "      <td>111000212</td>\n",
       "      <td>2.000000e+02</td>\n",
       "    </tr>\n",
       "    <tr>\n",
       "      <td>7</td>\n",
       "      <td>111000216</td>\n",
       "      <td>3.555670e+05</td>\n",
       "    </tr>\n",
       "    <tr>\n",
       "      <td>8</td>\n",
       "      <td>111000313</td>\n",
       "      <td>7.100000e+02</td>\n",
       "    </tr>\n",
       "    <tr>\n",
       "      <td>9</td>\n",
       "      <td>111000314</td>\n",
       "      <td>1.607970e+06</td>\n",
       "    </tr>\n",
       "  </tbody>\n",
       "</table>\n",
       "</div>"
      ],
      "text/plain": [
       "    puNumber    box_office\n",
       "0  111000113  2.450000e+03\n",
       "1  111000115  6.104000e+04\n",
       "2  111000116  1.530300e+08\n",
       "3  111000117  1.226096e+07\n",
       "4  111000118  1.636841e+08\n",
       "5  111000119  4.293650e+06\n",
       "6  111000212  2.000000e+02\n",
       "7  111000216  3.555670e+05\n",
       "8  111000313  7.100000e+02\n",
       "9  111000314  1.607970e+06"
      ]
     },
     "execution_count": 6,
     "metadata": {},
     "output_type": "execute_result"
    }
   ],
   "source": [
    "df2.head(10)"
   ]
  },
  {
   "cell_type": "markdown",
   "metadata": {},
   "source": [
    "* Проблем не обнаружено"
   ]
  },
  {
   "cell_type": "markdown",
   "metadata": {},
   "source": [
    "##### Вывод\n",
    "\n",
    "Таблица `mkrf_movies`:\n",
    "\n",
    "Обнаружены следующие недочёты:\n",
    "* `puNumber` - неверный тип данных, должен быть int, вместо object;\n",
    "* `film_studio` — обнаружены пропуски данных;\n",
    "* `production_country` — обнаружены пропуски данных;\n",
    "* `director` — обнаружены пропуски данных;\n",
    "* `producer` — обнаружены пропуски данных;\n",
    "* `ratings` — неверный тип данных, должен быть float, вместо object.Так же обнаружены пропуски данных;\n",
    "* `genres` — обнаружены пропуски данных.\n",
    "\n",
    "Таблица `mkrf_shows`:\n",
    "\n",
    "* Проблем не обнаружено"
   ]
  },
  {
   "cell_type": "markdown",
   "metadata": {},
   "source": [
    "#### Объединение двух датафреймов в один"
   ]
  },
  {
   "cell_type": "markdown",
   "metadata": {},
   "source": [
    "Сменим тип в столбце `puNumber` на int"
   ]
  },
  {
   "cell_type": "code",
   "execution_count": 7,
   "metadata": {},
   "outputs": [
    {
     "data": {
      "text/html": [
       "<div>\n",
       "<style scoped>\n",
       "    .dataframe tbody tr th:only-of-type {\n",
       "        vertical-align: middle;\n",
       "    }\n",
       "\n",
       "    .dataframe tbody tr th {\n",
       "        vertical-align: top;\n",
       "    }\n",
       "\n",
       "    .dataframe thead th {\n",
       "        text-align: right;\n",
       "    }\n",
       "</style>\n",
       "<table border=\"1\" class=\"dataframe\">\n",
       "  <thead>\n",
       "    <tr style=\"text-align: right;\">\n",
       "      <th></th>\n",
       "      <th>title</th>\n",
       "      <th>puNumber</th>\n",
       "      <th>show_start_date</th>\n",
       "      <th>type</th>\n",
       "      <th>film_studio</th>\n",
       "      <th>production_country</th>\n",
       "      <th>director</th>\n",
       "      <th>producer</th>\n",
       "      <th>age_restriction</th>\n",
       "      <th>refundable_support</th>\n",
       "      <th>nonrefundable_support</th>\n",
       "      <th>budget</th>\n",
       "      <th>financing_source</th>\n",
       "      <th>ratings</th>\n",
       "      <th>genres</th>\n",
       "    </tr>\n",
       "  </thead>\n",
       "  <tbody>\n",
       "    <tr>\n",
       "      <td>1797</td>\n",
       "      <td>Курбан-роман. (История с жертвой)</td>\n",
       "      <td>NaN</td>\n",
       "      <td>2014-05-15T12:00:00.000Z</td>\n",
       "      <td>Художественный</td>\n",
       "      <td>ФОНД \"ИННОВАЦИЯ\"</td>\n",
       "      <td>Россия</td>\n",
       "      <td>С.Юзеев</td>\n",
       "      <td>М.Галицкая</td>\n",
       "      <td>«12+» - для детей старше 12 лет</td>\n",
       "      <td>NaN</td>\n",
       "      <td>NaN</td>\n",
       "      <td>NaN</td>\n",
       "      <td>NaN</td>\n",
       "      <td>NaN</td>\n",
       "      <td>NaN</td>\n",
       "    </tr>\n",
       "  </tbody>\n",
       "</table>\n",
       "</div>"
      ],
      "text/plain": [
       "                                  title  puNumber           show_start_date  \\\n",
       "1797  Курбан-роман. (История с жертвой)       NaN  2014-05-15T12:00:00.000Z   \n",
       "\n",
       "                type       film_studio production_country director  \\\n",
       "1797  Художественный  ФОНД \"ИННОВАЦИЯ\"             Россия  С.Юзеев   \n",
       "\n",
       "        producer                  age_restriction  refundable_support  \\\n",
       "1797  М.Галицкая  «12+» - для детей старше 12 лет                 NaN   \n",
       "\n",
       "      nonrefundable_support  budget financing_source ratings genres  \n",
       "1797                    NaN     NaN              NaN     NaN    NaN  "
      ]
     },
     "execution_count": 7,
     "metadata": {},
     "output_type": "execute_result"
    }
   ],
   "source": [
    "df1['puNumber'] = pd.to_numeric(df1['puNumber'], errors='coerce')\n",
    "df1[ df1['puNumber'].isna()]"
   ]
  },
  {
   "cell_type": "markdown",
   "metadata": {},
   "source": [
    "* Одна строка с некорректным значением, удалим её"
   ]
  },
  {
   "cell_type": "code",
   "execution_count": 8,
   "metadata": {
    "scrolled": true
   },
   "outputs": [
    {
     "name": "stdout",
     "output_type": "stream",
     "text": [
      "<class 'pandas.core.frame.DataFrame'>\n",
      "Int64Index: 7485 entries, 0 to 7485\n",
      "Data columns (total 15 columns):\n",
      "title                    7485 non-null object\n",
      "puNumber                 7485 non-null int64\n",
      "show_start_date          7485 non-null object\n",
      "type                     7485 non-null object\n",
      "film_studio              7467 non-null object\n",
      "production_country       7483 non-null object\n",
      "director                 7476 non-null object\n",
      "producer                 6917 non-null object\n",
      "age_restriction          7485 non-null object\n",
      "refundable_support       332 non-null float64\n",
      "nonrefundable_support    332 non-null float64\n",
      "budget                   332 non-null float64\n",
      "financing_source         332 non-null object\n",
      "ratings                  6519 non-null object\n",
      "genres                   6510 non-null object\n",
      "dtypes: float64(3), int64(1), object(11)\n",
      "memory usage: 935.6+ KB\n"
     ]
    }
   ],
   "source": [
    "df1 = df1.dropna(subset=['puNumber'])\n",
    "df1['puNumber'] = df1['puNumber'].astype('int')\n",
    "df1.info()"
   ]
  },
  {
   "cell_type": "markdown",
   "metadata": {},
   "source": [
    "Объеденим две таблицы в одну, по столбцу 'puNumber'(прокатный номер), и исправим имя столбца puNumber на pu_number"
   ]
  },
  {
   "cell_type": "code",
   "execution_count": 9,
   "metadata": {},
   "outputs": [
    {
     "name": "stdout",
     "output_type": "stream",
     "text": [
      "<class 'pandas.core.frame.DataFrame'>\n",
      "Int64Index: 7485 entries, 0 to 7484\n",
      "Data columns (total 16 columns):\n",
      "title                    7485 non-null object\n",
      "pu_number                7485 non-null int64\n",
      "show_start_date          7485 non-null object\n",
      "type                     7485 non-null object\n",
      "film_studio              7467 non-null object\n",
      "production_country       7483 non-null object\n",
      "director                 7476 non-null object\n",
      "producer                 6917 non-null object\n",
      "age_restriction          7485 non-null object\n",
      "refundable_support       332 non-null float64\n",
      "nonrefundable_support    332 non-null float64\n",
      "budget                   332 non-null float64\n",
      "financing_source         332 non-null object\n",
      "ratings                  6519 non-null object\n",
      "genres                   6510 non-null object\n",
      "box_office               3158 non-null float64\n",
      "dtypes: float64(4), int64(1), object(11)\n",
      "memory usage: 994.1+ KB\n"
     ]
    }
   ],
   "source": [
    "df = df1.merge(df2, on='puNumber', how='left')\n",
    "df = df.rename(columns={\"puNumber\": \"pu_number\"})\n",
    "df.info()"
   ]
  },
  {
   "cell_type": "code",
   "execution_count": 10,
   "metadata": {},
   "outputs": [
    {
     "data": {
      "text/html": [
       "<div>\n",
       "<style scoped>\n",
       "    .dataframe tbody tr th:only-of-type {\n",
       "        vertical-align: middle;\n",
       "    }\n",
       "\n",
       "    .dataframe tbody tr th {\n",
       "        vertical-align: top;\n",
       "    }\n",
       "\n",
       "    .dataframe thead th {\n",
       "        text-align: right;\n",
       "    }\n",
       "</style>\n",
       "<table border=\"1\" class=\"dataframe\">\n",
       "  <thead>\n",
       "    <tr style=\"text-align: right;\">\n",
       "      <th></th>\n",
       "      <th>title</th>\n",
       "      <th>pu_number</th>\n",
       "      <th>show_start_date</th>\n",
       "      <th>type</th>\n",
       "      <th>film_studio</th>\n",
       "      <th>production_country</th>\n",
       "      <th>director</th>\n",
       "      <th>producer</th>\n",
       "      <th>age_restriction</th>\n",
       "      <th>refundable_support</th>\n",
       "      <th>nonrefundable_support</th>\n",
       "      <th>budget</th>\n",
       "      <th>financing_source</th>\n",
       "      <th>ratings</th>\n",
       "      <th>genres</th>\n",
       "      <th>box_office</th>\n",
       "    </tr>\n",
       "  </thead>\n",
       "  <tbody>\n",
       "    <tr>\n",
       "      <td>0</td>\n",
       "      <td>Открытый простор</td>\n",
       "      <td>221048915</td>\n",
       "      <td>2015-11-27T12:00:00.000Z</td>\n",
       "      <td>Художественный</td>\n",
       "      <td>Тачстоун Пикчерз, Кобальт Пикчерз, Бикон Пикче...</td>\n",
       "      <td>США</td>\n",
       "      <td>Кевин Костнер</td>\n",
       "      <td>Дэвид Валдес, Кевин Костнер, Джейк Эбертс</td>\n",
       "      <td>«18+» - запрещено для детей</td>\n",
       "      <td>NaN</td>\n",
       "      <td>NaN</td>\n",
       "      <td>NaN</td>\n",
       "      <td>NaN</td>\n",
       "      <td>7.2</td>\n",
       "      <td>боевик,драма,мелодрама</td>\n",
       "      <td>NaN</td>\n",
       "    </tr>\n",
       "    <tr>\n",
       "      <td>1</td>\n",
       "      <td>Особо важное задание</td>\n",
       "      <td>111013716</td>\n",
       "      <td>2016-09-13T12:00:00.000Z</td>\n",
       "      <td>Художественный</td>\n",
       "      <td>Киностудия \"Мосфильм\"</td>\n",
       "      <td>СССР</td>\n",
       "      <td>Е.Матвеев</td>\n",
       "      <td>NaN</td>\n",
       "      <td>«6+» - для детей старше 6 лет</td>\n",
       "      <td>NaN</td>\n",
       "      <td>NaN</td>\n",
       "      <td>NaN</td>\n",
       "      <td>NaN</td>\n",
       "      <td>6.6</td>\n",
       "      <td>драма,военный</td>\n",
       "      <td>NaN</td>\n",
       "    </tr>\n",
       "    <tr>\n",
       "      <td>2</td>\n",
       "      <td>Особо опасен</td>\n",
       "      <td>221038416</td>\n",
       "      <td>2016-10-10T12:00:00.000Z</td>\n",
       "      <td>Художественный</td>\n",
       "      <td>Юниверсал Пикчерз, Кикстарт Продакшнз, Марк Пл...</td>\n",
       "      <td>США</td>\n",
       "      <td>Тимур Бекмамбетов</td>\n",
       "      <td>Джим Лемли, Джейсон Нетер, Марк Е.Платт, Яйн Смит</td>\n",
       "      <td>«18+» - запрещено для детей</td>\n",
       "      <td>NaN</td>\n",
       "      <td>NaN</td>\n",
       "      <td>NaN</td>\n",
       "      <td>NaN</td>\n",
       "      <td>6.8</td>\n",
       "      <td>фантастика,боевик,триллер</td>\n",
       "      <td>NaN</td>\n",
       "    </tr>\n",
       "    <tr>\n",
       "      <td>3</td>\n",
       "      <td>Особо опасен</td>\n",
       "      <td>221026916</td>\n",
       "      <td>2016-06-10T12:00:00.000Z</td>\n",
       "      <td>Художественный</td>\n",
       "      <td>Юниверсал Пикчерз, Кикстарт Продакшнз, Марк Пл...</td>\n",
       "      <td>США</td>\n",
       "      <td>Тимур Бекмамбетов</td>\n",
       "      <td>Джим Лемли, Джейсон Нетер, Марк Е.Платт, Яйн Смит</td>\n",
       "      <td>«18+» - запрещено для детей</td>\n",
       "      <td>NaN</td>\n",
       "      <td>NaN</td>\n",
       "      <td>NaN</td>\n",
       "      <td>NaN</td>\n",
       "      <td>6.8</td>\n",
       "      <td>фантастика,боевик,триллер</td>\n",
       "      <td>NaN</td>\n",
       "    </tr>\n",
       "    <tr>\n",
       "      <td>4</td>\n",
       "      <td>Особо опасен</td>\n",
       "      <td>221030815</td>\n",
       "      <td>2015-07-29T12:00:00.000Z</td>\n",
       "      <td>Художественный</td>\n",
       "      <td>Юниверсал Пикчерз, Кикстарт Продакшнз, Марк Пл...</td>\n",
       "      <td>США</td>\n",
       "      <td>Тимур Бекмамбетов</td>\n",
       "      <td>Джим Лемли, Джейсон Нетер, Марк Е.Платт, Яйн Смит</td>\n",
       "      <td>«18+» - запрещено для детей</td>\n",
       "      <td>NaN</td>\n",
       "      <td>NaN</td>\n",
       "      <td>NaN</td>\n",
       "      <td>NaN</td>\n",
       "      <td>6.8</td>\n",
       "      <td>фантастика,боевик,триллер</td>\n",
       "      <td>NaN</td>\n",
       "    </tr>\n",
       "    <tr>\n",
       "      <td>5</td>\n",
       "      <td>Остановился поезд</td>\n",
       "      <td>111013816</td>\n",
       "      <td>2016-09-13T12:00:00.000Z</td>\n",
       "      <td>Художественный</td>\n",
       "      <td>Киностудия \"Мосфильм\"</td>\n",
       "      <td>СССР</td>\n",
       "      <td>В.Абдрашитов</td>\n",
       "      <td>NaN</td>\n",
       "      <td>«6+» - для детей старше 6 лет</td>\n",
       "      <td>NaN</td>\n",
       "      <td>NaN</td>\n",
       "      <td>NaN</td>\n",
       "      <td>NaN</td>\n",
       "      <td>7.7</td>\n",
       "      <td>драма</td>\n",
       "      <td>NaN</td>\n",
       "    </tr>\n",
       "    <tr>\n",
       "      <td>6</td>\n",
       "      <td>Любовь и голуби</td>\n",
       "      <td>111007013</td>\n",
       "      <td>2013-10-18T12:00:00.000Z</td>\n",
       "      <td>Художественный</td>\n",
       "      <td>Киностудия \"Мосфильм\"</td>\n",
       "      <td>СССР</td>\n",
       "      <td>В.Меньшов</td>\n",
       "      <td>NaN</td>\n",
       "      <td>«12+» - для детей старше 12 лет</td>\n",
       "      <td>NaN</td>\n",
       "      <td>NaN</td>\n",
       "      <td>NaN</td>\n",
       "      <td>NaN</td>\n",
       "      <td>8.3</td>\n",
       "      <td>мелодрама,комедия</td>\n",
       "      <td>2700.0</td>\n",
       "    </tr>\n",
       "    <tr>\n",
       "      <td>7</td>\n",
       "      <td>Любовь и сигареты</td>\n",
       "      <td>221074614</td>\n",
       "      <td>2014-12-29T12:00:00.000Z</td>\n",
       "      <td>Художественный</td>\n",
       "      <td>Юнайтед Артистс, Грин Стрит Филмз, Айкон Интер...</td>\n",
       "      <td>США</td>\n",
       "      <td>Джон Туртурро</td>\n",
       "      <td>Джон Пенотти, Джон Туртурро</td>\n",
       "      <td>«18+» - запрещено для детей</td>\n",
       "      <td>NaN</td>\n",
       "      <td>NaN</td>\n",
       "      <td>NaN</td>\n",
       "      <td>NaN</td>\n",
       "      <td>6.6</td>\n",
       "      <td>мюзикл,мелодрама,комедия</td>\n",
       "      <td>NaN</td>\n",
       "    </tr>\n",
       "    <tr>\n",
       "      <td>8</td>\n",
       "      <td>Отпетые мошенники.</td>\n",
       "      <td>121011416</td>\n",
       "      <td>2016-05-05T12:00:00.000Z</td>\n",
       "      <td>Художественный</td>\n",
       "      <td>Пульсар Продюксьон, ТФ1 Фильм</td>\n",
       "      <td>Франция</td>\n",
       "      <td>Эрик Беснард</td>\n",
       "      <td>Патрис Леду</td>\n",
       "      <td>«18+» - запрещено для детей</td>\n",
       "      <td>NaN</td>\n",
       "      <td>NaN</td>\n",
       "      <td>NaN</td>\n",
       "      <td>NaN</td>\n",
       "      <td>8.0</td>\n",
       "      <td>комедия,криминал</td>\n",
       "      <td>NaN</td>\n",
       "    </tr>\n",
       "    <tr>\n",
       "      <td>9</td>\n",
       "      <td>Отпуск за свой счет</td>\n",
       "      <td>111019114</td>\n",
       "      <td>2014-12-01T12:00:00.000Z</td>\n",
       "      <td>Художественный</td>\n",
       "      <td>Киностудия \"Мосфильм\", Телевидение ВНР</td>\n",
       "      <td>СССР, Венгрия</td>\n",
       "      <td>В.Титов</td>\n",
       "      <td>NaN</td>\n",
       "      <td>«12+» - для детей старше 12 лет</td>\n",
       "      <td>NaN</td>\n",
       "      <td>NaN</td>\n",
       "      <td>NaN</td>\n",
       "      <td>NaN</td>\n",
       "      <td>7.8</td>\n",
       "      <td>мелодрама,комедия</td>\n",
       "      <td>NaN</td>\n",
       "    </tr>\n",
       "  </tbody>\n",
       "</table>\n",
       "</div>"
      ],
      "text/plain": [
       "                  title  pu_number           show_start_date            type  \\\n",
       "0      Открытый простор  221048915  2015-11-27T12:00:00.000Z  Художественный   \n",
       "1  Особо важное задание  111013716  2016-09-13T12:00:00.000Z  Художественный   \n",
       "2          Особо опасен  221038416  2016-10-10T12:00:00.000Z  Художественный   \n",
       "3          Особо опасен  221026916  2016-06-10T12:00:00.000Z  Художественный   \n",
       "4          Особо опасен  221030815  2015-07-29T12:00:00.000Z  Художественный   \n",
       "5     Остановился поезд  111013816  2016-09-13T12:00:00.000Z  Художественный   \n",
       "6       Любовь и голуби  111007013  2013-10-18T12:00:00.000Z  Художественный   \n",
       "7     Любовь и сигареты  221074614  2014-12-29T12:00:00.000Z  Художественный   \n",
       "8    Отпетые мошенники.  121011416  2016-05-05T12:00:00.000Z  Художественный   \n",
       "9   Отпуск за свой счет  111019114  2014-12-01T12:00:00.000Z  Художественный   \n",
       "\n",
       "                                         film_studio production_country  \\\n",
       "0  Тачстоун Пикчерз, Кобальт Пикчерз, Бикон Пикче...                США   \n",
       "1                              Киностудия \"Мосфильм\"               СССР   \n",
       "2  Юниверсал Пикчерз, Кикстарт Продакшнз, Марк Пл...                США   \n",
       "3  Юниверсал Пикчерз, Кикстарт Продакшнз, Марк Пл...                США   \n",
       "4  Юниверсал Пикчерз, Кикстарт Продакшнз, Марк Пл...                США   \n",
       "5                              Киностудия \"Мосфильм\"               СССР   \n",
       "6                              Киностудия \"Мосфильм\"               СССР   \n",
       "7  Юнайтед Артистс, Грин Стрит Филмз, Айкон Интер...                США   \n",
       "8                     Пульсар Продюксьон, ТФ1 Фильм             Франция   \n",
       "9             Киностудия \"Мосфильм\", Телевидение ВНР      СССР, Венгрия   \n",
       "\n",
       "            director                                           producer  \\\n",
       "0      Кевин Костнер          Дэвид Валдес, Кевин Костнер, Джейк Эбертс   \n",
       "1          Е.Матвеев                                                NaN   \n",
       "2  Тимур Бекмамбетов  Джим Лемли, Джейсон Нетер, Марк Е.Платт, Яйн Смит   \n",
       "3  Тимур Бекмамбетов  Джим Лемли, Джейсон Нетер, Марк Е.Платт, Яйн Смит   \n",
       "4  Тимур Бекмамбетов  Джим Лемли, Джейсон Нетер, Марк Е.Платт, Яйн Смит   \n",
       "5       В.Абдрашитов                                                NaN   \n",
       "6          В.Меньшов                                                NaN   \n",
       "7      Джон Туртурро                        Джон Пенотти, Джон Туртурро   \n",
       "8       Эрик Беснард                                        Патрис Леду   \n",
       "9            В.Титов                                                NaN   \n",
       "\n",
       "                   age_restriction  refundable_support  nonrefundable_support  \\\n",
       "0      «18+» - запрещено для детей                 NaN                    NaN   \n",
       "1    «6+» - для детей старше 6 лет                 NaN                    NaN   \n",
       "2      «18+» - запрещено для детей                 NaN                    NaN   \n",
       "3      «18+» - запрещено для детей                 NaN                    NaN   \n",
       "4      «18+» - запрещено для детей                 NaN                    NaN   \n",
       "5    «6+» - для детей старше 6 лет                 NaN                    NaN   \n",
       "6  «12+» - для детей старше 12 лет                 NaN                    NaN   \n",
       "7      «18+» - запрещено для детей                 NaN                    NaN   \n",
       "8      «18+» - запрещено для детей                 NaN                    NaN   \n",
       "9  «12+» - для детей старше 12 лет                 NaN                    NaN   \n",
       "\n",
       "   budget financing_source ratings                     genres  box_office  \n",
       "0     NaN              NaN     7.2     боевик,драма,мелодрама         NaN  \n",
       "1     NaN              NaN     6.6              драма,военный         NaN  \n",
       "2     NaN              NaN     6.8  фантастика,боевик,триллер         NaN  \n",
       "3     NaN              NaN     6.8  фантастика,боевик,триллер         NaN  \n",
       "4     NaN              NaN     6.8  фантастика,боевик,триллер         NaN  \n",
       "5     NaN              NaN     7.7                      драма         NaN  \n",
       "6     NaN              NaN     8.3          мелодрама,комедия      2700.0  \n",
       "7     NaN              NaN     6.6   мюзикл,мелодрама,комедия         NaN  \n",
       "8     NaN              NaN     8.0           комедия,криминал         NaN  \n",
       "9     NaN              NaN     7.8          мелодрама,комедия         NaN  "
      ]
     },
     "execution_count": 10,
     "metadata": {},
     "output_type": "execute_result"
    }
   ],
   "source": [
    "df.head(10)"
   ]
  },
  {
   "cell_type": "markdown",
   "metadata": {},
   "source": [
    "##### Вывод\n",
    "\n",
    "* Датафреймы объединены"
   ]
  },
  {
   "cell_type": "markdown",
   "metadata": {},
   "source": [
    "#### Анализ данных по столбца"
   ]
  },
  {
   "cell_type": "code",
   "execution_count": 11,
   "metadata": {},
   "outputs": [
    {
     "data": {
      "text/plain": [
       "Художественный                4519\n",
       " Художественный               1389\n",
       "Анимационный                   828\n",
       "Прочие                         406\n",
       "Документальный                 288\n",
       "Научно-популярный               53\n",
       "Музыкально-развлекательный       1\n",
       " Анимационный                    1\n",
       "Name: type, dtype: int64"
      ]
     },
     "execution_count": 11,
     "metadata": {},
     "output_type": "execute_result"
    }
   ],
   "source": [
    "df['type'].value_counts()"
   ]
  },
  {
   "cell_type": "markdown",
   "metadata": {},
   "source": [
    "* Обнаружены не явные дубликаты. Нужно удалить пробелы и перенести 'Музыкально-развлекательный жанр' в 'Прочие', так как есть всего один такой фильм "
   ]
  },
  {
   "cell_type": "code",
   "execution_count": 12,
   "metadata": {},
   "outputs": [
    {
     "data": {
      "text/plain": [
       "«16+» - для детей старше 16 лет           2851\n",
       "«18+» - запрещено для детей               1605\n",
       "«12+» - для детей старше 12 лет           1592\n",
       "«0+» - для любой зрительской аудитории     811\n",
       "«6+» - для детей старше 6 лет              626\n",
       "Name: age_restriction, dtype: int64"
      ]
     },
     "execution_count": 12,
     "metadata": {},
     "output_type": "execute_result"
    }
   ],
   "source": [
    "df['age_restriction'].value_counts()"
   ]
  },
  {
   "cell_type": "markdown",
   "metadata": {},
   "source": [
    "* Проблем не обнаружено"
   ]
  },
  {
   "cell_type": "code",
   "execution_count": 13,
   "metadata": {},
   "outputs": [
    {
     "data": {
      "text/plain": [
       "0.0            221\n",
       "20000000.0      12\n",
       "25000000.0      10\n",
       "10000000.0      10\n",
       "15000000.0       9\n",
       "5000000.0        9\n",
       "50000000.0       8\n",
       "40000000.0       8\n",
       "30000000.0       7\n",
       "60000000.0       6\n",
       "100000000.0      5\n",
       "110000000.0      2\n",
       "55000000.0       2\n",
       "75000000.0       2\n",
       "19000000.0       2\n",
       "115000000.0      1\n",
       "8000000.0        1\n",
       "7346881.0        1\n",
       "44000000.0       1\n",
       "28000000.0       1\n",
       "7153119.0        1\n",
       "26000000.0       1\n",
       "41000000.0       1\n",
       "17000000.0       1\n",
       "150000000.0      1\n",
       "36000000.0       1\n",
       "38000000.0       1\n",
       "180000000.0      1\n",
       "9000000.0        1\n",
       "3500000.0        1\n",
       "35000000.0       1\n",
       "80000000.0       1\n",
       "29000000.0       1\n",
       "7000000.0        1\n",
       "Name: refundable_support, dtype: int64"
      ]
     },
     "execution_count": 13,
     "metadata": {},
     "output_type": "execute_result"
    }
   ],
   "source": [
    "df['refundable_support'].value_counts()"
   ]
  },
  {
   "cell_type": "markdown",
   "metadata": {},
   "source": [
    "* Необходимо заменить тип c вещественного на целые числа"
   ]
  },
  {
   "cell_type": "code",
   "execution_count": 14,
   "metadata": {},
   "outputs": [
    {
     "data": {
      "text/plain": [
       "25000000.0     53\n",
       "30000000.0     48\n",
       "35000000.0     29\n",
       "40000000.0     26\n",
       "20000000.0     19\n",
       "               ..\n",
       "3000000.0       1\n",
       "51000000.0      1\n",
       "22904000.0      1\n",
       "50000866.0      1\n",
       "140000000.0     1\n",
       "Name: nonrefundable_support, Length: 75, dtype: int64"
      ]
     },
     "execution_count": 14,
     "metadata": {},
     "output_type": "execute_result"
    }
   ],
   "source": [
    "df['nonrefundable_support'].value_counts()"
   ]
  },
  {
   "cell_type": "markdown",
   "metadata": {},
   "source": [
    "* Необходимо заменить тип c вещественного на целые числа"
   ]
  },
  {
   "cell_type": "code",
   "execution_count": 15,
   "metadata": {},
   "outputs": [
    {
     "data": {
      "text/plain": [
       "0.0           17\n",
       "38000000.0     6\n",
       "80000000.0     4\n",
       "50000000.0     4\n",
       "37142857.0     3\n",
       "              ..\n",
       "74071918.0     1\n",
       "48571430.0     1\n",
       "69883049.0     1\n",
       "51196711.0     1\n",
       "46923776.0     1\n",
       "Name: budget, Length: 290, dtype: int64"
      ]
     },
     "execution_count": 15,
     "metadata": {},
     "output_type": "execute_result"
    }
   ],
   "source": [
    "df['budget'].value_counts()"
   ]
  },
  {
   "cell_type": "markdown",
   "metadata": {},
   "source": [
    "* Необходимо заменить тип c вещественного на целые числа\n",
    "* Нулевые значения необходимо удалить, бюджет не может равняться 0"
   ]
  },
  {
   "cell_type": "code",
   "execution_count": 16,
   "metadata": {},
   "outputs": [
    {
     "data": {
      "text/plain": [
       "Министерство культуры               164\n",
       "Фонд кино                           146\n",
       "Министерство культуры, Фонд кино     22\n",
       "Name: financing_source, dtype: int64"
      ]
     },
     "execution_count": 16,
     "metadata": {},
     "output_type": "execute_result"
    }
   ],
   "source": [
    "df['financing_source'].value_counts()"
   ]
  },
  {
   "cell_type": "markdown",
   "metadata": {},
   "source": [
    "* Проблем не обнаружено"
   ]
  },
  {
   "cell_type": "code",
   "execution_count": 17,
   "metadata": {},
   "outputs": [
    {
     "data": {
      "text/plain": [
       "0.0           24\n",
       "200.0         13\n",
       "300.0         12\n",
       "360.0          9\n",
       "250.0          8\n",
       "              ..\n",
       "996669.0       1\n",
       "8216845.0      1\n",
       "39251.0        1\n",
       "72937783.2     1\n",
       "81000.0        1\n",
       "Name: box_office, Length: 2938, dtype: int64"
      ]
     },
     "execution_count": 17,
     "metadata": {},
     "output_type": "execute_result"
    }
   ],
   "source": [
    "df['box_office'].value_counts()"
   ]
  },
  {
   "cell_type": "markdown",
   "metadata": {},
   "source": [
    "* Есть не корректные данные, суммы указана не реалистичные. Но не известно как исправлять данные, так как нет возможности связаться с создателем таблицы. Оставляем так как есть. Возможно пропущены 0, но не известно сколько.\n",
    "\n",
    "Например:\n",
    "\n",
    "Кунг-фу Панда  - 2 927 р., в реальности сборы в России - $31 832 221 (кинопоиск)\n",
    "\n",
    "ШПИОН - 5 405 р., в реальности сборы в России - $7 946 957 (кинопоиск)\n",
    "\n",
    "Время собирать цветы - 7 175 р. - документальный фильм длительностью 41 минута, скорее всего не показывался массово в кинотеатрах"
   ]
  },
  {
   "cell_type": "markdown",
   "metadata": {},
   "source": [
    "#### Вывод\n",
    "\n",
    "* Таблицы объеденены в один датафрейм\n",
    "\n",
    "Обнаружены следующие недочёты:\n",
    "* `type` — обнаружены не явные дубликаты;\n",
    "* `film_studio` — обнаружены пропуски данных;\n",
    "* `production_country` — обнаружены пропуски данных;\n",
    "* `director` — обнаружены пропуски данных;\n",
    "* `producer` — обнаружены пропуски данных;\n",
    "* `refundable_support` — необходимо заменить тип c вещественного на целые числа;\n",
    "* `nonrefundable_support` — необходимо заменить тип c вещественного на целые числа;\n",
    "* `budget` — необходимо заменить тип c вещественного на целые числа, так же необходимо удалить 0 значения;\n",
    "* `ratings` — неверный тип данных, должен быть float, вместо object. Так же обнаружены пропуски и не корректные данные;\n",
    "* `genres` — обнаружены пропуски данных;\n",
    "* `box_office` — Есть не корректные данные, суммы указана не реалистичные.\n",
    "\n",
    "Предварительно можно утверждать, что, данных достаточно для проверки гипотез, но встречаются пропуски и ошибки в данных.\n",
    "\n",
    "Чтобы двигаться дальше, нужно устранить проблемы в данных."
   ]
  },
  {
   "cell_type": "markdown",
   "metadata": {
    "id": "KLDGpPG0gFyM"
   },
   "source": [
    "### Предобработка данных"
   ]
  },
  {
   "cell_type": "markdown",
   "metadata": {},
   "source": [
    "#### Изучение и удаление пропусков в датафрейме"
   ]
  },
  {
   "cell_type": "markdown",
   "metadata": {},
   "source": [
    "В столбцах 'film_studio', 'production_country', 'director', пропущенно минимальное кол-во значений, поэтому можно удалить строки с пропусками в данных столбцах так как они не значительно повлияют на размер выборки"
   ]
  },
  {
   "cell_type": "code",
   "execution_count": 18,
   "metadata": {},
   "outputs": [],
   "source": [
    "df = df.dropna(subset=['film_studio', 'production_country', 'director'])"
   ]
  },
  {
   "cell_type": "markdown",
   "metadata": {},
   "source": [
    "В столбце жанр, заменим пропуски на пустые значения"
   ]
  },
  {
   "cell_type": "code",
   "execution_count": 19,
   "metadata": {},
   "outputs": [],
   "source": [
    "df['genres'] = df['genres'].fillna('unknown')"
   ]
  },
  {
   "cell_type": "markdown",
   "metadata": {},
   "source": [
    "* Остальные пропуски оставим без изменений, так как их удаление может существенно повлиять на выборку и следовательно на само исследование."
   ]
  },
  {
   "cell_type": "markdown",
   "metadata": {
    "id": "ssWwKXsxgFyO"
   },
   "source": [
    "#### Замена типа данных"
   ]
  },
  {
   "cell_type": "markdown",
   "metadata": {},
   "source": [
    "Заменим тип данных с object на float, некорректные данные заменим на пропуски. Пропуски оставим без изменений."
   ]
  },
  {
   "cell_type": "code",
   "execution_count": 20,
   "metadata": {},
   "outputs": [],
   "source": [
    "df['ratings'] = pd.to_numeric(df1['ratings'], errors='coerce')"
   ]
  },
  {
   "cell_type": "markdown",
   "metadata": {
    "id": "4c6k1t9ygFyQ"
   },
   "source": [
    "#### Изучение и удаление дубликатов в датафрейме"
   ]
  },
  {
   "cell_type": "markdown",
   "metadata": {},
   "source": [
    "Удалим дубликаты в столбце 'type':\n",
    "* удалим пробелы;\n",
    "* перенесём 'Музыкально-развлекательный жанр' в 'Прочие', так как есть всего один такой фильм. "
   ]
  },
  {
   "cell_type": "code",
   "execution_count": 21,
   "metadata": {},
   "outputs": [
    {
     "data": {
      "text/plain": [
       "Художественный       5897\n",
       "Анимационный          829\n",
       "Прочие                402\n",
       "Документальный        280\n",
       "Научно-популярный      50\n",
       "Name: type, dtype: int64"
      ]
     },
     "execution_count": 21,
     "metadata": {},
     "output_type": "execute_result"
    }
   ],
   "source": [
    "df['type'] = df['type'].str.strip()\n",
    "df.loc[df['type'] == \"Музыкально-развлекательный\", 'type'] = 'Прочие'\n",
    "df['type'].value_counts()"
   ]
  },
  {
   "cell_type": "markdown",
   "metadata": {},
   "source": [
    "#### Добавление новых столбцов"
   ]
  },
  {
   "cell_type": "markdown",
   "metadata": {},
   "source": [
    "Создаём столбец с информацией о годе проката"
   ]
  },
  {
   "cell_type": "code",
   "execution_count": 22,
   "metadata": {},
   "outputs": [],
   "source": [
    "df['year_rental'] = pd.DatetimeIndex(df['show_start_date']).year"
   ]
  },
  {
   "cell_type": "markdown",
   "metadata": {},
   "source": [
    "Создадим два столбца: с именем и фамилией главного режиссёра и основным жанром фильма. В столбцы войдут первые значения из списка режиссёров и жанров соответственно."
   ]
  },
  {
   "cell_type": "code",
   "execution_count": 23,
   "metadata": {},
   "outputs": [],
   "source": [
    "df['main_director'] = df.apply(lambda row: row['director'].split(',')[0], 1)\n",
    "df['main_genres'] = df.apply(lambda row: row['genres'].split(',')[0], 1)"
   ]
  },
  {
   "cell_type": "markdown",
   "metadata": {
    "id": "XFSN5lrEgFyR"
   },
   "source": [
    "#### Провека количественные значения\n",
    "\n"
   ]
  },
  {
   "cell_type": "markdown",
   "metadata": {},
   "source": [
    "Создаём новый датафрейм в который помещаем фильмы с государственной поддержкой "
   ]
  },
  {
   "cell_type": "code",
   "execution_count": 24,
   "metadata": {},
   "outputs": [],
   "source": [
    "df_state = df.query('refundable_support > 0 or nonrefundable_support > 0').copy()"
   ]
  },
  {
   "cell_type": "markdown",
   "metadata": {},
   "source": [
    "Создаем столбец с суммарной государственной помощью"
   ]
  },
  {
   "cell_type": "code",
   "execution_count": 25,
   "metadata": {},
   "outputs": [],
   "source": [
    "df_state['state_money'] = df_state['refundable_support'] + df_state['nonrefundable_support']"
   ]
  },
  {
   "cell_type": "markdown",
   "metadata": {},
   "source": [
    "Заменим тип данных с float на int в столбцах: 'refundable_support', 'nonrefundable_support', 'budget'."
   ]
  },
  {
   "cell_type": "code",
   "execution_count": 26,
   "metadata": {},
   "outputs": [],
   "source": [
    "list1 = ['refundable_support', 'nonrefundable_support', 'budget']\n",
    "for i in list1:\n",
    "    df_state[i] = df_state[i].astype('int')"
   ]
  },
  {
   "cell_type": "markdown",
   "metadata": {},
   "source": [
    "Удаляем фильмы с нулевым бюджетом, полный датафрейм сохраним для исследований"
   ]
  },
  {
   "cell_type": "code",
   "execution_count": 27,
   "metadata": {},
   "outputs": [],
   "source": [
    "df_state_corr = df_state.query('budget != 0').copy()"
   ]
  },
  {
   "cell_type": "markdown",
   "metadata": {},
   "source": [
    "Проверяем что бюджет фильмов выше чем государственная поддержка"
   ]
  },
  {
   "cell_type": "code",
   "execution_count": 28,
   "metadata": {},
   "outputs": [
    {
     "data": {
      "text/plain": [
       "0"
      ]
     },
     "execution_count": 28,
     "metadata": {},
     "output_type": "execute_result"
    }
   ],
   "source": [
    "df_state_corr.query('state_money >= budget').count().sum()"
   ]
  },
  {
   "cell_type": "markdown",
   "metadata": {},
   "source": [
    "Добавим столбец с долей государственной поддержки от общего бюджета фильма."
   ]
  },
  {
   "cell_type": "code",
   "execution_count": 29,
   "metadata": {},
   "outputs": [],
   "source": [
    "try:\n",
    "    df_state_corr['ratio_state'] = (df_state_corr['state_money'] / df_state_corr['budget']).round(2)\n",
    "except:\n",
    "    print('Ошибка, бюджет равен 0')"
   ]
  },
  {
   "cell_type": "markdown",
   "metadata": {
    "id": "6t4EukPLgFyV"
   },
   "source": [
    "### Исследовательский анализ данных\n"
   ]
  },
  {
   "cell_type": "markdown",
   "metadata": {
    "id": "vAH8WCzugFyV"
   },
   "source": [
    "Посмотрим, сколько фильмов выходило в прокат каждый год."
   ]
  },
  {
   "cell_type": "code",
   "execution_count": 30,
   "metadata": {
    "id": "ABeV47y7gFyW"
   },
   "outputs": [
    {
     "data": {
      "image/png": "[encoded data removed]",
      "text/plain": [
       "<Figure size 432x288 with 1 Axes>"
      ]
     },
     "metadata": {
      "needs_background": "light"
     },
     "output_type": "display_data"
    }
   ],
   "source": [
    "df.groupby('year_rental')['title'].count().plot(grid=True, style='-o')\n",
    "plt.title('Динамика выхода фильмов по годам')\n",
    "plt.xlabel('Года')\n",
    "plt.ylabel('Количество фильмов')\n",
    "plt.show()"
   ]
  },
  {
   "cell_type": "markdown",
   "metadata": {},
   "source": [
    "* В 2010 и 2019 г. вышло больше всего фильмов в прокат - более 900 фильмов, в 2017 г. меньше всего - около 500 фильмов"
   ]
  },
  {
   "cell_type": "code",
   "execution_count": 31,
   "metadata": {},
   "outputs": [
    {
     "name": "stdout",
     "output_type": "stream",
     "text": [
      "Доля фильмов с информацией о прокате в Российских кинотеатрах: 42.30%\n"
     ]
    }
   ],
   "source": [
    "print(f\"Доля фильмов с информацией о прокате в Российских кинотеатрах: {df['box_office'].count()/df['title'].count():.2%}\")"
   ]
  },
  {
   "cell_type": "markdown",
   "metadata": {},
   "source": [
    "Поместим в отдельный датафрейм фильм с информацией о прокате в Российских кинотеатрах и заменим в в столбце 'box_office', тип с float на int"
   ]
  },
  {
   "cell_type": "code",
   "execution_count": 32,
   "metadata": {},
   "outputs": [],
   "source": [
    "df_box_office = df.query('box_office > 0').copy()\n",
    "df_box_office['box_office'] = df_box_office['box_office'].astype('int')"
   ]
  },
  {
   "cell_type": "markdown",
   "metadata": {},
   "source": [
    "Изучим, как менялась динамика проката по годам. В каком году сумма сборов была минимальной? А максимальной?"
   ]
  },
  {
   "cell_type": "code",
   "execution_count": 33,
   "metadata": {},
   "outputs": [
    {
     "data": {
      "image/png": "[encoded data removed]",
      "text/plain": [
       "<Figure size 432x288 with 1 Axes>"
      ]
     },
     "metadata": {
      "needs_background": "light"
     },
     "output_type": "display_data"
    }
   ],
   "source": [
    "df_box_office.groupby('year_rental')['box_office'].sum().plot(grid=True, style='-o')\n",
    "plt.title('Динамика проката по годам')\n",
    "plt.xlabel('Года')\n",
    "plt.ylabel('Сумма сборов, р.')\n",
    "plt.show()"
   ]
  },
  {
   "cell_type": "markdown",
   "metadata": {},
   "source": [
    "Похоже информация с 2010 по 2014 год вводилась не корректно, удалим информацию о этих годах из выборки, и построим график ещё раз"
   ]
  },
  {
   "cell_type": "code",
   "execution_count": 34,
   "metadata": {},
   "outputs": [],
   "source": [
    "df_box_office = df_box_office.query('year_rental > 2014')"
   ]
  },
  {
   "cell_type": "code",
   "execution_count": 35,
   "metadata": {},
   "outputs": [
    {
     "data": {
      "image/png": "[encoded data removed]",
      "text/plain": [
       "<Figure size 432x288 with 1 Axes>"
      ]
     },
     "metadata": {
      "needs_background": "light"
     },
     "output_type": "display_data"
    }
   ],
   "source": [
    "df_box_office.groupby('year_rental')['box_office'].sum().plot(grid=True, style='-o')\n",
    "plt.title('Динамика проката по годам')\n",
    "plt.xlabel('Года')\n",
    "plt.ylabel('Сумма сборов, р.')\n",
    "plt.show()"
   ]
  },
  {
   "cell_type": "markdown",
   "metadata": {},
   "source": [
    "В 2015 году были минимальные сборы в районе 4 млрд. р., а в 2018 г. - максимальные сборы, около 5 млрд. р."
   ]
  },
  {
   "cell_type": "markdown",
   "metadata": {
    "id": "G-7qS-N-gFyY"
   },
   "source": [
    "Посчитаем среднюю и медианную сумму сборов для каждого года."
   ]
  },
  {
   "cell_type": "code",
   "execution_count": 36,
   "metadata": {
    "id": "jmp-rgg9gFyY"
   },
   "outputs": [
    {
     "data": {
      "text/html": [
       "<div>\n",
       "<style scoped>\n",
       "    .dataframe tbody tr th:only-of-type {\n",
       "        vertical-align: middle;\n",
       "    }\n",
       "\n",
       "    .dataframe tbody tr th {\n",
       "        vertical-align: top;\n",
       "    }\n",
       "\n",
       "    .dataframe thead th {\n",
       "        text-align: right;\n",
       "    }\n",
       "</style>\n",
       "<table border=\"1\" class=\"dataframe\">\n",
       "  <thead>\n",
       "    <tr style=\"text-align: right;\">\n",
       "      <th></th>\n",
       "      <th>mean</th>\n",
       "      <th>50%</th>\n",
       "    </tr>\n",
       "    <tr>\n",
       "      <th>year_rental</th>\n",
       "      <th></th>\n",
       "      <th></th>\n",
       "    </tr>\n",
       "  </thead>\n",
       "  <tbody>\n",
       "    <tr>\n",
       "      <td>2015</td>\n",
       "      <td>8.549213e+07</td>\n",
       "      <td>5003449.5</td>\n",
       "    </tr>\n",
       "    <tr>\n",
       "      <td>2016</td>\n",
       "      <td>9.134753e+07</td>\n",
       "      <td>3957926.0</td>\n",
       "    </tr>\n",
       "    <tr>\n",
       "      <td>2017</td>\n",
       "      <td>1.360328e+08</td>\n",
       "      <td>9968340.0</td>\n",
       "    </tr>\n",
       "    <tr>\n",
       "      <td>2018</td>\n",
       "      <td>1.047856e+08</td>\n",
       "      <td>8911533.5</td>\n",
       "    </tr>\n",
       "    <tr>\n",
       "      <td>2019</td>\n",
       "      <td>9.136926e+07</td>\n",
       "      <td>4627798.0</td>\n",
       "    </tr>\n",
       "  </tbody>\n",
       "</table>\n",
       "</div>"
      ],
      "text/plain": [
       "                     mean        50%\n",
       "year_rental                         \n",
       "2015         8.549213e+07  5003449.5\n",
       "2016         9.134753e+07  3957926.0\n",
       "2017         1.360328e+08  9968340.0\n",
       "2018         1.047856e+08  8911533.5\n",
       "2019         9.136926e+07  4627798.0"
      ]
     },
     "execution_count": 36,
     "metadata": {},
     "output_type": "execute_result"
    }
   ],
   "source": [
    "df_box_office.groupby('year_rental')['box_office'].describe().loc[:,['mean', '50%']]"
   ]
  },
  {
   "cell_type": "code",
   "execution_count": 37,
   "metadata": {},
   "outputs": [
    {
     "data": {
      "image/png": "[encoded data removed]",
      "text/plain": [
       "<Figure size 432x288 with 1 Axes>"
      ]
     },
     "metadata": {
      "needs_background": "light"
     },
     "output_type": "display_data"
    }
   ],
   "source": [
    "df_box_office.groupby('year_rental')['box_office'].describe().loc[:,['mean', '50%']].plot(grid=True, style='-o')\n",
    "plt.title('Среднии и медианные суммы сборов для каждого года')\n",
    "plt.xlabel('Года')\n",
    "plt.ylabel('Сумма сборов, р.')\n",
    "plt.show()"
   ]
  },
  {
   "cell_type": "markdown",
   "metadata": {},
   "source": [
    "* Медианные и средние значения очень сильно отличаются, скорее всего есть выбивающиеся значения\n",
    "* В 2017 г. была самая высокая средняя и медианная сумма сборов, 136 млн. и 9,9 млн. соответственно, в 2016 и 2019 г. самая низкая"
   ]
  },
  {
   "cell_type": "markdown",
   "metadata": {
    "id": "Ok89WFwJgFyZ"
   },
   "source": [
    "Определим влияет ли возрастное ограничение аудитории («6+», «12+», «16+», «18+» и т. д.) на сборы фильма в прокате в период с 2015 по 2019 год. Фильмы с каким возрастным ограничением собрали больше всего денег в прокате. Меняется ли картина в зависимости от года."
   ]
  },
  {
   "cell_type": "code",
   "execution_count": 38,
   "metadata": {},
   "outputs": [
    {
     "data": {
      "image/png": "[encoded data removed]",
      "text/plain": [
       "<Figure size 432x288 with 1 Axes>"
      ]
     },
     "metadata": {
      "needs_background": "light"
     },
     "output_type": "display_data"
    }
   ],
   "source": [
    "df_box_office.groupby('age_restriction')['box_office'].median().plot(kind='barh', grid=True)\n",
    "plt.title('Медианная сумма сборов по возрастным ограничениям аудитории')\n",
    "plt.xlabel('Сумма сборов, р.')\n",
    "plt.ylabel('Возрастные ограничения')\n",
    "plt.show()"
   ]
  },
  {
   "cell_type": "markdown",
   "metadata": {},
   "source": [
    "* Меньше всего медианная сумма сборов у фильмов с возрастным ограничением \"0+\" (3 млн. р.), больше всего у фильмов с возрастным ограничением \"6+\" (14 млн. р.)"
   ]
  },
  {
   "cell_type": "markdown",
   "metadata": {},
   "source": [
    "Посмотрим меняется ли картина в зависимости от года"
   ]
  },
  {
   "cell_type": "code",
   "execution_count": 39,
   "metadata": {},
   "outputs": [
    {
     "data": {
      "image/png": "[encoded data removed]",
      "text/plain": [
       "<Figure size 864x432 with 1 Axes>"
      ]
     },
     "metadata": {
      "needs_background": "light"
     },
     "output_type": "display_data"
    }
   ],
   "source": [
    "df_box_office.pivot_table(index='year_rental', columns='age_restriction', values='box_office', aggfunc='median').plot(\n",
    "        kind='barh', grid=True, figsize=(12,6)\n",
    ")\n",
    "plt.title('Медианная сумма сборов по возрастным ограничениям аудитории')\n",
    "plt.xlabel('Сумма сборов, р.')\n",
    "plt.ylabel('Года')\n",
    "plt.show()"
   ]
  },
  {
   "cell_type": "markdown",
   "metadata": {},
   "source": [
    "* фильмы с возрастным ограничением \"0+\", во все года, кроме 2017 года, показали наименьшие суммы сборов;\n",
    "* фильмы с возрастным ограничением \"6+\", во все года, кроме 2016 года, показали наибольшие суммы сборов;\n",
    "* меняющееся картина по возрастным ограничениям, в некоторые года, может быть связана с выходом кассовых фильмов в данных возрастных рамках; "
   ]
  },
  {
   "cell_type": "markdown",
   "metadata": {
    "id": "l_Kg6Ku4gFya"
   },
   "source": [
    "### Исследование фильмов, которые получили государственную поддержку"
   ]
  },
  {
   "cell_type": "markdown",
   "metadata": {},
   "source": [
    "Посчитаем какая сумму была выделена государством на поддержку кино, с 2013 по 2019 год."
   ]
  },
  {
   "cell_type": "code",
   "execution_count": 40,
   "metadata": {},
   "outputs": [
    {
     "data": {
      "text/plain": [
       "20200688312.0"
      ]
     },
     "execution_count": 40,
     "metadata": {},
     "output_type": "execute_result"
    }
   ],
   "source": [
    "df_state['state_money'].sum()"
   ]
  },
  {
   "cell_type": "markdown",
   "metadata": {},
   "source": [
    "Построим график суммы государственной поддержки по годам"
   ]
  },
  {
   "cell_type": "code",
   "execution_count": 41,
   "metadata": {},
   "outputs": [
    {
     "data": {
      "image/png": "[encoded data removed]",
      "text/plain": [
       "<Figure size 432x288 with 1 Axes>"
      ]
     },
     "metadata": {
      "needs_background": "light"
     },
     "output_type": "display_data"
    }
   ],
   "source": [
    "df_state.groupby('year_rental')['state_money'].sum().plot(grid=True, style='-o')\n",
    "plt.title('Сумма государственной поддержки по годам')\n",
    "plt.xlabel('Года')\n",
    "plt.ylabel('Сумма, млрд. р.')\n",
    "plt.xticks(rotation = 45, ha='right')\n",
    "plt.show()"
   ]
  },
  {
   "cell_type": "markdown",
   "metadata": {},
   "source": [
    "* сумма государственной поддержки была низкой в 2013  и 2014 год - менее 1 млрд. р.\n",
    "* в 2015 г., государственная поддержка резко выросла и составила 3,6 млрд. р.\n",
    "* в 2019 г., государственная поддержка достигла своего пика - 5 млрд. р. "
   ]
  },
  {
   "cell_type": "code",
   "execution_count": 42,
   "metadata": {
    "id": "W9QKpjUdgFyb"
   },
   "outputs": [],
   "source": [
    "df_state_corr_box_office = df_state_corr.query('box_office > 0').copy()"
   ]
  },
  {
   "cell_type": "code",
   "execution_count": 43,
   "metadata": {},
   "outputs": [],
   "source": [
    "df_state_corr_box_office['payback'] = (df_state_corr_box_office['box_office'] / df_state_corr_box_office['budget'])"
   ]
  },
  {
   "cell_type": "code",
   "execution_count": 44,
   "metadata": {},
   "outputs": [
    {
     "data": {
      "text/html": [
       "<div>\n",
       "<style scoped>\n",
       "    .dataframe tbody tr th:only-of-type {\n",
       "        vertical-align: middle;\n",
       "    }\n",
       "\n",
       "    .dataframe tbody tr th {\n",
       "        vertical-align: top;\n",
       "    }\n",
       "\n",
       "    .dataframe thead th {\n",
       "        text-align: right;\n",
       "    }\n",
       "</style>\n",
       "<table border=\"1\" class=\"dataframe\">\n",
       "  <thead>\n",
       "    <tr style=\"text-align: right;\">\n",
       "      <th></th>\n",
       "      <th>budget</th>\n",
       "      <th>box_office</th>\n",
       "      <th>payback</th>\n",
       "      <th>state_money</th>\n",
       "      <th>ratio_state</th>\n",
       "      <th>ratings</th>\n",
       "    </tr>\n",
       "  </thead>\n",
       "  <tbody>\n",
       "    <tr>\n",
       "      <td>count</td>\n",
       "      <td>3.010000e+02</td>\n",
       "      <td>3.010000e+02</td>\n",
       "      <td>301.000000</td>\n",
       "      <td>3.010000e+02</td>\n",
       "      <td>301.000000</td>\n",
       "      <td>241.00000</td>\n",
       "    </tr>\n",
       "    <tr>\n",
       "      <td>mean</td>\n",
       "      <td>1.348378e+08</td>\n",
       "      <td>1.306983e+08</td>\n",
       "      <td>0.763310</td>\n",
       "      <td>5.953222e+07</td>\n",
       "      <td>0.516777</td>\n",
       "      <td>6.09834</td>\n",
       "    </tr>\n",
       "    <tr>\n",
       "      <td>std</td>\n",
       "      <td>1.891407e+08</td>\n",
       "      <td>3.391903e+08</td>\n",
       "      <td>1.672880</td>\n",
       "      <td>6.988684e+07</td>\n",
       "      <td>0.169733</td>\n",
       "      <td>1.18845</td>\n",
       "    </tr>\n",
       "    <tr>\n",
       "      <td>min</td>\n",
       "      <td>1.446246e+07</td>\n",
       "      <td>1.550000e+03</td>\n",
       "      <td>0.000017</td>\n",
       "      <td>4.700000e+06</td>\n",
       "      <td>0.040000</td>\n",
       "      <td>2.90000</td>\n",
       "    </tr>\n",
       "    <tr>\n",
       "      <td>25%</td>\n",
       "      <td>4.616000e+07</td>\n",
       "      <td>1.067649e+06</td>\n",
       "      <td>0.022548</td>\n",
       "      <td>2.590000e+07</td>\n",
       "      <td>0.370000</td>\n",
       "      <td>5.40000</td>\n",
       "    </tr>\n",
       "    <tr>\n",
       "      <td>50%</td>\n",
       "      <td>7.500014e+07</td>\n",
       "      <td>1.274840e+07</td>\n",
       "      <td>0.148664</td>\n",
       "      <td>3.500000e+07</td>\n",
       "      <td>0.590000</td>\n",
       "      <td>6.20000</td>\n",
       "    </tr>\n",
       "    <tr>\n",
       "      <td>75%</td>\n",
       "      <td>1.542457e+08</td>\n",
       "      <td>1.031348e+08</td>\n",
       "      <td>0.783883</td>\n",
       "      <td>6.000000e+07</td>\n",
       "      <td>0.660000</td>\n",
       "      <td>7.00000</td>\n",
       "    </tr>\n",
       "    <tr>\n",
       "      <td>max</td>\n",
       "      <td>2.305074e+09</td>\n",
       "      <td>3.073569e+09</td>\n",
       "      <td>19.209804</td>\n",
       "      <td>5.000000e+08</td>\n",
       "      <td>0.780000</td>\n",
       "      <td>8.70000</td>\n",
       "    </tr>\n",
       "  </tbody>\n",
       "</table>\n",
       "</div>"
      ],
      "text/plain": [
       "             budget    box_office     payback   state_money  ratio_state  \\\n",
       "count  3.010000e+02  3.010000e+02  301.000000  3.010000e+02   301.000000   \n",
       "mean   1.348378e+08  1.306983e+08    0.763310  5.953222e+07     0.516777   \n",
       "std    1.891407e+08  3.391903e+08    1.672880  6.988684e+07     0.169733   \n",
       "min    1.446246e+07  1.550000e+03    0.000017  4.700000e+06     0.040000   \n",
       "25%    4.616000e+07  1.067649e+06    0.022548  2.590000e+07     0.370000   \n",
       "50%    7.500014e+07  1.274840e+07    0.148664  3.500000e+07     0.590000   \n",
       "75%    1.542457e+08  1.031348e+08    0.783883  6.000000e+07     0.660000   \n",
       "max    2.305074e+09  3.073569e+09   19.209804  5.000000e+08     0.780000   \n",
       "\n",
       "         ratings  \n",
       "count  241.00000  \n",
       "mean     6.09834  \n",
       "std      1.18845  \n",
       "min      2.90000  \n",
       "25%      5.40000  \n",
       "50%      6.20000  \n",
       "75%      7.00000  \n",
       "max      8.70000  "
      ]
     },
     "execution_count": 44,
     "metadata": {},
     "output_type": "execute_result"
    }
   ],
   "source": [
    "df_state_corr_box_office[['budget', 'box_office', 'payback', 'state_money', 'ratio_state', 'ratings']].describe()"
   ]
  },
  {
   "cell_type": "code",
   "execution_count": 45,
   "metadata": {},
   "outputs": [
    {
     "data": {
      "text/plain": [
       "6.6"
      ]
     },
     "execution_count": 45,
     "metadata": {},
     "output_type": "execute_result"
    }
   ],
   "source": [
    "df['ratings'].median()"
   ]
  },
  {
   "cell_type": "markdown",
   "metadata": {},
   "source": [
    "* Медианная окупаемость фильмов очень низкая - сборы принесли лишь 15% от затраченных средств на производство фильма;\n",
    "* Медианный рейтинг фильмов составил 6,2 - это довольно низкий показатель, медианный рейтинг по всей выборке составил 6,6;\n",
    "* Государственная помощь составила 59% (медианное значение) от общего бюджета."
   ]
  },
  {
   "cell_type": "markdown",
   "metadata": {},
   "source": [
    "Посмотрим фильмы с какой возрастной группой больше поддерживаются государством"
   ]
  },
  {
   "cell_type": "code",
   "execution_count": 46,
   "metadata": {},
   "outputs": [
    {
     "data": {
      "image/png": "[encoded data removed]",
      "text/plain": [
       "<Figure size 432x288 with 1 Axes>"
      ]
     },
     "metadata": {
      "needs_background": "light"
     },
     "output_type": "display_data"
    }
   ],
   "source": [
    "df_state.groupby('age_restriction')['state_money'].sum().plot(kind='barh', grid=True)\n",
    "plt.title('Сумма поддержки от государства, по возрастным ограничениям аудитории')\n",
    "plt.xlabel('Сумма поддержки от государства, р.')\n",
    "plt.ylabel('Возрастные ограничения')\n",
    "plt.show()"
   ]
  },
  {
   "cell_type": "markdown",
   "metadata": {},
   "source": [
    "* больше всего государством поддерживаются фильмы с возрастным ограничением \"12+\", на такие фильмы выделенно около 8 млрд. р., меньше всего на фильмы с возрастным ограничением \"0+\" - выделено 200 млн. р."
   ]
  },
  {
   "cell_type": "markdown",
   "metadata": {},
   "source": [
    "Посмотрим на сборы фильмов с поддержкой государства, по возрастным категориям."
   ]
  },
  {
   "cell_type": "code",
   "execution_count": 47,
   "metadata": {},
   "outputs": [
    {
     "data": {
      "image/png": "[encoded data removed]",
      "text/plain": [
       "<Figure size 432x288 with 1 Axes>"
      ]
     },
     "metadata": {
      "needs_background": "light"
     },
     "output_type": "display_data"
    }
   ],
   "source": [
    "df_state.groupby('age_restriction')['box_office'].sum().plot(kind='barh', grid=True)\n",
    "plt.title('Сумма сборов по возрастным ограничениям аудитории, для фильмов с государственной поддержкой')\n",
    "plt.xlabel('Сумма сборов, р.')\n",
    "plt.ylabel('Возрастные ограничения')\n",
    "plt.show()"
   ]
  },
  {
   "cell_type": "markdown",
   "metadata": {},
   "source": [
    "* Больше всего собрали фильмы с возрастным ограничением \"12+\" - 20 млрд. р., меньше всего фильмы с возрастным ограничением \"0+\" и \"18+\" - менее 1 млрд. р."
   ]
  },
  {
   "cell_type": "markdown",
   "metadata": {},
   "source": [
    "Посмотрим топ-10 окупаемых фильмов, с государственной поддержкой"
   ]
  },
  {
   "cell_type": "code",
   "execution_count": 48,
   "metadata": {},
   "outputs": [
    {
     "data": {
      "text/html": [
       "<div>\n",
       "<style scoped>\n",
       "    .dataframe tbody tr th:only-of-type {\n",
       "        vertical-align: middle;\n",
       "    }\n",
       "\n",
       "    .dataframe tbody tr th {\n",
       "        vertical-align: top;\n",
       "    }\n",
       "\n",
       "    .dataframe thead th {\n",
       "        text-align: right;\n",
       "    }\n",
       "</style>\n",
       "<table border=\"1\" class=\"dataframe\">\n",
       "  <thead>\n",
       "    <tr style=\"text-align: right;\">\n",
       "      <th></th>\n",
       "      <th>payback</th>\n",
       "    </tr>\n",
       "    <tr>\n",
       "      <th>title</th>\n",
       "      <th></th>\n",
       "    </tr>\n",
       "  </thead>\n",
       "  <tbody>\n",
       "    <tr>\n",
       "      <td>Холоп</td>\n",
       "      <td>19.209804</td>\n",
       "    </tr>\n",
       "    <tr>\n",
       "      <td>Лёд</td>\n",
       "      <td>9.729984</td>\n",
       "    </tr>\n",
       "    <tr>\n",
       "      <td>Я худею</td>\n",
       "      <td>7.227251</td>\n",
       "    </tr>\n",
       "    <tr>\n",
       "      <td>Гуляй, Вася !</td>\n",
       "      <td>6.643566</td>\n",
       "    </tr>\n",
       "    <tr>\n",
       "      <td>Самый Лучший День</td>\n",
       "      <td>5.229157</td>\n",
       "    </tr>\n",
       "    <tr>\n",
       "      <td>8 новых свиданий</td>\n",
       "      <td>5.081857</td>\n",
       "    </tr>\n",
       "    <tr>\n",
       "      <td>Ёлки Новые</td>\n",
       "      <td>4.905618</td>\n",
       "    </tr>\n",
       "    <tr>\n",
       "      <td>Непрощенный</td>\n",
       "      <td>4.767206</td>\n",
       "    </tr>\n",
       "    <tr>\n",
       "      <td>Движение вверх</td>\n",
       "      <td>4.709798</td>\n",
       "    </tr>\n",
       "    <tr>\n",
       "      <td>Последний богатырь</td>\n",
       "      <td>4.695441</td>\n",
       "    </tr>\n",
       "  </tbody>\n",
       "</table>\n",
       "</div>"
      ],
      "text/plain": [
       "                      payback\n",
       "title                        \n",
       "Холоп               19.209804\n",
       "Лёд                  9.729984\n",
       "Я худею              7.227251\n",
       "Гуляй, Вася !        6.643566\n",
       "Самый Лучший День    5.229157\n",
       "8 новых свиданий     5.081857\n",
       "Ёлки Новые           4.905618\n",
       "Непрощенный          4.767206\n",
       "Движение вверх       4.709798\n",
       "Последний богатырь   4.695441"
      ]
     },
     "execution_count": 48,
     "metadata": {},
     "output_type": "execute_result"
    }
   ],
   "source": [
    "df_state_corr_box_office.pivot_table(index='title', values='payback').sort_values(\n",
    "    by='payback', ascending=False\n",
    ").head(10)"
   ]
  },
  {
   "cell_type": "markdown",
   "metadata": {},
   "source": [
    "Посмотрим топ-10 фильмов с самым высоким рейтингом, с государственной поддержкой"
   ]
  },
  {
   "cell_type": "code",
   "execution_count": 49,
   "metadata": {
    "scrolled": true
   },
   "outputs": [
    {
     "data": {
      "text/html": [
       "<div>\n",
       "<style scoped>\n",
       "    .dataframe tbody tr th:only-of-type {\n",
       "        vertical-align: middle;\n",
       "    }\n",
       "\n",
       "    .dataframe tbody tr th {\n",
       "        vertical-align: top;\n",
       "    }\n",
       "\n",
       "    .dataframe thead th {\n",
       "        text-align: right;\n",
       "    }\n",
       "</style>\n",
       "<table border=\"1\" class=\"dataframe\">\n",
       "  <thead>\n",
       "    <tr style=\"text-align: right;\">\n",
       "      <th></th>\n",
       "      <th>ratings</th>\n",
       "    </tr>\n",
       "    <tr>\n",
       "      <th>title</th>\n",
       "      <th></th>\n",
       "    </tr>\n",
       "  </thead>\n",
       "  <tbody>\n",
       "    <tr>\n",
       "      <td>Зоология</td>\n",
       "      <td>8.7</td>\n",
       "    </tr>\n",
       "    <tr>\n",
       "      <td>Проигранное место</td>\n",
       "      <td>8.6</td>\n",
       "    </tr>\n",
       "    <tr>\n",
       "      <td>Две женщины</td>\n",
       "      <td>8.5</td>\n",
       "    </tr>\n",
       "    <tr>\n",
       "      <td>Чистое искусство.</td>\n",
       "      <td>8.2</td>\n",
       "    </tr>\n",
       "    <tr>\n",
       "      <td>Подкидыш</td>\n",
       "      <td>8.2</td>\n",
       "    </tr>\n",
       "    <tr>\n",
       "      <td>Волки и Овцы: Ход Свиньей</td>\n",
       "      <td>8.1</td>\n",
       "    </tr>\n",
       "    <tr>\n",
       "      <td>Пока еще жива</td>\n",
       "      <td>8.1</td>\n",
       "    </tr>\n",
       "    <tr>\n",
       "      <td>Блокбастер</td>\n",
       "      <td>8.0</td>\n",
       "    </tr>\n",
       "    <tr>\n",
       "      <td>Новогодний ремонт</td>\n",
       "      <td>8.0</td>\n",
       "    </tr>\n",
       "    <tr>\n",
       "      <td>Легенда о Коловрате</td>\n",
       "      <td>8.0</td>\n",
       "    </tr>\n",
       "  </tbody>\n",
       "</table>\n",
       "</div>"
      ],
      "text/plain": [
       "                           ratings\n",
       "title                             \n",
       "Зоология                       8.7\n",
       "Проигранное место              8.6\n",
       "Две женщины                    8.5\n",
       "Чистое искусство.              8.2\n",
       "Подкидыш                       8.2\n",
       "Волки и Овцы: Ход Свиньей      8.1\n",
       "Пока еще жива                  8.1\n",
       "Блокбастер                     8.0\n",
       "Новогодний ремонт              8.0\n",
       "Легенда о Коловрате            8.0"
      ]
     },
     "execution_count": 49,
     "metadata": {},
     "output_type": "execute_result"
    }
   ],
   "source": [
    "df_state_corr_box_office.pivot_table(index='title', values='ratings').sort_values(\n",
    "    by='ratings', ascending=False\n",
    ").head(10)"
   ]
  },
  {
   "cell_type": "markdown",
   "metadata": {
    "id": "V2gYwMcPgFyd"
   },
   "source": [
    "### Общий вывод"
   ]
  },
  {
   "cell_type": "markdown",
   "metadata": {
    "id": "AYRg3dzXgFye"
   },
   "source": [
    "Выводы по выборке в целом:\n",
    "\n",
    "* в 2010 и 2019 г. вышло больше всего фильмов в прокат - более 900 фильмов, в 2017 г. меньше всего - около 500 фильмов;\n",
    "* доля фильмов с информацией о прокате в Российских кинотеатрах: 42.30%;\n",
    "* в 2015 году были минимальные сборы в районе 4 млрд. р., а в 2018 г. - максимальные сборы, около 5 млрд. р.;\n",
    "* медианные и средние значения суммы сборов для каждого года, очень сильно отличаются, скорее всего есть выбивающиеся значения;\n",
    "* в 2017 г. была самая высокая средняя и медианная сумма сборов, 136 млн. и 9,9 млн. соответственно, в 2016 и 2019 г. самая низкая;\n",
    "*  меньше всего медианная сумма сборов у фильмов с возрастным ограничением \"0+\" (2 млн. р.), больше всего у фильмов с возрастным ограничением \"6+\" (14 млн. р.);\n",
    "* фильмы с возрастным ограничением \"0+\", во все года, кроме 2017 года, показали наименьшие суммы сборов;\n",
    "* фильмы с возрастным ограничением \"6+\", во все года, кроме 2016 года, показали наибольшие суммы сборов;\n",
    "* меняющееся картина по возрастным ограничениям, в некоторые года, может быть связана с выходом кассовых фильмов в данных возрастных рамках; \n",
    "\n",
    "Выводы по фильмам с государственной поддержкой:\n",
    "\n",
    "* 20,2 млрд. р. выделило государство на поддержку кино, с 2013 по 2019 год.\n",
    "* сумма государственной поддержки была низкой в 2013  и 2014 год - менее 1 млрд. р.\n",
    "* в 2015 г., государственная поддержка резко выросла и составила 3,6 млрд. р.\n",
    "* в 2019 г., государственная поддержка достигла своего пика - 5 млрд. р. \n",
    "* медианная окупаемость фильмов очень низкая - сборы принесли лишь 15% от затраченных средств на производство фильма;\n",
    "* медианный рейтинг фильмов составил 6,2 - это довольно низкий показатель, медианный рейтинг по всей выборке составил 6,6;\n",
    "* государственная помощь составила 59% (медианное значение) от общего бюджета;\n",
    "* больше всего государством поддерживаются фильмы с возрастным ограничением \"12+\", на такие фильмы выделенно около 8 млрд. р., меньше всего на фильмы с возрастным ограничением \"0+\" - выделено 200 млн. р.;\n",
    "* Больше всего собрали фильмы с возрастным ограничением \"12+\" - 20 млрд. р., меньше всего фильмы с возрастным ограничением \"0+\" и \"18+\" - менее 1 млрд. р.;\n",
    "* топ 3 фильмов по окупаемости: Холоп - принёс в 19 раз больше, чем было затраченно средств, Лёд - принёс в 9,7 раз больше, чем было затраченно средств, Я-худею - принёс в 7,2 раз больше, чем было затраченно средств;\n",
    "* топ 3 фильмов по рейтингу: Зоология -\t8.7, Проигранное место - 8.6, Две женщины - 8.5."
   ]
  }
 ],
 "metadata": {
  "ExecuteTimeLog": [
   {
    "duration": 537,
    "start_time": "2021-07-07T10:12:08.634Z"
   },
   {
    "duration": 206,
    "start_time": "2021-07-07T10:12:30.191Z"
   },
   {
    "duration": 227,
    "start_time": "2021-07-07T10:12:33.078Z"
   },
   {
    "duration": 153,
    "start_time": "2021-07-07T10:13:42.146Z"
   },
   {
    "duration": 233,
    "start_time": "2021-07-07T10:30:09.252Z"
   },
   {
    "duration": 19,
    "start_time": "2021-07-07T10:30:15.577Z"
   },
   {
    "duration": 18,
    "start_time": "2021-07-07T10:30:57.348Z"
   },
   {
    "duration": 19,
    "start_time": "2021-07-07T10:31:17.452Z"
   },
   {
    "duration": 21,
    "start_time": "2021-07-07T10:31:32.227Z"
   },
   {
    "duration": 27,
    "start_time": "2021-07-07T10:32:06.588Z"
   },
   {
    "duration": 23,
    "start_time": "2021-07-07T10:32:43.645Z"
   },
   {
    "duration": 24,
    "start_time": "2021-07-07T10:33:06.948Z"
   },
   {
    "duration": 7,
    "start_time": "2021-07-07T10:33:28.558Z"
   },
   {
    "duration": 23,
    "start_time": "2021-07-07T10:33:43.761Z"
   },
   {
    "duration": 28,
    "start_time": "2021-07-07T10:34:13.466Z"
   },
   {
    "duration": 23,
    "start_time": "2021-07-07T10:35:56.187Z"
   },
   {
    "duration": 6,
    "start_time": "2021-07-07T10:36:48.182Z"
   },
   {
    "duration": 14,
    "start_time": "2021-07-07T10:37:49.641Z"
   },
   {
    "duration": 6,
    "start_time": "2021-07-07T10:38:06.694Z"
   },
   {
    "duration": 6,
    "start_time": "2021-07-07T10:38:13.493Z"
   },
   {
    "duration": 19,
    "start_time": "2021-07-07T10:38:44.056Z"
   },
   {
    "duration": 186,
    "start_time": "2021-07-07T10:48:35.618Z"
   },
   {
    "duration": 24,
    "start_time": "2021-07-07T10:48:51.498Z"
   },
   {
    "duration": 20,
    "start_time": "2021-07-07T10:48:59.415Z"
   },
   {
    "duration": 20,
    "start_time": "2021-07-07T10:53:02.195Z"
   },
   {
    "duration": 188,
    "start_time": "2021-07-07T10:54:40.486Z"
   },
   {
    "duration": 115,
    "start_time": "2021-07-07T10:54:52.552Z"
   },
   {
    "duration": 214,
    "start_time": "2021-07-07T10:54:56.354Z"
   },
   {
    "duration": 47,
    "start_time": "2021-07-07T10:54:58.282Z"
   },
   {
    "duration": 217,
    "start_time": "2021-07-07T10:59:16.075Z"
   },
   {
    "duration": 51,
    "start_time": "2021-07-07T10:59:16.243Z"
   },
   {
    "duration": 578,
    "start_time": "2021-07-07T10:59:18.774Z"
   },
   {
    "duration": 161,
    "start_time": "2021-07-07T10:59:21.238Z"
   },
   {
    "duration": 59,
    "start_time": "2021-07-07T10:59:21.453Z"
   },
   {
    "duration": 3,
    "start_time": "2021-07-07T11:02:10.786Z"
   },
   {
    "duration": 13,
    "start_time": "2021-07-07T11:07:07.722Z"
   },
   {
    "duration": 26,
    "start_time": "2021-07-07T11:07:17.958Z"
   },
   {
    "duration": 22,
    "start_time": "2021-07-07T11:08:17.939Z"
   },
   {
    "duration": 212,
    "start_time": "2021-07-07T11:08:19.665Z"
   },
   {
    "duration": 21,
    "start_time": "2021-07-07T11:08:29.945Z"
   },
   {
    "duration": 31,
    "start_time": "2021-07-07T11:08:38.899Z"
   },
   {
    "duration": 23,
    "start_time": "2021-07-07T11:08:54.527Z"
   },
   {
    "duration": 8,
    "start_time": "2021-07-07T11:18:55.974Z"
   },
   {
    "duration": 7,
    "start_time": "2021-07-07T11:19:03.639Z"
   },
   {
    "duration": 7,
    "start_time": "2021-07-07T11:19:06.444Z"
   },
   {
    "duration": 578,
    "start_time": "2021-07-07T12:09:59.576Z"
   },
   {
    "duration": 195,
    "start_time": "2021-07-07T12:10:00.156Z"
   },
   {
    "duration": 115,
    "start_time": "2021-07-07T12:10:00.353Z"
   },
   {
    "duration": 3,
    "start_time": "2021-07-07T12:10:00.470Z"
   },
   {
    "duration": 32,
    "start_time": "2021-07-07T12:10:00.474Z"
   },
   {
    "duration": 23,
    "start_time": "2021-07-07T12:10:00.508Z"
   },
   {
    "duration": 19,
    "start_time": "2021-07-07T12:10:00.533Z"
   },
   {
    "duration": 44,
    "start_time": "2021-07-07T12:10:00.553Z"
   },
   {
    "duration": 7,
    "start_time": "2021-07-07T12:10:00.600Z"
   },
   {
    "duration": 7,
    "start_time": "2021-07-07T12:19:45.761Z"
   },
   {
    "duration": 21,
    "start_time": "2021-07-07T12:21:35.482Z"
   },
   {
    "duration": 21,
    "start_time": "2021-07-07T12:29:23.569Z"
   },
   {
    "duration": 525,
    "start_time": "2021-07-07T12:29:44.542Z"
   },
   {
    "duration": 214,
    "start_time": "2021-07-07T12:29:45.069Z"
   },
   {
    "duration": 92,
    "start_time": "2021-07-07T12:29:45.285Z"
   },
   {
    "duration": 3,
    "start_time": "2021-07-07T12:29:45.379Z"
   },
   {
    "duration": 28,
    "start_time": "2021-07-07T12:29:45.384Z"
   },
   {
    "duration": 23,
    "start_time": "2021-07-07T12:29:45.413Z"
   },
   {
    "duration": 21,
    "start_time": "2021-07-07T12:29:45.437Z"
   },
   {
    "duration": 41,
    "start_time": "2021-07-07T12:29:45.460Z"
   },
   {
    "duration": 7,
    "start_time": "2021-07-07T12:29:45.502Z"
   },
   {
    "duration": 20,
    "start_time": "2021-07-07T12:29:45.511Z"
   },
   {
    "duration": 12,
    "start_time": "2021-07-07T12:34:02.800Z"
   },
   {
    "duration": 7,
    "start_time": "2021-07-07T12:35:10.479Z"
   },
   {
    "duration": 8,
    "start_time": "2021-07-07T12:35:22.440Z"
   },
   {
    "duration": 6,
    "start_time": "2021-07-07T12:35:35.649Z"
   },
   {
    "duration": 6,
    "start_time": "2021-07-07T12:35:43.107Z"
   },
   {
    "duration": 22,
    "start_time": "2021-07-07T12:38:03.029Z"
   },
   {
    "duration": 10,
    "start_time": "2021-07-07T12:38:06.592Z"
   },
   {
    "duration": 563,
    "start_time": "2021-07-07T12:38:46.493Z"
   },
   {
    "duration": 265,
    "start_time": "2021-07-07T12:38:47.058Z"
   },
   {
    "duration": 94,
    "start_time": "2021-07-07T12:38:47.325Z"
   },
   {
    "duration": 3,
    "start_time": "2021-07-07T12:38:47.422Z"
   },
   {
    "duration": 30,
    "start_time": "2021-07-07T12:38:47.427Z"
   },
   {
    "duration": 16,
    "start_time": "2021-07-07T12:38:53.305Z"
   },
   {
    "duration": 10,
    "start_time": "2021-07-07T12:38:53.499Z"
   },
   {
    "duration": 8,
    "start_time": "2021-07-07T12:39:48.161Z"
   },
   {
    "duration": 27,
    "start_time": "2021-07-07T12:41:17.629Z"
   },
   {
    "duration": 17,
    "start_time": "2021-07-07T12:41:17.867Z"
   },
   {
    "duration": 21,
    "start_time": "2021-07-07T12:41:19.310Z"
   },
   {
    "duration": 7,
    "start_time": "2021-07-07T12:41:19.544Z"
   },
   {
    "duration": 20,
    "start_time": "2021-07-07T12:41:20.504Z"
   },
   {
    "duration": 554,
    "start_time": "2021-07-07T12:56:23.696Z"
   },
   {
    "duration": 200,
    "start_time": "2021-07-07T12:56:25.234Z"
   },
   {
    "duration": 119,
    "start_time": "2021-07-07T12:56:25.480Z"
   },
   {
    "duration": 4,
    "start_time": "2021-07-07T12:56:25.762Z"
   },
   {
    "duration": 26,
    "start_time": "2021-07-07T12:56:27.172Z"
   },
   {
    "duration": 12,
    "start_time": "2021-07-07T12:56:29.051Z"
   },
   {
    "duration": 10,
    "start_time": "2021-07-07T12:56:29.291Z"
   },
   {
    "duration": 8,
    "start_time": "2021-07-07T12:56:29.623Z"
   },
   {
    "duration": 28,
    "start_time": "2021-07-07T12:56:32.137Z"
   },
   {
    "duration": 19,
    "start_time": "2021-07-07T12:56:39.785Z"
   },
   {
    "duration": 20,
    "start_time": "2021-07-07T12:56:44.297Z"
   },
   {
    "duration": 7,
    "start_time": "2021-07-07T12:56:45.392Z"
   },
   {
    "duration": 23,
    "start_time": "2021-07-07T12:56:46.615Z"
   },
   {
    "duration": 4,
    "start_time": "2021-07-07T12:57:06.625Z"
   },
   {
    "duration": 32,
    "start_time": "2021-07-07T12:57:36.690Z"
   },
   {
    "duration": 18,
    "start_time": "2021-07-07T12:58:00.149Z"
   },
   {
    "duration": 15,
    "start_time": "2021-07-07T12:59:16.793Z"
   },
   {
    "duration": 7,
    "start_time": "2021-07-07T13:19:22.624Z"
   },
   {
    "duration": 6,
    "start_time": "2021-07-07T14:17:33.527Z"
   },
   {
    "duration": 9,
    "start_time": "2021-07-07T14:17:48.409Z"
   },
   {
    "duration": 8,
    "start_time": "2021-07-07T14:20:13.060Z"
   },
   {
    "duration": 8,
    "start_time": "2021-07-07T14:20:37.957Z"
   },
   {
    "duration": 8,
    "start_time": "2021-07-07T14:20:47.470Z"
   },
   {
    "duration": 9,
    "start_time": "2021-07-07T14:20:54.503Z"
   },
   {
    "duration": 10,
    "start_time": "2021-07-07T14:28:57.763Z"
   },
   {
    "duration": 3,
    "start_time": "2021-07-07T14:30:23.377Z"
   },
   {
    "duration": 3,
    "start_time": "2021-07-07T14:30:36.489Z"
   },
   {
    "duration": 103,
    "start_time": "2021-07-07T14:30:52.351Z"
   },
   {
    "duration": 8,
    "start_time": "2021-07-07T14:30:54.763Z"
   },
   {
    "duration": 8,
    "start_time": "2021-07-07T14:31:29.301Z"
   },
   {
    "duration": 13,
    "start_time": "2021-07-07T14:31:44.516Z"
   },
   {
    "duration": 7,
    "start_time": "2021-07-07T14:33:10.972Z"
   },
   {
    "duration": 11,
    "start_time": "2021-07-07T14:33:27.780Z"
   },
   {
    "duration": 8,
    "start_time": "2021-07-07T14:34:44.588Z"
   },
   {
    "duration": 57,
    "start_time": "2021-07-07T14:35:59.042Z"
   },
   {
    "duration": 3,
    "start_time": "2021-07-07T14:36:28.168Z"
   },
   {
    "duration": 5,
    "start_time": "2021-07-07T14:36:46.254Z"
   },
   {
    "duration": 4,
    "start_time": "2021-07-07T14:36:52.714Z"
   },
   {
    "duration": 3,
    "start_time": "2021-07-07T14:36:56.612Z"
   },
   {
    "duration": 4,
    "start_time": "2021-07-07T14:36:57.049Z"
   },
   {
    "duration": 3,
    "start_time": "2021-07-07T14:39:21.214Z"
   },
   {
    "duration": 7,
    "start_time": "2021-07-07T14:39:52.406Z"
   },
   {
    "duration": 11,
    "start_time": "2021-07-07T14:39:58.576Z"
   },
   {
    "duration": 9,
    "start_time": "2021-07-07T14:40:26.301Z"
   },
   {
    "duration": 10,
    "start_time": "2021-07-07T14:40:31.704Z"
   },
   {
    "duration": 11,
    "start_time": "2021-07-07T14:40:36.249Z"
   },
   {
    "duration": 10,
    "start_time": "2021-07-07T14:40:39.783Z"
   },
   {
    "duration": 9,
    "start_time": "2021-07-07T14:40:48.558Z"
   },
   {
    "duration": 10,
    "start_time": "2021-07-07T14:40:57.143Z"
   },
   {
    "duration": 9,
    "start_time": "2021-07-07T14:41:06.074Z"
   },
   {
    "duration": 4324,
    "start_time": "2021-07-07T14:41:22.004Z"
   },
   {
    "duration": 11,
    "start_time": "2021-07-07T14:41:33.392Z"
   },
   {
    "duration": 9,
    "start_time": "2021-07-07T14:41:39.288Z"
   },
   {
    "duration": 569,
    "start_time": "2021-07-07T14:42:14.387Z"
   },
   {
    "duration": 197,
    "start_time": "2021-07-07T14:42:14.959Z"
   },
   {
    "duration": 84,
    "start_time": "2021-07-07T14:42:16.052Z"
   },
   {
    "duration": 4,
    "start_time": "2021-07-07T14:42:16.900Z"
   },
   {
    "duration": 27,
    "start_time": "2021-07-07T14:42:19.898Z"
   },
   {
    "duration": 12,
    "start_time": "2021-07-07T14:42:21.577Z"
   },
   {
    "duration": 9,
    "start_time": "2021-07-07T14:42:21.813Z"
   },
   {
    "duration": 9,
    "start_time": "2021-07-07T14:42:22.569Z"
   },
   {
    "duration": 29,
    "start_time": "2021-07-07T14:42:25.837Z"
   },
   {
    "duration": 20,
    "start_time": "2021-07-07T14:42:27.003Z"
   },
   {
    "duration": 21,
    "start_time": "2021-07-07T14:42:28.767Z"
   },
   {
    "duration": 7,
    "start_time": "2021-07-07T14:42:29.838Z"
   },
   {
    "duration": 4,
    "start_time": "2021-07-07T14:43:25.493Z"
   },
   {
    "duration": 7,
    "start_time": "2021-07-07T14:43:26.573Z"
   },
   {
    "duration": 10,
    "start_time": "2021-07-07T14:43:31.639Z"
   },
   {
    "duration": 9,
    "start_time": "2021-07-07T14:43:32.046Z"
   },
   {
    "duration": 10,
    "start_time": "2021-07-07T14:43:33.301Z"
   },
   {
    "duration": 12,
    "start_time": "2021-07-07T14:43:33.658Z"
   },
   {
    "duration": 8,
    "start_time": "2021-07-07T14:43:34.552Z"
   },
   {
    "duration": 9,
    "start_time": "2021-07-07T14:43:35.058Z"
   },
   {
    "duration": 12,
    "start_time": "2021-07-07T14:43:35.914Z"
   },
   {
    "duration": 17,
    "start_time": "2021-07-07T14:45:34.368Z"
   },
   {
    "duration": 512,
    "start_time": "2021-07-07T14:51:58.236Z"
   },
   {
    "duration": 223,
    "start_time": "2021-07-07T14:51:58.750Z"
   },
   {
    "duration": 93,
    "start_time": "2021-07-07T14:51:58.977Z"
   },
   {
    "duration": 4,
    "start_time": "2021-07-07T14:51:59.071Z"
   },
   {
    "duration": 37,
    "start_time": "2021-07-07T14:51:59.077Z"
   },
   {
    "duration": 18,
    "start_time": "2021-07-07T14:51:59.116Z"
   },
   {
    "duration": 10,
    "start_time": "2021-07-07T14:51:59.137Z"
   },
   {
    "duration": 8,
    "start_time": "2021-07-07T14:51:59.149Z"
   },
   {
    "duration": 54,
    "start_time": "2021-07-07T14:51:59.158Z"
   },
   {
    "duration": 18,
    "start_time": "2021-07-07T14:51:59.213Z"
   },
   {
    "duration": 22,
    "start_time": "2021-07-07T14:51:59.232Z"
   },
   {
    "duration": 36,
    "start_time": "2021-07-07T14:51:59.255Z"
   },
   {
    "duration": 7,
    "start_time": "2021-07-07T14:51:59.293Z"
   },
   {
    "duration": 10,
    "start_time": "2021-07-07T14:51:59.302Z"
   },
   {
    "duration": 9,
    "start_time": "2021-07-07T14:51:59.313Z"
   },
   {
    "duration": 11,
    "start_time": "2021-07-07T14:51:59.324Z"
   },
   {
    "duration": 8,
    "start_time": "2021-07-07T14:51:59.337Z"
   },
   {
    "duration": 46,
    "start_time": "2021-07-07T14:51:59.347Z"
   },
   {
    "duration": 22,
    "start_time": "2021-07-07T14:51:59.395Z"
   },
   {
    "duration": 24,
    "start_time": "2021-07-07T14:57:32.911Z"
   },
   {
    "duration": 7,
    "start_time": "2021-07-07T14:58:22.070Z"
   },
   {
    "duration": 4,
    "start_time": "2021-07-07T14:59:11.239Z"
   },
   {
    "duration": 25,
    "start_time": "2021-07-07T15:07:22.208Z"
   },
   {
    "duration": 16,
    "start_time": "2021-07-07T15:08:25.560Z"
   },
   {
    "duration": 15,
    "start_time": "2021-07-07T15:08:40.647Z"
   },
   {
    "duration": 14,
    "start_time": "2021-07-07T15:08:46.669Z"
   },
   {
    "duration": 533,
    "start_time": "2021-07-07T15:18:07.440Z"
   },
   {
    "duration": 173,
    "start_time": "2021-07-07T15:18:07.974Z"
   },
   {
    "duration": 84,
    "start_time": "2021-07-07T15:18:08.149Z"
   },
   {
    "duration": 3,
    "start_time": "2021-07-07T15:18:08.235Z"
   },
   {
    "duration": 30,
    "start_time": "2021-07-07T15:18:08.240Z"
   },
   {
    "duration": 22,
    "start_time": "2021-07-07T15:18:08.272Z"
   },
   {
    "duration": 11,
    "start_time": "2021-07-07T15:18:08.295Z"
   },
   {
    "duration": 11,
    "start_time": "2021-07-07T15:18:08.309Z"
   },
   {
    "duration": 40,
    "start_time": "2021-07-07T15:18:08.322Z"
   },
   {
    "duration": 42,
    "start_time": "2021-07-07T15:18:08.364Z"
   },
   {
    "duration": 22,
    "start_time": "2021-07-07T15:18:08.408Z"
   },
   {
    "duration": 5,
    "start_time": "2021-07-07T15:18:08.432Z"
   },
   {
    "duration": 13,
    "start_time": "2021-07-07T15:18:08.439Z"
   },
   {
    "duration": 9,
    "start_time": "2021-07-07T15:18:08.454Z"
   },
   {
    "duration": 32,
    "start_time": "2021-07-07T15:18:08.465Z"
   },
   {
    "duration": 10,
    "start_time": "2021-07-07T15:18:08.501Z"
   },
   {
    "duration": 7,
    "start_time": "2021-07-07T15:18:08.513Z"
   },
   {
    "duration": 11,
    "start_time": "2021-07-07T15:18:08.521Z"
   },
   {
    "duration": 17,
    "start_time": "2021-07-07T15:18:08.534Z"
   },
   {
    "duration": 44,
    "start_time": "2021-07-07T15:18:08.553Z"
   },
   {
    "duration": 22,
    "start_time": "2021-07-07T15:18:08.599Z"
   },
   {
    "duration": 61,
    "start_time": "2021-07-07T15:18:08.622Z"
   },
   {
    "duration": 7,
    "start_time": "2021-07-07T15:18:39.457Z"
   },
   {
    "duration": 5,
    "start_time": "2021-07-07T16:05:17.020Z"
   },
   {
    "duration": 5,
    "start_time": "2021-07-07T16:51:28.794Z"
   },
   {
    "duration": 546,
    "start_time": "2021-07-07T16:52:26.306Z"
   },
   {
    "duration": 203,
    "start_time": "2021-07-07T16:52:27.523Z"
   },
   {
    "duration": 85,
    "start_time": "2021-07-07T16:52:27.736Z"
   },
   {
    "duration": 4,
    "start_time": "2021-07-07T16:52:27.899Z"
   },
   {
    "duration": 25,
    "start_time": "2021-07-07T16:52:28.674Z"
   },
   {
    "duration": 8,
    "start_time": "2021-07-07T16:52:32.956Z"
   },
   {
    "duration": 18,
    "start_time": "2021-07-07T16:52:35.616Z"
   },
   {
    "duration": 6,
    "start_time": "2021-07-07T16:52:36.913Z"
   },
   {
    "duration": 11,
    "start_time": "2021-07-07T16:52:40.258Z"
   },
   {
    "duration": 10,
    "start_time": "2021-07-07T16:52:46.251Z"
   },
   {
    "duration": 8,
    "start_time": "2021-07-07T16:52:47.182Z"
   },
   {
    "duration": 27,
    "start_time": "2021-07-07T16:53:20.391Z"
   },
   {
    "duration": 20,
    "start_time": "2021-07-07T16:53:22.022Z"
   },
   {
    "duration": 23,
    "start_time": "2021-07-07T16:53:23.690Z"
   },
   {
    "duration": 8,
    "start_time": "2021-07-07T16:53:24.261Z"
   },
   {
    "duration": 4,
    "start_time": "2021-07-07T16:53:38.733Z"
   },
   {
    "duration": 7,
    "start_time": "2021-07-07T16:53:40.445Z"
   },
   {
    "duration": 11,
    "start_time": "2021-07-07T16:53:41.348Z"
   },
   {
    "duration": 13,
    "start_time": "2021-07-07T16:53:45.250Z"
   },
   {
    "duration": 12,
    "start_time": "2021-07-07T16:53:45.467Z"
   },
   {
    "duration": 4,
    "start_time": "2021-07-07T16:55:32.704Z"
   },
   {
    "duration": 12,
    "start_time": "2021-07-07T16:55:49.012Z"
   },
   {
    "duration": 18,
    "start_time": "2021-07-07T16:55:49.547Z"
   },
   {
    "duration": 611,
    "start_time": "2021-07-07T16:58:35.156Z"
   },
   {
    "duration": 200,
    "start_time": "2021-07-07T16:58:35.770Z"
   },
   {
    "duration": 86,
    "start_time": "2021-07-07T16:58:35.972Z"
   },
   {
    "duration": 3,
    "start_time": "2021-07-07T16:58:36.060Z"
   },
   {
    "duration": 27,
    "start_time": "2021-07-07T16:58:36.065Z"
   },
   {
    "duration": 8,
    "start_time": "2021-07-07T16:58:36.094Z"
   },
   {
    "duration": 17,
    "start_time": "2021-07-07T16:58:36.103Z"
   },
   {
    "duration": 5,
    "start_time": "2021-07-07T16:58:36.123Z"
   },
   {
    "duration": 11,
    "start_time": "2021-07-07T16:58:36.130Z"
   },
   {
    "duration": 7,
    "start_time": "2021-07-07T16:58:36.143Z"
   },
   {
    "duration": 37,
    "start_time": "2021-07-07T16:58:36.152Z"
   },
   {
    "duration": 27,
    "start_time": "2021-07-07T16:58:36.191Z"
   },
   {
    "duration": 19,
    "start_time": "2021-07-07T16:58:36.219Z"
   },
   {
    "duration": 49,
    "start_time": "2021-07-07T16:58:36.240Z"
   },
   {
    "duration": 6,
    "start_time": "2021-07-07T16:58:36.291Z"
   },
   {
    "duration": 3,
    "start_time": "2021-07-07T16:58:36.299Z"
   },
   {
    "duration": 13,
    "start_time": "2021-07-07T16:58:36.304Z"
   },
   {
    "duration": 10,
    "start_time": "2021-07-07T16:58:36.319Z"
   },
   {
    "duration": 10,
    "start_time": "2021-07-07T16:58:36.331Z"
   },
   {
    "duration": 44,
    "start_time": "2021-07-07T16:58:36.343Z"
   },
   {
    "duration": 4,
    "start_time": "2021-07-07T16:58:36.388Z"
   },
   {
    "duration": 13,
    "start_time": "2021-07-07T16:58:36.394Z"
   },
   {
    "duration": 16,
    "start_time": "2021-07-07T16:58:36.410Z"
   },
   {
    "duration": 8,
    "start_time": "2021-07-07T17:02:31.629Z"
   },
   {
    "duration": 8,
    "start_time": "2021-07-07T17:02:34.308Z"
   },
   {
    "duration": 6,
    "start_time": "2021-07-07T17:05:13.483Z"
   },
   {
    "duration": 17,
    "start_time": "2021-07-07T17:05:20.606Z"
   },
   {
    "duration": 7,
    "start_time": "2021-07-07T17:05:34.638Z"
   },
   {
    "duration": 3,
    "start_time": "2021-07-07T17:06:31.883Z"
   },
   {
    "duration": 570,
    "start_time": "2021-07-07T17:06:37.165Z"
   },
   {
    "duration": 174,
    "start_time": "2021-07-07T17:06:37.737Z"
   },
   {
    "duration": 47,
    "start_time": "2021-07-07T17:06:37.913Z"
   },
   {
    "duration": 3,
    "start_time": "2021-07-07T17:06:37.962Z"
   },
   {
    "duration": 27,
    "start_time": "2021-07-07T17:06:37.967Z"
   },
   {
    "duration": 7,
    "start_time": "2021-07-07T17:06:37.996Z"
   },
   {
    "duration": 16,
    "start_time": "2021-07-07T17:06:38.005Z"
   },
   {
    "duration": 6,
    "start_time": "2021-07-07T17:06:38.024Z"
   },
   {
    "duration": 12,
    "start_time": "2021-07-07T17:06:38.031Z"
   },
   {
    "duration": 41,
    "start_time": "2021-07-07T17:06:38.045Z"
   },
   {
    "duration": 8,
    "start_time": "2021-07-07T17:06:38.088Z"
   },
   {
    "duration": 26,
    "start_time": "2021-07-07T17:06:38.098Z"
   },
   {
    "duration": 17,
    "start_time": "2021-07-07T17:06:38.126Z"
   },
   {
    "duration": 43,
    "start_time": "2021-07-07T17:06:38.144Z"
   },
   {
    "duration": 6,
    "start_time": "2021-07-07T17:06:38.188Z"
   },
   {
    "duration": 5,
    "start_time": "2021-07-07T17:06:38.195Z"
   },
   {
    "duration": 9,
    "start_time": "2021-07-07T17:06:38.201Z"
   },
   {
    "duration": 12,
    "start_time": "2021-07-07T17:06:38.212Z"
   },
   {
    "duration": 11,
    "start_time": "2021-07-07T17:06:38.226Z"
   },
   {
    "duration": 47,
    "start_time": "2021-07-07T17:06:38.239Z"
   },
   {
    "duration": 4,
    "start_time": "2021-07-07T17:06:38.288Z"
   },
   {
    "duration": 13,
    "start_time": "2021-07-07T17:06:38.293Z"
   },
   {
    "duration": 5,
    "start_time": "2021-07-07T17:06:38.309Z"
   },
   {
    "duration": 18,
    "start_time": "2021-07-07T17:06:38.325Z"
   },
   {
    "duration": 20,
    "start_time": "2021-07-07T17:07:02.805Z"
   },
   {
    "duration": 19,
    "start_time": "2021-07-07T17:07:08.527Z"
   },
   {
    "duration": 19,
    "start_time": "2021-07-07T17:07:12.758Z"
   },
   {
    "duration": 22,
    "start_time": "2021-07-07T17:07:17.497Z"
   },
   {
    "duration": 19,
    "start_time": "2021-07-07T17:07:19.645Z"
   },
   {
    "duration": 10,
    "start_time": "2021-07-07T17:07:34.239Z"
   },
   {
    "duration": 17,
    "start_time": "2021-07-07T17:07:54.144Z"
   },
   {
    "duration": 14,
    "start_time": "2021-07-07T17:08:14.357Z"
   },
   {
    "duration": 616,
    "start_time": "2021-07-07T17:08:45.254Z"
   },
   {
    "duration": 178,
    "start_time": "2021-07-07T17:08:45.872Z"
   },
   {
    "duration": 60,
    "start_time": "2021-07-07T17:08:46.054Z"
   },
   {
    "duration": 3,
    "start_time": "2021-07-07T17:08:46.116Z"
   },
   {
    "duration": 26,
    "start_time": "2021-07-07T17:08:46.121Z"
   },
   {
    "duration": 7,
    "start_time": "2021-07-07T17:08:46.149Z"
   },
   {
    "duration": 17,
    "start_time": "2021-07-07T17:08:46.158Z"
   },
   {
    "duration": 14,
    "start_time": "2021-07-07T17:08:46.176Z"
   },
   {
    "duration": 17,
    "start_time": "2021-07-07T17:08:46.193Z"
   },
   {
    "duration": 9,
    "start_time": "2021-07-07T17:08:46.211Z"
   },
   {
    "duration": 21,
    "start_time": "2021-07-07T17:08:46.221Z"
   },
   {
    "duration": 49,
    "start_time": "2021-07-07T17:08:46.244Z"
   },
   {
    "duration": 24,
    "start_time": "2021-07-07T17:08:46.295Z"
   },
   {
    "duration": 22,
    "start_time": "2021-07-07T17:08:46.321Z"
   },
   {
    "duration": 6,
    "start_time": "2021-07-07T17:08:46.345Z"
   },
   {
    "duration": 5,
    "start_time": "2021-07-07T17:08:46.353Z"
   },
   {
    "duration": 13,
    "start_time": "2021-07-07T17:08:46.386Z"
   },
   {
    "duration": 12,
    "start_time": "2021-07-07T17:08:46.402Z"
   },
   {
    "duration": 10,
    "start_time": "2021-07-07T17:08:46.415Z"
   },
   {
    "duration": 7,
    "start_time": "2021-07-07T17:08:46.427Z"
   },
   {
    "duration": 8,
    "start_time": "2021-07-07T17:08:46.435Z"
   },
   {
    "duration": 68,
    "start_time": "2021-07-07T17:08:46.446Z"
   },
   {
    "duration": 13,
    "start_time": "2021-07-07T17:08:46.516Z"
   },
   {
    "duration": 78,
    "start_time": "2021-07-07T17:08:46.530Z"
   },
   {
    "duration": 40,
    "start_time": "2021-07-07T17:09:08.185Z"
   },
   {
    "duration": 16,
    "start_time": "2021-07-07T17:09:19.324Z"
   },
   {
    "duration": 21,
    "start_time": "2021-07-07T17:09:23.290Z"
   },
   {
    "duration": 13,
    "start_time": "2021-07-07T17:09:54.812Z"
   },
   {
    "duration": 13,
    "start_time": "2021-07-07T17:10:02.039Z"
   },
   {
    "duration": 10,
    "start_time": "2021-07-07T17:10:29.632Z"
   },
   {
    "duration": 13,
    "start_time": "2021-07-07T17:10:52.372Z"
   },
   {
    "duration": 13,
    "start_time": "2021-07-07T17:11:17.270Z"
   },
   {
    "duration": 13,
    "start_time": "2021-07-07T17:14:59.284Z"
   },
   {
    "duration": 547,
    "start_time": "2021-07-07T17:18:52.403Z"
   },
   {
    "duration": 163,
    "start_time": "2021-07-07T17:18:52.952Z"
   },
   {
    "duration": 44,
    "start_time": "2021-07-07T17:18:53.117Z"
   },
   {
    "duration": 3,
    "start_time": "2021-07-07T17:18:53.162Z"
   },
   {
    "duration": 26,
    "start_time": "2021-07-07T17:18:53.167Z"
   },
   {
    "duration": 6,
    "start_time": "2021-07-07T17:18:53.195Z"
   },
   {
    "duration": 15,
    "start_time": "2021-07-07T17:18:53.203Z"
   },
   {
    "duration": 5,
    "start_time": "2021-07-07T17:18:53.220Z"
   },
   {
    "duration": 11,
    "start_time": "2021-07-07T17:18:53.228Z"
   },
   {
    "duration": 9,
    "start_time": "2021-07-07T17:18:53.241Z"
   },
   {
    "duration": 41,
    "start_time": "2021-07-07T17:18:53.252Z"
   },
   {
    "duration": 33,
    "start_time": "2021-07-07T17:18:53.295Z"
   },
   {
    "duration": 19,
    "start_time": "2021-07-07T17:18:53.330Z"
   },
   {
    "duration": 49,
    "start_time": "2021-07-07T17:18:53.350Z"
   },
   {
    "duration": 5,
    "start_time": "2021-07-07T17:18:53.401Z"
   },
   {
    "duration": 5,
    "start_time": "2021-07-07T17:18:53.408Z"
   },
   {
    "duration": 11,
    "start_time": "2021-07-07T17:18:53.414Z"
   },
   {
    "duration": 9,
    "start_time": "2021-07-07T17:18:53.427Z"
   },
   {
    "duration": 10,
    "start_time": "2021-07-07T17:18:53.437Z"
   },
   {
    "duration": 39,
    "start_time": "2021-07-07T17:18:53.448Z"
   },
   {
    "duration": 26,
    "start_time": "2021-07-07T17:18:55.799Z"
   },
   {
    "duration": 598,
    "start_time": "2021-07-07T17:20:17.862Z"
   },
   {
    "duration": 161,
    "start_time": "2021-07-07T17:20:18.462Z"
   },
   {
    "duration": 45,
    "start_time": "2021-07-07T17:20:18.626Z"
   },
   {
    "duration": 4,
    "start_time": "2021-07-07T17:20:18.673Z"
   },
   {
    "duration": 38,
    "start_time": "2021-07-07T17:20:26.877Z"
   },
   {
    "duration": 7,
    "start_time": "2021-07-07T17:20:37.405Z"
   },
   {
    "duration": 19,
    "start_time": "2021-07-07T17:20:51.534Z"
   },
   {
    "duration": 5,
    "start_time": "2021-07-07T17:20:57.228Z"
   },
   {
    "duration": 7,
    "start_time": "2021-07-07T17:21:08.235Z"
   },
   {
    "duration": 19,
    "start_time": "2021-07-07T17:21:42.158Z"
   },
   {
    "duration": 14,
    "start_time": "2021-07-07T17:21:50.225Z"
   },
   {
    "duration": 22,
    "start_time": "2021-07-07T17:22:54.104Z"
   },
   {
    "duration": 5,
    "start_time": "2021-07-07T17:22:56.371Z"
   },
   {
    "duration": 14,
    "start_time": "2021-07-07T17:22:58.316Z"
   },
   {
    "duration": 5,
    "start_time": "2021-07-07T17:22:58.493Z"
   },
   {
    "duration": 35,
    "start_time": "2021-07-07T17:22:59.666Z"
   },
   {
    "duration": 6,
    "start_time": "2021-07-07T17:23:02.410Z"
   },
   {
    "duration": 611,
    "start_time": "2021-07-07T17:24:59.664Z"
   },
   {
    "duration": 178,
    "start_time": "2021-07-07T17:25:01.945Z"
   },
   {
    "duration": 47,
    "start_time": "2021-07-07T17:25:02.125Z"
   },
   {
    "duration": 2,
    "start_time": "2021-07-07T17:25:07.903Z"
   },
   {
    "duration": 254,
    "start_time": "2021-07-07T17:25:08.232Z"
   },
   {
    "duration": 182,
    "start_time": "2021-07-07T17:25:08.671Z"
   },
   {
    "duration": 6,
    "start_time": "2021-07-07T17:25:13.104Z"
   },
   {
    "duration": 36,
    "start_time": "2021-07-07T17:25:13.662Z"
   },
   {
    "duration": 7,
    "start_time": "2021-07-07T17:25:14.528Z"
   },
   {
    "duration": 24,
    "start_time": "2021-07-07T17:25:27.982Z"
   },
   {
    "duration": 3,
    "start_time": "2021-07-07T17:25:48.982Z"
   },
   {
    "duration": 165,
    "start_time": "2021-07-07T17:25:48.987Z"
   },
   {
    "duration": 50,
    "start_time": "2021-07-07T17:25:49.154Z"
   },
   {
    "duration": 4,
    "start_time": "2021-07-07T17:25:49.206Z"
   },
   {
    "duration": 26,
    "start_time": "2021-07-07T17:25:49.212Z"
   },
   {
    "duration": 7,
    "start_time": "2021-07-07T17:25:49.240Z"
   },
   {
    "duration": 16,
    "start_time": "2021-07-07T17:25:49.249Z"
   },
   {
    "duration": 22,
    "start_time": "2021-07-07T17:25:49.266Z"
   },
   {
    "duration": 16,
    "start_time": "2021-07-07T17:25:49.291Z"
   },
   {
    "duration": 9,
    "start_time": "2021-07-07T17:25:49.309Z"
   },
   {
    "duration": 7,
    "start_time": "2021-07-07T17:25:49.319Z"
   },
   {
    "duration": 28,
    "start_time": "2021-07-07T17:25:49.328Z"
   },
   {
    "duration": 44,
    "start_time": "2021-07-07T17:25:49.357Z"
   },
   {
    "duration": 22,
    "start_time": "2021-07-07T17:25:49.403Z"
   },
   {
    "duration": 7,
    "start_time": "2021-07-07T17:25:49.427Z"
   },
   {
    "duration": 3,
    "start_time": "2021-07-07T17:25:49.436Z"
   },
   {
    "duration": 44,
    "start_time": "2021-07-07T17:25:49.441Z"
   },
   {
    "duration": 12,
    "start_time": "2021-07-07T17:25:49.488Z"
   },
   {
    "duration": 13,
    "start_time": "2021-07-07T17:25:49.502Z"
   },
   {
    "duration": 10,
    "start_time": "2021-07-07T17:25:49.516Z"
   },
   {
    "duration": 62,
    "start_time": "2021-07-07T17:25:49.527Z"
   },
   {
    "duration": 26,
    "start_time": "2021-07-07T17:26:51.809Z"
   },
   {
    "duration": 26,
    "start_time": "2021-07-07T17:26:55.759Z"
   },
   {
    "duration": 26,
    "start_time": "2021-07-07T17:27:04.501Z"
   },
   {
    "duration": 25,
    "start_time": "2021-07-07T17:28:24.859Z"
   },
   {
    "duration": 21,
    "start_time": "2021-07-07T17:28:55.250Z"
   },
   {
    "duration": 21,
    "start_time": "2021-07-07T17:28:58.885Z"
   },
   {
    "duration": 7,
    "start_time": "2021-07-07T17:45:40.972Z"
   },
   {
    "duration": 13,
    "start_time": "2021-07-07T17:45:42.529Z"
   },
   {
    "duration": 27,
    "start_time": "2021-07-07T17:45:51.026Z"
   },
   {
    "duration": 518,
    "start_time": "2021-07-07T17:46:15.532Z"
   },
   {
    "duration": 235,
    "start_time": "2021-07-07T17:46:16.053Z"
   },
   {
    "duration": 80,
    "start_time": "2021-07-07T17:46:16.292Z"
   },
   {
    "duration": 5,
    "start_time": "2021-07-07T17:46:16.373Z"
   },
   {
    "duration": 26,
    "start_time": "2021-07-07T17:46:16.380Z"
   },
   {
    "duration": 7,
    "start_time": "2021-07-07T17:46:16.408Z"
   },
   {
    "duration": 16,
    "start_time": "2021-07-07T17:46:16.418Z"
   },
   {
    "duration": 5,
    "start_time": "2021-07-07T17:46:16.436Z"
   },
   {
    "duration": 13,
    "start_time": "2021-07-07T17:46:16.442Z"
   },
   {
    "duration": 35,
    "start_time": "2021-07-07T17:46:16.456Z"
   },
   {
    "duration": 8,
    "start_time": "2021-07-07T17:46:16.493Z"
   },
   {
    "duration": 28,
    "start_time": "2021-07-07T17:46:16.502Z"
   },
   {
    "duration": 17,
    "start_time": "2021-07-07T17:46:16.532Z"
   },
   {
    "duration": 44,
    "start_time": "2021-07-07T17:46:16.551Z"
   },
   {
    "duration": 6,
    "start_time": "2021-07-07T17:46:16.597Z"
   },
   {
    "duration": 4,
    "start_time": "2021-07-07T17:46:16.605Z"
   },
   {
    "duration": 9,
    "start_time": "2021-07-07T17:46:16.610Z"
   },
   {
    "duration": 9,
    "start_time": "2021-07-07T17:46:16.621Z"
   },
   {
    "duration": 10,
    "start_time": "2021-07-07T17:46:16.632Z"
   },
   {
    "duration": 43,
    "start_time": "2021-07-07T17:46:16.644Z"
   },
   {
    "duration": 26,
    "start_time": "2021-07-07T17:46:16.689Z"
   },
   {
    "duration": 19,
    "start_time": "2021-07-07T17:46:16.718Z"
   },
   {
    "duration": 8,
    "start_time": "2021-07-07T17:46:16.738Z"
   },
   {
    "duration": 43,
    "start_time": "2021-07-07T17:46:16.747Z"
   },
   {
    "duration": 19,
    "start_time": "2021-07-07T17:46:16.791Z"
   },
   {
    "duration": 9,
    "start_time": "2021-07-07T17:46:16.812Z"
   },
   {
    "duration": 60,
    "start_time": "2021-07-07T17:46:16.822Z"
   },
   {
    "duration": -8,
    "start_time": "2021-07-07T17:46:16.892Z"
   },
   {
    "duration": 12,
    "start_time": "2021-07-07T17:48:47.707Z"
   },
   {
    "duration": 553,
    "start_time": "2021-07-07T18:10:09.350Z"
   },
   {
    "duration": 230,
    "start_time": "2021-07-07T18:10:09.905Z"
   },
   {
    "duration": 97,
    "start_time": "2021-07-07T18:10:10.137Z"
   },
   {
    "duration": 5,
    "start_time": "2021-07-07T18:10:10.236Z"
   },
   {
    "duration": 29,
    "start_time": "2021-07-07T18:10:10.242Z"
   },
   {
    "duration": 7,
    "start_time": "2021-07-07T18:10:10.272Z"
   },
   {
    "duration": 15,
    "start_time": "2021-07-07T18:10:10.281Z"
   },
   {
    "duration": 4,
    "start_time": "2021-07-07T18:10:10.299Z"
   },
   {
    "duration": 14,
    "start_time": "2021-07-07T18:10:10.305Z"
   },
   {
    "duration": 8,
    "start_time": "2021-07-07T18:10:10.321Z"
   },
   {
    "duration": 8,
    "start_time": "2021-07-07T18:10:10.331Z"
   },
   {
    "duration": 56,
    "start_time": "2021-07-07T18:10:10.341Z"
   },
   {
    "duration": 19,
    "start_time": "2021-07-07T18:10:10.399Z"
   },
   {
    "duration": 23,
    "start_time": "2021-07-07T18:10:10.419Z"
   },
   {
    "duration": 6,
    "start_time": "2021-07-07T18:10:10.444Z"
   },
   {
    "duration": 9,
    "start_time": "2021-07-07T18:10:10.451Z"
   },
   {
    "duration": 30,
    "start_time": "2021-07-07T18:10:10.462Z"
   },
   {
    "duration": 9,
    "start_time": "2021-07-07T18:10:10.494Z"
   },
   {
    "duration": 14,
    "start_time": "2021-07-07T18:10:10.505Z"
   },
   {
    "duration": 7,
    "start_time": "2021-07-07T18:10:10.521Z"
   },
   {
    "duration": 26,
    "start_time": "2021-07-07T18:10:10.530Z"
   },
   {
    "duration": 44,
    "start_time": "2021-07-07T18:10:10.558Z"
   },
   {
    "duration": 7,
    "start_time": "2021-07-07T18:10:10.605Z"
   },
   {
    "duration": 11,
    "start_time": "2021-07-07T18:10:10.614Z"
   },
   {
    "duration": 19,
    "start_time": "2021-07-07T18:10:10.626Z"
   },
   {
    "duration": 44,
    "start_time": "2021-07-07T18:10:10.646Z"
   },
   {
    "duration": 516,
    "start_time": "2021-07-07T18:14:00.826Z"
   },
   {
    "duration": 230,
    "start_time": "2021-07-07T18:14:01.344Z"
   },
   {
    "duration": 105,
    "start_time": "2021-07-07T18:14:01.576Z"
   },
   {
    "duration": 5,
    "start_time": "2021-07-07T18:14:01.683Z"
   },
   {
    "duration": 46,
    "start_time": "2021-07-07T18:14:01.690Z"
   },
   {
    "duration": 7,
    "start_time": "2021-07-07T18:14:01.738Z"
   },
   {
    "duration": 20,
    "start_time": "2021-07-07T18:14:01.747Z"
   },
   {
    "duration": 16,
    "start_time": "2021-07-07T18:14:01.769Z"
   },
   {
    "duration": 14,
    "start_time": "2021-07-07T18:14:01.787Z"
   },
   {
    "duration": 15,
    "start_time": "2021-07-07T18:14:01.803Z"
   },
   {
    "duration": 12,
    "start_time": "2021-07-07T18:14:01.820Z"
   },
   {
    "duration": 35,
    "start_time": "2021-07-07T18:14:01.833Z"
   },
   {
    "duration": 31,
    "start_time": "2021-07-07T18:14:01.869Z"
   },
   {
    "duration": 37,
    "start_time": "2021-07-07T18:14:01.902Z"
   },
   {
    "duration": 8,
    "start_time": "2021-07-07T18:14:01.942Z"
   },
   {
    "duration": 16,
    "start_time": "2021-07-07T18:14:01.952Z"
   },
   {
    "duration": 13,
    "start_time": "2021-07-07T18:14:01.970Z"
   },
   {
    "duration": 32,
    "start_time": "2021-07-07T18:14:01.985Z"
   },
   {
    "duration": 11,
    "start_time": "2021-07-07T18:14:02.019Z"
   },
   {
    "duration": 22,
    "start_time": "2021-07-07T18:14:02.031Z"
   },
   {
    "duration": 27,
    "start_time": "2021-07-07T18:14:02.055Z"
   },
   {
    "duration": 18,
    "start_time": "2021-07-07T18:14:02.084Z"
   },
   {
    "duration": 18,
    "start_time": "2021-07-07T18:14:02.106Z"
   },
   {
    "duration": 11,
    "start_time": "2021-07-07T18:14:02.126Z"
   },
   {
    "duration": 21,
    "start_time": "2021-07-07T18:14:02.138Z"
   },
   {
    "duration": 32,
    "start_time": "2021-07-07T18:14:02.161Z"
   },
   {
    "duration": 28,
    "start_time": "2021-07-07T18:14:44.295Z"
   },
   {
    "duration": 6,
    "start_time": "2021-07-07T18:15:05.834Z"
   },
   {
    "duration": 511,
    "start_time": "2021-07-07T18:15:41.541Z"
   },
   {
    "duration": 183,
    "start_time": "2021-07-07T18:15:42.054Z"
   },
   {
    "duration": 50,
    "start_time": "2021-07-07T18:15:42.239Z"
   },
   {
    "duration": 5,
    "start_time": "2021-07-07T18:15:42.291Z"
   },
   {
    "duration": 48,
    "start_time": "2021-07-07T18:15:42.297Z"
   },
   {
    "duration": 8,
    "start_time": "2021-07-07T18:15:42.346Z"
   },
   {
    "duration": 17,
    "start_time": "2021-07-07T18:15:42.356Z"
   },
   {
    "duration": 15,
    "start_time": "2021-07-07T18:15:42.375Z"
   },
   {
    "duration": 12,
    "start_time": "2021-07-07T18:15:42.392Z"
   },
   {
    "duration": 7,
    "start_time": "2021-07-07T18:15:42.406Z"
   },
   {
    "duration": 7,
    "start_time": "2021-07-07T18:15:42.415Z"
   },
   {
    "duration": 29,
    "start_time": "2021-07-07T18:15:42.423Z"
   },
   {
    "duration": 43,
    "start_time": "2021-07-07T18:15:42.453Z"
   },
   {
    "duration": 18,
    "start_time": "2021-07-07T18:15:42.497Z"
   },
   {
    "duration": 6,
    "start_time": "2021-07-07T18:15:42.516Z"
   },
   {
    "duration": 3,
    "start_time": "2021-07-07T18:15:42.523Z"
   },
   {
    "duration": 18,
    "start_time": "2021-07-07T18:15:42.528Z"
   },
   {
    "duration": 10,
    "start_time": "2021-07-07T18:15:42.547Z"
   },
   {
    "duration": 36,
    "start_time": "2021-07-07T18:15:42.559Z"
   },
   {
    "duration": 8,
    "start_time": "2021-07-07T18:15:42.597Z"
   },
   {
    "duration": 28,
    "start_time": "2021-07-07T18:15:42.606Z"
   },
   {
    "duration": 52,
    "start_time": "2021-07-07T18:15:42.635Z"
   },
   {
    "duration": 7,
    "start_time": "2021-07-07T18:15:42.690Z"
   },
   {
    "duration": 10,
    "start_time": "2021-07-07T18:15:42.699Z"
   },
   {
    "duration": 19,
    "start_time": "2021-07-07T18:15:42.711Z"
   },
   {
    "duration": 9,
    "start_time": "2021-07-07T18:15:42.732Z"
   },
   {
    "duration": 5,
    "start_time": "2021-07-07T18:15:42.743Z"
   },
   {
    "duration": 1450,
    "start_time": "2021-07-07T18:15:51.984Z"
   },
   {
    "duration": 161,
    "start_time": "2021-07-07T18:15:53.435Z"
   },
   {
    "duration": 124,
    "start_time": "2021-07-07T18:15:53.598Z"
   },
   {
    "duration": 5,
    "start_time": "2021-07-07T18:15:53.724Z"
   },
   {
    "duration": 34,
    "start_time": "2021-07-07T18:15:53.730Z"
   },
   {
    "duration": 7,
    "start_time": "2021-07-07T18:15:53.765Z"
   },
   {
    "duration": 15,
    "start_time": "2021-07-07T18:15:53.773Z"
   },
   {
    "duration": 5,
    "start_time": "2021-07-07T18:15:53.791Z"
   },
   {
    "duration": 19,
    "start_time": "2021-07-07T18:15:53.798Z"
   },
   {
    "duration": 9,
    "start_time": "2021-07-07T18:15:53.818Z"
   },
   {
    "duration": 19,
    "start_time": "2021-07-07T18:15:53.828Z"
   },
   {
    "duration": 27,
    "start_time": "2021-07-07T18:15:53.848Z"
   },
   {
    "duration": 16,
    "start_time": "2021-07-07T18:15:53.884Z"
   },
   {
    "duration": 29,
    "start_time": "2021-07-07T18:15:53.901Z"
   },
   {
    "duration": 5,
    "start_time": "2021-07-07T18:15:53.932Z"
   },
   {
    "duration": 15,
    "start_time": "2021-07-07T18:15:53.939Z"
   },
   {
    "duration": 13,
    "start_time": "2021-07-07T18:15:53.956Z"
   },
   {
    "duration": 20,
    "start_time": "2021-07-07T18:15:53.971Z"
   },
   {
    "duration": 14,
    "start_time": "2021-07-07T18:15:53.992Z"
   },
   {
    "duration": 9,
    "start_time": "2021-07-07T18:15:54.009Z"
   },
   {
    "duration": 28,
    "start_time": "2021-07-07T18:15:54.020Z"
   },
   {
    "duration": 50,
    "start_time": "2021-07-07T18:15:54.051Z"
   },
   {
    "duration": 8,
    "start_time": "2021-07-07T18:15:54.105Z"
   },
   {
    "duration": 11,
    "start_time": "2021-07-07T18:15:54.115Z"
   },
   {
    "duration": 20,
    "start_time": "2021-07-07T18:15:54.128Z"
   },
   {
    "duration": 13,
    "start_time": "2021-07-07T18:15:54.184Z"
   },
   {
    "duration": 7,
    "start_time": "2021-07-07T18:15:54.199Z"
   },
   {
    "duration": 7,
    "start_time": "2021-07-07T18:17:08.042Z"
   },
   {
    "duration": 8,
    "start_time": "2021-07-07T18:17:21.008Z"
   },
   {
    "duration": 7,
    "start_time": "2021-07-07T18:17:29.003Z"
   },
   {
    "duration": 8,
    "start_time": "2021-07-07T18:17:32.492Z"
   },
   {
    "duration": 9,
    "start_time": "2021-07-07T18:17:41.758Z"
   },
   {
    "duration": 255,
    "start_time": "2021-07-07T18:20:20.897Z"
   },
   {
    "duration": 173,
    "start_time": "2021-07-07T18:20:26.636Z"
   },
   {
    "duration": 7,
    "start_time": "2021-07-07T18:21:47.164Z"
   },
   {
    "duration": 254,
    "start_time": "2021-07-07T18:23:08.703Z"
   },
   {
    "duration": 21,
    "start_time": "2021-07-07T18:23:22.506Z"
   },
   {
    "duration": 315,
    "start_time": "2021-07-07T18:25:54.801Z"
   },
   {
    "duration": 34,
    "start_time": "2021-07-07T18:26:51.817Z"
   },
   {
    "duration": 327,
    "start_time": "2021-07-07T18:26:56.147Z"
   },
   {
    "duration": 342,
    "start_time": "2021-07-07T18:27:15.887Z"
   },
   {
    "duration": 302,
    "start_time": "2021-07-07T18:28:18.569Z"
   },
   {
    "duration": 226,
    "start_time": "2021-07-07T18:29:20.879Z"
   },
   {
    "duration": 207,
    "start_time": "2021-07-07T18:29:58.114Z"
   },
   {
    "duration": 140,
    "start_time": "2021-07-07T18:32:04.372Z"
   },
   {
    "duration": 158,
    "start_time": "2021-07-07T18:32:32.508Z"
   },
   {
    "duration": 145,
    "start_time": "2021-07-07T18:32:41.365Z"
   },
   {
    "duration": 132,
    "start_time": "2021-07-07T18:32:45.199Z"
   },
   {
    "duration": 11,
    "start_time": "2021-07-07T18:35:24.679Z"
   },
   {
    "duration": 268,
    "start_time": "2021-07-07T18:36:16.145Z"
   },
   {
    "duration": 227,
    "start_time": "2021-07-07T18:37:04.918Z"
   },
   {
    "duration": 3,
    "start_time": "2021-07-07T18:37:33.012Z"
   },
   {
    "duration": 671,
    "start_time": "2021-07-07T18:37:38.295Z"
   },
   {
    "duration": 54,
    "start_time": "2021-07-07T18:37:53.406Z"
   },
   {
    "duration": 631,
    "start_time": "2021-07-07T18:37:56.463Z"
   },
   {
    "duration": 19,
    "start_time": "2021-07-07T18:39:40.535Z"
   },
   {
    "duration": 20,
    "start_time": "2021-07-07T18:40:12.236Z"
   },
   {
    "duration": 633,
    "start_time": "2021-07-07T18:42:00.398Z"
   },
   {
    "duration": 218,
    "start_time": "2021-07-07T18:42:01.033Z"
   },
   {
    "duration": 49,
    "start_time": "2021-07-07T18:42:01.253Z"
   },
   {
    "duration": 5,
    "start_time": "2021-07-07T18:42:01.303Z"
   },
   {
    "duration": 27,
    "start_time": "2021-07-07T18:42:01.310Z"
   },
   {
    "duration": 8,
    "start_time": "2021-07-07T18:42:01.339Z"
   },
   {
    "duration": 20,
    "start_time": "2021-07-07T18:42:01.348Z"
   },
   {
    "duration": 6,
    "start_time": "2021-07-07T18:42:01.386Z"
   },
   {
    "duration": 16,
    "start_time": "2021-07-07T18:42:01.394Z"
   },
   {
    "duration": 9,
    "start_time": "2021-07-07T18:42:01.411Z"
   },
   {
    "duration": 11,
    "start_time": "2021-07-07T18:42:01.421Z"
   },
   {
    "duration": 31,
    "start_time": "2021-07-07T18:42:01.434Z"
   },
   {
    "duration": 18,
    "start_time": "2021-07-07T18:42:01.485Z"
   },
   {
    "duration": 23,
    "start_time": "2021-07-07T18:42:01.505Z"
   },
   {
    "duration": 6,
    "start_time": "2021-07-07T18:42:01.530Z"
   },
   {
    "duration": 10,
    "start_time": "2021-07-07T18:42:01.538Z"
   },
   {
    "duration": 13,
    "start_time": "2021-07-07T18:42:01.550Z"
   },
   {
    "duration": 24,
    "start_time": "2021-07-07T18:42:01.564Z"
   },
   {
    "duration": 20,
    "start_time": "2021-07-07T18:42:01.590Z"
   },
   {
    "duration": 8,
    "start_time": "2021-07-07T18:42:01.611Z"
   },
   {
    "duration": 31,
    "start_time": "2021-07-07T18:42:01.620Z"
   },
   {
    "duration": 39,
    "start_time": "2021-07-07T18:42:01.653Z"
   },
   {
    "duration": 8,
    "start_time": "2021-07-07T18:42:01.696Z"
   },
   {
    "duration": 13,
    "start_time": "2021-07-07T18:42:01.705Z"
   },
   {
    "duration": 20,
    "start_time": "2021-07-07T18:42:01.720Z"
   },
   {
    "duration": 12,
    "start_time": "2021-07-07T18:42:01.741Z"
   },
   {
    "duration": 35,
    "start_time": "2021-07-07T18:42:01.755Z"
   },
   {
    "duration": 14,
    "start_time": "2021-07-07T18:42:01.792Z"
   },
   {
    "duration": 188,
    "start_time": "2021-07-07T18:42:01.808Z"
   },
   {
    "duration": 19,
    "start_time": "2021-07-07T18:42:01.998Z"
   },
   {
    "duration": 175,
    "start_time": "2021-07-07T18:42:02.019Z"
   },
   {
    "duration": 134,
    "start_time": "2021-07-07T18:42:02.196Z"
   },
   {
    "duration": 10,
    "start_time": "2021-07-07T18:42:02.331Z"
   },
   {
    "duration": 19,
    "start_time": "2021-07-07T18:42:02.343Z"
   },
   {
    "duration": 628,
    "start_time": "2021-07-07T18:46:30.701Z"
   },
   {
    "duration": 183,
    "start_time": "2021-07-07T18:46:31.331Z"
   },
   {
    "duration": 48,
    "start_time": "2021-07-07T18:46:31.516Z"
   },
   {
    "duration": 5,
    "start_time": "2021-07-07T18:46:31.566Z"
   },
   {
    "duration": 28,
    "start_time": "2021-07-07T18:46:31.572Z"
   },
   {
    "duration": 8,
    "start_time": "2021-07-07T18:46:31.602Z"
   },
   {
    "duration": 19,
    "start_time": "2021-07-07T18:46:31.611Z"
   },
   {
    "duration": 6,
    "start_time": "2021-07-07T18:46:31.633Z"
   },
   {
    "duration": 17,
    "start_time": "2021-07-07T18:46:31.642Z"
   },
   {
    "duration": 10,
    "start_time": "2021-07-07T18:46:31.684Z"
   },
   {
    "duration": 9,
    "start_time": "2021-07-07T18:46:31.695Z"
   },
   {
    "duration": 28,
    "start_time": "2021-07-07T18:46:31.705Z"
   },
   {
    "duration": 18,
    "start_time": "2021-07-07T18:46:31.735Z"
   },
   {
    "duration": 48,
    "start_time": "2021-07-07T18:46:31.755Z"
   },
   {
    "duration": 6,
    "start_time": "2021-07-07T18:46:31.804Z"
   },
   {
    "duration": 4,
    "start_time": "2021-07-07T18:46:31.812Z"
   },
   {
    "duration": 9,
    "start_time": "2021-07-07T18:46:31.817Z"
   },
   {
    "duration": 10,
    "start_time": "2021-07-07T18:46:31.827Z"
   },
   {
    "duration": 12,
    "start_time": "2021-07-07T18:46:31.838Z"
   },
   {
    "duration": 39,
    "start_time": "2021-07-07T18:46:31.851Z"
   },
   {
    "duration": 24,
    "start_time": "2021-07-07T18:46:31.892Z"
   },
   {
    "duration": 15,
    "start_time": "2021-07-07T18:46:31.918Z"
   },
   {
    "duration": 7,
    "start_time": "2021-07-07T18:46:31.936Z"
   },
   {
    "duration": 8,
    "start_time": "2021-07-07T18:46:31.944Z"
   },
   {
    "duration": 19,
    "start_time": "2021-07-07T18:46:31.984Z"
   },
   {
    "duration": 10,
    "start_time": "2021-07-07T18:46:32.004Z"
   },
   {
    "duration": 5,
    "start_time": "2021-07-07T18:46:32.016Z"
   },
   {
    "duration": 9,
    "start_time": "2021-07-07T18:46:32.023Z"
   },
   {
    "duration": 199,
    "start_time": "2021-07-07T18:46:32.033Z"
   },
   {
    "duration": 19,
    "start_time": "2021-07-07T18:46:32.234Z"
   },
   {
    "duration": 159,
    "start_time": "2021-07-07T18:46:32.255Z"
   },
   {
    "duration": 134,
    "start_time": "2021-07-07T18:46:32.416Z"
   },
   {
    "duration": 10,
    "start_time": "2021-07-07T18:46:32.552Z"
   },
   {
    "duration": 34,
    "start_time": "2021-07-07T18:46:32.563Z"
   },
   {
    "duration": 1039,
    "start_time": "2021-07-08T08:41:09.419Z"
   },
   {
    "duration": 333,
    "start_time": "2021-07-08T08:41:10.459Z"
   },
   {
    "duration": 173,
    "start_time": "2021-07-08T08:41:10.794Z"
   },
   {
    "duration": 5,
    "start_time": "2021-07-08T08:41:10.968Z"
   },
   {
    "duration": 25,
    "start_time": "2021-07-08T08:41:10.975Z"
   },
   {
    "duration": 9,
    "start_time": "2021-07-08T08:41:11.002Z"
   },
   {
    "duration": 18,
    "start_time": "2021-07-08T08:41:11.013Z"
   },
   {
    "duration": 6,
    "start_time": "2021-07-08T08:41:11.033Z"
   },
   {
    "duration": 44,
    "start_time": "2021-07-08T08:41:11.042Z"
   },
   {
    "duration": 10,
    "start_time": "2021-07-08T08:41:11.088Z"
   },
   {
    "duration": 9,
    "start_time": "2021-07-08T08:41:11.100Z"
   },
   {
    "duration": 27,
    "start_time": "2021-07-08T08:41:11.111Z"
   },
   {
    "duration": 46,
    "start_time": "2021-07-08T08:41:11.140Z"
   },
   {
    "duration": 17,
    "start_time": "2021-07-08T08:41:11.187Z"
   },
   {
    "duration": 6,
    "start_time": "2021-07-08T08:41:11.206Z"
   },
   {
    "duration": 5,
    "start_time": "2021-07-08T08:41:11.213Z"
   },
   {
    "duration": 10,
    "start_time": "2021-07-08T08:41:11.219Z"
   },
   {
    "duration": 9,
    "start_time": "2021-07-08T08:41:11.230Z"
   },
   {
    "duration": 45,
    "start_time": "2021-07-08T08:41:11.241Z"
   },
   {
    "duration": 7,
    "start_time": "2021-07-08T08:41:11.287Z"
   },
   {
    "duration": 24,
    "start_time": "2021-07-08T08:41:11.296Z"
   },
   {
    "duration": 16,
    "start_time": "2021-07-08T08:41:11.322Z"
   },
   {
    "duration": 7,
    "start_time": "2021-07-08T08:41:11.341Z"
   },
   {
    "duration": 41,
    "start_time": "2021-07-08T08:41:11.349Z"
   },
   {
    "duration": 17,
    "start_time": "2021-07-08T08:41:11.391Z"
   },
   {
    "duration": 9,
    "start_time": "2021-07-08T08:41:11.410Z"
   },
   {
    "duration": 5,
    "start_time": "2021-07-08T08:41:11.421Z"
   },
   {
    "duration": 6,
    "start_time": "2021-07-08T08:41:11.428Z"
   },
   {
    "duration": 198,
    "start_time": "2021-07-08T08:41:11.435Z"
   },
   {
    "duration": 18,
    "start_time": "2021-07-08T08:41:11.635Z"
   },
   {
    "duration": 155,
    "start_time": "2021-07-08T08:41:11.655Z"
   },
   {
    "duration": 138,
    "start_time": "2021-07-08T08:41:11.811Z"
   },
   {
    "duration": 10,
    "start_time": "2021-07-08T08:41:11.950Z"
   },
   {
    "duration": 29,
    "start_time": "2021-07-08T08:41:11.961Z"
   },
   {
    "duration": 171,
    "start_time": "2021-07-08T08:47:44.522Z"
   },
   {
    "duration": 124,
    "start_time": "2021-07-08T08:47:46.872Z"
   },
   {
    "duration": 191,
    "start_time": "2021-07-08T08:47:58.148Z"
   },
   {
    "duration": 191,
    "start_time": "2021-07-08T08:48:07.412Z"
   },
   {
    "duration": 261,
    "start_time": "2021-07-08T08:48:10.385Z"
   },
   {
    "duration": 255,
    "start_time": "2021-07-08T08:48:14.494Z"
   },
   {
    "duration": 219,
    "start_time": "2021-07-08T08:48:22.752Z"
   },
   {
    "duration": 173,
    "start_time": "2021-07-08T08:49:06.395Z"
   },
   {
    "duration": 180,
    "start_time": "2021-07-08T08:49:21.011Z"
   },
   {
    "duration": 6,
    "start_time": "2021-07-08T08:50:31.697Z"
   },
   {
    "duration": 10,
    "start_time": "2021-07-08T08:50:47.394Z"
   },
   {
    "duration": 11,
    "start_time": "2021-07-08T08:53:49.332Z"
   },
   {
    "duration": 171,
    "start_time": "2021-07-08T08:54:28.408Z"
   },
   {
    "duration": 636,
    "start_time": "2021-07-08T09:02:48.385Z"
   },
   {
    "duration": 227,
    "start_time": "2021-07-08T09:02:49.023Z"
   },
   {
    "duration": 104,
    "start_time": "2021-07-08T09:02:49.252Z"
   },
   {
    "duration": 5,
    "start_time": "2021-07-08T09:02:49.358Z"
   },
   {
    "duration": 27,
    "start_time": "2021-07-08T09:02:49.365Z"
   },
   {
    "duration": 8,
    "start_time": "2021-07-08T09:02:49.394Z"
   },
   {
    "duration": 18,
    "start_time": "2021-07-08T09:02:49.404Z"
   },
   {
    "duration": 6,
    "start_time": "2021-07-08T09:02:49.424Z"
   },
   {
    "duration": 11,
    "start_time": "2021-07-08T09:02:49.433Z"
   },
   {
    "duration": 13,
    "start_time": "2021-07-08T09:02:49.485Z"
   },
   {
    "duration": 9,
    "start_time": "2021-07-08T09:02:49.500Z"
   },
   {
    "duration": 38,
    "start_time": "2021-07-08T09:02:49.511Z"
   },
   {
    "duration": 42,
    "start_time": "2021-07-08T09:02:49.551Z"
   },
   {
    "duration": 21,
    "start_time": "2021-07-08T09:02:49.594Z"
   },
   {
    "duration": 6,
    "start_time": "2021-07-08T09:02:49.616Z"
   },
   {
    "duration": 3,
    "start_time": "2021-07-08T09:02:49.623Z"
   },
   {
    "duration": 9,
    "start_time": "2021-07-08T09:02:49.628Z"
   },
   {
    "duration": 52,
    "start_time": "2021-07-08T09:02:49.638Z"
   },
   {
    "duration": 11,
    "start_time": "2021-07-08T09:02:49.692Z"
   },
   {
    "duration": 8,
    "start_time": "2021-07-08T09:02:49.704Z"
   },
   {
    "duration": 27,
    "start_time": "2021-07-08T09:02:49.713Z"
   },
   {
    "duration": 59,
    "start_time": "2021-07-08T09:02:49.741Z"
   },
   {
    "duration": 8,
    "start_time": "2021-07-08T09:02:49.803Z"
   },
   {
    "duration": 14,
    "start_time": "2021-07-08T09:02:49.813Z"
   },
   {
    "duration": 20,
    "start_time": "2021-07-08T09:02:49.829Z"
   },
   {
    "duration": 44,
    "start_time": "2021-07-08T09:02:49.851Z"
   },
   {
    "duration": 14,
    "start_time": "2021-07-08T09:02:49.896Z"
   },
   {
    "duration": 221,
    "start_time": "2021-07-08T09:02:49.912Z"
   },
   {
    "duration": 6,
    "start_time": "2021-07-08T09:02:50.134Z"
   },
   {
    "duration": 206,
    "start_time": "2021-07-08T09:02:50.142Z"
   },
   {
    "duration": 19,
    "start_time": "2021-07-08T09:02:50.350Z"
   },
   {
    "duration": 21,
    "start_time": "2021-07-08T09:02:50.370Z"
   },
   {
    "duration": 20,
    "start_time": "2021-07-08T09:02:50.393Z"
   },
   {
    "duration": 5,
    "start_time": "2021-07-08T09:02:50.414Z"
   },
   {
    "duration": 5,
    "start_time": "2021-07-08T09:03:34.173Z"
   },
   {
    "duration": 6,
    "start_time": "2021-07-08T09:04:49.062Z"
   },
   {
    "duration": 9,
    "start_time": "2021-07-08T09:04:50.118Z"
   },
   {
    "duration": 14,
    "start_time": "2021-07-08T09:04:58.512Z"
   },
   {
    "duration": 9,
    "start_time": "2021-07-08T09:05:10.988Z"
   },
   {
    "duration": 11,
    "start_time": "2021-07-08T09:05:11.743Z"
   },
   {
    "duration": 7,
    "start_time": "2021-07-08T09:05:25.677Z"
   },
   {
    "duration": 13,
    "start_time": "2021-07-08T09:05:47.189Z"
   },
   {
    "duration": 13,
    "start_time": "2021-07-08T09:05:54.755Z"
   },
   {
    "duration": 4,
    "start_time": "2021-07-08T09:06:29.189Z"
   },
   {
    "duration": 244,
    "start_time": "2021-07-08T09:06:29.195Z"
   },
   {
    "duration": 91,
    "start_time": "2021-07-08T09:06:29.441Z"
   },
   {
    "duration": 4,
    "start_time": "2021-07-08T09:06:29.534Z"
   },
   {
    "duration": 28,
    "start_time": "2021-07-08T09:06:29.540Z"
   },
   {
    "duration": 6,
    "start_time": "2021-07-08T09:06:29.570Z"
   },
   {
    "duration": 18,
    "start_time": "2021-07-08T09:06:29.578Z"
   },
   {
    "duration": 5,
    "start_time": "2021-07-08T09:06:29.597Z"
   },
   {
    "duration": 13,
    "start_time": "2021-07-08T09:06:29.605Z"
   },
   {
    "duration": 8,
    "start_time": "2021-07-08T09:06:29.620Z"
   },
   {
    "duration": 7,
    "start_time": "2021-07-08T09:06:29.630Z"
   },
   {
    "duration": 63,
    "start_time": "2021-07-08T09:06:29.639Z"
   },
   {
    "duration": 17,
    "start_time": "2021-07-08T09:06:29.704Z"
   },
   {
    "duration": 20,
    "start_time": "2021-07-08T09:06:29.723Z"
   },
   {
    "duration": 6,
    "start_time": "2021-07-08T09:06:29.745Z"
   },
   {
    "duration": 3,
    "start_time": "2021-07-08T09:06:29.752Z"
   },
   {
    "duration": 7,
    "start_time": "2021-07-08T09:06:29.785Z"
   },
   {
    "duration": 11,
    "start_time": "2021-07-08T09:06:29.794Z"
   },
   {
    "duration": 15,
    "start_time": "2021-07-08T09:06:29.807Z"
   },
   {
    "duration": 8,
    "start_time": "2021-07-08T09:06:29.823Z"
   },
   {
    "duration": 70,
    "start_time": "2021-07-08T09:06:29.832Z"
   },
   {
    "duration": 17,
    "start_time": "2021-07-08T09:06:29.903Z"
   },
   {
    "duration": 9,
    "start_time": "2021-07-08T09:06:29.921Z"
   },
   {
    "duration": 9,
    "start_time": "2021-07-08T09:06:29.932Z"
   },
   {
    "duration": 57,
    "start_time": "2021-07-08T09:06:29.942Z"
   },
   {
    "duration": 11,
    "start_time": "2021-07-08T09:06:30.001Z"
   },
   {
    "duration": 19,
    "start_time": "2021-07-08T09:06:30.016Z"
   },
   {
    "duration": 217,
    "start_time": "2021-07-08T09:06:30.037Z"
   },
   {
    "duration": 6,
    "start_time": "2021-07-08T09:06:30.255Z"
   },
   {
    "duration": 205,
    "start_time": "2021-07-08T09:06:30.263Z"
   },
   {
    "duration": 27,
    "start_time": "2021-07-08T09:06:30.470Z"
   },
   {
    "duration": 11,
    "start_time": "2021-07-08T09:06:30.500Z"
   },
   {
    "duration": 31,
    "start_time": "2021-07-08T09:06:30.513Z"
   },
   {
    "duration": 18,
    "start_time": "2021-07-08T09:06:30.546Z"
   },
   {
    "duration": 11,
    "start_time": "2021-07-08T09:06:30.566Z"
   },
   {
    "duration": 19,
    "start_time": "2021-07-08T09:06:30.579Z"
   },
   {
    "duration": 20,
    "start_time": "2021-07-08T09:06:49.466Z"
   },
   {
    "duration": 9,
    "start_time": "2021-07-08T09:06:51.994Z"
   },
   {
    "duration": 20,
    "start_time": "2021-07-08T09:06:52.273Z"
   },
   {
    "duration": 246,
    "start_time": "2021-07-08T09:10:21.272Z"
   },
   {
    "duration": 84,
    "start_time": "2021-07-08T09:10:21.436Z"
   },
   {
    "duration": 7,
    "start_time": "2021-07-08T09:10:37.608Z"
   },
   {
    "duration": 189,
    "start_time": "2021-07-08T09:10:38.573Z"
   },
   {
    "duration": 185,
    "start_time": "2021-07-08T09:10:53.181Z"
   },
   {
    "duration": 11,
    "start_time": "2021-07-08T09:10:59.549Z"
   },
   {
    "duration": 42,
    "start_time": "2021-07-08T09:10:59.709Z"
   },
   {
    "duration": 12,
    "start_time": "2021-07-08T09:11:02.857Z"
   },
   {
    "duration": 28,
    "start_time": "2021-07-08T09:11:10.062Z"
   },
   {
    "duration": 249,
    "start_time": "2021-07-08T09:11:37.388Z"
   },
   {
    "duration": 232,
    "start_time": "2021-07-08T09:11:49.485Z"
   },
   {
    "duration": 453,
    "start_time": "2021-07-08T09:12:01.546Z"
   },
   {
    "duration": 440,
    "start_time": "2021-07-08T09:12:12.347Z"
   },
   {
    "duration": 213,
    "start_time": "2021-07-08T09:13:32.196Z"
   },
   {
    "duration": 172,
    "start_time": "2021-07-08T09:14:07.400Z"
   },
   {
    "duration": 185,
    "start_time": "2021-07-08T09:14:14.905Z"
   },
   {
    "duration": 209,
    "start_time": "2021-07-08T09:14:40.109Z"
   },
   {
    "duration": 201,
    "start_time": "2021-07-08T09:14:54.506Z"
   },
   {
    "duration": 622,
    "start_time": "2021-07-08T09:18:14.497Z"
   },
   {
    "duration": 220,
    "start_time": "2021-07-08T09:18:15.121Z"
   },
   {
    "duration": 79,
    "start_time": "2021-07-08T09:18:15.343Z"
   },
   {
    "duration": 4,
    "start_time": "2021-07-08T09:18:15.425Z"
   },
   {
    "duration": 24,
    "start_time": "2021-07-08T09:18:15.431Z"
   },
   {
    "duration": 8,
    "start_time": "2021-07-08T09:18:15.457Z"
   },
   {
    "duration": 16,
    "start_time": "2021-07-08T09:18:15.466Z"
   },
   {
    "duration": 5,
    "start_time": "2021-07-08T09:18:15.484Z"
   },
   {
    "duration": 10,
    "start_time": "2021-07-08T09:18:15.493Z"
   },
   {
    "duration": 8,
    "start_time": "2021-07-08T09:18:15.504Z"
   },
   {
    "duration": 7,
    "start_time": "2021-07-08T09:18:15.513Z"
   },
   {
    "duration": 26,
    "start_time": "2021-07-08T09:18:15.522Z"
   },
   {
    "duration": 49,
    "start_time": "2021-07-08T09:18:15.550Z"
   },
   {
    "duration": 21,
    "start_time": "2021-07-08T09:18:15.601Z"
   },
   {
    "duration": 8,
    "start_time": "2021-07-08T09:18:15.624Z"
   },
   {
    "duration": 3,
    "start_time": "2021-07-08T09:18:15.634Z"
   },
   {
    "duration": 8,
    "start_time": "2021-07-08T09:18:15.639Z"
   },
   {
    "duration": 45,
    "start_time": "2021-07-08T09:18:15.649Z"
   },
   {
    "duration": 13,
    "start_time": "2021-07-08T09:18:15.696Z"
   },
   {
    "duration": 10,
    "start_time": "2021-07-08T09:18:15.711Z"
   },
   {
    "duration": 64,
    "start_time": "2021-07-08T09:18:15.722Z"
   },
   {
    "duration": 19,
    "start_time": "2021-07-08T09:18:15.788Z"
   },
   {
    "duration": 9,
    "start_time": "2021-07-08T09:18:15.809Z"
   },
   {
    "duration": 9,
    "start_time": "2021-07-08T09:18:15.820Z"
   },
   {
    "duration": 18,
    "start_time": "2021-07-08T09:18:15.831Z"
   },
   {
    "duration": 43,
    "start_time": "2021-07-08T09:18:15.851Z"
   },
   {
    "duration": 12,
    "start_time": "2021-07-08T09:18:15.897Z"
   },
   {
    "duration": 219,
    "start_time": "2021-07-08T09:18:15.911Z"
   },
   {
    "duration": 8,
    "start_time": "2021-07-08T09:18:16.132Z"
   },
   {
    "duration": 199,
    "start_time": "2021-07-08T09:18:16.141Z"
   },
   {
    "duration": 18,
    "start_time": "2021-07-08T09:18:16.341Z"
   },
   {
    "duration": 24,
    "start_time": "2021-07-08T09:18:16.361Z"
   },
   {
    "duration": 24,
    "start_time": "2021-07-08T09:18:16.387Z"
   },
   {
    "duration": 211,
    "start_time": "2021-07-08T09:18:16.413Z"
   },
   {
    "duration": 18,
    "start_time": "2021-07-08T09:18:16.626Z"
   },
   {
    "duration": 596,
    "start_time": "2021-07-08T10:06:33.623Z"
   },
   {
    "duration": 181,
    "start_time": "2021-07-08T10:06:34.221Z"
   },
   {
    "duration": 176,
    "start_time": "2021-07-08T10:06:34.635Z"
   },
   {
    "duration": 239,
    "start_time": "2021-07-08T10:06:55.572Z"
   },
   {
    "duration": 6,
    "start_time": "2021-07-08T10:06:57.687Z"
   },
   {
    "duration": 4,
    "start_time": "2021-07-08T10:07:03.956Z"
   },
   {
    "duration": 4,
    "start_time": "2021-07-08T10:07:10.376Z"
   },
   {
    "duration": 4,
    "start_time": "2021-07-08T10:17:19.889Z"
   },
   {
    "duration": 3,
    "start_time": "2021-07-08T10:19:19.407Z"
   },
   {
    "duration": 197,
    "start_time": "2021-07-08T10:19:19.412Z"
   },
   {
    "duration": 127,
    "start_time": "2021-07-08T10:19:19.611Z"
   },
   {
    "duration": 4,
    "start_time": "2021-07-08T10:19:19.740Z"
   },
   {
    "duration": 27,
    "start_time": "2021-07-08T10:19:19.746Z"
   },
   {
    "duration": 7,
    "start_time": "2021-07-08T10:19:19.775Z"
   },
   {
    "duration": 30,
    "start_time": "2021-07-08T10:19:19.784Z"
   },
   {
    "duration": 7,
    "start_time": "2021-07-08T10:19:19.817Z"
   },
   {
    "duration": 26,
    "start_time": "2021-07-08T10:19:19.826Z"
   },
   {
    "duration": 18,
    "start_time": "2021-07-08T10:19:19.854Z"
   },
   {
    "duration": 14,
    "start_time": "2021-07-08T10:19:19.874Z"
   },
   {
    "duration": 48,
    "start_time": "2021-07-08T10:19:19.890Z"
   },
   {
    "duration": 17,
    "start_time": "2021-07-08T10:19:19.940Z"
   },
   {
    "duration": 38,
    "start_time": "2021-07-08T10:19:19.959Z"
   },
   {
    "duration": 8,
    "start_time": "2021-07-08T10:19:19.999Z"
   },
   {
    "duration": 15,
    "start_time": "2021-07-08T10:19:20.009Z"
   },
   {
    "duration": 22,
    "start_time": "2021-07-08T10:19:20.026Z"
   },
   {
    "duration": 10,
    "start_time": "2021-07-08T10:19:20.050Z"
   },
   {
    "duration": 10,
    "start_time": "2021-07-08T10:19:20.062Z"
   },
   {
    "duration": 20,
    "start_time": "2021-07-08T10:19:20.073Z"
   },
   {
    "duration": 29,
    "start_time": "2021-07-08T10:19:20.095Z"
   },
   {
    "duration": 17,
    "start_time": "2021-07-08T10:19:20.126Z"
   },
   {
    "duration": 40,
    "start_time": "2021-07-08T10:19:20.146Z"
   },
   {
    "duration": 15,
    "start_time": "2021-07-08T10:19:20.189Z"
   },
   {
    "duration": 19,
    "start_time": "2021-07-08T10:19:20.206Z"
   },
   {
    "duration": 10,
    "start_time": "2021-07-08T10:19:20.226Z"
   },
   {
    "duration": 11,
    "start_time": "2021-07-08T10:19:20.238Z"
   },
   {
    "duration": 297,
    "start_time": "2021-07-08T10:19:20.250Z"
   },
   {
    "duration": 6,
    "start_time": "2021-07-08T10:19:20.549Z"
   },
   {
    "duration": 191,
    "start_time": "2021-07-08T10:19:20.557Z"
   },
   {
    "duration": 19,
    "start_time": "2021-07-08T10:19:20.750Z"
   },
   {
    "duration": 20,
    "start_time": "2021-07-08T10:19:20.771Z"
   },
   {
    "duration": 15,
    "start_time": "2021-07-08T10:19:20.793Z"
   },
   {
    "duration": 222,
    "start_time": "2021-07-08T10:19:20.809Z"
   },
   {
    "duration": 20,
    "start_time": "2021-07-08T10:19:21.033Z"
   },
   {
    "duration": 27,
    "start_time": "2021-07-08T10:45:04.055Z"
   },
   {
    "duration": 8,
    "start_time": "2021-07-08T10:45:08.478Z"
   },
   {
    "duration": 8,
    "start_time": "2021-07-08T10:45:31.982Z"
   },
   {
    "duration": 10,
    "start_time": "2021-07-08T10:46:01.221Z"
   },
   {
    "duration": 17,
    "start_time": "2021-07-08T10:46:40.011Z"
   },
   {
    "duration": 193,
    "start_time": "2021-07-08T10:48:19.471Z"
   },
   {
    "duration": 225,
    "start_time": "2021-07-08T10:49:26.480Z"
   },
   {
    "duration": 204,
    "start_time": "2021-07-08T10:49:59.992Z"
   },
   {
    "duration": 435,
    "start_time": "2021-07-08T10:50:06.779Z"
   },
   {
    "duration": 199,
    "start_time": "2021-07-08T10:50:14.891Z"
   },
   {
    "duration": 204,
    "start_time": "2021-07-08T10:50:18.501Z"
   },
   {
    "duration": 244,
    "start_time": "2021-07-08T10:50:23.359Z"
   },
   {
    "duration": 192,
    "start_time": "2021-07-08T10:50:29.135Z"
   },
   {
    "duration": 218,
    "start_time": "2021-07-08T10:50:33.092Z"
   },
   {
    "duration": 207,
    "start_time": "2021-07-08T10:52:45.381Z"
   },
   {
    "duration": 5,
    "start_time": "2021-07-08T10:53:34.641Z"
   },
   {
    "duration": 196,
    "start_time": "2021-07-08T10:53:41.478Z"
   },
   {
    "duration": 43,
    "start_time": "2021-07-08T10:53:50.335Z"
   },
   {
    "duration": 32,
    "start_time": "2021-07-08T10:53:55.294Z"
   },
   {
    "duration": 55,
    "start_time": "2021-07-08T10:54:09.675Z"
   },
   {
    "duration": 16,
    "start_time": "2021-07-08T10:54:12.260Z"
   },
   {
    "duration": 15,
    "start_time": "2021-07-08T10:54:49.150Z"
   },
   {
    "duration": 20,
    "start_time": "2021-07-08T10:56:07.596Z"
   },
   {
    "duration": 16,
    "start_time": "2021-07-08T10:58:26.276Z"
   },
   {
    "duration": 22,
    "start_time": "2021-07-08T10:59:00.486Z"
   },
   {
    "duration": 18,
    "start_time": "2021-07-08T11:02:09.653Z"
   },
   {
    "duration": 10,
    "start_time": "2021-07-08T11:03:44.331Z"
   },
   {
    "duration": 10,
    "start_time": "2021-07-08T11:03:54.055Z"
   },
   {
    "duration": 12,
    "start_time": "2021-07-08T11:04:41.967Z"
   },
   {
    "duration": 24,
    "start_time": "2021-07-08T11:07:30.732Z"
   },
   {
    "duration": 6,
    "start_time": "2021-07-08T11:07:37.364Z"
   },
   {
    "duration": 16,
    "start_time": "2021-07-08T11:08:01.819Z"
   },
   {
    "duration": 17,
    "start_time": "2021-07-08T11:09:47.488Z"
   },
   {
    "duration": 246,
    "start_time": "2021-07-08T11:10:00.830Z"
   },
   {
    "duration": 18,
    "start_time": "2021-07-08T11:13:55.195Z"
   },
   {
    "duration": 204,
    "start_time": "2021-07-08T11:14:04.951Z"
   },
   {
    "duration": 19,
    "start_time": "2021-07-08T11:15:10.613Z"
   },
   {
    "duration": 680,
    "start_time": "2021-07-08T11:16:25.793Z"
   },
   {
    "duration": 451,
    "start_time": "2021-07-08T11:16:40.313Z"
   },
   {
    "duration": 469,
    "start_time": "2021-07-08T11:17:21.286Z"
   },
   {
    "duration": 20,
    "start_time": "2021-07-08T11:19:12.554Z"
   },
   {
    "duration": 35,
    "start_time": "2021-07-08T11:20:05.484Z"
   },
   {
    "duration": 53,
    "start_time": "2021-07-08T11:21:40.050Z"
   },
   {
    "duration": 13,
    "start_time": "2021-07-08T11:22:26.059Z"
   },
   {
    "duration": 19,
    "start_time": "2021-07-08T11:22:47.419Z"
   },
   {
    "duration": 25,
    "start_time": "2021-07-08T11:23:19.958Z"
   },
   {
    "duration": 29,
    "start_time": "2021-07-08T11:23:25.415Z"
   },
   {
    "duration": 10,
    "start_time": "2021-07-08T11:24:45.138Z"
   },
   {
    "duration": 19,
    "start_time": "2021-07-08T11:24:54.498Z"
   },
   {
    "duration": 12,
    "start_time": "2021-07-08T11:25:32.225Z"
   },
   {
    "duration": 19,
    "start_time": "2021-07-08T11:25:37.092Z"
   },
   {
    "duration": 17,
    "start_time": "2021-07-08T11:25:58.116Z"
   },
   {
    "duration": 15,
    "start_time": "2021-07-08T11:26:02.258Z"
   },
   {
    "duration": 8,
    "start_time": "2021-07-08T11:26:59.682Z"
   },
   {
    "duration": 184,
    "start_time": "2021-07-08T11:27:21.894Z"
   },
   {
    "duration": 8,
    "start_time": "2021-07-08T11:27:23.824Z"
   },
   {
    "duration": 202,
    "start_time": "2021-07-08T11:27:23.962Z"
   },
   {
    "duration": 360,
    "start_time": "2021-07-08T11:28:33.215Z"
   },
   {
    "duration": 231,
    "start_time": "2021-07-08T11:32:05.542Z"
   },
   {
    "duration": 607,
    "start_time": "2021-07-08T11:36:27.854Z"
   },
   {
    "duration": 241,
    "start_time": "2021-07-08T11:36:28.463Z"
   },
   {
    "duration": 67,
    "start_time": "2021-07-08T11:36:28.709Z"
   },
   {
    "duration": 5,
    "start_time": "2021-07-08T11:36:28.778Z"
   },
   {
    "duration": 32,
    "start_time": "2021-07-08T11:36:28.784Z"
   },
   {
    "duration": 11,
    "start_time": "2021-07-08T11:36:28.819Z"
   },
   {
    "duration": 20,
    "start_time": "2021-07-08T11:36:28.834Z"
   },
   {
    "duration": 36,
    "start_time": "2021-07-08T11:36:28.857Z"
   },
   {
    "duration": 16,
    "start_time": "2021-07-08T11:36:28.895Z"
   },
   {
    "duration": 14,
    "start_time": "2021-07-08T11:36:28.913Z"
   },
   {
    "duration": 9,
    "start_time": "2021-07-08T11:36:28.930Z"
   },
   {
    "duration": 55,
    "start_time": "2021-07-08T11:36:28.941Z"
   },
   {
    "duration": 27,
    "start_time": "2021-07-08T11:36:28.999Z"
   },
   {
    "duration": 30,
    "start_time": "2021-07-08T11:36:29.028Z"
   },
   {
    "duration": 31,
    "start_time": "2021-07-08T11:36:29.060Z"
   },
   {
    "duration": 3,
    "start_time": "2021-07-08T11:36:29.093Z"
   },
   {
    "duration": 12,
    "start_time": "2021-07-08T11:36:29.099Z"
   },
   {
    "duration": 11,
    "start_time": "2021-07-08T11:36:29.112Z"
   },
   {
    "duration": 12,
    "start_time": "2021-07-08T11:36:29.125Z"
   },
   {
    "duration": 9,
    "start_time": "2021-07-08T11:36:29.139Z"
   },
   {
    "duration": 31,
    "start_time": "2021-07-08T11:36:29.191Z"
   },
   {
    "duration": 17,
    "start_time": "2021-07-08T11:36:29.226Z"
   },
   {
    "duration": 7,
    "start_time": "2021-07-08T11:36:29.245Z"
   },
   {
    "duration": 10,
    "start_time": "2021-07-08T11:36:29.254Z"
   },
   {
    "duration": 30,
    "start_time": "2021-07-08T11:36:29.292Z"
   },
   {
    "duration": 11,
    "start_time": "2021-07-08T11:36:29.324Z"
   },
   {
    "duration": 11,
    "start_time": "2021-07-08T11:36:29.337Z"
   },
   {
    "duration": 230,
    "start_time": "2021-07-08T11:36:29.349Z"
   },
   {
    "duration": 13,
    "start_time": "2021-07-08T11:36:29.588Z"
   },
   {
    "duration": 205,
    "start_time": "2021-07-08T11:36:29.603Z"
   },
   {
    "duration": 20,
    "start_time": "2021-07-08T11:36:29.810Z"
   },
   {
    "duration": 9,
    "start_time": "2021-07-08T11:36:29.832Z"
   },
   {
    "duration": 16,
    "start_time": "2021-07-08T11:36:29.843Z"
   },
   {
    "duration": 283,
    "start_time": "2021-07-08T11:36:29.861Z"
   },
   {
    "duration": 50,
    "start_time": "2021-07-08T11:36:30.146Z"
   },
   {
    "duration": 14,
    "start_time": "2021-07-08T11:36:30.198Z"
   },
   {
    "duration": 11,
    "start_time": "2021-07-08T11:36:30.214Z"
   },
   {
    "duration": 245,
    "start_time": "2021-07-08T11:36:30.227Z"
   },
   {
    "duration": 439,
    "start_time": "2021-07-08T11:36:30.474Z"
   },
   {
    "duration": 210,
    "start_time": "2021-07-08T11:36:30.915Z"
   },
   {
    "duration": 15,
    "start_time": "2021-07-08T11:36:31.127Z"
   },
   {
    "duration": 17,
    "start_time": "2021-07-08T11:38:20.451Z"
   },
   {
    "duration": 642,
    "start_time": "2021-07-08T11:46:17.881Z"
   },
   {
    "duration": 210,
    "start_time": "2021-07-08T11:46:18.525Z"
   },
   {
    "duration": 104,
    "start_time": "2021-07-08T11:46:18.741Z"
   },
   {
    "duration": 8,
    "start_time": "2021-07-08T11:46:18.847Z"
   },
   {
    "duration": 25,
    "start_time": "2021-07-08T11:46:18.857Z"
   },
   {
    "duration": 14,
    "start_time": "2021-07-08T11:46:18.884Z"
   },
   {
    "duration": 22,
    "start_time": "2021-07-08T11:46:18.900Z"
   },
   {
    "duration": 5,
    "start_time": "2021-07-08T11:46:18.924Z"
   },
   {
    "duration": 13,
    "start_time": "2021-07-08T11:46:18.931Z"
   },
   {
    "duration": 45,
    "start_time": "2021-07-08T11:46:18.946Z"
   },
   {
    "duration": 12,
    "start_time": "2021-07-08T11:46:18.993Z"
   },
   {
    "duration": 38,
    "start_time": "2021-07-08T11:46:19.006Z"
   },
   {
    "duration": 50,
    "start_time": "2021-07-08T11:46:19.046Z"
   },
   {
    "duration": 29,
    "start_time": "2021-07-08T11:46:19.099Z"
   },
   {
    "duration": 7,
    "start_time": "2021-07-08T11:46:19.130Z"
   },
   {
    "duration": 3,
    "start_time": "2021-07-08T11:46:19.139Z"
   },
   {
    "duration": 11,
    "start_time": "2021-07-08T11:46:19.144Z"
   },
   {
    "duration": 40,
    "start_time": "2021-07-08T11:46:19.157Z"
   },
   {
    "duration": 15,
    "start_time": "2021-07-08T11:46:19.199Z"
   },
   {
    "duration": 10,
    "start_time": "2021-07-08T11:46:19.217Z"
   },
   {
    "duration": 68,
    "start_time": "2021-07-08T11:46:19.230Z"
   },
   {
    "duration": 17,
    "start_time": "2021-07-08T11:46:19.301Z"
   },
   {
    "duration": 7,
    "start_time": "2021-07-08T11:46:19.321Z"
   },
   {
    "duration": 11,
    "start_time": "2021-07-08T11:46:19.330Z"
   },
   {
    "duration": 59,
    "start_time": "2021-07-08T11:46:19.343Z"
   },
   {
    "duration": 17,
    "start_time": "2021-07-08T11:46:19.405Z"
   },
   {
    "duration": 16,
    "start_time": "2021-07-08T11:46:19.424Z"
   },
   {
    "duration": 252,
    "start_time": "2021-07-08T11:46:19.443Z"
   },
   {
    "duration": 9,
    "start_time": "2021-07-08T11:46:19.697Z"
   },
   {
    "duration": 224,
    "start_time": "2021-07-08T11:46:19.708Z"
   },
   {
    "duration": 21,
    "start_time": "2021-07-08T11:46:19.934Z"
   },
   {
    "duration": 9,
    "start_time": "2021-07-08T11:46:19.956Z"
   },
   {
    "duration": 32,
    "start_time": "2021-07-08T11:46:19.967Z"
   },
   {
    "duration": 288,
    "start_time": "2021-07-08T11:46:20.004Z"
   },
   {
    "duration": 23,
    "start_time": "2021-07-08T11:46:20.300Z"
   },
   {
    "duration": 11,
    "start_time": "2021-07-08T11:46:20.325Z"
   },
   {
    "duration": 11,
    "start_time": "2021-07-08T11:46:20.339Z"
   },
   {
    "duration": 259,
    "start_time": "2021-07-08T11:46:20.352Z"
   },
   {
    "duration": 438,
    "start_time": "2021-07-08T11:46:20.613Z"
   },
   {
    "duration": 207,
    "start_time": "2021-07-08T11:46:21.054Z"
   },
   {
    "duration": 27,
    "start_time": "2021-07-08T11:46:21.262Z"
   },
   {
    "duration": 19,
    "start_time": "2021-07-08T11:46:21.291Z"
   },
   {
    "duration": 820,
    "start_time": "2021-07-08T11:49:01.655Z"
   },
   {
    "duration": 372,
    "start_time": "2021-07-08T11:49:02.478Z"
   },
   {
    "duration": 98,
    "start_time": "2021-07-08T11:49:02.853Z"
   },
   {
    "duration": 6,
    "start_time": "2021-07-08T11:49:02.953Z"
   },
   {
    "duration": 39,
    "start_time": "2021-07-08T11:49:02.960Z"
   },
   {
    "duration": 9,
    "start_time": "2021-07-08T11:49:03.003Z"
   },
   {
    "duration": 23,
    "start_time": "2021-07-08T11:49:03.014Z"
   },
   {
    "duration": 6,
    "start_time": "2021-07-08T11:49:03.041Z"
   },
   {
    "duration": 20,
    "start_time": "2021-07-08T11:49:03.049Z"
   },
   {
    "duration": 18,
    "start_time": "2021-07-08T11:49:03.084Z"
   },
   {
    "duration": 14,
    "start_time": "2021-07-08T11:49:03.104Z"
   },
   {
    "duration": 39,
    "start_time": "2021-07-08T11:49:03.119Z"
   },
   {
    "duration": 38,
    "start_time": "2021-07-08T11:49:03.160Z"
   },
   {
    "duration": 26,
    "start_time": "2021-07-08T11:49:03.200Z"
   },
   {
    "duration": 7,
    "start_time": "2021-07-08T11:49:03.227Z"
   },
   {
    "duration": 4,
    "start_time": "2021-07-08T11:49:03.236Z"
   },
   {
    "duration": 15,
    "start_time": "2021-07-08T11:49:03.243Z"
   },
   {
    "duration": 21,
    "start_time": "2021-07-08T11:49:03.285Z"
   },
   {
    "duration": 17,
    "start_time": "2021-07-08T11:49:03.309Z"
   },
   {
    "duration": 10,
    "start_time": "2021-07-08T11:49:03.328Z"
   },
   {
    "duration": 65,
    "start_time": "2021-07-08T11:49:03.340Z"
   },
   {
    "duration": 18,
    "start_time": "2021-07-08T11:49:03.407Z"
   },
   {
    "duration": 8,
    "start_time": "2021-07-08T11:49:03.428Z"
   },
   {
    "duration": 15,
    "start_time": "2021-07-08T11:49:03.438Z"
   },
   {
    "duration": 40,
    "start_time": "2021-07-08T11:49:03.455Z"
   },
   {
    "duration": 12,
    "start_time": "2021-07-08T11:49:03.497Z"
   },
   {
    "duration": 29,
    "start_time": "2021-07-08T11:49:03.511Z"
   },
   {
    "duration": 285,
    "start_time": "2021-07-08T11:49:03.542Z"
   },
   {
    "duration": 8,
    "start_time": "2021-07-08T11:49:03.829Z"
   },
   {
    "duration": 227,
    "start_time": "2021-07-08T11:49:03.838Z"
   },
   {
    "duration": 40,
    "start_time": "2021-07-08T11:49:04.066Z"
   },
   {
    "duration": 10,
    "start_time": "2021-07-08T11:49:04.108Z"
   },
   {
    "duration": 26,
    "start_time": "2021-07-08T11:49:04.121Z"
   },
   {
    "duration": 290,
    "start_time": "2021-07-08T11:49:04.149Z"
   },
   {
    "duration": 26,
    "start_time": "2021-07-08T11:49:04.441Z"
   },
   {
    "duration": 31,
    "start_time": "2021-07-08T11:49:04.470Z"
   },
   {
    "duration": 14,
    "start_time": "2021-07-08T11:49:04.503Z"
   },
   {
    "duration": 259,
    "start_time": "2021-07-08T11:49:04.521Z"
   },
   {
    "duration": 480,
    "start_time": "2021-07-08T11:49:04.782Z"
   },
   {
    "duration": 225,
    "start_time": "2021-07-08T11:49:05.264Z"
   },
   {
    "duration": 22,
    "start_time": "2021-07-08T11:49:05.491Z"
   },
   {
    "duration": 24,
    "start_time": "2021-07-08T11:49:05.515Z"
   },
   {
    "duration": 634,
    "start_time": "2021-07-08T11:52:24.960Z"
   },
   {
    "duration": 199,
    "start_time": "2021-07-08T11:52:25.599Z"
   },
   {
    "duration": 106,
    "start_time": "2021-07-08T11:52:25.803Z"
   },
   {
    "duration": 7,
    "start_time": "2021-07-08T11:52:25.911Z"
   },
   {
    "duration": 29,
    "start_time": "2021-07-08T11:52:25.920Z"
   },
   {
    "duration": 7,
    "start_time": "2021-07-08T11:52:25.951Z"
   },
   {
    "duration": 26,
    "start_time": "2021-07-08T11:52:25.961Z"
   },
   {
    "duration": 11,
    "start_time": "2021-07-08T11:52:25.990Z"
   },
   {
    "duration": 29,
    "start_time": "2021-07-08T11:52:26.005Z"
   },
   {
    "duration": 9,
    "start_time": "2021-07-08T11:52:26.036Z"
   },
   {
    "duration": 8,
    "start_time": "2021-07-08T11:52:26.047Z"
   },
   {
    "duration": 63,
    "start_time": "2021-07-08T11:52:26.057Z"
   },
   {
    "duration": 17,
    "start_time": "2021-07-08T11:52:26.122Z"
   },
   {
    "duration": 43,
    "start_time": "2021-07-08T11:52:26.142Z"
   },
   {
    "duration": 17,
    "start_time": "2021-07-08T11:52:26.187Z"
   },
   {
    "duration": 5,
    "start_time": "2021-07-08T11:52:26.206Z"
   },
   {
    "duration": 12,
    "start_time": "2021-07-08T11:52:26.212Z"
   },
   {
    "duration": 11,
    "start_time": "2021-07-08T11:52:26.226Z"
   },
   {
    "duration": 12,
    "start_time": "2021-07-08T11:52:26.238Z"
   },
   {
    "duration": 38,
    "start_time": "2021-07-08T11:52:26.252Z"
   },
   {
    "duration": 40,
    "start_time": "2021-07-08T11:52:26.292Z"
   },
   {
    "duration": 17,
    "start_time": "2021-07-08T11:52:26.336Z"
   },
   {
    "duration": 39,
    "start_time": "2021-07-08T11:52:26.355Z"
   },
   {
    "duration": 11,
    "start_time": "2021-07-08T11:52:26.395Z"
   },
   {
    "duration": 23,
    "start_time": "2021-07-08T11:52:26.408Z"
   },
   {
    "duration": 12,
    "start_time": "2021-07-08T11:52:26.432Z"
   },
   {
    "duration": 41,
    "start_time": "2021-07-08T11:52:26.446Z"
   },
   {
    "duration": 215,
    "start_time": "2021-07-08T11:52:26.493Z"
   },
   {
    "duration": 8,
    "start_time": "2021-07-08T11:52:26.710Z"
   },
   {
    "duration": 228,
    "start_time": "2021-07-08T11:52:26.720Z"
   },
   {
    "duration": 18,
    "start_time": "2021-07-08T11:52:26.950Z"
   },
   {
    "duration": 35,
    "start_time": "2021-07-08T11:52:26.969Z"
   },
   {
    "duration": 23,
    "start_time": "2021-07-08T11:52:27.006Z"
   },
   {
    "duration": 258,
    "start_time": "2021-07-08T11:52:27.030Z"
   },
   {
    "duration": 24,
    "start_time": "2021-07-08T11:52:27.290Z"
   },
   {
    "duration": 12,
    "start_time": "2021-07-08T11:52:27.316Z"
   },
   {
    "duration": 10,
    "start_time": "2021-07-08T11:52:27.329Z"
   },
   {
    "duration": 298,
    "start_time": "2021-07-08T11:52:27.341Z"
   },
   {
    "duration": 436,
    "start_time": "2021-07-08T11:52:27.641Z"
   },
   {
    "duration": 216,
    "start_time": "2021-07-08T11:52:28.079Z"
   },
   {
    "duration": 20,
    "start_time": "2021-07-08T11:52:28.297Z"
   },
   {
    "duration": 17,
    "start_time": "2021-07-08T11:52:28.319Z"
   },
   {
    "duration": 625,
    "start_time": "2021-11-24T08:14:50.305Z"
   },
   {
    "duration": 464,
    "start_time": "2021-11-24T08:16:52.855Z"
   },
   {
    "duration": 13,
    "start_time": "2021-11-24T08:17:12.543Z"
   },
   {
    "duration": 26,
    "start_time": "2021-11-24T08:23:33.461Z"
   },
   {
    "duration": 14,
    "start_time": "2021-11-24T08:23:38.422Z"
   },
   {
    "duration": 3,
    "start_time": "2021-11-24T08:28:46.921Z"
   },
   {
    "duration": 146,
    "start_time": "2021-11-24T08:28:46.926Z"
   },
   {
    "duration": 10,
    "start_time": "2021-11-24T08:28:47.074Z"
   },
   {
    "duration": 16,
    "start_time": "2021-11-24T08:28:47.086Z"
   },
   {
    "duration": 5,
    "start_time": "2021-11-24T08:29:01.473Z"
   },
   {
    "duration": 10,
    "start_time": "2021-11-24T08:31:29.740Z"
   },
   {
    "duration": 4,
    "start_time": "2021-11-24T08:38:55.536Z"
   },
   {
    "duration": 6,
    "start_time": "2021-11-24T08:39:04.257Z"
   },
   {
    "duration": 7,
    "start_time": "2021-11-24T08:39:30.358Z"
   },
   {
    "duration": 257,
    "start_time": "2021-11-24T08:42:38.775Z"
   },
   {
    "duration": 905,
    "start_time": "2021-11-24T08:44:16.108Z"
   },
   {
    "duration": 333,
    "start_time": "2021-11-24T08:44:49.836Z"
   },
   {
    "duration": 10,
    "start_time": "2021-11-24T08:45:05.896Z"
   },
   {
    "duration": 1440,
    "start_time": "2021-11-24T08:46:29.876Z"
   },
   {
    "duration": 15,
    "start_time": "2021-11-24T08:47:52.116Z"
   },
   {
    "duration": 61,
    "start_time": "2021-11-24T08:50:35.610Z"
   },
   {
    "duration": 8,
    "start_time": "2021-11-24T08:50:42.350Z"
   },
   {
    "duration": 15,
    "start_time": "2021-11-24T08:52:16.280Z"
   },
   {
    "duration": 195,
    "start_time": "2021-11-24T08:55:54.155Z"
   },
   {
    "duration": 7,
    "start_time": "2021-11-24T08:56:06.583Z"
   },
   {
    "duration": 14,
    "start_time": "2021-11-24T08:56:29.241Z"
   },
   {
    "duration": 206,
    "start_time": "2021-11-24T08:56:43.241Z"
   },
   {
    "duration": 11,
    "start_time": "2021-11-24T09:04:30.544Z"
   },
   {
    "duration": 17,
    "start_time": "2021-11-24T09:04:58.244Z"
   },
   {
    "duration": 3,
    "start_time": "2021-11-24T09:05:12.253Z"
   },
   {
    "duration": 136,
    "start_time": "2021-11-24T09:05:12.257Z"
   },
   {
    "duration": 10,
    "start_time": "2021-11-24T09:05:12.395Z"
   },
   {
    "duration": 14,
    "start_time": "2021-11-24T09:05:12.407Z"
   },
   {
    "duration": 7,
    "start_time": "2021-11-24T09:05:12.423Z"
   },
   {
    "duration": 8,
    "start_time": "2021-11-24T09:05:12.432Z"
   },
   {
    "duration": 50,
    "start_time": "2021-11-24T09:05:12.442Z"
   },
   {
    "duration": 15,
    "start_time": "2021-11-24T09:05:12.494Z"
   },
   {
    "duration": 21,
    "start_time": "2021-11-24T09:05:26.196Z"
   },
   {
    "duration": 16,
    "start_time": "2021-11-24T09:06:15.104Z"
   },
   {
    "duration": 10,
    "start_time": "2021-11-24T10:20:30.910Z"
   },
   {
    "duration": 6,
    "start_time": "2021-11-24T10:21:49.870Z"
   },
   {
    "duration": 8,
    "start_time": "2021-11-24T10:22:07.264Z"
   },
   {
    "duration": 6,
    "start_time": "2021-11-24T10:22:39.084Z"
   },
   {
    "duration": 9,
    "start_time": "2021-11-24T10:24:29.264Z"
   },
   {
    "duration": 7,
    "start_time": "2021-11-24T10:27:55.115Z"
   },
   {
    "duration": 9,
    "start_time": "2021-11-24T10:29:50.694Z"
   },
   {
    "duration": 8,
    "start_time": "2021-11-24T10:30:24.803Z"
   },
   {
    "duration": 7,
    "start_time": "2021-11-24T10:30:44.706Z"
   },
   {
    "duration": 6,
    "start_time": "2021-11-24T10:32:08.061Z"
   },
   {
    "duration": 6,
    "start_time": "2021-11-24T10:35:54.180Z"
   },
   {
    "duration": 7,
    "start_time": "2021-11-24T10:36:51.769Z"
   },
   {
    "duration": 6,
    "start_time": "2021-11-24T10:37:28.651Z"
   },
   {
    "duration": 54,
    "start_time": "2021-11-24T10:38:06.817Z"
   },
   {
    "duration": 7,
    "start_time": "2021-11-24T10:38:46.056Z"
   },
   {
    "duration": 7,
    "start_time": "2021-11-24T10:41:34.263Z"
   },
   {
    "duration": 4491,
    "start_time": "2021-11-24T10:41:44.643Z"
   },
   {
    "duration": 10,
    "start_time": "2021-11-24T10:42:58.670Z"
   },
   {
    "duration": 7,
    "start_time": "2021-11-24T10:43:25.175Z"
   },
   {
    "duration": 6,
    "start_time": "2021-11-24T10:43:30.415Z"
   },
   {
    "duration": 7,
    "start_time": "2021-11-24T10:43:35.546Z"
   },
   {
    "duration": 7,
    "start_time": "2021-11-24T10:43:37.874Z"
   },
   {
    "duration": 6,
    "start_time": "2021-11-24T10:43:39.375Z"
   },
   {
    "duration": 6,
    "start_time": "2021-11-24T10:43:43.755Z"
   },
   {
    "duration": 3,
    "start_time": "2021-11-24T10:43:55.846Z"
   },
   {
    "duration": 95,
    "start_time": "2021-11-24T10:43:55.863Z"
   },
   {
    "duration": 12,
    "start_time": "2021-11-24T10:43:55.960Z"
   },
   {
    "duration": 18,
    "start_time": "2021-11-24T10:43:55.974Z"
   },
   {
    "duration": 9,
    "start_time": "2021-11-24T10:43:55.994Z"
   },
   {
    "duration": 10,
    "start_time": "2021-11-24T10:43:56.004Z"
   },
   {
    "duration": 20,
    "start_time": "2021-11-24T10:43:56.016Z"
   },
   {
    "duration": 16,
    "start_time": "2021-11-24T10:43:56.039Z"
   },
   {
    "duration": 55,
    "start_time": "2021-11-24T10:43:56.057Z"
   },
   {
    "duration": 16,
    "start_time": "2021-11-24T10:43:56.114Z"
   },
   {
    "duration": 16,
    "start_time": "2021-11-24T10:43:56.132Z"
   },
   {
    "duration": 9,
    "start_time": "2021-11-24T10:43:56.149Z"
   },
   {
    "duration": 13,
    "start_time": "2021-11-24T10:43:56.160Z"
   },
   {
    "duration": 19,
    "start_time": "2021-11-24T10:43:56.175Z"
   },
   {
    "duration": 6,
    "start_time": "2021-11-24T10:43:56.196Z"
   },
   {
    "duration": 16,
    "start_time": "2021-11-24T10:43:56.204Z"
   },
   {
    "duration": 7,
    "start_time": "2021-11-24T10:44:01.307Z"
   },
   {
    "duration": 9,
    "start_time": "2021-11-24T10:48:04.942Z"
   },
   {
    "duration": 8,
    "start_time": "2021-11-24T10:49:22.801Z"
   },
   {
    "duration": 9,
    "start_time": "2021-11-24T10:49:57.421Z"
   },
   {
    "duration": 10,
    "start_time": "2021-11-24T10:50:01.313Z"
   },
   {
    "duration": 10,
    "start_time": "2021-11-24T10:50:16.005Z"
   },
   {
    "duration": 11,
    "start_time": "2021-11-24T10:50:33.453Z"
   },
   {
    "duration": 10,
    "start_time": "2021-11-24T10:50:39.993Z"
   },
   {
    "duration": 184,
    "start_time": "2021-11-24T11:38:18.575Z"
   },
   {
    "duration": 2,
    "start_time": "2021-11-24T11:39:53.976Z"
   },
   {
    "duration": 68,
    "start_time": "2021-11-24T11:45:53.365Z"
   },
   {
    "duration": 6,
    "start_time": "2021-11-24T11:46:52.218Z"
   },
   {
    "duration": 6,
    "start_time": "2021-11-24T11:47:08.607Z"
   },
   {
    "duration": 193,
    "start_time": "2021-11-24T11:47:16.889Z"
   },
   {
    "duration": 198,
    "start_time": "2021-11-24T11:47:21.626Z"
   },
   {
    "duration": 4,
    "start_time": "2021-11-24T11:47:39.258Z"
   },
   {
    "duration": 6,
    "start_time": "2021-11-24T11:47:47.457Z"
   },
   {
    "duration": 7,
    "start_time": "2021-11-24T11:47:56.226Z"
   },
   {
    "duration": 4,
    "start_time": "2021-11-24T11:49:14.345Z"
   },
   {
    "duration": 4,
    "start_time": "2021-11-24T11:49:21.470Z"
   },
   {
    "duration": 7,
    "start_time": "2021-11-24T11:49:24.598Z"
   },
   {
    "duration": 6,
    "start_time": "2021-11-24T11:51:38.367Z"
   },
   {
    "duration": 194,
    "start_time": "2021-11-24T11:52:42.731Z"
   },
   {
    "duration": 4,
    "start_time": "2021-11-24T11:53:00.458Z"
   },
   {
    "duration": 5,
    "start_time": "2021-11-24T11:53:53.338Z"
   },
   {
    "duration": 10,
    "start_time": "2021-11-24T11:54:10.739Z"
   },
   {
    "duration": 63,
    "start_time": "2021-11-24T11:56:59.459Z"
   },
   {
    "duration": 24,
    "start_time": "2021-11-24T11:58:25.999Z"
   },
   {
    "duration": 2,
    "start_time": "2021-11-24T11:58:49.680Z"
   },
   {
    "duration": 96,
    "start_time": "2021-11-24T11:58:49.684Z"
   },
   {
    "duration": 10,
    "start_time": "2021-11-24T11:58:49.782Z"
   },
   {
    "duration": 16,
    "start_time": "2021-11-24T11:58:49.794Z"
   },
   {
    "duration": 7,
    "start_time": "2021-11-24T11:58:49.812Z"
   },
   {
    "duration": 9,
    "start_time": "2021-11-24T11:58:49.820Z"
   },
   {
    "duration": 17,
    "start_time": "2021-11-24T11:58:49.831Z"
   },
   {
    "duration": 13,
    "start_time": "2021-11-24T11:58:49.850Z"
   },
   {
    "duration": 43,
    "start_time": "2021-11-24T11:58:49.865Z"
   },
   {
    "duration": 15,
    "start_time": "2021-11-24T11:58:49.910Z"
   },
   {
    "duration": 7,
    "start_time": "2021-11-24T11:58:49.926Z"
   },
   {
    "duration": 8,
    "start_time": "2021-11-24T11:58:49.934Z"
   },
   {
    "duration": 6,
    "start_time": "2021-11-24T11:58:49.944Z"
   },
   {
    "duration": 41,
    "start_time": "2021-11-24T11:58:49.952Z"
   },
   {
    "duration": 7,
    "start_time": "2021-11-24T11:58:49.995Z"
   },
   {
    "duration": 5,
    "start_time": "2021-11-24T11:58:50.004Z"
   },
   {
    "duration": 9,
    "start_time": "2021-11-24T11:58:50.011Z"
   },
   {
    "duration": 185,
    "start_time": "2021-11-24T11:58:50.079Z"
   },
   {
    "duration": -309,
    "start_time": "2021-11-24T11:58:50.575Z"
   },
   {
    "duration": 5,
    "start_time": "2021-11-24T12:00:00.360Z"
   },
   {
    "duration": 5,
    "start_time": "2021-11-24T12:00:09.800Z"
   },
   {
    "duration": 27,
    "start_time": "2021-11-24T12:00:18.256Z"
   },
   {
    "duration": 6,
    "start_time": "2021-11-24T12:01:23.248Z"
   },
   {
    "duration": 11,
    "start_time": "2021-11-24T12:01:25.579Z"
   },
   {
    "duration": 5,
    "start_time": "2021-11-24T12:03:33.080Z"
   },
   {
    "duration": 5,
    "start_time": "2021-11-24T12:03:37.000Z"
   },
   {
    "duration": 7,
    "start_time": "2021-11-24T12:03:38.253Z"
   },
   {
    "duration": 12,
    "start_time": "2021-11-24T12:09:12.958Z"
   },
   {
    "duration": 8,
    "start_time": "2021-11-24T12:09:28.798Z"
   },
   {
    "duration": 8,
    "start_time": "2021-11-24T12:09:33.278Z"
   },
   {
    "duration": 10,
    "start_time": "2021-11-24T12:11:45.698Z"
   },
   {
    "duration": 193,
    "start_time": "2021-11-24T12:14:56.187Z"
   },
   {
    "duration": 15,
    "start_time": "2021-11-24T12:15:43.835Z"
   },
   {
    "duration": 23,
    "start_time": "2021-11-24T12:15:56.526Z"
   },
   {
    "duration": 19,
    "start_time": "2021-11-24T12:17:17.654Z"
   },
   {
    "duration": 22,
    "start_time": "2021-11-24T12:17:50.026Z"
   },
   {
    "duration": 19,
    "start_time": "2021-11-24T12:20:30.772Z"
   },
   {
    "duration": 11,
    "start_time": "2021-11-24T12:20:39.066Z"
   },
   {
    "duration": 10,
    "start_time": "2021-11-24T12:25:03.670Z"
   },
   {
    "duration": 10,
    "start_time": "2021-11-24T12:25:20.450Z"
   },
   {
    "duration": 3,
    "start_time": "2021-11-24T12:27:00.502Z"
   },
   {
    "duration": 124,
    "start_time": "2021-11-24T12:27:00.510Z"
   },
   {
    "duration": 12,
    "start_time": "2021-11-24T12:27:00.637Z"
   },
   {
    "duration": 21,
    "start_time": "2021-11-24T12:27:00.652Z"
   },
   {
    "duration": 19,
    "start_time": "2021-11-24T12:27:00.675Z"
   },
   {
    "duration": 23,
    "start_time": "2021-11-24T12:27:00.696Z"
   },
   {
    "duration": 26,
    "start_time": "2021-11-24T12:27:00.720Z"
   },
   {
    "duration": 14,
    "start_time": "2021-11-24T12:27:00.748Z"
   },
   {
    "duration": 31,
    "start_time": "2021-11-24T12:27:00.764Z"
   },
   {
    "duration": 16,
    "start_time": "2021-11-24T12:27:00.797Z"
   },
   {
    "duration": 10,
    "start_time": "2021-11-24T12:27:00.815Z"
   },
   {
    "duration": 25,
    "start_time": "2021-11-24T12:27:00.827Z"
   },
   {
    "duration": 10,
    "start_time": "2021-11-24T12:27:00.854Z"
   },
   {
    "duration": 7,
    "start_time": "2021-11-24T12:27:00.865Z"
   },
   {
    "duration": 6,
    "start_time": "2021-11-24T12:27:00.891Z"
   },
   {
    "duration": 8,
    "start_time": "2021-11-24T12:27:00.899Z"
   },
   {
    "duration": 17,
    "start_time": "2021-11-24T12:27:00.908Z"
   },
   {
    "duration": 9,
    "start_time": "2021-11-24T12:27:00.926Z"
   },
   {
    "duration": 6,
    "start_time": "2021-11-24T12:27:00.937Z"
   },
   {
    "duration": 9,
    "start_time": "2021-11-24T12:27:04.489Z"
   },
   {
    "duration": 11,
    "start_time": "2021-11-24T12:27:05.330Z"
   },
   {
    "duration": 3,
    "start_time": "2021-11-24T12:32:07.318Z"
   },
   {
    "duration": 147,
    "start_time": "2021-11-24T12:32:07.324Z"
   },
   {
    "duration": 10,
    "start_time": "2021-11-24T12:32:07.473Z"
   },
   {
    "duration": 27,
    "start_time": "2021-11-24T12:32:07.485Z"
   },
   {
    "duration": 15,
    "start_time": "2021-11-24T12:32:07.514Z"
   },
   {
    "duration": 21,
    "start_time": "2021-11-24T12:32:07.530Z"
   },
   {
    "duration": 30,
    "start_time": "2021-11-24T12:32:07.552Z"
   },
   {
    "duration": 18,
    "start_time": "2021-11-24T12:32:07.584Z"
   },
   {
    "duration": 28,
    "start_time": "2021-11-24T12:32:07.605Z"
   },
   {
    "duration": 16,
    "start_time": "2021-11-24T12:32:07.635Z"
   },
   {
    "duration": 20,
    "start_time": "2021-11-24T12:32:07.653Z"
   },
   {
    "duration": 11,
    "start_time": "2021-11-24T12:32:07.675Z"
   },
   {
    "duration": 18,
    "start_time": "2021-11-24T12:32:07.691Z"
   },
   {
    "duration": 17,
    "start_time": "2021-11-24T12:32:07.711Z"
   },
   {
    "duration": 11,
    "start_time": "2021-11-24T12:32:07.730Z"
   },
   {
    "duration": 16,
    "start_time": "2021-11-24T12:32:07.743Z"
   },
   {
    "duration": 22,
    "start_time": "2021-11-24T12:32:07.761Z"
   },
   {
    "duration": 17,
    "start_time": "2021-11-24T12:32:07.784Z"
   },
   {
    "duration": 17,
    "start_time": "2021-11-24T12:32:07.804Z"
   },
   {
    "duration": 32,
    "start_time": "2021-11-24T12:32:07.823Z"
   },
   {
    "duration": 18,
    "start_time": "2021-11-24T12:32:07.857Z"
   },
   {
    "duration": 15,
    "start_time": "2021-11-24T12:32:07.877Z"
   },
   {
    "duration": 15,
    "start_time": "2021-11-24T12:32:07.894Z"
   },
   {
    "duration": 12,
    "start_time": "2021-11-24T12:32:10.460Z"
   },
   {
    "duration": 22,
    "start_time": "2021-11-24T12:38:08.127Z"
   },
   {
    "duration": 59,
    "start_time": "2021-11-24T12:39:28.487Z"
   },
   {
    "duration": 183,
    "start_time": "2021-11-24T12:39:35.535Z"
   },
   {
    "duration": 2,
    "start_time": "2021-11-24T12:39:46.308Z"
   },
   {
    "duration": 16,
    "start_time": "2021-11-24T12:39:59.568Z"
   },
   {
    "duration": 11,
    "start_time": "2021-11-24T12:40:18.388Z"
   },
   {
    "duration": 15,
    "start_time": "2021-11-24T12:41:27.248Z"
   },
   {
    "duration": 405,
    "start_time": "2021-11-24T12:42:19.047Z"
   },
   {
    "duration": 15,
    "start_time": "2021-11-24T12:42:27.680Z"
   },
   {
    "duration": 6,
    "start_time": "2021-11-24T12:45:43.867Z"
   },
   {
    "duration": 183,
    "start_time": "2021-11-24T12:46:03.035Z"
   },
   {
    "duration": 9,
    "start_time": "2021-11-24T12:46:12.048Z"
   },
   {
    "duration": 16,
    "start_time": "2021-11-24T12:47:42.720Z"
   },
   {
    "duration": 3,
    "start_time": "2021-11-24T12:47:53.380Z"
   },
   {
    "duration": 100,
    "start_time": "2021-11-24T12:47:53.388Z"
   },
   {
    "duration": 10,
    "start_time": "2021-11-24T12:47:53.490Z"
   },
   {
    "duration": 17,
    "start_time": "2021-11-24T12:47:53.502Z"
   },
   {
    "duration": 9,
    "start_time": "2021-11-24T12:47:53.521Z"
   },
   {
    "duration": 12,
    "start_time": "2021-11-24T12:47:53.532Z"
   },
   {
    "duration": 25,
    "start_time": "2021-11-24T12:47:53.545Z"
   },
   {
    "duration": 30,
    "start_time": "2021-11-24T12:47:53.572Z"
   },
   {
    "duration": 19,
    "start_time": "2021-11-24T12:47:53.604Z"
   },
   {
    "duration": 15,
    "start_time": "2021-11-24T12:47:53.626Z"
   },
   {
    "duration": 9,
    "start_time": "2021-11-24T12:47:53.643Z"
   },
   {
    "duration": 38,
    "start_time": "2021-11-24T12:47:53.654Z"
   },
   {
    "duration": 9,
    "start_time": "2021-11-24T12:47:53.694Z"
   },
   {
    "duration": 8,
    "start_time": "2021-11-24T12:47:53.704Z"
   },
   {
    "duration": 8,
    "start_time": "2021-11-24T12:47:53.714Z"
   },
   {
    "duration": 8,
    "start_time": "2021-11-24T12:47:53.723Z"
   },
   {
    "duration": 9,
    "start_time": "2021-11-24T12:47:53.733Z"
   },
   {
    "duration": 15,
    "start_time": "2021-11-24T12:47:53.744Z"
   },
   {
    "duration": 35,
    "start_time": "2021-11-24T12:47:53.761Z"
   },
   {
    "duration": 13,
    "start_time": "2021-11-24T12:47:53.798Z"
   },
   {
    "duration": 10,
    "start_time": "2021-11-24T12:47:53.813Z"
   },
   {
    "duration": 5,
    "start_time": "2021-11-24T12:47:53.824Z"
   },
   {
    "duration": 7,
    "start_time": "2021-11-24T12:47:53.831Z"
   },
   {
    "duration": 9,
    "start_time": "2021-11-24T12:47:53.840Z"
   },
   {
    "duration": 12,
    "start_time": "2021-11-24T12:47:58.609Z"
   },
   {
    "duration": 9,
    "start_time": "2021-11-24T12:49:07.169Z"
   },
   {
    "duration": 8,
    "start_time": "2021-11-24T12:49:21.409Z"
   },
   {
    "duration": 3,
    "start_time": "2021-11-24T12:51:55.691Z"
   },
   {
    "duration": 112,
    "start_time": "2021-11-24T12:51:55.696Z"
   },
   {
    "duration": 10,
    "start_time": "2021-11-24T12:51:55.810Z"
   },
   {
    "duration": 18,
    "start_time": "2021-11-24T12:51:55.822Z"
   },
   {
    "duration": 20,
    "start_time": "2021-11-24T12:51:55.842Z"
   },
   {
    "duration": 17,
    "start_time": "2021-11-24T12:51:55.864Z"
   },
   {
    "duration": 27,
    "start_time": "2021-11-24T12:51:55.883Z"
   },
   {
    "duration": 25,
    "start_time": "2021-11-24T12:51:55.912Z"
   },
   {
    "duration": 21,
    "start_time": "2021-11-24T12:52:00.851Z"
   },
   {
    "duration": 9,
    "start_time": "2021-11-24T12:52:55.252Z"
   },
   {
    "duration": 3,
    "start_time": "2021-11-24T12:53:06.853Z"
   },
   {
    "duration": 106,
    "start_time": "2021-11-24T12:53:06.858Z"
   },
   {
    "duration": 10,
    "start_time": "2021-11-24T12:53:06.966Z"
   },
   {
    "duration": 19,
    "start_time": "2021-11-24T12:53:06.977Z"
   },
   {
    "duration": 8,
    "start_time": "2021-11-24T12:53:06.997Z"
   },
   {
    "duration": 9,
    "start_time": "2021-11-24T12:53:07.007Z"
   },
   {
    "duration": 18,
    "start_time": "2021-11-24T12:53:07.017Z"
   },
   {
    "duration": 12,
    "start_time": "2021-11-24T12:53:07.037Z"
   },
   {
    "duration": 48,
    "start_time": "2021-11-24T12:53:07.051Z"
   },
   {
    "duration": 16,
    "start_time": "2021-11-24T12:53:07.101Z"
   },
   {
    "duration": 10,
    "start_time": "2021-11-24T12:53:07.118Z"
   },
   {
    "duration": 12,
    "start_time": "2021-11-24T12:53:07.129Z"
   },
   {
    "duration": 7,
    "start_time": "2021-11-24T12:53:07.143Z"
   },
   {
    "duration": 7,
    "start_time": "2021-11-24T12:53:07.151Z"
   },
   {
    "duration": 32,
    "start_time": "2021-11-24T12:53:07.160Z"
   },
   {
    "duration": 6,
    "start_time": "2021-11-24T12:53:07.194Z"
   },
   {
    "duration": 7,
    "start_time": "2021-11-24T12:53:07.202Z"
   },
   {
    "duration": 10,
    "start_time": "2021-11-24T12:53:07.211Z"
   },
   {
    "duration": 4,
    "start_time": "2021-11-24T12:53:07.223Z"
   },
   {
    "duration": 11,
    "start_time": "2021-11-24T12:53:07.229Z"
   },
   {
    "duration": 10,
    "start_time": "2021-11-24T12:53:07.242Z"
   },
   {
    "duration": 42,
    "start_time": "2021-11-24T12:53:07.254Z"
   },
   {
    "duration": 8,
    "start_time": "2021-11-24T12:53:07.297Z"
   },
   {
    "duration": 13,
    "start_time": "2021-11-24T12:53:07.306Z"
   },
   {
    "duration": 11,
    "start_time": "2021-11-24T12:53:35.152Z"
   },
   {
    "duration": 15,
    "start_time": "2021-11-24T12:53:42.592Z"
   },
   {
    "duration": 14,
    "start_time": "2021-11-24T12:54:14.612Z"
   },
   {
    "duration": 59,
    "start_time": "2021-11-24T12:54:20.332Z"
   },
   {
    "duration": 12,
    "start_time": "2021-11-24T12:54:25.272Z"
   },
   {
    "duration": 13,
    "start_time": "2021-11-24T12:55:16.852Z"
   },
   {
    "duration": 182,
    "start_time": "2021-11-24T12:58:06.534Z"
   },
   {
    "duration": 16,
    "start_time": "2021-11-24T12:58:35.130Z"
   },
   {
    "duration": 10,
    "start_time": "2021-11-24T12:59:15.966Z"
   },
   {
    "duration": 14,
    "start_time": "2021-11-24T12:59:25.006Z"
   },
   {
    "duration": 2,
    "start_time": "2021-11-24T13:00:06.296Z"
   },
   {
    "duration": 123,
    "start_time": "2021-11-24T13:00:06.300Z"
   },
   {
    "duration": 10,
    "start_time": "2021-11-24T13:00:06.425Z"
   },
   {
    "duration": 40,
    "start_time": "2021-11-24T13:00:06.437Z"
   },
   {
    "duration": 14,
    "start_time": "2021-11-24T13:00:06.479Z"
   },
   {
    "duration": 41,
    "start_time": "2021-11-24T13:00:06.494Z"
   },
   {
    "duration": 41,
    "start_time": "2021-11-24T13:00:06.537Z"
   },
   {
    "duration": 17,
    "start_time": "2021-11-24T13:00:06.580Z"
   },
   {
    "duration": 28,
    "start_time": "2021-11-24T13:00:06.600Z"
   },
   {
    "duration": 17,
    "start_time": "2021-11-24T13:00:06.631Z"
   },
   {
    "duration": 16,
    "start_time": "2021-11-24T13:00:06.651Z"
   },
   {
    "duration": 9,
    "start_time": "2021-11-24T13:00:06.692Z"
   },
   {
    "duration": 20,
    "start_time": "2021-11-24T13:00:06.703Z"
   },
   {
    "duration": 9,
    "start_time": "2021-11-24T13:00:06.725Z"
   },
   {
    "duration": 8,
    "start_time": "2021-11-24T13:00:06.736Z"
   },
   {
    "duration": 8,
    "start_time": "2021-11-24T13:00:06.746Z"
   },
   {
    "duration": 7,
    "start_time": "2021-11-24T13:00:06.756Z"
   },
   {
    "duration": 36,
    "start_time": "2021-11-24T13:00:06.764Z"
   },
   {
    "duration": 9,
    "start_time": "2021-11-24T13:00:06.802Z"
   },
   {
    "duration": 14,
    "start_time": "2021-11-24T13:00:06.812Z"
   },
   {
    "duration": 11,
    "start_time": "2021-11-24T13:00:06.828Z"
   },
   {
    "duration": 11,
    "start_time": "2021-11-24T13:00:06.841Z"
   },
   {
    "duration": 7,
    "start_time": "2021-11-24T13:00:06.853Z"
   },
   {
    "duration": 40,
    "start_time": "2021-11-24T13:00:06.862Z"
   },
   {
    "duration": 14,
    "start_time": "2021-11-24T13:00:09.766Z"
   },
   {
    "duration": 475,
    "start_time": "2021-11-24T13:02:03.596Z"
   },
   {
    "duration": 506,
    "start_time": "2021-11-24T13:02:24.115Z"
   },
   {
    "duration": 188,
    "start_time": "2021-11-24T13:03:24.095Z"
   },
   {
    "duration": 465,
    "start_time": "2021-11-24T13:03:31.515Z"
   },
   {
    "duration": 96,
    "start_time": "2021-11-24T13:03:50.855Z"
   },
   {
    "duration": 12,
    "start_time": "2021-11-24T13:03:55.475Z"
   },
   {
    "duration": 9,
    "start_time": "2021-11-24T13:04:01.405Z"
   },
   {
    "duration": 15,
    "start_time": "2021-11-24T13:04:29.303Z"
   },
   {
    "duration": 16,
    "start_time": "2021-11-24T13:04:37.857Z"
   },
   {
    "duration": 2,
    "start_time": "2021-11-24T13:05:58.176Z"
   },
   {
    "duration": 115,
    "start_time": "2021-11-24T13:05:58.180Z"
   },
   {
    "duration": 10,
    "start_time": "2021-11-24T13:05:58.297Z"
   },
   {
    "duration": 23,
    "start_time": "2021-11-24T13:05:58.309Z"
   },
   {
    "duration": 30,
    "start_time": "2021-11-24T13:05:58.334Z"
   },
   {
    "duration": 33,
    "start_time": "2021-11-24T13:05:58.366Z"
   },
   {
    "duration": 47,
    "start_time": "2021-11-24T13:05:58.401Z"
   },
   {
    "duration": 14,
    "start_time": "2021-11-24T13:05:58.450Z"
   },
   {
    "duration": 32,
    "start_time": "2021-11-24T13:05:58.467Z"
   },
   {
    "duration": 15,
    "start_time": "2021-11-24T13:05:58.501Z"
   },
   {
    "duration": 27,
    "start_time": "2021-11-24T13:05:58.518Z"
   },
   {
    "duration": 24,
    "start_time": "2021-11-24T13:05:58.546Z"
   },
   {
    "duration": 35,
    "start_time": "2021-11-24T13:05:58.572Z"
   },
   {
    "duration": 28,
    "start_time": "2021-11-24T13:05:58.609Z"
   },
   {
    "duration": 30,
    "start_time": "2021-11-24T13:05:58.639Z"
   },
   {
    "duration": 22,
    "start_time": "2021-11-24T13:05:58.672Z"
   },
   {
    "duration": 30,
    "start_time": "2021-11-24T13:05:58.696Z"
   },
   {
    "duration": 43,
    "start_time": "2021-11-24T13:05:58.729Z"
   },
   {
    "duration": 25,
    "start_time": "2021-11-24T13:05:58.774Z"
   },
   {
    "duration": 28,
    "start_time": "2021-11-24T13:05:58.801Z"
   },
   {
    "duration": 32,
    "start_time": "2021-11-24T13:05:58.832Z"
   },
   {
    "duration": 23,
    "start_time": "2021-11-24T13:05:58.866Z"
   },
   {
    "duration": 37,
    "start_time": "2021-11-24T13:05:58.892Z"
   },
   {
    "duration": 26,
    "start_time": "2021-11-24T13:05:58.932Z"
   },
   {
    "duration": 17,
    "start_time": "2021-11-24T13:06:01.456Z"
   },
   {
    "duration": 641,
    "start_time": "2021-11-25T08:33:06.570Z"
   },
   {
    "duration": 241,
    "start_time": "2021-11-25T08:33:07.212Z"
   },
   {
    "duration": 11,
    "start_time": "2021-11-25T08:33:07.455Z"
   },
   {
    "duration": 19,
    "start_time": "2021-11-25T08:33:07.468Z"
   },
   {
    "duration": 8,
    "start_time": "2021-11-25T08:33:07.488Z"
   },
   {
    "duration": 9,
    "start_time": "2021-11-25T08:33:07.497Z"
   },
   {
    "duration": 40,
    "start_time": "2021-11-25T08:33:07.507Z"
   },
   {
    "duration": 15,
    "start_time": "2021-11-25T08:33:07.548Z"
   },
   {
    "duration": 22,
    "start_time": "2021-11-25T08:33:07.565Z"
   },
   {
    "duration": 16,
    "start_time": "2021-11-25T08:33:07.589Z"
   },
   {
    "duration": 8,
    "start_time": "2021-11-25T08:33:07.607Z"
   },
   {
    "duration": 6,
    "start_time": "2021-11-25T08:33:07.645Z"
   },
   {
    "duration": 7,
    "start_time": "2021-11-25T08:33:07.652Z"
   },
   {
    "duration": 5,
    "start_time": "2021-11-25T08:33:07.661Z"
   },
   {
    "duration": 7,
    "start_time": "2021-11-25T08:33:07.668Z"
   },
   {
    "duration": 5,
    "start_time": "2021-11-25T08:33:07.677Z"
   },
   {
    "duration": 8,
    "start_time": "2021-11-25T08:33:07.684Z"
   },
   {
    "duration": 10,
    "start_time": "2021-11-25T08:33:07.693Z"
   },
   {
    "duration": 43,
    "start_time": "2021-11-25T08:33:07.705Z"
   },
   {
    "duration": 8,
    "start_time": "2021-11-25T08:33:07.749Z"
   },
   {
    "duration": 10,
    "start_time": "2021-11-25T08:33:07.759Z"
   },
   {
    "duration": 5,
    "start_time": "2021-11-25T08:33:07.770Z"
   },
   {
    "duration": 7,
    "start_time": "2021-11-25T08:33:07.777Z"
   },
   {
    "duration": 10,
    "start_time": "2021-11-25T08:33:07.785Z"
   },
   {
    "duration": 48,
    "start_time": "2021-11-25T08:33:07.797Z"
   },
   {
    "duration": 9,
    "start_time": "2021-11-25T08:33:51.897Z"
   },
   {
    "duration": 16,
    "start_time": "2021-11-25T08:34:31.077Z"
   },
   {
    "duration": 354,
    "start_time": "2021-11-25T08:41:50.677Z"
   },
   {
    "duration": 12,
    "start_time": "2021-11-25T08:42:23.054Z"
   },
   {
    "duration": 12,
    "start_time": "2021-11-25T08:43:08.909Z"
   },
   {
    "duration": 300,
    "start_time": "2021-11-25T08:43:50.280Z"
   },
   {
    "duration": 11,
    "start_time": "2021-11-25T08:44:22.018Z"
   },
   {
    "duration": 10,
    "start_time": "2021-11-25T08:44:59.046Z"
   },
   {
    "duration": 286,
    "start_time": "2021-11-25T08:47:34.737Z"
   },
   {
    "duration": 283,
    "start_time": "2021-11-25T08:50:52.886Z"
   },
   {
    "duration": 9,
    "start_time": "2021-11-25T08:51:14.758Z"
   },
   {
    "duration": 299,
    "start_time": "2021-11-25T08:51:15.690Z"
   },
   {
    "duration": 7,
    "start_time": "2021-11-25T08:51:29.598Z"
   },
   {
    "duration": 8,
    "start_time": "2021-11-25T08:51:30.218Z"
   },
   {
    "duration": 8,
    "start_time": "2021-11-25T08:52:01.278Z"
   },
   {
    "duration": 10,
    "start_time": "2021-11-25T08:52:14.959Z"
   },
   {
    "duration": 9,
    "start_time": "2021-11-25T08:53:37.218Z"
   },
   {
    "duration": 6254,
    "start_time": "2021-11-25T08:54:18.498Z"
   },
   {
    "duration": 5162,
    "start_time": "2021-11-25T08:54:56.058Z"
   },
   {
    "duration": 8,
    "start_time": "2021-11-25T08:55:36.550Z"
   },
   {
    "duration": 9,
    "start_time": "2021-11-25T08:56:01.158Z"
   },
   {
    "duration": 9,
    "start_time": "2021-11-25T08:56:16.438Z"
   },
   {
    "duration": 6471,
    "start_time": "2021-11-25T08:56:48.078Z"
   },
   {
    "duration": 8,
    "start_time": "2021-11-25T08:57:05.178Z"
   },
   {
    "duration": 310,
    "start_time": "2021-11-25T08:57:07.798Z"
   },
   {
    "duration": 314,
    "start_time": "2021-11-25T08:57:15.020Z"
   },
   {
    "duration": 9,
    "start_time": "2021-11-25T08:57:28.718Z"
   },
   {
    "duration": 8,
    "start_time": "2021-11-25T08:57:32.118Z"
   },
   {
    "duration": 12,
    "start_time": "2021-11-25T08:57:33.685Z"
   },
   {
    "duration": 8,
    "start_time": "2021-11-25T08:57:50.877Z"
   },
   {
    "duration": 8,
    "start_time": "2021-11-25T09:02:06.217Z"
   },
   {
    "duration": 93,
    "start_time": "2021-11-25T09:03:20.864Z"
   },
   {
    "duration": 5,
    "start_time": "2021-11-25T09:03:38.654Z"
   },
   {
    "duration": 15,
    "start_time": "2021-11-25T09:03:47.054Z"
   },
   {
    "duration": 13,
    "start_time": "2021-11-25T09:03:57.574Z"
   },
   {
    "duration": 2,
    "start_time": "2021-11-25T09:09:54.767Z"
   },
   {
    "duration": 100,
    "start_time": "2021-11-25T09:09:54.772Z"
   },
   {
    "duration": 12,
    "start_time": "2021-11-25T09:09:54.874Z"
   },
   {
    "duration": 15,
    "start_time": "2021-11-25T09:09:54.888Z"
   },
   {
    "duration": 6,
    "start_time": "2021-11-25T09:09:54.905Z"
   },
   {
    "duration": 9,
    "start_time": "2021-11-25T09:09:54.912Z"
   },
   {
    "duration": 19,
    "start_time": "2021-11-25T09:09:54.922Z"
   },
   {
    "duration": 15,
    "start_time": "2021-11-25T09:09:54.944Z"
   },
   {
    "duration": 20,
    "start_time": "2021-11-25T09:09:54.962Z"
   },
   {
    "duration": 16,
    "start_time": "2021-11-25T09:09:54.984Z"
   },
   {
    "duration": 7,
    "start_time": "2021-11-25T09:09:55.002Z"
   },
   {
    "duration": 36,
    "start_time": "2021-11-25T09:09:55.010Z"
   },
   {
    "duration": 9,
    "start_time": "2021-11-25T09:09:55.048Z"
   },
   {
    "duration": 7,
    "start_time": "2021-11-25T09:09:55.058Z"
   },
   {
    "duration": 11,
    "start_time": "2021-11-25T09:09:55.067Z"
   },
   {
    "duration": 7,
    "start_time": "2021-11-25T09:09:55.080Z"
   },
   {
    "duration": 8,
    "start_time": "2021-11-25T09:09:55.088Z"
   },
   {
    "duration": 10,
    "start_time": "2021-11-25T09:10:01.635Z"
   },
   {
    "duration": 3,
    "start_time": "2021-11-25T09:14:38.307Z"
   },
   {
    "duration": 114,
    "start_time": "2021-11-25T09:14:38.312Z"
   },
   {
    "duration": 11,
    "start_time": "2021-11-25T09:14:38.428Z"
   },
   {
    "duration": 17,
    "start_time": "2021-11-25T09:14:38.441Z"
   },
   {
    "duration": 7,
    "start_time": "2021-11-25T09:14:38.460Z"
   },
   {
    "duration": 9,
    "start_time": "2021-11-25T09:14:38.468Z"
   },
   {
    "duration": 21,
    "start_time": "2021-11-25T09:14:38.478Z"
   },
   {
    "duration": 19,
    "start_time": "2021-11-25T09:14:38.500Z"
   },
   {
    "duration": 23,
    "start_time": "2021-11-25T09:14:38.545Z"
   },
   {
    "duration": 16,
    "start_time": "2021-11-25T09:14:38.570Z"
   },
   {
    "duration": 7,
    "start_time": "2021-11-25T09:14:38.587Z"
   },
   {
    "duration": 7,
    "start_time": "2021-11-25T09:14:38.596Z"
   },
   {
    "duration": 6,
    "start_time": "2021-11-25T09:14:38.605Z"
   },
   {
    "duration": 7,
    "start_time": "2021-11-25T09:14:38.644Z"
   },
   {
    "duration": 12,
    "start_time": "2021-11-25T09:14:38.652Z"
   },
   {
    "duration": 13,
    "start_time": "2021-11-25T09:14:38.666Z"
   },
   {
    "duration": 8,
    "start_time": "2021-11-25T09:14:38.681Z"
   },
   {
    "duration": 11,
    "start_time": "2021-11-25T09:14:38.691Z"
   },
   {
    "duration": 3,
    "start_time": "2021-11-25T09:14:38.703Z"
   },
   {
    "duration": 45,
    "start_time": "2021-11-25T09:14:38.707Z"
   },
   {
    "duration": 19,
    "start_time": "2021-11-25T09:14:38.754Z"
   },
   {
    "duration": 277,
    "start_time": "2021-11-25T09:14:43.154Z"
   },
   {
    "duration": 284,
    "start_time": "2021-11-25T09:15:27.955Z"
   },
   {
    "duration": 4,
    "start_time": "2021-11-25T09:15:37.966Z"
   },
   {
    "duration": 7,
    "start_time": "2021-11-25T09:15:47.527Z"
   },
   {
    "duration": 11,
    "start_time": "2021-11-25T09:15:48.322Z"
   },
   {
    "duration": 2,
    "start_time": "2021-11-25T09:20:02.576Z"
   },
   {
    "duration": 119,
    "start_time": "2021-11-25T09:20:02.580Z"
   },
   {
    "duration": 9,
    "start_time": "2021-11-25T09:20:02.701Z"
   },
   {
    "duration": 41,
    "start_time": "2021-11-25T09:20:02.712Z"
   },
   {
    "duration": 36,
    "start_time": "2021-11-25T09:20:02.755Z"
   },
   {
    "duration": 37,
    "start_time": "2021-11-25T09:20:02.792Z"
   },
   {
    "duration": 43,
    "start_time": "2021-11-25T09:20:02.830Z"
   },
   {
    "duration": 38,
    "start_time": "2021-11-25T09:20:02.875Z"
   },
   {
    "duration": 52,
    "start_time": "2021-11-25T09:20:02.916Z"
   },
   {
    "duration": 35,
    "start_time": "2021-11-25T09:20:02.970Z"
   },
   {
    "duration": 28,
    "start_time": "2021-11-25T09:20:03.007Z"
   },
   {
    "duration": 25,
    "start_time": "2021-11-25T09:20:03.037Z"
   },
   {
    "duration": 25,
    "start_time": "2021-11-25T09:20:03.064Z"
   },
   {
    "duration": 31,
    "start_time": "2021-11-25T09:20:03.091Z"
   },
   {
    "duration": 30,
    "start_time": "2021-11-25T09:20:03.124Z"
   },
   {
    "duration": 30,
    "start_time": "2021-11-25T09:20:03.156Z"
   },
   {
    "duration": 36,
    "start_time": "2021-11-25T09:20:03.187Z"
   },
   {
    "duration": 35,
    "start_time": "2021-11-25T09:20:03.225Z"
   },
   {
    "duration": 28,
    "start_time": "2021-11-25T09:20:03.262Z"
   },
   {
    "duration": 39,
    "start_time": "2021-11-25T09:20:03.291Z"
   },
   {
    "duration": 37,
    "start_time": "2021-11-25T09:20:03.332Z"
   },
   {
    "duration": 26,
    "start_time": "2021-11-25T09:20:03.371Z"
   },
   {
    "duration": 42,
    "start_time": "2021-11-25T09:20:03.398Z"
   },
   {
    "duration": 31,
    "start_time": "2021-11-25T09:20:03.442Z"
   },
   {
    "duration": 38,
    "start_time": "2021-11-25T09:20:03.475Z"
   },
   {
    "duration": 32,
    "start_time": "2021-11-25T09:20:03.514Z"
   },
   {
    "duration": 4,
    "start_time": "2021-11-25T09:20:08.635Z"
   },
   {
    "duration": 15,
    "start_time": "2021-11-25T09:20:21.863Z"
   },
   {
    "duration": 442,
    "start_time": "2021-11-25T09:21:18.555Z"
   },
   {
    "duration": 11,
    "start_time": "2021-11-25T09:21:26.854Z"
   },
   {
    "duration": 14,
    "start_time": "2021-11-25T09:48:05.640Z"
   },
   {
    "duration": 17,
    "start_time": "2021-11-25T09:48:40.394Z"
   },
   {
    "duration": 15,
    "start_time": "2021-11-25T09:49:18.104Z"
   },
   {
    "duration": 11,
    "start_time": "2021-11-25T09:52:36.162Z"
   },
   {
    "duration": 10,
    "start_time": "2021-11-25T09:53:09.273Z"
   },
   {
    "duration": 11,
    "start_time": "2021-11-25T09:53:49.608Z"
   },
   {
    "duration": 12,
    "start_time": "2021-11-25T09:54:00.558Z"
   },
   {
    "duration": 11,
    "start_time": "2021-11-25T09:54:21.658Z"
   },
   {
    "duration": 10,
    "start_time": "2021-11-25T09:54:37.064Z"
   },
   {
    "duration": 14,
    "start_time": "2021-11-25T09:55:42.713Z"
   },
   {
    "duration": 11,
    "start_time": "2021-11-25T09:57:00.797Z"
   },
   {
    "duration": 9,
    "start_time": "2021-11-25T09:57:13.338Z"
   },
   {
    "duration": 8,
    "start_time": "2021-11-25T09:57:37.474Z"
   },
   {
    "duration": 10,
    "start_time": "2021-11-25T09:57:53.482Z"
   },
   {
    "duration": 14,
    "start_time": "2021-11-25T09:59:56.556Z"
   },
   {
    "duration": 9,
    "start_time": "2021-11-25T10:02:43.059Z"
   },
   {
    "duration": 4,
    "start_time": "2021-11-25T10:04:39.395Z"
   },
   {
    "duration": 7,
    "start_time": "2021-11-25T10:05:10.675Z"
   },
   {
    "duration": 15,
    "start_time": "2021-11-25T10:05:58.401Z"
   },
   {
    "duration": 15,
    "start_time": "2021-11-25T10:18:56.008Z"
   },
   {
    "duration": 372,
    "start_time": "2021-11-25T10:38:59.800Z"
   },
   {
    "duration": 19,
    "start_time": "2021-11-25T10:39:06.080Z"
   },
   {
    "duration": 857,
    "start_time": "2021-11-26T08:55:27.651Z"
   },
   {
    "duration": 163,
    "start_time": "2021-11-26T08:55:28.510Z"
   },
   {
    "duration": 17,
    "start_time": "2021-11-26T08:55:28.676Z"
   },
   {
    "duration": 29,
    "start_time": "2021-11-26T08:55:28.696Z"
   },
   {
    "duration": 10,
    "start_time": "2021-11-26T08:55:28.728Z"
   },
   {
    "duration": 13,
    "start_time": "2021-11-26T08:55:28.740Z"
   },
   {
    "duration": 62,
    "start_time": "2021-11-26T08:55:28.756Z"
   },
   {
    "duration": 22,
    "start_time": "2021-11-26T08:55:28.820Z"
   },
   {
    "duration": 43,
    "start_time": "2021-11-26T08:55:31.821Z"
   },
   {
    "duration": 13,
    "start_time": "2021-11-26T09:11:44.369Z"
   },
   {
    "duration": 9,
    "start_time": "2021-11-26T09:13:22.529Z"
   },
   {
    "duration": 8,
    "start_time": "2021-11-26T09:13:23.329Z"
   },
   {
    "duration": 4,
    "start_time": "2021-11-26T09:13:29.430Z"
   },
   {
    "duration": 174,
    "start_time": "2021-11-26T09:13:29.436Z"
   },
   {
    "duration": 14,
    "start_time": "2021-11-26T09:13:29.613Z"
   },
   {
    "duration": 26,
    "start_time": "2021-11-26T09:13:29.630Z"
   },
   {
    "duration": 19,
    "start_time": "2021-11-26T09:13:29.659Z"
   },
   {
    "duration": 25,
    "start_time": "2021-11-26T09:13:29.680Z"
   },
   {
    "duration": 32,
    "start_time": "2021-11-26T09:13:29.707Z"
   },
   {
    "duration": 21,
    "start_time": "2021-11-26T09:13:29.741Z"
   },
   {
    "duration": 64,
    "start_time": "2021-11-26T09:13:29.765Z"
   },
   {
    "duration": 26,
    "start_time": "2021-11-26T09:13:29.831Z"
   },
   {
    "duration": 9,
    "start_time": "2021-11-26T09:13:29.859Z"
   },
   {
    "duration": 34,
    "start_time": "2021-11-26T09:13:29.870Z"
   },
   {
    "duration": 19,
    "start_time": "2021-11-26T09:13:29.907Z"
   },
   {
    "duration": 10,
    "start_time": "2021-11-26T09:13:29.928Z"
   },
   {
    "duration": 9,
    "start_time": "2021-11-26T09:13:29.941Z"
   },
   {
    "duration": 11,
    "start_time": "2021-11-26T09:13:29.952Z"
   },
   {
    "duration": 11,
    "start_time": "2021-11-26T09:13:30.002Z"
   },
   {
    "duration": 23,
    "start_time": "2021-11-26T09:13:30.016Z"
   },
   {
    "duration": 15,
    "start_time": "2021-11-26T09:13:30.042Z"
   },
   {
    "duration": 6,
    "start_time": "2021-11-26T09:13:30.060Z"
   },
   {
    "duration": 36,
    "start_time": "2021-11-26T09:13:30.069Z"
   },
   {
    "duration": 25,
    "start_time": "2021-11-26T09:13:30.107Z"
   },
   {
    "duration": 21,
    "start_time": "2021-11-26T09:13:30.134Z"
   },
   {
    "duration": 21,
    "start_time": "2021-11-26T09:13:30.157Z"
   },
   {
    "duration": 8,
    "start_time": "2021-11-26T09:13:34.449Z"
   },
   {
    "duration": 8,
    "start_time": "2021-11-26T09:13:34.709Z"
   },
   {
    "duration": 11,
    "start_time": "2021-11-26T09:13:50.617Z"
   },
   {
    "duration": 4,
    "start_time": "2021-11-26T09:20:46.270Z"
   },
   {
    "duration": 141,
    "start_time": "2021-11-26T09:20:46.277Z"
   },
   {
    "duration": 13,
    "start_time": "2021-11-26T09:20:46.421Z"
   },
   {
    "duration": 25,
    "start_time": "2021-11-26T09:20:46.437Z"
   },
   {
    "duration": 11,
    "start_time": "2021-11-26T09:20:46.465Z"
   },
   {
    "duration": 27,
    "start_time": "2021-11-26T09:20:46.479Z"
   },
   {
    "duration": 31,
    "start_time": "2021-11-26T09:20:46.508Z"
   },
   {
    "duration": 20,
    "start_time": "2021-11-26T09:20:46.541Z"
   },
   {
    "duration": 70,
    "start_time": "2021-11-26T09:20:46.565Z"
   },
   {
    "duration": 28,
    "start_time": "2021-11-26T09:20:46.639Z"
   },
   {
    "duration": 35,
    "start_time": "2021-11-26T09:20:46.670Z"
   },
   {
    "duration": 17,
    "start_time": "2021-11-26T09:20:46.708Z"
   },
   {
    "duration": 16,
    "start_time": "2021-11-26T09:20:46.728Z"
   },
   {
    "duration": 19,
    "start_time": "2021-11-26T09:20:46.747Z"
   },
   {
    "duration": 11,
    "start_time": "2021-11-26T09:20:46.769Z"
   },
   {
    "duration": 26,
    "start_time": "2021-11-26T09:20:46.782Z"
   },
   {
    "duration": 14,
    "start_time": "2021-11-26T09:20:46.811Z"
   },
   {
    "duration": 11,
    "start_time": "2021-11-26T09:20:46.828Z"
   },
   {
    "duration": 23,
    "start_time": "2021-11-26T09:20:46.841Z"
   },
   {
    "duration": 35,
    "start_time": "2021-11-26T09:20:46.866Z"
   },
   {
    "duration": 17,
    "start_time": "2021-11-26T09:20:46.903Z"
   },
   {
    "duration": 14,
    "start_time": "2021-11-26T09:20:46.922Z"
   },
   {
    "duration": 17,
    "start_time": "2021-11-26T09:20:46.939Z"
   },
   {
    "duration": 16,
    "start_time": "2021-11-26T09:20:46.958Z"
   },
   {
    "duration": 6,
    "start_time": "2021-11-26T09:20:49.577Z"
   },
   {
    "duration": 9,
    "start_time": "2021-11-26T09:21:07.448Z"
   },
   {
    "duration": 10,
    "start_time": "2021-11-26T09:21:56.210Z"
   },
   {
    "duration": 3,
    "start_time": "2021-11-26T09:28:56.030Z"
   },
   {
    "duration": 150,
    "start_time": "2021-11-26T09:28:56.036Z"
   },
   {
    "duration": 14,
    "start_time": "2021-11-26T09:28:56.189Z"
   },
   {
    "duration": 26,
    "start_time": "2021-11-26T09:28:56.206Z"
   },
   {
    "duration": 9,
    "start_time": "2021-11-26T09:28:56.234Z"
   },
   {
    "duration": 12,
    "start_time": "2021-11-26T09:28:56.245Z"
   },
   {
    "duration": 56,
    "start_time": "2021-11-26T09:28:56.259Z"
   },
   {
    "duration": 20,
    "start_time": "2021-11-26T09:28:56.318Z"
   },
   {
    "duration": 32,
    "start_time": "2021-11-26T09:28:56.342Z"
   },
   {
    "duration": 25,
    "start_time": "2021-11-26T09:28:56.401Z"
   },
   {
    "duration": 13,
    "start_time": "2021-11-26T09:28:56.429Z"
   },
   {
    "duration": 13,
    "start_time": "2021-11-26T09:28:56.444Z"
   },
   {
    "duration": 10,
    "start_time": "2021-11-26T09:28:56.459Z"
   },
   {
    "duration": 9,
    "start_time": "2021-11-26T09:28:56.501Z"
   },
   {
    "duration": 11,
    "start_time": "2021-11-26T09:28:56.513Z"
   },
   {
    "duration": 10,
    "start_time": "2021-11-26T09:28:56.527Z"
   },
   {
    "duration": 11,
    "start_time": "2021-11-26T09:28:56.540Z"
   },
   {
    "duration": 57,
    "start_time": "2021-11-26T09:28:56.553Z"
   },
   {
    "duration": 17,
    "start_time": "2021-11-26T09:28:56.613Z"
   },
   {
    "duration": 3,
    "start_time": "2021-11-26T09:28:56.633Z"
   },
   {
    "duration": 14,
    "start_time": "2021-11-26T09:28:56.640Z"
   },
   {
    "duration": 56,
    "start_time": "2021-11-26T09:28:56.656Z"
   },
   {
    "duration": 18,
    "start_time": "2021-11-26T09:28:56.715Z"
   },
   {
    "duration": 12,
    "start_time": "2021-11-26T09:28:59.788Z"
   },
   {
    "duration": 27,
    "start_time": "2021-11-26T09:29:14.517Z"
   },
   {
    "duration": 12,
    "start_time": "2021-11-26T09:42:22.578Z"
   },
   {
    "duration": 155,
    "start_time": "2021-11-26T09:50:38.557Z"
   },
   {
    "duration": 33,
    "start_time": "2021-11-26T09:50:57.829Z"
   },
   {
    "duration": 3,
    "start_time": "2021-11-26T09:51:23.830Z"
   },
   {
    "duration": 130,
    "start_time": "2021-11-26T09:51:23.836Z"
   },
   {
    "duration": 16,
    "start_time": "2021-11-26T09:51:23.970Z"
   },
   {
    "duration": 27,
    "start_time": "2021-11-26T09:51:23.990Z"
   },
   {
    "duration": 11,
    "start_time": "2021-11-26T09:51:24.020Z"
   },
   {
    "duration": 13,
    "start_time": "2021-11-26T09:51:24.033Z"
   },
   {
    "duration": 59,
    "start_time": "2021-11-26T09:51:24.049Z"
   },
   {
    "duration": 20,
    "start_time": "2021-11-26T09:51:24.110Z"
   },
   {
    "duration": 31,
    "start_time": "2021-11-26T09:51:24.134Z"
   },
   {
    "duration": 55,
    "start_time": "2021-11-26T09:51:24.168Z"
   },
   {
    "duration": 11,
    "start_time": "2021-11-26T09:51:24.226Z"
   },
   {
    "duration": 9,
    "start_time": "2021-11-26T09:51:24.240Z"
   },
   {
    "duration": 13,
    "start_time": "2021-11-26T09:51:24.252Z"
   },
   {
    "duration": 41,
    "start_time": "2021-11-26T09:51:24.268Z"
   },
   {
    "duration": 11,
    "start_time": "2021-11-26T09:51:24.313Z"
   },
   {
    "duration": 11,
    "start_time": "2021-11-26T09:51:24.327Z"
   },
   {
    "duration": 11,
    "start_time": "2021-11-26T09:51:24.340Z"
   },
   {
    "duration": 58,
    "start_time": "2021-11-26T09:51:24.354Z"
   },
   {
    "duration": 16,
    "start_time": "2021-11-26T09:51:24.415Z"
   },
   {
    "duration": 4,
    "start_time": "2021-11-26T09:51:24.434Z"
   },
   {
    "duration": 12,
    "start_time": "2021-11-26T09:51:24.441Z"
   },
   {
    "duration": 54,
    "start_time": "2021-11-26T09:51:24.456Z"
   },
   {
    "duration": 17,
    "start_time": "2021-11-26T09:51:24.513Z"
   },
   {
    "duration": 15,
    "start_time": "2021-11-26T09:51:24.533Z"
   },
   {
    "duration": 17,
    "start_time": "2021-11-26T09:51:24.550Z"
   },
   {
    "duration": 157,
    "start_time": "2021-11-26T09:51:30.496Z"
   },
   {
    "duration": 29,
    "start_time": "2021-11-26T09:51:31.369Z"
   },
   {
    "duration": 10487,
    "start_time": "2021-11-26T09:53:28.308Z"
   },
   {
    "duration": -275,
    "start_time": "2021-11-26T09:53:39.073Z"
   },
   {
    "duration": 4,
    "start_time": "2021-11-26T09:53:46.049Z"
   },
   {
    "duration": 119,
    "start_time": "2021-11-26T09:53:46.056Z"
   },
   {
    "duration": 14,
    "start_time": "2021-11-26T09:53:46.178Z"
   },
   {
    "duration": 26,
    "start_time": "2021-11-26T09:53:46.195Z"
   },
   {
    "duration": 11,
    "start_time": "2021-11-26T09:53:46.223Z"
   },
   {
    "duration": 12,
    "start_time": "2021-11-26T09:53:46.236Z"
   },
   {
    "duration": 57,
    "start_time": "2021-11-26T09:53:46.250Z"
   },
   {
    "duration": 21,
    "start_time": "2021-11-26T09:53:46.311Z"
   },
   {
    "duration": 31,
    "start_time": "2021-11-26T09:53:46.335Z"
   },
   {
    "duration": 51,
    "start_time": "2021-11-26T09:53:46.369Z"
   },
   {
    "duration": 10,
    "start_time": "2021-11-26T09:53:46.422Z"
   },
   {
    "duration": 21,
    "start_time": "2021-11-26T09:53:46.434Z"
   },
   {
    "duration": 13,
    "start_time": "2021-11-26T09:53:46.457Z"
   },
   {
    "duration": 34,
    "start_time": "2021-11-26T09:53:46.472Z"
   },
   {
    "duration": 9,
    "start_time": "2021-11-26T09:53:46.508Z"
   },
   {
    "duration": 14,
    "start_time": "2021-11-26T09:53:46.519Z"
   },
   {
    "duration": 16,
    "start_time": "2021-11-26T09:53:46.536Z"
   },
   {
    "duration": 13,
    "start_time": "2021-11-26T09:53:46.554Z"
   },
   {
    "duration": 38,
    "start_time": "2021-11-26T09:53:46.569Z"
   },
   {
    "duration": 4,
    "start_time": "2021-11-26T09:53:46.610Z"
   },
   {
    "duration": 19,
    "start_time": "2021-11-26T09:53:46.617Z"
   },
   {
    "duration": 17,
    "start_time": "2021-11-26T09:53:46.638Z"
   },
   {
    "duration": 45,
    "start_time": "2021-11-26T09:53:46.659Z"
   },
   {
    "duration": 17,
    "start_time": "2021-11-26T09:53:46.707Z"
   },
   {
    "duration": 17,
    "start_time": "2021-11-26T09:53:46.727Z"
   },
   {
    "duration": 11120,
    "start_time": "2021-11-26T09:53:50.128Z"
   },
   {
    "duration": -137,
    "start_time": "2021-11-26T09:59:36.073Z"
   },
   {
    "duration": -151,
    "start_time": "2021-11-26T09:59:36.088Z"
   },
   {
    "duration": -153,
    "start_time": "2021-11-26T09:59:36.092Z"
   },
   {
    "duration": -155,
    "start_time": "2021-11-26T09:59:36.095Z"
   },
   {
    "duration": -159,
    "start_time": "2021-11-26T09:59:36.100Z"
   },
   {
    "duration": -160,
    "start_time": "2021-11-26T09:59:36.103Z"
   },
   {
    "duration": -165,
    "start_time": "2021-11-26T09:59:36.109Z"
   },
   {
    "duration": -179,
    "start_time": "2021-11-26T09:59:36.124Z"
   },
   {
    "duration": -181,
    "start_time": "2021-11-26T09:59:36.128Z"
   },
   {
    "duration": -184,
    "start_time": "2021-11-26T09:59:36.132Z"
   },
   {
    "duration": -217,
    "start_time": "2021-11-26T09:59:36.167Z"
   },
   {
    "duration": -220,
    "start_time": "2021-11-26T09:59:36.171Z"
   },
   {
    "duration": -221,
    "start_time": "2021-11-26T09:59:36.174Z"
   },
   {
    "duration": -227,
    "start_time": "2021-11-26T09:59:36.181Z"
   },
   {
    "duration": -231,
    "start_time": "2021-11-26T09:59:36.186Z"
   },
   {
    "duration": -235,
    "start_time": "2021-11-26T09:59:36.192Z"
   },
   {
    "duration": -238,
    "start_time": "2021-11-26T09:59:36.196Z"
   },
   {
    "duration": -243,
    "start_time": "2021-11-26T09:59:36.203Z"
   },
   {
    "duration": -246,
    "start_time": "2021-11-26T09:59:36.207Z"
   },
   {
    "duration": -249,
    "start_time": "2021-11-26T09:59:36.211Z"
   },
   {
    "duration": -259,
    "start_time": "2021-11-26T09:59:36.223Z"
   },
   {
    "duration": -274,
    "start_time": "2021-11-26T09:59:36.239Z"
   },
   {
    "duration": -276,
    "start_time": "2021-11-26T09:59:36.243Z"
   },
   {
    "duration": -278,
    "start_time": "2021-11-26T09:59:36.246Z"
   },
   {
    "duration": -280,
    "start_time": "2021-11-26T09:59:36.249Z"
   },
   {
    "duration": -281,
    "start_time": "2021-11-26T09:59:36.252Z"
   },
   {
    "duration": 4,
    "start_time": "2021-11-26T10:01:04.329Z"
   },
   {
    "duration": 139,
    "start_time": "2021-11-26T10:01:04.336Z"
   },
   {
    "duration": 15,
    "start_time": "2021-11-26T10:01:04.478Z"
   },
   {
    "duration": 32,
    "start_time": "2021-11-26T10:01:04.496Z"
   },
   {
    "duration": 16,
    "start_time": "2021-11-26T10:01:04.530Z"
   },
   {
    "duration": 13,
    "start_time": "2021-11-26T10:01:04.549Z"
   },
   {
    "duration": 47,
    "start_time": "2021-11-26T10:01:04.564Z"
   },
   {
    "duration": 22,
    "start_time": "2021-11-26T10:01:04.615Z"
   },
   {
    "duration": 32,
    "start_time": "2021-11-26T10:01:04.641Z"
   },
   {
    "duration": 47,
    "start_time": "2021-11-26T10:01:04.676Z"
   },
   {
    "duration": 9,
    "start_time": "2021-11-26T10:01:04.726Z"
   },
   {
    "duration": 11,
    "start_time": "2021-11-26T10:01:04.738Z"
   },
   {
    "duration": 12,
    "start_time": "2021-11-26T10:01:04.751Z"
   },
   {
    "duration": 9,
    "start_time": "2021-11-26T10:01:04.801Z"
   },
   {
    "duration": 13,
    "start_time": "2021-11-26T10:01:04.813Z"
   },
   {
    "duration": 9,
    "start_time": "2021-11-26T10:01:04.828Z"
   },
   {
    "duration": 12,
    "start_time": "2021-11-26T10:01:04.840Z"
   },
   {
    "duration": 11,
    "start_time": "2021-11-26T10:01:04.855Z"
   },
   {
    "duration": 14,
    "start_time": "2021-11-26T10:01:04.902Z"
   },
   {
    "duration": 4,
    "start_time": "2021-11-26T10:01:04.919Z"
   },
   {
    "duration": 17,
    "start_time": "2021-11-26T10:01:04.925Z"
   },
   {
    "duration": 16,
    "start_time": "2021-11-26T10:01:04.945Z"
   },
   {
    "duration": 44,
    "start_time": "2021-11-26T10:01:04.963Z"
   },
   {
    "duration": 16,
    "start_time": "2021-11-26T10:01:05.009Z"
   },
   {
    "duration": 24,
    "start_time": "2021-11-26T10:01:05.028Z"
   },
   {
    "duration": 744,
    "start_time": "2021-11-26T10:01:09.209Z"
   },
   {
    "duration": 5,
    "start_time": "2021-11-26T10:04:23.369Z"
   },
   {
    "duration": 4,
    "start_time": "2021-11-26T10:04:35.932Z"
   },
   {
    "duration": 136,
    "start_time": "2021-11-26T10:04:35.939Z"
   },
   {
    "duration": 14,
    "start_time": "2021-11-26T10:04:36.078Z"
   },
   {
    "duration": 38,
    "start_time": "2021-11-26T10:04:36.095Z"
   },
   {
    "duration": 13,
    "start_time": "2021-11-26T10:04:36.135Z"
   },
   {
    "duration": 15,
    "start_time": "2021-11-26T10:04:36.150Z"
   },
   {
    "duration": 43,
    "start_time": "2021-11-26T10:04:36.167Z"
   },
   {
    "duration": 22,
    "start_time": "2021-11-26T10:04:36.213Z"
   },
   {
    "duration": 32,
    "start_time": "2021-11-26T10:04:36.239Z"
   },
   {
    "duration": 26,
    "start_time": "2021-11-26T10:04:36.301Z"
   },
   {
    "duration": 21,
    "start_time": "2021-11-26T10:04:36.330Z"
   },
   {
    "duration": 20,
    "start_time": "2021-11-26T10:04:36.353Z"
   },
   {
    "duration": 28,
    "start_time": "2021-11-26T10:04:36.376Z"
   },
   {
    "duration": 21,
    "start_time": "2021-11-26T10:04:36.407Z"
   },
   {
    "duration": 17,
    "start_time": "2021-11-26T10:04:36.430Z"
   },
   {
    "duration": 12,
    "start_time": "2021-11-26T10:04:36.450Z"
   },
   {
    "duration": 38,
    "start_time": "2021-11-26T10:04:36.464Z"
   },
   {
    "duration": 13,
    "start_time": "2021-11-26T10:04:36.504Z"
   },
   {
    "duration": 8,
    "start_time": "2021-11-26T10:04:36.519Z"
   },
   {
    "duration": 22,
    "start_time": "2021-11-26T10:04:36.529Z"
   },
   {
    "duration": 9,
    "start_time": "2021-11-26T10:04:36.554Z"
   },
   {
    "duration": 40,
    "start_time": "2021-11-26T10:04:36.566Z"
   },
   {
    "duration": 19,
    "start_time": "2021-11-26T10:04:36.609Z"
   },
   {
    "duration": 18,
    "start_time": "2021-11-26T10:04:36.631Z"
   },
   {
    "duration": 13,
    "start_time": "2021-11-26T10:04:36.652Z"
   },
   {
    "duration": 40,
    "start_time": "2021-11-26T10:04:36.667Z"
   },
   {
    "duration": 318,
    "start_time": "2021-11-26T10:04:40.189Z"
   },
   {
    "duration": 30,
    "start_time": "2021-11-26T10:04:42.908Z"
   },
   {
    "duration": 4,
    "start_time": "2021-11-26T10:11:28.772Z"
   },
   {
    "duration": 121,
    "start_time": "2021-11-26T10:11:28.778Z"
   },
   {
    "duration": 14,
    "start_time": "2021-11-26T10:11:28.902Z"
   },
   {
    "duration": 25,
    "start_time": "2021-11-26T10:11:28.920Z"
   },
   {
    "duration": 10,
    "start_time": "2021-11-26T10:11:28.948Z"
   },
   {
    "duration": 45,
    "start_time": "2021-11-26T10:11:28.961Z"
   },
   {
    "duration": 34,
    "start_time": "2021-11-26T10:11:29.008Z"
   },
   {
    "duration": 21,
    "start_time": "2021-11-26T10:11:29.045Z"
   },
   {
    "duration": 60,
    "start_time": "2021-11-26T10:11:29.070Z"
   },
   {
    "duration": 26,
    "start_time": "2021-11-26T10:11:29.133Z"
   },
   {
    "duration": 9,
    "start_time": "2021-11-26T10:11:29.162Z"
   },
   {
    "duration": 35,
    "start_time": "2021-11-26T10:11:29.173Z"
   },
   {
    "duration": 10,
    "start_time": "2021-11-26T10:11:29.210Z"
   },
   {
    "duration": 10,
    "start_time": "2021-11-26T10:11:29.222Z"
   },
   {
    "duration": 15,
    "start_time": "2021-11-26T10:11:29.234Z"
   },
   {
    "duration": 50,
    "start_time": "2021-11-26T10:11:29.252Z"
   },
   {
    "duration": 9,
    "start_time": "2021-11-26T10:11:29.304Z"
   },
   {
    "duration": 20,
    "start_time": "2021-11-26T10:11:29.315Z"
   },
   {
    "duration": 5,
    "start_time": "2021-11-26T10:11:29.338Z"
   },
   {
    "duration": 8,
    "start_time": "2021-11-26T10:11:29.346Z"
   },
   {
    "duration": 16,
    "start_time": "2021-11-26T10:11:29.356Z"
   },
   {
    "duration": 43,
    "start_time": "2021-11-26T10:11:29.374Z"
   },
   {
    "duration": 11,
    "start_time": "2021-11-26T10:11:29.419Z"
   },
   {
    "duration": 323,
    "start_time": "2021-11-26T10:11:29.432Z"
   },
   {
    "duration": 11,
    "start_time": "2021-11-26T10:11:29.758Z"
   },
   {
    "duration": 10,
    "start_time": "2021-11-26T10:11:29.772Z"
   },
   {
    "duration": 7,
    "start_time": "2021-11-26T10:11:32.769Z"
   },
   {
    "duration": 12,
    "start_time": "2021-11-26T10:11:51.171Z"
   },
   {
    "duration": 4,
    "start_time": "2021-11-26T10:12:26.212Z"
   },
   {
    "duration": 130,
    "start_time": "2021-11-26T10:12:26.219Z"
   },
   {
    "duration": 15,
    "start_time": "2021-11-26T10:12:26.352Z"
   },
   {
    "duration": 26,
    "start_time": "2021-11-26T10:12:26.370Z"
   },
   {
    "duration": 9,
    "start_time": "2021-11-26T10:12:26.398Z"
   },
   {
    "duration": 15,
    "start_time": "2021-11-26T10:12:26.409Z"
   },
   {
    "duration": 29,
    "start_time": "2021-11-26T10:12:26.427Z"
   },
   {
    "duration": 48,
    "start_time": "2021-11-26T10:12:26.458Z"
   },
   {
    "duration": 32,
    "start_time": "2021-11-26T10:12:26.510Z"
   },
   {
    "duration": 25,
    "start_time": "2021-11-26T10:12:26.545Z"
   },
   {
    "duration": 9,
    "start_time": "2021-11-26T10:12:26.600Z"
   },
   {
    "duration": 10,
    "start_time": "2021-11-26T10:12:26.611Z"
   },
   {
    "duration": 17,
    "start_time": "2021-11-26T10:12:26.623Z"
   },
   {
    "duration": 16,
    "start_time": "2021-11-26T10:12:26.642Z"
   },
   {
    "duration": 18,
    "start_time": "2021-11-26T10:12:26.661Z"
   },
   {
    "duration": 13,
    "start_time": "2021-11-26T10:12:26.700Z"
   },
   {
    "duration": 17,
    "start_time": "2021-11-26T10:12:26.716Z"
   },
   {
    "duration": 49,
    "start_time": "2021-11-26T10:12:26.735Z"
   },
   {
    "duration": 57,
    "start_time": "2021-11-26T10:12:26.786Z"
   },
   {
    "duration": 7,
    "start_time": "2021-11-26T10:12:26.845Z"
   },
   {
    "duration": 12,
    "start_time": "2021-11-26T10:12:26.854Z"
   },
   {
    "duration": 25,
    "start_time": "2021-11-26T10:12:26.869Z"
   },
   {
    "duration": 23,
    "start_time": "2021-11-26T10:12:26.896Z"
   },
   {
    "duration": 290,
    "start_time": "2021-11-26T10:12:26.921Z"
   },
   {
    "duration": 11,
    "start_time": "2021-11-26T10:12:27.214Z"
   },
   {
    "duration": 5,
    "start_time": "2021-11-26T10:12:27.228Z"
   },
   {
    "duration": 6,
    "start_time": "2021-11-26T10:12:29.139Z"
   },
   {
    "duration": 12,
    "start_time": "2021-11-26T10:12:29.522Z"
   },
   {
    "duration": 3,
    "start_time": "2021-11-26T10:12:41.090Z"
   },
   {
    "duration": 122,
    "start_time": "2021-11-26T10:12:41.096Z"
   },
   {
    "duration": 15,
    "start_time": "2021-11-26T10:12:41.221Z"
   },
   {
    "duration": 27,
    "start_time": "2021-11-26T10:12:41.239Z"
   },
   {
    "duration": 10,
    "start_time": "2021-11-26T10:12:41.268Z"
   },
   {
    "duration": 25,
    "start_time": "2021-11-26T10:12:41.280Z"
   },
   {
    "duration": 30,
    "start_time": "2021-11-26T10:12:41.307Z"
   },
   {
    "duration": 21,
    "start_time": "2021-11-26T10:12:41.339Z"
   },
   {
    "duration": 65,
    "start_time": "2021-11-26T10:12:41.364Z"
   },
   {
    "duration": 26,
    "start_time": "2021-11-26T10:12:41.432Z"
   },
   {
    "duration": 13,
    "start_time": "2021-11-26T10:12:41.460Z"
   },
   {
    "duration": 12,
    "start_time": "2021-11-26T10:12:41.500Z"
   },
   {
    "duration": 11,
    "start_time": "2021-11-26T10:12:41.514Z"
   },
   {
    "duration": 12,
    "start_time": "2021-11-26T10:12:41.527Z"
   },
   {
    "duration": 11,
    "start_time": "2021-11-26T10:12:41.541Z"
   },
   {
    "duration": 9,
    "start_time": "2021-11-26T10:12:41.555Z"
   },
   {
    "duration": 43,
    "start_time": "2021-11-26T10:12:41.566Z"
   },
   {
    "duration": 11,
    "start_time": "2021-11-26T10:12:41.611Z"
   },
   {
    "duration": 5,
    "start_time": "2021-11-26T10:12:41.624Z"
   },
   {
    "duration": 8,
    "start_time": "2021-11-26T10:12:41.631Z"
   },
   {
    "duration": 16,
    "start_time": "2021-11-26T10:12:41.641Z"
   },
   {
    "duration": 52,
    "start_time": "2021-11-26T10:12:41.659Z"
   },
   {
    "duration": 12,
    "start_time": "2021-11-26T10:12:41.713Z"
   },
   {
    "duration": 318,
    "start_time": "2021-11-26T10:12:41.727Z"
   },
   {
    "duration": 12,
    "start_time": "2021-11-26T10:12:42.048Z"
   },
   {
    "duration": 14,
    "start_time": "2021-11-26T10:12:42.062Z"
   },
   {
    "duration": 7,
    "start_time": "2021-11-26T10:12:43.810Z"
   },
   {
    "duration": 13,
    "start_time": "2021-11-26T10:12:44.356Z"
   },
   {
    "duration": 6,
    "start_time": "2021-11-26T10:17:39.748Z"
   },
   {
    "duration": 4,
    "start_time": "2021-11-26T10:17:48.210Z"
   },
   {
    "duration": 125,
    "start_time": "2021-11-26T10:17:48.216Z"
   },
   {
    "duration": 17,
    "start_time": "2021-11-26T10:17:48.344Z"
   },
   {
    "duration": 25,
    "start_time": "2021-11-26T10:17:48.365Z"
   },
   {
    "duration": 12,
    "start_time": "2021-11-26T10:17:48.393Z"
   },
   {
    "duration": 17,
    "start_time": "2021-11-26T10:17:48.408Z"
   },
   {
    "duration": 35,
    "start_time": "2021-11-26T10:17:48.427Z"
   },
   {
    "duration": 39,
    "start_time": "2021-11-26T10:17:48.465Z"
   },
   {
    "duration": 35,
    "start_time": "2021-11-26T10:17:48.510Z"
   },
   {
    "duration": 55,
    "start_time": "2021-11-26T10:17:48.550Z"
   },
   {
    "duration": 11,
    "start_time": "2021-11-26T10:17:48.608Z"
   },
   {
    "duration": 18,
    "start_time": "2021-11-26T10:17:48.622Z"
   },
   {
    "duration": 13,
    "start_time": "2021-11-26T10:17:48.643Z"
   },
   {
    "duration": 43,
    "start_time": "2021-11-26T10:17:48.659Z"
   },
   {
    "duration": 9,
    "start_time": "2021-11-26T10:17:48.704Z"
   },
   {
    "duration": 10,
    "start_time": "2021-11-26T10:17:48.716Z"
   },
   {
    "duration": 17,
    "start_time": "2021-11-26T10:17:48.728Z"
   },
   {
    "duration": 11,
    "start_time": "2021-11-26T10:17:48.747Z"
   },
   {
    "duration": 40,
    "start_time": "2021-11-26T10:17:48.760Z"
   },
   {
    "duration": 4,
    "start_time": "2021-11-26T10:17:48.803Z"
   },
   {
    "duration": 10,
    "start_time": "2021-11-26T10:17:48.810Z"
   },
   {
    "duration": 19,
    "start_time": "2021-11-26T10:17:48.823Z"
   },
   {
    "duration": 13,
    "start_time": "2021-11-26T10:17:48.844Z"
   },
   {
    "duration": 325,
    "start_time": "2021-11-26T10:17:48.859Z"
   },
   {
    "duration": 23,
    "start_time": "2021-11-26T10:17:49.186Z"
   },
   {
    "duration": 6,
    "start_time": "2021-11-26T10:17:49.212Z"
   },
   {
    "duration": 7,
    "start_time": "2021-11-26T10:17:49.222Z"
   },
   {
    "duration": 12,
    "start_time": "2021-11-26T10:17:49.232Z"
   },
   {
    "duration": 15,
    "start_time": "2021-11-26T10:17:49.246Z"
   },
   {
    "duration": 6,
    "start_time": "2021-11-26T10:18:04.949Z"
   },
   {
    "duration": 44,
    "start_time": "2021-11-26T10:18:41.337Z"
   },
   {
    "duration": 4,
    "start_time": "2021-11-26T10:19:24.249Z"
   },
   {
    "duration": 136,
    "start_time": "2021-11-26T10:19:24.256Z"
   },
   {
    "duration": 16,
    "start_time": "2021-11-26T10:19:24.395Z"
   },
   {
    "duration": 30,
    "start_time": "2021-11-26T10:19:24.414Z"
   },
   {
    "duration": 16,
    "start_time": "2021-11-26T10:19:24.447Z"
   },
   {
    "duration": 35,
    "start_time": "2021-11-26T10:19:24.466Z"
   },
   {
    "duration": 35,
    "start_time": "2021-11-26T10:19:24.504Z"
   },
   {
    "duration": 21,
    "start_time": "2021-11-26T10:19:24.541Z"
   },
   {
    "duration": 66,
    "start_time": "2021-11-26T10:19:24.566Z"
   },
   {
    "duration": 26,
    "start_time": "2021-11-26T10:19:24.636Z"
   },
   {
    "duration": 40,
    "start_time": "2021-11-26T10:19:24.665Z"
   },
   {
    "duration": 11,
    "start_time": "2021-11-26T10:19:24.707Z"
   },
   {
    "duration": 17,
    "start_time": "2021-11-26T10:19:24.720Z"
   },
   {
    "duration": 14,
    "start_time": "2021-11-26T10:19:24.739Z"
   },
   {
    "duration": 10,
    "start_time": "2021-11-26T10:19:24.755Z"
   },
   {
    "duration": 36,
    "start_time": "2021-11-26T10:19:24.768Z"
   },
   {
    "duration": 18,
    "start_time": "2021-11-26T10:19:24.807Z"
   },
   {
    "duration": 11,
    "start_time": "2021-11-26T10:19:24.827Z"
   },
   {
    "duration": 6,
    "start_time": "2021-11-26T10:19:24.841Z"
   },
   {
    "duration": 7,
    "start_time": "2021-11-26T10:19:24.849Z"
   },
   {
    "duration": 13,
    "start_time": "2021-11-26T10:19:24.859Z"
   },
   {
    "duration": 19,
    "start_time": "2021-11-26T10:19:24.901Z"
   },
   {
    "duration": 17,
    "start_time": "2021-11-26T10:19:24.923Z"
   },
   {
    "duration": 320,
    "start_time": "2021-11-26T10:19:24.943Z"
   },
   {
    "duration": 13,
    "start_time": "2021-11-26T10:19:25.265Z"
   },
   {
    "duration": 22,
    "start_time": "2021-11-26T10:19:25.281Z"
   },
   {
    "duration": 7,
    "start_time": "2021-11-26T10:19:25.309Z"
   },
   {
    "duration": 13,
    "start_time": "2021-11-26T10:19:25.319Z"
   },
   {
    "duration": 13,
    "start_time": "2021-11-26T10:19:25.335Z"
   },
   {
    "duration": 6,
    "start_time": "2021-11-26T10:19:27.038Z"
   },
   {
    "duration": 42,
    "start_time": "2021-11-26T10:19:27.649Z"
   },
   {
    "duration": 300,
    "start_time": "2021-11-26T11:06:11.178Z"
   },
   {
    "duration": 356,
    "start_time": "2021-11-26T11:06:36.827Z"
   },
   {
    "duration": 374,
    "start_time": "2021-11-26T11:07:13.614Z"
   },
   {
    "duration": 289,
    "start_time": "2021-11-26T11:07:27.246Z"
   },
   {
    "duration": 314,
    "start_time": "2021-11-26T11:10:45.186Z"
   },
   {
    "duration": 306,
    "start_time": "2021-11-26T11:10:53.358Z"
   },
   {
    "duration": 307,
    "start_time": "2021-11-26T11:10:58.966Z"
   },
   {
    "duration": 309,
    "start_time": "2021-11-26T11:11:15.166Z"
   },
   {
    "duration": 332,
    "start_time": "2021-11-26T11:12:13.405Z"
   },
   {
    "duration": 321,
    "start_time": "2021-11-26T11:12:19.406Z"
   },
   {
    "duration": 377,
    "start_time": "2021-11-26T11:16:13.327Z"
   },
   {
    "duration": 319,
    "start_time": "2021-11-26T11:16:26.614Z"
   },
   {
    "duration": 6,
    "start_time": "2021-11-26T11:18:33.698Z"
   },
   {
    "duration": 7,
    "start_time": "2021-11-26T11:18:45.257Z"
   },
   {
    "duration": 316,
    "start_time": "2021-11-26T11:20:27.485Z"
   },
   {
    "duration": 707,
    "start_time": "2021-11-26T11:30:30.145Z"
   },
   {
    "duration": 117,
    "start_time": "2021-11-26T11:30:51.643Z"
   },
   {
    "duration": 131,
    "start_time": "2021-11-26T11:31:06.463Z"
   },
   {
    "duration": 119,
    "start_time": "2021-11-26T11:31:24.911Z"
   },
   {
    "duration": 7,
    "start_time": "2021-11-26T11:32:34.831Z"
   },
   {
    "duration": 7,
    "start_time": "2021-11-26T11:32:39.170Z"
   },
   {
    "duration": 7,
    "start_time": "2021-11-26T11:32:57.025Z"
   },
   {
    "duration": 10,
    "start_time": "2021-11-26T11:34:17.311Z"
   },
   {
    "duration": 14,
    "start_time": "2021-11-26T11:34:33.532Z"
   },
   {
    "duration": 309,
    "start_time": "2021-11-26T11:36:14.324Z"
   },
   {
    "duration": 13,
    "start_time": "2021-11-26T11:42:22.563Z"
   },
   {
    "duration": 13,
    "start_time": "2021-11-26T11:43:22.839Z"
   },
   {
    "duration": 34,
    "start_time": "2021-11-26T11:43:41.272Z"
   },
   {
    "duration": 11,
    "start_time": "2021-11-26T11:44:29.211Z"
   },
   {
    "duration": 8,
    "start_time": "2021-11-26T11:46:41.471Z"
   },
   {
    "duration": 386,
    "start_time": "2021-11-26T11:46:45.471Z"
   },
   {
    "duration": 3,
    "start_time": "2021-11-26T11:47:13.971Z"
   },
   {
    "duration": 160,
    "start_time": "2021-11-26T11:47:13.981Z"
   },
   {
    "duration": 16,
    "start_time": "2021-11-26T11:47:14.143Z"
   },
   {
    "duration": 37,
    "start_time": "2021-11-26T11:47:14.162Z"
   },
   {
    "duration": 13,
    "start_time": "2021-11-26T11:47:14.202Z"
   },
   {
    "duration": 24,
    "start_time": "2021-11-26T11:47:14.217Z"
   },
   {
    "duration": 32,
    "start_time": "2021-11-26T11:47:14.243Z"
   },
   {
    "duration": 41,
    "start_time": "2021-11-26T11:47:14.277Z"
   },
   {
    "duration": 35,
    "start_time": "2021-11-26T11:47:14.320Z"
   },
   {
    "duration": 51,
    "start_time": "2021-11-26T11:47:14.359Z"
   },
   {
    "duration": 11,
    "start_time": "2021-11-26T11:47:14.414Z"
   },
   {
    "duration": 14,
    "start_time": "2021-11-26T11:47:14.427Z"
   },
   {
    "duration": 14,
    "start_time": "2021-11-26T11:47:14.443Z"
   },
   {
    "duration": 42,
    "start_time": "2021-11-26T11:47:14.460Z"
   },
   {
    "duration": 12,
    "start_time": "2021-11-26T11:47:14.504Z"
   },
   {
    "duration": 8,
    "start_time": "2021-11-26T11:47:14.519Z"
   },
   {
    "duration": 9,
    "start_time": "2021-11-26T11:47:14.530Z"
   },
   {
    "duration": 11,
    "start_time": "2021-11-26T11:47:14.542Z"
   },
   {
    "duration": 46,
    "start_time": "2021-11-26T11:47:14.555Z"
   },
   {
    "duration": 13,
    "start_time": "2021-11-26T11:47:14.603Z"
   },
   {
    "duration": 20,
    "start_time": "2021-11-26T11:47:14.618Z"
   },
   {
    "duration": 14,
    "start_time": "2021-11-26T11:47:14.640Z"
   },
   {
    "duration": 324,
    "start_time": "2021-11-26T11:47:14.656Z"
   },
   {
    "duration": 12,
    "start_time": "2021-11-26T11:47:14.982Z"
   },
   {
    "duration": 5,
    "start_time": "2021-11-26T11:47:15.001Z"
   },
   {
    "duration": 30,
    "start_time": "2021-11-26T11:47:15.008Z"
   },
   {
    "duration": 15,
    "start_time": "2021-11-26T11:47:15.041Z"
   },
   {
    "duration": 12,
    "start_time": "2021-11-26T11:47:15.062Z"
   },
   {
    "duration": 24,
    "start_time": "2021-11-26T11:47:15.077Z"
   },
   {
    "duration": 343,
    "start_time": "2021-11-26T11:47:15.104Z"
   },
   {
    "duration": 7,
    "start_time": "2021-11-26T11:47:15.450Z"
   },
   {
    "duration": 15,
    "start_time": "2021-11-26T11:47:15.460Z"
   },
   {
    "duration": 33,
    "start_time": "2021-11-26T11:47:15.477Z"
   },
   {
    "duration": 9,
    "start_time": "2021-11-26T11:47:20.131Z"
   },
   {
    "duration": 312,
    "start_time": "2021-11-26T11:47:22.752Z"
   },
   {
    "duration": 15,
    "start_time": "2021-11-26T11:48:00.438Z"
   },
   {
    "duration": 308,
    "start_time": "2021-11-26T11:48:24.022Z"
   },
   {
    "duration": 9,
    "start_time": "2021-11-26T11:48:44.050Z"
   },
   {
    "duration": 314,
    "start_time": "2021-11-26T11:48:48.842Z"
   },
   {
    "duration": 3,
    "start_time": "2021-11-26T11:49:09.304Z"
   },
   {
    "duration": 146,
    "start_time": "2021-11-26T11:49:09.311Z"
   },
   {
    "duration": 15,
    "start_time": "2021-11-26T11:49:09.461Z"
   },
   {
    "duration": 26,
    "start_time": "2021-11-26T11:49:09.479Z"
   },
   {
    "duration": 14,
    "start_time": "2021-11-26T11:49:09.507Z"
   },
   {
    "duration": 16,
    "start_time": "2021-11-26T11:49:09.524Z"
   },
   {
    "duration": 32,
    "start_time": "2021-11-26T11:49:09.543Z"
   },
   {
    "duration": 43,
    "start_time": "2021-11-26T11:49:09.578Z"
   },
   {
    "duration": 62,
    "start_time": "2021-11-26T11:49:09.626Z"
   },
   {
    "duration": 42,
    "start_time": "2021-11-26T11:49:09.701Z"
   },
   {
    "duration": 12,
    "start_time": "2021-11-26T11:49:09.746Z"
   },
   {
    "duration": 17,
    "start_time": "2021-11-26T11:49:09.760Z"
   },
   {
    "duration": 10,
    "start_time": "2021-11-26T11:49:09.799Z"
   },
   {
    "duration": 14,
    "start_time": "2021-11-26T11:49:09.811Z"
   },
   {
    "duration": 15,
    "start_time": "2021-11-26T11:49:09.827Z"
   },
   {
    "duration": 8,
    "start_time": "2021-11-26T11:49:09.845Z"
   },
   {
    "duration": 51,
    "start_time": "2021-11-26T11:49:09.855Z"
   },
   {
    "duration": 14,
    "start_time": "2021-11-26T11:49:09.909Z"
   },
   {
    "duration": 9,
    "start_time": "2021-11-26T11:49:09.926Z"
   },
   {
    "duration": 12,
    "start_time": "2021-11-26T11:49:09.938Z"
   },
   {
    "duration": 20,
    "start_time": "2021-11-26T11:49:09.953Z"
   },
   {
    "duration": 14,
    "start_time": "2021-11-26T11:49:10.001Z"
   },
   {
    "duration": 320,
    "start_time": "2021-11-26T11:49:10.018Z"
   },
   {
    "duration": 14,
    "start_time": "2021-11-26T11:49:10.343Z"
   },
   {
    "duration": 9,
    "start_time": "2021-11-26T11:49:10.359Z"
   },
   {
    "duration": 13,
    "start_time": "2021-11-26T11:49:10.371Z"
   },
   {
    "duration": 10,
    "start_time": "2021-11-26T11:49:10.403Z"
   },
   {
    "duration": 15,
    "start_time": "2021-11-26T11:49:10.417Z"
   },
   {
    "duration": 8,
    "start_time": "2021-11-26T11:49:10.435Z"
   },
   {
    "duration": 450,
    "start_time": "2021-11-26T11:49:10.446Z"
   },
   {
    "duration": 7,
    "start_time": "2021-11-26T11:49:10.900Z"
   },
   {
    "duration": 30,
    "start_time": "2021-11-26T11:49:10.910Z"
   },
   {
    "duration": 22,
    "start_time": "2021-11-26T11:49:10.943Z"
   },
   {
    "duration": 9,
    "start_time": "2021-11-26T11:49:12.930Z"
   },
   {
    "duration": 314,
    "start_time": "2021-11-26T11:49:18.333Z"
   },
   {
    "duration": 4,
    "start_time": "2021-11-26T11:56:00.331Z"
   },
   {
    "duration": 141,
    "start_time": "2021-11-26T11:56:00.338Z"
   },
   {
    "duration": 15,
    "start_time": "2021-11-26T11:56:00.483Z"
   },
   {
    "duration": 34,
    "start_time": "2021-11-26T11:56:00.501Z"
   },
   {
    "duration": 32,
    "start_time": "2021-11-26T11:56:00.538Z"
   },
   {
    "duration": 40,
    "start_time": "2021-11-26T11:56:00.573Z"
   },
   {
    "duration": 49,
    "start_time": "2021-11-26T11:56:00.616Z"
   },
   {
    "duration": 21,
    "start_time": "2021-11-26T11:56:00.668Z"
   },
   {
    "duration": 68,
    "start_time": "2021-11-26T11:56:00.694Z"
   },
   {
    "duration": 27,
    "start_time": "2021-11-26T11:56:00.766Z"
   },
   {
    "duration": 17,
    "start_time": "2021-11-26T11:56:00.796Z"
   },
   {
    "duration": 35,
    "start_time": "2021-11-26T11:56:00.816Z"
   },
   {
    "duration": 27,
    "start_time": "2021-11-26T11:56:00.854Z"
   },
   {
    "duration": 30,
    "start_time": "2021-11-26T11:56:00.883Z"
   },
   {
    "duration": 22,
    "start_time": "2021-11-26T11:56:00.916Z"
   },
   {
    "duration": 47,
    "start_time": "2021-11-26T11:56:00.940Z"
   },
   {
    "duration": 33,
    "start_time": "2021-11-26T11:56:00.989Z"
   },
   {
    "duration": 29,
    "start_time": "2021-11-26T11:56:01.024Z"
   },
   {
    "duration": 45,
    "start_time": "2021-11-26T11:56:01.056Z"
   },
   {
    "duration": 27,
    "start_time": "2021-11-26T11:56:01.104Z"
   },
   {
    "duration": 30,
    "start_time": "2021-11-26T11:56:01.134Z"
   },
   {
    "duration": 49,
    "start_time": "2021-11-26T11:56:01.167Z"
   },
   {
    "duration": 337,
    "start_time": "2021-11-26T11:56:01.219Z"
   },
   {
    "duration": 13,
    "start_time": "2021-11-26T11:56:01.558Z"
   },
   {
    "duration": 69,
    "start_time": "2021-11-26T11:56:01.574Z"
   },
   {
    "duration": 59,
    "start_time": "2021-11-26T11:56:01.646Z"
   },
   {
    "duration": 50,
    "start_time": "2021-11-26T11:56:01.710Z"
   },
   {
    "duration": 54,
    "start_time": "2021-11-26T11:56:01.763Z"
   },
   {
    "duration": 125,
    "start_time": "2021-11-26T11:56:01.820Z"
   },
   {
    "duration": 380,
    "start_time": "2021-11-26T11:56:01.948Z"
   },
   {
    "duration": 5,
    "start_time": "2021-11-26T11:56:02.331Z"
   },
   {
    "duration": 54,
    "start_time": "2021-11-26T11:56:02.338Z"
   },
   {
    "duration": 331,
    "start_time": "2021-11-26T11:56:11.840Z"
   },
   {
    "duration": 10,
    "start_time": "2021-11-26T11:58:33.692Z"
   },
   {
    "duration": 308,
    "start_time": "2021-11-26T11:58:39.222Z"
   },
   {
    "duration": 628,
    "start_time": "2021-11-26T12:05:37.770Z"
   },
   {
    "duration": 472,
    "start_time": "2021-11-26T12:06:07.650Z"
   },
   {
    "duration": 56,
    "start_time": "2021-11-26T12:06:29.670Z"
   },
   {
    "duration": 433,
    "start_time": "2021-11-26T12:06:42.691Z"
   },
   {
    "duration": 469,
    "start_time": "2021-11-26T12:06:46.687Z"
   },
   {
    "duration": 407,
    "start_time": "2021-11-26T12:06:54.831Z"
   },
   {
    "duration": 419,
    "start_time": "2021-11-26T12:12:23.830Z"
   },
   {
    "duration": 426,
    "start_time": "2021-11-26T12:12:27.966Z"
   },
   {
    "duration": 426,
    "start_time": "2021-11-26T12:16:16.316Z"
   },
   {
    "duration": 414,
    "start_time": "2021-11-26T12:16:53.536Z"
   },
   {
    "duration": 403,
    "start_time": "2021-11-26T12:16:59.928Z"
   },
   {
    "duration": 58,
    "start_time": "2021-11-26T12:17:05.068Z"
   },
   {
    "duration": 438,
    "start_time": "2021-11-26T12:17:56.386Z"
   },
   {
    "duration": 407,
    "start_time": "2021-11-26T12:21:58.748Z"
   },
   {
    "duration": 119,
    "start_time": "2021-11-26T12:22:09.117Z"
   },
   {
    "duration": 50,
    "start_time": "2021-11-26T12:24:17.148Z"
   },
   {
    "duration": 4,
    "start_time": "2021-11-26T12:26:04.789Z"
   },
   {
    "duration": 124,
    "start_time": "2021-11-26T12:26:04.795Z"
   },
   {
    "duration": 17,
    "start_time": "2021-11-26T12:26:04.923Z"
   },
   {
    "duration": 26,
    "start_time": "2021-11-26T12:26:04.943Z"
   },
   {
    "duration": 10,
    "start_time": "2021-11-26T12:26:04.972Z"
   },
   {
    "duration": 28,
    "start_time": "2021-11-26T12:26:04.984Z"
   },
   {
    "duration": 31,
    "start_time": "2021-11-26T12:26:05.211Z"
   },
   {
    "duration": 22,
    "start_time": "2021-11-26T12:26:05.244Z"
   },
   {
    "duration": 62,
    "start_time": "2021-11-26T12:26:05.268Z"
   },
   {
    "duration": 28,
    "start_time": "2021-11-26T12:26:05.333Z"
   },
   {
    "duration": 23,
    "start_time": "2021-11-26T12:26:05.363Z"
   },
   {
    "duration": 11,
    "start_time": "2021-11-26T12:26:05.401Z"
   },
   {
    "duration": 16,
    "start_time": "2021-11-26T12:26:05.415Z"
   },
   {
    "duration": 10,
    "start_time": "2021-11-26T12:26:05.433Z"
   },
   {
    "duration": 19,
    "start_time": "2021-11-26T12:26:05.446Z"
   },
   {
    "duration": 40,
    "start_time": "2021-11-26T12:26:05.467Z"
   },
   {
    "duration": 14,
    "start_time": "2021-11-26T12:26:05.509Z"
   },
   {
    "duration": 12,
    "start_time": "2021-11-26T12:26:05.637Z"
   },
   {
    "duration": 16,
    "start_time": "2021-11-26T12:26:05.652Z"
   },
   {
    "duration": 18,
    "start_time": "2021-11-26T12:26:05.671Z"
   },
   {
    "duration": 28,
    "start_time": "2021-11-26T12:26:05.692Z"
   },
   {
    "duration": 12,
    "start_time": "2021-11-26T12:26:05.722Z"
   },
   {
    "duration": 334,
    "start_time": "2021-11-26T12:26:05.736Z"
   },
   {
    "duration": 27,
    "start_time": "2021-11-26T12:26:06.073Z"
   },
   {
    "duration": 9,
    "start_time": "2021-11-26T12:26:06.104Z"
   },
   {
    "duration": 12,
    "start_time": "2021-11-26T12:26:06.117Z"
   },
   {
    "duration": 12,
    "start_time": "2021-11-26T12:26:06.132Z"
   },
   {
    "duration": 13,
    "start_time": "2021-11-26T12:26:06.146Z"
   },
   {
    "duration": 13,
    "start_time": "2021-11-26T12:26:06.161Z"
   },
   {
    "duration": 357,
    "start_time": "2021-11-26T12:26:06.177Z"
   },
   {
    "duration": 6,
    "start_time": "2021-11-26T12:26:06.536Z"
   },
   {
    "duration": 11,
    "start_time": "2021-11-26T12:26:14.689Z"
   },
   {
    "duration": 949,
    "start_time": "2021-11-26T12:27:07.712Z"
   },
   {
    "duration": 118,
    "start_time": "2021-11-26T12:27:08.664Z"
   },
   {
    "duration": 42,
    "start_time": "2021-11-26T12:27:08.785Z"
   },
   {
    "duration": 30,
    "start_time": "2021-11-26T12:27:08.830Z"
   },
   {
    "duration": 8,
    "start_time": "2021-11-26T12:27:08.862Z"
   },
   {
    "duration": 33,
    "start_time": "2021-11-26T12:27:08.872Z"
   },
   {
    "duration": 38,
    "start_time": "2021-11-26T12:27:08.908Z"
   },
   {
    "duration": 22,
    "start_time": "2021-11-26T12:27:08.949Z"
   },
   {
    "duration": 40,
    "start_time": "2021-11-26T12:27:08.999Z"
   },
   {
    "duration": 27,
    "start_time": "2021-11-26T12:27:09.042Z"
   },
   {
    "duration": 40,
    "start_time": "2021-11-26T12:27:09.071Z"
   },
   {
    "duration": 12,
    "start_time": "2021-11-26T12:27:09.114Z"
   },
   {
    "duration": 12,
    "start_time": "2021-11-26T12:27:09.129Z"
   },
   {
    "duration": 12,
    "start_time": "2021-11-26T12:27:09.144Z"
   },
   {
    "duration": 46,
    "start_time": "2021-11-26T12:27:09.159Z"
   },
   {
    "duration": 12,
    "start_time": "2021-11-26T12:27:09.208Z"
   },
   {
    "duration": 14,
    "start_time": "2021-11-26T12:27:09.222Z"
   },
   {
    "duration": 11,
    "start_time": "2021-11-26T12:27:09.239Z"
   },
   {
    "duration": 10,
    "start_time": "2021-11-26T12:27:09.252Z"
   },
   {
    "duration": 42,
    "start_time": "2021-11-26T12:27:09.264Z"
   },
   {
    "duration": 20,
    "start_time": "2021-11-26T12:27:09.311Z"
   },
   {
    "duration": 16,
    "start_time": "2021-11-26T12:27:09.333Z"
   },
   {
    "duration": 361,
    "start_time": "2021-11-26T12:27:09.352Z"
   },
   {
    "duration": 17,
    "start_time": "2021-11-26T12:27:09.716Z"
   },
   {
    "duration": 5,
    "start_time": "2021-11-26T12:27:09.735Z"
   },
   {
    "duration": 7,
    "start_time": "2021-11-26T12:27:09.743Z"
   },
   {
    "duration": 44,
    "start_time": "2021-11-26T12:27:09.757Z"
   },
   {
    "duration": 14,
    "start_time": "2021-11-26T12:27:09.804Z"
   },
   {
    "duration": 10,
    "start_time": "2021-11-26T12:27:09.821Z"
   },
   {
    "duration": 358,
    "start_time": "2021-11-26T12:27:09.833Z"
   },
   {
    "duration": 9,
    "start_time": "2021-11-26T12:27:10.201Z"
   },
   {
    "duration": 10,
    "start_time": "2021-11-26T12:27:19.627Z"
   },
   {
    "duration": 15,
    "start_time": "2021-11-26T12:27:37.582Z"
   },
   {
    "duration": 350,
    "start_time": "2021-11-26T12:29:37.185Z"
   },
   {
    "duration": 11,
    "start_time": "2021-11-26T12:29:41.813Z"
   },
   {
    "duration": 320,
    "start_time": "2021-11-26T12:29:43.065Z"
   },
   {
    "duration": 47,
    "start_time": "2021-11-26T12:29:49.541Z"
   },
   {
    "duration": 441,
    "start_time": "2021-11-26T12:32:47.592Z"
   },
   {
    "duration": 318,
    "start_time": "2021-11-26T12:32:48.192Z"
   },
   {
    "duration": 4,
    "start_time": "2021-11-26T12:33:29.954Z"
   },
   {
    "duration": 134,
    "start_time": "2021-11-26T12:33:29.960Z"
   },
   {
    "duration": 22,
    "start_time": "2021-11-26T12:33:30.097Z"
   },
   {
    "duration": 27,
    "start_time": "2021-11-26T12:33:30.122Z"
   },
   {
    "duration": 14,
    "start_time": "2021-11-26T12:33:30.151Z"
   },
   {
    "duration": 42,
    "start_time": "2021-11-26T12:33:30.168Z"
   },
   {
    "duration": 37,
    "start_time": "2021-11-26T12:33:30.213Z"
   },
   {
    "duration": 29,
    "start_time": "2021-11-26T12:33:30.253Z"
   },
   {
    "duration": 58,
    "start_time": "2021-11-26T12:33:30.286Z"
   },
   {
    "duration": 28,
    "start_time": "2021-11-26T12:33:30.349Z"
   },
   {
    "duration": 32,
    "start_time": "2021-11-26T12:33:30.380Z"
   },
   {
    "duration": 34,
    "start_time": "2021-11-26T12:33:30.414Z"
   },
   {
    "duration": 37,
    "start_time": "2021-11-26T12:33:30.451Z"
   },
   {
    "duration": 30,
    "start_time": "2021-11-26T12:33:30.490Z"
   },
   {
    "duration": 19,
    "start_time": "2021-11-26T12:33:30.526Z"
   },
   {
    "duration": 21,
    "start_time": "2021-11-26T12:33:30.547Z"
   },
   {
    "duration": 22,
    "start_time": "2021-11-26T12:33:30.571Z"
   },
   {
    "duration": 16,
    "start_time": "2021-11-26T12:33:30.596Z"
   },
   {
    "duration": 8,
    "start_time": "2021-11-26T12:33:30.615Z"
   },
   {
    "duration": 23,
    "start_time": "2021-11-26T12:33:30.626Z"
   },
   {
    "duration": 27,
    "start_time": "2021-11-26T12:33:30.652Z"
   },
   {
    "duration": 25,
    "start_time": "2021-11-26T12:33:30.682Z"
   },
   {
    "duration": 327,
    "start_time": "2021-11-26T12:33:30.710Z"
   },
   {
    "duration": 12,
    "start_time": "2021-11-26T12:33:31.039Z"
   },
   {
    "duration": 19,
    "start_time": "2021-11-26T12:33:31.054Z"
   },
   {
    "duration": 17,
    "start_time": "2021-11-26T12:33:31.076Z"
   },
   {
    "duration": 21,
    "start_time": "2021-11-26T12:33:31.097Z"
   },
   {
    "duration": 27,
    "start_time": "2021-11-26T12:33:31.121Z"
   },
   {
    "duration": 9,
    "start_time": "2021-11-26T12:33:31.151Z"
   },
   {
    "duration": 331,
    "start_time": "2021-11-26T12:33:31.162Z"
   },
   {
    "duration": 11,
    "start_time": "2021-11-26T12:33:31.495Z"
   },
   {
    "duration": 36,
    "start_time": "2021-11-26T12:33:31.510Z"
   },
   {
    "duration": 365,
    "start_time": "2021-11-26T12:33:31.548Z"
   },
   {
    "duration": 9,
    "start_time": "2021-11-26T12:33:35.725Z"
   },
   {
    "duration": 339,
    "start_time": "2021-11-26T12:33:36.412Z"
   },
   {
    "duration": 4,
    "start_time": "2021-11-26T12:34:06.264Z"
   },
   {
    "duration": 131,
    "start_time": "2021-11-26T12:34:06.281Z"
   },
   {
    "duration": 16,
    "start_time": "2021-11-26T12:34:06.415Z"
   },
   {
    "duration": 33,
    "start_time": "2021-11-26T12:34:06.435Z"
   },
   {
    "duration": 32,
    "start_time": "2021-11-26T12:34:06.472Z"
   },
   {
    "duration": 20,
    "start_time": "2021-11-26T12:34:06.507Z"
   },
   {
    "duration": 44,
    "start_time": "2021-11-26T12:34:06.529Z"
   },
   {
    "duration": 38,
    "start_time": "2021-11-26T12:34:06.576Z"
   },
   {
    "duration": 35,
    "start_time": "2021-11-26T12:34:06.616Z"
   },
   {
    "duration": 53,
    "start_time": "2021-11-26T12:34:06.655Z"
   },
   {
    "duration": 11,
    "start_time": "2021-11-26T12:34:06.713Z"
   },
   {
    "duration": 16,
    "start_time": "2021-11-26T12:34:06.727Z"
   },
   {
    "duration": 20,
    "start_time": "2021-11-26T12:34:06.745Z"
   },
   {
    "duration": 15,
    "start_time": "2021-11-26T12:34:06.767Z"
   },
   {
    "duration": 14,
    "start_time": "2021-11-26T12:34:06.802Z"
   },
   {
    "duration": 14,
    "start_time": "2021-11-26T12:34:06.820Z"
   },
   {
    "duration": 17,
    "start_time": "2021-11-26T12:34:06.837Z"
   },
   {
    "duration": 46,
    "start_time": "2021-11-26T12:34:06.857Z"
   },
   {
    "duration": 11,
    "start_time": "2021-11-26T12:34:06.906Z"
   },
   {
    "duration": 18,
    "start_time": "2021-11-26T12:34:06.920Z"
   },
   {
    "duration": 28,
    "start_time": "2021-11-26T12:34:06.940Z"
   },
   {
    "duration": 38,
    "start_time": "2021-11-26T12:34:06.971Z"
   },
   {
    "duration": 316,
    "start_time": "2021-11-26T12:34:07.013Z"
   },
   {
    "duration": 15,
    "start_time": "2021-11-26T12:34:07.332Z"
   },
   {
    "duration": 7,
    "start_time": "2021-11-26T12:34:07.350Z"
   },
   {
    "duration": 15,
    "start_time": "2021-11-26T12:34:07.359Z"
   },
   {
    "duration": 42,
    "start_time": "2021-11-26T12:34:07.376Z"
   },
   {
    "duration": 18,
    "start_time": "2021-11-26T12:34:07.422Z"
   },
   {
    "duration": 15,
    "start_time": "2021-11-26T12:34:07.443Z"
   },
   {
    "duration": 349,
    "start_time": "2021-11-26T12:34:07.460Z"
   },
   {
    "duration": 6,
    "start_time": "2021-11-26T12:34:07.813Z"
   },
   {
    "duration": 25,
    "start_time": "2021-11-26T12:34:07.821Z"
   },
   {
    "duration": 336,
    "start_time": "2021-11-26T12:34:07.848Z"
   },
   {
    "duration": 22,
    "start_time": "2021-11-26T12:34:08.187Z"
   },
   {
    "duration": 325,
    "start_time": "2021-11-26T12:34:08.212Z"
   },
   {
    "duration": 47,
    "start_time": "2021-11-26T12:34:08.539Z"
   },
   {
    "duration": 362,
    "start_time": "2021-11-26T12:34:08.601Z"
   },
   {
    "duration": 349,
    "start_time": "2021-11-26T12:34:08.965Z"
   },
   {
    "duration": 332,
    "start_time": "2021-11-26T12:35:09.913Z"
   },
   {
    "duration": 386,
    "start_time": "2021-11-26T12:35:36.993Z"
   },
   {
    "duration": 339,
    "start_time": "2021-11-26T12:35:39.284Z"
   },
   {
    "duration": 924,
    "start_time": "2021-11-29T07:21:14.414Z"
   },
   {
    "duration": 163,
    "start_time": "2021-11-29T07:21:15.340Z"
   },
   {
    "duration": 16,
    "start_time": "2021-11-29T07:21:15.506Z"
   },
   {
    "duration": 33,
    "start_time": "2021-11-29T07:21:15.525Z"
   },
   {
    "duration": 8,
    "start_time": "2021-11-29T07:21:15.560Z"
   },
   {
    "duration": 37,
    "start_time": "2021-11-29T07:21:15.570Z"
   },
   {
    "duration": 31,
    "start_time": "2021-11-29T07:21:15.609Z"
   },
   {
    "duration": 20,
    "start_time": "2021-11-29T07:21:15.642Z"
   },
   {
    "duration": 67,
    "start_time": "2021-11-29T07:21:15.666Z"
   },
   {
    "duration": 26,
    "start_time": "2021-11-29T07:21:15.736Z"
   },
   {
    "duration": 38,
    "start_time": "2021-11-29T07:21:15.764Z"
   },
   {
    "duration": 9,
    "start_time": "2021-11-29T07:21:15.804Z"
   },
   {
    "duration": 13,
    "start_time": "2021-11-29T07:21:15.815Z"
   },
   {
    "duration": 8,
    "start_time": "2021-11-29T07:21:15.831Z"
   },
   {
    "duration": 9,
    "start_time": "2021-11-29T07:21:15.842Z"
   },
   {
    "duration": 49,
    "start_time": "2021-11-29T07:21:15.853Z"
   },
   {
    "duration": 11,
    "start_time": "2021-11-29T07:21:15.904Z"
   },
   {
    "duration": 11,
    "start_time": "2021-11-29T07:21:15.917Z"
   },
   {
    "duration": 5,
    "start_time": "2021-11-29T07:21:15.930Z"
   },
   {
    "duration": 66,
    "start_time": "2021-11-29T07:21:15.938Z"
   },
   {
    "duration": 19,
    "start_time": "2021-11-29T07:21:16.007Z"
   },
   {
    "duration": 13,
    "start_time": "2021-11-29T07:21:16.029Z"
   },
   {
    "duration": 312,
    "start_time": "2021-11-29T07:21:16.045Z"
   },
   {
    "duration": 16,
    "start_time": "2021-11-29T07:21:16.359Z"
   },
   {
    "duration": 5,
    "start_time": "2021-11-29T07:21:16.378Z"
   },
   {
    "duration": 6,
    "start_time": "2021-11-29T07:21:16.399Z"
   },
   {
    "duration": 9,
    "start_time": "2021-11-29T07:21:16.410Z"
   },
   {
    "duration": 10,
    "start_time": "2021-11-29T07:21:16.421Z"
   },
   {
    "duration": 6,
    "start_time": "2021-11-29T07:21:16.434Z"
   },
   {
    "duration": 348,
    "start_time": "2021-11-29T07:21:16.443Z"
   },
   {
    "duration": 10,
    "start_time": "2021-11-29T07:21:16.793Z"
   },
   {
    "duration": 12,
    "start_time": "2021-11-29T07:21:16.805Z"
   },
   {
    "duration": 333,
    "start_time": "2021-11-29T07:21:16.819Z"
   },
   {
    "duration": 10,
    "start_time": "2021-11-29T07:22:10.532Z"
   },
   {
    "duration": 10,
    "start_time": "2021-11-29T07:22:22.024Z"
   },
   {
    "duration": 302,
    "start_time": "2021-11-29T07:22:27.224Z"
   },
   {
    "duration": 43,
    "start_time": "2021-11-29T07:26:13.788Z"
   },
   {
    "duration": 370,
    "start_time": "2021-11-29T07:26:15.132Z"
   },
   {
    "duration": 321,
    "start_time": "2021-11-29T07:26:22.796Z"
   },
   {
    "duration": 285,
    "start_time": "2021-11-29T07:43:37.061Z"
   },
   {
    "duration": 289,
    "start_time": "2021-11-29T07:44:33.660Z"
   },
   {
    "duration": 303,
    "start_time": "2021-11-29T07:57:51.660Z"
   },
   {
    "duration": 309,
    "start_time": "2021-11-29T07:58:06.141Z"
   },
   {
    "duration": 316,
    "start_time": "2021-11-29T07:58:15.461Z"
   },
   {
    "duration": 312,
    "start_time": "2021-11-29T07:58:52.237Z"
   },
   {
    "duration": 334,
    "start_time": "2021-11-29T08:02:23.414Z"
   },
   {
    "duration": 306,
    "start_time": "2021-11-29T08:02:33.674Z"
   },
   {
    "duration": 304,
    "start_time": "2021-11-29T08:03:21.962Z"
   },
   {
    "duration": 356,
    "start_time": "2021-11-29T08:05:56.544Z"
   },
   {
    "duration": 516,
    "start_time": "2021-11-29T08:13:56.622Z"
   },
   {
    "duration": 133,
    "start_time": "2021-11-29T08:14:23.802Z"
   },
   {
    "duration": 5730,
    "start_time": "2021-11-29T08:14:32.231Z"
   },
   {
    "duration": 877,
    "start_time": "2021-11-29T08:15:24.864Z"
   },
   {
    "duration": -158,
    "start_time": "2021-11-29T08:17:00.237Z"
   },
   {
    "duration": 8,
    "start_time": "2021-11-29T08:17:04.382Z"
   },
   {
    "duration": 8,
    "start_time": "2021-11-29T08:17:19.770Z"
   },
   {
    "duration": 1651,
    "start_time": "2021-11-29T08:19:31.400Z"
   },
   {
    "duration": 366,
    "start_time": "2021-11-29T08:19:45.640Z"
   },
   {
    "duration": 380,
    "start_time": "2021-11-29T08:22:07.940Z"
   },
   {
    "duration": 362,
    "start_time": "2021-11-29T08:22:25.762Z"
   },
   {
    "duration": 394,
    "start_time": "2021-11-29T08:22:33.306Z"
   },
   {
    "duration": 434,
    "start_time": "2021-11-29T08:22:43.654Z"
   },
   {
    "duration": 1511,
    "start_time": "2021-11-29T08:23:31.835Z"
   },
   {
    "duration": 562,
    "start_time": "2021-11-29T08:23:53.195Z"
   },
   {
    "duration": 904,
    "start_time": "2021-11-29T08:24:15.046Z"
   },
   {
    "duration": 561,
    "start_time": "2021-11-29T08:24:41.355Z"
   },
   {
    "duration": 560,
    "start_time": "2021-11-29T08:24:55.074Z"
   },
   {
    "duration": 479,
    "start_time": "2021-11-29T08:25:07.407Z"
   },
   {
    "duration": 493,
    "start_time": "2021-11-29T08:25:19.442Z"
   },
   {
    "duration": 508,
    "start_time": "2021-11-29T08:25:53.667Z"
   },
   {
    "duration": 523,
    "start_time": "2021-11-29T08:26:40.756Z"
   },
   {
    "duration": 504,
    "start_time": "2021-11-29T09:49:21.897Z"
   },
   {
    "duration": 916,
    "start_time": "2021-11-29T09:49:36.799Z"
   },
   {
    "duration": 126,
    "start_time": "2021-11-29T09:49:37.717Z"
   },
   {
    "duration": 15,
    "start_time": "2021-11-29T09:49:37.846Z"
   },
   {
    "duration": 31,
    "start_time": "2021-11-29T09:49:37.864Z"
   },
   {
    "duration": 7,
    "start_time": "2021-11-29T09:49:37.898Z"
   },
   {
    "duration": 12,
    "start_time": "2021-11-29T09:49:37.908Z"
   },
   {
    "duration": 59,
    "start_time": "2021-11-29T09:49:37.924Z"
   },
   {
    "duration": 21,
    "start_time": "2021-11-29T09:49:37.986Z"
   },
   {
    "duration": 61,
    "start_time": "2021-11-29T09:49:38.011Z"
   },
   {
    "duration": 25,
    "start_time": "2021-11-29T09:49:38.075Z"
   },
   {
    "duration": 9,
    "start_time": "2021-11-29T09:49:38.103Z"
   },
   {
    "duration": 46,
    "start_time": "2021-11-29T09:49:38.114Z"
   },
   {
    "duration": 10,
    "start_time": "2021-11-29T09:49:38.162Z"
   },
   {
    "duration": 12,
    "start_time": "2021-11-29T09:49:38.174Z"
   },
   {
    "duration": 11,
    "start_time": "2021-11-29T09:49:38.189Z"
   },
   {
    "duration": 8,
    "start_time": "2021-11-29T09:49:38.203Z"
   },
   {
    "duration": 53,
    "start_time": "2021-11-29T09:49:38.213Z"
   },
   {
    "duration": 12,
    "start_time": "2021-11-29T09:49:38.269Z"
   },
   {
    "duration": 5,
    "start_time": "2021-11-29T09:49:38.283Z"
   },
   {
    "duration": 10,
    "start_time": "2021-11-29T09:49:38.291Z"
   },
   {
    "duration": 59,
    "start_time": "2021-11-29T09:49:38.303Z"
   },
   {
    "duration": 14,
    "start_time": "2021-11-29T09:49:38.365Z"
   },
   {
    "duration": 395,
    "start_time": "2021-11-29T09:49:38.381Z"
   },
   {
    "duration": 16,
    "start_time": "2021-11-29T09:49:38.779Z"
   },
   {
    "duration": 7,
    "start_time": "2021-11-29T09:49:38.797Z"
   },
   {
    "duration": 8,
    "start_time": "2021-11-29T09:49:38.807Z"
   },
   {
    "duration": 41,
    "start_time": "2021-11-29T09:49:38.822Z"
   },
   {
    "duration": 21,
    "start_time": "2021-11-29T09:49:38.866Z"
   },
   {
    "duration": 6,
    "start_time": "2021-11-29T09:49:38.890Z"
   },
   {
    "duration": 328,
    "start_time": "2021-11-29T09:49:38.899Z"
   },
   {
    "duration": 6,
    "start_time": "2021-11-29T09:49:39.229Z"
   },
   {
    "duration": 27,
    "start_time": "2021-11-29T09:49:39.237Z"
   },
   {
    "duration": 309,
    "start_time": "2021-11-29T09:49:39.266Z"
   },
   {
    "duration": 8,
    "start_time": "2021-11-29T09:49:39.577Z"
   },
   {
    "duration": 316,
    "start_time": "2021-11-29T09:49:39.587Z"
   },
   {
    "duration": 31,
    "start_time": "2021-11-29T09:49:39.905Z"
   },
   {
    "duration": 366,
    "start_time": "2021-11-29T09:49:39.939Z"
   },
   {
    "duration": 331,
    "start_time": "2021-11-29T09:49:40.307Z"
   },
   {
    "duration": 1207,
    "start_time": "2021-11-29T09:49:43.817Z"
   },
   {
    "duration": 9618,
    "start_time": "2021-11-29T09:51:46.457Z"
   },
   {
    "duration": 1162,
    "start_time": "2021-11-29T09:51:57.017Z"
   },
   {
    "duration": 301,
    "start_time": "2021-11-29T09:55:10.635Z"
   },
   {
    "duration": 533,
    "start_time": "2021-11-29T09:59:03.995Z"
   },
   {
    "duration": 558,
    "start_time": "2021-11-29T10:01:41.496Z"
   },
   {
    "duration": 398,
    "start_time": "2021-11-29T10:15:42.149Z"
   },
   {
    "duration": 344,
    "start_time": "2021-11-29T10:15:58.949Z"
   },
   {
    "duration": 304,
    "start_time": "2021-11-29T10:16:17.980Z"
   },
   {
    "duration": 324,
    "start_time": "2021-11-29T10:17:36.490Z"
   },
   {
    "duration": 10,
    "start_time": "2021-11-29T10:20:05.618Z"
   },
   {
    "duration": 9,
    "start_time": "2021-11-29T10:28:42.109Z"
   },
   {
    "duration": 12,
    "start_time": "2021-11-29T10:28:53.261Z"
   },
   {
    "duration": 423,
    "start_time": "2021-11-29T10:40:05.138Z"
   },
   {
    "duration": 378,
    "start_time": "2021-11-29T10:40:13.861Z"
   },
   {
    "duration": 5,
    "start_time": "2021-11-29T10:40:24.872Z"
   },
   {
    "duration": 13,
    "start_time": "2021-11-29T10:48:19.195Z"
   },
   {
    "duration": 34,
    "start_time": "2021-11-29T10:49:21.022Z"
   },
   {
    "duration": 38,
    "start_time": "2021-11-29T10:51:05.782Z"
   },
   {
    "duration": 88,
    "start_time": "2021-11-29T10:53:55.950Z"
   },
   {
    "duration": 3,
    "start_time": "2021-11-29T10:56:57.874Z"
   },
   {
    "duration": 143,
    "start_time": "2021-11-29T10:56:57.880Z"
   },
   {
    "duration": 17,
    "start_time": "2021-11-29T10:56:58.026Z"
   },
   {
    "duration": 38,
    "start_time": "2021-11-29T10:56:58.046Z"
   },
   {
    "duration": 7,
    "start_time": "2021-11-29T10:56:58.087Z"
   },
   {
    "duration": 11,
    "start_time": "2021-11-29T10:56:58.096Z"
   },
   {
    "duration": 70,
    "start_time": "2021-11-29T10:56:58.110Z"
   },
   {
    "duration": 20,
    "start_time": "2021-11-29T10:56:58.183Z"
   },
   {
    "duration": 55,
    "start_time": "2021-11-29T10:56:58.207Z"
   },
   {
    "duration": 32,
    "start_time": "2021-11-29T10:56:58.266Z"
   },
   {
    "duration": 9,
    "start_time": "2021-11-29T10:56:58.300Z"
   },
   {
    "duration": 10,
    "start_time": "2021-11-29T10:56:58.311Z"
   },
   {
    "duration": 38,
    "start_time": "2021-11-29T10:56:58.323Z"
   },
   {
    "duration": 30,
    "start_time": "2021-11-29T10:56:58.364Z"
   },
   {
    "duration": 10,
    "start_time": "2021-11-29T10:56:58.397Z"
   },
   {
    "duration": 10,
    "start_time": "2021-11-29T10:56:58.409Z"
   },
   {
    "duration": 41,
    "start_time": "2021-11-29T10:56:58.421Z"
   },
   {
    "duration": 20,
    "start_time": "2021-11-29T10:56:58.466Z"
   },
   {
    "duration": 7,
    "start_time": "2021-11-29T10:56:58.489Z"
   },
   {
    "duration": 15,
    "start_time": "2021-11-29T10:56:58.499Z"
   },
   {
    "duration": 56,
    "start_time": "2021-11-29T10:56:58.517Z"
   },
   {
    "duration": 14,
    "start_time": "2021-11-29T10:56:58.576Z"
   },
   {
    "duration": 349,
    "start_time": "2021-11-29T10:56:58.592Z"
   },
   {
    "duration": 20,
    "start_time": "2021-11-29T10:56:58.943Z"
   },
   {
    "duration": 32,
    "start_time": "2021-11-29T10:56:58.966Z"
   },
   {
    "duration": 18,
    "start_time": "2021-11-29T10:56:59.001Z"
   },
   {
    "duration": 14,
    "start_time": "2021-11-29T10:56:59.026Z"
   },
   {
    "duration": 12,
    "start_time": "2021-11-29T10:56:59.043Z"
   },
   {
    "duration": 24,
    "start_time": "2021-11-29T10:56:59.057Z"
   },
   {
    "duration": 368,
    "start_time": "2021-11-29T10:56:59.086Z"
   },
   {
    "duration": 9,
    "start_time": "2021-11-29T10:56:59.457Z"
   },
   {
    "duration": 74,
    "start_time": "2021-11-29T10:56:59.469Z"
   },
   {
    "duration": 568,
    "start_time": "2021-11-29T10:56:59.552Z"
   },
   {
    "duration": 8,
    "start_time": "2021-11-29T10:57:00.122Z"
   },
   {
    "duration": 431,
    "start_time": "2021-11-29T10:57:00.132Z"
   },
   {
    "duration": 35,
    "start_time": "2021-11-29T10:57:00.566Z"
   },
   {
    "duration": 420,
    "start_time": "2021-11-29T10:57:00.603Z"
   },
   {
    "duration": 374,
    "start_time": "2021-11-29T10:57:01.027Z"
   },
   {
    "duration": 341,
    "start_time": "2021-11-29T10:57:01.403Z"
   },
   {
    "duration": 544,
    "start_time": "2021-11-29T10:57:01.747Z"
   },
   {
    "duration": 327,
    "start_time": "2021-11-29T10:57:02.293Z"
   },
   {
    "duration": 9,
    "start_time": "2021-11-29T10:57:02.622Z"
   },
   {
    "duration": 8,
    "start_time": "2021-11-29T10:57:03.822Z"
   },
   {
    "duration": 6,
    "start_time": "2021-11-29T10:57:04.407Z"
   },
   {
    "duration": 44,
    "start_time": "2021-11-29T10:57:05.043Z"
   },
   {
    "duration": 17,
    "start_time": "2021-11-29T10:57:40.771Z"
   },
   {
    "duration": 36,
    "start_time": "2021-11-29T10:58:40.782Z"
   },
   {
    "duration": 39,
    "start_time": "2021-11-29T11:00:37.042Z"
   },
   {
    "duration": 4,
    "start_time": "2021-11-29T11:02:51.454Z"
   },
   {
    "duration": 133,
    "start_time": "2021-11-29T11:02:51.461Z"
   },
   {
    "duration": 15,
    "start_time": "2021-11-29T11:02:51.597Z"
   },
   {
    "duration": 26,
    "start_time": "2021-11-29T11:02:51.615Z"
   },
   {
    "duration": 15,
    "start_time": "2021-11-29T11:02:51.644Z"
   },
   {
    "duration": 10,
    "start_time": "2021-11-29T11:02:51.662Z"
   },
   {
    "duration": 29,
    "start_time": "2021-11-29T11:02:51.675Z"
   },
   {
    "duration": 55,
    "start_time": "2021-11-29T11:02:51.706Z"
   },
   {
    "duration": 34,
    "start_time": "2021-11-29T11:02:51.765Z"
   },
   {
    "duration": 30,
    "start_time": "2021-11-29T11:02:51.803Z"
   },
   {
    "duration": 9,
    "start_time": "2021-11-29T11:02:51.860Z"
   },
   {
    "duration": 10,
    "start_time": "2021-11-29T11:02:51.871Z"
   },
   {
    "duration": 10,
    "start_time": "2021-11-29T11:02:51.884Z"
   },
   {
    "duration": 9,
    "start_time": "2021-11-29T11:02:51.896Z"
   },
   {
    "duration": 54,
    "start_time": "2021-11-29T11:02:51.908Z"
   },
   {
    "duration": 10,
    "start_time": "2021-11-29T11:02:51.964Z"
   },
   {
    "duration": 13,
    "start_time": "2021-11-29T11:02:51.976Z"
   },
   {
    "duration": 11,
    "start_time": "2021-11-29T11:02:51.992Z"
   },
   {
    "duration": 8,
    "start_time": "2021-11-29T11:02:52.005Z"
   },
   {
    "duration": 12,
    "start_time": "2021-11-29T11:02:52.015Z"
   },
   {
    "duration": 17,
    "start_time": "2021-11-29T11:02:52.059Z"
   },
   {
    "duration": 12,
    "start_time": "2021-11-29T11:02:52.079Z"
   },
   {
    "duration": 305,
    "start_time": "2021-11-29T11:02:52.093Z"
   },
   {
    "duration": 12,
    "start_time": "2021-11-29T11:02:52.400Z"
   },
   {
    "duration": 15,
    "start_time": "2021-11-29T11:02:52.415Z"
   },
   {
    "duration": 27,
    "start_time": "2021-11-29T11:02:52.432Z"
   },
   {
    "duration": 8,
    "start_time": "2021-11-29T11:02:52.465Z"
   },
   {
    "duration": 10,
    "start_time": "2021-11-29T11:02:52.476Z"
   },
   {
    "duration": 6,
    "start_time": "2021-11-29T11:02:52.488Z"
   },
   {
    "duration": 340,
    "start_time": "2021-11-29T11:02:52.496Z"
   },
   {
    "duration": 6,
    "start_time": "2021-11-29T11:02:52.839Z"
   },
   {
    "duration": 11,
    "start_time": "2021-11-29T11:02:52.859Z"
   },
   {
    "duration": 315,
    "start_time": "2021-11-29T11:02:52.873Z"
   },
   {
    "duration": 8,
    "start_time": "2021-11-29T11:02:53.191Z"
   },
   {
    "duration": 307,
    "start_time": "2021-11-29T11:02:53.201Z"
   },
   {
    "duration": 49,
    "start_time": "2021-11-29T11:02:53.511Z"
   },
   {
    "duration": 309,
    "start_time": "2021-11-29T11:02:53.562Z"
   },
   {
    "duration": 316,
    "start_time": "2021-11-29T11:02:53.874Z"
   },
   {
    "duration": 331,
    "start_time": "2021-11-29T11:02:54.192Z"
   },
   {
    "duration": 580,
    "start_time": "2021-11-29T11:02:54.525Z"
   },
   {
    "duration": 299,
    "start_time": "2021-11-29T11:02:55.107Z"
   },
   {
    "duration": 8,
    "start_time": "2021-11-29T11:02:55.408Z"
   },
   {
    "duration": 9,
    "start_time": "2021-11-29T11:02:55.418Z"
   },
   {
    "duration": 63,
    "start_time": "2021-11-29T11:02:55.429Z"
   },
   {
    "duration": 6,
    "start_time": "2021-11-29T11:05:11.661Z"
   },
   {
    "duration": 7,
    "start_time": "2021-11-29T11:05:27.022Z"
   },
   {
    "duration": 6,
    "start_time": "2021-11-29T11:05:31.202Z"
   },
   {
    "duration": 11,
    "start_time": "2021-11-29T11:13:45.382Z"
   },
   {
    "duration": 11,
    "start_time": "2021-11-29T11:15:35.863Z"
   },
   {
    "duration": 6,
    "start_time": "2021-11-29T11:15:50.290Z"
   },
   {
    "duration": 389,
    "start_time": "2021-11-29T11:25:49.694Z"
   },
   {
    "duration": 516,
    "start_time": "2021-11-29T11:25:55.002Z"
   },
   {
    "duration": 26,
    "start_time": "2021-11-29T11:26:28.642Z"
   },
   {
    "duration": 404,
    "start_time": "2021-11-29T11:27:00.682Z"
   },
   {
    "duration": 27,
    "start_time": "2021-11-29T11:27:38.471Z"
   },
   {
    "duration": 22,
    "start_time": "2021-11-29T11:29:37.094Z"
   },
   {
    "duration": 21,
    "start_time": "2021-11-29T11:30:05.222Z"
   },
   {
    "duration": 22,
    "start_time": "2021-11-29T11:30:07.942Z"
   },
   {
    "duration": 4,
    "start_time": "2021-11-29T11:32:40.276Z"
   },
   {
    "duration": 131,
    "start_time": "2021-11-29T11:32:40.283Z"
   },
   {
    "duration": 15,
    "start_time": "2021-11-29T11:32:40.417Z"
   },
   {
    "duration": 25,
    "start_time": "2021-11-29T11:32:40.435Z"
   },
   {
    "duration": 17,
    "start_time": "2021-11-29T11:32:40.462Z"
   },
   {
    "duration": 29,
    "start_time": "2021-11-29T11:32:40.482Z"
   },
   {
    "duration": 44,
    "start_time": "2021-11-29T11:32:40.514Z"
   },
   {
    "duration": 21,
    "start_time": "2021-11-29T11:32:40.560Z"
   },
   {
    "duration": 34,
    "start_time": "2021-11-29T11:32:40.585Z"
   },
   {
    "duration": 46,
    "start_time": "2021-11-29T11:32:40.622Z"
   },
   {
    "duration": 36,
    "start_time": "2021-11-29T11:32:40.671Z"
   },
   {
    "duration": 35,
    "start_time": "2021-11-29T11:32:40.709Z"
   },
   {
    "duration": 15,
    "start_time": "2021-11-29T11:32:40.746Z"
   },
   {
    "duration": 24,
    "start_time": "2021-11-29T11:32:40.764Z"
   },
   {
    "duration": 12,
    "start_time": "2021-11-29T11:32:40.790Z"
   },
   {
    "duration": 28,
    "start_time": "2021-11-29T11:32:40.804Z"
   },
   {
    "duration": 26,
    "start_time": "2021-11-29T11:32:40.835Z"
   },
   {
    "duration": 25,
    "start_time": "2021-11-29T11:32:40.863Z"
   },
   {
    "duration": 23,
    "start_time": "2021-11-29T11:32:40.890Z"
   },
   {
    "duration": 17,
    "start_time": "2021-11-29T11:32:40.916Z"
   },
   {
    "duration": 26,
    "start_time": "2021-11-29T11:32:40.935Z"
   },
   {
    "duration": 26,
    "start_time": "2021-11-29T11:32:40.963Z"
   },
   {
    "duration": 292,
    "start_time": "2021-11-29T11:32:40.991Z"
   },
   {
    "duration": 12,
    "start_time": "2021-11-29T11:32:41.285Z"
   },
   {
    "duration": 12,
    "start_time": "2021-11-29T11:32:41.299Z"
   },
   {
    "duration": 10,
    "start_time": "2021-11-29T11:32:41.314Z"
   },
   {
    "duration": 13,
    "start_time": "2021-11-29T11:32:41.328Z"
   },
   {
    "duration": 27,
    "start_time": "2021-11-29T11:32:41.344Z"
   },
   {
    "duration": 12,
    "start_time": "2021-11-29T11:32:41.373Z"
   },
   {
    "duration": 321,
    "start_time": "2021-11-29T11:32:41.388Z"
   },
   {
    "duration": 7,
    "start_time": "2021-11-29T11:32:41.712Z"
   },
   {
    "duration": 25,
    "start_time": "2021-11-29T11:32:41.722Z"
   },
   {
    "duration": 319,
    "start_time": "2021-11-29T11:32:41.749Z"
   },
   {
    "duration": 11,
    "start_time": "2021-11-29T11:32:42.071Z"
   },
   {
    "duration": 309,
    "start_time": "2021-11-29T11:32:42.084Z"
   },
   {
    "duration": 34,
    "start_time": "2021-11-29T11:32:42.396Z"
   },
   {
    "duration": 322,
    "start_time": "2021-11-29T11:32:42.433Z"
   },
   {
    "duration": 423,
    "start_time": "2021-11-29T11:32:42.757Z"
   },
   {
    "duration": 329,
    "start_time": "2021-11-29T11:32:43.182Z"
   },
   {
    "duration": 523,
    "start_time": "2021-11-29T11:32:43.514Z"
   },
   {
    "duration": 370,
    "start_time": "2021-11-29T11:32:44.040Z"
   },
   {
    "duration": 9,
    "start_time": "2021-11-29T11:32:44.412Z"
   },
   {
    "duration": 10,
    "start_time": "2021-11-29T11:32:44.424Z"
   },
   {
    "duration": 56,
    "start_time": "2021-11-29T11:32:44.437Z"
   },
   {
    "duration": 7,
    "start_time": "2021-11-29T11:32:44.496Z"
   },
   {
    "duration": 19,
    "start_time": "2021-11-29T11:32:44.505Z"
   },
   {
    "duration": 1172,
    "start_time": "2021-11-29T11:37:11.842Z"
   },
   {
    "duration": 149,
    "start_time": "2021-11-29T11:37:13.018Z"
   },
   {
    "duration": 15,
    "start_time": "2021-11-29T11:37:13.170Z"
   },
   {
    "duration": 64,
    "start_time": "2021-11-29T11:37:13.188Z"
   },
   {
    "duration": 17,
    "start_time": "2021-11-29T11:37:13.254Z"
   },
   {
    "duration": 21,
    "start_time": "2021-11-29T11:37:13.274Z"
   },
   {
    "duration": 38,
    "start_time": "2021-11-29T11:37:13.298Z"
   },
   {
    "duration": 30,
    "start_time": "2021-11-29T11:37:13.339Z"
   },
   {
    "duration": 35,
    "start_time": "2021-11-29T11:37:13.373Z"
   },
   {
    "duration": 50,
    "start_time": "2021-11-29T11:37:13.411Z"
   },
   {
    "duration": 12,
    "start_time": "2021-11-29T11:37:13.464Z"
   },
   {
    "duration": 17,
    "start_time": "2021-11-29T11:37:13.479Z"
   },
   {
    "duration": 37,
    "start_time": "2021-11-29T11:37:13.499Z"
   },
   {
    "duration": 28,
    "start_time": "2021-11-29T11:37:13.539Z"
   },
   {
    "duration": 14,
    "start_time": "2021-11-29T11:37:13.569Z"
   },
   {
    "duration": 16,
    "start_time": "2021-11-29T11:37:13.586Z"
   },
   {
    "duration": 26,
    "start_time": "2021-11-29T11:37:13.605Z"
   },
   {
    "duration": 27,
    "start_time": "2021-11-29T11:37:13.635Z"
   },
   {
    "duration": 7,
    "start_time": "2021-11-29T11:37:13.665Z"
   },
   {
    "duration": 26,
    "start_time": "2021-11-29T11:37:13.675Z"
   },
   {
    "duration": 31,
    "start_time": "2021-11-29T11:37:13.704Z"
   },
   {
    "duration": 38,
    "start_time": "2021-11-29T11:37:13.738Z"
   },
   {
    "duration": 331,
    "start_time": "2021-11-29T11:37:13.779Z"
   },
   {
    "duration": 21,
    "start_time": "2021-11-29T11:37:14.113Z"
   },
   {
    "duration": 7,
    "start_time": "2021-11-29T11:37:14.137Z"
   },
   {
    "duration": 8,
    "start_time": "2021-11-29T11:37:14.161Z"
   },
   {
    "duration": 30,
    "start_time": "2021-11-29T11:37:14.176Z"
   },
   {
    "duration": 12,
    "start_time": "2021-11-29T11:37:14.209Z"
   },
   {
    "duration": 23,
    "start_time": "2021-11-29T11:37:14.224Z"
   },
   {
    "duration": 334,
    "start_time": "2021-11-29T11:37:14.250Z"
   },
   {
    "duration": 6,
    "start_time": "2021-11-29T11:37:14.587Z"
   },
   {
    "duration": 28,
    "start_time": "2021-11-29T11:37:14.595Z"
   },
   {
    "duration": 318,
    "start_time": "2021-11-29T11:37:14.625Z"
   },
   {
    "duration": 17,
    "start_time": "2021-11-29T11:37:14.945Z"
   },
   {
    "duration": 364,
    "start_time": "2021-11-29T11:37:14.964Z"
   },
   {
    "duration": 50,
    "start_time": "2021-11-29T11:37:15.331Z"
   },
   {
    "duration": 322,
    "start_time": "2021-11-29T11:37:15.384Z"
   },
   {
    "duration": 343,
    "start_time": "2021-11-29T11:37:15.710Z"
   },
   {
    "duration": 466,
    "start_time": "2021-11-29T11:37:16.060Z"
   },
   {
    "duration": 549,
    "start_time": "2021-11-29T11:37:16.529Z"
   },
   {
    "duration": 326,
    "start_time": "2021-11-29T11:37:17.081Z"
   },
   {
    "duration": 11,
    "start_time": "2021-11-29T11:37:17.410Z"
   },
   {
    "duration": 10,
    "start_time": "2021-11-29T11:37:17.424Z"
   },
   {
    "duration": 63,
    "start_time": "2021-11-29T11:37:17.437Z"
   },
   {
    "duration": 6,
    "start_time": "2021-11-29T11:37:17.502Z"
   },
   {
    "duration": 49,
    "start_time": "2021-11-29T11:37:17.511Z"
   },
   {
    "duration": 21,
    "start_time": "2021-11-29T11:37:17.562Z"
   },
   {
    "duration": 20,
    "start_time": "2021-11-29T11:37:25.371Z"
   },
   {
    "duration": 19,
    "start_time": "2021-11-29T11:37:34.427Z"
   },
   {
    "duration": 7,
    "start_time": "2021-11-29T12:25:24.603Z"
   },
   {
    "duration": 6,
    "start_time": "2021-11-29T12:33:08.341Z"
   },
   {
    "duration": 302,
    "start_time": "2021-11-29T12:50:33.081Z"
   },
   {
    "duration": 895,
    "start_time": "2021-11-29T12:59:57.183Z"
   },
   {
    "duration": 116,
    "start_time": "2021-11-29T12:59:58.081Z"
   },
   {
    "duration": 16,
    "start_time": "2021-11-29T12:59:58.200Z"
   },
   {
    "duration": 30,
    "start_time": "2021-11-29T12:59:58.219Z"
   },
   {
    "duration": 10,
    "start_time": "2021-11-29T12:59:58.251Z"
   },
   {
    "duration": 11,
    "start_time": "2021-11-29T12:59:58.263Z"
   },
   {
    "duration": 30,
    "start_time": "2021-11-29T12:59:58.277Z"
   },
   {
    "duration": 51,
    "start_time": "2021-11-29T12:59:58.309Z"
   },
   {
    "duration": 35,
    "start_time": "2021-11-29T12:59:58.364Z"
   },
   {
    "duration": 25,
    "start_time": "2021-11-29T12:59:58.402Z"
   },
   {
    "duration": 36,
    "start_time": "2021-11-29T12:59:58.430Z"
   },
   {
    "duration": 14,
    "start_time": "2021-11-29T12:59:58.468Z"
   },
   {
    "duration": 12,
    "start_time": "2021-11-29T12:59:58.485Z"
   },
   {
    "duration": 11,
    "start_time": "2021-11-29T12:59:58.499Z"
   },
   {
    "duration": 49,
    "start_time": "2021-11-29T12:59:58.512Z"
   },
   {
    "duration": 9,
    "start_time": "2021-11-29T12:59:58.563Z"
   },
   {
    "duration": 16,
    "start_time": "2021-11-29T12:59:58.574Z"
   },
   {
    "duration": 11,
    "start_time": "2021-11-29T12:59:58.592Z"
   },
   {
    "duration": 9,
    "start_time": "2021-11-29T12:59:58.606Z"
   },
   {
    "duration": 41,
    "start_time": "2021-11-29T12:59:58.618Z"
   },
   {
    "duration": 18,
    "start_time": "2021-11-29T12:59:58.662Z"
   },
   {
    "duration": 14,
    "start_time": "2021-11-29T12:59:58.683Z"
   },
   {
    "duration": 319,
    "start_time": "2021-11-29T12:59:58.700Z"
   },
   {
    "duration": 18,
    "start_time": "2021-11-29T12:59:59.022Z"
   },
   {
    "duration": 18,
    "start_time": "2021-11-29T12:59:59.044Z"
   },
   {
    "duration": 7,
    "start_time": "2021-11-29T12:59:59.065Z"
   },
   {
    "duration": 13,
    "start_time": "2021-11-29T12:59:59.077Z"
   },
   {
    "duration": 21,
    "start_time": "2021-11-29T12:59:59.093Z"
   },
   {
    "duration": 17,
    "start_time": "2021-11-29T12:59:59.116Z"
   },
   {
    "duration": 337,
    "start_time": "2021-11-29T12:59:59.136Z"
   },
   {
    "duration": 6,
    "start_time": "2021-11-29T12:59:59.475Z"
   },
   {
    "duration": 26,
    "start_time": "2021-11-29T12:59:59.484Z"
   },
   {
    "duration": 328,
    "start_time": "2021-11-29T12:59:59.513Z"
   },
   {
    "duration": 19,
    "start_time": "2021-11-29T12:59:59.844Z"
   },
   {
    "duration": 321,
    "start_time": "2021-11-29T12:59:59.865Z"
   },
   {
    "duration": 33,
    "start_time": "2021-11-29T13:00:00.189Z"
   },
   {
    "duration": 390,
    "start_time": "2021-11-29T13:00:00.225Z"
   },
   {
    "duration": 352,
    "start_time": "2021-11-29T13:00:00.618Z"
   },
   {
    "duration": 341,
    "start_time": "2021-11-29T13:00:00.972Z"
   },
   {
    "duration": 594,
    "start_time": "2021-11-29T13:00:01.315Z"
   },
   {
    "duration": 6,
    "start_time": "2021-11-29T13:00:01.912Z"
   },
   {
    "duration": 342,
    "start_time": "2021-11-29T13:00:01.921Z"
   },
   {
    "duration": 9,
    "start_time": "2021-11-29T13:00:02.265Z"
   },
   {
    "duration": 35,
    "start_time": "2021-11-29T13:00:02.276Z"
   },
   {
    "duration": 55,
    "start_time": "2021-11-29T13:00:02.314Z"
   },
   {
    "duration": 7,
    "start_time": "2021-11-29T13:00:02.371Z"
   },
   {
    "duration": 28,
    "start_time": "2021-11-29T13:00:02.380Z"
   },
   {
    "duration": 46,
    "start_time": "2021-11-29T13:00:02.410Z"
   },
   {
    "duration": 924,
    "start_time": "2021-11-29T15:44:56.509Z"
   },
   {
    "duration": 122,
    "start_time": "2021-11-29T15:44:57.435Z"
   },
   {
    "duration": 17,
    "start_time": "2021-11-29T15:44:57.560Z"
   },
   {
    "duration": 38,
    "start_time": "2021-11-29T15:44:57.580Z"
   },
   {
    "duration": 10,
    "start_time": "2021-11-29T15:44:57.621Z"
   },
   {
    "duration": 14,
    "start_time": "2021-11-29T15:44:57.633Z"
   },
   {
    "duration": 31,
    "start_time": "2021-11-29T15:44:57.649Z"
   },
   {
    "duration": 21,
    "start_time": "2021-11-29T15:44:57.703Z"
   },
   {
    "duration": 34,
    "start_time": "2021-11-29T15:44:57.727Z"
   },
   {
    "duration": 56,
    "start_time": "2021-11-29T15:44:57.764Z"
   },
   {
    "duration": 10,
    "start_time": "2021-11-29T15:44:57.822Z"
   },
   {
    "duration": 12,
    "start_time": "2021-11-29T15:44:57.835Z"
   },
   {
    "duration": 12,
    "start_time": "2021-11-29T15:44:57.849Z"
   },
   {
    "duration": 10,
    "start_time": "2021-11-29T15:44:57.900Z"
   },
   {
    "duration": 22,
    "start_time": "2021-11-29T15:44:57.913Z"
   },
   {
    "duration": 12,
    "start_time": "2021-11-29T15:44:57.937Z"
   },
   {
    "duration": 14,
    "start_time": "2021-11-29T15:44:57.951Z"
   },
   {
    "duration": 40,
    "start_time": "2021-11-29T15:44:57.967Z"
   },
   {
    "duration": 11,
    "start_time": "2021-11-29T15:44:58.009Z"
   },
   {
    "duration": 14,
    "start_time": "2021-11-29T15:44:58.022Z"
   },
   {
    "duration": 24,
    "start_time": "2021-11-29T15:44:58.039Z"
   },
   {
    "duration": 17,
    "start_time": "2021-11-29T15:44:58.066Z"
   },
   {
    "duration": 305,
    "start_time": "2021-11-29T15:44:58.105Z"
   },
   {
    "duration": 19,
    "start_time": "2021-11-29T15:44:58.414Z"
   },
   {
    "duration": 6,
    "start_time": "2021-11-29T15:44:58.436Z"
   },
   {
    "duration": 8,
    "start_time": "2021-11-29T15:44:58.444Z"
   },
   {
    "duration": 15,
    "start_time": "2021-11-29T15:44:58.454Z"
   },
   {
    "duration": 35,
    "start_time": "2021-11-29T15:44:58.472Z"
   },
   {
    "duration": 13,
    "start_time": "2021-11-29T15:44:58.509Z"
   },
   {
    "duration": 333,
    "start_time": "2021-11-29T15:44:58.525Z"
   },
   {
    "duration": 6,
    "start_time": "2021-11-29T15:44:58.860Z"
   },
   {
    "duration": 36,
    "start_time": "2021-11-29T15:44:58.869Z"
   },
   {
    "duration": 320,
    "start_time": "2021-11-29T15:44:58.908Z"
   },
   {
    "duration": 10,
    "start_time": "2021-11-29T15:44:59.232Z"
   },
   {
    "duration": 331,
    "start_time": "2021-11-29T15:44:59.244Z"
   },
   {
    "duration": 47,
    "start_time": "2021-11-29T15:44:59.577Z"
   },
   {
    "duration": 396,
    "start_time": "2021-11-29T15:44:59.626Z"
   },
   {
    "duration": 336,
    "start_time": "2021-11-29T15:45:00.025Z"
   },
   {
    "duration": 353,
    "start_time": "2021-11-29T15:45:00.364Z"
   },
   {
    "duration": 563,
    "start_time": "2021-11-29T15:45:00.720Z"
   },
   {
    "duration": 19,
    "start_time": "2021-11-29T15:45:01.285Z"
   },
   {
    "duration": 330,
    "start_time": "2021-11-29T15:45:01.306Z"
   },
   {
    "duration": 10,
    "start_time": "2021-11-29T15:45:01.638Z"
   },
   {
    "duration": 36,
    "start_time": "2021-11-29T15:45:01.650Z"
   },
   {
    "duration": 118,
    "start_time": "2021-11-29T15:45:01.688Z"
   },
   {
    "duration": 95,
    "start_time": "2021-11-29T15:45:01.809Z"
   },
   {
    "duration": 81,
    "start_time": "2021-11-29T15:45:01.906Z"
   },
   {
    "duration": 101,
    "start_time": "2021-11-29T15:45:01.990Z"
   },
   {
    "duration": 104,
    "start_time": "2021-11-29T16:01:26.338Z"
   },
   {
    "duration": 95,
    "start_time": "2021-11-29T16:04:35.618Z"
   },
   {
    "duration": 343,
    "start_time": "2021-11-29T16:06:44.415Z"
   },
   {
    "duration": 354,
    "start_time": "2021-11-29T16:07:16.121Z"
   },
   {
    "duration": 153,
    "start_time": "2021-11-29T16:13:00.119Z"
   },
   {
    "duration": 87,
    "start_time": "2021-11-29T16:13:08.608Z"
   },
   {
    "duration": 481,
    "start_time": "2021-11-29T16:13:17.309Z"
   },
   {
    "duration": 768,
    "start_time": "2021-11-30T09:05:05.762Z"
   },
   {
    "duration": 110,
    "start_time": "2021-11-30T09:05:06.532Z"
   },
   {
    "duration": 15,
    "start_time": "2021-11-30T09:05:06.645Z"
   },
   {
    "duration": 20,
    "start_time": "2021-11-30T09:05:06.662Z"
   },
   {
    "duration": 5,
    "start_time": "2021-11-30T09:05:06.684Z"
   },
   {
    "duration": 15,
    "start_time": "2021-11-30T09:05:06.691Z"
   },
   {
    "duration": 25,
    "start_time": "2021-11-30T09:05:06.708Z"
   },
   {
    "duration": 15,
    "start_time": "2021-11-30T09:05:06.735Z"
   },
   {
    "duration": 25,
    "start_time": "2021-11-30T09:05:06.753Z"
   },
   {
    "duration": 38,
    "start_time": "2021-11-30T09:05:06.780Z"
   },
   {
    "duration": 11,
    "start_time": "2021-11-30T09:05:06.821Z"
   },
   {
    "duration": 8,
    "start_time": "2021-11-30T09:05:06.834Z"
   },
   {
    "duration": 8,
    "start_time": "2021-11-30T09:05:06.844Z"
   },
   {
    "duration": 14,
    "start_time": "2021-11-30T09:05:06.854Z"
   },
   {
    "duration": 12,
    "start_time": "2021-11-30T09:05:06.869Z"
   },
   {
    "duration": 30,
    "start_time": "2021-11-30T09:05:06.883Z"
   },
   {
    "duration": 16,
    "start_time": "2021-11-30T09:05:06.915Z"
   },
   {
    "duration": 30,
    "start_time": "2021-11-30T09:05:06.932Z"
   },
   {
    "duration": 399,
    "start_time": "2021-11-30T09:05:10.242Z"
   },
   {
    "duration": 4,
    "start_time": "2021-11-30T09:06:54.583Z"
   },
   {
    "duration": 12,
    "start_time": "2021-11-30T09:07:43.763Z"
   },
   {
    "duration": 9,
    "start_time": "2021-11-30T09:08:02.042Z"
   },
   {
    "duration": 350,
    "start_time": "2021-11-30T09:09:47.694Z"
   },
   {
    "duration": 3,
    "start_time": "2021-11-30T09:09:55.154Z"
   },
   {
    "duration": 111,
    "start_time": "2021-11-30T09:09:55.162Z"
   },
   {
    "duration": 10,
    "start_time": "2021-11-30T09:09:55.275Z"
   },
   {
    "duration": 17,
    "start_time": "2021-11-30T09:09:55.287Z"
   },
   {
    "duration": 9,
    "start_time": "2021-11-30T09:09:55.306Z"
   },
   {
    "duration": 9,
    "start_time": "2021-11-30T09:09:55.317Z"
   },
   {
    "duration": 22,
    "start_time": "2021-11-30T09:09:55.328Z"
   },
   {
    "duration": 15,
    "start_time": "2021-11-30T09:09:55.352Z"
   },
   {
    "duration": 58,
    "start_time": "2021-11-30T09:09:55.369Z"
   },
   {
    "duration": 17,
    "start_time": "2021-11-30T09:09:55.430Z"
   },
   {
    "duration": 21,
    "start_time": "2021-11-30T09:09:55.449Z"
   },
   {
    "duration": 13,
    "start_time": "2021-11-30T09:09:55.472Z"
   },
   {
    "duration": 9,
    "start_time": "2021-11-30T09:09:55.486Z"
   },
   {
    "duration": 7,
    "start_time": "2021-11-30T09:09:55.506Z"
   },
   {
    "duration": 11,
    "start_time": "2021-11-30T09:09:55.514Z"
   },
   {
    "duration": 17,
    "start_time": "2021-11-30T09:09:55.527Z"
   },
   {
    "duration": 8,
    "start_time": "2021-11-30T09:09:55.546Z"
   },
   {
    "duration": 10,
    "start_time": "2021-11-30T09:09:55.555Z"
   },
   {
    "duration": 10,
    "start_time": "2021-11-30T09:09:55.567Z"
   },
   {
    "duration": 31,
    "start_time": "2021-11-30T09:09:55.578Z"
   },
   {
    "duration": 9,
    "start_time": "2021-11-30T09:09:55.610Z"
   },
   {
    "duration": 726,
    "start_time": "2021-11-30T09:09:55.621Z"
   },
   {
    "duration": 189,
    "start_time": "2021-11-30T09:09:56.160Z"
   },
   {
    "duration": 186,
    "start_time": "2021-11-30T09:09:56.164Z"
   },
   {
    "duration": 178,
    "start_time": "2021-11-30T09:09:56.173Z"
   },
   {
    "duration": 174,
    "start_time": "2021-11-30T09:09:56.178Z"
   },
   {
    "duration": 169,
    "start_time": "2021-11-30T09:09:56.183Z"
   },
   {
    "duration": 162,
    "start_time": "2021-11-30T09:09:56.191Z"
   },
   {
    "duration": 158,
    "start_time": "2021-11-30T09:09:56.196Z"
   },
   {
    "duration": 155,
    "start_time": "2021-11-30T09:09:56.200Z"
   },
   {
    "duration": 151,
    "start_time": "2021-11-30T09:09:56.205Z"
   },
   {
    "duration": 146,
    "start_time": "2021-11-30T09:09:56.210Z"
   },
   {
    "duration": 143,
    "start_time": "2021-11-30T09:09:56.214Z"
   },
   {
    "duration": 139,
    "start_time": "2021-11-30T09:09:56.219Z"
   },
   {
    "duration": 135,
    "start_time": "2021-11-30T09:09:56.224Z"
   },
   {
    "duration": 3,
    "start_time": "2021-11-30T09:22:25.901Z"
   },
   {
    "duration": 123,
    "start_time": "2021-11-30T09:22:25.907Z"
   },
   {
    "duration": 13,
    "start_time": "2021-11-30T09:22:26.033Z"
   },
   {
    "duration": 17,
    "start_time": "2021-11-30T09:22:26.048Z"
   },
   {
    "duration": 9,
    "start_time": "2021-11-30T09:22:26.067Z"
   },
   {
    "duration": 11,
    "start_time": "2021-11-30T09:22:26.078Z"
   },
   {
    "duration": 27,
    "start_time": "2021-11-30T09:22:26.091Z"
   },
   {
    "duration": 16,
    "start_time": "2021-11-30T09:22:26.119Z"
   },
   {
    "duration": 23,
    "start_time": "2021-11-30T09:22:26.138Z"
   },
   {
    "duration": 17,
    "start_time": "2021-11-30T09:22:26.164Z"
   },
   {
    "duration": 7,
    "start_time": "2021-11-30T09:22:26.206Z"
   },
   {
    "duration": 8,
    "start_time": "2021-11-30T09:22:26.215Z"
   },
   {
    "duration": 9,
    "start_time": "2021-11-30T09:22:26.225Z"
   },
   {
    "duration": 15,
    "start_time": "2021-11-30T09:22:26.236Z"
   },
   {
    "duration": 9,
    "start_time": "2021-11-30T09:22:26.253Z"
   },
   {
    "duration": 5,
    "start_time": "2021-11-30T09:22:26.264Z"
   },
   {
    "duration": 36,
    "start_time": "2021-11-30T09:22:26.271Z"
   },
   {
    "duration": 9,
    "start_time": "2021-11-30T09:22:26.309Z"
   },
   {
    "duration": 5,
    "start_time": "2021-11-30T09:22:26.320Z"
   },
   {
    "duration": 12,
    "start_time": "2021-11-30T09:22:26.327Z"
   },
   {
    "duration": 15,
    "start_time": "2021-11-30T09:22:26.340Z"
   },
   {
    "duration": 10,
    "start_time": "2021-11-30T09:22:26.357Z"
   },
   {
    "duration": 206,
    "start_time": "2021-11-30T09:22:26.368Z"
   },
   {
    "duration": 3,
    "start_time": "2021-11-30T09:23:27.219Z"
   },
   {
    "duration": 107,
    "start_time": "2021-11-30T09:23:27.224Z"
   },
   {
    "duration": 11,
    "start_time": "2021-11-30T09:23:27.334Z"
   },
   {
    "duration": 22,
    "start_time": "2021-11-30T09:23:27.347Z"
   },
   {
    "duration": 13,
    "start_time": "2021-11-30T09:23:27.371Z"
   },
   {
    "duration": 16,
    "start_time": "2021-11-30T09:23:27.386Z"
   },
   {
    "duration": 25,
    "start_time": "2021-11-30T09:23:27.404Z"
   },
   {
    "duration": 14,
    "start_time": "2021-11-30T09:23:27.432Z"
   },
   {
    "duration": 31,
    "start_time": "2021-11-30T09:23:27.448Z"
   },
   {
    "duration": 28,
    "start_time": "2021-11-30T09:23:27.481Z"
   },
   {
    "duration": 18,
    "start_time": "2021-11-30T09:23:27.511Z"
   },
   {
    "duration": 16,
    "start_time": "2021-11-30T09:23:27.531Z"
   },
   {
    "duration": 17,
    "start_time": "2021-11-30T09:23:27.549Z"
   },
   {
    "duration": 10,
    "start_time": "2021-11-30T09:23:27.568Z"
   },
   {
    "duration": 11,
    "start_time": "2021-11-30T09:23:27.580Z"
   },
   {
    "duration": 17,
    "start_time": "2021-11-30T09:23:27.593Z"
   },
   {
    "duration": 9,
    "start_time": "2021-11-30T09:23:27.612Z"
   },
   {
    "duration": 12,
    "start_time": "2021-11-30T09:23:27.623Z"
   },
   {
    "duration": 8,
    "start_time": "2021-11-30T09:23:27.636Z"
   },
   {
    "duration": 11,
    "start_time": "2021-11-30T09:23:27.646Z"
   },
   {
    "duration": 14,
    "start_time": "2021-11-30T09:23:27.659Z"
   },
   {
    "duration": 11,
    "start_time": "2021-11-30T09:23:27.675Z"
   },
   {
    "duration": 188,
    "start_time": "2021-11-30T09:23:27.688Z"
   },
   {
    "duration": 13,
    "start_time": "2021-11-30T09:23:27.878Z"
   },
   {
    "duration": 4,
    "start_time": "2021-11-30T09:23:27.893Z"
   },
   {
    "duration": 12,
    "start_time": "2021-11-30T09:23:27.905Z"
   },
   {
    "duration": 17,
    "start_time": "2021-11-30T09:23:27.919Z"
   },
   {
    "duration": 24,
    "start_time": "2021-11-30T09:23:27.937Z"
   },
   {
    "duration": 6,
    "start_time": "2021-11-30T09:23:27.962Z"
   },
   {
    "duration": 198,
    "start_time": "2021-11-30T09:23:27.969Z"
   },
   {
    "duration": 4,
    "start_time": "2021-11-30T09:23:28.169Z"
   },
   {
    "duration": 11,
    "start_time": "2021-11-30T09:23:28.174Z"
   },
   {
    "duration": 190,
    "start_time": "2021-11-30T09:23:28.187Z"
   },
   {
    "duration": 6,
    "start_time": "2021-11-30T09:23:28.379Z"
   },
   {
    "duration": 199,
    "start_time": "2021-11-30T09:23:28.387Z"
   },
   {
    "duration": 29,
    "start_time": "2021-11-30T09:23:28.587Z"
   },
   {
    "duration": 258,
    "start_time": "2021-11-30T09:25:02.139Z"
   },
   {
    "duration": 210,
    "start_time": "2021-11-30T09:25:48.419Z"
   },
   {
    "duration": 22,
    "start_time": "2021-11-30T09:26:55.879Z"
   },
   {
    "duration": 214,
    "start_time": "2021-11-30T09:26:56.888Z"
   },
   {
    "duration": 239,
    "start_time": "2021-11-30T09:28:03.259Z"
   },
   {
    "duration": 189,
    "start_time": "2021-11-30T09:31:43.356Z"
   },
   {
    "duration": 183,
    "start_time": "2021-11-30T09:31:57.196Z"
   },
   {
    "duration": 182,
    "start_time": "2021-11-30T09:32:25.486Z"
   },
   {
    "duration": 122,
    "start_time": "2021-11-30T09:39:32.173Z"
   },
   {
    "duration": 21,
    "start_time": "2021-11-30T09:39:40.675Z"
   },
   {
    "duration": 121,
    "start_time": "2021-11-30T09:39:57.810Z"
   },
   {
    "duration": 305,
    "start_time": "2021-11-30T09:40:03.628Z"
   },
   {
    "duration": 319,
    "start_time": "2021-11-30T09:42:09.906Z"
   },
   {
    "duration": 192,
    "start_time": "2021-11-30T09:45:01.526Z"
   },
   {
    "duration": 307,
    "start_time": "2021-11-30T09:45:36.607Z"
   },
   {
    "duration": 368,
    "start_time": "2021-11-30T09:46:12.229Z"
   },
   {
    "duration": 7,
    "start_time": "2021-11-30T09:49:09.118Z"
   },
   {
    "duration": 3,
    "start_time": "2021-11-30T09:50:34.098Z"
   },
   {
    "duration": 366,
    "start_time": "2021-11-30T09:50:46.710Z"
   },
   {
    "duration": 300,
    "start_time": "2021-11-30T09:50:52.306Z"
   },
   {
    "duration": 176,
    "start_time": "2021-11-30T09:56:35.517Z"
   },
   {
    "duration": 184,
    "start_time": "2021-11-30T09:57:56.487Z"
   },
   {
    "duration": 178,
    "start_time": "2021-11-30T09:58:11.957Z"
   },
   {
    "duration": 180,
    "start_time": "2021-11-30T09:58:54.037Z"
   },
   {
    "duration": 184,
    "start_time": "2021-11-30T10:04:59.645Z"
   },
   {
    "duration": 186,
    "start_time": "2021-11-30T10:06:28.417Z"
   },
   {
    "duration": 197,
    "start_time": "2021-11-30T10:09:07.258Z"
   },
   {
    "duration": 200,
    "start_time": "2021-11-30T10:11:33.445Z"
   },
   {
    "duration": 709,
    "start_time": "2021-11-30T10:17:07.115Z"
   },
   {
    "duration": 121,
    "start_time": "2021-11-30T10:17:07.826Z"
   },
   {
    "duration": 12,
    "start_time": "2021-11-30T10:17:07.949Z"
   },
   {
    "duration": 29,
    "start_time": "2021-11-30T10:17:07.963Z"
   },
   {
    "duration": 11,
    "start_time": "2021-11-30T10:17:07.994Z"
   },
   {
    "duration": 26,
    "start_time": "2021-11-30T10:17:08.006Z"
   },
   {
    "duration": 29,
    "start_time": "2021-11-30T10:17:08.033Z"
   },
   {
    "duration": 17,
    "start_time": "2021-11-30T10:17:08.064Z"
   },
   {
    "duration": 26,
    "start_time": "2021-11-30T10:17:08.084Z"
   },
   {
    "duration": 17,
    "start_time": "2021-11-30T10:17:08.113Z"
   },
   {
    "duration": 15,
    "start_time": "2021-11-30T10:17:08.132Z"
   },
   {
    "duration": 16,
    "start_time": "2021-11-30T10:17:08.149Z"
   },
   {
    "duration": 29,
    "start_time": "2021-11-30T10:17:08.167Z"
   },
   {
    "duration": 16,
    "start_time": "2021-11-30T10:17:08.198Z"
   },
   {
    "duration": 12,
    "start_time": "2021-11-30T10:17:08.216Z"
   },
   {
    "duration": 9,
    "start_time": "2021-11-30T10:17:08.230Z"
   },
   {
    "duration": 15,
    "start_time": "2021-11-30T10:17:08.240Z"
   },
   {
    "duration": 8,
    "start_time": "2021-11-30T10:17:08.256Z"
   },
   {
    "duration": 11,
    "start_time": "2021-11-30T10:17:08.266Z"
   },
   {
    "duration": 10,
    "start_time": "2021-11-30T10:17:08.278Z"
   },
   {
    "duration": 24,
    "start_time": "2021-11-30T10:17:08.289Z"
   },
   {
    "duration": 9,
    "start_time": "2021-11-30T10:17:08.314Z"
   },
   {
    "duration": 193,
    "start_time": "2021-11-30T10:17:08.324Z"
   },
   {
    "duration": 13,
    "start_time": "2021-11-30T10:17:08.519Z"
   },
   {
    "duration": 4,
    "start_time": "2021-11-30T10:17:08.533Z"
   },
   {
    "duration": 12,
    "start_time": "2021-11-30T10:17:08.539Z"
   },
   {
    "duration": 9,
    "start_time": "2021-11-30T10:17:08.555Z"
   },
   {
    "duration": 9,
    "start_time": "2021-11-30T10:17:08.565Z"
   },
   {
    "duration": 6,
    "start_time": "2021-11-30T10:17:08.576Z"
   },
   {
    "duration": 227,
    "start_time": "2021-11-30T10:17:08.583Z"
   },
   {
    "duration": 5,
    "start_time": "2021-11-30T10:17:08.811Z"
   },
   {
    "duration": 18,
    "start_time": "2021-11-30T10:17:08.818Z"
   },
   {
    "duration": 197,
    "start_time": "2021-11-30T10:17:08.838Z"
   },
   {
    "duration": 6,
    "start_time": "2021-11-30T10:17:09.038Z"
   },
   {
    "duration": 207,
    "start_time": "2021-11-30T10:17:09.046Z"
   },
   {
    "duration": 23,
    "start_time": "2021-11-30T10:17:09.255Z"
   },
   {
    "duration": 294,
    "start_time": "2021-11-30T10:17:09.280Z"
   },
   {
    "duration": 203,
    "start_time": "2021-11-30T10:17:09.576Z"
   },
   {
    "duration": 329,
    "start_time": "2021-11-30T10:17:09.781Z"
   },
   {
    "duration": 4,
    "start_time": "2021-11-30T10:17:10.112Z"
   },
   {
    "duration": 204,
    "start_time": "2021-11-30T10:17:10.117Z"
   },
   {
    "duration": 7,
    "start_time": "2021-11-30T10:17:10.322Z"
   },
   {
    "duration": 15,
    "start_time": "2021-11-30T10:17:10.330Z"
   },
   {
    "duration": 31,
    "start_time": "2021-11-30T10:17:10.347Z"
   },
   {
    "duration": 4,
    "start_time": "2021-11-30T10:17:10.380Z"
   },
   {
    "duration": 215,
    "start_time": "2021-11-30T10:17:10.386Z"
   },
   {
    "duration": 206,
    "start_time": "2021-11-30T10:17:10.606Z"
   },
   {
    "duration": 14,
    "start_time": "2021-11-30T10:17:10.813Z"
   },
   {
    "duration": 26,
    "start_time": "2021-11-30T10:17:10.829Z"
   }
  ],
  "colab": {
   "name": "DA+. Сборный проект 1. Шаблон (1).ipynb",
   "provenance": []
  },
  "kernelspec": {
   "display_name": "Python 3 (ipykernel)",
   "language": "python",
   "name": "python3"
  },
  "language_info": {
   "codemirror_mode": {
    "name": "ipython",
    "version": 3
   },
   "file_extension": ".py",
   "mimetype": "text/x-python",
   "name": "python",
   "nbconvert_exporter": "python",
   "pygments_lexer": "ipython3",
   "version": "3.9.12"
  },
  "toc": {
   "base_numbering": 1,
   "nav_menu": {},
   "number_sections": true,
   "sideBar": true,
   "skip_h1_title": true,
   "title_cell": "Table of Contents",
   "title_sidebar": "Contents",
   "toc_cell": false,
   "toc_position": {
    "height": "calc(100% - 180px)",
    "left": "10px",
    "top": "150px",
    "width": "375.375px"
   },
   "toc_section_display": true,
   "toc_window_display": true
  }
 },
 "nbformat": 4,
 "nbformat_minor": 1
}
